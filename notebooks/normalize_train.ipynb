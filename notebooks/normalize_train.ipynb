{
 "cells": [
  {
   "cell_type": "code",
   "execution_count": 1,
   "id": "4e2906c2",
   "metadata": {
    "execution": {
     "iopub.execute_input": "2024-05-29T14:36:55.854286Z",
     "iopub.status.busy": "2024-05-29T14:36:55.853866Z",
     "iopub.status.idle": "2024-05-29T14:37:06.504087Z",
     "shell.execute_reply": "2024-05-29T14:37:06.503428Z"
    },
    "papermill": {
     "duration": 10.654756,
     "end_time": "2024-05-29T14:37:06.505574",
     "exception": false,
     "start_time": "2024-05-29T14:36:55.850818",
     "status": "completed"
    },
    "tags": []
   },
   "outputs": [
    {
     "data": {
      "text/html": [
       "<div><style>\n",
       ".dataframe > thead > tr,\n",
       ".dataframe > tbody > tr {\n",
       "  text-align: right;\n",
       "  white-space: pre-wrap;\n",
       "}\n",
       "</style>\n",
       "<small>shape: (150_228_869, 10)</small><table border=\"1\" class=\"dataframe\"><thead><tr><th>impression_id</th><th>article</th><th>user_id</th><th>emb_bert_icm_recsys</th><th>emb_contrastive_icm_recsys</th><th>emb_emotions_icm_recsys</th><th>emb_roberta_icm_recsys</th><th>emb_w_2_vec_icm_recsys</th><th>emb_kenneth_icm_recsys</th><th>emb_distilbert_icm_recsys</th></tr><tr><td>u32</td><td>i32</td><td>u32</td><td>f32</td><td>f32</td><td>f32</td><td>f32</td><td>f32</td><td>f32</td><td>f32</td></tr></thead><tbody><tr><td>555703497</td><td>9777324</td><td>10003</td><td>0.0</td><td>0.0</td><td>0.0</td><td>0.0</td><td>0.0</td><td>0.000789</td><td>0.994021</td></tr><tr><td>555703497</td><td>9783852</td><td>10003</td><td>0.00303</td><td>0.0</td><td>0.0</td><td>0.0</td><td>0.0</td><td>0.0</td><td>0.0</td></tr><tr><td>555703497</td><td>9784137</td><td>10003</td><td>0.00303</td><td>0.0</td><td>0.0</td><td>0.0</td><td>0.0</td><td>0.0</td><td>0.0</td></tr><tr><td>555703497</td><td>9784281</td><td>10003</td><td>0.0</td><td>0.0</td><td>0.0</td><td>0.0</td><td>0.0</td><td>0.0</td><td>0.0</td></tr><tr><td>555703497</td><td>9784298</td><td>10003</td><td>0.0</td><td>0.0</td><td>0.0</td><td>0.0</td><td>0.0</td><td>0.0</td><td>0.0</td></tr><tr><td>&hellip;</td><td>&hellip;</td><td>&hellip;</td><td>&hellip;</td><td>&hellip;</td><td>&hellip;</td><td>&hellip;</td><td>&hellip;</td><td>&hellip;</td><td>&hellip;</td></tr><tr><td>67184397</td><td>9786932</td><td>2590692</td><td>0.00303</td><td>0.0</td><td>0.0</td><td>0.0</td><td>0.0</td><td>0.000769</td><td>0.768407</td></tr><tr><td>67184409</td><td>9786932</td><td>2590692</td><td>0.00303</td><td>0.0</td><td>0.0</td><td>0.0</td><td>0.0</td><td>0.000769</td><td>0.768407</td></tr><tr><td>67184399</td><td>9786932</td><td>2590692</td><td>0.00303</td><td>0.0</td><td>0.0</td><td>0.0</td><td>0.0</td><td>0.000769</td><td>0.768407</td></tr><tr><td>67184408</td><td>9786932</td><td>2590692</td><td>0.00303</td><td>0.0</td><td>0.0</td><td>0.0</td><td>0.0</td><td>0.000769</td><td>0.768407</td></tr><tr><td>67184404</td><td>9786932</td><td>2590692</td><td>0.00303</td><td>0.0</td><td>0.0</td><td>0.0</td><td>0.0</td><td>0.000769</td><td>0.768407</td></tr></tbody></table></div>"
      ],
      "text/plain": [
       "shape: (150_228_869, 10)\n",
       "┌────────────┬─────────┬─────────┬────────────┬───┬────────────┬───────────┬───────────┬───────────┐\n",
       "│ impression ┆ article ┆ user_id ┆ emb_bert_i ┆ … ┆ emb_robert ┆ emb_w_2_v ┆ emb_kenne ┆ emb_disti │\n",
       "│ _id        ┆ ---     ┆ ---     ┆ cm_recsys  ┆   ┆ a_icm_recs ┆ ec_icm_re ┆ th_icm_re ┆ lbert_icm │\n",
       "│ ---        ┆ i32     ┆ u32     ┆ ---        ┆   ┆ ys         ┆ csys      ┆ csys      ┆ _recsys   │\n",
       "│ u32        ┆         ┆         ┆ f32        ┆   ┆ ---        ┆ ---       ┆ ---       ┆ ---       │\n",
       "│            ┆         ┆         ┆            ┆   ┆ f32        ┆ f32       ┆ f32       ┆ f32       │\n",
       "╞════════════╪═════════╪═════════╪════════════╪═══╪════════════╪═══════════╪═══════════╪═══════════╡\n",
       "│ 555703497  ┆ 9777324 ┆ 10003   ┆ 0.0        ┆ … ┆ 0.0        ┆ 0.0       ┆ 0.000789  ┆ 0.994021  │\n",
       "│ 555703497  ┆ 9783852 ┆ 10003   ┆ 0.00303    ┆ … ┆ 0.0        ┆ 0.0       ┆ 0.0       ┆ 0.0       │\n",
       "│ 555703497  ┆ 9784137 ┆ 10003   ┆ 0.00303    ┆ … ┆ 0.0        ┆ 0.0       ┆ 0.0       ┆ 0.0       │\n",
       "│ 555703497  ┆ 9784281 ┆ 10003   ┆ 0.0        ┆ … ┆ 0.0        ┆ 0.0       ┆ 0.0       ┆ 0.0       │\n",
       "│ 555703497  ┆ 9784298 ┆ 10003   ┆ 0.0        ┆ … ┆ 0.0        ┆ 0.0       ┆ 0.0       ┆ 0.0       │\n",
       "│ …          ┆ …       ┆ …       ┆ …          ┆ … ┆ …          ┆ …         ┆ …         ┆ …         │\n",
       "│ 67184397   ┆ 9786932 ┆ 2590692 ┆ 0.00303    ┆ … ┆ 0.0        ┆ 0.0       ┆ 0.000769  ┆ 0.768407  │\n",
       "│ 67184409   ┆ 9786932 ┆ 2590692 ┆ 0.00303    ┆ … ┆ 0.0        ┆ 0.0       ┆ 0.000769  ┆ 0.768407  │\n",
       "│ 67184399   ┆ 9786932 ┆ 2590692 ┆ 0.00303    ┆ … ┆ 0.0        ┆ 0.0       ┆ 0.000769  ┆ 0.768407  │\n",
       "│ 67184408   ┆ 9786932 ┆ 2590692 ┆ 0.00303    ┆ … ┆ 0.0        ┆ 0.0       ┆ 0.000769  ┆ 0.768407  │\n",
       "│ 67184404   ┆ 9786932 ┆ 2590692 ┆ 0.00303    ┆ … ┆ 0.0        ┆ 0.0       ┆ 0.000769  ┆ 0.768407  │\n",
       "└────────────┴─────────┴─────────┴────────────┴───┴────────────┴───────────┴───────────┴───────────┘"
      ]
     },
     "execution_count": 1,
     "metadata": {},
     "output_type": "execute_result"
    }
   ],
   "source": [
    "import polars as pl\n",
    "from polimi.utils._polars import reduce_polars_df_memory_size\n",
    "recsys_features_train = pl.read_parquet('/mnt/ebs_volume/icm_features/recsys_validation.parquet')\n",
    "recsys_features_train"
   ]
  },
  {
   "cell_type": "code",
   "execution_count": 2,
   "id": "9f02ab6e",
   "metadata": {
    "execution": {
     "iopub.execute_input": "2024-05-29T14:37:06.511178Z",
     "iopub.status.busy": "2024-05-29T14:37:06.510620Z",
     "iopub.status.idle": "2024-05-29T14:39:20.851521Z",
     "shell.execute_reply": "2024-05-29T14:39:20.850899Z"
    },
    "papermill": {
     "duration": 134.347713,
     "end_time": "2024-05-29T14:39:20.855583",
     "exception": false,
     "start_time": "2024-05-29T14:37:06.507870",
     "status": "completed"
    },
    "tags": []
   },
   "outputs": [
    {
     "data": {
      "text/html": [
       "<div><style>\n",
       ".dataframe > thead > tr,\n",
       ".dataframe > tbody > tr {\n",
       "  text-align: right;\n",
       "  white-space: pre-wrap;\n",
       "}\n",
       "</style>\n",
       "<small>shape: (37_948_332, 301)</small><table border=\"1\" class=\"dataframe\"><thead><tr><th>impression_id</th><th>user_id</th><th>article</th><th>device_type</th><th>read_time</th><th>scroll_percentage</th><th>is_sso_user</th><th>gender</th><th>age</th><th>is_subscriber</th><th>target</th><th>trendiness_score_3d</th><th>weekday</th><th>hour</th><th>premium</th><th>category</th><th>sentiment_score</th><th>sentiment_label</th><th>num_images</th><th>title_len</th><th>subtitle_len</th><th>body_len</th><th>num_topics</th><th>article_delay_days</th><th>article_delay_hours</th><th>Entity_EVENT_Present</th><th>Entity_MISC_Present</th><th>Entity_LOC_Present</th><th>Entity_ORG_Present</th><th>Entity_PER_Present</th><th>Entity_PROD_Present</th><th>last_session_duration</th><th>mean_prev_sessions_duration</th><th>last_session_time_hour_diff</th><th>is_new_article</th><th>is_already_seen_article</th><th>yesterday_category_daily_pct</th><th>&hellip;</th><th>kurtosis_impression_trendiness_score_5d</th><th>kurtosis_impression_endorsement_10h</th><th>kurtosis_impression_total_pageviews/inviews</th><th>kurtosis_impression_mean_JS</th><th>kurtosis_impression_mean_topic_model_cosine</th><th>kurtosis_impression_topics_cosine</th><th>kurtosis_impression_article_delay_hours</th><th>kurtosis_impression_total_pageviews</th><th>kurtosis_impression_total_inviews</th><th>kurtosis_impression_trendiness_score_category</th><th>kurtosis_impression_std_JS</th><th>kurtosis_impression_total_read_time</th><th>kurtosis_impression_endorsement_10h_leak</th><th>kurtosis_impression_trendiness_score_3d_leak</th><th>kurtosis_impression_clicked_count</th><th>kurtosis_impression_inview_count</th><th>trendiness_score_3d_minus_median_impression</th><th>trendiness_score_5d_minus_median_impression</th><th>endorsement_10h_minus_median_impression</th><th>total_pageviews/inviews_minus_median_impression</th><th>mean_JS_minus_median_impression</th><th>mean_topic_model_cosine_minus_median_impression</th><th>topics_cosine_minus_median_impression</th><th>article_delay_hours_minus_median_impression</th><th>total_pageviews_minus_median_impression</th><th>total_inviews_minus_median_impression</th><th>trendiness_score_category_minus_median_impression</th><th>std_JS_minus_median_impression</th><th>total_read_time_minus_median_impression</th><th>endorsement_10h_leak_minus_median_impression</th><th>trendiness_score_3d_leak_minus_median_impression</th><th>clicked_count_minus_median_impression</th><th>inview_count_minus_median_impression</th><th>category_diversity_impression</th><th>sentiment_label_diversity_impression</th><th>article_type_diversity_impression</th><th>endorsement_20h_articleuser_l_inf_articleuser</th></tr><tr><td>u32</td><td>u32</td><td>i32</td><td>i8</td><td>f32</td><td>f32</td><td>bool</td><td>i8</td><td>i8</td><td>bool</td><td>i8</td><td>i16</td><td>i8</td><td>i8</td><td>bool</td><td>i16</td><td>f32</td><td>str</td><td>u32</td><td>u8</td><td>u8</td><td>u16</td><td>u32</td><td>i16</td><td>i32</td><td>bool</td><td>bool</td><td>bool</td><td>bool</td><td>bool</td><td>bool</td><td>i8</td><td>f32</td><td>i16</td><td>bool</td><td>bool</td><td>f32</td><td>&hellip;</td><td>f32</td><td>f32</td><td>f32</td><td>f32</td><td>f32</td><td>f32</td><td>f32</td><td>f32</td><td>f32</td><td>f32</td><td>f32</td><td>f32</td><td>f32</td><td>f32</td><td>f32</td><td>f32</td><td>f32</td><td>f32</td><td>f32</td><td>f32</td><td>f32</td><td>f32</td><td>f32</td><td>f32</td><td>f32</td><td>f32</td><td>f32</td><td>f32</td><td>f32</td><td>f32</td><td>f32</td><td>f32</td><td>f32</td><td>u8</td><td>u8</td><td>u8</td><td>f32</td></tr></thead><tbody><tr><td>96429</td><td>21814</td><td>9779807</td><td>2</td><td>19.0</td><td>null</td><td>false</td><td>2</td><td>null</td><td>false</td><td>0</td><td>221</td><td>7</td><td>4</td><td>false</td><td>414</td><td>0.958</td><td>&quot;Negative&quot;</td><td>1</td><td>8</td><td>14</td><td>265</td><td>5</td><td>0</td><td>0</td><td>false</td><td>false</td><td>true</td><td>true</td><td>true</td><td>true</td><td>0</td><td>0.0</td><td>73</td><td>false</td><td>false</td><td>0.074534</td><td>&hellip;</td><td>-1.28669</td><td>-0.61562</td><td>-0.25359</td><td>2.022232</td><td>-0.104192</td><td>-0.163945</td><td>5.111084</td><td>-0.548481</td><td>-0.929409</td><td>-1.814113</td><td>0.249095</td><td>0.67059</td><td>2.02773</td><td>-1.387353</td><td>NaN</td><td>0.084995</td><td>-24.5</td><td>-19.5</td><td>-945.0</td><td>0.112581</td><td>0.022237</td><td>-0.01328</td><td>-0.142117</td><td>-3.5</td><td>96535.0</td><td>45528.0</td><td>-35.0</td><td>0.022527</td><td>3.532598e6</td><td>16986.5</td><td>-18.5</td><td>null</td><td>29343.5</td><td>6</td><td>2</td><td>1</td><td>1.0</td></tr><tr><td>96429</td><td>21814</td><td>9782726</td><td>2</td><td>19.0</td><td>null</td><td>false</td><td>2</td><td>null</td><td>false</td><td>0</td><td>270</td><td>7</td><td>4</td><td>false</td><td>118</td><td>0.6307</td><td>&quot;Negative&quot;</td><td>1</td><td>3</td><td>1</td><td>379</td><td>5</td><td>0</td><td>0</td><td>false</td><td>false</td><td>true</td><td>true</td><td>true</td><td>true</td><td>0</td><td>0.0</td><td>73</td><td>false</td><td>false</td><td>0.192547</td><td>&hellip;</td><td>-1.28669</td><td>-0.61562</td><td>-0.25359</td><td>2.022232</td><td>-0.104192</td><td>-0.163945</td><td>5.111084</td><td>-0.548481</td><td>-0.929409</td><td>-1.814113</td><td>0.249095</td><td>0.67059</td><td>2.02773</td><td>-1.387353</td><td>NaN</td><td>0.084995</td><td>24.5</td><td>19.5</td><td>257.0</td><td>-0.009839</td><td>0.030948</td><td>0.052849</td><td>-0.092355</td><td>-3.5</td><td>-7675.0</td><td>0.0</td><td>32.0</td><td>0.029431</td><td>2.538429e6</td><td>69689.5</td><td>18.5</td><td>null</td><td>113496.5</td><td>6</td><td>2</td><td>1</td><td>1.0</td></tr><tr><td>96429</td><td>21814</td><td>9782884</td><td>2</td><td>19.0</td><td>null</td><td>false</td><td>2</td><td>null</td><td>false</td><td>1</td><td>217</td><td>7</td><td>4</td><td>false</td><td>512</td><td>0.9475</td><td>&quot;Negative&quot;</td><td>7</td><td>5</td><td>24</td><td>458</td><td>4</td><td>0</td><td>7</td><td>false</td><td>false</td><td>true</td><td>true</td><td>true</td><td>true</td><td>0</td><td>0.0</td><td>73</td><td>false</td><td>false</td><td>0.006211</td><td>&hellip;</td><td>-1.28669</td><td>-0.61562</td><td>-0.25359</td><td>2.022232</td><td>-0.104192</td><td>-0.163945</td><td>5.111084</td><td>-0.548481</td><td>-0.929409</td><td>-1.814113</td><td>0.249095</td><td>0.67059</td><td>2.02773</td><td>-1.387353</td><td>NaN</td><td>0.084995</td><td>-28.5</td><td>-138.5</td><td>90494.0</td><td>0.061258</td><td>-0.016209</td><td>-0.00943</td><td>0.02751</td><td>3.5</td><td>73365.0</td><td>136480.0</td><td>-60.0</td><td>-0.024431</td><td>1.0322224e7</td><td>3840.5</td><td>-131.5</td><td>null</td><td>86035.5</td><td>6</td><td>2</td><td>1</td><td>1.0</td></tr><tr><td>96434</td><td>21822</td><td>9784702</td><td>2</td><td>13.0</td><td>null</td><td>false</td><td>2</td><td>null</td><td>false</td><td>0</td><td>352</td><td>7</td><td>4</td><td>false</td><td>142</td><td>0.7025</td><td>&quot;Positive&quot;</td><td>1</td><td>7</td><td>19</td><td>208</td><td>4</td><td>0</td><td>8</td><td>true</td><td>false</td><td>true</td><td>true</td><td>true</td><td>false</td><td>0</td><td>4.0</td><td>72</td><td>false</td><td>false</td><td>0.248447</td><td>&hellip;</td><td>-1.742724</td><td>-1.814341</td><td>-1.387913</td><td>-1.01604</td><td>-1.583531</td><td>-0.934973</td><td>-1.833333</td><td>-0.596795</td><td>-1.525956</td><td>0.236949</td><td>-0.652742</td><td>0.18157</td><td>-0.903395</td><td>-1.613629</td><td>null</td><td>-1.113779</td><td>0.0</td><td>0.0</td><td>84549.0</td><td>0.0</td><td>-0.005411</td><td>0.0</td><td>0.0</td><td>8.0</td><td>26615.0</td><td>274453.0</td><td>0.0</td><td>0.024452</td><td>431882.0</td><td>-5930.0</td><td>0.0</td><td>null</td><td>57783.0</td><td>3</td><td>3</td><td>1</td><td>1.0</td></tr><tr><td>96434</td><td>21822</td><td>9784793</td><td>2</td><td>13.0</td><td>null</td><td>false</td><td>2</td><td>null</td><td>false</td><td>0</td><td>412</td><td>7</td><td>4</td><td>false</td><td>142</td><td>0.9194</td><td>&quot;Positive&quot;</td><td>1</td><td>7</td><td>16</td><td>247</td><td>4</td><td>0</td><td>0</td><td>true</td><td>true</td><td>true</td><td>true</td><td>true</td><td>false</td><td>0</td><td>4.0</td><td>72</td><td>false</td><td>false</td><td>0.248447</td><td>&hellip;</td><td>-1.742724</td><td>-1.814341</td><td>-1.387913</td><td>-1.01604</td><td>-1.583531</td><td>-0.934973</td><td>-1.833333</td><td>-0.596795</td><td>-1.525956</td><td>0.236949</td><td>-0.652742</td><td>0.18157</td><td>-0.903395</td><td>-1.613629</td><td>null</td><td>-1.113779</td><td>60.0</td><td>162.0</td><td>0.0</td><td>0.038532</td><td>0.007591</td><td>0.028191</td><td>-0.03879</td><td>0.0</td><td>0.0</td><td>-47380.0</td><td>0.0</td><td>0.012691</td><td>-742227.0</td><td>0.0</td><td>51.0</td><td>null</td><td>-20841.0</td><td>3</td><td>3</td><td>1</td><td>1.0</td></tr><tr><td>&hellip;</td><td>&hellip;</td><td>&hellip;</td><td>&hellip;</td><td>&hellip;</td><td>&hellip;</td><td>&hellip;</td><td>&hellip;</td><td>&hellip;</td><td>&hellip;</td><td>&hellip;</td><td>&hellip;</td><td>&hellip;</td><td>&hellip;</td><td>&hellip;</td><td>&hellip;</td><td>&hellip;</td><td>&hellip;</td><td>&hellip;</td><td>&hellip;</td><td>&hellip;</td><td>&hellip;</td><td>&hellip;</td><td>&hellip;</td><td>&hellip;</td><td>&hellip;</td><td>&hellip;</td><td>&hellip;</td><td>&hellip;</td><td>&hellip;</td><td>&hellip;</td><td>&hellip;</td><td>&hellip;</td><td>&hellip;</td><td>&hellip;</td><td>&hellip;</td><td>&hellip;</td><td>&hellip;</td><td>&hellip;</td><td>&hellip;</td><td>&hellip;</td><td>&hellip;</td><td>&hellip;</td><td>&hellip;</td><td>&hellip;</td><td>&hellip;</td><td>&hellip;</td><td>&hellip;</td><td>&hellip;</td><td>&hellip;</td><td>&hellip;</td><td>&hellip;</td><td>&hellip;</td><td>&hellip;</td><td>&hellip;</td><td>&hellip;</td><td>&hellip;</td><td>&hellip;</td><td>&hellip;</td><td>&hellip;</td><td>&hellip;</td><td>&hellip;</td><td>&hellip;</td><td>&hellip;</td><td>&hellip;</td><td>&hellip;</td><td>&hellip;</td><td>&hellip;</td><td>&hellip;</td><td>&hellip;</td><td>&hellip;</td><td>&hellip;</td><td>&hellip;</td><td>&hellip;</td><td>&hellip;</td></tr><tr><td>579553969</td><td>756050</td><td>9784583</td><td>2</td><td>11.0</td><td>100.0</td><td>false</td><td>2</td><td>null</td><td>false</td><td>0</td><td>82</td><td>6</td><td>19</td><td>false</td><td>118</td><td>0.7946</td><td>&quot;Negative&quot;</td><td>1</td><td>4</td><td>17</td><td>186</td><td>4</td><td>0</td><td>0</td><td>false</td><td>true</td><td>true</td><td>true</td><td>true</td><td>true</td><td>0</td><td>4.0</td><td>107</td><td>false</td><td>false</td><td>0.202703</td><td>&hellip;</td><td>-1.686443</td><td>0.613397</td><td>-0.333524</td><td>-1.365908</td><td>-1.580648</td><td>0.523971</td><td>1.2</td><td>0.822062</td><td>0.530278</td><td>1.183517</td><td>-0.03276</td><td>0.630976</td><td>-1.298615</td><td>-1.830197</td><td>null</td><td>-0.808762</td><td>-215.0</td><td>-405.0</td><td>2663.5</td><td>-0.031743</td><td>0.02741</td><td>0.032988</td><td>-0.201168</td><td>0.0</td><td>-22300.5</td><td>-92669.0</td><td>2.0</td><td>-0.004375</td><td>-2.0275e6</td><td>-25621.5</td><td>-200.0</td><td>null</td><td>-53553.0</td><td>3</td><td>3</td><td>1</td><td>1.0</td></tr><tr><td>579553969</td><td>756050</td><td>9784444</td><td>2</td><td>11.0</td><td>100.0</td><td>false</td><td>2</td><td>null</td><td>false</td><td>1</td><td>159</td><td>6</td><td>19</td><td>false</td><td>118</td><td>0.5828</td><td>&quot;Negative&quot;</td><td>1</td><td>4</td><td>21</td><td>247</td><td>4</td><td>0</td><td>2</td><td>false</td><td>true</td><td>true</td><td>true</td><td>true</td><td>false</td><td>0</td><td>4.0</td><td>107</td><td>false</td><td>false</td><td>0.202703</td><td>&hellip;</td><td>-1.686443</td><td>0.613397</td><td>-0.333524</td><td>-1.365908</td><td>-1.580648</td><td>0.523971</td><td>1.2</td><td>0.822062</td><td>0.530278</td><td>1.183517</td><td>-0.03276</td><td>0.630976</td><td>-1.298615</td><td>-1.830197</td><td>null</td><td>-0.808762</td><td>-138.0</td><td>-283.0</td><td>54809.5</td><td>0.102843</td><td>0.037487</td><td>0.012733</td><td>0.067129</td><td>2.0</td><td>102769.5</td><td>301918.0</td><td>2.0</td><td>0.097233</td><td>6994319.5</td><td>-7773.5</td><td>-131.0</td><td>null</td><td>65354.0</td><td>3</td><td>3</td><td>1</td><td>1.0</td></tr><tr><td>579553971</td><td>756050</td><td>9279095</td><td>2</td><td>16.0</td><td>100.0</td><td>false</td><td>2</td><td>null</td><td>false</td><td>0</td><td>55</td><td>6</td><td>19</td><td>true</td><td>414</td><td>0.8922</td><td>&quot;Neutral&quot;</td><td>15</td><td>5</td><td>34</td><td>1358</td><td>2</td><td>360</td><td>8647</td><td>false</td><td>true</td><td>true</td><td>true</td><td>true</td><td>true</td><td>0</td><td>4.0</td><td>107</td><td>true</td><td>false</td><td>0.087838</td><td>&hellip;</td><td>-1.361545</td><td>-1.112485</td><td>-1.763466</td><td>-0.112335</td><td>-1.28124</td><td>-0.906218</td><td>1.199955</td><td>-0.091364</td><td>-0.024134</td><td>-1.62267</td><td>-1.625382</td><td>-0.169474</td><td>-0.928134</td><td>-1.316709</td><td>NaN</td><td>0.518716</td><td>-262.5</td><td>-425.0</td><td>-44678.0</td><td>null</td><td>-0.001031</td><td>0.047197</td><td>-0.020014</td><td>8637.0</td><td>null</td><td>null</td><td>-28.5</td><td>0.020581</td><td>null</td><td>-20663.5</td><td>-169.5</td><td>0.0</td><td>-6338.0</td><td>4</td><td>3</td><td>2</td><td>1.0</td></tr><tr><td>579553971</td><td>756050</td><td>9783850</td><td>2</td><td>16.0</td><td>100.0</td><td>false</td><td>2</td><td>null</td><td>false</td><td>0</td><td>359</td><td>6</td><td>19</td><td>false</td><td>498</td><td>0.5229</td><td>&quot;Neutral&quot;</td><td>1</td><td>5</td><td>14</td><td>228</td><td>5</td><td>0</td><td>5</td><td>false</td><td>false</td><td>true</td><td>false</td><td>true</td><td>false</td><td>0</td><td>4.0</td><td>107</td><td>false</td><td>false</td><td>0.033784</td><td>&hellip;</td><td>-1.361545</td><td>-1.112485</td><td>-1.763466</td><td>-0.112335</td><td>-1.28124</td><td>-0.906218</td><td>1.199955</td><td>-0.091364</td><td>-0.024134</td><td>-1.62267</td><td>-1.625382</td><td>-0.169474</td><td>-0.928134</td><td>-1.316709</td><td>NaN</td><td>0.518716</td><td>41.5</td><td>168.0</td><td>57547.0</td><td>0.090299</td><td>0.001031</td><td>-0.025085</td><td>0.100448</td><td>-5.0</td><td>249345.0</td><td>952141.0</td><td>-58.5</td><td>-0.020581</td><td>1.0084632e7</td><td>3857.5</td><td>134.5</td><td>null</td><td>306897.0</td><td>4</td><td>3</td><td>2</td><td>1.0</td></tr><tr><td>579553971</td><td>756050</td><td>9782763</td><td>2</td><td>16.0</td><td>100.0</td><td>false</td><td>2</td><td>null</td><td>false</td><td>1</td><td>77</td><td>6</td><td>19</td><td>false</td><td>414</td><td>0.4785</td><td>&quot;Positive&quot;</td><td>1</td><td>4</td><td>22</td><td>370</td><td>2</td><td>0</td><td>2</td><td>false</td><td>false</td><td>true</td><td>true</td><td>true</td><td>true</td><td>0</td><td>4.0</td><td>107</td><td>false</td><td>false</td><td>0.087838</td><td>&hellip;</td><td>-1.361545</td><td>-1.112485</td><td>-1.763466</td><td>-0.112335</td><td>-1.28124</td><td>-0.906218</td><td>1.199955</td><td>-0.091364</td><td>-0.024134</td><td>-1.62267</td><td>-1.625382</td><td>-0.169474</td><td>-0.928134</td><td>-1.316709</td><td>NaN</td><td>0.518716</td><td>-240.5</td><td>-373.0</td><td>-4468.0</td><td>0.0</td><td>-0.031525</td><td>-0.02592</td><td>0.189606</td><td>-8.0</td><td>-11403.0</td><td>-243825.0</td><td>-28.5</td><td>-0.061118</td><td>-2.684802e6</td><td>-3176.5</td><td>-134.5</td><td>null</td><td>-43785.0</td><td>4</td><td>3</td><td>2</td><td>1.0</td></tr></tbody></table></div>"
      ],
      "text/plain": [
       "shape: (37_948_332, 301)\n",
       "┌────────────┬─────────┬─────────┬────────────┬───┬────────────┬───────────┬───────────┬───────────┐\n",
       "│ impression ┆ user_id ┆ article ┆ device_typ ┆ … ┆ category_d ┆ sentiment ┆ article_t ┆ endorseme │\n",
       "│ _id        ┆ ---     ┆ ---     ┆ e          ┆   ┆ iversity_i ┆ _label_di ┆ ype_diver ┆ nt_20h_ar │\n",
       "│ ---        ┆ u32     ┆ i32     ┆ ---        ┆   ┆ mpression  ┆ versity_i ┆ sity_impr ┆ ticleuser │\n",
       "│ u32        ┆         ┆         ┆ i8         ┆   ┆ ---        ┆ mpr…      ┆ ess…      ┆ _l_…      │\n",
       "│            ┆         ┆         ┆            ┆   ┆ u8         ┆ ---       ┆ ---       ┆ ---       │\n",
       "│            ┆         ┆         ┆            ┆   ┆            ┆ u8        ┆ u8        ┆ f32       │\n",
       "╞════════════╪═════════╪═════════╪════════════╪═══╪════════════╪═══════════╪═══════════╪═══════════╡\n",
       "│ 96429      ┆ 21814   ┆ 9779807 ┆ 2          ┆ … ┆ 6          ┆ 2         ┆ 1         ┆ 1.0       │\n",
       "│ 96429      ┆ 21814   ┆ 9782726 ┆ 2          ┆ … ┆ 6          ┆ 2         ┆ 1         ┆ 1.0       │\n",
       "│ 96429      ┆ 21814   ┆ 9782884 ┆ 2          ┆ … ┆ 6          ┆ 2         ┆ 1         ┆ 1.0       │\n",
       "│ 96434      ┆ 21822   ┆ 9784702 ┆ 2          ┆ … ┆ 3          ┆ 3         ┆ 1         ┆ 1.0       │\n",
       "│ 96434      ┆ 21822   ┆ 9784793 ┆ 2          ┆ … ┆ 3          ┆ 3         ┆ 1         ┆ 1.0       │\n",
       "│ …          ┆ …       ┆ …       ┆ …          ┆ … ┆ …          ┆ …         ┆ …         ┆ …         │\n",
       "│ 579553969  ┆ 756050  ┆ 9784583 ┆ 2          ┆ … ┆ 3          ┆ 3         ┆ 1         ┆ 1.0       │\n",
       "│ 579553969  ┆ 756050  ┆ 9784444 ┆ 2          ┆ … ┆ 3          ┆ 3         ┆ 1         ┆ 1.0       │\n",
       "│ 579553971  ┆ 756050  ┆ 9279095 ┆ 2          ┆ … ┆ 4          ┆ 3         ┆ 2         ┆ 1.0       │\n",
       "│ 579553971  ┆ 756050  ┆ 9783850 ┆ 2          ┆ … ┆ 4          ┆ 3         ┆ 2         ┆ 1.0       │\n",
       "│ 579553971  ┆ 756050  ┆ 9782763 ┆ 2          ┆ … ┆ 4          ┆ 3         ┆ 2         ┆ 1.0       │\n",
       "└────────────┴─────────┴─────────┴────────────┴───┴────────────┴───────────┴───────────┴───────────┘"
      ]
     },
     "execution_count": 2,
     "metadata": {},
     "output_type": "execute_result"
    }
   ],
   "source": [
    "prepro_train = pl.read_parquet('/mnt/ebs_volume/experiments/preprocessing_validation_new/train_ds.parquet')\n",
    "prepro_train"
   ]
  },
  {
   "cell_type": "code",
   "execution_count": 3,
   "id": "4314e154",
   "metadata": {
    "execution": {
     "iopub.execute_input": "2024-05-29T14:39:20.861254Z",
     "iopub.status.busy": "2024-05-29T14:39:20.860766Z",
     "iopub.status.idle": "2024-05-29T14:40:20.052037Z",
     "shell.execute_reply": "2024-05-29T14:40:20.051398Z"
    },
    "papermill": {
     "duration": 59.197289,
     "end_time": "2024-05-29T14:40:20.055175",
     "exception": false,
     "start_time": "2024-05-29T14:39:20.857886",
     "status": "completed"
    },
    "tags": []
   },
   "outputs": [
    {
     "name": "stdout",
     "output_type": "stream",
     "text": [
      "Memory usage of dataframe is 156512.34 MB\n"
     ]
    },
    {
     "name": "stdout",
     "output_type": "stream",
     "text": [
      "Memory usage after optimization is: 156512.34 MB\n",
      "Decreased by 0.0%\n"
     ]
    }
   ],
   "source": [
    "prepro_train = reduce_polars_df_memory_size(prepro_train)"
   ]
  },
  {
   "cell_type": "code",
   "execution_count": 3,
   "id": "8f2d2684",
   "metadata": {
    "execution": {
     "iopub.execute_input": "2024-05-29T14:40:20.061245Z",
     "iopub.status.busy": "2024-05-29T14:40:20.060812Z",
     "iopub.status.idle": "2024-05-29T14:40:32.455557Z",
     "shell.execute_reply": "2024-05-29T14:40:32.454908Z"
    },
    "papermill": {
     "duration": 12.399563,
     "end_time": "2024-05-29T14:40:32.457257",
     "exception": false,
     "start_time": "2024-05-29T14:40:20.057694",
     "status": "completed"
    },
    "tags": []
   },
   "outputs": [],
   "source": [
    "prepro_train = prepro_train.join(\n",
    "        recsys_features_train, on=['impression_id', 'user_id', 'article'], how='left')"
   ]
  },
  {
   "cell_type": "code",
   "execution_count": 4,
   "id": "7a9638f9",
   "metadata": {
    "execution": {
     "iopub.execute_input": "2024-05-29T14:40:32.463577Z",
     "iopub.status.busy": "2024-05-29T14:40:32.463120Z",
     "iopub.status.idle": "2024-05-29T14:43:13.295198Z",
     "shell.execute_reply": "2024-05-29T14:43:13.294401Z"
    },
    "papermill": {
     "duration": 160.836965,
     "end_time": "2024-05-29T14:43:13.296942",
     "exception": false,
     "start_time": "2024-05-29T14:40:32.459977",
     "status": "completed"
    },
    "tags": []
   },
   "outputs": [],
   "source": [
    "NORMALIZE_OVER_USER_ID = [\n",
    "    'emb_bert_icm_recsys',\n",
    "    'emb_contrastive_icm_recsys',\n",
    "    'emb_emotions_icm_recsys',\n",
    "    'emb_roberta_icm_recsys',\n",
    "    'emb_w_2_vec_icm_recsys',\n",
    "    'emb_kenneth_icm_recsys',\n",
    "    'emb_distilbert_icm_recsys'\n",
    "]\n",
    "NORMALIZE_OVER_ARTICLE = [\n",
    "    'emb_bert_icm_recsys',\n",
    "    'emb_contrastive_icm_recsys',\n",
    "    'emb_emotions_icm_recsys',\n",
    "    'emb_roberta_icm_recsys',\n",
    "    'emb_w_2_vec_icm_recsys',\n",
    "    'emb_kenneth_icm_recsys',\n",
    "    'emb_distilbert_icm_recsys'\n",
    "]\n",
    "\n",
    "\n",
    "prepro_train = prepro_train.with_columns(\n",
    "    \n",
    "    *[(pl.col(c) / pl.col(c).max().over(pl.col('user_id'))).alias(f'{c}_l_inf_user_id')\n",
    "      for c in NORMALIZE_OVER_USER_ID],\n",
    "    *[pl.col(c).std().over(pl.col('user_id')).alias(f'std_user_id_{c}')\n",
    "      for c in NORMALIZE_OVER_USER_ID],\n",
    "    *[pl.col(c).skew().over(pl.col('user_id')).alias(f'skew_user_id_{c}')\n",
    "      for c in NORMALIZE_OVER_USER_ID],\n",
    "    *[pl.col(c).kurtosis().over(pl.col('user_id')).alias(f'kurtosis_user_id_{c}')\n",
    "      for c in NORMALIZE_OVER_USER_ID],\n",
    "    *[pl.col(c).entropy().over(pl.col('user_id')).alias(f'entropy_user_id_{c}')\n",
    "      for c in NORMALIZE_OVER_USER_ID],\n",
    "    *[(pl.col(c) - pl.col(c).median().over(pl.col('user_id'))).alias(f'{c}_minus_median_user_id')\n",
    "      for c in NORMALIZE_OVER_USER_ID],\n",
    "\n",
    "    *[(pl.col(c) / pl.col(c).max().over(pl.col('article'))).alias(f'{c}_l_inf_article')\n",
    "      for c in NORMALIZE_OVER_ARTICLE],\n",
    "    *[pl.col(c).std().over(pl.col('article')).alias(f'std_article_{c}')\n",
    "      for c in NORMALIZE_OVER_ARTICLE],\n",
    "    *[pl.col(c).skew().over(pl.col('article')).alias(f'skew_article_{c}')\n",
    "      for c in NORMALIZE_OVER_ARTICLE],\n",
    "    *[pl.col(c).kurtosis().over(pl.col('article')).alias(f'kurtosis_article_{c}')\n",
    "      for c in NORMALIZE_OVER_ARTICLE],\n",
    "    *[pl.col(c).entropy().over(pl.col('article')).alias(f'entropy_article_{c}')\n",
    "      for c in NORMALIZE_OVER_ARTICLE],\n",
    "    *[(pl.col(c) - pl.col(c).median().over(pl.col('article'))).alias(f'{c}_minus_median_article')\n",
    "      for c in NORMALIZE_OVER_ARTICLE],\n",
    "\n",
    "\n",
    ")"
   ]
  },
  {
   "cell_type": "code",
   "execution_count": 6,
   "id": "4dc95a84",
   "metadata": {
    "execution": {
     "iopub.execute_input": "2024-05-29T14:43:13.303620Z",
     "iopub.status.busy": "2024-05-29T14:43:13.303054Z",
     "iopub.status.idle": "2024-05-29T14:43:13.322262Z",
     "shell.execute_reply": "2024-05-29T14:43:13.321602Z"
    },
    "papermill": {
     "duration": 0.02388,
     "end_time": "2024-05-29T14:43:13.323623",
     "exception": false,
     "start_time": "2024-05-29T14:43:13.299743",
     "status": "completed"
    },
    "tags": []
   },
   "outputs": [
    {
     "data": {
      "text/html": [
       "<div><style>\n",
       ".dataframe > thead > tr,\n",
       ".dataframe > tbody > tr {\n",
       "  text-align: right;\n",
       "  white-space: pre-wrap;\n",
       "}\n",
       "</style>\n",
       "<small>shape: (155_925_868, 391)</small><table border=\"1\" class=\"dataframe\"><thead><tr><th>impression_id</th><th>article</th><th>user_id</th><th>device_type</th><th>read_time</th><th>scroll_percentage</th><th>is_sso_user</th><th>gender</th><th>age</th><th>is_subscriber</th><th>trendiness_score_3d</th><th>weekday</th><th>hour</th><th>premium</th><th>category</th><th>sentiment_score</th><th>sentiment_label</th><th>num_images</th><th>title_len</th><th>subtitle_len</th><th>body_len</th><th>num_topics</th><th>article_delay_days</th><th>article_delay_hours</th><th>Entity_MISC_Present</th><th>Entity_EVENT_Present</th><th>Entity_PROD_Present</th><th>Entity_LOC_Present</th><th>Entity_PER_Present</th><th>Entity_ORG_Present</th><th>last_session_duration</th><th>mean_prev_sessions_duration</th><th>last_session_time_hour_diff</th><th>is_new_article</th><th>is_already_seen_article</th><th>yesterday_category_daily_pct</th><th>MeanCommonEntities</th><th>&hellip;</th><th>emb_kenneth_icm_recsys_l_inf_article</th><th>emb_distilbert_icm_recsys_l_inf_article</th><th>std_article_emb_bert_icm_recsys</th><th>std_article_emb_contrastive_icm_recsys</th><th>std_article_emb_emotions_icm_recsys</th><th>std_article_emb_roberta_icm_recsys</th><th>std_article_emb_w_2_vec_icm_recsys</th><th>std_article_emb_kenneth_icm_recsys</th><th>std_article_emb_distilbert_icm_recsys</th><th>skew_article_emb_bert_icm_recsys</th><th>skew_article_emb_contrastive_icm_recsys</th><th>skew_article_emb_emotions_icm_recsys</th><th>skew_article_emb_roberta_icm_recsys</th><th>skew_article_emb_w_2_vec_icm_recsys</th><th>skew_article_emb_kenneth_icm_recsys</th><th>skew_article_emb_distilbert_icm_recsys</th><th>kurtosis_article_emb_bert_icm_recsys</th><th>kurtosis_article_emb_contrastive_icm_recsys</th><th>kurtosis_article_emb_emotions_icm_recsys</th><th>kurtosis_article_emb_roberta_icm_recsys</th><th>kurtosis_article_emb_w_2_vec_icm_recsys</th><th>kurtosis_article_emb_kenneth_icm_recsys</th><th>kurtosis_article_emb_distilbert_icm_recsys</th><th>entropy_article_emb_bert_icm_recsys</th><th>entropy_article_emb_contrastive_icm_recsys</th><th>entropy_article_emb_emotions_icm_recsys</th><th>entropy_article_emb_roberta_icm_recsys</th><th>entropy_article_emb_w_2_vec_icm_recsys</th><th>entropy_article_emb_kenneth_icm_recsys</th><th>entropy_article_emb_distilbert_icm_recsys</th><th>emb_bert_icm_recsys_minus_median_article</th><th>emb_contrastive_icm_recsys_minus_median_article</th><th>emb_emotions_icm_recsys_minus_median_article</th><th>emb_roberta_icm_recsys_minus_median_article</th><th>emb_w_2_vec_icm_recsys_minus_median_article</th><th>emb_kenneth_icm_recsys_minus_median_article</th><th>emb_distilbert_icm_recsys_minus_median_article</th></tr><tr><td>u32</td><td>i32</td><td>u32</td><td>i8</td><td>f32</td><td>f32</td><td>bool</td><td>i8</td><td>i8</td><td>bool</td><td>i16</td><td>i8</td><td>i8</td><td>bool</td><td>i16</td><td>f32</td><td>str</td><td>u32</td><td>u8</td><td>u8</td><td>u16</td><td>u32</td><td>i16</td><td>i32</td><td>bool</td><td>bool</td><td>bool</td><td>bool</td><td>bool</td><td>bool</td><td>i8</td><td>f32</td><td>i16</td><td>bool</td><td>bool</td><td>f32</td><td>f32</td><td>&hellip;</td><td>f32</td><td>f32</td><td>f32</td><td>f32</td><td>f32</td><td>f32</td><td>f32</td><td>f32</td><td>f32</td><td>f64</td><td>f64</td><td>f64</td><td>f64</td><td>f64</td><td>f64</td><td>f64</td><td>f64</td><td>f64</td><td>f64</td><td>f64</td><td>f64</td><td>f64</td><td>f64</td><td>f32</td><td>f32</td><td>f32</td><td>f32</td><td>f32</td><td>f32</td><td>f32</td><td>f32</td><td>f32</td><td>f32</td><td>f32</td><td>f32</td><td>f32</td><td>f32</td></tr></thead><tbody><tr><td>6880427</td><td>9756075</td><td>1274780</td><td>1</td><td>29.0</td><td>null</td><td>false</td><td>2</td><td>null</td><td>false</td><td>42</td><td>4</td><td>10</td><td>true</td><td>118</td><td>0.7083</td><td>&quot;Neutral&quot;</td><td>2</td><td>8</td><td>30</td><td>463</td><td>2</td><td>0</td><td>7</td><td>false</td><td>false</td><td>false</td><td>true</td><td>true</td><td>false</td><td>0</td><td>1.0</td><td>3</td><td>true</td><td>false</td><td>0.223602</td><td>1.727273</td><td>&hellip;</td><td>0.0</td><td>0.0</td><td>0.006792</td><td>0.000488</td><td>0.003995</td><td>0.522885</td><td>0.000486</td><td>0.00127</td><td>1.690991</td><td>1.598691</td><td>2.696386</td><td>1.405121</td><td>2.802449</td><td>47.071363</td><td>1.137724</td><td>1.421982</td><td>2.964504</td><td>6.360073</td><td>2.027458</td><td>21.729832</td><td>4135.991954</td><td>0.935591</td><td>1.988404</td><td>NaN</td><td>NaN</td><td>NaN</td><td>NaN</td><td>NaN</td><td>NaN</td><td>NaN</td><td>-0.00303</td><td>0.0</td><td>-0.002659</td><td>0.0</td><td>0.0</td><td>-0.000881</td><td>-0.975464</td></tr><tr><td>6869675</td><td>9789473</td><td>1238642</td><td>2</td><td>12.0</td><td>null</td><td>false</td><td>2</td><td>null</td><td>false</td><td>157</td><td>4</td><td>10</td><td>false</td><td>118</td><td>0.8957</td><td>&quot;Negative&quot;</td><td>1</td><td>6</td><td>15</td><td>229</td><td>4</td><td>0</td><td>5</td><td>false</td><td>false</td><td>false</td><td>true</td><td>true</td><td>false</td><td>0</td><td>1.0</td><td>376</td><td>false</td><td>false</td><td>0.223602</td><td>1.666667</td><td>&hellip;</td><td>0.0</td><td>0.0</td><td>0.037695</td><td>0.007196</td><td>0.003285</td><td>4.156035</td><td>0.011565</td><td>0.003252</td><td>2.086725</td><td>1.418678</td><td>1.617934</td><td>1.349201</td><td>1.641461</td><td>1.687744</td><td>1.694701</td><td>1.345099</td><td>1.826699</td><td>2.487678</td><td>1.721444</td><td>2.623708</td><td>2.779792</td><td>2.99846</td><td>1.646882</td><td>NaN</td><td>NaN</td><td>NaN</td><td>NaN</td><td>NaN</td><td>NaN</td><td>NaN</td><td>-0.021207</td><td>-0.003265</td><td>-0.002659</td><td>-1.84728</td><td>-0.00511</td><td>-0.000959</td><td>-0.986121</td></tr><tr><td>6908287</td><td>9791205</td><td>1351925</td><td>1</td><td>47.0</td><td>null</td><td>false</td><td>2</td><td>null</td><td>false</td><td>55</td><td>4</td><td>10</td><td>false</td><td>414</td><td>0.8882</td><td>&quot;Neutral&quot;</td><td>1</td><td>2</td><td>17</td><td>362</td><td>3</td><td>0</td><td>2</td><td>false</td><td>false</td><td>true</td><td>true</td><td>true</td><td>true</td><td>0</td><td>3.0</td><td>23</td><td>false</td><td>false</td><td>0.099379</td><td>2.697115</td><td>&hellip;</td><td>0.0</td><td>0.154307</td><td>0.014831</td><td>0.00138</td><td>0.004247</td><td>0.820061</td><td>0.002062</td><td>0.000534</td><td>1.657939</td><td>1.320594</td><td>1.754354</td><td>1.151549</td><td>1.714632</td><td>1.784883</td><td>1.722238</td><td>1.48716</td><td>1.531279</td><td>3.202912</td><td>1.010562</td><td>3.093353</td><td>3.579494</td><td>2.819064</td><td>2.268636</td><td>NaN</td><td>NaN</td><td>NaN</td><td>NaN</td><td>NaN</td><td>NaN</td><td>NaN</td><td>0.006059</td><td>0.001507</td><td>-1.9092e-8</td><td>0.923431</td><td>0.003209</td><td>0.0</td><td>0.950336</td></tr><tr><td>6871530</td><td>9791525</td><td>1245302</td><td>2</td><td>44.0</td><td>100.0</td><td>false</td><td>2</td><td>null</td><td>false</td><td>114</td><td>4</td><td>10</td><td>false</td><td>140</td><td>0.9946</td><td>&quot;Negative&quot;</td><td>1</td><td>7</td><td>15</td><td>196</td><td>4</td><td>0</td><td>0</td><td>false</td><td>false</td><td>false</td><td>true</td><td>false</td><td>true</td><td>0</td><td>1.0</td><td>3</td><td>false</td><td>false</td><td>0.15528</td><td>1.589888</td><td>&hellip;</td><td>0.0</td><td>0.076525</td><td>0.016083</td><td>0.001942</td><td>0.004624</td><td>3.930893</td><td>0.004552</td><td>0.002064</td><td>1.592259</td><td>1.309012</td><td>1.846828</td><td>1.516573</td><td>1.574728</td><td>1.631308</td><td>1.789189</td><td>1.418627</td><td>1.441834</td><td>3.973459</td><td>2.28065</td><td>2.5792</td><td>2.940941</td><td>3.615852</td><td>2.080987</td><td>NaN</td><td>NaN</td><td>NaN</td><td>NaN</td><td>NaN</td><td>NaN</td><td>NaN</td><td>0.003029</td><td>0.0</td><td>0.003989</td><td>2.770851</td><td>-0.000044</td><td>-0.00089</td><td>0.0</td></tr><tr><td>6765726</td><td>9791515</td><td>1183377</td><td>1</td><td>100.0</td><td>100.0</td><td>false</td><td>2</td><td>null</td><td>false</td><td>141</td><td>4</td><td>10</td><td>false</td><td>512</td><td>0.8384</td><td>&quot;Negative&quot;</td><td>4</td><td>5</td><td>26</td><td>223</td><td>3</td><td>0</td><td>0</td><td>false</td><td>false</td><td>false</td><td>true</td><td>true</td><td>true</td><td>0</td><td>1.0</td><td>143</td><td>false</td><td>false</td><td>0.031056</td><td>2.75</td><td>&hellip;</td><td>0.0</td><td>0.0</td><td>0.014922</td><td>0.001705</td><td>0.004678</td><td>3.31198</td><td>0.006121</td><td>0.002427</td><td>1.285799</td><td>1.582442</td><td>1.744117</td><td>1.425946</td><td>1.526714</td><td>1.658222</td><td>1.632809</td><td>1.511351</td><td>2.664874</td><td>3.467097</td><td>2.018145</td><td>2.131169</td><td>2.663528</td><td>2.703372</td><td>2.473405</td><td>NaN</td><td>NaN</td><td>NaN</td><td>NaN</td><td>NaN</td><td>NaN</td><td>NaN</td><td>-0.009089</td><td>0.0</td><td>-0.00266</td><td>-0.923532</td><td>-0.003338</td><td>-0.000866</td><td>-0.983423</td></tr><tr><td>&hellip;</td><td>&hellip;</td><td>&hellip;</td><td>&hellip;</td><td>&hellip;</td><td>&hellip;</td><td>&hellip;</td><td>&hellip;</td><td>&hellip;</td><td>&hellip;</td><td>&hellip;</td><td>&hellip;</td><td>&hellip;</td><td>&hellip;</td><td>&hellip;</td><td>&hellip;</td><td>&hellip;</td><td>&hellip;</td><td>&hellip;</td><td>&hellip;</td><td>&hellip;</td><td>&hellip;</td><td>&hellip;</td><td>&hellip;</td><td>&hellip;</td><td>&hellip;</td><td>&hellip;</td><td>&hellip;</td><td>&hellip;</td><td>&hellip;</td><td>&hellip;</td><td>&hellip;</td><td>&hellip;</td><td>&hellip;</td><td>&hellip;</td><td>&hellip;</td><td>&hellip;</td><td>&hellip;</td><td>&hellip;</td><td>&hellip;</td><td>&hellip;</td><td>&hellip;</td><td>&hellip;</td><td>&hellip;</td><td>&hellip;</td><td>&hellip;</td><td>&hellip;</td><td>&hellip;</td><td>&hellip;</td><td>&hellip;</td><td>&hellip;</td><td>&hellip;</td><td>&hellip;</td><td>&hellip;</td><td>&hellip;</td><td>&hellip;</td><td>&hellip;</td><td>&hellip;</td><td>&hellip;</td><td>&hellip;</td><td>&hellip;</td><td>&hellip;</td><td>&hellip;</td><td>&hellip;</td><td>&hellip;</td><td>&hellip;</td><td>&hellip;</td><td>&hellip;</td><td>&hellip;</td><td>&hellip;</td><td>&hellip;</td><td>&hellip;</td><td>&hellip;</td><td>&hellip;</td><td>&hellip;</td></tr><tr><td>573273763</td><td>9801733</td><td>2055366</td><td>2</td><td>82.0</td><td>100.0</td><td>false</td><td>2</td><td>null</td><td>false</td><td>170</td><td>4</td><td>5</td><td>false</td><td>414</td><td>0.8869</td><td>&quot;Neutral&quot;</td><td>2</td><td>8</td><td>11</td><td>333</td><td>7</td><td>0</td><td>8</td><td>false</td><td>false</td><td>false</td><td>false</td><td>true</td><td>true</td><td>0</td><td>12.0</td><td>166</td><td>false</td><td>false</td><td>0.105263</td><td>1.683333</td><td>&hellip;</td><td>0.0</td><td>0.0</td><td>0.00862</td><td>0.002292</td><td>0.005401</td><td>0.946137</td><td>0.001646</td><td>0.000461</td><td>1.793884</td><td>1.296879</td><td>1.244738</td><td>1.104386</td><td>1.445388</td><td>3.818886</td><td>1.93029</td><td>1.230628</td><td>1.727151</td><td>1.083078</td><td>0.851429</td><td>2.500147</td><td>27.147791</td><td>4.525381</td><td>1.434015</td><td>NaN</td><td>NaN</td><td>NaN</td><td>NaN</td><td>NaN</td><td>NaN</td><td>NaN</td><td>-0.00303</td><td>-0.001357</td><td>-0.003989</td><td>0.0</td><td>0.0</td><td>0.0</td><td>-0.983323</td></tr><tr><td>573265991</td><td>9802199</td><td>2035157</td><td>2</td><td>73.0</td><td>null</td><td>false</td><td>2</td><td>null</td><td>false</td><td>367</td><td>4</td><td>5</td><td>false</td><td>118</td><td>0.9295</td><td>&quot;Negative&quot;</td><td>1</td><td>3</td><td>1</td><td>395</td><td>5</td><td>0</td><td>1</td><td>false</td><td>false</td><td>true</td><td>true</td><td>true</td><td>true</td><td>0</td><td>0.0</td><td>192</td><td>false</td><td>false</td><td>0.230263</td><td>2.96875</td><td>&hellip;</td><td>0.0</td><td>0.0</td><td>0.010734</td><td>0.003198</td><td>0.003079</td><td>1.131999</td><td>0.002778</td><td>0.000533</td><td>1.686579</td><td>1.478344</td><td>1.607567</td><td>1.386337</td><td>1.906511</td><td>1.875956</td><td>1.498241</td><td>1.772373</td><td>2.33719</td><td>2.753176</td><td>2.107157</td><td>4.078284</td><td>4.432165</td><td>2.321274</td><td>3.540404</td><td>NaN</td><td>NaN</td><td>NaN</td><td>NaN</td><td>NaN</td><td>NaN</td><td>NaN</td><td>-0.00303</td><td>-0.001389</td><td>-0.00266</td><td>0.0</td><td>-0.001644</td><td>0.0</td><td>-0.917304</td></tr><tr><td>573335360</td><td>9801733</td><td>2091146</td><td>2</td><td>43.0</td><td>null</td><td>false</td><td>2</td><td>null</td><td>false</td><td>170</td><td>4</td><td>5</td><td>false</td><td>414</td><td>0.8869</td><td>&quot;Neutral&quot;</td><td>2</td><td>8</td><td>11</td><td>333</td><td>7</td><td>0</td><td>8</td><td>false</td><td>false</td><td>false</td><td>false</td><td>true</td><td>true</td><td>0</td><td>0.0</td><td>167</td><td>false</td><td>false</td><td>0.105263</td><td>1.853261</td><td>&hellip;</td><td>0.144363</td><td>0.076801</td><td>0.00862</td><td>0.002292</td><td>0.005401</td><td>0.946137</td><td>0.001646</td><td>0.000461</td><td>1.793884</td><td>1.296879</td><td>1.244738</td><td>1.104386</td><td>1.445388</td><td>3.818886</td><td>1.93029</td><td>1.230628</td><td>1.727151</td><td>1.083078</td><td>0.851429</td><td>2.500147</td><td>27.147791</td><td>4.525381</td><td>1.434015</td><td>NaN</td><td>NaN</td><td>NaN</td><td>NaN</td><td>NaN</td><td>NaN</td><td>NaN</td><td>0.00606</td><td>0.001392</td><td>0.00133</td><td>1.84705</td><td>0.0</td><td>0.000695</td><td>-0.00392</td></tr><tr><td>573332263</td><td>9564613</td><td>2082137</td><td>1</td><td>16.0</td><td>null</td><td>false</td><td>2</td><td>null</td><td>false</td><td>121</td><td>4</td><td>5</td><td>true</td><td>140</td><td>0.9949</td><td>&quot;Negative&quot;</td><td>8</td><td>9</td><td>32</td><td>645</td><td>3</td><td>162</td><td>3911</td><td>false</td><td>false</td><td>false</td><td>true</td><td>true</td><td>true</td><td>0</td><td>0.0</td><td>187</td><td>true</td><td>false</td><td>0.164474</td><td>2.476191</td><td>&hellip;</td><td>0.0</td><td>0.071364</td><td>0.009188</td><td>0.000816</td><td>0.005575</td><td>0.608411</td><td>0.001437</td><td>0.00091</td><td>1.710541</td><td>1.211085</td><td>3.847307</td><td>1.218651</td><td>2.620287</td><td>3.44987</td><td>2.277776</td><td>1.540869</td><td>1.331469</td><td>26.573987</td><td>1.138772</td><td>9.456228</td><td>21.672536</td><td>7.299416</td><td>2.612315</td><td>NaN</td><td>NaN</td><td>NaN</td><td>NaN</td><td>NaN</td><td>NaN</td><td>NaN</td><td>0.00303</td><td>0.0</td><td>-0.002659</td><td>0.0</td><td>0.0</td><td>0.0</td><td>0.000963</td></tr><tr><td>573271732</td><td>9803309</td><td>2050672</td><td>2</td><td>14.0</td><td>null</td><td>false</td><td>2</td><td>null</td><td>false</td><td>435</td><td>4</td><td>5</td><td>false</td><td>142</td><td>0.5277</td><td>&quot;Negative&quot;</td><td>2</td><td>8</td><td>16</td><td>244</td><td>5</td><td>0</td><td>0</td><td>false</td><td>false</td><td>false</td><td>false</td><td>true</td><td>false</td><td>0</td><td>7.0</td><td>166</td><td>false</td><td>false</td><td>0.223684</td><td>0.895131</td><td>&hellip;</td><td>0.104761</td><td>0.214508</td><td>0.01975</td><td>0.004462</td><td>0.004866</td><td>3.492831</td><td>0.010292</td><td>0.003505</td><td>1.799711</td><td>1.762592</td><td>2.251716</td><td>1.276577</td><td>2.043891</td><td>2.192513</td><td>1.919121</td><td>1.415395</td><td>3.560794</td><td>5.67453</td><td>1.483083</td><td>4.759429</td><td>5.635909</td><td>3.975399</td><td>2.123647</td><td>NaN</td><td>NaN</td><td>NaN</td><td>NaN</td><td>NaN</td><td>NaN</td><td>NaN</td><td>0.00606</td><td>0.00472</td><td>-0.002659</td><td>2.770892</td><td>0.005122</td><td>0.001726</td><td>1.951937</td></tr></tbody></table></div>"
      ],
      "text/plain": [
       "shape: (155_925_868, 391)\n",
       "┌────────────┬─────────┬─────────┬────────────┬───┬────────────┬───────────┬───────────┬───────────┐\n",
       "│ impression ┆ article ┆ user_id ┆ device_typ ┆ … ┆ emb_robert ┆ emb_w_2_v ┆ emb_kenne ┆ emb_disti │\n",
       "│ _id        ┆ ---     ┆ ---     ┆ e          ┆   ┆ a_icm_recs ┆ ec_icm_re ┆ th_icm_re ┆ lbert_icm │\n",
       "│ ---        ┆ i32     ┆ u32     ┆ ---        ┆   ┆ ys_minus_m ┆ csys_minu ┆ csys_minu ┆ _recsys_m │\n",
       "│ u32        ┆         ┆         ┆ i8         ┆   ┆ …          ┆ s_m…      ┆ s_m…      ┆ inu…      │\n",
       "│            ┆         ┆         ┆            ┆   ┆ ---        ┆ ---       ┆ ---       ┆ ---       │\n",
       "│            ┆         ┆         ┆            ┆   ┆ f32        ┆ f32       ┆ f32       ┆ f32       │\n",
       "╞════════════╪═════════╪═════════╪════════════╪═══╪════════════╪═══════════╪═══════════╪═══════════╡\n",
       "│ 6880427    ┆ 9756075 ┆ 1274780 ┆ 1          ┆ … ┆ 0.0        ┆ 0.0       ┆ -0.000881 ┆ -0.975464 │\n",
       "│ 6869675    ┆ 9789473 ┆ 1238642 ┆ 2          ┆ … ┆ -1.84728   ┆ -0.00511  ┆ -0.000959 ┆ -0.986121 │\n",
       "│ 6908287    ┆ 9791205 ┆ 1351925 ┆ 1          ┆ … ┆ 0.923431   ┆ 0.003209  ┆ 0.0       ┆ 0.950336  │\n",
       "│ 6871530    ┆ 9791525 ┆ 1245302 ┆ 2          ┆ … ┆ 2.770851   ┆ -0.000044 ┆ -0.00089  ┆ 0.0       │\n",
       "│ 6765726    ┆ 9791515 ┆ 1183377 ┆ 1          ┆ … ┆ -0.923532  ┆ -0.003338 ┆ -0.000866 ┆ -0.983423 │\n",
       "│ …          ┆ …       ┆ …       ┆ …          ┆ … ┆ …          ┆ …         ┆ …         ┆ …         │\n",
       "│ 573273763  ┆ 9801733 ┆ 2055366 ┆ 2          ┆ … ┆ 0.0        ┆ 0.0       ┆ 0.0       ┆ -0.983323 │\n",
       "│ 573265991  ┆ 9802199 ┆ 2035157 ┆ 2          ┆ … ┆ 0.0        ┆ -0.001644 ┆ 0.0       ┆ -0.917304 │\n",
       "│ 573335360  ┆ 9801733 ┆ 2091146 ┆ 2          ┆ … ┆ 1.84705    ┆ 0.0       ┆ 0.000695  ┆ -0.00392  │\n",
       "│ 573332263  ┆ 9564613 ┆ 2082137 ┆ 1          ┆ … ┆ 0.0        ┆ 0.0       ┆ 0.0       ┆ 0.000963  │\n",
       "│ 573271732  ┆ 9803309 ┆ 2050672 ┆ 2          ┆ … ┆ 2.770892   ┆ 0.005122  ┆ 0.001726  ┆ 1.951937  │\n",
       "└────────────┴─────────┴─────────┴────────────┴───┴────────────┴───────────┴───────────┴───────────┘"
      ]
     },
     "execution_count": 6,
     "metadata": {},
     "output_type": "execute_result"
    }
   ],
   "source": [
    "prepro_train"
   ]
  },
  {
   "cell_type": "code",
   "execution_count": 5,
   "id": "a39b754b",
   "metadata": {
    "execution": {
     "iopub.execute_input": "2024-05-29T14:43:13.330308Z",
     "iopub.status.busy": "2024-05-29T14:43:13.329850Z",
     "iopub.status.idle": "2024-05-29T14:44:33.400015Z",
     "shell.execute_reply": "2024-05-29T14:44:33.399379Z"
    },
    "papermill": {
     "duration": 80.078466,
     "end_time": "2024-05-29T14:44:33.404831",
     "exception": false,
     "start_time": "2024-05-29T14:43:13.326365",
     "status": "completed"
    },
    "tags": []
   },
   "outputs": [
    {
     "name": "stdout",
     "output_type": "stream",
     "text": [
      "Memory usage of dataframe is 55381.36 MB\n"
     ]
    },
    {
     "name": "stdout",
     "output_type": "stream",
     "text": [
      "Memory usage after optimization is: 51328.04 MB\n",
      "Decreased by 7.3%\n"
     ]
    }
   ],
   "source": [
    "prepro_train = reduce_polars_df_memory_size(prepro_train)"
   ]
  },
  {
   "cell_type": "code",
   "execution_count": 7,
   "id": "0d17f75a",
   "metadata": {
    "execution": {
     "iopub.execute_input": "2024-05-29T14:44:33.412003Z",
     "iopub.status.busy": "2024-05-29T14:44:33.411482Z",
     "iopub.status.idle": "2024-05-29T15:31:00.059309Z",
     "shell.execute_reply": "2024-05-29T15:31:00.058612Z"
    },
    "papermill": {
     "duration": 2786.653149,
     "end_time": "2024-05-29T15:31:00.061045",
     "exception": false,
     "start_time": "2024-05-29T14:44:33.407896",
     "status": "completed"
    },
    "tags": []
   },
   "outputs": [],
   "source": [
    "prepro_train.write_parquet('/mnt/ebs_volume_new/experiments/preprocessing_validation_new_with_recsys/train_ds.parquet')"
   ]
  }
 ],
 "metadata": {
  "kernelspec": {
   "display_name": ".venv",
   "language": "python",
   "name": "python3"
  },
  "language_info": {
   "codemirror_mode": {
    "name": "ipython",
    "version": 3
   },
   "file_extension": ".py",
   "mimetype": "text/x-python",
   "name": "python",
   "nbconvert_exporter": "python",
   "pygments_lexer": "ipython3",
   "version": "3.10.14"
  },
  "papermill": {
   "default_parameters": {},
   "duration": 3255.950135,
   "end_time": "2024-05-29T15:31:10.896860",
   "environment_variables": {},
   "exception": null,
   "input_path": "normalize_train.ipynb",
   "output_path": "normalize_train.ipynb",
   "parameters": {},
   "start_time": "2024-05-29T14:36:54.946725",
   "version": "2.6.0"
  }
 },
 "nbformat": 4,
 "nbformat_minor": 5
}
