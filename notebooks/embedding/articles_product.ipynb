{
 "cells": [
  {
   "cell_type": "code",
   "execution_count": 1,
   "metadata": {},
   "outputs": [],
   "source": [
    "import numpy as np\n",
    "import polars as pl"
   ]
  },
  {
   "cell_type": "code",
   "execution_count": 2,
   "metadata": {},
   "outputs": [],
   "source": [
    "from pathlib import Path\n",
    "\n",
    "\n",
    "dpath = Path('../../dataset')\n",
    "emb_dir = dpath / 'embeddings'\n",
    "dtype = 'small'\n",
    "articles = pl.read_parquet(f'{dpath}/ebnerd_{dtype}/articles.parquet')\n",
    "\n",
    "behaviors_train = pl.read_parquet(f'{dpath}/ebnerd_{dtype}/train/behaviors.parquet')\n",
    "history_train = pl.read_parquet(f'{dpath}/ebnerd_{dtype}/train/history.parquet')\n",
    "\n",
    "behaviors_val = pl.read_parquet(f'{dpath}/ebnerd_{dtype}/validation/behaviors.parquet')\n",
    "history_val = pl.read_parquet(f'{dpath}/ebnerd_{dtype}/validation/history.parquet')"
   ]
  },
  {
   "cell_type": "code",
   "execution_count": 3,
   "metadata": {},
   "outputs": [
    {
     "data": {
      "text/html": [
       "<div><style>\n",
       ".dataframe > thead > tr,\n",
       ".dataframe > tbody > tr {\n",
       "  text-align: right;\n",
       "  white-space: pre-wrap;\n",
       "}\n",
       "</style>\n",
       "<small>shape: (2, 3)</small><table border=\"1\" class=\"dataframe\"><thead><tr><th>index</th><th>article_id</th><th>embedding</th></tr><tr><td>u32</td><td>i32</td><td>list[f32]</td></tr></thead><tbody><tr><td>0</td><td>3000022</td><td>[-0.350606, 0.003437, … 0.001947]</td></tr><tr><td>1</td><td>3000063</td><td>[-0.003448, 0.227659, … -0.057015]</td></tr></tbody></table></div>"
      ],
      "text/plain": [
       "shape: (2, 3)\n",
       "┌───────┬────────────┬─────────────────────────────────┐\n",
       "│ index ┆ article_id ┆ embedding                       │\n",
       "│ ---   ┆ ---        ┆ ---                             │\n",
       "│ u32   ┆ i32        ┆ list[f32]                       │\n",
       "╞═══════╪════════════╪═════════════════════════════════╡\n",
       "│ 0     ┆ 3000022    ┆ [-0.350606, 0.003437, … 0.0019… │\n",
       "│ 1     ┆ 3000063    ┆ [-0.003448, 0.227659, … -0.057… │\n",
       "└───────┴────────────┴─────────────────────────────────┘"
      ]
     },
     "execution_count": 3,
     "metadata": {},
     "output_type": "execute_result"
    }
   ],
   "source": [
    "embeddings = pl.read_parquet(emb_dir / 'google_bert_base_multilingual_cased' / 'bert_base_multilingual_cased.parquet').sort('article_id')[:50000]\n",
    "embeddings.columns = ['article_id', 'embedding']\n",
    "embeddings = embeddings.with_row_index()\n",
    "embeddings.head(2)"
   ]
  },
  {
   "cell_type": "code",
   "execution_count": 4,
   "metadata": {},
   "outputs": [
    {
     "data": {
      "text/plain": [
       "False"
      ]
     },
     "execution_count": 4,
     "metadata": {},
     "output_type": "execute_result"
    }
   ],
   "source": [
    "all_zero_embeddings = embeddings.with_columns(pl.col('embedding').list.eval(pl.element() == 0.0).list.all().alias('check'))\n",
    "are_all_zero_embeddings_present = len(all_zero_embeddings.filter(pl.col('check') == True)) > 0\n",
    "are_all_zero_embeddings_present"
   ]
  },
  {
   "cell_type": "code",
   "execution_count": 17,
   "metadata": {},
   "outputs": [
    {
     "data": {
      "text/plain": [
       "(50000, 768)"
      ]
     },
     "execution_count": 17,
     "metadata": {},
     "output_type": "execute_result"
    }
   ],
   "source": [
    "m = np.array([np.array(x) for x in embeddings['embedding'].to_numpy()])\n",
    "row_norms = np.linalg.norm(m, axis=1, keepdims=True)\n",
    "m_norm = m / row_norms\n",
    "m.shape"
   ]
  },
  {
   "cell_type": "code",
   "execution_count": 6,
   "metadata": {},
   "outputs": [],
   "source": [
    "# row_norms = np.linalg.norm(m, axis=1, keepdims=True)\n",
    "# shrink_term = 1e-5 if are_all_zero_embeddings_present else 0.\n",
    "# m_norm = m / (row_norms + shrink_term)\n",
    "\n",
    "# sim_matrix = np.dot(m_norm, m_norm.T)\n",
    "# sim_matrix.shape"
   ]
  },
  {
   "cell_type": "code",
   "execution_count": 7,
   "metadata": {},
   "outputs": [],
   "source": [
    "# from RecSys_Course_AT_PoliMi.Recommenders.KNN.UserKNNCFRecommender import Compute_Similarity\n",
    "# from scipy import sparse as sps\n",
    "# sim = Compute_Similarity(sps.csr_matrix(m).T, topK=100, normalize=True, similarity='cosine')\n",
    "# m_sim_sparse = sim.compute_similarity()\n"
   ]
  },
  {
   "cell_type": "markdown",
   "metadata": {},
   "source": [
    "# Build feature"
   ]
  },
  {
   "cell_type": "code",
   "execution_count": 8,
   "metadata": {},
   "outputs": [
    {
     "data": {
      "text/html": [
       "<div><style>\n",
       ".dataframe > thead > tr,\n",
       ".dataframe > tbody > tr {\n",
       "  text-align: right;\n",
       "  white-space: pre-wrap;\n",
       "}\n",
       "</style>\n",
       "<small>shape: (50_000, 2)</small><table border=\"1\" class=\"dataframe\"><thead><tr><th>index</th><th>article_id</th></tr><tr><td>u32</td><td>i32</td></tr></thead><tbody><tr><td>0</td><td>3000022</td></tr><tr><td>1</td><td>3000063</td></tr><tr><td>2</td><td>3000613</td></tr><tr><td>3</td><td>3000700</td></tr><tr><td>4</td><td>3000840</td></tr><tr><td>&hellip;</td><td>&hellip;</td></tr><tr><td>49995</td><td>7090834</td></tr><tr><td>49996</td><td>7090903</td></tr><tr><td>49997</td><td>7091059</td></tr><tr><td>49998</td><td>7091113</td></tr><tr><td>49999</td><td>7091148</td></tr></tbody></table></div>"
      ],
      "text/plain": [
       "shape: (50_000, 2)\n",
       "┌───────┬────────────┐\n",
       "│ index ┆ article_id │\n",
       "│ ---   ┆ ---        │\n",
       "│ u32   ┆ i32        │\n",
       "╞═══════╪════════════╡\n",
       "│ 0     ┆ 3000022    │\n",
       "│ 1     ┆ 3000063    │\n",
       "│ 2     ┆ 3000613    │\n",
       "│ 3     ┆ 3000700    │\n",
       "│ 4     ┆ 3000840    │\n",
       "│ …     ┆ …          │\n",
       "│ 49995 ┆ 7090834    │\n",
       "│ 49996 ┆ 7090903    │\n",
       "│ 49997 ┆ 7091059    │\n",
       "│ 49998 ┆ 7091113    │\n",
       "│ 49999 ┆ 7091148    │\n",
       "└───────┴────────────┘"
      ]
     },
     "execution_count": 8,
     "metadata": {},
     "output_type": "execute_result"
    }
   ],
   "source": [
    "article_emb_mapping = embeddings.select('index', 'article_id')\n",
    "article_emb_mapping"
   ]
  },
  {
   "cell_type": "code",
   "execution_count": 9,
   "metadata": {},
   "outputs": [
    {
     "data": {
      "text/plain": [
       "array([3000022, 3000063, 3000613, ..., 7091059, 7091113, 7091148],\n",
       "      dtype=int32)"
      ]
     },
     "execution_count": 9,
     "metadata": {},
     "output_type": "execute_result"
    }
   ],
   "source": [
    "artilce_ids = article_emb_mapping['article_id'].unique().to_numpy()\n",
    "artilce_ids"
   ]
  },
  {
   "cell_type": "code",
   "execution_count": 10,
   "metadata": {},
   "outputs": [
    {
     "name": "stdout",
     "output_type": "stream",
     "text": [
      "Similarity Matrix:\n",
      "tensor([[1.0000, 0.9066, 0.8908,  ..., 0.9053, 0.9019, 0.9083],\n",
      "        [0.9066, 1.0000, 0.8627,  ..., 0.9912, 0.9887, 0.9890],\n",
      "        [0.8908, 0.8627, 1.0000,  ..., 0.8633, 0.8643, 0.8767],\n",
      "        ...,\n",
      "        [0.9053, 0.9912, 0.8633,  ..., 1.0000, 0.9921, 0.9888],\n",
      "        [0.9019, 0.9887, 0.8643,  ..., 0.9921, 1.0000, 0.9884],\n",
      "        [0.9083, 0.9890, 0.8767,  ..., 0.9888, 0.9884, 1.0000]])\n"
     ]
    }
   ],
   "source": [
    "import torch\n",
    "import numpy as np\n",
    "\n",
    "# Example NumPy matrix (replace this with your actual data)\n",
    "numpy_matrix = m\n",
    "\n",
    "# Convert to PyTorch tensor\n",
    "tensor_matrix = torch.tensor(numpy_matrix, dtype=torch.float32)\n",
    "\n",
    "# Normalize the tensor along axis 1 (rows)\n",
    "tensor_matrix_normalized = torch.nn.functional.normalize(tensor_matrix, p=2, dim=1)\n",
    "\n",
    "# Compute the similarity matrix using matrix multiplication\n",
    "similarity_matrix = torch.matmul(tensor_matrix_normalized, tensor_matrix_normalized.T)\n",
    "\n",
    "print(\"Similarity Matrix:\")\n",
    "print(similarity_matrix)\n"
   ]
  },
  {
   "cell_type": "code",
   "execution_count": 16,
   "metadata": {},
   "outputs": [
    {
     "ename": "TypeError",
     "evalue": "Population must be a sequence.  For dicts or sets, use sorted(d).",
     "output_type": "error",
     "traceback": [
      "\u001b[0;31m---------------------------------------------------------------------------\u001b[0m",
      "\u001b[0;31mTypeError\u001b[0m                                 Traceback (most recent call last)",
      "Cell \u001b[0;32mIn[16], line 5\u001b[0m\n\u001b[1;32m      1\u001b[0m \u001b[38;5;28;01mimport\u001b[39;00m \u001b[38;5;21;01mrandom\u001b[39;00m\n\u001b[1;32m      2\u001b[0m df \u001b[38;5;241m=\u001b[39m behaviors_train\u001b[38;5;241m.\u001b[39mselect(\u001b[38;5;124m'\u001b[39m\u001b[38;5;124mimpression_id\u001b[39m\u001b[38;5;124m'\u001b[39m, \u001b[38;5;124m'\u001b[39m\u001b[38;5;124muser_id\u001b[39m\u001b[38;5;124m'\u001b[39m, pl\u001b[38;5;241m.\u001b[39mcol(\u001b[38;5;124m'\u001b[39m\u001b[38;5;124marticle_ids_inview\u001b[39m\u001b[38;5;124m'\u001b[39m)\u001b[38;5;241m.\u001b[39malias(\u001b[38;5;124m'\u001b[39m\u001b[38;5;124marticle\u001b[39m\u001b[38;5;124m'\u001b[39m))\\\n\u001b[1;32m      3\u001b[0m     \u001b[38;5;241m.\u001b[39mjoin(history_train, on\u001b[38;5;241m=\u001b[39m\u001b[38;5;124m'\u001b[39m\u001b[38;5;124muser_id\u001b[39m\u001b[38;5;124m'\u001b[39m)\\\n\u001b[1;32m      4\u001b[0m     \u001b[38;5;241m.\u001b[39mwith_columns(\n\u001b[0;32m----> 5\u001b[0m         pl\u001b[38;5;241m.\u001b[39mSeries([\u001b[43mrandom\u001b[49m\u001b[38;5;241;43m.\u001b[39;49m\u001b[43msample\u001b[49m\u001b[43m(\u001b[49m\u001b[43martilce_ids\u001b[49m\u001b[43m,\u001b[49m\u001b[43m \u001b[49m\u001b[38;5;241;43m3\u001b[39;49m\u001b[43m)\u001b[49m] \u001b[38;5;241m*\u001b[39m \u001b[38;5;28mlen\u001b[39m(df))\n\u001b[1;32m      6\u001b[0m     )\n\u001b[1;32m      8\u001b[0m df\u001b[38;5;241m.\u001b[39mhead(\u001b[38;5;241m2\u001b[39m)\n",
      "File \u001b[0;32m~/miniforge3/envs/recsys/lib/python3.11/random.py:436\u001b[0m, in \u001b[0;36mRandom.sample\u001b[0;34m(self, population, k, counts)\u001b[0m\n\u001b[1;32m    412\u001b[0m \u001b[38;5;66;03m# Sampling without replacement entails tracking either potential\u001b[39;00m\n\u001b[1;32m    413\u001b[0m \u001b[38;5;66;03m# selections (the pool) in a list or previous selections in a set.\u001b[39;00m\n\u001b[1;32m    414\u001b[0m \n\u001b[0;32m   (...)\u001b[0m\n\u001b[1;32m    432\u001b[0m \u001b[38;5;66;03m# too many calls to _randbelow(), making them slower and\u001b[39;00m\n\u001b[1;32m    433\u001b[0m \u001b[38;5;66;03m# causing them to eat more entropy than necessary.\u001b[39;00m\n\u001b[1;32m    435\u001b[0m \u001b[38;5;28;01mif\u001b[39;00m \u001b[38;5;129;01mnot\u001b[39;00m \u001b[38;5;28misinstance\u001b[39m(population, _Sequence):\n\u001b[0;32m--> 436\u001b[0m     \u001b[38;5;28;01mraise\u001b[39;00m \u001b[38;5;167;01mTypeError\u001b[39;00m(\u001b[38;5;124m\"\u001b[39m\u001b[38;5;124mPopulation must be a sequence.  \u001b[39m\u001b[38;5;124m\"\u001b[39m\n\u001b[1;32m    437\u001b[0m                     \u001b[38;5;124m\"\u001b[39m\u001b[38;5;124mFor dicts or sets, use sorted(d).\u001b[39m\u001b[38;5;124m\"\u001b[39m)\n\u001b[1;32m    438\u001b[0m n \u001b[38;5;241m=\u001b[39m \u001b[38;5;28mlen\u001b[39m(population)\n\u001b[1;32m    439\u001b[0m \u001b[38;5;28;01mif\u001b[39;00m counts \u001b[38;5;129;01mis\u001b[39;00m \u001b[38;5;129;01mnot\u001b[39;00m \u001b[38;5;28;01mNone\u001b[39;00m:\n",
      "\u001b[0;31mTypeError\u001b[0m: Population must be a sequence.  For dicts or sets, use sorted(d)."
     ]
    }
   ],
   "source": [
    "import random\n",
    "df = behaviors_train.select('impression_id', 'user_id', pl.col('article_ids_inview').alias('article'))\\\n",
    "    .join(history_train, on='user_id')\\\n",
    "    .with_columns(\n",
    "        pl.Series([random.sample(artilce_ids, 3)] * len(df))\n",
    "    )\n",
    "\n",
    "df.head(2)"
   ]
  },
  {
   "cell_type": "code",
   "execution_count": 15,
   "metadata": {},
   "outputs": [
    {
     "ename": "TypeError",
     "evalue": "'module' object is not callable",
     "output_type": "error",
     "traceback": [
      "\u001b[0;31m---------------------------------------------------------------------------\u001b[0m",
      "\u001b[0;31mTypeError\u001b[0m                                 Traceback (most recent call last)",
      "Cell \u001b[0;32mIn[15], line 1\u001b[0m\n\u001b[0;32m----> 1\u001b[0m \u001b[43mnp\u001b[49m\u001b[38;5;241;43m.\u001b[39;49m\u001b[43mrandom\u001b[49m\u001b[43m(\u001b[49m\u001b[38;5;241;43m1\u001b[39;49m\u001b[43m)\u001b[49m\n",
      "\u001b[0;31mTypeError\u001b[0m: 'module' object is not callable"
     ]
    }
   ],
   "source": [
    "np.random(1)"
   ]
  },
  {
   "cell_type": "code",
   "execution_count": null,
   "metadata": {},
   "outputs": [],
   "source": []
  }
 ],
 "metadata": {
  "kernelspec": {
   "display_name": "recsys",
   "language": "python",
   "name": "python3"
  },
  "language_info": {
   "codemirror_mode": {
    "name": "ipython",
    "version": 3
   },
   "file_extension": ".py",
   "mimetype": "text/x-python",
   "name": "python",
   "nbconvert_exporter": "python",
   "pygments_lexer": "ipython3",
   "version": "3.11.0"
  }
 },
 "nbformat": 4,
 "nbformat_minor": 2
}
