{
 "cells": [
  {
   "cell_type": "code",
   "execution_count": 1,
   "metadata": {},
   "outputs": [
    {
     "name": "stderr",
     "output_type": "stream",
     "text": [
      "2024-06-17 15:27:17.581768: I tensorflow/core/util/port.cc:113] oneDNN custom operations are on. You may see slightly different numerical results due to floating-point round-off errors from different computation orders. To turn them off, set the environment variable `TF_ENABLE_ONEDNN_OPTS=0`.\n",
      "2024-06-17 15:27:17.656498: I tensorflow/core/platform/cpu_feature_guard.cc:210] This TensorFlow binary is optimized to use available CPU instructions in performance-critical operations.\n",
      "To enable the following instructions: AVX2 AVX512F AVX512_VNNI FMA, in other operations, rebuild TensorFlow with the appropriate compiler flags.\n",
      "2024-06-17 15:27:18.846365: W tensorflow/compiler/tf2tensorrt/utils/py_utils.cc:38] TF-TRT Warning: Could not find TensorRT\n"
     ]
    },
    {
     "name": "stdout",
     "output_type": "stream",
     "text": [
      "2.16.1\n"
     ]
    }
   ],
   "source": [
    "import polars as pl\n",
    "import tensorflow as tf\n",
    "from tensorflow import keras as tfk\n",
    "from tensorflow.keras import layers as tfkl\n",
    "import numpy as np\n",
    "import logging\n",
    "import random\n",
    "\n",
    "seed = 42\n",
    "np.random.seed(seed)\n",
    "random.seed(seed)\n",
    "tf.autograph.set_verbosity(0)\n",
    "tf.get_logger().setLevel(logging.ERROR)\n",
    "tf.random.set_seed(seed)\n",
    "print(tf.__version__)"
   ]
  },
  {
   "cell_type": "code",
   "execution_count": 13,
   "metadata": {},
   "outputs": [
    {
     "name": "stdout",
     "output_type": "stream",
     "text": [
      "2024-01-06 00:00:00\n",
      "[datetime.timedelta(days=-2) datetime.timedelta(days=-1)\n",
      " datetime.timedelta(0)]\n",
      "[3 4 5]\n",
      "5\n",
      "Selected target_id: 5 2\n"
     ]
    }
   ],
   "source": [
    "import numpy as np\n",
    "from datetime import datetime, timedelta\n",
    "\n",
    "def optimized_target_id(x_i, x, impression_time_idx, i, window):\n",
    "    # Precompute timedelta once\n",
    "    seven_days = timedelta(days=7)\n",
    "\n",
    "    # Get the last impression time once\n",
    "    last_window_date = x_i[impression_time_idx][-1]\n",
    "    print(last_window_date)\n",
    "\n",
    "    # Create a mask for valid time indices based on the 7 days condition\n",
    "    time_diffs = x[:, (i + window + 1):][impression_time_idx] - last_window_date\n",
    "    print(time_diffs)\n",
    "    valid_mask = time_diffs <= seven_days\n",
    "\n",
    "    # Find the maximum valid index within the mask\n",
    "    valid_indices = np.where(valid_mask)[0] + (i + window + 1)\n",
    "    print(valid_indices)\n",
    "\n",
    "    # Determine max_telescope using the precomputed valid_indices\n",
    "    max_telescope = valid_indices[-1] if valid_indices.size > 0 else i + window\n",
    "    print(max_telescope)\n",
    "\n",
    "    # Randomly select a target_id within the valid range\n",
    "    target_id = np.random.randint(i + window, max_telescope + 1)\n",
    "\n",
    "    return target_id\n",
    "\n",
    "\n",
    "def non_optimized_target_id(x_i, x, impression_time_idx, i, window):\n",
    "    # Precompute timedelta once\n",
    "    seven_days = timedelta(days=7)\n",
    "\n",
    "    # Get the last impression time once\n",
    "    last_window_date = x_i[impression_time_idx][-1]\n",
    "\n",
    "    # Precompute the valid time range indices\n",
    "    valid_indices = [t for t in range(i + window + 1, x.shape[1])\n",
    "                    if (x[:, t][impression_time_idx] - last_window_date) <= seven_days]\n",
    "\n",
    "    # Determine max_telescope using the precomputed valid_indices\n",
    "    max_telescope = max(valid_indices, default=i + window)\n",
    "\n",
    "    # Randomly select a target_id within the valid range\n",
    "    target_id = np.random.randint(i + window, max_telescope + 1)\n",
    "    \n",
    "    return target_id\n",
    "\n",
    "# Test case\n",
    "# Example data setup\n",
    "impression_time_idx = 0\n",
    "i = 0\n",
    "window = 2\n",
    "\n",
    "# Create dummy datetime data\n",
    "base_time = datetime(2024, 1, 1)\n",
    "x_i = np.array([\n",
    "    [base_time, base_time + timedelta(days=1), base_time + timedelta(days=2),\n",
    "        base_time + timedelta(days=3), base_time + timedelta(days=4), base_time + timedelta(days=5)]\n",
    "])\n",
    "\n",
    "# Replicate x_i data for x array, adding more columns for the time range\n",
    "x = np.tile(x_i, (3, 1))  # Assuming 3 rows for demonstration\n",
    "\n",
    "# Call the function\n",
    "target_id = optimized_target_id(x_i, x, impression_time_idx, i, window)\n",
    "target_id_a = non_optimized_target_id(x_i, x, impression_time_idx, i, window)\n",
    "print(\"Selected target_id:\", target_id, target_id_a)\n",
    "\n"
   ]
  },
  {
   "cell_type": "code",
   "execution_count": 19,
   "metadata": {},
   "outputs": [
    {
     "data": {
      "text/plain": [
       "array([3, 4])"
      ]
     },
     "execution_count": 19,
     "metadata": {},
     "output_type": "execute_result"
    }
   ],
   "source": [
    "import numpy as np\n",
    "\n",
    "arr = np.array([1, 2, 3, 4, 5])\n",
    "condition = arr > 3\n",
    "result = np.where(condition)\n",
    "result[0]"
   ]
  },
  {
   "cell_type": "code",
   "execution_count": 20,
   "metadata": {},
   "outputs": [
    {
     "data": {
      "text/plain": [
       "2"
      ]
     },
     "execution_count": 20,
     "metadata": {},
     "output_type": "execute_result"
    }
   ],
   "source": [
    "result[0].size"
   ]
  },
  {
   "cell_type": "code",
   "execution_count": 23,
   "metadata": {},
   "outputs": [
    {
     "data": {
      "text/html": [
       "<div><style>\n",
       ".dataframe > thead > tr,\n",
       ".dataframe > tbody > tr {\n",
       "  text-align: right;\n",
       "  white-space: pre-wrap;\n",
       "}\n",
       "</style>\n",
       "<small>shape: (2, 5)</small><table border=\"1\" class=\"dataframe\"><thead><tr><th>user_id</th><th>impression_time_fixed</th><th>scroll_percentage_fixed</th><th>article_id_fixed</th><th>read_time_fixed</th></tr><tr><td>u32</td><td>list[datetime[μs]]</td><td>list[f32]</td><td>list[i32]</td><td>list[f32]</td></tr></thead><tbody><tr><td>13538</td><td>[2023-04-27 10:17:43, 2023-04-27 10:18:01, … 2023-05-17 20:36:34]</td><td>[100.0, 35.0, … 100.0]</td><td>[9738663, 9738569, … 9769366]</td><td>[17.0, 12.0, … 16.0]</td></tr><tr><td>14241</td><td>[2023-04-27 09:40:18, 2023-04-27 09:40:33, … 2023-05-17 17:08:41]</td><td>[100.0, 46.0, … 100.0]</td><td>[9738557, 9738528, … 9767852]</td><td>[8.0, 9.0, … 12.0]</td></tr></tbody></table></div>"
      ],
      "text/plain": [
       "shape: (2, 5)\n",
       "┌─────────┬──────────────────────┬─────────────────────┬─────────────────────┬─────────────────────┐\n",
       "│ user_id ┆ impression_time_fixe ┆ scroll_percentage_f ┆ article_id_fixed    ┆ read_time_fixed     │\n",
       "│ ---     ┆ d                    ┆ ixed                ┆ ---                 ┆ ---                 │\n",
       "│ u32     ┆ ---                  ┆ ---                 ┆ list[i32]           ┆ list[f32]           │\n",
       "│         ┆ list[datetime[μs]]   ┆ list[f32]           ┆                     ┆                     │\n",
       "╞═════════╪══════════════════════╪═════════════════════╪═════════════════════╪═════════════════════╡\n",
       "│ 13538   ┆ [2023-04-27          ┆ [100.0, 35.0, …     ┆ [9738663, 9738569,  ┆ [17.0, 12.0, …      │\n",
       "│         ┆ 10:17:43, 2023-04-…  ┆ 100.0]              ┆ … 9769366]          ┆ 16.0]               │\n",
       "│ 14241   ┆ [2023-04-27          ┆ [100.0, 46.0, …     ┆ [9738557, 9738528,  ┆ [8.0, 9.0, … 12.0]  │\n",
       "│         ┆ 09:40:18, 2023-04-…  ┆ 100.0]              ┆ … 9767852]          ┆                     │\n",
       "└─────────┴──────────────────────┴─────────────────────┴─────────────────────┴─────────────────────┘"
      ]
     },
     "execution_count": 23,
     "metadata": {},
     "output_type": "execute_result"
    }
   ],
   "source": [
    "history = pl.read_parquet('/home/ubuntu/dataset/ebnerd_small/train/history.parquet')\n",
    "history_val = pl.read_parquet('/home/ubuntu/dataset/ebnerd_small/validation/history.parquet')\n",
    "history_testset = \n",
    "behaviors = pl.read_parquet('/home/ubuntu/dataset/ebnerd_large/train/behaviors.parquet')\n",
    "behaviors_testset = pl.read_parquet('/home/ubuntu/dataset/ebnerd_testset/test/behaviors.parquet')\n",
    "articles = pl.read_parquet('/home/ubuntu/dataset/ebnerd_small/articles.parquet')\n",
    "history.head(2)"
   ]
  },
  {
   "cell_type": "code",
   "execution_count": 28,
   "metadata": {},
   "outputs": [
    {
     "data": {
      "text/html": [
       "<div><style>\n",
       ".dataframe > thead > tr,\n",
       ".dataframe > tbody > tr {\n",
       "  text-align: right;\n",
       "  white-space: pre-wrap;\n",
       "}\n",
       "</style>\n",
       "<small>shape: (9, 15)</small><table border=\"1\" class=\"dataframe\"><thead><tr><th>statistic</th><th>user_id</th><th>impression_id</th><th>impression_time</th><th>read_time</th><th>scroll_percentage</th><th>device_type</th><th>article_ids_inview</th><th>is_sso_user</th><th>gender</th><th>postcode</th><th>age</th><th>is_subscriber</th><th>session_id</th><th>is_beyond_accuracy</th></tr><tr><td>str</td><td>f64</td><td>f64</td><td>str</td><td>f64</td><td>f64</td><td>f64</td><td>f64</td><td>f64</td><td>f64</td><td>f64</td><td>f64</td><td>f64</td><td>f64</td><td>f64</td></tr></thead><tbody><tr><td>&quot;count&quot;</td><td>807677.0</td><td>807677.0</td><td>&quot;807677&quot;</td><td>807677.0</td><td>240229.0</td><td>807677.0</td><td>807677.0</td><td>807677.0</td><td>33435.0</td><td>10939.0</td><td>14777.0</td><td>807677.0</td><td>807677.0</td><td>807677.0</td></tr><tr><td>&quot;null_count&quot;</td><td>0.0</td><td>0.0</td><td>&quot;0&quot;</td><td>0.0</td><td>567448.0</td><td>0.0</td><td>0.0</td><td>0.0</td><td>774242.0</td><td>796738.0</td><td>792900.0</td><td>0.0</td><td>0.0</td><td>0.0</td></tr><tr><td>&quot;mean&quot;</td><td>1.3006e6</td><td>1.2665e8</td><td>&quot;2023-06-04 14:03:03.409243&quot;</td><td>51.282566</td><td>99.396301</td><td>1.651406</td><td>null</td><td>0.062682</td><td>0.150501</td><td>1.493372</td><td>50.280842</td><td>0.031769</td><td>6.7135e7</td><td>0.0</td></tr><tr><td>&quot;std&quot;</td><td>745166.979895</td><td>1.3670e8</td><td>null</td><td>106.134048</td><td>5.766483</td><td>0.530605</td><td>null</td><td>null</td><td>0.357651</td><td>1.45708</td><td>14.701355</td><td>null</td><td>3.1864e7</td><td>null</td></tr><tr><td>&quot;min&quot;</td><td>10000.0</td><td>6.451339e6</td><td>&quot;2023-06-01 07:00:00&quot;</td><td>0.0</td><td>0.0</td><td>0.0</td><td>null</td><td>0.0</td><td>0.0</td><td>0.0</td><td>0.0</td><td>0.0</td><td>44.0</td><td>0.0</td></tr><tr><td>&quot;25%&quot;</td><td>655833.0</td><td>2.9926166e7</td><td>&quot;2023-06-02 14:48:36&quot;</td><td>12.0</td><td>100.0</td><td>1.0</td><td>null</td><td>null</td><td>0.0</td><td>0.0</td><td>40.0</td><td>null</td><td>4.1347833e7</td><td>null</td></tr><tr><td>&quot;50%&quot;</td><td>1.30141e6</td><td>7.4352964e7</td><td>&quot;2023-06-04 14:32:35&quot;</td><td>23.0</td><td>100.0</td><td>2.0</td><td>null</td><td>null</td><td>0.0</td><td>1.0</td><td>50.0</td><td>null</td><td>7.4099885e7</td><td>null</td></tr><tr><td>&quot;75%&quot;</td><td>1.945135e6</td><td>1.8755451e8</td><td>&quot;2023-06-06 09:58:34&quot;</td><td>52.0</td><td>100.0</td><td>2.0</td><td>null</td><td>null</td><td>0.0</td><td>3.0</td><td>60.0</td><td>null</td><td>9.570464e7</td><td>null</td></tr><tr><td>&quot;max&quot;</td><td>2.590693e6</td><td>5.75650165e8</td><td>&quot;2023-06-08 06:59:59&quot;</td><td>1800.0</td><td>100.0</td><td>3.0</td><td>null</td><td>1.0</td><td>2.0</td><td>4.0</td><td>100.0</td><td>1.0</td><td>1.08582914e8</td><td>0.0</td></tr></tbody></table></div>"
      ],
      "text/plain": [
       "shape: (9, 15)\n",
       "┌───────────┬───────────┬───────────┬───────────┬───┬───────────┬───────────┬───────────┬──────────┐\n",
       "│ statistic ┆ user_id   ┆ impressio ┆ impressio ┆ … ┆ age       ┆ is_subscr ┆ session_i ┆ is_beyon │\n",
       "│ ---       ┆ ---       ┆ n_id      ┆ n_time    ┆   ┆ ---       ┆ iber      ┆ d         ┆ d_accura │\n",
       "│ str       ┆ f64       ┆ ---       ┆ ---       ┆   ┆ f64       ┆ ---       ┆ ---       ┆ cy       │\n",
       "│           ┆           ┆ f64       ┆ str       ┆   ┆           ┆ f64       ┆ f64       ┆ ---      │\n",
       "│           ┆           ┆           ┆           ┆   ┆           ┆           ┆           ┆ f64      │\n",
       "╞═══════════╪═══════════╪═══════════╪═══════════╪═══╪═══════════╪═══════════╪═══════════╪══════════╡\n",
       "│ count     ┆ 807677.0  ┆ 807677.0  ┆ 807677    ┆ … ┆ 14777.0   ┆ 807677.0  ┆ 807677.0  ┆ 807677.0 │\n",
       "│ null_coun ┆ 0.0       ┆ 0.0       ┆ 0         ┆ … ┆ 792900.0  ┆ 0.0       ┆ 0.0       ┆ 0.0      │\n",
       "│ t         ┆           ┆           ┆           ┆   ┆           ┆           ┆           ┆          │\n",
       "│ mean      ┆ 1.3006e6  ┆ 1.2665e8  ┆ 2023-06-0 ┆ … ┆ 50.280842 ┆ 0.031769  ┆ 6.7135e7  ┆ 0.0      │\n",
       "│           ┆           ┆           ┆ 4 14:03:0 ┆   ┆           ┆           ┆           ┆          │\n",
       "│           ┆           ┆           ┆ 3.409243  ┆   ┆           ┆           ┆           ┆          │\n",
       "│ std       ┆ 745166.97 ┆ 1.3670e8  ┆ null      ┆ … ┆ 14.701355 ┆ null      ┆ 3.1864e7  ┆ null     │\n",
       "│           ┆ 9895      ┆           ┆           ┆   ┆           ┆           ┆           ┆          │\n",
       "│ min       ┆ 10000.0   ┆ 6.451339e ┆ 2023-06-0 ┆ … ┆ 0.0       ┆ 0.0       ┆ 44.0      ┆ 0.0      │\n",
       "│           ┆           ┆ 6         ┆ 1         ┆   ┆           ┆           ┆           ┆          │\n",
       "│           ┆           ┆           ┆ 07:00:00  ┆   ┆           ┆           ┆           ┆          │\n",
       "│ 25%       ┆ 655833.0  ┆ 2.9926166 ┆ 2023-06-0 ┆ … ┆ 40.0      ┆ null      ┆ 4.1347833 ┆ null     │\n",
       "│           ┆           ┆ e7        ┆ 2         ┆   ┆           ┆           ┆ e7        ┆          │\n",
       "│           ┆           ┆           ┆ 14:48:36  ┆   ┆           ┆           ┆           ┆          │\n",
       "│ 50%       ┆ 1.30141e6 ┆ 7.4352964 ┆ 2023-06-0 ┆ … ┆ 50.0      ┆ null      ┆ 7.4099885 ┆ null     │\n",
       "│           ┆           ┆ e7        ┆ 4         ┆   ┆           ┆           ┆ e7        ┆          │\n",
       "│           ┆           ┆           ┆ 14:32:35  ┆   ┆           ┆           ┆           ┆          │\n",
       "│ 75%       ┆ 1.945135e ┆ 1.8755451 ┆ 2023-06-0 ┆ … ┆ 60.0      ┆ null      ┆ 9.570464e ┆ null     │\n",
       "│           ┆ 6         ┆ e8        ┆ 6         ┆   ┆           ┆           ┆ 7         ┆          │\n",
       "│           ┆           ┆           ┆ 09:58:34  ┆   ┆           ┆           ┆           ┆          │\n",
       "│ max       ┆ 2.590693e ┆ 5.7565016 ┆ 2023-06-0 ┆ … ┆ 100.0     ┆ 1.0       ┆ 1.0858291 ┆ 0.0      │\n",
       "│           ┆ 6         ┆ 5e8       ┆ 8         ┆   ┆           ┆           ┆ 4e8       ┆          │\n",
       "│           ┆           ┆           ┆ 06:59:59  ┆   ┆           ┆           ┆           ┆          │\n",
       "└───────────┴───────────┴───────────┴───────────┴───┴───────────┴───────────┴───────────┴──────────┘"
      ]
     },
     "execution_count": 28,
     "metadata": {},
     "output_type": "execute_result"
    }
   ],
   "source": [
    "behaviors_testset.group_by('user_id').agg(pl.all().first()).describe()"
   ]
  },
  {
   "cell_type": "code",
   "execution_count": 29,
   "metadata": {},
   "outputs": [
    {
     "data": {
      "text/plain": [
       "53.65771130811396"
      ]
     },
     "execution_count": 29,
     "metadata": {},
     "output_type": "execute_result"
    }
   ],
   "source": [
    "behaviors_testset.group_by('user_id').agg(pl.all().first())['age'].is_null().sum() / behaviors_testset.group_by('user_id').agg(pl.all().first())['age'].is_not_null().sum()"
   ]
  },
  {
   "cell_type": "code",
   "execution_count": 25,
   "metadata": {},
   "outputs": [
    {
     "data": {
      "text/html": [
       "<div><style>\n",
       ".dataframe > thead > tr,\n",
       ".dataframe > tbody > tr {\n",
       "  text-align: right;\n",
       "  white-space: pre-wrap;\n",
       "}\n",
       "</style>\n",
       "<small>shape: (9, 2)</small><table border=\"1\" class=\"dataframe\"><thead><tr><th>statistic</th><th>value</th></tr><tr><td>str</td><td>f64</td></tr></thead><tbody><tr><td>&quot;count&quot;</td><td>397679.0</td></tr><tr><td>&quot;null_count&quot;</td><td>0.0</td></tr><tr><td>&quot;mean&quot;</td><td>52.462564</td></tr><tr><td>&quot;std&quot;</td><td>14.04399</td></tr><tr><td>&quot;min&quot;</td><td>0.0</td></tr><tr><td>&quot;25%&quot;</td><td>40.0</td></tr><tr><td>&quot;50%&quot;</td><td>50.0</td></tr><tr><td>&quot;75%&quot;</td><td>60.0</td></tr><tr><td>&quot;max&quot;</td><td>100.0</td></tr></tbody></table></div>"
      ],
      "text/plain": [
       "shape: (9, 2)\n",
       "┌────────────┬───────────┐\n",
       "│ statistic  ┆ value     │\n",
       "│ ---        ┆ ---       │\n",
       "│ str        ┆ f64       │\n",
       "╞════════════╪═══════════╡\n",
       "│ count      ┆ 397679.0  │\n",
       "│ null_count ┆ 0.0       │\n",
       "│ mean       ┆ 52.462564 │\n",
       "│ std        ┆ 14.04399  │\n",
       "│ min        ┆ 0.0       │\n",
       "│ 25%        ┆ 40.0      │\n",
       "│ 50%        ┆ 50.0      │\n",
       "│ 75%        ┆ 60.0      │\n",
       "│ max        ┆ 100.0     │\n",
       "└────────────┴───────────┘"
      ]
     },
     "execution_count": 25,
     "metadata": {},
     "output_type": "execute_result"
    }
   ],
   "source": [
    "behaviors_testset.filter(pl.col('age').is_not_null())['age'].describe()"
   ]
  },
  {
   "cell_type": "code",
   "execution_count": 19,
   "metadata": {},
   "outputs": [
    {
     "name": "stderr",
     "output_type": "stream",
     "text": [
      "100%|██████████| 18827/18827 [00:28<00:00, 652.98it/s]\n"
     ]
    },
    {
     "data": {
      "text/html": [
       "<div><style>\n",
       ".dataframe > thead > tr,\n",
       ".dataframe > tbody > tr {\n",
       "  text-align: right;\n",
       "  white-space: pre-wrap;\n",
       "}\n",
       "</style>\n",
       "<small>shape: (18_827, 5)</small><table border=\"1\" class=\"dataframe\"><thead><tr><th>user_id</th><th>impression_time_fixed</th><th>scroll_percentage_fixed</th><th>article_id_fixed</th><th>read_time_fixed</th></tr><tr><td>u32</td><td>list[datetime[μs]]</td><td>list[f32]</td><td>list[i32]</td><td>list[f32]</td></tr></thead><tbody><tr><td>10068</td><td>[2023-04-27 14:22:26, 2023-04-27 18:51:53, … 2023-05-16 19:48:21]</td><td>[100.0, 100.0, … 100.0]</td><td>[9735753, 9739065, … 9759717]</td><td>[39.0, 21.0, … 7.0]</td></tr><tr><td>10200</td><td>[2023-05-14 05:46:27, 2023-05-14 05:46:44, … 2023-05-23 13:16:25]</td><td>[36.0, 24.0, … 25.0]</td><td>[9764325, 9763923, … 9777308]</td><td>[16.0, 15.0, … 6.0]</td></tr><tr><td>10201</td><td>[2023-04-27 09:49:02, 2023-04-27 09:49:47, … 2023-05-25 06:50:32]</td><td>[97.0, 55.0, … 100.0]</td><td>[9738557, 9738569, … 9779205]</td><td>[45.0, 16.0, … 33.0]</td></tr><tr><td>10385</td><td>[2023-05-23 11:46:06, 2023-05-23 11:46:26, … 2023-05-25 04:56:20]</td><td>[26.0, 29.0, … 32.0]</td><td>[9777320, 9777475, … 9780020]</td><td>[19.0, 25.0, … 9.0]</td></tr><tr><td>10623</td><td>[2023-04-27 14:29:44, 2023-04-27 14:29:47, … 2023-05-24 17:10:11]</td><td>[48.0, 100.0, … 32.0]</td><td>[9739035, 9739065, … 9779517]</td><td>[1.0, 9.0, … 2.0]</td></tr><tr><td>&hellip;</td><td>&hellip;</td><td>&hellip;</td><td>&hellip;</td><td>&hellip;</td></tr><tr><td>2590039</td><td>[2023-05-23 17:54:22, 2023-05-23 18:06:03, … 2023-05-24 19:12:10]</td><td>[null, 100.0, … 100.0]</td><td>[9778168, 9778198, … 9779737]</td><td>[701.0, 47.0, … 1.0]</td></tr><tr><td>2590054</td><td>[2023-04-30 18:04:22, 2023-04-30 18:05:03, … 2023-05-17 19:07:00]</td><td>[100.0, 99.0, … 44.0]</td><td>[9741288, 9743490, … 9764444]</td><td>[41.0, 10.0, … 14.0]</td></tr><tr><td>2590471</td><td>[2023-05-17 17:27:42, 2023-05-17 17:28:10, … 2023-05-18 01:13:42]</td><td>[87.0, 100.0, … 26.0]</td><td>[9770533, 9770491, … 9768321]</td><td>[23.0, 47.0, … 9.0]</td></tr><tr><td>2590571</td><td>[2023-05-12 20:45:35, 2023-05-13 22:03:53, … 2023-05-24 21:25:47]</td><td>[null, 100.0, … 36.0]</td><td>[9762694, 9764086, … 9778788]</td><td>[0.0, 21.0, … 67.0]</td></tr><tr><td>2590637</td><td>[2023-04-27 17:01:52, 2023-04-27 17:01:57, … 2023-05-24 19:38:43]</td><td>[25.0, 67.0, … 68.0]</td><td>[9739296, 9739065, … 9779738]</td><td>[1.0, 8.0, … 17.0]</td></tr></tbody></table></div>"
      ],
      "text/plain": [
       "shape: (18_827, 5)\n",
       "┌─────────┬──────────────────────┬─────────────────────┬─────────────────────┬─────────────────────┐\n",
       "│ user_id ┆ impression_time_fixe ┆ scroll_percentage_f ┆ article_id_fixed    ┆ read_time_fixed     │\n",
       "│ ---     ┆ d                    ┆ ixed                ┆ ---                 ┆ ---                 │\n",
       "│ u32     ┆ ---                  ┆ ---                 ┆ list[i32]           ┆ list[f32]           │\n",
       "│         ┆ list[datetime[μs]]   ┆ list[f32]           ┆                     ┆                     │\n",
       "╞═════════╪══════════════════════╪═════════════════════╪═════════════════════╪═════════════════════╡\n",
       "│ 10068   ┆ [2023-04-27          ┆ [100.0, 100.0, …    ┆ [9735753, 9739065,  ┆ [39.0, 21.0, … 7.0] │\n",
       "│         ┆ 14:22:26, 2023-04-…  ┆ 100.0]              ┆ … 9759717]          ┆                     │\n",
       "│ 10200   ┆ [2023-05-14          ┆ [36.0, 24.0, …      ┆ [9764325, 9763923,  ┆ [16.0, 15.0, … 6.0] │\n",
       "│         ┆ 05:46:27, 2023-05-…  ┆ 25.0]               ┆ … 9777308]          ┆                     │\n",
       "│ 10201   ┆ [2023-04-27          ┆ [97.0, 55.0, …      ┆ [9738557, 9738569,  ┆ [45.0, 16.0, …      │\n",
       "│         ┆ 09:49:02, 2023-04-…  ┆ 100.0]              ┆ … 9779205]          ┆ 33.0]               │\n",
       "│ 10385   ┆ [2023-05-23          ┆ [26.0, 29.0, …      ┆ [9777320, 9777475,  ┆ [19.0, 25.0, … 9.0] │\n",
       "│         ┆ 11:46:06, 2023-05-…  ┆ 32.0]               ┆ … 9780020]          ┆                     │\n",
       "│ 10623   ┆ [2023-04-27          ┆ [48.0, 100.0, …     ┆ [9739035, 9739065,  ┆ [1.0, 9.0, … 2.0]   │\n",
       "│         ┆ 14:29:44, 2023-04-…  ┆ 32.0]               ┆ … 9779517]          ┆                     │\n",
       "│ …       ┆ …                    ┆ …                   ┆ …                   ┆ …                   │\n",
       "│ 2590039 ┆ [2023-05-23          ┆ [null, 100.0, …     ┆ [9778168, 9778198,  ┆ [701.0, 47.0, …     │\n",
       "│         ┆ 17:54:22, 2023-05-…  ┆ 100.0]              ┆ … 9779737]          ┆ 1.0]                │\n",
       "│ 2590054 ┆ [2023-04-30          ┆ [100.0, 99.0, …     ┆ [9741288, 9743490,  ┆ [41.0, 10.0, …      │\n",
       "│         ┆ 18:04:22, 2023-04-…  ┆ 44.0]               ┆ … 9764444]          ┆ 14.0]               │\n",
       "│ 2590471 ┆ [2023-05-17          ┆ [87.0, 100.0, …     ┆ [9770533, 9770491,  ┆ [23.0, 47.0, … 9.0] │\n",
       "│         ┆ 17:27:42, 2023-05-…  ┆ 26.0]               ┆ … 9768321]          ┆                     │\n",
       "│ 2590571 ┆ [2023-05-12          ┆ [null, 100.0, …     ┆ [9762694, 9764086,  ┆ [0.0, 21.0, … 67.0] │\n",
       "│         ┆ 20:45:35, 2023-05-…  ┆ 36.0]               ┆ … 9778788]          ┆                     │\n",
       "│ 2590637 ┆ [2023-04-27          ┆ [25.0, 67.0, …      ┆ [9739296, 9739065,  ┆ [1.0, 8.0, … 17.0]  │\n",
       "│         ┆ 17:01:52, 2023-04-…  ┆ 68.0]               ┆ … 9779738]          ┆                     │\n",
       "└─────────┴──────────────────────┴─────────────────────┴─────────────────────┴─────────────────────┘"
      ]
     },
     "execution_count": 19,
     "metadata": {},
     "output_type": "execute_result"
    }
   ],
   "source": [
    "from tqdm import tqdm\n",
    "history_complete = pl.concat([\n",
    "    slice.explode(pl.all().exclude('user_id'))\\\n",
    "        .sort('impression_time_fixed').unique('impression_time_fixed')\\\n",
    "        .group_by('user_id').agg(pl.all())\n",
    "    for slice in tqdm(history.vstack(history_val).sort('user_id').partition_by('user_id', maintain_order=False))\n",
    "])\n",
    "history_complete"
   ]
  },
  {
   "cell_type": "code",
   "execution_count": 5,
   "metadata": {},
   "outputs": [
    {
     "data": {
      "text/html": [
       "<div><style>\n",
       ".dataframe > thead > tr,\n",
       ".dataframe > tbody > tr {\n",
       "  text-align: right;\n",
       "  white-space: pre-wrap;\n",
       "}\n",
       "</style>\n",
       "<small>shape: (9, 2)</small><table border=\"1\" class=\"dataframe\"><thead><tr><th>statistic</th><th>value</th></tr><tr><td>str</td><td>f64</td></tr></thead><tbody><tr><td>&quot;count&quot;</td><td>15342.0</td></tr><tr><td>&quot;null_count&quot;</td><td>0.0</td></tr><tr><td>&quot;mean&quot;</td><td>143.669209</td></tr><tr><td>&quot;std&quot;</td><td>165.740723</td></tr><tr><td>&quot;min&quot;</td><td>5.0</td></tr><tr><td>&quot;25%&quot;</td><td>30.0</td></tr><tr><td>&quot;50%&quot;</td><td>81.0</td></tr><tr><td>&quot;75%&quot;</td><td>193.0</td></tr><tr><td>&quot;max&quot;</td><td>1126.0</td></tr></tbody></table></div>"
      ],
      "text/plain": [
       "shape: (9, 2)\n",
       "┌────────────┬────────────┐\n",
       "│ statistic  ┆ value      │\n",
       "│ ---        ┆ ---        │\n",
       "│ str        ┆ f64        │\n",
       "╞════════════╪════════════╡\n",
       "│ count      ┆ 15342.0    │\n",
       "│ null_count ┆ 0.0        │\n",
       "│ mean       ┆ 143.669209 │\n",
       "│ std        ┆ 165.740723 │\n",
       "│ min        ┆ 5.0        │\n",
       "│ 25%        ┆ 30.0       │\n",
       "│ 50%        ┆ 81.0       │\n",
       "│ 75%        ┆ 193.0      │\n",
       "│ max        ┆ 1126.0     │\n",
       "└────────────┴────────────┘"
      ]
     },
     "execution_count": 5,
     "metadata": {},
     "output_type": "execute_result"
    }
   ],
   "source": [
    "history['scroll_percentage_fixed'].list.len().describe()"
   ]
  },
  {
   "cell_type": "code",
   "execution_count": 7,
   "metadata": {},
   "outputs": [
    {
     "data": {
      "text/html": [
       "<div><style>\n",
       ".dataframe > thead > tr,\n",
       ".dataframe > tbody > tr {\n",
       "  text-align: right;\n",
       "  white-space: pre-wrap;\n",
       "}\n",
       "</style>\n",
       "<small>shape: (15_342, 5)</small><table border=\"1\" class=\"dataframe\"><thead><tr><th>user_id</th><th>impression_time_fixed</th><th>scroll_percentage_fixed</th><th>article_id_fixed</th><th>read_time_fixed</th></tr><tr><td>u32</td><td>list[datetime[μs]]</td><td>list[f32]</td><td>list[i32]</td><td>list[f32]</td></tr></thead><tbody><tr><td>14241</td><td>[2023-05-04 12:42:38, 2023-05-04 12:43:04, … 2023-05-24 13:58:04]</td><td>[100.0, 77.0, … 100.0]</td><td>[9578072, 9749349, … 9779289]</td><td>[20.0, 16.0, … 1.0]</td></tr><tr><td>20396</td><td>[2023-05-04 10:09:26, 2023-05-04 10:47:17, … 2023-05-24 20:51:06]</td><td>[null, 100.0, … 11.0]</td><td>[9748482, 9748916, … 9779489]</td><td>[0.0, 69.0, … 8.0]</td></tr><tr><td>37953</td><td>[2023-05-04 20:51:41, 2023-05-04 20:51:55, … 2023-05-24 21:10:46]</td><td>[25.0, 13.0, … 97.0]</td><td>[9750397, 9749916, … 9778902]</td><td>[5.0, 5.0, … 13.0]</td></tr><tr><td>38910</td><td>[2023-05-04 13:41:54, 2023-05-04 13:41:57, … 2023-05-25 05:43:36]</td><td>[null, 23.0, … 100.0]</td><td>[9745491, 9749729, … 9779577]</td><td>[2.0, 2.0, … 71.0]</td></tr><tr><td>39221</td><td>[2023-05-06 03:54:52, 2023-05-06 03:56:00, … 2023-05-23 23:14:07]</td><td>[100.0, 100.0, … 24.0]</td><td>[9749034, 9751385, … 9778168]</td><td>[67.0, 82.0, … 3.0]</td></tr><tr><td>&hellip;</td><td>&hellip;</td><td>&hellip;</td><td>&hellip;</td><td>&hellip;</td></tr><tr><td>906586</td><td>[2023-05-07 07:03:15, 2023-05-13 19:19:21, … 2023-05-13 19:22:24]</td><td>[60.0, 100.0, … 100.0]</td><td>[9725978, 9763942, … 9763634]</td><td>[130.0, 37.0, … 83.0]</td></tr><tr><td>2028720</td><td>[2023-05-24 09:46:38, 2023-05-24 09:47:15, … 2023-05-24 09:49:43]</td><td>[100.0, 100.0, … 100.0]</td><td>[9778731, 9578072, … 9778219]</td><td>[37.0, 14.0, … 84.0]</td></tr><tr><td>1455620</td><td>[2023-05-24 15:31:37, 2023-05-24 15:33:10, … 2023-05-24 15:43:10]</td><td>[100.0, 100.0, … 100.0]</td><td>[9778819, 9778819, … 9779538]</td><td>[52.0, 55.0, … 14.0]</td></tr><tr><td>1517092</td><td>[2023-05-24 15:45:41, 2023-05-24 15:46:15, … 2023-05-24 15:47:40]</td><td>[30.0, 100.0, … 79.0]</td><td>[9779520, 9768308, … 9779007]</td><td>[6.0, 21.0, … 492.0]</td></tr><tr><td>981701</td><td>[2023-05-25 04:46:56, 2023-05-25 04:47:35, … 2023-05-25 04:59:28]</td><td>[100.0, 100.0, … null]</td><td>[9780096, 9780019, … 9779511]</td><td>[38.0, 58.0, … 0.0]</td></tr></tbody></table></div>"
      ],
      "text/plain": [
       "shape: (15_342, 5)\n",
       "┌─────────┬──────────────────────┬─────────────────────┬─────────────────────┬─────────────────────┐\n",
       "│ user_id ┆ impression_time_fixe ┆ scroll_percentage_f ┆ article_id_fixed    ┆ read_time_fixed     │\n",
       "│ ---     ┆ d                    ┆ ixed                ┆ ---                 ┆ ---                 │\n",
       "│ u32     ┆ ---                  ┆ ---                 ┆ list[i32]           ┆ list[f32]           │\n",
       "│         ┆ list[datetime[μs]]   ┆ list[f32]           ┆                     ┆                     │\n",
       "╞═════════╪══════════════════════╪═════════════════════╪═════════════════════╪═════════════════════╡\n",
       "│ 14241   ┆ [2023-05-04          ┆ [100.0, 77.0, …     ┆ [9578072, 9749349,  ┆ [20.0, 16.0, … 1.0] │\n",
       "│         ┆ 12:42:38, 2023-05-…  ┆ 100.0]              ┆ … 9779289]          ┆                     │\n",
       "│ 20396   ┆ [2023-05-04          ┆ [null, 100.0, …     ┆ [9748482, 9748916,  ┆ [0.0, 69.0, … 8.0]  │\n",
       "│         ┆ 10:09:26, 2023-05-…  ┆ 11.0]               ┆ … 9779489]          ┆                     │\n",
       "│ 37953   ┆ [2023-05-04          ┆ [25.0, 13.0, …      ┆ [9750397, 9749916,  ┆ [5.0, 5.0, … 13.0]  │\n",
       "│         ┆ 20:51:41, 2023-05-…  ┆ 97.0]               ┆ … 9778902]          ┆                     │\n",
       "│ 38910   ┆ [2023-05-04          ┆ [null, 23.0, …      ┆ [9745491, 9749729,  ┆ [2.0, 2.0, … 71.0]  │\n",
       "│         ┆ 13:41:54, 2023-05-…  ┆ 100.0]              ┆ … 9779577]          ┆                     │\n",
       "│ 39221   ┆ [2023-05-06          ┆ [100.0, 100.0, …    ┆ [9749034, 9751385,  ┆ [67.0, 82.0, … 3.0] │\n",
       "│         ┆ 03:54:52, 2023-05-…  ┆ 24.0]               ┆ … 9778168]          ┆                     │\n",
       "│ …       ┆ …                    ┆ …                   ┆ …                   ┆ …                   │\n",
       "│ 906586  ┆ [2023-05-07          ┆ [60.0, 100.0, …     ┆ [9725978, 9763942,  ┆ [130.0, 37.0, …     │\n",
       "│         ┆ 07:03:15, 2023-05-…  ┆ 100.0]              ┆ … 9763634]          ┆ 83.0]               │\n",
       "│ 2028720 ┆ [2023-05-24          ┆ [100.0, 100.0, …    ┆ [9778731, 9578072,  ┆ [37.0, 14.0, …      │\n",
       "│         ┆ 09:46:38, 2023-05-…  ┆ 100.0]              ┆ … 9778219]          ┆ 84.0]               │\n",
       "│ 1455620 ┆ [2023-05-24          ┆ [100.0, 100.0, …    ┆ [9778819, 9778819,  ┆ [52.0, 55.0, …      │\n",
       "│         ┆ 15:31:37, 2023-05-…  ┆ 100.0]              ┆ … 9779538]          ┆ 14.0]               │\n",
       "│ 1517092 ┆ [2023-05-24          ┆ [30.0, 100.0, …     ┆ [9779520, 9768308,  ┆ [6.0, 21.0, …       │\n",
       "│         ┆ 15:45:41, 2023-05-…  ┆ 79.0]               ┆ … 9779007]          ┆ 492.0]              │\n",
       "│ 981701  ┆ [2023-05-25          ┆ [100.0, 100.0, …    ┆ [9780096, 9780019,  ┆ [38.0, 58.0, … 0.0] │\n",
       "│         ┆ 04:46:56, 2023-05-…  ┆ null]               ┆ … 9779511]          ┆                     │\n",
       "└─────────┴──────────────────────┴─────────────────────┴─────────────────────┴─────────────────────┘"
      ]
     },
     "execution_count": 7,
     "metadata": {},
     "output_type": "execute_result"
    }
   ],
   "source": [
    "history"
   ]
  },
  {
   "cell_type": "code",
   "execution_count": 6,
   "metadata": {},
   "outputs": [
    {
     "data": {
      "text/html": [
       "<div><style>\n",
       ".dataframe > thead > tr,\n",
       ".dataframe > tbody > tr {\n",
       "  text-align: right;\n",
       "  white-space: pre-wrap;\n",
       "}\n",
       "</style>\n",
       "<small>shape: (232_887, 17)</small><table border=\"1\" class=\"dataframe\"><thead><tr><th>impression_id</th><th>article_id</th><th>impression_time</th><th>read_time</th><th>scroll_percentage</th><th>device_type</th><th>article_ids_inview</th><th>article_ids_clicked</th><th>user_id</th><th>is_sso_user</th><th>gender</th><th>postcode</th><th>age</th><th>is_subscriber</th><th>session_id</th><th>next_read_time</th><th>next_scroll_percentage</th></tr><tr><td>u32</td><td>i32</td><td>datetime[μs]</td><td>f32</td><td>f32</td><td>i8</td><td>list[i32]</td><td>list[i32]</td><td>u32</td><td>bool</td><td>i8</td><td>i8</td><td>i8</td><td>bool</td><td>u32</td><td>f32</td><td>f32</td></tr></thead><tbody><tr><td>149474</td><td>null</td><td>2023-05-24 07:47:53</td><td>13.0</td><td>null</td><td>2</td><td>[9778623, 9778682, … 9778728]</td><td>[9778657]</td><td>139836</td><td>false</td><td>null</td><td>null</td><td>null</td><td>false</td><td>759</td><td>7.0</td><td>22.0</td></tr><tr><td>150528</td><td>null</td><td>2023-05-24 07:33:25</td><td>25.0</td><td>null</td><td>2</td><td>[9778718, 9778728, … 9778682]</td><td>[9778623]</td><td>143471</td><td>false</td><td>null</td><td>null</td><td>null</td><td>false</td><td>1240</td><td>287.0</td><td>100.0</td></tr><tr><td>153068</td><td>9778682</td><td>2023-05-24 07:09:04</td><td>78.0</td><td>100.0</td><td>1</td><td>[9778657, 9778669, … 9778682]</td><td>[9778669]</td><td>151570</td><td>false</td><td>null</td><td>null</td><td>null</td><td>false</td><td>1976</td><td>45.0</td><td>100.0</td></tr><tr><td>153070</td><td>9777492</td><td>2023-05-24 07:13:14</td><td>26.0</td><td>100.0</td><td>1</td><td>[9020783, 9778444, … 9778628]</td><td>[9778628]</td><td>151570</td><td>false</td><td>null</td><td>null</td><td>null</td><td>false</td><td>1976</td><td>4.0</td><td>18.0</td></tr><tr><td>153071</td><td>9778623</td><td>2023-05-24 07:11:08</td><td>125.0</td><td>100.0</td><td>1</td><td>[9777492, 9774568, … 9775990]</td><td>[9777492]</td><td>151570</td><td>false</td><td>null</td><td>null</td><td>null</td><td>false</td><td>1976</td><td>26.0</td><td>100.0</td></tr><tr><td>&hellip;</td><td>&hellip;</td><td>&hellip;</td><td>&hellip;</td><td>&hellip;</td><td>&hellip;</td><td>&hellip;</td><td>&hellip;</td><td>&hellip;</td><td>&hellip;</td><td>&hellip;</td><td>&hellip;</td><td>&hellip;</td><td>&hellip;</td><td>&hellip;</td><td>&hellip;</td><td>&hellip;</td></tr><tr><td>580099643</td><td>9769306</td><td>2023-05-18 10:01:05</td><td>121.0</td><td>100.0</td><td>3</td><td>[9233208, 9771242, … 9521144]</td><td>[9770886]</td><td>2106715</td><td>false</td><td>null</td><td>null</td><td>null</td><td>false</td><td>1416293</td><td>121.0</td><td>null</td></tr><tr><td>580099644</td><td>9770882</td><td>2023-05-18 10:05:07</td><td>176.0</td><td>100.0</td><td>3</td><td>[9771065, 9767697, … 9769762]</td><td>[9769306]</td><td>2106715</td><td>false</td><td>null</td><td>null</td><td>null</td><td>false</td><td>1416293</td><td>148.0</td><td>100.0</td></tr><tr><td>580099645</td><td>9769306</td><td>2023-05-18 10:11:03</td><td>24.0</td><td>100.0</td><td>3</td><td>[9771042, 9440508, … 9767697]</td><td>[9771042]</td><td>2106715</td><td>false</td><td>null</td><td>null</td><td>null</td><td>false</td><td>1416293</td><td>4.0</td><td>null</td></tr><tr><td>580100695</td><td>9771242</td><td>2023-05-18 10:00:08</td><td>5.0</td><td>100.0</td><td>1</td><td>[9440508, 9142581, … 8422665]</td><td>[9767697]</td><td>2110744</td><td>false</td><td>null</td><td>null</td><td>null</td><td>false</td><td>747086</td><td>75.0</td><td>100.0</td></tr><tr><td>580100697</td><td>9771242</td><td>2023-05-18 10:01:29</td><td>14.0</td><td>100.0</td><td>1</td><td>[9233208, 8422665, … 9770997]</td><td>[9771042]</td><td>2110744</td><td>false</td><td>null</td><td>null</td><td>null</td><td>false</td><td>747086</td><td>123.0</td><td>25.0</td></tr></tbody></table></div>"
      ],
      "text/plain": [
       "shape: (232_887, 17)\n",
       "┌───────────┬───────────┬───────────┬───────────┬───┬───────────┬───────────┬───────────┬──────────┐\n",
       "│ impressio ┆ article_i ┆ impressio ┆ read_time ┆ … ┆ is_subscr ┆ session_i ┆ next_read ┆ next_scr │\n",
       "│ n_id      ┆ d         ┆ n_time    ┆ ---       ┆   ┆ iber      ┆ d         ┆ _time     ┆ oll_perc │\n",
       "│ ---       ┆ ---       ┆ ---       ┆ f32       ┆   ┆ ---       ┆ ---       ┆ ---       ┆ entage   │\n",
       "│ u32       ┆ i32       ┆ datetime[ ┆           ┆   ┆ bool      ┆ u32       ┆ f32       ┆ ---      │\n",
       "│           ┆           ┆ μs]       ┆           ┆   ┆           ┆           ┆           ┆ f32      │\n",
       "╞═══════════╪═══════════╪═══════════╪═══════════╪═══╪═══════════╪═══════════╪═══════════╪══════════╡\n",
       "│ 149474    ┆ null      ┆ 2023-05-2 ┆ 13.0      ┆ … ┆ false     ┆ 759       ┆ 7.0       ┆ 22.0     │\n",
       "│           ┆           ┆ 4         ┆           ┆   ┆           ┆           ┆           ┆          │\n",
       "│           ┆           ┆ 07:47:53  ┆           ┆   ┆           ┆           ┆           ┆          │\n",
       "│ 150528    ┆ null      ┆ 2023-05-2 ┆ 25.0      ┆ … ┆ false     ┆ 1240      ┆ 287.0     ┆ 100.0    │\n",
       "│           ┆           ┆ 4         ┆           ┆   ┆           ┆           ┆           ┆          │\n",
       "│           ┆           ┆ 07:33:25  ┆           ┆   ┆           ┆           ┆           ┆          │\n",
       "│ 153068    ┆ 9778682   ┆ 2023-05-2 ┆ 78.0      ┆ … ┆ false     ┆ 1976      ┆ 45.0      ┆ 100.0    │\n",
       "│           ┆           ┆ 4         ┆           ┆   ┆           ┆           ┆           ┆          │\n",
       "│           ┆           ┆ 07:09:04  ┆           ┆   ┆           ┆           ┆           ┆          │\n",
       "│ 153070    ┆ 9777492   ┆ 2023-05-2 ┆ 26.0      ┆ … ┆ false     ┆ 1976      ┆ 4.0       ┆ 18.0     │\n",
       "│           ┆           ┆ 4         ┆           ┆   ┆           ┆           ┆           ┆          │\n",
       "│           ┆           ┆ 07:13:14  ┆           ┆   ┆           ┆           ┆           ┆          │\n",
       "│ 153071    ┆ 9778623   ┆ 2023-05-2 ┆ 125.0     ┆ … ┆ false     ┆ 1976      ┆ 26.0      ┆ 100.0    │\n",
       "│           ┆           ┆ 4         ┆           ┆   ┆           ┆           ┆           ┆          │\n",
       "│           ┆           ┆ 07:11:08  ┆           ┆   ┆           ┆           ┆           ┆          │\n",
       "│ …         ┆ …         ┆ …         ┆ …         ┆ … ┆ …         ┆ …         ┆ …         ┆ …        │\n",
       "│ 580099643 ┆ 9769306   ┆ 2023-05-1 ┆ 121.0     ┆ … ┆ false     ┆ 1416293   ┆ 121.0     ┆ null     │\n",
       "│           ┆           ┆ 8         ┆           ┆   ┆           ┆           ┆           ┆          │\n",
       "│           ┆           ┆ 10:01:05  ┆           ┆   ┆           ┆           ┆           ┆          │\n",
       "│ 580099644 ┆ 9770882   ┆ 2023-05-1 ┆ 176.0     ┆ … ┆ false     ┆ 1416293   ┆ 148.0     ┆ 100.0    │\n",
       "│           ┆           ┆ 8         ┆           ┆   ┆           ┆           ┆           ┆          │\n",
       "│           ┆           ┆ 10:05:07  ┆           ┆   ┆           ┆           ┆           ┆          │\n",
       "│ 580099645 ┆ 9769306   ┆ 2023-05-1 ┆ 24.0      ┆ … ┆ false     ┆ 1416293   ┆ 4.0       ┆ null     │\n",
       "│           ┆           ┆ 8         ┆           ┆   ┆           ┆           ┆           ┆          │\n",
       "│           ┆           ┆ 10:11:03  ┆           ┆   ┆           ┆           ┆           ┆          │\n",
       "│ 580100695 ┆ 9771242   ┆ 2023-05-1 ┆ 5.0       ┆ … ┆ false     ┆ 747086    ┆ 75.0      ┆ 100.0    │\n",
       "│           ┆           ┆ 8         ┆           ┆   ┆           ┆           ┆           ┆          │\n",
       "│           ┆           ┆ 10:00:08  ┆           ┆   ┆           ┆           ┆           ┆          │\n",
       "│ 580100697 ┆ 9771242   ┆ 2023-05-1 ┆ 14.0      ┆ … ┆ false     ┆ 747086    ┆ 123.0     ┆ 25.0     │\n",
       "│           ┆           ┆ 8         ┆           ┆   ┆           ┆           ┆           ┆          │\n",
       "│           ┆           ┆ 10:01:29  ┆           ┆   ┆           ┆           ┆           ┆          │\n",
       "└───────────┴───────────┴───────────┴───────────┴───┴───────────┴───────────┴───────────┴──────────┘"
      ]
     },
     "execution_count": 6,
     "metadata": {},
     "output_type": "execute_result"
    }
   ],
   "source": [
    "behaviors"
   ]
  },
  {
   "cell_type": "code",
   "execution_count": 9,
   "metadata": {},
   "outputs": [
    {
     "data": {
      "text/plain": [
       "(datetime.datetime(2023, 4, 27, 10, 17, 43),\n",
       " datetime.datetime(2023, 5, 1, 3, 24, 5),\n",
       " datetime.timedelta(days=3, seconds=61582))"
      ]
     },
     "execution_count": 9,
     "metadata": {},
     "output_type": "execute_result"
    }
   ],
   "source": [
    "a = history['impression_time_fixed'].explode()[0]\n",
    "b = history['impression_time_fixed'].explode()[100]\n",
    "a, b, b-a"
   ]
  },
  {
   "cell_type": "code",
   "execution_count": 5,
   "metadata": {},
   "outputs": [
    {
     "data": {
      "text/plain": [
       "True"
      ]
     },
     "execution_count": 5,
     "metadata": {},
     "output_type": "execute_result"
    }
   ],
   "source": [
    "from datetime import timedelta\n",
    "(b - a) <= timedelta(days=7, minutes=0, seconds=0)"
   ]
  },
  {
   "cell_type": "code",
   "execution_count": 43,
   "metadata": {},
   "outputs": [
    {
     "data": {
      "text/plain": [
       "3785"
      ]
     },
     "execution_count": 43,
     "metadata": {},
     "output_type": "execute_result"
    }
   ],
   "source": [
    "history.shape[0]//4"
   ]
  },
  {
   "cell_type": "code",
   "execution_count": 47,
   "metadata": {},
   "outputs": [
    {
     "data": {
      "text/plain": [
       "(shape: (9, 3)\n",
       " ┌────────────┬───────────────┬────────────┐\n",
       " │ statistic  ┆ user_id       ┆ h_len      │\n",
       " │ ---        ┆ ---           ┆ ---        │\n",
       " │ str        ┆ f64           ┆ f64        │\n",
       " ╞════════════╪═══════════════╪════════════╡\n",
       " │ count      ┆ 7596.0        ┆ 7596.0     │\n",
       " │ null_count ┆ 0.0           ┆ 0.0        │\n",
       " │ mean       ┆ 1.3053e6      ┆ 104.080305 │\n",
       " │ std        ┆ 742325.744084 ┆ 52.026735  │\n",
       " │ min        ┆ 10201.0       ┆ 35.0       │\n",
       " │ 25%        ┆ 666694.0      ┆ 59.0       │\n",
       " │ 50%        ┆ 1.315152e6    ┆ 93.0       │\n",
       " │ 75%        ┆ 1.950222e6    ┆ 143.0      │\n",
       " │ max        ┆ 2.590637e6    ┆ 222.0      │\n",
       " └────────────┴───────────────┴────────────┘,\n",
       " 59.0)"
      ]
     },
     "execution_count": 47,
     "metadata": {},
     "output_type": "execute_result"
    }
   ],
   "source": [
    "sampled_users = history.select('user_id', pl.col('article_id_fixed').list.len().alias('h_len'))\n",
    "sampled_users = sampled_users.filter(\n",
    "    pl.col('h_len') >= pl.col('h_len').quantile(0.25),\n",
    "    pl.col('h_len') <= pl.col('h_len').quantile(0.75),   \n",
    ")['user_id'].to_list()\n"
   ]
  },
  {
   "cell_type": "code",
   "execution_count": 3,
   "metadata": {},
   "outputs": [
    {
     "data": {
      "text/html": [
       "<div><style>\n",
       ".dataframe > thead > tr,\n",
       ".dataframe > tbody > tr {\n",
       "  text-align: right;\n",
       "  white-space: pre-wrap;\n",
       "}\n",
       "</style>\n",
       "<small>shape: (2, 6)</small><table border=\"1\" class=\"dataframe\"><thead><tr><th>article_id</th><th>category</th><th>subcategory</th><th>premium</th><th>topics</th><th>sentiment_label</th></tr><tr><td>i32</td><td>i32</td><td>list[i32]</td><td>i8</td><td>list[i32]</td><td>i32</td></tr></thead><tbody><tr><td>3001353</td><td>5</td><td>[]</td><td>0</td><td>[25, 47]</td><td>1</td></tr><tr><td>3003065</td><td>7</td><td>[87, 88]</td><td>0</td><td>[69, 13, 77]</td><td>3</td></tr></tbody></table></div>"
      ],
      "text/plain": [
       "shape: (2, 6)\n",
       "┌────────────┬──────────┬─────────────┬─────────┬──────────────┬─────────────────┐\n",
       "│ article_id ┆ category ┆ subcategory ┆ premium ┆ topics       ┆ sentiment_label │\n",
       "│ ---        ┆ ---      ┆ ---         ┆ ---     ┆ ---          ┆ ---             │\n",
       "│ i32        ┆ i32      ┆ list[i32]   ┆ i8      ┆ list[i32]    ┆ i32             │\n",
       "╞════════════╪══════════╪═════════════╪═════════╪══════════════╪═════════════════╡\n",
       "│ 3001353    ┆ 5        ┆ []          ┆ 0       ┆ [25, 47]     ┆ 1               │\n",
       "│ 3003065    ┆ 7        ┆ [87, 88]    ┆ 0       ┆ [69, 13, 77] ┆ 3               │\n",
       "└────────────┴──────────┴─────────────┴─────────┴──────────────┴─────────────────┘"
      ]
     },
     "execution_count": 3,
     "metadata": {},
     "output_type": "execute_result"
    }
   ],
   "source": [
    "topics = articles['topics'].explode().unique().drop_nans().drop_nulls().sort().to_frame().with_row_index()\n",
    "category = articles['category'].unique().drop_nans().drop_nulls().sort().to_frame().with_row_index(offset=1)\n",
    "subcategory = articles['subcategory'].explode().unique().drop_nans().drop_nulls().sort().to_frame().with_row_index()\n",
    "sentiment_label = articles['sentiment_label'].explode().unique().drop_nans().drop_nulls().sort().to_frame().with_row_index(offset=1)\n",
    "mask = 0\n",
    "\n",
    "articles = articles.select(['article_id', 'category', 'subcategory', 'premium', 'topics', 'sentiment_label'])\\\n",
    "    .with_columns(\n",
    "        pl.col('topics').fill_null(pl.lit([])),\n",
    "        pl.col('subcategory').fill_null(pl.lit([]))\n",
    "    )\\\n",
    "    .with_columns(\n",
    "        pl.col('topics').list.eval(pl.element().replace(topics['topics'], topics['index'], default=None)).list.drop_nulls().cast(pl.List(pl.Int32)),\n",
    "        pl.col('category').replace(category['category'], category['index'], default=None).fill_null(mask).cast(pl.Int32),\n",
    "        pl.col('sentiment_label').replace(sentiment_label['sentiment_label'], sentiment_label['index'], default=None).fill_null(mask).cast(pl.Int32),\n",
    "        pl.col('subcategory').list.eval(pl.element().replace(subcategory['subcategory'], subcategory['index'], default=None)).list.drop_nulls().cast(pl.List(pl.Int32)),\n",
    "        pl.col('premium').cast(pl.Int8)\n",
    ")\n",
    "articles.head(2)"
   ]
  },
  {
   "cell_type": "code",
   "execution_count": 4,
   "metadata": {},
   "outputs": [
    {
     "data": {
      "text/html": [
       "<div><style>\n",
       ".dataframe > thead > tr,\n",
       ".dataframe > tbody > tr {\n",
       "  text-align: right;\n",
       "  white-space: pre-wrap;\n",
       "}\n",
       "</style>\n",
       "<small>shape: (2, 175)</small><table border=\"1\" class=\"dataframe\"><thead><tr><th>article_id</th><th>subcategory_0</th><th>subcategory_1</th><th>subcategory_10</th><th>subcategory_100</th><th>subcategory_101</th><th>subcategory_102</th><th>subcategory_103</th><th>subcategory_104</th><th>subcategory_105</th><th>subcategory_106</th><th>subcategory_107</th><th>subcategory_108</th><th>subcategory_109</th><th>subcategory_11</th><th>subcategory_110</th><th>subcategory_111</th><th>subcategory_112</th><th>subcategory_113</th><th>subcategory_114</th><th>subcategory_115</th><th>subcategory_116</th><th>subcategory_117</th><th>subcategory_118</th><th>subcategory_119</th><th>subcategory_12</th><th>subcategory_120</th><th>subcategory_121</th><th>subcategory_122</th><th>subcategory_123</th><th>subcategory_124</th><th>subcategory_125</th><th>subcategory_126</th><th>subcategory_127</th><th>subcategory_128</th><th>subcategory_129</th><th>subcategory_13</th><th>&hellip;</th><th>subcategory_66</th><th>subcategory_67</th><th>subcategory_68</th><th>subcategory_69</th><th>subcategory_7</th><th>subcategory_70</th><th>subcategory_71</th><th>subcategory_72</th><th>subcategory_73</th><th>subcategory_74</th><th>subcategory_75</th><th>subcategory_76</th><th>subcategory_77</th><th>subcategory_78</th><th>subcategory_79</th><th>subcategory_8</th><th>subcategory_80</th><th>subcategory_81</th><th>subcategory_82</th><th>subcategory_83</th><th>subcategory_84</th><th>subcategory_85</th><th>subcategory_86</th><th>subcategory_87</th><th>subcategory_88</th><th>subcategory_89</th><th>subcategory_9</th><th>subcategory_90</th><th>subcategory_91</th><th>subcategory_92</th><th>subcategory_93</th><th>subcategory_94</th><th>subcategory_95</th><th>subcategory_96</th><th>subcategory_97</th><th>subcategory_98</th><th>subcategory_99</th></tr><tr><td>i32</td><td>i64</td><td>i64</td><td>i64</td><td>i64</td><td>i64</td><td>i64</td><td>i64</td><td>i64</td><td>i64</td><td>i64</td><td>i64</td><td>i64</td><td>i64</td><td>i64</td><td>i64</td><td>i64</td><td>i64</td><td>i64</td><td>i64</td><td>i64</td><td>i64</td><td>i64</td><td>i64</td><td>i64</td><td>i64</td><td>i64</td><td>i64</td><td>i64</td><td>i64</td><td>i64</td><td>i64</td><td>i64</td><td>i64</td><td>i64</td><td>i64</td><td>i64</td><td>&hellip;</td><td>i64</td><td>i64</td><td>i64</td><td>i64</td><td>i64</td><td>i64</td><td>i64</td><td>i64</td><td>i64</td><td>i64</td><td>i64</td><td>i64</td><td>i64</td><td>i64</td><td>i64</td><td>i64</td><td>i64</td><td>i64</td><td>i64</td><td>i64</td><td>i64</td><td>i64</td><td>i64</td><td>i64</td><td>i64</td><td>i64</td><td>i64</td><td>i64</td><td>i64</td><td>i64</td><td>i64</td><td>i64</td><td>i64</td><td>i64</td><td>i64</td><td>i64</td><td>i64</td></tr></thead><tbody><tr><td>8901774</td><td>0</td><td>0</td><td>0</td><td>0</td><td>0</td><td>0</td><td>0</td><td>0</td><td>0</td><td>0</td><td>0</td><td>0</td><td>0</td><td>0</td><td>0</td><td>0</td><td>0</td><td>0</td><td>0</td><td>0</td><td>0</td><td>0</td><td>0</td><td>0</td><td>0</td><td>0</td><td>0</td><td>0</td><td>0</td><td>0</td><td>0</td><td>0</td><td>0</td><td>0</td><td>0</td><td>0</td><td>&hellip;</td><td>0</td><td>0</td><td>0</td><td>0</td><td>0</td><td>0</td><td>0</td><td>0</td><td>0</td><td>0</td><td>0</td><td>0</td><td>0</td><td>0</td><td>0</td><td>0</td><td>0</td><td>0</td><td>0</td><td>0</td><td>0</td><td>0</td><td>0</td><td>1</td><td>0</td><td>0</td><td>0</td><td>0</td><td>0</td><td>0</td><td>0</td><td>0</td><td>0</td><td>0</td><td>0</td><td>0</td><td>0</td></tr><tr><td>9736227</td><td>0</td><td>0</td><td>0</td><td>0</td><td>0</td><td>0</td><td>0</td><td>0</td><td>0</td><td>0</td><td>0</td><td>0</td><td>0</td><td>0</td><td>0</td><td>0</td><td>0</td><td>0</td><td>0</td><td>0</td><td>0</td><td>0</td><td>0</td><td>0</td><td>0</td><td>0</td><td>0</td><td>0</td><td>0</td><td>0</td><td>0</td><td>0</td><td>0</td><td>0</td><td>0</td><td>0</td><td>&hellip;</td><td>0</td><td>0</td><td>0</td><td>0</td><td>0</td><td>0</td><td>0</td><td>0</td><td>0</td><td>0</td><td>0</td><td>0</td><td>0</td><td>0</td><td>0</td><td>0</td><td>0</td><td>0</td><td>0</td><td>0</td><td>0</td><td>0</td><td>0</td><td>0</td><td>0</td><td>0</td><td>0</td><td>0</td><td>0</td><td>0</td><td>0</td><td>0</td><td>0</td><td>0</td><td>0</td><td>0</td><td>0</td></tr></tbody></table></div>"
      ],
      "text/plain": [
       "shape: (2, 175)\n",
       "┌───────────┬───────────┬───────────┬───────────┬───┬───────────┬───────────┬───────────┬──────────┐\n",
       "│ article_i ┆ subcatego ┆ subcatego ┆ subcatego ┆ … ┆ subcatego ┆ subcatego ┆ subcatego ┆ subcateg │\n",
       "│ d         ┆ ry_0      ┆ ry_1      ┆ ry_10     ┆   ┆ ry_96     ┆ ry_97     ┆ ry_98     ┆ ory_99   │\n",
       "│ ---       ┆ ---       ┆ ---       ┆ ---       ┆   ┆ ---       ┆ ---       ┆ ---       ┆ ---      │\n",
       "│ i32       ┆ i64       ┆ i64       ┆ i64       ┆   ┆ i64       ┆ i64       ┆ i64       ┆ i64      │\n",
       "╞═══════════╪═══════════╪═══════════╪═══════════╪═══╪═══════════╪═══════════╪═══════════╪══════════╡\n",
       "│ 8901774   ┆ 0         ┆ 0         ┆ 0         ┆ … ┆ 0         ┆ 0         ┆ 0         ┆ 0        │\n",
       "│ 9736227   ┆ 0         ┆ 0         ┆ 0         ┆ … ┆ 0         ┆ 0         ┆ 0         ┆ 0        │\n",
       "└───────────┴───────────┴───────────┴───────────┴───┴───────────┴───────────┴───────────┴──────────┘"
      ]
     },
     "execution_count": 4,
     "metadata": {},
     "output_type": "execute_result"
    }
   ],
   "source": [
    "dummies_topics = articles.select('article_id', 'topics').explode('topics').drop_nulls().to_dummies(columns=['topics'])\\\n",
    "    .group_by('article_id').agg(pl.all().sum())\n",
    "dummies_subcategories = articles.select('article_id', 'subcategory').explode('subcategory').drop_nulls().to_dummies(columns=['subcategory'])\\\n",
    "    .group_by('article_id').agg(pl.all().sum())\n",
    "    \n",
    "dummies_subcategories.head(2)"
   ]
  },
  {
   "cell_type": "code",
   "execution_count": 5,
   "metadata": {},
   "outputs": [
    {
     "name": "stdout",
     "output_type": "stream",
     "text": [
      "Memory usage of dataframe is 40.75 MB\n",
      "Memory usage after optimization is: 5.75 MB\n",
      "Decreased by 85.9%\n"
     ]
    },
    {
     "data": {
      "text/html": [
       "<div><style>\n",
       ".dataframe > thead > tr,\n",
       ".dataframe > tbody > tr {\n",
       "  text-align: right;\n",
       "  white-space: pre-wrap;\n",
       "}\n",
       "</style>\n",
       "<small>shape: (2, 256)</small><table border=\"1\" class=\"dataframe\"><thead><tr><th>article_id</th><th>category</th><th>premium</th><th>sentiment_label</th><th>topics_0</th><th>topics_1</th><th>topics_10</th><th>topics_11</th><th>topics_12</th><th>topics_13</th><th>topics_14</th><th>topics_15</th><th>topics_16</th><th>topics_17</th><th>topics_18</th><th>topics_19</th><th>topics_2</th><th>topics_20</th><th>topics_21</th><th>topics_22</th><th>topics_23</th><th>topics_24</th><th>topics_25</th><th>topics_26</th><th>topics_27</th><th>topics_28</th><th>topics_29</th><th>topics_3</th><th>topics_30</th><th>topics_31</th><th>topics_32</th><th>topics_33</th><th>topics_34</th><th>topics_35</th><th>topics_36</th><th>topics_37</th><th>topics_38</th><th>&hellip;</th><th>subcategory_66</th><th>subcategory_67</th><th>subcategory_68</th><th>subcategory_69</th><th>subcategory_7</th><th>subcategory_70</th><th>subcategory_71</th><th>subcategory_72</th><th>subcategory_73</th><th>subcategory_74</th><th>subcategory_75</th><th>subcategory_76</th><th>subcategory_77</th><th>subcategory_78</th><th>subcategory_79</th><th>subcategory_8</th><th>subcategory_80</th><th>subcategory_81</th><th>subcategory_82</th><th>subcategory_83</th><th>subcategory_84</th><th>subcategory_85</th><th>subcategory_86</th><th>subcategory_87</th><th>subcategory_88</th><th>subcategory_89</th><th>subcategory_9</th><th>subcategory_90</th><th>subcategory_91</th><th>subcategory_92</th><th>subcategory_93</th><th>subcategory_94</th><th>subcategory_95</th><th>subcategory_96</th><th>subcategory_97</th><th>subcategory_98</th><th>subcategory_99</th></tr><tr><td>i32</td><td>i8</td><td>i8</td><td>i8</td><td>i8</td><td>i8</td><td>i8</td><td>i8</td><td>i8</td><td>i8</td><td>i8</td><td>i8</td><td>i8</td><td>i8</td><td>i8</td><td>i8</td><td>i8</td><td>i8</td><td>i8</td><td>i8</td><td>i8</td><td>i8</td><td>i8</td><td>i8</td><td>i8</td><td>i8</td><td>i8</td><td>i8</td><td>i8</td><td>i8</td><td>i8</td><td>i8</td><td>i8</td><td>i8</td><td>i8</td><td>i8</td><td>i8</td><td>&hellip;</td><td>i8</td><td>i8</td><td>i8</td><td>i8</td><td>i8</td><td>i8</td><td>i8</td><td>i8</td><td>i8</td><td>i8</td><td>i8</td><td>i8</td><td>i8</td><td>i8</td><td>i8</td><td>i8</td><td>i8</td><td>i8</td><td>i8</td><td>i8</td><td>i8</td><td>i8</td><td>i8</td><td>i8</td><td>i8</td><td>i8</td><td>i8</td><td>i8</td><td>i8</td><td>i8</td><td>i8</td><td>i8</td><td>i8</td><td>i8</td><td>i8</td><td>i8</td><td>i8</td></tr></thead><tbody><tr><td>3001353</td><td>5</td><td>0</td><td>1</td><td>0</td><td>0</td><td>0</td><td>0</td><td>0</td><td>0</td><td>0</td><td>0</td><td>0</td><td>0</td><td>0</td><td>0</td><td>0</td><td>0</td><td>0</td><td>0</td><td>0</td><td>0</td><td>1</td><td>0</td><td>0</td><td>0</td><td>0</td><td>0</td><td>0</td><td>0</td><td>0</td><td>0</td><td>0</td><td>0</td><td>0</td><td>0</td><td>0</td><td>&hellip;</td><td>0</td><td>0</td><td>0</td><td>0</td><td>0</td><td>0</td><td>0</td><td>0</td><td>0</td><td>0</td><td>0</td><td>0</td><td>0</td><td>0</td><td>0</td><td>0</td><td>0</td><td>0</td><td>0</td><td>0</td><td>0</td><td>0</td><td>0</td><td>0</td><td>0</td><td>0</td><td>0</td><td>0</td><td>0</td><td>0</td><td>0</td><td>0</td><td>0</td><td>0</td><td>0</td><td>0</td><td>0</td></tr><tr><td>3003065</td><td>7</td><td>0</td><td>3</td><td>0</td><td>0</td><td>0</td><td>0</td><td>0</td><td>1</td><td>0</td><td>0</td><td>0</td><td>0</td><td>0</td><td>0</td><td>0</td><td>0</td><td>0</td><td>0</td><td>0</td><td>0</td><td>0</td><td>0</td><td>0</td><td>0</td><td>0</td><td>0</td><td>0</td><td>0</td><td>0</td><td>0</td><td>0</td><td>0</td><td>0</td><td>0</td><td>0</td><td>&hellip;</td><td>0</td><td>0</td><td>0</td><td>0</td><td>0</td><td>0</td><td>0</td><td>0</td><td>0</td><td>0</td><td>0</td><td>0</td><td>0</td><td>0</td><td>0</td><td>0</td><td>0</td><td>0</td><td>0</td><td>0</td><td>0</td><td>0</td><td>0</td><td>1</td><td>1</td><td>0</td><td>0</td><td>0</td><td>0</td><td>0</td><td>0</td><td>0</td><td>0</td><td>0</td><td>0</td><td>0</td><td>0</td></tr></tbody></table></div>"
      ],
      "text/plain": [
       "shape: (2, 256)\n",
       "┌────────────┬──────────┬─────────┬────────────┬───┬───────────┬───────────┬───────────┬───────────┐\n",
       "│ article_id ┆ category ┆ premium ┆ sentiment_ ┆ … ┆ subcatego ┆ subcatego ┆ subcatego ┆ subcatego │\n",
       "│ ---        ┆ ---      ┆ ---     ┆ label      ┆   ┆ ry_96     ┆ ry_97     ┆ ry_98     ┆ ry_99     │\n",
       "│ i32        ┆ i8       ┆ i8      ┆ ---        ┆   ┆ ---       ┆ ---       ┆ ---       ┆ ---       │\n",
       "│            ┆          ┆         ┆ i8         ┆   ┆ i8        ┆ i8        ┆ i8        ┆ i8        │\n",
       "╞════════════╪══════════╪═════════╪════════════╪═══╪═══════════╪═══════════╪═══════════╪═══════════╡\n",
       "│ 3001353    ┆ 5        ┆ 0       ┆ 1          ┆ … ┆ 0         ┆ 0         ┆ 0         ┆ 0         │\n",
       "│ 3003065    ┆ 7        ┆ 0       ┆ 3          ┆ … ┆ 0         ┆ 0         ┆ 0         ┆ 0         │\n",
       "└────────────┴──────────┴─────────┴────────────┴───┴───────────┴───────────┴───────────┴───────────┘"
      ]
     },
     "execution_count": 5,
     "metadata": {},
     "output_type": "execute_result"
    }
   ],
   "source": [
    "from polimi.utils._polars import reduce_polars_df_memory_size\n",
    "\n",
    "articles = articles.join(dummies_topics, on='article_id', how='left')\\\n",
    "    .join(dummies_subcategories, on='article_id', how='left')\\\n",
    "    .drop('topics', 'subcategory')\n",
    "articles = reduce_polars_df_memory_size(articles)\n",
    "\n",
    "one_hot_cols = [col for col in articles.columns if col.startswith('topics_') or col.startswith('subcategory_')]\n",
    "articles = articles.with_columns(\n",
    "    pl.col(one_hot_cols).fill_null(0)\n",
    ")\n",
    "\n",
    "articles.head(2)"
   ]
  },
  {
   "cell_type": "code",
   "execution_count": 6,
   "metadata": {},
   "outputs": [
    {
     "data": {
      "text/html": [
       "<div><style>\n",
       ".dataframe > thead > tr,\n",
       ".dataframe > tbody > tr {\n",
       "  text-align: right;\n",
       "  white-space: pre-wrap;\n",
       "}\n",
       "</style>\n",
       "<small>shape: (3, 261)</small><table border=\"1\" class=\"dataframe\"><thead><tr><th>user_id</th><th>impression_time_fixed</th><th>scroll_percentage</th><th>read_time</th><th>hour_group</th><th>weekday</th><th>category</th><th>premium</th><th>sentiment_label</th><th>topics_0</th><th>topics_1</th><th>topics_10</th><th>topics_11</th><th>topics_12</th><th>topics_13</th><th>topics_14</th><th>topics_15</th><th>topics_16</th><th>topics_17</th><th>topics_18</th><th>topics_19</th><th>topics_2</th><th>topics_20</th><th>topics_21</th><th>topics_22</th><th>topics_23</th><th>topics_24</th><th>topics_25</th><th>topics_26</th><th>topics_27</th><th>topics_28</th><th>topics_29</th><th>topics_3</th><th>topics_30</th><th>topics_31</th><th>topics_32</th><th>topics_33</th><th>&hellip;</th><th>subcategory_66</th><th>subcategory_67</th><th>subcategory_68</th><th>subcategory_69</th><th>subcategory_7</th><th>subcategory_70</th><th>subcategory_71</th><th>subcategory_72</th><th>subcategory_73</th><th>subcategory_74</th><th>subcategory_75</th><th>subcategory_76</th><th>subcategory_77</th><th>subcategory_78</th><th>subcategory_79</th><th>subcategory_8</th><th>subcategory_80</th><th>subcategory_81</th><th>subcategory_82</th><th>subcategory_83</th><th>subcategory_84</th><th>subcategory_85</th><th>subcategory_86</th><th>subcategory_87</th><th>subcategory_88</th><th>subcategory_89</th><th>subcategory_9</th><th>subcategory_90</th><th>subcategory_91</th><th>subcategory_92</th><th>subcategory_93</th><th>subcategory_94</th><th>subcategory_95</th><th>subcategory_96</th><th>subcategory_97</th><th>subcategory_98</th><th>subcategory_99</th></tr><tr><td>u32</td><td>list[datetime[μs]]</td><td>list[f32]</td><td>list[f32]</td><td>list[i8]</td><td>list[i8]</td><td>list[i8]</td><td>list[i8]</td><td>list[i8]</td><td>list[i8]</td><td>list[i8]</td><td>list[i8]</td><td>list[i8]</td><td>list[i8]</td><td>list[i8]</td><td>list[i8]</td><td>list[i8]</td><td>list[i8]</td><td>list[i8]</td><td>list[i8]</td><td>list[i8]</td><td>list[i8]</td><td>list[i8]</td><td>list[i8]</td><td>list[i8]</td><td>list[i8]</td><td>list[i8]</td><td>list[i8]</td><td>list[i8]</td><td>list[i8]</td><td>list[i8]</td><td>list[i8]</td><td>list[i8]</td><td>list[i8]</td><td>list[i8]</td><td>list[i8]</td><td>list[i8]</td><td>&hellip;</td><td>list[i8]</td><td>list[i8]</td><td>list[i8]</td><td>list[i8]</td><td>list[i8]</td><td>list[i8]</td><td>list[i8]</td><td>list[i8]</td><td>list[i8]</td><td>list[i8]</td><td>list[i8]</td><td>list[i8]</td><td>list[i8]</td><td>list[i8]</td><td>list[i8]</td><td>list[i8]</td><td>list[i8]</td><td>list[i8]</td><td>list[i8]</td><td>list[i8]</td><td>list[i8]</td><td>list[i8]</td><td>list[i8]</td><td>list[i8]</td><td>list[i8]</td><td>list[i8]</td><td>list[i8]</td><td>list[i8]</td><td>list[i8]</td><td>list[i8]</td><td>list[i8]</td><td>list[i8]</td><td>list[i8]</td><td>list[i8]</td><td>list[i8]</td><td>list[i8]</td><td>list[i8]</td></tr></thead><tbody><tr><td>242896</td><td>[2023-04-27 10:16:13, 2023-04-27 14:28:42, … 2023-05-17 19:53:04]</td><td>[34.0, 0.0, … 100.0]</td><td>[3.0, 25.0, … 6.0]</td><td>[2, 3, … 4]</td><td>[4, 4, … 3]</td><td>[6, 7, … 5]</td><td>[0, 0, … 0]</td><td>[1, 1, … 1]</td><td>[0, 0, … 0]</td><td>[0, 0, … 0]</td><td>[1, 0, … 0]</td><td>[0, 0, … 0]</td><td>[0, 0, … 0]</td><td>[0, 1, … 0]</td><td>[1, 0, … 0]</td><td>[0, 0, … 0]</td><td>[0, 0, … 0]</td><td>[0, 0, … 1]</td><td>[0, 0, … 0]</td><td>[0, 0, … 0]</td><td>[0, 0, … 0]</td><td>[0, 0, … 0]</td><td>[0, 1, … 0]</td><td>[0, 0, … 0]</td><td>[0, 0, … 0]</td><td>[0, 0, … 0]</td><td>[0, 0, … 1]</td><td>[0, 0, … 0]</td><td>[0, 0, … 0]</td><td>[0, 0, … 0]</td><td>[0, 0, … 0]</td><td>[0, 1, … 0]</td><td>[0, 0, … 0]</td><td>[0, 0, … 0]</td><td>[0, 0, … 0]</td><td>[0, 0, … 0]</td><td>&hellip;</td><td>[0, 0, … 0]</td><td>[0, 0, … 0]</td><td>[0, 0, … 0]</td><td>[0, 0, … 0]</td><td>[0, 0, … 0]</td><td>[0, 0, … 0]</td><td>[0, 0, … 0]</td><td>[0, 0, … 0]</td><td>[0, 0, … 0]</td><td>[0, 0, … 0]</td><td>[0, 0, … 0]</td><td>[0, 0, … 0]</td><td>[0, 0, … 0]</td><td>[0, 0, … 0]</td><td>[0, 0, … 0]</td><td>[0, 0, … 0]</td><td>[0, 0, … 0]</td><td>[0, 0, … 0]</td><td>[0, 0, … 0]</td><td>[0, 0, … 0]</td><td>[0, 0, … 0]</td><td>[0, 0, … 0]</td><td>[0, 1, … 0]</td><td>[0, 0, … 0]</td><td>[0, 0, … 0]</td><td>[0, 0, … 0]</td><td>[0, 0, … 0]</td><td>[0, 0, … 0]</td><td>[0, 0, … 0]</td><td>[0, 0, … 0]</td><td>[0, 0, … 0]</td><td>[0, 0, … 0]</td><td>[0, 0, … 0]</td><td>[0, 0, … 0]</td><td>[0, 0, … 0]</td><td>[0, 0, … 0]</td><td>[0, 0, … 0]</td></tr><tr><td>1040907</td><td>[2023-04-27 14:56:23, 2023-04-27 14:56:50, … 2023-05-18 04:14:20]</td><td>[67.0, 67.0, … 27.0]</td><td>[25.0, 5.0, … 4.0]</td><td>[3, 3, … 1]</td><td>[4, 4, … 4]</td><td>[4, 7, … 7]</td><td>[0, 0, … 0]</td><td>[2, 1, … 2]</td><td>[0, 0, … 0]</td><td>[0, 0, … 0]</td><td>[0, 0, … 0]</td><td>[0, 0, … 0]</td><td>[0, 0, … 0]</td><td>[0, 1, … 1]</td><td>[0, 0, … 0]</td><td>[0, 0, … 0]</td><td>[0, 0, … 0]</td><td>[0, 0, … 0]</td><td>[0, 0, … 0]</td><td>[0, 0, … 0]</td><td>[0, 0, … 0]</td><td>[0, 0, … 0]</td><td>[0, 1, … 0]</td><td>[0, 0, … 0]</td><td>[0, 0, … 0]</td><td>[0, 0, … 0]</td><td>[0, 0, … 0]</td><td>[0, 0, … 0]</td><td>[0, 0, … 0]</td><td>[0, 0, … 0]</td><td>[0, 0, … 0]</td><td>[0, 1, … 0]</td><td>[0, 0, … 0]</td><td>[0, 0, … 0]</td><td>[0, 0, … 1]</td><td>[0, 0, … 0]</td><td>&hellip;</td><td>[0, 0, … 0]</td><td>[0, 0, … 0]</td><td>[0, 0, … 0]</td><td>[0, 0, … 0]</td><td>[0, 0, … 0]</td><td>[0, 0, … 0]</td><td>[0, 0, … 0]</td><td>[0, 0, … 0]</td><td>[0, 0, … 0]</td><td>[0, 0, … 0]</td><td>[0, 0, … 0]</td><td>[0, 0, … 0]</td><td>[0, 0, … 0]</td><td>[0, 0, … 0]</td><td>[0, 0, … 0]</td><td>[1, 0, … 0]</td><td>[0, 0, … 0]</td><td>[0, 0, … 0]</td><td>[0, 0, … 0]</td><td>[0, 0, … 0]</td><td>[0, 0, … 0]</td><td>[0, 0, … 0]</td><td>[0, 1, … 0]</td><td>[0, 0, … 1]</td><td>[0, 0, … 0]</td><td>[0, 0, … 0]</td><td>[0, 0, … 0]</td><td>[0, 0, … 0]</td><td>[0, 0, … 0]</td><td>[0, 0, … 0]</td><td>[0, 0, … 0]</td><td>[0, 0, … 0]</td><td>[0, 0, … 0]</td><td>[0, 0, … 0]</td><td>[0, 0, … 0]</td><td>[0, 0, … 0]</td><td>[0, 0, … 0]</td></tr><tr><td>1314996</td><td>[2023-04-28 10:47:03, 2023-04-28 10:48:27, … 2023-05-17 19:14:39]</td><td>[100.0, 42.0, … 16.0]</td><td>[84.0, 5.0, … 11.0]</td><td>[2, 2, … 4]</td><td>[5, 5, … 3]</td><td>[5, 7, … 6]</td><td>[0, 0, … 0]</td><td>[1, 3, … 1]</td><td>[0, 0, … 0]</td><td>[0, 0, … 0]</td><td>[0, 1, … 0]</td><td>[0, 0, … 0]</td><td>[0, 0, … 0]</td><td>[0, 0, … 0]</td><td>[0, 0, … 0]</td><td>[0, 0, … 0]</td><td>[0, 0, … 0]</td><td>[0, 0, … 0]</td><td>[0, 0, … 0]</td><td>[0, 0, … 0]</td><td>[0, 0, … 0]</td><td>[0, 0, … 0]</td><td>[0, 1, … 0]</td><td>[0, 0, … 0]</td><td>[0, 0, … 0]</td><td>[0, 0, … 0]</td><td>[1, 0, … 0]</td><td>[0, 0, … 0]</td><td>[0, 1, … 0]</td><td>[0, 0, … 0]</td><td>[0, 0, … 0]</td><td>[0, 0, … 1]</td><td>[0, 0, … 0]</td><td>[0, 0, … 0]</td><td>[0, 0, … 0]</td><td>[0, 0, … 0]</td><td>&hellip;</td><td>[0, 0, … 0]</td><td>[0, 0, … 0]</td><td>[0, 0, … 0]</td><td>[0, 0, … 0]</td><td>[0, 0, … 0]</td><td>[0, 0, … 0]</td><td>[0, 0, … 0]</td><td>[0, 0, … 0]</td><td>[0, 0, … 0]</td><td>[0, 0, … 0]</td><td>[0, 0, … 0]</td><td>[0, 0, … 0]</td><td>[0, 0, … 0]</td><td>[0, 0, … 0]</td><td>[0, 0, … 0]</td><td>[0, 0, … 0]</td><td>[0, 0, … 0]</td><td>[0, 0, … 0]</td><td>[0, 0, … 0]</td><td>[0, 0, … 0]</td><td>[0, 0, … 0]</td><td>[0, 0, … 0]</td><td>[0, 0, … 0]</td><td>[0, 0, … 0]</td><td>[0, 0, … 0]</td><td>[0, 0, … 0]</td><td>[0, 0, … 0]</td><td>[0, 0, … 0]</td><td>[0, 1, … 0]</td><td>[0, 0, … 0]</td><td>[0, 0, … 0]</td><td>[0, 0, … 0]</td><td>[0, 0, … 0]</td><td>[0, 0, … 0]</td><td>[0, 0, … 0]</td><td>[0, 0, … 0]</td><td>[0, 0, … 0]</td></tr></tbody></table></div>"
      ],
      "text/plain": [
       "shape: (3, 261)\n",
       "┌─────────┬────────────┬───────────┬───────────┬───┬───────────┬───────────┬───────────┬───────────┐\n",
       "│ user_id ┆ impression ┆ scroll_pe ┆ read_time ┆ … ┆ subcatego ┆ subcatego ┆ subcatego ┆ subcatego │\n",
       "│ ---     ┆ _time_fixe ┆ rcentage  ┆ ---       ┆   ┆ ry_96     ┆ ry_97     ┆ ry_98     ┆ ry_99     │\n",
       "│ u32     ┆ d          ┆ ---       ┆ list[f32] ┆   ┆ ---       ┆ ---       ┆ ---       ┆ ---       │\n",
       "│         ┆ ---        ┆ list[f32] ┆           ┆   ┆ list[i8]  ┆ list[i8]  ┆ list[i8]  ┆ list[i8]  │\n",
       "│         ┆ list[datet ┆           ┆           ┆   ┆           ┆           ┆           ┆           │\n",
       "│         ┆ ime[μs]]   ┆           ┆           ┆   ┆           ┆           ┆           ┆           │\n",
       "╞═════════╪════════════╪═══════════╪═══════════╪═══╪═══════════╪═══════════╪═══════════╪═══════════╡\n",
       "│ 242896  ┆ [2023-04-2 ┆ [34.0,    ┆ [3.0,     ┆ … ┆ [0, 0, …  ┆ [0, 0, …  ┆ [0, 0, …  ┆ [0, 0, …  │\n",
       "│         ┆ 7          ┆ 0.0, …    ┆ 25.0, …   ┆   ┆ 0]        ┆ 0]        ┆ 0]        ┆ 0]        │\n",
       "│         ┆ 10:16:13,  ┆ 100.0]    ┆ 6.0]      ┆   ┆           ┆           ┆           ┆           │\n",
       "│         ┆ 2023-04-…  ┆           ┆           ┆   ┆           ┆           ┆           ┆           │\n",
       "│ 1040907 ┆ [2023-04-2 ┆ [67.0,    ┆ [25.0,    ┆ … ┆ [0, 0, …  ┆ [0, 0, …  ┆ [0, 0, …  ┆ [0, 0, …  │\n",
       "│         ┆ 7          ┆ 67.0, …   ┆ 5.0, …    ┆   ┆ 0]        ┆ 0]        ┆ 0]        ┆ 0]        │\n",
       "│         ┆ 14:56:23,  ┆ 27.0]     ┆ 4.0]      ┆   ┆           ┆           ┆           ┆           │\n",
       "│         ┆ 2023-04-…  ┆           ┆           ┆   ┆           ┆           ┆           ┆           │\n",
       "│ 1314996 ┆ [2023-04-2 ┆ [100.0,   ┆ [84.0,    ┆ … ┆ [0, 0, …  ┆ [0, 0, …  ┆ [0, 0, …  ┆ [0, 0, …  │\n",
       "│         ┆ 8          ┆ 42.0, …   ┆ 5.0, …    ┆   ┆ 0]        ┆ 0]        ┆ 0]        ┆ 0]        │\n",
       "│         ┆ 10:47:03,  ┆ 16.0]     ┆ 11.0]     ┆   ┆           ┆           ┆           ┆           │\n",
       "│         ┆ 2023-04-…  ┆           ┆           ┆   ┆           ┆           ┆           ┆           │\n",
       "└─────────┴────────────┴───────────┴───────────┴───┴───────────┴───────────┴───────────┴───────────┘"
      ]
     },
     "execution_count": 6,
     "metadata": {},
     "output_type": "execute_result"
    }
   ],
   "source": [
    "df = pl.concat([\n",
    "    slice.explode(pl.all().exclude('user_id'))\\\n",
    "        .with_columns(\n",
    "            pl.col('scroll_percentage_fixed').fill_null(0.),\n",
    "            pl.col('read_time_fixed').fill_null(0.),\n",
    "        )\\\n",
    "        .with_columns(\n",
    "            (pl.col('impression_time_fixed').dt.hour() // 4).alias('hour_group'),\n",
    "            pl.col('impression_time_fixed').dt.weekday().alias('weekday'),\n",
    "        )\\\n",
    "        .rename({'scroll_percentage_fixed': 'scroll_percentage', 'read_time_fixed': 'read_time'})\n",
    "        .join(articles, left_on='article_id_fixed', right_on='article_id', how='left').drop('article_id_fixed')\\\n",
    "        .group_by('user_id').agg(pl.all())\n",
    "    for slice in history.iter_slices(10000)\n",
    "])\n",
    "\n",
    "df.head(3)"
   ]
  },
  {
   "cell_type": "code",
   "execution_count": 7,
   "metadata": {},
   "outputs": [
    {
     "data": {
      "text/html": [
       "<div><style>\n",
       ".dataframe > thead > tr,\n",
       ".dataframe > tbody > tr {\n",
       "  text-align: right;\n",
       "  white-space: pre-wrap;\n",
       "}\n",
       "</style>\n",
       "<small>shape: (1, 261)</small><table border=\"1\" class=\"dataframe\"><thead><tr><th>user_id</th><th>read_time</th><th>category</th><th>sentiment_label</th><th>impression_time_fixed</th><th>premium</th><th>hour_group</th><th>scroll_percentage</th><th>weekday</th><th>topics_0</th><th>topics_1</th><th>topics_2</th><th>topics_3</th><th>topics_4</th><th>topics_5</th><th>topics_6</th><th>topics_7</th><th>topics_8</th><th>topics_9</th><th>topics_10</th><th>topics_11</th><th>topics_12</th><th>topics_13</th><th>topics_14</th><th>topics_15</th><th>topics_16</th><th>topics_17</th><th>topics_18</th><th>topics_19</th><th>topics_20</th><th>topics_21</th><th>topics_22</th><th>topics_23</th><th>topics_24</th><th>topics_25</th><th>topics_26</th><th>topics_27</th><th>&hellip;</th><th>subcategory_137</th><th>subcategory_138</th><th>subcategory_139</th><th>subcategory_140</th><th>subcategory_141</th><th>subcategory_142</th><th>subcategory_143</th><th>subcategory_144</th><th>subcategory_145</th><th>subcategory_146</th><th>subcategory_147</th><th>subcategory_148</th><th>subcategory_149</th><th>subcategory_150</th><th>subcategory_151</th><th>subcategory_152</th><th>subcategory_153</th><th>subcategory_154</th><th>subcategory_155</th><th>subcategory_156</th><th>subcategory_157</th><th>subcategory_158</th><th>subcategory_159</th><th>subcategory_160</th><th>subcategory_161</th><th>subcategory_162</th><th>subcategory_163</th><th>subcategory_164</th><th>subcategory_165</th><th>subcategory_166</th><th>subcategory_167</th><th>subcategory_168</th><th>subcategory_169</th><th>subcategory_170</th><th>subcategory_171</th><th>subcategory_172</th><th>subcategory_173</th></tr><tr><td>u32</td><td>list[f32]</td><td>list[i8]</td><td>list[i8]</td><td>list[datetime[μs]]</td><td>list[i8]</td><td>list[i8]</td><td>list[f32]</td><td>list[i8]</td><td>list[i8]</td><td>list[i8]</td><td>list[i8]</td><td>list[i8]</td><td>list[i8]</td><td>list[i8]</td><td>list[i8]</td><td>list[i8]</td><td>list[i8]</td><td>list[i8]</td><td>list[i8]</td><td>list[i8]</td><td>list[i8]</td><td>list[i8]</td><td>list[i8]</td><td>list[i8]</td><td>list[i8]</td><td>list[i8]</td><td>list[i8]</td><td>list[i8]</td><td>list[i8]</td><td>list[i8]</td><td>list[i8]</td><td>list[i8]</td><td>list[i8]</td><td>list[i8]</td><td>list[i8]</td><td>list[i8]</td><td>&hellip;</td><td>list[i8]</td><td>list[i8]</td><td>list[i8]</td><td>list[i8]</td><td>list[i8]</td><td>list[i8]</td><td>list[i8]</td><td>list[i8]</td><td>list[i8]</td><td>list[i8]</td><td>list[i8]</td><td>list[i8]</td><td>list[i8]</td><td>list[i8]</td><td>list[i8]</td><td>list[i8]</td><td>list[i8]</td><td>list[i8]</td><td>list[i8]</td><td>list[i8]</td><td>list[i8]</td><td>list[i8]</td><td>list[i8]</td><td>list[i8]</td><td>list[i8]</td><td>list[i8]</td><td>list[i8]</td><td>list[i8]</td><td>list[i8]</td><td>list[i8]</td><td>list[i8]</td><td>list[i8]</td><td>list[i8]</td><td>list[i8]</td><td>list[i8]</td><td>list[i8]</td><td>list[i8]</td></tr></thead><tbody><tr><td>242896</td><td>[3.0, 25.0, … 6.0]</td><td>[6, 7, … 5]</td><td>[1, 1, … 1]</td><td>[2023-04-27 10:16:13, 2023-04-27 14:28:42, … 2023-05-17 19:53:04]</td><td>[0, 0, … 0]</td><td>[2, 3, … 4]</td><td>[34.0, 0.0, … 100.0]</td><td>[4, 4, … 3]</td><td>[0, 0, … 0]</td><td>[0, 0, … 0]</td><td>[0, 0, … 0]</td><td>[0, 1, … 0]</td><td>[0, 0, … 0]</td><td>[0, 0, … 0]</td><td>[0, 0, … 0]</td><td>[0, 0, … 0]</td><td>[0, 0, … 0]</td><td>[0, 0, … 0]</td><td>[1, 0, … 0]</td><td>[0, 0, … 0]</td><td>[0, 0, … 0]</td><td>[0, 1, … 0]</td><td>[1, 0, … 0]</td><td>[0, 0, … 0]</td><td>[0, 0, … 0]</td><td>[0, 0, … 1]</td><td>[0, 0, … 0]</td><td>[0, 0, … 0]</td><td>[0, 0, … 0]</td><td>[0, 1, … 0]</td><td>[0, 0, … 0]</td><td>[0, 0, … 0]</td><td>[0, 0, … 0]</td><td>[0, 0, … 1]</td><td>[0, 0, … 0]</td><td>[0, 0, … 0]</td><td>&hellip;</td><td>[0, 0, … 0]</td><td>[0, 0, … 0]</td><td>[0, 0, … 0]</td><td>[0, 0, … 0]</td><td>[0, 0, … 0]</td><td>[0, 0, … 0]</td><td>[0, 0, … 0]</td><td>[0, 0, … 0]</td><td>[0, 0, … 0]</td><td>[0, 0, … 0]</td><td>[0, 0, … 0]</td><td>[0, 0, … 0]</td><td>[0, 0, … 0]</td><td>[0, 0, … 0]</td><td>[0, 0, … 0]</td><td>[0, 0, … 0]</td><td>[0, 0, … 0]</td><td>[0, 0, … 0]</td><td>[0, 0, … 0]</td><td>[0, 0, … 0]</td><td>[0, 0, … 0]</td><td>[0, 0, … 0]</td><td>[0, 0, … 0]</td><td>[0, 0, … 0]</td><td>[0, 0, … 0]</td><td>[0, 0, … 0]</td><td>[0, 0, … 0]</td><td>[0, 0, … 0]</td><td>[0, 0, … 0]</td><td>[0, 0, … 0]</td><td>[0, 0, … 0]</td><td>[0, 0, … 0]</td><td>[0, 0, … 0]</td><td>[0, 0, … 0]</td><td>[0, 0, … 0]</td><td>[0, 0, … 0]</td><td>[0, 0, … 0]</td></tr></tbody></table></div>"
      ],
      "text/plain": [
       "shape: (1, 261)\n",
       "┌─────────┬────────────┬───────────┬───────────┬───┬───────────┬───────────┬───────────┬───────────┐\n",
       "│ user_id ┆ read_time  ┆ category  ┆ sentiment ┆ … ┆ subcatego ┆ subcatego ┆ subcatego ┆ subcatego │\n",
       "│ ---     ┆ ---        ┆ ---       ┆ _label    ┆   ┆ ry_170    ┆ ry_171    ┆ ry_172    ┆ ry_173    │\n",
       "│ u32     ┆ list[f32]  ┆ list[i8]  ┆ ---       ┆   ┆ ---       ┆ ---       ┆ ---       ┆ ---       │\n",
       "│         ┆            ┆           ┆ list[i8]  ┆   ┆ list[i8]  ┆ list[i8]  ┆ list[i8]  ┆ list[i8]  │\n",
       "╞═════════╪════════════╪═══════════╪═══════════╪═══╪═══════════╪═══════════╪═══════════╪═══════════╡\n",
       "│ 242896  ┆ [3.0,      ┆ [6, 7, …  ┆ [1, 1, …  ┆ … ┆ [0, 0, …  ┆ [0, 0, …  ┆ [0, 0, …  ┆ [0, 0, …  │\n",
       "│         ┆ 25.0, …    ┆ 5]        ┆ 1]        ┆   ┆ 0]        ┆ 0]        ┆ 0]        ┆ 0]        │\n",
       "│         ┆ 6.0]       ┆           ┆           ┆   ┆           ┆           ┆           ┆           │\n",
       "└─────────┴────────────┴───────────┴───────────┴───┴───────────┴───────────┴───────────┴───────────┘"
      ]
     },
     "execution_count": 7,
     "metadata": {},
     "output_type": "execute_result"
    }
   ],
   "source": [
    "from polimi.utils._polars import reduce_polars_df_memory_size\n",
    "cols = df.columns\n",
    "topics_cols = sorted([col for col in cols if col.startswith('topics_')], key=lambda x: int(x.split('_')[-1]))\n",
    "subcategory_cols = sorted([col for col in cols if col.startswith('subcategory_')], key=lambda x: int(x.split('_')[-1]))\n",
    "all_others = set(cols) - set(topics_cols) - set(subcategory_cols) - {'user_id'}\n",
    "cols = ['user_id'] + list(all_others) + topics_cols + subcategory_cols\n",
    "df = df.select(cols)\n",
    "df.head(1)"
   ]
  },
  {
   "cell_type": "code",
   "execution_count": 8,
   "metadata": {},
   "outputs": [
    {
     "data": {
      "text/plain": [
       "datetime.datetime(2023, 4, 27, 14, 28, 42)"
      ]
     },
     "execution_count": 8,
     "metadata": {},
     "output_type": "execute_result"
    }
   ],
   "source": [
    "impression_time_idx = df.drop('user_id').columns.index('impression_time_fixed')\n",
    "for user_df in df[:1].partition_by('user_id'):\n",
    "        x = user_df.drop('user_id').to_numpy()[0]\n",
    "        x = np.array([np.array(x_i) for x_i in x])\n",
    "d = x[impression_time_idx][1]\n",
    "d"
   ]
  },
  {
   "cell_type": "code",
   "execution_count": 9,
   "metadata": {},
   "outputs": [
    {
     "data": {
      "text/plain": [
       "4"
      ]
     },
     "execution_count": 9,
     "metadata": {},
     "output_type": "execute_result"
    }
   ],
   "source": [
    "d.month"
   ]
  },
  {
   "cell_type": "code",
   "execution_count": 10,
   "metadata": {},
   "outputs": [
    {
     "data": {
      "text/plain": [
       "[10, 11, 12]"
      ]
     },
     "execution_count": 10,
     "metadata": {},
     "output_type": "execute_result"
    }
   ],
   "source": [
    "curr_date = x[:, 10][impression_time_idx]\n",
    "last_step = [i for i in range(10, 20) if x[:, i][impression_time_idx].month == curr_date.month and x[:, i][impression_time_idx].day == curr_date.day]\n",
    "last_step"
   ]
  },
  {
   "cell_type": "code",
   "execution_count": 16,
   "metadata": {},
   "outputs": [],
   "source": [
    "from tqdm import tqdm\n",
    "\n",
    "def build_sequences(df: pl.DataFrame, w: int, stride: int):\n",
    "    all_features = df.drop('user_id').columns\n",
    "    singular_cols = ['topics', 'subcategory', 'category', 'weekday', 'hour_group']\n",
    "    name_idx_dict = {key: [i for i, col in enumerate(all_features) if col.startswith(key)] for key in singular_cols}\n",
    "    numerical_cols = ['scroll_percentage', 'read_time', 'premium']\n",
    "    name_idx_dict['numerical'] = [i for i, col in enumerate(all_features) if col in numerical_cols]\n",
    "    impression_time_idx = all_features.index('impression_time_fixed')\n",
    "        \n",
    "    res = {key: ([], []) for key in name_idx_dict.keys()}\n",
    "\n",
    "    for user_df in tqdm(df.partition_by('user_id', maintain_order=False)):\n",
    "        x = user_df.drop('user_id').to_numpy()[0]\n",
    "        x = np.array([np.array(x_i) for x_i in x])\n",
    "        return x\n",
    "                \n",
    "        i = 0\n",
    "        if i + w >= x.shape[1]:\n",
    "            # in case history is shorter than the window then we pad it and select the last element as target\n",
    "            pad_width = w - x[:, :-1].shape[1]\n",
    "            pad_m = np.zeros((x.shape[0], pad_width))\n",
    "            padded_x = np.concatenate((pad_m, x[:, :-1]), axis=1)\n",
    "            y_i = x[:, -1]\n",
    "            \n",
    "            for key, idx in name_idx_dict.items():\n",
    "                res[key][0].append(padded_x[idx, :].T)\n",
    "                res[key][1].append(y_i[idx].T)\n",
    "            \n",
    "        else:\n",
    "            while i + w < x.shape[1]:\n",
    "                # in case history is larger than the window then we select the window and the target randomly between the next elements\n",
    "                x_i = x[:, i:i+w]\n",
    "                last_window_date = x_i[impression_time_idx][-1]\n",
    "                max_telescope = max([t for t in range(i+w+1, x.shape[1]) if x[:, t][impression_time_idx].month == last_window_date.month and \n",
    "                                        x[:, t][impression_time_idx].day == last_window_date.day], default=i+w)\n",
    "                print(i+w, max_telescope)\n",
    "                target_random_id = np.random.randint(i+w, max_telescope+1)\n",
    "                y_i = x[:, target_random_id]\n",
    "                \n",
    "                for key, idx in name_idx_dict.items():\n",
    "                    res[key][0].append(x_i[idx, :].T)\n",
    "                    res[key][1].append(y_i[idx].T)\n",
    "                \n",
    "                i+=stride\n",
    "                         \n",
    "            #TODO: add padding for the last sequence, if we want to keep it\n",
    "                \n",
    "\n",
    "    for key in res.keys():\n",
    "        res[key] = (np.array(res[key][0]), np.array(res[key][1]))\n",
    "    \n",
    "    return res"
   ]
  },
  {
   "cell_type": "code",
   "execution_count": 36,
   "metadata": {},
   "outputs": [
    {
     "data": {
      "text/plain": [
       "array([1. , 2.5, 3. ], dtype=float32)"
      ]
     },
     "execution_count": 36,
     "metadata": {},
     "output_type": "execute_result"
    }
   ],
   "source": [
    "x = np.array([1, 2.5, 3])\n",
    "x = x.astype(np.float32)\n",
    "x"
   ]
  },
  {
   "cell_type": "code",
   "execution_count": 17,
   "metadata": {},
   "outputs": [
    {
     "name": "stderr",
     "output_type": "stream",
     "text": [
      "  0%|          | 0/100 [00:00<?, ?it/s]\n"
     ]
    },
    {
     "data": {
      "text/plain": [
       "array([[106.0, 76.0, 115.0, ..., 71.0, 140.0, 43.0],\n",
       "       [4, 10, 5, ..., 6, 5, 5],\n",
       "       [2, 1, 1, ..., 2, 3, 1],\n",
       "       ...,\n",
       "       [0, 0, 0, ..., 0, 0, 0],\n",
       "       [0, 0, 0, ..., 0, 0, 0],\n",
       "       [0, 0, 0, ..., 0, 0, 0]], dtype=object)"
      ]
     },
     "execution_count": 17,
     "metadata": {},
     "output_type": "execute_result"
    }
   ],
   "source": [
    "x = build_sequences(df[:100], w=10, stride=5)\n",
    "x"
   ]
  },
  {
   "cell_type": "code",
   "execution_count": 22,
   "metadata": {},
   "outputs": [
    {
     "data": {
      "text/plain": [
       "array([106.,  76., 115., 127.,   2., 123.,  27.,  12.,   0., 202.,  77.,\n",
       "        49.,  33.,  24.,  13.,  66.,  39.,  15., 277., 156.,  33., 212.,\n",
       "       322., 109.,   0.,  54.,   0.,  39.,  29.,  56.,   1.,  31.,  29.,\n",
       "       169.,  85.,  48., 130.,   6.,  92.,  22., 107.,  13., 227.,  37.,\n",
       "        16.,  51., 376.,  26., 185.,   9., 116.,  80., 116.,  28.,  69.,\n",
       "        16., 116.,  93.,  49., 100.,   0., 104.,  66.,  60.,  48., 196.,\n",
       "        17., 183.,  61., 205.,  44.,   2., 116.,  45., 131.,  23., 143.,\n",
       "        69.,  25.,  37.,  76.,  32., 120., 129.,  87.,  74.,   4.,  71.,\n",
       "        68.,  64.,  17.,  85., 134., 249.,  31.,  43.,  10.,  34.,  56.,\n",
       "        59.,  33., 194.,  70.,   0.,  32.,   0., 104.,  31., 145.,   3.,\n",
       "        85.,  78., 165.,  31.,  38., 160.,  78., 576.,  26.,  61.,  51.,\n",
       "        18.,  84.,  28.,  72.,  12.,   0.,  57.,  71., 140.,  43.],\n",
       "      dtype=float32)"
      ]
     },
     "execution_count": 22,
     "metadata": {},
     "output_type": "execute_result"
    }
   ],
   "source": [
    "x[0].astype(np.float32)"
   ]
  },
  {
   "cell_type": "code",
   "execution_count": 23,
   "metadata": {},
   "outputs": [
    {
     "data": {
      "text/plain": [
       "array([106.0, 76.0, 115.0, 127.0, 2.0, 123.0, 27.0, 12.0, 0.0, 202.0,\n",
       "       77.0, 49.0, 33.0, 24.0, 13.0, 66.0, 39.0, 15.0, 277.0, 156.0, 33.0,\n",
       "       212.0, 322.0, 109.0, 0.0, 54.0, 0.0, 39.0, 29.0, 56.0, 1.0, 31.0,\n",
       "       29.0, 169.0, 85.0, 48.0, 130.0, 6.0, 92.0, 22.0, 107.0, 13.0,\n",
       "       227.0, 37.0, 16.0, 51.0, 376.0, 26.0, 185.0, 9.0, 116.0, 80.0,\n",
       "       116.0, 28.0, 69.0, 16.0, 116.0, 93.0, 49.0, 100.0, 0.0, 104.0,\n",
       "       66.0, 60.0, 48.0, 196.0, 17.0, 183.0, 61.0, 205.0, 44.0, 2.0,\n",
       "       116.0, 45.0, 131.0, 23.0, 143.0, 69.0, 25.0, 37.0, 76.0, 32.0,\n",
       "       120.0, 129.0, 87.0, 74.0, 4.0, 71.0, 68.0, 64.0, 17.0, 85.0, 134.0,\n",
       "       249.0, 31.0, 43.0, 10.0, 34.0, 56.0, 59.0, 33.0, 194.0, 70.0, 0.0,\n",
       "       32.0, 0.0, 104.0, 31.0, 145.0, 3.0, 85.0, 78.0, 165.0, 31.0, 38.0,\n",
       "       160.0, 78.0, 576.0, 26.0, 61.0, 51.0, 18.0, 84.0, 28.0, 72.0, 12.0,\n",
       "       0.0, 57.0, 71.0, 140.0, 43.0], dtype=object)"
      ]
     },
     "execution_count": 23,
     "metadata": {},
     "output_type": "execute_result"
    }
   ],
   "source": [
    "x[0]"
   ]
  },
  {
   "cell_type": "code",
   "execution_count": 99,
   "metadata": {},
   "outputs": [
    {
     "data": {
      "text/html": [
       "<div><style>\n",
       ".dataframe > thead > tr,\n",
       ".dataframe > tbody > tr {\n",
       "  text-align: right;\n",
       "  white-space: pre-wrap;\n",
       "}\n",
       "</style>\n",
       "<small>shape: (2, 260)</small><table border=\"1\" class=\"dataframe\"><thead><tr><th>user_id</th><th>sentiment_label</th><th>category</th><th>premium</th><th>read_time</th><th>scroll_percentage</th><th>hour_group</th><th>weekday</th><th>topics_0</th><th>topics_1</th><th>topics_2</th><th>topics_3</th><th>topics_4</th><th>topics_5</th><th>topics_6</th><th>topics_7</th><th>topics_8</th><th>topics_9</th><th>topics_10</th><th>topics_11</th><th>topics_12</th><th>topics_13</th><th>topics_14</th><th>topics_15</th><th>topics_16</th><th>topics_17</th><th>topics_18</th><th>topics_19</th><th>topics_20</th><th>topics_21</th><th>topics_22</th><th>topics_23</th><th>topics_24</th><th>topics_25</th><th>topics_26</th><th>topics_27</th><th>topics_28</th><th>&hellip;</th><th>subcategory_137</th><th>subcategory_138</th><th>subcategory_139</th><th>subcategory_140</th><th>subcategory_141</th><th>subcategory_142</th><th>subcategory_143</th><th>subcategory_144</th><th>subcategory_145</th><th>subcategory_146</th><th>subcategory_147</th><th>subcategory_148</th><th>subcategory_149</th><th>subcategory_150</th><th>subcategory_151</th><th>subcategory_152</th><th>subcategory_153</th><th>subcategory_154</th><th>subcategory_155</th><th>subcategory_156</th><th>subcategory_157</th><th>subcategory_158</th><th>subcategory_159</th><th>subcategory_160</th><th>subcategory_161</th><th>subcategory_162</th><th>subcategory_163</th><th>subcategory_164</th><th>subcategory_165</th><th>subcategory_166</th><th>subcategory_167</th><th>subcategory_168</th><th>subcategory_169</th><th>subcategory_170</th><th>subcategory_171</th><th>subcategory_172</th><th>subcategory_173</th></tr><tr><td>u32</td><td>list[i8]</td><td>list[i8]</td><td>list[i8]</td><td>list[f32]</td><td>list[f32]</td><td>list[i8]</td><td>list[i8]</td><td>list[i8]</td><td>list[i8]</td><td>list[i8]</td><td>list[i8]</td><td>list[i8]</td><td>list[i8]</td><td>list[i8]</td><td>list[i8]</td><td>list[i8]</td><td>list[i8]</td><td>list[i8]</td><td>list[i8]</td><td>list[i8]</td><td>list[i8]</td><td>list[i8]</td><td>list[i8]</td><td>list[i8]</td><td>list[i8]</td><td>list[i8]</td><td>list[i8]</td><td>list[i8]</td><td>list[i8]</td><td>list[i8]</td><td>list[i8]</td><td>list[i8]</td><td>list[i8]</td><td>list[i8]</td><td>list[i8]</td><td>list[i8]</td><td>&hellip;</td><td>list[i8]</td><td>list[i8]</td><td>list[i8]</td><td>list[i8]</td><td>list[i8]</td><td>list[i8]</td><td>list[i8]</td><td>list[i8]</td><td>list[i8]</td><td>list[i8]</td><td>list[i8]</td><td>list[i8]</td><td>list[i8]</td><td>list[i8]</td><td>list[i8]</td><td>list[i8]</td><td>list[i8]</td><td>list[i8]</td><td>list[i8]</td><td>list[i8]</td><td>list[i8]</td><td>list[i8]</td><td>list[i8]</td><td>list[i8]</td><td>list[i8]</td><td>list[i8]</td><td>list[i8]</td><td>list[i8]</td><td>list[i8]</td><td>list[i8]</td><td>list[i8]</td><td>list[i8]</td><td>list[i8]</td><td>list[i8]</td><td>list[i8]</td><td>list[i8]</td><td>list[i8]</td></tr></thead><tbody><tr><td>2053634</td><td>[1, 1, … 1]</td><td>[25, 4, … 4]</td><td>[0, 0, … 0]</td><td>[0.0, 116.0, … 0.0]</td><td>[0.0, 100.0, … 0.0]</td><td>[4, 0, … 5]</td><td>[1, 2, … 3]</td><td>[0, 0, … 0]</td><td>[0, 0, … 0]</td><td>[0, 0, … 0]</td><td>[0, 0, … 0]</td><td>[0, 1, … 0]</td><td>[0, 0, … 0]</td><td>[0, 0, … 0]</td><td>[0, 0, … 0]</td><td>[0, 0, … 0]</td><td>[0, 0, … 0]</td><td>[0, 0, … 1]</td><td>[0, 0, … 0]</td><td>[0, 0, … 0]</td><td>[0, 0, … 0]</td><td>[0, 0, … 0]</td><td>[0, 0, … 0]</td><td>[0, 0, … 0]</td><td>[0, 0, … 0]</td><td>[0, 0, … 0]</td><td>[0, 0, … 0]</td><td>[0, 0, … 0]</td><td>[0, 0, … 0]</td><td>[0, 0, … 0]</td><td>[0, 0, … 0]</td><td>[0, 0, … 0]</td><td>[0, 1, … 1]</td><td>[0, 0, … 0]</td><td>[0, 0, … 0]</td><td>[0, 0, … 0]</td><td>&hellip;</td><td>[0, 0, … 0]</td><td>[0, 0, … 0]</td><td>[0, 0, … 0]</td><td>[0, 0, … 0]</td><td>[0, 0, … 0]</td><td>[0, 0, … 0]</td><td>[0, 0, … 0]</td><td>[0, 0, … 0]</td><td>[0, 0, … 0]</td><td>[0, 0, … 0]</td><td>[0, 0, … 0]</td><td>[0, 0, … 0]</td><td>[0, 0, … 0]</td><td>[0, 0, … 0]</td><td>[0, 0, … 0]</td><td>[0, 0, … 0]</td><td>[0, 0, … 0]</td><td>[0, 0, … 0]</td><td>[0, 0, … 0]</td><td>[0, 0, … 0]</td><td>[0, 0, … 0]</td><td>[0, 0, … 0]</td><td>[0, 0, … 0]</td><td>[0, 0, … 0]</td><td>[0, 0, … 0]</td><td>[0, 0, … 0]</td><td>[0, 0, … 0]</td><td>[0, 0, … 0]</td><td>[0, 0, … 0]</td><td>[0, 0, … 0]</td><td>[0, 0, … 0]</td><td>[0, 0, … 0]</td><td>[0, 0, … 0]</td><td>[0, 0, … 0]</td><td>[0, 0, … 0]</td><td>[0, 0, … 0]</td><td>[0, 0, … 0]</td></tr><tr><td>1899092</td><td>[3, 1, … 3]</td><td>[5, 25, … 4]</td><td>[0, 0, … 0]</td><td>[60.0, 17.0, … 8.0]</td><td>[100.0, 24.0, … 60.0]</td><td>[4, 4, … 1]</td><td>[3, 3, … 4]</td><td>[0, 0, … 0]</td><td>[0, 0, … 0]</td><td>[0, 0, … 0]</td><td>[0, 0, … 0]</td><td>[0, 0, … 0]</td><td>[0, 0, … 0]</td><td>[0, 0, … 0]</td><td>[0, 0, … 1]</td><td>[0, 0, … 0]</td><td>[0, 0, … 0]</td><td>[0, 0, … 0]</td><td>[0, 0, … 0]</td><td>[0, 0, … 0]</td><td>[1, 0, … 0]</td><td>[0, 0, … 0]</td><td>[0, 0, … 0]</td><td>[0, 0, … 0]</td><td>[0, 0, … 0]</td><td>[0, 0, … 0]</td><td>[0, 0, … 1]</td><td>[0, 0, … 0]</td><td>[1, 0, … 0]</td><td>[0, 0, … 0]</td><td>[0, 0, … 0]</td><td>[0, 0, … 0]</td><td>[1, 0, … 0]</td><td>[0, 0, … 0]</td><td>[0, 0, … 0]</td><td>[0, 0, … 0]</td><td>&hellip;</td><td>[0, 0, … 0]</td><td>[0, 0, … 0]</td><td>[0, 0, … 0]</td><td>[0, 0, … 0]</td><td>[0, 0, … 0]</td><td>[0, 0, … 0]</td><td>[0, 0, … 0]</td><td>[0, 0, … 0]</td><td>[0, 0, … 0]</td><td>[0, 0, … 0]</td><td>[0, 0, … 0]</td><td>[0, 0, … 0]</td><td>[0, 0, … 0]</td><td>[0, 0, … 0]</td><td>[0, 0, … 0]</td><td>[0, 0, … 0]</td><td>[0, 0, … 0]</td><td>[0, 0, … 0]</td><td>[0, 0, … 0]</td><td>[0, 0, … 0]</td><td>[0, 0, … 0]</td><td>[0, 0, … 0]</td><td>[0, 0, … 0]</td><td>[0, 0, … 0]</td><td>[0, 0, … 0]</td><td>[0, 0, … 0]</td><td>[0, 0, … 0]</td><td>[0, 0, … 0]</td><td>[0, 0, … 0]</td><td>[0, 0, … 0]</td><td>[0, 0, … 0]</td><td>[0, 0, … 0]</td><td>[0, 0, … 0]</td><td>[0, 0, … 0]</td><td>[0, 0, … 0]</td><td>[0, 0, … 0]</td><td>[0, 0, … 0]</td></tr></tbody></table></div>"
      ],
      "text/plain": [
       "shape: (2, 260)\n",
       "┌─────────┬────────────┬───────────┬───────────┬───┬───────────┬───────────┬───────────┬───────────┐\n",
       "│ user_id ┆ sentiment_ ┆ category  ┆ premium   ┆ … ┆ subcatego ┆ subcatego ┆ subcatego ┆ subcatego │\n",
       "│ ---     ┆ label      ┆ ---       ┆ ---       ┆   ┆ ry_170    ┆ ry_171    ┆ ry_172    ┆ ry_173    │\n",
       "│ u32     ┆ ---        ┆ list[i8]  ┆ list[i8]  ┆   ┆ ---       ┆ ---       ┆ ---       ┆ ---       │\n",
       "│         ┆ list[i8]   ┆           ┆           ┆   ┆ list[i8]  ┆ list[i8]  ┆ list[i8]  ┆ list[i8]  │\n",
       "╞═════════╪════════════╪═══════════╪═══════════╪═══╪═══════════╪═══════════╪═══════════╪═══════════╡\n",
       "│ 2053634 ┆ [1, 1, …   ┆ [25, 4, … ┆ [0, 0, …  ┆ … ┆ [0, 0, …  ┆ [0, 0, …  ┆ [0, 0, …  ┆ [0, 0, …  │\n",
       "│         ┆ 1]         ┆ 4]        ┆ 0]        ┆   ┆ 0]        ┆ 0]        ┆ 0]        ┆ 0]        │\n",
       "│ 1899092 ┆ [3, 1, …   ┆ [5, 25, … ┆ [0, 0, …  ┆ … ┆ [0, 0, …  ┆ [0, 0, …  ┆ [0, 0, …  ┆ [0, 0, …  │\n",
       "│         ┆ 3]         ┆ 4]        ┆ 0]        ┆   ┆ 0]        ┆ 0]        ┆ 0]        ┆ 0]        │\n",
       "└─────────┴────────────┴───────────┴───────────┴───┴───────────┴───────────┴───────────┴───────────┘"
      ]
     },
     "execution_count": 99,
     "metadata": {},
     "output_type": "execute_result"
    }
   ],
   "source": [
    "from polimi.utils._polars import reduce_polars_df_memory_size\n",
    "\n",
    "window = 20\n",
    "mask = 0\n",
    "df_trucated = df.with_columns(\n",
    "    pl.all().exclude('user_id').list.reverse().list.eval(pl.element().extend_constant(mask, window)).list.reverse().list.tail(window).name.keep()\n",
    ")\n",
    "\n",
    "df_trucated.head(2)"
   ]
  },
  {
   "cell_type": "code",
   "execution_count": 100,
   "metadata": {},
   "outputs": [
    {
     "data": {
      "text/html": [
       "<div><style>\n",
       ".dataframe > thead > tr,\n",
       ".dataframe > tbody > tr {\n",
       "  text-align: right;\n",
       "  white-space: pre-wrap;\n",
       "}\n",
       "</style>\n",
       "<small>shape: (2, 384)</small><table border=\"1\" class=\"dataframe\"><thead><tr><th>impression_id</th><th>user_id</th><th>article</th><th>target</th><th>device_type</th><th>read_time</th><th>scroll_percentage</th><th>is_sso_user</th><th>gender</th><th>age</th><th>is_subscriber</th><th>postcode</th><th>trendiness_score_1d</th><th>trendiness_score_3d</th><th>trendiness_score_5d</th><th>trendiness_score_3d_leak</th><th>weekday</th><th>hour</th><th>trendiness_score_1d/3d</th><th>trendiness_score_1d/5d</th><th>normalized_trendiness_score_overall</th><th>premium</th><th>category</th><th>sentiment_score</th><th>sentiment_label</th><th>num_images</th><th>title_len</th><th>subtitle_len</th><th>body_len</th><th>num_topics</th><th>total_pageviews</th><th>total_inviews</th><th>total_read_time</th><th>total_pageviews/inviews</th><th>article_type</th><th>article_delay_days</th><th>article_delay_hours</th><th>&hellip;</th><th>constrastive_emb_icm_l_inf_article</th><th>std_article_kenneth_emb_icm</th><th>std_article_distilbert_emb_icm</th><th>std_article_bert_emb_icm</th><th>std_article_roberta_emb_icm</th><th>std_article_w_to_vec_emb_icm</th><th>std_article_emotions_emb_icm</th><th>std_article_constrastive_emb_icm</th><th>skew_article_kenneth_emb_icm</th><th>skew_article_distilbert_emb_icm</th><th>skew_article_bert_emb_icm</th><th>skew_article_roberta_emb_icm</th><th>skew_article_w_to_vec_emb_icm</th><th>skew_article_emotions_emb_icm</th><th>skew_article_constrastive_emb_icm</th><th>kurtosis_article_kenneth_emb_icm</th><th>kurtosis_article_distilbert_emb_icm</th><th>kurtosis_article_bert_emb_icm</th><th>kurtosis_article_roberta_emb_icm</th><th>kurtosis_article_w_to_vec_emb_icm</th><th>kurtosis_article_emotions_emb_icm</th><th>kurtosis_article_constrastive_emb_icm</th><th>entropy_article_kenneth_emb_icm</th><th>entropy_article_distilbert_emb_icm</th><th>entropy_article_bert_emb_icm</th><th>entropy_article_roberta_emb_icm</th><th>entropy_article_w_to_vec_emb_icm</th><th>entropy_article_emotions_emb_icm</th><th>entropy_article_constrastive_emb_icm</th><th>kenneth_emb_icm_minus_median_article</th><th>distilbert_emb_icm_minus_median_article</th><th>bert_emb_icm_minus_median_article</th><th>roberta_emb_icm_minus_median_article</th><th>w_to_vec_emb_icm_minus_median_article</th><th>emotions_emb_icm_minus_median_article</th><th>constrastive_emb_icm_minus_median_article</th><th>impression_time</th></tr><tr><td>u32</td><td>u32</td><td>i32</td><td>i8</td><td>i8</td><td>f32</td><td>f32</td><td>bool</td><td>i8</td><td>i8</td><td>bool</td><td>i8</td><td>i16</td><td>i16</td><td>i16</td><td>i16</td><td>i8</td><td>i8</td><td>f32</td><td>f32</td><td>f32</td><td>bool</td><td>i16</td><td>f32</td><td>str</td><td>u32</td><td>u8</td><td>u8</td><td>u16</td><td>u32</td><td>i32</td><td>i32</td><td>f32</td><td>f32</td><td>str</td><td>i16</td><td>i32</td><td>&hellip;</td><td>f32</td><td>f32</td><td>f32</td><td>f32</td><td>f32</td><td>f32</td><td>f32</td><td>f32</td><td>f64</td><td>f64</td><td>f64</td><td>f64</td><td>f64</td><td>f64</td><td>f64</td><td>f64</td><td>f64</td><td>f64</td><td>f64</td><td>f64</td><td>f64</td><td>f64</td><td>f32</td><td>f32</td><td>f32</td><td>f32</td><td>f32</td><td>f32</td><td>f32</td><td>f32</td><td>f32</td><td>f32</td><td>f32</td><td>f32</td><td>f32</td><td>f32</td><td>datetime[μs]</td></tr></thead><tbody><tr><td>149474</td><td>139836</td><td>9778728</td><td>0</td><td>2</td><td>13.0</td><td>null</td><td>false</td><td>2</td><td>null</td><td>false</td><td>5</td><td>150</td><td>521</td><td>836</td><td>419</td><td>3</td><td>7</td><td>0.287908</td><td>0.179426</td><td>0.880068</td><td>false</td><td>142</td><td>0.9654</td><td>&quot;Negative&quot;</td><td>1</td><td>5</td><td>18</td><td>251</td><td>7</td><td>22415</td><td>220247</td><td>1.004828e6</td><td>0.101772</td><td>&quot;article_default&quot;</td><td>0</td><td>0</td><td>&hellip;</td><td>0.017241</td><td>0.003313</td><td>0.010775</td><td>0.020001</td><td>6.258241</td><td>0.005474</td><td>4.929348</td><td>0.062682</td><td>1.300164</td><td>2.060066</td><td>1.152196</td><td>1.754251</td><td>2.088241</td><td>1.214502</td><td>1.406736</td><td>1.339344</td><td>5.427761</td><td>1.025453</td><td>3.529418</td><td>5.37705</td><td>1.054931</td><td>1.963193</td><td>NaN</td><td>NaN</td><td>NaN</td><td>NaN</td><td>NaN</td><td>NaN</td><td>NaN</td><td>-0.002187</td><td>-0.004914</td><td>-0.014626</td><td>-3.694031</td><td>-0.002645</td><td>-3.802204</td><td>-0.039383</td><td>2023-05-24 07:47:53</td></tr><tr><td>149474</td><td>139836</td><td>9778669</td><td>0</td><td>2</td><td>13.0</td><td>null</td><td>false</td><td>2</td><td>null</td><td>false</td><td>5</td><td>85</td><td>199</td><td>313</td><td>266</td><td>3</td><td>7</td><td>0.427136</td><td>0.271565</td><td>0.336149</td><td>false</td><td>118</td><td>0.9481</td><td>&quot;Negative&quot;</td><td>1</td><td>5</td><td>11</td><td>150</td><td>4</td><td>74491</td><td>373488</td><td>4.365609e6</td><td>0.199447</td><td>&quot;article_default&quot;</td><td>0</td><td>1</td><td>&hellip;</td><td>0.017094</td><td>0.003318</td><td>0.011131</td><td>0.019302</td><td>5.737217</td><td>0.003193</td><td>8.05171</td><td>0.06661</td><td>1.08501</td><td>1.063945</td><td>0.947301</td><td>1.095085</td><td>1.058148</td><td>1.020884</td><td>1.072975</td><td>0.822594</td><td>0.947987</td><td>0.355356</td><td>0.968488</td><td>1.051799</td><td>0.600099</td><td>0.791561</td><td>NaN</td><td>NaN</td><td>NaN</td><td>NaN</td><td>NaN</td><td>NaN</td><td>NaN</td><td>-0.002933</td><td>-0.010537</td><td>-0.017286</td><td>-4.617104</td><td>-0.002901</td><td>-7.678095</td><td>-0.057551</td><td>2023-05-24 07:47:53</td></tr></tbody></table></div>"
      ],
      "text/plain": [
       "shape: (2, 384)\n",
       "┌─────────────┬─────────┬─────────┬────────┬───┬────────────┬────────────┬────────────┬────────────┐\n",
       "│ impression_ ┆ user_id ┆ article ┆ target ┆ … ┆ w_to_vec_e ┆ emotions_e ┆ constrasti ┆ impression │\n",
       "│ id          ┆ ---     ┆ ---     ┆ ---    ┆   ┆ mb_icm_min ┆ mb_icm_min ┆ ve_emb_icm ┆ _time      │\n",
       "│ ---         ┆ u32     ┆ i32     ┆ i8     ┆   ┆ us_median_ ┆ us_median_ ┆ _minus_med ┆ ---        │\n",
       "│ u32         ┆         ┆         ┆        ┆   ┆ …          ┆ …          ┆ …          ┆ datetime[μ │\n",
       "│             ┆         ┆         ┆        ┆   ┆ ---        ┆ ---        ┆ ---        ┆ s]         │\n",
       "│             ┆         ┆         ┆        ┆   ┆ f32        ┆ f32        ┆ f32        ┆            │\n",
       "╞═════════════╪═════════╪═════════╪════════╪═══╪════════════╪════════════╪════════════╪════════════╡\n",
       "│ 149474      ┆ 139836  ┆ 9778728 ┆ 0      ┆ … ┆ -0.002645  ┆ -3.802204  ┆ -0.039383  ┆ 2023-05-24 │\n",
       "│             ┆         ┆         ┆        ┆   ┆            ┆            ┆            ┆ 07:47:53   │\n",
       "│ 149474      ┆ 139836  ┆ 9778669 ┆ 0      ┆ … ┆ -0.002901  ┆ -7.678095  ┆ -0.057551  ┆ 2023-05-24 │\n",
       "│             ┆         ┆         ┆        ┆   ┆            ┆            ┆            ┆ 07:47:53   │\n",
       "└─────────────┴─────────┴─────────┴────────┴───┴────────────┴────────────┴────────────┴────────────┘"
      ]
     },
     "execution_count": 100,
     "metadata": {},
     "output_type": "execute_result"
    }
   ],
   "source": [
    "behaviors_df = pl.read_parquet('/home/ubuntu/dset_complete/subsample/train_ds.parquet')\n",
    "behaviors_df.head(2)"
   ]
  },
  {
   "cell_type": "code",
   "execution_count": 101,
   "metadata": {},
   "outputs": [],
   "source": [
    "def build_sequences_cls_iterator(history_seq: pl.DataFrame, behaviors: pl.DataFrame, window:int):\n",
    "    mask = 0\n",
    "    history_seq_trucated = history_seq.with_columns(\n",
    "        pl.all().exclude('user_id').list.reverse().list.eval(pl.element().extend_constant(mask, window)).list.reverse().list.tail(window).name.keep()\n",
    "    )\n",
    "    \n",
    "    for user_id, user_history in tqdm(history_seq_trucated.partition_by(['user_id'], as_dict=True, maintain_order=False).items()): #order not maintained\n",
    "        for b in behaviors.filter(pl.col('user_id') == user_id[0]).iter_slices(1):\n",
    "            yield (b.drop('target'), user_history, b['target'].item())\n",
    "        "
   ]
  },
  {
   "cell_type": "code",
   "execution_count": 103,
   "metadata": {},
   "outputs": [
    {
     "name": "stderr",
     "output_type": "stream",
     "text": [
      "  0%|          | 0/15143 [00:00<?, ?it/s]\n"
     ]
    },
    {
     "name": "stdout",
     "output_type": "stream",
     "text": [
      "0\n"
     ]
    }
   ],
   "source": [
    "for i, (features, user_history_trunc, target) in enumerate(build_sequences_cls_iterator(df, behaviors_df, window=20)):\n",
    "    print(target)\n",
    "    break"
   ]
  },
  {
   "cell_type": "code",
   "execution_count": null,
   "metadata": {},
   "outputs": [],
   "source": []
  }
 ],
 "metadata": {
  "kernelspec": {
   "display_name": "recsys",
   "language": "python",
   "name": "python3"
  },
  "language_info": {
   "codemirror_mode": {
    "name": "ipython",
    "version": 3
   },
   "file_extension": ".py",
   "mimetype": "text/x-python",
   "name": "python",
   "nbconvert_exporter": "python",
   "pygments_lexer": "ipython3",
   "version": "3.10.12"
  }
 },
 "nbformat": 4,
 "nbformat_minor": 2
}
