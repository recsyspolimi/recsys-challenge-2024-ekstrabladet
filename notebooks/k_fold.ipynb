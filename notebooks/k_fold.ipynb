{
 "cells": [
  {
   "cell_type": "code",
   "execution_count": 68,
   "metadata": {},
   "outputs": [],
   "source": [
    "import polars as pl\n",
    "from pathlib import Path\n",
    "import numpy as np\n",
    "import datetime"
   ]
  },
  {
   "cell_type": "code",
   "execution_count": 69,
   "metadata": {},
   "outputs": [],
   "source": [
    "dpath = Path('../dataset')\n",
    "\n",
    "dtype = 'small'\n",
    "articles = pl.read_parquet(f'{dpath}/ebnerd_{dtype}/articles.parquet')\n",
    "\n",
    "behaviors_train = pl.read_parquet(f'{dpath}/ebnerd_{dtype}/train/behaviors.parquet')\n",
    "history_train = pl.read_parquet(f'{dpath}/ebnerd_{dtype}/train/history.parquet')\n",
    "\n",
    "behaviors_val = pl.read_parquet(f'{dpath}/ebnerd_{dtype}/validation/behaviors.parquet')\n",
    "history_val = pl.read_parquet(f'{dpath}/ebnerd_{dtype}/validation/history.parquet')"
   ]
  },
  {
   "cell_type": "code",
   "execution_count": 70,
   "metadata": {},
   "outputs": [
    {
     "name": "stdout",
     "output_type": "stream",
     "text": [
      "History train:  2023-04-27 07:00:00 2023-05-18 06:59:59 20 days, 23:59:59\n",
      "Behaviors train:  2023-05-18 07:00:01 2023-05-25 06:59:58 6 days, 23:59:57\n"
     ]
    }
   ],
   "source": [
    "print('History train: ', history_train['impression_time_fixed'].explode().min(), history_train['impression_time_fixed'].explode().max(), (history_train['impression_time_fixed'].explode().max() - history_train['impression_time_fixed'].explode().min()))\n",
    "print('Behaviors train: ', behaviors_train['impression_time'].explode().min(), behaviors_train['impression_time'].explode().max(), behaviors_train['impression_time'].explode().max() - behaviors_train['impression_time'].explode().min())"
   ]
  },
  {
   "cell_type": "code",
   "execution_count": 71,
   "metadata": {},
   "outputs": [
    {
     "name": "stdout",
     "output_type": "stream",
     "text": [
      "History val:  2023-05-04 07:00:00 2023-05-25 06:59:59 20 days, 23:59:59\n",
      "Behaviors val:  2023-05-25 07:00:02 2023-06-01 06:59:59 6 days, 23:59:57\n"
     ]
    }
   ],
   "source": [
    "print('History val: ', history_val['impression_time_fixed'].explode().min(), history_val['impression_time_fixed'].explode().max(), (history_val['impression_time_fixed'].explode().max() - history_val['impression_time_fixed'].explode().min()))\n",
    "print('Behaviors val: ', behaviors_val['impression_time'].explode().min(), behaviors_val['impression_time'].explode().max(), behaviors_val['impression_time'].explode().max() - behaviors_val['impression_time'].explode().min())"
   ]
  },
  {
   "cell_type": "code",
   "execution_count": 72,
   "metadata": {},
   "outputs": [
    {
     "data": {
      "text/plain": [
       "datetime.timedelta(days=13, seconds=86398)"
      ]
     },
     "execution_count": 72,
     "metadata": {},
     "output_type": "execute_result"
    }
   ],
   "source": [
    "behaviors_val['impression_time'].explode().max() - behaviors_train['impression_time'].explode().min()"
   ]
  },
  {
   "cell_type": "code",
   "execution_count": 73,
   "metadata": {},
   "outputs": [
    {
     "data": {
      "text/html": [
       "<div><style>\n",
       ".dataframe > thead > tr,\n",
       ".dataframe > tbody > tr {\n",
       "  text-align: right;\n",
       "  white-space: pre-wrap;\n",
       "}\n",
       "</style>\n",
       "<small>shape: (2, 5)</small><table border=\"1\" class=\"dataframe\"><thead><tr><th>user_id</th><th>impression_time_fixed</th><th>scroll_percentage_fixed</th><th>article_id_fixed</th><th>read_time_fixed</th></tr><tr><td>u32</td><td>list[datetime[μs]]</td><td>list[f32]</td><td>list[i32]</td><td>list[f32]</td></tr></thead><tbody><tr><td>1802107</td><td>[2023-05-18 09:04:03, 2023-05-18 13:07:43, … 2023-05-24 21:28:28]</td><td>[34.0, null, … 33.0]</td><td>[9770886, 9771351, … 9776967]</td><td>[3.0, 10.0, … 2.0]</td></tr><tr><td>475476</td><td>[2023-05-18 12:52:59, 2023-05-20 13:31:53, … 2023-05-24 23:44:29]</td><td>[44.0, 100.0, … 46.0]</td><td>[9769497, 9755712, … 9779867]</td><td>[7.0, 3.0, … 14.0]</td></tr></tbody></table></div>"
      ],
      "text/plain": [
       "shape: (2, 5)\n",
       "┌─────────┬──────────────────────┬──────────────────────┬─────────────────────┬────────────────────┐\n",
       "│ user_id ┆ impression_time_fixe ┆ scroll_percentage_fi ┆ article_id_fixed    ┆ read_time_fixed    │\n",
       "│ ---     ┆ d                    ┆ xed                  ┆ ---                 ┆ ---                │\n",
       "│ u32     ┆ ---                  ┆ ---                  ┆ list[i32]           ┆ list[f32]          │\n",
       "│         ┆ list[datetime[μs]]   ┆ list[f32]            ┆                     ┆                    │\n",
       "╞═════════╪══════════════════════╪══════════════════════╪═════════════════════╪════════════════════╡\n",
       "│ 1802107 ┆ [2023-05-18          ┆ [34.0, null, … 33.0] ┆ [9770886, 9771351,  ┆ [3.0, 10.0, … 2.0] │\n",
       "│         ┆ 09:04:03, 2023-05-…  ┆                      ┆ … 9776967]          ┆                    │\n",
       "│ 475476  ┆ [2023-05-18          ┆ [44.0, 100.0, …      ┆ [9769497, 9755712,  ┆ [7.0, 3.0, … 14.0] │\n",
       "│         ┆ 12:52:59, 2023-05-…  ┆ 46.0]                ┆ … 9779867]          ┆                    │\n",
       "└─────────┴──────────────────────┴──────────────────────┴─────────────────────┴────────────────────┘"
      ]
     },
     "execution_count": 73,
     "metadata": {},
     "output_type": "execute_result"
    }
   ],
   "source": [
    "def behaviors_to_history(behaviors: pl.DataFrame) -> pl.DataFrame:\n",
    "        return behaviors.sort('impression_time').select('user_id', 'impression_time', 'next_scroll_percentage', 'article_ids_clicked', 'next_read_time')\\\n",
    "                .rename({'impression_time': 'impression_time_fixed', \n",
    "                        'article_ids_clicked': 'article_id_fixed', \n",
    "                        'next_read_time': 'read_time_fixed', \n",
    "                        'next_scroll_percentage': 'scroll_percentage_fixed'})\\\n",
    "                .explode('article_id_fixed').group_by('user_id').agg(pl.all())\n",
    "        \n",
    "behaviors_to_history(behaviors_train).head(2)"
   ]
  },
  {
   "cell_type": "code",
   "execution_count": 74,
   "metadata": {},
   "outputs": [
    {
     "data": {
      "text/html": [
       "<div><style>\n",
       ".dataframe > thead > tr,\n",
       ".dataframe > tbody > tr {\n",
       "  text-align: right;\n",
       "  white-space: pre-wrap;\n",
       "}\n",
       "</style>\n",
       "<small>shape: (2_426_247, 5)</small><table border=\"1\" class=\"dataframe\"><thead><tr><th>user_id</th><th>impression_time_fixed</th><th>scroll_percentage_fixed</th><th>article_id_fixed</th><th>read_time_fixed</th></tr><tr><td>u32</td><td>datetime[μs]</td><td>f32</td><td>i32</td><td>f32</td></tr></thead><tbody><tr><td>13538</td><td>2023-04-27 10:17:43</td><td>100.0</td><td>9738663</td><td>17.0</td></tr><tr><td>13538</td><td>2023-04-27 10:18:01</td><td>35.0</td><td>9738569</td><td>12.0</td></tr><tr><td>13538</td><td>2023-04-27 10:18:13</td><td>100.0</td><td>9738663</td><td>4.0</td></tr><tr><td>13538</td><td>2023-04-27 10:18:17</td><td>24.0</td><td>9738490</td><td>5.0</td></tr><tr><td>13538</td><td>2023-04-27 10:18:23</td><td>100.0</td><td>9738663</td><td>4.0</td></tr><tr><td>&hellip;</td><td>&hellip;</td><td>&hellip;</td><td>&hellip;</td><td>&hellip;</td></tr><tr><td>1710834</td><td>2023-05-17 21:09:45</td><td>20.0</td><td>9770741</td><td>9.0</td></tr><tr><td>1710834</td><td>2023-05-17 21:09:55</td><td>43.0</td><td>9770594</td><td>44.0</td></tr><tr><td>1710834</td><td>2023-05-17 21:10:39</td><td>99.0</td><td>9728166</td><td>35.0</td></tr><tr><td>1710834</td><td>2023-05-17 21:11:15</td><td>99.0</td><td>9769433</td><td>44.0</td></tr><tr><td>1710834</td><td>2023-05-17 21:11:59</td><td>48.0</td><td>9770452</td><td>916.0</td></tr></tbody></table></div>"
      ],
      "text/plain": [
       "shape: (2_426_247, 5)\n",
       "┌─────────┬───────────────────────┬─────────────────────────┬──────────────────┬─────────────────┐\n",
       "│ user_id ┆ impression_time_fixed ┆ scroll_percentage_fixed ┆ article_id_fixed ┆ read_time_fixed │\n",
       "│ ---     ┆ ---                   ┆ ---                     ┆ ---              ┆ ---             │\n",
       "│ u32     ┆ datetime[μs]          ┆ f32                     ┆ i32              ┆ f32             │\n",
       "╞═════════╪═══════════════════════╪═════════════════════════╪══════════════════╪═════════════════╡\n",
       "│ 13538   ┆ 2023-04-27 10:17:43   ┆ 100.0                   ┆ 9738663          ┆ 17.0            │\n",
       "│ 13538   ┆ 2023-04-27 10:18:01   ┆ 35.0                    ┆ 9738569          ┆ 12.0            │\n",
       "│ 13538   ┆ 2023-04-27 10:18:13   ┆ 100.0                   ┆ 9738663          ┆ 4.0             │\n",
       "│ 13538   ┆ 2023-04-27 10:18:17   ┆ 24.0                    ┆ 9738490          ┆ 5.0             │\n",
       "│ 13538   ┆ 2023-04-27 10:18:23   ┆ 100.0                   ┆ 9738663          ┆ 4.0             │\n",
       "│ …       ┆ …                     ┆ …                       ┆ …                ┆ …               │\n",
       "│ 1710834 ┆ 2023-05-17 21:09:45   ┆ 20.0                    ┆ 9770741          ┆ 9.0             │\n",
       "│ 1710834 ┆ 2023-05-17 21:09:55   ┆ 43.0                    ┆ 9770594          ┆ 44.0            │\n",
       "│ 1710834 ┆ 2023-05-17 21:10:39   ┆ 99.0                    ┆ 9728166          ┆ 35.0            │\n",
       "│ 1710834 ┆ 2023-05-17 21:11:15   ┆ 99.0                    ┆ 9769433          ┆ 44.0            │\n",
       "│ 1710834 ┆ 2023-05-17 21:11:59   ┆ 48.0                    ┆ 9770452          ┆ 916.0           │\n",
       "└─────────┴───────────────────────┴─────────────────────────┴──────────────────┴─────────────────┘"
      ]
     },
     "execution_count": 74,
     "metadata": {},
     "output_type": "execute_result"
    }
   ],
   "source": [
    "history_train.explode(pl.all().exclude('user_id'))"
   ]
  },
  {
   "cell_type": "code",
   "execution_count": 75,
   "metadata": {},
   "outputs": [
    {
     "data": {
      "text/html": [
       "<div><style>\n",
       ".dataframe > thead > tr,\n",
       ".dataframe > tbody > tr {\n",
       "  text-align: right;\n",
       "  white-space: pre-wrap;\n",
       "}\n",
       "</style>\n",
       "<small>shape: (2, 5)</small><table border=\"1\" class=\"dataframe\"><thead><tr><th>user_id</th><th>impression_time_fixed</th><th>scroll_percentage_fixed</th><th>article_id_fixed</th><th>read_time_fixed</th></tr><tr><td>u32</td><td>list[datetime[μs]]</td><td>list[f32]</td><td>list[i32]</td><td>list[f32]</td></tr></thead><tbody><tr><td>10068</td><td>[2023-04-27 14:22:26, 2023-04-27 18:51:53, … 2023-05-16 19:48:21]</td><td>[100.0, 100.0, … 100.0]</td><td>[9735753, 9739065, … 9759717]</td><td>[39.0, 21.0, … 7.0]</td></tr><tr><td>10200</td><td>[2023-05-14 05:46:27, 2023-05-14 05:46:44, … 2023-05-29 05:09:35]</td><td>[36.0, 24.0, … null]</td><td>[9764325, 9763923, … 9784952]</td><td>[16.0, 15.0, … 1.0]</td></tr></tbody></table></div>"
      ],
      "text/plain": [
       "shape: (2, 5)\n",
       "┌─────────┬──────────────────────┬─────────────────────┬─────────────────────┬─────────────────────┐\n",
       "│ user_id ┆ impression_time_fixe ┆ scroll_percentage_f ┆ article_id_fixed    ┆ read_time_fixed     │\n",
       "│ ---     ┆ d                    ┆ ixed                ┆ ---                 ┆ ---                 │\n",
       "│ u32     ┆ ---                  ┆ ---                 ┆ list[i32]           ┆ list[f32]           │\n",
       "│         ┆ list[datetime[μs]]   ┆ list[f32]           ┆                     ┆                     │\n",
       "╞═════════╪══════════════════════╪═════════════════════╪═════════════════════╪═════════════════════╡\n",
       "│ 10068   ┆ [2023-04-27          ┆ [100.0, 100.0, …    ┆ [9735753, 9739065,  ┆ [39.0, 21.0, … 7.0] │\n",
       "│         ┆ 14:22:26, 2023-04-…  ┆ 100.0]              ┆ … 9759717]          ┆                     │\n",
       "│ 10200   ┆ [2023-05-14          ┆ [36.0, 24.0, …      ┆ [9764325, 9763923,  ┆ [16.0, 15.0, … 1.0] │\n",
       "│         ┆ 05:46:27, 2023-05-…  ┆ null]               ┆ … 9784952]          ┆                     │\n",
       "└─────────┴──────────────────────┴─────────────────────┴─────────────────────┴─────────────────────┘"
      ]
     },
     "execution_count": 75,
     "metadata": {},
     "output_type": "execute_result"
    }
   ],
   "source": [
    "history_all = pl.concat([\n",
    "    history_train.explode(pl.all().exclude('user_id')).join(\n",
    "        history_val.explode(pl.all().exclude('user_id')), \n",
    "        on=['user_id', 'impression_time_fixed'], how='anti'),\n",
    "    history_val.explode(pl.all().exclude('user_id')),\n",
    "    behaviors_to_history(behaviors_val).explode(pl.all().exclude('user_id')),\n",
    "]).sort(['user_id', 'impression_time_fixed'])\\\n",
    ".group_by('user_id').agg(pl.all())\n",
    "history_all.head(2)"
   ]
  },
  {
   "cell_type": "code",
   "execution_count": 76,
   "metadata": {},
   "outputs": [
    {
     "data": {
      "text/plain": [
       "(datetime.date(2023, 4, 27), datetime.date(2023, 6, 1))"
      ]
     },
     "execution_count": 76,
     "metadata": {},
     "output_type": "execute_result"
    }
   ],
   "source": [
    "history_all['impression_time_fixed'].explode().dt.date().min(), history_all['impression_time_fixed'].explode().dt.date().max()"
   ]
  },
  {
   "cell_type": "markdown",
   "metadata": {},
   "source": [
    "## Moving window"
   ]
  },
  {
   "cell_type": "code",
   "execution_count": 77,
   "metadata": {},
   "outputs": [],
   "source": [
    "def moving_window_split_iterator(history: pl.DataFrame, behaviors: pl.DataFrame, window:int=4, window_val:int=2, stride:int=2, verbose=True):\n",
    "    assert behaviors['impression_time'].is_sorted()\n",
    "    \n",
    "    \n",
    "    all_dates = history['impression_time_fixed'].explode().dt.date().unique().append(\n",
    "        behaviors['impression_time'].dt.date().unique()\n",
    "    ).unique().sort().to_list()\n",
    "    all_dates_map = {date: i for i, date in enumerate(all_dates)}\n",
    "    if verbose:\n",
    "        print(f'Date range: [{all_dates[0]}:{all_dates_map[all_dates[0]]} - {all_dates[-1]}:{all_dates_map[all_dates[-1]]}]')\n",
    "    \n",
    "    history_window_train_start_date = history['impression_time_fixed'].explode().min().date()    \n",
    "    start_window_train_behavior_date = behaviors['impression_time'].min().date()\n",
    "    start_window_hour = datetime.time(7, 0, 0)\n",
    "    last_date = behaviors['impression_time'].max().date()\n",
    "    i = 0\n",
    "    while  start_window_train_behavior_date + datetime.timedelta(days=window + window_val) <= last_date:\n",
    "        end_window_train_behavior_date = start_window_train_behavior_date + datetime.timedelta(days=window)\n",
    "        start_window_val_behavior_date  = end_window_train_behavior_date\n",
    "        end_window_val_behavior_date = start_window_val_behavior_date + datetime.timedelta(days=window_val)\n",
    "        \n",
    "        \n",
    "        history_window_train_end_date = history_window_train_start_date + datetime.timedelta(days=21)\n",
    "        history_window_val_start_date = history_window_train_start_date + datetime.timedelta(days=window)\n",
    "        history_window_val_end_date = history_window_val_start_date + datetime.timedelta(days=21)\n",
    "        \n",
    "\n",
    "\n",
    "        if verbose:\n",
    "            print(f'Fold {i}: ')\n",
    "            print(f'Train: [[{history_window_train_start_date} - {history_window_train_end_date}] - [{start_window_train_behavior_date} - {end_window_train_behavior_date}]] [{all_dates_map[history_window_train_start_date]} - {all_dates_map[history_window_train_end_date]} - {all_dates_map[end_window_train_behavior_date]}]')\n",
    "            print(f'Validation: [[{history_window_val_start_date} - {history_window_val_end_date}] - [{start_window_val_behavior_date} - {end_window_val_behavior_date}]] [{all_dates_map[history_window_val_start_date]} - {all_dates_map[history_window_val_end_date]} - {all_dates_map[end_window_val_behavior_date]}]')\n",
    "        \n",
    "            \n",
    "        \n",
    "        history_k_train = history.explode(pl.all().exclude('user_id')).filter(\n",
    "            pl.col('impression_time_fixed') >= datetime.datetime.combine(history_window_train_start_date, start_window_hour),\n",
    "            pl.col('impression_time_fixed') < datetime.datetime.combine(history_window_train_end_date, start_window_hour),\n",
    "        ).group_by('user_id').agg(pl.all())\n",
    "        \n",
    "        behaviors_k_train = behaviors.filter(\n",
    "            pl.col('impression_time') >= datetime.datetime.combine(start_window_train_behavior_date, start_window_hour),\n",
    "            pl.col('impression_time') < datetime.datetime.combine(end_window_train_behavior_date, start_window_hour),\n",
    "            pl.col('user_id').is_in(history_k_train['user_id'])\n",
    "        )\n",
    "        \n",
    "        \n",
    "        history_k_val = history.explode(pl.all().exclude('user_id')).filter(\n",
    "            pl.col('impression_time_fixed') >= datetime.datetime.combine(history_window_val_start_date, start_window_hour),\n",
    "            pl.col('impression_time_fixed') < datetime.datetime.combine(history_window_val_end_date, start_window_hour),\n",
    "        ).group_by('user_id').agg(pl.all())\n",
    "\n",
    "        behaviors_k_val = behaviors.filter(\n",
    "            pl.col('impression_time') >= datetime.datetime.combine(start_window_val_behavior_date, start_window_hour),\n",
    "            pl.col('impression_time') < datetime.datetime.combine(end_window_val_behavior_date, start_window_hour),\n",
    "            pl.col('user_id').is_in(history_k_val['user_id'])\n",
    "        )\n",
    "        \n",
    "        \n",
    "        \n",
    "        start_window_train_behavior_date += datetime.timedelta(days=stride)\n",
    "        history_window_train_start_date += datetime.timedelta(days=stride)\n",
    "        i+=1\n",
    "        \n",
    "        yield history_k_train, behaviors_k_train, history_k_val, behaviors_k_val"
   ]
  },
  {
   "cell_type": "code",
   "execution_count": 78,
   "metadata": {},
   "outputs": [
    {
     "name": "stdout",
     "output_type": "stream",
     "text": [
      "Date range: [2023-04-27:0 - 2023-06-01:35]\n",
      "Fold 0: \n",
      "Train: [[2023-04-27 - 2023-05-18] - [2023-05-18 - 2023-05-22]] [0 - 21 - 25]\n",
      "Validation: [[2023-05-01 - 2023-05-22] - [2023-05-22 - 2023-05-24]] [4 - 25 - 27]\n",
      "Fold 1: \n",
      "Train: [[2023-04-29 - 2023-05-20] - [2023-05-20 - 2023-05-24]] [2 - 23 - 27]\n",
      "Validation: [[2023-05-03 - 2023-05-24] - [2023-05-24 - 2023-05-26]] [6 - 27 - 29]\n"
     ]
    }
   ],
   "source": [
    "behaviors_all = behaviors_train.vstack(behaviors_val).sort('impression_time').set_sorted('impression_time')\n",
    "for i, (history_k_train, behaviors_k_train, history_k_val, behaviors_k_val) in enumerate(moving_window_split_iterator(history_all, behaviors_all, window=4, window_val=2, stride=2)):\n",
    "    if i == 1:\n",
    "        break"
   ]
  },
  {
   "cell_type": "code",
   "execution_count": 86,
   "metadata": {},
   "outputs": [
    {
     "data": {
      "text/plain": [
       "[349106, 581021, 1467116, 1795668, 2439844]"
      ]
     },
     "execution_count": 86,
     "metadata": {},
     "output_type": "execute_result"
    }
   ],
   "source": [
    "history_users = history_k_train['user_id'].unique().to_list()\n",
    "behaviors_users = behaviors_k_train['user_id'].unique().to_list()\n",
    "\n",
    "not_in_history = [id for id in behaviors_users if id not in history_users]\n",
    "not_in_history"
   ]
  },
  {
   "cell_type": "code",
   "execution_count": 87,
   "metadata": {},
   "outputs": [
    {
     "data": {
      "text/html": [
       "<div><style>\n",
       ".dataframe > thead > tr,\n",
       ".dataframe > tbody > tr {\n",
       "  text-align: right;\n",
       "  white-space: pre-wrap;\n",
       "}\n",
       "</style>\n",
       "<small>shape: (16, 17)</small><table border=\"1\" class=\"dataframe\"><thead><tr><th>impression_id</th><th>article_id</th><th>impression_time</th><th>read_time</th><th>scroll_percentage</th><th>device_type</th><th>article_ids_inview</th><th>article_ids_clicked</th><th>user_id</th><th>is_sso_user</th><th>gender</th><th>postcode</th><th>age</th><th>is_subscriber</th><th>session_id</th><th>next_read_time</th><th>next_scroll_percentage</th></tr><tr><td>u32</td><td>i32</td><td>datetime[μs]</td><td>f32</td><td>f32</td><td>i8</td><td>list[i32]</td><td>list[i32]</td><td>u32</td><td>bool</td><td>i8</td><td>i8</td><td>i8</td><td>bool</td><td>u32</td><td>f32</td><td>f32</td></tr></thead><tbody><tr><td>501830347</td><td>null</td><td>2023-05-20 07:20:01</td><td>16.0</td><td>null</td><td>1</td><td>[9772300, 9772475, … 9772601]</td><td>[9755712]</td><td>1795668</td><td>false</td><td>null</td><td>null</td><td>null</td><td>false</td><td>1906844</td><td>3.0</td><td>52.0</td></tr><tr><td>501830339</td><td>null</td><td>2023-05-20 07:20:22</td><td>3.0</td><td>null</td><td>1</td><td>[9462356, 9559366, … 9773307]</td><td>[9773307]</td><td>1795668</td><td>false</td><td>null</td><td>null</td><td>null</td><td>false</td><td>1906844</td><td>2.0</td><td>35.0</td></tr><tr><td>501830348</td><td>null</td><td>2023-05-20 07:20:28</td><td>14.0</td><td>null</td><td>1</td><td>[9773210, 9500202, … 9769504]</td><td>[9772635]</td><td>1795668</td><td>false</td><td>null</td><td>null</td><td>null</td><td>false</td><td>1906844</td><td>16.0</td><td>60.0</td></tr><tr><td>501830344</td><td>null</td><td>2023-05-20 07:20:59</td><td>10.0</td><td>null</td><td>1</td><td>[9518647, 9500202, … 9773137]</td><td>[9773137]</td><td>1795668</td><td>false</td><td>null</td><td>null</td><td>null</td><td>false</td><td>1906844</td><td>11.0</td><td>27.0</td></tr><tr><td>501830342</td><td>null</td><td>2023-05-20 07:21:22</td><td>12.0</td><td>null</td><td>1</td><td>[9773210, 9746360, … 9769624]</td><td>[9769624]</td><td>1795668</td><td>false</td><td>null</td><td>null</td><td>null</td><td>false</td><td>1906844</td><td>11.0</td><td>100.0</td></tr><tr><td>&hellip;</td><td>&hellip;</td><td>&hellip;</td><td>&hellip;</td><td>&hellip;</td><td>&hellip;</td><td>&hellip;</td><td>&hellip;</td><td>&hellip;</td><td>&hellip;</td><td>&hellip;</td><td>&hellip;</td><td>&hellip;</td><td>&hellip;</td><td>&hellip;</td><td>&hellip;</td><td>&hellip;</td></tr><tr><td>384454257</td><td>null</td><td>2023-05-23 20:24:52</td><td>55.0</td><td>null</td><td>1</td><td>[9735234, 9747985, … 9749058]</td><td>[9735234]</td><td>349106</td><td>false</td><td>null</td><td>null</td><td>null</td><td>false</td><td>2007716</td><td>641.0</td><td>100.0</td></tr><tr><td>158439798</td><td>null</td><td>2023-05-24 06:16:08</td><td>52.0</td><td>null</td><td>1</td><td>[9778351, 9778021, … 9778628]</td><td>[9778369]</td><td>581021</td><td>false</td><td>null</td><td>null</td><td>null</td><td>false</td><td>1802320</td><td>23.0</td><td>46.0</td></tr><tr><td>158439781</td><td>null</td><td>2023-05-24 06:17:55</td><td>28.0</td><td>null</td><td>1</td><td>[9778351, 9778375, … 9695098]</td><td>[9778318]</td><td>581021</td><td>false</td><td>null</td><td>null</td><td>null</td><td>false</td><td>1802320</td><td>11.0</td><td>100.0</td></tr><tr><td>158439784</td><td>null</td><td>2023-05-24 06:18:35</td><td>22.0</td><td>null</td><td>1</td><td>[9746342, 9761586, … 9142564]</td><td>[9778310]</td><td>581021</td><td>false</td><td>null</td><td>null</td><td>null</td><td>false</td><td>1802320</td><td>3.0</td><td>21.0</td></tr><tr><td>158439787</td><td>null</td><td>2023-05-24 06:19:01</td><td>23.0</td><td>null</td><td>1</td><td>[9778168, 9760046, … 9749014]</td><td>[9776014]</td><td>581021</td><td>false</td><td>null</td><td>null</td><td>null</td><td>false</td><td>1802320</td><td>8.0</td><td>22.0</td></tr></tbody></table></div>"
      ],
      "text/plain": [
       "shape: (16, 17)\n",
       "┌───────────┬───────────┬───────────┬───────────┬───┬───────────┬───────────┬───────────┬──────────┐\n",
       "│ impressio ┆ article_i ┆ impressio ┆ read_time ┆ … ┆ is_subscr ┆ session_i ┆ next_read ┆ next_scr │\n",
       "│ n_id      ┆ d         ┆ n_time    ┆ ---       ┆   ┆ iber      ┆ d         ┆ _time     ┆ oll_perc │\n",
       "│ ---       ┆ ---       ┆ ---       ┆ f32       ┆   ┆ ---       ┆ ---       ┆ ---       ┆ entage   │\n",
       "│ u32       ┆ i32       ┆ datetime[ ┆           ┆   ┆ bool      ┆ u32       ┆ f32       ┆ ---      │\n",
       "│           ┆           ┆ μs]       ┆           ┆   ┆           ┆           ┆           ┆ f32      │\n",
       "╞═══════════╪═══════════╪═══════════╪═══════════╪═══╪═══════════╪═══════════╪═══════════╪══════════╡\n",
       "│ 501830347 ┆ null      ┆ 2023-05-2 ┆ 16.0      ┆ … ┆ false     ┆ 1906844   ┆ 3.0       ┆ 52.0     │\n",
       "│           ┆           ┆ 0         ┆           ┆   ┆           ┆           ┆           ┆          │\n",
       "│           ┆           ┆ 07:20:01  ┆           ┆   ┆           ┆           ┆           ┆          │\n",
       "│ 501830339 ┆ null      ┆ 2023-05-2 ┆ 3.0       ┆ … ┆ false     ┆ 1906844   ┆ 2.0       ┆ 35.0     │\n",
       "│           ┆           ┆ 0         ┆           ┆   ┆           ┆           ┆           ┆          │\n",
       "│           ┆           ┆ 07:20:22  ┆           ┆   ┆           ┆           ┆           ┆          │\n",
       "│ 501830348 ┆ null      ┆ 2023-05-2 ┆ 14.0      ┆ … ┆ false     ┆ 1906844   ┆ 16.0      ┆ 60.0     │\n",
       "│           ┆           ┆ 0         ┆           ┆   ┆           ┆           ┆           ┆          │\n",
       "│           ┆           ┆ 07:20:28  ┆           ┆   ┆           ┆           ┆           ┆          │\n",
       "│ 501830344 ┆ null      ┆ 2023-05-2 ┆ 10.0      ┆ … ┆ false     ┆ 1906844   ┆ 11.0      ┆ 27.0     │\n",
       "│           ┆           ┆ 0         ┆           ┆   ┆           ┆           ┆           ┆          │\n",
       "│           ┆           ┆ 07:20:59  ┆           ┆   ┆           ┆           ┆           ┆          │\n",
       "│ 501830342 ┆ null      ┆ 2023-05-2 ┆ 12.0      ┆ … ┆ false     ┆ 1906844   ┆ 11.0      ┆ 100.0    │\n",
       "│           ┆           ┆ 0         ┆           ┆   ┆           ┆           ┆           ┆          │\n",
       "│           ┆           ┆ 07:21:22  ┆           ┆   ┆           ┆           ┆           ┆          │\n",
       "│ …         ┆ …         ┆ …         ┆ …         ┆ … ┆ …         ┆ …         ┆ …         ┆ …        │\n",
       "│ 384454257 ┆ null      ┆ 2023-05-2 ┆ 55.0      ┆ … ┆ false     ┆ 2007716   ┆ 641.0     ┆ 100.0    │\n",
       "│           ┆           ┆ 3         ┆           ┆   ┆           ┆           ┆           ┆          │\n",
       "│           ┆           ┆ 20:24:52  ┆           ┆   ┆           ┆           ┆           ┆          │\n",
       "│ 158439798 ┆ null      ┆ 2023-05-2 ┆ 52.0      ┆ … ┆ false     ┆ 1802320   ┆ 23.0      ┆ 46.0     │\n",
       "│           ┆           ┆ 4         ┆           ┆   ┆           ┆           ┆           ┆          │\n",
       "│           ┆           ┆ 06:16:08  ┆           ┆   ┆           ┆           ┆           ┆          │\n",
       "│ 158439781 ┆ null      ┆ 2023-05-2 ┆ 28.0      ┆ … ┆ false     ┆ 1802320   ┆ 11.0      ┆ 100.0    │\n",
       "│           ┆           ┆ 4         ┆           ┆   ┆           ┆           ┆           ┆          │\n",
       "│           ┆           ┆ 06:17:55  ┆           ┆   ┆           ┆           ┆           ┆          │\n",
       "│ 158439784 ┆ null      ┆ 2023-05-2 ┆ 22.0      ┆ … ┆ false     ┆ 1802320   ┆ 3.0       ┆ 21.0     │\n",
       "│           ┆           ┆ 4         ┆           ┆   ┆           ┆           ┆           ┆          │\n",
       "│           ┆           ┆ 06:18:35  ┆           ┆   ┆           ┆           ┆           ┆          │\n",
       "│ 158439787 ┆ null      ┆ 2023-05-2 ┆ 23.0      ┆ … ┆ false     ┆ 1802320   ┆ 8.0       ┆ 22.0     │\n",
       "│           ┆           ┆ 4         ┆           ┆   ┆           ┆           ┆           ┆          │\n",
       "│           ┆           ┆ 06:19:01  ┆           ┆   ┆           ┆           ┆           ┆          │\n",
       "└───────────┴───────────┴───────────┴───────────┴───┴───────────┴───────────┴───────────┴──────────┘"
      ]
     },
     "execution_count": 87,
     "metadata": {},
     "output_type": "execute_result"
    }
   ],
   "source": [
    "behaviors_k_train.filter(pl.col('user_id').is_in(not_in_history))"
   ]
  },
  {
   "cell_type": "code",
   "execution_count": 79,
   "metadata": {},
   "outputs": [
    {
     "data": {
      "text/plain": [
       "(datetime.datetime(2023, 5, 3, 7, 0),\n",
       " datetime.datetime(2023, 5, 24, 6, 59, 59))"
      ]
     },
     "execution_count": 79,
     "metadata": {},
     "output_type": "execute_result"
    }
   ],
   "source": [
    "history_k_val['impression_time_fixed'].explode().min(), history_k_val['impression_time_fixed'].explode().max()"
   ]
  },
  {
   "cell_type": "code",
   "execution_count": null,
   "metadata": {},
   "outputs": [],
   "source": [
    "behaviors_k_train"
   ]
  },
  {
   "cell_type": "code",
   "execution_count": 89,
   "metadata": {},
   "outputs": [
    {
     "data": {
      "text/plain": [
       "[]"
      ]
     },
     "execution_count": 89,
     "metadata": {},
     "output_type": "execute_result"
    }
   ],
   "source": [
    "not_in_history = [id for id in behaviors_train['user_id'].unique().to_list() if id not in history_train['user_id'].unique().to_list()]\n",
    "not_in_history"
   ]
  },
  {
   "cell_type": "code",
   "execution_count": null,
   "metadata": {},
   "outputs": [],
   "source": []
  }
 ],
 "metadata": {
  "kernelspec": {
   "display_name": "recsys",
   "language": "python",
   "name": "python3"
  },
  "language_info": {
   "codemirror_mode": {
    "name": "ipython",
    "version": 3
   },
   "file_extension": ".py",
   "mimetype": "text/x-python",
   "name": "python",
   "nbconvert_exporter": "python",
   "pygments_lexer": "ipython3",
   "version": "3.11.0"
  }
 },
 "nbformat": 4,
 "nbformat_minor": 2
}
