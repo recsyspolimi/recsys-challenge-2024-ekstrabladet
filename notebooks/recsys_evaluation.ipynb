{
 "cells": [
  {
   "cell_type": "code",
   "execution_count": 43,
   "metadata": {},
   "outputs": [],
   "source": [
    "import polars as pl\n",
    "import numpy as np\n",
    "import pandas as pd\n",
    "import matplotlib.pyplot as plt\n",
    "import seaborn as sns\n",
    "from pathlib import Path\n",
    "import polars as pl\n",
    "import scipy.stats as stats\n",
    "import scipy.sparse as sps\n",
    "import gc\n",
    "import tqdm"
   ]
  },
  {
   "cell_type": "code",
   "execution_count": 44,
   "metadata": {},
   "outputs": [
    {
     "name": "stdout",
     "output_type": "stream",
     "text": [
      "\u001b[1m\u001b[31m\n",
      "RAM memory GB usage = 17.7\u001b[0m\n"
     ]
    }
   ],
   "source": [
    "from os import system, getpid, walk\n",
    "from psutil import Process\n",
    "from colorama import Fore, Style, init\n",
    "from IPython.display import display, HTML\n",
    "\n",
    "def PrintColor(text:str, color = Fore.BLUE, style = Style.BRIGHT):\n",
    "    print(style + color + text + Style.RESET_ALL)\n",
    "    \n",
    "def GetMemUsage():   \n",
    "    pid = getpid()\n",
    "    py = Process(pid)\n",
    "    memory_use = py.memory_info()[0] / 2. ** 30\n",
    "    return f\"RAM memory GB usage = {memory_use :.4}\"\n",
    "\n",
    "PrintColor(f\"\\n\" + GetMemUsage(), color = Fore.RED)"
   ]
  },
  {
   "cell_type": "code",
   "execution_count": 45,
   "metadata": {},
   "outputs": [],
   "source": [
    "def reduce_polars_df_memory_size(df, set_categorical=True):\n",
    "\n",
    "    start_mem = df.estimated_size('mb')\n",
    "    print('Memory usage of dataframe is {:.2f} MB'.format(start_mem))\n",
    "    \n",
    "    for col in df.columns:\n",
    "        col_type = df[col].dtype\n",
    "        \n",
    "        if col_type in [pl.Int16, pl.Int32, pl.Int64]:\n",
    "            c_min = df[col].fill_null(0).min()\n",
    "            c_max = df[col].fill_null(0).max()\n",
    "            if c_min > np.iinfo(np.int8).min and c_max < np.iinfo(np.int8).max:\n",
    "                df = df.with_columns(pl.col(col).cast(pl.Int8))\n",
    "            elif c_min > np.iinfo(np.int16).min and c_max < np.iinfo(np.int16).max:\n",
    "                df = df.with_columns(pl.col(col).cast(pl.Int16))\n",
    "            elif c_min > np.iinfo(np.int32).min and c_max < np.iinfo(np.int32).max:\n",
    "                df = df.with_columns(pl.col(col).cast(pl.Int32))\n",
    "        elif col_type in [pl.UInt16, pl.UInt32, pl.UInt64]:\n",
    "            c_min = df[col].fill_null(0).min()\n",
    "            c_max = df[col].fill_null(0).max()\n",
    "            if c_min > np.iinfo(np.uint8).min and c_max < np.iinfo(np.uint8).max:\n",
    "                df = df.with_columns(pl.col(col).cast(pl.UInt8))\n",
    "            elif c_min > np.iinfo(np.uint16).min and c_max < np.iinfo(np.uint16).max:\n",
    "                df = df.with_columns(pl.col(col).cast(pl.UInt16))\n",
    "            elif c_min > np.iinfo(np.uint32).min and c_max < np.iinfo(np.uint32).max:\n",
    "                df = df.with_columns(pl.col(col).cast(pl.UInt32))\n",
    "        elif col_type == pl.Float64:\n",
    "            c_min = df[col].fill_null(0).min()\n",
    "            c_max = df[col].fill_null(0).max()\n",
    "            if c_min > np.finfo(np.float32).min and c_max < np.finfo(np.float32).max:\n",
    "                df = df.with_columns(pl.col(col).cast(pl.Float32))\n",
    "\n",
    "    gc.collect()\n",
    "    end_mem = df.estimated_size('mb')\n",
    "    print('Memory usage after optimization is: {:.2f} MB'.format(end_mem))\n",
    "    print('Decreased by {:.1f}%'.format(100 * (start_mem - end_mem) / start_mem))\n",
    "    \n",
    "    return df"
   ]
  },
  {
   "cell_type": "code",
   "execution_count": 46,
   "metadata": {},
   "outputs": [
    {
     "name": "stdout",
     "output_type": "stream",
     "text": [
      "\u001b[1m\u001b[31m\n",
      "RAM memory GB usage = 17.7\u001b[0m\n"
     ]
    }
   ],
   "source": [
    "articles = pl.read_parquet('/home/ubuntu/dataset/ebnerd_small/articles.parquet')\n",
    "\n",
    "behaviors_train = pl.read_parquet('/home/ubuntu/dataset/ebnerd_small/train/behaviors.parquet')\n",
    "history_train = pl.read_parquet('/home/ubuntu/dataset/ebnerd_small/train/history.parquet')\n",
    "\n",
    "behaviors_val = pl.read_parquet('/home/ubuntu/dataset/ebnerd_small/validation/behaviors.parquet')\n",
    "history_val = pl.read_parquet('/home/ubuntu/dataset/ebnerd_small/validation/history.parquet')\n",
    "\n",
    "\n",
    "gc.collect()\n",
    "PrintColor(f\"\\n\" + GetMemUsage(), color = Fore.RED)"
   ]
  },
  {
   "cell_type": "code",
   "execution_count": 47,
   "metadata": {},
   "outputs": [
    {
     "data": {
      "text/plain": [
       "['EVENT', 'ORG', 'MISC', 'LOC', 'PROD', 'PER']"
      ]
     },
     "execution_count": 47,
     "metadata": {},
     "output_type": "execute_result"
    }
   ],
   "source": [
    "unique_entities = articles.select('entity_groups').explode('entity_groups')['entity_groups'].unique().to_list()\n",
    "unique_entities = [e for e in unique_entities if e is not None]\n",
    "unique_entities"
   ]
  },
  {
   "cell_type": "code",
   "execution_count": 48,
   "metadata": {},
   "outputs": [
    {
     "data": {
      "text/html": [
       "<div><style>\n",
       ".dataframe > thead > tr,\n",
       ".dataframe > tbody > tr {\n",
       "  text-align: right;\n",
       "  white-space: pre-wrap;\n",
       "}\n",
       "</style>\n",
       "<small>shape: (702_831, 254)</small><table border=\"1\" class=\"dataframe\"><thead><tr><th>impression_id</th><th>user_id</th><th>article</th><th>target</th><th>device_type</th><th>read_time</th><th>scroll_percentage</th><th>is_sso_user</th><th>gender</th><th>age</th><th>is_subscriber</th><th>postcode</th><th>trendiness_score_1d</th><th>trendiness_score_3d</th><th>trendiness_score_5d</th><th>weekday</th><th>hour</th><th>trendiness_score_1d/3d</th><th>trendiness_score_1d/5d</th><th>normalized_trendiness_score_overall</th><th>premium</th><th>category</th><th>sentiment_score</th><th>sentiment_label</th><th>num_images</th><th>title_len</th><th>subtitle_len</th><th>body_len</th><th>num_topics</th><th>total_pageviews</th><th>total_inviews</th><th>total_read_time</th><th>total_pageviews/inviews</th><th>article_type</th><th>article_delay_days</th><th>article_delay_hours</th><th>Entity_EVENT_Present</th><th>&hellip;</th><th>entropy_impression_endorsement_10h</th><th>entropy_impression_total_pageviews/inviews</th><th>entropy_impression_mean_JS</th><th>entropy_impression_mean_topic_model_cosine</th><th>entropy_impression_topics_cosine</th><th>entropy_impression_article_delay_hours</th><th>entropy_impression_total_pageviews</th><th>entropy_impression_total_inviews</th><th>entropy_impression_trendiness_score_category</th><th>entropy_impression_std_JS</th><th>entropy_impression_trendiness_score_5d</th><th>entropy_impression_total_read_time</th><th>trendiness_score_3d_minus_median_impression</th><th>endorsement_10h_minus_median_impression</th><th>total_pageviews/inviews_minus_median_impression</th><th>mean_JS_minus_median_impression</th><th>mean_topic_model_cosine_minus_median_impression</th><th>topics_cosine_minus_median_impression</th><th>article_delay_hours_minus_median_impression</th><th>total_pageviews_minus_median_impression</th><th>total_inviews_minus_median_impression</th><th>trendiness_score_category_minus_median_impression</th><th>std_JS_minus_median_impression</th><th>trendiness_score_5d_minus_median_impression</th><th>total_read_time_minus_median_impression</th><th>mean_JS_l_inf_user</th><th>std_JS_l_inf_user</th><th>mean_topic_model_cosine_l_inf_user</th><th>topics_cosine_l_inf_user</th><th>article_delay_hours_l_inf_article</th><th>mean_JS_l_inf_article</th><th>std_JS_l_inf_article</th><th>mean_topic_model_cosine_l_inf_article</th><th>topics_cosine_l_inf_article</th><th>category_diversity_impression</th><th>sentiment_label_diversity_impression</th><th>article_type_diversity_impression</th></tr><tr><td>u32</td><td>u32</td><td>i32</td><td>i8</td><td>i8</td><td>f32</td><td>f32</td><td>bool</td><td>i8</td><td>i8</td><td>bool</td><td>i8</td><td>i16</td><td>i16</td><td>i16</td><td>i8</td><td>i8</td><td>f32</td><td>f32</td><td>f32</td><td>bool</td><td>i16</td><td>f32</td><td>str</td><td>u32</td><td>u8</td><td>u8</td><td>u16</td><td>u32</td><td>i32</td><td>i32</td><td>f32</td><td>f32</td><td>str</td><td>i16</td><td>i32</td><td>bool</td><td>&hellip;</td><td>f64</td><td>f32</td><td>f32</td><td>f32</td><td>f32</td><td>f64</td><td>f64</td><td>f64</td><td>f64</td><td>f32</td><td>f64</td><td>f32</td><td>f64</td><td>f64</td><td>f32</td><td>f32</td><td>f32</td><td>f32</td><td>f64</td><td>f64</td><td>f64</td><td>f64</td><td>f32</td><td>f64</td><td>f32</td><td>f32</td><td>f32</td><td>f32</td><td>f32</td><td>f64</td><td>f32</td><td>f32</td><td>f32</td><td>f32</td><td>u32</td><td>u32</td><td>u32</td></tr></thead><tbody><tr><td>149474</td><td>139836</td><td>9778728</td><td>0</td><td>2</td><td>13.0</td><td>null</td><td>false</td><td>2</td><td>null</td><td>false</td><td>5</td><td>150</td><td>521</td><td>836</td><td>3</td><td>7</td><td>0.287908</td><td>0.179426</td><td>0.880068</td><td>false</td><td>142</td><td>0.9654</td><td>&quot;Negative&quot;</td><td>1</td><td>5</td><td>18</td><td>251</td><td>7</td><td>22415</td><td>220247</td><td>1.004828e6</td><td>0.101772</td><td>&quot;article_default&quot;</td><td>0</td><td>0</td><td>true</td><td>&hellip;</td><td>1.622597</td><td>1.726481</td><td>1.747889</td><td>1.788942</td><td>1.689578</td><td>NaN</td><td>1.613433</td><td>1.737743</td><td>1.612282</td><td>1.739272</td><td>1.676222</td><td>1.558951</td><td>281.5</td><td>-873.5</td><td>-0.111306</td><td>-0.005177</td><td>0.091665</td><td>-0.02667</td><td>-1.0</td><td>-62463.5</td><td>-165503.0</td><td>4.0</td><td>-0.033664</td><td>447.5</td><td>-4.981345e6</td><td>0.447581</td><td>0.403328</td><td>0.96685</td><td>0.36119</td><td>0.0</td><td>0.233531</td><td>0.335164</td><td>0.908604</td><td>0.301919</td><td>4</td><td>3</td><td>1</td></tr><tr><td>149474</td><td>139836</td><td>9778669</td><td>0</td><td>2</td><td>13.0</td><td>null</td><td>false</td><td>2</td><td>null</td><td>false</td><td>5</td><td>85</td><td>199</td><td>313</td><td>3</td><td>7</td><td>0.427136</td><td>0.271565</td><td>0.336149</td><td>false</td><td>118</td><td>0.9481</td><td>&quot;Negative&quot;</td><td>1</td><td>5</td><td>11</td><td>150</td><td>4</td><td>74491</td><td>373488</td><td>4.365609e6</td><td>0.199447</td><td>&quot;article_default&quot;</td><td>0</td><td>1</td><td>false</td><td>&hellip;</td><td>1.622597</td><td>1.726481</td><td>1.747889</td><td>1.788942</td><td>1.689578</td><td>NaN</td><td>1.613433</td><td>1.737743</td><td>1.612282</td><td>1.739272</td><td>1.676222</td><td>1.558951</td><td>-40.5</td><td>179.5</td><td>-0.013631</td><td>0.003967</td><td>-0.050146</td><td>0.015762</td><td>0.0</td><td>-10387.5</td><td>-12262.0</td><td>0.0</td><td>0.028015</td><td>-75.5</td><td>-1.620564e6</td><td>0.501163</td><td>0.632488</td><td>0.797317</td><td>0.437299</td><td>0.043478</td><td>0.266627</td><td>0.511387</td><td>0.789201</td><td>0.319083</td><td>4</td><td>3</td><td>1</td></tr><tr><td>149474</td><td>139836</td><td>9778657</td><td>1</td><td>2</td><td>13.0</td><td>null</td><td>false</td><td>2</td><td>null</td><td>false</td><td>5</td><td>45</td><td>117</td><td>183</td><td>3</td><td>7</td><td>0.384615</td><td>0.245902</td><td>0.197635</td><td>false</td><td>118</td><td>0.8347</td><td>&quot;Neutral&quot;</td><td>2</td><td>6</td><td>31</td><td>336</td><td>3</td><td>108389</td><td>478098</td><td>7.606737e6</td><td>0.226709</td><td>&quot;article_default&quot;</td><td>0</td><td>1</td><td>false</td><td>&hellip;</td><td>1.622597</td><td>1.726481</td><td>1.747889</td><td>1.788942</td><td>1.689578</td><td>NaN</td><td>1.613433</td><td>1.737743</td><td>1.612282</td><td>1.739272</td><td>1.676222</td><td>1.558951</td><td>-122.5</td><td>368.5</td><td>0.013631</td><td>0.05309</td><td>0.005468</td><td>0.218611</td><td>0.0</td><td>23510.5</td><td>92348.0</td><td>0.0</td><td>0.051035</td><td>-205.5</td><td>1.620564e6</td><td>0.78901</td><td>0.718014</td><td>0.863803</td><td>0.801144</td><td>0.066667</td><td>0.350947</td><td>0.730242</td><td>0.840012</td><td>0.604487</td><td>4</td><td>3</td><td>1</td></tr><tr><td>150528</td><td>143471</td><td>9778682</td><td>0</td><td>2</td><td>25.0</td><td>null</td><td>false</td><td>2</td><td>null</td><td>false</td><td>5</td><td>69</td><td>206</td><td>334</td><td>3</td><td>7</td><td>0.334951</td><td>0.206587</td><td>0.347973</td><td>false</td><td>498</td><td>0.9546</td><td>&quot;Negative&quot;</td><td>1</td><td>5</td><td>20</td><td>267</td><td>3</td><td>143520</td><td>455723</td><td>9.298546e6</td><td>0.314928</td><td>&quot;article_default&quot;</td><td>0</td><td>1</td><td>true</td><td>&hellip;</td><td>1.712983</td><td>2.137333</td><td>2.093172</td><td>2.19456</td><td>2.100994</td><td>NaN</td><td>2.063931</td><td>2.158165</td><td>1.924178</td><td>2.126514</td><td>1.946778</td><td>2.008479</td><td>7.0</td><td>204.0</td><td>0.088219</td><td>0.013219</td><td>0.095761</td><td>-0.001332</td><td>1.0</td><td>48254.0</td><td>82235.0</td><td>-47.0</td><td>0.013249</td><td>21.0</td><td>4.223417e6</td><td>0.793928</td><td>0.732491</td><td>0.94067</td><td>0.581838</td><td>0.041667</td><td>0.299855</td><td>0.536061</td><td>0.891664</td><td>0.447169</td><td>6</td><td>3</td><td>1</td></tr><tr><td>150528</td><td>143471</td><td>9778669</td><td>0</td><td>2</td><td>25.0</td><td>null</td><td>false</td><td>2</td><td>null</td><td>false</td><td>5</td><td>85</td><td>199</td><td>313</td><td>3</td><td>7</td><td>0.427136</td><td>0.271565</td><td>0.336149</td><td>false</td><td>118</td><td>0.9481</td><td>&quot;Negative&quot;</td><td>1</td><td>5</td><td>11</td><td>150</td><td>4</td><td>74491</td><td>373488</td><td>4.365609e6</td><td>0.199447</td><td>&quot;article_default&quot;</td><td>0</td><td>1</td><td>false</td><td>&hellip;</td><td>1.712983</td><td>2.137333</td><td>2.093172</td><td>2.19456</td><td>2.100994</td><td>NaN</td><td>2.063931</td><td>2.158165</td><td>1.924178</td><td>2.126514</td><td>1.946778</td><td>2.008479</td><td>0.0</td><td>598.0</td><td>-0.027262</td><td>0.025741</td><td>-0.061045</td><td>0.159455</td><td>1.0</td><td>-20775.0</td><td>0.0</td><td>62.0</td><td>0.007517</td><td>0.0</td><td>-709520.0</td><td>0.881599</td><td>0.709201</td><td>0.756751</td><td>0.871154</td><td>0.043478</td><td>0.392552</td><td>0.524339</td><td>0.763467</td><td>0.633637</td><td>6</td><td>3</td><td>1</td></tr><tr><td>&hellip;</td><td>&hellip;</td><td>&hellip;</td><td>&hellip;</td><td>&hellip;</td><td>&hellip;</td><td>&hellip;</td><td>&hellip;</td><td>&hellip;</td><td>&hellip;</td><td>&hellip;</td><td>&hellip;</td><td>&hellip;</td><td>&hellip;</td><td>&hellip;</td><td>&hellip;</td><td>&hellip;</td><td>&hellip;</td><td>&hellip;</td><td>&hellip;</td><td>&hellip;</td><td>&hellip;</td><td>&hellip;</td><td>&hellip;</td><td>&hellip;</td><td>&hellip;</td><td>&hellip;</td><td>&hellip;</td><td>&hellip;</td><td>&hellip;</td><td>&hellip;</td><td>&hellip;</td><td>&hellip;</td><td>&hellip;</td><td>&hellip;</td><td>&hellip;</td><td>&hellip;</td><td>&hellip;</td><td>&hellip;</td><td>&hellip;</td><td>&hellip;</td><td>&hellip;</td><td>&hellip;</td><td>&hellip;</td><td>&hellip;</td><td>&hellip;</td><td>&hellip;</td><td>&hellip;</td><td>&hellip;</td><td>&hellip;</td><td>&hellip;</td><td>&hellip;</td><td>&hellip;</td><td>&hellip;</td><td>&hellip;</td><td>&hellip;</td><td>&hellip;</td><td>&hellip;</td><td>&hellip;</td><td>&hellip;</td><td>&hellip;</td><td>&hellip;</td><td>&hellip;</td><td>&hellip;</td><td>&hellip;</td><td>&hellip;</td><td>&hellip;</td><td>&hellip;</td><td>&hellip;</td><td>&hellip;</td><td>&hellip;</td><td>&hellip;</td><td>&hellip;</td><td>&hellip;</td><td>&hellip;</td></tr><tr><td>580100695</td><td>2110744</td><td>9769917</td><td>0</td><td>1</td><td>5.0</td><td>100.0</td><td>false</td><td>2</td><td>null</td><td>false</td><td>5</td><td>46</td><td>105</td><td>152</td><td>4</td><td>10</td><td>0.438095</td><td>0.302632</td><td>0.203883</td><td>true</td><td>140</td><td>0.989</td><td>&quot;Negative&quot;</td><td>4</td><td>5</td><td>32</td><td>826</td><td>2</td><td>203222</td><td>2163455</td><td>1.2661448e7</td><td>0.093934</td><td>&quot;article_default&quot;</td><td>0</td><td>17</td><td>false</td><td>&hellip;</td><td>1.570477</td><td>1.037743</td><td>1.826027</td><td>1.940373</td><td>1.748273</td><td>1.200948</td><td>1.060549</td><td>0.924248</td><td>1.757789</td><td>1.898659</td><td>1.762101</td><td>0.913896</td><td>-50.0</td><td>1404.0</td><td>-0.114787</td><td>0.002116</td><td>-0.103502</td><td>0.0</td><td>-4373.0</td><td>4017.0</td><td>1.209047e6</td><td>18.0</td><td>0.088883</td><td>-79.0</td><td>0.0</td><td>0.582369</td><td>0.927592</td><td>0.682434</td><td>0.472501</td><td>0.093407</td><td>0.120789</td><td>0.389978</td><td>0.696381</td><td>0.268713</td><td>4</td><td>3</td><td>2</td></tr><tr><td>580100695</td><td>2110744</td><td>9767697</td><td>1</td><td>1</td><td>5.0</td><td>100.0</td><td>false</td><td>2</td><td>null</td><td>false</td><td>5</td><td>50</td><td>187</td><td>238</td><td>4</td><td>10</td><td>0.26738</td><td>0.210084</td><td>0.363107</td><td>false</td><td>118</td><td>0.9613</td><td>&quot;Negative&quot;</td><td>5</td><td>7</td><td>2</td><td>982</td><td>3</td><td>199205</td><td>954408</td><td>2.595362e7</td><td>0.208721</td><td>&quot;article_default&quot;</td><td>0</td><td>3</td><td>false</td><td>&hellip;</td><td>1.570477</td><td>1.037743</td><td>1.826027</td><td>1.940373</td><td>1.748273</td><td>1.200948</td><td>1.060549</td><td>0.924248</td><td>1.757789</td><td>1.898659</td><td>1.762101</td><td>0.913896</td><td>32.0</td><td>1339.0</td><td>0.0</td><td>0.035035</td><td>0.028725</td><td>0.237915</td><td>-4387.0</td><td>0.0</td><td>0.0</td><td>47.0</td><td>0.051003</td><td>7.0</td><td>1.3292172e7</td><td>0.80426</td><td>0.763092</td><td>0.836592</td><td>0.908091</td><td>0.017964</td><td>0.287404</td><td>0.373625</td><td>0.779936</td><td>0.597165</td><td>4</td><td>3</td><td>2</td></tr><tr><td>580100697</td><td>2110744</td><td>9770997</td><td>0</td><td>1</td><td>14.0</td><td>100.0</td><td>false</td><td>2</td><td>null</td><td>false</td><td>5</td><td>32</td><td>78</td><td>136</td><td>4</td><td>10</td><td>0.410256</td><td>0.235294</td><td>0.151456</td><td>false</td><td>414</td><td>0.845</td><td>&quot;Positive&quot;</td><td>1</td><td>5</td><td>18</td><td>164</td><td>4</td><td>110632</td><td>485698</td><td>5.034287e6</td><td>0.227779</td><td>&quot;article_default&quot;</td><td>0</td><td>3</td><td>false</td><td>&hellip;</td><td>1.708204</td><td>1.083186</td><td>1.954657</td><td>2.070895</td><td>1.949265</td><td>1.455156</td><td>0.965362</td><td>0.915239</td><td>1.841282</td><td>2.033027</td><td>1.795838</td><td>0.937667</td><td>-47.5</td><td>1339.5</td><td>0.066013</td><td>-0.020815</td><td>0.014447</td><td>-0.035568</td><td>-4786.0</td><td>0.0</td><td>0.0</td><td>0.0</td><td>-0.032977</td><td>-64.5</td><td>0.0</td><td>0.162473</td><td>0.29199</td><td>0.836789</td><td>0.177689</td><td>0.018072</td><td>0.172841</td><td>0.384146</td><td>0.818583</td><td>0.204345</td><td>5</td><td>3</td><td>2</td></tr><tr><td>580100697</td><td>2110744</td><td>9514481</td><td>0</td><td>1</td><td>14.0</td><td>100.0</td><td>false</td><td>2</td><td>null</td><td>false</td><td>5</td><td>8</td><td>37</td><td>49</td><td>4</td><td>10</td><td>0.216216</td><td>0.163265</td><td>0.071845</td><td>true</td><td>414</td><td>0.9501</td><td>&quot;Neutral&quot;</td><td>7</td><td>9</td><td>30</td><td>371</td><td>3</td><td>null</td><td>null</td><td>null</td><td>null</td><td>&quot;article_standard_feature&quot;</td><td>182</td><td>4390</td><td>false</td><td>&hellip;</td><td>1.708204</td><td>1.083186</td><td>1.954657</td><td>2.070895</td><td>1.949265</td><td>1.455156</td><td>0.965362</td><td>0.915239</td><td>1.841282</td><td>2.033027</td><td>1.795838</td><td>0.937667</td><td>-88.5</td><td>-363.5</td><td>null</td><td>-0.021758</td><td>-0.126811</td><td>-0.071621</td><td>-399.0</td><td>null</td><td>null</td><td>0.0</td><td>-0.012502</td><td>-151.5</td><td>null</td><td>0.156114</td><td>0.380906</td><td>0.672102</td><td>0.111681</td><td>0.963776</td><td>0.054301</td><td>0.239584</td><td>0.69207</td><td>0.069082</td><td>5</td><td>3</td><td>2</td></tr><tr><td>580100697</td><td>2110744</td><td>9771042</td><td>1</td><td>1</td><td>14.0</td><td>100.0</td><td>false</td><td>2</td><td>null</td><td>false</td><td>5</td><td>31</td><td>96</td><td>194</td><td>4</td><td>10</td><td>0.322917</td><td>0.159794</td><td>0.186408</td><td>false</td><td>118</td><td>0.6719</td><td>&quot;Positive&quot;</td><td>1</td><td>4</td><td>17</td><td>200</td><td>3</td><td>67278</td><td>415895</td><td>3.605973e6</td><td>0.161767</td><td>&quot;article_default&quot;</td><td>0</td><td>3</td><td>true</td><td>&hellip;</td><td>1.708204</td><td>1.083186</td><td>1.954657</td><td>2.070895</td><td>1.949265</td><td>1.455156</td><td>0.965362</td><td>0.915239</td><td>1.841282</td><td>2.033027</td><td>1.795838</td><td>0.937667</td><td>-29.5</td><td>1307.5</td><td>0.0</td><td>-0.019337</td><td>0.106317</td><td>-0.063147</td><td>-4786.0</td><td>-43354.0</td><td>-69803.0</td><td>47.0</td><td>-0.036195</td><td>-6.5</td><td>-1.428314e6</td><td>0.172432</td><td>0.278018</td><td>0.943898</td><td>0.127195</td><td>0.0234375</td><td>0.181335</td><td>0.423733</td><td>0.873426</td><td>0.177202</td><td>5</td><td>3</td><td>2</td></tr></tbody></table></div>"
      ],
      "text/plain": [
       "shape: (702_831, 254)\n",
       "┌─────────────┬─────────┬─────────┬────────┬───┬────────────┬────────────┬────────────┬────────────┐\n",
       "│ impression_ ┆ user_id ┆ article ┆ target ┆ … ┆ topics_cos ┆ category_d ┆ sentiment_ ┆ article_ty │\n",
       "│ id          ┆ ---     ┆ ---     ┆ ---    ┆   ┆ ine_l_inf_ ┆ iversity_i ┆ label_dive ┆ pe_diversi │\n",
       "│ ---         ┆ u32     ┆ i32     ┆ i8     ┆   ┆ article    ┆ mpression  ┆ rsity_impr ┆ ty_impress │\n",
       "│ u32         ┆         ┆         ┆        ┆   ┆ ---        ┆ ---        ┆ …          ┆ …          │\n",
       "│             ┆         ┆         ┆        ┆   ┆ f32        ┆ u32        ┆ ---        ┆ ---        │\n",
       "│             ┆         ┆         ┆        ┆   ┆            ┆            ┆ u32        ┆ u32        │\n",
       "╞═════════════╪═════════╪═════════╪════════╪═══╪════════════╪════════════╪════════════╪════════════╡\n",
       "│ 149474      ┆ 139836  ┆ 9778728 ┆ 0      ┆ … ┆ 0.301919   ┆ 4          ┆ 3          ┆ 1          │\n",
       "│ 149474      ┆ 139836  ┆ 9778669 ┆ 0      ┆ … ┆ 0.319083   ┆ 4          ┆ 3          ┆ 1          │\n",
       "│ 149474      ┆ 139836  ┆ 9778657 ┆ 1      ┆ … ┆ 0.604487   ┆ 4          ┆ 3          ┆ 1          │\n",
       "│ 150528      ┆ 143471  ┆ 9778682 ┆ 0      ┆ … ┆ 0.447169   ┆ 6          ┆ 3          ┆ 1          │\n",
       "│ 150528      ┆ 143471  ┆ 9778669 ┆ 0      ┆ … ┆ 0.633637   ┆ 6          ┆ 3          ┆ 1          │\n",
       "│ …           ┆ …       ┆ …       ┆ …      ┆ … ┆ …          ┆ …          ┆ …          ┆ …          │\n",
       "│ 580100695   ┆ 2110744 ┆ 9769917 ┆ 0      ┆ … ┆ 0.268713   ┆ 4          ┆ 3          ┆ 2          │\n",
       "│ 580100695   ┆ 2110744 ┆ 9767697 ┆ 1      ┆ … ┆ 0.597165   ┆ 4          ┆ 3          ┆ 2          │\n",
       "│ 580100697   ┆ 2110744 ┆ 9770997 ┆ 0      ┆ … ┆ 0.204345   ┆ 5          ┆ 3          ┆ 2          │\n",
       "│ 580100697   ┆ 2110744 ┆ 9514481 ┆ 0      ┆ … ┆ 0.069082   ┆ 5          ┆ 3          ┆ 2          │\n",
       "│ 580100697   ┆ 2110744 ┆ 9771042 ┆ 1      ┆ … ┆ 0.177202   ┆ 5          ┆ 3          ┆ 2          │\n",
       "└─────────────┴─────────┴─────────┴────────┴───┴────────────┴────────────┴────────────┴────────────┘"
      ]
     },
     "execution_count": 48,
     "metadata": {},
     "output_type": "execute_result"
    }
   ],
   "source": [
    "train_ds = pl.read_parquet('/mnt/ebs_volume/recsys2024/preprocessing/small_ds/train/train_ds.parquet')\n",
    "train_ds"
   ]
  },
  {
   "cell_type": "code",
   "execution_count": 49,
   "metadata": {},
   "outputs": [],
   "source": [
    "from RecSys_Course_AT_PoliMi.Recommenders.KNN.ItemKNNCBFRecommender import ItemKNNCBFRecommender"
   ]
  },
  {
   "cell_type": "code",
   "execution_count": 50,
   "metadata": {},
   "outputs": [
    {
     "name": "stdout",
     "output_type": "stream",
     "text": [
      "File loaded at: /home/ubuntu/recsys2024/icm/recsys/small/bert-base-multilingual-cased.npz\n",
      "File loaded at: /home/ubuntu/recsys2024/icm/recsys/small/contrastive_vector.npz\n",
      "File loaded at: /home/ubuntu/recsys2024/icm/recsys/small/emotion_scores.npz\n",
      "File loaded at: /home/ubuntu/recsys2024/icm/recsys/small/xlm-roberta-base.npz\n",
      "File loaded at: /home/ubuntu/recsys2024/icm/recsys/small/document_vector.npz\n",
      "File loaded at: /home/ubuntu/recsys2024/icm/recsys/small/kenneth_title+subtitle.npz\n",
      "File loaded at: /home/ubuntu/recsys2024/icm/recsys/small/title_embedding.npz\n"
     ]
    }
   ],
   "source": [
    "ICMs = []\n",
    "import os\n",
    "from polimi.utils._custom import load_sparse_csr\n",
    "from pathlib import Path\n",
    "\n",
    "def load_urms(file_path: Path):\n",
    "        URMs = []\n",
    "        for file_name in os.listdir(file_path):\n",
    "                if os.path.isfile(file_path.joinpath(file_name)):\n",
    "                        URM = load_sparse_csr(file_path.joinpath(file_name))\n",
    "                        URMs.append(URM)\n",
    "                else:\n",
    "                        continue\n",
    "\n",
    "        return URMs\n",
    "\n",
    "ICMs = load_urms(Path('/home/ubuntu/recsys2024/icm/recsys/small/'))\n"
   ]
  },
  {
   "cell_type": "code",
   "execution_count": 51,
   "metadata": {},
   "outputs": [
    {
     "name": "stdout",
     "output_type": "stream",
     "text": [
      "File loaded at: /home/ubuntu/recsys2024/urm/recsys/small/URM_train.npz\n",
      "ItemKNNCBFRecommender: URM Detected 3684 (19.6%) users with no interactions.\n",
      "ItemKNNCBFRecommender: URM Detected 11952 (57.6%) items with no interactions.\n",
      "Similarity column 20738 (100.0%), 133.09 column/sec. Elapsed time 2.60 min\n",
      "ItemKNNCBFRecommender: URM Detected 3684 (19.6%) users with no interactions.\n",
      "ItemKNNCBFRecommender: URM Detected 11952 (57.6%) items with no interactions.\n",
      "Compute_Similarity: detected dense matrix\n",
      "Similarity column 20738 (100.0%), 295.41 column/sec. Elapsed time 1.17 min\n",
      "ItemKNNCBFRecommender: URM Detected 3684 (19.6%) users with no interactions.\n",
      "ItemKNNCBFRecommender: URM Detected 11952 (57.6%) items with no interactions.\n",
      "Similarity column 20738 (100.0%), 678.88 column/sec. Elapsed time 30.55 sec\n",
      "ItemKNNCBFRecommender: URM Detected 3684 (19.6%) users with no interactions.\n",
      "ItemKNNCBFRecommender: URM Detected 11952 (57.6%) items with no interactions.\n",
      "Compute_Similarity: detected dense matrix\n",
      "Similarity column 20738 (100.0%), 285.74 column/sec. Elapsed time 1.21 min\n",
      "ItemKNNCBFRecommender: URM Detected 3684 (19.6%) users with no interactions.\n",
      "ItemKNNCBFRecommender: URM Detected 11952 (57.6%) items with no interactions.\n",
      "ItemKNNCBFRecommender: ICM Detected 18 ( 0.1%) items with no features.\n",
      "Compute_Similarity: detected dense matrix\n",
      "Similarity column 20738 (100.0%), 559.84 column/sec. Elapsed time 37.04 sec\n",
      "ItemKNNCBFRecommender: URM Detected 3684 (19.6%) users with no interactions.\n",
      "ItemKNNCBFRecommender: URM Detected 11952 (57.6%) items with no interactions.\n",
      "Compute_Similarity: detected dense matrix\n",
      "Similarity column 20738 (100.0%), 468.00 column/sec. Elapsed time 44.31 sec\n",
      "ItemKNNCBFRecommender: URM Detected 3684 (19.6%) users with no interactions.\n",
      "ItemKNNCBFRecommender: URM Detected 11952 (57.6%) items with no interactions.\n",
      "Compute_Similarity: detected dense matrix\n",
      "Similarity column 20738 (100.0%), 249.30 column/sec. Elapsed time 1.39 min\n",
      "SLIM_BPR_Cython: URM Detected 3684 (19.6%) users with no interactions.\n",
      "SLIM_BPR_Cython: URM Detected 11952 (57.6%) items with no interactions.\n",
      "SLIM_BPR_Cython: Loading model from file '/home/ubuntu/recsys2024/algo/recsys/small/train/SLIM_BPR_Cython'\n",
      "SLIM_BPR_Cython: Loading complete\n",
      "ItemKNNCFRecommender: URM Detected 3684 (19.6%) users with no interactions.\n",
      "ItemKNNCFRecommender: URM Detected 11952 (57.6%) items with no interactions.\n",
      "ItemKNNCFRecommender: Loading model from file '/home/ubuntu/recsys2024/algo/recsys/small/train/ItemKNNCFRecommender'\n",
      "ItemKNNCFRecommender: Loading complete\n",
      "PureSVDItemRecommender: URM Detected 3684 (19.6%) users with no interactions.\n",
      "PureSVDItemRecommender: URM Detected 11952 (57.6%) items with no interactions.\n",
      "PureSVDItemRecommender: Loading model from file '/home/ubuntu/recsys2024/algo/recsys/small/train/PureSVDItemRecommender'\n",
      "PureSVDItemRecommender: Loading complete\n",
      "PureSVDRecommender: URM Detected 3684 (19.6%) users with no interactions.\n",
      "PureSVDRecommender: URM Detected 11952 (57.6%) items with no interactions.\n",
      "PureSVDRecommender: Loading model from file '/home/ubuntu/recsys2024/algo/recsys/small/train/PureSVDRecommender'\n",
      "PureSVDRecommender: Loading complete\n",
      "RP3betaRecommender: URM Detected 3684 (19.6%) users with no interactions.\n",
      "RP3betaRecommender: URM Detected 11952 (57.6%) items with no interactions.\n",
      "RP3betaRecommender: Loading model from file '/home/ubuntu/recsys2024/algo/recsys/small/train/RP3betaRecommender'\n",
      "RP3betaRecommender: Loading complete\n",
      "Memory usage of dataframe is 147.96 MB\n",
      "Memory usage after optimization is: 147.96 MB\n",
      "Decreased by 0.0%\n",
      "Built recsys scores features in 3.9 minutes\n"
     ]
    }
   ],
   "source": [
    "from polimi.utils._urm import build_recsys_features\n",
    "from polimi.utils._custom import load_recommenders,load_sparse_csr\n",
    "from polimi.utils._urm import train_recommender\n",
    "\n",
    "URM_train = load_sparse_csr(Path('/home/ubuntu/recsys2024/urm/recsys/small/URM_train.npz'))\n",
    "\n",
    "recs = []\n",
    "\n",
    "bert = ItemKNNCBFRecommender(URM_train=URM_train,ICM_train=ICMs[0])\n",
    "bert.fit(similarity= 'euclidean', topK= 1457, shrink= 329, normalize_avg_row= True, similarity_from_distance_mode= 'exp', normalize= False) \n",
    "recs.append(bert)\n",
    "\n",
    "contrastive = ItemKNNCBFRecommender(URM_train=URM_train,ICM_train=ICMs[1])\n",
    "contrastive.fit(similarity= 'asymmetric', topK= 192, shrink= 569, asymmetric_alpha= 0.9094884938503743) \n",
    "recs.append(contrastive)\n",
    "\n",
    "emotion = ItemKNNCBFRecommender(URM_train=URM_train,ICM_train=ICMs[2])\n",
    "emotion.fit(similarity= 'euclidean', topK= 1099, shrink= 752, normalize_avg_row= True, similarity_from_distance_mode= 'lin', normalize= False) \n",
    "recs.append(emotion)\n",
    "\n",
    "roberta = ItemKNNCBFRecommender(URM_train=URM_train,ICM_train=ICMs[3])\n",
    "roberta.fit(similarity= 'cosine', topK= 363, shrink= 29) \n",
    "recs.append(roberta)\n",
    "\n",
    "w_2_vec = ItemKNNCBFRecommender(URM_train=URM_train,ICM_train=ICMs[4])\n",
    "w_2_vec.fit(similarity= 'cosine', topK= 359, shrink= 562) \n",
    "recs.append(w_2_vec)\n",
    "\n",
    "kenneth = ItemKNNCBFRecommender(URM_train=URM_train,ICM_train=ICMs[5])\n",
    "kenneth.fit(similarity= 'asymmetric', topK= 303, shrink= 574, asymmetric_alpha= 1.7852169782747023) \n",
    "recs.append(kenneth)\n",
    "\n",
    "distilbert = ItemKNNCBFRecommender(URM_train=URM_train,ICM_train=ICMs[6])\n",
    "distilbert.fit(similarity= 'asymmetric', topK= 921, shrink= 1, asymmetric_alpha= 0.774522157812755) \n",
    "recs.append(distilbert)\n",
    "\n",
    "\n",
    "\n",
    "recs.extend(load_recommenders(URM_train, Path('/home/ubuntu/recsys2024/algo/recsys/small/train')))\n",
    "\n",
    "\n",
    "recsys_features = build_recsys_features(history=history_train.vstack(history_val),behaviors=behaviors_train,articles=articles,recs=recs)"
   ]
  },
  {
   "cell_type": "code",
   "execution_count": 52,
   "metadata": {},
   "outputs": [
    {
     "name": "stdout",
     "output_type": "stream",
     "text": [
      "12\n"
     ]
    }
   ],
   "source": [
    "print(len(recs))"
   ]
  },
  {
   "cell_type": "code",
   "execution_count": 53,
   "metadata": {},
   "outputs": [
    {
     "data": {
      "text/html": [
       "<div><style>\n",
       ".dataframe > thead > tr,\n",
       ".dataframe > tbody > tr {\n",
       "  text-align: right;\n",
       "  white-space: pre-wrap;\n",
       "}\n",
       "</style>\n",
       "<small>shape: (2_585_747, 15)</small><table border=\"1\" class=\"dataframe\"><thead><tr><th>impression_id</th><th>article</th><th>user_id</th><th>recs0</th><th>recs1</th><th>recs2</th><th>recs3</th><th>recs4</th><th>recs5</th><th>recs6</th><th>recs7</th><th>recs8</th><th>recs9</th><th>recs10</th><th>recs11</th></tr><tr><td>u32</td><td>i32</td><td>u32</td><td>f32</td><td>f32</td><td>f32</td><td>f32</td><td>f32</td><td>f32</td><td>f32</td><td>f32</td><td>f32</td><td>f32</td><td>f32</td><td>f32</td></tr></thead><tbody><tr><td>556008624</td><td>9193263</td><td>10068</td><td>0.00606</td><td>0.0</td><td>0.0</td><td>0.0</td><td>0.0</td><td>0.0</td><td>1.859136</td><td>0.0</td><td>0.0</td><td>0.00011</td><td>0.000007</td><td>0.0</td></tr><tr><td>556008624</td><td>9695098</td><td>10068</td><td>0.00303</td><td>0.0</td><td>0.0</td><td>0.0</td><td>0.0</td><td>0.0</td><td>0.964248</td><td>0.0</td><td>0.002663</td><td>0.009685</td><td>0.008015</td><td>0.003995</td></tr><tr><td>556008624</td><td>9758734</td><td>10068</td><td>0.00606</td><td>0.0</td><td>0.00133</td><td>0.0</td><td>0.0</td><td>0.0</td><td>1.951973</td><td>0.0</td><td>0.0</td><td>0.003549</td><td>0.000875</td><td>0.006811</td></tr><tr><td>385198819</td><td>9762352</td><td>10068</td><td>0.003029</td><td>0.0</td><td>0.0</td><td>0.923436</td><td>0.001626</td><td>0.0</td><td>1.946012</td><td>0.0</td><td>0.005326</td><td>0.02905</td><td>0.029936</td><td>0.006742</td></tr><tr><td>556008624</td><td>9772548</td><td>10068</td><td>0.00303</td><td>0.0</td><td>0.002659</td><td>0.923489</td><td>0.0</td><td>0.0</td><td>3.903791</td><td>0.0</td><td>0.0</td><td>0.0</td><td>0.0</td><td>0.0</td></tr><tr><td>&hellip;</td><td>&hellip;</td><td>&hellip;</td><td>&hellip;</td><td>&hellip;</td><td>&hellip;</td><td>&hellip;</td><td>&hellip;</td><td>&hellip;</td><td>&hellip;</td><td>&hellip;</td><td>&hellip;</td><td>&hellip;</td><td>&hellip;</td><td>&hellip;</td></tr><tr><td>567760513</td><td>9779705</td><td>2590637</td><td>0.018178</td><td>0.000884</td><td>0.00133</td><td>0.923348</td><td>0.0</td><td>0.000948</td><td>0.957195</td><td>0.0</td><td>0.0</td><td>0.0</td><td>0.0</td><td>0.0</td></tr><tr><td>567760515</td><td>9779705</td><td>2590637</td><td>0.018178</td><td>0.000884</td><td>0.00133</td><td>0.923348</td><td>0.0</td><td>0.000948</td><td>0.957195</td><td>0.0</td><td>0.0</td><td>0.0</td><td>0.0</td><td>0.0</td></tr><tr><td>567760515</td><td>9779723</td><td>2590637</td><td>0.021207</td><td>0.001255</td><td>0.003989</td><td>1.846684</td><td>0.001684</td><td>0.003742</td><td>1.887389</td><td>0.0</td><td>0.0</td><td>0.0</td><td>0.0</td><td>0.0</td></tr><tr><td>567760513</td><td>9779723</td><td>2590637</td><td>0.021207</td><td>0.001255</td><td>0.003989</td><td>1.846684</td><td>0.001684</td><td>0.003742</td><td>1.887389</td><td>0.0</td><td>0.0</td><td>0.0</td><td>0.0</td><td>0.0</td></tr><tr><td>567760515</td><td>9779738</td><td>2590637</td><td>0.012119</td><td>0.0</td><td>0.009307</td><td>0.0</td><td>0.00166</td><td>0.001244</td><td>4.703426</td><td>0.0</td><td>0.0</td><td>0.0</td><td>0.0</td><td>0.0</td></tr></tbody></table></div>"
      ],
      "text/plain": [
       "shape: (2_585_747, 15)\n",
       "┌───────────────┬─────────┬─────────┬──────────┬───┬──────────┬──────────┬──────────┬──────────┐\n",
       "│ impression_id ┆ article ┆ user_id ┆ recs0    ┆ … ┆ recs8    ┆ recs9    ┆ recs10   ┆ recs11   │\n",
       "│ ---           ┆ ---     ┆ ---     ┆ ---      ┆   ┆ ---      ┆ ---      ┆ ---      ┆ ---      │\n",
       "│ u32           ┆ i32     ┆ u32     ┆ f32      ┆   ┆ f32      ┆ f32      ┆ f32      ┆ f32      │\n",
       "╞═══════════════╪═════════╪═════════╪══════════╪═══╪══════════╪══════════╪══════════╪══════════╡\n",
       "│ 556008624     ┆ 9193263 ┆ 10068   ┆ 0.00606  ┆ … ┆ 0.0      ┆ 0.00011  ┆ 0.000007 ┆ 0.0      │\n",
       "│ 556008624     ┆ 9695098 ┆ 10068   ┆ 0.00303  ┆ … ┆ 0.002663 ┆ 0.009685 ┆ 0.008015 ┆ 0.003995 │\n",
       "│ 556008624     ┆ 9758734 ┆ 10068   ┆ 0.00606  ┆ … ┆ 0.0      ┆ 0.003549 ┆ 0.000875 ┆ 0.006811 │\n",
       "│ 385198819     ┆ 9762352 ┆ 10068   ┆ 0.003029 ┆ … ┆ 0.005326 ┆ 0.02905  ┆ 0.029936 ┆ 0.006742 │\n",
       "│ 556008624     ┆ 9772548 ┆ 10068   ┆ 0.00303  ┆ … ┆ 0.0      ┆ 0.0      ┆ 0.0      ┆ 0.0      │\n",
       "│ …             ┆ …       ┆ …       ┆ …        ┆ … ┆ …        ┆ …        ┆ …        ┆ …        │\n",
       "│ 567760513     ┆ 9779705 ┆ 2590637 ┆ 0.018178 ┆ … ┆ 0.0      ┆ 0.0      ┆ 0.0      ┆ 0.0      │\n",
       "│ 567760515     ┆ 9779705 ┆ 2590637 ┆ 0.018178 ┆ … ┆ 0.0      ┆ 0.0      ┆ 0.0      ┆ 0.0      │\n",
       "│ 567760515     ┆ 9779723 ┆ 2590637 ┆ 0.021207 ┆ … ┆ 0.0      ┆ 0.0      ┆ 0.0      ┆ 0.0      │\n",
       "│ 567760513     ┆ 9779723 ┆ 2590637 ┆ 0.021207 ┆ … ┆ 0.0      ┆ 0.0      ┆ 0.0      ┆ 0.0      │\n",
       "│ 567760515     ┆ 9779738 ┆ 2590637 ┆ 0.012119 ┆ … ┆ 0.0      ┆ 0.0      ┆ 0.0      ┆ 0.0      │\n",
       "└───────────────┴─────────┴─────────┴──────────┴───┴──────────┴──────────┴──────────┴──────────┘"
      ]
     },
     "execution_count": 53,
     "metadata": {},
     "output_type": "execute_result"
    }
   ],
   "source": [
    "recsys_features"
   ]
  },
  {
   "cell_type": "code",
   "execution_count": 54,
   "metadata": {},
   "outputs": [],
   "source": [
    "#recsys_features = pl.read_parquet('/mnt/ebs_volume_2/recsys2024/features/recsys/small/train/recsys_scores_features.parquet')\n",
    "#recsys_features"
   ]
  },
  {
   "cell_type": "code",
   "execution_count": 55,
   "metadata": {},
   "outputs": [
    {
     "data": {
      "text/html": [
       "<div><style>\n",
       ".dataframe > thead > tr,\n",
       ".dataframe > tbody > tr {\n",
       "  text-align: right;\n",
       "  white-space: pre-wrap;\n",
       "}\n",
       "</style>\n",
       "<small>shape: (702_831, 266)</small><table border=\"1\" class=\"dataframe\"><thead><tr><th>impression_id</th><th>user_id</th><th>article</th><th>target</th><th>device_type</th><th>read_time</th><th>scroll_percentage</th><th>is_sso_user</th><th>gender</th><th>age</th><th>is_subscriber</th><th>postcode</th><th>trendiness_score_1d</th><th>trendiness_score_3d</th><th>trendiness_score_5d</th><th>weekday</th><th>hour</th><th>trendiness_score_1d/3d</th><th>trendiness_score_1d/5d</th><th>normalized_trendiness_score_overall</th><th>premium</th><th>category</th><th>sentiment_score</th><th>sentiment_label</th><th>num_images</th><th>title_len</th><th>subtitle_len</th><th>body_len</th><th>num_topics</th><th>total_pageviews</th><th>total_inviews</th><th>total_read_time</th><th>total_pageviews/inviews</th><th>article_type</th><th>article_delay_days</th><th>article_delay_hours</th><th>Entity_EVENT_Present</th><th>&hellip;</th><th>trendiness_score_3d_minus_median_impression</th><th>endorsement_10h_minus_median_impression</th><th>total_pageviews/inviews_minus_median_impression</th><th>mean_JS_minus_median_impression</th><th>mean_topic_model_cosine_minus_median_impression</th><th>topics_cosine_minus_median_impression</th><th>article_delay_hours_minus_median_impression</th><th>total_pageviews_minus_median_impression</th><th>total_inviews_minus_median_impression</th><th>trendiness_score_category_minus_median_impression</th><th>std_JS_minus_median_impression</th><th>trendiness_score_5d_minus_median_impression</th><th>total_read_time_minus_median_impression</th><th>mean_JS_l_inf_user</th><th>std_JS_l_inf_user</th><th>mean_topic_model_cosine_l_inf_user</th><th>topics_cosine_l_inf_user</th><th>article_delay_hours_l_inf_article</th><th>mean_JS_l_inf_article</th><th>std_JS_l_inf_article</th><th>mean_topic_model_cosine_l_inf_article</th><th>topics_cosine_l_inf_article</th><th>category_diversity_impression</th><th>sentiment_label_diversity_impression</th><th>article_type_diversity_impression</th><th>recs0</th><th>recs1</th><th>recs2</th><th>recs3</th><th>recs4</th><th>recs5</th><th>recs6</th><th>recs7</th><th>recs8</th><th>recs9</th><th>recs10</th><th>recs11</th></tr><tr><td>u32</td><td>u32</td><td>i32</td><td>i8</td><td>i8</td><td>f32</td><td>f32</td><td>bool</td><td>i8</td><td>i8</td><td>bool</td><td>i8</td><td>i16</td><td>i16</td><td>i16</td><td>i8</td><td>i8</td><td>f32</td><td>f32</td><td>f32</td><td>bool</td><td>i16</td><td>f32</td><td>str</td><td>u32</td><td>u8</td><td>u8</td><td>u16</td><td>u32</td><td>i32</td><td>i32</td><td>f32</td><td>f32</td><td>str</td><td>i16</td><td>i32</td><td>bool</td><td>&hellip;</td><td>f64</td><td>f64</td><td>f32</td><td>f32</td><td>f32</td><td>f32</td><td>f64</td><td>f64</td><td>f64</td><td>f64</td><td>f32</td><td>f64</td><td>f32</td><td>f32</td><td>f32</td><td>f32</td><td>f32</td><td>f64</td><td>f32</td><td>f32</td><td>f32</td><td>f32</td><td>u32</td><td>u32</td><td>u32</td><td>f32</td><td>f32</td><td>f32</td><td>f32</td><td>f32</td><td>f32</td><td>f32</td><td>f32</td><td>f32</td><td>f32</td><td>f32</td><td>f32</td></tr></thead><tbody><tr><td>149474</td><td>139836</td><td>9778728</td><td>0</td><td>2</td><td>13.0</td><td>null</td><td>false</td><td>2</td><td>null</td><td>false</td><td>5</td><td>150</td><td>521</td><td>836</td><td>3</td><td>7</td><td>0.287908</td><td>0.179426</td><td>0.880068</td><td>false</td><td>142</td><td>0.9654</td><td>&quot;Negative&quot;</td><td>1</td><td>5</td><td>18</td><td>251</td><td>7</td><td>22415</td><td>220247</td><td>1.004828e6</td><td>0.101772</td><td>&quot;article_default&quot;</td><td>0</td><td>0</td><td>true</td><td>&hellip;</td><td>281.5</td><td>-873.5</td><td>-0.111306</td><td>-0.005177</td><td>0.091665</td><td>-0.02667</td><td>-1.0</td><td>-62463.5</td><td>-165503.0</td><td>4.0</td><td>-0.033664</td><td>447.5</td><td>-4.981345e6</td><td>0.447581</td><td>0.403328</td><td>0.96685</td><td>0.36119</td><td>0.0</td><td>0.233531</td><td>0.335164</td><td>0.908604</td><td>0.301919</td><td>4</td><td>3</td><td>1</td><td>0.006059</td><td>0.0</td><td>0.00133</td><td>0.0</td><td>0.0</td><td>0.0</td><td>0.0</td><td>0.0</td><td>0.0</td><td>0.0</td><td>0.0</td><td>0.0</td></tr><tr><td>149474</td><td>139836</td><td>9778669</td><td>0</td><td>2</td><td>13.0</td><td>null</td><td>false</td><td>2</td><td>null</td><td>false</td><td>5</td><td>85</td><td>199</td><td>313</td><td>3</td><td>7</td><td>0.427136</td><td>0.271565</td><td>0.336149</td><td>false</td><td>118</td><td>0.9481</td><td>&quot;Negative&quot;</td><td>1</td><td>5</td><td>11</td><td>150</td><td>4</td><td>74491</td><td>373488</td><td>4.365609e6</td><td>0.199447</td><td>&quot;article_default&quot;</td><td>0</td><td>1</td><td>false</td><td>&hellip;</td><td>-40.5</td><td>179.5</td><td>-0.013631</td><td>0.003967</td><td>-0.050146</td><td>0.015762</td><td>0.0</td><td>-10387.5</td><td>-12262.0</td><td>0.0</td><td>0.028015</td><td>-75.5</td><td>-1.620564e6</td><td>0.501163</td><td>0.632488</td><td>0.797317</td><td>0.437299</td><td>0.043478</td><td>0.266627</td><td>0.511387</td><td>0.789201</td><td>0.319083</td><td>4</td><td>3</td><td>1</td><td>0.006058</td><td>0.0</td><td>0.00133</td><td>0.923383</td><td>0.0</td><td>0.0</td><td>0.0</td><td>0.0</td><td>0.0</td><td>0.0</td><td>0.0</td><td>0.0</td></tr><tr><td>149474</td><td>139836</td><td>9778657</td><td>1</td><td>2</td><td>13.0</td><td>null</td><td>false</td><td>2</td><td>null</td><td>false</td><td>5</td><td>45</td><td>117</td><td>183</td><td>3</td><td>7</td><td>0.384615</td><td>0.245902</td><td>0.197635</td><td>false</td><td>118</td><td>0.8347</td><td>&quot;Neutral&quot;</td><td>2</td><td>6</td><td>31</td><td>336</td><td>3</td><td>108389</td><td>478098</td><td>7.606737e6</td><td>0.226709</td><td>&quot;article_default&quot;</td><td>0</td><td>1</td><td>false</td><td>&hellip;</td><td>-122.5</td><td>368.5</td><td>0.013631</td><td>0.05309</td><td>0.005468</td><td>0.218611</td><td>0.0</td><td>23510.5</td><td>92348.0</td><td>0.0</td><td>0.051035</td><td>-205.5</td><td>1.620564e6</td><td>0.78901</td><td>0.718014</td><td>0.863803</td><td>0.801144</td><td>0.066667</td><td>0.350947</td><td>0.730242</td><td>0.840012</td><td>0.604487</td><td>4</td><td>3</td><td>1</td><td>0.006059</td><td>0.002391</td><td>0.0</td><td>0.923481</td><td>0.001677</td><td>0.0</td><td>1.857302</td><td>0.0</td><td>0.0</td><td>0.0</td><td>0.0</td><td>0.0</td></tr><tr><td>150528</td><td>143471</td><td>9778682</td><td>0</td><td>2</td><td>25.0</td><td>null</td><td>false</td><td>2</td><td>null</td><td>false</td><td>5</td><td>69</td><td>206</td><td>334</td><td>3</td><td>7</td><td>0.334951</td><td>0.206587</td><td>0.347973</td><td>false</td><td>498</td><td>0.9546</td><td>&quot;Negative&quot;</td><td>1</td><td>5</td><td>20</td><td>267</td><td>3</td><td>143520</td><td>455723</td><td>9.298546e6</td><td>0.314928</td><td>&quot;article_default&quot;</td><td>0</td><td>1</td><td>true</td><td>&hellip;</td><td>7.0</td><td>204.0</td><td>0.088219</td><td>0.013219</td><td>0.095761</td><td>-0.001332</td><td>1.0</td><td>48254.0</td><td>82235.0</td><td>-47.0</td><td>0.013249</td><td>21.0</td><td>4.223417e6</td><td>0.793928</td><td>0.732491</td><td>0.94067</td><td>0.581838</td><td>0.041667</td><td>0.299855</td><td>0.536061</td><td>0.891664</td><td>0.447169</td><td>6</td><td>3</td><td>1</td><td>0.075742</td><td>0.001306</td><td>0.035902</td><td>4.617562</td><td>0.008333</td><td>0.003623</td><td>13.508654</td><td>0.0</td><td>0.0</td><td>0.0</td><td>0.0</td><td>0.0</td></tr><tr><td>150528</td><td>143471</td><td>9778669</td><td>0</td><td>2</td><td>25.0</td><td>null</td><td>false</td><td>2</td><td>null</td><td>false</td><td>5</td><td>85</td><td>199</td><td>313</td><td>3</td><td>7</td><td>0.427136</td><td>0.271565</td><td>0.336149</td><td>false</td><td>118</td><td>0.9481</td><td>&quot;Negative&quot;</td><td>1</td><td>5</td><td>11</td><td>150</td><td>4</td><td>74491</td><td>373488</td><td>4.365609e6</td><td>0.199447</td><td>&quot;article_default&quot;</td><td>0</td><td>1</td><td>false</td><td>&hellip;</td><td>0.0</td><td>598.0</td><td>-0.027262</td><td>0.025741</td><td>-0.061045</td><td>0.159455</td><td>1.0</td><td>-20775.0</td><td>0.0</td><td>62.0</td><td>0.007517</td><td>0.0</td><td>-709520.0</td><td>0.881599</td><td>0.709201</td><td>0.756751</td><td>0.871154</td><td>0.043478</td><td>0.392552</td><td>0.524339</td><td>0.763467</td><td>0.633637</td><td>6</td><td>3</td><td>1</td><td>0.133276</td><td>0.007988</td><td>0.046539</td><td>15.69847</td><td>0.031416</td><td>0.01292</td><td>21.365974</td><td>0.0</td><td>0.0</td><td>0.0</td><td>0.0</td><td>0.0</td></tr><tr><td>&hellip;</td><td>&hellip;</td><td>&hellip;</td><td>&hellip;</td><td>&hellip;</td><td>&hellip;</td><td>&hellip;</td><td>&hellip;</td><td>&hellip;</td><td>&hellip;</td><td>&hellip;</td><td>&hellip;</td><td>&hellip;</td><td>&hellip;</td><td>&hellip;</td><td>&hellip;</td><td>&hellip;</td><td>&hellip;</td><td>&hellip;</td><td>&hellip;</td><td>&hellip;</td><td>&hellip;</td><td>&hellip;</td><td>&hellip;</td><td>&hellip;</td><td>&hellip;</td><td>&hellip;</td><td>&hellip;</td><td>&hellip;</td><td>&hellip;</td><td>&hellip;</td><td>&hellip;</td><td>&hellip;</td><td>&hellip;</td><td>&hellip;</td><td>&hellip;</td><td>&hellip;</td><td>&hellip;</td><td>&hellip;</td><td>&hellip;</td><td>&hellip;</td><td>&hellip;</td><td>&hellip;</td><td>&hellip;</td><td>&hellip;</td><td>&hellip;</td><td>&hellip;</td><td>&hellip;</td><td>&hellip;</td><td>&hellip;</td><td>&hellip;</td><td>&hellip;</td><td>&hellip;</td><td>&hellip;</td><td>&hellip;</td><td>&hellip;</td><td>&hellip;</td><td>&hellip;</td><td>&hellip;</td><td>&hellip;</td><td>&hellip;</td><td>&hellip;</td><td>&hellip;</td><td>&hellip;</td><td>&hellip;</td><td>&hellip;</td><td>&hellip;</td><td>&hellip;</td><td>&hellip;</td><td>&hellip;</td><td>&hellip;</td><td>&hellip;</td><td>&hellip;</td><td>&hellip;</td><td>&hellip;</td></tr><tr><td>580100695</td><td>2110744</td><td>9769917</td><td>0</td><td>1</td><td>5.0</td><td>100.0</td><td>false</td><td>2</td><td>null</td><td>false</td><td>5</td><td>46</td><td>105</td><td>152</td><td>4</td><td>10</td><td>0.438095</td><td>0.302632</td><td>0.203883</td><td>true</td><td>140</td><td>0.989</td><td>&quot;Negative&quot;</td><td>4</td><td>5</td><td>32</td><td>826</td><td>2</td><td>203222</td><td>2163455</td><td>1.2661448e7</td><td>0.093934</td><td>&quot;article_default&quot;</td><td>0</td><td>17</td><td>false</td><td>&hellip;</td><td>-50.0</td><td>1404.0</td><td>-0.114787</td><td>0.002116</td><td>-0.103502</td><td>0.0</td><td>-4373.0</td><td>4017.0</td><td>1.209047e6</td><td>18.0</td><td>0.088883</td><td>-79.0</td><td>0.0</td><td>0.582369</td><td>0.927592</td><td>0.682434</td><td>0.472501</td><td>0.093407</td><td>0.120789</td><td>0.389978</td><td>0.696381</td><td>0.268713</td><td>4</td><td>3</td><td>2</td><td>0.072714</td><td>0.003203</td><td>0.015956</td><td>6.464759</td><td>0.00682</td><td>0.003392</td><td>10.745097</td><td>0.085755</td><td>0.038615</td><td>0.559645</td><td>0.315015</td><td>0.052498</td></tr><tr><td>580100695</td><td>2110744</td><td>9767697</td><td>1</td><td>1</td><td>5.0</td><td>100.0</td><td>false</td><td>2</td><td>null</td><td>false</td><td>5</td><td>50</td><td>187</td><td>238</td><td>4</td><td>10</td><td>0.26738</td><td>0.210084</td><td>0.363107</td><td>false</td><td>118</td><td>0.9613</td><td>&quot;Negative&quot;</td><td>5</td><td>7</td><td>2</td><td>982</td><td>3</td><td>199205</td><td>954408</td><td>2.595362e7</td><td>0.208721</td><td>&quot;article_default&quot;</td><td>0</td><td>3</td><td>false</td><td>&hellip;</td><td>32.0</td><td>1339.0</td><td>0.0</td><td>0.035035</td><td>0.028725</td><td>0.237915</td><td>-4387.0</td><td>0.0</td><td>0.0</td><td>47.0</td><td>0.051003</td><td>7.0</td><td>1.3292172e7</td><td>0.80426</td><td>0.763092</td><td>0.836592</td><td>0.908091</td><td>0.017964</td><td>0.287404</td><td>0.373625</td><td>0.779936</td><td>0.597165</td><td>4</td><td>3</td><td>2</td><td>0.109071</td><td>0.00428</td><td>0.033242</td><td>11.081906</td><td>0.033589</td><td>0.007096</td><td>10.767332</td><td>0.0</td><td>0.019973</td><td>0.195145</td><td>0.096154</td><td>0.039106</td></tr><tr><td>580100697</td><td>2110744</td><td>9770997</td><td>0</td><td>1</td><td>14.0</td><td>100.0</td><td>false</td><td>2</td><td>null</td><td>false</td><td>5</td><td>32</td><td>78</td><td>136</td><td>4</td><td>10</td><td>0.410256</td><td>0.235294</td><td>0.151456</td><td>false</td><td>414</td><td>0.845</td><td>&quot;Positive&quot;</td><td>1</td><td>5</td><td>18</td><td>164</td><td>4</td><td>110632</td><td>485698</td><td>5.034287e6</td><td>0.227779</td><td>&quot;article_default&quot;</td><td>0</td><td>3</td><td>false</td><td>&hellip;</td><td>-47.5</td><td>1339.5</td><td>0.066013</td><td>-0.020815</td><td>0.014447</td><td>-0.035568</td><td>-4786.0</td><td>0.0</td><td>0.0</td><td>0.0</td><td>-0.032977</td><td>-64.5</td><td>0.0</td><td>0.162473</td><td>0.29199</td><td>0.836789</td><td>0.177689</td><td>0.018072</td><td>0.172841</td><td>0.384146</td><td>0.818583</td><td>0.204345</td><td>5</td><td>3</td><td>2</td><td>0.075714</td><td>0.005181</td><td>0.010638</td><td>2.770326</td><td>0.001563</td><td>0.002846</td><td>10.469106</td><td>0.0</td><td>0.0</td><td>0.0</td><td>0.0</td><td>0.0</td></tr><tr><td>580100697</td><td>2110744</td><td>9514481</td><td>0</td><td>1</td><td>14.0</td><td>100.0</td><td>false</td><td>2</td><td>null</td><td>false</td><td>5</td><td>8</td><td>37</td><td>49</td><td>4</td><td>10</td><td>0.216216</td><td>0.163265</td><td>0.071845</td><td>true</td><td>414</td><td>0.9501</td><td>&quot;Neutral&quot;</td><td>7</td><td>9</td><td>30</td><td>371</td><td>3</td><td>null</td><td>null</td><td>null</td><td>null</td><td>&quot;article_standard_feature&quot;</td><td>182</td><td>4390</td><td>false</td><td>&hellip;</td><td>-88.5</td><td>-363.5</td><td>null</td><td>-0.021758</td><td>-0.126811</td><td>-0.071621</td><td>-399.0</td><td>null</td><td>null</td><td>0.0</td><td>-0.012502</td><td>-151.5</td><td>null</td><td>0.156114</td><td>0.380906</td><td>0.672102</td><td>0.111681</td><td>0.963776</td><td>0.054301</td><td>0.239584</td><td>0.69207</td><td>0.069082</td><td>5</td><td>3</td><td>2</td><td>0.045448</td><td>0.0</td><td>0.014628</td><td>3.693801</td><td>0.008388</td><td>0.0</td><td>10.70724</td><td>0.0</td><td>0.007989</td><td>0.05109</td><td>0.045008</td><td>0.001339</td></tr><tr><td>580100697</td><td>2110744</td><td>9771042</td><td>1</td><td>1</td><td>14.0</td><td>100.0</td><td>false</td><td>2</td><td>null</td><td>false</td><td>5</td><td>31</td><td>96</td><td>194</td><td>4</td><td>10</td><td>0.322917</td><td>0.159794</td><td>0.186408</td><td>false</td><td>118</td><td>0.6719</td><td>&quot;Positive&quot;</td><td>1</td><td>4</td><td>17</td><td>200</td><td>3</td><td>67278</td><td>415895</td><td>3.605973e6</td><td>0.161767</td><td>&quot;article_default&quot;</td><td>0</td><td>3</td><td>true</td><td>&hellip;</td><td>-29.5</td><td>1307.5</td><td>0.0</td><td>-0.019337</td><td>0.106317</td><td>-0.063147</td><td>-4786.0</td><td>-43354.0</td><td>-69803.0</td><td>47.0</td><td>-0.036195</td><td>-6.5</td><td>-1.428314e6</td><td>0.172432</td><td>0.278018</td><td>0.943898</td><td>0.127195</td><td>0.0234375</td><td>0.181335</td><td>0.423733</td><td>0.873426</td><td>0.177202</td><td>5</td><td>3</td><td>2</td><td>0.115104</td><td>0.004479</td><td>0.011968</td><td>4.617368</td><td>0.008309</td><td>0.006717</td><td>10.284229</td><td>0.0</td><td>0.005326</td><td>0.037222</td><td>0.019134</td><td>0.000647</td></tr></tbody></table></div>"
      ],
      "text/plain": [
       "shape: (702_831, 266)\n",
       "┌───────────────┬─────────┬─────────┬────────┬───┬──────────┬──────────┬──────────┬──────────┐\n",
       "│ impression_id ┆ user_id ┆ article ┆ target ┆ … ┆ recs8    ┆ recs9    ┆ recs10   ┆ recs11   │\n",
       "│ ---           ┆ ---     ┆ ---     ┆ ---    ┆   ┆ ---      ┆ ---      ┆ ---      ┆ ---      │\n",
       "│ u32           ┆ u32     ┆ i32     ┆ i8     ┆   ┆ f32      ┆ f32      ┆ f32      ┆ f32      │\n",
       "╞═══════════════╪═════════╪═════════╪════════╪═══╪══════════╪══════════╪══════════╪══════════╡\n",
       "│ 149474        ┆ 139836  ┆ 9778728 ┆ 0      ┆ … ┆ 0.0      ┆ 0.0      ┆ 0.0      ┆ 0.0      │\n",
       "│ 149474        ┆ 139836  ┆ 9778669 ┆ 0      ┆ … ┆ 0.0      ┆ 0.0      ┆ 0.0      ┆ 0.0      │\n",
       "│ 149474        ┆ 139836  ┆ 9778657 ┆ 1      ┆ … ┆ 0.0      ┆ 0.0      ┆ 0.0      ┆ 0.0      │\n",
       "│ 150528        ┆ 143471  ┆ 9778682 ┆ 0      ┆ … ┆ 0.0      ┆ 0.0      ┆ 0.0      ┆ 0.0      │\n",
       "│ 150528        ┆ 143471  ┆ 9778669 ┆ 0      ┆ … ┆ 0.0      ┆ 0.0      ┆ 0.0      ┆ 0.0      │\n",
       "│ …             ┆ …       ┆ …       ┆ …      ┆ … ┆ …        ┆ …        ┆ …        ┆ …        │\n",
       "│ 580100695     ┆ 2110744 ┆ 9769917 ┆ 0      ┆ … ┆ 0.038615 ┆ 0.559645 ┆ 0.315015 ┆ 0.052498 │\n",
       "│ 580100695     ┆ 2110744 ┆ 9767697 ┆ 1      ┆ … ┆ 0.019973 ┆ 0.195145 ┆ 0.096154 ┆ 0.039106 │\n",
       "│ 580100697     ┆ 2110744 ┆ 9770997 ┆ 0      ┆ … ┆ 0.0      ┆ 0.0      ┆ 0.0      ┆ 0.0      │\n",
       "│ 580100697     ┆ 2110744 ┆ 9514481 ┆ 0      ┆ … ┆ 0.007989 ┆ 0.05109  ┆ 0.045008 ┆ 0.001339 │\n",
       "│ 580100697     ┆ 2110744 ┆ 9771042 ┆ 1      ┆ … ┆ 0.005326 ┆ 0.037222 ┆ 0.019134 ┆ 0.000647 │\n",
       "└───────────────┴─────────┴─────────┴────────┴───┴──────────┴──────────┴──────────┴──────────┘"
      ]
     },
     "execution_count": 55,
     "metadata": {},
     "output_type": "execute_result"
    }
   ],
   "source": [
    "train_ds = train_ds.join(recsys_features, on=['impression_id', 'article','user_id'], how= 'left')\n",
    "train_ds"
   ]
  },
  {
   "cell_type": "code",
   "execution_count": 56,
   "metadata": {},
   "outputs": [],
   "source": [
    "from catboost import CatBoostClassifier\n",
    "from catboost import CatBoostRanker"
   ]
  },
  {
   "cell_type": "markdown",
   "metadata": {},
   "source": [
    "## Classifier\n"
   ]
  },
  {
   "cell_type": "code",
   "execution_count": 58,
   "metadata": {},
   "outputs": [],
   "source": [
    "train_ds = train_ds.drop(['impression_id', 'article', 'user_id']).to_pandas()\n",
    "\n",
    "categorical_columns = ['device_type', 'is_sso_user', 'gender', 'is_subscriber', 'weekday',\n",
    "                       'premium', 'category', 'sentiment_label', 'is_new_article', 'is_already_seen_article',\n",
    "                       'MostFrequentCategory', 'MostFrequentWeekday', 'IsFavouriteCategory',\n",
    "                       'article_type', 'postcode']\n",
    "categorical_columns += [f'Entity_{entity}_Present' for entity in unique_entities]\n",
    "train_ds[categorical_columns] = train_ds[categorical_columns].astype('category')\n",
    "\n",
    "X = train_ds.drop(columns=['target'])\n",
    "y = train_ds['target']\n",
    "\n"
   ]
  },
  {
   "cell_type": "code",
   "execution_count": 59,
   "metadata": {},
   "outputs": [
    {
     "name": "stdout",
     "output_type": "stream",
     "text": [
      "Learning rate set to 0.169254\n",
      "0:\tlearn: 0.6485698\ttotal: 553ms\tremaining: 9m 12s\n",
      "25:\tlearn: 0.5172484\ttotal: 9.75s\tremaining: 6m 5s\n",
      "50:\tlearn: 0.4989941\ttotal: 18.8s\tremaining: 5m 50s\n",
      "75:\tlearn: 0.4885358\ttotal: 29s\tremaining: 5m 52s\n",
      "100:\tlearn: 0.4803592\ttotal: 39s\tremaining: 5m 46s\n",
      "125:\tlearn: 0.4747900\ttotal: 49s\tremaining: 5m 40s\n",
      "150:\tlearn: 0.4696148\ttotal: 58.8s\tremaining: 5m 30s\n",
      "175:\tlearn: 0.4655408\ttotal: 1m 9s\tremaining: 5m 23s\n",
      "200:\tlearn: 0.4616141\ttotal: 1m 18s\tremaining: 5m 13s\n",
      "225:\tlearn: 0.4583499\ttotal: 1m 28s\tremaining: 5m 3s\n",
      "250:\tlearn: 0.4554043\ttotal: 1m 38s\tremaining: 4m 54s\n",
      "275:\tlearn: 0.4524692\ttotal: 1m 48s\tremaining: 4m 44s\n",
      "300:\tlearn: 0.4499813\ttotal: 1m 58s\tremaining: 4m 34s\n",
      "325:\tlearn: 0.4476252\ttotal: 2m 7s\tremaining: 4m 23s\n",
      "350:\tlearn: 0.4455730\ttotal: 2m 16s\tremaining: 4m 12s\n",
      "375:\tlearn: 0.4434054\ttotal: 2m 23s\tremaining: 3m 58s\n",
      "400:\tlearn: 0.4414220\ttotal: 2m 30s\tremaining: 3m 45s\n",
      "425:\tlearn: 0.4395604\ttotal: 2m 38s\tremaining: 3m 32s\n",
      "450:\tlearn: 0.4378175\ttotal: 2m 45s\tremaining: 3m 21s\n",
      "475:\tlearn: 0.4362200\ttotal: 2m 52s\tremaining: 3m 9s\n",
      "500:\tlearn: 0.4345189\ttotal: 2m 59s\tremaining: 2m 58s\n",
      "525:\tlearn: 0.4328383\ttotal: 3m 6s\tremaining: 2m 48s\n",
      "550:\tlearn: 0.4313192\ttotal: 3m 13s\tremaining: 2m 37s\n",
      "575:\tlearn: 0.4298577\ttotal: 3m 21s\tremaining: 2m 28s\n",
      "600:\tlearn: 0.4283419\ttotal: 3m 28s\tremaining: 2m 18s\n",
      "625:\tlearn: 0.4269754\ttotal: 3m 35s\tremaining: 2m 8s\n",
      "650:\tlearn: 0.4257205\ttotal: 3m 42s\tremaining: 1m 59s\n",
      "675:\tlearn: 0.4244442\ttotal: 3m 49s\tremaining: 1m 50s\n",
      "700:\tlearn: 0.4232435\ttotal: 3m 57s\tremaining: 1m 41s\n",
      "725:\tlearn: 0.4222462\ttotal: 4m 4s\tremaining: 1m 32s\n",
      "750:\tlearn: 0.4210774\ttotal: 4m 11s\tremaining: 1m 23s\n",
      "775:\tlearn: 0.4198373\ttotal: 4m 18s\tremaining: 1m 14s\n",
      "800:\tlearn: 0.4186160\ttotal: 4m 25s\tremaining: 1m 6s\n",
      "825:\tlearn: 0.4175316\ttotal: 4m 32s\tremaining: 57.5s\n",
      "850:\tlearn: 0.4164046\ttotal: 4m 40s\tremaining: 49.1s\n",
      "875:\tlearn: 0.4154101\ttotal: 4m 47s\tremaining: 40.7s\n",
      "900:\tlearn: 0.4143519\ttotal: 4m 55s\tremaining: 32.5s\n",
      "925:\tlearn: 0.4132084\ttotal: 5m 2s\tremaining: 24.2s\n",
      "950:\tlearn: 0.4121874\ttotal: 5m 10s\tremaining: 16s\n",
      "975:\tlearn: 0.4112766\ttotal: 5m 17s\tremaining: 7.8s\n",
      "999:\tlearn: 0.4103739\ttotal: 5m 24s\tremaining: 0us\n",
      "\u001b[1m\u001b[31m\n",
      "RAM memory GB usage = 21.03\u001b[0m\n"
     ]
    }
   ],
   "source": [
    "\n",
    "# just a simple model to be able to run an evaluation\n",
    "model = CatBoostClassifier(cat_features=categorical_columns, iterations=1000, rsm=0.7, subsample=0.5)\n",
    "\n",
    "model.fit(X, y, verbose=25)\n",
    "\n",
    "gc.collect()\n",
    "PrintColor(f\"\\n\" + GetMemUsage(), color = Fore.RED)\n"
   ]
  },
  {
   "cell_type": "markdown",
   "metadata": {},
   "source": [
    "## Ranker\n"
   ]
  },
  {
   "cell_type": "code",
   "execution_count": 60,
   "metadata": {},
   "outputs": [
    {
     "data": {
      "text/plain": [
       "\"\\ntrain_ds = train_ds.drop(['article', 'user_id']).to_pandas().sort_values(by='impression_id')\\ngroups = train_ds['impression_id'].copy()\\n\\ncategorical_columns = ['device_type', 'is_sso_user', 'gender', 'is_subscriber', 'weekday',\\n                       'premium', 'category', 'sentiment_label', 'is_new_article', 'is_already_seen_article',\\n                       'MostFrequentCategory', 'MostFrequentWeekday', 'IsFavouriteCategory',\\n                       'article_type', 'postcode']\\ncategorical_columns += [f'Entity_{entity}_Present' for entity in unique_entities]\\ntrain_ds[categorical_columns] = train_ds[categorical_columns].astype('category')\\n\\nX = train_ds.drop(columns=['target', 'impression_id'])\\ny = train_ds['target']\\n\""
      ]
     },
     "execution_count": 60,
     "metadata": {},
     "output_type": "execute_result"
    }
   ],
   "source": [
    "\"\"\"\n",
    "train_ds = train_ds.drop(['article', 'user_id']).to_pandas().sort_values(by='impression_id')\n",
    "groups = train_ds['impression_id'].copy()\n",
    "\n",
    "categorical_columns = ['device_type', 'is_sso_user', 'gender', 'is_subscriber', 'weekday',\n",
    "                       'premium', 'category', 'sentiment_label', 'is_new_article', 'is_already_seen_article',\n",
    "                       'MostFrequentCategory', 'MostFrequentWeekday', 'IsFavouriteCategory',\n",
    "                       'article_type', 'postcode']\n",
    "categorical_columns += [f'Entity_{entity}_Present' for entity in unique_entities]\n",
    "train_ds[categorical_columns] = train_ds[categorical_columns].astype('category')\n",
    "\n",
    "X = train_ds.drop(columns=['target', 'impression_id'])\n",
    "y = train_ds['target']\n",
    "\"\"\""
   ]
  },
  {
   "cell_type": "code",
   "execution_count": 61,
   "metadata": {},
   "outputs": [
    {
     "data": {
      "text/plain": [
       "'\\nmodel = CatBoostRanker(cat_features=categorical_columns, iterations=2000, depth=8, colsample_bylevel=0.5)\\n\\nmodel.fit(X, y, group_id=groups, verbose=25)\\n\\ngc.collect()\\nPrintColor(f\"\\n\" + GetMemUsage(), color = Fore.RED)\\n'"
      ]
     },
     "execution_count": 61,
     "metadata": {},
     "output_type": "execute_result"
    }
   ],
   "source": [
    "\"\"\"\n",
    "model = CatBoostRanker(cat_features=categorical_columns, iterations=2000, depth=8, colsample_bylevel=0.5)\n",
    "\n",
    "model.fit(X, y, group_id=groups, verbose=25)\n",
    "\n",
    "gc.collect()\n",
    "PrintColor(f\"\\n\" + GetMemUsage(), color = Fore.RED)\n",
    "\"\"\""
   ]
  },
  {
   "cell_type": "code",
   "execution_count": 62,
   "metadata": {},
   "outputs": [
    {
     "data": {
      "text/html": [
       "<div><style>\n",
       ".dataframe > thead > tr,\n",
       ".dataframe > tbody > tr {\n",
       "  text-align: right;\n",
       "  white-space: pre-wrap;\n",
       "}\n",
       "</style>\n",
       "<small>shape: (2_928_942, 254)</small><table border=\"1\" class=\"dataframe\"><thead><tr><th>impression_id</th><th>article</th><th>user_id</th><th>target</th><th>device_type</th><th>read_time</th><th>scroll_percentage</th><th>is_sso_user</th><th>gender</th><th>age</th><th>is_subscriber</th><th>postcode</th><th>trendiness_score_1d</th><th>trendiness_score_3d</th><th>trendiness_score_5d</th><th>weekday</th><th>hour</th><th>trendiness_score_1d/3d</th><th>trendiness_score_1d/5d</th><th>normalized_trendiness_score_overall</th><th>premium</th><th>category</th><th>sentiment_score</th><th>sentiment_label</th><th>num_images</th><th>title_len</th><th>subtitle_len</th><th>body_len</th><th>num_topics</th><th>total_pageviews</th><th>total_inviews</th><th>total_read_time</th><th>total_pageviews/inviews</th><th>article_type</th><th>article_delay_days</th><th>article_delay_hours</th><th>Entity_EVENT_Present</th><th>&hellip;</th><th>entropy_impression_endorsement_10h</th><th>entropy_impression_total_pageviews/inviews</th><th>entropy_impression_mean_JS</th><th>entropy_impression_mean_topic_model_cosine</th><th>entropy_impression_topics_cosine</th><th>entropy_impression_article_delay_hours</th><th>entropy_impression_total_pageviews</th><th>entropy_impression_total_inviews</th><th>entropy_impression_trendiness_score_category</th><th>entropy_impression_std_JS</th><th>entropy_impression_trendiness_score_5d</th><th>entropy_impression_total_read_time</th><th>trendiness_score_3d_minus_median_impression</th><th>endorsement_10h_minus_median_impression</th><th>total_pageviews/inviews_minus_median_impression</th><th>mean_JS_minus_median_impression</th><th>mean_topic_model_cosine_minus_median_impression</th><th>topics_cosine_minus_median_impression</th><th>article_delay_hours_minus_median_impression</th><th>total_pageviews_minus_median_impression</th><th>total_inviews_minus_median_impression</th><th>trendiness_score_category_minus_median_impression</th><th>std_JS_minus_median_impression</th><th>trendiness_score_5d_minus_median_impression</th><th>total_read_time_minus_median_impression</th><th>mean_JS_l_inf_user</th><th>std_JS_l_inf_user</th><th>mean_topic_model_cosine_l_inf_user</th><th>topics_cosine_l_inf_user</th><th>article_delay_hours_l_inf_article</th><th>mean_JS_l_inf_article</th><th>std_JS_l_inf_article</th><th>mean_topic_model_cosine_l_inf_article</th><th>topics_cosine_l_inf_article</th><th>category_diversity_impression</th><th>sentiment_label_diversity_impression</th><th>article_type_diversity_impression</th></tr><tr><td>u32</td><td>i32</td><td>u32</td><td>i8</td><td>i8</td><td>f32</td><td>f32</td><td>bool</td><td>i8</td><td>i8</td><td>bool</td><td>i8</td><td>i16</td><td>i16</td><td>i16</td><td>i8</td><td>i8</td><td>f32</td><td>f32</td><td>f32</td><td>bool</td><td>i16</td><td>f32</td><td>str</td><td>u32</td><td>u8</td><td>u8</td><td>u16</td><td>u32</td><td>i32</td><td>i32</td><td>f32</td><td>f32</td><td>str</td><td>i16</td><td>i32</td><td>bool</td><td>&hellip;</td><td>f64</td><td>f32</td><td>f32</td><td>f32</td><td>f32</td><td>f64</td><td>f64</td><td>f64</td><td>f64</td><td>f32</td><td>f64</td><td>f32</td><td>f64</td><td>f64</td><td>f32</td><td>f32</td><td>f32</td><td>f32</td><td>f64</td><td>f64</td><td>f64</td><td>f64</td><td>f32</td><td>f64</td><td>f32</td><td>f32</td><td>f32</td><td>f32</td><td>f32</td><td>f64</td><td>f32</td><td>f32</td><td>f32</td><td>f32</td><td>u32</td><td>u32</td><td>u32</td></tr></thead><tbody><tr><td>205373625</td><td>9785030</td><td>1801226</td><td>0</td><td>2</td><td>251.0</td><td>null</td><td>true</td><td>0</td><td>null</td><td>true</td><td>5</td><td>30</td><td>80</td><td>162</td><td>7</td><td>17</td><td>0.375</td><td>0.185185</td><td>0.146789</td><td>false</td><td>414</td><td>0.9167</td><td>&quot;Positive&quot;</td><td>3</td><td>6</td><td>31</td><td>426</td><td>3</td><td>37391</td><td>349453</td><td>2.850225e6</td><td>0.106999</td><td>&quot;article_default&quot;</td><td>0</td><td>2</td><td>false</td><td>&hellip;</td><td>3.613138</td><td>3.589502</td><td>3.595951</td><td>3.758065</td><td>3.631038</td><td>NaN</td><td>3.447933</td><td>3.399587</td><td>3.603802</td><td>3.672916</td><td>3.567628</td><td>3.488753</td><td>-139.0</td><td>69.0</td><td>-0.021321</td><td>-0.059766</td><td>0.077358</td><td>-0.207508</td><td>-3.0</td><td>-15276.5</td><td>-34312.5</td><td>-67.0</td><td>-0.035288</td><td>-253.0</td><td>-770304.0</td><td>0.291109</td><td>0.442209</td><td>0.972551</td><td>0.25217</td><td>0.025974</td><td>0.253</td><td>0.421015</td><td>0.879186</td><td>0.272875</td><td>8</td><td>3</td><td>3</td></tr><tr><td>456698625</td><td>9553264</td><td>1757180</td><td>0</td><td>2</td><td>34.0</td><td>null</td><td>false</td><td>2</td><td>null</td><td>false</td><td>5</td><td>55</td><td>105</td><td>190</td><td>3</td><td>5</td><td>0.52381</td><td>0.289474</td><td>0.173267</td><td>true</td><td>457</td><td>0.8349</td><td>&quot;Neutral&quot;</td><td>1</td><td>6</td><td>20</td><td>718</td><td>3</td><td>null</td><td>null</td><td>null</td><td>null</td><td>&quot;article_default&quot;</td><td>162</td><td>3908</td><td>false</td><td>&hellip;</td><td>2.414501</td><td>2.598626</td><td>2.587271</td><td>2.703429</td><td>2.621012</td><td>NaN</td><td>2.487291</td><td>2.576228</td><td>2.518426</td><td>2.683312</td><td>2.546191</td><td>2.466265</td><td>-80.0</td><td>-377.0</td><td>null</td><td>-0.007509</td><td>-0.09586</td><td>-0.077113</td><td>3906.0</td><td>null</td><td>null</td><td>-96.0</td><td>0.000809</td><td>-89.0</td><td>null</td><td>0.324542</td><td>0.586527</td><td>0.720961</td><td>0.291917</td><td>0.993644</td><td>0.10526</td><td>0.269075</td><td>0.808239</td><td>0.179034</td><td>5</td><td>3</td><td>1</td></tr><tr><td>46558736</td><td>7213923</td><td>1885995</td><td>0</td><td>2</td><td>25.0</td><td>null</td><td>false</td><td>2</td><td>null</td><td>false</td><td>5</td><td>26</td><td>64</td><td>94</td><td>1</td><td>6</td><td>0.40625</td><td>0.276596</td><td>0.105263</td><td>true</td><td>565</td><td>0.8109</td><td>&quot;Neutral&quot;</td><td>5</td><td>10</td><td>42</td><td>1048</td><td>4</td><td>null</td><td>null</td><td>null</td><td>null</td><td>&quot;article_default&quot;</td><td>1766</td><td>42385</td><td>false</td><td>&hellip;</td><td>2.5383</td><td>2.609011</td><td>2.512937</td><td>2.704911</td><td>2.545427</td><td>NaN</td><td>2.441637</td><td>2.554746</td><td>2.483112</td><td>2.606141</td><td>2.522325</td><td>2.387892</td><td>-98.0</td><td>-1373.0</td><td>null</td><td>-0.074603</td><td>0.002056</td><td>-0.228412</td><td>42383.0</td><td>null</td><td>null</td><td>-95.0</td><td>-0.09143</td><td>-217.0</td><td>null</td><td>0.093726</td><td>0.196071</td><td>0.89184</td><td>0.124086</td><td>0.998281</td><td>0.045365</td><td>0.194879</td><td>0.848475</td><td>0.144924</td><td>6</td><td>3</td><td>1</td></tr><tr><td>470321755</td><td>9504105</td><td>594528</td><td>0</td><td>2</td><td>0.0</td><td>100.0</td><td>false</td><td>2</td><td>null</td><td>false</td><td>5</td><td>84</td><td>249</td><td>393</td><td>2</td><td>19</td><td>0.337349</td><td>0.21374</td><td>0.394612</td><td>true</td><td>142</td><td>0.8874</td><td>&quot;Positive&quot;</td><td>5</td><td>7</td><td>44</td><td>836</td><td>2</td><td>null</td><td>null</td><td>null</td><td>null</td><td>&quot;article_default&quot;</td><td>203</td><td>4895</td><td>true</td><td>&hellip;</td><td>3.224331</td><td>3.149038</td><td>NaN</td><td>3.427022</td><td>NaN</td><td>NaN</td><td>3.018402</td><td>2.828171</td><td>3.191193</td><td>NaN</td><td>3.153275</td><td>3.059159</td><td>121.0</td><td>-737.0</td><td>null</td><td>0.20034</td><td>0.079726</td><td>0.402638</td><td>4892.0</td><td>null</td><td>null</td><td>27.0</td><td>0.075762</td><td>185.0</td><td>null</td><td>0.495476</td><td>0.434085</td><td>0.963454</td><td>0.572476</td><td>0.992699</td><td>0.629829</td><td>0.499302</td><td>0.864027</td><td>0.71809</td><td>8</td><td>3</td><td>2</td></tr><tr><td>214849994</td><td>9279095</td><td>811018</td><td>0</td><td>1</td><td>12.0</td><td>null</td><td>false</td><td>2</td><td>null</td><td>false</td><td>5</td><td>10</td><td>48</td><td>73</td><td>7</td><td>15</td><td>0.208333</td><td>0.136986</td><td>0.088073</td><td>true</td><td>414</td><td>0.8922</td><td>&quot;Neutral&quot;</td><td>15</td><td>5</td><td>34</td><td>1358</td><td>2</td><td>null</td><td>null</td><td>null</td><td>null</td><td>&quot;article_standard_feature&quot;</td><td>361</td><td>8667</td><td>false</td><td>&hellip;</td><td>1.97702</td><td>1.734625</td><td>2.122262</td><td>2.298575</td><td>2.136155</td><td>1.303762</td><td>1.647051</td><td>1.696444</td><td>1.864146</td><td>2.231121</td><td>2.028662</td><td>1.666511</td><td>-101.0</td><td>-976.0</td><td>null</td><td>-0.008241</td><td>0.009916</td><td>0.112593</td><td>8644.5</td><td>null</td><td>null</td><td>9.0</td><td>-0.003612</td><td>-183.0</td><td>null</td><td>0.330884</td><td>0.328687</td><td>0.903213</td><td>0.480696</td><td>0.993125</td><td>0.176142</td><td>0.323765</td><td>0.878249</td><td>0.406838</td><td>5</td><td>3</td><td>2</td></tr><tr><td>&hellip;</td><td>&hellip;</td><td>&hellip;</td><td>&hellip;</td><td>&hellip;</td><td>&hellip;</td><td>&hellip;</td><td>&hellip;</td><td>&hellip;</td><td>&hellip;</td><td>&hellip;</td><td>&hellip;</td><td>&hellip;</td><td>&hellip;</td><td>&hellip;</td><td>&hellip;</td><td>&hellip;</td><td>&hellip;</td><td>&hellip;</td><td>&hellip;</td><td>&hellip;</td><td>&hellip;</td><td>&hellip;</td><td>&hellip;</td><td>&hellip;</td><td>&hellip;</td><td>&hellip;</td><td>&hellip;</td><td>&hellip;</td><td>&hellip;</td><td>&hellip;</td><td>&hellip;</td><td>&hellip;</td><td>&hellip;</td><td>&hellip;</td><td>&hellip;</td><td>&hellip;</td><td>&hellip;</td><td>&hellip;</td><td>&hellip;</td><td>&hellip;</td><td>&hellip;</td><td>&hellip;</td><td>&hellip;</td><td>&hellip;</td><td>&hellip;</td><td>&hellip;</td><td>&hellip;</td><td>&hellip;</td><td>&hellip;</td><td>&hellip;</td><td>&hellip;</td><td>&hellip;</td><td>&hellip;</td><td>&hellip;</td><td>&hellip;</td><td>&hellip;</td><td>&hellip;</td><td>&hellip;</td><td>&hellip;</td><td>&hellip;</td><td>&hellip;</td><td>&hellip;</td><td>&hellip;</td><td>&hellip;</td><td>&hellip;</td><td>&hellip;</td><td>&hellip;</td><td>&hellip;</td><td>&hellip;</td><td>&hellip;</td><td>&hellip;</td><td>&hellip;</td><td>&hellip;</td><td>&hellip;</td></tr><tr><td>184283316</td><td>9526715</td><td>2530683</td><td>0</td><td>2</td><td>25.0</td><td>null</td><td>false</td><td>2</td><td>null</td><td>false</td><td>5</td><td>16</td><td>46</td><td>109</td><td>7</td><td>19</td><td>0.347826</td><td>0.146789</td><td>0.084404</td><td>true</td><td>457</td><td>0.9216</td><td>&quot;Positive&quot;</td><td>8</td><td>6</td><td>28</td><td>846</td><td>4</td><td>null</td><td>null</td><td>null</td><td>null</td><td>&quot;article_default&quot;</td><td>179</td><td>4306</td><td>true</td><td>&hellip;</td><td>2.579236</td><td>2.549223</td><td>2.392785</td><td>2.769034</td><td>2.455192</td><td>NaN</td><td>2.438128</td><td>2.585122</td><td>2.445014</td><td>2.563066</td><td>2.516468</td><td>2.484598</td><td>-159.0</td><td>851.5</td><td>null</td><td>-0.068041</td><td>-0.010979</td><td>-0.202956</td><td>4305.0</td><td>null</td><td>null</td><td>-66.0</td><td>-0.079315</td><td>-240.5</td><td>null</td><td>0.062263</td><td>0.154296</td><td>0.855596</td><td>0.082469</td><td>0.985806</td><td>0.117577</td><td>0.20303</td><td>0.811139</td><td>0.162312</td><td>7</td><td>3</td><td>1</td></tr><tr><td>90104855</td><td>9538004</td><td>2188571</td><td>0</td><td>1</td><td>88.0</td><td>null</td><td>false</td><td>2</td><td>null</td><td>false</td><td>5</td><td>61</td><td>190</td><td>344</td><td>6</td><td>8</td><td>0.321053</td><td>0.177326</td><td>0.368217</td><td>true</td><td>140</td><td>0.6134</td><td>&quot;Neutral&quot;</td><td>11</td><td>6</td><td>24</td><td>1112</td><td>5</td><td>null</td><td>null</td><td>null</td><td>null</td><td>&quot;article_standard_feature&quot;</td><td>145</td><td>3503</td><td>false</td><td>&hellip;</td><td>3.178899</td><td>3.238027</td><td>3.56544</td><td>3.683996</td><td>3.585115</td><td>1.93449</td><td>3.180917</td><td>3.299404</td><td>3.425413</td><td>3.607439</td><td>3.433167</td><td>3.230481</td><td>72.5</td><td>145.0</td><td>null</td><td>0.009155</td><td>0.013953</td><td>0.037341</td><td>3471.0</td><td>null</td><td>null</td><td>0.0</td><td>0.006474</td><td>154.5</td><td>null</td><td>0.597854</td><td>0.470919</td><td>0.913364</td><td>0.488181</td><td>0.973867</td><td>0.403892</td><td>0.66911</td><td>0.871372</td><td>0.498279</td><td>8</td><td>3</td><td>3</td></tr><tr><td>257661167</td><td>9268227</td><td>2577740</td><td>0</td><td>2</td><td>83.0</td><td>100.0</td><td>true</td><td>0</td><td>50</td><td>false</td><td>5</td><td>45</td><td>155</td><td>290</td><td>6</td><td>17</td><td>0.290323</td><td>0.155172</td><td>0.300388</td><td>true</td><td>140</td><td>0.9946</td><td>&quot;Negative&quot;</td><td>5</td><td>6</td><td>25</td><td>1102</td><td>5</td><td>null</td><td>null</td><td>null</td><td>null</td><td>&quot;article_default&quot;</td><td>361</td><td>8676</td><td>false</td><td>&hellip;</td><td>2.615567</td><td>2.698224</td><td>2.763518</td><td>2.885952</td><td>2.800743</td><td>NaN</td><td>2.487511</td><td>2.639263</td><td>2.779887</td><td>2.778692</td><td>2.726676</td><td>2.495079</td><td>-4.0</td><td>-113.5</td><td>null</td><td>-0.002833</td><td>-0.015208</td><td>-0.008086</td><td>8675.0</td><td>null</td><td>null</td><td>-54.0</td><td>-0.040868</td><td>17.0</td><td>null</td><td>0.617845</td><td>0.433314</td><td>0.831347</td><td>0.59966</td><td>0.987592</td><td>0.329419</td><td>0.643728</td><td>0.798818</td><td>0.439408</td><td>5</td><td>3</td><td>2</td></tr><tr><td>379754148</td><td>9786230</td><td>1567717</td><td>0</td><td>1</td><td>110.0</td><td>100.0</td><td>false</td><td>2</td><td>null</td><td>false</td><td>5</td><td>69</td><td>250</td><td>413</td><td>1</td><td>11</td><td>0.276</td><td>0.16707</td><td>0.411184</td><td>false</td><td>142</td><td>0.9891</td><td>&quot;Negative&quot;</td><td>2</td><td>6</td><td>14</td><td>263</td><td>4</td><td>62719</td><td>288112</td><td>2.380866e6</td><td>0.21769</td><td>&quot;article_default&quot;</td><td>0</td><td>3</td><td>false</td><td>&hellip;</td><td>0.693936</td><td>1.919736</td><td>1.902583</td><td>1.944614</td><td>1.896908</td><td>NaN</td><td>1.818739</td><td>1.884916</td><td>1.858519</td><td>1.90391</td><td>1.926037</td><td>1.836109</td><td>-48.0</td><td>1589.0</td><td>0.068483</td><td>-0.043218</td><td>0.0</td><td>-0.088774</td><td>0.0</td><td>4351.0</td><td>-26080.0</td><td>0.0</td><td>-0.014528</td><td>-71.0</td><td>-600245.0</td><td>0.522058</td><td>0.630632</td><td>0.892089</td><td>0.611012</td><td>0.058824</td><td>0.387504</td><td>0.446642</td><td>0.860705</td><td>0.584431</td><td>3</td><td>2</td><td>1</td></tr><tr><td>387804927</td><td>9780815</td><td>1477863</td><td>0</td><td>1</td><td>65.0</td><td>100.0</td><td>false</td><td>2</td><td>null</td><td>false</td><td>5</td><td>53</td><td>161</td><td>274</td><td>1</td><td>21</td><td>0.329193</td><td>0.193431</td><td>0.264803</td><td>true</td><td>414</td><td>0.8868</td><td>&quot;Negative&quot;</td><td>6</td><td>10</td><td>19</td><td>1127</td><td>4</td><td>63246</td><td>515693</td><td>2.941241e6</td><td>0.122643</td><td>&quot;article_default&quot;</td><td>0</td><td>15</td><td>true</td><td>&hellip;</td><td>2.027107</td><td>2.332453</td><td>2.380085</td><td>2.39675</td><td>2.375729</td><td>NaN</td><td>2.187124</td><td>2.319345</td><td>2.199281</td><td>2.36406</td><td>2.205605</td><td>2.091642</td><td>0.0</td><td>618.0</td><td>-0.058693</td><td>-0.007615</td><td>0.012926</td><td>-0.035557</td><td>14.0</td><td>-33912.0</td><td>-20099.0</td><td>-1.0</td><td>-0.072974</td><td>0.0</td><td>-318377.0</td><td>0.461498</td><td>0.362624</td><td>0.854774</td><td>0.233633</td><td>0.211268</td><td>0.266637</td><td>0.469551</td><td>0.80592</td><td>0.307582</td><td>5</td><td>3</td><td>2</td></tr></tbody></table></div>"
      ],
      "text/plain": [
       "shape: (2_928_942, 254)\n",
       "┌─────────────┬─────────┬─────────┬────────┬───┬────────────┬────────────┬────────────┬────────────┐\n",
       "│ impression_ ┆ article ┆ user_id ┆ target ┆ … ┆ topics_cos ┆ category_d ┆ sentiment_ ┆ article_ty │\n",
       "│ id          ┆ ---     ┆ ---     ┆ ---    ┆   ┆ ine_l_inf_ ┆ iversity_i ┆ label_dive ┆ pe_diversi │\n",
       "│ ---         ┆ i32     ┆ u32     ┆ i8     ┆   ┆ article    ┆ mpression  ┆ rsity_impr ┆ ty_impress │\n",
       "│ u32         ┆         ┆         ┆        ┆   ┆ ---        ┆ ---        ┆ …          ┆ …          │\n",
       "│             ┆         ┆         ┆        ┆   ┆ f32        ┆ u32        ┆ ---        ┆ ---        │\n",
       "│             ┆         ┆         ┆        ┆   ┆            ┆            ┆ u32        ┆ u32        │\n",
       "╞═════════════╪═════════╪═════════╪════════╪═══╪════════════╪════════════╪════════════╪════════════╡\n",
       "│ 205373625   ┆ 9785030 ┆ 1801226 ┆ 0      ┆ … ┆ 0.272875   ┆ 8          ┆ 3          ┆ 3          │\n",
       "│ 456698625   ┆ 9553264 ┆ 1757180 ┆ 0      ┆ … ┆ 0.179034   ┆ 5          ┆ 3          ┆ 1          │\n",
       "│ 46558736    ┆ 7213923 ┆ 1885995 ┆ 0      ┆ … ┆ 0.144924   ┆ 6          ┆ 3          ┆ 1          │\n",
       "│ 470321755   ┆ 9504105 ┆ 594528  ┆ 0      ┆ … ┆ 0.71809    ┆ 8          ┆ 3          ┆ 2          │\n",
       "│ 214849994   ┆ 9279095 ┆ 811018  ┆ 0      ┆ … ┆ 0.406838   ┆ 5          ┆ 3          ┆ 2          │\n",
       "│ …           ┆ …       ┆ …       ┆ …      ┆ … ┆ …          ┆ …          ┆ …          ┆ …          │\n",
       "│ 184283316   ┆ 9526715 ┆ 2530683 ┆ 0      ┆ … ┆ 0.162312   ┆ 7          ┆ 3          ┆ 1          │\n",
       "│ 90104855    ┆ 9538004 ┆ 2188571 ┆ 0      ┆ … ┆ 0.498279   ┆ 8          ┆ 3          ┆ 3          │\n",
       "│ 257661167   ┆ 9268227 ┆ 2577740 ┆ 0      ┆ … ┆ 0.439408   ┆ 5          ┆ 3          ┆ 2          │\n",
       "│ 379754148   ┆ 9786230 ┆ 1567717 ┆ 0      ┆ … ┆ 0.584431   ┆ 3          ┆ 2          ┆ 1          │\n",
       "│ 387804927   ┆ 9780815 ┆ 1477863 ┆ 0      ┆ … ┆ 0.307582   ┆ 5          ┆ 3          ┆ 2          │\n",
       "└─────────────┴─────────┴─────────┴────────┴───┴────────────┴────────────┴────────────┴────────────┘"
      ]
     },
     "execution_count": 62,
     "metadata": {},
     "output_type": "execute_result"
    }
   ],
   "source": [
    "val_ds = pl.read_parquet('/mnt/ebs_volume/recsys2024/preprocessing/small_ds/validation/val_ds.parquet')\n",
    "val_ds "
   ]
  },
  {
   "cell_type": "code",
   "execution_count": 63,
   "metadata": {},
   "outputs": [
    {
     "name": "stdout",
     "output_type": "stream",
     "text": [
      "File loaded at: /home/ubuntu/recsys2024/urm/recsys/small/URM_validation.npz\n",
      "ItemKNNCBFRecommender: URM Detected 3485 (18.5%) users with no interactions.\n",
      "ItemKNNCBFRecommender: URM Detected 12029 (58.0%) items with no interactions.\n",
      "Similarity column 20738 (100.0%), 213.37 column/sec. Elapsed time 1.62 min\n",
      "ItemKNNCBFRecommender: URM Detected 3485 (18.5%) users with no interactions.\n",
      "ItemKNNCBFRecommender: URM Detected 12029 (58.0%) items with no interactions.\n",
      "Compute_Similarity: detected dense matrix\n",
      "Similarity column 20738 (100.0%), 295.38 column/sec. Elapsed time 1.17 min\n",
      "ItemKNNCBFRecommender: URM Detected 3485 (18.5%) users with no interactions.\n",
      "ItemKNNCBFRecommender: URM Detected 12029 (58.0%) items with no interactions.\n",
      "Similarity column 20738 (100.0%), 665.00 column/sec. Elapsed time 31.18 sec\n",
      "ItemKNNCBFRecommender: URM Detected 3485 (18.5%) users with no interactions.\n",
      "ItemKNNCBFRecommender: URM Detected 12029 (58.0%) items with no interactions.\n",
      "Compute_Similarity: detected dense matrix\n",
      "Similarity column 20738 (100.0%), 284.30 column/sec. Elapsed time 1.22 min\n",
      "ItemKNNCBFRecommender: URM Detected 3485 (18.5%) users with no interactions.\n",
      "ItemKNNCBFRecommender: URM Detected 12029 (58.0%) items with no interactions.\n",
      "ItemKNNCBFRecommender: ICM Detected 18 ( 0.1%) items with no features.\n",
      "Compute_Similarity: detected dense matrix\n",
      "Similarity column 20738 (100.0%), 559.77 column/sec. Elapsed time 37.05 sec\n",
      "ItemKNNCBFRecommender: URM Detected 3485 (18.5%) users with no interactions.\n",
      "ItemKNNCBFRecommender: URM Detected 12029 (58.0%) items with no interactions.\n",
      "Compute_Similarity: detected dense matrix\n",
      "Similarity column 20738 (100.0%), 463.41 column/sec. Elapsed time 44.75 sec\n",
      "ItemKNNCBFRecommender: URM Detected 3485 (18.5%) users with no interactions.\n",
      "ItemKNNCBFRecommender: URM Detected 12029 (58.0%) items with no interactions.\n",
      "Compute_Similarity: detected dense matrix\n",
      "Similarity column 20738 (100.0%), 248.81 column/sec. Elapsed time 1.39 min\n",
      "SLIM_BPR_Cython: URM Detected 3485 (18.5%) users with no interactions.\n",
      "SLIM_BPR_Cython: URM Detected 12029 (58.0%) items with no interactions.\n",
      "SLIM_BPR_Cython: Loading model from file '/home/ubuntu/recsys2024/algo/recsys/small/validation/SLIM_BPR_Cython'\n",
      "SLIM_BPR_Cython: Loading complete\n",
      "ItemKNNCFRecommender: URM Detected 3485 (18.5%) users with no interactions.\n",
      "ItemKNNCFRecommender: URM Detected 12029 (58.0%) items with no interactions.\n",
      "ItemKNNCFRecommender: Loading model from file '/home/ubuntu/recsys2024/algo/recsys/small/validation/ItemKNNCFRecommender'\n",
      "ItemKNNCFRecommender: Loading complete\n",
      "PureSVDItemRecommender: URM Detected 3485 (18.5%) users with no interactions.\n",
      "PureSVDItemRecommender: URM Detected 12029 (58.0%) items with no interactions.\n",
      "PureSVDItemRecommender: Loading model from file '/home/ubuntu/recsys2024/algo/recsys/small/validation/PureSVDItemRecommender'\n",
      "PureSVDItemRecommender: Loading complete\n",
      "PureSVDRecommender: URM Detected 3485 (18.5%) users with no interactions.\n",
      "PureSVDRecommender: URM Detected 12029 (58.0%) items with no interactions.\n",
      "PureSVDRecommender: Loading model from file '/home/ubuntu/recsys2024/algo/recsys/small/validation/PureSVDRecommender'\n",
      "PureSVDRecommender: Loading complete\n",
      "RP3betaRecommender: URM Detected 3485 (18.5%) users with no interactions.\n",
      "RP3betaRecommender: URM Detected 12029 (58.0%) items with no interactions.\n",
      "RP3betaRecommender: Loading model from file '/home/ubuntu/recsys2024/algo/recsys/small/validation/RP3betaRecommender'\n",
      "RP3betaRecommender: Loading complete\n",
      "Memory usage of dataframe is 167.60 MB\n",
      "Memory usage after optimization is: 167.60 MB\n",
      "Decreased by 0.0%\n",
      "Built recsys scores features in 3.5 minutes\n"
     ]
    }
   ],
   "source": [
    "URM_validation = load_sparse_csr(Path('/home/ubuntu/recsys2024/urm/recsys/small/URM_validation.npz'))\n",
    "\n",
    "\"\"\"\n",
    "#train everything\n",
    "recs = []\n",
    "for icm in ICMs:\n",
    "    rec_instance = ItemKNNCBFRecommender(URM_train=URM_validation, ICM_train=icm)\n",
    "    rec_instance.fit()\n",
    "    recs.append(rec_instance)\n",
    "\"\"\"\n",
    "recs = []\n",
    "\n",
    "bert = ItemKNNCBFRecommender(URM_train=URM_validation,ICM_train=ICMs[0])\n",
    "bert.fit(similarity= 'euclidean', topK= 1457, shrink= 329, normalize_avg_row= True, similarity_from_distance_mode= 'exp', normalize= False) \n",
    "recs.append(bert)\n",
    "\n",
    "contrastive = ItemKNNCBFRecommender(URM_train=URM_validation,ICM_train=ICMs[1])\n",
    "contrastive.fit(similarity= 'asymmetric', topK= 192, shrink= 569, asymmetric_alpha= 0.9094884938503743) \n",
    "recs.append(contrastive)\n",
    "\n",
    "emotion = ItemKNNCBFRecommender(URM_train=URM_validation,ICM_train=ICMs[2])\n",
    "emotion.fit(similarity= 'euclidean', topK= 1099, shrink= 752, normalize_avg_row= True, similarity_from_distance_mode= 'lin', normalize= False) \n",
    "recs.append(emotion)\n",
    "\n",
    "roberta = ItemKNNCBFRecommender(URM_train=URM_validation,ICM_train=ICMs[3])\n",
    "roberta.fit(similarity= 'cosine', topK= 363, shrink= 29) \n",
    "recs.append(roberta)\n",
    "\n",
    "w_2_vec = ItemKNNCBFRecommender(URM_train=URM_validation,ICM_train=ICMs[4])\n",
    "w_2_vec.fit(similarity= 'cosine', topK= 359, shrink= 562) \n",
    "recs.append(w_2_vec)\n",
    "\n",
    "kenneth = ItemKNNCBFRecommender(URM_train=URM_validation,ICM_train=ICMs[5])\n",
    "kenneth.fit(similarity= 'asymmetric', topK= 303, shrink= 574, asymmetric_alpha= 1.7852169782747023) \n",
    "recs.append(kenneth)\n",
    "\n",
    "distilbert = ItemKNNCBFRecommender(URM_train=URM_validation,ICM_train=ICMs[6])\n",
    "distilbert.fit(similarity= 'asymmetric', topK= 921, shrink= 1, asymmetric_alpha= 0.774522157812755) \n",
    "recs.append(distilbert)\n",
    "\n",
    "\n",
    "recs.extend(load_recommenders(URM_validation, Path('/home/ubuntu/recsys2024/algo/recsys/small/validation')))\n",
    "\n",
    "\n",
    "recsys_features = build_recsys_features(history=history_train.vstack(history_val),behaviors=behaviors_val,articles=articles,recs=recs)"
   ]
  },
  {
   "cell_type": "code",
   "execution_count": 64,
   "metadata": {},
   "outputs": [
    {
     "data": {
      "text/html": [
       "<div><style>\n",
       ".dataframe > thead > tr,\n",
       ".dataframe > tbody > tr {\n",
       "  text-align: right;\n",
       "  white-space: pre-wrap;\n",
       "}\n",
       "</style>\n",
       "<small>shape: (2_928_942, 266)</small><table border=\"1\" class=\"dataframe\"><thead><tr><th>impression_id</th><th>article</th><th>user_id</th><th>target</th><th>device_type</th><th>read_time</th><th>scroll_percentage</th><th>is_sso_user</th><th>gender</th><th>age</th><th>is_subscriber</th><th>postcode</th><th>trendiness_score_1d</th><th>trendiness_score_3d</th><th>trendiness_score_5d</th><th>weekday</th><th>hour</th><th>trendiness_score_1d/3d</th><th>trendiness_score_1d/5d</th><th>normalized_trendiness_score_overall</th><th>premium</th><th>category</th><th>sentiment_score</th><th>sentiment_label</th><th>num_images</th><th>title_len</th><th>subtitle_len</th><th>body_len</th><th>num_topics</th><th>total_pageviews</th><th>total_inviews</th><th>total_read_time</th><th>total_pageviews/inviews</th><th>article_type</th><th>article_delay_days</th><th>article_delay_hours</th><th>Entity_EVENT_Present</th><th>&hellip;</th><th>trendiness_score_3d_minus_median_impression</th><th>endorsement_10h_minus_median_impression</th><th>total_pageviews/inviews_minus_median_impression</th><th>mean_JS_minus_median_impression</th><th>mean_topic_model_cosine_minus_median_impression</th><th>topics_cosine_minus_median_impression</th><th>article_delay_hours_minus_median_impression</th><th>total_pageviews_minus_median_impression</th><th>total_inviews_minus_median_impression</th><th>trendiness_score_category_minus_median_impression</th><th>std_JS_minus_median_impression</th><th>trendiness_score_5d_minus_median_impression</th><th>total_read_time_minus_median_impression</th><th>mean_JS_l_inf_user</th><th>std_JS_l_inf_user</th><th>mean_topic_model_cosine_l_inf_user</th><th>topics_cosine_l_inf_user</th><th>article_delay_hours_l_inf_article</th><th>mean_JS_l_inf_article</th><th>std_JS_l_inf_article</th><th>mean_topic_model_cosine_l_inf_article</th><th>topics_cosine_l_inf_article</th><th>category_diversity_impression</th><th>sentiment_label_diversity_impression</th><th>article_type_diversity_impression</th><th>recs0</th><th>recs1</th><th>recs2</th><th>recs3</th><th>recs4</th><th>recs5</th><th>recs6</th><th>recs7</th><th>recs8</th><th>recs9</th><th>recs10</th><th>recs11</th></tr><tr><td>u32</td><td>i32</td><td>u32</td><td>i8</td><td>i8</td><td>f32</td><td>f32</td><td>bool</td><td>i8</td><td>i8</td><td>bool</td><td>i8</td><td>i16</td><td>i16</td><td>i16</td><td>i8</td><td>i8</td><td>f32</td><td>f32</td><td>f32</td><td>bool</td><td>i16</td><td>f32</td><td>str</td><td>u32</td><td>u8</td><td>u8</td><td>u16</td><td>u32</td><td>i32</td><td>i32</td><td>f32</td><td>f32</td><td>str</td><td>i16</td><td>i32</td><td>bool</td><td>&hellip;</td><td>f64</td><td>f64</td><td>f32</td><td>f32</td><td>f32</td><td>f32</td><td>f64</td><td>f64</td><td>f64</td><td>f64</td><td>f32</td><td>f64</td><td>f32</td><td>f32</td><td>f32</td><td>f32</td><td>f32</td><td>f64</td><td>f32</td><td>f32</td><td>f32</td><td>f32</td><td>u32</td><td>u32</td><td>u32</td><td>f32</td><td>f32</td><td>f32</td><td>f32</td><td>f32</td><td>f32</td><td>f32</td><td>f32</td><td>f32</td><td>f32</td><td>f32</td><td>f32</td></tr></thead><tbody><tr><td>205373625</td><td>9785030</td><td>1801226</td><td>0</td><td>2</td><td>251.0</td><td>null</td><td>true</td><td>0</td><td>null</td><td>true</td><td>5</td><td>30</td><td>80</td><td>162</td><td>7</td><td>17</td><td>0.375</td><td>0.185185</td><td>0.146789</td><td>false</td><td>414</td><td>0.9167</td><td>&quot;Positive&quot;</td><td>3</td><td>6</td><td>31</td><td>426</td><td>3</td><td>37391</td><td>349453</td><td>2.850225e6</td><td>0.106999</td><td>&quot;article_default&quot;</td><td>0</td><td>2</td><td>false</td><td>&hellip;</td><td>-139.0</td><td>69.0</td><td>-0.021321</td><td>-0.059766</td><td>0.077358</td><td>-0.207508</td><td>-3.0</td><td>-15276.5</td><td>-34312.5</td><td>-67.0</td><td>-0.035288</td><td>-253.0</td><td>-770304.0</td><td>0.291109</td><td>0.442209</td><td>0.972551</td><td>0.25217</td><td>0.025974</td><td>0.253</td><td>0.421015</td><td>0.879186</td><td>0.272875</td><td>8</td><td>3</td><td>3</td><td>0.021209</td><td>0.003938</td><td>0.002659</td><td>1.847019</td><td>0.003426</td><td>0.00839</td><td>6.477491</td><td>0.0</td><td>0.0</td><td>0.0</td><td>0.0</td><td>0.0</td></tr><tr><td>456698625</td><td>9553264</td><td>1757180</td><td>0</td><td>2</td><td>34.0</td><td>null</td><td>false</td><td>2</td><td>null</td><td>false</td><td>5</td><td>55</td><td>105</td><td>190</td><td>3</td><td>5</td><td>0.52381</td><td>0.289474</td><td>0.173267</td><td>true</td><td>457</td><td>0.8349</td><td>&quot;Neutral&quot;</td><td>1</td><td>6</td><td>20</td><td>718</td><td>3</td><td>null</td><td>null</td><td>null</td><td>null</td><td>&quot;article_default&quot;</td><td>162</td><td>3908</td><td>false</td><td>&hellip;</td><td>-80.0</td><td>-377.0</td><td>null</td><td>-0.007509</td><td>-0.09586</td><td>-0.077113</td><td>3906.0</td><td>null</td><td>null</td><td>-96.0</td><td>0.000809</td><td>-89.0</td><td>null</td><td>0.324542</td><td>0.586527</td><td>0.720961</td><td>0.291917</td><td>0.993644</td><td>0.10526</td><td>0.269075</td><td>0.808239</td><td>0.179034</td><td>5</td><td>3</td><td>1</td><td>0.015149</td><td>0.002591</td><td>0.006649</td><td>0.923482</td><td>0.0</td><td>0.0</td><td>6.733219</td><td>0.0</td><td>0.0</td><td>0.000602</td><td>-0.000296</td><td>0.0</td></tr><tr><td>46558736</td><td>7213923</td><td>1885995</td><td>0</td><td>2</td><td>25.0</td><td>null</td><td>false</td><td>2</td><td>null</td><td>false</td><td>5</td><td>26</td><td>64</td><td>94</td><td>1</td><td>6</td><td>0.40625</td><td>0.276596</td><td>0.105263</td><td>true</td><td>565</td><td>0.8109</td><td>&quot;Neutral&quot;</td><td>5</td><td>10</td><td>42</td><td>1048</td><td>4</td><td>null</td><td>null</td><td>null</td><td>null</td><td>&quot;article_default&quot;</td><td>1766</td><td>42385</td><td>false</td><td>&hellip;</td><td>-98.0</td><td>-1373.0</td><td>null</td><td>-0.074603</td><td>0.002056</td><td>-0.228412</td><td>42383.0</td><td>null</td><td>null</td><td>-95.0</td><td>-0.09143</td><td>-217.0</td><td>null</td><td>0.093726</td><td>0.196071</td><td>0.89184</td><td>0.124086</td><td>0.998281</td><td>0.045365</td><td>0.194879</td><td>0.848475</td><td>0.144924</td><td>6</td><td>3</td><td>1</td><td>0.051507</td><td>0.0</td><td>0.041221</td><td>1.846899</td><td>0.0</td><td>0.001554</td><td>23.223677</td><td>0.015117</td><td>0.023968</td><td>0.157036</td><td>0.05609</td><td>0.014369</td></tr><tr><td>470321755</td><td>9504105</td><td>594528</td><td>0</td><td>2</td><td>0.0</td><td>100.0</td><td>false</td><td>2</td><td>null</td><td>false</td><td>5</td><td>84</td><td>249</td><td>393</td><td>2</td><td>19</td><td>0.337349</td><td>0.21374</td><td>0.394612</td><td>true</td><td>142</td><td>0.8874</td><td>&quot;Positive&quot;</td><td>5</td><td>7</td><td>44</td><td>836</td><td>2</td><td>null</td><td>null</td><td>null</td><td>null</td><td>&quot;article_default&quot;</td><td>203</td><td>4895</td><td>true</td><td>&hellip;</td><td>121.0</td><td>-737.0</td><td>null</td><td>0.20034</td><td>0.079726</td><td>0.402638</td><td>4892.0</td><td>null</td><td>null</td><td>27.0</td><td>0.075762</td><td>185.0</td><td>null</td><td>0.495476</td><td>0.434085</td><td>0.963454</td><td>0.572476</td><td>0.992699</td><td>0.629829</td><td>0.499302</td><td>0.864027</td><td>0.71809</td><td>8</td><td>3</td><td>2</td><td>0.00303</td><td>0.002891</td><td>0.002659</td><td>0.923502</td><td>0.0</td><td>0.001401</td><td>0.972498</td><td>0.0</td><td>0.0</td><td>0.000044</td><td>-0.000059</td><td>0.0</td></tr><tr><td>214849994</td><td>9279095</td><td>811018</td><td>0</td><td>1</td><td>12.0</td><td>null</td><td>false</td><td>2</td><td>null</td><td>false</td><td>5</td><td>10</td><td>48</td><td>73</td><td>7</td><td>15</td><td>0.208333</td><td>0.136986</td><td>0.088073</td><td>true</td><td>414</td><td>0.8922</td><td>&quot;Neutral&quot;</td><td>15</td><td>5</td><td>34</td><td>1358</td><td>2</td><td>null</td><td>null</td><td>null</td><td>null</td><td>&quot;article_standard_feature&quot;</td><td>361</td><td>8667</td><td>false</td><td>&hellip;</td><td>-101.0</td><td>-976.0</td><td>null</td><td>-0.008241</td><td>0.009916</td><td>0.112593</td><td>8644.5</td><td>null</td><td>null</td><td>9.0</td><td>-0.003612</td><td>-183.0</td><td>null</td><td>0.330884</td><td>0.328687</td><td>0.903213</td><td>0.480696</td><td>0.993125</td><td>0.176142</td><td>0.323765</td><td>0.878249</td><td>0.406838</td><td>5</td><td>3</td><td>2</td><td>0.006059</td><td>0.00102</td><td>0.007977</td><td>1.846672</td><td>0.004997</td><td>0.000631</td><td>3.87116</td><td>0.0</td><td>0.0</td><td>0.002322</td><td>0.001932</td><td>0.0</td></tr><tr><td>&hellip;</td><td>&hellip;</td><td>&hellip;</td><td>&hellip;</td><td>&hellip;</td><td>&hellip;</td><td>&hellip;</td><td>&hellip;</td><td>&hellip;</td><td>&hellip;</td><td>&hellip;</td><td>&hellip;</td><td>&hellip;</td><td>&hellip;</td><td>&hellip;</td><td>&hellip;</td><td>&hellip;</td><td>&hellip;</td><td>&hellip;</td><td>&hellip;</td><td>&hellip;</td><td>&hellip;</td><td>&hellip;</td><td>&hellip;</td><td>&hellip;</td><td>&hellip;</td><td>&hellip;</td><td>&hellip;</td><td>&hellip;</td><td>&hellip;</td><td>&hellip;</td><td>&hellip;</td><td>&hellip;</td><td>&hellip;</td><td>&hellip;</td><td>&hellip;</td><td>&hellip;</td><td>&hellip;</td><td>&hellip;</td><td>&hellip;</td><td>&hellip;</td><td>&hellip;</td><td>&hellip;</td><td>&hellip;</td><td>&hellip;</td><td>&hellip;</td><td>&hellip;</td><td>&hellip;</td><td>&hellip;</td><td>&hellip;</td><td>&hellip;</td><td>&hellip;</td><td>&hellip;</td><td>&hellip;</td><td>&hellip;</td><td>&hellip;</td><td>&hellip;</td><td>&hellip;</td><td>&hellip;</td><td>&hellip;</td><td>&hellip;</td><td>&hellip;</td><td>&hellip;</td><td>&hellip;</td><td>&hellip;</td><td>&hellip;</td><td>&hellip;</td><td>&hellip;</td><td>&hellip;</td><td>&hellip;</td><td>&hellip;</td><td>&hellip;</td><td>&hellip;</td><td>&hellip;</td><td>&hellip;</td></tr><tr><td>184283316</td><td>9526715</td><td>2530683</td><td>0</td><td>2</td><td>25.0</td><td>null</td><td>false</td><td>2</td><td>null</td><td>false</td><td>5</td><td>16</td><td>46</td><td>109</td><td>7</td><td>19</td><td>0.347826</td><td>0.146789</td><td>0.084404</td><td>true</td><td>457</td><td>0.9216</td><td>&quot;Positive&quot;</td><td>8</td><td>6</td><td>28</td><td>846</td><td>4</td><td>null</td><td>null</td><td>null</td><td>null</td><td>&quot;article_default&quot;</td><td>179</td><td>4306</td><td>true</td><td>&hellip;</td><td>-159.0</td><td>851.5</td><td>null</td><td>-0.068041</td><td>-0.010979</td><td>-0.202956</td><td>4305.0</td><td>null</td><td>null</td><td>-66.0</td><td>-0.079315</td><td>-240.5</td><td>null</td><td>0.062263</td><td>0.154296</td><td>0.855596</td><td>0.082469</td><td>0.985806</td><td>0.117577</td><td>0.20303</td><td>0.811139</td><td>0.162312</td><td>7</td><td>3</td><td>1</td><td>0.027268</td><td>0.0</td><td>0.014627</td><td>0.923503</td><td>0.0</td><td>0.001578</td><td>6.413106</td><td>0.0</td><td>0.0</td><td>0.0</td><td>0.0</td><td>0.0</td></tr><tr><td>90104855</td><td>9538004</td><td>2188571</td><td>0</td><td>1</td><td>88.0</td><td>null</td><td>false</td><td>2</td><td>null</td><td>false</td><td>5</td><td>61</td><td>190</td><td>344</td><td>6</td><td>8</td><td>0.321053</td><td>0.177326</td><td>0.368217</td><td>true</td><td>140</td><td>0.6134</td><td>&quot;Neutral&quot;</td><td>11</td><td>6</td><td>24</td><td>1112</td><td>5</td><td>null</td><td>null</td><td>null</td><td>null</td><td>&quot;article_standard_feature&quot;</td><td>145</td><td>3503</td><td>false</td><td>&hellip;</td><td>72.5</td><td>145.0</td><td>null</td><td>0.009155</td><td>0.013953</td><td>0.037341</td><td>3471.0</td><td>null</td><td>null</td><td>0.0</td><td>0.006474</td><td>154.5</td><td>null</td><td>0.597854</td><td>0.470919</td><td>0.913364</td><td>0.488181</td><td>0.973867</td><td>0.403892</td><td>0.66911</td><td>0.871372</td><td>0.498279</td><td>8</td><td>3</td><td>3</td><td>0.060592</td><td>0.006897</td><td>0.031913</td><td>2.77046</td><td>0.001709</td><td>0.002103</td><td>19.671782</td><td>0.0</td><td>0.0</td><td>0.004847</td><td>-0.000262</td><td>0.0</td></tr><tr><td>257661167</td><td>9268227</td><td>2577740</td><td>0</td><td>2</td><td>83.0</td><td>100.0</td><td>true</td><td>0</td><td>50</td><td>false</td><td>5</td><td>45</td><td>155</td><td>290</td><td>6</td><td>17</td><td>0.290323</td><td>0.155172</td><td>0.300388</td><td>true</td><td>140</td><td>0.9946</td><td>&quot;Negative&quot;</td><td>5</td><td>6</td><td>25</td><td>1102</td><td>5</td><td>null</td><td>null</td><td>null</td><td>null</td><td>&quot;article_default&quot;</td><td>361</td><td>8676</td><td>false</td><td>&hellip;</td><td>-4.0</td><td>-113.5</td><td>null</td><td>-0.002833</td><td>-0.015208</td><td>-0.008086</td><td>8675.0</td><td>null</td><td>null</td><td>-54.0</td><td>-0.040868</td><td>17.0</td><td>null</td><td>0.617845</td><td>0.433314</td><td>0.831347</td><td>0.59966</td><td>0.987592</td><td>0.329419</td><td>0.643728</td><td>0.798818</td><td>0.439408</td><td>5</td><td>3</td><td>2</td><td>0.021208</td><td>0.001271</td><td>0.006649</td><td>0.0</td><td>0.001696</td><td>0.000696</td><td>2.827932</td><td>0.0</td><td>0.0</td><td>0.007424</td><td>0.005384</td><td>0.0</td></tr><tr><td>379754148</td><td>9786230</td><td>1567717</td><td>0</td><td>1</td><td>110.0</td><td>100.0</td><td>false</td><td>2</td><td>null</td><td>false</td><td>5</td><td>69</td><td>250</td><td>413</td><td>1</td><td>11</td><td>0.276</td><td>0.16707</td><td>0.411184</td><td>false</td><td>142</td><td>0.9891</td><td>&quot;Negative&quot;</td><td>2</td><td>6</td><td>14</td><td>263</td><td>4</td><td>62719</td><td>288112</td><td>2.380866e6</td><td>0.21769</td><td>&quot;article_default&quot;</td><td>0</td><td>3</td><td>false</td><td>&hellip;</td><td>-48.0</td><td>1589.0</td><td>0.068483</td><td>-0.043218</td><td>0.0</td><td>-0.088774</td><td>0.0</td><td>4351.0</td><td>-26080.0</td><td>0.0</td><td>-0.014528</td><td>-71.0</td><td>-600245.0</td><td>0.522058</td><td>0.630632</td><td>0.892089</td><td>0.611012</td><td>0.058824</td><td>0.387504</td><td>0.446642</td><td>0.860705</td><td>0.584431</td><td>3</td><td>2</td><td>1</td><td>0.148443</td><td>0.009452</td><td>0.031912</td><td>12.928853</td><td>0.028079</td><td>0.004313</td><td>11.323422</td><td>0.0</td><td>0.0</td><td>0.0</td><td>0.0</td><td>0.0</td></tr><tr><td>387804927</td><td>9780815</td><td>1477863</td><td>0</td><td>1</td><td>65.0</td><td>100.0</td><td>false</td><td>2</td><td>null</td><td>false</td><td>5</td><td>53</td><td>161</td><td>274</td><td>1</td><td>21</td><td>0.329193</td><td>0.193431</td><td>0.264803</td><td>true</td><td>414</td><td>0.8868</td><td>&quot;Negative&quot;</td><td>6</td><td>10</td><td>19</td><td>1127</td><td>4</td><td>63246</td><td>515693</td><td>2.941241e6</td><td>0.122643</td><td>&quot;article_default&quot;</td><td>0</td><td>15</td><td>true</td><td>&hellip;</td><td>0.0</td><td>618.0</td><td>-0.058693</td><td>-0.007615</td><td>0.012926</td><td>-0.035557</td><td>14.0</td><td>-33912.0</td><td>-20099.0</td><td>-1.0</td><td>-0.072974</td><td>0.0</td><td>-318377.0</td><td>0.461498</td><td>0.362624</td><td>0.854774</td><td>0.233633</td><td>0.211268</td><td>0.266637</td><td>0.469551</td><td>0.80592</td><td>0.307582</td><td>5</td><td>3</td><td>2</td><td>0.027269</td><td>0.0</td><td>0.010638</td><td>2.770207</td><td>0.0</td><td>0.001879</td><td>10.721784</td><td>0.0</td><td>0.0</td><td>0.0</td><td>0.0</td><td>0.0</td></tr></tbody></table></div>"
      ],
      "text/plain": [
       "shape: (2_928_942, 266)\n",
       "┌───────────────┬─────────┬─────────┬────────┬───┬──────────┬──────────┬───────────┬──────────┐\n",
       "│ impression_id ┆ article ┆ user_id ┆ target ┆ … ┆ recs8    ┆ recs9    ┆ recs10    ┆ recs11   │\n",
       "│ ---           ┆ ---     ┆ ---     ┆ ---    ┆   ┆ ---      ┆ ---      ┆ ---       ┆ ---      │\n",
       "│ u32           ┆ i32     ┆ u32     ┆ i8     ┆   ┆ f32      ┆ f32      ┆ f32       ┆ f32      │\n",
       "╞═══════════════╪═════════╪═════════╪════════╪═══╪══════════╪══════════╪═══════════╪══════════╡\n",
       "│ 205373625     ┆ 9785030 ┆ 1801226 ┆ 0      ┆ … ┆ 0.0      ┆ 0.0      ┆ 0.0       ┆ 0.0      │\n",
       "│ 456698625     ┆ 9553264 ┆ 1757180 ┆ 0      ┆ … ┆ 0.0      ┆ 0.000602 ┆ -0.000296 ┆ 0.0      │\n",
       "│ 46558736      ┆ 7213923 ┆ 1885995 ┆ 0      ┆ … ┆ 0.023968 ┆ 0.157036 ┆ 0.05609   ┆ 0.014369 │\n",
       "│ 470321755     ┆ 9504105 ┆ 594528  ┆ 0      ┆ … ┆ 0.0      ┆ 0.000044 ┆ -0.000059 ┆ 0.0      │\n",
       "│ 214849994     ┆ 9279095 ┆ 811018  ┆ 0      ┆ … ┆ 0.0      ┆ 0.002322 ┆ 0.001932  ┆ 0.0      │\n",
       "│ …             ┆ …       ┆ …       ┆ …      ┆ … ┆ …        ┆ …        ┆ …         ┆ …        │\n",
       "│ 184283316     ┆ 9526715 ┆ 2530683 ┆ 0      ┆ … ┆ 0.0      ┆ 0.0      ┆ 0.0       ┆ 0.0      │\n",
       "│ 90104855      ┆ 9538004 ┆ 2188571 ┆ 0      ┆ … ┆ 0.0      ┆ 0.004847 ┆ -0.000262 ┆ 0.0      │\n",
       "│ 257661167     ┆ 9268227 ┆ 2577740 ┆ 0      ┆ … ┆ 0.0      ┆ 0.007424 ┆ 0.005384  ┆ 0.0      │\n",
       "│ 379754148     ┆ 9786230 ┆ 1567717 ┆ 0      ┆ … ┆ 0.0      ┆ 0.0      ┆ 0.0       ┆ 0.0      │\n",
       "│ 387804927     ┆ 9780815 ┆ 1477863 ┆ 0      ┆ … ┆ 0.0      ┆ 0.0      ┆ 0.0       ┆ 0.0      │\n",
       "└───────────────┴─────────┴─────────┴────────┴───┴──────────┴──────────┴───────────┴──────────┘"
      ]
     },
     "execution_count": 64,
     "metadata": {},
     "output_type": "execute_result"
    }
   ],
   "source": [
    "val_ds = val_ds.join(recsys_features, on=['article','impression_id','user_id'], how='left')\n",
    "val_ds"
   ]
  },
  {
   "cell_type": "code",
   "execution_count": 65,
   "metadata": {},
   "outputs": [
    {
     "data": {
      "text/plain": [
       "(2928942, 266)"
      ]
     },
     "execution_count": 65,
     "metadata": {},
     "output_type": "execute_result"
    }
   ],
   "source": [
    "val_ds.shape"
   ]
  },
  {
   "cell_type": "code",
   "execution_count": 67,
   "metadata": {},
   "outputs": [
    {
     "data": {
      "text/html": [
       "<div><style>\n",
       ".dataframe > thead > tr,\n",
       ".dataframe > tbody > tr {\n",
       "  text-align: right;\n",
       "  white-space: pre-wrap;\n",
       "}\n",
       "</style>\n",
       "<small>shape: (2_928_942, 3)</small><table border=\"1\" class=\"dataframe\"><thead><tr><th>impression_id</th><th>target</th><th>prediction</th></tr><tr><td>u32</td><td>i8</td><td>f64</td></tr></thead><tbody><tr><td>205373625</td><td>0</td><td>0.004218</td></tr><tr><td>456698625</td><td>0</td><td>0.025827</td></tr><tr><td>46558736</td><td>0</td><td>0.002175</td></tr><tr><td>470321755</td><td>0</td><td>0.021964</td></tr><tr><td>214849994</td><td>0</td><td>0.010433</td></tr><tr><td>&hellip;</td><td>&hellip;</td><td>&hellip;</td></tr><tr><td>184283316</td><td>0</td><td>0.031456</td></tr><tr><td>90104855</td><td>0</td><td>0.013191</td></tr><tr><td>257661167</td><td>0</td><td>0.072801</td></tr><tr><td>379754148</td><td>0</td><td>0.764017</td></tr><tr><td>387804927</td><td>0</td><td>0.607611</td></tr></tbody></table></div>"
      ],
      "text/plain": [
       "shape: (2_928_942, 3)\n",
       "┌───────────────┬────────┬────────────┐\n",
       "│ impression_id ┆ target ┆ prediction │\n",
       "│ ---           ┆ ---    ┆ ---        │\n",
       "│ u32           ┆ i8     ┆ f64        │\n",
       "╞═══════════════╪════════╪════════════╡\n",
       "│ 205373625     ┆ 0      ┆ 0.004218   │\n",
       "│ 456698625     ┆ 0      ┆ 0.025827   │\n",
       "│ 46558736      ┆ 0      ┆ 0.002175   │\n",
       "│ 470321755     ┆ 0      ┆ 0.021964   │\n",
       "│ 214849994     ┆ 0      ┆ 0.010433   │\n",
       "│ …             ┆ …      ┆ …          │\n",
       "│ 184283316     ┆ 0      ┆ 0.031456   │\n",
       "│ 90104855      ┆ 0      ┆ 0.013191   │\n",
       "│ 257661167     ┆ 0      ┆ 0.072801   │\n",
       "│ 379754148     ┆ 0      ┆ 0.764017   │\n",
       "│ 387804927     ┆ 0      ┆ 0.607611   │\n",
       "└───────────────┴────────┴────────────┘"
      ]
     },
     "execution_count": 67,
     "metadata": {},
     "output_type": "execute_result"
    }
   ],
   "source": [
    "# impression_id will be later useful for evaluation\n",
    "val_ds_pandas = val_ds.drop(['impression_id', 'article', 'user_id']).to_pandas()\n",
    "\n",
    "val_ds_pandas[categorical_columns] = val_ds_pandas[categorical_columns].astype('category')\n",
    "\n",
    "X_val = val_ds_pandas.drop(columns=['target'])\n",
    "y_val = val_ds_pandas['target']\n",
    "\n",
    "val_ds = val_ds.with_columns(pl.Series(model.predict_proba(X_val)[:, 1]).alias('prediction'))\n",
    "val_ds.select(['impression_id', 'target', 'prediction'])\n"
   ]
  },
  {
   "cell_type": "code",
   "execution_count": 68,
   "metadata": {},
   "outputs": [
    {
     "data": {
      "text/plain": [
       "\"# impression_id will be later useful for evaluation\\nval_ds_pandas = val_ds.drop(['impression_id', 'article', 'user_id']).to_pandas()\\n\\nval_ds_pandas[categorical_columns] = val_ds_pandas[categorical_columns].astype('category')\\n\\nX_val = val_ds_pandas.drop(columns=['target'])\\ny_val = val_ds_pandas['target']\\n\\nval_ds = val_ds.with_columns(pl.Series(model.predict(X_val)).alias('prediction'))\\nval_ds.select(['impression_id', 'target', 'prediction'])\\n\""
      ]
     },
     "execution_count": 68,
     "metadata": {},
     "output_type": "execute_result"
    }
   ],
   "source": [
    "\"\"\"# impression_id will be later useful for evaluation\n",
    "val_ds_pandas = val_ds.drop(['impression_id', 'article', 'user_id']).to_pandas()\n",
    "\n",
    "val_ds_pandas[categorical_columns] = val_ds_pandas[categorical_columns].astype('category')\n",
    "\n",
    "X_val = val_ds_pandas.drop(columns=['target'])\n",
    "y_val = val_ds_pandas['target']\n",
    "\n",
    "val_ds = val_ds.with_columns(pl.Series(model.predict(X_val)).alias('prediction'))\n",
    "val_ds.select(['impression_id', 'target', 'prediction'])\n",
    "\"\"\""
   ]
  },
  {
   "cell_type": "code",
   "execution_count": 69,
   "metadata": {},
   "outputs": [
    {
     "data": {
      "text/html": [
       "<div><style>\n",
       ".dataframe > thead > tr,\n",
       ".dataframe > tbody > tr {\n",
       "  text-align: right;\n",
       "  white-space: pre-wrap;\n",
       "}\n",
       "</style>\n",
       "<small>shape: (244_647, 3)</small><table border=\"1\" class=\"dataframe\"><thead><tr><th>impression_id</th><th>target</th><th>prediction</th></tr><tr><td>u32</td><td>list[i8]</td><td>list[f64]</td></tr></thead><tbody><tr><td>158083968</td><td>[0, 0, … 1]</td><td>[0.133494, 0.251541, … 0.332199]</td></tr><tr><td>129042831</td><td>[0, 0, … 0]</td><td>[0.084657, 0.36561, … 0.35619]</td></tr><tr><td>112724279</td><td>[0, 1, … 0]</td><td>[0.004407, 0.31718, … 0.69327]</td></tr><tr><td>151731978</td><td>[0, 0, … 0]</td><td>[0.203306, 0.224715, … 0.206222]</td></tr><tr><td>281371052</td><td>[0, 0, … 0]</td><td>[0.035365, 0.424506, … 0.481233]</td></tr><tr><td>&hellip;</td><td>&hellip;</td><td>&hellip;</td></tr><tr><td>397127962</td><td>[0, 0, … 1]</td><td>[0.042682, 0.167318, … 0.545479]</td></tr><tr><td>372512213</td><td>[0, 0, … 0]</td><td>[0.082296, 0.027126, … 0.033183]</td></tr><tr><td>244824241</td><td>[0, 0, … 0]</td><td>[0.132103, 0.523066, … 0.248968]</td></tr><tr><td>517591468</td><td>[0, 1, … 0]</td><td>[0.017497, 0.522343, … 0.46628]</td></tr><tr><td>14590484</td><td>[1, 0, … 0]</td><td>[0.804452, 0.033069, … 0.064738]</td></tr></tbody></table></div>"
      ],
      "text/plain": [
       "shape: (244_647, 3)\n",
       "┌───────────────┬─────────────┬─────────────────────────────────┐\n",
       "│ impression_id ┆ target      ┆ prediction                      │\n",
       "│ ---           ┆ ---         ┆ ---                             │\n",
       "│ u32           ┆ list[i8]    ┆ list[f64]                       │\n",
       "╞═══════════════╪═════════════╪═════════════════════════════════╡\n",
       "│ 158083968     ┆ [0, 0, … 1] ┆ [0.133494, 0.251541, … 0.33219… │\n",
       "│ 129042831     ┆ [0, 0, … 0] ┆ [0.084657, 0.36561, … 0.35619]  │\n",
       "│ 112724279     ┆ [0, 1, … 0] ┆ [0.004407, 0.31718, … 0.69327]  │\n",
       "│ 151731978     ┆ [0, 0, … 0] ┆ [0.203306, 0.224715, … 0.20622… │\n",
       "│ 281371052     ┆ [0, 0, … 0] ┆ [0.035365, 0.424506, … 0.48123… │\n",
       "│ …             ┆ …           ┆ …                               │\n",
       "│ 397127962     ┆ [0, 0, … 1] ┆ [0.042682, 0.167318, … 0.54547… │\n",
       "│ 372512213     ┆ [0, 0, … 0] ┆ [0.082296, 0.027126, … 0.03318… │\n",
       "│ 244824241     ┆ [0, 0, … 0] ┆ [0.132103, 0.523066, … 0.24896… │\n",
       "│ 517591468     ┆ [0, 1, … 0] ┆ [0.017497, 0.522343, … 0.46628… │\n",
       "│ 14590484      ┆ [1, 0, … 0] ┆ [0.804452, 0.033069, … 0.06473… │\n",
       "└───────────────┴─────────────┴─────────────────────────────────┘"
      ]
     },
     "execution_count": 69,
     "metadata": {},
     "output_type": "execute_result"
    }
   ],
   "source": [
    "evaluation_ds = val_ds.group_by('impression_id').agg(pl.col('target'), pl.col('prediction'))\n",
    "evaluation_ds"
   ]
  },
  {
   "cell_type": "code",
   "execution_count": 70,
   "metadata": {},
   "outputs": [],
   "source": [
    "import sys\n",
    "sys.path.append('/home/ubuntu/RecSysChallenge2024/src')"
   ]
  },
  {
   "cell_type": "code",
   "execution_count": 71,
   "metadata": {},
   "outputs": [
    {
     "name": "stdout",
     "output_type": "stream",
     "text": [
      "/home/ubuntu/RecSysChallenge2024/src\n"
     ]
    },
    {
     "name": "stderr",
     "output_type": "stream",
     "text": [
      "/home/ubuntu/RecSysChallenge2024/.venv/lib/python3.10/site-packages/IPython/core/magics/osm.py:417: UserWarning: This is now an optional IPython functionality, setting dhist requires you to install the `pickleshare` library.\n",
      "  self.shell.db['dhist'] = compress_dhist(dhist)[-100:]\n"
     ]
    }
   ],
   "source": [
    "%cd /home/ubuntu/RecSysChallenge2024/src"
   ]
  },
  {
   "cell_type": "code",
   "execution_count": 72,
   "metadata": {},
   "outputs": [
    {
     "data": {
      "text/plain": [
       "0.7885507941015188"
      ]
     },
     "execution_count": 72,
     "metadata": {},
     "output_type": "execute_result"
    }
   ],
   "source": [
    "from fastauc.fastauc.fast_auc import CppAuc\n",
    "cpp_auc = CppAuc()\n",
    "np.mean([cpp_auc.roc_auc_score(np.array(y_t).astype(bool), np.array(y_s).astype(np.float32)) \n",
    "                 for y_t, y_s in zip(evaluation_ds['target'].to_list(), \n",
    "                                     evaluation_ds['prediction'].to_list())])"
   ]
  }
 ],
 "metadata": {
  "kernelspec": {
   "display_name": ".venv",
   "language": "python",
   "name": "python3"
  },
  "language_info": {
   "codemirror_mode": {
    "name": "ipython",
    "version": 3
   },
   "file_extension": ".py",
   "mimetype": "text/x-python",
   "name": "python",
   "nbconvert_exporter": "python",
   "pygments_lexer": "ipython3",
   "version": "3.10.12"
  }
 },
 "nbformat": 4,
 "nbformat_minor": 2
}
