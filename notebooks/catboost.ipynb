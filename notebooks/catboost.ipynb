{
 "cells": [
  {
   "cell_type": "code",
   "execution_count": 1,
   "id": "4a2cc90e",
   "metadata": {
    "execution": {
     "iopub.execute_input": "2024-04-08T12:25:11.656478Z",
     "iopub.status.busy": "2024-04-08T12:25:11.655296Z",
     "iopub.status.idle": "2024-04-08T12:25:19.760159Z",
     "shell.execute_reply": "2024-04-08T12:25:19.758675Z"
    },
    "papermill": {
     "duration": 8.134615,
     "end_time": "2024-04-08T12:25:19.763605",
     "exception": false,
     "start_time": "2024-04-08T12:25:11.628990",
     "status": "completed"
    },
    "tags": []
   },
   "outputs": [
    {
     "name": "stdout",
     "output_type": "stream",
     "text": [
      "Cloning into 'RecSysChallenge2024'...\r\n",
      "remote: Enumerating objects: 965, done.\u001b[K\r\n",
      "remote: Counting objects: 100% (640/640), done.\u001b[K\r\n",
      "remote: Compressing objects: 100% (390/390), done.\u001b[K\r\n",
      "remote: Total 965 (delta 342), reused 517 (delta 236), pack-reused 325\u001b[K\r\n",
      "Receiving objects: 100% (965/965), 29.19 MiB | 23.32 MiB/s, done.\r\n",
      "Resolving deltas: 100% (441/441), done.\r\n",
      "Cloning into 'RecSys_Course_AT_PoliMi'...\r\n",
      "remote: Enumerating objects: 1519, done.\u001b[K\r\n",
      "remote: Counting objects: 100% (255/255), done.\u001b[K\r\n",
      "remote: Compressing objects: 100% (43/43), done.\u001b[K\r\n",
      "remote: Total 1519 (delta 223), reused 220 (delta 212), pack-reused 1264\u001b[K\r\n",
      "Receiving objects: 100% (1519/1519), 50.33 MiB | 25.41 MiB/s, done.\r\n",
      "Resolving deltas: 100% (909/909), done.\r\n"
     ]
    }
   ],
   "source": [
    "from kaggle_secrets import UserSecretsClient\n",
    "secret_label = \"Token\"\n",
    "token = UserSecretsClient().get_secret(secret_label)\n",
    "\n",
    "! git clone https://{token}@github.com/FrancescoZanella/RecSysChallenge2024.git\n",
    "! git clone https://github.com/MaurizioFD/RecSys_Course_AT_PoliMi.git"
   ]
  },
  {
   "cell_type": "code",
   "execution_count": 2,
   "id": "9251bd1f",
   "metadata": {
    "execution": {
     "iopub.execute_input": "2024-04-08T12:25:19.826641Z",
     "iopub.status.busy": "2024-04-08T12:25:19.825428Z",
     "iopub.status.idle": "2024-04-08T12:25:19.833669Z",
     "shell.execute_reply": "2024-04-08T12:25:19.832365Z"
    },
    "papermill": {
     "duration": 0.043282,
     "end_time": "2024-04-08T12:25:19.836127",
     "exception": false,
     "start_time": "2024-04-08T12:25:19.792845",
     "status": "completed"
    },
    "tags": []
   },
   "outputs": [
    {
     "name": "stdout",
     "output_type": "stream",
     "text": [
      "/kaggle/working/RecSysChallenge2024/src\n"
     ]
    }
   ],
   "source": [
    "%cd /kaggle/working/RecSysChallenge2024/src"
   ]
  },
  {
   "cell_type": "code",
   "execution_count": 3,
   "id": "7640a43b",
   "metadata": {
    "_cell_guid": "b1076dfc-b9ad-4769-8c92-a6c4dae69d19",
    "_uuid": "8f2839f25d086af736a60e9eeb907d3b93b6e0e5",
    "execution": {
     "iopub.execute_input": "2024-04-08T12:25:19.897433Z",
     "iopub.status.busy": "2024-04-08T12:25:19.896541Z",
     "iopub.status.idle": "2024-04-08T12:25:28.983968Z",
     "shell.execute_reply": "2024-04-08T12:25:28.982576Z"
    },
    "papermill": {
     "duration": 9.122545,
     "end_time": "2024-04-08T12:25:28.988306",
     "exception": false,
     "start_time": "2024-04-08T12:25:19.865761",
     "status": "completed"
    },
    "tags": []
   },
   "outputs": [],
   "source": [
    "import numpy as np\n",
    "import pandas as pd\n",
    "import matplotlib.pyplot as plt\n",
    "import seaborn as sns\n",
    "from pathlib import Path\n",
    "import polars as pl\n",
    "import scipy.stats as stats\n",
    "import scipy.sparse as sps\n",
    "import gc\n",
    "import tqdm\n",
    "\n",
    "from ebrec.utils._descriptive_analysis import (\n",
    "    min_max_impression_time_behaviors, \n",
    "    min_max_impression_time_history\n",
    ")\n",
    "from ebrec.utils._polars import slice_join_dataframes\n",
    "from ebrec.utils._behaviors import (\n",
    "    create_binary_labels_column,\n",
    "    sampling_strategy_wu2019,\n",
    "    truncate_history,\n",
    ")\n",
    "from ebrec.utils._constants import (\n",
    "    DEFAULT_HISTORY_ARTICLE_ID_COL,\n",
    "    DEFAULT_CLICKED_ARTICLES_COL,\n",
    "    DEFAULT_INVIEW_ARTICLES_COL,\n",
    "    DEFAULT_USER_COL\n",
    ")\n",
    "from ebrec.evaluation.metrics_protocols import *\n",
    "from polimi.utils._catboost import add_trendiness_feature, add_mean_delays_features,add_history_trendiness_scores_feature\n",
    "\n",
    "from catboost import CatBoostClassifier"
   ]
  },
  {
   "cell_type": "markdown",
   "id": "10d9e54e",
   "metadata": {
    "papermill": {
     "duration": 0.028551,
     "end_time": "2024-04-08T12:25:29.048022",
     "exception": false,
     "start_time": "2024-04-08T12:25:29.019471",
     "status": "completed"
    },
    "tags": []
   },
   "source": [
    "# Memory Utils"
   ]
  },
  {
   "cell_type": "code",
   "execution_count": 4,
   "id": "ef3d6d37",
   "metadata": {
    "execution": {
     "iopub.execute_input": "2024-04-08T12:25:29.108732Z",
     "iopub.status.busy": "2024-04-08T12:25:29.107993Z",
     "iopub.status.idle": "2024-04-08T12:25:29.121191Z",
     "shell.execute_reply": "2024-04-08T12:25:29.119577Z"
    },
    "papermill": {
     "duration": 0.046018,
     "end_time": "2024-04-08T12:25:29.124132",
     "exception": false,
     "start_time": "2024-04-08T12:25:29.078114",
     "status": "completed"
    },
    "tags": []
   },
   "outputs": [
    {
     "name": "stdout",
     "output_type": "stream",
     "text": [
      "\u001b[1m\u001b[31m\n",
      "RAM memory GB usage = 0.4032\u001b[0m\n"
     ]
    }
   ],
   "source": [
    "from os import system, getpid, walk\n",
    "from psutil import Process\n",
    "from colorama import Fore, Style, init\n",
    "from IPython.display import display, HTML\n",
    "\n",
    "def PrintColor(text:str, color = Fore.BLUE, style = Style.BRIGHT):\n",
    "    print(style + color + text + Style.RESET_ALL)\n",
    "    \n",
    "def GetMemUsage():   \n",
    "    pid = getpid()\n",
    "    py = Process(pid)\n",
    "    memory_use = py.memory_info()[0] / 2. ** 30\n",
    "    return f\"RAM memory GB usage = {memory_use :.4}\"\n",
    "\n",
    "PrintColor(f\"\\n\" + GetMemUsage(), color = Fore.RED)"
   ]
  },
  {
   "cell_type": "code",
   "execution_count": 5,
   "id": "07e72f98",
   "metadata": {
    "execution": {
     "iopub.execute_input": "2024-04-08T12:25:29.183760Z",
     "iopub.status.busy": "2024-04-08T12:25:29.182630Z",
     "iopub.status.idle": "2024-04-08T12:25:29.202472Z",
     "shell.execute_reply": "2024-04-08T12:25:29.200626Z"
    },
    "papermill": {
     "duration": 0.054138,
     "end_time": "2024-04-08T12:25:29.206086",
     "exception": false,
     "start_time": "2024-04-08T12:25:29.151948",
     "status": "completed"
    },
    "tags": []
   },
   "outputs": [],
   "source": [
    "def reduce_polars_df_memory_size(df, set_categorical=True):\n",
    "\n",
    "    start_mem = df.estimated_size('mb')\n",
    "    print('Memory usage of dataframe is {:.2f} MB'.format(start_mem))\n",
    "    \n",
    "    for col in df.columns:\n",
    "        col_type = df[col].dtype\n",
    "        \n",
    "        if col_type in [pl.Int16, pl.Int32, pl.Int64]:\n",
    "            c_min = df[col].fill_null(0).min()\n",
    "            c_max = df[col].fill_null(0).max()\n",
    "            if c_min > np.iinfo(np.int8).min and c_max < np.iinfo(np.int8).max:\n",
    "                df = df.with_columns(pl.col(col).cast(pl.Int8))\n",
    "            elif c_min > np.iinfo(np.int16).min and c_max < np.iinfo(np.int16).max:\n",
    "                df = df.with_columns(pl.col(col).cast(pl.Int16))\n",
    "            elif c_min > np.iinfo(np.int32).min and c_max < np.iinfo(np.int32).max:\n",
    "                df = df.with_columns(pl.col(col).cast(pl.Int32))\n",
    "        elif col_type in [pl.UInt16, pl.UInt32, pl.UInt64]:\n",
    "            c_min = df[col].fill_null(0).min()\n",
    "            c_max = df[col].fill_null(0).max()\n",
    "            if c_min > np.iinfo(np.uint8).min and c_max < np.iinfo(np.uint8).max:\n",
    "                df = df.with_columns(pl.col(col).cast(pl.UInt8))\n",
    "            elif c_min > np.iinfo(np.uint16).min and c_max < np.iinfo(np.uint16).max:\n",
    "                df = df.with_columns(pl.col(col).cast(pl.UInt16))\n",
    "            elif c_min > np.iinfo(np.uint32).min and c_max < np.iinfo(np.uint32).max:\n",
    "                df = df.with_columns(pl.col(col).cast(pl.UInt32))\n",
    "        elif col_type == pl.Float64:\n",
    "            c_min = df[col].fill_null(0).min()\n",
    "            c_max = df[col].fill_null(0).max()\n",
    "            if c_min > np.finfo(np.float32).min and c_max < np.finfo(np.float32).max:\n",
    "                df = df.with_columns(pl.col(col).cast(pl.Float32))\n",
    "\n",
    "    gc.collect()\n",
    "    end_mem = df.estimated_size('mb')\n",
    "    print('Memory usage after optimization is: {:.2f} MB'.format(end_mem))\n",
    "    print('Decreased by {:.1f}%'.format(100 * (start_mem - end_mem) / start_mem))\n",
    "    \n",
    "    return df"
   ]
  },
  {
   "cell_type": "markdown",
   "id": "f073bc98",
   "metadata": {
    "papermill": {
     "duration": 0.028506,
     "end_time": "2024-04-08T12:25:29.263894",
     "exception": false,
     "start_time": "2024-04-08T12:25:29.235388",
     "status": "completed"
    },
    "tags": []
   },
   "source": [
    "# Data import"
   ]
  },
  {
   "cell_type": "code",
   "execution_count": 6,
   "id": "b8f1dfd3",
   "metadata": {
    "execution": {
     "iopub.execute_input": "2024-04-08T12:25:29.323950Z",
     "iopub.status.busy": "2024-04-08T12:25:29.323144Z",
     "iopub.status.idle": "2024-04-08T12:25:31.796755Z",
     "shell.execute_reply": "2024-04-08T12:25:31.794628Z"
    },
    "papermill": {
     "duration": 2.508025,
     "end_time": "2024-04-08T12:25:31.800195",
     "exception": false,
     "start_time": "2024-04-08T12:25:29.292170",
     "status": "completed"
    },
    "tags": []
   },
   "outputs": [
    {
     "name": "stdout",
     "output_type": "stream",
     "text": [
      "\u001b[1m\u001b[31m\n",
      "RAM memory GB usage = 0.6612\u001b[0m\n"
     ]
    }
   ],
   "source": [
    "articles = pl.read_parquet('/kaggle/input/recommender-systems-challenge-2024/ebnerd_small/articles.parquet')\n",
    "\n",
    "behaviors_train = pl.read_parquet('/kaggle/input/recommender-systems-challenge-2024/ebnerd_small/train/behaviors.parquet')\n",
    "history_train = pl.read_parquet('/kaggle/input/recommender-systems-challenge-2024/ebnerd_small/train/history.parquet')\n",
    "\n",
    "behaviors_val = pl.read_parquet('/kaggle/input/recommender-systems-challenge-2024/ebnerd_small/validation/behaviors.parquet')\n",
    "history_val = pl.read_parquet('/kaggle/input/recommender-systems-challenge-2024/ebnerd_small/validation/history.parquet')\n",
    "\n",
    "gc.collect()\n",
    "PrintColor(f\"\\n\" + GetMemUsage(), color = Fore.RED)"
   ]
  },
  {
   "cell_type": "markdown",
   "id": "e182d17d",
   "metadata": {
    "papermill": {
     "duration": 0.03121,
     "end_time": "2024-04-08T12:25:31.865287",
     "exception": false,
     "start_time": "2024-04-08T12:25:31.834077",
     "status": "completed"
    },
    "tags": []
   },
   "source": [
    "# Articles Preprocessing"
   ]
  },
  {
   "cell_type": "code",
   "execution_count": 7,
   "id": "d155079f",
   "metadata": {
    "execution": {
     "iopub.execute_input": "2024-04-08T12:25:31.928301Z",
     "iopub.status.busy": "2024-04-08T12:25:31.926602Z",
     "iopub.status.idle": "2024-04-08T12:25:32.783184Z",
     "shell.execute_reply": "2024-04-08T12:25:32.781120Z"
    },
    "papermill": {
     "duration": 0.89062,
     "end_time": "2024-04-08T12:25:32.785992",
     "exception": false,
     "start_time": "2024-04-08T12:25:31.895372",
     "status": "completed"
    },
    "tags": []
   },
   "outputs": [
    {
     "name": "stdout",
     "output_type": "stream",
     "text": [
      "Memory usage of dataframe is 64.11 MB\n",
      "Memory usage after optimization is: 63.96 MB\n",
      "Decreased by 0.2%\n",
      "\u001b[1m\u001b[31m\n",
      "RAM memory GB usage = 0.6689\u001b[0m\n"
     ]
    },
    {
     "data": {
      "text/html": [
       "<div><style>\n",
       ".dataframe > thead > tr,\n",
       ".dataframe > tbody > tr {\n",
       "  text-align: right;\n",
       "  white-space: pre-wrap;\n",
       "}\n",
       "</style>\n",
       "<small>shape: (2, 25)</small><table border=\"1\" class=\"dataframe\"><thead><tr><th>article_id</th><th>title</th><th>subtitle</th><th>last_modified_time</th><th>premium</th><th>body</th><th>published_time</th><th>image_ids</th><th>article_type</th><th>url</th><th>ner_clusters</th><th>entity_groups</th><th>topics</th><th>category</th><th>subcategory</th><th>category_str</th><th>total_inviews</th><th>total_pageviews</th><th>total_read_time</th><th>sentiment_score</th><th>sentiment_label</th><th>num_images</th><th>title_len</th><th>subtitle_len</th><th>body_len</th></tr><tr><td>i32</td><td>str</td><td>str</td><td>datetime[μs]</td><td>bool</td><td>str</td><td>datetime[μs]</td><td>list[i64]</td><td>str</td><td>str</td><td>list[str]</td><td>list[str]</td><td>list[str]</td><td>i16</td><td>list[i16]</td><td>str</td><td>i32</td><td>i32</td><td>f32</td><td>f32</td><td>str</td><td>u32</td><td>u8</td><td>u8</td><td>u16</td></tr></thead><tbody><tr><td>3001353</td><td>&quot;Natascha var i…</td><td>&quot;Politiet frygt…</td><td>2023-06-29 06:20:33</td><td>false</td><td>&quot;Sagen om den ø…</td><td>2006-08-31 08:06:45</td><td>[3150850]</td><td>&quot;article_defaul…</td><td>&quot;https://ekstra…</td><td>[]</td><td>[]</td><td>[&quot;Kriminalitet&quot;, &quot;Personfarlig_kriminalitet&quot;]</td><td>140</td><td>[]</td><td>&quot;krimi&quot;</td><td>null</td><td>null</td><td>null</td><td>0.9955</td><td>&quot;Negative&quot;</td><td>1</td><td>5</td><td>22</td><td>200</td></tr><tr><td>3003065</td><td>&quot;Kun Star Wars …</td><td>&quot;Biografgængern…</td><td>2023-06-29 06:20:35</td><td>false</td><td>&quot;Vatikanet har …</td><td>2006-05-21 16:57:00</td><td>[3006712]</td><td>&quot;article_defaul…</td><td>&quot;https://ekstra…</td><td>[]</td><td>[]</td><td>[&quot;Underholdning&quot;, &quot;Film_og_tv&quot;, &quot;Økonomi&quot;]</td><td>414</td><td>[433, 434]</td><td>&quot;underholdning&quot;</td><td>null</td><td>null</td><td>null</td><td>0.846</td><td>&quot;Positive&quot;</td><td>1</td><td>5</td><td>19</td><td>116</td></tr></tbody></table></div>"
      ],
      "text/plain": [
       "shape: (2, 25)\n",
       "┌───────────┬───────────┬───────────┬───────────┬───┬───────────┬───────────┬───────────┬──────────┐\n",
       "│ article_i ┆ title     ┆ subtitle  ┆ last_modi ┆ … ┆ num_image ┆ title_len ┆ subtitle_ ┆ body_len │\n",
       "│ d         ┆ ---       ┆ ---       ┆ fied_time ┆   ┆ s         ┆ ---       ┆ len       ┆ ---      │\n",
       "│ ---       ┆ str       ┆ str       ┆ ---       ┆   ┆ ---       ┆ u8        ┆ ---       ┆ u16      │\n",
       "│ i32       ┆           ┆           ┆ datetime[ ┆   ┆ u32       ┆           ┆ u8        ┆          │\n",
       "│           ┆           ┆           ┆ μs]       ┆   ┆           ┆           ┆           ┆          │\n",
       "╞═══════════╪═══════════╪═══════════╪═══════════╪═══╪═══════════╪═══════════╪═══════════╪══════════╡\n",
       "│ 3001353   ┆ Natascha  ┆ Politiet  ┆ 2023-06-2 ┆ … ┆ 1         ┆ 5         ┆ 22        ┆ 200      │\n",
       "│           ┆ var ikke  ┆ frygter   ┆ 9         ┆   ┆           ┆           ┆           ┆          │\n",
       "│           ┆ den       ┆ nu, at    ┆ 06:20:33  ┆   ┆           ┆           ┆           ┆          │\n",
       "│           ┆ første    ┆ Natascha… ┆           ┆   ┆           ┆           ┆           ┆          │\n",
       "│ 3003065   ┆ Kun Star  ┆ Biografgæ ┆ 2023-06-2 ┆ … ┆ 1         ┆ 5         ┆ 19        ┆ 116      │\n",
       "│           ┆ Wars      ┆ ngerne    ┆ 9         ┆   ┆           ┆           ┆           ┆          │\n",
       "│           ┆ tjente    ┆ strømmer  ┆ 06:20:35  ┆   ┆           ┆           ┆           ┆          │\n",
       "│           ┆ mere      ┆ ind for…  ┆           ┆   ┆           ┆           ┆           ┆          │\n",
       "└───────────┴───────────┴───────────┴───────────┴───┴───────────┴───────────┴───────────┴──────────┘"
      ]
     },
     "execution_count": 7,
     "metadata": {},
     "output_type": "execute_result"
    }
   ],
   "source": [
    "articles = articles.with_columns(\n",
    "    pl.col('image_ids').list.len().alias('num_images'),\n",
    "    pl.col('title').str.split(by=' ').list.len().alias('title_len'),\n",
    "    pl.col('subtitle').str.split(by=' ').list.len().alias('subtitle_len'),\n",
    "    pl.col('body').str.split(by=' ').list.len().alias('body_len'),\n",
    "    # very important for tf-idf, otherwise multiple tokens for topics with spaces are built\n",
    "    pl.col('topics').list.eval(pl.element().str.split(by=' ').list.join('_')) \n",
    ")\n",
    "articles = reduce_polars_df_memory_size(articles)\n",
    "\n",
    "gc.collect()\n",
    "PrintColor(f\"\\n\" + GetMemUsage(), color = Fore.RED)\n",
    "articles.head(2)"
   ]
  },
  {
   "cell_type": "code",
   "execution_count": 8,
   "id": "779f3770",
   "metadata": {
    "execution": {
     "iopub.execute_input": "2024-04-08T12:25:32.847782Z",
     "iopub.status.busy": "2024-04-08T12:25:32.847300Z",
     "iopub.status.idle": "2024-04-08T12:25:32.872588Z",
     "shell.execute_reply": "2024-04-08T12:25:32.871222Z"
    },
    "papermill": {
     "duration": 0.059538,
     "end_time": "2024-04-08T12:25:32.875490",
     "exception": false,
     "start_time": "2024-04-08T12:25:32.815952",
     "status": "completed"
    },
    "tags": []
   },
   "outputs": [
    {
     "data": {
      "text/plain": [
       "['MISC', 'PER', 'PROD', 'ORG', 'LOC', 'EVENT']"
      ]
     },
     "execution_count": 8,
     "metadata": {},
     "output_type": "execute_result"
    }
   ],
   "source": [
    "unique_entities = articles.select('entity_groups').explode('entity_groups')['entity_groups'].unique().to_list()\n",
    "unique_entities = [e for e in unique_entities if e is not None]\n",
    "unique_entities"
   ]
  },
  {
   "cell_type": "code",
   "execution_count": 9,
   "id": "25967eb7",
   "metadata": {
    "execution": {
     "iopub.execute_input": "2024-04-08T12:25:32.935786Z",
     "iopub.status.busy": "2024-04-08T12:25:32.935254Z",
     "iopub.status.idle": "2024-04-08T12:25:32.956095Z",
     "shell.execute_reply": "2024-04-08T12:25:32.954693Z"
    },
    "papermill": {
     "duration": 0.054298,
     "end_time": "2024-04-08T12:25:32.959006",
     "exception": false,
     "start_time": "2024-04-08T12:25:32.904708",
     "status": "completed"
    },
    "tags": []
   },
   "outputs": [
    {
     "data": {
      "text/plain": [
       "25"
      ]
     },
     "execution_count": 9,
     "metadata": {},
     "output_type": "execute_result"
    }
   ],
   "source": [
    "unique_categories = articles.select('category')['category'].unique().to_list()\n",
    "unique_categories = [c for c in unique_categories if c is not None]\n",
    "len(unique_categories)"
   ]
  },
  {
   "cell_type": "markdown",
   "id": "d996a162",
   "metadata": {
    "papermill": {
     "duration": 0.03939,
     "end_time": "2024-04-08T12:25:33.030387",
     "exception": false,
     "start_time": "2024-04-08T12:25:32.990997",
     "status": "completed"
    },
    "tags": []
   },
   "source": [
    "Mapping sentiment labels to -1, 0, 1 to save memory in the history dataframe.\n",
    "Taking only article_default type and mapping it to 0/1 since after only this is needed (and it saves memory) for the history at the moment"
   ]
  },
  {
   "cell_type": "code",
   "execution_count": 10,
   "id": "64ebd476",
   "metadata": {
    "execution": {
     "iopub.execute_input": "2024-04-08T12:25:33.092355Z",
     "iopub.status.busy": "2024-04-08T12:25:33.091887Z",
     "iopub.status.idle": "2024-04-08T12:25:33.106382Z",
     "shell.execute_reply": "2024-04-08T12:25:33.104975Z"
    },
    "papermill": {
     "duration": 0.048994,
     "end_time": "2024-04-08T12:25:33.109381",
     "exception": false,
     "start_time": "2024-04-08T12:25:33.060387",
     "status": "completed"
    },
    "tags": []
   },
   "outputs": [],
   "source": [
    "articles = articles.with_columns(\n",
    "    pl.when(pl.col('sentiment_label') == 'Negative').then(-1) \\\n",
    "        .otherwise(\n",
    "            pl.when(pl.col('sentiment_label') == 'Positive').then(1).otherwise(0)\n",
    "        ).cast(pl.Int8).alias('sentiment_label_int'),\n",
    "    (pl.col('article_type') == 'article_default').cast(pl.UInt8).alias('is_article_default')\n",
    ")"
   ]
  },
  {
   "cell_type": "markdown",
   "id": "8c20ac5c",
   "metadata": {
    "papermill": {
     "duration": 0.029788,
     "end_time": "2024-04-08T12:25:33.169431",
     "exception": false,
     "start_time": "2024-04-08T12:25:33.139643",
     "status": "completed"
    },
    "tags": []
   },
   "source": [
    "## Topics TF-IDF"
   ]
  },
  {
   "cell_type": "code",
   "execution_count": 11,
   "id": "955b47a7",
   "metadata": {
    "execution": {
     "iopub.execute_input": "2024-04-08T12:25:33.231039Z",
     "iopub.status.busy": "2024-04-08T12:25:33.230488Z",
     "iopub.status.idle": "2024-04-08T12:25:33.754191Z",
     "shell.execute_reply": "2024-04-08T12:25:33.752733Z"
    },
    "papermill": {
     "duration": 0.55817,
     "end_time": "2024-04-08T12:25:33.757222",
     "exception": false,
     "start_time": "2024-04-08T12:25:33.199052",
     "status": "completed"
    },
    "tags": []
   },
   "outputs": [
    {
     "name": "stdout",
     "output_type": "stream",
     "text": [
      "\u001b[1m\u001b[31m\n",
      "RAM memory GB usage = 0.6884\u001b[0m\n"
     ]
    },
    {
     "data": {
      "text/html": [
       "<div><style>\n",
       ".dataframe > thead > tr,\n",
       ".dataframe > tbody > tr {\n",
       "  text-align: right;\n",
       "  white-space: pre-wrap;\n",
       "}\n",
       "</style>\n",
       "<small>shape: (2, 28)</small><table border=\"1\" class=\"dataframe\"><thead><tr><th>article_id</th><th>title</th><th>subtitle</th><th>last_modified_time</th><th>premium</th><th>body</th><th>published_time</th><th>image_ids</th><th>article_type</th><th>url</th><th>ner_clusters</th><th>entity_groups</th><th>topics</th><th>category</th><th>subcategory</th><th>category_str</th><th>total_inviews</th><th>total_pageviews</th><th>total_read_time</th><th>sentiment_score</th><th>sentiment_label</th><th>num_images</th><th>title_len</th><th>subtitle_len</th><th>body_len</th><th>sentiment_label_int</th><th>is_article_default</th><th>topics_idf</th></tr><tr><td>i32</td><td>str</td><td>str</td><td>datetime[μs]</td><td>bool</td><td>str</td><td>datetime[μs]</td><td>list[i64]</td><td>str</td><td>str</td><td>list[str]</td><td>list[str]</td><td>list[str]</td><td>i16</td><td>list[i16]</td><td>str</td><td>i32</td><td>i32</td><td>f32</td><td>f32</td><td>str</td><td>u32</td><td>u8</td><td>u8</td><td>u16</td><td>i8</td><td>u8</td><td>list[f32]</td></tr></thead><tbody><tr><td>3001353</td><td>&quot;Natascha var i…</td><td>&quot;Politiet frygt…</td><td>2023-06-29 06:20:33</td><td>false</td><td>&quot;Sagen om den ø…</td><td>2006-08-31 08:06:45</td><td>[3150850]</td><td>&quot;article_defaul…</td><td>&quot;https://ekstra…</td><td>[]</td><td>[]</td><td>[&quot;Kriminalitet&quot;, &quot;Personfarlig_kriminalitet&quot;]</td><td>140</td><td>[]</td><td>&quot;krimi&quot;</td><td>null</td><td>null</td><td>null</td><td>0.9955</td><td>&quot;Negative&quot;</td><td>1</td><td>5</td><td>22</td><td>200</td><td>-1</td><td>1</td><td>[0.0, 0.0, … 0.0]</td></tr><tr><td>3003065</td><td>&quot;Kun Star Wars …</td><td>&quot;Biografgængern…</td><td>2023-06-29 06:20:35</td><td>false</td><td>&quot;Vatikanet har …</td><td>2006-05-21 16:57:00</td><td>[3006712]</td><td>&quot;article_defaul…</td><td>&quot;https://ekstra…</td><td>[]</td><td>[]</td><td>[&quot;Underholdning&quot;, &quot;Film_og_tv&quot;, &quot;Økonomi&quot;]</td><td>414</td><td>[433, 434]</td><td>&quot;underholdning&quot;</td><td>null</td><td>null</td><td>null</td><td>0.846</td><td>&quot;Positive&quot;</td><td>1</td><td>5</td><td>19</td><td>116</td><td>1</td><td>1</td><td>[0.0, 0.0, … 0.536059]</td></tr></tbody></table></div>"
      ],
      "text/plain": [
       "shape: (2, 28)\n",
       "┌───────────┬───────────┬───────────┬───────────┬───┬──────────┬───────────┬───────────┬───────────┐\n",
       "│ article_i ┆ title     ┆ subtitle  ┆ last_modi ┆ … ┆ body_len ┆ sentiment ┆ is_articl ┆ topics_id │\n",
       "│ d         ┆ ---       ┆ ---       ┆ fied_time ┆   ┆ ---      ┆ _label_in ┆ e_default ┆ f         │\n",
       "│ ---       ┆ str       ┆ str       ┆ ---       ┆   ┆ u16      ┆ t         ┆ ---       ┆ ---       │\n",
       "│ i32       ┆           ┆           ┆ datetime[ ┆   ┆          ┆ ---       ┆ u8        ┆ list[f32] │\n",
       "│           ┆           ┆           ┆ μs]       ┆   ┆          ┆ i8        ┆           ┆           │\n",
       "╞═══════════╪═══════════╪═══════════╪═══════════╪═══╪══════════╪═══════════╪═══════════╪═══════════╡\n",
       "│ 3001353   ┆ Natascha  ┆ Politiet  ┆ 2023-06-2 ┆ … ┆ 200      ┆ -1        ┆ 1         ┆ [0.0,     │\n",
       "│           ┆ var ikke  ┆ frygter   ┆ 9         ┆   ┆          ┆           ┆           ┆ 0.0, …    │\n",
       "│           ┆ den       ┆ nu, at    ┆ 06:20:33  ┆   ┆          ┆           ┆           ┆ 0.0]      │\n",
       "│           ┆ første    ┆ Natascha… ┆           ┆   ┆          ┆           ┆           ┆           │\n",
       "│ 3003065   ┆ Kun Star  ┆ Biografgæ ┆ 2023-06-2 ┆ … ┆ 116      ┆ 1         ┆ 1         ┆ [0.0,     │\n",
       "│           ┆ Wars      ┆ ngerne    ┆ 9         ┆   ┆          ┆           ┆           ┆ 0.0, …    │\n",
       "│           ┆ tjente    ┆ strømmer  ┆ 06:20:35  ┆   ┆          ┆           ┆           ┆ 0.536059] │\n",
       "│           ┆ mere      ┆ ind for…  ┆           ┆   ┆          ┆           ┆           ┆           │\n",
       "└───────────┴───────────┴───────────┴───────────┴───┴──────────┴───────────┴───────────┴───────────┘"
      ]
     },
     "execution_count": 11,
     "metadata": {},
     "output_type": "execute_result"
    }
   ],
   "source": [
    "from sklearn.feature_extraction.text import TfidfVectorizer\n",
    "\n",
    "vectorizer = TfidfVectorizer()\n",
    "articles = articles.with_columns(\n",
    "    pl.Series(\n",
    "        vectorizer.fit_transform(\n",
    "            articles.with_columns(pl.col('topics').list.join(separator=' '))['topics'].to_list()\n",
    "        ).toarray().astype(np.float32)\n",
    "    ).alias('topics_idf')\n",
    ")\n",
    "\n",
    "gc.collect()\n",
    "PrintColor(f\"\\n\" + GetMemUsage(), color = Fore.RED)\n",
    "articles.head(2)"
   ]
  },
  {
   "cell_type": "code",
   "execution_count": 12,
   "id": "495905d6",
   "metadata": {
    "execution": {
     "iopub.execute_input": "2024-04-08T12:25:33.820944Z",
     "iopub.status.busy": "2024-04-08T12:25:33.820434Z",
     "iopub.status.idle": "2024-04-08T12:25:33.832476Z",
     "shell.execute_reply": "2024-04-08T12:25:33.830708Z"
    },
    "papermill": {
     "duration": 0.049257,
     "end_time": "2024-04-08T12:25:33.835996",
     "exception": false,
     "start_time": "2024-04-08T12:25:33.786739",
     "status": "completed"
    },
    "tags": []
   },
   "outputs": [
    {
     "data": {
      "text/plain": [
       "79"
      ]
     },
     "execution_count": 12,
     "metadata": {},
     "output_type": "execute_result"
    }
   ],
   "source": [
    "# without split + join with _ of the single topics this returns 94\n",
    "len(vectorizer.get_feature_names_out())"
   ]
  },
  {
   "cell_type": "markdown",
   "id": "316e6023",
   "metadata": {
    "papermill": {
     "duration": 0.036085,
     "end_time": "2024-04-08T12:25:33.905266",
     "exception": false,
     "start_time": "2024-04-08T12:25:33.869181",
     "status": "completed"
    },
    "tags": []
   },
   "source": [
    "## Topic Model"
   ]
  },
  {
   "cell_type": "code",
   "execution_count": 13,
   "id": "3d8396ad",
   "metadata": {
    "execution": {
     "iopub.execute_input": "2024-04-08T12:25:34.098057Z",
     "iopub.status.busy": "2024-04-08T12:25:34.097580Z",
     "iopub.status.idle": "2024-04-08T12:25:35.264686Z",
     "shell.execute_reply": "2024-04-08T12:25:35.263237Z"
    },
    "papermill": {
     "duration": 1.31984,
     "end_time": "2024-04-08T12:25:35.268000",
     "exception": false,
     "start_time": "2024-04-08T12:25:33.948160",
     "status": "completed"
    },
    "tags": []
   },
   "outputs": [],
   "source": [
    "import nltk\n",
    "from sklearn.feature_extraction.text import CountVectorizer\n",
    "\n",
    "stopwords = nltk.corpus.stopwords.words('danish')\n",
    "title_vectorizer = CountVectorizer(stop_words=stopwords)\n",
    "\n",
    "titles_bow = title_vectorizer.fit_transform(articles['title'].to_list())"
   ]
  },
  {
   "cell_type": "code",
   "execution_count": 14,
   "id": "02f04aa9",
   "metadata": {
    "execution": {
     "iopub.execute_input": "2024-04-08T12:25:35.331534Z",
     "iopub.status.busy": "2024-04-08T12:25:35.330916Z",
     "iopub.status.idle": "2024-04-08T12:26:09.969084Z",
     "shell.execute_reply": "2024-04-08T12:26:09.967922Z"
    },
    "papermill": {
     "duration": 34.70619,
     "end_time": "2024-04-08T12:26:10.004700",
     "exception": false,
     "start_time": "2024-04-08T12:25:35.298510",
     "status": "completed"
    },
    "tags": []
   },
   "outputs": [
    {
     "name": "stdout",
     "output_type": "stream",
     "text": [
      "CPU times: user 34.5 s, sys: 0 ns, total: 34.5 s\n",
      "Wall time: 34.6 s\n"
     ]
    },
    {
     "data": {
      "text/html": [
       "<div><style>\n",
       ".dataframe > thead > tr,\n",
       ".dataframe > tbody > tr {\n",
       "  text-align: right;\n",
       "  white-space: pre-wrap;\n",
       "}\n",
       "</style>\n",
       "<small>shape: (2, 29)</small><table border=\"1\" class=\"dataframe\"><thead><tr><th>article_id</th><th>title</th><th>subtitle</th><th>last_modified_time</th><th>premium</th><th>body</th><th>published_time</th><th>image_ids</th><th>article_type</th><th>url</th><th>ner_clusters</th><th>entity_groups</th><th>topics</th><th>category</th><th>subcategory</th><th>category_str</th><th>total_inviews</th><th>total_pageviews</th><th>total_read_time</th><th>sentiment_score</th><th>sentiment_label</th><th>num_images</th><th>title_len</th><th>subtitle_len</th><th>body_len</th><th>sentiment_label_int</th><th>is_article_default</th><th>topics_idf</th><th>topic_model_embeddings</th></tr><tr><td>i32</td><td>str</td><td>str</td><td>datetime[μs]</td><td>bool</td><td>str</td><td>datetime[μs]</td><td>list[i64]</td><td>str</td><td>str</td><td>list[str]</td><td>list[str]</td><td>list[str]</td><td>i16</td><td>list[i16]</td><td>str</td><td>i32</td><td>i32</td><td>f32</td><td>f32</td><td>str</td><td>u32</td><td>u8</td><td>u8</td><td>u16</td><td>i8</td><td>u8</td><td>list[f32]</td><td>array[f32, 5]</td></tr></thead><tbody><tr><td>3001353</td><td>&quot;Natascha var i…</td><td>&quot;Politiet frygt…</td><td>2023-06-29 06:20:33</td><td>false</td><td>&quot;Sagen om den ø…</td><td>2006-08-31 08:06:45</td><td>[3150850]</td><td>&quot;article_defaul…</td><td>&quot;https://ekstra…</td><td>[]</td><td>[]</td><td>[&quot;Kriminalitet&quot;, &quot;Personfarlig_kriminalitet&quot;]</td><td>140</td><td>[]</td><td>&quot;krimi&quot;</td><td>null</td><td>null</td><td>null</td><td>0.9955</td><td>&quot;Negative&quot;</td><td>1</td><td>5</td><td>22</td><td>200</td><td>-1</td><td>1</td><td>[0.0, 0.0, … 0.0]</td><td>[0.419167, 0.143426, … 0.143745]</td></tr><tr><td>3003065</td><td>&quot;Kun Star Wars …</td><td>&quot;Biografgængern…</td><td>2023-06-29 06:20:35</td><td>false</td><td>&quot;Vatikanet har …</td><td>2006-05-21 16:57:00</td><td>[3006712]</td><td>&quot;article_defaul…</td><td>&quot;https://ekstra…</td><td>[]</td><td>[]</td><td>[&quot;Underholdning&quot;, &quot;Film_og_tv&quot;, &quot;Økonomi&quot;]</td><td>414</td><td>[433, 434]</td><td>&quot;underholdning&quot;</td><td>null</td><td>null</td><td>null</td><td>0.846</td><td>&quot;Positive&quot;</td><td>1</td><td>5</td><td>19</td><td>116</td><td>1</td><td>1</td><td>[0.0, 0.0, … 0.536059]</td><td>[0.294684, 0.109993, … 0.244528]</td></tr></tbody></table></div>"
      ],
      "text/plain": [
       "shape: (2, 29)\n",
       "┌───────────┬───────────┬───────────┬───────────┬───┬───────────┬───────────┬───────────┬──────────┐\n",
       "│ article_i ┆ title     ┆ subtitle  ┆ last_modi ┆ … ┆ sentiment ┆ is_articl ┆ topics_id ┆ topic_mo │\n",
       "│ d         ┆ ---       ┆ ---       ┆ fied_time ┆   ┆ _label_in ┆ e_default ┆ f         ┆ del_embe │\n",
       "│ ---       ┆ str       ┆ str       ┆ ---       ┆   ┆ t         ┆ ---       ┆ ---       ┆ ddings   │\n",
       "│ i32       ┆           ┆           ┆ datetime[ ┆   ┆ ---       ┆ u8        ┆ list[f32] ┆ ---      │\n",
       "│           ┆           ┆           ┆ μs]       ┆   ┆ i8        ┆           ┆           ┆ array[f3 │\n",
       "│           ┆           ┆           ┆           ┆   ┆           ┆           ┆           ┆ 2, 5]    │\n",
       "╞═══════════╪═══════════╪═══════════╪═══════════╪═══╪═══════════╪═══════════╪═══════════╪══════════╡\n",
       "│ 3001353   ┆ Natascha  ┆ Politiet  ┆ 2023-06-2 ┆ … ┆ -1        ┆ 1         ┆ [0.0,     ┆ [0.41916 │\n",
       "│           ┆ var ikke  ┆ frygter   ┆ 9         ┆   ┆           ┆           ┆ 0.0, …    ┆ 7, 0.143 │\n",
       "│           ┆ den       ┆ nu, at    ┆ 06:20:33  ┆   ┆           ┆           ┆ 0.0]      ┆ 426, …   │\n",
       "│           ┆ første    ┆ Natascha… ┆           ┆   ┆           ┆           ┆           ┆ 0.143745 │\n",
       "│           ┆           ┆           ┆           ┆   ┆           ┆           ┆           ┆ ]        │\n",
       "│ 3003065   ┆ Kun Star  ┆ Biografgæ ┆ 2023-06-2 ┆ … ┆ 1         ┆ 1         ┆ [0.0,     ┆ [0.29468 │\n",
       "│           ┆ Wars      ┆ ngerne    ┆ 9         ┆   ┆           ┆           ┆ 0.0, …    ┆ 4, 0.109 │\n",
       "│           ┆ tjente    ┆ strømmer  ┆ 06:20:35  ┆   ┆           ┆           ┆ 0.536059] ┆ 993, …   │\n",
       "│           ┆ mere      ┆ ind for…  ┆           ┆   ┆           ┆           ┆           ┆ 0.244528 │\n",
       "│           ┆           ┆           ┆           ┆   ┆           ┆           ┆           ┆ ]        │\n",
       "└───────────┴───────────┴───────────┴───────────┴───┴───────────┴───────────┴───────────┴──────────┘"
      ]
     },
     "execution_count": 14,
     "metadata": {},
     "output_type": "execute_result"
    }
   ],
   "source": [
    "%%time\n",
    "\n",
    "from sklearn.decomposition import LatentDirichletAllocation\n",
    "\n",
    "# parameters tuned on perplexity\n",
    "N_COMPONENTS = 5\n",
    "lda_model = LatentDirichletAllocation(\n",
    "    n_components=N_COMPONENTS,\n",
    "    doc_topic_prior=0.99,\n",
    "    topic_word_prior=0.75\n",
    ")\n",
    "articles = articles.with_columns(\n",
    "    pl.Series(lda_model.fit_transform(titles_bow).astype(np.float32)) \\\n",
    "        .list.to_array(5).alias('topic_model_embeddings')\n",
    ")\n",
    "articles.head(2)"
   ]
  },
  {
   "cell_type": "code",
   "execution_count": 15,
   "id": "ce778f8c",
   "metadata": {
    "execution": {
     "iopub.execute_input": "2024-04-08T12:26:10.077164Z",
     "iopub.status.busy": "2024-04-08T12:26:10.076346Z",
     "iopub.status.idle": "2024-04-08T12:26:10.095296Z",
     "shell.execute_reply": "2024-04-08T12:26:10.093887Z"
    },
    "papermill": {
     "duration": 0.058176,
     "end_time": "2024-04-08T12:26:10.098056",
     "exception": false,
     "start_time": "2024-04-08T12:26:10.039880",
     "status": "completed"
    },
    "tags": []
   },
   "outputs": [
    {
     "data": {
      "text/html": [
       "<div><style>\n",
       ".dataframe > thead > tr,\n",
       ".dataframe > tbody > tr {\n",
       "  text-align: right;\n",
       "  white-space: pre-wrap;\n",
       "}\n",
       "</style>\n",
       "<small>shape: (2, 33)</small><table border=\"1\" class=\"dataframe\"><thead><tr><th>article_id</th><th>title</th><th>subtitle</th><th>last_modified_time</th><th>premium</th><th>body</th><th>published_time</th><th>image_ids</th><th>article_type</th><th>url</th><th>ner_clusters</th><th>entity_groups</th><th>topics</th><th>category</th><th>subcategory</th><th>category_str</th><th>total_inviews</th><th>total_pageviews</th><th>total_read_time</th><th>sentiment_score</th><th>sentiment_label</th><th>num_images</th><th>title_len</th><th>subtitle_len</th><th>body_len</th><th>sentiment_label_int</th><th>is_article_default</th><th>topics_idf</th><th>topic_model_embedding_0</th><th>topic_model_embedding_1</th><th>topic_model_embedding_2</th><th>topic_model_embedding_3</th><th>topic_model_embedding_4</th></tr><tr><td>i32</td><td>str</td><td>str</td><td>datetime[μs]</td><td>bool</td><td>str</td><td>datetime[μs]</td><td>list[i64]</td><td>str</td><td>str</td><td>list[str]</td><td>list[str]</td><td>list[str]</td><td>i16</td><td>list[i16]</td><td>str</td><td>i32</td><td>i32</td><td>f32</td><td>f32</td><td>str</td><td>u32</td><td>u8</td><td>u8</td><td>u16</td><td>i8</td><td>u8</td><td>list[f32]</td><td>f32</td><td>f32</td><td>f32</td><td>f32</td><td>f32</td></tr></thead><tbody><tr><td>3001353</td><td>&quot;Natascha var i…</td><td>&quot;Politiet frygt…</td><td>2023-06-29 06:20:33</td><td>false</td><td>&quot;Sagen om den ø…</td><td>2006-08-31 08:06:45</td><td>[3150850]</td><td>&quot;article_defaul…</td><td>&quot;https://ekstra…</td><td>[]</td><td>[]</td><td>[&quot;Kriminalitet&quot;, &quot;Personfarlig_kriminalitet&quot;]</td><td>140</td><td>[]</td><td>&quot;krimi&quot;</td><td>null</td><td>null</td><td>null</td><td>0.9955</td><td>&quot;Negative&quot;</td><td>1</td><td>5</td><td>22</td><td>200</td><td>-1</td><td>1</td><td>[0.0, 0.0, … 0.0]</td><td>0.419167</td><td>0.143426</td><td>0.143763</td><td>0.149898</td><td>0.143745</td></tr><tr><td>3003065</td><td>&quot;Kun Star Wars …</td><td>&quot;Biografgængern…</td><td>2023-06-29 06:20:35</td><td>false</td><td>&quot;Vatikanet har …</td><td>2006-05-21 16:57:00</td><td>[3006712]</td><td>&quot;article_defaul…</td><td>&quot;https://ekstra…</td><td>[]</td><td>[]</td><td>[&quot;Underholdning&quot;, &quot;Film_og_tv&quot;, &quot;Økonomi&quot;]</td><td>414</td><td>[433, 434]</td><td>&quot;underholdning&quot;</td><td>null</td><td>null</td><td>null</td><td>0.846</td><td>&quot;Positive&quot;</td><td>1</td><td>5</td><td>19</td><td>116</td><td>1</td><td>1</td><td>[0.0, 0.0, … 0.536059]</td><td>0.294684</td><td>0.109993</td><td>0.24215</td><td>0.108645</td><td>0.244528</td></tr></tbody></table></div>"
      ],
      "text/plain": [
       "shape: (2, 33)\n",
       "┌───────────┬───────────┬───────────┬───────────┬───┬───────────┬───────────┬───────────┬──────────┐\n",
       "│ article_i ┆ title     ┆ subtitle  ┆ last_modi ┆ … ┆ topic_mod ┆ topic_mod ┆ topic_mod ┆ topic_mo │\n",
       "│ d         ┆ ---       ┆ ---       ┆ fied_time ┆   ┆ el_embedd ┆ el_embedd ┆ el_embedd ┆ del_embe │\n",
       "│ ---       ┆ str       ┆ str       ┆ ---       ┆   ┆ ing_1     ┆ ing_2     ┆ ing_3     ┆ dding_4  │\n",
       "│ i32       ┆           ┆           ┆ datetime[ ┆   ┆ ---       ┆ ---       ┆ ---       ┆ ---      │\n",
       "│           ┆           ┆           ┆ μs]       ┆   ┆ f32       ┆ f32       ┆ f32       ┆ f32      │\n",
       "╞═══════════╪═══════════╪═══════════╪═══════════╪═══╪═══════════╪═══════════╪═══════════╪══════════╡\n",
       "│ 3001353   ┆ Natascha  ┆ Politiet  ┆ 2023-06-2 ┆ … ┆ 0.143426  ┆ 0.143763  ┆ 0.149898  ┆ 0.143745 │\n",
       "│           ┆ var ikke  ┆ frygter   ┆ 9         ┆   ┆           ┆           ┆           ┆          │\n",
       "│           ┆ den       ┆ nu, at    ┆ 06:20:33  ┆   ┆           ┆           ┆           ┆          │\n",
       "│           ┆ første    ┆ Natascha… ┆           ┆   ┆           ┆           ┆           ┆          │\n",
       "│ 3003065   ┆ Kun Star  ┆ Biografgæ ┆ 2023-06-2 ┆ … ┆ 0.109993  ┆ 0.24215   ┆ 0.108645  ┆ 0.244528 │\n",
       "│           ┆ Wars      ┆ ngerne    ┆ 9         ┆   ┆           ┆           ┆           ┆          │\n",
       "│           ┆ tjente    ┆ strømmer  ┆ 06:20:35  ┆   ┆           ┆           ┆           ┆          │\n",
       "│           ┆ mere      ┆ ind for…  ┆           ┆   ┆           ┆           ┆           ┆          │\n",
       "└───────────┴───────────┴───────────┴───────────┴───┴───────────┴───────────┴───────────┴──────────┘"
      ]
     },
     "execution_count": 15,
     "metadata": {},
     "output_type": "execute_result"
    }
   ],
   "source": [
    "topic_model_columns = [f'topic_model_embedding_{i}' for i in range(N_COMPONENTS)]\n",
    "\n",
    "articles = articles.with_columns(\n",
    "    pl.col('topic_model_embeddings').arr.to_struct(fields=lambda i: f'topic_model_embedding_{i}')\n",
    ").with_columns([\n",
    "    pl.col('topic_model_embeddings').struct.field(f'topic_model_embedding_{i}') for i in range(N_COMPONENTS)\n",
    "]).drop('topic_model_embeddings')\n",
    "\n",
    "articles.head(2)"
   ]
  },
  {
   "cell_type": "markdown",
   "id": "29e4d14d",
   "metadata": {
    "papermill": {
     "duration": 0.030596,
     "end_time": "2024-04-08T12:26:10.158725",
     "exception": false,
     "start_time": "2024-04-08T12:26:10.128129",
     "status": "completed"
    },
    "tags": []
   },
   "source": [
    "# History preprocessing"
   ]
  },
  {
   "cell_type": "code",
   "execution_count": 16,
   "id": "c5dae58e",
   "metadata": {
    "execution": {
     "iopub.execute_input": "2024-04-08T12:26:10.224898Z",
     "iopub.status.busy": "2024-04-08T12:26:10.224366Z",
     "iopub.status.idle": "2024-04-08T12:26:10.231747Z",
     "shell.execute_reply": "2024-04-08T12:26:10.230772Z"
    },
    "papermill": {
     "duration": 0.043108,
     "end_time": "2024-04-08T12:26:10.234179",
     "exception": false,
     "start_time": "2024-04-08T12:26:10.191071",
     "status": "completed"
    },
    "tags": []
   },
   "outputs": [],
   "source": [
    "def add_topics_tf_idf_columns(df, topics_col, vectorizer):\n",
    "    return df.with_columns(\n",
    "        pl.Series(\n",
    "            vectorizer.transform(\n",
    "                df.with_columns(pl.col(topics_col).list.join(separator=' '))[topics_col].to_list()\n",
    "            ).toarray().astype(np.float32)\n",
    "        ).alias(f'{topics_col}_tf_idf')\n",
    "    )"
   ]
  },
  {
   "cell_type": "code",
   "execution_count": 17,
   "id": "2e38e17e",
   "metadata": {
    "execution": {
     "iopub.execute_input": "2024-04-08T12:26:10.299252Z",
     "iopub.status.busy": "2024-04-08T12:26:10.298372Z",
     "iopub.status.idle": "2024-04-08T12:26:29.068126Z",
     "shell.execute_reply": "2024-04-08T12:26:29.066758Z"
    },
    "papermill": {
     "duration": 18.806565,
     "end_time": "2024-04-08T12:26:29.071901",
     "exception": false,
     "start_time": "2024-04-08T12:26:10.265336",
     "status": "completed"
    },
    "tags": []
   },
   "outputs": [
    {
     "name": "stderr",
     "output_type": "stream",
     "text": [
      "16it [00:18,  1.13s/it]                        \n"
     ]
    },
    {
     "name": "stdout",
     "output_type": "stream",
     "text": [
      "\u001b[1m\u001b[31m\n",
      "RAM memory GB usage = 0.8144\u001b[0m\n",
      "Memory usage of dataframe is 39.39 MB\n",
      "Memory usage after optimization is: 38.61 MB\n",
      "Decreased by 2.0%\n",
      "CPU times: user 20.6 s, sys: 1.91 s, total: 22.5 s\n",
      "Wall time: 18.7 s\n"
     ]
    },
    {
     "data": {
      "text/html": [
       "<div><style>\n",
       ".dataframe > thead > tr,\n",
       ".dataframe > tbody > tr {\n",
       "  text-align: right;\n",
       "  white-space: pre-wrap;\n",
       "}\n",
       "</style>\n",
       "<small>shape: (2, 27)</small><table border=\"1\" class=\"dataframe\"><thead><tr><th>user_id</th><th>article_id_fixed</th><th>impression_time_fixed</th><th>category</th><th>NumArticlesHistory</th><th>MedianReadTime</th><th>MaxReadTime</th><th>TotalReadTime</th><th>MedianScrollPercentage</th><th>MaxScrollPercentage</th><th>NeutralPct</th><th>PositivePct</th><th>NegativePct</th><th>PctStrongNeutral</th><th>PctStrongPositive</th><th>PctStrongNegative</th><th>PctNotDefaultArticles</th><th>MostFrequentCategory</th><th>MostFrequentWeekday</th><th>MostFrequentHour</th><th>topics_flatten_tf_idf</th><th>MISCPct</th><th>PERPct</th><th>PRODPct</th><th>ORGPct</th><th>LOCPct</th><th>EVENTPct</th></tr><tr><td>u32</td><td>list[i32]</td><td>list[datetime[μs]]</td><td>list[i16]</td><td>u16</td><td>f32</td><td>f32</td><td>f32</td><td>f32</td><td>f32</td><td>f32</td><td>f32</td><td>f32</td><td>f32</td><td>f32</td><td>f32</td><td>f32</td><td>i16</td><td>i8</td><td>i8</td><td>list[f32]</td><td>f32</td><td>f32</td><td>f32</td><td>f32</td><td>f32</td><td>f32</td></tr></thead><tbody><tr><td>10623</td><td>[9739035, 9739065, … 9770533]</td><td>[2023-04-27 14:29:44, 2023-04-27 14:29:47, … 2023-05-17 17:36:24]</td><td>[118, 414, … 140]</td><td>143</td><td>3.0</td><td>1563.0</td><td>9623.0</td><td>42.5</td><td>100.0</td><td>0.230769</td><td>0.111888</td><td>0.657343</td><td>0.097902</td><td>0.083916</td><td>0.608392</td><td>0.06993</td><td>118</td><td>3</td><td>18</td><td>[0.016041, 0.062928, … 0.178427]</td><td>0.223776</td><td>0.874126</td><td>0.237762</td><td>0.888112</td><td>0.804196</td><td>0.202797</td></tr><tr><td>12016</td><td>[9738216, 9735383, … 9769622]</td><td>[2023-04-27 07:39:48, 2023-04-27 07:41:30, … 2023-05-17 23:56:30]</td><td>[140, 118, … 140]</td><td>264</td><td>156.0</td><td>1775.0</td><td>63672.0</td><td>100.0</td><td>100.0</td><td>0.257576</td><td>0.075758</td><td>0.666667</td><td>0.106061</td><td>0.034091</td><td>0.602273</td><td>0.07197</td><td>140</td><td>5</td><td>20</td><td>[0.009749, 0.045896, … 0.075912]</td><td>0.117424</td><td>0.787879</td><td>0.318182</td><td>0.852273</td><td>0.776515</td><td>0.087121</td></tr></tbody></table></div>"
      ],
      "text/plain": [
       "shape: (2, 27)\n",
       "┌─────────┬─────────────┬─────────────┬────────────┬───┬──────────┬──────────┬──────────┬──────────┐\n",
       "│ user_id ┆ article_id_ ┆ impression_ ┆ category   ┆ … ┆ PRODPct  ┆ ORGPct   ┆ LOCPct   ┆ EVENTPct │\n",
       "│ ---     ┆ fixed       ┆ time_fixed  ┆ ---        ┆   ┆ ---      ┆ ---      ┆ ---      ┆ ---      │\n",
       "│ u32     ┆ ---         ┆ ---         ┆ list[i16]  ┆   ┆ f32      ┆ f32      ┆ f32      ┆ f32      │\n",
       "│         ┆ list[i32]   ┆ list[dateti ┆            ┆   ┆          ┆          ┆          ┆          │\n",
       "│         ┆             ┆ me[μs]]     ┆            ┆   ┆          ┆          ┆          ┆          │\n",
       "╞═════════╪═════════════╪═════════════╪════════════╪═══╪══════════╪══════════╪══════════╪══════════╡\n",
       "│ 10623   ┆ [9739035,   ┆ [2023-04-27 ┆ [118, 414, ┆ … ┆ 0.237762 ┆ 0.888112 ┆ 0.804196 ┆ 0.202797 │\n",
       "│         ┆ 9739065, …  ┆ 14:29:44,   ┆ … 140]     ┆   ┆          ┆          ┆          ┆          │\n",
       "│         ┆ 9770533]    ┆ 2023-04-27… ┆            ┆   ┆          ┆          ┆          ┆          │\n",
       "│ 12016   ┆ [9738216,   ┆ [2023-04-27 ┆ [140, 118, ┆ … ┆ 0.318182 ┆ 0.852273 ┆ 0.776515 ┆ 0.087121 │\n",
       "│         ┆ 9735383, …  ┆ 07:39:48,   ┆ … 140]     ┆   ┆          ┆          ┆          ┆          │\n",
       "│         ┆ 9769622]    ┆ 2023-04-27… ┆            ┆   ┆          ┆          ┆          ┆          │\n",
       "└─────────┴─────────────┴─────────────┴────────────┴───┴──────────┴──────────┴──────────┴──────────┘"
      ]
     },
     "execution_count": 17,
     "metadata": {},
     "output_type": "execute_result"
    }
   ],
   "source": [
    "%%time\n",
    "\n",
    "STRONG_THR = 0.8\n",
    "\n",
    "history_train = pl.concat(\n",
    "    rows.with_columns(pl.col('article_id_fixed').list.len().alias('NumArticlesHistory')) \\\n",
    "        .explode(['article_id_fixed', 'impression_time_fixed', 'read_time_fixed', 'scroll_percentage_fixed']) \\\n",
    "        .sort(by=['user_id', 'impression_time_fixed']) \\\n",
    "        .with_columns(\n",
    "            pl.col('impression_time_fixed').dt.weekday().alias('weekday'),\n",
    "            pl.col('impression_time_fixed').dt.hour().alias('hour'),\n",
    "        ).join(articles.select(['article_id', 'category', 'is_article_default', 'sentiment_label_int', \n",
    "                                'sentiment_score', 'entity_groups', 'topics']), \n",
    "               left_on='article_id_fixed', right_on='article_id', how='left') \\\n",
    "        .with_columns(\n",
    "            (pl.col('sentiment_label_int') == 0).alias('is_neutral'),\n",
    "            (pl.col('sentiment_label_int') == 1).alias('is_positive'),\n",
    "            (pl.col('sentiment_label_int') == -1).alias('is_negative'),\n",
    "            ((pl.col('sentiment_label_int') == 0) & (pl.col('sentiment_score') > STRONG_THR)).alias('strong_neutral'),\n",
    "            ((pl.col('sentiment_label_int') == 1) & (pl.col('sentiment_score') > STRONG_THR)).alias('strong_positive'),\n",
    "            ((pl.col('sentiment_label_int') == -1) & (pl.col('sentiment_score') > STRONG_THR)).alias('strong_negative'),\n",
    "            pl.col('entity_groups').list.unique(),\n",
    "        ).group_by('user_id').agg(\n",
    "            pl.col('article_id_fixed'),\n",
    "            pl.col('impression_time_fixed'),\n",
    "            pl.col('category'),\n",
    "            pl.col('NumArticlesHistory').first(),\n",
    "            pl.col('read_time_fixed').median().alias('MedianReadTime'),\n",
    "            pl.col('read_time_fixed').max().alias('MaxReadTime'),\n",
    "            pl.col('read_time_fixed').sum().alias('TotalReadTime'),\n",
    "            pl.col('scroll_percentage_fixed').median().alias('MedianScrollPercentage'),\n",
    "            pl.col('scroll_percentage_fixed').max().alias('MaxScrollPercentage'),\n",
    "            (pl.col('is_neutral').sum() / pl.col('NumArticlesHistory').first()).alias('NeutralPct'),\n",
    "            (pl.col('is_positive').sum() / pl.col('NumArticlesHistory').first()).alias('PositivePct'),\n",
    "            (pl.col('is_negative').sum() / pl.col('NumArticlesHistory').first()).alias('NegativePct'),\n",
    "            (pl.col('strong_neutral').sum() / pl.col('NumArticlesHistory').first()).alias('PctStrongNeutral'),\n",
    "            (pl.col('strong_positive').sum() / pl.col('NumArticlesHistory').first()).alias('PctStrongPositive'),\n",
    "            (pl.col('strong_negative').sum() / pl.col('NumArticlesHistory').first()).alias('PctStrongNegative'),\n",
    "            (1 - (pl.col('is_article_default').sum() / pl.col('NumArticlesHistory').first())).alias('PctNotDefaultArticles'),\n",
    "            pl.col('category').mode().alias('MostFrequentCategory'),\n",
    "            pl.col('weekday').mode().alias('MostFrequentWeekday'),\n",
    "            pl.col('hour').mode().alias('MostFrequentHour'),\n",
    "            pl.col('entity_groups').flatten(),\n",
    "            pl.col('topics').flatten().alias('topics_flatten')\n",
    "        ).pipe(add_topics_tf_idf_columns, topics_col='topics_flatten', vectorizer=vectorizer) \\\n",
    "        .drop('topics_flatten').with_columns(\n",
    "            pl.col('MostFrequentCategory').list.first(),\n",
    "            pl.col('MostFrequentWeekday').list.first(),\n",
    "            pl.col('MostFrequentHour').list.first(),\n",
    "        ).with_columns(\n",
    "            (pl.col('entity_groups').list.count_matches(entity) / pl.col('NumArticlesHistory')).alias(f'{entity}Pct')\n",
    "            for entity in unique_entities\n",
    "        ).drop('entity_groups')\n",
    "    for rows in tqdm.tqdm(history_train.iter_slices(1000), total=history_train.shape[0] // 1000)\n",
    ")\n",
    "\n",
    "gc.collect()\n",
    "PrintColor(f\"\\n\" + GetMemUsage(), color = Fore.RED)\n",
    "history_train = reduce_polars_df_memory_size(history_train)\n",
    "history_train.head(2)"
   ]
  },
  {
   "cell_type": "code",
   "execution_count": 18,
   "id": "ac102360",
   "metadata": {
    "execution": {
     "iopub.execute_input": "2024-04-08T12:26:29.142769Z",
     "iopub.status.busy": "2024-04-08T12:26:29.141302Z",
     "iopub.status.idle": "2024-04-08T12:26:29.150759Z",
     "shell.execute_reply": "2024-04-08T12:26:29.149133Z"
    },
    "papermill": {
     "duration": 0.047882,
     "end_time": "2024-04-08T12:26:29.153895",
     "exception": false,
     "start_time": "2024-04-08T12:26:29.106013",
     "status": "completed"
    },
    "tags": []
   },
   "outputs": [
    {
     "data": {
      "text/plain": [
       "(15143, 27)"
      ]
     },
     "execution_count": 18,
     "metadata": {},
     "output_type": "execute_result"
    }
   ],
   "source": [
    "history_train.shape"
   ]
  },
  {
   "cell_type": "markdown",
   "id": "b5fc3ab0",
   "metadata": {
    "papermill": {
     "duration": 0.033882,
     "end_time": "2024-04-08T12:26:29.222684",
     "exception": false,
     "start_time": "2024-04-08T12:26:29.188802",
     "status": "completed"
    },
    "tags": []
   },
   "source": [
    "# Named entity collaborative filtering"
   ]
  },
  {
   "cell_type": "code",
   "execution_count": 19,
   "id": "d18374ec",
   "metadata": {
    "execution": {
     "iopub.execute_input": "2024-04-08T12:26:29.295740Z",
     "iopub.status.busy": "2024-04-08T12:26:29.294313Z",
     "iopub.status.idle": "2024-04-08T12:26:29.410259Z",
     "shell.execute_reply": "2024-04-08T12:26:29.409055Z"
    },
    "papermill": {
     "duration": 0.155752,
     "end_time": "2024-04-08T12:26:29.413595",
     "exception": false,
     "start_time": "2024-04-08T12:26:29.257843",
     "status": "completed"
    },
    "tags": []
   },
   "outputs": [],
   "source": [
    "user_id_mapping = history_train.sort('user_id').with_row_index() \\\n",
    "    .select(['index', 'user_id']).rename({'index': 'user_index'})\n",
    "\n",
    "ner_mapping = articles.select(['ner_clusters']) \\\n",
    "    .explode('ner_clusters') \\\n",
    "    .rename({'ner_clusters': 'ner'}) \\\n",
    "    .with_columns(pl.col('ner').str.strip_chars_start('\\\" ').str.to_lowercase()) \\\n",
    "    .unique('ner').drop_nulls().filter(pl.col('ner').str.len_chars() > 0) \\\n",
    "    .sort('ner').with_row_index().rename({'index': 'ner_index'})"
   ]
  },
  {
   "cell_type": "code",
   "execution_count": 20,
   "id": "834030fb",
   "metadata": {
    "execution": {
     "iopub.execute_input": "2024-04-08T12:26:29.486352Z",
     "iopub.status.busy": "2024-04-08T12:26:29.485317Z",
     "iopub.status.idle": "2024-04-08T12:26:46.549093Z",
     "shell.execute_reply": "2024-04-08T12:26:46.547429Z"
    },
    "papermill": {
     "duration": 17.104977,
     "end_time": "2024-04-08T12:26:46.552529",
     "exception": false,
     "start_time": "2024-04-08T12:26:29.447552",
     "status": "completed"
    },
    "tags": []
   },
   "outputs": [],
   "source": [
    "ner_interactions = history_train.select(['user_id', 'article_id_fixed']).explode('article_id_fixed') \\\n",
    "    .join(articles.select(['article_id', 'ner_clusters']), left_on='article_id_fixed', right_on='article_id', how='left') \\\n",
    "    .explode('ner_clusters').unique(['user_id', 'ner_clusters']) \\\n",
    "    .with_columns(pl.col('ner_clusters').str.strip_chars_start('\\\" ').str.to_lowercase()) \\\n",
    "    .join(user_id_mapping, on='user_id', how='left') \\\n",
    "    .join(ner_mapping, left_on='ner_clusters', right_on='ner') \\\n",
    "    .select(['user_index', 'ner_index', 'user_id', 'article_id_fixed']) \\\n",
    "    .unique(['user_index', 'ner_index'])\n",
    "\n",
    "URM_ner = sps.csr_matrix((np.ones(ner_interactions.shape[0]),\n",
    "                          (ner_interactions['user_index'].to_numpy(), ner_interactions['ner_index'].to_numpy())),\n",
    "                         shape=(user_id_mapping.shape[0], ner_mapping.shape[0]))\n",
    "\n",
    "ner_interactions_test = behaviors_train.select(['user_id', 'article_ids_clicked']).explode('article_ids_clicked') \\\n",
    "    .join(articles.select(['article_id', 'ner_clusters']), left_on='article_ids_clicked', right_on='article_id', how='left') \\\n",
    "    .explode('ner_clusters').unique(['user_id', 'ner_clusters']) \\\n",
    "    .with_columns(pl.col('ner_clusters').str.strip_chars_start('\\\" ').str.to_lowercase()) \\\n",
    "    .join(user_id_mapping, on='user_id', how='left') \\\n",
    "    .join(ner_mapping, left_on='ner_clusters', right_on='ner') \\\n",
    "    .select(['user_index', 'ner_index', 'user_id', 'article_ids_clicked']) \\\n",
    "    .unique(['user_index', 'ner_index'])\n",
    "\n",
    "URM_ner_test = sps.csr_matrix((np.ones(ner_interactions_test.shape[0]),\n",
    "                               (ner_interactions_test['user_index'].to_numpy(), ner_interactions_test['ner_index'].to_numpy())),\n",
    "                              shape=(user_id_mapping.shape[0], ner_mapping.shape[0]))"
   ]
  },
  {
   "cell_type": "code",
   "execution_count": 21,
   "id": "630bc7f7",
   "metadata": {
    "execution": {
     "iopub.execute_input": "2024-04-08T12:26:46.623090Z",
     "iopub.status.busy": "2024-04-08T12:26:46.622579Z",
     "iopub.status.idle": "2024-04-08T12:32:45.341995Z",
     "shell.execute_reply": "2024-04-08T12:32:45.340420Z"
    },
    "papermill": {
     "duration": 358.758544,
     "end_time": "2024-04-08T12:32:45.345373",
     "exception": false,
     "start_time": "2024-04-08T12:26:46.586829",
     "status": "completed"
    },
    "tags": []
   },
   "outputs": [
    {
     "name": "stdout",
     "output_type": "stream",
     "text": [
      "/kaggle/working/RecSys_Course_AT_PoliMi\n",
      "ItemKNNCFRecommender: URM Detected 1 ( 0.0%) users with no interactions.\n",
      "ItemKNNCFRecommender: URM Detected 18909 (43.2%) items with no interactions.\n",
      "Unable to load Cython Compute_Similarity, reverting to Python\n",
      "Similarity column 42700 (97.5%), 142.29 column/sec. Elapsed time 5.00 min\n",
      "Similarity column 43774 (100.0%), 142.32 column/sec. Elapsed time 5.13 min\n",
      "EvaluatorHoldout: Ignoring 31 ( 0.2%) Users that have less than 1 test interactions\n",
      "EvaluatorHoldout: Processed 15112 (100.0%) in 49.65 sec. Users per second: 304\n"
     ]
    },
    {
     "data": {
      "text/html": [
       "<div>\n",
       "<style scoped>\n",
       "    .dataframe tbody tr th:only-of-type {\n",
       "        vertical-align: middle;\n",
       "    }\n",
       "\n",
       "    .dataframe tbody tr th {\n",
       "        vertical-align: top;\n",
       "    }\n",
       "\n",
       "    .dataframe thead th {\n",
       "        text-align: right;\n",
       "    }\n",
       "</style>\n",
       "<table border=\"1\" class=\"dataframe\">\n",
       "  <thead>\n",
       "    <tr style=\"text-align: right;\">\n",
       "      <th></th>\n",
       "      <th>PRECISION</th>\n",
       "      <th>PRECISION_RECALL_MIN_DEN</th>\n",
       "      <th>RECALL</th>\n",
       "      <th>MAP</th>\n",
       "      <th>MAP_MIN_DEN</th>\n",
       "      <th>MRR</th>\n",
       "      <th>NDCG</th>\n",
       "      <th>F1</th>\n",
       "      <th>HIT_RATE</th>\n",
       "      <th>ARHR_ALL_HITS</th>\n",
       "      <th>...</th>\n",
       "      <th>COVERAGE_USER</th>\n",
       "      <th>COVERAGE_USER_HIT</th>\n",
       "      <th>USERS_IN_GT</th>\n",
       "      <th>DIVERSITY_GINI</th>\n",
       "      <th>SHANNON_ENTROPY</th>\n",
       "      <th>RATIO_DIVERSITY_HERFINDAHL</th>\n",
       "      <th>RATIO_DIVERSITY_GINI</th>\n",
       "      <th>RATIO_SHANNON_ENTROPY</th>\n",
       "      <th>RATIO_AVERAGE_POPULARITY</th>\n",
       "      <th>RATIO_NOVELTY</th>\n",
       "    </tr>\n",
       "    <tr>\n",
       "      <th>cutoff</th>\n",
       "      <th></th>\n",
       "      <th></th>\n",
       "      <th></th>\n",
       "      <th></th>\n",
       "      <th></th>\n",
       "      <th></th>\n",
       "      <th></th>\n",
       "      <th></th>\n",
       "      <th></th>\n",
       "      <th></th>\n",
       "      <th></th>\n",
       "      <th></th>\n",
       "      <th></th>\n",
       "      <th></th>\n",
       "      <th></th>\n",
       "      <th></th>\n",
       "      <th></th>\n",
       "      <th></th>\n",
       "      <th></th>\n",
       "      <th></th>\n",
       "      <th></th>\n",
       "    </tr>\n",
       "  </thead>\n",
       "  <tbody>\n",
       "    <tr>\n",
       "      <th>10</th>\n",
       "      <td>0.311971</td>\n",
       "      <td>0.312913</td>\n",
       "      <td>0.030088</td>\n",
       "      <td>0.214433</td>\n",
       "      <td>0.214676</td>\n",
       "      <td>0.469902</td>\n",
       "      <td>0.319612</td>\n",
       "      <td>0.054883</td>\n",
       "      <td>0.766609</td>\n",
       "      <td>0.953152</td>\n",
       "      <td>...</td>\n",
       "      <td>0.997953</td>\n",
       "      <td>0.76504</td>\n",
       "      <td>0.997953</td>\n",
       "      <td>0.002086</td>\n",
       "      <td>5.362616</td>\n",
       "      <td>0.952586</td>\n",
       "      <td>0.016842</td>\n",
       "      <td>0.419597</td>\n",
       "      <td>3.357942</td>\n",
       "      <td>0.009295</td>\n",
       "    </tr>\n",
       "  </tbody>\n",
       "</table>\n",
       "<p>1 rows × 27 columns</p>\n",
       "</div>"
      ],
      "text/plain": [
       "       PRECISION PRECISION_RECALL_MIN_DEN    RECALL       MAP MAP_MIN_DEN  \\\n",
       "cutoff                                                                      \n",
       "10      0.311971                 0.312913  0.030088  0.214433    0.214676   \n",
       "\n",
       "             MRR      NDCG        F1  HIT_RATE ARHR_ALL_HITS  ...  \\\n",
       "cutoff                                                        ...   \n",
       "10      0.469902  0.319612  0.054883  0.766609      0.953152  ...   \n",
       "\n",
       "       COVERAGE_USER COVERAGE_USER_HIT USERS_IN_GT DIVERSITY_GINI  \\\n",
       "cutoff                                                              \n",
       "10          0.997953           0.76504    0.997953       0.002086   \n",
       "\n",
       "       SHANNON_ENTROPY RATIO_DIVERSITY_HERFINDAHL RATIO_DIVERSITY_GINI  \\\n",
       "cutoff                                                                   \n",
       "10            5.362616                   0.952586             0.016842   \n",
       "\n",
       "       RATIO_SHANNON_ENTROPY RATIO_AVERAGE_POPULARITY RATIO_NOVELTY  \n",
       "cutoff                                                               \n",
       "10                  0.419597                 3.357942      0.009295  \n",
       "\n",
       "[1 rows x 27 columns]"
      ]
     },
     "execution_count": 21,
     "metadata": {},
     "output_type": "execute_result"
    }
   ],
   "source": [
    "%cd /kaggle/working/RecSys_Course_AT_PoliMi\n",
    "\n",
    "from Recommenders.SLIM.SLIMElasticNetRecommender import SLIMElasticNetRecommender\n",
    "from Recommenders.KNN.ItemKNNCFRecommender import ItemKNNCFRecommender\n",
    "from Recommenders.MatrixFactorization.PureSVDRecommender import PureSVDRecommender\n",
    "from Evaluation.Evaluator import EvaluatorHoldout\n",
    "\n",
    "np.int = int\n",
    "np.random.seed(42)\n",
    "np.bool = bool\n",
    "np.float = float\n",
    "\n",
    "item_knn = ItemKNNCFRecommender(URM_ner)\n",
    "item_knn.fit(topK=100, similarity='jaccard')\n",
    "\n",
    "evaluator = EvaluatorHoldout(URM_ner_test, cutoff_list=[10], exclude_seen=False)\n",
    "result_df, _ = evaluator.evaluateRecommender(item_knn)\n",
    "result_df"
   ]
  },
  {
   "cell_type": "code",
   "execution_count": 22,
   "id": "e9ec978d",
   "metadata": {
    "execution": {
     "iopub.execute_input": "2024-04-08T12:32:45.419197Z",
     "iopub.status.busy": "2024-04-08T12:32:45.418681Z",
     "iopub.status.idle": "2024-04-08T12:33:17.191598Z",
     "shell.execute_reply": "2024-04-08T12:33:17.189940Z"
    },
    "papermill": {
     "duration": 31.816702,
     "end_time": "2024-04-08T12:33:17.197065",
     "exception": false,
     "start_time": "2024-04-08T12:32:45.380363",
     "status": "completed"
    },
    "tags": []
   },
   "outputs": [
    {
     "name": "stdout",
     "output_type": "stream",
     "text": [
      "PureSVDRecommender: URM Detected 1 ( 0.0%) users with no interactions.\n",
      "PureSVDRecommender: URM Detected 18909 (43.2%) items with no interactions.\n",
      "PureSVDRecommender: Computing SVD decomposition...\n",
      "PureSVDRecommender: Computing SVD decomposition... done in 5.09 sec\n",
      "EvaluatorHoldout: Processed 15112 (100.0%) in 26.10 sec. Users per second: 579\n"
     ]
    },
    {
     "data": {
      "text/html": [
       "<div>\n",
       "<style scoped>\n",
       "    .dataframe tbody tr th:only-of-type {\n",
       "        vertical-align: middle;\n",
       "    }\n",
       "\n",
       "    .dataframe tbody tr th {\n",
       "        vertical-align: top;\n",
       "    }\n",
       "\n",
       "    .dataframe thead th {\n",
       "        text-align: right;\n",
       "    }\n",
       "</style>\n",
       "<table border=\"1\" class=\"dataframe\">\n",
       "  <thead>\n",
       "    <tr style=\"text-align: right;\">\n",
       "      <th></th>\n",
       "      <th>PRECISION</th>\n",
       "      <th>PRECISION_RECALL_MIN_DEN</th>\n",
       "      <th>RECALL</th>\n",
       "      <th>MAP</th>\n",
       "      <th>MAP_MIN_DEN</th>\n",
       "      <th>MRR</th>\n",
       "      <th>NDCG</th>\n",
       "      <th>F1</th>\n",
       "      <th>HIT_RATE</th>\n",
       "      <th>ARHR_ALL_HITS</th>\n",
       "      <th>...</th>\n",
       "      <th>COVERAGE_USER</th>\n",
       "      <th>COVERAGE_USER_HIT</th>\n",
       "      <th>USERS_IN_GT</th>\n",
       "      <th>DIVERSITY_GINI</th>\n",
       "      <th>SHANNON_ENTROPY</th>\n",
       "      <th>RATIO_DIVERSITY_HERFINDAHL</th>\n",
       "      <th>RATIO_DIVERSITY_GINI</th>\n",
       "      <th>RATIO_SHANNON_ENTROPY</th>\n",
       "      <th>RATIO_AVERAGE_POPULARITY</th>\n",
       "      <th>RATIO_NOVELTY</th>\n",
       "    </tr>\n",
       "    <tr>\n",
       "      <th>cutoff</th>\n",
       "      <th></th>\n",
       "      <th></th>\n",
       "      <th></th>\n",
       "      <th></th>\n",
       "      <th></th>\n",
       "      <th></th>\n",
       "      <th></th>\n",
       "      <th></th>\n",
       "      <th></th>\n",
       "      <th></th>\n",
       "      <th></th>\n",
       "      <th></th>\n",
       "      <th></th>\n",
       "      <th></th>\n",
       "      <th></th>\n",
       "      <th></th>\n",
       "      <th></th>\n",
       "      <th></th>\n",
       "      <th></th>\n",
       "      <th></th>\n",
       "      <th></th>\n",
       "    </tr>\n",
       "  </thead>\n",
       "  <tbody>\n",
       "    <tr>\n",
       "      <th>10</th>\n",
       "      <td>0.342628</td>\n",
       "      <td>0.345141</td>\n",
       "      <td>0.048661</td>\n",
       "      <td>0.261759</td>\n",
       "      <td>0.263204</td>\n",
       "      <td>0.670397</td>\n",
       "      <td>0.392258</td>\n",
       "      <td>0.085219</td>\n",
       "      <td>0.858655</td>\n",
       "      <td>1.275579</td>\n",
       "      <td>...</td>\n",
       "      <td>0.997953</td>\n",
       "      <td>0.856898</td>\n",
       "      <td>0.997953</td>\n",
       "      <td>0.001871</td>\n",
       "      <td>5.929536</td>\n",
       "      <td>0.95823</td>\n",
       "      <td>0.015104</td>\n",
       "      <td>0.463956</td>\n",
       "      <td>3.324192</td>\n",
       "      <td>0.009294</td>\n",
       "    </tr>\n",
       "  </tbody>\n",
       "</table>\n",
       "<p>1 rows × 27 columns</p>\n",
       "</div>"
      ],
      "text/plain": [
       "       PRECISION PRECISION_RECALL_MIN_DEN    RECALL       MAP MAP_MIN_DEN  \\\n",
       "cutoff                                                                      \n",
       "10      0.342628                 0.345141  0.048661  0.261759    0.263204   \n",
       "\n",
       "             MRR      NDCG        F1  HIT_RATE ARHR_ALL_HITS  ...  \\\n",
       "cutoff                                                        ...   \n",
       "10      0.670397  0.392258  0.085219  0.858655      1.275579  ...   \n",
       "\n",
       "       COVERAGE_USER COVERAGE_USER_HIT USERS_IN_GT DIVERSITY_GINI  \\\n",
       "cutoff                                                              \n",
       "10          0.997953          0.856898    0.997953       0.001871   \n",
       "\n",
       "       SHANNON_ENTROPY RATIO_DIVERSITY_HERFINDAHL RATIO_DIVERSITY_GINI  \\\n",
       "cutoff                                                                   \n",
       "10            5.929536                    0.95823             0.015104   \n",
       "\n",
       "       RATIO_SHANNON_ENTROPY RATIO_AVERAGE_POPULARITY RATIO_NOVELTY  \n",
       "cutoff                                                               \n",
       "10                  0.463956                 3.324192      0.009294  \n",
       "\n",
       "[1 rows x 27 columns]"
      ]
     },
     "execution_count": 22,
     "metadata": {},
     "output_type": "execute_result"
    }
   ],
   "source": [
    "pure_svd = PureSVDRecommender(URM_ner)\n",
    "pure_svd.fit(num_factors=20)\n",
    "\n",
    "result_df, _ = evaluator.evaluateRecommender(pure_svd)\n",
    "result_df"
   ]
  },
  {
   "cell_type": "code",
   "execution_count": 23,
   "id": "4c66f8a6",
   "metadata": {
    "execution": {
     "iopub.execute_input": "2024-04-08T12:33:17.271627Z",
     "iopub.status.busy": "2024-04-08T12:33:17.271163Z",
     "iopub.status.idle": "2024-04-08T12:35:26.940889Z",
     "shell.execute_reply": "2024-04-08T12:35:26.939458Z"
    },
    "papermill": {
     "duration": 129.744881,
     "end_time": "2024-04-08T12:35:26.977520",
     "exception": false,
     "start_time": "2024-04-08T12:33:17.232639",
     "status": "completed"
    },
    "tags": []
   },
   "outputs": [
    {
     "name": "stdout",
     "output_type": "stream",
     "text": [
      "CPU times: user 4min 36s, sys: 3min 17s, total: 7min 53s\n",
      "Wall time: 2min 9s\n"
     ]
    },
    {
     "data": {
      "text/html": [
       "<div><style>\n",
       ".dataframe > thead > tr,\n",
       ".dataframe > tbody > tr {\n",
       "  text-align: right;\n",
       "  white-space: pre-wrap;\n",
       "}\n",
       "</style>\n",
       "<small>shape: (5, 8)</small><table border=\"1\" class=\"dataframe\"><thead><tr><th>impression_id</th><th>article</th><th>total_ner_svd_scores</th><th>mean_ner_svd_scores</th><th>max_ner_svd_scores</th><th>total_ner_item_knn_scores</th><th>mean_ner_item_knn_scores</th><th>max_ner_item_knn_scores</th></tr><tr><td>u32</td><td>i32</td><td>f32</td><td>f32</td><td>f32</td><td>f32</td><td>f32</td><td>f32</td></tr></thead><tbody><tr><td>149474</td><td>9778728</td><td>0.282741</td><td>0.388768</td><td>0.821684</td><td>0.423638</td><td>0.582502</td><td>1.0</td></tr><tr><td>153068</td><td>9778669</td><td>0.082189</td><td>0.136982</td><td>0.457919</td><td>0.048774</td><td>0.08129</td><td>0.374363</td></tr><tr><td>153068</td><td>9756397</td><td>0.834711</td><td>0.834711</td><td>0.702668</td><td>0.591149</td><td>0.591149</td><td>0.99359</td></tr><tr><td>153070</td><td>9020783</td><td>0.780017</td><td>0.520011</td><td>0.98217</td><td>0.988058</td><td>0.658706</td><td>1.0</td></tr><tr><td>153070</td><td>9778444</td><td>0.0</td><td>0.0</td><td>0.0</td><td>0.0</td><td>0.0</td><td>0.0</td></tr></tbody></table></div>"
      ],
      "text/plain": [
       "shape: (5, 8)\n",
       "┌────────────┬─────────┬────────────┬────────────┬────────────┬────────────┬───────────┬───────────┐\n",
       "│ impression ┆ article ┆ total_ner_ ┆ mean_ner_s ┆ max_ner_sv ┆ total_ner_ ┆ mean_ner_ ┆ max_ner_i │\n",
       "│ _id        ┆ ---     ┆ svd_scores ┆ vd_scores  ┆ d_scores   ┆ item_knn_s ┆ item_knn_ ┆ tem_knn_s │\n",
       "│ ---        ┆ i32     ┆ ---        ┆ ---        ┆ ---        ┆ cores      ┆ scores    ┆ cores     │\n",
       "│ u32        ┆         ┆ f32        ┆ f32        ┆ f32        ┆ ---        ┆ ---       ┆ ---       │\n",
       "│            ┆         ┆            ┆            ┆            ┆ f32        ┆ f32       ┆ f32       │\n",
       "╞════════════╪═════════╪════════════╪════════════╪════════════╪════════════╪═══════════╪═══════════╡\n",
       "│ 149474     ┆ 9778728 ┆ 0.282741   ┆ 0.388768   ┆ 0.821684   ┆ 0.423638   ┆ 0.582502  ┆ 1.0       │\n",
       "│ 153068     ┆ 9778669 ┆ 0.082189   ┆ 0.136982   ┆ 0.457919   ┆ 0.048774   ┆ 0.08129   ┆ 0.374363  │\n",
       "│ 153068     ┆ 9756397 ┆ 0.834711   ┆ 0.834711   ┆ 0.702668   ┆ 0.591149   ┆ 0.591149  ┆ 0.99359   │\n",
       "│ 153070     ┆ 9020783 ┆ 0.780017   ┆ 0.520011   ┆ 0.98217    ┆ 0.988058   ┆ 0.658706  ┆ 1.0       │\n",
       "│ 153070     ┆ 9778444 ┆ 0.0        ┆ 0.0        ┆ 0.0        ┆ 0.0        ┆ 0.0       ┆ 0.0       │\n",
       "└────────────┴─────────┴────────────┴────────────┴────────────┴────────────┴───────────┴───────────┘"
      ]
     },
     "execution_count": 23,
     "metadata": {},
     "output_type": "execute_result"
    }
   ],
   "source": [
    "%%time\n",
    "\n",
    "def get_inview_scores(user_ners_df, recommender, f_name):\n",
    "    user_index = user_ners_df['user_index'].to_list()[0]\n",
    "    ners = user_ners_df['ner_index'].to_numpy()\n",
    "    scores = recommender._compute_item_score([user_index], ners)[0, ners]\n",
    "    return user_ners_df.with_columns(\n",
    "        pl.Series(scores).alias(f_name)\n",
    "    )\n",
    "\n",
    "ner_inview_scores = behaviors_train.select(['user_id', 'article_ids_inview']).explode('article_ids_inview') \\\n",
    "    .join(articles.select(['article_id', 'ner_clusters']), left_on='article_ids_inview', right_on='article_id', how='left') \\\n",
    "    .explode('ner_clusters').unique(['user_id', 'ner_clusters']) \\\n",
    "    .with_columns(pl.col('ner_clusters').str.strip_chars_start('\\\" ').str.to_lowercase()) \\\n",
    "    .join(user_id_mapping, on='user_id', how='left') \\\n",
    "    .join(ner_mapping, left_on='ner_clusters', right_on='ner') \\\n",
    "    .select(['user_index', 'ner_index', 'user_id', 'article_ids_inview']) \\\n",
    "    .unique(['user_index', 'ner_index']) \\\n",
    "    .sort(['user_index', 'ner_index']).group_by('user_index').map_groups(\n",
    "        lambda user_df: user_df.pipe(get_inview_scores, recommender=pure_svd, f_name='pure_svd_scores') \\\n",
    "            .pipe(get_inview_scores, recommender=item_knn, f_name='item_knn_scores')\n",
    "    )\n",
    "\n",
    "behaviors_ner_scores = behaviors_train.select(['impression_id', 'user_id', 'article_ids_inview']).explode('article_ids_inview') \\\n",
    "    .join(ner_inview_scores, on=['user_id', 'article_ids_inview'], how='left') \\\n",
    "    .with_columns(pl.col(['pure_svd_scores', 'item_knn_scores']).fill_null(0)) \\\n",
    "    .group_by(['impression_id', 'article_ids_inview']).agg(\n",
    "        pl.col('pure_svd_scores').sum().alias('total_ner_svd_scores'),\n",
    "        pl.col('pure_svd_scores').mean().alias('mean_ner_svd_scores'),\n",
    "        pl.col('pure_svd_scores').max().alias('max_ner_svd_scores'),\n",
    "        pl.col('item_knn_scores').sum().alias('total_ner_item_knn_scores'),\n",
    "        pl.col('item_knn_scores').mean().alias('mean_ner_item_knn_scores'),\n",
    "        pl.col('item_knn_scores').max().alias('max_ner_item_knn_scores'),\n",
    "    ).with_columns(\n",
    "        pl.col(['total_ner_svd_scores', 'mean_ner_svd_scores', \n",
    "                'total_ner_item_knn_scores', 'mean_ner_item_knn_scores',\n",
    "                'max_ner_svd_scores', 'max_ner_item_knn_scores']).max().over('impression_id').name.suffix('_max')\n",
    "    ).with_columns(\n",
    "        # l1 normalization\n",
    "        pl.col('total_ner_svd_scores').truediv(pl.col('total_ner_svd_scores_max')),\n",
    "        pl.col('mean_ner_svd_scores').truediv(pl.col('mean_ner_svd_scores_max')),\n",
    "        pl.col('max_ner_svd_scores').truediv(pl.col('max_ner_svd_scores_max')),\n",
    "        pl.col('total_ner_item_knn_scores').truediv(pl.col('total_ner_item_knn_scores_max')),\n",
    "        pl.col('mean_ner_item_knn_scores').truediv(pl.col('mean_ner_item_knn_scores_max')),\n",
    "        pl.col('max_ner_item_knn_scores').truediv(pl.col('max_ner_item_knn_scores_max')),\n",
    "    ).drop(['total_ner_svd_scores_max', 'mean_ner_svd_scores_max', \n",
    "            'max_ner_svd_scores_max', 'total_ner_item_knn_scores_max',\n",
    "            'mean_ner_item_knn_scores_max', 'max_ner_item_knn_scores_max']) \\\n",
    "    .rename({'article_ids_inview': 'article'})\n",
    "behaviors_ner_scores.head(5)"
   ]
  },
  {
   "cell_type": "code",
   "execution_count": 24,
   "id": "7cee55f3",
   "metadata": {
    "execution": {
     "iopub.execute_input": "2024-04-08T12:35:27.054276Z",
     "iopub.status.busy": "2024-04-08T12:35:27.052654Z",
     "iopub.status.idle": "2024-04-08T12:35:27.336458Z",
     "shell.execute_reply": "2024-04-08T12:35:27.335240Z"
    },
    "papermill": {
     "duration": 0.323493,
     "end_time": "2024-04-08T12:35:27.339136",
     "exception": false,
     "start_time": "2024-04-08T12:35:27.015643",
     "status": "completed"
    },
    "tags": []
   },
   "outputs": [
    {
     "data": {
      "text/plain": [
       "0"
      ]
     },
     "execution_count": 24,
     "metadata": {},
     "output_type": "execute_result"
    }
   ],
   "source": [
    "del URM_ner\n",
    "del URM_ner_test\n",
    "del ner_inview_scores\n",
    "del ner_interactions\n",
    "del ner_interactions_test\n",
    "gc.collect()"
   ]
  },
  {
   "cell_type": "markdown",
   "id": "257a102d",
   "metadata": {
    "papermill": {
     "duration": 0.034843,
     "end_time": "2024-04-08T12:35:27.410990",
     "exception": false,
     "start_time": "2024-04-08T12:35:27.376147",
     "status": "completed"
    },
    "tags": []
   },
   "source": [
    "# Creating Training Dataframe"
   ]
  },
  {
   "cell_type": "code",
   "execution_count": 25,
   "id": "f861af08",
   "metadata": {
    "execution": {
     "iopub.execute_input": "2024-04-08T12:35:27.486006Z",
     "iopub.status.busy": "2024-04-08T12:35:27.485455Z",
     "iopub.status.idle": "2024-04-08T12:36:56.789685Z",
     "shell.execute_reply": "2024-04-08T12:36:56.788361Z"
    },
    "papermill": {
     "duration": 89.365622,
     "end_time": "2024-04-08T12:36:56.812435",
     "exception": false,
     "start_time": "2024-04-08T12:35:27.446813",
     "status": "completed"
    },
    "tags": []
   },
   "outputs": [
    {
     "name": "stdout",
     "output_type": "stream",
     "text": [
      "\u001b[1m\u001b[31m\n",
      "RAM memory GB usage = 1.489\u001b[0m\n",
      "Memory usage of dataframe is 115.91 MB\n",
      "Memory usage after optimization is: 90.56 MB\n",
      "Decreased by 21.9%\n",
      "\u001b[1m\u001b[31m\n",
      "RAM memory GB usage = 1.449\u001b[0m\n",
      "CPU times: user 4min 36s, sys: 12.9 s, total: 4min 49s\n",
      "Wall time: 1min 29s\n"
     ]
    },
    {
     "data": {
      "text/html": [
       "<div><style>\n",
       ".dataframe > thead > tr,\n",
       ".dataframe > tbody > tr {\n",
       "  text-align: right;\n",
       "  white-space: pre-wrap;\n",
       "}\n",
       "</style>\n",
       "<small>shape: (5, 45)</small><table border=\"1\" class=\"dataframe\"><thead><tr><th>impression_id</th><th>article</th><th>user_id</th><th>impression_time</th><th>target</th><th>device_type</th><th>read_time</th><th>scroll_percentage</th><th>is_sso_user</th><th>gender</th><th>age</th><th>is_subscriber</th><th>session_id</th><th>mean_topics_mean_delay_days</th><th>mean_topics_mean_delay_hours</th><th>user_mean_delay_days</th><th>user_mean_delay_hours</th><th>trendiness_score</th><th>mean_user_trendiness_score</th><th>mean_topics_trendiness_score</th><th>weekday</th><th>hour</th><th>premium</th><th>published_time</th><th>category</th><th>sentiment_score</th><th>sentiment_label</th><th>num_images</th><th>title_len</th><th>subtitle_len</th><th>body_len</th><th>article_delay_days</th><th>article_delay_hours</th><th>Entity_MISC_Present</th><th>Entity_PER_Present</th><th>Entity_PROD_Present</th><th>Entity_ORG_Present</th><th>Entity_LOC_Present</th><th>Entity_EVENT_Present</th><th>total_ner_svd_scores</th><th>mean_ner_svd_scores</th><th>max_ner_svd_scores</th><th>total_ner_item_knn_scores</th><th>mean_ner_item_knn_scores</th><th>max_ner_item_knn_scores</th></tr><tr><td>u32</td><td>i32</td><td>u32</td><td>datetime[μs]</td><td>i8</td><td>i8</td><td>f32</td><td>f32</td><td>bool</td><td>i8</td><td>i8</td><td>bool</td><td>u32</td><td>f32</td><td>f32</td><td>f32</td><td>f32</td><td>f32</td><td>f32</td><td>f32</td><td>i8</td><td>i8</td><td>bool</td><td>datetime[μs]</td><td>i16</td><td>f32</td><td>str</td><td>u32</td><td>u8</td><td>u8</td><td>u16</td><td>i16</td><td>i32</td><td>bool</td><td>bool</td><td>bool</td><td>bool</td><td>bool</td><td>bool</td><td>f32</td><td>f32</td><td>f32</td><td>f32</td><td>f32</td><td>f32</td></tr></thead><tbody><tr><td>150528</td><td>9778682</td><td>143471</td><td>2023-05-24 07:33:25</td><td>0</td><td>2</td><td>25.0</td><td>null</td><td>false</td><td>2</td><td>null</td><td>false</td><td>1240</td><td>10.621649</td><td>257.855042</td><td>8.973029</td><td>217.933609</td><td>2.641026</td><td>3.077535</td><td>3.792718</td><td>3</td><td>7</td><td>false</td><td>2023-05-24 06:32:42</td><td>498</td><td>0.9546</td><td>&quot;Negative&quot;</td><td>1</td><td>5</td><td>20</td><td>267</td><td>0</td><td>1</td><td>false</td><td>true</td><td>true</td><td>true</td><td>false</td><td>true</td><td>0.187042</td><td>0.185217</td><td>0.711719</td><td>0.158683</td><td>0.141051</td><td>0.762191</td></tr><tr><td>155588</td><td>9778035</td><td>161621</td><td>2023-05-24 07:51:14</td><td>0</td><td>1</td><td>24.0</td><td>100.0</td><td>false</td><td>2</td><td>null</td><td>false</td><td>3625</td><td>4.019499</td><td>98.734055</td><td>6.861461</td><td>169.377838</td><td>1.782051</td><td>2.497998</td><td>4.618584</td><td>3</td><td>7</td><td>false</td><td>2023-05-23 14:47:50</td><td>2975</td><td>0.5991</td><td>&quot;Neutral&quot;</td><td>0</td><td>8</td><td>12</td><td>351</td><td>0</td><td>17</td><td>true</td><td>true</td><td>true</td><td>true</td><td>true</td><td>false</td><td>0.523206</td><td>0.991083</td><td>0.906606</td><td>0.613809</td><td>1.0</td><td>0.972279</td></tr><tr><td>157321</td><td>9776040</td><td>527307</td><td>2023-05-22 19:55:14</td><td>0</td><td>2</td><td>9.0</td><td>null</td><td>false</td><td>2</td><td>null</td><td>false</td><td>4277</td><td>9.866658</td><td>239.443207</td><td>47.539326</td><td>1143.606689</td><td>0.871795</td><td>2.927831</td><td>2.266203</td><td>1</td><td>19</td><td>false</td><td>2023-05-22 19:05:50</td><td>140</td><td>0.9956</td><td>&quot;Negative&quot;</td><td>4</td><td>7</td><td>18</td><td>248</td><td>0</td><td>0</td><td>false</td><td>false</td><td>false</td><td>true</td><td>true</td><td>false</td><td>0.89071</td><td>1.0</td><td>0.946494</td><td>0.749717</td><td>0.899661</td><td>1.0</td></tr><tr><td>160845</td><td>9769580</td><td>536236</td><td>2023-05-22 19:36:23</td><td>0</td><td>2</td><td>17.0</td><td>null</td><td>false</td><td>2</td><td>null</td><td>false</td><td>4733</td><td>13.013822</td><td>315.123444</td><td>1.264822</td><td>33.102768</td><td>3.48718</td><td>2.943549</td><td>3.16217</td><td>1</td><td>19</td><td>false</td><td>2023-05-17 18:31:50</td><td>140</td><td>0.674</td><td>&quot;Positive&quot;</td><td>1</td><td>9</td><td>20</td><td>251</td><td>5</td><td>121</td><td>false</td><td>true</td><td>true</td><td>true</td><td>true</td><td>false</td><td>1.0</td><td>1.0</td><td>0.961779</td><td>1.0</td><td>1.0</td><td>0.963742</td></tr><tr><td>209155</td><td>9776570</td><td>984212</td><td>2023-05-23 05:48:36</td><td>0</td><td>1</td><td>68.0</td><td>null</td><td>false</td><td>2</td><td>null</td><td>false</td><td>8120</td><td>3.607758</td><td>89.122955</td><td>0.011364</td><td>1.693182</td><td>1.641026</td><td>2.509178</td><td>2.359139</td><td>2</td><td>5</td><td>false</td><td>2023-05-22 22:02:37</td><td>118</td><td>0.9793</td><td>&quot;Negative&quot;</td><td>1</td><td>9</td><td>18</td><td>242</td><td>0</td><td>7</td><td>false</td><td>true</td><td>false</td><td>true</td><td>true</td><td>false</td><td>0.221891</td><td>0.345985</td><td>0.328187</td><td>0.218155</td><td>0.322804</td><td>0.516749</td></tr></tbody></table></div>"
      ],
      "text/plain": [
       "shape: (5, 45)\n",
       "┌────────────┬─────────┬─────────┬────────────┬───┬────────────┬───────────┬───────────┬───────────┐\n",
       "│ impression ┆ article ┆ user_id ┆ impression ┆ … ┆ max_ner_sv ┆ total_ner ┆ mean_ner_ ┆ max_ner_i │\n",
       "│ _id        ┆ ---     ┆ ---     ┆ _time      ┆   ┆ d_scores   ┆ _item_knn ┆ item_knn_ ┆ tem_knn_s │\n",
       "│ ---        ┆ i32     ┆ u32     ┆ ---        ┆   ┆ ---        ┆ _scores   ┆ scores    ┆ cores     │\n",
       "│ u32        ┆         ┆         ┆ datetime[μ ┆   ┆ f32        ┆ ---       ┆ ---       ┆ ---       │\n",
       "│            ┆         ┆         ┆ s]         ┆   ┆            ┆ f32       ┆ f32       ┆ f32       │\n",
       "╞════════════╪═════════╪═════════╪════════════╪═══╪════════════╪═══════════╪═══════════╪═══════════╡\n",
       "│ 150528     ┆ 9778682 ┆ 143471  ┆ 2023-05-24 ┆ … ┆ 0.711719   ┆ 0.158683  ┆ 0.141051  ┆ 0.762191  │\n",
       "│            ┆         ┆         ┆ 07:33:25   ┆   ┆            ┆           ┆           ┆           │\n",
       "│ 155588     ┆ 9778035 ┆ 161621  ┆ 2023-05-24 ┆ … ┆ 0.906606   ┆ 0.613809  ┆ 1.0       ┆ 0.972279  │\n",
       "│            ┆         ┆         ┆ 07:51:14   ┆   ┆            ┆           ┆           ┆           │\n",
       "│ 157321     ┆ 9776040 ┆ 527307  ┆ 2023-05-22 ┆ … ┆ 0.946494   ┆ 0.749717  ┆ 0.899661  ┆ 1.0       │\n",
       "│            ┆         ┆         ┆ 19:55:14   ┆   ┆            ┆           ┆           ┆           │\n",
       "│ 160845     ┆ 9769580 ┆ 536236  ┆ 2023-05-22 ┆ … ┆ 0.961779   ┆ 1.0       ┆ 1.0       ┆ 0.963742  │\n",
       "│            ┆         ┆         ┆ 19:36:23   ┆   ┆            ┆           ┆           ┆           │\n",
       "│ 209155     ┆ 9776570 ┆ 984212  ┆ 2023-05-23 ┆ … ┆ 0.328187   ┆ 0.218155  ┆ 0.322804  ┆ 0.516749  │\n",
       "│            ┆         ┆         ┆ 05:48:36   ┆   ┆            ┆           ┆           ┆           │\n",
       "└────────────┴─────────┴─────────┴────────────┴───┴────────────┴───────────┴───────────┴───────────┘"
      ]
     },
     "execution_count": 25,
     "metadata": {},
     "output_type": "execute_result"
    }
   ],
   "source": [
    "%%time\n",
    "\n",
    "NPRATIO = 2\n",
    "\n",
    "# dropping duplicates that can occur because of sampling strategy\n",
    "train_ds = behaviors_train.pipe(sampling_strategy_wu2019, npratio=NPRATIO, shuffle=False, \n",
    "                                with_replacement=True, seed=123) \\\n",
    "    .pipe(create_binary_labels_column, shuffle=True, seed=123) \\\n",
    "    .with_columns(pl.col('gender').fill_null(2)) \\\n",
    "    .select(['impression_id', 'article_ids_inview', 'impression_time', 'labels', \n",
    "             'device_type', 'read_time', 'scroll_percentage', 'user_id', 'is_sso_user', 'gender',\n",
    "             'age', 'is_subscriber', 'session_id']) \\\n",
    "    .explode(['article_ids_inview', 'labels']) \\\n",
    "    .rename({'article_ids_inview': 'article', 'labels': 'target'}) \\\n",
    "    .with_columns(pl.col('article').cast(pl.Int32)) \\\n",
    "    .pipe(add_mean_delays_features, articles=articles, history=history_train) \\\n",
    "    .pipe(add_trendiness_feature, articles=articles, period='3d') \\\n",
    "    .pipe(add_history_trendiness_scores_feature, history=history_train, articles=articles) \\\n",
    "    .unique(['impression_id', 'article']) \\\n",
    "    .with_columns(\n",
    "        pl.col('impression_time').dt.weekday().alias('weekday'),\n",
    "        pl.col('impression_time').dt.hour().alias('hour'),\n",
    "        pl.col('article').cast(pl.Int32),\n",
    "    ).join(articles.select(['article_id', 'premium', 'published_time', 'category',\n",
    "                            'sentiment_score', 'sentiment_label', 'entity_groups',\n",
    "                            'num_images', 'title_len', 'subtitle_len', 'body_len']),\n",
    "           left_on='article', right_on='article_id', how='left') \\\n",
    "    .with_columns(\n",
    "        (pl.col('impression_time') - pl.col('published_time')).dt.total_days().alias('article_delay_days'),\n",
    "        (pl.col('impression_time') - pl.col('published_time')).dt.total_hours().alias('article_delay_hours')\n",
    "    ).with_columns(\n",
    "        pl.col('entity_groups').list.contains(entity).alias(f'Entity_{entity}_Present')\n",
    "        for entity in unique_entities\n",
    "    ).drop('entity_groups') \\\n",
    "    .join(behaviors_ner_scores, on=['impression_id', 'article'], how='left')\n",
    "\n",
    "gc.collect()\n",
    "PrintColor(f\"\\n\" + GetMemUsage(), color = Fore.RED)\n",
    "\n",
    "train_ds = reduce_polars_df_memory_size(train_ds)\n",
    "PrintColor(f\"\\n\" + GetMemUsage(), color = Fore.RED)\n",
    "train_ds.head()"
   ]
  },
  {
   "cell_type": "code",
   "execution_count": 26,
   "id": "a766ada0",
   "metadata": {
    "execution": {
     "iopub.execute_input": "2024-04-08T12:36:56.887690Z",
     "iopub.status.busy": "2024-04-08T12:36:56.887173Z",
     "iopub.status.idle": "2024-04-08T12:36:56.895752Z",
     "shell.execute_reply": "2024-04-08T12:36:56.894278Z"
    },
    "papermill": {
     "duration": 0.05079,
     "end_time": "2024-04-08T12:36:56.898629",
     "exception": false,
     "start_time": "2024-04-08T12:36:56.847839",
     "status": "completed"
    },
    "tags": []
   },
   "outputs": [
    {
     "data": {
      "text/plain": [
       "(699537, 45)"
      ]
     },
     "execution_count": 26,
     "metadata": {},
     "output_type": "execute_result"
    }
   ],
   "source": [
    "train_ds.shape"
   ]
  },
  {
   "cell_type": "markdown",
   "id": "13d2c750",
   "metadata": {
    "papermill": {
     "duration": 0.039237,
     "end_time": "2024-04-08T12:36:56.975475",
     "exception": false,
     "start_time": "2024-04-08T12:36:56.936238",
     "status": "completed"
    },
    "tags": []
   },
   "source": [
    "## Session Features"
   ]
  },
  {
   "cell_type": "code",
   "execution_count": 27,
   "id": "8833b1da",
   "metadata": {
    "execution": {
     "iopub.execute_input": "2024-04-08T12:36:57.053819Z",
     "iopub.status.busy": "2024-04-08T12:36:57.053354Z",
     "iopub.status.idle": "2024-04-08T12:36:57.059608Z",
     "shell.execute_reply": "2024-04-08T12:36:57.057995Z"
    },
    "papermill": {
     "duration": 0.047849,
     "end_time": "2024-04-08T12:36:57.062432",
     "exception": false,
     "start_time": "2024-04-08T12:36:57.014583",
     "status": "completed"
    },
    "tags": []
   },
   "outputs": [],
   "source": [
    "# behaviors_train.select(['session_id', 'impression_time', 'article_ids_clicked']) \\\n",
    "#     .group_by('session_id').map_groups(\n",
    "#         lambda group: group.explode('article_ids_clicked').sort('impression_time') \\\n",
    "#             .select(\n",
    "#                 pl.col('session_id').first(),\n",
    "#                 pl.col('article_ids_clicked').first().alias('article_id'),\n",
    "#                 (pl.col('impression_time').last() - pl.col('impression_time').first()).dt.total_minutes().alias('induced_session_len'),\n",
    "#                 (pl.col('impression_time').count() - 1).alias('num_clicked_articles_following')\n",
    "#             )\n",
    "#     ).group_by('article_id').agg(\n",
    "#         pl.col('num_clicked_articles_following').mean().alias('mean_num_clicked_articles_following'),\n",
    "#         pl.col('induced_session_len').mean().alias('mean_induced_session_len'),\n",
    "#     )"
   ]
  },
  {
   "cell_type": "code",
   "execution_count": 28,
   "id": "34fa978c",
   "metadata": {
    "execution": {
     "iopub.execute_input": "2024-04-08T12:36:57.137215Z",
     "iopub.status.busy": "2024-04-08T12:36:57.136355Z",
     "iopub.status.idle": "2024-04-08T12:36:58.697175Z",
     "shell.execute_reply": "2024-04-08T12:36:58.695391Z"
    },
    "papermill": {
     "duration": 1.600911,
     "end_time": "2024-04-08T12:36:58.699724",
     "exception": false,
     "start_time": "2024-04-08T12:36:57.098813",
     "status": "completed"
    },
    "tags": []
   },
   "outputs": [
    {
     "name": "stdout",
     "output_type": "stream",
     "text": [
      "\u001b[1m\u001b[31m\n",
      "RAM memory GB usage = 1.49\u001b[0m\n",
      "CPU times: user 1.88 s, sys: 168 ms, total: 2.05 s\n",
      "Wall time: 1.54 s\n"
     ]
    },
    {
     "data": {
      "text/html": [
       "<div><style>\n",
       ".dataframe > thead > tr,\n",
       ".dataframe > tbody > tr {\n",
       "  text-align: right;\n",
       "  white-space: pre-wrap;\n",
       "}\n",
       "</style>\n",
       "<small>shape: (2, 5)</small><table border=\"1\" class=\"dataframe\"><thead><tr><th>session_id</th><th>last_session_time</th><th>last_session_duration</th><th>all_seen_articles</th><th>mean_prev_sessions_duration</th></tr><tr><td>u32</td><td>datetime[μs]</td><td>i64</td><td>list[i32]</td><td>f64</td></tr></thead><tbody><tr><td>1624780</td><td>2023-05-18 06:27:24</td><td>0</td><td>[9735909]</td><td>0.0</td></tr><tr><td>551025</td><td>2023-05-18 06:16:37</td><td>0</td><td>[9770327]</td><td>3.0</td></tr></tbody></table></div>"
      ],
      "text/plain": [
       "shape: (2, 5)\n",
       "┌────────────┬─────────────────────┬─────────────────────┬───────────────────┬─────────────────────┐\n",
       "│ session_id ┆ last_session_time   ┆ last_session_durati ┆ all_seen_articles ┆ mean_prev_sessions_ │\n",
       "│ ---        ┆ ---                 ┆ on                  ┆ ---               ┆ duration            │\n",
       "│ u32        ┆ datetime[μs]        ┆ ---                 ┆ list[i32]         ┆ ---                 │\n",
       "│            ┆                     ┆ i64                 ┆                   ┆ f64                 │\n",
       "╞════════════╪═════════════════════╪═════════════════════╪═══════════════════╪═════════════════════╡\n",
       "│ 1624780    ┆ 2023-05-18 06:27:24 ┆ 0                   ┆ [9735909]         ┆ 0.0                 │\n",
       "│ 551025     ┆ 2023-05-18 06:16:37 ┆ 0                   ┆ [9770327]         ┆ 3.0                 │\n",
       "└────────────┴─────────────────────┴─────────────────────┴───────────────────┴─────────────────────┘"
      ]
     },
     "execution_count": 28,
     "metadata": {},
     "output_type": "execute_result"
    }
   ],
   "source": [
    "%%time\n",
    "\n",
    "last_history_df = history_train.with_columns(\n",
    "    pl.col('impression_time_fixed').list.max().alias('last_history_impression_time'),\n",
    "    pl.col('article_id_fixed').list.tail(1).alias('last_history_article'),\n",
    ").select(['user_id', 'last_history_impression_time', 'last_history_article'])\n",
    "\n",
    "last_session_time_df = behaviors_train.select(['session_id', 'user_id', 'impression_time', 'article_ids_inview']) \\\n",
    "    .group_by('session_id').agg(\n",
    "        pl.col('user_id').first(), \n",
    "        pl.col('impression_time').max().alias('session_time'), \n",
    "        pl.col('article_ids_inview').flatten().alias('all_seen_articles'),\n",
    "        (pl.col('impression_time').max() - pl.col('impression_time').min()).dt.total_minutes().alias('session_duration'),\n",
    "    ).with_columns(\n",
    "        pl.col(['session_time', 'session_duration']).shift(1).over('user_id').name.prefix('last_'),\n",
    "        pl.col('all_seen_articles').list.unique().shift(1).over('user_id'),\n",
    "        pl.col('session_duration').rolling_mean(100, min_periods=1).over('user_id').alias('mean_prev_sessions_duration'),\n",
    "    ).with_columns(pl.col(['last_session_duration']).fill_null(0)) \\\n",
    "    .join(last_history_df, on='user_id', how='left') \\\n",
    "    .with_columns(\n",
    "        pl.col('last_session_time').fill_null(pl.col('last_history_impression_time')),\n",
    "        pl.col('all_seen_articles').fill_null(pl.col('last_history_article')),\n",
    "    ).select(['session_id', 'last_session_time', 'last_session_duration', \n",
    "              'all_seen_articles', 'mean_prev_sessions_duration'])\n",
    "    \n",
    "gc.collect()\n",
    "PrintColor(f\"\\n\" + GetMemUsage(), color = Fore.RED)\n",
    "last_session_time_df.head(2)"
   ]
  },
  {
   "cell_type": "code",
   "execution_count": 29,
   "id": "5bfe0cf4",
   "metadata": {
    "execution": {
     "iopub.execute_input": "2024-04-08T12:36:58.776107Z",
     "iopub.status.busy": "2024-04-08T12:36:58.775526Z",
     "iopub.status.idle": "2024-04-08T12:36:59.725921Z",
     "shell.execute_reply": "2024-04-08T12:36:59.724422Z"
    },
    "papermill": {
     "duration": 0.992931,
     "end_time": "2024-04-08T12:36:59.729298",
     "exception": false,
     "start_time": "2024-04-08T12:36:58.736367",
     "status": "completed"
    },
    "tags": []
   },
   "outputs": [
    {
     "name": "stdout",
     "output_type": "stream",
     "text": [
      "\u001b[1m\u001b[31m\n",
      "RAM memory GB usage = 1.565\u001b[0m\n"
     ]
    },
    {
     "data": {
      "text/html": [
       "<div><style>\n",
       ".dataframe > thead > tr,\n",
       ".dataframe > tbody > tr {\n",
       "  text-align: right;\n",
       "  white-space: pre-wrap;\n",
       "}\n",
       "</style>\n",
       "<small>shape: (2, 48)</small><table border=\"1\" class=\"dataframe\"><thead><tr><th>impression_id</th><th>article</th><th>user_id</th><th>impression_time</th><th>target</th><th>device_type</th><th>read_time</th><th>scroll_percentage</th><th>is_sso_user</th><th>gender</th><th>age</th><th>is_subscriber</th><th>mean_topics_mean_delay_days</th><th>mean_topics_mean_delay_hours</th><th>user_mean_delay_days</th><th>user_mean_delay_hours</th><th>trendiness_score</th><th>mean_user_trendiness_score</th><th>mean_topics_trendiness_score</th><th>weekday</th><th>hour</th><th>premium</th><th>category</th><th>sentiment_score</th><th>sentiment_label</th><th>num_images</th><th>title_len</th><th>subtitle_len</th><th>body_len</th><th>article_delay_days</th><th>article_delay_hours</th><th>Entity_MISC_Present</th><th>Entity_PER_Present</th><th>Entity_PROD_Present</th><th>Entity_ORG_Present</th><th>Entity_LOC_Present</th><th>Entity_EVENT_Present</th><th>total_ner_svd_scores</th><th>mean_ner_svd_scores</th><th>max_ner_svd_scores</th><th>total_ner_item_knn_scores</th><th>mean_ner_item_knn_scores</th><th>max_ner_item_knn_scores</th><th>last_session_duration</th><th>mean_prev_sessions_duration</th><th>last_session_time_hour_diff</th><th>is_new_article</th><th>is_already_seen_article</th></tr><tr><td>u32</td><td>i32</td><td>u32</td><td>datetime[μs]</td><td>i8</td><td>i8</td><td>f32</td><td>f32</td><td>bool</td><td>i8</td><td>i8</td><td>bool</td><td>f32</td><td>f32</td><td>f32</td><td>f32</td><td>f32</td><td>f32</td><td>f32</td><td>i8</td><td>i8</td><td>bool</td><td>i16</td><td>f32</td><td>str</td><td>u32</td><td>u8</td><td>u8</td><td>u16</td><td>i16</td><td>i32</td><td>bool</td><td>bool</td><td>bool</td><td>bool</td><td>bool</td><td>bool</td><td>f32</td><td>f32</td><td>f32</td><td>f32</td><td>f32</td><td>f32</td><td>i64</td><td>f64</td><td>i64</td><td>bool</td><td>bool</td></tr></thead><tbody><tr><td>150528</td><td>9778682</td><td>143471</td><td>2023-05-24 07:33:25</td><td>0</td><td>2</td><td>25.0</td><td>null</td><td>false</td><td>2</td><td>null</td><td>false</td><td>10.621649</td><td>257.855042</td><td>8.973029</td><td>217.933609</td><td>2.641026</td><td>3.077535</td><td>3.792718</td><td>3</td><td>7</td><td>false</td><td>498</td><td>0.9546</td><td>&quot;Negative&quot;</td><td>1</td><td>5</td><td>20</td><td>267</td><td>0</td><td>1</td><td>false</td><td>true</td><td>true</td><td>true</td><td>false</td><td>true</td><td>0.187042</td><td>0.185217</td><td>0.711719</td><td>0.158683</td><td>0.141051</td><td>0.762191</td><td>0</td><td>0.666667</td><td>51</td><td>false</td><td>false</td></tr><tr><td>155588</td><td>9778035</td><td>161621</td><td>2023-05-24 07:51:14</td><td>0</td><td>1</td><td>24.0</td><td>100.0</td><td>false</td><td>2</td><td>null</td><td>false</td><td>4.019499</td><td>98.734055</td><td>6.861461</td><td>169.377838</td><td>1.782051</td><td>2.497998</td><td>4.618584</td><td>3</td><td>7</td><td>false</td><td>2975</td><td>0.5991</td><td>&quot;Neutral&quot;</td><td>0</td><td>8</td><td>12</td><td>351</td><td>0</td><td>17</td><td>true</td><td>true</td><td>true</td><td>true</td><td>true</td><td>false</td><td>0.523206</td><td>0.991083</td><td>0.906606</td><td>0.613809</td><td>1.0</td><td>0.972279</td><td>0</td><td>8.0</td><td>22</td><td>false</td><td>false</td></tr></tbody></table></div>"
      ],
      "text/plain": [
       "shape: (2, 48)\n",
       "┌────────────┬─────────┬─────────┬────────────┬───┬────────────┬───────────┬───────────┬───────────┐\n",
       "│ impression ┆ article ┆ user_id ┆ impression ┆ … ┆ mean_prev_ ┆ last_sess ┆ is_new_ar ┆ is_alread │\n",
       "│ _id        ┆ ---     ┆ ---     ┆ _time      ┆   ┆ sessions_d ┆ ion_time_ ┆ ticle     ┆ y_seen_ar │\n",
       "│ ---        ┆ i32     ┆ u32     ┆ ---        ┆   ┆ uration    ┆ hour_diff ┆ ---       ┆ ticle     │\n",
       "│ u32        ┆         ┆         ┆ datetime[μ ┆   ┆ ---        ┆ ---       ┆ bool      ┆ ---       │\n",
       "│            ┆         ┆         ┆ s]         ┆   ┆ f64        ┆ i64       ┆           ┆ bool      │\n",
       "╞════════════╪═════════╪═════════╪════════════╪═══╪════════════╪═══════════╪═══════════╪═══════════╡\n",
       "│ 150528     ┆ 9778682 ┆ 143471  ┆ 2023-05-24 ┆ … ┆ 0.666667   ┆ 51        ┆ false     ┆ false     │\n",
       "│            ┆         ┆         ┆ 07:33:25   ┆   ┆            ┆           ┆           ┆           │\n",
       "│ 155588     ┆ 9778035 ┆ 161621  ┆ 2023-05-24 ┆ … ┆ 8.0        ┆ 22        ┆ false     ┆ false     │\n",
       "│            ┆         ┆         ┆ 07:51:14   ┆   ┆            ┆           ┆           ┆           │\n",
       "└────────────┴─────────┴─────────┴────────────┴───┴────────────┴───────────┴───────────┴───────────┘"
      ]
     },
     "execution_count": 29,
     "metadata": {},
     "output_type": "execute_result"
    }
   ],
   "source": [
    "train_ds = train_ds.join(last_session_time_df, on='session_id', how='left').with_columns(\n",
    "    (pl.col('impression_time') - pl.col('last_session_time')).dt.total_hours().alias('last_session_time_hour_diff'),\n",
    "    ((pl.col('last_session_time') - pl.col('published_time')).dt.total_hours() > 0).alias('is_new_article'),\n",
    "    pl.col('all_seen_articles').list.contains(pl.col('article')).alias('is_already_seen_article'),\n",
    ").drop(['published_time', 'session_id', 'all_seen_articles', 'last_session_time'])\n",
    "\n",
    "gc.collect()\n",
    "PrintColor(f\"\\n\" + GetMemUsage(), color = Fore.RED)\n",
    "train_ds.head(2)"
   ]
  },
  {
   "cell_type": "code",
   "execution_count": 30,
   "id": "5bfe5cfe",
   "metadata": {
    "execution": {
     "iopub.execute_input": "2024-04-08T12:36:59.806902Z",
     "iopub.status.busy": "2024-04-08T12:36:59.806415Z",
     "iopub.status.idle": "2024-04-08T12:36:59.817397Z",
     "shell.execute_reply": "2024-04-08T12:36:59.815924Z"
    },
    "papermill": {
     "duration": 0.053474,
     "end_time": "2024-04-08T12:36:59.820281",
     "exception": false,
     "start_time": "2024-04-08T12:36:59.766807",
     "status": "completed"
    },
    "tags": []
   },
   "outputs": [
    {
     "data": {
      "text/html": [
       "<div><style>\n",
       ".dataframe > thead > tr,\n",
       ".dataframe > tbody > tr {\n",
       "  text-align: right;\n",
       "  white-space: pre-wrap;\n",
       "}\n",
       "</style>\n",
       "<small>shape: (1, 2)</small><table border=\"1\" class=\"dataframe\"><thead><tr><th>is_new_article</th><th>is_already_seen_article</th></tr><tr><td>f64</td><td>f64</td></tr></thead><tbody><tr><td>0.53161</td><td>0.018252</td></tr></tbody></table></div>"
      ],
      "text/plain": [
       "shape: (1, 2)\n",
       "┌────────────────┬─────────────────────────┐\n",
       "│ is_new_article ┆ is_already_seen_article │\n",
       "│ ---            ┆ ---                     │\n",
       "│ f64            ┆ f64                     │\n",
       "╞════════════════╪═════════════════════════╡\n",
       "│ 0.53161        ┆ 0.018252                │\n",
       "└────────────────┴─────────────────────────┘"
      ]
     },
     "execution_count": 30,
     "metadata": {},
     "output_type": "execute_result"
    }
   ],
   "source": [
    "train_ds.select(pl.col('is_new_article').sum() / train_ds.shape[0], pl.col('is_already_seen_article').sum() / train_ds.shape[0])"
   ]
  },
  {
   "cell_type": "code",
   "execution_count": 31,
   "id": "471eb8f8",
   "metadata": {
    "execution": {
     "iopub.execute_input": "2024-04-08T12:36:59.899390Z",
     "iopub.status.busy": "2024-04-08T12:36:59.898914Z",
     "iopub.status.idle": "2024-04-08T12:37:00.186703Z",
     "shell.execute_reply": "2024-04-08T12:37:00.185495Z"
    },
    "papermill": {
     "duration": 0.331586,
     "end_time": "2024-04-08T12:37:00.189518",
     "exception": false,
     "start_time": "2024-04-08T12:36:59.857932",
     "status": "completed"
    },
    "tags": []
   },
   "outputs": [
    {
     "data": {
      "text/plain": [
       "0"
      ]
     },
     "execution_count": 31,
     "metadata": {},
     "output_type": "execute_result"
    }
   ],
   "source": [
    "del last_history_df\n",
    "del last_session_time_df\n",
    "gc.collect()"
   ]
  },
  {
   "cell_type": "markdown",
   "id": "f26bbbc9",
   "metadata": {
    "papermill": {
     "duration": 0.049096,
     "end_time": "2024-04-08T12:37:00.277659",
     "exception": false,
     "start_time": "2024-04-08T12:37:00.228563",
     "status": "completed"
    },
    "tags": []
   },
   "source": [
    "## Popularities"
   ]
  },
  {
   "cell_type": "code",
   "execution_count": 32,
   "id": "2f1a9b38",
   "metadata": {
    "execution": {
     "iopub.execute_input": "2024-04-08T12:37:00.360153Z",
     "iopub.status.busy": "2024-04-08T12:37:00.359713Z",
     "iopub.status.idle": "2024-04-08T12:37:00.977319Z",
     "shell.execute_reply": "2024-04-08T12:37:00.975967Z"
    },
    "papermill": {
     "duration": 0.662668,
     "end_time": "2024-04-08T12:37:00.980800",
     "exception": false,
     "start_time": "2024-04-08T12:37:00.318132",
     "status": "completed"
    },
    "tags": []
   },
   "outputs": [
    {
     "name": "stdout",
     "output_type": "stream",
     "text": [
      "Memory usage of dataframe is 98.74 MB\n",
      "Memory usage after optimization is: 84.73 MB\n",
      "Decreased by 14.2%\n",
      "\u001b[1m\u001b[31m\n",
      "RAM memory GB usage = 1.541\u001b[0m\n",
      "CPU times: user 688 ms, sys: 24.5 ms, total: 712 ms\n",
      "Wall time: 599 ms\n"
     ]
    },
    {
     "data": {
      "text/html": [
       "<div><style>\n",
       ".dataframe > thead > tr,\n",
       ".dataframe > tbody > tr {\n",
       "  text-align: right;\n",
       "  white-space: pre-wrap;\n",
       "}\n",
       "</style>\n",
       "<small>shape: (2, 48)</small><table border=\"1\" class=\"dataframe\"><thead><tr><th>impression_id</th><th>article</th><th>user_id</th><th>target</th><th>device_type</th><th>read_time</th><th>scroll_percentage</th><th>is_sso_user</th><th>gender</th><th>age</th><th>is_subscriber</th><th>mean_topics_mean_delay_days</th><th>mean_topics_mean_delay_hours</th><th>user_mean_delay_days</th><th>user_mean_delay_hours</th><th>trendiness_score</th><th>mean_user_trendiness_score</th><th>mean_topics_trendiness_score</th><th>weekday</th><th>hour</th><th>premium</th><th>category</th><th>sentiment_score</th><th>sentiment_label</th><th>num_images</th><th>title_len</th><th>subtitle_len</th><th>body_len</th><th>article_delay_days</th><th>article_delay_hours</th><th>Entity_MISC_Present</th><th>Entity_PER_Present</th><th>Entity_PROD_Present</th><th>Entity_ORG_Present</th><th>Entity_LOC_Present</th><th>Entity_EVENT_Present</th><th>total_ner_svd_scores</th><th>mean_ner_svd_scores</th><th>max_ner_svd_scores</th><th>total_ner_item_knn_scores</th><th>mean_ner_item_knn_scores</th><th>max_ner_item_knn_scores</th><th>last_session_duration</th><th>mean_prev_sessions_duration</th><th>last_session_time_hour_diff</th><th>is_new_article</th><th>is_already_seen_article</th><th>yesterday_category_daily_pct</th></tr><tr><td>u32</td><td>i32</td><td>u32</td><td>i8</td><td>i8</td><td>f32</td><td>f32</td><td>bool</td><td>i8</td><td>i8</td><td>bool</td><td>f32</td><td>f32</td><td>f32</td><td>f32</td><td>f32</td><td>f32</td><td>f32</td><td>i8</td><td>i8</td><td>bool</td><td>i16</td><td>f32</td><td>str</td><td>u32</td><td>u8</td><td>u8</td><td>u16</td><td>i16</td><td>i32</td><td>bool</td><td>bool</td><td>bool</td><td>bool</td><td>bool</td><td>bool</td><td>f32</td><td>f32</td><td>f32</td><td>f32</td><td>f32</td><td>f32</td><td>i8</td><td>f32</td><td>i16</td><td>bool</td><td>bool</td><td>f32</td></tr></thead><tbody><tr><td>150528</td><td>9778682</td><td>143471</td><td>0</td><td>2</td><td>25.0</td><td>null</td><td>false</td><td>2</td><td>null</td><td>false</td><td>10.621649</td><td>257.855042</td><td>8.973029</td><td>217.933609</td><td>2.641026</td><td>3.077535</td><td>3.792718</td><td>3</td><td>7</td><td>false</td><td>498</td><td>0.9546</td><td>&quot;Negative&quot;</td><td>1</td><td>5</td><td>20</td><td>267</td><td>0</td><td>1</td><td>false</td><td>true</td><td>true</td><td>true</td><td>false</td><td>true</td><td>0.187042</td><td>0.185217</td><td>0.711719</td><td>0.158683</td><td>0.141051</td><td>0.762191</td><td>0</td><td>0.666667</td><td>51</td><td>false</td><td>false</td><td>0.007246</td></tr><tr><td>155588</td><td>9778035</td><td>161621</td><td>0</td><td>1</td><td>24.0</td><td>100.0</td><td>false</td><td>2</td><td>null</td><td>false</td><td>4.019499</td><td>98.734055</td><td>6.861461</td><td>169.377838</td><td>1.782051</td><td>2.497998</td><td>4.618584</td><td>3</td><td>7</td><td>false</td><td>2975</td><td>0.5991</td><td>&quot;Neutral&quot;</td><td>0</td><td>8</td><td>12</td><td>351</td><td>0</td><td>17</td><td>true</td><td>true</td><td>true</td><td>true</td><td>true</td><td>false</td><td>0.523206</td><td>0.991083</td><td>0.906606</td><td>0.613809</td><td>1.0</td><td>0.972279</td><td>0</td><td>8.0</td><td>22</td><td>false</td><td>false</td><td>0.028986</td></tr></tbody></table></div>"
      ],
      "text/plain": [
       "shape: (2, 48)\n",
       "┌─────────────┬─────────┬─────────┬────────┬───┬────────────┬────────────┬────────────┬────────────┐\n",
       "│ impression_ ┆ article ┆ user_id ┆ target ┆ … ┆ last_sessi ┆ is_new_art ┆ is_already ┆ yesterday_ │\n",
       "│ id          ┆ ---     ┆ ---     ┆ ---    ┆   ┆ on_time_ho ┆ icle       ┆ _seen_arti ┆ category_d │\n",
       "│ ---         ┆ i32     ┆ u32     ┆ i8     ┆   ┆ ur_diff    ┆ ---        ┆ cle        ┆ aily_pct   │\n",
       "│ u32         ┆         ┆         ┆        ┆   ┆ ---        ┆ bool       ┆ ---        ┆ ---        │\n",
       "│             ┆         ┆         ┆        ┆   ┆ i16        ┆            ┆ bool       ┆ f32        │\n",
       "╞═════════════╪═════════╪═════════╪════════╪═══╪════════════╪════════════╪════════════╪════════════╡\n",
       "│ 150528      ┆ 9778682 ┆ 143471  ┆ 0      ┆ … ┆ 51         ┆ false      ┆ false      ┆ 0.007246   │\n",
       "│ 155588      ┆ 9778035 ┆ 161621  ┆ 0      ┆ … ┆ 22         ┆ false      ┆ false      ┆ 0.028986   │\n",
       "└─────────────┴─────────┴─────────┴────────┴───┴────────────┴────────────┴────────────┴────────────┘"
      ]
     },
     "execution_count": 32,
     "metadata": {},
     "output_type": "execute_result"
    }
   ],
   "source": [
    "%%time\n",
    "\n",
    "articles_date_popularity = articles.select(['published_time', 'article_id']) \\\n",
    "    .group_by(pl.col('published_time').dt.date().alias('published_date')) \\\n",
    "    .agg(pl.col('article_id').count().alias('daily_articles')) \\\n",
    "\n",
    "published_category_popularity = articles.select(['published_time', 'article_id', 'category']) \\\n",
    "    .group_by([pl.col('published_time').dt.date().alias('published_date'), 'category']) \\\n",
    "    .agg(pl.col('article_id').count().alias('category_daily_articles')) \\\n",
    "    .join(articles_date_popularity, on='published_date', how='left') \\\n",
    "    .with_columns((pl.col('category_daily_articles') / pl.col('daily_articles')).alias('category_daily_pct')) \\\n",
    "    .drop(['category_daily_articles', 'daily_articles'])\n",
    "\n",
    "train_ds = train_ds.join(published_category_popularity, how='left', right_on=['published_date', 'category'],\n",
    "                         left_on=[pl.col('impression_time').dt.date() - pl.duration(days=1), 'category']) \\\n",
    "    .rename({'category_daily_pct': 'yesterday_category_daily_pct'}).drop(['impression_time']) \\\n",
    "    .with_columns(pl.col('yesterday_category_daily_pct').fill_null(0))\n",
    "train_ds = reduce_polars_df_memory_size(train_ds)\n",
    "\n",
    "gc.collect()\n",
    "PrintColor(f\"\\n\" + GetMemUsage(), color = Fore.RED)\n",
    "train_ds.head(2)"
   ]
  },
  {
   "cell_type": "markdown",
   "id": "4a772617",
   "metadata": {
    "papermill": {
     "duration": 0.039093,
     "end_time": "2024-04-08T12:37:01.067032",
     "exception": false,
     "start_time": "2024-04-08T12:37:01.027939",
     "status": "completed"
    },
    "tags": []
   },
   "source": [
    "# Adding history features"
   ]
  },
  {
   "cell_type": "code",
   "execution_count": 33,
   "id": "f24785df",
   "metadata": {
    "execution": {
     "iopub.execute_input": "2024-04-08T12:37:01.147537Z",
     "iopub.status.busy": "2024-04-08T12:37:01.147009Z",
     "iopub.status.idle": "2024-04-08T12:47:57.405181Z",
     "shell.execute_reply": "2024-04-08T12:47:57.403976Z"
    },
    "papermill": {
     "duration": 656.301709,
     "end_time": "2024-04-08T12:47:57.408079",
     "exception": false,
     "start_time": "2024-04-08T12:37:01.106370",
     "status": "completed"
    },
    "scrolled": true,
    "tags": []
   },
   "outputs": [
    {
     "name": "stderr",
     "output_type": "stream",
     "text": [
      "70it [10:55,  9.37s/it]\n"
     ]
    },
    {
     "name": "stdout",
     "output_type": "stream",
     "text": [
      "\u001b[1m\u001b[31m\n",
      "RAM memory GB usage = 1.964\u001b[0m\n"
     ]
    },
    {
     "data": {
      "text/html": [
       "<div><style>\n",
       ".dataframe > thead > tr,\n",
       ".dataframe > tbody > tr {\n",
       "  text-align: right;\n",
       "  white-space: pre-wrap;\n",
       "}\n",
       "</style>\n",
       "<small>shape: (2, 84)</small><table border=\"1\" class=\"dataframe\"><thead><tr><th>impression_id</th><th>article</th><th>user_id</th><th>target</th><th>device_type</th><th>read_time</th><th>scroll_percentage</th><th>is_sso_user</th><th>gender</th><th>age</th><th>is_subscriber</th><th>mean_topics_mean_delay_days</th><th>mean_topics_mean_delay_hours</th><th>user_mean_delay_days</th><th>user_mean_delay_hours</th><th>trendiness_score</th><th>mean_user_trendiness_score</th><th>mean_topics_trendiness_score</th><th>weekday</th><th>hour</th><th>premium</th><th>category</th><th>sentiment_score</th><th>sentiment_label</th><th>num_images</th><th>title_len</th><th>subtitle_len</th><th>body_len</th><th>article_delay_days</th><th>article_delay_hours</th><th>Entity_MISC_Present</th><th>Entity_PER_Present</th><th>Entity_PROD_Present</th><th>Entity_ORG_Present</th><th>Entity_LOC_Present</th><th>Entity_EVENT_Present</th><th>total_ner_svd_scores</th><th>&hellip;</th><th>yesterday_category_daily_pct</th><th>MeanCommonEntities</th><th>MaxCommonEntities</th><th>mean_JS</th><th>min_JS</th><th>max_JS</th><th>std_JS</th><th>mean_topic_model_cosine</th><th>min_topic_model_cosine</th><th>max_topic_model_cosine</th><th>std_topic_model_cosine</th><th>NumArticlesHistory</th><th>MedianReadTime</th><th>MaxReadTime</th><th>TotalReadTime</th><th>MedianScrollPercentage</th><th>MaxScrollPercentage</th><th>NeutralPct</th><th>PositivePct</th><th>NegativePct</th><th>PctStrongNeutral</th><th>PctStrongPositive</th><th>PctStrongNegative</th><th>PctNotDefaultArticles</th><th>MostFrequentCategory</th><th>MostFrequentWeekday</th><th>MostFrequentHour</th><th>MISCPct</th><th>PERPct</th><th>PRODPct</th><th>ORGPct</th><th>LOCPct</th><th>EVENTPct</th><th>topics_cosine</th><th>IsFavouriteCategory</th><th>NumberDifferentCategories</th><th>PctCategoryMatches</th></tr><tr><td>u32</td><td>i32</td><td>u32</td><td>i8</td><td>i8</td><td>f32</td><td>f32</td><td>bool</td><td>i8</td><td>i8</td><td>bool</td><td>f32</td><td>f32</td><td>f32</td><td>f32</td><td>f32</td><td>f32</td><td>f32</td><td>i8</td><td>i8</td><td>bool</td><td>i16</td><td>f32</td><td>str</td><td>u32</td><td>u8</td><td>u8</td><td>u16</td><td>i16</td><td>i32</td><td>bool</td><td>bool</td><td>bool</td><td>bool</td><td>bool</td><td>bool</td><td>f32</td><td>&hellip;</td><td>f32</td><td>f64</td><td>u32</td><td>f64</td><td>f64</td><td>f64</td><td>f64</td><td>f32</td><td>f32</td><td>f32</td><td>f32</td><td>u16</td><td>f32</td><td>f32</td><td>f32</td><td>f32</td><td>f32</td><td>f32</td><td>f32</td><td>f32</td><td>f32</td><td>f32</td><td>f32</td><td>f32</td><td>i16</td><td>i8</td><td>i8</td><td>f32</td><td>f32</td><td>f32</td><td>f32</td><td>f32</td><td>f32</td><td>f32</td><td>bool</td><td>u32</td><td>f64</td></tr></thead><tbody><tr><td>150528</td><td>9778682</td><td>143471</td><td>0</td><td>2</td><td>25.0</td><td>null</td><td>false</td><td>2</td><td>null</td><td>false</td><td>10.621649</td><td>257.855042</td><td>8.973029</td><td>217.933609</td><td>2.641026</td><td>3.077535</td><td>3.792718</td><td>3</td><td>7</td><td>false</td><td>498</td><td>0.9546</td><td>&quot;Negative&quot;</td><td>1</td><td>5</td><td>20</td><td>267</td><td>0</td><td>1</td><td>false</td><td>true</td><td>true</td><td>true</td><td>false</td><td>true</td><td>0.187042</td><td>&hellip;</td><td>0.007246</td><td>2.273859</td><td>4</td><td>0.113397</td><td>0.0</td><td>1.0</td><td>0.18028</td><td>0.798679</td><td>0.493573</td><td>0.998345</td><td>0.11332</td><td>482</td><td>13.0</td><td>1390.0</td><td>23016.0</td><td>56.0</td><td>100.0</td><td>0.275934</td><td>0.124481</td><td>0.599585</td><td>0.109959</td><td>0.06639</td><td>0.539419</td><td>0.037344</td><td>118</td><td>4</td><td>4</td><td>0.174274</td><td>0.873444</td><td>0.294606</td><td>0.917012</td><td>0.69917</td><td>0.188797</td><td>0.323355</td><td>false</td><td>13</td><td>0.975104</td></tr><tr><td>155588</td><td>9778035</td><td>161621</td><td>0</td><td>1</td><td>24.0</td><td>100.0</td><td>false</td><td>2</td><td>null</td><td>false</td><td>4.019499</td><td>98.734055</td><td>6.861461</td><td>169.377838</td><td>1.782051</td><td>2.497998</td><td>4.618584</td><td>3</td><td>7</td><td>false</td><td>2975</td><td>0.5991</td><td>&quot;Neutral&quot;</td><td>0</td><td>8</td><td>12</td><td>351</td><td>0</td><td>17</td><td>true</td><td>true</td><td>true</td><td>true</td><td>true</td><td>false</td><td>0.523206</td><td>&hellip;</td><td>0.028986</td><td>2.924433</td><td>5</td><td>0.10019</td><td>0.0</td><td>1.0</td><td>0.209543</td><td>0.765462</td><td>0.456307</td><td>0.998298</td><td>0.134578</td><td>397</td><td>30.0</td><td>1256.0</td><td>24994.0</td><td>100.0</td><td>100.0</td><td>0.219144</td><td>0.088161</td><td>0.692695</td><td>0.088161</td><td>0.050378</td><td>0.617128</td><td>0.032746</td><td>118</td><td>3</td><td>10</td><td>0.206549</td><td>0.816121</td><td>0.27204</td><td>0.924433</td><td>0.70529</td><td>0.120907</td><td>0.380044</td><td>false</td><td>9</td><td>0.979849</td></tr></tbody></table></div>"
      ],
      "text/plain": [
       "shape: (2, 84)\n",
       "┌─────────────┬─────────┬─────────┬────────┬───┬────────────┬────────────┬────────────┬────────────┐\n",
       "│ impression_ ┆ article ┆ user_id ┆ target ┆ … ┆ topics_cos ┆ IsFavourit ┆ NumberDiff ┆ PctCategor │\n",
       "│ id          ┆ ---     ┆ ---     ┆ ---    ┆   ┆ ine        ┆ eCategory  ┆ erentCateg ┆ yMatches   │\n",
       "│ ---         ┆ i32     ┆ u32     ┆ i8     ┆   ┆ ---        ┆ ---        ┆ ories      ┆ ---        │\n",
       "│ u32         ┆         ┆         ┆        ┆   ┆ f32        ┆ bool       ┆ ---        ┆ f64        │\n",
       "│             ┆         ┆         ┆        ┆   ┆            ┆            ┆ u32        ┆            │\n",
       "╞═════════════╪═════════╪═════════╪════════╪═══╪════════════╪════════════╪════════════╪════════════╡\n",
       "│ 150528      ┆ 9778682 ┆ 143471  ┆ 0      ┆ … ┆ 0.323355   ┆ false      ┆ 13         ┆ 0.975104   │\n",
       "│ 155588      ┆ 9778035 ┆ 161621  ┆ 0      ┆ … ┆ 0.380044   ┆ false      ┆ 9          ┆ 0.979849   │\n",
       "└─────────────┴─────────┴─────────┴────────┴───┴────────────┴────────────┴────────────┴────────────┘"
      ]
     },
     "execution_count": 33,
     "metadata": {},
     "output_type": "execute_result"
    }
   ],
   "source": [
    "def list_pct_matches_with_col(a, b) -> pl.Expr:\n",
    "    '''\n",
    "    Returns an expression to count the number of matching element in a list with another column.\n",
    "    The polars function count_matches cannot be used since it wants only a single element, \n",
    "    variable element from row to row.\n",
    "    '''\n",
    "    return pl.when(pl.col(a).list.len() == 0).then(0.0) \\\n",
    "        .otherwise((pl.col(a).list.len() - (pl.col(a).list.set_difference(pl.col(b))).list.len()) / pl.col(a).list.len())\n",
    "\n",
    "\n",
    "def cosine_similarity(x, y):\n",
    "    x = np.array(x)\n",
    "    y = np.array(y)\n",
    "    normalization = np.linalg.norm(x, 2) * np.linalg.norm(y, 2)\n",
    "    return np.dot(x, y) / normalization if normalization > 0 else 0\n",
    "\n",
    "\n",
    "def batch_cosine_similarity(df, col1, col2, target_col):\n",
    "    X = np.array(df[col1].to_list())\n",
    "    Y = np.array(df[col2].to_list())\n",
    "    norm = np.linalg.norm(X, 2, axis=1) * np.linalg.norm(Y, 2, axis=1)\n",
    "    cosine = np.where(norm > 0, np.sum(X * Y, axis=1) / norm, 0)\n",
    "    return df.with_columns(pl.Series(cosine).alias(target_col))\n",
    "\n",
    "\n",
    "prev_train_columns = [c for c in train_ds.columns if c not in ['impression_id', 'article']]\n",
    "\n",
    "train_ds = pl.concat(\n",
    "    rows.join(history_train.select(['user_id', 'article_id_fixed']), on='user_id', how='left') \\\n",
    "        .join(articles.select(['article_id', 'topics', 'entity_groups', 'topics_idf'] + topic_model_columns), \n",
    "              left_on='article', right_on='article_id', how='left') \\\n",
    "        .explode(['article_id_fixed']) \\\n",
    "        .join(articles.select(['article_id', 'topics', 'entity_groups'] + topic_model_columns), \n",
    "              left_on='article_id_fixed', right_on='article_id', how='left') \\\n",
    "        .rename({'topics_right': 'topics_history', 'entity_groups_right': 'entity_groups_history'}) \\\n",
    "        .rename({f'topic_model_embedding_{i}_right': f'topic_model_embedding_{i}_history' for i in range(N_COMPONENTS)}) \\\n",
    "        .with_columns(\n",
    "            (pl.col(\"topics\").list.set_intersection(pl.col(\"topics_history\")).list.len().truediv(\n",
    "                pl.col(\"topics\").list.set_union(pl.col(\"topics_history\")).list.len()\n",
    "            )).alias(\"JS\"),\n",
    "            pl.col('entity_groups').list.set_intersection(pl.col('entity_groups_history')).list.len().alias('common_entities'),\n",
    "        ).drop(['entity_groups_history', 'entity_groups', 'topics', 'topics_history']) \\\n",
    "        .with_columns(\n",
    "            [pl.col(x).mul(pl.col(f'{x}_history')).alias(f'{x}_dot') for x in topic_model_columns] + \\\n",
    "            [pl.col(x).mul(pl.col(x)) for x in topic_model_columns] + \\\n",
    "            [pl.col(f'{x}_history').mul(pl.col(f'{x}_history')) for x in topic_model_columns]\n",
    "        ).with_columns(\n",
    "            pl.sum_horizontal(topic_model_columns).sqrt().alias('topic_model_norm'),\n",
    "            pl.sum_horizontal([f'{x}_history' for x in topic_model_columns]).sqrt().alias('topic_model_history_norm'),\n",
    "            pl.sum_horizontal([f'{x}_dot' for x in topic_model_columns]).alias('topic_model_dot'),\n",
    "        ).with_columns(\n",
    "            pl.col('topic_model_dot').truediv(pl.col('topic_model_norm').mul('topic_model_history_norm')).alias('topic_model_cosine')\n",
    "        ).group_by(['impression_id', 'article']).agg(\n",
    "            pl.col(prev_train_columns).first(),\n",
    "            pl.col('topics_idf').first(),\n",
    "            pl.col('common_entities').mean().alias('MeanCommonEntities'),\n",
    "            pl.col('common_entities').max().alias('MaxCommonEntities'),\n",
    "            pl.col(\"JS\").mean().alias(\"mean_JS\"),\n",
    "            pl.col(\"JS\").min().alias(\"min_JS\"),\n",
    "            pl.col(\"JS\").max().alias(\"max_JS\"),\n",
    "            pl.col(\"JS\").std().alias(\"std_JS\"),\n",
    "            pl.col(\"topic_model_cosine\").mean().alias(\"mean_topic_model_cosine\"),\n",
    "            pl.col(\"topic_model_cosine\").min().alias(\"min_topic_model_cosine\"),\n",
    "            pl.col(\"topic_model_cosine\").max().alias(\"max_topic_model_cosine\"),\n",
    "            pl.col(\"topic_model_cosine\").std().alias(\"std_topic_model_cosine\"),\n",
    "        ).join(history_train.drop(['article_id_fixed', 'impression_time_fixed']), on='user_id', how='left') \\\n",
    "        .with_columns(\n",
    "            pl.struct(['topics_idf', 'topics_flatten_tf_idf']).map_elements(\n",
    "                lambda x: cosine_similarity(x['topics_idf'], x['topics_flatten_tf_idf']), return_dtype=pl.Float64\n",
    "            ).cast(pl.Float32).alias('topics_cosine'),\n",
    "            (pl.col('category') == pl.col('MostFrequentCategory')).alias('IsFavouriteCategory'),\n",
    "            pl.col('category_right').list.n_unique().alias('NumberDifferentCategories'),\n",
    "            list_pct_matches_with_col('category_right', 'category').alias('PctCategoryMatches'),\n",
    "        ).drop(['topics_idf', 'topics_flatten', 'topics_flatten_tf_idf', 'category_right'])\n",
    "    for rows in tqdm.tqdm(train_ds.iter_slices(10000), total=train_ds.shape[0] // 10000)\n",
    ")\n",
    "\n",
    "gc.collect()\n",
    "PrintColor(f\"\\n\" + GetMemUsage(), color = Fore.RED)\n",
    "train_ds.head(2)"
   ]
  },
  {
   "cell_type": "code",
   "execution_count": 34,
   "id": "48280373",
   "metadata": {
    "execution": {
     "iopub.execute_input": "2024-04-08T12:47:57.499527Z",
     "iopub.status.busy": "2024-04-08T12:47:57.499075Z",
     "iopub.status.idle": "2024-04-08T12:47:57.505073Z",
     "shell.execute_reply": "2024-04-08T12:47:57.503710Z"
    },
    "papermill": {
     "duration": 0.055426,
     "end_time": "2024-04-08T12:47:57.507717",
     "exception": false,
     "start_time": "2024-04-08T12:47:57.452291",
     "status": "completed"
    },
    "tags": []
   },
   "outputs": [],
   "source": [
    "# .pipe(batch_cosine_similarity, col1='topics_idf', col2='topics_flatten_tf_idf', target_col='topics_cosine') \\"
   ]
  },
  {
   "cell_type": "markdown",
   "id": "92991b6c",
   "metadata": {
    "papermill": {
     "duration": 0.045463,
     "end_time": "2024-04-08T12:47:57.598174",
     "exception": false,
     "start_time": "2024-04-08T12:47:57.552711",
     "status": "completed"
    },
    "tags": []
   },
   "source": [
    "# Training"
   ]
  },
  {
   "cell_type": "code",
   "execution_count": 35,
   "id": "0a25249f",
   "metadata": {
    "execution": {
     "iopub.execute_input": "2024-04-08T12:47:57.688962Z",
     "iopub.status.busy": "2024-04-08T12:47:57.688482Z",
     "iopub.status.idle": "2024-04-08T12:47:58.254496Z",
     "shell.execute_reply": "2024-04-08T12:47:58.252973Z"
    },
    "papermill": {
     "duration": 0.61499,
     "end_time": "2024-04-08T12:47:58.257532",
     "exception": false,
     "start_time": "2024-04-08T12:47:57.642542",
     "status": "completed"
    },
    "tags": []
   },
   "outputs": [],
   "source": [
    "train_ds = train_ds.drop(['impression_id', 'article', 'user_id']).to_pandas()\n",
    "\n",
    "categorical_columns = ['device_type', 'is_sso_user', 'gender', 'is_subscriber', 'weekday',\n",
    "                       'premium', 'category', 'sentiment_label', 'is_new_article', 'is_already_seen_article',\n",
    "                       'MostFrequentCategory', 'MostFrequentWeekday', 'IsFavouriteCategory']\n",
    "categorical_columns += [f'Entity_{entity}_Present' for entity in unique_entities]\n",
    "train_ds[categorical_columns] = train_ds[categorical_columns].astype('category')\n",
    "\n",
    "X = train_ds.drop(columns=['target'])\n",
    "y = train_ds['target']"
   ]
  },
  {
   "cell_type": "code",
   "execution_count": 36,
   "id": "a4d35334",
   "metadata": {
    "execution": {
     "iopub.execute_input": "2024-04-08T12:47:58.353884Z",
     "iopub.status.busy": "2024-04-08T12:47:58.352290Z",
     "iopub.status.idle": "2024-04-08T12:47:58.634409Z",
     "shell.execute_reply": "2024-04-08T12:47:58.633084Z"
    },
    "papermill": {
     "duration": 0.334662,
     "end_time": "2024-04-08T12:47:58.637193",
     "exception": false,
     "start_time": "2024-04-08T12:47:58.302531",
     "status": "completed"
    },
    "tags": []
   },
   "outputs": [
    {
     "name": "stdout",
     "output_type": "stream",
     "text": [
      "\u001b[1m\u001b[31m\n",
      "RAM memory GB usage = 2.199\u001b[0m\n"
     ]
    }
   ],
   "source": [
    "del train_ds\n",
    "\n",
    "gc.collect()\n",
    "PrintColor(f\"\\n\" + GetMemUsage(), color = Fore.RED)"
   ]
  },
  {
   "cell_type": "code",
   "execution_count": 37,
   "id": "d03db4aa",
   "metadata": {
    "execution": {
     "iopub.execute_input": "2024-04-08T12:47:58.733340Z",
     "iopub.status.busy": "2024-04-08T12:47:58.732094Z",
     "iopub.status.idle": "2024-04-08T12:56:11.620716Z",
     "shell.execute_reply": "2024-04-08T12:56:11.619713Z"
    },
    "papermill": {
     "duration": 492.939703,
     "end_time": "2024-04-08T12:56:11.623259",
     "exception": false,
     "start_time": "2024-04-08T12:47:58.683556",
     "status": "completed"
    },
    "tags": []
   },
   "outputs": [
    {
     "name": "stdout",
     "output_type": "stream",
     "text": [
      "Learning rate set to 0.318943\n",
      "0:\tlearn: 0.6260483\ttotal: 1.19s\tremaining: 9m 54s\n",
      "25:\tlearn: 0.5456947\ttotal: 27s\tremaining: 8m 12s\n",
      "50:\tlearn: 0.5356841\ttotal: 51.5s\tremaining: 7m 33s\n",
      "75:\tlearn: 0.5295247\ttotal: 1m 16s\tremaining: 7m 6s\n",
      "100:\tlearn: 0.5248070\ttotal: 1m 40s\tremaining: 6m 38s\n",
      "125:\tlearn: 0.5210061\ttotal: 2m 5s\tremaining: 6m 13s\n",
      "150:\tlearn: 0.5180231\ttotal: 2m 30s\tremaining: 5m 47s\n",
      "175:\tlearn: 0.5151865\ttotal: 2m 55s\tremaining: 5m 22s\n",
      "200:\tlearn: 0.5130684\ttotal: 3m 19s\tremaining: 4m 56s\n",
      "225:\tlearn: 0.5107985\ttotal: 3m 43s\tremaining: 4m 31s\n",
      "250:\tlearn: 0.5089445\ttotal: 4m 8s\tremaining: 4m 6s\n",
      "275:\tlearn: 0.5074000\ttotal: 4m 32s\tremaining: 3m 41s\n",
      "300:\tlearn: 0.5057320\ttotal: 4m 56s\tremaining: 3m 16s\n",
      "325:\tlearn: 0.5041789\ttotal: 5m 22s\tremaining: 2m 51s\n",
      "350:\tlearn: 0.5028439\ttotal: 5m 46s\tremaining: 2m 27s\n",
      "375:\tlearn: 0.5014880\ttotal: 6m 10s\tremaining: 2m 2s\n",
      "400:\tlearn: 0.5000454\ttotal: 6m 34s\tremaining: 1m 37s\n",
      "425:\tlearn: 0.4986921\ttotal: 6m 58s\tremaining: 1m 12s\n",
      "450:\tlearn: 0.4973923\ttotal: 7m 23s\tremaining: 48.2s\n",
      "475:\tlearn: 0.4960830\ttotal: 7m 47s\tremaining: 23.6s\n",
      "499:\tlearn: 0.4949776\ttotal: 8m 10s\tremaining: 0us\n",
      "\u001b[1m\u001b[31m\n",
      "RAM memory GB usage = 3.447\u001b[0m\n"
     ]
    }
   ],
   "source": [
    "# just a simple model to be able to run an evaluation\n",
    "model = CatBoostClassifier(cat_features=categorical_columns, iterations=500)\n",
    "\n",
    "model.fit(X, y, verbose=25)\n",
    "\n",
    "gc.collect()\n",
    "PrintColor(f\"\\n\" + GetMemUsage(), color = Fore.RED)"
   ]
  },
  {
   "cell_type": "code",
   "execution_count": 38,
   "id": "0af4e6cc",
   "metadata": {
    "execution": {
     "iopub.execute_input": "2024-04-08T12:56:11.719479Z",
     "iopub.status.busy": "2024-04-08T12:56:11.718962Z",
     "iopub.status.idle": "2024-04-08T12:56:18.453547Z",
     "shell.execute_reply": "2024-04-08T12:56:18.452253Z"
    },
    "papermill": {
     "duration": 6.786284,
     "end_time": "2024-04-08T12:56:18.456407",
     "exception": false,
     "start_time": "2024-04-08T12:56:11.670123",
     "status": "completed"
    },
    "tags": []
   },
   "outputs": [
    {
     "name": "stdout",
     "output_type": "stream",
     "text": [
      "CPU times: user 6.77 s, sys: 85.3 ms, total: 6.85 s\n",
      "Wall time: 6.73 s\n"
     ]
    }
   ],
   "source": [
    "%%time\n",
    "\n",
    "from catboost import Pool\n",
    "\n",
    "train_pool = Pool(X, y, cat_features=categorical_columns)\n",
    "feature_importances = model.get_feature_importance(train_pool)"
   ]
  },
  {
   "cell_type": "code",
   "execution_count": 39,
   "id": "68fcb063",
   "metadata": {
    "execution": {
     "iopub.execute_input": "2024-04-08T12:56:18.553836Z",
     "iopub.status.busy": "2024-04-08T12:56:18.553395Z",
     "iopub.status.idle": "2024-04-08T12:56:20.135185Z",
     "shell.execute_reply": "2024-04-08T12:56:20.134094Z"
    },
    "papermill": {
     "duration": 1.63558,
     "end_time": "2024-04-08T12:56:20.139523",
     "exception": false,
     "start_time": "2024-04-08T12:56:18.503943",
     "status": "completed"
    },
    "tags": []
   },
   "outputs": [
    {
     "data": {
      "text/plain": [
       "Text(0.5, 1.0, 'Catboost Feature Importances')"
      ]
     },
     "execution_count": 39,
     "metadata": {},
     "output_type": "execute_result"
    },
    {
     "data": {
      "image/png": "[encoded data removed]",
      "text/plain": [
       "<Figure size 1000x1000 with 1 Axes>"
      ]
     },
     "metadata": {},
     "output_type": "display_data"
    }
   ],
   "source": [
    "sorted_importances = np.argsort(feature_importances)[::-1]\n",
    "\n",
    "plt.figure(figsize=(10, 10))\n",
    "sns.barplot(x=feature_importances[sorted_importances], y=np.array(X.columns)[sorted_importances])\n",
    "plt.xlabel('Feature Importance')\n",
    "plt.ylabel('Feature Name')\n",
    "plt.title('Catboost Feature Importances')"
   ]
  },
  {
   "cell_type": "code",
   "execution_count": 40,
   "id": "7e6d5453",
   "metadata": {
    "execution": {
     "iopub.execute_input": "2024-04-08T12:56:20.243804Z",
     "iopub.status.busy": "2024-04-08T12:56:20.242492Z",
     "iopub.status.idle": "2024-04-08T12:56:20.530807Z",
     "shell.execute_reply": "2024-04-08T12:56:20.529060Z"
    },
    "papermill": {
     "duration": 0.344556,
     "end_time": "2024-04-08T12:56:20.534326",
     "exception": false,
     "start_time": "2024-04-08T12:56:20.189770",
     "status": "completed"
    },
    "tags": []
   },
   "outputs": [
    {
     "name": "stdout",
     "output_type": "stream",
     "text": [
      "\u001b[1m\u001b[31m\n",
      "RAM memory GB usage = 3.439\u001b[0m\n"
     ]
    }
   ],
   "source": [
    "del history_train\n",
    "del behaviors_train\n",
    "\n",
    "gc.collect()\n",
    "PrintColor(f\"\\n\" + GetMemUsage(), color = Fore.RED)"
   ]
  },
  {
   "cell_type": "code",
   "execution_count": 41,
   "id": "2e9b4c2a",
   "metadata": {
    "execution": {
     "iopub.execute_input": "2024-04-08T12:56:20.641234Z",
     "iopub.status.busy": "2024-04-08T12:56:20.640553Z",
     "iopub.status.idle": "2024-04-08T12:56:20.648796Z",
     "shell.execute_reply": "2024-04-08T12:56:20.647610Z"
    },
    "papermill": {
     "duration": 0.065358,
     "end_time": "2024-04-08T12:56:20.651473",
     "exception": false,
     "start_time": "2024-04-08T12:56:20.586115",
     "status": "completed"
    },
    "tags": []
   },
   "outputs": [
    {
     "data": {
      "text/plain": [
       "['device_type',\n",
       " 'is_sso_user',\n",
       " 'gender',\n",
       " 'is_subscriber',\n",
       " 'weekday',\n",
       " 'premium',\n",
       " 'category',\n",
       " 'sentiment_label',\n",
       " 'is_new_article',\n",
       " 'is_already_seen_article',\n",
       " 'MostFrequentCategory',\n",
       " 'MostFrequentWeekday',\n",
       " 'IsFavouriteCategory',\n",
       " 'Entity_MISC_Present',\n",
       " 'Entity_PER_Present',\n",
       " 'Entity_PROD_Present',\n",
       " 'Entity_ORG_Present',\n",
       " 'Entity_LOC_Present',\n",
       " 'Entity_EVENT_Present']"
      ]
     },
     "execution_count": 41,
     "metadata": {},
     "output_type": "execute_result"
    }
   ],
   "source": [
    "model.get_param('cat_features')"
   ]
  },
  {
   "cell_type": "markdown",
   "id": "181bca3e",
   "metadata": {
    "papermill": {
     "duration": 0.051467,
     "end_time": "2024-04-08T12:56:20.757374",
     "exception": false,
     "start_time": "2024-04-08T12:56:20.705907",
     "status": "completed"
    },
    "tags": []
   },
   "source": [
    "# Model Evaluation"
   ]
  },
  {
   "cell_type": "code",
   "execution_count": 42,
   "id": "0be5ce8c",
   "metadata": {
    "execution": {
     "iopub.execute_input": "2024-04-08T12:56:20.863174Z",
     "iopub.status.busy": "2024-04-08T12:56:20.862330Z",
     "iopub.status.idle": "2024-04-08T12:56:36.559482Z",
     "shell.execute_reply": "2024-04-08T12:56:36.557995Z"
    },
    "papermill": {
     "duration": 15.753948,
     "end_time": "2024-04-08T12:56:36.562944",
     "exception": false,
     "start_time": "2024-04-08T12:56:20.808996",
     "status": "completed"
    },
    "tags": []
   },
   "outputs": [],
   "source": [
    "user_id_mapping = history_val.sort('user_id').with_row_index() \\\n",
    "    .select(['index', 'user_id']).rename({'index': 'user_index'})\n",
    "\n",
    "ner_interactions = history_val.select(['user_id', 'article_id_fixed']).explode('article_id_fixed') \\\n",
    "    .join(articles.select(['article_id', 'ner_clusters']), left_on='article_id_fixed', right_on='article_id', how='left') \\\n",
    "    .explode('ner_clusters').unique(['user_id', 'ner_clusters']) \\\n",
    "    .with_columns(pl.col('ner_clusters').str.strip_chars_start('\\\" ').str.to_lowercase()) \\\n",
    "    .join(user_id_mapping, on='user_id', how='left') \\\n",
    "    .join(ner_mapping, left_on='ner_clusters', right_on='ner') \\\n",
    "    .select(['user_index', 'ner_index', 'user_id', 'article_id_fixed']) \\\n",
    "    .unique(['user_index', 'ner_index'])\n",
    "\n",
    "URM_ner = sps.csr_matrix((np.ones(ner_interactions.shape[0]),\n",
    "                          (ner_interactions['user_index'].to_numpy(), ner_interactions['ner_index'].to_numpy())),\n",
    "                         shape=(user_id_mapping.shape[0], ner_mapping.shape[0]))\n",
    "\n",
    "ner_interactions_test = behaviors_val.select(['user_id', 'article_ids_clicked']).explode('article_ids_clicked') \\\n",
    "    .join(articles.select(['article_id', 'ner_clusters']), left_on='article_ids_clicked', right_on='article_id', how='left') \\\n",
    "    .explode('ner_clusters').unique(['user_id', 'ner_clusters']) \\\n",
    "    .with_columns(pl.col('ner_clusters').str.strip_chars_start('\\\" ').str.to_lowercase()) \\\n",
    "    .join(user_id_mapping, on='user_id', how='left') \\\n",
    "    .join(ner_mapping, left_on='ner_clusters', right_on='ner') \\\n",
    "    .select(['user_index', 'ner_index', 'user_id', 'article_ids_clicked']) \\\n",
    "    .unique(['user_index', 'ner_index'])\n",
    "\n",
    "URM_ner_test = sps.csr_matrix((np.ones(ner_interactions_test.shape[0]),\n",
    "                               (ner_interactions_test['user_index'].to_numpy(), ner_interactions_test['ner_index'].to_numpy())),\n",
    "                              shape=(user_id_mapping.shape[0], ner_mapping.shape[0]))"
   ]
  },
  {
   "cell_type": "code",
   "execution_count": 43,
   "id": "748d5b86",
   "metadata": {
    "execution": {
     "iopub.execute_input": "2024-04-08T12:56:36.669834Z",
     "iopub.status.busy": "2024-04-08T12:56:36.669425Z",
     "iopub.status.idle": "2024-04-08T13:02:06.088508Z",
     "shell.execute_reply": "2024-04-08T13:02:06.087221Z"
    },
    "papermill": {
     "duration": 329.490289,
     "end_time": "2024-04-08T13:02:06.105502",
     "exception": false,
     "start_time": "2024-04-08T12:56:36.615213",
     "status": "completed"
    },
    "tags": []
   },
   "outputs": [
    {
     "name": "stdout",
     "output_type": "stream",
     "text": [
      "ItemKNNCFRecommender: URM Detected 3 ( 0.0%) users with no interactions.\n",
      "ItemKNNCFRecommender: URM Detected 19035 (43.5%) items with no interactions.\n",
      "Unable to load Cython Compute_Similarity, reverting to Python\n",
      "Similarity column 43774 (100.0%), 156.97 column/sec. Elapsed time 4.65 min\n",
      "EvaluatorHoldout: Ignoring 32 ( 0.2%) Users that have less than 1 test interactions\n",
      "EvaluatorHoldout: Processed 15310 (100.0%) in 49.50 sec. Users per second: 309\n"
     ]
    },
    {
     "data": {
      "text/html": [
       "<div>\n",
       "<style scoped>\n",
       "    .dataframe tbody tr th:only-of-type {\n",
       "        vertical-align: middle;\n",
       "    }\n",
       "\n",
       "    .dataframe tbody tr th {\n",
       "        vertical-align: top;\n",
       "    }\n",
       "\n",
       "    .dataframe thead th {\n",
       "        text-align: right;\n",
       "    }\n",
       "</style>\n",
       "<table border=\"1\" class=\"dataframe\">\n",
       "  <thead>\n",
       "    <tr style=\"text-align: right;\">\n",
       "      <th></th>\n",
       "      <th>PRECISION</th>\n",
       "      <th>PRECISION_RECALL_MIN_DEN</th>\n",
       "      <th>RECALL</th>\n",
       "      <th>MAP</th>\n",
       "      <th>MAP_MIN_DEN</th>\n",
       "      <th>MRR</th>\n",
       "      <th>NDCG</th>\n",
       "      <th>F1</th>\n",
       "      <th>HIT_RATE</th>\n",
       "      <th>ARHR_ALL_HITS</th>\n",
       "      <th>...</th>\n",
       "      <th>COVERAGE_USER</th>\n",
       "      <th>COVERAGE_USER_HIT</th>\n",
       "      <th>USERS_IN_GT</th>\n",
       "      <th>DIVERSITY_GINI</th>\n",
       "      <th>SHANNON_ENTROPY</th>\n",
       "      <th>RATIO_DIVERSITY_HERFINDAHL</th>\n",
       "      <th>RATIO_DIVERSITY_GINI</th>\n",
       "      <th>RATIO_SHANNON_ENTROPY</th>\n",
       "      <th>RATIO_AVERAGE_POPULARITY</th>\n",
       "      <th>RATIO_NOVELTY</th>\n",
       "    </tr>\n",
       "    <tr>\n",
       "      <th>cutoff</th>\n",
       "      <th></th>\n",
       "      <th></th>\n",
       "      <th></th>\n",
       "      <th></th>\n",
       "      <th></th>\n",
       "      <th></th>\n",
       "      <th></th>\n",
       "      <th></th>\n",
       "      <th></th>\n",
       "      <th></th>\n",
       "      <th></th>\n",
       "      <th></th>\n",
       "      <th></th>\n",
       "      <th></th>\n",
       "      <th></th>\n",
       "      <th></th>\n",
       "      <th></th>\n",
       "      <th></th>\n",
       "      <th></th>\n",
       "      <th></th>\n",
       "      <th></th>\n",
       "    </tr>\n",
       "  </thead>\n",
       "  <tbody>\n",
       "    <tr>\n",
       "      <th>10</th>\n",
       "      <td>0.338445</td>\n",
       "      <td>0.339461</td>\n",
       "      <td>0.033197</td>\n",
       "      <td>0.241643</td>\n",
       "      <td>0.241977</td>\n",
       "      <td>0.493913</td>\n",
       "      <td>0.346767</td>\n",
       "      <td>0.060464</td>\n",
       "      <td>0.784651</td>\n",
       "      <td>1.033204</td>\n",
       "      <td>...</td>\n",
       "      <td>0.997914</td>\n",
       "      <td>0.783014</td>\n",
       "      <td>0.997914</td>\n",
       "      <td>0.002568</td>\n",
       "      <td>5.473111</td>\n",
       "      <td>0.953841</td>\n",
       "      <td>0.020621</td>\n",
       "      <td>0.428217</td>\n",
       "      <td>3.43338</td>\n",
       "      <td>0.010093</td>\n",
       "    </tr>\n",
       "  </tbody>\n",
       "</table>\n",
       "<p>1 rows × 27 columns</p>\n",
       "</div>"
      ],
      "text/plain": [
       "       PRECISION PRECISION_RECALL_MIN_DEN    RECALL       MAP MAP_MIN_DEN  \\\n",
       "cutoff                                                                      \n",
       "10      0.338445                 0.339461  0.033197  0.241643    0.241977   \n",
       "\n",
       "             MRR      NDCG        F1  HIT_RATE ARHR_ALL_HITS  ...  \\\n",
       "cutoff                                                        ...   \n",
       "10      0.493913  0.346767  0.060464  0.784651      1.033204  ...   \n",
       "\n",
       "       COVERAGE_USER COVERAGE_USER_HIT USERS_IN_GT DIVERSITY_GINI  \\\n",
       "cutoff                                                              \n",
       "10          0.997914          0.783014    0.997914       0.002568   \n",
       "\n",
       "       SHANNON_ENTROPY RATIO_DIVERSITY_HERFINDAHL RATIO_DIVERSITY_GINI  \\\n",
       "cutoff                                                                   \n",
       "10            5.473111                   0.953841             0.020621   \n",
       "\n",
       "       RATIO_SHANNON_ENTROPY RATIO_AVERAGE_POPULARITY RATIO_NOVELTY  \n",
       "cutoff                                                               \n",
       "10                  0.428217                  3.43338      0.010093  \n",
       "\n",
       "[1 rows x 27 columns]"
      ]
     },
     "execution_count": 43,
     "metadata": {},
     "output_type": "execute_result"
    }
   ],
   "source": [
    "item_knn = ItemKNNCFRecommender(URM_ner)\n",
    "item_knn.fit(topK=100, similarity='jaccard')\n",
    "\n",
    "evaluator = EvaluatorHoldout(URM_ner_test, cutoff_list=[10], exclude_seen=False)\n",
    "result_df, _ = evaluator.evaluateRecommender(item_knn)\n",
    "result_df"
   ]
  },
  {
   "cell_type": "code",
   "execution_count": 44,
   "id": "a02ae3ff",
   "metadata": {
    "execution": {
     "iopub.execute_input": "2024-04-08T13:02:06.214928Z",
     "iopub.status.busy": "2024-04-08T13:02:06.213919Z",
     "iopub.status.idle": "2024-04-08T13:02:37.781684Z",
     "shell.execute_reply": "2024-04-08T13:02:37.780402Z"
    },
    "papermill": {
     "duration": 31.649851,
     "end_time": "2024-04-08T13:02:37.806765",
     "exception": false,
     "start_time": "2024-04-08T13:02:06.156914",
     "status": "completed"
    },
    "tags": []
   },
   "outputs": [
    {
     "name": "stdout",
     "output_type": "stream",
     "text": [
      "PureSVDRecommender: URM Detected 3 ( 0.0%) users with no interactions.\n",
      "PureSVDRecommender: URM Detected 19035 (43.5%) items with no interactions.\n",
      "PureSVDRecommender: Computing SVD decomposition...\n",
      "PureSVDRecommender: Computing SVD decomposition... done in 4.72 sec\n",
      "EvaluatorHoldout: Processed 15310 (100.0%) in 26.28 sec. Users per second: 583\n"
     ]
    },
    {
     "data": {
      "text/html": [
       "<div>\n",
       "<style scoped>\n",
       "    .dataframe tbody tr th:only-of-type {\n",
       "        vertical-align: middle;\n",
       "    }\n",
       "\n",
       "    .dataframe tbody tr th {\n",
       "        vertical-align: top;\n",
       "    }\n",
       "\n",
       "    .dataframe thead th {\n",
       "        text-align: right;\n",
       "    }\n",
       "</style>\n",
       "<table border=\"1\" class=\"dataframe\">\n",
       "  <thead>\n",
       "    <tr style=\"text-align: right;\">\n",
       "      <th></th>\n",
       "      <th>PRECISION</th>\n",
       "      <th>PRECISION_RECALL_MIN_DEN</th>\n",
       "      <th>RECALL</th>\n",
       "      <th>MAP</th>\n",
       "      <th>MAP_MIN_DEN</th>\n",
       "      <th>MRR</th>\n",
       "      <th>NDCG</th>\n",
       "      <th>F1</th>\n",
       "      <th>HIT_RATE</th>\n",
       "      <th>ARHR_ALL_HITS</th>\n",
       "      <th>...</th>\n",
       "      <th>COVERAGE_USER</th>\n",
       "      <th>COVERAGE_USER_HIT</th>\n",
       "      <th>USERS_IN_GT</th>\n",
       "      <th>DIVERSITY_GINI</th>\n",
       "      <th>SHANNON_ENTROPY</th>\n",
       "      <th>RATIO_DIVERSITY_HERFINDAHL</th>\n",
       "      <th>RATIO_DIVERSITY_GINI</th>\n",
       "      <th>RATIO_SHANNON_ENTROPY</th>\n",
       "      <th>RATIO_AVERAGE_POPULARITY</th>\n",
       "      <th>RATIO_NOVELTY</th>\n",
       "    </tr>\n",
       "    <tr>\n",
       "      <th>cutoff</th>\n",
       "      <th></th>\n",
       "      <th></th>\n",
       "      <th></th>\n",
       "      <th></th>\n",
       "      <th></th>\n",
       "      <th></th>\n",
       "      <th></th>\n",
       "      <th></th>\n",
       "      <th></th>\n",
       "      <th></th>\n",
       "      <th></th>\n",
       "      <th></th>\n",
       "      <th></th>\n",
       "      <th></th>\n",
       "      <th></th>\n",
       "      <th></th>\n",
       "      <th></th>\n",
       "      <th></th>\n",
       "      <th></th>\n",
       "      <th></th>\n",
       "      <th></th>\n",
       "    </tr>\n",
       "  </thead>\n",
       "  <tbody>\n",
       "    <tr>\n",
       "      <th>10</th>\n",
       "      <td>0.365382</td>\n",
       "      <td>0.368539</td>\n",
       "      <td>0.050795</td>\n",
       "      <td>0.283615</td>\n",
       "      <td>0.285707</td>\n",
       "      <td>0.695447</td>\n",
       "      <td>0.415659</td>\n",
       "      <td>0.089191</td>\n",
       "      <td>0.876486</td>\n",
       "      <td>1.342637</td>\n",
       "      <td>...</td>\n",
       "      <td>0.997914</td>\n",
       "      <td>0.874658</td>\n",
       "      <td>0.997914</td>\n",
       "      <td>0.001527</td>\n",
       "      <td>5.728555</td>\n",
       "      <td>0.954883</td>\n",
       "      <td>0.012263</td>\n",
       "      <td>0.448203</td>\n",
       "      <td>3.536612</td>\n",
       "      <td>0.010003</td>\n",
       "    </tr>\n",
       "  </tbody>\n",
       "</table>\n",
       "<p>1 rows × 27 columns</p>\n",
       "</div>"
      ],
      "text/plain": [
       "       PRECISION PRECISION_RECALL_MIN_DEN    RECALL       MAP MAP_MIN_DEN  \\\n",
       "cutoff                                                                      \n",
       "10      0.365382                 0.368539  0.050795  0.283615    0.285707   \n",
       "\n",
       "             MRR      NDCG        F1  HIT_RATE ARHR_ALL_HITS  ...  \\\n",
       "cutoff                                                        ...   \n",
       "10      0.695447  0.415659  0.089191  0.876486      1.342637  ...   \n",
       "\n",
       "       COVERAGE_USER COVERAGE_USER_HIT USERS_IN_GT DIVERSITY_GINI  \\\n",
       "cutoff                                                              \n",
       "10          0.997914          0.874658    0.997914       0.001527   \n",
       "\n",
       "       SHANNON_ENTROPY RATIO_DIVERSITY_HERFINDAHL RATIO_DIVERSITY_GINI  \\\n",
       "cutoff                                                                   \n",
       "10            5.728555                   0.954883             0.012263   \n",
       "\n",
       "       RATIO_SHANNON_ENTROPY RATIO_AVERAGE_POPULARITY RATIO_NOVELTY  \n",
       "cutoff                                                               \n",
       "10                  0.448203                 3.536612      0.010003  \n",
       "\n",
       "[1 rows x 27 columns]"
      ]
     },
     "execution_count": 44,
     "metadata": {},
     "output_type": "execute_result"
    }
   ],
   "source": [
    "pure_svd = PureSVDRecommender(URM_ner)\n",
    "pure_svd.fit(num_factors=20)\n",
    "\n",
    "result_df, _ = evaluator.evaluateRecommender(pure_svd)\n",
    "result_df"
   ]
  },
  {
   "cell_type": "code",
   "execution_count": 45,
   "id": "bf8e812f",
   "metadata": {
    "execution": {
     "iopub.execute_input": "2024-04-08T13:02:37.918924Z",
     "iopub.status.busy": "2024-04-08T13:02:37.918484Z",
     "iopub.status.idle": "2024-04-08T13:04:48.212037Z",
     "shell.execute_reply": "2024-04-08T13:04:48.210851Z"
    },
    "papermill": {
     "duration": 130.405344,
     "end_time": "2024-04-08T13:04:48.266839",
     "exception": false,
     "start_time": "2024-04-08T13:02:37.861495",
     "status": "completed"
    },
    "tags": []
   },
   "outputs": [
    {
     "name": "stdout",
     "output_type": "stream",
     "text": [
      "CPU times: user 4min 38s, sys: 3min 16s, total: 7min 54s\n",
      "Wall time: 2min 10s\n"
     ]
    },
    {
     "data": {
      "text/html": [
       "<div><style>\n",
       ".dataframe > thead > tr,\n",
       ".dataframe > tbody > tr {\n",
       "  text-align: right;\n",
       "  white-space: pre-wrap;\n",
       "}\n",
       "</style>\n",
       "<small>shape: (5, 8)</small><table border=\"1\" class=\"dataframe\"><thead><tr><th>impression_id</th><th>article</th><th>total_ner_svd_scores</th><th>mean_ner_svd_scores</th><th>max_ner_svd_scores</th><th>total_ner_item_knn_scores</th><th>mean_ner_item_knn_scores</th><th>max_ner_item_knn_scores</th></tr><tr><td>u32</td><td>i32</td><td>f32</td><td>f32</td><td>f32</td><td>f32</td><td>f32</td><td>f32</td></tr></thead><tbody><tr><td>96791</td><td>9784696</td><td>0.454638</td><td>0.435123</td><td>0.220255</td><td>0.456547</td><td>0.433501</td><td>0.2498</td></tr><tr><td>96798</td><td>9784696</td><td>0.128557</td><td>0.143821</td><td>0.056175</td><td>0.110234</td><td>0.125856</td><td>0.061705</td></tr><tr><td>96798</td><td>9783405</td><td>-0.000008</td><td>-0.000025</td><td>0.0</td><td>0.0</td><td>0.0</td><td>0.0</td></tr><tr><td>96801</td><td>9782108</td><td>0.156673</td><td>0.269882</td><td>0.167245</td><td>0.130397</td><td>0.235638</td><td>0.155463</td></tr><tr><td>96801</td><td>9781983</td><td>0.194196</td><td>0.137742</td><td>0.158565</td><td>0.153277</td><td>0.114052</td><td>0.156563</td></tr></tbody></table></div>"
      ],
      "text/plain": [
       "shape: (5, 8)\n",
       "┌────────────┬─────────┬────────────┬────────────┬────────────┬────────────┬───────────┬───────────┐\n",
       "│ impression ┆ article ┆ total_ner_ ┆ mean_ner_s ┆ max_ner_sv ┆ total_ner_ ┆ mean_ner_ ┆ max_ner_i │\n",
       "│ _id        ┆ ---     ┆ svd_scores ┆ vd_scores  ┆ d_scores   ┆ item_knn_s ┆ item_knn_ ┆ tem_knn_s │\n",
       "│ ---        ┆ i32     ┆ ---        ┆ ---        ┆ ---        ┆ cores      ┆ scores    ┆ cores     │\n",
       "│ u32        ┆         ┆ f32        ┆ f32        ┆ f32        ┆ ---        ┆ ---       ┆ ---       │\n",
       "│            ┆         ┆            ┆            ┆            ┆ f32        ┆ f32       ┆ f32       │\n",
       "╞════════════╪═════════╪════════════╪════════════╪════════════╪════════════╪═══════════╪═══════════╡\n",
       "│ 96791      ┆ 9784696 ┆ 0.454638   ┆ 0.435123   ┆ 0.220255   ┆ 0.456547   ┆ 0.433501  ┆ 0.2498    │\n",
       "│ 96798      ┆ 9784696 ┆ 0.128557   ┆ 0.143821   ┆ 0.056175   ┆ 0.110234   ┆ 0.125856  ┆ 0.061705  │\n",
       "│ 96798      ┆ 9783405 ┆ -0.000008  ┆ -0.000025  ┆ 0.0        ┆ 0.0        ┆ 0.0       ┆ 0.0       │\n",
       "│ 96801      ┆ 9782108 ┆ 0.156673   ┆ 0.269882   ┆ 0.167245   ┆ 0.130397   ┆ 0.235638  ┆ 0.155463  │\n",
       "│ 96801      ┆ 9781983 ┆ 0.194196   ┆ 0.137742   ┆ 0.158565   ┆ 0.153277   ┆ 0.114052  ┆ 0.156563  │\n",
       "└────────────┴─────────┴────────────┴────────────┴────────────┴────────────┴───────────┴───────────┘"
      ]
     },
     "execution_count": 45,
     "metadata": {},
     "output_type": "execute_result"
    }
   ],
   "source": [
    "%%time\n",
    "\n",
    "def get_inview_scores(user_ners_df, recommender, f_name):\n",
    "    user_index = user_ners_df['user_index'].to_list()[0]\n",
    "    ners = user_ners_df['ner_index'].to_numpy()\n",
    "    scores = recommender._compute_item_score([user_index], ners)[0, ners]\n",
    "    return user_ners_df.with_columns(\n",
    "        pl.Series(scores).alias(f_name)\n",
    "    )\n",
    "\n",
    "ner_inview_scores = behaviors_val.select(['user_id', 'article_ids_inview']).explode('article_ids_inview') \\\n",
    "    .join(articles.select(['article_id', 'ner_clusters']), left_on='article_ids_inview', right_on='article_id', how='left') \\\n",
    "    .explode('ner_clusters').unique(['user_id', 'ner_clusters']) \\\n",
    "    .with_columns(pl.col('ner_clusters').str.strip_chars_start('\\\" ').str.to_lowercase()) \\\n",
    "    .join(user_id_mapping, on='user_id', how='left') \\\n",
    "    .join(ner_mapping, left_on='ner_clusters', right_on='ner') \\\n",
    "    .select(['user_index', 'ner_index', 'user_id', 'article_ids_inview']) \\\n",
    "    .unique(['user_index', 'ner_index']) \\\n",
    "    .sort(['user_index', 'ner_index']).group_by('user_index').map_groups(\n",
    "        lambda user_df: user_df.pipe(get_inview_scores, recommender=pure_svd, f_name='pure_svd_scores') \\\n",
    "            .pipe(get_inview_scores, recommender=item_knn, f_name='item_knn_scores')\n",
    "    )\n",
    "\n",
    "behaviors_ner_scores = behaviors_val.select(['impression_id', 'user_id', 'article_ids_inview']).explode('article_ids_inview') \\\n",
    "    .join(ner_inview_scores, on=['user_id', 'article_ids_inview'], how='left') \\\n",
    "    .with_columns(pl.col(['pure_svd_scores', 'item_knn_scores']).fill_null(0)) \\\n",
    "    .group_by(['impression_id', 'article_ids_inview']).agg(\n",
    "        pl.col('pure_svd_scores').sum().alias('total_ner_svd_scores'),\n",
    "        pl.col('pure_svd_scores').mean().alias('mean_ner_svd_scores'),\n",
    "        pl.col('pure_svd_scores').max().alias('max_ner_svd_scores'),\n",
    "        pl.col('item_knn_scores').sum().alias('total_ner_item_knn_scores'),\n",
    "        pl.col('item_knn_scores').mean().alias('mean_ner_item_knn_scores'),\n",
    "        pl.col('item_knn_scores').max().alias('max_ner_item_knn_scores'),\n",
    "    ).with_columns(\n",
    "        pl.col(['total_ner_svd_scores', 'mean_ner_svd_scores', \n",
    "                'total_ner_item_knn_scores', 'mean_ner_item_knn_scores',\n",
    "                'max_ner_svd_scores', 'max_ner_item_knn_scores']).sum().over('impression_id').name.suffix('_max')\n",
    "    ).with_columns(\n",
    "        # l1 normalization\n",
    "        pl.col('total_ner_svd_scores').truediv(pl.col('total_ner_svd_scores_max')),\n",
    "        pl.col('mean_ner_svd_scores').truediv(pl.col('mean_ner_svd_scores_max')),\n",
    "        pl.col('max_ner_svd_scores').truediv(pl.col('max_ner_svd_scores_max')),\n",
    "        pl.col('total_ner_item_knn_scores').truediv(pl.col('total_ner_item_knn_scores_max')),\n",
    "        pl.col('mean_ner_item_knn_scores').truediv(pl.col('mean_ner_item_knn_scores_max')),\n",
    "        pl.col('max_ner_item_knn_scores').truediv(pl.col('max_ner_item_knn_scores_max')),\n",
    "    ).drop(['total_ner_svd_scores_max', 'mean_ner_svd_scores_max', \n",
    "            'max_ner_svd_scores_max', 'total_ner_item_knn_scores_max',\n",
    "            'mean_ner_item_knn_scores_max', 'max_ner_item_knn_scores_max']) \\\n",
    "    .rename({'article_ids_inview': 'article'})\n",
    "behaviors_ner_scores.head(5)"
   ]
  },
  {
   "cell_type": "code",
   "execution_count": 46,
   "id": "f0097077",
   "metadata": {
    "execution": {
     "iopub.execute_input": "2024-04-08T13:04:48.377003Z",
     "iopub.status.busy": "2024-04-08T13:04:48.376035Z",
     "iopub.status.idle": "2024-04-08T13:04:48.383736Z",
     "shell.execute_reply": "2024-04-08T13:04:48.382678Z"
    },
    "papermill": {
     "duration": 0.0658,
     "end_time": "2024-04-08T13:04:48.386438",
     "exception": false,
     "start_time": "2024-04-08T13:04:48.320638",
     "status": "completed"
    },
    "tags": []
   },
   "outputs": [
    {
     "data": {
      "text/plain": [
       "['device_type',\n",
       " 'is_sso_user',\n",
       " 'gender',\n",
       " 'is_subscriber',\n",
       " 'weekday',\n",
       " 'premium',\n",
       " 'category',\n",
       " 'sentiment_label',\n",
       " 'is_new_article',\n",
       " 'is_already_seen_article',\n",
       " 'MostFrequentCategory',\n",
       " 'MostFrequentWeekday',\n",
       " 'IsFavouriteCategory',\n",
       " 'Entity_MISC_Present',\n",
       " 'Entity_PER_Present',\n",
       " 'Entity_PROD_Present',\n",
       " 'Entity_ORG_Present',\n",
       " 'Entity_LOC_Present',\n",
       " 'Entity_EVENT_Present']"
      ]
     },
     "execution_count": 46,
     "metadata": {},
     "output_type": "execute_result"
    }
   ],
   "source": [
    "model.get_param('cat_features')"
   ]
  },
  {
   "cell_type": "code",
   "execution_count": 47,
   "id": "17b087dd",
   "metadata": {
    "execution": {
     "iopub.execute_input": "2024-04-08T13:04:48.496528Z",
     "iopub.status.busy": "2024-04-08T13:04:48.495629Z",
     "iopub.status.idle": "2024-04-08T13:05:05.657805Z",
     "shell.execute_reply": "2024-04-08T13:05:05.656618Z"
    },
    "papermill": {
     "duration": 17.222509,
     "end_time": "2024-04-08T13:05:05.663017",
     "exception": false,
     "start_time": "2024-04-08T13:04:48.440508",
     "status": "completed"
    },
    "tags": []
   },
   "outputs": [
    {
     "name": "stderr",
     "output_type": "stream",
     "text": [
      "16it [00:16,  1.03s/it]                        \n"
     ]
    },
    {
     "name": "stdout",
     "output_type": "stream",
     "text": [
      "\u001b[1m\u001b[31m\n",
      "RAM memory GB usage = 3.965\u001b[0m\n",
      "Memory usage of dataframe is 36.51 MB\n",
      "Memory usage after optimization is: 35.72 MB\n",
      "Decreased by 2.2%\n",
      "CPU times: user 19 s, sys: 1.64 s, total: 20.6 s\n",
      "Wall time: 17.1 s\n"
     ]
    },
    {
     "data": {
      "text/html": [
       "<div><style>\n",
       ".dataframe > thead > tr,\n",
       ".dataframe > tbody > tr {\n",
       "  text-align: right;\n",
       "  white-space: pre-wrap;\n",
       "}\n",
       "</style>\n",
       "<small>shape: (2, 27)</small><table border=\"1\" class=\"dataframe\"><thead><tr><th>user_id</th><th>article_id_fixed</th><th>impression_time_fixed</th><th>category</th><th>NumArticlesHistory</th><th>MedianReadTime</th><th>MaxReadTime</th><th>TotalReadTime</th><th>MedianScrollPercentage</th><th>MaxScrollPercentage</th><th>NeutralPct</th><th>PositivePct</th><th>NegativePct</th><th>PctStrongNeutral</th><th>PctStrongPositive</th><th>PctStrongNegative</th><th>PctNotDefaultArticles</th><th>MostFrequentCategory</th><th>MostFrequentWeekday</th><th>MostFrequentHour</th><th>topics_flatten_tf_idf</th><th>MISCPct</th><th>PERPct</th><th>PRODPct</th><th>ORGPct</th><th>LOCPct</th><th>EVENTPct</th></tr><tr><td>u32</td><td>list[i32]</td><td>list[datetime[μs]]</td><td>list[i16]</td><td>u16</td><td>f32</td><td>f32</td><td>f32</td><td>f32</td><td>f32</td><td>f32</td><td>f32</td><td>f32</td><td>f32</td><td>f32</td><td>f32</td><td>f32</td><td>i16</td><td>i8</td><td>i8</td><td>list[f32]</td><td>f32</td><td>f32</td><td>f32</td><td>f32</td><td>f32</td><td>f32</td></tr></thead><tbody><tr><td>10623</td><td>[9750749, 9685790, … 9779517]</td><td>[2023-05-05 07:51:01, 2023-05-05 07:51:36, … 2023-05-24 17:10:11]</td><td>[118, 457, … 414]</td><td>150</td><td>3.5</td><td>1563.0</td><td>9330.0</td><td>37.0</td><td>100.0</td><td>0.28</td><td>0.093333</td><td>0.626667</td><td>0.126667</td><td>0.06</td><td>0.546667</td><td>0.06</td><td>118</td><td>1</td><td>20</td><td>[0.0, 0.042172, … 0.089681]</td><td>0.266667</td><td>0.893333</td><td>0.213333</td><td>0.913333</td><td>0.846667</td><td>0.3</td></tr><tr><td>12718</td><td>[9749036, 9749025, … 9778718]</td><td>[2023-05-04 07:49:49, 2023-05-04 07:50:15, … 2023-05-24 07:07:25]</td><td>[118, 118, … 140]</td><td>114</td><td>7.0</td><td>748.0</td><td>3440.0</td><td>36.0</td><td>100.0</td><td>0.245614</td><td>0.052632</td><td>0.701754</td><td>0.087719</td><td>0.035088</td><td>0.614035</td><td>0.035088</td><td>118</td><td>7</td><td>7</td><td>[0.0, 0.048524, … 0.217846]</td><td>0.192982</td><td>0.807018</td><td>0.254386</td><td>0.947368</td><td>0.815789</td><td>0.114035</td></tr></tbody></table></div>"
      ],
      "text/plain": [
       "shape: (2, 27)\n",
       "┌─────────┬─────────────┬─────────────┬────────────┬───┬──────────┬──────────┬──────────┬──────────┐\n",
       "│ user_id ┆ article_id_ ┆ impression_ ┆ category   ┆ … ┆ PRODPct  ┆ ORGPct   ┆ LOCPct   ┆ EVENTPct │\n",
       "│ ---     ┆ fixed       ┆ time_fixed  ┆ ---        ┆   ┆ ---      ┆ ---      ┆ ---      ┆ ---      │\n",
       "│ u32     ┆ ---         ┆ ---         ┆ list[i16]  ┆   ┆ f32      ┆ f32      ┆ f32      ┆ f32      │\n",
       "│         ┆ list[i32]   ┆ list[dateti ┆            ┆   ┆          ┆          ┆          ┆          │\n",
       "│         ┆             ┆ me[μs]]     ┆            ┆   ┆          ┆          ┆          ┆          │\n",
       "╞═════════╪═════════════╪═════════════╪════════════╪═══╪══════════╪══════════╪══════════╪══════════╡\n",
       "│ 10623   ┆ [9750749,   ┆ [2023-05-05 ┆ [118, 457, ┆ … ┆ 0.213333 ┆ 0.913333 ┆ 0.846667 ┆ 0.3      │\n",
       "│         ┆ 9685790, …  ┆ 07:51:01,   ┆ … 414]     ┆   ┆          ┆          ┆          ┆          │\n",
       "│         ┆ 9779517]    ┆ 2023-05-05… ┆            ┆   ┆          ┆          ┆          ┆          │\n",
       "│ 12718   ┆ [9749036,   ┆ [2023-05-04 ┆ [118, 118, ┆ … ┆ 0.254386 ┆ 0.947368 ┆ 0.815789 ┆ 0.114035 │\n",
       "│         ┆ 9749025, …  ┆ 07:49:49,   ┆ … 140]     ┆   ┆          ┆          ┆          ┆          │\n",
       "│         ┆ 9778718]    ┆ 2023-05-04… ┆            ┆   ┆          ┆          ┆          ┆          │\n",
       "└─────────┴─────────────┴─────────────┴────────────┴───┴──────────┴──────────┴──────────┴──────────┘"
      ]
     },
     "execution_count": 47,
     "metadata": {},
     "output_type": "execute_result"
    }
   ],
   "source": [
    "%%time\n",
    "\n",
    "STRONG_THR = 0.8\n",
    "\n",
    "history_val = pl.concat(\n",
    "    rows.with_columns(pl.col('article_id_fixed').list.len().alias('NumArticlesHistory')) \\\n",
    "        .explode(['article_id_fixed', 'impression_time_fixed', 'read_time_fixed', 'scroll_percentage_fixed']) \\\n",
    "        .sort(by=['user_id', 'impression_time_fixed']) \\\n",
    "        .with_columns(\n",
    "            pl.col('impression_time_fixed').dt.weekday().alias('weekday'),\n",
    "            pl.col('impression_time_fixed').dt.hour().alias('hour'),\n",
    "        ).join(articles.select(['article_id', 'category', 'is_article_default', 'sentiment_label_int', \n",
    "                                'sentiment_score', 'entity_groups', 'topics']), \n",
    "               left_on='article_id_fixed', right_on='article_id', how='left') \\\n",
    "        .with_columns(\n",
    "            (pl.col('sentiment_label_int') == 0).alias('is_neutral'),\n",
    "            (pl.col('sentiment_label_int') == 1).alias('is_positive'),\n",
    "            (pl.col('sentiment_label_int') == -1).alias('is_negative'),\n",
    "            ((pl.col('sentiment_label_int') == 0) & (pl.col('sentiment_score') > STRONG_THR)).alias('strong_neutral'),\n",
    "            ((pl.col('sentiment_label_int') == 1) & (pl.col('sentiment_score') > STRONG_THR)).alias('strong_positive'),\n",
    "            ((pl.col('sentiment_label_int') == -1) & (pl.col('sentiment_score') > STRONG_THR)).alias('strong_negative'),\n",
    "            pl.col('entity_groups').list.unique(),\n",
    "        ).group_by('user_id').agg(\n",
    "            pl.col('article_id_fixed'),\n",
    "            pl.col('impression_time_fixed'),\n",
    "            pl.col('category'),\n",
    "            pl.col('NumArticlesHistory').first(),\n",
    "            pl.col('read_time_fixed').median().alias('MedianReadTime'),\n",
    "            pl.col('read_time_fixed').max().alias('MaxReadTime'),\n",
    "            pl.col('read_time_fixed').sum().alias('TotalReadTime'),\n",
    "            pl.col('scroll_percentage_fixed').median().alias('MedianScrollPercentage'),\n",
    "            pl.col('scroll_percentage_fixed').max().alias('MaxScrollPercentage'),\n",
    "            (pl.col('is_neutral').sum() / pl.col('NumArticlesHistory').first()).alias('NeutralPct'),\n",
    "            (pl.col('is_positive').sum() / pl.col('NumArticlesHistory').first()).alias('PositivePct'),\n",
    "            (pl.col('is_negative').sum() / pl.col('NumArticlesHistory').first()).alias('NegativePct'),\n",
    "            (pl.col('strong_neutral').sum() / pl.col('NumArticlesHistory').first()).alias('PctStrongNeutral'),\n",
    "            (pl.col('strong_positive').sum() / pl.col('NumArticlesHistory').first()).alias('PctStrongPositive'),\n",
    "            (pl.col('strong_negative').sum() / pl.col('NumArticlesHistory').first()).alias('PctStrongNegative'),\n",
    "            (1 - (pl.col('is_article_default').sum() / pl.col('NumArticlesHistory').first())).alias('PctNotDefaultArticles'),\n",
    "            pl.col('category').mode().alias('MostFrequentCategory'),\n",
    "            pl.col('weekday').mode().alias('MostFrequentWeekday'),\n",
    "            pl.col('hour').mode().alias('MostFrequentHour'),\n",
    "            pl.col('entity_groups').flatten(),\n",
    "            pl.col('topics').flatten().alias('topics_flatten')\n",
    "        ).pipe(add_topics_tf_idf_columns, topics_col='topics_flatten', vectorizer=vectorizer) \\\n",
    "        .drop('topics_flatten').with_columns(\n",
    "            pl.col('MostFrequentCategory').list.first(),\n",
    "            pl.col('MostFrequentWeekday').list.first(),\n",
    "            pl.col('MostFrequentHour').list.first(),\n",
    "        ).with_columns(\n",
    "            (pl.col('entity_groups').list.count_matches(entity) / pl.col('NumArticlesHistory')).alias(f'{entity}Pct')\n",
    "            for entity in unique_entities\n",
    "        ).drop('entity_groups')\n",
    "    for rows in tqdm.tqdm(history_val.iter_slices(1000), total=history_val.shape[0] // 1000)\n",
    ")\n",
    "\n",
    "gc.collect()\n",
    "PrintColor(f\"\\n\" + GetMemUsage(), color = Fore.RED)\n",
    "history_val = reduce_polars_df_memory_size(history_val)\n",
    "history_val.head(2)"
   ]
  },
  {
   "cell_type": "code",
   "execution_count": 48,
   "id": "7de81dd7",
   "metadata": {
    "execution": {
     "iopub.execute_input": "2024-04-08T13:05:05.777647Z",
     "iopub.status.busy": "2024-04-08T13:05:05.776961Z",
     "iopub.status.idle": "2024-04-08T13:05:07.115655Z",
     "shell.execute_reply": "2024-04-08T13:05:07.114581Z"
    },
    "papermill": {
     "duration": 1.398923,
     "end_time": "2024-04-08T13:05:07.118695",
     "exception": false,
     "start_time": "2024-04-08T13:05:05.719772",
     "status": "completed"
    },
    "tags": []
   },
   "outputs": [],
   "source": [
    "last_history_df = history_val.with_columns(\n",
    "    pl.col('impression_time_fixed').list.max().alias('last_history_impression_time'),\n",
    "    pl.col('article_id_fixed').list.tail(1).alias('last_history_article'),\n",
    ").select(['user_id', 'last_history_impression_time', 'last_history_article'])\n",
    "\n",
    "last_session_time_df = behaviors_val.select(['session_id', 'user_id', 'impression_time', 'article_ids_inview', 'article_ids_clicked']) \\\n",
    "    .group_by('session_id').agg(\n",
    "        pl.col('user_id').first(), \n",
    "        pl.col('impression_time').max().alias('session_time'), \n",
    "        pl.col('article_ids_inview').flatten().alias('all_seen_articles'),\n",
    "        (pl.col('impression_time').max() - pl.col('impression_time').min()).dt.total_minutes().alias('session_duration'),\n",
    "    ).with_columns(\n",
    "        pl.col(['session_time', 'session_duration']).shift(1).over('user_id').name.prefix('last_'),\n",
    "        pl.col('all_seen_articles').list.unique().shift(1).over('user_id'),\n",
    "        pl.col('session_duration').rolling_mean(100, min_periods=1).over('user_id').alias('mean_prev_sessions_duration'),\n",
    "    ).with_columns(pl.col(['last_session_duration']).fill_null(0)) \\\n",
    "    .join(last_history_df, on='user_id', how='left') \\\n",
    "    .with_columns(\n",
    "        pl.col('last_session_time').fill_null(pl.col('last_history_impression_time')),\n",
    "        pl.col('all_seen_articles').fill_null(pl.col('last_history_article')),\n",
    "    ).select(['session_id', 'last_session_time', 'last_session_duration',\n",
    "              'all_seen_articles', 'mean_prev_sessions_duration'])"
   ]
  },
  {
   "cell_type": "code",
   "execution_count": 49,
   "id": "58a2540e",
   "metadata": {
    "execution": {
     "iopub.execute_input": "2024-04-08T13:05:07.235664Z",
     "iopub.status.busy": "2024-04-08T13:05:07.234817Z",
     "iopub.status.idle": "2024-04-08T13:08:14.797243Z",
     "shell.execute_reply": "2024-04-08T13:08:14.795748Z"
    },
    "papermill": {
     "duration": 187.624001,
     "end_time": "2024-04-08T13:08:14.800041",
     "exception": false,
     "start_time": "2024-04-08T13:05:07.176040",
     "status": "completed"
    },
    "tags": []
   },
   "outputs": [
    {
     "name": "stdout",
     "output_type": "stream",
     "text": [
      "\u001b[1m\u001b[31m\n",
      "RAM memory GB usage = 5.807\u001b[0m\n",
      "Memory usage of dataframe is 519.55 MB\n",
      "Memory usage after optimization is: 354.74 MB\n",
      "Decreased by 31.7%\n",
      "\u001b[1m\u001b[31m\n",
      "RAM memory GB usage = 5.647\u001b[0m\n",
      "CPU times: user 10min 17s, sys: 27.6 s, total: 10min 44s\n",
      "Wall time: 3min 7s\n"
     ]
    },
    {
     "data": {
      "text/html": [
       "<div><style>\n",
       ".dataframe > thead > tr,\n",
       ".dataframe > tbody > tr {\n",
       "  text-align: right;\n",
       "  white-space: pre-wrap;\n",
       "}\n",
       "</style>\n",
       "<small>shape: (5, 48)</small><table border=\"1\" class=\"dataframe\"><thead><tr><th>impression_id</th><th>article</th><th>user_id</th><th>target</th><th>device_type</th><th>read_time</th><th>scroll_percentage</th><th>is_sso_user</th><th>gender</th><th>age</th><th>is_subscriber</th><th>mean_topics_mean_delay_days</th><th>mean_topics_mean_delay_hours</th><th>user_mean_delay_days</th><th>user_mean_delay_hours</th><th>trendiness_score</th><th>mean_user_trendiness_score</th><th>mean_topics_trendiness_score</th><th>weekday</th><th>hour</th><th>premium</th><th>category</th><th>sentiment_score</th><th>sentiment_label</th><th>num_images</th><th>title_len</th><th>subtitle_len</th><th>body_len</th><th>article_delay_days</th><th>article_delay_hours</th><th>Entity_MISC_Present</th><th>Entity_PER_Present</th><th>Entity_PROD_Present</th><th>Entity_ORG_Present</th><th>Entity_LOC_Present</th><th>Entity_EVENT_Present</th><th>last_session_duration</th><th>mean_prev_sessions_duration</th><th>last_session_time_hour_diff</th><th>is_new_article</th><th>is_already_seen_article</th><th>yesterday_category_daily_pct</th><th>total_ner_svd_scores</th><th>mean_ner_svd_scores</th><th>max_ner_svd_scores</th><th>total_ner_item_knn_scores</th><th>mean_ner_item_knn_scores</th><th>max_ner_item_knn_scores</th></tr><tr><td>u32</td><td>i32</td><td>u32</td><td>i8</td><td>i8</td><td>f32</td><td>f32</td><td>bool</td><td>i8</td><td>i8</td><td>bool</td><td>f32</td><td>f32</td><td>f32</td><td>f32</td><td>f32</td><td>f32</td><td>f32</td><td>i8</td><td>i8</td><td>bool</td><td>i16</td><td>f32</td><td>str</td><td>u32</td><td>u8</td><td>u8</td><td>u16</td><td>i16</td><td>i32</td><td>bool</td><td>bool</td><td>bool</td><td>bool</td><td>bool</td><td>bool</td><td>i8</td><td>f32</td><td>i16</td><td>bool</td><td>bool</td><td>f32</td><td>f32</td><td>f32</td><td>f32</td><td>f32</td><td>f32</td><td>f32</td></tr></thead><tbody><tr><td>96798</td><td>9783405</td><td>22548</td><td>0</td><td>2</td><td>46.0</td><td>null</td><td>false</td><td>2</td><td>null</td><td>false</td><td>37.723949</td><td>908.877014</td><td>0.023077</td><td>2.846154</td><td>2.807692</td><td>2.880177</td><td>3.094004</td><td>7</td><td>4</td><td>true</td><td>565</td><td>0.8513</td><td>&quot;Neutral&quot;</td><td>1</td><td>6</td><td>35</td><td>310</td><td>0</td><td>8</td><td>false</td><td>true</td><td>true</td><td>false</td><td>false</td><td>false</td><td>0</td><td>1.0</td><td>71</td><td>false</td><td>false</td><td>0.008929</td><td>-0.000008</td><td>-0.000025</td><td>0.0</td><td>0.0</td><td>0.0</td><td>0.0</td></tr><tr><td>96798</td><td>9784281</td><td>22548</td><td>1</td><td>2</td><td>46.0</td><td>null</td><td>false</td><td>2</td><td>null</td><td>false</td><td>3.135231</td><td>77.49556</td><td>0.023077</td><td>2.846154</td><td>3.346154</td><td>2.880177</td><td>4.52551</td><td>7</td><td>4</td><td>false</td><td>142</td><td>0.691</td><td>&quot;Negative&quot;</td><td>1</td><td>9</td><td>16</td><td>253</td><td>0</td><td>12</td><td>false</td><td>true</td><td>false</td><td>true</td><td>true</td><td>true</td><td>0</td><td>1.0</td><td>71</td><td>false</td><td>false</td><td>0.357143</td><td>0.060842</td><td>0.036302</td><td>0.034558</td><td>0.031828</td><td>0.019381</td><td>0.024104</td></tr><tr><td>96810</td><td>9781520</td><td>22548</td><td>0</td><td>2</td><td>23.0</td><td>null</td><td>false</td><td>2</td><td>null</td><td>false</td><td>6.825478</td><td>166.301331</td><td>0.023077</td><td>2.846154</td><td>3.653846</td><td>2.880177</td><td>3.996886</td><td>7</td><td>4</td><td>false</td><td>142</td><td>0.8366</td><td>&quot;Positive&quot;</td><td>1</td><td>8</td><td>16</td><td>171</td><td>2</td><td>59</td><td>false</td><td>true</td><td>false</td><td>true</td><td>true</td><td>true</td><td>4</td><td>5.181818</td><td>-49</td><td>true</td><td>false</td><td>0.357143</td><td>0.190762</td><td>0.137622</td><td>0.216227</td><td>0.211055</td><td>0.153443</td><td>0.21896</td></tr><tr><td>96821</td><td>9782726</td><td>22548</td><td>0</td><td>2</td><td>43.0</td><td>null</td><td>false</td><td>2</td><td>null</td><td>false</td><td>4.731196</td><td>116.100166</td><td>0.023077</td><td>2.846154</td><td>3.410256</td><td>2.880177</td><td>2.87409</td><td>7</td><td>4</td><td>false</td><td>118</td><td>0.6307</td><td>&quot;Negative&quot;</td><td>1</td><td>3</td><td>1</td><td>379</td><td>0</td><td>0</td><td>false</td><td>true</td><td>true</td><td>true</td><td>true</td><td>false</td><td>0</td><td>1.0</td><td>71</td><td>false</td><td>false</td><td>0.276786</td><td>0.152027</td><td>0.093766</td><td>0.083864</td><td>0.155818</td><td>0.096853</td><td>0.072114</td></tr><tr><td>97415</td><td>9783852</td><td>25554</td><td>0</td><td>2</td><td>5.0</td><td>null</td><td>false</td><td>2</td><td>null</td><td>false</td><td>8.040072</td><td>195.707062</td><td>0.017058</td><td>2.484009</td><td>3.948718</td><td>2.796266</td><td>3.920264</td><td>7</td><td>4</td><td>false</td><td>498</td><td>0.9921</td><td>&quot;Negative&quot;</td><td>1</td><td>5</td><td>18</td><td>210</td><td>0</td><td>11</td><td>false</td><td>true</td><td>true</td><td>false</td><td>false</td><td>false</td><td>0</td><td>1.5</td><td>35</td><td>false</td><td>false</td><td>0.0625</td><td>-0.000107</td><td>-0.000148</td><td>0.0</td><td>0.000048</td><td>0.000068</td><td>0.000086</td></tr></tbody></table></div>"
      ],
      "text/plain": [
       "shape: (5, 48)\n",
       "┌─────────────┬─────────┬─────────┬────────┬───┬────────────┬────────────┬────────────┬────────────┐\n",
       "│ impression_ ┆ article ┆ user_id ┆ target ┆ … ┆ max_ner_sv ┆ total_ner_ ┆ mean_ner_i ┆ max_ner_it │\n",
       "│ id          ┆ ---     ┆ ---     ┆ ---    ┆   ┆ d_scores   ┆ item_knn_s ┆ tem_knn_sc ┆ em_knn_sco │\n",
       "│ ---         ┆ i32     ┆ u32     ┆ i8     ┆   ┆ ---        ┆ cores      ┆ ores       ┆ res        │\n",
       "│ u32         ┆         ┆         ┆        ┆   ┆ f32        ┆ ---        ┆ ---        ┆ ---        │\n",
       "│             ┆         ┆         ┆        ┆   ┆            ┆ f32        ┆ f32        ┆ f32        │\n",
       "╞═════════════╪═════════╪═════════╪════════╪═══╪════════════╪════════════╪════════════╪════════════╡\n",
       "│ 96798       ┆ 9783405 ┆ 22548   ┆ 0      ┆ … ┆ 0.0        ┆ 0.0        ┆ 0.0        ┆ 0.0        │\n",
       "│ 96798       ┆ 9784281 ┆ 22548   ┆ 1      ┆ … ┆ 0.034558   ┆ 0.031828   ┆ 0.019381   ┆ 0.024104   │\n",
       "│ 96810       ┆ 9781520 ┆ 22548   ┆ 0      ┆ … ┆ 0.216227   ┆ 0.211055   ┆ 0.153443   ┆ 0.21896    │\n",
       "│ 96821       ┆ 9782726 ┆ 22548   ┆ 0      ┆ … ┆ 0.083864   ┆ 0.155818   ┆ 0.096853   ┆ 0.072114   │\n",
       "│ 97415       ┆ 9783852 ┆ 25554   ┆ 0      ┆ … ┆ 0.0        ┆ 0.000048   ┆ 0.000068   ┆ 0.000086   │\n",
       "└─────────────┴─────────┴─────────┴────────┴───┴────────────┴────────────┴────────────┴────────────┘"
      ]
     },
     "execution_count": 49,
     "metadata": {},
     "output_type": "execute_result"
    }
   ],
   "source": [
    "%%time\n",
    "\n",
    "NPRATIO = 2\n",
    "\n",
    "# dropping duplicates that can occur because of sampling strategy\n",
    "val_ds = behaviors_val.pipe(create_binary_labels_column, shuffle=True, seed=123) \\\n",
    "    .with_columns(pl.col('gender').fill_null(2)) \\\n",
    "    .select(['impression_id', 'article_ids_inview', 'impression_time', 'labels', \n",
    "             'device_type', 'read_time', 'scroll_percentage', 'user_id', 'is_sso_user', 'gender',\n",
    "             'age', 'is_subscriber', 'session_id']) \\\n",
    "    .explode(['article_ids_inview', 'labels']) \\\n",
    "    .rename({'article_ids_inview': 'article', 'labels': 'target'}) \\\n",
    "    .with_columns(pl.col('article').cast(pl.Int32)) \\\n",
    "    .pipe(add_mean_delays_features, articles=articles, history=history_val) \\\n",
    "    .pipe(add_trendiness_feature, articles=articles, period='3d') \\\n",
    "    .pipe(add_history_trendiness_scores_feature, history=history_val, articles=articles) \\\n",
    "    .unique(['impression_id', 'article']) \\\n",
    "    .with_columns(\n",
    "        pl.col('impression_time').dt.weekday().alias('weekday'),\n",
    "        pl.col('impression_time').dt.hour().alias('hour'),\n",
    "        pl.col('article').cast(pl.Int32),\n",
    "    ).join(articles.select(['article_id', 'premium', 'published_time', 'category',\n",
    "                            'sentiment_score', 'sentiment_label', 'entity_groups',\n",
    "                            'num_images', 'title_len', 'subtitle_len', 'body_len']),\n",
    "           left_on='article', right_on='article_id', how='left') \\\n",
    "    .with_columns(\n",
    "        (pl.col('impression_time') - pl.col('published_time')).dt.total_days().alias('article_delay_days'),\n",
    "        (pl.col('impression_time') - pl.col('published_time')).dt.total_hours().alias('article_delay_hours')\n",
    "    ).with_columns(\n",
    "        pl.col('entity_groups').list.contains(entity).alias(f'Entity_{entity}_Present')\n",
    "        for entity in unique_entities\n",
    "    ).drop('entity_groups') \\\n",
    "    .join(last_session_time_df, on='session_id', how='left').with_columns(\n",
    "        (pl.col('impression_time') - pl.col('last_session_time')).dt.total_hours().alias('last_session_time_hour_diff'),\n",
    "        ((pl.col('last_session_time') - pl.col('published_time')).dt.total_hours() > 0).alias('is_new_article'),\n",
    "        pl.col('all_seen_articles').list.contains(pl.col('article')).alias('is_already_seen_article'),\n",
    "    ).drop(['published_time', 'session_id', 'all_seen_articles', 'last_session_time']) \\\n",
    "    .join(published_category_popularity, how='left', right_on=['published_date', 'category'],\n",
    "                         left_on=[pl.col('impression_time').dt.date() - pl.duration(days=1), 'category']) \\\n",
    "    .rename({'category_daily_pct': 'yesterday_category_daily_pct'}).drop(['impression_time']) \\\n",
    "    .with_columns(pl.col('yesterday_category_daily_pct').fill_null(0)) \\\n",
    "    .join(behaviors_ner_scores, on=['impression_id', 'article'], how='left')\n",
    "\n",
    "gc.collect()\n",
    "PrintColor(f\"\\n\" + GetMemUsage(), color = Fore.RED)\n",
    "\n",
    "val_ds = reduce_polars_df_memory_size(val_ds)\n",
    "PrintColor(f\"\\n\" + GetMemUsage(), color = Fore.RED)\n",
    "val_ds.head()"
   ]
  },
  {
   "cell_type": "code",
   "execution_count": 50,
   "id": "af5047df",
   "metadata": {
    "execution": {
     "iopub.execute_input": "2024-04-08T13:08:14.915946Z",
     "iopub.status.busy": "2024-04-08T13:08:14.914480Z",
     "iopub.status.idle": "2024-04-08T13:08:14.924088Z",
     "shell.execute_reply": "2024-04-08T13:08:14.922504Z"
    },
    "papermill": {
     "duration": 0.069899,
     "end_time": "2024-04-08T13:08:14.926830",
     "exception": false,
     "start_time": "2024-04-08T13:08:14.856931",
     "status": "completed"
    },
    "tags": []
   },
   "outputs": [
    {
     "data": {
      "text/plain": [
       "(2928942, 48)"
      ]
     },
     "execution_count": 50,
     "metadata": {},
     "output_type": "execute_result"
    }
   ],
   "source": [
    "val_ds.shape"
   ]
  },
  {
   "cell_type": "code",
   "execution_count": 51,
   "id": "b4efd595",
   "metadata": {
    "execution": {
     "iopub.execute_input": "2024-04-08T13:08:15.042228Z",
     "iopub.status.busy": "2024-04-08T13:08:15.040820Z",
     "iopub.status.idle": "2024-04-08T13:48:24.814676Z",
     "shell.execute_reply": "2024-04-08T13:48:24.813080Z"
    },
    "papermill": {
     "duration": 2409.835613,
     "end_time": "2024-04-08T13:48:24.817633",
     "exception": false,
     "start_time": "2024-04-08T13:08:14.982020",
     "status": "completed"
    },
    "tags": []
   },
   "outputs": [
    {
     "name": "stderr",
     "output_type": "stream",
     "text": [
      "293it [40:08,  8.22s/it]\n"
     ]
    },
    {
     "name": "stdout",
     "output_type": "stream",
     "text": [
      "Memory usage of dataframe is 785.60 MB\n",
      "Memory usage after optimization is: 710.19 MB\n",
      "Decreased by 9.6%\n",
      "\u001b[1m\u001b[31m\n",
      "RAM memory GB usage = 5.978\u001b[0m\n"
     ]
    },
    {
     "data": {
      "text/html": [
       "<div><style>\n",
       ".dataframe > thead > tr,\n",
       ".dataframe > tbody > tr {\n",
       "  text-align: right;\n",
       "  white-space: pre-wrap;\n",
       "}\n",
       "</style>\n",
       "<small>shape: (5, 84)</small><table border=\"1\" class=\"dataframe\"><thead><tr><th>impression_id</th><th>article</th><th>user_id</th><th>target</th><th>device_type</th><th>read_time</th><th>scroll_percentage</th><th>is_sso_user</th><th>gender</th><th>age</th><th>is_subscriber</th><th>mean_topics_mean_delay_days</th><th>mean_topics_mean_delay_hours</th><th>user_mean_delay_days</th><th>user_mean_delay_hours</th><th>trendiness_score</th><th>mean_user_trendiness_score</th><th>mean_topics_trendiness_score</th><th>weekday</th><th>hour</th><th>premium</th><th>category</th><th>sentiment_score</th><th>sentiment_label</th><th>num_images</th><th>title_len</th><th>subtitle_len</th><th>body_len</th><th>article_delay_days</th><th>article_delay_hours</th><th>Entity_MISC_Present</th><th>Entity_PER_Present</th><th>Entity_PROD_Present</th><th>Entity_ORG_Present</th><th>Entity_LOC_Present</th><th>Entity_EVENT_Present</th><th>total_ner_svd_scores</th><th>&hellip;</th><th>yesterday_category_daily_pct</th><th>MeanCommonEntities</th><th>MaxCommonEntities</th><th>mean_JS</th><th>min_JS</th><th>max_JS</th><th>std_JS</th><th>mean_topic_model_cosine</th><th>min_topic_model_cosine</th><th>max_topic_model_cosine</th><th>std_topic_model_cosine</th><th>NumArticlesHistory</th><th>MedianReadTime</th><th>MaxReadTime</th><th>TotalReadTime</th><th>MedianScrollPercentage</th><th>MaxScrollPercentage</th><th>NeutralPct</th><th>PositivePct</th><th>NegativePct</th><th>PctStrongNeutral</th><th>PctStrongPositive</th><th>PctStrongNegative</th><th>PctNotDefaultArticles</th><th>MostFrequentCategory</th><th>MostFrequentWeekday</th><th>MostFrequentHour</th><th>MISCPct</th><th>PERPct</th><th>PRODPct</th><th>ORGPct</th><th>LOCPct</th><th>EVENTPct</th><th>topics_cosine</th><th>IsFavouriteCategory</th><th>NumberDifferentCategories</th><th>PctCategoryMatches</th></tr><tr><td>u32</td><td>i32</td><td>u32</td><td>i8</td><td>i8</td><td>f32</td><td>f32</td><td>bool</td><td>i8</td><td>i8</td><td>bool</td><td>f32</td><td>f32</td><td>f32</td><td>f32</td><td>f32</td><td>f32</td><td>f32</td><td>i8</td><td>i8</td><td>bool</td><td>i16</td><td>f32</td><td>str</td><td>u32</td><td>u8</td><td>u8</td><td>u16</td><td>i16</td><td>i32</td><td>bool</td><td>bool</td><td>bool</td><td>bool</td><td>bool</td><td>bool</td><td>f32</td><td>&hellip;</td><td>f32</td><td>f32</td><td>u32</td><td>f32</td><td>f32</td><td>f32</td><td>f32</td><td>f32</td><td>f32</td><td>f32</td><td>f32</td><td>u16</td><td>f32</td><td>f32</td><td>f32</td><td>f32</td><td>f32</td><td>f32</td><td>f32</td><td>f32</td><td>f32</td><td>f32</td><td>f32</td><td>f32</td><td>i16</td><td>i8</td><td>i8</td><td>f32</td><td>f32</td><td>f32</td><td>f32</td><td>f32</td><td>f32</td><td>f32</td><td>bool</td><td>u8</td><td>f32</td></tr></thead><tbody><tr><td>96798</td><td>9783405</td><td>22548</td><td>0</td><td>2</td><td>46.0</td><td>null</td><td>false</td><td>2</td><td>null</td><td>false</td><td>37.723949</td><td>908.877014</td><td>0.023077</td><td>2.846154</td><td>2.807692</td><td>2.880177</td><td>3.094004</td><td>7</td><td>4</td><td>true</td><td>565</td><td>0.8513</td><td>&quot;Neutral&quot;</td><td>1</td><td>6</td><td>35</td><td>310</td><td>0</td><td>8</td><td>false</td><td>true</td><td>true</td><td>false</td><td>false</td><td>false</td><td>-0.000008</td><td>&hellip;</td><td>0.008929</td><td>1.138462</td><td>2</td><td>0.095768</td><td>0.0</td><td>0.833333</td><td>0.158607</td><td>0.756158</td><td>0.439375</td><td>0.987566</td><td>0.134965</td><td>130</td><td>16.0</td><td>650.0</td><td>4581.0</td><td>37.0</td><td>100.0</td><td>0.253846</td><td>0.153846</td><td>0.592308</td><td>0.115385</td><td>0.092308</td><td>0.507692</td><td>0.046154</td><td>118</td><td>1</td><td>9</td><td>0.184615</td><td>0.838462</td><td>0.3</td><td>0.930769</td><td>0.738462</td><td>0.238462</td><td>0.294572</td><td>false</td><td>7</td><td>0.946154</td></tr><tr><td>97415</td><td>9783852</td><td>25554</td><td>0</td><td>2</td><td>5.0</td><td>null</td><td>false</td><td>2</td><td>null</td><td>false</td><td>8.040072</td><td>195.707062</td><td>0.017058</td><td>2.484009</td><td>3.948718</td><td>2.796266</td><td>3.920264</td><td>7</td><td>4</td><td>false</td><td>498</td><td>0.9921</td><td>&quot;Negative&quot;</td><td>1</td><td>5</td><td>18</td><td>210</td><td>0</td><td>11</td><td>false</td><td>true</td><td>true</td><td>false</td><td>false</td><td>false</td><td>-0.000107</td><td>&hellip;</td><td>0.0625</td><td>1.072495</td><td>2</td><td>0.085936</td><td>0.0</td><td>0.833333</td><td>0.141294</td><td>0.772975</td><td>0.481482</td><td>0.99596</td><td>0.127245</td><td>469</td><td>17.0</td><td>1577.0</td><td>18811.0</td><td>74.0</td><td>100.0</td><td>0.223881</td><td>0.138593</td><td>0.637527</td><td>0.093817</td><td>0.08742</td><td>0.530917</td><td>0.044776</td><td>118</td><td>1</td><td>4</td><td>0.251599</td><td>0.869936</td><td>0.202559</td><td>0.910448</td><td>0.799574</td><td>0.232409</td><td>0.25588</td><td>false</td><td>8</td><td>0.985075</td></tr><tr><td>142156</td><td>9788188</td><td>67926</td><td>0</td><td>1</td><td>27.0</td><td>null</td><td>false</td><td>2</td><td>null</td><td>false</td><td>4.070534</td><td>100.482658</td><td>11.16129</td><td>270.2742</td><td>0.794872</td><td>3.326509</td><td>2.576923</td><td>2</td><td>14</td><td>false</td><td>457</td><td>0.9293</td><td>&quot;Negative&quot;</td><td>1</td><td>6</td><td>16</td><td>210</td><td>0</td><td>0</td><td>true</td><td>false</td><td>true</td><td>true</td><td>false</td><td>false</td><td>-0.000246</td><td>&hellip;</td><td>0.027778</td><td>1.330645</td><td>3</td><td>0.033273</td><td>0.0</td><td>0.333333</td><td>0.079728</td><td>0.648405</td><td>0.407428</td><td>0.999859</td><td>0.170148</td><td>124</td><td>48.5</td><td>1587.0</td><td>18735.0</td><td>100.0</td><td>100.0</td><td>0.225806</td><td>0.177419</td><td>0.596774</td><td>0.104839</td><td>0.137097</td><td>0.5</td><td>0.048387</td><td>118</td><td>7</td><td>9</td><td>0.354839</td><td>0.895161</td><td>0.112903</td><td>0.862903</td><td>0.83871</td><td>0.282258</td><td>0.065172</td><td>false</td><td>7</td><td>0.951613</td></tr><tr><td>143782</td><td>9777339</td><td>73502</td><td>0</td><td>2</td><td>27.0</td><td>null</td><td>false</td><td>2</td><td>null</td><td>false</td><td>6.051172</td><td>147.681808</td><td>4.186094</td><td>103.159508</td><td>0.769231</td><td>2.432673</td><td>2.669018</td><td>2</td><td>14</td><td>false</td><td>529</td><td>0.9046</td><td>&quot;Neutral&quot;</td><td>1</td><td>6</td><td>40</td><td>520</td><td>1</td><td>31</td><td>true</td><td>true</td><td>false</td><td>true</td><td>true</td><td>false</td><td>0.012857</td><td>&hellip;</td><td>0.009259</td><td>2.797546</td><td>4</td><td>0.049564</td><td>0.0</td><td>0.75</td><td>0.122376</td><td>0.653173</td><td>0.373355</td><td>0.999852</td><td>0.174684</td><td>489</td><td>41.0</td><td>1719.0</td><td>47590.0</td><td>100.0</td><td>100.0</td><td>0.239264</td><td>0.092025</td><td>0.668712</td><td>0.134969</td><td>0.04499</td><td>0.582822</td><td>0.038855</td><td>118</td><td>4</td><td>10</td><td>0.200409</td><td>0.879346</td><td>0.329243</td><td>0.928425</td><td>0.789366</td><td>0.149284</td><td>0.236533</td><td>false</td><td>12</td><td>0.97546</td></tr><tr><td>143783</td><td>9788462</td><td>73502</td><td>0</td><td>2</td><td>83.0</td><td>100.0</td><td>false</td><td>2</td><td>null</td><td>false</td><td>11.128522</td><td>269.848785</td><td>4.186094</td><td>103.159508</td><td>5.538462</td><td>2.432673</td><td>4.036664</td><td>2</td><td>14</td><td>false</td><td>512</td><td>0.8661</td><td>&quot;Positive&quot;</td><td>1</td><td>6</td><td>24</td><td>201</td><td>0</td><td>1</td><td>false</td><td>true</td><td>false</td><td>true</td><td>true</td><td>false</td><td>0.191167</td><td>&hellip;</td><td>0.009259</td><td>2.597137</td><td>3</td><td>0.094822</td><td>0.0</td><td>0.6</td><td>0.137588</td><td>0.71173</td><td>0.419074</td><td>0.998711</td><td>0.138527</td><td>489</td><td>41.0</td><td>1719.0</td><td>47590.0</td><td>100.0</td><td>100.0</td><td>0.239264</td><td>0.092025</td><td>0.668712</td><td>0.134969</td><td>0.04499</td><td>0.582822</td><td>0.038855</td><td>118</td><td>4</td><td>10</td><td>0.200409</td><td>0.879346</td><td>0.329243</td><td>0.928425</td><td>0.789366</td><td>0.149284</td><td>0.314442</td><td>false</td><td>12</td><td>0.977505</td></tr></tbody></table></div>"
      ],
      "text/plain": [
       "shape: (5, 84)\n",
       "┌─────────────┬─────────┬─────────┬────────┬───┬────────────┬────────────┬────────────┬────────────┐\n",
       "│ impression_ ┆ article ┆ user_id ┆ target ┆ … ┆ topics_cos ┆ IsFavourit ┆ NumberDiff ┆ PctCategor │\n",
       "│ id          ┆ ---     ┆ ---     ┆ ---    ┆   ┆ ine        ┆ eCategory  ┆ erentCateg ┆ yMatches   │\n",
       "│ ---         ┆ i32     ┆ u32     ┆ i8     ┆   ┆ ---        ┆ ---        ┆ ories      ┆ ---        │\n",
       "│ u32         ┆         ┆         ┆        ┆   ┆ f32        ┆ bool       ┆ ---        ┆ f32        │\n",
       "│             ┆         ┆         ┆        ┆   ┆            ┆            ┆ u8         ┆            │\n",
       "╞═════════════╪═════════╪═════════╪════════╪═══╪════════════╪════════════╪════════════╪════════════╡\n",
       "│ 96798       ┆ 9783405 ┆ 22548   ┆ 0      ┆ … ┆ 0.294572   ┆ false      ┆ 7          ┆ 0.946154   │\n",
       "│ 97415       ┆ 9783852 ┆ 25554   ┆ 0      ┆ … ┆ 0.25588    ┆ false      ┆ 8          ┆ 0.985075   │\n",
       "│ 142156      ┆ 9788188 ┆ 67926   ┆ 0      ┆ … ┆ 0.065172   ┆ false      ┆ 7          ┆ 0.951613   │\n",
       "│ 143782      ┆ 9777339 ┆ 73502   ┆ 0      ┆ … ┆ 0.236533   ┆ false      ┆ 12         ┆ 0.97546    │\n",
       "│ 143783      ┆ 9788462 ┆ 73502   ┆ 0      ┆ … ┆ 0.314442   ┆ false      ┆ 12         ┆ 0.977505   │\n",
       "└─────────────┴─────────┴─────────┴────────┴───┴────────────┴────────────┴────────────┴────────────┘"
      ]
     },
     "execution_count": 51,
     "metadata": {},
     "output_type": "execute_result"
    }
   ],
   "source": [
    "prev_columns = [c for c in val_ds.columns if c not in ['impression_id', 'article']]\n",
    "\n",
    "val_ds = pl.concat(\n",
    "    rows.join(history_val.select(['user_id', 'article_id_fixed']), on='user_id', how='left') \\\n",
    "        .join(articles.select(['article_id', 'topics', 'entity_groups', 'topics_idf'] + topic_model_columns), \n",
    "              left_on='article', right_on='article_id', how='left') \\\n",
    "        .explode(['article_id_fixed']) \\\n",
    "        .join(articles.select(['article_id', 'topics', 'entity_groups'] + topic_model_columns), \n",
    "              left_on='article_id_fixed', right_on='article_id', how='left') \\\n",
    "        .rename({'topics_right': 'topics_history', 'entity_groups_right': 'entity_groups_history'}) \\\n",
    "        .rename({f'topic_model_embedding_{i}_right': f'topic_model_embedding_{i}_history' for i in range(N_COMPONENTS)}) \\\n",
    "        .with_columns(\n",
    "            (pl.col(\"topics\").list.set_intersection(pl.col(\"topics_history\")).list.len().truediv(\n",
    "                pl.col(\"topics\").list.set_union(pl.col(\"topics_history\")).list.len()\n",
    "            )).alias(\"JS\"),\n",
    "            pl.col('entity_groups').list.set_intersection(pl.col('entity_groups_history')).list.len().alias('common_entities'),\n",
    "        ).drop(['entity_groups_history', 'entity_groups', 'topics', 'topics_history']) \\\n",
    "        .with_columns(\n",
    "            [pl.col(x).mul(pl.col(f'{x}_history')).alias(f'{x}_dot') for x in topic_model_columns] + \\\n",
    "            [pl.col(x).mul(pl.col(x)) for x in topic_model_columns] + \\\n",
    "            [pl.col(f'{x}_history').mul(pl.col(f'{x}_history')) for x in topic_model_columns]\n",
    "        ).with_columns(\n",
    "            pl.sum_horizontal(topic_model_columns).sqrt().alias('topic_model_norm'),\n",
    "            pl.sum_horizontal([f'{x}_history' for x in topic_model_columns]).sqrt().alias('topic_model_history_norm'),\n",
    "            pl.sum_horizontal([f'{x}_dot' for x in topic_model_columns]).alias('topic_model_dot'),\n",
    "        ).with_columns(\n",
    "            pl.col('topic_model_dot').truediv(pl.col('topic_model_norm').mul('topic_model_history_norm')).alias('topic_model_cosine')\n",
    "        ).group_by(['impression_id', 'article']).agg(\n",
    "            pl.col(prev_train_columns).first(),\n",
    "            pl.col('topics_idf').first(),\n",
    "            pl.col('common_entities').mean().alias('MeanCommonEntities'),\n",
    "            pl.col('common_entities').max().alias('MaxCommonEntities'),\n",
    "            pl.col(\"JS\").mean().alias(\"mean_JS\"),\n",
    "            pl.col(\"JS\").min().alias(\"min_JS\"),\n",
    "            pl.col(\"JS\").max().alias(\"max_JS\"),\n",
    "            pl.col(\"JS\").std().alias(\"std_JS\"),\n",
    "            pl.col(\"topic_model_cosine\").mean().alias(\"mean_topic_model_cosine\"),\n",
    "            pl.col(\"topic_model_cosine\").min().alias(\"min_topic_model_cosine\"),\n",
    "            pl.col(\"topic_model_cosine\").max().alias(\"max_topic_model_cosine\"),\n",
    "            pl.col(\"topic_model_cosine\").std().alias(\"std_topic_model_cosine\"),\n",
    "        ).join(history_val.drop(['article_id_fixed', 'impression_time_fixed']), on='user_id', how='left') \\\n",
    "        .with_columns(\n",
    "            pl.struct(['topics_idf', 'topics_flatten_tf_idf']).map_elements(\n",
    "                lambda x: cosine_similarity(x['topics_idf'], x['topics_flatten_tf_idf']), return_dtype=pl.Float64\n",
    "            ).cast(pl.Float32).alias('topics_cosine'),\n",
    "            (pl.col('category') == pl.col('MostFrequentCategory')).alias('IsFavouriteCategory'),\n",
    "            pl.col('category_right').list.n_unique().alias('NumberDifferentCategories'),\n",
    "            list_pct_matches_with_col('category_right', 'category').alias('PctCategoryMatches'),\n",
    "        ).drop(['topics_idf', 'topics_flatten', 'topics_flatten_tf_idf', 'category_right'])\n",
    "    for rows in tqdm.tqdm(val_ds.iter_slices(10000), total=val_ds.shape[0] // 10000)\n",
    ")\n",
    "\n",
    "val_ds = reduce_polars_df_memory_size(val_ds)\n",
    "PrintColor(f\"\\n\" + GetMemUsage(), color = Fore.RED)\n",
    "val_ds.head()"
   ]
  },
  {
   "cell_type": "code",
   "execution_count": 52,
   "id": "00b0ce15",
   "metadata": {
    "execution": {
     "iopub.execute_input": "2024-04-08T13:48:24.991413Z",
     "iopub.status.busy": "2024-04-08T13:48:24.990915Z",
     "iopub.status.idle": "2024-04-08T13:48:25.281071Z",
     "shell.execute_reply": "2024-04-08T13:48:25.279797Z"
    },
    "papermill": {
     "duration": 0.378998,
     "end_time": "2024-04-08T13:48:25.283309",
     "exception": false,
     "start_time": "2024-04-08T13:48:24.904311",
     "status": "completed"
    },
    "tags": []
   },
   "outputs": [
    {
     "data": {
      "text/plain": [
       "0"
      ]
     },
     "execution_count": 52,
     "metadata": {},
     "output_type": "execute_result"
    }
   ],
   "source": [
    "del history_val\n",
    "del articles\n",
    "del behaviors_val\n",
    "\n",
    "gc.collect()"
   ]
  },
  {
   "cell_type": "code",
   "execution_count": 53,
   "id": "f07ef4ac",
   "metadata": {
    "execution": {
     "iopub.execute_input": "2024-04-08T13:48:25.459295Z",
     "iopub.status.busy": "2024-04-08T13:48:25.458803Z",
     "iopub.status.idle": "2024-04-08T13:48:25.465759Z",
     "shell.execute_reply": "2024-04-08T13:48:25.464946Z"
    },
    "papermill": {
     "duration": 0.097893,
     "end_time": "2024-04-08T13:48:25.467932",
     "exception": false,
     "start_time": "2024-04-08T13:48:25.370039",
     "status": "completed"
    },
    "tags": []
   },
   "outputs": [
    {
     "data": {
      "text/plain": [
       "(2928942, 84)"
      ]
     },
     "execution_count": 53,
     "metadata": {},
     "output_type": "execute_result"
    }
   ],
   "source": [
    "val_ds.shape"
   ]
  },
  {
   "cell_type": "code",
   "execution_count": 54,
   "id": "a6a3a63c",
   "metadata": {
    "execution": {
     "iopub.execute_input": "2024-04-08T13:48:25.651695Z",
     "iopub.status.busy": "2024-04-08T13:48:25.651276Z",
     "iopub.status.idle": "2024-04-08T13:48:25.658803Z",
     "shell.execute_reply": "2024-04-08T13:48:25.657391Z"
    },
    "papermill": {
     "duration": 0.103704,
     "end_time": "2024-04-08T13:48:25.661927",
     "exception": false,
     "start_time": "2024-04-08T13:48:25.558223",
     "status": "completed"
    },
    "tags": []
   },
   "outputs": [
    {
     "data": {
      "text/plain": [
       "['device_type',\n",
       " 'is_sso_user',\n",
       " 'gender',\n",
       " 'is_subscriber',\n",
       " 'weekday',\n",
       " 'premium',\n",
       " 'category',\n",
       " 'sentiment_label',\n",
       " 'is_new_article',\n",
       " 'is_already_seen_article',\n",
       " 'MostFrequentCategory',\n",
       " 'MostFrequentWeekday',\n",
       " 'IsFavouriteCategory',\n",
       " 'Entity_MISC_Present',\n",
       " 'Entity_PER_Present',\n",
       " 'Entity_PROD_Present',\n",
       " 'Entity_ORG_Present',\n",
       " 'Entity_LOC_Present',\n",
       " 'Entity_EVENT_Present']"
      ]
     },
     "execution_count": 54,
     "metadata": {},
     "output_type": "execute_result"
    }
   ],
   "source": [
    "model.get_param('cat_features')"
   ]
  },
  {
   "cell_type": "code",
   "execution_count": 55,
   "id": "a5d6d993",
   "metadata": {
    "execution": {
     "iopub.execute_input": "2024-04-08T13:48:25.832775Z",
     "iopub.status.busy": "2024-04-08T13:48:25.831770Z",
     "iopub.status.idle": "2024-04-08T13:48:31.402121Z",
     "shell.execute_reply": "2024-04-08T13:48:31.400725Z"
    },
    "papermill": {
     "duration": 5.658293,
     "end_time": "2024-04-08T13:48:31.404721",
     "exception": false,
     "start_time": "2024-04-08T13:48:25.746428",
     "status": "completed"
    },
    "tags": []
   },
   "outputs": [
    {
     "data": {
      "text/html": [
       "<div><style>\n",
       ".dataframe > thead > tr,\n",
       ".dataframe > tbody > tr {\n",
       "  text-align: right;\n",
       "  white-space: pre-wrap;\n",
       "}\n",
       "</style>\n",
       "<small>shape: (2_928_942, 3)</small><table border=\"1\" class=\"dataframe\"><thead><tr><th>impression_id</th><th>target</th><th>prediction</th></tr><tr><td>u32</td><td>i8</td><td>f64</td></tr></thead><tbody><tr><td>96798</td><td>0</td><td>0.230912</td></tr><tr><td>97415</td><td>0</td><td>0.584382</td></tr><tr><td>142156</td><td>0</td><td>0.178721</td></tr><tr><td>143782</td><td>0</td><td>0.156862</td></tr><tr><td>143783</td><td>0</td><td>0.297566</td></tr><tr><td>&hellip;</td><td>&hellip;</td><td>&hellip;</td></tr><tr><td>579233820</td><td>0</td><td>0.046179</td></tr><tr><td>579233820</td><td>0</td><td>0.426684</td></tr><tr><td>579234881</td><td>0</td><td>0.201682</td></tr><tr><td>579238711</td><td>0</td><td>0.101076</td></tr><tr><td>579244582</td><td>1</td><td>0.472037</td></tr></tbody></table></div>"
      ],
      "text/plain": [
       "shape: (2_928_942, 3)\n",
       "┌───────────────┬────────┬────────────┐\n",
       "│ impression_id ┆ target ┆ prediction │\n",
       "│ ---           ┆ ---    ┆ ---        │\n",
       "│ u32           ┆ i8     ┆ f64        │\n",
       "╞═══════════════╪════════╪════════════╡\n",
       "│ 96798         ┆ 0      ┆ 0.230912   │\n",
       "│ 97415         ┆ 0      ┆ 0.584382   │\n",
       "│ 142156        ┆ 0      ┆ 0.178721   │\n",
       "│ 143782        ┆ 0      ┆ 0.156862   │\n",
       "│ 143783        ┆ 0      ┆ 0.297566   │\n",
       "│ …             ┆ …      ┆ …          │\n",
       "│ 579233820     ┆ 0      ┆ 0.046179   │\n",
       "│ 579233820     ┆ 0      ┆ 0.426684   │\n",
       "│ 579234881     ┆ 0      ┆ 0.201682   │\n",
       "│ 579238711     ┆ 0      ┆ 0.101076   │\n",
       "│ 579244582     ┆ 1      ┆ 0.472037   │\n",
       "└───────────────┴────────┴────────────┘"
      ]
     },
     "execution_count": 55,
     "metadata": {},
     "output_type": "execute_result"
    }
   ],
   "source": [
    "# impression_id will be later useful for evaluation\n",
    "val_ds_pandas = val_ds.drop(['impression_id', 'article', 'user_id']).to_pandas()\n",
    "\n",
    "val_ds_pandas[categorical_columns] = val_ds_pandas[categorical_columns].astype('category')\n",
    "\n",
    "X_val = val_ds_pandas.drop(columns=['target'])\n",
    "y_val = val_ds_pandas['target']\n",
    "\n",
    "# doing model.predict_proba(...)[:, 1] to take only the probability of class 1\n",
    "# while by doing [:, 0] we take the probability of class 0\n",
    "val_ds = val_ds.with_columns(pl.Series(model.predict_proba(X_val)[:, 1]).alias('prediction'))\n",
    "val_ds.select(['impression_id', 'target', 'prediction'])"
   ]
  },
  {
   "cell_type": "code",
   "execution_count": 56,
   "id": "84d33334",
   "metadata": {
    "execution": {
     "iopub.execute_input": "2024-04-08T13:48:31.583357Z",
     "iopub.status.busy": "2024-04-08T13:48:31.582551Z",
     "iopub.status.idle": "2024-04-08T13:48:31.894225Z",
     "shell.execute_reply": "2024-04-08T13:48:31.892888Z"
    },
    "papermill": {
     "duration": 0.404258,
     "end_time": "2024-04-08T13:48:31.896926",
     "exception": false,
     "start_time": "2024-04-08T13:48:31.492668",
     "status": "completed"
    },
    "tags": []
   },
   "outputs": [
    {
     "data": {
      "text/html": [
       "<div><style>\n",
       ".dataframe > thead > tr,\n",
       ".dataframe > tbody > tr {\n",
       "  text-align: right;\n",
       "  white-space: pre-wrap;\n",
       "}\n",
       "</style>\n",
       "<small>shape: (244_647, 3)</small><table border=\"1\" class=\"dataframe\"><thead><tr><th>impression_id</th><th>target</th><th>prediction</th></tr><tr><td>u32</td><td>list[i8]</td><td>list[f64]</td></tr></thead><tbody><tr><td>433313161</td><td>[0, 0, … 0]</td><td>[0.229459, 0.123447, … 0.197818]</td></tr><tr><td>574422565</td><td>[0, 0, … 0]</td><td>[0.15865, 0.275755, … 0.217095]</td></tr><tr><td>538194630</td><td>[0, 0, … 1]</td><td>[0.103063, 0.629496, … 0.545965]</td></tr><tr><td>8897731</td><td>[0, 0, … 0]</td><td>[0.032035, 0.095737, … 0.125616]</td></tr><tr><td>84070038</td><td>[0, 0, … 0]</td><td>[0.24704, 0.501296, … 0.720123]</td></tr><tr><td>&hellip;</td><td>&hellip;</td><td>&hellip;</td></tr><tr><td>205321940</td><td>[1, 0, … 0]</td><td>[0.641429, 0.143259, … 0.045833]</td></tr><tr><td>213250722</td><td>[1, 0, … 0]</td><td>[0.606133, 0.601632, … 0.13605]</td></tr><tr><td>242726454</td><td>[0, 0, … 0]</td><td>[0.498631, 0.015539, … 0.148878]</td></tr><tr><td>292973817</td><td>[0, 0, … 0]</td><td>[0.377274, 0.366717, … 0.552838]</td></tr><tr><td>503193587</td><td>[0, 0, … 0]</td><td>[0.088672, 0.015184, … 0.032506]</td></tr></tbody></table></div>"
      ],
      "text/plain": [
       "shape: (244_647, 3)\n",
       "┌───────────────┬─────────────┬──────────────────────────────────┐\n",
       "│ impression_id ┆ target      ┆ prediction                       │\n",
       "│ ---           ┆ ---         ┆ ---                              │\n",
       "│ u32           ┆ list[i8]    ┆ list[f64]                        │\n",
       "╞═══════════════╪═════════════╪══════════════════════════════════╡\n",
       "│ 433313161     ┆ [0, 0, … 0] ┆ [0.229459, 0.123447, … 0.197818] │\n",
       "│ 574422565     ┆ [0, 0, … 0] ┆ [0.15865, 0.275755, … 0.217095]  │\n",
       "│ 538194630     ┆ [0, 0, … 1] ┆ [0.103063, 0.629496, … 0.545965] │\n",
       "│ 8897731       ┆ [0, 0, … 0] ┆ [0.032035, 0.095737, … 0.125616] │\n",
       "│ 84070038      ┆ [0, 0, … 0] ┆ [0.24704, 0.501296, … 0.720123]  │\n",
       "│ …             ┆ …           ┆ …                                │\n",
       "│ 205321940     ┆ [1, 0, … 0] ┆ [0.641429, 0.143259, … 0.045833] │\n",
       "│ 213250722     ┆ [1, 0, … 0] ┆ [0.606133, 0.601632, … 0.13605]  │\n",
       "│ 242726454     ┆ [0, 0, … 0] ┆ [0.498631, 0.015539, … 0.148878] │\n",
       "│ 292973817     ┆ [0, 0, … 0] ┆ [0.377274, 0.366717, … 0.552838] │\n",
       "│ 503193587     ┆ [0, 0, … 0] ┆ [0.088672, 0.015184, … 0.032506] │\n",
       "└───────────────┴─────────────┴──────────────────────────────────┘"
      ]
     },
     "execution_count": 56,
     "metadata": {},
     "output_type": "execute_result"
    }
   ],
   "source": [
    "evaluation_ds = val_ds.group_by('impression_id').agg(pl.col('target'), pl.col('prediction'))\n",
    "evaluation_ds"
   ]
  },
  {
   "cell_type": "code",
   "execution_count": 57,
   "id": "a3a9e464",
   "metadata": {
    "execution": {
     "iopub.execute_input": "2024-04-08T13:48:32.078316Z",
     "iopub.status.busy": "2024-04-08T13:48:32.077508Z",
     "iopub.status.idle": "2024-04-08T13:54:56.976193Z",
     "shell.execute_reply": "2024-04-08T13:54:56.974492Z"
    },
    "papermill": {
     "duration": 385.083599,
     "end_time": "2024-04-08T13:54:57.068669",
     "exception": false,
     "start_time": "2024-04-08T13:48:31.985070",
     "status": "completed"
    },
    "tags": []
   },
   "outputs": [
    {
     "name": "stdout",
     "output_type": "stream",
     "text": [
      "CPU times: user 6min 23s, sys: 467 ms, total: 6min 24s\n",
      "Wall time: 6min 24s\n"
     ]
    },
    {
     "data": {
      "text/plain": [
       "<MetricEvaluator class>: \n",
       " {\n",
       "    \"auc\": 0.7171696576549811,\n",
       "    \"mrr\": 0.49100692730483675,\n",
       "    \"ndcg@5\": 0.5494541640341686,\n",
       "    \"ndcg@10\": 0.5943891016545249\n",
       "}"
      ]
     },
     "execution_count": 57,
     "metadata": {},
     "output_type": "execute_result"
    }
   ],
   "source": [
    "%%time\n",
    "\n",
    "met_eval = MetricEvaluator(\n",
    "    labels=evaluation_ds['target'].to_list(),\n",
    "    predictions=evaluation_ds['prediction'].to_list(),\n",
    "    metric_functions=[\n",
    "        AucScore(),\n",
    "        MrrScore(),\n",
    "        NdcgScore(k=5),\n",
    "        NdcgScore(k=10),\n",
    "    ],\n",
    ")\n",
    "met_eval.evaluate()"
   ]
  }
 ],
 "metadata": {
  "kaggle": {
   "accelerator": "none",
   "dataSources": [
    {
     "datasetId": 4622414,
     "sourceId": 7914006,
     "sourceType": "datasetVersion"
    }
   ],
   "dockerImageVersionId": 30673,
   "isGpuEnabled": false,
   "isInternetEnabled": true,
   "language": "python",
   "sourceType": "notebook"
  },
  "kernelspec": {
   "display_name": "Python 3",
   "language": "python",
   "name": "python3"
  },
  "language_info": {
   "codemirror_mode": {
    "name": "ipython",
    "version": 3
   },
   "file_extension": ".py",
   "mimetype": "text/x-python",
   "name": "python",
   "nbconvert_exporter": "python",
   "pygments_lexer": "ipython3",
   "version": "3.10.13"
  },
  "papermill": {
   "default_parameters": {},
   "duration": 5392.580895,
   "end_time": "2024-04-08T13:54:59.991715",
   "environment_variables": {},
   "exception": null,
   "input_path": "__notebook__.ipynb",
   "output_path": "__notebook__.ipynb",
   "parameters": {},
   "start_time": "2024-04-08T12:25:07.410820",
   "version": "2.5.0"
  },
  "widgets": {
   "application/vnd.jupyter.widget-state+json": {
    "state": {
     "46d8ab1d46cf4d14978f4d2b493c2a92": {
      "model_module": "@jupyter-widgets/output",
      "model_module_version": "1.0.0",
      "model_name": "OutputModel",
      "state": {
       "_dom_classes": [],
       "_model_module": "@jupyter-widgets/output",
       "_model_module_version": "1.0.0",
       "_model_name": "OutputModel",
       "_view_count": null,
       "_view_module": "@jupyter-widgets/output",
       "_view_module_version": "1.0.0",
       "_view_name": "OutputView",
       "layout": "IPY_MODEL_a84e66ae938f4771bae7e21f71ee9c55",
       "msg_id": "",
       "outputs": [
        {
         "data": {
          "text/html": "<pre style=\"white-space:pre;overflow-x:auto;line-height:normal;font-family:Menlo,'DejaVu Sans Mono',consolas,'Courier New',monospace\">Getting category               <span style=\"color: #729c1f; text-decoration-color: #729c1f\">━━━━━━━━━━━━━━━━━━━━━━━━━━━━━━━━━━━━━━━━</span> <span style=\"color: #800080; text-decoration-color: #800080\">100%</span> <span style=\"color: #008080; text-decoration-color: #008080\">0:00:00</span>\nGetting article_type           <span style=\"color: #729c1f; text-decoration-color: #729c1f\">━━━━━━━━━━━━━━━━━━━━━━━━━━━━━━━━━━━━━━━━</span> <span style=\"color: #800080; text-decoration-color: #800080\">100%</span> <span style=\"color: #008080; text-decoration-color: #008080\">0:00:00</span>\nGetting sentiment_label        <span style=\"color: #729c1f; text-decoration-color: #729c1f\">━━━━━━━━━━━━━━━━━━━━━━━━━━━━━━━━━━━━━━━━</span> <span style=\"color: #800080; text-decoration-color: #800080\">100%</span> <span style=\"color: #008080; text-decoration-color: #008080\">0:00:00</span>\nGetting sentiment_score        <span style=\"color: #729c1f; text-decoration-color: #729c1f\">━━━━━━━━━━━━━━━━━━━━━━━━━━━━━━━━━━━━━━━━</span> <span style=\"color: #800080; text-decoration-color: #800080\">100%</span> <span style=\"color: #008080; text-decoration-color: #008080\">0:00:00</span>\nGetting entity_groups          <span style=\"color: #729c1f; text-decoration-color: #729c1f\">━━━━━━━━━━━━━━━━━━━━━━━━━━━━━━━━━━━━━━━━</span> <span style=\"color: #800080; text-decoration-color: #800080\">100%</span> <span style=\"color: #008080; text-decoration-color: #008080\">0:00:00</span>\nGetting detailed entity_groups <span style=\"color: #729c1f; text-decoration-color: #729c1f\">━━━━━━━━━━━━━━━━━━━━━━━━━━━━━━━━━━━━━━━━</span> <span style=\"color: #800080; text-decoration-color: #800080\">100%</span> <span style=\"color: #008080; text-decoration-color: #008080\">0:00:00</span>\nGetting topics                 <span style=\"color: #729c1f; text-decoration-color: #729c1f\">━━━━━━━━━━━━━━━━━━━━━━━━━━━━━━━━━━━━━━━━</span> <span style=\"color: #800080; text-decoration-color: #800080\">100%</span> <span style=\"color: #008080; text-decoration-color: #008080\">0:00:00</span>\n</pre>\n",
          "text/plain": "Getting category               \u001b[38;2;114;156;31m━━━━━━━━━━━━━━━━━━━━━━━━━━━━━━━━━━━━━━━━\u001b[0m \u001b[35m100%\u001b[0m \u001b[36m0:00:00\u001b[0m\nGetting article_type           \u001b[38;2;114;156;31m━━━━━━━━━━━━━━━━━━━━━━━━━━━━━━━━━━━━━━━━\u001b[0m \u001b[35m100%\u001b[0m \u001b[36m0:00:00\u001b[0m\nGetting sentiment_label        \u001b[38;2;114;156;31m━━━━━━━━━━━━━━━━━━━━━━━━━━━━━━━━━━━━━━━━\u001b[0m \u001b[35m100%\u001b[0m \u001b[36m0:00:00\u001b[0m\nGetting sentiment_score        \u001b[38;2;114;156;31m━━━━━━━━━━━━━━━━━━━━━━━━━━━━━━━━━━━━━━━━\u001b[0m \u001b[35m100%\u001b[0m \u001b[36m0:00:00\u001b[0m\nGetting entity_groups          \u001b[38;2;114;156;31m━━━━━━━━━━━━━━━━━━━━━━━━━━━━━━━━━━━━━━━━\u001b[0m \u001b[35m100%\u001b[0m \u001b[36m0:00:00\u001b[0m\nGetting detailed entity_groups \u001b[38;2;114;156;31m━━━━━━━━━━━━━━━━━━━━━━━━━━━━━━━━━━━━━━━━\u001b[0m \u001b[35m100%\u001b[0m \u001b[36m0:00:00\u001b[0m\nGetting topics                 \u001b[38;2;114;156;31m━━━━━━━━━━━━━━━━━━━━━━━━━━━━━━━━━━━━━━━━\u001b[0m \u001b[35m100%\u001b[0m \u001b[36m0:00:00\u001b[0m\n"
         },
         "metadata": {},
         "output_type": "display_data"
        }
       ]
      }
     },
     "71bf4046e9af422296671aab9819dece": {
      "model_module": "@jupyter-widgets/base",
      "model_module_version": "1.2.0",
      "model_name": "LayoutModel",
      "state": {
       "_model_module": "@jupyter-widgets/base",
       "_model_module_version": "1.2.0",
       "_model_name": "LayoutModel",
       "_view_count": null,
       "_view_module": "@jupyter-widgets/base",
       "_view_module_version": "1.2.0",
       "_view_name": "LayoutView",
       "align_content": null,
       "align_items": null,
       "align_self": null,
       "border": null,
       "bottom": null,
       "display": null,
       "flex": null,
       "flex_flow": null,
       "grid_area": null,
       "grid_auto_columns": null,
       "grid_auto_flow": null,
       "grid_auto_rows": null,
       "grid_column": null,
       "grid_gap": null,
       "grid_row": null,
       "grid_template_areas": null,
       "grid_template_columns": null,
       "grid_template_rows": null,
       "height": null,
       "justify_content": null,
       "justify_items": null,
       "left": null,
       "margin": null,
       "max_height": null,
       "max_width": null,
       "min_height": null,
       "min_width": null,
       "object_fit": null,
       "object_position": null,
       "order": null,
       "overflow": null,
       "overflow_x": null,
       "overflow_y": null,
       "padding": null,
       "right": null,
       "top": null,
       "visibility": null,
       "width": null
      }
     },
     "a84e66ae938f4771bae7e21f71ee9c55": {
      "model_module": "@jupyter-widgets/base",
      "model_module_version": "1.2.0",
      "model_name": "LayoutModel",
      "state": {
       "_model_module": "@jupyter-widgets/base",
       "_model_module_version": "1.2.0",
       "_model_name": "LayoutModel",
       "_view_count": null,
       "_view_module": "@jupyter-widgets/base",
       "_view_module_version": "1.2.0",
       "_view_name": "LayoutView",
       "align_content": null,
       "align_items": null,
       "align_self": null,
       "border": null,
       "bottom": null,
       "display": null,
       "flex": null,
       "flex_flow": null,
       "grid_area": null,
       "grid_auto_columns": null,
       "grid_auto_flow": null,
       "grid_auto_rows": null,
       "grid_column": null,
       "grid_gap": null,
       "grid_row": null,
       "grid_template_areas": null,
       "grid_template_columns": null,
       "grid_template_rows": null,
       "height": null,
       "justify_content": null,
       "justify_items": null,
       "left": null,
       "margin": null,
       "max_height": null,
       "max_width": null,
       "min_height": null,
       "min_width": null,
       "object_fit": null,
       "object_position": null,
       "order": null,
       "overflow": null,
       "overflow_x": null,
       "overflow_y": null,
       "padding": null,
       "right": null,
       "top": null,
       "visibility": null,
       "width": null
      }
     },
     "c655e58a35e3490888f01103be14ab47": {
      "model_module": "@jupyter-widgets/output",
      "model_module_version": "1.0.0",
      "model_name": "OutputModel",
      "state": {
       "_dom_classes": [],
       "_model_module": "@jupyter-widgets/output",
       "_model_module_version": "1.0.0",
       "_model_name": "OutputModel",
       "_view_count": null,
       "_view_module": "@jupyter-widgets/output",
       "_view_module_version": "1.0.0",
       "_view_name": "OutputView",
       "layout": "IPY_MODEL_71bf4046e9af422296671aab9819dece",
       "msg_id": "",
       "outputs": [
        {
         "data": {
          "text/html": "<pre style=\"white-space:pre;overflow-x:auto;line-height:normal;font-family:Menlo,'DejaVu Sans Mono',consolas,'Courier New',monospace\">Getting category               <span style=\"color: #729c1f; text-decoration-color: #729c1f\">━━━━━━━━━━━━━━━━━━━━━━━━━━━━━━━━━━━━━━━━</span> <span style=\"color: #800080; text-decoration-color: #800080\">100%</span> <span style=\"color: #008080; text-decoration-color: #008080\">0:00:00</span>\nGetting article_type           <span style=\"color: #729c1f; text-decoration-color: #729c1f\">━━━━━━━━━━━━━━━━━━━━━━━━━━━━━━━━━━━━━━━━</span> <span style=\"color: #800080; text-decoration-color: #800080\">100%</span> <span style=\"color: #008080; text-decoration-color: #008080\">0:00:00</span>\nGetting sentiment_label        <span style=\"color: #729c1f; text-decoration-color: #729c1f\">━━━━━━━━━━━━━━━━━━━━━━━━━━━━━━━━━━━━━━━━</span> <span style=\"color: #800080; text-decoration-color: #800080\">100%</span> <span style=\"color: #008080; text-decoration-color: #008080\">0:00:00</span>\nGetting sentiment_score        <span style=\"color: #729c1f; text-decoration-color: #729c1f\">━━━━━━━━━━━━━━━━━━━━━━━━━━━━━━━━━━━━━━━━</span> <span style=\"color: #800080; text-decoration-color: #800080\">100%</span> <span style=\"color: #008080; text-decoration-color: #008080\">0:00:00</span>\nGetting entity_groups          <span style=\"color: #729c1f; text-decoration-color: #729c1f\">━━━━━━━━━━━━━━━━━━━━━━━━━━━━━━━━━━━━━━━━</span> <span style=\"color: #800080; text-decoration-color: #800080\">100%</span> <span style=\"color: #008080; text-decoration-color: #008080\">0:00:00</span>\nGetting detailed entity_groups <span style=\"color: #729c1f; text-decoration-color: #729c1f\">━━━━━━━━━━━━━━━━━━━━━━━━━━━━━━━━━━━━━━━━</span> <span style=\"color: #800080; text-decoration-color: #800080\">100%</span> <span style=\"color: #008080; text-decoration-color: #008080\">0:00:00</span>\nGetting topics                 <span style=\"color: #729c1f; text-decoration-color: #729c1f\">━━━━━━━━━━━━━━━━━━━━━━━━━━━━━━━━━━━━━━━━</span> <span style=\"color: #800080; text-decoration-color: #800080\">100%</span> <span style=\"color: #008080; text-decoration-color: #008080\">0:00:00</span>\n</pre>\n",
          "text/plain": "Getting category               \u001b[38;2;114;156;31m━━━━━━━━━━━━━━━━━━━━━━━━━━━━━━━━━━━━━━━━\u001b[0m \u001b[35m100%\u001b[0m \u001b[36m0:00:00\u001b[0m\nGetting article_type           \u001b[38;2;114;156;31m━━━━━━━━━━━━━━━━━━━━━━━━━━━━━━━━━━━━━━━━\u001b[0m \u001b[35m100%\u001b[0m \u001b[36m0:00:00\u001b[0m\nGetting sentiment_label        \u001b[38;2;114;156;31m━━━━━━━━━━━━━━━━━━━━━━━━━━━━━━━━━━━━━━━━\u001b[0m \u001b[35m100%\u001b[0m \u001b[36m0:00:00\u001b[0m\nGetting sentiment_score        \u001b[38;2;114;156;31m━━━━━━━━━━━━━━━━━━━━━━━━━━━━━━━━━━━━━━━━\u001b[0m \u001b[35m100%\u001b[0m \u001b[36m0:00:00\u001b[0m\nGetting entity_groups          \u001b[38;2;114;156;31m━━━━━━━━━━━━━━━━━━━━━━━━━━━━━━━━━━━━━━━━\u001b[0m \u001b[35m100%\u001b[0m \u001b[36m0:00:00\u001b[0m\nGetting detailed entity_groups \u001b[38;2;114;156;31m━━━━━━━━━━━━━━━━━━━━━━━━━━━━━━━━━━━━━━━━\u001b[0m \u001b[35m100%\u001b[0m \u001b[36m0:00:00\u001b[0m\nGetting topics                 \u001b[38;2;114;156;31m━━━━━━━━━━━━━━━━━━━━━━━━━━━━━━━━━━━━━━━━\u001b[0m \u001b[35m100%\u001b[0m \u001b[36m0:00:00\u001b[0m\n"
         },
         "metadata": {},
         "output_type": "display_data"
        }
       ]
      }
     }
    },
    "version_major": 2,
    "version_minor": 0
   }
  }
 },
 "nbformat": 4,
 "nbformat_minor": 5
}
