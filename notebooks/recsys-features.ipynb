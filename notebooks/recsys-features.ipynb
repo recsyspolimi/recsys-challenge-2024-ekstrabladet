{
 "cells": [
  {
   "cell_type": "code",
   "execution_count": 1,
   "id": "1838aa17",
   "metadata": {
    "execution": {
     "iopub.execute_input": "2024-04-14T15:51:02.410324Z",
     "iopub.status.busy": "2024-04-14T15:51:02.408992Z",
     "iopub.status.idle": "2024-04-14T15:51:04.895272Z",
     "shell.execute_reply": "2024-04-14T15:51:04.894346Z"
    },
    "papermill": {
     "duration": 2.506658,
     "end_time": "2024-04-14T15:51:04.897589",
     "exception": false,
     "start_time": "2024-04-14T15:51:02.390931",
     "status": "completed"
    },
    "tags": []
   },
   "outputs": [
    {
     "name": "stdout",
     "output_type": "stream",
     "text": [
      "Cloning into 'RecSysChallenge2024'...\r\n",
      "remote: Enumerating objects: 1399, done.\u001b[K\r\n",
      "remote: Counting objects: 100% (375/375), done.\u001b[K\r\n",
      "remote: Compressing objects: 100% (258/258), done.\u001b[K\r\n",
      "remote: Total 1399 (delta 186), reused 241 (delta 115), pack-reused 1024\u001b[K\r\n",
      "Receiving objects: 100% (1399/1399), 32.39 MiB | 38.74 MiB/s, done.\r\n",
      "Resolving deltas: 100% (682/682), done.\r\n"
     ]
    }
   ],
   "source": [
    "from kaggle_secrets import UserSecretsClient\n",
    "secret_label = \"Token\"\n",
    "token = UserSecretsClient().get_secret(secret_label)\n",
    "\n",
    "! git clone --branch fra https://{token}@github.com/FrancescoZanella/RecSysChallenge2024.git"
   ]
  },
  {
   "cell_type": "code",
   "execution_count": 2,
   "id": "475d2cd1",
   "metadata": {
    "execution": {
     "iopub.execute_input": "2024-04-14T15:51:04.935496Z",
     "iopub.status.busy": "2024-04-14T15:51:04.935179Z",
     "iopub.status.idle": "2024-04-14T15:51:04.941261Z",
     "shell.execute_reply": "2024-04-14T15:51:04.940265Z"
    },
    "papermill": {
     "duration": 0.02706,
     "end_time": "2024-04-14T15:51:04.943455",
     "exception": false,
     "start_time": "2024-04-14T15:51:04.916395",
     "status": "completed"
    },
    "tags": []
   },
   "outputs": [
    {
     "name": "stdout",
     "output_type": "stream",
     "text": [
      "/kaggle/working/RecSysChallenge2024/src\n"
     ]
    }
   ],
   "source": [
    "%cd /kaggle/working/RecSysChallenge2024/src"
   ]
  },
  {
   "cell_type": "code",
   "execution_count": 3,
   "id": "f0c7dacf",
   "metadata": {
    "_cell_guid": "b1076dfc-b9ad-4769-8c92-a6c4dae69d19",
    "_uuid": "8f2839f25d086af736a60e9eeb907d3b93b6e0e5",
    "execution": {
     "iopub.execute_input": "2024-04-14T15:51:04.979813Z",
     "iopub.status.busy": "2024-04-14T15:51:04.979534Z",
     "iopub.status.idle": "2024-04-14T15:51:10.808968Z",
     "shell.execute_reply": "2024-04-14T15:51:10.808120Z"
    },
    "papermill": {
     "duration": 5.849806,
     "end_time": "2024-04-14T15:51:10.811015",
     "exception": false,
     "start_time": "2024-04-14T15:51:04.961209",
     "status": "completed"
    },
    "tags": []
   },
   "outputs": [],
   "source": [
    "import numpy as np\n",
    "import pandas as pd\n",
    "import matplotlib.pyplot as plt\n",
    "import seaborn as sns\n",
    "from pathlib import Path\n",
    "import polars as pl\n",
    "import scipy.stats as stats\n",
    "import scipy.sparse as sps\n",
    "import gc\n",
    "import tqdm\n",
    "\n",
    "from ebrec.utils._descriptive_analysis import (\n",
    "    min_max_impression_time_behaviors, \n",
    "    min_max_impression_time_history\n",
    ")\n",
    "from ebrec.utils._polars import slice_join_dataframes\n",
    "from ebrec.utils._behaviors import (\n",
    "    create_binary_labels_column,\n",
    "    sampling_strategy_wu2019,\n",
    "    truncate_history,\n",
    ")\n",
    "from ebrec.utils._constants import (\n",
    "    DEFAULT_HISTORY_ARTICLE_ID_COL,\n",
    "    DEFAULT_CLICKED_ARTICLES_COL,\n",
    "    DEFAULT_INVIEW_ARTICLES_COL,\n",
    "    DEFAULT_USER_COL\n",
    ")\n",
    "from ebrec.evaluation.metrics_protocols import *\n",
    "from polimi.utils._catboost import add_trendiness_feature, add_mean_delays_features,add_history_trendiness_scores_feature\n",
    "from polimi.utils._custom import *\n",
    "\n",
    "from catboost import CatBoostClassifier"
   ]
  },
  {
   "cell_type": "markdown",
   "id": "01785595",
   "metadata": {
    "papermill": {
     "duration": 0.016803,
     "end_time": "2024-04-14T15:51:10.845273",
     "exception": false,
     "start_time": "2024-04-14T15:51:10.828470",
     "status": "completed"
    },
    "tags": []
   },
   "source": [
    "# Memory Utils"
   ]
  },
  {
   "cell_type": "code",
   "execution_count": 4,
   "id": "86259b4b",
   "metadata": {
    "execution": {
     "iopub.execute_input": "2024-04-14T15:51:10.880699Z",
     "iopub.status.busy": "2024-04-14T15:51:10.880245Z",
     "iopub.status.idle": "2024-04-14T15:51:10.887724Z",
     "shell.execute_reply": "2024-04-14T15:51:10.886625Z"
    },
    "papermill": {
     "duration": 0.027272,
     "end_time": "2024-04-14T15:51:10.889343",
     "exception": false,
     "start_time": "2024-04-14T15:51:10.862071",
     "status": "completed"
    },
    "tags": []
   },
   "outputs": [
    {
     "name": "stdout",
     "output_type": "stream",
     "text": [
      "\u001b[1m\u001b[31m\n",
      "RAM memory GB usage = 0.4039\u001b[0m\n"
     ]
    }
   ],
   "source": [
    "from os import system, getpid, walk\n",
    "from psutil import Process\n",
    "from colorama import Fore, Style, init\n",
    "from IPython.display import display, HTML\n",
    "\n",
    "def PrintColor(text:str, color = Fore.BLUE, style = Style.BRIGHT):\n",
    "    print(style + color + text + Style.RESET_ALL)\n",
    "    \n",
    "def GetMemUsage():   \n",
    "    pid = getpid()\n",
    "    py = Process(pid)\n",
    "    memory_use = py.memory_info()[0] / 2. ** 30\n",
    "    return f\"RAM memory GB usage = {memory_use :.4}\"\n",
    "\n",
    "PrintColor(f\"\\n\" + GetMemUsage(), color = Fore.RED)"
   ]
  },
  {
   "cell_type": "code",
   "execution_count": 5,
   "id": "3c36e02e",
   "metadata": {
    "execution": {
     "iopub.execute_input": "2024-04-14T15:51:10.925052Z",
     "iopub.status.busy": "2024-04-14T15:51:10.924740Z",
     "iopub.status.idle": "2024-04-14T15:51:10.936245Z",
     "shell.execute_reply": "2024-04-14T15:51:10.935547Z"
    },
    "papermill": {
     "duration": 0.031411,
     "end_time": "2024-04-14T15:51:10.938031",
     "exception": false,
     "start_time": "2024-04-14T15:51:10.906620",
     "status": "completed"
    },
    "tags": []
   },
   "outputs": [],
   "source": [
    "def reduce_polars_df_memory_size(df, set_categorical=True):\n",
    "\n",
    "    start_mem = df.estimated_size('mb')\n",
    "    print('Memory usage of dataframe is {:.2f} MB'.format(start_mem))\n",
    "    \n",
    "    for col in df.columns:\n",
    "        col_type = df[col].dtype\n",
    "        \n",
    "        if col_type in [pl.Int16, pl.Int32, pl.Int64]:\n",
    "            c_min = df[col].fill_null(0).min()\n",
    "            c_max = df[col].fill_null(0).max()\n",
    "            if c_min > np.iinfo(np.int8).min and c_max < np.iinfo(np.int8).max:\n",
    "                df = df.with_columns(pl.col(col).cast(pl.Int8))\n",
    "            elif c_min > np.iinfo(np.int16).min and c_max < np.iinfo(np.int16).max:\n",
    "                df = df.with_columns(pl.col(col).cast(pl.Int16))\n",
    "            elif c_min > np.iinfo(np.int32).min and c_max < np.iinfo(np.int32).max:\n",
    "                df = df.with_columns(pl.col(col).cast(pl.Int32))\n",
    "        elif col_type in [pl.UInt16, pl.UInt32, pl.UInt64]:\n",
    "            c_min = df[col].fill_null(0).min()\n",
    "            c_max = df[col].fill_null(0).max()\n",
    "            if c_min > np.iinfo(np.uint8).min and c_max < np.iinfo(np.uint8).max:\n",
    "                df = df.with_columns(pl.col(col).cast(pl.UInt8))\n",
    "            elif c_min > np.iinfo(np.uint16).min and c_max < np.iinfo(np.uint16).max:\n",
    "                df = df.with_columns(pl.col(col).cast(pl.UInt16))\n",
    "            elif c_min > np.iinfo(np.uint32).min and c_max < np.iinfo(np.uint32).max:\n",
    "                df = df.with_columns(pl.col(col).cast(pl.UInt32))\n",
    "        elif col_type == pl.Float64:\n",
    "            c_min = df[col].fill_null(0).min()\n",
    "            c_max = df[col].fill_null(0).max()\n",
    "            if c_min > np.finfo(np.float32).min and c_max < np.finfo(np.float32).max:\n",
    "                df = df.with_columns(pl.col(col).cast(pl.Float32))\n",
    "\n",
    "    gc.collect()\n",
    "    end_mem = df.estimated_size('mb')\n",
    "    print('Memory usage after optimization is: {:.2f} MB'.format(end_mem))\n",
    "    print('Decreased by {:.1f}%'.format(100 * (start_mem - end_mem) / start_mem))\n",
    "    \n",
    "    return df"
   ]
  },
  {
   "cell_type": "markdown",
   "id": "069db990",
   "metadata": {
    "papermill": {
     "duration": 0.016893,
     "end_time": "2024-04-14T15:51:10.972379",
     "exception": false,
     "start_time": "2024-04-14T15:51:10.955486",
     "status": "completed"
    },
    "tags": []
   },
   "source": [
    "# Data import"
   ]
  },
  {
   "cell_type": "code",
   "execution_count": 6,
   "id": "1db177d2",
   "metadata": {
    "execution": {
     "iopub.execute_input": "2024-04-14T15:51:11.008868Z",
     "iopub.status.busy": "2024-04-14T15:51:11.008544Z",
     "iopub.status.idle": "2024-04-14T15:51:12.681328Z",
     "shell.execute_reply": "2024-04-14T15:51:12.680103Z"
    },
    "papermill": {
     "duration": 1.693006,
     "end_time": "2024-04-14T15:51:12.683141",
     "exception": false,
     "start_time": "2024-04-14T15:51:10.990135",
     "status": "completed"
    },
    "tags": []
   },
   "outputs": [
    {
     "name": "stdout",
     "output_type": "stream",
     "text": [
      "\u001b[1m\u001b[31m\n",
      "RAM memory GB usage = 0.6626\u001b[0m\n"
     ]
    }
   ],
   "source": [
    "articles = pl.read_parquet('/kaggle/input/ebnerd_small/articles.parquet')\n",
    "\n",
    "behaviors_train = pl.read_parquet('/kaggle/input/ebnerd_small/train/behaviors.parquet')\n",
    "history_train = pl.read_parquet('/kaggle/input/ebnerd_small/train/history.parquet')\n",
    "\n",
    "behaviors_val = pl.read_parquet('/kaggle/input/ebnerd_small/validation/behaviors.parquet')\n",
    "history_val = pl.read_parquet('/kaggle/input/ebnerd_small/validation/history.parquet')\n",
    "\n",
    "gc.collect()\n",
    "PrintColor(f\"\\n\" + GetMemUsage(), color = Fore.RED)"
   ]
  },
  {
   "cell_type": "markdown",
   "id": "ad6fc0ff",
   "metadata": {
    "papermill": {
     "duration": 0.017228,
     "end_time": "2024-04-14T15:51:12.717976",
     "exception": false,
     "start_time": "2024-04-14T15:51:12.700748",
     "status": "completed"
    },
    "tags": []
   },
   "source": [
    "# Articles Preprocessing"
   ]
  },
  {
   "cell_type": "code",
   "execution_count": 7,
   "id": "f6ba3ab5",
   "metadata": {
    "execution": {
     "iopub.execute_input": "2024-04-14T15:51:12.754799Z",
     "iopub.status.busy": "2024-04-14T15:51:12.754069Z",
     "iopub.status.idle": "2024-04-14T15:51:13.354113Z",
     "shell.execute_reply": "2024-04-14T15:51:13.352768Z"
    },
    "papermill": {
     "duration": 0.620235,
     "end_time": "2024-04-14T15:51:13.356136",
     "exception": false,
     "start_time": "2024-04-14T15:51:12.735901",
     "status": "completed"
    },
    "tags": []
   },
   "outputs": [
    {
     "name": "stdout",
     "output_type": "stream",
     "text": [
      "Memory usage of dataframe is 57.99 MB\n",
      "Memory usage after optimization is: 57.84 MB\n",
      "Decreased by 0.3%\n",
      "\u001b[1m\u001b[31m\n",
      "RAM memory GB usage = 0.6673\u001b[0m\n"
     ]
    },
    {
     "data": {
      "text/html": [
       "<div><style>\n",
       ".dataframe > thead > tr,\n",
       ".dataframe > tbody > tr {\n",
       "  text-align: right;\n",
       "  white-space: pre-wrap;\n",
       "}\n",
       "</style>\n",
       "<small>shape: (2, 25)</small><table border=\"1\" class=\"dataframe\"><thead><tr><th>article_id</th><th>title</th><th>subtitle</th><th>last_modified_time</th><th>premium</th><th>body</th><th>published_time</th><th>image_ids</th><th>article_type</th><th>url</th><th>ner_clusters</th><th>entity_groups</th><th>topics</th><th>category</th><th>subcategory</th><th>category_str</th><th>total_inviews</th><th>total_pageviews</th><th>total_read_time</th><th>sentiment_score</th><th>sentiment_label</th><th>num_images</th><th>title_len</th><th>subtitle_len</th><th>body_len</th></tr><tr><td>i32</td><td>str</td><td>str</td><td>datetime[μs]</td><td>bool</td><td>str</td><td>datetime[μs]</td><td>list[i64]</td><td>str</td><td>str</td><td>list[str]</td><td>list[str]</td><td>list[str]</td><td>i16</td><td>list[i16]</td><td>str</td><td>i32</td><td>i32</td><td>f32</td><td>f32</td><td>str</td><td>u32</td><td>u8</td><td>u8</td><td>u16</td></tr></thead><tbody><tr><td>3001353</td><td>&quot;Natascha var i…</td><td>&quot;Politiet frygt…</td><td>2023-06-29 06:20:33</td><td>false</td><td>&quot;Sagen om den ø…</td><td>2006-08-31 08:06:45</td><td>[3150850]</td><td>&quot;article_defaul…</td><td>&quot;https://ekstra…</td><td>[]</td><td>[]</td><td>[&quot;Kriminalitet&quot;, &quot;Personfarlig_kriminalitet&quot;]</td><td>140</td><td>[]</td><td>&quot;krimi&quot;</td><td>null</td><td>null</td><td>null</td><td>0.9955</td><td>&quot;Negative&quot;</td><td>1</td><td>5</td><td>22</td><td>200</td></tr><tr><td>3003065</td><td>&quot;Kun Star Wars …</td><td>&quot;Biografgængern…</td><td>2023-06-29 06:20:35</td><td>false</td><td>&quot;Vatikanet har …</td><td>2006-05-21 16:57:00</td><td>[3006712]</td><td>&quot;article_defaul…</td><td>&quot;https://ekstra…</td><td>[]</td><td>[]</td><td>[&quot;Underholdning&quot;, &quot;Film_og_tv&quot;, &quot;Økonomi&quot;]</td><td>414</td><td>[433, 434]</td><td>&quot;underholdning&quot;</td><td>null</td><td>null</td><td>null</td><td>0.846</td><td>&quot;Positive&quot;</td><td>1</td><td>5</td><td>19</td><td>116</td></tr></tbody></table></div>"
      ],
      "text/plain": [
       "shape: (2, 25)\n",
       "┌───────────┬───────────┬───────────┬───────────┬───┬───────────┬───────────┬───────────┬──────────┐\n",
       "│ article_i ┆ title     ┆ subtitle  ┆ last_modi ┆ … ┆ num_image ┆ title_len ┆ subtitle_ ┆ body_len │\n",
       "│ d         ┆ ---       ┆ ---       ┆ fied_time ┆   ┆ s         ┆ ---       ┆ len       ┆ ---      │\n",
       "│ ---       ┆ str       ┆ str       ┆ ---       ┆   ┆ ---       ┆ u8        ┆ ---       ┆ u16      │\n",
       "│ i32       ┆           ┆           ┆ datetime[ ┆   ┆ u32       ┆           ┆ u8        ┆          │\n",
       "│           ┆           ┆           ┆ μs]       ┆   ┆           ┆           ┆           ┆          │\n",
       "╞═══════════╪═══════════╪═══════════╪═══════════╪═══╪═══════════╪═══════════╪═══════════╪══════════╡\n",
       "│ 3001353   ┆ Natascha  ┆ Politiet  ┆ 2023-06-2 ┆ … ┆ 1         ┆ 5         ┆ 22        ┆ 200      │\n",
       "│           ┆ var ikke  ┆ frygter   ┆ 9         ┆   ┆           ┆           ┆           ┆          │\n",
       "│           ┆ den       ┆ nu, at    ┆ 06:20:33  ┆   ┆           ┆           ┆           ┆          │\n",
       "│           ┆ første    ┆ Natascha… ┆           ┆   ┆           ┆           ┆           ┆          │\n",
       "│ 3003065   ┆ Kun Star  ┆ Biografgæ ┆ 2023-06-2 ┆ … ┆ 1         ┆ 5         ┆ 19        ┆ 116      │\n",
       "│           ┆ Wars      ┆ ngerne    ┆ 9         ┆   ┆           ┆           ┆           ┆          │\n",
       "│           ┆ tjente    ┆ strømmer  ┆ 06:20:35  ┆   ┆           ┆           ┆           ┆          │\n",
       "│           ┆ mere      ┆ ind for…  ┆           ┆   ┆           ┆           ┆           ┆          │\n",
       "└───────────┴───────────┴───────────┴───────────┴───┴───────────┴───────────┴───────────┴──────────┘"
      ]
     },
     "execution_count": 7,
     "metadata": {},
     "output_type": "execute_result"
    }
   ],
   "source": [
    "articles = articles.with_columns(\n",
    "    pl.col('image_ids').list.len().alias('num_images'),\n",
    "    pl.col('title').str.split(by=' ').list.len().alias('title_len'),\n",
    "    pl.col('subtitle').str.split(by=' ').list.len().alias('subtitle_len'),\n",
    "    pl.col('body').str.split(by=' ').list.len().alias('body_len'),\n",
    "    # very important for tf-idf, otherwise multiple tokens for topics with spaces are built\n",
    "    pl.col('topics').list.eval(pl.element().str.split(by=' ').list.join('_')) \n",
    ")\n",
    "articles = reduce_polars_df_memory_size(articles)\n",
    "\n",
    "gc.collect()\n",
    "PrintColor(f\"\\n\" + GetMemUsage(), color = Fore.RED)\n",
    "articles.head(2)"
   ]
  },
  {
   "cell_type": "code",
   "execution_count": 8,
   "id": "bf9cda53",
   "metadata": {
    "execution": {
     "iopub.execute_input": "2024-04-14T15:51:13.441818Z",
     "iopub.status.busy": "2024-04-14T15:51:13.441444Z",
     "iopub.status.idle": "2024-04-14T15:51:13.456796Z",
     "shell.execute_reply": "2024-04-14T15:51:13.455991Z"
    },
    "papermill": {
     "duration": 0.035894,
     "end_time": "2024-04-14T15:51:13.458841",
     "exception": false,
     "start_time": "2024-04-14T15:51:13.422947",
     "status": "completed"
    },
    "tags": []
   },
   "outputs": [
    {
     "data": {
      "text/plain": [
       "['ORG', 'PROD', 'LOC', 'EVENT', 'MISC', 'PER']"
      ]
     },
     "execution_count": 8,
     "metadata": {},
     "output_type": "execute_result"
    }
   ],
   "source": [
    "unique_entities = articles.select('entity_groups').explode('entity_groups')['entity_groups'].unique().to_list()\n",
    "unique_entities = [e for e in unique_entities if e is not None]\n",
    "unique_entities"
   ]
  },
  {
   "cell_type": "code",
   "execution_count": 9,
   "id": "5cdc16b6",
   "metadata": {
    "execution": {
     "iopub.execute_input": "2024-04-14T15:51:13.495367Z",
     "iopub.status.busy": "2024-04-14T15:51:13.495013Z",
     "iopub.status.idle": "2024-04-14T15:51:13.507440Z",
     "shell.execute_reply": "2024-04-14T15:51:13.506625Z"
    },
    "papermill": {
     "duration": 0.032482,
     "end_time": "2024-04-14T15:51:13.509137",
     "exception": false,
     "start_time": "2024-04-14T15:51:13.476655",
     "status": "completed"
    },
    "tags": []
   },
   "outputs": [
    {
     "data": {
      "text/plain": [
       "25"
      ]
     },
     "execution_count": 9,
     "metadata": {},
     "output_type": "execute_result"
    }
   ],
   "source": [
    "unique_categories = articles.select('category')['category'].unique().to_list()\n",
    "unique_categories = [c for c in unique_categories if c is not None]\n",
    "len(unique_categories)"
   ]
  },
  {
   "cell_type": "code",
   "execution_count": 10,
   "id": "217b0193",
   "metadata": {
    "execution": {
     "iopub.execute_input": "2024-04-14T15:51:13.549114Z",
     "iopub.status.busy": "2024-04-14T15:51:13.547932Z",
     "iopub.status.idle": "2024-04-14T15:51:13.559986Z",
     "shell.execute_reply": "2024-04-14T15:51:13.559218Z"
    },
    "papermill": {
     "duration": 0.033524,
     "end_time": "2024-04-14T15:51:13.562106",
     "exception": false,
     "start_time": "2024-04-14T15:51:13.528582",
     "status": "completed"
    },
    "tags": []
   },
   "outputs": [],
   "source": [
    "articles = articles.with_columns(\n",
    "    pl.when(pl.col('sentiment_label') == 'Negative').then(-1) \\\n",
    "        .otherwise(\n",
    "            pl.when(pl.col('sentiment_label') == 'Positive').then(1).otherwise(0)\n",
    "        ).cast(pl.Int8).alias('sentiment_label_int'),\n",
    "    (pl.col('article_type') == 'article_default').cast(pl.UInt8).alias('is_article_default')\n",
    ")"
   ]
  },
  {
   "cell_type": "markdown",
   "id": "57d4bdd4",
   "metadata": {
    "papermill": {
     "duration": 0.018122,
     "end_time": "2024-04-14T15:51:13.598546",
     "exception": false,
     "start_time": "2024-04-14T15:51:13.580424",
     "status": "completed"
    },
    "tags": []
   },
   "source": [
    "## Topics TF-IDF"
   ]
  },
  {
   "cell_type": "code",
   "execution_count": 11,
   "id": "87481670",
   "metadata": {
    "execution": {
     "iopub.execute_input": "2024-04-14T15:51:13.637159Z",
     "iopub.status.busy": "2024-04-14T15:51:13.636560Z",
     "iopub.status.idle": "2024-04-14T15:51:13.912417Z",
     "shell.execute_reply": "2024-04-14T15:51:13.911572Z"
    },
    "papermill": {
     "duration": 0.297741,
     "end_time": "2024-04-14T15:51:13.914538",
     "exception": false,
     "start_time": "2024-04-14T15:51:13.616797",
     "status": "completed"
    },
    "tags": []
   },
   "outputs": [
    {
     "name": "stdout",
     "output_type": "stream",
     "text": [
      "\u001b[1m\u001b[31m\n",
      "RAM memory GB usage = 0.6849\u001b[0m\n"
     ]
    },
    {
     "data": {
      "text/html": [
       "<div><style>\n",
       ".dataframe > thead > tr,\n",
       ".dataframe > tbody > tr {\n",
       "  text-align: right;\n",
       "  white-space: pre-wrap;\n",
       "}\n",
       "</style>\n",
       "<small>shape: (2, 28)</small><table border=\"1\" class=\"dataframe\"><thead><tr><th>article_id</th><th>title</th><th>subtitle</th><th>last_modified_time</th><th>premium</th><th>body</th><th>published_time</th><th>image_ids</th><th>article_type</th><th>url</th><th>ner_clusters</th><th>entity_groups</th><th>topics</th><th>category</th><th>subcategory</th><th>category_str</th><th>total_inviews</th><th>total_pageviews</th><th>total_read_time</th><th>sentiment_score</th><th>sentiment_label</th><th>num_images</th><th>title_len</th><th>subtitle_len</th><th>body_len</th><th>sentiment_label_int</th><th>is_article_default</th><th>topics_idf</th></tr><tr><td>i32</td><td>str</td><td>str</td><td>datetime[μs]</td><td>bool</td><td>str</td><td>datetime[μs]</td><td>list[i64]</td><td>str</td><td>str</td><td>list[str]</td><td>list[str]</td><td>list[str]</td><td>i16</td><td>list[i16]</td><td>str</td><td>i32</td><td>i32</td><td>f32</td><td>f32</td><td>str</td><td>u32</td><td>u8</td><td>u8</td><td>u16</td><td>i8</td><td>u8</td><td>list[f32]</td></tr></thead><tbody><tr><td>3001353</td><td>&quot;Natascha var i…</td><td>&quot;Politiet frygt…</td><td>2023-06-29 06:20:33</td><td>false</td><td>&quot;Sagen om den ø…</td><td>2006-08-31 08:06:45</td><td>[3150850]</td><td>&quot;article_defaul…</td><td>&quot;https://ekstra…</td><td>[]</td><td>[]</td><td>[&quot;Kriminalitet&quot;, &quot;Personfarlig_kriminalitet&quot;]</td><td>140</td><td>[]</td><td>&quot;krimi&quot;</td><td>null</td><td>null</td><td>null</td><td>0.9955</td><td>&quot;Negative&quot;</td><td>1</td><td>5</td><td>22</td><td>200</td><td>-1</td><td>1</td><td>[0.0, 0.0, … 0.0]</td></tr><tr><td>3003065</td><td>&quot;Kun Star Wars …</td><td>&quot;Biografgængern…</td><td>2023-06-29 06:20:35</td><td>false</td><td>&quot;Vatikanet har …</td><td>2006-05-21 16:57:00</td><td>[3006712]</td><td>&quot;article_defaul…</td><td>&quot;https://ekstra…</td><td>[]</td><td>[]</td><td>[&quot;Underholdning&quot;, &quot;Film_og_tv&quot;, &quot;Økonomi&quot;]</td><td>414</td><td>[433, 434]</td><td>&quot;underholdning&quot;</td><td>null</td><td>null</td><td>null</td><td>0.846</td><td>&quot;Positive&quot;</td><td>1</td><td>5</td><td>19</td><td>116</td><td>1</td><td>1</td><td>[0.0, 0.0, … 0.536059]</td></tr></tbody></table></div>"
      ],
      "text/plain": [
       "shape: (2, 28)\n",
       "┌───────────┬───────────┬───────────┬───────────┬───┬──────────┬───────────┬───────────┬───────────┐\n",
       "│ article_i ┆ title     ┆ subtitle  ┆ last_modi ┆ … ┆ body_len ┆ sentiment ┆ is_articl ┆ topics_id │\n",
       "│ d         ┆ ---       ┆ ---       ┆ fied_time ┆   ┆ ---      ┆ _label_in ┆ e_default ┆ f         │\n",
       "│ ---       ┆ str       ┆ str       ┆ ---       ┆   ┆ u16      ┆ t         ┆ ---       ┆ ---       │\n",
       "│ i32       ┆           ┆           ┆ datetime[ ┆   ┆          ┆ ---       ┆ u8        ┆ list[f32] │\n",
       "│           ┆           ┆           ┆ μs]       ┆   ┆          ┆ i8        ┆           ┆           │\n",
       "╞═══════════╪═══════════╪═══════════╪═══════════╪═══╪══════════╪═══════════╪═══════════╪═══════════╡\n",
       "│ 3001353   ┆ Natascha  ┆ Politiet  ┆ 2023-06-2 ┆ … ┆ 200      ┆ -1        ┆ 1         ┆ [0.0,     │\n",
       "│           ┆ var ikke  ┆ frygter   ┆ 9         ┆   ┆          ┆           ┆           ┆ 0.0, …    │\n",
       "│           ┆ den       ┆ nu, at    ┆ 06:20:33  ┆   ┆          ┆           ┆           ┆ 0.0]      │\n",
       "│           ┆ første    ┆ Natascha… ┆           ┆   ┆          ┆           ┆           ┆           │\n",
       "│ 3003065   ┆ Kun Star  ┆ Biografgæ ┆ 2023-06-2 ┆ … ┆ 116      ┆ 1         ┆ 1         ┆ [0.0,     │\n",
       "│           ┆ Wars      ┆ ngerne    ┆ 9         ┆   ┆          ┆           ┆           ┆ 0.0, …    │\n",
       "│           ┆ tjente    ┆ strømmer  ┆ 06:20:35  ┆   ┆          ┆           ┆           ┆ 0.536059] │\n",
       "│           ┆ mere      ┆ ind for…  ┆           ┆   ┆          ┆           ┆           ┆           │\n",
       "└───────────┴───────────┴───────────┴───────────┴───┴──────────┴───────────┴───────────┴───────────┘"
      ]
     },
     "execution_count": 11,
     "metadata": {},
     "output_type": "execute_result"
    }
   ],
   "source": [
    "from sklearn.feature_extraction.text import TfidfVectorizer\n",
    "\n",
    "vectorizer = TfidfVectorizer()\n",
    "articles = articles.with_columns(\n",
    "    pl.Series(\n",
    "        vectorizer.fit_transform(\n",
    "            articles.with_columns(pl.col('topics').list.join(separator=' '))['topics'].to_list()\n",
    "        ).toarray().astype(np.float32)\n",
    "    ).alias('topics_idf')\n",
    ")\n",
    "\n",
    "gc.collect()\n",
    "PrintColor(f\"\\n\" + GetMemUsage(), color = Fore.RED)\n",
    "articles.head(2)"
   ]
  },
  {
   "cell_type": "code",
   "execution_count": 12,
   "id": "6614d487",
   "metadata": {
    "execution": {
     "iopub.execute_input": "2024-04-14T15:51:13.953015Z",
     "iopub.status.busy": "2024-04-14T15:51:13.952498Z",
     "iopub.status.idle": "2024-04-14T15:51:13.957395Z",
     "shell.execute_reply": "2024-04-14T15:51:13.956753Z"
    },
    "papermill": {
     "duration": 0.025478,
     "end_time": "2024-04-14T15:51:13.959020",
     "exception": false,
     "start_time": "2024-04-14T15:51:13.933542",
     "status": "completed"
    },
    "tags": []
   },
   "outputs": [
    {
     "data": {
      "text/plain": [
       "79"
      ]
     },
     "execution_count": 12,
     "metadata": {},
     "output_type": "execute_result"
    }
   ],
   "source": [
    "# without split + join with _ of the single topics this returns 94\n",
    "len(vectorizer.get_feature_names_out())"
   ]
  },
  {
   "cell_type": "markdown",
   "id": "6b39a055",
   "metadata": {
    "papermill": {
     "duration": 0.017906,
     "end_time": "2024-04-14T15:51:13.994534",
     "exception": false,
     "start_time": "2024-04-14T15:51:13.976628",
     "status": "completed"
    },
    "tags": []
   },
   "source": [
    "## Topic Model"
   ]
  },
  {
   "cell_type": "code",
   "execution_count": 13,
   "id": "169b7ea1",
   "metadata": {
    "execution": {
     "iopub.execute_input": "2024-04-14T15:51:14.032744Z",
     "iopub.status.busy": "2024-04-14T15:51:14.032236Z",
     "iopub.status.idle": "2024-04-14T15:51:14.779067Z",
     "shell.execute_reply": "2024-04-14T15:51:14.777957Z"
    },
    "papermill": {
     "duration": 0.769119,
     "end_time": "2024-04-14T15:51:14.781449",
     "exception": false,
     "start_time": "2024-04-14T15:51:14.012330",
     "status": "completed"
    },
    "tags": []
   },
   "outputs": [],
   "source": [
    "import nltk\n",
    "from sklearn.feature_extraction.text import CountVectorizer\n",
    "\n",
    "stopwords = nltk.corpus.stopwords.words('danish')\n",
    "title_vectorizer = CountVectorizer(stop_words=stopwords)\n",
    "\n",
    "titles_bow = title_vectorizer.fit_transform(articles['title'].to_list())"
   ]
  },
  {
   "cell_type": "code",
   "execution_count": 14,
   "id": "ac892811",
   "metadata": {
    "execution": {
     "iopub.execute_input": "2024-04-14T15:51:14.821359Z",
     "iopub.status.busy": "2024-04-14T15:51:14.821033Z",
     "iopub.status.idle": "2024-04-14T15:51:31.129718Z",
     "shell.execute_reply": "2024-04-14T15:51:31.128711Z"
    },
    "papermill": {
     "duration": 16.331086,
     "end_time": "2024-04-14T15:51:31.131951",
     "exception": false,
     "start_time": "2024-04-14T15:51:14.800865",
     "status": "completed"
    },
    "tags": []
   },
   "outputs": [
    {
     "name": "stdout",
     "output_type": "stream",
     "text": [
      "CPU times: user 16.3 s, sys: 4.04 ms, total: 16.3 s\n",
      "Wall time: 16.3 s\n"
     ]
    },
    {
     "data": {
      "text/html": [
       "<div><style>\n",
       ".dataframe > thead > tr,\n",
       ".dataframe > tbody > tr {\n",
       "  text-align: right;\n",
       "  white-space: pre-wrap;\n",
       "}\n",
       "</style>\n",
       "<small>shape: (2, 29)</small><table border=\"1\" class=\"dataframe\"><thead><tr><th>article_id</th><th>title</th><th>subtitle</th><th>last_modified_time</th><th>premium</th><th>body</th><th>published_time</th><th>image_ids</th><th>article_type</th><th>url</th><th>ner_clusters</th><th>entity_groups</th><th>topics</th><th>category</th><th>subcategory</th><th>category_str</th><th>total_inviews</th><th>total_pageviews</th><th>total_read_time</th><th>sentiment_score</th><th>sentiment_label</th><th>num_images</th><th>title_len</th><th>subtitle_len</th><th>body_len</th><th>sentiment_label_int</th><th>is_article_default</th><th>topics_idf</th><th>topic_model_embeddings</th></tr><tr><td>i32</td><td>str</td><td>str</td><td>datetime[μs]</td><td>bool</td><td>str</td><td>datetime[μs]</td><td>list[i64]</td><td>str</td><td>str</td><td>list[str]</td><td>list[str]</td><td>list[str]</td><td>i16</td><td>list[i16]</td><td>str</td><td>i32</td><td>i32</td><td>f32</td><td>f32</td><td>str</td><td>u32</td><td>u8</td><td>u8</td><td>u16</td><td>i8</td><td>u8</td><td>list[f32]</td><td>array[f32, 5]</td></tr></thead><tbody><tr><td>3001353</td><td>&quot;Natascha var i…</td><td>&quot;Politiet frygt…</td><td>2023-06-29 06:20:33</td><td>false</td><td>&quot;Sagen om den ø…</td><td>2006-08-31 08:06:45</td><td>[3150850]</td><td>&quot;article_defaul…</td><td>&quot;https://ekstra…</td><td>[]</td><td>[]</td><td>[&quot;Kriminalitet&quot;, &quot;Personfarlig_kriminalitet&quot;]</td><td>140</td><td>[]</td><td>&quot;krimi&quot;</td><td>null</td><td>null</td><td>null</td><td>0.9955</td><td>&quot;Negative&quot;</td><td>1</td><td>5</td><td>22</td><td>200</td><td>-1</td><td>1</td><td>[0.0, 0.0, … 0.0]</td><td>[0.285677, 0.280758, … 0.144301]</td></tr><tr><td>3003065</td><td>&quot;Kun Star Wars …</td><td>&quot;Biografgængern…</td><td>2023-06-29 06:20:35</td><td>false</td><td>&quot;Vatikanet har …</td><td>2006-05-21 16:57:00</td><td>[3006712]</td><td>&quot;article_defaul…</td><td>&quot;https://ekstra…</td><td>[]</td><td>[]</td><td>[&quot;Underholdning&quot;, &quot;Film_og_tv&quot;, &quot;Økonomi&quot;]</td><td>414</td><td>[433, 434]</td><td>&quot;underholdning&quot;</td><td>null</td><td>null</td><td>null</td><td>0.846</td><td>&quot;Positive&quot;</td><td>1</td><td>5</td><td>19</td><td>116</td><td>1</td><td>1</td><td>[0.0, 0.0, … 0.536059]</td><td>[0.316672, 0.220132, … 0.11284]</td></tr></tbody></table></div>"
      ],
      "text/plain": [
       "shape: (2, 29)\n",
       "┌───────────┬───────────┬───────────┬───────────┬───┬───────────┬───────────┬───────────┬──────────┐\n",
       "│ article_i ┆ title     ┆ subtitle  ┆ last_modi ┆ … ┆ sentiment ┆ is_articl ┆ topics_id ┆ topic_mo │\n",
       "│ d         ┆ ---       ┆ ---       ┆ fied_time ┆   ┆ _label_in ┆ e_default ┆ f         ┆ del_embe │\n",
       "│ ---       ┆ str       ┆ str       ┆ ---       ┆   ┆ t         ┆ ---       ┆ ---       ┆ ddings   │\n",
       "│ i32       ┆           ┆           ┆ datetime[ ┆   ┆ ---       ┆ u8        ┆ list[f32] ┆ ---      │\n",
       "│           ┆           ┆           ┆ μs]       ┆   ┆ i8        ┆           ┆           ┆ array[f3 │\n",
       "│           ┆           ┆           ┆           ┆   ┆           ┆           ┆           ┆ 2, 5]    │\n",
       "╞═══════════╪═══════════╪═══════════╪═══════════╪═══╪═══════════╪═══════════╪═══════════╪══════════╡\n",
       "│ 3001353   ┆ Natascha  ┆ Politiet  ┆ 2023-06-2 ┆ … ┆ -1        ┆ 1         ┆ [0.0,     ┆ [0.28567 │\n",
       "│           ┆ var ikke  ┆ frygter   ┆ 9         ┆   ┆           ┆           ┆ 0.0, …    ┆ 7, 0.280 │\n",
       "│           ┆ den       ┆ nu, at    ┆ 06:20:33  ┆   ┆           ┆           ┆ 0.0]      ┆ 758, …   │\n",
       "│           ┆ første    ┆ Natascha… ┆           ┆   ┆           ┆           ┆           ┆ 0.144301 │\n",
       "│           ┆           ┆           ┆           ┆   ┆           ┆           ┆           ┆ ]        │\n",
       "│ 3003065   ┆ Kun Star  ┆ Biografgæ ┆ 2023-06-2 ┆ … ┆ 1         ┆ 1         ┆ [0.0,     ┆ [0.31667 │\n",
       "│           ┆ Wars      ┆ ngerne    ┆ 9         ┆   ┆           ┆           ┆ 0.0, …    ┆ 2, 0.220 │\n",
       "│           ┆ tjente    ┆ strømmer  ┆ 06:20:35  ┆   ┆           ┆           ┆ 0.536059] ┆ 132, …   │\n",
       "│           ┆ mere      ┆ ind for…  ┆           ┆   ┆           ┆           ┆           ┆ 0.11284] │\n",
       "└───────────┴───────────┴───────────┴───────────┴───┴───────────┴───────────┴───────────┴──────────┘"
      ]
     },
     "execution_count": 14,
     "metadata": {},
     "output_type": "execute_result"
    }
   ],
   "source": [
    "%%time\n",
    "\n",
    "from sklearn.decomposition import LatentDirichletAllocation\n",
    "\n",
    "# parameters tuned on perplexity\n",
    "N_COMPONENTS = 5\n",
    "lda_model = LatentDirichletAllocation(\n",
    "    n_components=N_COMPONENTS,\n",
    "    doc_topic_prior=0.99,\n",
    "    topic_word_prior=0.75\n",
    ")\n",
    "articles = articles.with_columns(\n",
    "    pl.Series(lda_model.fit_transform(titles_bow).astype(np.float32)) \\\n",
    "        .list.to_array(5).alias('topic_model_embeddings')\n",
    ")\n",
    "articles.head(2)"
   ]
  },
  {
   "cell_type": "code",
   "execution_count": 15,
   "id": "b1f0c673",
   "metadata": {
    "execution": {
     "iopub.execute_input": "2024-04-14T15:51:31.171612Z",
     "iopub.status.busy": "2024-04-14T15:51:31.171266Z",
     "iopub.status.idle": "2024-04-14T15:51:31.184206Z",
     "shell.execute_reply": "2024-04-14T15:51:31.183464Z"
    },
    "papermill": {
     "duration": 0.034493,
     "end_time": "2024-04-14T15:51:31.186034",
     "exception": false,
     "start_time": "2024-04-14T15:51:31.151541",
     "status": "completed"
    },
    "tags": []
   },
   "outputs": [
    {
     "data": {
      "text/html": [
       "<div><style>\n",
       ".dataframe > thead > tr,\n",
       ".dataframe > tbody > tr {\n",
       "  text-align: right;\n",
       "  white-space: pre-wrap;\n",
       "}\n",
       "</style>\n",
       "<small>shape: (2, 33)</small><table border=\"1\" class=\"dataframe\"><thead><tr><th>article_id</th><th>title</th><th>subtitle</th><th>last_modified_time</th><th>premium</th><th>body</th><th>published_time</th><th>image_ids</th><th>article_type</th><th>url</th><th>ner_clusters</th><th>entity_groups</th><th>topics</th><th>category</th><th>subcategory</th><th>category_str</th><th>total_inviews</th><th>total_pageviews</th><th>total_read_time</th><th>sentiment_score</th><th>sentiment_label</th><th>num_images</th><th>title_len</th><th>subtitle_len</th><th>body_len</th><th>sentiment_label_int</th><th>is_article_default</th><th>topics_idf</th><th>topic_model_embedding_0</th><th>topic_model_embedding_1</th><th>topic_model_embedding_2</th><th>topic_model_embedding_3</th><th>topic_model_embedding_4</th></tr><tr><td>i32</td><td>str</td><td>str</td><td>datetime[μs]</td><td>bool</td><td>str</td><td>datetime[μs]</td><td>list[i64]</td><td>str</td><td>str</td><td>list[str]</td><td>list[str]</td><td>list[str]</td><td>i16</td><td>list[i16]</td><td>str</td><td>i32</td><td>i32</td><td>f32</td><td>f32</td><td>str</td><td>u32</td><td>u8</td><td>u8</td><td>u16</td><td>i8</td><td>u8</td><td>list[f32]</td><td>f32</td><td>f32</td><td>f32</td><td>f32</td><td>f32</td></tr></thead><tbody><tr><td>3001353</td><td>&quot;Natascha var i…</td><td>&quot;Politiet frygt…</td><td>2023-06-29 06:20:33</td><td>false</td><td>&quot;Sagen om den ø…</td><td>2006-08-31 08:06:45</td><td>[3150850]</td><td>&quot;article_defaul…</td><td>&quot;https://ekstra…</td><td>[]</td><td>[]</td><td>[&quot;Kriminalitet&quot;, &quot;Personfarlig_kriminalitet&quot;]</td><td>140</td><td>[]</td><td>&quot;krimi&quot;</td><td>null</td><td>null</td><td>null</td><td>0.9955</td><td>&quot;Negative&quot;</td><td>1</td><td>5</td><td>22</td><td>200</td><td>-1</td><td>1</td><td>[0.0, 0.0, … 0.0]</td><td>0.285677</td><td>0.280758</td><td>0.144219</td><td>0.145045</td><td>0.144301</td></tr><tr><td>3003065</td><td>&quot;Kun Star Wars …</td><td>&quot;Biografgængern…</td><td>2023-06-29 06:20:35</td><td>false</td><td>&quot;Vatikanet har …</td><td>2006-05-21 16:57:00</td><td>[3006712]</td><td>&quot;article_defaul…</td><td>&quot;https://ekstra…</td><td>[]</td><td>[]</td><td>[&quot;Underholdning&quot;, &quot;Film_og_tv&quot;, &quot;Økonomi&quot;]</td><td>414</td><td>[433, 434]</td><td>&quot;underholdning&quot;</td><td>null</td><td>null</td><td>null</td><td>0.846</td><td>&quot;Positive&quot;</td><td>1</td><td>5</td><td>19</td><td>116</td><td>1</td><td>1</td><td>[0.0, 0.0, … 0.536059]</td><td>0.316672</td><td>0.220132</td><td>0.1309</td><td>0.219456</td><td>0.11284</td></tr></tbody></table></div>"
      ],
      "text/plain": [
       "shape: (2, 33)\n",
       "┌───────────┬───────────┬───────────┬───────────┬───┬───────────┬───────────┬───────────┬──────────┐\n",
       "│ article_i ┆ title     ┆ subtitle  ┆ last_modi ┆ … ┆ topic_mod ┆ topic_mod ┆ topic_mod ┆ topic_mo │\n",
       "│ d         ┆ ---       ┆ ---       ┆ fied_time ┆   ┆ el_embedd ┆ el_embedd ┆ el_embedd ┆ del_embe │\n",
       "│ ---       ┆ str       ┆ str       ┆ ---       ┆   ┆ ing_1     ┆ ing_2     ┆ ing_3     ┆ dding_4  │\n",
       "│ i32       ┆           ┆           ┆ datetime[ ┆   ┆ ---       ┆ ---       ┆ ---       ┆ ---      │\n",
       "│           ┆           ┆           ┆ μs]       ┆   ┆ f32       ┆ f32       ┆ f32       ┆ f32      │\n",
       "╞═══════════╪═══════════╪═══════════╪═══════════╪═══╪═══════════╪═══════════╪═══════════╪══════════╡\n",
       "│ 3001353   ┆ Natascha  ┆ Politiet  ┆ 2023-06-2 ┆ … ┆ 0.280758  ┆ 0.144219  ┆ 0.145045  ┆ 0.144301 │\n",
       "│           ┆ var ikke  ┆ frygter   ┆ 9         ┆   ┆           ┆           ┆           ┆          │\n",
       "│           ┆ den       ┆ nu, at    ┆ 06:20:33  ┆   ┆           ┆           ┆           ┆          │\n",
       "│           ┆ første    ┆ Natascha… ┆           ┆   ┆           ┆           ┆           ┆          │\n",
       "│ 3003065   ┆ Kun Star  ┆ Biografgæ ┆ 2023-06-2 ┆ … ┆ 0.220132  ┆ 0.1309    ┆ 0.219456  ┆ 0.11284  │\n",
       "│           ┆ Wars      ┆ ngerne    ┆ 9         ┆   ┆           ┆           ┆           ┆          │\n",
       "│           ┆ tjente    ┆ strømmer  ┆ 06:20:35  ┆   ┆           ┆           ┆           ┆          │\n",
       "│           ┆ mere      ┆ ind for…  ┆           ┆   ┆           ┆           ┆           ┆          │\n",
       "└───────────┴───────────┴───────────┴───────────┴───┴───────────┴───────────┴───────────┴──────────┘"
      ]
     },
     "execution_count": 15,
     "metadata": {},
     "output_type": "execute_result"
    }
   ],
   "source": [
    "topic_model_columns = [f'topic_model_embedding_{i}' for i in range(N_COMPONENTS)]\n",
    "\n",
    "articles = articles.with_columns(\n",
    "    pl.col('topic_model_embeddings').arr.to_struct(fields=lambda i: f'topic_model_embedding_{i}')\n",
    ").with_columns([\n",
    "    pl.col('topic_model_embeddings').struct.field(f'topic_model_embedding_{i}') for i in range(N_COMPONENTS)\n",
    "]).drop('topic_model_embeddings')\n",
    "\n",
    "articles.head(2)"
   ]
  },
  {
   "cell_type": "markdown",
   "id": "eeec7090",
   "metadata": {
    "papermill": {
     "duration": 0.01805,
     "end_time": "2024-04-14T15:51:31.223088",
     "exception": false,
     "start_time": "2024-04-14T15:51:31.205038",
     "status": "completed"
    },
    "tags": []
   },
   "source": [
    "# History preprocessing"
   ]
  },
  {
   "cell_type": "code",
   "execution_count": 16,
   "id": "d8a7f003",
   "metadata": {
    "execution": {
     "iopub.execute_input": "2024-04-14T15:51:31.261196Z",
     "iopub.status.busy": "2024-04-14T15:51:31.260455Z",
     "iopub.status.idle": "2024-04-14T15:51:31.265094Z",
     "shell.execute_reply": "2024-04-14T15:51:31.264491Z"
    },
    "papermill": {
     "duration": 0.025568,
     "end_time": "2024-04-14T15:51:31.266794",
     "exception": false,
     "start_time": "2024-04-14T15:51:31.241226",
     "status": "completed"
    },
    "tags": []
   },
   "outputs": [],
   "source": [
    "def add_topics_tf_idf_columns(df, topics_col, vectorizer):\n",
    "    return df.with_columns(\n",
    "        pl.Series(\n",
    "            vectorizer.transform(\n",
    "                df.with_columns(pl.col(topics_col).list.join(separator=' '))[topics_col].to_list()\n",
    "            ).toarray().astype(np.float32)\n",
    "        ).alias(f'{topics_col}_tf_idf')\n",
    "    )"
   ]
  },
  {
   "cell_type": "code",
   "execution_count": 17,
   "id": "eccc10cd",
   "metadata": {
    "execution": {
     "iopub.execute_input": "2024-04-14T15:51:31.306415Z",
     "iopub.status.busy": "2024-04-14T15:51:31.306085Z",
     "iopub.status.idle": "2024-04-14T15:51:40.977340Z",
     "shell.execute_reply": "2024-04-14T15:51:40.976524Z"
    },
    "papermill": {
     "duration": 9.693054,
     "end_time": "2024-04-14T15:51:40.979377",
     "exception": false,
     "start_time": "2024-04-14T15:51:31.286323",
     "status": "completed"
    },
    "tags": []
   },
   "outputs": [
    {
     "name": "stderr",
     "output_type": "stream",
     "text": [
      "16it [00:09,  1.71it/s]                        \n"
     ]
    },
    {
     "name": "stdout",
     "output_type": "stream",
     "text": [
      "\u001b[1m\u001b[31m\n",
      "RAM memory GB usage = 0.812\u001b[0m\n",
      "Memory usage of dataframe is 39.39 MB\n",
      "Memory usage after optimization is: 38.61 MB\n",
      "Decreased by 2.0%\n",
      "CPU times: user 10.8 s, sys: 848 ms, total: 11.6 s\n",
      "Wall time: 9.65 s\n"
     ]
    },
    {
     "data": {
      "text/html": [
       "<div><style>\n",
       ".dataframe > thead > tr,\n",
       ".dataframe > tbody > tr {\n",
       "  text-align: right;\n",
       "  white-space: pre-wrap;\n",
       "}\n",
       "</style>\n",
       "<small>shape: (2, 27)</small><table border=\"1\" class=\"dataframe\"><thead><tr><th>user_id</th><th>article_id_fixed</th><th>impression_time_fixed</th><th>category</th><th>NumArticlesHistory</th><th>MedianReadTime</th><th>MaxReadTime</th><th>TotalReadTime</th><th>MedianScrollPercentage</th><th>MaxScrollPercentage</th><th>NeutralPct</th><th>PositivePct</th><th>NegativePct</th><th>PctStrongNeutral</th><th>PctStrongPositive</th><th>PctStrongNegative</th><th>PctNotDefaultArticles</th><th>MostFrequentCategory</th><th>MostFrequentWeekday</th><th>MostFrequentHour</th><th>topics_flatten_tf_idf</th><th>ORGPct</th><th>PRODPct</th><th>LOCPct</th><th>EVENTPct</th><th>MISCPct</th><th>PERPct</th></tr><tr><td>u32</td><td>list[i32]</td><td>list[datetime[μs]]</td><td>list[i16]</td><td>u16</td><td>f32</td><td>f32</td><td>f32</td><td>f32</td><td>f32</td><td>f32</td><td>f32</td><td>f32</td><td>f32</td><td>f32</td><td>f32</td><td>f32</td><td>i16</td><td>i8</td><td>i8</td><td>list[f32]</td><td>f32</td><td>f32</td><td>f32</td><td>f32</td><td>f32</td><td>f32</td></tr></thead><tbody><tr><td>10623</td><td>[9739035, 9739065, … 9770533]</td><td>[2023-04-27 14:29:44, 2023-04-27 14:29:47, … 2023-05-17 17:36:24]</td><td>[118, 414, … 140]</td><td>143</td><td>3.0</td><td>1563.0</td><td>9623.0</td><td>42.5</td><td>100.0</td><td>0.230769</td><td>0.111888</td><td>0.657343</td><td>0.097902</td><td>0.083916</td><td>0.608392</td><td>0.06993</td><td>118</td><td>3</td><td>16</td><td>[0.016041, 0.062928, … 0.178427]</td><td>0.888112</td><td>0.237762</td><td>0.804196</td><td>0.202797</td><td>0.223776</td><td>0.874126</td></tr><tr><td>12016</td><td>[9738216, 9735383, … 9769622]</td><td>[2023-04-27 07:39:48, 2023-04-27 07:41:30, … 2023-05-17 23:56:30]</td><td>[140, 118, … 140]</td><td>264</td><td>156.0</td><td>1775.0</td><td>63672.0</td><td>100.0</td><td>100.0</td><td>0.257576</td><td>0.075758</td><td>0.666667</td><td>0.106061</td><td>0.034091</td><td>0.602273</td><td>0.07197</td><td>140</td><td>5</td><td>20</td><td>[0.009749, 0.045896, … 0.075912]</td><td>0.852273</td><td>0.318182</td><td>0.776515</td><td>0.087121</td><td>0.117424</td><td>0.787879</td></tr></tbody></table></div>"
      ],
      "text/plain": [
       "shape: (2, 27)\n",
       "┌─────────┬─────────────┬─────────────┬────────────┬───┬──────────┬──────────┬──────────┬──────────┐\n",
       "│ user_id ┆ article_id_ ┆ impression_ ┆ category   ┆ … ┆ LOCPct   ┆ EVENTPct ┆ MISCPct  ┆ PERPct   │\n",
       "│ ---     ┆ fixed       ┆ time_fixed  ┆ ---        ┆   ┆ ---      ┆ ---      ┆ ---      ┆ ---      │\n",
       "│ u32     ┆ ---         ┆ ---         ┆ list[i16]  ┆   ┆ f32      ┆ f32      ┆ f32      ┆ f32      │\n",
       "│         ┆ list[i32]   ┆ list[dateti ┆            ┆   ┆          ┆          ┆          ┆          │\n",
       "│         ┆             ┆ me[μs]]     ┆            ┆   ┆          ┆          ┆          ┆          │\n",
       "╞═════════╪═════════════╪═════════════╪════════════╪═══╪══════════╪══════════╪══════════╪══════════╡\n",
       "│ 10623   ┆ [9739035,   ┆ [2023-04-27 ┆ [118, 414, ┆ … ┆ 0.804196 ┆ 0.202797 ┆ 0.223776 ┆ 0.874126 │\n",
       "│         ┆ 9739065, …  ┆ 14:29:44,   ┆ … 140]     ┆   ┆          ┆          ┆          ┆          │\n",
       "│         ┆ 9770533]    ┆ 2023-04-27… ┆            ┆   ┆          ┆          ┆          ┆          │\n",
       "│ 12016   ┆ [9738216,   ┆ [2023-04-27 ┆ [140, 118, ┆ … ┆ 0.776515 ┆ 0.087121 ┆ 0.117424 ┆ 0.787879 │\n",
       "│         ┆ 9735383, …  ┆ 07:39:48,   ┆ … 140]     ┆   ┆          ┆          ┆          ┆          │\n",
       "│         ┆ 9769622]    ┆ 2023-04-27… ┆            ┆   ┆          ┆          ┆          ┆          │\n",
       "└─────────┴─────────────┴─────────────┴────────────┴───┴──────────┴──────────┴──────────┴──────────┘"
      ]
     },
     "execution_count": 17,
     "metadata": {},
     "output_type": "execute_result"
    }
   ],
   "source": [
    "%%time\n",
    "\n",
    "STRONG_THR = 0.8\n",
    "\n",
    "history_train = pl.concat(\n",
    "    rows.with_columns(pl.col('article_id_fixed').list.len().alias('NumArticlesHistory')) \\\n",
    "        .explode(['article_id_fixed', 'impression_time_fixed', 'read_time_fixed', 'scroll_percentage_fixed']) \\\n",
    "        .sort(by=['user_id', 'impression_time_fixed']) \\\n",
    "        .with_columns(\n",
    "            pl.col('impression_time_fixed').dt.weekday().alias('weekday'),\n",
    "            pl.col('impression_time_fixed').dt.hour().alias('hour'),\n",
    "        ).join(articles.select(['article_id', 'category', 'is_article_default', 'sentiment_label_int', \n",
    "                                'sentiment_score', 'entity_groups', 'topics']), \n",
    "               left_on='article_id_fixed', right_on='article_id', how='left') \\\n",
    "        .with_columns(\n",
    "            (pl.col('sentiment_label_int') == 0).alias('is_neutral'),\n",
    "            (pl.col('sentiment_label_int') == 1).alias('is_positive'),\n",
    "            (pl.col('sentiment_label_int') == -1).alias('is_negative'),\n",
    "            ((pl.col('sentiment_label_int') == 0) & (pl.col('sentiment_score') > STRONG_THR)).alias('strong_neutral'),\n",
    "            ((pl.col('sentiment_label_int') == 1) & (pl.col('sentiment_score') > STRONG_THR)).alias('strong_positive'),\n",
    "            ((pl.col('sentiment_label_int') == -1) & (pl.col('sentiment_score') > STRONG_THR)).alias('strong_negative'),\n",
    "            pl.col('entity_groups').list.unique(),\n",
    "        ).group_by('user_id').agg(\n",
    "            pl.col('article_id_fixed'),\n",
    "            pl.col('impression_time_fixed'),\n",
    "            pl.col('category'),\n",
    "            pl.col('NumArticlesHistory').first(),\n",
    "            pl.col('read_time_fixed').median().alias('MedianReadTime'),\n",
    "            pl.col('read_time_fixed').max().alias('MaxReadTime'),\n",
    "            pl.col('read_time_fixed').sum().alias('TotalReadTime'),\n",
    "            pl.col('scroll_percentage_fixed').median().alias('MedianScrollPercentage'),\n",
    "            pl.col('scroll_percentage_fixed').max().alias('MaxScrollPercentage'),\n",
    "            (pl.col('is_neutral').sum() / pl.col('NumArticlesHistory').first()).alias('NeutralPct'),\n",
    "            (pl.col('is_positive').sum() / pl.col('NumArticlesHistory').first()).alias('PositivePct'),\n",
    "            (pl.col('is_negative').sum() / pl.col('NumArticlesHistory').first()).alias('NegativePct'),\n",
    "            (pl.col('strong_neutral').sum() / pl.col('NumArticlesHistory').first()).alias('PctStrongNeutral'),\n",
    "            (pl.col('strong_positive').sum() / pl.col('NumArticlesHistory').first()).alias('PctStrongPositive'),\n",
    "            (pl.col('strong_negative').sum() / pl.col('NumArticlesHistory').first()).alias('PctStrongNegative'),\n",
    "            (1 - (pl.col('is_article_default').sum() / pl.col('NumArticlesHistory').first())).alias('PctNotDefaultArticles'),\n",
    "            pl.col('category').mode().alias('MostFrequentCategory'),\n",
    "            pl.col('weekday').mode().alias('MostFrequentWeekday'),\n",
    "            pl.col('hour').mode().alias('MostFrequentHour'),\n",
    "            pl.col('entity_groups').flatten(),\n",
    "            pl.col('topics').flatten().alias('topics_flatten')\n",
    "        ).pipe(add_topics_tf_idf_columns, topics_col='topics_flatten', vectorizer=vectorizer) \\\n",
    "        .drop('topics_flatten').with_columns(\n",
    "            pl.col('MostFrequentCategory').list.first(),\n",
    "            pl.col('MostFrequentWeekday').list.first(),\n",
    "            pl.col('MostFrequentHour').list.first(),\n",
    "        ).with_columns(\n",
    "            (pl.col('entity_groups').list.count_matches(entity) / pl.col('NumArticlesHistory')).alias(f'{entity}Pct')\n",
    "            for entity in unique_entities\n",
    "        ).drop('entity_groups')\n",
    "    for rows in tqdm.tqdm(history_train.iter_slices(1000), total=history_train.shape[0] // 1000)\n",
    ")\n",
    "\n",
    "gc.collect()\n",
    "PrintColor(f\"\\n\" + GetMemUsage(), color = Fore.RED)\n",
    "history_train = reduce_polars_df_memory_size(history_train)\n",
    "history_train.head(2)"
   ]
  },
  {
   "cell_type": "code",
   "execution_count": 18,
   "id": "aad25523",
   "metadata": {
    "execution": {
     "iopub.execute_input": "2024-04-14T15:51:41.022058Z",
     "iopub.status.busy": "2024-04-14T15:51:41.021716Z",
     "iopub.status.idle": "2024-04-14T15:51:41.027579Z",
     "shell.execute_reply": "2024-04-14T15:51:41.026729Z"
    },
    "papermill": {
     "duration": 0.029261,
     "end_time": "2024-04-14T15:51:41.029182",
     "exception": false,
     "start_time": "2024-04-14T15:51:40.999921",
     "status": "completed"
    },
    "tags": []
   },
   "outputs": [
    {
     "data": {
      "text/plain": [
       "(15143, 27)"
      ]
     },
     "execution_count": 18,
     "metadata": {},
     "output_type": "execute_result"
    }
   ],
   "source": [
    "history_train.shape"
   ]
  },
  {
   "cell_type": "markdown",
   "id": "26b39767",
   "metadata": {
    "papermill": {
     "duration": 0.019489,
     "end_time": "2024-04-14T15:51:41.068899",
     "exception": false,
     "start_time": "2024-04-14T15:51:41.049410",
     "status": "completed"
    },
    "tags": []
   },
   "source": [
    "# Named entity collaborative filtering"
   ]
  },
  {
   "cell_type": "code",
   "execution_count": 19,
   "id": "5e0ac42c",
   "metadata": {
    "execution": {
     "iopub.execute_input": "2024-04-14T15:51:41.110465Z",
     "iopub.status.busy": "2024-04-14T15:51:41.109903Z",
     "iopub.status.idle": "2024-04-14T15:51:41.180014Z",
     "shell.execute_reply": "2024-04-14T15:51:41.178739Z"
    },
    "papermill": {
     "duration": 0.09366,
     "end_time": "2024-04-14T15:51:41.182480",
     "exception": false,
     "start_time": "2024-04-14T15:51:41.088820",
     "status": "completed"
    },
    "tags": []
   },
   "outputs": [],
   "source": [
    "user_id_mapping = history_train.sort('user_id').with_row_index() \\\n",
    "    .select(['index', 'user_id']).rename({'index': 'user_index'})\n",
    "\n",
    "ner_mapping = articles.select(['ner_clusters']) \\\n",
    "    .explode('ner_clusters') \\\n",
    "    .rename({'ner_clusters': 'ner'}) \\\n",
    "    .with_columns(pl.col('ner').str.strip_chars_start('\\\" ').str.to_lowercase()) \\\n",
    "    .unique('ner').drop_nulls().filter(pl.col('ner').str.len_chars() > 0) \\\n",
    "    .sort('ner').with_row_index().rename({'index': 'ner_index'})"
   ]
  },
  {
   "cell_type": "code",
   "execution_count": 20,
   "id": "ab163f68",
   "metadata": {
    "execution": {
     "iopub.execute_input": "2024-04-14T15:51:41.224790Z",
     "iopub.status.busy": "2024-04-14T15:51:41.224039Z",
     "iopub.status.idle": "2024-04-14T15:51:41.229398Z",
     "shell.execute_reply": "2024-04-14T15:51:41.228756Z"
    },
    "papermill": {
     "duration": 0.027827,
     "end_time": "2024-04-14T15:51:41.230943",
     "exception": false,
     "start_time": "2024-04-14T15:51:41.203116",
     "status": "completed"
    },
    "tags": []
   },
   "outputs": [
    {
     "data": {
      "text/plain": [
       "(43774, 2)"
      ]
     },
     "execution_count": 20,
     "metadata": {},
     "output_type": "execute_result"
    }
   ],
   "source": [
    "ner_mapping.shape"
   ]
  },
  {
   "cell_type": "code",
   "execution_count": 21,
   "id": "5c0fe84e",
   "metadata": {
    "execution": {
     "iopub.execute_input": "2024-04-14T15:51:41.273373Z",
     "iopub.status.busy": "2024-04-14T15:51:41.272264Z",
     "iopub.status.idle": "2024-04-14T15:51:51.565421Z",
     "shell.execute_reply": "2024-04-14T15:51:51.564751Z"
    },
    "papermill": {
     "duration": 10.316227,
     "end_time": "2024-04-14T15:51:51.567444",
     "exception": false,
     "start_time": "2024-04-14T15:51:41.251217",
     "status": "completed"
    },
    "tags": []
   },
   "outputs": [],
   "source": [
    "ner_interactions = history_train.select(['user_id', 'article_id_fixed']).explode('article_id_fixed') \\\n",
    "    .join(articles.select(['article_id', 'ner_clusters']), left_on='article_id_fixed', right_on='article_id', how='left') \\\n",
    "    .explode('ner_clusters').unique(['user_id', 'ner_clusters']) \\\n",
    "    .with_columns(pl.col('ner_clusters').str.strip_chars_start('\\\" ').str.to_lowercase()) \\\n",
    "    .join(user_id_mapping, on='user_id', how='left') \\\n",
    "    .join(ner_mapping, left_on='ner_clusters', right_on='ner') \\\n",
    "    .select(['user_index', 'ner_index', 'user_id', 'article_id_fixed']) \\\n",
    "    .unique(['user_index', 'ner_index'])\n",
    "\n",
    "URM_ner = sps.csr_matrix((np.ones(ner_interactions.shape[0]),\n",
    "                          (ner_interactions['user_index'].to_numpy(), ner_interactions['ner_index'].to_numpy())),\n",
    "                         shape=(user_id_mapping.shape[0], ner_mapping.shape[0]))\n",
    "\n",
    "ner_interactions_test = behaviors_train.select(['user_id', 'article_ids_clicked']).explode('article_ids_clicked') \\\n",
    "    .join(articles.select(['article_id', 'ner_clusters']), left_on='article_ids_clicked', right_on='article_id', how='left') \\\n",
    "    .explode('ner_clusters').unique(['user_id', 'ner_clusters']) \\\n",
    "    .with_columns(pl.col('ner_clusters').str.strip_chars_start('\\\" ').str.to_lowercase()) \\\n",
    "    .join(user_id_mapping, on='user_id', how='left') \\\n",
    "    .join(ner_mapping, left_on='ner_clusters', right_on='ner') \\\n",
    "    .select(['user_index', 'ner_index', 'user_id', 'article_ids_clicked']) \\\n",
    "    .unique(['user_index', 'ner_index'])\n",
    "\n",
    "URM_ner_test = sps.csr_matrix((np.ones(ner_interactions_test.shape[0]),\n",
    "                               (ner_interactions_test['user_index'].to_numpy(), ner_interactions_test['ner_index'].to_numpy())),\n",
    "                              shape=(user_id_mapping.shape[0], ner_mapping.shape[0]))"
   ]
  },
  {
   "cell_type": "code",
   "execution_count": 22,
   "id": "53ff0e58",
   "metadata": {
    "execution": {
     "iopub.execute_input": "2024-04-14T15:51:51.609344Z",
     "iopub.status.busy": "2024-04-14T15:51:51.608677Z",
     "iopub.status.idle": "2024-04-14T15:51:51.614150Z",
     "shell.execute_reply": "2024-04-14T15:51:51.613208Z"
    },
    "papermill": {
     "duration": 0.028265,
     "end_time": "2024-04-14T15:51:51.615977",
     "exception": false,
     "start_time": "2024-04-14T15:51:51.587712",
     "status": "completed"
    },
    "tags": []
   },
   "outputs": [
    {
     "name": "stdout",
     "output_type": "stream",
     "text": [
      "/kaggle/working/RecSysChallenge2024/src/RecSys_Course_AT_PoliMi\n"
     ]
    }
   ],
   "source": [
    "%cd RecSys_Course_AT_PoliMi"
   ]
  },
  {
   "cell_type": "code",
   "execution_count": 23,
   "id": "fd625b52",
   "metadata": {
    "execution": {
     "iopub.execute_input": "2024-04-14T15:51:51.659951Z",
     "iopub.status.busy": "2024-04-14T15:51:51.659604Z",
     "iopub.status.idle": "2024-04-14T15:55:04.408095Z",
     "shell.execute_reply": "2024-04-14T15:55:04.407114Z"
    },
    "papermill": {
     "duration": 192.773008,
     "end_time": "2024-04-14T15:55:04.409897",
     "exception": false,
     "start_time": "2024-04-14T15:51:51.636889",
     "status": "completed"
    },
    "tags": []
   },
   "outputs": [
    {
     "name": "stdout",
     "output_type": "stream",
     "text": [
      "[Errno 2] No such file or directory: '/kaggle/working/RecSys_Course_AT_PoliMi'\n",
      "/kaggle/working/RecSysChallenge2024/src/RecSys_Course_AT_PoliMi\n",
      "ItemKNNCFRecommender: URM Detected 1 ( 0.0%) users with no interactions.\n",
      "ItemKNNCFRecommender: URM Detected 18909 (43.2%) items with no interactions.\n",
      "Unable to load Cython Compute_Similarity, reverting to Python\n",
      "Similarity column 43774 (100.0%), 277.88 column/sec. Elapsed time 2.63 min\n",
      "EvaluatorHoldout: Ignoring 31 ( 0.2%) Users that have less than 1 test interactions\n",
      "EvaluatorHoldout: Processed 15112 (100.0%) in 34.42 sec. Users per second: 439\n"
     ]
    },
    {
     "data": {
      "text/html": [
       "<div>\n",
       "<style scoped>\n",
       "    .dataframe tbody tr th:only-of-type {\n",
       "        vertical-align: middle;\n",
       "    }\n",
       "\n",
       "    .dataframe tbody tr th {\n",
       "        vertical-align: top;\n",
       "    }\n",
       "\n",
       "    .dataframe thead th {\n",
       "        text-align: right;\n",
       "    }\n",
       "</style>\n",
       "<table border=\"1\" class=\"dataframe\">\n",
       "  <thead>\n",
       "    <tr style=\"text-align: right;\">\n",
       "      <th></th>\n",
       "      <th>PRECISION</th>\n",
       "      <th>PRECISION_RECALL_MIN_DEN</th>\n",
       "      <th>RECALL</th>\n",
       "      <th>MAP</th>\n",
       "      <th>MAP_MIN_DEN</th>\n",
       "      <th>MRR</th>\n",
       "      <th>NDCG</th>\n",
       "      <th>F1</th>\n",
       "      <th>HIT_RATE</th>\n",
       "      <th>ARHR_ALL_HITS</th>\n",
       "      <th>...</th>\n",
       "      <th>COVERAGE_USER</th>\n",
       "      <th>COVERAGE_USER_HIT</th>\n",
       "      <th>USERS_IN_GT</th>\n",
       "      <th>DIVERSITY_GINI</th>\n",
       "      <th>SHANNON_ENTROPY</th>\n",
       "      <th>RATIO_DIVERSITY_HERFINDAHL</th>\n",
       "      <th>RATIO_DIVERSITY_GINI</th>\n",
       "      <th>RATIO_SHANNON_ENTROPY</th>\n",
       "      <th>RATIO_AVERAGE_POPULARITY</th>\n",
       "      <th>RATIO_NOVELTY</th>\n",
       "    </tr>\n",
       "    <tr>\n",
       "      <th>cutoff</th>\n",
       "      <th></th>\n",
       "      <th></th>\n",
       "      <th></th>\n",
       "      <th></th>\n",
       "      <th></th>\n",
       "      <th></th>\n",
       "      <th></th>\n",
       "      <th></th>\n",
       "      <th></th>\n",
       "      <th></th>\n",
       "      <th></th>\n",
       "      <th></th>\n",
       "      <th></th>\n",
       "      <th></th>\n",
       "      <th></th>\n",
       "      <th></th>\n",
       "      <th></th>\n",
       "      <th></th>\n",
       "      <th></th>\n",
       "      <th></th>\n",
       "      <th></th>\n",
       "    </tr>\n",
       "  </thead>\n",
       "  <tbody>\n",
       "    <tr>\n",
       "      <th>10</th>\n",
       "      <td>0.311971</td>\n",
       "      <td>0.312913</td>\n",
       "      <td>0.030088</td>\n",
       "      <td>0.214433</td>\n",
       "      <td>0.214676</td>\n",
       "      <td>0.469902</td>\n",
       "      <td>0.319612</td>\n",
       "      <td>0.054883</td>\n",
       "      <td>0.766609</td>\n",
       "      <td>0.953152</td>\n",
       "      <td>...</td>\n",
       "      <td>0.997953</td>\n",
       "      <td>0.76504</td>\n",
       "      <td>0.997953</td>\n",
       "      <td>0.002086</td>\n",
       "      <td>5.362616</td>\n",
       "      <td>0.952586</td>\n",
       "      <td>0.016842</td>\n",
       "      <td>0.419597</td>\n",
       "      <td>3.357942</td>\n",
       "      <td>0.009295</td>\n",
       "    </tr>\n",
       "  </tbody>\n",
       "</table>\n",
       "<p>1 rows × 27 columns</p>\n",
       "</div>"
      ],
      "text/plain": [
       "       PRECISION PRECISION_RECALL_MIN_DEN    RECALL       MAP MAP_MIN_DEN  \\\n",
       "cutoff                                                                      \n",
       "10      0.311971                 0.312913  0.030088  0.214433    0.214676   \n",
       "\n",
       "             MRR      NDCG        F1  HIT_RATE ARHR_ALL_HITS  ...  \\\n",
       "cutoff                                                        ...   \n",
       "10      0.469902  0.319612  0.054883  0.766609      0.953152  ...   \n",
       "\n",
       "       COVERAGE_USER COVERAGE_USER_HIT USERS_IN_GT DIVERSITY_GINI  \\\n",
       "cutoff                                                              \n",
       "10          0.997953           0.76504    0.997953       0.002086   \n",
       "\n",
       "       SHANNON_ENTROPY RATIO_DIVERSITY_HERFINDAHL RATIO_DIVERSITY_GINI  \\\n",
       "cutoff                                                                   \n",
       "10            5.362616                   0.952586             0.016842   \n",
       "\n",
       "       RATIO_SHANNON_ENTROPY RATIO_AVERAGE_POPULARITY RATIO_NOVELTY  \n",
       "cutoff                                                               \n",
       "10                  0.419597                 3.357942      0.009295  \n",
       "\n",
       "[1 rows x 27 columns]"
      ]
     },
     "execution_count": 23,
     "metadata": {},
     "output_type": "execute_result"
    }
   ],
   "source": [
    "%cd /kaggle/working/RecSys_Course_AT_PoliMi\n",
    "\n",
    "from Recommenders.SLIM.SLIMElasticNetRecommender import SLIMElasticNetRecommender\n",
    "from Recommenders.KNN.ItemKNNCFRecommender import ItemKNNCFRecommender\n",
    "from Recommenders.MatrixFactorization.PureSVDRecommender import PureSVDRecommender\n",
    "from Evaluation.Evaluator import EvaluatorHoldout\n",
    "\n",
    "np.int = int\n",
    "np.random.seed(42)\n",
    "np.bool = bool\n",
    "np.float = float\n",
    "\n",
    "item_knn = ItemKNNCFRecommender(URM_ner)\n",
    "item_knn.fit(topK=100, similarity='jaccard')\n",
    "\n",
    "evaluator = EvaluatorHoldout(URM_ner_test, cutoff_list=[10], exclude_seen=False)\n",
    "result_df, _ = evaluator.evaluateRecommender(item_knn)\n",
    "result_df"
   ]
  },
  {
   "cell_type": "code",
   "execution_count": 24,
   "id": "a239412b",
   "metadata": {
    "execution": {
     "iopub.execute_input": "2024-04-14T15:55:04.454682Z",
     "iopub.status.busy": "2024-04-14T15:55:04.454360Z",
     "iopub.status.idle": "2024-04-14T15:55:24.250273Z",
     "shell.execute_reply": "2024-04-14T15:55:24.249471Z"
    },
    "papermill": {
     "duration": 19.820597,
     "end_time": "2024-04-14T15:55:24.252367",
     "exception": false,
     "start_time": "2024-04-14T15:55:04.431770",
     "status": "completed"
    },
    "tags": []
   },
   "outputs": [
    {
     "name": "stdout",
     "output_type": "stream",
     "text": [
      "PureSVDRecommender: URM Detected 1 ( 0.0%) users with no interactions.\n",
      "PureSVDRecommender: URM Detected 18909 (43.2%) items with no interactions.\n",
      "PureSVDRecommender: Computing SVD decomposition...\n",
      "PureSVDRecommender: Computing SVD decomposition... done in 3.55 sec\n",
      "EvaluatorHoldout: Processed 15112 (100.0%) in 15.98 sec. Users per second: 946\n"
     ]
    },
    {
     "data": {
      "text/html": [
       "<div>\n",
       "<style scoped>\n",
       "    .dataframe tbody tr th:only-of-type {\n",
       "        vertical-align: middle;\n",
       "    }\n",
       "\n",
       "    .dataframe tbody tr th {\n",
       "        vertical-align: top;\n",
       "    }\n",
       "\n",
       "    .dataframe thead th {\n",
       "        text-align: right;\n",
       "    }\n",
       "</style>\n",
       "<table border=\"1\" class=\"dataframe\">\n",
       "  <thead>\n",
       "    <tr style=\"text-align: right;\">\n",
       "      <th></th>\n",
       "      <th>PRECISION</th>\n",
       "      <th>PRECISION_RECALL_MIN_DEN</th>\n",
       "      <th>RECALL</th>\n",
       "      <th>MAP</th>\n",
       "      <th>MAP_MIN_DEN</th>\n",
       "      <th>MRR</th>\n",
       "      <th>NDCG</th>\n",
       "      <th>F1</th>\n",
       "      <th>HIT_RATE</th>\n",
       "      <th>ARHR_ALL_HITS</th>\n",
       "      <th>...</th>\n",
       "      <th>COVERAGE_USER</th>\n",
       "      <th>COVERAGE_USER_HIT</th>\n",
       "      <th>USERS_IN_GT</th>\n",
       "      <th>DIVERSITY_GINI</th>\n",
       "      <th>SHANNON_ENTROPY</th>\n",
       "      <th>RATIO_DIVERSITY_HERFINDAHL</th>\n",
       "      <th>RATIO_DIVERSITY_GINI</th>\n",
       "      <th>RATIO_SHANNON_ENTROPY</th>\n",
       "      <th>RATIO_AVERAGE_POPULARITY</th>\n",
       "      <th>RATIO_NOVELTY</th>\n",
       "    </tr>\n",
       "    <tr>\n",
       "      <th>cutoff</th>\n",
       "      <th></th>\n",
       "      <th></th>\n",
       "      <th></th>\n",
       "      <th></th>\n",
       "      <th></th>\n",
       "      <th></th>\n",
       "      <th></th>\n",
       "      <th></th>\n",
       "      <th></th>\n",
       "      <th></th>\n",
       "      <th></th>\n",
       "      <th></th>\n",
       "      <th></th>\n",
       "      <th></th>\n",
       "      <th></th>\n",
       "      <th></th>\n",
       "      <th></th>\n",
       "      <th></th>\n",
       "      <th></th>\n",
       "      <th></th>\n",
       "      <th></th>\n",
       "    </tr>\n",
       "  </thead>\n",
       "  <tbody>\n",
       "    <tr>\n",
       "      <th>10</th>\n",
       "      <td>0.342642</td>\n",
       "      <td>0.345154</td>\n",
       "      <td>0.04867</td>\n",
       "      <td>0.261772</td>\n",
       "      <td>0.263218</td>\n",
       "      <td>0.670427</td>\n",
       "      <td>0.39227</td>\n",
       "      <td>0.085232</td>\n",
       "      <td>0.858655</td>\n",
       "      <td>1.275611</td>\n",
       "      <td>...</td>\n",
       "      <td>0.997953</td>\n",
       "      <td>0.856898</td>\n",
       "      <td>0.997953</td>\n",
       "      <td>0.001871</td>\n",
       "      <td>5.929584</td>\n",
       "      <td>0.95823</td>\n",
       "      <td>0.015105</td>\n",
       "      <td>0.463959</td>\n",
       "      <td>3.324192</td>\n",
       "      <td>0.009294</td>\n",
       "    </tr>\n",
       "  </tbody>\n",
       "</table>\n",
       "<p>1 rows × 27 columns</p>\n",
       "</div>"
      ],
      "text/plain": [
       "       PRECISION PRECISION_RECALL_MIN_DEN   RECALL       MAP MAP_MIN_DEN  \\\n",
       "cutoff                                                                     \n",
       "10      0.342642                 0.345154  0.04867  0.261772    0.263218   \n",
       "\n",
       "             MRR     NDCG        F1  HIT_RATE ARHR_ALL_HITS  ...  \\\n",
       "cutoff                                                       ...   \n",
       "10      0.670427  0.39227  0.085232  0.858655      1.275611  ...   \n",
       "\n",
       "       COVERAGE_USER COVERAGE_USER_HIT USERS_IN_GT DIVERSITY_GINI  \\\n",
       "cutoff                                                              \n",
       "10          0.997953          0.856898    0.997953       0.001871   \n",
       "\n",
       "       SHANNON_ENTROPY RATIO_DIVERSITY_HERFINDAHL RATIO_DIVERSITY_GINI  \\\n",
       "cutoff                                                                   \n",
       "10            5.929584                    0.95823             0.015105   \n",
       "\n",
       "       RATIO_SHANNON_ENTROPY RATIO_AVERAGE_POPULARITY RATIO_NOVELTY  \n",
       "cutoff                                                               \n",
       "10                  0.463959                 3.324192      0.009294  \n",
       "\n",
       "[1 rows x 27 columns]"
      ]
     },
     "execution_count": 24,
     "metadata": {},
     "output_type": "execute_result"
    }
   ],
   "source": [
    "pure_svd = PureSVDRecommender(URM_ner)\n",
    "pure_svd.fit(num_factors=20)\n",
    "\n",
    "result_df, _ = evaluator.evaluateRecommender(pure_svd)\n",
    "result_df"
   ]
  },
  {
   "cell_type": "code",
   "execution_count": 25,
   "id": "b20fb4c2",
   "metadata": {
    "execution": {
     "iopub.execute_input": "2024-04-14T15:55:24.295984Z",
     "iopub.status.busy": "2024-04-14T15:55:24.295647Z",
     "iopub.status.idle": "2024-04-14T15:56:27.723772Z",
     "shell.execute_reply": "2024-04-14T15:56:27.722838Z"
    },
    "papermill": {
     "duration": 63.467429,
     "end_time": "2024-04-14T15:56:27.741215",
     "exception": false,
     "start_time": "2024-04-14T15:55:24.273786",
     "status": "completed"
    },
    "tags": []
   },
   "outputs": [
    {
     "name": "stdout",
     "output_type": "stream",
     "text": [
      "CPU times: user 1min 47s, sys: 2min 6s, total: 3min 53s\n",
      "Wall time: 1min 3s\n"
     ]
    },
    {
     "data": {
      "text/html": [
       "<div><style>\n",
       ".dataframe > thead > tr,\n",
       ".dataframe > tbody > tr {\n",
       "  text-align: right;\n",
       "  white-space: pre-wrap;\n",
       "}\n",
       "</style>\n",
       "<small>shape: (5, 8)</small><table border=\"1\" class=\"dataframe\"><thead><tr><th>impression_id</th><th>article</th><th>total_ner_svd_scores</th><th>mean_ner_svd_scores</th><th>max_ner_svd_scores</th><th>total_ner_item_knn_scores</th><th>mean_ner_item_knn_scores</th><th>max_ner_item_knn_scores</th></tr><tr><td>u32</td><td>i32</td><td>f32</td><td>f32</td><td>f32</td><td>f32</td><td>f32</td><td>f32</td></tr></thead><tbody><tr><td>547493010</td><td>9775331</td><td>0.162051</td><td>0.648202</td><td>0.788581</td><td>0.15479</td><td>0.61916</td><td>0.762809</td></tr><tr><td>518143310</td><td>9746360</td><td>0.856088</td><td>0.110434</td><td>0.632399</td><td>0.80426</td><td>0.110536</td><td>0.685654</td></tr><tr><td>36210880</td><td>7213923</td><td>0.0</td><td>0.0</td><td>0.0</td><td>0.0</td><td>0.0</td><td>0.0</td></tr><tr><td>218589428</td><td>9774376</td><td>0.005849</td><td>0.017548</td><td>0.015409</td><td>0.071486</td><td>0.16683</td><td>0.128685</td></tr><tr><td>109329227</td><td>9775800</td><td>0.065173</td><td>0.137588</td><td>0.450525</td><td>0.046366</td><td>0.097884</td><td>0.370222</td></tr></tbody></table></div>"
      ],
      "text/plain": [
       "shape: (5, 8)\n",
       "┌────────────┬─────────┬────────────┬────────────┬────────────┬────────────┬───────────┬───────────┐\n",
       "│ impression ┆ article ┆ total_ner_ ┆ mean_ner_s ┆ max_ner_sv ┆ total_ner_ ┆ mean_ner_ ┆ max_ner_i │\n",
       "│ _id        ┆ ---     ┆ svd_scores ┆ vd_scores  ┆ d_scores   ┆ item_knn_s ┆ item_knn_ ┆ tem_knn_s │\n",
       "│ ---        ┆ i32     ┆ ---        ┆ ---        ┆ ---        ┆ cores      ┆ scores    ┆ cores     │\n",
       "│ u32        ┆         ┆ f32        ┆ f32        ┆ f32        ┆ ---        ┆ ---       ┆ ---       │\n",
       "│            ┆         ┆            ┆            ┆            ┆ f32        ┆ f32       ┆ f32       │\n",
       "╞════════════╪═════════╪════════════╪════════════╪════════════╪════════════╪═══════════╪═══════════╡\n",
       "│ 547493010  ┆ 9775331 ┆ 0.162051   ┆ 0.648202   ┆ 0.788581   ┆ 0.15479    ┆ 0.61916   ┆ 0.762809  │\n",
       "│ 518143310  ┆ 9746360 ┆ 0.856088   ┆ 0.110434   ┆ 0.632399   ┆ 0.80426    ┆ 0.110536  ┆ 0.685654  │\n",
       "│ 36210880   ┆ 7213923 ┆ 0.0        ┆ 0.0        ┆ 0.0        ┆ 0.0        ┆ 0.0       ┆ 0.0       │\n",
       "│ 218589428  ┆ 9774376 ┆ 0.005849   ┆ 0.017548   ┆ 0.015409   ┆ 0.071486   ┆ 0.16683   ┆ 0.128685  │\n",
       "│ 109329227  ┆ 9775800 ┆ 0.065173   ┆ 0.137588   ┆ 0.450525   ┆ 0.046366   ┆ 0.097884  ┆ 0.370222  │\n",
       "└────────────┴─────────┴────────────┴────────────┴────────────┴────────────┴───────────┴───────────┘"
      ]
     },
     "execution_count": 25,
     "metadata": {},
     "output_type": "execute_result"
    }
   ],
   "source": [
    "%%time\n",
    "\n",
    "def get_inview_scores(user_ners_df, recommender, f_name):\n",
    "    user_index = user_ners_df['user_index'].to_list()[0]\n",
    "    ners = user_ners_df['ner_index'].to_numpy()\n",
    "    scores = recommender._compute_item_score([user_index], ners)[0, ners]\n",
    "    return user_ners_df.with_columns(\n",
    "        pl.Series(scores).alias(f_name)\n",
    "    )\n",
    "\n",
    "ner_inview_scores = behaviors_train.select(['user_id', 'article_ids_inview']).explode('article_ids_inview') \\\n",
    "    .join(articles.select(['article_id', 'ner_clusters']), left_on='article_ids_inview', right_on='article_id', how='left') \\\n",
    "    .explode('ner_clusters').unique(['user_id', 'ner_clusters']) \\\n",
    "    .with_columns(pl.col('ner_clusters').str.strip_chars_start('\\\" ').str.to_lowercase()) \\\n",
    "    .join(user_id_mapping, on='user_id', how='left') \\\n",
    "    .join(ner_mapping, left_on='ner_clusters', right_on='ner') \\\n",
    "    .select(['user_index', 'ner_index', 'user_id', 'article_ids_inview']) \\\n",
    "    .unique(['user_index', 'ner_index']) \\\n",
    "    .sort(['user_index', 'ner_index']).group_by('user_index').map_groups(\n",
    "        lambda user_df: user_df.pipe(get_inview_scores, recommender=pure_svd, f_name='pure_svd_scores') \\\n",
    "            .pipe(get_inview_scores, recommender=item_knn, f_name='item_knn_scores')\n",
    "    )\n",
    "\n",
    "behaviors_ner_scores = behaviors_train.select(['impression_id', 'user_id', 'article_ids_inview']).explode('article_ids_inview') \\\n",
    "    .join(ner_inview_scores, on=['user_id', 'article_ids_inview'], how='left') \\\n",
    "    .with_columns(pl.col(['pure_svd_scores', 'item_knn_scores']).fill_null(0)) \\\n",
    "    .group_by(['impression_id', 'article_ids_inview']).agg(\n",
    "        pl.col('pure_svd_scores').sum().alias('total_ner_svd_scores'),\n",
    "        pl.col('pure_svd_scores').mean().alias('mean_ner_svd_scores'),\n",
    "        pl.col('pure_svd_scores').max().alias('max_ner_svd_scores'),\n",
    "        pl.col('item_knn_scores').sum().alias('total_ner_item_knn_scores'),\n",
    "        pl.col('item_knn_scores').mean().alias('mean_ner_item_knn_scores'),\n",
    "        pl.col('item_knn_scores').max().alias('max_ner_item_knn_scores'),\n",
    "    ).with_columns(\n",
    "        pl.col(['total_ner_svd_scores', 'mean_ner_svd_scores', \n",
    "                'total_ner_item_knn_scores', 'mean_ner_item_knn_scores',\n",
    "                'max_ner_svd_scores', 'max_ner_item_knn_scores']).max().over('impression_id').name.suffix('_max')\n",
    "    ).with_columns(\n",
    "        # l1 normalization\n",
    "        pl.col('total_ner_svd_scores').truediv(pl.col('total_ner_svd_scores_max')),\n",
    "        pl.col('mean_ner_svd_scores').truediv(pl.col('mean_ner_svd_scores_max')),\n",
    "        pl.col('max_ner_svd_scores').truediv(pl.col('max_ner_svd_scores_max')),\n",
    "        pl.col('total_ner_item_knn_scores').truediv(pl.col('total_ner_item_knn_scores_max')),\n",
    "        pl.col('mean_ner_item_knn_scores').truediv(pl.col('mean_ner_item_knn_scores_max')),\n",
    "        pl.col('max_ner_item_knn_scores').truediv(pl.col('max_ner_item_knn_scores_max')),\n",
    "    ).drop(['total_ner_svd_scores_max', 'mean_ner_svd_scores_max', \n",
    "            'max_ner_svd_scores_max', 'total_ner_item_knn_scores_max',\n",
    "            'mean_ner_item_knn_scores_max', 'max_ner_item_knn_scores_max']) \\\n",
    "    .rename({'article_ids_inview': 'article'})\n",
    "behaviors_ner_scores.head(5)"
   ]
  },
  {
   "cell_type": "code",
   "execution_count": 26,
   "id": "6b4111e4",
   "metadata": {
    "execution": {
     "iopub.execute_input": "2024-04-14T15:56:27.784596Z",
     "iopub.status.busy": "2024-04-14T15:56:27.784054Z",
     "iopub.status.idle": "2024-04-14T15:56:27.789182Z",
     "shell.execute_reply": "2024-04-14T15:56:27.788174Z"
    },
    "papermill": {
     "duration": 0.02892,
     "end_time": "2024-04-14T15:56:27.790945",
     "exception": false,
     "start_time": "2024-04-14T15:56:27.762025",
     "status": "completed"
    },
    "tags": []
   },
   "outputs": [
    {
     "name": "stdout",
     "output_type": "stream",
     "text": [
      "(2585747, 8)\n",
      "(13017188, 6)\n"
     ]
    }
   ],
   "source": [
    "print(behaviors_ner_scores.shape)\n",
    "print(ner_inview_scores.shape)"
   ]
  },
  {
   "cell_type": "markdown",
   "id": "4d2e16cd",
   "metadata": {
    "papermill": {
     "duration": 0.020574,
     "end_time": "2024-04-14T15:56:27.832922",
     "exception": false,
     "start_time": "2024-04-14T15:56:27.812348",
     "status": "completed"
    },
    "tags": []
   },
   "source": [
    "# Creating Training Dataframe"
   ]
  },
  {
   "cell_type": "code",
   "execution_count": 27,
   "id": "e6089db3",
   "metadata": {
    "execution": {
     "iopub.execute_input": "2024-04-14T15:56:27.877171Z",
     "iopub.status.busy": "2024-04-14T15:56:27.876164Z",
     "iopub.status.idle": "2024-04-14T15:57:12.194744Z",
     "shell.execute_reply": "2024-04-14T15:57:12.193944Z"
    },
    "papermill": {
     "duration": 44.35841,
     "end_time": "2024-04-14T15:57:12.212405",
     "exception": false,
     "start_time": "2024-04-14T15:56:27.853995",
     "status": "completed"
    },
    "tags": []
   },
   "outputs": [
    {
     "name": "stdout",
     "output_type": "stream",
     "text": [
      "\u001b[1m\u001b[31m\n",
      "RAM memory GB usage = 2.164\u001b[0m\n",
      "Memory usage of dataframe is 110.29 MB\n",
      "Memory usage after optimization is: 83.61 MB\n",
      "Decreased by 24.2%\n",
      "\u001b[1m\u001b[31m\n",
      "RAM memory GB usage = 2.151\u001b[0m\n",
      "CPU times: user 2min 18s, sys: 4.86 s, total: 2min 23s\n",
      "Wall time: 44.3 s\n"
     ]
    },
    {
     "data": {
      "text/html": [
       "<div><style>\n",
       ".dataframe > thead > tr,\n",
       ".dataframe > tbody > tr {\n",
       "  text-align: right;\n",
       "  white-space: pre-wrap;\n",
       "}\n",
       "</style>\n",
       "<small>shape: (5, 45)</small><table border=\"1\" class=\"dataframe\"><thead><tr><th>impression_id</th><th>article</th><th>user_id</th><th>impression_time</th><th>target</th><th>device_type</th><th>read_time</th><th>scroll_percentage</th><th>is_sso_user</th><th>gender</th><th>age</th><th>is_subscriber</th><th>session_id</th><th>mean_topics_mean_delay_days</th><th>mean_topics_mean_delay_hours</th><th>user_mean_delay_days</th><th>user_mean_delay_hours</th><th>trendiness_score</th><th>mean_user_trendiness_score</th><th>mean_topics_trendiness_score</th><th>weekday</th><th>hour</th><th>premium</th><th>published_time</th><th>category</th><th>sentiment_score</th><th>sentiment_label</th><th>num_images</th><th>title_len</th><th>subtitle_len</th><th>body_len</th><th>article_delay_days</th><th>article_delay_hours</th><th>Entity_ORG_Present</th><th>Entity_PROD_Present</th><th>Entity_LOC_Present</th><th>Entity_EVENT_Present</th><th>Entity_MISC_Present</th><th>Entity_PER_Present</th><th>total_ner_svd_scores</th><th>mean_ner_svd_scores</th><th>max_ner_svd_scores</th><th>total_ner_item_knn_scores</th><th>mean_ner_item_knn_scores</th><th>max_ner_item_knn_scores</th></tr><tr><td>u32</td><td>i32</td><td>u32</td><td>datetime[μs]</td><td>i8</td><td>i8</td><td>f32</td><td>f32</td><td>bool</td><td>i8</td><td>i8</td><td>bool</td><td>u32</td><td>f32</td><td>f32</td><td>f32</td><td>f32</td><td>i16</td><td>f32</td><td>f32</td><td>i8</td><td>i8</td><td>bool</td><td>datetime[μs]</td><td>i16</td><td>f32</td><td>str</td><td>u32</td><td>u8</td><td>u8</td><td>u16</td><td>i16</td><td>i32</td><td>bool</td><td>bool</td><td>bool</td><td>bool</td><td>bool</td><td>bool</td><td>f32</td><td>f32</td><td>f32</td><td>f32</td><td>f32</td><td>f32</td></tr></thead><tbody><tr><td>215261649</td><td>9775699</td><td>1013010</td><td>2023-05-22 08:40:57</td><td>0</td><td>1</td><td>28.0</td><td>null</td><td>false</td><td>2</td><td>null</td><td>false</td><td>1035364</td><td>11.991596</td><td>290.564026</td><td>5.983402</td><td>146.074692</td><td>345</td><td>220.767639</td><td>354.907227</td><td>1</td><td>8</td><td>false</td><td>2023-05-22 07:59:05</td><td>512</td><td>0.6038</td><td>&quot;Positive&quot;</td><td>3</td><td>7</td><td>26</td><td>294</td><td>0</td><td>0</td><td>true</td><td>false</td><td>true</td><td>false</td><td>false</td><td>true</td><td>0.732467</td><td>1.0</td><td>1.0</td><td>0.99081</td><td>1.0</td><td>1.0</td></tr><tr><td>325349348</td><td>9775713</td><td>261053</td><td>2023-05-23 08:35:34</td><td>1</td><td>1</td><td>9.0</td><td>null</td><td>false</td><td>2</td><td>null</td><td>false</td><td>1648598</td><td>3.738029</td><td>92.240929</td><td>0.0</td><td>2.457143</td><td>81</td><td>200.885712</td><td>211.793198</td><td>2</td><td>8</td><td>false</td><td>2023-05-23 07:03:58</td><td>118</td><td>0.9836</td><td>&quot;Negative&quot;</td><td>1</td><td>10</td><td>27</td><td>292</td><td>0</td><td>1</td><td>true</td><td>false</td><td>true</td><td>false</td><td>false</td><td>true</td><td>0.267894</td><td>0.234408</td><td>0.334213</td><td>0.391146</td><td>0.342253</td><td>0.570238</td></tr><tr><td>307485145</td><td>9772858</td><td>908205</td><td>2023-05-19 16:12:17</td><td>0</td><td>2</td><td>19.0</td><td>null</td><td>false</td><td>2</td><td>null</td><td>false</td><td>343441</td><td>2.564983</td><td>63.754803</td><td>0.659864</td><td>20.414967</td><td>40</td><td>198.823135</td><td>122.762947</td><td>5</td><td>16</td><td>false</td><td>2023-05-19 15:38:04</td><td>118</td><td>0.9955</td><td>&quot;Negative&quot;</td><td>1</td><td>4</td><td>12</td><td>258</td><td>0</td><td>0</td><td>true</td><td>false</td><td>true</td><td>false</td><td>false</td><td>true</td><td>-0.007799</td><td>-0.006499</td><td>0.027996</td><td>0.077889</td><td>0.064907</td><td>0.122305</td></tr><tr><td>47215697</td><td>9777043</td><td>1052806</td><td>2023-05-23 09:51:55</td><td>0</td><td>1</td><td>35.0</td><td>100.0</td><td>false</td><td>2</td><td>null</td><td>false</td><td>1600240</td><td>15.11193</td><td>365.576935</td><td>0.041667</td><td>4.083333</td><td>211</td><td>245.458328</td><td>293.239532</td><td>2</td><td>9</td><td>false</td><td>2023-05-23 08:33:48</td><td>414</td><td>0.5112</td><td>&quot;Positive&quot;</td><td>2</td><td>7</td><td>28</td><td>290</td><td>0</td><td>1</td><td>false</td><td>true</td><td>true</td><td>false</td><td>false</td><td>true</td><td>0.031243</td><td>0.059646</td><td>0.247832</td><td>0.043423</td><td>0.082898</td><td>0.462357</td></tr><tr><td>368523321</td><td>9778915</td><td>1092307</td><td>2023-05-24 14:07:31</td><td>1</td><td>1</td><td>9.0</td><td>null</td><td>false</td><td>2</td><td>null</td><td>false</td><td>1817085</td><td>7.899652</td><td>192.236389</td><td>0.123288</td><td>4.712329</td><td>68</td><td>253.938354</td><td>172.481461</td><td>3</td><td>14</td><td>false</td><td>2023-05-24 10:09:44</td><td>512</td><td>0.9679</td><td>&quot;Negative&quot;</td><td>2</td><td>5</td><td>36</td><td>298</td><td>0</td><td>3</td><td>true</td><td>false</td><td>true</td><td>false</td><td>true</td><td>true</td><td>0.514553</td><td>0.659815</td><td>0.715021</td><td>0.196611</td><td>0.265149</td><td>0.2387</td></tr></tbody></table></div>"
      ],
      "text/plain": [
       "shape: (5, 45)\n",
       "┌────────────┬─────────┬─────────┬────────────┬───┬────────────┬───────────┬───────────┬───────────┐\n",
       "│ impression ┆ article ┆ user_id ┆ impression ┆ … ┆ max_ner_sv ┆ total_ner ┆ mean_ner_ ┆ max_ner_i │\n",
       "│ _id        ┆ ---     ┆ ---     ┆ _time      ┆   ┆ d_scores   ┆ _item_knn ┆ item_knn_ ┆ tem_knn_s │\n",
       "│ ---        ┆ i32     ┆ u32     ┆ ---        ┆   ┆ ---        ┆ _scores   ┆ scores    ┆ cores     │\n",
       "│ u32        ┆         ┆         ┆ datetime[μ ┆   ┆ f32        ┆ ---       ┆ ---       ┆ ---       │\n",
       "│            ┆         ┆         ┆ s]         ┆   ┆            ┆ f32       ┆ f32       ┆ f32       │\n",
       "╞════════════╪═════════╪═════════╪════════════╪═══╪════════════╪═══════════╪═══════════╪═══════════╡\n",
       "│ 215261649  ┆ 9775699 ┆ 1013010 ┆ 2023-05-22 ┆ … ┆ 1.0        ┆ 0.99081   ┆ 1.0       ┆ 1.0       │\n",
       "│            ┆         ┆         ┆ 08:40:57   ┆   ┆            ┆           ┆           ┆           │\n",
       "│ 325349348  ┆ 9775713 ┆ 261053  ┆ 2023-05-23 ┆ … ┆ 0.334213   ┆ 0.391146  ┆ 0.342253  ┆ 0.570238  │\n",
       "│            ┆         ┆         ┆ 08:35:34   ┆   ┆            ┆           ┆           ┆           │\n",
       "│ 307485145  ┆ 9772858 ┆ 908205  ┆ 2023-05-19 ┆ … ┆ 0.027996   ┆ 0.077889  ┆ 0.064907  ┆ 0.122305  │\n",
       "│            ┆         ┆         ┆ 16:12:17   ┆   ┆            ┆           ┆           ┆           │\n",
       "│ 47215697   ┆ 9777043 ┆ 1052806 ┆ 2023-05-23 ┆ … ┆ 0.247832   ┆ 0.043423  ┆ 0.082898  ┆ 0.462357  │\n",
       "│            ┆         ┆         ┆ 09:51:55   ┆   ┆            ┆           ┆           ┆           │\n",
       "│ 368523321  ┆ 9778915 ┆ 1092307 ┆ 2023-05-24 ┆ … ┆ 0.715021   ┆ 0.196611  ┆ 0.265149  ┆ 0.2387    │\n",
       "│            ┆         ┆         ┆ 14:07:31   ┆   ┆            ┆           ┆           ┆           │\n",
       "└────────────┴─────────┴─────────┴────────────┴───┴────────────┴───────────┴───────────┴───────────┘"
      ]
     },
     "execution_count": 27,
     "metadata": {},
     "output_type": "execute_result"
    }
   ],
   "source": [
    "%%time\n",
    "\n",
    "NPRATIO = 2\n",
    "\n",
    "# dropping duplicates that can occur because of sampling strategy\n",
    "train_ds = behaviors_train.pipe(sampling_strategy_wu2019, npratio=NPRATIO, shuffle=False, \n",
    "                                with_replacement=True, seed=123) \\\n",
    "    .pipe(create_binary_labels_column, shuffle=True, seed=123) \\\n",
    "    .with_columns(pl.col('gender').fill_null(2)) \\\n",
    "    .select(['impression_id', 'article_ids_inview', 'impression_time', 'labels', \n",
    "             'device_type', 'read_time', 'scroll_percentage', 'user_id', 'is_sso_user', 'gender',\n",
    "             'age', 'is_subscriber', 'session_id']) \\\n",
    "    .explode(['article_ids_inview', 'labels']) \\\n",
    "    .rename({'article_ids_inview': 'article', 'labels': 'target'}) \\\n",
    "    .with_columns(pl.col('article').cast(pl.Int32)) \\\n",
    "    .pipe(add_mean_delays_features, articles=articles, history=history_train) \\\n",
    "    .pipe(add_trendiness_feature, articles=articles, period='3d') \\\n",
    "    .pipe(add_history_trendiness_scores_feature, history=history_train, articles=articles) \\\n",
    "    .unique(['impression_id', 'article']) \\\n",
    "    .with_columns(\n",
    "        pl.col('impression_time').dt.weekday().alias('weekday'),\n",
    "        pl.col('impression_time').dt.hour().alias('hour'),\n",
    "        pl.col('article').cast(pl.Int32),\n",
    "    ).join(articles.select(['article_id', 'premium', 'published_time', 'category',\n",
    "                            'sentiment_score', 'sentiment_label', 'entity_groups',\n",
    "                            'num_images', 'title_len', 'subtitle_len', 'body_len']),\n",
    "           left_on='article', right_on='article_id', how='left') \\\n",
    "    .with_columns(\n",
    "        (pl.col('impression_time') - pl.col('published_time')).dt.total_days().alias('article_delay_days'),\n",
    "        (pl.col('impression_time') - pl.col('published_time')).dt.total_hours().alias('article_delay_hours')\n",
    "    ).with_columns(\n",
    "        pl.col('entity_groups').list.contains(entity).alias(f'Entity_{entity}_Present')\n",
    "        for entity in unique_entities\n",
    "    ).drop('entity_groups') \\\n",
    "    .join(behaviors_ner_scores, on=['impression_id', 'article'], how='left')\\\n",
    "    \n",
    "\n",
    "gc.collect()\n",
    "PrintColor(f\"\\n\" + GetMemUsage(), color = Fore.RED)\n",
    "\n",
    "train_ds = reduce_polars_df_memory_size(train_ds)\n",
    "PrintColor(f\"\\n\" + GetMemUsage(), color = Fore.RED)\n",
    "train_ds.head()"
   ]
  },
  {
   "cell_type": "code",
   "execution_count": 28,
   "id": "89f5afdf",
   "metadata": {
    "execution": {
     "iopub.execute_input": "2024-04-14T15:57:12.255500Z",
     "iopub.status.busy": "2024-04-14T15:57:12.255185Z",
     "iopub.status.idle": "2024-04-14T15:57:12.260102Z",
     "shell.execute_reply": "2024-04-14T15:57:12.259264Z"
    },
    "papermill": {
     "duration": 0.028529,
     "end_time": "2024-04-14T15:57:12.261634",
     "exception": false,
     "start_time": "2024-04-14T15:57:12.233105",
     "status": "completed"
    },
    "tags": []
   },
   "outputs": [
    {
     "data": {
      "text/plain": [
       "(699537, 45)"
      ]
     },
     "execution_count": 28,
     "metadata": {},
     "output_type": "execute_result"
    }
   ],
   "source": [
    "train_ds.shape"
   ]
  },
  {
   "cell_type": "markdown",
   "id": "cd6e5341",
   "metadata": {
    "papermill": {
     "duration": 0.020405,
     "end_time": "2024-04-14T15:57:12.302982",
     "exception": false,
     "start_time": "2024-04-14T15:57:12.282577",
     "status": "completed"
    },
    "tags": []
   },
   "source": [
    "## Recsys Features"
   ]
  },
  {
   "cell_type": "markdown",
   "id": "df871057",
   "metadata": {
    "papermill": {
     "duration": 0.020885,
     "end_time": "2024-04-14T15:57:12.344793",
     "exception": false,
     "start_time": "2024-04-14T15:57:12.323908",
     "status": "completed"
    },
    "tags": []
   },
   "source": [
    "### mappings"
   ]
  },
  {
   "cell_type": "code",
   "execution_count": 29,
   "id": "31e0d5c9",
   "metadata": {
    "execution": {
     "iopub.execute_input": "2024-04-14T15:57:12.388743Z",
     "iopub.status.busy": "2024-04-14T15:57:12.388422Z",
     "iopub.status.idle": "2024-04-14T15:57:12.395919Z",
     "shell.execute_reply": "2024-04-14T15:57:12.395109Z"
    },
    "papermill": {
     "duration": 0.03137,
     "end_time": "2024-04-14T15:57:12.397598",
     "exception": false,
     "start_time": "2024-04-14T15:57:12.366228",
     "status": "completed"
    },
    "tags": []
   },
   "outputs": [],
   "source": [
    "user_mapping_train = history_train.select('user_id').sort('user_id').unique().with_row_index().rename({'index': 'user_index'})\n",
    "user_mapping_val = history_val.select('user_id').sort('user_id').unique().with_row_index().rename({'index': 'user_index'})\n",
    "item_mapping = articles.select('article_id').sort('article_id').unique().with_row_index().rename({'index': 'item_index'})"
   ]
  },
  {
   "cell_type": "markdown",
   "id": "6406395c",
   "metadata": {
    "papermill": {
     "duration": 0.021122,
     "end_time": "2024-04-14T15:57:12.440179",
     "exception": false,
     "start_time": "2024-04-14T15:57:12.419057",
     "status": "completed"
    },
    "tags": []
   },
   "source": [
    "### create urm"
   ]
  },
  {
   "cell_type": "code",
   "execution_count": 30,
   "id": "3355e331",
   "metadata": {
    "execution": {
     "iopub.execute_input": "2024-04-14T15:57:12.484302Z",
     "iopub.status.busy": "2024-04-14T15:57:12.483960Z",
     "iopub.status.idle": "2024-04-14T15:57:13.716909Z",
     "shell.execute_reply": "2024-04-14T15:57:13.716042Z"
    },
    "papermill": {
     "duration": 1.257367,
     "end_time": "2024-04-14T15:57:13.718818",
     "exception": false,
     "start_time": "2024-04-14T15:57:12.461451",
     "status": "completed"
    },
    "tags": []
   },
   "outputs": [],
   "source": [
    "urm_train = history_train.select('user_id','article_id_fixed').explode('article_id_fixed').unique().join(user_mapping_train,on='user_id').join(item_mapping,left_on='article_id_fixed',right_on='article_id').unique(['user_index','item_index']).rename({'article_id_fixed':'article_id'})\n",
    "\n",
    "\n",
    "URM_train = sps.csr_matrix((np.ones(urm_train.shape[0]),\n",
    "                          (urm_train['user_index'].to_numpy(), urm_train['item_index'].to_numpy())),\n",
    "                         shape=(user_mapping_train.shape[0], item_mapping.shape[0]))\n",
    "\n",
    "urm_validation = history_val.select('user_id','article_id_fixed').explode('article_id_fixed').unique().join(user_mapping_val,on='user_id').join(item_mapping,left_on='article_id_fixed',right_on='article_id').unique(['user_index','item_index']).rename({'article_id_fixed':'article_id'})\n",
    "\n",
    "URM_val = sps.csr_matrix((np.ones(urm_validation.shape[0]),\n",
    "                          (urm_validation['user_index'].to_numpy(), urm_validation['item_index'].to_numpy())),\n",
    "                         shape=(user_mapping_val.shape[0], item_mapping.shape[0]))"
   ]
  },
  {
   "cell_type": "markdown",
   "id": "1cc030c1",
   "metadata": {
    "papermill": {
     "duration": 0.021069,
     "end_time": "2024-04-14T15:57:13.762007",
     "exception": false,
     "start_time": "2024-04-14T15:57:13.740938",
     "status": "completed"
    },
    "tags": []
   },
   "source": [
    "### train models"
   ]
  },
  {
   "cell_type": "code",
   "execution_count": 31,
   "id": "4ddffcef",
   "metadata": {
    "execution": {
     "iopub.execute_input": "2024-04-14T15:57:13.805526Z",
     "iopub.status.busy": "2024-04-14T15:57:13.805225Z",
     "iopub.status.idle": "2024-04-14T15:57:58.395655Z",
     "shell.execute_reply": "2024-04-14T15:57:58.394728Z"
    },
    "papermill": {
     "duration": 44.614676,
     "end_time": "2024-04-14T15:57:58.397657",
     "exception": false,
     "start_time": "2024-04-14T15:57:13.782981",
     "status": "completed"
    },
    "tags": []
   },
   "outputs": [
    {
     "name": "stdout",
     "output_type": "stream",
     "text": [
      "PureSVDRecommender: URM Detected 11952 (57.6%) items with no interactions.\n",
      "PureSVDRecommender: Computing SVD decomposition...\n",
      "PureSVDRecommender: Computing SVD decomposition... done in 0.58 sec\n",
      "RP3betaRecommender: URM Detected 11952 (57.6%) items with no interactions.\n",
      "RP3betaRecommender: Similarity column 20738 (100.0%), 3096.43 column/sec. Elapsed time 6.70 sec\n",
      "ItemKNNCFRecommender: URM Detected 11952 (57.6%) items with no interactions.\n",
      "Unable to load Cython Compute_Similarity, reverting to Python\n",
      "Similarity column 20738 (100.0%), 1400.97 column/sec. Elapsed time 14.80 sec\n",
      "PureSVDRecommender: URM Detected 12029 (58.0%) items with no interactions.\n",
      "PureSVDRecommender: Computing SVD decomposition...\n",
      "PureSVDRecommender: Computing SVD decomposition... done in 0.57 sec\n",
      "RP3betaRecommender: URM Detected 12029 (58.0%) items with no interactions.\n",
      "RP3betaRecommender: Similarity column 20738 (100.0%), 3318.17 column/sec. Elapsed time 6.25 sec\n",
      "ItemKNNCFRecommender: URM Detected 12029 (58.0%) items with no interactions.\n",
      "Unable to load Cython Compute_Similarity, reverting to Python\n",
      "Similarity column 20738 (100.0%), 1508.04 column/sec. Elapsed time 13.75 sec\n"
     ]
    }
   ],
   "source": [
    "pure_svd = PureSVDRecommender(URM_train)\n",
    "pure_svd.fit(num_factors=20)\n",
    "\n",
    "rp3 = RP3betaRecommender(URM_train)\n",
    "rp3.fit()\n",
    "\n",
    "knn = ItemKNNCFRecommender(URM_train)\n",
    "knn.fit()\n",
    "\n",
    "pure_svd_val = PureSVDRecommender(URM_val)\n",
    "pure_svd_val.fit(num_factors=20)\n",
    "\n",
    "rp3_val = RP3betaRecommender(URM_val)\n",
    "rp3_val.fit()\n",
    "\n",
    "knn_val = ItemKNNCFRecommender(URM_val)\n",
    "knn_val.fit()"
   ]
  },
  {
   "cell_type": "markdown",
   "id": "9eb2d428",
   "metadata": {
    "papermill": {
     "duration": 0.021592,
     "end_time": "2024-04-14T15:57:58.441720",
     "exception": false,
     "start_time": "2024-04-14T15:57:58.420128",
     "status": "completed"
    },
    "tags": []
   },
   "source": [
    "### add recsys features"
   ]
  },
  {
   "cell_type": "code",
   "execution_count": 32,
   "id": "5d2d5315",
   "metadata": {
    "execution": {
     "iopub.execute_input": "2024-04-14T15:57:58.487610Z",
     "iopub.status.busy": "2024-04-14T15:57:58.486935Z",
     "iopub.status.idle": "2024-04-14T15:57:58.490526Z",
     "shell.execute_reply": "2024-04-14T15:57:58.489942Z"
    },
    "papermill": {
     "duration": 0.028825,
     "end_time": "2024-04-14T15:57:58.491970",
     "exception": false,
     "start_time": "2024-04-14T15:57:58.463145",
     "status": "completed"
    },
    "tags": []
   },
   "outputs": [],
   "source": [
    "dict_train = {\n",
    "    'PureSVDRecommender': pure_svd,\n",
    "    'RP3betaRecommender': rp3,\n",
    "    'ItemKNNCFRecommender': knn\n",
    "}\n"
   ]
  },
  {
   "cell_type": "code",
   "execution_count": 33,
   "id": "cfdaee24",
   "metadata": {
    "execution": {
     "iopub.execute_input": "2024-04-14T15:57:58.538985Z",
     "iopub.status.busy": "2024-04-14T15:57:58.538396Z",
     "iopub.status.idle": "2024-04-14T15:58:26.206421Z",
     "shell.execute_reply": "2024-04-14T15:58:26.205458Z"
    },
    "papermill": {
     "duration": 27.694316,
     "end_time": "2024-04-14T15:58:26.208216",
     "exception": false,
     "start_time": "2024-04-14T15:57:58.513900",
     "status": "completed"
    },
    "tags": []
   },
   "outputs": [
    {
     "data": {
      "text/html": [
       "<div><style>\n",
       ".dataframe > thead > tr,\n",
       ".dataframe > tbody > tr {\n",
       "  text-align: right;\n",
       "  white-space: pre-wrap;\n",
       "}\n",
       "</style>\n",
       "<small>shape: (699_537, 48)</small><table border=\"1\" class=\"dataframe\"><thead><tr><th>impression_id</th><th>article</th><th>user_id</th><th>impression_time</th><th>target</th><th>device_type</th><th>read_time</th><th>scroll_percentage</th><th>is_sso_user</th><th>gender</th><th>age</th><th>is_subscriber</th><th>session_id</th><th>mean_topics_mean_delay_days</th><th>mean_topics_mean_delay_hours</th><th>user_mean_delay_days</th><th>user_mean_delay_hours</th><th>trendiness_score</th><th>mean_user_trendiness_score</th><th>mean_topics_trendiness_score</th><th>weekday</th><th>hour</th><th>premium</th><th>published_time</th><th>category</th><th>sentiment_score</th><th>sentiment_label</th><th>num_images</th><th>title_len</th><th>subtitle_len</th><th>body_len</th><th>article_delay_days</th><th>article_delay_hours</th><th>Entity_ORG_Present</th><th>Entity_PROD_Present</th><th>Entity_LOC_Present</th><th>Entity_EVENT_Present</th><th>Entity_MISC_Present</th><th>Entity_PER_Present</th><th>total_ner_svd_scores</th><th>mean_ner_svd_scores</th><th>max_ner_svd_scores</th><th>total_ner_item_knn_scores</th><th>mean_ner_item_knn_scores</th><th>max_ner_item_knn_scores</th><th>PureSVDRecommender</th><th>RP3betaRecommender</th><th>ItemKNNCFRecommender</th></tr><tr><td>u32</td><td>i32</td><td>u32</td><td>datetime[μs]</td><td>i8</td><td>i8</td><td>f32</td><td>f32</td><td>bool</td><td>i8</td><td>i8</td><td>bool</td><td>u32</td><td>f32</td><td>f32</td><td>f32</td><td>f32</td><td>i16</td><td>f32</td><td>f32</td><td>i8</td><td>i8</td><td>bool</td><td>datetime[μs]</td><td>i16</td><td>f32</td><td>str</td><td>u32</td><td>u8</td><td>u8</td><td>u16</td><td>i16</td><td>i32</td><td>bool</td><td>bool</td><td>bool</td><td>bool</td><td>bool</td><td>bool</td><td>f32</td><td>f32</td><td>f32</td><td>f32</td><td>f32</td><td>f32</td><td>f32</td><td>f32</td><td>f32</td></tr></thead><tbody><tr><td>385198819</td><td>9762352</td><td>10068</td><td>2023-05-24 18:58:45</td><td>0</td><td>2</td><td>17.0</td><td>100.0</td><td>false</td><td>2</td><td>null</td><td>false</td><td>1969198</td><td>10.621649</td><td>257.855042</td><td>4.210526</td><td>107.105263</td><td>206</td><td>209.473679</td><td>295.832001</td><td>3</td><td>18</td><td>false</td><td>2023-05-12 15:26:56</td><td>498</td><td>0.6981</td><td>&quot;Neutral&quot;</td><td>2</td><td>4</td><td>15</td><td>102</td><td>12</td><td>291</td><td>false</td><td>true</td><td>true</td><td>true</td><td>false</td><td>true</td><td>1.0</td><td>0.562871</td><td>1.0</td><td>1.0</td><td>0.32973</td><td>1.0</td><td>0.071849</td><td>0.00881</td><td>0.910534</td></tr><tr><td>556008624</td><td>9772548</td><td>10068</td><td>2023-05-25 04:48:16</td><td>0</td><td>2</td><td>185.0</td><td>100.0</td><td>false</td><td>2</td><td>null</td><td>false</td><td>1969199</td><td>1.940446</td><td>48.898483</td><td>4.210526</td><td>107.105263</td><td>183</td><td>209.473679</td><td>412.395081</td><td>4</td><td>4</td><td>true</td><td>2023-05-24 14:23:57</td><td>142</td><td>0.99</td><td>&quot;Negative&quot;</td><td>8</td><td>7</td><td>39</td><td>968</td><td>0</td><td>14</td><td>true</td><td>false</td><td>true</td><td>true</td><td>true</td><td>true</td><td>0.577324</td><td>0.388406</td><td>0.271759</td><td>0.884342</td><td>0.423922</td><td>0.377553</td><td>0.0</td><td>0.0</td><td>0.0</td></tr><tr><td>385198819</td><td>9777321</td><td>10068</td><td>2023-05-24 18:58:45</td><td>0</td><td>2</td><td>17.0</td><td>100.0</td><td>false</td><td>2</td><td>null</td><td>false</td><td>1969198</td><td>2.014889</td><td>50.732357</td><td>4.210526</td><td>107.105263</td><td>388</td><td>209.473679</td><td>403.959595</td><td>3</td><td>18</td><td>true</td><td>2023-05-23 09:52:05</td><td>142</td><td>0.7393</td><td>&quot;Neutral&quot;</td><td>1</td><td>7</td><td>21</td><td>1</td><td>1</td><td>33</td><td>true</td><td>false</td><td>false</td><td>false</td><td>false</td><td>false</td><td>0.197401</td><td>1.0</td><td>0.496436</td><td>0.336976</td><td>1.0</td><td>0.986103</td><td>0.0</td><td>0.0</td><td>0.0</td></tr><tr><td>385198819</td><td>9779737</td><td>10068</td><td>2023-05-24 18:58:45</td><td>1</td><td>2</td><td>17.0</td><td>100.0</td><td>false</td><td>2</td><td>null</td><td>false</td><td>1969198</td><td>7.701305</td><td>187.264771</td><td>4.210526</td><td>107.105263</td><td>186</td><td>209.473679</td><td>156.975922</td><td>3</td><td>18</td><td>false</td><td>2023-05-24 18:29:29</td><td>140</td><td>0.9939</td><td>&quot;Negative&quot;</td><td>0</td><td>6</td><td>19</td><td>127</td><td>0</td><td>0</td><td>true</td><td>false</td><td>true</td><td>false</td><td>false</td><td>true</td><td>-0.002684</td><td>-0.002267</td><td>0.0</td><td>0.017295</td><td>0.008554</td><td>0.050612</td><td>0.0</td><td>0.0</td><td>0.0</td></tr><tr><td>556008624</td><td>9779748</td><td>10068</td><td>2023-05-25 04:48:16</td><td>1</td><td>2</td><td>185.0</td><td>100.0</td><td>false</td><td>2</td><td>null</td><td>false</td><td>1969199</td><td>8.623199</td><td>209.78772</td><td>4.210526</td><td>107.105263</td><td>320</td><td>209.473679</td><td>311.922791</td><td>4</td><td>4</td><td>false</td><td>2023-05-24 18:38:13</td><td>414</td><td>0.9719</td><td>&quot;Negative&quot;</td><td>4</td><td>4</td><td>13</td><td>262</td><td>0</td><td>10</td><td>true</td><td>true</td><td>true</td><td>false</td><td>false</td><td>true</td><td>0.138336</td><td>0.093068</td><td>0.103438</td><td>0.185552</td><td>0.088947</td><td>0.180969</td><td>0.0</td><td>0.0</td><td>0.0</td></tr><tr><td>&hellip;</td><td>&hellip;</td><td>&hellip;</td><td>&hellip;</td><td>&hellip;</td><td>&hellip;</td><td>&hellip;</td><td>&hellip;</td><td>&hellip;</td><td>&hellip;</td><td>&hellip;</td><td>&hellip;</td><td>&hellip;</td><td>&hellip;</td><td>&hellip;</td><td>&hellip;</td><td>&hellip;</td><td>&hellip;</td><td>&hellip;</td><td>&hellip;</td><td>&hellip;</td><td>&hellip;</td><td>&hellip;</td><td>&hellip;</td><td>&hellip;</td><td>&hellip;</td><td>&hellip;</td><td>&hellip;</td><td>&hellip;</td><td>&hellip;</td><td>&hellip;</td><td>&hellip;</td><td>&hellip;</td><td>&hellip;</td><td>&hellip;</td><td>&hellip;</td><td>&hellip;</td><td>&hellip;</td><td>&hellip;</td><td>&hellip;</td><td>&hellip;</td><td>&hellip;</td><td>&hellip;</td><td>&hellip;</td><td>&hellip;</td><td>&hellip;</td><td>&hellip;</td><td>&hellip;</td></tr><tr><td>567760515</td><td>9779423</td><td>2590637</td><td>2023-05-24 19:38:33</td><td>0</td><td>2</td><td>10.0</td><td>null</td><td>false</td><td>2</td><td>null</td><td>false</td><td>1587767</td><td>6.954053</td><td>169.231003</td><td>0.140625</td><td>4.796875</td><td>169</td><td>268.78125</td><td>127.682556</td><td>3</td><td>19</td><td>false</td><td>2023-05-24 18:22:24</td><td>140</td><td>0.9978</td><td>&quot;Negative&quot;</td><td>1</td><td>8</td><td>29</td><td>145</td><td>0</td><td>1</td><td>true</td><td>false</td><td>true</td><td>false</td><td>false</td><td>true</td><td>0.202733</td><td>0.270311</td><td>0.461555</td><td>0.22976</td><td>0.314159</td><td>0.621531</td><td>0.0</td><td>0.0</td><td>0.0</td></tr><tr><td>567760513</td><td>9779423</td><td>2590637</td><td>2023-05-24 19:38:17</td><td>1</td><td>2</td><td>10.0</td><td>null</td><td>false</td><td>2</td><td>null</td><td>false</td><td>1587767</td><td>6.954053</td><td>169.231003</td><td>0.140625</td><td>4.796875</td><td>169</td><td>268.78125</td><td>127.682556</td><td>3</td><td>19</td><td>false</td><td>2023-05-24 18:22:24</td><td>140</td><td>0.9978</td><td>&quot;Negative&quot;</td><td>1</td><td>8</td><td>29</td><td>145</td><td>0</td><td>1</td><td>true</td><td>false</td><td>true</td><td>false</td><td>false</td><td>true</td><td>0.202733</td><td>0.270311</td><td>0.605556</td><td>0.235619</td><td>0.314159</td><td>0.724625</td><td>0.0</td><td>0.0</td><td>0.0</td></tr><tr><td>567760515</td><td>9779517</td><td>2590637</td><td>2023-05-24 19:38:33</td><td>0</td><td>2</td><td>10.0</td><td>null</td><td>false</td><td>2</td><td>null</td><td>false</td><td>1587767</td><td>17.494804</td><td>422.714722</td><td>0.140625</td><td>4.796875</td><td>257</td><td>268.78125</td><td>286.085541</td><td>3</td><td>19</td><td>false</td><td>2023-05-24 16:48:02</td><td>414</td><td>0.5283</td><td>&quot;Neutral&quot;</td><td>1</td><td>5</td><td>11</td><td>244</td><td>0</td><td>2</td><td>true</td><td>false</td><td>true</td><td>false</td><td>false</td><td>true</td><td>0.966646</td><td>0.703015</td><td>1.0</td><td>1.0</td><td>0.745818</td><td>1.0</td><td>0.0</td><td>0.0</td><td>0.0</td></tr><tr><td>567760513</td><td>9779705</td><td>2590637</td><td>2023-05-24 19:38:17</td><td>0</td><td>2</td><td>10.0</td><td>null</td><td>false</td><td>2</td><td>null</td><td>false</td><td>1587767</td><td>5.703111</td><td>139.025436</td><td>0.140625</td><td>4.796875</td><td>8</td><td>268.78125</td><td>71.441673</td><td>3</td><td>19</td><td>false</td><td>2023-05-24 18:02:09</td><td>118</td><td>0.9248</td><td>&quot;Negative&quot;</td><td>1</td><td>7</td><td>19</td><td>415</td><td>0</td><td>1</td><td>true</td><td>false</td><td>true</td><td>true</td><td>true</td><td>true</td><td>0.326985</td><td>0.21799</td><td>0.626072</td><td>0.397839</td><td>0.265226</td><td>0.860201</td><td>0.0</td><td>0.0</td><td>0.0</td></tr><tr><td>567760515</td><td>9779738</td><td>2590637</td><td>2023-05-24 19:38:33</td><td>1</td><td>2</td><td>10.0</td><td>null</td><td>false</td><td>2</td><td>null</td><td>false</td><td>1587767</td><td>8.74035</td><td>212.509872</td><td>0.140625</td><td>4.796875</td><td>372</td><td>268.78125</td><td>302.327454</td><td>3</td><td>19</td><td>false</td><td>2023-05-24 18:28:29</td><td>414</td><td>0.5281</td><td>&quot;Negative&quot;</td><td>1</td><td>5</td><td>24</td><td>248</td><td>0</td><td>1</td><td>true</td><td>true</td><td>false</td><td>false</td><td>false</td><td>true</td><td>0.285037</td><td>0.380049</td><td>0.403729</td><td>0.247184</td><td>0.337982</td><td>0.481865</td><td>0.0</td><td>0.0</td><td>0.0</td></tr></tbody></table></div>"
      ],
      "text/plain": [
       "shape: (699_537, 48)\n",
       "┌────────────┬─────────┬─────────┬────────────┬───┬────────────┬───────────┬───────────┬───────────┐\n",
       "│ impression ┆ article ┆ user_id ┆ impression ┆ … ┆ max_ner_it ┆ PureSVDRe ┆ RP3betaRe ┆ ItemKNNCF │\n",
       "│ _id        ┆ ---     ┆ ---     ┆ _time      ┆   ┆ em_knn_sco ┆ commender ┆ commender ┆ Recommend │\n",
       "│ ---        ┆ i32     ┆ u32     ┆ ---        ┆   ┆ res        ┆ ---       ┆ ---       ┆ er        │\n",
       "│ u32        ┆         ┆         ┆ datetime[μ ┆   ┆ ---        ┆ f32       ┆ f32       ┆ ---       │\n",
       "│            ┆         ┆         ┆ s]         ┆   ┆ f32        ┆           ┆           ┆ f32       │\n",
       "╞════════════╪═════════╪═════════╪════════════╪═══╪════════════╪═══════════╪═══════════╪═══════════╡\n",
       "│ 385198819  ┆ 9762352 ┆ 10068   ┆ 2023-05-24 ┆ … ┆ 1.0        ┆ 0.071849  ┆ 0.00881   ┆ 0.910534  │\n",
       "│            ┆         ┆         ┆ 18:58:45   ┆   ┆            ┆           ┆           ┆           │\n",
       "│ 556008624  ┆ 9772548 ┆ 10068   ┆ 2023-05-25 ┆ … ┆ 0.377553   ┆ 0.0       ┆ 0.0       ┆ 0.0       │\n",
       "│            ┆         ┆         ┆ 04:48:16   ┆   ┆            ┆           ┆           ┆           │\n",
       "│ 385198819  ┆ 9777321 ┆ 10068   ┆ 2023-05-24 ┆ … ┆ 0.986103   ┆ 0.0       ┆ 0.0       ┆ 0.0       │\n",
       "│            ┆         ┆         ┆ 18:58:45   ┆   ┆            ┆           ┆           ┆           │\n",
       "│ 385198819  ┆ 9779737 ┆ 10068   ┆ 2023-05-24 ┆ … ┆ 0.050612   ┆ 0.0       ┆ 0.0       ┆ 0.0       │\n",
       "│            ┆         ┆         ┆ 18:58:45   ┆   ┆            ┆           ┆           ┆           │\n",
       "│ 556008624  ┆ 9779748 ┆ 10068   ┆ 2023-05-25 ┆ … ┆ 0.180969   ┆ 0.0       ┆ 0.0       ┆ 0.0       │\n",
       "│            ┆         ┆         ┆ 04:48:16   ┆   ┆            ┆           ┆           ┆           │\n",
       "│ …          ┆ …       ┆ …       ┆ …          ┆ … ┆ …          ┆ …         ┆ …         ┆ …         │\n",
       "│ 567760515  ┆ 9779423 ┆ 2590637 ┆ 2023-05-24 ┆ … ┆ 0.621531   ┆ 0.0       ┆ 0.0       ┆ 0.0       │\n",
       "│            ┆         ┆         ┆ 19:38:33   ┆   ┆            ┆           ┆           ┆           │\n",
       "│ 567760513  ┆ 9779423 ┆ 2590637 ┆ 2023-05-24 ┆ … ┆ 0.724625   ┆ 0.0       ┆ 0.0       ┆ 0.0       │\n",
       "│            ┆         ┆         ┆ 19:38:17   ┆   ┆            ┆           ┆           ┆           │\n",
       "│ 567760515  ┆ 9779517 ┆ 2590637 ┆ 2023-05-24 ┆ … ┆ 1.0        ┆ 0.0       ┆ 0.0       ┆ 0.0       │\n",
       "│            ┆         ┆         ┆ 19:38:33   ┆   ┆            ┆           ┆           ┆           │\n",
       "│ 567760513  ┆ 9779705 ┆ 2590637 ┆ 2023-05-24 ┆ … ┆ 0.860201   ┆ 0.0       ┆ 0.0       ┆ 0.0       │\n",
       "│            ┆         ┆         ┆ 19:38:17   ┆   ┆            ┆           ┆           ┆           │\n",
       "│ 567760515  ┆ 9779738 ┆ 2590637 ┆ 2023-05-24 ┆ … ┆ 0.481865   ┆ 0.0       ┆ 0.0       ┆ 0.0       │\n",
       "│            ┆         ┆         ┆ 19:38:33   ┆   ┆            ┆           ┆           ┆           │\n",
       "└────────────┴─────────┴─────────┴────────────┴───┴────────────┴───────────┴───────────┴───────────┘"
      ]
     },
     "execution_count": 33,
     "metadata": {},
     "output_type": "execute_result"
    }
   ],
   "source": [
    "def get_recommender_scores(user_items_df, recommenders):\n",
    "    user_index = user_items_df['user_index'].to_list()[0]\n",
    "    items = user_items_df['item_index'].to_numpy()\n",
    "    \n",
    "    scores = {} \n",
    "    for name, model in recommenders.items():\n",
    "        scores[name] = model._compute_item_score([user_index], items)[0, items]\n",
    "    \n",
    "    return user_items_df.with_columns(\n",
    "        [\n",
    "            pl.Series(model).alias(name) for name,model in scores.items()\n",
    "        ]\n",
    "    )\n",
    "\n",
    "\n",
    "train_ds = train_ds\\\n",
    ".join(user_mapping_train,on='user_id')\\\n",
    ".join(item_mapping,left_on='article',right_on='article_id')\\\n",
    ".sort(['user_index','item_index']).group_by('user_index').map_groups(\n",
    "    lambda df: df.pipe(get_recommender_scores, recommenders=dict_train)\n",
    ").drop('user_index','item_index')\n",
    "\n",
    "train_ds\n"
   ]
  },
  {
   "cell_type": "markdown",
   "id": "09899c18",
   "metadata": {
    "papermill": {
     "duration": 0.02262,
     "end_time": "2024-04-14T15:58:26.253398",
     "exception": false,
     "start_time": "2024-04-14T15:58:26.230778",
     "status": "completed"
    },
    "tags": []
   },
   "source": [
    "## Session Features"
   ]
  },
  {
   "cell_type": "code",
   "execution_count": 34,
   "id": "45c7dc1f",
   "metadata": {
    "execution": {
     "iopub.execute_input": "2024-04-14T15:58:26.300009Z",
     "iopub.status.busy": "2024-04-14T15:58:26.299631Z",
     "iopub.status.idle": "2024-04-14T15:58:26.304237Z",
     "shell.execute_reply": "2024-04-14T15:58:26.303329Z"
    },
    "papermill": {
     "duration": 0.029926,
     "end_time": "2024-04-14T15:58:26.305969",
     "exception": false,
     "start_time": "2024-04-14T15:58:26.276043",
     "status": "completed"
    },
    "tags": []
   },
   "outputs": [],
   "source": [
    "# behaviors_train.select(['session_id', 'impression_time', 'article_ids_clicked']) \\\n",
    "#     .group_by('session_id').map_groups(\n",
    "#         lambda group: group.explode('article_ids_clicked').sort('impression_time') \\\n",
    "#             .select(\n",
    "#                 pl.col('session_id').first(),\n",
    "#                 pl.col('article_ids_clicked').first().alias('article_id'),\n",
    "#                 (pl.col('impression_time').last() - pl.col('impression_time').first()).dt.total_minutes().alias('induced_session_len'),\n",
    "#                 (pl.col('impression_time').count() - 1).alias('num_clicked_articles_following')\n",
    "#             )\n",
    "#     ).group_by('article_id').agg(\n",
    "#         pl.col('num_clicked_articles_following').mean().alias('mean_num_clicked_articles_following'),\n",
    "#         pl.col('induced_session_len').mean().alias('mean_induced_session_len'),\n",
    "#     )"
   ]
  },
  {
   "cell_type": "code",
   "execution_count": 35,
   "id": "4ece7553",
   "metadata": {
    "execution": {
     "iopub.execute_input": "2024-04-14T15:58:26.352674Z",
     "iopub.status.busy": "2024-04-14T15:58:26.352319Z",
     "iopub.status.idle": "2024-04-14T15:58:27.361104Z",
     "shell.execute_reply": "2024-04-14T15:58:27.360088Z"
    },
    "papermill": {
     "duration": 1.034708,
     "end_time": "2024-04-14T15:58:27.363315",
     "exception": false,
     "start_time": "2024-04-14T15:58:26.328607",
     "status": "completed"
    },
    "tags": []
   },
   "outputs": [
    {
     "name": "stdout",
     "output_type": "stream",
     "text": [
      "\u001b[1m\u001b[31m\n",
      "RAM memory GB usage = 2.488\u001b[0m\n",
      "CPU times: user 1.14 s, sys: 104 ms, total: 1.24 s\n",
      "Wall time: 997 ms\n"
     ]
    },
    {
     "data": {
      "text/html": [
       "<div><style>\n",
       ".dataframe > thead > tr,\n",
       ".dataframe > tbody > tr {\n",
       "  text-align: right;\n",
       "  white-space: pre-wrap;\n",
       "}\n",
       "</style>\n",
       "<small>shape: (2, 5)</small><table border=\"1\" class=\"dataframe\"><thead><tr><th>session_id</th><th>last_session_time</th><th>last_session_duration</th><th>all_seen_articles</th><th>mean_prev_sessions_duration</th></tr><tr><td>u32</td><td>datetime[μs]</td><td>i64</td><td>list[i32]</td><td>f64</td></tr></thead><tbody><tr><td>1156435</td><td>2023-05-18 06:59:42</td><td>0</td><td>[9769366]</td><td>0.0</td></tr><tr><td>960461</td><td>2023-05-18 05:36:51</td><td>0</td><td>[9769712]</td><td>0.0</td></tr></tbody></table></div>"
      ],
      "text/plain": [
       "shape: (2, 5)\n",
       "┌────────────┬─────────────────────┬─────────────────────┬───────────────────┬─────────────────────┐\n",
       "│ session_id ┆ last_session_time   ┆ last_session_durati ┆ all_seen_articles ┆ mean_prev_sessions_ │\n",
       "│ ---        ┆ ---                 ┆ on                  ┆ ---               ┆ duration            │\n",
       "│ u32        ┆ datetime[μs]        ┆ ---                 ┆ list[i32]         ┆ ---                 │\n",
       "│            ┆                     ┆ i64                 ┆                   ┆ f64                 │\n",
       "╞════════════╪═════════════════════╪═════════════════════╪═══════════════════╪═════════════════════╡\n",
       "│ 1156435    ┆ 2023-05-18 06:59:42 ┆ 0                   ┆ [9769366]         ┆ 0.0                 │\n",
       "│ 960461     ┆ 2023-05-18 05:36:51 ┆ 0                   ┆ [9769712]         ┆ 0.0                 │\n",
       "└────────────┴─────────────────────┴─────────────────────┴───────────────────┴─────────────────────┘"
      ]
     },
     "execution_count": 35,
     "metadata": {},
     "output_type": "execute_result"
    }
   ],
   "source": [
    "%%time\n",
    "\n",
    "last_history_df = history_train.with_columns(\n",
    "    pl.col('impression_time_fixed').list.max().alias('last_history_impression_time'),\n",
    "    pl.col('article_id_fixed').list.tail(1).alias('last_history_article'),\n",
    ").select(['user_id', 'last_history_impression_time', 'last_history_article'])\n",
    "\n",
    "last_session_time_df = behaviors_train.select(['session_id', 'user_id', 'impression_time', 'article_ids_inview']) \\\n",
    "    .group_by('session_id').agg(\n",
    "        pl.col('user_id').first(), \n",
    "        pl.col('impression_time').max().alias('session_time'), \n",
    "        pl.col('article_ids_inview').flatten().alias('all_seen_articles'),\n",
    "        (pl.col('impression_time').max() - pl.col('impression_time').min()).dt.total_minutes().alias('session_duration'),\n",
    "    ).with_columns(\n",
    "        pl.col(['session_time', 'session_duration']).shift(1).over('user_id').name.prefix('last_'),\n",
    "        pl.col('all_seen_articles').list.unique().shift(1).over('user_id'),\n",
    "        pl.col('session_duration').rolling_mean(100, min_periods=1).over('user_id').alias('mean_prev_sessions_duration'),\n",
    "    ).with_columns(pl.col(['last_session_duration']).fill_null(0)) \\\n",
    "    .join(last_history_df, on='user_id', how='left') \\\n",
    "    .with_columns(\n",
    "        pl.col('last_session_time').fill_null(pl.col('last_history_impression_time')),\n",
    "        pl.col('all_seen_articles').fill_null(pl.col('last_history_article')),\n",
    "    ).select(['session_id', 'last_session_time', 'last_session_duration', \n",
    "              'all_seen_articles', 'mean_prev_sessions_duration'])\n",
    "    \n",
    "gc.collect()\n",
    "PrintColor(f\"\\n\" + GetMemUsage(), color = Fore.RED)\n",
    "last_session_time_df.head(2)"
   ]
  },
  {
   "cell_type": "code",
   "execution_count": 36,
   "id": "6465432a",
   "metadata": {
    "execution": {
     "iopub.execute_input": "2024-04-14T15:58:27.410282Z",
     "iopub.status.busy": "2024-04-14T15:58:27.409753Z",
     "iopub.status.idle": "2024-04-14T15:58:27.906675Z",
     "shell.execute_reply": "2024-04-14T15:58:27.905704Z"
    },
    "papermill": {
     "duration": 0.522895,
     "end_time": "2024-04-14T15:58:27.909128",
     "exception": false,
     "start_time": "2024-04-14T15:58:27.386233",
     "status": "completed"
    },
    "tags": []
   },
   "outputs": [
    {
     "name": "stdout",
     "output_type": "stream",
     "text": [
      "\u001b[1m\u001b[31m\n",
      "RAM memory GB usage = 2.587\u001b[0m\n"
     ]
    },
    {
     "data": {
      "text/html": [
       "<div><style>\n",
       ".dataframe > thead > tr,\n",
       ".dataframe > tbody > tr {\n",
       "  text-align: right;\n",
       "  white-space: pre-wrap;\n",
       "}\n",
       "</style>\n",
       "<small>shape: (2, 51)</small><table border=\"1\" class=\"dataframe\"><thead><tr><th>impression_id</th><th>article</th><th>user_id</th><th>impression_time</th><th>target</th><th>device_type</th><th>read_time</th><th>scroll_percentage</th><th>is_sso_user</th><th>gender</th><th>age</th><th>is_subscriber</th><th>mean_topics_mean_delay_days</th><th>mean_topics_mean_delay_hours</th><th>user_mean_delay_days</th><th>user_mean_delay_hours</th><th>trendiness_score</th><th>mean_user_trendiness_score</th><th>mean_topics_trendiness_score</th><th>weekday</th><th>hour</th><th>premium</th><th>category</th><th>sentiment_score</th><th>sentiment_label</th><th>num_images</th><th>title_len</th><th>subtitle_len</th><th>body_len</th><th>article_delay_days</th><th>article_delay_hours</th><th>Entity_ORG_Present</th><th>Entity_PROD_Present</th><th>Entity_LOC_Present</th><th>Entity_EVENT_Present</th><th>Entity_MISC_Present</th><th>Entity_PER_Present</th><th>total_ner_svd_scores</th><th>mean_ner_svd_scores</th><th>max_ner_svd_scores</th><th>total_ner_item_knn_scores</th><th>mean_ner_item_knn_scores</th><th>max_ner_item_knn_scores</th><th>PureSVDRecommender</th><th>RP3betaRecommender</th><th>ItemKNNCFRecommender</th><th>last_session_duration</th><th>mean_prev_sessions_duration</th><th>last_session_time_hour_diff</th><th>is_new_article</th><th>is_already_seen_article</th></tr><tr><td>u32</td><td>i32</td><td>u32</td><td>datetime[μs]</td><td>i8</td><td>i8</td><td>f32</td><td>f32</td><td>bool</td><td>i8</td><td>i8</td><td>bool</td><td>f32</td><td>f32</td><td>f32</td><td>f32</td><td>i16</td><td>f32</td><td>f32</td><td>i8</td><td>i8</td><td>bool</td><td>i16</td><td>f32</td><td>str</td><td>u32</td><td>u8</td><td>u8</td><td>u16</td><td>i16</td><td>i32</td><td>bool</td><td>bool</td><td>bool</td><td>bool</td><td>bool</td><td>bool</td><td>f32</td><td>f32</td><td>f32</td><td>f32</td><td>f32</td><td>f32</td><td>f32</td><td>f32</td><td>f32</td><td>i64</td><td>f64</td><td>i64</td><td>bool</td><td>bool</td></tr></thead><tbody><tr><td>385198819</td><td>9762352</td><td>10068</td><td>2023-05-24 18:58:45</td><td>0</td><td>2</td><td>17.0</td><td>100.0</td><td>false</td><td>2</td><td>null</td><td>false</td><td>10.621649</td><td>257.855042</td><td>4.210526</td><td>107.105263</td><td>206</td><td>209.473679</td><td>295.832001</td><td>3</td><td>18</td><td>false</td><td>498</td><td>0.6981</td><td>&quot;Neutral&quot;</td><td>2</td><td>4</td><td>15</td><td>102</td><td>12</td><td>291</td><td>false</td><td>true</td><td>true</td><td>true</td><td>false</td><td>true</td><td>1.0</td><td>0.562871</td><td>1.0</td><td>1.0</td><td>0.32973</td><td>1.0</td><td>0.071849</td><td>0.00881</td><td>0.910534</td><td>0</td><td>0.0</td><td>-9</td><td>true</td><td>false</td></tr><tr><td>556008624</td><td>9772548</td><td>10068</td><td>2023-05-25 04:48:16</td><td>0</td><td>2</td><td>185.0</td><td>100.0</td><td>false</td><td>2</td><td>null</td><td>false</td><td>1.940446</td><td>48.898483</td><td>4.210526</td><td>107.105263</td><td>183</td><td>209.473679</td><td>412.395081</td><td>4</td><td>4</td><td>true</td><td>142</td><td>0.99</td><td>&quot;Negative&quot;</td><td>8</td><td>7</td><td>39</td><td>968</td><td>0</td><td>14</td><td>true</td><td>false</td><td>true</td><td>true</td><td>true</td><td>true</td><td>0.577324</td><td>0.388406</td><td>0.271759</td><td>0.884342</td><td>0.423922</td><td>0.377553</td><td>0.0</td><td>0.0</td><td>0.0</td><td>0</td><td>0.0</td><td>200</td><td>false</td><td>false</td></tr></tbody></table></div>"
      ],
      "text/plain": [
       "shape: (2, 51)\n",
       "┌────────────┬─────────┬─────────┬────────────┬───┬────────────┬───────────┬───────────┬───────────┐\n",
       "│ impression ┆ article ┆ user_id ┆ impression ┆ … ┆ mean_prev_ ┆ last_sess ┆ is_new_ar ┆ is_alread │\n",
       "│ _id        ┆ ---     ┆ ---     ┆ _time      ┆   ┆ sessions_d ┆ ion_time_ ┆ ticle     ┆ y_seen_ar │\n",
       "│ ---        ┆ i32     ┆ u32     ┆ ---        ┆   ┆ uration    ┆ hour_diff ┆ ---       ┆ ticle     │\n",
       "│ u32        ┆         ┆         ┆ datetime[μ ┆   ┆ ---        ┆ ---       ┆ bool      ┆ ---       │\n",
       "│            ┆         ┆         ┆ s]         ┆   ┆ f64        ┆ i64       ┆           ┆ bool      │\n",
       "╞════════════╪═════════╪═════════╪════════════╪═══╪════════════╪═══════════╪═══════════╪═══════════╡\n",
       "│ 385198819  ┆ 9762352 ┆ 10068   ┆ 2023-05-24 ┆ … ┆ 0.0        ┆ -9        ┆ true      ┆ false     │\n",
       "│            ┆         ┆         ┆ 18:58:45   ┆   ┆            ┆           ┆           ┆           │\n",
       "│ 556008624  ┆ 9772548 ┆ 10068   ┆ 2023-05-25 ┆ … ┆ 0.0        ┆ 200       ┆ false     ┆ false     │\n",
       "│            ┆         ┆         ┆ 04:48:16   ┆   ┆            ┆           ┆           ┆           │\n",
       "└────────────┴─────────┴─────────┴────────────┴───┴────────────┴───────────┴───────────┴───────────┘"
      ]
     },
     "execution_count": 36,
     "metadata": {},
     "output_type": "execute_result"
    }
   ],
   "source": [
    "train_ds = train_ds.join(last_session_time_df, on='session_id', how='left').with_columns(\n",
    "    (pl.col('impression_time') - pl.col('last_session_time')).dt.total_hours().alias('last_session_time_hour_diff'),\n",
    "    ((pl.col('last_session_time') - pl.col('published_time')).dt.total_hours() > 0).alias('is_new_article'),\n",
    "    pl.col('all_seen_articles').list.contains(pl.col('article')).alias('is_already_seen_article'),\n",
    ").drop(['published_time', 'session_id', 'all_seen_articles', 'last_session_time'])\n",
    "\n",
    "gc.collect()\n",
    "PrintColor(f\"\\n\" + GetMemUsage(), color = Fore.RED)\n",
    "train_ds.head(2)"
   ]
  },
  {
   "cell_type": "code",
   "execution_count": 37,
   "id": "e610eb29",
   "metadata": {
    "execution": {
     "iopub.execute_input": "2024-04-14T15:58:27.959360Z",
     "iopub.status.busy": "2024-04-14T15:58:27.958993Z",
     "iopub.status.idle": "2024-04-14T15:58:27.966456Z",
     "shell.execute_reply": "2024-04-14T15:58:27.965522Z"
    },
    "papermill": {
     "duration": 0.033712,
     "end_time": "2024-04-14T15:58:27.968607",
     "exception": false,
     "start_time": "2024-04-14T15:58:27.934895",
     "status": "completed"
    },
    "tags": []
   },
   "outputs": [
    {
     "data": {
      "text/html": [
       "<div><style>\n",
       ".dataframe > thead > tr,\n",
       ".dataframe > tbody > tr {\n",
       "  text-align: right;\n",
       "  white-space: pre-wrap;\n",
       "}\n",
       "</style>\n",
       "<small>shape: (1, 2)</small><table border=\"1\" class=\"dataframe\"><thead><tr><th>is_new_article</th><th>is_already_seen_article</th></tr><tr><td>f64</td><td>f64</td></tr></thead><tbody><tr><td>0.532103</td><td>0.018289</td></tr></tbody></table></div>"
      ],
      "text/plain": [
       "shape: (1, 2)\n",
       "┌────────────────┬─────────────────────────┐\n",
       "│ is_new_article ┆ is_already_seen_article │\n",
       "│ ---            ┆ ---                     │\n",
       "│ f64            ┆ f64                     │\n",
       "╞════════════════╪═════════════════════════╡\n",
       "│ 0.532103       ┆ 0.018289                │\n",
       "└────────────────┴─────────────────────────┘"
      ]
     },
     "execution_count": 37,
     "metadata": {},
     "output_type": "execute_result"
    }
   ],
   "source": [
    "train_ds.select(pl.col('is_new_article').sum() / train_ds.shape[0], pl.col('is_already_seen_article').sum() / train_ds.shape[0])"
   ]
  },
  {
   "cell_type": "code",
   "execution_count": 38,
   "id": "a9d21b74",
   "metadata": {
    "execution": {
     "iopub.execute_input": "2024-04-14T15:58:28.015897Z",
     "iopub.status.busy": "2024-04-14T15:58:28.015560Z",
     "iopub.status.idle": "2024-04-14T15:58:28.022153Z",
     "shell.execute_reply": "2024-04-14T15:58:28.020950Z"
    },
    "papermill": {
     "duration": 0.03254,
     "end_time": "2024-04-14T15:58:28.024212",
     "exception": false,
     "start_time": "2024-04-14T15:58:27.991672",
     "status": "completed"
    },
    "tags": []
   },
   "outputs": [
    {
     "data": {
      "text/plain": [
       "(699537, 51)"
      ]
     },
     "execution_count": 38,
     "metadata": {},
     "output_type": "execute_result"
    }
   ],
   "source": [
    "train_ds.shape"
   ]
  },
  {
   "cell_type": "code",
   "execution_count": 39,
   "id": "7b172eda",
   "metadata": {
    "execution": {
     "iopub.execute_input": "2024-04-14T15:58:28.071603Z",
     "iopub.status.busy": "2024-04-14T15:58:28.071244Z",
     "iopub.status.idle": "2024-04-14T15:58:28.218628Z",
     "shell.execute_reply": "2024-04-14T15:58:28.217761Z"
    },
    "papermill": {
     "duration": 0.172951,
     "end_time": "2024-04-14T15:58:28.220408",
     "exception": false,
     "start_time": "2024-04-14T15:58:28.047457",
     "status": "completed"
    },
    "tags": []
   },
   "outputs": [
    {
     "data": {
      "text/plain": [
       "0"
      ]
     },
     "execution_count": 39,
     "metadata": {},
     "output_type": "execute_result"
    }
   ],
   "source": [
    "del last_history_df\n",
    "del last_session_time_df\n",
    "gc.collect()"
   ]
  },
  {
   "cell_type": "markdown",
   "id": "25452daa",
   "metadata": {
    "papermill": {
     "duration": 0.023632,
     "end_time": "2024-04-14T15:58:28.268047",
     "exception": false,
     "start_time": "2024-04-14T15:58:28.244415",
     "status": "completed"
    },
    "tags": []
   },
   "source": [
    "## Popularities"
   ]
  },
  {
   "cell_type": "code",
   "execution_count": 40,
   "id": "e1e1c7b4",
   "metadata": {
    "execution": {
     "iopub.execute_input": "2024-04-14T15:58:28.316094Z",
     "iopub.status.busy": "2024-04-14T15:58:28.315788Z",
     "iopub.status.idle": "2024-04-14T15:58:28.698347Z",
     "shell.execute_reply": "2024-04-14T15:58:28.697556Z"
    },
    "papermill": {
     "duration": 0.40868,
     "end_time": "2024-04-14T15:58:28.700002",
     "exception": false,
     "start_time": "2024-04-14T15:58:28.291322",
     "status": "completed"
    },
    "tags": []
   },
   "outputs": [
    {
     "name": "stdout",
     "output_type": "stream",
     "text": [
      "Memory usage of dataframe is 99.87 MB\n",
      "Memory usage after optimization is: 85.77 MB\n",
      "Decreased by 14.1%\n",
      "\u001b[1m\u001b[31m\n",
      "RAM memory GB usage = 2.586\u001b[0m\n",
      "CPU times: user 424 ms, sys: 7.29 ms, total: 431 ms\n",
      "Wall time: 368 ms\n"
     ]
    },
    {
     "data": {
      "text/html": [
       "<div><style>\n",
       ".dataframe > thead > tr,\n",
       ".dataframe > tbody > tr {\n",
       "  text-align: right;\n",
       "  white-space: pre-wrap;\n",
       "}\n",
       "</style>\n",
       "<small>shape: (2, 51)</small><table border=\"1\" class=\"dataframe\"><thead><tr><th>impression_id</th><th>article</th><th>user_id</th><th>target</th><th>device_type</th><th>read_time</th><th>scroll_percentage</th><th>is_sso_user</th><th>gender</th><th>age</th><th>is_subscriber</th><th>mean_topics_mean_delay_days</th><th>mean_topics_mean_delay_hours</th><th>user_mean_delay_days</th><th>user_mean_delay_hours</th><th>trendiness_score</th><th>mean_user_trendiness_score</th><th>mean_topics_trendiness_score</th><th>weekday</th><th>hour</th><th>premium</th><th>category</th><th>sentiment_score</th><th>sentiment_label</th><th>num_images</th><th>title_len</th><th>subtitle_len</th><th>body_len</th><th>article_delay_days</th><th>article_delay_hours</th><th>Entity_ORG_Present</th><th>Entity_PROD_Present</th><th>Entity_LOC_Present</th><th>Entity_EVENT_Present</th><th>Entity_MISC_Present</th><th>Entity_PER_Present</th><th>total_ner_svd_scores</th><th>mean_ner_svd_scores</th><th>max_ner_svd_scores</th><th>total_ner_item_knn_scores</th><th>mean_ner_item_knn_scores</th><th>max_ner_item_knn_scores</th><th>PureSVDRecommender</th><th>RP3betaRecommender</th><th>ItemKNNCFRecommender</th><th>last_session_duration</th><th>mean_prev_sessions_duration</th><th>last_session_time_hour_diff</th><th>is_new_article</th><th>is_already_seen_article</th><th>yesterday_category_daily_pct</th></tr><tr><td>u32</td><td>i32</td><td>u32</td><td>i8</td><td>i8</td><td>f32</td><td>f32</td><td>bool</td><td>i8</td><td>i8</td><td>bool</td><td>f32</td><td>f32</td><td>f32</td><td>f32</td><td>i16</td><td>f32</td><td>f32</td><td>i8</td><td>i8</td><td>bool</td><td>i16</td><td>f32</td><td>str</td><td>u32</td><td>u8</td><td>u8</td><td>u16</td><td>i16</td><td>i32</td><td>bool</td><td>bool</td><td>bool</td><td>bool</td><td>bool</td><td>bool</td><td>f32</td><td>f32</td><td>f32</td><td>f32</td><td>f32</td><td>f32</td><td>f32</td><td>f32</td><td>f32</td><td>i8</td><td>f32</td><td>i16</td><td>bool</td><td>bool</td><td>f32</td></tr></thead><tbody><tr><td>385198819</td><td>9762352</td><td>10068</td><td>0</td><td>2</td><td>17.0</td><td>100.0</td><td>false</td><td>2</td><td>null</td><td>false</td><td>10.621649</td><td>257.855042</td><td>4.210526</td><td>107.105263</td><td>206</td><td>209.473679</td><td>295.832001</td><td>3</td><td>18</td><td>false</td><td>498</td><td>0.6981</td><td>&quot;Neutral&quot;</td><td>2</td><td>4</td><td>15</td><td>102</td><td>12</td><td>291</td><td>false</td><td>true</td><td>true</td><td>true</td><td>false</td><td>true</td><td>1.0</td><td>0.562871</td><td>1.0</td><td>1.0</td><td>0.32973</td><td>1.0</td><td>0.071849</td><td>0.00881</td><td>0.910534</td><td>0</td><td>0.0</td><td>-9</td><td>true</td><td>false</td><td>0.007246</td></tr><tr><td>556008624</td><td>9772548</td><td>10068</td><td>0</td><td>2</td><td>185.0</td><td>100.0</td><td>false</td><td>2</td><td>null</td><td>false</td><td>1.940446</td><td>48.898483</td><td>4.210526</td><td>107.105263</td><td>183</td><td>209.473679</td><td>412.395081</td><td>4</td><td>4</td><td>true</td><td>142</td><td>0.99</td><td>&quot;Negative&quot;</td><td>8</td><td>7</td><td>39</td><td>968</td><td>0</td><td>14</td><td>true</td><td>false</td><td>true</td><td>true</td><td>true</td><td>true</td><td>0.577324</td><td>0.388406</td><td>0.271759</td><td>0.884342</td><td>0.423922</td><td>0.377553</td><td>0.0</td><td>0.0</td><td>0.0</td><td>0</td><td>0.0</td><td>200</td><td>false</td><td>false</td><td>0.239437</td></tr></tbody></table></div>"
      ],
      "text/plain": [
       "shape: (2, 51)\n",
       "┌─────────────┬─────────┬─────────┬────────┬───┬────────────┬────────────┬────────────┬────────────┐\n",
       "│ impression_ ┆ article ┆ user_id ┆ target ┆ … ┆ last_sessi ┆ is_new_art ┆ is_already ┆ yesterday_ │\n",
       "│ id          ┆ ---     ┆ ---     ┆ ---    ┆   ┆ on_time_ho ┆ icle       ┆ _seen_arti ┆ category_d │\n",
       "│ ---         ┆ i32     ┆ u32     ┆ i8     ┆   ┆ ur_diff    ┆ ---        ┆ cle        ┆ aily_pct   │\n",
       "│ u32         ┆         ┆         ┆        ┆   ┆ ---        ┆ bool       ┆ ---        ┆ ---        │\n",
       "│             ┆         ┆         ┆        ┆   ┆ i16        ┆            ┆ bool       ┆ f32        │\n",
       "╞═════════════╪═════════╪═════════╪════════╪═══╪════════════╪════════════╪════════════╪════════════╡\n",
       "│ 385198819   ┆ 9762352 ┆ 10068   ┆ 0      ┆ … ┆ -9         ┆ true       ┆ false      ┆ 0.007246   │\n",
       "│ 556008624   ┆ 9772548 ┆ 10068   ┆ 0      ┆ … ┆ 200        ┆ false      ┆ false      ┆ 0.239437   │\n",
       "└─────────────┴─────────┴─────────┴────────┴───┴────────────┴────────────┴────────────┴────────────┘"
      ]
     },
     "execution_count": 40,
     "metadata": {},
     "output_type": "execute_result"
    }
   ],
   "source": [
    "%%time\n",
    "\n",
    "articles_date_popularity = articles.select(['published_time', 'article_id']) \\\n",
    "    .group_by(pl.col('published_time').dt.date().alias('published_date')) \\\n",
    "    .agg(pl.col('article_id').count().alias('daily_articles')) \\\n",
    "\n",
    "published_category_popularity = articles.select(['published_time', 'article_id', 'category']) \\\n",
    "    .group_by([pl.col('published_time').dt.date().alias('published_date'), 'category']) \\\n",
    "    .agg(pl.col('article_id').count().alias('category_daily_articles')) \\\n",
    "    .join(articles_date_popularity, on='published_date', how='left') \\\n",
    "    .with_columns((pl.col('category_daily_articles') / pl.col('daily_articles')).alias('category_daily_pct')) \\\n",
    "    .drop(['category_daily_articles', 'daily_articles'])\n",
    "\n",
    "train_ds = train_ds.join(published_category_popularity, how='left', right_on=['published_date', 'category'],\n",
    "                         left_on=[pl.col('impression_time').dt.date() - pl.duration(days=1), 'category']) \\\n",
    "    .rename({'category_daily_pct': 'yesterday_category_daily_pct'}).drop(['impression_time']) \\\n",
    "    .with_columns(pl.col('yesterday_category_daily_pct').fill_null(0))\n",
    "train_ds = reduce_polars_df_memory_size(train_ds)\n",
    "\n",
    "gc.collect()\n",
    "PrintColor(f\"\\n\" + GetMemUsage(), color = Fore.RED)\n",
    "train_ds.head(2)"
   ]
  },
  {
   "cell_type": "markdown",
   "id": "47e72910",
   "metadata": {
    "papermill": {
     "duration": 0.023331,
     "end_time": "2024-04-14T15:58:28.747249",
     "exception": false,
     "start_time": "2024-04-14T15:58:28.723918",
     "status": "completed"
    },
    "tags": []
   },
   "source": [
    "# Adding history features"
   ]
  },
  {
   "cell_type": "code",
   "execution_count": 41,
   "id": "88490ce8",
   "metadata": {
    "execution": {
     "iopub.execute_input": "2024-04-14T15:58:28.797463Z",
     "iopub.status.busy": "2024-04-14T15:58:28.797104Z",
     "iopub.status.idle": "2024-04-14T16:04:09.721305Z",
     "shell.execute_reply": "2024-04-14T16:04:09.720267Z"
    },
    "papermill": {
     "duration": 340.951842,
     "end_time": "2024-04-14T16:04:09.723723",
     "exception": false,
     "start_time": "2024-04-14T15:58:28.771881",
     "status": "completed"
    },
    "scrolled": true,
    "tags": []
   },
   "outputs": [
    {
     "name": "stderr",
     "output_type": "stream",
     "text": [
      "70it [05:40,  4.87s/it]\n"
     ]
    },
    {
     "name": "stdout",
     "output_type": "stream",
     "text": [
      "\u001b[1m\u001b[31m\n",
      "RAM memory GB usage = 2.888\u001b[0m\n"
     ]
    },
    {
     "data": {
      "text/html": [
       "<div><style>\n",
       ".dataframe > thead > tr,\n",
       ".dataframe > tbody > tr {\n",
       "  text-align: right;\n",
       "  white-space: pre-wrap;\n",
       "}\n",
       "</style>\n",
       "<small>shape: (2, 87)</small><table border=\"1\" class=\"dataframe\"><thead><tr><th>impression_id</th><th>article</th><th>user_id</th><th>target</th><th>device_type</th><th>read_time</th><th>scroll_percentage</th><th>is_sso_user</th><th>gender</th><th>age</th><th>is_subscriber</th><th>mean_topics_mean_delay_days</th><th>mean_topics_mean_delay_hours</th><th>user_mean_delay_days</th><th>user_mean_delay_hours</th><th>trendiness_score</th><th>mean_user_trendiness_score</th><th>mean_topics_trendiness_score</th><th>weekday</th><th>hour</th><th>premium</th><th>category</th><th>sentiment_score</th><th>sentiment_label</th><th>num_images</th><th>title_len</th><th>subtitle_len</th><th>body_len</th><th>article_delay_days</th><th>article_delay_hours</th><th>Entity_ORG_Present</th><th>Entity_PROD_Present</th><th>Entity_LOC_Present</th><th>Entity_EVENT_Present</th><th>Entity_MISC_Present</th><th>Entity_PER_Present</th><th>total_ner_svd_scores</th><th>&hellip;</th><th>yesterday_category_daily_pct</th><th>MeanCommonEntities</th><th>MaxCommonEntities</th><th>mean_JS</th><th>min_JS</th><th>max_JS</th><th>std_JS</th><th>mean_topic_model_cosine</th><th>min_topic_model_cosine</th><th>max_topic_model_cosine</th><th>std_topic_model_cosine</th><th>NumArticlesHistory</th><th>MedianReadTime</th><th>MaxReadTime</th><th>TotalReadTime</th><th>MedianScrollPercentage</th><th>MaxScrollPercentage</th><th>NeutralPct</th><th>PositivePct</th><th>NegativePct</th><th>PctStrongNeutral</th><th>PctStrongPositive</th><th>PctStrongNegative</th><th>PctNotDefaultArticles</th><th>MostFrequentCategory</th><th>MostFrequentWeekday</th><th>MostFrequentHour</th><th>ORGPct</th><th>PRODPct</th><th>LOCPct</th><th>EVENTPct</th><th>MISCPct</th><th>PERPct</th><th>topics_cosine</th><th>IsFavouriteCategory</th><th>NumberDifferentCategories</th><th>PctCategoryMatches</th></tr><tr><td>u32</td><td>i32</td><td>u32</td><td>i8</td><td>i8</td><td>f32</td><td>f32</td><td>bool</td><td>i8</td><td>i8</td><td>bool</td><td>f32</td><td>f32</td><td>f32</td><td>f32</td><td>i16</td><td>f32</td><td>f32</td><td>i8</td><td>i8</td><td>bool</td><td>i16</td><td>f32</td><td>str</td><td>u32</td><td>u8</td><td>u8</td><td>u16</td><td>i16</td><td>i32</td><td>bool</td><td>bool</td><td>bool</td><td>bool</td><td>bool</td><td>bool</td><td>f32</td><td>&hellip;</td><td>f32</td><td>f64</td><td>u32</td><td>f64</td><td>f64</td><td>f64</td><td>f64</td><td>f32</td><td>f32</td><td>f32</td><td>f32</td><td>u16</td><td>f32</td><td>f32</td><td>f32</td><td>f32</td><td>f32</td><td>f32</td><td>f32</td><td>f32</td><td>f32</td><td>f32</td><td>f32</td><td>f32</td><td>i16</td><td>i8</td><td>i8</td><td>f32</td><td>f32</td><td>f32</td><td>f32</td><td>f32</td><td>f32</td><td>f32</td><td>bool</td><td>u32</td><td>f64</td></tr></thead><tbody><tr><td>477109184</td><td>9772660</td><td>14241</td><td>0</td><td>1</td><td>11.0</td><td>null</td><td>false</td><td>2</td><td>null</td><td>false</td><td>3.647643</td><td>90.061989</td><td>14.005587</td><td>337.625702</td><td>114</td><td>224.497208</td><td>197.569534</td><td>5</td><td>15</td><td>false</td><td>118</td><td>0.986</td><td>&quot;Negative&quot;</td><td>1</td><td>4</td><td>11</td><td>299</td><td>0</td><td>2</td><td>true</td><td>false</td><td>true</td><td>false</td><td>false</td><td>true</td><td>1.0</td><td>&hellip;</td><td>0.352381</td><td>2.558659</td><td>3</td><td>0.091594</td><td>0.0</td><td>1.0</td><td>0.212479</td><td>0.823471</td><td>0.555678</td><td>0.998428</td><td>0.102541</td><td>179</td><td>19.0</td><td>1574.0</td><td>7754.0</td><td>100.0</td><td>100.0</td><td>0.251397</td><td>0.106145</td><td>0.642458</td><td>0.145251</td><td>0.050279</td><td>0.564246</td><td>0.022346</td><td>118</td><td>3</td><td>13</td><td>0.921788</td><td>0.217877</td><td>0.793296</td><td>0.128492</td><td>0.162011</td><td>0.843575</td><td>0.370463</td><td>true</td><td>8</td><td>0.960894</td></tr><tr><td>339846845</td><td>9761586</td><td>19915</td><td>1</td><td>1</td><td>31.0</td><td>100.0</td><td>true</td><td>2</td><td>60</td><td>false</td><td>9.866658</td><td>239.443207</td><td>6.061403</td><td>149.891815</td><td>94</td><td>249.204681</td><td>176.763824</td><td>3</td><td>6</td><td>false</td><td>140</td><td>0.9932</td><td>&quot;Negative&quot;</td><td>3</td><td>6</td><td>18</td><td>533</td><td>0</td><td>10</td><td>true</td><td>true</td><td>true</td><td>false</td><td>false</td><td>true</td><td>0.095142</td><td>&hellip;</td><td>0.166667</td><td>3.017544</td><td>4</td><td>0.128443</td><td>0.0</td><td>1.0</td><td>0.280766</td><td>0.852005</td><td>0.553725</td><td>0.997853</td><td>0.079758</td><td>342</td><td>18.0</td><td>1435.0</td><td>15557.0</td><td>100.0</td><td>100.0</td><td>0.210526</td><td>0.149123</td><td>0.640351</td><td>0.076023</td><td>0.114035</td><td>0.602339</td><td>0.011696</td><td>118</td><td>2</td><td>6</td><td>0.912281</td><td>0.365497</td><td>0.853801</td><td>0.248538</td><td>0.157895</td><td>0.885965</td><td>0.314032</td><td>false</td><td>8</td><td>0.979532</td></tr></tbody></table></div>"
      ],
      "text/plain": [
       "shape: (2, 87)\n",
       "┌─────────────┬─────────┬─────────┬────────┬───┬────────────┬────────────┬────────────┬────────────┐\n",
       "│ impression_ ┆ article ┆ user_id ┆ target ┆ … ┆ topics_cos ┆ IsFavourit ┆ NumberDiff ┆ PctCategor │\n",
       "│ id          ┆ ---     ┆ ---     ┆ ---    ┆   ┆ ine        ┆ eCategory  ┆ erentCateg ┆ yMatches   │\n",
       "│ ---         ┆ i32     ┆ u32     ┆ i8     ┆   ┆ ---        ┆ ---        ┆ ories      ┆ ---        │\n",
       "│ u32         ┆         ┆         ┆        ┆   ┆ f32        ┆ bool       ┆ ---        ┆ f64        │\n",
       "│             ┆         ┆         ┆        ┆   ┆            ┆            ┆ u32        ┆            │\n",
       "╞═════════════╪═════════╪═════════╪════════╪═══╪════════════╪════════════╪════════════╪════════════╡\n",
       "│ 477109184   ┆ 9772660 ┆ 14241   ┆ 0      ┆ … ┆ 0.370463   ┆ true       ┆ 8          ┆ 0.960894   │\n",
       "│ 339846845   ┆ 9761586 ┆ 19915   ┆ 1      ┆ … ┆ 0.314032   ┆ false      ┆ 8          ┆ 0.979532   │\n",
       "└─────────────┴─────────┴─────────┴────────┴───┴────────────┴────────────┴────────────┴────────────┘"
      ]
     },
     "execution_count": 41,
     "metadata": {},
     "output_type": "execute_result"
    }
   ],
   "source": [
    "def list_pct_matches_with_col(a, b) -> pl.Expr:\n",
    "    '''\n",
    "    Returns an expression to count the number of matching element in a list with another column.\n",
    "    The polars function count_matches cannot be used since it wants only a single element, \n",
    "    variable element from row to row.\n",
    "    '''\n",
    "    return pl.when(pl.col(a).list.len() == 0).then(0.0) \\\n",
    "        .otherwise((pl.col(a).list.len() - (pl.col(a).list.set_difference(pl.col(b))).list.len()) / pl.col(a).list.len())\n",
    "\n",
    "\n",
    "def cosine_similarity(x, y):\n",
    "    x = np.array(x)\n",
    "    y = np.array(y)\n",
    "    normalization = np.linalg.norm(x, 2) * np.linalg.norm(y, 2)\n",
    "    return np.dot(x, y) / normalization if normalization > 0 else 0\n",
    "\n",
    "\n",
    "def batch_cosine_similarity(df, col1, col2, target_col):\n",
    "    X = np.array(df[col1].to_list())\n",
    "    Y = np.array(df[col2].to_list())\n",
    "    norm = np.linalg.norm(X, 2, axis=1) * np.linalg.norm(Y, 2, axis=1)\n",
    "    cosine = np.where(norm > 0, np.sum(X * Y, axis=1) / norm, 0)\n",
    "    return df.with_columns(pl.Series(cosine).alias(target_col))\n",
    "\n",
    "\n",
    "prev_train_columns = [c for c in train_ds.columns if c not in ['impression_id', 'article']]\n",
    "\n",
    "train_ds = pl.concat(\n",
    "    rows.join(history_train.select(['user_id', 'article_id_fixed']), on='user_id', how='left') \\\n",
    "        .join(articles.select(['article_id', 'topics', 'entity_groups', 'topics_idf'] + topic_model_columns), \n",
    "              left_on='article', right_on='article_id', how='left') \\\n",
    "        .explode(['article_id_fixed']) \\\n",
    "        .join(articles.select(['article_id', 'topics', 'entity_groups'] + topic_model_columns), \n",
    "              left_on='article_id_fixed', right_on='article_id', how='left') \\\n",
    "        .rename({'topics_right': 'topics_history', 'entity_groups_right': 'entity_groups_history'}) \\\n",
    "        .rename({f'topic_model_embedding_{i}_right': f'topic_model_embedding_{i}_history' for i in range(N_COMPONENTS)}) \\\n",
    "        .with_columns(\n",
    "            (pl.col(\"topics\").list.set_intersection(pl.col(\"topics_history\")).list.len().truediv(\n",
    "                pl.col(\"topics\").list.set_union(pl.col(\"topics_history\")).list.len()\n",
    "            )).alias(\"JS\"),\n",
    "            pl.col('entity_groups').list.set_intersection(pl.col('entity_groups_history')).list.len().alias('common_entities'),\n",
    "        ).drop(['entity_groups_history', 'entity_groups', 'topics', 'topics_history']) \\\n",
    "        .with_columns(\n",
    "            [pl.col(x).mul(pl.col(f'{x}_history')).alias(f'{x}_dot') for x in topic_model_columns] + \\\n",
    "            [pl.col(x).mul(pl.col(x)) for x in topic_model_columns] + \\\n",
    "            [pl.col(f'{x}_history').mul(pl.col(f'{x}_history')) for x in topic_model_columns]\n",
    "        ).with_columns(\n",
    "            pl.sum_horizontal(topic_model_columns).sqrt().alias('topic_model_norm'),\n",
    "            pl.sum_horizontal([f'{x}_history' for x in topic_model_columns]).sqrt().alias('topic_model_history_norm'),\n",
    "            pl.sum_horizontal([f'{x}_dot' for x in topic_model_columns]).alias('topic_model_dot'),\n",
    "        ).with_columns(\n",
    "            pl.col('topic_model_dot').truediv(pl.col('topic_model_norm').mul('topic_model_history_norm')).alias('topic_model_cosine')\n",
    "        ).group_by(['impression_id', 'article']).agg(\n",
    "            pl.col(prev_train_columns).first(),\n",
    "            pl.col('topics_idf').first(),\n",
    "            pl.col('common_entities').mean().alias('MeanCommonEntities'),\n",
    "            pl.col('common_entities').max().alias('MaxCommonEntities'),\n",
    "            pl.col(\"JS\").mean().alias(\"mean_JS\"),\n",
    "            pl.col(\"JS\").min().alias(\"min_JS\"),\n",
    "            pl.col(\"JS\").max().alias(\"max_JS\"),\n",
    "            pl.col(\"JS\").std().alias(\"std_JS\"),\n",
    "            pl.col(\"topic_model_cosine\").mean().alias(\"mean_topic_model_cosine\"),\n",
    "            pl.col(\"topic_model_cosine\").min().alias(\"min_topic_model_cosine\"),\n",
    "            pl.col(\"topic_model_cosine\").max().alias(\"max_topic_model_cosine\"),\n",
    "            pl.col(\"topic_model_cosine\").std().alias(\"std_topic_model_cosine\"),\n",
    "        ).join(history_train.drop(['article_id_fixed', 'impression_time_fixed']), on='user_id', how='left') \\\n",
    "        .with_columns(\n",
    "            pl.struct(['topics_idf', 'topics_flatten_tf_idf']).map_elements(\n",
    "                lambda x: cosine_similarity(x['topics_idf'], x['topics_flatten_tf_idf']), return_dtype=pl.Float64\n",
    "            ).cast(pl.Float32).alias('topics_cosine'),\n",
    "            (pl.col('category') == pl.col('MostFrequentCategory')).alias('IsFavouriteCategory'),\n",
    "            pl.col('category_right').list.n_unique().alias('NumberDifferentCategories'),\n",
    "            list_pct_matches_with_col('category_right', 'category').alias('PctCategoryMatches'),\n",
    "        ).drop(['topics_idf', 'topics_flatten', 'topics_flatten_tf_idf', 'category_right'])\n",
    "    for rows in tqdm.tqdm(train_ds.iter_slices(10000), total=train_ds.shape[0] // 10000)\n",
    ")\n",
    "\n",
    "gc.collect()\n",
    "PrintColor(f\"\\n\" + GetMemUsage(), color = Fore.RED)\n",
    "train_ds.head(2)"
   ]
  },
  {
   "cell_type": "code",
   "execution_count": 42,
   "id": "c467b8a3",
   "metadata": {
    "execution": {
     "iopub.execute_input": "2024-04-14T16:04:09.781924Z",
     "iopub.status.busy": "2024-04-14T16:04:09.780837Z",
     "iopub.status.idle": "2024-04-14T16:04:09.785173Z",
     "shell.execute_reply": "2024-04-14T16:04:09.784356Z"
    },
    "papermill": {
     "duration": 0.034819,
     "end_time": "2024-04-14T16:04:09.786831",
     "exception": false,
     "start_time": "2024-04-14T16:04:09.752012",
     "status": "completed"
    },
    "tags": []
   },
   "outputs": [],
   "source": [
    "# .pipe(batch_cosine_similarity, col1='topics_idf', col2='topics_flatten_tf_idf', target_col='topics_cosine') \\"
   ]
  },
  {
   "cell_type": "code",
   "execution_count": 43,
   "id": "eb068032",
   "metadata": {
    "execution": {
     "iopub.execute_input": "2024-04-14T16:04:09.846474Z",
     "iopub.status.busy": "2024-04-14T16:04:09.846129Z",
     "iopub.status.idle": "2024-04-14T16:04:09.853363Z",
     "shell.execute_reply": "2024-04-14T16:04:09.852449Z"
    },
    "papermill": {
     "duration": 0.040141,
     "end_time": "2024-04-14T16:04:09.855011",
     "exception": false,
     "start_time": "2024-04-14T16:04:09.814870",
     "status": "completed"
    },
    "tags": []
   },
   "outputs": [
    {
     "data": {
      "text/plain": [
       "['impression_id',\n",
       " 'article',\n",
       " 'user_id',\n",
       " 'target',\n",
       " 'device_type',\n",
       " 'read_time',\n",
       " 'scroll_percentage',\n",
       " 'is_sso_user',\n",
       " 'gender',\n",
       " 'age',\n",
       " 'is_subscriber',\n",
       " 'mean_topics_mean_delay_days',\n",
       " 'mean_topics_mean_delay_hours',\n",
       " 'user_mean_delay_days',\n",
       " 'user_mean_delay_hours',\n",
       " 'trendiness_score',\n",
       " 'mean_user_trendiness_score',\n",
       " 'mean_topics_trendiness_score',\n",
       " 'weekday',\n",
       " 'hour',\n",
       " 'premium',\n",
       " 'category',\n",
       " 'sentiment_score',\n",
       " 'sentiment_label',\n",
       " 'num_images',\n",
       " 'title_len',\n",
       " 'subtitle_len',\n",
       " 'body_len',\n",
       " 'article_delay_days',\n",
       " 'article_delay_hours',\n",
       " 'Entity_ORG_Present',\n",
       " 'Entity_PROD_Present',\n",
       " 'Entity_LOC_Present',\n",
       " 'Entity_EVENT_Present',\n",
       " 'Entity_MISC_Present',\n",
       " 'Entity_PER_Present',\n",
       " 'total_ner_svd_scores',\n",
       " 'mean_ner_svd_scores',\n",
       " 'max_ner_svd_scores',\n",
       " 'total_ner_item_knn_scores',\n",
       " 'mean_ner_item_knn_scores',\n",
       " 'max_ner_item_knn_scores',\n",
       " 'PureSVDRecommender',\n",
       " 'RP3betaRecommender',\n",
       " 'ItemKNNCFRecommender',\n",
       " 'last_session_duration',\n",
       " 'mean_prev_sessions_duration',\n",
       " 'last_session_time_hour_diff',\n",
       " 'is_new_article',\n",
       " 'is_already_seen_article',\n",
       " 'yesterday_category_daily_pct',\n",
       " 'MeanCommonEntities',\n",
       " 'MaxCommonEntities',\n",
       " 'mean_JS',\n",
       " 'min_JS',\n",
       " 'max_JS',\n",
       " 'std_JS',\n",
       " 'mean_topic_model_cosine',\n",
       " 'min_topic_model_cosine',\n",
       " 'max_topic_model_cosine',\n",
       " 'std_topic_model_cosine',\n",
       " 'NumArticlesHistory',\n",
       " 'MedianReadTime',\n",
       " 'MaxReadTime',\n",
       " 'TotalReadTime',\n",
       " 'MedianScrollPercentage',\n",
       " 'MaxScrollPercentage',\n",
       " 'NeutralPct',\n",
       " 'PositivePct',\n",
       " 'NegativePct',\n",
       " 'PctStrongNeutral',\n",
       " 'PctStrongPositive',\n",
       " 'PctStrongNegative',\n",
       " 'PctNotDefaultArticles',\n",
       " 'MostFrequentCategory',\n",
       " 'MostFrequentWeekday',\n",
       " 'MostFrequentHour',\n",
       " 'ORGPct',\n",
       " 'PRODPct',\n",
       " 'LOCPct',\n",
       " 'EVENTPct',\n",
       " 'MISCPct',\n",
       " 'PERPct',\n",
       " 'topics_cosine',\n",
       " 'IsFavouriteCategory',\n",
       " 'NumberDifferentCategories',\n",
       " 'PctCategoryMatches']"
      ]
     },
     "execution_count": 43,
     "metadata": {},
     "output_type": "execute_result"
    }
   ],
   "source": [
    "train_ds.columns"
   ]
  },
  {
   "cell_type": "code",
   "execution_count": 44,
   "id": "15485450",
   "metadata": {
    "execution": {
     "iopub.execute_input": "2024-04-14T16:04:09.913998Z",
     "iopub.status.busy": "2024-04-14T16:04:09.913349Z",
     "iopub.status.idle": "2024-04-14T16:04:09.918126Z",
     "shell.execute_reply": "2024-04-14T16:04:09.917552Z"
    },
    "papermill": {
     "duration": 0.035952,
     "end_time": "2024-04-14T16:04:09.919580",
     "exception": false,
     "start_time": "2024-04-14T16:04:09.883628",
     "status": "completed"
    },
    "tags": []
   },
   "outputs": [
    {
     "data": {
      "text/plain": [
       "(699537, 87)"
      ]
     },
     "execution_count": 44,
     "metadata": {},
     "output_type": "execute_result"
    }
   ],
   "source": [
    "train_ds.shape"
   ]
  },
  {
   "cell_type": "markdown",
   "id": "b8db27d4",
   "metadata": {
    "papermill": {
     "duration": 0.02844,
     "end_time": "2024-04-14T16:04:09.976765",
     "exception": false,
     "start_time": "2024-04-14T16:04:09.948325",
     "status": "completed"
    },
    "tags": []
   },
   "source": [
    "# Training"
   ]
  },
  {
   "cell_type": "code",
   "execution_count": 45,
   "id": "8cc4296f",
   "metadata": {
    "execution": {
     "iopub.execute_input": "2024-04-14T16:04:10.037977Z",
     "iopub.status.busy": "2024-04-14T16:04:10.037608Z",
     "iopub.status.idle": "2024-04-14T16:04:10.374728Z",
     "shell.execute_reply": "2024-04-14T16:04:10.371780Z"
    },
    "papermill": {
     "duration": 0.371495,
     "end_time": "2024-04-14T16:04:10.376941",
     "exception": false,
     "start_time": "2024-04-14T16:04:10.005446",
     "status": "completed"
    },
    "tags": []
   },
   "outputs": [],
   "source": [
    "train_ds = train_ds.drop(['impression_id', 'article', 'user_id']).to_pandas()\n",
    "\n",
    "categorical_columns = ['device_type', 'is_sso_user', 'gender', 'is_subscriber', 'weekday',\n",
    "                       'premium', 'category', 'sentiment_label', 'is_new_article', 'is_already_seen_article',\n",
    "                       'MostFrequentCategory', 'MostFrequentWeekday', 'IsFavouriteCategory']\n",
    "categorical_columns += [f'Entity_{entity}_Present' for entity in unique_entities]\n",
    "train_ds[categorical_columns] = train_ds[categorical_columns].astype('category')\n",
    "\n",
    "X = train_ds.drop(columns=['target'])\n",
    "y = train_ds['target']"
   ]
  },
  {
   "cell_type": "code",
   "execution_count": 46,
   "id": "8b883e4c",
   "metadata": {
    "execution": {
     "iopub.execute_input": "2024-04-14T16:04:10.434919Z",
     "iopub.status.busy": "2024-04-14T16:04:10.434616Z",
     "iopub.status.idle": "2024-04-14T16:04:10.592396Z",
     "shell.execute_reply": "2024-04-14T16:04:10.591187Z"
    },
    "papermill": {
     "duration": 0.18909,
     "end_time": "2024-04-14T16:04:10.594362",
     "exception": false,
     "start_time": "2024-04-14T16:04:10.405272",
     "status": "completed"
    },
    "tags": []
   },
   "outputs": [
    {
     "name": "stdout",
     "output_type": "stream",
     "text": [
      "\u001b[1m\u001b[31m\n",
      "RAM memory GB usage = 3.113\u001b[0m\n"
     ]
    }
   ],
   "source": [
    "del train_ds\n",
    "\n",
    "gc.collect()\n",
    "PrintColor(f\"\\n\" + GetMemUsage(), color = Fore.RED)"
   ]
  },
  {
   "cell_type": "code",
   "execution_count": 47,
   "id": "9301d5a3",
   "metadata": {
    "execution": {
     "iopub.execute_input": "2024-04-14T16:04:10.653890Z",
     "iopub.status.busy": "2024-04-14T16:04:10.653307Z",
     "iopub.status.idle": "2024-04-14T16:10:47.000492Z",
     "shell.execute_reply": "2024-04-14T16:10:46.999513Z"
    },
    "papermill": {
     "duration": 396.379534,
     "end_time": "2024-04-14T16:10:47.003070",
     "exception": false,
     "start_time": "2024-04-14T16:04:10.623536",
     "status": "completed"
    },
    "tags": []
   },
   "outputs": [
    {
     "name": "stdout",
     "output_type": "stream",
     "text": [
      "Learning rate set to 0.318943\n",
      "0:\tlearn: 0.6269852\ttotal: 944ms\tremaining: 7m 51s\n",
      "25:\tlearn: 0.5451819\ttotal: 21.4s\tremaining: 6m 29s\n",
      "50:\tlearn: 0.5360949\ttotal: 40.8s\tremaining: 5m 58s\n",
      "75:\tlearn: 0.5292118\ttotal: 1m\tremaining: 5m 36s\n",
      "100:\tlearn: 0.5245891\ttotal: 1m 20s\tremaining: 5m 17s\n",
      "125:\tlearn: 0.5210175\ttotal: 1m 39s\tremaining: 4m 56s\n",
      "150:\tlearn: 0.5179977\ttotal: 1m 59s\tremaining: 4m 36s\n",
      "175:\tlearn: 0.5155240\ttotal: 2m 19s\tremaining: 4m 17s\n",
      "200:\tlearn: 0.5131576\ttotal: 2m 39s\tremaining: 3m 56s\n",
      "225:\tlearn: 0.5109542\ttotal: 2m 59s\tremaining: 3m 37s\n",
      "250:\tlearn: 0.5090277\ttotal: 3m 18s\tremaining: 3m 16s\n",
      "275:\tlearn: 0.5073115\ttotal: 3m 38s\tremaining: 2m 56s\n",
      "300:\tlearn: 0.5057406\ttotal: 3m 57s\tremaining: 2m 37s\n",
      "325:\tlearn: 0.5038341\ttotal: 4m 18s\tremaining: 2m 17s\n",
      "350:\tlearn: 0.5023938\ttotal: 4m 37s\tremaining: 1m 57s\n",
      "375:\tlearn: 0.5009247\ttotal: 4m 57s\tremaining: 1m 38s\n",
      "400:\tlearn: 0.4997671\ttotal: 5m 16s\tremaining: 1m 18s\n",
      "425:\tlearn: 0.4984101\ttotal: 5m 36s\tremaining: 58.5s\n",
      "450:\tlearn: 0.4972926\ttotal: 5m 56s\tremaining: 38.7s\n",
      "475:\tlearn: 0.4959631\ttotal: 6m 15s\tremaining: 19s\n",
      "499:\tlearn: 0.4948827\ttotal: 6m 34s\tremaining: 0us\n",
      "\u001b[1m\u001b[31m\n",
      "RAM memory GB usage = 4.344\u001b[0m\n"
     ]
    }
   ],
   "source": [
    "# just a simple model to be able to run an evaluation\n",
    "model = CatBoostClassifier(cat_features=categorical_columns, iterations=500)\n",
    "\n",
    "model.fit(X, y, verbose=25)\n",
    "\n",
    "gc.collect()\n",
    "PrintColor(f\"\\n\" + GetMemUsage(), color = Fore.RED)"
   ]
  },
  {
   "cell_type": "code",
   "execution_count": 48,
   "id": "e38410d8",
   "metadata": {
    "execution": {
     "iopub.execute_input": "2024-04-14T16:10:47.064676Z",
     "iopub.status.busy": "2024-04-14T16:10:47.064349Z",
     "iopub.status.idle": "2024-04-14T16:10:52.102537Z",
     "shell.execute_reply": "2024-04-14T16:10:52.101393Z"
    },
    "papermill": {
     "duration": 5.071854,
     "end_time": "2024-04-14T16:10:52.104612",
     "exception": false,
     "start_time": "2024-04-14T16:10:47.032758",
     "status": "completed"
    },
    "tags": []
   },
   "outputs": [
    {
     "name": "stdout",
     "output_type": "stream",
     "text": [
      "CPU times: user 5.1 s, sys: 40.1 ms, total: 5.14 s\n",
      "Wall time: 5.03 s\n"
     ]
    }
   ],
   "source": [
    "%%time\n",
    "\n",
    "from catboost import Pool\n",
    "\n",
    "train_pool = Pool(X, y, cat_features=categorical_columns)\n",
    "feature_importances = model.get_feature_importance(train_pool)"
   ]
  },
  {
   "cell_type": "code",
   "execution_count": 49,
   "id": "371226ab",
   "metadata": {
    "execution": {
     "iopub.execute_input": "2024-04-14T16:10:52.168421Z",
     "iopub.status.busy": "2024-04-14T16:10:52.168069Z",
     "iopub.status.idle": "2024-04-14T16:10:53.187328Z",
     "shell.execute_reply": "2024-04-14T16:10:53.186525Z"
    },
    "papermill": {
     "duration": 1.053958,
     "end_time": "2024-04-14T16:10:53.189121",
     "exception": false,
     "start_time": "2024-04-14T16:10:52.135163",
     "status": "completed"
    },
    "tags": []
   },
   "outputs": [
    {
     "data": {
      "text/plain": [
       "Text(0.5, 1.0, 'Catboost Feature Importances')"
      ]
     },
     "execution_count": 49,
     "metadata": {},
     "output_type": "execute_result"
    },
    {
     "data": {
      "image/png": "[encoded data removed]",
      "text/plain": [
       "<Figure size 1000x1000 with 1 Axes>"
      ]
     },
     "metadata": {},
     "output_type": "display_data"
    }
   ],
   "source": [
    "sorted_importances = np.argsort(feature_importances)[::-1]\n",
    "\n",
    "plt.figure(figsize=(10, 10))\n",
    "sns.barplot(x=feature_importances[sorted_importances], y=np.array(X.columns)[sorted_importances])\n",
    "plt.xlabel('Feature Importance')\n",
    "plt.ylabel('Feature Name')\n",
    "plt.title('Catboost Feature Importances')"
   ]
  },
  {
   "cell_type": "code",
   "execution_count": 50,
   "id": "96cea18d",
   "metadata": {
    "execution": {
     "iopub.execute_input": "2024-04-14T16:10:53.255189Z",
     "iopub.status.busy": "2024-04-14T16:10:53.254202Z",
     "iopub.status.idle": "2024-04-14T16:10:53.418422Z",
     "shell.execute_reply": "2024-04-14T16:10:53.417434Z"
    },
    "papermill": {
     "duration": 0.199604,
     "end_time": "2024-04-14T16:10:53.420600",
     "exception": false,
     "start_time": "2024-04-14T16:10:53.220996",
     "status": "completed"
    },
    "tags": []
   },
   "outputs": [
    {
     "name": "stdout",
     "output_type": "stream",
     "text": [
      "\u001b[1m\u001b[31m\n",
      "RAM memory GB usage = 4.368\u001b[0m\n"
     ]
    }
   ],
   "source": [
    "del history_train\n",
    "del behaviors_train\n",
    "\n",
    "gc.collect()\n",
    "PrintColor(f\"\\n\" + GetMemUsage(), color = Fore.RED)"
   ]
  },
  {
   "cell_type": "code",
   "execution_count": 51,
   "id": "a7a6c4ab",
   "metadata": {
    "execution": {
     "iopub.execute_input": "2024-04-14T16:10:53.487203Z",
     "iopub.status.busy": "2024-04-14T16:10:53.486558Z",
     "iopub.status.idle": "2024-04-14T16:10:53.492813Z",
     "shell.execute_reply": "2024-04-14T16:10:53.491761Z"
    },
    "papermill": {
     "duration": 0.041265,
     "end_time": "2024-04-14T16:10:53.494497",
     "exception": false,
     "start_time": "2024-04-14T16:10:53.453232",
     "status": "completed"
    },
    "tags": []
   },
   "outputs": [
    {
     "data": {
      "text/plain": [
       "['device_type',\n",
       " 'is_sso_user',\n",
       " 'gender',\n",
       " 'is_subscriber',\n",
       " 'weekday',\n",
       " 'premium',\n",
       " 'category',\n",
       " 'sentiment_label',\n",
       " 'is_new_article',\n",
       " 'is_already_seen_article',\n",
       " 'MostFrequentCategory',\n",
       " 'MostFrequentWeekday',\n",
       " 'IsFavouriteCategory',\n",
       " 'Entity_ORG_Present',\n",
       " 'Entity_PROD_Present',\n",
       " 'Entity_LOC_Present',\n",
       " 'Entity_EVENT_Present',\n",
       " 'Entity_MISC_Present',\n",
       " 'Entity_PER_Present']"
      ]
     },
     "execution_count": 51,
     "metadata": {},
     "output_type": "execute_result"
    }
   ],
   "source": [
    "model.get_param('cat_features')"
   ]
  },
  {
   "cell_type": "markdown",
   "id": "c63e0b46",
   "metadata": {
    "papermill": {
     "duration": 0.031297,
     "end_time": "2024-04-14T16:10:53.557748",
     "exception": false,
     "start_time": "2024-04-14T16:10:53.526451",
     "status": "completed"
    },
    "tags": []
   },
   "source": [
    "# Model Evaluation"
   ]
  },
  {
   "cell_type": "code",
   "execution_count": 52,
   "id": "00697ac4",
   "metadata": {
    "execution": {
     "iopub.execute_input": "2024-04-14T16:10:53.625041Z",
     "iopub.status.busy": "2024-04-14T16:10:53.624236Z",
     "iopub.status.idle": "2024-04-14T16:11:04.574706Z",
     "shell.execute_reply": "2024-04-14T16:11:04.573248Z"
    },
    "papermill": {
     "duration": 10.98631,
     "end_time": "2024-04-14T16:11:04.577189",
     "exception": false,
     "start_time": "2024-04-14T16:10:53.590879",
     "status": "completed"
    },
    "tags": []
   },
   "outputs": [],
   "source": [
    "user_id_mapping = history_val.sort('user_id').with_row_index() \\\n",
    "    .select(['index', 'user_id']).rename({'index': 'user_index'})\n",
    "\n",
    "ner_interactions = history_val.select(['user_id', 'article_id_fixed']).explode('article_id_fixed') \\\n",
    "    .join(articles.select(['article_id', 'ner_clusters']), left_on='article_id_fixed', right_on='article_id', how='left') \\\n",
    "    .explode('ner_clusters').unique(['user_id', 'ner_clusters']) \\\n",
    "    .with_columns(pl.col('ner_clusters').str.strip_chars_start('\\\" ').str.to_lowercase()) \\\n",
    "    .join(user_id_mapping, on='user_id', how='left') \\\n",
    "    .join(ner_mapping, left_on='ner_clusters', right_on='ner') \\\n",
    "    .select(['user_index', 'ner_index', 'user_id', 'article_id_fixed']) \\\n",
    "    .unique(['user_index', 'ner_index'])\n",
    "\n",
    "URM_ner = sps.csr_matrix((np.ones(ner_interactions.shape[0]),\n",
    "                          (ner_interactions['user_index'].to_numpy(), ner_interactions['ner_index'].to_numpy())),\n",
    "                         shape=(user_id_mapping.shape[0], ner_mapping.shape[0]))\n",
    "\n",
    "ner_interactions_test = behaviors_val.select(['user_id', 'article_ids_clicked']).explode('article_ids_clicked') \\\n",
    "    .join(articles.select(['article_id', 'ner_clusters']), left_on='article_ids_clicked', right_on='article_id', how='left') \\\n",
    "    .explode('ner_clusters').unique(['user_id', 'ner_clusters']) \\\n",
    "    .with_columns(pl.col('ner_clusters').str.strip_chars_start('\\\" ').str.to_lowercase()) \\\n",
    "    .join(user_id_mapping, on='user_id', how='left') \\\n",
    "    .join(ner_mapping, left_on='ner_clusters', right_on='ner') \\\n",
    "    .select(['user_index', 'ner_index', 'user_id', 'article_ids_clicked']) \\\n",
    "    .unique(['user_index', 'ner_index'])\n",
    "\n",
    "URM_ner_test = sps.csr_matrix((np.ones(ner_interactions_test.shape[0]),\n",
    "                               (ner_interactions_test['user_index'].to_numpy(), ner_interactions_test['ner_index'].to_numpy())),\n",
    "                              shape=(user_id_mapping.shape[0], ner_mapping.shape[0]))"
   ]
  },
  {
   "cell_type": "code",
   "execution_count": 53,
   "id": "5fad81e9",
   "metadata": {
    "execution": {
     "iopub.execute_input": "2024-04-14T16:11:04.644083Z",
     "iopub.status.busy": "2024-04-14T16:11:04.643759Z",
     "iopub.status.idle": "2024-04-14T16:14:11.335724Z",
     "shell.execute_reply": "2024-04-14T16:14:11.334584Z"
    },
    "papermill": {
     "duration": 186.733768,
     "end_time": "2024-04-14T16:14:11.343595",
     "exception": false,
     "start_time": "2024-04-14T16:11:04.609827",
     "status": "completed"
    },
    "tags": []
   },
   "outputs": [
    {
     "name": "stdout",
     "output_type": "stream",
     "text": [
      "ItemKNNCFRecommender: URM Detected 3 ( 0.0%) users with no interactions.\n",
      "ItemKNNCFRecommender: URM Detected 19035 (43.5%) items with no interactions.\n",
      "Unable to load Cython Compute_Similarity, reverting to Python\n",
      "Similarity column 43774 (100.0%), 289.49 column/sec. Elapsed time 2.52 min\n",
      "EvaluatorHoldout: Ignoring 32 ( 0.2%) Users that have less than 1 test interactions\n",
      "EvaluatorHoldout: Processed 15310 (100.0%) in 34.87 sec. Users per second: 439\n"
     ]
    },
    {
     "data": {
      "text/html": [
       "<div>\n",
       "<style scoped>\n",
       "    .dataframe tbody tr th:only-of-type {\n",
       "        vertical-align: middle;\n",
       "    }\n",
       "\n",
       "    .dataframe tbody tr th {\n",
       "        vertical-align: top;\n",
       "    }\n",
       "\n",
       "    .dataframe thead th {\n",
       "        text-align: right;\n",
       "    }\n",
       "</style>\n",
       "<table border=\"1\" class=\"dataframe\">\n",
       "  <thead>\n",
       "    <tr style=\"text-align: right;\">\n",
       "      <th></th>\n",
       "      <th>PRECISION</th>\n",
       "      <th>PRECISION_RECALL_MIN_DEN</th>\n",
       "      <th>RECALL</th>\n",
       "      <th>MAP</th>\n",
       "      <th>MAP_MIN_DEN</th>\n",
       "      <th>MRR</th>\n",
       "      <th>NDCG</th>\n",
       "      <th>F1</th>\n",
       "      <th>HIT_RATE</th>\n",
       "      <th>ARHR_ALL_HITS</th>\n",
       "      <th>...</th>\n",
       "      <th>COVERAGE_USER</th>\n",
       "      <th>COVERAGE_USER_HIT</th>\n",
       "      <th>USERS_IN_GT</th>\n",
       "      <th>DIVERSITY_GINI</th>\n",
       "      <th>SHANNON_ENTROPY</th>\n",
       "      <th>RATIO_DIVERSITY_HERFINDAHL</th>\n",
       "      <th>RATIO_DIVERSITY_GINI</th>\n",
       "      <th>RATIO_SHANNON_ENTROPY</th>\n",
       "      <th>RATIO_AVERAGE_POPULARITY</th>\n",
       "      <th>RATIO_NOVELTY</th>\n",
       "    </tr>\n",
       "    <tr>\n",
       "      <th>cutoff</th>\n",
       "      <th></th>\n",
       "      <th></th>\n",
       "      <th></th>\n",
       "      <th></th>\n",
       "      <th></th>\n",
       "      <th></th>\n",
       "      <th></th>\n",
       "      <th></th>\n",
       "      <th></th>\n",
       "      <th></th>\n",
       "      <th></th>\n",
       "      <th></th>\n",
       "      <th></th>\n",
       "      <th></th>\n",
       "      <th></th>\n",
       "      <th></th>\n",
       "      <th></th>\n",
       "      <th></th>\n",
       "      <th></th>\n",
       "      <th></th>\n",
       "      <th></th>\n",
       "    </tr>\n",
       "  </thead>\n",
       "  <tbody>\n",
       "    <tr>\n",
       "      <th>10</th>\n",
       "      <td>0.338445</td>\n",
       "      <td>0.339461</td>\n",
       "      <td>0.033197</td>\n",
       "      <td>0.241643</td>\n",
       "      <td>0.241977</td>\n",
       "      <td>0.493913</td>\n",
       "      <td>0.346767</td>\n",
       "      <td>0.060464</td>\n",
       "      <td>0.784651</td>\n",
       "      <td>1.033204</td>\n",
       "      <td>...</td>\n",
       "      <td>0.997914</td>\n",
       "      <td>0.783014</td>\n",
       "      <td>0.997914</td>\n",
       "      <td>0.002568</td>\n",
       "      <td>5.473111</td>\n",
       "      <td>0.953841</td>\n",
       "      <td>0.020621</td>\n",
       "      <td>0.428217</td>\n",
       "      <td>3.43338</td>\n",
       "      <td>0.010093</td>\n",
       "    </tr>\n",
       "  </tbody>\n",
       "</table>\n",
       "<p>1 rows × 27 columns</p>\n",
       "</div>"
      ],
      "text/plain": [
       "       PRECISION PRECISION_RECALL_MIN_DEN    RECALL       MAP MAP_MIN_DEN  \\\n",
       "cutoff                                                                      \n",
       "10      0.338445                 0.339461  0.033197  0.241643    0.241977   \n",
       "\n",
       "             MRR      NDCG        F1  HIT_RATE ARHR_ALL_HITS  ...  \\\n",
       "cutoff                                                        ...   \n",
       "10      0.493913  0.346767  0.060464  0.784651      1.033204  ...   \n",
       "\n",
       "       COVERAGE_USER COVERAGE_USER_HIT USERS_IN_GT DIVERSITY_GINI  \\\n",
       "cutoff                                                              \n",
       "10          0.997914          0.783014    0.997914       0.002568   \n",
       "\n",
       "       SHANNON_ENTROPY RATIO_DIVERSITY_HERFINDAHL RATIO_DIVERSITY_GINI  \\\n",
       "cutoff                                                                   \n",
       "10            5.473111                   0.953841             0.020621   \n",
       "\n",
       "       RATIO_SHANNON_ENTROPY RATIO_AVERAGE_POPULARITY RATIO_NOVELTY  \n",
       "cutoff                                                               \n",
       "10                  0.428217                  3.43338      0.010093  \n",
       "\n",
       "[1 rows x 27 columns]"
      ]
     },
     "execution_count": 53,
     "metadata": {},
     "output_type": "execute_result"
    }
   ],
   "source": [
    "item_knn = ItemKNNCFRecommender(URM_ner)\n",
    "item_knn.fit(topK=100, similarity='jaccard')\n",
    "\n",
    "evaluator = EvaluatorHoldout(URM_ner_test, cutoff_list=[10], exclude_seen=False)\n",
    "result_df, _ = evaluator.evaluateRecommender(item_knn)\n",
    "result_df"
   ]
  },
  {
   "cell_type": "code",
   "execution_count": 54,
   "id": "6f8f259a",
   "metadata": {
    "execution": {
     "iopub.execute_input": "2024-04-14T16:14:11.411413Z",
     "iopub.status.busy": "2024-04-14T16:14:11.410422Z",
     "iopub.status.idle": "2024-04-14T16:14:32.361169Z",
     "shell.execute_reply": "2024-04-14T16:14:32.360135Z"
    },
    "papermill": {
     "duration": 20.986541,
     "end_time": "2024-04-14T16:14:32.363011",
     "exception": false,
     "start_time": "2024-04-14T16:14:11.376470",
     "status": "completed"
    },
    "tags": []
   },
   "outputs": [
    {
     "name": "stdout",
     "output_type": "stream",
     "text": [
      "PureSVDRecommender: URM Detected 3 ( 0.0%) users with no interactions.\n",
      "PureSVDRecommender: URM Detected 19035 (43.5%) items with no interactions.\n",
      "PureSVDRecommender: Computing SVD decomposition...\n",
      "PureSVDRecommender: Computing SVD decomposition... done in 3.39 sec\n",
      "EvaluatorHoldout: Processed 15310 (100.0%) in 17.25 sec. Users per second: 887\n"
     ]
    },
    {
     "data": {
      "text/html": [
       "<div>\n",
       "<style scoped>\n",
       "    .dataframe tbody tr th:only-of-type {\n",
       "        vertical-align: middle;\n",
       "    }\n",
       "\n",
       "    .dataframe tbody tr th {\n",
       "        vertical-align: top;\n",
       "    }\n",
       "\n",
       "    .dataframe thead th {\n",
       "        text-align: right;\n",
       "    }\n",
       "</style>\n",
       "<table border=\"1\" class=\"dataframe\">\n",
       "  <thead>\n",
       "    <tr style=\"text-align: right;\">\n",
       "      <th></th>\n",
       "      <th>PRECISION</th>\n",
       "      <th>PRECISION_RECALL_MIN_DEN</th>\n",
       "      <th>RECALL</th>\n",
       "      <th>MAP</th>\n",
       "      <th>MAP_MIN_DEN</th>\n",
       "      <th>MRR</th>\n",
       "      <th>NDCG</th>\n",
       "      <th>F1</th>\n",
       "      <th>HIT_RATE</th>\n",
       "      <th>ARHR_ALL_HITS</th>\n",
       "      <th>...</th>\n",
       "      <th>COVERAGE_USER</th>\n",
       "      <th>COVERAGE_USER_HIT</th>\n",
       "      <th>USERS_IN_GT</th>\n",
       "      <th>DIVERSITY_GINI</th>\n",
       "      <th>SHANNON_ENTROPY</th>\n",
       "      <th>RATIO_DIVERSITY_HERFINDAHL</th>\n",
       "      <th>RATIO_DIVERSITY_GINI</th>\n",
       "      <th>RATIO_SHANNON_ENTROPY</th>\n",
       "      <th>RATIO_AVERAGE_POPULARITY</th>\n",
       "      <th>RATIO_NOVELTY</th>\n",
       "    </tr>\n",
       "    <tr>\n",
       "      <th>cutoff</th>\n",
       "      <th></th>\n",
       "      <th></th>\n",
       "      <th></th>\n",
       "      <th></th>\n",
       "      <th></th>\n",
       "      <th></th>\n",
       "      <th></th>\n",
       "      <th></th>\n",
       "      <th></th>\n",
       "      <th></th>\n",
       "      <th></th>\n",
       "      <th></th>\n",
       "      <th></th>\n",
       "      <th></th>\n",
       "      <th></th>\n",
       "      <th></th>\n",
       "      <th></th>\n",
       "      <th></th>\n",
       "      <th></th>\n",
       "      <th></th>\n",
       "      <th></th>\n",
       "    </tr>\n",
       "  </thead>\n",
       "  <tbody>\n",
       "    <tr>\n",
       "      <th>10</th>\n",
       "      <td>0.365408</td>\n",
       "      <td>0.368574</td>\n",
       "      <td>0.050851</td>\n",
       "      <td>0.283647</td>\n",
       "      <td>0.285737</td>\n",
       "      <td>0.696533</td>\n",
       "      <td>0.415957</td>\n",
       "      <td>0.089278</td>\n",
       "      <td>0.876094</td>\n",
       "      <td>1.344211</td>\n",
       "      <td>...</td>\n",
       "      <td>0.997914</td>\n",
       "      <td>0.874267</td>\n",
       "      <td>0.997914</td>\n",
       "      <td>0.001528</td>\n",
       "      <td>5.729531</td>\n",
       "      <td>0.954894</td>\n",
       "      <td>0.012273</td>\n",
       "      <td>0.44828</td>\n",
       "      <td>3.53976</td>\n",
       "      <td>0.010001</td>\n",
       "    </tr>\n",
       "  </tbody>\n",
       "</table>\n",
       "<p>1 rows × 27 columns</p>\n",
       "</div>"
      ],
      "text/plain": [
       "       PRECISION PRECISION_RECALL_MIN_DEN    RECALL       MAP MAP_MIN_DEN  \\\n",
       "cutoff                                                                      \n",
       "10      0.365408                 0.368574  0.050851  0.283647    0.285737   \n",
       "\n",
       "             MRR      NDCG        F1  HIT_RATE ARHR_ALL_HITS  ...  \\\n",
       "cutoff                                                        ...   \n",
       "10      0.696533  0.415957  0.089278  0.876094      1.344211  ...   \n",
       "\n",
       "       COVERAGE_USER COVERAGE_USER_HIT USERS_IN_GT DIVERSITY_GINI  \\\n",
       "cutoff                                                              \n",
       "10          0.997914          0.874267    0.997914       0.001528   \n",
       "\n",
       "       SHANNON_ENTROPY RATIO_DIVERSITY_HERFINDAHL RATIO_DIVERSITY_GINI  \\\n",
       "cutoff                                                                   \n",
       "10            5.729531                   0.954894             0.012273   \n",
       "\n",
       "       RATIO_SHANNON_ENTROPY RATIO_AVERAGE_POPULARITY RATIO_NOVELTY  \n",
       "cutoff                                                               \n",
       "10                   0.44828                  3.53976      0.010001  \n",
       "\n",
       "[1 rows x 27 columns]"
      ]
     },
     "execution_count": 54,
     "metadata": {},
     "output_type": "execute_result"
    }
   ],
   "source": [
    "pure_svd = PureSVDRecommender(URM_ner)\n",
    "pure_svd.fit(num_factors=20)\n",
    "\n",
    "result_df, _ = evaluator.evaluateRecommender(pure_svd)\n",
    "result_df"
   ]
  },
  {
   "cell_type": "code",
   "execution_count": 55,
   "id": "a22eb600",
   "metadata": {
    "execution": {
     "iopub.execute_input": "2024-04-14T16:14:32.429106Z",
     "iopub.status.busy": "2024-04-14T16:14:32.428534Z",
     "iopub.status.idle": "2024-04-14T16:15:38.356102Z",
     "shell.execute_reply": "2024-04-14T16:15:38.355417Z"
    },
    "papermill": {
     "duration": 65.994817,
     "end_time": "2024-04-14T16:15:38.390064",
     "exception": false,
     "start_time": "2024-04-14T16:14:32.395247",
     "status": "completed"
    },
    "tags": []
   },
   "outputs": [
    {
     "name": "stdout",
     "output_type": "stream",
     "text": [
      "CPU times: user 1min 56s, sys: 2min 5s, total: 4min 1s\n",
      "Wall time: 1min 5s\n"
     ]
    },
    {
     "data": {
      "text/html": [
       "<div><style>\n",
       ".dataframe > thead > tr,\n",
       ".dataframe > tbody > tr {\n",
       "  text-align: right;\n",
       "  white-space: pre-wrap;\n",
       "}\n",
       "</style>\n",
       "<small>shape: (5, 8)</small><table border=\"1\" class=\"dataframe\"><thead><tr><th>impression_id</th><th>article</th><th>total_ner_svd_scores</th><th>mean_ner_svd_scores</th><th>max_ner_svd_scores</th><th>total_ner_item_knn_scores</th><th>mean_ner_item_knn_scores</th><th>max_ner_item_knn_scores</th></tr><tr><td>u32</td><td>i32</td><td>f32</td><td>f32</td><td>f32</td><td>f32</td><td>f32</td><td>f32</td></tr></thead><tbody><tr><td>454673173</td><td>9142581</td><td>0.003316</td><td>0.00597</td><td>0.002473</td><td>0.003745</td><td>0.006688</td><td>0.002382</td></tr><tr><td>38683935</td><td>9780677</td><td>0.019717</td><td>0.031275</td><td>0.057734</td><td>0.025241</td><td>0.039626</td><td>0.067984</td></tr><tr><td>156596491</td><td>9783314</td><td>0.046987</td><td>0.163477</td><td>0.100137</td><td>0.03434</td><td>0.137886</td><td>0.081445</td></tr><tr><td>241844135</td><td>9788849</td><td>0.076364</td><td>0.322982</td><td>0.110966</td><td>0.119406</td><td>0.424774</td><td>0.176969</td></tr><tr><td>30808650</td><td>9789433</td><td>0.012037</td><td>0.021241</td><td>0.031964</td><td>0.021207</td><td>0.037076</td><td>0.051172</td></tr></tbody></table></div>"
      ],
      "text/plain": [
       "shape: (5, 8)\n",
       "┌────────────┬─────────┬────────────┬────────────┬────────────┬────────────┬───────────┬───────────┐\n",
       "│ impression ┆ article ┆ total_ner_ ┆ mean_ner_s ┆ max_ner_sv ┆ total_ner_ ┆ mean_ner_ ┆ max_ner_i │\n",
       "│ _id        ┆ ---     ┆ svd_scores ┆ vd_scores  ┆ d_scores   ┆ item_knn_s ┆ item_knn_ ┆ tem_knn_s │\n",
       "│ ---        ┆ i32     ┆ ---        ┆ ---        ┆ ---        ┆ cores      ┆ scores    ┆ cores     │\n",
       "│ u32        ┆         ┆ f32        ┆ f32        ┆ f32        ┆ ---        ┆ ---       ┆ ---       │\n",
       "│            ┆         ┆            ┆            ┆            ┆ f32        ┆ f32       ┆ f32       │\n",
       "╞════════════╪═════════╪════════════╪════════════╪════════════╪════════════╪═══════════╪═══════════╡\n",
       "│ 454673173  ┆ 9142581 ┆ 0.003316   ┆ 0.00597    ┆ 0.002473   ┆ 0.003745   ┆ 0.006688  ┆ 0.002382  │\n",
       "│ 38683935   ┆ 9780677 ┆ 0.019717   ┆ 0.031275   ┆ 0.057734   ┆ 0.025241   ┆ 0.039626  ┆ 0.067984  │\n",
       "│ 156596491  ┆ 9783314 ┆ 0.046987   ┆ 0.163477   ┆ 0.100137   ┆ 0.03434    ┆ 0.137886  ┆ 0.081445  │\n",
       "│ 241844135  ┆ 9788849 ┆ 0.076364   ┆ 0.322982   ┆ 0.110966   ┆ 0.119406   ┆ 0.424774  ┆ 0.176969  │\n",
       "│ 30808650   ┆ 9789433 ┆ 0.012037   ┆ 0.021241   ┆ 0.031964   ┆ 0.021207   ┆ 0.037076  ┆ 0.051172  │\n",
       "└────────────┴─────────┴────────────┴────────────┴────────────┴────────────┴───────────┴───────────┘"
      ]
     },
     "execution_count": 55,
     "metadata": {},
     "output_type": "execute_result"
    }
   ],
   "source": [
    "%%time\n",
    "\n",
    "def get_inview_scores(user_ners_df, recommender, f_name):\n",
    "    user_index = user_ners_df['user_index'].to_list()[0]\n",
    "    ners = user_ners_df['ner_index'].to_numpy()\n",
    "    scores = recommender._compute_item_score([user_index], ners)[0, ners]\n",
    "    return user_ners_df.with_columns(\n",
    "        pl.Series(scores).alias(f_name)\n",
    "    )\n",
    "\n",
    "ner_inview_scores = behaviors_val.select(['user_id', 'article_ids_inview']).explode('article_ids_inview') \\\n",
    "    .join(articles.select(['article_id', 'ner_clusters']), left_on='article_ids_inview', right_on='article_id', how='left') \\\n",
    "    .explode('ner_clusters').unique(['user_id', 'ner_clusters']) \\\n",
    "    .with_columns(pl.col('ner_clusters').str.strip_chars_start('\\\" ').str.to_lowercase()) \\\n",
    "    .join(user_id_mapping, on='user_id', how='left') \\\n",
    "    .join(ner_mapping, left_on='ner_clusters', right_on='ner') \\\n",
    "    .select(['user_index', 'ner_index', 'user_id', 'article_ids_inview']) \\\n",
    "    .unique(['user_index', 'ner_index']) \\\n",
    "    .sort(['user_index', 'ner_index']).group_by('user_index').map_groups(\n",
    "        lambda user_df: user_df.pipe(get_inview_scores, recommender=pure_svd, f_name='pure_svd_scores') \\\n",
    "            .pipe(get_inview_scores, recommender=item_knn, f_name='item_knn_scores')\n",
    "    )\n",
    "\n",
    "behaviors_ner_scores = behaviors_val.select(['impression_id', 'user_id', 'article_ids_inview']).explode('article_ids_inview') \\\n",
    "    .join(ner_inview_scores, on=['user_id', 'article_ids_inview'], how='left') \\\n",
    "    .with_columns(pl.col(['pure_svd_scores', 'item_knn_scores']).fill_null(0)) \\\n",
    "    .group_by(['impression_id', 'article_ids_inview']).agg(\n",
    "        pl.col('pure_svd_scores').sum().alias('total_ner_svd_scores'),\n",
    "        pl.col('pure_svd_scores').mean().alias('mean_ner_svd_scores'),\n",
    "        pl.col('pure_svd_scores').max().alias('max_ner_svd_scores'),\n",
    "        pl.col('item_knn_scores').sum().alias('total_ner_item_knn_scores'),\n",
    "        pl.col('item_knn_scores').mean().alias('mean_ner_item_knn_scores'),\n",
    "        pl.col('item_knn_scores').max().alias('max_ner_item_knn_scores'),\n",
    "    ).with_columns(\n",
    "        pl.col(['total_ner_svd_scores', 'mean_ner_svd_scores', \n",
    "                'total_ner_item_knn_scores', 'mean_ner_item_knn_scores',\n",
    "                'max_ner_svd_scores', 'max_ner_item_knn_scores']).sum().over('impression_id').name.suffix('_max')\n",
    "    ).with_columns(\n",
    "        # l1 normalization\n",
    "        pl.col('total_ner_svd_scores').truediv(pl.col('total_ner_svd_scores_max')),\n",
    "        pl.col('mean_ner_svd_scores').truediv(pl.col('mean_ner_svd_scores_max')),\n",
    "        pl.col('max_ner_svd_scores').truediv(pl.col('max_ner_svd_scores_max')),\n",
    "        pl.col('total_ner_item_knn_scores').truediv(pl.col('total_ner_item_knn_scores_max')),\n",
    "        pl.col('mean_ner_item_knn_scores').truediv(pl.col('mean_ner_item_knn_scores_max')),\n",
    "        pl.col('max_ner_item_knn_scores').truediv(pl.col('max_ner_item_knn_scores_max')),\n",
    "    ).drop(['total_ner_svd_scores_max', 'mean_ner_svd_scores_max', \n",
    "            'max_ner_svd_scores_max', 'total_ner_item_knn_scores_max',\n",
    "            'mean_ner_item_knn_scores_max', 'max_ner_item_knn_scores_max']) \\\n",
    "    .rename({'article_ids_inview': 'article'})\n",
    "behaviors_ner_scores.head(5)"
   ]
  },
  {
   "cell_type": "code",
   "execution_count": 56,
   "id": "ac810ff9",
   "metadata": {
    "execution": {
     "iopub.execute_input": "2024-04-14T16:15:38.457067Z",
     "iopub.status.busy": "2024-04-14T16:15:38.456747Z",
     "iopub.status.idle": "2024-04-14T16:15:38.462349Z",
     "shell.execute_reply": "2024-04-14T16:15:38.461675Z"
    },
    "papermill": {
     "duration": 0.041787,
     "end_time": "2024-04-14T16:15:38.464469",
     "exception": false,
     "start_time": "2024-04-14T16:15:38.422682",
     "status": "completed"
    },
    "tags": []
   },
   "outputs": [
    {
     "data": {
      "text/plain": [
       "['device_type',\n",
       " 'is_sso_user',\n",
       " 'gender',\n",
       " 'is_subscriber',\n",
       " 'weekday',\n",
       " 'premium',\n",
       " 'category',\n",
       " 'sentiment_label',\n",
       " 'is_new_article',\n",
       " 'is_already_seen_article',\n",
       " 'MostFrequentCategory',\n",
       " 'MostFrequentWeekday',\n",
       " 'IsFavouriteCategory',\n",
       " 'Entity_ORG_Present',\n",
       " 'Entity_PROD_Present',\n",
       " 'Entity_LOC_Present',\n",
       " 'Entity_EVENT_Present',\n",
       " 'Entity_MISC_Present',\n",
       " 'Entity_PER_Present']"
      ]
     },
     "execution_count": 56,
     "metadata": {},
     "output_type": "execute_result"
    }
   ],
   "source": [
    "model.get_param('cat_features')"
   ]
  },
  {
   "cell_type": "code",
   "execution_count": 57,
   "id": "4f06ad9f",
   "metadata": {
    "execution": {
     "iopub.execute_input": "2024-04-14T16:15:38.533126Z",
     "iopub.status.busy": "2024-04-14T16:15:38.532587Z",
     "iopub.status.idle": "2024-04-14T16:15:47.677367Z",
     "shell.execute_reply": "2024-04-14T16:15:47.676529Z"
    },
    "papermill": {
     "duration": 9.180664,
     "end_time": "2024-04-14T16:15:47.679005",
     "exception": false,
     "start_time": "2024-04-14T16:15:38.498341",
     "status": "completed"
    },
    "tags": []
   },
   "outputs": [
    {
     "name": "stderr",
     "output_type": "stream",
     "text": [
      "16it [00:08,  1.82it/s]                        \n"
     ]
    },
    {
     "name": "stdout",
     "output_type": "stream",
     "text": [
      "\u001b[1m\u001b[31m\n",
      "RAM memory GB usage = 4.366\u001b[0m\n",
      "Memory usage of dataframe is 36.51 MB\n",
      "Memory usage after optimization is: 35.72 MB\n",
      "Decreased by 2.2%\n",
      "CPU times: user 10.2 s, sys: 832 ms, total: 11 s\n",
      "Wall time: 9.13 s\n"
     ]
    },
    {
     "data": {
      "text/html": [
       "<div><style>\n",
       ".dataframe > thead > tr,\n",
       ".dataframe > tbody > tr {\n",
       "  text-align: right;\n",
       "  white-space: pre-wrap;\n",
       "}\n",
       "</style>\n",
       "<small>shape: (2, 27)</small><table border=\"1\" class=\"dataframe\"><thead><tr><th>user_id</th><th>article_id_fixed</th><th>impression_time_fixed</th><th>category</th><th>NumArticlesHistory</th><th>MedianReadTime</th><th>MaxReadTime</th><th>TotalReadTime</th><th>MedianScrollPercentage</th><th>MaxScrollPercentage</th><th>NeutralPct</th><th>PositivePct</th><th>NegativePct</th><th>PctStrongNeutral</th><th>PctStrongPositive</th><th>PctStrongNegative</th><th>PctNotDefaultArticles</th><th>MostFrequentCategory</th><th>MostFrequentWeekday</th><th>MostFrequentHour</th><th>topics_flatten_tf_idf</th><th>ORGPct</th><th>PRODPct</th><th>LOCPct</th><th>EVENTPct</th><th>MISCPct</th><th>PERPct</th></tr><tr><td>u32</td><td>list[i32]</td><td>list[datetime[μs]]</td><td>list[i16]</td><td>u16</td><td>f32</td><td>f32</td><td>f32</td><td>f32</td><td>f32</td><td>f32</td><td>f32</td><td>f32</td><td>f32</td><td>f32</td><td>f32</td><td>f32</td><td>i16</td><td>i8</td><td>i8</td><td>list[f32]</td><td>f32</td><td>f32</td><td>f32</td><td>f32</td><td>f32</td><td>f32</td></tr></thead><tbody><tr><td>10623</td><td>[9750749, 9685790, … 9779517]</td><td>[2023-05-05 07:51:01, 2023-05-05 07:51:36, … 2023-05-24 17:10:11]</td><td>[118, 457, … 414]</td><td>150</td><td>3.5</td><td>1563.0</td><td>9330.0</td><td>37.0</td><td>100.0</td><td>0.28</td><td>0.093333</td><td>0.626667</td><td>0.126667</td><td>0.06</td><td>0.546667</td><td>0.06</td><td>118</td><td>1</td><td>20</td><td>[0.0, 0.042172, … 0.089681]</td><td>0.913333</td><td>0.213333</td><td>0.846667</td><td>0.3</td><td>0.266667</td><td>0.893333</td></tr><tr><td>12718</td><td>[9749036, 9749025, … 9778718]</td><td>[2023-05-04 07:49:49, 2023-05-04 07:50:15, … 2023-05-24 07:07:25]</td><td>[118, 118, … 140]</td><td>114</td><td>7.0</td><td>748.0</td><td>3440.0</td><td>36.0</td><td>100.0</td><td>0.245614</td><td>0.052632</td><td>0.701754</td><td>0.087719</td><td>0.035088</td><td>0.614035</td><td>0.035088</td><td>118</td><td>1</td><td>7</td><td>[0.0, 0.048524, … 0.217846]</td><td>0.947368</td><td>0.254386</td><td>0.815789</td><td>0.114035</td><td>0.192982</td><td>0.807018</td></tr></tbody></table></div>"
      ],
      "text/plain": [
       "shape: (2, 27)\n",
       "┌─────────┬─────────────┬─────────────┬────────────┬───┬──────────┬──────────┬──────────┬──────────┐\n",
       "│ user_id ┆ article_id_ ┆ impression_ ┆ category   ┆ … ┆ LOCPct   ┆ EVENTPct ┆ MISCPct  ┆ PERPct   │\n",
       "│ ---     ┆ fixed       ┆ time_fixed  ┆ ---        ┆   ┆ ---      ┆ ---      ┆ ---      ┆ ---      │\n",
       "│ u32     ┆ ---         ┆ ---         ┆ list[i16]  ┆   ┆ f32      ┆ f32      ┆ f32      ┆ f32      │\n",
       "│         ┆ list[i32]   ┆ list[dateti ┆            ┆   ┆          ┆          ┆          ┆          │\n",
       "│         ┆             ┆ me[μs]]     ┆            ┆   ┆          ┆          ┆          ┆          │\n",
       "╞═════════╪═════════════╪═════════════╪════════════╪═══╪══════════╪══════════╪══════════╪══════════╡\n",
       "│ 10623   ┆ [9750749,   ┆ [2023-05-05 ┆ [118, 457, ┆ … ┆ 0.846667 ┆ 0.3      ┆ 0.266667 ┆ 0.893333 │\n",
       "│         ┆ 9685790, …  ┆ 07:51:01,   ┆ … 414]     ┆   ┆          ┆          ┆          ┆          │\n",
       "│         ┆ 9779517]    ┆ 2023-05-05… ┆            ┆   ┆          ┆          ┆          ┆          │\n",
       "│ 12718   ┆ [9749036,   ┆ [2023-05-04 ┆ [118, 118, ┆ … ┆ 0.815789 ┆ 0.114035 ┆ 0.192982 ┆ 0.807018 │\n",
       "│         ┆ 9749025, …  ┆ 07:49:49,   ┆ … 140]     ┆   ┆          ┆          ┆          ┆          │\n",
       "│         ┆ 9778718]    ┆ 2023-05-04… ┆            ┆   ┆          ┆          ┆          ┆          │\n",
       "└─────────┴─────────────┴─────────────┴────────────┴───┴──────────┴──────────┴──────────┴──────────┘"
      ]
     },
     "execution_count": 57,
     "metadata": {},
     "output_type": "execute_result"
    }
   ],
   "source": [
    "%%time\n",
    "\n",
    "STRONG_THR = 0.8\n",
    "\n",
    "history_val = pl.concat(\n",
    "    rows.with_columns(pl.col('article_id_fixed').list.len().alias('NumArticlesHistory')) \\\n",
    "        .explode(['article_id_fixed', 'impression_time_fixed', 'read_time_fixed', 'scroll_percentage_fixed']) \\\n",
    "        .sort(by=['user_id', 'impression_time_fixed']) \\\n",
    "        .with_columns(\n",
    "            pl.col('impression_time_fixed').dt.weekday().alias('weekday'),\n",
    "            pl.col('impression_time_fixed').dt.hour().alias('hour'),\n",
    "        ).join(articles.select(['article_id', 'category', 'is_article_default', 'sentiment_label_int', \n",
    "                                'sentiment_score', 'entity_groups', 'topics']), \n",
    "               left_on='article_id_fixed', right_on='article_id', how='left') \\\n",
    "        .with_columns(\n",
    "            (pl.col('sentiment_label_int') == 0).alias('is_neutral'),\n",
    "            (pl.col('sentiment_label_int') == 1).alias('is_positive'),\n",
    "            (pl.col('sentiment_label_int') == -1).alias('is_negative'),\n",
    "            ((pl.col('sentiment_label_int') == 0) & (pl.col('sentiment_score') > STRONG_THR)).alias('strong_neutral'),\n",
    "            ((pl.col('sentiment_label_int') == 1) & (pl.col('sentiment_score') > STRONG_THR)).alias('strong_positive'),\n",
    "            ((pl.col('sentiment_label_int') == -1) & (pl.col('sentiment_score') > STRONG_THR)).alias('strong_negative'),\n",
    "            pl.col('entity_groups').list.unique(),\n",
    "        ).group_by('user_id').agg(\n",
    "            pl.col('article_id_fixed'),\n",
    "            pl.col('impression_time_fixed'),\n",
    "            pl.col('category'),\n",
    "            pl.col('NumArticlesHistory').first(),\n",
    "            pl.col('read_time_fixed').median().alias('MedianReadTime'),\n",
    "            pl.col('read_time_fixed').max().alias('MaxReadTime'),\n",
    "            pl.col('read_time_fixed').sum().alias('TotalReadTime'),\n",
    "            pl.col('scroll_percentage_fixed').median().alias('MedianScrollPercentage'),\n",
    "            pl.col('scroll_percentage_fixed').max().alias('MaxScrollPercentage'),\n",
    "            (pl.col('is_neutral').sum() / pl.col('NumArticlesHistory').first()).alias('NeutralPct'),\n",
    "            (pl.col('is_positive').sum() / pl.col('NumArticlesHistory').first()).alias('PositivePct'),\n",
    "            (pl.col('is_negative').sum() / pl.col('NumArticlesHistory').first()).alias('NegativePct'),\n",
    "            (pl.col('strong_neutral').sum() / pl.col('NumArticlesHistory').first()).alias('PctStrongNeutral'),\n",
    "            (pl.col('strong_positive').sum() / pl.col('NumArticlesHistory').first()).alias('PctStrongPositive'),\n",
    "            (pl.col('strong_negative').sum() / pl.col('NumArticlesHistory').first()).alias('PctStrongNegative'),\n",
    "            (1 - (pl.col('is_article_default').sum() / pl.col('NumArticlesHistory').first())).alias('PctNotDefaultArticles'),\n",
    "            pl.col('category').mode().alias('MostFrequentCategory'),\n",
    "            pl.col('weekday').mode().alias('MostFrequentWeekday'),\n",
    "            pl.col('hour').mode().alias('MostFrequentHour'),\n",
    "            pl.col('entity_groups').flatten(),\n",
    "            pl.col('topics').flatten().alias('topics_flatten')\n",
    "        ).pipe(add_topics_tf_idf_columns, topics_col='topics_flatten', vectorizer=vectorizer) \\\n",
    "        .drop('topics_flatten').with_columns(\n",
    "            pl.col('MostFrequentCategory').list.first(),\n",
    "            pl.col('MostFrequentWeekday').list.first(),\n",
    "            pl.col('MostFrequentHour').list.first(),\n",
    "        ).with_columns(\n",
    "            (pl.col('entity_groups').list.count_matches(entity) / pl.col('NumArticlesHistory')).alias(f'{entity}Pct')\n",
    "            for entity in unique_entities\n",
    "        ).drop('entity_groups')\n",
    "    for rows in tqdm.tqdm(history_val.iter_slices(1000), total=history_val.shape[0] // 1000)\n",
    ")\n",
    "\n",
    "gc.collect()\n",
    "PrintColor(f\"\\n\" + GetMemUsage(), color = Fore.RED)\n",
    "history_val = reduce_polars_df_memory_size(history_val)\n",
    "history_val.head(2)"
   ]
  },
  {
   "cell_type": "code",
   "execution_count": 58,
   "id": "cafb6b1c",
   "metadata": {
    "execution": {
     "iopub.execute_input": "2024-04-14T16:15:47.748737Z",
     "iopub.status.busy": "2024-04-14T16:15:47.748380Z",
     "iopub.status.idle": "2024-04-14T16:15:48.688001Z",
     "shell.execute_reply": "2024-04-14T16:15:48.687096Z"
    },
    "papermill": {
     "duration": 0.977569,
     "end_time": "2024-04-14T16:15:48.690615",
     "exception": false,
     "start_time": "2024-04-14T16:15:47.713046",
     "status": "completed"
    },
    "tags": []
   },
   "outputs": [],
   "source": [
    "last_history_df = history_val.with_columns(\n",
    "    pl.col('impression_time_fixed').list.max().alias('last_history_impression_time'),\n",
    "    pl.col('article_id_fixed').list.tail(1).alias('last_history_article'),\n",
    ").select(['user_id', 'last_history_impression_time', 'last_history_article'])\n",
    "\n",
    "last_session_time_df = behaviors_val.select(['session_id', 'user_id', 'impression_time', 'article_ids_inview', 'article_ids_clicked']) \\\n",
    "    .group_by('session_id').agg(\n",
    "        pl.col('user_id').first(), \n",
    "        pl.col('impression_time').max().alias('session_time'), \n",
    "        pl.col('article_ids_inview').flatten().alias('all_seen_articles'),\n",
    "        (pl.col('impression_time').max() - pl.col('impression_time').min()).dt.total_minutes().alias('session_duration'),\n",
    "    ).with_columns(\n",
    "        pl.col(['session_time', 'session_duration']).shift(1).over('user_id').name.prefix('last_'),\n",
    "        pl.col('all_seen_articles').list.unique().shift(1).over('user_id'),\n",
    "        pl.col('session_duration').rolling_mean(100, min_periods=1).over('user_id').alias('mean_prev_sessions_duration'),\n",
    "    ).with_columns(pl.col(['last_session_duration']).fill_null(0)) \\\n",
    "    .join(last_history_df, on='user_id', how='left') \\\n",
    "    .with_columns(\n",
    "        pl.col('last_session_time').fill_null(pl.col('last_history_impression_time')),\n",
    "        pl.col('all_seen_articles').fill_null(pl.col('last_history_article')),\n",
    "    ).select(['session_id', 'last_session_time', 'last_session_duration',\n",
    "              'all_seen_articles', 'mean_prev_sessions_duration'])"
   ]
  },
  {
   "cell_type": "code",
   "execution_count": 59,
   "id": "c852cc98",
   "metadata": {
    "execution": {
     "iopub.execute_input": "2024-04-14T16:15:48.761235Z",
     "iopub.status.busy": "2024-04-14T16:15:48.760936Z",
     "iopub.status.idle": "2024-04-14T16:17:15.856178Z",
     "shell.execute_reply": "2024-04-14T16:17:15.855166Z"
    },
    "papermill": {
     "duration": 87.132572,
     "end_time": "2024-04-14T16:17:15.857972",
     "exception": false,
     "start_time": "2024-04-14T16:15:48.725400",
     "status": "completed"
    },
    "tags": []
   },
   "outputs": [
    {
     "name": "stdout",
     "output_type": "stream",
     "text": [
      "\u001b[1m\u001b[31m\n",
      "RAM memory GB usage = 5.247\u001b[0m\n",
      "Memory usage of dataframe is 496.25 MB\n",
      "Memory usage after optimization is: 325.52 MB\n",
      "Decreased by 34.4%\n",
      "\u001b[1m\u001b[31m\n",
      "RAM memory GB usage = 5.082\u001b[0m\n",
      "CPU times: user 4min 50s, sys: 11.6 s, total: 5min 2s\n",
      "Wall time: 1min 27s\n"
     ]
    },
    {
     "data": {
      "text/html": [
       "<div><style>\n",
       ".dataframe > thead > tr,\n",
       ".dataframe > tbody > tr {\n",
       "  text-align: right;\n",
       "  white-space: pre-wrap;\n",
       "}\n",
       "</style>\n",
       "<small>shape: (5, 48)</small><table border=\"1\" class=\"dataframe\"><thead><tr><th>impression_id</th><th>article</th><th>user_id</th><th>target</th><th>device_type</th><th>read_time</th><th>scroll_percentage</th><th>is_sso_user</th><th>gender</th><th>age</th><th>is_subscriber</th><th>mean_topics_mean_delay_days</th><th>mean_topics_mean_delay_hours</th><th>user_mean_delay_days</th><th>user_mean_delay_hours</th><th>trendiness_score</th><th>mean_user_trendiness_score</th><th>mean_topics_trendiness_score</th><th>weekday</th><th>hour</th><th>premium</th><th>category</th><th>sentiment_score</th><th>sentiment_label</th><th>num_images</th><th>title_len</th><th>subtitle_len</th><th>body_len</th><th>article_delay_days</th><th>article_delay_hours</th><th>Entity_ORG_Present</th><th>Entity_PROD_Present</th><th>Entity_LOC_Present</th><th>Entity_EVENT_Present</th><th>Entity_MISC_Present</th><th>Entity_PER_Present</th><th>last_session_duration</th><th>mean_prev_sessions_duration</th><th>last_session_time_hour_diff</th><th>is_new_article</th><th>is_already_seen_article</th><th>yesterday_category_daily_pct</th><th>total_ner_svd_scores</th><th>mean_ner_svd_scores</th><th>max_ner_svd_scores</th><th>total_ner_item_knn_scores</th><th>mean_ner_item_knn_scores</th><th>max_ner_item_knn_scores</th></tr><tr><td>u32</td><td>i32</td><td>u32</td><td>i8</td><td>i8</td><td>f32</td><td>f32</td><td>bool</td><td>i8</td><td>i8</td><td>bool</td><td>f32</td><td>f32</td><td>f32</td><td>f32</td><td>i16</td><td>f32</td><td>f32</td><td>i8</td><td>i8</td><td>bool</td><td>i16</td><td>f32</td><td>str</td><td>u32</td><td>u8</td><td>u8</td><td>u16</td><td>i16</td><td>i32</td><td>bool</td><td>bool</td><td>bool</td><td>bool</td><td>bool</td><td>bool</td><td>i8</td><td>f32</td><td>i16</td><td>bool</td><td>bool</td><td>f32</td><td>f32</td><td>f32</td><td>f32</td><td>f32</td><td>f32</td><td>f32</td></tr></thead><tbody><tr><td>355443351</td><td>9780604</td><td>2120677</td><td>0</td><td>2</td><td>63.0</td><td>null</td><td>false</td><td>2</td><td>null</td><td>false</td><td>5.990736</td><td>146.317322</td><td>8.434783</td><td>206.482208</td><td>177</td><td>187.169968</td><td>269.747284</td><td>1</td><td>5</td><td>false</td><td>118</td><td>0.5153</td><td>&quot;Neutral&quot;</td><td>3</td><td>6</td><td>14</td><td>335</td><td>0</td><td>13</td><td>true</td><td>false</td><td>true</td><td>false</td><td>false</td><td>false</td><td>2</td><td>1.615385</td><td>74</td><td>false</td><td>false</td><td>0.309735</td><td>0.090152</td><td>0.067022</td><td>0.065122</td><td>0.124105</td><td>0.098758</td><td>0.101157</td></tr><tr><td>455500270</td><td>9777983</td><td>905758</td><td>0</td><td>2</td><td>161.0</td><td>100.0</td><td>false</td><td>2</td><td>null</td><td>false</td><td>12.021604</td><td>291.404327</td><td>3.43128</td><td>86.483414</td><td>75</td><td>223.909958</td><td>262.506805</td><td>3</td><td>6</td><td>false</td><td>414</td><td>0.8666</td><td>&quot;Positive&quot;</td><td>0</td><td>7</td><td>20</td><td>89</td><td>1</td><td>47</td><td>true</td><td>false</td><td>false</td><td>false</td><td>false</td><td>true</td><td>5</td><td>6.833333</td><td>138</td><td>false</td><td>false</td><td>0.116788</td><td>0.0</td><td>0.0</td><td>0.0</td><td>0.0</td><td>0.0</td><td>0.0</td></tr><tr><td>46791993</td><td>9777983</td><td>2203163</td><td>0</td><td>2</td><td>48.0</td><td>null</td><td>false</td><td>2</td><td>null</td><td>false</td><td>12.021604</td><td>291.404327</td><td>0.09434</td><td>4.924528</td><td>74</td><td>139.471695</td><td>262.506805</td><td>2</td><td>14</td><td>false</td><td>414</td><td>0.8666</td><td>&quot;Positive&quot;</td><td>0</td><td>7</td><td>20</td><td>89</td><td>1</td><td>31</td><td>true</td><td>false</td><td>false</td><td>false</td><td>false</td><td>true</td><td>0</td><td>2.076923</td><td>99</td><td>false</td><td>false</td><td>0.111111</td><td>0.0</td><td>0.0</td><td>0.0</td><td>0.0</td><td>0.0</td><td>0.0</td></tr><tr><td>415478512</td><td>9785835</td><td>2107297</td><td>0</td><td>1</td><td>88.0</td><td>100.0</td><td>true</td><td>0</td><td>70</td><td>false</td><td>40.976849</td><td>987.021362</td><td>0.196078</td><td>6.480392</td><td>95</td><td>202.970581</td><td>170.663879</td><td>2</td><td>16</td><td>false</td><td>118</td><td>0.9056</td><td>&quot;Neutral&quot;</td><td>0</td><td>7</td><td>27</td><td>151</td><td>1</td><td>44</td><td>true</td><td>false</td><td>false</td><td>false</td><td>false</td><td>true</td><td>0</td><td>0.0</td><td>145</td><td>false</td><td>false</td><td>0.268519</td><td>0.0</td><td>0.0</td><td>0.0</td><td>0.0</td><td>0.0</td><td>0.0</td></tr><tr><td>64868372</td><td>9566461</td><td>157786</td><td>0</td><td>2</td><td>12.0</td><td>100.0</td><td>false</td><td>2</td><td>null</td><td>false</td><td>26.916012</td><td>649.535217</td><td>195.223236</td><td>4690.34375</td><td>118</td><td>186.261963</td><td>135.030014</td><td>4</td><td>15</td><td>true</td><td>140</td><td>0.9946</td><td>&quot;Negative&quot;</td><td>3</td><td>7</td><td>30</td><td>689</td><td>146</td><td>3525</td><td>true</td><td>false</td><td>true</td><td>false</td><td>false</td><td>false</td><td>0</td><td>1.222222</td><td>-49</td><td>true</td><td>false</td><td>0.140845</td><td>0.652305</td><td>0.488486</td><td>0.38988</td><td>0.536217</td><td>0.364329</td><td>0.334027</td></tr></tbody></table></div>"
      ],
      "text/plain": [
       "shape: (5, 48)\n",
       "┌─────────────┬─────────┬─────────┬────────┬───┬────────────┬────────────┬────────────┬────────────┐\n",
       "│ impression_ ┆ article ┆ user_id ┆ target ┆ … ┆ max_ner_sv ┆ total_ner_ ┆ mean_ner_i ┆ max_ner_it │\n",
       "│ id          ┆ ---     ┆ ---     ┆ ---    ┆   ┆ d_scores   ┆ item_knn_s ┆ tem_knn_sc ┆ em_knn_sco │\n",
       "│ ---         ┆ i32     ┆ u32     ┆ i8     ┆   ┆ ---        ┆ cores      ┆ ores       ┆ res        │\n",
       "│ u32         ┆         ┆         ┆        ┆   ┆ f32        ┆ ---        ┆ ---        ┆ ---        │\n",
       "│             ┆         ┆         ┆        ┆   ┆            ┆ f32        ┆ f32        ┆ f32        │\n",
       "╞═════════════╪═════════╪═════════╪════════╪═══╪════════════╪════════════╪════════════╪════════════╡\n",
       "│ 355443351   ┆ 9780604 ┆ 2120677 ┆ 0      ┆ … ┆ 0.065122   ┆ 0.124105   ┆ 0.098758   ┆ 0.101157   │\n",
       "│ 455500270   ┆ 9777983 ┆ 905758  ┆ 0      ┆ … ┆ 0.0        ┆ 0.0        ┆ 0.0        ┆ 0.0        │\n",
       "│ 46791993    ┆ 9777983 ┆ 2203163 ┆ 0      ┆ … ┆ 0.0        ┆ 0.0        ┆ 0.0        ┆ 0.0        │\n",
       "│ 415478512   ┆ 9785835 ┆ 2107297 ┆ 0      ┆ … ┆ 0.0        ┆ 0.0        ┆ 0.0        ┆ 0.0        │\n",
       "│ 64868372    ┆ 9566461 ┆ 157786  ┆ 0      ┆ … ┆ 0.38988    ┆ 0.536217   ┆ 0.364329   ┆ 0.334027   │\n",
       "└─────────────┴─────────┴─────────┴────────┴───┴────────────┴────────────┴────────────┴────────────┘"
      ]
     },
     "execution_count": 59,
     "metadata": {},
     "output_type": "execute_result"
    }
   ],
   "source": [
    "%%time\n",
    "\n",
    "NPRATIO = 2\n",
    "\n",
    "# dropping duplicates that can occur because of sampling strategy\n",
    "val_ds = behaviors_val.pipe(create_binary_labels_column, shuffle=True, seed=123) \\\n",
    "    .with_columns(pl.col('gender').fill_null(2)) \\\n",
    "    .select(['impression_id', 'article_ids_inview', 'impression_time', 'labels', \n",
    "             'device_type', 'read_time', 'scroll_percentage', 'user_id', 'is_sso_user', 'gender',\n",
    "             'age', 'is_subscriber', 'session_id']) \\\n",
    "    .explode(['article_ids_inview', 'labels']) \\\n",
    "    .rename({'article_ids_inview': 'article', 'labels': 'target'}) \\\n",
    "    .with_columns(pl.col('article').cast(pl.Int32)) \\\n",
    "    .pipe(add_mean_delays_features, articles=articles, history=history_val) \\\n",
    "    .pipe(add_trendiness_feature, articles=articles, period='3d') \\\n",
    "    .pipe(add_history_trendiness_scores_feature, history=history_val, articles=articles) \\\n",
    "    .unique(['impression_id', 'article']) \\\n",
    "    .with_columns(\n",
    "        pl.col('impression_time').dt.weekday().alias('weekday'),\n",
    "        pl.col('impression_time').dt.hour().alias('hour'),\n",
    "        pl.col('article').cast(pl.Int32),\n",
    "    ).join(articles.select(['article_id', 'premium', 'published_time', 'category',\n",
    "                            'sentiment_score', 'sentiment_label', 'entity_groups',\n",
    "                            'num_images', 'title_len', 'subtitle_len', 'body_len']),\n",
    "           left_on='article', right_on='article_id', how='left') \\\n",
    "    .with_columns(\n",
    "        (pl.col('impression_time') - pl.col('published_time')).dt.total_days().alias('article_delay_days'),\n",
    "        (pl.col('impression_time') - pl.col('published_time')).dt.total_hours().alias('article_delay_hours')\n",
    "    ).with_columns(\n",
    "        pl.col('entity_groups').list.contains(entity).alias(f'Entity_{entity}_Present')\n",
    "        for entity in unique_entities\n",
    "    ).drop('entity_groups') \\\n",
    "    .join(last_session_time_df, on='session_id', how='left').with_columns(\n",
    "        (pl.col('impression_time') - pl.col('last_session_time')).dt.total_hours().alias('last_session_time_hour_diff'),\n",
    "        ((pl.col('last_session_time') - pl.col('published_time')).dt.total_hours() > 0).alias('is_new_article'),\n",
    "        pl.col('all_seen_articles').list.contains(pl.col('article')).alias('is_already_seen_article'),\n",
    "    ).drop(['published_time', 'session_id', 'all_seen_articles', 'last_session_time']) \\\n",
    "    .join(published_category_popularity, how='left', right_on=['published_date', 'category'],\n",
    "                         left_on=[pl.col('impression_time').dt.date() - pl.duration(days=1), 'category']) \\\n",
    "    .rename({'category_daily_pct': 'yesterday_category_daily_pct'}).drop(['impression_time']) \\\n",
    "    .with_columns(pl.col('yesterday_category_daily_pct').fill_null(0)) \\\n",
    "    .join(behaviors_ner_scores, on=['impression_id', 'article'], how='left')\\\n",
    "    \n",
    "\n",
    "gc.collect()\n",
    "PrintColor(f\"\\n\" + GetMemUsage(), color = Fore.RED)\n",
    "\n",
    "val_ds = reduce_polars_df_memory_size(val_ds)\n",
    "PrintColor(f\"\\n\" + GetMemUsage(), color = Fore.RED)\n",
    "val_ds.head()"
   ]
  },
  {
   "cell_type": "code",
   "execution_count": 60,
   "id": "154e476b",
   "metadata": {
    "execution": {
     "iopub.execute_input": "2024-04-14T16:17:15.928258Z",
     "iopub.status.busy": "2024-04-14T16:17:15.927958Z",
     "iopub.status.idle": "2024-04-14T16:17:15.933409Z",
     "shell.execute_reply": "2024-04-14T16:17:15.932708Z"
    },
    "papermill": {
     "duration": 0.042475,
     "end_time": "2024-04-14T16:17:15.935084",
     "exception": false,
     "start_time": "2024-04-14T16:17:15.892609",
     "status": "completed"
    },
    "tags": []
   },
   "outputs": [
    {
     "data": {
      "text/plain": [
       "(2928942, 48)"
      ]
     },
     "execution_count": 60,
     "metadata": {},
     "output_type": "execute_result"
    }
   ],
   "source": [
    "val_ds.shape"
   ]
  },
  {
   "cell_type": "markdown",
   "id": "0fe461c4",
   "metadata": {
    "papermill": {
     "duration": 0.034533,
     "end_time": "2024-04-14T16:17:16.005486",
     "exception": false,
     "start_time": "2024-04-14T16:17:15.970953",
     "status": "completed"
    },
    "tags": []
   },
   "source": [
    "### Recsys features"
   ]
  },
  {
   "cell_type": "code",
   "execution_count": 61,
   "id": "6c8a9e85",
   "metadata": {
    "execution": {
     "iopub.execute_input": "2024-04-14T16:17:16.077306Z",
     "iopub.status.busy": "2024-04-14T16:17:16.076746Z",
     "iopub.status.idle": "2024-04-14T16:17:50.139288Z",
     "shell.execute_reply": "2024-04-14T16:17:50.138024Z"
    },
    "papermill": {
     "duration": 34.134282,
     "end_time": "2024-04-14T16:17:50.174938",
     "exception": false,
     "start_time": "2024-04-14T16:17:16.040656",
     "status": "completed"
    },
    "tags": []
   },
   "outputs": [
    {
     "data": {
      "text/html": [
       "<div><style>\n",
       ".dataframe > thead > tr,\n",
       ".dataframe > tbody > tr {\n",
       "  text-align: right;\n",
       "  white-space: pre-wrap;\n",
       "}\n",
       "</style>\n",
       "<small>shape: (2_928_942, 51)</small><table border=\"1\" class=\"dataframe\"><thead><tr><th>impression_id</th><th>article</th><th>user_id</th><th>target</th><th>device_type</th><th>read_time</th><th>scroll_percentage</th><th>is_sso_user</th><th>gender</th><th>age</th><th>is_subscriber</th><th>mean_topics_mean_delay_days</th><th>mean_topics_mean_delay_hours</th><th>user_mean_delay_days</th><th>user_mean_delay_hours</th><th>trendiness_score</th><th>mean_user_trendiness_score</th><th>mean_topics_trendiness_score</th><th>weekday</th><th>hour</th><th>premium</th><th>category</th><th>sentiment_score</th><th>sentiment_label</th><th>num_images</th><th>title_len</th><th>subtitle_len</th><th>body_len</th><th>article_delay_days</th><th>article_delay_hours</th><th>Entity_ORG_Present</th><th>Entity_PROD_Present</th><th>Entity_LOC_Present</th><th>Entity_EVENT_Present</th><th>Entity_MISC_Present</th><th>Entity_PER_Present</th><th>last_session_duration</th><th>mean_prev_sessions_duration</th><th>last_session_time_hour_diff</th><th>is_new_article</th><th>is_already_seen_article</th><th>yesterday_category_daily_pct</th><th>total_ner_svd_scores</th><th>mean_ner_svd_scores</th><th>max_ner_svd_scores</th><th>total_ner_item_knn_scores</th><th>mean_ner_item_knn_scores</th><th>max_ner_item_knn_scores</th><th>PureSVDRecommender</th><th>RP3betaRecommender</th><th>ItemKNNCFRecommender</th></tr><tr><td>u32</td><td>i32</td><td>u32</td><td>i8</td><td>i8</td><td>f32</td><td>f32</td><td>bool</td><td>i8</td><td>i8</td><td>bool</td><td>f32</td><td>f32</td><td>f32</td><td>f32</td><td>i16</td><td>f32</td><td>f32</td><td>i8</td><td>i8</td><td>bool</td><td>i16</td><td>f32</td><td>str</td><td>u32</td><td>u8</td><td>u8</td><td>u16</td><td>i16</td><td>i32</td><td>bool</td><td>bool</td><td>bool</td><td>bool</td><td>bool</td><td>bool</td><td>i8</td><td>f32</td><td>i16</td><td>bool</td><td>bool</td><td>f32</td><td>f32</td><td>f32</td><td>f32</td><td>f32</td><td>f32</td><td>f32</td><td>f32</td><td>f32</td><td>f32</td></tr></thead><tbody><tr><td>80366312</td><td>7213923</td><td>10200</td><td>0</td><td>2</td><td>18.0</td><td>null</td><td>false</td><td>2</td><td>null</td><td>false</td><td>71.009972</td><td>1708.299805</td><td>6.277228</td><td>153.0</td><td>50</td><td>149.35643</td><td>196.553268</td><td>6</td><td>5</td><td>true</td><td>565</td><td>0.8109</td><td>&quot;Neutral&quot;</td><td>5</td><td>10</td><td>42</td><td>1048</td><td>1764</td><td>42336</td><td>false</td><td>false</td><td>false</td><td>false</td><td>false</td><td>false</td><td>1</td><td>0.25</td><td>45</td><td>true</td><td>false</td><td>0.0</td><td>0.0</td><td>0.0</td><td>0.0</td><td>0.0</td><td>0.0</td><td>0.0</td><td>0.025769</td><td>0.021887</td><td>0.476576</td></tr><tr><td>225664678</td><td>7594265</td><td>10200</td><td>0</td><td>2</td><td>4.0</td><td>null</td><td>false</td><td>2</td><td>null</td><td>false</td><td>89.117447</td><td>2143.625244</td><td>6.277228</td><td>153.0</td><td>51</td><td>149.35643</td><td>186.830322</td><td>4</td><td>8</td><td>true</td><td>565</td><td>0.8108</td><td>&quot;Neutral&quot;</td><td>8</td><td>7</td><td>26</td><td>1559</td><td>1488</td><td>35726</td><td>false</td><td>false</td><td>false</td><td>false</td><td>false</td><td>false</td><td>0</td><td>0.333333</td><td>-66</td><td>true</td><td>false</td><td>0.0</td><td>0.0</td><td>0.0</td><td>0.0</td><td>0.0</td><td>0.0</td><td>0.0</td><td>0.014628</td><td>0.0</td><td>0.176417</td></tr><tr><td>225664684</td><td>7594265</td><td>10200</td><td>0</td><td>2</td><td>17.0</td><td>null</td><td>false</td><td>2</td><td>null</td><td>false</td><td>89.117447</td><td>2143.625244</td><td>6.277228</td><td>153.0</td><td>51</td><td>149.35643</td><td>186.830322</td><td>4</td><td>8</td><td>true</td><td>565</td><td>0.8108</td><td>&quot;Neutral&quot;</td><td>8</td><td>7</td><td>26</td><td>1559</td><td>1488</td><td>35726</td><td>false</td><td>false</td><td>false</td><td>false</td><td>false</td><td>false</td><td>0</td><td>0.333333</td><td>-66</td><td>true</td><td>false</td><td>0.0</td><td>0.0</td><td>0.0</td><td>0.0</td><td>0.0</td><td>0.0</td><td>0.0</td><td>0.014628</td><td>0.0</td><td>0.176417</td></tr><tr><td>225664679</td><td>7594265</td><td>10200</td><td>0</td><td>2</td><td>34.0</td><td>null</td><td>false</td><td>2</td><td>null</td><td>false</td><td>89.117447</td><td>2143.625244</td><td>6.277228</td><td>153.0</td><td>51</td><td>149.35643</td><td>186.830322</td><td>4</td><td>8</td><td>true</td><td>565</td><td>0.8108</td><td>&quot;Neutral&quot;</td><td>8</td><td>7</td><td>26</td><td>1559</td><td>1488</td><td>35726</td><td>false</td><td>false</td><td>false</td><td>false</td><td>false</td><td>false</td><td>0</td><td>0.333333</td><td>-66</td><td>true</td><td>false</td><td>0.0</td><td>0.0</td><td>0.0</td><td>0.0</td><td>0.0</td><td>0.0</td><td>0.0</td><td>0.014628</td><td>0.0</td><td>0.176417</td></tr><tr><td>322455613</td><td>9142564</td><td>10200</td><td>0</td><td>2</td><td>40.0</td><td>null</td><td>false</td><td>2</td><td>null</td><td>false</td><td>49.040138</td><td>1180.714966</td><td>6.277228</td><td>153.0</td><td>180</td><td>149.35643</td><td>225.428879</td><td>6</td><td>21</td><td>true</td><td>414</td><td>0.955</td><td>&quot;Neutral&quot;</td><td>4</td><td>5</td><td>23</td><td>868</td><td>456</td><td>10955</td><td>true</td><td>false</td><td>true</td><td>false</td><td>false</td><td>true</td><td>1</td><td>0.428571</td><td>28</td><td>true</td><td>false</td><td>0.100775</td><td>0.093579</td><td>0.054721</td><td>0.072285</td><td>0.072349</td><td>0.039947</td><td>0.059189</td><td>0.023771</td><td>0.006542</td><td>0.281577</td></tr><tr><td>&hellip;</td><td>&hellip;</td><td>&hellip;</td><td>&hellip;</td><td>&hellip;</td><td>&hellip;</td><td>&hellip;</td><td>&hellip;</td><td>&hellip;</td><td>&hellip;</td><td>&hellip;</td><td>&hellip;</td><td>&hellip;</td><td>&hellip;</td><td>&hellip;</td><td>&hellip;</td><td>&hellip;</td><td>&hellip;</td><td>&hellip;</td><td>&hellip;</td><td>&hellip;</td><td>&hellip;</td><td>&hellip;</td><td>&hellip;</td><td>&hellip;</td><td>&hellip;</td><td>&hellip;</td><td>&hellip;</td><td>&hellip;</td><td>&hellip;</td><td>&hellip;</td><td>&hellip;</td><td>&hellip;</td><td>&hellip;</td><td>&hellip;</td><td>&hellip;</td><td>&hellip;</td><td>&hellip;</td><td>&hellip;</td><td>&hellip;</td><td>&hellip;</td><td>&hellip;</td><td>&hellip;</td><td>&hellip;</td><td>&hellip;</td><td>&hellip;</td><td>&hellip;</td><td>&hellip;</td><td>&hellip;</td><td>&hellip;</td><td>&hellip;</td></tr><tr><td>185972553</td><td>9790278</td><td>2590637</td><td>0</td><td>2</td><td>6.0</td><td>null</td><td>false</td><td>2</td><td>null</td><td>false</td><td>3.470918</td><td>85.708588</td><td>0.123288</td><td>4.068493</td><td>80</td><td>256.671234</td><td>177.712921</td><td>3</td><td>16</td><td>false</td><td>118</td><td>0.699</td><td>&quot;Neutral&quot;</td><td>1</td><td>5</td><td>9</td><td>216</td><td>0</td><td>0</td><td>true</td><td>true</td><td>true</td><td>false</td><td>false</td><td>true</td><td>0</td><td>0.0</td><td>139</td><td>false</td><td>false</td><td>0.306569</td><td>0.254551</td><td>0.86761</td><td>0.341464</td><td>0.282826</td><td>0.3631</td><td>0.356814</td><td>0.0</td><td>0.0</td><td>0.0</td></tr><tr><td>185972553</td><td>9790406</td><td>2590637</td><td>0</td><td>2</td><td>6.0</td><td>null</td><td>false</td><td>2</td><td>null</td><td>false</td><td>3.666086</td><td>90.499763</td><td>0.123288</td><td>4.068493</td><td>83</td><td>256.671234</td><td>220.61615</td><td>3</td><td>16</td><td>false</td><td>118</td><td>0.9185</td><td>&quot;Neutral&quot;</td><td>1</td><td>9</td><td>18</td><td>313</td><td>0</td><td>1</td><td>true</td><td>false</td><td>true</td><td>false</td><td>false</td><td>true</td><td>0</td><td>0.0</td><td>139</td><td>false</td><td>false</td><td>0.306569</td><td>-0.223116</td><td>-1.140702</td><td>0.00062</td><td>0.194708</td><td>0.374958</td><td>0.245644</td><td>0.0</td><td>0.0</td><td>0.0</td></tr><tr><td>185972553</td><td>9790414</td><td>2590637</td><td>0</td><td>2</td><td>6.0</td><td>null</td><td>false</td><td>2</td><td>null</td><td>false</td><td>19.099075</td><td>461.101196</td><td>0.123288</td><td>4.068493</td><td>117</td><td>256.671234</td><td>249.939346</td><td>3</td><td>16</td><td>false</td><td>118</td><td>0.8378</td><td>&quot;Negative&quot;</td><td>1</td><td>5</td><td>14</td><td>155</td><td>0</td><td>1</td><td>true</td><td>true</td><td>true</td><td>false</td><td>false</td><td>true</td><td>0</td><td>0.0</td><td>139</td><td>false</td><td>false</td><td>0.306569</td><td>0.002838</td><td>0.005804</td><td>0.003107</td><td>0.0</td><td>0.0</td><td>0.0</td><td>0.0</td><td>0.0</td><td>0.0</td></tr><tr><td>185972553</td><td>9790475</td><td>2590637</td><td>0</td><td>2</td><td>6.0</td><td>null</td><td>false</td><td>2</td><td>null</td><td>false</td><td>4.935377</td><td>120.833923</td><td>0.123288</td><td>4.068493</td><td>514</td><td>256.671234</td><td>295.257324</td><td>3</td><td>16</td><td>false</td><td>142</td><td>0.9926</td><td>&quot;Negative&quot;</td><td>2</td><td>12</td><td>15</td><td>277</td><td>0</td><td>0</td><td>true</td><td>false</td><td>false</td><td>false</td><td>false</td><td>true</td><td>0</td><td>0.0</td><td>139</td><td>false</td><td>false</td><td>0.29927</td><td>0.062084</td><td>0.211605</td><td>0.083345</td><td>0.038186</td><td>0.049025</td><td>0.048176</td><td>0.0</td><td>0.0</td><td>0.0</td></tr><tr><td>185972553</td><td>9790476</td><td>2590637</td><td>0</td><td>2</td><td>6.0</td><td>null</td><td>false</td><td>2</td><td>null</td><td>false</td><td>6.574231</td><td>160.131424</td><td>0.123288</td><td>4.068493</td><td>344</td><td>256.671234</td><td>273.102295</td><td>3</td><td>16</td><td>false</td><td>142</td><td>0.9957</td><td>&quot;Negative&quot;</td><td>1</td><td>7</td><td>19</td><td>142</td><td>0</td><td>0</td><td>true</td><td>false</td><td>true</td><td>true</td><td>true</td><td>true</td><td>0</td><td>0.0</td><td>139</td><td>false</td><td>false</td><td>0.29927</td><td>0.670555</td><td>0.857069</td><td>0.420421</td><td>0.358205</td><td>0.172453</td><td>0.24615</td><td>0.0</td><td>0.0</td><td>0.0</td></tr></tbody></table></div>"
      ],
      "text/plain": [
       "shape: (2_928_942, 51)\n",
       "┌─────────────┬─────────┬─────────┬────────┬───┬────────────┬────────────┬────────────┬────────────┐\n",
       "│ impression_ ┆ article ┆ user_id ┆ target ┆ … ┆ max_ner_it ┆ PureSVDRec ┆ RP3betaRec ┆ ItemKNNCFR │\n",
       "│ id          ┆ ---     ┆ ---     ┆ ---    ┆   ┆ em_knn_sco ┆ ommender   ┆ ommender   ┆ ecommender │\n",
       "│ ---         ┆ i32     ┆ u32     ┆ i8     ┆   ┆ res        ┆ ---        ┆ ---        ┆ ---        │\n",
       "│ u32         ┆         ┆         ┆        ┆   ┆ ---        ┆ f32        ┆ f32        ┆ f32        │\n",
       "│             ┆         ┆         ┆        ┆   ┆ f32        ┆            ┆            ┆            │\n",
       "╞═════════════╪═════════╪═════════╪════════╪═══╪════════════╪════════════╪════════════╪════════════╡\n",
       "│ 80366312    ┆ 7213923 ┆ 10200   ┆ 0      ┆ … ┆ 0.0        ┆ 0.025769   ┆ 0.021887   ┆ 0.476576   │\n",
       "│ 225664678   ┆ 7594265 ┆ 10200   ┆ 0      ┆ … ┆ 0.0        ┆ 0.014628   ┆ 0.0        ┆ 0.176417   │\n",
       "│ 225664684   ┆ 7594265 ┆ 10200   ┆ 0      ┆ … ┆ 0.0        ┆ 0.014628   ┆ 0.0        ┆ 0.176417   │\n",
       "│ 225664679   ┆ 7594265 ┆ 10200   ┆ 0      ┆ … ┆ 0.0        ┆ 0.014628   ┆ 0.0        ┆ 0.176417   │\n",
       "│ 322455613   ┆ 9142564 ┆ 10200   ┆ 0      ┆ … ┆ 0.059189   ┆ 0.023771   ┆ 0.006542   ┆ 0.281577   │\n",
       "│ …           ┆ …       ┆ …       ┆ …      ┆ … ┆ …          ┆ …          ┆ …          ┆ …          │\n",
       "│ 185972553   ┆ 9790278 ┆ 2590637 ┆ 0      ┆ … ┆ 0.356814   ┆ 0.0        ┆ 0.0        ┆ 0.0        │\n",
       "│ 185972553   ┆ 9790406 ┆ 2590637 ┆ 0      ┆ … ┆ 0.245644   ┆ 0.0        ┆ 0.0        ┆ 0.0        │\n",
       "│ 185972553   ┆ 9790414 ┆ 2590637 ┆ 0      ┆ … ┆ 0.0        ┆ 0.0        ┆ 0.0        ┆ 0.0        │\n",
       "│ 185972553   ┆ 9790475 ┆ 2590637 ┆ 0      ┆ … ┆ 0.048176   ┆ 0.0        ┆ 0.0        ┆ 0.0        │\n",
       "│ 185972553   ┆ 9790476 ┆ 2590637 ┆ 0      ┆ … ┆ 0.24615    ┆ 0.0        ┆ 0.0        ┆ 0.0        │\n",
       "└─────────────┴─────────┴─────────┴────────┴───┴────────────┴────────────┴────────────┴────────────┘"
      ]
     },
     "execution_count": 61,
     "metadata": {},
     "output_type": "execute_result"
    }
   ],
   "source": [
    "dict_val = {\n",
    "    'PureSVDRecommender': pure_svd_val,\n",
    "    'RP3betaRecommender': rp3_val,\n",
    "    'ItemKNNCFRecommender': knn_val\n",
    "}\n",
    "\n",
    "val_ds = val_ds\\\n",
    ".join(user_mapping_val,on='user_id')\\\n",
    ".join(item_mapping,left_on='article',right_on='article_id')\\\n",
    ".sort(['user_index','item_index']).group_by('user_index').map_groups(\n",
    "    lambda df: df.pipe(get_recommender_scores, recommenders=dict_val)\n",
    ").drop('user_index','item_index')\n",
    "\n",
    "val_ds"
   ]
  },
  {
   "cell_type": "code",
   "execution_count": 62,
   "id": "db86ab67",
   "metadata": {
    "execution": {
     "iopub.execute_input": "2024-04-14T16:17:50.246653Z",
     "iopub.status.busy": "2024-04-14T16:17:50.246298Z",
     "iopub.status.idle": "2024-04-14T16:38:44.169816Z",
     "shell.execute_reply": "2024-04-14T16:38:44.168431Z"
    },
    "papermill": {
     "duration": 1253.962436,
     "end_time": "2024-04-14T16:38:44.172149",
     "exception": false,
     "start_time": "2024-04-14T16:17:50.209713",
     "status": "completed"
    },
    "tags": []
   },
   "outputs": [
    {
     "name": "stderr",
     "output_type": "stream",
     "text": [
      "293it [20:53,  4.28s/it]\n"
     ]
    },
    {
     "name": "stdout",
     "output_type": "stream",
     "text": [
      "Memory usage of dataframe is 790.24 MB\n",
      "Memory usage after optimization is: 714.83 MB\n",
      "Decreased by 9.5%\n",
      "\u001b[1m\u001b[31m\n",
      "RAM memory GB usage = 6.796\u001b[0m\n"
     ]
    },
    {
     "data": {
      "text/html": [
       "<div><style>\n",
       ".dataframe > thead > tr,\n",
       ".dataframe > tbody > tr {\n",
       "  text-align: right;\n",
       "  white-space: pre-wrap;\n",
       "}\n",
       "</style>\n",
       "<small>shape: (5, 87)</small><table border=\"1\" class=\"dataframe\"><thead><tr><th>impression_id</th><th>article</th><th>user_id</th><th>target</th><th>device_type</th><th>read_time</th><th>scroll_percentage</th><th>is_sso_user</th><th>gender</th><th>age</th><th>is_subscriber</th><th>mean_topics_mean_delay_days</th><th>mean_topics_mean_delay_hours</th><th>user_mean_delay_days</th><th>user_mean_delay_hours</th><th>trendiness_score</th><th>mean_user_trendiness_score</th><th>mean_topics_trendiness_score</th><th>weekday</th><th>hour</th><th>premium</th><th>category</th><th>sentiment_score</th><th>sentiment_label</th><th>num_images</th><th>title_len</th><th>subtitle_len</th><th>body_len</th><th>article_delay_days</th><th>article_delay_hours</th><th>Entity_ORG_Present</th><th>Entity_PROD_Present</th><th>Entity_LOC_Present</th><th>Entity_EVENT_Present</th><th>Entity_MISC_Present</th><th>Entity_PER_Present</th><th>total_ner_svd_scores</th><th>&hellip;</th><th>yesterday_category_daily_pct</th><th>MeanCommonEntities</th><th>MaxCommonEntities</th><th>mean_JS</th><th>min_JS</th><th>max_JS</th><th>std_JS</th><th>mean_topic_model_cosine</th><th>min_topic_model_cosine</th><th>max_topic_model_cosine</th><th>std_topic_model_cosine</th><th>NumArticlesHistory</th><th>MedianReadTime</th><th>MaxReadTime</th><th>TotalReadTime</th><th>MedianScrollPercentage</th><th>MaxScrollPercentage</th><th>NeutralPct</th><th>PositivePct</th><th>NegativePct</th><th>PctStrongNeutral</th><th>PctStrongPositive</th><th>PctStrongNegative</th><th>PctNotDefaultArticles</th><th>MostFrequentCategory</th><th>MostFrequentWeekday</th><th>MostFrequentHour</th><th>ORGPct</th><th>PRODPct</th><th>LOCPct</th><th>EVENTPct</th><th>MISCPct</th><th>PERPct</th><th>topics_cosine</th><th>IsFavouriteCategory</th><th>NumberDifferentCategories</th><th>PctCategoryMatches</th></tr><tr><td>u32</td><td>i32</td><td>u32</td><td>i8</td><td>i8</td><td>f32</td><td>f32</td><td>bool</td><td>i8</td><td>i8</td><td>bool</td><td>f32</td><td>f32</td><td>f32</td><td>f32</td><td>i16</td><td>f32</td><td>f32</td><td>i8</td><td>i8</td><td>bool</td><td>i16</td><td>f32</td><td>str</td><td>u32</td><td>u8</td><td>u8</td><td>u16</td><td>i16</td><td>i32</td><td>bool</td><td>bool</td><td>bool</td><td>bool</td><td>bool</td><td>bool</td><td>f32</td><td>&hellip;</td><td>f32</td><td>f32</td><td>u32</td><td>f32</td><td>f32</td><td>f32</td><td>f32</td><td>f32</td><td>f32</td><td>f32</td><td>f32</td><td>u16</td><td>f32</td><td>f32</td><td>f32</td><td>f32</td><td>f32</td><td>f32</td><td>f32</td><td>f32</td><td>f32</td><td>f32</td><td>f32</td><td>f32</td><td>i16</td><td>i8</td><td>i8</td><td>f32</td><td>f32</td><td>f32</td><td>f32</td><td>f32</td><td>f32</td><td>f32</td><td>bool</td><td>u8</td><td>f32</td></tr></thead><tbody><tr><td>45679270</td><td>9788653</td><td>19026</td><td>0</td><td>2</td><td>97.0</td><td>100.0</td><td>false</td><td>2</td><td>null</td><td>false</td><td>4.333778</td><td>106.383797</td><td>3.647727</td><td>91.329544</td><td>338</td><td>209.704544</td><td>285.751953</td><td>3</td><td>8</td><td>false</td><td>142</td><td>0.9487</td><td>&quot;Negative&quot;</td><td>3</td><td>5</td><td>19</td><td>474</td><td>0</td><td>1</td><td>true</td><td>false</td><td>true</td><td>false</td><td>false</td><td>true</td><td>0.042761</td><td>&hellip;</td><td>0.29927</td><td>2.602273</td><td>3</td><td>0.084821</td><td>0.0</td><td>0.285714</td><td>0.101334</td><td>0.755494</td><td>0.529668</td><td>0.987856</td><td>0.127713</td><td>88</td><td>44.0</td><td>895.0</td><td>7137.0</td><td>100.0</td><td>100.0</td><td>0.227273</td><td>0.284091</td><td>0.488636</td><td>0.079545</td><td>0.102273</td><td>0.409091</td><td>0.011364</td><td>118</td><td>7</td><td>22</td><td>0.886364</td><td>0.465909</td><td>0.818182</td><td>0.181818</td><td>0.238636</td><td>0.897727</td><td>0.33639</td><td>false</td><td>10</td><td>0.897727</td></tr><tr><td>419467675</td><td>9781796</td><td>17548</td><td>0</td><td>1</td><td>1.0</td><td>null</td><td>false</td><td>2</td><td>null</td><td>false</td><td>5.049484</td><td>123.670456</td><td>0.012739</td><td>1.535032</td><td>191</td><td>246.738861</td><td>210.281662</td><td>1</td><td>8</td><td>false</td><td>118</td><td>0.539</td><td>&quot;Negative&quot;</td><td>1</td><td>6</td><td>17</td><td>295</td><td>3</td><td>81</td><td>true</td><td>false</td><td>true</td><td>false</td><td>false</td><td>true</td><td>0.020309</td><td>&hellip;</td><td>0.309735</td><td>2.541401</td><td>3</td><td>0.06719</td><td>0.0</td><td>0.5</td><td>0.110591</td><td>0.66446</td><td>0.352949</td><td>0.996632</td><td>0.179556</td><td>157</td><td>5.0</td><td>1459.0</td><td>11013.0</td><td>76.0</td><td>100.0</td><td>0.273885</td><td>0.171975</td><td>0.55414</td><td>0.10828</td><td>0.127389</td><td>0.490446</td><td>0.095541</td><td>142</td><td>4</td><td>18</td><td>0.955414</td><td>0.286624</td><td>0.757962</td><td>0.203822</td><td>0.178344</td><td>0.828025</td><td>0.251626</td><td>false</td><td>8</td><td>0.955414</td></tr><tr><td>382941878</td><td>9784094</td><td>15075</td><td>1</td><td>1</td><td>21.0</td><td>null</td><td>false</td><td>2</td><td>null</td><td>false</td><td>3.642022</td><td>89.905807</td><td>0.0</td><td>0.666667</td><td>159</td><td>212.238098</td><td>174.438522</td><td>6</td><td>15</td><td>false</td><td>118</td><td>0.8765</td><td>&quot;Negative&quot;</td><td>1</td><td>7</td><td>14</td><td>346</td><td>0</td><td>0</td><td>true</td><td>false</td><td>true</td><td>false</td><td>false</td><td>true</td><td>0.627008</td><td>&hellip;</td><td>0.232558</td><td>2.380952</td><td>3</td><td>0.04966</td><td>0.0</td><td>0.5</td><td>0.13759</td><td>0.817487</td><td>0.57951</td><td>0.975106</td><td>0.119423</td><td>21</td><td>24.0</td><td>775.0</td><td>1616.0</td><td>71.0</td><td>100.0</td><td>0.142857</td><td>0.047619</td><td>0.809524</td><td>0.095238</td><td>0.047619</td><td>0.619048</td><td>0.095238</td><td>118</td><td>2</td><td>20</td><td>0.857143</td><td>0.142857</td><td>0.666667</td><td>0.238095</td><td>0.238095</td><td>0.857143</td><td>0.185017</td><td>true</td><td>6</td><td>0.761905</td></tr><tr><td>440925505</td><td>9783729</td><td>11951</td><td>0</td><td>1</td><td>19.0</td><td>null</td><td>false</td><td>2</td><td>null</td><td>false</td><td>2.708229</td><td>67.629654</td><td>0.0</td><td>1.612149</td><td>262</td><td>216.976639</td><td>383.307007</td><td>6</td><td>13</td><td>false</td><td>142</td><td>0.8483</td><td>&quot;Neutral&quot;</td><td>3</td><td>5</td><td>14</td><td>469</td><td>0</td><td>4</td><td>true</td><td>false</td><td>true</td><td>true</td><td>true</td><td>true</td><td>0.141786</td><td>&hellip;</td><td>0.302326</td><td>2.901869</td><td>5</td><td>0.104339</td><td>0.0</td><td>0.8</td><td>0.200568</td><td>0.719892</td><td>0.44918</td><td>0.998278</td><td>0.158678</td><td>214</td><td>5.5</td><td>355.0</td><td>2878.0</td><td>32.0</td><td>100.0</td><td>0.205607</td><td>0.14486</td><td>0.649533</td><td>0.070093</td><td>0.056075</td><td>0.570093</td><td>0.042056</td><td>118</td><td>7</td><td>18</td><td>0.915888</td><td>0.285047</td><td>0.766355</td><td>0.205607</td><td>0.163551</td><td>0.850467</td><td>0.324163</td><td>false</td><td>9</td><td>0.962617</td></tr><tr><td>50932972</td><td>9783646</td><td>19026</td><td>0</td><td>2</td><td>59.0</td><td>100.0</td><td>false</td><td>2</td><td>null</td><td>false</td><td>2.824303</td><td>70.13401</td><td>3.647727</td><td>91.329544</td><td>255</td><td>209.704544</td><td>393.217255</td><td>6</td><td>9</td><td>false</td><td>142</td><td>0.9767</td><td>&quot;Positive&quot;</td><td>1</td><td>5</td><td>16</td><td>151</td><td>0</td><td>2</td><td>true</td><td>false</td><td>true</td><td>true</td><td>true</td><td>true</td><td>0.024996</td><td>&hellip;</td><td>0.302326</td><td>3.022727</td><td>5</td><td>0.085417</td><td>0.0</td><td>1.0</td><td>0.192594</td><td>0.753356</td><td>0.459139</td><td>0.975042</td><td>0.119576</td><td>88</td><td>44.0</td><td>895.0</td><td>7137.0</td><td>100.0</td><td>100.0</td><td>0.227273</td><td>0.284091</td><td>0.488636</td><td>0.079545</td><td>0.102273</td><td>0.409091</td><td>0.011364</td><td>118</td><td>7</td><td>22</td><td>0.886364</td><td>0.465909</td><td>0.818182</td><td>0.181818</td><td>0.238636</td><td>0.897727</td><td>0.316527</td><td>false</td><td>10</td><td>0.897727</td></tr></tbody></table></div>"
      ],
      "text/plain": [
       "shape: (5, 87)\n",
       "┌─────────────┬─────────┬─────────┬────────┬───┬────────────┬────────────┬────────────┬────────────┐\n",
       "│ impression_ ┆ article ┆ user_id ┆ target ┆ … ┆ topics_cos ┆ IsFavourit ┆ NumberDiff ┆ PctCategor │\n",
       "│ id          ┆ ---     ┆ ---     ┆ ---    ┆   ┆ ine        ┆ eCategory  ┆ erentCateg ┆ yMatches   │\n",
       "│ ---         ┆ i32     ┆ u32     ┆ i8     ┆   ┆ ---        ┆ ---        ┆ ories      ┆ ---        │\n",
       "│ u32         ┆         ┆         ┆        ┆   ┆ f32        ┆ bool       ┆ ---        ┆ f32        │\n",
       "│             ┆         ┆         ┆        ┆   ┆            ┆            ┆ u8         ┆            │\n",
       "╞═════════════╪═════════╪═════════╪════════╪═══╪════════════╪════════════╪════════════╪════════════╡\n",
       "│ 45679270    ┆ 9788653 ┆ 19026   ┆ 0      ┆ … ┆ 0.33639    ┆ false      ┆ 10         ┆ 0.897727   │\n",
       "│ 419467675   ┆ 9781796 ┆ 17548   ┆ 0      ┆ … ┆ 0.251626   ┆ false      ┆ 8          ┆ 0.955414   │\n",
       "│ 382941878   ┆ 9784094 ┆ 15075   ┆ 1      ┆ … ┆ 0.185017   ┆ true       ┆ 6          ┆ 0.761905   │\n",
       "│ 440925505   ┆ 9783729 ┆ 11951   ┆ 0      ┆ … ┆ 0.324163   ┆ false      ┆ 9          ┆ 0.962617   │\n",
       "│ 50932972    ┆ 9783646 ┆ 19026   ┆ 0      ┆ … ┆ 0.316527   ┆ false      ┆ 10         ┆ 0.897727   │\n",
       "└─────────────┴─────────┴─────────┴────────┴───┴────────────┴────────────┴────────────┴────────────┘"
      ]
     },
     "execution_count": 62,
     "metadata": {},
     "output_type": "execute_result"
    }
   ],
   "source": [
    "prev_columns = [c for c in val_ds.columns if c not in ['impression_id', 'article']]\n",
    "\n",
    "val_ds = pl.concat(\n",
    "    rows.join(history_val.select(['user_id', 'article_id_fixed']), on='user_id', how='left') \\\n",
    "        .join(articles.select(['article_id', 'topics', 'entity_groups', 'topics_idf'] + topic_model_columns), \n",
    "              left_on='article', right_on='article_id', how='left') \\\n",
    "        .explode(['article_id_fixed']) \\\n",
    "        .join(articles.select(['article_id', 'topics', 'entity_groups'] + topic_model_columns), \n",
    "              left_on='article_id_fixed', right_on='article_id', how='left') \\\n",
    "        .rename({'topics_right': 'topics_history', 'entity_groups_right': 'entity_groups_history'}) \\\n",
    "        .rename({f'topic_model_embedding_{i}_right': f'topic_model_embedding_{i}_history' for i in range(N_COMPONENTS)}) \\\n",
    "        .with_columns(\n",
    "            (pl.col(\"topics\").list.set_intersection(pl.col(\"topics_history\")).list.len().truediv(\n",
    "                pl.col(\"topics\").list.set_union(pl.col(\"topics_history\")).list.len()\n",
    "            )).alias(\"JS\"),\n",
    "            pl.col('entity_groups').list.set_intersection(pl.col('entity_groups_history')).list.len().alias('common_entities'),\n",
    "        ).drop(['entity_groups_history', 'entity_groups', 'topics', 'topics_history']) \\\n",
    "        .with_columns(\n",
    "            [pl.col(x).mul(pl.col(f'{x}_history')).alias(f'{x}_dot') for x in topic_model_columns] + \\\n",
    "            [pl.col(x).mul(pl.col(x)) for x in topic_model_columns] + \\\n",
    "            [pl.col(f'{x}_history').mul(pl.col(f'{x}_history')) for x in topic_model_columns]\n",
    "        ).with_columns(\n",
    "            pl.sum_horizontal(topic_model_columns).sqrt().alias('topic_model_norm'),\n",
    "            pl.sum_horizontal([f'{x}_history' for x in topic_model_columns]).sqrt().alias('topic_model_history_norm'),\n",
    "            pl.sum_horizontal([f'{x}_dot' for x in topic_model_columns]).alias('topic_model_dot'),\n",
    "        ).with_columns(\n",
    "            pl.col('topic_model_dot').truediv(pl.col('topic_model_norm').mul('topic_model_history_norm')).alias('topic_model_cosine')\n",
    "        ).group_by(['impression_id', 'article']).agg(\n",
    "            pl.col(prev_train_columns).first(),\n",
    "            pl.col('topics_idf').first(),\n",
    "            pl.col('common_entities').mean().alias('MeanCommonEntities'),\n",
    "            pl.col('common_entities').max().alias('MaxCommonEntities'),\n",
    "            pl.col(\"JS\").mean().alias(\"mean_JS\"),\n",
    "            pl.col(\"JS\").min().alias(\"min_JS\"),\n",
    "            pl.col(\"JS\").max().alias(\"max_JS\"),\n",
    "            pl.col(\"JS\").std().alias(\"std_JS\"),\n",
    "            pl.col(\"topic_model_cosine\").mean().alias(\"mean_topic_model_cosine\"),\n",
    "            pl.col(\"topic_model_cosine\").min().alias(\"min_topic_model_cosine\"),\n",
    "            pl.col(\"topic_model_cosine\").max().alias(\"max_topic_model_cosine\"),\n",
    "            pl.col(\"topic_model_cosine\").std().alias(\"std_topic_model_cosine\"),\n",
    "        ).join(history_val.drop(['article_id_fixed', 'impression_time_fixed']), on='user_id', how='left') \\\n",
    "        .with_columns(\n",
    "            pl.struct(['topics_idf', 'topics_flatten_tf_idf']).map_elements(\n",
    "                lambda x: cosine_similarity(x['topics_idf'], x['topics_flatten_tf_idf']), return_dtype=pl.Float64\n",
    "            ).cast(pl.Float32).alias('topics_cosine'),\n",
    "            (pl.col('category') == pl.col('MostFrequentCategory')).alias('IsFavouriteCategory'),\n",
    "            pl.col('category_right').list.n_unique().alias('NumberDifferentCategories'),\n",
    "            list_pct_matches_with_col('category_right', 'category').alias('PctCategoryMatches'),\n",
    "        ).drop(['topics_idf', 'topics_flatten', 'topics_flatten_tf_idf', 'category_right'])\n",
    "    for rows in tqdm.tqdm(val_ds.iter_slices(10000), total=val_ds.shape[0] // 10000)\n",
    ")\n",
    "\n",
    "val_ds = reduce_polars_df_memory_size(val_ds)\n",
    "PrintColor(f\"\\n\" + GetMemUsage(), color = Fore.RED)\n",
    "val_ds.head()"
   ]
  },
  {
   "cell_type": "code",
   "execution_count": 63,
   "id": "b3e85a9b",
   "metadata": {
    "execution": {
     "iopub.execute_input": "2024-04-14T16:38:44.278014Z",
     "iopub.status.busy": "2024-04-14T16:38:44.277715Z",
     "iopub.status.idle": "2024-04-14T16:38:44.284240Z",
     "shell.execute_reply": "2024-04-14T16:38:44.283340Z"
    },
    "papermill": {
     "duration": 0.060774,
     "end_time": "2024-04-14T16:38:44.285928",
     "exception": false,
     "start_time": "2024-04-14T16:38:44.225154",
     "status": "completed"
    },
    "tags": []
   },
   "outputs": [
    {
     "data": {
      "text/plain": [
       "(2928942, 87)"
      ]
     },
     "execution_count": 63,
     "metadata": {},
     "output_type": "execute_result"
    }
   ],
   "source": [
    "val_ds.shape"
   ]
  },
  {
   "cell_type": "code",
   "execution_count": 64,
   "id": "b086305c",
   "metadata": {
    "execution": {
     "iopub.execute_input": "2024-04-14T16:38:44.389842Z",
     "iopub.status.busy": "2024-04-14T16:38:44.389533Z",
     "iopub.status.idle": "2024-04-14T16:38:44.396726Z",
     "shell.execute_reply": "2024-04-14T16:38:44.395795Z"
    },
    "papermill": {
     "duration": 0.061084,
     "end_time": "2024-04-14T16:38:44.398339",
     "exception": false,
     "start_time": "2024-04-14T16:38:44.337255",
     "status": "completed"
    },
    "tags": []
   },
   "outputs": [
    {
     "data": {
      "text/plain": [
       "['impression_id',\n",
       " 'article',\n",
       " 'user_id',\n",
       " 'target',\n",
       " 'device_type',\n",
       " 'read_time',\n",
       " 'scroll_percentage',\n",
       " 'is_sso_user',\n",
       " 'gender',\n",
       " 'age',\n",
       " 'is_subscriber',\n",
       " 'mean_topics_mean_delay_days',\n",
       " 'mean_topics_mean_delay_hours',\n",
       " 'user_mean_delay_days',\n",
       " 'user_mean_delay_hours',\n",
       " 'trendiness_score',\n",
       " 'mean_user_trendiness_score',\n",
       " 'mean_topics_trendiness_score',\n",
       " 'weekday',\n",
       " 'hour',\n",
       " 'premium',\n",
       " 'category',\n",
       " 'sentiment_score',\n",
       " 'sentiment_label',\n",
       " 'num_images',\n",
       " 'title_len',\n",
       " 'subtitle_len',\n",
       " 'body_len',\n",
       " 'article_delay_days',\n",
       " 'article_delay_hours',\n",
       " 'Entity_ORG_Present',\n",
       " 'Entity_PROD_Present',\n",
       " 'Entity_LOC_Present',\n",
       " 'Entity_EVENT_Present',\n",
       " 'Entity_MISC_Present',\n",
       " 'Entity_PER_Present',\n",
       " 'total_ner_svd_scores',\n",
       " 'mean_ner_svd_scores',\n",
       " 'max_ner_svd_scores',\n",
       " 'total_ner_item_knn_scores',\n",
       " 'mean_ner_item_knn_scores',\n",
       " 'max_ner_item_knn_scores',\n",
       " 'PureSVDRecommender',\n",
       " 'RP3betaRecommender',\n",
       " 'ItemKNNCFRecommender',\n",
       " 'last_session_duration',\n",
       " 'mean_prev_sessions_duration',\n",
       " 'last_session_time_hour_diff',\n",
       " 'is_new_article',\n",
       " 'is_already_seen_article',\n",
       " 'yesterday_category_daily_pct',\n",
       " 'MeanCommonEntities',\n",
       " 'MaxCommonEntities',\n",
       " 'mean_JS',\n",
       " 'min_JS',\n",
       " 'max_JS',\n",
       " 'std_JS',\n",
       " 'mean_topic_model_cosine',\n",
       " 'min_topic_model_cosine',\n",
       " 'max_topic_model_cosine',\n",
       " 'std_topic_model_cosine',\n",
       " 'NumArticlesHistory',\n",
       " 'MedianReadTime',\n",
       " 'MaxReadTime',\n",
       " 'TotalReadTime',\n",
       " 'MedianScrollPercentage',\n",
       " 'MaxScrollPercentage',\n",
       " 'NeutralPct',\n",
       " 'PositivePct',\n",
       " 'NegativePct',\n",
       " 'PctStrongNeutral',\n",
       " 'PctStrongPositive',\n",
       " 'PctStrongNegative',\n",
       " 'PctNotDefaultArticles',\n",
       " 'MostFrequentCategory',\n",
       " 'MostFrequentWeekday',\n",
       " 'MostFrequentHour',\n",
       " 'ORGPct',\n",
       " 'PRODPct',\n",
       " 'LOCPct',\n",
       " 'EVENTPct',\n",
       " 'MISCPct',\n",
       " 'PERPct',\n",
       " 'topics_cosine',\n",
       " 'IsFavouriteCategory',\n",
       " 'NumberDifferentCategories',\n",
       " 'PctCategoryMatches']"
      ]
     },
     "execution_count": 64,
     "metadata": {},
     "output_type": "execute_result"
    }
   ],
   "source": [
    "val_ds.columns"
   ]
  },
  {
   "cell_type": "code",
   "execution_count": 65,
   "id": "17fdd591",
   "metadata": {
    "execution": {
     "iopub.execute_input": "2024-04-14T16:38:44.506943Z",
     "iopub.status.busy": "2024-04-14T16:38:44.506624Z",
     "iopub.status.idle": "2024-04-14T16:38:44.513045Z",
     "shell.execute_reply": "2024-04-14T16:38:44.512045Z"
    },
    "papermill": {
     "duration": 0.064596,
     "end_time": "2024-04-14T16:38:44.514660",
     "exception": false,
     "start_time": "2024-04-14T16:38:44.450064",
     "status": "completed"
    },
    "tags": []
   },
   "outputs": [
    {
     "data": {
      "text/plain": [
       "['device_type',\n",
       " 'is_sso_user',\n",
       " 'gender',\n",
       " 'is_subscriber',\n",
       " 'weekday',\n",
       " 'premium',\n",
       " 'category',\n",
       " 'sentiment_label',\n",
       " 'is_new_article',\n",
       " 'is_already_seen_article',\n",
       " 'MostFrequentCategory',\n",
       " 'MostFrequentWeekday',\n",
       " 'IsFavouriteCategory',\n",
       " 'Entity_ORG_Present',\n",
       " 'Entity_PROD_Present',\n",
       " 'Entity_LOC_Present',\n",
       " 'Entity_EVENT_Present',\n",
       " 'Entity_MISC_Present',\n",
       " 'Entity_PER_Present']"
      ]
     },
     "execution_count": 65,
     "metadata": {},
     "output_type": "execute_result"
    }
   ],
   "source": [
    "model.get_param('cat_features')"
   ]
  },
  {
   "cell_type": "code",
   "execution_count": 66,
   "id": "ddbc4492",
   "metadata": {
    "execution": {
     "iopub.execute_input": "2024-04-14T16:38:44.623451Z",
     "iopub.status.busy": "2024-04-14T16:38:44.623123Z",
     "iopub.status.idle": "2024-04-14T16:38:48.174840Z",
     "shell.execute_reply": "2024-04-14T16:38:48.174026Z"
    },
    "papermill": {
     "duration": 3.608134,
     "end_time": "2024-04-14T16:38:48.176547",
     "exception": false,
     "start_time": "2024-04-14T16:38:44.568413",
     "status": "completed"
    },
    "tags": []
   },
   "outputs": [
    {
     "data": {
      "text/html": [
       "<div><style>\n",
       ".dataframe > thead > tr,\n",
       ".dataframe > tbody > tr {\n",
       "  text-align: right;\n",
       "  white-space: pre-wrap;\n",
       "}\n",
       "</style>\n",
       "<small>shape: (2_928_942, 3)</small><table border=\"1\" class=\"dataframe\"><thead><tr><th>impression_id</th><th>target</th><th>prediction</th></tr><tr><td>u32</td><td>i8</td><td>f64</td></tr></thead><tbody><tr><td>45679270</td><td>0</td><td>0.182128</td></tr><tr><td>419467675</td><td>0</td><td>0.028439</td></tr><tr><td>382941878</td><td>1</td><td>0.118135</td></tr><tr><td>440925505</td><td>0</td><td>0.397667</td></tr><tr><td>50932972</td><td>0</td><td>0.288076</td></tr><tr><td>&hellip;</td><td>&hellip;</td><td>&hellip;</td></tr><tr><td>399940465</td><td>0</td><td>0.586834</td></tr><tr><td>72323459</td><td>0</td><td>0.278341</td></tr><tr><td>400531966</td><td>0</td><td>0.222146</td></tr><tr><td>551034420</td><td>0</td><td>0.521555</td></tr><tr><td>20381753</td><td>0</td><td>0.190353</td></tr></tbody></table></div>"
      ],
      "text/plain": [
       "shape: (2_928_942, 3)\n",
       "┌───────────────┬────────┬────────────┐\n",
       "│ impression_id ┆ target ┆ prediction │\n",
       "│ ---           ┆ ---    ┆ ---        │\n",
       "│ u32           ┆ i8     ┆ f64        │\n",
       "╞═══════════════╪════════╪════════════╡\n",
       "│ 45679270      ┆ 0      ┆ 0.182128   │\n",
       "│ 419467675     ┆ 0      ┆ 0.028439   │\n",
       "│ 382941878     ┆ 1      ┆ 0.118135   │\n",
       "│ 440925505     ┆ 0      ┆ 0.397667   │\n",
       "│ 50932972      ┆ 0      ┆ 0.288076   │\n",
       "│ …             ┆ …      ┆ …          │\n",
       "│ 399940465     ┆ 0      ┆ 0.586834   │\n",
       "│ 72323459      ┆ 0      ┆ 0.278341   │\n",
       "│ 400531966     ┆ 0      ┆ 0.222146   │\n",
       "│ 551034420     ┆ 0      ┆ 0.521555   │\n",
       "│ 20381753      ┆ 0      ┆ 0.190353   │\n",
       "└───────────────┴────────┴────────────┘"
      ]
     },
     "execution_count": 66,
     "metadata": {},
     "output_type": "execute_result"
    }
   ],
   "source": [
    "# impression_id will be later useful for evaluation\n",
    "val_ds_pandas = val_ds.drop(['impression_id', 'article', 'user_id']).to_pandas()\n",
    "\n",
    "val_ds_pandas[categorical_columns] = val_ds_pandas[categorical_columns].astype('category')\n",
    "\n",
    "X_val = val_ds_pandas.drop(columns=['target'])\n",
    "y_val = val_ds_pandas['target']\n",
    "\n",
    "# doing model.predict_proba(...)[:, 1] to take only the probability of class 1\n",
    "# while by doing [:, 0] we take the probability of class 0\n",
    "val_ds = val_ds.with_columns(pl.Series(model.predict_proba(X_val)[:, 1]).alias('prediction'))\n",
    "val_ds.select(['impression_id', 'target', 'prediction'])"
   ]
  },
  {
   "cell_type": "code",
   "execution_count": 67,
   "id": "e8fb0fd0",
   "metadata": {
    "execution": {
     "iopub.execute_input": "2024-04-14T16:38:48.282632Z",
     "iopub.status.busy": "2024-04-14T16:38:48.282277Z",
     "iopub.status.idle": "2024-04-14T16:38:48.416275Z",
     "shell.execute_reply": "2024-04-14T16:38:48.415688Z"
    },
    "papermill": {
     "duration": 0.189459,
     "end_time": "2024-04-14T16:38:48.418267",
     "exception": false,
     "start_time": "2024-04-14T16:38:48.228808",
     "status": "completed"
    },
    "tags": []
   },
   "outputs": [
    {
     "data": {
      "text/html": [
       "<div><style>\n",
       ".dataframe > thead > tr,\n",
       ".dataframe > tbody > tr {\n",
       "  text-align: right;\n",
       "  white-space: pre-wrap;\n",
       "}\n",
       "</style>\n",
       "<small>shape: (244_647, 3)</small><table border=\"1\" class=\"dataframe\"><thead><tr><th>impression_id</th><th>target</th><th>prediction</th></tr><tr><td>u32</td><td>list[i8]</td><td>list[f64]</td></tr></thead><tbody><tr><td>90091043</td><td>[0, 0, … 0]</td><td>[0.005647, 0.211944, … 0.164212]</td></tr><tr><td>544962482</td><td>[0, 0, … 0]</td><td>[0.465575, 0.117361, … 0.371381]</td></tr><tr><td>525388732</td><td>[0, 0, … 0]</td><td>[0.404653, 0.564803, … 0.278081]</td></tr><tr><td>475214663</td><td>[0, 0, … 0]</td><td>[0.262807, 0.207825, … 0.419689]</td></tr><tr><td>439851351</td><td>[0, 0, … 0]</td><td>[0.052241, 0.54295, … 0.307082]</td></tr><tr><td>&hellip;</td><td>&hellip;</td><td>&hellip;</td></tr><tr><td>85243758</td><td>[0, 1, … 0]</td><td>[0.128929, 0.507634, … 0.42068]</td></tr><tr><td>469112056</td><td>[1, 0, … 0]</td><td>[0.153731, 0.093106, … 0.043075]</td></tr><tr><td>355305548</td><td>[0, 0, … 0]</td><td>[0.234229, 0.100546, … 0.527044]</td></tr><tr><td>499381684</td><td>[0, 0, … 0]</td><td>[0.396171, 0.129804, … 0.352422]</td></tr><tr><td>70662810</td><td>[0, 0, … 0]</td><td>[0.182337, 0.042323, … 0.479778]</td></tr></tbody></table></div>"
      ],
      "text/plain": [
       "shape: (244_647, 3)\n",
       "┌───────────────┬─────────────┬──────────────────────────────────┐\n",
       "│ impression_id ┆ target      ┆ prediction                       │\n",
       "│ ---           ┆ ---         ┆ ---                              │\n",
       "│ u32           ┆ list[i8]    ┆ list[f64]                        │\n",
       "╞═══════════════╪═════════════╪══════════════════════════════════╡\n",
       "│ 90091043      ┆ [0, 0, … 0] ┆ [0.005647, 0.211944, … 0.164212] │\n",
       "│ 544962482     ┆ [0, 0, … 0] ┆ [0.465575, 0.117361, … 0.371381] │\n",
       "│ 525388732     ┆ [0, 0, … 0] ┆ [0.404653, 0.564803, … 0.278081] │\n",
       "│ 475214663     ┆ [0, 0, … 0] ┆ [0.262807, 0.207825, … 0.419689] │\n",
       "│ 439851351     ┆ [0, 0, … 0] ┆ [0.052241, 0.54295, … 0.307082]  │\n",
       "│ …             ┆ …           ┆ …                                │\n",
       "│ 85243758      ┆ [0, 1, … 0] ┆ [0.128929, 0.507634, … 0.42068]  │\n",
       "│ 469112056     ┆ [1, 0, … 0] ┆ [0.153731, 0.093106, … 0.043075] │\n",
       "│ 355305548     ┆ [0, 0, … 0] ┆ [0.234229, 0.100546, … 0.527044] │\n",
       "│ 499381684     ┆ [0, 0, … 0] ┆ [0.396171, 0.129804, … 0.352422] │\n",
       "│ 70662810      ┆ [0, 0, … 0] ┆ [0.182337, 0.042323, … 0.479778] │\n",
       "└───────────────┴─────────────┴──────────────────────────────────┘"
      ]
     },
     "execution_count": 67,
     "metadata": {},
     "output_type": "execute_result"
    }
   ],
   "source": [
    "evaluation_ds = val_ds.group_by('impression_id').agg(pl.col('target'), pl.col('prediction'))\n",
    "evaluation_ds"
   ]
  },
  {
   "cell_type": "code",
   "execution_count": 68,
   "id": "bd5803f2",
   "metadata": {
    "execution": {
     "iopub.execute_input": "2024-04-14T16:38:48.528187Z",
     "iopub.status.busy": "2024-04-14T16:38:48.527227Z",
     "iopub.status.idle": "2024-04-14T16:42:59.967543Z",
     "shell.execute_reply": "2024-04-14T16:42:59.966290Z"
    },
    "papermill": {
     "duration": 251.548903,
     "end_time": "2024-04-14T16:43:00.023058",
     "exception": false,
     "start_time": "2024-04-14T16:38:48.474155",
     "status": "completed"
    },
    "tags": []
   },
   "outputs": [
    {
     "name": "stdout",
     "output_type": "stream",
     "text": [
      "CPU times: user 4min 11s, sys: 217 ms, total: 4min 11s\n",
      "Wall time: 4min 11s\n"
     ]
    },
    {
     "data": {
      "text/plain": [
       "<MetricEvaluator class>: \n",
       " {\n",
       "    \"auc\": 0.7171094390864141,\n",
       "    \"mrr\": 0.49120596655648835,\n",
       "    \"ndcg@5\": 0.5495462459851325,\n",
       "    \"ndcg@10\": 0.594892193246611\n",
       "}"
      ]
     },
     "execution_count": 68,
     "metadata": {},
     "output_type": "execute_result"
    }
   ],
   "source": [
    "%%time\n",
    "\n",
    "met_eval = MetricEvaluator(\n",
    "    labels=evaluation_ds['target'].to_list(),\n",
    "    predictions=evaluation_ds['prediction'].to_list(),\n",
    "    metric_functions=[\n",
    "        AucScore(),\n",
    "        MrrScore(),\n",
    "        NdcgScore(k=5),\n",
    "        NdcgScore(k=10),\n",
    "    ],\n",
    ")\n",
    "\n",
    "met_eval.evaluate()\n",
    "\n"
   ]
  },
  {
   "cell_type": "code",
   "execution_count": null,
   "id": "1f338155",
   "metadata": {
    "papermill": {
     "duration": 0.054155,
     "end_time": "2024-04-14T16:43:00.132653",
     "exception": false,
     "start_time": "2024-04-14T16:43:00.078498",
     "status": "completed"
    },
    "tags": []
   },
   "outputs": [],
   "source": []
  },
  {
   "cell_type": "code",
   "execution_count": null,
   "id": "8edafc14",
   "metadata": {
    "papermill": {
     "duration": 0.054497,
     "end_time": "2024-04-14T16:43:00.241859",
     "exception": false,
     "start_time": "2024-04-14T16:43:00.187362",
     "status": "completed"
    },
    "tags": []
   },
   "outputs": [],
   "source": []
  }
 ],
 "metadata": {
  "kaggle": {
   "accelerator": "none",
   "dataSources": [
    {
     "datasetId": 4622414,
     "sourceId": 7914006,
     "sourceType": "datasetVersion"
    }
   ],
   "isGpuEnabled": false,
   "isInternetEnabled": true,
   "language": "python",
   "sourceType": "notebook"
  },
  "kernelspec": {
   "display_name": "Python 3",
   "language": "python",
   "name": "python3"
  },
  "language_info": {
   "codemirror_mode": {
    "name": "ipython",
    "version": 3
   },
   "file_extension": ".py",
   "mimetype": "text/x-python",
   "name": "python",
   "nbconvert_exporter": "python",
   "pygments_lexer": "ipython3",
   "version": "3.11.7"
  },
  "papermill": {
   "default_parameters": {},
   "duration": 3122.303818,
   "end_time": "2024-04-14T16:43:02.124238",
   "environment_variables": {},
   "exception": null,
   "input_path": "__notebook__.ipynb",
   "output_path": "__notebook__.ipynb",
   "parameters": {},
   "start_time": "2024-04-14T15:50:59.820420",
   "version": "2.5.0"
  },
  "widgets": {
   "application/vnd.jupyter.widget-state+json": {
    "state": {
     "46d8ab1d46cf4d14978f4d2b493c2a92": {
      "model_module": "@jupyter-widgets/output",
      "model_module_version": "1.0.0",
      "model_name": "OutputModel",
      "state": {
       "_dom_classes": [],
       "_model_module": "@jupyter-widgets/output",
       "_model_module_version": "1.0.0",
       "_model_name": "OutputModel",
       "_view_count": null,
       "_view_module": "@jupyter-widgets/output",
       "_view_module_version": "1.0.0",
       "_view_name": "OutputView",
       "layout": "IPY_MODEL_a84e66ae938f4771bae7e21f71ee9c55",
       "msg_id": "",
       "outputs": [
        {
         "data": {
          "text/html": "<pre style=\"white-space:pre;overflow-x:auto;line-height:normal;font-family:Menlo,'DejaVu Sans Mono',consolas,'Courier New',monospace\">Getting category               <span style=\"color: #729c1f; text-decoration-color: #729c1f\">━━━━━━━━━━━━━━━━━━━━━━━━━━━━━━━━━━━━━━━━</span> <span style=\"color: #800080; text-decoration-color: #800080\">100%</span> <span style=\"color: #008080; text-decoration-color: #008080\">0:00:00</span>\nGetting article_type           <span style=\"color: #729c1f; text-decoration-color: #729c1f\">━━━━━━━━━━━━━━━━━━━━━━━━━━━━━━━━━━━━━━━━</span> <span style=\"color: #800080; text-decoration-color: #800080\">100%</span> <span style=\"color: #008080; text-decoration-color: #008080\">0:00:00</span>\nGetting sentiment_label        <span style=\"color: #729c1f; text-decoration-color: #729c1f\">━━━━━━━━━━━━━━━━━━━━━━━━━━━━━━━━━━━━━━━━</span> <span style=\"color: #800080; text-decoration-color: #800080\">100%</span> <span style=\"color: #008080; text-decoration-color: #008080\">0:00:00</span>\nGetting sentiment_score        <span style=\"color: #729c1f; text-decoration-color: #729c1f\">━━━━━━━━━━━━━━━━━━━━━━━━━━━━━━━━━━━━━━━━</span> <span style=\"color: #800080; text-decoration-color: #800080\">100%</span> <span style=\"color: #008080; text-decoration-color: #008080\">0:00:00</span>\nGetting entity_groups          <span style=\"color: #729c1f; text-decoration-color: #729c1f\">━━━━━━━━━━━━━━━━━━━━━━━━━━━━━━━━━━━━━━━━</span> <span style=\"color: #800080; text-decoration-color: #800080\">100%</span> <span style=\"color: #008080; text-decoration-color: #008080\">0:00:00</span>\nGetting detailed entity_groups <span style=\"color: #729c1f; text-decoration-color: #729c1f\">━━━━━━━━━━━━━━━━━━━━━━━━━━━━━━━━━━━━━━━━</span> <span style=\"color: #800080; text-decoration-color: #800080\">100%</span> <span style=\"color: #008080; text-decoration-color: #008080\">0:00:00</span>\nGetting topics                 <span style=\"color: #729c1f; text-decoration-color: #729c1f\">━━━━━━━━━━━━━━━━━━━━━━━━━━━━━━━━━━━━━━━━</span> <span style=\"color: #800080; text-decoration-color: #800080\">100%</span> <span style=\"color: #008080; text-decoration-color: #008080\">0:00:00</span>\n</pre>\n",
          "text/plain": "Getting category               \u001b[38;2;114;156;31m━━━━━━━━━━━━━━━━━━━━━━━━━━━━━━━━━━━━━━━━\u001b[0m \u001b[35m100%\u001b[0m \u001b[36m0:00:00\u001b[0m\nGetting article_type           \u001b[38;2;114;156;31m━━━━━━━━━━━━━━━━━━━━━━━━━━━━━━━━━━━━━━━━\u001b[0m \u001b[35m100%\u001b[0m \u001b[36m0:00:00\u001b[0m\nGetting sentiment_label        \u001b[38;2;114;156;31m━━━━━━━━━━━━━━━━━━━━━━━━━━━━━━━━━━━━━━━━\u001b[0m \u001b[35m100%\u001b[0m \u001b[36m0:00:00\u001b[0m\nGetting sentiment_score        \u001b[38;2;114;156;31m━━━━━━━━━━━━━━━━━━━━━━━━━━━━━━━━━━━━━━━━\u001b[0m \u001b[35m100%\u001b[0m \u001b[36m0:00:00\u001b[0m\nGetting entity_groups          \u001b[38;2;114;156;31m━━━━━━━━━━━━━━━━━━━━━━━━━━━━━━━━━━━━━━━━\u001b[0m \u001b[35m100%\u001b[0m \u001b[36m0:00:00\u001b[0m\nGetting detailed entity_groups \u001b[38;2;114;156;31m━━━━━━━━━━━━━━━━━━━━━━━━━━━━━━━━━━━━━━━━\u001b[0m \u001b[35m100%\u001b[0m \u001b[36m0:00:00\u001b[0m\nGetting topics                 \u001b[38;2;114;156;31m━━━━━━━━━━━━━━━━━━━━━━━━━━━━━━━━━━━━━━━━\u001b[0m \u001b[35m100%\u001b[0m \u001b[36m0:00:00\u001b[0m\n"
         },
         "metadata": {},
         "output_type": "display_data"
        }
       ]
      }
     },
     "71bf4046e9af422296671aab9819dece": {
      "model_module": "@jupyter-widgets/base",
      "model_module_version": "1.2.0",
      "model_name": "LayoutModel",
      "state": {
       "_model_module": "@jupyter-widgets/base",
       "_model_module_version": "1.2.0",
       "_model_name": "LayoutModel",
       "_view_count": null,
       "_view_module": "@jupyter-widgets/base",
       "_view_module_version": "1.2.0",
       "_view_name": "LayoutView",
       "align_content": null,
       "align_items": null,
       "align_self": null,
       "border": null,
       "bottom": null,
       "display": null,
       "flex": null,
       "flex_flow": null,
       "grid_area": null,
       "grid_auto_columns": null,
       "grid_auto_flow": null,
       "grid_auto_rows": null,
       "grid_column": null,
       "grid_gap": null,
       "grid_row": null,
       "grid_template_areas": null,
       "grid_template_columns": null,
       "grid_template_rows": null,
       "height": null,
       "justify_content": null,
       "justify_items": null,
       "left": null,
       "margin": null,
       "max_height": null,
       "max_width": null,
       "min_height": null,
       "min_width": null,
       "object_fit": null,
       "object_position": null,
       "order": null,
       "overflow": null,
       "overflow_x": null,
       "overflow_y": null,
       "padding": null,
       "right": null,
       "top": null,
       "visibility": null,
       "width": null
      }
     },
     "a84e66ae938f4771bae7e21f71ee9c55": {
      "model_module": "@jupyter-widgets/base",
      "model_module_version": "1.2.0",
      "model_name": "LayoutModel",
      "state": {
       "_model_module": "@jupyter-widgets/base",
       "_model_module_version": "1.2.0",
       "_model_name": "LayoutModel",
       "_view_count": null,
       "_view_module": "@jupyter-widgets/base",
       "_view_module_version": "1.2.0",
       "_view_name": "LayoutView",
       "align_content": null,
       "align_items": null,
       "align_self": null,
       "border": null,
       "bottom": null,
       "display": null,
       "flex": null,
       "flex_flow": null,
       "grid_area": null,
       "grid_auto_columns": null,
       "grid_auto_flow": null,
       "grid_auto_rows": null,
       "grid_column": null,
       "grid_gap": null,
       "grid_row": null,
       "grid_template_areas": null,
       "grid_template_columns": null,
       "grid_template_rows": null,
       "height": null,
       "justify_content": null,
       "justify_items": null,
       "left": null,
       "margin": null,
       "max_height": null,
       "max_width": null,
       "min_height": null,
       "min_width": null,
       "object_fit": null,
       "object_position": null,
       "order": null,
       "overflow": null,
       "overflow_x": null,
       "overflow_y": null,
       "padding": null,
       "right": null,
       "top": null,
       "visibility": null,
       "width": null
      }
     },
     "c655e58a35e3490888f01103be14ab47": {
      "model_module": "@jupyter-widgets/output",
      "model_module_version": "1.0.0",
      "model_name": "OutputModel",
      "state": {
       "_dom_classes": [],
       "_model_module": "@jupyter-widgets/output",
       "_model_module_version": "1.0.0",
       "_model_name": "OutputModel",
       "_view_count": null,
       "_view_module": "@jupyter-widgets/output",
       "_view_module_version": "1.0.0",
       "_view_name": "OutputView",
       "layout": "IPY_MODEL_71bf4046e9af422296671aab9819dece",
       "msg_id": "",
       "outputs": [
        {
         "data": {
          "text/html": "<pre style=\"white-space:pre;overflow-x:auto;line-height:normal;font-family:Menlo,'DejaVu Sans Mono',consolas,'Courier New',monospace\">Getting category               <span style=\"color: #729c1f; text-decoration-color: #729c1f\">━━━━━━━━━━━━━━━━━━━━━━━━━━━━━━━━━━━━━━━━</span> <span style=\"color: #800080; text-decoration-color: #800080\">100%</span> <span style=\"color: #008080; text-decoration-color: #008080\">0:00:00</span>\nGetting article_type           <span style=\"color: #729c1f; text-decoration-color: #729c1f\">━━━━━━━━━━━━━━━━━━━━━━━━━━━━━━━━━━━━━━━━</span> <span style=\"color: #800080; text-decoration-color: #800080\">100%</span> <span style=\"color: #008080; text-decoration-color: #008080\">0:00:00</span>\nGetting sentiment_label        <span style=\"color: #729c1f; text-decoration-color: #729c1f\">━━━━━━━━━━━━━━━━━━━━━━━━━━━━━━━━━━━━━━━━</span> <span style=\"color: #800080; text-decoration-color: #800080\">100%</span> <span style=\"color: #008080; text-decoration-color: #008080\">0:00:00</span>\nGetting sentiment_score        <span style=\"color: #729c1f; text-decoration-color: #729c1f\">━━━━━━━━━━━━━━━━━━━━━━━━━━━━━━━━━━━━━━━━</span> <span style=\"color: #800080; text-decoration-color: #800080\">100%</span> <span style=\"color: #008080; text-decoration-color: #008080\">0:00:00</span>\nGetting entity_groups          <span style=\"color: #729c1f; text-decoration-color: #729c1f\">━━━━━━━━━━━━━━━━━━━━━━━━━━━━━━━━━━━━━━━━</span> <span style=\"color: #800080; text-decoration-color: #800080\">100%</span> <span style=\"color: #008080; text-decoration-color: #008080\">0:00:00</span>\nGetting detailed entity_groups <span style=\"color: #729c1f; text-decoration-color: #729c1f\">━━━━━━━━━━━━━━━━━━━━━━━━━━━━━━━━━━━━━━━━</span> <span style=\"color: #800080; text-decoration-color: #800080\">100%</span> <span style=\"color: #008080; text-decoration-color: #008080\">0:00:00</span>\nGetting topics                 <span style=\"color: #729c1f; text-decoration-color: #729c1f\">━━━━━━━━━━━━━━━━━━━━━━━━━━━━━━━━━━━━━━━━</span> <span style=\"color: #800080; text-decoration-color: #800080\">100%</span> <span style=\"color: #008080; text-decoration-color: #008080\">0:00:00</span>\n</pre>\n",
          "text/plain": "Getting category               \u001b[38;2;114;156;31m━━━━━━━━━━━━━━━━━━━━━━━━━━━━━━━━━━━━━━━━\u001b[0m \u001b[35m100%\u001b[0m \u001b[36m0:00:00\u001b[0m\nGetting article_type           \u001b[38;2;114;156;31m━━━━━━━━━━━━━━━━━━━━━━━━━━━━━━━━━━━━━━━━\u001b[0m \u001b[35m100%\u001b[0m \u001b[36m0:00:00\u001b[0m\nGetting sentiment_label        \u001b[38;2;114;156;31m━━━━━━━━━━━━━━━━━━━━━━━━━━━━━━━━━━━━━━━━\u001b[0m \u001b[35m100%\u001b[0m \u001b[36m0:00:00\u001b[0m\nGetting sentiment_score        \u001b[38;2;114;156;31m━━━━━━━━━━━━━━━━━━━━━━━━━━━━━━━━━━━━━━━━\u001b[0m \u001b[35m100%\u001b[0m \u001b[36m0:00:00\u001b[0m\nGetting entity_groups          \u001b[38;2;114;156;31m━━━━━━━━━━━━━━━━━━━━━━━━━━━━━━━━━━━━━━━━\u001b[0m \u001b[35m100%\u001b[0m \u001b[36m0:00:00\u001b[0m\nGetting detailed entity_groups \u001b[38;2;114;156;31m━━━━━━━━━━━━━━━━━━━━━━━━━━━━━━━━━━━━━━━━\u001b[0m \u001b[35m100%\u001b[0m \u001b[36m0:00:00\u001b[0m\nGetting topics                 \u001b[38;2;114;156;31m━━━━━━━━━━━━━━━━━━━━━━━━━━━━━━━━━━━━━━━━\u001b[0m \u001b[35m100%\u001b[0m \u001b[36m0:00:00\u001b[0m\n"
         },
         "metadata": {},
         "output_type": "display_data"
        }
       ]
      }
     }
    },
    "version_major": 2,
    "version_minor": 0
   }
  }
 },
 "nbformat": 4,
 "nbformat_minor": 5
}
