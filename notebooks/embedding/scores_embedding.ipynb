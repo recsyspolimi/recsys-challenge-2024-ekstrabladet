{
 "cells": [
  {
   "cell_type": "code",
   "execution_count": 1,
   "metadata": {},
   "outputs": [],
   "source": [
    "import numpy as np\n",
    "import polars as pl\n",
    "from tqdm import tqdm\n",
    "from polimi.utils._polars import reduce_polars_df_memory_size"
   ]
  },
  {
   "cell_type": "code",
   "execution_count": 2,
   "metadata": {},
   "outputs": [],
   "source": [
    "from pathlib import Path\n",
    "\n",
    "\n",
    "dpath = Path('../../dataset')\n",
    "emb_dir = dpath\n",
    "dtype = 'small'\n",
    "articles = pl.read_parquet(f'{dpath}/ebnerd_{dtype}/articles.parquet')\n",
    "\n",
    "behaviors_train = pl.read_parquet(f'{dpath}/ebnerd_{dtype}/train/behaviors.parquet')\n",
    "history_train = pl.read_parquet(f'{dpath}/ebnerd_{dtype}/train/history.parquet')"
   ]
  },
  {
   "cell_type": "markdown",
   "metadata": {},
   "source": [
    "# Test"
   ]
  },
  {
   "cell_type": "code",
   "execution_count": 3,
   "metadata": {},
   "outputs": [
    {
     "data": {
      "text/html": [
       "<div><style>\n",
       ".dataframe > thead > tr,\n",
       ".dataframe > tbody > tr {\n",
       "  text-align: right;\n",
       "  white-space: pre-wrap;\n",
       "}\n",
       "</style>\n",
       "<small>shape: (2, 3)</small><table border=\"1\" class=\"dataframe\"><thead><tr><th>index</th><th>article_id</th><th>embedding</th></tr><tr><td>u32</td><td>i32</td><td>list[f32]</td></tr></thead><tbody><tr><td>0</td><td>3000022</td><td>[-0.033208, -0.013787, … -0.036042]</td></tr><tr><td>1</td><td>3000063</td><td>[-0.047797, -0.025657, … 0.018883]</td></tr></tbody></table></div>"
      ],
      "text/plain": [
       "shape: (2, 3)\n",
       "┌───────┬────────────┬─────────────────────────────────┐\n",
       "│ index ┆ article_id ┆ embedding                       │\n",
       "│ ---   ┆ ---        ┆ ---                             │\n",
       "│ u32   ┆ i32        ┆ list[f32]                       │\n",
       "╞═══════╪════════════╪═════════════════════════════════╡\n",
       "│ 0     ┆ 3000022    ┆ [-0.033208, -0.013787, … -0.03… │\n",
       "│ 1     ┆ 3000063    ┆ [-0.047797, -0.025657, … 0.018… │\n",
       "└───────┴────────────┴─────────────────────────────────┘"
      ]
     },
     "execution_count": 3,
     "metadata": {},
     "output_type": "execute_result"
    }
   ],
   "source": [
    "embeddings = pl.read_parquet(emb_dir / 'Ekstra_Bladet_image_embeddings' / 'image_embeddings.parquet').sort('article_id')\n",
    "embeddings.columns = ['article_id', 'embedding']\n",
    "emb_size = len(embeddings['embedding'][0])\n",
    "missing_articles_in_embedding = list(set(articles['article_id'].to_numpy()) - set(embeddings['article_id'].to_numpy()))\n",
    "null_vector = np.zeros(emb_size, dtype=np.float32)\n",
    "embeddings = embeddings.vstack(pl.DataFrame({'article_id': missing_articles_in_embedding, 'embedding': [null_vector] * len(missing_articles_in_embedding)}))\n",
    "embeddings = embeddings.with_row_index()\n",
    "embeddings.head(2)"
   ]
  },
  {
   "cell_type": "code",
   "execution_count": 4,
   "metadata": {},
   "outputs": [
    {
     "data": {
      "text/plain": [
       "True"
      ]
     },
     "execution_count": 4,
     "metadata": {},
     "output_type": "execute_result"
    }
   ],
   "source": [
    "all_zero_embeddings = embeddings.with_columns(pl.col('embedding').list.eval(pl.element() == 0.0).list.all().alias('check'))\n",
    "are_all_zero_embeddings_present = len(all_zero_embeddings.filter(pl.col('check') == True)) > 0\n",
    "are_all_zero_embeddings_present"
   ]
  },
  {
   "cell_type": "code",
   "execution_count": 5,
   "metadata": {},
   "outputs": [
    {
     "data": {
      "text/plain": [
       "(106346, 1024)"
      ]
     },
     "execution_count": 5,
     "metadata": {},
     "output_type": "execute_result"
    }
   ],
   "source": [
    "m_non_norm = np.array([np.array(x) for x in embeddings['embedding'].to_numpy()])\n",
    "row_norms = np.linalg.norm(m_non_norm, axis=1, keepdims=True)\n",
    "m = m_non_norm / (row_norms + 1e-6)\n",
    "m.shape"
   ]
  },
  {
   "cell_type": "code",
   "execution_count": 6,
   "metadata": {},
   "outputs": [
    {
     "data": {
      "text/html": [
       "<div><style>\n",
       ".dataframe > thead > tr,\n",
       ".dataframe > tbody > tr {\n",
       "  text-align: right;\n",
       "  white-space: pre-wrap;\n",
       "}\n",
       "</style>\n",
       "<small>shape: (1, 2)</small><table border=\"1\" class=\"dataframe\"><thead><tr><th>index</th><th>article_id</th></tr><tr><td>u32</td><td>i32</td></tr></thead><tbody><tr><td>0</td><td>3000022</td></tr></tbody></table></div>"
      ],
      "text/plain": [
       "shape: (1, 2)\n",
       "┌───────┬────────────┐\n",
       "│ index ┆ article_id │\n",
       "│ ---   ┆ ---        │\n",
       "│ u32   ┆ i32        │\n",
       "╞═══════╪════════════╡\n",
       "│ 0     ┆ 3000022    │\n",
       "└───────┴────────────┘"
      ]
     },
     "execution_count": 6,
     "metadata": {},
     "output_type": "execute_result"
    }
   ],
   "source": [
    "article_emb_mapping = embeddings.select('index', 'article_id')\n",
    "article_emb_mapping.head(1)"
   ]
  },
  {
   "cell_type": "code",
   "execution_count": 7,
   "metadata": {},
   "outputs": [
    {
     "data": {
      "text/plain": [
       "(15143,)"
      ]
     },
     "execution_count": 7,
     "metadata": {},
     "output_type": "execute_result"
    }
   ],
   "source": [
    "history_m = history_train.select('user_id', pl.col('article_id_fixed').list.eval(pl.element().replace(article_emb_mapping['article_id'], article_emb_mapping['index'], default=None).drop_nulls())).with_row_index('user_index')\n",
    "user_history_map = history_m.select('user_id', 'user_index')\n",
    "history_m = history_m['article_id_fixed'].to_numpy()\n",
    "history_m.shape"
   ]
  },
  {
   "cell_type": "code",
   "execution_count": 8,
   "metadata": {},
   "outputs": [
    {
     "name": "stdout",
     "output_type": "stream",
     "text": [
      "Memory usage of dataframe is 25.95 MB\n",
      "Memory usage after optimization is: 25.95 MB\n",
      "Decreased by 0.0%\n"
     ]
    },
    {
     "data": {
      "text/html": [
       "<div><style>\n",
       ".dataframe > thead > tr,\n",
       ".dataframe > tbody > tr {\n",
       "  text-align: right;\n",
       "  white-space: pre-wrap;\n",
       "}\n",
       "</style>\n",
       "<small>shape: (2, 5)</small><table border=\"1\" class=\"dataframe\"><thead><tr><th>impression_id</th><th>user_id</th><th>article</th><th>user_index</th><th>article_index</th></tr><tr><td>u32</td><td>u32</td><td>list[i32]</td><td>u32</td><td>list[u32]</td></tr></thead><tbody><tr><td>149474</td><td>139836</td><td>[9778623, 9778682, … 9778728]</td><td>11894</td><td>[100868, 100874, … 100879]</td></tr><tr><td>150528</td><td>143471</td><td>[9778718, 9778728, … 9778682]</td><td>7016</td><td>[105241, 100879, … 100874]</td></tr></tbody></table></div>"
      ],
      "text/plain": [
       "shape: (2, 5)\n",
       "┌───────────────┬─────────┬──────────────────────┬────────────┬────────────────────────────┐\n",
       "│ impression_id ┆ user_id ┆ article              ┆ user_index ┆ article_index              │\n",
       "│ ---           ┆ ---     ┆ ---                  ┆ ---        ┆ ---                        │\n",
       "│ u32           ┆ u32     ┆ list[i32]            ┆ u32        ┆ list[u32]                  │\n",
       "╞═══════════════╪═════════╪══════════════════════╪════════════╪════════════════════════════╡\n",
       "│ 149474        ┆ 139836  ┆ [9778623, 9778682, … ┆ 11894      ┆ [100868, 100874, … 100879] │\n",
       "│               ┆         ┆ 9778728]             ┆            ┆                            │\n",
       "│ 150528        ┆ 143471  ┆ [9778718, 9778728, … ┆ 7016       ┆ [105241, 100879, … 100874] │\n",
       "│               ┆         ┆ 9778682]             ┆            ┆                            │\n",
       "└───────────────┴─────────┴──────────────────────┴────────────┴────────────────────────────┘"
      ]
     },
     "execution_count": 8,
     "metadata": {},
     "output_type": "execute_result"
    }
   ],
   "source": [
    "df = behaviors_train.select('impression_id', 'user_id', pl.col('article_ids_inview').alias('article'))\\\n",
    "    .join(user_history_map, on='user_id')\\\n",
    "    .with_columns(\n",
    "        pl.col('article').list.eval(pl.element().replace(article_emb_mapping['article_id'], article_emb_mapping['index'], default=None)).name.suffix('_index'),\n",
    "    ).drop('impression_time_fixed', 'scroll_percentage_fixed', 'read_time_fixed')\n",
    "\n",
    "df = reduce_polars_df_memory_size(df)\n",
    "df.head(2)"
   ]
  },
  {
   "cell_type": "code",
   "execution_count": 9,
   "metadata": {},
   "outputs": [
    {
     "name": "stderr",
     "output_type": "stream",
     "text": [
      "  3%|▎         | 466/15143 [00:01<00:35, 418.87it/s]\n"
     ]
    },
    {
     "data": {
      "text/html": [
       "<div><style>\n",
       ".dataframe > thead > tr,\n",
       ".dataframe > tbody > tr {\n",
       "  text-align: right;\n",
       "  white-space: pre-wrap;\n",
       "}\n",
       "</style>\n",
       "<small>shape: (1_000, 5)</small><table border=\"1\" class=\"dataframe\"><thead><tr><th>impression_id</th><th>user_id</th><th>user_index</th><th>article</th><th>scores</th></tr><tr><td>u32</td><td>u32</td><td>u32</td><td>list[i32]</td><td>list[list[f32]]</td></tr></thead><tbody><tr><td>149474</td><td>139836</td><td>11894</td><td>[9778623, 9778682, … 9778728]</td><td>[[0.546279, 0.456443, … 0.068054], [0.108021, -0.134935, … 0.308029], … [0.789861, 0.399746, … -0.11546]]</td></tr><tr><td>150528</td><td>143471</td><td>7016</td><td>[9778718, 9778728, … 9778682]</td><td>[[0.0, 0.0, … 0.0], [0.766936, 0.0, … 0.0], … [0.028365, 0.0, … 0.0]]</td></tr><tr><td>153078</td><td>151570</td><td>7074</td><td>[9778021, 9778627, … 7213923]</td><td>[[0.427206, 0.0, … 0.154384], [0.239121, 0.0, … 0.156372], … [-0.068958, 0.0, … -0.38356]]</td></tr><tr><td>153071</td><td>151570</td><td>7074</td><td>[9777492, 9774568, … 9775990]</td><td>[[-0.130659, 0.0, … -0.122535], [0.438304, 0.0, … 0.340977], … [0.6444, 0.0, … 0.253928]]</td></tr><tr><td>153070</td><td>151570</td><td>7074</td><td>[9020783, 9778444, … 9778628]</td><td>[[0.552781, 0.0, … 0.519307], [0.0, 0.0, … 0.0], … [-0.077273, 0.0, … 0.123942]]</td></tr><tr><td>&hellip;</td><td>&hellip;</td><td>&hellip;</td><td>&hellip;</td><td>&hellip;</td></tr><tr><td>2433248</td><td>1606050</td><td>14460</td><td>[9552181, 9779263, … 9547869]</td><td>[[0.0, 0.0, … 0.0], [0.37884, 0.271457, … -0.0275], … [0.62122, 0.070636, … 0.213934]]</td></tr><tr><td>2433256</td><td>1606050</td><td>14460</td><td>[9483850, 9779648, … 9779777]</td><td>[[0.337382, -0.065383, … 0.307274], [0.0, 0.0, … 0.0], … [0.0, 0.0, … 0.0]]</td></tr><tr><td>2435848</td><td>1692081</td><td>10750</td><td>[9779263, 9779205, … 9779577]</td><td>[[-0.135781, 0.201273, … 0.452139], [0.197592, 0.566438, … 0.604189], … [0.629099, 0.220339, … 0.12199]]</td></tr><tr><td>2435885</td><td>1695195</td><td>10254</td><td>[9658252, 9569934, … 9775885]</td><td>[[0.59537, 0.322892, … 0.576517], [-0.082606, -0.137399, … -0.313506], … [0.004153, 0.27604, … 0.32076]]</td></tr><tr><td>2436801</td><td>1729576</td><td>3516</td><td>[9780181, 9780193, … 9780195]</td><td>[[0.803103, -0.186405, … 0.44114], [0.0, 0.0, … 0.0], … [0.152103, 0.311306, … 0.014977]]</td></tr></tbody></table></div>"
      ],
      "text/plain": [
       "shape: (1_000, 5)\n",
       "┌───────────────┬─────────┬────────────┬──────────────────────┬─────────────────────────────────┐\n",
       "│ impression_id ┆ user_id ┆ user_index ┆ article              ┆ scores                          │\n",
       "│ ---           ┆ ---     ┆ ---        ┆ ---                  ┆ ---                             │\n",
       "│ u32           ┆ u32     ┆ u32        ┆ list[i32]            ┆ list[list[f32]]                 │\n",
       "╞═══════════════╪═════════╪════════════╪══════════════════════╪═════════════════════════════════╡\n",
       "│ 149474        ┆ 139836  ┆ 11894      ┆ [9778623, 9778682, … ┆ [[0.546279, 0.456443, … 0.0680… │\n",
       "│               ┆         ┆            ┆ 9778728]             ┆                                 │\n",
       "│ 150528        ┆ 143471  ┆ 7016       ┆ [9778718, 9778728, … ┆ [[0.0, 0.0, … 0.0], [0.766936,… │\n",
       "│               ┆         ┆            ┆ 9778682]             ┆                                 │\n",
       "│ 153078        ┆ 151570  ┆ 7074       ┆ [9778021, 9778627, … ┆ [[0.427206, 0.0, … 0.154384], … │\n",
       "│               ┆         ┆            ┆ 7213923]             ┆                                 │\n",
       "│ 153071        ┆ 151570  ┆ 7074       ┆ [9777492, 9774568, … ┆ [[-0.130659, 0.0, … -0.122535]… │\n",
       "│               ┆         ┆            ┆ 9775990]             ┆                                 │\n",
       "│ 153070        ┆ 151570  ┆ 7074       ┆ [9020783, 9778444, … ┆ [[0.552781, 0.0, … 0.519307], … │\n",
       "│               ┆         ┆            ┆ 9778628]             ┆                                 │\n",
       "│ …             ┆ …       ┆ …          ┆ …                    ┆ …                               │\n",
       "│ 2433248       ┆ 1606050 ┆ 14460      ┆ [9552181, 9779263, … ┆ [[0.0, 0.0, … 0.0], [0.37884, … │\n",
       "│               ┆         ┆            ┆ 9547869]             ┆                                 │\n",
       "│ 2433256       ┆ 1606050 ┆ 14460      ┆ [9483850, 9779648, … ┆ [[0.337382, -0.065383, … 0.307… │\n",
       "│               ┆         ┆            ┆ 9779777]             ┆                                 │\n",
       "│ 2435848       ┆ 1692081 ┆ 10750      ┆ [9779263, 9779205, … ┆ [[-0.135781, 0.201273, … 0.452… │\n",
       "│               ┆         ┆            ┆ 9779577]             ┆                                 │\n",
       "│ 2435885       ┆ 1695195 ┆ 10254      ┆ [9658252, 9569934, … ┆ [[0.59537, 0.322892, … 0.57651… │\n",
       "│               ┆         ┆            ┆ 9775885]             ┆                                 │\n",
       "│ 2436801       ┆ 1729576 ┆ 3516       ┆ [9780181, 9780193, … ┆ [[0.803103, -0.186405, … 0.441… │\n",
       "│               ┆         ┆            ┆ 9780195]             ┆                                 │\n",
       "└───────────────┴─────────┴────────────┴──────────────────────┴─────────────────────────────────┘"
      ]
     },
     "execution_count": 9,
     "metadata": {},
     "output_type": "execute_result"
    }
   ],
   "source": [
    "scores_df = pl.concat([\n",
    "    slice.explode(['article_index', 'article']).with_columns(scores = np.dot(\n",
    "        m[slice['article_index'].explode().to_numpy()], \n",
    "        m[history_m[key[0]]].T))\\\n",
    "    .group_by(['impression_id', 'user_id', 'user_index'])\\\n",
    "    .agg(pl.all())\n",
    "    for key, slice in tqdm(df[:1000].partition_by(by=['user_index'], as_dict=True).items(), total=df['user_index'].n_unique())\n",
    "]).drop('article_index')\n",
    "scores_df"
   ]
  },
  {
   "cell_type": "code",
   "execution_count": 10,
   "metadata": {},
   "outputs": [
    {
     "data": {
      "text/html": [
       "<div><style>\n",
       ".dataframe > thead > tr,\n",
       ".dataframe > tbody > tr {\n",
       "  text-align: right;\n",
       "  white-space: pre-wrap;\n",
       "}\n",
       "</style>\n",
       "<small>shape: (2, 9)</small><table border=\"1\" class=\"dataframe\"><thead><tr><th>impression_id</th><th>user_id</th><th>user_index</th><th>article</th><th>scores</th><th>scores_mean</th><th>scores_max</th><th>scores_min</th><th>scores_std</th></tr><tr><td>u32</td><td>u32</td><td>u32</td><td>list[i32]</td><td>list[list[f32]]</td><td>list[f32]</td><td>list[f32]</td><td>list[f32]</td><td>list[f32]</td></tr></thead><tbody><tr><td>149474</td><td>139836</td><td>11894</td><td>[9778623, 9778682, … 9778728]</td><td>[[0.546279, 0.456443, … 0.068054], [0.108021, -0.134935, … 0.308029], … [0.789861, 0.399746, … -0.11546]]</td><td>[0.108393, 0.125424, … 0.097202]</td><td>[0.619155, 0.729108, … 0.789861]</td><td>[0.619155, 0.729108, … 0.789861]</td><td>[0.241325, 0.239725, … 0.221128]</td></tr><tr><td>150528</td><td>143471</td><td>7016</td><td>[9778718, 9778728, … 9778682]</td><td>[[0.0, 0.0, … 0.0], [0.766936, 0.0, … 0.0], … [0.028365, 0.0, … 0.0]]</td><td>[0.0, 0.170874, … 0.119192]</td><td>[0.0, 0.880629, … 0.856975]</td><td>[0.0, 0.880629, … 0.856975]</td><td>[0.0, 0.240824, … 0.22315]</td></tr></tbody></table></div>"
      ],
      "text/plain": [
       "shape: (2, 9)\n",
       "┌────────────┬─────────┬───────────┬───────────┬───┬───────────┬───────────┬───────────┬───────────┐\n",
       "│ impression ┆ user_id ┆ user_inde ┆ article   ┆ … ┆ scores_me ┆ scores_ma ┆ scores_mi ┆ scores_st │\n",
       "│ _id        ┆ ---     ┆ x         ┆ ---       ┆   ┆ an        ┆ x         ┆ n         ┆ d         │\n",
       "│ ---        ┆ u32     ┆ ---       ┆ list[i32] ┆   ┆ ---       ┆ ---       ┆ ---       ┆ ---       │\n",
       "│ u32        ┆         ┆ u32       ┆           ┆   ┆ list[f32] ┆ list[f32] ┆ list[f32] ┆ list[f32] │\n",
       "╞════════════╪═════════╪═══════════╪═══════════╪═══╪═══════════╪═══════════╪═══════════╪═══════════╡\n",
       "│ 149474     ┆ 139836  ┆ 11894     ┆ [9778623, ┆ … ┆ [0.108393 ┆ [0.619155 ┆ [0.619155 ┆ [0.241325 │\n",
       "│            ┆         ┆           ┆ 9778682,  ┆   ┆ ,         ┆ ,         ┆ ,         ┆ ,         │\n",
       "│            ┆         ┆           ┆ …         ┆   ┆ 0.125424, ┆ 0.729108, ┆ 0.729108, ┆ 0.239725, │\n",
       "│            ┆         ┆           ┆ 9778728]  ┆   ┆ …         ┆ …         ┆ …         ┆ …         │\n",
       "│            ┆         ┆           ┆           ┆   ┆ 0.09720…  ┆ 0.78986…  ┆ 0.78986…  ┆ 0.22112…  │\n",
       "│ 150528     ┆ 143471  ┆ 7016      ┆ [9778718, ┆ … ┆ [0.0,     ┆ [0.0,     ┆ [0.0,     ┆ [0.0,     │\n",
       "│            ┆         ┆           ┆ 9778728,  ┆   ┆ 0.170874, ┆ 0.880629, ┆ 0.880629, ┆ 0.240824, │\n",
       "│            ┆         ┆           ┆ …         ┆   ┆ …         ┆ …         ┆ …         ┆ …         │\n",
       "│            ┆         ┆           ┆ 9778682]  ┆   ┆ 0.119192] ┆ 0.856975] ┆ 0.856975] ┆ 0.22315]  │\n",
       "└────────────┴─────────┴───────────┴───────────┴───┴───────────┴───────────┴───────────┴───────────┘"
      ]
     },
     "execution_count": 10,
     "metadata": {},
     "output_type": "execute_result"
    }
   ],
   "source": [
    "simple_agg_df = scores_df.with_columns(\n",
    "    pl.col('scores').list.eval(pl.element().list.mean()).name.suffix('_mean'),\n",
    "    pl.col('scores').list.eval(pl.element().list.max()).name.suffix('_max'),\n",
    "    pl.col('scores').list.eval(pl.element().list.max()).name.suffix('_min'),\n",
    "    pl.col('scores').list.eval(pl.element().list.std()).name.suffix('_std'),\n",
    ")\n",
    "simple_agg_df.head(2)"
   ]
  },
  {
   "cell_type": "code",
   "execution_count": 11,
   "metadata": {},
   "outputs": [
    {
     "data": {
      "text/html": [
       "<div><style>\n",
       ".dataframe > thead > tr,\n",
       ".dataframe > tbody > tr {\n",
       "  text-align: right;\n",
       "  white-space: pre-wrap;\n",
       "}\n",
       "</style>\n",
       "<small>shape: (2, 7)</small><table border=\"1\" class=\"dataframe\"><thead><tr><th>impression_id</th><th>user_id</th><th>article</th><th>scores_mean</th><th>scores_max</th><th>scores_min</th><th>scores_std</th></tr><tr><td>u32</td><td>u32</td><td>i32</td><td>f32</td><td>f32</td><td>f32</td><td>f32</td></tr></thead><tbody><tr><td>2097252</td><td>63123</td><td>9761926</td><td>0.194606</td><td>0.911962</td><td>0.911962</td><td>0.247309</td></tr><tr><td>2097252</td><td>63123</td><td>9769370</td><td>0.0</td><td>0.0</td><td>0.0</td><td>0.0</td></tr></tbody></table></div>"
      ],
      "text/plain": [
       "shape: (2, 7)\n",
       "┌───────────────┬─────────┬─────────┬─────────────┬────────────┬────────────┬────────────┐\n",
       "│ impression_id ┆ user_id ┆ article ┆ scores_mean ┆ scores_max ┆ scores_min ┆ scores_std │\n",
       "│ ---           ┆ ---     ┆ ---     ┆ ---         ┆ ---        ┆ ---        ┆ ---        │\n",
       "│ u32           ┆ u32     ┆ i32     ┆ f32         ┆ f32        ┆ f32        ┆ f32        │\n",
       "╞═══════════════╪═════════╪═════════╪═════════════╪════════════╪════════════╪════════════╡\n",
       "│ 2097252       ┆ 63123   ┆ 9761926 ┆ 0.194606    ┆ 0.911962   ┆ 0.911962   ┆ 0.247309   │\n",
       "│ 2097252       ┆ 63123   ┆ 9769370 ┆ 0.0         ┆ 0.0        ┆ 0.0        ┆ 0.0        │\n",
       "└───────────────┴─────────┴─────────┴─────────────┴────────────┴────────────┴────────────┘"
      ]
     },
     "execution_count": 11,
     "metadata": {},
     "output_type": "execute_result"
    }
   ],
   "source": [
    "explode_cols = ['article'] + [col for col in simple_agg_df.columns if col.startswith('scores_')]\n",
    "res = simple_agg_df.drop('user_index', 'scores')\\\n",
    "    .explode(explode_cols)\\\n",
    "    .sort('user_id', 'impression_id', 'article')\n",
    "res.head(2)"
   ]
  },
  {
   "cell_type": "markdown",
   "metadata": {},
   "source": [
    "# Weightening"
   ]
  },
  {
   "cell_type": "markdown",
   "metadata": {},
   "source": [
    "### Scroll Percentage weight"
   ]
  },
  {
   "cell_type": "code",
   "execution_count": 12,
   "metadata": {},
   "outputs": [
    {
     "data": {
      "text/html": [
       "<div><style>\n",
       ".dataframe > thead > tr,\n",
       ".dataframe > tbody > tr {\n",
       "  text-align: right;\n",
       "  white-space: pre-wrap;\n",
       "}\n",
       "</style>\n",
       "<small>shape: (2, 6)</small><table border=\"1\" class=\"dataframe\"><thead><tr><th>user_id</th><th>scroll_percentage_fixed</th><th>scroll_percentage_fixed_norm</th><th>scroll_percentage_fixed_mmnorm</th><th>scroll_percentage_fixed_norm_l1_w</th><th>scroll_percentage_fixed_mmnorm_l1_w</th></tr><tr><td>u32</td><td>list[f32]</td><td>list[f32]</td><td>list[f32]</td><td>list[f32]</td><td>list[f32]</td></tr></thead><tbody><tr><td>13538</td><td>[100.0, 35.0, … 100.0]</td><td>[10.0, 5.91608, … 10.0]</td><td>[1.0, 0.35, … 1.0]</td><td>[0.003138, 0.001856, … 0.003138]</td><td>[0.004735, 0.001657, … 0.004735]</td></tr><tr><td>14241</td><td>[100.0, 46.0, … 100.0]</td><td>[10.0, 6.78233, … 10.0]</td><td>[1.0, 0.46, … 1.0]</td><td>[0.007106, 0.00482, … 0.007106]</td><td>[0.007959, 0.003661, … 0.007959]</td></tr></tbody></table></div>"
      ],
      "text/plain": [
       "shape: (2, 6)\n",
       "┌─────────┬─────────────────┬─────────────────┬─────────────────┬─────────────────┬────────────────┐\n",
       "│ user_id ┆ scroll_percenta ┆ scroll_percenta ┆ scroll_percenta ┆ scroll_percenta ┆ scroll_percent │\n",
       "│ ---     ┆ ge_fixed        ┆ ge_fixed_norm   ┆ ge_fixed_mmnorm ┆ ge_fixed_norm_l ┆ age_fixed_mmno │\n",
       "│ u32     ┆ ---             ┆ ---             ┆ ---             ┆ …               ┆ rm…            │\n",
       "│         ┆ list[f32]       ┆ list[f32]       ┆ list[f32]       ┆ ---             ┆ ---            │\n",
       "│         ┆                 ┆                 ┆                 ┆ list[f32]       ┆ list[f32]      │\n",
       "╞═════════╪═════════════════╪═════════════════╪═════════════════╪═════════════════╪════════════════╡\n",
       "│ 13538   ┆ [100.0, 35.0, … ┆ [10.0, 5.91608, ┆ [1.0, 0.35, …   ┆ [0.003138,      ┆ [0.004735,     │\n",
       "│         ┆ 100.0]          ┆ … 10.0]         ┆ 1.0]            ┆ 0.001856, …     ┆ 0.001657, …    │\n",
       "│         ┆                 ┆                 ┆                 ┆ 0.00313…        ┆ 0.00473…       │\n",
       "│ 14241   ┆ [100.0, 46.0, … ┆ [10.0, 6.78233, ┆ [1.0, 0.46, …   ┆ [0.007106,      ┆ [0.007959,     │\n",
       "│         ┆ 100.0]          ┆ … 10.0]         ┆ 1.0]            ┆ 0.00482, …      ┆ 0.003661, …    │\n",
       "│         ┆                 ┆                 ┆                 ┆ 0.007106…       ┆ 0.00795…       │\n",
       "└─────────┴─────────────────┴─────────────────┴─────────────────┴─────────────────┴────────────────┘"
      ]
     },
     "execution_count": 12,
     "metadata": {},
     "output_type": "execute_result"
    }
   ],
   "source": [
    "history_w = history_train.select('user_id', 'scroll_percentage_fixed').with_columns(\n",
    "    pl.col('scroll_percentage_fixed').list.eval(pl.element().fill_null(0.0))\\\n",
    "        .list.eval(pl.element().sqrt()).alias('scroll_percentage_fixed_norm'),\n",
    "    pl.col('scroll_percentage_fixed').list.eval(pl.element().fill_null(0.0))\\\n",
    "        .list.eval((pl.element() - pl.element().min()).truediv(pl.element().max() - pl.element().min())).alias('scroll_percentage_fixed_mmnorm')\n",
    "    ).with_columns(\n",
    "        pl.col('scroll_percentage_fixed_norm').list.eval(pl.element().truediv(pl.element().sum())).alias('scroll_percentage_fixed_norm_l1_w'),\n",
    "        pl.col('scroll_percentage_fixed_mmnorm').list.eval(pl.element().truediv(pl.element().sum())).alias('scroll_percentage_fixed_mmnorm_l1_w'),\n",
    "    )\n",
    "history_w.head(2)"
   ]
  },
  {
   "cell_type": "markdown",
   "metadata": {},
   "source": [
    "### Read time weight"
   ]
  },
  {
   "cell_type": "code",
   "execution_count": 13,
   "metadata": {},
   "outputs": [
    {
     "data": {
      "text/html": [
       "<div><style>\n",
       ".dataframe > thead > tr,\n",
       ".dataframe > tbody > tr {\n",
       "  text-align: right;\n",
       "  white-space: pre-wrap;\n",
       "}\n",
       "</style>\n",
       "<small>shape: (2, 9)</small><table border=\"1\" class=\"dataframe\"><thead><tr><th>user_id</th><th>impression_time_fixed</th><th>scroll_percentage_fixed</th><th>article_id_fixed</th><th>read_time_fixed</th><th>article_id_fixed_article_len</th><th>last_modified_time</th><th>published_time</th><th>time_to_impression</th></tr><tr><td>u32</td><td>list[datetime[μs]]</td><td>list[f32]</td><td>list[i32]</td><td>list[f32]</td><td>list[u32]</td><td>list[datetime[μs]]</td><td>list[datetime[μs]]</td><td>list[duration[μs]]</td></tr></thead><tbody><tr><td>1776014</td><td>[2023-04-27 10:27:29, 2023-04-27 10:30:29, … 2023-05-18 06:47:08]</td><td>[100.0, null, … null]</td><td>[9738355, 9738490, … 9771042]</td><td>[174.0, 4.0, … 7.0]</td><td>[2794, 2016, … 1256]</td><td>[2023-06-29 06:48:22, 2023-06-29 06:48:22, … 2023-06-29 06:48:54]</td><td>[2023-04-27 10:16:43, 2023-04-27 09:39:57, … 2023-05-18 06:31:35]</td><td>[10m 46s, 50m 32s, … 15m 33s]</td></tr><tr><td>1939634</td><td>[2023-04-30 18:48:51, 2023-05-05 20:49:21, … 2023-05-14 20:21:34]</td><td>[96.0, 100.0, … 81.0]</td><td>[9743574, 9751385, … 9761419]</td><td>[36.0, 4.0, … 14.0]</td><td>[2178, 2134, … 2401]</td><td>[2023-06-29 06:48:28, 2023-06-29 06:48:35, … 2023-06-29 06:48:45]</td><td>[2023-04-30 18:35:33, 2023-05-05 20:28:42, … 2023-05-12 21:03:21]</td><td>[13m 18s, 20m 39s, … 1d 23h 18m 13s]</td></tr></tbody></table></div>"
      ],
      "text/plain": [
       "shape: (2, 9)\n",
       "┌─────────┬────────────┬───────────┬───────────┬───┬───────────┬───────────┬───────────┬───────────┐\n",
       "│ user_id ┆ impression ┆ scroll_pe ┆ article_i ┆ … ┆ article_i ┆ last_modi ┆ published ┆ time_to_i │\n",
       "│ ---     ┆ _time_fixe ┆ rcentage_ ┆ d_fixed   ┆   ┆ d_fixed_a ┆ fied_time ┆ _time     ┆ mpression │\n",
       "│ u32     ┆ d          ┆ fixed     ┆ ---       ┆   ┆ rticle_le ┆ ---       ┆ ---       ┆ ---       │\n",
       "│         ┆ ---        ┆ ---       ┆ list[i32] ┆   ┆ n         ┆ list[date ┆ list[date ┆ list[dura │\n",
       "│         ┆ list[datet ┆ list[f32] ┆           ┆   ┆ ---       ┆ time[μs]] ┆ time[μs]] ┆ tion[μs]] │\n",
       "│         ┆ ime[μs]]   ┆           ┆           ┆   ┆ list[u32] ┆           ┆           ┆           │\n",
       "╞═════════╪════════════╪═══════════╪═══════════╪═══╪═══════════╪═══════════╪═══════════╪═══════════╡\n",
       "│ 1776014 ┆ [2023-04-2 ┆ [100.0,   ┆ [9738355, ┆ … ┆ [2794,    ┆ [2023-06- ┆ [2023-04- ┆ [10m 46s, │\n",
       "│         ┆ 7          ┆ null, …   ┆ 9738490,  ┆   ┆ 2016, …   ┆ 29        ┆ 27        ┆ 50m 32s,  │\n",
       "│         ┆ 10:27:29,  ┆ null]     ┆ …         ┆   ┆ 1256]     ┆ 06:48:22, ┆ 10:16:43, ┆ … 15m     │\n",
       "│         ┆ 2023-04-…  ┆           ┆ 9771042]  ┆   ┆           ┆ 2023-06-… ┆ 2023-04-… ┆ 33s]      │\n",
       "│ 1939634 ┆ [2023-04-3 ┆ [96.0,    ┆ [9743574, ┆ … ┆ [2178,    ┆ [2023-06- ┆ [2023-04- ┆ [13m 18s, │\n",
       "│         ┆ 0          ┆ 100.0, …  ┆ 9751385,  ┆   ┆ 2134, …   ┆ 29        ┆ 30        ┆ 20m 39s,  │\n",
       "│         ┆ 18:48:51,  ┆ 81.0]     ┆ …         ┆   ┆ 2401]     ┆ 06:48:28, ┆ 18:35:33, ┆ … 1d 23h  │\n",
       "│         ┆ 2023-05-…  ┆           ┆ 9761419]  ┆   ┆           ┆ 2023-06-… ┆ 2023-05-… ┆ 18…       │\n",
       "└─────────┴────────────┴───────────┴───────────┴───┴───────────┴───────────┴───────────┴───────────┘"
      ]
     },
     "execution_count": 13,
     "metadata": {},
     "output_type": "execute_result"
    }
   ],
   "source": [
    "history_w_articles = history_train.explode(pl.all().exclude('user_id')).join(\n",
    "    articles.select('article_id', \n",
    "        (pl.col('body') + pl.col('title') + pl.col('subtitle')).str.len_chars().alias('article_id_fixed_article_len'),\n",
    "        'last_modified_time', 'published_time'), left_on='article_id_fixed', right_on='article_id'\n",
    "    )\\\n",
    "    .with_columns(\n",
    "        (pl.col('impression_time_fixed') - pl.col('published_time')).alias('time_to_impression'),\n",
    "    ).group_by('user_id').agg(pl.all())\n",
    "history_w_articles.head(2)"
   ]
  },
  {
   "cell_type": "code",
   "execution_count": 14,
   "metadata": {},
   "outputs": [
    {
     "data": {
      "text/html": [
       "<div><style>\n",
       ".dataframe > thead > tr,\n",
       ".dataframe > tbody > tr {\n",
       "  text-align: right;\n",
       "  white-space: pre-wrap;\n",
       "}\n",
       "</style>\n",
       "<small>shape: (2, 5)</small><table border=\"1\" class=\"dataframe\"><thead><tr><th>user_id</th><th>read_time_fixed</th><th>article_id_fixed_article_len</th><th>read_time_fixed_article_len_ratio</th><th>read_time_fixed_article_len_ratio_l1_w</th></tr><tr><td>u32</td><td>list[f32]</td><td>list[u32]</td><td>list[f64]</td><td>list[f64]</td></tr></thead><tbody><tr><td>1281207</td><td>[5.0, 10.0, … 0.0]</td><td>[1223, 882, … 163]</td><td>[0.004088, 0.011338, … 0.0]</td><td>[0.007023, 0.019478, … 0.0]</td></tr><tr><td>1576640</td><td>[6.0, 5.0, … 1.0]</td><td>[1841, 959, … 1112]</td><td>[0.003259, 0.005214, … 0.000899]</td><td>[0.000629, 0.001007, … 0.000174]</td></tr></tbody></table></div>"
      ],
      "text/plain": [
       "shape: (2, 5)\n",
       "┌─────────┬────────────────────┬──────────────────────┬──────────────────────┬─────────────────────┐\n",
       "│ user_id ┆ read_time_fixed    ┆ article_id_fixed_art ┆ read_time_fixed_arti ┆ read_time_fixed_art │\n",
       "│ ---     ┆ ---                ┆ icle_len             ┆ cle_len_ra…          ┆ icle_len_ra…        │\n",
       "│ u32     ┆ list[f32]          ┆ ---                  ┆ ---                  ┆ ---                 │\n",
       "│         ┆                    ┆ list[u32]            ┆ list[f64]            ┆ list[f64]           │\n",
       "╞═════════╪════════════════════╪══════════════════════╪══════════════════════╪═════════════════════╡\n",
       "│ 1281207 ┆ [5.0, 10.0, … 0.0] ┆ [1223, 882, … 163]   ┆ [0.004088, 0.011338, ┆ [0.007023,          │\n",
       "│         ┆                    ┆                      ┆ … 0.0]               ┆ 0.019478, … 0.0]    │\n",
       "│ 1576640 ┆ [6.0, 5.0, … 1.0]  ┆ [1841, 959, … 1112]  ┆ [0.003259, 0.005214, ┆ [0.000629,          │\n",
       "│         ┆                    ┆                      ┆ … 0.00089…           ┆ 0.001007, …         │\n",
       "│         ┆                    ┆                      ┆                      ┆ 0.00017…            │\n",
       "└─────────┴────────────────────┴──────────────────────┴──────────────────────┴─────────────────────┘"
      ]
     },
     "execution_count": 14,
     "metadata": {},
     "output_type": "execute_result"
    }
   ],
   "source": [
    "history_w = history_w_articles.select('user_id', 'read_time_fixed', 'article_id_fixed_article_len')\\\n",
    "    .explode(pl.all().exclude('user_id'))\\\n",
    "    .with_columns(\n",
    "        pl.col('read_time_fixed').truediv('article_id_fixed_article_len').fill_nan(0.0).alias('read_time_fixed_article_len_ratio'),\n",
    "    ).with_columns(\n",
    "        pl.when(pl.col('read_time_fixed_article_len_ratio').is_infinite()).then(0.0).otherwise(pl.col('read_time_fixed_article_len_ratio')).alias('read_time_fixed_article_len_ratio')\n",
    "    ).group_by('user_id').agg(pl.all())\\\n",
    "    .with_columns(\n",
    "        pl.col('read_time_fixed_article_len_ratio').list.eval(pl.element().truediv(pl.element().sum())).alias('read_time_fixed_article_len_ratio_l1_w'),\n",
    "    )\n",
    "history_w.head(2)"
   ]
  },
  {
   "cell_type": "markdown",
   "metadata": {},
   "source": [
    "### Impression time"
   ]
  },
  {
   "cell_type": "code",
   "execution_count": 15,
   "metadata": {},
   "outputs": [
    {
     "data": {
      "text/html": [
       "<div><style>\n",
       ".dataframe > thead > tr,\n",
       ".dataframe > tbody > tr {\n",
       "  text-align: right;\n",
       "  white-space: pre-wrap;\n",
       "}\n",
       "</style>\n",
       "<small>shape: (2, 6)</small><table border=\"1\" class=\"dataframe\"><thead><tr><th>user_id</th><th>time_to_impression</th><th>time_to_impression_inverse_sqrt</th><th>time_to_impression_sqrt</th><th>time_to_impression_l1_w</th><th>time_to_impression_sqrt_l1_w</th></tr><tr><td>u32</td><td>list[duration[μs]]</td><td>list[f64]</td><td>list[f64]</td><td>list[f64]</td><td>list[f64]</td></tr></thead><tbody><tr><td>487498</td><td>[2h 39m 38s, 5h 5m 34s, … 1h 46m 31s]</td><td>[0.073478, 0.054159, … 0.08853]</td><td>[12.60952, 17.464249, … 10.29563]</td><td>[0.070409, 0.051897, … 0.084832]</td><td>[0.088005, 0.121887, … 0.071856]</td></tr><tr><td>302448</td><td>[2d 8h 49m, 17h 30m 28s, … 1450d 6h 21m 50s]</td><td>[0.016839, 0.029937, … 0.000692]</td><td>[58.386642, 32.403703, … 1445.123178]</td><td>[0.01827, 0.032482, … 0.00075]</td><td>[0.011932, 0.006622, … 0.295335]</td></tr></tbody></table></div>"
      ],
      "text/plain": [
       "shape: (2, 6)\n",
       "┌─────────┬─────────────────┬─────────────────┬─────────────────┬─────────────────┬────────────────┐\n",
       "│ user_id ┆ time_to_impress ┆ time_to_impress ┆ time_to_impress ┆ time_to_impress ┆ time_to_impres │\n",
       "│ ---     ┆ ion             ┆ ion_inverse_sqr ┆ ion_sqrt        ┆ ion_l1_w        ┆ sion_sqrt_l1_w │\n",
       "│ u32     ┆ ---             ┆ …               ┆ ---             ┆ ---             ┆ ---            │\n",
       "│         ┆ list[duration[μ ┆ ---             ┆ list[f64]       ┆ list[f64]       ┆ list[f64]      │\n",
       "│         ┆ s]]             ┆ list[f64]       ┆                 ┆                 ┆                │\n",
       "╞═════════╪═════════════════╪═════════════════╪═════════════════╪═════════════════╪════════════════╡\n",
       "│ 487498  ┆ [2h 39m 38s, 5h ┆ [0.073478,      ┆ [12.60952,      ┆ [0.070409,      ┆ [0.088005,     │\n",
       "│         ┆ 5m 34s, … 1h 4… ┆ 0.054159, …     ┆ 17.464249, …    ┆ 0.051897, …     ┆ 0.121887, …    │\n",
       "│         ┆                 ┆ 0.08853…        ┆ 10.295…         ┆ 0.08483…        ┆ 0.07185…       │\n",
       "│ 302448  ┆ [2d 8h 49m, 17h ┆ [0.016839,      ┆ [58.386642,     ┆ [0.01827,       ┆ [0.011932,     │\n",
       "│         ┆ 30m 28s, … 145… ┆ 0.029937, …     ┆ 32.403703, …    ┆ 0.032482, …     ┆ 0.006622, …    │\n",
       "│         ┆                 ┆ 0.00069…        ┆ 1445.…          ┆ 0.00075]        ┆ 0.29533…       │\n",
       "└─────────┴─────────────────┴─────────────────┴─────────────────┴─────────────────┴────────────────┘"
      ]
     },
     "execution_count": 15,
     "metadata": {},
     "output_type": "execute_result"
    }
   ],
   "source": [
    "offset = 1\n",
    "history_w = history_w_articles.select('user_id', 'time_to_impression')\\\n",
    "    .explode(pl.all().exclude('user_id'))\\\n",
    "    .with_columns(\n",
    "        pl.lit(1).truediv(pl.col('time_to_impression').dt.total_minutes().sqrt() + offset).alias('time_to_impression_inverse_sqrt'),\n",
    "        pl.col('time_to_impression').dt.total_minutes().sqrt().alias('time_to_impression_sqrt')\n",
    "    ).group_by('user_id').agg(pl.all())\\\n",
    "    .with_columns(\n",
    "        pl.col('time_to_impression_inverse_sqrt').list.eval(pl.element().truediv(pl.element().sum())).alias('time_to_impression_l1_w'),\n",
    "        pl.col('time_to_impression_sqrt').list.eval(pl.element().truediv(pl.element().sum())).alias('time_to_impression_sqrt_l1_w')\n",
    "    )\n",
    "history_w.head(2)"
   ]
  },
  {
   "cell_type": "markdown",
   "metadata": {},
   "source": [
    "### Last k"
   ]
  },
  {
   "cell_type": "code",
   "execution_count": 16,
   "metadata": {},
   "outputs": [
    {
     "data": {
      "text/html": [
       "<div><style>\n",
       ".dataframe > thead > tr,\n",
       ".dataframe > tbody > tr {\n",
       "  text-align: right;\n",
       "  white-space: pre-wrap;\n",
       "}\n",
       "</style>\n",
       "<small>shape: (2, 4)</small><table border=\"1\" class=\"dataframe\"><thead><tr><th>user_id</th><th>mask_w_5</th><th>mask_w_10</th><th>mask_w_15</th></tr><tr><td>u32</td><td>list[i8]</td><td>list[i8]</td><td>list[i8]</td></tr></thead><tbody><tr><td>1776014</td><td>[1, 1, … 0]</td><td>[1, 1, … 0]</td><td>[1, 1, … 0]</td></tr><tr><td>1939634</td><td>[1, 1, … 0]</td><td>[1, 1, … 0]</td><td>[1, 1, … 0]</td></tr></tbody></table></div>"
      ],
      "text/plain": [
       "shape: (2, 4)\n",
       "┌─────────┬─────────────┬─────────────┬─────────────┐\n",
       "│ user_id ┆ mask_w_5    ┆ mask_w_10   ┆ mask_w_15   │\n",
       "│ ---     ┆ ---         ┆ ---         ┆ ---         │\n",
       "│ u32     ┆ list[i8]    ┆ list[i8]    ┆ list[i8]    │\n",
       "╞═════════╪═════════════╪═════════════╪═════════════╡\n",
       "│ 1776014 ┆ [1, 1, … 0] ┆ [1, 1, … 0] ┆ [1, 1, … 0] │\n",
       "│ 1939634 ┆ [1, 1, … 0] ┆ [1, 1, … 0] ┆ [1, 1, … 0] │\n",
       "└─────────┴─────────────┴─────────────┴─────────────┘"
      ]
     },
     "execution_count": 16,
     "metadata": {},
     "output_type": "execute_result"
    }
   ],
   "source": [
    "history_len = history_w_articles['read_time_fixed'].list.len().to_list()\n",
    "history_w = history_w_articles.select('user_id').with_columns(\n",
    "    *[pl.Series([[1] * min(k, l) + [0] * max(0, l - k) for l in history_len], dtype=pl.List(pl.Int8)).alias(f'mask_w_{k}') for k in [5, 10, 15]]\n",
    ")\n",
    "history_w.head(2)"
   ]
  },
  {
   "cell_type": "markdown",
   "metadata": {},
   "source": [
    "### Last k hours"
   ]
  },
  {
   "cell_type": "code",
   "execution_count": 17,
   "metadata": {},
   "outputs": [
    {
     "data": {
      "text/html": [
       "<div><style>\n",
       ".dataframe > thead > tr,\n",
       ".dataframe > tbody > tr {\n",
       "  text-align: right;\n",
       "  white-space: pre-wrap;\n",
       "}\n",
       "</style>\n",
       "<small>shape: (2, 9)</small><table border=\"1\" class=\"dataframe\"><thead><tr><th>impression_id</th><th>user_id</th><th>impression_time</th><th>impression_time_fixed</th><th>impression_time_last_24_hours_mask</th><th>impression_time_last_48_hours_mask</th><th>impression_time_last_72_hours_mask</th><th>impression_time_last_168_hours_mask</th><th>impression_time_last_336_hours_mask</th></tr><tr><td>u32</td><td>u32</td><td>datetime[μs]</td><td>list[datetime[μs]]</td><td>list[i8]</td><td>list[i8]</td><td>list[i8]</td><td>list[i8]</td><td>list[i8]</td></tr></thead><tbody><tr><td>202133850</td><td>1552426</td><td>2023-05-24 21:07:45</td><td>[2023-04-27 09:54:19, 2023-04-27 12:47:18, … 2023-05-17 19:01:38]</td><td>[0, 0, … 0]</td><td>[0, 0, … 0]</td><td>[0, 0, … 0]</td><td>[0, 0, … 0]</td><td>[0, 0, … 1]</td></tr><tr><td>418053734</td><td>372895</td><td>2023-05-20 09:40:08</td><td>[2023-04-27 07:37:38, 2023-04-27 07:37:58, … 2023-05-18 06:59:59]</td><td>[0, 0, … 0]</td><td>[0, 0, … 0]</td><td>[0, 0, … 1]</td><td>[0, 0, … 1]</td><td>[0, 0, … 1]</td></tr></tbody></table></div>"
      ],
      "text/plain": [
       "shape: (2, 9)\n",
       "┌────────────┬─────────┬───────────┬───────────┬───┬───────────┬───────────┬───────────┬───────────┐\n",
       "│ impression ┆ user_id ┆ impressio ┆ impressio ┆ … ┆ impressio ┆ impressio ┆ impressio ┆ impressio │\n",
       "│ _id        ┆ ---     ┆ n_time    ┆ n_time_fi ┆   ┆ n_time_la ┆ n_time_la ┆ n_time_la ┆ n_time_la │\n",
       "│ ---        ┆ u32     ┆ ---       ┆ xed       ┆   ┆ st_48_hou ┆ st_72_hou ┆ st_168_ho ┆ st_336_ho │\n",
       "│ u32        ┆         ┆ datetime[ ┆ ---       ┆   ┆ rs_…      ┆ rs_…      ┆ urs…      ┆ urs…      │\n",
       "│            ┆         ┆ μs]       ┆ list[date ┆   ┆ ---       ┆ ---       ┆ ---       ┆ ---       │\n",
       "│            ┆         ┆           ┆ time[μs]] ┆   ┆ list[i8]  ┆ list[i8]  ┆ list[i8]  ┆ list[i8]  │\n",
       "╞════════════╪═════════╪═══════════╪═══════════╪═══╪═══════════╪═══════════╪═══════════╪═══════════╡\n",
       "│ 202133850  ┆ 1552426 ┆ 2023-05-2 ┆ [2023-04- ┆ … ┆ [0, 0, …  ┆ [0, 0, …  ┆ [0, 0, …  ┆ [0, 0, …  │\n",
       "│            ┆         ┆ 4         ┆ 27        ┆   ┆ 0]        ┆ 0]        ┆ 0]        ┆ 1]        │\n",
       "│            ┆         ┆ 21:07:45  ┆ 09:54:19, ┆   ┆           ┆           ┆           ┆           │\n",
       "│            ┆         ┆           ┆ 2023-04-… ┆   ┆           ┆           ┆           ┆           │\n",
       "│ 418053734  ┆ 372895  ┆ 2023-05-2 ┆ [2023-04- ┆ … ┆ [0, 0, …  ┆ [0, 0, …  ┆ [0, 0, …  ┆ [0, 0, …  │\n",
       "│            ┆         ┆ 0         ┆ 27        ┆   ┆ 0]        ┆ 1]        ┆ 1]        ┆ 1]        │\n",
       "│            ┆         ┆ 09:40:08  ┆ 07:37:38, ┆   ┆           ┆           ┆           ┆           │\n",
       "│            ┆         ┆           ┆ 2023-04-… ┆   ┆           ┆           ┆           ┆           │\n",
       "└────────────┴─────────┴───────────┴───────────┴───┴───────────┴───────────┴───────────┴───────────┘"
      ]
     },
     "execution_count": 17,
     "metadata": {},
     "output_type": "execute_result"
    }
   ],
   "source": [
    "behaviors_w = behaviors_train.select('impression_id', 'user_id', 'impression_time')\\\n",
    "    .join(history_w_articles.select('user_id', 'impression_time_fixed'), on='user_id')\\\n",
    "    .explode(pl.all().exclude('impression_id', 'user_id', 'impression_time'))\\\n",
    "    .with_columns(\n",
    "        *[(pl.col('impression_time').sub(pl.col('impression_time_fixed')).dt.total_hours() <= k).cast(pl.Int8).alias(f'impression_time_last_{k}_hours_mask') for k in [24, 24*2, 24*3, 24*7, 24*14]]\n",
    "    ).group_by('impression_id', 'user_id', 'impression_time').agg(pl.all())\n",
    "behaviors_w.head(2)"
   ]
  },
  {
   "cell_type": "code",
   "execution_count": 18,
   "metadata": {},
   "outputs": [
    {
     "data": {
      "text/html": [
       "<div><style>\n",
       ".dataframe > thead > tr,\n",
       ".dataframe > tbody > tr {\n",
       "  text-align: right;\n",
       "  white-space: pre-wrap;\n",
       "}\n",
       "</style>\n",
       "<small>shape: (2, 4)</small><table border=\"1\" class=\"dataframe\"><thead><tr><th>user_id</th><th>time_to_impression</th><th>time_to_impression_sqrt</th><th>time_to_impression_l1_w</th></tr><tr><td>u32</td><td>list[duration[μs]]</td><td>list[f64]</td><td>list[f64]</td></tr></thead><tbody><tr><td>136098</td><td>[27m 28s, 2h 11m 2s, … 1d 22h 51m 47s]</td><td>[5.196152, 11.445523, … 53.018865]</td><td>[0.009447, 0.020808, … 0.09639]</td></tr><tr><td>1499567</td><td>[8m 40s, 27m 52s, … 32m 42s]</td><td>[2.828427, 5.196152, … 5.656854]</td><td>[0.001037, 0.001905, … 0.002074]</td></tr></tbody></table></div>"
      ],
      "text/plain": [
       "shape: (2, 4)\n",
       "┌─────────┬─────────────────────────────────┬─────────────────────────┬─────────────────────────┐\n",
       "│ user_id ┆ time_to_impression              ┆ time_to_impression_sqrt ┆ time_to_impression_l1_w │\n",
       "│ ---     ┆ ---                             ┆ ---                     ┆ ---                     │\n",
       "│ u32     ┆ list[duration[μs]]              ┆ list[f64]               ┆ list[f64]               │\n",
       "╞═════════╪═════════════════════════════════╪═════════════════════════╪═════════════════════════╡\n",
       "│ 136098  ┆ [27m 28s, 2h 11m 2s, … 1d 22h … ┆ [5.196152, 11.445523, … ┆ [0.009447, 0.020808, …  │\n",
       "│         ┆                                 ┆ 53.018…                 ┆ 0.09639…                │\n",
       "│ 1499567 ┆ [8m 40s, 27m 52s, … 32m 42s]    ┆ [2.828427, 5.196152, …  ┆ [0.001037, 0.001905, …  │\n",
       "│         ┆                                 ┆ 5.65685…                ┆ 0.00207…                │\n",
       "└─────────┴─────────────────────────────────┴─────────────────────────┴─────────────────────────┘"
      ]
     },
     "execution_count": 18,
     "metadata": {},
     "output_type": "execute_result"
    }
   ],
   "source": [
    "history_w = history_w_articles.select('user_id', 'time_to_impression')\\\n",
    "    .explode(pl.all().exclude('user_id'))\\\n",
    "    .with_columns(\n",
    "        pl.col('time_to_impression').dt.total_minutes().sqrt().alias('time_to_impression_sqrt'),\n",
    "    ).group_by('user_id').agg(pl.all())\\\n",
    "    .with_columns(\n",
    "        pl.col('time_to_impression_sqrt').list.eval(pl.element().truediv(pl.element().sum())).alias('time_to_impression_l1_w')\n",
    "    )\n",
    "history_w.head(2)"
   ]
  },
  {
   "cell_type": "code",
   "execution_count": 19,
   "metadata": {},
   "outputs": [
    {
     "data": {
      "text/html": [
       "<div><style>\n",
       ".dataframe > thead > tr,\n",
       ".dataframe > tbody > tr {\n",
       "  text-align: right;\n",
       "  white-space: pre-wrap;\n",
       "}\n",
       "</style>\n",
       "<small>shape: (15_143, 9)</small><table border=\"1\" class=\"dataframe\"><thead><tr><th>user_id</th><th>impression_time_fixed</th><th>scroll_percentage_fixed</th><th>article_id_fixed</th><th>read_time_fixed</th><th>article_id_fixed_article_len</th><th>last_modified_time</th><th>published_time</th><th>time_to_impression</th></tr><tr><td>u32</td><td>list[datetime[μs]]</td><td>list[f32]</td><td>list[i32]</td><td>list[f32]</td><td>list[u32]</td><td>list[datetime[μs]]</td><td>list[datetime[μs]]</td><td>list[duration[μs]]</td></tr></thead><tbody><tr><td>1776014</td><td>[2023-04-27 10:27:29, 2023-04-27 10:30:29, … 2023-05-18 06:47:08]</td><td>[100.0, null, … null]</td><td>[9738355, 9738490, … 9771042]</td><td>[174.0, 4.0, … 7.0]</td><td>[2794, 2016, … 1256]</td><td>[2023-06-29 06:48:22, 2023-06-29 06:48:22, … 2023-06-29 06:48:54]</td><td>[2023-04-27 10:16:43, 2023-04-27 09:39:57, … 2023-05-18 06:31:35]</td><td>[10m 46s, 50m 32s, … 15m 33s]</td></tr><tr><td>1939634</td><td>[2023-04-30 18:48:51, 2023-05-05 20:49:21, … 2023-05-14 20:21:34]</td><td>[96.0, 100.0, … 81.0]</td><td>[9743574, 9751385, … 9761419]</td><td>[36.0, 4.0, … 14.0]</td><td>[2178, 2134, … 2401]</td><td>[2023-06-29 06:48:28, 2023-06-29 06:48:35, … 2023-06-29 06:48:45]</td><td>[2023-04-30 18:35:33, 2023-05-05 20:28:42, … 2023-05-12 21:03:21]</td><td>[13m 18s, 20m 39s, … 1d 23h 18m 13s]</td></tr><tr><td>162191</td><td>[2023-04-27 07:25:13, 2023-04-27 07:25:50, … 2023-05-18 06:15:29]</td><td>[95.0, 56.0, … null]</td><td>[9738216, 9737881, … 9769575]</td><td>[26.0, 14.0, … 0.0]</td><td>[959, 2385, … 1883]</td><td>[2023-06-29 06:48:22, 2023-06-29 06:48:21, … 2023-06-29 06:48:52]</td><td>[2023-04-27 07:12:45, 2023-04-27 06:10:12, … 2023-05-17 21:07:38]</td><td>[12m 28s, 1h 15m 38s, … 9h 7m 51s]</td></tr><tr><td>1963074</td><td>[2023-04-28 15:04:29, 2023-04-28 18:23:46, … 2023-05-17 19:06:12]</td><td>[75.0, 85.0, … 100.0]</td><td>[9741124, 9741106, … 9769433]</td><td>[246.0, 87.0, … 42.0]</td><td>[1373, 1876, … 1723]</td><td>[2023-06-29 06:48:25, 2023-06-29 06:48:25, … 2023-06-29 06:48:52]</td><td>[2023-04-28 14:48:19, 2023-04-28 17:48:17, … 2023-05-17 16:09:16]</td><td>[16m 10s, 35m 29s, … 2h 56m 56s]</td></tr><tr><td>924147</td><td>[2023-04-27 08:37:12, 2023-04-27 08:38:42, … 2023-05-18 06:57:39]</td><td>[100.0, 67.0, … 100.0]</td><td>[9737904, 9737854, … 9770867]</td><td>[90.0, 8.0, … 1.0]</td><td>[2323, 1967, … 1901]</td><td>[2023-06-29 06:48:21, 2023-06-29 06:48:21, … 2023-06-29 06:48:53]</td><td>[2023-04-27 01:36:31, 2023-04-26 23:11:46, … 2023-05-18 04:21:08]</td><td>[7h 41s, 9h 26m 56s, … 2h 36m 31s]</td></tr><tr><td>&hellip;</td><td>&hellip;</td><td>&hellip;</td><td>&hellip;</td><td>&hellip;</td><td>&hellip;</td><td>&hellip;</td><td>&hellip;</td><td>&hellip;</td></tr><tr><td>817402</td><td>[2023-04-27 19:56:12, 2023-04-27 19:56:26, … 2023-05-17 13:19:39]</td><td>[null, null, … 90.0]</td><td>[9739443, 9739411, … 9769765]</td><td>[7.0, 17.0, … 38.0]</td><td>[1880, 1424, … 1150]</td><td>[2023-06-29 06:48:23, 2023-06-29 06:48:23, … 2023-06-29 06:48:52]</td><td>[2023-04-27 19:39:59, 2023-04-27 19:17:22, … 2023-05-17 10:02:03]</td><td>[16m 13s, 39m 4s, … 3h 17m 36s]</td></tr><tr><td>2302800</td><td>[2023-04-29 05:27:18, 2023-05-05 10:23:38, … 2023-05-11 15:20:02]</td><td>[34.0, 100.0, … 100.0]</td><td>[9740952, 9750815, … 9759885]</td><td>[2.0, 302.0, … 4.0]</td><td>[1748, 1469, … 1950]</td><td>[2023-06-29 06:48:24, 2023-06-29 06:48:35, … 2023-06-29 06:48:43]</td><td>[2023-04-29 05:10:33, 2023-05-05 08:58:02, … 2023-05-11 11:56:28]</td><td>[16m 45s, 1h 25m 36s, … 3h 23m 34s]</td></tr><tr><td>1499245</td><td>[2023-04-29 02:45:46, 2023-04-29 02:48:13, … 2023-05-17 20:34:28]</td><td>[93.0, 72.0, … 100.0]</td><td>[9741449, 9738315, … 9768321]</td><td>[44.0, 34.0, … 101.0]</td><td>[1696, 1792, … 2400]</td><td>[2023-06-29 06:48:25, 2023-06-29 06:48:22, … 2023-06-29 06:48:51]</td><td>[2023-04-28 19:02:07, 2023-04-28 20:51:39, … 2023-05-17 04:00:00]</td><td>[7h 43m 39s, 5h 56m 34s, … 16h 34m 28s]</td></tr><tr><td>409743</td><td>[2023-04-29 05:33:05, 2023-04-29 10:31:14, … 2023-05-17 15:41:42]</td><td>[null, 68.0, … 100.0]</td><td>[9740952, 9740087, … 9770425]</td><td>[5.0, 40.0, … 31.0]</td><td>[1748, 1659, … 1900]</td><td>[2023-06-29 06:48:24, 2023-06-29 06:48:24, … 2023-06-29 06:48:53]</td><td>[2023-04-29 05:10:33, 2023-04-29 10:10:46, … 2023-05-17 15:37:25]</td><td>[22m 32s, 20m 28s, … 4m 17s]</td></tr><tr><td>1429011</td><td>[2023-04-27 17:16:28, 2023-04-29 16:56:21, … 2023-05-15 07:51:07]</td><td>[100.0, 100.0, … 77.0]</td><td>[9738949, 9742360, … 9765753]</td><td>[22.0, 8.0, … 146.0]</td><td>[2256, 951, … 2343]</td><td>[2023-06-29 06:48:22, 2023-06-29 06:48:26, … 2023-06-29 06:48:49]</td><td>[2023-04-27 16:24:07, 2023-04-29 16:29:05, … 2023-05-15 07:31:21]</td><td>[52m 21s, 27m 16s, … 19m 46s]</td></tr></tbody></table></div>"
      ],
      "text/plain": [
       "shape: (15_143, 9)\n",
       "┌─────────┬────────────┬───────────┬───────────┬───┬───────────┬───────────┬───────────┬───────────┐\n",
       "│ user_id ┆ impression ┆ scroll_pe ┆ article_i ┆ … ┆ article_i ┆ last_modi ┆ published ┆ time_to_i │\n",
       "│ ---     ┆ _time_fixe ┆ rcentage_ ┆ d_fixed   ┆   ┆ d_fixed_a ┆ fied_time ┆ _time     ┆ mpression │\n",
       "│ u32     ┆ d          ┆ fixed     ┆ ---       ┆   ┆ rticle_le ┆ ---       ┆ ---       ┆ ---       │\n",
       "│         ┆ ---        ┆ ---       ┆ list[i32] ┆   ┆ n         ┆ list[date ┆ list[date ┆ list[dura │\n",
       "│         ┆ list[datet ┆ list[f32] ┆           ┆   ┆ ---       ┆ time[μs]] ┆ time[μs]] ┆ tion[μs]] │\n",
       "│         ┆ ime[μs]]   ┆           ┆           ┆   ┆ list[u32] ┆           ┆           ┆           │\n",
       "╞═════════╪════════════╪═══════════╪═══════════╪═══╪═══════════╪═══════════╪═══════════╪═══════════╡\n",
       "│ 1776014 ┆ [2023-04-2 ┆ [100.0,   ┆ [9738355, ┆ … ┆ [2794,    ┆ [2023-06- ┆ [2023-04- ┆ [10m 46s, │\n",
       "│         ┆ 7          ┆ null, …   ┆ 9738490,  ┆   ┆ 2016, …   ┆ 29        ┆ 27        ┆ 50m 32s,  │\n",
       "│         ┆ 10:27:29,  ┆ null]     ┆ …         ┆   ┆ 1256]     ┆ 06:48:22, ┆ 10:16:43, ┆ … 15m     │\n",
       "│         ┆ 2023-04-…  ┆           ┆ 9771042]  ┆   ┆           ┆ 2023-06-… ┆ 2023-04-… ┆ 33s]      │\n",
       "│ 1939634 ┆ [2023-04-3 ┆ [96.0,    ┆ [9743574, ┆ … ┆ [2178,    ┆ [2023-06- ┆ [2023-04- ┆ [13m 18s, │\n",
       "│         ┆ 0          ┆ 100.0, …  ┆ 9751385,  ┆   ┆ 2134, …   ┆ 29        ┆ 30        ┆ 20m 39s,  │\n",
       "│         ┆ 18:48:51,  ┆ 81.0]     ┆ …         ┆   ┆ 2401]     ┆ 06:48:28, ┆ 18:35:33, ┆ … 1d 23h  │\n",
       "│         ┆ 2023-05-…  ┆           ┆ 9761419]  ┆   ┆           ┆ 2023-06-… ┆ 2023-05-… ┆ 18…       │\n",
       "│ 162191  ┆ [2023-04-2 ┆ [95.0,    ┆ [9738216, ┆ … ┆ [959,     ┆ [2023-06- ┆ [2023-04- ┆ [12m 28s, │\n",
       "│         ┆ 7          ┆ 56.0, …   ┆ 9737881,  ┆   ┆ 2385, …   ┆ 29        ┆ 27        ┆ 1h 15m    │\n",
       "│         ┆ 07:25:13,  ┆ null]     ┆ …         ┆   ┆ 1883]     ┆ 06:48:22, ┆ 07:12:45, ┆ 38s, … 9h │\n",
       "│         ┆ 2023-04-…  ┆           ┆ 9769575]  ┆   ┆           ┆ 2023-06-… ┆ 2023-04-… ┆ 7m …      │\n",
       "│ 1963074 ┆ [2023-04-2 ┆ [75.0,    ┆ [9741124, ┆ … ┆ [1373,    ┆ [2023-06- ┆ [2023-04- ┆ [16m 10s, │\n",
       "│         ┆ 8          ┆ 85.0, …   ┆ 9741106,  ┆   ┆ 1876, …   ┆ 29        ┆ 28        ┆ 35m 29s,  │\n",
       "│         ┆ 15:04:29,  ┆ 100.0]    ┆ …         ┆   ┆ 1723]     ┆ 06:48:25, ┆ 14:48:19, ┆ … 2h 56m  │\n",
       "│         ┆ 2023-04-…  ┆           ┆ 9769433]  ┆   ┆           ┆ 2023-06-… ┆ 2023-04-… ┆ 56…       │\n",
       "│ 924147  ┆ [2023-04-2 ┆ [100.0,   ┆ [9737904, ┆ … ┆ [2323,    ┆ [2023-06- ┆ [2023-04- ┆ [7h 41s,  │\n",
       "│         ┆ 7          ┆ 67.0, …   ┆ 9737854,  ┆   ┆ 1967, …   ┆ 29        ┆ 27        ┆ 9h 26m    │\n",
       "│         ┆ 08:37:12,  ┆ 100.0]    ┆ …         ┆   ┆ 1901]     ┆ 06:48:21, ┆ 01:36:31, ┆ 56s, … 2h │\n",
       "│         ┆ 2023-04-…  ┆           ┆ 9770867]  ┆   ┆           ┆ 2023-06-… ┆ 2023-04-… ┆ 36m …     │\n",
       "│ …       ┆ …          ┆ …         ┆ …         ┆ … ┆ …         ┆ …         ┆ …         ┆ …         │\n",
       "│ 817402  ┆ [2023-04-2 ┆ [null,    ┆ [9739443, ┆ … ┆ [1880,    ┆ [2023-06- ┆ [2023-04- ┆ [16m 13s, │\n",
       "│         ┆ 7          ┆ null, …   ┆ 9739411,  ┆   ┆ 1424, …   ┆ 29        ┆ 27        ┆ 39m 4s, … │\n",
       "│         ┆ 19:56:12,  ┆ 90.0]     ┆ …         ┆   ┆ 1150]     ┆ 06:48:23, ┆ 19:39:59, ┆ 3h 17m    │\n",
       "│         ┆ 2023-04-…  ┆           ┆ 9769765]  ┆   ┆           ┆ 2023-06-… ┆ 2023-04-… ┆ 36s…      │\n",
       "│ 2302800 ┆ [2023-04-2 ┆ [34.0,    ┆ [9740952, ┆ … ┆ [1748,    ┆ [2023-06- ┆ [2023-04- ┆ [16m 45s, │\n",
       "│         ┆ 9          ┆ 100.0, …  ┆ 9750815,  ┆   ┆ 1469, …   ┆ 29        ┆ 29        ┆ 1h 25m    │\n",
       "│         ┆ 05:27:18,  ┆ 100.0]    ┆ …         ┆   ┆ 1950]     ┆ 06:48:24, ┆ 05:10:33, ┆ 36s, … 3h │\n",
       "│         ┆ 2023-05-…  ┆           ┆ 9759885]  ┆   ┆           ┆ 2023-06-… ┆ 2023-05-… ┆ 23m…      │\n",
       "│ 1499245 ┆ [2023-04-2 ┆ [93.0,    ┆ [9741449, ┆ … ┆ [1696,    ┆ [2023-06- ┆ [2023-04- ┆ [7h 43m   │\n",
       "│         ┆ 9          ┆ 72.0, …   ┆ 9738315,  ┆   ┆ 1792, …   ┆ 29        ┆ 28        ┆ 39s, 5h   │\n",
       "│         ┆ 02:45:46,  ┆ 100.0]    ┆ …         ┆   ┆ 2400]     ┆ 06:48:25, ┆ 19:02:07, ┆ 56m 34s,  │\n",
       "│         ┆ 2023-04-…  ┆           ┆ 9768321]  ┆   ┆           ┆ 2023-06-… ┆ 2023-04-… ┆ … 16h…    │\n",
       "│ 409743  ┆ [2023-04-2 ┆ [null,    ┆ [9740952, ┆ … ┆ [1748,    ┆ [2023-06- ┆ [2023-04- ┆ [22m 32s, │\n",
       "│         ┆ 9          ┆ 68.0, …   ┆ 9740087,  ┆   ┆ 1659, …   ┆ 29        ┆ 29        ┆ 20m 28s,  │\n",
       "│         ┆ 05:33:05,  ┆ 100.0]    ┆ …         ┆   ┆ 1900]     ┆ 06:48:24, ┆ 05:10:33, ┆ … 4m 17s] │\n",
       "│         ┆ 2023-04-…  ┆           ┆ 9770425]  ┆   ┆           ┆ 2023-06-… ┆ 2023-04-… ┆           │\n",
       "│ 1429011 ┆ [2023-04-2 ┆ [100.0,   ┆ [9738949, ┆ … ┆ [2256,    ┆ [2023-06- ┆ [2023-04- ┆ [52m 21s, │\n",
       "│         ┆ 7          ┆ 100.0, …  ┆ 9742360,  ┆   ┆ 951, …    ┆ 29        ┆ 27        ┆ 27m 16s,  │\n",
       "│         ┆ 17:16:28,  ┆ 77.0]     ┆ …         ┆   ┆ 2343]     ┆ 06:48:22, ┆ 16:24:07, ┆ … 19m     │\n",
       "│         ┆ 2023-04-…  ┆           ┆ 9765753]  ┆   ┆           ┆ 2023-06-… ┆ 2023-04-… ┆ 46s]      │\n",
       "└─────────┴────────────┴───────────┴───────────┴───┴───────────┴───────────┴───────────┴───────────┘"
      ]
     },
     "execution_count": 19,
     "metadata": {},
     "output_type": "execute_result"
    }
   ],
   "source": [
    "history_w_articles"
   ]
  },
  {
   "cell_type": "markdown",
   "metadata": {},
   "source": [
    "# Add all"
   ]
  },
  {
   "cell_type": "code",
   "execution_count": 20,
   "metadata": {},
   "outputs": [],
   "source": [
    "history_w_articles = history_train.explode(pl.all().exclude('user_id')).join(\n",
    "    articles.select('article_id', \n",
    "        (pl.col('body') + pl.col('title') + pl.col('subtitle')).str.len_chars().alias('article_id_fixed_article_len'),\n",
    "        'last_modified_time', 'published_time'), left_on='article_id_fixed', right_on='article_id'\n",
    "    )\\\n",
    "    .with_columns(\n",
    "        (pl.col('impression_time_fixed') - pl.col('published_time')).alias('time_to_impression'),\n",
    "    ).group_by('user_id').agg(pl.all())"
   ]
  },
  {
   "cell_type": "code",
   "execution_count": 21,
   "metadata": {},
   "outputs": [
    {
     "data": {
      "text/html": [
       "<div><style>\n",
       ".dataframe > thead > tr,\n",
       ".dataframe > tbody > tr {\n",
       "  text-align: right;\n",
       "  white-space: pre-wrap;\n",
       "}\n",
       "</style>\n",
       "<small>shape: (1, 9)</small><table border=\"1\" class=\"dataframe\"><thead><tr><th>user_id</th><th>impression_time_fixed</th><th>scroll_percentage_fixed</th><th>article_id_fixed</th><th>read_time_fixed</th><th>article_id_fixed_article_len</th><th>last_modified_time</th><th>published_time</th><th>time_to_impression</th></tr><tr><td>u32</td><td>list[datetime[μs]]</td><td>list[f32]</td><td>list[i32]</td><td>list[f32]</td><td>list[u32]</td><td>list[datetime[μs]]</td><td>list[datetime[μs]]</td><td>list[duration[μs]]</td></tr></thead><tbody><tr><td>2287747</td><td>[2023-04-27 19:04:33, 2023-04-27 19:06:21, … 2023-05-10 09:14:34]</td><td>[100.0, 100.0, … 100.0]</td><td>[9739344, 9737084, … 9757218]</td><td>[107.0, 95.0, … 39.0]</td><td>[1283, 1710, … 2175]</td><td>[2023-06-29 06:48:23, 2023-06-29 06:48:21, … 2023-06-29 06:48:41]</td><td>[2023-04-27 18:35:57, 2023-04-27 16:25:16, … 2023-05-10 06:08:15]</td><td>[28m 36s, 2h 41m 5s, … 3h 6m 19s]</td></tr></tbody></table></div>"
      ],
      "text/plain": [
       "shape: (1, 9)\n",
       "┌─────────┬────────────┬───────────┬───────────┬───┬───────────┬───────────┬───────────┬───────────┐\n",
       "│ user_id ┆ impression ┆ scroll_pe ┆ article_i ┆ … ┆ article_i ┆ last_modi ┆ published ┆ time_to_i │\n",
       "│ ---     ┆ _time_fixe ┆ rcentage_ ┆ d_fixed   ┆   ┆ d_fixed_a ┆ fied_time ┆ _time     ┆ mpression │\n",
       "│ u32     ┆ d          ┆ fixed     ┆ ---       ┆   ┆ rticle_le ┆ ---       ┆ ---       ┆ ---       │\n",
       "│         ┆ ---        ┆ ---       ┆ list[i32] ┆   ┆ n         ┆ list[date ┆ list[date ┆ list[dura │\n",
       "│         ┆ list[datet ┆ list[f32] ┆           ┆   ┆ ---       ┆ time[μs]] ┆ time[μs]] ┆ tion[μs]] │\n",
       "│         ┆ ime[μs]]   ┆           ┆           ┆   ┆ list[u32] ┆           ┆           ┆           │\n",
       "╞═════════╪════════════╪═══════════╪═══════════╪═══╪═══════════╪═══════════╪═══════════╪═══════════╡\n",
       "│ 2287747 ┆ [2023-04-2 ┆ [100.0,   ┆ [9739344, ┆ … ┆ [1283,    ┆ [2023-06- ┆ [2023-04- ┆ [28m 36s, │\n",
       "│         ┆ 7          ┆ 100.0, …  ┆ 9737084,  ┆   ┆ 1710, …   ┆ 29        ┆ 27        ┆ 2h 41m    │\n",
       "│         ┆ 19:04:33,  ┆ 100.0]    ┆ …         ┆   ┆ 2175]     ┆ 06:48:23, ┆ 18:35:57, ┆ 5s, … 3h  │\n",
       "│         ┆ 2023-04-…  ┆           ┆ 9757218]  ┆   ┆           ┆ 2023-06-… ┆ 2023-04-… ┆ 6m 1…     │\n",
       "└─────────┴────────────┴───────────┴───────────┴───┴───────────┴───────────┴───────────┴───────────┘"
      ]
     },
     "execution_count": 21,
     "metadata": {},
     "output_type": "execute_result"
    }
   ],
   "source": [
    "history_w_articles.head(1)"
   ]
  },
  {
   "cell_type": "code",
   "execution_count": 22,
   "metadata": {},
   "outputs": [
    {
     "data": {
      "text/html": [
       "<div><style>\n",
       ".dataframe > thead > tr,\n",
       ".dataframe > tbody > tr {\n",
       "  text-align: right;\n",
       "  white-space: pre-wrap;\n",
       "}\n",
       "</style>\n",
       "<small>shape: (1, 5)</small><table border=\"1\" class=\"dataframe\"><thead><tr><th>user_id</th><th>read_time_fixed_article_len_ratio_l1_w</th><th>scroll_percentage_fixed_mmnorm_l1_w</th><th>time_to_impression_minutes_sqrt_l1_w</th><th>time_to_impression_inverse_sqrt_l1_w</th></tr><tr><td>u32</td><td>list[f64]</td><td>list[f32]</td><td>list[f64]</td><td>list[f64]</td></tr></thead><tbody><tr><td>292310</td><td>[0.0, 0.000189, … 0.002012]</td><td>[0.0, 0.001035, … 0.001142]</td><td>[0.001244, 0.001185, … 0.000301]</td><td>[0.000458, 0.00048, … 0.001627]</td></tr></tbody></table></div>"
      ],
      "text/plain": [
       "shape: (1, 5)\n",
       "┌─────────┬──────────────────────┬─────────────────────┬─────────────────────┬─────────────────────┐\n",
       "│ user_id ┆ read_time_fixed_arti ┆ scroll_percentage_f ┆ time_to_impression_ ┆ time_to_impression_ │\n",
       "│ ---     ┆ cle_len_ra…          ┆ ixed_mmnorm…        ┆ minutes_sqr…        ┆ inverse_sqr…        │\n",
       "│ u32     ┆ ---                  ┆ ---                 ┆ ---                 ┆ ---                 │\n",
       "│         ┆ list[f64]            ┆ list[f32]           ┆ list[f64]           ┆ list[f64]           │\n",
       "╞═════════╪══════════════════════╪═════════════════════╪═════════════════════╪═════════════════════╡\n",
       "│ 292310  ┆ [0.0, 0.000189, …    ┆ [0.0, 0.001035, …   ┆ [0.001244,          ┆ [0.000458, 0.00048, │\n",
       "│         ┆ 0.002012]            ┆ 0.001142]           ┆ 0.001185, …         ┆ … 0.001627…         │\n",
       "│         ┆                      ┆                     ┆ 0.00030…            ┆                     │\n",
       "└─────────┴──────────────────────┴─────────────────────┴─────────────────────┴─────────────────────┘"
      ]
     },
     "execution_count": 22,
     "metadata": {},
     "output_type": "execute_result"
    }
   ],
   "source": [
    "history_all_w = history_w_articles.select('user_id', 'time_to_impression', 'impression_time_fixed', 'scroll_percentage_fixed', 'read_time_fixed', 'article_id_fixed_article_len')\\\n",
    "    .explode(pl.all().exclude('user_id'))\\\n",
    "    .with_columns(pl.col('scroll_percentage_fixed').fill_null(0.0))\\\n",
    "    .with_columns(\n",
    "        pl.col('read_time_fixed').truediv('article_id_fixed_article_len').fill_nan(0.0).alias('read_time_fixed_article_len_ratio'),\n",
    "        # scroll_percentage\n",
    "        (pl.col('scroll_percentage_fixed') - pl.col('scroll_percentage_fixed').min()).truediv(pl.col('scroll_percentage_fixed').max() - pl.col('scroll_percentage_fixed').min()).over('user_id').alias('scroll_percentage_fixed_mmnorm'),\n",
    "        # time_to_impression\n",
    "        pl.col('time_to_impression').dt.total_minutes().sqrt().alias('time_to_impression_minutes_sqrt'),\n",
    "        pl.lit(1).truediv(pl.col('time_to_impression').dt.total_minutes().sqrt() + 1).alias('time_to_impression_inverse_sqrt'),\n",
    "    ).with_columns(\n",
    "        pl.when(pl.col('read_time_fixed_article_len_ratio').is_infinite()).then(0.0).otherwise(pl.col('read_time_fixed_article_len_ratio')).alias('read_time_fixed_article_len_ratio')\n",
    "    ).group_by('user_id').agg(pl.all())\\\n",
    "    .with_columns(\n",
    "        pl.col('read_time_fixed_article_len_ratio').list.eval(pl.element().truediv(pl.element().sum())).alias('read_time_fixed_article_len_ratio_l1_w'),\n",
    "        pl.col('scroll_percentage_fixed_mmnorm').list.eval(pl.element().truediv(pl.element().sum())).alias('scroll_percentage_fixed_mmnorm_l1_w'),\n",
    "        pl.col('time_to_impression_minutes_sqrt').list.eval(pl.element().truediv(pl.element().sum())).alias('time_to_impression_minutes_sqrt_l1_w'),\n",
    "        pl.col('time_to_impression_inverse_sqrt').list.eval(pl.element().truediv(pl.element().sum())).alias('time_to_impression_inverse_sqrt_l1_w'),\n",
    "    )\n",
    "l1_w_cols = [col for col in history_all_w.columns if col.endswith('_l1_w')]\n",
    "history_all_w = history_all_w.select('user_id', *l1_w_cols)\n",
    "history_all_w.head(1)"
   ]
  },
  {
   "cell_type": "markdown",
   "metadata": {},
   "source": [
    "# Multiple embeddings"
   ]
  },
  {
   "cell_type": "code",
   "execution_count": 23,
   "metadata": {},
   "outputs": [],
   "source": [
    "emb_name_list = {'Ekstra_Bladet_contrastive_vector': 'contrastive_vector',\n",
    "                 'FacebookAI_xlm_roberta_base': 'xlm_roberta_base',\n",
    "                 'Ekstra_Bladet_image_embeddings': 'image_embeddings',\n",
    "                 'google_bert_base_multilingual_cased': 'bert_base_multilingual_cased'}"
   ]
  },
  {
   "cell_type": "code",
   "execution_count": 24,
   "metadata": {},
   "outputs": [],
   "source": [
    "def build_emb_scores(df: pl.DataFrame, history_m: np.ndarray, m_dict:dict[str, np.ndarray], last_k:list[int] = [1, 5]):\n",
    "    df = reduce_polars_df_memory_size(df)\n",
    "    print(f'Starting to build embeddings scores for {m_dict.keys()}...')\n",
    "    df = pl.concat([\n",
    "        slice.explode(['article_index', 'article']).with_columns(\n",
    "            *[pl.lit(\n",
    "                np.dot(\n",
    "                    m[slice['article_index'].explode().to_numpy()], \n",
    "                    m[history_m[key[0]]].T)\n",
    "                ).alias(f'{emb_name}_scores') for emb_name, m in m_dict.items()]\n",
    "        ).group_by(['impression_id', 'user_id', 'user_index'])\\\n",
    "        .agg(pl.all())\n",
    "        for key, slice in tqdm(df.partition_by(by=['user_index'], as_dict=True).items(), total=df['user_index'].n_unique()) # keep only 1000 for testing\n",
    "    ]).drop('article_index', 'user_index')\n",
    "    return df\n",
    "\n",
    "def build_agg_scores(df: pl.DataFrame, agg_cols: list[str] = [], last_k: list[int] = []):\n",
    "    df = df.with_columns(\n",
    "        *[pl.col(col).list.eval(pl.element().list.mean()).name.suffix('_mean') for col in agg_cols],\n",
    "        *[pl.col(col).list.eval(pl.element().list.max()).name.suffix('_max') for col in agg_cols],\n",
    "        *[pl.col(col).list.eval(pl.element().list.min()).name.suffix('_min') for col in agg_cols],\n",
    "        *[pl.col(col).list.eval(pl.element().list.std()).name.suffix('_std') for col in agg_cols],\n",
    "        *[pl.col(col).list.eval(pl.element().list.median()).name.suffix('_median') for col in agg_cols],\n",
    "    )\n",
    "    \n",
    "    if len(last_k) > 0:\n",
    "        df = df.with_columns(\n",
    "            *[pl.col(col).list.eval(pl.element().list.tail(k).list.mean()).name.suffix(f'_mean_tail_{k}') for col in agg_cols for k in last_k],\n",
    "            *[pl.col(col).list.eval(pl.element().list.tail(k).list.max()).name.suffix(f'_max_tail_{k}') for col in agg_cols for k in last_k],\n",
    "            *[pl.col(col).list.eval(pl.element().list.tail(k).list.min()).name.suffix(f'_min_tail_{k}') for col in agg_cols for k in last_k],\n",
    "            *[pl.col(col).list.eval(pl.element().list.tail(k).list.std()).name.suffix(f'_std_tail_{k}') for col in agg_cols for k in last_k],\n",
    "            *[pl.col(col).list.eval(pl.element().list.tail(k).list.median()).name.suffix(f'_median_tail_{k}') for col in agg_cols for k in last_k],\n",
    "        )\n",
    "    return df\n"
   ]
  },
  {
   "cell_type": "code",
   "execution_count": 25,
   "metadata": {},
   "outputs": [
    {
     "name": "stdout",
     "output_type": "stream",
     "text": [
      "Processing contrastive_vector embedding matrix...\n",
      "Processing xlm_roberta_base embedding matrix...\n",
      "Processing image_embeddings embedding matrix...\n",
      "[Warning... 3743 missing articles in embedding matrix]\n",
      "Processing bert_base_multilingual_cased embedding matrix...\n"
     ]
    }
   ],
   "source": [
    "norm_m_dict = {}\n",
    "article_emb_mapping = articles.select('article_id').unique().with_row_index()\n",
    "for dir, file_name in emb_name_list.items():\n",
    "    print(f'Processing {file_name} embedding matrix...')\n",
    "    emb_df = pl.read_parquet(emb_dir / dir / f'{file_name}.parquet')\n",
    "    emb_df.columns = ['article_id', 'embedding']\n",
    "    \n",
    "    emb_size = len(emb_df['embedding'][0])\n",
    "    missing_articles_in_embedding = list(set(articles['article_id'].to_numpy()) - set(emb_df['article_id'].to_numpy()))\n",
    "    if len(missing_articles_in_embedding) > 0:\n",
    "        print(f'[Warning... {len(missing_articles_in_embedding)} missing articles in embedding matrix]')\n",
    "        null_vector = np.zeros(emb_size, dtype=np.float32)\n",
    "        emb_df = emb_df.vstack(pl.DataFrame({'article_id': missing_articles_in_embedding, 'embedding': [null_vector] * len(missing_articles_in_embedding)}))\n",
    "        \n",
    "    emb_df = article_emb_mapping.join(emb_df, on='article_id', how='left')\n",
    "    m = np.array([np.array(row) for row in emb_df['embedding'].to_numpy()])\n",
    "    row_norms = np.linalg.norm(m, axis=1, keepdims=True)\n",
    "    m = m / (row_norms + 1e-6)\n",
    "    norm_m_dict[file_name] = m"
   ]
  },
  {
   "cell_type": "code",
   "execution_count": 26,
   "metadata": {},
   "outputs": [
    {
     "name": "stdout",
     "output_type": "stream",
     "text": [
      "Memory usage of dataframe is 0.11 MB\n",
      "Memory usage after optimization is: 0.09 MB\n",
      "Decreased by 20.6%\n",
      "Starting to build embeddings scores for dict_keys(['contrastive_vector', 'xlm_roberta_base', 'image_embeddings', 'bert_base_multilingual_cased'])...\n"
     ]
    },
    {
     "name": "stderr",
     "output_type": "stream",
     "text": [
      "100%|██████████| 466/466 [00:03<00:00, 149.53it/s]\n"
     ]
    },
    {
     "data": {
      "text/html": [
       "<div><style>\n",
       ".dataframe > thead > tr,\n",
       ".dataframe > tbody > tr {\n",
       "  text-align: right;\n",
       "  white-space: pre-wrap;\n",
       "}\n",
       "</style>\n",
       "<small>shape: (5, 7)</small><table border=\"1\" class=\"dataframe\"><thead><tr><th>impression_id</th><th>user_id</th><th>article</th><th>contrastive_vector_scores</th><th>xlm_roberta_base_scores</th><th>image_embeddings_scores</th><th>bert_base_multilingual_cased_scores</th></tr><tr><td>u32</td><td>u32</td><td>list[i32]</td><td>list[list[f32]]</td><td>list[list[f32]]</td><td>list[list[f32]]</td><td>list[list[f32]]</td></tr></thead><tbody><tr><td>2097252</td><td>63123</td><td>[9761926, 9771896, … 9769370]</td><td>[[0.107697, 0.240556, … 0.207324], [0.269079, 0.082241, … 0.149119], … [0.188112, 0.083346, … 0.402493]]</td><td>[[0.998851, 0.998298, … 0.998933], [0.999403, 0.999, … 0.999468], … [0.999225, 0.998372, … 0.999208]]</td><td>[[0.339977, 0.162691, … 0.0], [0.174351, 0.361142, … 0.0], … [0.0, 0.0, … 0.0]]</td><td>[[0.981906, 0.986131, … 0.984856], [0.985936, 0.985265, … 0.98395], … [0.985635, 0.984928, … 0.988126]]</td></tr><tr><td>2097255</td><td>63123</td><td>[9771916, 9771938, … 9771855]</td><td>[[0.557273, 0.317587, … 0.145003], [0.182505, 0.066342, … 0.131874], … [0.116064, 0.052735, … 0.095286]]</td><td>[[0.999381, 0.998612, … 0.999212], [0.998721, 0.997995, … 0.998756], … [0.998922, 0.998184, … 0.998931]]</td><td>[[0.618652, 0.237785, … 0.0], [0.022949, -0.205564, … 0.0], … [0.395846, 0.083482, … 0.0]]</td><td>[[0.986466, 0.981622, … 0.985318], [0.969257, 0.968638, … 0.966765], … [0.977267, 0.980927, … 0.981054]]</td></tr><tr><td>2099253</td><td>84383</td><td>[9771916, 9771187, … 9769348]</td><td>[[0.235649, 0.25459, … 0.14069], [0.335738, 0.274959, … 0.292364], … [0.133124, 0.523986, … 0.167435]]</td><td>[[0.999306, 0.999261, … 0.999192], [0.999364, 0.99929, … 0.999399], … [0.999006, 0.999353, … 0.999236]]</td><td>[[0.465422, 0.067244, … 0.059784], [0.439715, 0.233114, … 0.336275], … [0.350681, 0.199099, … 0.166773]]</td><td>[[0.98583, 0.978367, … 0.978577], [0.951342, 0.942027, … 0.947812], … [0.981203, 0.978487, … 0.983893]]</td></tr><tr><td>2099250</td><td>84383</td><td>[9686860, 9702964, … 9771919]</td><td>[[0.182729, 0.550608, … 0.136484], [0.168673, 0.700092, … 0.182869], … [0.154554, 0.258899, … 0.204154]]</td><td>[[0.999335, 0.999449, … 0.99938], [0.999257, 0.999564, … 0.999384], … [0.999168, 0.999351, … 0.999357]]</td><td>[[0.179768, 0.514603, … 0.060329], [0.092108, -0.099428, … 0.083508], … [0.442196, -0.204846, … 0.343981]]</td><td>[[0.988752, 0.983094, … 0.984562], [0.986144, 0.984657, … 0.983357], … [0.989138, 0.987074, … 0.988399]]</td></tr><tr><td>2099252</td><td>84383</td><td>[9771187, 9771919, … 9769370]</td><td>[[0.335738, 0.274959, … 0.292364], [0.154554, 0.258899, … 0.204154], … [0.122367, 0.401185, … 0.173453]]</td><td>[[0.999364, 0.99929, … 0.999399], [0.999168, 0.999351, … 0.999357], … [0.999324, 0.999554, … 0.999526]]</td><td>[[0.439715, 0.233114, … 0.336275], [0.442196, -0.204846, … 0.343981], … [0.0, 0.0, … 0.0]]</td><td>[[0.951342, 0.942027, … 0.947812], [0.989138, 0.987074, … 0.988399], … [0.988274, 0.987833, … 0.985349]]</td></tr></tbody></table></div>"
      ],
      "text/plain": [
       "shape: (5, 7)\n",
       "┌──────────────┬─────────┬──────────────┬──────────────┬──────────────┬──────────────┬─────────────┐\n",
       "│ impression_i ┆ user_id ┆ article      ┆ contrastive_ ┆ xlm_roberta_ ┆ image_embedd ┆ bert_base_m │\n",
       "│ d            ┆ ---     ┆ ---          ┆ vector_score ┆ base_scores  ┆ ings_scores  ┆ ultilingual │\n",
       "│ ---          ┆ u32     ┆ list[i32]    ┆ s            ┆ ---          ┆ ---          ┆ _cased_s…   │\n",
       "│ u32          ┆         ┆              ┆ ---          ┆ list[list[f3 ┆ list[list[f3 ┆ ---         │\n",
       "│              ┆         ┆              ┆ list[list[f3 ┆ 2]]          ┆ 2]]          ┆ list[list[f │\n",
       "│              ┆         ┆              ┆ 2]]          ┆              ┆              ┆ 32]]        │\n",
       "╞══════════════╪═════════╪══════════════╪══════════════╪══════════════╪══════════════╪═════════════╡\n",
       "│ 2097252      ┆ 63123   ┆ [9761926,    ┆ [[0.107697,  ┆ [[0.998851,  ┆ [[0.339977,  ┆ [[0.981906, │\n",
       "│              ┆         ┆ 9771896, …   ┆ 0.240556, …  ┆ 0.998298, …  ┆ 0.162691, …  ┆ 0.986131, … │\n",
       "│              ┆         ┆ 9769370]     ┆ 0.2073…      ┆ 0.9989…      ┆ 0.0], …      ┆ 0.9848…     │\n",
       "│ 2097255      ┆ 63123   ┆ [9771916,    ┆ [[0.557273,  ┆ [[0.999381,  ┆ [[0.618652,  ┆ [[0.986466, │\n",
       "│              ┆         ┆ 9771938, …   ┆ 0.317587, …  ┆ 0.998612, …  ┆ 0.237785, …  ┆ 0.981622, … │\n",
       "│              ┆         ┆ 9771855]     ┆ 0.1450…      ┆ 0.9992…      ┆ 0.0], …      ┆ 0.9853…     │\n",
       "│ 2099253      ┆ 84383   ┆ [9771916,    ┆ [[0.235649,  ┆ [[0.999306,  ┆ [[0.465422,  ┆ [[0.98583,  │\n",
       "│              ┆         ┆ 9771187, …   ┆ 0.25459, …   ┆ 0.999261, …  ┆ 0.067244, …  ┆ 0.978367, … │\n",
       "│              ┆         ┆ 9769348]     ┆ 0.14069…     ┆ 0.9991…      ┆ 0.0597…      ┆ 0.97857…    │\n",
       "│ 2099250      ┆ 84383   ┆ [9686860,    ┆ [[0.182729,  ┆ [[0.999335,  ┆ [[0.179768,  ┆ [[0.988752, │\n",
       "│              ┆         ┆ 9702964, …   ┆ 0.550608, …  ┆ 0.999449, …  ┆ 0.514603, …  ┆ 0.983094, … │\n",
       "│              ┆         ┆ 9771919]     ┆ 0.1364…      ┆ 0.9993…      ┆ 0.0603…      ┆ 0.9845…     │\n",
       "│ 2099252      ┆ 84383   ┆ [9771187,    ┆ [[0.335738,  ┆ [[0.999364,  ┆ [[0.439715,  ┆ [[0.951342, │\n",
       "│              ┆         ┆ 9771919, …   ┆ 0.274959, …  ┆ 0.99929, …   ┆ 0.233114, …  ┆ 0.942027, … │\n",
       "│              ┆         ┆ 9769370]     ┆ 0.2923…      ┆ 0.99939…     ┆ 0.3362…      ┆ 0.9478…     │\n",
       "└──────────────┴─────────┴──────────────┴──────────────┴──────────────┴──────────────┴─────────────┘"
      ]
     },
     "execution_count": 26,
     "metadata": {},
     "output_type": "execute_result"
    }
   ],
   "source": [
    "history_m = history_train\\\n",
    "    .select('user_id', pl.col('article_id_fixed').list.eval(\n",
    "                pl.element().replace(article_emb_mapping['article_id'], article_emb_mapping['index'], default=None)))\\\n",
    "    .with_row_index('user_index')\n",
    "\n",
    "user_history_map = history_m.select('user_id', 'user_index')\n",
    "history_m = history_m['article_id_fixed'].to_numpy()\n",
    "train_ds = behaviors_train[:1000].select('impression_id', 'user_id', pl.col('article_ids_inview').alias('article'))\\\n",
    "    .join(user_history_map, on='user_id')\\\n",
    "    .with_columns(\n",
    "        pl.col('article').list.eval(pl.element().replace(article_emb_mapping['article_id'], article_emb_mapping['index'], default=None)).name.suffix('_index'),\n",
    "    ).drop('impression_time_fixed', 'scroll_percentage_fixed', 'read_time_fixed')\n",
    "\n",
    "train_ds = build_emb_scores(train_ds, history_m, m_dict=norm_m_dict, last_k=[5, 10, 20])\n",
    "emb_names = [col for col in train_ds.columns if 'scores' in col]\n",
    "train_ds_agg = build_agg_scores(train_ds, emb_names)\n",
    "# agg_scores_col = [col for col in train_ds.columns if '_scores_' in col]\n",
    "# train_ds = train_ds.drop([f'{emb_name}_scores' for emb_name in list(norm_m_dict.keys())]).explode(['article'] + agg_scores_col)\n",
    "train_ds.head()"
   ]
  },
  {
   "cell_type": "markdown",
   "metadata": {},
   "source": [
    "## Apply weight"
   ]
  },
  {
   "cell_type": "code",
   "execution_count": 27,
   "metadata": {},
   "outputs": [
    {
     "data": {
      "text/html": [
       "<div><style>\n",
       ".dataframe > thead > tr,\n",
       ".dataframe > tbody > tr {\n",
       "  text-align: right;\n",
       "  white-space: pre-wrap;\n",
       "}\n",
       "</style>\n",
       "<small>shape: (2, 11)</small><table border=\"1\" class=\"dataframe\"><thead><tr><th>impression_id</th><th>user_id</th><th>article</th><th>contrastive_vector_scores</th><th>xlm_roberta_base_scores</th><th>image_embeddings_scores</th><th>bert_base_multilingual_cased_scores</th><th>read_time_fixed_article_len_ratio_l1_w</th><th>scroll_percentage_fixed_mmnorm_l1_w</th><th>time_to_impression_minutes_sqrt_l1_w</th><th>time_to_impression_inverse_sqrt_l1_w</th></tr><tr><td>u32</td><td>u32</td><td>list[i32]</td><td>list[list[f32]]</td><td>list[list[f32]]</td><td>list[list[f32]]</td><td>list[list[f32]]</td><td>list[f64]</td><td>list[f32]</td><td>list[f64]</td><td>list[f64]</td></tr></thead><tbody><tr><td>2097252</td><td>63123</td><td>[9761926, 9771896, … 9769370]</td><td>[[0.107697, 0.240556, … 0.207324], [0.269079, 0.082241, … 0.149119], … [0.188112, 0.083346, … 0.402493]]</td><td>[[0.998851, 0.998298, … 0.998933], [0.999403, 0.999, … 0.999468], … [0.999225, 0.998372, … 0.999208]]</td><td>[[0.339977, 0.162691, … 0.0], [0.174351, 0.361142, … 0.0], … [0.0, 0.0, … 0.0]]</td><td>[[0.981906, 0.986131, … 0.984856], [0.985936, 0.985265, … 0.98395], … [0.985635, 0.984928, … 0.988126]]</td><td>[0.00012, 0.000011, … 0.0]</td><td>[0.000822, 0.00069, … 0.0]</td><td>[0.000552, 0.000264, … 0.000329]</td><td>[0.001571, 0.002886, … 0.002432]</td></tr><tr><td>2097255</td><td>63123</td><td>[9771916, 9771938, … 9771855]</td><td>[[0.557273, 0.317587, … 0.145003], [0.182505, 0.066342, … 0.131874], … [0.116064, 0.052735, … 0.095286]]</td><td>[[0.999381, 0.998612, … 0.999212], [0.998721, 0.997995, … 0.998756], … [0.998922, 0.998184, … 0.998931]]</td><td>[[0.618652, 0.237785, … 0.0], [0.022949, -0.205564, … 0.0], … [0.395846, 0.083482, … 0.0]]</td><td>[[0.986466, 0.981622, … 0.985318], [0.969257, 0.968638, … 0.966765], … [0.977267, 0.980927, … 0.981054]]</td><td>[0.00012, 0.000011, … 0.0]</td><td>[0.000822, 0.00069, … 0.0]</td><td>[0.000552, 0.000264, … 0.000329]</td><td>[0.001571, 0.002886, … 0.002432]</td></tr></tbody></table></div>"
      ],
      "text/plain": [
       "shape: (2, 11)\n",
       "┌────────────┬─────────┬───────────┬───────────┬───┬───────────┬───────────┬───────────┬───────────┐\n",
       "│ impression ┆ user_id ┆ article   ┆ contrasti ┆ … ┆ read_time ┆ scroll_pe ┆ time_to_i ┆ time_to_i │\n",
       "│ _id        ┆ ---     ┆ ---       ┆ ve_vector ┆   ┆ _fixed_ar ┆ rcentage_ ┆ mpression ┆ mpression │\n",
       "│ ---        ┆ u32     ┆ list[i32] ┆ _scores   ┆   ┆ ticle_len ┆ fixed_mmn ┆ _minutes_ ┆ _inverse_ │\n",
       "│ u32        ┆         ┆           ┆ ---       ┆   ┆ _ra…      ┆ orm…      ┆ sqr…      ┆ sqr…      │\n",
       "│            ┆         ┆           ┆ list[list ┆   ┆ ---       ┆ ---       ┆ ---       ┆ ---       │\n",
       "│            ┆         ┆           ┆ [f32]]    ┆   ┆ list[f64] ┆ list[f32] ┆ list[f64] ┆ list[f64] │\n",
       "╞════════════╪═════════╪═══════════╪═══════════╪═══╪═══════════╪═══════════╪═══════════╪═══════════╡\n",
       "│ 2097252    ┆ 63123   ┆ [9761926, ┆ [[0.10769 ┆ … ┆ [0.00012, ┆ [0.000822 ┆ [0.000552 ┆ [0.001571 │\n",
       "│            ┆         ┆ 9771896,  ┆ 7,        ┆   ┆ 0.000011, ┆ ,         ┆ ,         ┆ ,         │\n",
       "│            ┆         ┆ …         ┆ 0.240556, ┆   ┆ … 0.0]    ┆ 0.00069,  ┆ 0.000264, ┆ 0.002886, │\n",
       "│            ┆         ┆ 9769370]  ┆ … 0.2073… ┆   ┆           ┆ … 0.0]    ┆ …         ┆ …         │\n",
       "│            ┆         ┆           ┆           ┆   ┆           ┆           ┆ 0.00032…  ┆ 0.00243…  │\n",
       "│ 2097255    ┆ 63123   ┆ [9771916, ┆ [[0.55727 ┆ … ┆ [0.00012, ┆ [0.000822 ┆ [0.000552 ┆ [0.001571 │\n",
       "│            ┆         ┆ 9771938,  ┆ 3,        ┆   ┆ 0.000011, ┆ ,         ┆ ,         ┆ ,         │\n",
       "│            ┆         ┆ …         ┆ 0.317587, ┆   ┆ … 0.0]    ┆ 0.00069,  ┆ 0.000264, ┆ 0.002886, │\n",
       "│            ┆         ┆ 9771855]  ┆ … 0.1450… ┆   ┆           ┆ … 0.0]    ┆ …         ┆ …         │\n",
       "│            ┆         ┆           ┆           ┆   ┆           ┆           ┆ 0.00032…  ┆ 0.00243…  │\n",
       "└────────────┴─────────┴───────────┴───────────┴───┴───────────┴───────────┴───────────┴───────────┘"
      ]
     },
     "execution_count": 27,
     "metadata": {},
     "output_type": "execute_result"
    }
   ],
   "source": [
    "train_ds_w_base = train_ds.join(\n",
    "    history_all_w, on='user_id', how='left'\n",
    ")\n",
    "train_ds_w_base.head(2)"
   ]
  },
  {
   "cell_type": "code",
   "execution_count": 28,
   "metadata": {},
   "outputs": [
    {
     "name": "stderr",
     "output_type": "stream",
     "text": [
      "100%|██████████| 466/466 [00:01<00:00, 458.75it/s]\n"
     ]
    },
    {
     "data": {
      "text/html": [
       "<div><style>\n",
       ".dataframe > thead > tr,\n",
       ".dataframe > tbody > tr {\n",
       "  text-align: right;\n",
       "  white-space: pre-wrap;\n",
       "}\n",
       "</style>\n",
       "<small>shape: (2, 23)</small><table border=\"1\" class=\"dataframe\"><thead><tr><th>impression_id</th><th>user_id</th><th>article</th><th>contrastive_vector_scores</th><th>xlm_roberta_base_scores</th><th>image_embeddings_scores</th><th>bert_base_multilingual_cased_scores</th><th>contrastive_vector_scores_weighted_read_time_fixed_article_len_ratio_l1_w</th><th>xlm_roberta_base_scores_weighted_read_time_fixed_article_len_ratio_l1_w</th><th>image_embeddings_scores_weighted_read_time_fixed_article_len_ratio_l1_w</th><th>bert_base_multilingual_cased_scores_weighted_read_time_fixed_article_len_ratio_l1_w</th><th>contrastive_vector_scores_weighted_scroll_percentage_fixed_mmnorm_l1_w</th><th>xlm_roberta_base_scores_weighted_scroll_percentage_fixed_mmnorm_l1_w</th><th>image_embeddings_scores_weighted_scroll_percentage_fixed_mmnorm_l1_w</th><th>bert_base_multilingual_cased_scores_weighted_scroll_percentage_fixed_mmnorm_l1_w</th><th>contrastive_vector_scores_weighted_time_to_impression_minutes_sqrt_l1_w</th><th>xlm_roberta_base_scores_weighted_time_to_impression_minutes_sqrt_l1_w</th><th>image_embeddings_scores_weighted_time_to_impression_minutes_sqrt_l1_w</th><th>bert_base_multilingual_cased_scores_weighted_time_to_impression_minutes_sqrt_l1_w</th><th>contrastive_vector_scores_weighted_time_to_impression_inverse_sqrt_l1_w</th><th>xlm_roberta_base_scores_weighted_time_to_impression_inverse_sqrt_l1_w</th><th>image_embeddings_scores_weighted_time_to_impression_inverse_sqrt_l1_w</th><th>bert_base_multilingual_cased_scores_weighted_time_to_impression_inverse_sqrt_l1_w</th></tr><tr><td>u32</td><td>u32</td><td>list[i32]</td><td>list[list[f32]]</td><td>list[list[f32]]</td><td>list[list[f32]]</td><td>list[list[f32]]</td><td>list[list[f64]]</td><td>list[list[f64]]</td><td>list[list[f64]]</td><td>list[list[f64]]</td><td>list[list[f32]]</td><td>list[list[f32]]</td><td>list[list[f32]]</td><td>list[list[f32]]</td><td>list[list[f64]]</td><td>list[list[f64]]</td><td>list[list[f64]]</td><td>list[list[f64]]</td><td>list[list[f64]]</td><td>list[list[f64]]</td><td>list[list[f64]]</td><td>list[list[f64]]</td></tr></thead><tbody><tr><td>2097255</td><td>63123</td><td>[9771916, 9771938, … 9771855]</td><td>[[0.557273, 0.317587, … 0.145003], [0.182505, 0.066342, … 0.131874], … [0.116064, 0.052735, … 0.095286]]</td><td>[[0.999381, 0.998612, … 0.999212], [0.998721, 0.997995, … 0.998756], … [0.998922, 0.998184, … 0.998931]]</td><td>[[0.618652, 0.237785, … 0.0], [0.022949, -0.205564, … 0.0], … [0.395846, 0.083482, … 0.0]]</td><td>[[0.986466, 0.981622, … 0.985318], [0.969257, 0.968638, … 0.966765], … [0.977267, 0.980927, … 0.981054]]</td><td>[[0.000067, 0.000003, … 0.0], [0.000022, 7.1257e-7, … 0.0], … [0.000014, 5.6641e-7, … 0.0]]</td><td>[[0.00012, 0.000011, … 0.0], [0.00012, 0.000011, … 0.0], … [0.00012, 0.000011, … 0.0]]</td><td>[[0.000074, 0.000003, … 0.0], [0.000003, -0.000002, … 0.0], … [0.000048, 8.9666e-7, … 0.0]]</td><td>[[0.000118, 0.000011, … 0.0], [0.000116, 0.00001, … 0.0], … [0.000117, 0.000011, … 0.0]]</td><td>[[0.000458, 0.000219, … 0.0], [0.00015, 0.000046, … 0.0], … [0.000095, 0.000036, … 0.0]]</td><td>[[0.000821, 0.000689, … 0.0], [0.000821, 0.000689, … 0.0], … [0.000821, 0.000689, … 0.0]]</td><td>[[0.000508, 0.000164, … 0.0], [0.000019, -0.000142, … 0.0], … [0.000325, 0.000058, … 0.0]]</td><td>[[0.000811, 0.000678, … 0.0], [0.000797, 0.000669, … 0.0], … [0.000803, 0.000677, … 0.0]]</td><td>[[0.000308, 0.000084, … 0.000048], [0.000101, 0.000018, … 0.000043], … [0.000064, 0.000014, … 0.000031]]</td><td>[[0.000552, 0.000264, … 0.000328], [0.000552, 0.000264, … 0.000328], … [0.000552, 0.000264, … 0.000328]]</td><td>[[0.000342, 0.000063, … 0.0], [0.000013, -0.000054, … 0.0], … [0.000219, 0.000022, … 0.0]]</td><td>[[0.000545, 0.00026, … 0.000324], [0.000535, 0.000256, … 0.000318], … [0.00054, 0.000259, … 0.000323]]</td><td>[[0.000876, 0.000917, … 0.000353], [0.000287, 0.000191, … 0.000321], … [0.000182, 0.000152, … 0.000232]]</td><td>[[0.00157, 0.002882, … 0.00243], [0.001569, 0.00288, … 0.002429], … [0.00157, 0.002881, … 0.002429]]</td><td>[[0.000972, 0.000686, … 0.0], [0.000036, -0.000593, … 0.0], … [0.000622, 0.000241, … 0.0]]</td><td>[[0.00155, 0.002833, … 0.002396], [0.001523, 0.002796, … 0.002351], … [0.001536, 0.002831, … 0.002386]]</td></tr><tr><td>2097252</td><td>63123</td><td>[9761926, 9771896, … 9769370]</td><td>[[0.107697, 0.240556, … 0.207324], [0.269079, 0.082241, … 0.149119], … [0.188112, 0.083346, … 0.402493]]</td><td>[[0.998851, 0.998298, … 0.998933], [0.999403, 0.999, … 0.999468], … [0.999225, 0.998372, … 0.999208]]</td><td>[[0.339977, 0.162691, … 0.0], [0.174351, 0.361142, … 0.0], … [0.0, 0.0, … 0.0]]</td><td>[[0.981906, 0.986131, … 0.984856], [0.985936, 0.985265, … 0.98395], … [0.985635, 0.984928, … 0.988126]]</td><td>[[0.000013, 0.000003, … 0.0], [0.000032, 8.8333e-7, … 0.0], … [0.000023, 8.9520e-7, … 0.0]]</td><td>[[0.00012, 0.000011, … 0.0], [0.00012, 0.000011, … 0.0], … [0.00012, 0.000011, … 0.0]]</td><td>[[0.000041, 0.000002, … 0.0], [0.000021, 0.000004, … 0.0], … [0.0, 0.0, … 0.0]]</td><td>[[0.000118, 0.000011, … 0.0], [0.000118, 0.000011, … 0.0], … [0.000118, 0.000011, … 0.0]]</td><td>[[0.000089, 0.000166, … 0.0], [0.000221, 0.000057, … 0.0], … [0.000155, 0.000058, … 0.0]]</td><td>[[0.000821, 0.000689, … 0.0], [0.000821, 0.00069, … 0.0], … [0.000821, 0.000689, … 0.0]]</td><td>[[0.000279, 0.000112, … 0.0], [0.000143, 0.000249, … 0.0], … [0.0, 0.0, … 0.0]]</td><td>[[0.000807, 0.000681, … 0.0], [0.00081, 0.00068, … 0.0], … [0.00081, 0.00068, … 0.0]]</td><td>[[0.000059, 0.000064, … 0.000068], [0.000149, 0.000022, … 0.000049], … [0.000104, 0.000022, … 0.000132]]</td><td>[[0.000552, 0.000264, … 0.000328], [0.000552, 0.000264, … 0.000329], … [0.000552, 0.000264, … 0.000328]]</td><td>[[0.000188, 0.000043, … 0.0], [0.000096, 0.000095, … 0.0], … [0.0, 0.0, … 0.0]]</td><td>[[0.000542, 0.000261, … 0.000324], [0.000545, 0.000261, … 0.000323], … [0.000544, 0.00026, … 0.000325]]</td><td>[[0.000169, 0.000694, … 0.000504], [0.000423, 0.000237, … 0.000363], … [0.000296, 0.000241, … 0.000979]]</td><td>[[0.00157, 0.002881, … 0.002429], [0.00157, 0.002883, … 0.00243], … [0.00157, 0.002881, … 0.00243]]</td><td>[[0.000534, 0.00047, … 0.0], [0.000274, 0.001042, … 0.0], … [0.0, 0.0, … 0.0]]</td><td>[[0.001543, 0.002846, … 0.002395], [0.001549, 0.002844, … 0.002393], … [0.001549, 0.002843, … 0.002403]]</td></tr></tbody></table></div>"
      ],
      "text/plain": [
       "shape: (2, 23)\n",
       "┌────────────┬─────────┬───────────┬───────────┬───┬───────────┬───────────┬───────────┬───────────┐\n",
       "│ impression ┆ user_id ┆ article   ┆ contrasti ┆ … ┆ contrasti ┆ xlm_rober ┆ image_emb ┆ bert_base │\n",
       "│ _id        ┆ ---     ┆ ---       ┆ ve_vector ┆   ┆ ve_vector ┆ ta_base_s ┆ eddings_s ┆ _multilin │\n",
       "│ ---        ┆ u32     ┆ list[i32] ┆ _scores   ┆   ┆ _scores_w ┆ cores_wei ┆ cores_wei ┆ gual_case │\n",
       "│ u32        ┆         ┆           ┆ ---       ┆   ┆ eig…      ┆ ght…      ┆ ght…      ┆ d_s…      │\n",
       "│            ┆         ┆           ┆ list[list ┆   ┆ ---       ┆ ---       ┆ ---       ┆ ---       │\n",
       "│            ┆         ┆           ┆ [f32]]    ┆   ┆ list[list ┆ list[list ┆ list[list ┆ list[list │\n",
       "│            ┆         ┆           ┆           ┆   ┆ [f64]]    ┆ [f64]]    ┆ [f64]]    ┆ [f64]]    │\n",
       "╞════════════╪═════════╪═══════════╪═══════════╪═══╪═══════════╪═══════════╪═══════════╪═══════════╡\n",
       "│ 2097255    ┆ 63123   ┆ [9771916, ┆ [[0.55727 ┆ … ┆ [[0.00087 ┆ [[0.00157 ┆ [[0.00097 ┆ [[0.00155 │\n",
       "│            ┆         ┆ 9771938,  ┆ 3,        ┆   ┆ 6,        ┆ ,         ┆ 2,        ┆ ,         │\n",
       "│            ┆         ┆ …         ┆ 0.317587, ┆   ┆ 0.000917, ┆ 0.002882, ┆ 0.000686, ┆ 0.002833, │\n",
       "│            ┆         ┆ 9771855]  ┆ … 0.1450… ┆   ┆ … 0.0003… ┆ …         ┆ … 0.0], … ┆ …         │\n",
       "│            ┆         ┆           ┆           ┆   ┆           ┆ 0.00243…  ┆           ┆ 0.00239…  │\n",
       "│ 2097252    ┆ 63123   ┆ [9761926, ┆ [[0.10769 ┆ … ┆ [[0.00016 ┆ [[0.00157 ┆ [[0.00053 ┆ [[0.00154 │\n",
       "│            ┆         ┆ 9771896,  ┆ 7,        ┆   ┆ 9,        ┆ ,         ┆ 4,        ┆ 3,        │\n",
       "│            ┆         ┆ …         ┆ 0.240556, ┆   ┆ 0.000694, ┆ 0.002881, ┆ 0.00047,  ┆ 0.002846, │\n",
       "│            ┆         ┆ 9769370]  ┆ … 0.2073… ┆   ┆ … 0.0005… ┆ …         ┆ … 0.0],   ┆ … 0.0023… │\n",
       "│            ┆         ┆           ┆           ┆   ┆           ┆ 0.00242…  ┆ […        ┆           │\n",
       "└────────────┴─────────┴───────────┴───────────┴───┴───────────┴───────────┴───────────┴───────────┘"
      ]
     },
     "execution_count": 28,
     "metadata": {},
     "output_type": "execute_result"
    }
   ],
   "source": [
    "l1_w_cols = [col for col in train_ds_w_base.columns if col.endswith('_l1_w')]\n",
    "scores_cols = [col for col in train_ds_w_base.columns if col.endswith('_scores')]\n",
    "train_ds_w = pl.concat([\n",
    "    slice.explode(['article'] + scores_cols).with_columns(\n",
    "        *[pl.lit(\n",
    "            np.array([np.array(i) for i in slice[col_score].explode().to_numpy()]) * slice[col_w][0].to_numpy()\n",
    "        ).alias(f'{col_score}_weighted_{col_w}')\n",
    "        for col_w in l1_w_cols for col_score in scores_cols]\n",
    "    ).drop(l1_w_cols).group_by('impression_id', 'user_id').agg(pl.all())\n",
    "    for key, slice in tqdm(train_ds_w_base.partition_by(by=['user_id'], as_dict=True).items(), total=train_ds_w_base['user_id'].n_unique())    \n",
    "])\n",
    "train_ds_w.head(2)\n"
   ]
  },
  {
   "cell_type": "code",
   "execution_count": 29,
   "metadata": {},
   "outputs": [
    {
     "data": {
      "text/html": [
       "<div><style>\n",
       ".dataframe > thead > tr,\n",
       ".dataframe > tbody > tr {\n",
       "  text-align: right;\n",
       "  white-space: pre-wrap;\n",
       "}\n",
       "</style>\n",
       "<small>shape: (2, 403)</small><table border=\"1\" class=\"dataframe\"><thead><tr><th>impression_id</th><th>user_id</th><th>article</th><th>contrastive_vector_scores_mean</th><th>xlm_roberta_base_scores_mean</th><th>image_embeddings_scores_mean</th><th>bert_base_multilingual_cased_scores_mean</th><th>contrastive_vector_scores_weighted_read_time_fixed_article_len_ratio_l1_w_mean</th><th>xlm_roberta_base_scores_weighted_read_time_fixed_article_len_ratio_l1_w_mean</th><th>image_embeddings_scores_weighted_read_time_fixed_article_len_ratio_l1_w_mean</th><th>bert_base_multilingual_cased_scores_weighted_read_time_fixed_article_len_ratio_l1_w_mean</th><th>contrastive_vector_scores_weighted_scroll_percentage_fixed_mmnorm_l1_w_mean</th><th>xlm_roberta_base_scores_weighted_scroll_percentage_fixed_mmnorm_l1_w_mean</th><th>image_embeddings_scores_weighted_scroll_percentage_fixed_mmnorm_l1_w_mean</th><th>bert_base_multilingual_cased_scores_weighted_scroll_percentage_fixed_mmnorm_l1_w_mean</th><th>contrastive_vector_scores_weighted_time_to_impression_minutes_sqrt_l1_w_mean</th><th>xlm_roberta_base_scores_weighted_time_to_impression_minutes_sqrt_l1_w_mean</th><th>image_embeddings_scores_weighted_time_to_impression_minutes_sqrt_l1_w_mean</th><th>bert_base_multilingual_cased_scores_weighted_time_to_impression_minutes_sqrt_l1_w_mean</th><th>contrastive_vector_scores_weighted_time_to_impression_inverse_sqrt_l1_w_mean</th><th>xlm_roberta_base_scores_weighted_time_to_impression_inverse_sqrt_l1_w_mean</th><th>image_embeddings_scores_weighted_time_to_impression_inverse_sqrt_l1_w_mean</th><th>bert_base_multilingual_cased_scores_weighted_time_to_impression_inverse_sqrt_l1_w_mean</th><th>contrastive_vector_scores_max</th><th>xlm_roberta_base_scores_max</th><th>image_embeddings_scores_max</th><th>bert_base_multilingual_cased_scores_max</th><th>contrastive_vector_scores_weighted_read_time_fixed_article_len_ratio_l1_w_max</th><th>xlm_roberta_base_scores_weighted_read_time_fixed_article_len_ratio_l1_w_max</th><th>image_embeddings_scores_weighted_read_time_fixed_article_len_ratio_l1_w_max</th><th>bert_base_multilingual_cased_scores_weighted_read_time_fixed_article_len_ratio_l1_w_max</th><th>contrastive_vector_scores_weighted_scroll_percentage_fixed_mmnorm_l1_w_max</th><th>xlm_roberta_base_scores_weighted_scroll_percentage_fixed_mmnorm_l1_w_max</th><th>image_embeddings_scores_weighted_scroll_percentage_fixed_mmnorm_l1_w_max</th><th>bert_base_multilingual_cased_scores_weighted_scroll_percentage_fixed_mmnorm_l1_w_max</th><th>contrastive_vector_scores_weighted_time_to_impression_minutes_sqrt_l1_w_max</th><th>xlm_roberta_base_scores_weighted_time_to_impression_minutes_sqrt_l1_w_max</th><th>&hellip;</th><th>bert_base_multilingual_cased_scores_weighted_read_time_fixed_article_len_ratio_l1_w_median_tail_15</th><th>contrastive_vector_scores_weighted_scroll_percentage_fixed_mmnorm_l1_w_median_tail_5</th><th>contrastive_vector_scores_weighted_scroll_percentage_fixed_mmnorm_l1_w_median_tail_10</th><th>contrastive_vector_scores_weighted_scroll_percentage_fixed_mmnorm_l1_w_median_tail_15</th><th>xlm_roberta_base_scores_weighted_scroll_percentage_fixed_mmnorm_l1_w_median_tail_5</th><th>xlm_roberta_base_scores_weighted_scroll_percentage_fixed_mmnorm_l1_w_median_tail_10</th><th>xlm_roberta_base_scores_weighted_scroll_percentage_fixed_mmnorm_l1_w_median_tail_15</th><th>image_embeddings_scores_weighted_scroll_percentage_fixed_mmnorm_l1_w_median_tail_5</th><th>image_embeddings_scores_weighted_scroll_percentage_fixed_mmnorm_l1_w_median_tail_10</th><th>image_embeddings_scores_weighted_scroll_percentage_fixed_mmnorm_l1_w_median_tail_15</th><th>bert_base_multilingual_cased_scores_weighted_scroll_percentage_fixed_mmnorm_l1_w_median_tail_5</th><th>bert_base_multilingual_cased_scores_weighted_scroll_percentage_fixed_mmnorm_l1_w_median_tail_10</th><th>bert_base_multilingual_cased_scores_weighted_scroll_percentage_fixed_mmnorm_l1_w_median_tail_15</th><th>contrastive_vector_scores_weighted_time_to_impression_minutes_sqrt_l1_w_median_tail_5</th><th>contrastive_vector_scores_weighted_time_to_impression_minutes_sqrt_l1_w_median_tail_10</th><th>contrastive_vector_scores_weighted_time_to_impression_minutes_sqrt_l1_w_median_tail_15</th><th>xlm_roberta_base_scores_weighted_time_to_impression_minutes_sqrt_l1_w_median_tail_5</th><th>xlm_roberta_base_scores_weighted_time_to_impression_minutes_sqrt_l1_w_median_tail_10</th><th>xlm_roberta_base_scores_weighted_time_to_impression_minutes_sqrt_l1_w_median_tail_15</th><th>image_embeddings_scores_weighted_time_to_impression_minutes_sqrt_l1_w_median_tail_5</th><th>image_embeddings_scores_weighted_time_to_impression_minutes_sqrt_l1_w_median_tail_10</th><th>image_embeddings_scores_weighted_time_to_impression_minutes_sqrt_l1_w_median_tail_15</th><th>bert_base_multilingual_cased_scores_weighted_time_to_impression_minutes_sqrt_l1_w_median_tail_5</th><th>bert_base_multilingual_cased_scores_weighted_time_to_impression_minutes_sqrt_l1_w_median_tail_10</th><th>bert_base_multilingual_cased_scores_weighted_time_to_impression_minutes_sqrt_l1_w_median_tail_15</th><th>contrastive_vector_scores_weighted_time_to_impression_inverse_sqrt_l1_w_median_tail_5</th><th>contrastive_vector_scores_weighted_time_to_impression_inverse_sqrt_l1_w_median_tail_10</th><th>contrastive_vector_scores_weighted_time_to_impression_inverse_sqrt_l1_w_median_tail_15</th><th>xlm_roberta_base_scores_weighted_time_to_impression_inverse_sqrt_l1_w_median_tail_5</th><th>xlm_roberta_base_scores_weighted_time_to_impression_inverse_sqrt_l1_w_median_tail_10</th><th>xlm_roberta_base_scores_weighted_time_to_impression_inverse_sqrt_l1_w_median_tail_15</th><th>image_embeddings_scores_weighted_time_to_impression_inverse_sqrt_l1_w_median_tail_5</th><th>image_embeddings_scores_weighted_time_to_impression_inverse_sqrt_l1_w_median_tail_10</th><th>image_embeddings_scores_weighted_time_to_impression_inverse_sqrt_l1_w_median_tail_15</th><th>bert_base_multilingual_cased_scores_weighted_time_to_impression_inverse_sqrt_l1_w_median_tail_5</th><th>bert_base_multilingual_cased_scores_weighted_time_to_impression_inverse_sqrt_l1_w_median_tail_10</th><th>bert_base_multilingual_cased_scores_weighted_time_to_impression_inverse_sqrt_l1_w_median_tail_15</th></tr><tr><td>u32</td><td>u32</td><td>list[i32]</td><td>list[f32]</td><td>list[f32]</td><td>list[f32]</td><td>list[f32]</td><td>list[f64]</td><td>list[f64]</td><td>list[f64]</td><td>list[f64]</td><td>list[f32]</td><td>list[f32]</td><td>list[f32]</td><td>list[f32]</td><td>list[f64]</td><td>list[f64]</td><td>list[f64]</td><td>list[f64]</td><td>list[f64]</td><td>list[f64]</td><td>list[f64]</td><td>list[f64]</td><td>list[f32]</td><td>list[f32]</td><td>list[f32]</td><td>list[f32]</td><td>list[f64]</td><td>list[f64]</td><td>list[f64]</td><td>list[f64]</td><td>list[f32]</td><td>list[f32]</td><td>list[f32]</td><td>list[f32]</td><td>list[f64]</td><td>list[f64]</td><td>&hellip;</td><td>list[f64]</td><td>list[f32]</td><td>list[f32]</td><td>list[f32]</td><td>list[f32]</td><td>list[f32]</td><td>list[f32]</td><td>list[f32]</td><td>list[f32]</td><td>list[f32]</td><td>list[f32]</td><td>list[f32]</td><td>list[f32]</td><td>list[f64]</td><td>list[f64]</td><td>list[f64]</td><td>list[f64]</td><td>list[f64]</td><td>list[f64]</td><td>list[f64]</td><td>list[f64]</td><td>list[f64]</td><td>list[f64]</td><td>list[f64]</td><td>list[f64]</td><td>list[f64]</td><td>list[f64]</td><td>list[f64]</td><td>list[f64]</td><td>list[f64]</td><td>list[f64]</td><td>list[f64]</td><td>list[f64]</td><td>list[f64]</td><td>list[f64]</td><td>list[f64]</td><td>list[f64]</td></tr></thead><tbody><tr><td>2097255</td><td>63123</td><td>[9771916, 9771938, … 9771855]</td><td>[0.200907, 0.154063, … 0.251488]</td><td>[0.999051, 0.998986, … 0.999161]</td><td>[0.198911, 0.193671, … 0.162336]</td><td>[0.961375, 0.951313, … 0.965217]</td><td>[0.000126, 0.000107, … 0.000175]</td><td>[0.001376, 0.001376, … 0.001376]</td><td>[0.000226, 0.00029, … 0.000337]</td><td>[0.001262, 0.001249, … 0.001273]</td><td>[0.000277, 0.000225, … 0.000368]</td><td>[0.001376, 0.001376, … 0.001376]</td><td>[0.000282, 0.000275, … 0.00024]</td><td>[0.00133, 0.001316, … 0.001335]</td><td>[0.000268, 0.000226, … 0.000474]</td><td>[0.001376, 0.001376, … 0.001376]</td><td>[0.000345, 0.000259, … 0.000233]</td><td>[0.001327, 0.001313, … 0.001333]</td><td>[0.000279, 0.000202, … 0.000327]</td><td>[0.001376, 0.001376, … 0.001376]</td><td>[0.000258, 0.000259, … 0.000217]</td><td>[0.001327, 0.001313, … 0.001332]</td><td>[0.909731, 0.94831, … 0.87319]</td><td>[0.999661, 0.999873, … 0.999793]</td><td>[0.791619, 0.880052, … 0.867757]</td><td>[0.990057, 0.993238, … 0.99174]</td><td>[0.008613, 0.00695, … 0.012875]</td><td>[0.174697, 0.174734, … 0.174727]</td><td>[0.019199, 0.066946, … 0.088744]</td><td>[0.162056, 0.163121, … 0.16432]</td><td>[0.002857, 0.002695, … 0.00283]</td><td>[0.003286, 0.003286, … 0.003287]</td><td>[0.002522, 0.002729, … 0.002853]</td><td>[0.003238, 0.003249, … 0.003249]</td><td>[0.007098, 0.007963, … 0.021301]</td><td>[0.059936, 0.059946, … 0.05997]</td><td>&hellip;</td><td>[0.000125, 0.000124, … 0.000126]</td><td>[0.000121, 0.000032, … 0.000101]</td><td>[0.000125, 0.000075, … 0.000171]</td><td>[0.000116, 0.000032, … 0.000101]</td><td>[0.000887, 0.000887, … 0.000887]</td><td>[0.000985, 0.000986, … 0.000985]</td><td>[0.000755, 0.000755, … 0.000756]</td><td>[0.000026, -0.0, … 0.0]</td><td>[0.000079, 0.0, … 0.0]</td><td>[0.0, 0.0, … 0.0]</td><td>[0.000861, 0.000877, … 0.00087]</td><td>[0.000948, 0.000952, … 0.00096]</td><td>[0.000743, 0.000737, … 0.000743]</td><td>[0.00023, 0.000054, … 0.000409]</td><td>[0.00023, 0.000069, … 0.000315]</td><td>[0.000054, 0.000078, … 0.000144]</td><td>[0.001933, 0.001935, … 0.001934]</td><td>[0.001884, 0.001883, … 0.001884]</td><td>[0.000647, 0.000647, … 0.000647]</td><td>[0.000044, -0.000004, … 0.0]</td><td>[0.000063, -0.000002, … 0.0]</td><td>[0.000082, 0.0, … 0.0]</td><td>[0.001871, 0.001828, … 0.001898]</td><td>[0.001772, 0.001749, … 0.001789]</td><td>[0.000618, 0.000613, … 0.000626]</td><td>[0.000067, 0.000031, … 0.000232]</td><td>[0.000139, 0.000073, … 0.000236]</td><td>[0.000181, 0.000082, … 0.000232]</td><td>[0.000492, 0.000493, … 0.000493]</td><td>[0.000505, 0.000505, … 0.000505]</td><td>[0.001364, 0.001364, … 0.001364]</td><td>[0.00001, -8.7387e-7, … 0.0]</td><td>[0.000052, -4.3694e-7, … 0.0]</td><td>[0.000094, 0.0, … 0.0]</td><td>[0.000454, 0.000447, … 0.000459]</td><td>[0.000495, 0.000489, … 0.000496]</td><td>[0.001304, 0.001292, … 0.00132]</td></tr><tr><td>2097252</td><td>63123</td><td>[9761926, 9771896, … 9769370]</td><td>[0.175282, 0.2935, … 0.229902]</td><td>[0.999008, 0.999115, … 0.99925]</td><td>[0.194606, 0.14915, … 0.0]</td><td>[0.966587, 0.965852, … 0.9677]</td><td>[0.00015, 0.000195, … 0.000106]</td><td>[0.001376, 0.001376, … 0.001376]</td><td>[0.00033, 0.000317, … 0.0]</td><td>[0.00127, 0.001265, … 0.001271]</td><td>[0.000255, 0.000428, … 0.000342]</td><td>[0.001376, 0.001376, … 0.001376]</td><td>[0.000278, 0.000226, … 0.0]</td><td>[0.001337, 0.001336, … 0.001338]</td><td>[0.000312, 0.000492, … 0.000326]</td><td>[0.001376, 0.001376, … 0.001376]</td><td>[0.000259, 0.00022, … 0.0]</td><td>[0.001336, 0.001335, … 0.001336]</td><td>[0.000237, 0.000393, … 0.000321]</td><td>[0.001376, 0.001376, … 0.001376]</td><td>[0.000275, 0.000205, … 0.0]</td><td>[0.001334, 0.001333, … 0.001336]</td><td>[0.797017, 0.771882, … 0.716651]</td><td>[0.999568, 0.999626, … 0.999731]</td><td>[0.911962, 0.80103, … 0.0]</td><td>[0.99214, 0.993042, … 0.993572]</td><td>[0.006662, 0.014161, … 0.005872]</td><td>[0.1747, 0.174706, … 0.174748]</td><td>[0.090131, 0.11578, … 0.0]</td><td>[0.163513, 0.161841, … 0.163951]</td><td>[0.002532, 0.002505, … 0.002356]</td><td>[0.003286, 0.003286, … 0.003286]</td><td>[0.002998, 0.002599, … 0.0]</td><td>[0.003258, 0.003264, … 0.003264]</td><td>[0.011884, 0.01939, … 0.00858]</td><td>[0.059949, 0.059941, … 0.059956]</td><td>&hellip;</td><td>[0.000125, 0.000125, … 0.000126]</td><td>[0.000113, 0.000101, … 0.00015]</td><td>[0.000141, 0.000152, … 0.000207]</td><td>[0.000113, 0.000101, … 0.000197]</td><td>[0.000887, 0.000887, … 0.000887]</td><td>[0.000985, 0.000985, … 0.000986]</td><td>[0.000755, 0.000755, … 0.000756]</td><td>[-0.0, 0.0, … 0.0]</td><td>[0.0, 0.0, … 0.0]</td><td>[0.0, 0.0, … 0.0]</td><td>[0.00087, 0.000866, … 0.00087]</td><td>[0.000955, 0.000953, … 0.000959]</td><td>[0.000744, 0.000745, … 0.00075]</td><td>[0.000269, 0.000454, … 0.00036]</td><td>[0.000257, 0.000337, … 0.00036]</td><td>[0.000108, 0.000122, … 0.000284]</td><td>[0.001933, 0.001933, … 0.001934]</td><td>[0.001883, 0.001884, … 0.001884]</td><td>[0.000647, 0.000647, … 0.000647]</td><td>[-0.000037, 0.0, … 0.0]</td><td>[0.0, 0.0, … 0.0]</td><td>[0.0, 0.0, … 0.0]</td><td>[0.001889, 0.001889, … 0.001875]</td><td>[0.001784, 0.001785, … 0.001779]</td><td>[0.000621, 0.000621, … 0.000625]</td><td>[0.000063, 0.000313, … 0.000084]</td><td>[0.000117, 0.000304, … 0.000187]</td><td>[0.000133, 0.000256, … 0.00025]</td><td>[0.000493, 0.000492, … 0.000493]</td><td>[0.000505, 0.000505, … 0.000505]</td><td>[0.001364, 0.001364, … 0.001365]</td><td>[-0.000009, 0.0, … 0.0]</td><td>[0.0, 0.0, … 0.0]</td><td>[0.0, 0.0, … 0.0]</td><td>[0.000457, 0.000455, … 0.000455]</td><td>[0.000497, 0.000498, … 0.000497]</td><td>[0.001308, 0.001308, … 0.001317]</td></tr></tbody></table></div>"
      ],
      "text/plain": [
       "shape: (2, 403)\n",
       "┌────────────┬─────────┬───────────┬───────────┬───┬───────────┬───────────┬───────────┬───────────┐\n",
       "│ impression ┆ user_id ┆ article   ┆ contrasti ┆ … ┆ image_emb ┆ bert_base ┆ bert_base ┆ bert_base │\n",
       "│ _id        ┆ ---     ┆ ---       ┆ ve_vector ┆   ┆ eddings_s ┆ _multilin ┆ _multilin ┆ _multilin │\n",
       "│ ---        ┆ u32     ┆ list[i32] ┆ _scores_m ┆   ┆ cores_wei ┆ gual_case ┆ gual_case ┆ gual_case │\n",
       "│ u32        ┆         ┆           ┆ ean       ┆   ┆ ght…      ┆ d_s…      ┆ d_s…      ┆ d_s…      │\n",
       "│            ┆         ┆           ┆ ---       ┆   ┆ ---       ┆ ---       ┆ ---       ┆ ---       │\n",
       "│            ┆         ┆           ┆ list[f32] ┆   ┆ list[f64] ┆ list[f64] ┆ list[f64] ┆ list[f64] │\n",
       "╞════════════╪═════════╪═══════════╪═══════════╪═══╪═══════════╪═══════════╪═══════════╪═══════════╡\n",
       "│ 2097255    ┆ 63123   ┆ [9771916, ┆ [0.200907 ┆ … ┆ [0.000094 ┆ [0.000454 ┆ [0.000495 ┆ [0.001304 │\n",
       "│            ┆         ┆ 9771938,  ┆ ,         ┆   ┆ , 0.0, …  ┆ ,         ┆ ,         ┆ ,         │\n",
       "│            ┆         ┆ …         ┆ 0.154063, ┆   ┆ 0.0]      ┆ 0.000447, ┆ 0.000489, ┆ 0.001292, │\n",
       "│            ┆         ┆ 9771855]  ┆ …         ┆   ┆           ┆ …         ┆ …         ┆ …         │\n",
       "│            ┆         ┆           ┆ 0.25148…  ┆   ┆           ┆ 0.00045…  ┆ 0.00049…  ┆ 0.00132…  │\n",
       "│ 2097252    ┆ 63123   ┆ [9761926, ┆ [0.175282 ┆ … ┆ [0.0,     ┆ [0.000457 ┆ [0.000497 ┆ [0.001308 │\n",
       "│            ┆         ┆ 9771896,  ┆ , 0.2935, ┆   ┆ 0.0, …    ┆ ,         ┆ ,         ┆ ,         │\n",
       "│            ┆         ┆ …         ┆ …         ┆   ┆ 0.0]      ┆ 0.000455, ┆ 0.000498, ┆ 0.001308, │\n",
       "│            ┆         ┆ 9769370]  ┆ 0.229902] ┆   ┆           ┆ …         ┆ …         ┆ …         │\n",
       "│            ┆         ┆           ┆           ┆   ┆           ┆ 0.00045…  ┆ 0.00049…  ┆ 0.00131…  │\n",
       "└────────────┴─────────┴───────────┴───────────┴───┴───────────┴───────────┴───────────┴───────────┘"
      ]
     },
     "execution_count": 29,
     "metadata": {},
     "output_type": "execute_result"
    }
   ],
   "source": [
    "agg_cols = [col for col in train_ds_w.columns if '_scores' in col]\n",
    "train_ds_w_aggs = build_agg_scores(train_ds_w, agg_cols=agg_cols, last_k=[5, 10, 15]).drop(agg_cols)\n",
    "train_ds_w_aggs.head(2)"
   ]
  },
  {
   "cell_type": "code",
   "execution_count": 30,
   "metadata": {},
   "outputs": [
    {
     "data": {
      "text/html": [
       "<div><style>\n",
       ".dataframe > thead > tr,\n",
       ".dataframe > tbody > tr {\n",
       "  text-align: right;\n",
       "  white-space: pre-wrap;\n",
       "}\n",
       "</style>\n",
       "<small>shape: (2, 5)</small><table border=\"1\" class=\"dataframe\"><thead><tr><th>user_id</th><th>impression_id</th><th>article</th><th>contrastive_vector_scores</th><th>contrastive_vector_scores_mean_tail_2</th></tr><tr><td>u32</td><td>u32</td><td>list[i32]</td><td>list[list[f32]]</td><td>list[f32]</td></tr></thead><tbody><tr><td>63123</td><td>2097255</td><td>[9771916, 9771938, … 9771855]</td><td>[[0.557273, 0.317587, … 0.145003], [0.182505, 0.066342, … 0.131874], … [0.116064, 0.052735, … 0.095286]]</td><td>[0.12937, 0.079167, … 0.323413]</td></tr><tr><td>63123</td><td>2097252</td><td>[9761926, 9771896, … 9769370]</td><td>[[0.107697, 0.240556, … 0.207324], [0.269079, 0.082241, … 0.149119], … [0.188112, 0.083346, … 0.402493]]</td><td>[0.170133, 0.406452, … 0.290207]</td></tr></tbody></table></div>"
      ],
      "text/plain": [
       "shape: (2, 5)\n",
       "┌─────────┬───────────────┬────────────────────────┬───────────────────────┬───────────────────────┐\n",
       "│ user_id ┆ impression_id ┆ article                ┆ contrastive_vector_sc ┆ contrastive_vector_sc │\n",
       "│ ---     ┆ ---           ┆ ---                    ┆ ores                  ┆ ores_mean…            │\n",
       "│ u32     ┆ u32           ┆ list[i32]              ┆ ---                   ┆ ---                   │\n",
       "│         ┆               ┆                        ┆ list[list[f32]]       ┆ list[f32]             │\n",
       "╞═════════╪═══════════════╪════════════════════════╪═══════════════════════╪═══════════════════════╡\n",
       "│ 63123   ┆ 2097255       ┆ [9771916, 9771938, …   ┆ [[0.557273, 0.317587, ┆ [0.12937, 0.079167, … │\n",
       "│         ┆               ┆ 9771855]               ┆ … 0.1450…             ┆ 0.323413…             │\n",
       "│ 63123   ┆ 2097252       ┆ [9761926, 9771896, …   ┆ [[0.107697, 0.240556, ┆ [0.170133, 0.406452,  │\n",
       "│         ┆               ┆ 9769370]               ┆ … 0.2073…             ┆ … 0.29020…            │\n",
       "└─────────┴───────────────┴────────────────────────┴───────────────────────┴───────────────────────┘"
      ]
     },
     "execution_count": 30,
     "metadata": {},
     "output_type": "execute_result"
    }
   ],
   "source": [
    "train_ds_w.select('user_id', 'impression_id', 'article', 'contrastive_vector_scores').with_columns(\n",
    "    pl.col('contrastive_vector_scores').list.eval(\n",
    "        pl.element().list.tail(2).list.mean()\n",
    "        ).name.suffix('_mean_tail_2'),\n",
    ").head(2)"
   ]
  },
  {
   "cell_type": "markdown",
   "metadata": {},
   "source": [
    "## Test API"
   ]
  },
  {
   "cell_type": "code",
   "execution_count": 32,
   "metadata": {},
   "outputs": [],
   "source": [
    "article_emb_mapping = articles.select('article_id').unique().with_row_index()"
   ]
  },
  {
   "cell_type": "code",
   "execution_count": 33,
   "metadata": {},
   "outputs": [],
   "source": [
    "from polimi.utils._embeddings import *\n",
    "history_w = build_history_w(history_train, articles)\n",
    "        \n",
    "history_m = history_train\\\n",
    "    .select('user_id', pl.col('article_id_fixed').list.eval(\n",
    "                pl.element().replace(article_emb_mapping['article_id'], article_emb_mapping['index'], default=None)))\\\n",
    "    .with_row_index('user_index')\n",
    "\n",
    "user_history_map = history_m.select('user_id', 'user_index')\n",
    "history_m = history_m['article_id_fixed'].to_numpy()\n",
    "train_ds = behaviors_train[:1500].select('impression_id', 'user_id', pl.col('article_ids_inview').alias('article'))\\\n",
    "    .join(user_history_map, on='user_id')\\\n",
    "    .with_columns(\n",
    "        pl.col('article').list.eval(pl.element().replace(article_emb_mapping['article_id'], article_emb_mapping['index'], default=None)).name.suffix('_index'),\n",
    "    ).drop('impression_time_fixed', 'scroll_percentage_fixed', 'read_time_fixed')"
   ]
  },
  {
   "cell_type": "code",
   "execution_count": 34,
   "metadata": {},
   "outputs": [
    {
     "name": "stderr",
     "output_type": "stream",
     "text": [
      "100%|██████████| 697/697 [00:05<00:00, 126.29it/s]\n"
     ]
    },
    {
     "data": {
      "text/html": [
       "<div><style>\n",
       ".dataframe > thead > tr,\n",
       ".dataframe > tbody > tr {\n",
       "  text-align: right;\n",
       "  white-space: pre-wrap;\n",
       "}\n",
       "</style>\n",
       "<small>shape: (2, 11)</small><table border=\"1\" class=\"dataframe\"><thead><tr><th>impression_id</th><th>user_id</th><th>article</th><th>contrastive_vector_scores</th><th>xlm_roberta_base_scores</th><th>image_embeddings_scores</th><th>bert_base_multilingual_cased_scores</th><th>read_time_fixed_article_len_ratio_l1_w</th><th>scroll_percentage_fixed_mmnorm_l1_w</th><th>time_to_impression_minutes_sqrt_l1_w</th><th>time_to_impression_inverse_sqrt_l1_w</th></tr><tr><td>u32</td><td>u32</td><td>list[i32]</td><td>list[list[f32]]</td><td>list[list[f32]]</td><td>list[list[f32]]</td><td>list[list[f32]]</td><td>list[f32]</td><td>list[f32]</td><td>list[f32]</td><td>list[f32]</td></tr></thead><tbody><tr><td>2097252</td><td>63123</td><td>[9761926, 9771896, … 9769370]</td><td>[[0.132573, 0.06678, … 0.094609], [0.132723, 0.217126, … 0.340123], … [0.136158, 0.099829, … 0.078995]]</td><td>[[0.999059, 0.999116, … 0.999072], [0.999356, 0.99945, … 0.999044], … [0.999021, 0.999291, … 0.999318]]</td><td>[[0.102585, 0.039158, … 0.0], [0.054918, 0.383415, … 0.0], … [-0.067575, -0.047595, … 0.0]]</td><td>[[0.945957, 0.928772, … 0.929785], [0.945831, 0.981013, … 0.976801], … [0.948607, 0.988573, … 0.982244]]</td><td>[0.00012, 0.000011, … 0.0]</td><td>[0.000822, 0.00069, … 0.0]</td><td>[0.0, 0.0, … 0.0]</td><td>[0.002248, 0.002248, … 0.002248]</td></tr><tr><td>2097255</td><td>63123</td><td>[9771916, 9771938, … 9771855]</td><td>[[0.439024, 0.497983, … 0.447201], [0.097623, 0.056238, … 0.103381], … [0.319451, 0.424369, … 0.637918]]</td><td>[[0.999267, 0.999492, … 0.999506], [0.999098, 0.999238, … 0.999064], … [0.998971, 0.999317, … 0.9997]]</td><td>[[0.507579, 0.106291, … 0.0], [0.253171, 0.226537, … 0.0], … [0.150735, 0.130771, … 0.0]]</td><td>[[0.942713, 0.991102, … 0.987444], [0.948419, 0.988399, … 0.981755], … [0.936678, 0.982452, … 0.986706]]</td><td>[0.00012, 0.000011, … 0.0]</td><td>[0.000822, 0.00069, … 0.0]</td><td>[0.0, 0.0, … 0.0]</td><td>[0.002248, 0.002248, … 0.002248]</td></tr></tbody></table></div>"
      ],
      "text/plain": [
       "shape: (2, 11)\n",
       "┌────────────┬─────────┬───────────┬───────────┬───┬───────────┬───────────┬───────────┬───────────┐\n",
       "│ impression ┆ user_id ┆ article   ┆ contrasti ┆ … ┆ read_time ┆ scroll_pe ┆ time_to_i ┆ time_to_i │\n",
       "│ _id        ┆ ---     ┆ ---       ┆ ve_vector ┆   ┆ _fixed_ar ┆ rcentage_ ┆ mpression ┆ mpression │\n",
       "│ ---        ┆ u32     ┆ list[i32] ┆ _scores   ┆   ┆ ticle_len ┆ fixed_mmn ┆ _minutes_ ┆ _inverse_ │\n",
       "│ u32        ┆         ┆           ┆ ---       ┆   ┆ _ra…      ┆ orm…      ┆ sqr…      ┆ sqr…      │\n",
       "│            ┆         ┆           ┆ list[list ┆   ┆ ---       ┆ ---       ┆ ---       ┆ ---       │\n",
       "│            ┆         ┆           ┆ [f32]]    ┆   ┆ list[f32] ┆ list[f32] ┆ list[f32] ┆ list[f32] │\n",
       "╞════════════╪═════════╪═══════════╪═══════════╪═══╪═══════════╪═══════════╪═══════════╪═══════════╡\n",
       "│ 2097252    ┆ 63123   ┆ [9761926, ┆ [[0.13257 ┆ … ┆ [0.00012, ┆ [0.000822 ┆ [0.0,     ┆ [0.002248 │\n",
       "│            ┆         ┆ 9771896,  ┆ 3,        ┆   ┆ 0.000011, ┆ ,         ┆ 0.0, …    ┆ ,         │\n",
       "│            ┆         ┆ …         ┆ 0.06678,  ┆   ┆ … 0.0]    ┆ 0.00069,  ┆ 0.0]      ┆ 0.002248, │\n",
       "│            ┆         ┆ 9769370]  ┆ …         ┆   ┆           ┆ … 0.0]    ┆           ┆ …         │\n",
       "│            ┆         ┆           ┆ 0.09460…  ┆   ┆           ┆           ┆           ┆ 0.00224…  │\n",
       "│ 2097255    ┆ 63123   ┆ [9771916, ┆ [[0.43902 ┆ … ┆ [0.00012, ┆ [0.000822 ┆ [0.0,     ┆ [0.002248 │\n",
       "│            ┆         ┆ 9771938,  ┆ 4,        ┆   ┆ 0.000011, ┆ ,         ┆ 0.0, …    ┆ ,         │\n",
       "│            ┆         ┆ …         ┆ 0.497983, ┆   ┆ … 0.0]    ┆ 0.00069,  ┆ 0.0]      ┆ 0.002248, │\n",
       "│            ┆         ┆ 9771855]  ┆ … 0.4472… ┆   ┆           ┆ … 0.0]    ┆           ┆ …         │\n",
       "│            ┆         ┆           ┆           ┆   ┆           ┆           ┆           ┆ 0.00224…  │\n",
       "└────────────┴─────────┴───────────┴───────────┴───┴───────────┴───────────┴───────────┴───────────┘"
      ]
     },
     "execution_count": 34,
     "metadata": {},
     "output_type": "execute_result"
    }
   ],
   "source": [
    "x = build_embeddings_scores(train_ds, history_m=history_m, m_dict=norm_m_dict)\n",
    "x = x.join(history_w, on='user_id', how='left')\n",
    "x.head(2)"
   ]
  },
  {
   "cell_type": "code",
   "execution_count": 36,
   "metadata": {},
   "outputs": [
    {
     "name": "stderr",
     "output_type": "stream",
     "text": [
      "100%|██████████| 697/697 [00:00<00:00, 2482.93it/s]\n"
     ]
    },
    {
     "data": {
      "text/html": [
       "<div><style>\n",
       ".dataframe > thead > tr,\n",
       ".dataframe > tbody > tr {\n",
       "  text-align: right;\n",
       "  white-space: pre-wrap;\n",
       "}\n",
       "</style>\n",
       "<small>shape: (2, 6)</small><table border=\"1\" class=\"dataframe\"><thead><tr><th>impression_id</th><th>user_id</th><th>article</th><th>contrastive_vector_scores</th><th>contrastive_vector_scores_weighted_read_time_fixed_article_len_ratio_l1_w</th><th>read_time_fixed_article_len_ratio_l1_w</th></tr><tr><td>u32</td><td>u32</td><td>i32</td><td>list[f32]</td><td>list[f32]</td><td>list[f32]</td></tr></thead><tbody><tr><td>2097252</td><td>63123</td><td>9761926</td><td>[0.132573, 0.06678, … 0.094609]</td><td>[0.000016, 7.1727e-7, … 0.0]</td><td>[0.00012, 0.000011, … 0.0]</td></tr><tr><td>2097252</td><td>63123</td><td>9771896</td><td>[0.132723, 0.217126, … 0.340123]</td><td>[0.000016, 0.000002, … 0.0]</td><td>[0.00012, 0.000011, … 0.0]</td></tr></tbody></table></div>"
      ],
      "text/plain": [
       "shape: (2, 6)\n",
       "┌───────────────┬─────────┬─────────┬────────────────────┬────────────────────┬────────────────────┐\n",
       "│ impression_id ┆ user_id ┆ article ┆ contrastive_vector ┆ contrastive_vector ┆ read_time_fixed_ar │\n",
       "│ ---           ┆ ---     ┆ ---     ┆ _scores            ┆ _scores_weig…      ┆ ticle_len_ra…      │\n",
       "│ u32           ┆ u32     ┆ i32     ┆ ---                ┆ ---                ┆ ---                │\n",
       "│               ┆         ┆         ┆ list[f32]          ┆ list[f32]          ┆ list[f32]          │\n",
       "╞═══════════════╪═════════╪═════════╪════════════════════╪════════════════════╪════════════════════╡\n",
       "│ 2097252       ┆ 63123   ┆ 9761926 ┆ [0.132573,         ┆ [0.000016,         ┆ [0.00012,          │\n",
       "│               ┆         ┆         ┆ 0.06678, …         ┆ 7.1727e-7, … 0.0]  ┆ 0.000011, … 0.0]   │\n",
       "│               ┆         ┆         ┆ 0.094609…          ┆                    ┆                    │\n",
       "│ 2097252       ┆ 63123   ┆ 9771896 ┆ [0.132723,         ┆ [0.000016,         ┆ [0.00012,          │\n",
       "│               ┆         ┆         ┆ 0.217126, …        ┆ 0.000002, … 0.0]   ┆ 0.000011, … 0.0]   │\n",
       "│               ┆         ┆         ┆ 0.34012…           ┆                    ┆                    │\n",
       "└───────────────┴─────────┴─────────┴────────────────────┴────────────────────┴────────────────────┘"
      ]
     },
     "execution_count": 36,
     "metadata": {},
     "output_type": "execute_result"
    }
   ],
   "source": [
    "x_w = x.select('impression_id', 'user_id', 'article', 'contrastive_vector_scores', 'read_time_fixed_article_len_ratio_l1_w')\n",
    "weights_cols = [col for col in x_w.columns if col.endswith('_l1_w')]\n",
    "scores_cols = [col for col in x_w.columns if col.endswith('_scores')]\n",
    "\n",
    "x_w = weight_scores(x_w, scores_cols=scores_cols, weights_cols=weights_cols)\n",
    "x_w = x_w.explode(pl.all().exclude('impression_id', 'user_id')).join(history_w.select(['user_id'] + weights_cols), on='user_id', how='left')\n",
    "x_w.head(2)"
   ]
  },
  {
   "cell_type": "code",
   "execution_count": null,
   "metadata": {},
   "outputs": [],
   "source": []
  }
 ],
 "metadata": {
  "kernelspec": {
   "display_name": "recsys",
   "language": "python",
   "name": "python3"
  },
  "language_info": {
   "codemirror_mode": {
    "name": "ipython",
    "version": 3
   },
   "file_extension": ".py",
   "mimetype": "text/x-python",
   "name": "python",
   "nbconvert_exporter": "python",
   "pygments_lexer": "ipython3",
   "version": "3.11.0"
  }
 },
 "nbformat": 4,
 "nbformat_minor": 2
}
