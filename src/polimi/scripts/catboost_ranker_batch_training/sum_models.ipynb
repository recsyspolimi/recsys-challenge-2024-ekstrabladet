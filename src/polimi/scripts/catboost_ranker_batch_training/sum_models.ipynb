{
 "cells": [
  {
   "cell_type": "code",
   "execution_count": 1,
   "metadata": {},
   "outputs": [],
   "source": [
    "import polars as pl\n",
    "import pandas as pd\n",
    "import os\n",
    "import json\n",
    "import numpy as np\n",
    "from catboost import CatBoostClassifier, CatBoostRanker, Pool, sum_models\n",
    "import gc\n",
    "from ebrec.evaluation.metrics_protocols import *\n",
    "from fastauc.fastauc.fast_auc import CppAuc\n",
    "import argparse\n",
    "import joblib\n"
   ]
  },
  {
   "cell_type": "code",
   "execution_count": 2,
   "metadata": {},
   "outputs": [],
   "source": [
    "N_BATCH = 10\n",
    "RANKER = True\n",
    "model_path = '/home/ubuntu/experiments/catboost_rnk_recsys_train_val'\n",
    "dataset_path = '/home/ubuntu/experiments/preprocessing_train_new_with_recsys'\n",
    "catboost_params = {\n",
    "    \"iterations\": 2421,\n",
    "    \"learning_rate\": 0.061372161824290145,\n",
    "    \"rsm\": 0.681769606695633,\n",
    "    \"reg_lambda\": 0.4953354255208565,\n",
    "    \"grow_policy\": \"SymmetricTree\",\n",
    "    \"bootstrap_type\": \"MVS\",\n",
    "    \"subsample\": 0.5108219602277233,\n",
    "    \"random_strength\": 14.089062269780399,\n",
    "    \"fold_permutation_block\": 39,\n",
    "    \"border_count\": 34,\n",
    "    \"sampling_frequency\": \"PerTreeLevel\",\n",
    "    \"score_function\": \"Cosine\",\n",
    "    \"depth\": 8,\n",
    "    \"mvs_reg\": 0.0015341832942953422\n",
    "}\n"
   ]
  },
  {
   "cell_type": "code",
   "execution_count": 3,
   "metadata": {},
   "outputs": [
    {
     "data": {
      "text/plain": [
       "['/home/ubuntu/experiments/catboost_rnk_recsys_train_val/model.joblib']"
      ]
     },
     "execution_count": 3,
     "metadata": {},
     "output_type": "execute_result"
    }
   ],
   "source": [
    "with open(os.path.join(dataset_path, 'data_info.json')) as data_info_file:\n",
    "        data_info = json.load(data_info_file)\n",
    "        \n",
    "models = []   \n",
    "for batch in range(N_BATCH):\n",
    "            if RANKER:\n",
    "                model = CatBoostRanker(\n",
    "                    **catboost_params, cat_features=data_info['categorical_columns'])\n",
    "            else:\n",
    "                model = CatBoostClassifier(**catboost_params, cat_features=data_info['categorical_columns'])\n",
    "                \n",
    "            model.load_model(model_path + f'/models/model_{batch}.cbm', format='cbm')\n",
    "            models.append(model)\n",
    "\n",
    "weights = [1/N_BATCH] * N_BATCH\n",
    "model = sum_models(models, weights=weights,ctr_merge_policy='IntersectingCountersAverage')\n",
    "joblib.dump(model, os.path.join(model_path, 'model.joblib'))"
   ]
  }
 ],
 "metadata": {
  "kernelspec": {
   "display_name": ".venv",
   "language": "python",
   "name": "python3"
  },
  "language_info": {
   "codemirror_mode": {
    "name": "ipython",
    "version": 3
   },
   "file_extension": ".py",
   "mimetype": "text/x-python",
   "name": "python",
   "nbconvert_exporter": "python",
   "pygments_lexer": "ipython3",
   "version": "3.10.12"
  }
 },
 "nbformat": 4,
 "nbformat_minor": 2
}
