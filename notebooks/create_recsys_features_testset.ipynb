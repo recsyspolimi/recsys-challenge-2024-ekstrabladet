{
 "cells": [
  {
   "cell_type": "code",
   "execution_count": 2,
   "metadata": {},
   "outputs": [
    {
     "name": "stderr",
     "output_type": "stream",
     "text": [
      "2024-05-25 13:32:36.064220: I tensorflow/core/platform/cpu_feature_guard.cc:210] This TensorFlow binary is optimized to use available CPU instructions in performance-critical operations.\n",
      "To enable the following instructions: AVX2 FMA, in other operations, rebuild TensorFlow with the appropriate compiler flags.\n",
      "2024-05-25 13:32:38.115487: W tensorflow/compiler/tf2tensorrt/utils/py_utils.cc:38] TF-TRT Warning: Could not find TensorRT\n"
     ]
    }
   ],
   "source": [
    "import polars as pl\n",
    "from RecSys_Course_AT_PoliMi.Recommenders.KNN.ItemKNNCBFRecommender import ItemKNNCBFRecommender\n",
    "from pathlib import Path\n",
    "from polimi.utils._custom import load_urms,load_sparse_csr\n",
    "from polimi.utils._urm import build_recsys_features"
   ]
  },
  {
   "cell_type": "markdown",
   "metadata": {},
   "source": [
    "## Load datasets\n"
   ]
  },
  {
   "cell_type": "code",
   "execution_count": 3,
   "metadata": {},
   "outputs": [],
   "source": [
    "articles = pl.read_parquet('/home/ubuntu/dataset/ebnerd_testset/articles.parquet')\n",
    "\n",
    "history_train = pl.read_parquet('/home/ubuntu/dataset/ebnerd_large/train/history.parquet')\n",
    "\n",
    "history_val = pl.read_parquet('/home/ubuntu/dataset/ebnerd_large/validation/history.parquet')\n",
    "\n",
    "history_test = pl.read_parquet('/home/ubuntu/dataset/ebnerd_testset/test/history.parquet')\n",
    "behaviors_test = pl.read_parquet('/home/ubuntu/dataset/ebnerd_testset/test/behaviors.parquet')\n"
   ]
  },
  {
   "cell_type": "code",
   "execution_count": 7,
   "metadata": {},
   "outputs": [
    {
     "name": "stdout",
     "output_type": "stream",
     "text": [
      "File loaded at: /home/ubuntu/recsys_features/icm/large/kenneth_title+subtitle.npz\n",
      "File loaded at: /home/ubuntu/recsys_features/icm/large/title_embedding.npz\n",
      "File loaded at: /home/ubuntu/recsys_features/icm/large/bert-base-multilingual-cased.npz\n",
      "File loaded at: /home/ubuntu/recsys_features/icm/large/xlm-roberta-base.npz\n",
      "File loaded at: /home/ubuntu/recsys_features/icm/large/document_vector.npz\n",
      "File loaded at: /home/ubuntu/recsys_features/icm/large/emotion_scores.npz\n",
      "File loaded at: /home/ubuntu/recsys_features/icm/large/contrastive_vector.npz\n"
     ]
    },
    {
     "data": {
      "text/plain": [
       "[<125541x384 sparse matrix of type '<class 'numpy.float64'>'\n",
       " \twith 48207744 stored elements in Compressed Sparse Row format>,\n",
       " <125541x768 sparse matrix of type '<class 'numpy.float64'>'\n",
       " \twith 96415488 stored elements in Compressed Sparse Row format>,\n",
       " <125541x768 sparse matrix of type '<class 'numpy.float32'>'\n",
       " \twith 96415488 stored elements in Compressed Sparse Row format>,\n",
       " <125541x768 sparse matrix of type '<class 'numpy.float32'>'\n",
       " \twith 96415488 stored elements in Compressed Sparse Row format>,\n",
       " <125541x300 sparse matrix of type '<class 'numpy.float32'>'\n",
       " \twith 37662300 stored elements in Compressed Sparse Row format>,\n",
       " <125541x6 sparse matrix of type '<class 'numpy.float64'>'\n",
       " \twith 753246 stored elements in Compressed Sparse Row format>,\n",
       " <125541x768 sparse matrix of type '<class 'numpy.float32'>'\n",
       " \twith 96415488 stored elements in Compressed Sparse Row format>]"
      ]
     },
     "execution_count": 7,
     "metadata": {},
     "output_type": "execute_result"
    }
   ],
   "source": [
    "ICMs = load_urms(Path('/home/ubuntu/recsys_features/icm/testset/'))\n",
    "ICMs"
   ]
  },
  {
   "cell_type": "code",
   "execution_count": 51,
   "metadata": {},
   "outputs": [
    {
     "name": "stdout",
     "output_type": "stream",
     "text": [
      "File loaded at: /home/ubuntu/recsys2024/urm/recsys/small/URM_train.npz\n",
      "ItemKNNCBFRecommender: URM Detected 3684 (19.6%) users with no interactions.\n",
      "ItemKNNCBFRecommender: URM Detected 11952 (57.6%) items with no interactions.\n",
      "Similarity column 20738 (100.0%), 133.09 column/sec. Elapsed time 2.60 min\n",
      "ItemKNNCBFRecommender: URM Detected 3684 (19.6%) users with no interactions.\n",
      "ItemKNNCBFRecommender: URM Detected 11952 (57.6%) items with no interactions.\n",
      "Compute_Similarity: detected dense matrix\n",
      "Similarity column 20738 (100.0%), 295.41 column/sec. Elapsed time 1.17 min\n",
      "ItemKNNCBFRecommender: URM Detected 3684 (19.6%) users with no interactions.\n",
      "ItemKNNCBFRecommender: URM Detected 11952 (57.6%) items with no interactions.\n",
      "Similarity column 20738 (100.0%), 678.88 column/sec. Elapsed time 30.55 sec\n",
      "ItemKNNCBFRecommender: URM Detected 3684 (19.6%) users with no interactions.\n",
      "ItemKNNCBFRecommender: URM Detected 11952 (57.6%) items with no interactions.\n",
      "Compute_Similarity: detected dense matrix\n",
      "Similarity column 20738 (100.0%), 285.74 column/sec. Elapsed time 1.21 min\n",
      "ItemKNNCBFRecommender: URM Detected 3684 (19.6%) users with no interactions.\n",
      "ItemKNNCBFRecommender: URM Detected 11952 (57.6%) items with no interactions.\n",
      "ItemKNNCBFRecommender: ICM Detected 18 ( 0.1%) items with no features.\n",
      "Compute_Similarity: detected dense matrix\n",
      "Similarity column 20738 (100.0%), 559.84 column/sec. Elapsed time 37.04 sec\n",
      "ItemKNNCBFRecommender: URM Detected 3684 (19.6%) users with no interactions.\n",
      "ItemKNNCBFRecommender: URM Detected 11952 (57.6%) items with no interactions.\n",
      "Compute_Similarity: detected dense matrix\n",
      "Similarity column 20738 (100.0%), 468.00 column/sec. Elapsed time 44.31 sec\n",
      "ItemKNNCBFRecommender: URM Detected 3684 (19.6%) users with no interactions.\n",
      "ItemKNNCBFRecommender: URM Detected 11952 (57.6%) items with no interactions.\n",
      "Compute_Similarity: detected dense matrix\n",
      "Similarity column 20738 (100.0%), 249.30 column/sec. Elapsed time 1.39 min\n",
      "SLIM_BPR_Cython: URM Detected 3684 (19.6%) users with no interactions.\n",
      "SLIM_BPR_Cython: URM Detected 11952 (57.6%) items with no interactions.\n",
      "SLIM_BPR_Cython: Loading model from file '/home/ubuntu/recsys2024/algo/recsys/small/train/SLIM_BPR_Cython'\n",
      "SLIM_BPR_Cython: Loading complete\n",
      "ItemKNNCFRecommender: URM Detected 3684 (19.6%) users with no interactions.\n",
      "ItemKNNCFRecommender: URM Detected 11952 (57.6%) items with no interactions.\n",
      "ItemKNNCFRecommender: Loading model from file '/home/ubuntu/recsys2024/algo/recsys/small/train/ItemKNNCFRecommender'\n",
      "ItemKNNCFRecommender: Loading complete\n",
      "PureSVDItemRecommender: URM Detected 3684 (19.6%) users with no interactions.\n",
      "PureSVDItemRecommender: URM Detected 11952 (57.6%) items with no interactions.\n",
      "PureSVDItemRecommender: Loading model from file '/home/ubuntu/recsys2024/algo/recsys/small/train/PureSVDItemRecommender'\n",
      "PureSVDItemRecommender: Loading complete\n",
      "PureSVDRecommender: URM Detected 3684 (19.6%) users with no interactions.\n",
      "PureSVDRecommender: URM Detected 11952 (57.6%) items with no interactions.\n",
      "PureSVDRecommender: Loading model from file '/home/ubuntu/recsys2024/algo/recsys/small/train/PureSVDRecommender'\n",
      "PureSVDRecommender: Loading complete\n",
      "RP3betaRecommender: URM Detected 3684 (19.6%) users with no interactions.\n",
      "RP3betaRecommender: URM Detected 11952 (57.6%) items with no interactions.\n",
      "RP3betaRecommender: Loading model from file '/home/ubuntu/recsys2024/algo/recsys/small/train/RP3betaRecommender'\n",
      "RP3betaRecommender: Loading complete\n",
      "Memory usage of dataframe is 147.96 MB\n",
      "Memory usage after optimization is: 147.96 MB\n",
      "Decreased by 0.0%\n",
      "Built recsys scores features in 3.9 minutes\n"
     ]
    }
   ],
   "source": [
    "URM_train = load_sparse_csr(Path('/home/ubuntu/recsys_features/urm/testset/URM_test.npz'))\n",
    "\n",
    "recs = []\n",
    "\n",
    "bert = ItemKNNCBFRecommender(URM_train=URM_train,ICM_train=ICMs[2])\n",
    "bert.fit(similarity= 'euclidean', topK= 1457, shrink= 329, normalize_avg_row= True, similarity_from_distance_mode= 'exp', normalize= False) \n",
    "recs.append(bert)\n",
    "\n",
    "contrastive = ItemKNNCBFRecommender(URM_train=URM_train,ICM_train=ICMs[6])\n",
    "contrastive.fit(similarity= 'asymmetric', topK= 192, shrink= 569, asymmetric_alpha= 0.9094884938503743) \n",
    "recs.append(contrastive)\n",
    "\n",
    "emotion = ItemKNNCBFRecommender(URM_train=URM_train,ICM_train=ICMs[5])\n",
    "emotion.fit(similarity= 'euclidean', topK= 1099, shrink= 752, normalize_avg_row= True, similarity_from_distance_mode= 'lin', normalize= False) \n",
    "recs.append(emotion)\n",
    "\n",
    "roberta = ItemKNNCBFRecommender(URM_train=URM_train,ICM_train=ICMs[3])\n",
    "roberta.fit(similarity= 'cosine', topK= 363, shrink= 29) \n",
    "recs.append(roberta)\n",
    "\n",
    "w_2_vec = ItemKNNCBFRecommender(URM_train=URM_train,ICM_train=ICMs[4])\n",
    "w_2_vec.fit(similarity= 'cosine', topK= 359, shrink= 562) \n",
    "recs.append(w_2_vec)\n",
    "\n",
    "kenneth = ItemKNNCBFRecommender(URM_train=URM_train,ICM_train=ICMs[0])\n",
    "kenneth.fit(similarity= 'asymmetric', topK= 303, shrink= 574, asymmetric_alpha= 1.7852169782747023) \n",
    "recs.append(kenneth)\n",
    "\n",
    "distilbert = ItemKNNCBFRecommender(URM_train=URM_train,ICM_train=ICMs[1])\n",
    "distilbert.fit(similarity= 'asymmetric', topK= 921, shrink= 1, asymmetric_alpha= 0.774522157812755) \n",
    "recs.append(distilbert)\n",
    "\n",
    "\n",
    "\n",
    "recsys_features = build_recsys_features(history=history_train.vstack(history_val).vstack(history_test),behaviors=behaviors_test,articles=articles,recs=recs)"
   ]
  },
  {
   "cell_type": "code",
   "execution_count": 53,
   "metadata": {},
   "outputs": [
    {
     "data": {
      "text/html": [
       "<div><style>\n",
       ".dataframe > thead > tr,\n",
       ".dataframe > tbody > tr {\n",
       "  text-align: right;\n",
       "  white-space: pre-wrap;\n",
       "}\n",
       "</style>\n",
       "<small>shape: (2_585_747, 15)</small><table border=\"1\" class=\"dataframe\"><thead><tr><th>impression_id</th><th>article</th><th>user_id</th><th>recs0</th><th>recs1</th><th>recs2</th><th>recs3</th><th>recs4</th><th>recs5</th><th>recs6</th><th>recs7</th><th>recs8</th><th>recs9</th><th>recs10</th><th>recs11</th></tr><tr><td>u32</td><td>i32</td><td>u32</td><td>f32</td><td>f32</td><td>f32</td><td>f32</td><td>f32</td><td>f32</td><td>f32</td><td>f32</td><td>f32</td><td>f32</td><td>f32</td><td>f32</td></tr></thead><tbody><tr><td>556008624</td><td>9193263</td><td>10068</td><td>0.00606</td><td>0.0</td><td>0.0</td><td>0.0</td><td>0.0</td><td>0.0</td><td>1.859136</td><td>0.0</td><td>0.0</td><td>0.00011</td><td>0.000007</td><td>0.0</td></tr><tr><td>556008624</td><td>9695098</td><td>10068</td><td>0.00303</td><td>0.0</td><td>0.0</td><td>0.0</td><td>0.0</td><td>0.0</td><td>0.964248</td><td>0.0</td><td>0.002663</td><td>0.009685</td><td>0.008015</td><td>0.003995</td></tr><tr><td>556008624</td><td>9758734</td><td>10068</td><td>0.00606</td><td>0.0</td><td>0.00133</td><td>0.0</td><td>0.0</td><td>0.0</td><td>1.951973</td><td>0.0</td><td>0.0</td><td>0.003549</td><td>0.000875</td><td>0.006811</td></tr><tr><td>385198819</td><td>9762352</td><td>10068</td><td>0.003029</td><td>0.0</td><td>0.0</td><td>0.923436</td><td>0.001626</td><td>0.0</td><td>1.946012</td><td>0.0</td><td>0.005326</td><td>0.02905</td><td>0.029936</td><td>0.006742</td></tr><tr><td>556008624</td><td>9772548</td><td>10068</td><td>0.00303</td><td>0.0</td><td>0.002659</td><td>0.923489</td><td>0.0</td><td>0.0</td><td>3.903791</td><td>0.0</td><td>0.0</td><td>0.0</td><td>0.0</td><td>0.0</td></tr><tr><td>&hellip;</td><td>&hellip;</td><td>&hellip;</td><td>&hellip;</td><td>&hellip;</td><td>&hellip;</td><td>&hellip;</td><td>&hellip;</td><td>&hellip;</td><td>&hellip;</td><td>&hellip;</td><td>&hellip;</td><td>&hellip;</td><td>&hellip;</td><td>&hellip;</td></tr><tr><td>567760513</td><td>9779705</td><td>2590637</td><td>0.018178</td><td>0.000884</td><td>0.00133</td><td>0.923348</td><td>0.0</td><td>0.000948</td><td>0.957195</td><td>0.0</td><td>0.0</td><td>0.0</td><td>0.0</td><td>0.0</td></tr><tr><td>567760515</td><td>9779705</td><td>2590637</td><td>0.018178</td><td>0.000884</td><td>0.00133</td><td>0.923348</td><td>0.0</td><td>0.000948</td><td>0.957195</td><td>0.0</td><td>0.0</td><td>0.0</td><td>0.0</td><td>0.0</td></tr><tr><td>567760515</td><td>9779723</td><td>2590637</td><td>0.021207</td><td>0.001255</td><td>0.003989</td><td>1.846684</td><td>0.001684</td><td>0.003742</td><td>1.887389</td><td>0.0</td><td>0.0</td><td>0.0</td><td>0.0</td><td>0.0</td></tr><tr><td>567760513</td><td>9779723</td><td>2590637</td><td>0.021207</td><td>0.001255</td><td>0.003989</td><td>1.846684</td><td>0.001684</td><td>0.003742</td><td>1.887389</td><td>0.0</td><td>0.0</td><td>0.0</td><td>0.0</td><td>0.0</td></tr><tr><td>567760515</td><td>9779738</td><td>2590637</td><td>0.012119</td><td>0.0</td><td>0.009307</td><td>0.0</td><td>0.00166</td><td>0.001244</td><td>4.703426</td><td>0.0</td><td>0.0</td><td>0.0</td><td>0.0</td><td>0.0</td></tr></tbody></table></div>"
      ],
      "text/plain": [
       "shape: (2_585_747, 15)\n",
       "┌───────────────┬─────────┬─────────┬──────────┬───┬──────────┬──────────┬──────────┬──────────┐\n",
       "│ impression_id ┆ article ┆ user_id ┆ recs0    ┆ … ┆ recs8    ┆ recs9    ┆ recs10   ┆ recs11   │\n",
       "│ ---           ┆ ---     ┆ ---     ┆ ---      ┆   ┆ ---      ┆ ---      ┆ ---      ┆ ---      │\n",
       "│ u32           ┆ i32     ┆ u32     ┆ f32      ┆   ┆ f32      ┆ f32      ┆ f32      ┆ f32      │\n",
       "╞═══════════════╪═════════╪═════════╪══════════╪═══╪══════════╪══════════╪══════════╪══════════╡\n",
       "│ 556008624     ┆ 9193263 ┆ 10068   ┆ 0.00606  ┆ … ┆ 0.0      ┆ 0.00011  ┆ 0.000007 ┆ 0.0      │\n",
       "│ 556008624     ┆ 9695098 ┆ 10068   ┆ 0.00303  ┆ … ┆ 0.002663 ┆ 0.009685 ┆ 0.008015 ┆ 0.003995 │\n",
       "│ 556008624     ┆ 9758734 ┆ 10068   ┆ 0.00606  ┆ … ┆ 0.0      ┆ 0.003549 ┆ 0.000875 ┆ 0.006811 │\n",
       "│ 385198819     ┆ 9762352 ┆ 10068   ┆ 0.003029 ┆ … ┆ 0.005326 ┆ 0.02905  ┆ 0.029936 ┆ 0.006742 │\n",
       "│ 556008624     ┆ 9772548 ┆ 10068   ┆ 0.00303  ┆ … ┆ 0.0      ┆ 0.0      ┆ 0.0      ┆ 0.0      │\n",
       "│ …             ┆ …       ┆ …       ┆ …        ┆ … ┆ …        ┆ …        ┆ …        ┆ …        │\n",
       "│ 567760513     ┆ 9779705 ┆ 2590637 ┆ 0.018178 ┆ … ┆ 0.0      ┆ 0.0      ┆ 0.0      ┆ 0.0      │\n",
       "│ 567760515     ┆ 9779705 ┆ 2590637 ┆ 0.018178 ┆ … ┆ 0.0      ┆ 0.0      ┆ 0.0      ┆ 0.0      │\n",
       "│ 567760515     ┆ 9779723 ┆ 2590637 ┆ 0.021207 ┆ … ┆ 0.0      ┆ 0.0      ┆ 0.0      ┆ 0.0      │\n",
       "│ 567760513     ┆ 9779723 ┆ 2590637 ┆ 0.021207 ┆ … ┆ 0.0      ┆ 0.0      ┆ 0.0      ┆ 0.0      │\n",
       "│ 567760515     ┆ 9779738 ┆ 2590637 ┆ 0.012119 ┆ … ┆ 0.0      ┆ 0.0      ┆ 0.0      ┆ 0.0      │\n",
       "└───────────────┴─────────┴─────────┴──────────┴───┴──────────┴──────────┴──────────┴──────────┘"
      ]
     },
     "execution_count": 53,
     "metadata": {},
     "output_type": "execute_result"
    }
   ],
   "source": [
    "recsys_features"
   ]
  },
  {
   "cell_type": "code",
   "execution_count": null,
   "metadata": {},
   "outputs": [],
   "source": [
    "couple = {\n",
    "    'recs0': 'kenneth_emb_icm',\n",
    "    'recs1': 'distilbert_emb_icm',\n",
    "    'recs2': 'bert_emb_icm',\n",
    "    'recs3': 'roberta_emb_icm',\n",
    "    'recs4': 'distilbert_emb_icm',\n",
    "    'recs5': 'emotions_emb_icm',\n",
    "    'recs6': 'constrastive_emb_icm'\n",
    "}\n",
    "\n",
    "\n",
    "for col in recsys_features.columns:\n",
    "    if couple[col] != None:\n",
    "        recsys_features = recsys_features.rename({col: couple[col]})"
   ]
  },
  {
   "cell_type": "code",
   "execution_count": null,
   "metadata": {},
   "outputs": [],
   "source": [
    "NORMALIZE_OVER_USER_ID = [\n",
    "    'kenneth_emb_icm',\n",
    "    'distilbert_emb_icm',\n",
    "    'bert_emb_icm',\n",
    "    'roberta_emb_icm',\n",
    "    'distilbert_emb_icm',\n",
    "    'emotions_emb_icm',\n",
    "    'constrastive_emb_icm'\n",
    "]\n",
    "NORMALIZE_OVER_ARTICLE = [\n",
    "    'kenneth_emb_icm',\n",
    "    'distilbert_emb_icm',\n",
    "    'bert_emb_icm',\n",
    "    'roberta_emb_icm',\n",
    "    'distilbert_emb_icm',\n",
    "    'emotions_emb_icm',\n",
    "    'constrastive_emb_icm'\n",
    "]\n",
    "\n",
    "\n",
    "recsys_features = recsys_features.with_columns(\n",
    "    \n",
    "    *[(pl.col(c) / pl.col(c).max().over(pl.col('user_id'))).alias(f'{c}_l_inf_user_id')\n",
    "      for c in NORMALIZE_OVER_USER_ID],\n",
    "    *[pl.col(c).std().over(pl.col('user_id')).alias(f'std_user_id_{c}')\n",
    "      for c in NORMALIZE_OVER_USER_ID],\n",
    "    *[pl.col(c).skew().over(pl.col('user_id')).alias(f'skew_user_id_{c}')\n",
    "      for c in NORMALIZE_OVER_USER_ID],\n",
    "    *[pl.col(c).kurtosis().over(pl.col('user_id')).alias(f'kurtosis_user_id_{c}')\n",
    "      for c in NORMALIZE_OVER_USER_ID],\n",
    "    *[pl.col(c).entropy().over(pl.col('user_id')).alias(f'entropy_user_id_{c}')\n",
    "      for c in NORMALIZE_OVER_USER_ID],\n",
    "    *[(pl.col(c) - pl.col(c).median().over(pl.col('user_id'))).alias(f'{c}_minus_median_user_id')\n",
    "      for c in NORMALIZE_OVER_USER_ID],\n",
    "\n",
    "    *[(pl.col(c) / pl.col(c).max().over(pl.col('article'))).alias(f'{c}_l_inf_article')\n",
    "      for c in NORMALIZE_OVER_ARTICLE],\n",
    "    *[pl.col(c).std().over(pl.col('article')).alias(f'std_article_{c}')\n",
    "      for c in NORMALIZE_OVER_ARTICLE],\n",
    "    *[pl.col(c).skew().over(pl.col('article')).alias(f'skew_article_{c}')\n",
    "      for c in NORMALIZE_OVER_ARTICLE],\n",
    "    *[pl.col(c).kurtosis().over(pl.col('article')).alias(f'kurtosis_article_{c}')\n",
    "      for c in NORMALIZE_OVER_ARTICLE],\n",
    "    *[pl.col(c).entropy().over(pl.col('article')).alias(f'entropy_article_{c}')\n",
    "      for c in NORMALIZE_OVER_ARTICLE],\n",
    "    *[(pl.col(c) - pl.col(c).median().over(pl.col('article'))).alias(f'{c}_minus_median_article')\n",
    "      for c in NORMALIZE_OVER_ARTICLE],\n",
    "\n",
    "\n",
    ")"
   ]
  },
  {
   "cell_type": "code",
   "execution_count": null,
   "metadata": {},
   "outputs": [],
   "source": [
    "recsys_features"
   ]
  },
  {
   "cell_type": "code",
   "execution_count": null,
   "metadata": {},
   "outputs": [],
   "source": [
    "recsys_features.write_parquet(Path('/home/ubuntu/recsys_features/testset.parquet'))"
   ]
  }
 ],
 "metadata": {
  "kernelspec": {
   "display_name": ".venv",
   "language": "python",
   "name": "python3"
  },
  "language_info": {
   "codemirror_mode": {
    "name": "ipython",
    "version": 3
   },
   "file_extension": ".py",
   "mimetype": "text/x-python",
   "name": "python",
   "nbconvert_exporter": "python",
   "pygments_lexer": "ipython3",
   "version": "3.10.12"
  }
 },
 "nbformat": 4,
 "nbformat_minor": 2
}
