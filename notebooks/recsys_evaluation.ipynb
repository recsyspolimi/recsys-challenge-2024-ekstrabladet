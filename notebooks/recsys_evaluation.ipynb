{
 "cells": [
  {
   "cell_type": "code",
   "execution_count": 8,
   "metadata": {},
   "outputs": [],
   "source": [
    "import polars as pl\n",
    "import numpy as np\n",
    "import pandas as pd\n",
    "import matplotlib.pyplot as plt\n",
    "import seaborn as sns\n",
    "from pathlib import Path\n",
    "import polars as pl\n",
    "import scipy.stats as stats\n",
    "import scipy.sparse as sps\n",
    "import gc\n",
    "import tqdm"
   ]
  },
  {
   "cell_type": "code",
   "execution_count": 9,
   "metadata": {},
   "outputs": [
    {
     "name": "stdout",
     "output_type": "stream",
     "text": [
      "\u001b[1m\u001b[31m\n",
      "RAM memory GB usage = 1.692\u001b[0m\n"
     ]
    }
   ],
   "source": [
    "from os import system, getpid, walk\n",
    "from psutil import Process\n",
    "from colorama import Fore, Style, init\n",
    "from IPython.display import display, HTML\n",
    "\n",
    "def PrintColor(text:str, color = Fore.BLUE, style = Style.BRIGHT):\n",
    "    print(style + color + text + Style.RESET_ALL)\n",
    "    \n",
    "def GetMemUsage():   \n",
    "    pid = getpid()\n",
    "    py = Process(pid)\n",
    "    memory_use = py.memory_info()[0] / 2. ** 30\n",
    "    return f\"RAM memory GB usage = {memory_use :.4}\"\n",
    "\n",
    "PrintColor(f\"\\n\" + GetMemUsage(), color = Fore.RED)"
   ]
  },
  {
   "cell_type": "code",
   "execution_count": 10,
   "metadata": {},
   "outputs": [],
   "source": [
    "def reduce_polars_df_memory_size(df, set_categorical=True):\n",
    "\n",
    "    start_mem = df.estimated_size('mb')\n",
    "    print('Memory usage of dataframe is {:.2f} MB'.format(start_mem))\n",
    "    \n",
    "    for col in df.columns:\n",
    "        col_type = df[col].dtype\n",
    "        \n",
    "        if col_type in [pl.Int16, pl.Int32, pl.Int64]:\n",
    "            c_min = df[col].fill_null(0).min()\n",
    "            c_max = df[col].fill_null(0).max()\n",
    "            if c_min > np.iinfo(np.int8).min and c_max < np.iinfo(np.int8).max:\n",
    "                df = df.with_columns(pl.col(col).cast(pl.Int8))\n",
    "            elif c_min > np.iinfo(np.int16).min and c_max < np.iinfo(np.int16).max:\n",
    "                df = df.with_columns(pl.col(col).cast(pl.Int16))\n",
    "            elif c_min > np.iinfo(np.int32).min and c_max < np.iinfo(np.int32).max:\n",
    "                df = df.with_columns(pl.col(col).cast(pl.Int32))\n",
    "        elif col_type in [pl.UInt16, pl.UInt32, pl.UInt64]:\n",
    "            c_min = df[col].fill_null(0).min()\n",
    "            c_max = df[col].fill_null(0).max()\n",
    "            if c_min > np.iinfo(np.uint8).min and c_max < np.iinfo(np.uint8).max:\n",
    "                df = df.with_columns(pl.col(col).cast(pl.UInt8))\n",
    "            elif c_min > np.iinfo(np.uint16).min and c_max < np.iinfo(np.uint16).max:\n",
    "                df = df.with_columns(pl.col(col).cast(pl.UInt16))\n",
    "            elif c_min > np.iinfo(np.uint32).min and c_max < np.iinfo(np.uint32).max:\n",
    "                df = df.with_columns(pl.col(col).cast(pl.UInt32))\n",
    "        elif col_type == pl.Float64:\n",
    "            c_min = df[col].fill_null(0).min()\n",
    "            c_max = df[col].fill_null(0).max()\n",
    "            if c_min > np.finfo(np.float32).min and c_max < np.finfo(np.float32).max:\n",
    "                df = df.with_columns(pl.col(col).cast(pl.Float32))\n",
    "\n",
    "    gc.collect()\n",
    "    end_mem = df.estimated_size('mb')\n",
    "    print('Memory usage after optimization is: {:.2f} MB'.format(end_mem))\n",
    "    print('Decreased by {:.1f}%'.format(100 * (start_mem - end_mem) / start_mem))\n",
    "    \n",
    "    return df"
   ]
  },
  {
   "cell_type": "code",
   "execution_count": 11,
   "metadata": {},
   "outputs": [
    {
     "name": "stdout",
     "output_type": "stream",
     "text": [
      "\u001b[1m\u001b[31m\n",
      "RAM memory GB usage = 2.033\u001b[0m\n"
     ]
    }
   ],
   "source": [
    "articles = pl.read_parquet('/home/ubuntu/dataset/ebnerd_small/articles.parquet')\n",
    "\n",
    "behaviors_train = pl.read_parquet('/home/ubuntu/dataset/ebnerd_small/train/behaviors.parquet')\n",
    "history_train = pl.read_parquet('/home/ubuntu/dataset/ebnerd_small/train/history.parquet')\n",
    "\n",
    "behaviors_val = pl.read_parquet('/home/ubuntu/dataset/ebnerd_small/validation/behaviors.parquet')\n",
    "history_val = pl.read_parquet('/home/ubuntu/dataset/ebnerd_small/validation/history.parquet')\n",
    "\n",
    "contrastive_vector = pl.read_parquet('/home/ubuntu/dataset/Ekstra_Bladet_contrastive_vector/contrastive_vector.parquet')\n",
    "\n",
    "gc.collect()\n",
    "PrintColor(f\"\\n\" + GetMemUsage(), color = Fore.RED)"
   ]
  },
  {
   "cell_type": "code",
   "execution_count": 12,
   "metadata": {},
   "outputs": [
    {
     "data": {
      "text/plain": [
       "['PROD', 'PER', 'EVENT', 'LOC', 'ORG', 'MISC']"
      ]
     },
     "execution_count": 12,
     "metadata": {},
     "output_type": "execute_result"
    }
   ],
   "source": [
    "unique_entities = articles.select('entity_groups').explode('entity_groups')['entity_groups'].unique().to_list()\n",
    "unique_entities = [e for e in unique_entities if e is not None]\n",
    "unique_entities"
   ]
  },
  {
   "cell_type": "code",
   "execution_count": 13,
   "metadata": {},
   "outputs": [
    {
     "data": {
      "text/html": [
       "<div><style>\n",
       ".dataframe > thead > tr,\n",
       ".dataframe > tbody > tr {\n",
       "  text-align: right;\n",
       "  white-space: pre-wrap;\n",
       "}\n",
       "</style>\n",
       "<small>shape: (702_831, 254)</small><table border=\"1\" class=\"dataframe\"><thead><tr><th>impression_id</th><th>user_id</th><th>article</th><th>target</th><th>device_type</th><th>read_time</th><th>scroll_percentage</th><th>is_sso_user</th><th>gender</th><th>age</th><th>is_subscriber</th><th>postcode</th><th>trendiness_score_1d</th><th>trendiness_score_3d</th><th>trendiness_score_5d</th><th>weekday</th><th>hour</th><th>trendiness_score_1d/3d</th><th>trendiness_score_1d/5d</th><th>normalized_trendiness_score_overall</th><th>premium</th><th>category</th><th>sentiment_score</th><th>sentiment_label</th><th>num_images</th><th>title_len</th><th>subtitle_len</th><th>body_len</th><th>num_topics</th><th>total_pageviews</th><th>total_inviews</th><th>total_read_time</th><th>total_pageviews/inviews</th><th>article_type</th><th>article_delay_days</th><th>article_delay_hours</th><th>Entity_EVENT_Present</th><th>&hellip;</th><th>entropy_impression_endorsement_10h</th><th>entropy_impression_total_pageviews/inviews</th><th>entropy_impression_mean_JS</th><th>entropy_impression_mean_topic_model_cosine</th><th>entropy_impression_topics_cosine</th><th>entropy_impression_article_delay_hours</th><th>entropy_impression_total_pageviews</th><th>entropy_impression_total_inviews</th><th>entropy_impression_trendiness_score_category</th><th>entropy_impression_std_JS</th><th>entropy_impression_trendiness_score_5d</th><th>entropy_impression_total_read_time</th><th>trendiness_score_3d_minus_median_impression</th><th>endorsement_10h_minus_median_impression</th><th>total_pageviews/inviews_minus_median_impression</th><th>mean_JS_minus_median_impression</th><th>mean_topic_model_cosine_minus_median_impression</th><th>topics_cosine_minus_median_impression</th><th>article_delay_hours_minus_median_impression</th><th>total_pageviews_minus_median_impression</th><th>total_inviews_minus_median_impression</th><th>trendiness_score_category_minus_median_impression</th><th>std_JS_minus_median_impression</th><th>trendiness_score_5d_minus_median_impression</th><th>total_read_time_minus_median_impression</th><th>mean_JS_l_inf_user</th><th>std_JS_l_inf_user</th><th>mean_topic_model_cosine_l_inf_user</th><th>topics_cosine_l_inf_user</th><th>article_delay_hours_l_inf_article</th><th>mean_JS_l_inf_article</th><th>std_JS_l_inf_article</th><th>mean_topic_model_cosine_l_inf_article</th><th>topics_cosine_l_inf_article</th><th>category_diversity_impression</th><th>sentiment_label_diversity_impression</th><th>article_type_diversity_impression</th></tr><tr><td>u32</td><td>u32</td><td>i32</td><td>i8</td><td>i8</td><td>f32</td><td>f32</td><td>bool</td><td>i8</td><td>i8</td><td>bool</td><td>i8</td><td>i16</td><td>i16</td><td>i16</td><td>i8</td><td>i8</td><td>f32</td><td>f32</td><td>f32</td><td>bool</td><td>i16</td><td>f32</td><td>str</td><td>u32</td><td>u8</td><td>u8</td><td>u16</td><td>u32</td><td>i32</td><td>i32</td><td>f32</td><td>f32</td><td>str</td><td>i16</td><td>i32</td><td>bool</td><td>&hellip;</td><td>f64</td><td>f32</td><td>f32</td><td>f32</td><td>f32</td><td>f64</td><td>f64</td><td>f64</td><td>f64</td><td>f32</td><td>f64</td><td>f32</td><td>f64</td><td>f64</td><td>f32</td><td>f32</td><td>f32</td><td>f32</td><td>f64</td><td>f64</td><td>f64</td><td>f64</td><td>f32</td><td>f64</td><td>f32</td><td>f32</td><td>f32</td><td>f32</td><td>f32</td><td>f64</td><td>f32</td><td>f32</td><td>f32</td><td>f32</td><td>u32</td><td>u32</td><td>u32</td></tr></thead><tbody><tr><td>149474</td><td>139836</td><td>9778728</td><td>0</td><td>2</td><td>13.0</td><td>null</td><td>false</td><td>2</td><td>null</td><td>false</td><td>5</td><td>150</td><td>521</td><td>836</td><td>3</td><td>7</td><td>0.287908</td><td>0.179426</td><td>0.880068</td><td>false</td><td>142</td><td>0.9654</td><td>&quot;Negative&quot;</td><td>1</td><td>5</td><td>18</td><td>251</td><td>7</td><td>22415</td><td>220247</td><td>1.004828e6</td><td>0.101772</td><td>&quot;article_default&quot;</td><td>0</td><td>0</td><td>true</td><td>&hellip;</td><td>1.622597</td><td>1.726481</td><td>1.747889</td><td>1.788942</td><td>1.689578</td><td>NaN</td><td>1.613433</td><td>1.737743</td><td>1.612282</td><td>1.739272</td><td>1.676222</td><td>1.558951</td><td>281.5</td><td>-873.5</td><td>-0.111306</td><td>-0.005177</td><td>0.091665</td><td>-0.02667</td><td>-1.0</td><td>-62463.5</td><td>-165503.0</td><td>4.0</td><td>-0.033664</td><td>447.5</td><td>-4.981345e6</td><td>0.447581</td><td>0.403328</td><td>0.96685</td><td>0.36119</td><td>0.0</td><td>0.233531</td><td>0.335164</td><td>0.908604</td><td>0.301919</td><td>4</td><td>3</td><td>1</td></tr><tr><td>149474</td><td>139836</td><td>9778669</td><td>0</td><td>2</td><td>13.0</td><td>null</td><td>false</td><td>2</td><td>null</td><td>false</td><td>5</td><td>85</td><td>199</td><td>313</td><td>3</td><td>7</td><td>0.427136</td><td>0.271565</td><td>0.336149</td><td>false</td><td>118</td><td>0.9481</td><td>&quot;Negative&quot;</td><td>1</td><td>5</td><td>11</td><td>150</td><td>4</td><td>74491</td><td>373488</td><td>4.365609e6</td><td>0.199447</td><td>&quot;article_default&quot;</td><td>0</td><td>1</td><td>false</td><td>&hellip;</td><td>1.622597</td><td>1.726481</td><td>1.747889</td><td>1.788942</td><td>1.689578</td><td>NaN</td><td>1.613433</td><td>1.737743</td><td>1.612282</td><td>1.739272</td><td>1.676222</td><td>1.558951</td><td>-40.5</td><td>179.5</td><td>-0.013631</td><td>0.003967</td><td>-0.050146</td><td>0.015762</td><td>0.0</td><td>-10387.5</td><td>-12262.0</td><td>0.0</td><td>0.028015</td><td>-75.5</td><td>-1.620564e6</td><td>0.501163</td><td>0.632488</td><td>0.797317</td><td>0.437299</td><td>0.043478</td><td>0.266627</td><td>0.511387</td><td>0.789201</td><td>0.319083</td><td>4</td><td>3</td><td>1</td></tr><tr><td>149474</td><td>139836</td><td>9778657</td><td>1</td><td>2</td><td>13.0</td><td>null</td><td>false</td><td>2</td><td>null</td><td>false</td><td>5</td><td>45</td><td>117</td><td>183</td><td>3</td><td>7</td><td>0.384615</td><td>0.245902</td><td>0.197635</td><td>false</td><td>118</td><td>0.8347</td><td>&quot;Neutral&quot;</td><td>2</td><td>6</td><td>31</td><td>336</td><td>3</td><td>108389</td><td>478098</td><td>7.606737e6</td><td>0.226709</td><td>&quot;article_default&quot;</td><td>0</td><td>1</td><td>false</td><td>&hellip;</td><td>1.622597</td><td>1.726481</td><td>1.747889</td><td>1.788942</td><td>1.689578</td><td>NaN</td><td>1.613433</td><td>1.737743</td><td>1.612282</td><td>1.739272</td><td>1.676222</td><td>1.558951</td><td>-122.5</td><td>368.5</td><td>0.013631</td><td>0.05309</td><td>0.005468</td><td>0.218611</td><td>0.0</td><td>23510.5</td><td>92348.0</td><td>0.0</td><td>0.051035</td><td>-205.5</td><td>1.620564e6</td><td>0.78901</td><td>0.718014</td><td>0.863803</td><td>0.801144</td><td>0.066667</td><td>0.350947</td><td>0.730242</td><td>0.840012</td><td>0.604487</td><td>4</td><td>3</td><td>1</td></tr><tr><td>150528</td><td>143471</td><td>9778682</td><td>0</td><td>2</td><td>25.0</td><td>null</td><td>false</td><td>2</td><td>null</td><td>false</td><td>5</td><td>69</td><td>206</td><td>334</td><td>3</td><td>7</td><td>0.334951</td><td>0.206587</td><td>0.347973</td><td>false</td><td>498</td><td>0.9546</td><td>&quot;Negative&quot;</td><td>1</td><td>5</td><td>20</td><td>267</td><td>3</td><td>143520</td><td>455723</td><td>9.298546e6</td><td>0.314928</td><td>&quot;article_default&quot;</td><td>0</td><td>1</td><td>true</td><td>&hellip;</td><td>1.712983</td><td>2.137333</td><td>2.093172</td><td>2.19456</td><td>2.100994</td><td>NaN</td><td>2.063931</td><td>2.158165</td><td>1.924178</td><td>2.126514</td><td>1.946778</td><td>2.008479</td><td>7.0</td><td>204.0</td><td>0.088219</td><td>0.013219</td><td>0.095761</td><td>-0.001332</td><td>1.0</td><td>48254.0</td><td>82235.0</td><td>-47.0</td><td>0.013249</td><td>21.0</td><td>4.223417e6</td><td>0.793928</td><td>0.732491</td><td>0.94067</td><td>0.581838</td><td>0.041667</td><td>0.299855</td><td>0.536061</td><td>0.891664</td><td>0.447169</td><td>6</td><td>3</td><td>1</td></tr><tr><td>150528</td><td>143471</td><td>9778669</td><td>0</td><td>2</td><td>25.0</td><td>null</td><td>false</td><td>2</td><td>null</td><td>false</td><td>5</td><td>85</td><td>199</td><td>313</td><td>3</td><td>7</td><td>0.427136</td><td>0.271565</td><td>0.336149</td><td>false</td><td>118</td><td>0.9481</td><td>&quot;Negative&quot;</td><td>1</td><td>5</td><td>11</td><td>150</td><td>4</td><td>74491</td><td>373488</td><td>4.365609e6</td><td>0.199447</td><td>&quot;article_default&quot;</td><td>0</td><td>1</td><td>false</td><td>&hellip;</td><td>1.712983</td><td>2.137333</td><td>2.093172</td><td>2.19456</td><td>2.100994</td><td>NaN</td><td>2.063931</td><td>2.158165</td><td>1.924178</td><td>2.126514</td><td>1.946778</td><td>2.008479</td><td>0.0</td><td>598.0</td><td>-0.027262</td><td>0.025741</td><td>-0.061045</td><td>0.159455</td><td>1.0</td><td>-20775.0</td><td>0.0</td><td>62.0</td><td>0.007517</td><td>0.0</td><td>-709520.0</td><td>0.881599</td><td>0.709201</td><td>0.756751</td><td>0.871154</td><td>0.043478</td><td>0.392552</td><td>0.524339</td><td>0.763467</td><td>0.633637</td><td>6</td><td>3</td><td>1</td></tr><tr><td>&hellip;</td><td>&hellip;</td><td>&hellip;</td><td>&hellip;</td><td>&hellip;</td><td>&hellip;</td><td>&hellip;</td><td>&hellip;</td><td>&hellip;</td><td>&hellip;</td><td>&hellip;</td><td>&hellip;</td><td>&hellip;</td><td>&hellip;</td><td>&hellip;</td><td>&hellip;</td><td>&hellip;</td><td>&hellip;</td><td>&hellip;</td><td>&hellip;</td><td>&hellip;</td><td>&hellip;</td><td>&hellip;</td><td>&hellip;</td><td>&hellip;</td><td>&hellip;</td><td>&hellip;</td><td>&hellip;</td><td>&hellip;</td><td>&hellip;</td><td>&hellip;</td><td>&hellip;</td><td>&hellip;</td><td>&hellip;</td><td>&hellip;</td><td>&hellip;</td><td>&hellip;</td><td>&hellip;</td><td>&hellip;</td><td>&hellip;</td><td>&hellip;</td><td>&hellip;</td><td>&hellip;</td><td>&hellip;</td><td>&hellip;</td><td>&hellip;</td><td>&hellip;</td><td>&hellip;</td><td>&hellip;</td><td>&hellip;</td><td>&hellip;</td><td>&hellip;</td><td>&hellip;</td><td>&hellip;</td><td>&hellip;</td><td>&hellip;</td><td>&hellip;</td><td>&hellip;</td><td>&hellip;</td><td>&hellip;</td><td>&hellip;</td><td>&hellip;</td><td>&hellip;</td><td>&hellip;</td><td>&hellip;</td><td>&hellip;</td><td>&hellip;</td><td>&hellip;</td><td>&hellip;</td><td>&hellip;</td><td>&hellip;</td><td>&hellip;</td><td>&hellip;</td><td>&hellip;</td><td>&hellip;</td></tr><tr><td>580100695</td><td>2110744</td><td>9769917</td><td>0</td><td>1</td><td>5.0</td><td>100.0</td><td>false</td><td>2</td><td>null</td><td>false</td><td>5</td><td>46</td><td>105</td><td>152</td><td>4</td><td>10</td><td>0.438095</td><td>0.302632</td><td>0.203883</td><td>true</td><td>140</td><td>0.989</td><td>&quot;Negative&quot;</td><td>4</td><td>5</td><td>32</td><td>826</td><td>2</td><td>203222</td><td>2163455</td><td>1.2661448e7</td><td>0.093934</td><td>&quot;article_default&quot;</td><td>0</td><td>17</td><td>false</td><td>&hellip;</td><td>1.570477</td><td>1.037743</td><td>1.826027</td><td>1.940373</td><td>1.748273</td><td>1.200948</td><td>1.060549</td><td>0.924248</td><td>1.757789</td><td>1.898659</td><td>1.762101</td><td>0.913896</td><td>-50.0</td><td>1404.0</td><td>-0.114787</td><td>0.002116</td><td>-0.103502</td><td>0.0</td><td>-4373.0</td><td>4017.0</td><td>1.209047e6</td><td>18.0</td><td>0.088883</td><td>-79.0</td><td>0.0</td><td>0.582369</td><td>0.927592</td><td>0.682434</td><td>0.472501</td><td>0.093407</td><td>0.120789</td><td>0.389978</td><td>0.696381</td><td>0.268713</td><td>4</td><td>3</td><td>2</td></tr><tr><td>580100695</td><td>2110744</td><td>9767697</td><td>1</td><td>1</td><td>5.0</td><td>100.0</td><td>false</td><td>2</td><td>null</td><td>false</td><td>5</td><td>50</td><td>187</td><td>238</td><td>4</td><td>10</td><td>0.26738</td><td>0.210084</td><td>0.363107</td><td>false</td><td>118</td><td>0.9613</td><td>&quot;Negative&quot;</td><td>5</td><td>7</td><td>2</td><td>982</td><td>3</td><td>199205</td><td>954408</td><td>2.595362e7</td><td>0.208721</td><td>&quot;article_default&quot;</td><td>0</td><td>3</td><td>false</td><td>&hellip;</td><td>1.570477</td><td>1.037743</td><td>1.826027</td><td>1.940373</td><td>1.748273</td><td>1.200948</td><td>1.060549</td><td>0.924248</td><td>1.757789</td><td>1.898659</td><td>1.762101</td><td>0.913896</td><td>32.0</td><td>1339.0</td><td>0.0</td><td>0.035035</td><td>0.028725</td><td>0.237915</td><td>-4387.0</td><td>0.0</td><td>0.0</td><td>47.0</td><td>0.051003</td><td>7.0</td><td>1.3292172e7</td><td>0.80426</td><td>0.763092</td><td>0.836592</td><td>0.908091</td><td>0.017964</td><td>0.287404</td><td>0.373625</td><td>0.779936</td><td>0.597165</td><td>4</td><td>3</td><td>2</td></tr><tr><td>580100697</td><td>2110744</td><td>9770997</td><td>0</td><td>1</td><td>14.0</td><td>100.0</td><td>false</td><td>2</td><td>null</td><td>false</td><td>5</td><td>32</td><td>78</td><td>136</td><td>4</td><td>10</td><td>0.410256</td><td>0.235294</td><td>0.151456</td><td>false</td><td>414</td><td>0.845</td><td>&quot;Positive&quot;</td><td>1</td><td>5</td><td>18</td><td>164</td><td>4</td><td>110632</td><td>485698</td><td>5.034287e6</td><td>0.227779</td><td>&quot;article_default&quot;</td><td>0</td><td>3</td><td>false</td><td>&hellip;</td><td>1.708204</td><td>1.083186</td><td>1.954657</td><td>2.070895</td><td>1.949265</td><td>1.455156</td><td>0.965362</td><td>0.915239</td><td>1.841282</td><td>2.033027</td><td>1.795838</td><td>0.937667</td><td>-47.5</td><td>1339.5</td><td>0.066013</td><td>-0.020815</td><td>0.014447</td><td>-0.035568</td><td>-4786.0</td><td>0.0</td><td>0.0</td><td>0.0</td><td>-0.032977</td><td>-64.5</td><td>0.0</td><td>0.162473</td><td>0.29199</td><td>0.836789</td><td>0.177689</td><td>0.018072</td><td>0.172841</td><td>0.384146</td><td>0.818583</td><td>0.204345</td><td>5</td><td>3</td><td>2</td></tr><tr><td>580100697</td><td>2110744</td><td>9514481</td><td>0</td><td>1</td><td>14.0</td><td>100.0</td><td>false</td><td>2</td><td>null</td><td>false</td><td>5</td><td>8</td><td>37</td><td>49</td><td>4</td><td>10</td><td>0.216216</td><td>0.163265</td><td>0.071845</td><td>true</td><td>414</td><td>0.9501</td><td>&quot;Neutral&quot;</td><td>7</td><td>9</td><td>30</td><td>371</td><td>3</td><td>null</td><td>null</td><td>null</td><td>null</td><td>&quot;article_standard_feature&quot;</td><td>182</td><td>4390</td><td>false</td><td>&hellip;</td><td>1.708204</td><td>1.083186</td><td>1.954657</td><td>2.070895</td><td>1.949265</td><td>1.455156</td><td>0.965362</td><td>0.915239</td><td>1.841282</td><td>2.033027</td><td>1.795838</td><td>0.937667</td><td>-88.5</td><td>-363.5</td><td>null</td><td>-0.021758</td><td>-0.126811</td><td>-0.071621</td><td>-399.0</td><td>null</td><td>null</td><td>0.0</td><td>-0.012502</td><td>-151.5</td><td>null</td><td>0.156114</td><td>0.380906</td><td>0.672102</td><td>0.111681</td><td>0.963776</td><td>0.054301</td><td>0.239584</td><td>0.69207</td><td>0.069082</td><td>5</td><td>3</td><td>2</td></tr><tr><td>580100697</td><td>2110744</td><td>9771042</td><td>1</td><td>1</td><td>14.0</td><td>100.0</td><td>false</td><td>2</td><td>null</td><td>false</td><td>5</td><td>31</td><td>96</td><td>194</td><td>4</td><td>10</td><td>0.322917</td><td>0.159794</td><td>0.186408</td><td>false</td><td>118</td><td>0.6719</td><td>&quot;Positive&quot;</td><td>1</td><td>4</td><td>17</td><td>200</td><td>3</td><td>67278</td><td>415895</td><td>3.605973e6</td><td>0.161767</td><td>&quot;article_default&quot;</td><td>0</td><td>3</td><td>true</td><td>&hellip;</td><td>1.708204</td><td>1.083186</td><td>1.954657</td><td>2.070895</td><td>1.949265</td><td>1.455156</td><td>0.965362</td><td>0.915239</td><td>1.841282</td><td>2.033027</td><td>1.795838</td><td>0.937667</td><td>-29.5</td><td>1307.5</td><td>0.0</td><td>-0.019337</td><td>0.106317</td><td>-0.063147</td><td>-4786.0</td><td>-43354.0</td><td>-69803.0</td><td>47.0</td><td>-0.036195</td><td>-6.5</td><td>-1.428314e6</td><td>0.172432</td><td>0.278018</td><td>0.943898</td><td>0.127195</td><td>0.0234375</td><td>0.181335</td><td>0.423733</td><td>0.873426</td><td>0.177202</td><td>5</td><td>3</td><td>2</td></tr></tbody></table></div>"
      ],
      "text/plain": [
       "shape: (702_831, 254)\n",
       "┌─────────────┬─────────┬─────────┬────────┬───┬────────────┬────────────┬────────────┬────────────┐\n",
       "│ impression_ ┆ user_id ┆ article ┆ target ┆ … ┆ topics_cos ┆ category_d ┆ sentiment_ ┆ article_ty │\n",
       "│ id          ┆ ---     ┆ ---     ┆ ---    ┆   ┆ ine_l_inf_ ┆ iversity_i ┆ label_dive ┆ pe_diversi │\n",
       "│ ---         ┆ u32     ┆ i32     ┆ i8     ┆   ┆ article    ┆ mpression  ┆ rsity_impr ┆ ty_impress │\n",
       "│ u32         ┆         ┆         ┆        ┆   ┆ ---        ┆ ---        ┆ …          ┆ …          │\n",
       "│             ┆         ┆         ┆        ┆   ┆ f32        ┆ u32        ┆ ---        ┆ ---        │\n",
       "│             ┆         ┆         ┆        ┆   ┆            ┆            ┆ u32        ┆ u32        │\n",
       "╞═════════════╪═════════╪═════════╪════════╪═══╪════════════╪════════════╪════════════╪════════════╡\n",
       "│ 149474      ┆ 139836  ┆ 9778728 ┆ 0      ┆ … ┆ 0.301919   ┆ 4          ┆ 3          ┆ 1          │\n",
       "│ 149474      ┆ 139836  ┆ 9778669 ┆ 0      ┆ … ┆ 0.319083   ┆ 4          ┆ 3          ┆ 1          │\n",
       "│ 149474      ┆ 139836  ┆ 9778657 ┆ 1      ┆ … ┆ 0.604487   ┆ 4          ┆ 3          ┆ 1          │\n",
       "│ 150528      ┆ 143471  ┆ 9778682 ┆ 0      ┆ … ┆ 0.447169   ┆ 6          ┆ 3          ┆ 1          │\n",
       "│ 150528      ┆ 143471  ┆ 9778669 ┆ 0      ┆ … ┆ 0.633637   ┆ 6          ┆ 3          ┆ 1          │\n",
       "│ …           ┆ …       ┆ …       ┆ …      ┆ … ┆ …          ┆ …          ┆ …          ┆ …          │\n",
       "│ 580100695   ┆ 2110744 ┆ 9769917 ┆ 0      ┆ … ┆ 0.268713   ┆ 4          ┆ 3          ┆ 2          │\n",
       "│ 580100695   ┆ 2110744 ┆ 9767697 ┆ 1      ┆ … ┆ 0.597165   ┆ 4          ┆ 3          ┆ 2          │\n",
       "│ 580100697   ┆ 2110744 ┆ 9770997 ┆ 0      ┆ … ┆ 0.204345   ┆ 5          ┆ 3          ┆ 2          │\n",
       "│ 580100697   ┆ 2110744 ┆ 9514481 ┆ 0      ┆ … ┆ 0.069082   ┆ 5          ┆ 3          ┆ 2          │\n",
       "│ 580100697   ┆ 2110744 ┆ 9771042 ┆ 1      ┆ … ┆ 0.177202   ┆ 5          ┆ 3          ┆ 2          │\n",
       "└─────────────┴─────────┴─────────┴────────┴───┴────────────┴────────────┴────────────┴────────────┘"
      ]
     },
     "execution_count": 13,
     "metadata": {},
     "output_type": "execute_result"
    }
   ],
   "source": [
    "train_ds = pl.read_parquet('/mnt/ebs_volume/recsys2024/preprocessing/small_ds/train/train_ds.parquet')\n",
    "train_ds"
   ]
  },
  {
   "cell_type": "code",
   "execution_count": 14,
   "metadata": {},
   "outputs": [
    {
     "name": "stderr",
     "output_type": "stream",
     "text": [
      "/tmp/ipykernel_127905/1936790801.py:4: DeprecationWarning: `apply` is deprecated. It has been renamed to `map_elements`.\n",
      "  pl.col(\"contrastive_vector\").apply(lambda lst : list(range(len(lst)))).alias(\"indici\")\n",
      "/tmp/ipykernel_127905/1936790801.py:3: MapWithoutReturnDtypeWarning: Calling `map_elements` without specifying `return_dtype` can lead to unpredictable results. Specify `return_dtype` to silence this warning.\n",
      "  ICM_dataframe = contrastive_vector.join(articles, on='article_id').select(['article_id','contrastive_vector']).with_columns(\n"
     ]
    },
    {
     "data": {
      "text/html": [
       "<div><style>\n",
       ".dataframe > thead > tr,\n",
       ".dataframe > tbody > tr {\n",
       "  text-align: right;\n",
       "  white-space: pre-wrap;\n",
       "}\n",
       "</style>\n",
       "<small>shape: (15_926_784, 3)</small><table border=\"1\" class=\"dataframe\"><thead><tr><th>contrastive_vector</th><th>feature_id</th><th>article_index</th></tr><tr><td>f32</td><td>i64</td><td>u32</td></tr></thead><tbody><tr><td>0.014536</td><td>0</td><td>0</td></tr><tr><td>0.013818</td><td>1</td><td>0</td></tr><tr><td>0.01941</td><td>2</td><td>0</td></tr><tr><td>-0.071472</td><td>3</td><td>0</td></tr><tr><td>-0.012827</td><td>4</td><td>0</td></tr><tr><td>&hellip;</td><td>&hellip;</td><td>&hellip;</td></tr><tr><td>0.005754</td><td>763</td><td>20737</td></tr><tr><td>0.028954</td><td>764</td><td>20737</td></tr><tr><td>0.004138</td><td>765</td><td>20737</td></tr><tr><td>0.004545</td><td>766</td><td>20737</td></tr><tr><td>0.093679</td><td>767</td><td>20737</td></tr></tbody></table></div>"
      ],
      "text/plain": [
       "shape: (15_926_784, 3)\n",
       "┌────────────────────┬────────────┬───────────────┐\n",
       "│ contrastive_vector ┆ feature_id ┆ article_index │\n",
       "│ ---                ┆ ---        ┆ ---           │\n",
       "│ f32                ┆ i64        ┆ u32           │\n",
       "╞════════════════════╪════════════╪═══════════════╡\n",
       "│ 0.014536           ┆ 0          ┆ 0             │\n",
       "│ 0.013818           ┆ 1          ┆ 0             │\n",
       "│ 0.01941            ┆ 2          ┆ 0             │\n",
       "│ -0.071472          ┆ 3          ┆ 0             │\n",
       "│ -0.012827          ┆ 4          ┆ 0             │\n",
       "│ …                  ┆ …          ┆ …             │\n",
       "│ 0.005754           ┆ 763        ┆ 20737         │\n",
       "│ 0.028954           ┆ 764        ┆ 20737         │\n",
       "│ 0.004138           ┆ 765        ┆ 20737         │\n",
       "│ 0.004545           ┆ 766        ┆ 20737         │\n",
       "│ 0.093679           ┆ 767        ┆ 20737         │\n",
       "└────────────────────┴────────────┴───────────────┘"
      ]
     },
     "execution_count": 14,
     "metadata": {},
     "output_type": "execute_result"
    }
   ],
   "source": [
    "articles_mapping = articles.select('article_id').with_row_index().rename({'index': 'article_index'})\n",
    "\n",
    "ICM_dataframe = contrastive_vector.join(articles, on='article_id').select(['article_id','contrastive_vector']).with_columns(\n",
    "        pl.col(\"contrastive_vector\").apply(lambda lst : list(range(len(lst)))).alias(\"indici\")      \n",
    "    )\\\n",
    "    .explode(['contrastive_vector','indici'])\\\n",
    "    .rename({'indici': 'feature_id'})\\\n",
    "    .join(articles_mapping, on='article_id')\\\n",
    "    .drop('article_id')\n",
    "ICM_dataframe"
   ]
  },
  {
   "cell_type": "code",
   "execution_count": 15,
   "metadata": {},
   "outputs": [
    {
     "name": "stdout",
     "output_type": "stream",
     "text": [
      "n_articles:20738\n",
      "num_features: 768\n"
     ]
    }
   ],
   "source": [
    "n_articles = ICM_dataframe.select('article_index').n_unique()\n",
    "print(f'n_articles:{n_articles}')\n",
    "n_features = ICM_dataframe.select('feature_id').n_unique()\n",
    "print(f'num_features: {n_features}')"
   ]
  },
  {
   "cell_type": "code",
   "execution_count": 16,
   "metadata": {},
   "outputs": [
    {
     "data": {
      "text/plain": [
       "<20738x768 sparse matrix of type '<class 'numpy.float32'>'\n",
       "\twith 15926784 stored elements in Compressed Sparse Row format>"
      ]
     },
     "execution_count": 16,
     "metadata": {},
     "output_type": "execute_result"
    }
   ],
   "source": [
    "ICM = sps.csr_matrix((ICM_dataframe[\"contrastive_vector\"].to_numpy(), \n",
    "                          (ICM_dataframe[\"article_index\"].to_numpy(), ICM_dataframe[\"feature_id\"].to_numpy())),\n",
    "                        shape = (n_articles, n_features))\n",
    "\n",
    "ICM"
   ]
  },
  {
   "cell_type": "code",
   "execution_count": 17,
   "metadata": {},
   "outputs": [],
   "source": [
    "from RecSys_Course_AT_PoliMi.Recommenders.KNN.ItemKNNCBFRecommender import ItemKNNCBFRecommender"
   ]
  },
  {
   "cell_type": "code",
   "execution_count": 18,
   "metadata": {},
   "outputs": [
    {
     "name": "stderr",
     "output_type": "stream",
     "text": [
      "2024-05-20 09:53:42.623573: I tensorflow/core/platform/cpu_feature_guard.cc:210] This TensorFlow binary is optimized to use available CPU instructions in performance-critical operations.\n",
      "To enable the following instructions: AVX2 AVX512F FMA, in other operations, rebuild TensorFlow with the appropriate compiler flags.\n",
      "2024-05-20 09:53:43.788359: W tensorflow/compiler/tf2tensorrt/utils/py_utils.cc:38] TF-TRT Warning: Could not find TensorRT\n"
     ]
    },
    {
     "name": "stdout",
     "output_type": "stream",
     "text": [
      "File loaded at: /home/ubuntu/recsys2024/urm/recsys/small/URM_train.npz\n",
      "ItemKNNCBFRecommender: URM Detected 3684 (19.6%) users with no interactions.\n",
      "ItemKNNCBFRecommender: URM Detected 11952 (57.6%) items with no interactions.\n",
      "Compute_Similarity: detected dense matrix\n",
      "Similarity column 20738 (100.0%), 215.12 column/sec. Elapsed time 1.61 min\n",
      "SLIM_BPR_Cython: URM Detected 3684 (19.6%) users with no interactions.\n",
      "SLIM_BPR_Cython: URM Detected 11952 (57.6%) items with no interactions.\n",
      "SLIM_BPR_Cython: Loading model from file '/home/ubuntu/recsys2024/algo/recsys/small/train/SLIM_BPR_Cython'\n",
      "SLIM_BPR_Cython: Loading complete\n",
      "ItemKNNCFRecommender: URM Detected 3684 (19.6%) users with no interactions.\n",
      "ItemKNNCFRecommender: URM Detected 11952 (57.6%) items with no interactions.\n",
      "ItemKNNCFRecommender: Loading model from file '/home/ubuntu/recsys2024/algo/recsys/small/train/ItemKNNCFRecommender'\n",
      "ItemKNNCFRecommender: Loading complete\n",
      "PureSVDItemRecommender: URM Detected 3684 (19.6%) users with no interactions.\n",
      "PureSVDItemRecommender: URM Detected 11952 (57.6%) items with no interactions.\n",
      "PureSVDItemRecommender: Loading model from file '/home/ubuntu/recsys2024/algo/recsys/small/train/PureSVDItemRecommender'\n",
      "PureSVDItemRecommender: Loading complete\n",
      "PureSVDRecommender: URM Detected 3684 (19.6%) users with no interactions.\n",
      "PureSVDRecommender: URM Detected 11952 (57.6%) items with no interactions.\n",
      "PureSVDRecommender: Loading model from file '/home/ubuntu/recsys2024/algo/recsys/small/train/PureSVDRecommender'\n",
      "PureSVDRecommender: Loading complete\n",
      "RP3betaRecommender: URM Detected 3684 (19.6%) users with no interactions.\n",
      "RP3betaRecommender: URM Detected 11952 (57.6%) items with no interactions.\n",
      "RP3betaRecommender: Loading model from file '/home/ubuntu/recsys2024/algo/recsys/small/train/RP3betaRecommender'\n",
      "RP3betaRecommender: Loading complete\n",
      "Memory usage of dataframe is 88.77 MB\n",
      "Memory usage after optimization is: 88.77 MB\n",
      "Decreased by 0.0%\n",
      "Built recsys scores features in 1.8 minutes\n"
     ]
    }
   ],
   "source": [
    "from polimi.utils._urm import build_recsys_features\n",
    "from polimi.utils._custom import load_recommenders,load_sparse_csr\n",
    "\n",
    "URM_train = load_sparse_csr(Path('/home/ubuntu/recsys2024/urm/recsys/small/URM_train.npz'))\n",
    "\n",
    "knn_icm = ItemKNNCBFRecommender(URM_train=URM_train, ICM_train=ICM)\n",
    "knn_icm.fit()\n",
    "\n",
    "recs = load_recommenders(URM_train, Path('/home/ubuntu/recsys2024/algo/recsys/small/train'))\n",
    "\n",
    "recs.append(knn_icm)\n",
    "\n",
    "recsys_features = build_recsys_features(history=history_train.vstack(history_val),behaviors=behaviors_train,articles=articles,recs=recs)"
   ]
  },
  {
   "cell_type": "code",
   "execution_count": 19,
   "metadata": {},
   "outputs": [
    {
     "data": {
      "text/html": [
       "<div><style>\n",
       ".dataframe > thead > tr,\n",
       ".dataframe > tbody > tr {\n",
       "  text-align: right;\n",
       "  white-space: pre-wrap;\n",
       "}\n",
       "</style>\n",
       "<small>shape: (2_585_747, 9)</small><table border=\"1\" class=\"dataframe\"><thead><tr><th>impression_id</th><th>article</th><th>user_id</th><th>SLIM_BPR_Cython</th><th>ItemKNNCFRecommender</th><th>PureSVDItemRecommender</th><th>PureSVDRecommender</th><th>RP3betaRecommender</th><th>ItemKNNCBFRecommender</th></tr><tr><td>u32</td><td>i32</td><td>u32</td><td>f32</td><td>f32</td><td>f32</td><td>f32</td><td>f32</td><td>f32</td></tr></thead><tbody><tr><td>556008624</td><td>9193263</td><td>10068</td><td>0.0</td><td>0.0</td><td>0.00011</td><td>0.000007</td><td>0.0</td><td>0.0</td></tr><tr><td>556008624</td><td>9695098</td><td>10068</td><td>0.0</td><td>0.002663</td><td>0.009685</td><td>0.008015</td><td>0.003995</td><td>0.0</td></tr><tr><td>556008624</td><td>9758734</td><td>10068</td><td>0.0</td><td>0.0</td><td>0.003549</td><td>0.000875</td><td>0.006811</td><td>0.0</td></tr><tr><td>385198819</td><td>9762352</td><td>10068</td><td>0.0</td><td>0.005326</td><td>0.02905</td><td>0.029936</td><td>0.006742</td><td>0.0</td></tr><tr><td>556008624</td><td>9772548</td><td>10068</td><td>0.0</td><td>0.0</td><td>0.0</td><td>0.0</td><td>0.0</td><td>0.0</td></tr><tr><td>&hellip;</td><td>&hellip;</td><td>&hellip;</td><td>&hellip;</td><td>&hellip;</td><td>&hellip;</td><td>&hellip;</td><td>&hellip;</td><td>&hellip;</td></tr><tr><td>567760515</td><td>9779705</td><td>2590637</td><td>0.0</td><td>0.0</td><td>0.0</td><td>0.0</td><td>0.0</td><td>0.0</td></tr><tr><td>567760513</td><td>9779705</td><td>2590637</td><td>0.0</td><td>0.0</td><td>0.0</td><td>0.0</td><td>0.0</td><td>0.0</td></tr><tr><td>567760515</td><td>9779723</td><td>2590637</td><td>0.0</td><td>0.0</td><td>0.0</td><td>0.0</td><td>0.0</td><td>0.0</td></tr><tr><td>567760513</td><td>9779723</td><td>2590637</td><td>0.0</td><td>0.0</td><td>0.0</td><td>0.0</td><td>0.0</td><td>0.0</td></tr><tr><td>567760515</td><td>9779738</td><td>2590637</td><td>0.0</td><td>0.0</td><td>0.0</td><td>0.0</td><td>0.0</td><td>0.0</td></tr></tbody></table></div>"
      ],
      "text/plain": [
       "shape: (2_585_747, 9)\n",
       "┌────────────┬─────────┬─────────┬────────────┬───┬────────────┬───────────┬───────────┬───────────┐\n",
       "│ impression ┆ article ┆ user_id ┆ SLIM_BPR_C ┆ … ┆ PureSVDIte ┆ PureSVDRe ┆ RP3betaRe ┆ ItemKNNCB │\n",
       "│ _id        ┆ ---     ┆ ---     ┆ ython      ┆   ┆ mRecommend ┆ commender ┆ commender ┆ FRecommen │\n",
       "│ ---        ┆ i32     ┆ u32     ┆ ---        ┆   ┆ er         ┆ ---       ┆ ---       ┆ der       │\n",
       "│ u32        ┆         ┆         ┆ f32        ┆   ┆ ---        ┆ f32       ┆ f32       ┆ ---       │\n",
       "│            ┆         ┆         ┆            ┆   ┆ f32        ┆           ┆           ┆ f32       │\n",
       "╞════════════╪═════════╪═════════╪════════════╪═══╪════════════╪═══════════╪═══════════╪═══════════╡\n",
       "│ 556008624  ┆ 9193263 ┆ 10068   ┆ 0.0        ┆ … ┆ 0.00011    ┆ 0.000007  ┆ 0.0       ┆ 0.0       │\n",
       "│ 556008624  ┆ 9695098 ┆ 10068   ┆ 0.0        ┆ … ┆ 0.009685   ┆ 0.008015  ┆ 0.003995  ┆ 0.0       │\n",
       "│ 556008624  ┆ 9758734 ┆ 10068   ┆ 0.0        ┆ … ┆ 0.003549   ┆ 0.000875  ┆ 0.006811  ┆ 0.0       │\n",
       "│ 385198819  ┆ 9762352 ┆ 10068   ┆ 0.0        ┆ … ┆ 0.02905    ┆ 0.029936  ┆ 0.006742  ┆ 0.0       │\n",
       "│ 556008624  ┆ 9772548 ┆ 10068   ┆ 0.0        ┆ … ┆ 0.0        ┆ 0.0       ┆ 0.0       ┆ 0.0       │\n",
       "│ …          ┆ …       ┆ …       ┆ …          ┆ … ┆ …          ┆ …         ┆ …         ┆ …         │\n",
       "│ 567760515  ┆ 9779705 ┆ 2590637 ┆ 0.0        ┆ … ┆ 0.0        ┆ 0.0       ┆ 0.0       ┆ 0.0       │\n",
       "│ 567760513  ┆ 9779705 ┆ 2590637 ┆ 0.0        ┆ … ┆ 0.0        ┆ 0.0       ┆ 0.0       ┆ 0.0       │\n",
       "│ 567760515  ┆ 9779723 ┆ 2590637 ┆ 0.0        ┆ … ┆ 0.0        ┆ 0.0       ┆ 0.0       ┆ 0.0       │\n",
       "│ 567760513  ┆ 9779723 ┆ 2590637 ┆ 0.0        ┆ … ┆ 0.0        ┆ 0.0       ┆ 0.0       ┆ 0.0       │\n",
       "│ 567760515  ┆ 9779738 ┆ 2590637 ┆ 0.0        ┆ … ┆ 0.0        ┆ 0.0       ┆ 0.0       ┆ 0.0       │\n",
       "└────────────┴─────────┴─────────┴────────────┴───┴────────────┴───────────┴───────────┴───────────┘"
      ]
     },
     "execution_count": 19,
     "metadata": {},
     "output_type": "execute_result"
    }
   ],
   "source": [
    "recsys_features"
   ]
  },
  {
   "cell_type": "code",
   "execution_count": 30,
   "metadata": {},
   "outputs": [
    {
     "data": {
      "text/plain": [
       "0.11858932834496182"
      ]
     },
     "execution_count": 30,
     "metadata": {},
     "output_type": "execute_result"
    }
   ],
   "source": [
    "recsys_features.select('ItemKNNCFRecommender').filter(pl.col('ItemKNNCFRecommender')!=0).shape[0]/recsys_features.select('ItemKNNCFRecommender').shape[0]"
   ]
  },
  {
   "cell_type": "code",
   "execution_count": 83,
   "metadata": {},
   "outputs": [],
   "source": [
    "#recsys_features = pl.read_parquet('/mnt/ebs_volume_2/recsys2024/features/recsys/small/train/recsys_scores_features.parquet')\n",
    "#recsys_features"
   ]
  },
  {
   "cell_type": "code",
   "execution_count": 31,
   "metadata": {},
   "outputs": [
    {
     "data": {
      "text/html": [
       "<div><style>\n",
       ".dataframe > thead > tr,\n",
       ".dataframe > tbody > tr {\n",
       "  text-align: right;\n",
       "  white-space: pre-wrap;\n",
       "}\n",
       "</style>\n",
       "<small>shape: (702_831, 260)</small><table border=\"1\" class=\"dataframe\"><thead><tr><th>impression_id</th><th>user_id</th><th>article</th><th>target</th><th>device_type</th><th>read_time</th><th>scroll_percentage</th><th>is_sso_user</th><th>gender</th><th>age</th><th>is_subscriber</th><th>postcode</th><th>trendiness_score_1d</th><th>trendiness_score_3d</th><th>trendiness_score_5d</th><th>weekday</th><th>hour</th><th>trendiness_score_1d/3d</th><th>trendiness_score_1d/5d</th><th>normalized_trendiness_score_overall</th><th>premium</th><th>category</th><th>sentiment_score</th><th>sentiment_label</th><th>num_images</th><th>title_len</th><th>subtitle_len</th><th>body_len</th><th>num_topics</th><th>total_pageviews</th><th>total_inviews</th><th>total_read_time</th><th>total_pageviews/inviews</th><th>article_type</th><th>article_delay_days</th><th>article_delay_hours</th><th>Entity_EVENT_Present</th><th>&hellip;</th><th>entropy_impression_total_pageviews</th><th>entropy_impression_total_inviews</th><th>entropy_impression_trendiness_score_category</th><th>entropy_impression_std_JS</th><th>entropy_impression_trendiness_score_5d</th><th>entropy_impression_total_read_time</th><th>trendiness_score_3d_minus_median_impression</th><th>endorsement_10h_minus_median_impression</th><th>total_pageviews/inviews_minus_median_impression</th><th>mean_JS_minus_median_impression</th><th>mean_topic_model_cosine_minus_median_impression</th><th>topics_cosine_minus_median_impression</th><th>article_delay_hours_minus_median_impression</th><th>total_pageviews_minus_median_impression</th><th>total_inviews_minus_median_impression</th><th>trendiness_score_category_minus_median_impression</th><th>std_JS_minus_median_impression</th><th>trendiness_score_5d_minus_median_impression</th><th>total_read_time_minus_median_impression</th><th>mean_JS_l_inf_user</th><th>std_JS_l_inf_user</th><th>mean_topic_model_cosine_l_inf_user</th><th>topics_cosine_l_inf_user</th><th>article_delay_hours_l_inf_article</th><th>mean_JS_l_inf_article</th><th>std_JS_l_inf_article</th><th>mean_topic_model_cosine_l_inf_article</th><th>topics_cosine_l_inf_article</th><th>category_diversity_impression</th><th>sentiment_label_diversity_impression</th><th>article_type_diversity_impression</th><th>SLIM_BPR_Cython</th><th>ItemKNNCFRecommender</th><th>PureSVDItemRecommender</th><th>PureSVDRecommender</th><th>RP3betaRecommender</th><th>ItemKNNCBFRecommender</th></tr><tr><td>u32</td><td>u32</td><td>i32</td><td>i8</td><td>i8</td><td>f32</td><td>f32</td><td>bool</td><td>i8</td><td>i8</td><td>bool</td><td>i8</td><td>i16</td><td>i16</td><td>i16</td><td>i8</td><td>i8</td><td>f32</td><td>f32</td><td>f32</td><td>bool</td><td>i16</td><td>f32</td><td>str</td><td>u32</td><td>u8</td><td>u8</td><td>u16</td><td>u32</td><td>i32</td><td>i32</td><td>f32</td><td>f32</td><td>str</td><td>i16</td><td>i32</td><td>bool</td><td>&hellip;</td><td>f64</td><td>f64</td><td>f64</td><td>f32</td><td>f64</td><td>f32</td><td>f64</td><td>f64</td><td>f32</td><td>f32</td><td>f32</td><td>f32</td><td>f64</td><td>f64</td><td>f64</td><td>f64</td><td>f32</td><td>f64</td><td>f32</td><td>f32</td><td>f32</td><td>f32</td><td>f32</td><td>f64</td><td>f32</td><td>f32</td><td>f32</td><td>f32</td><td>u32</td><td>u32</td><td>u32</td><td>f32</td><td>f32</td><td>f32</td><td>f32</td><td>f32</td><td>f32</td></tr></thead><tbody><tr><td>149474</td><td>139836</td><td>9778728</td><td>0</td><td>2</td><td>13.0</td><td>null</td><td>false</td><td>2</td><td>null</td><td>false</td><td>5</td><td>150</td><td>521</td><td>836</td><td>3</td><td>7</td><td>0.287908</td><td>0.179426</td><td>0.880068</td><td>false</td><td>142</td><td>0.9654</td><td>&quot;Negative&quot;</td><td>1</td><td>5</td><td>18</td><td>251</td><td>7</td><td>22415</td><td>220247</td><td>1.004828e6</td><td>0.101772</td><td>&quot;article_default&quot;</td><td>0</td><td>0</td><td>true</td><td>&hellip;</td><td>1.613433</td><td>1.737743</td><td>1.612282</td><td>1.739272</td><td>1.676222</td><td>1.558951</td><td>281.5</td><td>-873.5</td><td>-0.111306</td><td>-0.005177</td><td>0.091665</td><td>-0.02667</td><td>-1.0</td><td>-62463.5</td><td>-165503.0</td><td>4.0</td><td>-0.033664</td><td>447.5</td><td>-4.981345e6</td><td>0.447581</td><td>0.403328</td><td>0.96685</td><td>0.36119</td><td>0.0</td><td>0.233531</td><td>0.335164</td><td>0.908604</td><td>0.301919</td><td>4</td><td>3</td><td>1</td><td>0.0</td><td>0.0</td><td>0.0</td><td>0.0</td><td>0.0</td><td>0.0</td></tr><tr><td>149474</td><td>139836</td><td>9778669</td><td>0</td><td>2</td><td>13.0</td><td>null</td><td>false</td><td>2</td><td>null</td><td>false</td><td>5</td><td>85</td><td>199</td><td>313</td><td>3</td><td>7</td><td>0.427136</td><td>0.271565</td><td>0.336149</td><td>false</td><td>118</td><td>0.9481</td><td>&quot;Negative&quot;</td><td>1</td><td>5</td><td>11</td><td>150</td><td>4</td><td>74491</td><td>373488</td><td>4.365609e6</td><td>0.199447</td><td>&quot;article_default&quot;</td><td>0</td><td>1</td><td>false</td><td>&hellip;</td><td>1.613433</td><td>1.737743</td><td>1.612282</td><td>1.739272</td><td>1.676222</td><td>1.558951</td><td>-40.5</td><td>179.5</td><td>-0.013631</td><td>0.003967</td><td>-0.050146</td><td>0.015762</td><td>0.0</td><td>-10387.5</td><td>-12262.0</td><td>0.0</td><td>0.028015</td><td>-75.5</td><td>-1.620564e6</td><td>0.501163</td><td>0.632488</td><td>0.797317</td><td>0.437299</td><td>0.043478</td><td>0.266627</td><td>0.511387</td><td>0.789201</td><td>0.319083</td><td>4</td><td>3</td><td>1</td><td>0.0</td><td>0.0</td><td>0.0</td><td>0.0</td><td>0.0</td><td>0.0</td></tr><tr><td>149474</td><td>139836</td><td>9778657</td><td>1</td><td>2</td><td>13.0</td><td>null</td><td>false</td><td>2</td><td>null</td><td>false</td><td>5</td><td>45</td><td>117</td><td>183</td><td>3</td><td>7</td><td>0.384615</td><td>0.245902</td><td>0.197635</td><td>false</td><td>118</td><td>0.8347</td><td>&quot;Neutral&quot;</td><td>2</td><td>6</td><td>31</td><td>336</td><td>3</td><td>108389</td><td>478098</td><td>7.606737e6</td><td>0.226709</td><td>&quot;article_default&quot;</td><td>0</td><td>1</td><td>false</td><td>&hellip;</td><td>1.613433</td><td>1.737743</td><td>1.612282</td><td>1.739272</td><td>1.676222</td><td>1.558951</td><td>-122.5</td><td>368.5</td><td>0.013631</td><td>0.05309</td><td>0.005468</td><td>0.218611</td><td>0.0</td><td>23510.5</td><td>92348.0</td><td>0.0</td><td>0.051035</td><td>-205.5</td><td>1.620564e6</td><td>0.78901</td><td>0.718014</td><td>0.863803</td><td>0.801144</td><td>0.066667</td><td>0.350947</td><td>0.730242</td><td>0.840012</td><td>0.604487</td><td>4</td><td>3</td><td>1</td><td>0.0</td><td>0.0</td><td>0.0</td><td>0.0</td><td>0.0</td><td>0.0</td></tr><tr><td>150528</td><td>143471</td><td>9778682</td><td>0</td><td>2</td><td>25.0</td><td>null</td><td>false</td><td>2</td><td>null</td><td>false</td><td>5</td><td>69</td><td>206</td><td>334</td><td>3</td><td>7</td><td>0.334951</td><td>0.206587</td><td>0.347973</td><td>false</td><td>498</td><td>0.9546</td><td>&quot;Negative&quot;</td><td>1</td><td>5</td><td>20</td><td>267</td><td>3</td><td>143520</td><td>455723</td><td>9.298546e6</td><td>0.314928</td><td>&quot;article_default&quot;</td><td>0</td><td>1</td><td>true</td><td>&hellip;</td><td>2.063931</td><td>2.158165</td><td>1.924178</td><td>2.126514</td><td>1.946778</td><td>2.008479</td><td>7.0</td><td>204.0</td><td>0.088219</td><td>0.013219</td><td>0.095761</td><td>-0.001332</td><td>1.0</td><td>48254.0</td><td>82235.0</td><td>-47.0</td><td>0.013249</td><td>21.0</td><td>4.223417e6</td><td>0.793928</td><td>0.732491</td><td>0.94067</td><td>0.581838</td><td>0.041667</td><td>0.299855</td><td>0.536061</td><td>0.891664</td><td>0.447169</td><td>6</td><td>3</td><td>1</td><td>0.0</td><td>0.0</td><td>0.0</td><td>0.0</td><td>0.0</td><td>0.0</td></tr><tr><td>150528</td><td>143471</td><td>9778669</td><td>0</td><td>2</td><td>25.0</td><td>null</td><td>false</td><td>2</td><td>null</td><td>false</td><td>5</td><td>85</td><td>199</td><td>313</td><td>3</td><td>7</td><td>0.427136</td><td>0.271565</td><td>0.336149</td><td>false</td><td>118</td><td>0.9481</td><td>&quot;Negative&quot;</td><td>1</td><td>5</td><td>11</td><td>150</td><td>4</td><td>74491</td><td>373488</td><td>4.365609e6</td><td>0.199447</td><td>&quot;article_default&quot;</td><td>0</td><td>1</td><td>false</td><td>&hellip;</td><td>2.063931</td><td>2.158165</td><td>1.924178</td><td>2.126514</td><td>1.946778</td><td>2.008479</td><td>0.0</td><td>598.0</td><td>-0.027262</td><td>0.025741</td><td>-0.061045</td><td>0.159455</td><td>1.0</td><td>-20775.0</td><td>0.0</td><td>62.0</td><td>0.007517</td><td>0.0</td><td>-709520.0</td><td>0.881599</td><td>0.709201</td><td>0.756751</td><td>0.871154</td><td>0.043478</td><td>0.392552</td><td>0.524339</td><td>0.763467</td><td>0.633637</td><td>6</td><td>3</td><td>1</td><td>0.0</td><td>0.0</td><td>0.0</td><td>0.0</td><td>0.0</td><td>0.024638</td></tr><tr><td>&hellip;</td><td>&hellip;</td><td>&hellip;</td><td>&hellip;</td><td>&hellip;</td><td>&hellip;</td><td>&hellip;</td><td>&hellip;</td><td>&hellip;</td><td>&hellip;</td><td>&hellip;</td><td>&hellip;</td><td>&hellip;</td><td>&hellip;</td><td>&hellip;</td><td>&hellip;</td><td>&hellip;</td><td>&hellip;</td><td>&hellip;</td><td>&hellip;</td><td>&hellip;</td><td>&hellip;</td><td>&hellip;</td><td>&hellip;</td><td>&hellip;</td><td>&hellip;</td><td>&hellip;</td><td>&hellip;</td><td>&hellip;</td><td>&hellip;</td><td>&hellip;</td><td>&hellip;</td><td>&hellip;</td><td>&hellip;</td><td>&hellip;</td><td>&hellip;</td><td>&hellip;</td><td>&hellip;</td><td>&hellip;</td><td>&hellip;</td><td>&hellip;</td><td>&hellip;</td><td>&hellip;</td><td>&hellip;</td><td>&hellip;</td><td>&hellip;</td><td>&hellip;</td><td>&hellip;</td><td>&hellip;</td><td>&hellip;</td><td>&hellip;</td><td>&hellip;</td><td>&hellip;</td><td>&hellip;</td><td>&hellip;</td><td>&hellip;</td><td>&hellip;</td><td>&hellip;</td><td>&hellip;</td><td>&hellip;</td><td>&hellip;</td><td>&hellip;</td><td>&hellip;</td><td>&hellip;</td><td>&hellip;</td><td>&hellip;</td><td>&hellip;</td><td>&hellip;</td><td>&hellip;</td><td>&hellip;</td><td>&hellip;</td><td>&hellip;</td><td>&hellip;</td><td>&hellip;</td><td>&hellip;</td></tr><tr><td>580100695</td><td>2110744</td><td>9769917</td><td>0</td><td>1</td><td>5.0</td><td>100.0</td><td>false</td><td>2</td><td>null</td><td>false</td><td>5</td><td>46</td><td>105</td><td>152</td><td>4</td><td>10</td><td>0.438095</td><td>0.302632</td><td>0.203883</td><td>true</td><td>140</td><td>0.989</td><td>&quot;Negative&quot;</td><td>4</td><td>5</td><td>32</td><td>826</td><td>2</td><td>203222</td><td>2163455</td><td>1.2661448e7</td><td>0.093934</td><td>&quot;article_default&quot;</td><td>0</td><td>17</td><td>false</td><td>&hellip;</td><td>1.060549</td><td>0.924248</td><td>1.757789</td><td>1.898659</td><td>1.762101</td><td>0.913896</td><td>-50.0</td><td>1404.0</td><td>-0.114787</td><td>0.002116</td><td>-0.103502</td><td>0.0</td><td>-4373.0</td><td>4017.0</td><td>1.209047e6</td><td>18.0</td><td>0.088883</td><td>-79.0</td><td>0.0</td><td>0.582369</td><td>0.927592</td><td>0.682434</td><td>0.472501</td><td>0.093407</td><td>0.120789</td><td>0.389978</td><td>0.696381</td><td>0.268713</td><td>4</td><td>3</td><td>2</td><td>0.085755</td><td>0.038615</td><td>0.559645</td><td>0.315015</td><td>0.052498</td><td>0.018076</td></tr><tr><td>580100695</td><td>2110744</td><td>9767697</td><td>1</td><td>1</td><td>5.0</td><td>100.0</td><td>false</td><td>2</td><td>null</td><td>false</td><td>5</td><td>50</td><td>187</td><td>238</td><td>4</td><td>10</td><td>0.26738</td><td>0.210084</td><td>0.363107</td><td>false</td><td>118</td><td>0.9613</td><td>&quot;Negative&quot;</td><td>5</td><td>7</td><td>2</td><td>982</td><td>3</td><td>199205</td><td>954408</td><td>2.595362e7</td><td>0.208721</td><td>&quot;article_default&quot;</td><td>0</td><td>3</td><td>false</td><td>&hellip;</td><td>1.060549</td><td>0.924248</td><td>1.757789</td><td>1.898659</td><td>1.762101</td><td>0.913896</td><td>32.0</td><td>1339.0</td><td>0.0</td><td>0.035035</td><td>0.028725</td><td>0.237915</td><td>-4387.0</td><td>0.0</td><td>0.0</td><td>47.0</td><td>0.051003</td><td>7.0</td><td>1.3292172e7</td><td>0.80426</td><td>0.763092</td><td>0.836592</td><td>0.908091</td><td>0.017964</td><td>0.287404</td><td>0.373625</td><td>0.779936</td><td>0.597165</td><td>4</td><td>3</td><td>2</td><td>0.0</td><td>0.019973</td><td>0.195145</td><td>0.096154</td><td>0.039106</td><td>0.008761</td></tr><tr><td>580100697</td><td>2110744</td><td>9770997</td><td>0</td><td>1</td><td>14.0</td><td>100.0</td><td>false</td><td>2</td><td>null</td><td>false</td><td>5</td><td>32</td><td>78</td><td>136</td><td>4</td><td>10</td><td>0.410256</td><td>0.235294</td><td>0.151456</td><td>false</td><td>414</td><td>0.845</td><td>&quot;Positive&quot;</td><td>1</td><td>5</td><td>18</td><td>164</td><td>4</td><td>110632</td><td>485698</td><td>5.034287e6</td><td>0.227779</td><td>&quot;article_default&quot;</td><td>0</td><td>3</td><td>false</td><td>&hellip;</td><td>0.965362</td><td>0.915239</td><td>1.841282</td><td>2.033027</td><td>1.795838</td><td>0.937667</td><td>-47.5</td><td>1339.5</td><td>0.066013</td><td>-0.020815</td><td>0.014447</td><td>-0.035568</td><td>-4786.0</td><td>0.0</td><td>0.0</td><td>0.0</td><td>-0.032977</td><td>-64.5</td><td>0.0</td><td>0.162473</td><td>0.29199</td><td>0.836789</td><td>0.177689</td><td>0.018072</td><td>0.172841</td><td>0.384146</td><td>0.818583</td><td>0.204345</td><td>5</td><td>3</td><td>2</td><td>0.0</td><td>0.0</td><td>0.0</td><td>0.0</td><td>0.0</td><td>0.00639</td></tr><tr><td>580100697</td><td>2110744</td><td>9514481</td><td>0</td><td>1</td><td>14.0</td><td>100.0</td><td>false</td><td>2</td><td>null</td><td>false</td><td>5</td><td>8</td><td>37</td><td>49</td><td>4</td><td>10</td><td>0.216216</td><td>0.163265</td><td>0.071845</td><td>true</td><td>414</td><td>0.9501</td><td>&quot;Neutral&quot;</td><td>7</td><td>9</td><td>30</td><td>371</td><td>3</td><td>null</td><td>null</td><td>null</td><td>null</td><td>&quot;article_standard_feature&quot;</td><td>182</td><td>4390</td><td>false</td><td>&hellip;</td><td>0.965362</td><td>0.915239</td><td>1.841282</td><td>2.033027</td><td>1.795838</td><td>0.937667</td><td>-88.5</td><td>-363.5</td><td>null</td><td>-0.021758</td><td>-0.126811</td><td>-0.071621</td><td>-399.0</td><td>null</td><td>null</td><td>0.0</td><td>-0.012502</td><td>-151.5</td><td>null</td><td>0.156114</td><td>0.380906</td><td>0.672102</td><td>0.111681</td><td>0.963776</td><td>0.054301</td><td>0.239584</td><td>0.69207</td><td>0.069082</td><td>5</td><td>3</td><td>2</td><td>0.0</td><td>0.007989</td><td>0.05109</td><td>0.045008</td><td>0.001339</td><td>0.0</td></tr><tr><td>580100697</td><td>2110744</td><td>9771042</td><td>1</td><td>1</td><td>14.0</td><td>100.0</td><td>false</td><td>2</td><td>null</td><td>false</td><td>5</td><td>31</td><td>96</td><td>194</td><td>4</td><td>10</td><td>0.322917</td><td>0.159794</td><td>0.186408</td><td>false</td><td>118</td><td>0.6719</td><td>&quot;Positive&quot;</td><td>1</td><td>4</td><td>17</td><td>200</td><td>3</td><td>67278</td><td>415895</td><td>3.605973e6</td><td>0.161767</td><td>&quot;article_default&quot;</td><td>0</td><td>3</td><td>true</td><td>&hellip;</td><td>0.965362</td><td>0.915239</td><td>1.841282</td><td>2.033027</td><td>1.795838</td><td>0.937667</td><td>-29.5</td><td>1307.5</td><td>0.0</td><td>-0.019337</td><td>0.106317</td><td>-0.063147</td><td>-4786.0</td><td>-43354.0</td><td>-69803.0</td><td>47.0</td><td>-0.036195</td><td>-6.5</td><td>-1.428314e6</td><td>0.172432</td><td>0.278018</td><td>0.943898</td><td>0.127195</td><td>0.0234375</td><td>0.181335</td><td>0.423733</td><td>0.873426</td><td>0.177202</td><td>5</td><td>3</td><td>2</td><td>0.0</td><td>0.005326</td><td>0.037222</td><td>0.019134</td><td>0.000647</td><td>0.014137</td></tr></tbody></table></div>"
      ],
      "text/plain": [
       "shape: (702_831, 260)\n",
       "┌─────────────┬─────────┬─────────┬────────┬───┬────────────┬────────────┬────────────┬────────────┐\n",
       "│ impression_ ┆ user_id ┆ article ┆ target ┆ … ┆ PureSVDIte ┆ PureSVDRec ┆ RP3betaRec ┆ ItemKNNCBF │\n",
       "│ id          ┆ ---     ┆ ---     ┆ ---    ┆   ┆ mRecommend ┆ ommender   ┆ ommender   ┆ Recommende │\n",
       "│ ---         ┆ u32     ┆ i32     ┆ i8     ┆   ┆ er         ┆ ---        ┆ ---        ┆ r          │\n",
       "│ u32         ┆         ┆         ┆        ┆   ┆ ---        ┆ f32        ┆ f32        ┆ ---        │\n",
       "│             ┆         ┆         ┆        ┆   ┆ f32        ┆            ┆            ┆ f32        │\n",
       "╞═════════════╪═════════╪═════════╪════════╪═══╪════════════╪════════════╪════════════╪════════════╡\n",
       "│ 149474      ┆ 139836  ┆ 9778728 ┆ 0      ┆ … ┆ 0.0        ┆ 0.0        ┆ 0.0        ┆ 0.0        │\n",
       "│ 149474      ┆ 139836  ┆ 9778669 ┆ 0      ┆ … ┆ 0.0        ┆ 0.0        ┆ 0.0        ┆ 0.0        │\n",
       "│ 149474      ┆ 139836  ┆ 9778657 ┆ 1      ┆ … ┆ 0.0        ┆ 0.0        ┆ 0.0        ┆ 0.0        │\n",
       "│ 150528      ┆ 143471  ┆ 9778682 ┆ 0      ┆ … ┆ 0.0        ┆ 0.0        ┆ 0.0        ┆ 0.0        │\n",
       "│ 150528      ┆ 143471  ┆ 9778669 ┆ 0      ┆ … ┆ 0.0        ┆ 0.0        ┆ 0.0        ┆ 0.024638   │\n",
       "│ …           ┆ …       ┆ …       ┆ …      ┆ … ┆ …          ┆ …          ┆ …          ┆ …          │\n",
       "│ 580100695   ┆ 2110744 ┆ 9769917 ┆ 0      ┆ … ┆ 0.559645   ┆ 0.315015   ┆ 0.052498   ┆ 0.018076   │\n",
       "│ 580100695   ┆ 2110744 ┆ 9767697 ┆ 1      ┆ … ┆ 0.195145   ┆ 0.096154   ┆ 0.039106   ┆ 0.008761   │\n",
       "│ 580100697   ┆ 2110744 ┆ 9770997 ┆ 0      ┆ … ┆ 0.0        ┆ 0.0        ┆ 0.0        ┆ 0.00639    │\n",
       "│ 580100697   ┆ 2110744 ┆ 9514481 ┆ 0      ┆ … ┆ 0.05109    ┆ 0.045008   ┆ 0.001339   ┆ 0.0        │\n",
       "│ 580100697   ┆ 2110744 ┆ 9771042 ┆ 1      ┆ … ┆ 0.037222   ┆ 0.019134   ┆ 0.000647   ┆ 0.014137   │\n",
       "└─────────────┴─────────┴─────────┴────────┴───┴────────────┴────────────┴────────────┴────────────┘"
      ]
     },
     "execution_count": 31,
     "metadata": {},
     "output_type": "execute_result"
    }
   ],
   "source": [
    "train_ds = train_ds.join(recsys_features, on=['impression_id', 'article','user_id'], how= 'left')\n",
    "train_ds"
   ]
  },
  {
   "cell_type": "code",
   "execution_count": 32,
   "metadata": {},
   "outputs": [],
   "source": [
    "from catboost import CatBoostClassifier\n"
   ]
  },
  {
   "cell_type": "markdown",
   "metadata": {},
   "source": [
    "## Classifier\n"
   ]
  },
  {
   "cell_type": "code",
   "execution_count": 33,
   "metadata": {},
   "outputs": [],
   "source": [
    "train_ds = train_ds.drop(['impression_id', 'article', 'user_id']).to_pandas()\n",
    "\n",
    "categorical_columns = ['device_type', 'is_sso_user', 'gender', 'is_subscriber', 'weekday',\n",
    "                       'premium', 'category', 'sentiment_label', 'is_new_article', 'is_already_seen_article',\n",
    "                       'MostFrequentCategory', 'MostFrequentWeekday', 'IsFavouriteCategory',\n",
    "                       'article_type', 'postcode']\n",
    "categorical_columns += [f'Entity_{entity}_Present' for entity in unique_entities]\n",
    "train_ds[categorical_columns] = train_ds[categorical_columns].astype('category')\n",
    "\n",
    "X = train_ds.drop(columns=['target'])\n",
    "y = train_ds['target']\n",
    "\n"
   ]
  },
  {
   "cell_type": "code",
   "execution_count": 34,
   "metadata": {},
   "outputs": [
    {
     "name": "stdout",
     "output_type": "stream",
     "text": [
      "Learning rate set to 0.169254\n",
      "0:\tlearn: 0.6469005\ttotal: 301ms\tremaining: 5m\n",
      "25:\tlearn: 0.5172412\ttotal: 6.88s\tremaining: 4m 17s\n",
      "50:\tlearn: 0.5003876\ttotal: 13.4s\tremaining: 4m 9s\n",
      "75:\tlearn: 0.4901748\ttotal: 19.9s\tremaining: 4m 2s\n",
      "100:\tlearn: 0.4820436\ttotal: 26.3s\tremaining: 3m 53s\n",
      "125:\tlearn: 0.4765027\ttotal: 32.5s\tremaining: 3m 45s\n",
      "150:\tlearn: 0.4715106\ttotal: 38.8s\tremaining: 3m 37s\n",
      "175:\tlearn: 0.4674247\ttotal: 45.1s\tremaining: 3m 31s\n",
      "200:\tlearn: 0.4635423\ttotal: 51.8s\tremaining: 3m 25s\n",
      "225:\tlearn: 0.4603533\ttotal: 58.2s\tremaining: 3m 19s\n",
      "250:\tlearn: 0.4570389\ttotal: 1m 4s\tremaining: 3m 12s\n",
      "275:\tlearn: 0.4542094\ttotal: 1m 11s\tremaining: 3m 6s\n",
      "300:\tlearn: 0.4517399\ttotal: 1m 17s\tremaining: 3m\n",
      "325:\tlearn: 0.4493938\ttotal: 1m 24s\tremaining: 2m 54s\n",
      "350:\tlearn: 0.4471192\ttotal: 1m 30s\tremaining: 2m 47s\n",
      "375:\tlearn: 0.4450307\ttotal: 1m 37s\tremaining: 2m 41s\n",
      "400:\tlearn: 0.4430091\ttotal: 1m 43s\tremaining: 2m 34s\n",
      "425:\tlearn: 0.4411070\ttotal: 1m 49s\tremaining: 2m 28s\n",
      "450:\tlearn: 0.4395243\ttotal: 1m 56s\tremaining: 2m 21s\n",
      "475:\tlearn: 0.4378927\ttotal: 2m 2s\tremaining: 2m 15s\n",
      "500:\tlearn: 0.4362680\ttotal: 2m 9s\tremaining: 2m 8s\n",
      "525:\tlearn: 0.4345736\ttotal: 2m 15s\tremaining: 2m 2s\n",
      "550:\tlearn: 0.4331419\ttotal: 2m 22s\tremaining: 1m 56s\n",
      "575:\tlearn: 0.4315569\ttotal: 2m 28s\tremaining: 1m 49s\n",
      "600:\tlearn: 0.4300016\ttotal: 2m 35s\tremaining: 1m 43s\n",
      "625:\tlearn: 0.4286178\ttotal: 2m 41s\tremaining: 1m 36s\n",
      "650:\tlearn: 0.4272597\ttotal: 2m 48s\tremaining: 1m 30s\n",
      "675:\tlearn: 0.4261480\ttotal: 2m 54s\tremaining: 1m 23s\n",
      "700:\tlearn: 0.4249579\ttotal: 3m 1s\tremaining: 1m 17s\n",
      "725:\tlearn: 0.4238347\ttotal: 3m 7s\tremaining: 1m 10s\n",
      "750:\tlearn: 0.4228081\ttotal: 3m 14s\tremaining: 1m 4s\n",
      "775:\tlearn: 0.4215866\ttotal: 3m 20s\tremaining: 58s\n",
      "800:\tlearn: 0.4205151\ttotal: 3m 27s\tremaining: 51.5s\n",
      "825:\tlearn: 0.4194585\ttotal: 3m 33s\tremaining: 45s\n",
      "850:\tlearn: 0.4184131\ttotal: 3m 40s\tremaining: 38.6s\n",
      "875:\tlearn: 0.4173669\ttotal: 3m 47s\tremaining: 32.1s\n",
      "900:\tlearn: 0.4162722\ttotal: 3m 53s\tremaining: 25.7s\n",
      "925:\tlearn: 0.4152110\ttotal: 4m\tremaining: 19.2s\n",
      "950:\tlearn: 0.4141968\ttotal: 4m 6s\tremaining: 12.7s\n",
      "975:\tlearn: 0.4131668\ttotal: 4m 12s\tremaining: 6.22s\n",
      "999:\tlearn: 0.4123163\ttotal: 4m 19s\tremaining: 0us\n",
      "\u001b[1m\u001b[31m\n",
      "RAM memory GB usage = 6.964\u001b[0m\n"
     ]
    }
   ],
   "source": [
    "\n",
    "# just a simple model to be able to run an evaluation\n",
    "model = CatBoostClassifier(cat_features=categorical_columns, iterations=1000, rsm=0.7, subsample=0.5)\n",
    "\n",
    "model.fit(X, y, verbose=25)\n",
    "\n",
    "gc.collect()\n",
    "PrintColor(f\"\\n\" + GetMemUsage(), color = Fore.RED)\n"
   ]
  },
  {
   "cell_type": "markdown",
   "metadata": {},
   "source": [
    "## Ranker\n"
   ]
  },
  {
   "cell_type": "code",
   "execution_count": 89,
   "metadata": {},
   "outputs": [
    {
     "data": {
      "text/plain": [
       "\"train_ds = train_ds.drop(['article', 'user_id']).to_pandas().sort_values(by='impression_id')\\ngroups = train_ds['impression_id'].copy()\\n\\ncategorical_columns = ['device_type', 'is_sso_user', 'gender', 'is_subscriber', 'weekday',\\n                       'premium', 'category', 'sentiment_label', 'is_new_article', 'is_already_seen_article',\\n                       'MostFrequentCategory', 'MostFrequentWeekday', 'IsFavouriteCategory',\\n                       'article_type', 'postcode']\\ncategorical_columns += [f'Entity_{entity}_Present' for entity in unique_entities]\\ntrain_ds[categorical_columns] = train_ds[categorical_columns].astype('category')\\n\\nX = train_ds.drop(columns=['target', 'impression_id'])\\ny = train_ds['target']\""
      ]
     },
     "execution_count": 89,
     "metadata": {},
     "output_type": "execute_result"
    }
   ],
   "source": [
    "\"\"\"train_ds = train_ds.drop(['article', 'user_id']).to_pandas().sort_values(by='impression_id')\n",
    "groups = train_ds['impression_id'].copy()\n",
    "\n",
    "categorical_columns = ['device_type', 'is_sso_user', 'gender', 'is_subscriber', 'weekday',\n",
    "                       'premium', 'category', 'sentiment_label', 'is_new_article', 'is_already_seen_article',\n",
    "                       'MostFrequentCategory', 'MostFrequentWeekday', 'IsFavouriteCategory',\n",
    "                       'article_type', 'postcode']\n",
    "categorical_columns += [f'Entity_{entity}_Present' for entity in unique_entities]\n",
    "train_ds[categorical_columns] = train_ds[categorical_columns].astype('category')\n",
    "\n",
    "X = train_ds.drop(columns=['target', 'impression_id'])\n",
    "y = train_ds['target']\"\"\""
   ]
  },
  {
   "cell_type": "code",
   "execution_count": 90,
   "metadata": {},
   "outputs": [
    {
     "data": {
      "text/plain": [
       "'model = CatBoostRanker(cat_features=categorical_columns, iterations=2000, depth=8, colsample_bylevel=0.5)\\n\\nmodel.fit(X, y, group_id=groups, verbose=25)\\n\\ngc.collect()\\nPrintColor(f\"\\n\" + GetMemUsage(), color = Fore.RED)'"
      ]
     },
     "execution_count": 90,
     "metadata": {},
     "output_type": "execute_result"
    }
   ],
   "source": [
    "\n",
    "\"\"\"model = CatBoostRanker(cat_features=categorical_columns, iterations=2000, depth=8, colsample_bylevel=0.5)\n",
    "\n",
    "model.fit(X, y, group_id=groups, verbose=25)\n",
    "\n",
    "gc.collect()\n",
    "PrintColor(f\"\\n\" + GetMemUsage(), color = Fore.RED)\"\"\"\n"
   ]
  },
  {
   "cell_type": "code",
   "execution_count": 37,
   "metadata": {},
   "outputs": [
    {
     "data": {
      "text/html": [
       "<div><style>\n",
       ".dataframe > thead > tr,\n",
       ".dataframe > tbody > tr {\n",
       "  text-align: right;\n",
       "  white-space: pre-wrap;\n",
       "}\n",
       "</style>\n",
       "<small>shape: (2_928_942, 254)</small><table border=\"1\" class=\"dataframe\"><thead><tr><th>impression_id</th><th>article</th><th>user_id</th><th>target</th><th>device_type</th><th>read_time</th><th>scroll_percentage</th><th>is_sso_user</th><th>gender</th><th>age</th><th>is_subscriber</th><th>postcode</th><th>trendiness_score_1d</th><th>trendiness_score_3d</th><th>trendiness_score_5d</th><th>weekday</th><th>hour</th><th>trendiness_score_1d/3d</th><th>trendiness_score_1d/5d</th><th>normalized_trendiness_score_overall</th><th>premium</th><th>category</th><th>sentiment_score</th><th>sentiment_label</th><th>num_images</th><th>title_len</th><th>subtitle_len</th><th>body_len</th><th>num_topics</th><th>total_pageviews</th><th>total_inviews</th><th>total_read_time</th><th>total_pageviews/inviews</th><th>article_type</th><th>article_delay_days</th><th>article_delay_hours</th><th>Entity_EVENT_Present</th><th>&hellip;</th><th>entropy_impression_endorsement_10h</th><th>entropy_impression_total_pageviews/inviews</th><th>entropy_impression_mean_JS</th><th>entropy_impression_mean_topic_model_cosine</th><th>entropy_impression_topics_cosine</th><th>entropy_impression_article_delay_hours</th><th>entropy_impression_total_pageviews</th><th>entropy_impression_total_inviews</th><th>entropy_impression_trendiness_score_category</th><th>entropy_impression_std_JS</th><th>entropy_impression_trendiness_score_5d</th><th>entropy_impression_total_read_time</th><th>trendiness_score_3d_minus_median_impression</th><th>endorsement_10h_minus_median_impression</th><th>total_pageviews/inviews_minus_median_impression</th><th>mean_JS_minus_median_impression</th><th>mean_topic_model_cosine_minus_median_impression</th><th>topics_cosine_minus_median_impression</th><th>article_delay_hours_minus_median_impression</th><th>total_pageviews_minus_median_impression</th><th>total_inviews_minus_median_impression</th><th>trendiness_score_category_minus_median_impression</th><th>std_JS_minus_median_impression</th><th>trendiness_score_5d_minus_median_impression</th><th>total_read_time_minus_median_impression</th><th>mean_JS_l_inf_user</th><th>std_JS_l_inf_user</th><th>mean_topic_model_cosine_l_inf_user</th><th>topics_cosine_l_inf_user</th><th>article_delay_hours_l_inf_article</th><th>mean_JS_l_inf_article</th><th>std_JS_l_inf_article</th><th>mean_topic_model_cosine_l_inf_article</th><th>topics_cosine_l_inf_article</th><th>category_diversity_impression</th><th>sentiment_label_diversity_impression</th><th>article_type_diversity_impression</th></tr><tr><td>u32</td><td>i32</td><td>u32</td><td>i8</td><td>i8</td><td>f32</td><td>f32</td><td>bool</td><td>i8</td><td>i8</td><td>bool</td><td>i8</td><td>i16</td><td>i16</td><td>i16</td><td>i8</td><td>i8</td><td>f32</td><td>f32</td><td>f32</td><td>bool</td><td>i16</td><td>f32</td><td>str</td><td>u32</td><td>u8</td><td>u8</td><td>u16</td><td>u32</td><td>i32</td><td>i32</td><td>f32</td><td>f32</td><td>str</td><td>i16</td><td>i32</td><td>bool</td><td>&hellip;</td><td>f64</td><td>f32</td><td>f32</td><td>f32</td><td>f32</td><td>f64</td><td>f64</td><td>f64</td><td>f64</td><td>f32</td><td>f64</td><td>f32</td><td>f64</td><td>f64</td><td>f32</td><td>f32</td><td>f32</td><td>f32</td><td>f64</td><td>f64</td><td>f64</td><td>f64</td><td>f32</td><td>f64</td><td>f32</td><td>f32</td><td>f32</td><td>f32</td><td>f32</td><td>f64</td><td>f32</td><td>f32</td><td>f32</td><td>f32</td><td>u32</td><td>u32</td><td>u32</td></tr></thead><tbody><tr><td>205373625</td><td>9785030</td><td>1801226</td><td>0</td><td>2</td><td>251.0</td><td>null</td><td>true</td><td>0</td><td>null</td><td>true</td><td>5</td><td>30</td><td>80</td><td>162</td><td>7</td><td>17</td><td>0.375</td><td>0.185185</td><td>0.146789</td><td>false</td><td>414</td><td>0.9167</td><td>&quot;Positive&quot;</td><td>3</td><td>6</td><td>31</td><td>426</td><td>3</td><td>37391</td><td>349453</td><td>2.850225e6</td><td>0.106999</td><td>&quot;article_default&quot;</td><td>0</td><td>2</td><td>false</td><td>&hellip;</td><td>3.613138</td><td>3.589502</td><td>3.595951</td><td>3.758065</td><td>3.631038</td><td>NaN</td><td>3.447933</td><td>3.399587</td><td>3.603802</td><td>3.672916</td><td>3.567628</td><td>3.488753</td><td>-139.0</td><td>69.0</td><td>-0.021321</td><td>-0.059766</td><td>0.077358</td><td>-0.207508</td><td>-3.0</td><td>-15276.5</td><td>-34312.5</td><td>-67.0</td><td>-0.035288</td><td>-253.0</td><td>-770304.0</td><td>0.291109</td><td>0.442209</td><td>0.972551</td><td>0.25217</td><td>0.025974</td><td>0.253</td><td>0.421015</td><td>0.879186</td><td>0.272875</td><td>8</td><td>3</td><td>3</td></tr><tr><td>456698625</td><td>9553264</td><td>1757180</td><td>0</td><td>2</td><td>34.0</td><td>null</td><td>false</td><td>2</td><td>null</td><td>false</td><td>5</td><td>55</td><td>105</td><td>190</td><td>3</td><td>5</td><td>0.52381</td><td>0.289474</td><td>0.173267</td><td>true</td><td>457</td><td>0.8349</td><td>&quot;Neutral&quot;</td><td>1</td><td>6</td><td>20</td><td>718</td><td>3</td><td>null</td><td>null</td><td>null</td><td>null</td><td>&quot;article_default&quot;</td><td>162</td><td>3908</td><td>false</td><td>&hellip;</td><td>2.414501</td><td>2.598626</td><td>2.587271</td><td>2.703429</td><td>2.621012</td><td>NaN</td><td>2.487291</td><td>2.576228</td><td>2.518426</td><td>2.683312</td><td>2.546191</td><td>2.466265</td><td>-80.0</td><td>-377.0</td><td>null</td><td>-0.007509</td><td>-0.09586</td><td>-0.077113</td><td>3906.0</td><td>null</td><td>null</td><td>-96.0</td><td>0.000809</td><td>-89.0</td><td>null</td><td>0.324542</td><td>0.586527</td><td>0.720961</td><td>0.291917</td><td>0.993644</td><td>0.10526</td><td>0.269075</td><td>0.808239</td><td>0.179034</td><td>5</td><td>3</td><td>1</td></tr><tr><td>46558736</td><td>7213923</td><td>1885995</td><td>0</td><td>2</td><td>25.0</td><td>null</td><td>false</td><td>2</td><td>null</td><td>false</td><td>5</td><td>26</td><td>64</td><td>94</td><td>1</td><td>6</td><td>0.40625</td><td>0.276596</td><td>0.105263</td><td>true</td><td>565</td><td>0.8109</td><td>&quot;Neutral&quot;</td><td>5</td><td>10</td><td>42</td><td>1048</td><td>4</td><td>null</td><td>null</td><td>null</td><td>null</td><td>&quot;article_default&quot;</td><td>1766</td><td>42385</td><td>false</td><td>&hellip;</td><td>2.5383</td><td>2.609011</td><td>2.512937</td><td>2.704911</td><td>2.545427</td><td>NaN</td><td>2.441637</td><td>2.554746</td><td>2.483112</td><td>2.606141</td><td>2.522325</td><td>2.387892</td><td>-98.0</td><td>-1373.0</td><td>null</td><td>-0.074603</td><td>0.002056</td><td>-0.228412</td><td>42383.0</td><td>null</td><td>null</td><td>-95.0</td><td>-0.09143</td><td>-217.0</td><td>null</td><td>0.093726</td><td>0.196071</td><td>0.89184</td><td>0.124086</td><td>0.998281</td><td>0.045365</td><td>0.194879</td><td>0.848475</td><td>0.144924</td><td>6</td><td>3</td><td>1</td></tr><tr><td>470321755</td><td>9504105</td><td>594528</td><td>0</td><td>2</td><td>0.0</td><td>100.0</td><td>false</td><td>2</td><td>null</td><td>false</td><td>5</td><td>84</td><td>249</td><td>393</td><td>2</td><td>19</td><td>0.337349</td><td>0.21374</td><td>0.394612</td><td>true</td><td>142</td><td>0.8874</td><td>&quot;Positive&quot;</td><td>5</td><td>7</td><td>44</td><td>836</td><td>2</td><td>null</td><td>null</td><td>null</td><td>null</td><td>&quot;article_default&quot;</td><td>203</td><td>4895</td><td>true</td><td>&hellip;</td><td>3.224331</td><td>3.149038</td><td>NaN</td><td>3.427022</td><td>NaN</td><td>NaN</td><td>3.018402</td><td>2.828171</td><td>3.191193</td><td>NaN</td><td>3.153275</td><td>3.059159</td><td>121.0</td><td>-737.0</td><td>null</td><td>0.20034</td><td>0.079726</td><td>0.402638</td><td>4892.0</td><td>null</td><td>null</td><td>27.0</td><td>0.075762</td><td>185.0</td><td>null</td><td>0.495476</td><td>0.434085</td><td>0.963454</td><td>0.572476</td><td>0.992699</td><td>0.629829</td><td>0.499302</td><td>0.864027</td><td>0.71809</td><td>8</td><td>3</td><td>2</td></tr><tr><td>214849994</td><td>9279095</td><td>811018</td><td>0</td><td>1</td><td>12.0</td><td>null</td><td>false</td><td>2</td><td>null</td><td>false</td><td>5</td><td>10</td><td>48</td><td>73</td><td>7</td><td>15</td><td>0.208333</td><td>0.136986</td><td>0.088073</td><td>true</td><td>414</td><td>0.8922</td><td>&quot;Neutral&quot;</td><td>15</td><td>5</td><td>34</td><td>1358</td><td>2</td><td>null</td><td>null</td><td>null</td><td>null</td><td>&quot;article_standard_feature&quot;</td><td>361</td><td>8667</td><td>false</td><td>&hellip;</td><td>1.97702</td><td>1.734625</td><td>2.122262</td><td>2.298575</td><td>2.136155</td><td>1.303762</td><td>1.647051</td><td>1.696444</td><td>1.864146</td><td>2.231121</td><td>2.028662</td><td>1.666511</td><td>-101.0</td><td>-976.0</td><td>null</td><td>-0.008241</td><td>0.009916</td><td>0.112593</td><td>8644.5</td><td>null</td><td>null</td><td>9.0</td><td>-0.003612</td><td>-183.0</td><td>null</td><td>0.330884</td><td>0.328687</td><td>0.903213</td><td>0.480696</td><td>0.993125</td><td>0.176142</td><td>0.323765</td><td>0.878249</td><td>0.406838</td><td>5</td><td>3</td><td>2</td></tr><tr><td>&hellip;</td><td>&hellip;</td><td>&hellip;</td><td>&hellip;</td><td>&hellip;</td><td>&hellip;</td><td>&hellip;</td><td>&hellip;</td><td>&hellip;</td><td>&hellip;</td><td>&hellip;</td><td>&hellip;</td><td>&hellip;</td><td>&hellip;</td><td>&hellip;</td><td>&hellip;</td><td>&hellip;</td><td>&hellip;</td><td>&hellip;</td><td>&hellip;</td><td>&hellip;</td><td>&hellip;</td><td>&hellip;</td><td>&hellip;</td><td>&hellip;</td><td>&hellip;</td><td>&hellip;</td><td>&hellip;</td><td>&hellip;</td><td>&hellip;</td><td>&hellip;</td><td>&hellip;</td><td>&hellip;</td><td>&hellip;</td><td>&hellip;</td><td>&hellip;</td><td>&hellip;</td><td>&hellip;</td><td>&hellip;</td><td>&hellip;</td><td>&hellip;</td><td>&hellip;</td><td>&hellip;</td><td>&hellip;</td><td>&hellip;</td><td>&hellip;</td><td>&hellip;</td><td>&hellip;</td><td>&hellip;</td><td>&hellip;</td><td>&hellip;</td><td>&hellip;</td><td>&hellip;</td><td>&hellip;</td><td>&hellip;</td><td>&hellip;</td><td>&hellip;</td><td>&hellip;</td><td>&hellip;</td><td>&hellip;</td><td>&hellip;</td><td>&hellip;</td><td>&hellip;</td><td>&hellip;</td><td>&hellip;</td><td>&hellip;</td><td>&hellip;</td><td>&hellip;</td><td>&hellip;</td><td>&hellip;</td><td>&hellip;</td><td>&hellip;</td><td>&hellip;</td><td>&hellip;</td><td>&hellip;</td></tr><tr><td>184283316</td><td>9526715</td><td>2530683</td><td>0</td><td>2</td><td>25.0</td><td>null</td><td>false</td><td>2</td><td>null</td><td>false</td><td>5</td><td>16</td><td>46</td><td>109</td><td>7</td><td>19</td><td>0.347826</td><td>0.146789</td><td>0.084404</td><td>true</td><td>457</td><td>0.9216</td><td>&quot;Positive&quot;</td><td>8</td><td>6</td><td>28</td><td>846</td><td>4</td><td>null</td><td>null</td><td>null</td><td>null</td><td>&quot;article_default&quot;</td><td>179</td><td>4306</td><td>true</td><td>&hellip;</td><td>2.579236</td><td>2.549223</td><td>2.392785</td><td>2.769034</td><td>2.455192</td><td>NaN</td><td>2.438128</td><td>2.585122</td><td>2.445014</td><td>2.563066</td><td>2.516468</td><td>2.484598</td><td>-159.0</td><td>851.5</td><td>null</td><td>-0.068041</td><td>-0.010979</td><td>-0.202956</td><td>4305.0</td><td>null</td><td>null</td><td>-66.0</td><td>-0.079315</td><td>-240.5</td><td>null</td><td>0.062263</td><td>0.154296</td><td>0.855596</td><td>0.082469</td><td>0.985806</td><td>0.117577</td><td>0.20303</td><td>0.811139</td><td>0.162312</td><td>7</td><td>3</td><td>1</td></tr><tr><td>90104855</td><td>9538004</td><td>2188571</td><td>0</td><td>1</td><td>88.0</td><td>null</td><td>false</td><td>2</td><td>null</td><td>false</td><td>5</td><td>61</td><td>190</td><td>344</td><td>6</td><td>8</td><td>0.321053</td><td>0.177326</td><td>0.368217</td><td>true</td><td>140</td><td>0.6134</td><td>&quot;Neutral&quot;</td><td>11</td><td>6</td><td>24</td><td>1112</td><td>5</td><td>null</td><td>null</td><td>null</td><td>null</td><td>&quot;article_standard_feature&quot;</td><td>145</td><td>3503</td><td>false</td><td>&hellip;</td><td>3.178899</td><td>3.238027</td><td>3.56544</td><td>3.683996</td><td>3.585115</td><td>1.93449</td><td>3.180917</td><td>3.299404</td><td>3.425413</td><td>3.607439</td><td>3.433167</td><td>3.230481</td><td>72.5</td><td>145.0</td><td>null</td><td>0.009155</td><td>0.013953</td><td>0.037341</td><td>3471.0</td><td>null</td><td>null</td><td>0.0</td><td>0.006474</td><td>154.5</td><td>null</td><td>0.597854</td><td>0.470919</td><td>0.913364</td><td>0.488181</td><td>0.973867</td><td>0.403892</td><td>0.66911</td><td>0.871372</td><td>0.498279</td><td>8</td><td>3</td><td>3</td></tr><tr><td>257661167</td><td>9268227</td><td>2577740</td><td>0</td><td>2</td><td>83.0</td><td>100.0</td><td>true</td><td>0</td><td>50</td><td>false</td><td>5</td><td>45</td><td>155</td><td>290</td><td>6</td><td>17</td><td>0.290323</td><td>0.155172</td><td>0.300388</td><td>true</td><td>140</td><td>0.9946</td><td>&quot;Negative&quot;</td><td>5</td><td>6</td><td>25</td><td>1102</td><td>5</td><td>null</td><td>null</td><td>null</td><td>null</td><td>&quot;article_default&quot;</td><td>361</td><td>8676</td><td>false</td><td>&hellip;</td><td>2.615567</td><td>2.698224</td><td>2.763518</td><td>2.885952</td><td>2.800743</td><td>NaN</td><td>2.487511</td><td>2.639263</td><td>2.779887</td><td>2.778692</td><td>2.726676</td><td>2.495079</td><td>-4.0</td><td>-113.5</td><td>null</td><td>-0.002833</td><td>-0.015208</td><td>-0.008086</td><td>8675.0</td><td>null</td><td>null</td><td>-54.0</td><td>-0.040868</td><td>17.0</td><td>null</td><td>0.617845</td><td>0.433314</td><td>0.831347</td><td>0.59966</td><td>0.987592</td><td>0.329419</td><td>0.643728</td><td>0.798818</td><td>0.439408</td><td>5</td><td>3</td><td>2</td></tr><tr><td>379754148</td><td>9786230</td><td>1567717</td><td>0</td><td>1</td><td>110.0</td><td>100.0</td><td>false</td><td>2</td><td>null</td><td>false</td><td>5</td><td>69</td><td>250</td><td>413</td><td>1</td><td>11</td><td>0.276</td><td>0.16707</td><td>0.411184</td><td>false</td><td>142</td><td>0.9891</td><td>&quot;Negative&quot;</td><td>2</td><td>6</td><td>14</td><td>263</td><td>4</td><td>62719</td><td>288112</td><td>2.380866e6</td><td>0.21769</td><td>&quot;article_default&quot;</td><td>0</td><td>3</td><td>false</td><td>&hellip;</td><td>0.693936</td><td>1.919736</td><td>1.902583</td><td>1.944614</td><td>1.896908</td><td>NaN</td><td>1.818739</td><td>1.884916</td><td>1.858519</td><td>1.90391</td><td>1.926037</td><td>1.836109</td><td>-48.0</td><td>1589.0</td><td>0.068483</td><td>-0.043218</td><td>0.0</td><td>-0.088774</td><td>0.0</td><td>4351.0</td><td>-26080.0</td><td>0.0</td><td>-0.014528</td><td>-71.0</td><td>-600245.0</td><td>0.522058</td><td>0.630632</td><td>0.892089</td><td>0.611012</td><td>0.058824</td><td>0.387504</td><td>0.446642</td><td>0.860705</td><td>0.584431</td><td>3</td><td>2</td><td>1</td></tr><tr><td>387804927</td><td>9780815</td><td>1477863</td><td>0</td><td>1</td><td>65.0</td><td>100.0</td><td>false</td><td>2</td><td>null</td><td>false</td><td>5</td><td>53</td><td>161</td><td>274</td><td>1</td><td>21</td><td>0.329193</td><td>0.193431</td><td>0.264803</td><td>true</td><td>414</td><td>0.8868</td><td>&quot;Negative&quot;</td><td>6</td><td>10</td><td>19</td><td>1127</td><td>4</td><td>63246</td><td>515693</td><td>2.941241e6</td><td>0.122643</td><td>&quot;article_default&quot;</td><td>0</td><td>15</td><td>true</td><td>&hellip;</td><td>2.027107</td><td>2.332453</td><td>2.380085</td><td>2.39675</td><td>2.375729</td><td>NaN</td><td>2.187124</td><td>2.319345</td><td>2.199281</td><td>2.36406</td><td>2.205605</td><td>2.091642</td><td>0.0</td><td>618.0</td><td>-0.058693</td><td>-0.007615</td><td>0.012926</td><td>-0.035557</td><td>14.0</td><td>-33912.0</td><td>-20099.0</td><td>-1.0</td><td>-0.072974</td><td>0.0</td><td>-318377.0</td><td>0.461498</td><td>0.362624</td><td>0.854774</td><td>0.233633</td><td>0.211268</td><td>0.266637</td><td>0.469551</td><td>0.80592</td><td>0.307582</td><td>5</td><td>3</td><td>2</td></tr></tbody></table></div>"
      ],
      "text/plain": [
       "shape: (2_928_942, 254)\n",
       "┌─────────────┬─────────┬─────────┬────────┬───┬────────────┬────────────┬────────────┬────────────┐\n",
       "│ impression_ ┆ article ┆ user_id ┆ target ┆ … ┆ topics_cos ┆ category_d ┆ sentiment_ ┆ article_ty │\n",
       "│ id          ┆ ---     ┆ ---     ┆ ---    ┆   ┆ ine_l_inf_ ┆ iversity_i ┆ label_dive ┆ pe_diversi │\n",
       "│ ---         ┆ i32     ┆ u32     ┆ i8     ┆   ┆ article    ┆ mpression  ┆ rsity_impr ┆ ty_impress │\n",
       "│ u32         ┆         ┆         ┆        ┆   ┆ ---        ┆ ---        ┆ …          ┆ …          │\n",
       "│             ┆         ┆         ┆        ┆   ┆ f32        ┆ u32        ┆ ---        ┆ ---        │\n",
       "│             ┆         ┆         ┆        ┆   ┆            ┆            ┆ u32        ┆ u32        │\n",
       "╞═════════════╪═════════╪═════════╪════════╪═══╪════════════╪════════════╪════════════╪════════════╡\n",
       "│ 205373625   ┆ 9785030 ┆ 1801226 ┆ 0      ┆ … ┆ 0.272875   ┆ 8          ┆ 3          ┆ 3          │\n",
       "│ 456698625   ┆ 9553264 ┆ 1757180 ┆ 0      ┆ … ┆ 0.179034   ┆ 5          ┆ 3          ┆ 1          │\n",
       "│ 46558736    ┆ 7213923 ┆ 1885995 ┆ 0      ┆ … ┆ 0.144924   ┆ 6          ┆ 3          ┆ 1          │\n",
       "│ 470321755   ┆ 9504105 ┆ 594528  ┆ 0      ┆ … ┆ 0.71809    ┆ 8          ┆ 3          ┆ 2          │\n",
       "│ 214849994   ┆ 9279095 ┆ 811018  ┆ 0      ┆ … ┆ 0.406838   ┆ 5          ┆ 3          ┆ 2          │\n",
       "│ …           ┆ …       ┆ …       ┆ …      ┆ … ┆ …          ┆ …          ┆ …          ┆ …          │\n",
       "│ 184283316   ┆ 9526715 ┆ 2530683 ┆ 0      ┆ … ┆ 0.162312   ┆ 7          ┆ 3          ┆ 1          │\n",
       "│ 90104855    ┆ 9538004 ┆ 2188571 ┆ 0      ┆ … ┆ 0.498279   ┆ 8          ┆ 3          ┆ 3          │\n",
       "│ 257661167   ┆ 9268227 ┆ 2577740 ┆ 0      ┆ … ┆ 0.439408   ┆ 5          ┆ 3          ┆ 2          │\n",
       "│ 379754148   ┆ 9786230 ┆ 1567717 ┆ 0      ┆ … ┆ 0.584431   ┆ 3          ┆ 2          ┆ 1          │\n",
       "│ 387804927   ┆ 9780815 ┆ 1477863 ┆ 0      ┆ … ┆ 0.307582   ┆ 5          ┆ 3          ┆ 2          │\n",
       "└─────────────┴─────────┴─────────┴────────┴───┴────────────┴────────────┴────────────┴────────────┘"
      ]
     },
     "execution_count": 37,
     "metadata": {},
     "output_type": "execute_result"
    }
   ],
   "source": [
    "val_ds = pl.read_parquet('/mnt/ebs_volume/recsys2024/preprocessing/small_ds/validation/val_ds.parquet')\n",
    "val_ds"
   ]
  },
  {
   "cell_type": "code",
   "execution_count": 38,
   "metadata": {},
   "outputs": [
    {
     "name": "stdout",
     "output_type": "stream",
     "text": [
      "File loaded at: /home/ubuntu/recsys2024/urm/recsys/small/URM_validation.npz\n",
      "ItemKNNCBFRecommender: URM Detected 3485 (18.5%) users with no interactions.\n",
      "ItemKNNCBFRecommender: URM Detected 12029 (58.0%) items with no interactions.\n",
      "Compute_Similarity: detected dense matrix\n",
      "Similarity column 20738 (100.0%), 225.71 column/sec. Elapsed time 1.53 min\n",
      "SLIM_BPR_Cython: URM Detected 3485 (18.5%) users with no interactions.\n",
      "SLIM_BPR_Cython: URM Detected 12029 (58.0%) items with no interactions.\n",
      "SLIM_BPR_Cython: Loading model from file '/home/ubuntu/recsys2024/algo/recsys/small/validation/SLIM_BPR_Cython'\n",
      "SLIM_BPR_Cython: Loading complete\n",
      "ItemKNNCFRecommender: URM Detected 3485 (18.5%) users with no interactions.\n",
      "ItemKNNCFRecommender: URM Detected 12029 (58.0%) items with no interactions.\n",
      "ItemKNNCFRecommender: Loading model from file '/home/ubuntu/recsys2024/algo/recsys/small/validation/ItemKNNCFRecommender'\n",
      "ItemKNNCFRecommender: Loading complete\n",
      "PureSVDItemRecommender: URM Detected 3485 (18.5%) users with no interactions.\n",
      "PureSVDItemRecommender: URM Detected 12029 (58.0%) items with no interactions.\n",
      "PureSVDItemRecommender: Loading model from file '/home/ubuntu/recsys2024/algo/recsys/small/validation/PureSVDItemRecommender'\n",
      "PureSVDItemRecommender: Loading complete\n",
      "PureSVDRecommender: URM Detected 3485 (18.5%) users with no interactions.\n",
      "PureSVDRecommender: URM Detected 12029 (58.0%) items with no interactions.\n",
      "PureSVDRecommender: Loading model from file '/home/ubuntu/recsys2024/algo/recsys/small/validation/PureSVDRecommender'\n",
      "PureSVDRecommender: Loading complete\n",
      "RP3betaRecommender: URM Detected 3485 (18.5%) users with no interactions.\n",
      "RP3betaRecommender: URM Detected 12029 (58.0%) items with no interactions.\n",
      "RP3betaRecommender: Loading model from file '/home/ubuntu/recsys2024/algo/recsys/small/validation/RP3betaRecommender'\n",
      "RP3betaRecommender: Loading complete\n",
      "Memory usage of dataframe is 100.56 MB\n",
      "Memory usage after optimization is: 100.56 MB\n",
      "Decreased by 0.0%\n",
      "Built recsys scores features in 1.9 minutes\n"
     ]
    }
   ],
   "source": [
    "URM_validation = load_sparse_csr(Path('/home/ubuntu/recsys2024/urm/recsys/small/URM_validation.npz'))\n",
    "\n",
    "knn_icm = ItemKNNCBFRecommender(URM_train=URM_validation, ICM_train=ICM)\n",
    "knn_icm.fit()\n",
    "\n",
    "recs = load_recommenders(URM_validation, Path('/home/ubuntu/recsys2024/algo/recsys/small/validation'))\n",
    "\n",
    "recs.append(knn_icm)\n",
    "\n",
    "recsys_features = build_recsys_features(history=history_train.vstack(history_val),behaviors=behaviors_val,articles=articles,recs=recs)"
   ]
  },
  {
   "cell_type": "code",
   "execution_count": 93,
   "metadata": {},
   "outputs": [],
   "source": [
    "#recsys_features = pl.read_parquet('/mnt/ebs_volume_2/recsys2024/features/recsys/small/validation/recsys_scores_features.parquet')\n",
    "#recsys_features"
   ]
  },
  {
   "cell_type": "code",
   "execution_count": 39,
   "metadata": {},
   "outputs": [
    {
     "data": {
      "text/html": [
       "<div><style>\n",
       ".dataframe > thead > tr,\n",
       ".dataframe > tbody > tr {\n",
       "  text-align: right;\n",
       "  white-space: pre-wrap;\n",
       "}\n",
       "</style>\n",
       "<small>shape: (2_928_942, 260)</small><table border=\"1\" class=\"dataframe\"><thead><tr><th>impression_id</th><th>article</th><th>user_id</th><th>target</th><th>device_type</th><th>read_time</th><th>scroll_percentage</th><th>is_sso_user</th><th>gender</th><th>age</th><th>is_subscriber</th><th>postcode</th><th>trendiness_score_1d</th><th>trendiness_score_3d</th><th>trendiness_score_5d</th><th>weekday</th><th>hour</th><th>trendiness_score_1d/3d</th><th>trendiness_score_1d/5d</th><th>normalized_trendiness_score_overall</th><th>premium</th><th>category</th><th>sentiment_score</th><th>sentiment_label</th><th>num_images</th><th>title_len</th><th>subtitle_len</th><th>body_len</th><th>num_topics</th><th>total_pageviews</th><th>total_inviews</th><th>total_read_time</th><th>total_pageviews/inviews</th><th>article_type</th><th>article_delay_days</th><th>article_delay_hours</th><th>Entity_EVENT_Present</th><th>&hellip;</th><th>entropy_impression_total_pageviews</th><th>entropy_impression_total_inviews</th><th>entropy_impression_trendiness_score_category</th><th>entropy_impression_std_JS</th><th>entropy_impression_trendiness_score_5d</th><th>entropy_impression_total_read_time</th><th>trendiness_score_3d_minus_median_impression</th><th>endorsement_10h_minus_median_impression</th><th>total_pageviews/inviews_minus_median_impression</th><th>mean_JS_minus_median_impression</th><th>mean_topic_model_cosine_minus_median_impression</th><th>topics_cosine_minus_median_impression</th><th>article_delay_hours_minus_median_impression</th><th>total_pageviews_minus_median_impression</th><th>total_inviews_minus_median_impression</th><th>trendiness_score_category_minus_median_impression</th><th>std_JS_minus_median_impression</th><th>trendiness_score_5d_minus_median_impression</th><th>total_read_time_minus_median_impression</th><th>mean_JS_l_inf_user</th><th>std_JS_l_inf_user</th><th>mean_topic_model_cosine_l_inf_user</th><th>topics_cosine_l_inf_user</th><th>article_delay_hours_l_inf_article</th><th>mean_JS_l_inf_article</th><th>std_JS_l_inf_article</th><th>mean_topic_model_cosine_l_inf_article</th><th>topics_cosine_l_inf_article</th><th>category_diversity_impression</th><th>sentiment_label_diversity_impression</th><th>article_type_diversity_impression</th><th>SLIM_BPR_Cython</th><th>ItemKNNCFRecommender</th><th>PureSVDItemRecommender</th><th>PureSVDRecommender</th><th>RP3betaRecommender</th><th>ItemKNNCBFRecommender</th></tr><tr><td>u32</td><td>i32</td><td>u32</td><td>i8</td><td>i8</td><td>f32</td><td>f32</td><td>bool</td><td>i8</td><td>i8</td><td>bool</td><td>i8</td><td>i16</td><td>i16</td><td>i16</td><td>i8</td><td>i8</td><td>f32</td><td>f32</td><td>f32</td><td>bool</td><td>i16</td><td>f32</td><td>str</td><td>u32</td><td>u8</td><td>u8</td><td>u16</td><td>u32</td><td>i32</td><td>i32</td><td>f32</td><td>f32</td><td>str</td><td>i16</td><td>i32</td><td>bool</td><td>&hellip;</td><td>f64</td><td>f64</td><td>f64</td><td>f32</td><td>f64</td><td>f32</td><td>f64</td><td>f64</td><td>f32</td><td>f32</td><td>f32</td><td>f32</td><td>f64</td><td>f64</td><td>f64</td><td>f64</td><td>f32</td><td>f64</td><td>f32</td><td>f32</td><td>f32</td><td>f32</td><td>f32</td><td>f64</td><td>f32</td><td>f32</td><td>f32</td><td>f32</td><td>u32</td><td>u32</td><td>u32</td><td>f32</td><td>f32</td><td>f32</td><td>f32</td><td>f32</td><td>f32</td></tr></thead><tbody><tr><td>205373625</td><td>9785030</td><td>1801226</td><td>0</td><td>2</td><td>251.0</td><td>null</td><td>true</td><td>0</td><td>null</td><td>true</td><td>5</td><td>30</td><td>80</td><td>162</td><td>7</td><td>17</td><td>0.375</td><td>0.185185</td><td>0.146789</td><td>false</td><td>414</td><td>0.9167</td><td>&quot;Positive&quot;</td><td>3</td><td>6</td><td>31</td><td>426</td><td>3</td><td>37391</td><td>349453</td><td>2.850225e6</td><td>0.106999</td><td>&quot;article_default&quot;</td><td>0</td><td>2</td><td>false</td><td>&hellip;</td><td>3.447933</td><td>3.399587</td><td>3.603802</td><td>3.672916</td><td>3.567628</td><td>3.488753</td><td>-139.0</td><td>69.0</td><td>-0.021321</td><td>-0.059766</td><td>0.077358</td><td>-0.207508</td><td>-3.0</td><td>-15276.5</td><td>-34312.5</td><td>-67.0</td><td>-0.035288</td><td>-253.0</td><td>-770304.0</td><td>0.291109</td><td>0.442209</td><td>0.972551</td><td>0.25217</td><td>0.025974</td><td>0.253</td><td>0.421015</td><td>0.879186</td><td>0.272875</td><td>8</td><td>3</td><td>3</td><td>0.0</td><td>0.0</td><td>0.0</td><td>0.0</td><td>0.0</td><td>0.007636</td></tr><tr><td>456698625</td><td>9553264</td><td>1757180</td><td>0</td><td>2</td><td>34.0</td><td>null</td><td>false</td><td>2</td><td>null</td><td>false</td><td>5</td><td>55</td><td>105</td><td>190</td><td>3</td><td>5</td><td>0.52381</td><td>0.289474</td><td>0.173267</td><td>true</td><td>457</td><td>0.8349</td><td>&quot;Neutral&quot;</td><td>1</td><td>6</td><td>20</td><td>718</td><td>3</td><td>null</td><td>null</td><td>null</td><td>null</td><td>&quot;article_default&quot;</td><td>162</td><td>3908</td><td>false</td><td>&hellip;</td><td>2.487291</td><td>2.576228</td><td>2.518426</td><td>2.683312</td><td>2.546191</td><td>2.466265</td><td>-80.0</td><td>-377.0</td><td>null</td><td>-0.007509</td><td>-0.09586</td><td>-0.077113</td><td>3906.0</td><td>null</td><td>null</td><td>-96.0</td><td>0.000809</td><td>-89.0</td><td>null</td><td>0.324542</td><td>0.586527</td><td>0.720961</td><td>0.291917</td><td>0.993644</td><td>0.10526</td><td>0.269075</td><td>0.808239</td><td>0.179034</td><td>5</td><td>3</td><td>1</td><td>0.0</td><td>0.0</td><td>0.000602</td><td>-0.000296</td><td>0.0</td><td>0.007901</td></tr><tr><td>46558736</td><td>7213923</td><td>1885995</td><td>0</td><td>2</td><td>25.0</td><td>null</td><td>false</td><td>2</td><td>null</td><td>false</td><td>5</td><td>26</td><td>64</td><td>94</td><td>1</td><td>6</td><td>0.40625</td><td>0.276596</td><td>0.105263</td><td>true</td><td>565</td><td>0.8109</td><td>&quot;Neutral&quot;</td><td>5</td><td>10</td><td>42</td><td>1048</td><td>4</td><td>null</td><td>null</td><td>null</td><td>null</td><td>&quot;article_default&quot;</td><td>1766</td><td>42385</td><td>false</td><td>&hellip;</td><td>2.441637</td><td>2.554746</td><td>2.483112</td><td>2.606141</td><td>2.522325</td><td>2.387892</td><td>-98.0</td><td>-1373.0</td><td>null</td><td>-0.074603</td><td>0.002056</td><td>-0.228412</td><td>42383.0</td><td>null</td><td>null</td><td>-95.0</td><td>-0.09143</td><td>-217.0</td><td>null</td><td>0.093726</td><td>0.196071</td><td>0.89184</td><td>0.124086</td><td>0.998281</td><td>0.045365</td><td>0.194879</td><td>0.848475</td><td>0.144924</td><td>6</td><td>3</td><td>1</td><td>0.015117</td><td>0.023968</td><td>0.157036</td><td>0.05609</td><td>0.014369</td><td>0.0</td></tr><tr><td>470321755</td><td>9504105</td><td>594528</td><td>0</td><td>2</td><td>0.0</td><td>100.0</td><td>false</td><td>2</td><td>null</td><td>false</td><td>5</td><td>84</td><td>249</td><td>393</td><td>2</td><td>19</td><td>0.337349</td><td>0.21374</td><td>0.394612</td><td>true</td><td>142</td><td>0.8874</td><td>&quot;Positive&quot;</td><td>5</td><td>7</td><td>44</td><td>836</td><td>2</td><td>null</td><td>null</td><td>null</td><td>null</td><td>&quot;article_default&quot;</td><td>203</td><td>4895</td><td>true</td><td>&hellip;</td><td>3.018402</td><td>2.828171</td><td>3.191193</td><td>NaN</td><td>3.153275</td><td>3.059159</td><td>121.0</td><td>-737.0</td><td>null</td><td>0.20034</td><td>0.079726</td><td>0.402638</td><td>4892.0</td><td>null</td><td>null</td><td>27.0</td><td>0.075762</td><td>185.0</td><td>null</td><td>0.495476</td><td>0.434085</td><td>0.963454</td><td>0.572476</td><td>0.992699</td><td>0.629829</td><td>0.499302</td><td>0.864027</td><td>0.71809</td><td>8</td><td>3</td><td>2</td><td>0.0</td><td>0.0</td><td>0.000044</td><td>-0.000059</td><td>0.0</td><td>0.0</td></tr><tr><td>214849994</td><td>9279095</td><td>811018</td><td>0</td><td>1</td><td>12.0</td><td>null</td><td>false</td><td>2</td><td>null</td><td>false</td><td>5</td><td>10</td><td>48</td><td>73</td><td>7</td><td>15</td><td>0.208333</td><td>0.136986</td><td>0.088073</td><td>true</td><td>414</td><td>0.8922</td><td>&quot;Neutral&quot;</td><td>15</td><td>5</td><td>34</td><td>1358</td><td>2</td><td>null</td><td>null</td><td>null</td><td>null</td><td>&quot;article_standard_feature&quot;</td><td>361</td><td>8667</td><td>false</td><td>&hellip;</td><td>1.647051</td><td>1.696444</td><td>1.864146</td><td>2.231121</td><td>2.028662</td><td>1.666511</td><td>-101.0</td><td>-976.0</td><td>null</td><td>-0.008241</td><td>0.009916</td><td>0.112593</td><td>8644.5</td><td>null</td><td>null</td><td>9.0</td><td>-0.003612</td><td>-183.0</td><td>null</td><td>0.330884</td><td>0.328687</td><td>0.903213</td><td>0.480696</td><td>0.993125</td><td>0.176142</td><td>0.323765</td><td>0.878249</td><td>0.406838</td><td>5</td><td>3</td><td>2</td><td>0.0</td><td>0.0</td><td>0.002322</td><td>0.001932</td><td>0.0</td><td>0.0</td></tr><tr><td>&hellip;</td><td>&hellip;</td><td>&hellip;</td><td>&hellip;</td><td>&hellip;</td><td>&hellip;</td><td>&hellip;</td><td>&hellip;</td><td>&hellip;</td><td>&hellip;</td><td>&hellip;</td><td>&hellip;</td><td>&hellip;</td><td>&hellip;</td><td>&hellip;</td><td>&hellip;</td><td>&hellip;</td><td>&hellip;</td><td>&hellip;</td><td>&hellip;</td><td>&hellip;</td><td>&hellip;</td><td>&hellip;</td><td>&hellip;</td><td>&hellip;</td><td>&hellip;</td><td>&hellip;</td><td>&hellip;</td><td>&hellip;</td><td>&hellip;</td><td>&hellip;</td><td>&hellip;</td><td>&hellip;</td><td>&hellip;</td><td>&hellip;</td><td>&hellip;</td><td>&hellip;</td><td>&hellip;</td><td>&hellip;</td><td>&hellip;</td><td>&hellip;</td><td>&hellip;</td><td>&hellip;</td><td>&hellip;</td><td>&hellip;</td><td>&hellip;</td><td>&hellip;</td><td>&hellip;</td><td>&hellip;</td><td>&hellip;</td><td>&hellip;</td><td>&hellip;</td><td>&hellip;</td><td>&hellip;</td><td>&hellip;</td><td>&hellip;</td><td>&hellip;</td><td>&hellip;</td><td>&hellip;</td><td>&hellip;</td><td>&hellip;</td><td>&hellip;</td><td>&hellip;</td><td>&hellip;</td><td>&hellip;</td><td>&hellip;</td><td>&hellip;</td><td>&hellip;</td><td>&hellip;</td><td>&hellip;</td><td>&hellip;</td><td>&hellip;</td><td>&hellip;</td><td>&hellip;</td><td>&hellip;</td></tr><tr><td>184283316</td><td>9526715</td><td>2530683</td><td>0</td><td>2</td><td>25.0</td><td>null</td><td>false</td><td>2</td><td>null</td><td>false</td><td>5</td><td>16</td><td>46</td><td>109</td><td>7</td><td>19</td><td>0.347826</td><td>0.146789</td><td>0.084404</td><td>true</td><td>457</td><td>0.9216</td><td>&quot;Positive&quot;</td><td>8</td><td>6</td><td>28</td><td>846</td><td>4</td><td>null</td><td>null</td><td>null</td><td>null</td><td>&quot;article_default&quot;</td><td>179</td><td>4306</td><td>true</td><td>&hellip;</td><td>2.438128</td><td>2.585122</td><td>2.445014</td><td>2.563066</td><td>2.516468</td><td>2.484598</td><td>-159.0</td><td>851.5</td><td>null</td><td>-0.068041</td><td>-0.010979</td><td>-0.202956</td><td>4305.0</td><td>null</td><td>null</td><td>-66.0</td><td>-0.079315</td><td>-240.5</td><td>null</td><td>0.062263</td><td>0.154296</td><td>0.855596</td><td>0.082469</td><td>0.985806</td><td>0.117577</td><td>0.20303</td><td>0.811139</td><td>0.162312</td><td>7</td><td>3</td><td>1</td><td>0.0</td><td>0.0</td><td>0.0</td><td>0.0</td><td>0.0</td><td>0.0</td></tr><tr><td>90104855</td><td>9538004</td><td>2188571</td><td>0</td><td>1</td><td>88.0</td><td>null</td><td>false</td><td>2</td><td>null</td><td>false</td><td>5</td><td>61</td><td>190</td><td>344</td><td>6</td><td>8</td><td>0.321053</td><td>0.177326</td><td>0.368217</td><td>true</td><td>140</td><td>0.6134</td><td>&quot;Neutral&quot;</td><td>11</td><td>6</td><td>24</td><td>1112</td><td>5</td><td>null</td><td>null</td><td>null</td><td>null</td><td>&quot;article_standard_feature&quot;</td><td>145</td><td>3503</td><td>false</td><td>&hellip;</td><td>3.180917</td><td>3.299404</td><td>3.425413</td><td>3.607439</td><td>3.433167</td><td>3.230481</td><td>72.5</td><td>145.0</td><td>null</td><td>0.009155</td><td>0.013953</td><td>0.037341</td><td>3471.0</td><td>null</td><td>null</td><td>0.0</td><td>0.006474</td><td>154.5</td><td>null</td><td>0.597854</td><td>0.470919</td><td>0.913364</td><td>0.488181</td><td>0.973867</td><td>0.403892</td><td>0.66911</td><td>0.871372</td><td>0.498279</td><td>8</td><td>3</td><td>3</td><td>0.0</td><td>0.0</td><td>0.004847</td><td>-0.000262</td><td>0.0</td><td>0.016177</td></tr><tr><td>257661167</td><td>9268227</td><td>2577740</td><td>0</td><td>2</td><td>83.0</td><td>100.0</td><td>true</td><td>0</td><td>50</td><td>false</td><td>5</td><td>45</td><td>155</td><td>290</td><td>6</td><td>17</td><td>0.290323</td><td>0.155172</td><td>0.300388</td><td>true</td><td>140</td><td>0.9946</td><td>&quot;Negative&quot;</td><td>5</td><td>6</td><td>25</td><td>1102</td><td>5</td><td>null</td><td>null</td><td>null</td><td>null</td><td>&quot;article_default&quot;</td><td>361</td><td>8676</td><td>false</td><td>&hellip;</td><td>2.487511</td><td>2.639263</td><td>2.779887</td><td>2.778692</td><td>2.726676</td><td>2.495079</td><td>-4.0</td><td>-113.5</td><td>null</td><td>-0.002833</td><td>-0.015208</td><td>-0.008086</td><td>8675.0</td><td>null</td><td>null</td><td>-54.0</td><td>-0.040868</td><td>17.0</td><td>null</td><td>0.617845</td><td>0.433314</td><td>0.831347</td><td>0.59966</td><td>0.987592</td><td>0.329419</td><td>0.643728</td><td>0.798818</td><td>0.439408</td><td>5</td><td>3</td><td>2</td><td>0.0</td><td>0.0</td><td>0.007424</td><td>0.005384</td><td>0.0</td><td>0.007175</td></tr><tr><td>379754148</td><td>9786230</td><td>1567717</td><td>0</td><td>1</td><td>110.0</td><td>100.0</td><td>false</td><td>2</td><td>null</td><td>false</td><td>5</td><td>69</td><td>250</td><td>413</td><td>1</td><td>11</td><td>0.276</td><td>0.16707</td><td>0.411184</td><td>false</td><td>142</td><td>0.9891</td><td>&quot;Negative&quot;</td><td>2</td><td>6</td><td>14</td><td>263</td><td>4</td><td>62719</td><td>288112</td><td>2.380866e6</td><td>0.21769</td><td>&quot;article_default&quot;</td><td>0</td><td>3</td><td>false</td><td>&hellip;</td><td>1.818739</td><td>1.884916</td><td>1.858519</td><td>1.90391</td><td>1.926037</td><td>1.836109</td><td>-48.0</td><td>1589.0</td><td>0.068483</td><td>-0.043218</td><td>0.0</td><td>-0.088774</td><td>0.0</td><td>4351.0</td><td>-26080.0</td><td>0.0</td><td>-0.014528</td><td>-71.0</td><td>-600245.0</td><td>0.522058</td><td>0.630632</td><td>0.892089</td><td>0.611012</td><td>0.058824</td><td>0.387504</td><td>0.446642</td><td>0.860705</td><td>0.584431</td><td>3</td><td>2</td><td>1</td><td>0.0</td><td>0.0</td><td>0.0</td><td>0.0</td><td>0.0</td><td>0.008196</td></tr><tr><td>387804927</td><td>9780815</td><td>1477863</td><td>0</td><td>1</td><td>65.0</td><td>100.0</td><td>false</td><td>2</td><td>null</td><td>false</td><td>5</td><td>53</td><td>161</td><td>274</td><td>1</td><td>21</td><td>0.329193</td><td>0.193431</td><td>0.264803</td><td>true</td><td>414</td><td>0.8868</td><td>&quot;Negative&quot;</td><td>6</td><td>10</td><td>19</td><td>1127</td><td>4</td><td>63246</td><td>515693</td><td>2.941241e6</td><td>0.122643</td><td>&quot;article_default&quot;</td><td>0</td><td>15</td><td>true</td><td>&hellip;</td><td>2.187124</td><td>2.319345</td><td>2.199281</td><td>2.36406</td><td>2.205605</td><td>2.091642</td><td>0.0</td><td>618.0</td><td>-0.058693</td><td>-0.007615</td><td>0.012926</td><td>-0.035557</td><td>14.0</td><td>-33912.0</td><td>-20099.0</td><td>-1.0</td><td>-0.072974</td><td>0.0</td><td>-318377.0</td><td>0.461498</td><td>0.362624</td><td>0.854774</td><td>0.233633</td><td>0.211268</td><td>0.266637</td><td>0.469551</td><td>0.80592</td><td>0.307582</td><td>5</td><td>3</td><td>2</td><td>0.0</td><td>0.0</td><td>0.0</td><td>0.0</td><td>0.0</td><td>0.0</td></tr></tbody></table></div>"
      ],
      "text/plain": [
       "shape: (2_928_942, 260)\n",
       "┌─────────────┬─────────┬─────────┬────────┬───┬────────────┬────────────┬────────────┬────────────┐\n",
       "│ impression_ ┆ article ┆ user_id ┆ target ┆ … ┆ PureSVDIte ┆ PureSVDRec ┆ RP3betaRec ┆ ItemKNNCBF │\n",
       "│ id          ┆ ---     ┆ ---     ┆ ---    ┆   ┆ mRecommend ┆ ommender   ┆ ommender   ┆ Recommende │\n",
       "│ ---         ┆ i32     ┆ u32     ┆ i8     ┆   ┆ er         ┆ ---        ┆ ---        ┆ r          │\n",
       "│ u32         ┆         ┆         ┆        ┆   ┆ ---        ┆ f32        ┆ f32        ┆ ---        │\n",
       "│             ┆         ┆         ┆        ┆   ┆ f32        ┆            ┆            ┆ f32        │\n",
       "╞═════════════╪═════════╪═════════╪════════╪═══╪════════════╪════════════╪════════════╪════════════╡\n",
       "│ 205373625   ┆ 9785030 ┆ 1801226 ┆ 0      ┆ … ┆ 0.0        ┆ 0.0        ┆ 0.0        ┆ 0.007636   │\n",
       "│ 456698625   ┆ 9553264 ┆ 1757180 ┆ 0      ┆ … ┆ 0.000602   ┆ -0.000296  ┆ 0.0        ┆ 0.007901   │\n",
       "│ 46558736    ┆ 7213923 ┆ 1885995 ┆ 0      ┆ … ┆ 0.157036   ┆ 0.05609    ┆ 0.014369   ┆ 0.0        │\n",
       "│ 470321755   ┆ 9504105 ┆ 594528  ┆ 0      ┆ … ┆ 0.000044   ┆ -0.000059  ┆ 0.0        ┆ 0.0        │\n",
       "│ 214849994   ┆ 9279095 ┆ 811018  ┆ 0      ┆ … ┆ 0.002322   ┆ 0.001932   ┆ 0.0        ┆ 0.0        │\n",
       "│ …           ┆ …       ┆ …       ┆ …      ┆ … ┆ …          ┆ …          ┆ …          ┆ …          │\n",
       "│ 184283316   ┆ 9526715 ┆ 2530683 ┆ 0      ┆ … ┆ 0.0        ┆ 0.0        ┆ 0.0        ┆ 0.0        │\n",
       "│ 90104855    ┆ 9538004 ┆ 2188571 ┆ 0      ┆ … ┆ 0.004847   ┆ -0.000262  ┆ 0.0        ┆ 0.016177   │\n",
       "│ 257661167   ┆ 9268227 ┆ 2577740 ┆ 0      ┆ … ┆ 0.007424   ┆ 0.005384   ┆ 0.0        ┆ 0.007175   │\n",
       "│ 379754148   ┆ 9786230 ┆ 1567717 ┆ 0      ┆ … ┆ 0.0        ┆ 0.0        ┆ 0.0        ┆ 0.008196   │\n",
       "│ 387804927   ┆ 9780815 ┆ 1477863 ┆ 0      ┆ … ┆ 0.0        ┆ 0.0        ┆ 0.0        ┆ 0.0        │\n",
       "└─────────────┴─────────┴─────────┴────────┴───┴────────────┴────────────┴────────────┴────────────┘"
      ]
     },
     "execution_count": 39,
     "metadata": {},
     "output_type": "execute_result"
    }
   ],
   "source": [
    "val_ds = val_ds.join(recsys_features, on=['article','impression_id','user_id'], how='left')\n",
    "val_ds"
   ]
  },
  {
   "cell_type": "code",
   "execution_count": 40,
   "metadata": {},
   "outputs": [
    {
     "data": {
      "text/plain": [
       "(2928942, 260)"
      ]
     },
     "execution_count": 40,
     "metadata": {},
     "output_type": "execute_result"
    }
   ],
   "source": [
    "val_ds.shape"
   ]
  },
  {
   "cell_type": "code",
   "execution_count": 41,
   "metadata": {},
   "outputs": [
    {
     "data": {
      "text/html": [
       "<div><style>\n",
       ".dataframe > thead > tr,\n",
       ".dataframe > tbody > tr {\n",
       "  text-align: right;\n",
       "  white-space: pre-wrap;\n",
       "}\n",
       "</style>\n",
       "<small>shape: (2_928_942, 3)</small><table border=\"1\" class=\"dataframe\"><thead><tr><th>impression_id</th><th>target</th><th>prediction</th></tr><tr><td>u32</td><td>i8</td><td>f64</td></tr></thead><tbody><tr><td>205373625</td><td>0</td><td>0.003834</td></tr><tr><td>456698625</td><td>0</td><td>0.043841</td></tr><tr><td>46558736</td><td>0</td><td>0.003513</td></tr><tr><td>470321755</td><td>0</td><td>0.01971</td></tr><tr><td>214849994</td><td>0</td><td>0.008382</td></tr><tr><td>&hellip;</td><td>&hellip;</td><td>&hellip;</td></tr><tr><td>184283316</td><td>0</td><td>0.062339</td></tr><tr><td>90104855</td><td>0</td><td>0.013577</td></tr><tr><td>257661167</td><td>0</td><td>0.108202</td></tr><tr><td>379754148</td><td>0</td><td>0.631277</td></tr><tr><td>387804927</td><td>0</td><td>0.552566</td></tr></tbody></table></div>"
      ],
      "text/plain": [
       "shape: (2_928_942, 3)\n",
       "┌───────────────┬────────┬────────────┐\n",
       "│ impression_id ┆ target ┆ prediction │\n",
       "│ ---           ┆ ---    ┆ ---        │\n",
       "│ u32           ┆ i8     ┆ f64        │\n",
       "╞═══════════════╪════════╪════════════╡\n",
       "│ 205373625     ┆ 0      ┆ 0.003834   │\n",
       "│ 456698625     ┆ 0      ┆ 0.043841   │\n",
       "│ 46558736      ┆ 0      ┆ 0.003513   │\n",
       "│ 470321755     ┆ 0      ┆ 0.01971    │\n",
       "│ 214849994     ┆ 0      ┆ 0.008382   │\n",
       "│ …             ┆ …      ┆ …          │\n",
       "│ 184283316     ┆ 0      ┆ 0.062339   │\n",
       "│ 90104855      ┆ 0      ┆ 0.013577   │\n",
       "│ 257661167     ┆ 0      ┆ 0.108202   │\n",
       "│ 379754148     ┆ 0      ┆ 0.631277   │\n",
       "│ 387804927     ┆ 0      ┆ 0.552566   │\n",
       "└───────────────┴────────┴────────────┘"
      ]
     },
     "execution_count": 41,
     "metadata": {},
     "output_type": "execute_result"
    }
   ],
   "source": [
    "# impression_id will be later useful for evaluation\n",
    "val_ds_pandas = val_ds.drop(['impression_id', 'article', 'user_id']).to_pandas()\n",
    "\n",
    "val_ds_pandas[categorical_columns] = val_ds_pandas[categorical_columns].astype('category')\n",
    "\n",
    "X_val = val_ds_pandas.drop(columns=['target'])\n",
    "y_val = val_ds_pandas['target']\n",
    "\n",
    "val_ds = val_ds.with_columns(pl.Series(model.predict_proba(X_val)[:, 1]).alias('prediction'))\n",
    "val_ds.select(['impression_id', 'target', 'prediction'])\n"
   ]
  },
  {
   "cell_type": "code",
   "execution_count": 98,
   "metadata": {},
   "outputs": [
    {
     "data": {
      "text/plain": [
       "\"# impression_id will be later useful for evaluation\\nval_ds_pandas = val_ds.drop(['impression_id', 'article', 'user_id']).to_pandas()\\n\\nval_ds_pandas[categorical_columns] = val_ds_pandas[categorical_columns].astype('category')\\n\\nX_val = val_ds_pandas.drop(columns=['target'])\\ny_val = val_ds_pandas['target']\\n\\nval_ds = val_ds.with_columns(pl.Series(model.predict(X_val)).alias('prediction'))\\nval_ds.select(['impression_id', 'target', 'prediction'])\""
      ]
     },
     "execution_count": 98,
     "metadata": {},
     "output_type": "execute_result"
    }
   ],
   "source": [
    "\"\"\"# impression_id will be later useful for evaluation\n",
    "val_ds_pandas = val_ds.drop(['impression_id', 'article', 'user_id']).to_pandas()\n",
    "\n",
    "val_ds_pandas[categorical_columns] = val_ds_pandas[categorical_columns].astype('category')\n",
    "\n",
    "X_val = val_ds_pandas.drop(columns=['target'])\n",
    "y_val = val_ds_pandas['target']\n",
    "\n",
    "val_ds = val_ds.with_columns(pl.Series(model.predict(X_val)).alias('prediction'))\n",
    "val_ds.select(['impression_id', 'target', 'prediction'])\"\"\""
   ]
  },
  {
   "cell_type": "code",
   "execution_count": 42,
   "metadata": {},
   "outputs": [
    {
     "data": {
      "text/html": [
       "<div><style>\n",
       ".dataframe > thead > tr,\n",
       ".dataframe > tbody > tr {\n",
       "  text-align: right;\n",
       "  white-space: pre-wrap;\n",
       "}\n",
       "</style>\n",
       "<small>shape: (244_647, 3)</small><table border=\"1\" class=\"dataframe\"><thead><tr><th>impression_id</th><th>target</th><th>prediction</th></tr><tr><td>u32</td><td>list[i8]</td><td>list[f64]</td></tr></thead><tbody><tr><td>31280009</td><td>[0, 0, … 0]</td><td>[0.399578, 0.240918, … 0.084325]</td></tr><tr><td>456762936</td><td>[0, 0, … 0]</td><td>[0.062732, 0.44511, … 0.412559]</td></tr><tr><td>168750204</td><td>[0, 0, … 0]</td><td>[0.246336, 0.022812, … 0.283401]</td></tr><tr><td>373961595</td><td>[0, 0, … 1]</td><td>[0.554871, 0.176925, … 0.357857]</td></tr><tr><td>265823266</td><td>[0, 0, … 0]</td><td>[0.596666, 0.347244, … 0.066255]</td></tr><tr><td>&hellip;</td><td>&hellip;</td><td>&hellip;</td></tr><tr><td>495136827</td><td>[0, 0, … 1]</td><td>[0.016536, 0.011279, … 0.977852]</td></tr><tr><td>149833767</td><td>[0, 0, … 0]</td><td>[0.399938, 0.143863, … 0.151544]</td></tr><tr><td>487716256</td><td>[1, 0, … 0]</td><td>[0.98752, 0.004064, … 0.005033]</td></tr><tr><td>42791017</td><td>[0, 0, … 0]</td><td>[0.194567, 0.421583, … 0.142405]</td></tr><tr><td>446882775</td><td>[0, 1, … 0]</td><td>[0.283172, 0.728689, … 0.688467]</td></tr></tbody></table></div>"
      ],
      "text/plain": [
       "shape: (244_647, 3)\n",
       "┌───────────────┬─────────────┬─────────────────────────────────┐\n",
       "│ impression_id ┆ target      ┆ prediction                      │\n",
       "│ ---           ┆ ---         ┆ ---                             │\n",
       "│ u32           ┆ list[i8]    ┆ list[f64]                       │\n",
       "╞═══════════════╪═════════════╪═════════════════════════════════╡\n",
       "│ 31280009      ┆ [0, 0, … 0] ┆ [0.399578, 0.240918, … 0.08432… │\n",
       "│ 456762936     ┆ [0, 0, … 0] ┆ [0.062732, 0.44511, … 0.412559… │\n",
       "│ 168750204     ┆ [0, 0, … 0] ┆ [0.246336, 0.022812, … 0.28340… │\n",
       "│ 373961595     ┆ [0, 0, … 1] ┆ [0.554871, 0.176925, … 0.35785… │\n",
       "│ 265823266     ┆ [0, 0, … 0] ┆ [0.596666, 0.347244, … 0.06625… │\n",
       "│ …             ┆ …           ┆ …                               │\n",
       "│ 495136827     ┆ [0, 0, … 1] ┆ [0.016536, 0.011279, … 0.97785… │\n",
       "│ 149833767     ┆ [0, 0, … 0] ┆ [0.399938, 0.143863, … 0.15154… │\n",
       "│ 487716256     ┆ [1, 0, … 0] ┆ [0.98752, 0.004064, … 0.005033… │\n",
       "│ 42791017      ┆ [0, 0, … 0] ┆ [0.194567, 0.421583, … 0.14240… │\n",
       "│ 446882775     ┆ [0, 1, … 0] ┆ [0.283172, 0.728689, … 0.68846… │\n",
       "└───────────────┴─────────────┴─────────────────────────────────┘"
      ]
     },
     "execution_count": 42,
     "metadata": {},
     "output_type": "execute_result"
    }
   ],
   "source": [
    "evaluation_ds = val_ds.group_by('impression_id').agg(pl.col('target'), pl.col('prediction'))\n",
    "evaluation_ds"
   ]
  },
  {
   "cell_type": "code",
   "execution_count": 46,
   "metadata": {},
   "outputs": [],
   "source": [
    "import sys\n",
    "sys.path.append('/home/ubuntu/RecSysChallenge2024/src')"
   ]
  },
  {
   "cell_type": "code",
   "execution_count": 50,
   "metadata": {},
   "outputs": [
    {
     "name": "stdout",
     "output_type": "stream",
     "text": [
      "/home/ubuntu/RecSysChallenge2024/src\n"
     ]
    },
    {
     "name": "stderr",
     "output_type": "stream",
     "text": [
      "/home/ubuntu/RecSysChallenge2024/.venv/lib/python3.10/site-packages/IPython/core/magics/osm.py:417: UserWarning: This is now an optional IPython functionality, setting dhist requires you to install the `pickleshare` library.\n",
      "  self.shell.db['dhist'] = compress_dhist(dhist)[-100:]\n"
     ]
    }
   ],
   "source": [
    "%cd /home/ubuntu/RecSysChallenge2024/src"
   ]
  },
  {
   "cell_type": "code",
   "execution_count": 52,
   "metadata": {},
   "outputs": [
    {
     "data": {
      "text/plain": [
       "0.7872166138635267"
      ]
     },
     "execution_count": 52,
     "metadata": {},
     "output_type": "execute_result"
    }
   ],
   "source": [
    "from fastauc.fastauc.fast_auc import CppAuc\n",
    "cpp_auc = CppAuc()\n",
    "np.mean([cpp_auc.roc_auc_score(np.array(y_t).astype(bool), np.array(y_s).astype(np.float32)) \n",
    "                 for y_t, y_s in zip(evaluation_ds['target'].to_list(), \n",
    "                                     evaluation_ds['prediction'].to_list())])"
   ]
  }
 ],
 "metadata": {
  "kernelspec": {
   "display_name": ".venv",
   "language": "python",
   "name": "python3"
  },
  "language_info": {
   "codemirror_mode": {
    "name": "ipython",
    "version": 3
   },
   "file_extension": ".py",
   "mimetype": "text/x-python",
   "name": "python",
   "nbconvert_exporter": "python",
   "pygments_lexer": "ipython3",
   "version": "3.10.12"
  }
 },
 "nbformat": 4,
 "nbformat_minor": 2
}
