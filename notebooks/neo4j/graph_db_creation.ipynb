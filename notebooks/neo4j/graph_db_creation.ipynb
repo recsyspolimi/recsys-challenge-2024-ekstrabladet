{
 "cells": [
  {
   "cell_type": "code",
   "execution_count": null,
   "metadata": {},
   "outputs": [],
   "source": [
    "import polars as pl\n",
    "import numpy as np\n",
    "from pathlib import Path\n",
    "from polimi.utils._custom import load_history, load_articles, load_behaviors"
   ]
  },
  {
   "cell_type": "code",
   "execution_count": null,
   "metadata": {},
   "outputs": [],
   "source": [
    "base_path = Path('../../dataset')\n",
    "type = 'demo'\n",
    "split = 'train'\n",
    "CSV_STORAGE = Path('dataset/graph').joinpath(type)\n",
    "\n",
    "a = load_articles(base_path, type, split)\n",
    "h = load_history(base_path, type, split)\n",
    "b = load_behaviors(base_path, type, split)"
   ]
  },
  {
   "cell_type": "markdown",
   "metadata": {},
   "source": [
    "# Fix"
   ]
  },
  {
   "cell_type": "code",
   "execution_count": null,
   "metadata": {},
   "outputs": [],
   "source": [
    "a = a.with_columns(pl.when(pl.col('category_str') == 'bibliotek').then(2504).otherwise(pl.col('category')).alias('category'))\n",
    "a = a.with_columns(pl.when(pl.col('category') == 68).then(pl.lit(\"video\")).otherwise(pl.col('category_str')).alias('category_str'))\n",
    "\n",
    "#creation homepage node\n",
    "home_page_article_dict = {k: None for k in a.columns}\n",
    "home_page_article_id = 0\n",
    "home_page_article_dict['article_id'] = home_page_article_id\n",
    "home_page_article_dict['title'] = 'homepage'\n",
    "home_page_article_dict['article_type'] = 'homepage'\n",
    "a = a.vstack(pl.DataFrame(home_page_article_dict, schema=a.schema))\n",
    "\n",
    "#link null article id in impression to homepage node\n",
    "b = b.with_columns(pl.col('article_id').fill_null(home_page_article_id))\n"
   ]
  },
  {
   "cell_type": "markdown",
   "metadata": {},
   "source": [
    "## Creation Neo4j CSV"
   ]
  },
  {
   "cell_type": "code",
   "execution_count": null,
   "metadata": {},
   "outputs": [],
   "source": [
    "b_tmp = b.select('user_id', 'gender', 'postcode', 'age').group_by('user_id').first()\n",
    "u_data = h.select('user_id').join(b_tmp, on='user_id', how='left').sort('user_id').unique('user_id')\n",
    "u_data = u_data.with_columns(pl.lit('User').alias(':LABEL'))\n",
    "u_data=u_data.rename({'user_id': 'id:ID(User)'})\n",
    "\n",
    "u_data.write_csv(CSV_STORAGE / 'user_data.csv')\n",
    "u_data.head(3)"
   ]
  },
  {
   "cell_type": "code",
   "execution_count": null,
   "metadata": {},
   "outputs": [],
   "source": [
    "i_data = b.drop('article_id', 'article_ids_inview','article_ids_clicked', 'user_id',\n",
    "                'gender', 'postcode', 'age')\\\n",
    "          .sort('impression_id')\n",
    "\n",
    "\n",
    "i_data = i_data.with_columns(pl.lit('Impression').alias(':LABEL'))\n",
    "i_data=i_data.rename({'impression_id': 'id:ID(Impression)'})\n",
    "i_data.write_csv(CSV_STORAGE / 'impression_data.csv', datetime_format='%Y-%m-%dT%H:%M:%S')\n",
    "i_data.head(3)"
   ]
  },
  {
   "cell_type": "code",
   "execution_count": null,
   "metadata": {},
   "outputs": [],
   "source": [
    "topic = a.select(pl.col('topics').alias('topic')).explode('topic').unique().sort('topic').drop_nulls()\n",
    "topic = topic.insert_column(0, pl.Series(\"topic_id\", np.arange(topic.shape[0])))\n",
    "topic = topic.with_columns(pl.lit('Topic').alias(':LABEL'))\n",
    "topic=topic.rename({'topic': 'name', 'topic_id': 'id:ID(Topic)'})\n",
    "topic.write_csv(CSV_STORAGE / 'topic_data.csv')\n",
    "topic.head(3)"
   ]
  },
  {
   "cell_type": "code",
   "execution_count": null,
   "metadata": {},
   "outputs": [],
   "source": [
    "entity_group = a.select(pl.col('entity_groups').alias('entity_group')).explode('entity_group').unique().sort('entity_group').drop_nulls()\n",
    "entity_group = entity_group.insert_column(0, pl.Series(\"entity_group_id\", np.arange(entity_group.shape[0])))\n",
    "entity_group = entity_group.with_columns(pl.lit('Entity').alias(':LABEL'))\n",
    "entity_group = entity_group.rename({'entity_group': 'name', 'entity_group_id': 'id:ID(Entity)'})\n",
    "entity_group.write_csv(CSV_STORAGE / 'entity_data.csv')\n",
    "entity_group.head(3)"
   ]
  },
  {
   "cell_type": "code",
   "execution_count": null,
   "metadata": {},
   "outputs": [],
   "source": [
    "cats = a.select(pl.col('category').alias('category_id'), pl.col('category_str').alias('name')).unique().drop_nulls()\n",
    "ids_cats = cats.select('category_id').to_numpy().reshape(-1)\n",
    "sub_cats = a.select(pl.col('subcategory').alias('category_id')).explode('category_id').unique().drop_nulls()\n",
    "sub_cats = sub_cats.filter(~pl.col('category_id').is_in(cats.select('category_id'))).with_columns(pl.lit(None).alias('name'))\n",
    "category = cats.vstack(sub_cats).sort('category_id')\n",
    "category = category.with_columns(pl.lit('Category').alias(':LABEL')).sort('category_id').unique()\n",
    "category=category.rename({'category_id': 'id:ID(Category)'})\n",
    "category.write_csv(CSV_STORAGE / 'category_data.csv')\n",
    "category.head(3)"
   ]
  },
  {
   "cell_type": "code",
   "execution_count": null,
   "metadata": {},
   "outputs": [],
   "source": [
    "a_to_category = a.select('article_id', pl.lit(False).alias('is_sub'), pl.col('category').alias('category_id')).unique().drop_nulls()\n",
    "a_to_sub_category = a.select('article_id', pl.lit(True).alias('is_sub'), pl.col('subcategory').alias('category_id')).explode('category_id').unique().drop_nulls()\n",
    "\n",
    "a_to_category = a_to_category.vstack(a_to_sub_category).rename({'article_id': ':START_ID(Article)', 'category_id': ':END_ID(Category)'})\\\n",
    "    .with_columns(pl.lit('IS_IN').alias(':TYPE'))\n",
    "a_to_category.write_csv(CSV_STORAGE / 'article_to_category.csv')\n",
    "a_to_category.head(3)"
   ]
  },
  {
   "cell_type": "code",
   "execution_count": null,
   "metadata": {},
   "outputs": [],
   "source": [
    "a_to_topic = a.select('article_id', pl.col('topics').alias('name')).explode('name').sort('article_id').unique().drop_nulls()\n",
    "a_to_topic = a_to_topic.join(topic, on='name', how='left').select('article_id', pl.col('id:ID(Topic)').alias('topic_id'))\\\n",
    "    .with_columns(pl.lit('IS_IN').alias(':TYPE'))\n",
    "a_to_topic = a_to_topic.rename({'article_id': ':START_ID(Article)', 'topic_id': ':END_ID(Topic)'})\n",
    "a_to_topic.write_csv(CSV_STORAGE / 'article_to_topic.csv')\n",
    "a_to_topic.head(3)"
   ]
  },
  {
   "cell_type": "code",
   "execution_count": null,
   "metadata": {},
   "outputs": [],
   "source": [
    "a_to_entity = a.select('article_id', pl.col('entity_groups').alias('name')).explode('name').sort('article_id').unique().drop_nulls()\n",
    "a_to_entity = a_to_entity.join(entity_group, on='name', how='left').select('article_id', pl.col('id:ID(Entity)').alias('entity_id'))\\\n",
    "        .with_columns(pl.lit('IS_IN').alias(':TYPE'))\n",
    "\n",
    "a_to_entity = a_to_entity.rename({'article_id': ':START_ID(Article)', 'entity_id': ':END_ID(Entity)'})\n",
    "a_to_entity.write_csv(CSV_STORAGE / 'article_to_entity.csv')\n",
    "a_to_entity.head(3)"
   ]
  },
  {
   "cell_type": "code",
   "execution_count": null,
   "metadata": {},
   "outputs": [],
   "source": [
    "a_data = a.drop('image_ids', 'ner_clusters', 'entity_groups', 'topics', 'subcategory', \n",
    "                'category', 'category_str')\\\n",
    "                    .with_columns(pl.col('title').str.replace_all('\\n', ''))\\\n",
    "                    .with_columns(pl.col('subtitle').str.replace_all('\\n', ''))\\\n",
    "                    .with_columns(pl.col('body').str.replace_all('\\n', ''))\\\n",
    "                    .with_columns(pl.lit('Article').alias(':LABEL'))\\\n",
    "                    .sort('article_id')\n",
    "\n",
    "a_data = a_data.rename({'article_id': 'id:ID(Article)'})\n",
    "a_data.write_csv(CSV_STORAGE / 'article_data.csv', datetime_format='%Y-%m-%dT%H:%M:%S')\n",
    "a_data.head(3)"
   ]
  },
  {
   "cell_type": "code",
   "execution_count": null,
   "metadata": {},
   "outputs": [],
   "source": [
    "u_to_i = b.select('user_id', 'impression_id') \\\n",
    "    .sort('user_id').unique().drop_nulls() \\\n",
    "    .with_columns(pl.lit('GENERATE').alias(':TYPE'))\n",
    "    \n",
    "u_to_i = u_to_i.rename({'user_id': ':START_ID(User)', 'impression_id': ':END_ID(Impression)'})\n",
    "u_to_i.write_csv(CSV_STORAGE / 'user_to_impression.csv')\n",
    "u_to_i.head(3)"
   ]
  },
  {
   "cell_type": "code",
   "execution_count": null,
   "metadata": {},
   "outputs": [],
   "source": [
    "i_to_a = b.select('impression_id', pl.col('article_id')).sort('impression_id').unique().drop_nulls()\\\n",
    "    .with_columns(pl.lit('ON').alias(':TYPE'))\n",
    "i_to_a = i_to_a.rename({'impression_id': ':START_ID(Impression)', 'article_id': ':END_ID(Article)'})\n",
    "i_to_a.write_csv(CSV_STORAGE / 'impression_to_article.csv')\n",
    "i_to_a.head(3)"
   ]
  },
  {
   "cell_type": "code",
   "execution_count": null,
   "metadata": {},
   "outputs": [],
   "source": [
    "i_to_a_clicked = b.select('impression_id', pl.col('article_ids_clicked').alias('article_id')).explode('article_id').sort('impression_id')\\\n",
    "    .with_columns(pl.lit('CLICK').alias(':TYPE'))\n",
    "i_to_a_clicked = i_to_a_clicked.rename({'impression_id': ':START_ID(Impression)', 'article_id': ':END_ID(Article)'})\n",
    "i_to_a_clicked.write_csv(CSV_STORAGE / 'impression_to_article_clicked.csv')\n",
    "i_to_a_clicked.head(3)"
   ]
  },
  {
   "cell_type": "code",
   "execution_count": null,
   "metadata": {},
   "outputs": [],
   "source": [
    "i_to_a_inview = b.select('impression_id', pl.col('article_ids_inview').alias('article_id')).explode('article_id').sort('impression_id').drop_nulls()\n",
    "i_to_a_inview = i_to_a_inview.rename({'impression_id': ':START_ID(Impression)', 'article_id': ':END_ID(Article)'})\\\n",
    "    .with_columns(pl.lit('INVIEW').alias(':TYPE'))\n",
    "i_to_a_inview.write_csv(CSV_STORAGE / 'impression_to_article_inview.csv')\n",
    "i_to_a_inview.head(3)"
   ]
  },
  {
   "cell_type": "markdown",
   "metadata": {},
   "source": [
    "### History"
   ]
  },
  {
   "cell_type": "code",
   "execution_count": null,
   "metadata": {},
   "outputs": [],
   "source": [
    "batch = 0\n",
    "batch_size=100\n",
    "user_ids = h.select('user_id')\n",
    "\n",
    "h_final = None\n",
    "for batch in range(0, len(user_ids), batch_size):\n",
    "    \n",
    "    user_ids_batch = user_ids[batch:batch+batch_size]\n",
    "    h_data = h.filter(pl.col('user_id').is_in(user_ids[batch:batch+batch_size]))\\\n",
    "    .explode('impression_time_fixed', 'article_id_fixed', 'scroll_percentage_fixed', 'read_time_fixed')\n",
    "\n",
    "    h_data = h_data.with_columns(pl.Series(np.arange(-1, len(h_data) - 1)).cast(pl.Int32).alias('id_l'))\n",
    "    h_data = h_data.with_columns(pl.Series(np.arange(len(h_data))).cast(pl.Int32).alias('id_r'))\n",
    "    h_data = h_data.join(h_data, left_on=['user_id', 'id_r'], right_on=['user_id', 'id_l'], how='left')\n",
    "\n",
    "    h_data = h_data.select(\n",
    "        pl.col('article_id_fixed').alias(':START_ID(Article)'),\n",
    "        'user_id', \n",
    "        pl.col('impression_time_fixed').alias('impression_time'),\n",
    "        pl.col('scroll_percentage_fixed').alias('scroll_percentage'),\n",
    "        pl.col('read_time_fixed').alias('read_time'),\n",
    "        pl.col('article_id_fixed_right').alias(':END_ID(Article)'),\n",
    "        pl.lit('FOLLOW').alias(':TYPE')\n",
    "    ).drop_nulls(':END_ID(Article)')\n",
    "    \n",
    "    if h_final is None:\n",
    "        h_final = h_data\n",
    "    else:\n",
    "        h_final = h_final.vstack(h_data)\n",
    "    \n",
    "\n",
    "h_final.write_csv(CSV_STORAGE / 'history_article_to_article.csv', datetime_format='%Y-%m-%dT%H:%M:%S')\n",
    "h_final.head(3)"
   ]
  },
  {
   "cell_type": "code",
   "execution_count": null,
   "metadata": {},
   "outputs": [],
   "source": [
    "h_data = h.select(pl.col('user_id').alias(':START_ID(User)'), \n",
    "                  pl.col('impression_time_fixed').list.first().alias('impression_time'),\n",
    "                  pl.col('scroll_percentage_fixed').list.first().alias('scroll_percentage'),\n",
    "                  pl.col('read_time_fixed').list.first().alias('read_time'),\n",
    "                  pl.col('article_id_fixed').list.first().alias(':END_ID(Article)'),\n",
    "                  pl.lit('FOLLOW').alias(':TYPE'))\n",
    "\n",
    "h_data.write_csv(CSV_STORAGE / 'history_user_to_article.csv', datetime_format='%Y-%m-%dT%H:%M:%S')\n",
    "h_data.head(3)"
   ]
  },
  {
   "cell_type": "code",
   "execution_count": null,
   "metadata": {},
   "outputs": [],
   "source": [
    "' '.join(\n",
    "    [\n",
    "        'bin/neo4j-admin database import full',\n",
    "        #nodes\n",
    "        f'--nodes=User=import/{type}/user_data.csv',\n",
    "        f'--nodes=Article=import/{type}/article_data.csv',\n",
    "        #relationships\n",
    "        f'--relationships=import/{type}/history_user_to_article.csv',\n",
    "        f'--relationships=import/{type}/history_article_to_article.csv',\n",
    "        \n",
    "        '--overwrite-destination',\n",
    "        f'newsdb-history-{type}'\n",
    "        ])"
   ]
  },
  {
   "cell_type": "markdown",
   "metadata": {},
   "source": [
    "### Load neo4j-admin-script"
   ]
  },
  {
   "cell_type": "code",
   "execution_count": null,
   "metadata": {},
   "outputs": [],
   "source": [
    "from polimi.utils._graph import create_neo4j_admin_script\n",
    "\n",
    "create_neo4j_admin_script('large')"
   ]
  },
  {
   "cell_type": "markdown",
   "metadata": {},
   "source": [
    "## Contraints"
   ]
  },
  {
   "cell_type": "code",
   "execution_count": null,
   "metadata": {},
   "outputs": [],
   "source": [
    "from neo4j import GraphDatabase\n",
    "from polimi.utils._graph import add_constraint\n",
    "from dotenv import load_dotenv\n",
    "import os\n",
    "\n",
    "load_dotenv()\n",
    "\n",
    "# Retrieve Neo4j connection details\n",
    "URI = os.getenv(\"NEO4J_URI\")\n",
    "USER = os.getenv(\"NEO4J_AUTH_USER\")\n",
    "PASSW = os.getenv(\"NEO4J_AUTH_PASSWORD\")\n",
    "\n",
    "# Establish connection\n",
    "driver = GraphDatabase.driver(URI, auth=(USER, PASSW), database=f'newsdb-{type}')\n",
    "\n",
    "print(driver.verify_connectivity())\n",
    "add_constraint(driver, 'Article', 'id')\n",
    "add_constraint(driver, 'Impression', 'id')\n",
    "add_constraint(driver, 'User', 'id')\n",
    "add_constraint(driver, 'Topic', 'id')\n",
    "add_constraint(driver, 'Category', 'id')\n",
    "add_constraint(driver, 'Entity', 'id')\n",
    "\n",
    "\n",
    "driver.close()"
   ]
  },
  {
   "cell_type": "code",
   "execution_count": null,
   "metadata": {},
   "outputs": [],
   "source": []
  }
 ],
 "metadata": {
  "kernelspec": {
   "display_name": "recsys",
   "language": "python",
   "name": "python3"
  },
  "language_info": {
   "codemirror_mode": {
    "name": "ipython",
    "version": 3
   },
   "file_extension": ".py",
   "mimetype": "text/x-python",
   "name": "python",
   "nbconvert_exporter": "python",
   "pygments_lexer": "ipython3",
   "version": "3.11.8"
  }
 },
 "nbformat": 4,
 "nbformat_minor": 2
}
