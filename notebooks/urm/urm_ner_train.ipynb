{
 "cells": [
  {
   "cell_type": "code",
   "execution_count": 39,
   "metadata": {},
   "outputs": [],
   "source": [
    "import polars as pl\n",
    "from pathlib import Path"
   ]
  },
  {
   "cell_type": "code",
   "execution_count": 40,
   "metadata": {},
   "outputs": [],
   "source": [
    "dpath = Path('../../dataset')\n",
    "\n",
    "dtype = 'small'\n",
    "articles = pl.read_parquet(f'{dpath}/ebnerd_{dtype}/articles.parquet')\n",
    "\n",
    "behaviors_train = pl.read_parquet(f'{dpath}/ebnerd_{dtype}/train/behaviors.parquet')\n",
    "history_train = pl.read_parquet(f'{dpath}/ebnerd_{dtype}/train/history.parquet')\n",
    "\n",
    "behaviors_val = pl.read_parquet(f'{dpath}/ebnerd_{dtype}/validation/behaviors.parquet')\n",
    "history_val = pl.read_parquet(f'{dpath}/ebnerd_{dtype}/validation/history.parquet')"
   ]
  },
  {
   "cell_type": "code",
   "execution_count": 41,
   "metadata": {},
   "outputs": [
    {
     "data": {
      "text/plain": [
       "({'topK': 161,\n",
       "  'normalize_similarity': True,\n",
       "  'alpha': 0.6828230602859293,\n",
       "  'beta': 0.40218098711568806},\n",
       " {'similarity': 'euclidean',\n",
       "  'topK': 1000,\n",
       "  'shrink': 944,\n",
       "  'normalize_avg_row': True,\n",
       "  'similarity_from_distance_mode': 'log',\n",
       "  'normalize': False},\n",
       " {'sgd_mode': 'adam',\n",
       "  'num_factors': 14,\n",
       "  'batch_size': 128,\n",
       "  'positive_reg': 4.714125732154838e-05,\n",
       "  'negative_reg': 0.00024304832828732497,\n",
       "  'learning_rate': 0.0002288000442554581})"
      ]
     },
     "execution_count": 41,
     "metadata": {},
     "output_type": "execute_result"
    }
   ],
   "source": [
    "from polimi.utils._custom import load_best_optuna_params\n",
    "rp3params = load_best_optuna_params('RP3betaRecommender-ner-small-ndcg10')\n",
    "userknnparams = load_best_optuna_params('UserKNNCFRecommender-ner-small-ndcg10')\n",
    "x = load_best_optuna_params('MatrixFactorization_BPR_Cython-ner-small-ndcg100')\n",
    "rp3params, userknnparams, x"
   ]
  },
  {
   "cell_type": "code",
   "execution_count": 4,
   "metadata": {},
   "outputs": [
    {
     "name": "stdout",
     "output_type": "stream",
     "text": [
      "File loaded at: ../../dataset/urm/ner/small/URM_train.npz\n",
      "File loaded at: ../../dataset/urm/ner/small/URM_validation.npz\n"
     ]
    }
   ],
   "source": [
    "from polimi.utils._custom import load_sparse_csr\n",
    "\n",
    "ner_path = dpath.joinpath('urm').joinpath('ner').joinpath('small')\n",
    "URM_train = load_sparse_csr(ner_path.joinpath('URM_train.npz'))\n",
    "URM_val =  load_sparse_csr(ner_path.joinpath('URM_validation.npz'))"
   ]
  },
  {
   "cell_type": "code",
   "execution_count": 5,
   "metadata": {},
   "outputs": [],
   "source": [
    "from polimi.utils._urm import train_recommender\n",
    "from RecSys_Course_AT_PoliMi.Recommenders.GraphBased.RP3betaRecommender import RP3betaRecommender\n",
    "from RecSys_Course_AT_PoliMi.Recommenders.KNN.UserKNNCFRecommender import UserKNNCFRecommender\n",
    "algo_path = ner_path.joinpath('algo')\n",
    "\n",
    "# train_recommender(URM_train, RP3betaRecommender, rp3params, file_name='rp3beta', output_dir=Path('.'))\n",
    "# train_recommender(URM_train, UserKNNCFRecommender, userknnparams, file_name='userknn', output_dir=Path('.'))"
   ]
  },
  {
   "cell_type": "markdown",
   "metadata": {},
   "source": [
    "# Build rec sys features"
   ]
  },
  {
   "cell_type": "code",
   "execution_count": 6,
   "metadata": {},
   "outputs": [
    {
     "name": "stdout",
     "output_type": "stream",
     "text": [
      "RP3betaRecommender: URM Detected 3685 (19.6%) users with no interactions.\n",
      "RP3betaRecommender: URM Detected 18909 (43.2%) items with no interactions.\n",
      "UserKNNCFRecommender: URM Detected 3685 (19.6%) users with no interactions.\n",
      "UserKNNCFRecommender: URM Detected 18909 (43.2%) items with no interactions.\n",
      "RP3betaRecommender: Loading model from file '../../dataset/urm/ner/small/algo/rp3beta'\n",
      "RP3betaRecommender: Loading complete\n",
      "UserKNNCFRecommender: Loading model from file '../../dataset/urm/ner/small/algo/userknn'\n",
      "UserKNNCFRecommender: Loading complete\n"
     ]
    }
   ],
   "source": [
    "rp3beta = RP3betaRecommender(URM_train)\n",
    "user_knn = UserKNNCFRecommender(URM_train)\n",
    "rp3beta.load_model(str(algo_path), file_name='rp3beta')\n",
    "user_knn.load_model(str(algo_path), file_name='userknn')"
   ]
  },
  {
   "cell_type": "code",
   "execution_count": 7,
   "metadata": {},
   "outputs": [],
   "source": [
    "from polimi.utils._urm import build_ner_mapping, build_user_id_mapping, build_articles_with_processed_ner, _build_batch_ner_interactions\n",
    "user_id_mapping = build_user_id_mapping(history_train.vstack(history_val))\n",
    "ap = build_articles_with_processed_ner(articles)\n",
    "ner_mapping = build_ner_mapping(ap)\n",
    "ap = ap.with_columns(\n",
    "    pl.col('ner_clusters').list.eval(pl.element().replace(ner_mapping['ner'], ner_mapping['ner_index'], default=None).drop_nulls()).alias('ner_clusters_index'),\n",
    ")"
   ]
  },
  {
   "cell_type": "code",
   "execution_count": 8,
   "metadata": {},
   "outputs": [
    {
     "data": {
      "text/html": [
       "<div><style>\n",
       ".dataframe > thead > tr,\n",
       ".dataframe > tbody > tr {\n",
       "  text-align: right;\n",
       "  white-space: pre-wrap;\n",
       "}\n",
       "</style>\n",
       "<small>shape: (2, 5)</small><table border=\"1\" class=\"dataframe\"><thead><tr><th>impression_id</th><th>user_id</th><th>user_index</th><th>candidate_ids</th><th>candidate_ner_index</th></tr><tr><td>u32</td><td>u32</td><td>u32</td><td>list[i32]</td><td>list[list[u32]]</td></tr></thead><tbody><tr><td>149474</td><td>139836</td><td>938</td><td>[9778623, 9778682, … 9778728]</td><td>[[1016, 3366, … 41304], [3827, 4679, … 39272], … [14122, 14127, … 42433]]</td></tr><tr><td>150528</td><td>143471</td><td>972</td><td>[9778718, 9778728, … 9778682]</td><td>[[5927, 23803, … 42713], [14122, 14127, … 42433], … [3827, 4679, … 39272]]</td></tr></tbody></table></div>"
      ],
      "text/plain": [
       "shape: (2, 5)\n",
       "┌───────────────┬─────────┬────────────┬──────────────────────┬────────────────────────────────────┐\n",
       "│ impression_id ┆ user_id ┆ user_index ┆ candidate_ids        ┆ candidate_ner_index                │\n",
       "│ ---           ┆ ---     ┆ ---        ┆ ---                  ┆ ---                                │\n",
       "│ u32           ┆ u32     ┆ u32        ┆ list[i32]            ┆ list[list[u32]]                    │\n",
       "╞═══════════════╪═════════╪════════════╪══════════════════════╪════════════════════════════════════╡\n",
       "│ 149474        ┆ 139836  ┆ 938        ┆ [9778623, 9778682, … ┆ [[1016, 3366, … 41304], [3827, 4…  │\n",
       "│               ┆         ┆            ┆ 9778728]             ┆                                    │\n",
       "│ 150528        ┆ 143471  ┆ 972        ┆ [9778718, 9778728, … ┆ [[5927, 23803, … 42713], [14122,…  │\n",
       "│               ┆         ┆            ┆ 9778682]             ┆                                    │\n",
       "└───────────────┴─────────┴────────────┴──────────────────────┴────────────────────────────────────┘"
      ]
     },
     "execution_count": 8,
     "metadata": {},
     "output_type": "execute_result"
    }
   ],
   "source": [
    "train_ds = behaviors_train\n",
    "train_ds = train_ds\\\n",
    "    .rename({'article_ids_inview': 'candidate_ids'})\\\n",
    "    .with_columns(\n",
    "        pl.col('candidate_ids').list.eval(pl.element().replace(ap['article_id'], ap['ner_clusters_index'], default=None).drop_nulls()).alias('candidate_ner_index'),\n",
    "        pl.col('user_id').replace(user_id_mapping['user_id'], user_id_mapping['user_index'], default=None).alias('user_index')\n",
    "    ).select('impression_id', 'user_id', 'user_index', 'candidate_ids', 'candidate_ner_index')\n",
    "train_ds.head(2)"
   ]
  },
  {
   "cell_type": "code",
   "execution_count": 9,
   "metadata": {},
   "outputs": [],
   "source": [
    "all_users = user_id_mapping['user_index'].unique().sort().to_list()\n",
    "all_items = ner_mapping['ner_index'].unique().sort().to_list()\n",
    "# rp3betascores = rp3beta._compute_item_score(all_users)\n",
    "# userknnparamscores = user_knn._compute_item_score(all_users)\n",
    "# userknnparamscores.shape, rp3betascores.shape"
   ]
  },
  {
   "cell_type": "code",
   "execution_count": 10,
   "metadata": {},
   "outputs": [
    {
     "name": "stderr",
     "output_type": "stream",
     "text": [
      "  0%|          | 0/23 [00:00<?, ?it/s]"
     ]
    },
    {
     "name": "stderr",
     "output_type": "stream",
     "text": [
      "24it [00:00, 66.31it/s]                        \n"
     ]
    },
    {
     "data": {
      "text/html": [
       "<div><style>\n",
       ".dataframe > thead > tr,\n",
       ".dataframe > tbody > tr {\n",
       "  text-align: right;\n",
       "  white-space: pre-wrap;\n",
       "}\n",
       "</style>\n",
       "<small>shape: (2, 5)</small><table border=\"1\" class=\"dataframe\"><thead><tr><th>impression_id</th><th>user_id</th><th>user_index</th><th>candidate_ids</th><th>candidate_ner_index</th></tr><tr><td>u32</td><td>u32</td><td>u32</td><td>list[i32]</td><td>list[list[u32]]</td></tr></thead><tbody><tr><td>18359307</td><td>1062789</td><td>7634</td><td>[9779577, 9780195, … 9780193]</td><td>[[1579, 4886, … 37892], [8598, 10671, … 42272], … [251, 9781, … 22185]]</td></tr><tr><td>13627414</td><td>815075</td><td>5831</td><td>[9771248, 9772710, … 9440508]</td><td>[[2377, 8308, … 34317], [334, 633, … 42381], … [22185, 35345]]</td></tr></tbody></table></div>"
      ],
      "text/plain": [
       "shape: (2, 5)\n",
       "┌───────────────┬─────────┬────────────┬──────────────────────┬────────────────────────────────────┐\n",
       "│ impression_id ┆ user_id ┆ user_index ┆ candidate_ids        ┆ candidate_ner_index                │\n",
       "│ ---           ┆ ---     ┆ ---        ┆ ---                  ┆ ---                                │\n",
       "│ u32           ┆ u32     ┆ u32        ┆ list[i32]            ┆ list[list[u32]]                    │\n",
       "╞═══════════════╪═════════╪════════════╪══════════════════════╪════════════════════════════════════╡\n",
       "│ 18359307      ┆ 1062789 ┆ 7634       ┆ [9779577, 9780195, … ┆ [[1579, 4886, … 37892], [8598, 1…  │\n",
       "│               ┆         ┆            ┆ 9780193]             ┆                                    │\n",
       "│ 13627414      ┆ 815075  ┆ 5831       ┆ [9771248, 9772710, … ┆ [[2377, 8308, … 34317], [334, 63…  │\n",
       "│               ┆         ┆            ┆ 9440508]             ┆                                    │\n",
       "└───────────────┴─────────┴────────────┴──────────────────────┴────────────────────────────────────┘"
      ]
     },
     "execution_count": 10,
     "metadata": {},
     "output_type": "execute_result"
    }
   ],
   "source": [
    "from tqdm import tqdm\n",
    "train_ds = pl.concat([\n",
    "    slice.explode(['candidate_ids', 'candidate_ner_index'])\\\n",
    "        .filter(pl.col('candidate_ner_index').list.len() > 0)\\\n",
    "        .group_by(['impression_id', 'user_id', 'user_index']).agg(pl.all())\n",
    "    for slice in tqdm(train_ds.iter_slices(10000), total=train_ds.shape[0]//10000)\n",
    "])\n",
    "train_ds.head(2)"
   ]
  },
  {
   "cell_type": "code",
   "execution_count": 11,
   "metadata": {},
   "outputs": [
    {
     "name": "stderr",
     "output_type": "stream",
     "text": [
      "100%|██████████| 15143/15143 [04:37<00:00, 54.61it/s]\n"
     ]
    },
    {
     "data": {
      "text/html": [
       "<div><style>\n",
       ".dataframe > thead > tr,\n",
       ".dataframe > tbody > tr {\n",
       "  text-align: right;\n",
       "  white-space: pre-wrap;\n",
       "}\n",
       "</style>\n",
       "<small>shape: (3, 5)</small><table border=\"1\" class=\"dataframe\"><thead><tr><th>impression_id</th><th>user_id</th><th>candidate_ids</th><th>UserKNNCFRecommender_scores</th><th>RP3betaRecommender_scores</th></tr><tr><td>u32</td><td>u32</td><td>list[i32]</td><td>list[list[f32]]</td><td>list[list[f32]]</td></tr></thead><tbody><tr><td>18359307</td><td>1062789</td><td>[9779577, 9780195, … 9780193]</td><td>[[0.0, 0.0, … 0.068838], [0.119672, 0.119672, … 0.0], … [0.119672, 0.118613, … 0.119672]]</td><td>[[0.0, 0.0, … 0.113963], [0.615105, 1.102915, … 0.0], … [0.413016, 0.274689, … 1.114899]]</td></tr><tr><td>5518209</td><td>1062789</td><td>[9774972, 9774789, … 9774542]</td><td>[[0.0, 0.118613, … 0.0], [0.119672, 0.114377, … 0.0], … [0.0]]</td><td>[[0.0, 0.295102, … 0.0], [1.102915, 0.18634, … 0.0], … [0.0]]</td></tr><tr><td>42335635</td><td>1062789</td><td>[9774541, 9775697, … 9470078]</td><td>[[0.119672, 0.119672, … 0.0], [0.0, 0.0, … 0.01165], … [0.117554, 0.01059, … 0.076251]]</td><td>[[0.614114, 1.102915, … 0.0], [0.0, 0.0, … 0.0], … [0.198479, 0.0, … 0.053455]]</td></tr></tbody></table></div>"
      ],
      "text/plain": [
       "shape: (3, 5)\n",
       "┌───────────────┬─────────┬────────────────────────┬───────────────────────┬───────────────────────┐\n",
       "│ impression_id ┆ user_id ┆ candidate_ids          ┆ UserKNNCFRecommender_ ┆ RP3betaRecommender_sc │\n",
       "│ ---           ┆ ---     ┆ ---                    ┆ scores                ┆ ores                  │\n",
       "│ u32           ┆ u32     ┆ list[i32]              ┆ ---                   ┆ ---                   │\n",
       "│               ┆         ┆                        ┆ list[list[f32]]       ┆ list[list[f32]]       │\n",
       "╞═══════════════╪═════════╪════════════════════════╪═══════════════════════╪═══════════════════════╡\n",
       "│ 18359307      ┆ 1062789 ┆ [9779577, 9780195, …   ┆ [[0.0, 0.0, …         ┆ [[0.0, 0.0, …         │\n",
       "│               ┆         ┆ 9780193]               ┆ 0.068838], [0.1196…   ┆ 0.113963], [0.6151…   │\n",
       "│ 5518209       ┆ 1062789 ┆ [9774972, 9774789, …   ┆ [[0.0, 0.118613, …    ┆ [[0.0, 0.295102, …    │\n",
       "│               ┆         ┆ 9774542]               ┆ 0.0], [0.1196…        ┆ 0.0], [1.1029…        │\n",
       "│ 42335635      ┆ 1062789 ┆ [9774541, 9775697, …   ┆ [[0.119672, 0.119672, ┆ [[0.614114, 1.102915, │\n",
       "│               ┆         ┆ 9470078]               ┆ … 0.0], [0…           ┆ … 0.0], [0…           │\n",
       "└───────────────┴─────────┴────────────────────────┴───────────────────────┴───────────────────────┘"
      ]
     },
     "execution_count": 11,
     "metadata": {},
     "output_type": "execute_result"
    }
   ],
   "source": [
    "from tqdm import tqdm\n",
    "recs = [user_knn, rp3beta]\n",
    "\n",
    "impression_scores = pl.concat([\n",
    "    slice.with_columns(\n",
    "            *[pl.col('candidate_ner_index').list.eval(\n",
    "                pl.element().list.eval(pl.element().replace(all_items, rec._compute_item_score(user_index)[0], default=None))\n",
    "            ).alias(f\"{rec.RECOMMENDER_NAME}_scores\") for rec in recs]\n",
    "        ).drop('user_index', 'candidate_ner_index')\n",
    "for user_index, slice in tqdm(train_ds.partition_by(['user_index'], as_dict=True).items(), total=train_ds['user_index'].n_unique())\n",
    "])\n",
    "impression_scores.head(3)"
   ]
  },
  {
   "cell_type": "code",
   "execution_count": 12,
   "metadata": {},
   "outputs": [
    {
     "name": "stdout",
     "output_type": "stream",
     "text": [
      "Memory usage of dataframe is 80.99 MB\n",
      "Memory usage after optimization is: 80.99 MB\n",
      "Decreased by 0.0%\n"
     ]
    },
    {
     "data": {
      "text/html": [
       "<div><style>\n",
       ".dataframe > thead > tr,\n",
       ".dataframe > tbody > tr {\n",
       "  text-align: right;\n",
       "  white-space: pre-wrap;\n",
       "}\n",
       "</style>\n",
       "<small>shape: (3, 9)</small><table border=\"1\" class=\"dataframe\"><thead><tr><th>impression_id</th><th>user_id</th><th>article</th><th>sum_UserKNNCFRecommender_scores</th><th>sum_RP3betaRecommender_scores</th><th>max_UserKNNCFRecommender_scores</th><th>max_RP3betaRecommender_scores</th><th>mean_UserKNNCFRecommender_scores</th><th>mean_RP3betaRecommender_scores</th></tr><tr><td>u32</td><td>u32</td><td>i32</td><td>f32</td><td>f32</td><td>f32</td><td>f32</td><td>f32</td><td>f32</td></tr></thead><tbody><tr><td>149474</td><td>139836</td><td>9778623</td><td>0.174803</td><td>0.284011</td><td>1.0</td><td>0.858929</td><td>0.14791</td><td>0.240317</td></tr><tr><td>149474</td><td>139836</td><td>9778682</td><td>0.057638</td><td>0.008967</td><td>0.380449</td><td>0.02712</td><td>0.070446</td><td>0.01096</td></tr><tr><td>149474</td><td>139836</td><td>9778669</td><td>0.036063</td><td>0.0</td><td>0.302508</td><td>0.0</td><td>0.066115</td><td>0.0</td></tr></tbody></table></div>"
      ],
      "text/plain": [
       "shape: (3, 9)\n",
       "┌────────────┬─────────┬─────────┬────────────┬───┬────────────┬───────────┬───────────┬───────────┐\n",
       "│ impression ┆ user_id ┆ article ┆ sum_UserKN ┆ … ┆ max_UserKN ┆ max_RP3be ┆ mean_User ┆ mean_RP3b │\n",
       "│ _id        ┆ ---     ┆ ---     ┆ NCFRecomme ┆   ┆ NCFRecomme ┆ taRecomme ┆ KNNCFReco ┆ etaRecomm │\n",
       "│ ---        ┆ u32     ┆ i32     ┆ nder_score ┆   ┆ nder_score ┆ nder_scor ┆ mmender_s ┆ ender_sco │\n",
       "│ u32        ┆         ┆         ┆ s          ┆   ┆ s          ┆ es        ┆ cores     ┆ res       │\n",
       "│            ┆         ┆         ┆ ---        ┆   ┆ ---        ┆ ---       ┆ ---       ┆ ---       │\n",
       "│            ┆         ┆         ┆ f32        ┆   ┆ f32        ┆ f32       ┆ f32       ┆ f32       │\n",
       "╞════════════╪═════════╪═════════╪════════════╪═══╪════════════╪═══════════╪═══════════╪═══════════╡\n",
       "│ 149474     ┆ 139836  ┆ 9778623 ┆ 0.174803   ┆ … ┆ 1.0        ┆ 0.858929  ┆ 0.14791   ┆ 0.240317  │\n",
       "│ 149474     ┆ 139836  ┆ 9778682 ┆ 0.057638   ┆ … ┆ 0.380449   ┆ 0.02712   ┆ 0.070446  ┆ 0.01096   │\n",
       "│ 149474     ┆ 139836  ┆ 9778669 ┆ 0.036063   ┆ … ┆ 0.302508   ┆ 0.0       ┆ 0.066115  ┆ 0.0       │\n",
       "└────────────┴─────────┴─────────┴────────────┴───┴────────────┴───────────┴───────────┴───────────┘"
      ]
     },
     "execution_count": 12,
     "metadata": {},
     "output_type": "execute_result"
    }
   ],
   "source": [
    "from polimi.utils._polars import reduce_polars_df_memory_size\n",
    "scores_cols = [col for col in impression_scores.columns if '_scores' in col]\n",
    "df = impression_scores.with_columns(\n",
    "        *[pl.col(col).list.eval(pl.element().list.sum()).alias(f'sum_{col}') for col in scores_cols],\n",
    "        *[pl.col(col).list.eval(pl.element().list.max()).alias(f'max_{col}') for col in scores_cols],\n",
    "        *[pl.col(col).list.eval(pl.element().list.mean()).alias(f'mean_{col}') for col in scores_cols],\n",
    ").with_columns(\n",
    "    pl.all().exclude(['impression_id', 'user_id', 'candidate_ids'] + scores_cols).list.eval(pl.element().truediv(pl.element().max()).fill_nan(0.0)), #inf norm\n",
    ").drop(scores_cols)\n",
    "\n",
    "df = reduce_polars_df_memory_size(df)\n",
    "df = df.sort(['impression_id', 'user_id'])\\\n",
    "    .explode(pl.all().exclude(['impression_id', 'user_id']))\\\n",
    "    .rename({'candidate_ids': 'article'})\n",
    "\n",
    "df.head(3)"
   ]
  },
  {
   "cell_type": "code",
   "execution_count": 28,
   "metadata": {},
   "outputs": [
    {
     "data": {
      "text/html": [
       "<div><style>\n",
       ".dataframe > thead > tr,\n",
       ".dataframe > tbody > tr {\n",
       "  text-align: right;\n",
       "  white-space: pre-wrap;\n",
       "}\n",
       "</style>\n",
       "<small>shape: (0, 9)</small><table border=\"1\" class=\"dataframe\"><thead><tr><th>impression_id</th><th>user_id</th><th>article</th><th>sum_UserKNNCFRecommender_scores</th><th>sum_RP3betaRecommender_scores</th><th>max_UserKNNCFRecommender_scores</th><th>max_RP3betaRecommender_scores</th><th>mean_UserKNNCFRecommender_scores</th><th>mean_RP3betaRecommender_scores</th></tr><tr><td>u32</td><td>u32</td><td>i32</td><td>f32</td><td>f32</td><td>f32</td><td>f32</td><td>f32</td><td>f32</td></tr></thead><tbody></tbody></table></div>"
      ],
      "text/plain": [
       "shape: (0, 9)\n",
       "┌────────────┬─────────┬─────────┬────────────┬───┬────────────┬───────────┬───────────┬───────────┐\n",
       "│ impression ┆ user_id ┆ article ┆ sum_UserKN ┆ … ┆ max_UserKN ┆ max_RP3be ┆ mean_User ┆ mean_RP3b │\n",
       "│ _id        ┆ ---     ┆ ---     ┆ NCFRecomme ┆   ┆ NCFRecomme ┆ taRecomme ┆ KNNCFReco ┆ etaRecomm │\n",
       "│ ---        ┆ u32     ┆ i32     ┆ nder_score ┆   ┆ nder_score ┆ nder_scor ┆ mmender_s ┆ ender_sco │\n",
       "│ u32        ┆         ┆         ┆ s          ┆   ┆ s          ┆ es        ┆ cores     ┆ res       │\n",
       "│            ┆         ┆         ┆ ---        ┆   ┆ ---        ┆ ---       ┆ ---       ┆ ---       │\n",
       "│            ┆         ┆         ┆ f32        ┆   ┆ f32        ┆ f32       ┆ f32       ┆ f32       │\n",
       "╞════════════╪═════════╪═════════╪════════════╪═══╪════════════╪═══════════╪═══════════╪═══════════╡\n",
       "└────────────┴─────────┴─────────┴────────────┴───┴────────────┴───────────┴───────────┴───────────┘"
      ]
     },
     "execution_count": 28,
     "metadata": {},
     "output_type": "execute_result"
    }
   ],
   "source": [
    "df.filter(\n",
    "    pl.any_horizontal([pl.all().is_nan()]),\n",
    ")"
   ]
  },
  {
   "cell_type": "code",
   "execution_count": 29,
   "metadata": {},
   "outputs": [
    {
     "data": {
      "text/html": [
       "<div><style>\n",
       ".dataframe > thead > tr,\n",
       ".dataframe > tbody > tr {\n",
       "  text-align: right;\n",
       "  white-space: pre-wrap;\n",
       "}\n",
       "</style>\n",
       "<small>shape: (0, 9)</small><table border=\"1\" class=\"dataframe\"><thead><tr><th>impression_id</th><th>user_id</th><th>article</th><th>sum_UserKNNCFRecommender_scores</th><th>sum_RP3betaRecommender_scores</th><th>max_UserKNNCFRecommender_scores</th><th>max_RP3betaRecommender_scores</th><th>mean_UserKNNCFRecommender_scores</th><th>mean_RP3betaRecommender_scores</th></tr><tr><td>u32</td><td>u32</td><td>i32</td><td>f32</td><td>f32</td><td>f32</td><td>f32</td><td>f32</td><td>f32</td></tr></thead><tbody></tbody></table></div>"
      ],
      "text/plain": [
       "shape: (0, 9)\n",
       "┌────────────┬─────────┬─────────┬────────────┬───┬────────────┬───────────┬───────────┬───────────┐\n",
       "│ impression ┆ user_id ┆ article ┆ sum_UserKN ┆ … ┆ max_UserKN ┆ max_RP3be ┆ mean_User ┆ mean_RP3b │\n",
       "│ _id        ┆ ---     ┆ ---     ┆ NCFRecomme ┆   ┆ NCFRecomme ┆ taRecomme ┆ KNNCFReco ┆ etaRecomm │\n",
       "│ ---        ┆ u32     ┆ i32     ┆ nder_score ┆   ┆ nder_score ┆ nder_scor ┆ mmender_s ┆ ender_sco │\n",
       "│ u32        ┆         ┆         ┆ s          ┆   ┆ s          ┆ es        ┆ cores     ┆ res       │\n",
       "│            ┆         ┆         ┆ ---        ┆   ┆ ---        ┆ ---       ┆ ---       ┆ ---       │\n",
       "│            ┆         ┆         ┆ f32        ┆   ┆ f32        ┆ f32       ┆ f32       ┆ f32       │\n",
       "╞════════════╪═════════╪═════════╪════════════╪═══╪════════════╪═══════════╪═══════════╪═══════════╡\n",
       "└────────────┴─────────┴─────────┴────────────┴───┴────────────┴───────────┴───────────┴───────────┘"
      ]
     },
     "execution_count": 29,
     "metadata": {},
     "output_type": "execute_result"
    }
   ],
   "source": [
    "df.filter(\n",
    "    pl.any_horizontal([pl.all().is_null()]),\n",
    ")"
   ]
  },
  {
   "cell_type": "markdown",
   "metadata": {},
   "source": [
    "# Test API"
   ]
  },
  {
   "cell_type": "code",
   "execution_count": 6,
   "metadata": {},
   "outputs": [
    {
     "name": "stdout",
     "output_type": "stream",
     "text": [
      "RP3betaRecommender: URM Detected 3685 (19.6%) users with no interactions.\n",
      "RP3betaRecommender: URM Detected 18909 (43.2%) items with no interactions.\n",
      "RP3betaRecommender: Loading model from file '../../dataset/urm/ner/small/algo/rp3beta'\n",
      "RP3betaRecommender: Loading complete\n",
      "UserKNNCFRecommender: URM Detected 3685 (19.6%) users with no interactions.\n",
      "UserKNNCFRecommender: URM Detected 18909 (43.2%) items with no interactions.\n",
      "UserKNNCFRecommender: Loading model from file '../../dataset/urm/ner/small/algo/userknn'\n",
      "UserKNNCFRecommender: Loading complete\n"
     ]
    },
    {
     "name": "stderr",
     "output_type": "stream",
     "text": [
      "100%|██████████| 15143/15143 [04:23<00:00, 57.52it/s]\n"
     ]
    },
    {
     "name": "stdout",
     "output_type": "stream",
     "text": [
      "Memory usage of dataframe is 251.64 MB\n",
      "Memory usage after optimization is: 251.64 MB\n",
      "Decreased by 0.0%\n",
      "Memory usage of dataframe is 84.49 MB\n",
      "Memory usage after optimization is: 84.49 MB\n",
      "Decreased by 0.0%\n"
     ]
    },
    {
     "data": {
      "text/html": [
       "<div><style>\n",
       ".dataframe > thead > tr,\n",
       ".dataframe > tbody > tr {\n",
       "  text-align: right;\n",
       "  white-space: pre-wrap;\n",
       "}\n",
       "</style>\n",
       "<small>shape: (3, 9)</small><table border=\"1\" class=\"dataframe\"><thead><tr><th>impression_id</th><th>user_id</th><th>article</th><th>sum_RP3betaRecommender_ner_scores</th><th>sum_UserKNNCFRecommender_ner_scores</th><th>max_RP3betaRecommender_ner_scores</th><th>max_UserKNNCFRecommender_ner_scores</th><th>mean_RP3betaRecommender_ner_scores</th><th>mean_UserKNNCFRecommender_ner_scores</th></tr><tr><td>u32</td><td>u32</td><td>i32</td><td>f32</td><td>f32</td><td>f32</td><td>f32</td><td>f32</td><td>f32</td></tr></thead><tbody><tr><td>149474</td><td>139836</td><td>9778623</td><td>0.308894</td><td>0.167121</td><td>1.0</td><td>1.0</td><td>0.261372</td><td>0.14141</td></tr><tr><td>149474</td><td>139836</td><td>9778682</td><td>0.0</td><td>0.039055</td><td>0.0</td><td>0.268196</td><td>0.0</td><td>0.047734</td></tr><tr><td>149474</td><td>139836</td><td>9778669</td><td>0.0</td><td>0.062216</td><td>0.0</td><td>0.524904</td><td>0.0</td><td>0.114063</td></tr></tbody></table></div>"
      ],
      "text/plain": [
       "shape: (3, 9)\n",
       "┌────────────┬─────────┬─────────┬────────────┬───┬────────────┬───────────┬───────────┬───────────┐\n",
       "│ impression ┆ user_id ┆ article ┆ sum_RP3bet ┆ … ┆ max_RP3bet ┆ max_UserK ┆ mean_RP3b ┆ mean_User │\n",
       "│ _id        ┆ ---     ┆ ---     ┆ aRecommend ┆   ┆ aRecommend ┆ NNCFRecom ┆ etaRecomm ┆ KNNCFReco │\n",
       "│ ---        ┆ u32     ┆ i32     ┆ er_ner_sco ┆   ┆ er_ner_sco ┆ mender_ne ┆ ender_ner ┆ mmender_n │\n",
       "│ u32        ┆         ┆         ┆ re…        ┆   ┆ re…        ┆ r_sco…    ┆ _scor…    ┆ er_sc…    │\n",
       "│            ┆         ┆         ┆ ---        ┆   ┆ ---        ┆ ---       ┆ ---       ┆ ---       │\n",
       "│            ┆         ┆         ┆ f32        ┆   ┆ f32        ┆ f32       ┆ f32       ┆ f32       │\n",
       "╞════════════╪═════════╪═════════╪════════════╪═══╪════════════╪═══════════╪═══════════╪═══════════╡\n",
       "│ 149474     ┆ 139836  ┆ 9778623 ┆ 0.308894   ┆ … ┆ 1.0        ┆ 1.0       ┆ 0.261372  ┆ 0.14141   │\n",
       "│ 149474     ┆ 139836  ┆ 9778682 ┆ 0.0        ┆ … ┆ 0.0        ┆ 0.268196  ┆ 0.0       ┆ 0.047734  │\n",
       "│ 149474     ┆ 139836  ┆ 9778669 ┆ 0.0        ┆ … ┆ 0.0        ┆ 0.524904  ┆ 0.0       ┆ 0.114063  │\n",
       "└────────────┴─────────┴─────────┴────────────┴───┴────────────┴───────────┴───────────┴───────────┘"
      ]
     },
     "execution_count": 6,
     "metadata": {},
     "output_type": "execute_result"
    }
   ],
   "source": [
    "from polimi.utils._urm import build_ner_scores_features, load_recommender\n",
    "\n",
    "load_dict = {\n",
    "    RP3betaRecommender: {'path': algo_path, 'file_name': 'rp3beta'},\n",
    "    UserKNNCFRecommender: {'path': algo_path, 'file_name': 'userknn'},\n",
    "}\n",
    "\n",
    "recs = []\n",
    "for rec, load_info in load_dict.items():\n",
    "    recs.append(load_recommender(URM_train, rec, file_path=str(load_info['path']), file_name=load_info['file_name']))\n",
    "\n",
    "\n",
    "df = build_ner_scores_features(history=history_train, behaviors=behaviors_train, articles=articles, recs=recs)\n",
    "df.head(3)"
   ]
  },
  {
   "cell_type": "markdown",
   "metadata": {},
   "source": [
    "# Evaluate Models"
   ]
  },
  {
   "cell_type": "code",
   "execution_count": null,
   "metadata": {},
   "outputs": [],
   "source": [
    "from RecSys_Course_AT_PoliMi.Evaluation.Evaluator import EvaluatorHoldout\n",
    "\n",
    "cutoff = 10\n",
    "metric = 'NDCG'\n",
    "evaluator = EvaluatorHoldout(URM_val, cutoff_list=[cutoff], exclude_seen=False)"
   ]
  },
  {
   "cell_type": "code",
   "execution_count": null,
   "metadata": {},
   "outputs": [],
   "source": [
    "from RecSys_Course_AT_PoliMi.Recommenders.MatrixFactorization.PureSVDRecommender import PureSVDRecommender\n",
    "\n",
    "rec_instance = PureSVDRecommender(URM_train)\n",
    "params = {'num_factors': 577}\n",
    "rec_instance.fit(**params)\n",
    "result_df, _ = evaluator.evaluateRecommender(rec_instance)\n",
    "result_df.loc[cutoff][metric.upper()]"
   ]
  },
  {
   "cell_type": "code",
   "execution_count": null,
   "metadata": {},
   "outputs": [],
   "source": [
    "from RecSys_Course_AT_PoliMi.Recommenders.KNN.UserKNNCFRecommender import UserKNNCFRecommender\n",
    "\n",
    "rec_instance = UserKNNCFRecommender(URM_train)\n",
    "params = {'topK': 467, 'shrink': 95, 'similarity': 'dice', 'normalize': True}\n",
    "rec_instance.fit(**params)\n",
    "result_df, _ = evaluator.evaluateRecommender(rec_instance)\n",
    "result_df.loc[cutoff][metric.upper()]"
   ]
  },
  {
   "cell_type": "code",
   "execution_count": null,
   "metadata": {},
   "outputs": [],
   "source": [
    "from polimi.utils._urm import _build_batch_ner_interactions, build_articles_with_processed_ner, build_user_id_mapping, build_ner_mapping\n",
    "ap = build_articles_with_processed_ner(articles)\n",
    "user_id_mapping = build_user_id_mapping(history_train.vstack(history_val))\n",
    "ner_mapping = build_ner_mapping(ap)\n",
    "ner_interactions = _build_batch_ner_interactions(history_train, ap, user_id_mapping, ner_mapping, 'article_id_fixed')"
   ]
  },
  {
   "cell_type": "code",
   "execution_count": 38,
   "metadata": {},
   "outputs": [
    {
     "name": "stdout",
     "output_type": "stream",
     "text": [
      "String representation of dictionary: {\"name\": \"John\", \"age\": 30, \"city\": \"New York\"}\n",
      "Dictionary from string: {'name': 'John', 'age': 30, 'city': 'New York'}\n"
     ]
    }
   ],
   "source": [
    "import json\n",
    "\n",
    "# Sample dictionary\n",
    "my_dict = {'name': 'John', 'age': 30, 'city': 'New York'}\n",
    "\n",
    "# Convert dictionary to string\n",
    "dict_string = json.dumps(my_dict)\n",
    "\n",
    "# Print the string representation\n",
    "print(\"String representation of dictionary:\", dict_string)\n",
    "\n",
    "# Convert string back to dictionary\n",
    "new_dict = json.loads(dict_string)\n",
    "\n",
    "# Print the dictionary\n",
    "print(\"Dictionary from string:\", new_dict)\n"
   ]
  },
  {
   "cell_type": "code",
   "execution_count": null,
   "metadata": {},
   "outputs": [],
   "source": []
  }
 ],
 "metadata": {
  "kernelspec": {
   "display_name": ".venv",
   "language": "python",
   "name": "python3"
  },
  "language_info": {
   "codemirror_mode": {
    "name": "ipython",
    "version": 3
   },
   "file_extension": ".py",
   "mimetype": "text/x-python",
   "name": "python",
   "nbconvert_exporter": "python",
   "pygments_lexer": "ipython3",
   "version": "3.11.5"
  }
 },
 "nbformat": 4,
 "nbformat_minor": 2
}
