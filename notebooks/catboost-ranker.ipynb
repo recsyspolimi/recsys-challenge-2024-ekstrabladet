{
 "cells": [
  {
   "cell_type": "code",
   "execution_count": 1,
   "id": "6350270e",
   "metadata": {
    "execution": {
     "iopub.execute_input": "2024-04-23T15:56:13.678164Z",
     "iopub.status.busy": "2024-04-23T15:56:13.677764Z",
     "iopub.status.idle": "2024-04-23T15:56:16.903378Z",
     "shell.execute_reply": "2024-04-23T15:56:16.901774Z"
    },
    "papermill": {
     "duration": 3.245863,
     "end_time": "2024-04-23T15:56:16.906051",
     "exception": false,
     "start_time": "2024-04-23T15:56:13.660188",
     "status": "completed"
    },
    "tags": []
   },
   "outputs": [
    {
     "name": "stdout",
     "output_type": "stream",
     "text": [
      "Cloning into 'RecSysChallenge2024'...\r\n",
      "remote: Enumerating objects: 1801, done.\u001b[K\r\n",
      "remote: Counting objects: 100% (368/368), done.\u001b[K\r\n",
      "remote: Compressing objects: 100% (244/244), done.\u001b[K\r\n",
      "remote: Total 1801 (delta 244), reused 233 (delta 120), pack-reused 1433\u001b[K\r\n",
      "Receiving objects: 100% (1801/1801), 32.21 MiB | 32.75 MiB/s, done.\r\n",
      "Resolving deltas: 100% (1025/1025), done.\r\n"
     ]
    }
   ],
   "source": [
    "from kaggle_secrets import UserSecretsClient\n",
    "secret_label = \"Token\"\n",
    "token = UserSecretsClient().get_secret(secret_label)\n",
    "\n",
    "! git clone https://{token}@github.com/FrancescoZanella/RecSysChallenge2024.git"
   ]
  },
  {
   "cell_type": "code",
   "execution_count": 2,
   "id": "fea05987",
   "metadata": {
    "execution": {
     "iopub.execute_input": "2024-04-23T15:56:16.943392Z",
     "iopub.status.busy": "2024-04-23T15:56:16.942931Z",
     "iopub.status.idle": "2024-04-23T15:56:16.951166Z",
     "shell.execute_reply": "2024-04-23T15:56:16.949996Z"
    },
    "papermill": {
     "duration": 0.030414,
     "end_time": "2024-04-23T15:56:16.953697",
     "exception": false,
     "start_time": "2024-04-23T15:56:16.923283",
     "status": "completed"
    },
    "tags": []
   },
   "outputs": [
    {
     "name": "stdout",
     "output_type": "stream",
     "text": [
      "/kaggle/working/RecSysChallenge2024/src\n"
     ]
    }
   ],
   "source": [
    "%cd /kaggle/working/RecSysChallenge2024/src"
   ]
  },
  {
   "cell_type": "code",
   "execution_count": 3,
   "id": "0dbf89e7",
   "metadata": {
    "execution": {
     "iopub.execute_input": "2024-04-23T15:56:16.992790Z",
     "iopub.status.busy": "2024-04-23T15:56:16.992363Z",
     "iopub.status.idle": "2024-04-23T15:56:31.354314Z",
     "shell.execute_reply": "2024-04-23T15:56:31.352766Z"
    },
    "papermill": {
     "duration": 14.383638,
     "end_time": "2024-04-23T15:56:31.357058",
     "exception": false,
     "start_time": "2024-04-23T15:56:16.973420",
     "status": "completed"
    },
    "tags": []
   },
   "outputs": [
    {
     "name": "stdout",
     "output_type": "stream",
     "text": [
      "Collecting simsimd\r\n",
      "  Downloading simsimd-4.3.1-cp310-cp310-manylinux_2_28_x86_64.whl.metadata (30 kB)\r\n",
      "Downloading simsimd-4.3.1-cp310-cp310-manylinux_2_28_x86_64.whl (382 kB)\r\n",
      "\u001b[2K   \u001b[90m━━━━━━━━━━━━━━━━━━━━━━━━━━━━━━━━━━━━━━━━\u001b[0m \u001b[32m382.2/382.2 kB\u001b[0m \u001b[31m7.8 MB/s\u001b[0m eta \u001b[36m0:00:00\u001b[0m\r\n",
      "\u001b[?25hInstalling collected packages: simsimd\r\n",
      "Successfully installed simsimd-4.3.1\r\n"
     ]
    }
   ],
   "source": [
    "! pip install simsimd"
   ]
  },
  {
   "cell_type": "code",
   "execution_count": 4,
   "id": "0d0d6265",
   "metadata": {
    "_cell_guid": "b1076dfc-b9ad-4769-8c92-a6c4dae69d19",
    "_uuid": "8f2839f25d086af736a60e9eeb907d3b93b6e0e5",
    "execution": {
     "iopub.execute_input": "2024-04-23T15:56:31.395685Z",
     "iopub.status.busy": "2024-04-23T15:56:31.395165Z",
     "iopub.status.idle": "2024-04-23T15:56:53.278470Z",
     "shell.execute_reply": "2024-04-23T15:56:53.277209Z"
    },
    "papermill": {
     "duration": 21.906386,
     "end_time": "2024-04-23T15:56:53.280995",
     "exception": false,
     "start_time": "2024-04-23T15:56:31.374609",
     "status": "completed"
    },
    "tags": []
   },
   "outputs": [
    {
     "name": "stderr",
     "output_type": "stream",
     "text": [
      "2024-04-23 15:56:40.876714: E external/local_xla/xla/stream_executor/cuda/cuda_dnn.cc:9261] Unable to register cuDNN factory: Attempting to register factory for plugin cuDNN when one has already been registered\n",
      "2024-04-23 15:56:40.876852: E external/local_xla/xla/stream_executor/cuda/cuda_fft.cc:607] Unable to register cuFFT factory: Attempting to register factory for plugin cuFFT when one has already been registered\n",
      "2024-04-23 15:56:41.059676: E external/local_xla/xla/stream_executor/cuda/cuda_blas.cc:1515] Unable to register cuBLAS factory: Attempting to register factory for plugin cuBLAS when one has already been registered\n"
     ]
    }
   ],
   "source": [
    "import numpy as np\n",
    "import pandas as pd\n",
    "import matplotlib.pyplot as plt\n",
    "import seaborn as sns\n",
    "from pathlib import Path\n",
    "import polars as pl\n",
    "import scipy.stats as stats\n",
    "import scipy.sparse as sps\n",
    "import gc\n",
    "import tqdm\n",
    "\n",
    "from ebrec.utils._descriptive_analysis import (\n",
    "    min_max_impression_time_behaviors, \n",
    "    min_max_impression_time_history\n",
    ")\n",
    "from ebrec.utils._polars import slice_join_dataframes\n",
    "from ebrec.utils._behaviors import (\n",
    "    create_binary_labels_column,\n",
    "    sampling_strategy_wu2019,\n",
    "    truncate_history,\n",
    ")\n",
    "from ebrec.utils._constants import (\n",
    "    DEFAULT_HISTORY_ARTICLE_ID_COL,\n",
    "    DEFAULT_CLICKED_ARTICLES_COL,\n",
    "    DEFAULT_INVIEW_ARTICLES_COL,\n",
    "    DEFAULT_USER_COL\n",
    ")\n",
    "from ebrec.evaluation.metrics_protocols import *\n",
    "from polimi.utils._catboost import add_trendiness_feature, add_mean_delays_features,add_history_trendiness_scores_feature, add_window_features, add_trendiness_feature_categories, add_article_endorsement_feature\n",
    "\n",
    "from catboost import CatBoostClassifier, CatBoostRanker"
   ]
  },
  {
   "cell_type": "markdown",
   "id": "ee405d97",
   "metadata": {
    "papermill": {
     "duration": 0.017505,
     "end_time": "2024-04-23T15:56:53.315987",
     "exception": false,
     "start_time": "2024-04-23T15:56:53.298482",
     "status": "completed"
    },
    "tags": []
   },
   "source": [
    "# Memory Utils"
   ]
  },
  {
   "cell_type": "code",
   "execution_count": 5,
   "id": "0d010bc9",
   "metadata": {
    "execution": {
     "iopub.execute_input": "2024-04-23T15:56:53.355004Z",
     "iopub.status.busy": "2024-04-23T15:56:53.354224Z",
     "iopub.status.idle": "2024-04-23T15:56:53.363963Z",
     "shell.execute_reply": "2024-04-23T15:56:53.362779Z"
    },
    "papermill": {
     "duration": 0.032067,
     "end_time": "2024-04-23T15:56:53.366248",
     "exception": false,
     "start_time": "2024-04-23T15:56:53.334181",
     "status": "completed"
    },
    "tags": []
   },
   "outputs": [
    {
     "name": "stdout",
     "output_type": "stream",
     "text": [
      "\u001b[1m\u001b[31m\n",
      "RAM memory GB usage = 0.8445\u001b[0m\n"
     ]
    }
   ],
   "source": [
    "from os import system, getpid, walk\n",
    "from psutil import Process\n",
    "from colorama import Fore, Style, init\n",
    "from IPython.display import display, HTML\n",
    "\n",
    "def PrintColor(text:str, color = Fore.BLUE, style = Style.BRIGHT):\n",
    "    print(style + color + text + Style.RESET_ALL)\n",
    "    \n",
    "def GetMemUsage():   \n",
    "    pid = getpid()\n",
    "    py = Process(pid)\n",
    "    memory_use = py.memory_info()[0] / 2. ** 30\n",
    "    return f\"RAM memory GB usage = {memory_use :.4}\"\n",
    "\n",
    "PrintColor(f\"\\n\" + GetMemUsage(), color = Fore.RED)"
   ]
  },
  {
   "cell_type": "code",
   "execution_count": 6,
   "id": "f359f6e4",
   "metadata": {
    "execution": {
     "iopub.execute_input": "2024-04-23T15:56:53.403491Z",
     "iopub.status.busy": "2024-04-23T15:56:53.403087Z",
     "iopub.status.idle": "2024-04-23T15:56:53.417457Z",
     "shell.execute_reply": "2024-04-23T15:56:53.416428Z"
    },
    "papermill": {
     "duration": 0.03557,
     "end_time": "2024-04-23T15:56:53.419753",
     "exception": false,
     "start_time": "2024-04-23T15:56:53.384183",
     "status": "completed"
    },
    "tags": []
   },
   "outputs": [],
   "source": [
    "def reduce_polars_df_memory_size(df, set_categorical=True):\n",
    "\n",
    "    start_mem = df.estimated_size('mb')\n",
    "    print('Memory usage of dataframe is {:.2f} MB'.format(start_mem))\n",
    "    \n",
    "    for col in df.columns:\n",
    "        col_type = df[col].dtype\n",
    "        \n",
    "        if col_type in [pl.Int16, pl.Int32, pl.Int64]:\n",
    "            c_min = df[col].fill_null(0).min()\n",
    "            c_max = df[col].fill_null(0).max()\n",
    "            if c_min > np.iinfo(np.int8).min and c_max < np.iinfo(np.int8).max:\n",
    "                df = df.with_columns(pl.col(col).cast(pl.Int8))\n",
    "            elif c_min > np.iinfo(np.int16).min and c_max < np.iinfo(np.int16).max:\n",
    "                df = df.with_columns(pl.col(col).cast(pl.Int16))\n",
    "            elif c_min > np.iinfo(np.int32).min and c_max < np.iinfo(np.int32).max:\n",
    "                df = df.with_columns(pl.col(col).cast(pl.Int32))\n",
    "        elif col_type in [pl.UInt16, pl.UInt32, pl.UInt64]:\n",
    "            c_min = df[col].fill_null(0).min()\n",
    "            c_max = df[col].fill_null(0).max()\n",
    "            if c_min > np.iinfo(np.uint8).min and c_max < np.iinfo(np.uint8).max:\n",
    "                df = df.with_columns(pl.col(col).cast(pl.UInt8))\n",
    "            elif c_min > np.iinfo(np.uint16).min and c_max < np.iinfo(np.uint16).max:\n",
    "                df = df.with_columns(pl.col(col).cast(pl.UInt16))\n",
    "            elif c_min > np.iinfo(np.uint32).min and c_max < np.iinfo(np.uint32).max:\n",
    "                df = df.with_columns(pl.col(col).cast(pl.UInt32))\n",
    "        elif col_type == pl.Float64:\n",
    "            c_min = df[col].fill_null(0).min()\n",
    "            c_max = df[col].fill_null(0).max()\n",
    "            if c_min > np.finfo(np.float32).min and c_max < np.finfo(np.float32).max:\n",
    "                df = df.with_columns(pl.col(col).cast(pl.Float32))\n",
    "\n",
    "    gc.collect()\n",
    "    end_mem = df.estimated_size('mb')\n",
    "    print('Memory usage after optimization is: {:.2f} MB'.format(end_mem))\n",
    "    print('Decreased by {:.1f}%'.format(100 * (start_mem - end_mem) / start_mem))\n",
    "    \n",
    "    return df"
   ]
  },
  {
   "cell_type": "markdown",
   "id": "6ba70bc2",
   "metadata": {
    "papermill": {
     "duration": 0.017265,
     "end_time": "2024-04-23T15:56:53.454428",
     "exception": false,
     "start_time": "2024-04-23T15:56:53.437163",
     "status": "completed"
    },
    "tags": []
   },
   "source": [
    "# Data import"
   ]
  },
  {
   "cell_type": "code",
   "execution_count": 7,
   "id": "7d8a6f0c",
   "metadata": {
    "execution": {
     "iopub.execute_input": "2024-04-23T15:56:53.491102Z",
     "iopub.status.busy": "2024-04-23T15:56:53.490708Z",
     "iopub.status.idle": "2024-04-23T15:56:55.658817Z",
     "shell.execute_reply": "2024-04-23T15:56:55.657443Z"
    },
    "papermill": {
     "duration": 2.189203,
     "end_time": "2024-04-23T15:56:55.661359",
     "exception": false,
     "start_time": "2024-04-23T15:56:53.472156",
     "status": "completed"
    },
    "tags": []
   },
   "outputs": [
    {
     "name": "stdout",
     "output_type": "stream",
     "text": [
      "\u001b[1m\u001b[31m\n",
      "RAM memory GB usage = 1.102\u001b[0m\n"
     ]
    }
   ],
   "source": [
    "articles = pl.read_parquet('/kaggle/input/recommender-systems-challenge-2024/ebnerd_small/articles.parquet')\n",
    "\n",
    "behaviors_train = pl.read_parquet('/kaggle/input/recommender-systems-challenge-2024/ebnerd_small/train/behaviors.parquet')\n",
    "history_train = pl.read_parquet('/kaggle/input/recommender-systems-challenge-2024/ebnerd_small/train/history.parquet')\n",
    "\n",
    "behaviors_val = pl.read_parquet('/kaggle/input/recommender-systems-challenge-2024/ebnerd_small/validation/behaviors.parquet')\n",
    "history_val = pl.read_parquet('/kaggle/input/recommender-systems-challenge-2024/ebnerd_small/validation/history.parquet')\n",
    "\n",
    "gc.collect()\n",
    "PrintColor(f\"\\n\" + GetMemUsage(), color = Fore.RED)"
   ]
  },
  {
   "cell_type": "markdown",
   "id": "f74ae085",
   "metadata": {
    "papermill": {
     "duration": 0.017658,
     "end_time": "2024-04-23T15:56:55.696962",
     "exception": false,
     "start_time": "2024-04-23T15:56:55.679304",
     "status": "completed"
    },
    "tags": []
   },
   "source": [
    "# Articles Preprocessing"
   ]
  },
  {
   "cell_type": "code",
   "execution_count": 8,
   "id": "97c088ff",
   "metadata": {
    "execution": {
     "iopub.execute_input": "2024-04-23T15:56:55.734240Z",
     "iopub.status.busy": "2024-04-23T15:56:55.733849Z",
     "iopub.status.idle": "2024-04-23T15:56:56.808887Z",
     "shell.execute_reply": "2024-04-23T15:56:56.807695Z"
    },
    "papermill": {
     "duration": 1.096846,
     "end_time": "2024-04-23T15:56:56.811442",
     "exception": false,
     "start_time": "2024-04-23T15:56:55.714596",
     "status": "completed"
    },
    "tags": []
   },
   "outputs": [
    {
     "name": "stdout",
     "output_type": "stream",
     "text": [
      "Memory usage of dataframe is 64.19 MB\n",
      "Memory usage after optimization is: 64.04 MB\n",
      "Decreased by 0.2%\n",
      "\u001b[1m\u001b[31m\n",
      "RAM memory GB usage = 1.109\u001b[0m\n"
     ]
    },
    {
     "data": {
      "text/html": [
       "<div><style>\n",
       ".dataframe > thead > tr,\n",
       ".dataframe > tbody > tr {\n",
       "  text-align: right;\n",
       "  white-space: pre-wrap;\n",
       "}\n",
       "</style>\n",
       "<small>shape: (2, 26)</small><table border=\"1\" class=\"dataframe\"><thead><tr><th>article_id</th><th>title</th><th>subtitle</th><th>last_modified_time</th><th>premium</th><th>body</th><th>published_time</th><th>image_ids</th><th>article_type</th><th>url</th><th>ner_clusters</th><th>entity_groups</th><th>topics</th><th>category</th><th>subcategory</th><th>category_str</th><th>total_inviews</th><th>total_pageviews</th><th>total_read_time</th><th>sentiment_score</th><th>sentiment_label</th><th>num_images</th><th>title_len</th><th>subtitle_len</th><th>body_len</th><th>num_topics</th></tr><tr><td>i32</td><td>str</td><td>str</td><td>datetime[μs]</td><td>bool</td><td>str</td><td>datetime[μs]</td><td>list[i64]</td><td>str</td><td>str</td><td>list[str]</td><td>list[str]</td><td>list[str]</td><td>i16</td><td>list[i16]</td><td>str</td><td>i32</td><td>i32</td><td>f32</td><td>f32</td><td>str</td><td>u32</td><td>u8</td><td>u8</td><td>u16</td><td>u32</td></tr></thead><tbody><tr><td>3001353</td><td>&quot;Natascha var i…</td><td>&quot;Politiet frygt…</td><td>2023-06-29 06:20:33</td><td>false</td><td>&quot;Sagen om den ø…</td><td>2006-08-31 08:06:45</td><td>[3150850]</td><td>&quot;article_defaul…</td><td>&quot;https://ekstra…</td><td>[]</td><td>[]</td><td>[&quot;Kriminalitet&quot;, &quot;Personfarlig_kriminalitet&quot;]</td><td>140</td><td>[]</td><td>&quot;krimi&quot;</td><td>null</td><td>null</td><td>null</td><td>0.9955</td><td>&quot;Negative&quot;</td><td>1</td><td>5</td><td>22</td><td>200</td><td>2</td></tr><tr><td>3003065</td><td>&quot;Kun Star Wars …</td><td>&quot;Biografgængern…</td><td>2023-06-29 06:20:35</td><td>false</td><td>&quot;Vatikanet har …</td><td>2006-05-21 16:57:00</td><td>[3006712]</td><td>&quot;article_defaul…</td><td>&quot;https://ekstra…</td><td>[]</td><td>[]</td><td>[&quot;Underholdning&quot;, &quot;Film_og_tv&quot;, &quot;Økonomi&quot;]</td><td>414</td><td>[433, 434]</td><td>&quot;underholdning&quot;</td><td>null</td><td>null</td><td>null</td><td>0.846</td><td>&quot;Positive&quot;</td><td>1</td><td>5</td><td>19</td><td>116</td><td>3</td></tr></tbody></table></div>"
      ],
      "text/plain": [
       "shape: (2, 26)\n",
       "┌───────────┬───────────┬───────────┬───────────┬───┬───────────┬───────────┬──────────┬───────────┐\n",
       "│ article_i ┆ title     ┆ subtitle  ┆ last_modi ┆ … ┆ title_len ┆ subtitle_ ┆ body_len ┆ num_topic │\n",
       "│ d         ┆ ---       ┆ ---       ┆ fied_time ┆   ┆ ---       ┆ len       ┆ ---      ┆ s         │\n",
       "│ ---       ┆ str       ┆ str       ┆ ---       ┆   ┆ u8        ┆ ---       ┆ u16      ┆ ---       │\n",
       "│ i32       ┆           ┆           ┆ datetime[ ┆   ┆           ┆ u8        ┆          ┆ u32       │\n",
       "│           ┆           ┆           ┆ μs]       ┆   ┆           ┆           ┆          ┆           │\n",
       "╞═══════════╪═══════════╪═══════════╪═══════════╪═══╪═══════════╪═══════════╪══════════╪═══════════╡\n",
       "│ 3001353   ┆ Natascha  ┆ Politiet  ┆ 2023-06-2 ┆ … ┆ 5         ┆ 22        ┆ 200      ┆ 2         │\n",
       "│           ┆ var ikke  ┆ frygter   ┆ 9         ┆   ┆           ┆           ┆          ┆           │\n",
       "│           ┆ den       ┆ nu, at    ┆ 06:20:33  ┆   ┆           ┆           ┆          ┆           │\n",
       "│           ┆ første    ┆ Natascha… ┆           ┆   ┆           ┆           ┆          ┆           │\n",
       "│ 3003065   ┆ Kun Star  ┆ Biografgæ ┆ 2023-06-2 ┆ … ┆ 5         ┆ 19        ┆ 116      ┆ 3         │\n",
       "│           ┆ Wars      ┆ ngerne    ┆ 9         ┆   ┆           ┆           ┆          ┆           │\n",
       "│           ┆ tjente    ┆ strømmer  ┆ 06:20:35  ┆   ┆           ┆           ┆          ┆           │\n",
       "│           ┆ mere      ┆ ind for…  ┆           ┆   ┆           ┆           ┆          ┆           │\n",
       "└───────────┴───────────┴───────────┴───────────┴───┴───────────┴───────────┴──────────┴───────────┘"
      ]
     },
     "execution_count": 8,
     "metadata": {},
     "output_type": "execute_result"
    }
   ],
   "source": [
    "articles = articles.with_columns(\n",
    "    pl.col('image_ids').list.len().alias('num_images'),\n",
    "    pl.col('title').str.split(by=' ').list.len().alias('title_len'),\n",
    "    pl.col('subtitle').str.split(by=' ').list.len().alias('subtitle_len'),\n",
    "    pl.col('body').str.split(by=' ').list.len().alias('body_len'),\n",
    "    # very important for tf-idf, otherwise multiple tokens for topics with spaces are built\n",
    "    pl.col('topics').list.eval(pl.element().str.split(by=' ').list.join('_')),\n",
    "    pl.col('topics').list.len().alias('num_topics')\n",
    ")\n",
    "articles = reduce_polars_df_memory_size(articles)\n",
    "\n",
    "gc.collect()\n",
    "PrintColor(f\"\\n\" + GetMemUsage(), color = Fore.RED)\n",
    "articles.head(2)"
   ]
  },
  {
   "cell_type": "code",
   "execution_count": 9,
   "id": "3752a013",
   "metadata": {
    "execution": {
     "iopub.execute_input": "2024-04-23T15:56:56.850955Z",
     "iopub.status.busy": "2024-04-23T15:56:56.850034Z",
     "iopub.status.idle": "2024-04-23T15:56:56.872992Z",
     "shell.execute_reply": "2024-04-23T15:56:56.871724Z"
    },
    "papermill": {
     "duration": 0.044806,
     "end_time": "2024-04-23T15:56:56.875496",
     "exception": false,
     "start_time": "2024-04-23T15:56:56.830690",
     "status": "completed"
    },
    "tags": []
   },
   "outputs": [
    {
     "data": {
      "text/plain": [
       "['PER', 'EVENT', 'LOC', 'ORG', 'PROD', 'MISC']"
      ]
     },
     "execution_count": 9,
     "metadata": {},
     "output_type": "execute_result"
    }
   ],
   "source": [
    "unique_entities = articles.select('entity_groups').explode('entity_groups')['entity_groups'].unique().to_list()\n",
    "unique_entities = [e for e in unique_entities if e is not None]\n",
    "unique_entities"
   ]
  },
  {
   "cell_type": "code",
   "execution_count": 10,
   "id": "b29abaff",
   "metadata": {
    "execution": {
     "iopub.execute_input": "2024-04-23T15:56:56.914094Z",
     "iopub.status.busy": "2024-04-23T15:56:56.913675Z",
     "iopub.status.idle": "2024-04-23T15:56:56.931960Z",
     "shell.execute_reply": "2024-04-23T15:56:56.930908Z"
    },
    "papermill": {
     "duration": 0.040351,
     "end_time": "2024-04-23T15:56:56.934420",
     "exception": false,
     "start_time": "2024-04-23T15:56:56.894069",
     "status": "completed"
    },
    "tags": []
   },
   "outputs": [
    {
     "data": {
      "text/plain": [
       "{539: 'ferie',\n",
       " 2504: 'bibliotek',\n",
       " 572: 'side9',\n",
       " 2975: 'penge',\n",
       " 414: 'underholdning',\n",
       " 140: 'krimi',\n",
       " 2737: 'podcast',\n",
       " 22: 'horoskoper',\n",
       " 561: 'haandvaerkeren',\n",
       " 498: 'musik',\n",
       " 1505: 'vin',\n",
       " 2341: 'plus',\n",
       " 2731: 'dagsorden',\n",
       " 457: 'forbrug',\n",
       " 2889: 'auto',\n",
       " 2077: 'opinionen',\n",
       " 529: 'biler',\n",
       " 142: 'sport',\n",
       " 731: 'services',\n",
       " 2: 'incoming',\n",
       " 118: 'nyheder',\n",
       " 806: 'om_ekstra_bladet',\n",
       " 68: 'video',\n",
       " 565: 'sex_og_samliv',\n",
       " 512: 'nationen'}"
      ]
     },
     "execution_count": 10,
     "metadata": {},
     "output_type": "execute_result"
    }
   ],
   "source": [
    "# in case of two category_str for the same category, one of the two is picked\n",
    "unique_categories_df = articles.select(['category', 'category_str']).unique('category').drop_nulls('category')\n",
    "unique_categories = {\n",
    "    row['category']: row['category_str'] for row in unique_categories_df.iter_rows(named=True)\n",
    "}\n",
    "unique_categories"
   ]
  },
  {
   "cell_type": "markdown",
   "id": "cb394791",
   "metadata": {
    "papermill": {
     "duration": 0.017699,
     "end_time": "2024-04-23T15:56:56.970072",
     "exception": false,
     "start_time": "2024-04-23T15:56:56.952373",
     "status": "completed"
    },
    "tags": []
   },
   "source": [
    "Mapping sentiment labels to -1, 0, 1 to save memory in the history dataframe.\n",
    "Taking only article_default type and mapping it to 0/1 since after only this is needed (and it saves memory) for the history at the moment"
   ]
  },
  {
   "cell_type": "code",
   "execution_count": 11,
   "id": "88619f43",
   "metadata": {
    "execution": {
     "iopub.execute_input": "2024-04-23T15:56:57.007772Z",
     "iopub.status.busy": "2024-04-23T15:56:57.007378Z",
     "iopub.status.idle": "2024-04-23T15:56:57.019724Z",
     "shell.execute_reply": "2024-04-23T15:56:57.018493Z"
    },
    "papermill": {
     "duration": 0.034223,
     "end_time": "2024-04-23T15:56:57.022249",
     "exception": false,
     "start_time": "2024-04-23T15:56:56.988026",
     "status": "completed"
    },
    "tags": []
   },
   "outputs": [],
   "source": [
    "articles = articles.with_columns(\n",
    "    pl.when(pl.col('sentiment_label') == 'Negative').then(-1) \\\n",
    "        .otherwise(\n",
    "            pl.when(pl.col('sentiment_label') == 'Positive').then(1).otherwise(0)\n",
    "        ).cast(pl.Int8).alias('sentiment_label_int'),\n",
    "    (pl.col('article_type') == 'article_default').cast(pl.UInt8).alias('is_article_default')\n",
    ")"
   ]
  },
  {
   "cell_type": "markdown",
   "id": "39f037b5",
   "metadata": {
    "papermill": {
     "duration": 0.019175,
     "end_time": "2024-04-23T15:56:57.059454",
     "exception": false,
     "start_time": "2024-04-23T15:56:57.040279",
     "status": "completed"
    },
    "tags": []
   },
   "source": [
    "## Topics TF-IDF"
   ]
  },
  {
   "cell_type": "code",
   "execution_count": 12,
   "id": "f07f10d1",
   "metadata": {
    "execution": {
     "iopub.execute_input": "2024-04-23T15:56:57.099028Z",
     "iopub.status.busy": "2024-04-23T15:56:57.098657Z",
     "iopub.status.idle": "2024-04-23T15:56:57.579924Z",
     "shell.execute_reply": "2024-04-23T15:56:57.578178Z"
    },
    "papermill": {
     "duration": 0.503731,
     "end_time": "2024-04-23T15:56:57.582504",
     "exception": false,
     "start_time": "2024-04-23T15:56:57.078773",
     "status": "completed"
    },
    "tags": []
   },
   "outputs": [
    {
     "name": "stdout",
     "output_type": "stream",
     "text": [
      "\u001b[1m\u001b[31m\n",
      "RAM memory GB usage = 1.123\u001b[0m\n"
     ]
    },
    {
     "data": {
      "text/html": [
       "<div><style>\n",
       ".dataframe > thead > tr,\n",
       ".dataframe > tbody > tr {\n",
       "  text-align: right;\n",
       "  white-space: pre-wrap;\n",
       "}\n",
       "</style>\n",
       "<small>shape: (2, 29)</small><table border=\"1\" class=\"dataframe\"><thead><tr><th>article_id</th><th>title</th><th>subtitle</th><th>last_modified_time</th><th>premium</th><th>body</th><th>published_time</th><th>image_ids</th><th>article_type</th><th>url</th><th>ner_clusters</th><th>entity_groups</th><th>topics</th><th>category</th><th>subcategory</th><th>category_str</th><th>total_inviews</th><th>total_pageviews</th><th>total_read_time</th><th>sentiment_score</th><th>sentiment_label</th><th>num_images</th><th>title_len</th><th>subtitle_len</th><th>body_len</th><th>num_topics</th><th>sentiment_label_int</th><th>is_article_default</th><th>topics_idf</th></tr><tr><td>i32</td><td>str</td><td>str</td><td>datetime[μs]</td><td>bool</td><td>str</td><td>datetime[μs]</td><td>list[i64]</td><td>str</td><td>str</td><td>list[str]</td><td>list[str]</td><td>list[str]</td><td>i16</td><td>list[i16]</td><td>str</td><td>i32</td><td>i32</td><td>f32</td><td>f32</td><td>str</td><td>u32</td><td>u8</td><td>u8</td><td>u16</td><td>u32</td><td>i8</td><td>u8</td><td>list[f32]</td></tr></thead><tbody><tr><td>3001353</td><td>&quot;Natascha var i…</td><td>&quot;Politiet frygt…</td><td>2023-06-29 06:20:33</td><td>false</td><td>&quot;Sagen om den ø…</td><td>2006-08-31 08:06:45</td><td>[3150850]</td><td>&quot;article_defaul…</td><td>&quot;https://ekstra…</td><td>[]</td><td>[]</td><td>[&quot;Kriminalitet&quot;, &quot;Personfarlig_kriminalitet&quot;]</td><td>140</td><td>[]</td><td>&quot;krimi&quot;</td><td>null</td><td>null</td><td>null</td><td>0.9955</td><td>&quot;Negative&quot;</td><td>1</td><td>5</td><td>22</td><td>200</td><td>2</td><td>-1</td><td>1</td><td>[0.0, 0.0, … 0.0]</td></tr><tr><td>3003065</td><td>&quot;Kun Star Wars …</td><td>&quot;Biografgængern…</td><td>2023-06-29 06:20:35</td><td>false</td><td>&quot;Vatikanet har …</td><td>2006-05-21 16:57:00</td><td>[3006712]</td><td>&quot;article_defaul…</td><td>&quot;https://ekstra…</td><td>[]</td><td>[]</td><td>[&quot;Underholdning&quot;, &quot;Film_og_tv&quot;, &quot;Økonomi&quot;]</td><td>414</td><td>[433, 434]</td><td>&quot;underholdning&quot;</td><td>null</td><td>null</td><td>null</td><td>0.846</td><td>&quot;Positive&quot;</td><td>1</td><td>5</td><td>19</td><td>116</td><td>3</td><td>1</td><td>1</td><td>[0.0, 0.0, … 0.536059]</td></tr></tbody></table></div>"
      ],
      "text/plain": [
       "shape: (2, 29)\n",
       "┌───────────┬───────────┬───────────┬───────────┬───┬───────────┬───────────┬───────────┬──────────┐\n",
       "│ article_i ┆ title     ┆ subtitle  ┆ last_modi ┆ … ┆ num_topic ┆ sentiment ┆ is_articl ┆ topics_i │\n",
       "│ d         ┆ ---       ┆ ---       ┆ fied_time ┆   ┆ s         ┆ _label_in ┆ e_default ┆ df       │\n",
       "│ ---       ┆ str       ┆ str       ┆ ---       ┆   ┆ ---       ┆ t         ┆ ---       ┆ ---      │\n",
       "│ i32       ┆           ┆           ┆ datetime[ ┆   ┆ u32       ┆ ---       ┆ u8        ┆ list[f32 │\n",
       "│           ┆           ┆           ┆ μs]       ┆   ┆           ┆ i8        ┆           ┆ ]        │\n",
       "╞═══════════╪═══════════╪═══════════╪═══════════╪═══╪═══════════╪═══════════╪═══════════╪══════════╡\n",
       "│ 3001353   ┆ Natascha  ┆ Politiet  ┆ 2023-06-2 ┆ … ┆ 2         ┆ -1        ┆ 1         ┆ [0.0,    │\n",
       "│           ┆ var ikke  ┆ frygter   ┆ 9         ┆   ┆           ┆           ┆           ┆ 0.0, …   │\n",
       "│           ┆ den       ┆ nu, at    ┆ 06:20:33  ┆   ┆           ┆           ┆           ┆ 0.0]     │\n",
       "│           ┆ første    ┆ Natascha… ┆           ┆   ┆           ┆           ┆           ┆          │\n",
       "│ 3003065   ┆ Kun Star  ┆ Biografgæ ┆ 2023-06-2 ┆ … ┆ 3         ┆ 1         ┆ 1         ┆ [0.0,    │\n",
       "│           ┆ Wars      ┆ ngerne    ┆ 9         ┆   ┆           ┆           ┆           ┆ 0.0, …   │\n",
       "│           ┆ tjente    ┆ strømmer  ┆ 06:20:35  ┆   ┆           ┆           ┆           ┆ 0.536059 │\n",
       "│           ┆ mere      ┆ ind for…  ┆           ┆   ┆           ┆           ┆           ┆ ]        │\n",
       "└───────────┴───────────┴───────────┴───────────┴───┴───────────┴───────────┴───────────┴──────────┘"
      ]
     },
     "execution_count": 12,
     "metadata": {},
     "output_type": "execute_result"
    }
   ],
   "source": [
    "from sklearn.feature_extraction.text import TfidfVectorizer\n",
    "\n",
    "vectorizer = TfidfVectorizer()\n",
    "articles = articles.with_columns(\n",
    "    pl.Series(\n",
    "        vectorizer.fit_transform(\n",
    "            articles.with_columns(pl.col('topics').list.join(separator=' '))['topics'].to_list()\n",
    "        ).toarray().astype(np.float32)\n",
    "    ).alias('topics_idf')\n",
    ")\n",
    "\n",
    "gc.collect()\n",
    "PrintColor(f\"\\n\" + GetMemUsage(), color = Fore.RED)\n",
    "articles.head(2)"
   ]
  },
  {
   "cell_type": "code",
   "execution_count": 13,
   "id": "c9471002",
   "metadata": {
    "execution": {
     "iopub.execute_input": "2024-04-23T15:56:57.623138Z",
     "iopub.status.busy": "2024-04-23T15:56:57.622707Z",
     "iopub.status.idle": "2024-04-23T15:56:57.630041Z",
     "shell.execute_reply": "2024-04-23T15:56:57.628825Z"
    },
    "papermill": {
     "duration": 0.030842,
     "end_time": "2024-04-23T15:56:57.632428",
     "exception": false,
     "start_time": "2024-04-23T15:56:57.601586",
     "status": "completed"
    },
    "tags": []
   },
   "outputs": [
    {
     "data": {
      "text/plain": [
       "79"
      ]
     },
     "execution_count": 13,
     "metadata": {},
     "output_type": "execute_result"
    }
   ],
   "source": [
    "# without split + join with _ of the single topics this returns 94\n",
    "len(vectorizer.get_feature_names_out())"
   ]
  },
  {
   "cell_type": "markdown",
   "id": "16c1dca8",
   "metadata": {
    "papermill": {
     "duration": 0.020838,
     "end_time": "2024-04-23T15:56:57.673863",
     "exception": false,
     "start_time": "2024-04-23T15:56:57.653025",
     "status": "completed"
    },
    "tags": []
   },
   "source": [
    "## Topic Model"
   ]
  },
  {
   "cell_type": "code",
   "execution_count": 14,
   "id": "c52dd9b7",
   "metadata": {
    "execution": {
     "iopub.execute_input": "2024-04-23T15:56:57.715179Z",
     "iopub.status.busy": "2024-04-23T15:56:57.714754Z",
     "iopub.status.idle": "2024-04-23T15:56:58.492898Z",
     "shell.execute_reply": "2024-04-23T15:56:58.491723Z"
    },
    "papermill": {
     "duration": 0.801606,
     "end_time": "2024-04-23T15:56:58.495502",
     "exception": false,
     "start_time": "2024-04-23T15:56:57.693896",
     "status": "completed"
    },
    "tags": []
   },
   "outputs": [],
   "source": [
    "import nltk\n",
    "from sklearn.feature_extraction.text import CountVectorizer\n",
    "\n",
    "stopwords = nltk.corpus.stopwords.words('danish')\n",
    "title_vectorizer = CountVectorizer(stop_words=stopwords)\n",
    "\n",
    "titles_bow = title_vectorizer.fit_transform(articles['title'].to_list())"
   ]
  },
  {
   "cell_type": "code",
   "execution_count": 15,
   "id": "67b307fe",
   "metadata": {
    "execution": {
     "iopub.execute_input": "2024-04-23T15:56:58.596257Z",
     "iopub.status.busy": "2024-04-23T15:56:58.595879Z",
     "iopub.status.idle": "2024-04-23T15:57:24.300200Z",
     "shell.execute_reply": "2024-04-23T15:57:24.299053Z"
    },
    "papermill": {
     "duration": 25.726632,
     "end_time": "2024-04-23T15:57:24.302518",
     "exception": false,
     "start_time": "2024-04-23T15:56:58.575886",
     "status": "completed"
    },
    "tags": []
   },
   "outputs": [
    {
     "name": "stdout",
     "output_type": "stream",
     "text": [
      "CPU times: user 25.6 s, sys: 0 ns, total: 25.6 s\n",
      "Wall time: 25.7 s\n"
     ]
    },
    {
     "data": {
      "text/html": [
       "<div><style>\n",
       ".dataframe > thead > tr,\n",
       ".dataframe > tbody > tr {\n",
       "  text-align: right;\n",
       "  white-space: pre-wrap;\n",
       "}\n",
       "</style>\n",
       "<small>shape: (2, 30)</small><table border=\"1\" class=\"dataframe\"><thead><tr><th>article_id</th><th>title</th><th>subtitle</th><th>last_modified_time</th><th>premium</th><th>body</th><th>published_time</th><th>image_ids</th><th>article_type</th><th>url</th><th>ner_clusters</th><th>entity_groups</th><th>topics</th><th>category</th><th>subcategory</th><th>category_str</th><th>total_inviews</th><th>total_pageviews</th><th>total_read_time</th><th>sentiment_score</th><th>sentiment_label</th><th>num_images</th><th>title_len</th><th>subtitle_len</th><th>body_len</th><th>num_topics</th><th>sentiment_label_int</th><th>is_article_default</th><th>topics_idf</th><th>topic_model_embeddings</th></tr><tr><td>i32</td><td>str</td><td>str</td><td>datetime[μs]</td><td>bool</td><td>str</td><td>datetime[μs]</td><td>list[i64]</td><td>str</td><td>str</td><td>list[str]</td><td>list[str]</td><td>list[str]</td><td>i16</td><td>list[i16]</td><td>str</td><td>i32</td><td>i32</td><td>f32</td><td>f32</td><td>str</td><td>u32</td><td>u8</td><td>u8</td><td>u16</td><td>u32</td><td>i8</td><td>u8</td><td>list[f32]</td><td>array[f32, 5]</td></tr></thead><tbody><tr><td>3001353</td><td>&quot;Natascha var i…</td><td>&quot;Politiet frygt…</td><td>2023-06-29 06:20:33</td><td>false</td><td>&quot;Sagen om den ø…</td><td>2006-08-31 08:06:45</td><td>[3150850]</td><td>&quot;article_defaul…</td><td>&quot;https://ekstra…</td><td>[]</td><td>[]</td><td>[&quot;Kriminalitet&quot;, &quot;Personfarlig_kriminalitet&quot;]</td><td>140</td><td>[]</td><td>&quot;krimi&quot;</td><td>null</td><td>null</td><td>null</td><td>0.9955</td><td>&quot;Negative&quot;</td><td>1</td><td>5</td><td>22</td><td>200</td><td>2</td><td>-1</td><td>1</td><td>[0.0, 0.0, … 0.0]</td><td>[0.280499, 0.143732, … 0.28799]</td></tr><tr><td>3003065</td><td>&quot;Kun Star Wars …</td><td>&quot;Biografgængern…</td><td>2023-06-29 06:20:35</td><td>false</td><td>&quot;Vatikanet har …</td><td>2006-05-21 16:57:00</td><td>[3006712]</td><td>&quot;article_defaul…</td><td>&quot;https://ekstra…</td><td>[]</td><td>[]</td><td>[&quot;Underholdning&quot;, &quot;Film_og_tv&quot;, &quot;Økonomi&quot;]</td><td>414</td><td>[433, 434]</td><td>&quot;underholdning&quot;</td><td>null</td><td>null</td><td>null</td><td>0.846</td><td>&quot;Positive&quot;</td><td>1</td><td>5</td><td>19</td><td>116</td><td>3</td><td>1</td><td>1</td><td>[0.0, 0.0, … 0.536059]</td><td>[0.114967, 0.11252, … 0.382691]</td></tr></tbody></table></div>"
      ],
      "text/plain": [
       "shape: (2, 30)\n",
       "┌───────────┬───────────┬───────────┬───────────┬───┬───────────┬───────────┬───────────┬──────────┐\n",
       "│ article_i ┆ title     ┆ subtitle  ┆ last_modi ┆ … ┆ sentiment ┆ is_articl ┆ topics_id ┆ topic_mo │\n",
       "│ d         ┆ ---       ┆ ---       ┆ fied_time ┆   ┆ _label_in ┆ e_default ┆ f         ┆ del_embe │\n",
       "│ ---       ┆ str       ┆ str       ┆ ---       ┆   ┆ t         ┆ ---       ┆ ---       ┆ ddings   │\n",
       "│ i32       ┆           ┆           ┆ datetime[ ┆   ┆ ---       ┆ u8        ┆ list[f32] ┆ ---      │\n",
       "│           ┆           ┆           ┆ μs]       ┆   ┆ i8        ┆           ┆           ┆ array[f3 │\n",
       "│           ┆           ┆           ┆           ┆   ┆           ┆           ┆           ┆ 2, 5]    │\n",
       "╞═══════════╪═══════════╪═══════════╪═══════════╪═══╪═══════════╪═══════════╪═══════════╪══════════╡\n",
       "│ 3001353   ┆ Natascha  ┆ Politiet  ┆ 2023-06-2 ┆ … ┆ -1        ┆ 1         ┆ [0.0,     ┆ [0.28049 │\n",
       "│           ┆ var ikke  ┆ frygter   ┆ 9         ┆   ┆           ┆           ┆ 0.0, …    ┆ 9, 0.143 │\n",
       "│           ┆ den       ┆ nu, at    ┆ 06:20:33  ┆   ┆           ┆           ┆ 0.0]      ┆ 732, …   │\n",
       "│           ┆ første    ┆ Natascha… ┆           ┆   ┆           ┆           ┆           ┆ 0.28799] │\n",
       "│ 3003065   ┆ Kun Star  ┆ Biografgæ ┆ 2023-06-2 ┆ … ┆ 1         ┆ 1         ┆ [0.0,     ┆ [0.11496 │\n",
       "│           ┆ Wars      ┆ ngerne    ┆ 9         ┆   ┆           ┆           ┆ 0.0, …    ┆ 7,       │\n",
       "│           ┆ tjente    ┆ strømmer  ┆ 06:20:35  ┆   ┆           ┆           ┆ 0.536059] ┆ 0.11252, │\n",
       "│           ┆ mere      ┆ ind for…  ┆           ┆   ┆           ┆           ┆           ┆ … 0.3826 │\n",
       "│           ┆           ┆           ┆           ┆   ┆           ┆           ┆           ┆ 91]      │\n",
       "└───────────┴───────────┴───────────┴───────────┴───┴───────────┴───────────┴───────────┴──────────┘"
      ]
     },
     "execution_count": 15,
     "metadata": {},
     "output_type": "execute_result"
    }
   ],
   "source": [
    "%%time\n",
    "\n",
    "from sklearn.decomposition import LatentDirichletAllocation\n",
    "\n",
    "# parameters tuned on perplexity\n",
    "N_COMPONENTS = 5\n",
    "lda_model = LatentDirichletAllocation(\n",
    "    n_components=N_COMPONENTS,\n",
    "    doc_topic_prior=0.99,\n",
    "    topic_word_prior=0.75,\n",
    "    learning_method='online'\n",
    ")\n",
    "articles = articles.with_columns(\n",
    "    pl.Series(lda_model.fit_transform(titles_bow).astype(np.float32)) \\\n",
    "        .list.to_array(5).alias('topic_model_embeddings')\n",
    ")\n",
    "articles.head(2)"
   ]
  },
  {
   "cell_type": "code",
   "execution_count": 16,
   "id": "98cad32b",
   "metadata": {
    "execution": {
     "iopub.execute_input": "2024-04-23T15:57:24.341722Z",
     "iopub.status.busy": "2024-04-23T15:57:24.341316Z",
     "iopub.status.idle": "2024-04-23T15:57:24.355513Z",
     "shell.execute_reply": "2024-04-23T15:57:24.354405Z"
    },
    "papermill": {
     "duration": 0.03689,
     "end_time": "2024-04-23T15:57:24.358044",
     "exception": false,
     "start_time": "2024-04-23T15:57:24.321154",
     "status": "completed"
    },
    "tags": []
   },
   "outputs": [
    {
     "data": {
      "text/html": [
       "<div><style>\n",
       ".dataframe > thead > tr,\n",
       ".dataframe > tbody > tr {\n",
       "  text-align: right;\n",
       "  white-space: pre-wrap;\n",
       "}\n",
       "</style>\n",
       "<small>shape: (2, 34)</small><table border=\"1\" class=\"dataframe\"><thead><tr><th>article_id</th><th>title</th><th>subtitle</th><th>last_modified_time</th><th>premium</th><th>body</th><th>published_time</th><th>image_ids</th><th>article_type</th><th>url</th><th>ner_clusters</th><th>entity_groups</th><th>topics</th><th>category</th><th>subcategory</th><th>category_str</th><th>total_inviews</th><th>total_pageviews</th><th>total_read_time</th><th>sentiment_score</th><th>sentiment_label</th><th>num_images</th><th>title_len</th><th>subtitle_len</th><th>body_len</th><th>num_topics</th><th>sentiment_label_int</th><th>is_article_default</th><th>topics_idf</th><th>topic_model_embedding_0</th><th>topic_model_embedding_1</th><th>topic_model_embedding_2</th><th>topic_model_embedding_3</th><th>topic_model_embedding_4</th></tr><tr><td>i32</td><td>str</td><td>str</td><td>datetime[μs]</td><td>bool</td><td>str</td><td>datetime[μs]</td><td>list[i64]</td><td>str</td><td>str</td><td>list[str]</td><td>list[str]</td><td>list[str]</td><td>i16</td><td>list[i16]</td><td>str</td><td>i32</td><td>i32</td><td>f32</td><td>f32</td><td>str</td><td>u32</td><td>u8</td><td>u8</td><td>u16</td><td>u32</td><td>i8</td><td>u8</td><td>list[f32]</td><td>f32</td><td>f32</td><td>f32</td><td>f32</td><td>f32</td></tr></thead><tbody><tr><td>3001353</td><td>&quot;Natascha var i…</td><td>&quot;Politiet frygt…</td><td>2023-06-29 06:20:33</td><td>false</td><td>&quot;Sagen om den ø…</td><td>2006-08-31 08:06:45</td><td>[3150850]</td><td>&quot;article_defaul…</td><td>&quot;https://ekstra…</td><td>[]</td><td>[]</td><td>[&quot;Kriminalitet&quot;, &quot;Personfarlig_kriminalitet&quot;]</td><td>140</td><td>[]</td><td>&quot;krimi&quot;</td><td>null</td><td>null</td><td>null</td><td>0.9955</td><td>&quot;Negative&quot;</td><td>1</td><td>5</td><td>22</td><td>200</td><td>2</td><td>-1</td><td>1</td><td>[0.0, 0.0, … 0.0]</td><td>0.280499</td><td>0.143732</td><td>0.143758</td><td>0.144022</td><td>0.28799</td></tr><tr><td>3003065</td><td>&quot;Kun Star Wars …</td><td>&quot;Biografgængern…</td><td>2023-06-29 06:20:35</td><td>false</td><td>&quot;Vatikanet har …</td><td>2006-05-21 16:57:00</td><td>[3006712]</td><td>&quot;article_defaul…</td><td>&quot;https://ekstra…</td><td>[]</td><td>[]</td><td>[&quot;Underholdning&quot;, &quot;Film_og_tv&quot;, &quot;Økonomi&quot;]</td><td>414</td><td>[433, 434]</td><td>&quot;underholdning&quot;</td><td>null</td><td>null</td><td>null</td><td>0.846</td><td>&quot;Positive&quot;</td><td>1</td><td>5</td><td>19</td><td>116</td><td>3</td><td>1</td><td>1</td><td>[0.0, 0.0, … 0.536059]</td><td>0.114967</td><td>0.11252</td><td>0.117485</td><td>0.272337</td><td>0.382691</td></tr></tbody></table></div>"
      ],
      "text/plain": [
       "shape: (2, 34)\n",
       "┌───────────┬───────────┬───────────┬───────────┬───┬───────────┬───────────┬───────────┬──────────┐\n",
       "│ article_i ┆ title     ┆ subtitle  ┆ last_modi ┆ … ┆ topic_mod ┆ topic_mod ┆ topic_mod ┆ topic_mo │\n",
       "│ d         ┆ ---       ┆ ---       ┆ fied_time ┆   ┆ el_embedd ┆ el_embedd ┆ el_embedd ┆ del_embe │\n",
       "│ ---       ┆ str       ┆ str       ┆ ---       ┆   ┆ ing_1     ┆ ing_2     ┆ ing_3     ┆ dding_4  │\n",
       "│ i32       ┆           ┆           ┆ datetime[ ┆   ┆ ---       ┆ ---       ┆ ---       ┆ ---      │\n",
       "│           ┆           ┆           ┆ μs]       ┆   ┆ f32       ┆ f32       ┆ f32       ┆ f32      │\n",
       "╞═══════════╪═══════════╪═══════════╪═══════════╪═══╪═══════════╪═══════════╪═══════════╪══════════╡\n",
       "│ 3001353   ┆ Natascha  ┆ Politiet  ┆ 2023-06-2 ┆ … ┆ 0.143732  ┆ 0.143758  ┆ 0.144022  ┆ 0.28799  │\n",
       "│           ┆ var ikke  ┆ frygter   ┆ 9         ┆   ┆           ┆           ┆           ┆          │\n",
       "│           ┆ den       ┆ nu, at    ┆ 06:20:33  ┆   ┆           ┆           ┆           ┆          │\n",
       "│           ┆ første    ┆ Natascha… ┆           ┆   ┆           ┆           ┆           ┆          │\n",
       "│ 3003065   ┆ Kun Star  ┆ Biografgæ ┆ 2023-06-2 ┆ … ┆ 0.11252   ┆ 0.117485  ┆ 0.272337  ┆ 0.382691 │\n",
       "│           ┆ Wars      ┆ ngerne    ┆ 9         ┆   ┆           ┆           ┆           ┆          │\n",
       "│           ┆ tjente    ┆ strømmer  ┆ 06:20:35  ┆   ┆           ┆           ┆           ┆          │\n",
       "│           ┆ mere      ┆ ind for…  ┆           ┆   ┆           ┆           ┆           ┆          │\n",
       "└───────────┴───────────┴───────────┴───────────┴───┴───────────┴───────────┴───────────┴──────────┘"
      ]
     },
     "execution_count": 16,
     "metadata": {},
     "output_type": "execute_result"
    }
   ],
   "source": [
    "topic_model_columns = [f'topic_model_embedding_{i}' for i in range(N_COMPONENTS)]\n",
    "\n",
    "articles = articles.with_columns(\n",
    "    pl.col('topic_model_embeddings').arr.to_struct(fields=lambda i: f'topic_model_embedding_{i}')\n",
    ").with_columns([\n",
    "    pl.col('topic_model_embeddings').struct.field(f'topic_model_embedding_{i}') for i in range(N_COMPONENTS)\n",
    "]).drop('topic_model_embeddings')\n",
    "\n",
    "articles.head(2)"
   ]
  },
  {
   "cell_type": "markdown",
   "id": "40ca3a04",
   "metadata": {
    "papermill": {
     "duration": 0.01876,
     "end_time": "2024-04-23T15:57:24.395948",
     "exception": false,
     "start_time": "2024-04-23T15:57:24.377188",
     "status": "completed"
    },
    "tags": []
   },
   "source": [
    "# History preprocessing"
   ]
  },
  {
   "cell_type": "code",
   "execution_count": 17,
   "id": "41694c5d",
   "metadata": {
    "execution": {
     "iopub.execute_input": "2024-04-23T15:57:24.435916Z",
     "iopub.status.busy": "2024-04-23T15:57:24.435517Z",
     "iopub.status.idle": "2024-04-23T15:57:24.441832Z",
     "shell.execute_reply": "2024-04-23T15:57:24.440470Z"
    },
    "papermill": {
     "duration": 0.028972,
     "end_time": "2024-04-23T15:57:24.444220",
     "exception": false,
     "start_time": "2024-04-23T15:57:24.415248",
     "status": "completed"
    },
    "tags": []
   },
   "outputs": [],
   "source": [
    "def add_topics_tf_idf_columns(df, topics_col, vectorizer):\n",
    "    return df.with_columns(\n",
    "        pl.Series(\n",
    "            vectorizer.transform(\n",
    "                df.with_columns(pl.col(topics_col).list.join(separator=' '))[topics_col].to_list()\n",
    "            ).toarray().astype(np.float32)\n",
    "        ).alias(f'{topics_col}_tf_idf')\n",
    "    )"
   ]
  },
  {
   "cell_type": "code",
   "execution_count": 18,
   "id": "d2b5d9b1",
   "metadata": {
    "execution": {
     "iopub.execute_input": "2024-04-23T15:57:24.485261Z",
     "iopub.status.busy": "2024-04-23T15:57:24.484829Z",
     "iopub.status.idle": "2024-04-23T15:57:38.870210Z",
     "shell.execute_reply": "2024-04-23T15:57:38.868505Z"
    },
    "papermill": {
     "duration": 14.409333,
     "end_time": "2024-04-23T15:57:38.872620",
     "exception": false,
     "start_time": "2024-04-23T15:57:24.463287",
     "status": "completed"
    },
    "tags": []
   },
   "outputs": [
    {
     "name": "stderr",
     "output_type": "stream",
     "text": [
      "16it [00:13,  1.17it/s]                        \n"
     ]
    },
    {
     "name": "stdout",
     "output_type": "stream",
     "text": [
      "\u001b[1m\u001b[31m\n",
      "RAM memory GB usage = 1.241\u001b[0m\n",
      "Memory usage of dataframe is 39.39 MB\n",
      "Memory usage after optimization is: 38.61 MB\n",
      "Decreased by 2.0%\n",
      "CPU times: user 16.1 s, sys: 1.59 s, total: 17.7 s\n",
      "Wall time: 14.4 s\n"
     ]
    },
    {
     "data": {
      "text/html": [
       "<div><style>\n",
       ".dataframe > thead > tr,\n",
       ".dataframe > tbody > tr {\n",
       "  text-align: right;\n",
       "  white-space: pre-wrap;\n",
       "}\n",
       "</style>\n",
       "<small>shape: (2, 27)</small><table border=\"1\" class=\"dataframe\"><thead><tr><th>user_id</th><th>article_id_fixed</th><th>impression_time_fixed</th><th>category</th><th>NumArticlesHistory</th><th>MedianReadTime</th><th>MaxReadTime</th><th>TotalReadTime</th><th>MedianScrollPercentage</th><th>MaxScrollPercentage</th><th>NeutralPct</th><th>PositivePct</th><th>NegativePct</th><th>PctStrongNeutral</th><th>PctStrongPositive</th><th>PctStrongNegative</th><th>PctNotDefaultArticles</th><th>MostFrequentCategory</th><th>MostFrequentWeekday</th><th>MostFrequentHour</th><th>topics_flatten_tf_idf</th><th>PERPct</th><th>EVENTPct</th><th>LOCPct</th><th>ORGPct</th><th>PRODPct</th><th>MISCPct</th></tr><tr><td>u32</td><td>list[i32]</td><td>list[datetime[μs]]</td><td>list[i16]</td><td>u16</td><td>f32</td><td>f32</td><td>f32</td><td>f32</td><td>f32</td><td>f32</td><td>f32</td><td>f32</td><td>f32</td><td>f32</td><td>f32</td><td>f32</td><td>i16</td><td>i8</td><td>i8</td><td>list[f32]</td><td>f32</td><td>f32</td><td>f32</td><td>f32</td><td>f32</td><td>f32</td></tr></thead><tbody><tr><td>10623</td><td>[9739035, 9739065, … 9770533]</td><td>[2023-04-27 14:29:44, 2023-04-27 14:29:47, … 2023-05-17 17:36:24]</td><td>[118, 414, … 140]</td><td>143</td><td>3.0</td><td>1563.0</td><td>9623.0</td><td>42.5</td><td>100.0</td><td>0.230769</td><td>0.111888</td><td>0.657343</td><td>0.097902</td><td>0.083916</td><td>0.608392</td><td>0.06993</td><td>118</td><td>3</td><td>16</td><td>[0.016041, 0.062928, … 0.178427]</td><td>0.874126</td><td>0.202797</td><td>0.804196</td><td>0.888112</td><td>0.237762</td><td>0.223776</td></tr><tr><td>12016</td><td>[9738216, 9735383, … 9769622]</td><td>[2023-04-27 07:39:48, 2023-04-27 07:41:30, … 2023-05-17 23:56:30]</td><td>[140, 118, … 140]</td><td>264</td><td>156.0</td><td>1775.0</td><td>63672.0</td><td>100.0</td><td>100.0</td><td>0.257576</td><td>0.075758</td><td>0.666667</td><td>0.106061</td><td>0.034091</td><td>0.602273</td><td>0.07197</td><td>140</td><td>5</td><td>20</td><td>[0.009749, 0.045896, … 0.075912]</td><td>0.787879</td><td>0.087121</td><td>0.776515</td><td>0.852273</td><td>0.318182</td><td>0.117424</td></tr></tbody></table></div>"
      ],
      "text/plain": [
       "shape: (2, 27)\n",
       "┌─────────┬─────────────┬─────────────┬────────────┬───┬──────────┬──────────┬──────────┬──────────┐\n",
       "│ user_id ┆ article_id_ ┆ impression_ ┆ category   ┆ … ┆ LOCPct   ┆ ORGPct   ┆ PRODPct  ┆ MISCPct  │\n",
       "│ ---     ┆ fixed       ┆ time_fixed  ┆ ---        ┆   ┆ ---      ┆ ---      ┆ ---      ┆ ---      │\n",
       "│ u32     ┆ ---         ┆ ---         ┆ list[i16]  ┆   ┆ f32      ┆ f32      ┆ f32      ┆ f32      │\n",
       "│         ┆ list[i32]   ┆ list[dateti ┆            ┆   ┆          ┆          ┆          ┆          │\n",
       "│         ┆             ┆ me[μs]]     ┆            ┆   ┆          ┆          ┆          ┆          │\n",
       "╞═════════╪═════════════╪═════════════╪════════════╪═══╪══════════╪══════════╪══════════╪══════════╡\n",
       "│ 10623   ┆ [9739035,   ┆ [2023-04-27 ┆ [118, 414, ┆ … ┆ 0.804196 ┆ 0.888112 ┆ 0.237762 ┆ 0.223776 │\n",
       "│         ┆ 9739065, …  ┆ 14:29:44,   ┆ … 140]     ┆   ┆          ┆          ┆          ┆          │\n",
       "│         ┆ 9770533]    ┆ 2023-04-27… ┆            ┆   ┆          ┆          ┆          ┆          │\n",
       "│ 12016   ┆ [9738216,   ┆ [2023-04-27 ┆ [140, 118, ┆ … ┆ 0.776515 ┆ 0.852273 ┆ 0.318182 ┆ 0.117424 │\n",
       "│         ┆ 9735383, …  ┆ 07:39:48,   ┆ … 140]     ┆   ┆          ┆          ┆          ┆          │\n",
       "│         ┆ 9769622]    ┆ 2023-04-27… ┆            ┆   ┆          ┆          ┆          ┆          │\n",
       "└─────────┴─────────────┴─────────────┴────────────┴───┴──────────┴──────────┴──────────┴──────────┘"
      ]
     },
     "execution_count": 18,
     "metadata": {},
     "output_type": "execute_result"
    }
   ],
   "source": [
    "%%time\n",
    "\n",
    "STRONG_THR = 0.8\n",
    "\n",
    "history_train = pl.concat(\n",
    "    rows.with_columns(pl.col('article_id_fixed').list.len().alias('NumArticlesHistory')) \\\n",
    "        .explode(['article_id_fixed', 'impression_time_fixed', 'read_time_fixed', 'scroll_percentage_fixed']) \\\n",
    "        .sort(by=['user_id', 'impression_time_fixed']) \\\n",
    "        .with_columns(\n",
    "            pl.col('impression_time_fixed').dt.weekday().alias('weekday'),\n",
    "            pl.col('impression_time_fixed').dt.hour().alias('hour'),\n",
    "        ).join(articles.select(['article_id', 'category', 'is_article_default', 'sentiment_label_int', \n",
    "                                'sentiment_score', 'entity_groups', 'topics']), \n",
    "               left_on='article_id_fixed', right_on='article_id', how='left') \\\n",
    "        .with_columns(\n",
    "            (pl.col('sentiment_label_int') == 0).alias('is_neutral'),\n",
    "            (pl.col('sentiment_label_int') == 1).alias('is_positive'),\n",
    "            (pl.col('sentiment_label_int') == -1).alias('is_negative'),\n",
    "            ((pl.col('sentiment_label_int') == 0) & (pl.col('sentiment_score') > STRONG_THR)).alias('strong_neutral'),\n",
    "            ((pl.col('sentiment_label_int') == 1) & (pl.col('sentiment_score') > STRONG_THR)).alias('strong_positive'),\n",
    "            ((pl.col('sentiment_label_int') == -1) & (pl.col('sentiment_score') > STRONG_THR)).alias('strong_negative'),\n",
    "            pl.col('entity_groups').list.unique(),\n",
    "        ).group_by('user_id').agg(\n",
    "            pl.col('article_id_fixed'),\n",
    "            pl.col('impression_time_fixed'),\n",
    "            pl.col('category'),\n",
    "            pl.col('NumArticlesHistory').first(),\n",
    "            pl.col('read_time_fixed').median().alias('MedianReadTime'),\n",
    "            pl.col('read_time_fixed').max().alias('MaxReadTime'),\n",
    "            pl.col('read_time_fixed').sum().alias('TotalReadTime'),\n",
    "            pl.col('scroll_percentage_fixed').median().alias('MedianScrollPercentage'),\n",
    "            pl.col('scroll_percentage_fixed').max().alias('MaxScrollPercentage'),\n",
    "            (pl.col('is_neutral').sum() / pl.col('NumArticlesHistory').first()).alias('NeutralPct'),\n",
    "            (pl.col('is_positive').sum() / pl.col('NumArticlesHistory').first()).alias('PositivePct'),\n",
    "            (pl.col('is_negative').sum() / pl.col('NumArticlesHistory').first()).alias('NegativePct'),\n",
    "            (pl.col('strong_neutral').sum() / pl.col('NumArticlesHistory').first()).alias('PctStrongNeutral'),\n",
    "            (pl.col('strong_positive').sum() / pl.col('NumArticlesHistory').first()).alias('PctStrongPositive'),\n",
    "            (pl.col('strong_negative').sum() / pl.col('NumArticlesHistory').first()).alias('PctStrongNegative'),\n",
    "            (1 - (pl.col('is_article_default').sum() / pl.col('NumArticlesHistory').first())).alias('PctNotDefaultArticles'),\n",
    "            pl.col('category').mode().alias('MostFrequentCategory'),\n",
    "            pl.col('weekday').mode().alias('MostFrequentWeekday'),\n",
    "            pl.col('hour').mode().alias('MostFrequentHour'),\n",
    "            pl.col('entity_groups').flatten(),\n",
    "            pl.col('topics').flatten().alias('topics_flatten')\n",
    "        ).pipe(add_topics_tf_idf_columns, topics_col='topics_flatten', vectorizer=vectorizer) \\\n",
    "        .drop('topics_flatten').with_columns(\n",
    "            pl.col('MostFrequentCategory').list.first(),\n",
    "            pl.col('MostFrequentWeekday').list.first(),\n",
    "            pl.col('MostFrequentHour').list.first(),\n",
    "        ).with_columns(\n",
    "            (pl.col('entity_groups').list.count_matches(entity) / pl.col('NumArticlesHistory')).alias(f'{entity}Pct')\n",
    "            for entity in unique_entities\n",
    "        ).drop('entity_groups')\n",
    "    for rows in tqdm.tqdm(history_train.iter_slices(1000), total=history_train.shape[0] // 1000)\n",
    ")\n",
    "\n",
    "gc.collect()\n",
    "PrintColor(f\"\\n\" + GetMemUsage(), color = Fore.RED)\n",
    "history_train = reduce_polars_df_memory_size(history_train)\n",
    "history_train.head(2)"
   ]
  },
  {
   "cell_type": "code",
   "execution_count": 19,
   "id": "3fa787fb",
   "metadata": {
    "execution": {
     "iopub.execute_input": "2024-04-23T15:57:38.916021Z",
     "iopub.status.busy": "2024-04-23T15:57:38.915045Z",
     "iopub.status.idle": "2024-04-23T15:57:38.922284Z",
     "shell.execute_reply": "2024-04-23T15:57:38.921211Z"
    },
    "papermill": {
     "duration": 0.031138,
     "end_time": "2024-04-23T15:57:38.924480",
     "exception": false,
     "start_time": "2024-04-23T15:57:38.893342",
     "status": "completed"
    },
    "tags": []
   },
   "outputs": [
    {
     "data": {
      "text/plain": [
       "(15143, 27)"
      ]
     },
     "execution_count": 19,
     "metadata": {},
     "output_type": "execute_result"
    }
   ],
   "source": [
    "history_train.shape"
   ]
  },
  {
   "cell_type": "markdown",
   "id": "f4db6a29",
   "metadata": {
    "papermill": {
     "duration": 0.021571,
     "end_time": "2024-04-23T15:57:38.967311",
     "exception": false,
     "start_time": "2024-04-23T15:57:38.945740",
     "status": "completed"
    },
    "tags": []
   },
   "source": [
    "# Named entity collaborative filtering"
   ]
  },
  {
   "cell_type": "code",
   "execution_count": 20,
   "id": "c02e5e39",
   "metadata": {
    "execution": {
     "iopub.execute_input": "2024-04-23T15:57:39.011300Z",
     "iopub.status.busy": "2024-04-23T15:57:39.010907Z",
     "iopub.status.idle": "2024-04-23T15:57:39.110163Z",
     "shell.execute_reply": "2024-04-23T15:57:39.109058Z"
    },
    "papermill": {
     "duration": 0.124008,
     "end_time": "2024-04-23T15:57:39.112607",
     "exception": false,
     "start_time": "2024-04-23T15:57:38.988599",
     "status": "completed"
    },
    "tags": []
   },
   "outputs": [],
   "source": [
    "user_id_mapping = history_train.sort('user_id').with_row_index() \\\n",
    "    .select(['index', 'user_id']).rename({'index': 'user_index'})\n",
    "\n",
    "ner_mapping = articles.select(['ner_clusters']) \\\n",
    "    .explode('ner_clusters') \\\n",
    "    .rename({'ner_clusters': 'ner'}) \\\n",
    "    .with_columns(pl.col('ner').str.strip_chars_start('\\\" ').str.to_lowercase()) \\\n",
    "    .unique('ner').drop_nulls().filter(pl.col('ner').str.len_chars() > 0) \\\n",
    "    .sort('ner').with_row_index().rename({'index': 'ner_index'})"
   ]
  },
  {
   "cell_type": "code",
   "execution_count": 21,
   "id": "f282907b",
   "metadata": {
    "execution": {
     "iopub.execute_input": "2024-04-23T15:57:39.155988Z",
     "iopub.status.busy": "2024-04-23T15:57:39.155581Z",
     "iopub.status.idle": "2024-04-23T15:57:53.621654Z",
     "shell.execute_reply": "2024-04-23T15:57:53.620699Z"
    },
    "papermill": {
     "duration": 14.490676,
     "end_time": "2024-04-23T15:57:53.624148",
     "exception": false,
     "start_time": "2024-04-23T15:57:39.133472",
     "status": "completed"
    },
    "tags": []
   },
   "outputs": [],
   "source": [
    "ner_interactions = history_train.select(['user_id', 'article_id_fixed']).explode('article_id_fixed') \\\n",
    "    .join(articles.select(['article_id', 'ner_clusters']), left_on='article_id_fixed', right_on='article_id', how='left') \\\n",
    "    .explode('ner_clusters').unique(['user_id', 'ner_clusters']) \\\n",
    "    .with_columns(pl.col('ner_clusters').str.strip_chars_start('\\\" ').str.to_lowercase()) \\\n",
    "    .join(user_id_mapping, on='user_id', how='left') \\\n",
    "    .join(ner_mapping, left_on='ner_clusters', right_on='ner') \\\n",
    "    .select(['user_index', 'ner_index', 'user_id', 'article_id_fixed']) \\\n",
    "    .unique(['user_index', 'ner_index'])\n",
    "\n",
    "URM_ner = sps.csr_matrix((np.ones(ner_interactions.shape[0]),\n",
    "                          (ner_interactions['user_index'].to_numpy(), ner_interactions['ner_index'].to_numpy())),\n",
    "                         shape=(user_id_mapping.shape[0], ner_mapping.shape[0]))\n",
    "\n",
    "ner_interactions_test = behaviors_train.select(['user_id', 'article_ids_clicked']).explode('article_ids_clicked') \\\n",
    "    .join(articles.select(['article_id', 'ner_clusters']), left_on='article_ids_clicked', right_on='article_id', how='left') \\\n",
    "    .explode('ner_clusters').unique(['user_id', 'ner_clusters']) \\\n",
    "    .with_columns(pl.col('ner_clusters').str.strip_chars_start('\\\" ').str.to_lowercase()) \\\n",
    "    .join(user_id_mapping, on='user_id', how='left') \\\n",
    "    .join(ner_mapping, left_on='ner_clusters', right_on='ner') \\\n",
    "    .select(['user_index', 'ner_index', 'user_id', 'article_ids_clicked']) \\\n",
    "    .unique(['user_index', 'ner_index'])\n",
    "\n",
    "URM_ner_test = sps.csr_matrix((np.ones(ner_interactions_test.shape[0]),\n",
    "                               (ner_interactions_test['user_index'].to_numpy(), ner_interactions_test['ner_index'].to_numpy())),\n",
    "                              shape=(user_id_mapping.shape[0], ner_mapping.shape[0]))"
   ]
  },
  {
   "cell_type": "code",
   "execution_count": 22,
   "id": "60c392ea",
   "metadata": {
    "execution": {
     "iopub.execute_input": "2024-04-23T15:57:53.667727Z",
     "iopub.status.busy": "2024-04-23T15:57:53.667316Z",
     "iopub.status.idle": "2024-04-23T15:57:57.724225Z",
     "shell.execute_reply": "2024-04-23T15:57:57.722915Z"
    },
    "papermill": {
     "duration": 4.081705,
     "end_time": "2024-04-23T15:57:57.727022",
     "exception": false,
     "start_time": "2024-04-23T15:57:53.645317",
     "status": "completed"
    },
    "tags": []
   },
   "outputs": [
    {
     "name": "stdout",
     "output_type": "stream",
     "text": [
      "/kaggle/working\n"
     ]
    },
    {
     "name": "stderr",
     "output_type": "stream",
     "text": [
      "/opt/conda/lib/python3.10/pty.py:89: RuntimeWarning: os.fork() was called. os.fork() is incompatible with multithreaded code, and JAX is multithreaded, so this will likely lead to a deadlock.\n",
      "  pid, fd = os.forkpty()\n"
     ]
    },
    {
     "name": "stdout",
     "output_type": "stream",
     "text": [
      "Cloning into 'RecSys_Course_AT_PoliMi'...\r\n",
      "remote: Enumerating objects: 1519, done.\u001b[K\r\n",
      "remote: Counting objects: 100% (281/281), done.\u001b[K\r\n",
      "remote: Compressing objects: 100% (45/45), done.\u001b[K\r\n",
      "remote: Total 1519 (delta 246), reused 244 (delta 236), pack-reused 1238\u001b[K\r\n",
      "Receiving objects: 100% (1519/1519), 50.33 MiB | 24.91 MiB/s, done.\r\n",
      "Resolving deltas: 100% (909/909), done.\r\n"
     ]
    }
   ],
   "source": [
    "%cd /kaggle/working\n",
    "! git clone https://github.com/MaurizioFD/RecSys_Course_AT_PoliMi.git"
   ]
  },
  {
   "cell_type": "code",
   "execution_count": 23,
   "id": "53cf7147",
   "metadata": {
    "execution": {
     "iopub.execute_input": "2024-04-23T15:57:57.776860Z",
     "iopub.status.busy": "2024-04-23T15:57:57.776416Z",
     "iopub.status.idle": "2024-04-23T16:03:05.231782Z",
     "shell.execute_reply": "2024-04-23T16:03:05.230555Z"
    },
    "papermill": {
     "duration": 307.482775,
     "end_time": "2024-04-23T16:03:05.234884",
     "exception": false,
     "start_time": "2024-04-23T15:57:57.752109",
     "status": "completed"
    },
    "tags": []
   },
   "outputs": [
    {
     "name": "stdout",
     "output_type": "stream",
     "text": [
      "/kaggle/working/RecSys_Course_AT_PoliMi\n",
      "ItemKNNCFRecommender: URM Detected 1 ( 0.0%) users with no interactions.\n",
      "ItemKNNCFRecommender: URM Detected 18909 (43.2%) items with no interactions.\n",
      "Unable to load Cython Compute_Similarity, reverting to Python\n",
      "Similarity column 43774 (100.0%), 164.91 column/sec. Elapsed time 4.42 min\n",
      "EvaluatorHoldout: Ignoring 31 ( 0.2%) Users that have less than 1 test interactions\n",
      "EvaluatorHoldout: Processed 15112 (100.0%) in 41.06 sec. Users per second: 368\n"
     ]
    },
    {
     "data": {
      "text/html": [
       "<div>\n",
       "<style scoped>\n",
       "    .dataframe tbody tr th:only-of-type {\n",
       "        vertical-align: middle;\n",
       "    }\n",
       "\n",
       "    .dataframe tbody tr th {\n",
       "        vertical-align: top;\n",
       "    }\n",
       "\n",
       "    .dataframe thead th {\n",
       "        text-align: right;\n",
       "    }\n",
       "</style>\n",
       "<table border=\"1\" class=\"dataframe\">\n",
       "  <thead>\n",
       "    <tr style=\"text-align: right;\">\n",
       "      <th></th>\n",
       "      <th>PRECISION</th>\n",
       "      <th>PRECISION_RECALL_MIN_DEN</th>\n",
       "      <th>RECALL</th>\n",
       "      <th>MAP</th>\n",
       "      <th>MAP_MIN_DEN</th>\n",
       "      <th>MRR</th>\n",
       "      <th>NDCG</th>\n",
       "      <th>F1</th>\n",
       "      <th>HIT_RATE</th>\n",
       "      <th>ARHR_ALL_HITS</th>\n",
       "      <th>...</th>\n",
       "      <th>COVERAGE_USER</th>\n",
       "      <th>COVERAGE_USER_HIT</th>\n",
       "      <th>USERS_IN_GT</th>\n",
       "      <th>DIVERSITY_GINI</th>\n",
       "      <th>SHANNON_ENTROPY</th>\n",
       "      <th>RATIO_DIVERSITY_HERFINDAHL</th>\n",
       "      <th>RATIO_DIVERSITY_GINI</th>\n",
       "      <th>RATIO_SHANNON_ENTROPY</th>\n",
       "      <th>RATIO_AVERAGE_POPULARITY</th>\n",
       "      <th>RATIO_NOVELTY</th>\n",
       "    </tr>\n",
       "    <tr>\n",
       "      <th>cutoff</th>\n",
       "      <th></th>\n",
       "      <th></th>\n",
       "      <th></th>\n",
       "      <th></th>\n",
       "      <th></th>\n",
       "      <th></th>\n",
       "      <th></th>\n",
       "      <th></th>\n",
       "      <th></th>\n",
       "      <th></th>\n",
       "      <th></th>\n",
       "      <th></th>\n",
       "      <th></th>\n",
       "      <th></th>\n",
       "      <th></th>\n",
       "      <th></th>\n",
       "      <th></th>\n",
       "      <th></th>\n",
       "      <th></th>\n",
       "      <th></th>\n",
       "      <th></th>\n",
       "    </tr>\n",
       "  </thead>\n",
       "  <tbody>\n",
       "    <tr>\n",
       "      <th>10</th>\n",
       "      <td>0.311971</td>\n",
       "      <td>0.312913</td>\n",
       "      <td>0.030088</td>\n",
       "      <td>0.214433</td>\n",
       "      <td>0.214676</td>\n",
       "      <td>0.469902</td>\n",
       "      <td>0.319612</td>\n",
       "      <td>0.054883</td>\n",
       "      <td>0.766609</td>\n",
       "      <td>0.953152</td>\n",
       "      <td>...</td>\n",
       "      <td>0.997953</td>\n",
       "      <td>0.76504</td>\n",
       "      <td>0.997953</td>\n",
       "      <td>0.002086</td>\n",
       "      <td>5.362616</td>\n",
       "      <td>0.952586</td>\n",
       "      <td>0.016842</td>\n",
       "      <td>0.419597</td>\n",
       "      <td>3.357942</td>\n",
       "      <td>0.009295</td>\n",
       "    </tr>\n",
       "  </tbody>\n",
       "</table>\n",
       "<p>1 rows × 27 columns</p>\n",
       "</div>"
      ],
      "text/plain": [
       "       PRECISION PRECISION_RECALL_MIN_DEN    RECALL       MAP MAP_MIN_DEN  \\\n",
       "cutoff                                                                      \n",
       "10      0.311971                 0.312913  0.030088  0.214433    0.214676   \n",
       "\n",
       "             MRR      NDCG        F1  HIT_RATE ARHR_ALL_HITS  ...  \\\n",
       "cutoff                                                        ...   \n",
       "10      0.469902  0.319612  0.054883  0.766609      0.953152  ...   \n",
       "\n",
       "       COVERAGE_USER COVERAGE_USER_HIT USERS_IN_GT DIVERSITY_GINI  \\\n",
       "cutoff                                                              \n",
       "10          0.997953           0.76504    0.997953       0.002086   \n",
       "\n",
       "       SHANNON_ENTROPY RATIO_DIVERSITY_HERFINDAHL RATIO_DIVERSITY_GINI  \\\n",
       "cutoff                                                                   \n",
       "10            5.362616                   0.952586             0.016842   \n",
       "\n",
       "       RATIO_SHANNON_ENTROPY RATIO_AVERAGE_POPULARITY RATIO_NOVELTY  \n",
       "cutoff                                                               \n",
       "10                  0.419597                 3.357942      0.009295  \n",
       "\n",
       "[1 rows x 27 columns]"
      ]
     },
     "execution_count": 23,
     "metadata": {},
     "output_type": "execute_result"
    }
   ],
   "source": [
    "%cd /kaggle/working/RecSys_Course_AT_PoliMi\n",
    "\n",
    "from Recommenders.SLIM.SLIMElasticNetRecommender import SLIMElasticNetRecommender\n",
    "from Recommenders.KNN.ItemKNNCFRecommender import ItemKNNCFRecommender\n",
    "from Recommenders.MatrixFactorization.PureSVDRecommender import PureSVDRecommender\n",
    "from Evaluation.Evaluator import EvaluatorHoldout\n",
    "\n",
    "np.int = int\n",
    "np.random.seed(42)\n",
    "np.bool = bool\n",
    "np.float = float\n",
    "\n",
    "item_knn = ItemKNNCFRecommender(URM_ner)\n",
    "item_knn.fit(topK=100, similarity='jaccard')\n",
    "\n",
    "evaluator = EvaluatorHoldout(URM_ner_test, cutoff_list=[10], exclude_seen=False)\n",
    "result_df, _ = evaluator.evaluateRecommender(item_knn)\n",
    "result_df"
   ]
  },
  {
   "cell_type": "code",
   "execution_count": 24,
   "id": "91cca2e8",
   "metadata": {
    "execution": {
     "iopub.execute_input": "2024-04-23T16:03:05.284620Z",
     "iopub.status.busy": "2024-04-23T16:03:05.284186Z",
     "iopub.status.idle": "2024-04-23T16:03:31.019388Z",
     "shell.execute_reply": "2024-04-23T16:03:31.018214Z"
    },
    "papermill": {
     "duration": 25.763021,
     "end_time": "2024-04-23T16:03:31.021805",
     "exception": false,
     "start_time": "2024-04-23T16:03:05.258784",
     "status": "completed"
    },
    "tags": []
   },
   "outputs": [
    {
     "name": "stdout",
     "output_type": "stream",
     "text": [
      "PureSVDRecommender: URM Detected 1 ( 0.0%) users with no interactions.\n",
      "PureSVDRecommender: URM Detected 18909 (43.2%) items with no interactions.\n",
      "PureSVDRecommender: Computing SVD decomposition...\n",
      "PureSVDRecommender: Computing SVD decomposition... done in 4.61 sec\n",
      "EvaluatorHoldout: Processed 15112 (100.0%) in 20.71 sec. Users per second: 730\n"
     ]
    },
    {
     "data": {
      "text/html": [
       "<div>\n",
       "<style scoped>\n",
       "    .dataframe tbody tr th:only-of-type {\n",
       "        vertical-align: middle;\n",
       "    }\n",
       "\n",
       "    .dataframe tbody tr th {\n",
       "        vertical-align: top;\n",
       "    }\n",
       "\n",
       "    .dataframe thead th {\n",
       "        text-align: right;\n",
       "    }\n",
       "</style>\n",
       "<table border=\"1\" class=\"dataframe\">\n",
       "  <thead>\n",
       "    <tr style=\"text-align: right;\">\n",
       "      <th></th>\n",
       "      <th>PRECISION</th>\n",
       "      <th>PRECISION_RECALL_MIN_DEN</th>\n",
       "      <th>RECALL</th>\n",
       "      <th>MAP</th>\n",
       "      <th>MAP_MIN_DEN</th>\n",
       "      <th>MRR</th>\n",
       "      <th>NDCG</th>\n",
       "      <th>F1</th>\n",
       "      <th>HIT_RATE</th>\n",
       "      <th>ARHR_ALL_HITS</th>\n",
       "      <th>...</th>\n",
       "      <th>COVERAGE_USER</th>\n",
       "      <th>COVERAGE_USER_HIT</th>\n",
       "      <th>USERS_IN_GT</th>\n",
       "      <th>DIVERSITY_GINI</th>\n",
       "      <th>SHANNON_ENTROPY</th>\n",
       "      <th>RATIO_DIVERSITY_HERFINDAHL</th>\n",
       "      <th>RATIO_DIVERSITY_GINI</th>\n",
       "      <th>RATIO_SHANNON_ENTROPY</th>\n",
       "      <th>RATIO_AVERAGE_POPULARITY</th>\n",
       "      <th>RATIO_NOVELTY</th>\n",
       "    </tr>\n",
       "    <tr>\n",
       "      <th>cutoff</th>\n",
       "      <th></th>\n",
       "      <th></th>\n",
       "      <th></th>\n",
       "      <th></th>\n",
       "      <th></th>\n",
       "      <th></th>\n",
       "      <th></th>\n",
       "      <th></th>\n",
       "      <th></th>\n",
       "      <th></th>\n",
       "      <th></th>\n",
       "      <th></th>\n",
       "      <th></th>\n",
       "      <th></th>\n",
       "      <th></th>\n",
       "      <th></th>\n",
       "      <th></th>\n",
       "      <th></th>\n",
       "      <th></th>\n",
       "      <th></th>\n",
       "      <th></th>\n",
       "    </tr>\n",
       "  </thead>\n",
       "  <tbody>\n",
       "    <tr>\n",
       "      <th>10</th>\n",
       "      <td>0.342628</td>\n",
       "      <td>0.345141</td>\n",
       "      <td>0.048661</td>\n",
       "      <td>0.261759</td>\n",
       "      <td>0.263204</td>\n",
       "      <td>0.670397</td>\n",
       "      <td>0.392258</td>\n",
       "      <td>0.085219</td>\n",
       "      <td>0.858655</td>\n",
       "      <td>1.275579</td>\n",
       "      <td>...</td>\n",
       "      <td>0.997953</td>\n",
       "      <td>0.856898</td>\n",
       "      <td>0.997953</td>\n",
       "      <td>0.001871</td>\n",
       "      <td>5.929536</td>\n",
       "      <td>0.95823</td>\n",
       "      <td>0.015104</td>\n",
       "      <td>0.463956</td>\n",
       "      <td>3.324192</td>\n",
       "      <td>0.009294</td>\n",
       "    </tr>\n",
       "  </tbody>\n",
       "</table>\n",
       "<p>1 rows × 27 columns</p>\n",
       "</div>"
      ],
      "text/plain": [
       "       PRECISION PRECISION_RECALL_MIN_DEN    RECALL       MAP MAP_MIN_DEN  \\\n",
       "cutoff                                                                      \n",
       "10      0.342628                 0.345141  0.048661  0.261759    0.263204   \n",
       "\n",
       "             MRR      NDCG        F1  HIT_RATE ARHR_ALL_HITS  ...  \\\n",
       "cutoff                                                        ...   \n",
       "10      0.670397  0.392258  0.085219  0.858655      1.275579  ...   \n",
       "\n",
       "       COVERAGE_USER COVERAGE_USER_HIT USERS_IN_GT DIVERSITY_GINI  \\\n",
       "cutoff                                                              \n",
       "10          0.997953          0.856898    0.997953       0.001871   \n",
       "\n",
       "       SHANNON_ENTROPY RATIO_DIVERSITY_HERFINDAHL RATIO_DIVERSITY_GINI  \\\n",
       "cutoff                                                                   \n",
       "10            5.929536                    0.95823             0.015104   \n",
       "\n",
       "       RATIO_SHANNON_ENTROPY RATIO_AVERAGE_POPULARITY RATIO_NOVELTY  \n",
       "cutoff                                                               \n",
       "10                  0.463956                 3.324192      0.009294  \n",
       "\n",
       "[1 rows x 27 columns]"
      ]
     },
     "execution_count": 24,
     "metadata": {},
     "output_type": "execute_result"
    }
   ],
   "source": [
    "pure_svd = PureSVDRecommender(URM_ner)\n",
    "pure_svd.fit(num_factors=20)\n",
    "\n",
    "result_df, _ = evaluator.evaluateRecommender(pure_svd)\n",
    "result_df"
   ]
  },
  {
   "cell_type": "code",
   "execution_count": 25,
   "id": "0f44ac02",
   "metadata": {
    "execution": {
     "iopub.execute_input": "2024-04-23T16:03:31.071154Z",
     "iopub.status.busy": "2024-04-23T16:03:31.070766Z",
     "iopub.status.idle": "2024-04-23T16:05:05.832078Z",
     "shell.execute_reply": "2024-04-23T16:05:05.830726Z"
    },
    "papermill": {
     "duration": 94.813734,
     "end_time": "2024-04-23T16:05:05.859320",
     "exception": false,
     "start_time": "2024-04-23T16:03:31.045586",
     "status": "completed"
    },
    "tags": []
   },
   "outputs": [
    {
     "name": "stdout",
     "output_type": "stream",
     "text": [
      "CPU times: user 3min 28s, sys: 2min 17s, total: 5min 46s\n",
      "Wall time: 1min 34s\n"
     ]
    },
    {
     "data": {
      "text/html": [
       "<div><style>\n",
       ".dataframe > thead > tr,\n",
       ".dataframe > tbody > tr {\n",
       "  text-align: right;\n",
       "  white-space: pre-wrap;\n",
       "}\n",
       "</style>\n",
       "<small>shape: (5, 8)</small><table border=\"1\" class=\"dataframe\"><thead><tr><th>impression_id</th><th>article</th><th>total_ner_svd_scores</th><th>mean_ner_svd_scores</th><th>max_ner_svd_scores</th><th>total_ner_item_knn_scores</th><th>mean_ner_item_knn_scores</th><th>max_ner_item_knn_scores</th></tr><tr><td>u32</td><td>i32</td><td>f32</td><td>f32</td><td>f32</td><td>f32</td><td>f32</td><td>f32</td></tr></thead><tbody><tr><td>149474</td><td>9778623</td><td>0.168532</td><td>0.142604</td><td>0.963358</td><td>0.141152</td><td>0.119436</td><td>0.954842</td></tr><tr><td>149474</td><td>9778682</td><td>0.003561</td><td>0.004353</td><td>0.020612</td><td>0.023858</td><td>0.02916</td><td>0.164431</td></tr><tr><td>149474</td><td>9778669</td><td>0.007555</td><td>0.013851</td><td>0.04108</td><td>0.007325</td><td>0.013429</td><td>0.050482</td></tr><tr><td>149474</td><td>9778657</td><td>1.0</td><td>1.0</td><td>1.0</td><td>1.0</td><td>1.0</td><td>0.972687</td></tr><tr><td>150528</td><td>9778769</td><td>0.98223</td><td>0.803643</td><td>0.866619</td><td>0.701276</td><td>0.573771</td><td>0.993969</td></tr></tbody></table></div>"
      ],
      "text/plain": [
       "shape: (5, 8)\n",
       "┌────────────┬─────────┬────────────┬────────────┬────────────┬────────────┬───────────┬───────────┐\n",
       "│ impression ┆ article ┆ total_ner_ ┆ mean_ner_s ┆ max_ner_sv ┆ total_ner_ ┆ mean_ner_ ┆ max_ner_i │\n",
       "│ _id        ┆ ---     ┆ svd_scores ┆ vd_scores  ┆ d_scores   ┆ item_knn_s ┆ item_knn_ ┆ tem_knn_s │\n",
       "│ ---        ┆ i32     ┆ ---        ┆ ---        ┆ ---        ┆ cores      ┆ scores    ┆ cores     │\n",
       "│ u32        ┆         ┆ f32        ┆ f32        ┆ f32        ┆ ---        ┆ ---       ┆ ---       │\n",
       "│            ┆         ┆            ┆            ┆            ┆ f32        ┆ f32       ┆ f32       │\n",
       "╞════════════╪═════════╪════════════╪════════════╪════════════╪════════════╪═══════════╪═══════════╡\n",
       "│ 149474     ┆ 9778623 ┆ 0.168532   ┆ 0.142604   ┆ 0.963358   ┆ 0.141152   ┆ 0.119436  ┆ 0.954842  │\n",
       "│ 149474     ┆ 9778682 ┆ 0.003561   ┆ 0.004353   ┆ 0.020612   ┆ 0.023858   ┆ 0.02916   ┆ 0.164431  │\n",
       "│ 149474     ┆ 9778669 ┆ 0.007555   ┆ 0.013851   ┆ 0.04108    ┆ 0.007325   ┆ 0.013429  ┆ 0.050482  │\n",
       "│ 149474     ┆ 9778657 ┆ 1.0        ┆ 1.0        ┆ 1.0        ┆ 1.0        ┆ 1.0       ┆ 0.972687  │\n",
       "│ 150528     ┆ 9778769 ┆ 0.98223    ┆ 0.803643   ┆ 0.866619   ┆ 0.701276   ┆ 0.573771  ┆ 0.993969  │\n",
       "└────────────┴─────────┴────────────┴────────────┴────────────┴────────────┴───────────┴───────────┘"
      ]
     },
     "execution_count": 25,
     "metadata": {},
     "output_type": "execute_result"
    }
   ],
   "source": [
    "%%time\n",
    "\n",
    "def get_inview_scores(user_ners_df, recommender, f_name):\n",
    "    user_index = user_ners_df['user_index'].to_list()[0]\n",
    "    ners = user_ners_df['ner_index'].to_numpy()\n",
    "    scores = recommender._compute_item_score([user_index], ners)[0, ners]\n",
    "    return user_ners_df.with_columns(\n",
    "        pl.Series(scores).alias(f_name)\n",
    "    )\n",
    "\n",
    "ner_inview_scores = behaviors_train.select(['user_id', 'article_ids_inview']).explode('article_ids_inview') \\\n",
    "    .join(articles.select(['article_id', 'ner_clusters']), left_on='article_ids_inview', right_on='article_id', how='left') \\\n",
    "    .explode('ner_clusters').unique(['user_id', 'ner_clusters']) \\\n",
    "    .with_columns(pl.col('ner_clusters').str.strip_chars_start('\\\" ').str.to_lowercase()) \\\n",
    "    .join(user_id_mapping, on='user_id', how='left') \\\n",
    "    .join(ner_mapping, left_on='ner_clusters', right_on='ner') \\\n",
    "    .select(['user_index', 'ner_index', 'user_id', 'article_ids_inview']) \\\n",
    "    .unique(['user_index', 'ner_index']) \\\n",
    "    .sort(['user_index', 'ner_index']).group_by('user_index').map_groups(\n",
    "        lambda user_df: user_df.pipe(get_inview_scores, recommender=pure_svd, f_name='pure_svd_scores') \\\n",
    "            .pipe(get_inview_scores, recommender=item_knn, f_name='item_knn_scores')\n",
    "    )\n",
    "\n",
    "behaviors_ner_scores = behaviors_train.select(['impression_id', 'user_id', 'article_ids_inview']).explode('article_ids_inview') \\\n",
    "    .join(ner_inview_scores, on=['user_id', 'article_ids_inview'], how='left') \\\n",
    "    .with_columns(pl.col(['pure_svd_scores', 'item_knn_scores']).fill_null(0)) \\\n",
    "    .group_by(['impression_id', 'article_ids_inview']).agg(\n",
    "        pl.col('pure_svd_scores').sum().alias('total_ner_svd_scores'),\n",
    "        pl.col('pure_svd_scores').mean().alias('mean_ner_svd_scores'),\n",
    "        pl.col('pure_svd_scores').max().alias('max_ner_svd_scores'),\n",
    "        pl.col('item_knn_scores').sum().alias('total_ner_item_knn_scores'),\n",
    "        pl.col('item_knn_scores').mean().alias('mean_ner_item_knn_scores'),\n",
    "        pl.col('item_knn_scores').max().alias('max_ner_item_knn_scores'),\n",
    "    ).with_columns(\n",
    "        pl.col(['total_ner_svd_scores', 'mean_ner_svd_scores', \n",
    "                'total_ner_item_knn_scores', 'mean_ner_item_knn_scores',\n",
    "                'max_ner_svd_scores', 'max_ner_item_knn_scores']).max().over('impression_id').name.suffix('_max')\n",
    "    ).with_columns(\n",
    "        # l1 normalization\n",
    "        pl.col('total_ner_svd_scores').truediv(pl.col('total_ner_svd_scores_max')),\n",
    "        pl.col('mean_ner_svd_scores').truediv(pl.col('mean_ner_svd_scores_max')),\n",
    "        pl.col('max_ner_svd_scores').truediv(pl.col('max_ner_svd_scores_max')),\n",
    "        pl.col('total_ner_item_knn_scores').truediv(pl.col('total_ner_item_knn_scores_max')),\n",
    "        pl.col('mean_ner_item_knn_scores').truediv(pl.col('mean_ner_item_knn_scores_max')),\n",
    "        pl.col('max_ner_item_knn_scores').truediv(pl.col('max_ner_item_knn_scores_max')),\n",
    "    ).drop(['total_ner_svd_scores_max', 'mean_ner_svd_scores_max', \n",
    "            'max_ner_svd_scores_max', 'total_ner_item_knn_scores_max',\n",
    "            'mean_ner_item_knn_scores_max', 'max_ner_item_knn_scores_max']) \\\n",
    "    .rename({'article_ids_inview': 'article'})\n",
    "behaviors_ner_scores.head(5)"
   ]
  },
  {
   "cell_type": "code",
   "execution_count": 26,
   "id": "02de55ff",
   "metadata": {
    "execution": {
     "iopub.execute_input": "2024-04-23T16:05:05.909844Z",
     "iopub.status.busy": "2024-04-23T16:05:05.908758Z",
     "iopub.status.idle": "2024-04-23T16:05:06.349857Z",
     "shell.execute_reply": "2024-04-23T16:05:06.348717Z"
    },
    "papermill": {
     "duration": 0.468714,
     "end_time": "2024-04-23T16:05:06.352189",
     "exception": false,
     "start_time": "2024-04-23T16:05:05.883475",
     "status": "completed"
    },
    "tags": []
   },
   "outputs": [
    {
     "data": {
      "text/plain": [
       "0"
      ]
     },
     "execution_count": 26,
     "metadata": {},
     "output_type": "execute_result"
    }
   ],
   "source": [
    "del URM_ner\n",
    "del URM_ner_test\n",
    "del ner_inview_scores\n",
    "del ner_interactions\n",
    "del ner_interactions_test\n",
    "gc.collect()"
   ]
  },
  {
   "cell_type": "markdown",
   "id": "7d54d1e9",
   "metadata": {
    "papermill": {
     "duration": 0.024267,
     "end_time": "2024-04-23T16:05:06.402015",
     "exception": false,
     "start_time": "2024-04-23T16:05:06.377748",
     "status": "completed"
    },
    "tags": []
   },
   "source": [
    "# Creating Training Dataframe"
   ]
  },
  {
   "cell_type": "code",
   "execution_count": 27,
   "id": "28eacf0a",
   "metadata": {
    "execution": {
     "iopub.execute_input": "2024-04-23T16:05:06.453411Z",
     "iopub.status.busy": "2024-04-23T16:05:06.452990Z",
     "iopub.status.idle": "2024-04-23T16:06:08.746649Z",
     "shell.execute_reply": "2024-04-23T16:06:08.745505Z"
    },
    "papermill": {
     "duration": 62.32238,
     "end_time": "2024-04-23T16:06:08.749035",
     "exception": false,
     "start_time": "2024-04-23T16:05:06.426655",
     "status": "completed"
    },
    "tags": []
   },
   "outputs": [
    {
     "name": "stderr",
     "output_type": "stream",
     "text": [
      "2586it [00:12, 206.34it/s]                          \n"
     ]
    },
    {
     "name": "stdout",
     "output_type": "stream",
     "text": [
      "\u001b[1m\u001b[31m\n",
      "RAM memory GB usage = 2.136\u001b[0m\n",
      "Memory usage of dataframe is 348.63 MB\n",
      "Memory usage after optimization is: 286.98 MB\n",
      "Decreased by 17.7%\n",
      "\u001b[1m\u001b[31m\n",
      "RAM memory GB usage = 2.076\u001b[0m\n",
      "CPU times: user 2min 29s, sys: 32.6 s, total: 3min 2s\n",
      "Wall time: 1min 2s\n"
     ]
    },
    {
     "data": {
      "text/html": [
       "<div><style>\n",
       ".dataframe > thead > tr,\n",
       ".dataframe > tbody > tr {\n",
       "  text-align: right;\n",
       "  white-space: pre-wrap;\n",
       "}\n",
       "</style>\n",
       "<small>shape: (5, 42)</small><table border=\"1\" class=\"dataframe\"><thead><tr><th>impression_id</th><th>article</th><th>impression_time</th><th>target</th><th>device_type</th><th>read_time</th><th>scroll_percentage</th><th>user_id</th><th>is_sso_user</th><th>gender</th><th>age</th><th>is_subscriber</th><th>session_id</th><th>trendiness_score</th><th>endorsement_10h</th><th>weekday</th><th>hour</th><th>premium</th><th>published_time</th><th>category</th><th>sentiment_score</th><th>sentiment_label</th><th>num_images</th><th>title_len</th><th>subtitle_len</th><th>body_len</th><th>num_topics</th><th>trendiness_score_category</th><th>article_delay_days</th><th>article_delay_hours</th><th>Entity_PER_Present</th><th>Entity_EVENT_Present</th><th>Entity_LOC_Present</th><th>Entity_ORG_Present</th><th>Entity_PROD_Present</th><th>Entity_MISC_Present</th><th>total_ner_svd_scores</th><th>mean_ner_svd_scores</th><th>max_ner_svd_scores</th><th>total_ner_item_knn_scores</th><th>mean_ner_item_knn_scores</th><th>max_ner_item_knn_scores</th></tr><tr><td>u32</td><td>i32</td><td>datetime[μs]</td><td>i8</td><td>i8</td><td>f32</td><td>f32</td><td>u32</td><td>bool</td><td>i8</td><td>i8</td><td>bool</td><td>u32</td><td>i16</td><td>u16</td><td>i8</td><td>i8</td><td>bool</td><td>datetime[μs]</td><td>i16</td><td>f32</td><td>str</td><td>u32</td><td>u8</td><td>u8</td><td>u16</td><td>u32</td><td>i8</td><td>i16</td><td>i32</td><td>bool</td><td>bool</td><td>bool</td><td>bool</td><td>bool</td><td>bool</td><td>f32</td><td>f32</td><td>f32</td><td>f32</td><td>f32</td><td>f32</td></tr></thead><tbody><tr><td>149474</td><td>9778728</td><td>2023-05-24 07:47:53</td><td>0</td><td>2</td><td>13.0</td><td>null</td><td>139836</td><td>false</td><td>2</td><td>null</td><td>false</td><td>759</td><td>521</td><td>213</td><td>3</td><td>7</td><td>false</td><td>2023-05-24 07:26:05</td><td>142</td><td>0.9654</td><td>&quot;Negative&quot;</td><td>1</td><td>5</td><td>18</td><td>251</td><td>7</td><td>118</td><td>0</td><td>0</td><td>true</td><td>true</td><td>false</td><td>true</td><td>true</td><td>false</td><td>0.282741</td><td>0.388768</td><td>0.821684</td><td>0.423638</td><td>0.582502</td><td>1.0</td></tr><tr><td>150528</td><td>9778623</td><td>2023-05-24 07:33:25</td><td>1</td><td>2</td><td>25.0</td><td>null</td><td>143471</td><td>false</td><td>2</td><td>null</td><td>false</td><td>1240</td><td>273</td><td>1067</td><td>3</td><td>7</td><td>false</td><td>2023-05-24 06:08:35</td><td>142</td><td>0.9893</td><td>&quot;Negative&quot;</td><td>2</td><td>7</td><td>18</td><td>445</td><td>3</td><td>118</td><td>0</td><td>1</td><td>true</td><td>false</td><td>true</td><td>true</td><td>false</td><td>false</td><td>0.263424</td><td>0.18237</td><td>0.739659</td><td>0.260754</td><td>0.180522</td><td>0.979696</td></tr><tr><td>150528</td><td>9778669</td><td>2023-05-24 07:33:25</td><td>0</td><td>2</td><td>25.0</td><td>null</td><td>143471</td><td>false</td><td>2</td><td>null</td><td>false</td><td>1240</td><td>199</td><td>1101</td><td>3</td><td>7</td><td>false</td><td>2023-05-24 06:09:26</td><td>118</td><td>0.9481</td><td>&quot;Negative&quot;</td><td>1</td><td>5</td><td>11</td><td>150</td><td>4</td><td>114</td><td>0</td><td>1</td><td>true</td><td>false</td><td>false</td><td>true</td><td>true</td><td>false</td><td>0.108071</td><td>0.162107</td><td>0.566887</td><td>0.059618</td><td>0.089428</td><td>0.383036</td></tr><tr><td>153068</td><td>9776259</td><td>2023-05-24 07:09:04</td><td>0</td><td>1</td><td>78.0</td><td>100.0</td><td>151570</td><td>false</td><td>2</td><td>null</td><td>false</td><td>1976</td><td>309</td><td>64</td><td>3</td><td>7</td><td>false</td><td>2023-05-22 15:32:11</td><td>414</td><td>0.9928</td><td>&quot;Positive&quot;</td><td>2</td><td>4</td><td>20</td><td>240</td><td>4</td><td>52</td><td>1</td><td>39</td><td>true</td><td>false</td><td>false</td><td>true</td><td>true</td><td>false</td><td>0.407164</td><td>0.244298</td><td>0.802595</td><td>0.311556</td><td>0.186934</td><td>0.984188</td></tr><tr><td>153068</td><td>9778669</td><td>2023-05-24 07:09:04</td><td>1</td><td>1</td><td>78.0</td><td>100.0</td><td>151570</td><td>false</td><td>2</td><td>null</td><td>false</td><td>1976</td><td>199</td><td>745</td><td>3</td><td>7</td><td>false</td><td>2023-05-24 06:09:26</td><td>118</td><td>0.9481</td><td>&quot;Negative&quot;</td><td>1</td><td>5</td><td>11</td><td>150</td><td>4</td><td>114</td><td>0</td><td>0</td><td>true</td><td>false</td><td>false</td><td>true</td><td>true</td><td>false</td><td>0.097053</td><td>0.145579</td><td>0.457919</td><td>0.052922</td><td>0.079382</td><td>0.374363</td></tr></tbody></table></div>"
      ],
      "text/plain": [
       "shape: (5, 42)\n",
       "┌────────────┬─────────┬────────────┬────────┬───┬────────────┬────────────┬───────────┬───────────┐\n",
       "│ impression ┆ article ┆ impression ┆ target ┆ … ┆ max_ner_sv ┆ total_ner_ ┆ mean_ner_ ┆ max_ner_i │\n",
       "│ _id        ┆ ---     ┆ _time      ┆ ---    ┆   ┆ d_scores   ┆ item_knn_s ┆ item_knn_ ┆ tem_knn_s │\n",
       "│ ---        ┆ i32     ┆ ---        ┆ i8     ┆   ┆ ---        ┆ cores      ┆ scores    ┆ cores     │\n",
       "│ u32        ┆         ┆ datetime[μ ┆        ┆   ┆ f32        ┆ ---        ┆ ---       ┆ ---       │\n",
       "│            ┆         ┆ s]         ┆        ┆   ┆            ┆ f32        ┆ f32       ┆ f32       │\n",
       "╞════════════╪═════════╪════════════╪════════╪═══╪════════════╪════════════╪═══════════╪═══════════╡\n",
       "│ 149474     ┆ 9778728 ┆ 2023-05-24 ┆ 0      ┆ … ┆ 0.821684   ┆ 0.423638   ┆ 0.582502  ┆ 1.0       │\n",
       "│            ┆         ┆ 07:47:53   ┆        ┆   ┆            ┆            ┆           ┆           │\n",
       "│ 150528     ┆ 9778623 ┆ 2023-05-24 ┆ 1      ┆ … ┆ 0.739659   ┆ 0.260754   ┆ 0.180522  ┆ 0.979696  │\n",
       "│            ┆         ┆ 07:33:25   ┆        ┆   ┆            ┆            ┆           ┆           │\n",
       "│ 150528     ┆ 9778669 ┆ 2023-05-24 ┆ 0      ┆ … ┆ 0.566887   ┆ 0.059618   ┆ 0.089428  ┆ 0.383036  │\n",
       "│            ┆         ┆ 07:33:25   ┆        ┆   ┆            ┆            ┆           ┆           │\n",
       "│ 153068     ┆ 9776259 ┆ 2023-05-24 ┆ 0      ┆ … ┆ 0.802595   ┆ 0.311556   ┆ 0.186934  ┆ 0.984188  │\n",
       "│            ┆         ┆ 07:09:04   ┆        ┆   ┆            ┆            ┆           ┆           │\n",
       "│ 153068     ┆ 9778669 ┆ 2023-05-24 ┆ 1      ┆ … ┆ 0.457919   ┆ 0.052922   ┆ 0.079382  ┆ 0.374363  │\n",
       "│            ┆         ┆ 07:09:04   ┆        ┆   ┆            ┆            ┆           ┆           │\n",
       "└────────────┴─────────┴────────────┴────────┴───┴────────────┴────────────┴───────────┴───────────┘"
      ]
     },
     "execution_count": 27,
     "metadata": {},
     "output_type": "execute_result"
    }
   ],
   "source": [
    "%%time\n",
    "\n",
    "NPRATIO = 2\n",
    "\n",
    "# .pipe(add_mean_delays_features, articles=articles, history=history_train) \\\n",
    "# .pipe(add_history_trendiness_scores_feature, history=history_train, articles=articles) \\\n",
    "# .pipe(add_window_features,history = history_train, articles=articles) \\\n",
    "\n",
    "# dropping duplicates that can occur because of sampling strategy\n",
    "train_ds = behaviors_train.pipe(create_binary_labels_column, shuffle=True, seed=123) \\\n",
    "    .with_columns(pl.col('gender').fill_null(2)) \\\n",
    "    .select(['impression_id', 'article_ids_inview', 'impression_time', 'labels', \n",
    "             'device_type', 'read_time', 'scroll_percentage', 'user_id', 'is_sso_user', 'gender',\n",
    "             'age', 'is_subscriber', 'session_id']) \\\n",
    "    .explode(['article_ids_inview', 'labels']) \\\n",
    "    .rename({'article_ids_inview': 'article', 'labels': 'target'}) \\\n",
    "    .with_columns(pl.col('article').cast(pl.Int32)) \\\n",
    "    .pipe(add_trendiness_feature, articles=articles, period='3d') \\\n",
    "    .pipe(add_article_endorsement_feature,period='10h') \\\n",
    "    .unique(['impression_id', 'article']) \\\n",
    "    .with_columns(\n",
    "        pl.col('impression_time').dt.weekday().alias('weekday'),\n",
    "        pl.col('impression_time').dt.hour().alias('hour'),\n",
    "        pl.col('article').cast(pl.Int32),\n",
    "    ).join(articles.select(['article_id', 'premium', 'published_time', 'category',\n",
    "                            'sentiment_score', 'sentiment_label', 'entity_groups',\n",
    "                            'num_images', 'title_len', 'subtitle_len', 'body_len','num_topics']),\n",
    "           left_on='article', right_on='article_id', how='left') \\\n",
    "    .pipe(add_trendiness_feature_categories,articles=articles, period=\"3d\") \\\n",
    "    .with_columns(\n",
    "        (pl.col('impression_time') - pl.col('published_time')).dt.total_days().alias('article_delay_days'),\n",
    "        (pl.col('impression_time') - pl.col('published_time')).dt.total_hours().alias('article_delay_hours')\n",
    "    ).with_columns(\n",
    "        pl.col('entity_groups').list.contains(entity).alias(f'Entity_{entity}_Present')\n",
    "        for entity in unique_entities\n",
    "    ).drop('entity_groups') \\\n",
    "    .join(behaviors_ner_scores, on=['impression_id', 'article'], how='left')\n",
    "\n",
    "gc.collect()\n",
    "PrintColor(f\"\\n\" + GetMemUsage(), color = Fore.RED)\n",
    "\n",
    "train_ds = reduce_polars_df_memory_size(train_ds)\n",
    "PrintColor(f\"\\n\" + GetMemUsage(), color = Fore.RED)\n",
    "train_ds.head()"
   ]
  },
  {
   "cell_type": "code",
   "execution_count": 28,
   "id": "05d24db8",
   "metadata": {
    "execution": {
     "iopub.execute_input": "2024-04-23T16:06:08.817096Z",
     "iopub.status.busy": "2024-04-23T16:06:08.816679Z",
     "iopub.status.idle": "2024-04-23T16:06:08.823680Z",
     "shell.execute_reply": "2024-04-23T16:06:08.822578Z"
    },
    "papermill": {
     "duration": 0.043575,
     "end_time": "2024-04-23T16:06:08.825964",
     "exception": false,
     "start_time": "2024-04-23T16:06:08.782389",
     "status": "completed"
    },
    "tags": []
   },
   "outputs": [
    {
     "data": {
      "text/plain": [
       "(2585747, 42)"
      ]
     },
     "execution_count": 28,
     "metadata": {},
     "output_type": "execute_result"
    }
   ],
   "source": [
    "train_ds.shape"
   ]
  },
  {
   "cell_type": "markdown",
   "id": "f3431df1",
   "metadata": {
    "papermill": {
     "duration": 0.032098,
     "end_time": "2024-04-23T16:06:08.892215",
     "exception": false,
     "start_time": "2024-04-23T16:06:08.860117",
     "status": "completed"
    },
    "tags": []
   },
   "source": [
    "## Session Features"
   ]
  },
  {
   "cell_type": "code",
   "execution_count": 29,
   "id": "8cd35d20",
   "metadata": {
    "execution": {
     "iopub.execute_input": "2024-04-23T16:06:08.958780Z",
     "iopub.status.busy": "2024-04-23T16:06:08.958319Z",
     "iopub.status.idle": "2024-04-23T16:06:08.963698Z",
     "shell.execute_reply": "2024-04-23T16:06:08.962415Z"
    },
    "papermill": {
     "duration": 0.041577,
     "end_time": "2024-04-23T16:06:08.965992",
     "exception": false,
     "start_time": "2024-04-23T16:06:08.924415",
     "status": "completed"
    },
    "tags": []
   },
   "outputs": [],
   "source": [
    "# behaviors_train.select(['session_id', 'impression_time', 'article_ids_clicked']) \\\n",
    "#     .group_by('session_id').map_groups(\n",
    "#         lambda group: group.explode('article_ids_clicked').sort('impression_time') \\\n",
    "#             .select(\n",
    "#                 pl.col('session_id').first(),\n",
    "#                 pl.col('article_ids_clicked').first().alias('article_id'),\n",
    "#                 (pl.col('impression_time').last() - pl.col('impression_time').first()).dt.total_minutes().alias('induced_session_len'),\n",
    "#                 (pl.col('impression_time').count() - 1).alias('num_clicked_articles_following')\n",
    "#             )\n",
    "#     ).group_by('article_id').agg(\n",
    "#         pl.col('num_clicked_articles_following').mean().alias('mean_num_clicked_articles_following'),\n",
    "#         pl.col('induced_session_len').mean().alias('mean_induced_session_len'),\n",
    "#     )"
   ]
  },
  {
   "cell_type": "code",
   "execution_count": 30,
   "id": "005ff0d6",
   "metadata": {
    "execution": {
     "iopub.execute_input": "2024-04-23T16:06:09.033386Z",
     "iopub.status.busy": "2024-04-23T16:06:09.032951Z",
     "iopub.status.idle": "2024-04-23T16:06:10.519239Z",
     "shell.execute_reply": "2024-04-23T16:06:10.518135Z"
    },
    "papermill": {
     "duration": 1.523283,
     "end_time": "2024-04-23T16:06:10.521701",
     "exception": false,
     "start_time": "2024-04-23T16:06:08.998418",
     "status": "completed"
    },
    "tags": []
   },
   "outputs": [
    {
     "name": "stdout",
     "output_type": "stream",
     "text": [
      "\u001b[1m\u001b[31m\n",
      "RAM memory GB usage = 2.122\u001b[0m\n",
      "CPU times: user 1.76 s, sys: 130 ms, total: 1.89 s\n",
      "Wall time: 1.47 s\n"
     ]
    },
    {
     "data": {
      "text/html": [
       "<div><style>\n",
       ".dataframe > thead > tr,\n",
       ".dataframe > tbody > tr {\n",
       "  text-align: right;\n",
       "  white-space: pre-wrap;\n",
       "}\n",
       "</style>\n",
       "<small>shape: (2, 5)</small><table border=\"1\" class=\"dataframe\"><thead><tr><th>session_id</th><th>last_session_time</th><th>last_session_duration</th><th>all_seen_articles</th><th>mean_prev_sessions_duration</th></tr><tr><td>u32</td><td>datetime[μs]</td><td>i64</td><td>list[i32]</td><td>f64</td></tr></thead><tbody><tr><td>1741942</td><td>2023-05-17 18:03:38</td><td>0</td><td>[9769641]</td><td>0.0</td></tr><tr><td>1034557</td><td>2023-05-17 08:10:21</td><td>0</td><td>[9683591]</td><td>0.0</td></tr></tbody></table></div>"
      ],
      "text/plain": [
       "shape: (2, 5)\n",
       "┌────────────┬─────────────────────┬─────────────────────┬───────────────────┬─────────────────────┐\n",
       "│ session_id ┆ last_session_time   ┆ last_session_durati ┆ all_seen_articles ┆ mean_prev_sessions_ │\n",
       "│ ---        ┆ ---                 ┆ on                  ┆ ---               ┆ duration            │\n",
       "│ u32        ┆ datetime[μs]        ┆ ---                 ┆ list[i32]         ┆ ---                 │\n",
       "│            ┆                     ┆ i64                 ┆                   ┆ f64                 │\n",
       "╞════════════╪═════════════════════╪═════════════════════╪═══════════════════╪═════════════════════╡\n",
       "│ 1741942    ┆ 2023-05-17 18:03:38 ┆ 0                   ┆ [9769641]         ┆ 0.0                 │\n",
       "│ 1034557    ┆ 2023-05-17 08:10:21 ┆ 0                   ┆ [9683591]         ┆ 0.0                 │\n",
       "└────────────┴─────────────────────┴─────────────────────┴───────────────────┴─────────────────────┘"
      ]
     },
     "execution_count": 30,
     "metadata": {},
     "output_type": "execute_result"
    }
   ],
   "source": [
    "%%time\n",
    "\n",
    "last_history_df = history_train.with_columns(\n",
    "    pl.col('impression_time_fixed').list.max().alias('last_history_impression_time'),\n",
    "    pl.col('article_id_fixed').list.tail(1).alias('last_history_article'),\n",
    ").select(['user_id', 'last_history_impression_time', 'last_history_article'])\n",
    "\n",
    "last_session_time_df = behaviors_train.select(['session_id', 'user_id', 'impression_time', 'article_ids_inview']) \\\n",
    "    .group_by('session_id').agg(\n",
    "        pl.col('user_id').first(), \n",
    "        pl.col('impression_time').max().alias('session_time'), \n",
    "        pl.col('article_ids_inview').flatten().alias('all_seen_articles'),\n",
    "        (pl.col('impression_time').max() - pl.col('impression_time').min()).dt.total_minutes().alias('session_duration'),\n",
    "    ).with_columns(\n",
    "        pl.col(['session_time', 'session_duration']).shift(1).over('user_id').name.prefix('last_'),\n",
    "        pl.col('all_seen_articles').list.unique().shift(1).over('user_id'),\n",
    "        pl.col('session_duration').rolling_mean(100, min_periods=1).over('user_id').alias('mean_prev_sessions_duration'),\n",
    "    ).with_columns(pl.col(['last_session_duration']).fill_null(0)) \\\n",
    "    .join(last_history_df, on='user_id', how='left') \\\n",
    "    .with_columns(\n",
    "        pl.col('last_session_time').fill_null(pl.col('last_history_impression_time')),\n",
    "        pl.col('all_seen_articles').fill_null(pl.col('last_history_article')),\n",
    "    ).select(['session_id', 'last_session_time', 'last_session_duration', \n",
    "              'all_seen_articles', 'mean_prev_sessions_duration'])\n",
    "    \n",
    "gc.collect()\n",
    "PrintColor(f\"\\n\" + GetMemUsage(), color = Fore.RED)\n",
    "last_session_time_df.head(2)"
   ]
  },
  {
   "cell_type": "code",
   "execution_count": 31,
   "id": "a9298ad9",
   "metadata": {
    "execution": {
     "iopub.execute_input": "2024-04-23T16:06:10.590499Z",
     "iopub.status.busy": "2024-04-23T16:06:10.590088Z",
     "iopub.status.idle": "2024-04-23T16:06:13.219841Z",
     "shell.execute_reply": "2024-04-23T16:06:13.218698Z"
    },
    "papermill": {
     "duration": 2.667021,
     "end_time": "2024-04-23T16:06:13.222501",
     "exception": false,
     "start_time": "2024-04-23T16:06:10.555480",
     "status": "completed"
    },
    "tags": []
   },
   "outputs": [
    {
     "name": "stdout",
     "output_type": "stream",
     "text": [
      "\u001b[1m\u001b[31m\n",
      "RAM memory GB usage = 2.457\u001b[0m\n"
     ]
    },
    {
     "data": {
      "text/html": [
       "<div><style>\n",
       ".dataframe > thead > tr,\n",
       ".dataframe > tbody > tr {\n",
       "  text-align: right;\n",
       "  white-space: pre-wrap;\n",
       "}\n",
       "</style>\n",
       "<small>shape: (2, 45)</small><table border=\"1\" class=\"dataframe\"><thead><tr><th>impression_id</th><th>article</th><th>impression_time</th><th>target</th><th>device_type</th><th>read_time</th><th>scroll_percentage</th><th>user_id</th><th>is_sso_user</th><th>gender</th><th>age</th><th>is_subscriber</th><th>trendiness_score</th><th>endorsement_10h</th><th>weekday</th><th>hour</th><th>premium</th><th>category</th><th>sentiment_score</th><th>sentiment_label</th><th>num_images</th><th>title_len</th><th>subtitle_len</th><th>body_len</th><th>num_topics</th><th>trendiness_score_category</th><th>article_delay_days</th><th>article_delay_hours</th><th>Entity_PER_Present</th><th>Entity_EVENT_Present</th><th>Entity_LOC_Present</th><th>Entity_ORG_Present</th><th>Entity_PROD_Present</th><th>Entity_MISC_Present</th><th>total_ner_svd_scores</th><th>mean_ner_svd_scores</th><th>max_ner_svd_scores</th><th>total_ner_item_knn_scores</th><th>mean_ner_item_knn_scores</th><th>max_ner_item_knn_scores</th><th>last_session_duration</th><th>mean_prev_sessions_duration</th><th>last_session_time_hour_diff</th><th>is_new_article</th><th>is_already_seen_article</th></tr><tr><td>u32</td><td>i32</td><td>datetime[μs]</td><td>i8</td><td>i8</td><td>f32</td><td>f32</td><td>u32</td><td>bool</td><td>i8</td><td>i8</td><td>bool</td><td>i16</td><td>u16</td><td>i8</td><td>i8</td><td>bool</td><td>i16</td><td>f32</td><td>str</td><td>u32</td><td>u8</td><td>u8</td><td>u16</td><td>u32</td><td>i8</td><td>i16</td><td>i32</td><td>bool</td><td>bool</td><td>bool</td><td>bool</td><td>bool</td><td>bool</td><td>f32</td><td>f32</td><td>f32</td><td>f32</td><td>f32</td><td>f32</td><td>i64</td><td>f64</td><td>i64</td><td>bool</td><td>bool</td></tr></thead><tbody><tr><td>149474</td><td>9778728</td><td>2023-05-24 07:47:53</td><td>0</td><td>2</td><td>13.0</td><td>null</td><td>139836</td><td>false</td><td>2</td><td>null</td><td>false</td><td>521</td><td>213</td><td>3</td><td>7</td><td>false</td><td>142</td><td>0.9654</td><td>&quot;Negative&quot;</td><td>1</td><td>5</td><td>18</td><td>251</td><td>7</td><td>118</td><td>0</td><td>0</td><td>true</td><td>true</td><td>false</td><td>true</td><td>true</td><td>false</td><td>0.282741</td><td>0.388768</td><td>0.821684</td><td>0.423638</td><td>0.582502</td><td>1.0</td><td>2</td><td>1.0</td><td>141</td><td>false</td><td>false</td></tr><tr><td>150528</td><td>9778623</td><td>2023-05-24 07:33:25</td><td>1</td><td>2</td><td>25.0</td><td>null</td><td>143471</td><td>false</td><td>2</td><td>null</td><td>false</td><td>273</td><td>1067</td><td>3</td><td>7</td><td>false</td><td>142</td><td>0.9893</td><td>&quot;Negative&quot;</td><td>2</td><td>7</td><td>18</td><td>445</td><td>3</td><td>118</td><td>0</td><td>1</td><td>true</td><td>false</td><td>true</td><td>true</td><td>false</td><td>false</td><td>0.263424</td><td>0.18237</td><td>0.739659</td><td>0.260754</td><td>0.180522</td><td>0.979696</td><td>0</td><td>0.583333</td><td>113</td><td>false</td><td>false</td></tr></tbody></table></div>"
      ],
      "text/plain": [
       "shape: (2, 45)\n",
       "┌────────────┬─────────┬────────────┬────────┬───┬────────────┬────────────┬───────────┬───────────┐\n",
       "│ impression ┆ article ┆ impression ┆ target ┆ … ┆ mean_prev_ ┆ last_sessi ┆ is_new_ar ┆ is_alread │\n",
       "│ _id        ┆ ---     ┆ _time      ┆ ---    ┆   ┆ sessions_d ┆ on_time_ho ┆ ticle     ┆ y_seen_ar │\n",
       "│ ---        ┆ i32     ┆ ---        ┆ i8     ┆   ┆ uration    ┆ ur_diff    ┆ ---       ┆ ticle     │\n",
       "│ u32        ┆         ┆ datetime[μ ┆        ┆   ┆ ---        ┆ ---        ┆ bool      ┆ ---       │\n",
       "│            ┆         ┆ s]         ┆        ┆   ┆ f64        ┆ i64        ┆           ┆ bool      │\n",
       "╞════════════╪═════════╪════════════╪════════╪═══╪════════════╪════════════╪═══════════╪═══════════╡\n",
       "│ 149474     ┆ 9778728 ┆ 2023-05-24 ┆ 0      ┆ … ┆ 1.0        ┆ 141        ┆ false     ┆ false     │\n",
       "│            ┆         ┆ 07:47:53   ┆        ┆   ┆            ┆            ┆           ┆           │\n",
       "│ 150528     ┆ 9778623 ┆ 2023-05-24 ┆ 1      ┆ … ┆ 0.583333   ┆ 113        ┆ false     ┆ false     │\n",
       "│            ┆         ┆ 07:33:25   ┆        ┆   ┆            ┆            ┆           ┆           │\n",
       "└────────────┴─────────┴────────────┴────────┴───┴────────────┴────────────┴───────────┴───────────┘"
      ]
     },
     "execution_count": 31,
     "metadata": {},
     "output_type": "execute_result"
    }
   ],
   "source": [
    "train_ds = train_ds.join(last_session_time_df, on='session_id', how='left').with_columns(\n",
    "    (pl.col('impression_time') - pl.col('last_session_time')).dt.total_hours().alias('last_session_time_hour_diff'),\n",
    "    ((pl.col('last_session_time') - pl.col('published_time')).dt.total_hours() > 0).alias('is_new_article'),\n",
    "    pl.col('all_seen_articles').list.contains(pl.col('article')).alias('is_already_seen_article'),\n",
    ").drop(['published_time', 'session_id', 'all_seen_articles', 'last_session_time'])\n",
    "\n",
    "gc.collect()\n",
    "PrintColor(f\"\\n\" + GetMemUsage(), color = Fore.RED)\n",
    "train_ds.head(2)"
   ]
  },
  {
   "cell_type": "code",
   "execution_count": 32,
   "id": "7cf56e5b",
   "metadata": {
    "execution": {
     "iopub.execute_input": "2024-04-23T16:06:13.291533Z",
     "iopub.status.busy": "2024-04-23T16:06:13.291148Z",
     "iopub.status.idle": "2024-04-23T16:06:13.299524Z",
     "shell.execute_reply": "2024-04-23T16:06:13.298494Z"
    },
    "papermill": {
     "duration": 0.044722,
     "end_time": "2024-04-23T16:06:13.301663",
     "exception": false,
     "start_time": "2024-04-23T16:06:13.256941",
     "status": "completed"
    },
    "tags": []
   },
   "outputs": [
    {
     "data": {
      "text/html": [
       "<div><style>\n",
       ".dataframe > thead > tr,\n",
       ".dataframe > tbody > tr {\n",
       "  text-align: right;\n",
       "  white-space: pre-wrap;\n",
       "}\n",
       "</style>\n",
       "<small>shape: (1, 2)</small><table border=\"1\" class=\"dataframe\"><thead><tr><th>is_new_article</th><th>is_already_seen_article</th></tr><tr><td>f64</td><td>f64</td></tr></thead><tbody><tr><td>0.559528</td><td>0.02382</td></tr></tbody></table></div>"
      ],
      "text/plain": [
       "shape: (1, 2)\n",
       "┌────────────────┬─────────────────────────┐\n",
       "│ is_new_article ┆ is_already_seen_article │\n",
       "│ ---            ┆ ---                     │\n",
       "│ f64            ┆ f64                     │\n",
       "╞════════════════╪═════════════════════════╡\n",
       "│ 0.559528       ┆ 0.02382                 │\n",
       "└────────────────┴─────────────────────────┘"
      ]
     },
     "execution_count": 32,
     "metadata": {},
     "output_type": "execute_result"
    }
   ],
   "source": [
    "train_ds.select(pl.col('is_new_article').sum() / train_ds.shape[0], pl.col('is_already_seen_article').sum() / train_ds.shape[0])"
   ]
  },
  {
   "cell_type": "code",
   "execution_count": 33,
   "id": "cd0c9e60",
   "metadata": {
    "execution": {
     "iopub.execute_input": "2024-04-23T16:06:13.370319Z",
     "iopub.status.busy": "2024-04-23T16:06:13.369941Z",
     "iopub.status.idle": "2024-04-23T16:06:13.659175Z",
     "shell.execute_reply": "2024-04-23T16:06:13.658035Z"
    },
    "papermill": {
     "duration": 0.325736,
     "end_time": "2024-04-23T16:06:13.661566",
     "exception": false,
     "start_time": "2024-04-23T16:06:13.335830",
     "status": "completed"
    },
    "tags": []
   },
   "outputs": [
    {
     "data": {
      "text/plain": [
       "0"
      ]
     },
     "execution_count": 33,
     "metadata": {},
     "output_type": "execute_result"
    }
   ],
   "source": [
    "del last_history_df\n",
    "del last_session_time_df\n",
    "gc.collect()"
   ]
  },
  {
   "cell_type": "markdown",
   "id": "66164659",
   "metadata": {
    "papermill": {
     "duration": 0.032553,
     "end_time": "2024-04-23T16:06:13.726900",
     "exception": false,
     "start_time": "2024-04-23T16:06:13.694347",
     "status": "completed"
    },
    "tags": []
   },
   "source": [
    "## Popularities"
   ]
  },
  {
   "cell_type": "code",
   "execution_count": 34,
   "id": "28a24839",
   "metadata": {
    "execution": {
     "iopub.execute_input": "2024-04-23T16:06:13.798573Z",
     "iopub.status.busy": "2024-04-23T16:06:13.798172Z",
     "iopub.status.idle": "2024-04-23T16:06:14.988323Z",
     "shell.execute_reply": "2024-04-23T16:06:14.987180Z"
    },
    "papermill": {
     "duration": 1.227298,
     "end_time": "2024-04-23T16:06:14.990455",
     "exception": false,
     "start_time": "2024-04-23T16:06:13.763157",
     "status": "completed"
    },
    "tags": []
   },
   "outputs": [
    {
     "name": "stdout",
     "output_type": "stream",
     "text": [
      "Memory usage of dataframe is 327.05 MB\n",
      "Memory usage after optimization is: 275.26 MB\n",
      "Decreased by 15.8%\n",
      "\u001b[1m\u001b[31m\n",
      "RAM memory GB usage = 2.449\u001b[0m\n",
      "CPU times: user 1.44 s, sys: 158 ms, total: 1.6 s\n",
      "Wall time: 1.18 s\n"
     ]
    },
    {
     "data": {
      "text/html": [
       "<div><style>\n",
       ".dataframe > thead > tr,\n",
       ".dataframe > tbody > tr {\n",
       "  text-align: right;\n",
       "  white-space: pre-wrap;\n",
       "}\n",
       "</style>\n",
       "<small>shape: (2, 46)</small><table border=\"1\" class=\"dataframe\"><thead><tr><th>impression_id</th><th>article</th><th>impression_time</th><th>target</th><th>device_type</th><th>read_time</th><th>scroll_percentage</th><th>user_id</th><th>is_sso_user</th><th>gender</th><th>age</th><th>is_subscriber</th><th>trendiness_score</th><th>endorsement_10h</th><th>weekday</th><th>hour</th><th>premium</th><th>category</th><th>sentiment_score</th><th>sentiment_label</th><th>num_images</th><th>title_len</th><th>subtitle_len</th><th>body_len</th><th>num_topics</th><th>trendiness_score_category</th><th>article_delay_days</th><th>article_delay_hours</th><th>Entity_PER_Present</th><th>Entity_EVENT_Present</th><th>Entity_LOC_Present</th><th>Entity_ORG_Present</th><th>Entity_PROD_Present</th><th>Entity_MISC_Present</th><th>total_ner_svd_scores</th><th>mean_ner_svd_scores</th><th>max_ner_svd_scores</th><th>total_ner_item_knn_scores</th><th>mean_ner_item_knn_scores</th><th>max_ner_item_knn_scores</th><th>last_session_duration</th><th>mean_prev_sessions_duration</th><th>last_session_time_hour_diff</th><th>is_new_article</th><th>is_already_seen_article</th><th>yesterday_category_daily_pct</th></tr><tr><td>u32</td><td>i32</td><td>date</td><td>i8</td><td>i8</td><td>f32</td><td>f32</td><td>u32</td><td>bool</td><td>i8</td><td>i8</td><td>bool</td><td>i16</td><td>u16</td><td>i8</td><td>i8</td><td>bool</td><td>i16</td><td>f32</td><td>str</td><td>u32</td><td>u8</td><td>u8</td><td>u16</td><td>u32</td><td>i8</td><td>i16</td><td>i32</td><td>bool</td><td>bool</td><td>bool</td><td>bool</td><td>bool</td><td>bool</td><td>f32</td><td>f32</td><td>f32</td><td>f32</td><td>f32</td><td>f32</td><td>i8</td><td>f32</td><td>i16</td><td>bool</td><td>bool</td><td>f32</td></tr></thead><tbody><tr><td>149474</td><td>9778728</td><td>2023-05-23</td><td>0</td><td>2</td><td>13.0</td><td>null</td><td>139836</td><td>false</td><td>2</td><td>null</td><td>false</td><td>521</td><td>213</td><td>3</td><td>7</td><td>false</td><td>142</td><td>0.9654</td><td>&quot;Negative&quot;</td><td>1</td><td>5</td><td>18</td><td>251</td><td>7</td><td>118</td><td>0</td><td>0</td><td>true</td><td>true</td><td>false</td><td>true</td><td>true</td><td>false</td><td>0.282741</td><td>0.388768</td><td>0.821684</td><td>0.423638</td><td>0.582502</td><td>1.0</td><td>2</td><td>1.0</td><td>141</td><td>false</td><td>false</td><td>0.246377</td></tr><tr><td>150528</td><td>9778623</td><td>2023-05-23</td><td>1</td><td>2</td><td>25.0</td><td>null</td><td>143471</td><td>false</td><td>2</td><td>null</td><td>false</td><td>273</td><td>1067</td><td>3</td><td>7</td><td>false</td><td>142</td><td>0.9893</td><td>&quot;Negative&quot;</td><td>2</td><td>7</td><td>18</td><td>445</td><td>3</td><td>118</td><td>0</td><td>1</td><td>true</td><td>false</td><td>true</td><td>true</td><td>false</td><td>false</td><td>0.263424</td><td>0.18237</td><td>0.739659</td><td>0.260754</td><td>0.180522</td><td>0.979696</td><td>0</td><td>0.583333</td><td>113</td><td>false</td><td>false</td><td>0.246377</td></tr></tbody></table></div>"
      ],
      "text/plain": [
       "shape: (2, 46)\n",
       "┌────────────┬─────────┬────────────┬────────┬───┬────────────┬────────────┬───────────┬───────────┐\n",
       "│ impression ┆ article ┆ impression ┆ target ┆ … ┆ last_sessi ┆ is_new_art ┆ is_alread ┆ yesterday │\n",
       "│ _id        ┆ ---     ┆ _time      ┆ ---    ┆   ┆ on_time_ho ┆ icle       ┆ y_seen_ar ┆ _category │\n",
       "│ ---        ┆ i32     ┆ ---        ┆ i8     ┆   ┆ ur_diff    ┆ ---        ┆ ticle     ┆ _daily_pc │\n",
       "│ u32        ┆         ┆ date       ┆        ┆   ┆ ---        ┆ bool       ┆ ---       ┆ t         │\n",
       "│            ┆         ┆            ┆        ┆   ┆ i16        ┆            ┆ bool      ┆ ---       │\n",
       "│            ┆         ┆            ┆        ┆   ┆            ┆            ┆           ┆ f32       │\n",
       "╞════════════╪═════════╪════════════╪════════╪═══╪════════════╪════════════╪═══════════╪═══════════╡\n",
       "│ 149474     ┆ 9778728 ┆ 2023-05-23 ┆ 0      ┆ … ┆ 141        ┆ false      ┆ false     ┆ 0.246377  │\n",
       "│ 150528     ┆ 9778623 ┆ 2023-05-23 ┆ 1      ┆ … ┆ 113        ┆ false      ┆ false     ┆ 0.246377  │\n",
       "└────────────┴─────────┴────────────┴────────┴───┴────────────┴────────────┴───────────┴───────────┘"
      ]
     },
     "execution_count": 34,
     "metadata": {},
     "output_type": "execute_result"
    }
   ],
   "source": [
    "%%time\n",
    "\n",
    "articles_date_popularity = articles.select(['published_time', 'article_id']) \\\n",
    "    .group_by(pl.col('published_time').dt.date().alias('published_date')) \\\n",
    "    .agg(pl.col('article_id').count().alias('daily_articles')) \\\n",
    "\n",
    "published_category_popularity = articles.select(['published_time', 'article_id', 'category']) \\\n",
    "    .group_by([pl.col('published_time').dt.date().alias('published_date'), 'category']) \\\n",
    "    .agg(pl.col('article_id').count().alias('category_daily_articles')) \\\n",
    "    .join(articles_date_popularity, on='published_date', how='left') \\\n",
    "    .with_columns((pl.col('category_daily_articles') / pl.col('daily_articles')).alias('category_daily_pct')) \\\n",
    "    .drop(['category_daily_articles', 'daily_articles'])\n",
    "\n",
    "train_ds = train_ds.join(published_category_popularity, how='left', right_on=['published_date', 'category'],\n",
    "                         left_on=[pl.col('impression_time').dt.date() - pl.duration(days=1), 'category']) \\\n",
    "    .rename({'category_daily_pct': 'yesterday_category_daily_pct'}) \\\n",
    "    .with_columns(pl.col('yesterday_category_daily_pct').fill_null(0))\n",
    "train_ds = reduce_polars_df_memory_size(train_ds)\n",
    "\n",
    "gc.collect()\n",
    "PrintColor(f\"\\n\" + GetMemUsage(), color = Fore.RED)\n",
    "train_ds.head(2)"
   ]
  },
  {
   "cell_type": "markdown",
   "id": "a4da650e",
   "metadata": {
    "papermill": {
     "duration": 0.033867,
     "end_time": "2024-04-23T16:06:15.057671",
     "exception": false,
     "start_time": "2024-04-23T16:06:15.023804",
     "status": "completed"
    },
    "tags": []
   },
   "source": [
    "# Adding history features"
   ]
  },
  {
   "cell_type": "code",
   "execution_count": 35,
   "id": "b2f6ec24",
   "metadata": {
    "execution": {
     "iopub.execute_input": "2024-04-23T16:06:15.126337Z",
     "iopub.status.busy": "2024-04-23T16:06:15.125923Z",
     "iopub.status.idle": "2024-04-23T16:42:39.272048Z",
     "shell.execute_reply": "2024-04-23T16:42:39.270798Z"
    },
    "papermill": {
     "duration": 2184.184276,
     "end_time": "2024-04-23T16:42:39.275271",
     "exception": false,
     "start_time": "2024-04-23T16:06:15.090995",
     "status": "completed"
    },
    "scrolled": true,
    "tags": []
   },
   "outputs": [
    {
     "name": "stderr",
     "output_type": "stream",
     "text": [
      "259it [36:21,  8.42s/it]\n"
     ]
    },
    {
     "name": "stdout",
     "output_type": "stream",
     "text": [
      "Memory usage of dataframe is 1326.69 MB\n",
      "Memory usage after optimization is: 944.46 MB\n",
      "Decreased by 28.8%\n",
      "\u001b[1m\u001b[31m\n",
      "RAM memory GB usage = 4.726\u001b[0m\n"
     ]
    },
    {
     "data": {
      "text/html": [
       "<div><style>\n",
       ".dataframe > thead > tr,\n",
       ".dataframe > tbody > tr {\n",
       "  text-align: right;\n",
       "  white-space: pre-wrap;\n",
       "}\n",
       "</style>\n",
       "<small>shape: (2, 118)</small><table border=\"1\" class=\"dataframe\"><thead><tr><th>impression_id</th><th>article</th><th>target</th><th>device_type</th><th>read_time</th><th>scroll_percentage</th><th>user_id</th><th>is_sso_user</th><th>gender</th><th>age</th><th>is_subscriber</th><th>trendiness_score</th><th>endorsement_10h</th><th>weekday</th><th>hour</th><th>premium</th><th>category</th><th>sentiment_score</th><th>sentiment_label</th><th>num_images</th><th>title_len</th><th>subtitle_len</th><th>body_len</th><th>num_topics</th><th>trendiness_score_category</th><th>article_delay_days</th><th>article_delay_hours</th><th>Entity_PER_Present</th><th>Entity_EVENT_Present</th><th>Entity_LOC_Present</th><th>Entity_ORG_Present</th><th>Entity_PROD_Present</th><th>Entity_MISC_Present</th><th>total_ner_svd_scores</th><th>mean_ner_svd_scores</th><th>max_ner_svd_scores</th><th>total_ner_item_knn_scores</th><th>&hellip;</th><th>MostFrequentWeekday</th><th>MostFrequentHour</th><th>PERPct</th><th>EVENTPct</th><th>LOCPct</th><th>ORGPct</th><th>PRODPct</th><th>MISCPct</th><th>topics_cosine</th><th>IsFavouriteCategory</th><th>NumberDifferentCategories</th><th>PctCategoryMatches</th><th>Category_ferie_Pct</th><th>Category_bibliotek_Pct</th><th>Category_side9_Pct</th><th>Category_penge_Pct</th><th>Category_underholdning_Pct</th><th>Category_krimi_Pct</th><th>Category_podcast_Pct</th><th>Category_horoskoper_Pct</th><th>Category_haandvaerkeren_Pct</th><th>Category_musik_Pct</th><th>Category_vin_Pct</th><th>Category_plus_Pct</th><th>Category_dagsorden_Pct</th><th>Category_forbrug_Pct</th><th>Category_auto_Pct</th><th>Category_opinionen_Pct</th><th>Category_biler_Pct</th><th>Category_sport_Pct</th><th>Category_services_Pct</th><th>Category_incoming_Pct</th><th>Category_nyheder_Pct</th><th>Category_om_ekstra_bladet_Pct</th><th>Category_video_Pct</th><th>Category_sex_og_samliv_Pct</th><th>Category_nationen_Pct</th></tr><tr><td>u32</td><td>i32</td><td>i8</td><td>i8</td><td>f32</td><td>f32</td><td>u32</td><td>bool</td><td>i8</td><td>i8</td><td>bool</td><td>i16</td><td>u16</td><td>i8</td><td>i8</td><td>bool</td><td>i16</td><td>f32</td><td>str</td><td>u32</td><td>u8</td><td>u8</td><td>u16</td><td>u32</td><td>i8</td><td>i16</td><td>i32</td><td>bool</td><td>bool</td><td>bool</td><td>bool</td><td>bool</td><td>bool</td><td>f32</td><td>f32</td><td>f32</td><td>f32</td><td>&hellip;</td><td>i8</td><td>i8</td><td>f32</td><td>f32</td><td>f32</td><td>f32</td><td>f32</td><td>f32</td><td>f32</td><td>bool</td><td>u8</td><td>f32</td><td>f32</td><td>f32</td><td>f32</td><td>f32</td><td>f32</td><td>f32</td><td>f32</td><td>f32</td><td>f32</td><td>f32</td><td>f32</td><td>f32</td><td>f32</td><td>f32</td><td>f32</td><td>f32</td><td>f32</td><td>f32</td><td>f32</td><td>f32</td><td>f32</td><td>f32</td><td>f32</td><td>f32</td><td>f32</td></tr></thead><tbody><tr><td>153068</td><td>9778669</td><td>1</td><td>1</td><td>78.0</td><td>100.0</td><td>151570</td><td>false</td><td>2</td><td>null</td><td>false</td><td>199</td><td>745</td><td>3</td><td>7</td><td>false</td><td>118</td><td>0.9481</td><td>&quot;Negative&quot;</td><td>1</td><td>5</td><td>11</td><td>150</td><td>4</td><td>114</td><td>0</td><td>0</td><td>true</td><td>false</td><td>false</td><td>true</td><td>true</td><td>false</td><td>0.097053</td><td>0.145579</td><td>0.457919</td><td>0.052922</td><td>&hellip;</td><td>5</td><td>5</td><td>0.883743</td><td>0.241021</td><td>0.756144</td><td>0.91966</td><td>0.335539</td><td>0.195652</td><td>0.395665</td><td>true</td><td>10</td><td>0.991493</td><td>0.000945</td><td>0.0</td><td>0.0</td><td>0.006616</td><td>0.191871</td><td>0.155009</td><td>0.0</td><td>0.0</td><td>0.0</td><td>0.035917</td><td>0.0</td><td>0.0</td><td>0.0</td><td>0.021739</td><td>0.0</td><td>0.0</td><td>0.00189</td><td>0.269376</td><td>0.0</td><td>0.0</td><td>0.291115</td><td>0.0</td><td>0.0</td><td>0.0</td><td>0.02552</td></tr><tr><td>153070</td><td>9020783</td><td>0</td><td>1</td><td>26.0</td><td>100.0</td><td>151570</td><td>false</td><td>2</td><td>null</td><td>false</td><td>169</td><td>118</td><td>3</td><td>7</td><td>true</td><td>414</td><td>0.7289</td><td>&quot;Positive&quot;</td><td>11</td><td>8</td><td>20</td><td>1371</td><td>3</td><td>52</td><td>535</td><td>12863</td><td>true</td><td>false</td><td>true</td><td>true</td><td>true</td><td>true</td><td>0.903572</td><td>0.570677</td><td>0.98217</td><td>1.0</td><td>&hellip;</td><td>5</td><td>5</td><td>0.883743</td><td>0.241021</td><td>0.756144</td><td>0.91966</td><td>0.335539</td><td>0.195652</td><td>0.307786</td><td>false</td><td>10</td><td>0.991493</td><td>0.000945</td><td>0.0</td><td>0.0</td><td>0.006616</td><td>0.191871</td><td>0.155009</td><td>0.0</td><td>0.0</td><td>0.0</td><td>0.035917</td><td>0.0</td><td>0.0</td><td>0.0</td><td>0.021739</td><td>0.0</td><td>0.0</td><td>0.00189</td><td>0.269376</td><td>0.0</td><td>0.0</td><td>0.291115</td><td>0.0</td><td>0.0</td><td>0.0</td><td>0.02552</td></tr></tbody></table></div>"
      ],
      "text/plain": [
       "shape: (2, 118)\n",
       "┌────────────┬─────────┬────────┬────────────┬───┬────────────┬────────────┬───────────┬───────────┐\n",
       "│ impression ┆ article ┆ target ┆ device_typ ┆ … ┆ Category_o ┆ Category_v ┆ Category_ ┆ Category_ │\n",
       "│ _id        ┆ ---     ┆ ---    ┆ e          ┆   ┆ m_ekstra_b ┆ ideo_Pct   ┆ sex_og_sa ┆ nationen_ │\n",
       "│ ---        ┆ i32     ┆ i8     ┆ ---        ┆   ┆ ladet_Pct  ┆ ---        ┆ mliv_Pct  ┆ Pct       │\n",
       "│ u32        ┆         ┆        ┆ i8         ┆   ┆ ---        ┆ f32        ┆ ---       ┆ ---       │\n",
       "│            ┆         ┆        ┆            ┆   ┆ f32        ┆            ┆ f32       ┆ f32       │\n",
       "╞════════════╪═════════╪════════╪════════════╪═══╪════════════╪════════════╪═══════════╪═══════════╡\n",
       "│ 153068     ┆ 9778669 ┆ 1      ┆ 1          ┆ … ┆ 0.0        ┆ 0.0        ┆ 0.0       ┆ 0.02552   │\n",
       "│ 153070     ┆ 9020783 ┆ 0      ┆ 1          ┆ … ┆ 0.0        ┆ 0.0        ┆ 0.0       ┆ 0.02552   │\n",
       "└────────────┴─────────┴────────┴────────────┴───┴────────────┴────────────┴───────────┴───────────┘"
      ]
     },
     "execution_count": 35,
     "metadata": {},
     "output_type": "execute_result"
    }
   ],
   "source": [
    "def list_pct_matches_with_col(a, b) -> pl.Expr:\n",
    "    '''\n",
    "    Returns an expression to count the percentage of matching element in a list with another column.\n",
    "    The polars function count_matches cannot be used since it wants only a single element, \n",
    "    variable element from row to row.\n",
    "    '''\n",
    "    return pl.when(pl.col(a).list.len() == 0).then(0.0) \\\n",
    "        .otherwise((pl.col(a).list.len() - (pl.col(a).list.set_difference(pl.col(b))).list.len()) / pl.col(a).list.len())\n",
    "\n",
    "\n",
    "def list_pct_matches_with_constant(a, value) -> pl.Expr:\n",
    "    '''\n",
    "    Returns an expression to count the percentage of matching element in a list with a constant value.\n",
    "    The polars function count_matches cannot be used since it wants only a single element, \n",
    "    variable element from row to row.\n",
    "    '''\n",
    "    return pl.when(pl.col(a).list.len() == 0).then(0.0) \\\n",
    "        .otherwise(pl.col(a).list.count_matches(value) / pl.col(a).list.len())\n",
    "\n",
    "\n",
    "def cosine_similarity(x, y):\n",
    "    x = np.array(x)\n",
    "    y = np.array(y)\n",
    "    normalization = np.linalg.norm(x, 2) * np.linalg.norm(y, 2)\n",
    "    return np.dot(x, y) / normalization if normalization > 0 else 0\n",
    "\n",
    "\n",
    "prev_train_columns = [c for c in train_ds.columns if c not in ['impression_id', 'article', 'impression_time']]\n",
    "\n",
    "train_ds = pl.concat(\n",
    "    rows.join(history_train.select(['user_id', 'article_id_fixed', 'impression_time_fixed']), on='user_id', how='left') \\\n",
    "        .join(articles.select(['article_id', 'topics', 'entity_groups', 'topics_idf'] + topic_model_columns), \n",
    "              left_on='article', right_on='article_id', how='left') \\\n",
    "        .explode(['article_id_fixed', 'impression_time_fixed']) \\\n",
    "        .join(articles.select(['article_id', 'topics', 'entity_groups'] + topic_model_columns), \n",
    "              left_on='article_id_fixed', right_on='article_id', how='left') \\\n",
    "        .rename({'topics_right': 'topics_history', 'entity_groups_right': 'entity_groups_history'}) \\\n",
    "        .rename({f'topic_model_embedding_{i}_right': f'topic_model_embedding_{i}_history' for i in range(N_COMPONENTS)}) \\\n",
    "        .with_columns(\n",
    "            # 1/delay gives the weight for the weighted mean of the lda embeddings\n",
    "            (1 / (pl.col('impression_time') - pl.col('impression_time_fixed')).dt.total_hours().sqrt()).alias('history_weight'),\n",
    "            (pl.col(\"topics\").list.set_intersection(pl.col(\"topics_history\")).list.len().truediv(\n",
    "                pl.col(\"topics\").list.set_union(pl.col(\"topics_history\")).list.len()\n",
    "            )).alias(\"JS\"),\n",
    "            pl.col('entity_groups').list.set_intersection(pl.col('entity_groups_history')).list.len().alias('common_entities'),\n",
    "        ).drop(['entity_groups_history', 'entity_groups', 'topics', 'topics_history']) \\\n",
    "        .with_columns(\n",
    "            # summing delays to normalize them before weighted mean\n",
    "            pl.col('history_weight').sum().over(['impression_id', 'article']).alias('history_weight_sum'),\n",
    "            *[pl.col(x).mul(pl.col(f'{x}_history')).alias(f'{x}_dot') for x in topic_model_columns],\n",
    "            *[pl.col(x).mul(pl.col(x)) for x in topic_model_columns],\n",
    "            *[pl.col(f'{x}_history').mul(pl.col(f'{x}_history')).alias(f'{x}_history_square') for x in topic_model_columns],\n",
    "        ).with_columns(\n",
    "            # weights now sum to 1\n",
    "            pl.col('history_weight').truediv(pl.col('history_weight_sum')),\n",
    "            pl.sum_horizontal(topic_model_columns).sqrt().alias('topic_model_norm'),\n",
    "            pl.sum_horizontal([f'{x}_history_square' for x in topic_model_columns]).sqrt().alias('topic_model_history_norm'),\n",
    "            pl.sum_horizontal([f'{x}_dot' for x in topic_model_columns]).alias('topic_model_dot'),\n",
    "        ).with_columns(\n",
    "            *[pl.col(f'{x}_history').mul(pl.col('history_weight')).alias(f'{x}_history_weighted') for i, x in enumerate(topic_model_columns)],\n",
    "            pl.col('topic_model_dot').truediv(pl.col('topic_model_norm').mul('topic_model_history_norm')).alias('topic_model_cosine')\n",
    "        ).group_by(['impression_id', 'article']).agg(\n",
    "            pl.col(prev_train_columns).first(),\n",
    "            pl.col('topics_idf').first(),\n",
    "            pl.col('common_entities').mean().alias('MeanCommonEntities'),\n",
    "            pl.col('common_entities').max().alias('MaxCommonEntities'),\n",
    "            pl.col(\"JS\").mean().alias(\"mean_JS\"),\n",
    "            pl.col(\"JS\").min().alias(\"min_JS\"),\n",
    "            pl.col(\"JS\").max().alias(\"max_JS\"),\n",
    "            pl.col(\"JS\").std().alias(\"std_JS\"),\n",
    "            pl.col(\"JS\").mul(pl.col(\"history_weight\")).sum().alias(\"weighted_mean_JS\"),\n",
    "            pl.col(\"topic_model_cosine\").mean().alias(\"mean_topic_model_cosine\"),\n",
    "            pl.col(\"topic_model_cosine\").min().alias(\"min_topic_model_cosine\"),\n",
    "            pl.col(\"topic_model_cosine\").max().alias(\"max_topic_model_cosine\"),\n",
    "            pl.col(\"topic_model_cosine\").std().alias(\"std_topic_model_cosine\"),\n",
    "            pl.col(\"topic_model_cosine\").mul(pl.col(\"history_weight\")).sum().alias(\"weighted_mean_topic_model_cosine\"),\n",
    "            *[pl.col(f'{x}_history').mean().alias(f'lda_{i}_history_mean') for i, x in enumerate(topic_model_columns)],\n",
    "            *[pl.col(f'{x}_history_weighted').sum().alias(f'lda_{i}_history_weighted_mean') for i, x in enumerate(topic_model_columns)]\n",
    "        ).join(history_train.drop(['article_id_fixed', 'impression_time_fixed']), on='user_id', how='left') \\\n",
    "        .with_columns(\n",
    "            pl.struct(['topics_idf', 'topics_flatten_tf_idf']).map_elements(\n",
    "                lambda x: cosine_similarity(x['topics_idf'], x['topics_flatten_tf_idf']), return_dtype=pl.Float64\n",
    "            ).cast(pl.Float32).alias('topics_cosine'),\n",
    "            (pl.col('category') == pl.col('MostFrequentCategory')).alias('IsFavouriteCategory'),\n",
    "            pl.col('category_right').list.n_unique().alias('NumberDifferentCategories'),\n",
    "            list_pct_matches_with_col('category_right', 'category').alias('PctCategoryMatches'),\n",
    "        ).with_columns(\n",
    "            [list_pct_matches_with_constant('category_right', c).alias(f'Category_{c_str}_Pct')\n",
    "             for c, c_str in unique_categories.items()]\n",
    "        ).drop(['topics_idf', 'topics_flatten', 'topics_flatten_tf_idf', 'category_right'])\n",
    "    for rows in tqdm.tqdm(train_ds.iter_slices(10000), total=train_ds.shape[0] // 10000)\n",
    ")\n",
    "train_ds = reduce_polars_df_memory_size(train_ds)\n",
    "\n",
    "PrintColor(f\"\\n\" + GetMemUsage(), color = Fore.RED)\n",
    "train_ds.head(2)"
   ]
  },
  {
   "cell_type": "markdown",
   "id": "e776808c",
   "metadata": {
    "papermill": {
     "duration": 0.050551,
     "end_time": "2024-04-23T16:42:39.376090",
     "exception": false,
     "start_time": "2024-04-23T16:42:39.325539",
     "status": "completed"
    },
    "tags": []
   },
   "source": [
    "# Training"
   ]
  },
  {
   "cell_type": "code",
   "execution_count": 36,
   "id": "56b23c43",
   "metadata": {
    "execution": {
     "iopub.execute_input": "2024-04-23T16:42:39.481571Z",
     "iopub.status.busy": "2024-04-23T16:42:39.481172Z",
     "iopub.status.idle": "2024-04-23T16:42:43.869934Z",
     "shell.execute_reply": "2024-04-23T16:42:43.868680Z"
    },
    "papermill": {
     "duration": 4.445555,
     "end_time": "2024-04-23T16:42:43.872897",
     "exception": false,
     "start_time": "2024-04-23T16:42:39.427342",
     "status": "completed"
    },
    "tags": []
   },
   "outputs": [],
   "source": [
    "train_ds = train_ds.drop(['article', 'user_id']).to_pandas().sort_values(by='impression_id')\n",
    "groups = train_ds['impression_id'].copy()\n",
    "\n",
    "categorical_columns = ['device_type', 'is_sso_user', 'gender', 'is_subscriber', 'weekday',\n",
    "                       'premium', 'category', 'sentiment_label', 'is_new_article', 'is_already_seen_article',\n",
    "                       'MostFrequentCategory', 'MostFrequentWeekday', 'IsFavouriteCategory']\n",
    "categorical_columns += [f'Entity_{entity}_Present' for entity in unique_entities]\n",
    "train_ds[categorical_columns] = train_ds[categorical_columns].astype('category')\n",
    "\n",
    "X = train_ds.drop(columns=['impression_id', 'target'])\n",
    "y = train_ds['target']"
   ]
  },
  {
   "cell_type": "code",
   "execution_count": 37,
   "id": "d7d32145",
   "metadata": {
    "execution": {
     "iopub.execute_input": "2024-04-23T16:42:43.977145Z",
     "iopub.status.busy": "2024-04-23T16:42:43.976737Z",
     "iopub.status.idle": "2024-04-23T16:42:44.277863Z",
     "shell.execute_reply": "2024-04-23T16:42:44.276412Z"
    },
    "papermill": {
     "duration": 0.355784,
     "end_time": "2024-04-23T16:42:44.280279",
     "exception": false,
     "start_time": "2024-04-23T16:42:43.924495",
     "status": "completed"
    },
    "tags": []
   },
   "outputs": [
    {
     "name": "stdout",
     "output_type": "stream",
     "text": [
      "\u001b[1m\u001b[31m\n",
      "RAM memory GB usage = 5.762\u001b[0m\n"
     ]
    }
   ],
   "source": [
    "del train_ds\n",
    "\n",
    "gc.collect()\n",
    "PrintColor(f\"\\n\" + GetMemUsage(), color = Fore.RED)"
   ]
  },
  {
   "cell_type": "code",
   "execution_count": 38,
   "id": "c5f4a168",
   "metadata": {
    "execution": {
     "iopub.execute_input": "2024-04-23T16:42:44.383513Z",
     "iopub.status.busy": "2024-04-23T16:42:44.383142Z",
     "iopub.status.idle": "2024-04-23T17:23:26.224921Z",
     "shell.execute_reply": "2024-04-23T17:23:26.223657Z"
    },
    "papermill": {
     "duration": 2441.948111,
     "end_time": "2024-04-23T17:23:26.279502",
     "exception": false,
     "start_time": "2024-04-23T16:42:44.331391",
     "status": "completed"
    },
    "tags": []
   },
   "outputs": [
    {
     "name": "stdout",
     "output_type": "stream",
     "text": [
      "Groupwise loss function. OneHotMaxSize set to 10\n",
      "0:\ttotal: 4.04s\tremaining: 33m 38s\n",
      "25:\ttotal: 2m 2s\tremaining: 37m 16s\n",
      "50:\ttotal: 4m 8s\tremaining: 36m 25s\n",
      "75:\ttotal: 6m 24s\tremaining: 35m 46s\n",
      "100:\ttotal: 8m 24s\tremaining: 33m 14s\n",
      "125:\ttotal: 10m 29s\tremaining: 31m 7s\n",
      "150:\ttotal: 12m 27s\tremaining: 28m 48s\n",
      "175:\ttotal: 14m 38s\tremaining: 26m 57s\n",
      "200:\ttotal: 16m 44s\tremaining: 24m 54s\n",
      "225:\ttotal: 18m 40s\tremaining: 22m 39s\n",
      "250:\ttotal: 20m 39s\tremaining: 20m 30s\n",
      "275:\ttotal: 22m 38s\tremaining: 18m 22s\n",
      "300:\ttotal: 24m 38s\tremaining: 16m 17s\n",
      "325:\ttotal: 26m 36s\tremaining: 14m 12s\n",
      "350:\ttotal: 28m 41s\tremaining: 12m 10s\n",
      "375:\ttotal: 30m 42s\tremaining: 10m 7s\n",
      "400:\ttotal: 32m 37s\tremaining: 8m 3s\n",
      "425:\ttotal: 34m 39s\tremaining: 6m 1s\n",
      "450:\ttotal: 36m 33s\tremaining: 3m 58s\n",
      "475:\ttotal: 38m 34s\tremaining: 1m 56s\n",
      "499:\ttotal: 40m 32s\tremaining: 0us\n",
      "\u001b[1m\u001b[31m\n",
      "RAM memory GB usage = 10.52\u001b[0m\n"
     ]
    }
   ],
   "source": [
    "model = CatBoostRanker(cat_features=categorical_columns, iterations=500, depth=6, colsample_bylevel=0.7)\n",
    "\n",
    "model.fit(X, y, group_id=groups, verbose=25)\n",
    "\n",
    "gc.collect()\n",
    "PrintColor(f\"\\n\" + GetMemUsage(), color = Fore.RED)"
   ]
  },
  {
   "cell_type": "code",
   "execution_count": 39,
   "id": "dc3a7f4f",
   "metadata": {
    "execution": {
     "iopub.execute_input": "2024-04-23T17:23:26.387421Z",
     "iopub.status.busy": "2024-04-23T17:23:26.387008Z",
     "iopub.status.idle": "2024-04-23T17:24:45.223156Z",
     "shell.execute_reply": "2024-04-23T17:24:45.222058Z"
    },
    "papermill": {
     "duration": 78.944098,
     "end_time": "2024-04-23T17:24:45.276891",
     "exception": false,
     "start_time": "2024-04-23T17:23:26.332793",
     "status": "completed"
    },
    "tags": []
   },
   "outputs": [
    {
     "name": "stdout",
     "output_type": "stream",
     "text": [
      "CPU times: user 4min 17s, sys: 8.05 s, total: 4min 25s\n",
      "Wall time: 1min 18s\n"
     ]
    }
   ],
   "source": [
    "%%time\n",
    "\n",
    "from catboost import Pool\n",
    "\n",
    "train_pool = Pool(X, y, cat_features=categorical_columns, group_id=groups)\n",
    "feature_importances = model.get_feature_importance(train_pool)"
   ]
  },
  {
   "cell_type": "code",
   "execution_count": 40,
   "id": "c0d1377c",
   "metadata": {
    "execution": {
     "iopub.execute_input": "2024-04-23T17:24:45.384004Z",
     "iopub.status.busy": "2024-04-23T17:24:45.383195Z",
     "iopub.status.idle": "2024-04-23T17:24:47.347522Z",
     "shell.execute_reply": "2024-04-23T17:24:47.346216Z"
    },
    "papermill": {
     "duration": 2.027128,
     "end_time": "2024-04-23T17:24:47.356385",
     "exception": false,
     "start_time": "2024-04-23T17:24:45.329257",
     "status": "completed"
    },
    "tags": []
   },
   "outputs": [
    {
     "data": {
      "text/plain": [
       "Text(0.5, 1.0, 'Catboost Feature Importances')"
      ]
     },
     "execution_count": 40,
     "metadata": {},
     "output_type": "execute_result"
    },
    {
     "data": {
      "image/png": "[encoded data removed]",
      "text/plain": [
       "<Figure size 1000x2000 with 1 Axes>"
      ]
     },
     "metadata": {},
     "output_type": "display_data"
    }
   ],
   "source": [
    "sorted_importances = np.argsort(feature_importances)[::-1]\n",
    "\n",
    "plt.figure(figsize=(10, 20))\n",
    "sns.barplot(x=feature_importances[sorted_importances], y=np.array(X.columns)[sorted_importances])\n",
    "plt.xlabel('Feature Importance')\n",
    "plt.ylabel('Feature Name')\n",
    "plt.title('Catboost Feature Importances')"
   ]
  },
  {
   "cell_type": "code",
   "execution_count": 41,
   "id": "1879a34c",
   "metadata": {
    "execution": {
     "iopub.execute_input": "2024-04-23T17:24:47.475376Z",
     "iopub.status.busy": "2024-04-23T17:24:47.474970Z",
     "iopub.status.idle": "2024-04-23T17:24:47.866708Z",
     "shell.execute_reply": "2024-04-23T17:24:47.865466Z"
    },
    "papermill": {
     "duration": 0.454583,
     "end_time": "2024-04-23T17:24:47.869173",
     "exception": false,
     "start_time": "2024-04-23T17:24:47.414590",
     "status": "completed"
    },
    "tags": []
   },
   "outputs": [
    {
     "name": "stdout",
     "output_type": "stream",
     "text": [
      "\u001b[1m\u001b[31m\n",
      "RAM memory GB usage = 10.21\u001b[0m\n"
     ]
    }
   ],
   "source": [
    "del history_train\n",
    "del behaviors_train\n",
    "\n",
    "gc.collect()\n",
    "PrintColor(f\"\\n\" + GetMemUsage(), color = Fore.RED)"
   ]
  },
  {
   "cell_type": "markdown",
   "id": "00be27fc",
   "metadata": {
    "papermill": {
     "duration": 0.059891,
     "end_time": "2024-04-23T17:24:47.987717",
     "exception": false,
     "start_time": "2024-04-23T17:24:47.927826",
     "status": "completed"
    },
    "tags": []
   },
   "source": [
    "# Model Evaluation"
   ]
  },
  {
   "cell_type": "code",
   "execution_count": 42,
   "id": "3e1cbbc4",
   "metadata": {
    "execution": {
     "iopub.execute_input": "2024-04-23T17:24:48.113128Z",
     "iopub.status.busy": "2024-04-23T17:24:48.112597Z",
     "iopub.status.idle": "2024-04-23T17:25:03.513884Z",
     "shell.execute_reply": "2024-04-23T17:25:03.512594Z"
    },
    "papermill": {
     "duration": 15.470289,
     "end_time": "2024-04-23T17:25:03.516484",
     "exception": false,
     "start_time": "2024-04-23T17:24:48.046195",
     "status": "completed"
    },
    "tags": []
   },
   "outputs": [],
   "source": [
    "user_id_mapping = history_val.sort('user_id').with_row_index() \\\n",
    "    .select(['index', 'user_id']).rename({'index': 'user_index'})\n",
    "\n",
    "ner_interactions = history_val.select(['user_id', 'article_id_fixed']).explode('article_id_fixed') \\\n",
    "    .join(articles.select(['article_id', 'ner_clusters']), left_on='article_id_fixed', right_on='article_id', how='left') \\\n",
    "    .explode('ner_clusters').unique(['user_id', 'ner_clusters']) \\\n",
    "    .with_columns(pl.col('ner_clusters').str.strip_chars_start('\\\" ').str.to_lowercase()) \\\n",
    "    .join(user_id_mapping, on='user_id', how='left') \\\n",
    "    .join(ner_mapping, left_on='ner_clusters', right_on='ner') \\\n",
    "    .select(['user_index', 'ner_index', 'user_id', 'article_id_fixed']) \\\n",
    "    .unique(['user_index', 'ner_index'])\n",
    "\n",
    "URM_ner = sps.csr_matrix((np.ones(ner_interactions.shape[0]),\n",
    "                          (ner_interactions['user_index'].to_numpy(), ner_interactions['ner_index'].to_numpy())),\n",
    "                         shape=(user_id_mapping.shape[0], ner_mapping.shape[0]))\n",
    "\n",
    "ner_interactions_test = behaviors_val.select(['user_id', 'article_ids_clicked']).explode('article_ids_clicked') \\\n",
    "    .join(articles.select(['article_id', 'ner_clusters']), left_on='article_ids_clicked', right_on='article_id', how='left') \\\n",
    "    .explode('ner_clusters').unique(['user_id', 'ner_clusters']) \\\n",
    "    .with_columns(pl.col('ner_clusters').str.strip_chars_start('\\\" ').str.to_lowercase()) \\\n",
    "    .join(user_id_mapping, on='user_id', how='left') \\\n",
    "    .join(ner_mapping, left_on='ner_clusters', right_on='ner') \\\n",
    "    .select(['user_index', 'ner_index', 'user_id', 'article_ids_clicked']) \\\n",
    "    .unique(['user_index', 'ner_index'])\n",
    "\n",
    "URM_ner_test = sps.csr_matrix((np.ones(ner_interactions_test.shape[0]),\n",
    "                               (ner_interactions_test['user_index'].to_numpy(), ner_interactions_test['ner_index'].to_numpy())),\n",
    "                              shape=(user_id_mapping.shape[0], ner_mapping.shape[0]))"
   ]
  },
  {
   "cell_type": "code",
   "execution_count": 43,
   "id": "c414415c",
   "metadata": {
    "execution": {
     "iopub.execute_input": "2024-04-23T17:25:03.636391Z",
     "iopub.status.busy": "2024-04-23T17:25:03.635921Z",
     "iopub.status.idle": "2024-04-23T17:30:23.855554Z",
     "shell.execute_reply": "2024-04-23T17:30:23.854426Z"
    },
    "papermill": {
     "duration": 320.302734,
     "end_time": "2024-04-23T17:30:23.878029",
     "exception": false,
     "start_time": "2024-04-23T17:25:03.575295",
     "status": "completed"
    },
    "tags": []
   },
   "outputs": [
    {
     "name": "stdout",
     "output_type": "stream",
     "text": [
      "ItemKNNCFRecommender: URM Detected 3 ( 0.0%) users with no interactions.\n",
      "ItemKNNCFRecommender: URM Detected 19035 (43.5%) items with no interactions.\n",
      "Unable to load Cython Compute_Similarity, reverting to Python\n",
      "Similarity column 43774 (100.0%), 158.77 column/sec. Elapsed time 4.60 min\n",
      "EvaluatorHoldout: Ignoring 32 ( 0.2%) Users that have less than 1 test interactions\n",
      "EvaluatorHoldout: Processed 15310 (100.0%) in 43.33 sec. Users per second: 353\n"
     ]
    },
    {
     "data": {
      "text/html": [
       "<div>\n",
       "<style scoped>\n",
       "    .dataframe tbody tr th:only-of-type {\n",
       "        vertical-align: middle;\n",
       "    }\n",
       "\n",
       "    .dataframe tbody tr th {\n",
       "        vertical-align: top;\n",
       "    }\n",
       "\n",
       "    .dataframe thead th {\n",
       "        text-align: right;\n",
       "    }\n",
       "</style>\n",
       "<table border=\"1\" class=\"dataframe\">\n",
       "  <thead>\n",
       "    <tr style=\"text-align: right;\">\n",
       "      <th></th>\n",
       "      <th>PRECISION</th>\n",
       "      <th>PRECISION_RECALL_MIN_DEN</th>\n",
       "      <th>RECALL</th>\n",
       "      <th>MAP</th>\n",
       "      <th>MAP_MIN_DEN</th>\n",
       "      <th>MRR</th>\n",
       "      <th>NDCG</th>\n",
       "      <th>F1</th>\n",
       "      <th>HIT_RATE</th>\n",
       "      <th>ARHR_ALL_HITS</th>\n",
       "      <th>...</th>\n",
       "      <th>COVERAGE_USER</th>\n",
       "      <th>COVERAGE_USER_HIT</th>\n",
       "      <th>USERS_IN_GT</th>\n",
       "      <th>DIVERSITY_GINI</th>\n",
       "      <th>SHANNON_ENTROPY</th>\n",
       "      <th>RATIO_DIVERSITY_HERFINDAHL</th>\n",
       "      <th>RATIO_DIVERSITY_GINI</th>\n",
       "      <th>RATIO_SHANNON_ENTROPY</th>\n",
       "      <th>RATIO_AVERAGE_POPULARITY</th>\n",
       "      <th>RATIO_NOVELTY</th>\n",
       "    </tr>\n",
       "    <tr>\n",
       "      <th>cutoff</th>\n",
       "      <th></th>\n",
       "      <th></th>\n",
       "      <th></th>\n",
       "      <th></th>\n",
       "      <th></th>\n",
       "      <th></th>\n",
       "      <th></th>\n",
       "      <th></th>\n",
       "      <th></th>\n",
       "      <th></th>\n",
       "      <th></th>\n",
       "      <th></th>\n",
       "      <th></th>\n",
       "      <th></th>\n",
       "      <th></th>\n",
       "      <th></th>\n",
       "      <th></th>\n",
       "      <th></th>\n",
       "      <th></th>\n",
       "      <th></th>\n",
       "      <th></th>\n",
       "    </tr>\n",
       "  </thead>\n",
       "  <tbody>\n",
       "    <tr>\n",
       "      <th>10</th>\n",
       "      <td>0.338445</td>\n",
       "      <td>0.339461</td>\n",
       "      <td>0.033197</td>\n",
       "      <td>0.241643</td>\n",
       "      <td>0.241977</td>\n",
       "      <td>0.493913</td>\n",
       "      <td>0.346767</td>\n",
       "      <td>0.060464</td>\n",
       "      <td>0.784651</td>\n",
       "      <td>1.033204</td>\n",
       "      <td>...</td>\n",
       "      <td>0.997914</td>\n",
       "      <td>0.783014</td>\n",
       "      <td>0.997914</td>\n",
       "      <td>0.002568</td>\n",
       "      <td>5.473111</td>\n",
       "      <td>0.953841</td>\n",
       "      <td>0.020621</td>\n",
       "      <td>0.428217</td>\n",
       "      <td>3.43338</td>\n",
       "      <td>0.010093</td>\n",
       "    </tr>\n",
       "  </tbody>\n",
       "</table>\n",
       "<p>1 rows × 27 columns</p>\n",
       "</div>"
      ],
      "text/plain": [
       "       PRECISION PRECISION_RECALL_MIN_DEN    RECALL       MAP MAP_MIN_DEN  \\\n",
       "cutoff                                                                      \n",
       "10      0.338445                 0.339461  0.033197  0.241643    0.241977   \n",
       "\n",
       "             MRR      NDCG        F1  HIT_RATE ARHR_ALL_HITS  ...  \\\n",
       "cutoff                                                        ...   \n",
       "10      0.493913  0.346767  0.060464  0.784651      1.033204  ...   \n",
       "\n",
       "       COVERAGE_USER COVERAGE_USER_HIT USERS_IN_GT DIVERSITY_GINI  \\\n",
       "cutoff                                                              \n",
       "10          0.997914          0.783014    0.997914       0.002568   \n",
       "\n",
       "       SHANNON_ENTROPY RATIO_DIVERSITY_HERFINDAHL RATIO_DIVERSITY_GINI  \\\n",
       "cutoff                                                                   \n",
       "10            5.473111                   0.953841             0.020621   \n",
       "\n",
       "       RATIO_SHANNON_ENTROPY RATIO_AVERAGE_POPULARITY RATIO_NOVELTY  \n",
       "cutoff                                                               \n",
       "10                  0.428217                  3.43338      0.010093  \n",
       "\n",
       "[1 rows x 27 columns]"
      ]
     },
     "execution_count": 43,
     "metadata": {},
     "output_type": "execute_result"
    }
   ],
   "source": [
    "item_knn = ItemKNNCFRecommender(URM_ner)\n",
    "item_knn.fit(topK=100, similarity='jaccard')\n",
    "\n",
    "evaluator = EvaluatorHoldout(URM_ner_test, cutoff_list=[10], exclude_seen=False)\n",
    "result_df, _ = evaluator.evaluateRecommender(item_knn)\n",
    "result_df"
   ]
  },
  {
   "cell_type": "code",
   "execution_count": 44,
   "id": "d30583d9",
   "metadata": {
    "execution": {
     "iopub.execute_input": "2024-04-23T17:30:23.996841Z",
     "iopub.status.busy": "2024-04-23T17:30:23.996410Z",
     "iopub.status.idle": "2024-04-23T17:31:01.083389Z",
     "shell.execute_reply": "2024-04-23T17:31:01.081953Z"
    },
    "papermill": {
     "duration": 37.216741,
     "end_time": "2024-04-23T17:31:01.152993",
     "exception": false,
     "start_time": "2024-04-23T17:30:23.936252",
     "status": "completed"
    },
    "tags": []
   },
   "outputs": [
    {
     "name": "stdout",
     "output_type": "stream",
     "text": [
      "PureSVDRecommender: URM Detected 3 ( 0.0%) users with no interactions.\n",
      "PureSVDRecommender: URM Detected 19035 (43.5%) items with no interactions.\n",
      "PureSVDRecommender: Computing SVD decomposition...\n",
      "PureSVDRecommender: Computing SVD decomposition... done in 4.50 sec\n",
      "EvaluatorHoldout: Processed 15310 (100.0%) in 32.04 sec. Users per second: 478\n"
     ]
    },
    {
     "data": {
      "text/html": [
       "<div>\n",
       "<style scoped>\n",
       "    .dataframe tbody tr th:only-of-type {\n",
       "        vertical-align: middle;\n",
       "    }\n",
       "\n",
       "    .dataframe tbody tr th {\n",
       "        vertical-align: top;\n",
       "    }\n",
       "\n",
       "    .dataframe thead th {\n",
       "        text-align: right;\n",
       "    }\n",
       "</style>\n",
       "<table border=\"1\" class=\"dataframe\">\n",
       "  <thead>\n",
       "    <tr style=\"text-align: right;\">\n",
       "      <th></th>\n",
       "      <th>PRECISION</th>\n",
       "      <th>PRECISION_RECALL_MIN_DEN</th>\n",
       "      <th>RECALL</th>\n",
       "      <th>MAP</th>\n",
       "      <th>MAP_MIN_DEN</th>\n",
       "      <th>MRR</th>\n",
       "      <th>NDCG</th>\n",
       "      <th>F1</th>\n",
       "      <th>HIT_RATE</th>\n",
       "      <th>ARHR_ALL_HITS</th>\n",
       "      <th>...</th>\n",
       "      <th>COVERAGE_USER</th>\n",
       "      <th>COVERAGE_USER_HIT</th>\n",
       "      <th>USERS_IN_GT</th>\n",
       "      <th>DIVERSITY_GINI</th>\n",
       "      <th>SHANNON_ENTROPY</th>\n",
       "      <th>RATIO_DIVERSITY_HERFINDAHL</th>\n",
       "      <th>RATIO_DIVERSITY_GINI</th>\n",
       "      <th>RATIO_SHANNON_ENTROPY</th>\n",
       "      <th>RATIO_AVERAGE_POPULARITY</th>\n",
       "      <th>RATIO_NOVELTY</th>\n",
       "    </tr>\n",
       "    <tr>\n",
       "      <th>cutoff</th>\n",
       "      <th></th>\n",
       "      <th></th>\n",
       "      <th></th>\n",
       "      <th></th>\n",
       "      <th></th>\n",
       "      <th></th>\n",
       "      <th></th>\n",
       "      <th></th>\n",
       "      <th></th>\n",
       "      <th></th>\n",
       "      <th></th>\n",
       "      <th></th>\n",
       "      <th></th>\n",
       "      <th></th>\n",
       "      <th></th>\n",
       "      <th></th>\n",
       "      <th></th>\n",
       "      <th></th>\n",
       "      <th></th>\n",
       "      <th></th>\n",
       "      <th></th>\n",
       "    </tr>\n",
       "  </thead>\n",
       "  <tbody>\n",
       "    <tr>\n",
       "      <th>10</th>\n",
       "      <td>0.365382</td>\n",
       "      <td>0.368539</td>\n",
       "      <td>0.050795</td>\n",
       "      <td>0.283615</td>\n",
       "      <td>0.285707</td>\n",
       "      <td>0.695447</td>\n",
       "      <td>0.415659</td>\n",
       "      <td>0.089191</td>\n",
       "      <td>0.876486</td>\n",
       "      <td>1.342637</td>\n",
       "      <td>...</td>\n",
       "      <td>0.997914</td>\n",
       "      <td>0.874658</td>\n",
       "      <td>0.997914</td>\n",
       "      <td>0.001527</td>\n",
       "      <td>5.728555</td>\n",
       "      <td>0.954883</td>\n",
       "      <td>0.012263</td>\n",
       "      <td>0.448203</td>\n",
       "      <td>3.536612</td>\n",
       "      <td>0.010003</td>\n",
       "    </tr>\n",
       "  </tbody>\n",
       "</table>\n",
       "<p>1 rows × 27 columns</p>\n",
       "</div>"
      ],
      "text/plain": [
       "       PRECISION PRECISION_RECALL_MIN_DEN    RECALL       MAP MAP_MIN_DEN  \\\n",
       "cutoff                                                                      \n",
       "10      0.365382                 0.368539  0.050795  0.283615    0.285707   \n",
       "\n",
       "             MRR      NDCG        F1  HIT_RATE ARHR_ALL_HITS  ...  \\\n",
       "cutoff                                                        ...   \n",
       "10      0.695447  0.415659  0.089191  0.876486      1.342637  ...   \n",
       "\n",
       "       COVERAGE_USER COVERAGE_USER_HIT USERS_IN_GT DIVERSITY_GINI  \\\n",
       "cutoff                                                              \n",
       "10          0.997914          0.874658    0.997914       0.001527   \n",
       "\n",
       "       SHANNON_ENTROPY RATIO_DIVERSITY_HERFINDAHL RATIO_DIVERSITY_GINI  \\\n",
       "cutoff                                                                   \n",
       "10            5.728555                   0.954883             0.012263   \n",
       "\n",
       "       RATIO_SHANNON_ENTROPY RATIO_AVERAGE_POPULARITY RATIO_NOVELTY  \n",
       "cutoff                                                               \n",
       "10                  0.448203                 3.536612      0.010003  \n",
       "\n",
       "[1 rows x 27 columns]"
      ]
     },
     "execution_count": 44,
     "metadata": {},
     "output_type": "execute_result"
    }
   ],
   "source": [
    "pure_svd = PureSVDRecommender(URM_ner)\n",
    "pure_svd.fit(num_factors=20)\n",
    "\n",
    "result_df, _ = evaluator.evaluateRecommender(pure_svd)\n",
    "result_df"
   ]
  },
  {
   "cell_type": "code",
   "execution_count": 45,
   "id": "14c2d703",
   "metadata": {
    "execution": {
     "iopub.execute_input": "2024-04-23T17:31:01.378495Z",
     "iopub.status.busy": "2024-04-23T17:31:01.377722Z",
     "iopub.status.idle": "2024-04-23T17:32:47.023013Z",
     "shell.execute_reply": "2024-04-23T17:32:47.021728Z"
    },
    "papermill": {
     "duration": 105.804444,
     "end_time": "2024-04-23T17:32:47.086618",
     "exception": false,
     "start_time": "2024-04-23T17:31:01.282174",
     "status": "completed"
    },
    "tags": []
   },
   "outputs": [
    {
     "name": "stdout",
     "output_type": "stream",
     "text": [
      "CPU times: user 3min 46s, sys: 2min 28s, total: 6min 15s\n",
      "Wall time: 1min 45s\n"
     ]
    },
    {
     "data": {
      "text/html": [
       "<div><style>\n",
       ".dataframe > thead > tr,\n",
       ".dataframe > tbody > tr {\n",
       "  text-align: right;\n",
       "  white-space: pre-wrap;\n",
       "}\n",
       "</style>\n",
       "<small>shape: (5, 8)</small><table border=\"1\" class=\"dataframe\"><thead><tr><th>impression_id</th><th>article</th><th>total_ner_svd_scores</th><th>mean_ner_svd_scores</th><th>max_ner_svd_scores</th><th>total_ner_item_knn_scores</th><th>mean_ner_item_knn_scores</th><th>max_ner_item_knn_scores</th></tr><tr><td>u32</td><td>i32</td><td>f32</td><td>f32</td><td>f32</td><td>f32</td><td>f32</td><td>f32</td></tr></thead><tbody><tr><td>96798</td><td>9783865</td><td>0.020126</td><td>0.01501</td><td>0.028032</td><td>0.010978</td><td>0.008356</td><td>0.02328</td></tr><tr><td>96798</td><td>9695098</td><td>0.026654</td><td>0.034079</td><td>0.061363</td><td>0.022344</td><td>0.029155</td><td>0.061801</td></tr><tr><td>96798</td><td>9784696</td><td>0.128557</td><td>0.143821</td><td>0.056175</td><td>0.110234</td><td>0.125856</td><td>0.061705</td></tr><tr><td>96798</td><td>9784160</td><td>0.006586</td><td>0.014735</td><td>0.013272</td><td>0.002998</td><td>0.006846</td><td>0.007621</td></tr><tr><td>96798</td><td>9784648</td><td>0.044845</td><td>0.040135</td><td>0.058506</td><td>0.04261</td><td>0.038919</td><td>0.061712</td></tr></tbody></table></div>"
      ],
      "text/plain": [
       "shape: (5, 8)\n",
       "┌────────────┬─────────┬────────────┬────────────┬────────────┬────────────┬───────────┬───────────┐\n",
       "│ impression ┆ article ┆ total_ner_ ┆ mean_ner_s ┆ max_ner_sv ┆ total_ner_ ┆ mean_ner_ ┆ max_ner_i │\n",
       "│ _id        ┆ ---     ┆ svd_scores ┆ vd_scores  ┆ d_scores   ┆ item_knn_s ┆ item_knn_ ┆ tem_knn_s │\n",
       "│ ---        ┆ i32     ┆ ---        ┆ ---        ┆ ---        ┆ cores      ┆ scores    ┆ cores     │\n",
       "│ u32        ┆         ┆ f32        ┆ f32        ┆ f32        ┆ ---        ┆ ---       ┆ ---       │\n",
       "│            ┆         ┆            ┆            ┆            ┆ f32        ┆ f32       ┆ f32       │\n",
       "╞════════════╪═════════╪════════════╪════════════╪════════════╪════════════╪═══════════╪═══════════╡\n",
       "│ 96798      ┆ 9783865 ┆ 0.020126   ┆ 0.01501    ┆ 0.028032   ┆ 0.010978   ┆ 0.008356  ┆ 0.02328   │\n",
       "│ 96798      ┆ 9695098 ┆ 0.026654   ┆ 0.034079   ┆ 0.061363   ┆ 0.022344   ┆ 0.029155  ┆ 0.061801  │\n",
       "│ 96798      ┆ 9784696 ┆ 0.128557   ┆ 0.143821   ┆ 0.056175   ┆ 0.110234   ┆ 0.125856  ┆ 0.061705  │\n",
       "│ 96798      ┆ 9784160 ┆ 0.006586   ┆ 0.014735   ┆ 0.013272   ┆ 0.002998   ┆ 0.006846  ┆ 0.007621  │\n",
       "│ 96798      ┆ 9784648 ┆ 0.044845   ┆ 0.040135   ┆ 0.058506   ┆ 0.04261    ┆ 0.038919  ┆ 0.061712  │\n",
       "└────────────┴─────────┴────────────┴────────────┴────────────┴────────────┴───────────┴───────────┘"
      ]
     },
     "execution_count": 45,
     "metadata": {},
     "output_type": "execute_result"
    }
   ],
   "source": [
    "%%time\n",
    "\n",
    "def get_inview_scores(user_ners_df, recommender, f_name):\n",
    "    user_index = user_ners_df['user_index'].to_list()[0]\n",
    "    ners = user_ners_df['ner_index'].to_numpy()\n",
    "    scores = recommender._compute_item_score([user_index], ners)[0, ners]\n",
    "    return user_ners_df.with_columns(\n",
    "        pl.Series(scores).alias(f_name)\n",
    "    )\n",
    "\n",
    "ner_inview_scores = behaviors_val.select(['user_id', 'article_ids_inview']).explode('article_ids_inview') \\\n",
    "    .join(articles.select(['article_id', 'ner_clusters']), left_on='article_ids_inview', right_on='article_id', how='left') \\\n",
    "    .explode('ner_clusters').unique(['user_id', 'ner_clusters']) \\\n",
    "    .with_columns(pl.col('ner_clusters').str.strip_chars_start('\\\" ').str.to_lowercase()) \\\n",
    "    .join(user_id_mapping, on='user_id', how='left') \\\n",
    "    .join(ner_mapping, left_on='ner_clusters', right_on='ner') \\\n",
    "    .select(['user_index', 'ner_index', 'user_id', 'article_ids_inview']) \\\n",
    "    .unique(['user_index', 'ner_index']) \\\n",
    "    .sort(['user_index', 'ner_index']).group_by('user_index').map_groups(\n",
    "        lambda user_df: user_df.pipe(get_inview_scores, recommender=pure_svd, f_name='pure_svd_scores') \\\n",
    "            .pipe(get_inview_scores, recommender=item_knn, f_name='item_knn_scores')\n",
    "    )\n",
    "\n",
    "behaviors_ner_scores = behaviors_val.select(['impression_id', 'user_id', 'article_ids_inview']).explode('article_ids_inview') \\\n",
    "    .join(ner_inview_scores, on=['user_id', 'article_ids_inview'], how='left') \\\n",
    "    .with_columns(pl.col(['pure_svd_scores', 'item_knn_scores']).fill_null(0)) \\\n",
    "    .group_by(['impression_id', 'article_ids_inview']).agg(\n",
    "        pl.col('pure_svd_scores').sum().alias('total_ner_svd_scores'),\n",
    "        pl.col('pure_svd_scores').mean().alias('mean_ner_svd_scores'),\n",
    "        pl.col('pure_svd_scores').max().alias('max_ner_svd_scores'),\n",
    "        pl.col('item_knn_scores').sum().alias('total_ner_item_knn_scores'),\n",
    "        pl.col('item_knn_scores').mean().alias('mean_ner_item_knn_scores'),\n",
    "        pl.col('item_knn_scores').max().alias('max_ner_item_knn_scores'),\n",
    "    ).with_columns(\n",
    "        pl.col(['total_ner_svd_scores', 'mean_ner_svd_scores', \n",
    "                'total_ner_item_knn_scores', 'mean_ner_item_knn_scores',\n",
    "                'max_ner_svd_scores', 'max_ner_item_knn_scores']).sum().over('impression_id').name.suffix('_max')\n",
    "    ).with_columns(\n",
    "        # l1 normalization\n",
    "        pl.col('total_ner_svd_scores').truediv(pl.col('total_ner_svd_scores_max')),\n",
    "        pl.col('mean_ner_svd_scores').truediv(pl.col('mean_ner_svd_scores_max')),\n",
    "        pl.col('max_ner_svd_scores').truediv(pl.col('max_ner_svd_scores_max')),\n",
    "        pl.col('total_ner_item_knn_scores').truediv(pl.col('total_ner_item_knn_scores_max')),\n",
    "        pl.col('mean_ner_item_knn_scores').truediv(pl.col('mean_ner_item_knn_scores_max')),\n",
    "        pl.col('max_ner_item_knn_scores').truediv(pl.col('max_ner_item_knn_scores_max')),\n",
    "    ).drop(['total_ner_svd_scores_max', 'mean_ner_svd_scores_max', \n",
    "            'max_ner_svd_scores_max', 'total_ner_item_knn_scores_max',\n",
    "            'mean_ner_item_knn_scores_max', 'max_ner_item_knn_scores_max']) \\\n",
    "    .rename({'article_ids_inview': 'article'})\n",
    "behaviors_ner_scores.head(5)"
   ]
  },
  {
   "cell_type": "code",
   "execution_count": 46,
   "id": "69cd2f95",
   "metadata": {
    "execution": {
     "iopub.execute_input": "2024-04-23T17:32:47.207948Z",
     "iopub.status.busy": "2024-04-23T17:32:47.207520Z",
     "iopub.status.idle": "2024-04-23T17:33:00.706040Z",
     "shell.execute_reply": "2024-04-23T17:33:00.704985Z"
    },
    "papermill": {
     "duration": 13.562618,
     "end_time": "2024-04-23T17:33:00.708347",
     "exception": false,
     "start_time": "2024-04-23T17:32:47.145729",
     "status": "completed"
    },
    "tags": []
   },
   "outputs": [
    {
     "name": "stderr",
     "output_type": "stream",
     "text": [
      "16it [00:12,  1.25it/s]                        \n"
     ]
    },
    {
     "name": "stdout",
     "output_type": "stream",
     "text": [
      "\u001b[1m\u001b[31m\n",
      "RAM memory GB usage = 9.546\u001b[0m\n",
      "Memory usage of dataframe is 36.51 MB\n",
      "Memory usage after optimization is: 35.72 MB\n",
      "Decreased by 2.2%\n",
      "CPU times: user 15.3 s, sys: 1.33 s, total: 16.7 s\n",
      "Wall time: 13.5 s\n"
     ]
    },
    {
     "data": {
      "text/html": [
       "<div><style>\n",
       ".dataframe > thead > tr,\n",
       ".dataframe > tbody > tr {\n",
       "  text-align: right;\n",
       "  white-space: pre-wrap;\n",
       "}\n",
       "</style>\n",
       "<small>shape: (2, 27)</small><table border=\"1\" class=\"dataframe\"><thead><tr><th>user_id</th><th>article_id_fixed</th><th>impression_time_fixed</th><th>category</th><th>NumArticlesHistory</th><th>MedianReadTime</th><th>MaxReadTime</th><th>TotalReadTime</th><th>MedianScrollPercentage</th><th>MaxScrollPercentage</th><th>NeutralPct</th><th>PositivePct</th><th>NegativePct</th><th>PctStrongNeutral</th><th>PctStrongPositive</th><th>PctStrongNegative</th><th>PctNotDefaultArticles</th><th>MostFrequentCategory</th><th>MostFrequentWeekday</th><th>MostFrequentHour</th><th>topics_flatten_tf_idf</th><th>PERPct</th><th>EVENTPct</th><th>LOCPct</th><th>ORGPct</th><th>PRODPct</th><th>MISCPct</th></tr><tr><td>u32</td><td>list[i32]</td><td>list[datetime[μs]]</td><td>list[i16]</td><td>u16</td><td>f32</td><td>f32</td><td>f32</td><td>f32</td><td>f32</td><td>f32</td><td>f32</td><td>f32</td><td>f32</td><td>f32</td><td>f32</td><td>f32</td><td>i16</td><td>i8</td><td>i8</td><td>list[f32]</td><td>f32</td><td>f32</td><td>f32</td><td>f32</td><td>f32</td><td>f32</td></tr></thead><tbody><tr><td>10623</td><td>[9750749, 9685790, … 9779517]</td><td>[2023-05-05 07:51:01, 2023-05-05 07:51:36, … 2023-05-24 17:10:11]</td><td>[118, 457, … 414]</td><td>150</td><td>3.5</td><td>1563.0</td><td>9330.0</td><td>37.0</td><td>100.0</td><td>0.28</td><td>0.093333</td><td>0.626667</td><td>0.126667</td><td>0.06</td><td>0.546667</td><td>0.06</td><td>118</td><td>1</td><td>20</td><td>[0.0, 0.042172, … 0.089681]</td><td>0.893333</td><td>0.3</td><td>0.846667</td><td>0.913333</td><td>0.213333</td><td>0.266667</td></tr><tr><td>12718</td><td>[9749036, 9749025, … 9778718]</td><td>[2023-05-04 07:49:49, 2023-05-04 07:50:15, … 2023-05-24 07:07:25]</td><td>[118, 118, … 140]</td><td>114</td><td>7.0</td><td>748.0</td><td>3440.0</td><td>36.0</td><td>100.0</td><td>0.245614</td><td>0.052632</td><td>0.701754</td><td>0.087719</td><td>0.035088</td><td>0.614035</td><td>0.035088</td><td>118</td><td>4</td><td>7</td><td>[0.0, 0.048524, … 0.217846]</td><td>0.807018</td><td>0.114035</td><td>0.815789</td><td>0.947368</td><td>0.254386</td><td>0.192982</td></tr></tbody></table></div>"
      ],
      "text/plain": [
       "shape: (2, 27)\n",
       "┌─────────┬─────────────┬─────────────┬────────────┬───┬──────────┬──────────┬──────────┬──────────┐\n",
       "│ user_id ┆ article_id_ ┆ impression_ ┆ category   ┆ … ┆ LOCPct   ┆ ORGPct   ┆ PRODPct  ┆ MISCPct  │\n",
       "│ ---     ┆ fixed       ┆ time_fixed  ┆ ---        ┆   ┆ ---      ┆ ---      ┆ ---      ┆ ---      │\n",
       "│ u32     ┆ ---         ┆ ---         ┆ list[i16]  ┆   ┆ f32      ┆ f32      ┆ f32      ┆ f32      │\n",
       "│         ┆ list[i32]   ┆ list[dateti ┆            ┆   ┆          ┆          ┆          ┆          │\n",
       "│         ┆             ┆ me[μs]]     ┆            ┆   ┆          ┆          ┆          ┆          │\n",
       "╞═════════╪═════════════╪═════════════╪════════════╪═══╪══════════╪══════════╪══════════╪══════════╡\n",
       "│ 10623   ┆ [9750749,   ┆ [2023-05-05 ┆ [118, 457, ┆ … ┆ 0.846667 ┆ 0.913333 ┆ 0.213333 ┆ 0.266667 │\n",
       "│         ┆ 9685790, …  ┆ 07:51:01,   ┆ … 414]     ┆   ┆          ┆          ┆          ┆          │\n",
       "│         ┆ 9779517]    ┆ 2023-05-05… ┆            ┆   ┆          ┆          ┆          ┆          │\n",
       "│ 12718   ┆ [9749036,   ┆ [2023-05-04 ┆ [118, 118, ┆ … ┆ 0.815789 ┆ 0.947368 ┆ 0.254386 ┆ 0.192982 │\n",
       "│         ┆ 9749025, …  ┆ 07:49:49,   ┆ … 140]     ┆   ┆          ┆          ┆          ┆          │\n",
       "│         ┆ 9778718]    ┆ 2023-05-04… ┆            ┆   ┆          ┆          ┆          ┆          │\n",
       "└─────────┴─────────────┴─────────────┴────────────┴───┴──────────┴──────────┴──────────┴──────────┘"
      ]
     },
     "execution_count": 46,
     "metadata": {},
     "output_type": "execute_result"
    }
   ],
   "source": [
    "%%time\n",
    "\n",
    "STRONG_THR = 0.8\n",
    "\n",
    "history_val = pl.concat(\n",
    "    rows.with_columns(pl.col('article_id_fixed').list.len().alias('NumArticlesHistory')) \\\n",
    "        .explode(['article_id_fixed', 'impression_time_fixed', 'read_time_fixed', 'scroll_percentage_fixed']) \\\n",
    "        .sort(by=['user_id', 'impression_time_fixed']) \\\n",
    "        .with_columns(\n",
    "            pl.col('impression_time_fixed').dt.weekday().alias('weekday'),\n",
    "            pl.col('impression_time_fixed').dt.hour().alias('hour'),\n",
    "        ).join(articles.select(['article_id', 'category', 'is_article_default', 'sentiment_label_int', \n",
    "                                'sentiment_score', 'entity_groups', 'topics']), \n",
    "               left_on='article_id_fixed', right_on='article_id', how='left') \\\n",
    "        .with_columns(\n",
    "            (pl.col('sentiment_label_int') == 0).alias('is_neutral'),\n",
    "            (pl.col('sentiment_label_int') == 1).alias('is_positive'),\n",
    "            (pl.col('sentiment_label_int') == -1).alias('is_negative'),\n",
    "            ((pl.col('sentiment_label_int') == 0) & (pl.col('sentiment_score') > STRONG_THR)).alias('strong_neutral'),\n",
    "            ((pl.col('sentiment_label_int') == 1) & (pl.col('sentiment_score') > STRONG_THR)).alias('strong_positive'),\n",
    "            ((pl.col('sentiment_label_int') == -1) & (pl.col('sentiment_score') > STRONG_THR)).alias('strong_negative'),\n",
    "            pl.col('entity_groups').list.unique(),\n",
    "        ).group_by('user_id').agg(\n",
    "            pl.col('article_id_fixed'),\n",
    "            pl.col('impression_time_fixed'),\n",
    "            pl.col('category'),\n",
    "            pl.col('NumArticlesHistory').first(),\n",
    "            pl.col('read_time_fixed').median().alias('MedianReadTime'),\n",
    "            pl.col('read_time_fixed').max().alias('MaxReadTime'),\n",
    "            pl.col('read_time_fixed').sum().alias('TotalReadTime'),\n",
    "            pl.col('scroll_percentage_fixed').median().alias('MedianScrollPercentage'),\n",
    "            pl.col('scroll_percentage_fixed').max().alias('MaxScrollPercentage'),\n",
    "            (pl.col('is_neutral').sum() / pl.col('NumArticlesHistory').first()).alias('NeutralPct'),\n",
    "            (pl.col('is_positive').sum() / pl.col('NumArticlesHistory').first()).alias('PositivePct'),\n",
    "            (pl.col('is_negative').sum() / pl.col('NumArticlesHistory').first()).alias('NegativePct'),\n",
    "            (pl.col('strong_neutral').sum() / pl.col('NumArticlesHistory').first()).alias('PctStrongNeutral'),\n",
    "            (pl.col('strong_positive').sum() / pl.col('NumArticlesHistory').first()).alias('PctStrongPositive'),\n",
    "            (pl.col('strong_negative').sum() / pl.col('NumArticlesHistory').first()).alias('PctStrongNegative'),\n",
    "            (1 - (pl.col('is_article_default').sum() / pl.col('NumArticlesHistory').first())).alias('PctNotDefaultArticles'),\n",
    "            pl.col('category').mode().alias('MostFrequentCategory'),\n",
    "            pl.col('weekday').mode().alias('MostFrequentWeekday'),\n",
    "            pl.col('hour').mode().alias('MostFrequentHour'),\n",
    "            pl.col('entity_groups').flatten(),\n",
    "            pl.col('topics').flatten().alias('topics_flatten')\n",
    "        ).pipe(add_topics_tf_idf_columns, topics_col='topics_flatten', vectorizer=vectorizer) \\\n",
    "        .drop('topics_flatten').with_columns(\n",
    "            pl.col('MostFrequentCategory').list.first(),\n",
    "            pl.col('MostFrequentWeekday').list.first(),\n",
    "            pl.col('MostFrequentHour').list.first(),\n",
    "        ).with_columns(\n",
    "            (pl.col('entity_groups').list.count_matches(entity) / pl.col('NumArticlesHistory')).alias(f'{entity}Pct')\n",
    "            for entity in unique_entities\n",
    "        ).drop('entity_groups')\n",
    "    for rows in tqdm.tqdm(history_val.iter_slices(1000), total=history_val.shape[0] // 1000)\n",
    ")\n",
    "\n",
    "gc.collect()\n",
    "PrintColor(f\"\\n\" + GetMemUsage(), color = Fore.RED)\n",
    "history_val = reduce_polars_df_memory_size(history_val)\n",
    "history_val.head(2)"
   ]
  },
  {
   "cell_type": "code",
   "execution_count": 47,
   "id": "f1399940",
   "metadata": {
    "execution": {
     "iopub.execute_input": "2024-04-23T17:33:00.835412Z",
     "iopub.status.busy": "2024-04-23T17:33:00.834610Z",
     "iopub.status.idle": "2024-04-23T17:33:02.027646Z",
     "shell.execute_reply": "2024-04-23T17:33:02.026591Z"
    },
    "papermill": {
     "duration": 1.258974,
     "end_time": "2024-04-23T17:33:02.030196",
     "exception": false,
     "start_time": "2024-04-23T17:33:00.771222",
     "status": "completed"
    },
    "tags": []
   },
   "outputs": [],
   "source": [
    "last_history_df = history_val.with_columns(\n",
    "    pl.col('impression_time_fixed').list.max().alias('last_history_impression_time'),\n",
    "    pl.col('article_id_fixed').list.tail(1).alias('last_history_article'),\n",
    ").select(['user_id', 'last_history_impression_time', 'last_history_article'])\n",
    "\n",
    "last_session_time_df = behaviors_val.select(['session_id', 'user_id', 'impression_time', 'article_ids_inview', 'article_ids_clicked']) \\\n",
    "    .group_by('session_id').agg(\n",
    "        pl.col('user_id').first(), \n",
    "        pl.col('impression_time').max().alias('session_time'), \n",
    "        pl.col('article_ids_inview').flatten().alias('all_seen_articles'),\n",
    "        (pl.col('impression_time').max() - pl.col('impression_time').min()).dt.total_minutes().alias('session_duration'),\n",
    "    ).with_columns(\n",
    "        pl.col(['session_time', 'session_duration']).shift(1).over('user_id').name.prefix('last_'),\n",
    "        pl.col('all_seen_articles').list.unique().shift(1).over('user_id'),\n",
    "        pl.col('session_duration').rolling_mean(100, min_periods=1).over('user_id').alias('mean_prev_sessions_duration'),\n",
    "    ).with_columns(pl.col(['last_session_duration']).fill_null(0)) \\\n",
    "    .join(last_history_df, on='user_id', how='left') \\\n",
    "    .with_columns(\n",
    "        pl.col('last_session_time').fill_null(pl.col('last_history_impression_time')),\n",
    "        pl.col('all_seen_articles').fill_null(pl.col('last_history_article')),\n",
    "    ).select(['session_id', 'last_session_time', 'last_session_duration',\n",
    "              'all_seen_articles', 'mean_prev_sessions_duration'])"
   ]
  },
  {
   "cell_type": "code",
   "execution_count": 48,
   "id": "66d9d49a",
   "metadata": {
    "execution": {
     "iopub.execute_input": "2024-04-23T17:33:02.153202Z",
     "iopub.status.busy": "2024-04-23T17:33:02.152771Z",
     "iopub.status.idle": "2024-04-23T17:34:15.749027Z",
     "shell.execute_reply": "2024-04-23T17:34:15.747914Z"
    },
    "papermill": {
     "duration": 73.66051,
     "end_time": "2024-04-23T17:34:15.751332",
     "exception": false,
     "start_time": "2024-04-23T17:33:02.090822",
     "status": "completed"
    },
    "tags": []
   },
   "outputs": [
    {
     "name": "stderr",
     "output_type": "stream",
     "text": [
      "2929it [00:12, 230.45it/s]                          \n"
     ]
    },
    {
     "name": "stdout",
     "output_type": "stream",
     "text": [
      "\u001b[1m\u001b[31m\n",
      "RAM memory GB usage = 10.37\u001b[0m\n",
      "Memory usage of dataframe is 440.29 MB\n",
      "Memory usage after optimization is: 311.80 MB\n",
      "Decreased by 29.2%\n",
      "\u001b[1m\u001b[31m\n",
      "RAM memory GB usage = 10.24\u001b[0m\n",
      "CPU times: user 2min 49s, sys: 51.1 s, total: 3min 40s\n",
      "Wall time: 1min 13s\n"
     ]
    },
    {
     "data": {
      "text/html": [
       "<div><style>\n",
       ".dataframe > thead > tr,\n",
       ".dataframe > tbody > tr {\n",
       "  text-align: right;\n",
       "  white-space: pre-wrap;\n",
       "}\n",
       "</style>\n",
       "<small>shape: (5, 46)</small><table border=\"1\" class=\"dataframe\"><thead><tr><th>impression_id</th><th>article</th><th>impression_time</th><th>target</th><th>device_type</th><th>read_time</th><th>scroll_percentage</th><th>user_id</th><th>is_sso_user</th><th>gender</th><th>age</th><th>is_subscriber</th><th>trendiness_score</th><th>endorsement_10h</th><th>weekday</th><th>hour</th><th>premium</th><th>category</th><th>sentiment_score</th><th>sentiment_label</th><th>num_images</th><th>title_len</th><th>subtitle_len</th><th>body_len</th><th>num_topics</th><th>trendiness_score_category</th><th>article_delay_days</th><th>article_delay_hours</th><th>Entity_PER_Present</th><th>Entity_EVENT_Present</th><th>Entity_LOC_Present</th><th>Entity_ORG_Present</th><th>Entity_PROD_Present</th><th>Entity_MISC_Present</th><th>last_session_duration</th><th>mean_prev_sessions_duration</th><th>last_session_time_hour_diff</th><th>is_new_article</th><th>is_already_seen_article</th><th>yesterday_category_daily_pct</th><th>total_ner_svd_scores</th><th>mean_ner_svd_scores</th><th>max_ner_svd_scores</th><th>total_ner_item_knn_scores</th><th>mean_ner_item_knn_scores</th><th>max_ner_item_knn_scores</th></tr><tr><td>u32</td><td>i32</td><td>date</td><td>i8</td><td>i8</td><td>f32</td><td>f32</td><td>u32</td><td>bool</td><td>i8</td><td>i8</td><td>bool</td><td>i16</td><td>u16</td><td>i8</td><td>i8</td><td>bool</td><td>i16</td><td>f32</td><td>str</td><td>u32</td><td>u8</td><td>u8</td><td>u16</td><td>u32</td><td>i8</td><td>i16</td><td>i32</td><td>bool</td><td>bool</td><td>bool</td><td>bool</td><td>bool</td><td>bool</td><td>i8</td><td>f32</td><td>i16</td><td>bool</td><td>bool</td><td>f32</td><td>f32</td><td>f32</td><td>f32</td><td>f32</td><td>f32</td><td>f32</td></tr></thead><tbody><tr><td>96791</td><td>9784710</td><td>2023-05-27</td><td>0</td><td>2</td><td>9.0</td><td>null</td><td>22548</td><td>false</td><td>2</td><td>null</td><td>false</td><td>465</td><td>1278</td><td>7</td><td>4</td><td>false</td><td>142</td><td>0.8887</td><td>&quot;Positive&quot;</td><td>2</td><td>8</td><td>5</td><td>201</td><td>6</td><td>108</td><td>0</td><td>6</td><td>true</td><td>false</td><td>true</td><td>true</td><td>false</td><td>false</td><td>2</td><td>5.3</td><td>-63</td><td>true</td><td>false</td><td>0.357143</td><td>0.144836</td><td>0.138619</td><td>0.277273</td><td>0.156105</td><td>0.148225</td><td>0.251877</td></tr><tr><td>96798</td><td>9782884</td><td>2023-05-27</td><td>0</td><td>2</td><td>46.0</td><td>null</td><td>22548</td><td>false</td><td>2</td><td>null</td><td>false</td><td>127</td><td>1960</td><td>7</td><td>4</td><td>false</td><td>512</td><td>0.9475</td><td>&quot;Negative&quot;</td><td>7</td><td>5</td><td>24</td><td>458</td><td>4</td><td>11</td><td>0</td><td>7</td><td>true</td><td>false</td><td>true</td><td>true</td><td>true</td><td>false</td><td>17</td><td>9.0</td><td>-71</td><td>true</td><td>false</td><td>0.008929</td><td>0.019968</td><td>0.02553</td><td>0.056031</td><td>0.020486</td><td>0.02673</td><td>0.062093</td></tr><tr><td>96798</td><td>9784273</td><td>2023-05-27</td><td>0</td><td>2</td><td>46.0</td><td>null</td><td>22548</td><td>false</td><td>2</td><td>null</td><td>false</td><td>449</td><td>1596</td><td>7</td><td>4</td><td>false</td><td>142</td><td>0.5536</td><td>&quot;Neutral&quot;</td><td>4</td><td>12</td><td>26</td><td>433</td><td>6</td><td>108</td><td>0</td><td>10</td><td>true</td><td>false</td><td>true</td><td>false</td><td>false</td><td>false</td><td>17</td><td>9.0</td><td>-71</td><td>true</td><td>false</td><td>0.357143</td><td>0.033943</td><td>0.037974</td><td>0.05818</td><td>0.027859</td><td>0.031807</td><td>0.056041</td></tr><tr><td>96798</td><td>9784702</td><td>2023-05-27</td><td>0</td><td>2</td><td>46.0</td><td>null</td><td>22548</td><td>false</td><td>2</td><td>null</td><td>false</td><td>338</td><td>1794</td><td>7</td><td>4</td><td>false</td><td>142</td><td>0.7025</td><td>&quot;Positive&quot;</td><td>1</td><td>7</td><td>19</td><td>208</td><td>4</td><td>108</td><td>0</td><td>7</td><td>true</td><td>true</td><td>true</td><td>true</td><td>false</td><td>false</td><td>17</td><td>9.0</td><td>-71</td><td>true</td><td>false</td><td>0.357143</td><td>0.015798</td><td>0.01571</td><td>0.02337</td><td>0.014901</td><td>0.015123</td><td>0.025973</td></tr><tr><td>96798</td><td>9784406</td><td>2023-05-27</td><td>0</td><td>2</td><td>46.0</td><td>null</td><td>22548</td><td>false</td><td>2</td><td>null</td><td>false</td><td>181</td><td>1517</td><td>7</td><td>4</td><td>true</td><td>414</td><td>0.592</td><td>&quot;Neutral&quot;</td><td>18</td><td>6</td><td>16</td><td>1</td><td>3</td><td>36</td><td>0</td><td>11</td><td>false</td><td>false</td><td>false</td><td>false</td><td>false</td><td>false</td><td>17</td><td>9.0</td><td>-71</td><td>true</td><td>false</td><td>0.107143</td><td>0.0</td><td>0.0</td><td>0.0</td><td>0.0</td><td>0.0</td><td>0.0</td></tr></tbody></table></div>"
      ],
      "text/plain": [
       "shape: (5, 46)\n",
       "┌────────────┬─────────┬────────────┬────────┬───┬────────────┬────────────┬───────────┬───────────┐\n",
       "│ impression ┆ article ┆ impression ┆ target ┆ … ┆ max_ner_sv ┆ total_ner_ ┆ mean_ner_ ┆ max_ner_i │\n",
       "│ _id        ┆ ---     ┆ _time      ┆ ---    ┆   ┆ d_scores   ┆ item_knn_s ┆ item_knn_ ┆ tem_knn_s │\n",
       "│ ---        ┆ i32     ┆ ---        ┆ i8     ┆   ┆ ---        ┆ cores      ┆ scores    ┆ cores     │\n",
       "│ u32        ┆         ┆ date       ┆        ┆   ┆ f32        ┆ ---        ┆ ---       ┆ ---       │\n",
       "│            ┆         ┆            ┆        ┆   ┆            ┆ f32        ┆ f32       ┆ f32       │\n",
       "╞════════════╪═════════╪════════════╪════════╪═══╪════════════╪════════════╪═══════════╪═══════════╡\n",
       "│ 96791      ┆ 9784710 ┆ 2023-05-27 ┆ 0      ┆ … ┆ 0.277273   ┆ 0.156105   ┆ 0.148225  ┆ 0.251877  │\n",
       "│ 96798      ┆ 9782884 ┆ 2023-05-27 ┆ 0      ┆ … ┆ 0.056031   ┆ 0.020486   ┆ 0.02673   ┆ 0.062093  │\n",
       "│ 96798      ┆ 9784273 ┆ 2023-05-27 ┆ 0      ┆ … ┆ 0.05818    ┆ 0.027859   ┆ 0.031807  ┆ 0.056041  │\n",
       "│ 96798      ┆ 9784702 ┆ 2023-05-27 ┆ 0      ┆ … ┆ 0.02337    ┆ 0.014901   ┆ 0.015123  ┆ 0.025973  │\n",
       "│ 96798      ┆ 9784406 ┆ 2023-05-27 ┆ 0      ┆ … ┆ 0.0        ┆ 0.0        ┆ 0.0       ┆ 0.0       │\n",
       "└────────────┴─────────┴────────────┴────────┴───┴────────────┴────────────┴───────────┴───────────┘"
      ]
     },
     "execution_count": 48,
     "metadata": {},
     "output_type": "execute_result"
    }
   ],
   "source": [
    "%%time\n",
    "\n",
    "NPRATIO = 2\n",
    "\n",
    "# .pipe(add_mean_delays_features, articles=articles, history=history_val) \\\n",
    "# .pipe(add_history_trendiness_scores_feature, history=history_val, articles=articles) \\\n",
    "# .pipe(add_window_features,history = history_val, articles=articles) \\\n",
    "\n",
    "# dropping duplicates that can occur because of sampling strategy\n",
    "val_ds = behaviors_val.pipe(create_binary_labels_column, shuffle=True, seed=123) \\\n",
    "    .with_columns(pl.col('gender').fill_null(2)) \\\n",
    "    .select(['impression_id', 'article_ids_inview', 'impression_time', 'labels', \n",
    "             'device_type', 'read_time', 'scroll_percentage', 'user_id', 'is_sso_user', 'gender',\n",
    "             'age', 'is_subscriber', 'session_id']) \\\n",
    "    .explode(['article_ids_inview', 'labels']) \\\n",
    "    .rename({'article_ids_inview': 'article', 'labels': 'target'}) \\\n",
    "    .with_columns(pl.col('article').cast(pl.Int32)) \\\n",
    "    .pipe(add_trendiness_feature, articles=articles, period='3d') \\\n",
    "    .pipe(add_article_endorsement_feature,period='10h') \\\n",
    "    .unique(['impression_id', 'article']) \\\n",
    "    .with_columns(\n",
    "        pl.col('impression_time').dt.weekday().alias('weekday'),\n",
    "        pl.col('impression_time').dt.hour().alias('hour'),\n",
    "        pl.col('article').cast(pl.Int32),\n",
    "    ).join(articles.select(['article_id', 'premium', 'published_time', 'category',\n",
    "                            'sentiment_score', 'sentiment_label', 'entity_groups',\n",
    "                            'num_images', 'title_len', 'subtitle_len', 'body_len','num_topics']),\n",
    "           left_on='article', right_on='article_id', how='left') \\\n",
    "    .pipe(add_trendiness_feature_categories,articles=articles, period=\"3d\") \\\n",
    "    .with_columns(\n",
    "        (pl.col('impression_time') - pl.col('published_time')).dt.total_days().alias('article_delay_days'),\n",
    "        (pl.col('impression_time') - pl.col('published_time')).dt.total_hours().alias('article_delay_hours')\n",
    "    ).with_columns(\n",
    "        pl.col('entity_groups').list.contains(entity).alias(f'Entity_{entity}_Present')\n",
    "        for entity in unique_entities\n",
    "    ).drop('entity_groups') \\\n",
    "    .join(last_session_time_df, on='session_id', how='left').with_columns(\n",
    "        (pl.col('impression_time') - pl.col('last_session_time')).dt.total_hours().alias('last_session_time_hour_diff'),\n",
    "        ((pl.col('last_session_time') - pl.col('published_time')).dt.total_hours() > 0).alias('is_new_article'),\n",
    "        pl.col('all_seen_articles').list.contains(pl.col('article')).alias('is_already_seen_article'),\n",
    "    ).drop(['published_time', 'session_id', 'all_seen_articles', 'last_session_time']) \\\n",
    "    .join(published_category_popularity, how='left', right_on=['published_date', 'category'],\n",
    "          left_on=[pl.col('impression_time').dt.date() - pl.duration(days=1), 'category']) \\\n",
    "    .rename({'category_daily_pct': 'yesterday_category_daily_pct'}) \\\n",
    "    .with_columns(pl.col('yesterday_category_daily_pct').fill_null(0)) \\\n",
    "    .join(behaviors_ner_scores, on=['impression_id', 'article'], how='left')\n",
    "\n",
    "gc.collect()\n",
    "PrintColor(f\"\\n\" + GetMemUsage(), color = Fore.RED)\n",
    "\n",
    "val_ds = reduce_polars_df_memory_size(val_ds)\n",
    "PrintColor(f\"\\n\" + GetMemUsage(), color = Fore.RED)\n",
    "val_ds.head()"
   ]
  },
  {
   "cell_type": "code",
   "execution_count": 49,
   "id": "257f35bc",
   "metadata": {
    "execution": {
     "iopub.execute_input": "2024-04-23T17:34:15.891760Z",
     "iopub.status.busy": "2024-04-23T17:34:15.891324Z",
     "iopub.status.idle": "2024-04-23T17:34:15.898483Z",
     "shell.execute_reply": "2024-04-23T17:34:15.897206Z"
    },
    "papermill": {
     "duration": 0.080078,
     "end_time": "2024-04-23T17:34:15.900821",
     "exception": false,
     "start_time": "2024-04-23T17:34:15.820743",
     "status": "completed"
    },
    "tags": []
   },
   "outputs": [
    {
     "data": {
      "text/plain": [
       "(2928942, 46)"
      ]
     },
     "execution_count": 49,
     "metadata": {},
     "output_type": "execute_result"
    }
   ],
   "source": [
    "val_ds.shape"
   ]
  },
  {
   "cell_type": "code",
   "execution_count": 50,
   "id": "65ef6907",
   "metadata": {
    "execution": {
     "iopub.execute_input": "2024-04-23T17:34:16.044604Z",
     "iopub.status.busy": "2024-04-23T17:34:16.044223Z",
     "iopub.status.idle": "2024-04-23T18:11:21.114804Z",
     "shell.execute_reply": "2024-04-23T18:11:21.113464Z"
    },
    "papermill": {
     "duration": 2225.146205,
     "end_time": "2024-04-23T18:11:21.117189",
     "exception": false,
     "start_time": "2024-04-23T17:34:15.970984",
     "status": "completed"
    },
    "tags": []
   },
   "outputs": [
    {
     "name": "stderr",
     "output_type": "stream",
     "text": [
      "293it [37:01,  7.58s/it]\n"
     ]
    },
    {
     "name": "stdout",
     "output_type": "stream",
     "text": [
      "Memory usage of dataframe is 1502.77 MB\n",
      "Memory usage after optimization is: 1069.82 MB\n",
      "Decreased by 28.8%\n",
      "\u001b[1m\u001b[31m\n",
      "RAM memory GB usage = 12.47\u001b[0m\n"
     ]
    },
    {
     "data": {
      "text/html": [
       "<div><style>\n",
       ".dataframe > thead > tr,\n",
       ".dataframe > tbody > tr {\n",
       "  text-align: right;\n",
       "  white-space: pre-wrap;\n",
       "}\n",
       "</style>\n",
       "<small>shape: (5, 118)</small><table border=\"1\" class=\"dataframe\"><thead><tr><th>impression_id</th><th>article</th><th>target</th><th>device_type</th><th>read_time</th><th>scroll_percentage</th><th>user_id</th><th>is_sso_user</th><th>gender</th><th>age</th><th>is_subscriber</th><th>trendiness_score</th><th>endorsement_10h</th><th>weekday</th><th>hour</th><th>premium</th><th>category</th><th>sentiment_score</th><th>sentiment_label</th><th>num_images</th><th>title_len</th><th>subtitle_len</th><th>body_len</th><th>num_topics</th><th>trendiness_score_category</th><th>article_delay_days</th><th>article_delay_hours</th><th>Entity_PER_Present</th><th>Entity_EVENT_Present</th><th>Entity_LOC_Present</th><th>Entity_ORG_Present</th><th>Entity_PROD_Present</th><th>Entity_MISC_Present</th><th>total_ner_svd_scores</th><th>mean_ner_svd_scores</th><th>max_ner_svd_scores</th><th>total_ner_item_knn_scores</th><th>&hellip;</th><th>MostFrequentWeekday</th><th>MostFrequentHour</th><th>PERPct</th><th>EVENTPct</th><th>LOCPct</th><th>ORGPct</th><th>PRODPct</th><th>MISCPct</th><th>topics_cosine</th><th>IsFavouriteCategory</th><th>NumberDifferentCategories</th><th>PctCategoryMatches</th><th>Category_ferie_Pct</th><th>Category_bibliotek_Pct</th><th>Category_side9_Pct</th><th>Category_penge_Pct</th><th>Category_underholdning_Pct</th><th>Category_krimi_Pct</th><th>Category_podcast_Pct</th><th>Category_horoskoper_Pct</th><th>Category_haandvaerkeren_Pct</th><th>Category_musik_Pct</th><th>Category_vin_Pct</th><th>Category_plus_Pct</th><th>Category_dagsorden_Pct</th><th>Category_forbrug_Pct</th><th>Category_auto_Pct</th><th>Category_opinionen_Pct</th><th>Category_biler_Pct</th><th>Category_sport_Pct</th><th>Category_services_Pct</th><th>Category_incoming_Pct</th><th>Category_nyheder_Pct</th><th>Category_om_ekstra_bladet_Pct</th><th>Category_video_Pct</th><th>Category_sex_og_samliv_Pct</th><th>Category_nationen_Pct</th></tr><tr><td>u32</td><td>i32</td><td>i8</td><td>i8</td><td>f32</td><td>f32</td><td>u32</td><td>bool</td><td>i8</td><td>i8</td><td>bool</td><td>i16</td><td>u16</td><td>i8</td><td>i8</td><td>bool</td><td>i16</td><td>f32</td><td>str</td><td>u32</td><td>u8</td><td>u8</td><td>u16</td><td>u32</td><td>i8</td><td>i16</td><td>i32</td><td>bool</td><td>bool</td><td>bool</td><td>bool</td><td>bool</td><td>bool</td><td>f32</td><td>f32</td><td>f32</td><td>f32</td><td>&hellip;</td><td>i8</td><td>i8</td><td>f32</td><td>f32</td><td>f32</td><td>f32</td><td>f32</td><td>f32</td><td>f32</td><td>bool</td><td>u8</td><td>f32</td><td>f32</td><td>f32</td><td>f32</td><td>f32</td><td>f32</td><td>f32</td><td>f32</td><td>f32</td><td>f32</td><td>f32</td><td>f32</td><td>f32</td><td>f32</td><td>f32</td><td>f32</td><td>f32</td><td>f32</td><td>f32</td><td>f32</td><td>f32</td><td>f32</td><td>f32</td><td>f32</td><td>f32</td><td>f32</td></tr></thead><tbody><tr><td>96791</td><td>9784710</td><td>0</td><td>2</td><td>9.0</td><td>null</td><td>22548</td><td>false</td><td>2</td><td>null</td><td>false</td><td>465</td><td>1278</td><td>7</td><td>4</td><td>false</td><td>142</td><td>0.8887</td><td>&quot;Positive&quot;</td><td>2</td><td>8</td><td>5</td><td>201</td><td>6</td><td>108</td><td>0</td><td>6</td><td>true</td><td>false</td><td>true</td><td>true</td><td>false</td><td>false</td><td>0.144836</td><td>0.138619</td><td>0.277273</td><td>0.156105</td><td>&hellip;</td><td>1</td><td>9</td><td>0.838462</td><td>0.238462</td><td>0.738462</td><td>0.930769</td><td>0.3</td><td>0.184615</td><td>0.55135</td><td>false</td><td>7</td><td>0.953846</td><td>0.0</td><td>0.0</td><td>0.0</td><td>0.038462</td><td>0.169231</td><td>0.161538</td><td>0.0</td><td>0.0</td><td>0.0</td><td>0.015385</td><td>0.0</td><td>0.0</td><td>0.0</td><td>0.023077</td><td>0.0</td><td>0.0</td><td>0.0</td><td>0.269231</td><td>0.0</td><td>0.0</td><td>0.323077</td><td>0.0</td><td>0.0</td><td>0.0</td><td>0.0</td></tr><tr><td>96808</td><td>7184889</td><td>0</td><td>2</td><td>22.0</td><td>null</td><td>22548</td><td>false</td><td>2</td><td>null</td><td>false</td><td>37</td><td>42</td><td>7</td><td>4</td><td>true</td><td>565</td><td>0.854</td><td>&quot;Neutral&quot;</td><td>4</td><td>8</td><td>26</td><td>1645</td><td>3</td><td>1</td><td>1802</td><td>43267</td><td>false</td><td>false</td><td>false</td><td>false</td><td>false</td><td>false</td><td>0.0</td><td>0.0</td><td>0.0</td><td>0.0</td><td>&hellip;</td><td>1</td><td>9</td><td>0.838462</td><td>0.238462</td><td>0.738462</td><td>0.930769</td><td>0.3</td><td>0.184615</td><td>0.060205</td><td>false</td><td>7</td><td>0.946154</td><td>0.0</td><td>0.0</td><td>0.0</td><td>0.038462</td><td>0.169231</td><td>0.161538</td><td>0.0</td><td>0.0</td><td>0.0</td><td>0.015385</td><td>0.0</td><td>0.0</td><td>0.0</td><td>0.023077</td><td>0.0</td><td>0.0</td><td>0.0</td><td>0.269231</td><td>0.0</td><td>0.0</td><td>0.323077</td><td>0.0</td><td>0.0</td><td>0.0</td><td>0.0</td></tr><tr><td>96821</td><td>9784575</td><td>0</td><td>2</td><td>43.0</td><td>null</td><td>22548</td><td>false</td><td>2</td><td>null</td><td>false</td><td>217</td><td>2938</td><td>7</td><td>4</td><td>false</td><td>414</td><td>0.9949</td><td>&quot;Negative&quot;</td><td>1</td><td>7</td><td>25</td><td>285</td><td>5</td><td>36</td><td>0</td><td>9</td><td>true</td><td>false</td><td>false</td><td>true</td><td>true</td><td>false</td><td>0.025202</td><td>0.028868</td><td>0.019387</td><td>0.014938</td><td>&hellip;</td><td>1</td><td>9</td><td>0.838462</td><td>0.238462</td><td>0.738462</td><td>0.930769</td><td>0.3</td><td>0.184615</td><td>0.32087</td><td>false</td><td>7</td><td>0.953846</td><td>0.0</td><td>0.0</td><td>0.0</td><td>0.038462</td><td>0.169231</td><td>0.161538</td><td>0.0</td><td>0.0</td><td>0.0</td><td>0.015385</td><td>0.0</td><td>0.0</td><td>0.0</td><td>0.023077</td><td>0.0</td><td>0.0</td><td>0.0</td><td>0.269231</td><td>0.0</td><td>0.0</td><td>0.323077</td><td>0.0</td><td>0.0</td><td>0.0</td><td>0.0</td></tr><tr><td>97413</td><td>9769155</td><td>0</td><td>2</td><td>24.0</td><td>null</td><td>25554</td><td>false</td><td>2</td><td>null</td><td>false</td><td>68</td><td>1870</td><td>7</td><td>4</td><td>false</td><td>118</td><td>0.5604</td><td>&quot;Negative&quot;</td><td>3</td><td>16</td><td>40</td><td>576</td><td>5</td><td>103</td><td>0</td><td>7</td><td>true</td><td>false</td><td>true</td><td>true</td><td>false</td><td>false</td><td>0.172451</td><td>0.109735</td><td>0.152993</td><td>0.1409</td><td>&hellip;</td><td>1</td><td>4</td><td>0.869936</td><td>0.232409</td><td>0.799574</td><td>0.910448</td><td>0.202559</td><td>0.251599</td><td>0.107166</td><td>true</td><td>8</td><td>0.985075</td><td>0.0</td><td>0.0</td><td>0.0</td><td>0.040512</td><td>0.081023</td><td>0.138593</td><td>0.0</td><td>0.0</td><td>0.0</td><td>0.01919</td><td>0.0</td><td>0.0</td><td>0.0</td><td>0.006397</td><td>0.0</td><td>0.0</td><td>0.0</td><td>0.236674</td><td>0.0</td><td>0.0</td><td>0.441365</td><td>0.0</td><td>0.0</td><td>0.0</td><td>0.036247</td></tr><tr><td>97415</td><td>9784575</td><td>0</td><td>2</td><td>5.0</td><td>null</td><td>25554</td><td>false</td><td>2</td><td>null</td><td>false</td><td>217</td><td>2884</td><td>7</td><td>4</td><td>false</td><td>414</td><td>0.9949</td><td>&quot;Negative&quot;</td><td>1</td><td>7</td><td>25</td><td>285</td><td>5</td><td>36</td><td>0</td><td>9</td><td>true</td><td>false</td><td>false</td><td>true</td><td>true</td><td>false</td><td>0.116495</td><td>0.069054</td><td>0.07281</td><td>0.133295</td><td>&hellip;</td><td>1</td><td>4</td><td>0.869936</td><td>0.232409</td><td>0.799574</td><td>0.910448</td><td>0.202559</td><td>0.251599</td><td>0.183848</td><td>false</td><td>8</td><td>0.985075</td><td>0.0</td><td>0.0</td><td>0.0</td><td>0.040512</td><td>0.081023</td><td>0.138593</td><td>0.0</td><td>0.0</td><td>0.0</td><td>0.01919</td><td>0.0</td><td>0.0</td><td>0.0</td><td>0.006397</td><td>0.0</td><td>0.0</td><td>0.0</td><td>0.236674</td><td>0.0</td><td>0.0</td><td>0.441365</td><td>0.0</td><td>0.0</td><td>0.0</td><td>0.036247</td></tr></tbody></table></div>"
      ],
      "text/plain": [
       "shape: (5, 118)\n",
       "┌────────────┬─────────┬────────┬────────────┬───┬────────────┬────────────┬───────────┬───────────┐\n",
       "│ impression ┆ article ┆ target ┆ device_typ ┆ … ┆ Category_o ┆ Category_v ┆ Category_ ┆ Category_ │\n",
       "│ _id        ┆ ---     ┆ ---    ┆ e          ┆   ┆ m_ekstra_b ┆ ideo_Pct   ┆ sex_og_sa ┆ nationen_ │\n",
       "│ ---        ┆ i32     ┆ i8     ┆ ---        ┆   ┆ ladet_Pct  ┆ ---        ┆ mliv_Pct  ┆ Pct       │\n",
       "│ u32        ┆         ┆        ┆ i8         ┆   ┆ ---        ┆ f32        ┆ ---       ┆ ---       │\n",
       "│            ┆         ┆        ┆            ┆   ┆ f32        ┆            ┆ f32       ┆ f32       │\n",
       "╞════════════╪═════════╪════════╪════════════╪═══╪════════════╪════════════╪═══════════╪═══════════╡\n",
       "│ 96791      ┆ 9784710 ┆ 0      ┆ 2          ┆ … ┆ 0.0        ┆ 0.0        ┆ 0.0       ┆ 0.0       │\n",
       "│ 96808      ┆ 7184889 ┆ 0      ┆ 2          ┆ … ┆ 0.0        ┆ 0.0        ┆ 0.0       ┆ 0.0       │\n",
       "│ 96821      ┆ 9784575 ┆ 0      ┆ 2          ┆ … ┆ 0.0        ┆ 0.0        ┆ 0.0       ┆ 0.0       │\n",
       "│ 97413      ┆ 9769155 ┆ 0      ┆ 2          ┆ … ┆ 0.0        ┆ 0.0        ┆ 0.0       ┆ 0.036247  │\n",
       "│ 97415      ┆ 9784575 ┆ 0      ┆ 2          ┆ … ┆ 0.0        ┆ 0.0        ┆ 0.0       ┆ 0.036247  │\n",
       "└────────────┴─────────┴────────┴────────────┴───┴────────────┴────────────┴───────────┴───────────┘"
      ]
     },
     "execution_count": 50,
     "metadata": {},
     "output_type": "execute_result"
    }
   ],
   "source": [
    "prev_columns = [c for c in val_ds.columns if c not in ['impression_id', 'article', 'impression_time']]\n",
    "\n",
    "val_ds = pl.concat(\n",
    "    rows.join(history_val.select(['user_id', 'article_id_fixed', 'impression_time_fixed']), on='user_id', how='left') \\\n",
    "        .join(articles.select(['article_id', 'topics', 'entity_groups', 'topics_idf'] + topic_model_columns), \n",
    "              left_on='article', right_on='article_id', how='left') \\\n",
    "        .explode(['article_id_fixed', 'impression_time_fixed']) \\\n",
    "        .join(articles.select(['article_id', 'topics', 'entity_groups'] + topic_model_columns), \n",
    "              left_on='article_id_fixed', right_on='article_id', how='left') \\\n",
    "        .rename({'topics_right': 'topics_history', 'entity_groups_right': 'entity_groups_history'}) \\\n",
    "        .rename({f'topic_model_embedding_{i}_right': f'topic_model_embedding_{i}_history' for i in range(N_COMPONENTS)}) \\\n",
    "        .with_columns(\n",
    "            # 1/delay gives the weight for the weighted mean of the lda embeddings\n",
    "            (1 / (pl.col('impression_time') - pl.col('impression_time_fixed')).dt.total_hours().sqrt()).alias('history_weight'),\n",
    "            (pl.col(\"topics\").list.set_intersection(pl.col(\"topics_history\")).list.len().truediv(\n",
    "                pl.col(\"topics\").list.set_union(pl.col(\"topics_history\")).list.len()\n",
    "            )).alias(\"JS\"),\n",
    "            pl.col('entity_groups').list.set_intersection(pl.col('entity_groups_history')).list.len().alias('common_entities'),\n",
    "        ).drop(['entity_groups_history', 'entity_groups', 'topics', 'topics_history']) \\\n",
    "        .with_columns(\n",
    "            # summing delays to normalize them before weighted mean\n",
    "            pl.col('history_weight').sum().over(['impression_id', 'article']).alias('history_weight_sum'),\n",
    "            *[pl.col(x).mul(pl.col(f'{x}_history')).alias(f'{x}_dot') for x in topic_model_columns],\n",
    "            *[pl.col(x).mul(pl.col(x)) for x in topic_model_columns],\n",
    "            *[pl.col(f'{x}_history').mul(pl.col(f'{x}_history')).alias(f'{x}_history_square') for x in topic_model_columns],\n",
    "        ).with_columns(\n",
    "            # weights now sum to 1\n",
    "            pl.col('history_weight').truediv(pl.col('history_weight_sum')),\n",
    "            pl.sum_horizontal(topic_model_columns).sqrt().alias('topic_model_norm'),\n",
    "            pl.sum_horizontal([f'{x}_history_square' for x in topic_model_columns]).sqrt().alias('topic_model_history_norm'),\n",
    "            pl.sum_horizontal([f'{x}_dot' for x in topic_model_columns]).alias('topic_model_dot'),\n",
    "        ).with_columns(\n",
    "            *[pl.col(f'{x}_history').mul(pl.col('history_weight')).alias(f'{x}_history_weighted') for i, x in enumerate(topic_model_columns)],\n",
    "            pl.col('topic_model_dot').truediv(pl.col('topic_model_norm').mul('topic_model_history_norm')).alias('topic_model_cosine')\n",
    "        ).group_by(['impression_id', 'article']).agg(\n",
    "            pl.col(prev_train_columns).first(),\n",
    "            pl.col('topics_idf').first(),\n",
    "            pl.col('common_entities').mean().alias('MeanCommonEntities'),\n",
    "            pl.col('common_entities').max().alias('MaxCommonEntities'),\n",
    "            pl.col(\"JS\").mean().alias(\"mean_JS\"),\n",
    "            pl.col(\"JS\").min().alias(\"min_JS\"),\n",
    "            pl.col(\"JS\").max().alias(\"max_JS\"),\n",
    "            pl.col(\"JS\").std().alias(\"std_JS\"),\n",
    "            pl.col(\"JS\").mul(pl.col(\"history_weight\")).sum().alias(\"weighted_mean_JS\"),\n",
    "            pl.col(\"topic_model_cosine\").mean().alias(\"mean_topic_model_cosine\"),\n",
    "            pl.col(\"topic_model_cosine\").min().alias(\"min_topic_model_cosine\"),\n",
    "            pl.col(\"topic_model_cosine\").max().alias(\"max_topic_model_cosine\"),\n",
    "            pl.col(\"topic_model_cosine\").std().alias(\"std_topic_model_cosine\"),\n",
    "            pl.col(\"topic_model_cosine\").mul(pl.col(\"history_weight\")).sum().alias(\"weighted_mean_topic_model_cosine\"),\n",
    "            *[pl.col(f'{x}_history').mean().alias(f'lda_{i}_history_mean') for i, x in enumerate(topic_model_columns)],\n",
    "            *[pl.col(f'{x}_history_weighted').sum().alias(f'lda_{i}_history_weighted_mean') for i, x in enumerate(topic_model_columns)]\n",
    "        ).join(history_val.drop(['article_id_fixed', 'impression_time_fixed']), on='user_id', how='left') \\\n",
    "        .with_columns(\n",
    "            pl.struct(['topics_idf', 'topics_flatten_tf_idf']).map_elements(\n",
    "                lambda x: cosine_similarity(x['topics_idf'], x['topics_flatten_tf_idf']), return_dtype=pl.Float64\n",
    "            ).cast(pl.Float32).alias('topics_cosine'),\n",
    "            (pl.col('category') == pl.col('MostFrequentCategory')).alias('IsFavouriteCategory'),\n",
    "            pl.col('category_right').list.n_unique().alias('NumberDifferentCategories'),\n",
    "            list_pct_matches_with_col('category_right', 'category').alias('PctCategoryMatches'),\n",
    "        ).with_columns(\n",
    "            [list_pct_matches_with_constant('category_right', c).alias(f'Category_{c_str}_Pct')\n",
    "             for c, c_str in unique_categories.items()]\n",
    "        ).drop(['topics_idf', 'topics_flatten', 'topics_flatten_tf_idf', 'category_right'])\n",
    "    for rows in tqdm.tqdm(val_ds.iter_slices(10000), total=val_ds.shape[0] // 10000)\n",
    ")\n",
    "\n",
    "val_ds = reduce_polars_df_memory_size(val_ds)\n",
    "PrintColor(f\"\\n\" + GetMemUsage(), color = Fore.RED)\n",
    "val_ds.head()"
   ]
  },
  {
   "cell_type": "code",
   "execution_count": 51,
   "id": "b03902d5",
   "metadata": {
    "execution": {
     "iopub.execute_input": "2024-04-23T18:11:21.297892Z",
     "iopub.status.busy": "2024-04-23T18:11:21.297435Z",
     "iopub.status.idle": "2024-04-23T18:11:21.626148Z",
     "shell.execute_reply": "2024-04-23T18:11:21.624858Z"
    },
    "papermill": {
     "duration": 0.421429,
     "end_time": "2024-04-23T18:11:21.628355",
     "exception": false,
     "start_time": "2024-04-23T18:11:21.206926",
     "status": "completed"
    },
    "tags": []
   },
   "outputs": [
    {
     "data": {
      "text/plain": [
       "0"
      ]
     },
     "execution_count": 51,
     "metadata": {},
     "output_type": "execute_result"
    }
   ],
   "source": [
    "del history_val\n",
    "del articles\n",
    "del behaviors_val\n",
    "\n",
    "gc.collect()"
   ]
  },
  {
   "cell_type": "code",
   "execution_count": 52,
   "id": "3f3f71e6",
   "metadata": {
    "execution": {
     "iopub.execute_input": "2024-04-23T18:11:21.808072Z",
     "iopub.status.busy": "2024-04-23T18:11:21.807656Z",
     "iopub.status.idle": "2024-04-23T18:11:21.815078Z",
     "shell.execute_reply": "2024-04-23T18:11:21.813813Z"
    },
    "papermill": {
     "duration": 0.10054,
     "end_time": "2024-04-23T18:11:21.817756",
     "exception": false,
     "start_time": "2024-04-23T18:11:21.717216",
     "status": "completed"
    },
    "tags": []
   },
   "outputs": [
    {
     "data": {
      "text/plain": [
       "(2928942, 118)"
      ]
     },
     "execution_count": 52,
     "metadata": {},
     "output_type": "execute_result"
    }
   ],
   "source": [
    "val_ds.shape"
   ]
  },
  {
   "cell_type": "code",
   "execution_count": 53,
   "id": "274af1b1",
   "metadata": {
    "execution": {
     "iopub.execute_input": "2024-04-23T18:11:21.997778Z",
     "iopub.status.busy": "2024-04-23T18:11:21.997329Z",
     "iopub.status.idle": "2024-04-23T18:11:22.004883Z",
     "shell.execute_reply": "2024-04-23T18:11:22.003688Z"
    },
    "papermill": {
     "duration": 0.100181,
     "end_time": "2024-04-23T18:11:22.007151",
     "exception": false,
     "start_time": "2024-04-23T18:11:21.906970",
     "status": "completed"
    },
    "tags": []
   },
   "outputs": [
    {
     "data": {
      "text/plain": [
       "['device_type',\n",
       " 'is_sso_user',\n",
       " 'gender',\n",
       " 'is_subscriber',\n",
       " 'weekday',\n",
       " 'premium',\n",
       " 'category',\n",
       " 'sentiment_label',\n",
       " 'is_new_article',\n",
       " 'is_already_seen_article',\n",
       " 'MostFrequentCategory',\n",
       " 'MostFrequentWeekday',\n",
       " 'IsFavouriteCategory',\n",
       " 'Entity_PER_Present',\n",
       " 'Entity_EVENT_Present',\n",
       " 'Entity_LOC_Present',\n",
       " 'Entity_ORG_Present',\n",
       " 'Entity_PROD_Present',\n",
       " 'Entity_MISC_Present']"
      ]
     },
     "execution_count": 53,
     "metadata": {},
     "output_type": "execute_result"
    }
   ],
   "source": [
    "model.get_param('cat_features')"
   ]
  },
  {
   "cell_type": "code",
   "execution_count": 54,
   "id": "9b5ac487",
   "metadata": {
    "execution": {
     "iopub.execute_input": "2024-04-23T18:11:22.187267Z",
     "iopub.status.busy": "2024-04-23T18:11:22.186859Z",
     "iopub.status.idle": "2024-04-23T18:11:27.277582Z",
     "shell.execute_reply": "2024-04-23T18:11:27.276346Z"
    },
    "papermill": {
     "duration": 5.182913,
     "end_time": "2024-04-23T18:11:27.280143",
     "exception": false,
     "start_time": "2024-04-23T18:11:22.097230",
     "status": "completed"
    },
    "tags": []
   },
   "outputs": [
    {
     "data": {
      "text/html": [
       "<div><style>\n",
       ".dataframe > thead > tr,\n",
       ".dataframe > tbody > tr {\n",
       "  text-align: right;\n",
       "  white-space: pre-wrap;\n",
       "}\n",
       "</style>\n",
       "<small>shape: (2_928_942, 3)</small><table border=\"1\" class=\"dataframe\"><thead><tr><th>impression_id</th><th>target</th><th>prediction</th></tr><tr><td>u32</td><td>i8</td><td>f64</td></tr></thead><tbody><tr><td>96791</td><td>0</td><td>1.619407</td></tr><tr><td>96808</td><td>0</td><td>-1.091482</td></tr><tr><td>96821</td><td>0</td><td>1.898558</td></tr><tr><td>97413</td><td>0</td><td>1.196544</td></tr><tr><td>97415</td><td>0</td><td>1.200728</td></tr><tr><td>&hellip;</td><td>&hellip;</td><td>&hellip;</td></tr><tr><td>579250183</td><td>0</td><td>-1.527111</td></tr><tr><td>579250183</td><td>0</td><td>-0.41819</td></tr><tr><td>579250183</td><td>0</td><td>-0.155698</td></tr><tr><td>579253363</td><td>0</td><td>1.849416</td></tr><tr><td>579253363</td><td>0</td><td>-0.574202</td></tr></tbody></table></div>"
      ],
      "text/plain": [
       "shape: (2_928_942, 3)\n",
       "┌───────────────┬────────┬────────────┐\n",
       "│ impression_id ┆ target ┆ prediction │\n",
       "│ ---           ┆ ---    ┆ ---        │\n",
       "│ u32           ┆ i8     ┆ f64        │\n",
       "╞═══════════════╪════════╪════════════╡\n",
       "│ 96791         ┆ 0      ┆ 1.619407   │\n",
       "│ 96808         ┆ 0      ┆ -1.091482  │\n",
       "│ 96821         ┆ 0      ┆ 1.898558   │\n",
       "│ 97413         ┆ 0      ┆ 1.196544   │\n",
       "│ 97415         ┆ 0      ┆ 1.200728   │\n",
       "│ …             ┆ …      ┆ …          │\n",
       "│ 579250183     ┆ 0      ┆ -1.527111  │\n",
       "│ 579250183     ┆ 0      ┆ -0.41819   │\n",
       "│ 579250183     ┆ 0      ┆ -0.155698  │\n",
       "│ 579253363     ┆ 0      ┆ 1.849416   │\n",
       "│ 579253363     ┆ 0      ┆ -0.574202  │\n",
       "└───────────────┴────────┴────────────┘"
      ]
     },
     "execution_count": 54,
     "metadata": {},
     "output_type": "execute_result"
    }
   ],
   "source": [
    "# impression_id will be later useful for evaluation\n",
    "val_ds_pandas = val_ds.drop(['impression_id', 'article', 'user_id']).to_pandas()\n",
    "\n",
    "val_ds_pandas[categorical_columns] = val_ds_pandas[categorical_columns].astype('category')\n",
    "\n",
    "X_val = val_ds_pandas.drop(columns=['target'])\n",
    "y_val = val_ds_pandas['target']\n",
    "\n",
    "val_ds = val_ds.with_columns(pl.Series(model.predict(X_val)).alias('prediction'))\n",
    "val_ds.select(['impression_id', 'target', 'prediction'])"
   ]
  },
  {
   "cell_type": "code",
   "execution_count": 55,
   "id": "3bb8354d",
   "metadata": {
    "execution": {
     "iopub.execute_input": "2024-04-23T18:11:27.461901Z",
     "iopub.status.busy": "2024-04-23T18:11:27.461476Z",
     "iopub.status.idle": "2024-04-23T18:11:27.730100Z",
     "shell.execute_reply": "2024-04-23T18:11:27.728694Z"
    },
    "papermill": {
     "duration": 0.363046,
     "end_time": "2024-04-23T18:11:27.733446",
     "exception": false,
     "start_time": "2024-04-23T18:11:27.370400",
     "status": "completed"
    },
    "tags": []
   },
   "outputs": [
    {
     "data": {
      "text/html": [
       "<div><style>\n",
       ".dataframe > thead > tr,\n",
       ".dataframe > tbody > tr {\n",
       "  text-align: right;\n",
       "  white-space: pre-wrap;\n",
       "}\n",
       "</style>\n",
       "<small>shape: (244_647, 3)</small><table border=\"1\" class=\"dataframe\"><thead><tr><th>impression_id</th><th>target</th><th>prediction</th></tr><tr><td>u32</td><td>list[i8]</td><td>list[f64]</td></tr></thead><tbody><tr><td>478224075</td><td>[0, 0, … 0]</td><td>[1.861695, 0.691483, … 1.312394]</td></tr><tr><td>507481681</td><td>[0, 0, … 0]</td><td>[-0.92368, -0.817633, … -0.917026]</td></tr><tr><td>182217418</td><td>[0, 0, … 1]</td><td>[-1.912071, 0.276244, … -0.422505]</td></tr><tr><td>444404223</td><td>[0, 0, … 0]</td><td>[-2.120091, -1.835574, … 1.401978]</td></tr><tr><td>430071661</td><td>[0, 0, … 0]</td><td>[0.275067, -1.588929, … -1.478885]</td></tr><tr><td>&hellip;</td><td>&hellip;</td><td>&hellip;</td></tr><tr><td>278286059</td><td>[1, 0, … 0]</td><td>[-0.69062, -0.955397, … -0.485722]</td></tr><tr><td>350346607</td><td>[0, 0, … 0]</td><td>[0.919055, 1.325857, … -1.280628]</td></tr><tr><td>196130256</td><td>[0, 0, … 0]</td><td>[-1.515987, 0.520184, … 0.691164]</td></tr><tr><td>183359117</td><td>[0, 0, … 0]</td><td>[-1.247997, -0.701687, … -0.638225]</td></tr><tr><td>567029039</td><td>[0, 1, … 0]</td><td>[0.948972, 1.07568, … 1.245703]</td></tr></tbody></table></div>"
      ],
      "text/plain": [
       "shape: (244_647, 3)\n",
       "┌───────────────┬─────────────┬───────────────────────────────────┐\n",
       "│ impression_id ┆ target      ┆ prediction                        │\n",
       "│ ---           ┆ ---         ┆ ---                               │\n",
       "│ u32           ┆ list[i8]    ┆ list[f64]                         │\n",
       "╞═══════════════╪═════════════╪═══════════════════════════════════╡\n",
       "│ 478224075     ┆ [0, 0, … 0] ┆ [1.861695, 0.691483, … 1.312394]  │\n",
       "│ 507481681     ┆ [0, 0, … 0] ┆ [-0.92368, -0.817633, … -0.91702… │\n",
       "│ 182217418     ┆ [0, 0, … 1] ┆ [-1.912071, 0.276244, … -0.42250… │\n",
       "│ 444404223     ┆ [0, 0, … 0] ┆ [-2.120091, -1.835574, … 1.40197… │\n",
       "│ 430071661     ┆ [0, 0, … 0] ┆ [0.275067, -1.588929, … -1.47888… │\n",
       "│ …             ┆ …           ┆ …                                 │\n",
       "│ 278286059     ┆ [1, 0, … 0] ┆ [-0.69062, -0.955397, … -0.48572… │\n",
       "│ 350346607     ┆ [0, 0, … 0] ┆ [0.919055, 1.325857, … -1.280628… │\n",
       "│ 196130256     ┆ [0, 0, … 0] ┆ [-1.515987, 0.520184, … 0.691164… │\n",
       "│ 183359117     ┆ [0, 0, … 0] ┆ [-1.247997, -0.701687, … -0.6382… │\n",
       "│ 567029039     ┆ [0, 1, … 0] ┆ [0.948972, 1.07568, … 1.245703]   │\n",
       "└───────────────┴─────────────┴───────────────────────────────────┘"
      ]
     },
     "execution_count": 55,
     "metadata": {},
     "output_type": "execute_result"
    }
   ],
   "source": [
    "evaluation_ds = val_ds.group_by('impression_id').agg(pl.col('target'), pl.col('prediction'))\n",
    "evaluation_ds"
   ]
  },
  {
   "cell_type": "code",
   "execution_count": 56,
   "id": "6eb5b105",
   "metadata": {
    "execution": {
     "iopub.execute_input": "2024-04-23T18:11:27.922504Z",
     "iopub.status.busy": "2024-04-23T18:11:27.922086Z",
     "iopub.status.idle": "2024-04-23T18:17:14.624655Z",
     "shell.execute_reply": "2024-04-23T18:17:14.623522Z"
    },
    "papermill": {
     "duration": 346.888216,
     "end_time": "2024-04-23T18:17:14.716689",
     "exception": false,
     "start_time": "2024-04-23T18:11:27.828473",
     "status": "completed"
    },
    "tags": []
   },
   "outputs": [
    {
     "name": "stdout",
     "output_type": "stream",
     "text": [
      "CPU times: user 5min 45s, sys: 457 ms, total: 5min 46s\n",
      "Wall time: 5min 46s\n"
     ]
    },
    {
     "data": {
      "text/plain": [
       "<MetricEvaluator class>: \n",
       " {\n",
       "    \"auc\": 0.7322591416011899,\n",
       "    \"mrr\": 0.5080525884211161,\n",
       "    \"ndcg@5\": 0.5678116368478366,\n",
       "    \"ndcg@10\": 0.6080244760238575\n",
       "}"
      ]
     },
     "execution_count": 56,
     "metadata": {},
     "output_type": "execute_result"
    }
   ],
   "source": [
    "%%time\n",
    "\n",
    "met_eval = MetricEvaluator(\n",
    "    labels=evaluation_ds['target'].to_list(),\n",
    "    predictions=evaluation_ds['prediction'].to_list(),\n",
    "    metric_functions=[\n",
    "        AucScore(),\n",
    "        MrrScore(),\n",
    "        NdcgScore(k=5),\n",
    "        NdcgScore(k=10),\n",
    "    ],\n",
    ")\n",
    "met_eval.evaluate()"
   ]
  }
 ],
 "metadata": {
  "kaggle": {
   "accelerator": "none",
   "dataSources": [
    {
     "datasetId": 4622414,
     "sourceId": 8194630,
     "sourceType": "datasetVersion"
    }
   ],
   "dockerImageVersionId": 30673,
   "isGpuEnabled": false,
   "isInternetEnabled": true,
   "language": "python",
   "sourceType": "notebook"
  },
  "kernelspec": {
   "display_name": "Python 3",
   "language": "python",
   "name": "python3"
  },
  "language_info": {
   "codemirror_mode": {
    "name": "ipython",
    "version": 3
   },
   "file_extension": ".py",
   "mimetype": "text/x-python",
   "name": "python",
   "nbconvert_exporter": "python",
   "pygments_lexer": "ipython3",
   "version": "3.11.0"
  },
  "papermill": {
   "default_parameters": {},
   "duration": 8468.146196,
   "end_time": "2024-04-23T18:17:18.882049",
   "environment_variables": {},
   "exception": null,
   "input_path": "__notebook__.ipynb",
   "output_path": "__notebook__.ipynb",
   "parameters": {},
   "start_time": "2024-04-23T15:56:10.735853",
   "version": "2.5.0"
  },
  "widgets": {
   "application/vnd.jupyter.widget-state+json": {
    "state": {
     "46d8ab1d46cf4d14978f4d2b493c2a92": {
      "model_module": "@jupyter-widgets/output",
      "model_module_version": "1.0.0",
      "model_name": "OutputModel",
      "state": {
       "_dom_classes": [],
       "_model_module": "@jupyter-widgets/output",
       "_model_module_version": "1.0.0",
       "_model_name": "OutputModel",
       "_view_count": null,
       "_view_module": "@jupyter-widgets/output",
       "_view_module_version": "1.0.0",
       "_view_name": "OutputView",
       "layout": "IPY_MODEL_a84e66ae938f4771bae7e21f71ee9c55",
       "msg_id": "",
       "outputs": [
        {
         "data": {
          "text/html": "<pre style=\"white-space:pre;overflow-x:auto;line-height:normal;font-family:Menlo,'DejaVu Sans Mono',consolas,'Courier New',monospace\">Getting category               <span style=\"color: #729c1f; text-decoration-color: #729c1f\">━━━━━━━━━━━━━━━━━━━━━━━━━━━━━━━━━━━━━━━━</span> <span style=\"color: #800080; text-decoration-color: #800080\">100%</span> <span style=\"color: #008080; text-decoration-color: #008080\">0:00:00</span>\nGetting article_type           <span style=\"color: #729c1f; text-decoration-color: #729c1f\">━━━━━━━━━━━━━━━━━━━━━━━━━━━━━━━━━━━━━━━━</span> <span style=\"color: #800080; text-decoration-color: #800080\">100%</span> <span style=\"color: #008080; text-decoration-color: #008080\">0:00:00</span>\nGetting sentiment_label        <span style=\"color: #729c1f; text-decoration-color: #729c1f\">━━━━━━━━━━━━━━━━━━━━━━━━━━━━━━━━━━━━━━━━</span> <span style=\"color: #800080; text-decoration-color: #800080\">100%</span> <span style=\"color: #008080; text-decoration-color: #008080\">0:00:00</span>\nGetting sentiment_score        <span style=\"color: #729c1f; text-decoration-color: #729c1f\">━━━━━━━━━━━━━━━━━━━━━━━━━━━━━━━━━━━━━━━━</span> <span style=\"color: #800080; text-decoration-color: #800080\">100%</span> <span style=\"color: #008080; text-decoration-color: #008080\">0:00:00</span>\nGetting entity_groups          <span style=\"color: #729c1f; text-decoration-color: #729c1f\">━━━━━━━━━━━━━━━━━━━━━━━━━━━━━━━━━━━━━━━━</span> <span style=\"color: #800080; text-decoration-color: #800080\">100%</span> <span style=\"color: #008080; text-decoration-color: #008080\">0:00:00</span>\nGetting detailed entity_groups <span style=\"color: #729c1f; text-decoration-color: #729c1f\">━━━━━━━━━━━━━━━━━━━━━━━━━━━━━━━━━━━━━━━━</span> <span style=\"color: #800080; text-decoration-color: #800080\">100%</span> <span style=\"color: #008080; text-decoration-color: #008080\">0:00:00</span>\nGetting topics                 <span style=\"color: #729c1f; text-decoration-color: #729c1f\">━━━━━━━━━━━━━━━━━━━━━━━━━━━━━━━━━━━━━━━━</span> <span style=\"color: #800080; text-decoration-color: #800080\">100%</span> <span style=\"color: #008080; text-decoration-color: #008080\">0:00:00</span>\n</pre>\n",
          "text/plain": "Getting category               \u001b[38;2;114;156;31m━━━━━━━━━━━━━━━━━━━━━━━━━━━━━━━━━━━━━━━━\u001b[0m \u001b[35m100%\u001b[0m \u001b[36m0:00:00\u001b[0m\nGetting article_type           \u001b[38;2;114;156;31m━━━━━━━━━━━━━━━━━━━━━━━━━━━━━━━━━━━━━━━━\u001b[0m \u001b[35m100%\u001b[0m \u001b[36m0:00:00\u001b[0m\nGetting sentiment_label        \u001b[38;2;114;156;31m━━━━━━━━━━━━━━━━━━━━━━━━━━━━━━━━━━━━━━━━\u001b[0m \u001b[35m100%\u001b[0m \u001b[36m0:00:00\u001b[0m\nGetting sentiment_score        \u001b[38;2;114;156;31m━━━━━━━━━━━━━━━━━━━━━━━━━━━━━━━━━━━━━━━━\u001b[0m \u001b[35m100%\u001b[0m \u001b[36m0:00:00\u001b[0m\nGetting entity_groups          \u001b[38;2;114;156;31m━━━━━━━━━━━━━━━━━━━━━━━━━━━━━━━━━━━━━━━━\u001b[0m \u001b[35m100%\u001b[0m \u001b[36m0:00:00\u001b[0m\nGetting detailed entity_groups \u001b[38;2;114;156;31m━━━━━━━━━━━━━━━━━━━━━━━━━━━━━━━━━━━━━━━━\u001b[0m \u001b[35m100%\u001b[0m \u001b[36m0:00:00\u001b[0m\nGetting topics                 \u001b[38;2;114;156;31m━━━━━━━━━━━━━━━━━━━━━━━━━━━━━━━━━━━━━━━━\u001b[0m \u001b[35m100%\u001b[0m \u001b[36m0:00:00\u001b[0m\n"
         },
         "metadata": {},
         "output_type": "display_data"
        }
       ]
      }
     },
     "71bf4046e9af422296671aab9819dece": {
      "model_module": "@jupyter-widgets/base",
      "model_module_version": "1.2.0",
      "model_name": "LayoutModel",
      "state": {
       "_model_module": "@jupyter-widgets/base",
       "_model_module_version": "1.2.0",
       "_model_name": "LayoutModel",
       "_view_count": null,
       "_view_module": "@jupyter-widgets/base",
       "_view_module_version": "1.2.0",
       "_view_name": "LayoutView",
       "align_content": null,
       "align_items": null,
       "align_self": null,
       "border": null,
       "bottom": null,
       "display": null,
       "flex": null,
       "flex_flow": null,
       "grid_area": null,
       "grid_auto_columns": null,
       "grid_auto_flow": null,
       "grid_auto_rows": null,
       "grid_column": null,
       "grid_gap": null,
       "grid_row": null,
       "grid_template_areas": null,
       "grid_template_columns": null,
       "grid_template_rows": null,
       "height": null,
       "justify_content": null,
       "justify_items": null,
       "left": null,
       "margin": null,
       "max_height": null,
       "max_width": null,
       "min_height": null,
       "min_width": null,
       "object_fit": null,
       "object_position": null,
       "order": null,
       "overflow": null,
       "overflow_x": null,
       "overflow_y": null,
       "padding": null,
       "right": null,
       "top": null,
       "visibility": null,
       "width": null
      }
     },
     "a84e66ae938f4771bae7e21f71ee9c55": {
      "model_module": "@jupyter-widgets/base",
      "model_module_version": "1.2.0",
      "model_name": "LayoutModel",
      "state": {
       "_model_module": "@jupyter-widgets/base",
       "_model_module_version": "1.2.0",
       "_model_name": "LayoutModel",
       "_view_count": null,
       "_view_module": "@jupyter-widgets/base",
       "_view_module_version": "1.2.0",
       "_view_name": "LayoutView",
       "align_content": null,
       "align_items": null,
       "align_self": null,
       "border": null,
       "bottom": null,
       "display": null,
       "flex": null,
       "flex_flow": null,
       "grid_area": null,
       "grid_auto_columns": null,
       "grid_auto_flow": null,
       "grid_auto_rows": null,
       "grid_column": null,
       "grid_gap": null,
       "grid_row": null,
       "grid_template_areas": null,
       "grid_template_columns": null,
       "grid_template_rows": null,
       "height": null,
       "justify_content": null,
       "justify_items": null,
       "left": null,
       "margin": null,
       "max_height": null,
       "max_width": null,
       "min_height": null,
       "min_width": null,
       "object_fit": null,
       "object_position": null,
       "order": null,
       "overflow": null,
       "overflow_x": null,
       "overflow_y": null,
       "padding": null,
       "right": null,
       "top": null,
       "visibility": null,
       "width": null
      }
     },
     "c655e58a35e3490888f01103be14ab47": {
      "model_module": "@jupyter-widgets/output",
      "model_module_version": "1.0.0",
      "model_name": "OutputModel",
      "state": {
       "_dom_classes": [],
       "_model_module": "@jupyter-widgets/output",
       "_model_module_version": "1.0.0",
       "_model_name": "OutputModel",
       "_view_count": null,
       "_view_module": "@jupyter-widgets/output",
       "_view_module_version": "1.0.0",
       "_view_name": "OutputView",
       "layout": "IPY_MODEL_71bf4046e9af422296671aab9819dece",
       "msg_id": "",
       "outputs": [
        {
         "data": {
          "text/html": "<pre style=\"white-space:pre;overflow-x:auto;line-height:normal;font-family:Menlo,'DejaVu Sans Mono',consolas,'Courier New',monospace\">Getting category               <span style=\"color: #729c1f; text-decoration-color: #729c1f\">━━━━━━━━━━━━━━━━━━━━━━━━━━━━━━━━━━━━━━━━</span> <span style=\"color: #800080; text-decoration-color: #800080\">100%</span> <span style=\"color: #008080; text-decoration-color: #008080\">0:00:00</span>\nGetting article_type           <span style=\"color: #729c1f; text-decoration-color: #729c1f\">━━━━━━━━━━━━━━━━━━━━━━━━━━━━━━━━━━━━━━━━</span> <span style=\"color: #800080; text-decoration-color: #800080\">100%</span> <span style=\"color: #008080; text-decoration-color: #008080\">0:00:00</span>\nGetting sentiment_label        <span style=\"color: #729c1f; text-decoration-color: #729c1f\">━━━━━━━━━━━━━━━━━━━━━━━━━━━━━━━━━━━━━━━━</span> <span style=\"color: #800080; text-decoration-color: #800080\">100%</span> <span style=\"color: #008080; text-decoration-color: #008080\">0:00:00</span>\nGetting sentiment_score        <span style=\"color: #729c1f; text-decoration-color: #729c1f\">━━━━━━━━━━━━━━━━━━━━━━━━━━━━━━━━━━━━━━━━</span> <span style=\"color: #800080; text-decoration-color: #800080\">100%</span> <span style=\"color: #008080; text-decoration-color: #008080\">0:00:00</span>\nGetting entity_groups          <span style=\"color: #729c1f; text-decoration-color: #729c1f\">━━━━━━━━━━━━━━━━━━━━━━━━━━━━━━━━━━━━━━━━</span> <span style=\"color: #800080; text-decoration-color: #800080\">100%</span> <span style=\"color: #008080; text-decoration-color: #008080\">0:00:00</span>\nGetting detailed entity_groups <span style=\"color: #729c1f; text-decoration-color: #729c1f\">━━━━━━━━━━━━━━━━━━━━━━━━━━━━━━━━━━━━━━━━</span> <span style=\"color: #800080; text-decoration-color: #800080\">100%</span> <span style=\"color: #008080; text-decoration-color: #008080\">0:00:00</span>\nGetting topics                 <span style=\"color: #729c1f; text-decoration-color: #729c1f\">━━━━━━━━━━━━━━━━━━━━━━━━━━━━━━━━━━━━━━━━</span> <span style=\"color: #800080; text-decoration-color: #800080\">100%</span> <span style=\"color: #008080; text-decoration-color: #008080\">0:00:00</span>\n</pre>\n",
          "text/plain": "Getting category               \u001b[38;2;114;156;31m━━━━━━━━━━━━━━━━━━━━━━━━━━━━━━━━━━━━━━━━\u001b[0m \u001b[35m100%\u001b[0m \u001b[36m0:00:00\u001b[0m\nGetting article_type           \u001b[38;2;114;156;31m━━━━━━━━━━━━━━━━━━━━━━━━━━━━━━━━━━━━━━━━\u001b[0m \u001b[35m100%\u001b[0m \u001b[36m0:00:00\u001b[0m\nGetting sentiment_label        \u001b[38;2;114;156;31m━━━━━━━━━━━━━━━━━━━━━━━━━━━━━━━━━━━━━━━━\u001b[0m \u001b[35m100%\u001b[0m \u001b[36m0:00:00\u001b[0m\nGetting sentiment_score        \u001b[38;2;114;156;31m━━━━━━━━━━━━━━━━━━━━━━━━━━━━━━━━━━━━━━━━\u001b[0m \u001b[35m100%\u001b[0m \u001b[36m0:00:00\u001b[0m\nGetting entity_groups          \u001b[38;2;114;156;31m━━━━━━━━━━━━━━━━━━━━━━━━━━━━━━━━━━━━━━━━\u001b[0m \u001b[35m100%\u001b[0m \u001b[36m0:00:00\u001b[0m\nGetting detailed entity_groups \u001b[38;2;114;156;31m━━━━━━━━━━━━━━━━━━━━━━━━━━━━━━━━━━━━━━━━\u001b[0m \u001b[35m100%\u001b[0m \u001b[36m0:00:00\u001b[0m\nGetting topics                 \u001b[38;2;114;156;31m━━━━━━━━━━━━━━━━━━━━━━━━━━━━━━━━━━━━━━━━\u001b[0m \u001b[35m100%\u001b[0m \u001b[36m0:00:00\u001b[0m\n"
         },
         "metadata": {},
         "output_type": "display_data"
        }
       ]
      }
     }
    },
    "version_major": 2,
    "version_minor": 0
   }
  }
 },
 "nbformat": 4,
 "nbformat_minor": 5
}
