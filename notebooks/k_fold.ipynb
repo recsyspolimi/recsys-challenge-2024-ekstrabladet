{
 "cells": [
  {
   "cell_type": "code",
   "execution_count": 1,
   "metadata": {},
   "outputs": [],
   "source": [
    "import polars as pl\n",
    "from pathlib import Path\n",
    "import numpy as np\n",
    "import datetime"
   ]
  },
  {
   "cell_type": "code",
   "execution_count": 2,
   "metadata": {},
   "outputs": [],
   "source": [
    "dpath = Path('../dataset')\n",
    "\n",
    "dtype = 'small'\n",
    "articles = pl.read_parquet(f'{dpath}/ebnerd_{dtype}/articles.parquet')\n",
    "\n",
    "behaviors_train = pl.read_parquet(f'{dpath}/ebnerd_{dtype}/train/behaviors.parquet')\n",
    "history_train = pl.read_parquet(f'{dpath}/ebnerd_{dtype}/train/history.parquet')\n",
    "\n",
    "behaviors_val = pl.read_parquet(f'{dpath}/ebnerd_{dtype}/validation/behaviors.parquet')\n",
    "history_val = pl.read_parquet(f'{dpath}/ebnerd_{dtype}/validation/history.parquet')"
   ]
  },
  {
   "cell_type": "code",
   "execution_count": 3,
   "metadata": {},
   "outputs": [
    {
     "name": "stdout",
     "output_type": "stream",
     "text": [
      "History train:  2023-04-27 07:00:00 2023-05-18 06:59:59 20 days, 23:59:59\n",
      "Behaviors train:  2023-05-18 07:00:01 2023-05-25 06:59:58 6 days, 23:59:57\n"
     ]
    }
   ],
   "source": [
    "print('History train: ', history_train['impression_time_fixed'].explode().min(), history_train['impression_time_fixed'].explode().max(), (history_train['impression_time_fixed'].explode().max() - history_train['impression_time_fixed'].explode().min()))\n",
    "print('Behaviors train: ', behaviors_train['impression_time'].explode().min(), behaviors_train['impression_time'].explode().max(), behaviors_train['impression_time'].explode().max() - behaviors_train['impression_time'].explode().min())"
   ]
  },
  {
   "cell_type": "code",
   "execution_count": 4,
   "metadata": {},
   "outputs": [
    {
     "name": "stdout",
     "output_type": "stream",
     "text": [
      "History val:  2023-05-04 07:00:00 2023-05-25 06:59:59 20 days, 23:59:59\n",
      "Behaviors val:  2023-05-25 07:00:02 2023-06-01 06:59:59 6 days, 23:59:57\n"
     ]
    }
   ],
   "source": [
    "print('History val: ', history_val['impression_time_fixed'].explode().min(), history_val['impression_time_fixed'].explode().max(), (history_val['impression_time_fixed'].explode().max() - history_val['impression_time_fixed'].explode().min()))\n",
    "print('Behaviors val: ', behaviors_val['impression_time'].explode().min(), behaviors_val['impression_time'].explode().max(), behaviors_val['impression_time'].explode().max() - behaviors_val['impression_time'].explode().min())"
   ]
  },
  {
   "cell_type": "code",
   "execution_count": 5,
   "metadata": {},
   "outputs": [
    {
     "data": {
      "text/plain": [
       "datetime.timedelta(days=13, seconds=86398)"
      ]
     },
     "execution_count": 5,
     "metadata": {},
     "output_type": "execute_result"
    }
   ],
   "source": [
    "behaviors_val['impression_time'].explode().max() - behaviors_train['impression_time'].explode().min()"
   ]
  },
  {
   "cell_type": "code",
   "execution_count": 94,
   "metadata": {},
   "outputs": [
    {
     "data": {
      "text/html": [
       "<div><style>\n",
       ".dataframe > thead > tr,\n",
       ".dataframe > tbody > tr {\n",
       "  text-align: right;\n",
       "  white-space: pre-wrap;\n",
       "}\n",
       "</style>\n",
       "<small>shape: (2, 5)</small><table border=\"1\" class=\"dataframe\"><thead><tr><th>user_id</th><th>impression_time_fixed</th><th>scroll_percentage_fixed</th><th>article_id_fixed</th><th>read_time_fixed</th></tr><tr><td>u32</td><td>list[datetime[μs]]</td><td>list[f32]</td><td>list[i32]</td><td>list[f32]</td></tr></thead><tbody><tr><td>2494588</td><td>[2023-05-18 07:01:14, 2023-05-19 05:41:12]</td><td>[100.0, 100.0]</td><td>[9767697, 9771113]</td><td>[86.0, 17.0]</td></tr><tr><td>1541532</td><td>[2023-05-22 13:15:53, 2023-05-22 13:16:43, … 2023-05-24 10:12:17]</td><td>[37.0, 30.0, … 13.0]</td><td>[9775894, 9770145, … 9778444]</td><td>[6.0, 7.0, … 6.0]</td></tr></tbody></table></div>"
      ],
      "text/plain": [
       "shape: (2, 5)\n",
       "┌─────────┬──────────────────────┬──────────────────────┬──────────────────────┬───────────────────┐\n",
       "│ user_id ┆ impression_time_fixe ┆ scroll_percentage_fi ┆ article_id_fixed     ┆ read_time_fixed   │\n",
       "│ ---     ┆ d                    ┆ xed                  ┆ ---                  ┆ ---               │\n",
       "│ u32     ┆ ---                  ┆ ---                  ┆ list[i32]            ┆ list[f32]         │\n",
       "│         ┆ list[datetime[μs]]   ┆ list[f32]            ┆                      ┆                   │\n",
       "╞═════════╪══════════════════════╪══════════════════════╪══════════════════════╪═══════════════════╡\n",
       "│ 2494588 ┆ [2023-05-18          ┆ [100.0, 100.0]       ┆ [9767697, 9771113]   ┆ [86.0, 17.0]      │\n",
       "│         ┆ 07:01:14, 2023-05-…  ┆                      ┆                      ┆                   │\n",
       "│ 1541532 ┆ [2023-05-22          ┆ [37.0, 30.0, … 13.0] ┆ [9775894, 9770145, … ┆ [6.0, 7.0, … 6.0] │\n",
       "│         ┆ 13:15:53, 2023-05-…  ┆                      ┆ 9778444]             ┆                   │\n",
       "└─────────┴──────────────────────┴──────────────────────┴──────────────────────┴───────────────────┘"
      ]
     },
     "execution_count": 94,
     "metadata": {},
     "output_type": "execute_result"
    }
   ],
   "source": [
    "def behaviors_to_history(behaviors: pl.DataFrame) -> pl.DataFrame:\n",
    "        return behaviors.sort('impression_time').select('user_id', 'impression_time', 'next_scroll_percentage', 'article_ids_clicked', 'next_read_time')\\\n",
    "                .rename({'impression_time': 'impression_time_fixed', \n",
    "                        'article_ids_clicked': 'article_id_fixed', \n",
    "                        'next_read_time': 'read_time_fixed', \n",
    "                        'next_scroll_percentage': 'scroll_percentage_fixed'})\\\n",
    "                .explode('article_id_fixed').group_by('user_id').agg(pl.all())\n",
    "        \n",
    "behaviors_to_history(behaviors_train).head(2)"
   ]
  },
  {
   "cell_type": "code",
   "execution_count": 97,
   "metadata": {},
   "outputs": [
    {
     "data": {
      "text/html": [
       "<div><style>\n",
       ".dataframe > thead > tr,\n",
       ".dataframe > tbody > tr {\n",
       "  text-align: right;\n",
       "  white-space: pre-wrap;\n",
       "}\n",
       "</style>\n",
       "<small>shape: (2, 5)</small><table border=\"1\" class=\"dataframe\"><thead><tr><th>user_id</th><th>impression_time_fixed</th><th>scroll_percentage_fixed</th><th>article_id_fixed</th><th>read_time_fixed</th></tr><tr><td>u32</td><td>list[datetime[μs]]</td><td>list[f32]</td><td>list[i32]</td><td>list[f32]</td></tr></thead><tbody><tr><td>10068</td><td>[2023-04-27 14:22:26, 2023-04-27 18:51:53, … 2023-05-16 19:48:21]</td><td>[100.0, 100.0, … 100.0]</td><td>[9735753, 9739065, … 9759717]</td><td>[39.0, 21.0, … 7.0]</td></tr><tr><td>10200</td><td>[2023-05-14 05:46:27, 2023-05-14 05:46:44, … 2023-05-29 05:09:35]</td><td>[36.0, 24.0, … null]</td><td>[9764325, 9763923, … 9784952]</td><td>[16.0, 15.0, … 1.0]</td></tr></tbody></table></div>"
      ],
      "text/plain": [
       "shape: (2, 5)\n",
       "┌─────────┬──────────────────────┬─────────────────────┬─────────────────────┬─────────────────────┐\n",
       "│ user_id ┆ impression_time_fixe ┆ scroll_percentage_f ┆ article_id_fixed    ┆ read_time_fixed     │\n",
       "│ ---     ┆ d                    ┆ ixed                ┆ ---                 ┆ ---                 │\n",
       "│ u32     ┆ ---                  ┆ ---                 ┆ list[i32]           ┆ list[f32]           │\n",
       "│         ┆ list[datetime[μs]]   ┆ list[f32]           ┆                     ┆                     │\n",
       "╞═════════╪══════════════════════╪═════════════════════╪═════════════════════╪═════════════════════╡\n",
       "│ 10068   ┆ [2023-04-27          ┆ [100.0, 100.0, …    ┆ [9735753, 9739065,  ┆ [39.0, 21.0, … 7.0] │\n",
       "│         ┆ 14:22:26, 2023-04-…  ┆ 100.0]              ┆ … 9759717]          ┆                     │\n",
       "│ 10200   ┆ [2023-05-14          ┆ [36.0, 24.0, …      ┆ [9764325, 9763923,  ┆ [16.0, 15.0, … 1.0] │\n",
       "│         ┆ 05:46:27, 2023-05-…  ┆ null]               ┆ … 9784952]          ┆                     │\n",
       "└─────────┴──────────────────────┴─────────────────────┴─────────────────────┴─────────────────────┘"
      ]
     },
     "execution_count": 97,
     "metadata": {},
     "output_type": "execute_result"
    }
   ],
   "source": [
    "history_all = pl.concat([\n",
    "    history_train.explode(pl.all().exclude('user_id')).join(\n",
    "        history_val.explode(pl.all().exclude('user_id')), \n",
    "        on=['user_id', 'impression_time_fixed'], how='anti'),\n",
    "    history_val.explode(pl.all().exclude('user_id')),\n",
    "    behaviors_to_history(behaviors_val).explode(pl.all().exclude('user_id')),\n",
    "]).sort(['user_id', 'impression_time_fixed'])\\\n",
    ".group_by('user_id').agg(pl.all())\n",
    "history_all.head(2)"
   ]
  },
  {
   "cell_type": "code",
   "execution_count": 101,
   "metadata": {},
   "outputs": [
    {
     "data": {
      "text/plain": [
       "(datetime.date(2023, 4, 27), datetime.date(2023, 6, 1))"
      ]
     },
     "execution_count": 101,
     "metadata": {},
     "output_type": "execute_result"
    }
   ],
   "source": [
    "history_all['impression_time_fixed'].explode().dt.date().min(), history_all['impression_time_fixed'].explode().dt.date().max()"
   ]
  },
  {
   "cell_type": "markdown",
   "metadata": {},
   "source": [
    "## Moving window"
   ]
  },
  {
   "cell_type": "code",
   "execution_count": 102,
   "metadata": {},
   "outputs": [],
   "source": [
    "def moving_window_split_iterator(history: pl.DataFrame, behaviors: pl.DataFrame, window:int=4, window_val:int=2, stride:int=2, verbose=True):\n",
    "    assert behaviors['impression_time'].is_sorted()\n",
    "    \n",
    "    \n",
    "    all_dates = history['impression_time_fixed'].explode().dt.date().unique().append(\n",
    "        behaviors['impression_time'].dt.date().unique()\n",
    "    ).unique().sort().to_list()\n",
    "    all_dates_map = {date: i for i, date in enumerate(all_dates)}\n",
    "    if verbose:\n",
    "        print(f'Date range: [{all_dates[0]}:{all_dates_map[all_dates[0]]} - {all_dates[-1]}:{all_dates_map[all_dates[-1]]}]')\n",
    "    \n",
    "    history_window_train_start_date = history['impression_time_fixed'].explode().min().date()    \n",
    "    start_window_train_behavior_date = behaviors['impression_time'].min().date()\n",
    "    last_date = behaviors['impression_time'].max().date()\n",
    "    i = 0\n",
    "    while  start_window_train_behavior_date + datetime.timedelta(days=window + window_val) <= last_date:\n",
    "        end_window_train_behavior_date = start_window_train_behavior_date + datetime.timedelta(days=window)\n",
    "        start_window_val_behavior_date  = end_window_train_behavior_date\n",
    "        end_window_val_behavior_date = start_window_val_behavior_date + datetime.timedelta(days=window_val)\n",
    "        \n",
    "        history_window_val_start_date = history_window_train_start_date + datetime.timedelta(days=7)\n",
    "\n",
    "\n",
    "        if verbose:\n",
    "            print(f'Fold {i}: ')\n",
    "            print(f'Train: [{all_dates_map[history_window_train_start_date]} - {all_dates_map[start_window_train_behavior_date]} - {all_dates_map[end_window_train_behavior_date]}]')\n",
    "            print(f'Validation: [{all_dates_map[history_window_val_start_date]} - {all_dates_map[start_window_val_behavior_date]} - {all_dates_map[end_window_val_behavior_date]}]')\n",
    "        \n",
    "            \n",
    "        behaviors_k_train = behaviors.filter(\n",
    "            pl.col('impression_time') >= datetime.datetime.combine(start_window_train_behavior_date, datetime.time(7, 0, 0)),\n",
    "            pl.col('impression_time') < datetime.datetime.combine(end_window_train_behavior_date, datetime.time(7, 0, 0)),\n",
    "        )\n",
    "        \n",
    "        history_k_train = history.explode(pl.all().exclude('user_id')).filter(\n",
    "            pl.col('impression_time_fixed') >= datetime.datetime.combine(history_window_train_start_date, datetime.time(7, 0, 0)),\n",
    "            pl.col('impression_time_fixed') < datetime.datetime.combine(\n",
    "                history_window_train_start_date + datetime.timedelta(days=21), datetime.time(7, 0, 0)),\n",
    "        ).group_by('user_id').agg(pl.all())\n",
    "\n",
    "        behaviors_k_val = behaviors.filter(\n",
    "            pl.col('impression_time') >= datetime.datetime.combine(start_window_val_behavior_date, datetime.time(7, 0, 0)),\n",
    "            pl.col('impression_time') < datetime.datetime.combine(end_window_val_behavior_date, datetime.time(7, 0, 0)),\n",
    "        )\n",
    "        \n",
    "        history_k_val = history.explode(pl.all().exclude('user_id')).filter(\n",
    "            pl.col('impression_time_fixed') >= datetime.datetime.combine(history_window_val_start_date, datetime.time(7, 0, 0)),\n",
    "            pl.col('impression_time_fixed') < datetime.datetime.combine(\n",
    "                history_window_val_start_date + datetime.timedelta(days=21), datetime.time(7, 0, 0)),\n",
    "        ).group_by('user_id').agg(pl.all())\n",
    "        \n",
    "        start_window_train_behavior_date += datetime.timedelta(days=stride)\n",
    "        history_window_train_start_date += datetime.timedelta(days=stride)\n",
    "        i+=1\n",
    "        \n",
    "        yield history_k_train, behaviors_k_train, history_k_val, behaviors_k_val"
   ]
  },
  {
   "cell_type": "code",
   "execution_count": 103,
   "metadata": {},
   "outputs": [
    {
     "name": "stdout",
     "output_type": "stream",
     "text": [
      "Date range: [2023-04-27:0 - 2023-06-01:35]\n",
      "Fold 0: \n",
      "Train: [0 - 21 - 25]\n",
      "Validation: [7 - 25 - 27]\n",
      "Fold 1: \n",
      "Train: [2 - 23 - 27]\n",
      "Validation: [9 - 27 - 29]\n",
      "Fold 2: \n",
      "Train: [4 - 25 - 29]\n",
      "Validation: [11 - 29 - 31]\n",
      "Fold 3: \n",
      "Train: [6 - 27 - 31]\n",
      "Validation: [13 - 31 - 33]\n",
      "Fold 4: \n",
      "Train: [8 - 29 - 33]\n",
      "Validation: [15 - 33 - 35]\n"
     ]
    }
   ],
   "source": [
    "behaviors_all = behaviors_train.vstack(behaviors_val).sort('impression_time').set_sorted('impression_time')\n",
    "for i, (history_k_train, behaviors_k_train, history_k_val, behaviors_k_val) in enumerate(moving_window_split_iterator(history_all, behaviors_all, window=4, window_val=2, stride=2)):\n",
    "    continue"
   ]
  },
  {
   "cell_type": "code",
   "execution_count": null,
   "metadata": {},
   "outputs": [],
   "source": []
  }
 ],
 "metadata": {
  "kernelspec": {
   "display_name": "recsys",
   "language": "python",
   "name": "python3"
  },
  "language_info": {
   "codemirror_mode": {
    "name": "ipython",
    "version": 3
   },
   "file_extension": ".py",
   "mimetype": "text/x-python",
   "name": "python",
   "nbconvert_exporter": "python",
   "pygments_lexer": "ipython3",
   "version": "3.11.0"
  }
 },
 "nbformat": 4,
 "nbformat_minor": 2
}
