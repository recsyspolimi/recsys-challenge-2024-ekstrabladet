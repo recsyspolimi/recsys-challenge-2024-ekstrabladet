{
 "cells": [
  {
   "cell_type": "code",
   "execution_count": 22,
   "metadata": {},
   "outputs": [],
   "source": [
    "import polars as pl\n",
    "from pathlib import Path\n",
    "from polimi.utils._urm import train_recommender\n",
    "from RecSys_Course_AT_PoliMi.Recommenders.GraphBased.P3alphaRecommender import P3alphaRecommender\n",
    "from RecSys_Course_AT_PoliMi.Recommenders.GraphBased.RP3betaRecommender import RP3betaRecommender\n",
    "from RecSys_Course_AT_PoliMi.Recommenders.KNN.ItemKNNCFRecommender import ItemKNNCFRecommender\n",
    "from RecSys_Course_AT_PoliMi.Recommenders.KNN.UserKNNCFRecommender import UserKNNCFRecommender\n",
    "from RecSys_Course_AT_PoliMi.Recommenders.MatrixFactorization.Cython.MatrixFactorization_Cython import MatrixFactorization_AsySVD_Cython, MatrixFactorization_BPR_Cython\n",
    "from RecSys_Course_AT_PoliMi.Recommenders.MatrixFactorization.PureSVDRecommender import PureSVDRecommender, PureSVDItemRecommender\n",
    "from RecSys_Course_AT_PoliMi.Recommenders.Neural.MultVAERecommender import MultVAERecommender\n",
    "from RecSys_Course_AT_PoliMi.Recommenders.SLIM.SLIMElasticNetRecommender import SLIMElasticNetRecommender, MultiThreadSLIM_SLIMElasticNetRecommender\n",
    "from RecSys_Course_AT_PoliMi.Recommenders.SLIM.Cython.SLIM_BPR_Cython import SLIM_BPR_Cython\n",
    "from RecSys_Course_AT_PoliMi.Recommenders.MatrixFactorization.NMFRecommender import NMFRecommender\n",
    "import polars.selectors as cs\n"
   ]
  },
  {
   "cell_type": "code",
   "execution_count": 23,
   "metadata": {},
   "outputs": [
    {
     "data": {
      "text/html": [
       "<div><style>\n",
       ".dataframe > thead > tr,\n",
       ".dataframe > tbody > tr {\n",
       "  text-align: right;\n",
       "  white-space: pre-wrap;\n",
       "}\n",
       "</style>\n",
       "<small>shape: (702_831, 383)</small><table border=\"1\" class=\"dataframe\"><thead><tr><th>impression_id</th><th>user_id</th><th>article</th><th>target</th><th>device_type</th><th>read_time</th><th>scroll_percentage</th><th>is_sso_user</th><th>gender</th><th>age</th><th>is_subscriber</th><th>postcode</th><th>trendiness_score_1d</th><th>trendiness_score_3d</th><th>trendiness_score_5d</th><th>trendiness_score_3d_leak</th><th>weekday</th><th>hour</th><th>trendiness_score_1d/3d</th><th>trendiness_score_1d/5d</th><th>normalized_trendiness_score_overall</th><th>premium</th><th>category</th><th>sentiment_score</th><th>sentiment_label</th><th>num_images</th><th>title_len</th><th>subtitle_len</th><th>body_len</th><th>num_topics</th><th>total_pageviews</th><th>total_inviews</th><th>total_read_time</th><th>total_pageviews/inviews</th><th>article_type</th><th>article_delay_days</th><th>article_delay_hours</th><th>&hellip;</th><th>emotions_emb_icm_l_inf_article</th><th>constrastive_emb_icm_l_inf_article</th><th>std_article_kenneth_emb_icm</th><th>std_article_distilbert_emb_icm</th><th>std_article_bert_emb_icm</th><th>std_article_roberta_emb_icm</th><th>std_article_w_to_vec_emb_icm</th><th>std_article_emotions_emb_icm</th><th>std_article_constrastive_emb_icm</th><th>skew_article_kenneth_emb_icm</th><th>skew_article_distilbert_emb_icm</th><th>skew_article_bert_emb_icm</th><th>skew_article_roberta_emb_icm</th><th>skew_article_w_to_vec_emb_icm</th><th>skew_article_emotions_emb_icm</th><th>skew_article_constrastive_emb_icm</th><th>kurtosis_article_kenneth_emb_icm</th><th>kurtosis_article_distilbert_emb_icm</th><th>kurtosis_article_bert_emb_icm</th><th>kurtosis_article_roberta_emb_icm</th><th>kurtosis_article_w_to_vec_emb_icm</th><th>kurtosis_article_emotions_emb_icm</th><th>kurtosis_article_constrastive_emb_icm</th><th>entropy_article_kenneth_emb_icm</th><th>entropy_article_distilbert_emb_icm</th><th>entropy_article_bert_emb_icm</th><th>entropy_article_roberta_emb_icm</th><th>entropy_article_w_to_vec_emb_icm</th><th>entropy_article_emotions_emb_icm</th><th>entropy_article_constrastive_emb_icm</th><th>kenneth_emb_icm_minus_median_article</th><th>distilbert_emb_icm_minus_median_article</th><th>bert_emb_icm_minus_median_article</th><th>roberta_emb_icm_minus_median_article</th><th>w_to_vec_emb_icm_minus_median_article</th><th>emotions_emb_icm_minus_median_article</th><th>constrastive_emb_icm_minus_median_article</th></tr><tr><td>u32</td><td>u32</td><td>i32</td><td>i8</td><td>i8</td><td>f32</td><td>f32</td><td>bool</td><td>i8</td><td>i8</td><td>bool</td><td>i8</td><td>i16</td><td>i16</td><td>i16</td><td>i16</td><td>i8</td><td>i8</td><td>f32</td><td>f32</td><td>f32</td><td>bool</td><td>i16</td><td>f32</td><td>str</td><td>u32</td><td>u8</td><td>u8</td><td>u16</td><td>u32</td><td>i32</td><td>i32</td><td>f32</td><td>f32</td><td>str</td><td>i16</td><td>i32</td><td>&hellip;</td><td>f32</td><td>f32</td><td>f32</td><td>f32</td><td>f32</td><td>f32</td><td>f32</td><td>f32</td><td>f32</td><td>f64</td><td>f64</td><td>f64</td><td>f64</td><td>f64</td><td>f64</td><td>f64</td><td>f64</td><td>f64</td><td>f64</td><td>f64</td><td>f64</td><td>f64</td><td>f64</td><td>f32</td><td>f32</td><td>f32</td><td>f32</td><td>f32</td><td>f32</td><td>f32</td><td>f32</td><td>f32</td><td>f32</td><td>f32</td><td>f32</td><td>f32</td><td>f32</td></tr></thead><tbody><tr><td>149474</td><td>139836</td><td>9778728</td><td>0</td><td>2</td><td>13.0</td><td>null</td><td>false</td><td>2</td><td>null</td><td>false</td><td>5</td><td>150</td><td>521</td><td>836</td><td>419</td><td>3</td><td>7</td><td>0.287908</td><td>0.179426</td><td>0.880068</td><td>false</td><td>142</td><td>0.9654</td><td>&quot;Negative&quot;</td><td>1</td><td>5</td><td>18</td><td>251</td><td>7</td><td>22415</td><td>220247</td><td>1.004828e6</td><td>0.101772</td><td>&quot;article_default&quot;</td><td>0</td><td>0</td><td>&hellip;</td><td>0.0</td><td>0.017241</td><td>0.003313</td><td>0.010775</td><td>0.020001</td><td>6.258241</td><td>0.005474</td><td>4.929348</td><td>0.062682</td><td>1.300164</td><td>2.060066</td><td>1.152196</td><td>1.754251</td><td>2.088241</td><td>1.214502</td><td>1.406736</td><td>1.339344</td><td>5.427761</td><td>1.025453</td><td>3.529418</td><td>5.37705</td><td>1.054931</td><td>1.963193</td><td>NaN</td><td>NaN</td><td>NaN</td><td>NaN</td><td>NaN</td><td>NaN</td><td>NaN</td><td>-0.002187</td><td>-0.004914</td><td>-0.014626</td><td>-3.694031</td><td>-0.002645</td><td>-3.802204</td><td>-0.039383</td></tr><tr><td>149474</td><td>139836</td><td>9778669</td><td>0</td><td>2</td><td>13.0</td><td>null</td><td>false</td><td>2</td><td>null</td><td>false</td><td>5</td><td>85</td><td>199</td><td>313</td><td>266</td><td>3</td><td>7</td><td>0.427136</td><td>0.271565</td><td>0.336149</td><td>false</td><td>118</td><td>0.9481</td><td>&quot;Negative&quot;</td><td>1</td><td>5</td><td>11</td><td>150</td><td>4</td><td>74491</td><td>373488</td><td>4.365609e6</td><td>0.199447</td><td>&quot;article_default&quot;</td><td>0</td><td>1</td><td>&hellip;</td><td>0.0</td><td>0.017094</td><td>0.003318</td><td>0.011131</td><td>0.019302</td><td>5.737217</td><td>0.003193</td><td>8.05171</td><td>0.06661</td><td>1.08501</td><td>1.063945</td><td>0.947301</td><td>1.095085</td><td>1.058148</td><td>1.020884</td><td>1.072975</td><td>0.822594</td><td>0.947987</td><td>0.355356</td><td>0.968488</td><td>1.051799</td><td>0.600099</td><td>0.791561</td><td>NaN</td><td>NaN</td><td>NaN</td><td>NaN</td><td>NaN</td><td>NaN</td><td>NaN</td><td>-0.002933</td><td>-0.010537</td><td>-0.017286</td><td>-4.617104</td><td>-0.002901</td><td>-7.678095</td><td>-0.057551</td></tr><tr><td>149474</td><td>139836</td><td>9778657</td><td>1</td><td>2</td><td>13.0</td><td>null</td><td>false</td><td>2</td><td>null</td><td>false</td><td>5</td><td>45</td><td>117</td><td>183</td><td>138</td><td>3</td><td>7</td><td>0.384615</td><td>0.245902</td><td>0.197635</td><td>false</td><td>118</td><td>0.8347</td><td>&quot;Neutral&quot;</td><td>2</td><td>6</td><td>31</td><td>336</td><td>3</td><td>108389</td><td>478098</td><td>7.606737e6</td><td>0.226709</td><td>&quot;article_default&quot;</td><td>0</td><td>1</td><td>&hellip;</td><td>0.040666</td><td>0.018519</td><td>0.002111</td><td>0.008137</td><td>0.008543</td><td>5.717194</td><td>0.00366</td><td>8.561325</td><td>0.059185</td><td>1.236213</td><td>1.329208</td><td>1.164375</td><td>1.193496</td><td>1.675507</td><td>1.062266</td><td>1.013523</td><td>1.31489</td><td>1.699753</td><td>1.096572</td><td>1.1145</td><td>3.356332</td><td>0.772156</td><td>0.543025</td><td>NaN</td><td>NaN</td><td>NaN</td><td>NaN</td><td>NaN</td><td>NaN</td><td>NaN</td><td>-0.001584</td><td>-0.004967</td><td>-0.006649</td><td>-3.69405</td><td>0.000809</td><td>-5.627156</td><td>-0.048475</td></tr><tr><td>150528</td><td>143471</td><td>9778682</td><td>0</td><td>2</td><td>25.0</td><td>null</td><td>false</td><td>2</td><td>null</td><td>false</td><td>5</td><td>69</td><td>206</td><td>334</td><td>201</td><td>3</td><td>7</td><td>0.334951</td><td>0.206587</td><td>0.347973</td><td>false</td><td>498</td><td>0.9546</td><td>&quot;Negative&quot;</td><td>1</td><td>5</td><td>20</td><td>267</td><td>3</td><td>143520</td><td>455723</td><td>9.298546e6</td><td>0.314928</td><td>&quot;article_default&quot;</td><td>0</td><td>1</td><td>&hellip;</td><td>0.423817</td><td>0.510204</td><td>0.002904</td><td>0.002484</td><td>0.013747</td><td>2.592643</td><td>0.002314</td><td>6.102935</td><td>0.026953</td><td>1.123093</td><td>1.399511</td><td>1.024124</td><td>1.321958</td><td>1.570706</td><td>1.162477</td><td>1.050127</td><td>1.073093</td><td>1.683398</td><td>0.449728</td><td>1.602564</td><td>2.810072</td><td>0.99776</td><td>0.528104</td><td>NaN</td><td>NaN</td><td>NaN</td><td>NaN</td><td>NaN</td><td>NaN</td><td>NaN</td><td>0.001073</td><td>0.006673</td><td>0.023935</td><td>2.770527</td><td>0.000024</td><td>8.67962</td><td>0.051505</td></tr><tr><td>150528</td><td>143471</td><td>9778669</td><td>0</td><td>2</td><td>25.0</td><td>null</td><td>false</td><td>2</td><td>null</td><td>false</td><td>5</td><td>85</td><td>199</td><td>313</td><td>266</td><td>3</td><td>7</td><td>0.427136</td><td>0.271565</td><td>0.336149</td><td>false</td><td>118</td><td>0.9481</td><td>&quot;Negative&quot;</td><td>1</td><td>5</td><td>11</td><td>150</td><td>4</td><td>74491</td><td>373488</td><td>4.365609e6</td><td>0.199447</td><td>&quot;article_default&quot;</td><td>0</td><td>1</td><td>&hellip;</td><td>0.499777</td><td>0.376067</td><td>0.003318</td><td>0.011131</td><td>0.019302</td><td>5.737217</td><td>0.003193</td><td>8.05171</td><td>0.06661</td><td>1.08501</td><td>1.063945</td><td>0.947301</td><td>1.095085</td><td>1.058148</td><td>1.020884</td><td>1.072975</td><td>0.822594</td><td>0.947987</td><td>0.355356</td><td>0.968488</td><td>1.051799</td><td>0.600099</td><td>0.791561</td><td>NaN</td><td>NaN</td><td>NaN</td><td>NaN</td><td>NaN</td><td>NaN</td><td>NaN</td><td>0.009987</td><td>0.020878</td><td>0.027923</td><td>10.157984</td><td>0.005087</td><td>13.68788</td><td>0.069667</td></tr><tr><td>&hellip;</td><td>&hellip;</td><td>&hellip;</td><td>&hellip;</td><td>&hellip;</td><td>&hellip;</td><td>&hellip;</td><td>&hellip;</td><td>&hellip;</td><td>&hellip;</td><td>&hellip;</td><td>&hellip;</td><td>&hellip;</td><td>&hellip;</td><td>&hellip;</td><td>&hellip;</td><td>&hellip;</td><td>&hellip;</td><td>&hellip;</td><td>&hellip;</td><td>&hellip;</td><td>&hellip;</td><td>&hellip;</td><td>&hellip;</td><td>&hellip;</td><td>&hellip;</td><td>&hellip;</td><td>&hellip;</td><td>&hellip;</td><td>&hellip;</td><td>&hellip;</td><td>&hellip;</td><td>&hellip;</td><td>&hellip;</td><td>&hellip;</td><td>&hellip;</td><td>&hellip;</td><td>&hellip;</td><td>&hellip;</td><td>&hellip;</td><td>&hellip;</td><td>&hellip;</td><td>&hellip;</td><td>&hellip;</td><td>&hellip;</td><td>&hellip;</td><td>&hellip;</td><td>&hellip;</td><td>&hellip;</td><td>&hellip;</td><td>&hellip;</td><td>&hellip;</td><td>&hellip;</td><td>&hellip;</td><td>&hellip;</td><td>&hellip;</td><td>&hellip;</td><td>&hellip;</td><td>&hellip;</td><td>&hellip;</td><td>&hellip;</td><td>&hellip;</td><td>&hellip;</td><td>&hellip;</td><td>&hellip;</td><td>&hellip;</td><td>&hellip;</td><td>&hellip;</td><td>&hellip;</td><td>&hellip;</td><td>&hellip;</td><td>&hellip;</td><td>&hellip;</td><td>&hellip;</td><td>&hellip;</td></tr><tr><td>580100695</td><td>2110744</td><td>9769917</td><td>0</td><td>1</td><td>5.0</td><td>100.0</td><td>false</td><td>2</td><td>null</td><td>false</td><td>5</td><td>46</td><td>105</td><td>152</td><td>76</td><td>4</td><td>10</td><td>0.438095</td><td>0.302632</td><td>0.203883</td><td>true</td><td>140</td><td>0.989</td><td>&quot;Negative&quot;</td><td>4</td><td>5</td><td>32</td><td>826</td><td>2</td><td>203222</td><td>2163455</td><td>1.2661448e7</td><td>0.093934</td><td>&quot;article_default&quot;</td><td>0</td><td>17</td><td>&hellip;</td><td>0.238911</td><td>0.282353</td><td>0.004352</td><td>0.004696</td><td>0.016885</td><td>3.22764</td><td>0.004771</td><td>5.527804</td><td>0.037168</td><td>1.414998</td><td>1.794079</td><td>1.060724</td><td>1.350037</td><td>1.496795</td><td>1.326803</td><td>1.13181</td><td>2.050239</td><td>4.575973</td><td>0.761328</td><td>1.845497</td><td>2.568588</td><td>1.885929</td><td>0.958738</td><td>NaN</td><td>NaN</td><td>NaN</td><td>NaN</td><td>NaN</td><td>NaN</td><td>NaN</td><td>0.000328</td><td>0.003447</td><td>0.00133</td><td>4.617616</td><td>0.000075</td><td>6.824215</td><td>0.042417</td></tr><tr><td>580100695</td><td>2110744</td><td>9767697</td><td>1</td><td>1</td><td>5.0</td><td>100.0</td><td>false</td><td>2</td><td>null</td><td>false</td><td>5</td><td>50</td><td>187</td><td>238</td><td>116</td><td>4</td><td>10</td><td>0.26738</td><td>0.210084</td><td>0.363107</td><td>false</td><td>118</td><td>0.9613</td><td>&quot;Negative&quot;</td><td>5</td><td>7</td><td>2</td><td>982</td><td>3</td><td>199205</td><td>954408</td><td>2.595362e7</td><td>0.208721</td><td>&quot;article_default&quot;</td><td>0</td><td>3</td><td>&hellip;</td><td>0.203493</td><td>0.2293</td><td>0.00346</td><td>0.011058</td><td>0.021129</td><td>5.096274</td><td>0.004474</td><td>6.487422</td><td>0.057438</td><td>1.311479</td><td>1.358967</td><td>1.063776</td><td>1.427379</td><td>1.381782</td><td>1.248035</td><td>1.152475</td><td>1.710689</td><td>1.932696</td><td>1.394245</td><td>1.943921</td><td>1.896644</td><td>2.053446</td><td>1.729625</td><td>NaN</td><td>NaN</td><td>NaN</td><td>NaN</td><td>NaN</td><td>NaN</td><td>NaN</td><td>0.004716</td><td>0.025248</td><td>0.011967</td><td>8.311346</td><td>0.001517</td><td>4.895759</td><td>0.054535</td></tr><tr><td>580100697</td><td>2110744</td><td>9770997</td><td>0</td><td>1</td><td>14.0</td><td>100.0</td><td>false</td><td>2</td><td>null</td><td>false</td><td>5</td><td>32</td><td>78</td><td>136</td><td>54</td><td>4</td><td>10</td><td>0.410256</td><td>0.235294</td><td>0.151456</td><td>false</td><td>414</td><td>0.845</td><td>&quot;Positive&quot;</td><td>1</td><td>5</td><td>18</td><td>164</td><td>4</td><td>110632</td><td>485698</td><td>5.034287e6</td><td>0.227779</td><td>&quot;article_default&quot;</td><td>0</td><td>3</td><td>&hellip;</td><td>0.343626</td><td>0.316455</td><td>0.002557</td><td>0.002122</td><td>0.007919</td><td>2.121076</td><td>0.002183</td><td>5.810726</td><td>0.04322</td><td>1.097734</td><td>1.75507</td><td>1.036073</td><td>1.513903</td><td>1.372514</td><td>1.012743</td><td>0.99518</td><td>0.748792</td><td>3.502281</td><td>0.718394</td><td>2.424884</td><td>1.550694</td><td>0.662526</td><td>0.648514</td><td>NaN</td><td>NaN</td><td>NaN</td><td>NaN</td><td>NaN</td><td>NaN</td><td>NaN</td><td>0.000738</td><td>0.000006</td><td>0.003989</td><td>1.846819</td><td>0.004057</td><td>4.759509</td><td>0.033314</td></tr><tr><td>580100697</td><td>2110744</td><td>9514481</td><td>0</td><td>1</td><td>14.0</td><td>100.0</td><td>false</td><td>2</td><td>null</td><td>false</td><td>5</td><td>8</td><td>37</td><td>49</td><td>34</td><td>4</td><td>10</td><td>0.216216</td><td>0.163265</td><td>0.071845</td><td>true</td><td>414</td><td>0.9501</td><td>&quot;Neutral&quot;</td><td>7</td><td>9</td><td>30</td><td>371</td><td>3</td><td>null</td><td>null</td><td>null</td><td>null</td><td>&quot;article_standard_feature&quot;</td><td>182</td><td>4390</td><td>&hellip;</td><td>0.274603</td><td>0.283019</td><td>0.000956</td><td>0.002733</td><td>0.01099</td><td>2.359698</td><td>0.001003</td><td>6.184035</td><td>0.027704</td><td>3.063383</td><td>3.079047</td><td>1.043459</td><td>1.645802</td><td>2.560569</td><td>1.11586</td><td>1.079056</td><td>18.673144</td><td>19.58198</td><td>0.828804</td><td>3.994179</td><td>12.139696</td><td>1.178222</td><td>1.025234</td><td>NaN</td><td>NaN</td><td>NaN</td><td>NaN</td><td>NaN</td><td>NaN</td><td>NaN</td><td>-0.000616</td><td>0.006715</td><td>0.003989</td><td>1.846902</td><td>0.0</td><td>4.839677</td><td>0.015149</td></tr><tr><td>580100697</td><td>2110744</td><td>9771042</td><td>1</td><td>1</td><td>14.0</td><td>100.0</td><td>false</td><td>2</td><td>null</td><td>false</td><td>5</td><td>31</td><td>96</td><td>194</td><td>109</td><td>4</td><td>10</td><td>0.322917</td><td>0.159794</td><td>0.186408</td><td>false</td><td>118</td><td>0.6719</td><td>&quot;Positive&quot;</td><td>1</td><td>4</td><td>17</td><td>200</td><td>3</td><td>67278</td><td>415895</td><td>3.605973e6</td><td>0.161767</td><td>&quot;article_default&quot;</td><td>0</td><td>3</td><td>&hellip;</td><td>0.179865</td><td>0.208794</td><td>0.003883</td><td>0.006188</td><td>0.009416</td><td>4.100121</td><td>0.00458</td><td>7.730588</td><td>0.069206</td><td>1.048995</td><td>1.141008</td><td>1.294069</td><td>1.112913</td><td>1.052545</td><td>1.010007</td><td>1.131115</td><td>1.094468</td><td>1.116298</td><td>2.420818</td><td>1.198946</td><td>0.8052</td><td>0.832512</td><td>1.357384</td><td>NaN</td><td>NaN</td><td>NaN</td><td>NaN</td><td>NaN</td><td>NaN</td><td>NaN</td><td>0.003236</td><td>0.003341</td><td>0.005319</td><td>0.923669</td><td>0.000321</td><td>2.809226</td><td>0.048465</td></tr></tbody></table></div>"
      ],
      "text/plain": [
       "shape: (702_831, 383)\n",
       "┌─────────────┬─────────┬─────────┬────────┬───┬────────────┬────────────┬────────────┬────────────┐\n",
       "│ impression_ ┆ user_id ┆ article ┆ target ┆ … ┆ roberta_em ┆ w_to_vec_e ┆ emotions_e ┆ constrasti │\n",
       "│ id          ┆ ---     ┆ ---     ┆ ---    ┆   ┆ b_icm_minu ┆ mb_icm_min ┆ mb_icm_min ┆ ve_emb_icm │\n",
       "│ ---         ┆ u32     ┆ i32     ┆ i8     ┆   ┆ s_median_a ┆ us_median_ ┆ us_median_ ┆ _minus_med │\n",
       "│ u32         ┆         ┆         ┆        ┆   ┆ …          ┆ …          ┆ …          ┆ …          │\n",
       "│             ┆         ┆         ┆        ┆   ┆ ---        ┆ ---        ┆ ---        ┆ ---        │\n",
       "│             ┆         ┆         ┆        ┆   ┆ f32        ┆ f32        ┆ f32        ┆ f32        │\n",
       "╞═════════════╪═════════╪═════════╪════════╪═══╪════════════╪════════════╪════════════╪════════════╡\n",
       "│ 149474      ┆ 139836  ┆ 9778728 ┆ 0      ┆ … ┆ -3.694031  ┆ -0.002645  ┆ -3.802204  ┆ -0.039383  │\n",
       "│ 149474      ┆ 139836  ┆ 9778669 ┆ 0      ┆ … ┆ -4.617104  ┆ -0.002901  ┆ -7.678095  ┆ -0.057551  │\n",
       "│ 149474      ┆ 139836  ┆ 9778657 ┆ 1      ┆ … ┆ -3.69405   ┆ 0.000809   ┆ -5.627156  ┆ -0.048475  │\n",
       "│ 150528      ┆ 143471  ┆ 9778682 ┆ 0      ┆ … ┆ 2.770527   ┆ 0.000024   ┆ 8.67962    ┆ 0.051505   │\n",
       "│ 150528      ┆ 143471  ┆ 9778669 ┆ 0      ┆ … ┆ 10.157984  ┆ 0.005087   ┆ 13.68788   ┆ 0.069667   │\n",
       "│ …           ┆ …       ┆ …       ┆ …      ┆ … ┆ …          ┆ …          ┆ …          ┆ …          │\n",
       "│ 580100695   ┆ 2110744 ┆ 9769917 ┆ 0      ┆ … ┆ 4.617616   ┆ 0.000075   ┆ 6.824215   ┆ 0.042417   │\n",
       "│ 580100695   ┆ 2110744 ┆ 9767697 ┆ 1      ┆ … ┆ 8.311346   ┆ 0.001517   ┆ 4.895759   ┆ 0.054535   │\n",
       "│ 580100697   ┆ 2110744 ┆ 9770997 ┆ 0      ┆ … ┆ 1.846819   ┆ 0.004057   ┆ 4.759509   ┆ 0.033314   │\n",
       "│ 580100697   ┆ 2110744 ┆ 9514481 ┆ 0      ┆ … ┆ 1.846902   ┆ 0.0        ┆ 4.839677   ┆ 0.015149   │\n",
       "│ 580100697   ┆ 2110744 ┆ 9771042 ┆ 1      ┆ … ┆ 0.923669   ┆ 0.000321   ┆ 2.809226   ┆ 0.048465   │\n",
       "└─────────────┴─────────┴─────────┴────────┴───┴────────────┴────────────┴────────────┴────────────┘"
      ]
     },
     "execution_count": 23,
     "metadata": {},
     "output_type": "execute_result"
    }
   ],
   "source": [
    "DATASET_DIR = Path('/Users/lorecampa/Desktop/Projects/RecSysChallenge2024/dataset/preprocessing/subsample_new_with_recsys_small')\n",
    "\n",
    "train_ds = pl.read_parquet(DATASET_DIR / 'train_ds.parquet')\n",
    "train_ds"
   ]
  },
  {
   "cell_type": "code",
   "execution_count": null,
   "metadata": {},
   "outputs": [],
   "source": []
  },
  {
   "cell_type": "code",
   "execution_count": 19,
   "metadata": {},
   "outputs": [
    {
     "ename": "AttributeError",
     "evalue": "'DataFrame' object has no attribute 'copy'",
     "output_type": "error",
     "traceback": [
      "\u001b[0;31m---------------------------------------------------------------------------\u001b[0m",
      "\u001b[0;31mAttributeError\u001b[0m                            Traceback (most recent call last)",
      "Cell \u001b[0;32mIn[19], line 2\u001b[0m\n\u001b[1;32m      1\u001b[0m \u001b[38;5;66;03m# printing the count of infinity values \u001b[39;00m\n\u001b[0;32m----> 2\u001b[0m df \u001b[38;5;241m=\u001b[39m \u001b[43mtrain_ds\u001b[49m\u001b[38;5;241;43m.\u001b[39;49m\u001b[43mcopy\u001b[49m()\n\u001b[1;32m      3\u001b[0m numerics \u001b[38;5;241m=\u001b[39m [\u001b[38;5;124m'\u001b[39m\u001b[38;5;124mint16\u001b[39m\u001b[38;5;124m'\u001b[39m, \u001b[38;5;124m'\u001b[39m\u001b[38;5;124mint32\u001b[39m\u001b[38;5;124m'\u001b[39m, \u001b[38;5;124m'\u001b[39m\u001b[38;5;124mint64\u001b[39m\u001b[38;5;124m'\u001b[39m, \u001b[38;5;124m'\u001b[39m\u001b[38;5;124mfloat16\u001b[39m\u001b[38;5;124m'\u001b[39m, \u001b[38;5;124m'\u001b[39m\u001b[38;5;124mfloat32\u001b[39m\u001b[38;5;124m'\u001b[39m, \u001b[38;5;124m'\u001b[39m\u001b[38;5;124mfloat64\u001b[39m\u001b[38;5;124m'\u001b[39m]\n\u001b[1;32m      4\u001b[0m newdf \u001b[38;5;241m=\u001b[39m df\u001b[38;5;241m.\u001b[39mselect_dtypes(include\u001b[38;5;241m=\u001b[39mnumerics)\n",
      "\u001b[0;31mAttributeError\u001b[0m: 'DataFrame' object has no attribute 'copy'"
     ]
    }
   ],
   "source": [
    "# printing the count of infinity values \n",
    "df = train_ds.copy()\n",
    "numerics = ['int16', 'int32', 'int64', 'float16', 'float32', 'float64']\n",
    "newdf = df.select_dtypes(include=numerics)\n",
    "newdf.columns.to_series()[np.isinf(newdf).any()]\n"
   ]
  },
  {
   "cell_type": "code",
   "execution_count": 28,
   "metadata": {},
   "outputs": [
    {
     "data": {
      "text/plain": [
       "Series([], dtype: object)"
      ]
     },
     "execution_count": 28,
     "metadata": {},
     "output_type": "execute_result"
    }
   ],
   "source": [
    "newdf.columns.to_series()[np.isinf(newdf).any()]"
   ]
  },
  {
   "cell_type": "code",
   "execution_count": 13,
   "metadata": {},
   "outputs": [
    {
     "data": {
      "text/html": [
       "<div><style>\n",
       ".dataframe > thead > tr,\n",
       ".dataframe > tbody > tr {\n",
       "  text-align: right;\n",
       "  white-space: pre-wrap;\n",
       "}\n",
       "</style>\n",
       "<small>shape: (1, 312)</small><table border=\"1\" class=\"dataframe\"><thead><tr><th>impression_id</th><th>article</th><th>user_id</th><th>impression_time</th><th>device_type</th><th>read_time</th><th>scroll_percentage</th><th>is_sso_user</th><th>gender</th><th>age</th><th>is_subscriber</th><th>target</th><th>trendiness_score_3d</th><th>weekday</th><th>hour</th><th>premium</th><th>category</th><th>sentiment_score</th><th>sentiment_label</th><th>num_images</th><th>title_len</th><th>subtitle_len</th><th>body_len</th><th>num_topics</th><th>article_delay_days</th><th>article_delay_hours</th><th>Entity_ORG_Present</th><th>Entity_PROD_Present</th><th>Entity_PER_Present</th><th>Entity_EVENT_Present</th><th>Entity_MISC_Present</th><th>Entity_LOC_Present</th><th>last_session_duration</th><th>mean_prev_sessions_duration</th><th>last_session_time_hour_diff</th><th>is_new_article</th><th>is_already_seen_article</th><th>&hellip;</th><th>total_pageviews/inviews_minus_median_impression</th><th>mean_JS_minus_median_impression</th><th>mean_topic_model_cosine_minus_median_impression</th><th>topics_cosine_minus_median_impression</th><th>article_delay_hours_minus_median_impression</th><th>total_pageviews_minus_median_impression</th><th>total_inviews_minus_median_impression</th><th>trendiness_score_category_minus_median_impression</th><th>std_JS_minus_median_impression</th><th>total_read_time_minus_median_impression</th><th>endorsement_10h_leak_minus_median_impression</th><th>trendiness_score_3d_leak_minus_median_impression</th><th>clicked_count_minus_median_impression</th><th>inview_count_minus_median_impression</th><th>category_diversity_impression</th><th>sentiment_label_diversity_impression</th><th>article_type_diversity_impression</th><th>endorsement_20h_articleuser_l_inf_articleuser</th><th>sum_RP3betaRecommender_ner_scores_l_inf_impression</th><th>max_RP3betaRecommender_ner_scores_l_inf_impression</th><th>mean_RP3betaRecommender_ner_scores_l_inf_impression</th><th>contrastive_vector_scores_weighted_scroll_percentage_fixed_mmnorm_l1_w_mean_l_inf_impression</th><th>xlm_roberta_base_scores_weighted_scroll_percentage_fixed_mmnorm_l1_w_mean_l_inf_impression</th><th>image_embeddings_scores_weighted_scroll_percentage_fixed_mmnorm_l1_w_mean_l_inf_impression</th><th>bert_base_multilingual_cased_scores_weighted_scroll_percentage_fixed_mmnorm_l1_w_mean_l_inf_impression</th><th>contrastive_vector_scores_weighted_scroll_percentage_fixed_mmnorm_l1_w_max_l_inf_impression</th><th>xlm_roberta_base_scores_weighted_scroll_percentage_fixed_mmnorm_l1_w_max_l_inf_impression</th><th>image_embeddings_scores_weighted_scroll_percentage_fixed_mmnorm_l1_w_max_l_inf_impression</th><th>bert_base_multilingual_cased_scores_weighted_scroll_percentage_fixed_mmnorm_l1_w_max_l_inf_impression</th><th>contrastive_vector_scores_weighted_scroll_percentage_fixed_mmnorm_l1_w_std_l_inf_impression</th><th>xlm_roberta_base_scores_weighted_scroll_percentage_fixed_mmnorm_l1_w_std_l_inf_impression</th><th>image_embeddings_scores_weighted_scroll_percentage_fixed_mmnorm_l1_w_std_l_inf_impression</th><th>bert_base_multilingual_cased_scores_weighted_scroll_percentage_fixed_mmnorm_l1_w_std_l_inf_impression</th><th>contrastive_vector_scores_weighted_scroll_percentage_fixed_mmnorm_l1_w_median_l_inf_impression</th><th>xlm_roberta_base_scores_weighted_scroll_percentage_fixed_mmnorm_l1_w_median_l_inf_impression</th><th>image_embeddings_scores_weighted_scroll_percentage_fixed_mmnorm_l1_w_median_l_inf_impression</th><th>bert_base_multilingual_cased_scores_weighted_scroll_percentage_fixed_mmnorm_l1_w_median_l_inf_impression</th></tr><tr><td>u32</td><td>i32</td><td>u32</td><td>datetime[μs]</td><td>i8</td><td>f32</td><td>f32</td><td>bool</td><td>i8</td><td>i8</td><td>bool</td><td>i8</td><td>i16</td><td>i8</td><td>i8</td><td>bool</td><td>i16</td><td>f32</td><td>str</td><td>u32</td><td>u8</td><td>u8</td><td>u16</td><td>u32</td><td>i16</td><td>i32</td><td>bool</td><td>bool</td><td>bool</td><td>bool</td><td>bool</td><td>bool</td><td>i8</td><td>f32</td><td>i16</td><td>bool</td><td>bool</td><td>&hellip;</td><td>f32</td><td>f32</td><td>f32</td><td>f32</td><td>f32</td><td>f32</td><td>f32</td><td>f32</td><td>f32</td><td>f32</td><td>f32</td><td>f32</td><td>f32</td><td>f32</td><td>u8</td><td>u8</td><td>u8</td><td>f32</td><td>f32</td><td>f32</td><td>f32</td><td>f32</td><td>f32</td><td>f32</td><td>f32</td><td>f32</td><td>f32</td><td>f32</td><td>f32</td><td>f32</td><td>f32</td><td>f32</td><td>f32</td><td>f32</td><td>f32</td><td>f32</td><td>f32</td></tr></thead><tbody><tr><td>470303568</td><td>9771042</td><td>2456550</td><td>2023-05-18 07:00:14</td><td>2</td><td>3.0</td><td>null</td><td>false</td><td>2</td><td>null</td><td>false</td><td>0</td><td>96</td><td>4</td><td>7</td><td>false</td><td>118</td><td>0.6719</td><td>&quot;Positive&quot;</td><td>1</td><td>4</td><td>17</td><td>200</td><td>3</td><td>0</td><td>0</td><td>true</td><td>false</td><td>true</td><td>true</td><td>false</td><td>false</td><td>0</td><td>0.0</td><td>14</td><td>false</td><td>false</td><td>&hellip;</td><td>-0.013114</td><td>-0.033377</td><td>0.012717</td><td>0.124914</td><td>-1.0</td><td>-23633.5</td><td>-41238.5</td><td>15.0</td><td>-0.037947</td><td>-1.748765e6</td><td>53.0</td><td>3.5</td><td>-66.0</td><td>29.5</td><td>6</td><td>3</td><td>1</td><td>1.0</td><td>0.0</td><td>0.0</td><td>0.0</td><td>1.0</td><td>0.99994</td><td>0.901687</td><td>0.999985</td><td>0.758922</td><td>0.999893</td><td>0.949899</td><td>1.0</td><td>1.0</td><td>0.999954</td><td>0.958381</td><td>1.0</td><td>1.0</td><td>0.999906</td><td>0.575378</td><td>0.997759</td></tr></tbody></table></div>"
      ],
      "text/plain": [
       "shape: (1, 312)\n",
       "┌────────────┬─────────┬─────────┬────────────┬───┬────────────┬───────────┬───────────┬───────────┐\n",
       "│ impression ┆ article ┆ user_id ┆ impression ┆ … ┆ contrastiv ┆ xlm_rober ┆ image_emb ┆ bert_base │\n",
       "│ _id        ┆ ---     ┆ ---     ┆ _time      ┆   ┆ e_vector_s ┆ ta_base_s ┆ eddings_s ┆ _multilin │\n",
       "│ ---        ┆ i32     ┆ u32     ┆ ---        ┆   ┆ cores_weig ┆ cores_wei ┆ cores_wei ┆ gual_case │\n",
       "│ u32        ┆         ┆         ┆ datetime[μ ┆   ┆ …          ┆ ght…      ┆ ght…      ┆ d_s…      │\n",
       "│            ┆         ┆         ┆ s]         ┆   ┆ ---        ┆ ---       ┆ ---       ┆ ---       │\n",
       "│            ┆         ┆         ┆            ┆   ┆ f32        ┆ f32       ┆ f32       ┆ f32       │\n",
       "╞════════════╪═════════╪═════════╪════════════╪═══╪════════════╪═══════════╪═══════════╪═══════════╡\n",
       "│ 470303568  ┆ 9771042 ┆ 2456550 ┆ 2023-05-18 ┆ … ┆ 1.0        ┆ 0.999906  ┆ 0.575378  ┆ 0.997759  │\n",
       "│            ┆         ┆         ┆ 07:00:14   ┆   ┆            ┆           ┆           ┆           │\n",
       "└────────────┴─────────┴─────────┴────────────┴───┴────────────┴───────────┴───────────┴───────────┘"
      ]
     },
     "execution_count": 13,
     "metadata": {},
     "output_type": "execute_result"
    }
   ],
   "source": [
    "x = pl.read_parquet(Path('/Users/lorecampa/Desktop/Projects/RecSysChallenge2024/experiments') / 'preprocessing_moving_window_2024-05-23_11-27-50'/'fold_1'/'train_ds.parquet')\n",
    "x.head(1)"
   ]
  },
  {
   "cell_type": "code",
   "execution_count": 15,
   "metadata": {},
   "outputs": [
    {
     "data": {
      "text/html": [
       "<div><style>\n",
       ".dataframe > thead > tr,\n",
       ".dataframe > tbody > tr {\n",
       "  text-align: right;\n",
       "  white-space: pre-wrap;\n",
       "}\n",
       "</style>\n",
       "<small>shape: (160_767, 6)</small><table border=\"1\" class=\"dataframe\"><thead><tr><th>impression_id</th><th>article</th><th>user_id</th><th>sum_RP3betaRecommender_ner_scores_l_inf_impression</th><th>max_RP3betaRecommender_ner_scores_l_inf_impression</th><th>mean_RP3betaRecommender_ner_scores_l_inf_impression</th></tr><tr><td>u32</td><td>i32</td><td>u32</td><td>f32</td><td>f32</td><td>f32</td></tr></thead><tbody><tr><td>470303568</td><td>9771042</td><td>2456550</td><td>0.0</td><td>0.0</td><td>0.0</td></tr><tr><td>470303568</td><td>9769306</td><td>2456550</td><td>0.0</td><td>0.0</td><td>0.0</td></tr><tr><td>470303569</td><td>9769553</td><td>2456550</td><td>0.0</td><td>0.0</td><td>0.0</td></tr><tr><td>157803571</td><td>9770989</td><td>2226651</td><td>0.0</td><td>0.0</td><td>0.0</td></tr><tr><td>470303569</td><td>9770798</td><td>2456550</td><td>0.0</td><td>0.0</td><td>0.0</td></tr><tr><td>&hellip;</td><td>&hellip;</td><td>&hellip;</td><td>&hellip;</td><td>&hellip;</td><td>&hellip;</td></tr><tr><td>567361947</td><td>9775402</td><td>667805</td><td>0.164644</td><td>0.292057</td><td>0.146351</td></tr><tr><td>567361947</td><td>9754160</td><td>667805</td><td>0.758724</td><td>0.810411</td><td>0.551799</td></tr><tr><td>567361947</td><td>9775430</td><td>667805</td><td>0.0</td><td>0.0</td><td>0.0</td></tr><tr><td>567361947</td><td>7460419</td><td>667805</td><td>null</td><td>null</td><td>null</td></tr><tr><td>567361947</td><td>9774595</td><td>667805</td><td>0.0</td><td>0.0</td><td>0.0</td></tr></tbody></table></div>"
      ],
      "text/plain": [
       "shape: (160_767, 6)\n",
       "┌───────────────┬─────────┬─────────┬────────────────────┬────────────────────┬────────────────────┐\n",
       "│ impression_id ┆ article ┆ user_id ┆ sum_RP3betaRecomme ┆ max_RP3betaRecomme ┆ mean_RP3betaRecomm │\n",
       "│ ---           ┆ ---     ┆ ---     ┆ nder_ner_sco…      ┆ nder_ner_sco…      ┆ ender_ner_sc…      │\n",
       "│ u32           ┆ i32     ┆ u32     ┆ ---                ┆ ---                ┆ ---                │\n",
       "│               ┆         ┆         ┆ f32                ┆ f32                ┆ f32                │\n",
       "╞═══════════════╪═════════╪═════════╪════════════════════╪════════════════════╪════════════════════╡\n",
       "│ 470303568     ┆ 9771042 ┆ 2456550 ┆ 0.0                ┆ 0.0                ┆ 0.0                │\n",
       "│ 470303568     ┆ 9769306 ┆ 2456550 ┆ 0.0                ┆ 0.0                ┆ 0.0                │\n",
       "│ 470303569     ┆ 9769553 ┆ 2456550 ┆ 0.0                ┆ 0.0                ┆ 0.0                │\n",
       "│ 157803571     ┆ 9770989 ┆ 2226651 ┆ 0.0                ┆ 0.0                ┆ 0.0                │\n",
       "│ 470303569     ┆ 9770798 ┆ 2456550 ┆ 0.0                ┆ 0.0                ┆ 0.0                │\n",
       "│ …             ┆ …       ┆ …       ┆ …                  ┆ …                  ┆ …                  │\n",
       "│ 567361947     ┆ 9775402 ┆ 667805  ┆ 0.164644           ┆ 0.292057           ┆ 0.146351           │\n",
       "│ 567361947     ┆ 9754160 ┆ 667805  ┆ 0.758724           ┆ 0.810411           ┆ 0.551799           │\n",
       "│ 567361947     ┆ 9775430 ┆ 667805  ┆ 0.0                ┆ 0.0                ┆ 0.0                │\n",
       "│ 567361947     ┆ 7460419 ┆ 667805  ┆ null               ┆ null               ┆ null               │\n",
       "│ 567361947     ┆ 9774595 ┆ 667805  ┆ 0.0                ┆ 0.0                ┆ 0.0                │\n",
       "└───────────────┴─────────┴─────────┴────────────────────┴────────────────────┴────────────────────┘"
      ]
     },
     "execution_count": 15,
     "metadata": {},
     "output_type": "execute_result"
    }
   ],
   "source": [
    "a = x.select('impression_id', 'article', 'user_id', *[col for col in x.columns if '_ner_scores' in col])\n",
    "a"
   ]
  },
  {
   "cell_type": "code",
   "execution_count": 2,
   "metadata": {},
   "outputs": [],
   "source": [
    "dpath = Path('/mnt/ebs_volume/recsys2024/dataset')\n",
    "\n",
    "dtype = 'small'\n",
    "articles = pl.read_parquet(f'{dpath}/ebnerd_{dtype}/articles.parquet')\n",
    "\n",
    "behaviors_train = pl.read_parquet(f'{dpath}/ebnerd_{dtype}/train/behaviors.parquet')\n",
    "history_train = pl.read_parquet(f'{dpath}/ebnerd_{dtype}/train/history.parquet')\n",
    "\n",
    "behaviors_val = pl.read_parquet(f'{dpath}/ebnerd_{dtype}/validation/behaviors.parquet')\n",
    "history_val = pl.read_parquet(f'{dpath}/ebnerd_{dtype}/validation/history.parquet')"
   ]
  },
  {
   "cell_type": "code",
   "execution_count": 3,
   "metadata": {},
   "outputs": [
    {
     "data": {
      "text/html": [
       "<div><style>\n",
       ".dataframe > thead > tr,\n",
       ".dataframe > tbody > tr {\n",
       "  text-align: right;\n",
       "  white-space: pre-wrap;\n",
       "}\n",
       "</style>\n",
       "<small>shape: (15_143, 5)</small><table border=\"1\" class=\"dataframe\"><thead><tr><th>user_id</th><th>impression_time_fixed</th><th>scroll_percentage_fixed</th><th>article_id_fixed</th><th>read_time_fixed</th></tr><tr><td>u32</td><td>list[datetime[μs]]</td><td>list[f32]</td><td>list[i32]</td><td>list[f32]</td></tr></thead><tbody><tr><td>13538</td><td>[2023-04-27 10:17:43, 2023-04-27 10:18:01, … 2023-05-17 20:36:34]</td><td>[100.0, 35.0, … 100.0]</td><td>[9738663, 9738569, … 9769366]</td><td>[17.0, 12.0, … 16.0]</td></tr><tr><td>14241</td><td>[2023-04-27 09:40:18, 2023-04-27 09:40:33, … 2023-05-17 17:08:41]</td><td>[100.0, 46.0, … 100.0]</td><td>[9738557, 9738528, … 9767852]</td><td>[8.0, 9.0, … 12.0]</td></tr><tr><td>20396</td><td>[2023-04-27 12:30:44, 2023-04-27 12:31:34, … 2023-05-17 10:59:44]</td><td>[100.0, 59.0, … 13.0]</td><td>[9738760, 9738355, … 9769679]</td><td>[49.0, 34.0, … 4.0]</td></tr><tr><td>34912</td><td>[2023-04-29 07:12:49, 2023-04-29 13:01:18, … 2023-05-18 05:06:40]</td><td>[100.0, 35.0, … 27.0]</td><td>[9741802, 9741804, … 9770882]</td><td>[153.0, 7.0, … 5.0]</td></tr><tr><td>37953</td><td>[2023-04-27 19:17:10, 2023-04-27 19:17:27, … 2023-05-17 21:29:22]</td><td>[14.0, 28.0, … 18.0]</td><td>[9739205, 9739202, … 9769306]</td><td>[4.0, 16.0, … 6.0]</td></tr><tr><td>&hellip;</td><td>&hellip;</td><td>&hellip;</td><td>&hellip;</td><td>&hellip;</td></tr><tr><td>1479974</td><td>[2023-05-18 06:03:16, 2023-05-18 06:03:24, … 2023-05-18 06:41:22]</td><td>[58.0, 100.0, … 21.0]</td><td>[9770989, 9769553, … 9766140]</td><td>[8.0, 124.0, … 9.0]</td></tr><tr><td>2405403</td><td>[2023-04-30 19:48:27, 2023-04-30 19:48:29, … 2023-04-30 19:49:49]</td><td>[40.0, 100.0, … 39.0]</td><td>[9743574, 9740618, … 9743487]</td><td>[1.0, 64.0, … 120.0]</td></tr><tr><td>2454548</td><td>[2023-05-17 09:35:06, 2023-05-17 09:35:23, … 2023-05-17 09:43:09]</td><td>[12.0, 10.0, … 79.0]</td><td>[9768328, 9769328, … 9634567]</td><td>[9.0, 6.0, … 11.0]</td></tr><tr><td>581228</td><td>[2023-05-18 05:24:32, 2023-05-18 05:24:45, … 2023-05-18 05:39:13]</td><td>[28.0, 60.0, … 100.0]</td><td>[9770799, 9770726, … 9769366]</td><td>[12.0, 15.0, … 43.0]</td></tr><tr><td>1710834</td><td>[2023-05-17 21:09:45, 2023-05-17 21:09:55, … 2023-05-17 21:11:59]</td><td>[20.0, 43.0, … 48.0]</td><td>[9770741, 9770594, … 9770452]</td><td>[9.0, 44.0, … 916.0]</td></tr></tbody></table></div>"
      ],
      "text/plain": [
       "shape: (15_143, 5)\n",
       "┌─────────┬──────────────────────┬─────────────────────┬─────────────────────┬─────────────────────┐\n",
       "│ user_id ┆ impression_time_fixe ┆ scroll_percentage_f ┆ article_id_fixed    ┆ read_time_fixed     │\n",
       "│ ---     ┆ d                    ┆ ixed                ┆ ---                 ┆ ---                 │\n",
       "│ u32     ┆ ---                  ┆ ---                 ┆ list[i32]           ┆ list[f32]           │\n",
       "│         ┆ list[datetime[μs]]   ┆ list[f32]           ┆                     ┆                     │\n",
       "╞═════════╪══════════════════════╪═════════════════════╪═════════════════════╪═════════════════════╡\n",
       "│ 13538   ┆ [2023-04-27          ┆ [100.0, 35.0, …     ┆ [9738663, 9738569,  ┆ [17.0, 12.0, …      │\n",
       "│         ┆ 10:17:43, 2023-04-…  ┆ 100.0]              ┆ … 9769366]          ┆ 16.0]               │\n",
       "│ 14241   ┆ [2023-04-27          ┆ [100.0, 46.0, …     ┆ [9738557, 9738528,  ┆ [8.0, 9.0, … 12.0]  │\n",
       "│         ┆ 09:40:18, 2023-04-…  ┆ 100.0]              ┆ … 9767852]          ┆                     │\n",
       "│ 20396   ┆ [2023-04-27          ┆ [100.0, 59.0, …     ┆ [9738760, 9738355,  ┆ [49.0, 34.0, … 4.0] │\n",
       "│         ┆ 12:30:44, 2023-04-…  ┆ 13.0]               ┆ … 9769679]          ┆                     │\n",
       "│ 34912   ┆ [2023-04-29          ┆ [100.0, 35.0, …     ┆ [9741802, 9741804,  ┆ [153.0, 7.0, … 5.0] │\n",
       "│         ┆ 07:12:49, 2023-04-…  ┆ 27.0]               ┆ … 9770882]          ┆                     │\n",
       "│ 37953   ┆ [2023-04-27          ┆ [14.0, 28.0, …      ┆ [9739205, 9739202,  ┆ [4.0, 16.0, … 6.0]  │\n",
       "│         ┆ 19:17:10, 2023-04-…  ┆ 18.0]               ┆ … 9769306]          ┆                     │\n",
       "│ …       ┆ …                    ┆ …                   ┆ …                   ┆ …                   │\n",
       "│ 1479974 ┆ [2023-05-18          ┆ [58.0, 100.0, …     ┆ [9770989, 9769553,  ┆ [8.0, 124.0, … 9.0] │\n",
       "│         ┆ 06:03:16, 2023-05-…  ┆ 21.0]               ┆ … 9766140]          ┆                     │\n",
       "│ 2405403 ┆ [2023-04-30          ┆ [40.0, 100.0, …     ┆ [9743574, 9740618,  ┆ [1.0, 64.0, …       │\n",
       "│         ┆ 19:48:27, 2023-04-…  ┆ 39.0]               ┆ … 9743487]          ┆ 120.0]              │\n",
       "│ 2454548 ┆ [2023-05-17          ┆ [12.0, 10.0, …      ┆ [9768328, 9769328,  ┆ [9.0, 6.0, … 11.0]  │\n",
       "│         ┆ 09:35:06, 2023-05-…  ┆ 79.0]               ┆ … 9634567]          ┆                     │\n",
       "│ 581228  ┆ [2023-05-18          ┆ [28.0, 60.0, …      ┆ [9770799, 9770726,  ┆ [12.0, 15.0, …      │\n",
       "│         ┆ 05:24:32, 2023-05-…  ┆ 100.0]              ┆ … 9769366]          ┆ 43.0]               │\n",
       "│ 1710834 ┆ [2023-05-17          ┆ [20.0, 43.0, …      ┆ [9770741, 9770594,  ┆ [9.0, 44.0, …       │\n",
       "│         ┆ 21:09:45, 2023-05-…  ┆ 48.0]               ┆ … 9770452]          ┆ 916.0]              │\n",
       "└─────────┴──────────────────────┴─────────────────────┴─────────────────────┴─────────────────────┘"
      ]
     },
     "execution_count": 3,
     "metadata": {},
     "output_type": "execute_result"
    }
   ],
   "source": [
    "history_train"
   ]
  },
  {
   "cell_type": "code",
   "execution_count": 5,
   "metadata": {},
   "outputs": [
    {
     "data": {
      "text/plain": [
       "['test_feature_urm_scores.ipynb',\n",
       " 'urm_ner_train.ipynb',\n",
       " 'urm_ner.ipynb',\n",
       " 'urm_ner_visual.ipynb',\n",
       " 'evaluate_urm.ipynb']"
      ]
     },
     "execution_count": 5,
     "metadata": {},
     "output_type": "execute_result"
    }
   ],
   "source": [
    "import os\n",
    "os.listdir(None)"
   ]
  },
  {
   "cell_type": "code",
   "execution_count": 4,
   "metadata": {},
   "outputs": [
    {
     "name": "stdout",
     "output_type": "stream",
     "text": [
      "File loaded at: /mnt/ebs_volume/recsys2024/urm/ner/small/URM_train.npz\n",
      "File loaded at: /mnt/ebs_volume/recsys2024/urm/ner/small/URM_train_val.npz\n",
      "File loaded at: /mnt/ebs_volume/recsys2024/urm/ner/small/URM_validation.npz\n",
      "File loaded at: /mnt/ebs_volume/recsys2024/urm/ner/small/URM_test.npz\n"
     ]
    }
   ],
   "source": [
    "from polimi.utils._custom import load_sparse_csr\n",
    "\n",
    "ner_path = dpath.parent.joinpath('urm').joinpath('ner').joinpath('small')\n",
    "algo_path = ner_path.joinpath('algo').joinpath('train')\n",
    "\n",
    "URM_train = load_sparse_csr(ner_path.joinpath('URM_train.npz'))\n",
    "URM_train_val = load_sparse_csr(ner_path.joinpath('URM_train_val.npz'))\n",
    "URM_val =  load_sparse_csr(ner_path.joinpath('URM_validation.npz'))\n",
    "URM_test = load_sparse_csr(ner_path.joinpath('URM_test.npz'))"
   ]
  },
  {
   "cell_type": "code",
   "execution_count": 6,
   "metadata": {},
   "outputs": [
    {
     "data": {
      "text/plain": [
       "<15143x43774 sparse matrix of type '<class 'numpy.float64'>'\n",
       "\twith 13187741 stored elements in Compressed Sparse Row format>"
      ]
     },
     "execution_count": 6,
     "metadata": {},
     "output_type": "execute_result"
    }
   ],
   "source": [
    "URM_train"
   ]
  },
  {
   "cell_type": "code",
   "execution_count": 7,
   "metadata": {},
   "outputs": [
    {
     "data": {
      "text/plain": [
       "<15143x43774 sparse matrix of type '<class 'numpy.float64'>'\n",
       "\twith 1950637 stored elements in Compressed Sparse Row format>"
      ]
     },
     "execution_count": 7,
     "metadata": {},
     "output_type": "execute_result"
    }
   ],
   "source": [
    "URM_val"
   ]
  },
  {
   "cell_type": "code",
   "execution_count": 21,
   "metadata": {},
   "outputs": [],
   "source": [
    "# from polimi.utils._custom import load_best_optuna_params\n",
    "\n",
    "# rp3params = load_best_optuna_params('RP3betaRecommender-ner-small-ndcg100')\n",
    "# userknnparams = load_best_optuna_params('UserKNNCFRecommender-ner-small-ndcg100')\n",
    "# itemknnparams = load_best_optuna_params('ItemKNNCFRecommender-ner-small-ndcg100')\n",
    "# puresvditemparams = load_best_optuna_params('PureSVDItemRecommender-ner-small-ndcg100')\n",
    "# rp3params, userknnparams, itemknnparams, puresvditemparams"
   ]
  },
  {
   "cell_type": "code",
   "execution_count": 22,
   "metadata": {},
   "outputs": [],
   "source": [
    "\n",
    "# train_recommender(URM_train, RP3betaRecommender, rp3params, file_name='RP3betaRecommender-ner-small-ndcg100', output_dir=algo_path)\n",
    "# train_recommender(URM_train, UserKNNCFRecommender, userknnparams, file_name='UserKNNCFRecommender-ner-small-ndcg100', output_dir=algo_path)\n",
    "# train_recommender(URM_train, ItemKNNCFRecommender, itemknnparams, file_name='ItemKNNCFRecommender-ner-small-ndcg100', output_dir=algo_path)\n",
    "# train_recommender(URM_train, PureSVDItemRecommender, puresvditemparams, file_name='PureSVDItemRecommender-ner-small-ndcg100', output_dir=algo_path)"
   ]
  },
  {
   "cell_type": "markdown",
   "metadata": {},
   "source": [
    "# Build rec sys features"
   ]
  },
  {
   "cell_type": "code",
   "execution_count": 7,
   "metadata": {},
   "outputs": [
    {
     "name": "stdout",
     "output_type": "stream",
     "text": [
      "PureSVDRecommender: URM Detected 1 ( 0.0%) users with no interactions.\n",
      "PureSVDRecommender: URM Detected 18909 (43.2%) items with no interactions.\n",
      "PureSVDRecommender: Computing SVD decomposition...\n",
      "PureSVDRecommender: Computing SVD decomposition... done in 12.78 sec\n"
     ]
    }
   ],
   "source": [
    "pure_svd = PureSVDRecommender(URM_train)\n",
    "pure_svd.fit(num_factors=20)"
   ]
  },
  {
   "cell_type": "code",
   "execution_count": 11,
   "metadata": {},
   "outputs": [],
   "source": [
    "from polimi.utils._urm import build_ner_mapping, build_user_id_mapping, build_articles_with_processed_ner, _build_batch_ner_interactions\n",
    "user_id_mapping = build_user_id_mapping(history_train)\n",
    "ap = build_articles_with_processed_ner(articles)\n",
    "ner_mapping = build_ner_mapping(ap)\n",
    "ap = ap.with_columns(\n",
    "    pl.col('ner_clusters').list.eval(pl.element().replace(ner_mapping['ner'], ner_mapping['ner_index'], default=None)).list.drop_nulls().alias('ner_clusters_index'),\n",
    ")"
   ]
  },
  {
   "cell_type": "code",
   "execution_count": 12,
   "metadata": {},
   "outputs": [
    {
     "data": {
      "text/html": [
       "<div><style>\n",
       ".dataframe > thead > tr,\n",
       ".dataframe > tbody > tr {\n",
       "  text-align: right;\n",
       "  white-space: pre-wrap;\n",
       "}\n",
       "</style>\n",
       "<small>shape: (2, 5)</small><table border=\"1\" class=\"dataframe\"><thead><tr><th>impression_id</th><th>user_id</th><th>user_index</th><th>candidate_ids</th><th>candidate_ner_index</th></tr><tr><td>u32</td><td>u32</td><td>u32</td><td>list[i32]</td><td>list[list[u32]]</td></tr></thead><tbody><tr><td>149474</td><td>139836</td><td>747</td><td>[9778623, 9778682, … 9778728]</td><td>[[1016, 3366, … 41304], [3827, 4679, … 39272], … [14122, 14127, … 42433]]</td></tr><tr><td>150528</td><td>143471</td><td>773</td><td>[9778718, 9778728, … 9778682]</td><td>[[5927, 23803, … 42713], [14122, 14127, … 42433], … [3827, 4679, … 39272]]</td></tr></tbody></table></div>"
      ],
      "text/plain": [
       "shape: (2, 5)\n",
       "┌───────────────┬─────────┬────────────┬──────────────────────┬─────────────────────────────────┐\n",
       "│ impression_id ┆ user_id ┆ user_index ┆ candidate_ids        ┆ candidate_ner_index             │\n",
       "│ ---           ┆ ---     ┆ ---        ┆ ---                  ┆ ---                             │\n",
       "│ u32           ┆ u32     ┆ u32        ┆ list[i32]            ┆ list[list[u32]]                 │\n",
       "╞═══════════════╪═════════╪════════════╪══════════════════════╪═════════════════════════════════╡\n",
       "│ 149474        ┆ 139836  ┆ 747        ┆ [9778623, 9778682, … ┆ [[1016, 3366, … 41304], [3827,… │\n",
       "│               ┆         ┆            ┆ 9778728]             ┆                                 │\n",
       "│ 150528        ┆ 143471  ┆ 773        ┆ [9778718, 9778728, … ┆ [[5927, 23803, … 42713], [1412… │\n",
       "│               ┆         ┆            ┆ 9778682]             ┆                                 │\n",
       "└───────────────┴─────────┴────────────┴──────────────────────┴─────────────────────────────────┘"
      ]
     },
     "execution_count": 12,
     "metadata": {},
     "output_type": "execute_result"
    }
   ],
   "source": [
    "train_ds = behaviors_train\n",
    "train_ds = train_ds\\\n",
    "    .rename({'article_ids_inview': 'candidate_ids'})\\\n",
    "    .with_columns(\n",
    "        pl.col('candidate_ids').list.eval(pl.element().replace(ap['article_id'], ap['ner_clusters_index'], default=[])).alias('candidate_ner_index'),\n",
    "        pl.col('user_id').replace(user_id_mapping['user_id'], user_id_mapping['user_index'], default=None).alias('user_index')\n",
    "    ).select('impression_id', 'user_id', 'user_index', 'candidate_ids', 'candidate_ner_index')\n",
    "train_ds.head(2)"
   ]
  },
  {
   "cell_type": "code",
   "execution_count": 14,
   "metadata": {},
   "outputs": [
    {
     "data": {
      "text/plain": [
       "(15143, 43774)"
      ]
     },
     "execution_count": 14,
     "metadata": {},
     "output_type": "execute_result"
    }
   ],
   "source": [
    "all_users = user_id_mapping['user_index'].unique().sort().to_list()\n",
    "all_items = ner_mapping['ner_index'].unique().sort().to_list()\n",
    "len(all_users), len(all_items)"
   ]
  },
  {
   "cell_type": "code",
   "execution_count": 16,
   "metadata": {},
   "outputs": [
    {
     "name": "stderr",
     "output_type": "stream",
     "text": [
      "3it [00:04,  1.37s/it]                       \n"
     ]
    },
    {
     "data": {
      "text/html": [
       "<div><style>\n",
       ".dataframe > thead > tr,\n",
       ".dataframe > tbody > tr {\n",
       "  text-align: right;\n",
       "  white-space: pre-wrap;\n",
       "}\n",
       "</style>\n",
       "<small>shape: (2, 5)</small><table border=\"1\" class=\"dataframe\"><thead><tr><th>impression_id</th><th>user_id</th><th>user_index</th><th>candidate_ids</th><th>candidate_ner_index</th></tr><tr><td>u32</td><td>u32</td><td>u32</td><td>list[i32]</td><td>list[list[u32]]</td></tr></thead><tbody><tr><td>158024899</td><td>1699113</td><td>9885</td><td>[9778007, 9778110, … 9775894]</td><td>[[8308, 10671, … 40982], [11010, 11146, … 42069], … [5107, 5110, … 42172]]</td></tr><tr><td>94964662</td><td>2363201</td><td>13847</td><td>[9521552, 9778500, … 9778448]</td><td>[[19970, 26603, … 37870], [1504, 3664, … 36851], … [607, 9316, … 41306]]</td></tr></tbody></table></div>"
      ],
      "text/plain": [
       "shape: (2, 5)\n",
       "┌───────────────┬─────────┬────────────┬──────────────────────┬─────────────────────────────────┐\n",
       "│ impression_id ┆ user_id ┆ user_index ┆ candidate_ids        ┆ candidate_ner_index             │\n",
       "│ ---           ┆ ---     ┆ ---        ┆ ---                  ┆ ---                             │\n",
       "│ u32           ┆ u32     ┆ u32        ┆ list[i32]            ┆ list[list[u32]]                 │\n",
       "╞═══════════════╪═════════╪════════════╪══════════════════════╪═════════════════════════════════╡\n",
       "│ 158024899     ┆ 1699113 ┆ 9885       ┆ [9778007, 9778110, … ┆ [[8308, 10671, … 40982], [1101… │\n",
       "│               ┆         ┆            ┆ 9775894]             ┆                                 │\n",
       "│ 94964662      ┆ 2363201 ┆ 13847      ┆ [9521552, 9778500, … ┆ [[19970, 26603, … 37870], [150… │\n",
       "│               ┆         ┆            ┆ 9778448]             ┆                                 │\n",
       "└───────────────┴─────────┴────────────┴──────────────────────┴─────────────────────────────────┘"
      ]
     },
     "execution_count": 16,
     "metadata": {},
     "output_type": "execute_result"
    }
   ],
   "source": [
    "from tqdm import tqdm\n",
    "train_ds = pl.concat([\n",
    "    slice.explode(['candidate_ids', 'candidate_ner_index'])\\\n",
    "        .filter(pl.col('candidate_ner_index').list.len() > 0)\\\n",
    "        .group_by(['impression_id', 'user_id', 'user_index']).agg(pl.all())\n",
    "    for slice in tqdm(train_ds.iter_slices(100000), total=train_ds.shape[0]//100000)\n",
    "])\n",
    "train_ds.head(2)"
   ]
  },
  {
   "cell_type": "code",
   "execution_count": 17,
   "metadata": {},
   "outputs": [
    {
     "data": {
      "text/html": [
       "<div><style>\n",
       ".dataframe > thead > tr,\n",
       ".dataframe > tbody > tr {\n",
       "  text-align: right;\n",
       "  white-space: pre-wrap;\n",
       "}\n",
       "</style>\n",
       "<small>shape: (2, 5)</small><table border=\"1\" class=\"dataframe\"><thead><tr><th>impression_id</th><th>user_id</th><th>user_index</th><th>candidate_ids</th><th>candidate_ner_index</th></tr><tr><td>u32</td><td>u32</td><td>u32</td><td>list[i32]</td><td>list[list[u32]]</td></tr></thead><tbody><tr><td>385198819</td><td>10068</td><td>0</td><td>[9777769, 9762352, … 9779737]</td><td>[[3666, 9051, … 40567], [927, 8308, … 38774], … [11460, 14656, … 43299]]</td></tr><tr><td>556008624</td><td>10068</td><td>0</td><td>[9779813, 9779860, … 9779891]</td><td>[[9151, 10671, … 38682], [1567, 7153, … 42371], … [6518, 7705, … 34548]]</td></tr></tbody></table></div>"
      ],
      "text/plain": [
       "shape: (2, 5)\n",
       "┌───────────────┬─────────┬────────────┬──────────────────────┬─────────────────────────────────┐\n",
       "│ impression_id ┆ user_id ┆ user_index ┆ candidate_ids        ┆ candidate_ner_index             │\n",
       "│ ---           ┆ ---     ┆ ---        ┆ ---                  ┆ ---                             │\n",
       "│ u32           ┆ u32     ┆ u32        ┆ list[i32]            ┆ list[list[u32]]                 │\n",
       "╞═══════════════╪═════════╪════════════╪══════════════════════╪═════════════════════════════════╡\n",
       "│ 385198819     ┆ 10068   ┆ 0          ┆ [9777769, 9762352, … ┆ [[3666, 9051, … 40567], [927, … │\n",
       "│               ┆         ┆            ┆ 9779737]             ┆                                 │\n",
       "│ 556008624     ┆ 10068   ┆ 0          ┆ [9779813, 9779860, … ┆ [[9151, 10671, … 38682], [1567… │\n",
       "│               ┆         ┆            ┆ 9779891]             ┆                                 │\n",
       "└───────────────┴─────────┴────────────┴──────────────────────┴─────────────────────────────────┘"
      ]
     },
     "execution_count": 17,
     "metadata": {},
     "output_type": "execute_result"
    }
   ],
   "source": [
    "train_ds = train_ds.sort('user_id')\n",
    "train_ds.head(2)"
   ]
  },
  {
   "cell_type": "code",
   "execution_count": 45,
   "metadata": {},
   "outputs": [
    {
     "name": "stderr",
     "output_type": "stream",
     "text": [
      "  0%|          | 0/23 [00:14<?, ?it/s]\n"
     ]
    },
    {
     "data": {
      "text/plain": [
       "{'PureSVDRecommender': array([[ 2.5492281e-02, -5.8590324e-08,  1.6068752e-03, ...,\n",
       "          3.2954734e-02,  9.6922554e-04,  0.0000000e+00],\n",
       "        [-6.9945768e-02, -3.4997387e-07,  2.1925143e-03, ...,\n",
       "          6.2792525e-02, -1.9334888e-03,  0.0000000e+00],\n",
       "        [ 1.2526023e-01,  1.8451232e-07, -4.2353696e-04, ...,\n",
       "          2.4620036e-02,  2.0885251e-03,  0.0000000e+00],\n",
       "        ...,\n",
       "        [ 3.3386130e-02,  2.9893627e-07, -1.4291659e-03, ...,\n",
       "         -2.1126937e-02,  1.6923860e-03,  0.0000000e+00],\n",
       "        [-1.5101503e-04, -3.5595605e-08,  1.3351100e-04, ...,\n",
       "          2.6617931e-02,  5.7854044e-04,  0.0000000e+00],\n",
       "        [ 1.6303912e-02,  2.6173910e-07, -1.4627439e-03, ...,\n",
       "          2.4987306e-02,  1.9803855e-03,  0.0000000e+00]], dtype=float32)}"
      ]
     },
     "execution_count": 45,
     "metadata": {},
     "output_type": "execute_result"
    }
   ],
   "source": [
    "recs = [pure_svd]\n",
    "for slice in tqdm(train_ds[:20000].iter_slices(10000), total=train_ds.shape[0] // 10000):\n",
    "    user_indexes = train_ds['user_index'].unique().to_list()\n",
    "    user_index_id_map = dict(zip(user_indexes,np.arange(0, len(user_indexes))))\n",
    "    scores = {rec.RECOMMENDER_NAME: rec._compute_item_score(user_indexes, all_items)[:, all_items] for rec in recs}\n",
    "    break\n",
    "scores"
   ]
  },
  {
   "cell_type": "code",
   "execution_count": 29,
   "metadata": {},
   "outputs": [
    {
     "name": "stderr",
     "output_type": "stream",
     "text": [
      "  6%|▌         | 855/15143 [00:08<02:24, 98.62it/s] \n"
     ]
    },
    {
     "data": {
      "text/html": [
       "<div><style>\n",
       ".dataframe > thead > tr,\n",
       ".dataframe > tbody > tr {\n",
       "  text-align: right;\n",
       "  white-space: pre-wrap;\n",
       "}\n",
       "</style>\n",
       "<small>shape: (3, 4)</small><table border=\"1\" class=\"dataframe\"><thead><tr><th>impression_id</th><th>user_id</th><th>candidate_ids</th><th>RP3betaRecommender_scores</th></tr><tr><td>u32</td><td>u32</td><td>list[i32]</td><td>list[list[f32]]</td></tr></thead><tbody><tr><td>3087492</td><td>2254761</td><td>[9771242, 9769497, … 9771253]</td><td>[[0.0, 0.76192, … 0.374787], [0.143495, 0.412684, … 0.132622], … [0.0, 0.0, … 0.007103]]</td></tr><tr><td>7891052</td><td>2254761</td><td>[9777693, 9364014, … 9777319]</td><td>[[0.399421, 0.619761, … 0.0], [0.0], … [0.050296, 0.737277, … 0.166674]]</td></tr><tr><td>10739509</td><td>1352157</td><td>[9465810, 9527358, … 9755800]</td><td>[[0.0, 0.156983, … 0.286112], [0.0, 0.172582, … 0.0], … [0.878252, 0.005664, … 0.0]]</td></tr></tbody></table></div>"
      ],
      "text/plain": [
       "shape: (3, 4)\n",
       "┌───────────────┬─────────┬───────────────────────────────┬─────────────────────────────────┐\n",
       "│ impression_id ┆ user_id ┆ candidate_ids                 ┆ RP3betaRecommender_scores       │\n",
       "│ ---           ┆ ---     ┆ ---                           ┆ ---                             │\n",
       "│ u32           ┆ u32     ┆ list[i32]                     ┆ list[list[f32]]                 │\n",
       "╞═══════════════╪═════════╪═══════════════════════════════╪═════════════════════════════════╡\n",
       "│ 3087492       ┆ 2254761 ┆ [9771242, 9769497, … 9771253] ┆ [[0.0, 0.76192, … 0.374787], [… │\n",
       "│ 7891052       ┆ 2254761 ┆ [9777693, 9364014, … 9777319] ┆ [[0.399421, 0.619761, … 0.0], … │\n",
       "│ 10739509      ┆ 1352157 ┆ [9465810, 9527358, … 9755800] ┆ [[0.0, 0.156983, … 0.286112], … │\n",
       "└───────────────┴─────────┴───────────────────────────────┴─────────────────────────────────┘"
      ]
     },
     "execution_count": 29,
     "metadata": {},
     "output_type": "execute_result"
    }
   ],
   "source": [
    "from tqdm import tqdm\n",
    "recs = [rp3beta]\n",
    "\n",
    "impression_scores = pl.concat([\n",
    "    slice.with_columns(\n",
    "            *[pl.col('candidate_ner_index').list.eval(\n",
    "                pl.element().list.eval(pl.element().replace(all_items, rec._compute_item_score(user_index, all_items)[0, all_items], default=None))\n",
    "            ).alias(f\"{rec.RECOMMENDER_NAME}_scores\") for rec in recs]\n",
    "        ).drop('user_index', 'candidate_ner_index')\n",
    "for user_index, slice in tqdm(train_ds[:1000].partition_by(['user_index'], as_dict=True).items(), total=train_ds['user_index'].n_unique())\n",
    "])\n",
    "impression_scores.head(3)"
   ]
  },
  {
   "cell_type": "code",
   "execution_count": 30,
   "metadata": {},
   "outputs": [
    {
     "name": "stdout",
     "output_type": "stream",
     "text": [
      "Memory usage of dataframe is 0.20 MB\n",
      "Memory usage after optimization is: 0.20 MB\n",
      "Decreased by 0.0%\n"
     ]
    },
    {
     "data": {
      "text/html": [
       "<div><style>\n",
       ".dataframe > thead > tr,\n",
       ".dataframe > tbody > tr {\n",
       "  text-align: right;\n",
       "  white-space: pre-wrap;\n",
       "}\n",
       "</style>\n",
       "<small>shape: (3, 6)</small><table border=\"1\" class=\"dataframe\"><thead><tr><th>impression_id</th><th>user_id</th><th>article</th><th>sum_RP3betaRecommender_scores</th><th>max_RP3betaRecommender_scores</th><th>mean_RP3betaRecommender_scores</th></tr><tr><td>u32</td><td>u32</td><td>i32</td><td>f32</td><td>f32</td><td>f32</td></tr></thead><tbody><tr><td>153068</td><td>151570</td><td>9778657</td><td>1.0</td><td>0.934113</td><td>1.0</td></tr><tr><td>153068</td><td>151570</td><td>9778669</td><td>0.022829</td><td>0.1231</td><td>0.041853</td></tr><tr><td>153068</td><td>151570</td><td>9772866</td><td>0.164515</td><td>0.399589</td><td>0.139205</td></tr></tbody></table></div>"
      ],
      "text/plain": [
       "shape: (3, 6)\n",
       "┌───────────────┬─────────┬─────────┬────────────────────┬────────────────────┬────────────────────┐\n",
       "│ impression_id ┆ user_id ┆ article ┆ sum_RP3betaRecomme ┆ max_RP3betaRecomme ┆ mean_RP3betaRecomm │\n",
       "│ ---           ┆ ---     ┆ ---     ┆ nder_scores        ┆ nder_scores        ┆ ender_scores       │\n",
       "│ u32           ┆ u32     ┆ i32     ┆ ---                ┆ ---                ┆ ---                │\n",
       "│               ┆         ┆         ┆ f32                ┆ f32                ┆ f32                │\n",
       "╞═══════════════╪═════════╪═════════╪════════════════════╪════════════════════╪════════════════════╡\n",
       "│ 153068        ┆ 151570  ┆ 9778657 ┆ 1.0                ┆ 0.934113           ┆ 1.0                │\n",
       "│ 153068        ┆ 151570  ┆ 9778669 ┆ 0.022829           ┆ 0.1231             ┆ 0.041853           │\n",
       "│ 153068        ┆ 151570  ┆ 9772866 ┆ 0.164515           ┆ 0.399589           ┆ 0.139205           │\n",
       "└───────────────┴─────────┴─────────┴────────────────────┴────────────────────┴────────────────────┘"
      ]
     },
     "execution_count": 30,
     "metadata": {},
     "output_type": "execute_result"
    }
   ],
   "source": [
    "from polimi.utils._polars import reduce_polars_df_memory_size\n",
    "scores_cols = [col for col in impression_scores.columns if col.endswith('_scores')]\n",
    "df = impression_scores.with_columns(\n",
    "        *[pl.col(col).list.eval(pl.element().list.sum()).alias(f'sum_{col}') for col in scores_cols],\n",
    "        *[pl.col(col).list.eval(pl.element().list.max()).alias(f'max_{col}') for col in scores_cols],\n",
    "        *[pl.col(col).list.eval(pl.element().list.mean()).alias(f'mean_{col}') for col in scores_cols],\n",
    ").with_columns(\n",
    "    pl.all().exclude(['impression_id', 'user_id', 'candidate_ids'] + scores_cols).list.eval(pl.element().truediv(pl.element().max()).fill_nan(0.0)), #inf norm\n",
    ").drop(scores_cols)\n",
    "\n",
    "df = reduce_polars_df_memory_size(df)\n",
    "df = df.sort(['impression_id', 'user_id'])\\\n",
    "    .explode(pl.all().exclude(['impression_id', 'user_id']))\\\n",
    "    .rename({'candidate_ids': 'article'})\n",
    "\n",
    "df.head(3)"
   ]
  },
  {
   "cell_type": "code",
   "execution_count": null,
   "metadata": {},
   "outputs": [],
   "source": []
  }
 ],
 "metadata": {
  "kernelspec": {
   "display_name": ".venv",
   "language": "python",
   "name": "python3"
  },
  "language_info": {
   "codemirror_mode": {
    "name": "ipython",
    "version": 3
   },
   "file_extension": ".py",
   "mimetype": "text/x-python",
   "name": "python",
   "nbconvert_exporter": "python",
   "pygments_lexer": "ipython3",
   "version": "3.11.0"
  }
 },
 "nbformat": 4,
 "nbformat_minor": 2
}
