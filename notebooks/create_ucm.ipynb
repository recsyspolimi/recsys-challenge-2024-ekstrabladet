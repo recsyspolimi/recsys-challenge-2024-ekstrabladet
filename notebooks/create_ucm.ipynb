{
 "cells": [
  {
   "cell_type": "code",
   "execution_count": 2,
   "metadata": {},
   "outputs": [
    {
     "name": "stderr",
     "output_type": "stream",
     "text": [
      "<frozen importlib._bootstrap>:241: RuntimeWarning: numpy.ufunc size changed, may indicate binary incompatibility. Expected 216 from C header, got 232 from PyObject\n",
      "2024-05-22 13:13:52.490228: I tensorflow/core/platform/cpu_feature_guard.cc:210] This TensorFlow binary is optimized to use available CPU instructions in performance-critical operations.\n",
      "To enable the following instructions: AVX2 AVX512F FMA, in other operations, rebuild TensorFlow with the appropriate compiler flags.\n",
      "2024-05-22 13:13:54.962814: W tensorflow/compiler/tf2tensorrt/utils/py_utils.cc:38] TF-TRT Warning: Could not find TensorRT\n"
     ]
    }
   ],
   "source": [
    "import polars as pl\n",
    "import numpy as np\n",
    "import pandas as pd\n",
    "import matplotlib.pyplot as plt\n",
    "import seaborn as sns\n",
    "from pathlib import Path\n",
    "import polars as pl\n",
    "import scipy.stats as stats\n",
    "import scipy.sparse as sps\n",
    "import gc\n",
    "import tqdm\n",
    "from polimi.utils._custom import save_sparse_csr"
   ]
  },
  {
   "cell_type": "code",
   "execution_count": 3,
   "metadata": {},
   "outputs": [],
   "source": [
    "articles = pl.read_parquet('/home/ubuntu/dataset/ebnerd_small/articles.parquet')\n",
    "\n",
    "behaviors_train = pl.read_parquet('/home/ubuntu/dataset/ebnerd_small/train/behaviors.parquet')\n",
    "history_train = pl.read_parquet('/home/ubuntu/dataset/ebnerd_small/train/history.parquet')\n",
    "\n",
    "behaviors_val = pl.read_parquet('/home/ubuntu/dataset/ebnerd_small/validation/behaviors.parquet')\n",
    "history_val = pl.read_parquet('/home/ubuntu/dataset/ebnerd_small/validation/history.parquet')\n",
    "\n",
    "contrastive_vector_2 = pl.read_parquet('/home/ubuntu/dataset/Ekstra_Bladet_contrastive_vector/contrastive_vector.parquet')\n",
    "w_2_vec = pl.read_parquet('/home/ubuntu/dataset/Ekstra_Bladet_word2vec/document_vector.parquet')\n",
    "roberta = pl.read_parquet('/home/ubuntu/dataset/FacebookAI_xlm_roberta_base/xlm_roberta_base.parquet')\n",
    "google_bert = pl.read_parquet('/home/ubuntu/dataset/google_bert_base_multilingual_cased/bert_base_multilingual_cased.parquet')\n",
    "distilbert = pl.read_parquet('/home/ubuntu/dataset/distilbert_title_embedding.parquet')\n",
    "kenneth = pl.read_parquet('/home/ubuntu/dataset/kenneth_embedding.parquet')\n",
    "emotions = pl.read_parquet('/home/ubuntu/dataset/emotions_embedding.parquet')\n",
    "\n"
   ]
  },
  {
   "cell_type": "code",
   "execution_count": 4,
   "metadata": {},
   "outputs": [],
   "source": [
    "from polimi.utils._urm import build_user_id_mapping"
   ]
  },
  {
   "cell_type": "code",
   "execution_count": 30,
   "metadata": {},
   "outputs": [],
   "source": [
    "user_mapping = build_user_id_mapping(history_train.vstack(history_val))"
   ]
  },
  {
   "cell_type": "code",
   "execution_count": 31,
   "metadata": {},
   "outputs": [
    {
     "data": {
      "text/html": [
       "<div><style>\n",
       ".dataframe > thead > tr,\n",
       ".dataframe > tbody > tr {\n",
       "  text-align: right;\n",
       "  white-space: pre-wrap;\n",
       "}\n",
       "</style>\n",
       "<small>shape: (18_827, 2)</small><table border=\"1\" class=\"dataframe\"><thead><tr><th>user_index</th><th>user_id</th></tr><tr><td>u32</td><td>u32</td></tr></thead><tbody><tr><td>0</td><td>10068</td></tr><tr><td>1</td><td>10200</td></tr><tr><td>2</td><td>10201</td></tr><tr><td>3</td><td>10385</td></tr><tr><td>4</td><td>10623</td></tr><tr><td>&hellip;</td><td>&hellip;</td></tr><tr><td>18822</td><td>2590039</td></tr><tr><td>18823</td><td>2590054</td></tr><tr><td>18824</td><td>2590471</td></tr><tr><td>18825</td><td>2590571</td></tr><tr><td>18826</td><td>2590637</td></tr></tbody></table></div>"
      ],
      "text/plain": [
       "shape: (18_827, 2)\n",
       "┌────────────┬─────────┐\n",
       "│ user_index ┆ user_id │\n",
       "│ ---        ┆ ---     │\n",
       "│ u32        ┆ u32     │\n",
       "╞════════════╪═════════╡\n",
       "│ 0          ┆ 10068   │\n",
       "│ 1          ┆ 10200   │\n",
       "│ 2          ┆ 10201   │\n",
       "│ 3          ┆ 10385   │\n",
       "│ 4          ┆ 10623   │\n",
       "│ …          ┆ …       │\n",
       "│ 18822      ┆ 2590039 │\n",
       "│ 18823      ┆ 2590054 │\n",
       "│ 18824      ┆ 2590471 │\n",
       "│ 18825      ┆ 2590571 │\n",
       "│ 18826      ┆ 2590637 │\n",
       "└────────────┴─────────┘"
      ]
     },
     "execution_count": 31,
     "metadata": {},
     "output_type": "execute_result"
    }
   ],
   "source": [
    "user_mapping"
   ]
  },
  {
   "cell_type": "code",
   "execution_count": 94,
   "metadata": {},
   "outputs": [],
   "source": [
    "associations = {\n",
    "    'contrastive_vector' : contrastive_vector_2,\n",
    "    'document_vector': w_2_vec,\n",
    "    'google-bert/bert-base-multilingual-cased': google_bert,\n",
    "    'FacebookAI/xlm-roberta-base': roberta,\n",
    "    'title_embedding': distilbert,\n",
    "    'kenneth_title+subtitle': kenneth,\n",
    "    'emotion_scores': emotions\n",
    "    \n",
    "    \n",
    "}"
   ]
  },
  {
   "cell_type": "code",
   "execution_count": 93,
   "metadata": {},
   "outputs": [],
   "source": [
    "from polimi.utils._embeddings import  _build_mean_user_embeddings\n"
   ]
  },
  {
   "cell_type": "code",
   "execution_count": 143,
   "metadata": {},
   "outputs": [
    {
     "name": "stdout",
     "output_type": "stream",
     "text": [
      "Building user embeddings...\n"
     ]
    },
    {
     "name": "stderr",
     "output_type": "stream",
     "text": [
      "31it [00:02, 12.09it/s]                        \n"
     ]
    }
   ],
   "source": [
    "emotions = _build_mean_user_embeddings(df = None, history=history_train.vstack(history_val), embeddings=emotions,emb_type='contrastive')[0]"
   ]
  },
  {
   "cell_type": "code",
   "execution_count": 136,
   "metadata": {},
   "outputs": [
    {
     "data": {
      "text/html": [
       "<div><style>\n",
       ".dataframe > thead > tr,\n",
       ".dataframe > tbody > tr {\n",
       "  text-align: right;\n",
       "  white-space: pre-wrap;\n",
       "}\n",
       "</style>\n",
       "<small>shape: (30_485, 2)</small><table border=\"1\" class=\"dataframe\"><thead><tr><th>user_id</th><th>mean_user_embedding</th></tr><tr><td>u32</td><td>list[f32]</td></tr></thead><tbody><tr><td>1514775</td><td>[-0.011782, 0.021622, … 0.026789]</td></tr><tr><td>546883</td><td>[-0.004247, 0.024449, … 0.020094]</td></tr><tr><td>1561164</td><td>[-0.010688, 0.019372, … 0.024208]</td></tr><tr><td>1567717</td><td>[-0.010414, 0.035404, … 0.023648]</td></tr><tr><td>1776014</td><td>[-0.008001, 0.025873, … 0.025874]</td></tr><tr><td>&hellip;</td><td>&hellip;</td></tr><tr><td>602558</td><td>[0.009478, 0.010582, … 0.033292]</td></tr><tr><td>764969</td><td>[-0.045113, -0.034643, … 0.02465]</td></tr><tr><td>2028720</td><td>[-0.031022, 0.04619, … -0.004195]</td></tr><tr><td>883980</td><td>[0.018306, 0.072584, … 0.036931]</td></tr><tr><td>1909959</td><td>[-0.0199, 0.017867, … 0.029962]</td></tr></tbody></table></div>"
      ],
      "text/plain": [
       "shape: (30_485, 2)\n",
       "┌─────────┬─────────────────────────────────┐\n",
       "│ user_id ┆ mean_user_embedding             │\n",
       "│ ---     ┆ ---                             │\n",
       "│ u32     ┆ list[f32]                       │\n",
       "╞═════════╪═════════════════════════════════╡\n",
       "│ 1514775 ┆ [-0.011782, 0.021622, … 0.0267… │\n",
       "│ 546883  ┆ [-0.004247, 0.024449, … 0.0200… │\n",
       "│ 1561164 ┆ [-0.010688, 0.019372, … 0.0242… │\n",
       "│ 1567717 ┆ [-0.010414, 0.035404, … 0.0236… │\n",
       "│ 1776014 ┆ [-0.008001, 0.025873, … 0.0258… │\n",
       "│ …       ┆ …                               │\n",
       "│ 602558  ┆ [0.009478, 0.010582, … 0.03329… │\n",
       "│ 764969  ┆ [-0.045113, -0.034643, … 0.024… │\n",
       "│ 2028720 ┆ [-0.031022, 0.04619, … -0.0041… │\n",
       "│ 883980  ┆ [0.018306, 0.072584, … 0.03693… │\n",
       "│ 1909959 ┆ [-0.0199, 0.017867, … 0.029962… │\n",
       "└─────────┴─────────────────────────────────┘"
      ]
     },
     "execution_count": 136,
     "metadata": {},
     "output_type": "execute_result"
    }
   ],
   "source": [
    "emotions"
   ]
  },
  {
   "cell_type": "code",
   "execution_count": 144,
   "metadata": {},
   "outputs": [],
   "source": [
    "name =emotions"
   ]
  },
  {
   "cell_type": "code",
   "execution_count": 145,
   "metadata": {},
   "outputs": [
    {
     "name": "stderr",
     "output_type": "stream",
     "text": [
      "/tmp/ipykernel_282877/159819214.py:3: DeprecationWarning: `apply` is deprecated. It has been renamed to `map_elements`.\n",
      "  pl.col('mean_user_embedding').apply(lambda lst : list(range(len(lst)))).alias(\"indici\")\n",
      "/tmp/ipykernel_282877/159819214.py:2: MapWithoutReturnDtypeWarning: Calling `map_elements` without specifying `return_dtype` can lead to unpredictable results. Specify `return_dtype` to silence this warning.\n",
      "  .with_columns(\n"
     ]
    },
    {
     "data": {
      "text/html": [
       "<div><style>\n",
       ".dataframe > thead > tr,\n",
       ".dataframe > tbody > tr {\n",
       "  text-align: right;\n",
       "  white-space: pre-wrap;\n",
       "}\n",
       "</style>\n",
       "<small>shape: (322_806, 3)</small><table border=\"1\" class=\"dataframe\"><thead><tr><th>mean_user_embedding</th><th>feature_id</th><th>user_index</th></tr><tr><td>f32</td><td>i64</td><td>u32</td></tr></thead><tbody><tr><td>0.01681</td><td>0</td><td>31</td></tr><tr><td>0.051164</td><td>1</td><td>31</td></tr><tr><td>0.386025</td><td>2</td><td>31</td></tr><tr><td>0.139715</td><td>3</td><td>31</td></tr><tr><td>0.181304</td><td>4</td><td>31</td></tr><tr><td>&hellip;</td><td>&hellip;</td><td>&hellip;</td></tr><tr><td>0.070915</td><td>1</td><td>7030</td></tr><tr><td>0.348788</td><td>2</td><td>7030</td></tr><tr><td>0.088983</td><td>3</td><td>7030</td></tr><tr><td>0.257732</td><td>4</td><td>7030</td></tr><tr><td>0.226307</td><td>5</td><td>7030</td></tr></tbody></table></div>"
      ],
      "text/plain": [
       "shape: (322_806, 3)\n",
       "┌─────────────────────┬────────────┬────────────┐\n",
       "│ mean_user_embedding ┆ feature_id ┆ user_index │\n",
       "│ ---                 ┆ ---        ┆ ---        │\n",
       "│ f32                 ┆ i64        ┆ u32        │\n",
       "╞═════════════════════╪════════════╪════════════╡\n",
       "│ 0.01681             ┆ 0          ┆ 31         │\n",
       "│ 0.051164            ┆ 1          ┆ 31         │\n",
       "│ 0.386025            ┆ 2          ┆ 31         │\n",
       "│ 0.139715            ┆ 3          ┆ 31         │\n",
       "│ 0.181304            ┆ 4          ┆ 31         │\n",
       "│ …                   ┆ …          ┆ …          │\n",
       "│ 0.070915            ┆ 1          ┆ 7030       │\n",
       "│ 0.348788            ┆ 2          ┆ 7030       │\n",
       "│ 0.088983            ┆ 3          ┆ 7030       │\n",
       "│ 0.257732            ┆ 4          ┆ 7030       │\n",
       "│ 0.226307            ┆ 5          ┆ 7030       │\n",
       "└─────────────────────┴────────────┴────────────┘"
      ]
     },
     "execution_count": 145,
     "metadata": {},
     "output_type": "execute_result"
    }
   ],
   "source": [
    "UCM_dataframe = name.join(history_train.vstack(history_val), on='user_id').select('user_id','mean_user_embedding')\\\n",
    "                .with_columns(\n",
    "                    pl.col('mean_user_embedding').apply(lambda lst : list(range(len(lst)))).alias(\"indici\")  \n",
    "                )\\\n",
    "                .explode(['mean_user_embedding','indici'])\\\n",
    "                .rename({'indici': 'feature_id'})\\\n",
    "                .join(user_mapping, on='user_id')\\\n",
    "                .drop('user_id')\n",
    "\n",
    "UCM_dataframe"
   ]
  },
  {
   "cell_type": "code",
   "execution_count": 146,
   "metadata": {},
   "outputs": [
    {
     "name": "stdout",
     "output_type": "stream",
     "text": [
      "n_users:18827\n",
      "num_features: 6\n"
     ]
    }
   ],
   "source": [
    "n_users = UCM_dataframe.select('user_index').n_unique()\n",
    "print(f'n_users:{n_users}')\n",
    "n_features = UCM_dataframe.select('feature_id').n_unique()\n",
    "print(f'num_features: {n_features}')"
   ]
  },
  {
   "cell_type": "code",
   "execution_count": 147,
   "metadata": {},
   "outputs": [],
   "source": [
    "UCM = sps.csr_matrix((UCM_dataframe['mean_user_embedding'].to_numpy(), \n",
    "                          (UCM_dataframe[\"user_index\"].to_numpy(), UCM_dataframe[\"feature_id\"].to_numpy())),\n",
    "                        shape = (n_users, n_features))"
   ]
  },
  {
   "cell_type": "code",
   "execution_count": 148,
   "metadata": {},
   "outputs": [
    {
     "data": {
      "text/plain": [
       "<18827x6 sparse matrix of type '<class 'numpy.float32'>'\n",
       "\twith 322806 stored elements in Compressed Sparse Row format>"
      ]
     },
     "execution_count": 148,
     "metadata": {},
     "output_type": "execute_result"
    }
   ],
   "source": [
    "UCM"
   ]
  },
  {
   "cell_type": "code",
   "execution_count": 149,
   "metadata": {},
   "outputs": [
    {
     "name": "stdout",
     "output_type": "stream",
     "text": [
      "File saved at: /home/ubuntu/recsys2024/ucm/recsys/small/emotions.npz\n"
     ]
    }
   ],
   "source": [
    "save_sparse_csr(path=Path(f'/home/ubuntu/recsys2024/ucm/recsys/small/emotions.npz'),array=UCM)"
   ]
  },
  {
   "cell_type": "code",
   "execution_count": 86,
   "metadata": {},
   "outputs": [],
   "source": [
    "from RecSys_Course_AT_PoliMi.Recommenders.KNN.UserKNNCBFRecommender import UserKNNCBFRecommender"
   ]
  },
  {
   "cell_type": "code",
   "execution_count": 87,
   "metadata": {},
   "outputs": [
    {
     "name": "stdout",
     "output_type": "stream",
     "text": [
      "File loaded at: /home/ubuntu/recsys2024/urm/recsys/small/URM_train.npz\n",
      "File loaded at: /home/ubuntu/recsys2024/urm/recsys/small/URM_validation_train.npz\n",
      "File loaded at: /home/ubuntu/recsys2024/urm/recsys/small/URM_validation.npz\n",
      "File loaded at: /home/ubuntu/recsys2024/urm/recsys/small/URM_validation_validation.npz\n"
     ]
    }
   ],
   "source": [
    "from polimi.utils._custom import load_sparse_csr\n",
    "\n",
    "URM_train = load_sparse_csr(Path('/home/ubuntu/recsys2024/urm/recsys/small/URM_train.npz'))\n",
    "URM_validation_train = load_sparse_csr(Path('/home/ubuntu/recsys2024/urm/recsys/small/URM_validation_train.npz'))\n",
    "URM_validation = load_sparse_csr(Path('/home/ubuntu/recsys2024/urm/recsys/small/URM_validation.npz'))\n",
    "URM_validation_validation = load_sparse_csr(Path('/home/ubuntu/recsys2024/urm/recsys/small/URM_validation_validation.npz'))\n"
   ]
  },
  {
   "cell_type": "code",
   "execution_count": 88,
   "metadata": {},
   "outputs": [
    {
     "data": {
      "text/plain": [
       "(18827, 768)"
      ]
     },
     "execution_count": 88,
     "metadata": {},
     "output_type": "execute_result"
    }
   ],
   "source": [
    "UCM.shape"
   ]
  },
  {
   "cell_type": "code",
   "execution_count": 89,
   "metadata": {},
   "outputs": [
    {
     "data": {
      "text/plain": [
       "(18827, 20738)"
      ]
     },
     "execution_count": 89,
     "metadata": {},
     "output_type": "execute_result"
    }
   ],
   "source": [
    "URM_train.shape"
   ]
  },
  {
   "cell_type": "code",
   "execution_count": 90,
   "metadata": {},
   "outputs": [
    {
     "name": "stdout",
     "output_type": "stream",
     "text": [
      "UserKNNCBFRecommender: URM Detected 3684 (19.6%) users with no interactions.\n",
      "UserKNNCBFRecommender: URM Detected 11952 (57.6%) items with no interactions.\n",
      "Compute_Similarity: detected dense matrix\n",
      "Similarity column 18827 (100.0%), 160.57 column/sec. Elapsed time 1.95 min\n"
     ]
    }
   ],
   "source": [
    "knn_ucm = UserKNNCBFRecommender(URM_train=URM_train, UCM_train=UCM)\n",
    "knn_ucm.fit()"
   ]
  },
  {
   "cell_type": "code",
   "execution_count": 91,
   "metadata": {},
   "outputs": [
    {
     "name": "stdout",
     "output_type": "stream",
     "text": [
      "EvaluatorHoldout: Ignoring 3684 (19.6%) Users that have less than 1 test interactions\n"
     ]
    }
   ],
   "source": [
    "from RecSys_Course_AT_PoliMi.Evaluation.Evaluator import EvaluatorHoldout\n",
    "evaluator_validation = EvaluatorHoldout(URM_validation_train, cutoff_list=[100])"
   ]
  },
  {
   "cell_type": "code",
   "execution_count": 92,
   "metadata": {},
   "outputs": [
    {
     "name": "stdout",
     "output_type": "stream",
     "text": [
      "EvaluatorHoldout: Processed 15143 (100.0%) in 18.38 sec. Users per second: 824\n"
     ]
    },
    {
     "data": {
      "text/plain": [
       "0.0005440506252408157"
      ]
     },
     "execution_count": 92,
     "metadata": {},
     "output_type": "execute_result"
    }
   ],
   "source": [
    "result_df, _ = evaluator_validation.evaluateRecommender(knn_ucm)\n",
    "result_df.loc[100][\"NDCG\"]"
   ]
  },
  {
   "cell_type": "code",
   "execution_count": null,
   "metadata": {},
   "outputs": [],
   "source": []
  },
  {
   "cell_type": "code",
   "execution_count": null,
   "metadata": {},
   "outputs": [],
   "source": []
  }
 ],
 "metadata": {
  "kernelspec": {
   "display_name": ".venv",
   "language": "python",
   "name": "python3"
  },
  "language_info": {
   "codemirror_mode": {
    "name": "ipython",
    "version": 3
   },
   "file_extension": ".py",
   "mimetype": "text/x-python",
   "name": "python",
   "nbconvert_exporter": "python",
   "pygments_lexer": "ipython3",
   "version": "3.10.12"
  }
 },
 "nbformat": 4,
 "nbformat_minor": 2
}
