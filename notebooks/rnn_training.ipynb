{
 "cells": [
  {
   "cell_type": "code",
   "execution_count": 1,
   "metadata": {},
   "outputs": [
    {
     "name": "stderr",
     "output_type": "stream",
     "text": [
      "2024-06-15 14:42:54.020744: I tensorflow/core/util/port.cc:113] oneDNN custom operations are on. You may see slightly different numerical results due to floating-point round-off errors from different computation orders. To turn them off, set the environment variable `TF_ENABLE_ONEDNN_OPTS=0`.\n",
      "2024-06-15 14:42:54.084984: I tensorflow/core/platform/cpu_feature_guard.cc:210] This TensorFlow binary is optimized to use available CPU instructions in performance-critical operations.\n",
      "To enable the following instructions: AVX2 AVX512F AVX512_VNNI FMA, in other operations, rebuild TensorFlow with the appropriate compiler flags.\n",
      "2024-06-15 14:42:55.112159: W tensorflow/compiler/tf2tensorrt/utils/py_utils.cc:38] TF-TRT Warning: Could not find TensorRT\n"
     ]
    },
    {
     "name": "stdout",
     "output_type": "stream",
     "text": [
      "2.16.1\n"
     ]
    }
   ],
   "source": [
    "import polars as pl\n",
    "import tensorflow as tf\n",
    "from tensorflow import keras as tfk\n",
    "from tensorflow.keras import layers as tfkl\n",
    "import numpy as np\n",
    "import logging\n",
    "import random\n",
    "\n",
    "seed = 42\n",
    "np.random.seed(seed)\n",
    "random.seed(seed)\n",
    "tf.autograph.set_verbosity(0)\n",
    "tf.get_logger().setLevel(logging.ERROR)\n",
    "tf.random.set_seed(seed)\n",
    "print(tf.__version__)"
   ]
  },
  {
   "cell_type": "code",
   "execution_count": 2,
   "metadata": {},
   "outputs": [
    {
     "name": "stdout",
     "output_type": "stream",
     "text": [
      "Memory usage of dataframe is 40.75 MB\n",
      "Memory usage after optimization is: 5.12 MB\n",
      "Decreased by 87.4%\n"
     ]
    },
    {
     "data": {
      "text/html": [
       "<div><style>\n",
       ".dataframe > thead > tr,\n",
       ".dataframe > tbody > tr {\n",
       "  text-align: right;\n",
       "  white-space: pre-wrap;\n",
       "}\n",
       "</style>\n",
       "<small>shape: (3, 260)</small><table border=\"1\" class=\"dataframe\"><thead><tr><th>user_id</th><th>sentiment_label</th><th>weekday</th><th>hour_group</th><th>read_time</th><th>category</th><th>scroll_percentage</th><th>premium</th><th>topics_0</th><th>topics_1</th><th>topics_2</th><th>topics_3</th><th>topics_4</th><th>topics_5</th><th>topics_6</th><th>topics_7</th><th>topics_8</th><th>topics_9</th><th>topics_10</th><th>topics_11</th><th>topics_12</th><th>topics_13</th><th>topics_14</th><th>topics_15</th><th>topics_16</th><th>topics_17</th><th>topics_18</th><th>topics_19</th><th>topics_20</th><th>topics_21</th><th>topics_22</th><th>topics_23</th><th>topics_24</th><th>topics_25</th><th>topics_26</th><th>topics_27</th><th>topics_28</th><th>&hellip;</th><th>subcategory_137</th><th>subcategory_138</th><th>subcategory_139</th><th>subcategory_140</th><th>subcategory_141</th><th>subcategory_142</th><th>subcategory_143</th><th>subcategory_144</th><th>subcategory_145</th><th>subcategory_146</th><th>subcategory_147</th><th>subcategory_148</th><th>subcategory_149</th><th>subcategory_150</th><th>subcategory_151</th><th>subcategory_152</th><th>subcategory_153</th><th>subcategory_154</th><th>subcategory_155</th><th>subcategory_156</th><th>subcategory_157</th><th>subcategory_158</th><th>subcategory_159</th><th>subcategory_160</th><th>subcategory_161</th><th>subcategory_162</th><th>subcategory_163</th><th>subcategory_164</th><th>subcategory_165</th><th>subcategory_166</th><th>subcategory_167</th><th>subcategory_168</th><th>subcategory_169</th><th>subcategory_170</th><th>subcategory_171</th><th>subcategory_172</th><th>subcategory_173</th></tr><tr><td>u32</td><td>list[i8]</td><td>list[i8]</td><td>list[i8]</td><td>list[f32]</td><td>list[i8]</td><td>list[f32]</td><td>list[i8]</td><td>list[i8]</td><td>list[i8]</td><td>list[i8]</td><td>list[i8]</td><td>list[i8]</td><td>list[i8]</td><td>list[i8]</td><td>list[i8]</td><td>list[i8]</td><td>list[i8]</td><td>list[i8]</td><td>list[i8]</td><td>list[i8]</td><td>list[i8]</td><td>list[i8]</td><td>list[i8]</td><td>list[i8]</td><td>list[i8]</td><td>list[i8]</td><td>list[i8]</td><td>list[i8]</td><td>list[i8]</td><td>list[i8]</td><td>list[i8]</td><td>list[i8]</td><td>list[i8]</td><td>list[i8]</td><td>list[i8]</td><td>list[i8]</td><td>&hellip;</td><td>list[i8]</td><td>list[i8]</td><td>list[i8]</td><td>list[i8]</td><td>list[i8]</td><td>list[i8]</td><td>list[i8]</td><td>list[i8]</td><td>list[i8]</td><td>list[i8]</td><td>list[i8]</td><td>list[i8]</td><td>list[i8]</td><td>list[i8]</td><td>list[i8]</td><td>list[i8]</td><td>list[i8]</td><td>list[i8]</td><td>list[i8]</td><td>list[i8]</td><td>list[i8]</td><td>list[i8]</td><td>list[i8]</td><td>list[i8]</td><td>list[i8]</td><td>list[i8]</td><td>list[i8]</td><td>list[i8]</td><td>list[i8]</td><td>list[i8]</td><td>list[i8]</td><td>list[i8]</td><td>list[i8]</td><td>list[i8]</td><td>list[i8]</td><td>list[i8]</td><td>list[i8]</td></tr></thead><tbody><tr><td>497320</td><td>[1, 3, … 2]</td><td>[5, 5, … 4]</td><td>[0, 0, … 0]</td><td>[698.0, 136.0, … 161.0]</td><td>[4, 7, … 6]</td><td>[100.0, 100.0, … 100.0]</td><td>[1, 0, … 0]</td><td>[0, 0, … 0]</td><td>[0, 0, … 0]</td><td>[0, 0, … 0]</td><td>[0, 0, … 1]</td><td>[0, 0, … 0]</td><td>[0, 1, … 0]</td><td>[0, 0, … 0]</td><td>[0, 0, … 0]</td><td>[0, 0, … 0]</td><td>[0, 0, … 0]</td><td>[1, 0, … 0]</td><td>[0, 0, … 0]</td><td>[0, 0, … 0]</td><td>[0, 0, … 0]</td><td>[0, 0, … 1]</td><td>[0, 0, … 0]</td><td>[0, 0, … 0]</td><td>[0, 0, … 0]</td><td>[0, 0, … 0]</td><td>[0, 0, … 0]</td><td>[0, 0, … 0]</td><td>[0, 1, … 0]</td><td>[0, 0, … 0]</td><td>[0, 0, … 0]</td><td>[0, 0, … 0]</td><td>[1, 0, … 0]</td><td>[0, 0, … 0]</td><td>[0, 0, … 0]</td><td>[0, 0, … 0]</td><td>&hellip;</td><td>[0, 0, … 0]</td><td>[0, 0, … 0]</td><td>[0, 0, … 0]</td><td>[0, 0, … 0]</td><td>[0, 0, … 0]</td><td>[0, 0, … 0]</td><td>[0, 0, … 0]</td><td>[0, 0, … 0]</td><td>[0, 0, … 0]</td><td>[0, 0, … 0]</td><td>[0, 0, … 0]</td><td>[0, 0, … 0]</td><td>[0, 0, … 0]</td><td>[0, 0, … 0]</td><td>[0, 0, … 0]</td><td>[0, 0, … 0]</td><td>[0, 0, … 0]</td><td>[0, 0, … 0]</td><td>[0, 0, … 0]</td><td>[0, 0, … 0]</td><td>[0, 0, … 0]</td><td>[0, 0, … 0]</td><td>[0, 0, … 0]</td><td>[0, 0, … 0]</td><td>[0, 0, … 0]</td><td>[0, 0, … 0]</td><td>[0, 0, … 0]</td><td>[0, 0, … 0]</td><td>[0, 0, … 0]</td><td>[0, 0, … 0]</td><td>[0, 0, … 0]</td><td>[0, 0, … 0]</td><td>[0, 0, … 0]</td><td>[0, 0, … 0]</td><td>[0, 0, … 0]</td><td>[0, 0, … 0]</td><td>[0, 0, … 0]</td></tr><tr><td>446852</td><td>[2, 1, … 1]</td><td>[4, 4, … 3]</td><td>[3, 5, … 3]</td><td>[2.0, 2.0, … 43.0]</td><td>[7, 5, … 5]</td><td>[0.0, 0.0, … 85.0]</td><td>[0, 0, … 0]</td><td>[0, 0, … 0]</td><td>[0, 0, … 0]</td><td>[0, 0, … 0]</td><td>[0, 0, … 0]</td><td>[0, 0, … 0]</td><td>[0, 0, … 0]</td><td>[0, 0, … 0]</td><td>[0, 0, … 0]</td><td>[0, 0, … 0]</td><td>[0, 0, … 0]</td><td>[0, 0, … 0]</td><td>[1, 0, … 0]</td><td>[0, 0, … 0]</td><td>[0, 0, … 0]</td><td>[0, 0, … 0]</td><td>[0, 0, … 0]</td><td>[0, 0, … 0]</td><td>[0, 0, … 0]</td><td>[0, 0, … 0]</td><td>[0, 0, … 0]</td><td>[0, 0, … 0]</td><td>[1, 0, … 0]</td><td>[0, 0, … 0]</td><td>[0, 0, … 0]</td><td>[0, 0, … 0]</td><td>[0, 1, … 1]</td><td>[0, 0, … 0]</td><td>[0, 0, … 0]</td><td>[0, 0, … 0]</td><td>&hellip;</td><td>[0, 0, … 0]</td><td>[0, 0, … 0]</td><td>[0, 0, … 0]</td><td>[0, 0, … 0]</td><td>[0, 0, … 0]</td><td>[0, 0, … 0]</td><td>[0, 0, … 0]</td><td>[0, 0, … 0]</td><td>[0, 0, … 0]</td><td>[0, 0, … 0]</td><td>[0, 0, … 0]</td><td>[0, 0, … 0]</td><td>[0, 0, … 0]</td><td>[0, 0, … 0]</td><td>[0, 0, … 0]</td><td>[0, 0, … 0]</td><td>[0, 0, … 0]</td><td>[0, 0, … 0]</td><td>[0, 0, … 0]</td><td>[0, 0, … 0]</td><td>[0, 0, … 0]</td><td>[0, 0, … 0]</td><td>[0, 0, … 0]</td><td>[0, 0, … 0]</td><td>[0, 0, … 0]</td><td>[0, 0, … 0]</td><td>[0, 0, … 0]</td><td>[0, 0, … 0]</td><td>[0, 0, … 0]</td><td>[0, 0, … 0]</td><td>[0, 0, … 0]</td><td>[0, 0, … 0]</td><td>[0, 0, … 0]</td><td>[0, 0, … 0]</td><td>[0, 0, … 0]</td><td>[0, 0, … 0]</td><td>[0, 0, … 0]</td></tr><tr><td>696298</td><td>[2, 2, … 1]</td><td>[4, 4, … 3]</td><td>[1, 3, … 4]</td><td>[0.0, 8.0, … 1.0]</td><td>[4, 4, … 5]</td><td>[0.0, 30.0, … 100.0]</td><td>[0, 0, … 0]</td><td>[0, 0, … 0]</td><td>[0, 0, … 0]</td><td>[0, 0, … 0]</td><td>[0, 0, … 0]</td><td>[0, 0, … 0]</td><td>[0, 0, … 0]</td><td>[0, 0, … 0]</td><td>[0, 0, … 0]</td><td>[0, 0, … 0]</td><td>[0, 0, … 0]</td><td>[0, 0, … 0]</td><td>[0, 0, … 0]</td><td>[0, 0, … 0]</td><td>[0, 0, … 0]</td><td>[0, 0, … 0]</td><td>[0, 0, … 0]</td><td>[0, 0, … 0]</td><td>[0, 0, … 0]</td><td>[0, 0, … 0]</td><td>[1, 0, … 0]</td><td>[0, 0, … 0]</td><td>[1, 0, … 0]</td><td>[0, 0, … 0]</td><td>[0, 0, … 0]</td><td>[0, 0, … 0]</td><td>[0, 0, … 1]</td><td>[0, 0, … 0]</td><td>[0, 0, … 0]</td><td>[0, 0, … 0]</td><td>&hellip;</td><td>[0, 0, … 0]</td><td>[0, 0, … 0]</td><td>[0, 0, … 0]</td><td>[0, 0, … 0]</td><td>[0, 0, … 0]</td><td>[0, 0, … 0]</td><td>[0, 0, … 0]</td><td>[0, 0, … 0]</td><td>[0, 0, … 0]</td><td>[0, 0, … 0]</td><td>[0, 0, … 0]</td><td>[0, 0, … 0]</td><td>[0, 0, … 0]</td><td>[0, 0, … 0]</td><td>[0, 0, … 0]</td><td>[0, 0, … 0]</td><td>[0, 0, … 0]</td><td>[0, 0, … 0]</td><td>[0, 0, … 0]</td><td>[0, 0, … 0]</td><td>[0, 0, … 0]</td><td>[0, 0, … 0]</td><td>[0, 0, … 0]</td><td>[0, 0, … 0]</td><td>[0, 0, … 0]</td><td>[0, 0, … 0]</td><td>[0, 0, … 0]</td><td>[0, 0, … 0]</td><td>[0, 0, … 0]</td><td>[0, 0, … 0]</td><td>[0, 0, … 0]</td><td>[0, 0, … 0]</td><td>[0, 0, … 0]</td><td>[0, 0, … 0]</td><td>[0, 0, … 0]</td><td>[0, 0, … 0]</td><td>[0, 0, … 0]</td></tr></tbody></table></div>"
      ],
      "text/plain": [
       "shape: (3, 260)\n",
       "┌─────────┬────────────┬───────────┬───────────┬───┬───────────┬───────────┬───────────┬───────────┐\n",
       "│ user_id ┆ sentiment_ ┆ weekday   ┆ hour_grou ┆ … ┆ subcatego ┆ subcatego ┆ subcatego ┆ subcatego │\n",
       "│ ---     ┆ label      ┆ ---       ┆ p         ┆   ┆ ry_170    ┆ ry_171    ┆ ry_172    ┆ ry_173    │\n",
       "│ u32     ┆ ---        ┆ list[i8]  ┆ ---       ┆   ┆ ---       ┆ ---       ┆ ---       ┆ ---       │\n",
       "│         ┆ list[i8]   ┆           ┆ list[i8]  ┆   ┆ list[i8]  ┆ list[i8]  ┆ list[i8]  ┆ list[i8]  │\n",
       "╞═════════╪════════════╪═══════════╪═══════════╪═══╪═══════════╪═══════════╪═══════════╪═══════════╡\n",
       "│ 497320  ┆ [1, 3, …   ┆ [5, 5, …  ┆ [0, 0, …  ┆ … ┆ [0, 0, …  ┆ [0, 0, …  ┆ [0, 0, …  ┆ [0, 0, …  │\n",
       "│         ┆ 2]         ┆ 4]        ┆ 0]        ┆   ┆ 0]        ┆ 0]        ┆ 0]        ┆ 0]        │\n",
       "│ 446852  ┆ [2, 1, …   ┆ [4, 4, …  ┆ [3, 5, …  ┆ … ┆ [0, 0, …  ┆ [0, 0, …  ┆ [0, 0, …  ┆ [0, 0, …  │\n",
       "│         ┆ 1]         ┆ 3]        ┆ 3]        ┆   ┆ 0]        ┆ 0]        ┆ 0]        ┆ 0]        │\n",
       "│ 696298  ┆ [2, 2, …   ┆ [4, 4, …  ┆ [1, 3, …  ┆ … ┆ [0, 0, …  ┆ [0, 0, …  ┆ [0, 0, …  ┆ [0, 0, …  │\n",
       "│         ┆ 1]         ┆ 3]        ┆ 4]        ┆   ┆ 0]        ┆ 0]        ┆ 0]        ┆ 0]        │\n",
       "└─────────┴────────────┴───────────┴───────────┴───┴───────────┴───────────┴───────────┴───────────┘"
      ]
     },
     "execution_count": 2,
     "metadata": {},
     "output_type": "execute_result"
    }
   ],
   "source": [
    "from polimi.utils.tf_models.utils.build_sequences import build_history_seq\n",
    "\n",
    "history = pl.read_parquet('/home/ubuntu/dataset/ebnerd_small/train/history.parquet')\n",
    "behaviors = pl.read_parquet('/home/ubuntu/dataset/ebnerd_small/train/behaviors.parquet')\n",
    "articles = pl.read_parquet('/home/ubuntu/dataset/ebnerd_small/articles.parquet')\n",
    "\n",
    "history_seq = build_history_seq(history, articles)\n",
    "\n",
    "history_seq.head(3)"
   ]
  },
  {
   "cell_type": "code",
   "execution_count": 3,
   "metadata": {},
   "outputs": [
    {
     "ename": "ImportError",
     "evalue": "cannot import name 'build_sequences_seq' from 'polimi.utils.tf_models.utils.build_sequences' (/home/ubuntu/RecSysChallenge2024/src/polimi/utils/tf_models/utils/build_sequences.py)",
     "output_type": "error",
     "traceback": [
      "\u001b[0;31m---------------------------------------------------------------------------\u001b[0m",
      "\u001b[0;31mImportError\u001b[0m                               Traceback (most recent call last)",
      "Cell \u001b[0;32mIn[3], line 1\u001b[0m\n\u001b[0;32m----> 1\u001b[0m \u001b[38;5;28;01mfrom\u001b[39;00m \u001b[38;5;21;01mpolimi\u001b[39;00m\u001b[38;5;21;01m.\u001b[39;00m\u001b[38;5;21;01mutils\u001b[39;00m\u001b[38;5;21;01m.\u001b[39;00m\u001b[38;5;21;01mtf_models\u001b[39;00m\u001b[38;5;21;01m.\u001b[39;00m\u001b[38;5;21;01mutils\u001b[39;00m\u001b[38;5;21;01m.\u001b[39;00m\u001b[38;5;21;01mbuild_sequences\u001b[39;00m \u001b[38;5;28;01mimport\u001b[39;00m build_sequences_seq\n\u001b[1;32m      2\u001b[0m train_data \u001b[38;5;241m=\u001b[39m build_sequences_seq(history_seq\u001b[38;5;241m=\u001b[39mhistory_seq[:\u001b[38;5;241m100\u001b[39m], window\u001b[38;5;241m=\u001b[39m\u001b[38;5;241m20\u001b[39m, stride\u001b[38;5;241m=\u001b[39m\u001b[38;5;241m5\u001b[39m)\n\u001b[1;32m      3\u001b[0m train_data[\u001b[38;5;124m'\u001b[39m\u001b[38;5;124mtopics\u001b[39m\u001b[38;5;124m'\u001b[39m][\u001b[38;5;241m0\u001b[39m]\u001b[38;5;241m.\u001b[39mshape\n",
      "\u001b[0;31mImportError\u001b[0m: cannot import name 'build_sequences_seq' from 'polimi.utils.tf_models.utils.build_sequences' (/home/ubuntu/RecSysChallenge2024/src/polimi/utils/tf_models/utils/build_sequences.py)"
     ]
    }
   ],
   "source": [
    "from polimi.utils.tf_models.utils.build_sequences import build_sequences_seq\n",
    "train_data = build_sequences_seq(history_seq=history_seq[:100], window=20, stride=5)\n",
    "train_data['topics'][0].shape"
   ]
  },
  {
   "cell_type": "code",
   "execution_count": null,
   "metadata": {},
   "outputs": [
    {
     "data": {
      "text/plain": [
       "dict_keys(['topics', 'subcategory', 'category', 'weekday', 'hour_group', 'sentiment_label', 'numerical'])"
      ]
     },
     "execution_count": 4,
     "metadata": {},
     "output_type": "execute_result"
    }
   ],
   "source": [
    "train_data.keys()"
   ]
  },
  {
   "cell_type": "code",
   "execution_count": null,
   "metadata": {},
   "outputs": [
    {
     "data": {
      "text/plain": [
       "(78, 174, (4118, 20, 1))"
      ]
     },
     "execution_count": 5,
     "metadata": {},
     "output_type": "execute_result"
    }
   ],
   "source": [
    "train_data['topics'][0][0].shape[1], train_data['subcategory'][0][0].shape[1], train_data['category'][0].shape"
   ]
  },
  {
   "cell_type": "code",
   "execution_count": 1,
   "metadata": {},
   "outputs": [
    {
     "name": "stderr",
     "output_type": "stream",
     "text": [
      "2024-06-15 14:44:22.869103: I tensorflow/core/util/port.cc:113] oneDNN custom operations are on. You may see slightly different numerical results due to floating-point round-off errors from different computation orders. To turn them off, set the environment variable `TF_ENABLE_ONEDNN_OPTS=0`.\n",
      "2024-06-15 14:44:22.937847: I tensorflow/core/platform/cpu_feature_guard.cc:210] This TensorFlow binary is optimized to use available CPU instructions in performance-critical operations.\n",
      "To enable the following instructions: AVX2 AVX512F AVX512_VNNI FMA, in other operations, rebuild TensorFlow with the appropriate compiler flags.\n",
      "2024-06-15 14:44:23.932479: W tensorflow/compiler/tf2tensorrt/utils/py_utils.cc:38] TF-TRT Warning: Could not find TensorRT\n"
     ]
    }
   ],
   "source": [
    "from polimi.utils.tf_models import TemporalHistorySequenceModel, TemporalHistoryClassificationModel\n",
    "from polimi.utils._polars import reduce_polars_df_memory_size\n",
    "\n",
    "model = TemporalHistorySequenceModel(\n",
    "    seq_embedding_dims={\n",
    "        # adding, for the moment, one dim more to cover missings in non one-hot vectors\n",
    "        'Input_topics': (78, 10, True),\n",
    "        'Input_subcategory': (174, 10, True),\n",
    "        'Input_category': (26, 10, False),\n",
    "        'Input_weekday': (8, 3, False),\n",
    "        'Input_hour_group': (7, 3, False),\n",
    "        'Input_sentiment_label': (4, 2, False)\n",
    "    },\n",
    "    seq_numerical_features=['scroll_percentage', 'read_time', 'premium'],\n",
    "    n_recurrent_layers=1,\n",
    "    recurrent_embedding_dim=64,\n",
    "    l1_lambda=1e-4,\n",
    "    l2_lambda=1e-4,\n",
    ")"
   ]
  },
  {
   "cell_type": "code",
   "execution_count": 2,
   "metadata": {},
   "outputs": [],
   "source": [
    "model._build()"
   ]
  },
  {
   "cell_type": "code",
   "execution_count": 3,
   "metadata": {},
   "outputs": [
    {
     "data": {
      "image/png": "[encoded data removed]",
      "text/plain": [
       "<IPython.core.display.Image object>"
      ]
     },
     "execution_count": 3,
     "metadata": {},
     "output_type": "execute_result"
    }
   ],
   "source": [
    "model.plot()"
   ]
  },
  {
   "cell_type": "code",
   "execution_count": null,
   "metadata": {},
   "outputs": [
    {
     "ename": "NameError",
     "evalue": "name 'train_data' is not defined",
     "output_type": "error",
     "traceback": [
      "\u001b[0;31m---------------------------------------------------------------------------\u001b[0m",
      "\u001b[0;31mNameError\u001b[0m                                 Traceback (most recent call last)",
      "Cell \u001b[0;32mIn[1], line 1\u001b[0m\n\u001b[0;32m----> 1\u001b[0m inputs \u001b[38;5;241m=\u001b[39m {\u001b[38;5;124mf\u001b[39m\u001b[38;5;124m'\u001b[39m\u001b[38;5;124mInput_\u001b[39m\u001b[38;5;132;01m{\u001b[39;00mname\u001b[38;5;132;01m}\u001b[39;00m\u001b[38;5;124m'\u001b[39m: train_data[name][\u001b[38;5;241m0\u001b[39m] \u001b[38;5;28;01mfor\u001b[39;00m name \u001b[38;5;129;01min\u001b[39;00m \u001b[43mtrain_data\u001b[49m\u001b[38;5;241m.\u001b[39mkeys()}\n\u001b[1;32m      2\u001b[0m targets \u001b[38;5;241m=\u001b[39m {\u001b[38;5;124mf\u001b[39m\u001b[38;5;124m'\u001b[39m\u001b[38;5;124mOutput_\u001b[39m\u001b[38;5;132;01m{\u001b[39;00mname\u001b[38;5;132;01m}\u001b[39;00m\u001b[38;5;124m'\u001b[39m: train_data[name][\u001b[38;5;241m1\u001b[39m] \u001b[38;5;28;01mfor\u001b[39;00m name \u001b[38;5;129;01min\u001b[39;00m [\u001b[38;5;124m'\u001b[39m\u001b[38;5;124mtopics\u001b[39m\u001b[38;5;124m'\u001b[39m, \u001b[38;5;124m'\u001b[39m\u001b[38;5;124mcategory\u001b[39m\u001b[38;5;124m'\u001b[39m, \u001b[38;5;124m'\u001b[39m\u001b[38;5;124msubcategory\u001b[39m\u001b[38;5;124m'\u001b[39m]}\n\u001b[1;32m      4\u001b[0m targets[\u001b[38;5;124m'\u001b[39m\u001b[38;5;124mOutput_category\u001b[39m\u001b[38;5;124m'\u001b[39m] \u001b[38;5;241m=\u001b[39m tfk\u001b[38;5;241m.\u001b[39mops\u001b[38;5;241m.\u001b[39msqueeze(tfk\u001b[38;5;241m.\u001b[39mops\u001b[38;5;241m.\u001b[39mone_hot(targets[\u001b[38;5;124m'\u001b[39m\u001b[38;5;124mOutput_category\u001b[39m\u001b[38;5;124m'\u001b[39m], num_classes\u001b[38;5;241m=\u001b[39m\u001b[38;5;241m26\u001b[39m, axis\u001b[38;5;241m=\u001b[39m\u001b[38;5;241m-\u001b[39m\u001b[38;5;241m1\u001b[39m))\n",
      "\u001b[0;31mNameError\u001b[0m: name 'train_data' is not defined"
     ]
    }
   ],
   "source": [
    "inputs = {f'Input_{name}': train_data[name][0] for name in train_data.keys()}\n",
    "targets = {f'Output_{name}': train_data[name][1] for name in ['topics', 'category', 'subcategory']}\n",
    "\n",
    "targets['Output_category'] = tfk.ops.squeeze(tfk.ops.one_hot(targets['Output_category'], num_classes=26, axis=-1))"
   ]
  },
  {
   "cell_type": "code",
   "execution_count": null,
   "metadata": {},
   "outputs": [
    {
     "ename": "NameError",
     "evalue": "name 'tf' is not defined",
     "output_type": "error",
     "traceback": [
      "\u001b[0;31m---------------------------------------------------------------------------\u001b[0m",
      "\u001b[0;31mNameError\u001b[0m                                 Traceback (most recent call last)",
      "Cell \u001b[0;32mIn[2], line 2\u001b[0m\n\u001b[1;32m      1\u001b[0m window \u001b[38;5;241m=\u001b[39m \u001b[38;5;241m20\u001b[39m\n\u001b[0;32m----> 2\u001b[0m training_dataset \u001b[38;5;241m=\u001b[39m \u001b[43mtf\u001b[49m\u001b[38;5;241m.\u001b[39mdata\u001b[38;5;241m.\u001b[39mDataset\u001b[38;5;241m.\u001b[39mfrom_tensors((inputs, targets))\u001b[38;5;241m.\u001b[39mbatch(\u001b[38;5;241m64\u001b[39m)\u001b[38;5;241m.\u001b[39mshuffle()\n",
      "\u001b[0;31mNameError\u001b[0m: name 'tf' is not defined"
     ]
    }
   ],
   "source": [
    "window = 20\n",
    "training_dataset = tf.data.Dataset.from_tensors((inputs, targets)).batch(64).shuffle()"
   ]
  },
  {
   "cell_type": "code",
   "execution_count": null,
   "metadata": {},
   "outputs": [
    {
     "data": {
      "text/html": [
       "<pre style=\"white-space:pre;overflow-x:auto;line-height:normal;font-family:Menlo,'DejaVu Sans Mono',consolas,'Courier New',monospace\"></pre>\n"
      ],
      "text/plain": []
     },
     "metadata": {},
     "output_type": "display_data"
    },
    {
     "name": "stdout",
     "output_type": "stream",
     "text": [
      "Epoch 1/10\n"
     ]
    },
    {
     "name": "stdout",
     "output_type": "stream",
     "text": [
      "\u001b[1m1/1\u001b[0m \u001b[32m━━━━━━━━━━━━━━━━━━━━\u001b[0m\u001b[37m\u001b[0m \u001b[1m4s\u001b[0m 4s/step - loss: 5.7227\n",
      "Epoch 2/10\n",
      "\u001b[1m1/1\u001b[0m \u001b[32m━━━━━━━━━━━━━━━━━━━━\u001b[0m\u001b[37m\u001b[0m \u001b[1m0s\u001b[0m 302ms/step - loss: 5.7706\n",
      "Epoch 3/10\n",
      "\u001b[1m1/1\u001b[0m \u001b[32m━━━━━━━━━━━━━━━━━━━━\u001b[0m\u001b[37m\u001b[0m \u001b[1m0s\u001b[0m 290ms/step - loss: 5.8108\n",
      "Epoch 4/10\n",
      "\u001b[1m1/1\u001b[0m \u001b[32m━━━━━━━━━━━━━━━━━━━━\u001b[0m\u001b[37m\u001b[0m \u001b[1m0s\u001b[0m 275ms/step - loss: 5.8697\n",
      "Epoch 5/10\n",
      "\u001b[1m1/1\u001b[0m \u001b[32m━━━━━━━━━━━━━━━━━━━━\u001b[0m\u001b[37m\u001b[0m \u001b[1m0s\u001b[0m 299ms/step - loss: 5.9469\n",
      "Epoch 6/10\n",
      "\u001b[1m1/1\u001b[0m \u001b[32m━━━━━━━━━━━━━━━━━━━━\u001b[0m\u001b[37m\u001b[0m \u001b[1m0s\u001b[0m 294ms/step - loss: 5.9851\n",
      "Epoch 7/10\n",
      "\u001b[1m1/1\u001b[0m \u001b[32m━━━━━━━━━━━━━━━━━━━━\u001b[0m\u001b[37m\u001b[0m \u001b[1m0s\u001b[0m 276ms/step - loss: 6.0389\n",
      "Epoch 8/10\n",
      "\u001b[1m1/1\u001b[0m \u001b[32m━━━━━━━━━━━━━━━━━━━━\u001b[0m\u001b[37m\u001b[0m \u001b[1m0s\u001b[0m 269ms/step - loss: 6.0949\n",
      "Epoch 9/10\n",
      "\u001b[1m1/1\u001b[0m \u001b[32m━━━━━━━━━━━━━━━━━━━━\u001b[0m\u001b[37m\u001b[0m \u001b[1m0s\u001b[0m 310ms/step - loss: 6.1687\n",
      "Epoch 10/10\n",
      "\u001b[1m1/1\u001b[0m \u001b[32m━━━━━━━━━━━━━━━━━━━━\u001b[0m\u001b[37m\u001b[0m \u001b[1m0s\u001b[0m 287ms/step - loss: 6.2035\n"
     ]
    }
   ],
   "source": [
    "model.fit(\n",
    "    train_dataset=training_dataset,\n",
    "    batch_size=64,\n",
    "    epochs=10,\n",
    "    # target for (topics, subcategory, category)\n",
    "    loss={\n",
    "        'Output_topics': tfk.losses.BinaryCrossentropy(), \n",
    "        'Output_subcategory': tfk.losses.BinaryCrossentropy(), \n",
    "        'Output_category': tfk.losses.CategoricalCrossentropy()\n",
    "    },\n",
    "    loss_weights={\n",
    "        'Output_topics': 0.5, \n",
    "        'Output_subcategory': 0.1, \n",
    "        'Output_category': 0.4\n",
    "    },\n",
    "    optimizer=tfk.optimizers.Adam(learning_rate=1e-4)\n",
    ")"
   ]
  }
 ],
 "metadata": {
  "kernelspec": {
   "display_name": ".venv",
   "language": "python",
   "name": "python3"
  },
  "language_info": {
   "codemirror_mode": {
    "name": "ipython",
    "version": 3
   },
   "file_extension": ".py",
   "mimetype": "text/x-python",
   "name": "python",
   "nbconvert_exporter": "python",
   "pygments_lexer": "ipython3",
   "version": "3.10.12"
  }
 },
 "nbformat": 4,
 "nbformat_minor": 2
}
