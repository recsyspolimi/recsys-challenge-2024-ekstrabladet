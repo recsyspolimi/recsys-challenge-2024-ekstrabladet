{
 "cells": [
  {
   "cell_type": "code",
   "execution_count": 64,
   "metadata": {},
   "outputs": [
    {
     "name": "stdout",
     "output_type": "stream",
     "text": [
      "2.16.1\n"
     ]
    }
   ],
   "source": [
    "import polars as pl\n",
    "import tensorflow as tf\n",
    "from tensorflow import keras as tfk\n",
    "from tensorflow.keras import layers as tfkl\n",
    "import numpy as np\n",
    "import logging\n",
    "import random\n",
    "\n",
    "seed = 42\n",
    "np.random.seed(seed)\n",
    "random.seed(seed)\n",
    "tf.autograph.set_verbosity(0)\n",
    "tf.get_logger().setLevel(logging.ERROR)\n",
    "tf.random.set_seed(seed)\n",
    "print(tf.__version__)"
   ]
  },
  {
   "cell_type": "code",
   "execution_count": 65,
   "metadata": {},
   "outputs": [
    {
     "data": {
      "text/html": [
       "<div><style>\n",
       ".dataframe > thead > tr,\n",
       ".dataframe > tbody > tr {\n",
       "  text-align: right;\n",
       "  white-space: pre-wrap;\n",
       "}\n",
       "</style>\n",
       "<small>shape: (2, 5)</small><table border=\"1\" class=\"dataframe\"><thead><tr><th>user_id</th><th>impression_time_fixed</th><th>scroll_percentage_fixed</th><th>article_id_fixed</th><th>read_time_fixed</th></tr><tr><td>u32</td><td>list[datetime[μs]]</td><td>list[f32]</td><td>list[i32]</td><td>list[f32]</td></tr></thead><tbody><tr><td>13538</td><td>[2023-04-27 10:17:43, 2023-04-27 10:18:01, … 2023-05-17 20:36:34]</td><td>[100.0, 35.0, … 100.0]</td><td>[9738663, 9738569, … 9769366]</td><td>[17.0, 12.0, … 16.0]</td></tr><tr><td>14241</td><td>[2023-04-27 09:40:18, 2023-04-27 09:40:33, … 2023-05-17 17:08:41]</td><td>[100.0, 46.0, … 100.0]</td><td>[9738557, 9738528, … 9767852]</td><td>[8.0, 9.0, … 12.0]</td></tr></tbody></table></div>"
      ],
      "text/plain": [
       "shape: (2, 5)\n",
       "┌─────────┬──────────────────────┬─────────────────────┬─────────────────────┬─────────────────────┐\n",
       "│ user_id ┆ impression_time_fixe ┆ scroll_percentage_f ┆ article_id_fixed    ┆ read_time_fixed     │\n",
       "│ ---     ┆ d                    ┆ ixed                ┆ ---                 ┆ ---                 │\n",
       "│ u32     ┆ ---                  ┆ ---                 ┆ list[i32]           ┆ list[f32]           │\n",
       "│         ┆ list[datetime[μs]]   ┆ list[f32]           ┆                     ┆                     │\n",
       "╞═════════╪══════════════════════╪═════════════════════╪═════════════════════╪═════════════════════╡\n",
       "│ 13538   ┆ [2023-04-27          ┆ [100.0, 35.0, …     ┆ [9738663, 9738569,  ┆ [17.0, 12.0, …      │\n",
       "│         ┆ 10:17:43, 2023-04-…  ┆ 100.0]              ┆ … 9769366]          ┆ 16.0]               │\n",
       "│ 14241   ┆ [2023-04-27          ┆ [100.0, 46.0, …     ┆ [9738557, 9738528,  ┆ [8.0, 9.0, … 12.0]  │\n",
       "│         ┆ 09:40:18, 2023-04-…  ┆ 100.0]              ┆ … 9767852]          ┆                     │\n",
       "└─────────┴──────────────────────┴─────────────────────┴─────────────────────┴─────────────────────┘"
      ]
     },
     "execution_count": 65,
     "metadata": {},
     "output_type": "execute_result"
    }
   ],
   "source": [
    "history = pl.read_parquet('/Users/lorecampa/Desktop/Projects/RecSysChallenge2024/dataset/ebnerd_small/train/history.parquet')\n",
    "articles = pl.read_parquet('/Users/lorecampa/Desktop/Projects/RecSysChallenge2024/dataset/ebnerd_small/articles.parquet')\n",
    "history.head(2)"
   ]
  },
  {
   "cell_type": "code",
   "execution_count": 66,
   "metadata": {},
   "outputs": [
    {
     "data": {
      "text/html": [
       "<div><style>\n",
       ".dataframe > thead > tr,\n",
       ".dataframe > tbody > tr {\n",
       "  text-align: right;\n",
       "  white-space: pre-wrap;\n",
       "}\n",
       "</style>\n",
       "<small>shape: (2, 5)</small><table border=\"1\" class=\"dataframe\"><thead><tr><th>article_id</th><th>category</th><th>subcategory</th><th>premium</th><th>topics</th></tr><tr><td>i32</td><td>i64</td><td>list[u32]</td><td>i8</td><td>list[u32]</td></tr></thead><tbody><tr><td>3001353</td><td>5</td><td>[]</td><td>0</td><td>[25, 47]</td></tr><tr><td>3003065</td><td>7</td><td>[87, 88]</td><td>0</td><td>[69, 13, 77]</td></tr></tbody></table></div>"
      ],
      "text/plain": [
       "shape: (2, 5)\n",
       "┌────────────┬──────────┬─────────────┬─────────┬──────────────┐\n",
       "│ article_id ┆ category ┆ subcategory ┆ premium ┆ topics       │\n",
       "│ ---        ┆ ---      ┆ ---         ┆ ---     ┆ ---          │\n",
       "│ i32        ┆ i64      ┆ list[u32]   ┆ i8      ┆ list[u32]    │\n",
       "╞════════════╪══════════╪═════════════╪═════════╪══════════════╡\n",
       "│ 3001353    ┆ 5        ┆ []          ┆ 0       ┆ [25, 47]     │\n",
       "│ 3003065    ┆ 7        ┆ [87, 88]    ┆ 0       ┆ [69, 13, 77] │\n",
       "└────────────┴──────────┴─────────────┴─────────┴──────────────┘"
      ]
     },
     "execution_count": 66,
     "metadata": {},
     "output_type": "execute_result"
    }
   ],
   "source": [
    "topics = articles['topics'].explode().unique().drop_nans().drop_nulls().sort().to_frame().with_row_index()\n",
    "category = articles['category'].unique().drop_nans().drop_nulls().sort().to_frame().with_row_index(offset=1)\n",
    "subcategory = articles['subcategory'].explode().unique().drop_nans().drop_nulls().sort().to_frame().with_row_index()\n",
    "mask = 0\n",
    "\n",
    "articles = articles.select(['article_id', 'category', 'subcategory', 'premium', 'topics'])\\\n",
    "    .with_columns(\n",
    "        pl.col('topics').fill_null(pl.lit([])),\n",
    "        pl.col('subcategory').fill_null(pl.lit([]))\n",
    "    )\\\n",
    "    .with_columns(\n",
    "        pl.col('topics').list.eval(pl.element().replace(topics['topics'], topics['index'], default=None)).list.drop_nulls(),\n",
    "        pl.col('category').replace(category['category'], category['index'], default=None).fill_null(mask),\n",
    "        pl.col('subcategory').list.eval(pl.element().replace(subcategory['subcategory'], subcategory['index'], default=None)).list.drop_nulls(),\n",
    "        pl.col('premium').cast(pl.Int8)\n",
    ")\n",
    "articles.head(2)"
   ]
  },
  {
   "cell_type": "code",
   "execution_count": 67,
   "metadata": {},
   "outputs": [
    {
     "data": {
      "text/html": [
       "<div><style>\n",
       ".dataframe > thead > tr,\n",
       ".dataframe > tbody > tr {\n",
       "  text-align: right;\n",
       "  white-space: pre-wrap;\n",
       "}\n",
       "</style>\n",
       "<small>shape: (21_701, 175)</small><table border=\"1\" class=\"dataframe\"><thead><tr><th>article_id</th><th>subcategory_0</th><th>subcategory_1</th><th>subcategory_10</th><th>subcategory_100</th><th>subcategory_101</th><th>subcategory_102</th><th>subcategory_103</th><th>subcategory_104</th><th>subcategory_105</th><th>subcategory_106</th><th>subcategory_107</th><th>subcategory_108</th><th>subcategory_109</th><th>subcategory_11</th><th>subcategory_110</th><th>subcategory_111</th><th>subcategory_112</th><th>subcategory_113</th><th>subcategory_114</th><th>subcategory_115</th><th>subcategory_116</th><th>subcategory_117</th><th>subcategory_118</th><th>subcategory_119</th><th>subcategory_12</th><th>subcategory_120</th><th>subcategory_121</th><th>subcategory_122</th><th>subcategory_123</th><th>subcategory_124</th><th>subcategory_125</th><th>subcategory_126</th><th>subcategory_127</th><th>subcategory_128</th><th>subcategory_129</th><th>subcategory_13</th><th>&hellip;</th><th>subcategory_66</th><th>subcategory_67</th><th>subcategory_68</th><th>subcategory_69</th><th>subcategory_7</th><th>subcategory_70</th><th>subcategory_71</th><th>subcategory_72</th><th>subcategory_73</th><th>subcategory_74</th><th>subcategory_75</th><th>subcategory_76</th><th>subcategory_77</th><th>subcategory_78</th><th>subcategory_79</th><th>subcategory_8</th><th>subcategory_80</th><th>subcategory_81</th><th>subcategory_82</th><th>subcategory_83</th><th>subcategory_84</th><th>subcategory_85</th><th>subcategory_86</th><th>subcategory_87</th><th>subcategory_88</th><th>subcategory_89</th><th>subcategory_9</th><th>subcategory_90</th><th>subcategory_91</th><th>subcategory_92</th><th>subcategory_93</th><th>subcategory_94</th><th>subcategory_95</th><th>subcategory_96</th><th>subcategory_97</th><th>subcategory_98</th><th>subcategory_99</th></tr><tr><td>i32</td><td>u8</td><td>u8</td><td>u8</td><td>u8</td><td>u8</td><td>u8</td><td>u8</td><td>u8</td><td>u8</td><td>u8</td><td>u8</td><td>u8</td><td>u8</td><td>u8</td><td>u8</td><td>u8</td><td>u8</td><td>u8</td><td>u8</td><td>u8</td><td>u8</td><td>u8</td><td>u8</td><td>u8</td><td>u8</td><td>u8</td><td>u8</td><td>u8</td><td>u8</td><td>u8</td><td>u8</td><td>u8</td><td>u8</td><td>u8</td><td>u8</td><td>u8</td><td>&hellip;</td><td>u8</td><td>u8</td><td>u8</td><td>u8</td><td>u8</td><td>u8</td><td>u8</td><td>u8</td><td>u8</td><td>u8</td><td>u8</td><td>u8</td><td>u8</td><td>u8</td><td>u8</td><td>u8</td><td>u8</td><td>u8</td><td>u8</td><td>u8</td><td>u8</td><td>u8</td><td>u8</td><td>u8</td><td>u8</td><td>u8</td><td>u8</td><td>u8</td><td>u8</td><td>u8</td><td>u8</td><td>u8</td><td>u8</td><td>u8</td><td>u8</td><td>u8</td><td>u8</td></tr></thead><tbody><tr><td>3003065</td><td>0</td><td>0</td><td>0</td><td>0</td><td>0</td><td>0</td><td>0</td><td>0</td><td>0</td><td>0</td><td>0</td><td>0</td><td>0</td><td>0</td><td>0</td><td>0</td><td>0</td><td>0</td><td>0</td><td>0</td><td>0</td><td>0</td><td>0</td><td>0</td><td>0</td><td>0</td><td>0</td><td>0</td><td>0</td><td>0</td><td>0</td><td>0</td><td>0</td><td>0</td><td>0</td><td>0</td><td>&hellip;</td><td>0</td><td>0</td><td>0</td><td>0</td><td>0</td><td>0</td><td>0</td><td>0</td><td>0</td><td>0</td><td>0</td><td>0</td><td>0</td><td>0</td><td>0</td><td>0</td><td>0</td><td>0</td><td>0</td><td>0</td><td>0</td><td>0</td><td>0</td><td>1</td><td>0</td><td>0</td><td>0</td><td>0</td><td>0</td><td>0</td><td>0</td><td>0</td><td>0</td><td>0</td><td>0</td><td>0</td><td>0</td></tr><tr><td>3003065</td><td>0</td><td>0</td><td>0</td><td>0</td><td>0</td><td>0</td><td>0</td><td>0</td><td>0</td><td>0</td><td>0</td><td>0</td><td>0</td><td>0</td><td>0</td><td>0</td><td>0</td><td>0</td><td>0</td><td>0</td><td>0</td><td>0</td><td>0</td><td>0</td><td>0</td><td>0</td><td>0</td><td>0</td><td>0</td><td>0</td><td>0</td><td>0</td><td>0</td><td>0</td><td>0</td><td>0</td><td>&hellip;</td><td>0</td><td>0</td><td>0</td><td>0</td><td>0</td><td>0</td><td>0</td><td>0</td><td>0</td><td>0</td><td>0</td><td>0</td><td>0</td><td>0</td><td>0</td><td>0</td><td>0</td><td>0</td><td>0</td><td>0</td><td>0</td><td>0</td><td>0</td><td>0</td><td>1</td><td>0</td><td>0</td><td>0</td><td>0</td><td>0</td><td>0</td><td>0</td><td>0</td><td>0</td><td>0</td><td>0</td><td>0</td></tr><tr><td>3012771</td><td>0</td><td>0</td><td>0</td><td>0</td><td>0</td><td>0</td><td>0</td><td>0</td><td>0</td><td>0</td><td>0</td><td>0</td><td>0</td><td>0</td><td>0</td><td>0</td><td>0</td><td>0</td><td>0</td><td>0</td><td>0</td><td>0</td><td>0</td><td>0</td><td>0</td><td>0</td><td>0</td><td>0</td><td>0</td><td>0</td><td>0</td><td>0</td><td>0</td><td>0</td><td>0</td><td>0</td><td>&hellip;</td><td>0</td><td>0</td><td>0</td><td>0</td><td>0</td><td>0</td><td>0</td><td>0</td><td>0</td><td>0</td><td>0</td><td>0</td><td>0</td><td>0</td><td>0</td><td>0</td><td>0</td><td>0</td><td>0</td><td>0</td><td>0</td><td>0</td><td>0</td><td>0</td><td>0</td><td>0</td><td>0</td><td>0</td><td>0</td><td>0</td><td>0</td><td>0</td><td>0</td><td>0</td><td>0</td><td>0</td><td>0</td></tr><tr><td>3012771</td><td>0</td><td>0</td><td>0</td><td>0</td><td>0</td><td>0</td><td>0</td><td>0</td><td>0</td><td>0</td><td>0</td><td>0</td><td>0</td><td>0</td><td>0</td><td>0</td><td>0</td><td>0</td><td>0</td><td>0</td><td>0</td><td>0</td><td>0</td><td>0</td><td>0</td><td>0</td><td>0</td><td>0</td><td>0</td><td>0</td><td>0</td><td>0</td><td>0</td><td>0</td><td>0</td><td>0</td><td>&hellip;</td><td>0</td><td>0</td><td>0</td><td>0</td><td>0</td><td>0</td><td>0</td><td>0</td><td>0</td><td>0</td><td>0</td><td>0</td><td>0</td><td>0</td><td>0</td><td>0</td><td>0</td><td>0</td><td>0</td><td>0</td><td>0</td><td>0</td><td>0</td><td>0</td><td>0</td><td>0</td><td>0</td><td>0</td><td>0</td><td>0</td><td>0</td><td>0</td><td>0</td><td>0</td><td>0</td><td>0</td><td>0</td></tr><tr><td>3023463</td><td>0</td><td>0</td><td>0</td><td>0</td><td>0</td><td>0</td><td>0</td><td>0</td><td>0</td><td>0</td><td>0</td><td>0</td><td>0</td><td>0</td><td>0</td><td>0</td><td>0</td><td>0</td><td>0</td><td>0</td><td>0</td><td>0</td><td>0</td><td>0</td><td>0</td><td>0</td><td>0</td><td>0</td><td>0</td><td>0</td><td>0</td><td>0</td><td>0</td><td>0</td><td>0</td><td>0</td><td>&hellip;</td><td>0</td><td>0</td><td>0</td><td>0</td><td>0</td><td>0</td><td>0</td><td>0</td><td>0</td><td>0</td><td>0</td><td>0</td><td>0</td><td>0</td><td>0</td><td>1</td><td>0</td><td>0</td><td>0</td><td>0</td><td>0</td><td>0</td><td>0</td><td>0</td><td>0</td><td>0</td><td>0</td><td>0</td><td>0</td><td>0</td><td>0</td><td>0</td><td>0</td><td>0</td><td>0</td><td>0</td><td>0</td></tr><tr><td>&hellip;</td><td>&hellip;</td><td>&hellip;</td><td>&hellip;</td><td>&hellip;</td><td>&hellip;</td><td>&hellip;</td><td>&hellip;</td><td>&hellip;</td><td>&hellip;</td><td>&hellip;</td><td>&hellip;</td><td>&hellip;</td><td>&hellip;</td><td>&hellip;</td><td>&hellip;</td><td>&hellip;</td><td>&hellip;</td><td>&hellip;</td><td>&hellip;</td><td>&hellip;</td><td>&hellip;</td><td>&hellip;</td><td>&hellip;</td><td>&hellip;</td><td>&hellip;</td><td>&hellip;</td><td>&hellip;</td><td>&hellip;</td><td>&hellip;</td><td>&hellip;</td><td>&hellip;</td><td>&hellip;</td><td>&hellip;</td><td>&hellip;</td><td>&hellip;</td><td>&hellip;</td><td>&hellip;</td><td>&hellip;</td><td>&hellip;</td><td>&hellip;</td><td>&hellip;</td><td>&hellip;</td><td>&hellip;</td><td>&hellip;</td><td>&hellip;</td><td>&hellip;</td><td>&hellip;</td><td>&hellip;</td><td>&hellip;</td><td>&hellip;</td><td>&hellip;</td><td>&hellip;</td><td>&hellip;</td><td>&hellip;</td><td>&hellip;</td><td>&hellip;</td><td>&hellip;</td><td>&hellip;</td><td>&hellip;</td><td>&hellip;</td><td>&hellip;</td><td>&hellip;</td><td>&hellip;</td><td>&hellip;</td><td>&hellip;</td><td>&hellip;</td><td>&hellip;</td><td>&hellip;</td><td>&hellip;</td><td>&hellip;</td><td>&hellip;</td><td>&hellip;</td><td>&hellip;</td><td>&hellip;</td></tr><tr><td>9803455</td><td>0</td><td>0</td><td>0</td><td>0</td><td>0</td><td>0</td><td>0</td><td>0</td><td>0</td><td>0</td><td>0</td><td>0</td><td>0</td><td>0</td><td>0</td><td>0</td><td>0</td><td>0</td><td>0</td><td>0</td><td>0</td><td>0</td><td>0</td><td>0</td><td>0</td><td>0</td><td>0</td><td>0</td><td>0</td><td>0</td><td>0</td><td>0</td><td>0</td><td>0</td><td>0</td><td>0</td><td>&hellip;</td><td>0</td><td>0</td><td>0</td><td>0</td><td>0</td><td>0</td><td>0</td><td>0</td><td>0</td><td>0</td><td>0</td><td>0</td><td>0</td><td>0</td><td>0</td><td>0</td><td>0</td><td>0</td><td>0</td><td>0</td><td>0</td><td>0</td><td>0</td><td>0</td><td>0</td><td>0</td><td>0</td><td>0</td><td>0</td><td>0</td><td>0</td><td>0</td><td>0</td><td>0</td><td>0</td><td>0</td><td>0</td></tr><tr><td>9803492</td><td>0</td><td>0</td><td>0</td><td>0</td><td>0</td><td>0</td><td>0</td><td>0</td><td>0</td><td>0</td><td>0</td><td>0</td><td>0</td><td>0</td><td>0</td><td>0</td><td>0</td><td>0</td><td>0</td><td>0</td><td>0</td><td>0</td><td>0</td><td>0</td><td>0</td><td>0</td><td>0</td><td>0</td><td>0</td><td>0</td><td>0</td><td>0</td><td>0</td><td>0</td><td>0</td><td>0</td><td>&hellip;</td><td>0</td><td>0</td><td>0</td><td>0</td><td>0</td><td>0</td><td>0</td><td>0</td><td>0</td><td>0</td><td>0</td><td>0</td><td>0</td><td>0</td><td>0</td><td>1</td><td>0</td><td>0</td><td>0</td><td>0</td><td>0</td><td>0</td><td>0</td><td>0</td><td>0</td><td>0</td><td>0</td><td>0</td><td>0</td><td>0</td><td>0</td><td>0</td><td>0</td><td>0</td><td>0</td><td>0</td><td>0</td></tr><tr><td>9803505</td><td>0</td><td>0</td><td>0</td><td>0</td><td>0</td><td>0</td><td>0</td><td>0</td><td>0</td><td>0</td><td>0</td><td>0</td><td>0</td><td>0</td><td>0</td><td>0</td><td>0</td><td>0</td><td>0</td><td>0</td><td>0</td><td>0</td><td>0</td><td>0</td><td>0</td><td>0</td><td>0</td><td>0</td><td>0</td><td>0</td><td>0</td><td>0</td><td>0</td><td>0</td><td>0</td><td>0</td><td>&hellip;</td><td>0</td><td>0</td><td>0</td><td>0</td><td>0</td><td>0</td><td>0</td><td>0</td><td>0</td><td>0</td><td>0</td><td>0</td><td>0</td><td>0</td><td>0</td><td>0</td><td>0</td><td>0</td><td>0</td><td>0</td><td>0</td><td>0</td><td>0</td><td>0</td><td>0</td><td>0</td><td>0</td><td>0</td><td>0</td><td>0</td><td>0</td><td>0</td><td>0</td><td>0</td><td>0</td><td>0</td><td>0</td></tr><tr><td>9803505</td><td>0</td><td>0</td><td>0</td><td>0</td><td>0</td><td>0</td><td>0</td><td>0</td><td>0</td><td>0</td><td>0</td><td>0</td><td>0</td><td>0</td><td>0</td><td>0</td><td>0</td><td>0</td><td>0</td><td>0</td><td>0</td><td>0</td><td>0</td><td>0</td><td>0</td><td>0</td><td>0</td><td>0</td><td>0</td><td>0</td><td>0</td><td>0</td><td>0</td><td>0</td><td>0</td><td>0</td><td>&hellip;</td><td>0</td><td>1</td><td>0</td><td>0</td><td>0</td><td>0</td><td>0</td><td>0</td><td>0</td><td>0</td><td>0</td><td>0</td><td>0</td><td>0</td><td>0</td><td>0</td><td>0</td><td>0</td><td>0</td><td>0</td><td>0</td><td>0</td><td>0</td><td>0</td><td>0</td><td>0</td><td>0</td><td>0</td><td>0</td><td>0</td><td>0</td><td>0</td><td>0</td><td>0</td><td>0</td><td>0</td><td>0</td></tr><tr><td>9803525</td><td>0</td><td>0</td><td>0</td><td>0</td><td>0</td><td>0</td><td>0</td><td>0</td><td>0</td><td>0</td><td>0</td><td>0</td><td>0</td><td>0</td><td>0</td><td>0</td><td>0</td><td>0</td><td>0</td><td>0</td><td>0</td><td>0</td><td>0</td><td>0</td><td>0</td><td>0</td><td>0</td><td>0</td><td>0</td><td>0</td><td>0</td><td>0</td><td>0</td><td>0</td><td>0</td><td>0</td><td>&hellip;</td><td>0</td><td>0</td><td>0</td><td>0</td><td>0</td><td>0</td><td>0</td><td>0</td><td>0</td><td>0</td><td>0</td><td>0</td><td>0</td><td>0</td><td>0</td><td>0</td><td>0</td><td>0</td><td>1</td><td>0</td><td>0</td><td>0</td><td>0</td><td>0</td><td>0</td><td>0</td><td>0</td><td>0</td><td>0</td><td>0</td><td>0</td><td>0</td><td>0</td><td>0</td><td>0</td><td>0</td><td>0</td></tr></tbody></table></div>"
      ],
      "text/plain": [
       "shape: (21_701, 175)\n",
       "┌───────────┬───────────┬───────────┬───────────┬───┬───────────┬───────────┬───────────┬──────────┐\n",
       "│ article_i ┆ subcatego ┆ subcatego ┆ subcatego ┆ … ┆ subcatego ┆ subcatego ┆ subcatego ┆ subcateg │\n",
       "│ d         ┆ ry_0      ┆ ry_1      ┆ ry_10     ┆   ┆ ry_96     ┆ ry_97     ┆ ry_98     ┆ ory_99   │\n",
       "│ ---       ┆ ---       ┆ ---       ┆ ---       ┆   ┆ ---       ┆ ---       ┆ ---       ┆ ---      │\n",
       "│ i32       ┆ u8        ┆ u8        ┆ u8        ┆   ┆ u8        ┆ u8        ┆ u8        ┆ u8       │\n",
       "╞═══════════╪═══════════╪═══════════╪═══════════╪═══╪═══════════╪═══════════╪═══════════╪══════════╡\n",
       "│ 3003065   ┆ 0         ┆ 0         ┆ 0         ┆ … ┆ 0         ┆ 0         ┆ 0         ┆ 0        │\n",
       "│ 3003065   ┆ 0         ┆ 0         ┆ 0         ┆ … ┆ 0         ┆ 0         ┆ 0         ┆ 0        │\n",
       "│ 3012771   ┆ 0         ┆ 0         ┆ 0         ┆ … ┆ 0         ┆ 0         ┆ 0         ┆ 0        │\n",
       "│ 3012771   ┆ 0         ┆ 0         ┆ 0         ┆ … ┆ 0         ┆ 0         ┆ 0         ┆ 0        │\n",
       "│ 3023463   ┆ 0         ┆ 0         ┆ 0         ┆ … ┆ 0         ┆ 0         ┆ 0         ┆ 0        │\n",
       "│ …         ┆ …         ┆ …         ┆ …         ┆ … ┆ …         ┆ …         ┆ …         ┆ …        │\n",
       "│ 9803455   ┆ 0         ┆ 0         ┆ 0         ┆ … ┆ 0         ┆ 0         ┆ 0         ┆ 0        │\n",
       "│ 9803492   ┆ 0         ┆ 0         ┆ 0         ┆ … ┆ 0         ┆ 0         ┆ 0         ┆ 0        │\n",
       "│ 9803505   ┆ 0         ┆ 0         ┆ 0         ┆ … ┆ 0         ┆ 0         ┆ 0         ┆ 0        │\n",
       "│ 9803505   ┆ 0         ┆ 0         ┆ 0         ┆ … ┆ 0         ┆ 0         ┆ 0         ┆ 0        │\n",
       "│ 9803525   ┆ 0         ┆ 0         ┆ 0         ┆ … ┆ 0         ┆ 0         ┆ 0         ┆ 0        │\n",
       "└───────────┴───────────┴───────────┴───────────┴───┴───────────┴───────────┴───────────┴──────────┘"
      ]
     },
     "execution_count": 67,
     "metadata": {},
     "output_type": "execute_result"
    }
   ],
   "source": [
    "dummies_topics = articles.select('article_id', 'topics').explode('topics').drop_nulls().to_dummies(columns=['topics'])\\\n",
    "    .group_by('article_id').agg(pl.all().sum())\n",
    "dummies_subcategories = articles.select('article_id', 'subcategory').explode('subcategory').drop_nulls().to_dummies(columns=['subcategory'])\n",
    "\n",
    "dummies_subcategories"
   ]
  },
  {
   "cell_type": "code",
   "execution_count": 68,
   "metadata": {},
   "outputs": [
    {
     "data": {
      "text/html": [
       "<div><style>\n",
       ".dataframe > thead > tr,\n",
       ".dataframe > tbody > tr {\n",
       "  text-align: right;\n",
       "  white-space: pre-wrap;\n",
       "}\n",
       "</style>\n",
       "<small>shape: (2, 255)</small><table border=\"1\" class=\"dataframe\"><thead><tr><th>article_id</th><th>category</th><th>premium</th><th>topics_0</th><th>topics_1</th><th>topics_10</th><th>topics_11</th><th>topics_12</th><th>topics_13</th><th>topics_14</th><th>topics_15</th><th>topics_16</th><th>topics_17</th><th>topics_18</th><th>topics_19</th><th>topics_2</th><th>topics_20</th><th>topics_21</th><th>topics_22</th><th>topics_23</th><th>topics_24</th><th>topics_25</th><th>topics_26</th><th>topics_27</th><th>topics_28</th><th>topics_29</th><th>topics_3</th><th>topics_30</th><th>topics_31</th><th>topics_32</th><th>topics_33</th><th>topics_34</th><th>topics_35</th><th>topics_36</th><th>topics_37</th><th>topics_38</th><th>topics_39</th><th>&hellip;</th><th>subcategory_66</th><th>subcategory_67</th><th>subcategory_68</th><th>subcategory_69</th><th>subcategory_7</th><th>subcategory_70</th><th>subcategory_71</th><th>subcategory_72</th><th>subcategory_73</th><th>subcategory_74</th><th>subcategory_75</th><th>subcategory_76</th><th>subcategory_77</th><th>subcategory_78</th><th>subcategory_79</th><th>subcategory_8</th><th>subcategory_80</th><th>subcategory_81</th><th>subcategory_82</th><th>subcategory_83</th><th>subcategory_84</th><th>subcategory_85</th><th>subcategory_86</th><th>subcategory_87</th><th>subcategory_88</th><th>subcategory_89</th><th>subcategory_9</th><th>subcategory_90</th><th>subcategory_91</th><th>subcategory_92</th><th>subcategory_93</th><th>subcategory_94</th><th>subcategory_95</th><th>subcategory_96</th><th>subcategory_97</th><th>subcategory_98</th><th>subcategory_99</th></tr><tr><td>i32</td><td>i64</td><td>i8</td><td>i64</td><td>i64</td><td>i64</td><td>i64</td><td>i64</td><td>i64</td><td>i64</td><td>i64</td><td>i64</td><td>i64</td><td>i64</td><td>i64</td><td>i64</td><td>i64</td><td>i64</td><td>i64</td><td>i64</td><td>i64</td><td>i64</td><td>i64</td><td>i64</td><td>i64</td><td>i64</td><td>i64</td><td>i64</td><td>i64</td><td>i64</td><td>i64</td><td>i64</td><td>i64</td><td>i64</td><td>i64</td><td>i64</td><td>i64</td><td>&hellip;</td><td>i16</td><td>i16</td><td>i16</td><td>i16</td><td>i16</td><td>i16</td><td>i16</td><td>i16</td><td>i16</td><td>i16</td><td>i16</td><td>i16</td><td>i16</td><td>i16</td><td>i16</td><td>i16</td><td>i16</td><td>i16</td><td>i16</td><td>i16</td><td>i16</td><td>i16</td><td>i16</td><td>i16</td><td>i16</td><td>i16</td><td>i16</td><td>i16</td><td>i16</td><td>i16</td><td>i16</td><td>i16</td><td>i16</td><td>i16</td><td>i16</td><td>i16</td><td>i16</td></tr></thead><tbody><tr><td>3001353</td><td>5</td><td>0</td><td>0</td><td>0</td><td>0</td><td>0</td><td>0</td><td>0</td><td>0</td><td>0</td><td>0</td><td>0</td><td>0</td><td>0</td><td>0</td><td>0</td><td>0</td><td>0</td><td>0</td><td>0</td><td>1</td><td>0</td><td>0</td><td>0</td><td>0</td><td>0</td><td>0</td><td>0</td><td>0</td><td>0</td><td>0</td><td>0</td><td>0</td><td>0</td><td>0</td><td>0</td><td>&hellip;</td><td>0</td><td>0</td><td>0</td><td>0</td><td>0</td><td>0</td><td>0</td><td>0</td><td>0</td><td>0</td><td>0</td><td>0</td><td>0</td><td>0</td><td>0</td><td>0</td><td>0</td><td>0</td><td>0</td><td>0</td><td>0</td><td>0</td><td>0</td><td>0</td><td>0</td><td>0</td><td>0</td><td>0</td><td>0</td><td>0</td><td>0</td><td>0</td><td>0</td><td>0</td><td>0</td><td>0</td><td>0</td></tr><tr><td>3003065</td><td>7</td><td>0</td><td>0</td><td>0</td><td>0</td><td>0</td><td>0</td><td>1</td><td>0</td><td>0</td><td>0</td><td>0</td><td>0</td><td>0</td><td>0</td><td>0</td><td>0</td><td>0</td><td>0</td><td>0</td><td>0</td><td>0</td><td>0</td><td>0</td><td>0</td><td>0</td><td>0</td><td>0</td><td>0</td><td>0</td><td>0</td><td>0</td><td>0</td><td>0</td><td>0</td><td>0</td><td>&hellip;</td><td>0</td><td>0</td><td>0</td><td>0</td><td>0</td><td>0</td><td>0</td><td>0</td><td>0</td><td>0</td><td>0</td><td>0</td><td>0</td><td>0</td><td>0</td><td>0</td><td>0</td><td>0</td><td>0</td><td>0</td><td>0</td><td>0</td><td>0</td><td>1</td><td>0</td><td>0</td><td>0</td><td>0</td><td>0</td><td>0</td><td>0</td><td>0</td><td>0</td><td>0</td><td>0</td><td>0</td><td>0</td></tr></tbody></table></div>"
      ],
      "text/plain": [
       "shape: (2, 255)\n",
       "┌────────────┬──────────┬─────────┬──────────┬───┬────────────┬────────────┬───────────┬───────────┐\n",
       "│ article_id ┆ category ┆ premium ┆ topics_0 ┆ … ┆ subcategor ┆ subcategor ┆ subcatego ┆ subcatego │\n",
       "│ ---        ┆ ---      ┆ ---     ┆ ---      ┆   ┆ y_96       ┆ y_97       ┆ ry_98     ┆ ry_99     │\n",
       "│ i32        ┆ i64      ┆ i8      ┆ i64      ┆   ┆ ---        ┆ ---        ┆ ---       ┆ ---       │\n",
       "│            ┆          ┆         ┆          ┆   ┆ i16        ┆ i16        ┆ i16       ┆ i16       │\n",
       "╞════════════╪══════════╪═════════╪══════════╪═══╪════════════╪════════════╪═══════════╪═══════════╡\n",
       "│ 3001353    ┆ 5        ┆ 0       ┆ 0        ┆ … ┆ 0          ┆ 0          ┆ 0         ┆ 0         │\n",
       "│ 3003065    ┆ 7        ┆ 0       ┆ 0        ┆ … ┆ 0          ┆ 0          ┆ 0         ┆ 0         │\n",
       "└────────────┴──────────┴─────────┴──────────┴───┴────────────┴────────────┴───────────┴───────────┘"
      ]
     },
     "execution_count": 68,
     "metadata": {},
     "output_type": "execute_result"
    }
   ],
   "source": [
    "articles = articles.join(dummies_topics, on='article_id', how='left')\\\n",
    "    .join(dummies_subcategories, on='article_id', how='left')\\\n",
    "    .drop('topics', 'subcategory')\n",
    "    \n",
    "one_hot_cols = [col for col in articles.columns if col.startswith('topics_') or col.startswith('subcategory_')]\n",
    "articles = articles.with_columns(\n",
    "    pl.col(one_hot_cols).fill_null(0)\n",
    ")\n",
    "articles.head(2)"
   ]
  },
  {
   "cell_type": "code",
   "execution_count": 69,
   "metadata": {},
   "outputs": [
    {
     "data": {
      "text/html": [
       "<div><style>\n",
       ".dataframe > thead > tr,\n",
       ".dataframe > tbody > tr {\n",
       "  text-align: right;\n",
       "  white-space: pre-wrap;\n",
       "}\n",
       "</style>\n",
       "<small>shape: (15_143, 259)</small><table border=\"1\" class=\"dataframe\"><thead><tr><th>user_id</th><th>scroll_percentage</th><th>read_time</th><th>hour_group</th><th>weekday</th><th>category</th><th>premium</th><th>topics_0</th><th>topics_1</th><th>topics_10</th><th>topics_11</th><th>topics_12</th><th>topics_13</th><th>topics_14</th><th>topics_15</th><th>topics_16</th><th>topics_17</th><th>topics_18</th><th>topics_19</th><th>topics_2</th><th>topics_20</th><th>topics_21</th><th>topics_22</th><th>topics_23</th><th>topics_24</th><th>topics_25</th><th>topics_26</th><th>topics_27</th><th>topics_28</th><th>topics_29</th><th>topics_3</th><th>topics_30</th><th>topics_31</th><th>topics_32</th><th>topics_33</th><th>topics_34</th><th>topics_35</th><th>&hellip;</th><th>subcategory_66</th><th>subcategory_67</th><th>subcategory_68</th><th>subcategory_69</th><th>subcategory_7</th><th>subcategory_70</th><th>subcategory_71</th><th>subcategory_72</th><th>subcategory_73</th><th>subcategory_74</th><th>subcategory_75</th><th>subcategory_76</th><th>subcategory_77</th><th>subcategory_78</th><th>subcategory_79</th><th>subcategory_8</th><th>subcategory_80</th><th>subcategory_81</th><th>subcategory_82</th><th>subcategory_83</th><th>subcategory_84</th><th>subcategory_85</th><th>subcategory_86</th><th>subcategory_87</th><th>subcategory_88</th><th>subcategory_89</th><th>subcategory_9</th><th>subcategory_90</th><th>subcategory_91</th><th>subcategory_92</th><th>subcategory_93</th><th>subcategory_94</th><th>subcategory_95</th><th>subcategory_96</th><th>subcategory_97</th><th>subcategory_98</th><th>subcategory_99</th></tr><tr><td>u32</td><td>list[f32]</td><td>list[f32]</td><td>list[i8]</td><td>list[i8]</td><td>list[i64]</td><td>list[i8]</td><td>list[i64]</td><td>list[i64]</td><td>list[i64]</td><td>list[i64]</td><td>list[i64]</td><td>list[i64]</td><td>list[i64]</td><td>list[i64]</td><td>list[i64]</td><td>list[i64]</td><td>list[i64]</td><td>list[i64]</td><td>list[i64]</td><td>list[i64]</td><td>list[i64]</td><td>list[i64]</td><td>list[i64]</td><td>list[i64]</td><td>list[i64]</td><td>list[i64]</td><td>list[i64]</td><td>list[i64]</td><td>list[i64]</td><td>list[i64]</td><td>list[i64]</td><td>list[i64]</td><td>list[i64]</td><td>list[i64]</td><td>list[i64]</td><td>list[i64]</td><td>&hellip;</td><td>list[i16]</td><td>list[i16]</td><td>list[i16]</td><td>list[i16]</td><td>list[i16]</td><td>list[i16]</td><td>list[i16]</td><td>list[i16]</td><td>list[i16]</td><td>list[i16]</td><td>list[i16]</td><td>list[i16]</td><td>list[i16]</td><td>list[i16]</td><td>list[i16]</td><td>list[i16]</td><td>list[i16]</td><td>list[i16]</td><td>list[i16]</td><td>list[i16]</td><td>list[i16]</td><td>list[i16]</td><td>list[i16]</td><td>list[i16]</td><td>list[i16]</td><td>list[i16]</td><td>list[i16]</td><td>list[i16]</td><td>list[i16]</td><td>list[i16]</td><td>list[i16]</td><td>list[i16]</td><td>list[i16]</td><td>list[i16]</td><td>list[i16]</td><td>list[i16]</td><td>list[i16]</td></tr></thead><tbody><tr><td>1711118</td><td>[0.0, 36.0, … 50.0]</td><td>[11.0, 15.0, … 30.0]</td><td>[2, 2, … 1]</td><td>[4, 4, … 4]</td><td>[4, 4, … 4]</td><td>[0, 0, … 0]</td><td>[0, 0, … 0]</td><td>[0, 0, … 0]</td><td>[0, 0, … 0]</td><td>[0, 0, … 0]</td><td>[0, 0, … 0]</td><td>[0, 0, … 0]</td><td>[0, 0, … 0]</td><td>[0, 0, … 0]</td><td>[0, 0, … 0]</td><td>[0, 0, … 0]</td><td>[0, 0, … 0]</td><td>[1, 1, … 1]</td><td>[0, 0, … 0]</td><td>[0, 1, … 0]</td><td>[0, 0, … 0]</td><td>[0, 0, … 0]</td><td>[1, 0, … 1]</td><td>[0, 0, … 0]</td><td>[0, 0, … 0]</td><td>[0, 0, … 0]</td><td>[0, 0, … 0]</td><td>[0, 0, … 0]</td><td>[0, 0, … 0]</td><td>[0, 0, … 0]</td><td>[0, 0, … 0]</td><td>[0, 0, … 0]</td><td>[0, 0, … 0]</td><td>[0, 0, … 0]</td><td>[0, 0, … 0]</td><td>[0, 0, … 0]</td><td>&hellip;</td><td>[0, 0, … 0]</td><td>[0, 0, … 0]</td><td>[0, 0, … 0]</td><td>[0, 0, … 0]</td><td>[0, 0, … 0]</td><td>[0, 0, … 0]</td><td>[0, 0, … 0]</td><td>[0, 0, … 0]</td><td>[0, 0, … 0]</td><td>[0, 0, … 0]</td><td>[0, 0, … 0]</td><td>[0, 0, … 0]</td><td>[0, 0, … 0]</td><td>[0, 0, … 0]</td><td>[0, 0, … 0]</td><td>[0, 1, … 0]</td><td>[0, 0, … 0]</td><td>[0, 0, … 0]</td><td>[0, 0, … 0]</td><td>[0, 0, … 0]</td><td>[0, 0, … 0]</td><td>[0, 0, … 0]</td><td>[0, 0, … 0]</td><td>[0, 0, … 0]</td><td>[0, 0, … 0]</td><td>[0, 0, … 0]</td><td>[0, 0, … 0]</td><td>[0, 0, … 0]</td><td>[0, 0, … 0]</td><td>[0, 0, … 0]</td><td>[0, 0, … 0]</td><td>[0, 0, … 0]</td><td>[0, 0, … 0]</td><td>[0, 0, … 0]</td><td>[0, 0, … 0]</td><td>[0, 0, … 0]</td><td>[0, 0, … 0]</td></tr><tr><td>2291058</td><td>[94.0, 69.0, … 100.0]</td><td>[83.0, 14.0, … 142.0]</td><td>[2, 2, … 1]</td><td>[4, 4, … 4]</td><td>[4, 6, … 6]</td><td>[0, 0, … 0]</td><td>[0, 0, … 0]</td><td>[0, 0, … 0]</td><td>[0, 0, … 0]</td><td>[0, 0, … 0]</td><td>[0, 0, … 0]</td><td>[0, 0, … 0]</td><td>[0, 1, … 0]</td><td>[0, 0, … 0]</td><td>[0, 0, … 0]</td><td>[0, 0, … 0]</td><td>[0, 0, … 0]</td><td>[1, 0, … 0]</td><td>[0, 0, … 0]</td><td>[1, 0, … 0]</td><td>[0, 1, … 1]</td><td>[0, 0, … 1]</td><td>[0, 0, … 0]</td><td>[0, 0, … 0]</td><td>[0, 0, … 0]</td><td>[0, 0, … 0]</td><td>[0, 0, … 0]</td><td>[0, 0, … 0]</td><td>[0, 0, … 0]</td><td>[0, 1, … 1]</td><td>[0, 0, … 0]</td><td>[0, 0, … 0]</td><td>[0, 0, … 0]</td><td>[0, 0, … 0]</td><td>[0, 0, … 0]</td><td>[0, 0, … 0]</td><td>&hellip;</td><td>[0, 0, … 0]</td><td>[0, 0, … 0]</td><td>[0, 0, … 0]</td><td>[0, 0, … 0]</td><td>[0, 0, … 0]</td><td>[0, 0, … 0]</td><td>[0, 0, … 0]</td><td>[0, 0, … 0]</td><td>[0, 0, … 0]</td><td>[0, 0, … 0]</td><td>[0, 0, … 0]</td><td>[0, 0, … 0]</td><td>[0, 0, … 0]</td><td>[0, 0, … 0]</td><td>[0, 0, … 1]</td><td>[1, 0, … 0]</td><td>[0, 0, … 0]</td><td>[0, 0, … 0]</td><td>[0, 0, … 0]</td><td>[0, 0, … 0]</td><td>[0, 0, … 0]</td><td>[0, 0, … 0]</td><td>[0, 0, … 0]</td><td>[0, 0, … 0]</td><td>[0, 0, … 0]</td><td>[0, 0, … 0]</td><td>[0, 0, … 0]</td><td>[0, 0, … 0]</td><td>[0, 0, … 0]</td><td>[0, 0, … 0]</td><td>[0, 0, … 0]</td><td>[0, 0, … 0]</td><td>[0, 0, … 0]</td><td>[0, 0, … 0]</td><td>[0, 0, … 0]</td><td>[0, 0, … 0]</td><td>[0, 0, … 0]</td></tr><tr><td>1488980</td><td>[100.0, 22.0, … 45.0]</td><td>[51.0, 2.0, … 0.0]</td><td>[2, 2, … 5]</td><td>[4, 4, … 3]</td><td>[7, 6, … 4]</td><td>[0, 0, … 0]</td><td>[0, 0, … 0]</td><td>[0, 0, … 0]</td><td>[1, 0, … 1]</td><td>[0, 0, … 0]</td><td>[0, 0, … 0]</td><td>[1, 0, … 0]</td><td>[0, 1, … 0]</td><td>[0, 0, … 0]</td><td>[0, 0, … 0]</td><td>[0, 0, … 0]</td><td>[0, 0, … 0]</td><td>[0, 0, … 0]</td><td>[0, 0, … 0]</td><td>[0, 0, … 0]</td><td>[0, 0, … 0]</td><td>[0, 0, … 0]</td><td>[0, 0, … 0]</td><td>[0, 0, … 0]</td><td>[0, 0, … 0]</td><td>[0, 0, … 0]</td><td>[0, 0, … 1]</td><td>[0, 0, … 0]</td><td>[0, 0, … 0]</td><td>[0, 1, … 0]</td><td>[0, 0, … 0]</td><td>[0, 0, … 0]</td><td>[0, 0, … 0]</td><td>[0, 0, … 0]</td><td>[0, 0, … 0]</td><td>[0, 0, … 0]</td><td>&hellip;</td><td>[0, 0, … 0]</td><td>[0, 0, … 0]</td><td>[0, 0, … 0]</td><td>[0, 0, … 0]</td><td>[0, 0, … 0]</td><td>[0, 0, … 0]</td><td>[0, 0, … 0]</td><td>[0, 0, … 0]</td><td>[0, 0, … 0]</td><td>[0, 0, … 0]</td><td>[0, 0, … 0]</td><td>[0, 0, … 0]</td><td>[0, 0, … 0]</td><td>[0, 0, … 0]</td><td>[0, 0, … 0]</td><td>[0, 0, … 1]</td><td>[0, 0, … 0]</td><td>[0, 0, … 0]</td><td>[0, 0, … 0]</td><td>[0, 0, … 0]</td><td>[0, 0, … 0]</td><td>[0, 0, … 0]</td><td>[0, 0, … 0]</td><td>[1, 0, … 0]</td><td>[0, 0, … 0]</td><td>[0, 0, … 0]</td><td>[0, 0, … 0]</td><td>[0, 0, … 0]</td><td>[0, 0, … 0]</td><td>[0, 0, … 0]</td><td>[0, 0, … 0]</td><td>[0, 0, … 0]</td><td>[0, 0, … 0]</td><td>[0, 0, … 0]</td><td>[0, 0, … 0]</td><td>[0, 0, … 0]</td><td>[0, 0, … 0]</td></tr><tr><td>201902</td><td>[100.0, 60.0, … 50.0]</td><td>[160.0, 41.0, … 45.0]</td><td>[3, 3, … 5]</td><td>[4, 4, … 2]</td><td>[4, 7, … 5]</td><td>[0, 0, … 0]</td><td>[0, 0, … 0]</td><td>[0, 0, … 0]</td><td>[0, 1, … 0]</td><td>[0, 0, … 0]</td><td>[0, 0, … 0]</td><td>[0, 1, … 0]</td><td>[0, 0, … 0]</td><td>[0, 0, … 0]</td><td>[0, 0, … 0]</td><td>[0, 0, … 0]</td><td>[0, 0, … 0]</td><td>[0, 0, … 0]</td><td>[0, 0, … 0]</td><td>[0, 0, … 0]</td><td>[0, 0, … 0]</td><td>[0, 0, … 0]</td><td>[0, 0, … 0]</td><td>[0, 0, … 0]</td><td>[0, 0, … 0]</td><td>[0, 0, … 0]</td><td>[0, 0, … 1]</td><td>[0, 0, … 0]</td><td>[0, 0, … 0]</td><td>[0, 0, … 0]</td><td>[0, 0, … 0]</td><td>[0, 0, … 0]</td><td>[0, 0, … 0]</td><td>[0, 0, … 0]</td><td>[1, 0, … 0]</td><td>[1, 0, … 0]</td><td>&hellip;</td><td>[0, 0, … 0]</td><td>[0, 0, … 0]</td><td>[0, 0, … 0]</td><td>[0, 0, … 0]</td><td>[0, 0, … 0]</td><td>[0, 0, … 0]</td><td>[0, 0, … 0]</td><td>[0, 0, … 0]</td><td>[0, 0, … 0]</td><td>[0, 0, … 0]</td><td>[0, 0, … 0]</td><td>[0, 0, … 0]</td><td>[0, 0, … 0]</td><td>[0, 0, … 0]</td><td>[0, 0, … 0]</td><td>[1, 0, … 0]</td><td>[0, 0, … 0]</td><td>[0, 0, … 0]</td><td>[0, 0, … 0]</td><td>[0, 0, … 0]</td><td>[0, 0, … 0]</td><td>[0, 0, … 0]</td><td>[0, 0, … 0]</td><td>[0, 1, … 0]</td><td>[0, 0, … 0]</td><td>[0, 0, … 0]</td><td>[0, 0, … 0]</td><td>[0, 0, … 0]</td><td>[0, 0, … 0]</td><td>[0, 0, … 0]</td><td>[0, 0, … 0]</td><td>[0, 0, … 0]</td><td>[0, 0, … 0]</td><td>[0, 0, … 0]</td><td>[0, 0, … 0]</td><td>[0, 0, … 0]</td><td>[0, 0, … 0]</td></tr><tr><td>605598</td><td>[100.0, 45.0, … 0.0]</td><td>[39.0, 15.0, … 0.0]</td><td>[2, 2, … 1]</td><td>[4, 4, … 4]</td><td>[5, 7, … 5]</td><td>[0, 0, … 0]</td><td>[0, 0, … 0]</td><td>[0, 0, … 0]</td><td>[0, 0, … 0]</td><td>[0, 0, … 0]</td><td>[0, 0, … 0]</td><td>[0, 0, … 0]</td><td>[0, 0, … 0]</td><td>[0, 0, … 0]</td><td>[0, 0, … 0]</td><td>[0, 0, … 0]</td><td>[0, 0, … 0]</td><td>[0, 0, … 0]</td><td>[0, 0, … 0]</td><td>[1, 0, … 0]</td><td>[0, 0, … 0]</td><td>[0, 0, … 0]</td><td>[0, 0, … 0]</td><td>[0, 0, … 0]</td><td>[0, 0, … 1]</td><td>[0, 0, … 0]</td><td>[0, 0, … 0]</td><td>[0, 0, … 0]</td><td>[0, 0, … 0]</td><td>[0, 1, … 0]</td><td>[0, 0, … 0]</td><td>[0, 0, … 0]</td><td>[0, 0, … 0]</td><td>[0, 0, … 0]</td><td>[0, 0, … 0]</td><td>[0, 0, … 0]</td><td>&hellip;</td><td>[0, 0, … 0]</td><td>[0, 0, … 0]</td><td>[0, 0, … 0]</td><td>[0, 0, … 0]</td><td>[0, 0, … 0]</td><td>[0, 0, … 0]</td><td>[0, 0, … 0]</td><td>[0, 0, … 0]</td><td>[0, 0, … 0]</td><td>[0, 0, … 0]</td><td>[0, 0, … 0]</td><td>[0, 0, … 0]</td><td>[0, 0, … 0]</td><td>[0, 0, … 0]</td><td>[0, 0, … 0]</td><td>[0, 0, … 0]</td><td>[0, 0, … 0]</td><td>[0, 0, … 0]</td><td>[0, 0, … 0]</td><td>[0, 1, … 0]</td><td>[0, 0, … 0]</td><td>[0, 0, … 0]</td><td>[0, 0, … 0]</td><td>[0, 0, … 0]</td><td>[0, 0, … 0]</td><td>[0, 0, … 0]</td><td>[0, 0, … 0]</td><td>[0, 0, … 0]</td><td>[0, 0, … 0]</td><td>[0, 0, … 0]</td><td>[0, 0, … 0]</td><td>[0, 0, … 0]</td><td>[0, 0, … 0]</td><td>[0, 0, … 0]</td><td>[0, 0, … 0]</td><td>[0, 0, … 0]</td><td>[0, 0, … 0]</td></tr><tr><td>&hellip;</td><td>&hellip;</td><td>&hellip;</td><td>&hellip;</td><td>&hellip;</td><td>&hellip;</td><td>&hellip;</td><td>&hellip;</td><td>&hellip;</td><td>&hellip;</td><td>&hellip;</td><td>&hellip;</td><td>&hellip;</td><td>&hellip;</td><td>&hellip;</td><td>&hellip;</td><td>&hellip;</td><td>&hellip;</td><td>&hellip;</td><td>&hellip;</td><td>&hellip;</td><td>&hellip;</td><td>&hellip;</td><td>&hellip;</td><td>&hellip;</td><td>&hellip;</td><td>&hellip;</td><td>&hellip;</td><td>&hellip;</td><td>&hellip;</td><td>&hellip;</td><td>&hellip;</td><td>&hellip;</td><td>&hellip;</td><td>&hellip;</td><td>&hellip;</td><td>&hellip;</td><td>&hellip;</td><td>&hellip;</td><td>&hellip;</td><td>&hellip;</td><td>&hellip;</td><td>&hellip;</td><td>&hellip;</td><td>&hellip;</td><td>&hellip;</td><td>&hellip;</td><td>&hellip;</td><td>&hellip;</td><td>&hellip;</td><td>&hellip;</td><td>&hellip;</td><td>&hellip;</td><td>&hellip;</td><td>&hellip;</td><td>&hellip;</td><td>&hellip;</td><td>&hellip;</td><td>&hellip;</td><td>&hellip;</td><td>&hellip;</td><td>&hellip;</td><td>&hellip;</td><td>&hellip;</td><td>&hellip;</td><td>&hellip;</td><td>&hellip;</td><td>&hellip;</td><td>&hellip;</td><td>&hellip;</td><td>&hellip;</td><td>&hellip;</td><td>&hellip;</td><td>&hellip;</td><td>&hellip;</td></tr><tr><td>592733</td><td>[0.0, 0.0, … 12.0]</td><td>[6.0, 19.0, … 5.0]</td><td>[3, 3, … 1]</td><td>[6, 6, … 2]</td><td>[4, 5, … 4]</td><td>[0, 0, … 0]</td><td>[1, 0, … 0]</td><td>[0, 0, … 0]</td><td>[1, 0, … 0]</td><td>[0, 0, … 0]</td><td>[0, 0, … 0]</td><td>[0, 0, … 0]</td><td>[0, 0, … 0]</td><td>[0, 0, … 0]</td><td>[0, 0, … 0]</td><td>[0, 0, … 0]</td><td>[0, 0, … 0]</td><td>[0, 0, … 0]</td><td>[0, 0, … 0]</td><td>[0, 0, … 0]</td><td>[0, 0, … 0]</td><td>[0, 0, … 0]</td><td>[0, 0, … 0]</td><td>[0, 0, … 0]</td><td>[0, 1, … 0]</td><td>[0, 0, … 0]</td><td>[0, 0, … 0]</td><td>[0, 0, … 0]</td><td>[0, 0, … 0]</td><td>[0, 0, … 0]</td><td>[0, 0, … 0]</td><td>[0, 0, … 0]</td><td>[0, 0, … 0]</td><td>[0, 0, … 0]</td><td>[0, 0, … 0]</td><td>[0, 0, … 0]</td><td>&hellip;</td><td>[0, 0, … 0]</td><td>[0, 0, … 0]</td><td>[0, 0, … 0]</td><td>[0, 0, … 0]</td><td>[0, 0, … 0]</td><td>[0, 0, … 0]</td><td>[0, 0, … 0]</td><td>[0, 0, … 0]</td><td>[0, 0, … 0]</td><td>[0, 0, … 0]</td><td>[0, 0, … 0]</td><td>[0, 0, … 0]</td><td>[0, 0, … 0]</td><td>[0, 0, … 0]</td><td>[0, 0, … 0]</td><td>[1, 0, … 1]</td><td>[0, 0, … 0]</td><td>[0, 0, … 0]</td><td>[0, 0, … 0]</td><td>[0, 0, … 0]</td><td>[0, 0, … 0]</td><td>[0, 0, … 0]</td><td>[0, 0, … 0]</td><td>[0, 0, … 0]</td><td>[0, 0, … 0]</td><td>[0, 0, … 0]</td><td>[0, 0, … 0]</td><td>[0, 0, … 0]</td><td>[0, 0, … 0]</td><td>[0, 0, … 0]</td><td>[0, 0, … 0]</td><td>[0, 0, … 0]</td><td>[0, 0, … 0]</td><td>[0, 0, … 0]</td><td>[0, 0, … 0]</td><td>[0, 0, … 0]</td><td>[0, 0, … 0]</td></tr><tr><td>2436998</td><td>[0.0, 100.0, … 0.0]</td><td>[0.0, 65.0, … 0.0]</td><td>[3, 1, … 4]</td><td>[5, 4, … 3]</td><td>[5, 4, … 6]</td><td>[0, 0, … 0]</td><td>[0, 0, … 0]</td><td>[0, 0, … 0]</td><td>[0, 0, … 0]</td><td>[0, 0, … 0]</td><td>[0, 0, … 0]</td><td>[0, 0, … 0]</td><td>[0, 0, … 0]</td><td>[0, 0, … 0]</td><td>[0, 0, … 0]</td><td>[0, 0, … 0]</td><td>[0, 0, … 0]</td><td>[0, 1, … 0]</td><td>[0, 0, … 0]</td><td>[0, 1, … 0]</td><td>[0, 0, … 1]</td><td>[0, 0, … 1]</td><td>[0, 1, … 0]</td><td>[0, 0, … 0]</td><td>[1, 0, … 0]</td><td>[0, 0, … 0]</td><td>[0, 0, … 0]</td><td>[0, 0, … 0]</td><td>[0, 0, … 0]</td><td>[0, 0, … 1]</td><td>[0, 0, … 0]</td><td>[0, 0, … 0]</td><td>[0, 0, … 0]</td><td>[0, 0, … 0]</td><td>[0, 0, … 0]</td><td>[0, 0, … 0]</td><td>&hellip;</td><td>[0, 0, … 0]</td><td>[0, 0, … 0]</td><td>[0, 0, … 0]</td><td>[0, 0, … 0]</td><td>[0, 0, … 0]</td><td>[0, 0, … 0]</td><td>[0, 0, … 0]</td><td>[0, 0, … 0]</td><td>[0, 0, … 0]</td><td>[0, 0, … 0]</td><td>[0, 0, … 0]</td><td>[0, 0, … 0]</td><td>[0, 0, … 0]</td><td>[0, 0, … 0]</td><td>[0, 0, … 1]</td><td>[0, 0, … 0]</td><td>[0, 0, … 0]</td><td>[0, 0, … 0]</td><td>[0, 0, … 0]</td><td>[0, 0, … 0]</td><td>[0, 0, … 0]</td><td>[0, 0, … 0]</td><td>[0, 0, … 0]</td><td>[0, 0, … 0]</td><td>[0, 0, … 0]</td><td>[0, 0, … 0]</td><td>[0, 0, … 0]</td><td>[0, 0, … 0]</td><td>[0, 0, … 0]</td><td>[0, 0, … 0]</td><td>[0, 0, … 0]</td><td>[0, 0, … 0]</td><td>[0, 0, … 0]</td><td>[0, 0, … 0]</td><td>[0, 0, … 0]</td><td>[0, 0, … 0]</td><td>[0, 0, … 0]</td></tr><tr><td>640057</td><td>[37.0, 37.0, … 27.0]</td><td>[19.0, 19.0, … 2.0]</td><td>[4, 4, … 4]</td><td>[4, 4, … 6]</td><td>[4, 4, … 4]</td><td>[0, 0, … 0]</td><td>[0, 0, … 0]</td><td>[0, 0, … 0]</td><td>[1, 1, … 0]</td><td>[0, 0, … 0]</td><td>[0, 0, … 0]</td><td>[0, 0, … 0]</td><td>[0, 0, … 0]</td><td>[0, 0, … 0]</td><td>[0, 0, … 0]</td><td>[0, 0, … 0]</td><td>[0, 0, … 0]</td><td>[0, 0, … 0]</td><td>[0, 0, … 0]</td><td>[0, 0, … 1]</td><td>[0, 0, … 0]</td><td>[0, 0, … 0]</td><td>[0, 0, … 0]</td><td>[0, 0, … 0]</td><td>[0, 0, … 0]</td><td>[0, 0, … 0]</td><td>[0, 0, … 0]</td><td>[0, 0, … 0]</td><td>[0, 0, … 0]</td><td>[0, 0, … 0]</td><td>[0, 0, … 0]</td><td>[0, 0, … 0]</td><td>[0, 0, … 0]</td><td>[0, 0, … 0]</td><td>[0, 0, … 0]</td><td>[0, 0, … 0]</td><td>&hellip;</td><td>[0, 0, … 0]</td><td>[0, 0, … 0]</td><td>[0, 0, … 0]</td><td>[0, 0, … 0]</td><td>[0, 1, … 0]</td><td>[0, 0, … 0]</td><td>[0, 0, … 0]</td><td>[0, 0, … 0]</td><td>[0, 0, … 0]</td><td>[0, 0, … 0]</td><td>[0, 0, … 0]</td><td>[0, 0, … 0]</td><td>[0, 0, … 0]</td><td>[0, 0, … 0]</td><td>[0, 0, … 0]</td><td>[0, 0, … 1]</td><td>[0, 0, … 0]</td><td>[0, 0, … 0]</td><td>[0, 0, … 0]</td><td>[0, 0, … 0]</td><td>[0, 0, … 0]</td><td>[0, 0, … 0]</td><td>[0, 0, … 0]</td><td>[0, 0, … 0]</td><td>[0, 0, … 0]</td><td>[0, 0, … 0]</td><td>[0, 0, … 0]</td><td>[0, 0, … 0]</td><td>[0, 0, … 0]</td><td>[0, 0, … 0]</td><td>[0, 0, … 0]</td><td>[0, 0, … 0]</td><td>[0, 0, … 0]</td><td>[0, 0, … 0]</td><td>[0, 0, … 0]</td><td>[0, 0, … 0]</td><td>[0, 0, … 0]</td></tr><tr><td>564916</td><td>[100.0, 87.0, … 100.0]</td><td>[174.0, 57.0, … 141.0]</td><td>[1, 1, … 1]</td><td>[5, 5, … 2]</td><td>[10, 4, … 4]</td><td>[0, 0, … 0]</td><td>[0, 0, … 0]</td><td>[0, 0, … 0]</td><td>[1, 0, … 0]</td><td>[0, 0, … 0]</td><td>[0, 0, … 0]</td><td>[0, 0, … 0]</td><td>[0, 0, … 0]</td><td>[0, 0, … 0]</td><td>[0, 0, … 0]</td><td>[0, 0, … 0]</td><td>[0, 0, … 0]</td><td>[0, 1, … 1]</td><td>[0, 0, … 0]</td><td>[0, 0, … 0]</td><td>[0, 0, … 1]</td><td>[0, 0, … 0]</td><td>[0, 1, … 0]</td><td>[0, 0, … 0]</td><td>[0, 0, … 1]</td><td>[0, 0, … 0]</td><td>[0, 0, … 0]</td><td>[0, 0, … 0]</td><td>[0, 0, … 0]</td><td>[0, 0, … 0]</td><td>[0, 0, … 0]</td><td>[0, 0, … 0]</td><td>[0, 0, … 0]</td><td>[0, 0, … 0]</td><td>[0, 0, … 0]</td><td>[0, 0, … 0]</td><td>&hellip;</td><td>[0, 0, … 0]</td><td>[0, 0, … 0]</td><td>[0, 0, … 0]</td><td>[0, 0, … 0]</td><td>[0, 0, … 1]</td><td>[0, 0, … 0]</td><td>[0, 0, … 0]</td><td>[0, 0, … 0]</td><td>[0, 0, … 0]</td><td>[0, 0, … 0]</td><td>[0, 0, … 0]</td><td>[0, 0, … 0]</td><td>[0, 0, … 0]</td><td>[0, 0, … 0]</td><td>[0, 0, … 0]</td><td>[0, 0, … 0]</td><td>[0, 0, … 0]</td><td>[0, 0, … 0]</td><td>[0, 0, … 0]</td><td>[0, 0, … 0]</td><td>[0, 0, … 0]</td><td>[0, 0, … 0]</td><td>[0, 0, … 0]</td><td>[0, 0, … 0]</td><td>[0, 0, … 0]</td><td>[0, 0, … 0]</td><td>[0, 0, … 0]</td><td>[0, 0, … 0]</td><td>[0, 0, … 0]</td><td>[0, 0, … 0]</td><td>[0, 0, … 0]</td><td>[0, 0, … 0]</td><td>[0, 0, … 0]</td><td>[0, 0, … 0]</td><td>[0, 0, … 0]</td><td>[0, 0, … 0]</td><td>[0, 0, … 0]</td></tr><tr><td>1192528</td><td>[0.0, 30.0, … 100.0]</td><td>[1143.0, 4.0, … 50.0]</td><td>[2, 2, … 3]</td><td>[4, 4, … 1]</td><td>[5, 9, … 10]</td><td>[0, 0, … 0]</td><td>[0, 0, … 0]</td><td>[0, 0, … 0]</td><td>[0, 0, … 0]</td><td>[0, 0, … 0]</td><td>[0, 0, … 0]</td><td>[0, 0, … 0]</td><td>[0, 0, … 0]</td><td>[0, 0, … 0]</td><td>[0, 0, … 0]</td><td>[0, 0, … 0]</td><td>[0, 0, … 0]</td><td>[0, 0, … 0]</td><td>[0, 0, … 0]</td><td>[0, 0, … 0]</td><td>[0, 1, … 0]</td><td>[0, 0, … 0]</td><td>[0, 0, … 0]</td><td>[0, 0, … 0]</td><td>[1, 0, … 0]</td><td>[0, 0, … 0]</td><td>[0, 0, … 0]</td><td>[0, 0, … 0]</td><td>[0, 0, … 0]</td><td>[0, 1, … 0]</td><td>[0, 0, … 0]</td><td>[0, 0, … 0]</td><td>[0, 0, … 0]</td><td>[0, 0, … 0]</td><td>[0, 0, … 0]</td><td>[0, 0, … 0]</td><td>&hellip;</td><td>[0, 0, … 0]</td><td>[0, 0, … 0]</td><td>[0, 0, … 0]</td><td>[0, 0, … 0]</td><td>[0, 0, … 0]</td><td>[0, 0, … 0]</td><td>[0, 0, … 0]</td><td>[0, 0, … 0]</td><td>[0, 0, … 0]</td><td>[0, 0, … 0]</td><td>[0, 0, … 0]</td><td>[0, 0, … 0]</td><td>[0, 0, … 0]</td><td>[0, 0, … 0]</td><td>[0, 0, … 0]</td><td>[0, 0, … 0]</td><td>[0, 0, … 0]</td><td>[0, 0, … 0]</td><td>[0, 0, … 0]</td><td>[0, 0, … 0]</td><td>[0, 0, … 0]</td><td>[0, 0, … 0]</td><td>[0, 0, … 0]</td><td>[0, 0, … 0]</td><td>[0, 0, … 0]</td><td>[0, 0, … 0]</td><td>[0, 0, … 0]</td><td>[0, 0, … 0]</td><td>[0, 0, … 0]</td><td>[0, 0, … 0]</td><td>[0, 0, … 0]</td><td>[0, 0, … 0]</td><td>[0, 0, … 0]</td><td>[0, 0, … 0]</td><td>[0, 0, … 0]</td><td>[0, 0, … 0]</td><td>[0, 0, … 0]</td></tr></tbody></table></div>"
      ],
      "text/plain": [
       "shape: (15_143, 259)\n",
       "┌─────────┬────────────┬───────────┬───────────┬───┬───────────┬───────────┬───────────┬───────────┐\n",
       "│ user_id ┆ scroll_per ┆ read_time ┆ hour_grou ┆ … ┆ subcatego ┆ subcatego ┆ subcatego ┆ subcatego │\n",
       "│ ---     ┆ centage    ┆ ---       ┆ p         ┆   ┆ ry_96     ┆ ry_97     ┆ ry_98     ┆ ry_99     │\n",
       "│ u32     ┆ ---        ┆ list[f32] ┆ ---       ┆   ┆ ---       ┆ ---       ┆ ---       ┆ ---       │\n",
       "│         ┆ list[f32]  ┆           ┆ list[i8]  ┆   ┆ list[i16] ┆ list[i16] ┆ list[i16] ┆ list[i16] │\n",
       "╞═════════╪════════════╪═══════════╪═══════════╪═══╪═══════════╪═══════════╪═══════════╪═══════════╡\n",
       "│ 1711118 ┆ [0.0,      ┆ [11.0,    ┆ [2, 2, …  ┆ … ┆ [0, 0, …  ┆ [0, 0, …  ┆ [0, 0, …  ┆ [0, 0, …  │\n",
       "│         ┆ 36.0, …    ┆ 15.0, …   ┆ 1]        ┆   ┆ 0]        ┆ 0]        ┆ 0]        ┆ 0]        │\n",
       "│         ┆ 50.0]      ┆ 30.0]     ┆           ┆   ┆           ┆           ┆           ┆           │\n",
       "│ 2291058 ┆ [94.0,     ┆ [83.0,    ┆ [2, 2, …  ┆ … ┆ [0, 0, …  ┆ [0, 0, …  ┆ [0, 0, …  ┆ [0, 0, …  │\n",
       "│         ┆ 69.0, …    ┆ 14.0, …   ┆ 1]        ┆   ┆ 0]        ┆ 0]        ┆ 0]        ┆ 0]        │\n",
       "│         ┆ 100.0]     ┆ 142.0]    ┆           ┆   ┆           ┆           ┆           ┆           │\n",
       "│ 1488980 ┆ [100.0,    ┆ [51.0,    ┆ [2, 2, …  ┆ … ┆ [0, 0, …  ┆ [0, 0, …  ┆ [0, 0, …  ┆ [0, 0, …  │\n",
       "│         ┆ 22.0, …    ┆ 2.0, …    ┆ 5]        ┆   ┆ 0]        ┆ 0]        ┆ 0]        ┆ 0]        │\n",
       "│         ┆ 45.0]      ┆ 0.0]      ┆           ┆   ┆           ┆           ┆           ┆           │\n",
       "│ 201902  ┆ [100.0,    ┆ [160.0,   ┆ [3, 3, …  ┆ … ┆ [0, 0, …  ┆ [0, 0, …  ┆ [0, 0, …  ┆ [0, 0, …  │\n",
       "│         ┆ 60.0, …    ┆ 41.0, …   ┆ 5]        ┆   ┆ 0]        ┆ 0]        ┆ 0]        ┆ 0]        │\n",
       "│         ┆ 50.0]      ┆ 45.0]     ┆           ┆   ┆           ┆           ┆           ┆           │\n",
       "│ 605598  ┆ [100.0,    ┆ [39.0,    ┆ [2, 2, …  ┆ … ┆ [0, 0, …  ┆ [0, 0, …  ┆ [0, 0, …  ┆ [0, 0, …  │\n",
       "│         ┆ 45.0, …    ┆ 15.0, …   ┆ 1]        ┆   ┆ 0]        ┆ 0]        ┆ 0]        ┆ 0]        │\n",
       "│         ┆ 0.0]       ┆ 0.0]      ┆           ┆   ┆           ┆           ┆           ┆           │\n",
       "│ …       ┆ …          ┆ …         ┆ …         ┆ … ┆ …         ┆ …         ┆ …         ┆ …         │\n",
       "│ 592733  ┆ [0.0, 0.0, ┆ [6.0,     ┆ [3, 3, …  ┆ … ┆ [0, 0, …  ┆ [0, 0, …  ┆ [0, 0, …  ┆ [0, 0, …  │\n",
       "│         ┆ … 12.0]    ┆ 19.0, …   ┆ 1]        ┆   ┆ 0]        ┆ 0]        ┆ 0]        ┆ 0]        │\n",
       "│         ┆            ┆ 5.0]      ┆           ┆   ┆           ┆           ┆           ┆           │\n",
       "│ 2436998 ┆ [0.0,      ┆ [0.0,     ┆ [3, 1, …  ┆ … ┆ [0, 0, …  ┆ [0, 0, …  ┆ [0, 0, …  ┆ [0, 0, …  │\n",
       "│         ┆ 100.0, …   ┆ 65.0, …   ┆ 4]        ┆   ┆ 0]        ┆ 0]        ┆ 0]        ┆ 0]        │\n",
       "│         ┆ 0.0]       ┆ 0.0]      ┆           ┆   ┆           ┆           ┆           ┆           │\n",
       "│ 640057  ┆ [37.0,     ┆ [19.0,    ┆ [4, 4, …  ┆ … ┆ [0, 0, …  ┆ [0, 0, …  ┆ [0, 0, …  ┆ [0, 0, …  │\n",
       "│         ┆ 37.0, …    ┆ 19.0, …   ┆ 4]        ┆   ┆ 0]        ┆ 0]        ┆ 0]        ┆ 0]        │\n",
       "│         ┆ 27.0]      ┆ 2.0]      ┆           ┆   ┆           ┆           ┆           ┆           │\n",
       "│ 564916  ┆ [100.0,    ┆ [174.0,   ┆ [1, 1, …  ┆ … ┆ [0, 0, …  ┆ [0, 0, …  ┆ [0, 0, …  ┆ [0, 0, …  │\n",
       "│         ┆ 87.0, …    ┆ 57.0, …   ┆ 1]        ┆   ┆ 0]        ┆ 0]        ┆ 0]        ┆ 0]        │\n",
       "│         ┆ 100.0]     ┆ 141.0]    ┆           ┆   ┆           ┆           ┆           ┆           │\n",
       "│ 1192528 ┆ [0.0,      ┆ [1143.0,  ┆ [2, 2, …  ┆ … ┆ [0, 0, …  ┆ [0, 0, …  ┆ [0, 0, …  ┆ [0, 0, …  │\n",
       "│         ┆ 30.0, …    ┆ 4.0, …    ┆ 3]        ┆   ┆ 0]        ┆ 0]        ┆ 0]        ┆ 0]        │\n",
       "│         ┆ 100.0]     ┆ 50.0]     ┆           ┆   ┆           ┆           ┆           ┆           │\n",
       "└─────────┴────────────┴───────────┴───────────┴───┴───────────┴───────────┴───────────┴───────────┘"
      ]
     },
     "execution_count": 69,
     "metadata": {},
     "output_type": "execute_result"
    }
   ],
   "source": [
    "df = pl.concat([\n",
    "    slice.explode(pl.all().exclude('user_id'))\\\n",
    "        .with_columns(\n",
    "            pl.col('scroll_percentage_fixed').fill_null(0.),\n",
    "            pl.col('read_time_fixed').fill_null(0.),\n",
    "        )\\\n",
    "        .with_columns(\n",
    "            (pl.col('impression_time_fixed').dt.hour() // 4).alias('hour_group'),\n",
    "            pl.col('impression_time_fixed').dt.weekday().alias('weekday'),\n",
    "        ).drop('impression_time_fixed')\\\n",
    "        .rename({'scroll_percentage_fixed': 'scroll_percentage', 'read_time_fixed': 'read_time'})\n",
    "        .join(articles, left_on='article_id_fixed', right_on='article_id', how='left').drop('article_id_fixed')\\\n",
    "        .group_by('user_id').agg(pl.all())\n",
    "    for slice in history.iter_slices(10000)\n",
    "])\n",
    "\n",
    "df"
   ]
  },
  {
   "cell_type": "code",
   "execution_count": 70,
   "metadata": {},
   "outputs": [
    {
     "data": {
      "text/html": [
       "<div><style>\n",
       ".dataframe > thead > tr,\n",
       ".dataframe > tbody > tr {\n",
       "  text-align: right;\n",
       "  white-space: pre-wrap;\n",
       "}\n",
       "</style>\n",
       "<small>shape: (1, 259)</small><table border=\"1\" class=\"dataframe\"><thead><tr><th>user_id</th><th>weekday</th><th>premium</th><th>scroll_percentage</th><th>hour_group</th><th>read_time</th><th>category</th><th>topics_0</th><th>topics_1</th><th>topics_2</th><th>topics_3</th><th>topics_4</th><th>topics_5</th><th>topics_6</th><th>topics_7</th><th>topics_8</th><th>topics_9</th><th>topics_10</th><th>topics_11</th><th>topics_12</th><th>topics_13</th><th>topics_14</th><th>topics_15</th><th>topics_16</th><th>topics_17</th><th>topics_18</th><th>topics_19</th><th>topics_20</th><th>topics_21</th><th>topics_22</th><th>topics_23</th><th>topics_24</th><th>topics_25</th><th>topics_26</th><th>topics_27</th><th>topics_28</th><th>topics_29</th><th>&hellip;</th><th>subcategory_137</th><th>subcategory_138</th><th>subcategory_139</th><th>subcategory_140</th><th>subcategory_141</th><th>subcategory_142</th><th>subcategory_143</th><th>subcategory_144</th><th>subcategory_145</th><th>subcategory_146</th><th>subcategory_147</th><th>subcategory_148</th><th>subcategory_149</th><th>subcategory_150</th><th>subcategory_151</th><th>subcategory_152</th><th>subcategory_153</th><th>subcategory_154</th><th>subcategory_155</th><th>subcategory_156</th><th>subcategory_157</th><th>subcategory_158</th><th>subcategory_159</th><th>subcategory_160</th><th>subcategory_161</th><th>subcategory_162</th><th>subcategory_163</th><th>subcategory_164</th><th>subcategory_165</th><th>subcategory_166</th><th>subcategory_167</th><th>subcategory_168</th><th>subcategory_169</th><th>subcategory_170</th><th>subcategory_171</th><th>subcategory_172</th><th>subcategory_173</th></tr><tr><td>u32</td><td>list[i8]</td><td>list[i8]</td><td>list[f32]</td><td>list[i8]</td><td>list[f32]</td><td>list[i64]</td><td>list[i64]</td><td>list[i64]</td><td>list[i64]</td><td>list[i64]</td><td>list[i64]</td><td>list[i64]</td><td>list[i64]</td><td>list[i64]</td><td>list[i64]</td><td>list[i64]</td><td>list[i64]</td><td>list[i64]</td><td>list[i64]</td><td>list[i64]</td><td>list[i64]</td><td>list[i64]</td><td>list[i64]</td><td>list[i64]</td><td>list[i64]</td><td>list[i64]</td><td>list[i64]</td><td>list[i64]</td><td>list[i64]</td><td>list[i64]</td><td>list[i64]</td><td>list[i64]</td><td>list[i64]</td><td>list[i64]</td><td>list[i64]</td><td>list[i64]</td><td>&hellip;</td><td>list[i16]</td><td>list[i16]</td><td>list[i16]</td><td>list[i16]</td><td>list[i16]</td><td>list[i16]</td><td>list[i16]</td><td>list[i16]</td><td>list[i16]</td><td>list[i16]</td><td>list[i16]</td><td>list[i16]</td><td>list[i16]</td><td>list[i16]</td><td>list[i16]</td><td>list[i16]</td><td>list[i16]</td><td>list[i16]</td><td>list[i16]</td><td>list[i16]</td><td>list[i16]</td><td>list[i16]</td><td>list[i16]</td><td>list[i16]</td><td>list[i16]</td><td>list[i16]</td><td>list[i16]</td><td>list[i16]</td><td>list[i16]</td><td>list[i16]</td><td>list[i16]</td><td>list[i16]</td><td>list[i16]</td><td>list[i16]</td><td>list[i16]</td><td>list[i16]</td><td>list[i16]</td></tr></thead><tbody><tr><td>1711118</td><td>[4, 4, … 4]</td><td>[0, 0, … 0]</td><td>[0.0, 36.0, … 50.0]</td><td>[2, 2, … 1]</td><td>[11.0, 15.0, … 30.0]</td><td>[4, 4, … 4]</td><td>[0, 0, … 0]</td><td>[0, 0, … 0]</td><td>[0, 0, … 0]</td><td>[0, 0, … 0]</td><td>[0, 0, … 0]</td><td>[0, 0, … 0]</td><td>[0, 0, … 0]</td><td>[0, 0, … 0]</td><td>[0, 0, … 0]</td><td>[0, 0, … 0]</td><td>[0, 0, … 0]</td><td>[0, 0, … 0]</td><td>[0, 0, … 0]</td><td>[0, 0, … 0]</td><td>[0, 0, … 0]</td><td>[0, 0, … 0]</td><td>[0, 0, … 0]</td><td>[0, 0, … 0]</td><td>[0, 0, … 0]</td><td>[1, 1, … 1]</td><td>[0, 1, … 0]</td><td>[0, 0, … 0]</td><td>[0, 0, … 0]</td><td>[1, 0, … 1]</td><td>[0, 0, … 0]</td><td>[0, 0, … 0]</td><td>[0, 0, … 0]</td><td>[0, 0, … 0]</td><td>[0, 0, … 0]</td><td>[0, 0, … 0]</td><td>&hellip;</td><td>[0, 0, … 0]</td><td>[0, 0, … 0]</td><td>[0, 0, … 0]</td><td>[0, 0, … 0]</td><td>[0, 0, … 0]</td><td>[0, 0, … 0]</td><td>[0, 0, … 0]</td><td>[0, 0, … 0]</td><td>[0, 0, … 0]</td><td>[0, 0, … 0]</td><td>[0, 0, … 0]</td><td>[0, 0, … 0]</td><td>[0, 0, … 0]</td><td>[0, 0, … 0]</td><td>[0, 0, … 0]</td><td>[0, 0, … 0]</td><td>[0, 0, … 0]</td><td>[0, 0, … 0]</td><td>[0, 0, … 0]</td><td>[0, 0, … 0]</td><td>[0, 0, … 0]</td><td>[0, 0, … 0]</td><td>[0, 0, … 0]</td><td>[0, 0, … 0]</td><td>[0, 0, … 0]</td><td>[0, 0, … 0]</td><td>[0, 0, … 0]</td><td>[0, 0, … 0]</td><td>[0, 0, … 0]</td><td>[0, 0, … 0]</td><td>[0, 0, … 0]</td><td>[0, 0, … 0]</td><td>[0, 0, … 0]</td><td>[0, 0, … 0]</td><td>[0, 0, … 0]</td><td>[0, 0, … 0]</td><td>[0, 0, … 0]</td></tr></tbody></table></div>"
      ],
      "text/plain": [
       "shape: (1, 259)\n",
       "┌─────────┬────────────┬───────────┬───────────┬───┬───────────┬───────────┬───────────┬───────────┐\n",
       "│ user_id ┆ weekday    ┆ premium   ┆ scroll_pe ┆ … ┆ subcatego ┆ subcatego ┆ subcatego ┆ subcatego │\n",
       "│ ---     ┆ ---        ┆ ---       ┆ rcentage  ┆   ┆ ry_170    ┆ ry_171    ┆ ry_172    ┆ ry_173    │\n",
       "│ u32     ┆ list[i8]   ┆ list[i8]  ┆ ---       ┆   ┆ ---       ┆ ---       ┆ ---       ┆ ---       │\n",
       "│         ┆            ┆           ┆ list[f32] ┆   ┆ list[i16] ┆ list[i16] ┆ list[i16] ┆ list[i16] │\n",
       "╞═════════╪════════════╪═══════════╪═══════════╪═══╪═══════════╪═══════════╪═══════════╪═══════════╡\n",
       "│ 1711118 ┆ [4, 4, …   ┆ [0, 0, …  ┆ [0.0,     ┆ … ┆ [0, 0, …  ┆ [0, 0, …  ┆ [0, 0, …  ┆ [0, 0, …  │\n",
       "│         ┆ 4]         ┆ 0]        ┆ 36.0, …   ┆   ┆ 0]        ┆ 0]        ┆ 0]        ┆ 0]        │\n",
       "│         ┆            ┆           ┆ 50.0]     ┆   ┆           ┆           ┆           ┆           │\n",
       "└─────────┴────────────┴───────────┴───────────┴───┴───────────┴───────────┴───────────┴───────────┘"
      ]
     },
     "execution_count": 70,
     "metadata": {},
     "output_type": "execute_result"
    }
   ],
   "source": [
    "cols = df.columns\n",
    "topics_cols = sorted([col for col in cols if col.startswith('topics_')], key=lambda x: int(x.split('_')[-1]))\n",
    "subcategory_cols = sorted([col for col in cols if col.startswith('subcategory_')], key=lambda x: int(x.split('_')[-1]))\n",
    "all_others = set(cols) - set(topics_cols) - set(subcategory_cols) - {'user_id'}\n",
    "cols = ['user_id'] + list(all_others) + topics_cols + subcategory_cols\n",
    "df = df.select(cols)\n",
    "df.head(1)"
   ]
  },
  {
   "cell_type": "code",
   "execution_count": 116,
   "metadata": {},
   "outputs": [],
   "source": [
    "\n",
    "from tqdm import tqdm\n",
    "\n",
    "\n",
    "def build_sequences(df: pl.DataFrame, w: int, stride: int):\n",
    "    \n",
    "    all_features = df.drop('user_id').columns\n",
    "    singular_cols = ['topics', 'subcategory', 'category', 'weekday', 'hour_group']\n",
    "    name_idx_dict = {key: [i for i, col in enumerate(all_features) if col.startswith(key)] for key in singular_cols}\n",
    "    numerical_cols = ['scroll_percentage', 'read_time', 'premium']\n",
    "    name_idx_dict['numerical'] = [i for i, col in enumerate(all_features) if col in numerical_cols]\n",
    "        \n",
    "    res = {key: ([], []) for key in name_idx_dict.keys()}\n",
    "\n",
    "    for user_df in tqdm(df.partition_by('user_id')):\n",
    "        x = user_df.drop('user_id').to_numpy()[0]\n",
    "        x = np.array([np.array(x_i) for x_i in x])\n",
    "                \n",
    "        i = 0\n",
    "        if i + w >= x.shape[1]:\n",
    "            pad_width = w - x[:, :-1].shape[1]\n",
    "            pad_m = np.zeros((x.shape[0], pad_width))\n",
    "            padded_x = np.concatenate((pad_m, x[:, :-1]), axis=1)\n",
    "            y_i = x[:, -1]\n",
    "            \n",
    "            for key, idx in name_idx_dict.items():\n",
    "                res[key][0].append(padded_x[idx, :].T)\n",
    "                res[key][1].append(y_i[idx].T)\n",
    "            \n",
    "        else:\n",
    "            while i + w < x.shape[1]:\n",
    "                y_i = x[:, i+w]\n",
    "                x_i = x[:, i:i+w]\n",
    "                \n",
    "                for key, idx in name_idx_dict.items():\n",
    "                    res[key][0].append(x_i[idx, :].T)\n",
    "                    res[key][1].append(y_i[idx].T)\n",
    "                \n",
    "                i+=stride\n",
    "            #TODO: add padding for the last sequence, if we want to keep it\n",
    "\n",
    "    for key in res.keys():\n",
    "        res[key] = (np.array(res[key][0]), np.array(res[key][1]))\n",
    "    \n",
    "    return res"
   ]
  },
  {
   "cell_type": "code",
   "execution_count": 120,
   "metadata": {},
   "outputs": [
    {
     "name": "stderr",
     "output_type": "stream",
     "text": [
      "  0%|          | 0/10 [00:00<?, ?it/s]"
     ]
    },
    {
     "name": "stderr",
     "output_type": "stream",
     "text": [
      "100%|██████████| 10/10 [00:00<00:00, 54.12it/s]\n"
     ]
    }
   ],
   "source": [
    "res = build_sequences(df[:10], w=10, stride=5)"
   ]
  },
  {
   "cell_type": "code",
   "execution_count": null,
   "metadata": {},
   "outputs": [],
   "source": []
  }
 ],
 "metadata": {
  "kernelspec": {
   "display_name": "recsys",
   "language": "python",
   "name": "python3"
  },
  "language_info": {
   "codemirror_mode": {
    "name": "ipython",
    "version": 3
   },
   "file_extension": ".py",
   "mimetype": "text/x-python",
   "name": "python",
   "nbconvert_exporter": "python",
   "pygments_lexer": "ipython3",
   "version": "3.11.0"
  }
 },
 "nbformat": 4,
 "nbformat_minor": 2
}
