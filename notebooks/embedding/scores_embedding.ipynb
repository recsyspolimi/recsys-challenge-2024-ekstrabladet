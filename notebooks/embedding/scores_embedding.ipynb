{
 "cells": [
  {
   "cell_type": "code",
   "execution_count": 2,
   "metadata": {},
   "outputs": [],
   "source": [
    "import numpy as np\n",
    "import polars as pl\n",
    "from tqdm import tqdm\n",
    "from polimi.utils._polars import reduce_polars_df_memory_size"
   ]
  },
  {
   "cell_type": "code",
   "execution_count": 3,
   "metadata": {},
   "outputs": [],
   "source": [
    "from pathlib import Path\n",
    "\n",
    "\n",
    "dpath = Path('../../dataset')\n",
    "emb_dir = dpath / 'embeddings'\n",
    "dtype = 'small'\n",
    "articles = pl.read_parquet(f'{dpath}/ebnerd_{dtype}/articles.parquet')\n",
    "\n",
    "behaviors_train = pl.read_parquet(f'{dpath}/ebnerd_{dtype}/train/behaviors.parquet')\n",
    "history_train = pl.read_parquet(f'{dpath}/ebnerd_{dtype}/train/history.parquet')"
   ]
  },
  {
   "cell_type": "markdown",
   "metadata": {},
   "source": [
    "# Test"
   ]
  },
  {
   "cell_type": "code",
   "execution_count": 125,
   "metadata": {},
   "outputs": [
    {
     "data": {
      "text/html": [
       "<div><style>\n",
       ".dataframe > thead > tr,\n",
       ".dataframe > tbody > tr {\n",
       "  text-align: right;\n",
       "  white-space: pre-wrap;\n",
       "}\n",
       "</style>\n",
       "<small>shape: (2, 3)</small><table border=\"1\" class=\"dataframe\"><thead><tr><th>index</th><th>article_id</th><th>embedding</th></tr><tr><td>u32</td><td>i32</td><td>list[f32]</td></tr></thead><tbody><tr><td>0</td><td>3000022</td><td>[-0.033208, -0.013787, … -0.036042]</td></tr><tr><td>1</td><td>3000063</td><td>[-0.047797, -0.025657, … 0.018883]</td></tr></tbody></table></div>"
      ],
      "text/plain": [
       "shape: (2, 3)\n",
       "┌───────┬────────────┬─────────────────────────────────┐\n",
       "│ index ┆ article_id ┆ embedding                       │\n",
       "│ ---   ┆ ---        ┆ ---                             │\n",
       "│ u32   ┆ i32        ┆ list[f32]                       │\n",
       "╞═══════╪════════════╪═════════════════════════════════╡\n",
       "│ 0     ┆ 3000022    ┆ [-0.033208, -0.013787, … -0.03… │\n",
       "│ 1     ┆ 3000063    ┆ [-0.047797, -0.025657, … 0.018… │\n",
       "└───────┴────────────┴─────────────────────────────────┘"
      ]
     },
     "execution_count": 125,
     "metadata": {},
     "output_type": "execute_result"
    }
   ],
   "source": [
    "embeddings = pl.read_parquet(emb_dir / 'Ekstra_Bladet_image_embeddings' / 'image_embeddings.parquet').sort('article_id')\n",
    "embeddings.columns = ['article_id', 'embedding']\n",
    "emb_size = len(embeddings['embedding'][0])\n",
    "missing_articles_in_embedding = list(set(articles['article_id'].to_numpy()) - set(embeddings['article_id'].to_numpy()))\n",
    "null_vector = np.zeros(emb_size, dtype=np.float32)\n",
    "embeddings = embeddings.vstack(pl.DataFrame({'article_id': missing_articles_in_embedding, 'embedding': [null_vector] * len(missing_articles_in_embedding)}))\n",
    "embeddings = embeddings.with_row_index()\n",
    "embeddings.head(2)"
   ]
  },
  {
   "cell_type": "code",
   "execution_count": 126,
   "metadata": {},
   "outputs": [
    {
     "data": {
      "text/plain": [
       "True"
      ]
     },
     "execution_count": 126,
     "metadata": {},
     "output_type": "execute_result"
    }
   ],
   "source": [
    "all_zero_embeddings = embeddings.with_columns(pl.col('embedding').list.eval(pl.element() == 0.0).list.all().alias('check'))\n",
    "are_all_zero_embeddings_present = len(all_zero_embeddings.filter(pl.col('check') == True)) > 0\n",
    "are_all_zero_embeddings_present"
   ]
  },
  {
   "cell_type": "code",
   "execution_count": 128,
   "metadata": {},
   "outputs": [
    {
     "data": {
      "text/plain": [
       "(106346, 1024)"
      ]
     },
     "execution_count": 128,
     "metadata": {},
     "output_type": "execute_result"
    }
   ],
   "source": [
    "m_non_norm = np.array([np.array(x) for x in embeddings['embedding'].to_numpy()])\n",
    "row_norms = np.linalg.norm(m_non_norm, axis=1, keepdims=True)\n",
    "m = m_non_norm / (row_norms + 1e-6)\n",
    "m.shape"
   ]
  },
  {
   "cell_type": "code",
   "execution_count": 4,
   "metadata": {},
   "outputs": [
    {
     "ename": "NameError",
     "evalue": "name 'embeddings' is not defined",
     "output_type": "error",
     "traceback": [
      "\u001b[0;31m---------------------------------------------------------------------------\u001b[0m",
      "\u001b[0;31mNameError\u001b[0m                                 Traceback (most recent call last)",
      "Cell \u001b[0;32mIn[4], line 1\u001b[0m\n\u001b[0;32m----> 1\u001b[0m article_emb_mapping \u001b[38;5;241m=\u001b[39m \u001b[43membeddings\u001b[49m\u001b[38;5;241m.\u001b[39mselect(\u001b[38;5;124m'\u001b[39m\u001b[38;5;124mindex\u001b[39m\u001b[38;5;124m'\u001b[39m, \u001b[38;5;124m'\u001b[39m\u001b[38;5;124marticle_id\u001b[39m\u001b[38;5;124m'\u001b[39m)\n\u001b[1;32m      2\u001b[0m article_emb_mapping\u001b[38;5;241m.\u001b[39mhead(\u001b[38;5;241m1\u001b[39m)\n",
      "\u001b[0;31mNameError\u001b[0m: name 'embeddings' is not defined"
     ]
    }
   ],
   "source": [
    "article_emb_mapping = embeddings.select('index', 'article_id')\n",
    "article_emb_mapping.head(1)"
   ]
  },
  {
   "cell_type": "code",
   "execution_count": 5,
   "metadata": {},
   "outputs": [
    {
     "ename": "NameError",
     "evalue": "name 'article_emb_mapping' is not defined",
     "output_type": "error",
     "traceback": [
      "\u001b[0;31m---------------------------------------------------------------------------\u001b[0m",
      "\u001b[0;31mNameError\u001b[0m                                 Traceback (most recent call last)",
      "Cell \u001b[0;32mIn[5], line 1\u001b[0m\n\u001b[0;32m----> 1\u001b[0m history_m \u001b[38;5;241m=\u001b[39m history_train\u001b[38;5;241m.\u001b[39mselect(\u001b[38;5;124m'\u001b[39m\u001b[38;5;124muser_id\u001b[39m\u001b[38;5;124m'\u001b[39m, pl\u001b[38;5;241m.\u001b[39mcol(\u001b[38;5;124m'\u001b[39m\u001b[38;5;124marticle_id_fixed\u001b[39m\u001b[38;5;124m'\u001b[39m)\u001b[38;5;241m.\u001b[39mlist\u001b[38;5;241m.\u001b[39meval(pl\u001b[38;5;241m.\u001b[39melement()\u001b[38;5;241m.\u001b[39mreplace(\u001b[43marticle_emb_mapping\u001b[49m[\u001b[38;5;124m'\u001b[39m\u001b[38;5;124marticle_id\u001b[39m\u001b[38;5;124m'\u001b[39m], article_emb_mapping[\u001b[38;5;124m'\u001b[39m\u001b[38;5;124mindex\u001b[39m\u001b[38;5;124m'\u001b[39m], default\u001b[38;5;241m=\u001b[39m\u001b[38;5;28;01mNone\u001b[39;00m)\u001b[38;5;241m.\u001b[39mdrop_nulls()))\u001b[38;5;241m.\u001b[39mwith_row_index(\u001b[38;5;124m'\u001b[39m\u001b[38;5;124muser_index\u001b[39m\u001b[38;5;124m'\u001b[39m)\n\u001b[1;32m      2\u001b[0m user_history_map \u001b[38;5;241m=\u001b[39m history_m\u001b[38;5;241m.\u001b[39mselect(\u001b[38;5;124m'\u001b[39m\u001b[38;5;124muser_id\u001b[39m\u001b[38;5;124m'\u001b[39m, \u001b[38;5;124m'\u001b[39m\u001b[38;5;124muser_index\u001b[39m\u001b[38;5;124m'\u001b[39m)\n\u001b[1;32m      3\u001b[0m history_m \u001b[38;5;241m=\u001b[39m history_m[\u001b[38;5;124m'\u001b[39m\u001b[38;5;124marticle_id_fixed\u001b[39m\u001b[38;5;124m'\u001b[39m]\u001b[38;5;241m.\u001b[39mto_numpy()\n",
      "\u001b[0;31mNameError\u001b[0m: name 'article_emb_mapping' is not defined"
     ]
    }
   ],
   "source": [
    "history_m = history_train.select('user_id', pl.col('article_id_fixed').list.eval(pl.element().replace(article_emb_mapping['article_id'], article_emb_mapping['index'], default=None).drop_nulls())).with_row_index('user_index')\n",
    "user_history_map = history_m.select('user_id', 'user_index')\n",
    "history_m = history_m['article_id_fixed'].to_numpy()\n",
    "history_m.shape"
   ]
  },
  {
   "cell_type": "code",
   "execution_count": 131,
   "metadata": {},
   "outputs": [
    {
     "name": "stdout",
     "output_type": "stream",
     "text": [
      "Memory usage of dataframe is 25.95 MB\n",
      "Memory usage after optimization is: 25.95 MB\n",
      "Decreased by 0.0%\n"
     ]
    },
    {
     "data": {
      "text/html": [
       "<div><style>\n",
       ".dataframe > thead > tr,\n",
       ".dataframe > tbody > tr {\n",
       "  text-align: right;\n",
       "  white-space: pre-wrap;\n",
       "}\n",
       "</style>\n",
       "<small>shape: (2, 5)</small><table border=\"1\" class=\"dataframe\"><thead><tr><th>impression_id</th><th>user_id</th><th>article</th><th>user_index</th><th>article_index</th></tr><tr><td>u32</td><td>u32</td><td>list[i32]</td><td>u32</td><td>list[u32]</td></tr></thead><tbody><tr><td>149474</td><td>139836</td><td>[9778623, 9778682, … 9778728]</td><td>11894</td><td>[100868, 100874, … 100879]</td></tr><tr><td>150528</td><td>143471</td><td>[9778718, 9778728, … 9778682]</td><td>7016</td><td>[105241, 100879, … 100874]</td></tr></tbody></table></div>"
      ],
      "text/plain": [
       "shape: (2, 5)\n",
       "┌───────────────┬─────────┬──────────────────────┬────────────┬────────────────────────────┐\n",
       "│ impression_id ┆ user_id ┆ article              ┆ user_index ┆ article_index              │\n",
       "│ ---           ┆ ---     ┆ ---                  ┆ ---        ┆ ---                        │\n",
       "│ u32           ┆ u32     ┆ list[i32]            ┆ u32        ┆ list[u32]                  │\n",
       "╞═══════════════╪═════════╪══════════════════════╪════════════╪════════════════════════════╡\n",
       "│ 149474        ┆ 139836  ┆ [9778623, 9778682, … ┆ 11894      ┆ [100868, 100874, … 100879] │\n",
       "│               ┆         ┆ 9778728]             ┆            ┆                            │\n",
       "│ 150528        ┆ 143471  ┆ [9778718, 9778728, … ┆ 7016       ┆ [105241, 100879, … 100874] │\n",
       "│               ┆         ┆ 9778682]             ┆            ┆                            │\n",
       "└───────────────┴─────────┴──────────────────────┴────────────┴────────────────────────────┘"
      ]
     },
     "execution_count": 131,
     "metadata": {},
     "output_type": "execute_result"
    }
   ],
   "source": [
    "df = behaviors_train.select('impression_id', 'user_id', pl.col('article_ids_inview').alias('article'))\\\n",
    "    .join(user_history_map, on='user_id')\\\n",
    "    .with_columns(\n",
    "        pl.col('article').list.eval(pl.element().replace(article_emb_mapping['article_id'], article_emb_mapping['index'], default=None)).name.suffix('_index'),\n",
    "    ).drop('impression_time_fixed', 'scroll_percentage_fixed', 'read_time_fixed')\n",
    "\n",
    "df = reduce_polars_df_memory_size(df)\n",
    "df.head(2)"
   ]
  },
  {
   "cell_type": "code",
   "execution_count": 132,
   "metadata": {},
   "outputs": [
    {
     "name": "stderr",
     "output_type": "stream",
     "text": []
    },
    {
     "name": "stderr",
     "output_type": "stream",
     "text": [
      "  3%|▎         | 466/15143 [00:02<01:16, 191.65it/s]\n"
     ]
    },
    {
     "data": {
      "text/html": [
       "<div><style>\n",
       ".dataframe > thead > tr,\n",
       ".dataframe > tbody > tr {\n",
       "  text-align: right;\n",
       "  white-space: pre-wrap;\n",
       "}\n",
       "</style>\n",
       "<small>shape: (1_000, 5)</small><table border=\"1\" class=\"dataframe\"><thead><tr><th>impression_id</th><th>user_id</th><th>user_index</th><th>article</th><th>scores</th></tr><tr><td>u32</td><td>u32</td><td>u32</td><td>list[i32]</td><td>list[list[f32]]</td></tr></thead><tbody><tr><td>149474</td><td>139836</td><td>11894</td><td>[9778623, 9778682, … 9778728]</td><td>[[0.546279, 0.456443, … 0.068054], [0.108021, -0.134935, … 0.308029], … [0.789861, 0.399746, … -0.11546]]</td></tr><tr><td>150528</td><td>143471</td><td>7016</td><td>[9778718, 9778728, … 9778682]</td><td>[[0.0, 0.0, … 0.0], [0.766936, 0.0, … 0.0], … [0.028365, 0.0, … 0.0]]</td></tr><tr><td>153075</td><td>151570</td><td>7074</td><td>[9778500, 9776420, … 9020783]</td><td>[[0.290248, 0.0, … -0.126946], [-0.170831, 0.0, … 0.305366], … [0.552781, 0.0, … 0.519307]]</td></tr><tr><td>153071</td><td>151570</td><td>7074</td><td>[9777492, 9774568, … 9775990]</td><td>[[-0.130659, 0.0, … -0.122535], [0.438304, 0.0, … 0.340977], … [0.6444, 0.0, … 0.253928]]</td></tr><tr><td>153068</td><td>151570</td><td>7074</td><td>[9778657, 9778669, … 9778682]</td><td>[[0.0, 0.0, … 0.0], [0.2538, 0.0, … 0.184754], … [0.087496, 0.0, … 0.545875]]</td></tr><tr><td>&hellip;</td><td>&hellip;</td><td>&hellip;</td><td>&hellip;</td><td>&hellip;</td></tr><tr><td>2433248</td><td>1606050</td><td>14460</td><td>[9552181, 9779263, … 9547869]</td><td>[[0.0, 0.0, … 0.0], [0.37884, 0.271457, … -0.0275], … [0.62122, 0.070636, … 0.213934]]</td></tr><tr><td>2433256</td><td>1606050</td><td>14460</td><td>[9483850, 9779648, … 9779777]</td><td>[[0.337382, -0.065383, … 0.307274], [0.0, 0.0, … 0.0], … [0.0, 0.0, … 0.0]]</td></tr><tr><td>2435848</td><td>1692081</td><td>10750</td><td>[9779263, 9779205, … 9779577]</td><td>[[-0.135781, 0.201273, … 0.452139], [0.197592, 0.566438, … 0.604189], … [0.629099, 0.220339, … 0.12199]]</td></tr><tr><td>2435885</td><td>1695195</td><td>10254</td><td>[9658252, 9569934, … 9775885]</td><td>[[0.59537, 0.322892, … 0.576517], [-0.082606, -0.137399, … -0.313506], … [0.004153, 0.27604, … 0.32076]]</td></tr><tr><td>2436801</td><td>1729576</td><td>3516</td><td>[9780181, 9780193, … 9780195]</td><td>[[0.803103, -0.186405, … 0.44114], [0.0, 0.0, … 0.0], … [0.152103, 0.311306, … 0.014977]]</td></tr></tbody></table></div>"
      ],
      "text/plain": [
       "shape: (1_000, 5)\n",
       "┌───────────────┬─────────┬────────────┬──────────────────────┬─────────────────────────────────┐\n",
       "│ impression_id ┆ user_id ┆ user_index ┆ article              ┆ scores                          │\n",
       "│ ---           ┆ ---     ┆ ---        ┆ ---                  ┆ ---                             │\n",
       "│ u32           ┆ u32     ┆ u32        ┆ list[i32]            ┆ list[list[f32]]                 │\n",
       "╞═══════════════╪═════════╪════════════╪══════════════════════╪═════════════════════════════════╡\n",
       "│ 149474        ┆ 139836  ┆ 11894      ┆ [9778623, 9778682, … ┆ [[0.546279, 0.456443, … 0.0680… │\n",
       "│               ┆         ┆            ┆ 9778728]             ┆                                 │\n",
       "│ 150528        ┆ 143471  ┆ 7016       ┆ [9778718, 9778728, … ┆ [[0.0, 0.0, … 0.0], [0.766936,… │\n",
       "│               ┆         ┆            ┆ 9778682]             ┆                                 │\n",
       "│ 153075        ┆ 151570  ┆ 7074       ┆ [9778500, 9776420, … ┆ [[0.290248, 0.0, … -0.126946],… │\n",
       "│               ┆         ┆            ┆ 9020783]             ┆                                 │\n",
       "│ 153071        ┆ 151570  ┆ 7074       ┆ [9777492, 9774568, … ┆ [[-0.130659, 0.0, … -0.122535]… │\n",
       "│               ┆         ┆            ┆ 9775990]             ┆                                 │\n",
       "│ 153068        ┆ 151570  ┆ 7074       ┆ [9778657, 9778669, … ┆ [[0.0, 0.0, … 0.0], [0.2538, 0… │\n",
       "│               ┆         ┆            ┆ 9778682]             ┆                                 │\n",
       "│ …             ┆ …       ┆ …          ┆ …                    ┆ …                               │\n",
       "│ 2433248       ┆ 1606050 ┆ 14460      ┆ [9552181, 9779263, … ┆ [[0.0, 0.0, … 0.0], [0.37884, … │\n",
       "│               ┆         ┆            ┆ 9547869]             ┆                                 │\n",
       "│ 2433256       ┆ 1606050 ┆ 14460      ┆ [9483850, 9779648, … ┆ [[0.337382, -0.065383, … 0.307… │\n",
       "│               ┆         ┆            ┆ 9779777]             ┆                                 │\n",
       "│ 2435848       ┆ 1692081 ┆ 10750      ┆ [9779263, 9779205, … ┆ [[-0.135781, 0.201273, … 0.452… │\n",
       "│               ┆         ┆            ┆ 9779577]             ┆                                 │\n",
       "│ 2435885       ┆ 1695195 ┆ 10254      ┆ [9658252, 9569934, … ┆ [[0.59537, 0.322892, … 0.57651… │\n",
       "│               ┆         ┆            ┆ 9775885]             ┆                                 │\n",
       "│ 2436801       ┆ 1729576 ┆ 3516       ┆ [9780181, 9780193, … ┆ [[0.803103, -0.186405, … 0.441… │\n",
       "│               ┆         ┆            ┆ 9780195]             ┆                                 │\n",
       "└───────────────┴─────────┴────────────┴──────────────────────┴─────────────────────────────────┘"
      ]
     },
     "execution_count": 132,
     "metadata": {},
     "output_type": "execute_result"
    }
   ],
   "source": [
    "scores_df = pl.concat([\n",
    "    slice.explode(['article_index', 'article']).with_columns(scores = np.dot(\n",
    "        m[slice['article_index'].explode().to_numpy()], \n",
    "        m[history_m[key[0]]].T))\\\n",
    "    .group_by(['impression_id', 'user_id', 'user_index'])\\\n",
    "    .agg(pl.all())\n",
    "    for key, slice in tqdm(df[:1000].partition_by(by=['user_index'], as_dict=True).items(), total=df['user_index'].n_unique())\n",
    "]).drop('article_index')\n",
    "scores_df"
   ]
  },
  {
   "cell_type": "code",
   "execution_count": null,
   "metadata": {},
   "outputs": [],
   "source": [
    "scores_df = scores_df.with_columns(\n",
    "    pl.col('scores').list.eval(pl.element().list.mean()).name.suffix('_mean'),\n",
    "    pl.col('scores').list.eval(pl.element().list.max()).name.suffix('_max'),\n",
    "    pl.col('scores').list.eval(pl.element().list.max()).name.suffix('_min'),\n",
    "    pl.col('scores').list.eval(pl.element().list.std()).name.suffix('_std'),\n",
    ")\n",
    "scores_df.head(2)"
   ]
  },
  {
   "cell_type": "code",
   "execution_count": null,
   "metadata": {},
   "outputs": [],
   "source": [
    "explode_cols = ['article'] + [col for col in scores_df.columns if col.startswith('scores_')]\n",
    "res = scores_df.drop('user_index', 'scores')\\\n",
    "    .explode(explode_cols)\n",
    "res.head(2)"
   ]
  },
  {
   "cell_type": "markdown",
   "metadata": {},
   "source": [
    "# Multiple embeddings"
   ]
  },
  {
   "cell_type": "code",
   "execution_count": 6,
   "metadata": {},
   "outputs": [],
   "source": [
    "emb_name_list = {'Ekstra_Bladet_contrastive_vector': 'contrastive_vector',\n",
    "                 'FacebookAI_xlm_roberta_base': 'xlm_roberta_base',\n",
    "                 'Ekstra_Bladet_image_embeddings': 'image_embeddings',\n",
    "                 'google_bert_base_multilingual_cased': 'bert_base_multilingual_cased'}"
   ]
  },
  {
   "cell_type": "code",
   "execution_count": 14,
   "metadata": {},
   "outputs": [],
   "source": [
    "def build_emb_scores(df: pl.DataFrame, history_m: np.ndarray, m_dict:dict[str, np.ndarray]):\n",
    "    df = reduce_polars_df_memory_size(df)\n",
    "    print(f'Starting to build embeddings scores for {m_dict.keys()}...')\n",
    "    df = pl.concat([\n",
    "        slice.explode(['article_index', 'article']).with_columns(\n",
    "            *[pl.lit(np.dot(m[slice['article_index'].explode().to_numpy()], m[history_m[key[0]]].T)).alias(f'{emb_name}_scores') for emb_name, m in m_dict.items()]\n",
    "        )\\\n",
    "        .group_by(['impression_id', 'user_id', 'user_index'])\\\n",
    "        .agg(pl.all())\n",
    "        for key, slice in tqdm(df.partition_by(by=['user_index'], as_dict=True).items(), total=df['user_index'].n_unique()) # keep only 1000 for testing\n",
    "    ]).drop('article_index', 'user_index')\n",
    "    return df\n",
    "\n",
    "def build_agg_scores(df: pl.DataFrame, history: pl.DataFrame, emb_names: list[str]):\n",
    "    df = reduce_polars_df_memory_size(df)\n",
    "    print(f'Starting to build aggregated scores for {emb_names}...')\n",
    "    df = df.with_columns(\n",
    "        *[pl.col(f'{emb_name}_scores').list.eval(pl.element().list.mean()).name.suffix('_mean') for emb_name in emb_names],\n",
    "        *[pl.col(f'{emb_name}_scores').list.eval(pl.element().list.max()).name.suffix('_max') for emb_name in emb_names],\n",
    "        *[pl.col(f'{emb_name}_scores').list.eval(pl.element().list.min()).name.suffix('_min') for emb_name in emb_names],\n",
    "        *[pl.col(f'{emb_name}_scores').list.eval(pl.element().list.std()).name.suffix('_std') for emb_name in emb_names],\n",
    "        *[pl.col(f'{emb_name}_scores').list.eval(pl.element().list.median()).name.suffix('_median') for emb_name in emb_names],\n",
    "    )\n",
    "    return df\n"
   ]
  },
  {
   "cell_type": "code",
   "execution_count": 15,
   "metadata": {},
   "outputs": [
    {
     "name": "stdout",
     "output_type": "stream",
     "text": [
      "Processing contrastive_vector embedding matrix...\n",
      "Processing xlm_roberta_base embedding matrix...\n",
      "Processing image_embeddings embedding matrix...\n",
      "[Warning... 3743 missing articles in embedding matrix]\n",
      "Processing bert_base_multilingual_cased embedding matrix...\n"
     ]
    }
   ],
   "source": [
    "norm_m_dict = {}\n",
    "article_emb_mapping = articles.select('article_id').unique().with_row_index()\n",
    "for dir, file_name in emb_name_list.items():\n",
    "    print(f'Processing {file_name} embedding matrix...')\n",
    "    emb_df = pl.read_parquet(emb_dir / dir / f'{file_name}.parquet')\n",
    "    emb_df.columns = ['article_id', 'embedding']\n",
    "    \n",
    "    emb_size = len(emb_df['embedding'][0])\n",
    "    missing_articles_in_embedding = list(set(articles['article_id'].to_numpy()) - set(emb_df['article_id'].to_numpy()))\n",
    "    if len(missing_articles_in_embedding) > 0:\n",
    "        print(f'[Warning... {len(missing_articles_in_embedding)} missing articles in embedding matrix]')\n",
    "        null_vector = np.zeros(emb_size, dtype=np.float32)\n",
    "        emb_df = emb_df.vstack(pl.DataFrame({'article_id': missing_articles_in_embedding, 'embedding': [null_vector] * len(missing_articles_in_embedding)}))\n",
    "        \n",
    "    emb_df = article_emb_mapping.join(emb_df, on='article_id', how='left')\n",
    "    m = np.array([np.array(row) for row in emb_df['embedding'].to_numpy()])\n",
    "    row_norms = np.linalg.norm(m, axis=1, keepdims=True)\n",
    "    m = m / (row_norms + 1e-6)\n",
    "    norm_m_dict[file_name] = m"
   ]
  },
  {
   "cell_type": "code",
   "execution_count": 16,
   "metadata": {},
   "outputs": [
    {
     "name": "stdout",
     "output_type": "stream",
     "text": [
      "Memory usage of dataframe is 25.95 MB\n",
      "Memory usage after optimization is: 21.01 MB\n",
      "Decreased by 19.0%\n",
      "Starting to build embeddings scores for dict_keys(['contrastive_vector', 'xlm_roberta_base', 'image_embeddings', 'bert_base_multilingual_cased'])...\n"
     ]
    },
    {
     "name": "stderr",
     "output_type": "stream",
     "text": [
      "100%|██████████| 15143/15143 [03:24<00:00, 74.05it/s] \n"
     ]
    },
    {
     "data": {
      "text/html": [
       "<div><style>\n",
       ".dataframe > thead > tr,\n",
       ".dataframe > tbody > tr {\n",
       "  text-align: right;\n",
       "  white-space: pre-wrap;\n",
       "}\n",
       "</style>\n",
       "<small>shape: (5, 7)</small><table border=\"1\" class=\"dataframe\"><thead><tr><th>impression_id</th><th>user_id</th><th>article</th><th>contrastive_vector_scores</th><th>xlm_roberta_base_scores</th><th>image_embeddings_scores</th><th>bert_base_multilingual_cased_scores</th></tr><tr><td>u32</td><td>u32</td><td>list[i32]</td><td>list[list[f32]]</td><td>list[list[f32]]</td><td>list[list[f32]]</td><td>list[list[f32]]</td></tr></thead><tbody><tr><td>149474</td><td>139836</td><td>[9778623, 9778682, … 9778728]</td><td>[[0.280006, 0.019717, … 0.310368], [0.19372, 0.089885, … 0.331878], … [0.195114, 0.004229, … 0.188044]]</td><td>[[0.999206, 0.999163, … 0.999462], [0.998954, 0.999033, … 0.999613], … [0.999181, 0.999166, … 0.999317]]</td><td>[[0.546279, 0.456443, … 0.068054], [0.108021, -0.134935, … 0.308029], … [0.789861, 0.399746, … -0.11546]]</td><td>[[0.988827, 0.984724, … 0.954573], [0.982375, 0.988657, … 0.95557], … [0.976225, 0.973736, … 0.937987]]</td></tr><tr><td>344665043</td><td>139836</td><td>[9773700, 9773644, … 9773727]</td><td>[[0.00788, -0.050313, … 0.187935], [-0.038524, -0.008582, … 0.059008], … [0.123018, 0.079869, … 0.159032]]</td><td>[[0.997335, 0.996725, … 0.995732], [0.997351, 0.997109, … 0.996358], … [0.998496, 0.998695, … 0.99917]]</td><td>[[0.0, 0.0, … 0.0], [0.343694, 0.351041, … 0.314163], … [0.219095, 0.255553, … 0.599089]]</td><td>[[0.936781, 0.935228, … 0.942454], [0.946271, 0.951898, … 0.948559], … [0.977936, 0.977717, … 0.946093]]</td></tr><tr><td>285235071</td><td>139836</td><td>[9770997, 9769306, … 9771042]</td><td>[[0.165057, 0.204798, … 0.208821], [0.544786, 0.21536, … 0.183794], … [0.152006, 0.137472, … 0.108568]]</td><td>[[0.999059, 0.999281, … 0.999239], [0.99926, 0.999255, … 0.999421], … [0.998882, 0.999164, … 0.999225]]</td><td>[[0.0, 0.0, … 0.0], [0.445831, 0.354551, … 0.458699], … [-0.299292, 0.2319, … 0.082202]]</td><td>[[0.899222, 0.901025, … 0.913627], [0.988371, 0.988426, … 0.954942], … [0.942678, 0.949056, … 0.957068]]</td></tr><tr><td>285235075</td><td>139836</td><td>[9695098, 9769306, … 9771042]</td><td>[[0.170219, 0.235351, … 0.025821], [0.544786, 0.21536, … 0.183794], … [0.152006, 0.137472, … 0.108568]]</td><td>[[0.999037, 0.999121, … 0.998786], [0.99926, 0.999255, … 0.999421], … [0.998882, 0.999164, … 0.999225]]</td><td>[[0.0, 0.0, … 0.0], [0.445831, 0.354551, … 0.458699], … [-0.299292, 0.2319, … 0.082202]]</td><td>[[0.987271, 0.987736, … 0.953529], [0.988371, 0.988426, … 0.954942], … [0.942678, 0.949056, … 0.957068]]</td></tr><tr><td>344665040</td><td>139836</td><td>[9531745, 9773493, … 9773341]</td><td>[[0.289196, 0.212383, … 0.174665], [0.149765, -0.019319, … 0.155517], … [0.216174, 0.593863, … 0.064604]]</td><td>[[0.998885, 0.99902, … 0.999357], [0.99846, 0.998762, … 0.999127], … [0.999023, 0.999339, … 0.999147]]</td><td>[[0.20742, 0.381484, … 0.314527], [0.196254, 0.25199, … 0.365795], … [-0.042151, 0.007024, … 0.312564]]</td><td>[[0.983417, 0.9841, … 0.951619], [0.9758, 0.975772, … 0.946478], … [0.981525, 0.980215, … 0.941779]]</td></tr></tbody></table></div>"
      ],
      "text/plain": [
       "shape: (5, 7)\n",
       "┌──────────────┬─────────┬──────────────┬──────────────┬──────────────┬──────────────┬─────────────┐\n",
       "│ impression_i ┆ user_id ┆ article      ┆ contrastive_ ┆ xlm_roberta_ ┆ image_embedd ┆ bert_base_m │\n",
       "│ d            ┆ ---     ┆ ---          ┆ vector_score ┆ base_scores  ┆ ings_scores  ┆ ultilingual │\n",
       "│ ---          ┆ u32     ┆ list[i32]    ┆ s            ┆ ---          ┆ ---          ┆ _cased_s…   │\n",
       "│ u32          ┆         ┆              ┆ ---          ┆ list[list[f3 ┆ list[list[f3 ┆ ---         │\n",
       "│              ┆         ┆              ┆ list[list[f3 ┆ 2]]          ┆ 2]]          ┆ list[list[f │\n",
       "│              ┆         ┆              ┆ 2]]          ┆              ┆              ┆ 32]]        │\n",
       "╞══════════════╪═════════╪══════════════╪══════════════╪══════════════╪══════════════╪═════════════╡\n",
       "│ 149474       ┆ 139836  ┆ [9778623,    ┆ [[0.280006,  ┆ [[0.999206,  ┆ [[0.546279,  ┆ [[0.988827, │\n",
       "│              ┆         ┆ 9778682, …   ┆ 0.019717, …  ┆ 0.999163, …  ┆ 0.456443, …  ┆ 0.984724, … │\n",
       "│              ┆         ┆ 9778728]     ┆ 0.3103…      ┆ 0.9994…      ┆ 0.0680…      ┆ 0.9545…     │\n",
       "│ 344665043    ┆ 139836  ┆ [9773700,    ┆ [[0.00788,   ┆ [[0.997335,  ┆ [[0.0, 0.0,  ┆ [[0.936781, │\n",
       "│              ┆         ┆ 9773644, …   ┆ -0.050313, … ┆ 0.996725, …  ┆ … 0.0],      ┆ 0.935228, … │\n",
       "│              ┆         ┆ 9773727]     ┆ 0.1879…      ┆ 0.9957…      ┆ [0.343694,…  ┆ 0.9424…     │\n",
       "│ 285235071    ┆ 139836  ┆ [9770997,    ┆ [[0.165057,  ┆ [[0.999059,  ┆ [[0.0, 0.0,  ┆ [[0.899222, │\n",
       "│              ┆         ┆ 9769306, …   ┆ 0.204798, …  ┆ 0.999281, …  ┆ … 0.0],      ┆ 0.901025, … │\n",
       "│              ┆         ┆ 9771042]     ┆ 0.2088…      ┆ 0.9992…      ┆ [0.445831,…  ┆ 0.9136…     │\n",
       "│ 285235075    ┆ 139836  ┆ [9695098,    ┆ [[0.170219,  ┆ [[0.999037,  ┆ [[0.0, 0.0,  ┆ [[0.987271, │\n",
       "│              ┆         ┆ 9769306, …   ┆ 0.235351, …  ┆ 0.999121, …  ┆ … 0.0],      ┆ 0.987736, … │\n",
       "│              ┆         ┆ 9771042]     ┆ 0.0258…      ┆ 0.9987…      ┆ [0.445831,…  ┆ 0.9535…     │\n",
       "│ 344665040    ┆ 139836  ┆ [9531745,    ┆ [[0.289196,  ┆ [[0.998885,  ┆ [[0.20742,   ┆ [[0.983417, │\n",
       "│              ┆         ┆ 9773493, …   ┆ 0.212383, …  ┆ 0.99902, …   ┆ 0.381484, …  ┆ 0.9841, …   │\n",
       "│              ┆         ┆ 9773341]     ┆ 0.1746…      ┆ 0.99935…     ┆ 0.31452…     ┆ 0.951619…   │\n",
       "└──────────────┴─────────┴──────────────┴──────────────┴──────────────┴──────────────┴─────────────┘"
      ]
     },
     "execution_count": 16,
     "metadata": {},
     "output_type": "execute_result"
    }
   ],
   "source": [
    "history_m = history_train\\\n",
    "    .select('user_id', pl.col('article_id_fixed').list.eval(\n",
    "                pl.element().replace(article_emb_mapping['article_id'], article_emb_mapping['index'], default=None)))\\\n",
    "    .with_row_index('user_index')\n",
    "\n",
    "user_history_map = history_m.select('user_id', 'user_index')\n",
    "history_m = history_m['article_id_fixed'].to_numpy()\n",
    "train_ds = behaviors_train.select('impression_id', 'user_id', pl.col('article_ids_inview').alias('article'))\\\n",
    "    .join(user_history_map, on='user_id')\\\n",
    "    .with_columns(\n",
    "        pl.col('article').list.eval(pl.element().replace(article_emb_mapping['article_id'], article_emb_mapping['index'], default=None)).name.suffix('_index'),\n",
    "    ).drop('impression_time_fixed', 'scroll_percentage_fixed', 'read_time_fixed')\n",
    "\n",
    "train_ds = build_emb_scores(train_ds, history_m, m_dict=norm_m_dict)\n",
    "# train_ds = build_agg_scores(train_ds, history_train, emb_names=list(norm_m_dict.keys()))\n",
    "# agg_scores_col = [col for col in train_ds.columns if '_scores_' in col]\n",
    "# train_ds = train_ds.drop([f'{emb_name}_scores' for emb_name in list(norm_m_dict.keys())]).explode(['article'] + agg_scores_col)\n",
    "train_ds.head()"
   ]
  },
  {
   "cell_type": "code",
   "execution_count": 1,
   "metadata": {},
   "outputs": [],
   "source": [
    "import polars as pl"
   ]
  },
  {
   "cell_type": "code",
   "execution_count": 8,
   "metadata": {},
   "outputs": [
    {
     "data": {
      "text/html": [
       "<div><style>\n",
       ".dataframe > thead > tr,\n",
       ".dataframe > tbody > tr {\n",
       "  text-align: right;\n",
       "  white-space: pre-wrap;\n",
       "}\n",
       "</style>\n",
       "<small>shape: (1_000, 7)</small><table border=\"1\" class=\"dataframe\"><thead><tr><th>impression_id</th><th>user_id</th><th>article</th><th>contrastive_vector_scores</th><th>xlm_roberta_base_scores</th><th>image_embeddings_scores</th><th>bert_base_multilingual_cased_scores</th></tr><tr><td>u32</td><td>u32</td><td>list[i32]</td><td>list[list[f32]]</td><td>list[list[f32]]</td><td>list[list[f32]]</td><td>list[list[f32]]</td></tr></thead><tbody><tr><td>149474</td><td>139836</td><td>[9778623, 9778682, … 9778728]</td><td>[[0.280006, 0.019717, … 0.310368], [0.19372, 0.089885, … 0.331878], … [0.195114, 0.004229, … 0.188044]]</td><td>[[0.999206, 0.999163, … 0.999462], [0.998954, 0.999033, … 0.999613], … [0.999181, 0.999166, … 0.999317]]</td><td>[[0.546279, 0.456443, … 0.068054], [0.108021, -0.134935, … 0.308029], … [0.789861, 0.399746, … -0.11546]]</td><td>[[0.988827, 0.984724, … 0.954573], [0.982375, 0.988657, … 0.95557], … [0.976225, 0.973736, … 0.937987]]</td></tr><tr><td>150528</td><td>143471</td><td>[9778718, 9778728, … 9778682]</td><td>[[0.487253, 0.222981, … 0.421921], [0.27305, 0.079195, … 0.05142], … [0.192729, 0.108325, … 0.272533]]</td><td>[[0.999433, 0.999432, … 0.999513], [0.999252, 0.999181, … 0.999224], … [0.999523, 0.999268, … 0.999264]]</td><td>[[0.0, 0.0, … 0.0], [0.766936, 0.0, … 0.0], … [0.028365, 0.0, … 0.0]]</td><td>[[0.9813, 0.945006, … 0.960722], [0.972239, 0.936991, … 0.948615], … [0.987886, 0.95329, … 0.961935]]</td></tr><tr><td>153070</td><td>151570</td><td>[9020783, 9778444, … 9778628]</td><td>[[0.40875, 0.133315, … 0.162373], [0.265542, 0.090084, … 0.255454], … [0.2833, 0.096032, … 0.221158]]</td><td>[[0.999482, 0.999167, … 0.999274], [0.999354, 0.999083, … 0.999389], … [0.999391, 0.999181, … 0.999296]]</td><td>[[0.552781, 0.0, … 0.519307], [0.0, 0.0, … 0.0], … [-0.077273, 0.0, … 0.123942]]</td><td>[[0.990108, 0.939705, … 0.979351], [0.986347, 0.941202, … 0.975838], … [0.981966, 0.937075, … 0.983944]]</td></tr><tr><td>153071</td><td>151570</td><td>[9777492, 9774568, … 9775990]</td><td>[[0.436637, 0.022653, … 0.152943], [0.168714, 0.138129, … 0.138965], … [0.188897, 0.106059, … 0.135605]]</td><td>[[0.999441, 0.999144, … 0.999291], [0.999124, 0.998861, … 0.999209], … [0.999332, 0.998993, … 0.999224]]</td><td>[[-0.130659, 0.0, … -0.122535], [0.438304, 0.0, … 0.340977], … [0.6444, 0.0, … 0.253928]]</td><td>[[0.990504, 0.944563, … 0.982758], [0.813731, 0.847427, … 0.828457], … [0.951217, 0.913168, … 0.952556]]</td></tr><tr><td>153078</td><td>151570</td><td>[9778021, 9778627, … 7213923]</td><td>[[0.363323, 0.097399, … 0.28931], [0.201101, 0.192492, … 0.18965], … [0.009028, 0.058391, … 0.01964]]</td><td>[[0.999129, 0.998635, … 0.999222], [0.999251, 0.999142, … 0.999195], … [0.999299, 0.999075, … 0.999146]]</td><td>[[0.427206, 0.0, … 0.154384], [0.239121, 0.0, … 0.156372], … [-0.068958, 0.0, … -0.38356]]</td><td>[[0.98114, 0.928685, … 0.981403], [0.963864, 0.952562, … 0.953528], … [0.988723, 0.938198, … 0.976789]]</td></tr><tr><td>&hellip;</td><td>&hellip;</td><td>&hellip;</td><td>&hellip;</td><td>&hellip;</td><td>&hellip;</td><td>&hellip;</td></tr><tr><td>2433256</td><td>1606050</td><td>[9483850, 9779648, … 9779777]</td><td>[[0.099568, 0.269038, … 0.240463], [0.423035, 0.358301, … 0.354762], … [0.147808, 0.339846, … 0.035343]]</td><td>[[0.999248, 0.999437, … 0.999439], [0.999629, 0.999317, … 0.999263], … [0.999344, 0.999509, … 0.999301]]</td><td>[[0.337382, -0.065383, … 0.307274], [0.0, 0.0, … 0.0], … [0.0, 0.0, … 0.0]]</td><td>[[0.983992, 0.983894, … 0.984721], [0.98539, 0.976882, … 0.981156], … [0.981787, 0.982505, … 0.981081]]</td></tr><tr><td>2433248</td><td>1606050</td><td>[9552181, 9779263, … 9547869]</td><td>[[0.279315, 0.337229, … 0.133837], [0.378713, 0.02498, … 0.094999], … [0.21466, 0.081328, … 0.215833]]</td><td>[[0.999341, 0.999519, … 0.999569], [0.999577, 0.999119, … 0.998869], … [0.999402, 0.999432, … 0.999415]]</td><td>[[0.0, 0.0, … 0.0], [0.37884, 0.271457, … -0.0275], … [0.62122, 0.070636, … 0.213934]]</td><td>[[0.987948, 0.98747, … 0.987622], [0.988494, 0.983613, … 0.982609], … [0.985486, 0.982646, … 0.985924]]</td></tr><tr><td>2435848</td><td>1692081</td><td>[9779263, 9779205, … 9779577]</td><td>[[0.058322, 0.110961, … 0.247141], [0.041045, 0.206982, … 0.433246], … [0.079398, 0.193836, … 0.544893]]</td><td>[[0.997882, 0.998676, … 0.999465], [0.998287, 0.998917, … 0.999622], … [0.999135, 0.998783, … 0.998799]]</td><td>[[-0.135781, 0.201273, … 0.452139], [0.197592, 0.566438, … 0.604189], … [0.629099, 0.220339, … 0.12199]]</td><td>[[0.94621, 0.977764, … 0.984171], [0.942077, 0.969015, … 0.983493], … [0.944518, 0.981686, … 0.988128]]</td></tr><tr><td>2435885</td><td>1695195</td><td>[9658252, 9569934, … 9775885]</td><td>[[0.417648, 0.384465, … 0.255178], [0.45826, 0.31132, … 0.2843], … [0.571571, 0.283195, … 0.335594]]</td><td>[[0.999386, 0.999555, … 0.999455], [0.999396, 0.999309, … 0.999222], … [0.999655, 0.999617, … 0.999547]]</td><td>[[0.59537, 0.322892, … 0.576517], [-0.082606, -0.137399, … -0.313506], … [0.004153, 0.27604, … 0.32076]]</td><td>[[0.942331, 0.990499, … 0.992581], [0.941311, 0.988905, … 0.984904], … [0.943828, 0.991274, … 0.993161]]</td></tr><tr><td>2436801</td><td>1729576</td><td>[9780181, 9780193, … 9780195]</td><td>[[0.220343, 0.213422, … 0.209504], [0.168307, 0.106995, … 0.095657], … [0.159713, 0.240904, … 0.246181]]</td><td>[[0.999313, 0.999097, … 0.999418], [0.999233, 0.999037, … 0.999166], … [0.999087, 0.99898, … 0.999178]]</td><td>[[0.803103, -0.186405, … 0.44114], [0.0, 0.0, … 0.0], … [0.152103, 0.311306, … 0.014977]]</td><td>[[0.987722, 0.98171, … 0.990824], [0.953785, 0.939753, … 0.953096], … [0.989215, 0.982444, … 0.991407]]</td></tr></tbody></table></div>"
      ],
      "text/plain": [
       "shape: (1_000, 7)\n",
       "┌──────────────┬─────────┬──────────────┬──────────────┬──────────────┬──────────────┬─────────────┐\n",
       "│ impression_i ┆ user_id ┆ article      ┆ contrastive_ ┆ xlm_roberta_ ┆ image_embedd ┆ bert_base_m │\n",
       "│ d            ┆ ---     ┆ ---          ┆ vector_score ┆ base_scores  ┆ ings_scores  ┆ ultilingual │\n",
       "│ ---          ┆ u32     ┆ list[i32]    ┆ s            ┆ ---          ┆ ---          ┆ _cased_s…   │\n",
       "│ u32          ┆         ┆              ┆ ---          ┆ list[list[f3 ┆ list[list[f3 ┆ ---         │\n",
       "│              ┆         ┆              ┆ list[list[f3 ┆ 2]]          ┆ 2]]          ┆ list[list[f │\n",
       "│              ┆         ┆              ┆ 2]]          ┆              ┆              ┆ 32]]        │\n",
       "╞══════════════╪═════════╪══════════════╪══════════════╪══════════════╪══════════════╪═════════════╡\n",
       "│ 149474       ┆ 139836  ┆ [9778623,    ┆ [[0.280006,  ┆ [[0.999206,  ┆ [[0.546279,  ┆ [[0.988827, │\n",
       "│              ┆         ┆ 9778682, …   ┆ 0.019717, …  ┆ 0.999163, …  ┆ 0.456443, …  ┆ 0.984724, … │\n",
       "│              ┆         ┆ 9778728]     ┆ 0.3103…      ┆ 0.9994…      ┆ 0.0680…      ┆ 0.9545…     │\n",
       "│ 150528       ┆ 143471  ┆ [9778718,    ┆ [[0.487253,  ┆ [[0.999433,  ┆ [[0.0, 0.0,  ┆ [[0.9813,   │\n",
       "│              ┆         ┆ 9778728, …   ┆ 0.222981, …  ┆ 0.999432, …  ┆ … 0.0],      ┆ 0.945006, … │\n",
       "│              ┆         ┆ 9778682]     ┆ 0.4219…      ┆ 0.9995…      ┆ [0.766936,…  ┆ 0.960722…   │\n",
       "│ 153070       ┆ 151570  ┆ [9020783,    ┆ [[0.40875,   ┆ [[0.999482,  ┆ [[0.552781,  ┆ [[0.990108, │\n",
       "│              ┆         ┆ 9778444, …   ┆ 0.133315, …  ┆ 0.999167, …  ┆ 0.0, …       ┆ 0.939705, … │\n",
       "│              ┆         ┆ 9778628]     ┆ 0.16237…     ┆ 0.9992…      ┆ 0.519307], … ┆ 0.9793…     │\n",
       "│ 153071       ┆ 151570  ┆ [9777492,    ┆ [[0.436637,  ┆ [[0.999441,  ┆ [[-0.130659, ┆ [[0.990504, │\n",
       "│              ┆         ┆ 9774568, …   ┆ 0.022653, …  ┆ 0.999144, …  ┆ 0.0, …       ┆ 0.944563, … │\n",
       "│              ┆         ┆ 9775990]     ┆ 0.1529…      ┆ 0.9992…      ┆ -0.122535]…  ┆ 0.9827…     │\n",
       "│ 153078       ┆ 151570  ┆ [9778021,    ┆ [[0.363323,  ┆ [[0.999129,  ┆ [[0.427206,  ┆ [[0.98114,  │\n",
       "│              ┆         ┆ 9778627, …   ┆ 0.097399, …  ┆ 0.998635, …  ┆ 0.0, …       ┆ 0.928685, … │\n",
       "│              ┆         ┆ 7213923]     ┆ 0.2893…      ┆ 0.9992…      ┆ 0.154384], … ┆ 0.98140…    │\n",
       "│ …            ┆ …       ┆ …            ┆ …            ┆ …            ┆ …            ┆ …           │\n",
       "│ 2433256      ┆ 1606050 ┆ [9483850,    ┆ [[0.099568,  ┆ [[0.999248,  ┆ [[0.337382,  ┆ [[0.983992, │\n",
       "│              ┆         ┆ 9779648, …   ┆ 0.269038, …  ┆ 0.999437, …  ┆ -0.065383, … ┆ 0.983894, … │\n",
       "│              ┆         ┆ 9779777]     ┆ 0.2404…      ┆ 0.9994…      ┆ 0.307…       ┆ 0.9847…     │\n",
       "│ 2433248      ┆ 1606050 ┆ [9552181,    ┆ [[0.279315,  ┆ [[0.999341,  ┆ [[0.0, 0.0,  ┆ [[0.987948, │\n",
       "│              ┆         ┆ 9779263, …   ┆ 0.337229, …  ┆ 0.999519, …  ┆ … 0.0],      ┆ 0.98747, …  │\n",
       "│              ┆         ┆ 9547869]     ┆ 0.1338…      ┆ 0.9995…      ┆ [0.37884, …  ┆ 0.98762…    │\n",
       "│ 2435848      ┆ 1692081 ┆ [9779263,    ┆ [[0.058322,  ┆ [[0.997882,  ┆ [[-0.135781, ┆ [[0.94621,  │\n",
       "│              ┆         ┆ 9779205, …   ┆ 0.110961, …  ┆ 0.998676, …  ┆ 0.201273, …  ┆ 0.977764, … │\n",
       "│              ┆         ┆ 9779577]     ┆ 0.2471…      ┆ 0.9994…      ┆ 0.452…       ┆ 0.98417…    │\n",
       "│ 2435885      ┆ 1695195 ┆ [9658252,    ┆ [[0.417648,  ┆ [[0.999386,  ┆ [[0.59537,   ┆ [[0.942331, │\n",
       "│              ┆         ┆ 9569934, …   ┆ 0.384465, …  ┆ 0.999555, …  ┆ 0.322892, …  ┆ 0.990499, … │\n",
       "│              ┆         ┆ 9775885]     ┆ 0.2551…      ┆ 0.9994…      ┆ 0.57651…     ┆ 0.9925…     │\n",
       "│ 2436801      ┆ 1729576 ┆ [9780181,    ┆ [[0.220343,  ┆ [[0.999313,  ┆ [[0.803103,  ┆ [[0.987722, │\n",
       "│              ┆         ┆ 9780193, …   ┆ 0.213422, …  ┆ 0.999097, …  ┆ -0.186405, … ┆ 0.98171, …  │\n",
       "│              ┆         ┆ 9780195]     ┆ 0.2095…      ┆ 0.9994…      ┆ 0.441…       ┆ 0.99082…    │\n",
       "└──────────────┴─────────┴──────────────┴──────────────┴──────────────┴──────────────┴─────────────┘"
      ]
     },
     "execution_count": 8,
     "metadata": {},
     "output_type": "execute_result"
    }
   ],
   "source": [
    "pl.read_parquet('/Users/lorecampa/Desktop/Projects/RecSysChallenge2024/experiments/preprocessing_embedding_scores_2024-05-07_16-45-14/train/embeddings_scores.parquet')"
   ]
  },
  {
   "cell_type": "code",
   "execution_count": null,
   "metadata": {},
   "outputs": [],
   "source": []
  }
 ],
 "metadata": {
  "kernelspec": {
   "display_name": "recsys",
   "language": "python",
   "name": "python3"
  },
  "language_info": {
   "codemirror_mode": {
    "name": "ipython",
    "version": 3
   },
   "file_extension": ".py",
   "mimetype": "text/x-python",
   "name": "python",
   "nbconvert_exporter": "python",
   "pygments_lexer": "ipython3",
   "version": "3.11.0"
  }
 },
 "nbformat": 4,
 "nbformat_minor": 2
}
