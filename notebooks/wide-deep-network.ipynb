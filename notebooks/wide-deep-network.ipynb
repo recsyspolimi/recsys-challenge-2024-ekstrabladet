{
 "cells": [
  {
   "cell_type": "code",
   "execution_count": 1,
   "id": "14375986",
   "metadata": {
    "execution": {
     "iopub.execute_input": "2024-05-19T12:44:13.691037Z",
     "iopub.status.busy": "2024-05-19T12:44:13.690192Z",
     "iopub.status.idle": "2024-05-19T12:44:18.547403Z",
     "shell.execute_reply": "2024-05-19T12:44:18.545948Z"
    },
    "papermill": {
     "duration": 4.889341,
     "end_time": "2024-05-19T12:44:18.550477",
     "exception": false,
     "start_time": "2024-05-19T12:44:13.661136",
     "status": "completed"
    },
    "tags": []
   },
   "outputs": [
    {
     "name": "stdout",
     "output_type": "stream",
     "text": [
      "Cloning into 'RecSysChallenge2024'...\r\n",
      "remote: Enumerating objects: 3434, done.\u001b[K\r\n",
      "remote: Counting objects: 100% (1044/1044), done.\u001b[K\r\n",
      "remote: Compressing objects: 100% (383/383), done.\u001b[K\r\n",
      "remote: Total 3434 (delta 701), reused 986 (delta 658), pack-reused 2390\u001b[K\r\n",
      "Receiving objects: 100% (3434/3434), 43.22 MiB | 25.94 MiB/s, done.\r\n",
      "Resolving deltas: 100% (2196/2196), done.\r\n"
     ]
    }
   ],
   "source": [
    "from kaggle_secrets import UserSecretsClient\n",
    "secret_label = \"Token\"\n",
    "token = UserSecretsClient().get_secret(secret_label)\n",
    "\n",
    "! git clone https://{token}@github.com/FrancescoZanella/RecSysChallenge2024.git"
   ]
  },
  {
   "cell_type": "code",
   "execution_count": 2,
   "id": "17484389",
   "metadata": {
    "execution": {
     "iopub.execute_input": "2024-05-19T12:44:18.615508Z",
     "iopub.status.busy": "2024-05-19T12:44:18.614499Z",
     "iopub.status.idle": "2024-05-19T12:44:18.622928Z",
     "shell.execute_reply": "2024-05-19T12:44:18.621609Z"
    },
    "papermill": {
     "duration": 0.044114,
     "end_time": "2024-05-19T12:44:18.625561",
     "exception": false,
     "start_time": "2024-05-19T12:44:18.581447",
     "status": "completed"
    },
    "tags": []
   },
   "outputs": [
    {
     "name": "stdout",
     "output_type": "stream",
     "text": [
      "/kaggle/working/RecSysChallenge2024/src\n"
     ]
    }
   ],
   "source": [
    "%cd /kaggle/working/RecSysChallenge2024/src"
   ]
  },
  {
   "cell_type": "code",
   "execution_count": 3,
   "id": "24f4af63",
   "metadata": {
    "execution": {
     "iopub.execute_input": "2024-05-19T12:44:18.692133Z",
     "iopub.status.busy": "2024-05-19T12:44:18.691761Z",
     "iopub.status.idle": "2024-05-19T12:44:56.728869Z",
     "shell.execute_reply": "2024-05-19T12:44:56.727353Z"
    },
    "papermill": {
     "duration": 38.073979,
     "end_time": "2024-05-19T12:44:56.731703",
     "exception": false,
     "start_time": "2024-05-19T12:44:18.657724",
     "status": "completed"
    },
    "tags": []
   },
   "outputs": [
    {
     "name": "stdout",
     "output_type": "stream",
     "text": [
      "Requirement already satisfied: polars in /opt/conda/lib/python3.10/site-packages (0.20.15)\r\n",
      "Collecting polars\r\n",
      "  Downloading polars-0.20.26-cp38-abi3-manylinux_2_17_x86_64.manylinux2014_x86_64.whl.metadata (14 kB)\r\n",
      "Downloading polars-0.20.26-cp38-abi3-manylinux_2_17_x86_64.manylinux2014_x86_64.whl (28.0 MB)\r\n",
      "\u001b[2K   \u001b[90m━━━━━━━━━━━━━━━━━━━━━━━━━━━━━━━━━━━━━━━━\u001b[0m \u001b[32m28.0/28.0 MB\u001b[0m \u001b[31m45.4 MB/s\u001b[0m eta \u001b[36m0:00:00\u001b[0m\r\n",
      "\u001b[?25hInstalling collected packages: polars\r\n",
      "  Attempting uninstall: polars\r\n",
      "    Found existing installation: polars 0.20.15\r\n",
      "    Uninstalling polars-0.20.15:\r\n",
      "      Successfully uninstalled polars-0.20.15\r\n",
      "Successfully installed polars-0.20.26\r\n"
     ]
    }
   ],
   "source": [
    "! pip install --upgrade polars"
   ]
  },
  {
   "cell_type": "code",
   "execution_count": 4,
   "id": "5554447c",
   "metadata": {
    "execution": {
     "iopub.execute_input": "2024-05-19T12:44:56.798707Z",
     "iopub.status.busy": "2024-05-19T12:44:56.798267Z",
     "iopub.status.idle": "2024-05-19T12:45:18.316901Z",
     "shell.execute_reply": "2024-05-19T12:45:18.315444Z"
    },
    "papermill": {
     "duration": 21.555926,
     "end_time": "2024-05-19T12:45:18.320134",
     "exception": false,
     "start_time": "2024-05-19T12:44:56.764208",
     "status": "completed"
    },
    "tags": []
   },
   "outputs": [
    {
     "name": "stdout",
     "output_type": "stream",
     "text": [
      "Collecting simsimd\r\n",
      "  Downloading simsimd-4.3.1-cp310-cp310-manylinux_2_28_x86_64.whl.metadata (30 kB)\r\n",
      "Collecting scikit-learn==1.4.2\r\n",
      "  Downloading scikit_learn-1.4.2-cp310-cp310-manylinux_2_17_x86_64.manylinux2014_x86_64.whl.metadata (11 kB)\r\n",
      "Requirement already satisfied: numpy>=1.19.5 in /opt/conda/lib/python3.10/site-packages (from scikit-learn==1.4.2) (1.26.4)\r\n",
      "Requirement already satisfied: scipy>=1.6.0 in /opt/conda/lib/python3.10/site-packages (from scikit-learn==1.4.2) (1.11.4)\r\n",
      "Requirement already satisfied: joblib>=1.2.0 in /opt/conda/lib/python3.10/site-packages (from scikit-learn==1.4.2) (1.3.2)\r\n",
      "Requirement already satisfied: threadpoolctl>=2.0.0 in /opt/conda/lib/python3.10/site-packages (from scikit-learn==1.4.2) (3.2.0)\r\n",
      "Downloading scikit_learn-1.4.2-cp310-cp310-manylinux_2_17_x86_64.manylinux2014_x86_64.whl (12.1 MB)\r\n",
      "\u001b[2K   \u001b[90m━━━━━━━━━━━━━━━━━━━━━━━━━━━━━━━━━━━━━━━━\u001b[0m \u001b[32m12.1/12.1 MB\u001b[0m \u001b[31m78.7 MB/s\u001b[0m eta \u001b[36m0:00:00\u001b[0m\r\n",
      "\u001b[?25hDownloading simsimd-4.3.1-cp310-cp310-manylinux_2_28_x86_64.whl (382 kB)\r\n",
      "\u001b[2K   \u001b[90m━━━━━━━━━━━━━━━━━━━━━━━━━━━━━━━━━━━━━━━━\u001b[0m \u001b[32m382.2/382.2 kB\u001b[0m \u001b[31m16.9 MB/s\u001b[0m eta \u001b[36m0:00:00\u001b[0m\r\n",
      "\u001b[?25hInstalling collected packages: simsimd, scikit-learn\r\n",
      "  Attempting uninstall: scikit-learn\r\n",
      "    Found existing installation: scikit-learn 1.2.2\r\n",
      "    Uninstalling scikit-learn-1.2.2:\r\n",
      "      Successfully uninstalled scikit-learn-1.2.2\r\n",
      "\u001b[31mERROR: pip's dependency resolver does not currently take into account all the packages that are installed. This behaviour is the source of the following dependency conflicts.\r\n",
      "spopt 0.6.0 requires shapely>=2.0.1, but you have shapely 1.8.5.post1 which is incompatible.\u001b[0m\u001b[31m\r\n",
      "\u001b[0mSuccessfully installed scikit-learn-1.4.2 simsimd-4.3.1\r\n"
     ]
    }
   ],
   "source": [
    "! pip install simsimd scikit-learn==1.4.2"
   ]
  },
  {
   "cell_type": "code",
   "execution_count": 5,
   "id": "fae194e4",
   "metadata": {
    "_cell_guid": "b1076dfc-b9ad-4769-8c92-a6c4dae69d19",
    "_uuid": "8f2839f25d086af736a60e9eeb907d3b93b6e0e5",
    "execution": {
     "iopub.execute_input": "2024-05-19T12:45:18.388739Z",
     "iopub.status.busy": "2024-05-19T12:45:18.387923Z",
     "iopub.status.idle": "2024-05-19T12:45:42.168241Z",
     "shell.execute_reply": "2024-05-19T12:45:42.166791Z"
    },
    "papermill": {
     "duration": 23.819343,
     "end_time": "2024-05-19T12:45:42.171127",
     "exception": false,
     "start_time": "2024-05-19T12:45:18.351784",
     "status": "completed"
    },
    "tags": []
   },
   "outputs": [
    {
     "name": "stderr",
     "output_type": "stream",
     "text": [
      "2024-05-19 12:45:28.380771: E external/local_xla/xla/stream_executor/cuda/cuda_dnn.cc:9261] Unable to register cuDNN factory: Attempting to register factory for plugin cuDNN when one has already been registered\n",
      "2024-05-19 12:45:28.380920: E external/local_xla/xla/stream_executor/cuda/cuda_fft.cc:607] Unable to register cuFFT factory: Attempting to register factory for plugin cuFFT when one has already been registered\n",
      "2024-05-19 12:45:28.555531: E external/local_xla/xla/stream_executor/cuda/cuda_blas.cc:1515] Unable to register cuBLAS factory: Attempting to register factory for plugin cuBLAS when one has already been registered\n"
     ]
    }
   ],
   "source": [
    "import numpy as np\n",
    "import pandas as pd\n",
    "import matplotlib.pyplot as plt\n",
    "import seaborn as sns\n",
    "from pathlib import Path\n",
    "import polars as pl\n",
    "import scipy.stats as stats\n",
    "import scipy.sparse as sps\n",
    "import random\n",
    "import logging\n",
    "import gc\n",
    "import tqdm\n",
    "\n",
    "from ebrec.utils._descriptive_analysis import (\n",
    "    min_max_impression_time_behaviors, \n",
    "    min_max_impression_time_history\n",
    ")\n",
    "from ebrec.utils._polars import slice_join_dataframes\n",
    "from ebrec.utils._behaviors import (\n",
    "    create_binary_labels_column,\n",
    "    sampling_strategy_wu2019,\n",
    "    truncate_history,\n",
    ")\n",
    "from ebrec.utils._constants import (\n",
    "    DEFAULT_HISTORY_ARTICLE_ID_COL,\n",
    "    DEFAULT_CLICKED_ARTICLES_COL,\n",
    "    DEFAULT_INVIEW_ARTICLES_COL,\n",
    "    DEFAULT_USER_COL\n",
    ")\n",
    "from ebrec.evaluation.metrics_protocols import *\n",
    "from polimi.utils._catboost import (\n",
    "    _preprocessing_history_trendiness_scores, \n",
    "    add_history_trendiness_scores_feature, \n",
    "    _preprocessing_mean_delay_features, \n",
    "    add_mean_delays_features, \n",
    "    _preprocessing_window_features, \n",
    "    add_window_features, \n",
    "    add_trendiness_feature_categories, \n",
    "    _preprocessing_article_endorsement_feature, \n",
    "    get_unique_categories,\n",
    "    add_trendiness_feature,\n",
    "    _preprocessing_article_endorsement_feature_by_article_and_user,\n",
    ")\n",
    "\n",
    "from sklearn.preprocessing import QuantileTransformer, OrdinalEncoder"
   ]
  },
  {
   "cell_type": "code",
   "execution_count": 6,
   "id": "13e3a371",
   "metadata": {
    "execution": {
     "iopub.execute_input": "2024-05-19T12:45:42.237931Z",
     "iopub.status.busy": "2024-05-19T12:45:42.236301Z",
     "iopub.status.idle": "2024-05-19T12:45:42.246401Z",
     "shell.execute_reply": "2024-05-19T12:45:42.244993Z"
    },
    "papermill": {
     "duration": 0.04616,
     "end_time": "2024-05-19T12:45:42.248938",
     "exception": false,
     "start_time": "2024-05-19T12:45:42.202778",
     "status": "completed"
    },
    "tags": []
   },
   "outputs": [
    {
     "name": "stdout",
     "output_type": "stream",
     "text": [
      "2.15.0\n"
     ]
    }
   ],
   "source": [
    "import tensorflow as tf\n",
    "from tensorflow import keras as tfk\n",
    "from tensorflow.keras import layers as tfkl\n",
    "\n",
    "seed = 42\n",
    "np.random.seed(seed)\n",
    "random.seed(seed)\n",
    "tf.autograph.set_verbosity(0)\n",
    "tf.get_logger().setLevel(logging.ERROR)\n",
    "tf.random.set_seed(seed)\n",
    "print(tf.__version__)"
   ]
  },
  {
   "cell_type": "markdown",
   "id": "91379640",
   "metadata": {
    "papermill": {
     "duration": 0.031994,
     "end_time": "2024-05-19T12:45:42.312449",
     "exception": false,
     "start_time": "2024-05-19T12:45:42.280455",
     "status": "completed"
    },
    "tags": []
   },
   "source": [
    "# Memory Utils"
   ]
  },
  {
   "cell_type": "code",
   "execution_count": 7,
   "id": "7dd295c1",
   "metadata": {
    "execution": {
     "iopub.execute_input": "2024-05-19T12:45:42.378296Z",
     "iopub.status.busy": "2024-05-19T12:45:42.377903Z",
     "iopub.status.idle": "2024-05-19T12:45:42.387115Z",
     "shell.execute_reply": "2024-05-19T12:45:42.385938Z"
    },
    "papermill": {
     "duration": 0.045753,
     "end_time": "2024-05-19T12:45:42.389744",
     "exception": false,
     "start_time": "2024-05-19T12:45:42.343991",
     "status": "completed"
    },
    "tags": []
   },
   "outputs": [
    {
     "name": "stdout",
     "output_type": "stream",
     "text": [
      "\u001b[1m\u001b[31m\n",
      "RAM memory GB usage = 0.8672\u001b[0m\n"
     ]
    }
   ],
   "source": [
    "from os import system, getpid, walk\n",
    "from psutil import Process\n",
    "from colorama import Fore, Style, init\n",
    "from IPython.display import display, HTML\n",
    "\n",
    "def PrintColor(text:str, color = Fore.BLUE, style = Style.BRIGHT):\n",
    "    print(style + color + text + Style.RESET_ALL)\n",
    "    \n",
    "def GetMemUsage():   \n",
    "    pid = getpid()\n",
    "    py = Process(pid)\n",
    "    memory_use = py.memory_info()[0] / 2. ** 30\n",
    "    return f\"RAM memory GB usage = {memory_use :.4}\"\n",
    "\n",
    "PrintColor(f\"\\n\" + GetMemUsage(), color = Fore.RED)"
   ]
  },
  {
   "cell_type": "code",
   "execution_count": 8,
   "id": "7df53ccb",
   "metadata": {
    "execution": {
     "iopub.execute_input": "2024-05-19T12:45:42.454961Z",
     "iopub.status.busy": "2024-05-19T12:45:42.454501Z",
     "iopub.status.idle": "2024-05-19T12:45:42.471899Z",
     "shell.execute_reply": "2024-05-19T12:45:42.470961Z"
    },
    "papermill": {
     "duration": 0.053182,
     "end_time": "2024-05-19T12:45:42.474401",
     "exception": false,
     "start_time": "2024-05-19T12:45:42.421219",
     "status": "completed"
    },
    "tags": []
   },
   "outputs": [],
   "source": [
    "def reduce_polars_df_memory_size(df, set_categorical=True):\n",
    "\n",
    "    start_mem = df.estimated_size('mb')\n",
    "    print('Memory usage of dataframe is {:.2f} MB'.format(start_mem))\n",
    "    \n",
    "    for col in df.columns:\n",
    "        col_type = df[col].dtype\n",
    "        \n",
    "        if col_type in [pl.Int16, pl.Int32, pl.Int64]:\n",
    "            c_min = df[col].fill_null(0).min()\n",
    "            c_max = df[col].fill_null(0).max()\n",
    "            if c_min > np.iinfo(np.int8).min and c_max < np.iinfo(np.int8).max:\n",
    "                df = df.with_columns(pl.col(col).cast(pl.Int8))\n",
    "            elif c_min > np.iinfo(np.int16).min and c_max < np.iinfo(np.int16).max:\n",
    "                df = df.with_columns(pl.col(col).cast(pl.Int16))\n",
    "            elif c_min > np.iinfo(np.int32).min and c_max < np.iinfo(np.int32).max:\n",
    "                df = df.with_columns(pl.col(col).cast(pl.Int32))\n",
    "        elif col_type in [pl.UInt16, pl.UInt32, pl.UInt64]:\n",
    "            c_min = df[col].fill_null(0).min()\n",
    "            c_max = df[col].fill_null(0).max()\n",
    "            if c_min > np.iinfo(np.uint8).min and c_max < np.iinfo(np.uint8).max:\n",
    "                df = df.with_columns(pl.col(col).cast(pl.UInt8))\n",
    "            elif c_min > np.iinfo(np.uint16).min and c_max < np.iinfo(np.uint16).max:\n",
    "                df = df.with_columns(pl.col(col).cast(pl.UInt16))\n",
    "            elif c_min > np.iinfo(np.uint32).min and c_max < np.iinfo(np.uint32).max:\n",
    "                df = df.with_columns(pl.col(col).cast(pl.UInt32))\n",
    "        elif col_type == pl.Float64:\n",
    "            c_min = df[col].fill_null(0).min()\n",
    "            c_max = df[col].fill_null(0).max()\n",
    "            if c_min > np.finfo(np.float32).min and c_max < np.finfo(np.float32).max:\n",
    "                df = df.with_columns(pl.col(col).cast(pl.Float32))\n",
    "\n",
    "    gc.collect()\n",
    "    end_mem = df.estimated_size('mb')\n",
    "    print('Memory usage after optimization is: {:.2f} MB'.format(end_mem))\n",
    "    print('Decreased by {:.1f}%'.format(100 * (start_mem - end_mem) / start_mem))\n",
    "    \n",
    "    return df"
   ]
  },
  {
   "cell_type": "markdown",
   "id": "e904cae5",
   "metadata": {
    "papermill": {
     "duration": 0.031874,
     "end_time": "2024-05-19T12:45:42.538812",
     "exception": false,
     "start_time": "2024-05-19T12:45:42.506938",
     "status": "completed"
    },
    "tags": []
   },
   "source": [
    "# Data import"
   ]
  },
  {
   "cell_type": "code",
   "execution_count": 9,
   "id": "cd1db407",
   "metadata": {
    "execution": {
     "iopub.execute_input": "2024-05-19T12:45:42.670566Z",
     "iopub.status.busy": "2024-05-19T12:45:42.669936Z",
     "iopub.status.idle": "2024-05-19T12:45:44.531823Z",
     "shell.execute_reply": "2024-05-19T12:45:44.530442Z"
    },
    "papermill": {
     "duration": 1.897911,
     "end_time": "2024-05-19T12:45:44.534236",
     "exception": false,
     "start_time": "2024-05-19T12:45:42.636325",
     "status": "completed"
    },
    "tags": []
   },
   "outputs": [
    {
     "name": "stdout",
     "output_type": "stream",
     "text": [
      "\u001b[1m\u001b[31m\n",
      "RAM memory GB usage = 1.128\u001b[0m\n"
     ]
    }
   ],
   "source": [
    "articles = pl.read_parquet('/kaggle/input/ebnerd_small/articles.parquet')\n",
    "\n",
    "behaviors_train = pl.read_parquet('/kaggle/input/ebnerd_small/train/behaviors.parquet')\n",
    "history_train = pl.read_parquet('/kaggle/input/ebnerd_small/train/history.parquet')\n",
    "\n",
    "behaviors_val = pl.read_parquet('/kaggle/input/ebnerd_small/validation/behaviors.parquet')\n",
    "history_val = pl.read_parquet('/kaggle/input/ebnerd_small/validation/history.parquet')\n",
    "\n",
    "gc.collect()\n",
    "PrintColor(f\"\\n\" + GetMemUsage(), color = Fore.RED)"
   ]
  },
  {
   "cell_type": "markdown",
   "id": "6c291a1a",
   "metadata": {
    "papermill": {
     "duration": 0.031494,
     "end_time": "2024-05-19T12:45:44.598350",
     "exception": false,
     "start_time": "2024-05-19T12:45:44.566856",
     "status": "completed"
    },
    "tags": []
   },
   "source": [
    "# Articles Preprocessing"
   ]
  },
  {
   "cell_type": "code",
   "execution_count": 10,
   "id": "4128d48a",
   "metadata": {
    "execution": {
     "iopub.execute_input": "2024-05-19T12:45:44.665502Z",
     "iopub.status.busy": "2024-05-19T12:45:44.664760Z",
     "iopub.status.idle": "2024-05-19T12:45:45.760479Z",
     "shell.execute_reply": "2024-05-19T12:45:45.759537Z"
    },
    "papermill": {
     "duration": 1.132319,
     "end_time": "2024-05-19T12:45:45.763290",
     "exception": false,
     "start_time": "2024-05-19T12:45:44.630971",
     "status": "completed"
    },
    "tags": []
   },
   "outputs": [
    {
     "name": "stdout",
     "output_type": "stream",
     "text": [
      "Memory usage of dataframe is 58.23 MB\n",
      "Memory usage after optimization is: 58.00 MB\n",
      "Decreased by 0.4%\n",
      "\u001b[1m\u001b[31m\n",
      "RAM memory GB usage = 1.135\u001b[0m\n"
     ]
    },
    {
     "data": {
      "text/html": [
       "<div><style>\n",
       ".dataframe > thead > tr,\n",
       ".dataframe > tbody > tr {\n",
       "  text-align: right;\n",
       "  white-space: pre-wrap;\n",
       "}\n",
       "</style>\n",
       "<small>shape: (2, 27)</small><table border=\"1\" class=\"dataframe\"><thead><tr><th>article_id</th><th>title</th><th>subtitle</th><th>last_modified_time</th><th>premium</th><th>body</th><th>published_time</th><th>image_ids</th><th>article_type</th><th>url</th><th>ner_clusters</th><th>entity_groups</th><th>topics</th><th>category</th><th>subcategory</th><th>category_str</th><th>total_inviews</th><th>total_pageviews</th><th>total_read_time</th><th>sentiment_score</th><th>sentiment_label</th><th>num_images</th><th>title_len</th><th>subtitle_len</th><th>body_len</th><th>num_topics</th><th>total_pageviews/inviews</th></tr><tr><td>i32</td><td>str</td><td>str</td><td>datetime[μs]</td><td>bool</td><td>str</td><td>datetime[μs]</td><td>list[i64]</td><td>str</td><td>str</td><td>list[str]</td><td>list[str]</td><td>list[str]</td><td>i16</td><td>list[i16]</td><td>str</td><td>i32</td><td>i32</td><td>f32</td><td>f32</td><td>str</td><td>u32</td><td>u8</td><td>u8</td><td>u16</td><td>u32</td><td>f32</td></tr></thead><tbody><tr><td>3001353</td><td>&quot;Natascha var ikke den første&quot;</td><td>&quot;Politiet frygter nu, at Natasc…</td><td>2023-06-29 06:20:33</td><td>false</td><td>&quot;Sagen om den østriske Natascha…</td><td>2006-08-31 08:06:45</td><td>[3150850]</td><td>&quot;article_default&quot;</td><td>&quot;https://ekstrabladet.dk/krimi/…</td><td>[]</td><td>[]</td><td>[&quot;Kriminalitet&quot;, &quot;Personfarlig_kriminalitet&quot;]</td><td>140</td><td>[]</td><td>&quot;krimi&quot;</td><td>null</td><td>null</td><td>null</td><td>0.9955</td><td>&quot;Negative&quot;</td><td>1</td><td>5</td><td>22</td><td>200</td><td>2</td><td>null</td></tr><tr><td>3003065</td><td>&quot;Kun Star Wars tjente mere&quot;</td><td>&quot;Biografgængerne strømmer ind f…</td><td>2023-06-29 06:20:35</td><td>false</td><td>&quot;Vatikanet har opfordret til at…</td><td>2006-05-21 16:57:00</td><td>[3006712]</td><td>&quot;article_default&quot;</td><td>&quot;https://ekstrabladet.dk/underh…</td><td>[]</td><td>[]</td><td>[&quot;Underholdning&quot;, &quot;Film_og_tv&quot;, &quot;Økonomi&quot;]</td><td>414</td><td>[433, 434]</td><td>&quot;underholdning&quot;</td><td>null</td><td>null</td><td>null</td><td>0.846</td><td>&quot;Positive&quot;</td><td>1</td><td>5</td><td>19</td><td>116</td><td>3</td><td>null</td></tr></tbody></table></div>"
      ],
      "text/plain": [
       "shape: (2, 27)\n",
       "┌───────────┬───────────┬───────────┬───────────┬───┬───────────┬──────────┬───────────┬───────────┐\n",
       "│ article_i ┆ title     ┆ subtitle  ┆ last_modi ┆ … ┆ subtitle_ ┆ body_len ┆ num_topic ┆ total_pag │\n",
       "│ d         ┆ ---       ┆ ---       ┆ fied_time ┆   ┆ len       ┆ ---      ┆ s         ┆ eviews/in │\n",
       "│ ---       ┆ str       ┆ str       ┆ ---       ┆   ┆ ---       ┆ u16      ┆ ---       ┆ views     │\n",
       "│ i32       ┆           ┆           ┆ datetime[ ┆   ┆ u8        ┆          ┆ u32       ┆ ---       │\n",
       "│           ┆           ┆           ┆ μs]       ┆   ┆           ┆          ┆           ┆ f32       │\n",
       "╞═══════════╪═══════════╪═══════════╪═══════════╪═══╪═══════════╪══════════╪═══════════╪═══════════╡\n",
       "│ 3001353   ┆ Natascha  ┆ Politiet  ┆ 2023-06-2 ┆ … ┆ 22        ┆ 200      ┆ 2         ┆ null      │\n",
       "│           ┆ var ikke  ┆ frygter   ┆ 9         ┆   ┆           ┆          ┆           ┆           │\n",
       "│           ┆ den       ┆ nu, at    ┆ 06:20:33  ┆   ┆           ┆          ┆           ┆           │\n",
       "│           ┆ første    ┆ Natasc…   ┆           ┆   ┆           ┆          ┆           ┆           │\n",
       "│ 3003065   ┆ Kun Star  ┆ Biografgæ ┆ 2023-06-2 ┆ … ┆ 19        ┆ 116      ┆ 3         ┆ null      │\n",
       "│           ┆ Wars      ┆ ngerne    ┆ 9         ┆   ┆           ┆          ┆           ┆           │\n",
       "│           ┆ tjente    ┆ strømmer  ┆ 06:20:35  ┆   ┆           ┆          ┆           ┆           │\n",
       "│           ┆ mere      ┆ ind f…    ┆           ┆   ┆           ┆          ┆           ┆           │\n",
       "└───────────┴───────────┴───────────┴───────────┴───┴───────────┴──────────┴───────────┴───────────┘"
      ]
     },
     "execution_count": 10,
     "metadata": {},
     "output_type": "execute_result"
    }
   ],
   "source": [
    "articles = articles.with_columns(\n",
    "    pl.col('image_ids').list.len().alias('num_images'),\n",
    "    pl.col('title').str.split(by=' ').list.len().alias('title_len'),\n",
    "    pl.col('subtitle').str.split(by=' ').list.len().alias('subtitle_len'),\n",
    "    pl.col('body').str.split(by=' ').list.len().alias('body_len'),\n",
    "    # very important for tf-idf, otherwise multiple tokens for topics with spaces are built\n",
    "    pl.col('topics').list.eval(pl.element().str.split(by=' ').list.join('_')),\n",
    "    pl.col('topics').list.len().alias('num_topics'),\n",
    "    (pl.col('total_pageviews') / pl.col('total_inviews')).alias('total_pageviews/inviews')\n",
    ")\n",
    "articles = reduce_polars_df_memory_size(articles)\n",
    "\n",
    "gc.collect()\n",
    "PrintColor(f\"\\n\" + GetMemUsage(), color = Fore.RED)\n",
    "articles.head(2)"
   ]
  },
  {
   "cell_type": "code",
   "execution_count": 11,
   "id": "1f36ab68",
   "metadata": {
    "execution": {
     "iopub.execute_input": "2024-05-19T12:45:45.832483Z",
     "iopub.status.busy": "2024-05-19T12:45:45.831399Z",
     "iopub.status.idle": "2024-05-19T12:45:45.849777Z",
     "shell.execute_reply": "2024-05-19T12:45:45.848576Z"
    },
    "papermill": {
     "duration": 0.056018,
     "end_time": "2024-05-19T12:45:45.852705",
     "exception": false,
     "start_time": "2024-05-19T12:45:45.796687",
     "status": "completed"
    },
    "tags": []
   },
   "outputs": [
    {
     "data": {
      "text/plain": [
       "['LOC', 'PER', 'ORG', 'PROD', 'MISC', 'EVENT']"
      ]
     },
     "execution_count": 11,
     "metadata": {},
     "output_type": "execute_result"
    }
   ],
   "source": [
    "unique_entities = articles.select('entity_groups').explode('entity_groups')['entity_groups'].unique().to_list()\n",
    "unique_entities = [e for e in unique_entities if e is not None]\n",
    "unique_entities"
   ]
  },
  {
   "cell_type": "code",
   "execution_count": 12,
   "id": "582596b2",
   "metadata": {
    "execution": {
     "iopub.execute_input": "2024-05-19T12:45:45.920850Z",
     "iopub.status.busy": "2024-05-19T12:45:45.920400Z",
     "iopub.status.idle": "2024-05-19T12:45:45.931441Z",
     "shell.execute_reply": "2024-05-19T12:45:45.930394Z"
    },
    "papermill": {
     "duration": 0.048124,
     "end_time": "2024-05-19T12:45:45.933687",
     "exception": false,
     "start_time": "2024-05-19T12:45:45.885563",
     "status": "completed"
    },
    "tags": []
   },
   "outputs": [
    {
     "data": {
      "text/plain": [
       "{539: 'ferie',\n",
       " 414: 'underholdning',\n",
       " 2975: 'penge',\n",
       " 140: 'krimi',\n",
       " 2504: 'bibliotek',\n",
       " 572: 'side9',\n",
       " 2737: 'podcast',\n",
       " 561: 'haandvaerkeren',\n",
       " 457: 'forbrug',\n",
       " 498: 'musik',\n",
       " 22: 'horoskoper',\n",
       " 2889: 'auto',\n",
       " 2731: 'dagsorden',\n",
       " 2341: 'plus',\n",
       " 1505: 'vin',\n",
       " 118: 'nyheder',\n",
       " 806: 'om_ekstra_bladet',\n",
       " 529: 'biler',\n",
       " 2077: 'opinionen',\n",
       " 731: 'services',\n",
       " 2: 'incoming',\n",
       " 142: 'sport',\n",
       " 512: 'nationen',\n",
       " 68: 'video',\n",
       " 565: 'sex_og_samliv'}"
      ]
     },
     "execution_count": 12,
     "metadata": {},
     "output_type": "execute_result"
    }
   ],
   "source": [
    "# in case of two category_str for the same category, one of the two is picked\n",
    "unique_categories_df = articles.select(['category', 'category_str']).unique('category').drop_nulls('category')\n",
    "unique_categories = {\n",
    "    row['category']: row['category_str'] for row in unique_categories_df.iter_rows(named=True)\n",
    "}\n",
    "unique_categories"
   ]
  },
  {
   "cell_type": "markdown",
   "id": "16879713",
   "metadata": {
    "papermill": {
     "duration": 0.032308,
     "end_time": "2024-05-19T12:45:45.998783",
     "exception": false,
     "start_time": "2024-05-19T12:45:45.966475",
     "status": "completed"
    },
    "tags": []
   },
   "source": [
    "Mapping sentiment labels to -1, 0, 1 to save memory in the history dataframe.\n",
    "Taking only article_default type and mapping it to 0/1 since after only this is needed (and it saves memory) for the history at the moment"
   ]
  },
  {
   "cell_type": "code",
   "execution_count": 13,
   "id": "b5914ad1",
   "metadata": {
    "execution": {
     "iopub.execute_input": "2024-05-19T12:45:46.066342Z",
     "iopub.status.busy": "2024-05-19T12:45:46.065924Z",
     "iopub.status.idle": "2024-05-19T12:45:46.074149Z",
     "shell.execute_reply": "2024-05-19T12:45:46.072663Z"
    },
    "papermill": {
     "duration": 0.045587,
     "end_time": "2024-05-19T12:45:46.076688",
     "exception": false,
     "start_time": "2024-05-19T12:45:46.031101",
     "status": "completed"
    },
    "tags": []
   },
   "outputs": [],
   "source": [
    "articles = articles.with_columns(\n",
    "    pl.when(pl.col('sentiment_label') == 'Negative').then(-1) \\\n",
    "        .otherwise(\n",
    "            pl.when(pl.col('sentiment_label') == 'Positive').then(1).otherwise(0)\n",
    "        ).cast(pl.Int8).alias('sentiment_label_int'),\n",
    "    (pl.col('article_type') == 'article_default').cast(pl.UInt8).alias('is_article_default')\n",
    ")"
   ]
  },
  {
   "cell_type": "markdown",
   "id": "dbbe6374",
   "metadata": {
    "papermill": {
     "duration": 0.032181,
     "end_time": "2024-05-19T12:45:46.142415",
     "exception": false,
     "start_time": "2024-05-19T12:45:46.110234",
     "status": "completed"
    },
    "tags": []
   },
   "source": [
    "## Topics TF-IDF"
   ]
  },
  {
   "cell_type": "code",
   "execution_count": 14,
   "id": "6eb5f2fa",
   "metadata": {
    "execution": {
     "iopub.execute_input": "2024-05-19T12:45:46.210852Z",
     "iopub.status.busy": "2024-05-19T12:45:46.210407Z",
     "iopub.status.idle": "2024-05-19T12:45:46.785815Z",
     "shell.execute_reply": "2024-05-19T12:45:46.784513Z"
    },
    "papermill": {
     "duration": 0.612451,
     "end_time": "2024-05-19T12:45:46.788448",
     "exception": false,
     "start_time": "2024-05-19T12:45:46.175997",
     "status": "completed"
    },
    "tags": []
   },
   "outputs": [
    {
     "name": "stdout",
     "output_type": "stream",
     "text": [
      "\u001b[1m\u001b[31m\n",
      "RAM memory GB usage = 1.151\u001b[0m\n"
     ]
    },
    {
     "data": {
      "text/html": [
       "<div><style>\n",
       ".dataframe > thead > tr,\n",
       ".dataframe > tbody > tr {\n",
       "  text-align: right;\n",
       "  white-space: pre-wrap;\n",
       "}\n",
       "</style>\n",
       "<small>shape: (2, 30)</small><table border=\"1\" class=\"dataframe\"><thead><tr><th>article_id</th><th>title</th><th>subtitle</th><th>last_modified_time</th><th>premium</th><th>body</th><th>published_time</th><th>image_ids</th><th>article_type</th><th>url</th><th>ner_clusters</th><th>entity_groups</th><th>topics</th><th>category</th><th>subcategory</th><th>category_str</th><th>total_inviews</th><th>total_pageviews</th><th>total_read_time</th><th>sentiment_score</th><th>sentiment_label</th><th>num_images</th><th>title_len</th><th>subtitle_len</th><th>body_len</th><th>num_topics</th><th>total_pageviews/inviews</th><th>sentiment_label_int</th><th>is_article_default</th><th>topics_idf</th></tr><tr><td>i32</td><td>str</td><td>str</td><td>datetime[μs]</td><td>bool</td><td>str</td><td>datetime[μs]</td><td>list[i64]</td><td>str</td><td>str</td><td>list[str]</td><td>list[str]</td><td>list[str]</td><td>i16</td><td>list[i16]</td><td>str</td><td>i32</td><td>i32</td><td>f32</td><td>f32</td><td>str</td><td>u32</td><td>u8</td><td>u8</td><td>u16</td><td>u32</td><td>f32</td><td>i8</td><td>u8</td><td>list[f32]</td></tr></thead><tbody><tr><td>3001353</td><td>&quot;Natascha var ikke den første&quot;</td><td>&quot;Politiet frygter nu, at Natasc…</td><td>2023-06-29 06:20:33</td><td>false</td><td>&quot;Sagen om den østriske Natascha…</td><td>2006-08-31 08:06:45</td><td>[3150850]</td><td>&quot;article_default&quot;</td><td>&quot;https://ekstrabladet.dk/krimi/…</td><td>[]</td><td>[]</td><td>[&quot;Kriminalitet&quot;, &quot;Personfarlig_kriminalitet&quot;]</td><td>140</td><td>[]</td><td>&quot;krimi&quot;</td><td>null</td><td>null</td><td>null</td><td>0.9955</td><td>&quot;Negative&quot;</td><td>1</td><td>5</td><td>22</td><td>200</td><td>2</td><td>null</td><td>-1</td><td>1</td><td>[0.0, 0.0, … 0.0]</td></tr><tr><td>3003065</td><td>&quot;Kun Star Wars tjente mere&quot;</td><td>&quot;Biografgængerne strømmer ind f…</td><td>2023-06-29 06:20:35</td><td>false</td><td>&quot;Vatikanet har opfordret til at…</td><td>2006-05-21 16:57:00</td><td>[3006712]</td><td>&quot;article_default&quot;</td><td>&quot;https://ekstrabladet.dk/underh…</td><td>[]</td><td>[]</td><td>[&quot;Underholdning&quot;, &quot;Film_og_tv&quot;, &quot;Økonomi&quot;]</td><td>414</td><td>[433, 434]</td><td>&quot;underholdning&quot;</td><td>null</td><td>null</td><td>null</td><td>0.846</td><td>&quot;Positive&quot;</td><td>1</td><td>5</td><td>19</td><td>116</td><td>3</td><td>null</td><td>1</td><td>1</td><td>[0.0, 0.0, … 0.536059]</td></tr></tbody></table></div>"
      ],
      "text/plain": [
       "shape: (2, 30)\n",
       "┌───────────┬───────────┬───────────┬───────────┬───┬───────────┬───────────┬───────────┬──────────┐\n",
       "│ article_i ┆ title     ┆ subtitle  ┆ last_modi ┆ … ┆ total_pag ┆ sentiment ┆ is_articl ┆ topics_i │\n",
       "│ d         ┆ ---       ┆ ---       ┆ fied_time ┆   ┆ eviews/in ┆ _label_in ┆ e_default ┆ df       │\n",
       "│ ---       ┆ str       ┆ str       ┆ ---       ┆   ┆ views     ┆ t         ┆ ---       ┆ ---      │\n",
       "│ i32       ┆           ┆           ┆ datetime[ ┆   ┆ ---       ┆ ---       ┆ u8        ┆ list[f32 │\n",
       "│           ┆           ┆           ┆ μs]       ┆   ┆ f32       ┆ i8        ┆           ┆ ]        │\n",
       "╞═══════════╪═══════════╪═══════════╪═══════════╪═══╪═══════════╪═══════════╪═══════════╪══════════╡\n",
       "│ 3001353   ┆ Natascha  ┆ Politiet  ┆ 2023-06-2 ┆ … ┆ null      ┆ -1        ┆ 1         ┆ [0.0,    │\n",
       "│           ┆ var ikke  ┆ frygter   ┆ 9         ┆   ┆           ┆           ┆           ┆ 0.0, …   │\n",
       "│           ┆ den       ┆ nu, at    ┆ 06:20:33  ┆   ┆           ┆           ┆           ┆ 0.0]     │\n",
       "│           ┆ første    ┆ Natasc…   ┆           ┆   ┆           ┆           ┆           ┆          │\n",
       "│ 3003065   ┆ Kun Star  ┆ Biografgæ ┆ 2023-06-2 ┆ … ┆ null      ┆ 1         ┆ 1         ┆ [0.0,    │\n",
       "│           ┆ Wars      ┆ ngerne    ┆ 9         ┆   ┆           ┆           ┆           ┆ 0.0, …   │\n",
       "│           ┆ tjente    ┆ strømmer  ┆ 06:20:35  ┆   ┆           ┆           ┆           ┆ 0.536059 │\n",
       "│           ┆ mere      ┆ ind f…    ┆           ┆   ┆           ┆           ┆           ┆ ]        │\n",
       "└───────────┴───────────┴───────────┴───────────┴───┴───────────┴───────────┴───────────┴──────────┘"
      ]
     },
     "execution_count": 14,
     "metadata": {},
     "output_type": "execute_result"
    }
   ],
   "source": [
    "from sklearn.feature_extraction.text import TfidfVectorizer\n",
    "\n",
    "vectorizer = TfidfVectorizer()\n",
    "articles = articles.with_columns(\n",
    "    pl.Series(\n",
    "        vectorizer.fit_transform(\n",
    "            articles.with_columns(pl.col('topics').list.join(separator=' '))['topics'].to_list()\n",
    "        ).toarray().astype(np.float32)\n",
    "    ).alias('topics_idf')\n",
    ")\n",
    "\n",
    "gc.collect()\n",
    "PrintColor(f\"\\n\" + GetMemUsage(), color = Fore.RED)\n",
    "articles.head(2)"
   ]
  },
  {
   "cell_type": "code",
   "execution_count": 15,
   "id": "d3fc4424",
   "metadata": {
    "execution": {
     "iopub.execute_input": "2024-05-19T12:45:46.858531Z",
     "iopub.status.busy": "2024-05-19T12:45:46.858136Z",
     "iopub.status.idle": "2024-05-19T12:45:46.864945Z",
     "shell.execute_reply": "2024-05-19T12:45:46.863684Z"
    },
    "papermill": {
     "duration": 0.045141,
     "end_time": "2024-05-19T12:45:46.867497",
     "exception": false,
     "start_time": "2024-05-19T12:45:46.822356",
     "status": "completed"
    },
    "tags": []
   },
   "outputs": [
    {
     "data": {
      "text/plain": [
       "79"
      ]
     },
     "execution_count": 15,
     "metadata": {},
     "output_type": "execute_result"
    }
   ],
   "source": [
    "# without split + join with _ of the single topics this returns 94\n",
    "len(vectorizer.get_feature_names_out())"
   ]
  },
  {
   "cell_type": "markdown",
   "id": "c2ac30b7",
   "metadata": {
    "papermill": {
     "duration": 0.03299,
     "end_time": "2024-05-19T12:45:46.935267",
     "exception": false,
     "start_time": "2024-05-19T12:45:46.902277",
     "status": "completed"
    },
    "tags": []
   },
   "source": [
    "## Topic Model"
   ]
  },
  {
   "cell_type": "code",
   "execution_count": 16,
   "id": "eb663d70",
   "metadata": {
    "execution": {
     "iopub.execute_input": "2024-05-19T12:45:47.005707Z",
     "iopub.status.busy": "2024-05-19T12:45:47.005301Z",
     "iopub.status.idle": "2024-05-19T12:45:47.907134Z",
     "shell.execute_reply": "2024-05-19T12:45:47.906057Z"
    },
    "papermill": {
     "duration": 0.939577,
     "end_time": "2024-05-19T12:45:47.909872",
     "exception": false,
     "start_time": "2024-05-19T12:45:46.970295",
     "status": "completed"
    },
    "tags": []
   },
   "outputs": [],
   "source": [
    "import nltk\n",
    "from sklearn.feature_extraction.text import CountVectorizer\n",
    "\n",
    "stopwords = nltk.corpus.stopwords.words('danish')\n",
    "title_vectorizer = CountVectorizer(stop_words=stopwords)\n",
    "\n",
    "titles_bow = title_vectorizer.fit_transform(articles['title'].to_list())"
   ]
  },
  {
   "cell_type": "code",
   "execution_count": 17,
   "id": "a5b4c61f",
   "metadata": {
    "execution": {
     "iopub.execute_input": "2024-05-19T12:45:47.984680Z",
     "iopub.status.busy": "2024-05-19T12:45:47.982413Z",
     "iopub.status.idle": "2024-05-19T12:46:26.040651Z",
     "shell.execute_reply": "2024-05-19T12:46:26.039418Z"
    },
    "papermill": {
     "duration": 38.135707,
     "end_time": "2024-05-19T12:46:26.078708",
     "exception": false,
     "start_time": "2024-05-19T12:45:47.943001",
     "status": "completed"
    },
    "tags": []
   },
   "outputs": [
    {
     "name": "stdout",
     "output_type": "stream",
     "text": [
      "CPU times: user 37.9 s, sys: 0 ns, total: 37.9 s\n",
      "Wall time: 38 s\n"
     ]
    },
    {
     "data": {
      "text/html": [
       "<div><style>\n",
       ".dataframe > thead > tr,\n",
       ".dataframe > tbody > tr {\n",
       "  text-align: right;\n",
       "  white-space: pre-wrap;\n",
       "}\n",
       "</style>\n",
       "<small>shape: (2, 31)</small><table border=\"1\" class=\"dataframe\"><thead><tr><th>article_id</th><th>title</th><th>subtitle</th><th>last_modified_time</th><th>premium</th><th>body</th><th>published_time</th><th>image_ids</th><th>article_type</th><th>url</th><th>ner_clusters</th><th>entity_groups</th><th>topics</th><th>category</th><th>subcategory</th><th>category_str</th><th>total_inviews</th><th>total_pageviews</th><th>total_read_time</th><th>sentiment_score</th><th>sentiment_label</th><th>num_images</th><th>title_len</th><th>subtitle_len</th><th>body_len</th><th>num_topics</th><th>total_pageviews/inviews</th><th>sentiment_label_int</th><th>is_article_default</th><th>topics_idf</th><th>topic_model_embeddings</th></tr><tr><td>i32</td><td>str</td><td>str</td><td>datetime[μs]</td><td>bool</td><td>str</td><td>datetime[μs]</td><td>list[i64]</td><td>str</td><td>str</td><td>list[str]</td><td>list[str]</td><td>list[str]</td><td>i16</td><td>list[i16]</td><td>str</td><td>i32</td><td>i32</td><td>f32</td><td>f32</td><td>str</td><td>u32</td><td>u8</td><td>u8</td><td>u16</td><td>u32</td><td>f32</td><td>i8</td><td>u8</td><td>list[f32]</td><td>array[f32, 5]</td></tr></thead><tbody><tr><td>3001353</td><td>&quot;Natascha var ikke den første&quot;</td><td>&quot;Politiet frygter nu, at Natasc…</td><td>2023-06-29 06:20:33</td><td>false</td><td>&quot;Sagen om den østriske Natascha…</td><td>2006-08-31 08:06:45</td><td>[3150850]</td><td>&quot;article_default&quot;</td><td>&quot;https://ekstrabladet.dk/krimi/…</td><td>[]</td><td>[]</td><td>[&quot;Kriminalitet&quot;, &quot;Personfarlig_kriminalitet&quot;]</td><td>140</td><td>[]</td><td>&quot;krimi&quot;</td><td>null</td><td>null</td><td>null</td><td>0.9955</td><td>&quot;Negative&quot;</td><td>1</td><td>5</td><td>22</td><td>200</td><td>2</td><td>null</td><td>-1</td><td>1</td><td>[0.0, 0.0, … 0.0]</td><td>[0.143627, 0.143834, … 0.143573]</td></tr><tr><td>3003065</td><td>&quot;Kun Star Wars tjente mere&quot;</td><td>&quot;Biografgængerne strømmer ind f…</td><td>2023-06-29 06:20:35</td><td>false</td><td>&quot;Vatikanet har opfordret til at…</td><td>2006-05-21 16:57:00</td><td>[3006712]</td><td>&quot;article_default&quot;</td><td>&quot;https://ekstrabladet.dk/underh…</td><td>[]</td><td>[]</td><td>[&quot;Underholdning&quot;, &quot;Film_og_tv&quot;, &quot;Økonomi&quot;]</td><td>414</td><td>[433, 434]</td><td>&quot;underholdning&quot;</td><td>null</td><td>null</td><td>null</td><td>0.846</td><td>&quot;Positive&quot;</td><td>1</td><td>5</td><td>19</td><td>116</td><td>3</td><td>null</td><td>1</td><td>1</td><td>[0.0, 0.0, … 0.536059]</td><td>[0.243209, 0.193003, … 0.110556]</td></tr></tbody></table></div>"
      ],
      "text/plain": [
       "shape: (2, 31)\n",
       "┌───────────┬───────────┬───────────┬───────────┬───┬───────────┬───────────┬───────────┬──────────┐\n",
       "│ article_i ┆ title     ┆ subtitle  ┆ last_modi ┆ … ┆ sentiment ┆ is_articl ┆ topics_id ┆ topic_mo │\n",
       "│ d         ┆ ---       ┆ ---       ┆ fied_time ┆   ┆ _label_in ┆ e_default ┆ f         ┆ del_embe │\n",
       "│ ---       ┆ str       ┆ str       ┆ ---       ┆   ┆ t         ┆ ---       ┆ ---       ┆ ddings   │\n",
       "│ i32       ┆           ┆           ┆ datetime[ ┆   ┆ ---       ┆ u8        ┆ list[f32] ┆ ---      │\n",
       "│           ┆           ┆           ┆ μs]       ┆   ┆ i8        ┆           ┆           ┆ array[f3 │\n",
       "│           ┆           ┆           ┆           ┆   ┆           ┆           ┆           ┆ 2, 5]    │\n",
       "╞═══════════╪═══════════╪═══════════╪═══════════╪═══╪═══════════╪═══════════╪═══════════╪══════════╡\n",
       "│ 3001353   ┆ Natascha  ┆ Politiet  ┆ 2023-06-2 ┆ … ┆ -1        ┆ 1         ┆ [0.0,     ┆ [0.14362 │\n",
       "│           ┆ var ikke  ┆ frygter   ┆ 9         ┆   ┆           ┆           ┆ 0.0, …    ┆ 7, 0.143 │\n",
       "│           ┆ den       ┆ nu, at    ┆ 06:20:33  ┆   ┆           ┆           ┆ 0.0]      ┆ 834, …   │\n",
       "│           ┆ første    ┆ Natasc…   ┆           ┆   ┆           ┆           ┆           ┆ 0.14357… │\n",
       "│ 3003065   ┆ Kun Star  ┆ Biografgæ ┆ 2023-06-2 ┆ … ┆ 1         ┆ 1         ┆ [0.0,     ┆ [0.24320 │\n",
       "│           ┆ Wars      ┆ ngerne    ┆ 9         ┆   ┆           ┆           ┆ 0.0, …    ┆ 9, 0.193 │\n",
       "│           ┆ tjente    ┆ strømmer  ┆ 06:20:35  ┆   ┆           ┆           ┆ 0.536059] ┆ 003, …   │\n",
       "│           ┆ mere      ┆ ind f…    ┆           ┆   ┆           ┆           ┆           ┆ 0.11055… │\n",
       "└───────────┴───────────┴───────────┴───────────┴───┴───────────┴───────────┴───────────┴──────────┘"
      ]
     },
     "execution_count": 17,
     "metadata": {},
     "output_type": "execute_result"
    }
   ],
   "source": [
    "%%time\n",
    "\n",
    "from sklearn.decomposition import LatentDirichletAllocation\n",
    "\n",
    "# parameters tuned on perplexity\n",
    "N_COMPONENTS = 5\n",
    "lda_model = LatentDirichletAllocation(\n",
    "    n_components=N_COMPONENTS,\n",
    "    doc_topic_prior=0.99,\n",
    "    topic_word_prior=0.75,\n",
    "    learning_method='online'\n",
    ")\n",
    "articles = articles.with_columns(\n",
    "    pl.Series(lda_model.fit_transform(titles_bow).astype(np.float32)) \\\n",
    "        .list.to_array(5).alias('topic_model_embeddings')\n",
    ")\n",
    "articles.head(2)"
   ]
  },
  {
   "cell_type": "code",
   "execution_count": 18,
   "id": "085228be",
   "metadata": {
    "execution": {
     "iopub.execute_input": "2024-05-19T12:46:26.150335Z",
     "iopub.status.busy": "2024-05-19T12:46:26.149697Z",
     "iopub.status.idle": "2024-05-19T12:46:26.164327Z",
     "shell.execute_reply": "2024-05-19T12:46:26.163143Z"
    },
    "papermill": {
     "duration": 0.053354,
     "end_time": "2024-05-19T12:46:26.167018",
     "exception": false,
     "start_time": "2024-05-19T12:46:26.113664",
     "status": "completed"
    },
    "tags": []
   },
   "outputs": [
    {
     "data": {
      "text/html": [
       "<div><style>\n",
       ".dataframe > thead > tr,\n",
       ".dataframe > tbody > tr {\n",
       "  text-align: right;\n",
       "  white-space: pre-wrap;\n",
       "}\n",
       "</style>\n",
       "<small>shape: (2, 35)</small><table border=\"1\" class=\"dataframe\"><thead><tr><th>article_id</th><th>title</th><th>subtitle</th><th>last_modified_time</th><th>premium</th><th>body</th><th>published_time</th><th>image_ids</th><th>article_type</th><th>url</th><th>ner_clusters</th><th>entity_groups</th><th>topics</th><th>category</th><th>subcategory</th><th>category_str</th><th>total_inviews</th><th>total_pageviews</th><th>total_read_time</th><th>sentiment_score</th><th>sentiment_label</th><th>num_images</th><th>title_len</th><th>subtitle_len</th><th>body_len</th><th>num_topics</th><th>total_pageviews/inviews</th><th>sentiment_label_int</th><th>is_article_default</th><th>topics_idf</th><th>topic_model_embedding_0</th><th>topic_model_embedding_1</th><th>topic_model_embedding_2</th><th>topic_model_embedding_3</th><th>topic_model_embedding_4</th></tr><tr><td>i32</td><td>str</td><td>str</td><td>datetime[μs]</td><td>bool</td><td>str</td><td>datetime[μs]</td><td>list[i64]</td><td>str</td><td>str</td><td>list[str]</td><td>list[str]</td><td>list[str]</td><td>i16</td><td>list[i16]</td><td>str</td><td>i32</td><td>i32</td><td>f32</td><td>f32</td><td>str</td><td>u32</td><td>u8</td><td>u8</td><td>u16</td><td>u32</td><td>f32</td><td>i8</td><td>u8</td><td>list[f32]</td><td>f32</td><td>f32</td><td>f32</td><td>f32</td><td>f32</td></tr></thead><tbody><tr><td>3001353</td><td>&quot;Natascha var ikke den første&quot;</td><td>&quot;Politiet frygter nu, at Natasc…</td><td>2023-06-29 06:20:33</td><td>false</td><td>&quot;Sagen om den østriske Natascha…</td><td>2006-08-31 08:06:45</td><td>[3150850]</td><td>&quot;article_default&quot;</td><td>&quot;https://ekstrabladet.dk/krimi/…</td><td>[]</td><td>[]</td><td>[&quot;Kriminalitet&quot;, &quot;Personfarlig_kriminalitet&quot;]</td><td>140</td><td>[]</td><td>&quot;krimi&quot;</td><td>null</td><td>null</td><td>null</td><td>0.9955</td><td>&quot;Negative&quot;</td><td>1</td><td>5</td><td>22</td><td>200</td><td>2</td><td>null</td><td>-1</td><td>1</td><td>[0.0, 0.0, … 0.0]</td><td>0.143627</td><td>0.143834</td><td>0.287673</td><td>0.281293</td><td>0.143573</td></tr><tr><td>3003065</td><td>&quot;Kun Star Wars tjente mere&quot;</td><td>&quot;Biografgængerne strømmer ind f…</td><td>2023-06-29 06:20:35</td><td>false</td><td>&quot;Vatikanet har opfordret til at…</td><td>2006-05-21 16:57:00</td><td>[3006712]</td><td>&quot;article_default&quot;</td><td>&quot;https://ekstrabladet.dk/underh…</td><td>[]</td><td>[]</td><td>[&quot;Underholdning&quot;, &quot;Film_og_tv&quot;, &quot;Økonomi&quot;]</td><td>414</td><td>[433, 434]</td><td>&quot;underholdning&quot;</td><td>null</td><td>null</td><td>null</td><td>0.846</td><td>&quot;Positive&quot;</td><td>1</td><td>5</td><td>19</td><td>116</td><td>3</td><td>null</td><td>1</td><td>1</td><td>[0.0, 0.0, … 0.536059]</td><td>0.243209</td><td>0.193003</td><td>0.336253</td><td>0.116979</td><td>0.110556</td></tr></tbody></table></div>"
      ],
      "text/plain": [
       "shape: (2, 35)\n",
       "┌───────────┬───────────┬───────────┬───────────┬───┬───────────┬───────────┬───────────┬──────────┐\n",
       "│ article_i ┆ title     ┆ subtitle  ┆ last_modi ┆ … ┆ topic_mod ┆ topic_mod ┆ topic_mod ┆ topic_mo │\n",
       "│ d         ┆ ---       ┆ ---       ┆ fied_time ┆   ┆ el_embedd ┆ el_embedd ┆ el_embedd ┆ del_embe │\n",
       "│ ---       ┆ str       ┆ str       ┆ ---       ┆   ┆ ing_1     ┆ ing_2     ┆ ing_3     ┆ dding_4  │\n",
       "│ i32       ┆           ┆           ┆ datetime[ ┆   ┆ ---       ┆ ---       ┆ ---       ┆ ---      │\n",
       "│           ┆           ┆           ┆ μs]       ┆   ┆ f32       ┆ f32       ┆ f32       ┆ f32      │\n",
       "╞═══════════╪═══════════╪═══════════╪═══════════╪═══╪═══════════╪═══════════╪═══════════╪══════════╡\n",
       "│ 3001353   ┆ Natascha  ┆ Politiet  ┆ 2023-06-2 ┆ … ┆ 0.143834  ┆ 0.287673  ┆ 0.281293  ┆ 0.143573 │\n",
       "│           ┆ var ikke  ┆ frygter   ┆ 9         ┆   ┆           ┆           ┆           ┆          │\n",
       "│           ┆ den       ┆ nu, at    ┆ 06:20:33  ┆   ┆           ┆           ┆           ┆          │\n",
       "│           ┆ første    ┆ Natasc…   ┆           ┆   ┆           ┆           ┆           ┆          │\n",
       "│ 3003065   ┆ Kun Star  ┆ Biografgæ ┆ 2023-06-2 ┆ … ┆ 0.193003  ┆ 0.336253  ┆ 0.116979  ┆ 0.110556 │\n",
       "│           ┆ Wars      ┆ ngerne    ┆ 9         ┆   ┆           ┆           ┆           ┆          │\n",
       "│           ┆ tjente    ┆ strømmer  ┆ 06:20:35  ┆   ┆           ┆           ┆           ┆          │\n",
       "│           ┆ mere      ┆ ind f…    ┆           ┆   ┆           ┆           ┆           ┆          │\n",
       "└───────────┴───────────┴───────────┴───────────┴───┴───────────┴───────────┴───────────┴──────────┘"
      ]
     },
     "execution_count": 18,
     "metadata": {},
     "output_type": "execute_result"
    }
   ],
   "source": [
    "topic_model_columns = [f'topic_model_embedding_{i}' for i in range(N_COMPONENTS)]\n",
    "\n",
    "articles = articles.with_columns(\n",
    "    pl.col('topic_model_embeddings').arr.to_struct(fields=lambda i: f'topic_model_embedding_{i}')\n",
    ").with_columns([\n",
    "    pl.col('topic_model_embeddings').struct.field(f'topic_model_embedding_{i}') for i in range(N_COMPONENTS)\n",
    "]).drop('topic_model_embeddings')\n",
    "\n",
    "articles.head(2)"
   ]
  },
  {
   "cell_type": "markdown",
   "id": "e037f66c",
   "metadata": {
    "papermill": {
     "duration": 0.033298,
     "end_time": "2024-05-19T12:46:26.234057",
     "exception": false,
     "start_time": "2024-05-19T12:46:26.200759",
     "status": "completed"
    },
    "tags": []
   },
   "source": [
    "# History preprocessing"
   ]
  },
  {
   "cell_type": "code",
   "execution_count": 19,
   "id": "b0064f3c",
   "metadata": {
    "execution": {
     "iopub.execute_input": "2024-05-19T12:46:26.303095Z",
     "iopub.status.busy": "2024-05-19T12:46:26.302716Z",
     "iopub.status.idle": "2024-05-19T12:46:26.309016Z",
     "shell.execute_reply": "2024-05-19T12:46:26.307783Z"
    },
    "papermill": {
     "duration": 0.043935,
     "end_time": "2024-05-19T12:46:26.311471",
     "exception": false,
     "start_time": "2024-05-19T12:46:26.267536",
     "status": "completed"
    },
    "tags": []
   },
   "outputs": [],
   "source": [
    "def add_topics_tf_idf_columns(df, topics_col, vectorizer):\n",
    "    return df.with_columns(\n",
    "        pl.Series(\n",
    "            vectorizer.transform(\n",
    "                df.with_columns(pl.col(topics_col).list.join(separator=' '))[topics_col].to_list()\n",
    "            ).toarray().astype(np.float32)\n",
    "        ).alias(f'{topics_col}_tf_idf')\n",
    "    )"
   ]
  },
  {
   "cell_type": "code",
   "execution_count": 20,
   "id": "0f19f4a8",
   "metadata": {
    "execution": {
     "iopub.execute_input": "2024-05-19T12:46:26.381270Z",
     "iopub.status.busy": "2024-05-19T12:46:26.380427Z",
     "iopub.status.idle": "2024-05-19T12:46:45.009569Z",
     "shell.execute_reply": "2024-05-19T12:46:45.008376Z"
    },
    "papermill": {
     "duration": 18.667459,
     "end_time": "2024-05-19T12:46:45.012559",
     "exception": false,
     "start_time": "2024-05-19T12:46:26.345100",
     "status": "completed"
    },
    "tags": []
   },
   "outputs": [
    {
     "name": "stderr",
     "output_type": "stream",
     "text": [
      "16it [00:17,  1.12s/it]                        \n"
     ]
    },
    {
     "name": "stdout",
     "output_type": "stream",
     "text": [
      "\u001b[1m\u001b[31m\n",
      "RAM memory GB usage = 1.264\u001b[0m\n",
      "Memory usage of dataframe is 39.38 MB\n",
      "Memory usage after optimization is: 38.61 MB\n",
      "Decreased by 2.0%\n",
      "CPU times: user 20.9 s, sys: 1.81 s, total: 22.8 s\n",
      "Wall time: 18.6 s\n"
     ]
    },
    {
     "data": {
      "text/html": [
       "<div><style>\n",
       ".dataframe > thead > tr,\n",
       ".dataframe > tbody > tr {\n",
       "  text-align: right;\n",
       "  white-space: pre-wrap;\n",
       "}\n",
       "</style>\n",
       "<small>shape: (2, 27)</small><table border=\"1\" class=\"dataframe\"><thead><tr><th>user_id</th><th>article_id_fixed</th><th>impression_time_fixed</th><th>category</th><th>NumArticlesHistory</th><th>MedianReadTime</th><th>MaxReadTime</th><th>TotalReadTime</th><th>MedianScrollPercentage</th><th>MaxScrollPercentage</th><th>NeutralPct</th><th>PositivePct</th><th>NegativePct</th><th>PctStrongNeutral</th><th>PctStrongPositive</th><th>PctStrongNegative</th><th>PctNotDefaultArticles</th><th>MostFrequentCategory</th><th>MostFrequentWeekday</th><th>MostFrequentHour</th><th>topics_flatten_tf_idf</th><th>LOCPct</th><th>PERPct</th><th>ORGPct</th><th>PRODPct</th><th>MISCPct</th><th>EVENTPct</th></tr><tr><td>u32</td><td>list[i32]</td><td>list[datetime[μs]]</td><td>list[i16]</td><td>u16</td><td>f32</td><td>f32</td><td>f32</td><td>f32</td><td>f32</td><td>f32</td><td>f32</td><td>f32</td><td>f32</td><td>f32</td><td>f32</td><td>f32</td><td>i16</td><td>i8</td><td>i8</td><td>list[f32]</td><td>f32</td><td>f32</td><td>f32</td><td>f32</td><td>f32</td><td>f32</td></tr></thead><tbody><tr><td>10623</td><td>[9739035, 9739065, … 9770533]</td><td>[2023-04-27 14:29:44, 2023-04-27 14:29:47, … 2023-05-17 17:36:24]</td><td>[118, 414, … 140]</td><td>143</td><td>3.0</td><td>1563.0</td><td>9623.0</td><td>42.5</td><td>100.0</td><td>0.230769</td><td>0.111888</td><td>0.657343</td><td>0.097902</td><td>0.083916</td><td>0.608392</td><td>0.06993</td><td>118</td><td>3</td><td>16</td><td>[0.016041, 0.062928, … 0.178427]</td><td>0.804196</td><td>0.874126</td><td>0.888112</td><td>0.237762</td><td>0.223776</td><td>0.202797</td></tr><tr><td>12016</td><td>[9738216, 9735383, … 9769622]</td><td>[2023-04-27 07:39:48, 2023-04-27 07:41:30, … 2023-05-17 23:56:30]</td><td>[140, 118, … 140]</td><td>264</td><td>156.0</td><td>1775.0</td><td>63672.0</td><td>100.0</td><td>100.0</td><td>0.257576</td><td>0.075758</td><td>0.666667</td><td>0.106061</td><td>0.034091</td><td>0.602273</td><td>0.07197</td><td>140</td><td>5</td><td>20</td><td>[0.009749, 0.045896, … 0.075912]</td><td>0.776515</td><td>0.787879</td><td>0.852273</td><td>0.318182</td><td>0.117424</td><td>0.087121</td></tr></tbody></table></div>"
      ],
      "text/plain": [
       "shape: (2, 27)\n",
       "┌─────────┬─────────────┬─────────────┬────────────┬───┬──────────┬──────────┬──────────┬──────────┐\n",
       "│ user_id ┆ article_id_ ┆ impression_ ┆ category   ┆ … ┆ ORGPct   ┆ PRODPct  ┆ MISCPct  ┆ EVENTPct │\n",
       "│ ---     ┆ fixed       ┆ time_fixed  ┆ ---        ┆   ┆ ---      ┆ ---      ┆ ---      ┆ ---      │\n",
       "│ u32     ┆ ---         ┆ ---         ┆ list[i16]  ┆   ┆ f32      ┆ f32      ┆ f32      ┆ f32      │\n",
       "│         ┆ list[i32]   ┆ list[dateti ┆            ┆   ┆          ┆          ┆          ┆          │\n",
       "│         ┆             ┆ me[μs]]     ┆            ┆   ┆          ┆          ┆          ┆          │\n",
       "╞═════════╪═════════════╪═════════════╪════════════╪═══╪══════════╪══════════╪══════════╪══════════╡\n",
       "│ 10623   ┆ [9739035,   ┆ [2023-04-27 ┆ [118, 414, ┆ … ┆ 0.888112 ┆ 0.237762 ┆ 0.223776 ┆ 0.202797 │\n",
       "│         ┆ 9739065, …  ┆ 14:29:44,   ┆ … 140]     ┆   ┆          ┆          ┆          ┆          │\n",
       "│         ┆ 9770533]    ┆ 2023-04-…   ┆            ┆   ┆          ┆          ┆          ┆          │\n",
       "│ 12016   ┆ [9738216,   ┆ [2023-04-27 ┆ [140, 118, ┆ … ┆ 0.852273 ┆ 0.318182 ┆ 0.117424 ┆ 0.087121 │\n",
       "│         ┆ 9735383, …  ┆ 07:39:48,   ┆ … 140]     ┆   ┆          ┆          ┆          ┆          │\n",
       "│         ┆ 9769622]    ┆ 2023-04-…   ┆            ┆   ┆          ┆          ┆          ┆          │\n",
       "└─────────┴─────────────┴─────────────┴────────────┴───┴──────────┴──────────┴──────────┴──────────┘"
      ]
     },
     "execution_count": 20,
     "metadata": {},
     "output_type": "execute_result"
    }
   ],
   "source": [
    "%%time\n",
    "\n",
    "STRONG_THR = 0.8\n",
    "\n",
    "history_train = pl.concat(\n",
    "    rows.with_columns(pl.col('article_id_fixed').list.len().alias('NumArticlesHistory')) \\\n",
    "        .explode(['article_id_fixed', 'impression_time_fixed', 'read_time_fixed', 'scroll_percentage_fixed']) \\\n",
    "        .sort(by=['user_id', 'impression_time_fixed']) \\\n",
    "        .with_columns(\n",
    "            pl.col('impression_time_fixed').dt.weekday().alias('weekday'),\n",
    "            pl.col('impression_time_fixed').dt.hour().alias('hour'),\n",
    "        ).join(articles.select(['article_id', 'category', 'is_article_default', 'sentiment_label_int', \n",
    "                                'sentiment_score', 'entity_groups', 'topics']), \n",
    "               left_on='article_id_fixed', right_on='article_id', how='left') \\\n",
    "        .with_columns(\n",
    "            (pl.col('sentiment_label_int') == 0).alias('is_neutral'),\n",
    "            (pl.col('sentiment_label_int') == 1).alias('is_positive'),\n",
    "            (pl.col('sentiment_label_int') == -1).alias('is_negative'),\n",
    "            ((pl.col('sentiment_label_int') == 0) & (pl.col('sentiment_score') > STRONG_THR)).alias('strong_neutral'),\n",
    "            ((pl.col('sentiment_label_int') == 1) & (pl.col('sentiment_score') > STRONG_THR)).alias('strong_positive'),\n",
    "            ((pl.col('sentiment_label_int') == -1) & (pl.col('sentiment_score') > STRONG_THR)).alias('strong_negative'),\n",
    "            pl.col('entity_groups').list.unique(),\n",
    "        ).group_by('user_id').agg(\n",
    "            pl.col('article_id_fixed'),\n",
    "            pl.col('impression_time_fixed'),\n",
    "            pl.col('category'),\n",
    "            pl.col('NumArticlesHistory').first(),\n",
    "            pl.col('read_time_fixed').median().alias('MedianReadTime'),\n",
    "            pl.col('read_time_fixed').max().alias('MaxReadTime'),\n",
    "            pl.col('read_time_fixed').sum().alias('TotalReadTime'),\n",
    "            pl.col('scroll_percentage_fixed').median().alias('MedianScrollPercentage'),\n",
    "            pl.col('scroll_percentage_fixed').max().alias('MaxScrollPercentage'),\n",
    "            (pl.col('is_neutral').sum() / pl.col('NumArticlesHistory').first()).alias('NeutralPct'),\n",
    "            (pl.col('is_positive').sum() / pl.col('NumArticlesHistory').first()).alias('PositivePct'),\n",
    "            (pl.col('is_negative').sum() / pl.col('NumArticlesHistory').first()).alias('NegativePct'),\n",
    "            (pl.col('strong_neutral').sum() / pl.col('NumArticlesHistory').first()).alias('PctStrongNeutral'),\n",
    "            (pl.col('strong_positive').sum() / pl.col('NumArticlesHistory').first()).alias('PctStrongPositive'),\n",
    "            (pl.col('strong_negative').sum() / pl.col('NumArticlesHistory').first()).alias('PctStrongNegative'),\n",
    "            (1 - (pl.col('is_article_default').sum() / pl.col('NumArticlesHistory').first())).alias('PctNotDefaultArticles'),\n",
    "            pl.col('category').mode().alias('MostFrequentCategory'),\n",
    "            pl.col('weekday').mode().alias('MostFrequentWeekday'),\n",
    "            pl.col('hour').mode().alias('MostFrequentHour'),\n",
    "            pl.col('entity_groups').flatten(),\n",
    "            pl.col('topics').flatten().alias('topics_flatten')\n",
    "        ).pipe(add_topics_tf_idf_columns, topics_col='topics_flatten', vectorizer=vectorizer) \\\n",
    "        .drop('topics_flatten').with_columns(\n",
    "            pl.col('MostFrequentCategory').list.first(),\n",
    "            pl.col('MostFrequentWeekday').list.first(),\n",
    "            pl.col('MostFrequentHour').list.first(),\n",
    "        ).with_columns(\n",
    "            (pl.col('entity_groups').list.count_matches(entity) / pl.col('NumArticlesHistory')).alias(f'{entity}Pct')\n",
    "            for entity in unique_entities\n",
    "        ).drop('entity_groups')\n",
    "    for rows in tqdm.tqdm(history_train.iter_slices(1000), total=history_train.shape[0] // 1000)\n",
    ")\n",
    "\n",
    "gc.collect()\n",
    "PrintColor(f\"\\n\" + GetMemUsage(), color = Fore.RED)\n",
    "history_train = reduce_polars_df_memory_size(history_train)\n",
    "history_train.head(2)"
   ]
  },
  {
   "cell_type": "code",
   "execution_count": 21,
   "id": "d44540a4",
   "metadata": {
    "execution": {
     "iopub.execute_input": "2024-05-19T12:46:45.088346Z",
     "iopub.status.busy": "2024-05-19T12:46:45.087718Z",
     "iopub.status.idle": "2024-05-19T12:46:45.094553Z",
     "shell.execute_reply": "2024-05-19T12:46:45.093436Z"
    },
    "papermill": {
     "duration": 0.047819,
     "end_time": "2024-05-19T12:46:45.096857",
     "exception": false,
     "start_time": "2024-05-19T12:46:45.049038",
     "status": "completed"
    },
    "tags": []
   },
   "outputs": [
    {
     "data": {
      "text/plain": [
       "(15143, 27)"
      ]
     },
     "execution_count": 21,
     "metadata": {},
     "output_type": "execute_result"
    }
   ],
   "source": [
    "history_train.shape"
   ]
  },
  {
   "cell_type": "markdown",
   "id": "e460ca55",
   "metadata": {
    "papermill": {
     "duration": 0.036187,
     "end_time": "2024-05-19T12:46:45.169550",
     "exception": false,
     "start_time": "2024-05-19T12:46:45.133363",
     "status": "completed"
    },
    "tags": []
   },
   "source": [
    "# Named entity collaborative filtering"
   ]
  },
  {
   "cell_type": "code",
   "execution_count": 22,
   "id": "713c5eb6",
   "metadata": {
    "execution": {
     "iopub.execute_input": "2024-05-19T12:46:45.247277Z",
     "iopub.status.busy": "2024-05-19T12:46:45.246628Z",
     "iopub.status.idle": "2024-05-19T12:46:45.343694Z",
     "shell.execute_reply": "2024-05-19T12:46:45.342004Z"
    },
    "papermill": {
     "duration": 0.139573,
     "end_time": "2024-05-19T12:46:45.346861",
     "exception": false,
     "start_time": "2024-05-19T12:46:45.207288",
     "status": "completed"
    },
    "tags": []
   },
   "outputs": [],
   "source": [
    "user_id_mapping = history_train.sort('user_id').with_row_index() \\\n",
    "    .select(['index', 'user_id']).rename({'index': 'user_index'})\n",
    "\n",
    "ner_mapping = articles.select(['ner_clusters']) \\\n",
    "    .explode('ner_clusters') \\\n",
    "    .rename({'ner_clusters': 'ner'}) \\\n",
    "    .with_columns(pl.col('ner').str.strip_chars_start('\\\" ').str.to_lowercase()) \\\n",
    "    .unique('ner').drop_nulls().filter(pl.col('ner').str.len_chars() > 0) \\\n",
    "    .sort('ner').with_row_index().rename({'index': 'ner_index'})"
   ]
  },
  {
   "cell_type": "code",
   "execution_count": 23,
   "id": "2517b75b",
   "metadata": {
    "execution": {
     "iopub.execute_input": "2024-05-19T12:46:45.422329Z",
     "iopub.status.busy": "2024-05-19T12:46:45.421912Z",
     "iopub.status.idle": "2024-05-19T12:47:01.792844Z",
     "shell.execute_reply": "2024-05-19T12:47:01.791440Z"
    },
    "papermill": {
     "duration": 16.411394,
     "end_time": "2024-05-19T12:47:01.795721",
     "exception": false,
     "start_time": "2024-05-19T12:46:45.384327",
     "status": "completed"
    },
    "tags": []
   },
   "outputs": [],
   "source": [
    "ner_interactions = history_train.select(['user_id', 'article_id_fixed']).explode('article_id_fixed') \\\n",
    "    .join(articles.select(['article_id', 'ner_clusters']), left_on='article_id_fixed', right_on='article_id', how='left') \\\n",
    "    .explode('ner_clusters').unique(['user_id', 'ner_clusters']) \\\n",
    "    .with_columns(pl.col('ner_clusters').str.strip_chars_start('\\\" ').str.to_lowercase()) \\\n",
    "    .join(user_id_mapping, on='user_id', how='left') \\\n",
    "    .join(ner_mapping, left_on='ner_clusters', right_on='ner') \\\n",
    "    .select(['user_index', 'ner_index', 'user_id', 'article_id_fixed']) \\\n",
    "    .unique(['user_index', 'ner_index'])\n",
    "\n",
    "URM_ner = sps.csr_matrix((np.ones(ner_interactions.shape[0]),\n",
    "                          (ner_interactions['user_index'].to_numpy(), ner_interactions['ner_index'].to_numpy())),\n",
    "                         shape=(user_id_mapping.shape[0], ner_mapping.shape[0]))\n",
    "\n",
    "ner_interactions_test = behaviors_train.select(['user_id', 'article_ids_clicked']).explode('article_ids_clicked') \\\n",
    "    .join(articles.select(['article_id', 'ner_clusters']), left_on='article_ids_clicked', right_on='article_id', how='left') \\\n",
    "    .explode('ner_clusters').unique(['user_id', 'ner_clusters']) \\\n",
    "    .with_columns(pl.col('ner_clusters').str.strip_chars_start('\\\" ').str.to_lowercase()) \\\n",
    "    .join(user_id_mapping, on='user_id', how='left') \\\n",
    "    .join(ner_mapping, left_on='ner_clusters', right_on='ner') \\\n",
    "    .select(['user_index', 'ner_index', 'user_id', 'article_ids_clicked']) \\\n",
    "    .unique(['user_index', 'ner_index'])\n",
    "\n",
    "URM_ner_test = sps.csr_matrix((np.ones(ner_interactions_test.shape[0]),\n",
    "                               (ner_interactions_test['user_index'].to_numpy(), ner_interactions_test['ner_index'].to_numpy())),\n",
    "                              shape=(user_id_mapping.shape[0], ner_mapping.shape[0]))"
   ]
  },
  {
   "cell_type": "code",
   "execution_count": 24,
   "id": "6ad1cf10",
   "metadata": {
    "execution": {
     "iopub.execute_input": "2024-05-19T12:47:01.870961Z",
     "iopub.status.busy": "2024-05-19T12:47:01.870494Z",
     "iopub.status.idle": "2024-05-19T12:47:06.209334Z",
     "shell.execute_reply": "2024-05-19T12:47:06.207992Z"
    },
    "papermill": {
     "duration": 4.379775,
     "end_time": "2024-05-19T12:47:06.212312",
     "exception": false,
     "start_time": "2024-05-19T12:47:01.832537",
     "status": "completed"
    },
    "tags": []
   },
   "outputs": [
    {
     "name": "stdout",
     "output_type": "stream",
     "text": [
      "/kaggle/working\n"
     ]
    },
    {
     "name": "stderr",
     "output_type": "stream",
     "text": [
      "/opt/conda/lib/python3.10/pty.py:89: RuntimeWarning: os.fork() was called. os.fork() is incompatible with multithreaded code, and JAX is multithreaded, so this will likely lead to a deadlock.\n",
      "  pid, fd = os.forkpty()\n"
     ]
    },
    {
     "name": "stdout",
     "output_type": "stream",
     "text": [
      "Cloning into 'RecSys_Course_AT_PoliMi'...\r\n",
      "remote: Enumerating objects: 1519, done.\u001b[K\r\n",
      "remote: Counting objects: 100% (255/255), done.\u001b[K\r\n",
      "remote: Compressing objects: 100% (43/43), done.\u001b[K\r\n",
      "remote: Total 1519 (delta 223), reused 220 (delta 212), pack-reused 1264\u001b[K\r\n",
      "Receiving objects: 100% (1519/1519), 50.33 MiB | 24.67 MiB/s, done.\r\n",
      "Resolving deltas: 100% (909/909), done.\r\n"
     ]
    }
   ],
   "source": [
    "%cd /kaggle/working\n",
    "! git clone https://github.com/MaurizioFD/RecSys_Course_AT_PoliMi.git"
   ]
  },
  {
   "cell_type": "code",
   "execution_count": 25,
   "id": "5b262dc3",
   "metadata": {
    "execution": {
     "iopub.execute_input": "2024-05-19T12:47:06.296076Z",
     "iopub.status.busy": "2024-05-19T12:47:06.295618Z",
     "iopub.status.idle": "2024-05-19T12:52:29.005780Z",
     "shell.execute_reply": "2024-05-19T12:52:29.004719Z"
    },
    "papermill": {
     "duration": 322.755523,
     "end_time": "2024-05-19T12:52:29.008390",
     "exception": false,
     "start_time": "2024-05-19T12:47:06.252867",
     "status": "completed"
    },
    "tags": []
   },
   "outputs": [
    {
     "name": "stdout",
     "output_type": "stream",
     "text": [
      "/kaggle/working/RecSys_Course_AT_PoliMi\n",
      "ItemKNNCFRecommender: URM Detected 1 ( 0.0%) users with no interactions.\n",
      "ItemKNNCFRecommender: URM Detected 18909 (43.2%) items with no interactions.\n",
      "Unable to load Cython Compute_Similarity, reverting to Python\n",
      "Similarity column 43774 (100.0%), 158.30 column/sec. Elapsed time 4.61 min\n",
      "EvaluatorHoldout: Ignoring 31 ( 0.2%) Users that have less than 1 test interactions\n",
      "EvaluatorHoldout: Processed 15112 (100.0%) in 45.19 sec. Users per second: 334\n"
     ]
    },
    {
     "data": {
      "text/html": [
       "<div>\n",
       "<style scoped>\n",
       "    .dataframe tbody tr th:only-of-type {\n",
       "        vertical-align: middle;\n",
       "    }\n",
       "\n",
       "    .dataframe tbody tr th {\n",
       "        vertical-align: top;\n",
       "    }\n",
       "\n",
       "    .dataframe thead th {\n",
       "        text-align: right;\n",
       "    }\n",
       "</style>\n",
       "<table border=\"1\" class=\"dataframe\">\n",
       "  <thead>\n",
       "    <tr style=\"text-align: right;\">\n",
       "      <th></th>\n",
       "      <th>PRECISION</th>\n",
       "      <th>PRECISION_RECALL_MIN_DEN</th>\n",
       "      <th>RECALL</th>\n",
       "      <th>MAP</th>\n",
       "      <th>MAP_MIN_DEN</th>\n",
       "      <th>MRR</th>\n",
       "      <th>NDCG</th>\n",
       "      <th>F1</th>\n",
       "      <th>HIT_RATE</th>\n",
       "      <th>ARHR_ALL_HITS</th>\n",
       "      <th>...</th>\n",
       "      <th>COVERAGE_USER</th>\n",
       "      <th>COVERAGE_USER_HIT</th>\n",
       "      <th>USERS_IN_GT</th>\n",
       "      <th>DIVERSITY_GINI</th>\n",
       "      <th>SHANNON_ENTROPY</th>\n",
       "      <th>RATIO_DIVERSITY_HERFINDAHL</th>\n",
       "      <th>RATIO_DIVERSITY_GINI</th>\n",
       "      <th>RATIO_SHANNON_ENTROPY</th>\n",
       "      <th>RATIO_AVERAGE_POPULARITY</th>\n",
       "      <th>RATIO_NOVELTY</th>\n",
       "    </tr>\n",
       "    <tr>\n",
       "      <th>cutoff</th>\n",
       "      <th></th>\n",
       "      <th></th>\n",
       "      <th></th>\n",
       "      <th></th>\n",
       "      <th></th>\n",
       "      <th></th>\n",
       "      <th></th>\n",
       "      <th></th>\n",
       "      <th></th>\n",
       "      <th></th>\n",
       "      <th></th>\n",
       "      <th></th>\n",
       "      <th></th>\n",
       "      <th></th>\n",
       "      <th></th>\n",
       "      <th></th>\n",
       "      <th></th>\n",
       "      <th></th>\n",
       "      <th></th>\n",
       "      <th></th>\n",
       "      <th></th>\n",
       "    </tr>\n",
       "  </thead>\n",
       "  <tbody>\n",
       "    <tr>\n",
       "      <th>10</th>\n",
       "      <td>0.311971</td>\n",
       "      <td>0.312913</td>\n",
       "      <td>0.030088</td>\n",
       "      <td>0.214433</td>\n",
       "      <td>0.214676</td>\n",
       "      <td>0.469902</td>\n",
       "      <td>0.319612</td>\n",
       "      <td>0.054883</td>\n",
       "      <td>0.766609</td>\n",
       "      <td>0.953152</td>\n",
       "      <td>...</td>\n",
       "      <td>0.997953</td>\n",
       "      <td>0.76504</td>\n",
       "      <td>0.997953</td>\n",
       "      <td>0.002086</td>\n",
       "      <td>5.362616</td>\n",
       "      <td>0.952586</td>\n",
       "      <td>0.016842</td>\n",
       "      <td>0.419597</td>\n",
       "      <td>3.357942</td>\n",
       "      <td>0.009295</td>\n",
       "    </tr>\n",
       "  </tbody>\n",
       "</table>\n",
       "<p>1 rows × 27 columns</p>\n",
       "</div>"
      ],
      "text/plain": [
       "       PRECISION PRECISION_RECALL_MIN_DEN    RECALL       MAP MAP_MIN_DEN  \\\n",
       "cutoff                                                                      \n",
       "10      0.311971                 0.312913  0.030088  0.214433    0.214676   \n",
       "\n",
       "             MRR      NDCG        F1  HIT_RATE ARHR_ALL_HITS  ...  \\\n",
       "cutoff                                                        ...   \n",
       "10      0.469902  0.319612  0.054883  0.766609      0.953152  ...   \n",
       "\n",
       "       COVERAGE_USER COVERAGE_USER_HIT USERS_IN_GT DIVERSITY_GINI  \\\n",
       "cutoff                                                              \n",
       "10          0.997953           0.76504    0.997953       0.002086   \n",
       "\n",
       "       SHANNON_ENTROPY RATIO_DIVERSITY_HERFINDAHL RATIO_DIVERSITY_GINI  \\\n",
       "cutoff                                                                   \n",
       "10            5.362616                   0.952586             0.016842   \n",
       "\n",
       "       RATIO_SHANNON_ENTROPY RATIO_AVERAGE_POPULARITY RATIO_NOVELTY  \n",
       "cutoff                                                               \n",
       "10                  0.419597                 3.357942      0.009295  \n",
       "\n",
       "[1 rows x 27 columns]"
      ]
     },
     "execution_count": 25,
     "metadata": {},
     "output_type": "execute_result"
    }
   ],
   "source": [
    "%cd /kaggle/working/RecSys_Course_AT_PoliMi\n",
    "\n",
    "from Recommenders.SLIM.SLIMElasticNetRecommender import SLIMElasticNetRecommender\n",
    "from Recommenders.KNN.ItemKNNCFRecommender import ItemKNNCFRecommender\n",
    "from Recommenders.MatrixFactorization.PureSVDRecommender import PureSVDRecommender\n",
    "from Evaluation.Evaluator import EvaluatorHoldout\n",
    "\n",
    "np.int = int\n",
    "np.random.seed(42)\n",
    "np.bool = bool\n",
    "np.float = float\n",
    "\n",
    "item_knn = ItemKNNCFRecommender(URM_ner)\n",
    "item_knn.fit(topK=100, similarity='jaccard')\n",
    "\n",
    "evaluator = EvaluatorHoldout(URM_ner_test, cutoff_list=[10], exclude_seen=False)\n",
    "result_df, _ = evaluator.evaluateRecommender(item_knn)\n",
    "result_df"
   ]
  },
  {
   "cell_type": "code",
   "execution_count": 26,
   "id": "a3623f8f",
   "metadata": {
    "execution": {
     "iopub.execute_input": "2024-05-19T12:52:29.095832Z",
     "iopub.status.busy": "2024-05-19T12:52:29.095030Z",
     "iopub.status.idle": "2024-05-19T12:52:58.084356Z",
     "shell.execute_reply": "2024-05-19T12:52:58.080494Z"
    },
    "papermill": {
     "duration": 29.035556,
     "end_time": "2024-05-19T12:52:58.087452",
     "exception": false,
     "start_time": "2024-05-19T12:52:29.051896",
     "status": "completed"
    },
    "tags": []
   },
   "outputs": [
    {
     "name": "stdout",
     "output_type": "stream",
     "text": [
      "PureSVDRecommender: URM Detected 1 ( 0.0%) users with no interactions.\n",
      "PureSVDRecommender: URM Detected 18909 (43.2%) items with no interactions.\n",
      "PureSVDRecommender: Computing SVD decomposition...\n",
      "PureSVDRecommender: Computing SVD decomposition... done in 5.04 sec\n",
      "EvaluatorHoldout: Processed 15112 (100.0%) in 23.48 sec. Users per second: 644\n"
     ]
    },
    {
     "data": {
      "text/html": [
       "<div>\n",
       "<style scoped>\n",
       "    .dataframe tbody tr th:only-of-type {\n",
       "        vertical-align: middle;\n",
       "    }\n",
       "\n",
       "    .dataframe tbody tr th {\n",
       "        vertical-align: top;\n",
       "    }\n",
       "\n",
       "    .dataframe thead th {\n",
       "        text-align: right;\n",
       "    }\n",
       "</style>\n",
       "<table border=\"1\" class=\"dataframe\">\n",
       "  <thead>\n",
       "    <tr style=\"text-align: right;\">\n",
       "      <th></th>\n",
       "      <th>PRECISION</th>\n",
       "      <th>PRECISION_RECALL_MIN_DEN</th>\n",
       "      <th>RECALL</th>\n",
       "      <th>MAP</th>\n",
       "      <th>MAP_MIN_DEN</th>\n",
       "      <th>MRR</th>\n",
       "      <th>NDCG</th>\n",
       "      <th>F1</th>\n",
       "      <th>HIT_RATE</th>\n",
       "      <th>ARHR_ALL_HITS</th>\n",
       "      <th>...</th>\n",
       "      <th>COVERAGE_USER</th>\n",
       "      <th>COVERAGE_USER_HIT</th>\n",
       "      <th>USERS_IN_GT</th>\n",
       "      <th>DIVERSITY_GINI</th>\n",
       "      <th>SHANNON_ENTROPY</th>\n",
       "      <th>RATIO_DIVERSITY_HERFINDAHL</th>\n",
       "      <th>RATIO_DIVERSITY_GINI</th>\n",
       "      <th>RATIO_SHANNON_ENTROPY</th>\n",
       "      <th>RATIO_AVERAGE_POPULARITY</th>\n",
       "      <th>RATIO_NOVELTY</th>\n",
       "    </tr>\n",
       "    <tr>\n",
       "      <th>cutoff</th>\n",
       "      <th></th>\n",
       "      <th></th>\n",
       "      <th></th>\n",
       "      <th></th>\n",
       "      <th></th>\n",
       "      <th></th>\n",
       "      <th></th>\n",
       "      <th></th>\n",
       "      <th></th>\n",
       "      <th></th>\n",
       "      <th></th>\n",
       "      <th></th>\n",
       "      <th></th>\n",
       "      <th></th>\n",
       "      <th></th>\n",
       "      <th></th>\n",
       "      <th></th>\n",
       "      <th></th>\n",
       "      <th></th>\n",
       "      <th></th>\n",
       "      <th></th>\n",
       "    </tr>\n",
       "  </thead>\n",
       "  <tbody>\n",
       "    <tr>\n",
       "      <th>10</th>\n",
       "      <td>0.342628</td>\n",
       "      <td>0.345141</td>\n",
       "      <td>0.048661</td>\n",
       "      <td>0.261759</td>\n",
       "      <td>0.263204</td>\n",
       "      <td>0.670397</td>\n",
       "      <td>0.392258</td>\n",
       "      <td>0.085219</td>\n",
       "      <td>0.858655</td>\n",
       "      <td>1.275579</td>\n",
       "      <td>...</td>\n",
       "      <td>0.997953</td>\n",
       "      <td>0.856898</td>\n",
       "      <td>0.997953</td>\n",
       "      <td>0.001871</td>\n",
       "      <td>5.929536</td>\n",
       "      <td>0.95823</td>\n",
       "      <td>0.015104</td>\n",
       "      <td>0.463956</td>\n",
       "      <td>3.324192</td>\n",
       "      <td>0.009294</td>\n",
       "    </tr>\n",
       "  </tbody>\n",
       "</table>\n",
       "<p>1 rows × 27 columns</p>\n",
       "</div>"
      ],
      "text/plain": [
       "       PRECISION PRECISION_RECALL_MIN_DEN    RECALL       MAP MAP_MIN_DEN  \\\n",
       "cutoff                                                                      \n",
       "10      0.342628                 0.345141  0.048661  0.261759    0.263204   \n",
       "\n",
       "             MRR      NDCG        F1  HIT_RATE ARHR_ALL_HITS  ...  \\\n",
       "cutoff                                                        ...   \n",
       "10      0.670397  0.392258  0.085219  0.858655      1.275579  ...   \n",
       "\n",
       "       COVERAGE_USER COVERAGE_USER_HIT USERS_IN_GT DIVERSITY_GINI  \\\n",
       "cutoff                                                              \n",
       "10          0.997953          0.856898    0.997953       0.001871   \n",
       "\n",
       "       SHANNON_ENTROPY RATIO_DIVERSITY_HERFINDAHL RATIO_DIVERSITY_GINI  \\\n",
       "cutoff                                                                   \n",
       "10            5.929536                    0.95823             0.015104   \n",
       "\n",
       "       RATIO_SHANNON_ENTROPY RATIO_AVERAGE_POPULARITY RATIO_NOVELTY  \n",
       "cutoff                                                               \n",
       "10                  0.463956                 3.324192      0.009294  \n",
       "\n",
       "[1 rows x 27 columns]"
      ]
     },
     "execution_count": 26,
     "metadata": {},
     "output_type": "execute_result"
    }
   ],
   "source": [
    "pure_svd = PureSVDRecommender(URM_ner)\n",
    "pure_svd.fit(num_factors=20)\n",
    "\n",
    "result_df, _ = evaluator.evaluateRecommender(pure_svd)\n",
    "result_df"
   ]
  },
  {
   "cell_type": "code",
   "execution_count": 27,
   "id": "7b65443f",
   "metadata": {
    "execution": {
     "iopub.execute_input": "2024-05-19T12:52:58.174857Z",
     "iopub.status.busy": "2024-05-19T12:52:58.174361Z",
     "iopub.status.idle": "2024-05-19T12:55:07.195151Z",
     "shell.execute_reply": "2024-05-19T12:55:07.193930Z"
    },
    "papermill": {
     "duration": 129.110293,
     "end_time": "2024-05-19T12:55:07.238808",
     "exception": false,
     "start_time": "2024-05-19T12:52:58.128515",
     "status": "completed"
    },
    "tags": []
   },
   "outputs": [
    {
     "name": "stdout",
     "output_type": "stream",
     "text": [
      "CPU times: user 4min 40s, sys: 3min 16s, total: 7min 56s\n",
      "Wall time: 2min 8s\n"
     ]
    },
    {
     "data": {
      "text/html": [
       "<div><style>\n",
       ".dataframe > thead > tr,\n",
       ".dataframe > tbody > tr {\n",
       "  text-align: right;\n",
       "  white-space: pre-wrap;\n",
       "}\n",
       "</style>\n",
       "<small>shape: (5, 8)</small><table border=\"1\" class=\"dataframe\"><thead><tr><th>impression_id</th><th>article</th><th>total_ner_svd_scores</th><th>mean_ner_svd_scores</th><th>max_ner_svd_scores</th><th>total_ner_item_knn_scores</th><th>mean_ner_item_knn_scores</th><th>max_ner_item_knn_scores</th></tr><tr><td>u32</td><td>i32</td><td>f32</td><td>f32</td><td>f32</td><td>f32</td><td>f32</td><td>f32</td></tr></thead><tbody><tr><td>257455855</td><td>9774404</td><td>0.071022</td><td>0.184656</td><td>0.39393</td><td>0.077804</td><td>0.20229</td><td>0.473771</td></tr><tr><td>473600588</td><td>9769135</td><td>0.591139</td><td>0.540916</td><td>0.519077</td><td>0.465677</td><td>0.305039</td><td>0.275845</td></tr><tr><td>241078442</td><td>9774557</td><td>0.134974</td><td>0.956162</td><td>0.524629</td><td>0.275181</td><td>1.0</td><td>0.839849</td></tr><tr><td>123198998</td><td>9735909</td><td>0.566742</td><td>0.647705</td><td>0.801443</td><td>0.451053</td><td>0.515489</td><td>0.675142</td></tr><tr><td>32779470</td><td>9773378</td><td>0.166589</td><td>0.319271</td><td>0.790573</td><td>0.14488</td><td>0.3395</td><td>0.981326</td></tr></tbody></table></div>"
      ],
      "text/plain": [
       "shape: (5, 8)\n",
       "┌────────────┬─────────┬────────────┬────────────┬────────────┬────────────┬───────────┬───────────┐\n",
       "│ impression ┆ article ┆ total_ner_ ┆ mean_ner_s ┆ max_ner_sv ┆ total_ner_ ┆ mean_ner_ ┆ max_ner_i │\n",
       "│ _id        ┆ ---     ┆ svd_scores ┆ vd_scores  ┆ d_scores   ┆ item_knn_s ┆ item_knn_ ┆ tem_knn_s │\n",
       "│ ---        ┆ i32     ┆ ---        ┆ ---        ┆ ---        ┆ cores      ┆ scores    ┆ cores     │\n",
       "│ u32        ┆         ┆ f32        ┆ f32        ┆ f32        ┆ ---        ┆ ---       ┆ ---       │\n",
       "│            ┆         ┆            ┆            ┆            ┆ f32        ┆ f32       ┆ f32       │\n",
       "╞════════════╪═════════╪════════════╪════════════╪════════════╪════════════╪═══════════╪═══════════╡\n",
       "│ 257455855  ┆ 9774404 ┆ 0.071022   ┆ 0.184656   ┆ 0.39393    ┆ 0.077804   ┆ 0.20229   ┆ 0.473771  │\n",
       "│ 473600588  ┆ 9769135 ┆ 0.591139   ┆ 0.540916   ┆ 0.519077   ┆ 0.465677   ┆ 0.305039  ┆ 0.275845  │\n",
       "│ 241078442  ┆ 9774557 ┆ 0.134974   ┆ 0.956162   ┆ 0.524629   ┆ 0.275181   ┆ 1.0       ┆ 0.839849  │\n",
       "│ 123198998  ┆ 9735909 ┆ 0.566742   ┆ 0.647705   ┆ 0.801443   ┆ 0.451053   ┆ 0.515489  ┆ 0.675142  │\n",
       "│ 32779470   ┆ 9773378 ┆ 0.166589   ┆ 0.319271   ┆ 0.790573   ┆ 0.14488    ┆ 0.3395    ┆ 0.981326  │\n",
       "└────────────┴─────────┴────────────┴────────────┴────────────┴────────────┴───────────┴───────────┘"
      ]
     },
     "execution_count": 27,
     "metadata": {},
     "output_type": "execute_result"
    }
   ],
   "source": [
    "%%time\n",
    "\n",
    "def get_inview_scores(user_ners_df, recommender, f_name):\n",
    "    user_index = user_ners_df['user_index'].to_list()[0]\n",
    "    ners = user_ners_df['ner_index'].to_numpy()\n",
    "    scores = recommender._compute_item_score([user_index], ners)[0, ners]\n",
    "    return user_ners_df.with_columns(\n",
    "        pl.Series(scores).alias(f_name)\n",
    "    )\n",
    "\n",
    "ner_inview_scores = behaviors_train.select(['user_id', 'article_ids_inview']).explode('article_ids_inview') \\\n",
    "    .join(articles.select(['article_id', 'ner_clusters']), left_on='article_ids_inview', right_on='article_id', how='left') \\\n",
    "    .explode('ner_clusters').unique(['user_id', 'ner_clusters']) \\\n",
    "    .with_columns(pl.col('ner_clusters').str.strip_chars_start('\\\" ').str.to_lowercase()) \\\n",
    "    .join(user_id_mapping, on='user_id', how='left') \\\n",
    "    .join(ner_mapping, left_on='ner_clusters', right_on='ner') \\\n",
    "    .select(['user_index', 'ner_index', 'user_id', 'article_ids_inview']) \\\n",
    "    .unique(['user_index', 'ner_index']) \\\n",
    "    .sort(['user_index', 'ner_index']).group_by('user_index').map_groups(\n",
    "        lambda user_df: user_df.pipe(get_inview_scores, recommender=pure_svd, f_name='pure_svd_scores') \\\n",
    "            .pipe(get_inview_scores, recommender=item_knn, f_name='item_knn_scores')\n",
    "    )\n",
    "\n",
    "behaviors_ner_scores = behaviors_train.select(['impression_id', 'user_id', 'article_ids_inview']).explode('article_ids_inview') \\\n",
    "    .join(ner_inview_scores, on=['user_id', 'article_ids_inview'], how='left') \\\n",
    "    .with_columns(pl.col(['pure_svd_scores', 'item_knn_scores']).fill_null(0)) \\\n",
    "    .group_by(['impression_id', 'article_ids_inview']).agg(\n",
    "        pl.col('pure_svd_scores').sum().alias('total_ner_svd_scores'),\n",
    "        pl.col('pure_svd_scores').mean().alias('mean_ner_svd_scores'),\n",
    "        pl.col('pure_svd_scores').max().alias('max_ner_svd_scores'),\n",
    "        pl.col('item_knn_scores').sum().alias('total_ner_item_knn_scores'),\n",
    "        pl.col('item_knn_scores').mean().alias('mean_ner_item_knn_scores'),\n",
    "        pl.col('item_knn_scores').max().alias('max_ner_item_knn_scores'),\n",
    "    ).with_columns(\n",
    "        pl.col(['total_ner_svd_scores', 'mean_ner_svd_scores', \n",
    "                'total_ner_item_knn_scores', 'mean_ner_item_knn_scores',\n",
    "                'max_ner_svd_scores', 'max_ner_item_knn_scores']).max().over('impression_id').name.suffix('_max')\n",
    "    ).with_columns(\n",
    "        # l1 normalization\n",
    "        pl.col('total_ner_svd_scores').truediv(pl.col('total_ner_svd_scores_max')),\n",
    "        pl.col('mean_ner_svd_scores').truediv(pl.col('mean_ner_svd_scores_max')),\n",
    "        pl.col('max_ner_svd_scores').truediv(pl.col('max_ner_svd_scores_max')),\n",
    "        pl.col('total_ner_item_knn_scores').truediv(pl.col('total_ner_item_knn_scores_max')),\n",
    "        pl.col('mean_ner_item_knn_scores').truediv(pl.col('mean_ner_item_knn_scores_max')),\n",
    "        pl.col('max_ner_item_knn_scores').truediv(pl.col('max_ner_item_knn_scores_max')),\n",
    "    ).drop(['total_ner_svd_scores_max', 'mean_ner_svd_scores_max', \n",
    "            'max_ner_svd_scores_max', 'total_ner_item_knn_scores_max',\n",
    "            'mean_ner_item_knn_scores_max', 'max_ner_item_knn_scores_max']) \\\n",
    "    .rename({'article_ids_inview': 'article'})\n",
    "behaviors_ner_scores.head(5)"
   ]
  },
  {
   "cell_type": "code",
   "execution_count": 28,
   "id": "e90697e1",
   "metadata": {
    "execution": {
     "iopub.execute_input": "2024-05-19T12:55:07.341239Z",
     "iopub.status.busy": "2024-05-19T12:55:07.340177Z",
     "iopub.status.idle": "2024-05-19T12:55:07.875942Z",
     "shell.execute_reply": "2024-05-19T12:55:07.874117Z"
    },
    "papermill": {
     "duration": 0.593279,
     "end_time": "2024-05-19T12:55:07.878986",
     "exception": false,
     "start_time": "2024-05-19T12:55:07.285707",
     "status": "completed"
    },
    "tags": []
   },
   "outputs": [
    {
     "data": {
      "text/plain": [
       "0"
      ]
     },
     "execution_count": 28,
     "metadata": {},
     "output_type": "execute_result"
    }
   ],
   "source": [
    "del URM_ner\n",
    "del URM_ner_test\n",
    "del ner_inview_scores\n",
    "del ner_interactions\n",
    "del ner_interactions_test\n",
    "gc.collect()"
   ]
  },
  {
   "cell_type": "markdown",
   "id": "8dae18a4",
   "metadata": {
    "papermill": {
     "duration": 0.045344,
     "end_time": "2024-05-19T12:55:07.971900",
     "exception": false,
     "start_time": "2024-05-19T12:55:07.926556",
     "status": "completed"
    },
    "tags": []
   },
   "source": [
    "# Creating Training Dataframe"
   ]
  },
  {
   "cell_type": "code",
   "execution_count": 29,
   "id": "afba86b9",
   "metadata": {
    "execution": {
     "iopub.execute_input": "2024-05-19T12:55:08.100211Z",
     "iopub.status.busy": "2024-05-19T12:55:08.099659Z",
     "iopub.status.idle": "2024-05-19T12:55:08.116634Z",
     "shell.execute_reply": "2024-05-19T12:55:08.115050Z"
    },
    "papermill": {
     "duration": 0.079076,
     "end_time": "2024-05-19T12:55:08.120540",
     "exception": false,
     "start_time": "2024-05-19T12:55:08.041464",
     "status": "completed"
    },
    "tags": []
   },
   "outputs": [],
   "source": [
    "def normalize_endorsement(articles_endorsement_raw):\n",
    "    return articles_endorsement.sort(by='impression_time').with_columns(\n",
    "        (\n",
    "            pl.col('endorsement_10h') / \n",
    "            pl.col('endorsement_10h').sum().over('impression_time')\n",
    "        ).alias('normalized_endorsement_10h'),\n",
    "        (\n",
    "            pl.col('endorsement_10h') - \n",
    "            pl.col('endorsement_10h').rolling_mean(10, min_periods=1).over('article')\n",
    "        ).alias('endorsement_10h_diff_rolling'),\n",
    "        (\n",
    "            pl.col('endorsement_10h').rolling_mean(5, min_periods=1).over('article') - \n",
    "            pl.col('endorsement_10h').rolling_mean(10, min_periods=1).over('article')\n",
    "        ).alias('endorsement_macd'),\n",
    "        (\n",
    "            pl.col('endorsement_10h') / \n",
    "            pl.col('endorsement_10h').quantile(0.8).over('impression_time')\n",
    "        ).alias('endorsement_quantile_norm_10h')\n",
    "    ).with_columns(\n",
    "        (\n",
    "            pl.col('normalized_endorsement_10h') / \n",
    "            pl.col('normalized_endorsement_10h').rolling_max(10, min_periods=1).over('impression_time')\n",
    "        ).alias('normalized_endorsement_10h_rolling_max_ratio'),\n",
    "    )\n",
    "    \n",
    "\n",
    "def add_article_endorsement_feature(df_features, normalized_endorsement):\n",
    "    # old return df_features.join(other=articles_endorsement, on=[\"article\", \"impression_time\"], how=\"left\")\n",
    "    normalized_endorsement = normalized_endorsement.with_columns(pl.col('article').cast(pl.Int32))\n",
    "    return df_features.with_columns(pl.col('impression_time').dt.round('1m').alias('rounded_impression_time'))\\\n",
    "                         .join(normalized_endorsement.rename({'impression_time' : 'rounded_impression_time'}), on=['article','rounded_impression_time'], how='left')\\\n",
    "                         .drop('rounded_impression_time')"
   ]
  },
  {
   "cell_type": "code",
   "execution_count": 30,
   "id": "faad6da3",
   "metadata": {
    "execution": {
     "iopub.execute_input": "2024-05-19T12:55:08.211402Z",
     "iopub.status.busy": "2024-05-19T12:55:08.209729Z",
     "iopub.status.idle": "2024-05-19T12:55:08.223788Z",
     "shell.execute_reply": "2024-05-19T12:55:08.222806Z"
    },
    "papermill": {
     "duration": 0.061113,
     "end_time": "2024-05-19T12:55:08.226556",
     "exception": false,
     "start_time": "2024-05-19T12:55:08.165443",
     "status": "completed"
    },
    "tags": []
   },
   "outputs": [],
   "source": [
    "def normalize_endorsement_by_article_and_user(articles_endorsement_articleuser_raw):\n",
    "    return articles_endorsement_articleuser_raw.sort(by=['user_id','impression_time']).with_columns(\n",
    "        (\n",
    "            pl.col('endorsement_20h_articleuser') / \n",
    "            pl.col('endorsement_20h_articleuser').sum().over(['user_id','impression_time'])\n",
    "        ).alias('normalized_endorsement_articleuser_20h'),\n",
    "        (\n",
    "            pl.col('endorsement_20h_articleuser') - \n",
    "            pl.col('endorsement_20h_articleuser').rolling_mean(10, min_periods=1).over(['article','user_id'])\n",
    "        ).alias('endorsement_20h_articleuser_diff_rolling'),\n",
    "        (\n",
    "            pl.col('endorsement_20h_articleuser').rolling_mean(5, min_periods=1).over(['article','user_id']) - \n",
    "            pl.col('endorsement_20h_articleuser').rolling_mean(10, min_periods=1).over(['article','user_id'])\n",
    "        ).alias('endorsement_articleuser_macd'),\n",
    "        (\n",
    "            pl.col('endorsement_20h_articleuser') / \n",
    "            pl.col('endorsement_20h_articleuser').quantile(0.8).over(['user_id','impression_time'])\n",
    "        ).alias('endorsement_articleuser_quantile_norm_20h')\n",
    "    ).with_columns(\n",
    "        (\n",
    "            pl.col('endorsement_20h_articleuser') / \n",
    "            pl.col('endorsement_20h_articleuser').rolling_max(10, min_periods=1).over(['user_id','impression_time'])\n",
    "        ).alias('normalized_endorsement_articleuser_20h_rolling_max_ratio'),\n",
    "    )\n",
    "    \n",
    "\n",
    "def add_article_endorsement_feature_by_article_and_user(df_features, normalized_endorsement):\n",
    "    # old return df_features.join(other=articles_endorsement, on=[\"article\", \"impression_time\"], how=\"left\")\n",
    "    normalized_endorsement = normalized_endorsement.with_columns(pl.col('article').cast(pl.Int32))\n",
    "    return df_features.with_columns(pl.col('impression_time').dt.round('1m').alias('rounded_impression_time'))\\\n",
    "                         .join(normalized_endorsement.rename({'impression_time' : 'rounded_impression_time'}), on=['user_id','article','rounded_impression_time'], how='left')\\\n",
    "                         .drop('rounded_impression_time')"
   ]
  },
  {
   "cell_type": "code",
   "execution_count": 31,
   "id": "67ec15dd",
   "metadata": {
    "execution": {
     "iopub.execute_input": "2024-05-19T12:55:08.313732Z",
     "iopub.status.busy": "2024-05-19T12:55:08.313009Z",
     "iopub.status.idle": "2024-05-19T12:55:08.324190Z",
     "shell.execute_reply": "2024-05-19T12:55:08.322189Z"
    },
    "papermill": {
     "duration": 0.058638,
     "end_time": "2024-05-19T12:55:08.327220",
     "exception": false,
     "start_time": "2024-05-19T12:55:08.268582",
     "status": "completed"
    },
    "tags": []
   },
   "outputs": [],
   "source": [
    "def add_article_endorsement_feature_leak(df_features, normalized_endorsement,period='10h'):\n",
    "    # old return df_features.join(other=articles_endorsement, on=[\"article\", \"impression_time\"], how=\"left\")\n",
    "    normalized_endorsement = normalized_endorsement.with_columns(pl.col('article').cast(pl.Int32)).rename({f'endorsement_{period}':f'endorsement_{period}_leak'}) \\\n",
    "                            .with_columns(\n",
    "                                pl.col('impression_time') - pl.duration(hours=int(period[:-1]))\n",
    "                            ).sort('impression_time').set_sorted('impression_time')\n",
    "    \n",
    "    return df_features.with_columns(pl.col('impression_time').dt.round('1m').alias('rounded_impression_time'))\\\n",
    "                        .sort('rounded_impression_time').set_sorted('rounded_impression_time') \\\n",
    "                         .join_asof(normalized_endorsement.rename({'impression_time' : 'rounded_impression_time'}),by='article', left_on='rounded_impression_time',right_on='rounded_impression_time', strategy='nearest')\\\n",
    "                         .drop('rounded_impression_time') \\\n",
    "                        .with_columns(\n",
    "                            pl.col(f'endorsement_{period}_leak').fill_null(0)\n",
    "                        )\n"
   ]
  },
  {
   "cell_type": "code",
   "execution_count": 32,
   "id": "cb5a0771",
   "metadata": {
    "execution": {
     "iopub.execute_input": "2024-05-19T12:55:08.417402Z",
     "iopub.status.busy": "2024-05-19T12:55:08.416945Z",
     "iopub.status.idle": "2024-05-19T12:55:08.433336Z",
     "shell.execute_reply": "2024-05-19T12:55:08.432148Z"
    },
    "papermill": {
     "duration": 0.065211,
     "end_time": "2024-05-19T12:55:08.436390",
     "exception": false,
     "start_time": "2024-05-19T12:55:08.371179",
     "status": "completed"
    },
    "tags": []
   },
   "outputs": [],
   "source": [
    "def add_trendiness_feature_leak(df_features: pl.DataFrame, articles: pl.DataFrame, period: str = \"3d\"):\n",
    "\n",
    "    topics = articles.select(\"topics\").explode(\"topics\").unique()\n",
    "    topics = [topic for topic in topics[\"topics\"] if topic is not None]\n",
    "    # min_impression_time = df_features.select(pl.col(\"impression_time\")).min().item()\n",
    "\n",
    "    # topics_total_publications= articles.filter(pl.col(\"published_time\")< min_impression_time ).select(\"topics\") \\\n",
    "    # .explode(\"topics\").group_by(\"topics\").len()\n",
    "\n",
    "    topics_popularity = articles.select([\"published_time\", \"topics\"]).with_columns(\n",
    "        pl.col(\"published_time\").dt.date().alias(\"published_date\")\n",
    "    ).drop(\"published_time\").group_by(\"published_date\").agg(\n",
    "        pl.col(\"topics\").flatten()\n",
    "    ).sort(\"published_date\").set_sorted(\"published_date\").upsample(time_column=\"published_date\", every=\"1d\") \\\n",
    "        .rolling(index_column=\"published_date\", period=period).agg(\n",
    "        [pl.col(\"topics\").list.count_matches(topic).sum().alias(\n",
    "            f\"{topic}_matches\") for topic in topics]\n",
    "    )\n",
    "\n",
    "    return df_features.with_columns(\n",
    "        pl.col(\"impression_time\").dt.date().alias(\"impression_date\")\n",
    "    ).join(other=articles.select([\"article_id\", \"topics\"]), left_on=\"article\", right_on=\"article_id\", how=\"left\") \\\n",
    "        .with_columns(\n",
    "        [pl.col(\"topics\").list.contains(topic).cast(\n",
    "            pl.Int8).alias(f\"{topic}_present\") for topic in topics]\n",
    "    ).sort('impression_date').set_sorted('impression_date') \\\n",
    "    .join_asof(topics_popularity.with_columns(pl.col('published_date') + pl.duration(days=1) - pl.duration(days=int(period[:-1]))) \\\n",
    "               .sort('published_date').set_sorted('published_date'),\n",
    "               left_on=\"impression_date\", right_on=\"published_date\", strategy=\"nearest\") \\\n",
    "        .with_columns(\n",
    "        [pl.col(f\"{topic}_present\").mul(pl.col(f\"{topic}_matches\")).alias(\n",
    "            f\"trendiness_score_{topic}\") for topic in topics]\n",
    "    ).with_columns(\n",
    "        pl.sum_horizontal([pl.col(f\"trendiness_score_{topic}\") for topic in topics]).alias(\n",
    "            \"trendiness_score_leak\"),\n",
    "    ).drop(\n",
    "        [f\"trendiness_score_{topic}\" for topic in topics]\n",
    "    ).drop(\n",
    "        [f\"{topic}_matches\" for topic in topics]\n",
    "    ).drop(\n",
    "        [f\"{topic}_present\" for topic in topics]\n",
    "    ).drop([\"topics\", \"impression_date\",\"published_date\"])"
   ]
  },
  {
   "cell_type": "code",
   "execution_count": 33,
   "id": "683e9b4f",
   "metadata": {
    "execution": {
     "iopub.execute_input": "2024-05-19T12:55:08.523535Z",
     "iopub.status.busy": "2024-05-19T12:55:08.523117Z",
     "iopub.status.idle": "2024-05-19T12:59:11.969335Z",
     "shell.execute_reply": "2024-05-19T12:59:11.965475Z"
    },
    "papermill": {
     "duration": 243.496532,
     "end_time": "2024-05-19T12:59:11.975113",
     "exception": false,
     "start_time": "2024-05-19T12:55:08.478581",
     "status": "completed"
    },
    "tags": []
   },
   "outputs": [
    {
     "name": "stderr",
     "output_type": "stream",
     "text": [
      "16it [00:27,  1.74s/it]                        \n",
      "2427it [00:06, 352.48it/s]                          \n",
      "16it [00:01,  8.10it/s]                        \n",
      "16it [00:02,  6.60it/s]                        \n",
      "100%|██████████| 506/506 [00:03<00:00, 134.00it/s]\n",
      "100%|██████████| 506/506 [00:05<00:00, 90.60it/s] \n"
     ]
    },
    {
     "name": "stdout",
     "output_type": "stream",
     "text": [
      "\u001b[1m\u001b[31m\n",
      "RAM memory GB usage = 3.158\u001b[0m\n",
      "Memory usage of dataframe is 1119.91 MB\n",
      "Memory usage after optimization is: 661.24 MB\n",
      "Decreased by 41.0%\n",
      "\u001b[1m\u001b[31m\n",
      "RAM memory GB usage = 2.68\u001b[0m\n",
      "CPU times: user 12min 24s, sys: 59.1 s, total: 13min 24s\n",
      "Wall time: 4min 3s\n"
     ]
    },
    {
     "data": {
      "text/html": [
       "<div><style>\n",
       ".dataframe > thead > tr,\n",
       ".dataframe > tbody > tr {\n",
       "  text-align: right;\n",
       "  white-space: pre-wrap;\n",
       "}\n",
       "</style>\n",
       "<small>shape: (5, 89)</small><table border=\"1\" class=\"dataframe\"><thead><tr><th>impression_id</th><th>article</th><th>user_id</th><th>impression_time</th><th>target</th><th>device_type</th><th>read_time</th><th>scroll_percentage</th><th>is_sso_user</th><th>gender</th><th>age</th><th>is_subscriber</th><th>session_id</th><th>postcode</th><th>trendiness_score_1d</th><th>trendiness_score_3d</th><th>trendiness_score_5d</th><th>trendiness_score_3d_leak</th><th>weekday</th><th>hour</th><th>trendiness_score_1d/3d</th><th>trendiness_score_1d/5d</th><th>normalized_trendiness_score_overall</th><th>premium</th><th>published_time</th><th>category</th><th>sentiment_score</th><th>sentiment_label</th><th>num_images</th><th>title_len</th><th>subtitle_len</th><th>body_len</th><th>num_topics</th><th>total_pageviews</th><th>total_inviews</th><th>total_read_time</th><th>total_pageviews/inviews</th><th>&hellip;</th><th>mean_user_trendiness_score</th><th>mean_topics_trendiness_score</th><th>mean_topics_mean_delay_days</th><th>mean_topics_mean_delay_hours</th><th>user_mean_delay_days</th><th>user_mean_delay_hours</th><th>window_0_history_length</th><th>window_1_history_length</th><th>window_2_history_length</th><th>window_3_history_length</th><th>is_inside_window_0</th><th>is_inside_window_1</th><th>is_inside_window_2</th><th>is_inside_window_3</th><th>window_category_score</th><th>window_topics_score</th><th>trendiness_score_category</th><th>endorsement_10h</th><th>normalized_endorsement_10h</th><th>endorsement_10h_diff_rolling</th><th>endorsement_macd</th><th>endorsement_quantile_norm_10h</th><th>normalized_endorsement_10h_rolling_max_ratio</th><th>endorsement_20h_articleuser</th><th>normalized_endorsement_articleuser_20h</th><th>endorsement_20h_articleuser_diff_rolling</th><th>endorsement_articleuser_macd</th><th>endorsement_articleuser_quantile_norm_20h</th><th>normalized_endorsement_articleuser_20h_rolling_max_ratio</th><th>endorsement_10h_leak</th><th>normalized_endorsement_10h_right</th><th>endorsement_10h_leak_diff_rolling</th><th>endorsement_leak_macd</th><th>endorsement_quantile_norm_10h_leak</th><th>normalized_endorsement_10h_leak_rolling_max_ratio</th><th>clicked_count</th><th>inview_count</th></tr><tr><td>u32</td><td>i32</td><td>u32</td><td>datetime[μs]</td><td>i8</td><td>i8</td><td>f32</td><td>f32</td><td>bool</td><td>i8</td><td>i8</td><td>bool</td><td>u32</td><td>i8</td><td>i16</td><td>i16</td><td>i16</td><td>i16</td><td>i8</td><td>i8</td><td>f32</td><td>f32</td><td>f32</td><td>bool</td><td>datetime[μs]</td><td>i16</td><td>f32</td><td>str</td><td>u32</td><td>u8</td><td>u8</td><td>u16</td><td>u32</td><td>i32</td><td>i32</td><td>f32</td><td>f32</td><td>&hellip;</td><td>f32</td><td>f32</td><td>f32</td><td>f32</td><td>f32</td><td>f32</td><td>i16</td><td>i16</td><td>i16</td><td>i16</td><td>i8</td><td>i8</td><td>i8</td><td>i8</td><td>i16</td><td>i16</td><td>i8</td><td>u16</td><td>f32</td><td>f32</td><td>f32</td><td>f32</td><td>f32</td><td>u8</td><td>f32</td><td>f32</td><td>f32</td><td>f32</td><td>f32</td><td>i16</td><td>f32</td><td>f32</td><td>f32</td><td>f32</td><td>f32</td><td>u32</td><td>u16</td></tr></thead><tbody><tr><td>531181957</td><td>9770538</td><td>2219289</td><td>2023-05-18 07:00:10</td><td>1</td><td>1</td><td>14.0</td><td>null</td><td>true</td><td>0</td><td>70</td><td>true</td><td>220898</td><td>5</td><td>61</td><td>202</td><td>355</td><td>209</td><td>4</td><td>7</td><td>0.30198</td><td>0.171831</td><td>0.392233</td><td>false</td><td>2023-05-18 05:57:20</td><td>498</td><td>0.6058</td><td>&quot;Negative&quot;</td><td>2</td><td>10</td><td>18</td><td>597</td><td>6</td><td>63862</td><td>368843</td><td>4.991874e6</td><td>0.173141</td><td>&hellip;</td><td>181.252869</td><td>282.398804</td><td>7.871868</td><td>191.826935</td><td>49.605366</td><td>1193.180054</td><td>130</td><td>83</td><td>75</td><td>24</td><td>1</td><td>0</td><td>0</td><td>0</td><td>3</td><td>44</td><td>9</td><td>16</td><td>0.047904</td><td>0.0</td><td>0.0</td><td>2.285714</td><td>1.0</td><td>1</td><td>0.2</td><td>0.0</td><td>0.0</td><td>1.0</td><td>1.0</td><td>1526</td><td>0.014948</td><td>4.5</td><td>2.5</td><td>0.828447</td><td>0.765296</td><td>554</td><td>1792</td></tr><tr><td>450331134</td><td>9727087</td><td>955346</td><td>2023-05-18 07:00:08</td><td>0</td><td>3</td><td>325.0</td><td>100.0</td><td>false</td><td>2</td><td>null</td><td>false</td><td>1657450</td><td>5</td><td>77</td><td>217</td><td>385</td><td>129</td><td>4</td><td>7</td><td>0.354839</td><td>0.2</td><td>0.421359</td><td>true</td><td>2023-04-24 09:46:42</td><td>118</td><td>0.6239</td><td>&quot;Neutral&quot;</td><td>5</td><td>7</td><td>29</td><td>721</td><td>5</td><td>81411</td><td>1139178</td><td>4.614807e6</td><td>0.071465</td><td>&hellip;</td><td>233.199997</td><td>364.027435</td><td>6.206751</td><td>151.412888</td><td>0.0</td><td>1.616667</td><td>24</td><td>18</td><td>16</td><td>9</td><td>1</td><td>0</td><td>0</td><td>0</td><td>8</td><td>12</td><td>96</td><td>17</td><td>0.050898</td><td>0.0</td><td>0.0</td><td>2.428571</td><td>1.0</td><td>1</td><td>0.142857</td><td>0.0</td><td>0.0</td><td>1.0</td><td>1.0</td><td>2121</td><td>0.018005</td><td>5.7</td><td>3.5</td><td>0.923781</td><td>0.891176</td><td>184</td><td>2126</td></tr><tr><td>372697938</td><td>9768829</td><td>904400</td><td>2023-05-18 07:00:07</td><td>0</td><td>1</td><td>25.0</td><td>null</td><td>false</td><td>2</td><td>null</td><td>false</td><td>1324242</td><td>5</td><td>141</td><td>409</td><td>745</td><td>428</td><td>4</td><td>7</td><td>0.344743</td><td>0.189262</td><td>0.794175</td><td>false</td><td>2023-05-16 20:40:13</td><td>142</td><td>0.8115</td><td>&quot;Positive&quot;</td><td>3</td><td>11</td><td>19</td><td>463</td><td>5</td><td>144909</td><td>615970</td><td>1.1410048e7</td><td>0.235253</td><td>&hellip;</td><td>222.654251</td><td>390.059143</td><td>3.625412</td><td>89.494057</td><td>8.489362</td><td>212.569153</td><td>562</td><td>0</td><td>0</td><td>42</td><td>1</td><td>0</td><td>0</td><td>0</td><td>87</td><td>399</td><td>110</td><td>1</td><td>0.002994</td><td>0.0</td><td>0.0</td><td>0.142857</td><td>0.066667</td><td>1</td><td>0.111111</td><td>0.0</td><td>0.0</td><td>1.0</td><td>1.0</td><td>54</td><td>0.000485</td><td>-6.8</td><td>2.0</td><td>0.027328</td><td>0.010555</td><td>2059</td><td>247</td></tr><tr><td>338472617</td><td>9720068</td><td>2269270</td><td>2023-05-18 07:00:28</td><td>0</td><td>2</td><td>31.0</td><td>null</td><td>false</td><td>2</td><td>null</td><td>false</td><td>1409226</td><td>5</td><td>46</td><td>105</td><td>152</td><td>76</td><td>4</td><td>7</td><td>0.438095</td><td>0.302632</td><td>0.203883</td><td>true</td><td>2023-04-17 09:27:32</td><td>118</td><td>0.7884</td><td>&quot;Neutral&quot;</td><td>1</td><td>7</td><td>20</td><td>531</td><td>2</td><td>10821</td><td>564767</td><td>667781.0</td><td>0.01916</td><td>&hellip;</td><td>216.343109</td><td>176.763824</td><td>9.866658</td><td>239.443207</td><td>2.739003</td><td>68.56012</td><td>123</td><td>114</td><td>96</td><td>59</td><td>1</td><td>0</td><td>0</td><td>0</td><td>58</td><td>52</td><td>96</td><td>7</td><td>0.020958</td><td>0.0</td><td>0.0</td><td>1.0</td><td>1.0</td><td>1</td><td>0.111111</td><td>0.0</td><td>0.0</td><td>1.0</td><td>1.0</td><td>1318</td><td>0.014266</td><td>-41.0</td><td>-1.0</td><td>0.633654</td><td>0.534036</td><td>7</td><td>1372</td></tr><tr><td>556119040</td><td>9770989</td><td>49472</td><td>2023-05-18 07:00:29</td><td>0</td><td>2</td><td>7.0</td><td>null</td><td>false</td><td>2</td><td>null</td><td>false</td><td>1918426</td><td>5</td><td>46</td><td>105</td><td>152</td><td>76</td><td>4</td><td>7</td><td>0.438095</td><td>0.302632</td><td>0.203883</td><td>false</td><td>2023-05-18 05:36:48</td><td>140</td><td>0.9948</td><td>&quot;Negative&quot;</td><td>3</td><td>7</td><td>13</td><td>141</td><td>2</td><td>101707</td><td>460662</td><td>3.551386e6</td><td>0.220784</td><td>&hellip;</td><td>252.918365</td><td>176.763824</td><td>9.866658</td><td>239.443207</td><td>0.714286</td><td>21.367348</td><td>26</td><td>17</td><td>4</td><td>18</td><td>1</td><td>0</td><td>0</td><td>0</td><td>5</td><td>6</td><td>67</td><td>15</td><td>0.04491</td><td>0.0</td><td>0.0</td><td>2.142857</td><td>1.0</td><td>1</td><td>0.142857</td><td>0.0</td><td>0.0</td><td>1.0</td><td>1.0</td><td>1796</td><td>0.015621</td><td>5.2</td><td>2.8</td><td>1.099143</td><td>0.539663</td><td>1029</td><td>1942</td></tr></tbody></table></div>"
      ],
      "text/plain": [
       "shape: (5, 89)\n",
       "┌────────────┬─────────┬─────────┬────────────┬───┬────────────┬───────────┬───────────┬───────────┐\n",
       "│ impression ┆ article ┆ user_id ┆ impression ┆ … ┆ endorsemen ┆ normalize ┆ clicked_c ┆ inview_co │\n",
       "│ _id        ┆ ---     ┆ ---     ┆ _time      ┆   ┆ t_quantile ┆ d_endorse ┆ ount      ┆ unt       │\n",
       "│ ---        ┆ i32     ┆ u32     ┆ ---        ┆   ┆ _norm_10h_ ┆ ment_10h_ ┆ ---       ┆ ---       │\n",
       "│ u32        ┆         ┆         ┆ datetime[μ ┆   ┆ …          ┆ lea…      ┆ u32       ┆ u16       │\n",
       "│            ┆         ┆         ┆ s]         ┆   ┆ ---        ┆ ---       ┆           ┆           │\n",
       "│            ┆         ┆         ┆            ┆   ┆ f32        ┆ f32       ┆           ┆           │\n",
       "╞════════════╪═════════╪═════════╪════════════╪═══╪════════════╪═══════════╪═══════════╪═══════════╡\n",
       "│ 531181957  ┆ 9770538 ┆ 2219289 ┆ 2023-05-18 ┆ … ┆ 0.828447   ┆ 0.765296  ┆ 554       ┆ 1792      │\n",
       "│            ┆         ┆         ┆ 07:00:10   ┆   ┆            ┆           ┆           ┆           │\n",
       "│ 450331134  ┆ 9727087 ┆ 955346  ┆ 2023-05-18 ┆ … ┆ 0.923781   ┆ 0.891176  ┆ 184       ┆ 2126      │\n",
       "│            ┆         ┆         ┆ 07:00:08   ┆   ┆            ┆           ┆           ┆           │\n",
       "│ 372697938  ┆ 9768829 ┆ 904400  ┆ 2023-05-18 ┆ … ┆ 0.027328   ┆ 0.010555  ┆ 2059      ┆ 247       │\n",
       "│            ┆         ┆         ┆ 07:00:07   ┆   ┆            ┆           ┆           ┆           │\n",
       "│ 338472617  ┆ 9720068 ┆ 2269270 ┆ 2023-05-18 ┆ … ┆ 0.633654   ┆ 0.534036  ┆ 7         ┆ 1372      │\n",
       "│            ┆         ┆         ┆ 07:00:28   ┆   ┆            ┆           ┆           ┆           │\n",
       "│ 556119040  ┆ 9770989 ┆ 49472   ┆ 2023-05-18 ┆ … ┆ 1.099143   ┆ 0.539663  ┆ 1029      ┆ 1942      │\n",
       "│            ┆         ┆         ┆ 07:00:29   ┆   ┆            ┆           ┆           ┆           │\n",
       "└────────────┴─────────┴─────────┴────────────┴───┴────────────┴───────────┴───────────┴───────────┘"
      ]
     },
     "execution_count": 33,
     "metadata": {},
     "output_type": "execute_result"
    }
   ],
   "source": [
    "%%time\n",
    "\n",
    "NPRATIO = 2\n",
    "\n",
    "users_mean_trendiness_scores, topics_mean_trendiness_scores = _preprocessing_history_trendiness_scores(\n",
    "        history=history_train, articles=articles)\n",
    "topic_mean_delays, user_mean_delays = _preprocessing_mean_delay_features(\n",
    "    articles=articles, history=history_train)\n",
    "windows, user_windows, user_topics_windows, user_category_windows = _preprocessing_window_features(\n",
    "    history=history_train, articles=articles)\n",
    "articles_endorsement = _preprocessing_article_endorsement_feature(\n",
    "    behaviors=behaviors_train, period=\"10h\")\n",
    "normalized_endorsement = normalize_endorsement(articles_endorsement)\n",
    "articles_endorsement_articleuser = _preprocessing_article_endorsement_feature_by_article_and_user(\n",
    "    behaviors=behaviors_train, period=\"20h\")\n",
    "normalized_endorsement_articleuser = normalize_endorsement_by_article_and_user(articles_endorsement_articleuser)\n",
    "\n",
    "topics = articles.select(\"topics\").explode(\"topics\").unique()\n",
    "topics = [topic for topic in topics[\"topics\"] if topic is not None]\n",
    "\n",
    "history_counts=history_train.select(['article_id_fixed']).explode('article_id_fixed').group_by('article_id_fixed').len() \\\n",
    ".rename({'article_id_fixed':'article','len':'clicked_count'})\n",
    "\n",
    "behaviors_counts=behaviors_train.select('article_ids_inview').explode('article_ids_inview').group_by('article_ids_inview').len() \\\n",
    ".rename({'article_ids_inview':'article','len':'inview_count'})\n",
    "\n",
    "# dropping duplicates that can occur because of sampling strategy\n",
    "train_ds = behaviors_train.pipe(create_binary_labels_column, shuffle=True, seed=123) \\\n",
    "    .with_columns(pl.col('gender').fill_null(2)) \\\n",
    "    .with_columns(pl.col('postcode').fill_null(5)) \\\n",
    "    .select(['impression_id', 'article_ids_inview', 'impression_time', 'labels', \n",
    "             'device_type', 'read_time', 'scroll_percentage', 'user_id', 'is_sso_user', 'gender',\n",
    "             'age', 'is_subscriber', 'session_id', 'postcode']) \\\n",
    "    .explode(['article_ids_inview', 'labels']) \\\n",
    "    .rename({'article_ids_inview': 'article', 'labels': 'target'}) \\\n",
    "    .with_columns(pl.col('article').cast(pl.Int32)) \\\n",
    "    .pipe(add_trendiness_feature, articles=articles, period='1d') \\\n",
    "    .rename({'trendiness_score': 'trendiness_score_1d'}) \\\n",
    "    .pipe(add_trendiness_feature, articles=articles, period='3d') \\\n",
    "    .rename({'trendiness_score': 'trendiness_score_3d'}) \\\n",
    "    .pipe(add_trendiness_feature, articles=articles, period='5d') \\\n",
    "    .rename({'trendiness_score': 'trendiness_score_5d'}) \\\n",
    "    .pipe(add_trendiness_feature_leak, articles=articles, period='3d') \\\n",
    "    .rename({'trendiness_score_leak':'trendiness_score_3d_leak'}) \\\n",
    "    .unique(['impression_id', 'article']) \\\n",
    "    .with_columns(\n",
    "        pl.col('impression_time').dt.weekday().alias('weekday'),\n",
    "        pl.col('impression_time').dt.hour().alias('hour'),\n",
    "        pl.col('article').cast(pl.Int32),\n",
    "        (\n",
    "            pl.col('trendiness_score_1d') / \n",
    "            pl.col('trendiness_score_3d')\n",
    "        ).alias('trendiness_score_1d/3d'),\n",
    "        (\n",
    "            pl.col('trendiness_score_1d') / \n",
    "            pl.col('trendiness_score_5d')\n",
    "        ).alias('trendiness_score_1d/5d'),\n",
    "        (\n",
    "            pl.col('trendiness_score_3d') / \n",
    "            pl.col('trendiness_score_3d').max().over(pl.col('impression_time').dt.date())\n",
    "        ).alias('normalized_trendiness_score_overall'),\n",
    "    ).join(articles.select(['article_id', 'premium', 'published_time', 'category',\n",
    "                            'sentiment_score', 'sentiment_label', 'entity_groups',\n",
    "                            'num_images', 'title_len', 'subtitle_len', 'body_len','num_topics',\n",
    "                            'total_pageviews', 'total_inviews', 'total_read_time', \n",
    "                            'total_pageviews/inviews', 'article_type']),\n",
    "           left_on='article', right_on='article_id', how='left') \\\n",
    "    .with_columns(\n",
    "        (pl.col('impression_time') - pl.col('published_time')).dt.total_days().alias('article_delay_days'),\n",
    "        (pl.col('impression_time') - pl.col('published_time')).dt.total_hours().alias('article_delay_hours'),\n",
    "    ).with_columns(\n",
    "        pl.col('entity_groups').list.contains(entity).alias(f'Entity_{entity}_Present')\n",
    "        for entity in unique_entities\n",
    "    ).drop('entity_groups') \\\n",
    "    .join(behaviors_ner_scores, on=['impression_id', 'article'], how='left') \\\n",
    "    .pipe(add_history_trendiness_scores_feature, articles=articles, \n",
    "          users_mean_trendiness_scores=users_mean_trendiness_scores,\n",
    "          topics_mean_trendiness_scores=topics_mean_trendiness_scores, topics=topics) \\\n",
    "    .pipe(add_mean_delays_features, articles=articles,\n",
    "          topic_mean_delays=topic_mean_delays, user_mean_delays=user_mean_delays) \\\n",
    "    .pipe(add_window_features, articles=articles, user_windows=user_windows,\n",
    "          user_category_windows=user_category_windows, \n",
    "          user_topics_windows=user_topics_windows, windows=windows) \\\n",
    "    .pipe(add_trendiness_feature_categories, articles=articles) \\\n",
    "    .pipe(add_article_endorsement_feature, normalized_endorsement=normalized_endorsement) \\\n",
    "    .pipe(add_article_endorsement_feature_by_article_and_user, normalized_endorsement = normalized_endorsement_articleuser) \\\n",
    "    .pipe(add_article_endorsement_feature_leak, normalized_endorsement = normalized_endorsement) \\\n",
    "    .rename({\n",
    "        \"endorsement_10h_diff_rolling_right\":\"endorsement_10h_leak_diff_rolling\",\n",
    "        \"endorsement_macd_right\":\"endorsement_leak_macd\",\n",
    "        \"endorsement_quantile_norm_10h_right\":\"endorsement_quantile_norm_10h_leak\",\n",
    "        \"normalized_endorsement_10h_rolling_max_ratio_right\":\"normalized_endorsement_10h_leak_rolling_max_ratio\"\n",
    "    }).join(history_counts, on='article',how='left') \\\n",
    "    .join(behaviors_counts , on='article', how='left')\n",
    "\n",
    "gc.collect()\n",
    "PrintColor(f\"\\n\" + GetMemUsage(), color = Fore.RED)\n",
    "\n",
    "train_ds = reduce_polars_df_memory_size(train_ds)\n",
    "PrintColor(f\"\\n\" + GetMemUsage(), color = Fore.RED)\n",
    "train_ds.head()"
   ]
  },
  {
   "cell_type": "code",
   "execution_count": 34,
   "id": "827991cc",
   "metadata": {
    "execution": {
     "iopub.execute_input": "2024-05-19T12:59:12.210230Z",
     "iopub.status.busy": "2024-05-19T12:59:12.206491Z",
     "iopub.status.idle": "2024-05-19T12:59:12.225878Z",
     "shell.execute_reply": "2024-05-19T12:59:12.224045Z"
    },
    "papermill": {
     "duration": 0.110536,
     "end_time": "2024-05-19T12:59:12.229475",
     "exception": false,
     "start_time": "2024-05-19T12:59:12.118939",
     "status": "completed"
    },
    "tags": []
   },
   "outputs": [
    {
     "data": {
      "text/plain": [
       "(2585747, 89)"
      ]
     },
     "execution_count": 34,
     "metadata": {},
     "output_type": "execute_result"
    }
   ],
   "source": [
    "train_ds.shape"
   ]
  },
  {
   "cell_type": "markdown",
   "id": "aefafff4",
   "metadata": {
    "papermill": {
     "duration": 0.096724,
     "end_time": "2024-05-19T12:59:12.409754",
     "exception": false,
     "start_time": "2024-05-19T12:59:12.313030",
     "status": "completed"
    },
    "tags": []
   },
   "source": [
    "## Session Features"
   ]
  },
  {
   "cell_type": "code",
   "execution_count": 35,
   "id": "e143d6e8",
   "metadata": {
    "execution": {
     "iopub.execute_input": "2024-05-19T12:59:12.551454Z",
     "iopub.status.busy": "2024-05-19T12:59:12.550981Z",
     "iopub.status.idle": "2024-05-19T12:59:12.557530Z",
     "shell.execute_reply": "2024-05-19T12:59:12.555980Z"
    },
    "papermill": {
     "duration": 0.07988,
     "end_time": "2024-05-19T12:59:12.560328",
     "exception": false,
     "start_time": "2024-05-19T12:59:12.480448",
     "status": "completed"
    },
    "tags": []
   },
   "outputs": [],
   "source": [
    "# behaviors_train.select(['session_id', 'impression_time', 'article_ids_clicked']) \\\n",
    "#     .group_by('session_id').map_groups(\n",
    "#         lambda group: group.explode('article_ids_clicked').sort('impression_time') \\\n",
    "#             .select(\n",
    "#                 pl.col('session_id').first(),\n",
    "#                 pl.col('article_ids_clicked').first().alias('article_id'),\n",
    "#                 (pl.col('impression_time').last() - pl.col('impression_time').first()).dt.total_minutes().alias('induced_session_len'),\n",
    "#                 (pl.col('impression_time').count() - 1).alias('num_clicked_articles_following')\n",
    "#             )\n",
    "#     ).group_by('article_id').agg(\n",
    "#         pl.col('num_clicked_articles_following').mean().alias('mean_num_clicked_articles_following'),\n",
    "#         pl.col('induced_session_len').mean().alias('mean_induced_session_len'),\n",
    "#     )"
   ]
  },
  {
   "cell_type": "code",
   "execution_count": 36,
   "id": "20a9a631",
   "metadata": {
    "execution": {
     "iopub.execute_input": "2024-05-19T12:59:12.775528Z",
     "iopub.status.busy": "2024-05-19T12:59:12.774583Z",
     "iopub.status.idle": "2024-05-19T12:59:14.775557Z",
     "shell.execute_reply": "2024-05-19T12:59:14.773789Z"
    },
    "papermill": {
     "duration": 2.103142,
     "end_time": "2024-05-19T12:59:14.778346",
     "exception": false,
     "start_time": "2024-05-19T12:59:12.675204",
     "status": "completed"
    },
    "tags": []
   },
   "outputs": [
    {
     "name": "stdout",
     "output_type": "stream",
     "text": [
      "\u001b[1m\u001b[31m\n",
      "RAM memory GB usage = 2.701\u001b[0m\n",
      "CPU times: user 2.74 s, sys: 508 ms, total: 3.25 s\n",
      "Wall time: 1.98 s\n"
     ]
    },
    {
     "data": {
      "text/html": [
       "<div><style>\n",
       ".dataframe > thead > tr,\n",
       ".dataframe > tbody > tr {\n",
       "  text-align: right;\n",
       "  white-space: pre-wrap;\n",
       "}\n",
       "</style>\n",
       "<small>shape: (2, 5)</small><table border=\"1\" class=\"dataframe\"><thead><tr><th>session_id</th><th>last_session_time</th><th>last_session_duration</th><th>all_seen_articles</th><th>mean_prev_sessions_duration</th></tr><tr><td>u32</td><td>datetime[μs]</td><td>i64</td><td>list[i32]</td><td>f64</td></tr></thead><tbody><tr><td>1899220</td><td>2023-05-16 21:51:30</td><td>0</td><td>[9768649]</td><td>0.0</td></tr><tr><td>899882</td><td>2023-05-18 06:10:13</td><td>0</td><td>[9770989]</td><td>0.0</td></tr></tbody></table></div>"
      ],
      "text/plain": [
       "shape: (2, 5)\n",
       "┌────────────┬─────────────────────┬─────────────────────┬───────────────────┬─────────────────────┐\n",
       "│ session_id ┆ last_session_time   ┆ last_session_durati ┆ all_seen_articles ┆ mean_prev_sessions_ │\n",
       "│ ---        ┆ ---                 ┆ on                  ┆ ---               ┆ duration            │\n",
       "│ u32        ┆ datetime[μs]        ┆ ---                 ┆ list[i32]         ┆ ---                 │\n",
       "│            ┆                     ┆ i64                 ┆                   ┆ f64                 │\n",
       "╞════════════╪═════════════════════╪═════════════════════╪═══════════════════╪═════════════════════╡\n",
       "│ 1899220    ┆ 2023-05-16 21:51:30 ┆ 0                   ┆ [9768649]         ┆ 0.0                 │\n",
       "│ 899882     ┆ 2023-05-18 06:10:13 ┆ 0                   ┆ [9770989]         ┆ 0.0                 │\n",
       "└────────────┴─────────────────────┴─────────────────────┴───────────────────┴─────────────────────┘"
      ]
     },
     "execution_count": 36,
     "metadata": {},
     "output_type": "execute_result"
    }
   ],
   "source": [
    "%%time\n",
    "\n",
    "last_history_df = history_train.with_columns(\n",
    "    pl.col('impression_time_fixed').list.max().alias('last_history_impression_time'),\n",
    "    pl.col('article_id_fixed').list.tail(1).alias('last_history_article'),\n",
    ").select(['user_id', 'last_history_impression_time', 'last_history_article'])\n",
    "\n",
    "last_session_time_df = behaviors_train.select(['session_id', 'user_id', 'impression_time', 'article_ids_inview']) \\\n",
    "    .group_by('session_id').agg(\n",
    "        pl.col('user_id').first(), \n",
    "        pl.col('impression_time').max().alias('session_time'), \n",
    "        pl.col('article_ids_inview').flatten().alias('all_seen_articles'),\n",
    "        (pl.col('impression_time').max() - pl.col('impression_time').min()).dt.total_minutes().alias('session_duration'),\n",
    "    ).with_columns(\n",
    "        pl.col(['session_time', 'session_duration']).shift(1).over('user_id').name.prefix('last_'),\n",
    "        pl.col('all_seen_articles').list.unique().shift(1).over('user_id'),\n",
    "        pl.col('session_duration').rolling_mean(100, min_periods=1).over('user_id').alias('mean_prev_sessions_duration'),\n",
    "    ).with_columns(pl.col(['last_session_duration']).fill_null(0)) \\\n",
    "    .join(last_history_df, on='user_id', how='left') \\\n",
    "    .with_columns(\n",
    "        pl.col('last_session_time').fill_null(pl.col('last_history_impression_time')),\n",
    "        pl.col('all_seen_articles').fill_null(pl.col('last_history_article')),\n",
    "    ).select(['session_id', 'last_session_time', 'last_session_duration', \n",
    "              'all_seen_articles', 'mean_prev_sessions_duration'])\n",
    "    \n",
    "gc.collect()\n",
    "PrintColor(f\"\\n\" + GetMemUsage(), color = Fore.RED)\n",
    "last_session_time_df.head(2)"
   ]
  },
  {
   "cell_type": "code",
   "execution_count": 37,
   "id": "df343c9e",
   "metadata": {
    "execution": {
     "iopub.execute_input": "2024-05-19T12:59:14.903726Z",
     "iopub.status.busy": "2024-05-19T12:59:14.903315Z",
     "iopub.status.idle": "2024-05-19T12:59:20.733485Z",
     "shell.execute_reply": "2024-05-19T12:59:20.731822Z"
    },
    "papermill": {
     "duration": 5.896865,
     "end_time": "2024-05-19T12:59:20.736173",
     "exception": false,
     "start_time": "2024-05-19T12:59:14.839308",
     "status": "completed"
    },
    "tags": []
   },
   "outputs": [
    {
     "name": "stdout",
     "output_type": "stream",
     "text": [
      "\u001b[1m\u001b[31m\n",
      "RAM memory GB usage = 3.048\u001b[0m\n"
     ]
    },
    {
     "data": {
      "text/html": [
       "<div><style>\n",
       ".dataframe > thead > tr,\n",
       ".dataframe > tbody > tr {\n",
       "  text-align: right;\n",
       "  white-space: pre-wrap;\n",
       "}\n",
       "</style>\n",
       "<small>shape: (2, 92)</small><table border=\"1\" class=\"dataframe\"><thead><tr><th>impression_id</th><th>article</th><th>user_id</th><th>impression_time</th><th>target</th><th>device_type</th><th>read_time</th><th>scroll_percentage</th><th>is_sso_user</th><th>gender</th><th>age</th><th>is_subscriber</th><th>postcode</th><th>trendiness_score_1d</th><th>trendiness_score_3d</th><th>trendiness_score_5d</th><th>trendiness_score_3d_leak</th><th>weekday</th><th>hour</th><th>trendiness_score_1d/3d</th><th>trendiness_score_1d/5d</th><th>normalized_trendiness_score_overall</th><th>premium</th><th>category</th><th>sentiment_score</th><th>sentiment_label</th><th>num_images</th><th>title_len</th><th>subtitle_len</th><th>body_len</th><th>num_topics</th><th>total_pageviews</th><th>total_inviews</th><th>total_read_time</th><th>total_pageviews/inviews</th><th>article_type</th><th>article_delay_days</th><th>&hellip;</th><th>user_mean_delay_hours</th><th>window_0_history_length</th><th>window_1_history_length</th><th>window_2_history_length</th><th>window_3_history_length</th><th>is_inside_window_0</th><th>is_inside_window_1</th><th>is_inside_window_2</th><th>is_inside_window_3</th><th>window_category_score</th><th>window_topics_score</th><th>trendiness_score_category</th><th>endorsement_10h</th><th>normalized_endorsement_10h</th><th>endorsement_10h_diff_rolling</th><th>endorsement_macd</th><th>endorsement_quantile_norm_10h</th><th>normalized_endorsement_10h_rolling_max_ratio</th><th>endorsement_20h_articleuser</th><th>normalized_endorsement_articleuser_20h</th><th>endorsement_20h_articleuser_diff_rolling</th><th>endorsement_articleuser_macd</th><th>endorsement_articleuser_quantile_norm_20h</th><th>normalized_endorsement_articleuser_20h_rolling_max_ratio</th><th>endorsement_10h_leak</th><th>normalized_endorsement_10h_right</th><th>endorsement_10h_leak_diff_rolling</th><th>endorsement_leak_macd</th><th>endorsement_quantile_norm_10h_leak</th><th>normalized_endorsement_10h_leak_rolling_max_ratio</th><th>clicked_count</th><th>inview_count</th><th>last_session_duration</th><th>mean_prev_sessions_duration</th><th>last_session_time_hour_diff</th><th>is_new_article</th><th>is_already_seen_article</th></tr><tr><td>u32</td><td>i32</td><td>u32</td><td>datetime[μs]</td><td>i8</td><td>i8</td><td>f32</td><td>f32</td><td>bool</td><td>i8</td><td>i8</td><td>bool</td><td>i8</td><td>i16</td><td>i16</td><td>i16</td><td>i16</td><td>i8</td><td>i8</td><td>f32</td><td>f32</td><td>f32</td><td>bool</td><td>i16</td><td>f32</td><td>str</td><td>u32</td><td>u8</td><td>u8</td><td>u16</td><td>u32</td><td>i32</td><td>i32</td><td>f32</td><td>f32</td><td>str</td><td>i16</td><td>&hellip;</td><td>f32</td><td>i16</td><td>i16</td><td>i16</td><td>i16</td><td>i8</td><td>i8</td><td>i8</td><td>i8</td><td>i16</td><td>i16</td><td>i8</td><td>u16</td><td>f32</td><td>f32</td><td>f32</td><td>f32</td><td>f32</td><td>u8</td><td>f32</td><td>f32</td><td>f32</td><td>f32</td><td>f32</td><td>i16</td><td>f32</td><td>f32</td><td>f32</td><td>f32</td><td>f32</td><td>u32</td><td>u16</td><td>i64</td><td>f64</td><td>i64</td><td>bool</td><td>bool</td></tr></thead><tbody><tr><td>531181957</td><td>9770538</td><td>2219289</td><td>2023-05-18 07:00:10</td><td>1</td><td>1</td><td>14.0</td><td>null</td><td>true</td><td>0</td><td>70</td><td>true</td><td>5</td><td>61</td><td>202</td><td>355</td><td>209</td><td>4</td><td>7</td><td>0.30198</td><td>0.171831</td><td>0.392233</td><td>false</td><td>498</td><td>0.6058</td><td>&quot;Negative&quot;</td><td>2</td><td>10</td><td>18</td><td>597</td><td>6</td><td>63862</td><td>368843</td><td>4.991874e6</td><td>0.173141</td><td>&quot;article_default&quot;</td><td>0</td><td>&hellip;</td><td>1193.180054</td><td>130</td><td>83</td><td>75</td><td>24</td><td>1</td><td>0</td><td>0</td><td>0</td><td>3</td><td>44</td><td>9</td><td>16</td><td>0.047904</td><td>0.0</td><td>0.0</td><td>2.285714</td><td>1.0</td><td>1</td><td>0.2</td><td>0.0</td><td>0.0</td><td>1.0</td><td>1.0</td><td>1526</td><td>0.014948</td><td>4.5</td><td>2.5</td><td>0.828447</td><td>0.765296</td><td>554</td><td>1792</td><td>8</td><td>3.833333</td><td>-23</td><td>true</td><td>false</td></tr><tr><td>450331134</td><td>9727087</td><td>955346</td><td>2023-05-18 07:00:08</td><td>0</td><td>3</td><td>325.0</td><td>100.0</td><td>false</td><td>2</td><td>null</td><td>false</td><td>5</td><td>77</td><td>217</td><td>385</td><td>129</td><td>4</td><td>7</td><td>0.354839</td><td>0.2</td><td>0.421359</td><td>true</td><td>118</td><td>0.6239</td><td>&quot;Neutral&quot;</td><td>5</td><td>7</td><td>29</td><td>721</td><td>5</td><td>81411</td><td>1139178</td><td>4.614807e6</td><td>0.071465</td><td>&quot;article_default&quot;</td><td>23</td><td>&hellip;</td><td>1.616667</td><td>24</td><td>18</td><td>16</td><td>9</td><td>1</td><td>0</td><td>0</td><td>0</td><td>8</td><td>12</td><td>96</td><td>17</td><td>0.050898</td><td>0.0</td><td>0.0</td><td>2.428571</td><td>1.0</td><td>1</td><td>0.142857</td><td>0.0</td><td>0.0</td><td>1.0</td><td>1.0</td><td>2121</td><td>0.018005</td><td>5.7</td><td>3.5</td><td>0.923781</td><td>0.891176</td><td>184</td><td>2126</td><td>0</td><td>0.0</td><td>-32</td><td>true</td><td>false</td></tr></tbody></table></div>"
      ],
      "text/plain": [
       "shape: (2, 92)\n",
       "┌────────────┬─────────┬─────────┬────────────┬───┬────────────┬───────────┬───────────┬───────────┐\n",
       "│ impression ┆ article ┆ user_id ┆ impression ┆ … ┆ mean_prev_ ┆ last_sess ┆ is_new_ar ┆ is_alread │\n",
       "│ _id        ┆ ---     ┆ ---     ┆ _time      ┆   ┆ sessions_d ┆ ion_time_ ┆ ticle     ┆ y_seen_ar │\n",
       "│ ---        ┆ i32     ┆ u32     ┆ ---        ┆   ┆ uration    ┆ hour_diff ┆ ---       ┆ ticle     │\n",
       "│ u32        ┆         ┆         ┆ datetime[μ ┆   ┆ ---        ┆ ---       ┆ bool      ┆ ---       │\n",
       "│            ┆         ┆         ┆ s]         ┆   ┆ f64        ┆ i64       ┆           ┆ bool      │\n",
       "╞════════════╪═════════╪═════════╪════════════╪═══╪════════════╪═══════════╪═══════════╪═══════════╡\n",
       "│ 531181957  ┆ 9770538 ┆ 2219289 ┆ 2023-05-18 ┆ … ┆ 3.833333   ┆ -23       ┆ true      ┆ false     │\n",
       "│            ┆         ┆         ┆ 07:00:10   ┆   ┆            ┆           ┆           ┆           │\n",
       "│ 450331134  ┆ 9727087 ┆ 955346  ┆ 2023-05-18 ┆ … ┆ 0.0        ┆ -32       ┆ true      ┆ false     │\n",
       "│            ┆         ┆         ┆ 07:00:08   ┆   ┆            ┆           ┆           ┆           │\n",
       "└────────────┴─────────┴─────────┴────────────┴───┴────────────┴───────────┴───────────┴───────────┘"
      ]
     },
     "execution_count": 37,
     "metadata": {},
     "output_type": "execute_result"
    }
   ],
   "source": [
    "train_ds = train_ds.join(last_session_time_df, on='session_id', how='left').with_columns(\n",
    "    (pl.col('impression_time') - pl.col('last_session_time')).dt.total_hours().alias('last_session_time_hour_diff'),\n",
    "    ((pl.col('last_session_time') - pl.col('published_time')).dt.total_hours() > 0).alias('is_new_article'),\n",
    "    pl.col('all_seen_articles').list.contains(pl.col('article')).alias('is_already_seen_article'),\n",
    ").drop(['published_time', 'session_id', 'all_seen_articles', 'last_session_time'])\n",
    "\n",
    "gc.collect()\n",
    "PrintColor(f\"\\n\" + GetMemUsage(), color = Fore.RED)\n",
    "train_ds.head(2)"
   ]
  },
  {
   "cell_type": "code",
   "execution_count": 38,
   "id": "a9f68d7c",
   "metadata": {
    "execution": {
     "iopub.execute_input": "2024-05-19T12:59:20.858381Z",
     "iopub.status.busy": "2024-05-19T12:59:20.857962Z",
     "iopub.status.idle": "2024-05-19T12:59:20.868038Z",
     "shell.execute_reply": "2024-05-19T12:59:20.866815Z"
    },
    "papermill": {
     "duration": 0.074383,
     "end_time": "2024-05-19T12:59:20.870636",
     "exception": false,
     "start_time": "2024-05-19T12:59:20.796253",
     "status": "completed"
    },
    "tags": []
   },
   "outputs": [
    {
     "data": {
      "text/html": [
       "<div><style>\n",
       ".dataframe > thead > tr,\n",
       ".dataframe > tbody > tr {\n",
       "  text-align: right;\n",
       "  white-space: pre-wrap;\n",
       "}\n",
       "</style>\n",
       "<small>shape: (1, 2)</small><table border=\"1\" class=\"dataframe\"><thead><tr><th>is_new_article</th><th>is_already_seen_article</th></tr><tr><td>f64</td><td>f64</td></tr></thead><tbody><tr><td>0.559238</td><td>0.023812</td></tr></tbody></table></div>"
      ],
      "text/plain": [
       "shape: (1, 2)\n",
       "┌────────────────┬─────────────────────────┐\n",
       "│ is_new_article ┆ is_already_seen_article │\n",
       "│ ---            ┆ ---                     │\n",
       "│ f64            ┆ f64                     │\n",
       "╞════════════════╪═════════════════════════╡\n",
       "│ 0.559238       ┆ 0.023812                │\n",
       "└────────────────┴─────────────────────────┘"
      ]
     },
     "execution_count": 38,
     "metadata": {},
     "output_type": "execute_result"
    }
   ],
   "source": [
    "train_ds.select(pl.col('is_new_article').sum() / train_ds.shape[0], pl.col('is_already_seen_article').sum() / train_ds.shape[0])"
   ]
  },
  {
   "cell_type": "code",
   "execution_count": 39,
   "id": "eb0d2234",
   "metadata": {
    "execution": {
     "iopub.execute_input": "2024-05-19T12:59:20.996070Z",
     "iopub.status.busy": "2024-05-19T12:59:20.994971Z",
     "iopub.status.idle": "2024-05-19T12:59:21.395712Z",
     "shell.execute_reply": "2024-05-19T12:59:21.394383Z"
    },
    "papermill": {
     "duration": 0.467366,
     "end_time": "2024-05-19T12:59:21.399661",
     "exception": false,
     "start_time": "2024-05-19T12:59:20.932295",
     "status": "completed"
    },
    "tags": []
   },
   "outputs": [
    {
     "data": {
      "text/plain": [
       "0"
      ]
     },
     "execution_count": 39,
     "metadata": {},
     "output_type": "execute_result"
    }
   ],
   "source": [
    "del last_history_df\n",
    "del last_session_time_df\n",
    "gc.collect()"
   ]
  },
  {
   "cell_type": "markdown",
   "id": "c1eac708",
   "metadata": {
    "papermill": {
     "duration": 0.07477,
     "end_time": "2024-05-19T12:59:21.555224",
     "exception": false,
     "start_time": "2024-05-19T12:59:21.480454",
     "status": "completed"
    },
    "tags": []
   },
   "source": [
    "## Popularities"
   ]
  },
  {
   "cell_type": "code",
   "execution_count": 40,
   "id": "ebba3b56",
   "metadata": {
    "execution": {
     "iopub.execute_input": "2024-05-19T12:59:21.701699Z",
     "iopub.status.busy": "2024-05-19T12:59:21.701230Z",
     "iopub.status.idle": "2024-05-19T12:59:25.654989Z",
     "shell.execute_reply": "2024-05-19T12:59:25.653752Z"
    },
    "papermill": {
     "duration": 4.026568,
     "end_time": "2024-05-19T12:59:25.657571",
     "exception": false,
     "start_time": "2024-05-19T12:59:21.631003",
     "status": "completed"
    },
    "tags": []
   },
   "outputs": [
    {
     "name": "stdout",
     "output_type": "stream",
     "text": [
      "Memory usage of dataframe is 701.62 MB\n",
      "Memory usage after optimization is: 649.53 MB\n",
      "Decreased by 7.4%\n",
      "\u001b[1m\u001b[31m\n",
      "RAM memory GB usage = 2.748\u001b[0m\n",
      "CPU times: user 2.84 s, sys: 1.56 s, total: 4.4 s\n",
      "Wall time: 3.93 s\n"
     ]
    },
    {
     "data": {
      "text/html": [
       "<div><style>\n",
       ".dataframe > thead > tr,\n",
       ".dataframe > tbody > tr {\n",
       "  text-align: right;\n",
       "  white-space: pre-wrap;\n",
       "}\n",
       "</style>\n",
       "<small>shape: (2, 93)</small><table border=\"1\" class=\"dataframe\"><thead><tr><th>impression_id</th><th>article</th><th>user_id</th><th>impression_time</th><th>target</th><th>device_type</th><th>read_time</th><th>scroll_percentage</th><th>is_sso_user</th><th>gender</th><th>age</th><th>is_subscriber</th><th>postcode</th><th>trendiness_score_1d</th><th>trendiness_score_3d</th><th>trendiness_score_5d</th><th>trendiness_score_3d_leak</th><th>weekday</th><th>hour</th><th>trendiness_score_1d/3d</th><th>trendiness_score_1d/5d</th><th>normalized_trendiness_score_overall</th><th>premium</th><th>category</th><th>sentiment_score</th><th>sentiment_label</th><th>num_images</th><th>title_len</th><th>subtitle_len</th><th>body_len</th><th>num_topics</th><th>total_pageviews</th><th>total_inviews</th><th>total_read_time</th><th>total_pageviews/inviews</th><th>article_type</th><th>article_delay_days</th><th>&hellip;</th><th>window_0_history_length</th><th>window_1_history_length</th><th>window_2_history_length</th><th>window_3_history_length</th><th>is_inside_window_0</th><th>is_inside_window_1</th><th>is_inside_window_2</th><th>is_inside_window_3</th><th>window_category_score</th><th>window_topics_score</th><th>trendiness_score_category</th><th>endorsement_10h</th><th>normalized_endorsement_10h</th><th>endorsement_10h_diff_rolling</th><th>endorsement_macd</th><th>endorsement_quantile_norm_10h</th><th>normalized_endorsement_10h_rolling_max_ratio</th><th>endorsement_20h_articleuser</th><th>normalized_endorsement_articleuser_20h</th><th>endorsement_20h_articleuser_diff_rolling</th><th>endorsement_articleuser_macd</th><th>endorsement_articleuser_quantile_norm_20h</th><th>normalized_endorsement_articleuser_20h_rolling_max_ratio</th><th>endorsement_10h_leak</th><th>normalized_endorsement_10h_right</th><th>endorsement_10h_leak_diff_rolling</th><th>endorsement_leak_macd</th><th>endorsement_quantile_norm_10h_leak</th><th>normalized_endorsement_10h_leak_rolling_max_ratio</th><th>clicked_count</th><th>inview_count</th><th>last_session_duration</th><th>mean_prev_sessions_duration</th><th>last_session_time_hour_diff</th><th>is_new_article</th><th>is_already_seen_article</th><th>yesterday_category_daily_pct</th></tr><tr><td>u32</td><td>i32</td><td>u32</td><td>date</td><td>i8</td><td>i8</td><td>f32</td><td>f32</td><td>bool</td><td>i8</td><td>i8</td><td>bool</td><td>i8</td><td>i16</td><td>i16</td><td>i16</td><td>i16</td><td>i8</td><td>i8</td><td>f32</td><td>f32</td><td>f32</td><td>bool</td><td>i16</td><td>f32</td><td>str</td><td>u32</td><td>u8</td><td>u8</td><td>u16</td><td>u32</td><td>i32</td><td>i32</td><td>f32</td><td>f32</td><td>str</td><td>i16</td><td>&hellip;</td><td>i16</td><td>i16</td><td>i16</td><td>i16</td><td>i8</td><td>i8</td><td>i8</td><td>i8</td><td>i16</td><td>i16</td><td>i8</td><td>u16</td><td>f32</td><td>f32</td><td>f32</td><td>f32</td><td>f32</td><td>u8</td><td>f32</td><td>f32</td><td>f32</td><td>f32</td><td>f32</td><td>i16</td><td>f32</td><td>f32</td><td>f32</td><td>f32</td><td>f32</td><td>u32</td><td>u16</td><td>i8</td><td>f32</td><td>i16</td><td>bool</td><td>bool</td><td>f32</td></tr></thead><tbody><tr><td>531181957</td><td>9770538</td><td>2219289</td><td>2023-05-17</td><td>1</td><td>1</td><td>14.0</td><td>null</td><td>true</td><td>0</td><td>70</td><td>true</td><td>5</td><td>61</td><td>202</td><td>355</td><td>209</td><td>4</td><td>7</td><td>0.30198</td><td>0.171831</td><td>0.392233</td><td>false</td><td>498</td><td>0.6058</td><td>&quot;Negative&quot;</td><td>2</td><td>10</td><td>18</td><td>597</td><td>6</td><td>63862</td><td>368843</td><td>4.991874e6</td><td>0.173141</td><td>&quot;article_default&quot;</td><td>0</td><td>&hellip;</td><td>130</td><td>83</td><td>75</td><td>24</td><td>1</td><td>0</td><td>0</td><td>0</td><td>3</td><td>44</td><td>9</td><td>16</td><td>0.047904</td><td>0.0</td><td>0.0</td><td>2.285714</td><td>1.0</td><td>1</td><td>0.2</td><td>0.0</td><td>0.0</td><td>1.0</td><td>1.0</td><td>1526</td><td>0.014948</td><td>4.5</td><td>2.5</td><td>0.828447</td><td>0.765296</td><td>554</td><td>1792</td><td>8</td><td>3.833333</td><td>-23</td><td>true</td><td>false</td><td>0.02381</td></tr><tr><td>450331134</td><td>9727087</td><td>955346</td><td>2023-05-17</td><td>0</td><td>3</td><td>325.0</td><td>100.0</td><td>false</td><td>2</td><td>null</td><td>false</td><td>5</td><td>77</td><td>217</td><td>385</td><td>129</td><td>4</td><td>7</td><td>0.354839</td><td>0.2</td><td>0.421359</td><td>true</td><td>118</td><td>0.6239</td><td>&quot;Neutral&quot;</td><td>5</td><td>7</td><td>29</td><td>721</td><td>5</td><td>81411</td><td>1139178</td><td>4.614807e6</td><td>0.071465</td><td>&quot;article_default&quot;</td><td>23</td><td>&hellip;</td><td>24</td><td>18</td><td>16</td><td>9</td><td>1</td><td>0</td><td>0</td><td>0</td><td>8</td><td>12</td><td>96</td><td>17</td><td>0.050898</td><td>0.0</td><td>0.0</td><td>2.428571</td><td>1.0</td><td>1</td><td>0.142857</td><td>0.0</td><td>0.0</td><td>1.0</td><td>1.0</td><td>2121</td><td>0.018005</td><td>5.7</td><td>3.5</td><td>0.923781</td><td>0.891176</td><td>184</td><td>2126</td><td>0</td><td>0.0</td><td>-32</td><td>true</td><td>false</td><td>0.222222</td></tr></tbody></table></div>"
      ],
      "text/plain": [
       "shape: (2, 93)\n",
       "┌────────────┬─────────┬─────────┬────────────┬───┬────────────┬───────────┬───────────┬───────────┐\n",
       "│ impression ┆ article ┆ user_id ┆ impression ┆ … ┆ last_sessi ┆ is_new_ar ┆ is_alread ┆ yesterday │\n",
       "│ _id        ┆ ---     ┆ ---     ┆ _time      ┆   ┆ on_time_ho ┆ ticle     ┆ y_seen_ar ┆ _category │\n",
       "│ ---        ┆ i32     ┆ u32     ┆ ---        ┆   ┆ ur_diff    ┆ ---       ┆ ticle     ┆ _daily_pc │\n",
       "│ u32        ┆         ┆         ┆ date       ┆   ┆ ---        ┆ bool      ┆ ---       ┆ t         │\n",
       "│            ┆         ┆         ┆            ┆   ┆ i16        ┆           ┆ bool      ┆ ---       │\n",
       "│            ┆         ┆         ┆            ┆   ┆            ┆           ┆           ┆ f32       │\n",
       "╞════════════╪═════════╪═════════╪════════════╪═══╪════════════╪═══════════╪═══════════╪═══════════╡\n",
       "│ 531181957  ┆ 9770538 ┆ 2219289 ┆ 2023-05-17 ┆ … ┆ -23        ┆ true      ┆ false     ┆ 0.02381   │\n",
       "│ 450331134  ┆ 9727087 ┆ 955346  ┆ 2023-05-17 ┆ … ┆ -32        ┆ true      ┆ false     ┆ 0.222222  │\n",
       "└────────────┴─────────┴─────────┴────────────┴───┴────────────┴───────────┴───────────┴───────────┘"
      ]
     },
     "execution_count": 40,
     "metadata": {},
     "output_type": "execute_result"
    }
   ],
   "source": [
    "%%time\n",
    "\n",
    "articles_date_popularity = articles.select(['published_time', 'article_id']) \\\n",
    "    .group_by(pl.col('published_time').dt.date().alias('published_date')) \\\n",
    "    .agg(pl.col('article_id').count().alias('daily_articles')) \\\n",
    "\n",
    "published_category_popularity = articles.select(['published_time', 'article_id', 'category']) \\\n",
    "    .group_by([pl.col('published_time').dt.date().alias('published_date'), 'category']) \\\n",
    "    .agg(pl.col('article_id').count().alias('category_daily_articles')) \\\n",
    "    .join(articles_date_popularity, on='published_date', how='left') \\\n",
    "    .with_columns((pl.col('category_daily_articles') / pl.col('daily_articles')).alias('category_daily_pct')) \\\n",
    "    .drop(['category_daily_articles', 'daily_articles'])\n",
    "\n",
    "train_ds = train_ds.join(published_category_popularity, how='left', right_on=['published_date', 'category'],\n",
    "                         left_on=[pl.col('impression_time').dt.date() - pl.duration(days=1), 'category']) \\\n",
    "    .rename({'category_daily_pct': 'yesterday_category_daily_pct'}) \\\n",
    "    .with_columns(pl.col('yesterday_category_daily_pct').fill_null(0))\n",
    "train_ds = reduce_polars_df_memory_size(train_ds)\n",
    "\n",
    "gc.collect()\n",
    "PrintColor(f\"\\n\" + GetMemUsage(), color = Fore.RED)\n",
    "train_ds.head(2)"
   ]
  },
  {
   "cell_type": "markdown",
   "id": "017488fd",
   "metadata": {
    "papermill": {
     "duration": 0.061553,
     "end_time": "2024-05-19T12:59:25.781054",
     "exception": false,
     "start_time": "2024-05-19T12:59:25.719501",
     "status": "completed"
    },
    "tags": []
   },
   "source": [
    "# Adding history features"
   ]
  },
  {
   "cell_type": "code",
   "execution_count": 41,
   "id": "5c78b6b2",
   "metadata": {
    "execution": {
     "iopub.execute_input": "2024-05-19T12:59:25.912826Z",
     "iopub.status.busy": "2024-05-19T12:59:25.912391Z",
     "iopub.status.idle": "2024-05-19T13:38:21.463099Z",
     "shell.execute_reply": "2024-05-19T13:38:21.461497Z"
    },
    "papermill": {
     "duration": 2335.621017,
     "end_time": "2024-05-19T13:38:21.466319",
     "exception": false,
     "start_time": "2024-05-19T12:59:25.845302",
     "status": "completed"
    },
    "scrolled": true,
    "tags": []
   },
   "outputs": [
    {
     "name": "stderr",
     "output_type": "stream",
     "text": [
      "259it [38:50,  9.00s/it]\n"
     ]
    },
    {
     "name": "stdout",
     "output_type": "stream",
     "text": [
      "Memory usage of dataframe is 1700.14 MB\n",
      "Memory usage after optimization is: 1317.92 MB\n",
      "Decreased by 22.5%\n",
      "\u001b[1m\u001b[31m\n",
      "RAM memory GB usage = 5.02\u001b[0m\n"
     ]
    },
    {
     "data": {
      "text/html": [
       "<div><style>\n",
       ".dataframe > thead > tr,\n",
       ".dataframe > tbody > tr {\n",
       "  text-align: right;\n",
       "  white-space: pre-wrap;\n",
       "}\n",
       "</style>\n",
       "<small>shape: (2, 165)</small><table border=\"1\" class=\"dataframe\"><thead><tr><th>impression_id</th><th>article</th><th>user_id</th><th>target</th><th>device_type</th><th>read_time</th><th>scroll_percentage</th><th>is_sso_user</th><th>gender</th><th>age</th><th>is_subscriber</th><th>postcode</th><th>trendiness_score_1d</th><th>trendiness_score_3d</th><th>trendiness_score_5d</th><th>trendiness_score_3d_leak</th><th>weekday</th><th>hour</th><th>trendiness_score_1d/3d</th><th>trendiness_score_1d/5d</th><th>normalized_trendiness_score_overall</th><th>premium</th><th>category</th><th>sentiment_score</th><th>sentiment_label</th><th>num_images</th><th>title_len</th><th>subtitle_len</th><th>body_len</th><th>num_topics</th><th>total_pageviews</th><th>total_inviews</th><th>total_read_time</th><th>total_pageviews/inviews</th><th>article_type</th><th>article_delay_days</th><th>article_delay_hours</th><th>&hellip;</th><th>MostFrequentWeekday</th><th>MostFrequentHour</th><th>LOCPct</th><th>PERPct</th><th>ORGPct</th><th>PRODPct</th><th>MISCPct</th><th>EVENTPct</th><th>topics_cosine</th><th>IsFavouriteCategory</th><th>NumberDifferentCategories</th><th>PctCategoryMatches</th><th>Category_ferie_Pct</th><th>Category_underholdning_Pct</th><th>Category_penge_Pct</th><th>Category_krimi_Pct</th><th>Category_bibliotek_Pct</th><th>Category_side9_Pct</th><th>Category_podcast_Pct</th><th>Category_haandvaerkeren_Pct</th><th>Category_forbrug_Pct</th><th>Category_musik_Pct</th><th>Category_horoskoper_Pct</th><th>Category_auto_Pct</th><th>Category_dagsorden_Pct</th><th>Category_plus_Pct</th><th>Category_vin_Pct</th><th>Category_nyheder_Pct</th><th>Category_om_ekstra_bladet_Pct</th><th>Category_biler_Pct</th><th>Category_opinionen_Pct</th><th>Category_services_Pct</th><th>Category_incoming_Pct</th><th>Category_sport_Pct</th><th>Category_nationen_Pct</th><th>Category_video_Pct</th><th>Category_sex_og_samliv_Pct</th></tr><tr><td>u32</td><td>i32</td><td>u32</td><td>i8</td><td>i8</td><td>f32</td><td>f32</td><td>bool</td><td>i8</td><td>i8</td><td>bool</td><td>i8</td><td>i16</td><td>i16</td><td>i16</td><td>i16</td><td>i8</td><td>i8</td><td>f32</td><td>f32</td><td>f32</td><td>bool</td><td>i16</td><td>f32</td><td>str</td><td>u32</td><td>u8</td><td>u8</td><td>u16</td><td>u32</td><td>i32</td><td>i32</td><td>f32</td><td>f32</td><td>str</td><td>i16</td><td>i32</td><td>&hellip;</td><td>i8</td><td>i8</td><td>f32</td><td>f32</td><td>f32</td><td>f32</td><td>f32</td><td>f32</td><td>f32</td><td>bool</td><td>u8</td><td>f32</td><td>f32</td><td>f32</td><td>f32</td><td>f32</td><td>f32</td><td>f32</td><td>f32</td><td>f32</td><td>f32</td><td>f32</td><td>f32</td><td>f32</td><td>f32</td><td>f32</td><td>f32</td><td>f32</td><td>f32</td><td>f32</td><td>f32</td><td>f32</td><td>f32</td><td>f32</td><td>f32</td><td>f32</td><td>f32</td></tr></thead><tbody><tr><td>68358190</td><td>9769553</td><td>1190605</td><td>0</td><td>2</td><td>21.0</td><td>null</td><td>false</td><td>2</td><td>null</td><td>false</td><td>5</td><td>102</td><td>281</td><td>386</td><td>215</td><td>4</td><td>7</td><td>0.362989</td><td>0.264249</td><td>0.545631</td><td>false</td><td>140</td><td>0.9262</td><td>&quot;Negative&quot;</td><td>2</td><td>4</td><td>33</td><td>448</td><td>3</td><td>71089</td><td>436766</td><td>5.159866e6</td><td>0.162762</td><td>&quot;article_default&quot;</td><td>0</td><td>1</td><td>&hellip;</td><td>2</td><td>15</td><td>0.790528</td><td>0.885246</td><td>0.934426</td><td>0.20765</td><td>0.162113</td><td>0.245902</td><td>0.433752</td><td>false</td><td>8</td><td>0.98725</td><td>0.0</td><td>0.102004</td><td>0.005464</td><td>0.176685</td><td>0.0</td><td>0.0</td><td>0.0</td><td>0.0</td><td>0.009107</td><td>0.010929</td><td>0.0</td><td>0.0</td><td>0.0</td><td>0.0</td><td>0.0</td><td>0.347905</td><td>0.0</td><td>0.0</td><td>0.0</td><td>0.0</td><td>0.0</td><td>0.306011</td><td>0.041894</td><td>0.0</td><td>0.0</td></tr><tr><td>26762169</td><td>9763284</td><td>1421843</td><td>0</td><td>2</td><td>35.0</td><td>null</td><td>false</td><td>2</td><td>null</td><td>false</td><td>5</td><td>118</td><td>336</td><td>629</td><td>340</td><td>4</td><td>7</td><td>0.35119</td><td>0.187599</td><td>0.652427</td><td>false</td><td>142</td><td>0.9862</td><td>&quot;Negative&quot;</td><td>2</td><td>8</td><td>1</td><td>219</td><td>4</td><td>66034</td><td>336785</td><td>4.619203e6</td><td>0.196072</td><td>&quot;article_default&quot;</td><td>0</td><td>2</td><td>&hellip;</td><td>3</td><td>18</td><td>0.748201</td><td>0.928058</td><td>0.942446</td><td>0.28777</td><td>0.143885</td><td>0.136691</td><td>0.387265</td><td>false</td><td>8</td><td>0.94964</td><td>0.0</td><td>0.158273</td><td>0.086331</td><td>0.258993</td><td>0.0</td><td>0.0</td><td>0.0</td><td>0.0</td><td>0.014388</td><td>0.014388</td><td>0.0</td><td>0.0</td><td>0.0</td><td>0.0</td><td>0.0</td><td>0.309353</td><td>0.0</td><td>0.0</td><td>0.0</td><td>0.0</td><td>0.0</td><td>0.129496</td><td>0.028777</td><td>0.0</td><td>0.0</td></tr></tbody></table></div>"
      ],
      "text/plain": [
       "shape: (2, 165)\n",
       "┌─────────────┬─────────┬─────────┬────────┬───┬────────────┬────────────┬────────────┬────────────┐\n",
       "│ impression_ ┆ article ┆ user_id ┆ target ┆ … ┆ Category_s ┆ Category_n ┆ Category_v ┆ Category_s │\n",
       "│ id          ┆ ---     ┆ ---     ┆ ---    ┆   ┆ port_Pct   ┆ ationen_Pc ┆ ideo_Pct   ┆ ex_og_saml │\n",
       "│ ---         ┆ i32     ┆ u32     ┆ i8     ┆   ┆ ---        ┆ t          ┆ ---        ┆ iv_Pct     │\n",
       "│ u32         ┆         ┆         ┆        ┆   ┆ f32        ┆ ---        ┆ f32        ┆ ---        │\n",
       "│             ┆         ┆         ┆        ┆   ┆            ┆ f32        ┆            ┆ f32        │\n",
       "╞═════════════╪═════════╪═════════╪════════╪═══╪════════════╪════════════╪════════════╪════════════╡\n",
       "│ 68358190    ┆ 9769553 ┆ 1190605 ┆ 0      ┆ … ┆ 0.306011   ┆ 0.041894   ┆ 0.0        ┆ 0.0        │\n",
       "│ 26762169    ┆ 9763284 ┆ 1421843 ┆ 0      ┆ … ┆ 0.129496   ┆ 0.028777   ┆ 0.0        ┆ 0.0        │\n",
       "└─────────────┴─────────┴─────────┴────────┴───┴────────────┴────────────┴────────────┴────────────┘"
      ]
     },
     "execution_count": 41,
     "metadata": {},
     "output_type": "execute_result"
    }
   ],
   "source": [
    "def list_pct_matches_with_col(a, b) -> pl.Expr:\n",
    "    '''\n",
    "    Returns an expression to count the percentage of matching element in a list with another column.\n",
    "    The polars function count_matches cannot be used since it wants only a single element, \n",
    "    variable element from row to row.\n",
    "    '''\n",
    "    return pl.when(pl.col(a).list.len() == 0).then(0.0) \\\n",
    "        .otherwise((pl.col(a).list.len() - (pl.col(a).list.set_difference(pl.col(b))).list.len()) / pl.col(a).list.len())\n",
    "\n",
    "\n",
    "def list_pct_matches_with_constant(a, value) -> pl.Expr:\n",
    "    '''\n",
    "    Returns an expression to count the percentage of matching element in a list with a constant value.\n",
    "    The polars function count_matches cannot be used since it wants only a single element, \n",
    "    variable element from row to row.\n",
    "    '''\n",
    "    return pl.when(pl.col(a).list.len() == 0).then(0.0) \\\n",
    "        .otherwise(pl.col(a).list.count_matches(value) / pl.col(a).list.len())\n",
    "\n",
    "\n",
    "def cosine_similarity(x, y):\n",
    "    x = np.array(x)\n",
    "    y = np.array(y)\n",
    "    normalization = np.linalg.norm(x, 2) * np.linalg.norm(y, 2)\n",
    "    return np.dot(x, y) / normalization if normalization > 0 else 0\n",
    "\n",
    "\n",
    "prev_train_columns = [c for c in train_ds.columns if c not in ['impression_id', 'article', 'impression_time']]\n",
    "\n",
    "train_ds = pl.concat(\n",
    "    rows.join(history_train.select(['user_id', 'article_id_fixed', 'impression_time_fixed']), on='user_id', how='left') \\\n",
    "        .join(articles.select(['article_id', 'topics', 'entity_groups', 'topics_idf'] + topic_model_columns), \n",
    "              left_on='article', right_on='article_id', how='left') \\\n",
    "        .explode(['article_id_fixed', 'impression_time_fixed']) \\\n",
    "        .join(articles.select(['article_id', 'topics', 'entity_groups'] + topic_model_columns), \n",
    "              left_on='article_id_fixed', right_on='article_id', how='left') \\\n",
    "        .rename({'topics_right': 'topics_history', 'entity_groups_right': 'entity_groups_history'}) \\\n",
    "        .rename({f'topic_model_embedding_{i}_right': f'topic_model_embedding_{i}_history' for i in range(N_COMPONENTS)}) \\\n",
    "        .with_columns(\n",
    "            # 1/delay gives the weight for the weighted mean of the lda embeddings\n",
    "            (1 / (pl.col('impression_time') - pl.col('impression_time_fixed')).dt.total_hours().sqrt()).alias('history_weight'),\n",
    "            (pl.col(\"topics\").list.set_intersection(pl.col(\"topics_history\")).list.len().truediv(\n",
    "                pl.col(\"topics\").list.set_union(pl.col(\"topics_history\")).list.len()\n",
    "            )).alias(\"JS\"),\n",
    "            pl.col('entity_groups').list.set_intersection(pl.col('entity_groups_history')).list.len().alias('common_entities'),\n",
    "        ).drop(['entity_groups_history', 'entity_groups', 'topics', 'topics_history']) \\\n",
    "        .with_columns(\n",
    "            # summing delays to normalize them before weighted mean\n",
    "            pl.col('history_weight').sum().over(['impression_id', 'article']).alias('history_weight_sum'),\n",
    "            *[pl.col(x).mul(pl.col(f'{x}_history')).alias(f'{x}_dot') for x in topic_model_columns],\n",
    "            *[pl.col(x).mul(pl.col(x)) for x in topic_model_columns],\n",
    "            *[pl.col(f'{x}_history').mul(pl.col(f'{x}_history')).alias(f'{x}_history_square') for x in topic_model_columns],\n",
    "        ).with_columns(\n",
    "            # weights now sum to 1\n",
    "            pl.col('history_weight').truediv(pl.col('history_weight_sum')),\n",
    "            pl.sum_horizontal(topic_model_columns).sqrt().alias('topic_model_norm'),\n",
    "            pl.sum_horizontal([f'{x}_history_square' for x in topic_model_columns]).sqrt().alias('topic_model_history_norm'),\n",
    "            pl.sum_horizontal([f'{x}_dot' for x in topic_model_columns]).alias('topic_model_dot'),\n",
    "        ).with_columns(\n",
    "            *[pl.col(f'{x}_history').mul(pl.col('history_weight')).alias(f'{x}_history_weighted') for i, x in enumerate(topic_model_columns)],\n",
    "            pl.col('topic_model_dot').truediv(pl.col('topic_model_norm').mul('topic_model_history_norm')).alias('topic_model_cosine')\n",
    "        ).group_by(['impression_id', 'article']).agg(\n",
    "            pl.col(prev_train_columns).first(),\n",
    "            pl.col('topics_idf').first(),\n",
    "            pl.col('common_entities').mean().alias('MeanCommonEntities'),\n",
    "            pl.col('common_entities').max().alias('MaxCommonEntities'),\n",
    "            pl.col(\"JS\").mean().alias(\"mean_JS\"),\n",
    "            pl.col(\"JS\").min().alias(\"min_JS\"),\n",
    "            pl.col(\"JS\").max().alias(\"max_JS\"),\n",
    "            pl.col(\"JS\").std().alias(\"std_JS\"),\n",
    "            pl.col(\"JS\").mul(pl.col(\"history_weight\")).sum().alias(\"weighted_mean_JS\"),\n",
    "            pl.col(\"topic_model_cosine\").mean().alias(\"mean_topic_model_cosine\"),\n",
    "            pl.col(\"topic_model_cosine\").min().alias(\"min_topic_model_cosine\"),\n",
    "            pl.col(\"topic_model_cosine\").max().alias(\"max_topic_model_cosine\"),\n",
    "            pl.col(\"topic_model_cosine\").std().alias(\"std_topic_model_cosine\"),\n",
    "            pl.col(\"topic_model_cosine\").mul(pl.col(\"history_weight\")).sum().alias(\"weighted_mean_topic_model_cosine\"),\n",
    "            *[pl.col(f'{x}_history').mean().alias(f'lda_{i}_history_mean') for i, x in enumerate(topic_model_columns)],\n",
    "            *[pl.col(f'{x}_history_weighted').sum().alias(f'lda_{i}_history_weighted_mean') for i, x in enumerate(topic_model_columns)]\n",
    "        ).join(history_train.drop(['article_id_fixed', 'impression_time_fixed']), on='user_id', how='left') \\\n",
    "        .with_columns(\n",
    "            pl.struct(['topics_idf', 'topics_flatten_tf_idf']).map_elements(\n",
    "                lambda x: cosine_similarity(x['topics_idf'], x['topics_flatten_tf_idf']), return_dtype=pl.Float64\n",
    "            ).cast(pl.Float32).alias('topics_cosine'),\n",
    "            (pl.col('category') == pl.col('MostFrequentCategory')).alias('IsFavouriteCategory'),\n",
    "            pl.col('category_right').list.n_unique().alias('NumberDifferentCategories'),\n",
    "            list_pct_matches_with_col('category_right', 'category').alias('PctCategoryMatches'),\n",
    "        ).with_columns(\n",
    "            [list_pct_matches_with_constant('category_right', c).alias(f'Category_{c_str}_Pct')\n",
    "             for c, c_str in unique_categories.items()]\n",
    "        ).drop(['topics_idf', 'topics_flatten', 'topics_flatten_tf_idf', 'category_right'])\n",
    "    for rows in tqdm.tqdm(train_ds.iter_slices(10000), total=train_ds.shape[0] // 10000)\n",
    ")\n",
    "train_ds = reduce_polars_df_memory_size(train_ds)\n",
    "\n",
    "PrintColor(f\"\\n\" + GetMemUsage(), color = Fore.RED)\n",
    "train_ds.head(2)"
   ]
  },
  {
   "cell_type": "code",
   "execution_count": 42,
   "id": "53ed901d",
   "metadata": {
    "execution": {
     "iopub.execute_input": "2024-05-19T13:38:21.639838Z",
     "iopub.status.busy": "2024-05-19T13:38:21.639378Z",
     "iopub.status.idle": "2024-05-19T13:39:42.323274Z",
     "shell.execute_reply": "2024-05-19T13:39:42.322307Z"
    },
    "papermill": {
     "duration": 80.773464,
     "end_time": "2024-05-19T13:39:42.326357",
     "exception": false,
     "start_time": "2024-05-19T13:38:21.552893",
     "status": "completed"
    },
    "tags": []
   },
   "outputs": [
    {
     "name": "stderr",
     "output_type": "stream",
     "text": [
      "  0%|          | 0/12 [00:00<?, ?it/s]"
     ]
    },
    {
     "name": "stdout",
     "output_type": "stream",
     "text": [
      "Memory usage of dataframe is 1595.64 MB\n"
     ]
    },
    {
     "name": "stderr",
     "output_type": "stream",
     "text": [
      "  8%|▊         | 1/12 [00:07<01:17,  7.05s/it]"
     ]
    },
    {
     "name": "stdout",
     "output_type": "stream",
     "text": [
      "Memory usage after optimization is: 1487.14 MB\n",
      "Decreased by 6.8%\n",
      "Memory usage of dataframe is 1517.04 MB\n"
     ]
    },
    {
     "name": "stderr",
     "output_type": "stream",
     "text": [
      " 17%|█▋        | 2/12 [00:10<00:51,  5.19s/it]"
     ]
    },
    {
     "name": "stdout",
     "output_type": "stream",
     "text": [
      "Memory usage after optimization is: 1503.06 MB\n",
      "Decreased by 0.9%\n",
      "Memory usage of dataframe is 1652.56 MB\n"
     ]
    },
    {
     "name": "stderr",
     "output_type": "stream",
     "text": [
      " 25%|██▌       | 3/12 [00:21<01:09,  7.75s/it]"
     ]
    },
    {
     "name": "stdout",
     "output_type": "stream",
     "text": [
      "Memory usage after optimization is: 1578.58 MB\n",
      "Decreased by 4.5%\n",
      "Memory usage of dataframe is 1856.31 MB\n"
     ]
    },
    {
     "name": "stderr",
     "output_type": "stream",
     "text": [
      " 33%|███▎      | 4/12 [00:25<00:47,  5.98s/it]"
     ]
    },
    {
     "name": "stdout",
     "output_type": "stream",
     "text": [
      "Memory usage after optimization is: 1747.81 MB\n",
      "Decreased by 5.8%\n",
      "Memory usage of dataframe is 2084.72 MB\n"
     ]
    },
    {
     "name": "stderr",
     "output_type": "stream",
     "text": [
      " 42%|████▏     | 5/12 [00:38<00:59,  8.55s/it]"
     ]
    },
    {
     "name": "stdout",
     "output_type": "stream",
     "text": [
      "Memory usage after optimization is: 1917.03 MB\n",
      "Decreased by 8.0%\n",
      "Memory usage of dataframe is 2253.94 MB\n"
     ]
    },
    {
     "name": "stderr",
     "output_type": "stream",
     "text": [
      " 50%|█████     | 6/12 [00:51<01:00, 10.16s/it]"
     ]
    },
    {
     "name": "stdout",
     "output_type": "stream",
     "text": [
      "Memory usage after optimization is: 2086.26 MB\n",
      "Decreased by 7.4%\n",
      "Memory usage of dataframe is 2362.45 MB\n"
     ]
    },
    {
     "name": "stderr",
     "output_type": "stream",
     "text": [
      " 58%|█████▊    | 7/12 [01:02<00:52, 10.42s/it]"
     ]
    },
    {
     "name": "stdout",
     "output_type": "stream",
     "text": [
      "Memory usage after optimization is: 2253.94 MB\n",
      "Decreased by 4.6%\n",
      "Memory usage of dataframe is 2531.67 MB\n"
     ]
    },
    {
     "name": "stderr",
     "output_type": "stream",
     "text": [
      " 67%|██████▋   | 8/12 [01:09<00:36,  9.23s/it]"
     ]
    },
    {
     "name": "stdout",
     "output_type": "stream",
     "text": [
      "Memory usage after optimization is: 2423.17 MB\n",
      "Decreased by 4.3%\n",
      "Memory usage of dataframe is 2462.63 MB\n"
     ]
    },
    {
     "name": "stderr",
     "output_type": "stream",
     "text": [
      " 75%|███████▌  | 9/12 [01:11<00:21,  7.13s/it]"
     ]
    },
    {
     "name": "stdout",
     "output_type": "stream",
     "text": [
      "Memory usage after optimization is: 2462.63 MB\n",
      "Decreased by 0.0%\n",
      "Memory usage of dataframe is 2521.81 MB\n"
     ]
    },
    {
     "name": "stderr",
     "output_type": "stream",
     "text": [
      " 83%|████████▎ | 10/12 [01:14<00:11,  5.75s/it]"
     ]
    },
    {
     "name": "stdout",
     "output_type": "stream",
     "text": [
      "Memory usage after optimization is: 2511.95 MB\n",
      "Decreased by 0.4%\n",
      "Memory usage of dataframe is 2541.54 MB\n"
     ]
    },
    {
     "name": "stderr",
     "output_type": "stream",
     "text": [
      " 92%|█████████▏| 11/12 [01:17<00:05,  5.01s/it]"
     ]
    },
    {
     "name": "stdout",
     "output_type": "stream",
     "text": [
      "Memory usage after optimization is: 2519.34 MB\n",
      "Decreased by 0.9%\n",
      "Memory usage of dataframe is 2539.07 MB\n"
     ]
    },
    {
     "name": "stderr",
     "output_type": "stream",
     "text": [
      "100%|██████████| 12/12 [01:20<00:00,  6.72s/it]"
     ]
    },
    {
     "name": "stdout",
     "output_type": "stream",
     "text": [
      "Memory usage after optimization is: 2529.21 MB\n",
      "Decreased by 0.4%\n",
      "\u001b[1m\u001b[31m\n",
      "RAM memory GB usage = 5.328\u001b[0m\n"
     ]
    },
    {
     "name": "stderr",
     "output_type": "stream",
     "text": [
      "\n"
     ]
    },
    {
     "data": {
      "text/html": [
       "<div><style>\n",
       ".dataframe > thead > tr,\n",
       ".dataframe > tbody > tr {\n",
       "  text-align: right;\n",
       "  white-space: pre-wrap;\n",
       "}\n",
       "</style>\n",
       "<small>shape: (2, 298)</small><table border=\"1\" class=\"dataframe\"><thead><tr><th>impression_id</th><th>article</th><th>user_id</th><th>target</th><th>device_type</th><th>read_time</th><th>scroll_percentage</th><th>is_sso_user</th><th>gender</th><th>age</th><th>is_subscriber</th><th>postcode</th><th>trendiness_score_1d</th><th>trendiness_score_3d</th><th>trendiness_score_5d</th><th>trendiness_score_3d_leak</th><th>weekday</th><th>hour</th><th>trendiness_score_1d/3d</th><th>trendiness_score_1d/5d</th><th>normalized_trendiness_score_overall</th><th>premium</th><th>category</th><th>sentiment_score</th><th>sentiment_label</th><th>num_images</th><th>title_len</th><th>subtitle_len</th><th>body_len</th><th>num_topics</th><th>total_pageviews</th><th>total_inviews</th><th>total_read_time</th><th>total_pageviews/inviews</th><th>article_type</th><th>article_delay_days</th><th>article_delay_hours</th><th>&hellip;</th><th>entropy_impression_trendiness_score_category</th><th>entropy_impression_std_JS</th><th>entropy_impression_total_read_time</th><th>entropy_impression_endorsement_10h_leak</th><th>entropy_impression_trendiness_score_3d_leak</th><th>entropy_impression_clicked_count</th><th>entropy_impression_inview_count</th><th>trendiness_score_3d_minus_median_impression</th><th>trendiness_score_5d_minus_median_impression</th><th>endorsement_10h_minus_median_impression</th><th>total_pageviews/inviews_minus_median_impression</th><th>mean_JS_minus_median_impression</th><th>mean_topic_model_cosine_minus_median_impression</th><th>topics_cosine_minus_median_impression</th><th>article_delay_hours_minus_median_impression</th><th>total_pageviews_minus_median_impression</th><th>total_inviews_minus_median_impression</th><th>trendiness_score_category_minus_median_impression</th><th>std_JS_minus_median_impression</th><th>total_read_time_minus_median_impression</th><th>endorsement_10h_leak_minus_median_impression</th><th>trendiness_score_3d_leak_minus_median_impression</th><th>clicked_count_minus_median_impression</th><th>inview_count_minus_median_impression</th><th>mean_JS_l_inf_user</th><th>std_JS_l_inf_user</th><th>mean_topic_model_cosine_l_inf_user</th><th>topics_cosine_l_inf_user</th><th>article_delay_hours_l_inf_article</th><th>mean_JS_l_inf_article</th><th>std_JS_l_inf_article</th><th>mean_topic_model_cosine_l_inf_article</th><th>topics_cosine_l_inf_article</th><th>category_diversity_impression</th><th>sentiment_label_diversity_impression</th><th>article_type_diversity_impression</th><th>endorsement_20h_articleuser_l_inf_article_user</th></tr><tr><td>u32</td><td>i32</td><td>u32</td><td>i8</td><td>i8</td><td>f32</td><td>f32</td><td>bool</td><td>i8</td><td>i8</td><td>bool</td><td>i8</td><td>i16</td><td>i16</td><td>i16</td><td>i16</td><td>i8</td><td>i8</td><td>f32</td><td>f32</td><td>f32</td><td>bool</td><td>i16</td><td>f32</td><td>str</td><td>u32</td><td>u8</td><td>u8</td><td>u16</td><td>u32</td><td>i32</td><td>i32</td><td>f32</td><td>f32</td><td>str</td><td>i16</td><td>i32</td><td>&hellip;</td><td>f32</td><td>f32</td><td>f32</td><td>f32</td><td>f32</td><td>f32</td><td>f32</td><td>f32</td><td>f32</td><td>f32</td><td>f32</td><td>f32</td><td>f32</td><td>f32</td><td>f32</td><td>f32</td><td>f32</td><td>f32</td><td>f32</td><td>f32</td><td>f32</td><td>f32</td><td>f32</td><td>f32</td><td>f32</td><td>f32</td><td>f32</td><td>f32</td><td>f32</td><td>f32</td><td>f32</td><td>f32</td><td>f32</td><td>u8</td><td>u8</td><td>u8</td><td>f32</td></tr></thead><tbody><tr><td>68358190</td><td>9769553</td><td>1190605</td><td>0</td><td>2</td><td>21.0</td><td>null</td><td>false</td><td>2</td><td>null</td><td>false</td><td>5</td><td>102</td><td>281</td><td>386</td><td>215</td><td>4</td><td>7</td><td>0.362989</td><td>0.264249</td><td>0.545631</td><td>false</td><td>140</td><td>0.9262</td><td>&quot;Negative&quot;</td><td>2</td><td>4</td><td>33</td><td>448</td><td>3</td><td>71089</td><td>436766</td><td>5.159866e6</td><td>0.162762</td><td>&quot;article_default&quot;</td><td>0</td><td>1</td><td>&hellip;</td><td>2.904595</td><td>2.917025</td><td>2.841943</td><td>2.889052</td><td>2.833379</td><td>2.734238</td><td>2.784557</td><td>103.5</td><td>128.0</td><td>5.5</td><td>-0.029081</td><td>0.051056</td><td>0.105507</td><td>0.196502</td><td>-1.5</td><td>-20470.0</td><td>-61430.0</td><td>-14.5</td><td>0.001883</td><td>-4234.0</td><td>36.0</td><td>106.0</td><td>-69.0</td><td>-167.0</td><td>0.622004</td><td>0.408247</td><td>0.968332</td><td>0.693132</td><td>0.006849</td><td>0.493583</td><td>0.494834</td><td>0.901682</td><td>0.654929</td><td>6</td><td>2</td><td>1</td><td>1.0</td></tr><tr><td>26762169</td><td>9763284</td><td>1421843</td><td>0</td><td>2</td><td>35.0</td><td>null</td><td>false</td><td>2</td><td>null</td><td>false</td><td>5</td><td>118</td><td>336</td><td>629</td><td>340</td><td>4</td><td>7</td><td>0.35119</td><td>0.187599</td><td>0.652427</td><td>false</td><td>142</td><td>0.9862</td><td>&quot;Negative&quot;</td><td>2</td><td>8</td><td>1</td><td>219</td><td>4</td><td>66034</td><td>336785</td><td>4.619203e6</td><td>0.196072</td><td>&quot;article_default&quot;</td><td>0</td><td>2</td><td>&hellip;</td><td>NaN</td><td>2.667698</td><td>2.575959</td><td>2.613662</td><td>2.63322</td><td>2.596032</td><td>1.981771</td><td>205.0</td><td>426.0</td><td>-8.0</td><td>0.014329</td><td>0.047756</td><td>0.000664</td><td>0.12415</td><td>-7.0</td><td>-6609.5</td><td>-164698.0</td><td>43.0</td><td>0.006811</td><td>-456667.0</td><td>-220.0</td><td>236.0</td><td>-161.0</td><td>-478.0</td><td>0.55619</td><td>0.437342</td><td>0.903629</td><td>0.65281</td><td>0.011976</td><td>0.308317</td><td>0.464763</td><td>0.858627</td><td>0.488477</td><td>6</td><td>3</td><td>2</td><td>1.0</td></tr></tbody></table></div>"
      ],
      "text/plain": [
       "shape: (2, 298)\n",
       "┌─────────────┬─────────┬─────────┬────────┬───┬────────────┬────────────┬────────────┬────────────┐\n",
       "│ impression_ ┆ article ┆ user_id ┆ target ┆ … ┆ category_d ┆ sentiment_ ┆ article_ty ┆ endorsemen │\n",
       "│ id          ┆ ---     ┆ ---     ┆ ---    ┆   ┆ iversity_i ┆ label_dive ┆ pe_diversi ┆ t_20h_arti │\n",
       "│ ---         ┆ i32     ┆ u32     ┆ i8     ┆   ┆ mpression  ┆ rsity_impr ┆ ty_impress ┆ cleuser_l_ │\n",
       "│ u32         ┆         ┆         ┆        ┆   ┆ ---        ┆ …          ┆ …          ┆ …          │\n",
       "│             ┆         ┆         ┆        ┆   ┆ u8         ┆ ---        ┆ ---        ┆ ---        │\n",
       "│             ┆         ┆         ┆        ┆   ┆            ┆ u8         ┆ u8         ┆ f32        │\n",
       "╞═════════════╪═════════╪═════════╪════════╪═══╪════════════╪════════════╪════════════╪════════════╡\n",
       "│ 68358190    ┆ 9769553 ┆ 1190605 ┆ 0      ┆ … ┆ 6          ┆ 2          ┆ 1          ┆ 1.0        │\n",
       "│ 26762169    ┆ 9763284 ┆ 1421843 ┆ 0      ┆ … ┆ 6          ┆ 3          ┆ 2          ┆ 1.0        │\n",
       "└─────────────┴─────────┴─────────┴────────┴───┴────────────┴────────────┴────────────┴────────────┘"
      ]
     },
     "execution_count": 42,
     "metadata": {},
     "output_type": "execute_result"
    }
   ],
   "source": [
    "NORMALIZE_OVER_IMPRESSION_ID = [\n",
    "    'trendiness_score_3d','trendiness_score_5d', 'endorsement_10h', \n",
    "    'total_pageviews/inviews', 'mean_JS','mean_topic_model_cosine', 'topics_cosine',\n",
    "    'article_delay_hours', 'total_pageviews','total_inviews', 'trendiness_score_category',\n",
    "    'std_JS', 'total_read_time', 'endorsement_10h_leak',\"trendiness_score_3d_leak\",\n",
    "    \"clicked_count\",\"inview_count\",\n",
    "]\n",
    "RANK_IMPRESSION_DESCENDING = [\n",
    "    'trendiness_score_3d','trendiness_score_5d', 'endorsement_10h', \n",
    "    'total_pageviews/inviews', 'mean_JS', 'mean_topic_model_cosine', 'topics_cosine',\n",
    "    'total_pageviews', 'total_read_time','total_inviews', 'trendiness_score_category',\n",
    "    'endorsement_10h_leak',\"trendiness_score_3d_leak\",\"clicked_count\",\"inview_count\"\n",
    "]\n",
    "RANK_IMPRESSION_ASCENDING = [\n",
    "    'article_delay_hours', 'std_JS', 'mean_topics_mean_delay_hours'\n",
    "]\n",
    "NORMALIZE_OVER_USER_ID = [\n",
    "    'mean_JS', 'std_JS', 'mean_topic_model_cosine', 'topics_cosine',\n",
    "]\n",
    "NORMALIZE_OVER_ARTICLE = [\n",
    "    'article_delay_hours', 'mean_JS', 'std_JS', 'mean_topic_model_cosine', 'topics_cosine',\n",
    "]\n",
    "LIST_DIVERSITY = [\n",
    "    'category', 'sentiment_label', 'article_type'\n",
    "]\n",
    "NORMALIZE_OVER_ARTICLE_AND_USER_ID= ['endorsement_20h_articleuser']\n",
    "\n",
    "expressions = [\n",
    "    [(pl.col(c) / pl.col(c).max().over(pl.col('impression_id'))).alias(f'{c}_l_inf_impression')\n",
    "     for c in NORMALIZE_OVER_IMPRESSION_ID],\n",
    "    [pl.col(c).rank(method='min').over(pl.col('impression_id')).alias(f'{c}_rank_impression')\n",
    "     for c in RANK_IMPRESSION_ASCENDING],\n",
    "    [pl.col(c).rank(method='min', descending=True).over(pl.col('impression_id')).alias(f'{c}_rank_impression')\n",
    "     for c in RANK_IMPRESSION_DESCENDING],\n",
    "    [pl.col(c).std().over(pl.col('impression_id')).alias(f'std_impression_{c}')\n",
    "     for c in NORMALIZE_OVER_IMPRESSION_ID],\n",
    "    [pl.col(c).skew().over(pl.col('impression_id')).alias(f'skew_impression_{c}')\n",
    "     for c in NORMALIZE_OVER_IMPRESSION_ID],\n",
    "    [pl.col(c).kurtosis().over(pl.col('impression_id')).alias(f'kurtosis_impression_{c}')\n",
    "     for c in NORMALIZE_OVER_IMPRESSION_ID],\n",
    "    [pl.col(c).entropy().over(pl.col('impression_id')).alias(f'entropy_impression_{c}')\n",
    "     for c in NORMALIZE_OVER_IMPRESSION_ID],\n",
    "    [(pl.col(c) - pl.col(c).median().over(pl.col('impression_id'))).alias(f'{c}_minus_median_impression')\n",
    "     for c in NORMALIZE_OVER_IMPRESSION_ID],\n",
    "    [(pl.col(c) / pl.col(c).max().over(pl.col('user_id'))).alias(f'{c}_l_inf_user')\n",
    "     for c in NORMALIZE_OVER_USER_ID],\n",
    "    [(pl.col(c) / pl.col(c).max().over(pl.col('article'))).alias(f'{c}_l_inf_article')\n",
    "     for c in NORMALIZE_OVER_ARTICLE],\n",
    "    [pl.col(c).n_unique().over('impression_id').alias(f'{c}_diversity_impression')\n",
    "     for c in LIST_DIVERSITY],\n",
    "    [(pl.col(c) / pl.col(c).max().over([pl.col('article'),pl.col('user_id')])).alias(f'{c}_l_inf_article_user')\n",
    "     for c in NORMALIZE_OVER_ARTICLE_AND_USER_ID],\n",
    "]\n",
    "    \n",
    "for expressions_group in tqdm.tqdm(expressions):\n",
    "    train_ds = train_ds.with_columns(expressions_group)\n",
    "    train_ds = reduce_polars_df_memory_size(train_ds)\n",
    "\n",
    "PrintColor(f\"\\n\" + GetMemUsage(), color = Fore.RED)\n",
    "train_ds.head(2)"
   ]
  },
  {
   "cell_type": "markdown",
   "id": "2fd52a59",
   "metadata": {
    "papermill": {
     "duration": 0.091224,
     "end_time": "2024-05-19T13:39:42.508205",
     "exception": false,
     "start_time": "2024-05-19T13:39:42.416981",
     "status": "completed"
    },
    "tags": []
   },
   "source": [
    "# Training"
   ]
  },
  {
   "cell_type": "code",
   "execution_count": 43,
   "id": "6c5224fa",
   "metadata": {
    "execution": {
     "iopub.execute_input": "2024-05-19T13:39:42.691710Z",
     "iopub.status.busy": "2024-05-19T13:39:42.691054Z",
     "iopub.status.idle": "2024-05-19T13:39:51.779253Z",
     "shell.execute_reply": "2024-05-19T13:39:51.778279Z"
    },
    "papermill": {
     "duration": 9.182476,
     "end_time": "2024-05-19T13:39:51.781546",
     "exception": false,
     "start_time": "2024-05-19T13:39:42.599070",
     "status": "completed"
    },
    "tags": []
   },
   "outputs": [
    {
     "data": {
      "text/html": [
       "<div><style>\n",
       ".dataframe > thead > tr,\n",
       ".dataframe > tbody > tr {\n",
       "  text-align: right;\n",
       "  white-space: pre-wrap;\n",
       "}\n",
       "</style>\n",
       "<small>shape: (5, 298)</small><table border=\"1\" class=\"dataframe\"><thead><tr><th>impression_id</th><th>user_id</th><th>article</th><th>target</th><th>device_type</th><th>read_time</th><th>scroll_percentage</th><th>is_sso_user</th><th>gender</th><th>age</th><th>is_subscriber</th><th>postcode</th><th>trendiness_score_1d</th><th>trendiness_score_3d</th><th>trendiness_score_5d</th><th>trendiness_score_3d_leak</th><th>weekday</th><th>hour</th><th>trendiness_score_1d/3d</th><th>trendiness_score_1d/5d</th><th>normalized_trendiness_score_overall</th><th>premium</th><th>category</th><th>sentiment_score</th><th>sentiment_label</th><th>num_images</th><th>title_len</th><th>subtitle_len</th><th>body_len</th><th>num_topics</th><th>total_pageviews</th><th>total_inviews</th><th>total_read_time</th><th>total_pageviews/inviews</th><th>article_type</th><th>article_delay_days</th><th>article_delay_hours</th><th>&hellip;</th><th>entropy_impression_trendiness_score_category</th><th>entropy_impression_std_JS</th><th>entropy_impression_total_read_time</th><th>entropy_impression_endorsement_10h_leak</th><th>entropy_impression_trendiness_score_3d_leak</th><th>entropy_impression_clicked_count</th><th>entropy_impression_inview_count</th><th>trendiness_score_3d_minus_median_impression</th><th>trendiness_score_5d_minus_median_impression</th><th>endorsement_10h_minus_median_impression</th><th>total_pageviews/inviews_minus_median_impression</th><th>mean_JS_minus_median_impression</th><th>mean_topic_model_cosine_minus_median_impression</th><th>topics_cosine_minus_median_impression</th><th>article_delay_hours_minus_median_impression</th><th>total_pageviews_minus_median_impression</th><th>total_inviews_minus_median_impression</th><th>trendiness_score_category_minus_median_impression</th><th>std_JS_minus_median_impression</th><th>total_read_time_minus_median_impression</th><th>endorsement_10h_leak_minus_median_impression</th><th>trendiness_score_3d_leak_minus_median_impression</th><th>clicked_count_minus_median_impression</th><th>inview_count_minus_median_impression</th><th>mean_JS_l_inf_user</th><th>std_JS_l_inf_user</th><th>mean_topic_model_cosine_l_inf_user</th><th>topics_cosine_l_inf_user</th><th>article_delay_hours_l_inf_article</th><th>mean_JS_l_inf_article</th><th>std_JS_l_inf_article</th><th>mean_topic_model_cosine_l_inf_article</th><th>topics_cosine_l_inf_article</th><th>category_diversity_impression</th><th>sentiment_label_diversity_impression</th><th>article_type_diversity_impression</th><th>endorsement_20h_articleuser_l_inf_article_user</th></tr><tr><td>u32</td><td>u32</td><td>i32</td><td>i8</td><td>i8</td><td>f32</td><td>f32</td><td>bool</td><td>i8</td><td>i8</td><td>bool</td><td>i8</td><td>i16</td><td>i16</td><td>i16</td><td>i16</td><td>i8</td><td>i8</td><td>f32</td><td>f32</td><td>f32</td><td>bool</td><td>i16</td><td>f32</td><td>str</td><td>u32</td><td>u8</td><td>u8</td><td>u16</td><td>u32</td><td>i32</td><td>i32</td><td>f32</td><td>f32</td><td>str</td><td>i16</td><td>i32</td><td>&hellip;</td><td>f32</td><td>f32</td><td>f32</td><td>f32</td><td>f32</td><td>f32</td><td>f32</td><td>f32</td><td>f32</td><td>f32</td><td>f32</td><td>f32</td><td>f32</td><td>f32</td><td>f32</td><td>f32</td><td>f32</td><td>f32</td><td>f32</td><td>f32</td><td>f32</td><td>f32</td><td>f32</td><td>f32</td><td>f32</td><td>f32</td><td>f32</td><td>f32</td><td>f32</td><td>f32</td><td>f32</td><td>f32</td><td>f32</td><td>u8</td><td>u8</td><td>u8</td><td>f32</td></tr></thead><tbody><tr><td>149474</td><td>139836</td><td>9778728</td><td>0</td><td>2</td><td>13.0</td><td>null</td><td>false</td><td>2</td><td>null</td><td>false</td><td>5</td><td>150</td><td>521</td><td>836</td><td>419</td><td>3</td><td>7</td><td>0.287908</td><td>0.179426</td><td>0.880068</td><td>false</td><td>142</td><td>0.9654</td><td>&quot;Negative&quot;</td><td>1</td><td>5</td><td>18</td><td>251</td><td>7</td><td>22415</td><td>220247</td><td>1.004828e6</td><td>0.101772</td><td>&quot;article_default&quot;</td><td>0</td><td>0</td><td>&hellip;</td><td>1.612282</td><td>1.739272</td><td>1.558951</td><td>1.774823</td><td>1.725289</td><td>-0.0</td><td>1.76343</td><td>281.5</td><td>447.5</td><td>-873.5</td><td>-0.111306</td><td>-0.005177</td><td>0.106855</td><td>-0.02667</td><td>-1.0</td><td>-62463.5</td><td>-165503.0</td><td>4.0</td><td>-0.033664</td><td>-4.981345e6</td><td>5.0</td><td>165.5</td><td>null</td><td>-886.0</td><td>0.447581</td><td>0.403328</td><td>0.963376</td><td>0.36119</td><td>0.0</td><td>0.233531</td><td>0.335164</td><td>0.891436</td><td>0.301919</td><td>4</td><td>3</td><td>1</td><td>1.0</td></tr><tr><td>149474</td><td>139836</td><td>9778669</td><td>0</td><td>2</td><td>13.0</td><td>null</td><td>false</td><td>2</td><td>null</td><td>false</td><td>5</td><td>85</td><td>199</td><td>313</td><td>266</td><td>3</td><td>7</td><td>0.427136</td><td>0.271565</td><td>0.336149</td><td>false</td><td>118</td><td>0.9481</td><td>&quot;Negative&quot;</td><td>1</td><td>5</td><td>11</td><td>150</td><td>4</td><td>74491</td><td>373488</td><td>4.365609e6</td><td>0.199447</td><td>&quot;article_default&quot;</td><td>0</td><td>1</td><td>&hellip;</td><td>1.612282</td><td>1.739272</td><td>1.558951</td><td>1.774823</td><td>1.725289</td><td>-0.0</td><td>1.76343</td><td>-40.5</td><td>-75.5</td><td>179.5</td><td>-0.013631</td><td>0.003967</td><td>-0.073142</td><td>0.015762</td><td>0.0</td><td>-10387.5</td><td>-12262.0</td><td>0.0</td><td>0.028015</td><td>-1.620564e6</td><td>-397.0</td><td>12.5</td><td>null</td><td>-56.0</td><td>0.501163</td><td>0.632488</td><td>0.750329</td><td>0.437299</td><td>0.043478</td><td>0.266627</td><td>0.511387</td><td>0.782392</td><td>0.319083</td><td>4</td><td>3</td><td>1</td><td>1.0</td></tr><tr><td>149474</td><td>139836</td><td>9778657</td><td>1</td><td>2</td><td>13.0</td><td>null</td><td>false</td><td>2</td><td>null</td><td>false</td><td>5</td><td>45</td><td>117</td><td>183</td><td>138</td><td>3</td><td>7</td><td>0.384615</td><td>0.245902</td><td>0.197635</td><td>false</td><td>118</td><td>0.8347</td><td>&quot;Neutral&quot;</td><td>2</td><td>6</td><td>31</td><td>336</td><td>3</td><td>108389</td><td>478098</td><td>7.606737e6</td><td>0.226709</td><td>&quot;article_default&quot;</td><td>0</td><td>1</td><td>&hellip;</td><td>1.612282</td><td>1.739272</td><td>1.558951</td><td>1.774823</td><td>1.725289</td><td>-0.0</td><td>1.76343</td><td>-122.5</td><td>-205.5</td><td>368.5</td><td>0.013631</td><td>0.05309</td><td>-0.001632</td><td>0.218611</td><td>0.0</td><td>23510.5</td><td>92348.0</td><td>0.0</td><td>0.051035</td><td>1.620564e6</td><td>-5.0</td><td>-115.5</td><td>null</td><td>276.0</td><td>0.78901</td><td>0.718014</td><td>0.834969</td><td>0.801144</td><td>0.066667</td><td>0.350947</td><td>0.730242</td><td>0.85965</td><td>0.604487</td><td>4</td><td>3</td><td>1</td><td>1.0</td></tr><tr><td>150528</td><td>143471</td><td>9778682</td><td>0</td><td>2</td><td>25.0</td><td>null</td><td>false</td><td>2</td><td>null</td><td>false</td><td>5</td><td>69</td><td>206</td><td>334</td><td>201</td><td>3</td><td>7</td><td>0.334951</td><td>0.206587</td><td>0.347973</td><td>false</td><td>498</td><td>0.9546</td><td>&quot;Negative&quot;</td><td>1</td><td>5</td><td>20</td><td>267</td><td>3</td><td>143520</td><td>455723</td><td>9.298546e6</td><td>0.314928</td><td>&quot;article_default&quot;</td><td>0</td><td>1</td><td>&hellip;</td><td>1.924178</td><td>2.126514</td><td>2.008478</td><td>2.181736</td><td>2.013598</td><td>-0.0</td><td>2.173429</td><td>7.0</td><td>21.0</td><td>204.0</td><td>0.088219</td><td>0.013219</td><td>0.068738</td><td>-0.001332</td><td>1.0</td><td>48254.0</td><td>82235.0</td><td>-47.0</td><td>0.013249</td><td>4.223417e6</td><td>160.0</td><td>0.0</td><td>null</td><td>498.0</td><td>0.793928</td><td>0.732491</td><td>0.921602</td><td>0.581838</td><td>0.041667</td><td>0.299855</td><td>0.536061</td><td>0.832465</td><td>0.447169</td><td>6</td><td>3</td><td>1</td><td>1.0</td></tr><tr><td>150528</td><td>143471</td><td>9778669</td><td>0</td><td>2</td><td>25.0</td><td>null</td><td>false</td><td>2</td><td>null</td><td>false</td><td>5</td><td>85</td><td>199</td><td>313</td><td>266</td><td>3</td><td>7</td><td>0.427136</td><td>0.271565</td><td>0.336149</td><td>false</td><td>118</td><td>0.9481</td><td>&quot;Negative&quot;</td><td>1</td><td>5</td><td>11</td><td>150</td><td>4</td><td>74491</td><td>373488</td><td>4.365609e6</td><td>0.199447</td><td>&quot;article_default&quot;</td><td>0</td><td>1</td><td>&hellip;</td><td>1.924178</td><td>2.126514</td><td>2.008478</td><td>2.181736</td><td>2.013598</td><td>-0.0</td><td>2.173429</td><td>0.0</td><td>0.0</td><td>598.0</td><td>-0.027262</td><td>0.025741</td><td>-0.08231</td><td>0.159455</td><td>1.0</td><td>-20775.0</td><td>0.0</td><td>62.0</td><td>0.007517</td><td>-709520.0</td><td>-225.0</td><td>65.0</td><td>null</td><td>386.0</td><td>0.881599</td><td>0.709201</td><td>0.745333</td><td>0.871154</td><td>0.043478</td><td>0.392552</td><td>0.524339</td><td>0.788264</td><td>0.633637</td><td>6</td><td>3</td><td>1</td><td>1.0</td></tr></tbody></table></div>"
      ],
      "text/plain": [
       "shape: (5, 298)\n",
       "┌─────────────┬─────────┬─────────┬────────┬───┬────────────┬────────────┬────────────┬────────────┐\n",
       "│ impression_ ┆ user_id ┆ article ┆ target ┆ … ┆ category_d ┆ sentiment_ ┆ article_ty ┆ endorsemen │\n",
       "│ id          ┆ ---     ┆ ---     ┆ ---    ┆   ┆ iversity_i ┆ label_dive ┆ pe_diversi ┆ t_20h_arti │\n",
       "│ ---         ┆ u32     ┆ i32     ┆ i8     ┆   ┆ mpression  ┆ rsity_impr ┆ ty_impress ┆ cleuser_l_ │\n",
       "│ u32         ┆         ┆         ┆        ┆   ┆ ---        ┆ …          ┆ …          ┆ …          │\n",
       "│             ┆         ┆         ┆        ┆   ┆ u8         ┆ ---        ┆ ---        ┆ ---        │\n",
       "│             ┆         ┆         ┆        ┆   ┆            ┆ u8         ┆ u8         ┆ f32        │\n",
       "╞═════════════╪═════════╪═════════╪════════╪═══╪════════════╪════════════╪════════════╪════════════╡\n",
       "│ 149474      ┆ 139836  ┆ 9778728 ┆ 0      ┆ … ┆ 4          ┆ 3          ┆ 1          ┆ 1.0        │\n",
       "│ 149474      ┆ 139836  ┆ 9778669 ┆ 0      ┆ … ┆ 4          ┆ 3          ┆ 1          ┆ 1.0        │\n",
       "│ 149474      ┆ 139836  ┆ 9778657 ┆ 1      ┆ … ┆ 4          ┆ 3          ┆ 1          ┆ 1.0        │\n",
       "│ 150528      ┆ 143471  ┆ 9778682 ┆ 0      ┆ … ┆ 6          ┆ 3          ┆ 1          ┆ 1.0        │\n",
       "│ 150528      ┆ 143471  ┆ 9778669 ┆ 0      ┆ … ┆ 6          ┆ 3          ┆ 1          ┆ 1.0        │\n",
       "└─────────────┴─────────┴─────────┴────────┴───┴────────────┴────────────┴────────────┴────────────┘"
      ]
     },
     "execution_count": 43,
     "metadata": {},
     "output_type": "execute_result"
    }
   ],
   "source": [
    "# subsample dataset\n",
    "\n",
    "behaviors_subsample = behaviors_train.select(['impression_id','user_id','article_ids_inview','article_ids_clicked']) \\\n",
    "    .pipe(\n",
    "        sampling_strategy_wu2019, npratio=NPRATIO, shuffle=False, with_replacement=True, seed=123\n",
    "    ).explode('article_ids_inview').drop('article_ids_clicked').rename({'article_ids_inview' : 'article'}) \\\n",
    "    .with_columns(pl.col('user_id').cast(pl.UInt32), pl.col('article').cast(pl.Int32)) \\\n",
    "    .select(['impression_id', 'user_id', 'article'])\n",
    "\n",
    "train_ds = behaviors_subsample.join(train_ds, on=['impression_id','user_id','article'], how='left')\n",
    "train_ds.head()"
   ]
  },
  {
   "cell_type": "code",
   "execution_count": 44,
   "id": "54069099",
   "metadata": {
    "execution": {
     "iopub.execute_input": "2024-05-19T13:39:51.967681Z",
     "iopub.status.busy": "2024-05-19T13:39:51.967109Z",
     "iopub.status.idle": "2024-05-19T13:39:53.764223Z",
     "shell.execute_reply": "2024-05-19T13:39:53.762781Z"
    },
    "papermill": {
     "duration": 1.89436,
     "end_time": "2024-05-19T13:39:53.767023",
     "exception": false,
     "start_time": "2024-05-19T13:39:51.872663",
     "status": "completed"
    },
    "tags": []
   },
   "outputs": [],
   "source": [
    "train_ds = train_ds.drop(['impression_id', 'article', 'user_id']).to_pandas()\n",
    "\n",
    "categorical_columns = ['device_type', 'is_sso_user', 'gender', 'is_subscriber', 'weekday',\n",
    "                       'premium', 'category', 'sentiment_label', 'is_new_article', 'is_already_seen_article',\n",
    "                       'MostFrequentCategory', 'MostFrequentWeekday', 'IsFavouriteCategory',\n",
    "                       'article_type', 'postcode']\n",
    "categorical_columns += [f'Entity_{entity}_Present' for entity in unique_entities]\n",
    "train_ds[categorical_columns] = train_ds[categorical_columns].astype('category')\n",
    "\n",
    "X = train_ds.drop(columns=['target'])\n",
    "y = train_ds['target']"
   ]
  },
  {
   "cell_type": "code",
   "execution_count": 45,
   "id": "3f2d5096",
   "metadata": {
    "execution": {
     "iopub.execute_input": "2024-05-19T13:39:53.948280Z",
     "iopub.status.busy": "2024-05-19T13:39:53.947872Z",
     "iopub.status.idle": "2024-05-19T13:39:54.282754Z",
     "shell.execute_reply": "2024-05-19T13:39:54.281508Z"
    },
    "papermill": {
     "duration": 0.427718,
     "end_time": "2024-05-19T13:39:54.285532",
     "exception": false,
     "start_time": "2024-05-19T13:39:53.857814",
     "status": "completed"
    },
    "tags": []
   },
   "outputs": [
    {
     "name": "stdout",
     "output_type": "stream",
     "text": [
      "\u001b[1m\u001b[31m\n",
      "RAM memory GB usage = 7.444\u001b[0m\n"
     ]
    }
   ],
   "source": [
    "del train_ds\n",
    "\n",
    "gc.collect()\n",
    "PrintColor(f\"\\n\" + GetMemUsage(), color = Fore.RED)"
   ]
  },
  {
   "cell_type": "code",
   "execution_count": 46,
   "id": "bd2374bd",
   "metadata": {
    "execution": {
     "iopub.execute_input": "2024-05-19T13:39:54.466817Z",
     "iopub.status.busy": "2024-05-19T13:39:54.466339Z",
     "iopub.status.idle": "2024-05-19T13:39:54.486868Z",
     "shell.execute_reply": "2024-05-19T13:39:54.485540Z"
    },
    "papermill": {
     "duration": 0.113253,
     "end_time": "2024-05-19T13:39:54.489737",
     "exception": false,
     "start_time": "2024-05-19T13:39:54.376484",
     "status": "completed"
    },
    "tags": []
   },
   "outputs": [],
   "source": [
    "def create_wide_and_deep_model(numeric_input_shape, n_layers=1, start_units=128, dropout_rate=0.1, \n",
    "                               learning_rate=1e-3, l2_lambda=1e-4, activation='relu', seed=seed,\n",
    "                               l1_lambda=1e-4, weight_decay=1e-3, units_decay=2, add_gaussian_noise=False, gaussian_noise_std=0.01,\n",
    "                               max_categorical_embedding=50, use_categorical_embeddings=True,\n",
    "                               vocabulary_sizes: dict[str, int] = None, categorical_input_shape=None):\n",
    "    \n",
    "    tf.random.set_seed(seed)\n",
    "    \n",
    "    numeric_input_layer = tfkl.Input(shape=(numeric_input_shape,), name='NumericInput')\n",
    "    \n",
    "    if add_gaussian_noise:\n",
    "        noise_layer = tfkl.GaussianNoise(0.01, name='NumericInputNoise')(numeric_input_layer)\n",
    "        prev_layer = noise_layer\n",
    "    else:\n",
    "        prev_layer = numeric_input_layer\n",
    "        \n",
    "    # CATEGORICAL EMBEDDINGS\n",
    "    if use_categorical_embeddings:\n",
    "        embedding_layers = []\n",
    "        categorical_inputs = []\n",
    "        for feature in categorical_columns:\n",
    "            vocabulary_size = vocabulary_sizes[feature]\n",
    "            embedding_dim = min(max_categorical_embedding, (vocabulary_size + 1) // 2)\n",
    "            cat_input = tfkl.Input(shape=(1,), name=f'{feature}Input')\n",
    "            categorical_inputs.append(cat_input)\n",
    "            embedding_layer = tfkl.Embedding(input_dim=vocabulary_size + 1, output_dim=embedding_dim)(cat_input)\n",
    "            flatten_layer = tfkl.Flatten()(embedding_layer)\n",
    "            embedding_layers.append(flatten_layer)\n",
    "        wide = tfkl.Concatenate()([prev_layer] + embedding_layers)\n",
    "        \n",
    "    else:\n",
    "        categorical_input = tfkl.Input(shape=(categorical_input_shape,), name='CategoricalInput')\n",
    "        wide = tfkl.Concatenate()([prev_layer, categorical_input])\n",
    "        categorical_inputs = [categorical_input]\n",
    "\n",
    "    deep = wide\n",
    "    units = start_units\n",
    "    for i in range(n_layers):\n",
    "        deep = tfkl.Dense(\n",
    "            units=units,\n",
    "            kernel_initializer=tfk.initializers.HeNormal(seed=seed),\n",
    "            kernel_regularizer=tf.keras.regularizers.l1_l2(l1=l1_lambda, l2=l2_lambda),\n",
    "            name=f'DeepDense{i}'\n",
    "        )(deep)\n",
    "        deep = tfkl.BatchNormalization(name=f'DeepBatchNormalization{i}')(deep)\n",
    "        deep = tfkl.Activation(activation, name=f'DeepActivation{i}')(deep)\n",
    "        deep = tfkl.Dropout(dropout_rate, name=f'DeepDropout{i}')(deep)\n",
    "        units = int(units / units_decay)\n",
    "\n",
    "    merged = tfkl.Concatenate(name='WideDeepConcat')([wide, deep])\n",
    "    outputs = tfkl.Dense(\n",
    "        units=1,\n",
    "        kernel_initializer=tfk.initializers.GlorotUniform(seed=seed),\n",
    "        kernel_regularizer=tf.keras.regularizers.l1_l2(l1=l1_lambda, l2=l2_lambda),\n",
    "        name='OutputDense',\n",
    "        activation='sigmoid'\n",
    "    )(merged)\n",
    "    model = tfk.Model(inputs=[numeric_input_layer] + categorical_inputs, outputs=outputs)\n",
    "\n",
    "    opt = tfk.optimizers.AdamW(learning_rate, weight_decay=weight_decay)\n",
    "    loss = tfk.losses.BinaryCrossentropy()\n",
    "    metrics = [tfk.metrics.AUC(curve='ROC', name='auc')]\n",
    "    model.compile(loss=loss, optimizer=opt, metrics=metrics)\n",
    "    \n",
    "    return model"
   ]
  },
  {
   "cell_type": "code",
   "execution_count": 47,
   "id": "7a869240",
   "metadata": {
    "execution": {
     "iopub.execute_input": "2024-05-19T13:39:54.671311Z",
     "iopub.status.busy": "2024-05-19T13:39:54.670912Z",
     "iopub.status.idle": "2024-05-19T13:40:51.594901Z",
     "shell.execute_reply": "2024-05-19T13:40:51.593550Z"
    },
    "papermill": {
     "duration": 57.019997,
     "end_time": "2024-05-19T13:40:51.597887",
     "exception": false,
     "start_time": "2024-05-19T13:39:54.577890",
     "status": "completed"
    },
    "tags": []
   },
   "outputs": [],
   "source": [
    "numerical_columns = [c for c in X.columns if c not in categorical_columns]\n",
    "X_numerical = X[numerical_columns]\n",
    "X_categorical = X[categorical_columns].astype(str)\n",
    "\n",
    "categories = []\n",
    "vocabulary_sizes = {}\n",
    "for cat_col in categorical_columns:\n",
    "    categories_train = list(X_categorical[cat_col].unique())\n",
    "    categories_train.append('Unknown')\n",
    "    vocabulary_sizes[cat_col] = len(categories_train)\n",
    "    categories.append(categories_train)\n",
    "    \n",
    "categorical_encoder = OrdinalEncoder(categories=categories)\n",
    "numerical_transformer = QuantileTransformer(output_distribution='normal')\n",
    "    \n",
    "X_categorical = categorical_encoder.fit_transform(X_categorical, y)\n",
    "X_numerical = numerical_transformer.fit_transform(X_numerical.fillna(0).replace([-np.inf, np.inf], 0), y)"
   ]
  },
  {
   "cell_type": "code",
   "execution_count": 48,
   "id": "668b7eb2",
   "metadata": {
    "execution": {
     "iopub.execute_input": "2024-05-19T13:40:51.780506Z",
     "iopub.status.busy": "2024-05-19T13:40:51.780041Z",
     "iopub.status.idle": "2024-05-19T13:40:52.388343Z",
     "shell.execute_reply": "2024-05-19T13:40:52.387030Z"
    },
    "papermill": {
     "duration": 0.70746,
     "end_time": "2024-05-19T13:40:52.394414",
     "exception": false,
     "start_time": "2024-05-19T13:40:51.686954",
     "status": "completed"
    },
    "tags": []
   },
   "outputs": [
    {
     "data": {
      "text/html": [
       "<pre style=\"white-space:pre;overflow-x:auto;line-height:normal;font-family:Menlo,'DejaVu Sans Mono',consolas,'Courier New',monospace\"><span style=\"font-weight: bold\">Model: \"functional_1\"</span>\n",
       "</pre>\n"
      ],
      "text/plain": [
       "\u001b[1mModel: \"functional_1\"\u001b[0m\n"
      ]
     },
     "metadata": {},
     "output_type": "display_data"
    },
    {
     "data": {
      "text/html": [
       "<pre style=\"white-space:pre;overflow-x:auto;line-height:normal;font-family:Menlo,'DejaVu Sans Mono',consolas,'Courier New',monospace\">┏━━━━━━━━━━━━━━━━━━━━━┳━━━━━━━━━━━━━━━━━━━┳━━━━━━━━━━━━┳━━━━━━━━━━━━━━━━━━━┓\n",
       "┃<span style=\"font-weight: bold\"> Layer (type)        </span>┃<span style=\"font-weight: bold\"> Output Shape      </span>┃<span style=\"font-weight: bold\">    Param # </span>┃<span style=\"font-weight: bold\"> Connected to      </span>┃\n",
       "┡━━━━━━━━━━━━━━━━━━━━━╇━━━━━━━━━━━━━━━━━━━╇━━━━━━━━━━━━╇━━━━━━━━━━━━━━━━━━━┩\n",
       "│ device_typeInput    │ (<span style=\"color: #00d7ff; text-decoration-color: #00d7ff\">None</span>, <span style=\"color: #00af00; text-decoration-color: #00af00\">1</span>)         │          <span style=\"color: #00af00; text-decoration-color: #00af00\">0</span> │ -                 │\n",
       "│ (<span style=\"color: #0087ff; text-decoration-color: #0087ff\">InputLayer</span>)        │                   │            │                   │\n",
       "├─────────────────────┼───────────────────┼────────────┼───────────────────┤\n",
       "│ is_sso_userInput    │ (<span style=\"color: #00d7ff; text-decoration-color: #00d7ff\">None</span>, <span style=\"color: #00af00; text-decoration-color: #00af00\">1</span>)         │          <span style=\"color: #00af00; text-decoration-color: #00af00\">0</span> │ -                 │\n",
       "│ (<span style=\"color: #0087ff; text-decoration-color: #0087ff\">InputLayer</span>)        │                   │            │                   │\n",
       "├─────────────────────┼───────────────────┼────────────┼───────────────────┤\n",
       "│ genderInput         │ (<span style=\"color: #00d7ff; text-decoration-color: #00d7ff\">None</span>, <span style=\"color: #00af00; text-decoration-color: #00af00\">1</span>)         │          <span style=\"color: #00af00; text-decoration-color: #00af00\">0</span> │ -                 │\n",
       "│ (<span style=\"color: #0087ff; text-decoration-color: #0087ff\">InputLayer</span>)        │                   │            │                   │\n",
       "├─────────────────────┼───────────────────┼────────────┼───────────────────┤\n",
       "│ is_subscriberInput  │ (<span style=\"color: #00d7ff; text-decoration-color: #00d7ff\">None</span>, <span style=\"color: #00af00; text-decoration-color: #00af00\">1</span>)         │          <span style=\"color: #00af00; text-decoration-color: #00af00\">0</span> │ -                 │\n",
       "│ (<span style=\"color: #0087ff; text-decoration-color: #0087ff\">InputLayer</span>)        │                   │            │                   │\n",
       "├─────────────────────┼───────────────────┼────────────┼───────────────────┤\n",
       "│ weekdayInput        │ (<span style=\"color: #00d7ff; text-decoration-color: #00d7ff\">None</span>, <span style=\"color: #00af00; text-decoration-color: #00af00\">1</span>)         │          <span style=\"color: #00af00; text-decoration-color: #00af00\">0</span> │ -                 │\n",
       "│ (<span style=\"color: #0087ff; text-decoration-color: #0087ff\">InputLayer</span>)        │                   │            │                   │\n",
       "├─────────────────────┼───────────────────┼────────────┼───────────────────┤\n",
       "│ premiumInput        │ (<span style=\"color: #00d7ff; text-decoration-color: #00d7ff\">None</span>, <span style=\"color: #00af00; text-decoration-color: #00af00\">1</span>)         │          <span style=\"color: #00af00; text-decoration-color: #00af00\">0</span> │ -                 │\n",
       "│ (<span style=\"color: #0087ff; text-decoration-color: #0087ff\">InputLayer</span>)        │                   │            │                   │\n",
       "├─────────────────────┼───────────────────┼────────────┼───────────────────┤\n",
       "│ categoryInput       │ (<span style=\"color: #00d7ff; text-decoration-color: #00d7ff\">None</span>, <span style=\"color: #00af00; text-decoration-color: #00af00\">1</span>)         │          <span style=\"color: #00af00; text-decoration-color: #00af00\">0</span> │ -                 │\n",
       "│ (<span style=\"color: #0087ff; text-decoration-color: #0087ff\">InputLayer</span>)        │                   │            │                   │\n",
       "├─────────────────────┼───────────────────┼────────────┼───────────────────┤\n",
       "│ sentiment_labelInp… │ (<span style=\"color: #00d7ff; text-decoration-color: #00d7ff\">None</span>, <span style=\"color: #00af00; text-decoration-color: #00af00\">1</span>)         │          <span style=\"color: #00af00; text-decoration-color: #00af00\">0</span> │ -                 │\n",
       "│ (<span style=\"color: #0087ff; text-decoration-color: #0087ff\">InputLayer</span>)        │                   │            │                   │\n",
       "├─────────────────────┼───────────────────┼────────────┼───────────────────┤\n",
       "│ is_new_articleInput │ (<span style=\"color: #00d7ff; text-decoration-color: #00d7ff\">None</span>, <span style=\"color: #00af00; text-decoration-color: #00af00\">1</span>)         │          <span style=\"color: #00af00; text-decoration-color: #00af00\">0</span> │ -                 │\n",
       "│ (<span style=\"color: #0087ff; text-decoration-color: #0087ff\">InputLayer</span>)        │                   │            │                   │\n",
       "├─────────────────────┼───────────────────┼────────────┼───────────────────┤\n",
       "│ is_already_seen_ar… │ (<span style=\"color: #00d7ff; text-decoration-color: #00d7ff\">None</span>, <span style=\"color: #00af00; text-decoration-color: #00af00\">1</span>)         │          <span style=\"color: #00af00; text-decoration-color: #00af00\">0</span> │ -                 │\n",
       "│ (<span style=\"color: #0087ff; text-decoration-color: #0087ff\">InputLayer</span>)        │                   │            │                   │\n",
       "├─────────────────────┼───────────────────┼────────────┼───────────────────┤\n",
       "│ MostFrequentCatego… │ (<span style=\"color: #00d7ff; text-decoration-color: #00d7ff\">None</span>, <span style=\"color: #00af00; text-decoration-color: #00af00\">1</span>)         │          <span style=\"color: #00af00; text-decoration-color: #00af00\">0</span> │ -                 │\n",
       "│ (<span style=\"color: #0087ff; text-decoration-color: #0087ff\">InputLayer</span>)        │                   │            │                   │\n",
       "├─────────────────────┼───────────────────┼────────────┼───────────────────┤\n",
       "│ MostFrequentWeekda… │ (<span style=\"color: #00d7ff; text-decoration-color: #00d7ff\">None</span>, <span style=\"color: #00af00; text-decoration-color: #00af00\">1</span>)         │          <span style=\"color: #00af00; text-decoration-color: #00af00\">0</span> │ -                 │\n",
       "│ (<span style=\"color: #0087ff; text-decoration-color: #0087ff\">InputLayer</span>)        │                   │            │                   │\n",
       "├─────────────────────┼───────────────────┼────────────┼───────────────────┤\n",
       "│ IsFavouriteCategor… │ (<span style=\"color: #00d7ff; text-decoration-color: #00d7ff\">None</span>, <span style=\"color: #00af00; text-decoration-color: #00af00\">1</span>)         │          <span style=\"color: #00af00; text-decoration-color: #00af00\">0</span> │ -                 │\n",
       "│ (<span style=\"color: #0087ff; text-decoration-color: #0087ff\">InputLayer</span>)        │                   │            │                   │\n",
       "├─────────────────────┼───────────────────┼────────────┼───────────────────┤\n",
       "│ article_typeInput   │ (<span style=\"color: #00d7ff; text-decoration-color: #00d7ff\">None</span>, <span style=\"color: #00af00; text-decoration-color: #00af00\">1</span>)         │          <span style=\"color: #00af00; text-decoration-color: #00af00\">0</span> │ -                 │\n",
       "│ (<span style=\"color: #0087ff; text-decoration-color: #0087ff\">InputLayer</span>)        │                   │            │                   │\n",
       "├─────────────────────┼───────────────────┼────────────┼───────────────────┤\n",
       "│ postcodeInput       │ (<span style=\"color: #00d7ff; text-decoration-color: #00d7ff\">None</span>, <span style=\"color: #00af00; text-decoration-color: #00af00\">1</span>)         │          <span style=\"color: #00af00; text-decoration-color: #00af00\">0</span> │ -                 │\n",
       "│ (<span style=\"color: #0087ff; text-decoration-color: #0087ff\">InputLayer</span>)        │                   │            │                   │\n",
       "├─────────────────────┼───────────────────┼────────────┼───────────────────┤\n",
       "│ Entity_LOC_Present… │ (<span style=\"color: #00d7ff; text-decoration-color: #00d7ff\">None</span>, <span style=\"color: #00af00; text-decoration-color: #00af00\">1</span>)         │          <span style=\"color: #00af00; text-decoration-color: #00af00\">0</span> │ -                 │\n",
       "│ (<span style=\"color: #0087ff; text-decoration-color: #0087ff\">InputLayer</span>)        │                   │            │                   │\n",
       "├─────────────────────┼───────────────────┼────────────┼───────────────────┤\n",
       "│ Entity_PER_Present… │ (<span style=\"color: #00d7ff; text-decoration-color: #00d7ff\">None</span>, <span style=\"color: #00af00; text-decoration-color: #00af00\">1</span>)         │          <span style=\"color: #00af00; text-decoration-color: #00af00\">0</span> │ -                 │\n",
       "│ (<span style=\"color: #0087ff; text-decoration-color: #0087ff\">InputLayer</span>)        │                   │            │                   │\n",
       "├─────────────────────┼───────────────────┼────────────┼───────────────────┤\n",
       "│ Entity_ORG_Present… │ (<span style=\"color: #00d7ff; text-decoration-color: #00d7ff\">None</span>, <span style=\"color: #00af00; text-decoration-color: #00af00\">1</span>)         │          <span style=\"color: #00af00; text-decoration-color: #00af00\">0</span> │ -                 │\n",
       "│ (<span style=\"color: #0087ff; text-decoration-color: #0087ff\">InputLayer</span>)        │                   │            │                   │\n",
       "├─────────────────────┼───────────────────┼────────────┼───────────────────┤\n",
       "│ Entity_PROD_Presen… │ (<span style=\"color: #00d7ff; text-decoration-color: #00d7ff\">None</span>, <span style=\"color: #00af00; text-decoration-color: #00af00\">1</span>)         │          <span style=\"color: #00af00; text-decoration-color: #00af00\">0</span> │ -                 │\n",
       "│ (<span style=\"color: #0087ff; text-decoration-color: #0087ff\">InputLayer</span>)        │                   │            │                   │\n",
       "├─────────────────────┼───────────────────┼────────────┼───────────────────┤\n",
       "│ Entity_MISC_Presen… │ (<span style=\"color: #00d7ff; text-decoration-color: #00d7ff\">None</span>, <span style=\"color: #00af00; text-decoration-color: #00af00\">1</span>)         │          <span style=\"color: #00af00; text-decoration-color: #00af00\">0</span> │ -                 │\n",
       "│ (<span style=\"color: #0087ff; text-decoration-color: #0087ff\">InputLayer</span>)        │                   │            │                   │\n",
       "├─────────────────────┼───────────────────┼────────────┼───────────────────┤\n",
       "│ Entity_EVENT_Prese… │ (<span style=\"color: #00d7ff; text-decoration-color: #00d7ff\">None</span>, <span style=\"color: #00af00; text-decoration-color: #00af00\">1</span>)         │          <span style=\"color: #00af00; text-decoration-color: #00af00\">0</span> │ -                 │\n",
       "│ (<span style=\"color: #0087ff; text-decoration-color: #0087ff\">InputLayer</span>)        │                   │            │                   │\n",
       "├─────────────────────┼───────────────────┼────────────┼───────────────────┤\n",
       "│ NumericInput        │ (<span style=\"color: #00d7ff; text-decoration-color: #00d7ff\">None</span>, <span style=\"color: #00af00; text-decoration-color: #00af00\">273</span>)       │          <span style=\"color: #00af00; text-decoration-color: #00af00\">0</span> │ -                 │\n",
       "│ (<span style=\"color: #0087ff; text-decoration-color: #0087ff\">InputLayer</span>)        │                   │            │                   │\n",
       "├─────────────────────┼───────────────────┼────────────┼───────────────────┤\n",
       "│ embedding           │ (<span style=\"color: #00d7ff; text-decoration-color: #00d7ff\">None</span>, <span style=\"color: #00af00; text-decoration-color: #00af00\">1</span>, <span style=\"color: #00af00; text-decoration-color: #00af00\">2</span>)      │         <span style=\"color: #00af00; text-decoration-color: #00af00\">10</span> │ device_typeInput… │\n",
       "│ (<span style=\"color: #0087ff; text-decoration-color: #0087ff\">Embedding</span>)         │                   │            │                   │\n",
       "├─────────────────────┼───────────────────┼────────────┼───────────────────┤\n",
       "│ embedding_1         │ (<span style=\"color: #00d7ff; text-decoration-color: #00d7ff\">None</span>, <span style=\"color: #00af00; text-decoration-color: #00af00\">1</span>, <span style=\"color: #00af00; text-decoration-color: #00af00\">2</span>)      │          <span style=\"color: #00af00; text-decoration-color: #00af00\">8</span> │ is_sso_userInput… │\n",
       "│ (<span style=\"color: #0087ff; text-decoration-color: #0087ff\">Embedding</span>)         │                   │            │                   │\n",
       "├─────────────────────┼───────────────────┼────────────┼───────────────────┤\n",
       "│ embedding_2         │ (<span style=\"color: #00d7ff; text-decoration-color: #00d7ff\">None</span>, <span style=\"color: #00af00; text-decoration-color: #00af00\">1</span>, <span style=\"color: #00af00; text-decoration-color: #00af00\">2</span>)      │         <span style=\"color: #00af00; text-decoration-color: #00af00\">10</span> │ genderInput[<span style=\"color: #00af00; text-decoration-color: #00af00\">0</span>][<span style=\"color: #00af00; text-decoration-color: #00af00\">0</span>] │\n",
       "│ (<span style=\"color: #0087ff; text-decoration-color: #0087ff\">Embedding</span>)         │                   │            │                   │\n",
       "├─────────────────────┼───────────────────┼────────────┼───────────────────┤\n",
       "│ embedding_3         │ (<span style=\"color: #00d7ff; text-decoration-color: #00d7ff\">None</span>, <span style=\"color: #00af00; text-decoration-color: #00af00\">1</span>, <span style=\"color: #00af00; text-decoration-color: #00af00\">2</span>)      │          <span style=\"color: #00af00; text-decoration-color: #00af00\">8</span> │ is_subscriberInp… │\n",
       "│ (<span style=\"color: #0087ff; text-decoration-color: #0087ff\">Embedding</span>)         │                   │            │                   │\n",
       "├─────────────────────┼───────────────────┼────────────┼───────────────────┤\n",
       "│ embedding_4         │ (<span style=\"color: #00d7ff; text-decoration-color: #00d7ff\">None</span>, <span style=\"color: #00af00; text-decoration-color: #00af00\">1</span>, <span style=\"color: #00af00; text-decoration-color: #00af00\">4</span>)      │         <span style=\"color: #00af00; text-decoration-color: #00af00\">36</span> │ weekdayInput[<span style=\"color: #00af00; text-decoration-color: #00af00\">0</span>][<span style=\"color: #00af00; text-decoration-color: #00af00\">…</span> │\n",
       "│ (<span style=\"color: #0087ff; text-decoration-color: #0087ff\">Embedding</span>)         │                   │            │                   │\n",
       "├─────────────────────┼───────────────────┼────────────┼───────────────────┤\n",
       "│ embedding_5         │ (<span style=\"color: #00d7ff; text-decoration-color: #00d7ff\">None</span>, <span style=\"color: #00af00; text-decoration-color: #00af00\">1</span>, <span style=\"color: #00af00; text-decoration-color: #00af00\">2</span>)      │          <span style=\"color: #00af00; text-decoration-color: #00af00\">8</span> │ premiumInput[<span style=\"color: #00af00; text-decoration-color: #00af00\">0</span>][<span style=\"color: #00af00; text-decoration-color: #00af00\">…</span> │\n",
       "│ (<span style=\"color: #0087ff; text-decoration-color: #0087ff\">Embedding</span>)         │                   │            │                   │\n",
       "├─────────────────────┼───────────────────┼────────────┼───────────────────┤\n",
       "│ embedding_6         │ (<span style=\"color: #00d7ff; text-decoration-color: #00d7ff\">None</span>, <span style=\"color: #00af00; text-decoration-color: #00af00\">1</span>, <span style=\"color: #00af00; text-decoration-color: #00af00\">8</span>)      │        <span style=\"color: #00af00; text-decoration-color: #00af00\">136</span> │ categoryInput[<span style=\"color: #00af00; text-decoration-color: #00af00\">0</span>]… │\n",
       "│ (<span style=\"color: #0087ff; text-decoration-color: #0087ff\">Embedding</span>)         │                   │            │                   │\n",
       "├─────────────────────┼───────────────────┼────────────┼───────────────────┤\n",
       "│ embedding_7         │ (<span style=\"color: #00d7ff; text-decoration-color: #00d7ff\">None</span>, <span style=\"color: #00af00; text-decoration-color: #00af00\">1</span>, <span style=\"color: #00af00; text-decoration-color: #00af00\">2</span>)      │         <span style=\"color: #00af00; text-decoration-color: #00af00\">10</span> │ sentiment_labelI… │\n",
       "│ (<span style=\"color: #0087ff; text-decoration-color: #0087ff\">Embedding</span>)         │                   │            │                   │\n",
       "├─────────────────────┼───────────────────┼────────────┼───────────────────┤\n",
       "│ embedding_8         │ (<span style=\"color: #00d7ff; text-decoration-color: #00d7ff\">None</span>, <span style=\"color: #00af00; text-decoration-color: #00af00\">1</span>, <span style=\"color: #00af00; text-decoration-color: #00af00\">2</span>)      │          <span style=\"color: #00af00; text-decoration-color: #00af00\">8</span> │ is_new_articleIn… │\n",
       "│ (<span style=\"color: #0087ff; text-decoration-color: #0087ff\">Embedding</span>)         │                   │            │                   │\n",
       "├─────────────────────┼───────────────────┼────────────┼───────────────────┤\n",
       "│ embedding_9         │ (<span style=\"color: #00d7ff; text-decoration-color: #00d7ff\">None</span>, <span style=\"color: #00af00; text-decoration-color: #00af00\">1</span>, <span style=\"color: #00af00; text-decoration-color: #00af00\">2</span>)      │          <span style=\"color: #00af00; text-decoration-color: #00af00\">8</span> │ is_already_seen_… │\n",
       "│ (<span style=\"color: #0087ff; text-decoration-color: #0087ff\">Embedding</span>)         │                   │            │                   │\n",
       "├─────────────────────┼───────────────────┼────────────┼───────────────────┤\n",
       "│ embedding_10        │ (<span style=\"color: #00d7ff; text-decoration-color: #00d7ff\">None</span>, <span style=\"color: #00af00; text-decoration-color: #00af00\">1</span>, <span style=\"color: #00af00; text-decoration-color: #00af00\">6</span>)      │         <span style=\"color: #00af00; text-decoration-color: #00af00\">72</span> │ MostFrequentCate… │\n",
       "│ (<span style=\"color: #0087ff; text-decoration-color: #0087ff\">Embedding</span>)         │                   │            │                   │\n",
       "├─────────────────────┼───────────────────┼────────────┼───────────────────┤\n",
       "│ embedding_11        │ (<span style=\"color: #00d7ff; text-decoration-color: #00d7ff\">None</span>, <span style=\"color: #00af00; text-decoration-color: #00af00\">1</span>, <span style=\"color: #00af00; text-decoration-color: #00af00\">4</span>)      │         <span style=\"color: #00af00; text-decoration-color: #00af00\">36</span> │ MostFrequentWeek… │\n",
       "│ (<span style=\"color: #0087ff; text-decoration-color: #0087ff\">Embedding</span>)         │                   │            │                   │\n",
       "├─────────────────────┼───────────────────┼────────────┼───────────────────┤\n",
       "│ embedding_12        │ (<span style=\"color: #00d7ff; text-decoration-color: #00d7ff\">None</span>, <span style=\"color: #00af00; text-decoration-color: #00af00\">1</span>, <span style=\"color: #00af00; text-decoration-color: #00af00\">2</span>)      │          <span style=\"color: #00af00; text-decoration-color: #00af00\">8</span> │ IsFavouriteCateg… │\n",
       "│ (<span style=\"color: #0087ff; text-decoration-color: #0087ff\">Embedding</span>)         │                   │            │                   │\n",
       "├─────────────────────┼───────────────────┼────────────┼───────────────────┤\n",
       "│ embedding_13        │ (<span style=\"color: #00d7ff; text-decoration-color: #00d7ff\">None</span>, <span style=\"color: #00af00; text-decoration-color: #00af00\">1</span>, <span style=\"color: #00af00; text-decoration-color: #00af00\">6</span>)      │         <span style=\"color: #00af00; text-decoration-color: #00af00\">72</span> │ article_typeInpu… │\n",
       "│ (<span style=\"color: #0087ff; text-decoration-color: #0087ff\">Embedding</span>)         │                   │            │                   │\n",
       "├─────────────────────┼───────────────────┼────────────┼───────────────────┤\n",
       "│ embedding_14        │ (<span style=\"color: #00d7ff; text-decoration-color: #00d7ff\">None</span>, <span style=\"color: #00af00; text-decoration-color: #00af00\">1</span>, <span style=\"color: #00af00; text-decoration-color: #00af00\">4</span>)      │         <span style=\"color: #00af00; text-decoration-color: #00af00\">32</span> │ postcodeInput[<span style=\"color: #00af00; text-decoration-color: #00af00\">0</span>]… │\n",
       "│ (<span style=\"color: #0087ff; text-decoration-color: #0087ff\">Embedding</span>)         │                   │            │                   │\n",
       "├─────────────────────┼───────────────────┼────────────┼───────────────────┤\n",
       "│ embedding_15        │ (<span style=\"color: #00d7ff; text-decoration-color: #00d7ff\">None</span>, <span style=\"color: #00af00; text-decoration-color: #00af00\">1</span>, <span style=\"color: #00af00; text-decoration-color: #00af00\">2</span>)      │          <span style=\"color: #00af00; text-decoration-color: #00af00\">8</span> │ Entity_LOC_Prese… │\n",
       "│ (<span style=\"color: #0087ff; text-decoration-color: #0087ff\">Embedding</span>)         │                   │            │                   │\n",
       "├─────────────────────┼───────────────────┼────────────┼───────────────────┤\n",
       "│ embedding_16        │ (<span style=\"color: #00d7ff; text-decoration-color: #00d7ff\">None</span>, <span style=\"color: #00af00; text-decoration-color: #00af00\">1</span>, <span style=\"color: #00af00; text-decoration-color: #00af00\">2</span>)      │          <span style=\"color: #00af00; text-decoration-color: #00af00\">8</span> │ Entity_PER_Prese… │\n",
       "│ (<span style=\"color: #0087ff; text-decoration-color: #0087ff\">Embedding</span>)         │                   │            │                   │\n",
       "├─────────────────────┼───────────────────┼────────────┼───────────────────┤\n",
       "│ embedding_17        │ (<span style=\"color: #00d7ff; text-decoration-color: #00d7ff\">None</span>, <span style=\"color: #00af00; text-decoration-color: #00af00\">1</span>, <span style=\"color: #00af00; text-decoration-color: #00af00\">2</span>)      │          <span style=\"color: #00af00; text-decoration-color: #00af00\">8</span> │ Entity_ORG_Prese… │\n",
       "│ (<span style=\"color: #0087ff; text-decoration-color: #0087ff\">Embedding</span>)         │                   │            │                   │\n",
       "├─────────────────────┼───────────────────┼────────────┼───────────────────┤\n",
       "│ embedding_18        │ (<span style=\"color: #00d7ff; text-decoration-color: #00d7ff\">None</span>, <span style=\"color: #00af00; text-decoration-color: #00af00\">1</span>, <span style=\"color: #00af00; text-decoration-color: #00af00\">2</span>)      │          <span style=\"color: #00af00; text-decoration-color: #00af00\">8</span> │ Entity_PROD_Pres… │\n",
       "│ (<span style=\"color: #0087ff; text-decoration-color: #0087ff\">Embedding</span>)         │                   │            │                   │\n",
       "├─────────────────────┼───────────────────┼────────────┼───────────────────┤\n",
       "│ embedding_19        │ (<span style=\"color: #00d7ff; text-decoration-color: #00d7ff\">None</span>, <span style=\"color: #00af00; text-decoration-color: #00af00\">1</span>, <span style=\"color: #00af00; text-decoration-color: #00af00\">2</span>)      │          <span style=\"color: #00af00; text-decoration-color: #00af00\">8</span> │ Entity_MISC_Pres… │\n",
       "│ (<span style=\"color: #0087ff; text-decoration-color: #0087ff\">Embedding</span>)         │                   │            │                   │\n",
       "├─────────────────────┼───────────────────┼────────────┼───────────────────┤\n",
       "│ embedding_20        │ (<span style=\"color: #00d7ff; text-decoration-color: #00d7ff\">None</span>, <span style=\"color: #00af00; text-decoration-color: #00af00\">1</span>, <span style=\"color: #00af00; text-decoration-color: #00af00\">2</span>)      │          <span style=\"color: #00af00; text-decoration-color: #00af00\">8</span> │ Entity_EVENT_Pre… │\n",
       "│ (<span style=\"color: #0087ff; text-decoration-color: #0087ff\">Embedding</span>)         │                   │            │                   │\n",
       "├─────────────────────┼───────────────────┼────────────┼───────────────────┤\n",
       "│ NumericInputNoise   │ (<span style=\"color: #00d7ff; text-decoration-color: #00d7ff\">None</span>, <span style=\"color: #00af00; text-decoration-color: #00af00\">273</span>)       │          <span style=\"color: #00af00; text-decoration-color: #00af00\">0</span> │ NumericInput[<span style=\"color: #00af00; text-decoration-color: #00af00\">0</span>][<span style=\"color: #00af00; text-decoration-color: #00af00\">…</span> │\n",
       "│ (<span style=\"color: #0087ff; text-decoration-color: #0087ff\">GaussianNoise</span>)     │                   │            │                   │\n",
       "├─────────────────────┼───────────────────┼────────────┼───────────────────┤\n",
       "│ flatten (<span style=\"color: #0087ff; text-decoration-color: #0087ff\">Flatten</span>)   │ (<span style=\"color: #00d7ff; text-decoration-color: #00d7ff\">None</span>, <span style=\"color: #00af00; text-decoration-color: #00af00\">2</span>)         │          <span style=\"color: #00af00; text-decoration-color: #00af00\">0</span> │ embedding[<span style=\"color: #00af00; text-decoration-color: #00af00\">0</span>][<span style=\"color: #00af00; text-decoration-color: #00af00\">0</span>]   │\n",
       "├─────────────────────┼───────────────────┼────────────┼───────────────────┤\n",
       "│ flatten_1 (<span style=\"color: #0087ff; text-decoration-color: #0087ff\">Flatten</span>) │ (<span style=\"color: #00d7ff; text-decoration-color: #00d7ff\">None</span>, <span style=\"color: #00af00; text-decoration-color: #00af00\">2</span>)         │          <span style=\"color: #00af00; text-decoration-color: #00af00\">0</span> │ embedding_1[<span style=\"color: #00af00; text-decoration-color: #00af00\">0</span>][<span style=\"color: #00af00; text-decoration-color: #00af00\">0</span>] │\n",
       "├─────────────────────┼───────────────────┼────────────┼───────────────────┤\n",
       "│ flatten_2 (<span style=\"color: #0087ff; text-decoration-color: #0087ff\">Flatten</span>) │ (<span style=\"color: #00d7ff; text-decoration-color: #00d7ff\">None</span>, <span style=\"color: #00af00; text-decoration-color: #00af00\">2</span>)         │          <span style=\"color: #00af00; text-decoration-color: #00af00\">0</span> │ embedding_2[<span style=\"color: #00af00; text-decoration-color: #00af00\">0</span>][<span style=\"color: #00af00; text-decoration-color: #00af00\">0</span>] │\n",
       "├─────────────────────┼───────────────────┼────────────┼───────────────────┤\n",
       "│ flatten_3 (<span style=\"color: #0087ff; text-decoration-color: #0087ff\">Flatten</span>) │ (<span style=\"color: #00d7ff; text-decoration-color: #00d7ff\">None</span>, <span style=\"color: #00af00; text-decoration-color: #00af00\">2</span>)         │          <span style=\"color: #00af00; text-decoration-color: #00af00\">0</span> │ embedding_3[<span style=\"color: #00af00; text-decoration-color: #00af00\">0</span>][<span style=\"color: #00af00; text-decoration-color: #00af00\">0</span>] │\n",
       "├─────────────────────┼───────────────────┼────────────┼───────────────────┤\n",
       "│ flatten_4 (<span style=\"color: #0087ff; text-decoration-color: #0087ff\">Flatten</span>) │ (<span style=\"color: #00d7ff; text-decoration-color: #00d7ff\">None</span>, <span style=\"color: #00af00; text-decoration-color: #00af00\">4</span>)         │          <span style=\"color: #00af00; text-decoration-color: #00af00\">0</span> │ embedding_4[<span style=\"color: #00af00; text-decoration-color: #00af00\">0</span>][<span style=\"color: #00af00; text-decoration-color: #00af00\">0</span>] │\n",
       "├─────────────────────┼───────────────────┼────────────┼───────────────────┤\n",
       "│ flatten_5 (<span style=\"color: #0087ff; text-decoration-color: #0087ff\">Flatten</span>) │ (<span style=\"color: #00d7ff; text-decoration-color: #00d7ff\">None</span>, <span style=\"color: #00af00; text-decoration-color: #00af00\">2</span>)         │          <span style=\"color: #00af00; text-decoration-color: #00af00\">0</span> │ embedding_5[<span style=\"color: #00af00; text-decoration-color: #00af00\">0</span>][<span style=\"color: #00af00; text-decoration-color: #00af00\">0</span>] │\n",
       "├─────────────────────┼───────────────────┼────────────┼───────────────────┤\n",
       "│ flatten_6 (<span style=\"color: #0087ff; text-decoration-color: #0087ff\">Flatten</span>) │ (<span style=\"color: #00d7ff; text-decoration-color: #00d7ff\">None</span>, <span style=\"color: #00af00; text-decoration-color: #00af00\">8</span>)         │          <span style=\"color: #00af00; text-decoration-color: #00af00\">0</span> │ embedding_6[<span style=\"color: #00af00; text-decoration-color: #00af00\">0</span>][<span style=\"color: #00af00; text-decoration-color: #00af00\">0</span>] │\n",
       "├─────────────────────┼───────────────────┼────────────┼───────────────────┤\n",
       "│ flatten_7 (<span style=\"color: #0087ff; text-decoration-color: #0087ff\">Flatten</span>) │ (<span style=\"color: #00d7ff; text-decoration-color: #00d7ff\">None</span>, <span style=\"color: #00af00; text-decoration-color: #00af00\">2</span>)         │          <span style=\"color: #00af00; text-decoration-color: #00af00\">0</span> │ embedding_7[<span style=\"color: #00af00; text-decoration-color: #00af00\">0</span>][<span style=\"color: #00af00; text-decoration-color: #00af00\">0</span>] │\n",
       "├─────────────────────┼───────────────────┼────────────┼───────────────────┤\n",
       "│ flatten_8 (<span style=\"color: #0087ff; text-decoration-color: #0087ff\">Flatten</span>) │ (<span style=\"color: #00d7ff; text-decoration-color: #00d7ff\">None</span>, <span style=\"color: #00af00; text-decoration-color: #00af00\">2</span>)         │          <span style=\"color: #00af00; text-decoration-color: #00af00\">0</span> │ embedding_8[<span style=\"color: #00af00; text-decoration-color: #00af00\">0</span>][<span style=\"color: #00af00; text-decoration-color: #00af00\">0</span>] │\n",
       "├─────────────────────┼───────────────────┼────────────┼───────────────────┤\n",
       "│ flatten_9 (<span style=\"color: #0087ff; text-decoration-color: #0087ff\">Flatten</span>) │ (<span style=\"color: #00d7ff; text-decoration-color: #00d7ff\">None</span>, <span style=\"color: #00af00; text-decoration-color: #00af00\">2</span>)         │          <span style=\"color: #00af00; text-decoration-color: #00af00\">0</span> │ embedding_9[<span style=\"color: #00af00; text-decoration-color: #00af00\">0</span>][<span style=\"color: #00af00; text-decoration-color: #00af00\">0</span>] │\n",
       "├─────────────────────┼───────────────────┼────────────┼───────────────────┤\n",
       "│ flatten_10          │ (<span style=\"color: #00d7ff; text-decoration-color: #00d7ff\">None</span>, <span style=\"color: #00af00; text-decoration-color: #00af00\">6</span>)         │          <span style=\"color: #00af00; text-decoration-color: #00af00\">0</span> │ embedding_10[<span style=\"color: #00af00; text-decoration-color: #00af00\">0</span>][<span style=\"color: #00af00; text-decoration-color: #00af00\">…</span> │\n",
       "│ (<span style=\"color: #0087ff; text-decoration-color: #0087ff\">Flatten</span>)           │                   │            │                   │\n",
       "├─────────────────────┼───────────────────┼────────────┼───────────────────┤\n",
       "│ flatten_11          │ (<span style=\"color: #00d7ff; text-decoration-color: #00d7ff\">None</span>, <span style=\"color: #00af00; text-decoration-color: #00af00\">4</span>)         │          <span style=\"color: #00af00; text-decoration-color: #00af00\">0</span> │ embedding_11[<span style=\"color: #00af00; text-decoration-color: #00af00\">0</span>][<span style=\"color: #00af00; text-decoration-color: #00af00\">…</span> │\n",
       "│ (<span style=\"color: #0087ff; text-decoration-color: #0087ff\">Flatten</span>)           │                   │            │                   │\n",
       "├─────────────────────┼───────────────────┼────────────┼───────────────────┤\n",
       "│ flatten_12          │ (<span style=\"color: #00d7ff; text-decoration-color: #00d7ff\">None</span>, <span style=\"color: #00af00; text-decoration-color: #00af00\">2</span>)         │          <span style=\"color: #00af00; text-decoration-color: #00af00\">0</span> │ embedding_12[<span style=\"color: #00af00; text-decoration-color: #00af00\">0</span>][<span style=\"color: #00af00; text-decoration-color: #00af00\">…</span> │\n",
       "│ (<span style=\"color: #0087ff; text-decoration-color: #0087ff\">Flatten</span>)           │                   │            │                   │\n",
       "├─────────────────────┼───────────────────┼────────────┼───────────────────┤\n",
       "│ flatten_13          │ (<span style=\"color: #00d7ff; text-decoration-color: #00d7ff\">None</span>, <span style=\"color: #00af00; text-decoration-color: #00af00\">6</span>)         │          <span style=\"color: #00af00; text-decoration-color: #00af00\">0</span> │ embedding_13[<span style=\"color: #00af00; text-decoration-color: #00af00\">0</span>][<span style=\"color: #00af00; text-decoration-color: #00af00\">…</span> │\n",
       "│ (<span style=\"color: #0087ff; text-decoration-color: #0087ff\">Flatten</span>)           │                   │            │                   │\n",
       "├─────────────────────┼───────────────────┼────────────┼───────────────────┤\n",
       "│ flatten_14          │ (<span style=\"color: #00d7ff; text-decoration-color: #00d7ff\">None</span>, <span style=\"color: #00af00; text-decoration-color: #00af00\">4</span>)         │          <span style=\"color: #00af00; text-decoration-color: #00af00\">0</span> │ embedding_14[<span style=\"color: #00af00; text-decoration-color: #00af00\">0</span>][<span style=\"color: #00af00; text-decoration-color: #00af00\">…</span> │\n",
       "│ (<span style=\"color: #0087ff; text-decoration-color: #0087ff\">Flatten</span>)           │                   │            │                   │\n",
       "├─────────────────────┼───────────────────┼────────────┼───────────────────┤\n",
       "│ flatten_15          │ (<span style=\"color: #00d7ff; text-decoration-color: #00d7ff\">None</span>, <span style=\"color: #00af00; text-decoration-color: #00af00\">2</span>)         │          <span style=\"color: #00af00; text-decoration-color: #00af00\">0</span> │ embedding_15[<span style=\"color: #00af00; text-decoration-color: #00af00\">0</span>][<span style=\"color: #00af00; text-decoration-color: #00af00\">…</span> │\n",
       "│ (<span style=\"color: #0087ff; text-decoration-color: #0087ff\">Flatten</span>)           │                   │            │                   │\n",
       "├─────────────────────┼───────────────────┼────────────┼───────────────────┤\n",
       "│ flatten_16          │ (<span style=\"color: #00d7ff; text-decoration-color: #00d7ff\">None</span>, <span style=\"color: #00af00; text-decoration-color: #00af00\">2</span>)         │          <span style=\"color: #00af00; text-decoration-color: #00af00\">0</span> │ embedding_16[<span style=\"color: #00af00; text-decoration-color: #00af00\">0</span>][<span style=\"color: #00af00; text-decoration-color: #00af00\">…</span> │\n",
       "│ (<span style=\"color: #0087ff; text-decoration-color: #0087ff\">Flatten</span>)           │                   │            │                   │\n",
       "├─────────────────────┼───────────────────┼────────────┼───────────────────┤\n",
       "│ flatten_17          │ (<span style=\"color: #00d7ff; text-decoration-color: #00d7ff\">None</span>, <span style=\"color: #00af00; text-decoration-color: #00af00\">2</span>)         │          <span style=\"color: #00af00; text-decoration-color: #00af00\">0</span> │ embedding_17[<span style=\"color: #00af00; text-decoration-color: #00af00\">0</span>][<span style=\"color: #00af00; text-decoration-color: #00af00\">…</span> │\n",
       "│ (<span style=\"color: #0087ff; text-decoration-color: #0087ff\">Flatten</span>)           │                   │            │                   │\n",
       "├─────────────────────┼───────────────────┼────────────┼───────────────────┤\n",
       "│ flatten_18          │ (<span style=\"color: #00d7ff; text-decoration-color: #00d7ff\">None</span>, <span style=\"color: #00af00; text-decoration-color: #00af00\">2</span>)         │          <span style=\"color: #00af00; text-decoration-color: #00af00\">0</span> │ embedding_18[<span style=\"color: #00af00; text-decoration-color: #00af00\">0</span>][<span style=\"color: #00af00; text-decoration-color: #00af00\">…</span> │\n",
       "│ (<span style=\"color: #0087ff; text-decoration-color: #0087ff\">Flatten</span>)           │                   │            │                   │\n",
       "├─────────────────────┼───────────────────┼────────────┼───────────────────┤\n",
       "│ flatten_19          │ (<span style=\"color: #00d7ff; text-decoration-color: #00d7ff\">None</span>, <span style=\"color: #00af00; text-decoration-color: #00af00\">2</span>)         │          <span style=\"color: #00af00; text-decoration-color: #00af00\">0</span> │ embedding_19[<span style=\"color: #00af00; text-decoration-color: #00af00\">0</span>][<span style=\"color: #00af00; text-decoration-color: #00af00\">…</span> │\n",
       "│ (<span style=\"color: #0087ff; text-decoration-color: #0087ff\">Flatten</span>)           │                   │            │                   │\n",
       "├─────────────────────┼───────────────────┼────────────┼───────────────────┤\n",
       "│ flatten_20          │ (<span style=\"color: #00d7ff; text-decoration-color: #00d7ff\">None</span>, <span style=\"color: #00af00; text-decoration-color: #00af00\">2</span>)         │          <span style=\"color: #00af00; text-decoration-color: #00af00\">0</span> │ embedding_20[<span style=\"color: #00af00; text-decoration-color: #00af00\">0</span>][<span style=\"color: #00af00; text-decoration-color: #00af00\">…</span> │\n",
       "│ (<span style=\"color: #0087ff; text-decoration-color: #0087ff\">Flatten</span>)           │                   │            │                   │\n",
       "├─────────────────────┼───────────────────┼────────────┼───────────────────┤\n",
       "│ concatenate         │ (<span style=\"color: #00d7ff; text-decoration-color: #00d7ff\">None</span>, <span style=\"color: #00af00; text-decoration-color: #00af00\">335</span>)       │          <span style=\"color: #00af00; text-decoration-color: #00af00\">0</span> │ NumericInputNois… │\n",
       "│ (<span style=\"color: #0087ff; text-decoration-color: #0087ff\">Concatenate</span>)       │                   │            │ flatten[<span style=\"color: #00af00; text-decoration-color: #00af00\">0</span>][<span style=\"color: #00af00; text-decoration-color: #00af00\">0</span>],    │\n",
       "│                     │                   │            │ flatten_1[<span style=\"color: #00af00; text-decoration-color: #00af00\">0</span>][<span style=\"color: #00af00; text-decoration-color: #00af00\">0</span>],  │\n",
       "│                     │                   │            │ flatten_2[<span style=\"color: #00af00; text-decoration-color: #00af00\">0</span>][<span style=\"color: #00af00; text-decoration-color: #00af00\">0</span>],  │\n",
       "│                     │                   │            │ flatten_3[<span style=\"color: #00af00; text-decoration-color: #00af00\">0</span>][<span style=\"color: #00af00; text-decoration-color: #00af00\">0</span>],  │\n",
       "│                     │                   │            │ flatten_4[<span style=\"color: #00af00; text-decoration-color: #00af00\">0</span>][<span style=\"color: #00af00; text-decoration-color: #00af00\">0</span>],  │\n",
       "│                     │                   │            │ flatten_5[<span style=\"color: #00af00; text-decoration-color: #00af00\">0</span>][<span style=\"color: #00af00; text-decoration-color: #00af00\">0</span>],  │\n",
       "│                     │                   │            │ flatten_6[<span style=\"color: #00af00; text-decoration-color: #00af00\">0</span>][<span style=\"color: #00af00; text-decoration-color: #00af00\">0</span>],  │\n",
       "│                     │                   │            │ flatten_7[<span style=\"color: #00af00; text-decoration-color: #00af00\">0</span>][<span style=\"color: #00af00; text-decoration-color: #00af00\">0</span>],  │\n",
       "│                     │                   │            │ flatten_8[<span style=\"color: #00af00; text-decoration-color: #00af00\">0</span>][<span style=\"color: #00af00; text-decoration-color: #00af00\">0</span>],  │\n",
       "│                     │                   │            │ flatten_9[<span style=\"color: #00af00; text-decoration-color: #00af00\">0</span>][<span style=\"color: #00af00; text-decoration-color: #00af00\">0</span>],  │\n",
       "│                     │                   │            │ flatten_10[<span style=\"color: #00af00; text-decoration-color: #00af00\">0</span>][<span style=\"color: #00af00; text-decoration-color: #00af00\">0</span>], │\n",
       "│                     │                   │            │ flatten_11[<span style=\"color: #00af00; text-decoration-color: #00af00\">0</span>][<span style=\"color: #00af00; text-decoration-color: #00af00\">0</span>], │\n",
       "│                     │                   │            │ flatten_12[<span style=\"color: #00af00; text-decoration-color: #00af00\">0</span>][<span style=\"color: #00af00; text-decoration-color: #00af00\">0</span>], │\n",
       "│                     │                   │            │ flatten_13[<span style=\"color: #00af00; text-decoration-color: #00af00\">0</span>][<span style=\"color: #00af00; text-decoration-color: #00af00\">0</span>], │\n",
       "│                     │                   │            │ flatten_14[<span style=\"color: #00af00; text-decoration-color: #00af00\">0</span>][<span style=\"color: #00af00; text-decoration-color: #00af00\">0</span>], │\n",
       "│                     │                   │            │ flatten_15[<span style=\"color: #00af00; text-decoration-color: #00af00\">0</span>][<span style=\"color: #00af00; text-decoration-color: #00af00\">0</span>], │\n",
       "│                     │                   │            │ flatten_16[<span style=\"color: #00af00; text-decoration-color: #00af00\">0</span>][<span style=\"color: #00af00; text-decoration-color: #00af00\">0</span>], │\n",
       "│                     │                   │            │ flatten_17[<span style=\"color: #00af00; text-decoration-color: #00af00\">0</span>][<span style=\"color: #00af00; text-decoration-color: #00af00\">0</span>], │\n",
       "│                     │                   │            │ flatten_18[<span style=\"color: #00af00; text-decoration-color: #00af00\">0</span>][<span style=\"color: #00af00; text-decoration-color: #00af00\">0</span>], │\n",
       "│                     │                   │            │ flatten_19[<span style=\"color: #00af00; text-decoration-color: #00af00\">0</span>][<span style=\"color: #00af00; text-decoration-color: #00af00\">0</span>], │\n",
       "│                     │                   │            │ flatten_20[<span style=\"color: #00af00; text-decoration-color: #00af00\">0</span>][<span style=\"color: #00af00; text-decoration-color: #00af00\">0</span>]  │\n",
       "├─────────────────────┼───────────────────┼────────────┼───────────────────┤\n",
       "│ DeepDense0 (<span style=\"color: #0087ff; text-decoration-color: #0087ff\">Dense</span>)  │ (<span style=\"color: #00d7ff; text-decoration-color: #00d7ff\">None</span>, <span style=\"color: #00af00; text-decoration-color: #00af00\">512</span>)       │    <span style=\"color: #00af00; text-decoration-color: #00af00\">172,032</span> │ concatenate[<span style=\"color: #00af00; text-decoration-color: #00af00\">0</span>][<span style=\"color: #00af00; text-decoration-color: #00af00\">0</span>] │\n",
       "├─────────────────────┼───────────────────┼────────────┼───────────────────┤\n",
       "│ DeepBatchNormaliza… │ (<span style=\"color: #00d7ff; text-decoration-color: #00d7ff\">None</span>, <span style=\"color: #00af00; text-decoration-color: #00af00\">512</span>)       │      <span style=\"color: #00af00; text-decoration-color: #00af00\">2,048</span> │ DeepDense0[<span style=\"color: #00af00; text-decoration-color: #00af00\">0</span>][<span style=\"color: #00af00; text-decoration-color: #00af00\">0</span>]  │\n",
       "│ (<span style=\"color: #0087ff; text-decoration-color: #0087ff\">BatchNormalizatio…</span> │                   │            │                   │\n",
       "├─────────────────────┼───────────────────┼────────────┼───────────────────┤\n",
       "│ DeepActivation0     │ (<span style=\"color: #00d7ff; text-decoration-color: #00d7ff\">None</span>, <span style=\"color: #00af00; text-decoration-color: #00af00\">512</span>)       │          <span style=\"color: #00af00; text-decoration-color: #00af00\">0</span> │ DeepBatchNormali… │\n",
       "│ (<span style=\"color: #0087ff; text-decoration-color: #0087ff\">Activation</span>)        │                   │            │                   │\n",
       "├─────────────────────┼───────────────────┼────────────┼───────────────────┤\n",
       "│ DeepDropout0        │ (<span style=\"color: #00d7ff; text-decoration-color: #00d7ff\">None</span>, <span style=\"color: #00af00; text-decoration-color: #00af00\">512</span>)       │          <span style=\"color: #00af00; text-decoration-color: #00af00\">0</span> │ DeepActivation0[<span style=\"color: #00af00; text-decoration-color: #00af00\">…</span> │\n",
       "│ (<span style=\"color: #0087ff; text-decoration-color: #0087ff\">Dropout</span>)           │                   │            │                   │\n",
       "├─────────────────────┼───────────────────┼────────────┼───────────────────┤\n",
       "│ DeepDense1 (<span style=\"color: #0087ff; text-decoration-color: #0087ff\">Dense</span>)  │ (<span style=\"color: #00d7ff; text-decoration-color: #00d7ff\">None</span>, <span style=\"color: #00af00; text-decoration-color: #00af00\">256</span>)       │    <span style=\"color: #00af00; text-decoration-color: #00af00\">131,328</span> │ DeepDropout0[<span style=\"color: #00af00; text-decoration-color: #00af00\">0</span>][<span style=\"color: #00af00; text-decoration-color: #00af00\">…</span> │\n",
       "├─────────────────────┼───────────────────┼────────────┼───────────────────┤\n",
       "│ DeepBatchNormaliza… │ (<span style=\"color: #00d7ff; text-decoration-color: #00d7ff\">None</span>, <span style=\"color: #00af00; text-decoration-color: #00af00\">256</span>)       │      <span style=\"color: #00af00; text-decoration-color: #00af00\">1,024</span> │ DeepDense1[<span style=\"color: #00af00; text-decoration-color: #00af00\">0</span>][<span style=\"color: #00af00; text-decoration-color: #00af00\">0</span>]  │\n",
       "│ (<span style=\"color: #0087ff; text-decoration-color: #0087ff\">BatchNormalizatio…</span> │                   │            │                   │\n",
       "├─────────────────────┼───────────────────┼────────────┼───────────────────┤\n",
       "│ DeepActivation1     │ (<span style=\"color: #00d7ff; text-decoration-color: #00d7ff\">None</span>, <span style=\"color: #00af00; text-decoration-color: #00af00\">256</span>)       │          <span style=\"color: #00af00; text-decoration-color: #00af00\">0</span> │ DeepBatchNormali… │\n",
       "│ (<span style=\"color: #0087ff; text-decoration-color: #0087ff\">Activation</span>)        │                   │            │                   │\n",
       "├─────────────────────┼───────────────────┼────────────┼───────────────────┤\n",
       "│ DeepDropout1        │ (<span style=\"color: #00d7ff; text-decoration-color: #00d7ff\">None</span>, <span style=\"color: #00af00; text-decoration-color: #00af00\">256</span>)       │          <span style=\"color: #00af00; text-decoration-color: #00af00\">0</span> │ DeepActivation1[<span style=\"color: #00af00; text-decoration-color: #00af00\">…</span> │\n",
       "│ (<span style=\"color: #0087ff; text-decoration-color: #0087ff\">Dropout</span>)           │                   │            │                   │\n",
       "├─────────────────────┼───────────────────┼────────────┼───────────────────┤\n",
       "│ DeepDense2 (<span style=\"color: #0087ff; text-decoration-color: #0087ff\">Dense</span>)  │ (<span style=\"color: #00d7ff; text-decoration-color: #00d7ff\">None</span>, <span style=\"color: #00af00; text-decoration-color: #00af00\">128</span>)       │     <span style=\"color: #00af00; text-decoration-color: #00af00\">32,896</span> │ DeepDropout1[<span style=\"color: #00af00; text-decoration-color: #00af00\">0</span>][<span style=\"color: #00af00; text-decoration-color: #00af00\">…</span> │\n",
       "├─────────────────────┼───────────────────┼────────────┼───────────────────┤\n",
       "│ DeepBatchNormaliza… │ (<span style=\"color: #00d7ff; text-decoration-color: #00d7ff\">None</span>, <span style=\"color: #00af00; text-decoration-color: #00af00\">128</span>)       │        <span style=\"color: #00af00; text-decoration-color: #00af00\">512</span> │ DeepDense2[<span style=\"color: #00af00; text-decoration-color: #00af00\">0</span>][<span style=\"color: #00af00; text-decoration-color: #00af00\">0</span>]  │\n",
       "│ (<span style=\"color: #0087ff; text-decoration-color: #0087ff\">BatchNormalizatio…</span> │                   │            │                   │\n",
       "├─────────────────────┼───────────────────┼────────────┼───────────────────┤\n",
       "│ DeepActivation2     │ (<span style=\"color: #00d7ff; text-decoration-color: #00d7ff\">None</span>, <span style=\"color: #00af00; text-decoration-color: #00af00\">128</span>)       │          <span style=\"color: #00af00; text-decoration-color: #00af00\">0</span> │ DeepBatchNormali… │\n",
       "│ (<span style=\"color: #0087ff; text-decoration-color: #0087ff\">Activation</span>)        │                   │            │                   │\n",
       "├─────────────────────┼───────────────────┼────────────┼───────────────────┤\n",
       "│ DeepDropout2        │ (<span style=\"color: #00d7ff; text-decoration-color: #00d7ff\">None</span>, <span style=\"color: #00af00; text-decoration-color: #00af00\">128</span>)       │          <span style=\"color: #00af00; text-decoration-color: #00af00\">0</span> │ DeepActivation2[<span style=\"color: #00af00; text-decoration-color: #00af00\">…</span> │\n",
       "│ (<span style=\"color: #0087ff; text-decoration-color: #0087ff\">Dropout</span>)           │                   │            │                   │\n",
       "├─────────────────────┼───────────────────┼────────────┼───────────────────┤\n",
       "│ DeepDense3 (<span style=\"color: #0087ff; text-decoration-color: #0087ff\">Dense</span>)  │ (<span style=\"color: #00d7ff; text-decoration-color: #00d7ff\">None</span>, <span style=\"color: #00af00; text-decoration-color: #00af00\">64</span>)        │      <span style=\"color: #00af00; text-decoration-color: #00af00\">8,256</span> │ DeepDropout2[<span style=\"color: #00af00; text-decoration-color: #00af00\">0</span>][<span style=\"color: #00af00; text-decoration-color: #00af00\">…</span> │\n",
       "├─────────────────────┼───────────────────┼────────────┼───────────────────┤\n",
       "│ DeepBatchNormaliza… │ (<span style=\"color: #00d7ff; text-decoration-color: #00d7ff\">None</span>, <span style=\"color: #00af00; text-decoration-color: #00af00\">64</span>)        │        <span style=\"color: #00af00; text-decoration-color: #00af00\">256</span> │ DeepDense3[<span style=\"color: #00af00; text-decoration-color: #00af00\">0</span>][<span style=\"color: #00af00; text-decoration-color: #00af00\">0</span>]  │\n",
       "│ (<span style=\"color: #0087ff; text-decoration-color: #0087ff\">BatchNormalizatio…</span> │                   │            │                   │\n",
       "├─────────────────────┼───────────────────┼────────────┼───────────────────┤\n",
       "│ DeepActivation3     │ (<span style=\"color: #00d7ff; text-decoration-color: #00d7ff\">None</span>, <span style=\"color: #00af00; text-decoration-color: #00af00\">64</span>)        │          <span style=\"color: #00af00; text-decoration-color: #00af00\">0</span> │ DeepBatchNormali… │\n",
       "│ (<span style=\"color: #0087ff; text-decoration-color: #0087ff\">Activation</span>)        │                   │            │                   │\n",
       "├─────────────────────┼───────────────────┼────────────┼───────────────────┤\n",
       "│ DeepDropout3        │ (<span style=\"color: #00d7ff; text-decoration-color: #00d7ff\">None</span>, <span style=\"color: #00af00; text-decoration-color: #00af00\">64</span>)        │          <span style=\"color: #00af00; text-decoration-color: #00af00\">0</span> │ DeepActivation3[<span style=\"color: #00af00; text-decoration-color: #00af00\">…</span> │\n",
       "│ (<span style=\"color: #0087ff; text-decoration-color: #0087ff\">Dropout</span>)           │                   │            │                   │\n",
       "├─────────────────────┼───────────────────┼────────────┼───────────────────┤\n",
       "│ WideDeepConcat      │ (<span style=\"color: #00d7ff; text-decoration-color: #00d7ff\">None</span>, <span style=\"color: #00af00; text-decoration-color: #00af00\">399</span>)       │          <span style=\"color: #00af00; text-decoration-color: #00af00\">0</span> │ concatenate[<span style=\"color: #00af00; text-decoration-color: #00af00\">0</span>][<span style=\"color: #00af00; text-decoration-color: #00af00\">0</span>… │\n",
       "│ (<span style=\"color: #0087ff; text-decoration-color: #0087ff\">Concatenate</span>)       │                   │            │ DeepDropout3[<span style=\"color: #00af00; text-decoration-color: #00af00\">0</span>][<span style=\"color: #00af00; text-decoration-color: #00af00\">…</span> │\n",
       "├─────────────────────┼───────────────────┼────────────┼───────────────────┤\n",
       "│ OutputDense (<span style=\"color: #0087ff; text-decoration-color: #0087ff\">Dense</span>) │ (<span style=\"color: #00d7ff; text-decoration-color: #00d7ff\">None</span>, <span style=\"color: #00af00; text-decoration-color: #00af00\">1</span>)         │        <span style=\"color: #00af00; text-decoration-color: #00af00\">400</span> │ WideDeepConcat[<span style=\"color: #00af00; text-decoration-color: #00af00\">0</span>… │\n",
       "└─────────────────────┴───────────────────┴────────────┴───────────────────┘\n",
       "</pre>\n"
      ],
      "text/plain": [
       "┏━━━━━━━━━━━━━━━━━━━━━┳━━━━━━━━━━━━━━━━━━━┳━━━━━━━━━━━━┳━━━━━━━━━━━━━━━━━━━┓\n",
       "┃\u001b[1m \u001b[0m\u001b[1mLayer (type)       \u001b[0m\u001b[1m \u001b[0m┃\u001b[1m \u001b[0m\u001b[1mOutput Shape     \u001b[0m\u001b[1m \u001b[0m┃\u001b[1m \u001b[0m\u001b[1m   Param #\u001b[0m\u001b[1m \u001b[0m┃\u001b[1m \u001b[0m\u001b[1mConnected to     \u001b[0m\u001b[1m \u001b[0m┃\n",
       "┡━━━━━━━━━━━━━━━━━━━━━╇━━━━━━━━━━━━━━━━━━━╇━━━━━━━━━━━━╇━━━━━━━━━━━━━━━━━━━┩\n",
       "│ device_typeInput    │ (\u001b[38;5;45mNone\u001b[0m, \u001b[38;5;34m1\u001b[0m)         │          \u001b[38;5;34m0\u001b[0m │ -                 │\n",
       "│ (\u001b[38;5;33mInputLayer\u001b[0m)        │                   │            │                   │\n",
       "├─────────────────────┼───────────────────┼────────────┼───────────────────┤\n",
       "│ is_sso_userInput    │ (\u001b[38;5;45mNone\u001b[0m, \u001b[38;5;34m1\u001b[0m)         │          \u001b[38;5;34m0\u001b[0m │ -                 │\n",
       "│ (\u001b[38;5;33mInputLayer\u001b[0m)        │                   │            │                   │\n",
       "├─────────────────────┼───────────────────┼────────────┼───────────────────┤\n",
       "│ genderInput         │ (\u001b[38;5;45mNone\u001b[0m, \u001b[38;5;34m1\u001b[0m)         │          \u001b[38;5;34m0\u001b[0m │ -                 │\n",
       "│ (\u001b[38;5;33mInputLayer\u001b[0m)        │                   │            │                   │\n",
       "├─────────────────────┼───────────────────┼────────────┼───────────────────┤\n",
       "│ is_subscriberInput  │ (\u001b[38;5;45mNone\u001b[0m, \u001b[38;5;34m1\u001b[0m)         │          \u001b[38;5;34m0\u001b[0m │ -                 │\n",
       "│ (\u001b[38;5;33mInputLayer\u001b[0m)        │                   │            │                   │\n",
       "├─────────────────────┼───────────────────┼────────────┼───────────────────┤\n",
       "│ weekdayInput        │ (\u001b[38;5;45mNone\u001b[0m, \u001b[38;5;34m1\u001b[0m)         │          \u001b[38;5;34m0\u001b[0m │ -                 │\n",
       "│ (\u001b[38;5;33mInputLayer\u001b[0m)        │                   │            │                   │\n",
       "├─────────────────────┼───────────────────┼────────────┼───────────────────┤\n",
       "│ premiumInput        │ (\u001b[38;5;45mNone\u001b[0m, \u001b[38;5;34m1\u001b[0m)         │          \u001b[38;5;34m0\u001b[0m │ -                 │\n",
       "│ (\u001b[38;5;33mInputLayer\u001b[0m)        │                   │            │                   │\n",
       "├─────────────────────┼───────────────────┼────────────┼───────────────────┤\n",
       "│ categoryInput       │ (\u001b[38;5;45mNone\u001b[0m, \u001b[38;5;34m1\u001b[0m)         │          \u001b[38;5;34m0\u001b[0m │ -                 │\n",
       "│ (\u001b[38;5;33mInputLayer\u001b[0m)        │                   │            │                   │\n",
       "├─────────────────────┼───────────────────┼────────────┼───────────────────┤\n",
       "│ sentiment_labelInp… │ (\u001b[38;5;45mNone\u001b[0m, \u001b[38;5;34m1\u001b[0m)         │          \u001b[38;5;34m0\u001b[0m │ -                 │\n",
       "│ (\u001b[38;5;33mInputLayer\u001b[0m)        │                   │            │                   │\n",
       "├─────────────────────┼───────────────────┼────────────┼───────────────────┤\n",
       "│ is_new_articleInput │ (\u001b[38;5;45mNone\u001b[0m, \u001b[38;5;34m1\u001b[0m)         │          \u001b[38;5;34m0\u001b[0m │ -                 │\n",
       "│ (\u001b[38;5;33mInputLayer\u001b[0m)        │                   │            │                   │\n",
       "├─────────────────────┼───────────────────┼────────────┼───────────────────┤\n",
       "│ is_already_seen_ar… │ (\u001b[38;5;45mNone\u001b[0m, \u001b[38;5;34m1\u001b[0m)         │          \u001b[38;5;34m0\u001b[0m │ -                 │\n",
       "│ (\u001b[38;5;33mInputLayer\u001b[0m)        │                   │            │                   │\n",
       "├─────────────────────┼───────────────────┼────────────┼───────────────────┤\n",
       "│ MostFrequentCatego… │ (\u001b[38;5;45mNone\u001b[0m, \u001b[38;5;34m1\u001b[0m)         │          \u001b[38;5;34m0\u001b[0m │ -                 │\n",
       "│ (\u001b[38;5;33mInputLayer\u001b[0m)        │                   │            │                   │\n",
       "├─────────────────────┼───────────────────┼────────────┼───────────────────┤\n",
       "│ MostFrequentWeekda… │ (\u001b[38;5;45mNone\u001b[0m, \u001b[38;5;34m1\u001b[0m)         │          \u001b[38;5;34m0\u001b[0m │ -                 │\n",
       "│ (\u001b[38;5;33mInputLayer\u001b[0m)        │                   │            │                   │\n",
       "├─────────────────────┼───────────────────┼────────────┼───────────────────┤\n",
       "│ IsFavouriteCategor… │ (\u001b[38;5;45mNone\u001b[0m, \u001b[38;5;34m1\u001b[0m)         │          \u001b[38;5;34m0\u001b[0m │ -                 │\n",
       "│ (\u001b[38;5;33mInputLayer\u001b[0m)        │                   │            │                   │\n",
       "├─────────────────────┼───────────────────┼────────────┼───────────────────┤\n",
       "│ article_typeInput   │ (\u001b[38;5;45mNone\u001b[0m, \u001b[38;5;34m1\u001b[0m)         │          \u001b[38;5;34m0\u001b[0m │ -                 │\n",
       "│ (\u001b[38;5;33mInputLayer\u001b[0m)        │                   │            │                   │\n",
       "├─────────────────────┼───────────────────┼────────────┼───────────────────┤\n",
       "│ postcodeInput       │ (\u001b[38;5;45mNone\u001b[0m, \u001b[38;5;34m1\u001b[0m)         │          \u001b[38;5;34m0\u001b[0m │ -                 │\n",
       "│ (\u001b[38;5;33mInputLayer\u001b[0m)        │                   │            │                   │\n",
       "├─────────────────────┼───────────────────┼────────────┼───────────────────┤\n",
       "│ Entity_LOC_Present… │ (\u001b[38;5;45mNone\u001b[0m, \u001b[38;5;34m1\u001b[0m)         │          \u001b[38;5;34m0\u001b[0m │ -                 │\n",
       "│ (\u001b[38;5;33mInputLayer\u001b[0m)        │                   │            │                   │\n",
       "├─────────────────────┼───────────────────┼────────────┼───────────────────┤\n",
       "│ Entity_PER_Present… │ (\u001b[38;5;45mNone\u001b[0m, \u001b[38;5;34m1\u001b[0m)         │          \u001b[38;5;34m0\u001b[0m │ -                 │\n",
       "│ (\u001b[38;5;33mInputLayer\u001b[0m)        │                   │            │                   │\n",
       "├─────────────────────┼───────────────────┼────────────┼───────────────────┤\n",
       "│ Entity_ORG_Present… │ (\u001b[38;5;45mNone\u001b[0m, \u001b[38;5;34m1\u001b[0m)         │          \u001b[38;5;34m0\u001b[0m │ -                 │\n",
       "│ (\u001b[38;5;33mInputLayer\u001b[0m)        │                   │            │                   │\n",
       "├─────────────────────┼───────────────────┼────────────┼───────────────────┤\n",
       "│ Entity_PROD_Presen… │ (\u001b[38;5;45mNone\u001b[0m, \u001b[38;5;34m1\u001b[0m)         │          \u001b[38;5;34m0\u001b[0m │ -                 │\n",
       "│ (\u001b[38;5;33mInputLayer\u001b[0m)        │                   │            │                   │\n",
       "├─────────────────────┼───────────────────┼────────────┼───────────────────┤\n",
       "│ Entity_MISC_Presen… │ (\u001b[38;5;45mNone\u001b[0m, \u001b[38;5;34m1\u001b[0m)         │          \u001b[38;5;34m0\u001b[0m │ -                 │\n",
       "│ (\u001b[38;5;33mInputLayer\u001b[0m)        │                   │            │                   │\n",
       "├─────────────────────┼───────────────────┼────────────┼───────────────────┤\n",
       "│ Entity_EVENT_Prese… │ (\u001b[38;5;45mNone\u001b[0m, \u001b[38;5;34m1\u001b[0m)         │          \u001b[38;5;34m0\u001b[0m │ -                 │\n",
       "│ (\u001b[38;5;33mInputLayer\u001b[0m)        │                   │            │                   │\n",
       "├─────────────────────┼───────────────────┼────────────┼───────────────────┤\n",
       "│ NumericInput        │ (\u001b[38;5;45mNone\u001b[0m, \u001b[38;5;34m273\u001b[0m)       │          \u001b[38;5;34m0\u001b[0m │ -                 │\n",
       "│ (\u001b[38;5;33mInputLayer\u001b[0m)        │                   │            │                   │\n",
       "├─────────────────────┼───────────────────┼────────────┼───────────────────┤\n",
       "│ embedding           │ (\u001b[38;5;45mNone\u001b[0m, \u001b[38;5;34m1\u001b[0m, \u001b[38;5;34m2\u001b[0m)      │         \u001b[38;5;34m10\u001b[0m │ device_typeInput… │\n",
       "│ (\u001b[38;5;33mEmbedding\u001b[0m)         │                   │            │                   │\n",
       "├─────────────────────┼───────────────────┼────────────┼───────────────────┤\n",
       "│ embedding_1         │ (\u001b[38;5;45mNone\u001b[0m, \u001b[38;5;34m1\u001b[0m, \u001b[38;5;34m2\u001b[0m)      │          \u001b[38;5;34m8\u001b[0m │ is_sso_userInput… │\n",
       "│ (\u001b[38;5;33mEmbedding\u001b[0m)         │                   │            │                   │\n",
       "├─────────────────────┼───────────────────┼────────────┼───────────────────┤\n",
       "│ embedding_2         │ (\u001b[38;5;45mNone\u001b[0m, \u001b[38;5;34m1\u001b[0m, \u001b[38;5;34m2\u001b[0m)      │         \u001b[38;5;34m10\u001b[0m │ genderInput[\u001b[38;5;34m0\u001b[0m][\u001b[38;5;34m0\u001b[0m] │\n",
       "│ (\u001b[38;5;33mEmbedding\u001b[0m)         │                   │            │                   │\n",
       "├─────────────────────┼───────────────────┼────────────┼───────────────────┤\n",
       "│ embedding_3         │ (\u001b[38;5;45mNone\u001b[0m, \u001b[38;5;34m1\u001b[0m, \u001b[38;5;34m2\u001b[0m)      │          \u001b[38;5;34m8\u001b[0m │ is_subscriberInp… │\n",
       "│ (\u001b[38;5;33mEmbedding\u001b[0m)         │                   │            │                   │\n",
       "├─────────────────────┼───────────────────┼────────────┼───────────────────┤\n",
       "│ embedding_4         │ (\u001b[38;5;45mNone\u001b[0m, \u001b[38;5;34m1\u001b[0m, \u001b[38;5;34m4\u001b[0m)      │         \u001b[38;5;34m36\u001b[0m │ weekdayInput[\u001b[38;5;34m0\u001b[0m][\u001b[38;5;34m…\u001b[0m │\n",
       "│ (\u001b[38;5;33mEmbedding\u001b[0m)         │                   │            │                   │\n",
       "├─────────────────────┼───────────────────┼────────────┼───────────────────┤\n",
       "│ embedding_5         │ (\u001b[38;5;45mNone\u001b[0m, \u001b[38;5;34m1\u001b[0m, \u001b[38;5;34m2\u001b[0m)      │          \u001b[38;5;34m8\u001b[0m │ premiumInput[\u001b[38;5;34m0\u001b[0m][\u001b[38;5;34m…\u001b[0m │\n",
       "│ (\u001b[38;5;33mEmbedding\u001b[0m)         │                   │            │                   │\n",
       "├─────────────────────┼───────────────────┼────────────┼───────────────────┤\n",
       "│ embedding_6         │ (\u001b[38;5;45mNone\u001b[0m, \u001b[38;5;34m1\u001b[0m, \u001b[38;5;34m8\u001b[0m)      │        \u001b[38;5;34m136\u001b[0m │ categoryInput[\u001b[38;5;34m0\u001b[0m]… │\n",
       "│ (\u001b[38;5;33mEmbedding\u001b[0m)         │                   │            │                   │\n",
       "├─────────────────────┼───────────────────┼────────────┼───────────────────┤\n",
       "│ embedding_7         │ (\u001b[38;5;45mNone\u001b[0m, \u001b[38;5;34m1\u001b[0m, \u001b[38;5;34m2\u001b[0m)      │         \u001b[38;5;34m10\u001b[0m │ sentiment_labelI… │\n",
       "│ (\u001b[38;5;33mEmbedding\u001b[0m)         │                   │            │                   │\n",
       "├─────────────────────┼───────────────────┼────────────┼───────────────────┤\n",
       "│ embedding_8         │ (\u001b[38;5;45mNone\u001b[0m, \u001b[38;5;34m1\u001b[0m, \u001b[38;5;34m2\u001b[0m)      │          \u001b[38;5;34m8\u001b[0m │ is_new_articleIn… │\n",
       "│ (\u001b[38;5;33mEmbedding\u001b[0m)         │                   │            │                   │\n",
       "├─────────────────────┼───────────────────┼────────────┼───────────────────┤\n",
       "│ embedding_9         │ (\u001b[38;5;45mNone\u001b[0m, \u001b[38;5;34m1\u001b[0m, \u001b[38;5;34m2\u001b[0m)      │          \u001b[38;5;34m8\u001b[0m │ is_already_seen_… │\n",
       "│ (\u001b[38;5;33mEmbedding\u001b[0m)         │                   │            │                   │\n",
       "├─────────────────────┼───────────────────┼────────────┼───────────────────┤\n",
       "│ embedding_10        │ (\u001b[38;5;45mNone\u001b[0m, \u001b[38;5;34m1\u001b[0m, \u001b[38;5;34m6\u001b[0m)      │         \u001b[38;5;34m72\u001b[0m │ MostFrequentCate… │\n",
       "│ (\u001b[38;5;33mEmbedding\u001b[0m)         │                   │            │                   │\n",
       "├─────────────────────┼───────────────────┼────────────┼───────────────────┤\n",
       "│ embedding_11        │ (\u001b[38;5;45mNone\u001b[0m, \u001b[38;5;34m1\u001b[0m, \u001b[38;5;34m4\u001b[0m)      │         \u001b[38;5;34m36\u001b[0m │ MostFrequentWeek… │\n",
       "│ (\u001b[38;5;33mEmbedding\u001b[0m)         │                   │            │                   │\n",
       "├─────────────────────┼───────────────────┼────────────┼───────────────────┤\n",
       "│ embedding_12        │ (\u001b[38;5;45mNone\u001b[0m, \u001b[38;5;34m1\u001b[0m, \u001b[38;5;34m2\u001b[0m)      │          \u001b[38;5;34m8\u001b[0m │ IsFavouriteCateg… │\n",
       "│ (\u001b[38;5;33mEmbedding\u001b[0m)         │                   │            │                   │\n",
       "├─────────────────────┼───────────────────┼────────────┼───────────────────┤\n",
       "│ embedding_13        │ (\u001b[38;5;45mNone\u001b[0m, \u001b[38;5;34m1\u001b[0m, \u001b[38;5;34m6\u001b[0m)      │         \u001b[38;5;34m72\u001b[0m │ article_typeInpu… │\n",
       "│ (\u001b[38;5;33mEmbedding\u001b[0m)         │                   │            │                   │\n",
       "├─────────────────────┼───────────────────┼────────────┼───────────────────┤\n",
       "│ embedding_14        │ (\u001b[38;5;45mNone\u001b[0m, \u001b[38;5;34m1\u001b[0m, \u001b[38;5;34m4\u001b[0m)      │         \u001b[38;5;34m32\u001b[0m │ postcodeInput[\u001b[38;5;34m0\u001b[0m]… │\n",
       "│ (\u001b[38;5;33mEmbedding\u001b[0m)         │                   │            │                   │\n",
       "├─────────────────────┼───────────────────┼────────────┼───────────────────┤\n",
       "│ embedding_15        │ (\u001b[38;5;45mNone\u001b[0m, \u001b[38;5;34m1\u001b[0m, \u001b[38;5;34m2\u001b[0m)      │          \u001b[38;5;34m8\u001b[0m │ Entity_LOC_Prese… │\n",
       "│ (\u001b[38;5;33mEmbedding\u001b[0m)         │                   │            │                   │\n",
       "├─────────────────────┼───────────────────┼────────────┼───────────────────┤\n",
       "│ embedding_16        │ (\u001b[38;5;45mNone\u001b[0m, \u001b[38;5;34m1\u001b[0m, \u001b[38;5;34m2\u001b[0m)      │          \u001b[38;5;34m8\u001b[0m │ Entity_PER_Prese… │\n",
       "│ (\u001b[38;5;33mEmbedding\u001b[0m)         │                   │            │                   │\n",
       "├─────────────────────┼───────────────────┼────────────┼───────────────────┤\n",
       "│ embedding_17        │ (\u001b[38;5;45mNone\u001b[0m, \u001b[38;5;34m1\u001b[0m, \u001b[38;5;34m2\u001b[0m)      │          \u001b[38;5;34m8\u001b[0m │ Entity_ORG_Prese… │\n",
       "│ (\u001b[38;5;33mEmbedding\u001b[0m)         │                   │            │                   │\n",
       "├─────────────────────┼───────────────────┼────────────┼───────────────────┤\n",
       "│ embedding_18        │ (\u001b[38;5;45mNone\u001b[0m, \u001b[38;5;34m1\u001b[0m, \u001b[38;5;34m2\u001b[0m)      │          \u001b[38;5;34m8\u001b[0m │ Entity_PROD_Pres… │\n",
       "│ (\u001b[38;5;33mEmbedding\u001b[0m)         │                   │            │                   │\n",
       "├─────────────────────┼───────────────────┼────────────┼───────────────────┤\n",
       "│ embedding_19        │ (\u001b[38;5;45mNone\u001b[0m, \u001b[38;5;34m1\u001b[0m, \u001b[38;5;34m2\u001b[0m)      │          \u001b[38;5;34m8\u001b[0m │ Entity_MISC_Pres… │\n",
       "│ (\u001b[38;5;33mEmbedding\u001b[0m)         │                   │            │                   │\n",
       "├─────────────────────┼───────────────────┼────────────┼───────────────────┤\n",
       "│ embedding_20        │ (\u001b[38;5;45mNone\u001b[0m, \u001b[38;5;34m1\u001b[0m, \u001b[38;5;34m2\u001b[0m)      │          \u001b[38;5;34m8\u001b[0m │ Entity_EVENT_Pre… │\n",
       "│ (\u001b[38;5;33mEmbedding\u001b[0m)         │                   │            │                   │\n",
       "├─────────────────────┼───────────────────┼────────────┼───────────────────┤\n",
       "│ NumericInputNoise   │ (\u001b[38;5;45mNone\u001b[0m, \u001b[38;5;34m273\u001b[0m)       │          \u001b[38;5;34m0\u001b[0m │ NumericInput[\u001b[38;5;34m0\u001b[0m][\u001b[38;5;34m…\u001b[0m │\n",
       "│ (\u001b[38;5;33mGaussianNoise\u001b[0m)     │                   │            │                   │\n",
       "├─────────────────────┼───────────────────┼────────────┼───────────────────┤\n",
       "│ flatten (\u001b[38;5;33mFlatten\u001b[0m)   │ (\u001b[38;5;45mNone\u001b[0m, \u001b[38;5;34m2\u001b[0m)         │          \u001b[38;5;34m0\u001b[0m │ embedding[\u001b[38;5;34m0\u001b[0m][\u001b[38;5;34m0\u001b[0m]   │\n",
       "├─────────────────────┼───────────────────┼────────────┼───────────────────┤\n",
       "│ flatten_1 (\u001b[38;5;33mFlatten\u001b[0m) │ (\u001b[38;5;45mNone\u001b[0m, \u001b[38;5;34m2\u001b[0m)         │          \u001b[38;5;34m0\u001b[0m │ embedding_1[\u001b[38;5;34m0\u001b[0m][\u001b[38;5;34m0\u001b[0m] │\n",
       "├─────────────────────┼───────────────────┼────────────┼───────────────────┤\n",
       "│ flatten_2 (\u001b[38;5;33mFlatten\u001b[0m) │ (\u001b[38;5;45mNone\u001b[0m, \u001b[38;5;34m2\u001b[0m)         │          \u001b[38;5;34m0\u001b[0m │ embedding_2[\u001b[38;5;34m0\u001b[0m][\u001b[38;5;34m0\u001b[0m] │\n",
       "├─────────────────────┼───────────────────┼────────────┼───────────────────┤\n",
       "│ flatten_3 (\u001b[38;5;33mFlatten\u001b[0m) │ (\u001b[38;5;45mNone\u001b[0m, \u001b[38;5;34m2\u001b[0m)         │          \u001b[38;5;34m0\u001b[0m │ embedding_3[\u001b[38;5;34m0\u001b[0m][\u001b[38;5;34m0\u001b[0m] │\n",
       "├─────────────────────┼───────────────────┼────────────┼───────────────────┤\n",
       "│ flatten_4 (\u001b[38;5;33mFlatten\u001b[0m) │ (\u001b[38;5;45mNone\u001b[0m, \u001b[38;5;34m4\u001b[0m)         │          \u001b[38;5;34m0\u001b[0m │ embedding_4[\u001b[38;5;34m0\u001b[0m][\u001b[38;5;34m0\u001b[0m] │\n",
       "├─────────────────────┼───────────────────┼────────────┼───────────────────┤\n",
       "│ flatten_5 (\u001b[38;5;33mFlatten\u001b[0m) │ (\u001b[38;5;45mNone\u001b[0m, \u001b[38;5;34m2\u001b[0m)         │          \u001b[38;5;34m0\u001b[0m │ embedding_5[\u001b[38;5;34m0\u001b[0m][\u001b[38;5;34m0\u001b[0m] │\n",
       "├─────────────────────┼───────────────────┼────────────┼───────────────────┤\n",
       "│ flatten_6 (\u001b[38;5;33mFlatten\u001b[0m) │ (\u001b[38;5;45mNone\u001b[0m, \u001b[38;5;34m8\u001b[0m)         │          \u001b[38;5;34m0\u001b[0m │ embedding_6[\u001b[38;5;34m0\u001b[0m][\u001b[38;5;34m0\u001b[0m] │\n",
       "├─────────────────────┼───────────────────┼────────────┼───────────────────┤\n",
       "│ flatten_7 (\u001b[38;5;33mFlatten\u001b[0m) │ (\u001b[38;5;45mNone\u001b[0m, \u001b[38;5;34m2\u001b[0m)         │          \u001b[38;5;34m0\u001b[0m │ embedding_7[\u001b[38;5;34m0\u001b[0m][\u001b[38;5;34m0\u001b[0m] │\n",
       "├─────────────────────┼───────────────────┼────────────┼───────────────────┤\n",
       "│ flatten_8 (\u001b[38;5;33mFlatten\u001b[0m) │ (\u001b[38;5;45mNone\u001b[0m, \u001b[38;5;34m2\u001b[0m)         │          \u001b[38;5;34m0\u001b[0m │ embedding_8[\u001b[38;5;34m0\u001b[0m][\u001b[38;5;34m0\u001b[0m] │\n",
       "├─────────────────────┼───────────────────┼────────────┼───────────────────┤\n",
       "│ flatten_9 (\u001b[38;5;33mFlatten\u001b[0m) │ (\u001b[38;5;45mNone\u001b[0m, \u001b[38;5;34m2\u001b[0m)         │          \u001b[38;5;34m0\u001b[0m │ embedding_9[\u001b[38;5;34m0\u001b[0m][\u001b[38;5;34m0\u001b[0m] │\n",
       "├─────────────────────┼───────────────────┼────────────┼───────────────────┤\n",
       "│ flatten_10          │ (\u001b[38;5;45mNone\u001b[0m, \u001b[38;5;34m6\u001b[0m)         │          \u001b[38;5;34m0\u001b[0m │ embedding_10[\u001b[38;5;34m0\u001b[0m][\u001b[38;5;34m…\u001b[0m │\n",
       "│ (\u001b[38;5;33mFlatten\u001b[0m)           │                   │            │                   │\n",
       "├─────────────────────┼───────────────────┼────────────┼───────────────────┤\n",
       "│ flatten_11          │ (\u001b[38;5;45mNone\u001b[0m, \u001b[38;5;34m4\u001b[0m)         │          \u001b[38;5;34m0\u001b[0m │ embedding_11[\u001b[38;5;34m0\u001b[0m][\u001b[38;5;34m…\u001b[0m │\n",
       "│ (\u001b[38;5;33mFlatten\u001b[0m)           │                   │            │                   │\n",
       "├─────────────────────┼───────────────────┼────────────┼───────────────────┤\n",
       "│ flatten_12          │ (\u001b[38;5;45mNone\u001b[0m, \u001b[38;5;34m2\u001b[0m)         │          \u001b[38;5;34m0\u001b[0m │ embedding_12[\u001b[38;5;34m0\u001b[0m][\u001b[38;5;34m…\u001b[0m │\n",
       "│ (\u001b[38;5;33mFlatten\u001b[0m)           │                   │            │                   │\n",
       "├─────────────────────┼───────────────────┼────────────┼───────────────────┤\n",
       "│ flatten_13          │ (\u001b[38;5;45mNone\u001b[0m, \u001b[38;5;34m6\u001b[0m)         │          \u001b[38;5;34m0\u001b[0m │ embedding_13[\u001b[38;5;34m0\u001b[0m][\u001b[38;5;34m…\u001b[0m │\n",
       "│ (\u001b[38;5;33mFlatten\u001b[0m)           │                   │            │                   │\n",
       "├─────────────────────┼───────────────────┼────────────┼───────────────────┤\n",
       "│ flatten_14          │ (\u001b[38;5;45mNone\u001b[0m, \u001b[38;5;34m4\u001b[0m)         │          \u001b[38;5;34m0\u001b[0m │ embedding_14[\u001b[38;5;34m0\u001b[0m][\u001b[38;5;34m…\u001b[0m │\n",
       "│ (\u001b[38;5;33mFlatten\u001b[0m)           │                   │            │                   │\n",
       "├─────────────────────┼───────────────────┼────────────┼───────────────────┤\n",
       "│ flatten_15          │ (\u001b[38;5;45mNone\u001b[0m, \u001b[38;5;34m2\u001b[0m)         │          \u001b[38;5;34m0\u001b[0m │ embedding_15[\u001b[38;5;34m0\u001b[0m][\u001b[38;5;34m…\u001b[0m │\n",
       "│ (\u001b[38;5;33mFlatten\u001b[0m)           │                   │            │                   │\n",
       "├─────────────────────┼───────────────────┼────────────┼───────────────────┤\n",
       "│ flatten_16          │ (\u001b[38;5;45mNone\u001b[0m, \u001b[38;5;34m2\u001b[0m)         │          \u001b[38;5;34m0\u001b[0m │ embedding_16[\u001b[38;5;34m0\u001b[0m][\u001b[38;5;34m…\u001b[0m │\n",
       "│ (\u001b[38;5;33mFlatten\u001b[0m)           │                   │            │                   │\n",
       "├─────────────────────┼───────────────────┼────────────┼───────────────────┤\n",
       "│ flatten_17          │ (\u001b[38;5;45mNone\u001b[0m, \u001b[38;5;34m2\u001b[0m)         │          \u001b[38;5;34m0\u001b[0m │ embedding_17[\u001b[38;5;34m0\u001b[0m][\u001b[38;5;34m…\u001b[0m │\n",
       "│ (\u001b[38;5;33mFlatten\u001b[0m)           │                   │            │                   │\n",
       "├─────────────────────┼───────────────────┼────────────┼───────────────────┤\n",
       "│ flatten_18          │ (\u001b[38;5;45mNone\u001b[0m, \u001b[38;5;34m2\u001b[0m)         │          \u001b[38;5;34m0\u001b[0m │ embedding_18[\u001b[38;5;34m0\u001b[0m][\u001b[38;5;34m…\u001b[0m │\n",
       "│ (\u001b[38;5;33mFlatten\u001b[0m)           │                   │            │                   │\n",
       "├─────────────────────┼───────────────────┼────────────┼───────────────────┤\n",
       "│ flatten_19          │ (\u001b[38;5;45mNone\u001b[0m, \u001b[38;5;34m2\u001b[0m)         │          \u001b[38;5;34m0\u001b[0m │ embedding_19[\u001b[38;5;34m0\u001b[0m][\u001b[38;5;34m…\u001b[0m │\n",
       "│ (\u001b[38;5;33mFlatten\u001b[0m)           │                   │            │                   │\n",
       "├─────────────────────┼───────────────────┼────────────┼───────────────────┤\n",
       "│ flatten_20          │ (\u001b[38;5;45mNone\u001b[0m, \u001b[38;5;34m2\u001b[0m)         │          \u001b[38;5;34m0\u001b[0m │ embedding_20[\u001b[38;5;34m0\u001b[0m][\u001b[38;5;34m…\u001b[0m │\n",
       "│ (\u001b[38;5;33mFlatten\u001b[0m)           │                   │            │                   │\n",
       "├─────────────────────┼───────────────────┼────────────┼───────────────────┤\n",
       "│ concatenate         │ (\u001b[38;5;45mNone\u001b[0m, \u001b[38;5;34m335\u001b[0m)       │          \u001b[38;5;34m0\u001b[0m │ NumericInputNois… │\n",
       "│ (\u001b[38;5;33mConcatenate\u001b[0m)       │                   │            │ flatten[\u001b[38;5;34m0\u001b[0m][\u001b[38;5;34m0\u001b[0m],    │\n",
       "│                     │                   │            │ flatten_1[\u001b[38;5;34m0\u001b[0m][\u001b[38;5;34m0\u001b[0m],  │\n",
       "│                     │                   │            │ flatten_2[\u001b[38;5;34m0\u001b[0m][\u001b[38;5;34m0\u001b[0m],  │\n",
       "│                     │                   │            │ flatten_3[\u001b[38;5;34m0\u001b[0m][\u001b[38;5;34m0\u001b[0m],  │\n",
       "│                     │                   │            │ flatten_4[\u001b[38;5;34m0\u001b[0m][\u001b[38;5;34m0\u001b[0m],  │\n",
       "│                     │                   │            │ flatten_5[\u001b[38;5;34m0\u001b[0m][\u001b[38;5;34m0\u001b[0m],  │\n",
       "│                     │                   │            │ flatten_6[\u001b[38;5;34m0\u001b[0m][\u001b[38;5;34m0\u001b[0m],  │\n",
       "│                     │                   │            │ flatten_7[\u001b[38;5;34m0\u001b[0m][\u001b[38;5;34m0\u001b[0m],  │\n",
       "│                     │                   │            │ flatten_8[\u001b[38;5;34m0\u001b[0m][\u001b[38;5;34m0\u001b[0m],  │\n",
       "│                     │                   │            │ flatten_9[\u001b[38;5;34m0\u001b[0m][\u001b[38;5;34m0\u001b[0m],  │\n",
       "│                     │                   │            │ flatten_10[\u001b[38;5;34m0\u001b[0m][\u001b[38;5;34m0\u001b[0m], │\n",
       "│                     │                   │            │ flatten_11[\u001b[38;5;34m0\u001b[0m][\u001b[38;5;34m0\u001b[0m], │\n",
       "│                     │                   │            │ flatten_12[\u001b[38;5;34m0\u001b[0m][\u001b[38;5;34m0\u001b[0m], │\n",
       "│                     │                   │            │ flatten_13[\u001b[38;5;34m0\u001b[0m][\u001b[38;5;34m0\u001b[0m], │\n",
       "│                     │                   │            │ flatten_14[\u001b[38;5;34m0\u001b[0m][\u001b[38;5;34m0\u001b[0m], │\n",
       "│                     │                   │            │ flatten_15[\u001b[38;5;34m0\u001b[0m][\u001b[38;5;34m0\u001b[0m], │\n",
       "│                     │                   │            │ flatten_16[\u001b[38;5;34m0\u001b[0m][\u001b[38;5;34m0\u001b[0m], │\n",
       "│                     │                   │            │ flatten_17[\u001b[38;5;34m0\u001b[0m][\u001b[38;5;34m0\u001b[0m], │\n",
       "│                     │                   │            │ flatten_18[\u001b[38;5;34m0\u001b[0m][\u001b[38;5;34m0\u001b[0m], │\n",
       "│                     │                   │            │ flatten_19[\u001b[38;5;34m0\u001b[0m][\u001b[38;5;34m0\u001b[0m], │\n",
       "│                     │                   │            │ flatten_20[\u001b[38;5;34m0\u001b[0m][\u001b[38;5;34m0\u001b[0m]  │\n",
       "├─────────────────────┼───────────────────┼────────────┼───────────────────┤\n",
       "│ DeepDense0 (\u001b[38;5;33mDense\u001b[0m)  │ (\u001b[38;5;45mNone\u001b[0m, \u001b[38;5;34m512\u001b[0m)       │    \u001b[38;5;34m172,032\u001b[0m │ concatenate[\u001b[38;5;34m0\u001b[0m][\u001b[38;5;34m0\u001b[0m] │\n",
       "├─────────────────────┼───────────────────┼────────────┼───────────────────┤\n",
       "│ DeepBatchNormaliza… │ (\u001b[38;5;45mNone\u001b[0m, \u001b[38;5;34m512\u001b[0m)       │      \u001b[38;5;34m2,048\u001b[0m │ DeepDense0[\u001b[38;5;34m0\u001b[0m][\u001b[38;5;34m0\u001b[0m]  │\n",
       "│ (\u001b[38;5;33mBatchNormalizatio…\u001b[0m │                   │            │                   │\n",
       "├─────────────────────┼───────────────────┼────────────┼───────────────────┤\n",
       "│ DeepActivation0     │ (\u001b[38;5;45mNone\u001b[0m, \u001b[38;5;34m512\u001b[0m)       │          \u001b[38;5;34m0\u001b[0m │ DeepBatchNormali… │\n",
       "│ (\u001b[38;5;33mActivation\u001b[0m)        │                   │            │                   │\n",
       "├─────────────────────┼───────────────────┼────────────┼───────────────────┤\n",
       "│ DeepDropout0        │ (\u001b[38;5;45mNone\u001b[0m, \u001b[38;5;34m512\u001b[0m)       │          \u001b[38;5;34m0\u001b[0m │ DeepActivation0[\u001b[38;5;34m…\u001b[0m │\n",
       "│ (\u001b[38;5;33mDropout\u001b[0m)           │                   │            │                   │\n",
       "├─────────────────────┼───────────────────┼────────────┼───────────────────┤\n",
       "│ DeepDense1 (\u001b[38;5;33mDense\u001b[0m)  │ (\u001b[38;5;45mNone\u001b[0m, \u001b[38;5;34m256\u001b[0m)       │    \u001b[38;5;34m131,328\u001b[0m │ DeepDropout0[\u001b[38;5;34m0\u001b[0m][\u001b[38;5;34m…\u001b[0m │\n",
       "├─────────────────────┼───────────────────┼────────────┼───────────────────┤\n",
       "│ DeepBatchNormaliza… │ (\u001b[38;5;45mNone\u001b[0m, \u001b[38;5;34m256\u001b[0m)       │      \u001b[38;5;34m1,024\u001b[0m │ DeepDense1[\u001b[38;5;34m0\u001b[0m][\u001b[38;5;34m0\u001b[0m]  │\n",
       "│ (\u001b[38;5;33mBatchNormalizatio…\u001b[0m │                   │            │                   │\n",
       "├─────────────────────┼───────────────────┼────────────┼───────────────────┤\n",
       "│ DeepActivation1     │ (\u001b[38;5;45mNone\u001b[0m, \u001b[38;5;34m256\u001b[0m)       │          \u001b[38;5;34m0\u001b[0m │ DeepBatchNormali… │\n",
       "│ (\u001b[38;5;33mActivation\u001b[0m)        │                   │            │                   │\n",
       "├─────────────────────┼───────────────────┼────────────┼───────────────────┤\n",
       "│ DeepDropout1        │ (\u001b[38;5;45mNone\u001b[0m, \u001b[38;5;34m256\u001b[0m)       │          \u001b[38;5;34m0\u001b[0m │ DeepActivation1[\u001b[38;5;34m…\u001b[0m │\n",
       "│ (\u001b[38;5;33mDropout\u001b[0m)           │                   │            │                   │\n",
       "├─────────────────────┼───────────────────┼────────────┼───────────────────┤\n",
       "│ DeepDense2 (\u001b[38;5;33mDense\u001b[0m)  │ (\u001b[38;5;45mNone\u001b[0m, \u001b[38;5;34m128\u001b[0m)       │     \u001b[38;5;34m32,896\u001b[0m │ DeepDropout1[\u001b[38;5;34m0\u001b[0m][\u001b[38;5;34m…\u001b[0m │\n",
       "├─────────────────────┼───────────────────┼────────────┼───────────────────┤\n",
       "│ DeepBatchNormaliza… │ (\u001b[38;5;45mNone\u001b[0m, \u001b[38;5;34m128\u001b[0m)       │        \u001b[38;5;34m512\u001b[0m │ DeepDense2[\u001b[38;5;34m0\u001b[0m][\u001b[38;5;34m0\u001b[0m]  │\n",
       "│ (\u001b[38;5;33mBatchNormalizatio…\u001b[0m │                   │            │                   │\n",
       "├─────────────────────┼───────────────────┼────────────┼───────────────────┤\n",
       "│ DeepActivation2     │ (\u001b[38;5;45mNone\u001b[0m, \u001b[38;5;34m128\u001b[0m)       │          \u001b[38;5;34m0\u001b[0m │ DeepBatchNormali… │\n",
       "│ (\u001b[38;5;33mActivation\u001b[0m)        │                   │            │                   │\n",
       "├─────────────────────┼───────────────────┼────────────┼───────────────────┤\n",
       "│ DeepDropout2        │ (\u001b[38;5;45mNone\u001b[0m, \u001b[38;5;34m128\u001b[0m)       │          \u001b[38;5;34m0\u001b[0m │ DeepActivation2[\u001b[38;5;34m…\u001b[0m │\n",
       "│ (\u001b[38;5;33mDropout\u001b[0m)           │                   │            │                   │\n",
       "├─────────────────────┼───────────────────┼────────────┼───────────────────┤\n",
       "│ DeepDense3 (\u001b[38;5;33mDense\u001b[0m)  │ (\u001b[38;5;45mNone\u001b[0m, \u001b[38;5;34m64\u001b[0m)        │      \u001b[38;5;34m8,256\u001b[0m │ DeepDropout2[\u001b[38;5;34m0\u001b[0m][\u001b[38;5;34m…\u001b[0m │\n",
       "├─────────────────────┼───────────────────┼────────────┼───────────────────┤\n",
       "│ DeepBatchNormaliza… │ (\u001b[38;5;45mNone\u001b[0m, \u001b[38;5;34m64\u001b[0m)        │        \u001b[38;5;34m256\u001b[0m │ DeepDense3[\u001b[38;5;34m0\u001b[0m][\u001b[38;5;34m0\u001b[0m]  │\n",
       "│ (\u001b[38;5;33mBatchNormalizatio…\u001b[0m │                   │            │                   │\n",
       "├─────────────────────┼───────────────────┼────────────┼───────────────────┤\n",
       "│ DeepActivation3     │ (\u001b[38;5;45mNone\u001b[0m, \u001b[38;5;34m64\u001b[0m)        │          \u001b[38;5;34m0\u001b[0m │ DeepBatchNormali… │\n",
       "│ (\u001b[38;5;33mActivation\u001b[0m)        │                   │            │                   │\n",
       "├─────────────────────┼───────────────────┼────────────┼───────────────────┤\n",
       "│ DeepDropout3        │ (\u001b[38;5;45mNone\u001b[0m, \u001b[38;5;34m64\u001b[0m)        │          \u001b[38;5;34m0\u001b[0m │ DeepActivation3[\u001b[38;5;34m…\u001b[0m │\n",
       "│ (\u001b[38;5;33mDropout\u001b[0m)           │                   │            │                   │\n",
       "├─────────────────────┼───────────────────┼────────────┼───────────────────┤\n",
       "│ WideDeepConcat      │ (\u001b[38;5;45mNone\u001b[0m, \u001b[38;5;34m399\u001b[0m)       │          \u001b[38;5;34m0\u001b[0m │ concatenate[\u001b[38;5;34m0\u001b[0m][\u001b[38;5;34m0\u001b[0m… │\n",
       "│ (\u001b[38;5;33mConcatenate\u001b[0m)       │                   │            │ DeepDropout3[\u001b[38;5;34m0\u001b[0m][\u001b[38;5;34m…\u001b[0m │\n",
       "├─────────────────────┼───────────────────┼────────────┼───────────────────┤\n",
       "│ OutputDense (\u001b[38;5;33mDense\u001b[0m) │ (\u001b[38;5;45mNone\u001b[0m, \u001b[38;5;34m1\u001b[0m)         │        \u001b[38;5;34m400\u001b[0m │ WideDeepConcat[\u001b[38;5;34m0\u001b[0m… │\n",
       "└─────────────────────┴───────────────────┴────────────┴───────────────────┘\n"
      ]
     },
     "metadata": {},
     "output_type": "display_data"
    },
    {
     "data": {
      "text/html": [
       "<pre style=\"white-space:pre;overflow-x:auto;line-height:normal;font-family:Menlo,'DejaVu Sans Mono',consolas,'Courier New',monospace\"><span style=\"font-weight: bold\"> Total params: </span><span style=\"color: #00af00; text-decoration-color: #00af00\">349,262</span> (1.33 MB)\n",
       "</pre>\n"
      ],
      "text/plain": [
       "\u001b[1m Total params: \u001b[0m\u001b[38;5;34m349,262\u001b[0m (1.33 MB)\n"
      ]
     },
     "metadata": {},
     "output_type": "display_data"
    },
    {
     "data": {
      "text/html": [
       "<pre style=\"white-space:pre;overflow-x:auto;line-height:normal;font-family:Menlo,'DejaVu Sans Mono',consolas,'Courier New',monospace\"><span style=\"font-weight: bold\"> Trainable params: </span><span style=\"color: #00af00; text-decoration-color: #00af00\">347,342</span> (1.33 MB)\n",
       "</pre>\n"
      ],
      "text/plain": [
       "\u001b[1m Trainable params: \u001b[0m\u001b[38;5;34m347,342\u001b[0m (1.33 MB)\n"
      ]
     },
     "metadata": {},
     "output_type": "display_data"
    },
    {
     "data": {
      "text/html": [
       "<pre style=\"white-space:pre;overflow-x:auto;line-height:normal;font-family:Menlo,'DejaVu Sans Mono',consolas,'Courier New',monospace\"><span style=\"font-weight: bold\"> Non-trainable params: </span><span style=\"color: #00af00; text-decoration-color: #00af00\">1,920</span> (7.50 KB)\n",
       "</pre>\n"
      ],
      "text/plain": [
       "\u001b[1m Non-trainable params: \u001b[0m\u001b[38;5;34m1,920\u001b[0m (7.50 KB)\n"
      ]
     },
     "metadata": {},
     "output_type": "display_data"
    }
   ],
   "source": [
    "model = create_wide_and_deep_model(\n",
    "    numeric_input_shape=X_numerical.shape[1], \n",
    "    categorical_input_shape=X_categorical.shape[1],\n",
    "    use_categorical_embeddings=True,\n",
    "    max_categorical_embedding=50,\n",
    "    vocabulary_sizes=vocabulary_sizes, \n",
    "    add_gaussian_noise=True,\n",
    "    gaussian_noise_std=0.01,\n",
    "    n_layers=4,\n",
    "    start_units=512,\n",
    "    units_decay=2, # -> hidden units will be [512, 256, 128, 64]\n",
    "    l1_lambda=1e-4,\n",
    "    l2_lambda=1e-4,\n",
    "    activation='relu',\n",
    "    dropout_rate=0.2,\n",
    "    learning_rate=1e-3,\n",
    "    weight_decay=5e-5,\n",
    "    seed=seed,\n",
    ")\n",
    "model.summary()"
   ]
  },
  {
   "cell_type": "code",
   "execution_count": 49,
   "id": "430336f6",
   "metadata": {
    "execution": {
     "iopub.execute_input": "2024-05-19T13:40:52.582906Z",
     "iopub.status.busy": "2024-05-19T13:40:52.581784Z",
     "iopub.status.idle": "2024-05-19T14:05:23.240675Z",
     "shell.execute_reply": "2024-05-19T14:05:23.239091Z"
    },
    "papermill": {
     "duration": 1472.190452,
     "end_time": "2024-05-19T14:05:24.676888",
     "exception": false,
     "start_time": "2024-05-19T13:40:52.486436",
     "status": "completed"
    },
    "tags": []
   },
   "outputs": [
    {
     "name": "stdout",
     "output_type": "stream",
     "text": [
      "Epoch 1/20\n",
      "\u001b[1m2746/2746\u001b[0m \u001b[32m━━━━━━━━━━━━━━━━━━━━\u001b[0m\u001b[37m\u001b[0m \u001b[1m76s\u001b[0m 24ms/step - auc: 0.7606 - loss: 1.2351 - learning_rate: 0.0010\n",
      "Epoch 2/20\n",
      "\u001b[1m2746/2746\u001b[0m \u001b[32m━━━━━━━━━━━━━━━━━━━━\u001b[0m\u001b[37m\u001b[0m \u001b[1m86s\u001b[0m 31ms/step - auc: 0.8014 - loss: 0.5832 - learning_rate: 0.0010\n",
      "Epoch 3/20\n",
      "\u001b[1m2746/2746\u001b[0m \u001b[32m━━━━━━━━━━━━━━━━━━━━\u001b[0m\u001b[37m\u001b[0m \u001b[1m67s\u001b[0m 24ms/step - auc: 0.8086 - loss: 0.5472 - learning_rate: 9.0484e-04\n",
      "Epoch 4/20\n",
      "\u001b[1m2746/2746\u001b[0m \u001b[32m━━━━━━━━━━━━━━━━━━━━\u001b[0m\u001b[37m\u001b[0m \u001b[1m82s\u001b[0m 24ms/step - auc: 0.8140 - loss: 0.5221 - learning_rate: 8.1873e-04\n",
      "Epoch 5/20\n",
      "\u001b[1m2746/2746\u001b[0m \u001b[32m━━━━━━━━━━━━━━━━━━━━\u001b[0m\u001b[37m\u001b[0m \u001b[1m67s\u001b[0m 24ms/step - auc: 0.8181 - loss: 0.5125 - learning_rate: 7.4082e-04\n",
      "Epoch 6/20\n",
      "\u001b[1m2746/2746\u001b[0m \u001b[32m━━━━━━━━━━━━━━━━━━━━\u001b[0m\u001b[37m\u001b[0m \u001b[1m82s\u001b[0m 24ms/step - auc: 0.8209 - loss: 0.5080 - learning_rate: 6.7032e-04\n",
      "Epoch 7/20\n",
      "\u001b[1m2746/2746\u001b[0m \u001b[32m━━━━━━━━━━━━━━━━━━━━\u001b[0m\u001b[37m\u001b[0m \u001b[1m82s\u001b[0m 24ms/step - auc: 0.8231 - loss: 0.5049 - learning_rate: 6.0653e-04\n",
      "Epoch 8/20\n",
      "\u001b[1m2746/2746\u001b[0m \u001b[32m━━━━━━━━━━━━━━━━━━━━\u001b[0m\u001b[37m\u001b[0m \u001b[1m67s\u001b[0m 24ms/step - auc: 0.8248 - loss: 0.5022 - learning_rate: 5.4881e-04\n",
      "Epoch 9/20\n",
      "\u001b[1m2746/2746\u001b[0m \u001b[32m━━━━━━━━━━━━━━━━━━━━\u001b[0m\u001b[37m\u001b[0m \u001b[1m82s\u001b[0m 24ms/step - auc: 0.8271 - loss: 0.4991 - learning_rate: 4.9659e-04\n",
      "Epoch 10/20\n",
      "\u001b[1m2746/2746\u001b[0m \u001b[32m━━━━━━━━━━━━━━━━━━━━\u001b[0m\u001b[37m\u001b[0m \u001b[1m84s\u001b[0m 25ms/step - auc: 0.8283 - loss: 0.4969 - learning_rate: 4.4933e-04\n",
      "Epoch 11/20\n",
      "\u001b[1m2746/2746\u001b[0m \u001b[32m━━━━━━━━━━━━━━━━━━━━\u001b[0m\u001b[37m\u001b[0m \u001b[1m77s\u001b[0m 23ms/step - auc: 0.8298 - loss: 0.4944 - learning_rate: 4.0657e-04\n",
      "Epoch 12/20\n",
      "\u001b[1m2746/2746\u001b[0m \u001b[32m━━━━━━━━━━━━━━━━━━━━\u001b[0m\u001b[37m\u001b[0m \u001b[1m65s\u001b[0m 24ms/step - auc: 0.8311 - loss: 0.4922 - learning_rate: 3.6788e-04\n",
      "Epoch 13/20\n",
      "\u001b[1m2746/2746\u001b[0m \u001b[32m━━━━━━━━━━━━━━━━━━━━\u001b[0m\u001b[37m\u001b[0m \u001b[1m67s\u001b[0m 24ms/step - auc: 0.8323 - loss: 0.4904 - learning_rate: 3.3287e-04\n",
      "Epoch 14/20\n",
      "\u001b[1m2746/2746\u001b[0m \u001b[32m━━━━━━━━━━━━━━━━━━━━\u001b[0m\u001b[37m\u001b[0m \u001b[1m65s\u001b[0m 24ms/step - auc: 0.8335 - loss: 0.4882 - learning_rate: 3.0119e-04\n",
      "Epoch 15/20\n",
      "\u001b[1m2746/2746\u001b[0m \u001b[32m━━━━━━━━━━━━━━━━━━━━\u001b[0m\u001b[37m\u001b[0m \u001b[1m67s\u001b[0m 24ms/step - auc: 0.8348 - loss: 0.4862 - learning_rate: 2.7253e-04\n",
      "Epoch 16/20\n",
      "\u001b[1m2746/2746\u001b[0m \u001b[32m━━━━━━━━━━━━━━━━━━━━\u001b[0m\u001b[37m\u001b[0m \u001b[1m70s\u001b[0m 25ms/step - auc: 0.8360 - loss: 0.4841 - learning_rate: 2.4660e-04\n",
      "Epoch 17/20\n",
      "\u001b[1m2746/2746\u001b[0m \u001b[32m━━━━━━━━━━━━━━━━━━━━\u001b[0m\u001b[37m\u001b[0m \u001b[1m65s\u001b[0m 24ms/step - auc: 0.8367 - loss: 0.4828 - learning_rate: 2.2313e-04\n",
      "Epoch 18/20\n",
      "\u001b[1m2746/2746\u001b[0m \u001b[32m━━━━━━━━━━━━━━━━━━━━\u001b[0m\u001b[37m\u001b[0m \u001b[1m85s\u001b[0m 25ms/step - auc: 0.8374 - loss: 0.4813 - learning_rate: 2.0190e-04\n",
      "Epoch 19/20\n",
      "\u001b[1m2746/2746\u001b[0m \u001b[32m━━━━━━━━━━━━━━━━━━━━\u001b[0m\u001b[37m\u001b[0m \u001b[1m66s\u001b[0m 24ms/step - auc: 0.8384 - loss: 0.4797 - learning_rate: 1.8268e-04\n",
      "Epoch 20/20\n",
      "\u001b[1m2746/2746\u001b[0m \u001b[32m━━━━━━━━━━━━━━━━━━━━\u001b[0m\u001b[37m\u001b[0m \u001b[1m67s\u001b[0m 24ms/step - auc: 0.8392 - loss: 0.4783 - learning_rate: 1.6530e-04\n"
     ]
    },
    {
     "data": {
      "text/plain": [
       "<keras.src.callbacks.history.History at 0x7dd1e893d690>"
      ]
     },
     "execution_count": 49,
     "metadata": {},
     "output_type": "execute_result"
    }
   ],
   "source": [
    "def scheduler(epoch, lr):\n",
    "    if epoch < 2 or lr <= 1e-5:\n",
    "        return lr\n",
    "    else:\n",
    "        return float(lr * tf.math.exp(-0.1))\n",
    "\n",
    "model.fit(\n",
    "    [X_numerical] + [X_categorical[:, i].reshape(-1, 1) for i in range(X_categorical.shape[1])],\n",
    "    y,\n",
    "    batch_size=256,\n",
    "    epochs=20,\n",
    "    callbacks=[\n",
    "        tfk.callbacks.LearningRateScheduler(scheduler),\n",
    "    ],\n",
    ")"
   ]
  },
  {
   "cell_type": "code",
   "execution_count": 50,
   "id": "a1ddaec4",
   "metadata": {
    "execution": {
     "iopub.execute_input": "2024-05-19T14:05:29.152375Z",
     "iopub.status.busy": "2024-05-19T14:05:29.151541Z",
     "iopub.status.idle": "2024-05-19T14:05:29.655648Z",
     "shell.execute_reply": "2024-05-19T14:05:29.654112Z"
    },
    "papermill": {
     "duration": 2.694432,
     "end_time": "2024-05-19T14:05:29.659169",
     "exception": false,
     "start_time": "2024-05-19T14:05:26.964737",
     "status": "completed"
    },
    "tags": []
   },
   "outputs": [
    {
     "name": "stdout",
     "output_type": "stream",
     "text": [
      "\u001b[1m\u001b[31m\n",
      "RAM memory GB usage = 6.491\u001b[0m\n"
     ]
    }
   ],
   "source": [
    "del history_train\n",
    "del behaviors_train\n",
    "del X_numerical\n",
    "del X_categorical\n",
    "del X\n",
    "\n",
    "gc.collect()\n",
    "PrintColor(f\"\\n\" + GetMemUsage(), color = Fore.RED)"
   ]
  },
  {
   "cell_type": "markdown",
   "id": "8c6ffae4",
   "metadata": {
    "papermill": {
     "duration": 2.316153,
     "end_time": "2024-05-19T14:05:34.269885",
     "exception": false,
     "start_time": "2024-05-19T14:05:31.953732",
     "status": "completed"
    },
    "tags": []
   },
   "source": [
    "# Model Evaluation"
   ]
  },
  {
   "cell_type": "code",
   "execution_count": 51,
   "id": "ba1f1212",
   "metadata": {
    "execution": {
     "iopub.execute_input": "2024-05-19T14:05:38.776948Z",
     "iopub.status.busy": "2024-05-19T14:05:38.776459Z",
     "iopub.status.idle": "2024-05-19T14:05:57.243238Z",
     "shell.execute_reply": "2024-05-19T14:05:57.241363Z"
    },
    "papermill": {
     "duration": 20.78378,
     "end_time": "2024-05-19T14:05:57.246291",
     "exception": false,
     "start_time": "2024-05-19T14:05:36.462511",
     "status": "completed"
    },
    "tags": []
   },
   "outputs": [],
   "source": [
    "user_id_mapping = history_val.sort('user_id').with_row_index() \\\n",
    "    .select(['index', 'user_id']).rename({'index': 'user_index'})\n",
    "\n",
    "ner_interactions = history_val.select(['user_id', 'article_id_fixed']).explode('article_id_fixed') \\\n",
    "    .join(articles.select(['article_id', 'ner_clusters']), left_on='article_id_fixed', right_on='article_id', how='left') \\\n",
    "    .explode('ner_clusters').unique(['user_id', 'ner_clusters']) \\\n",
    "    .with_columns(pl.col('ner_clusters').str.strip_chars_start('\\\" ').str.to_lowercase()) \\\n",
    "    .join(user_id_mapping, on='user_id', how='left') \\\n",
    "    .join(ner_mapping, left_on='ner_clusters', right_on='ner') \\\n",
    "    .select(['user_index', 'ner_index', 'user_id', 'article_id_fixed']) \\\n",
    "    .unique(['user_index', 'ner_index'])\n",
    "\n",
    "URM_ner = sps.csr_matrix((np.ones(ner_interactions.shape[0]),\n",
    "                          (ner_interactions['user_index'].to_numpy(), ner_interactions['ner_index'].to_numpy())),\n",
    "                         shape=(user_id_mapping.shape[0], ner_mapping.shape[0]))\n",
    "\n",
    "ner_interactions_test = behaviors_val.select(['user_id', 'article_ids_clicked']).explode('article_ids_clicked') \\\n",
    "    .join(articles.select(['article_id', 'ner_clusters']), left_on='article_ids_clicked', right_on='article_id', how='left') \\\n",
    "    .explode('ner_clusters').unique(['user_id', 'ner_clusters']) \\\n",
    "    .with_columns(pl.col('ner_clusters').str.strip_chars_start('\\\" ').str.to_lowercase()) \\\n",
    "    .join(user_id_mapping, on='user_id', how='left') \\\n",
    "    .join(ner_mapping, left_on='ner_clusters', right_on='ner') \\\n",
    "    .select(['user_index', 'ner_index', 'user_id', 'article_ids_clicked']) \\\n",
    "    .unique(['user_index', 'ner_index'])\n",
    "\n",
    "URM_ner_test = sps.csr_matrix((np.ones(ner_interactions_test.shape[0]),\n",
    "                               (ner_interactions_test['user_index'].to_numpy(), ner_interactions_test['ner_index'].to_numpy())),\n",
    "                              shape=(user_id_mapping.shape[0], ner_mapping.shape[0]))"
   ]
  },
  {
   "cell_type": "code",
   "execution_count": 52,
   "id": "2446cc5a",
   "metadata": {
    "execution": {
     "iopub.execute_input": "2024-05-19T14:06:01.868839Z",
     "iopub.status.busy": "2024-05-19T14:06:01.868374Z",
     "iopub.status.idle": "2024-05-19T14:11:41.740272Z",
     "shell.execute_reply": "2024-05-19T14:11:41.738630Z"
    },
    "papermill": {
     "duration": 344.414416,
     "end_time": "2024-05-19T14:11:43.986262",
     "exception": false,
     "start_time": "2024-05-19T14:05:59.571846",
     "status": "completed"
    },
    "tags": []
   },
   "outputs": [
    {
     "name": "stdout",
     "output_type": "stream",
     "text": [
      "ItemKNNCFRecommender: URM Detected 3 ( 0.0%) users with no interactions.\n",
      "ItemKNNCFRecommender: URM Detected 19035 (43.5%) items with no interactions.\n",
      "Unable to load Cython Compute_Similarity, reverting to Python\n",
      "Similarity column 43774 (100.0%), 149.53 column/sec. Elapsed time 4.88 min\n",
      "EvaluatorHoldout: Ignoring 32 ( 0.2%) Users that have less than 1 test interactions\n",
      "EvaluatorHoldout: Processed 15310 (100.0%) in 45.97 sec. Users per second: 333\n"
     ]
    },
    {
     "data": {
      "text/html": [
       "<div>\n",
       "<style scoped>\n",
       "    .dataframe tbody tr th:only-of-type {\n",
       "        vertical-align: middle;\n",
       "    }\n",
       "\n",
       "    .dataframe tbody tr th {\n",
       "        vertical-align: top;\n",
       "    }\n",
       "\n",
       "    .dataframe thead th {\n",
       "        text-align: right;\n",
       "    }\n",
       "</style>\n",
       "<table border=\"1\" class=\"dataframe\">\n",
       "  <thead>\n",
       "    <tr style=\"text-align: right;\">\n",
       "      <th></th>\n",
       "      <th>PRECISION</th>\n",
       "      <th>PRECISION_RECALL_MIN_DEN</th>\n",
       "      <th>RECALL</th>\n",
       "      <th>MAP</th>\n",
       "      <th>MAP_MIN_DEN</th>\n",
       "      <th>MRR</th>\n",
       "      <th>NDCG</th>\n",
       "      <th>F1</th>\n",
       "      <th>HIT_RATE</th>\n",
       "      <th>ARHR_ALL_HITS</th>\n",
       "      <th>...</th>\n",
       "      <th>COVERAGE_USER</th>\n",
       "      <th>COVERAGE_USER_HIT</th>\n",
       "      <th>USERS_IN_GT</th>\n",
       "      <th>DIVERSITY_GINI</th>\n",
       "      <th>SHANNON_ENTROPY</th>\n",
       "      <th>RATIO_DIVERSITY_HERFINDAHL</th>\n",
       "      <th>RATIO_DIVERSITY_GINI</th>\n",
       "      <th>RATIO_SHANNON_ENTROPY</th>\n",
       "      <th>RATIO_AVERAGE_POPULARITY</th>\n",
       "      <th>RATIO_NOVELTY</th>\n",
       "    </tr>\n",
       "    <tr>\n",
       "      <th>cutoff</th>\n",
       "      <th></th>\n",
       "      <th></th>\n",
       "      <th></th>\n",
       "      <th></th>\n",
       "      <th></th>\n",
       "      <th></th>\n",
       "      <th></th>\n",
       "      <th></th>\n",
       "      <th></th>\n",
       "      <th></th>\n",
       "      <th></th>\n",
       "      <th></th>\n",
       "      <th></th>\n",
       "      <th></th>\n",
       "      <th></th>\n",
       "      <th></th>\n",
       "      <th></th>\n",
       "      <th></th>\n",
       "      <th></th>\n",
       "      <th></th>\n",
       "      <th></th>\n",
       "    </tr>\n",
       "  </thead>\n",
       "  <tbody>\n",
       "    <tr>\n",
       "      <th>10</th>\n",
       "      <td>0.338445</td>\n",
       "      <td>0.339461</td>\n",
       "      <td>0.033197</td>\n",
       "      <td>0.241643</td>\n",
       "      <td>0.241977</td>\n",
       "      <td>0.493913</td>\n",
       "      <td>0.346767</td>\n",
       "      <td>0.060464</td>\n",
       "      <td>0.784651</td>\n",
       "      <td>1.033204</td>\n",
       "      <td>...</td>\n",
       "      <td>0.997914</td>\n",
       "      <td>0.783014</td>\n",
       "      <td>0.997914</td>\n",
       "      <td>0.002568</td>\n",
       "      <td>5.473111</td>\n",
       "      <td>0.953841</td>\n",
       "      <td>0.020621</td>\n",
       "      <td>0.428217</td>\n",
       "      <td>3.43338</td>\n",
       "      <td>0.010093</td>\n",
       "    </tr>\n",
       "  </tbody>\n",
       "</table>\n",
       "<p>1 rows × 27 columns</p>\n",
       "</div>"
      ],
      "text/plain": [
       "       PRECISION PRECISION_RECALL_MIN_DEN    RECALL       MAP MAP_MIN_DEN  \\\n",
       "cutoff                                                                      \n",
       "10      0.338445                 0.339461  0.033197  0.241643    0.241977   \n",
       "\n",
       "             MRR      NDCG        F1  HIT_RATE ARHR_ALL_HITS  ...  \\\n",
       "cutoff                                                        ...   \n",
       "10      0.493913  0.346767  0.060464  0.784651      1.033204  ...   \n",
       "\n",
       "       COVERAGE_USER COVERAGE_USER_HIT USERS_IN_GT DIVERSITY_GINI  \\\n",
       "cutoff                                                              \n",
       "10          0.997914          0.783014    0.997914       0.002568   \n",
       "\n",
       "       SHANNON_ENTROPY RATIO_DIVERSITY_HERFINDAHL RATIO_DIVERSITY_GINI  \\\n",
       "cutoff                                                                   \n",
       "10            5.473111                   0.953841             0.020621   \n",
       "\n",
       "       RATIO_SHANNON_ENTROPY RATIO_AVERAGE_POPULARITY RATIO_NOVELTY  \n",
       "cutoff                                                               \n",
       "10                  0.428217                  3.43338      0.010093  \n",
       "\n",
       "[1 rows x 27 columns]"
      ]
     },
     "execution_count": 52,
     "metadata": {},
     "output_type": "execute_result"
    }
   ],
   "source": [
    "item_knn = ItemKNNCFRecommender(URM_ner)\n",
    "item_knn.fit(topK=100, similarity='jaccard')\n",
    "\n",
    "evaluator = EvaluatorHoldout(URM_ner_test, cutoff_list=[10], exclude_seen=False)\n",
    "result_df, _ = evaluator.evaluateRecommender(item_knn)\n",
    "result_df"
   ]
  },
  {
   "cell_type": "code",
   "execution_count": 53,
   "id": "d2b5340c",
   "metadata": {
    "execution": {
     "iopub.execute_input": "2024-05-19T14:11:48.561373Z",
     "iopub.status.busy": "2024-05-19T14:11:48.560815Z",
     "iopub.status.idle": "2024-05-19T14:12:19.921061Z",
     "shell.execute_reply": "2024-05-19T14:12:19.919831Z"
    },
    "papermill": {
     "duration": 35.941874,
     "end_time": "2024-05-19T14:12:22.202453",
     "exception": false,
     "start_time": "2024-05-19T14:11:46.260579",
     "status": "completed"
    },
    "tags": []
   },
   "outputs": [
    {
     "name": "stdout",
     "output_type": "stream",
     "text": [
      "PureSVDRecommender: URM Detected 3 ( 0.0%) users with no interactions.\n",
      "PureSVDRecommender: URM Detected 19035 (43.5%) items with no interactions.\n",
      "PureSVDRecommender: Computing SVD decomposition...\n",
      "PureSVDRecommender: Computing SVD decomposition... done in 4.89 sec\n",
      "EvaluatorHoldout: Processed 15310 (100.0%) in 25.94 sec. Users per second: 590\n"
     ]
    },
    {
     "data": {
      "text/html": [
       "<div>\n",
       "<style scoped>\n",
       "    .dataframe tbody tr th:only-of-type {\n",
       "        vertical-align: middle;\n",
       "    }\n",
       "\n",
       "    .dataframe tbody tr th {\n",
       "        vertical-align: top;\n",
       "    }\n",
       "\n",
       "    .dataframe thead th {\n",
       "        text-align: right;\n",
       "    }\n",
       "</style>\n",
       "<table border=\"1\" class=\"dataframe\">\n",
       "  <thead>\n",
       "    <tr style=\"text-align: right;\">\n",
       "      <th></th>\n",
       "      <th>PRECISION</th>\n",
       "      <th>PRECISION_RECALL_MIN_DEN</th>\n",
       "      <th>RECALL</th>\n",
       "      <th>MAP</th>\n",
       "      <th>MAP_MIN_DEN</th>\n",
       "      <th>MRR</th>\n",
       "      <th>NDCG</th>\n",
       "      <th>F1</th>\n",
       "      <th>HIT_RATE</th>\n",
       "      <th>ARHR_ALL_HITS</th>\n",
       "      <th>...</th>\n",
       "      <th>COVERAGE_USER</th>\n",
       "      <th>COVERAGE_USER_HIT</th>\n",
       "      <th>USERS_IN_GT</th>\n",
       "      <th>DIVERSITY_GINI</th>\n",
       "      <th>SHANNON_ENTROPY</th>\n",
       "      <th>RATIO_DIVERSITY_HERFINDAHL</th>\n",
       "      <th>RATIO_DIVERSITY_GINI</th>\n",
       "      <th>RATIO_SHANNON_ENTROPY</th>\n",
       "      <th>RATIO_AVERAGE_POPULARITY</th>\n",
       "      <th>RATIO_NOVELTY</th>\n",
       "    </tr>\n",
       "    <tr>\n",
       "      <th>cutoff</th>\n",
       "      <th></th>\n",
       "      <th></th>\n",
       "      <th></th>\n",
       "      <th></th>\n",
       "      <th></th>\n",
       "      <th></th>\n",
       "      <th></th>\n",
       "      <th></th>\n",
       "      <th></th>\n",
       "      <th></th>\n",
       "      <th></th>\n",
       "      <th></th>\n",
       "      <th></th>\n",
       "      <th></th>\n",
       "      <th></th>\n",
       "      <th></th>\n",
       "      <th></th>\n",
       "      <th></th>\n",
       "      <th></th>\n",
       "      <th></th>\n",
       "      <th></th>\n",
       "    </tr>\n",
       "  </thead>\n",
       "  <tbody>\n",
       "    <tr>\n",
       "      <th>10</th>\n",
       "      <td>0.365343</td>\n",
       "      <td>0.368494</td>\n",
       "      <td>0.050757</td>\n",
       "      <td>0.284108</td>\n",
       "      <td>0.286194</td>\n",
       "      <td>0.69616</td>\n",
       "      <td>0.416042</td>\n",
       "      <td>0.089131</td>\n",
       "      <td>0.874853</td>\n",
       "      <td>1.344843</td>\n",
       "      <td>...</td>\n",
       "      <td>0.997914</td>\n",
       "      <td>0.873028</td>\n",
       "      <td>0.997914</td>\n",
       "      <td>0.00152</td>\n",
       "      <td>5.732489</td>\n",
       "      <td>0.955104</td>\n",
       "      <td>0.012206</td>\n",
       "      <td>0.448511</td>\n",
       "      <td>3.535079</td>\n",
       "      <td>0.010003</td>\n",
       "    </tr>\n",
       "  </tbody>\n",
       "</table>\n",
       "<p>1 rows × 27 columns</p>\n",
       "</div>"
      ],
      "text/plain": [
       "       PRECISION PRECISION_RECALL_MIN_DEN    RECALL       MAP MAP_MIN_DEN  \\\n",
       "cutoff                                                                      \n",
       "10      0.365343                 0.368494  0.050757  0.284108    0.286194   \n",
       "\n",
       "            MRR      NDCG        F1  HIT_RATE ARHR_ALL_HITS  ...  \\\n",
       "cutoff                                                       ...   \n",
       "10      0.69616  0.416042  0.089131  0.874853      1.344843  ...   \n",
       "\n",
       "       COVERAGE_USER COVERAGE_USER_HIT USERS_IN_GT DIVERSITY_GINI  \\\n",
       "cutoff                                                              \n",
       "10          0.997914          0.873028    0.997914        0.00152   \n",
       "\n",
       "       SHANNON_ENTROPY RATIO_DIVERSITY_HERFINDAHL RATIO_DIVERSITY_GINI  \\\n",
       "cutoff                                                                   \n",
       "10            5.732489                   0.955104             0.012206   \n",
       "\n",
       "       RATIO_SHANNON_ENTROPY RATIO_AVERAGE_POPULARITY RATIO_NOVELTY  \n",
       "cutoff                                                               \n",
       "10                  0.448511                 3.535079      0.010003  \n",
       "\n",
       "[1 rows x 27 columns]"
      ]
     },
     "execution_count": 53,
     "metadata": {},
     "output_type": "execute_result"
    }
   ],
   "source": [
    "pure_svd = PureSVDRecommender(URM_ner)\n",
    "pure_svd.fit(num_factors=20)\n",
    "\n",
    "result_df, _ = evaluator.evaluateRecommender(pure_svd)\n",
    "result_df"
   ]
  },
  {
   "cell_type": "code",
   "execution_count": 54,
   "id": "0fe6263c",
   "metadata": {
    "execution": {
     "iopub.execute_input": "2024-05-19T14:12:26.660627Z",
     "iopub.status.busy": "2024-05-19T14:12:26.659756Z",
     "iopub.status.idle": "2024-05-19T14:15:04.432900Z",
     "shell.execute_reply": "2024-05-19T14:15:04.431658Z"
    },
    "papermill": {
     "duration": 162.374023,
     "end_time": "2024-05-19T14:15:06.766933",
     "exception": false,
     "start_time": "2024-05-19T14:12:24.392910",
     "status": "completed"
    },
    "tags": []
   },
   "outputs": [
    {
     "name": "stdout",
     "output_type": "stream",
     "text": [
      "CPU times: user 5min 33s, sys: 3min 49s, total: 9min 23s\n",
      "Wall time: 2min 37s\n"
     ]
    },
    {
     "data": {
      "text/html": [
       "<div><style>\n",
       ".dataframe > thead > tr,\n",
       ".dataframe > tbody > tr {\n",
       "  text-align: right;\n",
       "  white-space: pre-wrap;\n",
       "}\n",
       "</style>\n",
       "<small>shape: (5, 8)</small><table border=\"1\" class=\"dataframe\"><thead><tr><th>impression_id</th><th>article</th><th>total_ner_svd_scores</th><th>mean_ner_svd_scores</th><th>max_ner_svd_scores</th><th>total_ner_item_knn_scores</th><th>mean_ner_item_knn_scores</th><th>max_ner_item_knn_scores</th></tr><tr><td>u32</td><td>i32</td><td>f32</td><td>f32</td><td>f32</td><td>f32</td><td>f32</td><td>f32</td></tr></thead><tbody><tr><td>218505698</td><td>9789922</td><td>0.230195</td><td>0.366581</td><td>0.152005</td><td>0.248975</td><td>0.386579</td><td>0.171544</td></tr><tr><td>353071681</td><td>9695098</td><td>0.057515</td><td>0.042464</td><td>0.028477</td><td>0.032044</td><td>0.022254</td><td>0.012279</td></tr><tr><td>42784102</td><td>9788251</td><td>0.001599</td><td>0.002964</td><td>0.003846</td><td>0.001859</td><td>0.003567</td><td>0.005018</td></tr><tr><td>329803139</td><td>9779122</td><td>0.065523</td><td>0.125788</td><td>0.196605</td><td>0.04012</td><td>0.079303</td><td>0.119641</td></tr><tr><td>334364463</td><td>9788411</td><td>0.001463</td><td>0.001063</td><td>0.002336</td><td>0.0</td><td>0.0</td><td>0.0</td></tr></tbody></table></div>"
      ],
      "text/plain": [
       "shape: (5, 8)\n",
       "┌────────────┬─────────┬────────────┬────────────┬────────────┬────────────┬───────────┬───────────┐\n",
       "│ impression ┆ article ┆ total_ner_ ┆ mean_ner_s ┆ max_ner_sv ┆ total_ner_ ┆ mean_ner_ ┆ max_ner_i │\n",
       "│ _id        ┆ ---     ┆ svd_scores ┆ vd_scores  ┆ d_scores   ┆ item_knn_s ┆ item_knn_ ┆ tem_knn_s │\n",
       "│ ---        ┆ i32     ┆ ---        ┆ ---        ┆ ---        ┆ cores      ┆ scores    ┆ cores     │\n",
       "│ u32        ┆         ┆ f32        ┆ f32        ┆ f32        ┆ ---        ┆ ---       ┆ ---       │\n",
       "│            ┆         ┆            ┆            ┆            ┆ f32        ┆ f32       ┆ f32       │\n",
       "╞════════════╪═════════╪════════════╪════════════╪════════════╪════════════╪═══════════╪═══════════╡\n",
       "│ 218505698  ┆ 9789922 ┆ 0.230195   ┆ 0.366581   ┆ 0.152005   ┆ 0.248975   ┆ 0.386579  ┆ 0.171544  │\n",
       "│ 353071681  ┆ 9695098 ┆ 0.057515   ┆ 0.042464   ┆ 0.028477   ┆ 0.032044   ┆ 0.022254  ┆ 0.012279  │\n",
       "│ 42784102   ┆ 9788251 ┆ 0.001599   ┆ 0.002964   ┆ 0.003846   ┆ 0.001859   ┆ 0.003567  ┆ 0.005018  │\n",
       "│ 329803139  ┆ 9779122 ┆ 0.065523   ┆ 0.125788   ┆ 0.196605   ┆ 0.04012    ┆ 0.079303  ┆ 0.119641  │\n",
       "│ 334364463  ┆ 9788411 ┆ 0.001463   ┆ 0.001063   ┆ 0.002336   ┆ 0.0        ┆ 0.0       ┆ 0.0       │\n",
       "└────────────┴─────────┴────────────┴────────────┴────────────┴────────────┴───────────┴───────────┘"
      ]
     },
     "execution_count": 54,
     "metadata": {},
     "output_type": "execute_result"
    }
   ],
   "source": [
    "%%time\n",
    "\n",
    "def get_inview_scores(user_ners_df, recommender, f_name):\n",
    "    user_index = user_ners_df['user_index'].to_list()[0]\n",
    "    ners = user_ners_df['ner_index'].to_numpy()\n",
    "    scores = recommender._compute_item_score([user_index], ners)[0, ners]\n",
    "    return user_ners_df.with_columns(\n",
    "        pl.Series(scores).alias(f_name)\n",
    "    )\n",
    "\n",
    "ner_inview_scores = behaviors_val.select(['user_id', 'article_ids_inview']).explode('article_ids_inview') \\\n",
    "    .join(articles.select(['article_id', 'ner_clusters']), left_on='article_ids_inview', right_on='article_id', how='left') \\\n",
    "    .explode('ner_clusters').unique(['user_id', 'ner_clusters']) \\\n",
    "    .with_columns(pl.col('ner_clusters').str.strip_chars_start('\\\" ').str.to_lowercase()) \\\n",
    "    .join(user_id_mapping, on='user_id', how='left') \\\n",
    "    .join(ner_mapping, left_on='ner_clusters', right_on='ner') \\\n",
    "    .select(['user_index', 'ner_index', 'user_id', 'article_ids_inview']) \\\n",
    "    .unique(['user_index', 'ner_index']) \\\n",
    "    .sort(['user_index', 'ner_index']).group_by('user_index').map_groups(\n",
    "        lambda user_df: user_df.pipe(get_inview_scores, recommender=pure_svd, f_name='pure_svd_scores') \\\n",
    "            .pipe(get_inview_scores, recommender=item_knn, f_name='item_knn_scores')\n",
    "    )\n",
    "\n",
    "behaviors_ner_scores = behaviors_val.select(['impression_id', 'user_id', 'article_ids_inview']).explode('article_ids_inview') \\\n",
    "    .join(ner_inview_scores, on=['user_id', 'article_ids_inview'], how='left') \\\n",
    "    .with_columns(pl.col(['pure_svd_scores', 'item_knn_scores']).fill_null(0)) \\\n",
    "    .group_by(['impression_id', 'article_ids_inview']).agg(\n",
    "        pl.col('pure_svd_scores').sum().alias('total_ner_svd_scores'),\n",
    "        pl.col('pure_svd_scores').mean().alias('mean_ner_svd_scores'),\n",
    "        pl.col('pure_svd_scores').max().alias('max_ner_svd_scores'),\n",
    "        pl.col('item_knn_scores').sum().alias('total_ner_item_knn_scores'),\n",
    "        pl.col('item_knn_scores').mean().alias('mean_ner_item_knn_scores'),\n",
    "        pl.col('item_knn_scores').max().alias('max_ner_item_knn_scores'),\n",
    "    ).with_columns(\n",
    "        pl.col(['total_ner_svd_scores', 'mean_ner_svd_scores', \n",
    "                'total_ner_item_knn_scores', 'mean_ner_item_knn_scores',\n",
    "                'max_ner_svd_scores', 'max_ner_item_knn_scores']).sum().over('impression_id').name.suffix('_max')\n",
    "    ).with_columns(\n",
    "        # l_inf normalization\n",
    "        pl.col('total_ner_svd_scores').truediv(pl.col('total_ner_svd_scores_max')),\n",
    "        pl.col('mean_ner_svd_scores').truediv(pl.col('mean_ner_svd_scores_max')),\n",
    "        pl.col('max_ner_svd_scores').truediv(pl.col('max_ner_svd_scores_max')),\n",
    "        pl.col('total_ner_item_knn_scores').truediv(pl.col('total_ner_item_knn_scores_max')),\n",
    "        pl.col('mean_ner_item_knn_scores').truediv(pl.col('mean_ner_item_knn_scores_max')),\n",
    "        pl.col('max_ner_item_knn_scores').truediv(pl.col('max_ner_item_knn_scores_max')),\n",
    "    ).drop(['total_ner_svd_scores_max', 'mean_ner_svd_scores_max', \n",
    "            'max_ner_svd_scores_max', 'total_ner_item_knn_scores_max',\n",
    "            'mean_ner_item_knn_scores_max', 'max_ner_item_knn_scores_max']) \\\n",
    "    .rename({'article_ids_inview': 'article'})\n",
    "behaviors_ner_scores.head(5)"
   ]
  },
  {
   "cell_type": "code",
   "execution_count": 55,
   "id": "603e37d1",
   "metadata": {
    "execution": {
     "iopub.execute_input": "2024-05-19T14:15:11.452811Z",
     "iopub.status.busy": "2024-05-19T14:15:11.451431Z",
     "iopub.status.idle": "2024-05-19T14:15:28.710809Z",
     "shell.execute_reply": "2024-05-19T14:15:28.709287Z"
    },
    "papermill": {
     "duration": 19.502613,
     "end_time": "2024-05-19T14:15:28.714479",
     "exception": false,
     "start_time": "2024-05-19T14:15:09.211866",
     "status": "completed"
    },
    "tags": []
   },
   "outputs": [
    {
     "name": "stderr",
     "output_type": "stream",
     "text": [
      "16it [00:16,  1.02s/it]                        \n"
     ]
    },
    {
     "name": "stdout",
     "output_type": "stream",
     "text": [
      "\u001b[1m\u001b[31m\n",
      "RAM memory GB usage = 7.145\u001b[0m\n",
      "Memory usage of dataframe is 36.51 MB\n",
      "Memory usage after optimization is: 35.72 MB\n",
      "Decreased by 2.2%\n",
      "CPU times: user 19.7 s, sys: 1.37 s, total: 21.1 s\n",
      "Wall time: 17.2 s\n"
     ]
    },
    {
     "data": {
      "text/html": [
       "<div><style>\n",
       ".dataframe > thead > tr,\n",
       ".dataframe > tbody > tr {\n",
       "  text-align: right;\n",
       "  white-space: pre-wrap;\n",
       "}\n",
       "</style>\n",
       "<small>shape: (2, 27)</small><table border=\"1\" class=\"dataframe\"><thead><tr><th>user_id</th><th>article_id_fixed</th><th>impression_time_fixed</th><th>category</th><th>NumArticlesHistory</th><th>MedianReadTime</th><th>MaxReadTime</th><th>TotalReadTime</th><th>MedianScrollPercentage</th><th>MaxScrollPercentage</th><th>NeutralPct</th><th>PositivePct</th><th>NegativePct</th><th>PctStrongNeutral</th><th>PctStrongPositive</th><th>PctStrongNegative</th><th>PctNotDefaultArticles</th><th>MostFrequentCategory</th><th>MostFrequentWeekday</th><th>MostFrequentHour</th><th>topics_flatten_tf_idf</th><th>LOCPct</th><th>PERPct</th><th>ORGPct</th><th>PRODPct</th><th>MISCPct</th><th>EVENTPct</th></tr><tr><td>u32</td><td>list[i32]</td><td>list[datetime[μs]]</td><td>list[i16]</td><td>u16</td><td>f32</td><td>f32</td><td>f32</td><td>f32</td><td>f32</td><td>f32</td><td>f32</td><td>f32</td><td>f32</td><td>f32</td><td>f32</td><td>f32</td><td>i16</td><td>i8</td><td>i8</td><td>list[f32]</td><td>f32</td><td>f32</td><td>f32</td><td>f32</td><td>f32</td><td>f32</td></tr></thead><tbody><tr><td>10623</td><td>[9750749, 9685790, … 9779517]</td><td>[2023-05-05 07:51:01, 2023-05-05 07:51:36, … 2023-05-24 17:10:11]</td><td>[118, 457, … 414]</td><td>150</td><td>3.5</td><td>1563.0</td><td>9330.0</td><td>37.0</td><td>100.0</td><td>0.28</td><td>0.093333</td><td>0.626667</td><td>0.126667</td><td>0.06</td><td>0.546667</td><td>0.06</td><td>118</td><td>1</td><td>20</td><td>[0.0, 0.042172, … 0.089681]</td><td>0.846667</td><td>0.893333</td><td>0.913333</td><td>0.213333</td><td>0.266667</td><td>0.3</td></tr><tr><td>12718</td><td>[9749036, 9749025, … 9778718]</td><td>[2023-05-04 07:49:49, 2023-05-04 07:50:15, … 2023-05-24 07:07:25]</td><td>[118, 118, … 140]</td><td>114</td><td>7.0</td><td>748.0</td><td>3440.0</td><td>36.0</td><td>100.0</td><td>0.245614</td><td>0.052632</td><td>0.701754</td><td>0.087719</td><td>0.035088</td><td>0.614035</td><td>0.035088</td><td>118</td><td>1</td><td>7</td><td>[0.0, 0.048524, … 0.217846]</td><td>0.815789</td><td>0.807018</td><td>0.947368</td><td>0.254386</td><td>0.192982</td><td>0.114035</td></tr></tbody></table></div>"
      ],
      "text/plain": [
       "shape: (2, 27)\n",
       "┌─────────┬─────────────┬─────────────┬────────────┬───┬──────────┬──────────┬──────────┬──────────┐\n",
       "│ user_id ┆ article_id_ ┆ impression_ ┆ category   ┆ … ┆ ORGPct   ┆ PRODPct  ┆ MISCPct  ┆ EVENTPct │\n",
       "│ ---     ┆ fixed       ┆ time_fixed  ┆ ---        ┆   ┆ ---      ┆ ---      ┆ ---      ┆ ---      │\n",
       "│ u32     ┆ ---         ┆ ---         ┆ list[i16]  ┆   ┆ f32      ┆ f32      ┆ f32      ┆ f32      │\n",
       "│         ┆ list[i32]   ┆ list[dateti ┆            ┆   ┆          ┆          ┆          ┆          │\n",
       "│         ┆             ┆ me[μs]]     ┆            ┆   ┆          ┆          ┆          ┆          │\n",
       "╞═════════╪═════════════╪═════════════╪════════════╪═══╪══════════╪══════════╪══════════╪══════════╡\n",
       "│ 10623   ┆ [9750749,   ┆ [2023-05-05 ┆ [118, 457, ┆ … ┆ 0.913333 ┆ 0.213333 ┆ 0.266667 ┆ 0.3      │\n",
       "│         ┆ 9685790, …  ┆ 07:51:01,   ┆ … 414]     ┆   ┆          ┆          ┆          ┆          │\n",
       "│         ┆ 9779517]    ┆ 2023-05-…   ┆            ┆   ┆          ┆          ┆          ┆          │\n",
       "│ 12718   ┆ [9749036,   ┆ [2023-05-04 ┆ [118, 118, ┆ … ┆ 0.947368 ┆ 0.254386 ┆ 0.192982 ┆ 0.114035 │\n",
       "│         ┆ 9749025, …  ┆ 07:49:49,   ┆ … 140]     ┆   ┆          ┆          ┆          ┆          │\n",
       "│         ┆ 9778718]    ┆ 2023-05-…   ┆            ┆   ┆          ┆          ┆          ┆          │\n",
       "└─────────┴─────────────┴─────────────┴────────────┴───┴──────────┴──────────┴──────────┴──────────┘"
      ]
     },
     "execution_count": 55,
     "metadata": {},
     "output_type": "execute_result"
    }
   ],
   "source": [
    "%%time\n",
    "\n",
    "STRONG_THR = 0.8\n",
    "\n",
    "history_val = pl.concat(\n",
    "    rows.with_columns(pl.col('article_id_fixed').list.len().alias('NumArticlesHistory')) \\\n",
    "        .explode(['article_id_fixed', 'impression_time_fixed', 'read_time_fixed', 'scroll_percentage_fixed']) \\\n",
    "        .sort(by=['user_id', 'impression_time_fixed']) \\\n",
    "        .with_columns(\n",
    "            pl.col('impression_time_fixed').dt.weekday().alias('weekday'),\n",
    "            pl.col('impression_time_fixed').dt.hour().alias('hour'),\n",
    "        ).join(articles.select(['article_id', 'category', 'is_article_default', 'sentiment_label_int', \n",
    "                                'sentiment_score', 'entity_groups', 'topics']), \n",
    "               left_on='article_id_fixed', right_on='article_id', how='left') \\\n",
    "        .with_columns(\n",
    "            (pl.col('sentiment_label_int') == 0).alias('is_neutral'),\n",
    "            (pl.col('sentiment_label_int') == 1).alias('is_positive'),\n",
    "            (pl.col('sentiment_label_int') == -1).alias('is_negative'),\n",
    "            ((pl.col('sentiment_label_int') == 0) & (pl.col('sentiment_score') > STRONG_THR)).alias('strong_neutral'),\n",
    "            ((pl.col('sentiment_label_int') == 1) & (pl.col('sentiment_score') > STRONG_THR)).alias('strong_positive'),\n",
    "            ((pl.col('sentiment_label_int') == -1) & (pl.col('sentiment_score') > STRONG_THR)).alias('strong_negative'),\n",
    "            pl.col('entity_groups').list.unique(),\n",
    "        ).group_by('user_id').agg(\n",
    "            pl.col('article_id_fixed'),\n",
    "            pl.col('impression_time_fixed'),\n",
    "            pl.col('category'),\n",
    "            pl.col('NumArticlesHistory').first(),\n",
    "            pl.col('read_time_fixed').median().alias('MedianReadTime'),\n",
    "            pl.col('read_time_fixed').max().alias('MaxReadTime'),\n",
    "            pl.col('read_time_fixed').sum().alias('TotalReadTime'),\n",
    "            pl.col('scroll_percentage_fixed').median().alias('MedianScrollPercentage'),\n",
    "            pl.col('scroll_percentage_fixed').max().alias('MaxScrollPercentage'),\n",
    "            (pl.col('is_neutral').sum() / pl.col('NumArticlesHistory').first()).alias('NeutralPct'),\n",
    "            (pl.col('is_positive').sum() / pl.col('NumArticlesHistory').first()).alias('PositivePct'),\n",
    "            (pl.col('is_negative').sum() / pl.col('NumArticlesHistory').first()).alias('NegativePct'),\n",
    "            (pl.col('strong_neutral').sum() / pl.col('NumArticlesHistory').first()).alias('PctStrongNeutral'),\n",
    "            (pl.col('strong_positive').sum() / pl.col('NumArticlesHistory').first()).alias('PctStrongPositive'),\n",
    "            (pl.col('strong_negative').sum() / pl.col('NumArticlesHistory').first()).alias('PctStrongNegative'),\n",
    "            (1 - (pl.col('is_article_default').sum() / pl.col('NumArticlesHistory').first())).alias('PctNotDefaultArticles'),\n",
    "            pl.col('category').mode().alias('MostFrequentCategory'),\n",
    "            pl.col('weekday').mode().alias('MostFrequentWeekday'),\n",
    "            pl.col('hour').mode().alias('MostFrequentHour'),\n",
    "            pl.col('entity_groups').flatten(),\n",
    "            pl.col('topics').flatten().alias('topics_flatten')\n",
    "        ).pipe(add_topics_tf_idf_columns, topics_col='topics_flatten', vectorizer=vectorizer) \\\n",
    "        .drop('topics_flatten').with_columns(\n",
    "            pl.col('MostFrequentCategory').list.first(),\n",
    "            pl.col('MostFrequentWeekday').list.first(),\n",
    "            pl.col('MostFrequentHour').list.first(),\n",
    "        ).with_columns(\n",
    "            (pl.col('entity_groups').list.count_matches(entity) / pl.col('NumArticlesHistory')).alias(f'{entity}Pct')\n",
    "            for entity in unique_entities\n",
    "        ).drop('entity_groups')\n",
    "    for rows in tqdm.tqdm(history_val.iter_slices(1000), total=history_val.shape[0] // 1000)\n",
    ")\n",
    "\n",
    "gc.collect()\n",
    "PrintColor(f\"\\n\" + GetMemUsage(), color = Fore.RED)\n",
    "history_val = reduce_polars_df_memory_size(history_val)\n",
    "history_val.head(2)"
   ]
  },
  {
   "cell_type": "code",
   "execution_count": 56,
   "id": "faab569d",
   "metadata": {
    "execution": {
     "iopub.execute_input": "2024-05-19T14:15:33.309283Z",
     "iopub.status.busy": "2024-05-19T14:15:33.308806Z",
     "iopub.status.idle": "2024-05-19T14:15:34.446339Z",
     "shell.execute_reply": "2024-05-19T14:15:34.445323Z"
    },
    "papermill": {
     "duration": 3.446551,
     "end_time": "2024-05-19T14:15:34.449116",
     "exception": false,
     "start_time": "2024-05-19T14:15:31.002565",
     "status": "completed"
    },
    "tags": []
   },
   "outputs": [],
   "source": [
    "last_history_df = history_val.with_columns(\n",
    "    pl.col('impression_time_fixed').list.max().alias('last_history_impression_time'),\n",
    "    pl.col('article_id_fixed').list.tail(1).alias('last_history_article'),\n",
    ").select(['user_id', 'last_history_impression_time', 'last_history_article'])\n",
    "\n",
    "last_session_time_df = behaviors_val.select(['session_id', 'user_id', 'impression_time', 'article_ids_inview', 'article_ids_clicked']) \\\n",
    "    .group_by('session_id').agg(\n",
    "        pl.col('user_id').first(), \n",
    "        pl.col('impression_time').max().alias('session_time'), \n",
    "        pl.col('article_ids_inview').flatten().alias('all_seen_articles'),\n",
    "        (pl.col('impression_time').max() - pl.col('impression_time').min()).dt.total_minutes().alias('session_duration'),\n",
    "    ).with_columns(\n",
    "        pl.col(['session_time', 'session_duration']).shift(1).over('user_id').name.prefix('last_'),\n",
    "        pl.col('all_seen_articles').list.unique().shift(1).over('user_id'),\n",
    "        pl.col('session_duration').rolling_mean(100, min_periods=1).over('user_id').alias('mean_prev_sessions_duration'),\n",
    "    ).with_columns(pl.col(['last_session_duration']).fill_null(0)) \\\n",
    "    .join(last_history_df, on='user_id', how='left') \\\n",
    "    .with_columns(\n",
    "        pl.col('last_session_time').fill_null(pl.col('last_history_impression_time')),\n",
    "        pl.col('all_seen_articles').fill_null(pl.col('last_history_article')),\n",
    "    ).select(['session_id', 'last_session_time', 'last_session_duration',\n",
    "              'all_seen_articles', 'mean_prev_sessions_duration'])"
   ]
  },
  {
   "cell_type": "code",
   "execution_count": 57,
   "id": "525d01c8",
   "metadata": {
    "execution": {
     "iopub.execute_input": "2024-05-19T14:15:38.936903Z",
     "iopub.status.busy": "2024-05-19T14:15:38.936082Z",
     "iopub.status.idle": "2024-05-19T14:20:16.716765Z",
     "shell.execute_reply": "2024-05-19T14:20:16.715726Z"
    },
    "papermill": {
     "duration": 280.084794,
     "end_time": "2024-05-19T14:20:16.720015",
     "exception": false,
     "start_time": "2024-05-19T14:15:36.635221",
     "status": "completed"
    },
    "tags": []
   },
   "outputs": [
    {
     "name": "stderr",
     "output_type": "stream",
     "text": [
      "16it [00:25,  1.58s/it]\n",
      "2205it [00:06, 329.89it/s]                          \n",
      "16it [00:01,  8.77it/s]                        \n",
      "16it [00:02,  7.78it/s]                        \n",
      "100%|██████████| 507/507 [00:04<00:00, 106.64it/s]\n",
      "100%|██████████| 507/507 [00:06<00:00, 73.40it/s]\n"
     ]
    },
    {
     "name": "stdout",
     "output_type": "stream",
     "text": [
      "\u001b[1m\u001b[31m\n",
      "RAM memory GB usage = 8.889\u001b[0m\n",
      "Memory usage of dataframe is 1314.28 MB\n",
      "Memory usage after optimization is: 735.73 MB\n",
      "Decreased by 44.0%\n",
      "\u001b[1m\u001b[31m\n",
      "RAM memory GB usage = 8.285\u001b[0m\n",
      "CPU times: user 14min 2s, sys: 1min 13s, total: 15min 15s\n",
      "Wall time: 4min 37s\n"
     ]
    },
    {
     "data": {
      "text/html": [
       "<div><style>\n",
       ".dataframe > thead > tr,\n",
       ".dataframe > tbody > tr {\n",
       "  text-align: right;\n",
       "  white-space: pre-wrap;\n",
       "}\n",
       "</style>\n",
       "<small>shape: (5, 93)</small><table border=\"1\" class=\"dataframe\"><thead><tr><th>impression_id</th><th>article</th><th>user_id</th><th>impression_time</th><th>target</th><th>device_type</th><th>read_time</th><th>scroll_percentage</th><th>is_sso_user</th><th>gender</th><th>age</th><th>is_subscriber</th><th>postcode</th><th>trendiness_score_1d</th><th>trendiness_score_3d</th><th>trendiness_score_5d</th><th>trendiness_score_3d_leak</th><th>weekday</th><th>hour</th><th>trendiness_score_1d/3d</th><th>trendiness_score_1d/5d</th><th>normalized_trendiness_score_overall</th><th>premium</th><th>category</th><th>sentiment_score</th><th>sentiment_label</th><th>num_images</th><th>title_len</th><th>subtitle_len</th><th>body_len</th><th>num_topics</th><th>total_pageviews</th><th>total_inviews</th><th>total_read_time</th><th>total_pageviews/inviews</th><th>article_type</th><th>article_delay_days</th><th>&hellip;</th><th>window_0_history_length</th><th>window_1_history_length</th><th>window_2_history_length</th><th>window_3_history_length</th><th>is_inside_window_0</th><th>is_inside_window_1</th><th>is_inside_window_2</th><th>is_inside_window_3</th><th>window_category_score</th><th>window_topics_score</th><th>trendiness_score_category</th><th>endorsement_10h</th><th>normalized_endorsement_10h</th><th>endorsement_10h_diff_rolling</th><th>endorsement_macd</th><th>endorsement_quantile_norm_10h</th><th>normalized_endorsement_10h_rolling_max_ratio</th><th>endorsement_20h_articleuser</th><th>normalized_endorsement_articleuser_20h</th><th>endorsement_20h_articleuser_diff_rolling</th><th>endorsement_articleuser_macd</th><th>endorsement_articleuser_quantile_norm_20h</th><th>normalized_endorsement_articleuser_20h_rolling_max_ratio</th><th>endorsement_10h_leak</th><th>normalized_endorsement_10h_right</th><th>endorsement_10h_leak_diff_rolling</th><th>endorsement_leak_macd</th><th>endorsement_quantile_norm_10h_leak</th><th>normalized_endorsement_10h_leak_rolling_max_ratio</th><th>clicked_count</th><th>inview_count</th><th>last_session_duration</th><th>mean_prev_sessions_duration</th><th>last_session_time_hour_diff</th><th>is_new_article</th><th>is_already_seen_article</th><th>yesterday_category_daily_pct</th></tr><tr><td>u32</td><td>i32</td><td>u32</td><td>date</td><td>i8</td><td>i8</td><td>f32</td><td>f32</td><td>bool</td><td>i8</td><td>i8</td><td>bool</td><td>i8</td><td>i16</td><td>i16</td><td>i16</td><td>i16</td><td>i8</td><td>i8</td><td>f32</td><td>f32</td><td>f32</td><td>bool</td><td>i16</td><td>f32</td><td>str</td><td>u32</td><td>u8</td><td>u8</td><td>u16</td><td>u32</td><td>i32</td><td>i32</td><td>f32</td><td>f32</td><td>str</td><td>i16</td><td>&hellip;</td><td>i16</td><td>i16</td><td>i16</td><td>i16</td><td>i8</td><td>i8</td><td>i8</td><td>i8</td><td>i16</td><td>i16</td><td>i8</td><td>u16</td><td>f32</td><td>f32</td><td>f32</td><td>f32</td><td>f32</td><td>u8</td><td>f32</td><td>f32</td><td>f32</td><td>f32</td><td>f32</td><td>i16</td><td>f32</td><td>f32</td><td>f32</td><td>f32</td><td>f32</td><td>u32</td><td>u16</td><td>i8</td><td>f32</td><td>i16</td><td>bool</td><td>bool</td><td>f32</td></tr></thead><tbody><tr><td>311999725</td><td>9779956</td><td>2054298</td><td>2023-05-24</td><td>0</td><td>2</td><td>80.0</td><td>null</td><td>false</td><td>2</td><td>null</td><td>false</td><td>5</td><td>54</td><td>151</td><td>222</td><td>141</td><td>4</td><td>7</td><td>0.357616</td><td>0.243243</td><td>0.276557</td><td>false</td><td>118</td><td>0.9876</td><td>&quot;Negative&quot;</td><td>1</td><td>10</td><td>17</td><td>326</td><td>4</td><td>20536</td><td>231786</td><td>2.192031e6</td><td>0.088599</td><td>&quot;article_default&quot;</td><td>0</td><td>&hellip;</td><td>99</td><td>40</td><td>17</td><td>11</td><td>1</td><td>0</td><td>0</td><td>0</td><td>35</td><td>45</td><td>109</td><td>3</td><td>0.019231</td><td>0.0</td><td>0.0</td><td>1.0</td><td>0.5</td><td>1</td><td>0.058824</td><td>0.0</td><td>0.0</td><td>1.0</td><td>1.0</td><td>374</td><td>0.003601</td><td>5.1</td><td>2.9</td><td>0.204595</td><td>0.147651</td><td>247</td><td>566</td><td>1</td><td>2.428571</td><td>-146</td><td>true</td><td>false</td><td>0.239437</td></tr><tr><td>349213169</td><td>9779564</td><td>1361500</td><td>2023-05-24</td><td>0</td><td>2</td><td>15.0</td><td>null</td><td>false</td><td>2</td><td>null</td><td>false</td><td>5</td><td>130</td><td>394</td><td>624</td><td>333</td><td>4</td><td>7</td><td>0.329949</td><td>0.208333</td><td>0.721612</td><td>false</td><td>142</td><td>0.9832</td><td>&quot;Negative&quot;</td><td>2</td><td>8</td><td>18</td><td>240</td><td>4</td><td>13049</td><td>202586</td><td>1.120723e6</td><td>0.064412</td><td>&quot;article_default&quot;</td><td>0</td><td>&hellip;</td><td>270</td><td>174</td><td>76</td><td>99</td><td>1</td><td>0</td><td>0</td><td>0</td><td>64</td><td>239</td><td>112</td><td>7</td><td>0.044872</td><td>0.0</td><td>0.0</td><td>2.333333</td><td>1.0</td><td>1</td><td>0.166667</td><td>0.0</td><td>0.0</td><td>1.0</td><td>1.0</td><td>1210</td><td>0.01051</td><td>-263.700012</td><td>-27.299999</td><td>0.621469</td><td>0.524718</td><td>56</td><td>1580</td><td>0</td><td>0.0</td><td>-57</td><td>true</td><td>false</td><td>0.239437</td></tr><tr><td>311999725</td><td>9778939</td><td>2054298</td><td>2023-05-24</td><td>0</td><td>2</td><td>80.0</td><td>null</td><td>false</td><td>2</td><td>null</td><td>false</td><td>5</td><td>110</td><td>319</td><td>484</td><td>255</td><td>4</td><td>7</td><td>0.344828</td><td>0.227273</td><td>0.584249</td><td>true</td><td>414</td><td>0.9926</td><td>&quot;Negative&quot;</td><td>3</td><td>8</td><td>18</td><td>776</td><td>5</td><td>144704</td><td>1279706</td><td>8.283967e6</td><td>0.113076</td><td>&quot;article_default&quot;</td><td>0</td><td>&hellip;</td><td>99</td><td>40</td><td>17</td><td>11</td><td>1</td><td>0</td><td>0</td><td>0</td><td>30</td><td>88</td><td>58</td><td>2</td><td>0.012821</td><td>0.0</td><td>0.0</td><td>0.666667</td><td>0.25</td><td>1</td><td>0.058824</td><td>0.0</td><td>0.0</td><td>1.0</td><td>1.0</td><td>5058</td><td>0.050717</td><td>10.4</td><td>5.8</td><td>2.690426</td><td>1.0</td><td>1312</td><td>7220</td><td>1</td><td>2.428571</td><td>-146</td><td>true</td><td>false</td><td>0.147887</td></tr><tr><td>118493914</td><td>9776967</td><td>1770038</td><td>2023-05-24</td><td>0</td><td>1</td><td>840.0</td><td>100.0</td><td>false</td><td>2</td><td>null</td><td>false</td><td>5</td><td>112</td><td>317</td><td>474</td><td>270</td><td>4</td><td>7</td><td>0.353312</td><td>0.236287</td><td>0.580586</td><td>false</td><td>118</td><td>0.9929</td><td>&quot;Negative&quot;</td><td>2</td><td>7</td><td>28</td><td>236</td><td>5</td><td>54155</td><td>496389</td><td>2.747845e6</td><td>0.109098</td><td>&quot;article_default&quot;</td><td>0</td><td>&hellip;</td><td>88</td><td>45</td><td>43</td><td>13</td><td>1</td><td>0</td><td>0</td><td>0</td><td>52</td><td>113</td><td>109</td><td>1</td><td>0.00641</td><td>0.0</td><td>0.0</td><td>0.333333</td><td>0.333333</td><td>1</td><td>0.027027</td><td>0.0</td><td>0.0</td><td>1.0</td><td>1.0</td><td>453</td><td>0.006062</td><td>-34.200001</td><td>-1.8</td><td>0.237173</td><td>0.226613</td><td>743</td><td>834</td><td>0</td><td>4.5</td><td>-145</td><td>true</td><td>false</td><td>0.239437</td></tr><tr><td>565885711</td><td>9779263</td><td>1389619</td><td>2023-05-24</td><td>0</td><td>1</td><td>27.0</td><td>null</td><td>true</td><td>0</td><td>null</td><td>false</td><td>5</td><td>60</td><td>180</td><td>291</td><td>195</td><td>4</td><td>7</td><td>0.333333</td><td>0.206186</td><td>0.32967</td><td>false</td><td>498</td><td>0.5646</td><td>&quot;Positive&quot;</td><td>3</td><td>6</td><td>13</td><td>501</td><td>4</td><td>197659</td><td>771668</td><td>1.5790282e7</td><td>0.256145</td><td>&quot;article_default&quot;</td><td>0</td><td>&hellip;</td><td>393</td><td>281</td><td>104</td><td>241</td><td>1</td><td>0</td><td>0</td><td>0</td><td>7</td><td>91</td><td>8</td><td>8</td><td>0.051282</td><td>0.0</td><td>0.0</td><td>2.666667</td><td>1.0</td><td>1</td><td>0.058824</td><td>0.0</td><td>0.0</td><td>1.0</td><td>1.0</td><td>1698</td><td>0.014553</td><td>-191.699997</td><td>-19.299999</td><td>0.960407</td><td>1.0</td><td>2243</td><td>2714</td><td>0</td><td>0.166667</td><td>-41</td><td>true</td><td>false</td><td>0.028169</td></tr></tbody></table></div>"
      ],
      "text/plain": [
       "shape: (5, 93)\n",
       "┌────────────┬─────────┬─────────┬────────────┬───┬────────────┬───────────┬───────────┬───────────┐\n",
       "│ impression ┆ article ┆ user_id ┆ impression ┆ … ┆ last_sessi ┆ is_new_ar ┆ is_alread ┆ yesterday │\n",
       "│ _id        ┆ ---     ┆ ---     ┆ _time      ┆   ┆ on_time_ho ┆ ticle     ┆ y_seen_ar ┆ _category │\n",
       "│ ---        ┆ i32     ┆ u32     ┆ ---        ┆   ┆ ur_diff    ┆ ---       ┆ ticle     ┆ _daily_pc │\n",
       "│ u32        ┆         ┆         ┆ date       ┆   ┆ ---        ┆ bool      ┆ ---       ┆ t         │\n",
       "│            ┆         ┆         ┆            ┆   ┆ i16        ┆           ┆ bool      ┆ ---       │\n",
       "│            ┆         ┆         ┆            ┆   ┆            ┆           ┆           ┆ f32       │\n",
       "╞════════════╪═════════╪═════════╪════════════╪═══╪════════════╪═══════════╪═══════════╪═══════════╡\n",
       "│ 311999725  ┆ 9779956 ┆ 2054298 ┆ 2023-05-24 ┆ … ┆ -146       ┆ true      ┆ false     ┆ 0.239437  │\n",
       "│ 349213169  ┆ 9779564 ┆ 1361500 ┆ 2023-05-24 ┆ … ┆ -57        ┆ true      ┆ false     ┆ 0.239437  │\n",
       "│ 311999725  ┆ 9778939 ┆ 2054298 ┆ 2023-05-24 ┆ … ┆ -146       ┆ true      ┆ false     ┆ 0.147887  │\n",
       "│ 118493914  ┆ 9776967 ┆ 1770038 ┆ 2023-05-24 ┆ … ┆ -145       ┆ true      ┆ false     ┆ 0.239437  │\n",
       "│ 565885711  ┆ 9779263 ┆ 1389619 ┆ 2023-05-24 ┆ … ┆ -41        ┆ true      ┆ false     ┆ 0.028169  │\n",
       "└────────────┴─────────┴─────────┴────────────┴───┴────────────┴───────────┴───────────┴───────────┘"
      ]
     },
     "execution_count": 57,
     "metadata": {},
     "output_type": "execute_result"
    }
   ],
   "source": [
    "%%time\n",
    "\n",
    "NPRATIO = 2\n",
    "\n",
    "users_mean_trendiness_scores, topics_mean_trendiness_scores = _preprocessing_history_trendiness_scores(\n",
    "        history=history_val, articles=articles)\n",
    "topic_mean_delays, user_mean_delays = _preprocessing_mean_delay_features(\n",
    "    articles=articles, history=history_val)\n",
    "windows, user_windows, user_topics_windows, user_category_windows = _preprocessing_window_features(\n",
    "    history=history_val, articles=articles)\n",
    "articles_endorsement = _preprocessing_article_endorsement_feature(\n",
    "    behaviors=behaviors_val, period=\"10h\")\n",
    "normalized_endorsement = normalize_endorsement(articles_endorsement)\n",
    "articles_endorsement_articleuser = _preprocessing_article_endorsement_feature_by_article_and_user(\n",
    "    behaviors=behaviors_val, period=\"20h\")\n",
    "normalized_endorsement_articleuser = normalize_endorsement_by_article_and_user(articles_endorsement_articleuser)\n",
    "\n",
    "history_counts=history_val.select(['article_id_fixed']).explode('article_id_fixed').group_by('article_id_fixed').len() \\\n",
    ".rename({'article_id_fixed':'article','len':'clicked_count'})\n",
    "\n",
    "behaviors_counts=behaviors_val.select('article_ids_inview').explode('article_ids_inview').group_by('article_ids_inview').len() \\\n",
    ".rename({'article_ids_inview':'article','len':'inview_count'})\n",
    "\n",
    "# dropping duplicates that can occur because of sampling strategy\n",
    "val_ds = behaviors_val.pipe(create_binary_labels_column, shuffle=True, seed=123) \\\n",
    "    .with_columns(pl.col('gender').fill_null(2)) \\\n",
    "    .with_columns(pl.col('postcode').fill_null(5)) \\\n",
    "    .select(['impression_id', 'article_ids_inview', 'impression_time', 'labels', \n",
    "             'device_type', 'read_time', 'scroll_percentage', 'user_id', 'is_sso_user', 'gender',\n",
    "             'age', 'is_subscriber', 'session_id', 'postcode']) \\\n",
    "    .explode(['article_ids_inview', 'labels']) \\\n",
    "    .rename({'article_ids_inview': 'article', 'labels': 'target'}) \\\n",
    "    .with_columns(pl.col('article').cast(pl.Int32)) \\\n",
    "    .pipe(add_trendiness_feature, articles=articles, period='1d') \\\n",
    "    .rename({'trendiness_score': 'trendiness_score_1d'}) \\\n",
    "    .pipe(add_trendiness_feature, articles=articles, period='3d') \\\n",
    "    .rename({'trendiness_score': 'trendiness_score_3d'}) \\\n",
    "    .pipe(add_trendiness_feature, articles=articles, period='5d') \\\n",
    "    .rename({'trendiness_score': 'trendiness_score_5d'}) \\\n",
    "    .pipe(add_trendiness_feature_leak, articles=articles, period='3d') \\\n",
    "    .rename({'trendiness_score_leak':'trendiness_score_3d_leak'}) \\\n",
    "    .unique(['impression_id', 'article']) \\\n",
    "    .with_columns(\n",
    "        pl.col('impression_time').dt.weekday().alias('weekday'),\n",
    "        pl.col('impression_time').dt.hour().alias('hour'),\n",
    "        pl.col('article').cast(pl.Int32),\n",
    "        (\n",
    "            pl.col('trendiness_score_1d') / \n",
    "            pl.col('trendiness_score_3d')\n",
    "        ).alias('trendiness_score_1d/3d'),\n",
    "        (\n",
    "            pl.col('trendiness_score_1d') / \n",
    "            pl.col('trendiness_score_5d')\n",
    "        ).alias('trendiness_score_1d/5d'),\n",
    "        (\n",
    "            pl.col('trendiness_score_3d') / \n",
    "            pl.col('trendiness_score_3d').max().over(pl.col('impression_time').dt.date())\n",
    "        ).alias('normalized_trendiness_score_overall'),\n",
    "    ).join(articles.select(['article_id', 'premium', 'published_time', 'category',\n",
    "                            'sentiment_score', 'sentiment_label', 'entity_groups',\n",
    "                            'num_images', 'title_len', 'subtitle_len', 'body_len','num_topics',\n",
    "                            'total_pageviews', 'total_inviews', 'total_read_time', \n",
    "                            'total_pageviews/inviews', 'article_type']),\n",
    "           left_on='article', right_on='article_id', how='left') \\\n",
    "    .with_columns(\n",
    "        (pl.col('impression_time') - pl.col('published_time')).dt.total_days().alias('article_delay_days'),\n",
    "        (pl.col('impression_time') - pl.col('published_time')).dt.total_hours().alias('article_delay_hours')\n",
    "    ).with_columns(\n",
    "        pl.col('entity_groups').list.contains(entity).alias(f'Entity_{entity}_Present')\n",
    "        for entity in unique_entities\n",
    "    ).drop('entity_groups') \\\n",
    "    .join(behaviors_ner_scores, on=['impression_id', 'article'], how='left') \\\n",
    "    .pipe(add_history_trendiness_scores_feature, articles=articles, \n",
    "          users_mean_trendiness_scores=users_mean_trendiness_scores,\n",
    "          topics_mean_trendiness_scores=topics_mean_trendiness_scores, topics=topics) \\\n",
    "    .pipe(add_mean_delays_features, articles=articles,\n",
    "          topic_mean_delays=topic_mean_delays, user_mean_delays=user_mean_delays) \\\n",
    "    .pipe(add_window_features, articles=articles, user_windows=user_windows,\n",
    "          user_category_windows=user_category_windows, \n",
    "          user_topics_windows=user_topics_windows, windows=windows) \\\n",
    "    .pipe(add_trendiness_feature_categories, articles=articles) \\\n",
    "    .pipe(add_article_endorsement_feature, normalized_endorsement=normalized_endorsement) \\\n",
    "    .pipe(add_article_endorsement_feature_by_article_and_user, normalized_endorsement = normalized_endorsement_articleuser) \\\n",
    "    .pipe(add_article_endorsement_feature_leak, normalized_endorsement = normalized_endorsement) \\\n",
    "    .rename({\n",
    "        \"endorsement_10h_diff_rolling_right\":\"endorsement_10h_leak_diff_rolling\",\n",
    "        \"endorsement_macd_right\":\"endorsement_leak_macd\",\n",
    "        \"endorsement_quantile_norm_10h_right\":\"endorsement_quantile_norm_10h_leak\",\n",
    "        \"normalized_endorsement_10h_rolling_max_ratio_right\":\"normalized_endorsement_10h_leak_rolling_max_ratio\"\n",
    "    }).join(history_counts, on='article',how='left') \\\n",
    "    .join(behaviors_counts , on='article', how='left') \\\n",
    "    .join(last_session_time_df, on='session_id', how='left').with_columns(\n",
    "        (pl.col('impression_time') - pl.col('last_session_time')).dt.total_hours().alias('last_session_time_hour_diff'),\n",
    "        ((pl.col('last_session_time') - pl.col('published_time')).dt.total_hours() > 0).alias('is_new_article'),\n",
    "        pl.col('all_seen_articles').list.contains(pl.col('article')).alias('is_already_seen_article'),\n",
    "    ).drop(['published_time', 'session_id', 'all_seen_articles', 'last_session_time']) \\\n",
    "    .join(published_category_popularity, how='left', right_on=['published_date', 'category'],\n",
    "          left_on=[pl.col('impression_time').dt.date() - pl.duration(days=1), 'category']) \\\n",
    "    .rename({'category_daily_pct': 'yesterday_category_daily_pct'}) \\\n",
    "    .with_columns(pl.col('yesterday_category_daily_pct').fill_null(0))\n",
    "\n",
    "gc.collect()\n",
    "PrintColor(f\"\\n\" + GetMemUsage(), color = Fore.RED)\n",
    "\n",
    "val_ds = reduce_polars_df_memory_size(val_ds)\n",
    "PrintColor(f\"\\n\" + GetMemUsage(), color = Fore.RED)\n",
    "val_ds.head()"
   ]
  },
  {
   "cell_type": "code",
   "execution_count": 58,
   "id": "05c32529",
   "metadata": {
    "execution": {
     "iopub.execute_input": "2024-05-19T14:20:21.337086Z",
     "iopub.status.busy": "2024-05-19T14:20:21.336652Z",
     "iopub.status.idle": "2024-05-19T14:20:21.344269Z",
     "shell.execute_reply": "2024-05-19T14:20:21.342988Z"
    },
    "papermill": {
     "duration": 2.238183,
     "end_time": "2024-05-19T14:20:21.347451",
     "exception": false,
     "start_time": "2024-05-19T14:20:19.109268",
     "status": "completed"
    },
    "tags": []
   },
   "outputs": [
    {
     "data": {
      "text/plain": [
       "(2928942, 93)"
      ]
     },
     "execution_count": 58,
     "metadata": {},
     "output_type": "execute_result"
    }
   ],
   "source": [
    "val_ds.shape"
   ]
  },
  {
   "cell_type": "code",
   "execution_count": 59,
   "id": "c522323d",
   "metadata": {
    "execution": {
     "iopub.execute_input": "2024-05-19T14:20:25.955199Z",
     "iopub.status.busy": "2024-05-19T14:20:25.954794Z",
     "iopub.status.idle": "2024-05-19T14:58:40.749198Z",
     "shell.execute_reply": "2024-05-19T14:58:40.747686Z"
    },
    "papermill": {
     "duration": 2297.112776,
     "end_time": "2024-05-19T14:58:40.751996",
     "exception": false,
     "start_time": "2024-05-19T14:20:23.639220",
     "status": "completed"
    },
    "tags": []
   },
   "outputs": [
    {
     "name": "stderr",
     "output_type": "stream",
     "text": [
      "293it [38:09,  7.81s/it]\n"
     ]
    },
    {
     "name": "stdout",
     "output_type": "stream",
     "text": [
      "Memory usage of dataframe is 1925.91 MB\n",
      "Memory usage after optimization is: 1492.96 MB\n",
      "Decreased by 22.5%\n",
      "\u001b[1m\u001b[31m\n",
      "RAM memory GB usage = 10.47\u001b[0m\n"
     ]
    },
    {
     "data": {
      "text/html": [
       "<div><style>\n",
       ".dataframe > thead > tr,\n",
       ".dataframe > tbody > tr {\n",
       "  text-align: right;\n",
       "  white-space: pre-wrap;\n",
       "}\n",
       "</style>\n",
       "<small>shape: (5, 165)</small><table border=\"1\" class=\"dataframe\"><thead><tr><th>impression_id</th><th>article</th><th>user_id</th><th>target</th><th>device_type</th><th>read_time</th><th>scroll_percentage</th><th>is_sso_user</th><th>gender</th><th>age</th><th>is_subscriber</th><th>postcode</th><th>trendiness_score_1d</th><th>trendiness_score_3d</th><th>trendiness_score_5d</th><th>trendiness_score_3d_leak</th><th>weekday</th><th>hour</th><th>trendiness_score_1d/3d</th><th>trendiness_score_1d/5d</th><th>normalized_trendiness_score_overall</th><th>premium</th><th>category</th><th>sentiment_score</th><th>sentiment_label</th><th>num_images</th><th>title_len</th><th>subtitle_len</th><th>body_len</th><th>num_topics</th><th>total_pageviews</th><th>total_inviews</th><th>total_read_time</th><th>total_pageviews/inviews</th><th>article_type</th><th>article_delay_days</th><th>article_delay_hours</th><th>&hellip;</th><th>MostFrequentWeekday</th><th>MostFrequentHour</th><th>LOCPct</th><th>PERPct</th><th>ORGPct</th><th>PRODPct</th><th>MISCPct</th><th>EVENTPct</th><th>topics_cosine</th><th>IsFavouriteCategory</th><th>NumberDifferentCategories</th><th>PctCategoryMatches</th><th>Category_ferie_Pct</th><th>Category_underholdning_Pct</th><th>Category_penge_Pct</th><th>Category_krimi_Pct</th><th>Category_bibliotek_Pct</th><th>Category_side9_Pct</th><th>Category_podcast_Pct</th><th>Category_haandvaerkeren_Pct</th><th>Category_forbrug_Pct</th><th>Category_musik_Pct</th><th>Category_horoskoper_Pct</th><th>Category_auto_Pct</th><th>Category_dagsorden_Pct</th><th>Category_plus_Pct</th><th>Category_vin_Pct</th><th>Category_nyheder_Pct</th><th>Category_om_ekstra_bladet_Pct</th><th>Category_biler_Pct</th><th>Category_opinionen_Pct</th><th>Category_services_Pct</th><th>Category_incoming_Pct</th><th>Category_sport_Pct</th><th>Category_nationen_Pct</th><th>Category_video_Pct</th><th>Category_sex_og_samliv_Pct</th></tr><tr><td>u32</td><td>i32</td><td>u32</td><td>i8</td><td>i8</td><td>f32</td><td>f32</td><td>bool</td><td>i8</td><td>i8</td><td>bool</td><td>i8</td><td>i16</td><td>i16</td><td>i16</td><td>i16</td><td>i8</td><td>i8</td><td>f32</td><td>f32</td><td>f32</td><td>bool</td><td>i16</td><td>f32</td><td>str</td><td>u32</td><td>u8</td><td>u8</td><td>u16</td><td>u32</td><td>i32</td><td>i32</td><td>f32</td><td>f32</td><td>str</td><td>i16</td><td>i32</td><td>&hellip;</td><td>i8</td><td>i8</td><td>f32</td><td>f32</td><td>f32</td><td>f32</td><td>f32</td><td>f32</td><td>f32</td><td>bool</td><td>u8</td><td>f32</td><td>f32</td><td>f32</td><td>f32</td><td>f32</td><td>f32</td><td>f32</td><td>f32</td><td>f32</td><td>f32</td><td>f32</td><td>f32</td><td>f32</td><td>f32</td><td>f32</td><td>f32</td><td>f32</td><td>f32</td><td>f32</td><td>f32</td><td>f32</td><td>f32</td><td>f32</td><td>f32</td><td>f32</td><td>f32</td></tr></thead><tbody><tr><td>18624038</td><td>9778971</td><td>1175611</td><td>1</td><td>2</td><td>24.0</td><td>null</td><td>false</td><td>2</td><td>null</td><td>false</td><td>5</td><td>118</td><td>360</td><td>584</td><td>299</td><td>4</td><td>7</td><td>0.327778</td><td>0.202055</td><td>0.659341</td><td>false</td><td>142</td><td>0.7911</td><td>&quot;Neutral&quot;</td><td>2</td><td>9</td><td>23</td><td>256</td><td>4</td><td>104102</td><td>497489</td><td>6.707142e6</td><td>0.209255</td><td>&quot;article_default&quot;</td><td>0</td><td>10</td><td>&hellip;</td><td>1</td><td>11</td><td>0.76555</td><td>0.854067</td><td>0.91866</td><td>0.27512</td><td>0.208134</td><td>0.217703</td><td>0.42605</td><td>false</td><td>8</td><td>0.983254</td><td>0.0</td><td>0.150718</td><td>0.023923</td><td>0.198565</td><td>0.0</td><td>0.0</td><td>0.0</td><td>0.0</td><td>0.021531</td><td>0.026316</td><td>0.0</td><td>0.0</td><td>0.0</td><td>0.0</td><td>0.0</td><td>0.287081</td><td>0.0</td><td>0.0</td><td>0.0</td><td>0.0</td><td>0.0</td><td>0.251196</td><td>0.04067</td><td>0.0</td><td>0.0</td></tr><tr><td>36672693</td><td>9777034</td><td>1895052</td><td>0</td><td>1</td><td>33.0</td><td>null</td><td>false</td><td>2</td><td>null</td><td>false</td><td>5</td><td>67</td><td>191</td><td>270</td><td>119</td><td>4</td><td>7</td><td>0.350785</td><td>0.248148</td><td>0.349817</td><td>false</td><td>414</td><td>0.8756</td><td>&quot;Negative&quot;</td><td>1</td><td>8</td><td>21</td><td>336</td><td>8</td><td>51562</td><td>350267</td><td>2.754714e6</td><td>0.147208</td><td>&quot;article_default&quot;</td><td>1</td><td>26</td><td>&hellip;</td><td>1</td><td>7</td><td>0.787286</td><td>0.875306</td><td>0.92665</td><td>0.242054</td><td>0.195599</td><td>0.188264</td><td>0.140307</td><td>false</td><td>8</td><td>0.982885</td><td>0.0</td><td>0.085575</td><td>0.0489</td><td>0.200489</td><td>0.0</td><td>0.0</td><td>0.0</td><td>0.0</td><td>0.01467</td><td>0.017115</td><td>0.0</td><td>0.0</td><td>0.0</td><td>0.0</td><td>0.0</td><td>0.391198</td><td>0.0</td><td>0.0</td><td>0.0</td><td>0.0</td><td>0.0</td><td>0.141809</td><td>0.100244</td><td>0.0</td><td>0.0</td></tr><tr><td>384352527</td><td>9647575</td><td>290548</td><td>0</td><td>2</td><td>42.0</td><td>null</td><td>false</td><td>2</td><td>null</td><td>false</td><td>5</td><td>103</td><td>309</td><td>500</td><td>250</td><td>4</td><td>7</td><td>0.333333</td><td>0.206</td><td>0.565934</td><td>true</td><td>414</td><td>0.9136</td><td>&quot;Neutral&quot;</td><td>10</td><td>6</td><td>26</td><td>612</td><td>3</td><td>45301</td><td>913674</td><td>2.24602e6</td><td>0.049581</td><td>&quot;article_default&quot;</td><td>27</td><td>650</td><td>&hellip;</td><td>2</td><td>8</td><td>0.792109</td><td>0.889226</td><td>0.911988</td><td>0.259484</td><td>0.251897</td><td>0.265554</td><td>0.453631</td><td>false</td><td>11</td><td>0.984825</td><td>0.001517</td><td>0.141123</td><td>0.030349</td><td>0.113809</td><td>0.0</td><td>0.003035</td><td>0.0</td><td>0.0</td><td>0.015175</td><td>0.021244</td><td>0.0</td><td>0.0</td><td>0.0</td><td>0.0</td><td>0.0</td><td>0.306525</td><td>0.0</td><td>0.0</td><td>0.0</td><td>0.0</td><td>0.0</td><td>0.323217</td><td>0.040971</td><td>0.0</td><td>0.003035</td></tr><tr><td>169708633</td><td>9779860</td><td>835342</td><td>0</td><td>2</td><td>152.0</td><td>100.0</td><td>false</td><td>2</td><td>null</td><td>false</td><td>5</td><td>54</td><td>151</td><td>222</td><td>141</td><td>4</td><td>7</td><td>0.357616</td><td>0.243243</td><td>0.276557</td><td>false</td><td>118</td><td>0.9862</td><td>&quot;Negative&quot;</td><td>0</td><td>7</td><td>17</td><td>273</td><td>4</td><td>216059</td><td>978794</td><td>1.1436902e7</td><td>0.22074</td><td>&quot;article_default&quot;</td><td>0</td><td>10</td><td>&hellip;</td><td>5</td><td>12</td><td>0.821192</td><td>0.774834</td><td>0.927152</td><td>0.15894</td><td>0.178808</td><td>0.10596</td><td>0.051616</td><td>true</td><td>8</td><td>0.953642</td><td>0.0</td><td>0.125828</td><td>0.006623</td><td>0.304636</td><td>0.0</td><td>0.0</td><td>0.0</td><td>0.0</td><td>0.02649</td><td>0.039735</td><td>0.0</td><td>0.0</td><td>0.0</td><td>0.0</td><td>0.0</td><td>0.370861</td><td>0.0</td><td>0.0</td><td>0.0</td><td>0.0</td><td>0.0</td><td>0.10596</td><td>0.019868</td><td>0.0</td><td>0.0</td></tr><tr><td>150263899</td><td>9779564</td><td>2445823</td><td>0</td><td>1</td><td>13.0</td><td>null</td><td>false</td><td>2</td><td>null</td><td>false</td><td>5</td><td>130</td><td>394</td><td>624</td><td>333</td><td>4</td><td>7</td><td>0.329949</td><td>0.208333</td><td>0.721612</td><td>false</td><td>142</td><td>0.9832</td><td>&quot;Negative&quot;</td><td>2</td><td>8</td><td>18</td><td>240</td><td>4</td><td>13049</td><td>202586</td><td>1.120723e6</td><td>0.064412</td><td>&quot;article_default&quot;</td><td>0</td><td>0</td><td>&hellip;</td><td>3</td><td>7</td><td>0.766102</td><td>0.833898</td><td>0.935593</td><td>0.298305</td><td>0.20339</td><td>0.216949</td><td>0.3895</td><td>false</td><td>8</td><td>0.976271</td><td>0.0</td><td>0.162712</td><td>0.054237</td><td>0.2</td><td>0.0</td><td>0.0</td><td>0.0</td><td>0.0</td><td>0.00339</td><td>0.027119</td><td>0.0</td><td>0.0</td><td>0.0</td><td>0.0</td><td>0.0</td><td>0.372881</td><td>0.0</td><td>0.0</td><td>0.0</td><td>0.0</td><td>0.0</td><td>0.149153</td><td>0.030508</td><td>0.0</td><td>0.0</td></tr></tbody></table></div>"
      ],
      "text/plain": [
       "shape: (5, 165)\n",
       "┌─────────────┬─────────┬─────────┬────────┬───┬────────────┬────────────┬────────────┬────────────┐\n",
       "│ impression_ ┆ article ┆ user_id ┆ target ┆ … ┆ Category_s ┆ Category_n ┆ Category_v ┆ Category_s │\n",
       "│ id          ┆ ---     ┆ ---     ┆ ---    ┆   ┆ port_Pct   ┆ ationen_Pc ┆ ideo_Pct   ┆ ex_og_saml │\n",
       "│ ---         ┆ i32     ┆ u32     ┆ i8     ┆   ┆ ---        ┆ t          ┆ ---        ┆ iv_Pct     │\n",
       "│ u32         ┆         ┆         ┆        ┆   ┆ f32        ┆ ---        ┆ f32        ┆ ---        │\n",
       "│             ┆         ┆         ┆        ┆   ┆            ┆ f32        ┆            ┆ f32        │\n",
       "╞═════════════╪═════════╪═════════╪════════╪═══╪════════════╪════════════╪════════════╪════════════╡\n",
       "│ 18624038    ┆ 9778971 ┆ 1175611 ┆ 1      ┆ … ┆ 0.251196   ┆ 0.04067    ┆ 0.0        ┆ 0.0        │\n",
       "│ 36672693    ┆ 9777034 ┆ 1895052 ┆ 0      ┆ … ┆ 0.141809   ┆ 0.100244   ┆ 0.0        ┆ 0.0        │\n",
       "│ 384352527   ┆ 9647575 ┆ 290548  ┆ 0      ┆ … ┆ 0.323217   ┆ 0.040971   ┆ 0.0        ┆ 0.003035   │\n",
       "│ 169708633   ┆ 9779860 ┆ 835342  ┆ 0      ┆ … ┆ 0.10596    ┆ 0.019868   ┆ 0.0        ┆ 0.0        │\n",
       "│ 150263899   ┆ 9779564 ┆ 2445823 ┆ 0      ┆ … ┆ 0.149153   ┆ 0.030508   ┆ 0.0        ┆ 0.0        │\n",
       "└─────────────┴─────────┴─────────┴────────┴───┴────────────┴────────────┴────────────┴────────────┘"
      ]
     },
     "execution_count": 59,
     "metadata": {},
     "output_type": "execute_result"
    }
   ],
   "source": [
    "prev_columns = [c for c in val_ds.columns if c not in ['impression_id', 'article', 'impression_time']]\n",
    "\n",
    "val_ds = pl.concat(\n",
    "    rows.join(history_val.select(['user_id', 'article_id_fixed', 'impression_time_fixed']), on='user_id', how='left') \\\n",
    "        .join(articles.select(['article_id', 'topics', 'entity_groups', 'topics_idf'] + topic_model_columns), \n",
    "              left_on='article', right_on='article_id', how='left') \\\n",
    "        .explode(['article_id_fixed', 'impression_time_fixed']) \\\n",
    "        .join(articles.select(['article_id', 'topics', 'entity_groups'] + topic_model_columns), \n",
    "              left_on='article_id_fixed', right_on='article_id', how='left') \\\n",
    "        .rename({'topics_right': 'topics_history', 'entity_groups_right': 'entity_groups_history'}) \\\n",
    "        .rename({f'topic_model_embedding_{i}_right': f'topic_model_embedding_{i}_history' for i in range(N_COMPONENTS)}) \\\n",
    "        .with_columns(\n",
    "            # 1/delay gives the weight for the weighted mean of the lda embeddings\n",
    "            (1 / (pl.col('impression_time') - pl.col('impression_time_fixed')).dt.total_hours().sqrt()).alias('history_weight'),\n",
    "            (pl.col(\"topics\").list.set_intersection(pl.col(\"topics_history\")).list.len().truediv(\n",
    "                pl.col(\"topics\").list.set_union(pl.col(\"topics_history\")).list.len()\n",
    "            )).alias(\"JS\"),\n",
    "            pl.col('entity_groups').list.set_intersection(pl.col('entity_groups_history')).list.len().alias('common_entities'),\n",
    "        ).drop(['entity_groups_history', 'entity_groups', 'topics', 'topics_history']) \\\n",
    "        .with_columns(\n",
    "            # summing delays to normalize them before weighted mean\n",
    "            pl.col('history_weight').sum().over(['impression_id', 'article']).alias('history_weight_sum'),\n",
    "            *[pl.col(x).mul(pl.col(f'{x}_history')).alias(f'{x}_dot') for x in topic_model_columns],\n",
    "            *[pl.col(x).mul(pl.col(x)) for x in topic_model_columns],\n",
    "            *[pl.col(f'{x}_history').mul(pl.col(f'{x}_history')).alias(f'{x}_history_square') for x in topic_model_columns],\n",
    "        ).with_columns(\n",
    "            # weights now sum to 1\n",
    "            pl.col('history_weight').truediv(pl.col('history_weight_sum')),\n",
    "            pl.sum_horizontal(topic_model_columns).sqrt().alias('topic_model_norm'),\n",
    "            pl.sum_horizontal([f'{x}_history_square' for x in topic_model_columns]).sqrt().alias('topic_model_history_norm'),\n",
    "            pl.sum_horizontal([f'{x}_dot' for x in topic_model_columns]).alias('topic_model_dot'),\n",
    "        ).with_columns(\n",
    "            *[pl.col(f'{x}_history').mul(pl.col('history_weight')).alias(f'{x}_history_weighted') for i, x in enumerate(topic_model_columns)],\n",
    "            pl.col('topic_model_dot').truediv(pl.col('topic_model_norm').mul('topic_model_history_norm')).alias('topic_model_cosine')\n",
    "        ).group_by(['impression_id', 'article']).agg(\n",
    "            pl.col(prev_train_columns).first(),\n",
    "            pl.col('topics_idf').first(),\n",
    "            pl.col('common_entities').mean().alias('MeanCommonEntities'),\n",
    "            pl.col('common_entities').max().alias('MaxCommonEntities'),\n",
    "            pl.col(\"JS\").mean().alias(\"mean_JS\"),\n",
    "            pl.col(\"JS\").min().alias(\"min_JS\"),\n",
    "            pl.col(\"JS\").max().alias(\"max_JS\"),\n",
    "            pl.col(\"JS\").std().alias(\"std_JS\"),\n",
    "            pl.col(\"JS\").mul(pl.col(\"history_weight\")).sum().alias(\"weighted_mean_JS\"),\n",
    "            pl.col(\"topic_model_cosine\").mean().alias(\"mean_topic_model_cosine\"),\n",
    "            pl.col(\"topic_model_cosine\").min().alias(\"min_topic_model_cosine\"),\n",
    "            pl.col(\"topic_model_cosine\").max().alias(\"max_topic_model_cosine\"),\n",
    "            pl.col(\"topic_model_cosine\").std().alias(\"std_topic_model_cosine\"),\n",
    "            pl.col(\"topic_model_cosine\").mul(pl.col(\"history_weight\")).sum().alias(\"weighted_mean_topic_model_cosine\"),\n",
    "            *[pl.col(f'{x}_history').mean().alias(f'lda_{i}_history_mean') for i, x in enumerate(topic_model_columns)],\n",
    "            *[pl.col(f'{x}_history_weighted').sum().alias(f'lda_{i}_history_weighted_mean') for i, x in enumerate(topic_model_columns)]\n",
    "        ).join(history_val.drop(['article_id_fixed', 'impression_time_fixed']), on='user_id', how='left') \\\n",
    "        .with_columns(\n",
    "            pl.struct(['topics_idf', 'topics_flatten_tf_idf']).map_elements(\n",
    "                lambda x: cosine_similarity(x['topics_idf'], x['topics_flatten_tf_idf']), return_dtype=pl.Float64\n",
    "            ).cast(pl.Float32).alias('topics_cosine'),\n",
    "            (pl.col('category') == pl.col('MostFrequentCategory')).alias('IsFavouriteCategory'),\n",
    "            pl.col('category_right').list.n_unique().alias('NumberDifferentCategories'),\n",
    "            list_pct_matches_with_col('category_right', 'category').alias('PctCategoryMatches'),\n",
    "        ).with_columns(\n",
    "            [list_pct_matches_with_constant('category_right', c).alias(f'Category_{c_str}_Pct')\n",
    "             for c, c_str in unique_categories.items()]\n",
    "        ).drop(['topics_idf', 'topics_flatten', 'topics_flatten_tf_idf', 'category_right'])\n",
    "    for rows in tqdm.tqdm(val_ds.iter_slices(10000), total=val_ds.shape[0] // 10000)\n",
    ")\n",
    "\n",
    "val_ds = reduce_polars_df_memory_size(val_ds)\n",
    "PrintColor(f\"\\n\" + GetMemUsage(), color = Fore.RED)\n",
    "val_ds.head()"
   ]
  },
  {
   "cell_type": "code",
   "execution_count": 60,
   "id": "a780c87d",
   "metadata": {
    "execution": {
     "iopub.execute_input": "2024-05-19T14:58:45.520370Z",
     "iopub.status.busy": "2024-05-19T14:58:45.519967Z",
     "iopub.status.idle": "2024-05-19T15:00:18.622313Z",
     "shell.execute_reply": "2024-05-19T15:00:18.621020Z"
    },
    "papermill": {
     "duration": 95.438906,
     "end_time": "2024-05-19T15:00:18.625493",
     "exception": false,
     "start_time": "2024-05-19T14:58:43.186587",
     "status": "completed"
    },
    "tags": []
   },
   "outputs": [
    {
     "name": "stderr",
     "output_type": "stream",
     "text": [
      "  0%|          | 0/12 [00:00<?, ?it/s]"
     ]
    },
    {
     "name": "stdout",
     "output_type": "stream",
     "text": [
      "Memory usage of dataframe is 1807.55 MB\n"
     ]
    },
    {
     "name": "stderr",
     "output_type": "stream",
     "text": [
      "  8%|▊         | 1/12 [00:08<01:28,  8.01s/it]"
     ]
    },
    {
     "name": "stdout",
     "output_type": "stream",
     "text": [
      "Memory usage after optimization is: 1695.82 MB\n",
      "Decreased by 6.2%\n",
      "Memory usage of dataframe is 1729.69 MB\n"
     ]
    },
    {
     "name": "stderr",
     "output_type": "stream",
     "text": [
      " 17%|█▋        | 2/12 [00:12<00:57,  5.74s/it]"
     ]
    },
    {
     "name": "stdout",
     "output_type": "stream",
     "text": [
      "Memory usage after optimization is: 1713.72 MB\n",
      "Decreased by 0.9%\n",
      "Memory usage of dataframe is 1883.06 MB\n"
     ]
    },
    {
     "name": "stderr",
     "output_type": "stream",
     "text": [
      " 25%|██▌       | 3/12 [00:24<01:16,  8.54s/it]"
     ]
    },
    {
     "name": "stdout",
     "output_type": "stream",
     "text": [
      "Memory usage after optimization is: 1799.26 MB\n",
      "Decreased by 4.5%\n",
      "Memory usage of dataframe is 2113.85 MB\n"
     ]
    },
    {
     "name": "stderr",
     "output_type": "stream",
     "text": [
      " 33%|███▎      | 4/12 [00:27<00:53,  6.68s/it]"
     ]
    },
    {
     "name": "stdout",
     "output_type": "stream",
     "text": [
      "Memory usage after optimization is: 1990.95 MB\n",
      "Decreased by 5.8%\n",
      "Memory usage of dataframe is 2372.57 MB\n"
     ]
    },
    {
     "name": "stderr",
     "output_type": "stream",
     "text": [
      " 42%|████▏     | 5/12 [00:41<01:04,  9.27s/it]"
     ]
    },
    {
     "name": "stdout",
     "output_type": "stream",
     "text": [
      "Memory usage after optimization is: 2182.63 MB\n",
      "Decreased by 8.0%\n",
      "Memory usage of dataframe is 2564.26 MB\n"
     ]
    },
    {
     "name": "stderr",
     "output_type": "stream",
     "text": [
      " 50%|█████     | 6/12 [00:55<01:04, 10.82s/it]"
     ]
    },
    {
     "name": "stdout",
     "output_type": "stream",
     "text": [
      "Memory usage after optimization is: 2374.32 MB\n",
      "Decreased by 7.4%\n",
      "Memory usage of dataframe is 2687.17 MB\n"
     ]
    },
    {
     "name": "stderr",
     "output_type": "stream",
     "text": [
      " 58%|█████▊    | 7/12 [01:10<01:00, 12.10s/it]"
     ]
    },
    {
     "name": "stdout",
     "output_type": "stream",
     "text": [
      "Memory usage after optimization is: 2564.26 MB\n",
      "Decreased by 4.6%\n",
      "Memory usage of dataframe is 2878.85 MB\n"
     ]
    },
    {
     "name": "stderr",
     "output_type": "stream",
     "text": [
      " 67%|██████▋   | 8/12 [01:18<00:43, 10.79s/it]"
     ]
    },
    {
     "name": "stdout",
     "output_type": "stream",
     "text": [
      "Memory usage after optimization is: 2755.95 MB\n",
      "Decreased by 4.3%\n",
      "Memory usage of dataframe is 2800.64 MB\n"
     ]
    },
    {
     "name": "stderr",
     "output_type": "stream",
     "text": [
      " 75%|███████▌  | 9/12 [01:21<00:25,  8.45s/it]"
     ]
    },
    {
     "name": "stdout",
     "output_type": "stream",
     "text": [
      "Memory usage after optimization is: 2800.64 MB\n",
      "Decreased by 0.0%\n",
      "Memory usage of dataframe is 2867.68 MB\n"
     ]
    },
    {
     "name": "stderr",
     "output_type": "stream",
     "text": [
      " 83%|████████▎ | 10/12 [01:25<00:13,  6.92s/it]"
     ]
    },
    {
     "name": "stdout",
     "output_type": "stream",
     "text": [
      "Memory usage after optimization is: 2856.51 MB\n",
      "Decreased by 0.4%\n",
      "Memory usage of dataframe is 2890.03 MB\n"
     ]
    },
    {
     "name": "stderr",
     "output_type": "stream",
     "text": [
      " 92%|█████████▏| 11/12 [01:28<00:06,  6.00s/it]"
     ]
    },
    {
     "name": "stdout",
     "output_type": "stream",
     "text": [
      "Memory usage after optimization is: 2864.89 MB\n",
      "Decreased by 0.9%\n",
      "Memory usage of dataframe is 2887.23 MB\n"
     ]
    },
    {
     "name": "stderr",
     "output_type": "stream",
     "text": [
      "100%|██████████| 12/12 [01:33<00:00,  7.76s/it]"
     ]
    },
    {
     "name": "stdout",
     "output_type": "stream",
     "text": [
      "Memory usage after optimization is: 2876.06 MB\n",
      "Decreased by 0.4%\n",
      "\u001b[1m\u001b[31m\n",
      "RAM memory GB usage = 10.81\u001b[0m\n"
     ]
    },
    {
     "name": "stderr",
     "output_type": "stream",
     "text": [
      "\n"
     ]
    },
    {
     "data": {
      "text/html": [
       "<div><style>\n",
       ".dataframe > thead > tr,\n",
       ".dataframe > tbody > tr {\n",
       "  text-align: right;\n",
       "  white-space: pre-wrap;\n",
       "}\n",
       "</style>\n",
       "<small>shape: (2, 298)</small><table border=\"1\" class=\"dataframe\"><thead><tr><th>impression_id</th><th>article</th><th>user_id</th><th>target</th><th>device_type</th><th>read_time</th><th>scroll_percentage</th><th>is_sso_user</th><th>gender</th><th>age</th><th>is_subscriber</th><th>postcode</th><th>trendiness_score_1d</th><th>trendiness_score_3d</th><th>trendiness_score_5d</th><th>trendiness_score_3d_leak</th><th>weekday</th><th>hour</th><th>trendiness_score_1d/3d</th><th>trendiness_score_1d/5d</th><th>normalized_trendiness_score_overall</th><th>premium</th><th>category</th><th>sentiment_score</th><th>sentiment_label</th><th>num_images</th><th>title_len</th><th>subtitle_len</th><th>body_len</th><th>num_topics</th><th>total_pageviews</th><th>total_inviews</th><th>total_read_time</th><th>total_pageviews/inviews</th><th>article_type</th><th>article_delay_days</th><th>article_delay_hours</th><th>&hellip;</th><th>entropy_impression_trendiness_score_category</th><th>entropy_impression_std_JS</th><th>entropy_impression_total_read_time</th><th>entropy_impression_endorsement_10h_leak</th><th>entropy_impression_trendiness_score_3d_leak</th><th>entropy_impression_clicked_count</th><th>entropy_impression_inview_count</th><th>trendiness_score_3d_minus_median_impression</th><th>trendiness_score_5d_minus_median_impression</th><th>endorsement_10h_minus_median_impression</th><th>total_pageviews/inviews_minus_median_impression</th><th>mean_JS_minus_median_impression</th><th>mean_topic_model_cosine_minus_median_impression</th><th>topics_cosine_minus_median_impression</th><th>article_delay_hours_minus_median_impression</th><th>total_pageviews_minus_median_impression</th><th>total_inviews_minus_median_impression</th><th>trendiness_score_category_minus_median_impression</th><th>std_JS_minus_median_impression</th><th>total_read_time_minus_median_impression</th><th>endorsement_10h_leak_minus_median_impression</th><th>trendiness_score_3d_leak_minus_median_impression</th><th>clicked_count_minus_median_impression</th><th>inview_count_minus_median_impression</th><th>mean_JS_l_inf_user</th><th>std_JS_l_inf_user</th><th>mean_topic_model_cosine_l_inf_user</th><th>topics_cosine_l_inf_user</th><th>article_delay_hours_l_inf_article</th><th>mean_JS_l_inf_article</th><th>std_JS_l_inf_article</th><th>mean_topic_model_cosine_l_inf_article</th><th>topics_cosine_l_inf_article</th><th>category_diversity_impression</th><th>sentiment_label_diversity_impression</th><th>article_type_diversity_impression</th><th>endorsement_20h_articleuser_l_inf_article_user</th></tr><tr><td>u32</td><td>i32</td><td>u32</td><td>i8</td><td>i8</td><td>f32</td><td>f32</td><td>bool</td><td>i8</td><td>i8</td><td>bool</td><td>i8</td><td>i16</td><td>i16</td><td>i16</td><td>i16</td><td>i8</td><td>i8</td><td>f32</td><td>f32</td><td>f32</td><td>bool</td><td>i16</td><td>f32</td><td>str</td><td>u32</td><td>u8</td><td>u8</td><td>u16</td><td>u32</td><td>i32</td><td>i32</td><td>f32</td><td>f32</td><td>str</td><td>i16</td><td>i32</td><td>&hellip;</td><td>f32</td><td>f32</td><td>f32</td><td>f32</td><td>f32</td><td>f32</td><td>f32</td><td>f32</td><td>f32</td><td>f32</td><td>f32</td><td>f32</td><td>f32</td><td>f32</td><td>f32</td><td>f32</td><td>f32</td><td>f32</td><td>f32</td><td>f32</td><td>f32</td><td>f32</td><td>f32</td><td>f32</td><td>f32</td><td>f32</td><td>f32</td><td>f32</td><td>f32</td><td>f32</td><td>f32</td><td>f32</td><td>f32</td><td>u8</td><td>u8</td><td>u8</td><td>f32</td></tr></thead><tbody><tr><td>18624038</td><td>9778971</td><td>1175611</td><td>1</td><td>2</td><td>24.0</td><td>null</td><td>false</td><td>2</td><td>null</td><td>false</td><td>5</td><td>118</td><td>360</td><td>584</td><td>299</td><td>4</td><td>7</td><td>0.327778</td><td>0.202055</td><td>0.659341</td><td>false</td><td>142</td><td>0.7911</td><td>&quot;Neutral&quot;</td><td>2</td><td>9</td><td>23</td><td>256</td><td>4</td><td>104102</td><td>497489</td><td>6.707142e6</td><td>0.209255</td><td>&quot;article_default&quot;</td><td>0</td><td>10</td><td>&hellip;</td><td>2.415137</td><td>2.513112</td><td>2.205569</td><td>2.370303</td><td>2.460781</td><td>2.203103</td><td>2.248056</td><td>117.0</td><td>206.0</td><td>-17.0</td><td>0.100157</td><td>0.026682</td><td>0.049333</td><td>0.051175</td><td>0.0</td><td>49947.0</td><td>1100.0</td><td>3.0</td><td>0.010692</td><td>3.959297e6</td><td>-152.0</td><td>94.0</td><td>1086.0</td><td>-218.0</td><td>0.803862</td><td>0.679927</td><td>0.927793</td><td>0.798806</td><td>0.064516</td><td>0.397469</td><td>0.554713</td><td>0.934377</td><td>0.577377</td><td>5</td><td>2</td><td>1</td><td>1.0</td></tr><tr><td>36672693</td><td>9777034</td><td>1895052</td><td>0</td><td>1</td><td>33.0</td><td>null</td><td>false</td><td>2</td><td>null</td><td>false</td><td>5</td><td>67</td><td>191</td><td>270</td><td>119</td><td>4</td><td>7</td><td>0.350785</td><td>0.248148</td><td>0.349817</td><td>false</td><td>414</td><td>0.8756</td><td>&quot;Negative&quot;</td><td>1</td><td>8</td><td>21</td><td>336</td><td>8</td><td>51562</td><td>350267</td><td>2.754714e6</td><td>0.147208</td><td>&quot;article_default&quot;</td><td>1</td><td>26</td><td>&hellip;</td><td>3.10917</td><td>3.208914</td><td>2.644696</td><td>2.683124</td><td>3.082204</td><td>2.813845</td><td>2.595687</td><td>-0.5</td><td>7.0</td><td>-3.0</td><td>0.008896</td><td>-0.040181</td><td>0.061253</td><td>-0.139116</td><td>14.0</td><td>-6897.5</td><td>-67259.5</td><td>0.5</td><td>-0.086881</td><td>-59373.0</td><td>-112.5</td><td>-34.0</td><td>196.0</td><td>-30.0</td><td>0.211709</td><td>0.196192</td><td>0.944149</td><td>0.233657</td><td>0.155689</td><td>0.138256</td><td>0.202344</td><td>0.900108</td><td>0.275149</td><td>7</td><td>3</td><td>1</td><td>1.0</td></tr></tbody></table></div>"
      ],
      "text/plain": [
       "shape: (2, 298)\n",
       "┌─────────────┬─────────┬─────────┬────────┬───┬────────────┬────────────┬────────────┬────────────┐\n",
       "│ impression_ ┆ article ┆ user_id ┆ target ┆ … ┆ category_d ┆ sentiment_ ┆ article_ty ┆ endorsemen │\n",
       "│ id          ┆ ---     ┆ ---     ┆ ---    ┆   ┆ iversity_i ┆ label_dive ┆ pe_diversi ┆ t_20h_arti │\n",
       "│ ---         ┆ i32     ┆ u32     ┆ i8     ┆   ┆ mpression  ┆ rsity_impr ┆ ty_impress ┆ cleuser_l_ │\n",
       "│ u32         ┆         ┆         ┆        ┆   ┆ ---        ┆ …          ┆ …          ┆ …          │\n",
       "│             ┆         ┆         ┆        ┆   ┆ u8         ┆ ---        ┆ ---        ┆ ---        │\n",
       "│             ┆         ┆         ┆        ┆   ┆            ┆ u8         ┆ u8         ┆ f32        │\n",
       "╞═════════════╪═════════╪═════════╪════════╪═══╪════════════╪════════════╪════════════╪════════════╡\n",
       "│ 18624038    ┆ 9778971 ┆ 1175611 ┆ 1      ┆ … ┆ 5          ┆ 2          ┆ 1          ┆ 1.0        │\n",
       "│ 36672693    ┆ 9777034 ┆ 1895052 ┆ 0      ┆ … ┆ 7          ┆ 3          ┆ 1          ┆ 1.0        │\n",
       "└─────────────┴─────────┴─────────┴────────┴───┴────────────┴────────────┴────────────┴────────────┘"
      ]
     },
     "execution_count": 60,
     "metadata": {},
     "output_type": "execute_result"
    }
   ],
   "source": [
    "for expressions_group in tqdm.tqdm(expressions):\n",
    "    val_ds = val_ds.with_columns(expressions_group)\n",
    "    val_ds = reduce_polars_df_memory_size(val_ds)\n",
    "\n",
    "PrintColor(f\"\\n\" + GetMemUsage(), color = Fore.RED)\n",
    "val_ds.head(2)"
   ]
  },
  {
   "cell_type": "code",
   "execution_count": 61,
   "id": "7c7ef2ec",
   "metadata": {
    "execution": {
     "iopub.execute_input": "2024-05-19T15:00:23.349335Z",
     "iopub.status.busy": "2024-05-19T15:00:23.348636Z",
     "iopub.status.idle": "2024-05-19T15:00:23.761382Z",
     "shell.execute_reply": "2024-05-19T15:00:23.760378Z"
    },
    "papermill": {
     "duration": 2.771232,
     "end_time": "2024-05-19T15:00:23.763901",
     "exception": false,
     "start_time": "2024-05-19T15:00:20.992669",
     "status": "completed"
    },
    "tags": []
   },
   "outputs": [
    {
     "data": {
      "text/plain": [
       "0"
      ]
     },
     "execution_count": 61,
     "metadata": {},
     "output_type": "execute_result"
    }
   ],
   "source": [
    "del history_val\n",
    "del articles\n",
    "del behaviors_val\n",
    "\n",
    "gc.collect()"
   ]
  },
  {
   "cell_type": "code",
   "execution_count": 62,
   "id": "4efed5ee",
   "metadata": {
    "execution": {
     "iopub.execute_input": "2024-05-19T15:00:28.411885Z",
     "iopub.status.busy": "2024-05-19T15:00:28.411446Z",
     "iopub.status.idle": "2024-05-19T15:00:28.419954Z",
     "shell.execute_reply": "2024-05-19T15:00:28.418709Z"
    },
    "papermill": {
     "duration": 2.408963,
     "end_time": "2024-05-19T15:00:28.422492",
     "exception": false,
     "start_time": "2024-05-19T15:00:26.013529",
     "status": "completed"
    },
    "tags": []
   },
   "outputs": [
    {
     "data": {
      "text/plain": [
       "(2928942, 298)"
      ]
     },
     "execution_count": 62,
     "metadata": {},
     "output_type": "execute_result"
    }
   ],
   "source": [
    "val_ds.shape"
   ]
  },
  {
   "cell_type": "code",
   "execution_count": 63,
   "id": "d3d5bd0b",
   "metadata": {
    "execution": {
     "iopub.execute_input": "2024-05-19T15:00:33.077524Z",
     "iopub.status.busy": "2024-05-19T15:00:33.076376Z",
     "iopub.status.idle": "2024-05-19T15:00:36.039337Z",
     "shell.execute_reply": "2024-05-19T15:00:36.037971Z"
    },
    "papermill": {
     "duration": 5.24043,
     "end_time": "2024-05-19T15:00:36.041649",
     "exception": false,
     "start_time": "2024-05-19T15:00:30.801219",
     "status": "completed"
    },
    "tags": []
   },
   "outputs": [
    {
     "name": "stdout",
     "output_type": "stream",
     "text": [
      "\u001b[1m\u001b[31m\n",
      "RAM memory GB usage = 13.68\u001b[0m\n"
     ]
    },
    {
     "data": {
      "text/plain": [
       "0"
      ]
     },
     "execution_count": 63,
     "metadata": {},
     "output_type": "execute_result"
    }
   ],
   "source": [
    "X_val = val_ds.drop(['impression_id', 'article', 'user_id', 'target']).to_pandas()\n",
    "val_ds = val_ds.select(['impression_id', 'article', 'target'])\n",
    "\n",
    "PrintColor(f\"\\n\" + GetMemUsage(), color = Fore.RED)\n",
    "gc.collect()"
   ]
  },
  {
   "cell_type": "code",
   "execution_count": 64,
   "id": "6dc4a118",
   "metadata": {
    "execution": {
     "iopub.execute_input": "2024-05-19T15:00:40.648234Z",
     "iopub.status.busy": "2024-05-19T15:00:40.647847Z",
     "iopub.status.idle": "2024-05-19T15:05:43.383064Z",
     "shell.execute_reply": "2024-05-19T15:05:43.380984Z"
    },
    "papermill": {
     "duration": 307.297312,
     "end_time": "2024-05-19T15:05:45.713019",
     "exception": false,
     "start_time": "2024-05-19T15:00:38.415707",
     "status": "completed"
    },
    "tags": []
   },
   "outputs": [
    {
     "name": "stdout",
     "output_type": "stream",
     "text": [
      "\u001b[1m\u001b[31m\n",
      "RAM memory GB usage = 16.55\u001b[0m\n",
      "\u001b[1m\u001b[31m\n",
      "RAM memory GB usage = 13.93\u001b[0m\n"
     ]
    }
   ],
   "source": [
    "X_val[numerical_columns] = X_val[numerical_columns].astype(np.float32)\n",
    "\n",
    "PrintColor(f\"\\n\" + GetMemUsage(), color = Fore.RED)\n",
    "gc.collect()\n",
    "\n",
    "for i, cat_col in enumerate(categorical_columns):\n",
    "    X_val[cat_col] = X_val[cat_col].astype(str)\n",
    "    categories_val = list(X_val[cat_col].unique())\n",
    "    unknown_categories = [x for x in categories_val if x not in categories[i]]\n",
    "    X_val[cat_col] = X_val[cat_col].astype(str).replace(list(unknown_categories), 'Unknown')\n",
    "    \n",
    "X_val[categorical_columns] = categorical_encoder.transform(X_val[categorical_columns]).astype(np.float32)\n",
    "X_val[numerical_columns] = numerical_transformer.transform(X_val[numerical_columns].fillna(0).replace([-np.inf, np.inf], 0)).astype(np.float32)\n",
    "\n",
    "gc.collect()\n",
    "PrintColor(f\"\\n\" + GetMemUsage(), color=Fore.RED)"
   ]
  },
  {
   "cell_type": "code",
   "execution_count": 65,
   "id": "7de39659",
   "metadata": {
    "execution": {
     "iopub.execute_input": "2024-05-19T15:05:50.448574Z",
     "iopub.status.busy": "2024-05-19T15:05:50.448154Z",
     "iopub.status.idle": "2024-05-19T15:07:49.264366Z",
     "shell.execute_reply": "2024-05-19T15:07:49.263045Z"
    },
    "papermill": {
     "duration": 121.198572,
     "end_time": "2024-05-19T15:07:49.267081",
     "exception": false,
     "start_time": "2024-05-19T15:05:48.068509",
     "status": "completed"
    },
    "tags": []
   },
   "outputs": [
    {
     "name": "stdout",
     "output_type": "stream",
     "text": [
      "\u001b[1m11442/11442\u001b[0m \u001b[32m━━━━━━━━━━━━━━━━━━━━\u001b[0m\u001b[37m\u001b[0m \u001b[1m102s\u001b[0m 9ms/step\n"
     ]
    },
    {
     "data": {
      "text/html": [
       "<div><style>\n",
       ".dataframe > thead > tr,\n",
       ".dataframe > tbody > tr {\n",
       "  text-align: right;\n",
       "  white-space: pre-wrap;\n",
       "}\n",
       "</style>\n",
       "<small>shape: (2_928_942, 3)</small><table border=\"1\" class=\"dataframe\"><thead><tr><th>impression_id</th><th>target</th><th>prediction</th></tr><tr><td>u32</td><td>i8</td><td>f32</td></tr></thead><tbody><tr><td>18624038</td><td>1</td><td>0.678817</td></tr><tr><td>36672693</td><td>0</td><td>0.061597</td></tr><tr><td>384352527</td><td>0</td><td>0.34076</td></tr><tr><td>169708633</td><td>0</td><td>0.236041</td></tr><tr><td>150263899</td><td>0</td><td>0.390468</td></tr><tr><td>&hellip;</td><td>&hellip;</td><td>&hellip;</td></tr><tr><td>502501633</td><td>0</td><td>0.017104</td></tr><tr><td>222959401</td><td>0</td><td>0.537127</td></tr><tr><td>114067178</td><td>1</td><td>0.319391</td></tr><tr><td>396241935</td><td>0</td><td>0.047444</td></tr><tr><td>415465314</td><td>1</td><td>0.214577</td></tr></tbody></table></div>"
      ],
      "text/plain": [
       "shape: (2_928_942, 3)\n",
       "┌───────────────┬────────┬────────────┐\n",
       "│ impression_id ┆ target ┆ prediction │\n",
       "│ ---           ┆ ---    ┆ ---        │\n",
       "│ u32           ┆ i8     ┆ f32        │\n",
       "╞═══════════════╪════════╪════════════╡\n",
       "│ 18624038      ┆ 1      ┆ 0.678817   │\n",
       "│ 36672693      ┆ 0      ┆ 0.061597   │\n",
       "│ 384352527     ┆ 0      ┆ 0.34076    │\n",
       "│ 169708633     ┆ 0      ┆ 0.236041   │\n",
       "│ 150263899     ┆ 0      ┆ 0.390468   │\n",
       "│ …             ┆ …      ┆ …          │\n",
       "│ 502501633     ┆ 0      ┆ 0.017104   │\n",
       "│ 222959401     ┆ 0      ┆ 0.537127   │\n",
       "│ 114067178     ┆ 1      ┆ 0.319391   │\n",
       "│ 396241935     ┆ 0      ┆ 0.047444   │\n",
       "│ 415465314     ┆ 1      ┆ 0.214577   │\n",
       "└───────────────┴────────┴────────────┘"
      ]
     },
     "execution_count": 65,
     "metadata": {},
     "output_type": "execute_result"
    }
   ],
   "source": [
    "val_ds = val_ds.with_columns(\n",
    "    pl.Series(\n",
    "        model.predict([X_val[numerical_columns].values] + [X_val[col].values.reshape(-1, 1) for col in categorical_columns], batch_size=256).flatten()\n",
    "    ).alias('prediction')\n",
    ")\n",
    "val_ds.select(['impression_id', 'target', 'prediction'])"
   ]
  },
  {
   "cell_type": "code",
   "execution_count": 66,
   "id": "cac23316",
   "metadata": {
    "execution": {
     "iopub.execute_input": "2024-05-19T15:07:54.312241Z",
     "iopub.status.busy": "2024-05-19T15:07:54.311679Z",
     "iopub.status.idle": "2024-05-19T15:07:54.736301Z",
     "shell.execute_reply": "2024-05-19T15:07:54.735245Z"
    },
    "papermill": {
     "duration": 2.939492,
     "end_time": "2024-05-19T15:07:54.739750",
     "exception": false,
     "start_time": "2024-05-19T15:07:51.800258",
     "status": "completed"
    },
    "tags": []
   },
   "outputs": [
    {
     "name": "stdout",
     "output_type": "stream",
     "text": [
      "\u001b[1m\u001b[31m\n",
      "RAM memory GB usage = 13.95\u001b[0m\n"
     ]
    }
   ],
   "source": [
    "del X_val\n",
    "\n",
    "gc.collect()\n",
    "PrintColor(f\"\\n\" + GetMemUsage(), color=Fore.RED)"
   ]
  },
  {
   "cell_type": "code",
   "execution_count": 67,
   "id": "a076ac7a",
   "metadata": {
    "execution": {
     "iopub.execute_input": "2024-05-19T15:07:59.659898Z",
     "iopub.status.busy": "2024-05-19T15:07:59.659169Z",
     "iopub.status.idle": "2024-05-19T15:07:59.822839Z",
     "shell.execute_reply": "2024-05-19T15:07:59.821676Z"
    },
    "papermill": {
     "duration": 2.696318,
     "end_time": "2024-05-19T15:07:59.825538",
     "exception": false,
     "start_time": "2024-05-19T15:07:57.129220",
     "status": "completed"
    },
    "tags": []
   },
   "outputs": [
    {
     "data": {
      "text/html": [
       "<div><style>\n",
       ".dataframe > thead > tr,\n",
       ".dataframe > tbody > tr {\n",
       "  text-align: right;\n",
       "  white-space: pre-wrap;\n",
       "}\n",
       "</style>\n",
       "<small>shape: (244_647, 3)</small><table border=\"1\" class=\"dataframe\"><thead><tr><th>impression_id</th><th>target</th><th>prediction</th></tr><tr><td>u32</td><td>list[i8]</td><td>list[f32]</td></tr></thead><tbody><tr><td>274845439</td><td>[0, 0, … 0]</td><td>[0.597403, 0.036727, … 0.210239]</td></tr><tr><td>479643508</td><td>[0, 1, … 0]</td><td>[0.389359, 0.210003, … 0.069514]</td></tr><tr><td>287333920</td><td>[1, 0, … 0]</td><td>[0.408522, 0.083474, … 0.081962]</td></tr><tr><td>220871335</td><td>[0, 0, … 0]</td><td>[0.360957, 0.024378, … 0.039176]</td></tr><tr><td>98866035</td><td>[0, 0, … 0]</td><td>[0.035912, 0.019668, … 0.039165]</td></tr><tr><td>&hellip;</td><td>&hellip;</td><td>&hellip;</td></tr><tr><td>216859845</td><td>[0, 0, … 0]</td><td>[0.046129, 0.312971, … 0.098609]</td></tr><tr><td>120512604</td><td>[0, 0, … 0]</td><td>[0.13756, 0.033969, … 0.028542]</td></tr><tr><td>347228980</td><td>[0, 0, … 0]</td><td>[0.648804, 0.683085, … 0.14262]</td></tr><tr><td>374349505</td><td>[1, 0, … 0]</td><td>[0.349128, 0.041179, … 0.878232]</td></tr><tr><td>493311336</td><td>[0, 0, … 1]</td><td>[0.569341, 0.14277, … 0.324684]</td></tr></tbody></table></div>"
      ],
      "text/plain": [
       "shape: (244_647, 3)\n",
       "┌───────────────┬─────────────┬─────────────────────────────────┐\n",
       "│ impression_id ┆ target      ┆ prediction                      │\n",
       "│ ---           ┆ ---         ┆ ---                             │\n",
       "│ u32           ┆ list[i8]    ┆ list[f32]                       │\n",
       "╞═══════════════╪═════════════╪═════════════════════════════════╡\n",
       "│ 274845439     ┆ [0, 0, … 0] ┆ [0.597403, 0.036727, … 0.21023… │\n",
       "│ 479643508     ┆ [0, 1, … 0] ┆ [0.389359, 0.210003, … 0.06951… │\n",
       "│ 287333920     ┆ [1, 0, … 0] ┆ [0.408522, 0.083474, … 0.08196… │\n",
       "│ 220871335     ┆ [0, 0, … 0] ┆ [0.360957, 0.024378, … 0.03917… │\n",
       "│ 98866035      ┆ [0, 0, … 0] ┆ [0.035912, 0.019668, … 0.03916… │\n",
       "│ …             ┆ …           ┆ …                               │\n",
       "│ 216859845     ┆ [0, 0, … 0] ┆ [0.046129, 0.312971, … 0.09860… │\n",
       "│ 120512604     ┆ [0, 0, … 0] ┆ [0.13756, 0.033969, … 0.028542… │\n",
       "│ 347228980     ┆ [0, 0, … 0] ┆ [0.648804, 0.683085, … 0.14262… │\n",
       "│ 374349505     ┆ [1, 0, … 0] ┆ [0.349128, 0.041179, … 0.87823… │\n",
       "│ 493311336     ┆ [0, 0, … 1] ┆ [0.569341, 0.14277, … 0.324684… │\n",
       "└───────────────┴─────────────┴─────────────────────────────────┘"
      ]
     },
     "execution_count": 67,
     "metadata": {},
     "output_type": "execute_result"
    }
   ],
   "source": [
    "evaluation_ds = val_ds.group_by('impression_id').agg(pl.col('target'), pl.col('prediction'))\n",
    "evaluation_ds"
   ]
  },
  {
   "cell_type": "code",
   "execution_count": 68,
   "id": "db4eaec0",
   "metadata": {
    "execution": {
     "iopub.execute_input": "2024-05-19T15:08:04.886718Z",
     "iopub.status.busy": "2024-05-19T15:08:04.885848Z",
     "iopub.status.idle": "2024-05-19T15:16:49.331756Z",
     "shell.execute_reply": "2024-05-19T15:16:49.329539Z"
    },
    "papermill": {
     "duration": 529.380815,
     "end_time": "2024-05-19T15:16:51.745907",
     "exception": false,
     "start_time": "2024-05-19T15:08:02.365092",
     "status": "completed"
    },
    "tags": []
   },
   "outputs": [
    {
     "name": "stdout",
     "output_type": "stream",
     "text": [
      "CPU times: user 8min 43s, sys: 104 ms, total: 8min 43s\n",
      "Wall time: 8min 44s\n"
     ]
    },
    {
     "data": {
      "text/plain": [
       "<MetricEvaluator class>: \n",
       " {\n",
       "    \"auc\": 0.8031585969871823,\n",
       "    \"mrr\": 0.5888105178548648,\n",
       "    \"ndcg@5\": 0.6556428956320332,\n",
       "    \"ndcg@10\": 0.6811316485917643\n",
       "}"
      ]
     },
     "execution_count": 68,
     "metadata": {},
     "output_type": "execute_result"
    }
   ],
   "source": [
    "%%time\n",
    "\n",
    "met_eval = MetricEvaluator(\n",
    "    labels=evaluation_ds['target'].to_list(),\n",
    "    predictions=evaluation_ds['prediction'].to_list(),\n",
    "    metric_functions=[\n",
    "        AucScore(),\n",
    "        MrrScore(),\n",
    "        NdcgScore(k=5),\n",
    "        NdcgScore(k=10),\n",
    "    ],\n",
    ")\n",
    "met_eval.evaluate()"
   ]
  },
  {
   "cell_type": "code",
   "execution_count": 69,
   "id": "74a4455a",
   "metadata": {
    "execution": {
     "iopub.execute_input": "2024-05-19T15:16:56.790229Z",
     "iopub.status.busy": "2024-05-19T15:16:56.789815Z",
     "iopub.status.idle": "2024-05-19T15:16:57.329103Z",
     "shell.execute_reply": "2024-05-19T15:16:57.327686Z"
    },
    "papermill": {
     "duration": 3.063881,
     "end_time": "2024-05-19T15:16:57.332150",
     "exception": false,
     "start_time": "2024-05-19T15:16:54.268269",
     "status": "completed"
    },
    "tags": []
   },
   "outputs": [],
   "source": [
    "import joblib\n",
    "\n",
    "model.save('/kaggle/working/wide_deep.keras')\n",
    "joblib.dump(categorical_encoder, '/kaggle/working/categorical_encoder.joblib')\n",
    "joblib.dump(numerical_transformer, '/kaggle/working/numerical_transformer.joblib')\n",
    "val_ds.write_parquet('/kaggle/working/wide_deep_predictions.parquet')"
   ]
  }
 ],
 "metadata": {
  "kaggle": {
   "accelerator": "none",
   "dataSources": [
    {
     "datasetId": 4622414,
     "sourceId": 8418097,
     "sourceType": "datasetVersion"
    }
   ],
   "dockerImageVersionId": 30673,
   "isGpuEnabled": false,
   "isInternetEnabled": true,
   "language": "python",
   "sourceType": "notebook"
  },
  "kernelspec": {
   "display_name": "Python 3",
   "language": "python",
   "name": "python3"
  },
  "language_info": {
   "codemirror_mode": {
    "name": "ipython",
    "version": 3
   },
   "file_extension": ".py",
   "mimetype": "text/x-python",
   "name": "python",
   "nbconvert_exporter": "python",
   "pygments_lexer": "ipython3",
   "version": "3.10.13"
  },
  "papermill": {
   "default_parameters": {},
   "duration": 9172.573176,
   "end_time": "2024-05-19T15:17:02.834805",
   "environment_variables": {},
   "exception": null,
   "input_path": "__notebook__.ipynb",
   "output_path": "__notebook__.ipynb",
   "parameters": {},
   "start_time": "2024-05-19T12:44:10.261629",
   "version": "2.5.0"
  },
  "widgets": {
   "application/vnd.jupyter.widget-state+json": {
    "state": {
     "46d8ab1d46cf4d14978f4d2b493c2a92": {
      "model_module": "@jupyter-widgets/output",
      "model_module_version": "1.0.0",
      "model_name": "OutputModel",
      "state": {
       "_dom_classes": [],
       "_model_module": "@jupyter-widgets/output",
       "_model_module_version": "1.0.0",
       "_model_name": "OutputModel",
       "_view_count": null,
       "_view_module": "@jupyter-widgets/output",
       "_view_module_version": "1.0.0",
       "_view_name": "OutputView",
       "layout": "IPY_MODEL_a84e66ae938f4771bae7e21f71ee9c55",
       "msg_id": "",
       "outputs": [
        {
         "data": {
          "text/html": "<pre style=\"white-space:pre;overflow-x:auto;line-height:normal;font-family:Menlo,'DejaVu Sans Mono',consolas,'Courier New',monospace\">Getting category               <span style=\"color: #729c1f; text-decoration-color: #729c1f\">━━━━━━━━━━━━━━━━━━━━━━━━━━━━━━━━━━━━━━━━</span> <span style=\"color: #800080; text-decoration-color: #800080\">100%</span> <span style=\"color: #008080; text-decoration-color: #008080\">0:00:00</span>\nGetting article_type           <span style=\"color: #729c1f; text-decoration-color: #729c1f\">━━━━━━━━━━━━━━━━━━━━━━━━━━━━━━━━━━━━━━━━</span> <span style=\"color: #800080; text-decoration-color: #800080\">100%</span> <span style=\"color: #008080; text-decoration-color: #008080\">0:00:00</span>\nGetting sentiment_label        <span style=\"color: #729c1f; text-decoration-color: #729c1f\">━━━━━━━━━━━━━━━━━━━━━━━━━━━━━━━━━━━━━━━━</span> <span style=\"color: #800080; text-decoration-color: #800080\">100%</span> <span style=\"color: #008080; text-decoration-color: #008080\">0:00:00</span>\nGetting sentiment_score        <span style=\"color: #729c1f; text-decoration-color: #729c1f\">━━━━━━━━━━━━━━━━━━━━━━━━━━━━━━━━━━━━━━━━</span> <span style=\"color: #800080; text-decoration-color: #800080\">100%</span> <span style=\"color: #008080; text-decoration-color: #008080\">0:00:00</span>\nGetting entity_groups          <span style=\"color: #729c1f; text-decoration-color: #729c1f\">━━━━━━━━━━━━━━━━━━━━━━━━━━━━━━━━━━━━━━━━</span> <span style=\"color: #800080; text-decoration-color: #800080\">100%</span> <span style=\"color: #008080; text-decoration-color: #008080\">0:00:00</span>\nGetting detailed entity_groups <span style=\"color: #729c1f; text-decoration-color: #729c1f\">━━━━━━━━━━━━━━━━━━━━━━━━━━━━━━━━━━━━━━━━</span> <span style=\"color: #800080; text-decoration-color: #800080\">100%</span> <span style=\"color: #008080; text-decoration-color: #008080\">0:00:00</span>\nGetting topics                 <span style=\"color: #729c1f; text-decoration-color: #729c1f\">━━━━━━━━━━━━━━━━━━━━━━━━━━━━━━━━━━━━━━━━</span> <span style=\"color: #800080; text-decoration-color: #800080\">100%</span> <span style=\"color: #008080; text-decoration-color: #008080\">0:00:00</span>\n</pre>\n",
          "text/plain": "Getting category               \u001b[38;2;114;156;31m━━━━━━━━━━━━━━━━━━━━━━━━━━━━━━━━━━━━━━━━\u001b[0m \u001b[35m100%\u001b[0m \u001b[36m0:00:00\u001b[0m\nGetting article_type           \u001b[38;2;114;156;31m━━━━━━━━━━━━━━━━━━━━━━━━━━━━━━━━━━━━━━━━\u001b[0m \u001b[35m100%\u001b[0m \u001b[36m0:00:00\u001b[0m\nGetting sentiment_label        \u001b[38;2;114;156;31m━━━━━━━━━━━━━━━━━━━━━━━━━━━━━━━━━━━━━━━━\u001b[0m \u001b[35m100%\u001b[0m \u001b[36m0:00:00\u001b[0m\nGetting sentiment_score        \u001b[38;2;114;156;31m━━━━━━━━━━━━━━━━━━━━━━━━━━━━━━━━━━━━━━━━\u001b[0m \u001b[35m100%\u001b[0m \u001b[36m0:00:00\u001b[0m\nGetting entity_groups          \u001b[38;2;114;156;31m━━━━━━━━━━━━━━━━━━━━━━━━━━━━━━━━━━━━━━━━\u001b[0m \u001b[35m100%\u001b[0m \u001b[36m0:00:00\u001b[0m\nGetting detailed entity_groups \u001b[38;2;114;156;31m━━━━━━━━━━━━━━━━━━━━━━━━━━━━━━━━━━━━━━━━\u001b[0m \u001b[35m100%\u001b[0m \u001b[36m0:00:00\u001b[0m\nGetting topics                 \u001b[38;2;114;156;31m━━━━━━━━━━━━━━━━━━━━━━━━━━━━━━━━━━━━━━━━\u001b[0m \u001b[35m100%\u001b[0m \u001b[36m0:00:00\u001b[0m\n"
         },
         "metadata": {},
         "output_type": "display_data"
        }
       ]
      }
     },
     "71bf4046e9af422296671aab9819dece": {
      "model_module": "@jupyter-widgets/base",
      "model_module_version": "1.2.0",
      "model_name": "LayoutModel",
      "state": {
       "_model_module": "@jupyter-widgets/base",
       "_model_module_version": "1.2.0",
       "_model_name": "LayoutModel",
       "_view_count": null,
       "_view_module": "@jupyter-widgets/base",
       "_view_module_version": "1.2.0",
       "_view_name": "LayoutView",
       "align_content": null,
       "align_items": null,
       "align_self": null,
       "border": null,
       "bottom": null,
       "display": null,
       "flex": null,
       "flex_flow": null,
       "grid_area": null,
       "grid_auto_columns": null,
       "grid_auto_flow": null,
       "grid_auto_rows": null,
       "grid_column": null,
       "grid_gap": null,
       "grid_row": null,
       "grid_template_areas": null,
       "grid_template_columns": null,
       "grid_template_rows": null,
       "height": null,
       "justify_content": null,
       "justify_items": null,
       "left": null,
       "margin": null,
       "max_height": null,
       "max_width": null,
       "min_height": null,
       "min_width": null,
       "object_fit": null,
       "object_position": null,
       "order": null,
       "overflow": null,
       "overflow_x": null,
       "overflow_y": null,
       "padding": null,
       "right": null,
       "top": null,
       "visibility": null,
       "width": null
      }
     },
     "a84e66ae938f4771bae7e21f71ee9c55": {
      "model_module": "@jupyter-widgets/base",
      "model_module_version": "1.2.0",
      "model_name": "LayoutModel",
      "state": {
       "_model_module": "@jupyter-widgets/base",
       "_model_module_version": "1.2.0",
       "_model_name": "LayoutModel",
       "_view_count": null,
       "_view_module": "@jupyter-widgets/base",
       "_view_module_version": "1.2.0",
       "_view_name": "LayoutView",
       "align_content": null,
       "align_items": null,
       "align_self": null,
       "border": null,
       "bottom": null,
       "display": null,
       "flex": null,
       "flex_flow": null,
       "grid_area": null,
       "grid_auto_columns": null,
       "grid_auto_flow": null,
       "grid_auto_rows": null,
       "grid_column": null,
       "grid_gap": null,
       "grid_row": null,
       "grid_template_areas": null,
       "grid_template_columns": null,
       "grid_template_rows": null,
       "height": null,
       "justify_content": null,
       "justify_items": null,
       "left": null,
       "margin": null,
       "max_height": null,
       "max_width": null,
       "min_height": null,
       "min_width": null,
       "object_fit": null,
       "object_position": null,
       "order": null,
       "overflow": null,
       "overflow_x": null,
       "overflow_y": null,
       "padding": null,
       "right": null,
       "top": null,
       "visibility": null,
       "width": null
      }
     },
     "c655e58a35e3490888f01103be14ab47": {
      "model_module": "@jupyter-widgets/output",
      "model_module_version": "1.0.0",
      "model_name": "OutputModel",
      "state": {
       "_dom_classes": [],
       "_model_module": "@jupyter-widgets/output",
       "_model_module_version": "1.0.0",
       "_model_name": "OutputModel",
       "_view_count": null,
       "_view_module": "@jupyter-widgets/output",
       "_view_module_version": "1.0.0",
       "_view_name": "OutputView",
       "layout": "IPY_MODEL_71bf4046e9af422296671aab9819dece",
       "msg_id": "",
       "outputs": [
        {
         "data": {
          "text/html": "<pre style=\"white-space:pre;overflow-x:auto;line-height:normal;font-family:Menlo,'DejaVu Sans Mono',consolas,'Courier New',monospace\">Getting category               <span style=\"color: #729c1f; text-decoration-color: #729c1f\">━━━━━━━━━━━━━━━━━━━━━━━━━━━━━━━━━━━━━━━━</span> <span style=\"color: #800080; text-decoration-color: #800080\">100%</span> <span style=\"color: #008080; text-decoration-color: #008080\">0:00:00</span>\nGetting article_type           <span style=\"color: #729c1f; text-decoration-color: #729c1f\">━━━━━━━━━━━━━━━━━━━━━━━━━━━━━━━━━━━━━━━━</span> <span style=\"color: #800080; text-decoration-color: #800080\">100%</span> <span style=\"color: #008080; text-decoration-color: #008080\">0:00:00</span>\nGetting sentiment_label        <span style=\"color: #729c1f; text-decoration-color: #729c1f\">━━━━━━━━━━━━━━━━━━━━━━━━━━━━━━━━━━━━━━━━</span> <span style=\"color: #800080; text-decoration-color: #800080\">100%</span> <span style=\"color: #008080; text-decoration-color: #008080\">0:00:00</span>\nGetting sentiment_score        <span style=\"color: #729c1f; text-decoration-color: #729c1f\">━━━━━━━━━━━━━━━━━━━━━━━━━━━━━━━━━━━━━━━━</span> <span style=\"color: #800080; text-decoration-color: #800080\">100%</span> <span style=\"color: #008080; text-decoration-color: #008080\">0:00:00</span>\nGetting entity_groups          <span style=\"color: #729c1f; text-decoration-color: #729c1f\">━━━━━━━━━━━━━━━━━━━━━━━━━━━━━━━━━━━━━━━━</span> <span style=\"color: #800080; text-decoration-color: #800080\">100%</span> <span style=\"color: #008080; text-decoration-color: #008080\">0:00:00</span>\nGetting detailed entity_groups <span style=\"color: #729c1f; text-decoration-color: #729c1f\">━━━━━━━━━━━━━━━━━━━━━━━━━━━━━━━━━━━━━━━━</span> <span style=\"color: #800080; text-decoration-color: #800080\">100%</span> <span style=\"color: #008080; text-decoration-color: #008080\">0:00:00</span>\nGetting topics                 <span style=\"color: #729c1f; text-decoration-color: #729c1f\">━━━━━━━━━━━━━━━━━━━━━━━━━━━━━━━━━━━━━━━━</span> <span style=\"color: #800080; text-decoration-color: #800080\">100%</span> <span style=\"color: #008080; text-decoration-color: #008080\">0:00:00</span>\n</pre>\n",
          "text/plain": "Getting category               \u001b[38;2;114;156;31m━━━━━━━━━━━━━━━━━━━━━━━━━━━━━━━━━━━━━━━━\u001b[0m \u001b[35m100%\u001b[0m \u001b[36m0:00:00\u001b[0m\nGetting article_type           \u001b[38;2;114;156;31m━━━━━━━━━━━━━━━━━━━━━━━━━━━━━━━━━━━━━━━━\u001b[0m \u001b[35m100%\u001b[0m \u001b[36m0:00:00\u001b[0m\nGetting sentiment_label        \u001b[38;2;114;156;31m━━━━━━━━━━━━━━━━━━━━━━━━━━━━━━━━━━━━━━━━\u001b[0m \u001b[35m100%\u001b[0m \u001b[36m0:00:00\u001b[0m\nGetting sentiment_score        \u001b[38;2;114;156;31m━━━━━━━━━━━━━━━━━━━━━━━━━━━━━━━━━━━━━━━━\u001b[0m \u001b[35m100%\u001b[0m \u001b[36m0:00:00\u001b[0m\nGetting entity_groups          \u001b[38;2;114;156;31m━━━━━━━━━━━━━━━━━━━━━━━━━━━━━━━━━━━━━━━━\u001b[0m \u001b[35m100%\u001b[0m \u001b[36m0:00:00\u001b[0m\nGetting detailed entity_groups \u001b[38;2;114;156;31m━━━━━━━━━━━━━━━━━━━━━━━━━━━━━━━━━━━━━━━━\u001b[0m \u001b[35m100%\u001b[0m \u001b[36m0:00:00\u001b[0m\nGetting topics                 \u001b[38;2;114;156;31m━━━━━━━━━━━━━━━━━━━━━━━━━━━━━━━━━━━━━━━━\u001b[0m \u001b[35m100%\u001b[0m \u001b[36m0:00:00\u001b[0m\n"
         },
         "metadata": {},
         "output_type": "display_data"
        }
       ]
      }
     }
    },
    "version_major": 2,
    "version_minor": 0
   }
  }
 },
 "nbformat": 4,
 "nbformat_minor": 5
}
