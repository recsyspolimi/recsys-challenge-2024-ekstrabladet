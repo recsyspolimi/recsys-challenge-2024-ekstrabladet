{
 "cells": [
  {
   "cell_type": "code",
   "execution_count": 25,
   "metadata": {},
   "outputs": [],
   "source": [
    "import numpy as np\n",
    "import polars as pl\n",
    "from tqdm import tqdm\n",
    "from polimi.utils._polars import reduce_polars_df_memory_size"
   ]
  },
  {
   "cell_type": "code",
   "execution_count": 26,
   "metadata": {},
   "outputs": [],
   "source": [
    "from pathlib import Path\n",
    "\n",
    "\n",
    "dpath = Path('../../dataset')\n",
    "emb_dir = dpath\n",
    "dtype = 'small'\n",
    "articles = pl.read_parquet(f'{dpath}/ebnerd_{dtype}/articles.parquet')\n",
    "\n",
    "behaviors_train = pl.read_parquet(f'{dpath}/ebnerd_{dtype}/train/behaviors.parquet')\n",
    "history_train = pl.read_parquet(f'{dpath}/ebnerd_{dtype}/train/history.parquet')"
   ]
  },
  {
   "cell_type": "markdown",
   "metadata": {},
   "source": [
    "# Test"
   ]
  },
  {
   "cell_type": "code",
   "execution_count": 3,
   "metadata": {},
   "outputs": [
    {
     "data": {
      "text/html": [
       "<div><style>\n",
       ".dataframe > thead > tr,\n",
       ".dataframe > tbody > tr {\n",
       "  text-align: right;\n",
       "  white-space: pre-wrap;\n",
       "}\n",
       "</style>\n",
       "<small>shape: (2, 3)</small><table border=\"1\" class=\"dataframe\"><thead><tr><th>index</th><th>article_id</th><th>embedding</th></tr><tr><td>u32</td><td>i32</td><td>list[f32]</td></tr></thead><tbody><tr><td>0</td><td>3000022</td><td>[-0.033208, -0.013787, … -0.036042]</td></tr><tr><td>1</td><td>3000063</td><td>[-0.047797, -0.025657, … 0.018883]</td></tr></tbody></table></div>"
      ],
      "text/plain": [
       "shape: (2, 3)\n",
       "┌───────┬────────────┬─────────────────────────────────┐\n",
       "│ index ┆ article_id ┆ embedding                       │\n",
       "│ ---   ┆ ---        ┆ ---                             │\n",
       "│ u32   ┆ i32        ┆ list[f32]                       │\n",
       "╞═══════╪════════════╪═════════════════════════════════╡\n",
       "│ 0     ┆ 3000022    ┆ [-0.033208, -0.013787, … -0.03… │\n",
       "│ 1     ┆ 3000063    ┆ [-0.047797, -0.025657, … 0.018… │\n",
       "└───────┴────────────┴─────────────────────────────────┘"
      ]
     },
     "execution_count": 3,
     "metadata": {},
     "output_type": "execute_result"
    }
   ],
   "source": [
    "embeddings = pl.read_parquet(emb_dir / 'Ekstra_Bladet_image_embeddings' / 'image_embeddings.parquet').sort('article_id')\n",
    "embeddings.columns = ['article_id', 'embedding']\n",
    "emb_size = len(embeddings['embedding'][0])\n",
    "missing_articles_in_embedding = list(set(articles['article_id'].to_numpy()) - set(embeddings['article_id'].to_numpy()))\n",
    "null_vector = np.zeros(emb_size, dtype=np.float32)\n",
    "embeddings = embeddings.vstack(pl.DataFrame({'article_id': missing_articles_in_embedding, 'embedding': [null_vector] * len(missing_articles_in_embedding)}))\n",
    "embeddings = embeddings.with_row_index()\n",
    "embeddings.head(2)"
   ]
  },
  {
   "cell_type": "code",
   "execution_count": 4,
   "metadata": {},
   "outputs": [
    {
     "data": {
      "text/plain": [
       "True"
      ]
     },
     "execution_count": 4,
     "metadata": {},
     "output_type": "execute_result"
    }
   ],
   "source": [
    "all_zero_embeddings = embeddings.with_columns(pl.col('embedding').list.eval(pl.element() == 0.0).list.all().alias('check'))\n",
    "are_all_zero_embeddings_present = len(all_zero_embeddings.filter(pl.col('check') == True)) > 0\n",
    "are_all_zero_embeddings_present"
   ]
  },
  {
   "cell_type": "code",
   "execution_count": 5,
   "metadata": {},
   "outputs": [
    {
     "data": {
      "text/plain": [
       "(106346, 1024)"
      ]
     },
     "execution_count": 5,
     "metadata": {},
     "output_type": "execute_result"
    }
   ],
   "source": [
    "m_non_norm = np.array([np.array(x) for x in embeddings['embedding'].to_numpy()])\n",
    "row_norms = np.linalg.norm(m_non_norm, axis=1, keepdims=True)\n",
    "m = m_non_norm / (row_norms + 1e-6)\n",
    "m.shape"
   ]
  },
  {
   "cell_type": "code",
   "execution_count": 6,
   "metadata": {},
   "outputs": [
    {
     "data": {
      "text/html": [
       "<div><style>\n",
       ".dataframe > thead > tr,\n",
       ".dataframe > tbody > tr {\n",
       "  text-align: right;\n",
       "  white-space: pre-wrap;\n",
       "}\n",
       "</style>\n",
       "<small>shape: (1, 2)</small><table border=\"1\" class=\"dataframe\"><thead><tr><th>index</th><th>article_id</th></tr><tr><td>u32</td><td>i32</td></tr></thead><tbody><tr><td>0</td><td>3000022</td></tr></tbody></table></div>"
      ],
      "text/plain": [
       "shape: (1, 2)\n",
       "┌───────┬────────────┐\n",
       "│ index ┆ article_id │\n",
       "│ ---   ┆ ---        │\n",
       "│ u32   ┆ i32        │\n",
       "╞═══════╪════════════╡\n",
       "│ 0     ┆ 3000022    │\n",
       "└───────┴────────────┘"
      ]
     },
     "execution_count": 6,
     "metadata": {},
     "output_type": "execute_result"
    }
   ],
   "source": [
    "article_emb_mapping = embeddings.select('index', 'article_id')\n",
    "article_emb_mapping.head(1)"
   ]
  },
  {
   "cell_type": "code",
   "execution_count": 7,
   "metadata": {},
   "outputs": [
    {
     "data": {
      "text/plain": [
       "(15143,)"
      ]
     },
     "execution_count": 7,
     "metadata": {},
     "output_type": "execute_result"
    }
   ],
   "source": [
    "history_m = history_train.select('user_id', pl.col('article_id_fixed').list.eval(pl.element().replace(article_emb_mapping['article_id'], article_emb_mapping['index'], default=None).drop_nulls())).with_row_index('user_index')\n",
    "user_history_map = history_m.select('user_id', 'user_index')\n",
    "history_m = history_m['article_id_fixed'].to_numpy()\n",
    "history_m.shape"
   ]
  },
  {
   "cell_type": "code",
   "execution_count": 8,
   "metadata": {},
   "outputs": [
    {
     "name": "stdout",
     "output_type": "stream",
     "text": [
      "Memory usage of dataframe is 25.95 MB\n",
      "Memory usage after optimization is: 25.95 MB\n",
      "Decreased by 0.0%\n"
     ]
    },
    {
     "data": {
      "text/html": [
       "<div><style>\n",
       ".dataframe > thead > tr,\n",
       ".dataframe > tbody > tr {\n",
       "  text-align: right;\n",
       "  white-space: pre-wrap;\n",
       "}\n",
       "</style>\n",
       "<small>shape: (2, 5)</small><table border=\"1\" class=\"dataframe\"><thead><tr><th>impression_id</th><th>user_id</th><th>article</th><th>user_index</th><th>article_index</th></tr><tr><td>u32</td><td>u32</td><td>list[i32]</td><td>u32</td><td>list[u32]</td></tr></thead><tbody><tr><td>149474</td><td>139836</td><td>[9778623, 9778682, … 9778728]</td><td>11894</td><td>[100868, 100874, … 100879]</td></tr><tr><td>150528</td><td>143471</td><td>[9778718, 9778728, … 9778682]</td><td>7016</td><td>[105241, 100879, … 100874]</td></tr></tbody></table></div>"
      ],
      "text/plain": [
       "shape: (2, 5)\n",
       "┌───────────────┬─────────┬──────────────────────┬────────────┬────────────────────────────┐\n",
       "│ impression_id ┆ user_id ┆ article              ┆ user_index ┆ article_index              │\n",
       "│ ---           ┆ ---     ┆ ---                  ┆ ---        ┆ ---                        │\n",
       "│ u32           ┆ u32     ┆ list[i32]            ┆ u32        ┆ list[u32]                  │\n",
       "╞═══════════════╪═════════╪══════════════════════╪════════════╪════════════════════════════╡\n",
       "│ 149474        ┆ 139836  ┆ [9778623, 9778682, … ┆ 11894      ┆ [100868, 100874, … 100879] │\n",
       "│               ┆         ┆ 9778728]             ┆            ┆                            │\n",
       "│ 150528        ┆ 143471  ┆ [9778718, 9778728, … ┆ 7016       ┆ [105241, 100879, … 100874] │\n",
       "│               ┆         ┆ 9778682]             ┆            ┆                            │\n",
       "└───────────────┴─────────┴──────────────────────┴────────────┴────────────────────────────┘"
      ]
     },
     "execution_count": 8,
     "metadata": {},
     "output_type": "execute_result"
    }
   ],
   "source": [
    "df = behaviors_train.select('impression_id', 'user_id', pl.col('article_ids_inview').alias('article'))\\\n",
    "    .join(user_history_map, on='user_id')\\\n",
    "    .with_columns(\n",
    "        pl.col('article').list.eval(pl.element().replace(article_emb_mapping['article_id'], article_emb_mapping['index'], default=None)).name.suffix('_index'),\n",
    "    ).drop('impression_time_fixed', 'scroll_percentage_fixed', 'read_time_fixed')\n",
    "\n",
    "df = reduce_polars_df_memory_size(df)\n",
    "df.head(2)"
   ]
  },
  {
   "cell_type": "code",
   "execution_count": 9,
   "metadata": {},
   "outputs": [
    {
     "name": "stderr",
     "output_type": "stream",
     "text": [
      "  3%|▎         | 466/15143 [00:01<00:43, 335.16it/s]\n"
     ]
    },
    {
     "data": {
      "text/html": [
       "<div><style>\n",
       ".dataframe > thead > tr,\n",
       ".dataframe > tbody > tr {\n",
       "  text-align: right;\n",
       "  white-space: pre-wrap;\n",
       "}\n",
       "</style>\n",
       "<small>shape: (1_000, 5)</small><table border=\"1\" class=\"dataframe\"><thead><tr><th>impression_id</th><th>user_id</th><th>user_index</th><th>article</th><th>scores</th></tr><tr><td>u32</td><td>u32</td><td>u32</td><td>list[i32]</td><td>list[list[f32]]</td></tr></thead><tbody><tr><td>149474</td><td>139836</td><td>11894</td><td>[9778623, 9778682, … 9778728]</td><td>[[0.546279, 0.456443, … 0.068054], [0.108021, -0.134935, … 0.308029], … [0.789861, 0.399746, … -0.11546]]</td></tr><tr><td>150528</td><td>143471</td><td>7016</td><td>[9778718, 9778728, … 9778682]</td><td>[[0.0, 0.0, … 0.0], [0.766936, 0.0, … 0.0], … [0.028365, 0.0, … 0.0]]</td></tr><tr><td>153070</td><td>151570</td><td>7074</td><td>[9020783, 9778444, … 9778628]</td><td>[[0.552781, 0.0, … 0.519307], [0.0, 0.0, … 0.0], … [-0.077273, 0.0, … 0.123942]]</td></tr><tr><td>153078</td><td>151570</td><td>7074</td><td>[9778021, 9778627, … 7213923]</td><td>[[0.427206, 0.0, … 0.154384], [0.239121, 0.0, … 0.156372], … [-0.068958, 0.0, … -0.38356]]</td></tr><tr><td>153075</td><td>151570</td><td>7074</td><td>[9778500, 9776420, … 9020783]</td><td>[[0.290248, 0.0, … -0.126946], [-0.170831, 0.0, … 0.305366], … [0.552781, 0.0, … 0.519307]]</td></tr><tr><td>&hellip;</td><td>&hellip;</td><td>&hellip;</td><td>&hellip;</td><td>&hellip;</td></tr><tr><td>2433248</td><td>1606050</td><td>14460</td><td>[9552181, 9779263, … 9547869]</td><td>[[0.0, 0.0, … 0.0], [0.37884, 0.271457, … -0.0275], … [0.62122, 0.070636, … 0.213934]]</td></tr><tr><td>2433256</td><td>1606050</td><td>14460</td><td>[9483850, 9779648, … 9779777]</td><td>[[0.337382, -0.065383, … 0.307274], [0.0, 0.0, … 0.0], … [0.0, 0.0, … 0.0]]</td></tr><tr><td>2435848</td><td>1692081</td><td>10750</td><td>[9779263, 9779205, … 9779577]</td><td>[[-0.135781, 0.201273, … 0.452139], [0.197592, 0.566438, … 0.604189], … [0.629099, 0.220339, … 0.12199]]</td></tr><tr><td>2435885</td><td>1695195</td><td>10254</td><td>[9658252, 9569934, … 9775885]</td><td>[[0.59537, 0.322892, … 0.576517], [-0.082606, -0.137399, … -0.313506], … [0.004153, 0.27604, … 0.32076]]</td></tr><tr><td>2436801</td><td>1729576</td><td>3516</td><td>[9780181, 9780193, … 9780195]</td><td>[[0.803103, -0.186405, … 0.44114], [0.0, 0.0, … 0.0], … [0.152103, 0.311306, … 0.014977]]</td></tr></tbody></table></div>"
      ],
      "text/plain": [
       "shape: (1_000, 5)\n",
       "┌───────────────┬─────────┬────────────┬──────────────────────┬─────────────────────────────────┐\n",
       "│ impression_id ┆ user_id ┆ user_index ┆ article              ┆ scores                          │\n",
       "│ ---           ┆ ---     ┆ ---        ┆ ---                  ┆ ---                             │\n",
       "│ u32           ┆ u32     ┆ u32        ┆ list[i32]            ┆ list[list[f32]]                 │\n",
       "╞═══════════════╪═════════╪════════════╪══════════════════════╪═════════════════════════════════╡\n",
       "│ 149474        ┆ 139836  ┆ 11894      ┆ [9778623, 9778682, … ┆ [[0.546279, 0.456443, … 0.0680… │\n",
       "│               ┆         ┆            ┆ 9778728]             ┆                                 │\n",
       "│ 150528        ┆ 143471  ┆ 7016       ┆ [9778718, 9778728, … ┆ [[0.0, 0.0, … 0.0], [0.766936,… │\n",
       "│               ┆         ┆            ┆ 9778682]             ┆                                 │\n",
       "│ 153070        ┆ 151570  ┆ 7074       ┆ [9020783, 9778444, … ┆ [[0.552781, 0.0, … 0.519307], … │\n",
       "│               ┆         ┆            ┆ 9778628]             ┆                                 │\n",
       "│ 153078        ┆ 151570  ┆ 7074       ┆ [9778021, 9778627, … ┆ [[0.427206, 0.0, … 0.154384], … │\n",
       "│               ┆         ┆            ┆ 7213923]             ┆                                 │\n",
       "│ 153075        ┆ 151570  ┆ 7074       ┆ [9778500, 9776420, … ┆ [[0.290248, 0.0, … -0.126946],… │\n",
       "│               ┆         ┆            ┆ 9020783]             ┆                                 │\n",
       "│ …             ┆ …       ┆ …          ┆ …                    ┆ …                               │\n",
       "│ 2433248       ┆ 1606050 ┆ 14460      ┆ [9552181, 9779263, … ┆ [[0.0, 0.0, … 0.0], [0.37884, … │\n",
       "│               ┆         ┆            ┆ 9547869]             ┆                                 │\n",
       "│ 2433256       ┆ 1606050 ┆ 14460      ┆ [9483850, 9779648, … ┆ [[0.337382, -0.065383, … 0.307… │\n",
       "│               ┆         ┆            ┆ 9779777]             ┆                                 │\n",
       "│ 2435848       ┆ 1692081 ┆ 10750      ┆ [9779263, 9779205, … ┆ [[-0.135781, 0.201273, … 0.452… │\n",
       "│               ┆         ┆            ┆ 9779577]             ┆                                 │\n",
       "│ 2435885       ┆ 1695195 ┆ 10254      ┆ [9658252, 9569934, … ┆ [[0.59537, 0.322892, … 0.57651… │\n",
       "│               ┆         ┆            ┆ 9775885]             ┆                                 │\n",
       "│ 2436801       ┆ 1729576 ┆ 3516       ┆ [9780181, 9780193, … ┆ [[0.803103, -0.186405, … 0.441… │\n",
       "│               ┆         ┆            ┆ 9780195]             ┆                                 │\n",
       "└───────────────┴─────────┴────────────┴──────────────────────┴─────────────────────────────────┘"
      ]
     },
     "execution_count": 9,
     "metadata": {},
     "output_type": "execute_result"
    }
   ],
   "source": [
    "scores_df = pl.concat([\n",
    "    slice.explode(['article_index', 'article']).with_columns(scores = np.dot(\n",
    "        m[slice['article_index'].explode().to_numpy()], \n",
    "        m[history_m[key[0]]].T))\\\n",
    "    .group_by(['impression_id', 'user_id', 'user_index'])\\\n",
    "    .agg(pl.all())\n",
    "    for key, slice in tqdm(df[:1000].partition_by(by=['user_index'], as_dict=True).items(), total=df['user_index'].n_unique())\n",
    "]).drop('article_index')\n",
    "scores_df"
   ]
  },
  {
   "cell_type": "code",
   "execution_count": 10,
   "metadata": {},
   "outputs": [
    {
     "data": {
      "text/html": [
       "<div><style>\n",
       ".dataframe > thead > tr,\n",
       ".dataframe > tbody > tr {\n",
       "  text-align: right;\n",
       "  white-space: pre-wrap;\n",
       "}\n",
       "</style>\n",
       "<small>shape: (2, 9)</small><table border=\"1\" class=\"dataframe\"><thead><tr><th>impression_id</th><th>user_id</th><th>user_index</th><th>article</th><th>scores</th><th>scores_mean</th><th>scores_max</th><th>scores_min</th><th>scores_std</th></tr><tr><td>u32</td><td>u32</td><td>u32</td><td>list[i32]</td><td>list[list[f32]]</td><td>list[f32]</td><td>list[f32]</td><td>list[f32]</td><td>list[f32]</td></tr></thead><tbody><tr><td>149474</td><td>139836</td><td>11894</td><td>[9778623, 9778682, … 9778728]</td><td>[[0.546279, 0.456443, … 0.068054], [0.108021, -0.134935, … 0.308029], … [0.789861, 0.399746, … -0.11546]]</td><td>[0.108393, 0.125424, … 0.097202]</td><td>[0.619155, 0.729108, … 0.789861]</td><td>[0.619155, 0.729108, … 0.789861]</td><td>[0.241325, 0.239725, … 0.221128]</td></tr><tr><td>150528</td><td>143471</td><td>7016</td><td>[9778718, 9778728, … 9778682]</td><td>[[0.0, 0.0, … 0.0], [0.766936, 0.0, … 0.0], … [0.028365, 0.0, … 0.0]]</td><td>[0.0, 0.170874, … 0.119192]</td><td>[0.0, 0.880629, … 0.856975]</td><td>[0.0, 0.880629, … 0.856975]</td><td>[0.0, 0.240824, … 0.22315]</td></tr></tbody></table></div>"
      ],
      "text/plain": [
       "shape: (2, 9)\n",
       "┌────────────┬─────────┬───────────┬───────────┬───┬───────────┬───────────┬───────────┬───────────┐\n",
       "│ impression ┆ user_id ┆ user_inde ┆ article   ┆ … ┆ scores_me ┆ scores_ma ┆ scores_mi ┆ scores_st │\n",
       "│ _id        ┆ ---     ┆ x         ┆ ---       ┆   ┆ an        ┆ x         ┆ n         ┆ d         │\n",
       "│ ---        ┆ u32     ┆ ---       ┆ list[i32] ┆   ┆ ---       ┆ ---       ┆ ---       ┆ ---       │\n",
       "│ u32        ┆         ┆ u32       ┆           ┆   ┆ list[f32] ┆ list[f32] ┆ list[f32] ┆ list[f32] │\n",
       "╞════════════╪═════════╪═══════════╪═══════════╪═══╪═══════════╪═══════════╪═══════════╪═══════════╡\n",
       "│ 149474     ┆ 139836  ┆ 11894     ┆ [9778623, ┆ … ┆ [0.108393 ┆ [0.619155 ┆ [0.619155 ┆ [0.241325 │\n",
       "│            ┆         ┆           ┆ 9778682,  ┆   ┆ ,         ┆ ,         ┆ ,         ┆ ,         │\n",
       "│            ┆         ┆           ┆ …         ┆   ┆ 0.125424, ┆ 0.729108, ┆ 0.729108, ┆ 0.239725, │\n",
       "│            ┆         ┆           ┆ 9778728]  ┆   ┆ …         ┆ …         ┆ …         ┆ …         │\n",
       "│            ┆         ┆           ┆           ┆   ┆ 0.09720…  ┆ 0.78986…  ┆ 0.78986…  ┆ 0.22112…  │\n",
       "│ 150528     ┆ 143471  ┆ 7016      ┆ [9778718, ┆ … ┆ [0.0,     ┆ [0.0,     ┆ [0.0,     ┆ [0.0,     │\n",
       "│            ┆         ┆           ┆ 9778728,  ┆   ┆ 0.170874, ┆ 0.880629, ┆ 0.880629, ┆ 0.240824, │\n",
       "│            ┆         ┆           ┆ …         ┆   ┆ …         ┆ …         ┆ …         ┆ …         │\n",
       "│            ┆         ┆           ┆ 9778682]  ┆   ┆ 0.119192] ┆ 0.856975] ┆ 0.856975] ┆ 0.22315]  │\n",
       "└────────────┴─────────┴───────────┴───────────┴───┴───────────┴───────────┴───────────┴───────────┘"
      ]
     },
     "execution_count": 10,
     "metadata": {},
     "output_type": "execute_result"
    }
   ],
   "source": [
    "simple_agg_df = scores_df.with_columns(\n",
    "    pl.col('scores').list.eval(pl.element().list.mean()).name.suffix('_mean'),\n",
    "    pl.col('scores').list.eval(pl.element().list.max()).name.suffix('_max'),\n",
    "    pl.col('scores').list.eval(pl.element().list.max()).name.suffix('_min'),\n",
    "    pl.col('scores').list.eval(pl.element().list.std()).name.suffix('_std'),\n",
    ")\n",
    "simple_agg_df.head(2)"
   ]
  },
  {
   "cell_type": "code",
   "execution_count": 11,
   "metadata": {},
   "outputs": [
    {
     "data": {
      "text/html": [
       "<div><style>\n",
       ".dataframe > thead > tr,\n",
       ".dataframe > tbody > tr {\n",
       "  text-align: right;\n",
       "  white-space: pre-wrap;\n",
       "}\n",
       "</style>\n",
       "<small>shape: (2, 7)</small><table border=\"1\" class=\"dataframe\"><thead><tr><th>impression_id</th><th>user_id</th><th>article</th><th>scores_mean</th><th>scores_max</th><th>scores_min</th><th>scores_std</th></tr><tr><td>u32</td><td>u32</td><td>i32</td><td>f32</td><td>f32</td><td>f32</td><td>f32</td></tr></thead><tbody><tr><td>2097252</td><td>63123</td><td>9761926</td><td>0.194606</td><td>0.911962</td><td>0.911962</td><td>0.247309</td></tr><tr><td>2097252</td><td>63123</td><td>9769370</td><td>0.0</td><td>0.0</td><td>0.0</td><td>0.0</td></tr></tbody></table></div>"
      ],
      "text/plain": [
       "shape: (2, 7)\n",
       "┌───────────────┬─────────┬─────────┬─────────────┬────────────┬────────────┬────────────┐\n",
       "│ impression_id ┆ user_id ┆ article ┆ scores_mean ┆ scores_max ┆ scores_min ┆ scores_std │\n",
       "│ ---           ┆ ---     ┆ ---     ┆ ---         ┆ ---        ┆ ---        ┆ ---        │\n",
       "│ u32           ┆ u32     ┆ i32     ┆ f32         ┆ f32        ┆ f32        ┆ f32        │\n",
       "╞═══════════════╪═════════╪═════════╪═════════════╪════════════╪════════════╪════════════╡\n",
       "│ 2097252       ┆ 63123   ┆ 9761926 ┆ 0.194606    ┆ 0.911962   ┆ 0.911962   ┆ 0.247309   │\n",
       "│ 2097252       ┆ 63123   ┆ 9769370 ┆ 0.0         ┆ 0.0        ┆ 0.0        ┆ 0.0        │\n",
       "└───────────────┴─────────┴─────────┴─────────────┴────────────┴────────────┴────────────┘"
      ]
     },
     "execution_count": 11,
     "metadata": {},
     "output_type": "execute_result"
    }
   ],
   "source": [
    "explode_cols = ['article'] + [col for col in simple_agg_df.columns if col.startswith('scores_')]\n",
    "res = simple_agg_df.drop('user_index', 'scores')\\\n",
    "    .explode(explode_cols)\\\n",
    "    .sort('user_id', 'impression_id', 'article')\n",
    "res.head(2)"
   ]
  },
  {
   "cell_type": "markdown",
   "metadata": {},
   "source": [
    "# Weightening"
   ]
  },
  {
   "cell_type": "markdown",
   "metadata": {},
   "source": [
    "### Scroll Percentage weight"
   ]
  },
  {
   "cell_type": "code",
   "execution_count": 12,
   "metadata": {},
   "outputs": [
    {
     "data": {
      "text/html": [
       "<div><style>\n",
       ".dataframe > thead > tr,\n",
       ".dataframe > tbody > tr {\n",
       "  text-align: right;\n",
       "  white-space: pre-wrap;\n",
       "}\n",
       "</style>\n",
       "<small>shape: (2, 6)</small><table border=\"1\" class=\"dataframe\"><thead><tr><th>user_id</th><th>scroll_percentage_fixed</th><th>scroll_percentage_fixed_norm</th><th>scroll_percentage_fixed_mmnorm</th><th>scroll_percentage_fixed_norm_l1_w</th><th>scroll_percentage_fixed_mmnorm_l1_w</th></tr><tr><td>u32</td><td>list[f32]</td><td>list[f32]</td><td>list[f32]</td><td>list[f32]</td><td>list[f32]</td></tr></thead><tbody><tr><td>13538</td><td>[100.0, 35.0, … 100.0]</td><td>[10.0, 5.91608, … 10.0]</td><td>[1.0, 0.35, … 1.0]</td><td>[0.003138, 0.001856, … 0.003138]</td><td>[0.004735, 0.001657, … 0.004735]</td></tr><tr><td>14241</td><td>[100.0, 46.0, … 100.0]</td><td>[10.0, 6.78233, … 10.0]</td><td>[1.0, 0.46, … 1.0]</td><td>[0.007106, 0.00482, … 0.007106]</td><td>[0.007959, 0.003661, … 0.007959]</td></tr></tbody></table></div>"
      ],
      "text/plain": [
       "shape: (2, 6)\n",
       "┌─────────┬─────────────────┬─────────────────┬─────────────────┬─────────────────┬────────────────┐\n",
       "│ user_id ┆ scroll_percenta ┆ scroll_percenta ┆ scroll_percenta ┆ scroll_percenta ┆ scroll_percent │\n",
       "│ ---     ┆ ge_fixed        ┆ ge_fixed_norm   ┆ ge_fixed_mmnorm ┆ ge_fixed_norm_l ┆ age_fixed_mmno │\n",
       "│ u32     ┆ ---             ┆ ---             ┆ ---             ┆ …               ┆ rm…            │\n",
       "│         ┆ list[f32]       ┆ list[f32]       ┆ list[f32]       ┆ ---             ┆ ---            │\n",
       "│         ┆                 ┆                 ┆                 ┆ list[f32]       ┆ list[f32]      │\n",
       "╞═════════╪═════════════════╪═════════════════╪═════════════════╪═════════════════╪════════════════╡\n",
       "│ 13538   ┆ [100.0, 35.0, … ┆ [10.0, 5.91608, ┆ [1.0, 0.35, …   ┆ [0.003138,      ┆ [0.004735,     │\n",
       "│         ┆ 100.0]          ┆ … 10.0]         ┆ 1.0]            ┆ 0.001856, …     ┆ 0.001657, …    │\n",
       "│         ┆                 ┆                 ┆                 ┆ 0.00313…        ┆ 0.00473…       │\n",
       "│ 14241   ┆ [100.0, 46.0, … ┆ [10.0, 6.78233, ┆ [1.0, 0.46, …   ┆ [0.007106,      ┆ [0.007959,     │\n",
       "│         ┆ 100.0]          ┆ … 10.0]         ┆ 1.0]            ┆ 0.00482, …      ┆ 0.003661, …    │\n",
       "│         ┆                 ┆                 ┆                 ┆ 0.007106…       ┆ 0.00795…       │\n",
       "└─────────┴─────────────────┴─────────────────┴─────────────────┴─────────────────┴────────────────┘"
      ]
     },
     "execution_count": 12,
     "metadata": {},
     "output_type": "execute_result"
    }
   ],
   "source": [
    "history_w = history_train.select('user_id', 'scroll_percentage_fixed').with_columns(\n",
    "    pl.col('scroll_percentage_fixed').list.eval(pl.element().fill_null(0.0))\\\n",
    "        .list.eval(pl.element().sqrt()).alias('scroll_percentage_fixed_norm'),\n",
    "    pl.col('scroll_percentage_fixed').list.eval(pl.element().fill_null(0.0))\\\n",
    "        .list.eval((pl.element() - pl.element().min()).truediv(pl.element().max() - pl.element().min())).alias('scroll_percentage_fixed_mmnorm')\n",
    "    ).with_columns(\n",
    "        pl.col('scroll_percentage_fixed_norm').list.eval(pl.element().truediv(pl.element().sum())).alias('scroll_percentage_fixed_norm_l1_w'),\n",
    "        pl.col('scroll_percentage_fixed_mmnorm').list.eval(pl.element().truediv(pl.element().sum())).alias('scroll_percentage_fixed_mmnorm_l1_w'),\n",
    "    )\n",
    "history_w.head(2)"
   ]
  },
  {
   "cell_type": "markdown",
   "metadata": {},
   "source": [
    "### Read time weight"
   ]
  },
  {
   "cell_type": "code",
   "execution_count": 13,
   "metadata": {},
   "outputs": [],
   "source": [
    "history_w_articles = history_train.explode(pl.all().exclude('user_id')).join(\n",
    "    articles.select('article_id', \n",
    "        (pl.col('body') + pl.col('title') + pl.col('subtitle')).str.len_chars().alias('article_id_fixed_article_len'),\n",
    "        'last_modified_time', 'published_time'), left_on='article_id_fixed', right_on='article_id'\n",
    "    )\\\n",
    "    .with_columns(\n",
    "        (pl.col('impression_time_fixed') - pl.col('published_time')).alias('time_to_impression'),\n",
    "    ).group_by('user_id').agg(pl.all())"
   ]
  },
  {
   "cell_type": "code",
   "execution_count": 14,
   "metadata": {},
   "outputs": [
    {
     "data": {
      "text/html": [
       "<div><style>\n",
       ".dataframe > thead > tr,\n",
       ".dataframe > tbody > tr {\n",
       "  text-align: right;\n",
       "  white-space: pre-wrap;\n",
       "}\n",
       "</style>\n",
       "<small>shape: (2, 5)</small><table border=\"1\" class=\"dataframe\"><thead><tr><th>user_id</th><th>read_time_fixed</th><th>article_id_fixed_article_len</th><th>read_time_fixed_article_len_ratio</th><th>read_time_fixed_article_len_ratio_l1_w</th></tr><tr><td>u32</td><td>list[f32]</td><td>list[u32]</td><td>list[f64]</td><td>list[f64]</td></tr></thead><tbody><tr><td>1532472</td><td>[41.0, 34.0, … 85.0]</td><td>[2385, 1692, … 2626]</td><td>[0.017191, 0.020095, … 0.032369]</td><td>[0.002094, 0.002447, … 0.003942]</td></tr><tr><td>219986</td><td>[25.0, 0.0, … 1077.0]</td><td>[1846, 1846, … 2672]</td><td>[0.013543, 0.0, … 0.403069]</td><td>[0.004822, 0.0, … 0.143524]</td></tr></tbody></table></div>"
      ],
      "text/plain": [
       "shape: (2, 5)\n",
       "┌─────────┬─────────────────┬───────────────────────┬───────────────────────┬──────────────────────┐\n",
       "│ user_id ┆ read_time_fixed ┆ article_id_fixed_arti ┆ read_time_fixed_artic ┆ read_time_fixed_arti │\n",
       "│ ---     ┆ ---             ┆ cle_len               ┆ le_len_ra…            ┆ cle_len_ra…          │\n",
       "│ u32     ┆ list[f32]       ┆ ---                   ┆ ---                   ┆ ---                  │\n",
       "│         ┆                 ┆ list[u32]             ┆ list[f64]             ┆ list[f64]            │\n",
       "╞═════════╪═════════════════╪═══════════════════════╪═══════════════════════╪══════════════════════╡\n",
       "│ 1532472 ┆ [41.0, 34.0, …  ┆ [2385, 1692, … 2626]  ┆ [0.017191, 0.020095,  ┆ [0.002094, 0.002447, │\n",
       "│         ┆ 85.0]           ┆                       ┆ … 0.03236…            ┆ … 0.00394…           │\n",
       "│ 219986  ┆ [25.0, 0.0, …   ┆ [1846, 1846, … 2672]  ┆ [0.013543, 0.0, …     ┆ [0.004822, 0.0, …    │\n",
       "│         ┆ 1077.0]         ┆                       ┆ 0.403069]             ┆ 0.143524]            │\n",
       "└─────────┴─────────────────┴───────────────────────┴───────────────────────┴──────────────────────┘"
      ]
     },
     "execution_count": 14,
     "metadata": {},
     "output_type": "execute_result"
    }
   ],
   "source": [
    "history_w = history_w_articles.select('user_id', 'read_time_fixed', 'article_id_fixed_article_len')\\\n",
    "    .explode(pl.all().exclude('user_id'))\\\n",
    "    .with_columns(\n",
    "        pl.col('read_time_fixed').truediv('article_id_fixed_article_len').fill_nan(0.0).alias('read_time_fixed_article_len_ratio'),\n",
    "    ).with_columns(\n",
    "        pl.when(pl.col('read_time_fixed_article_len_ratio').is_infinite()).then(0.0).otherwise(pl.col('read_time_fixed_article_len_ratio')).alias('read_time_fixed_article_len_ratio')\n",
    "    ).group_by('user_id').agg(pl.all())\\\n",
    "    .with_columns(\n",
    "        pl.col('read_time_fixed_article_len_ratio').list.eval(pl.element().truediv(pl.element().sum())).alias('read_time_fixed_article_len_ratio_l1_w'),\n",
    "    )\n",
    "history_w.head(2)"
   ]
  },
  {
   "cell_type": "markdown",
   "metadata": {},
   "source": [
    "### Impression time"
   ]
  },
  {
   "cell_type": "code",
   "execution_count": 15,
   "metadata": {},
   "outputs": [
    {
     "data": {
      "text/html": [
       "<div><style>\n",
       ".dataframe > thead > tr,\n",
       ".dataframe > tbody > tr {\n",
       "  text-align: right;\n",
       "  white-space: pre-wrap;\n",
       "}\n",
       "</style>\n",
       "<small>shape: (2, 4)</small><table border=\"1\" class=\"dataframe\"><thead><tr><th>user_id</th><th>time_to_impression</th><th>time_to_impression_sqrt</th><th>time_to_impression_l1_w</th></tr><tr><td>u32</td><td>list[duration[μs]]</td><td>list[f64]</td><td>list[f64]</td></tr></thead><tbody><tr><td>2155094</td><td>[14m 34s, 10m 53s, … 3h 20m 4s]</td><td>[3.741657, 3.162278, … 14.142136]</td><td>[0.002097, 0.001772, … 0.007926]</td></tr><tr><td>1324866</td><td>[9m 44s, 10h 5m 59s, … 1h 6m 56s]</td><td>[3.0, 24.596748, … 8.124038]</td><td>[0.001583, 0.012977, … 0.004286]</td></tr></tbody></table></div>"
      ],
      "text/plain": [
       "shape: (2, 4)\n",
       "┌─────────┬─────────────────────────────────┬─────────────────────────┬─────────────────────────┐\n",
       "│ user_id ┆ time_to_impression              ┆ time_to_impression_sqrt ┆ time_to_impression_l1_w │\n",
       "│ ---     ┆ ---                             ┆ ---                     ┆ ---                     │\n",
       "│ u32     ┆ list[duration[μs]]              ┆ list[f64]               ┆ list[f64]               │\n",
       "╞═════════╪═════════════════════════════════╪═════════════════════════╪═════════════════════════╡\n",
       "│ 2155094 ┆ [14m 34s, 10m 53s, … 3h 20m 4s… ┆ [3.741657, 3.162278, …  ┆ [0.002097, 0.001772, …  │\n",
       "│         ┆                                 ┆ 14.1421…                ┆ 0.00792…                │\n",
       "│ 1324866 ┆ [9m 44s, 10h 5m 59s, … 1h 6m 5… ┆ [3.0, 24.596748, …      ┆ [0.001583, 0.012977, …  │\n",
       "│         ┆                                 ┆ 8.124038]               ┆ 0.00428…                │\n",
       "└─────────┴─────────────────────────────────┴─────────────────────────┴─────────────────────────┘"
      ]
     },
     "execution_count": 15,
     "metadata": {},
     "output_type": "execute_result"
    }
   ],
   "source": [
    "history_w = history_w_articles.select('user_id', 'time_to_impression')\\\n",
    "    .explode(pl.all().exclude('user_id'))\\\n",
    "    .with_columns(\n",
    "        pl.col('time_to_impression').dt.total_minutes().sqrt().alias('time_to_impression_sqrt'),\n",
    "    ).group_by('user_id').agg(pl.all())\\\n",
    "    .with_columns(\n",
    "        pl.col('time_to_impression_sqrt').list.eval(pl.element().truediv(pl.element().sum())).alias('time_to_impression_l1_w')\n",
    "    )\n",
    "history_w.head(2)"
   ]
  },
  {
   "cell_type": "markdown",
   "metadata": {},
   "source": [
    "### Last k"
   ]
  },
  {
   "cell_type": "code",
   "execution_count": 16,
   "metadata": {},
   "outputs": [
    {
     "data": {
      "text/html": [
       "<div><style>\n",
       ".dataframe > thead > tr,\n",
       ".dataframe > tbody > tr {\n",
       "  text-align: right;\n",
       "  white-space: pre-wrap;\n",
       "}\n",
       "</style>\n",
       "<small>shape: (2, 4)</small><table border=\"1\" class=\"dataframe\"><thead><tr><th>user_id</th><th>mask_w_5</th><th>mask_w_10</th><th>mask_w_15</th></tr><tr><td>u32</td><td>list[i8]</td><td>list[i8]</td><td>list[i8]</td></tr></thead><tbody><tr><td>2424634</td><td>[1, 1, … 0]</td><td>[1, 1, … 0]</td><td>[1, 1, … 0]</td></tr><tr><td>1495533</td><td>[1, 1, … 0]</td><td>[1, 1, … 0]</td><td>[1, 1, … 0]</td></tr></tbody></table></div>"
      ],
      "text/plain": [
       "shape: (2, 4)\n",
       "┌─────────┬─────────────┬─────────────┬─────────────┐\n",
       "│ user_id ┆ mask_w_5    ┆ mask_w_10   ┆ mask_w_15   │\n",
       "│ ---     ┆ ---         ┆ ---         ┆ ---         │\n",
       "│ u32     ┆ list[i8]    ┆ list[i8]    ┆ list[i8]    │\n",
       "╞═════════╪═════════════╪═════════════╪═════════════╡\n",
       "│ 2424634 ┆ [1, 1, … 0] ┆ [1, 1, … 0] ┆ [1, 1, … 0] │\n",
       "│ 1495533 ┆ [1, 1, … 0] ┆ [1, 1, … 0] ┆ [1, 1, … 0] │\n",
       "└─────────┴─────────────┴─────────────┴─────────────┘"
      ]
     },
     "execution_count": 16,
     "metadata": {},
     "output_type": "execute_result"
    }
   ],
   "source": [
    "history_len = history_w_articles['read_time_fixed'].list.len().to_list()\n",
    "history_w = history_w_articles.select('user_id').with_columns(\n",
    "    *[pl.Series([[1] * min(k, l) + [0] * max(0, l - k) for l in history_len], dtype=pl.List(pl.Int8)).alias(f'mask_w_{k}') for k in [5, 10, 15]]\n",
    ")\n",
    "history_w.head(2)"
   ]
  },
  {
   "cell_type": "markdown",
   "metadata": {},
   "source": [
    "### Last k hours"
   ]
  },
  {
   "cell_type": "code",
   "execution_count": 17,
   "metadata": {},
   "outputs": [
    {
     "data": {
      "text/html": [
       "<div><style>\n",
       ".dataframe > thead > tr,\n",
       ".dataframe > tbody > tr {\n",
       "  text-align: right;\n",
       "  white-space: pre-wrap;\n",
       "}\n",
       "</style>\n",
       "<small>shape: (2, 9)</small><table border=\"1\" class=\"dataframe\"><thead><tr><th>impression_id</th><th>user_id</th><th>impression_time</th><th>impression_time_fixed</th><th>impression_time_last_24_hours_mask</th><th>impression_time_last_48_hours_mask</th><th>impression_time_last_72_hours_mask</th><th>impression_time_last_168_hours_mask</th><th>impression_time_last_336_hours_mask</th></tr><tr><td>u32</td><td>u32</td><td>datetime[μs]</td><td>list[datetime[μs]]</td><td>list[i8]</td><td>list[i8]</td><td>list[i8]</td><td>list[i8]</td><td>list[i8]</td></tr></thead><tbody><tr><td>168444639</td><td>565751</td><td>2023-05-23 20:11:26</td><td>[2023-04-27 15:13:10, 2023-04-28 11:01:07, … 2023-05-17 20:12:57]</td><td>[0, 0, … 0]</td><td>[0, 0, … 0]</td><td>[0, 0, … 0]</td><td>[0, 0, … 1]</td><td>[0, 0, … 1]</td></tr><tr><td>223152368</td><td>2273080</td><td>2023-05-23 07:29:32</td><td>[2023-05-05 06:10:16, 2023-05-05 06:10:55, … 2023-05-18 03:35:06]</td><td>[0, 0, … 0]</td><td>[0, 0, … 0]</td><td>[0, 0, … 0]</td><td>[0, 0, … 1]</td><td>[0, 0, … 1]</td></tr></tbody></table></div>"
      ],
      "text/plain": [
       "shape: (2, 9)\n",
       "┌────────────┬─────────┬───────────┬───────────┬───┬───────────┬───────────┬───────────┬───────────┐\n",
       "│ impression ┆ user_id ┆ impressio ┆ impressio ┆ … ┆ impressio ┆ impressio ┆ impressio ┆ impressio │\n",
       "│ _id        ┆ ---     ┆ n_time    ┆ n_time_fi ┆   ┆ n_time_la ┆ n_time_la ┆ n_time_la ┆ n_time_la │\n",
       "│ ---        ┆ u32     ┆ ---       ┆ xed       ┆   ┆ st_48_hou ┆ st_72_hou ┆ st_168_ho ┆ st_336_ho │\n",
       "│ u32        ┆         ┆ datetime[ ┆ ---       ┆   ┆ rs_…      ┆ rs_…      ┆ urs…      ┆ urs…      │\n",
       "│            ┆         ┆ μs]       ┆ list[date ┆   ┆ ---       ┆ ---       ┆ ---       ┆ ---       │\n",
       "│            ┆         ┆           ┆ time[μs]] ┆   ┆ list[i8]  ┆ list[i8]  ┆ list[i8]  ┆ list[i8]  │\n",
       "╞════════════╪═════════╪═══════════╪═══════════╪═══╪═══════════╪═══════════╪═══════════╪═══════════╡\n",
       "│ 168444639  ┆ 565751  ┆ 2023-05-2 ┆ [2023-04- ┆ … ┆ [0, 0, …  ┆ [0, 0, …  ┆ [0, 0, …  ┆ [0, 0, …  │\n",
       "│            ┆         ┆ 3         ┆ 27        ┆   ┆ 0]        ┆ 0]        ┆ 1]        ┆ 1]        │\n",
       "│            ┆         ┆ 20:11:26  ┆ 15:13:10, ┆   ┆           ┆           ┆           ┆           │\n",
       "│            ┆         ┆           ┆ 2023-04-… ┆   ┆           ┆           ┆           ┆           │\n",
       "│ 223152368  ┆ 2273080 ┆ 2023-05-2 ┆ [2023-05- ┆ … ┆ [0, 0, …  ┆ [0, 0, …  ┆ [0, 0, …  ┆ [0, 0, …  │\n",
       "│            ┆         ┆ 3         ┆ 05        ┆   ┆ 0]        ┆ 0]        ┆ 1]        ┆ 1]        │\n",
       "│            ┆         ┆ 07:29:32  ┆ 06:10:16, ┆   ┆           ┆           ┆           ┆           │\n",
       "│            ┆         ┆           ┆ 2023-05-… ┆   ┆           ┆           ┆           ┆           │\n",
       "└────────────┴─────────┴───────────┴───────────┴───┴───────────┴───────────┴───────────┴───────────┘"
      ]
     },
     "execution_count": 17,
     "metadata": {},
     "output_type": "execute_result"
    }
   ],
   "source": [
    "behaviors_w = behaviors_train.select('impression_id', 'user_id', 'impression_time')\\\n",
    "    .join(history_w_articles.select('user_id', 'impression_time_fixed'), on='user_id')\\\n",
    "    .explode(pl.all().exclude('impression_id', 'user_id', 'impression_time'))\\\n",
    "    .with_columns(\n",
    "        *[(pl.col('impression_time').sub(pl.col('impression_time_fixed')).dt.total_hours() <= k).cast(pl.Int8).alias(f'impression_time_last_{k}_hours_mask') for k in [24, 24*2, 24*3, 24*7, 24*14]]\n",
    "    ).group_by('impression_id', 'user_id', 'impression_time').agg(pl.all())\n",
    "behaviors_w.head(2)"
   ]
  },
  {
   "cell_type": "code",
   "execution_count": 18,
   "metadata": {},
   "outputs": [
    {
     "data": {
      "text/html": [
       "<div><style>\n",
       ".dataframe > thead > tr,\n",
       ".dataframe > tbody > tr {\n",
       "  text-align: right;\n",
       "  white-space: pre-wrap;\n",
       "}\n",
       "</style>\n",
       "<small>shape: (2, 4)</small><table border=\"1\" class=\"dataframe\"><thead><tr><th>user_id</th><th>time_to_impression</th><th>time_to_impression_sqrt</th><th>time_to_impression_l1_w</th></tr><tr><td>u32</td><td>list[duration[μs]]</td><td>list[f64]</td><td>list[f64]</td></tr></thead><tbody><tr><td>1743910</td><td>[7h 21m 16s, 12h 1m 8s, … 7h 21m 4s]</td><td>[21.0, 26.851443, … 21.0]</td><td>[0.021262, 0.027187, … 0.021262]</td></tr><tr><td>1101084</td><td>[1h 44m 41s, 53m 20s, … 26m 14s]</td><td>[10.198039, 7.28011, … 5.09902]</td><td>[0.023936, 0.017087, … 0.011968]</td></tr></tbody></table></div>"
      ],
      "text/plain": [
       "shape: (2, 4)\n",
       "┌─────────┬──────────────────────────────────┬───────────────────────────┬─────────────────────────┐\n",
       "│ user_id ┆ time_to_impression               ┆ time_to_impression_sqrt   ┆ time_to_impression_l1_w │\n",
       "│ ---     ┆ ---                              ┆ ---                       ┆ ---                     │\n",
       "│ u32     ┆ list[duration[μs]]               ┆ list[f64]                 ┆ list[f64]               │\n",
       "╞═════════╪══════════════════════════════════╪═══════════════════════════╪═════════════════════════╡\n",
       "│ 1743910 ┆ [7h 21m 16s, 12h 1m 8s, … 7h 2…  ┆ [21.0, 26.851443, … 21.0] ┆ [0.021262, 0.027187, …  │\n",
       "│         ┆                                  ┆                           ┆ 0.02126…                │\n",
       "│ 1101084 ┆ [1h 44m 41s, 53m 20s, … 26m 14…  ┆ [10.198039, 7.28011, …    ┆ [0.023936, 0.017087, …  │\n",
       "│         ┆                                  ┆ 5.09902…                  ┆ 0.01196…                │\n",
       "└─────────┴──────────────────────────────────┴───────────────────────────┴─────────────────────────┘"
      ]
     },
     "execution_count": 18,
     "metadata": {},
     "output_type": "execute_result"
    }
   ],
   "source": [
    "history_w = history_w_articles.select('user_id', 'time_to_impression')\\\n",
    "    .explode(pl.all().exclude('user_id'))\\\n",
    "    .with_columns(\n",
    "        pl.col('time_to_impression').dt.total_minutes().sqrt().alias('time_to_impression_sqrt'),\n",
    "    ).group_by('user_id').agg(pl.all())\\\n",
    "    .with_columns(\n",
    "        pl.col('time_to_impression_sqrt').list.eval(pl.element().truediv(pl.element().sum())).alias('time_to_impression_l1_w')\n",
    "    )\n",
    "history_w.head(2)"
   ]
  },
  {
   "cell_type": "markdown",
   "metadata": {},
   "source": [
    "# Add all"
   ]
  },
  {
   "cell_type": "code",
   "execution_count": 19,
   "metadata": {},
   "outputs": [],
   "source": [
    "history_w_articles = history_train.explode(pl.all().exclude('user_id')).join(\n",
    "    articles.select('article_id', \n",
    "        (pl.col('body') + pl.col('title') + pl.col('subtitle')).str.len_chars().alias('article_id_fixed_article_len'),\n",
    "        'last_modified_time', 'published_time'), left_on='article_id_fixed', right_on='article_id'\n",
    "    )\\\n",
    "    .with_columns(\n",
    "        (pl.col('impression_time_fixed') - pl.col('published_time')).alias('time_to_impression'),\n",
    "    ).group_by('user_id').agg(pl.all())"
   ]
  },
  {
   "cell_type": "code",
   "execution_count": 20,
   "metadata": {},
   "outputs": [
    {
     "data": {
      "text/html": [
       "<div><style>\n",
       ".dataframe > thead > tr,\n",
       ".dataframe > tbody > tr {\n",
       "  text-align: right;\n",
       "  white-space: pre-wrap;\n",
       "}\n",
       "</style>\n",
       "<small>shape: (1, 9)</small><table border=\"1\" class=\"dataframe\"><thead><tr><th>user_id</th><th>impression_time_fixed</th><th>scroll_percentage_fixed</th><th>article_id_fixed</th><th>read_time_fixed</th><th>article_id_fixed_article_len</th><th>last_modified_time</th><th>published_time</th><th>time_to_impression</th></tr><tr><td>u32</td><td>list[datetime[μs]]</td><td>list[f32]</td><td>list[i32]</td><td>list[f32]</td><td>list[u32]</td><td>list[datetime[μs]]</td><td>list[datetime[μs]]</td><td>list[duration[μs]]</td></tr></thead><tbody><tr><td>959776</td><td>[2023-04-27 10:14:57, 2023-04-27 10:15:24, … 2023-05-18 05:57:30]</td><td>[100.0, 100.0, … 100.0]</td><td>[9738663, 9738569, … 9770798]</td><td>[26.0, 48.0, … 1149.0]</td><td>[2091, 1608, … 1813]</td><td>[2023-06-29 06:48:22, 2023-06-29 06:48:22, … 2023-06-29 06:48:53]</td><td>[2023-04-27 10:08:17, 2023-04-27 09:33:16, … 2023-05-17 21:38:09]</td><td>[6m 40s, 42m 8s, … 8h 19m 21s]</td></tr></tbody></table></div>"
      ],
      "text/plain": [
       "shape: (1, 9)\n",
       "┌─────────┬────────────┬───────────┬───────────┬───┬───────────┬───────────┬───────────┬───────────┐\n",
       "│ user_id ┆ impression ┆ scroll_pe ┆ article_i ┆ … ┆ article_i ┆ last_modi ┆ published ┆ time_to_i │\n",
       "│ ---     ┆ _time_fixe ┆ rcentage_ ┆ d_fixed   ┆   ┆ d_fixed_a ┆ fied_time ┆ _time     ┆ mpression │\n",
       "│ u32     ┆ d          ┆ fixed     ┆ ---       ┆   ┆ rticle_le ┆ ---       ┆ ---       ┆ ---       │\n",
       "│         ┆ ---        ┆ ---       ┆ list[i32] ┆   ┆ n         ┆ list[date ┆ list[date ┆ list[dura │\n",
       "│         ┆ list[datet ┆ list[f32] ┆           ┆   ┆ ---       ┆ time[μs]] ┆ time[μs]] ┆ tion[μs]] │\n",
       "│         ┆ ime[μs]]   ┆           ┆           ┆   ┆ list[u32] ┆           ┆           ┆           │\n",
       "╞═════════╪════════════╪═══════════╪═══════════╪═══╪═══════════╪═══════════╪═══════════╪═══════════╡\n",
       "│ 959776  ┆ [2023-04-2 ┆ [100.0,   ┆ [9738663, ┆ … ┆ [2091,    ┆ [2023-06- ┆ [2023-04- ┆ [6m 40s,  │\n",
       "│         ┆ 7          ┆ 100.0, …  ┆ 9738569,  ┆   ┆ 1608, …   ┆ 29        ┆ 27        ┆ 42m 8s, … │\n",
       "│         ┆ 10:14:57,  ┆ 100.0]    ┆ …         ┆   ┆ 1813]     ┆ 06:48:22, ┆ 10:08:17, ┆ 8h 19m    │\n",
       "│         ┆ 2023-04-…  ┆           ┆ 9770798]  ┆   ┆           ┆ 2023-06-… ┆ 2023-04-… ┆ 21s]      │\n",
       "└─────────┴────────────┴───────────┴───────────┴───┴───────────┴───────────┴───────────┴───────────┘"
      ]
     },
     "execution_count": 20,
     "metadata": {},
     "output_type": "execute_result"
    }
   ],
   "source": [
    "history_w_articles.head(1)"
   ]
  },
  {
   "cell_type": "code",
   "execution_count": 21,
   "metadata": {},
   "outputs": [
    {
     "data": {
      "text/html": [
       "<div><style>\n",
       ".dataframe > thead > tr,\n",
       ".dataframe > tbody > tr {\n",
       "  text-align: right;\n",
       "  white-space: pre-wrap;\n",
       "}\n",
       "</style>\n",
       "<small>shape: (1, 4)</small><table border=\"1\" class=\"dataframe\"><thead><tr><th>user_id</th><th>read_time_fixed_article_len_ratio_l1_w</th><th>scroll_percentage_fixed_mmnorm_l1_w</th><th>time_to_impression_minutes_sqrt_l1_w</th></tr><tr><td>u32</td><td>list[f64]</td><td>list[f32]</td><td>list[f64]</td></tr></thead><tbody><tr><td>1718475</td><td>[0.467089, 0.0, … 0.0]</td><td>[0.5, 0.0, … 0.0]</td><td>[0.053021, 0.117523, … 0.300137]</td></tr></tbody></table></div>"
      ],
      "text/plain": [
       "shape: (1, 4)\n",
       "┌─────────┬─────────────────────────────┬─────────────────────────────┬────────────────────────────┐\n",
       "│ user_id ┆ read_time_fixed_article_len ┆ scroll_percentage_fixed_mmn ┆ time_to_impression_minutes │\n",
       "│ ---     ┆ _ra…                        ┆ orm…                        ┆ _sqr…                      │\n",
       "│ u32     ┆ ---                         ┆ ---                         ┆ ---                        │\n",
       "│         ┆ list[f64]                   ┆ list[f32]                   ┆ list[f64]                  │\n",
       "╞═════════╪═════════════════════════════╪═════════════════════════════╪════════════════════════════╡\n",
       "│ 1718475 ┆ [0.467089, 0.0, … 0.0]      ┆ [0.5, 0.0, … 0.0]           ┆ [0.053021, 0.117523, …     │\n",
       "│         ┆                             ┆                             ┆ 0.30013…                   │\n",
       "└─────────┴─────────────────────────────┴─────────────────────────────┴────────────────────────────┘"
      ]
     },
     "execution_count": 21,
     "metadata": {},
     "output_type": "execute_result"
    }
   ],
   "source": [
    "history_all_w = history_w_articles.select('user_id', 'time_to_impression', 'impression_time_fixed', 'scroll_percentage_fixed', 'read_time_fixed', 'article_id_fixed_article_len')\\\n",
    "    .explode(pl.all().exclude('user_id'))\\\n",
    "    .with_columns(pl.col('scroll_percentage_fixed').fill_null(0.0))\\\n",
    "    .with_columns(\n",
    "        pl.col('read_time_fixed').truediv('article_id_fixed_article_len').fill_nan(0.0).alias('read_time_fixed_article_len_ratio'),\n",
    "        # scroll_percentage\n",
    "        (pl.col('scroll_percentage_fixed') - pl.col('scroll_percentage_fixed').min()).truediv(pl.col('scroll_percentage_fixed').max() - pl.col('scroll_percentage_fixed').min()).over('user_id').alias('scroll_percentage_fixed_mmnorm'),\n",
    "        # time_to_impression\n",
    "        pl.col('time_to_impression').dt.total_minutes().sqrt().alias('time_to_impression_minutes_sqrt'),\n",
    "    ).with_columns(\n",
    "        pl.when(pl.col('read_time_fixed_article_len_ratio').is_infinite()).then(0.0).otherwise(pl.col('read_time_fixed_article_len_ratio')).alias('read_time_fixed_article_len_ratio')\n",
    "    ).group_by('user_id').agg(pl.all())\\\n",
    "    .with_columns(\n",
    "        pl.col('read_time_fixed_article_len_ratio').list.eval(pl.element().truediv(pl.element().sum())).alias('read_time_fixed_article_len_ratio_l1_w'),\n",
    "        pl.col('scroll_percentage_fixed_mmnorm').list.eval(pl.element().truediv(pl.element().sum())).alias('scroll_percentage_fixed_mmnorm_l1_w'),\n",
    "        pl.col('time_to_impression_minutes_sqrt').list.eval(pl.element().truediv(pl.element().sum())).alias('time_to_impression_minutes_sqrt_l1_w'),\n",
    "    ).select('user_id', 'read_time_fixed_article_len_ratio_l1_w', 'scroll_percentage_fixed_mmnorm_l1_w', 'time_to_impression_minutes_sqrt_l1_w')\n",
    "history_all_w.head(1)"
   ]
  },
  {
   "cell_type": "markdown",
   "metadata": {},
   "source": [
    "# Multiple embeddings"
   ]
  },
  {
   "cell_type": "code",
   "execution_count": 22,
   "metadata": {},
   "outputs": [],
   "source": [
    "emb_name_list = {'Ekstra_Bladet_contrastive_vector': 'contrastive_vector',\n",
    "                 'FacebookAI_xlm_roberta_base': 'xlm_roberta_base',\n",
    "                 'Ekstra_Bladet_image_embeddings': 'image_embeddings',\n",
    "                 'google_bert_base_multilingual_cased': 'bert_base_multilingual_cased'}"
   ]
  },
  {
   "cell_type": "code",
   "execution_count": 98,
   "metadata": {},
   "outputs": [],
   "source": [
    "def build_emb_scores(df: pl.DataFrame, history_m: np.ndarray, m_dict:dict[str, np.ndarray]):\n",
    "    df = reduce_polars_df_memory_size(df)\n",
    "    print(f'Starting to build embeddings scores for {m_dict.keys()}...')\n",
    "    df = pl.concat([\n",
    "        slice.explode(['article_index', 'article']).with_columns(\n",
    "            *[pl.lit(np.dot(m[slice['article_index'].explode().to_numpy()], m[history_m[key[0]]].T)).alias(f'{emb_name}_scores') for emb_name, m in m_dict.items()]\n",
    "        )\\\n",
    "        .group_by(['impression_id', 'user_id', 'user_index'])\\\n",
    "        .agg(pl.all())\n",
    "        for key, slice in tqdm(df.partition_by(by=['user_index'], as_dict=True).items(), total=df['user_index'].n_unique()) # keep only 1000 for testing\n",
    "    ]).drop('article_index', 'user_index')\n",
    "    return df\n",
    "\n",
    "def build_agg_scores(df: pl.DataFrame, emb_names: list[str] = None):\n",
    "    df = reduce_polars_df_memory_size(df)\n",
    "    if emb_names is None:\n",
    "        emb_names = [col for col in df.columns if 'scores' in col]\n",
    "    print(f'Starting to build aggregated scores for {emb_names}...')\n",
    "    df = df.with_columns(\n",
    "        *[pl.col(col).list.eval(pl.element().list.mean()).name.suffix('_mean') for col in emb_names],\n",
    "        *[pl.col(col).list.eval(pl.element().list.max()).name.suffix('_max') for col in emb_names],\n",
    "        *[pl.col(col).list.eval(pl.element().list.min()).name.suffix('_min') for col in emb_names],\n",
    "        *[pl.col(col).list.eval(pl.element().list.std()).name.suffix('_std') for col in emb_names],\n",
    "        *[pl.col(col).list.eval(pl.element().list.median()).name.suffix('_median') for col in emb_names],\n",
    "    )\n",
    "    return df\n"
   ]
  },
  {
   "cell_type": "code",
   "execution_count": 29,
   "metadata": {},
   "outputs": [
    {
     "name": "stdout",
     "output_type": "stream",
     "text": [
      "Processing contrastive_vector embedding matrix...\n",
      "Processing xlm_roberta_base embedding matrix...\n",
      "Processing image_embeddings embedding matrix...\n",
      "[Warning... 3743 missing articles in embedding matrix]\n",
      "Processing bert_base_multilingual_cased embedding matrix...\n"
     ]
    }
   ],
   "source": [
    "norm_m_dict = {}\n",
    "article_emb_mapping = articles.select('article_id').unique().with_row_index()\n",
    "for dir, file_name in emb_name_list.items():\n",
    "    print(f'Processing {file_name} embedding matrix...')\n",
    "    emb_df = pl.read_parquet(emb_dir / dir / f'{file_name}.parquet')\n",
    "    emb_df.columns = ['article_id', 'embedding']\n",
    "    \n",
    "    emb_size = len(emb_df['embedding'][0])\n",
    "    missing_articles_in_embedding = list(set(articles['article_id'].to_numpy()) - set(emb_df['article_id'].to_numpy()))\n",
    "    if len(missing_articles_in_embedding) > 0:\n",
    "        print(f'[Warning... {len(missing_articles_in_embedding)} missing articles in embedding matrix]')\n",
    "        null_vector = np.zeros(emb_size, dtype=np.float32)\n",
    "        emb_df = emb_df.vstack(pl.DataFrame({'article_id': missing_articles_in_embedding, 'embedding': [null_vector] * len(missing_articles_in_embedding)}))\n",
    "        \n",
    "    emb_df = article_emb_mapping.join(emb_df, on='article_id', how='left')\n",
    "    m = np.array([np.array(row) for row in emb_df['embedding'].to_numpy()])\n",
    "    row_norms = np.linalg.norm(m, axis=1, keepdims=True)\n",
    "    m = m / (row_norms + 1e-6)\n",
    "    norm_m_dict[file_name] = m"
   ]
  },
  {
   "cell_type": "code",
   "execution_count": 36,
   "metadata": {},
   "outputs": [
    {
     "name": "stdout",
     "output_type": "stream",
     "text": [
      "Memory usage of dataframe is 0.11 MB\n",
      "Memory usage after optimization is: 0.09 MB\n",
      "Decreased by 20.6%\n",
      "Starting to build embeddings scores for dict_keys(['contrastive_vector', 'xlm_roberta_base', 'image_embeddings', 'bert_base_multilingual_cased'])...\n"
     ]
    },
    {
     "name": "stderr",
     "output_type": "stream",
     "text": [
      "100%|██████████| 466/466 [00:07<00:00, 63.80it/s] \n"
     ]
    },
    {
     "data": {
      "text/html": [
       "<div><style>\n",
       ".dataframe > thead > tr,\n",
       ".dataframe > tbody > tr {\n",
       "  text-align: right;\n",
       "  white-space: pre-wrap;\n",
       "}\n",
       "</style>\n",
       "<small>shape: (5, 7)</small><table border=\"1\" class=\"dataframe\"><thead><tr><th>impression_id</th><th>user_id</th><th>article</th><th>contrastive_vector_scores</th><th>xlm_roberta_base_scores</th><th>image_embeddings_scores</th><th>bert_base_multilingual_cased_scores</th></tr><tr><td>u32</td><td>u32</td><td>list[i32]</td><td>list[list[f32]]</td><td>list[list[f32]]</td><td>list[list[f32]]</td><td>list[list[f32]]</td></tr></thead><tbody><tr><td>2097255</td><td>63123</td><td>[9771916, 9771938, … 9771855]</td><td>[[0.557273, 0.317587, … 0.145003], [0.182505, 0.066342, … 0.131874], … [0.116064, 0.052735, … 0.095286]]</td><td>[[0.999381, 0.998612, … 0.999212], [0.998721, 0.997995, … 0.998756], … [0.998922, 0.998184, … 0.998931]]</td><td>[[0.618652, 0.237785, … 0.0], [0.022949, -0.205564, … 0.0], … [0.395846, 0.083482, … 0.0]]</td><td>[[0.986466, 0.981622, … 0.985318], [0.969257, 0.968638, … 0.966765], … [0.977267, 0.980927, … 0.981054]]</td></tr><tr><td>2097252</td><td>63123</td><td>[9761926, 9771896, … 9769370]</td><td>[[0.107697, 0.240556, … 0.207324], [0.269079, 0.082241, … 0.149119], … [0.188112, 0.083346, … 0.402493]]</td><td>[[0.998851, 0.998298, … 0.998933], [0.999403, 0.999, … 0.999468], … [0.999225, 0.998372, … 0.999208]]</td><td>[[0.339977, 0.162691, … 0.0], [0.174351, 0.361142, … 0.0], … [0.0, 0.0, … 0.0]]</td><td>[[0.981906, 0.986131, … 0.984856], [0.985936, 0.985265, … 0.98395], … [0.985635, 0.984928, … 0.988126]]</td></tr><tr><td>2099252</td><td>84383</td><td>[9771187, 9771919, … 9769370]</td><td>[[0.335738, 0.274959, … 0.292364], [0.154554, 0.258899, … 0.204154], … [0.122367, 0.401185, … 0.173453]]</td><td>[[0.999364, 0.99929, … 0.999399], [0.999168, 0.999351, … 0.999357], … [0.999324, 0.999554, … 0.999526]]</td><td>[[0.439715, 0.233114, … 0.336275], [0.442196, -0.204846, … 0.343981], … [0.0, 0.0, … 0.0]]</td><td>[[0.951342, 0.942027, … 0.947812], [0.989138, 0.987074, … 0.988399], … [0.988274, 0.987833, … 0.985349]]</td></tr><tr><td>2099250</td><td>84383</td><td>[9686860, 9702964, … 9771919]</td><td>[[0.182729, 0.550608, … 0.136484], [0.168673, 0.700092, … 0.182869], … [0.154554, 0.258899, … 0.204154]]</td><td>[[0.999335, 0.999449, … 0.99938], [0.999257, 0.999564, … 0.999384], … [0.999168, 0.999351, … 0.999357]]</td><td>[[0.179768, 0.514603, … 0.060329], [0.092108, -0.099428, … 0.083508], … [0.442196, -0.204846, … 0.343981]]</td><td>[[0.988752, 0.983094, … 0.984562], [0.986144, 0.984657, … 0.983357], … [0.989138, 0.987074, … 0.988399]]</td></tr><tr><td>2099253</td><td>84383</td><td>[9771916, 9771187, … 9769348]</td><td>[[0.235649, 0.25459, … 0.14069], [0.335738, 0.274959, … 0.292364], … [0.133124, 0.523986, … 0.167435]]</td><td>[[0.999306, 0.999261, … 0.999192], [0.999364, 0.99929, … 0.999399], … [0.999006, 0.999353, … 0.999236]]</td><td>[[0.465422, 0.067244, … 0.059784], [0.439715, 0.233114, … 0.336275], … [0.350681, 0.199099, … 0.166773]]</td><td>[[0.98583, 0.978367, … 0.978577], [0.951342, 0.942027, … 0.947812], … [0.981203, 0.978487, … 0.983893]]</td></tr></tbody></table></div>"
      ],
      "text/plain": [
       "shape: (5, 7)\n",
       "┌──────────────┬─────────┬──────────────┬──────────────┬──────────────┬──────────────┬─────────────┐\n",
       "│ impression_i ┆ user_id ┆ article      ┆ contrastive_ ┆ xlm_roberta_ ┆ image_embedd ┆ bert_base_m │\n",
       "│ d            ┆ ---     ┆ ---          ┆ vector_score ┆ base_scores  ┆ ings_scores  ┆ ultilingual │\n",
       "│ ---          ┆ u32     ┆ list[i32]    ┆ s            ┆ ---          ┆ ---          ┆ _cased_s…   │\n",
       "│ u32          ┆         ┆              ┆ ---          ┆ list[list[f3 ┆ list[list[f3 ┆ ---         │\n",
       "│              ┆         ┆              ┆ list[list[f3 ┆ 2]]          ┆ 2]]          ┆ list[list[f │\n",
       "│              ┆         ┆              ┆ 2]]          ┆              ┆              ┆ 32]]        │\n",
       "╞══════════════╪═════════╪══════════════╪══════════════╪══════════════╪══════════════╪═════════════╡\n",
       "│ 2097255      ┆ 63123   ┆ [9771916,    ┆ [[0.557273,  ┆ [[0.999381,  ┆ [[0.618652,  ┆ [[0.986466, │\n",
       "│              ┆         ┆ 9771938, …   ┆ 0.317587, …  ┆ 0.998612, …  ┆ 0.237785, …  ┆ 0.981622, … │\n",
       "│              ┆         ┆ 9771855]     ┆ 0.1450…      ┆ 0.9992…      ┆ 0.0], …      ┆ 0.9853…     │\n",
       "│ 2097252      ┆ 63123   ┆ [9761926,    ┆ [[0.107697,  ┆ [[0.998851,  ┆ [[0.339977,  ┆ [[0.981906, │\n",
       "│              ┆         ┆ 9771896, …   ┆ 0.240556, …  ┆ 0.998298, …  ┆ 0.162691, …  ┆ 0.986131, … │\n",
       "│              ┆         ┆ 9769370]     ┆ 0.2073…      ┆ 0.9989…      ┆ 0.0], …      ┆ 0.9848…     │\n",
       "│ 2099252      ┆ 84383   ┆ [9771187,    ┆ [[0.335738,  ┆ [[0.999364,  ┆ [[0.439715,  ┆ [[0.951342, │\n",
       "│              ┆         ┆ 9771919, …   ┆ 0.274959, …  ┆ 0.99929, …   ┆ 0.233114, …  ┆ 0.942027, … │\n",
       "│              ┆         ┆ 9769370]     ┆ 0.2923…      ┆ 0.99939…     ┆ 0.3362…      ┆ 0.9478…     │\n",
       "│ 2099250      ┆ 84383   ┆ [9686860,    ┆ [[0.182729,  ┆ [[0.999335,  ┆ [[0.179768,  ┆ [[0.988752, │\n",
       "│              ┆         ┆ 9702964, …   ┆ 0.550608, …  ┆ 0.999449, …  ┆ 0.514603, …  ┆ 0.983094, … │\n",
       "│              ┆         ┆ 9771919]     ┆ 0.1364…      ┆ 0.9993…      ┆ 0.0603…      ┆ 0.9845…     │\n",
       "│ 2099253      ┆ 84383   ┆ [9771916,    ┆ [[0.235649,  ┆ [[0.999306,  ┆ [[0.465422,  ┆ [[0.98583,  │\n",
       "│              ┆         ┆ 9771187, …   ┆ 0.25459, …   ┆ 0.999261, …  ┆ 0.067244, …  ┆ 0.978367, … │\n",
       "│              ┆         ┆ 9769348]     ┆ 0.14069…     ┆ 0.9991…      ┆ 0.0597…      ┆ 0.97857…    │\n",
       "└──────────────┴─────────┴──────────────┴──────────────┴──────────────┴──────────────┴─────────────┘"
      ]
     },
     "execution_count": 36,
     "metadata": {},
     "output_type": "execute_result"
    }
   ],
   "source": [
    "history_m = history_train\\\n",
    "    .select('user_id', pl.col('article_id_fixed').list.eval(\n",
    "                pl.element().replace(article_emb_mapping['article_id'], article_emb_mapping['index'], default=None)))\\\n",
    "    .with_row_index('user_index')\n",
    "\n",
    "user_history_map = history_m.select('user_id', 'user_index')\n",
    "history_m = history_m['article_id_fixed'].to_numpy()\n",
    "train_ds = behaviors_train[:1000].select('impression_id', 'user_id', pl.col('article_ids_inview').alias('article'))\\\n",
    "    .join(user_history_map, on='user_id')\\\n",
    "    .with_columns(\n",
    "        pl.col('article').list.eval(pl.element().replace(article_emb_mapping['article_id'], article_emb_mapping['index'], default=None)).name.suffix('_index'),\n",
    "    ).drop('impression_time_fixed', 'scroll_percentage_fixed', 'read_time_fixed')\n",
    "\n",
    "train_ds = build_emb_scores(train_ds, history_m, m_dict=norm_m_dict)\n",
    "train_ds_agg = build_agg_scores(train_ds, history_train)\n",
    "# agg_scores_col = [col for col in train_ds.columns if '_scores_' in col]\n",
    "# train_ds = train_ds.drop([f'{emb_name}_scores' for emb_name in list(norm_m_dict.keys())]).explode(['article'] + agg_scores_col)\n",
    "train_ds.head()"
   ]
  },
  {
   "cell_type": "markdown",
   "metadata": {},
   "source": [
    "## Apply weight"
   ]
  },
  {
   "cell_type": "code",
   "execution_count": 99,
   "metadata": {},
   "outputs": [
    {
     "data": {
      "text/html": [
       "<div><style>\n",
       ".dataframe > thead > tr,\n",
       ".dataframe > tbody > tr {\n",
       "  text-align: right;\n",
       "  white-space: pre-wrap;\n",
       "}\n",
       "</style>\n",
       "<small>shape: (2, 10)</small><table border=\"1\" class=\"dataframe\"><thead><tr><th>impression_id</th><th>user_id</th><th>article</th><th>contrastive_vector_scores</th><th>xlm_roberta_base_scores</th><th>image_embeddings_scores</th><th>bert_base_multilingual_cased_scores</th><th>read_time_fixed_article_len_ratio_l1_w</th><th>scroll_percentage_fixed_mmnorm_l1_w</th><th>time_to_impression_minutes_sqrt_l1_w</th></tr><tr><td>u32</td><td>u32</td><td>list[i32]</td><td>list[list[f32]]</td><td>list[list[f32]]</td><td>list[list[f32]]</td><td>list[list[f32]]</td><td>list[f64]</td><td>list[f32]</td><td>list[f64]</td></tr></thead><tbody><tr><td>2097255</td><td>63123</td><td>[9771916, 9771938, … 9771855]</td><td>[[0.557273, 0.317587, … 0.145003], [0.182505, 0.066342, … 0.131874], … [0.116064, 0.052735, … 0.095286]]</td><td>[[0.999381, 0.998612, … 0.999212], [0.998721, 0.997995, … 0.998756], … [0.998922, 0.998184, … 0.998931]]</td><td>[[0.618652, 0.237785, … 0.0], [0.022949, -0.205564, … 0.0], … [0.395846, 0.083482, … 0.0]]</td><td>[[0.986466, 0.981622, … 0.985318], [0.969257, 0.968638, … 0.966765], … [0.977267, 0.980927, … 0.981054]]</td><td>[0.00012, 0.000011, … 0.0]</td><td>[0.000822, 0.00069, … 0.0]</td><td>[0.000552, 0.000264, … 0.000329]</td></tr><tr><td>2097252</td><td>63123</td><td>[9761926, 9771896, … 9769370]</td><td>[[0.107697, 0.240556, … 0.207324], [0.269079, 0.082241, … 0.149119], … [0.188112, 0.083346, … 0.402493]]</td><td>[[0.998851, 0.998298, … 0.998933], [0.999403, 0.999, … 0.999468], … [0.999225, 0.998372, … 0.999208]]</td><td>[[0.339977, 0.162691, … 0.0], [0.174351, 0.361142, … 0.0], … [0.0, 0.0, … 0.0]]</td><td>[[0.981906, 0.986131, … 0.984856], [0.985936, 0.985265, … 0.98395], … [0.985635, 0.984928, … 0.988126]]</td><td>[0.00012, 0.000011, … 0.0]</td><td>[0.000822, 0.00069, … 0.0]</td><td>[0.000552, 0.000264, … 0.000329]</td></tr></tbody></table></div>"
      ],
      "text/plain": [
       "shape: (2, 10)\n",
       "┌────────────┬─────────┬───────────┬───────────┬───┬───────────┬───────────┬───────────┬───────────┐\n",
       "│ impression ┆ user_id ┆ article   ┆ contrasti ┆ … ┆ bert_base ┆ read_time ┆ scroll_pe ┆ time_to_i │\n",
       "│ _id        ┆ ---     ┆ ---       ┆ ve_vector ┆   ┆ _multilin ┆ _fixed_ar ┆ rcentage_ ┆ mpression │\n",
       "│ ---        ┆ u32     ┆ list[i32] ┆ _scores   ┆   ┆ gual_case ┆ ticle_len ┆ fixed_mmn ┆ _minutes_ │\n",
       "│ u32        ┆         ┆           ┆ ---       ┆   ┆ d_s…      ┆ _ra…      ┆ orm…      ┆ sqr…      │\n",
       "│            ┆         ┆           ┆ list[list ┆   ┆ ---       ┆ ---       ┆ ---       ┆ ---       │\n",
       "│            ┆         ┆           ┆ [f32]]    ┆   ┆ list[list ┆ list[f64] ┆ list[f32] ┆ list[f64] │\n",
       "│            ┆         ┆           ┆           ┆   ┆ [f32]]    ┆           ┆           ┆           │\n",
       "╞════════════╪═════════╪═══════════╪═══════════╪═══╪═══════════╪═══════════╪═══════════╪═══════════╡\n",
       "│ 2097255    ┆ 63123   ┆ [9771916, ┆ [[0.55727 ┆ … ┆ [[0.98646 ┆ [0.00012, ┆ [0.000822 ┆ [0.000552 │\n",
       "│            ┆         ┆ 9771938,  ┆ 3,        ┆   ┆ 6,        ┆ 0.000011, ┆ ,         ┆ ,         │\n",
       "│            ┆         ┆ …         ┆ 0.317587, ┆   ┆ 0.981622, ┆ … 0.0]    ┆ 0.00069,  ┆ 0.000264, │\n",
       "│            ┆         ┆ 9771855]  ┆ … 0.1450… ┆   ┆ … 0.9853… ┆           ┆ … 0.0]    ┆ …         │\n",
       "│            ┆         ┆           ┆           ┆   ┆           ┆           ┆           ┆ 0.00032…  │\n",
       "│ 2097252    ┆ 63123   ┆ [9761926, ┆ [[0.10769 ┆ … ┆ [[0.98190 ┆ [0.00012, ┆ [0.000822 ┆ [0.000552 │\n",
       "│            ┆         ┆ 9771896,  ┆ 7,        ┆   ┆ 6,        ┆ 0.000011, ┆ ,         ┆ ,         │\n",
       "│            ┆         ┆ …         ┆ 0.240556, ┆   ┆ 0.986131, ┆ … 0.0]    ┆ 0.00069,  ┆ 0.000264, │\n",
       "│            ┆         ┆ 9769370]  ┆ … 0.2073… ┆   ┆ … 0.9848… ┆           ┆ … 0.0]    ┆ …         │\n",
       "│            ┆         ┆           ┆           ┆   ┆           ┆           ┆           ┆ 0.00032…  │\n",
       "└────────────┴─────────┴───────────┴───────────┴───┴───────────┴───────────┴───────────┴───────────┘"
      ]
     },
     "execution_count": 99,
     "metadata": {},
     "output_type": "execute_result"
    }
   ],
   "source": [
    "x = train_ds.join(\n",
    "    history_all_w, on='user_id', how='left'\n",
    ")\n",
    "x.head(2)"
   ]
  },
  {
   "cell_type": "code",
   "execution_count": 100,
   "metadata": {},
   "outputs": [
    {
     "name": "stderr",
     "output_type": "stream",
     "text": [
      "\n",
      "\u001b[A\n",
      "\u001b[A\n",
      "\u001b[A\n",
      "\u001b[A\n",
      "\u001b[A\n",
      "\u001b[A\n",
      "\u001b[A\n",
      "\u001b[A\n",
      "\u001b[A\n",
      "100%|██████████| 466/466 [00:00<00:00, 502.65it/s]\n"
     ]
    },
    {
     "data": {
      "text/html": [
       "<div><style>\n",
       ".dataframe > thead > tr,\n",
       ".dataframe > tbody > tr {\n",
       "  text-align: right;\n",
       "  white-space: pre-wrap;\n",
       "}\n",
       "</style>\n",
       "<small>shape: (2, 19)</small><table border=\"1\" class=\"dataframe\"><thead><tr><th>impression_id</th><th>user_id</th><th>article</th><th>contrastive_vector_scores</th><th>xlm_roberta_base_scores</th><th>image_embeddings_scores</th><th>bert_base_multilingual_cased_scores</th><th>contrastive_vector_scores_weighted_read_time_fixed_article_len_ratio_l1_w</th><th>xlm_roberta_base_scores_weighted_read_time_fixed_article_len_ratio_l1_w</th><th>image_embeddings_scores_weighted_read_time_fixed_article_len_ratio_l1_w</th><th>bert_base_multilingual_cased_scores_weighted_read_time_fixed_article_len_ratio_l1_w</th><th>contrastive_vector_scores_weighted_scroll_percentage_fixed_mmnorm_l1_w</th><th>xlm_roberta_base_scores_weighted_scroll_percentage_fixed_mmnorm_l1_w</th><th>image_embeddings_scores_weighted_scroll_percentage_fixed_mmnorm_l1_w</th><th>bert_base_multilingual_cased_scores_weighted_scroll_percentage_fixed_mmnorm_l1_w</th><th>contrastive_vector_scores_weighted_time_to_impression_minutes_sqrt_l1_w</th><th>xlm_roberta_base_scores_weighted_time_to_impression_minutes_sqrt_l1_w</th><th>image_embeddings_scores_weighted_time_to_impression_minutes_sqrt_l1_w</th><th>bert_base_multilingual_cased_scores_weighted_time_to_impression_minutes_sqrt_l1_w</th></tr><tr><td>u32</td><td>u32</td><td>list[i32]</td><td>list[list[f32]]</td><td>list[list[f32]]</td><td>list[list[f32]]</td><td>list[list[f32]]</td><td>list[list[f64]]</td><td>list[list[f64]]</td><td>list[list[f64]]</td><td>list[list[f64]]</td><td>list[list[f32]]</td><td>list[list[f32]]</td><td>list[list[f32]]</td><td>list[list[f32]]</td><td>list[list[f64]]</td><td>list[list[f64]]</td><td>list[list[f64]]</td><td>list[list[f64]]</td></tr></thead><tbody><tr><td>2097252</td><td>63123</td><td>[9761926, 9771896, … 9769370]</td><td>[[0.107697, 0.240556, … 0.207324], [0.269079, 0.082241, … 0.149119], … [0.188112, 0.083346, … 0.402493]]</td><td>[[0.998851, 0.998298, … 0.998933], [0.999403, 0.999, … 0.999468], … [0.999225, 0.998372, … 0.999208]]</td><td>[[0.339977, 0.162691, … 0.0], [0.174351, 0.361142, … 0.0], … [0.0, 0.0, … 0.0]]</td><td>[[0.981906, 0.986131, … 0.984856], [0.985936, 0.985265, … 0.98395], … [0.985635, 0.984928, … 0.988126]]</td><td>[[0.000013, 0.000003, … 0.0], [0.000032, 8.8333e-7, … 0.0], … [0.000023, 8.9520e-7, … 0.0]]</td><td>[[0.00012, 0.000011, … 0.0], [0.00012, 0.000011, … 0.0], … [0.00012, 0.000011, … 0.0]]</td><td>[[0.000041, 0.000002, … 0.0], [0.000021, 0.000004, … 0.0], … [0.0, 0.0, … 0.0]]</td><td>[[0.000118, 0.000011, … 0.0], [0.000118, 0.000011, … 0.0], … [0.000118, 0.000011, … 0.0]]</td><td>[[0.000089, 0.000166, … 0.0], [0.000221, 0.000057, … 0.0], … [0.000155, 0.000058, … 0.0]]</td><td>[[0.000821, 0.000689, … 0.0], [0.000821, 0.00069, … 0.0], … [0.000821, 0.000689, … 0.0]]</td><td>[[0.000279, 0.000112, … 0.0], [0.000143, 0.000249, … 0.0], … [0.0, 0.0, … 0.0]]</td><td>[[0.000807, 0.000681, … 0.0], [0.00081, 0.00068, … 0.0], … [0.00081, 0.00068, … 0.0]]</td><td>[[0.000059, 0.000064, … 0.000068], [0.000149, 0.000022, … 0.000049], … [0.000104, 0.000022, … 0.000132]]</td><td>[[0.000552, 0.000264, … 0.000328], [0.000552, 0.000264, … 0.000329], … [0.000552, 0.000264, … 0.000328]]</td><td>[[0.000188, 0.000043, … 0.0], [0.000096, 0.000095, … 0.0], … [0.0, 0.0, … 0.0]]</td><td>[[0.000542, 0.000261, … 0.000324], [0.000545, 0.000261, … 0.000323], … [0.000544, 0.00026, … 0.000325]]</td></tr><tr><td>2097255</td><td>63123</td><td>[9771916, 9771938, … 9771855]</td><td>[[0.557273, 0.317587, … 0.145003], [0.182505, 0.066342, … 0.131874], … [0.116064, 0.052735, … 0.095286]]</td><td>[[0.999381, 0.998612, … 0.999212], [0.998721, 0.997995, … 0.998756], … [0.998922, 0.998184, … 0.998931]]</td><td>[[0.618652, 0.237785, … 0.0], [0.022949, -0.205564, … 0.0], … [0.395846, 0.083482, … 0.0]]</td><td>[[0.986466, 0.981622, … 0.985318], [0.969257, 0.968638, … 0.966765], … [0.977267, 0.980927, … 0.981054]]</td><td>[[0.000067, 0.000003, … 0.0], [0.000022, 7.1257e-7, … 0.0], … [0.000014, 5.6641e-7, … 0.0]]</td><td>[[0.00012, 0.000011, … 0.0], [0.00012, 0.000011, … 0.0], … [0.00012, 0.000011, … 0.0]]</td><td>[[0.000074, 0.000003, … 0.0], [0.000003, -0.000002, … 0.0], … [0.000048, 8.9666e-7, … 0.0]]</td><td>[[0.000118, 0.000011, … 0.0], [0.000116, 0.00001, … 0.0], … [0.000117, 0.000011, … 0.0]]</td><td>[[0.000458, 0.000219, … 0.0], [0.00015, 0.000046, … 0.0], … [0.000095, 0.000036, … 0.0]]</td><td>[[0.000821, 0.000689, … 0.0], [0.000821, 0.000689, … 0.0], … [0.000821, 0.000689, … 0.0]]</td><td>[[0.000508, 0.000164, … 0.0], [0.000019, -0.000142, … 0.0], … [0.000325, 0.000058, … 0.0]]</td><td>[[0.000811, 0.000678, … 0.0], [0.000797, 0.000669, … 0.0], … [0.000803, 0.000677, … 0.0]]</td><td>[[0.000308, 0.000084, … 0.000048], [0.000101, 0.000018, … 0.000043], … [0.000064, 0.000014, … 0.000031]]</td><td>[[0.000552, 0.000264, … 0.000328], [0.000552, 0.000264, … 0.000328], … [0.000552, 0.000264, … 0.000328]]</td><td>[[0.000342, 0.000063, … 0.0], [0.000013, -0.000054, … 0.0], … [0.000219, 0.000022, … 0.0]]</td><td>[[0.000545, 0.00026, … 0.000324], [0.000535, 0.000256, … 0.000318], … [0.00054, 0.000259, … 0.000323]]</td></tr></tbody></table></div>"
      ],
      "text/plain": [
       "shape: (2, 19)\n",
       "┌────────────┬─────────┬───────────┬───────────┬───┬───────────┬───────────┬───────────┬───────────┐\n",
       "│ impression ┆ user_id ┆ article   ┆ contrasti ┆ … ┆ contrasti ┆ xlm_rober ┆ image_emb ┆ bert_base │\n",
       "│ _id        ┆ ---     ┆ ---       ┆ ve_vector ┆   ┆ ve_vector ┆ ta_base_s ┆ eddings_s ┆ _multilin │\n",
       "│ ---        ┆ u32     ┆ list[i32] ┆ _scores   ┆   ┆ _scores_w ┆ cores_wei ┆ cores_wei ┆ gual_case │\n",
       "│ u32        ┆         ┆           ┆ ---       ┆   ┆ eig…      ┆ ght…      ┆ ght…      ┆ d_s…      │\n",
       "│            ┆         ┆           ┆ list[list ┆   ┆ ---       ┆ ---       ┆ ---       ┆ ---       │\n",
       "│            ┆         ┆           ┆ [f32]]    ┆   ┆ list[list ┆ list[list ┆ list[list ┆ list[list │\n",
       "│            ┆         ┆           ┆           ┆   ┆ [f64]]    ┆ [f64]]    ┆ [f64]]    ┆ [f64]]    │\n",
       "╞════════════╪═════════╪═══════════╪═══════════╪═══╪═══════════╪═══════════╪═══════════╪═══════════╡\n",
       "│ 2097252    ┆ 63123   ┆ [9761926, ┆ [[0.10769 ┆ … ┆ [[0.00005 ┆ [[0.00055 ┆ [[0.00018 ┆ [[0.00054 │\n",
       "│            ┆         ┆ 9771896,  ┆ 7,        ┆   ┆ 9,        ┆ 2,        ┆ 8,        ┆ 2,        │\n",
       "│            ┆         ┆ …         ┆ 0.240556, ┆   ┆ 0.000064, ┆ 0.000264, ┆ 0.000043, ┆ 0.000261, │\n",
       "│            ┆         ┆ 9769370]  ┆ … 0.2073… ┆   ┆ … 0.0000… ┆ … 0.0003… ┆ … 0.0], … ┆ … 0.0003… │\n",
       "│ 2097255    ┆ 63123   ┆ [9771916, ┆ [[0.55727 ┆ … ┆ [[0.00030 ┆ [[0.00055 ┆ [[0.00034 ┆ [[0.00054 │\n",
       "│            ┆         ┆ 9771938,  ┆ 3,        ┆   ┆ 8,        ┆ 2,        ┆ 2,        ┆ 5,        │\n",
       "│            ┆         ┆ …         ┆ 0.317587, ┆   ┆ 0.000084, ┆ 0.000264, ┆ 0.000063, ┆ 0.00026,  │\n",
       "│            ┆         ┆ 9771855]  ┆ … 0.1450… ┆   ┆ … 0.0000… ┆ … 0.0003… ┆ … 0.0], … ┆ …         │\n",
       "│            ┆         ┆           ┆           ┆   ┆           ┆           ┆           ┆ 0.00032…  │\n",
       "└────────────┴─────────┴───────────┴───────────┴───┴───────────┴───────────┴───────────┴───────────┘"
      ]
     },
     "execution_count": 100,
     "metadata": {},
     "output_type": "execute_result"
    }
   ],
   "source": [
    "l1_w_cols = [col for col in x.columns if col.endswith('_l1_w')]\n",
    "scores_cols = [col for col in x.columns if col.endswith('_scores')]\n",
    "train_ds_w = pl.concat([\n",
    "    slice.explode(['article'] + scores_cols).with_columns(\n",
    "        *[pl.lit(\n",
    "            np.array([np.array(i) for i in slice[col_score].explode().to_numpy()]) * slice[col_w][0].to_numpy()\n",
    "        ).alias(f'{col_score}_weighted_{col_w}')\n",
    "        for col_w in l1_w_cols for col_score in scores_cols]\n",
    "    ).drop(l1_w_cols).group_by('impression_id', 'user_id').agg(pl.all())\n",
    "    for key, slice in tqdm(x.partition_by(by=['user_id'], as_dict=True).items(), total=x['user_id'].n_unique())    \n",
    "])\n",
    "train_ds_w.head(2)\n"
   ]
  },
  {
   "cell_type": "code",
   "execution_count": 103,
   "metadata": {},
   "outputs": [
    {
     "name": "stdout",
     "output_type": "stream",
     "text": [
      "Memory usage of dataframe is 302.64 MB\n",
      "Memory usage after optimization is: 302.64 MB\n",
      "Decreased by 0.0%\n",
      "Starting to build aggregated scores for ['contrastive_vector_scores', 'xlm_roberta_base_scores', 'image_embeddings_scores', 'bert_base_multilingual_cased_scores', 'contrastive_vector_scores_weighted_read_time_fixed_article_len_ratio_l1_w', 'xlm_roberta_base_scores_weighted_read_time_fixed_article_len_ratio_l1_w', 'image_embeddings_scores_weighted_read_time_fixed_article_len_ratio_l1_w', 'bert_base_multilingual_cased_scores_weighted_read_time_fixed_article_len_ratio_l1_w', 'contrastive_vector_scores_weighted_scroll_percentage_fixed_mmnorm_l1_w', 'xlm_roberta_base_scores_weighted_scroll_percentage_fixed_mmnorm_l1_w', 'image_embeddings_scores_weighted_scroll_percentage_fixed_mmnorm_l1_w', 'bert_base_multilingual_cased_scores_weighted_scroll_percentage_fixed_mmnorm_l1_w', 'contrastive_vector_scores_weighted_time_to_impression_minutes_sqrt_l1_w', 'xlm_roberta_base_scores_weighted_time_to_impression_minutes_sqrt_l1_w', 'image_embeddings_scores_weighted_time_to_impression_minutes_sqrt_l1_w', 'bert_base_multilingual_cased_scores_weighted_time_to_impression_minutes_sqrt_l1_w']...\n"
     ]
    },
    {
     "data": {
      "text/html": [
       "<div><style>\n",
       ".dataframe > thead > tr,\n",
       ".dataframe > tbody > tr {\n",
       "  text-align: right;\n",
       "  white-space: pre-wrap;\n",
       "}\n",
       "</style>\n",
       "<small>shape: (2, 83)</small><table border=\"1\" class=\"dataframe\"><thead><tr><th>impression_id</th><th>user_id</th><th>article</th><th>contrastive_vector_scores_mean</th><th>xlm_roberta_base_scores_mean</th><th>image_embeddings_scores_mean</th><th>bert_base_multilingual_cased_scores_mean</th><th>contrastive_vector_scores_weighted_read_time_fixed_article_len_ratio_l1_w_mean</th><th>xlm_roberta_base_scores_weighted_read_time_fixed_article_len_ratio_l1_w_mean</th><th>image_embeddings_scores_weighted_read_time_fixed_article_len_ratio_l1_w_mean</th><th>bert_base_multilingual_cased_scores_weighted_read_time_fixed_article_len_ratio_l1_w_mean</th><th>contrastive_vector_scores_weighted_scroll_percentage_fixed_mmnorm_l1_w_mean</th><th>xlm_roberta_base_scores_weighted_scroll_percentage_fixed_mmnorm_l1_w_mean</th><th>image_embeddings_scores_weighted_scroll_percentage_fixed_mmnorm_l1_w_mean</th><th>bert_base_multilingual_cased_scores_weighted_scroll_percentage_fixed_mmnorm_l1_w_mean</th><th>contrastive_vector_scores_weighted_time_to_impression_minutes_sqrt_l1_w_mean</th><th>xlm_roberta_base_scores_weighted_time_to_impression_minutes_sqrt_l1_w_mean</th><th>image_embeddings_scores_weighted_time_to_impression_minutes_sqrt_l1_w_mean</th><th>bert_base_multilingual_cased_scores_weighted_time_to_impression_minutes_sqrt_l1_w_mean</th><th>contrastive_vector_scores_max</th><th>xlm_roberta_base_scores_max</th><th>image_embeddings_scores_max</th><th>bert_base_multilingual_cased_scores_max</th><th>contrastive_vector_scores_weighted_read_time_fixed_article_len_ratio_l1_w_max</th><th>xlm_roberta_base_scores_weighted_read_time_fixed_article_len_ratio_l1_w_max</th><th>image_embeddings_scores_weighted_read_time_fixed_article_len_ratio_l1_w_max</th><th>bert_base_multilingual_cased_scores_weighted_read_time_fixed_article_len_ratio_l1_w_max</th><th>contrastive_vector_scores_weighted_scroll_percentage_fixed_mmnorm_l1_w_max</th><th>xlm_roberta_base_scores_weighted_scroll_percentage_fixed_mmnorm_l1_w_max</th><th>image_embeddings_scores_weighted_scroll_percentage_fixed_mmnorm_l1_w_max</th><th>bert_base_multilingual_cased_scores_weighted_scroll_percentage_fixed_mmnorm_l1_w_max</th><th>contrastive_vector_scores_weighted_time_to_impression_minutes_sqrt_l1_w_max</th><th>xlm_roberta_base_scores_weighted_time_to_impression_minutes_sqrt_l1_w_max</th><th>image_embeddings_scores_weighted_time_to_impression_minutes_sqrt_l1_w_max</th><th>bert_base_multilingual_cased_scores_weighted_time_to_impression_minutes_sqrt_l1_w_max</th><th>contrastive_vector_scores_min</th><th>xlm_roberta_base_scores_min</th><th>&hellip;</th><th>bert_base_multilingual_cased_scores_weighted_scroll_percentage_fixed_mmnorm_l1_w_min</th><th>contrastive_vector_scores_weighted_time_to_impression_minutes_sqrt_l1_w_min</th><th>xlm_roberta_base_scores_weighted_time_to_impression_minutes_sqrt_l1_w_min</th><th>image_embeddings_scores_weighted_time_to_impression_minutes_sqrt_l1_w_min</th><th>bert_base_multilingual_cased_scores_weighted_time_to_impression_minutes_sqrt_l1_w_min</th><th>contrastive_vector_scores_std</th><th>xlm_roberta_base_scores_std</th><th>image_embeddings_scores_std</th><th>bert_base_multilingual_cased_scores_std</th><th>contrastive_vector_scores_weighted_read_time_fixed_article_len_ratio_l1_w_std</th><th>xlm_roberta_base_scores_weighted_read_time_fixed_article_len_ratio_l1_w_std</th><th>image_embeddings_scores_weighted_read_time_fixed_article_len_ratio_l1_w_std</th><th>bert_base_multilingual_cased_scores_weighted_read_time_fixed_article_len_ratio_l1_w_std</th><th>contrastive_vector_scores_weighted_scroll_percentage_fixed_mmnorm_l1_w_std</th><th>xlm_roberta_base_scores_weighted_scroll_percentage_fixed_mmnorm_l1_w_std</th><th>image_embeddings_scores_weighted_scroll_percentage_fixed_mmnorm_l1_w_std</th><th>bert_base_multilingual_cased_scores_weighted_scroll_percentage_fixed_mmnorm_l1_w_std</th><th>contrastive_vector_scores_weighted_time_to_impression_minutes_sqrt_l1_w_std</th><th>xlm_roberta_base_scores_weighted_time_to_impression_minutes_sqrt_l1_w_std</th><th>image_embeddings_scores_weighted_time_to_impression_minutes_sqrt_l1_w_std</th><th>bert_base_multilingual_cased_scores_weighted_time_to_impression_minutes_sqrt_l1_w_std</th><th>contrastive_vector_scores_median</th><th>xlm_roberta_base_scores_median</th><th>image_embeddings_scores_median</th><th>bert_base_multilingual_cased_scores_median</th><th>contrastive_vector_scores_weighted_read_time_fixed_article_len_ratio_l1_w_median</th><th>xlm_roberta_base_scores_weighted_read_time_fixed_article_len_ratio_l1_w_median</th><th>image_embeddings_scores_weighted_read_time_fixed_article_len_ratio_l1_w_median</th><th>bert_base_multilingual_cased_scores_weighted_read_time_fixed_article_len_ratio_l1_w_median</th><th>contrastive_vector_scores_weighted_scroll_percentage_fixed_mmnorm_l1_w_median</th><th>xlm_roberta_base_scores_weighted_scroll_percentage_fixed_mmnorm_l1_w_median</th><th>image_embeddings_scores_weighted_scroll_percentage_fixed_mmnorm_l1_w_median</th><th>bert_base_multilingual_cased_scores_weighted_scroll_percentage_fixed_mmnorm_l1_w_median</th><th>contrastive_vector_scores_weighted_time_to_impression_minutes_sqrt_l1_w_median</th><th>xlm_roberta_base_scores_weighted_time_to_impression_minutes_sqrt_l1_w_median</th><th>image_embeddings_scores_weighted_time_to_impression_minutes_sqrt_l1_w_median</th><th>bert_base_multilingual_cased_scores_weighted_time_to_impression_minutes_sqrt_l1_w_median</th></tr><tr><td>u32</td><td>u32</td><td>list[i32]</td><td>list[f32]</td><td>list[f32]</td><td>list[f32]</td><td>list[f32]</td><td>list[f64]</td><td>list[f64]</td><td>list[f64]</td><td>list[f64]</td><td>list[f32]</td><td>list[f32]</td><td>list[f32]</td><td>list[f32]</td><td>list[f64]</td><td>list[f64]</td><td>list[f64]</td><td>list[f64]</td><td>list[f32]</td><td>list[f32]</td><td>list[f32]</td><td>list[f32]</td><td>list[f64]</td><td>list[f64]</td><td>list[f64]</td><td>list[f64]</td><td>list[f32]</td><td>list[f32]</td><td>list[f32]</td><td>list[f32]</td><td>list[f64]</td><td>list[f64]</td><td>list[f64]</td><td>list[f64]</td><td>list[f32]</td><td>list[f32]</td><td>&hellip;</td><td>list[f32]</td><td>list[f64]</td><td>list[f64]</td><td>list[f64]</td><td>list[f64]</td><td>list[f32]</td><td>list[f32]</td><td>list[f32]</td><td>list[f32]</td><td>list[f64]</td><td>list[f64]</td><td>list[f64]</td><td>list[f64]</td><td>list[f32]</td><td>list[f32]</td><td>list[f32]</td><td>list[f32]</td><td>list[f64]</td><td>list[f64]</td><td>list[f64]</td><td>list[f64]</td><td>list[f32]</td><td>list[f32]</td><td>list[f32]</td><td>list[f32]</td><td>list[f64]</td><td>list[f64]</td><td>list[f64]</td><td>list[f64]</td><td>list[f32]</td><td>list[f32]</td><td>list[f32]</td><td>list[f32]</td><td>list[f64]</td><td>list[f64]</td><td>list[f64]</td><td>list[f64]</td></tr></thead><tbody><tr><td>2097252</td><td>63123</td><td>[9761926, 9771896, … 9769370]</td><td>[0.175282, 0.2935, … 0.229902]</td><td>[0.999008, 0.999115, … 0.99925]</td><td>[0.194606, 0.14915, … 0.0]</td><td>[0.966587, 0.965852, … 0.9677]</td><td>[0.00015, 0.000195, … 0.000106]</td><td>[0.001376, 0.001376, … 0.001376]</td><td>[0.00033, 0.000317, … 0.0]</td><td>[0.00127, 0.001265, … 0.001271]</td><td>[0.000255, 0.000428, … 0.000342]</td><td>[0.001376, 0.001376, … 0.001376]</td><td>[0.000278, 0.000226, … 0.0]</td><td>[0.001337, 0.001336, … 0.001338]</td><td>[0.000312, 0.000492, … 0.000326]</td><td>[0.001376, 0.001376, … 0.001376]</td><td>[0.000259, 0.00022, … 0.0]</td><td>[0.001336, 0.001335, … 0.001336]</td><td>[0.797017, 0.771882, … 0.716651]</td><td>[0.999568, 0.999626, … 0.999731]</td><td>[0.911962, 0.80103, … 0.0]</td><td>[0.99214, 0.993042, … 0.993572]</td><td>[0.006662, 0.014161, … 0.005872]</td><td>[0.1747, 0.174706, … 0.174748]</td><td>[0.090131, 0.11578, … 0.0]</td><td>[0.163513, 0.161841, … 0.163951]</td><td>[0.002532, 0.002505, … 0.002356]</td><td>[0.003286, 0.003286, … 0.003286]</td><td>[0.002998, 0.002599, … 0.0]</td><td>[0.003258, 0.003264, … 0.003264]</td><td>[0.011884, 0.01939, … 0.00858]</td><td>[0.059949, 0.059941, … 0.059956]</td><td>[0.013416, 0.007883, … 0.0]</td><td>[0.058689, 0.059149, … 0.058883]</td><td>[-0.0649, -0.109783, … -0.180447]</td><td>[0.992307, 0.994077, … 0.992055]</td><td>&hellip;</td><td>[-0.0, -0.0, … -0.0]</td><td>[-0.000047, -0.000131, … -0.00023]</td><td>[0.000113, 0.000113, … 0.000113]</td><td>[-0.003801, -0.00301, … 0.0]</td><td>[-0.000153, -0.00015, … -0.000147]</td><td>[0.103359, 0.186201, … 0.143388]</td><td>[0.000528, 0.000401, … 0.000559]</td><td>[0.247309, 0.217667, … 0.0]</td><td>[0.074262, 0.07411, … 0.074224]</td><td>[0.000592, 0.001078, … 0.000829]</td><td>[0.008901, 0.008901, … 0.008903]</td><td>[0.003747, 0.004454, … 0.0]</td><td>[0.007923, 0.007866, … 0.007937]</td><td>[0.000298, 0.000482, … 0.000362]</td><td>[0.001106, 0.001106, … 0.001106]</td><td>[0.000472, 0.000448, … 0.0]</td><td>[0.001072, 0.001071, … 0.001073]</td><td>[0.001201, 0.00166, … 0.000819]</td><td>[0.003389, 0.003388, … 0.003389]</td><td>[0.000912, 0.000793, … 0.0]</td><td>[0.003331, 0.003339, … 0.003331]</td><td>[0.163243, 0.262363, … 0.222947]</td><td>[0.999121, 0.99918, … 0.99936]</td><td>[0.123727, 0.079192, … 0.0]</td><td>[0.982949, 0.98281, … 0.983546]</td><td>[0.000013, 0.000019, … 0.000016]</td><td>[0.000089, 0.000089, … 0.000089]</td><td>[0.000005, 0.000003, … 0.0]</td><td>[0.000086, 0.000085, … 0.000086]</td><td>[0.000176, 0.000265, … 0.000227]</td><td>[0.001084, 0.001084, … 0.001084]</td><td>[0.00002, 0.0, … 0.0]</td><td>[0.001044, 0.001046, … 0.001051]</td><td>[0.000116, 0.000185, … 0.000154]</td><td>[0.000726, 0.000726, … 0.000726]</td><td>[0.00008, 0.000057, … 0.0]</td><td>[0.000698, 0.000694, … 0.000698]</td></tr><tr><td>2097255</td><td>63123</td><td>[9771916, 9771938, … 9771855]</td><td>[0.200907, 0.154063, … 0.251488]</td><td>[0.999051, 0.998986, … 0.999161]</td><td>[0.198911, 0.193671, … 0.162336]</td><td>[0.961375, 0.951313, … 0.965217]</td><td>[0.000126, 0.000107, … 0.000175]</td><td>[0.001376, 0.001376, … 0.001376]</td><td>[0.000226, 0.00029, … 0.000337]</td><td>[0.001262, 0.001249, … 0.001273]</td><td>[0.000277, 0.000225, … 0.000368]</td><td>[0.001376, 0.001376, … 0.001376]</td><td>[0.000282, 0.000275, … 0.00024]</td><td>[0.00133, 0.001316, … 0.001335]</td><td>[0.000268, 0.000226, … 0.000474]</td><td>[0.001376, 0.001376, … 0.001376]</td><td>[0.000345, 0.000259, … 0.000233]</td><td>[0.001327, 0.001313, … 0.001333]</td><td>[0.909731, 0.94831, … 0.87319]</td><td>[0.999661, 0.999873, … 0.999793]</td><td>[0.791619, 0.880052, … 0.867757]</td><td>[0.990057, 0.993238, … 0.99174]</td><td>[0.008613, 0.00695, … 0.012875]</td><td>[0.174697, 0.174734, … 0.174727]</td><td>[0.019199, 0.066946, … 0.088744]</td><td>[0.162056, 0.163121, … 0.16432]</td><td>[0.002857, 0.002695, … 0.00283]</td><td>[0.003286, 0.003286, … 0.003287]</td><td>[0.002522, 0.002729, … 0.002853]</td><td>[0.003238, 0.003249, … 0.003249]</td><td>[0.007098, 0.007963, … 0.021301]</td><td>[0.059936, 0.059946, … 0.05997]</td><td>[0.025202, 0.009532, … 0.007328]</td><td>[0.058207, 0.058001, … 0.058468]</td><td>[-0.117726, -0.097062, … -0.063647]</td><td>[0.992668, 0.992133, … 0.991547]</td><td>&hellip;</td><td>[-0.0, -0.0, … -0.0]</td><td>[-0.00014, -0.000057, … -0.000071]</td><td>[0.000113, 0.000113, … 0.000113]</td><td>[-0.00125, -0.011343, … -0.001147]</td><td>[-0.000137, -0.000145, … -0.000143]</td><td>[0.176701, 0.171519, … 0.187725]</td><td>[0.000481, 0.00058, … 0.000631]</td><td>[0.237967, 0.261545, … 0.235213]</td><td>[0.073118, 0.073395, … 0.072741]</td><td>[0.000605, 0.000469, … 0.000957]</td><td>[0.0089, 0.008902, … 0.008903]</td><td>[0.00142, 0.003239, … 0.003578]</td><td>[0.00787, 0.007832, … 0.007961]</td><td>[0.000348, 0.000362, … 0.000473]</td><td>[0.001106, 0.001106, … 0.001106]</td><td>[0.000463, 0.000523, … 0.000473]</td><td>[0.001066, 0.001054, … 0.001071]</td><td>[0.000639, 0.000605, … 0.001857]</td><td>[0.003388, 0.003388, … 0.00339]</td><td>[0.001371, 0.001098, … 0.000711]</td><td>[0.003303, 0.003267, … 0.003316]</td><td>[0.159288, 0.101472, … 0.206196]</td><td>[0.999138, 0.999105, … 0.999317]</td><td>[0.163326, 0.129527, … 0.091122]</td><td>[0.977341, 0.966508, … 0.979482]</td><td>[0.000012, 0.000008, … 0.000015]</td><td>[0.000089, 0.000089, … 0.000089]</td><td>[0.000007, 0.000004, … 0.000003]</td><td>[0.000085, 0.000084, … 0.000085]</td><td>[0.000166, 0.00011, … 0.000211]</td><td>[0.001084, 0.001084, … 0.001084]</td><td>[0.000085, 0.0, … 0.0]</td><td>[0.00104, 0.001038, … 0.00105]</td><td>[0.000118, 0.000073, … 0.000144]</td><td>[0.000726, 0.000726, … 0.000726]</td><td>[0.000091, 0.000084, … 0.000057]</td><td>[0.000694, 0.000686, … 0.000699]</td></tr></tbody></table></div>"
      ],
      "text/plain": [
       "shape: (2, 83)\n",
       "┌────────────┬─────────┬───────────┬───────────┬───┬───────────┬───────────┬───────────┬───────────┐\n",
       "│ impression ┆ user_id ┆ article   ┆ contrasti ┆ … ┆ contrasti ┆ xlm_rober ┆ image_emb ┆ bert_base │\n",
       "│ _id        ┆ ---     ┆ ---       ┆ ve_vector ┆   ┆ ve_vector ┆ ta_base_s ┆ eddings_s ┆ _multilin │\n",
       "│ ---        ┆ u32     ┆ list[i32] ┆ _scores_m ┆   ┆ _scores_w ┆ cores_wei ┆ cores_wei ┆ gual_case │\n",
       "│ u32        ┆         ┆           ┆ ean       ┆   ┆ eig…      ┆ ght…      ┆ ght…      ┆ d_s…      │\n",
       "│            ┆         ┆           ┆ ---       ┆   ┆ ---       ┆ ---       ┆ ---       ┆ ---       │\n",
       "│            ┆         ┆           ┆ list[f32] ┆   ┆ list[f64] ┆ list[f64] ┆ list[f64] ┆ list[f64] │\n",
       "╞════════════╪═════════╪═══════════╪═══════════╪═══╪═══════════╪═══════════╪═══════════╪═══════════╡\n",
       "│ 2097252    ┆ 63123   ┆ [9761926, ┆ [0.175282 ┆ … ┆ [0.000116 ┆ [0.000726 ┆ [0.00008, ┆ [0.000698 │\n",
       "│            ┆         ┆ 9771896,  ┆ , 0.2935, ┆   ┆ ,         ┆ ,         ┆ 0.000057, ┆ ,         │\n",
       "│            ┆         ┆ …         ┆ …         ┆   ┆ 0.000185, ┆ 0.000726, ┆ … 0.0]    ┆ 0.000694, │\n",
       "│            ┆         ┆ 9769370]  ┆ 0.229902] ┆   ┆ …         ┆ …         ┆           ┆ …         │\n",
       "│            ┆         ┆           ┆           ┆   ┆ 0.00015…  ┆ 0.00072…  ┆           ┆ 0.00069…  │\n",
       "│ 2097255    ┆ 63123   ┆ [9771916, ┆ [0.200907 ┆ … ┆ [0.000118 ┆ [0.000726 ┆ [0.000091 ┆ [0.000694 │\n",
       "│            ┆         ┆ 9771938,  ┆ ,         ┆   ┆ ,         ┆ ,         ┆ ,         ┆ ,         │\n",
       "│            ┆         ┆ …         ┆ 0.154063, ┆   ┆ 0.000073, ┆ 0.000726, ┆ 0.000084, ┆ 0.000686, │\n",
       "│            ┆         ┆ 9771855]  ┆ …         ┆   ┆ …         ┆ …         ┆ …         ┆ …         │\n",
       "│            ┆         ┆           ┆ 0.25148…  ┆   ┆ 0.00014…  ┆ 0.00072…  ┆ 0.00005…  ┆ 0.00069…  │\n",
       "└────────────┴─────────┴───────────┴───────────┴───┴───────────┴───────────┴───────────┴───────────┘"
      ]
     },
     "execution_count": 103,
     "metadata": {},
     "output_type": "execute_result"
    }
   ],
   "source": [
    "scores_col = [col for col in train_ds_w.columns if '_scores' in col]\n",
    "train_ds_w_aggs = build_agg_scores(train_ds_w).drop(scores_col)\n",
    "train_ds_w_aggs.head(2)"
   ]
  },
  {
   "cell_type": "code",
   "execution_count": null,
   "metadata": {},
   "outputs": [],
   "source": []
  }
 ],
 "metadata": {
  "kernelspec": {
   "display_name": "recsys",
   "language": "python",
   "name": "python3"
  },
  "language_info": {
   "codemirror_mode": {
    "name": "ipython",
    "version": 3
   },
   "file_extension": ".py",
   "mimetype": "text/x-python",
   "name": "python",
   "nbconvert_exporter": "python",
   "pygments_lexer": "ipython3",
   "version": "3.11.0"
  }
 },
 "nbformat": 4,
 "nbformat_minor": 2
}
