{
 "cells": [
  {
   "cell_type": "code",
   "execution_count": 1,
   "id": "d9a85e16",
   "metadata": {
    "execution": {
     "iopub.execute_input": "2024-05-19T10:17:53.316794Z",
     "iopub.status.busy": "2024-05-19T10:17:53.315610Z",
     "iopub.status.idle": "2024-05-19T10:17:59.094592Z",
     "shell.execute_reply": "2024-05-19T10:17:59.093308Z"
    },
    "papermill": {
     "duration": 5.812863,
     "end_time": "2024-05-19T10:17:59.097550",
     "exception": false,
     "start_time": "2024-05-19T10:17:53.284687",
     "status": "completed"
    },
    "tags": []
   },
   "outputs": [
    {
     "name": "stdout",
     "output_type": "stream",
     "text": [
      "Cloning into 'RecSysChallenge2024'...\r\n",
      "remote: Enumerating objects: 3419, done.\u001b[K\r\n",
      "remote: Counting objects: 100% (1029/1029), done.\u001b[K\r\n",
      "remote: Compressing objects: 100% (368/368), done.\u001b[K\r\n",
      "remote: Total 3419 (delta 693), reused 979 (delta 658), pack-reused 2390\u001b[K\r\n",
      "Receiving objects: 100% (3419/3419), 43.21 MiB | 21.29 MiB/s, done.\r\n",
      "Resolving deltas: 100% (2188/2188), done.\r\n"
     ]
    }
   ],
   "source": [
    "from kaggle_secrets import UserSecretsClient\n",
    "secret_label = \"Token\"\n",
    "token = UserSecretsClient().get_secret(secret_label)\n",
    "\n",
    "! git clone https://{token}@github.com/FrancescoZanella/RecSysChallenge2024.git"
   ]
  },
  {
   "cell_type": "code",
   "execution_count": 2,
   "id": "f8cfc355",
   "metadata": {
    "execution": {
     "iopub.execute_input": "2024-05-19T10:17:59.169742Z",
     "iopub.status.busy": "2024-05-19T10:17:59.168519Z",
     "iopub.status.idle": "2024-05-19T10:17:59.179191Z",
     "shell.execute_reply": "2024-05-19T10:17:59.177262Z"
    },
    "papermill": {
     "duration": 0.04861,
     "end_time": "2024-05-19T10:17:59.182445",
     "exception": false,
     "start_time": "2024-05-19T10:17:59.133835",
     "status": "completed"
    },
    "tags": []
   },
   "outputs": [
    {
     "name": "stdout",
     "output_type": "stream",
     "text": [
      "/kaggle/working/RecSysChallenge2024/src\n"
     ]
    }
   ],
   "source": [
    "%cd /kaggle/working/RecSysChallenge2024/src"
   ]
  },
  {
   "cell_type": "code",
   "execution_count": 3,
   "id": "42944b0e",
   "metadata": {
    "execution": {
     "iopub.execute_input": "2024-05-19T10:17:59.243638Z",
     "iopub.status.busy": "2024-05-19T10:17:59.242724Z",
     "iopub.status.idle": "2024-05-19T10:18:34.730990Z",
     "shell.execute_reply": "2024-05-19T10:18:34.729633Z"
    },
    "papermill": {
     "duration": 35.521873,
     "end_time": "2024-05-19T10:18:34.734073",
     "exception": false,
     "start_time": "2024-05-19T10:17:59.212200",
     "status": "completed"
    },
    "tags": []
   },
   "outputs": [
    {
     "name": "stdout",
     "output_type": "stream",
     "text": [
      "Requirement already satisfied: polars in /opt/conda/lib/python3.10/site-packages (0.20.15)\r\n",
      "Collecting polars\r\n",
      "  Downloading polars-0.20.26-cp38-abi3-manylinux_2_17_x86_64.manylinux2014_x86_64.whl.metadata (14 kB)\r\n",
      "Downloading polars-0.20.26-cp38-abi3-manylinux_2_17_x86_64.manylinux2014_x86_64.whl (28.0 MB)\r\n",
      "\u001b[2K   \u001b[90m━━━━━━━━━━━━━━━━━━━━━━━━━━━━━━━━━━━━━━━━\u001b[0m \u001b[32m28.0/28.0 MB\u001b[0m \u001b[31m43.7 MB/s\u001b[0m eta \u001b[36m0:00:00\u001b[0m\r\n",
      "\u001b[?25hInstalling collected packages: polars\r\n",
      "  Attempting uninstall: polars\r\n",
      "    Found existing installation: polars 0.20.15\r\n",
      "    Uninstalling polars-0.20.15:\r\n",
      "      Successfully uninstalled polars-0.20.15\r\n",
      "Successfully installed polars-0.20.26\r\n"
     ]
    }
   ],
   "source": [
    "! pip install --upgrade polars"
   ]
  },
  {
   "cell_type": "code",
   "execution_count": 4,
   "id": "9fd3e63b",
   "metadata": {
    "execution": {
     "iopub.execute_input": "2024-05-19T10:18:34.797717Z",
     "iopub.status.busy": "2024-05-19T10:18:34.797248Z",
     "iopub.status.idle": "2024-05-19T10:18:55.458240Z",
     "shell.execute_reply": "2024-05-19T10:18:55.456798Z"
    },
    "papermill": {
     "duration": 20.696612,
     "end_time": "2024-05-19T10:18:55.461266",
     "exception": false,
     "start_time": "2024-05-19T10:18:34.764654",
     "status": "completed"
    },
    "tags": []
   },
   "outputs": [
    {
     "name": "stdout",
     "output_type": "stream",
     "text": [
      "Collecting simsimd\r\n",
      "  Downloading simsimd-4.3.1-cp310-cp310-manylinux_2_28_x86_64.whl.metadata (30 kB)\r\n",
      "Collecting scikit-learn==1.4.2\r\n",
      "  Downloading scikit_learn-1.4.2-cp310-cp310-manylinux_2_17_x86_64.manylinux2014_x86_64.whl.metadata (11 kB)\r\n",
      "Requirement already satisfied: numpy>=1.19.5 in /opt/conda/lib/python3.10/site-packages (from scikit-learn==1.4.2) (1.26.4)\r\n",
      "Requirement already satisfied: scipy>=1.6.0 in /opt/conda/lib/python3.10/site-packages (from scikit-learn==1.4.2) (1.11.4)\r\n",
      "Requirement already satisfied: joblib>=1.2.0 in /opt/conda/lib/python3.10/site-packages (from scikit-learn==1.4.2) (1.3.2)\r\n",
      "Requirement already satisfied: threadpoolctl>=2.0.0 in /opt/conda/lib/python3.10/site-packages (from scikit-learn==1.4.2) (3.2.0)\r\n",
      "Downloading scikit_learn-1.4.2-cp310-cp310-manylinux_2_17_x86_64.manylinux2014_x86_64.whl (12.1 MB)\r\n",
      "\u001b[2K   \u001b[90m━━━━━━━━━━━━━━━━━━━━━━━━━━━━━━━━━━━━━━━━\u001b[0m \u001b[32m12.1/12.1 MB\u001b[0m \u001b[31m70.1 MB/s\u001b[0m eta \u001b[36m0:00:00\u001b[0m\r\n",
      "\u001b[?25hDownloading simsimd-4.3.1-cp310-cp310-manylinux_2_28_x86_64.whl (382 kB)\r\n",
      "\u001b[2K   \u001b[90m━━━━━━━━━━━━━━━━━━━━━━━━━━━━━━━━━━━━━━━━\u001b[0m \u001b[32m382.2/382.2 kB\u001b[0m \u001b[31m16.8 MB/s\u001b[0m eta \u001b[36m0:00:00\u001b[0m\r\n",
      "\u001b[?25hInstalling collected packages: simsimd, scikit-learn\r\n",
      "  Attempting uninstall: scikit-learn\r\n",
      "    Found existing installation: scikit-learn 1.2.2\r\n",
      "    Uninstalling scikit-learn-1.2.2:\r\n",
      "      Successfully uninstalled scikit-learn-1.2.2\r\n",
      "\u001b[31mERROR: pip's dependency resolver does not currently take into account all the packages that are installed. This behaviour is the source of the following dependency conflicts.\r\n",
      "spopt 0.6.0 requires shapely>=2.0.1, but you have shapely 1.8.5.post1 which is incompatible.\u001b[0m\u001b[31m\r\n",
      "\u001b[0mSuccessfully installed scikit-learn-1.4.2 simsimd-4.3.1\r\n"
     ]
    }
   ],
   "source": [
    "! pip install simsimd scikit-learn==1.4.2"
   ]
  },
  {
   "cell_type": "code",
   "execution_count": 5,
   "id": "1358731c",
   "metadata": {
    "_cell_guid": "b1076dfc-b9ad-4769-8c92-a6c4dae69d19",
    "_uuid": "8f2839f25d086af736a60e9eeb907d3b93b6e0e5",
    "execution": {
     "iopub.execute_input": "2024-05-19T10:18:55.528494Z",
     "iopub.status.busy": "2024-05-19T10:18:55.528061Z",
     "iopub.status.idle": "2024-05-19T10:19:18.736766Z",
     "shell.execute_reply": "2024-05-19T10:19:18.735499Z"
    },
    "papermill": {
     "duration": 23.246139,
     "end_time": "2024-05-19T10:19:18.739892",
     "exception": false,
     "start_time": "2024-05-19T10:18:55.493753",
     "status": "completed"
    },
    "tags": []
   },
   "outputs": [
    {
     "name": "stderr",
     "output_type": "stream",
     "text": [
      "2024-05-19 10:19:05.344074: E external/local_xla/xla/stream_executor/cuda/cuda_dnn.cc:9261] Unable to register cuDNN factory: Attempting to register factory for plugin cuDNN when one has already been registered\n",
      "2024-05-19 10:19:05.344215: E external/local_xla/xla/stream_executor/cuda/cuda_fft.cc:607] Unable to register cuFFT factory: Attempting to register factory for plugin cuFFT when one has already been registered\n",
      "2024-05-19 10:19:05.517767: E external/local_xla/xla/stream_executor/cuda/cuda_blas.cc:1515] Unable to register cuBLAS factory: Attempting to register factory for plugin cuBLAS when one has already been registered\n"
     ]
    }
   ],
   "source": [
    "import numpy as np\n",
    "import pandas as pd\n",
    "import matplotlib.pyplot as plt\n",
    "import seaborn as sns\n",
    "from pathlib import Path\n",
    "import polars as pl\n",
    "import scipy.stats as stats\n",
    "import scipy.sparse as sps\n",
    "import random\n",
    "import logging\n",
    "import gc\n",
    "import tqdm\n",
    "\n",
    "from ebrec.utils._descriptive_analysis import (\n",
    "    min_max_impression_time_behaviors, \n",
    "    min_max_impression_time_history\n",
    ")\n",
    "from ebrec.utils._polars import slice_join_dataframes\n",
    "from ebrec.utils._behaviors import (\n",
    "    create_binary_labels_column,\n",
    "    sampling_strategy_wu2019,\n",
    "    truncate_history,\n",
    ")\n",
    "from ebrec.utils._constants import (\n",
    "    DEFAULT_HISTORY_ARTICLE_ID_COL,\n",
    "    DEFAULT_CLICKED_ARTICLES_COL,\n",
    "    DEFAULT_INVIEW_ARTICLES_COL,\n",
    "    DEFAULT_USER_COL\n",
    ")\n",
    "from ebrec.evaluation.metrics_protocols import *\n",
    "from polimi.utils._catboost import (\n",
    "    _preprocessing_history_trendiness_scores, \n",
    "    add_history_trendiness_scores_feature, \n",
    "    _preprocessing_mean_delay_features, \n",
    "    add_mean_delays_features, \n",
    "    _preprocessing_window_features, \n",
    "    add_window_features, \n",
    "    add_trendiness_feature_categories, \n",
    "    _preprocessing_article_endorsement_feature, \n",
    "    get_unique_categories,\n",
    "    add_trendiness_feature,\n",
    "    _preprocessing_article_endorsement_feature_by_article_and_user,\n",
    ")\n",
    "\n",
    "from sklearn.preprocessing import QuantileTransformer, OrdinalEncoder"
   ]
  },
  {
   "cell_type": "code",
   "execution_count": 6,
   "id": "ded5304f",
   "metadata": {
    "execution": {
     "iopub.execute_input": "2024-05-19T10:19:18.807978Z",
     "iopub.status.busy": "2024-05-19T10:19:18.806469Z",
     "iopub.status.idle": "2024-05-19T10:19:18.816625Z",
     "shell.execute_reply": "2024-05-19T10:19:18.815361Z"
    },
    "papermill": {
     "duration": 0.046892,
     "end_time": "2024-05-19T10:19:18.819226",
     "exception": false,
     "start_time": "2024-05-19T10:19:18.772334",
     "status": "completed"
    },
    "tags": []
   },
   "outputs": [
    {
     "name": "stdout",
     "output_type": "stream",
     "text": [
      "2.15.0\n"
     ]
    }
   ],
   "source": [
    "import tensorflow as tf\n",
    "from tensorflow import keras as tfk\n",
    "from tensorflow.keras import layers as tfkl\n",
    "\n",
    "seed = 42\n",
    "np.random.seed(seed)\n",
    "random.seed(seed)\n",
    "tf.autograph.set_verbosity(0)\n",
    "tf.get_logger().setLevel(logging.ERROR)\n",
    "tf.random.set_seed(seed)\n",
    "print(tf.__version__)"
   ]
  },
  {
   "cell_type": "markdown",
   "id": "ec423797",
   "metadata": {
    "papermill": {
     "duration": 0.031935,
     "end_time": "2024-05-19T10:19:18.884063",
     "exception": false,
     "start_time": "2024-05-19T10:19:18.852128",
     "status": "completed"
    },
    "tags": []
   },
   "source": [
    "# Memory Utils"
   ]
  },
  {
   "cell_type": "code",
   "execution_count": 7,
   "id": "3331a5db",
   "metadata": {
    "execution": {
     "iopub.execute_input": "2024-05-19T10:19:18.953237Z",
     "iopub.status.busy": "2024-05-19T10:19:18.952834Z",
     "iopub.status.idle": "2024-05-19T10:19:18.962726Z",
     "shell.execute_reply": "2024-05-19T10:19:18.961426Z"
    },
    "papermill": {
     "duration": 0.046159,
     "end_time": "2024-05-19T10:19:18.965196",
     "exception": false,
     "start_time": "2024-05-19T10:19:18.919037",
     "status": "completed"
    },
    "tags": []
   },
   "outputs": [
    {
     "name": "stdout",
     "output_type": "stream",
     "text": [
      "\u001b[1m\u001b[31m\n",
      "RAM memory GB usage = 0.8684\u001b[0m\n"
     ]
    }
   ],
   "source": [
    "from os import system, getpid, walk\n",
    "from psutil import Process\n",
    "from colorama import Fore, Style, init\n",
    "from IPython.display import display, HTML\n",
    "\n",
    "def PrintColor(text:str, color = Fore.BLUE, style = Style.BRIGHT):\n",
    "    print(style + color + text + Style.RESET_ALL)\n",
    "    \n",
    "def GetMemUsage():   \n",
    "    pid = getpid()\n",
    "    py = Process(pid)\n",
    "    memory_use = py.memory_info()[0] / 2. ** 30\n",
    "    return f\"RAM memory GB usage = {memory_use :.4}\"\n",
    "\n",
    "PrintColor(f\"\\n\" + GetMemUsage(), color = Fore.RED)"
   ]
  },
  {
   "cell_type": "code",
   "execution_count": 8,
   "id": "b4800290",
   "metadata": {
    "execution": {
     "iopub.execute_input": "2024-05-19T10:19:19.032416Z",
     "iopub.status.busy": "2024-05-19T10:19:19.031994Z",
     "iopub.status.idle": "2024-05-19T10:19:19.050732Z",
     "shell.execute_reply": "2024-05-19T10:19:19.049622Z"
    },
    "papermill": {
     "duration": 0.055341,
     "end_time": "2024-05-19T10:19:19.053246",
     "exception": false,
     "start_time": "2024-05-19T10:19:18.997905",
     "status": "completed"
    },
    "tags": []
   },
   "outputs": [],
   "source": [
    "def reduce_polars_df_memory_size(df, set_categorical=True):\n",
    "\n",
    "    start_mem = df.estimated_size('mb')\n",
    "    print('Memory usage of dataframe is {:.2f} MB'.format(start_mem))\n",
    "    \n",
    "    for col in df.columns:\n",
    "        col_type = df[col].dtype\n",
    "        \n",
    "        if col_type in [pl.Int16, pl.Int32, pl.Int64]:\n",
    "            c_min = df[col].fill_null(0).min()\n",
    "            c_max = df[col].fill_null(0).max()\n",
    "            if c_min > np.iinfo(np.int8).min and c_max < np.iinfo(np.int8).max:\n",
    "                df = df.with_columns(pl.col(col).cast(pl.Int8))\n",
    "            elif c_min > np.iinfo(np.int16).min and c_max < np.iinfo(np.int16).max:\n",
    "                df = df.with_columns(pl.col(col).cast(pl.Int16))\n",
    "            elif c_min > np.iinfo(np.int32).min and c_max < np.iinfo(np.int32).max:\n",
    "                df = df.with_columns(pl.col(col).cast(pl.Int32))\n",
    "        elif col_type in [pl.UInt16, pl.UInt32, pl.UInt64]:\n",
    "            c_min = df[col].fill_null(0).min()\n",
    "            c_max = df[col].fill_null(0).max()\n",
    "            if c_min > np.iinfo(np.uint8).min and c_max < np.iinfo(np.uint8).max:\n",
    "                df = df.with_columns(pl.col(col).cast(pl.UInt8))\n",
    "            elif c_min > np.iinfo(np.uint16).min and c_max < np.iinfo(np.uint16).max:\n",
    "                df = df.with_columns(pl.col(col).cast(pl.UInt16))\n",
    "            elif c_min > np.iinfo(np.uint32).min and c_max < np.iinfo(np.uint32).max:\n",
    "                df = df.with_columns(pl.col(col).cast(pl.UInt32))\n",
    "        elif col_type == pl.Float64:\n",
    "            c_min = df[col].fill_null(0).min()\n",
    "            c_max = df[col].fill_null(0).max()\n",
    "            if c_min > np.finfo(np.float32).min and c_max < np.finfo(np.float32).max:\n",
    "                df = df.with_columns(pl.col(col).cast(pl.Float32))\n",
    "\n",
    "    gc.collect()\n",
    "    end_mem = df.estimated_size('mb')\n",
    "    print('Memory usage after optimization is: {:.2f} MB'.format(end_mem))\n",
    "    print('Decreased by {:.1f}%'.format(100 * (start_mem - end_mem) / start_mem))\n",
    "    \n",
    "    return df"
   ]
  },
  {
   "cell_type": "markdown",
   "id": "89ac2b26",
   "metadata": {
    "papermill": {
     "duration": 0.032319,
     "end_time": "2024-05-19T10:19:19.117925",
     "exception": false,
     "start_time": "2024-05-19T10:19:19.085606",
     "status": "completed"
    },
    "tags": []
   },
   "source": [
    "# Data import"
   ]
  },
  {
   "cell_type": "code",
   "execution_count": 9,
   "id": "7a51e9f2",
   "metadata": {
    "execution": {
     "iopub.execute_input": "2024-05-19T10:19:19.249585Z",
     "iopub.status.busy": "2024-05-19T10:19:19.249133Z",
     "iopub.status.idle": "2024-05-19T10:19:21.129715Z",
     "shell.execute_reply": "2024-05-19T10:19:21.128417Z"
    },
    "papermill": {
     "duration": 1.919146,
     "end_time": "2024-05-19T10:19:21.133240",
     "exception": false,
     "start_time": "2024-05-19T10:19:19.214094",
     "status": "completed"
    },
    "tags": []
   },
   "outputs": [
    {
     "name": "stdout",
     "output_type": "stream",
     "text": [
      "\u001b[1m\u001b[31m\n",
      "RAM memory GB usage = 1.126\u001b[0m\n"
     ]
    }
   ],
   "source": [
    "articles = pl.read_parquet('/kaggle/input/ebnerd_small/articles.parquet')\n",
    "\n",
    "behaviors_train = pl.read_parquet('/kaggle/input/ebnerd_small/train/behaviors.parquet')\n",
    "history_train = pl.read_parquet('/kaggle/input/ebnerd_small/train/history.parquet')\n",
    "\n",
    "behaviors_val = pl.read_parquet('/kaggle/input/ebnerd_small/validation/behaviors.parquet')\n",
    "history_val = pl.read_parquet('/kaggle/input/ebnerd_small/validation/history.parquet')\n",
    "\n",
    "gc.collect()\n",
    "PrintColor(f\"\\n\" + GetMemUsage(), color = Fore.RED)"
   ]
  },
  {
   "cell_type": "markdown",
   "id": "0da4f450",
   "metadata": {
    "papermill": {
     "duration": 0.032131,
     "end_time": "2024-05-19T10:19:21.202964",
     "exception": false,
     "start_time": "2024-05-19T10:19:21.170833",
     "status": "completed"
    },
    "tags": []
   },
   "source": [
    "# Articles Preprocessing"
   ]
  },
  {
   "cell_type": "code",
   "execution_count": 10,
   "id": "c21d203b",
   "metadata": {
    "execution": {
     "iopub.execute_input": "2024-05-19T10:19:21.271127Z",
     "iopub.status.busy": "2024-05-19T10:19:21.270687Z",
     "iopub.status.idle": "2024-05-19T10:19:22.426449Z",
     "shell.execute_reply": "2024-05-19T10:19:22.425133Z"
    },
    "papermill": {
     "duration": 1.193818,
     "end_time": "2024-05-19T10:19:22.430047",
     "exception": false,
     "start_time": "2024-05-19T10:19:21.236229",
     "status": "completed"
    },
    "tags": []
   },
   "outputs": [
    {
     "name": "stdout",
     "output_type": "stream",
     "text": [
      "Memory usage of dataframe is 58.23 MB\n",
      "Memory usage after optimization is: 58.00 MB\n",
      "Decreased by 0.4%\n",
      "\u001b[1m\u001b[31m\n",
      "RAM memory GB usage = 1.133\u001b[0m\n"
     ]
    },
    {
     "data": {
      "text/html": [
       "<div><style>\n",
       ".dataframe > thead > tr,\n",
       ".dataframe > tbody > tr {\n",
       "  text-align: right;\n",
       "  white-space: pre-wrap;\n",
       "}\n",
       "</style>\n",
       "<small>shape: (2, 27)</small><table border=\"1\" class=\"dataframe\"><thead><tr><th>article_id</th><th>title</th><th>subtitle</th><th>last_modified_time</th><th>premium</th><th>body</th><th>published_time</th><th>image_ids</th><th>article_type</th><th>url</th><th>ner_clusters</th><th>entity_groups</th><th>topics</th><th>category</th><th>subcategory</th><th>category_str</th><th>total_inviews</th><th>total_pageviews</th><th>total_read_time</th><th>sentiment_score</th><th>sentiment_label</th><th>num_images</th><th>title_len</th><th>subtitle_len</th><th>body_len</th><th>num_topics</th><th>total_pageviews/inviews</th></tr><tr><td>i32</td><td>str</td><td>str</td><td>datetime[μs]</td><td>bool</td><td>str</td><td>datetime[μs]</td><td>list[i64]</td><td>str</td><td>str</td><td>list[str]</td><td>list[str]</td><td>list[str]</td><td>i16</td><td>list[i16]</td><td>str</td><td>i32</td><td>i32</td><td>f32</td><td>f32</td><td>str</td><td>u32</td><td>u8</td><td>u8</td><td>u16</td><td>u32</td><td>f32</td></tr></thead><tbody><tr><td>3001353</td><td>&quot;Natascha var ikke den første&quot;</td><td>&quot;Politiet frygter nu, at Natasc…</td><td>2023-06-29 06:20:33</td><td>false</td><td>&quot;Sagen om den østriske Natascha…</td><td>2006-08-31 08:06:45</td><td>[3150850]</td><td>&quot;article_default&quot;</td><td>&quot;https://ekstrabladet.dk/krimi/…</td><td>[]</td><td>[]</td><td>[&quot;Kriminalitet&quot;, &quot;Personfarlig_kriminalitet&quot;]</td><td>140</td><td>[]</td><td>&quot;krimi&quot;</td><td>null</td><td>null</td><td>null</td><td>0.9955</td><td>&quot;Negative&quot;</td><td>1</td><td>5</td><td>22</td><td>200</td><td>2</td><td>null</td></tr><tr><td>3003065</td><td>&quot;Kun Star Wars tjente mere&quot;</td><td>&quot;Biografgængerne strømmer ind f…</td><td>2023-06-29 06:20:35</td><td>false</td><td>&quot;Vatikanet har opfordret til at…</td><td>2006-05-21 16:57:00</td><td>[3006712]</td><td>&quot;article_default&quot;</td><td>&quot;https://ekstrabladet.dk/underh…</td><td>[]</td><td>[]</td><td>[&quot;Underholdning&quot;, &quot;Film_og_tv&quot;, &quot;Økonomi&quot;]</td><td>414</td><td>[433, 434]</td><td>&quot;underholdning&quot;</td><td>null</td><td>null</td><td>null</td><td>0.846</td><td>&quot;Positive&quot;</td><td>1</td><td>5</td><td>19</td><td>116</td><td>3</td><td>null</td></tr></tbody></table></div>"
      ],
      "text/plain": [
       "shape: (2, 27)\n",
       "┌───────────┬───────────┬───────────┬───────────┬───┬───────────┬──────────┬───────────┬───────────┐\n",
       "│ article_i ┆ title     ┆ subtitle  ┆ last_modi ┆ … ┆ subtitle_ ┆ body_len ┆ num_topic ┆ total_pag │\n",
       "│ d         ┆ ---       ┆ ---       ┆ fied_time ┆   ┆ len       ┆ ---      ┆ s         ┆ eviews/in │\n",
       "│ ---       ┆ str       ┆ str       ┆ ---       ┆   ┆ ---       ┆ u16      ┆ ---       ┆ views     │\n",
       "│ i32       ┆           ┆           ┆ datetime[ ┆   ┆ u8        ┆          ┆ u32       ┆ ---       │\n",
       "│           ┆           ┆           ┆ μs]       ┆   ┆           ┆          ┆           ┆ f32       │\n",
       "╞═══════════╪═══════════╪═══════════╪═══════════╪═══╪═══════════╪══════════╪═══════════╪═══════════╡\n",
       "│ 3001353   ┆ Natascha  ┆ Politiet  ┆ 2023-06-2 ┆ … ┆ 22        ┆ 200      ┆ 2         ┆ null      │\n",
       "│           ┆ var ikke  ┆ frygter   ┆ 9         ┆   ┆           ┆          ┆           ┆           │\n",
       "│           ┆ den       ┆ nu, at    ┆ 06:20:33  ┆   ┆           ┆          ┆           ┆           │\n",
       "│           ┆ første    ┆ Natasc…   ┆           ┆   ┆           ┆          ┆           ┆           │\n",
       "│ 3003065   ┆ Kun Star  ┆ Biografgæ ┆ 2023-06-2 ┆ … ┆ 19        ┆ 116      ┆ 3         ┆ null      │\n",
       "│           ┆ Wars      ┆ ngerne    ┆ 9         ┆   ┆           ┆          ┆           ┆           │\n",
       "│           ┆ tjente    ┆ strømmer  ┆ 06:20:35  ┆   ┆           ┆          ┆           ┆           │\n",
       "│           ┆ mere      ┆ ind f…    ┆           ┆   ┆           ┆          ┆           ┆           │\n",
       "└───────────┴───────────┴───────────┴───────────┴───┴───────────┴──────────┴───────────┴───────────┘"
      ]
     },
     "execution_count": 10,
     "metadata": {},
     "output_type": "execute_result"
    }
   ],
   "source": [
    "articles = articles.with_columns(\n",
    "    pl.col('image_ids').list.len().alias('num_images'),\n",
    "    pl.col('title').str.split(by=' ').list.len().alias('title_len'),\n",
    "    pl.col('subtitle').str.split(by=' ').list.len().alias('subtitle_len'),\n",
    "    pl.col('body').str.split(by=' ').list.len().alias('body_len'),\n",
    "    # very important for tf-idf, otherwise multiple tokens for topics with spaces are built\n",
    "    pl.col('topics').list.eval(pl.element().str.split(by=' ').list.join('_')),\n",
    "    pl.col('topics').list.len().alias('num_topics'),\n",
    "    (pl.col('total_pageviews') / pl.col('total_inviews')).alias('total_pageviews/inviews')\n",
    ")\n",
    "articles = reduce_polars_df_memory_size(articles)\n",
    "\n",
    "gc.collect()\n",
    "PrintColor(f\"\\n\" + GetMemUsage(), color = Fore.RED)\n",
    "articles.head(2)"
   ]
  },
  {
   "cell_type": "code",
   "execution_count": 11,
   "id": "b39f51c1",
   "metadata": {
    "execution": {
     "iopub.execute_input": "2024-05-19T10:19:22.502498Z",
     "iopub.status.busy": "2024-05-19T10:19:22.501998Z",
     "iopub.status.idle": "2024-05-19T10:19:22.522872Z",
     "shell.execute_reply": "2024-05-19T10:19:22.521567Z"
    },
    "papermill": {
     "duration": 0.061124,
     "end_time": "2024-05-19T10:19:22.525579",
     "exception": false,
     "start_time": "2024-05-19T10:19:22.464455",
     "status": "completed"
    },
    "tags": []
   },
   "outputs": [
    {
     "data": {
      "text/plain": [
       "['PER', 'MISC', 'ORG', 'PROD', 'EVENT', 'LOC']"
      ]
     },
     "execution_count": 11,
     "metadata": {},
     "output_type": "execute_result"
    }
   ],
   "source": [
    "unique_entities = articles.select('entity_groups').explode('entity_groups')['entity_groups'].unique().to_list()\n",
    "unique_entities = [e for e in unique_entities if e is not None]\n",
    "unique_entities"
   ]
  },
  {
   "cell_type": "code",
   "execution_count": 12,
   "id": "d8ede8a1",
   "metadata": {
    "execution": {
     "iopub.execute_input": "2024-05-19T10:19:22.594724Z",
     "iopub.status.busy": "2024-05-19T10:19:22.594261Z",
     "iopub.status.idle": "2024-05-19T10:19:22.606714Z",
     "shell.execute_reply": "2024-05-19T10:19:22.605429Z"
    },
    "papermill": {
     "duration": 0.050407,
     "end_time": "2024-05-19T10:19:22.609243",
     "exception": false,
     "start_time": "2024-05-19T10:19:22.558836",
     "status": "completed"
    },
    "tags": []
   },
   "outputs": [
    {
     "data": {
      "text/plain": [
       "{572: 'side9',\n",
       " 2504: 'bibliotek',\n",
       " 539: 'ferie',\n",
       " 140: 'krimi',\n",
       " 414: 'underholdning',\n",
       " 2975: 'penge',\n",
       " 2889: 'auto',\n",
       " 2341: 'plus',\n",
       " 561: 'haandvaerkeren',\n",
       " 2737: 'podcast',\n",
       " 498: 'musik',\n",
       " 2731: 'dagsorden',\n",
       " 22: 'horoskoper',\n",
       " 457: 'forbrug',\n",
       " 1505: 'vin',\n",
       " 2077: 'opinionen',\n",
       " 142: 'sport',\n",
       " 2: 'incoming',\n",
       " 806: 'om_ekstra_bladet',\n",
       " 529: 'biler',\n",
       " 731: 'services',\n",
       " 118: 'nyheder',\n",
       " 512: 'nationen',\n",
       " 68: 'video',\n",
       " 565: 'sex_og_samliv'}"
      ]
     },
     "execution_count": 12,
     "metadata": {},
     "output_type": "execute_result"
    }
   ],
   "source": [
    "# in case of two category_str for the same category, one of the two is picked\n",
    "unique_categories_df = articles.select(['category', 'category_str']).unique('category').drop_nulls('category')\n",
    "unique_categories = {\n",
    "    row['category']: row['category_str'] for row in unique_categories_df.iter_rows(named=True)\n",
    "}\n",
    "unique_categories"
   ]
  },
  {
   "cell_type": "markdown",
   "id": "e3b29d50",
   "metadata": {
    "papermill": {
     "duration": 0.036108,
     "end_time": "2024-05-19T10:19:22.679132",
     "exception": false,
     "start_time": "2024-05-19T10:19:22.643024",
     "status": "completed"
    },
    "tags": []
   },
   "source": [
    "Mapping sentiment labels to -1, 0, 1 to save memory in the history dataframe.\n",
    "Taking only article_default type and mapping it to 0/1 since after only this is needed (and it saves memory) for the history at the moment"
   ]
  },
  {
   "cell_type": "code",
   "execution_count": 13,
   "id": "8dd4f316",
   "metadata": {
    "execution": {
     "iopub.execute_input": "2024-05-19T10:19:22.752304Z",
     "iopub.status.busy": "2024-05-19T10:19:22.751891Z",
     "iopub.status.idle": "2024-05-19T10:19:22.759502Z",
     "shell.execute_reply": "2024-05-19T10:19:22.758440Z"
    },
    "papermill": {
     "duration": 0.048302,
     "end_time": "2024-05-19T10:19:22.762154",
     "exception": false,
     "start_time": "2024-05-19T10:19:22.713852",
     "status": "completed"
    },
    "tags": []
   },
   "outputs": [],
   "source": [
    "articles = articles.with_columns(\n",
    "    pl.when(pl.col('sentiment_label') == 'Negative').then(-1) \\\n",
    "        .otherwise(\n",
    "            pl.when(pl.col('sentiment_label') == 'Positive').then(1).otherwise(0)\n",
    "        ).cast(pl.Int8).alias('sentiment_label_int'),\n",
    "    (pl.col('article_type') == 'article_default').cast(pl.UInt8).alias('is_article_default')\n",
    ")"
   ]
  },
  {
   "cell_type": "markdown",
   "id": "3f0c6c4c",
   "metadata": {
    "papermill": {
     "duration": 0.033914,
     "end_time": "2024-05-19T10:19:22.829775",
     "exception": false,
     "start_time": "2024-05-19T10:19:22.795861",
     "status": "completed"
    },
    "tags": []
   },
   "source": [
    "## Topics TF-IDF"
   ]
  },
  {
   "cell_type": "code",
   "execution_count": 14,
   "id": "02d0132f",
   "metadata": {
    "execution": {
     "iopub.execute_input": "2024-05-19T10:19:22.898458Z",
     "iopub.status.busy": "2024-05-19T10:19:22.897438Z",
     "iopub.status.idle": "2024-05-19T10:19:23.477016Z",
     "shell.execute_reply": "2024-05-19T10:19:23.475602Z"
    },
    "papermill": {
     "duration": 0.617788,
     "end_time": "2024-05-19T10:19:23.480658",
     "exception": false,
     "start_time": "2024-05-19T10:19:22.862870",
     "status": "completed"
    },
    "tags": []
   },
   "outputs": [
    {
     "name": "stdout",
     "output_type": "stream",
     "text": [
      "\u001b[1m\u001b[31m\n",
      "RAM memory GB usage = 1.148\u001b[0m\n"
     ]
    },
    {
     "data": {
      "text/html": [
       "<div><style>\n",
       ".dataframe > thead > tr,\n",
       ".dataframe > tbody > tr {\n",
       "  text-align: right;\n",
       "  white-space: pre-wrap;\n",
       "}\n",
       "</style>\n",
       "<small>shape: (2, 30)</small><table border=\"1\" class=\"dataframe\"><thead><tr><th>article_id</th><th>title</th><th>subtitle</th><th>last_modified_time</th><th>premium</th><th>body</th><th>published_time</th><th>image_ids</th><th>article_type</th><th>url</th><th>ner_clusters</th><th>entity_groups</th><th>topics</th><th>category</th><th>subcategory</th><th>category_str</th><th>total_inviews</th><th>total_pageviews</th><th>total_read_time</th><th>sentiment_score</th><th>sentiment_label</th><th>num_images</th><th>title_len</th><th>subtitle_len</th><th>body_len</th><th>num_topics</th><th>total_pageviews/inviews</th><th>sentiment_label_int</th><th>is_article_default</th><th>topics_idf</th></tr><tr><td>i32</td><td>str</td><td>str</td><td>datetime[μs]</td><td>bool</td><td>str</td><td>datetime[μs]</td><td>list[i64]</td><td>str</td><td>str</td><td>list[str]</td><td>list[str]</td><td>list[str]</td><td>i16</td><td>list[i16]</td><td>str</td><td>i32</td><td>i32</td><td>f32</td><td>f32</td><td>str</td><td>u32</td><td>u8</td><td>u8</td><td>u16</td><td>u32</td><td>f32</td><td>i8</td><td>u8</td><td>list[f32]</td></tr></thead><tbody><tr><td>3001353</td><td>&quot;Natascha var ikke den første&quot;</td><td>&quot;Politiet frygter nu, at Natasc…</td><td>2023-06-29 06:20:33</td><td>false</td><td>&quot;Sagen om den østriske Natascha…</td><td>2006-08-31 08:06:45</td><td>[3150850]</td><td>&quot;article_default&quot;</td><td>&quot;https://ekstrabladet.dk/krimi/…</td><td>[]</td><td>[]</td><td>[&quot;Kriminalitet&quot;, &quot;Personfarlig_kriminalitet&quot;]</td><td>140</td><td>[]</td><td>&quot;krimi&quot;</td><td>null</td><td>null</td><td>null</td><td>0.9955</td><td>&quot;Negative&quot;</td><td>1</td><td>5</td><td>22</td><td>200</td><td>2</td><td>null</td><td>-1</td><td>1</td><td>[0.0, 0.0, … 0.0]</td></tr><tr><td>3003065</td><td>&quot;Kun Star Wars tjente mere&quot;</td><td>&quot;Biografgængerne strømmer ind f…</td><td>2023-06-29 06:20:35</td><td>false</td><td>&quot;Vatikanet har opfordret til at…</td><td>2006-05-21 16:57:00</td><td>[3006712]</td><td>&quot;article_default&quot;</td><td>&quot;https://ekstrabladet.dk/underh…</td><td>[]</td><td>[]</td><td>[&quot;Underholdning&quot;, &quot;Film_og_tv&quot;, &quot;Økonomi&quot;]</td><td>414</td><td>[433, 434]</td><td>&quot;underholdning&quot;</td><td>null</td><td>null</td><td>null</td><td>0.846</td><td>&quot;Positive&quot;</td><td>1</td><td>5</td><td>19</td><td>116</td><td>3</td><td>null</td><td>1</td><td>1</td><td>[0.0, 0.0, … 0.536059]</td></tr></tbody></table></div>"
      ],
      "text/plain": [
       "shape: (2, 30)\n",
       "┌───────────┬───────────┬───────────┬───────────┬───┬───────────┬───────────┬───────────┬──────────┐\n",
       "│ article_i ┆ title     ┆ subtitle  ┆ last_modi ┆ … ┆ total_pag ┆ sentiment ┆ is_articl ┆ topics_i │\n",
       "│ d         ┆ ---       ┆ ---       ┆ fied_time ┆   ┆ eviews/in ┆ _label_in ┆ e_default ┆ df       │\n",
       "│ ---       ┆ str       ┆ str       ┆ ---       ┆   ┆ views     ┆ t         ┆ ---       ┆ ---      │\n",
       "│ i32       ┆           ┆           ┆ datetime[ ┆   ┆ ---       ┆ ---       ┆ u8        ┆ list[f32 │\n",
       "│           ┆           ┆           ┆ μs]       ┆   ┆ f32       ┆ i8        ┆           ┆ ]        │\n",
       "╞═══════════╪═══════════╪═══════════╪═══════════╪═══╪═══════════╪═══════════╪═══════════╪══════════╡\n",
       "│ 3001353   ┆ Natascha  ┆ Politiet  ┆ 2023-06-2 ┆ … ┆ null      ┆ -1        ┆ 1         ┆ [0.0,    │\n",
       "│           ┆ var ikke  ┆ frygter   ┆ 9         ┆   ┆           ┆           ┆           ┆ 0.0, …   │\n",
       "│           ┆ den       ┆ nu, at    ┆ 06:20:33  ┆   ┆           ┆           ┆           ┆ 0.0]     │\n",
       "│           ┆ første    ┆ Natasc…   ┆           ┆   ┆           ┆           ┆           ┆          │\n",
       "│ 3003065   ┆ Kun Star  ┆ Biografgæ ┆ 2023-06-2 ┆ … ┆ null      ┆ 1         ┆ 1         ┆ [0.0,    │\n",
       "│           ┆ Wars      ┆ ngerne    ┆ 9         ┆   ┆           ┆           ┆           ┆ 0.0, …   │\n",
       "│           ┆ tjente    ┆ strømmer  ┆ 06:20:35  ┆   ┆           ┆           ┆           ┆ 0.536059 │\n",
       "│           ┆ mere      ┆ ind f…    ┆           ┆   ┆           ┆           ┆           ┆ ]        │\n",
       "└───────────┴───────────┴───────────┴───────────┴───┴───────────┴───────────┴───────────┴──────────┘"
      ]
     },
     "execution_count": 14,
     "metadata": {},
     "output_type": "execute_result"
    }
   ],
   "source": [
    "from sklearn.feature_extraction.text import TfidfVectorizer\n",
    "\n",
    "vectorizer = TfidfVectorizer()\n",
    "articles = articles.with_columns(\n",
    "    pl.Series(\n",
    "        vectorizer.fit_transform(\n",
    "            articles.with_columns(pl.col('topics').list.join(separator=' '))['topics'].to_list()\n",
    "        ).toarray().astype(np.float32)\n",
    "    ).alias('topics_idf')\n",
    ")\n",
    "\n",
    "gc.collect()\n",
    "PrintColor(f\"\\n\" + GetMemUsage(), color = Fore.RED)\n",
    "articles.head(2)"
   ]
  },
  {
   "cell_type": "code",
   "execution_count": 15,
   "id": "656b6050",
   "metadata": {
    "execution": {
     "iopub.execute_input": "2024-05-19T10:19:23.554638Z",
     "iopub.status.busy": "2024-05-19T10:19:23.553457Z",
     "iopub.status.idle": "2024-05-19T10:19:23.561621Z",
     "shell.execute_reply": "2024-05-19T10:19:23.560352Z"
    },
    "papermill": {
     "duration": 0.047895,
     "end_time": "2024-05-19T10:19:23.564235",
     "exception": false,
     "start_time": "2024-05-19T10:19:23.516340",
     "status": "completed"
    },
    "tags": []
   },
   "outputs": [
    {
     "data": {
      "text/plain": [
       "79"
      ]
     },
     "execution_count": 15,
     "metadata": {},
     "output_type": "execute_result"
    }
   ],
   "source": [
    "# without split + join with _ of the single topics this returns 94\n",
    "len(vectorizer.get_feature_names_out())"
   ]
  },
  {
   "cell_type": "markdown",
   "id": "41181339",
   "metadata": {
    "papermill": {
     "duration": 0.033459,
     "end_time": "2024-05-19T10:19:23.631916",
     "exception": false,
     "start_time": "2024-05-19T10:19:23.598457",
     "status": "completed"
    },
    "tags": []
   },
   "source": [
    "## Topic Model"
   ]
  },
  {
   "cell_type": "code",
   "execution_count": 16,
   "id": "9f11e384",
   "metadata": {
    "execution": {
     "iopub.execute_input": "2024-05-19T10:19:23.704492Z",
     "iopub.status.busy": "2024-05-19T10:19:23.704051Z",
     "iopub.status.idle": "2024-05-19T10:19:24.575800Z",
     "shell.execute_reply": "2024-05-19T10:19:24.574483Z"
    },
    "papermill": {
     "duration": 0.912885,
     "end_time": "2024-05-19T10:19:24.579024",
     "exception": false,
     "start_time": "2024-05-19T10:19:23.666139",
     "status": "completed"
    },
    "tags": []
   },
   "outputs": [],
   "source": [
    "import nltk\n",
    "from sklearn.feature_extraction.text import CountVectorizer\n",
    "\n",
    "stopwords = nltk.corpus.stopwords.words('danish')\n",
    "title_vectorizer = CountVectorizer(stop_words=stopwords)\n",
    "\n",
    "titles_bow = title_vectorizer.fit_transform(articles['title'].to_list())"
   ]
  },
  {
   "cell_type": "code",
   "execution_count": 17,
   "id": "b5e3b793",
   "metadata": {
    "execution": {
     "iopub.execute_input": "2024-05-19T10:19:24.651076Z",
     "iopub.status.busy": "2024-05-19T10:19:24.650310Z",
     "iopub.status.idle": "2024-05-19T10:20:04.315347Z",
     "shell.execute_reply": "2024-05-19T10:20:04.314127Z"
    },
    "papermill": {
     "duration": 39.737359,
     "end_time": "2024-05-19T10:20:04.351361",
     "exception": false,
     "start_time": "2024-05-19T10:19:24.614002",
     "status": "completed"
    },
    "tags": []
   },
   "outputs": [
    {
     "name": "stdout",
     "output_type": "stream",
     "text": [
      "CPU times: user 39.6 s, sys: 36 µs, total: 39.6 s\n",
      "Wall time: 39.7 s\n"
     ]
    },
    {
     "data": {
      "text/html": [
       "<div><style>\n",
       ".dataframe > thead > tr,\n",
       ".dataframe > tbody > tr {\n",
       "  text-align: right;\n",
       "  white-space: pre-wrap;\n",
       "}\n",
       "</style>\n",
       "<small>shape: (2, 31)</small><table border=\"1\" class=\"dataframe\"><thead><tr><th>article_id</th><th>title</th><th>subtitle</th><th>last_modified_time</th><th>premium</th><th>body</th><th>published_time</th><th>image_ids</th><th>article_type</th><th>url</th><th>ner_clusters</th><th>entity_groups</th><th>topics</th><th>category</th><th>subcategory</th><th>category_str</th><th>total_inviews</th><th>total_pageviews</th><th>total_read_time</th><th>sentiment_score</th><th>sentiment_label</th><th>num_images</th><th>title_len</th><th>subtitle_len</th><th>body_len</th><th>num_topics</th><th>total_pageviews/inviews</th><th>sentiment_label_int</th><th>is_article_default</th><th>topics_idf</th><th>topic_model_embeddings</th></tr><tr><td>i32</td><td>str</td><td>str</td><td>datetime[μs]</td><td>bool</td><td>str</td><td>datetime[μs]</td><td>list[i64]</td><td>str</td><td>str</td><td>list[str]</td><td>list[str]</td><td>list[str]</td><td>i16</td><td>list[i16]</td><td>str</td><td>i32</td><td>i32</td><td>f32</td><td>f32</td><td>str</td><td>u32</td><td>u8</td><td>u8</td><td>u16</td><td>u32</td><td>f32</td><td>i8</td><td>u8</td><td>list[f32]</td><td>array[f32, 5]</td></tr></thead><tbody><tr><td>3001353</td><td>&quot;Natascha var ikke den første&quot;</td><td>&quot;Politiet frygter nu, at Natasc…</td><td>2023-06-29 06:20:33</td><td>false</td><td>&quot;Sagen om den østriske Natascha…</td><td>2006-08-31 08:06:45</td><td>[3150850]</td><td>&quot;article_default&quot;</td><td>&quot;https://ekstrabladet.dk/krimi/…</td><td>[]</td><td>[]</td><td>[&quot;Kriminalitet&quot;, &quot;Personfarlig_kriminalitet&quot;]</td><td>140</td><td>[]</td><td>&quot;krimi&quot;</td><td>null</td><td>null</td><td>null</td><td>0.9955</td><td>&quot;Negative&quot;</td><td>1</td><td>5</td><td>22</td><td>200</td><td>2</td><td>null</td><td>-1</td><td>1</td><td>[0.0, 0.0, … 0.0]</td><td>[0.143627, 0.143834, … 0.143573]</td></tr><tr><td>3003065</td><td>&quot;Kun Star Wars tjente mere&quot;</td><td>&quot;Biografgængerne strømmer ind f…</td><td>2023-06-29 06:20:35</td><td>false</td><td>&quot;Vatikanet har opfordret til at…</td><td>2006-05-21 16:57:00</td><td>[3006712]</td><td>&quot;article_default&quot;</td><td>&quot;https://ekstrabladet.dk/underh…</td><td>[]</td><td>[]</td><td>[&quot;Underholdning&quot;, &quot;Film_og_tv&quot;, &quot;Økonomi&quot;]</td><td>414</td><td>[433, 434]</td><td>&quot;underholdning&quot;</td><td>null</td><td>null</td><td>null</td><td>0.846</td><td>&quot;Positive&quot;</td><td>1</td><td>5</td><td>19</td><td>116</td><td>3</td><td>null</td><td>1</td><td>1</td><td>[0.0, 0.0, … 0.536059]</td><td>[0.243209, 0.193003, … 0.110556]</td></tr></tbody></table></div>"
      ],
      "text/plain": [
       "shape: (2, 31)\n",
       "┌───────────┬───────────┬───────────┬───────────┬───┬───────────┬───────────┬───────────┬──────────┐\n",
       "│ article_i ┆ title     ┆ subtitle  ┆ last_modi ┆ … ┆ sentiment ┆ is_articl ┆ topics_id ┆ topic_mo │\n",
       "│ d         ┆ ---       ┆ ---       ┆ fied_time ┆   ┆ _label_in ┆ e_default ┆ f         ┆ del_embe │\n",
       "│ ---       ┆ str       ┆ str       ┆ ---       ┆   ┆ t         ┆ ---       ┆ ---       ┆ ddings   │\n",
       "│ i32       ┆           ┆           ┆ datetime[ ┆   ┆ ---       ┆ u8        ┆ list[f32] ┆ ---      │\n",
       "│           ┆           ┆           ┆ μs]       ┆   ┆ i8        ┆           ┆           ┆ array[f3 │\n",
       "│           ┆           ┆           ┆           ┆   ┆           ┆           ┆           ┆ 2, 5]    │\n",
       "╞═══════════╪═══════════╪═══════════╪═══════════╪═══╪═══════════╪═══════════╪═══════════╪══════════╡\n",
       "│ 3001353   ┆ Natascha  ┆ Politiet  ┆ 2023-06-2 ┆ … ┆ -1        ┆ 1         ┆ [0.0,     ┆ [0.14362 │\n",
       "│           ┆ var ikke  ┆ frygter   ┆ 9         ┆   ┆           ┆           ┆ 0.0, …    ┆ 7, 0.143 │\n",
       "│           ┆ den       ┆ nu, at    ┆ 06:20:33  ┆   ┆           ┆           ┆ 0.0]      ┆ 834, …   │\n",
       "│           ┆ første    ┆ Natasc…   ┆           ┆   ┆           ┆           ┆           ┆ 0.14357… │\n",
       "│ 3003065   ┆ Kun Star  ┆ Biografgæ ┆ 2023-06-2 ┆ … ┆ 1         ┆ 1         ┆ [0.0,     ┆ [0.24320 │\n",
       "│           ┆ Wars      ┆ ngerne    ┆ 9         ┆   ┆           ┆           ┆ 0.0, …    ┆ 9, 0.193 │\n",
       "│           ┆ tjente    ┆ strømmer  ┆ 06:20:35  ┆   ┆           ┆           ┆ 0.536059] ┆ 003, …   │\n",
       "│           ┆ mere      ┆ ind f…    ┆           ┆   ┆           ┆           ┆           ┆ 0.11055… │\n",
       "└───────────┴───────────┴───────────┴───────────┴───┴───────────┴───────────┴───────────┴──────────┘"
      ]
     },
     "execution_count": 17,
     "metadata": {},
     "output_type": "execute_result"
    }
   ],
   "source": [
    "%%time\n",
    "\n",
    "from sklearn.decomposition import LatentDirichletAllocation\n",
    "\n",
    "# parameters tuned on perplexity\n",
    "N_COMPONENTS = 5\n",
    "lda_model = LatentDirichletAllocation(\n",
    "    n_components=N_COMPONENTS,\n",
    "    doc_topic_prior=0.99,\n",
    "    topic_word_prior=0.75,\n",
    "    learning_method='online'\n",
    ")\n",
    "articles = articles.with_columns(\n",
    "    pl.Series(lda_model.fit_transform(titles_bow).astype(np.float32)) \\\n",
    "        .list.to_array(5).alias('topic_model_embeddings')\n",
    ")\n",
    "articles.head(2)"
   ]
  },
  {
   "cell_type": "code",
   "execution_count": 18,
   "id": "73336f36",
   "metadata": {
    "execution": {
     "iopub.execute_input": "2024-05-19T10:20:04.421214Z",
     "iopub.status.busy": "2024-05-19T10:20:04.420377Z",
     "iopub.status.idle": "2024-05-19T10:20:04.435239Z",
     "shell.execute_reply": "2024-05-19T10:20:04.434084Z"
    },
    "papermill": {
     "duration": 0.052743,
     "end_time": "2024-05-19T10:20:04.437706",
     "exception": false,
     "start_time": "2024-05-19T10:20:04.384963",
     "status": "completed"
    },
    "tags": []
   },
   "outputs": [
    {
     "data": {
      "text/html": [
       "<div><style>\n",
       ".dataframe > thead > tr,\n",
       ".dataframe > tbody > tr {\n",
       "  text-align: right;\n",
       "  white-space: pre-wrap;\n",
       "}\n",
       "</style>\n",
       "<small>shape: (2, 35)</small><table border=\"1\" class=\"dataframe\"><thead><tr><th>article_id</th><th>title</th><th>subtitle</th><th>last_modified_time</th><th>premium</th><th>body</th><th>published_time</th><th>image_ids</th><th>article_type</th><th>url</th><th>ner_clusters</th><th>entity_groups</th><th>topics</th><th>category</th><th>subcategory</th><th>category_str</th><th>total_inviews</th><th>total_pageviews</th><th>total_read_time</th><th>sentiment_score</th><th>sentiment_label</th><th>num_images</th><th>title_len</th><th>subtitle_len</th><th>body_len</th><th>num_topics</th><th>total_pageviews/inviews</th><th>sentiment_label_int</th><th>is_article_default</th><th>topics_idf</th><th>topic_model_embedding_0</th><th>topic_model_embedding_1</th><th>topic_model_embedding_2</th><th>topic_model_embedding_3</th><th>topic_model_embedding_4</th></tr><tr><td>i32</td><td>str</td><td>str</td><td>datetime[μs]</td><td>bool</td><td>str</td><td>datetime[μs]</td><td>list[i64]</td><td>str</td><td>str</td><td>list[str]</td><td>list[str]</td><td>list[str]</td><td>i16</td><td>list[i16]</td><td>str</td><td>i32</td><td>i32</td><td>f32</td><td>f32</td><td>str</td><td>u32</td><td>u8</td><td>u8</td><td>u16</td><td>u32</td><td>f32</td><td>i8</td><td>u8</td><td>list[f32]</td><td>f32</td><td>f32</td><td>f32</td><td>f32</td><td>f32</td></tr></thead><tbody><tr><td>3001353</td><td>&quot;Natascha var ikke den første&quot;</td><td>&quot;Politiet frygter nu, at Natasc…</td><td>2023-06-29 06:20:33</td><td>false</td><td>&quot;Sagen om den østriske Natascha…</td><td>2006-08-31 08:06:45</td><td>[3150850]</td><td>&quot;article_default&quot;</td><td>&quot;https://ekstrabladet.dk/krimi/…</td><td>[]</td><td>[]</td><td>[&quot;Kriminalitet&quot;, &quot;Personfarlig_kriminalitet&quot;]</td><td>140</td><td>[]</td><td>&quot;krimi&quot;</td><td>null</td><td>null</td><td>null</td><td>0.9955</td><td>&quot;Negative&quot;</td><td>1</td><td>5</td><td>22</td><td>200</td><td>2</td><td>null</td><td>-1</td><td>1</td><td>[0.0, 0.0, … 0.0]</td><td>0.143627</td><td>0.143834</td><td>0.287673</td><td>0.281293</td><td>0.143573</td></tr><tr><td>3003065</td><td>&quot;Kun Star Wars tjente mere&quot;</td><td>&quot;Biografgængerne strømmer ind f…</td><td>2023-06-29 06:20:35</td><td>false</td><td>&quot;Vatikanet har opfordret til at…</td><td>2006-05-21 16:57:00</td><td>[3006712]</td><td>&quot;article_default&quot;</td><td>&quot;https://ekstrabladet.dk/underh…</td><td>[]</td><td>[]</td><td>[&quot;Underholdning&quot;, &quot;Film_og_tv&quot;, &quot;Økonomi&quot;]</td><td>414</td><td>[433, 434]</td><td>&quot;underholdning&quot;</td><td>null</td><td>null</td><td>null</td><td>0.846</td><td>&quot;Positive&quot;</td><td>1</td><td>5</td><td>19</td><td>116</td><td>3</td><td>null</td><td>1</td><td>1</td><td>[0.0, 0.0, … 0.536059]</td><td>0.243209</td><td>0.193003</td><td>0.336253</td><td>0.116979</td><td>0.110556</td></tr></tbody></table></div>"
      ],
      "text/plain": [
       "shape: (2, 35)\n",
       "┌───────────┬───────────┬───────────┬───────────┬───┬───────────┬───────────┬───────────┬──────────┐\n",
       "│ article_i ┆ title     ┆ subtitle  ┆ last_modi ┆ … ┆ topic_mod ┆ topic_mod ┆ topic_mod ┆ topic_mo │\n",
       "│ d         ┆ ---       ┆ ---       ┆ fied_time ┆   ┆ el_embedd ┆ el_embedd ┆ el_embedd ┆ del_embe │\n",
       "│ ---       ┆ str       ┆ str       ┆ ---       ┆   ┆ ing_1     ┆ ing_2     ┆ ing_3     ┆ dding_4  │\n",
       "│ i32       ┆           ┆           ┆ datetime[ ┆   ┆ ---       ┆ ---       ┆ ---       ┆ ---      │\n",
       "│           ┆           ┆           ┆ μs]       ┆   ┆ f32       ┆ f32       ┆ f32       ┆ f32      │\n",
       "╞═══════════╪═══════════╪═══════════╪═══════════╪═══╪═══════════╪═══════════╪═══════════╪══════════╡\n",
       "│ 3001353   ┆ Natascha  ┆ Politiet  ┆ 2023-06-2 ┆ … ┆ 0.143834  ┆ 0.287673  ┆ 0.281293  ┆ 0.143573 │\n",
       "│           ┆ var ikke  ┆ frygter   ┆ 9         ┆   ┆           ┆           ┆           ┆          │\n",
       "│           ┆ den       ┆ nu, at    ┆ 06:20:33  ┆   ┆           ┆           ┆           ┆          │\n",
       "│           ┆ første    ┆ Natasc…   ┆           ┆   ┆           ┆           ┆           ┆          │\n",
       "│ 3003065   ┆ Kun Star  ┆ Biografgæ ┆ 2023-06-2 ┆ … ┆ 0.193003  ┆ 0.336253  ┆ 0.116979  ┆ 0.110556 │\n",
       "│           ┆ Wars      ┆ ngerne    ┆ 9         ┆   ┆           ┆           ┆           ┆          │\n",
       "│           ┆ tjente    ┆ strømmer  ┆ 06:20:35  ┆   ┆           ┆           ┆           ┆          │\n",
       "│           ┆ mere      ┆ ind f…    ┆           ┆   ┆           ┆           ┆           ┆          │\n",
       "└───────────┴───────────┴───────────┴───────────┴───┴───────────┴───────────┴───────────┴──────────┘"
      ]
     },
     "execution_count": 18,
     "metadata": {},
     "output_type": "execute_result"
    }
   ],
   "source": [
    "topic_model_columns = [f'topic_model_embedding_{i}' for i in range(N_COMPONENTS)]\n",
    "\n",
    "articles = articles.with_columns(\n",
    "    pl.col('topic_model_embeddings').arr.to_struct(fields=lambda i: f'topic_model_embedding_{i}')\n",
    ").with_columns([\n",
    "    pl.col('topic_model_embeddings').struct.field(f'topic_model_embedding_{i}') for i in range(N_COMPONENTS)\n",
    "]).drop('topic_model_embeddings')\n",
    "\n",
    "articles.head(2)"
   ]
  },
  {
   "cell_type": "markdown",
   "id": "d69b7dc1",
   "metadata": {
    "papermill": {
     "duration": 0.034067,
     "end_time": "2024-05-19T10:20:04.506625",
     "exception": false,
     "start_time": "2024-05-19T10:20:04.472558",
     "status": "completed"
    },
    "tags": []
   },
   "source": [
    "# History preprocessing"
   ]
  },
  {
   "cell_type": "code",
   "execution_count": 19,
   "id": "2f4aa224",
   "metadata": {
    "execution": {
     "iopub.execute_input": "2024-05-19T10:20:04.578210Z",
     "iopub.status.busy": "2024-05-19T10:20:04.577761Z",
     "iopub.status.idle": "2024-05-19T10:20:04.584780Z",
     "shell.execute_reply": "2024-05-19T10:20:04.583579Z"
    },
    "papermill": {
     "duration": 0.045678,
     "end_time": "2024-05-19T10:20:04.587487",
     "exception": false,
     "start_time": "2024-05-19T10:20:04.541809",
     "status": "completed"
    },
    "tags": []
   },
   "outputs": [],
   "source": [
    "def add_topics_tf_idf_columns(df, topics_col, vectorizer):\n",
    "    return df.with_columns(\n",
    "        pl.Series(\n",
    "            vectorizer.transform(\n",
    "                df.with_columns(pl.col(topics_col).list.join(separator=' '))[topics_col].to_list()\n",
    "            ).toarray().astype(np.float32)\n",
    "        ).alias(f'{topics_col}_tf_idf')\n",
    "    )"
   ]
  },
  {
   "cell_type": "code",
   "execution_count": 20,
   "id": "f41ae54c",
   "metadata": {
    "execution": {
     "iopub.execute_input": "2024-05-19T10:20:04.659939Z",
     "iopub.status.busy": "2024-05-19T10:20:04.659039Z",
     "iopub.status.idle": "2024-05-19T10:20:22.926320Z",
     "shell.execute_reply": "2024-05-19T10:20:22.925074Z"
    },
    "papermill": {
     "duration": 18.307194,
     "end_time": "2024-05-19T10:20:22.929184",
     "exception": false,
     "start_time": "2024-05-19T10:20:04.621990",
     "status": "completed"
    },
    "tags": []
   },
   "outputs": [
    {
     "name": "stderr",
     "output_type": "stream",
     "text": [
      "16it [00:17,  1.09s/it]                        \n"
     ]
    },
    {
     "name": "stdout",
     "output_type": "stream",
     "text": [
      "\u001b[1m\u001b[31m\n",
      "RAM memory GB usage = 1.236\u001b[0m\n",
      "Memory usage of dataframe is 39.38 MB\n",
      "Memory usage after optimization is: 38.61 MB\n",
      "Decreased by 2.0%\n",
      "CPU times: user 20.8 s, sys: 1.78 s, total: 22.6 s\n",
      "Wall time: 18.2 s\n"
     ]
    },
    {
     "data": {
      "text/html": [
       "<div><style>\n",
       ".dataframe > thead > tr,\n",
       ".dataframe > tbody > tr {\n",
       "  text-align: right;\n",
       "  white-space: pre-wrap;\n",
       "}\n",
       "</style>\n",
       "<small>shape: (2, 27)</small><table border=\"1\" class=\"dataframe\"><thead><tr><th>user_id</th><th>article_id_fixed</th><th>impression_time_fixed</th><th>category</th><th>NumArticlesHistory</th><th>MedianReadTime</th><th>MaxReadTime</th><th>TotalReadTime</th><th>MedianScrollPercentage</th><th>MaxScrollPercentage</th><th>NeutralPct</th><th>PositivePct</th><th>NegativePct</th><th>PctStrongNeutral</th><th>PctStrongPositive</th><th>PctStrongNegative</th><th>PctNotDefaultArticles</th><th>MostFrequentCategory</th><th>MostFrequentWeekday</th><th>MostFrequentHour</th><th>topics_flatten_tf_idf</th><th>PERPct</th><th>MISCPct</th><th>ORGPct</th><th>PRODPct</th><th>EVENTPct</th><th>LOCPct</th></tr><tr><td>u32</td><td>list[i32]</td><td>list[datetime[μs]]</td><td>list[i16]</td><td>u16</td><td>f32</td><td>f32</td><td>f32</td><td>f32</td><td>f32</td><td>f32</td><td>f32</td><td>f32</td><td>f32</td><td>f32</td><td>f32</td><td>f32</td><td>i16</td><td>i8</td><td>i8</td><td>list[f32]</td><td>f32</td><td>f32</td><td>f32</td><td>f32</td><td>f32</td><td>f32</td></tr></thead><tbody><tr><td>10623</td><td>[9739035, 9739065, … 9770533]</td><td>[2023-04-27 14:29:44, 2023-04-27 14:29:47, … 2023-05-17 17:36:24]</td><td>[118, 414, … 140]</td><td>143</td><td>3.0</td><td>1563.0</td><td>9623.0</td><td>42.5</td><td>100.0</td><td>0.230769</td><td>0.111888</td><td>0.657343</td><td>0.097902</td><td>0.083916</td><td>0.608392</td><td>0.06993</td><td>118</td><td>1</td><td>16</td><td>[0.016041, 0.062928, … 0.178427]</td><td>0.874126</td><td>0.223776</td><td>0.888112</td><td>0.237762</td><td>0.202797</td><td>0.804196</td></tr><tr><td>12016</td><td>[9738216, 9735383, … 9769622]</td><td>[2023-04-27 07:39:48, 2023-04-27 07:41:30, … 2023-05-17 23:56:30]</td><td>[140, 118, … 140]</td><td>264</td><td>156.0</td><td>1775.0</td><td>63672.0</td><td>100.0</td><td>100.0</td><td>0.257576</td><td>0.075758</td><td>0.666667</td><td>0.106061</td><td>0.034091</td><td>0.602273</td><td>0.07197</td><td>140</td><td>5</td><td>20</td><td>[0.009749, 0.045896, … 0.075912]</td><td>0.787879</td><td>0.117424</td><td>0.852273</td><td>0.318182</td><td>0.087121</td><td>0.776515</td></tr></tbody></table></div>"
      ],
      "text/plain": [
       "shape: (2, 27)\n",
       "┌─────────┬─────────────┬─────────────┬────────────┬───┬──────────┬──────────┬──────────┬──────────┐\n",
       "│ user_id ┆ article_id_ ┆ impression_ ┆ category   ┆ … ┆ ORGPct   ┆ PRODPct  ┆ EVENTPct ┆ LOCPct   │\n",
       "│ ---     ┆ fixed       ┆ time_fixed  ┆ ---        ┆   ┆ ---      ┆ ---      ┆ ---      ┆ ---      │\n",
       "│ u32     ┆ ---         ┆ ---         ┆ list[i16]  ┆   ┆ f32      ┆ f32      ┆ f32      ┆ f32      │\n",
       "│         ┆ list[i32]   ┆ list[dateti ┆            ┆   ┆          ┆          ┆          ┆          │\n",
       "│         ┆             ┆ me[μs]]     ┆            ┆   ┆          ┆          ┆          ┆          │\n",
       "╞═════════╪═════════════╪═════════════╪════════════╪═══╪══════════╪══════════╪══════════╪══════════╡\n",
       "│ 10623   ┆ [9739035,   ┆ [2023-04-27 ┆ [118, 414, ┆ … ┆ 0.888112 ┆ 0.237762 ┆ 0.202797 ┆ 0.804196 │\n",
       "│         ┆ 9739065, …  ┆ 14:29:44,   ┆ … 140]     ┆   ┆          ┆          ┆          ┆          │\n",
       "│         ┆ 9770533]    ┆ 2023-04-…   ┆            ┆   ┆          ┆          ┆          ┆          │\n",
       "│ 12016   ┆ [9738216,   ┆ [2023-04-27 ┆ [140, 118, ┆ … ┆ 0.852273 ┆ 0.318182 ┆ 0.087121 ┆ 0.776515 │\n",
       "│         ┆ 9735383, …  ┆ 07:39:48,   ┆ … 140]     ┆   ┆          ┆          ┆          ┆          │\n",
       "│         ┆ 9769622]    ┆ 2023-04-…   ┆            ┆   ┆          ┆          ┆          ┆          │\n",
       "└─────────┴─────────────┴─────────────┴────────────┴───┴──────────┴──────────┴──────────┴──────────┘"
      ]
     },
     "execution_count": 20,
     "metadata": {},
     "output_type": "execute_result"
    }
   ],
   "source": [
    "%%time\n",
    "\n",
    "STRONG_THR = 0.8\n",
    "\n",
    "history_train = pl.concat(\n",
    "    rows.with_columns(pl.col('article_id_fixed').list.len().alias('NumArticlesHistory')) \\\n",
    "        .explode(['article_id_fixed', 'impression_time_fixed', 'read_time_fixed', 'scroll_percentage_fixed']) \\\n",
    "        .sort(by=['user_id', 'impression_time_fixed']) \\\n",
    "        .with_columns(\n",
    "            pl.col('impression_time_fixed').dt.weekday().alias('weekday'),\n",
    "            pl.col('impression_time_fixed').dt.hour().alias('hour'),\n",
    "        ).join(articles.select(['article_id', 'category', 'is_article_default', 'sentiment_label_int', \n",
    "                                'sentiment_score', 'entity_groups', 'topics']), \n",
    "               left_on='article_id_fixed', right_on='article_id', how='left') \\\n",
    "        .with_columns(\n",
    "            (pl.col('sentiment_label_int') == 0).alias('is_neutral'),\n",
    "            (pl.col('sentiment_label_int') == 1).alias('is_positive'),\n",
    "            (pl.col('sentiment_label_int') == -1).alias('is_negative'),\n",
    "            ((pl.col('sentiment_label_int') == 0) & (pl.col('sentiment_score') > STRONG_THR)).alias('strong_neutral'),\n",
    "            ((pl.col('sentiment_label_int') == 1) & (pl.col('sentiment_score') > STRONG_THR)).alias('strong_positive'),\n",
    "            ((pl.col('sentiment_label_int') == -1) & (pl.col('sentiment_score') > STRONG_THR)).alias('strong_negative'),\n",
    "            pl.col('entity_groups').list.unique(),\n",
    "        ).group_by('user_id').agg(\n",
    "            pl.col('article_id_fixed'),\n",
    "            pl.col('impression_time_fixed'),\n",
    "            pl.col('category'),\n",
    "            pl.col('NumArticlesHistory').first(),\n",
    "            pl.col('read_time_fixed').median().alias('MedianReadTime'),\n",
    "            pl.col('read_time_fixed').max().alias('MaxReadTime'),\n",
    "            pl.col('read_time_fixed').sum().alias('TotalReadTime'),\n",
    "            pl.col('scroll_percentage_fixed').median().alias('MedianScrollPercentage'),\n",
    "            pl.col('scroll_percentage_fixed').max().alias('MaxScrollPercentage'),\n",
    "            (pl.col('is_neutral').sum() / pl.col('NumArticlesHistory').first()).alias('NeutralPct'),\n",
    "            (pl.col('is_positive').sum() / pl.col('NumArticlesHistory').first()).alias('PositivePct'),\n",
    "            (pl.col('is_negative').sum() / pl.col('NumArticlesHistory').first()).alias('NegativePct'),\n",
    "            (pl.col('strong_neutral').sum() / pl.col('NumArticlesHistory').first()).alias('PctStrongNeutral'),\n",
    "            (pl.col('strong_positive').sum() / pl.col('NumArticlesHistory').first()).alias('PctStrongPositive'),\n",
    "            (pl.col('strong_negative').sum() / pl.col('NumArticlesHistory').first()).alias('PctStrongNegative'),\n",
    "            (1 - (pl.col('is_article_default').sum() / pl.col('NumArticlesHistory').first())).alias('PctNotDefaultArticles'),\n",
    "            pl.col('category').mode().alias('MostFrequentCategory'),\n",
    "            pl.col('weekday').mode().alias('MostFrequentWeekday'),\n",
    "            pl.col('hour').mode().alias('MostFrequentHour'),\n",
    "            pl.col('entity_groups').flatten(),\n",
    "            pl.col('topics').flatten().alias('topics_flatten')\n",
    "        ).pipe(add_topics_tf_idf_columns, topics_col='topics_flatten', vectorizer=vectorizer) \\\n",
    "        .drop('topics_flatten').with_columns(\n",
    "            pl.col('MostFrequentCategory').list.first(),\n",
    "            pl.col('MostFrequentWeekday').list.first(),\n",
    "            pl.col('MostFrequentHour').list.first(),\n",
    "        ).with_columns(\n",
    "            (pl.col('entity_groups').list.count_matches(entity) / pl.col('NumArticlesHistory')).alias(f'{entity}Pct')\n",
    "            for entity in unique_entities\n",
    "        ).drop('entity_groups')\n",
    "    for rows in tqdm.tqdm(history_train.iter_slices(1000), total=history_train.shape[0] // 1000)\n",
    ")\n",
    "\n",
    "gc.collect()\n",
    "PrintColor(f\"\\n\" + GetMemUsage(), color = Fore.RED)\n",
    "history_train = reduce_polars_df_memory_size(history_train)\n",
    "history_train.head(2)"
   ]
  },
  {
   "cell_type": "code",
   "execution_count": 21,
   "id": "527ede7f",
   "metadata": {
    "execution": {
     "iopub.execute_input": "2024-05-19T10:20:23.005485Z",
     "iopub.status.busy": "2024-05-19T10:20:23.004946Z",
     "iopub.status.idle": "2024-05-19T10:20:23.012244Z",
     "shell.execute_reply": "2024-05-19T10:20:23.011046Z"
    },
    "papermill": {
     "duration": 0.047979,
     "end_time": "2024-05-19T10:20:23.014589",
     "exception": false,
     "start_time": "2024-05-19T10:20:22.966610",
     "status": "completed"
    },
    "tags": []
   },
   "outputs": [
    {
     "data": {
      "text/plain": [
       "(15143, 27)"
      ]
     },
     "execution_count": 21,
     "metadata": {},
     "output_type": "execute_result"
    }
   ],
   "source": [
    "history_train.shape"
   ]
  },
  {
   "cell_type": "markdown",
   "id": "8cbebff1",
   "metadata": {
    "papermill": {
     "duration": 0.037482,
     "end_time": "2024-05-19T10:20:23.088875",
     "exception": false,
     "start_time": "2024-05-19T10:20:23.051393",
     "status": "completed"
    },
    "tags": []
   },
   "source": [
    "# Named entity collaborative filtering"
   ]
  },
  {
   "cell_type": "code",
   "execution_count": 22,
   "id": "ab919d46",
   "metadata": {
    "execution": {
     "iopub.execute_input": "2024-05-19T10:20:23.164673Z",
     "iopub.status.busy": "2024-05-19T10:20:23.164236Z",
     "iopub.status.idle": "2024-05-19T10:20:23.258575Z",
     "shell.execute_reply": "2024-05-19T10:20:23.257364Z"
    },
    "papermill": {
     "duration": 0.135273,
     "end_time": "2024-05-19T10:20:23.261440",
     "exception": false,
     "start_time": "2024-05-19T10:20:23.126167",
     "status": "completed"
    },
    "tags": []
   },
   "outputs": [],
   "source": [
    "user_id_mapping = history_train.sort('user_id').with_row_index() \\\n",
    "    .select(['index', 'user_id']).rename({'index': 'user_index'})\n",
    "\n",
    "ner_mapping = articles.select(['ner_clusters']) \\\n",
    "    .explode('ner_clusters') \\\n",
    "    .rename({'ner_clusters': 'ner'}) \\\n",
    "    .with_columns(pl.col('ner').str.strip_chars_start('\\\" ').str.to_lowercase()) \\\n",
    "    .unique('ner').drop_nulls().filter(pl.col('ner').str.len_chars() > 0) \\\n",
    "    .sort('ner').with_row_index().rename({'index': 'ner_index'})"
   ]
  },
  {
   "cell_type": "code",
   "execution_count": 23,
   "id": "00250647",
   "metadata": {
    "execution": {
     "iopub.execute_input": "2024-05-19T10:20:23.338810Z",
     "iopub.status.busy": "2024-05-19T10:20:23.338362Z",
     "iopub.status.idle": "2024-05-19T10:20:39.591071Z",
     "shell.execute_reply": "2024-05-19T10:20:39.589757Z"
    },
    "papermill": {
     "duration": 16.295245,
     "end_time": "2024-05-19T10:20:39.593854",
     "exception": false,
     "start_time": "2024-05-19T10:20:23.298609",
     "status": "completed"
    },
    "tags": []
   },
   "outputs": [],
   "source": [
    "ner_interactions = history_train.select(['user_id', 'article_id_fixed']).explode('article_id_fixed') \\\n",
    "    .join(articles.select(['article_id', 'ner_clusters']), left_on='article_id_fixed', right_on='article_id', how='left') \\\n",
    "    .explode('ner_clusters').unique(['user_id', 'ner_clusters']) \\\n",
    "    .with_columns(pl.col('ner_clusters').str.strip_chars_start('\\\" ').str.to_lowercase()) \\\n",
    "    .join(user_id_mapping, on='user_id', how='left') \\\n",
    "    .join(ner_mapping, left_on='ner_clusters', right_on='ner') \\\n",
    "    .select(['user_index', 'ner_index', 'user_id', 'article_id_fixed']) \\\n",
    "    .unique(['user_index', 'ner_index'])\n",
    "\n",
    "URM_ner = sps.csr_matrix((np.ones(ner_interactions.shape[0]),\n",
    "                          (ner_interactions['user_index'].to_numpy(), ner_interactions['ner_index'].to_numpy())),\n",
    "                         shape=(user_id_mapping.shape[0], ner_mapping.shape[0]))\n",
    "\n",
    "ner_interactions_test = behaviors_train.select(['user_id', 'article_ids_clicked']).explode('article_ids_clicked') \\\n",
    "    .join(articles.select(['article_id', 'ner_clusters']), left_on='article_ids_clicked', right_on='article_id', how='left') \\\n",
    "    .explode('ner_clusters').unique(['user_id', 'ner_clusters']) \\\n",
    "    .with_columns(pl.col('ner_clusters').str.strip_chars_start('\\\" ').str.to_lowercase()) \\\n",
    "    .join(user_id_mapping, on='user_id', how='left') \\\n",
    "    .join(ner_mapping, left_on='ner_clusters', right_on='ner') \\\n",
    "    .select(['user_index', 'ner_index', 'user_id', 'article_ids_clicked']) \\\n",
    "    .unique(['user_index', 'ner_index'])\n",
    "\n",
    "URM_ner_test = sps.csr_matrix((np.ones(ner_interactions_test.shape[0]),\n",
    "                               (ner_interactions_test['user_index'].to_numpy(), ner_interactions_test['ner_index'].to_numpy())),\n",
    "                              shape=(user_id_mapping.shape[0], ner_mapping.shape[0]))"
   ]
  },
  {
   "cell_type": "code",
   "execution_count": 24,
   "id": "6586a53f",
   "metadata": {
    "execution": {
     "iopub.execute_input": "2024-05-19T10:20:39.670434Z",
     "iopub.status.busy": "2024-05-19T10:20:39.669420Z",
     "iopub.status.idle": "2024-05-19T10:20:45.224578Z",
     "shell.execute_reply": "2024-05-19T10:20:45.223050Z"
    },
    "papermill": {
     "duration": 5.596452,
     "end_time": "2024-05-19T10:20:45.227421",
     "exception": false,
     "start_time": "2024-05-19T10:20:39.630969",
     "status": "completed"
    },
    "tags": []
   },
   "outputs": [
    {
     "name": "stdout",
     "output_type": "stream",
     "text": [
      "/kaggle/working\n"
     ]
    },
    {
     "name": "stderr",
     "output_type": "stream",
     "text": [
      "/opt/conda/lib/python3.10/pty.py:89: RuntimeWarning: os.fork() was called. os.fork() is incompatible with multithreaded code, and JAX is multithreaded, so this will likely lead to a deadlock.\n",
      "  pid, fd = os.forkpty()\n"
     ]
    },
    {
     "name": "stdout",
     "output_type": "stream",
     "text": [
      "Cloning into 'RecSys_Course_AT_PoliMi'...\r\n",
      "remote: Enumerating objects: 1519, done.\u001b[K\r\n",
      "remote: Counting objects: 100% (255/255), done.\u001b[K\r\n",
      "remote: Compressing objects: 100% (43/43), done.\u001b[K\r\n",
      "remote: Total 1519 (delta 223), reused 220 (delta 212), pack-reused 1264\u001b[K\r\n",
      "Receiving objects: 100% (1519/1519), 50.33 MiB | 17.00 MiB/s, done.\r\n",
      "Resolving deltas: 100% (909/909), done.\r\n"
     ]
    }
   ],
   "source": [
    "%cd /kaggle/working\n",
    "! git clone https://github.com/MaurizioFD/RecSys_Course_AT_PoliMi.git"
   ]
  },
  {
   "cell_type": "code",
   "execution_count": 25,
   "id": "4722c3a3",
   "metadata": {
    "execution": {
     "iopub.execute_input": "2024-05-19T10:20:45.310058Z",
     "iopub.status.busy": "2024-05-19T10:20:45.309629Z",
     "iopub.status.idle": "2024-05-19T10:26:00.676000Z",
     "shell.execute_reply": "2024-05-19T10:26:00.674715Z"
    },
    "papermill": {
     "duration": 315.410894,
     "end_time": "2024-05-19T10:26:00.678648",
     "exception": false,
     "start_time": "2024-05-19T10:20:45.267754",
     "status": "completed"
    },
    "tags": []
   },
   "outputs": [
    {
     "name": "stdout",
     "output_type": "stream",
     "text": [
      "/kaggle/working/RecSys_Course_AT_PoliMi\n",
      "ItemKNNCFRecommender: URM Detected 1 ( 0.0%) users with no interactions.\n",
      "ItemKNNCFRecommender: URM Detected 18909 (43.2%) items with no interactions.\n",
      "Unable to load Cython Compute_Similarity, reverting to Python\n",
      "Similarity column 43774 (100.0%), 161.87 column/sec. Elapsed time 4.51 min\n",
      "EvaluatorHoldout: Ignoring 31 ( 0.2%) Users that have less than 1 test interactions\n",
      "EvaluatorHoldout: Processed 15112 (100.0%) in 43.98 sec. Users per second: 344\n"
     ]
    },
    {
     "data": {
      "text/html": [
       "<div>\n",
       "<style scoped>\n",
       "    .dataframe tbody tr th:only-of-type {\n",
       "        vertical-align: middle;\n",
       "    }\n",
       "\n",
       "    .dataframe tbody tr th {\n",
       "        vertical-align: top;\n",
       "    }\n",
       "\n",
       "    .dataframe thead th {\n",
       "        text-align: right;\n",
       "    }\n",
       "</style>\n",
       "<table border=\"1\" class=\"dataframe\">\n",
       "  <thead>\n",
       "    <tr style=\"text-align: right;\">\n",
       "      <th></th>\n",
       "      <th>PRECISION</th>\n",
       "      <th>PRECISION_RECALL_MIN_DEN</th>\n",
       "      <th>RECALL</th>\n",
       "      <th>MAP</th>\n",
       "      <th>MAP_MIN_DEN</th>\n",
       "      <th>MRR</th>\n",
       "      <th>NDCG</th>\n",
       "      <th>F1</th>\n",
       "      <th>HIT_RATE</th>\n",
       "      <th>ARHR_ALL_HITS</th>\n",
       "      <th>...</th>\n",
       "      <th>COVERAGE_USER</th>\n",
       "      <th>COVERAGE_USER_HIT</th>\n",
       "      <th>USERS_IN_GT</th>\n",
       "      <th>DIVERSITY_GINI</th>\n",
       "      <th>SHANNON_ENTROPY</th>\n",
       "      <th>RATIO_DIVERSITY_HERFINDAHL</th>\n",
       "      <th>RATIO_DIVERSITY_GINI</th>\n",
       "      <th>RATIO_SHANNON_ENTROPY</th>\n",
       "      <th>RATIO_AVERAGE_POPULARITY</th>\n",
       "      <th>RATIO_NOVELTY</th>\n",
       "    </tr>\n",
       "    <tr>\n",
       "      <th>cutoff</th>\n",
       "      <th></th>\n",
       "      <th></th>\n",
       "      <th></th>\n",
       "      <th></th>\n",
       "      <th></th>\n",
       "      <th></th>\n",
       "      <th></th>\n",
       "      <th></th>\n",
       "      <th></th>\n",
       "      <th></th>\n",
       "      <th></th>\n",
       "      <th></th>\n",
       "      <th></th>\n",
       "      <th></th>\n",
       "      <th></th>\n",
       "      <th></th>\n",
       "      <th></th>\n",
       "      <th></th>\n",
       "      <th></th>\n",
       "      <th></th>\n",
       "      <th></th>\n",
       "    </tr>\n",
       "  </thead>\n",
       "  <tbody>\n",
       "    <tr>\n",
       "      <th>10</th>\n",
       "      <td>0.311971</td>\n",
       "      <td>0.312913</td>\n",
       "      <td>0.030088</td>\n",
       "      <td>0.214433</td>\n",
       "      <td>0.214676</td>\n",
       "      <td>0.469902</td>\n",
       "      <td>0.319612</td>\n",
       "      <td>0.054883</td>\n",
       "      <td>0.766609</td>\n",
       "      <td>0.953152</td>\n",
       "      <td>...</td>\n",
       "      <td>0.997953</td>\n",
       "      <td>0.76504</td>\n",
       "      <td>0.997953</td>\n",
       "      <td>0.002086</td>\n",
       "      <td>5.362616</td>\n",
       "      <td>0.952586</td>\n",
       "      <td>0.016842</td>\n",
       "      <td>0.419597</td>\n",
       "      <td>3.357942</td>\n",
       "      <td>0.009295</td>\n",
       "    </tr>\n",
       "  </tbody>\n",
       "</table>\n",
       "<p>1 rows × 27 columns</p>\n",
       "</div>"
      ],
      "text/plain": [
       "       PRECISION PRECISION_RECALL_MIN_DEN    RECALL       MAP MAP_MIN_DEN  \\\n",
       "cutoff                                                                      \n",
       "10      0.311971                 0.312913  0.030088  0.214433    0.214676   \n",
       "\n",
       "             MRR      NDCG        F1  HIT_RATE ARHR_ALL_HITS  ...  \\\n",
       "cutoff                                                        ...   \n",
       "10      0.469902  0.319612  0.054883  0.766609      0.953152  ...   \n",
       "\n",
       "       COVERAGE_USER COVERAGE_USER_HIT USERS_IN_GT DIVERSITY_GINI  \\\n",
       "cutoff                                                              \n",
       "10          0.997953           0.76504    0.997953       0.002086   \n",
       "\n",
       "       SHANNON_ENTROPY RATIO_DIVERSITY_HERFINDAHL RATIO_DIVERSITY_GINI  \\\n",
       "cutoff                                                                   \n",
       "10            5.362616                   0.952586             0.016842   \n",
       "\n",
       "       RATIO_SHANNON_ENTROPY RATIO_AVERAGE_POPULARITY RATIO_NOVELTY  \n",
       "cutoff                                                               \n",
       "10                  0.419597                 3.357942      0.009295  \n",
       "\n",
       "[1 rows x 27 columns]"
      ]
     },
     "execution_count": 25,
     "metadata": {},
     "output_type": "execute_result"
    }
   ],
   "source": [
    "%cd /kaggle/working/RecSys_Course_AT_PoliMi\n",
    "\n",
    "from Recommenders.SLIM.SLIMElasticNetRecommender import SLIMElasticNetRecommender\n",
    "from Recommenders.KNN.ItemKNNCFRecommender import ItemKNNCFRecommender\n",
    "from Recommenders.MatrixFactorization.PureSVDRecommender import PureSVDRecommender\n",
    "from Evaluation.Evaluator import EvaluatorHoldout\n",
    "\n",
    "np.int = int\n",
    "np.random.seed(42)\n",
    "np.bool = bool\n",
    "np.float = float\n",
    "\n",
    "item_knn = ItemKNNCFRecommender(URM_ner)\n",
    "item_knn.fit(topK=100, similarity='jaccard')\n",
    "\n",
    "evaluator = EvaluatorHoldout(URM_ner_test, cutoff_list=[10], exclude_seen=False)\n",
    "result_df, _ = evaluator.evaluateRecommender(item_knn)\n",
    "result_df"
   ]
  },
  {
   "cell_type": "code",
   "execution_count": 26,
   "id": "4b788770",
   "metadata": {
    "execution": {
     "iopub.execute_input": "2024-05-19T10:26:00.763490Z",
     "iopub.status.busy": "2024-05-19T10:26:00.763040Z",
     "iopub.status.idle": "2024-05-19T10:26:29.437545Z",
     "shell.execute_reply": "2024-05-19T10:26:29.436103Z"
    },
    "papermill": {
     "duration": 28.720823,
     "end_time": "2024-05-19T10:26:29.440647",
     "exception": false,
     "start_time": "2024-05-19T10:26:00.719824",
     "status": "completed"
    },
    "tags": []
   },
   "outputs": [
    {
     "name": "stdout",
     "output_type": "stream",
     "text": [
      "PureSVDRecommender: URM Detected 1 ( 0.0%) users with no interactions.\n",
      "PureSVDRecommender: URM Detected 18909 (43.2%) items with no interactions.\n",
      "PureSVDRecommender: Computing SVD decomposition...\n",
      "PureSVDRecommender: Computing SVD decomposition... done in 4.73 sec\n",
      "EvaluatorHoldout: Processed 15112 (100.0%) in 23.52 sec. Users per second: 642\n"
     ]
    },
    {
     "data": {
      "text/html": [
       "<div>\n",
       "<style scoped>\n",
       "    .dataframe tbody tr th:only-of-type {\n",
       "        vertical-align: middle;\n",
       "    }\n",
       "\n",
       "    .dataframe tbody tr th {\n",
       "        vertical-align: top;\n",
       "    }\n",
       "\n",
       "    .dataframe thead th {\n",
       "        text-align: right;\n",
       "    }\n",
       "</style>\n",
       "<table border=\"1\" class=\"dataframe\">\n",
       "  <thead>\n",
       "    <tr style=\"text-align: right;\">\n",
       "      <th></th>\n",
       "      <th>PRECISION</th>\n",
       "      <th>PRECISION_RECALL_MIN_DEN</th>\n",
       "      <th>RECALL</th>\n",
       "      <th>MAP</th>\n",
       "      <th>MAP_MIN_DEN</th>\n",
       "      <th>MRR</th>\n",
       "      <th>NDCG</th>\n",
       "      <th>F1</th>\n",
       "      <th>HIT_RATE</th>\n",
       "      <th>ARHR_ALL_HITS</th>\n",
       "      <th>...</th>\n",
       "      <th>COVERAGE_USER</th>\n",
       "      <th>COVERAGE_USER_HIT</th>\n",
       "      <th>USERS_IN_GT</th>\n",
       "      <th>DIVERSITY_GINI</th>\n",
       "      <th>SHANNON_ENTROPY</th>\n",
       "      <th>RATIO_DIVERSITY_HERFINDAHL</th>\n",
       "      <th>RATIO_DIVERSITY_GINI</th>\n",
       "      <th>RATIO_SHANNON_ENTROPY</th>\n",
       "      <th>RATIO_AVERAGE_POPULARITY</th>\n",
       "      <th>RATIO_NOVELTY</th>\n",
       "    </tr>\n",
       "    <tr>\n",
       "      <th>cutoff</th>\n",
       "      <th></th>\n",
       "      <th></th>\n",
       "      <th></th>\n",
       "      <th></th>\n",
       "      <th></th>\n",
       "      <th></th>\n",
       "      <th></th>\n",
       "      <th></th>\n",
       "      <th></th>\n",
       "      <th></th>\n",
       "      <th></th>\n",
       "      <th></th>\n",
       "      <th></th>\n",
       "      <th></th>\n",
       "      <th></th>\n",
       "      <th></th>\n",
       "      <th></th>\n",
       "      <th></th>\n",
       "      <th></th>\n",
       "      <th></th>\n",
       "      <th></th>\n",
       "    </tr>\n",
       "  </thead>\n",
       "  <tbody>\n",
       "    <tr>\n",
       "      <th>10</th>\n",
       "      <td>0.342628</td>\n",
       "      <td>0.345141</td>\n",
       "      <td>0.048661</td>\n",
       "      <td>0.261759</td>\n",
       "      <td>0.263204</td>\n",
       "      <td>0.670397</td>\n",
       "      <td>0.392258</td>\n",
       "      <td>0.085219</td>\n",
       "      <td>0.858655</td>\n",
       "      <td>1.275579</td>\n",
       "      <td>...</td>\n",
       "      <td>0.997953</td>\n",
       "      <td>0.856898</td>\n",
       "      <td>0.997953</td>\n",
       "      <td>0.001871</td>\n",
       "      <td>5.929536</td>\n",
       "      <td>0.95823</td>\n",
       "      <td>0.015104</td>\n",
       "      <td>0.463956</td>\n",
       "      <td>3.324192</td>\n",
       "      <td>0.009294</td>\n",
       "    </tr>\n",
       "  </tbody>\n",
       "</table>\n",
       "<p>1 rows × 27 columns</p>\n",
       "</div>"
      ],
      "text/plain": [
       "       PRECISION PRECISION_RECALL_MIN_DEN    RECALL       MAP MAP_MIN_DEN  \\\n",
       "cutoff                                                                      \n",
       "10      0.342628                 0.345141  0.048661  0.261759    0.263204   \n",
       "\n",
       "             MRR      NDCG        F1  HIT_RATE ARHR_ALL_HITS  ...  \\\n",
       "cutoff                                                        ...   \n",
       "10      0.670397  0.392258  0.085219  0.858655      1.275579  ...   \n",
       "\n",
       "       COVERAGE_USER COVERAGE_USER_HIT USERS_IN_GT DIVERSITY_GINI  \\\n",
       "cutoff                                                              \n",
       "10          0.997953          0.856898    0.997953       0.001871   \n",
       "\n",
       "       SHANNON_ENTROPY RATIO_DIVERSITY_HERFINDAHL RATIO_DIVERSITY_GINI  \\\n",
       "cutoff                                                                   \n",
       "10            5.929536                    0.95823             0.015104   \n",
       "\n",
       "       RATIO_SHANNON_ENTROPY RATIO_AVERAGE_POPULARITY RATIO_NOVELTY  \n",
       "cutoff                                                               \n",
       "10                  0.463956                 3.324192      0.009294  \n",
       "\n",
       "[1 rows x 27 columns]"
      ]
     },
     "execution_count": 26,
     "metadata": {},
     "output_type": "execute_result"
    }
   ],
   "source": [
    "pure_svd = PureSVDRecommender(URM_ner)\n",
    "pure_svd.fit(num_factors=20)\n",
    "\n",
    "result_df, _ = evaluator.evaluateRecommender(pure_svd)\n",
    "result_df"
   ]
  },
  {
   "cell_type": "code",
   "execution_count": 27,
   "id": "ac6802ec",
   "metadata": {
    "execution": {
     "iopub.execute_input": "2024-05-19T10:26:29.527312Z",
     "iopub.status.busy": "2024-05-19T10:26:29.526872Z",
     "iopub.status.idle": "2024-05-19T10:28:33.922897Z",
     "shell.execute_reply": "2024-05-19T10:28:33.921622Z"
    },
    "papermill": {
     "duration": 124.484404,
     "end_time": "2024-05-19T10:28:33.968110",
     "exception": false,
     "start_time": "2024-05-19T10:26:29.483706",
     "status": "completed"
    },
    "tags": []
   },
   "outputs": [
    {
     "name": "stdout",
     "output_type": "stream",
     "text": [
      "CPU times: user 4min 30s, sys: 3min 8s, total: 7min 39s\n",
      "Wall time: 2min 4s\n"
     ]
    },
    {
     "data": {
      "text/html": [
       "<div><style>\n",
       ".dataframe > thead > tr,\n",
       ".dataframe > tbody > tr {\n",
       "  text-align: right;\n",
       "  white-space: pre-wrap;\n",
       "}\n",
       "</style>\n",
       "<small>shape: (5, 8)</small><table border=\"1\" class=\"dataframe\"><thead><tr><th>impression_id</th><th>article</th><th>total_ner_svd_scores</th><th>mean_ner_svd_scores</th><th>max_ner_svd_scores</th><th>total_ner_item_knn_scores</th><th>mean_ner_item_knn_scores</th><th>max_ner_item_knn_scores</th></tr><tr><td>u32</td><td>i32</td><td>f32</td><td>f32</td><td>f32</td><td>f32</td><td>f32</td><td>f32</td></tr></thead><tbody><tr><td>559779428</td><td>9759955</td><td>0.98307</td><td>0.511779</td><td>0.816729</td><td>1.0</td><td>0.506971</td><td>0.896119</td></tr><tr><td>110930568</td><td>9774017</td><td>0.208133</td><td>0.048973</td><td>0.131589</td><td>0.220324</td><td>0.051841</td><td>0.304758</td></tr><tr><td>174494412</td><td>9654741</td><td>0.002995</td><td>0.007187</td><td>0.008514</td><td>0.000685</td><td>0.001644</td><td>0.000895</td></tr><tr><td>118478117</td><td>9773943</td><td>0.280533</td><td>0.771466</td><td>0.668358</td><td>0.357732</td><td>0.983764</td><td>0.804626</td></tr><tr><td>236672935</td><td>9769917</td><td>1.0</td><td>1.0</td><td>0.912642</td><td>0.645627</td><td>1.0</td><td>0.413731</td></tr></tbody></table></div>"
      ],
      "text/plain": [
       "shape: (5, 8)\n",
       "┌────────────┬─────────┬────────────┬────────────┬────────────┬────────────┬───────────┬───────────┐\n",
       "│ impression ┆ article ┆ total_ner_ ┆ mean_ner_s ┆ max_ner_sv ┆ total_ner_ ┆ mean_ner_ ┆ max_ner_i │\n",
       "│ _id        ┆ ---     ┆ svd_scores ┆ vd_scores  ┆ d_scores   ┆ item_knn_s ┆ item_knn_ ┆ tem_knn_s │\n",
       "│ ---        ┆ i32     ┆ ---        ┆ ---        ┆ ---        ┆ cores      ┆ scores    ┆ cores     │\n",
       "│ u32        ┆         ┆ f32        ┆ f32        ┆ f32        ┆ ---        ┆ ---       ┆ ---       │\n",
       "│            ┆         ┆            ┆            ┆            ┆ f32        ┆ f32       ┆ f32       │\n",
       "╞════════════╪═════════╪════════════╪════════════╪════════════╪════════════╪═══════════╪═══════════╡\n",
       "│ 559779428  ┆ 9759955 ┆ 0.98307    ┆ 0.511779   ┆ 0.816729   ┆ 1.0        ┆ 0.506971  ┆ 0.896119  │\n",
       "│ 110930568  ┆ 9774017 ┆ 0.208133   ┆ 0.048973   ┆ 0.131589   ┆ 0.220324   ┆ 0.051841  ┆ 0.304758  │\n",
       "│ 174494412  ┆ 9654741 ┆ 0.002995   ┆ 0.007187   ┆ 0.008514   ┆ 0.000685   ┆ 0.001644  ┆ 0.000895  │\n",
       "│ 118478117  ┆ 9773943 ┆ 0.280533   ┆ 0.771466   ┆ 0.668358   ┆ 0.357732   ┆ 0.983764  ┆ 0.804626  │\n",
       "│ 236672935  ┆ 9769917 ┆ 1.0        ┆ 1.0        ┆ 0.912642   ┆ 0.645627   ┆ 1.0       ┆ 0.413731  │\n",
       "└────────────┴─────────┴────────────┴────────────┴────────────┴────────────┴───────────┴───────────┘"
      ]
     },
     "execution_count": 27,
     "metadata": {},
     "output_type": "execute_result"
    }
   ],
   "source": [
    "%%time\n",
    "\n",
    "def get_inview_scores(user_ners_df, recommender, f_name):\n",
    "    user_index = user_ners_df['user_index'].to_list()[0]\n",
    "    ners = user_ners_df['ner_index'].to_numpy()\n",
    "    scores = recommender._compute_item_score([user_index], ners)[0, ners]\n",
    "    return user_ners_df.with_columns(\n",
    "        pl.Series(scores).alias(f_name)\n",
    "    )\n",
    "\n",
    "ner_inview_scores = behaviors_train.select(['user_id', 'article_ids_inview']).explode('article_ids_inview') \\\n",
    "    .join(articles.select(['article_id', 'ner_clusters']), left_on='article_ids_inview', right_on='article_id', how='left') \\\n",
    "    .explode('ner_clusters').unique(['user_id', 'ner_clusters']) \\\n",
    "    .with_columns(pl.col('ner_clusters').str.strip_chars_start('\\\" ').str.to_lowercase()) \\\n",
    "    .join(user_id_mapping, on='user_id', how='left') \\\n",
    "    .join(ner_mapping, left_on='ner_clusters', right_on='ner') \\\n",
    "    .select(['user_index', 'ner_index', 'user_id', 'article_ids_inview']) \\\n",
    "    .unique(['user_index', 'ner_index']) \\\n",
    "    .sort(['user_index', 'ner_index']).group_by('user_index').map_groups(\n",
    "        lambda user_df: user_df.pipe(get_inview_scores, recommender=pure_svd, f_name='pure_svd_scores') \\\n",
    "            .pipe(get_inview_scores, recommender=item_knn, f_name='item_knn_scores')\n",
    "    )\n",
    "\n",
    "behaviors_ner_scores = behaviors_train.select(['impression_id', 'user_id', 'article_ids_inview']).explode('article_ids_inview') \\\n",
    "    .join(ner_inview_scores, on=['user_id', 'article_ids_inview'], how='left') \\\n",
    "    .with_columns(pl.col(['pure_svd_scores', 'item_knn_scores']).fill_null(0)) \\\n",
    "    .group_by(['impression_id', 'article_ids_inview']).agg(\n",
    "        pl.col('pure_svd_scores').sum().alias('total_ner_svd_scores'),\n",
    "        pl.col('pure_svd_scores').mean().alias('mean_ner_svd_scores'),\n",
    "        pl.col('pure_svd_scores').max().alias('max_ner_svd_scores'),\n",
    "        pl.col('item_knn_scores').sum().alias('total_ner_item_knn_scores'),\n",
    "        pl.col('item_knn_scores').mean().alias('mean_ner_item_knn_scores'),\n",
    "        pl.col('item_knn_scores').max().alias('max_ner_item_knn_scores'),\n",
    "    ).with_columns(\n",
    "        pl.col(['total_ner_svd_scores', 'mean_ner_svd_scores', \n",
    "                'total_ner_item_knn_scores', 'mean_ner_item_knn_scores',\n",
    "                'max_ner_svd_scores', 'max_ner_item_knn_scores']).max().over('impression_id').name.suffix('_max')\n",
    "    ).with_columns(\n",
    "        # l1 normalization\n",
    "        pl.col('total_ner_svd_scores').truediv(pl.col('total_ner_svd_scores_max')),\n",
    "        pl.col('mean_ner_svd_scores').truediv(pl.col('mean_ner_svd_scores_max')),\n",
    "        pl.col('max_ner_svd_scores').truediv(pl.col('max_ner_svd_scores_max')),\n",
    "        pl.col('total_ner_item_knn_scores').truediv(pl.col('total_ner_item_knn_scores_max')),\n",
    "        pl.col('mean_ner_item_knn_scores').truediv(pl.col('mean_ner_item_knn_scores_max')),\n",
    "        pl.col('max_ner_item_knn_scores').truediv(pl.col('max_ner_item_knn_scores_max')),\n",
    "    ).drop(['total_ner_svd_scores_max', 'mean_ner_svd_scores_max', \n",
    "            'max_ner_svd_scores_max', 'total_ner_item_knn_scores_max',\n",
    "            'mean_ner_item_knn_scores_max', 'max_ner_item_knn_scores_max']) \\\n",
    "    .rename({'article_ids_inview': 'article'})\n",
    "behaviors_ner_scores.head(5)"
   ]
  },
  {
   "cell_type": "code",
   "execution_count": 28,
   "id": "aa68586a",
   "metadata": {
    "execution": {
     "iopub.execute_input": "2024-05-19T10:28:34.053693Z",
     "iopub.status.busy": "2024-05-19T10:28:34.053232Z",
     "iopub.status.idle": "2024-05-19T10:28:34.515501Z",
     "shell.execute_reply": "2024-05-19T10:28:34.514332Z"
    },
    "papermill": {
     "duration": 0.507988,
     "end_time": "2024-05-19T10:28:34.517988",
     "exception": false,
     "start_time": "2024-05-19T10:28:34.010000",
     "status": "completed"
    },
    "tags": []
   },
   "outputs": [
    {
     "data": {
      "text/plain": [
       "0"
      ]
     },
     "execution_count": 28,
     "metadata": {},
     "output_type": "execute_result"
    }
   ],
   "source": [
    "del URM_ner\n",
    "del URM_ner_test\n",
    "del ner_inview_scores\n",
    "del ner_interactions\n",
    "del ner_interactions_test\n",
    "gc.collect()"
   ]
  },
  {
   "cell_type": "markdown",
   "id": "b8f24825",
   "metadata": {
    "papermill": {
     "duration": 0.041431,
     "end_time": "2024-05-19T10:28:34.601403",
     "exception": false,
     "start_time": "2024-05-19T10:28:34.559972",
     "status": "completed"
    },
    "tags": []
   },
   "source": [
    "# Creating Training Dataframe"
   ]
  },
  {
   "cell_type": "code",
   "execution_count": 29,
   "id": "f5f9e85b",
   "metadata": {
    "execution": {
     "iopub.execute_input": "2024-05-19T10:28:34.689413Z",
     "iopub.status.busy": "2024-05-19T10:28:34.688995Z",
     "iopub.status.idle": "2024-05-19T10:28:34.702335Z",
     "shell.execute_reply": "2024-05-19T10:28:34.701108Z"
    },
    "papermill": {
     "duration": 0.059407,
     "end_time": "2024-05-19T10:28:34.704912",
     "exception": false,
     "start_time": "2024-05-19T10:28:34.645505",
     "status": "completed"
    },
    "tags": []
   },
   "outputs": [],
   "source": [
    "def normalize_endorsement(articles_endorsement_raw):\n",
    "    return articles_endorsement.sort(by='impression_time').with_columns(\n",
    "        (\n",
    "            pl.col('endorsement_10h') / \n",
    "            pl.col('endorsement_10h').sum().over('impression_time')\n",
    "        ).alias('normalized_endorsement_10h'),\n",
    "        (\n",
    "            pl.col('endorsement_10h') - \n",
    "            pl.col('endorsement_10h').rolling_mean(10, min_periods=1).over('article')\n",
    "        ).alias('endorsement_10h_diff_rolling'),\n",
    "        (\n",
    "            pl.col('endorsement_10h').rolling_mean(5, min_periods=1).over('article') - \n",
    "            pl.col('endorsement_10h').rolling_mean(10, min_periods=1).over('article')\n",
    "        ).alias('endorsement_macd'),\n",
    "        (\n",
    "            pl.col('endorsement_10h') / \n",
    "            pl.col('endorsement_10h').quantile(0.8).over('impression_time')\n",
    "        ).alias('endorsement_quantile_norm_10h')\n",
    "    ).with_columns(\n",
    "        (\n",
    "            pl.col('normalized_endorsement_10h') / \n",
    "            pl.col('normalized_endorsement_10h').rolling_max(10, min_periods=1).over('impression_time')\n",
    "        ).alias('normalized_endorsement_10h_rolling_max_ratio'),\n",
    "    )\n",
    "    \n",
    "\n",
    "def add_article_endorsement_feature(df_features, normalized_endorsement):\n",
    "    # old return df_features.join(other=articles_endorsement, on=[\"article\", \"impression_time\"], how=\"left\")\n",
    "    normalized_endorsement = normalized_endorsement.with_columns(pl.col('article').cast(pl.Int32))\n",
    "    return df_features.with_columns(pl.col('impression_time').dt.round('1m').alias('rounded_impression_time'))\\\n",
    "                         .join(normalized_endorsement.rename({'impression_time' : 'rounded_impression_time'}), on=['article','rounded_impression_time'], how='left')\\\n",
    "                         .drop('rounded_impression_time')"
   ]
  },
  {
   "cell_type": "code",
   "execution_count": 30,
   "id": "556f3cf3",
   "metadata": {
    "execution": {
     "iopub.execute_input": "2024-05-19T10:28:34.791291Z",
     "iopub.status.busy": "2024-05-19T10:28:34.790872Z",
     "iopub.status.idle": "2024-05-19T10:28:34.804744Z",
     "shell.execute_reply": "2024-05-19T10:28:34.803399Z"
    },
    "papermill": {
     "duration": 0.060053,
     "end_time": "2024-05-19T10:28:34.807262",
     "exception": false,
     "start_time": "2024-05-19T10:28:34.747209",
     "status": "completed"
    },
    "tags": []
   },
   "outputs": [],
   "source": [
    "def normalize_endorsement_by_article_and_user(articles_endorsement_articleuser_raw):\n",
    "    return articles_endorsement_articleuser_raw.sort(by=['user_id','impression_time']).with_columns(\n",
    "        (\n",
    "            pl.col('endorsement_20h_articleuser') / \n",
    "            pl.col('endorsement_20h_articleuser').sum().over(['user_id','impression_time'])\n",
    "        ).alias('normalized_endorsement_articleuser_20h'),\n",
    "        (\n",
    "            pl.col('endorsement_20h_articleuser') - \n",
    "            pl.col('endorsement_20h_articleuser').rolling_mean(10, min_periods=1).over(['article','user_id'])\n",
    "        ).alias('endorsement_20h_articleuser_diff_rolling'),\n",
    "        (\n",
    "            pl.col('endorsement_20h_articleuser').rolling_mean(5, min_periods=1).over(['article','user_id']) - \n",
    "            pl.col('endorsement_20h_articleuser').rolling_mean(10, min_periods=1).over(['article','user_id'])\n",
    "        ).alias('endorsement_articleuser_macd'),\n",
    "        (\n",
    "            pl.col('endorsement_20h_articleuser') / \n",
    "            pl.col('endorsement_20h_articleuser').quantile(0.8).over(['user_id','impression_time'])\n",
    "        ).alias('endorsement_articleuser_quantile_norm_20h')\n",
    "    ).with_columns(\n",
    "        (\n",
    "            pl.col('endorsement_20h_articleuser') / \n",
    "            pl.col('endorsement_20h_articleuser').rolling_max(10, min_periods=1).over(['user_id','impression_time'])\n",
    "        ).alias('normalized_endorsement_articleuser_20h_rolling_max_ratio'),\n",
    "    )\n",
    "    \n",
    "\n",
    "def add_article_endorsement_feature_by_article_and_user(df_features, normalized_endorsement):\n",
    "    # old return df_features.join(other=articles_endorsement, on=[\"article\", \"impression_time\"], how=\"left\")\n",
    "    normalized_endorsement = normalized_endorsement.with_columns(pl.col('article').cast(pl.Int32))\n",
    "    return df_features.with_columns(pl.col('impression_time').dt.round('1m').alias('rounded_impression_time'))\\\n",
    "                         .join(normalized_endorsement.rename({'impression_time' : 'rounded_impression_time'}), on=['user_id','article','rounded_impression_time'], how='left')\\\n",
    "                         .drop('rounded_impression_time')"
   ]
  },
  {
   "cell_type": "code",
   "execution_count": 31,
   "id": "20a5b9d0",
   "metadata": {
    "execution": {
     "iopub.execute_input": "2024-05-19T10:28:34.892771Z",
     "iopub.status.busy": "2024-05-19T10:28:34.892374Z",
     "iopub.status.idle": "2024-05-19T10:28:34.902580Z",
     "shell.execute_reply": "2024-05-19T10:28:34.901429Z"
    },
    "papermill": {
     "duration": 0.056033,
     "end_time": "2024-05-19T10:28:34.905073",
     "exception": false,
     "start_time": "2024-05-19T10:28:34.849040",
     "status": "completed"
    },
    "tags": []
   },
   "outputs": [],
   "source": [
    "def add_article_endorsement_feature_leak(df_features, normalized_endorsement,period='10h'):\n",
    "    # old return df_features.join(other=articles_endorsement, on=[\"article\", \"impression_time\"], how=\"left\")\n",
    "    normalized_endorsement = normalized_endorsement.with_columns(pl.col('article').cast(pl.Int32)).rename({f'endorsement_{period}':f'endorsement_{period}_leak'}) \\\n",
    "                            .with_columns(\n",
    "                                pl.col('impression_time') - pl.duration(hours=int(period[:-1]))\n",
    "                            ).sort('impression_time').set_sorted('impression_time')\n",
    "    \n",
    "    return df_features.with_columns(pl.col('impression_time').dt.round('1m').alias('rounded_impression_time'))\\\n",
    "                        .sort('rounded_impression_time').set_sorted('rounded_impression_time') \\\n",
    "                         .join_asof(normalized_endorsement.rename({'impression_time' : 'rounded_impression_time'}),by='article', left_on='rounded_impression_time',right_on='rounded_impression_time', strategy='nearest')\\\n",
    "                         .drop('rounded_impression_time') \\\n",
    "                        .with_columns(\n",
    "                            pl.col(f'endorsement_{period}_leak').fill_null(0)\n",
    "                        )\n"
   ]
  },
  {
   "cell_type": "code",
   "execution_count": 32,
   "id": "0e98f001",
   "metadata": {
    "execution": {
     "iopub.execute_input": "2024-05-19T10:28:34.993072Z",
     "iopub.status.busy": "2024-05-19T10:28:34.992007Z",
     "iopub.status.idle": "2024-05-19T10:28:35.008751Z",
     "shell.execute_reply": "2024-05-19T10:28:35.007482Z"
    },
    "papermill": {
     "duration": 0.063345,
     "end_time": "2024-05-19T10:28:35.011108",
     "exception": false,
     "start_time": "2024-05-19T10:28:34.947763",
     "status": "completed"
    },
    "tags": []
   },
   "outputs": [],
   "source": [
    "def add_trendiness_feature_leak(df_features: pl.DataFrame, articles: pl.DataFrame, period: str = \"3d\"):\n",
    "\n",
    "    topics = articles.select(\"topics\").explode(\"topics\").unique()\n",
    "    topics = [topic for topic in topics[\"topics\"] if topic is not None]\n",
    "    # min_impression_time = df_features.select(pl.col(\"impression_time\")).min().item()\n",
    "\n",
    "    # topics_total_publications= articles.filter(pl.col(\"published_time\")< min_impression_time ).select(\"topics\") \\\n",
    "    # .explode(\"topics\").group_by(\"topics\").len()\n",
    "\n",
    "    topics_popularity = articles.select([\"published_time\", \"topics\"]).with_columns(\n",
    "        pl.col(\"published_time\").dt.date().alias(\"published_date\")\n",
    "    ).drop(\"published_time\").group_by(\"published_date\").agg(\n",
    "        pl.col(\"topics\").flatten()\n",
    "    ).sort(\"published_date\").set_sorted(\"published_date\").upsample(time_column=\"published_date\", every=\"1d\") \\\n",
    "        .rolling(index_column=\"published_date\", period=period).agg(\n",
    "        [pl.col(\"topics\").list.count_matches(topic).sum().alias(\n",
    "            f\"{topic}_matches\") for topic in topics]\n",
    "    )\n",
    "\n",
    "    return df_features.with_columns(\n",
    "        pl.col(\"impression_time\").dt.date().alias(\"impression_date\")\n",
    "    ).join(other=articles.select([\"article_id\", \"topics\"]), left_on=\"article\", right_on=\"article_id\", how=\"left\") \\\n",
    "        .with_columns(\n",
    "        [pl.col(\"topics\").list.contains(topic).cast(\n",
    "            pl.Int8).alias(f\"{topic}_present\") for topic in topics]\n",
    "    ).sort('impression_date').set_sorted('impression_date') \\\n",
    "    .join_asof(topics_popularity.with_columns(pl.col('published_date') + pl.duration(days=1) - pl.duration(days=int(period[:-1]))) \\\n",
    "               .sort('published_date').set_sorted('published_date'),\n",
    "               left_on=\"impression_date\", right_on=\"published_date\", strategy=\"nearest\") \\\n",
    "        .with_columns(\n",
    "        [pl.col(f\"{topic}_present\").mul(pl.col(f\"{topic}_matches\")).alias(\n",
    "            f\"trendiness_score_{topic}\") for topic in topics]\n",
    "    ).with_columns(\n",
    "        pl.sum_horizontal([pl.col(f\"trendiness_score_{topic}\") for topic in topics]).alias(\n",
    "            \"trendiness_score_leak\"),\n",
    "    ).drop(\n",
    "        [f\"trendiness_score_{topic}\" for topic in topics]\n",
    "    ).drop(\n",
    "        [f\"{topic}_matches\" for topic in topics]\n",
    "    ).drop(\n",
    "        [f\"{topic}_present\" for topic in topics]\n",
    "    ).drop([\"topics\", \"impression_date\",\"published_date\"])"
   ]
  },
  {
   "cell_type": "code",
   "execution_count": 33,
   "id": "023e3e44",
   "metadata": {
    "execution": {
     "iopub.execute_input": "2024-05-19T10:28:35.101223Z",
     "iopub.status.busy": "2024-05-19T10:28:35.100778Z",
     "iopub.status.idle": "2024-05-19T10:32:33.847358Z",
     "shell.execute_reply": "2024-05-19T10:32:33.846118Z"
    },
    "papermill": {
     "duration": 238.795351,
     "end_time": "2024-05-19T10:32:33.849931",
     "exception": false,
     "start_time": "2024-05-19T10:28:35.054580",
     "status": "completed"
    },
    "tags": []
   },
   "outputs": [
    {
     "name": "stderr",
     "output_type": "stream",
     "text": [
      "16it [00:27,  1.71s/it]                        \n",
      "2427it [00:06, 393.37it/s]                          \n",
      "16it [00:01,  8.31it/s]                        \n",
      "16it [00:02,  6.94it/s]                        \n",
      "100%|██████████| 506/506 [00:03<00:00, 138.19it/s]\n",
      "100%|██████████| 506/506 [00:05<00:00, 91.11it/s] \n"
     ]
    },
    {
     "name": "stdout",
     "output_type": "stream",
     "text": [
      "\u001b[1m\u001b[31m\n",
      "RAM memory GB usage = 3.178\u001b[0m\n",
      "Memory usage of dataframe is 1119.91 MB\n",
      "Memory usage after optimization is: 661.24 MB\n",
      "Decreased by 41.0%\n",
      "\u001b[1m\u001b[31m\n",
      "RAM memory GB usage = 2.687\u001b[0m\n",
      "CPU times: user 12min 24s, sys: 58.4 s, total: 13min 22s\n",
      "Wall time: 3min 58s\n"
     ]
    },
    {
     "data": {
      "text/html": [
       "<div><style>\n",
       ".dataframe > thead > tr,\n",
       ".dataframe > tbody > tr {\n",
       "  text-align: right;\n",
       "  white-space: pre-wrap;\n",
       "}\n",
       "</style>\n",
       "<small>shape: (5, 89)</small><table border=\"1\" class=\"dataframe\"><thead><tr><th>impression_id</th><th>article</th><th>user_id</th><th>impression_time</th><th>target</th><th>device_type</th><th>read_time</th><th>scroll_percentage</th><th>is_sso_user</th><th>gender</th><th>age</th><th>is_subscriber</th><th>session_id</th><th>postcode</th><th>trendiness_score_1d</th><th>trendiness_score_3d</th><th>trendiness_score_5d</th><th>trendiness_score_3d_leak</th><th>weekday</th><th>hour</th><th>trendiness_score_1d/3d</th><th>trendiness_score_1d/5d</th><th>normalized_trendiness_score_overall</th><th>premium</th><th>published_time</th><th>category</th><th>sentiment_score</th><th>sentiment_label</th><th>num_images</th><th>title_len</th><th>subtitle_len</th><th>body_len</th><th>num_topics</th><th>total_pageviews</th><th>total_inviews</th><th>total_read_time</th><th>total_pageviews/inviews</th><th>&hellip;</th><th>mean_user_trendiness_score</th><th>mean_topics_trendiness_score</th><th>mean_topics_mean_delay_days</th><th>mean_topics_mean_delay_hours</th><th>user_mean_delay_days</th><th>user_mean_delay_hours</th><th>window_0_history_length</th><th>window_1_history_length</th><th>window_2_history_length</th><th>window_3_history_length</th><th>is_inside_window_0</th><th>is_inside_window_1</th><th>is_inside_window_2</th><th>is_inside_window_3</th><th>window_category_score</th><th>window_topics_score</th><th>trendiness_score_category</th><th>endorsement_10h</th><th>normalized_endorsement_10h</th><th>endorsement_10h_diff_rolling</th><th>endorsement_macd</th><th>endorsement_quantile_norm_10h</th><th>normalized_endorsement_10h_rolling_max_ratio</th><th>endorsement_20h_articleuser</th><th>normalized_endorsement_articleuser_20h</th><th>endorsement_20h_articleuser_diff_rolling</th><th>endorsement_articleuser_macd</th><th>endorsement_articleuser_quantile_norm_20h</th><th>normalized_endorsement_articleuser_20h_rolling_max_ratio</th><th>endorsement_10h_leak</th><th>normalized_endorsement_10h_right</th><th>endorsement_10h_leak_diff_rolling</th><th>endorsement_leak_macd</th><th>endorsement_quantile_norm_10h_leak</th><th>normalized_endorsement_10h_leak_rolling_max_ratio</th><th>clicked_count</th><th>inview_count</th></tr><tr><td>u32</td><td>i32</td><td>u32</td><td>datetime[μs]</td><td>i8</td><td>i8</td><td>f32</td><td>f32</td><td>bool</td><td>i8</td><td>i8</td><td>bool</td><td>u32</td><td>i8</td><td>i16</td><td>i16</td><td>i16</td><td>i16</td><td>i8</td><td>i8</td><td>f32</td><td>f32</td><td>f32</td><td>bool</td><td>datetime[μs]</td><td>i16</td><td>f32</td><td>str</td><td>u32</td><td>u8</td><td>u8</td><td>u16</td><td>u32</td><td>i32</td><td>i32</td><td>f32</td><td>f32</td><td>&hellip;</td><td>f32</td><td>f32</td><td>f32</td><td>f32</td><td>f32</td><td>f32</td><td>i16</td><td>i16</td><td>i16</td><td>i16</td><td>i8</td><td>i8</td><td>i8</td><td>i8</td><td>i16</td><td>i16</td><td>i8</td><td>u16</td><td>f32</td><td>f32</td><td>f32</td><td>f32</td><td>f32</td><td>u8</td><td>f32</td><td>f32</td><td>f32</td><td>f32</td><td>f32</td><td>i16</td><td>f32</td><td>f32</td><td>f32</td><td>f32</td><td>f32</td><td>u32</td><td>u16</td></tr></thead><tbody><tr><td>378976031</td><td>9770541</td><td>1154811</td><td>2023-05-18 07:00:07</td><td>0</td><td>2</td><td>51.0</td><td>100.0</td><td>true</td><td>2</td><td>null</td><td>false</td><td>173175</td><td>5</td><td>17</td><td>39</td><td>137</td><td>33</td><td>4</td><td>7</td><td>0.435897</td><td>0.124088</td><td>0.075728</td><td>false</td><td>2023-05-18 04:18:33</td><td>414</td><td>0.878</td><td>&quot;Neutral&quot;</td><td>8</td><td>10</td><td>24</td><td>318</td><td>5</td><td>138320</td><td>597827</td><td>8.683972e6</td><td>0.231371</td><td>&hellip;</td><td>217.374588</td><td>268.074646</td><td>14.252214</td><td>344.767365</td><td>30.123779</td><td>726.009766</td><td>158</td><td>70</td><td>78</td><td>70</td><td>1</td><td>0</td><td>0</td><td>0</td><td>18</td><td>12</td><td>49</td><td>10</td><td>0.02994</td><td>0.0</td><td>0.0</td><td>1.428571</td><td>0.555556</td><td>1</td><td>0.090909</td><td>0.0</td><td>0.0</td><td>1.0</td><td>1.0</td><td>1826</td><td>0.023693</td><td>5.1</td><td>2.9</td><td>0.997814</td><td>0.352306</td><td>1655</td><td>2215</td></tr><tr><td>271334979</td><td>9770541</td><td>268275</td><td>2023-05-18 07:00:29</td><td>0</td><td>1</td><td>31.0</td><td>100.0</td><td>false</td><td>2</td><td>null</td><td>false</td><td>1770914</td><td>5</td><td>17</td><td>39</td><td>137</td><td>33</td><td>4</td><td>7</td><td>0.435897</td><td>0.124088</td><td>0.075728</td><td>false</td><td>2023-05-18 04:18:33</td><td>414</td><td>0.878</td><td>&quot;Neutral&quot;</td><td>8</td><td>10</td><td>24</td><td>318</td><td>5</td><td>138320</td><td>597827</td><td>8.683972e6</td><td>0.231371</td><td>&hellip;</td><td>282.16394</td><td>268.074646</td><td>14.252214</td><td>344.767365</td><td>3.016393</td><td>76.52459</td><td>90</td><td>33</td><td>5</td><td>62</td><td>1</td><td>0</td><td>0</td><td>0</td><td>4</td><td>0</td><td>49</td><td>10</td><td>0.02994</td><td>0.0</td><td>0.0</td><td>1.428571</td><td>0.555556</td><td>1</td><td>0.047619</td><td>0.0</td><td>0.0</td><td>1.0</td><td>1.0</td><td>1826</td><td>0.023693</td><td>5.1</td><td>2.9</td><td>0.997814</td><td>0.352306</td><td>1655</td><td>2215</td></tr><tr><td>378935331</td><td>9767546</td><td>1023402</td><td>2023-05-18 07:00:04</td><td>0</td><td>2</td><td>17.0</td><td>null</td><td>true</td><td>2</td><td>null</td><td>true</td><td>437564</td><td>5</td><td>34</td><td>78</td><td>131</td><td>34</td><td>4</td><td>7</td><td>0.435897</td><td>0.259542</td><td>0.151456</td><td>false</td><td>2023-05-17 17:32:01</td><td>2975</td><td>0.5232</td><td>&quot;Negative&quot;</td><td>3</td><td>11</td><td>20</td><td>315</td><td>2</td><td>94297</td><td>387491</td><td>5.278933e6</td><td>0.243353</td><td>&hellip;</td><td>170.512817</td><td>303.357391</td><td>3.641354</td><td>89.717072</td><td>19.009615</td><td>461.253204</td><td>179</td><td>100</td><td>19</td><td>71</td><td>1</td><td>0</td><td>0</td><td>0</td><td>2</td><td>24</td><td>19</td><td>1</td><td>0.002994</td><td>0.0</td><td>0.0</td><td>0.142857</td><td>0.0625</td><td>1</td><td>0.125</td><td>0.0</td><td>0.0</td><td>1.0</td><td>1.0</td><td>40</td><td>0.000495</td><td>-2.9</td><td>2.9</td><td>0.023135</td><td>0.012453</td><td>1445</td><td>147</td></tr><tr><td>579742841</td><td>9203920</td><td>362240</td><td>2023-05-18 07:00:07</td><td>0</td><td>1</td><td>88.0</td><td>null</td><td>false</td><td>2</td><td>null</td><td>false</td><td>1771620</td><td>5</td><td>7</td><td>33</td><td>44</td><td>32</td><td>4</td><td>7</td><td>0.212121</td><td>0.159091</td><td>0.064078</td><td>true</td><td>2022-07-29 16:52:21</td><td>565</td><td>0.836</td><td>&quot;Neutral&quot;</td><td>7</td><td>6</td><td>33</td><td>878</td><td>2</td><td>null</td><td>null</td><td>null</td><td>null</td><td>&hellip;</td><td>192.800003</td><td>191.472092</td><td>84.034439</td><td>2022.176392</td><td>0.266667</td><td>10.666667</td><td>15</td><td>0</td><td>0</td><td>0</td><td>1</td><td>0</td><td>0</td><td>0</td><td>0</td><td>2</td><td>1</td><td>2</td><td>0.005988</td><td>0.0</td><td>0.0</td><td>0.285714</td><td>1.0</td><td>1</td><td>0.030303</td><td>0.0</td><td>0.0</td><td>1.0</td><td>1.0</td><td>433</td><td>0.004696</td><td>5.6</td><td>3.4</td><td>0.248708</td><td>0.458201</td><td>80</td><td>1150</td></tr><tr><td>45936619</td><td>9727087</td><td>2052447</td><td>2023-05-18 07:00:18</td><td>0</td><td>2</td><td>56.0</td><td>100.0</td><td>false</td><td>2</td><td>null</td><td>false</td><td>1192949</td><td>5</td><td>77</td><td>217</td><td>385</td><td>129</td><td>4</td><td>7</td><td>0.354839</td><td>0.2</td><td>0.421359</td><td>true</td><td>2023-04-24 09:46:42</td><td>118</td><td>0.6239</td><td>&quot;Neutral&quot;</td><td>5</td><td>7</td><td>29</td><td>721</td><td>5</td><td>81411</td><td>1139178</td><td>4.614807e6</td><td>0.071465</td><td>&hellip;</td><td>207.793106</td><td>364.027435</td><td>6.206751</td><td>151.412888</td><td>2.357759</td><td>58.120689</td><td>108</td><td>95</td><td>50</td><td>15</td><td>1</td><td>0</td><td>0</td><td>0</td><td>37</td><td>32</td><td>96</td><td>17</td><td>0.050898</td><td>0.0</td><td>0.0</td><td>2.428571</td><td>1.0</td><td>1</td><td>0.083333</td><td>0.0</td><td>0.0</td><td>1.0</td><td>1.0</td><td>2121</td><td>0.018005</td><td>5.7</td><td>3.5</td><td>0.923781</td><td>0.891176</td><td>184</td><td>2126</td></tr></tbody></table></div>"
      ],
      "text/plain": [
       "shape: (5, 89)\n",
       "┌────────────┬─────────┬─────────┬────────────┬───┬────────────┬───────────┬───────────┬───────────┐\n",
       "│ impression ┆ article ┆ user_id ┆ impression ┆ … ┆ endorsemen ┆ normalize ┆ clicked_c ┆ inview_co │\n",
       "│ _id        ┆ ---     ┆ ---     ┆ _time      ┆   ┆ t_quantile ┆ d_endorse ┆ ount      ┆ unt       │\n",
       "│ ---        ┆ i32     ┆ u32     ┆ ---        ┆   ┆ _norm_10h_ ┆ ment_10h_ ┆ ---       ┆ ---       │\n",
       "│ u32        ┆         ┆         ┆ datetime[μ ┆   ┆ …          ┆ lea…      ┆ u32       ┆ u16       │\n",
       "│            ┆         ┆         ┆ s]         ┆   ┆ ---        ┆ ---       ┆           ┆           │\n",
       "│            ┆         ┆         ┆            ┆   ┆ f32        ┆ f32       ┆           ┆           │\n",
       "╞════════════╪═════════╪═════════╪════════════╪═══╪════════════╪═══════════╪═══════════╪═══════════╡\n",
       "│ 378976031  ┆ 9770541 ┆ 1154811 ┆ 2023-05-18 ┆ … ┆ 0.997814   ┆ 0.352306  ┆ 1655      ┆ 2215      │\n",
       "│            ┆         ┆         ┆ 07:00:07   ┆   ┆            ┆           ┆           ┆           │\n",
       "│ 271334979  ┆ 9770541 ┆ 268275  ┆ 2023-05-18 ┆ … ┆ 0.997814   ┆ 0.352306  ┆ 1655      ┆ 2215      │\n",
       "│            ┆         ┆         ┆ 07:00:29   ┆   ┆            ┆           ┆           ┆           │\n",
       "│ 378935331  ┆ 9767546 ┆ 1023402 ┆ 2023-05-18 ┆ … ┆ 0.023135   ┆ 0.012453  ┆ 1445      ┆ 147       │\n",
       "│            ┆         ┆         ┆ 07:00:04   ┆   ┆            ┆           ┆           ┆           │\n",
       "│ 579742841  ┆ 9203920 ┆ 362240  ┆ 2023-05-18 ┆ … ┆ 0.248708   ┆ 0.458201  ┆ 80        ┆ 1150      │\n",
       "│            ┆         ┆         ┆ 07:00:07   ┆   ┆            ┆           ┆           ┆           │\n",
       "│ 45936619   ┆ 9727087 ┆ 2052447 ┆ 2023-05-18 ┆ … ┆ 0.923781   ┆ 0.891176  ┆ 184       ┆ 2126      │\n",
       "│            ┆         ┆         ┆ 07:00:18   ┆   ┆            ┆           ┆           ┆           │\n",
       "└────────────┴─────────┴─────────┴────────────┴───┴────────────┴───────────┴───────────┴───────────┘"
      ]
     },
     "execution_count": 33,
     "metadata": {},
     "output_type": "execute_result"
    }
   ],
   "source": [
    "%%time\n",
    "\n",
    "NPRATIO = 2\n",
    "\n",
    "users_mean_trendiness_scores, topics_mean_trendiness_scores = _preprocessing_history_trendiness_scores(\n",
    "        history=history_train, articles=articles)\n",
    "topic_mean_delays, user_mean_delays = _preprocessing_mean_delay_features(\n",
    "    articles=articles, history=history_train)\n",
    "windows, user_windows, user_topics_windows, user_category_windows = _preprocessing_window_features(\n",
    "    history=history_train, articles=articles)\n",
    "articles_endorsement = _preprocessing_article_endorsement_feature(\n",
    "    behaviors=behaviors_train, period=\"10h\")\n",
    "normalized_endorsement = normalize_endorsement(articles_endorsement)\n",
    "articles_endorsement_articleuser = _preprocessing_article_endorsement_feature_by_article_and_user(\n",
    "    behaviors=behaviors_train, period=\"20h\")\n",
    "normalized_endorsement_articleuser = normalize_endorsement_by_article_and_user(articles_endorsement_articleuser)\n",
    "\n",
    "topics = articles.select(\"topics\").explode(\"topics\").unique()\n",
    "topics = [topic for topic in topics[\"topics\"] if topic is not None]\n",
    "\n",
    "history_counts=history_train.select(['article_id_fixed']).explode('article_id_fixed').group_by('article_id_fixed').len() \\\n",
    ".rename({'article_id_fixed':'article','len':'clicked_count'})\n",
    "\n",
    "behaviors_counts=behaviors_train.select('article_ids_inview').explode('article_ids_inview').group_by('article_ids_inview').len() \\\n",
    ".rename({'article_ids_inview':'article','len':'inview_count'})\n",
    "\n",
    "# dropping duplicates that can occur because of sampling strategy\n",
    "train_ds = behaviors_train.pipe(create_binary_labels_column, shuffle=True, seed=123) \\\n",
    "    .with_columns(pl.col('gender').fill_null(2)) \\\n",
    "    .with_columns(pl.col('postcode').fill_null(5)) \\\n",
    "    .select(['impression_id', 'article_ids_inview', 'impression_time', 'labels', \n",
    "             'device_type', 'read_time', 'scroll_percentage', 'user_id', 'is_sso_user', 'gender',\n",
    "             'age', 'is_subscriber', 'session_id', 'postcode']) \\\n",
    "    .explode(['article_ids_inview', 'labels']) \\\n",
    "    .rename({'article_ids_inview': 'article', 'labels': 'target'}) \\\n",
    "    .with_columns(pl.col('article').cast(pl.Int32)) \\\n",
    "    .pipe(add_trendiness_feature, articles=articles, period='1d') \\\n",
    "    .rename({'trendiness_score': 'trendiness_score_1d'}) \\\n",
    "    .pipe(add_trendiness_feature, articles=articles, period='3d') \\\n",
    "    .rename({'trendiness_score': 'trendiness_score_3d'}) \\\n",
    "    .pipe(add_trendiness_feature, articles=articles, period='5d') \\\n",
    "    .rename({'trendiness_score': 'trendiness_score_5d'}) \\\n",
    "    .pipe(add_trendiness_feature_leak, articles=articles, period='3d') \\\n",
    "    .rename({'trendiness_score_leak':'trendiness_score_3d_leak'}) \\\n",
    "    .unique(['impression_id', 'article']) \\\n",
    "    .with_columns(\n",
    "        pl.col('impression_time').dt.weekday().alias('weekday'),\n",
    "        pl.col('impression_time').dt.hour().alias('hour'),\n",
    "        pl.col('article').cast(pl.Int32),\n",
    "        (\n",
    "            pl.col('trendiness_score_1d') / \n",
    "            pl.col('trendiness_score_3d')\n",
    "        ).alias('trendiness_score_1d/3d'),\n",
    "        (\n",
    "            pl.col('trendiness_score_1d') / \n",
    "            pl.col('trendiness_score_5d')\n",
    "        ).alias('trendiness_score_1d/5d'),\n",
    "        (\n",
    "            pl.col('trendiness_score_3d') / \n",
    "            pl.col('trendiness_score_3d').max().over(pl.col('impression_time').dt.date())\n",
    "        ).alias('normalized_trendiness_score_overall'),\n",
    "    ).join(articles.select(['article_id', 'premium', 'published_time', 'category',\n",
    "                            'sentiment_score', 'sentiment_label', 'entity_groups',\n",
    "                            'num_images', 'title_len', 'subtitle_len', 'body_len','num_topics',\n",
    "                            'total_pageviews', 'total_inviews', 'total_read_time', \n",
    "                            'total_pageviews/inviews', 'article_type']),\n",
    "           left_on='article', right_on='article_id', how='left') \\\n",
    "    .with_columns(\n",
    "        (pl.col('impression_time') - pl.col('published_time')).dt.total_days().alias('article_delay_days'),\n",
    "        (pl.col('impression_time') - pl.col('published_time')).dt.total_hours().alias('article_delay_hours'),\n",
    "    ).with_columns(\n",
    "        pl.col('entity_groups').list.contains(entity).alias(f'Entity_{entity}_Present')\n",
    "        for entity in unique_entities\n",
    "    ).drop('entity_groups') \\\n",
    "    .join(behaviors_ner_scores, on=['impression_id', 'article'], how='left') \\\n",
    "    .pipe(add_history_trendiness_scores_feature, articles=articles, \n",
    "          users_mean_trendiness_scores=users_mean_trendiness_scores,\n",
    "          topics_mean_trendiness_scores=topics_mean_trendiness_scores, topics=topics) \\\n",
    "    .pipe(add_mean_delays_features, articles=articles,\n",
    "          topic_mean_delays=topic_mean_delays, user_mean_delays=user_mean_delays) \\\n",
    "    .pipe(add_window_features, articles=articles, user_windows=user_windows,\n",
    "          user_category_windows=user_category_windows, \n",
    "          user_topics_windows=user_topics_windows, windows=windows) \\\n",
    "    .pipe(add_trendiness_feature_categories, articles=articles) \\\n",
    "    .pipe(add_article_endorsement_feature, normalized_endorsement=normalized_endorsement) \\\n",
    "    .pipe(add_article_endorsement_feature_by_article_and_user, normalized_endorsement = normalized_endorsement_articleuser) \\\n",
    "    .pipe(add_article_endorsement_feature_leak, normalized_endorsement = normalized_endorsement) \\\n",
    "    .rename({\n",
    "        \"endorsement_10h_diff_rolling_right\":\"endorsement_10h_leak_diff_rolling\",\n",
    "        \"endorsement_macd_right\":\"endorsement_leak_macd\",\n",
    "        \"endorsement_quantile_norm_10h_right\":\"endorsement_quantile_norm_10h_leak\",\n",
    "        \"normalized_endorsement_10h_rolling_max_ratio_right\":\"normalized_endorsement_10h_leak_rolling_max_ratio\"\n",
    "    }).join(history_counts, on='article',how='left') \\\n",
    "    .join(behaviors_counts , on='article', how='left')\n",
    "\n",
    "gc.collect()\n",
    "PrintColor(f\"\\n\" + GetMemUsage(), color = Fore.RED)\n",
    "\n",
    "train_ds = reduce_polars_df_memory_size(train_ds)\n",
    "PrintColor(f\"\\n\" + GetMemUsage(), color = Fore.RED)\n",
    "train_ds.head()"
   ]
  },
  {
   "cell_type": "code",
   "execution_count": 34,
   "id": "d87ad4dc",
   "metadata": {
    "execution": {
     "iopub.execute_input": "2024-05-19T10:32:33.968045Z",
     "iopub.status.busy": "2024-05-19T10:32:33.967556Z",
     "iopub.status.idle": "2024-05-19T10:32:33.975579Z",
     "shell.execute_reply": "2024-05-19T10:32:33.974408Z"
    },
    "papermill": {
     "duration": 0.070355,
     "end_time": "2024-05-19T10:32:33.978256",
     "exception": false,
     "start_time": "2024-05-19T10:32:33.907901",
     "status": "completed"
    },
    "tags": []
   },
   "outputs": [
    {
     "data": {
      "text/plain": [
       "(2585747, 89)"
      ]
     },
     "execution_count": 34,
     "metadata": {},
     "output_type": "execute_result"
    }
   ],
   "source": [
    "train_ds.shape"
   ]
  },
  {
   "cell_type": "markdown",
   "id": "44c8da5d",
   "metadata": {
    "papermill": {
     "duration": 0.060377,
     "end_time": "2024-05-19T10:32:34.097735",
     "exception": false,
     "start_time": "2024-05-19T10:32:34.037358",
     "status": "completed"
    },
    "tags": []
   },
   "source": [
    "## Session Features"
   ]
  },
  {
   "cell_type": "code",
   "execution_count": 35,
   "id": "20b8e56f",
   "metadata": {
    "execution": {
     "iopub.execute_input": "2024-05-19T10:32:34.217624Z",
     "iopub.status.busy": "2024-05-19T10:32:34.217177Z",
     "iopub.status.idle": "2024-05-19T10:32:34.223456Z",
     "shell.execute_reply": "2024-05-19T10:32:34.222105Z"
    },
    "papermill": {
     "duration": 0.070064,
     "end_time": "2024-05-19T10:32:34.226295",
     "exception": false,
     "start_time": "2024-05-19T10:32:34.156231",
     "status": "completed"
    },
    "tags": []
   },
   "outputs": [],
   "source": [
    "# behaviors_train.select(['session_id', 'impression_time', 'article_ids_clicked']) \\\n",
    "#     .group_by('session_id').map_groups(\n",
    "#         lambda group: group.explode('article_ids_clicked').sort('impression_time') \\\n",
    "#             .select(\n",
    "#                 pl.col('session_id').first(),\n",
    "#                 pl.col('article_ids_clicked').first().alias('article_id'),\n",
    "#                 (pl.col('impression_time').last() - pl.col('impression_time').first()).dt.total_minutes().alias('induced_session_len'),\n",
    "#                 (pl.col('impression_time').count() - 1).alias('num_clicked_articles_following')\n",
    "#             )\n",
    "#     ).group_by('article_id').agg(\n",
    "#         pl.col('num_clicked_articles_following').mean().alias('mean_num_clicked_articles_following'),\n",
    "#         pl.col('induced_session_len').mean().alias('mean_induced_session_len'),\n",
    "#     )"
   ]
  },
  {
   "cell_type": "code",
   "execution_count": 36,
   "id": "03315354",
   "metadata": {
    "execution": {
     "iopub.execute_input": "2024-05-19T10:32:34.347826Z",
     "iopub.status.busy": "2024-05-19T10:32:34.347416Z",
     "iopub.status.idle": "2024-05-19T10:32:35.994138Z",
     "shell.execute_reply": "2024-05-19T10:32:35.992883Z"
    },
    "papermill": {
     "duration": 1.712514,
     "end_time": "2024-05-19T10:32:35.999672",
     "exception": false,
     "start_time": "2024-05-19T10:32:34.287158",
     "status": "completed"
    },
    "tags": []
   },
   "outputs": [
    {
     "name": "stdout",
     "output_type": "stream",
     "text": [
      "\u001b[1m\u001b[31m\n",
      "RAM memory GB usage = 2.696\u001b[0m\n",
      "CPU times: user 1.97 s, sys: 185 ms, total: 2.16 s\n",
      "Wall time: 1.62 s\n"
     ]
    },
    {
     "data": {
      "text/html": [
       "<div><style>\n",
       ".dataframe > thead > tr,\n",
       ".dataframe > tbody > tr {\n",
       "  text-align: right;\n",
       "  white-space: pre-wrap;\n",
       "}\n",
       "</style>\n",
       "<small>shape: (2, 5)</small><table border=\"1\" class=\"dataframe\"><thead><tr><th>session_id</th><th>last_session_time</th><th>last_session_duration</th><th>all_seen_articles</th><th>mean_prev_sessions_duration</th></tr><tr><td>u32</td><td>datetime[μs]</td><td>i64</td><td>list[i32]</td><td>f64</td></tr></thead><tbody><tr><td>738448</td><td>2023-05-18 05:37:56</td><td>0</td><td>[9769981]</td><td>0.0</td></tr><tr><td>446945</td><td>2023-05-17 22:10:02</td><td>0</td><td>[9769366]</td><td>0.0</td></tr></tbody></table></div>"
      ],
      "text/plain": [
       "shape: (2, 5)\n",
       "┌────────────┬─────────────────────┬─────────────────────┬───────────────────┬─────────────────────┐\n",
       "│ session_id ┆ last_session_time   ┆ last_session_durati ┆ all_seen_articles ┆ mean_prev_sessions_ │\n",
       "│ ---        ┆ ---                 ┆ on                  ┆ ---               ┆ duration            │\n",
       "│ u32        ┆ datetime[μs]        ┆ ---                 ┆ list[i32]         ┆ ---                 │\n",
       "│            ┆                     ┆ i64                 ┆                   ┆ f64                 │\n",
       "╞════════════╪═════════════════════╪═════════════════════╪═══════════════════╪═════════════════════╡\n",
       "│ 738448     ┆ 2023-05-18 05:37:56 ┆ 0                   ┆ [9769981]         ┆ 0.0                 │\n",
       "│ 446945     ┆ 2023-05-17 22:10:02 ┆ 0                   ┆ [9769366]         ┆ 0.0                 │\n",
       "└────────────┴─────────────────────┴─────────────────────┴───────────────────┴─────────────────────┘"
      ]
     },
     "execution_count": 36,
     "metadata": {},
     "output_type": "execute_result"
    }
   ],
   "source": [
    "%%time\n",
    "\n",
    "last_history_df = history_train.with_columns(\n",
    "    pl.col('impression_time_fixed').list.max().alias('last_history_impression_time'),\n",
    "    pl.col('article_id_fixed').list.tail(1).alias('last_history_article'),\n",
    ").select(['user_id', 'last_history_impression_time', 'last_history_article'])\n",
    "\n",
    "last_session_time_df = behaviors_train.select(['session_id', 'user_id', 'impression_time', 'article_ids_inview']) \\\n",
    "    .group_by('session_id').agg(\n",
    "        pl.col('user_id').first(), \n",
    "        pl.col('impression_time').max().alias('session_time'), \n",
    "        pl.col('article_ids_inview').flatten().alias('all_seen_articles'),\n",
    "        (pl.col('impression_time').max() - pl.col('impression_time').min()).dt.total_minutes().alias('session_duration'),\n",
    "    ).with_columns(\n",
    "        pl.col(['session_time', 'session_duration']).shift(1).over('user_id').name.prefix('last_'),\n",
    "        pl.col('all_seen_articles').list.unique().shift(1).over('user_id'),\n",
    "        pl.col('session_duration').rolling_mean(100, min_periods=1).over('user_id').alias('mean_prev_sessions_duration'),\n",
    "    ).with_columns(pl.col(['last_session_duration']).fill_null(0)) \\\n",
    "    .join(last_history_df, on='user_id', how='left') \\\n",
    "    .with_columns(\n",
    "        pl.col('last_session_time').fill_null(pl.col('last_history_impression_time')),\n",
    "        pl.col('all_seen_articles').fill_null(pl.col('last_history_article')),\n",
    "    ).select(['session_id', 'last_session_time', 'last_session_duration', \n",
    "              'all_seen_articles', 'mean_prev_sessions_duration'])\n",
    "    \n",
    "gc.collect()\n",
    "PrintColor(f\"\\n\" + GetMemUsage(), color = Fore.RED)\n",
    "last_session_time_df.head(2)"
   ]
  },
  {
   "cell_type": "code",
   "execution_count": 37,
   "id": "da9901cb",
   "metadata": {
    "execution": {
     "iopub.execute_input": "2024-05-19T10:32:36.126117Z",
     "iopub.status.busy": "2024-05-19T10:32:36.125629Z",
     "iopub.status.idle": "2024-05-19T10:32:40.162464Z",
     "shell.execute_reply": "2024-05-19T10:32:40.161255Z"
    },
    "papermill": {
     "duration": 4.103898,
     "end_time": "2024-05-19T10:32:40.165302",
     "exception": false,
     "start_time": "2024-05-19T10:32:36.061404",
     "status": "completed"
    },
    "tags": []
   },
   "outputs": [
    {
     "name": "stdout",
     "output_type": "stream",
     "text": [
      "\u001b[1m\u001b[31m\n",
      "RAM memory GB usage = 3.068\u001b[0m\n"
     ]
    },
    {
     "data": {
      "text/html": [
       "<div><style>\n",
       ".dataframe > thead > tr,\n",
       ".dataframe > tbody > tr {\n",
       "  text-align: right;\n",
       "  white-space: pre-wrap;\n",
       "}\n",
       "</style>\n",
       "<small>shape: (2, 92)</small><table border=\"1\" class=\"dataframe\"><thead><tr><th>impression_id</th><th>article</th><th>user_id</th><th>impression_time</th><th>target</th><th>device_type</th><th>read_time</th><th>scroll_percentage</th><th>is_sso_user</th><th>gender</th><th>age</th><th>is_subscriber</th><th>postcode</th><th>trendiness_score_1d</th><th>trendiness_score_3d</th><th>trendiness_score_5d</th><th>trendiness_score_3d_leak</th><th>weekday</th><th>hour</th><th>trendiness_score_1d/3d</th><th>trendiness_score_1d/5d</th><th>normalized_trendiness_score_overall</th><th>premium</th><th>category</th><th>sentiment_score</th><th>sentiment_label</th><th>num_images</th><th>title_len</th><th>subtitle_len</th><th>body_len</th><th>num_topics</th><th>total_pageviews</th><th>total_inviews</th><th>total_read_time</th><th>total_pageviews/inviews</th><th>article_type</th><th>article_delay_days</th><th>&hellip;</th><th>user_mean_delay_hours</th><th>window_0_history_length</th><th>window_1_history_length</th><th>window_2_history_length</th><th>window_3_history_length</th><th>is_inside_window_0</th><th>is_inside_window_1</th><th>is_inside_window_2</th><th>is_inside_window_3</th><th>window_category_score</th><th>window_topics_score</th><th>trendiness_score_category</th><th>endorsement_10h</th><th>normalized_endorsement_10h</th><th>endorsement_10h_diff_rolling</th><th>endorsement_macd</th><th>endorsement_quantile_norm_10h</th><th>normalized_endorsement_10h_rolling_max_ratio</th><th>endorsement_20h_articleuser</th><th>normalized_endorsement_articleuser_20h</th><th>endorsement_20h_articleuser_diff_rolling</th><th>endorsement_articleuser_macd</th><th>endorsement_articleuser_quantile_norm_20h</th><th>normalized_endorsement_articleuser_20h_rolling_max_ratio</th><th>endorsement_10h_leak</th><th>normalized_endorsement_10h_right</th><th>endorsement_10h_leak_diff_rolling</th><th>endorsement_leak_macd</th><th>endorsement_quantile_norm_10h_leak</th><th>normalized_endorsement_10h_leak_rolling_max_ratio</th><th>clicked_count</th><th>inview_count</th><th>last_session_duration</th><th>mean_prev_sessions_duration</th><th>last_session_time_hour_diff</th><th>is_new_article</th><th>is_already_seen_article</th></tr><tr><td>u32</td><td>i32</td><td>u32</td><td>datetime[μs]</td><td>i8</td><td>i8</td><td>f32</td><td>f32</td><td>bool</td><td>i8</td><td>i8</td><td>bool</td><td>i8</td><td>i16</td><td>i16</td><td>i16</td><td>i16</td><td>i8</td><td>i8</td><td>f32</td><td>f32</td><td>f32</td><td>bool</td><td>i16</td><td>f32</td><td>str</td><td>u32</td><td>u8</td><td>u8</td><td>u16</td><td>u32</td><td>i32</td><td>i32</td><td>f32</td><td>f32</td><td>str</td><td>i16</td><td>&hellip;</td><td>f32</td><td>i16</td><td>i16</td><td>i16</td><td>i16</td><td>i8</td><td>i8</td><td>i8</td><td>i8</td><td>i16</td><td>i16</td><td>i8</td><td>u16</td><td>f32</td><td>f32</td><td>f32</td><td>f32</td><td>f32</td><td>u8</td><td>f32</td><td>f32</td><td>f32</td><td>f32</td><td>f32</td><td>i16</td><td>f32</td><td>f32</td><td>f32</td><td>f32</td><td>f32</td><td>u32</td><td>u16</td><td>i64</td><td>f64</td><td>i64</td><td>bool</td><td>bool</td></tr></thead><tbody><tr><td>378976031</td><td>9770541</td><td>1154811</td><td>2023-05-18 07:00:07</td><td>0</td><td>2</td><td>51.0</td><td>100.0</td><td>true</td><td>2</td><td>null</td><td>false</td><td>5</td><td>17</td><td>39</td><td>137</td><td>33</td><td>4</td><td>7</td><td>0.435897</td><td>0.124088</td><td>0.075728</td><td>false</td><td>414</td><td>0.878</td><td>&quot;Neutral&quot;</td><td>8</td><td>10</td><td>24</td><td>318</td><td>5</td><td>138320</td><td>597827</td><td>8.683972e6</td><td>0.231371</td><td>&quot;article_default&quot;</td><td>0</td><td>&hellip;</td><td>726.009766</td><td>158</td><td>70</td><td>78</td><td>70</td><td>1</td><td>0</td><td>0</td><td>0</td><td>18</td><td>12</td><td>49</td><td>10</td><td>0.02994</td><td>0.0</td><td>0.0</td><td>1.428571</td><td>0.555556</td><td>1</td><td>0.090909</td><td>0.0</td><td>0.0</td><td>1.0</td><td>1.0</td><td>1826</td><td>0.023693</td><td>5.1</td><td>2.9</td><td>0.997814</td><td>0.352306</td><td>1655</td><td>2215</td><td>0</td><td>0.230769</td><td>-102</td><td>true</td><td>false</td></tr><tr><td>271334979</td><td>9770541</td><td>268275</td><td>2023-05-18 07:00:29</td><td>0</td><td>1</td><td>31.0</td><td>100.0</td><td>false</td><td>2</td><td>null</td><td>false</td><td>5</td><td>17</td><td>39</td><td>137</td><td>33</td><td>4</td><td>7</td><td>0.435897</td><td>0.124088</td><td>0.075728</td><td>false</td><td>414</td><td>0.878</td><td>&quot;Neutral&quot;</td><td>8</td><td>10</td><td>24</td><td>318</td><td>5</td><td>138320</td><td>597827</td><td>8.683972e6</td><td>0.231371</td><td>&quot;article_default&quot;</td><td>0</td><td>&hellip;</td><td>76.52459</td><td>90</td><td>33</td><td>5</td><td>62</td><td>1</td><td>0</td><td>0</td><td>0</td><td>4</td><td>0</td><td>49</td><td>10</td><td>0.02994</td><td>0.0</td><td>0.0</td><td>1.428571</td><td>0.555556</td><td>1</td><td>0.047619</td><td>0.0</td><td>0.0</td><td>1.0</td><td>1.0</td><td>1826</td><td>0.023693</td><td>5.1</td><td>2.9</td><td>0.997814</td><td>0.352306</td><td>1655</td><td>2215</td><td>0</td><td>1.0</td><td>-129</td><td>true</td><td>false</td></tr></tbody></table></div>"
      ],
      "text/plain": [
       "shape: (2, 92)\n",
       "┌────────────┬─────────┬─────────┬────────────┬───┬────────────┬───────────┬───────────┬───────────┐\n",
       "│ impression ┆ article ┆ user_id ┆ impression ┆ … ┆ mean_prev_ ┆ last_sess ┆ is_new_ar ┆ is_alread │\n",
       "│ _id        ┆ ---     ┆ ---     ┆ _time      ┆   ┆ sessions_d ┆ ion_time_ ┆ ticle     ┆ y_seen_ar │\n",
       "│ ---        ┆ i32     ┆ u32     ┆ ---        ┆   ┆ uration    ┆ hour_diff ┆ ---       ┆ ticle     │\n",
       "│ u32        ┆         ┆         ┆ datetime[μ ┆   ┆ ---        ┆ ---       ┆ bool      ┆ ---       │\n",
       "│            ┆         ┆         ┆ s]         ┆   ┆ f64        ┆ i64       ┆           ┆ bool      │\n",
       "╞════════════╪═════════╪═════════╪════════════╪═══╪════════════╪═══════════╪═══════════╪═══════════╡\n",
       "│ 378976031  ┆ 9770541 ┆ 1154811 ┆ 2023-05-18 ┆ … ┆ 0.230769   ┆ -102      ┆ true      ┆ false     │\n",
       "│            ┆         ┆         ┆ 07:00:07   ┆   ┆            ┆           ┆           ┆           │\n",
       "│ 271334979  ┆ 9770541 ┆ 268275  ┆ 2023-05-18 ┆ … ┆ 1.0        ┆ -129      ┆ true      ┆ false     │\n",
       "│            ┆         ┆         ┆ 07:00:29   ┆   ┆            ┆           ┆           ┆           │\n",
       "└────────────┴─────────┴─────────┴────────────┴───┴────────────┴───────────┴───────────┴───────────┘"
      ]
     },
     "execution_count": 37,
     "metadata": {},
     "output_type": "execute_result"
    }
   ],
   "source": [
    "train_ds = train_ds.join(last_session_time_df, on='session_id', how='left').with_columns(\n",
    "    (pl.col('impression_time') - pl.col('last_session_time')).dt.total_hours().alias('last_session_time_hour_diff'),\n",
    "    ((pl.col('last_session_time') - pl.col('published_time')).dt.total_hours() > 0).alias('is_new_article'),\n",
    "    pl.col('all_seen_articles').list.contains(pl.col('article')).alias('is_already_seen_article'),\n",
    ").drop(['published_time', 'session_id', 'all_seen_articles', 'last_session_time'])\n",
    "\n",
    "gc.collect()\n",
    "PrintColor(f\"\\n\" + GetMemUsage(), color = Fore.RED)\n",
    "train_ds.head(2)"
   ]
  },
  {
   "cell_type": "code",
   "execution_count": 38,
   "id": "0cd6f718",
   "metadata": {
    "execution": {
     "iopub.execute_input": "2024-05-19T10:32:40.308565Z",
     "iopub.status.busy": "2024-05-19T10:32:40.308086Z",
     "iopub.status.idle": "2024-05-19T10:32:40.317825Z",
     "shell.execute_reply": "2024-05-19T10:32:40.316761Z"
    },
    "papermill": {
     "duration": 0.084412,
     "end_time": "2024-05-19T10:32:40.320248",
     "exception": false,
     "start_time": "2024-05-19T10:32:40.235836",
     "status": "completed"
    },
    "tags": []
   },
   "outputs": [
    {
     "data": {
      "text/html": [
       "<div><style>\n",
       ".dataframe > thead > tr,\n",
       ".dataframe > tbody > tr {\n",
       "  text-align: right;\n",
       "  white-space: pre-wrap;\n",
       "}\n",
       "</style>\n",
       "<small>shape: (1, 2)</small><table border=\"1\" class=\"dataframe\"><thead><tr><th>is_new_article</th><th>is_already_seen_article</th></tr><tr><td>f64</td><td>f64</td></tr></thead><tbody><tr><td>0.559181</td><td>0.023741</td></tr></tbody></table></div>"
      ],
      "text/plain": [
       "shape: (1, 2)\n",
       "┌────────────────┬─────────────────────────┐\n",
       "│ is_new_article ┆ is_already_seen_article │\n",
       "│ ---            ┆ ---                     │\n",
       "│ f64            ┆ f64                     │\n",
       "╞════════════════╪═════════════════════════╡\n",
       "│ 0.559181       ┆ 0.023741                │\n",
       "└────────────────┴─────────────────────────┘"
      ]
     },
     "execution_count": 38,
     "metadata": {},
     "output_type": "execute_result"
    }
   ],
   "source": [
    "train_ds.select(pl.col('is_new_article').sum() / train_ds.shape[0], pl.col('is_already_seen_article').sum() / train_ds.shape[0])"
   ]
  },
  {
   "cell_type": "code",
   "execution_count": 39,
   "id": "e59c145a",
   "metadata": {
    "execution": {
     "iopub.execute_input": "2024-05-19T10:32:40.464642Z",
     "iopub.status.busy": "2024-05-19T10:32:40.464169Z",
     "iopub.status.idle": "2024-05-19T10:32:40.804306Z",
     "shell.execute_reply": "2024-05-19T10:32:40.802931Z"
    },
    "papermill": {
     "duration": 0.413607,
     "end_time": "2024-05-19T10:32:40.806805",
     "exception": false,
     "start_time": "2024-05-19T10:32:40.393198",
     "status": "completed"
    },
    "tags": []
   },
   "outputs": [
    {
     "data": {
      "text/plain": [
       "0"
      ]
     },
     "execution_count": 39,
     "metadata": {},
     "output_type": "execute_result"
    }
   ],
   "source": [
    "del last_history_df\n",
    "del last_session_time_df\n",
    "gc.collect()"
   ]
  },
  {
   "cell_type": "markdown",
   "id": "cc4f9597",
   "metadata": {
    "papermill": {
     "duration": 0.059781,
     "end_time": "2024-05-19T10:32:40.927201",
     "exception": false,
     "start_time": "2024-05-19T10:32:40.867420",
     "status": "completed"
    },
    "tags": []
   },
   "source": [
    "## Popularities"
   ]
  },
  {
   "cell_type": "code",
   "execution_count": 40,
   "id": "879bfa1d",
   "metadata": {
    "execution": {
     "iopub.execute_input": "2024-05-19T10:32:41.049810Z",
     "iopub.status.busy": "2024-05-19T10:32:41.049333Z",
     "iopub.status.idle": "2024-05-19T10:32:44.688578Z",
     "shell.execute_reply": "2024-05-19T10:32:44.687299Z"
    },
    "papermill": {
     "duration": 3.703314,
     "end_time": "2024-05-19T10:32:44.691076",
     "exception": false,
     "start_time": "2024-05-19T10:32:40.987762",
     "status": "completed"
    },
    "tags": []
   },
   "outputs": [
    {
     "name": "stdout",
     "output_type": "stream",
     "text": [
      "Memory usage of dataframe is 701.62 MB\n",
      "Memory usage after optimization is: 649.53 MB\n",
      "Decreased by 7.4%\n",
      "\u001b[1m\u001b[31m\n",
      "RAM memory GB usage = 2.825\u001b[0m\n",
      "CPU times: user 2.47 s, sys: 1.6 s, total: 4.07 s\n",
      "Wall time: 3.62 s\n"
     ]
    },
    {
     "data": {
      "text/html": [
       "<div><style>\n",
       ".dataframe > thead > tr,\n",
       ".dataframe > tbody > tr {\n",
       "  text-align: right;\n",
       "  white-space: pre-wrap;\n",
       "}\n",
       "</style>\n",
       "<small>shape: (2, 93)</small><table border=\"1\" class=\"dataframe\"><thead><tr><th>impression_id</th><th>article</th><th>user_id</th><th>impression_time</th><th>target</th><th>device_type</th><th>read_time</th><th>scroll_percentage</th><th>is_sso_user</th><th>gender</th><th>age</th><th>is_subscriber</th><th>postcode</th><th>trendiness_score_1d</th><th>trendiness_score_3d</th><th>trendiness_score_5d</th><th>trendiness_score_3d_leak</th><th>weekday</th><th>hour</th><th>trendiness_score_1d/3d</th><th>trendiness_score_1d/5d</th><th>normalized_trendiness_score_overall</th><th>premium</th><th>category</th><th>sentiment_score</th><th>sentiment_label</th><th>num_images</th><th>title_len</th><th>subtitle_len</th><th>body_len</th><th>num_topics</th><th>total_pageviews</th><th>total_inviews</th><th>total_read_time</th><th>total_pageviews/inviews</th><th>article_type</th><th>article_delay_days</th><th>&hellip;</th><th>window_0_history_length</th><th>window_1_history_length</th><th>window_2_history_length</th><th>window_3_history_length</th><th>is_inside_window_0</th><th>is_inside_window_1</th><th>is_inside_window_2</th><th>is_inside_window_3</th><th>window_category_score</th><th>window_topics_score</th><th>trendiness_score_category</th><th>endorsement_10h</th><th>normalized_endorsement_10h</th><th>endorsement_10h_diff_rolling</th><th>endorsement_macd</th><th>endorsement_quantile_norm_10h</th><th>normalized_endorsement_10h_rolling_max_ratio</th><th>endorsement_20h_articleuser</th><th>normalized_endorsement_articleuser_20h</th><th>endorsement_20h_articleuser_diff_rolling</th><th>endorsement_articleuser_macd</th><th>endorsement_articleuser_quantile_norm_20h</th><th>normalized_endorsement_articleuser_20h_rolling_max_ratio</th><th>endorsement_10h_leak</th><th>normalized_endorsement_10h_right</th><th>endorsement_10h_leak_diff_rolling</th><th>endorsement_leak_macd</th><th>endorsement_quantile_norm_10h_leak</th><th>normalized_endorsement_10h_leak_rolling_max_ratio</th><th>clicked_count</th><th>inview_count</th><th>last_session_duration</th><th>mean_prev_sessions_duration</th><th>last_session_time_hour_diff</th><th>is_new_article</th><th>is_already_seen_article</th><th>yesterday_category_daily_pct</th></tr><tr><td>u32</td><td>i32</td><td>u32</td><td>date</td><td>i8</td><td>i8</td><td>f32</td><td>f32</td><td>bool</td><td>i8</td><td>i8</td><td>bool</td><td>i8</td><td>i16</td><td>i16</td><td>i16</td><td>i16</td><td>i8</td><td>i8</td><td>f32</td><td>f32</td><td>f32</td><td>bool</td><td>i16</td><td>f32</td><td>str</td><td>u32</td><td>u8</td><td>u8</td><td>u16</td><td>u32</td><td>i32</td><td>i32</td><td>f32</td><td>f32</td><td>str</td><td>i16</td><td>&hellip;</td><td>i16</td><td>i16</td><td>i16</td><td>i16</td><td>i8</td><td>i8</td><td>i8</td><td>i8</td><td>i16</td><td>i16</td><td>i8</td><td>u16</td><td>f32</td><td>f32</td><td>f32</td><td>f32</td><td>f32</td><td>u8</td><td>f32</td><td>f32</td><td>f32</td><td>f32</td><td>f32</td><td>i16</td><td>f32</td><td>f32</td><td>f32</td><td>f32</td><td>f32</td><td>u32</td><td>u16</td><td>i8</td><td>f32</td><td>i16</td><td>bool</td><td>bool</td><td>f32</td></tr></thead><tbody><tr><td>378976031</td><td>9770541</td><td>1154811</td><td>2023-05-17</td><td>0</td><td>2</td><td>51.0</td><td>100.0</td><td>true</td><td>2</td><td>null</td><td>false</td><td>5</td><td>17</td><td>39</td><td>137</td><td>33</td><td>4</td><td>7</td><td>0.435897</td><td>0.124088</td><td>0.075728</td><td>false</td><td>414</td><td>0.878</td><td>&quot;Neutral&quot;</td><td>8</td><td>10</td><td>24</td><td>318</td><td>5</td><td>138320</td><td>597827</td><td>8.683972e6</td><td>0.231371</td><td>&quot;article_default&quot;</td><td>0</td><td>&hellip;</td><td>158</td><td>70</td><td>78</td><td>70</td><td>1</td><td>0</td><td>0</td><td>0</td><td>18</td><td>12</td><td>49</td><td>10</td><td>0.02994</td><td>0.0</td><td>0.0</td><td>1.428571</td><td>0.555556</td><td>1</td><td>0.090909</td><td>0.0</td><td>0.0</td><td>1.0</td><td>1.0</td><td>1826</td><td>0.023693</td><td>5.1</td><td>2.9</td><td>0.997814</td><td>0.352306</td><td>1655</td><td>2215</td><td>0</td><td>0.230769</td><td>-102</td><td>true</td><td>false</td><td>0.134921</td></tr><tr><td>271334979</td><td>9770541</td><td>268275</td><td>2023-05-17</td><td>0</td><td>1</td><td>31.0</td><td>100.0</td><td>false</td><td>2</td><td>null</td><td>false</td><td>5</td><td>17</td><td>39</td><td>137</td><td>33</td><td>4</td><td>7</td><td>0.435897</td><td>0.124088</td><td>0.075728</td><td>false</td><td>414</td><td>0.878</td><td>&quot;Neutral&quot;</td><td>8</td><td>10</td><td>24</td><td>318</td><td>5</td><td>138320</td><td>597827</td><td>8.683972e6</td><td>0.231371</td><td>&quot;article_default&quot;</td><td>0</td><td>&hellip;</td><td>90</td><td>33</td><td>5</td><td>62</td><td>1</td><td>0</td><td>0</td><td>0</td><td>4</td><td>0</td><td>49</td><td>10</td><td>0.02994</td><td>0.0</td><td>0.0</td><td>1.428571</td><td>0.555556</td><td>1</td><td>0.047619</td><td>0.0</td><td>0.0</td><td>1.0</td><td>1.0</td><td>1826</td><td>0.023693</td><td>5.1</td><td>2.9</td><td>0.997814</td><td>0.352306</td><td>1655</td><td>2215</td><td>0</td><td>1.0</td><td>-129</td><td>true</td><td>false</td><td>0.134921</td></tr></tbody></table></div>"
      ],
      "text/plain": [
       "shape: (2, 93)\n",
       "┌────────────┬─────────┬─────────┬────────────┬───┬────────────┬───────────┬───────────┬───────────┐\n",
       "│ impression ┆ article ┆ user_id ┆ impression ┆ … ┆ last_sessi ┆ is_new_ar ┆ is_alread ┆ yesterday │\n",
       "│ _id        ┆ ---     ┆ ---     ┆ _time      ┆   ┆ on_time_ho ┆ ticle     ┆ y_seen_ar ┆ _category │\n",
       "│ ---        ┆ i32     ┆ u32     ┆ ---        ┆   ┆ ur_diff    ┆ ---       ┆ ticle     ┆ _daily_pc │\n",
       "│ u32        ┆         ┆         ┆ date       ┆   ┆ ---        ┆ bool      ┆ ---       ┆ t         │\n",
       "│            ┆         ┆         ┆            ┆   ┆ i16        ┆           ┆ bool      ┆ ---       │\n",
       "│            ┆         ┆         ┆            ┆   ┆            ┆           ┆           ┆ f32       │\n",
       "╞════════════╪═════════╪═════════╪════════════╪═══╪════════════╪═══════════╪═══════════╪═══════════╡\n",
       "│ 378976031  ┆ 9770541 ┆ 1154811 ┆ 2023-05-17 ┆ … ┆ -102       ┆ true      ┆ false     ┆ 0.134921  │\n",
       "│ 271334979  ┆ 9770541 ┆ 268275  ┆ 2023-05-17 ┆ … ┆ -129       ┆ true      ┆ false     ┆ 0.134921  │\n",
       "└────────────┴─────────┴─────────┴────────────┴───┴────────────┴───────────┴───────────┴───────────┘"
      ]
     },
     "execution_count": 40,
     "metadata": {},
     "output_type": "execute_result"
    }
   ],
   "source": [
    "%%time\n",
    "\n",
    "articles_date_popularity = articles.select(['published_time', 'article_id']) \\\n",
    "    .group_by(pl.col('published_time').dt.date().alias('published_date')) \\\n",
    "    .agg(pl.col('article_id').count().alias('daily_articles')) \\\n",
    "\n",
    "published_category_popularity = articles.select(['published_time', 'article_id', 'category']) \\\n",
    "    .group_by([pl.col('published_time').dt.date().alias('published_date'), 'category']) \\\n",
    "    .agg(pl.col('article_id').count().alias('category_daily_articles')) \\\n",
    "    .join(articles_date_popularity, on='published_date', how='left') \\\n",
    "    .with_columns((pl.col('category_daily_articles') / pl.col('daily_articles')).alias('category_daily_pct')) \\\n",
    "    .drop(['category_daily_articles', 'daily_articles'])\n",
    "\n",
    "train_ds = train_ds.join(published_category_popularity, how='left', right_on=['published_date', 'category'],\n",
    "                         left_on=[pl.col('impression_time').dt.date() - pl.duration(days=1), 'category']) \\\n",
    "    .rename({'category_daily_pct': 'yesterday_category_daily_pct'}) \\\n",
    "    .with_columns(pl.col('yesterday_category_daily_pct').fill_null(0))\n",
    "train_ds = reduce_polars_df_memory_size(train_ds)\n",
    "\n",
    "gc.collect()\n",
    "PrintColor(f\"\\n\" + GetMemUsage(), color = Fore.RED)\n",
    "train_ds.head(2)"
   ]
  },
  {
   "cell_type": "markdown",
   "id": "e15f832c",
   "metadata": {
    "papermill": {
     "duration": 0.060595,
     "end_time": "2024-05-19T10:32:44.812082",
     "exception": false,
     "start_time": "2024-05-19T10:32:44.751487",
     "status": "completed"
    },
    "tags": []
   },
   "source": [
    "# Adding history features"
   ]
  },
  {
   "cell_type": "code",
   "execution_count": 41,
   "id": "d3ea6c60",
   "metadata": {
    "execution": {
     "iopub.execute_input": "2024-05-19T10:32:44.934417Z",
     "iopub.status.busy": "2024-05-19T10:32:44.933979Z",
     "iopub.status.idle": "2024-05-19T11:10:59.499909Z",
     "shell.execute_reply": "2024-05-19T11:10:59.498417Z"
    },
    "papermill": {
     "duration": 2294.631816,
     "end_time": "2024-05-19T11:10:59.503498",
     "exception": false,
     "start_time": "2024-05-19T10:32:44.871682",
     "status": "completed"
    },
    "scrolled": true,
    "tags": []
   },
   "outputs": [
    {
     "name": "stderr",
     "output_type": "stream",
     "text": [
      "259it [38:09,  8.84s/it]\n"
     ]
    },
    {
     "name": "stdout",
     "output_type": "stream",
     "text": [
      "Memory usage of dataframe is 1700.14 MB\n",
      "Memory usage after optimization is: 1317.92 MB\n",
      "Decreased by 22.5%\n",
      "\u001b[1m\u001b[31m\n",
      "RAM memory GB usage = 5.014\u001b[0m\n"
     ]
    },
    {
     "data": {
      "text/html": [
       "<div><style>\n",
       ".dataframe > thead > tr,\n",
       ".dataframe > tbody > tr {\n",
       "  text-align: right;\n",
       "  white-space: pre-wrap;\n",
       "}\n",
       "</style>\n",
       "<small>shape: (2, 165)</small><table border=\"1\" class=\"dataframe\"><thead><tr><th>impression_id</th><th>article</th><th>user_id</th><th>target</th><th>device_type</th><th>read_time</th><th>scroll_percentage</th><th>is_sso_user</th><th>gender</th><th>age</th><th>is_subscriber</th><th>postcode</th><th>trendiness_score_1d</th><th>trendiness_score_3d</th><th>trendiness_score_5d</th><th>trendiness_score_3d_leak</th><th>weekday</th><th>hour</th><th>trendiness_score_1d/3d</th><th>trendiness_score_1d/5d</th><th>normalized_trendiness_score_overall</th><th>premium</th><th>category</th><th>sentiment_score</th><th>sentiment_label</th><th>num_images</th><th>title_len</th><th>subtitle_len</th><th>body_len</th><th>num_topics</th><th>total_pageviews</th><th>total_inviews</th><th>total_read_time</th><th>total_pageviews/inviews</th><th>article_type</th><th>article_delay_days</th><th>article_delay_hours</th><th>&hellip;</th><th>MostFrequentWeekday</th><th>MostFrequentHour</th><th>PERPct</th><th>MISCPct</th><th>ORGPct</th><th>PRODPct</th><th>EVENTPct</th><th>LOCPct</th><th>topics_cosine</th><th>IsFavouriteCategory</th><th>NumberDifferentCategories</th><th>PctCategoryMatches</th><th>Category_side9_Pct</th><th>Category_bibliotek_Pct</th><th>Category_ferie_Pct</th><th>Category_krimi_Pct</th><th>Category_underholdning_Pct</th><th>Category_penge_Pct</th><th>Category_auto_Pct</th><th>Category_plus_Pct</th><th>Category_haandvaerkeren_Pct</th><th>Category_podcast_Pct</th><th>Category_musik_Pct</th><th>Category_dagsorden_Pct</th><th>Category_horoskoper_Pct</th><th>Category_forbrug_Pct</th><th>Category_vin_Pct</th><th>Category_opinionen_Pct</th><th>Category_sport_Pct</th><th>Category_incoming_Pct</th><th>Category_om_ekstra_bladet_Pct</th><th>Category_biler_Pct</th><th>Category_services_Pct</th><th>Category_nyheder_Pct</th><th>Category_nationen_Pct</th><th>Category_video_Pct</th><th>Category_sex_og_samliv_Pct</th></tr><tr><td>u32</td><td>i32</td><td>u32</td><td>i8</td><td>i8</td><td>f32</td><td>f32</td><td>bool</td><td>i8</td><td>i8</td><td>bool</td><td>i8</td><td>i16</td><td>i16</td><td>i16</td><td>i16</td><td>i8</td><td>i8</td><td>f32</td><td>f32</td><td>f32</td><td>bool</td><td>i16</td><td>f32</td><td>str</td><td>u32</td><td>u8</td><td>u8</td><td>u16</td><td>u32</td><td>i32</td><td>i32</td><td>f32</td><td>f32</td><td>str</td><td>i16</td><td>i32</td><td>&hellip;</td><td>i8</td><td>i8</td><td>f32</td><td>f32</td><td>f32</td><td>f32</td><td>f32</td><td>f32</td><td>f32</td><td>bool</td><td>u8</td><td>f32</td><td>f32</td><td>f32</td><td>f32</td><td>f32</td><td>f32</td><td>f32</td><td>f32</td><td>f32</td><td>f32</td><td>f32</td><td>f32</td><td>f32</td><td>f32</td><td>f32</td><td>f32</td><td>f32</td><td>f32</td><td>f32</td><td>f32</td><td>f32</td><td>f32</td><td>f32</td><td>f32</td><td>f32</td><td>f32</td></tr></thead><tbody><tr><td>281673852</td><td>9770541</td><td>2415098</td><td>1</td><td>2</td><td>17.0</td><td>null</td><td>false</td><td>2</td><td>null</td><td>false</td><td>5</td><td>17</td><td>39</td><td>137</td><td>33</td><td>4</td><td>7</td><td>0.435897</td><td>0.124088</td><td>0.075728</td><td>false</td><td>414</td><td>0.878</td><td>&quot;Neutral&quot;</td><td>8</td><td>10</td><td>24</td><td>318</td><td>5</td><td>138320</td><td>597827</td><td>8.683972e6</td><td>0.231371</td><td>&quot;article_default&quot;</td><td>0</td><td>2</td><td>&hellip;</td><td>3</td><td>16</td><td>1.0</td><td>0.4</td><td>1.0</td><td>0.1</td><td>0.4</td><td>0.8</td><td>0.0</td><td>false</td><td>3</td><td>0.8</td><td>0.0</td><td>0.0</td><td>0.0</td><td>0.0</td><td>0.1</td><td>0.0</td><td>0.0</td><td>0.0</td><td>0.0</td><td>0.0</td><td>0.0</td><td>0.0</td><td>0.0</td><td>0.0</td><td>0.0</td><td>0.0</td><td>0.7</td><td>0.0</td><td>0.0</td><td>0.0</td><td>0.0</td><td>0.2</td><td>0.0</td><td>0.0</td><td>0.0</td></tr><tr><td>435715699</td><td>9769367</td><td>1868420</td><td>0</td><td>1</td><td>14.0</td><td>null</td><td>false</td><td>2</td><td>null</td><td>false</td><td>5</td><td>104</td><td>310</td><td>604</td><td>338</td><td>4</td><td>7</td><td>0.335484</td><td>0.172185</td><td>0.601942</td><td>false</td><td>142</td><td>0.988</td><td>&quot;Negative&quot;</td><td>5</td><td>5</td><td>19</td><td>191</td><td>6</td><td>38690</td><td>290391</td><td>2.542921e6</td><td>0.133234</td><td>&quot;article_default&quot;</td><td>0</td><td>21</td><td>&hellip;</td><td>7</td><td>6</td><td>0.908654</td><td>0.3125</td><td>0.889423</td><td>0.3125</td><td>0.326923</td><td>0.822115</td><td>0.379348</td><td>false</td><td>9</td><td>0.961538</td><td>0.024038</td><td>0.0</td><td>0.0</td><td>0.057692</td><td>0.182692</td><td>0.028846</td><td>0.0</td><td>0.0</td><td>0.0</td><td>0.0</td><td>0.024038</td><td>0.0</td><td>0.0</td><td>0.014423</td><td>0.0</td><td>0.0</td><td>0.307692</td><td>0.0</td><td>0.0</td><td>0.0</td><td>0.0</td><td>0.341346</td><td>0.019231</td><td>0.0</td><td>0.0</td></tr></tbody></table></div>"
      ],
      "text/plain": [
       "shape: (2, 165)\n",
       "┌─────────────┬─────────┬─────────┬────────┬───┬────────────┬────────────┬────────────┬────────────┐\n",
       "│ impression_ ┆ article ┆ user_id ┆ target ┆ … ┆ Category_n ┆ Category_n ┆ Category_v ┆ Category_s │\n",
       "│ id          ┆ ---     ┆ ---     ┆ ---    ┆   ┆ yheder_Pct ┆ ationen_Pc ┆ ideo_Pct   ┆ ex_og_saml │\n",
       "│ ---         ┆ i32     ┆ u32     ┆ i8     ┆   ┆ ---        ┆ t          ┆ ---        ┆ iv_Pct     │\n",
       "│ u32         ┆         ┆         ┆        ┆   ┆ f32        ┆ ---        ┆ f32        ┆ ---        │\n",
       "│             ┆         ┆         ┆        ┆   ┆            ┆ f32        ┆            ┆ f32        │\n",
       "╞═════════════╪═════════╪═════════╪════════╪═══╪════════════╪════════════╪════════════╪════════════╡\n",
       "│ 281673852   ┆ 9770541 ┆ 2415098 ┆ 1      ┆ … ┆ 0.2        ┆ 0.0        ┆ 0.0        ┆ 0.0        │\n",
       "│ 435715699   ┆ 9769367 ┆ 1868420 ┆ 0      ┆ … ┆ 0.341346   ┆ 0.019231   ┆ 0.0        ┆ 0.0        │\n",
       "└─────────────┴─────────┴─────────┴────────┴───┴────────────┴────────────┴────────────┴────────────┘"
      ]
     },
     "execution_count": 41,
     "metadata": {},
     "output_type": "execute_result"
    }
   ],
   "source": [
    "def list_pct_matches_with_col(a, b) -> pl.Expr:\n",
    "    '''\n",
    "    Returns an expression to count the percentage of matching element in a list with another column.\n",
    "    The polars function count_matches cannot be used since it wants only a single element, \n",
    "    variable element from row to row.\n",
    "    '''\n",
    "    return pl.when(pl.col(a).list.len() == 0).then(0.0) \\\n",
    "        .otherwise((pl.col(a).list.len() - (pl.col(a).list.set_difference(pl.col(b))).list.len()) / pl.col(a).list.len())\n",
    "\n",
    "\n",
    "def list_pct_matches_with_constant(a, value) -> pl.Expr:\n",
    "    '''\n",
    "    Returns an expression to count the percentage of matching element in a list with a constant value.\n",
    "    The polars function count_matches cannot be used since it wants only a single element, \n",
    "    variable element from row to row.\n",
    "    '''\n",
    "    return pl.when(pl.col(a).list.len() == 0).then(0.0) \\\n",
    "        .otherwise(pl.col(a).list.count_matches(value) / pl.col(a).list.len())\n",
    "\n",
    "\n",
    "def cosine_similarity(x, y):\n",
    "    x = np.array(x)\n",
    "    y = np.array(y)\n",
    "    normalization = np.linalg.norm(x, 2) * np.linalg.norm(y, 2)\n",
    "    return np.dot(x, y) / normalization if normalization > 0 else 0\n",
    "\n",
    "\n",
    "prev_train_columns = [c for c in train_ds.columns if c not in ['impression_id', 'article', 'impression_time']]\n",
    "\n",
    "train_ds = pl.concat(\n",
    "    rows.join(history_train.select(['user_id', 'article_id_fixed', 'impression_time_fixed']), on='user_id', how='left') \\\n",
    "        .join(articles.select(['article_id', 'topics', 'entity_groups', 'topics_idf'] + topic_model_columns), \n",
    "              left_on='article', right_on='article_id', how='left') \\\n",
    "        .explode(['article_id_fixed', 'impression_time_fixed']) \\\n",
    "        .join(articles.select(['article_id', 'topics', 'entity_groups'] + topic_model_columns), \n",
    "              left_on='article_id_fixed', right_on='article_id', how='left') \\\n",
    "        .rename({'topics_right': 'topics_history', 'entity_groups_right': 'entity_groups_history'}) \\\n",
    "        .rename({f'topic_model_embedding_{i}_right': f'topic_model_embedding_{i}_history' for i in range(N_COMPONENTS)}) \\\n",
    "        .with_columns(\n",
    "            # 1/delay gives the weight for the weighted mean of the lda embeddings\n",
    "            (1 / (pl.col('impression_time') - pl.col('impression_time_fixed')).dt.total_hours().sqrt()).alias('history_weight'),\n",
    "            (pl.col(\"topics\").list.set_intersection(pl.col(\"topics_history\")).list.len().truediv(\n",
    "                pl.col(\"topics\").list.set_union(pl.col(\"topics_history\")).list.len()\n",
    "            )).alias(\"JS\"),\n",
    "            pl.col('entity_groups').list.set_intersection(pl.col('entity_groups_history')).list.len().alias('common_entities'),\n",
    "        ).drop(['entity_groups_history', 'entity_groups', 'topics', 'topics_history']) \\\n",
    "        .with_columns(\n",
    "            # summing delays to normalize them before weighted mean\n",
    "            pl.col('history_weight').sum().over(['impression_id', 'article']).alias('history_weight_sum'),\n",
    "            *[pl.col(x).mul(pl.col(f'{x}_history')).alias(f'{x}_dot') for x in topic_model_columns],\n",
    "            *[pl.col(x).mul(pl.col(x)) for x in topic_model_columns],\n",
    "            *[pl.col(f'{x}_history').mul(pl.col(f'{x}_history')).alias(f'{x}_history_square') for x in topic_model_columns],\n",
    "        ).with_columns(\n",
    "            # weights now sum to 1\n",
    "            pl.col('history_weight').truediv(pl.col('history_weight_sum')),\n",
    "            pl.sum_horizontal(topic_model_columns).sqrt().alias('topic_model_norm'),\n",
    "            pl.sum_horizontal([f'{x}_history_square' for x in topic_model_columns]).sqrt().alias('topic_model_history_norm'),\n",
    "            pl.sum_horizontal([f'{x}_dot' for x in topic_model_columns]).alias('topic_model_dot'),\n",
    "        ).with_columns(\n",
    "            *[pl.col(f'{x}_history').mul(pl.col('history_weight')).alias(f'{x}_history_weighted') for i, x in enumerate(topic_model_columns)],\n",
    "            pl.col('topic_model_dot').truediv(pl.col('topic_model_norm').mul('topic_model_history_norm')).alias('topic_model_cosine')\n",
    "        ).group_by(['impression_id', 'article']).agg(\n",
    "            pl.col(prev_train_columns).first(),\n",
    "            pl.col('topics_idf').first(),\n",
    "            pl.col('common_entities').mean().alias('MeanCommonEntities'),\n",
    "            pl.col('common_entities').max().alias('MaxCommonEntities'),\n",
    "            pl.col(\"JS\").mean().alias(\"mean_JS\"),\n",
    "            pl.col(\"JS\").min().alias(\"min_JS\"),\n",
    "            pl.col(\"JS\").max().alias(\"max_JS\"),\n",
    "            pl.col(\"JS\").std().alias(\"std_JS\"),\n",
    "            pl.col(\"JS\").mul(pl.col(\"history_weight\")).sum().alias(\"weighted_mean_JS\"),\n",
    "            pl.col(\"topic_model_cosine\").mean().alias(\"mean_topic_model_cosine\"),\n",
    "            pl.col(\"topic_model_cosine\").min().alias(\"min_topic_model_cosine\"),\n",
    "            pl.col(\"topic_model_cosine\").max().alias(\"max_topic_model_cosine\"),\n",
    "            pl.col(\"topic_model_cosine\").std().alias(\"std_topic_model_cosine\"),\n",
    "            pl.col(\"topic_model_cosine\").mul(pl.col(\"history_weight\")).sum().alias(\"weighted_mean_topic_model_cosine\"),\n",
    "            *[pl.col(f'{x}_history').mean().alias(f'lda_{i}_history_mean') for i, x in enumerate(topic_model_columns)],\n",
    "            *[pl.col(f'{x}_history_weighted').sum().alias(f'lda_{i}_history_weighted_mean') for i, x in enumerate(topic_model_columns)]\n",
    "        ).join(history_train.drop(['article_id_fixed', 'impression_time_fixed']), on='user_id', how='left') \\\n",
    "        .with_columns(\n",
    "            pl.struct(['topics_idf', 'topics_flatten_tf_idf']).map_elements(\n",
    "                lambda x: cosine_similarity(x['topics_idf'], x['topics_flatten_tf_idf']), return_dtype=pl.Float64\n",
    "            ).cast(pl.Float32).alias('topics_cosine'),\n",
    "            (pl.col('category') == pl.col('MostFrequentCategory')).alias('IsFavouriteCategory'),\n",
    "            pl.col('category_right').list.n_unique().alias('NumberDifferentCategories'),\n",
    "            list_pct_matches_with_col('category_right', 'category').alias('PctCategoryMatches'),\n",
    "        ).with_columns(\n",
    "            [list_pct_matches_with_constant('category_right', c).alias(f'Category_{c_str}_Pct')\n",
    "             for c, c_str in unique_categories.items()]\n",
    "        ).drop(['topics_idf', 'topics_flatten', 'topics_flatten_tf_idf', 'category_right'])\n",
    "    for rows in tqdm.tqdm(train_ds.iter_slices(10000), total=train_ds.shape[0] // 10000)\n",
    ")\n",
    "train_ds = reduce_polars_df_memory_size(train_ds)\n",
    "\n",
    "PrintColor(f\"\\n\" + GetMemUsage(), color = Fore.RED)\n",
    "train_ds.head(2)"
   ]
  },
  {
   "cell_type": "code",
   "execution_count": 42,
   "id": "6f9d2d1d",
   "metadata": {
    "execution": {
     "iopub.execute_input": "2024-05-19T11:10:59.677204Z",
     "iopub.status.busy": "2024-05-19T11:10:59.676790Z",
     "iopub.status.idle": "2024-05-19T11:12:19.932767Z",
     "shell.execute_reply": "2024-05-19T11:12:19.931558Z"
    },
    "papermill": {
     "duration": 80.34675,
     "end_time": "2024-05-19T11:12:19.936125",
     "exception": false,
     "start_time": "2024-05-19T11:10:59.589375",
     "status": "completed"
    },
    "tags": []
   },
   "outputs": [
    {
     "name": "stderr",
     "output_type": "stream",
     "text": [
      "  0%|          | 0/12 [00:00<?, ?it/s]"
     ]
    },
    {
     "name": "stdout",
     "output_type": "stream",
     "text": [
      "Memory usage of dataframe is 1595.64 MB\n"
     ]
    },
    {
     "name": "stderr",
     "output_type": "stream",
     "text": [
      "  8%|▊         | 1/12 [00:06<01:16,  6.96s/it]"
     ]
    },
    {
     "name": "stdout",
     "output_type": "stream",
     "text": [
      "Memory usage after optimization is: 1487.14 MB\n",
      "Decreased by 6.8%\n",
      "Memory usage of dataframe is 1517.04 MB\n"
     ]
    },
    {
     "name": "stderr",
     "output_type": "stream",
     "text": [
      " 17%|█▋        | 2/12 [00:10<00:51,  5.13s/it]"
     ]
    },
    {
     "name": "stdout",
     "output_type": "stream",
     "text": [
      "Memory usage after optimization is: 1503.06 MB\n",
      "Decreased by 0.9%\n",
      "Memory usage of dataframe is 1652.56 MB\n"
     ]
    },
    {
     "name": "stderr",
     "output_type": "stream",
     "text": [
      " 25%|██▌       | 3/12 [00:22<01:11,  7.91s/it]"
     ]
    },
    {
     "name": "stdout",
     "output_type": "stream",
     "text": [
      "Memory usage after optimization is: 1578.58 MB\n",
      "Decreased by 4.5%\n",
      "Memory usage of dataframe is 1856.31 MB\n"
     ]
    },
    {
     "name": "stderr",
     "output_type": "stream",
     "text": [
      " 33%|███▎      | 4/12 [00:25<00:48,  6.07s/it]"
     ]
    },
    {
     "name": "stdout",
     "output_type": "stream",
     "text": [
      "Memory usage after optimization is: 1747.81 MB\n",
      "Decreased by 5.8%\n",
      "Memory usage of dataframe is 2084.72 MB\n"
     ]
    },
    {
     "name": "stderr",
     "output_type": "stream",
     "text": [
      " 42%|████▏     | 5/12 [00:38<01:00,  8.58s/it]"
     ]
    },
    {
     "name": "stdout",
     "output_type": "stream",
     "text": [
      "Memory usage after optimization is: 1917.03 MB\n",
      "Decreased by 8.0%\n",
      "Memory usage of dataframe is 2253.94 MB\n"
     ]
    },
    {
     "name": "stderr",
     "output_type": "stream",
     "text": [
      " 50%|█████     | 6/12 [00:51<01:01, 10.17s/it]"
     ]
    },
    {
     "name": "stdout",
     "output_type": "stream",
     "text": [
      "Memory usage after optimization is: 2086.26 MB\n",
      "Decreased by 7.4%\n",
      "Memory usage of dataframe is 2362.45 MB\n"
     ]
    },
    {
     "name": "stderr",
     "output_type": "stream",
     "text": [
      " 58%|█████▊    | 7/12 [01:02<00:52, 10.40s/it]"
     ]
    },
    {
     "name": "stdout",
     "output_type": "stream",
     "text": [
      "Memory usage after optimization is: 2253.94 MB\n",
      "Decreased by 4.6%\n",
      "Memory usage of dataframe is 2531.67 MB\n"
     ]
    },
    {
     "name": "stderr",
     "output_type": "stream",
     "text": [
      " 67%|██████▋   | 8/12 [01:09<00:36,  9.18s/it]"
     ]
    },
    {
     "name": "stdout",
     "output_type": "stream",
     "text": [
      "Memory usage after optimization is: 2423.17 MB\n",
      "Decreased by 4.3%\n",
      "Memory usage of dataframe is 2462.63 MB\n"
     ]
    },
    {
     "name": "stderr",
     "output_type": "stream",
     "text": [
      " 75%|███████▌  | 9/12 [01:11<00:21,  7.08s/it]"
     ]
    },
    {
     "name": "stdout",
     "output_type": "stream",
     "text": [
      "Memory usage after optimization is: 2462.63 MB\n",
      "Decreased by 0.0%\n",
      "Memory usage of dataframe is 2521.81 MB\n"
     ]
    },
    {
     "name": "stderr",
     "output_type": "stream",
     "text": [
      " 83%|████████▎ | 10/12 [01:14<00:11,  5.69s/it]"
     ]
    },
    {
     "name": "stdout",
     "output_type": "stream",
     "text": [
      "Memory usage after optimization is: 2511.95 MB\n",
      "Decreased by 0.4%\n",
      "Memory usage of dataframe is 2541.54 MB\n"
     ]
    },
    {
     "name": "stderr",
     "output_type": "stream",
     "text": [
      " 92%|█████████▏| 11/12 [01:17<00:04,  4.88s/it]"
     ]
    },
    {
     "name": "stdout",
     "output_type": "stream",
     "text": [
      "Memory usage after optimization is: 2519.34 MB\n",
      "Decreased by 0.9%\n",
      "Memory usage of dataframe is 2539.07 MB\n"
     ]
    },
    {
     "name": "stderr",
     "output_type": "stream",
     "text": [
      "100%|██████████| 12/12 [01:20<00:00,  6.68s/it]"
     ]
    },
    {
     "name": "stdout",
     "output_type": "stream",
     "text": [
      "Memory usage after optimization is: 2529.21 MB\n",
      "Decreased by 0.4%\n",
      "\u001b[1m\u001b[31m\n",
      "RAM memory GB usage = 5.338\u001b[0m\n"
     ]
    },
    {
     "name": "stderr",
     "output_type": "stream",
     "text": [
      "\n"
     ]
    },
    {
     "data": {
      "text/html": [
       "<div><style>\n",
       ".dataframe > thead > tr,\n",
       ".dataframe > tbody > tr {\n",
       "  text-align: right;\n",
       "  white-space: pre-wrap;\n",
       "}\n",
       "</style>\n",
       "<small>shape: (2, 298)</small><table border=\"1\" class=\"dataframe\"><thead><tr><th>impression_id</th><th>article</th><th>user_id</th><th>target</th><th>device_type</th><th>read_time</th><th>scroll_percentage</th><th>is_sso_user</th><th>gender</th><th>age</th><th>is_subscriber</th><th>postcode</th><th>trendiness_score_1d</th><th>trendiness_score_3d</th><th>trendiness_score_5d</th><th>trendiness_score_3d_leak</th><th>weekday</th><th>hour</th><th>trendiness_score_1d/3d</th><th>trendiness_score_1d/5d</th><th>normalized_trendiness_score_overall</th><th>premium</th><th>category</th><th>sentiment_score</th><th>sentiment_label</th><th>num_images</th><th>title_len</th><th>subtitle_len</th><th>body_len</th><th>num_topics</th><th>total_pageviews</th><th>total_inviews</th><th>total_read_time</th><th>total_pageviews/inviews</th><th>article_type</th><th>article_delay_days</th><th>article_delay_hours</th><th>&hellip;</th><th>entropy_impression_trendiness_score_category</th><th>entropy_impression_std_JS</th><th>entropy_impression_total_read_time</th><th>entropy_impression_endorsement_10h_leak</th><th>entropy_impression_trendiness_score_3d_leak</th><th>entropy_impression_clicked_count</th><th>entropy_impression_inview_count</th><th>trendiness_score_3d_minus_median_impression</th><th>trendiness_score_5d_minus_median_impression</th><th>endorsement_10h_minus_median_impression</th><th>total_pageviews/inviews_minus_median_impression</th><th>mean_JS_minus_median_impression</th><th>mean_topic_model_cosine_minus_median_impression</th><th>topics_cosine_minus_median_impression</th><th>article_delay_hours_minus_median_impression</th><th>total_pageviews_minus_median_impression</th><th>total_inviews_minus_median_impression</th><th>trendiness_score_category_minus_median_impression</th><th>std_JS_minus_median_impression</th><th>total_read_time_minus_median_impression</th><th>endorsement_10h_leak_minus_median_impression</th><th>trendiness_score_3d_leak_minus_median_impression</th><th>clicked_count_minus_median_impression</th><th>inview_count_minus_median_impression</th><th>mean_JS_l_inf_user</th><th>std_JS_l_inf_user</th><th>mean_topic_model_cosine_l_inf_user</th><th>topics_cosine_l_inf_user</th><th>article_delay_hours_l_inf_article</th><th>mean_JS_l_inf_article</th><th>std_JS_l_inf_article</th><th>mean_topic_model_cosine_l_inf_article</th><th>topics_cosine_l_inf_article</th><th>category_diversity_impression</th><th>sentiment_label_diversity_impression</th><th>article_type_diversity_impression</th><th>endorsement_20h_articleuser_l_inf_article_user</th></tr><tr><td>u32</td><td>i32</td><td>u32</td><td>i8</td><td>i8</td><td>f32</td><td>f32</td><td>bool</td><td>i8</td><td>i8</td><td>bool</td><td>i8</td><td>i16</td><td>i16</td><td>i16</td><td>i16</td><td>i8</td><td>i8</td><td>f32</td><td>f32</td><td>f32</td><td>bool</td><td>i16</td><td>f32</td><td>str</td><td>u32</td><td>u8</td><td>u8</td><td>u16</td><td>u32</td><td>i32</td><td>i32</td><td>f32</td><td>f32</td><td>str</td><td>i16</td><td>i32</td><td>&hellip;</td><td>f32</td><td>f32</td><td>f32</td><td>f32</td><td>f32</td><td>f32</td><td>f32</td><td>f32</td><td>f32</td><td>f32</td><td>f32</td><td>f32</td><td>f32</td><td>f32</td><td>f32</td><td>f32</td><td>f32</td><td>f32</td><td>f32</td><td>f32</td><td>f32</td><td>f32</td><td>f32</td><td>f32</td><td>f32</td><td>f32</td><td>f32</td><td>f32</td><td>f32</td><td>f32</td><td>f32</td><td>f32</td><td>f32</td><td>u8</td><td>u8</td><td>u8</td><td>f32</td></tr></thead><tbody><tr><td>281673852</td><td>9770541</td><td>2415098</td><td>1</td><td>2</td><td>17.0</td><td>null</td><td>false</td><td>2</td><td>null</td><td>false</td><td>5</td><td>17</td><td>39</td><td>137</td><td>33</td><td>4</td><td>7</td><td>0.435897</td><td>0.124088</td><td>0.075728</td><td>false</td><td>414</td><td>0.878</td><td>&quot;Neutral&quot;</td><td>8</td><td>10</td><td>24</td><td>318</td><td>5</td><td>138320</td><td>597827</td><td>8.683972e6</td><td>0.231371</td><td>&quot;article_default&quot;</td><td>0</td><td>2</td><td>&hellip;</td><td>1.850861</td><td>NaN</td><td>1.799498</td><td>1.92374</td><td>1.662701</td><td>1.568214</td><td>1.775369</td><td>-127.0</td><td>-70.0</td><td>-56.0</td><td>0.069604</td><td>-0.080357</td><td>0.014971</td><td>-0.136447</td><td>1.0</td><td>56909.0</td><td>137165.0</td><td>-47.0</td><td>-0.105409</td><td>4.069165e6</td><td>-396.0</td><td>-76.0</td><td>952.0</td><td>0.0</td><td>0.0</td><td>0.0</td><td>0.952379</td><td>0.0</td><td>0.011765</td><td>0.0</td><td>0.0</td><td>0.892022</td><td>0.0</td><td>5</td><td>3</td><td>1</td><td>1.0</td></tr><tr><td>435715699</td><td>9769367</td><td>1868420</td><td>0</td><td>1</td><td>14.0</td><td>null</td><td>false</td><td>2</td><td>null</td><td>false</td><td>5</td><td>104</td><td>310</td><td>604</td><td>338</td><td>4</td><td>7</td><td>0.335484</td><td>0.172185</td><td>0.601942</td><td>false</td><td>142</td><td>0.988</td><td>&quot;Negative&quot;</td><td>5</td><td>5</td><td>19</td><td>191</td><td>6</td><td>38690</td><td>290391</td><td>2.542921e6</td><td>0.133234</td><td>&quot;article_default&quot;</td><td>0</td><td>21</td><td>&hellip;</td><td>2.151417</td><td>2.23713</td><td>2.172344</td><td>2.121899</td><td>2.216523</td><td>2.188611</td><td>2.180263</td><td>8.0</td><td>107.5</td><td>-12.5</td><td>-0.037579</td><td>-0.010529</td><td>0.076537</td><td>-0.00373</td><td>8.0</td><td>-38096.0</td><td>-114143.0</td><td>14.0</td><td>-0.010872</td><td>-1.5871e6</td><td>-121.0</td><td>71.0</td><td>-519.0</td><td>-73.0</td><td>0.546761</td><td>0.570205</td><td>0.979597</td><td>0.621538</td><td>0.125749</td><td>0.244004</td><td>0.517046</td><td>0.900968</td><td>0.532474</td><td>5</td><td>2</td><td>1</td><td>1.0</td></tr></tbody></table></div>"
      ],
      "text/plain": [
       "shape: (2, 298)\n",
       "┌─────────────┬─────────┬─────────┬────────┬───┬────────────┬────────────┬────────────┬────────────┐\n",
       "│ impression_ ┆ article ┆ user_id ┆ target ┆ … ┆ category_d ┆ sentiment_ ┆ article_ty ┆ endorsemen │\n",
       "│ id          ┆ ---     ┆ ---     ┆ ---    ┆   ┆ iversity_i ┆ label_dive ┆ pe_diversi ┆ t_20h_arti │\n",
       "│ ---         ┆ i32     ┆ u32     ┆ i8     ┆   ┆ mpression  ┆ rsity_impr ┆ ty_impress ┆ cleuser_l_ │\n",
       "│ u32         ┆         ┆         ┆        ┆   ┆ ---        ┆ …          ┆ …          ┆ …          │\n",
       "│             ┆         ┆         ┆        ┆   ┆ u8         ┆ ---        ┆ ---        ┆ ---        │\n",
       "│             ┆         ┆         ┆        ┆   ┆            ┆ u8         ┆ u8         ┆ f32        │\n",
       "╞═════════════╪═════════╪═════════╪════════╪═══╪════════════╪════════════╪════════════╪════════════╡\n",
       "│ 281673852   ┆ 9770541 ┆ 2415098 ┆ 1      ┆ … ┆ 5          ┆ 3          ┆ 1          ┆ 1.0        │\n",
       "│ 435715699   ┆ 9769367 ┆ 1868420 ┆ 0      ┆ … ┆ 5          ┆ 2          ┆ 1          ┆ 1.0        │\n",
       "└─────────────┴─────────┴─────────┴────────┴───┴────────────┴────────────┴────────────┴────────────┘"
      ]
     },
     "execution_count": 42,
     "metadata": {},
     "output_type": "execute_result"
    }
   ],
   "source": [
    "NORMALIZE_OVER_IMPRESSION_ID = [\n",
    "    'trendiness_score_3d','trendiness_score_5d', 'endorsement_10h', \n",
    "    'total_pageviews/inviews', 'mean_JS','mean_topic_model_cosine', 'topics_cosine',\n",
    "    'article_delay_hours', 'total_pageviews','total_inviews', 'trendiness_score_category',\n",
    "    'std_JS', 'total_read_time', 'endorsement_10h_leak',\"trendiness_score_3d_leak\",\n",
    "    \"clicked_count\",\"inview_count\",\n",
    "]\n",
    "RANK_IMPRESSION_DESCENDING = [\n",
    "    'trendiness_score_3d','trendiness_score_5d', 'endorsement_10h', \n",
    "    'total_pageviews/inviews', 'mean_JS', 'mean_topic_model_cosine', 'topics_cosine',\n",
    "    'total_pageviews', 'total_read_time','total_inviews', 'trendiness_score_category',\n",
    "    'endorsement_10h_leak',\"trendiness_score_3d_leak\",\"clicked_count\",\"inview_count\"\n",
    "]\n",
    "RANK_IMPRESSION_ASCENDING = [\n",
    "    'article_delay_hours', 'std_JS', 'mean_topics_mean_delay_hours'\n",
    "]\n",
    "NORMALIZE_OVER_USER_ID = [\n",
    "    'mean_JS', 'std_JS', 'mean_topic_model_cosine', 'topics_cosine',\n",
    "]\n",
    "NORMALIZE_OVER_ARTICLE = [\n",
    "    'article_delay_hours', 'mean_JS', 'std_JS', 'mean_topic_model_cosine', 'topics_cosine',\n",
    "]\n",
    "LIST_DIVERSITY = [\n",
    "    'category', 'sentiment_label', 'article_type'\n",
    "]\n",
    "NORMALIZE_OVER_ARTICLE_AND_USER_ID= ['endorsement_20h_articleuser']\n",
    "\n",
    "expressions = [\n",
    "    [(pl.col(c) / pl.col(c).max().over(pl.col('impression_id'))).alias(f'{c}_l_inf_impression')\n",
    "     for c in NORMALIZE_OVER_IMPRESSION_ID],\n",
    "    [pl.col(c).rank(method='min').over(pl.col('impression_id')).alias(f'{c}_rank_impression')\n",
    "     for c in RANK_IMPRESSION_ASCENDING],\n",
    "    [pl.col(c).rank(method='min', descending=True).over(pl.col('impression_id')).alias(f'{c}_rank_impression')\n",
    "     for c in RANK_IMPRESSION_DESCENDING],\n",
    "    [pl.col(c).std().over(pl.col('impression_id')).alias(f'std_impression_{c}')\n",
    "     for c in NORMALIZE_OVER_IMPRESSION_ID],\n",
    "    [pl.col(c).skew().over(pl.col('impression_id')).alias(f'skew_impression_{c}')\n",
    "     for c in NORMALIZE_OVER_IMPRESSION_ID],\n",
    "    [pl.col(c).kurtosis().over(pl.col('impression_id')).alias(f'kurtosis_impression_{c}')\n",
    "     for c in NORMALIZE_OVER_IMPRESSION_ID],\n",
    "    [pl.col(c).entropy().over(pl.col('impression_id')).alias(f'entropy_impression_{c}')\n",
    "     for c in NORMALIZE_OVER_IMPRESSION_ID],\n",
    "    [(pl.col(c) - pl.col(c).median().over(pl.col('impression_id'))).alias(f'{c}_minus_median_impression')\n",
    "     for c in NORMALIZE_OVER_IMPRESSION_ID],\n",
    "    [(pl.col(c) / pl.col(c).max().over(pl.col('user_id'))).alias(f'{c}_l_inf_user')\n",
    "     for c in NORMALIZE_OVER_USER_ID],\n",
    "    [(pl.col(c) / pl.col(c).max().over(pl.col('article'))).alias(f'{c}_l_inf_article')\n",
    "     for c in NORMALIZE_OVER_ARTICLE],\n",
    "    [pl.col(c).n_unique().over('impression_id').alias(f'{c}_diversity_impression')\n",
    "     for c in LIST_DIVERSITY],\n",
    "    [(pl.col(c) / pl.col(c).max().over([pl.col('article'),pl.col('user_id')])).alias(f'{c}_l_inf_article_user')\n",
    "     for c in NORMALIZE_OVER_ARTICLE_AND_USER_ID],\n",
    "]\n",
    "    \n",
    "for expressions_group in tqdm.tqdm(expressions):\n",
    "    train_ds = train_ds.with_columns(expressions_group)\n",
    "    train_ds = reduce_polars_df_memory_size(train_ds)\n",
    "\n",
    "PrintColor(f\"\\n\" + GetMemUsage(), color = Fore.RED)\n",
    "train_ds.head(2)"
   ]
  },
  {
   "cell_type": "markdown",
   "id": "01e68deb",
   "metadata": {
    "papermill": {
     "duration": 0.089818,
     "end_time": "2024-05-19T11:12:20.117621",
     "exception": false,
     "start_time": "2024-05-19T11:12:20.027803",
     "status": "completed"
    },
    "tags": []
   },
   "source": [
    "# Training"
   ]
  },
  {
   "cell_type": "code",
   "execution_count": 43,
   "id": "51727b4c",
   "metadata": {
    "execution": {
     "iopub.execute_input": "2024-05-19T11:12:20.301263Z",
     "iopub.status.busy": "2024-05-19T11:12:20.300828Z",
     "iopub.status.idle": "2024-05-19T11:12:29.414884Z",
     "shell.execute_reply": "2024-05-19T11:12:29.413597Z"
    },
    "papermill": {
     "duration": 9.209631,
     "end_time": "2024-05-19T11:12:29.417695",
     "exception": false,
     "start_time": "2024-05-19T11:12:20.208064",
     "status": "completed"
    },
    "tags": []
   },
   "outputs": [
    {
     "data": {
      "text/html": [
       "<div><style>\n",
       ".dataframe > thead > tr,\n",
       ".dataframe > tbody > tr {\n",
       "  text-align: right;\n",
       "  white-space: pre-wrap;\n",
       "}\n",
       "</style>\n",
       "<small>shape: (5, 298)</small><table border=\"1\" class=\"dataframe\"><thead><tr><th>impression_id</th><th>user_id</th><th>article</th><th>target</th><th>device_type</th><th>read_time</th><th>scroll_percentage</th><th>is_sso_user</th><th>gender</th><th>age</th><th>is_subscriber</th><th>postcode</th><th>trendiness_score_1d</th><th>trendiness_score_3d</th><th>trendiness_score_5d</th><th>trendiness_score_3d_leak</th><th>weekday</th><th>hour</th><th>trendiness_score_1d/3d</th><th>trendiness_score_1d/5d</th><th>normalized_trendiness_score_overall</th><th>premium</th><th>category</th><th>sentiment_score</th><th>sentiment_label</th><th>num_images</th><th>title_len</th><th>subtitle_len</th><th>body_len</th><th>num_topics</th><th>total_pageviews</th><th>total_inviews</th><th>total_read_time</th><th>total_pageviews/inviews</th><th>article_type</th><th>article_delay_days</th><th>article_delay_hours</th><th>&hellip;</th><th>entropy_impression_trendiness_score_category</th><th>entropy_impression_std_JS</th><th>entropy_impression_total_read_time</th><th>entropy_impression_endorsement_10h_leak</th><th>entropy_impression_trendiness_score_3d_leak</th><th>entropy_impression_clicked_count</th><th>entropy_impression_inview_count</th><th>trendiness_score_3d_minus_median_impression</th><th>trendiness_score_5d_minus_median_impression</th><th>endorsement_10h_minus_median_impression</th><th>total_pageviews/inviews_minus_median_impression</th><th>mean_JS_minus_median_impression</th><th>mean_topic_model_cosine_minus_median_impression</th><th>topics_cosine_minus_median_impression</th><th>article_delay_hours_minus_median_impression</th><th>total_pageviews_minus_median_impression</th><th>total_inviews_minus_median_impression</th><th>trendiness_score_category_minus_median_impression</th><th>std_JS_minus_median_impression</th><th>total_read_time_minus_median_impression</th><th>endorsement_10h_leak_minus_median_impression</th><th>trendiness_score_3d_leak_minus_median_impression</th><th>clicked_count_minus_median_impression</th><th>inview_count_minus_median_impression</th><th>mean_JS_l_inf_user</th><th>std_JS_l_inf_user</th><th>mean_topic_model_cosine_l_inf_user</th><th>topics_cosine_l_inf_user</th><th>article_delay_hours_l_inf_article</th><th>mean_JS_l_inf_article</th><th>std_JS_l_inf_article</th><th>mean_topic_model_cosine_l_inf_article</th><th>topics_cosine_l_inf_article</th><th>category_diversity_impression</th><th>sentiment_label_diversity_impression</th><th>article_type_diversity_impression</th><th>endorsement_20h_articleuser_l_inf_article_user</th></tr><tr><td>u32</td><td>u32</td><td>i32</td><td>i8</td><td>i8</td><td>f32</td><td>f32</td><td>bool</td><td>i8</td><td>i8</td><td>bool</td><td>i8</td><td>i16</td><td>i16</td><td>i16</td><td>i16</td><td>i8</td><td>i8</td><td>f32</td><td>f32</td><td>f32</td><td>bool</td><td>i16</td><td>f32</td><td>str</td><td>u32</td><td>u8</td><td>u8</td><td>u16</td><td>u32</td><td>i32</td><td>i32</td><td>f32</td><td>f32</td><td>str</td><td>i16</td><td>i32</td><td>&hellip;</td><td>f32</td><td>f32</td><td>f32</td><td>f32</td><td>f32</td><td>f32</td><td>f32</td><td>f32</td><td>f32</td><td>f32</td><td>f32</td><td>f32</td><td>f32</td><td>f32</td><td>f32</td><td>f32</td><td>f32</td><td>f32</td><td>f32</td><td>f32</td><td>f32</td><td>f32</td><td>f32</td><td>f32</td><td>f32</td><td>f32</td><td>f32</td><td>f32</td><td>f32</td><td>f32</td><td>f32</td><td>f32</td><td>f32</td><td>u8</td><td>u8</td><td>u8</td><td>f32</td></tr></thead><tbody><tr><td>149474</td><td>139836</td><td>9778728</td><td>0</td><td>2</td><td>13.0</td><td>null</td><td>false</td><td>2</td><td>null</td><td>false</td><td>5</td><td>150</td><td>521</td><td>836</td><td>419</td><td>3</td><td>7</td><td>0.287908</td><td>0.179426</td><td>0.880068</td><td>false</td><td>142</td><td>0.9654</td><td>&quot;Negative&quot;</td><td>1</td><td>5</td><td>18</td><td>251</td><td>7</td><td>22415</td><td>220247</td><td>1.004828e6</td><td>0.101772</td><td>&quot;article_default&quot;</td><td>0</td><td>0</td><td>&hellip;</td><td>1.612282</td><td>1.739272</td><td>1.558951</td><td>1.774823</td><td>1.725289</td><td>-0.0</td><td>1.76343</td><td>281.5</td><td>447.5</td><td>-873.5</td><td>-0.111306</td><td>-0.005177</td><td>0.106855</td><td>-0.02667</td><td>-1.0</td><td>-62463.5</td><td>-165503.0</td><td>4.0</td><td>-0.033664</td><td>-4.981345e6</td><td>5.0</td><td>165.5</td><td>null</td><td>-886.0</td><td>0.447581</td><td>0.403328</td><td>0.963376</td><td>0.36119</td><td>0.0</td><td>0.233531</td><td>0.335164</td><td>0.891436</td><td>0.301919</td><td>4</td><td>3</td><td>1</td><td>1.0</td></tr><tr><td>149474</td><td>139836</td><td>9778669</td><td>0</td><td>2</td><td>13.0</td><td>null</td><td>false</td><td>2</td><td>null</td><td>false</td><td>5</td><td>85</td><td>199</td><td>313</td><td>266</td><td>3</td><td>7</td><td>0.427136</td><td>0.271565</td><td>0.336149</td><td>false</td><td>118</td><td>0.9481</td><td>&quot;Negative&quot;</td><td>1</td><td>5</td><td>11</td><td>150</td><td>4</td><td>74491</td><td>373488</td><td>4.365609e6</td><td>0.199447</td><td>&quot;article_default&quot;</td><td>0</td><td>1</td><td>&hellip;</td><td>1.612282</td><td>1.739272</td><td>1.558951</td><td>1.774823</td><td>1.725289</td><td>-0.0</td><td>1.76343</td><td>-40.5</td><td>-75.5</td><td>179.5</td><td>-0.013631</td><td>0.003967</td><td>-0.073142</td><td>0.015762</td><td>0.0</td><td>-10387.5</td><td>-12262.0</td><td>0.0</td><td>0.028015</td><td>-1.620564e6</td><td>-397.0</td><td>12.5</td><td>null</td><td>-56.0</td><td>0.501163</td><td>0.632488</td><td>0.750329</td><td>0.437299</td><td>0.043478</td><td>0.266627</td><td>0.511387</td><td>0.782392</td><td>0.319083</td><td>4</td><td>3</td><td>1</td><td>1.0</td></tr><tr><td>149474</td><td>139836</td><td>9778657</td><td>1</td><td>2</td><td>13.0</td><td>null</td><td>false</td><td>2</td><td>null</td><td>false</td><td>5</td><td>45</td><td>117</td><td>183</td><td>138</td><td>3</td><td>7</td><td>0.384615</td><td>0.245902</td><td>0.197635</td><td>false</td><td>118</td><td>0.8347</td><td>&quot;Neutral&quot;</td><td>2</td><td>6</td><td>31</td><td>336</td><td>3</td><td>108389</td><td>478098</td><td>7.606737e6</td><td>0.226709</td><td>&quot;article_default&quot;</td><td>0</td><td>1</td><td>&hellip;</td><td>1.612282</td><td>1.739272</td><td>1.558951</td><td>1.774823</td><td>1.725289</td><td>-0.0</td><td>1.76343</td><td>-122.5</td><td>-205.5</td><td>368.5</td><td>0.013631</td><td>0.05309</td><td>-0.001632</td><td>0.218611</td><td>0.0</td><td>23510.5</td><td>92348.0</td><td>0.0</td><td>0.051035</td><td>1.620564e6</td><td>-5.0</td><td>-115.5</td><td>null</td><td>276.0</td><td>0.78901</td><td>0.718014</td><td>0.834969</td><td>0.801144</td><td>0.066667</td><td>0.350947</td><td>0.730242</td><td>0.85965</td><td>0.604487</td><td>4</td><td>3</td><td>1</td><td>1.0</td></tr><tr><td>150528</td><td>143471</td><td>9778682</td><td>0</td><td>2</td><td>25.0</td><td>null</td><td>false</td><td>2</td><td>null</td><td>false</td><td>5</td><td>69</td><td>206</td><td>334</td><td>201</td><td>3</td><td>7</td><td>0.334951</td><td>0.206587</td><td>0.347973</td><td>false</td><td>498</td><td>0.9546</td><td>&quot;Negative&quot;</td><td>1</td><td>5</td><td>20</td><td>267</td><td>3</td><td>143520</td><td>455723</td><td>9.298546e6</td><td>0.314928</td><td>&quot;article_default&quot;</td><td>0</td><td>1</td><td>&hellip;</td><td>1.924178</td><td>2.126514</td><td>2.008479</td><td>2.181736</td><td>2.013598</td><td>-0.0</td><td>2.173429</td><td>7.0</td><td>21.0</td><td>204.0</td><td>0.088219</td><td>0.013219</td><td>0.068738</td><td>-0.001332</td><td>1.0</td><td>48254.0</td><td>82235.0</td><td>-47.0</td><td>0.013249</td><td>4.223417e6</td><td>160.0</td><td>0.0</td><td>null</td><td>498.0</td><td>0.793928</td><td>0.732491</td><td>0.921602</td><td>0.581838</td><td>0.041667</td><td>0.299855</td><td>0.536061</td><td>0.832465</td><td>0.447169</td><td>6</td><td>3</td><td>1</td><td>1.0</td></tr><tr><td>150528</td><td>143471</td><td>9778669</td><td>0</td><td>2</td><td>25.0</td><td>null</td><td>false</td><td>2</td><td>null</td><td>false</td><td>5</td><td>85</td><td>199</td><td>313</td><td>266</td><td>3</td><td>7</td><td>0.427136</td><td>0.271565</td><td>0.336149</td><td>false</td><td>118</td><td>0.9481</td><td>&quot;Negative&quot;</td><td>1</td><td>5</td><td>11</td><td>150</td><td>4</td><td>74491</td><td>373488</td><td>4.365609e6</td><td>0.199447</td><td>&quot;article_default&quot;</td><td>0</td><td>1</td><td>&hellip;</td><td>1.924178</td><td>2.126514</td><td>2.008479</td><td>2.181736</td><td>2.013598</td><td>-0.0</td><td>2.173429</td><td>0.0</td><td>0.0</td><td>598.0</td><td>-0.027262</td><td>0.025741</td><td>-0.08231</td><td>0.159455</td><td>1.0</td><td>-20775.0</td><td>0.0</td><td>62.0</td><td>0.007517</td><td>-709520.0</td><td>-225.0</td><td>65.0</td><td>null</td><td>386.0</td><td>0.881599</td><td>0.709201</td><td>0.745333</td><td>0.871154</td><td>0.043478</td><td>0.392552</td><td>0.524339</td><td>0.788264</td><td>0.633637</td><td>6</td><td>3</td><td>1</td><td>1.0</td></tr></tbody></table></div>"
      ],
      "text/plain": [
       "shape: (5, 298)\n",
       "┌─────────────┬─────────┬─────────┬────────┬───┬────────────┬────────────┬────────────┬────────────┐\n",
       "│ impression_ ┆ user_id ┆ article ┆ target ┆ … ┆ category_d ┆ sentiment_ ┆ article_ty ┆ endorsemen │\n",
       "│ id          ┆ ---     ┆ ---     ┆ ---    ┆   ┆ iversity_i ┆ label_dive ┆ pe_diversi ┆ t_20h_arti │\n",
       "│ ---         ┆ u32     ┆ i32     ┆ i8     ┆   ┆ mpression  ┆ rsity_impr ┆ ty_impress ┆ cleuser_l_ │\n",
       "│ u32         ┆         ┆         ┆        ┆   ┆ ---        ┆ …          ┆ …          ┆ …          │\n",
       "│             ┆         ┆         ┆        ┆   ┆ u8         ┆ ---        ┆ ---        ┆ ---        │\n",
       "│             ┆         ┆         ┆        ┆   ┆            ┆ u8         ┆ u8         ┆ f32        │\n",
       "╞═════════════╪═════════╪═════════╪════════╪═══╪════════════╪════════════╪════════════╪════════════╡\n",
       "│ 149474      ┆ 139836  ┆ 9778728 ┆ 0      ┆ … ┆ 4          ┆ 3          ┆ 1          ┆ 1.0        │\n",
       "│ 149474      ┆ 139836  ┆ 9778669 ┆ 0      ┆ … ┆ 4          ┆ 3          ┆ 1          ┆ 1.0        │\n",
       "│ 149474      ┆ 139836  ┆ 9778657 ┆ 1      ┆ … ┆ 4          ┆ 3          ┆ 1          ┆ 1.0        │\n",
       "│ 150528      ┆ 143471  ┆ 9778682 ┆ 0      ┆ … ┆ 6          ┆ 3          ┆ 1          ┆ 1.0        │\n",
       "│ 150528      ┆ 143471  ┆ 9778669 ┆ 0      ┆ … ┆ 6          ┆ 3          ┆ 1          ┆ 1.0        │\n",
       "└─────────────┴─────────┴─────────┴────────┴───┴────────────┴────────────┴────────────┴────────────┘"
      ]
     },
     "execution_count": 43,
     "metadata": {},
     "output_type": "execute_result"
    }
   ],
   "source": [
    "# subsample dataset\n",
    "\n",
    "behaviors_subsample = behaviors_train.select(['impression_id','user_id','article_ids_inview','article_ids_clicked']) \\\n",
    "    .pipe(\n",
    "        sampling_strategy_wu2019, npratio=NPRATIO, shuffle=False, with_replacement=True, seed=123\n",
    "    ).explode('article_ids_inview').drop('article_ids_clicked').rename({'article_ids_inview' : 'article'}) \\\n",
    "    .with_columns(pl.col('user_id').cast(pl.UInt32), pl.col('article').cast(pl.Int32)) \\\n",
    "    .select(['impression_id', 'user_id', 'article'])\n",
    "\n",
    "train_ds = behaviors_subsample.join(train_ds, on=['impression_id','user_id','article'], how='left')\n",
    "train_ds.head()"
   ]
  },
  {
   "cell_type": "code",
   "execution_count": 44,
   "id": "246df474",
   "metadata": {
    "execution": {
     "iopub.execute_input": "2024-05-19T11:12:29.599576Z",
     "iopub.status.busy": "2024-05-19T11:12:29.599130Z",
     "iopub.status.idle": "2024-05-19T11:12:31.351547Z",
     "shell.execute_reply": "2024-05-19T11:12:31.350112Z"
    },
    "papermill": {
     "duration": 1.846328,
     "end_time": "2024-05-19T11:12:31.354493",
     "exception": false,
     "start_time": "2024-05-19T11:12:29.508165",
     "status": "completed"
    },
    "tags": []
   },
   "outputs": [],
   "source": [
    "train_ds = train_ds.drop(['impression_id', 'article', 'user_id']).to_pandas()\n",
    "\n",
    "categorical_columns = ['device_type', 'is_sso_user', 'gender', 'is_subscriber', 'weekday',\n",
    "                       'premium', 'category', 'sentiment_label', 'is_new_article', 'is_already_seen_article',\n",
    "                       'MostFrequentCategory', 'MostFrequentWeekday', 'IsFavouriteCategory',\n",
    "                       'article_type', 'postcode']\n",
    "categorical_columns += [f'Entity_{entity}_Present' for entity in unique_entities]\n",
    "train_ds[categorical_columns] = train_ds[categorical_columns].astype('category')\n",
    "\n",
    "X = train_ds.drop(columns=['target'])\n",
    "y = train_ds['target']"
   ]
  },
  {
   "cell_type": "code",
   "execution_count": 45,
   "id": "7eb84e6b",
   "metadata": {
    "execution": {
     "iopub.execute_input": "2024-05-19T11:12:31.536419Z",
     "iopub.status.busy": "2024-05-19T11:12:31.535992Z",
     "iopub.status.idle": "2024-05-19T11:12:31.876044Z",
     "shell.execute_reply": "2024-05-19T11:12:31.874498Z"
    },
    "papermill": {
     "duration": 0.43489,
     "end_time": "2024-05-19T11:12:31.878991",
     "exception": false,
     "start_time": "2024-05-19T11:12:31.444101",
     "status": "completed"
    },
    "tags": []
   },
   "outputs": [
    {
     "name": "stdout",
     "output_type": "stream",
     "text": [
      "\u001b[1m\u001b[31m\n",
      "RAM memory GB usage = 7.466\u001b[0m\n"
     ]
    }
   ],
   "source": [
    "del train_ds\n",
    "\n",
    "gc.collect()\n",
    "PrintColor(f\"\\n\" + GetMemUsage(), color = Fore.RED)"
   ]
  },
  {
   "cell_type": "code",
   "execution_count": 46,
   "id": "6a1e7306",
   "metadata": {
    "execution": {
     "iopub.execute_input": "2024-05-19T11:12:32.061360Z",
     "iopub.status.busy": "2024-05-19T11:12:32.060908Z",
     "iopub.status.idle": "2024-05-19T11:12:32.068585Z",
     "shell.execute_reply": "2024-05-19T11:12:32.067182Z"
    },
    "papermill": {
     "duration": 0.101845,
     "end_time": "2024-05-19T11:12:32.071177",
     "exception": false,
     "start_time": "2024-05-19T11:12:31.969332",
     "status": "completed"
    },
    "tags": []
   },
   "outputs": [],
   "source": [
    "def t_softmax(logits, t, axis=-1, name=None):\n",
    "    weights = tf.nn.relu(logits + t - tf.reduce_max(logits, axis=axis, keepdims=True))\n",
    "    return weights * tf.exp(logits) / tf.reduce_sum(weights * tf.exp(logits), axis, keepdims=True)"
   ]
  },
  {
   "cell_type": "code",
   "execution_count": 47,
   "id": "061ff71b",
   "metadata": {
    "execution": {
     "iopub.execute_input": "2024-05-19T11:12:32.252426Z",
     "iopub.status.busy": "2024-05-19T11:12:32.251989Z",
     "iopub.status.idle": "2024-05-19T11:12:32.274217Z",
     "shell.execute_reply": "2024-05-19T11:12:32.272785Z"
    },
    "papermill": {
     "duration": 0.115857,
     "end_time": "2024-05-19T11:12:32.277171",
     "exception": false,
     "start_time": "2024-05-19T11:12:32.161314",
     "status": "completed"
    },
    "tags": []
   },
   "outputs": [],
   "source": [
    "class GatedFeatureLearningUnit(tfkl.Layer):\n",
    "    def __init__(self, n_stages=4, dropout_rate=0.1, l1=1e-4, l2=1e-4, init_t=0.5, **kwargs):\n",
    "        super(GatedFeatureLearningUnit, self).__init__(**kwargs)\n",
    "        self.n_stages = n_stages\n",
    "        self.dropout_rate = dropout_rate\n",
    "        self.l1 = l1\n",
    "        self.l2 = l2\n",
    "        self.init_t = init_t\n",
    "\n",
    "    def build(self, input_shape):\n",
    "        self.W_i = [\n",
    "            tfkl.Dense(2 * input_shape[-1],\n",
    "                       kernel_regularizer=tfk.regularizers.L1L2(l1=self.l1, l2=self.l2),\n",
    "                       name=f'i_dense_{i}')\n",
    "            for i in range(self.n_stages)\n",
    "        ]\n",
    "        self.W_o = [\n",
    "            tfkl.Dense(input_shape[-1],\n",
    "                       kernel_regularizer=tfk.regularizers.L1L2(l1=self.l1, l2=self.l2),\n",
    "                       name=f'o_dense_{i}')\n",
    "            for i in range(self.n_stages)\n",
    "        ]\n",
    "        self.mask_weights = self.add_weight(shape=(self.n_stages, input_shape[-1]),\n",
    "                                            initializer='he_normal',\n",
    "                                            trainable=True,\n",
    "                                            name='feature_weights',\n",
    "                                            regularizer=tfk.regularizers.L1L2(l1=self.l1, l2=self.l2))\n",
    "        self.t = self.add_weight(shape=(),\n",
    "                                 initializer=tfk.initializers.Constant(self.init_t),\n",
    "                                 trainable=True,\n",
    "                                 name='t')\n",
    "\n",
    "    def call(self, inputs):\n",
    "        input_shape = tf.shape(inputs)\n",
    "        feature_mask = t_softmax(self.mask_weights, self.t)\n",
    "        H_n = inputs\n",
    "        for n in range(self.n_stages):\n",
    "            X_n = feature_mask[n, :] * inputs\n",
    "            H_in_n = self.W_i[n](tf.concat([H_n, X_n], axis=-1))\n",
    "            z_n = tf.nn.sigmoid(H_in_n[:, input_shape[-1]:])\n",
    "            r_n = tf.nn.sigmoid(H_in_n[:, :input_shape[-1]])\n",
    "            H_out_n = tf.nn.tanh(self.W_o[n](tf.concat([tfkl.multiply([r_n, H_n]), X_n], axis=-1)))\n",
    "            H_n = tfkl.add([tfkl.multiply([(1 - z_n), H_n]), tfkl.multiply([z_n, H_out_n])])\n",
    "\n",
    "        return H_n\n",
    "\n",
    "\n",
    "    def compute_output_shape(self, input_shape):\n",
    "        return input_shape\n",
    "\n",
    "    def get_config(self):\n",
    "        config = super(GatedFeatureLearningUnit, self).get_config()\n",
    "        config.update({\n",
    "            'n_stages': self.n_stages,\n",
    "            'dropout_rate': self.dropout_rate,\n",
    "            'l1': self.l1,\n",
    "            'l2': self.l2,\n",
    "            'init_t': self.init_t\n",
    "        })\n",
    "        return config"
   ]
  },
  {
   "cell_type": "code",
   "execution_count": 48,
   "id": "70bb6b6a",
   "metadata": {
    "execution": {
     "iopub.execute_input": "2024-05-19T11:12:32.461073Z",
     "iopub.status.busy": "2024-05-19T11:12:32.460635Z",
     "iopub.status.idle": "2024-05-19T11:12:32.482550Z",
     "shell.execute_reply": "2024-05-19T11:12:32.481207Z"
    },
    "papermill": {
     "duration": 0.117418,
     "end_time": "2024-05-19T11:12:32.485204",
     "exception": false,
     "start_time": "2024-05-19T11:12:32.367786",
     "status": "completed"
    },
    "tags": []
   },
   "outputs": [],
   "source": [
    "def create_gandalf_model(numeric_input_shape, n_stages=6, n_head_layers=2, start_units_head=128, \n",
    "                         head_units_decay=2, dropout_rate=0.2, init_t=0.5, learning_rate=1e-3, \n",
    "                         l2_lambda=1e-4, seed=seed, l1_lambda=1e-4, weight_decay=1e-3, \n",
    "                         add_gaussian_noise=False, gaussian_noise_std=0.01, max_categorical_embedding=50, \n",
    "                         use_categorical_embeddings=True, vocabulary_sizes: dict[str, int] = None, \n",
    "                         categorical_input_shape=None):\n",
    "    \n",
    "    tf.random.set_seed(seed)\n",
    "    \n",
    "    numeric_input_layer = tfkl.Input(shape=(numeric_input_shape,), name='NumericInput')\n",
    "    \n",
    "    if add_gaussian_noise:\n",
    "        noise_layer = tfkl.GaussianNoise(0.01, name='NumericInputNoise')(numeric_input_layer)\n",
    "        prev_layer = noise_layer\n",
    "    else:\n",
    "        prev_layer = numeric_input_layer\n",
    "        \n",
    "    # CATEGORICAL EMBEDDINGS\n",
    "    if use_categorical_embeddings:\n",
    "        embedding_layers = []\n",
    "        categorical_inputs = []\n",
    "        for feature in categorical_columns:\n",
    "            vocabulary_size = vocabulary_sizes[feature]\n",
    "            embedding_dim = min(max_categorical_embedding, (vocabulary_size + 1) // 2)\n",
    "            cat_input = tfkl.Input(shape=(1,), name=f'{feature}Input')\n",
    "            categorical_inputs.append(cat_input)\n",
    "            embedding_layer = tfkl.Embedding(input_dim=vocabulary_size + 1, output_dim=embedding_dim)(cat_input)\n",
    "            flatten_layer = tfkl.Flatten()(embedding_layer)\n",
    "            embedding_layers.append(flatten_layer)\n",
    "        x0 = tfkl.Concatenate()([prev_layer] + embedding_layers)\n",
    "        \n",
    "    else:\n",
    "        categorical_input = tfkl.Input(shape=(categorical_input_shape,), name='CategoricalInput')\n",
    "        x0 = tfkl.Concatenate()([prev_layer, categorical_input])\n",
    "        categorical_inputs = [categorical_input]\n",
    "\n",
    "    x = GatedFeatureLearningUnit(\n",
    "        n_stages=n_stages,\n",
    "        dropout_rate=dropout_rate,\n",
    "        l1=l1_lambda,\n",
    "        l2=l2_lambda,\n",
    "        init_t=init_t\n",
    "    )(x0)\n",
    "    x = tfkl.BatchNormalization()(x)\n",
    "\n",
    "    units = start_units_head\n",
    "    for i in range(n_head_layers):\n",
    "        x = tfkl.Dense(units, kernel_regularizer=tfk.regularizers.l1_l2(l1=l1_lambda, l2=l2_lambda))(x)\n",
    "        x = tfkl.BatchNormalization()(x)\n",
    "        x = tfkl.Dropout(dropout_rate)(x)\n",
    "        x = tfkl.Activation('relu')(x)\n",
    "        units = int(units / head_units_decay)\n",
    "        \n",
    "    outputs = tfkl.Dense(\n",
    "        units=1,\n",
    "        kernel_initializer=tfk.initializers.GlorotUniform(seed=seed),\n",
    "        kernel_regularizer=tfk.regularizers.l1_l2(l1=l1_lambda, l2=l2_lambda),\n",
    "        name='OutputDense',\n",
    "        activation='sigmoid'\n",
    "    )(x)\n",
    "    model = tfk.Model(inputs=[numeric_input_layer] + categorical_inputs, outputs=outputs)\n",
    "\n",
    "    opt = tfk.optimizers.AdamW(learning_rate, weight_decay=weight_decay)\n",
    "    loss = tfk.losses.BinaryCrossentropy()\n",
    "    metrics = [tfk.metrics.AUC(curve='ROC', name='auc')]\n",
    "    model.compile(loss=loss, optimizer=opt, metrics=metrics)\n",
    "    \n",
    "    return model"
   ]
  },
  {
   "cell_type": "code",
   "execution_count": 49,
   "id": "4f4b172e",
   "metadata": {
    "execution": {
     "iopub.execute_input": "2024-05-19T11:12:32.686514Z",
     "iopub.status.busy": "2024-05-19T11:12:32.686083Z",
     "iopub.status.idle": "2024-05-19T11:13:28.313483Z",
     "shell.execute_reply": "2024-05-19T11:13:28.312011Z"
    },
    "papermill": {
     "duration": 55.741821,
     "end_time": "2024-05-19T11:13:28.316502",
     "exception": false,
     "start_time": "2024-05-19T11:12:32.574681",
     "status": "completed"
    },
    "tags": []
   },
   "outputs": [],
   "source": [
    "numerical_columns = [c for c in X.columns if c not in categorical_columns]\n",
    "X_numerical = X[numerical_columns]\n",
    "X_categorical = X[categorical_columns].astype(str)\n",
    "\n",
    "categories = []\n",
    "vocabulary_sizes = {}\n",
    "for cat_col in categorical_columns:\n",
    "    categories_train = list(X_categorical[cat_col].unique())\n",
    "    categories_train.append('Unknown')\n",
    "    vocabulary_sizes[cat_col] = len(categories_train)\n",
    "    categories.append(categories_train)\n",
    "    \n",
    "categorical_encoder = OrdinalEncoder(categories=categories)\n",
    "numerical_transformer = QuantileTransformer(output_distribution='normal')\n",
    "    \n",
    "X_categorical = categorical_encoder.fit_transform(X_categorical, y)\n",
    "X_numerical = numerical_transformer.fit_transform(X_numerical.fillna(0).replace([-np.inf, np.inf], 0), y)"
   ]
  },
  {
   "cell_type": "code",
   "execution_count": 50,
   "id": "cee4dd48",
   "metadata": {
    "execution": {
     "iopub.execute_input": "2024-05-19T11:13:28.526823Z",
     "iopub.status.busy": "2024-05-19T11:13:28.526344Z",
     "iopub.status.idle": "2024-05-19T11:13:28.889249Z",
     "shell.execute_reply": "2024-05-19T11:13:28.888140Z"
    },
    "papermill": {
     "duration": 0.466314,
     "end_time": "2024-05-19T11:13:28.892248",
     "exception": false,
     "start_time": "2024-05-19T11:13:28.425934",
     "status": "completed"
    },
    "tags": []
   },
   "outputs": [
    {
     "name": "stdout",
     "output_type": "stream",
     "text": [
      "\u001b[1m\u001b[31m\n",
      "RAM memory GB usage = 7.912\u001b[0m\n"
     ]
    },
    {
     "data": {
      "text/plain": [
       "0"
      ]
     },
     "execution_count": 50,
     "metadata": {},
     "output_type": "execute_result"
    }
   ],
   "source": [
    "del X\n",
    "\n",
    "PrintColor(f\"\\n\" + GetMemUsage(), color = Fore.RED)\n",
    "gc.collect()"
   ]
  },
  {
   "cell_type": "code",
   "execution_count": 51,
   "id": "f0b19435",
   "metadata": {
    "execution": {
     "iopub.execute_input": "2024-05-19T11:13:29.075020Z",
     "iopub.status.busy": "2024-05-19T11:13:29.074600Z",
     "iopub.status.idle": "2024-05-19T11:13:29.675887Z",
     "shell.execute_reply": "2024-05-19T11:13:29.674617Z"
    },
    "papermill": {
     "duration": 0.694342,
     "end_time": "2024-05-19T11:13:29.678501",
     "exception": false,
     "start_time": "2024-05-19T11:13:28.984159",
     "status": "completed"
    },
    "tags": []
   },
   "outputs": [
    {
     "data": {
      "text/html": [
       "<pre style=\"white-space:pre;overflow-x:auto;line-height:normal;font-family:Menlo,'DejaVu Sans Mono',consolas,'Courier New',monospace\"><span style=\"font-weight: bold\">Model: \"functional_1\"</span>\n",
       "</pre>\n"
      ],
      "text/plain": [
       "\u001b[1mModel: \"functional_1\"\u001b[0m\n"
      ]
     },
     "metadata": {},
     "output_type": "display_data"
    },
    {
     "data": {
      "text/html": [
       "<pre style=\"white-space:pre;overflow-x:auto;line-height:normal;font-family:Menlo,'DejaVu Sans Mono',consolas,'Courier New',monospace\">┏━━━━━━━━━━━━━━━━━━━━━┳━━━━━━━━━━━━━━━━━━━┳━━━━━━━━━━━━┳━━━━━━━━━━━━━━━━━━━┓\n",
       "┃<span style=\"font-weight: bold\"> Layer (type)        </span>┃<span style=\"font-weight: bold\"> Output Shape      </span>┃<span style=\"font-weight: bold\">    Param # </span>┃<span style=\"font-weight: bold\"> Connected to      </span>┃\n",
       "┡━━━━━━━━━━━━━━━━━━━━━╇━━━━━━━━━━━━━━━━━━━╇━━━━━━━━━━━━╇━━━━━━━━━━━━━━━━━━━┩\n",
       "│ device_typeInput    │ (<span style=\"color: #00d7ff; text-decoration-color: #00d7ff\">None</span>, <span style=\"color: #00af00; text-decoration-color: #00af00\">1</span>)         │          <span style=\"color: #00af00; text-decoration-color: #00af00\">0</span> │ -                 │\n",
       "│ (<span style=\"color: #0087ff; text-decoration-color: #0087ff\">InputLayer</span>)        │                   │            │                   │\n",
       "├─────────────────────┼───────────────────┼────────────┼───────────────────┤\n",
       "│ is_sso_userInput    │ (<span style=\"color: #00d7ff; text-decoration-color: #00d7ff\">None</span>, <span style=\"color: #00af00; text-decoration-color: #00af00\">1</span>)         │          <span style=\"color: #00af00; text-decoration-color: #00af00\">0</span> │ -                 │\n",
       "│ (<span style=\"color: #0087ff; text-decoration-color: #0087ff\">InputLayer</span>)        │                   │            │                   │\n",
       "├─────────────────────┼───────────────────┼────────────┼───────────────────┤\n",
       "│ genderInput         │ (<span style=\"color: #00d7ff; text-decoration-color: #00d7ff\">None</span>, <span style=\"color: #00af00; text-decoration-color: #00af00\">1</span>)         │          <span style=\"color: #00af00; text-decoration-color: #00af00\">0</span> │ -                 │\n",
       "│ (<span style=\"color: #0087ff; text-decoration-color: #0087ff\">InputLayer</span>)        │                   │            │                   │\n",
       "├─────────────────────┼───────────────────┼────────────┼───────────────────┤\n",
       "│ is_subscriberInput  │ (<span style=\"color: #00d7ff; text-decoration-color: #00d7ff\">None</span>, <span style=\"color: #00af00; text-decoration-color: #00af00\">1</span>)         │          <span style=\"color: #00af00; text-decoration-color: #00af00\">0</span> │ -                 │\n",
       "│ (<span style=\"color: #0087ff; text-decoration-color: #0087ff\">InputLayer</span>)        │                   │            │                   │\n",
       "├─────────────────────┼───────────────────┼────────────┼───────────────────┤\n",
       "│ weekdayInput        │ (<span style=\"color: #00d7ff; text-decoration-color: #00d7ff\">None</span>, <span style=\"color: #00af00; text-decoration-color: #00af00\">1</span>)         │          <span style=\"color: #00af00; text-decoration-color: #00af00\">0</span> │ -                 │\n",
       "│ (<span style=\"color: #0087ff; text-decoration-color: #0087ff\">InputLayer</span>)        │                   │            │                   │\n",
       "├─────────────────────┼───────────────────┼────────────┼───────────────────┤\n",
       "│ premiumInput        │ (<span style=\"color: #00d7ff; text-decoration-color: #00d7ff\">None</span>, <span style=\"color: #00af00; text-decoration-color: #00af00\">1</span>)         │          <span style=\"color: #00af00; text-decoration-color: #00af00\">0</span> │ -                 │\n",
       "│ (<span style=\"color: #0087ff; text-decoration-color: #0087ff\">InputLayer</span>)        │                   │            │                   │\n",
       "├─────────────────────┼───────────────────┼────────────┼───────────────────┤\n",
       "│ categoryInput       │ (<span style=\"color: #00d7ff; text-decoration-color: #00d7ff\">None</span>, <span style=\"color: #00af00; text-decoration-color: #00af00\">1</span>)         │          <span style=\"color: #00af00; text-decoration-color: #00af00\">0</span> │ -                 │\n",
       "│ (<span style=\"color: #0087ff; text-decoration-color: #0087ff\">InputLayer</span>)        │                   │            │                   │\n",
       "├─────────────────────┼───────────────────┼────────────┼───────────────────┤\n",
       "│ sentiment_labelInp… │ (<span style=\"color: #00d7ff; text-decoration-color: #00d7ff\">None</span>, <span style=\"color: #00af00; text-decoration-color: #00af00\">1</span>)         │          <span style=\"color: #00af00; text-decoration-color: #00af00\">0</span> │ -                 │\n",
       "│ (<span style=\"color: #0087ff; text-decoration-color: #0087ff\">InputLayer</span>)        │                   │            │                   │\n",
       "├─────────────────────┼───────────────────┼────────────┼───────────────────┤\n",
       "│ is_new_articleInput │ (<span style=\"color: #00d7ff; text-decoration-color: #00d7ff\">None</span>, <span style=\"color: #00af00; text-decoration-color: #00af00\">1</span>)         │          <span style=\"color: #00af00; text-decoration-color: #00af00\">0</span> │ -                 │\n",
       "│ (<span style=\"color: #0087ff; text-decoration-color: #0087ff\">InputLayer</span>)        │                   │            │                   │\n",
       "├─────────────────────┼───────────────────┼────────────┼───────────────────┤\n",
       "│ is_already_seen_ar… │ (<span style=\"color: #00d7ff; text-decoration-color: #00d7ff\">None</span>, <span style=\"color: #00af00; text-decoration-color: #00af00\">1</span>)         │          <span style=\"color: #00af00; text-decoration-color: #00af00\">0</span> │ -                 │\n",
       "│ (<span style=\"color: #0087ff; text-decoration-color: #0087ff\">InputLayer</span>)        │                   │            │                   │\n",
       "├─────────────────────┼───────────────────┼────────────┼───────────────────┤\n",
       "│ MostFrequentCatego… │ (<span style=\"color: #00d7ff; text-decoration-color: #00d7ff\">None</span>, <span style=\"color: #00af00; text-decoration-color: #00af00\">1</span>)         │          <span style=\"color: #00af00; text-decoration-color: #00af00\">0</span> │ -                 │\n",
       "│ (<span style=\"color: #0087ff; text-decoration-color: #0087ff\">InputLayer</span>)        │                   │            │                   │\n",
       "├─────────────────────┼───────────────────┼────────────┼───────────────────┤\n",
       "│ MostFrequentWeekda… │ (<span style=\"color: #00d7ff; text-decoration-color: #00d7ff\">None</span>, <span style=\"color: #00af00; text-decoration-color: #00af00\">1</span>)         │          <span style=\"color: #00af00; text-decoration-color: #00af00\">0</span> │ -                 │\n",
       "│ (<span style=\"color: #0087ff; text-decoration-color: #0087ff\">InputLayer</span>)        │                   │            │                   │\n",
       "├─────────────────────┼───────────────────┼────────────┼───────────────────┤\n",
       "│ IsFavouriteCategor… │ (<span style=\"color: #00d7ff; text-decoration-color: #00d7ff\">None</span>, <span style=\"color: #00af00; text-decoration-color: #00af00\">1</span>)         │          <span style=\"color: #00af00; text-decoration-color: #00af00\">0</span> │ -                 │\n",
       "│ (<span style=\"color: #0087ff; text-decoration-color: #0087ff\">InputLayer</span>)        │                   │            │                   │\n",
       "├─────────────────────┼───────────────────┼────────────┼───────────────────┤\n",
       "│ article_typeInput   │ (<span style=\"color: #00d7ff; text-decoration-color: #00d7ff\">None</span>, <span style=\"color: #00af00; text-decoration-color: #00af00\">1</span>)         │          <span style=\"color: #00af00; text-decoration-color: #00af00\">0</span> │ -                 │\n",
       "│ (<span style=\"color: #0087ff; text-decoration-color: #0087ff\">InputLayer</span>)        │                   │            │                   │\n",
       "├─────────────────────┼───────────────────┼────────────┼───────────────────┤\n",
       "│ postcodeInput       │ (<span style=\"color: #00d7ff; text-decoration-color: #00d7ff\">None</span>, <span style=\"color: #00af00; text-decoration-color: #00af00\">1</span>)         │          <span style=\"color: #00af00; text-decoration-color: #00af00\">0</span> │ -                 │\n",
       "│ (<span style=\"color: #0087ff; text-decoration-color: #0087ff\">InputLayer</span>)        │                   │            │                   │\n",
       "├─────────────────────┼───────────────────┼────────────┼───────────────────┤\n",
       "│ Entity_PER_Present… │ (<span style=\"color: #00d7ff; text-decoration-color: #00d7ff\">None</span>, <span style=\"color: #00af00; text-decoration-color: #00af00\">1</span>)         │          <span style=\"color: #00af00; text-decoration-color: #00af00\">0</span> │ -                 │\n",
       "│ (<span style=\"color: #0087ff; text-decoration-color: #0087ff\">InputLayer</span>)        │                   │            │                   │\n",
       "├─────────────────────┼───────────────────┼────────────┼───────────────────┤\n",
       "│ Entity_MISC_Presen… │ (<span style=\"color: #00d7ff; text-decoration-color: #00d7ff\">None</span>, <span style=\"color: #00af00; text-decoration-color: #00af00\">1</span>)         │          <span style=\"color: #00af00; text-decoration-color: #00af00\">0</span> │ -                 │\n",
       "│ (<span style=\"color: #0087ff; text-decoration-color: #0087ff\">InputLayer</span>)        │                   │            │                   │\n",
       "├─────────────────────┼───────────────────┼────────────┼───────────────────┤\n",
       "│ Entity_ORG_Present… │ (<span style=\"color: #00d7ff; text-decoration-color: #00d7ff\">None</span>, <span style=\"color: #00af00; text-decoration-color: #00af00\">1</span>)         │          <span style=\"color: #00af00; text-decoration-color: #00af00\">0</span> │ -                 │\n",
       "│ (<span style=\"color: #0087ff; text-decoration-color: #0087ff\">InputLayer</span>)        │                   │            │                   │\n",
       "├─────────────────────┼───────────────────┼────────────┼───────────────────┤\n",
       "│ Entity_PROD_Presen… │ (<span style=\"color: #00d7ff; text-decoration-color: #00d7ff\">None</span>, <span style=\"color: #00af00; text-decoration-color: #00af00\">1</span>)         │          <span style=\"color: #00af00; text-decoration-color: #00af00\">0</span> │ -                 │\n",
       "│ (<span style=\"color: #0087ff; text-decoration-color: #0087ff\">InputLayer</span>)        │                   │            │                   │\n",
       "├─────────────────────┼───────────────────┼────────────┼───────────────────┤\n",
       "│ Entity_EVENT_Prese… │ (<span style=\"color: #00d7ff; text-decoration-color: #00d7ff\">None</span>, <span style=\"color: #00af00; text-decoration-color: #00af00\">1</span>)         │          <span style=\"color: #00af00; text-decoration-color: #00af00\">0</span> │ -                 │\n",
       "│ (<span style=\"color: #0087ff; text-decoration-color: #0087ff\">InputLayer</span>)        │                   │            │                   │\n",
       "├─────────────────────┼───────────────────┼────────────┼───────────────────┤\n",
       "│ Entity_LOC_Present… │ (<span style=\"color: #00d7ff; text-decoration-color: #00d7ff\">None</span>, <span style=\"color: #00af00; text-decoration-color: #00af00\">1</span>)         │          <span style=\"color: #00af00; text-decoration-color: #00af00\">0</span> │ -                 │\n",
       "│ (<span style=\"color: #0087ff; text-decoration-color: #0087ff\">InputLayer</span>)        │                   │            │                   │\n",
       "├─────────────────────┼───────────────────┼────────────┼───────────────────┤\n",
       "│ NumericInput        │ (<span style=\"color: #00d7ff; text-decoration-color: #00d7ff\">None</span>, <span style=\"color: #00af00; text-decoration-color: #00af00\">273</span>)       │          <span style=\"color: #00af00; text-decoration-color: #00af00\">0</span> │ -                 │\n",
       "│ (<span style=\"color: #0087ff; text-decoration-color: #0087ff\">InputLayer</span>)        │                   │            │                   │\n",
       "├─────────────────────┼───────────────────┼────────────┼───────────────────┤\n",
       "│ embedding           │ (<span style=\"color: #00d7ff; text-decoration-color: #00d7ff\">None</span>, <span style=\"color: #00af00; text-decoration-color: #00af00\">1</span>, <span style=\"color: #00af00; text-decoration-color: #00af00\">2</span>)      │         <span style=\"color: #00af00; text-decoration-color: #00af00\">10</span> │ device_typeInput… │\n",
       "│ (<span style=\"color: #0087ff; text-decoration-color: #0087ff\">Embedding</span>)         │                   │            │                   │\n",
       "├─────────────────────┼───────────────────┼────────────┼───────────────────┤\n",
       "│ embedding_1         │ (<span style=\"color: #00d7ff; text-decoration-color: #00d7ff\">None</span>, <span style=\"color: #00af00; text-decoration-color: #00af00\">1</span>, <span style=\"color: #00af00; text-decoration-color: #00af00\">2</span>)      │          <span style=\"color: #00af00; text-decoration-color: #00af00\">8</span> │ is_sso_userInput… │\n",
       "│ (<span style=\"color: #0087ff; text-decoration-color: #0087ff\">Embedding</span>)         │                   │            │                   │\n",
       "├─────────────────────┼───────────────────┼────────────┼───────────────────┤\n",
       "│ embedding_2         │ (<span style=\"color: #00d7ff; text-decoration-color: #00d7ff\">None</span>, <span style=\"color: #00af00; text-decoration-color: #00af00\">1</span>, <span style=\"color: #00af00; text-decoration-color: #00af00\">2</span>)      │         <span style=\"color: #00af00; text-decoration-color: #00af00\">10</span> │ genderInput[<span style=\"color: #00af00; text-decoration-color: #00af00\">0</span>][<span style=\"color: #00af00; text-decoration-color: #00af00\">0</span>] │\n",
       "│ (<span style=\"color: #0087ff; text-decoration-color: #0087ff\">Embedding</span>)         │                   │            │                   │\n",
       "├─────────────────────┼───────────────────┼────────────┼───────────────────┤\n",
       "│ embedding_3         │ (<span style=\"color: #00d7ff; text-decoration-color: #00d7ff\">None</span>, <span style=\"color: #00af00; text-decoration-color: #00af00\">1</span>, <span style=\"color: #00af00; text-decoration-color: #00af00\">2</span>)      │          <span style=\"color: #00af00; text-decoration-color: #00af00\">8</span> │ is_subscriberInp… │\n",
       "│ (<span style=\"color: #0087ff; text-decoration-color: #0087ff\">Embedding</span>)         │                   │            │                   │\n",
       "├─────────────────────┼───────────────────┼────────────┼───────────────────┤\n",
       "│ embedding_4         │ (<span style=\"color: #00d7ff; text-decoration-color: #00d7ff\">None</span>, <span style=\"color: #00af00; text-decoration-color: #00af00\">1</span>, <span style=\"color: #00af00; text-decoration-color: #00af00\">4</span>)      │         <span style=\"color: #00af00; text-decoration-color: #00af00\">36</span> │ weekdayInput[<span style=\"color: #00af00; text-decoration-color: #00af00\">0</span>][<span style=\"color: #00af00; text-decoration-color: #00af00\">…</span> │\n",
       "│ (<span style=\"color: #0087ff; text-decoration-color: #0087ff\">Embedding</span>)         │                   │            │                   │\n",
       "├─────────────────────┼───────────────────┼────────────┼───────────────────┤\n",
       "│ embedding_5         │ (<span style=\"color: #00d7ff; text-decoration-color: #00d7ff\">None</span>, <span style=\"color: #00af00; text-decoration-color: #00af00\">1</span>, <span style=\"color: #00af00; text-decoration-color: #00af00\">2</span>)      │          <span style=\"color: #00af00; text-decoration-color: #00af00\">8</span> │ premiumInput[<span style=\"color: #00af00; text-decoration-color: #00af00\">0</span>][<span style=\"color: #00af00; text-decoration-color: #00af00\">…</span> │\n",
       "│ (<span style=\"color: #0087ff; text-decoration-color: #0087ff\">Embedding</span>)         │                   │            │                   │\n",
       "├─────────────────────┼───────────────────┼────────────┼───────────────────┤\n",
       "│ embedding_6         │ (<span style=\"color: #00d7ff; text-decoration-color: #00d7ff\">None</span>, <span style=\"color: #00af00; text-decoration-color: #00af00\">1</span>, <span style=\"color: #00af00; text-decoration-color: #00af00\">8</span>)      │        <span style=\"color: #00af00; text-decoration-color: #00af00\">136</span> │ categoryInput[<span style=\"color: #00af00; text-decoration-color: #00af00\">0</span>]… │\n",
       "│ (<span style=\"color: #0087ff; text-decoration-color: #0087ff\">Embedding</span>)         │                   │            │                   │\n",
       "├─────────────────────┼───────────────────┼────────────┼───────────────────┤\n",
       "│ embedding_7         │ (<span style=\"color: #00d7ff; text-decoration-color: #00d7ff\">None</span>, <span style=\"color: #00af00; text-decoration-color: #00af00\">1</span>, <span style=\"color: #00af00; text-decoration-color: #00af00\">2</span>)      │         <span style=\"color: #00af00; text-decoration-color: #00af00\">10</span> │ sentiment_labelI… │\n",
       "│ (<span style=\"color: #0087ff; text-decoration-color: #0087ff\">Embedding</span>)         │                   │            │                   │\n",
       "├─────────────────────┼───────────────────┼────────────┼───────────────────┤\n",
       "│ embedding_8         │ (<span style=\"color: #00d7ff; text-decoration-color: #00d7ff\">None</span>, <span style=\"color: #00af00; text-decoration-color: #00af00\">1</span>, <span style=\"color: #00af00; text-decoration-color: #00af00\">2</span>)      │          <span style=\"color: #00af00; text-decoration-color: #00af00\">8</span> │ is_new_articleIn… │\n",
       "│ (<span style=\"color: #0087ff; text-decoration-color: #0087ff\">Embedding</span>)         │                   │            │                   │\n",
       "├─────────────────────┼───────────────────┼────────────┼───────────────────┤\n",
       "│ embedding_9         │ (<span style=\"color: #00d7ff; text-decoration-color: #00d7ff\">None</span>, <span style=\"color: #00af00; text-decoration-color: #00af00\">1</span>, <span style=\"color: #00af00; text-decoration-color: #00af00\">2</span>)      │          <span style=\"color: #00af00; text-decoration-color: #00af00\">8</span> │ is_already_seen_… │\n",
       "│ (<span style=\"color: #0087ff; text-decoration-color: #0087ff\">Embedding</span>)         │                   │            │                   │\n",
       "├─────────────────────┼───────────────────┼────────────┼───────────────────┤\n",
       "│ embedding_10        │ (<span style=\"color: #00d7ff; text-decoration-color: #00d7ff\">None</span>, <span style=\"color: #00af00; text-decoration-color: #00af00\">1</span>, <span style=\"color: #00af00; text-decoration-color: #00af00\">6</span>)      │         <span style=\"color: #00af00; text-decoration-color: #00af00\">72</span> │ MostFrequentCate… │\n",
       "│ (<span style=\"color: #0087ff; text-decoration-color: #0087ff\">Embedding</span>)         │                   │            │                   │\n",
       "├─────────────────────┼───────────────────┼────────────┼───────────────────┤\n",
       "│ embedding_11        │ (<span style=\"color: #00d7ff; text-decoration-color: #00d7ff\">None</span>, <span style=\"color: #00af00; text-decoration-color: #00af00\">1</span>, <span style=\"color: #00af00; text-decoration-color: #00af00\">4</span>)      │         <span style=\"color: #00af00; text-decoration-color: #00af00\">36</span> │ MostFrequentWeek… │\n",
       "│ (<span style=\"color: #0087ff; text-decoration-color: #0087ff\">Embedding</span>)         │                   │            │                   │\n",
       "├─────────────────────┼───────────────────┼────────────┼───────────────────┤\n",
       "│ embedding_12        │ (<span style=\"color: #00d7ff; text-decoration-color: #00d7ff\">None</span>, <span style=\"color: #00af00; text-decoration-color: #00af00\">1</span>, <span style=\"color: #00af00; text-decoration-color: #00af00\">2</span>)      │          <span style=\"color: #00af00; text-decoration-color: #00af00\">8</span> │ IsFavouriteCateg… │\n",
       "│ (<span style=\"color: #0087ff; text-decoration-color: #0087ff\">Embedding</span>)         │                   │            │                   │\n",
       "├─────────────────────┼───────────────────┼────────────┼───────────────────┤\n",
       "│ embedding_13        │ (<span style=\"color: #00d7ff; text-decoration-color: #00d7ff\">None</span>, <span style=\"color: #00af00; text-decoration-color: #00af00\">1</span>, <span style=\"color: #00af00; text-decoration-color: #00af00\">6</span>)      │         <span style=\"color: #00af00; text-decoration-color: #00af00\">72</span> │ article_typeInpu… │\n",
       "│ (<span style=\"color: #0087ff; text-decoration-color: #0087ff\">Embedding</span>)         │                   │            │                   │\n",
       "├─────────────────────┼───────────────────┼────────────┼───────────────────┤\n",
       "│ embedding_14        │ (<span style=\"color: #00d7ff; text-decoration-color: #00d7ff\">None</span>, <span style=\"color: #00af00; text-decoration-color: #00af00\">1</span>, <span style=\"color: #00af00; text-decoration-color: #00af00\">4</span>)      │         <span style=\"color: #00af00; text-decoration-color: #00af00\">32</span> │ postcodeInput[<span style=\"color: #00af00; text-decoration-color: #00af00\">0</span>]… │\n",
       "│ (<span style=\"color: #0087ff; text-decoration-color: #0087ff\">Embedding</span>)         │                   │            │                   │\n",
       "├─────────────────────┼───────────────────┼────────────┼───────────────────┤\n",
       "│ embedding_15        │ (<span style=\"color: #00d7ff; text-decoration-color: #00d7ff\">None</span>, <span style=\"color: #00af00; text-decoration-color: #00af00\">1</span>, <span style=\"color: #00af00; text-decoration-color: #00af00\">2</span>)      │          <span style=\"color: #00af00; text-decoration-color: #00af00\">8</span> │ Entity_PER_Prese… │\n",
       "│ (<span style=\"color: #0087ff; text-decoration-color: #0087ff\">Embedding</span>)         │                   │            │                   │\n",
       "├─────────────────────┼───────────────────┼────────────┼───────────────────┤\n",
       "│ embedding_16        │ (<span style=\"color: #00d7ff; text-decoration-color: #00d7ff\">None</span>, <span style=\"color: #00af00; text-decoration-color: #00af00\">1</span>, <span style=\"color: #00af00; text-decoration-color: #00af00\">2</span>)      │          <span style=\"color: #00af00; text-decoration-color: #00af00\">8</span> │ Entity_MISC_Pres… │\n",
       "│ (<span style=\"color: #0087ff; text-decoration-color: #0087ff\">Embedding</span>)         │                   │            │                   │\n",
       "├─────────────────────┼───────────────────┼────────────┼───────────────────┤\n",
       "│ embedding_17        │ (<span style=\"color: #00d7ff; text-decoration-color: #00d7ff\">None</span>, <span style=\"color: #00af00; text-decoration-color: #00af00\">1</span>, <span style=\"color: #00af00; text-decoration-color: #00af00\">2</span>)      │          <span style=\"color: #00af00; text-decoration-color: #00af00\">8</span> │ Entity_ORG_Prese… │\n",
       "│ (<span style=\"color: #0087ff; text-decoration-color: #0087ff\">Embedding</span>)         │                   │            │                   │\n",
       "├─────────────────────┼───────────────────┼────────────┼───────────────────┤\n",
       "│ embedding_18        │ (<span style=\"color: #00d7ff; text-decoration-color: #00d7ff\">None</span>, <span style=\"color: #00af00; text-decoration-color: #00af00\">1</span>, <span style=\"color: #00af00; text-decoration-color: #00af00\">2</span>)      │          <span style=\"color: #00af00; text-decoration-color: #00af00\">8</span> │ Entity_PROD_Pres… │\n",
       "│ (<span style=\"color: #0087ff; text-decoration-color: #0087ff\">Embedding</span>)         │                   │            │                   │\n",
       "├─────────────────────┼───────────────────┼────────────┼───────────────────┤\n",
       "│ embedding_19        │ (<span style=\"color: #00d7ff; text-decoration-color: #00d7ff\">None</span>, <span style=\"color: #00af00; text-decoration-color: #00af00\">1</span>, <span style=\"color: #00af00; text-decoration-color: #00af00\">2</span>)      │          <span style=\"color: #00af00; text-decoration-color: #00af00\">8</span> │ Entity_EVENT_Pre… │\n",
       "│ (<span style=\"color: #0087ff; text-decoration-color: #0087ff\">Embedding</span>)         │                   │            │                   │\n",
       "├─────────────────────┼───────────────────┼────────────┼───────────────────┤\n",
       "│ embedding_20        │ (<span style=\"color: #00d7ff; text-decoration-color: #00d7ff\">None</span>, <span style=\"color: #00af00; text-decoration-color: #00af00\">1</span>, <span style=\"color: #00af00; text-decoration-color: #00af00\">2</span>)      │          <span style=\"color: #00af00; text-decoration-color: #00af00\">8</span> │ Entity_LOC_Prese… │\n",
       "│ (<span style=\"color: #0087ff; text-decoration-color: #0087ff\">Embedding</span>)         │                   │            │                   │\n",
       "├─────────────────────┼───────────────────┼────────────┼───────────────────┤\n",
       "│ NumericInputNoise   │ (<span style=\"color: #00d7ff; text-decoration-color: #00d7ff\">None</span>, <span style=\"color: #00af00; text-decoration-color: #00af00\">273</span>)       │          <span style=\"color: #00af00; text-decoration-color: #00af00\">0</span> │ NumericInput[<span style=\"color: #00af00; text-decoration-color: #00af00\">0</span>][<span style=\"color: #00af00; text-decoration-color: #00af00\">…</span> │\n",
       "│ (<span style=\"color: #0087ff; text-decoration-color: #0087ff\">GaussianNoise</span>)     │                   │            │                   │\n",
       "├─────────────────────┼───────────────────┼────────────┼───────────────────┤\n",
       "│ flatten (<span style=\"color: #0087ff; text-decoration-color: #0087ff\">Flatten</span>)   │ (<span style=\"color: #00d7ff; text-decoration-color: #00d7ff\">None</span>, <span style=\"color: #00af00; text-decoration-color: #00af00\">2</span>)         │          <span style=\"color: #00af00; text-decoration-color: #00af00\">0</span> │ embedding[<span style=\"color: #00af00; text-decoration-color: #00af00\">0</span>][<span style=\"color: #00af00; text-decoration-color: #00af00\">0</span>]   │\n",
       "├─────────────────────┼───────────────────┼────────────┼───────────────────┤\n",
       "│ flatten_1 (<span style=\"color: #0087ff; text-decoration-color: #0087ff\">Flatten</span>) │ (<span style=\"color: #00d7ff; text-decoration-color: #00d7ff\">None</span>, <span style=\"color: #00af00; text-decoration-color: #00af00\">2</span>)         │          <span style=\"color: #00af00; text-decoration-color: #00af00\">0</span> │ embedding_1[<span style=\"color: #00af00; text-decoration-color: #00af00\">0</span>][<span style=\"color: #00af00; text-decoration-color: #00af00\">0</span>] │\n",
       "├─────────────────────┼───────────────────┼────────────┼───────────────────┤\n",
       "│ flatten_2 (<span style=\"color: #0087ff; text-decoration-color: #0087ff\">Flatten</span>) │ (<span style=\"color: #00d7ff; text-decoration-color: #00d7ff\">None</span>, <span style=\"color: #00af00; text-decoration-color: #00af00\">2</span>)         │          <span style=\"color: #00af00; text-decoration-color: #00af00\">0</span> │ embedding_2[<span style=\"color: #00af00; text-decoration-color: #00af00\">0</span>][<span style=\"color: #00af00; text-decoration-color: #00af00\">0</span>] │\n",
       "├─────────────────────┼───────────────────┼────────────┼───────────────────┤\n",
       "│ flatten_3 (<span style=\"color: #0087ff; text-decoration-color: #0087ff\">Flatten</span>) │ (<span style=\"color: #00d7ff; text-decoration-color: #00d7ff\">None</span>, <span style=\"color: #00af00; text-decoration-color: #00af00\">2</span>)         │          <span style=\"color: #00af00; text-decoration-color: #00af00\">0</span> │ embedding_3[<span style=\"color: #00af00; text-decoration-color: #00af00\">0</span>][<span style=\"color: #00af00; text-decoration-color: #00af00\">0</span>] │\n",
       "├─────────────────────┼───────────────────┼────────────┼───────────────────┤\n",
       "│ flatten_4 (<span style=\"color: #0087ff; text-decoration-color: #0087ff\">Flatten</span>) │ (<span style=\"color: #00d7ff; text-decoration-color: #00d7ff\">None</span>, <span style=\"color: #00af00; text-decoration-color: #00af00\">4</span>)         │          <span style=\"color: #00af00; text-decoration-color: #00af00\">0</span> │ embedding_4[<span style=\"color: #00af00; text-decoration-color: #00af00\">0</span>][<span style=\"color: #00af00; text-decoration-color: #00af00\">0</span>] │\n",
       "├─────────────────────┼───────────────────┼────────────┼───────────────────┤\n",
       "│ flatten_5 (<span style=\"color: #0087ff; text-decoration-color: #0087ff\">Flatten</span>) │ (<span style=\"color: #00d7ff; text-decoration-color: #00d7ff\">None</span>, <span style=\"color: #00af00; text-decoration-color: #00af00\">2</span>)         │          <span style=\"color: #00af00; text-decoration-color: #00af00\">0</span> │ embedding_5[<span style=\"color: #00af00; text-decoration-color: #00af00\">0</span>][<span style=\"color: #00af00; text-decoration-color: #00af00\">0</span>] │\n",
       "├─────────────────────┼───────────────────┼────────────┼───────────────────┤\n",
       "│ flatten_6 (<span style=\"color: #0087ff; text-decoration-color: #0087ff\">Flatten</span>) │ (<span style=\"color: #00d7ff; text-decoration-color: #00d7ff\">None</span>, <span style=\"color: #00af00; text-decoration-color: #00af00\">8</span>)         │          <span style=\"color: #00af00; text-decoration-color: #00af00\">0</span> │ embedding_6[<span style=\"color: #00af00; text-decoration-color: #00af00\">0</span>][<span style=\"color: #00af00; text-decoration-color: #00af00\">0</span>] │\n",
       "├─────────────────────┼───────────────────┼────────────┼───────────────────┤\n",
       "│ flatten_7 (<span style=\"color: #0087ff; text-decoration-color: #0087ff\">Flatten</span>) │ (<span style=\"color: #00d7ff; text-decoration-color: #00d7ff\">None</span>, <span style=\"color: #00af00; text-decoration-color: #00af00\">2</span>)         │          <span style=\"color: #00af00; text-decoration-color: #00af00\">0</span> │ embedding_7[<span style=\"color: #00af00; text-decoration-color: #00af00\">0</span>][<span style=\"color: #00af00; text-decoration-color: #00af00\">0</span>] │\n",
       "├─────────────────────┼───────────────────┼────────────┼───────────────────┤\n",
       "│ flatten_8 (<span style=\"color: #0087ff; text-decoration-color: #0087ff\">Flatten</span>) │ (<span style=\"color: #00d7ff; text-decoration-color: #00d7ff\">None</span>, <span style=\"color: #00af00; text-decoration-color: #00af00\">2</span>)         │          <span style=\"color: #00af00; text-decoration-color: #00af00\">0</span> │ embedding_8[<span style=\"color: #00af00; text-decoration-color: #00af00\">0</span>][<span style=\"color: #00af00; text-decoration-color: #00af00\">0</span>] │\n",
       "├─────────────────────┼───────────────────┼────────────┼───────────────────┤\n",
       "│ flatten_9 (<span style=\"color: #0087ff; text-decoration-color: #0087ff\">Flatten</span>) │ (<span style=\"color: #00d7ff; text-decoration-color: #00d7ff\">None</span>, <span style=\"color: #00af00; text-decoration-color: #00af00\">2</span>)         │          <span style=\"color: #00af00; text-decoration-color: #00af00\">0</span> │ embedding_9[<span style=\"color: #00af00; text-decoration-color: #00af00\">0</span>][<span style=\"color: #00af00; text-decoration-color: #00af00\">0</span>] │\n",
       "├─────────────────────┼───────────────────┼────────────┼───────────────────┤\n",
       "│ flatten_10          │ (<span style=\"color: #00d7ff; text-decoration-color: #00d7ff\">None</span>, <span style=\"color: #00af00; text-decoration-color: #00af00\">6</span>)         │          <span style=\"color: #00af00; text-decoration-color: #00af00\">0</span> │ embedding_10[<span style=\"color: #00af00; text-decoration-color: #00af00\">0</span>][<span style=\"color: #00af00; text-decoration-color: #00af00\">…</span> │\n",
       "│ (<span style=\"color: #0087ff; text-decoration-color: #0087ff\">Flatten</span>)           │                   │            │                   │\n",
       "├─────────────────────┼───────────────────┼────────────┼───────────────────┤\n",
       "│ flatten_11          │ (<span style=\"color: #00d7ff; text-decoration-color: #00d7ff\">None</span>, <span style=\"color: #00af00; text-decoration-color: #00af00\">4</span>)         │          <span style=\"color: #00af00; text-decoration-color: #00af00\">0</span> │ embedding_11[<span style=\"color: #00af00; text-decoration-color: #00af00\">0</span>][<span style=\"color: #00af00; text-decoration-color: #00af00\">…</span> │\n",
       "│ (<span style=\"color: #0087ff; text-decoration-color: #0087ff\">Flatten</span>)           │                   │            │                   │\n",
       "├─────────────────────┼───────────────────┼────────────┼───────────────────┤\n",
       "│ flatten_12          │ (<span style=\"color: #00d7ff; text-decoration-color: #00d7ff\">None</span>, <span style=\"color: #00af00; text-decoration-color: #00af00\">2</span>)         │          <span style=\"color: #00af00; text-decoration-color: #00af00\">0</span> │ embedding_12[<span style=\"color: #00af00; text-decoration-color: #00af00\">0</span>][<span style=\"color: #00af00; text-decoration-color: #00af00\">…</span> │\n",
       "│ (<span style=\"color: #0087ff; text-decoration-color: #0087ff\">Flatten</span>)           │                   │            │                   │\n",
       "├─────────────────────┼───────────────────┼────────────┼───────────────────┤\n",
       "│ flatten_13          │ (<span style=\"color: #00d7ff; text-decoration-color: #00d7ff\">None</span>, <span style=\"color: #00af00; text-decoration-color: #00af00\">6</span>)         │          <span style=\"color: #00af00; text-decoration-color: #00af00\">0</span> │ embedding_13[<span style=\"color: #00af00; text-decoration-color: #00af00\">0</span>][<span style=\"color: #00af00; text-decoration-color: #00af00\">…</span> │\n",
       "│ (<span style=\"color: #0087ff; text-decoration-color: #0087ff\">Flatten</span>)           │                   │            │                   │\n",
       "├─────────────────────┼───────────────────┼────────────┼───────────────────┤\n",
       "│ flatten_14          │ (<span style=\"color: #00d7ff; text-decoration-color: #00d7ff\">None</span>, <span style=\"color: #00af00; text-decoration-color: #00af00\">4</span>)         │          <span style=\"color: #00af00; text-decoration-color: #00af00\">0</span> │ embedding_14[<span style=\"color: #00af00; text-decoration-color: #00af00\">0</span>][<span style=\"color: #00af00; text-decoration-color: #00af00\">…</span> │\n",
       "│ (<span style=\"color: #0087ff; text-decoration-color: #0087ff\">Flatten</span>)           │                   │            │                   │\n",
       "├─────────────────────┼───────────────────┼────────────┼───────────────────┤\n",
       "│ flatten_15          │ (<span style=\"color: #00d7ff; text-decoration-color: #00d7ff\">None</span>, <span style=\"color: #00af00; text-decoration-color: #00af00\">2</span>)         │          <span style=\"color: #00af00; text-decoration-color: #00af00\">0</span> │ embedding_15[<span style=\"color: #00af00; text-decoration-color: #00af00\">0</span>][<span style=\"color: #00af00; text-decoration-color: #00af00\">…</span> │\n",
       "│ (<span style=\"color: #0087ff; text-decoration-color: #0087ff\">Flatten</span>)           │                   │            │                   │\n",
       "├─────────────────────┼───────────────────┼────────────┼───────────────────┤\n",
       "│ flatten_16          │ (<span style=\"color: #00d7ff; text-decoration-color: #00d7ff\">None</span>, <span style=\"color: #00af00; text-decoration-color: #00af00\">2</span>)         │          <span style=\"color: #00af00; text-decoration-color: #00af00\">0</span> │ embedding_16[<span style=\"color: #00af00; text-decoration-color: #00af00\">0</span>][<span style=\"color: #00af00; text-decoration-color: #00af00\">…</span> │\n",
       "│ (<span style=\"color: #0087ff; text-decoration-color: #0087ff\">Flatten</span>)           │                   │            │                   │\n",
       "├─────────────────────┼───────────────────┼────────────┼───────────────────┤\n",
       "│ flatten_17          │ (<span style=\"color: #00d7ff; text-decoration-color: #00d7ff\">None</span>, <span style=\"color: #00af00; text-decoration-color: #00af00\">2</span>)         │          <span style=\"color: #00af00; text-decoration-color: #00af00\">0</span> │ embedding_17[<span style=\"color: #00af00; text-decoration-color: #00af00\">0</span>][<span style=\"color: #00af00; text-decoration-color: #00af00\">…</span> │\n",
       "│ (<span style=\"color: #0087ff; text-decoration-color: #0087ff\">Flatten</span>)           │                   │            │                   │\n",
       "├─────────────────────┼───────────────────┼────────────┼───────────────────┤\n",
       "│ flatten_18          │ (<span style=\"color: #00d7ff; text-decoration-color: #00d7ff\">None</span>, <span style=\"color: #00af00; text-decoration-color: #00af00\">2</span>)         │          <span style=\"color: #00af00; text-decoration-color: #00af00\">0</span> │ embedding_18[<span style=\"color: #00af00; text-decoration-color: #00af00\">0</span>][<span style=\"color: #00af00; text-decoration-color: #00af00\">…</span> │\n",
       "│ (<span style=\"color: #0087ff; text-decoration-color: #0087ff\">Flatten</span>)           │                   │            │                   │\n",
       "├─────────────────────┼───────────────────┼────────────┼───────────────────┤\n",
       "│ flatten_19          │ (<span style=\"color: #00d7ff; text-decoration-color: #00d7ff\">None</span>, <span style=\"color: #00af00; text-decoration-color: #00af00\">2</span>)         │          <span style=\"color: #00af00; text-decoration-color: #00af00\">0</span> │ embedding_19[<span style=\"color: #00af00; text-decoration-color: #00af00\">0</span>][<span style=\"color: #00af00; text-decoration-color: #00af00\">…</span> │\n",
       "│ (<span style=\"color: #0087ff; text-decoration-color: #0087ff\">Flatten</span>)           │                   │            │                   │\n",
       "├─────────────────────┼───────────────────┼────────────┼───────────────────┤\n",
       "│ flatten_20          │ (<span style=\"color: #00d7ff; text-decoration-color: #00d7ff\">None</span>, <span style=\"color: #00af00; text-decoration-color: #00af00\">2</span>)         │          <span style=\"color: #00af00; text-decoration-color: #00af00\">0</span> │ embedding_20[<span style=\"color: #00af00; text-decoration-color: #00af00\">0</span>][<span style=\"color: #00af00; text-decoration-color: #00af00\">…</span> │\n",
       "│ (<span style=\"color: #0087ff; text-decoration-color: #0087ff\">Flatten</span>)           │                   │            │                   │\n",
       "├─────────────────────┼───────────────────┼────────────┼───────────────────┤\n",
       "│ concatenate         │ (<span style=\"color: #00d7ff; text-decoration-color: #00d7ff\">None</span>, <span style=\"color: #00af00; text-decoration-color: #00af00\">335</span>)       │          <span style=\"color: #00af00; text-decoration-color: #00af00\">0</span> │ NumericInputNois… │\n",
       "│ (<span style=\"color: #0087ff; text-decoration-color: #0087ff\">Concatenate</span>)       │                   │            │ flatten[<span style=\"color: #00af00; text-decoration-color: #00af00\">0</span>][<span style=\"color: #00af00; text-decoration-color: #00af00\">0</span>],    │\n",
       "│                     │                   │            │ flatten_1[<span style=\"color: #00af00; text-decoration-color: #00af00\">0</span>][<span style=\"color: #00af00; text-decoration-color: #00af00\">0</span>],  │\n",
       "│                     │                   │            │ flatten_2[<span style=\"color: #00af00; text-decoration-color: #00af00\">0</span>][<span style=\"color: #00af00; text-decoration-color: #00af00\">0</span>],  │\n",
       "│                     │                   │            │ flatten_3[<span style=\"color: #00af00; text-decoration-color: #00af00\">0</span>][<span style=\"color: #00af00; text-decoration-color: #00af00\">0</span>],  │\n",
       "│                     │                   │            │ flatten_4[<span style=\"color: #00af00; text-decoration-color: #00af00\">0</span>][<span style=\"color: #00af00; text-decoration-color: #00af00\">0</span>],  │\n",
       "│                     │                   │            │ flatten_5[<span style=\"color: #00af00; text-decoration-color: #00af00\">0</span>][<span style=\"color: #00af00; text-decoration-color: #00af00\">0</span>],  │\n",
       "│                     │                   │            │ flatten_6[<span style=\"color: #00af00; text-decoration-color: #00af00\">0</span>][<span style=\"color: #00af00; text-decoration-color: #00af00\">0</span>],  │\n",
       "│                     │                   │            │ flatten_7[<span style=\"color: #00af00; text-decoration-color: #00af00\">0</span>][<span style=\"color: #00af00; text-decoration-color: #00af00\">0</span>],  │\n",
       "│                     │                   │            │ flatten_8[<span style=\"color: #00af00; text-decoration-color: #00af00\">0</span>][<span style=\"color: #00af00; text-decoration-color: #00af00\">0</span>],  │\n",
       "│                     │                   │            │ flatten_9[<span style=\"color: #00af00; text-decoration-color: #00af00\">0</span>][<span style=\"color: #00af00; text-decoration-color: #00af00\">0</span>],  │\n",
       "│                     │                   │            │ flatten_10[<span style=\"color: #00af00; text-decoration-color: #00af00\">0</span>][<span style=\"color: #00af00; text-decoration-color: #00af00\">0</span>], │\n",
       "│                     │                   │            │ flatten_11[<span style=\"color: #00af00; text-decoration-color: #00af00\">0</span>][<span style=\"color: #00af00; text-decoration-color: #00af00\">0</span>], │\n",
       "│                     │                   │            │ flatten_12[<span style=\"color: #00af00; text-decoration-color: #00af00\">0</span>][<span style=\"color: #00af00; text-decoration-color: #00af00\">0</span>], │\n",
       "│                     │                   │            │ flatten_13[<span style=\"color: #00af00; text-decoration-color: #00af00\">0</span>][<span style=\"color: #00af00; text-decoration-color: #00af00\">0</span>], │\n",
       "│                     │                   │            │ flatten_14[<span style=\"color: #00af00; text-decoration-color: #00af00\">0</span>][<span style=\"color: #00af00; text-decoration-color: #00af00\">0</span>], │\n",
       "│                     │                   │            │ flatten_15[<span style=\"color: #00af00; text-decoration-color: #00af00\">0</span>][<span style=\"color: #00af00; text-decoration-color: #00af00\">0</span>], │\n",
       "│                     │                   │            │ flatten_16[<span style=\"color: #00af00; text-decoration-color: #00af00\">0</span>][<span style=\"color: #00af00; text-decoration-color: #00af00\">0</span>], │\n",
       "│                     │                   │            │ flatten_17[<span style=\"color: #00af00; text-decoration-color: #00af00\">0</span>][<span style=\"color: #00af00; text-decoration-color: #00af00\">0</span>], │\n",
       "│                     │                   │            │ flatten_18[<span style=\"color: #00af00; text-decoration-color: #00af00\">0</span>][<span style=\"color: #00af00; text-decoration-color: #00af00\">0</span>], │\n",
       "│                     │                   │            │ flatten_19[<span style=\"color: #00af00; text-decoration-color: #00af00\">0</span>][<span style=\"color: #00af00; text-decoration-color: #00af00\">0</span>], │\n",
       "│                     │                   │            │ flatten_20[<span style=\"color: #00af00; text-decoration-color: #00af00\">0</span>][<span style=\"color: #00af00; text-decoration-color: #00af00\">0</span>]  │\n",
       "├─────────────────────┼───────────────────┼────────────┼───────────────────┤\n",
       "│ gated_feature_lear… │ (<span style=\"color: #00d7ff; text-decoration-color: #00d7ff\">None</span>, <span style=\"color: #00af00; text-decoration-color: #00af00\">335</span>)       │      <span style=\"color: #00af00; text-decoration-color: #00af00\">2,011</span> │ concatenate[<span style=\"color: #00af00; text-decoration-color: #00af00\">0</span>][<span style=\"color: #00af00; text-decoration-color: #00af00\">0</span>] │\n",
       "│ (<span style=\"color: #0087ff; text-decoration-color: #0087ff\">GatedFeatureLearn…</span> │                   │            │                   │\n",
       "├─────────────────────┼───────────────────┼────────────┼───────────────────┤\n",
       "│ batch_normalization │ (<span style=\"color: #00d7ff; text-decoration-color: #00d7ff\">None</span>, <span style=\"color: #00af00; text-decoration-color: #00af00\">335</span>)       │      <span style=\"color: #00af00; text-decoration-color: #00af00\">1,340</span> │ gated_feature_le… │\n",
       "│ (<span style=\"color: #0087ff; text-decoration-color: #0087ff\">BatchNormalizatio…</span> │                   │            │                   │\n",
       "├─────────────────────┼───────────────────┼────────────┼───────────────────┤\n",
       "│ dense (<span style=\"color: #0087ff; text-decoration-color: #0087ff\">Dense</span>)       │ (<span style=\"color: #00d7ff; text-decoration-color: #00d7ff\">None</span>, <span style=\"color: #00af00; text-decoration-color: #00af00\">128</span>)       │     <span style=\"color: #00af00; text-decoration-color: #00af00\">43,008</span> │ batch_normalizat… │\n",
       "├─────────────────────┼───────────────────┼────────────┼───────────────────┤\n",
       "│ batch_normalizatio… │ (<span style=\"color: #00d7ff; text-decoration-color: #00d7ff\">None</span>, <span style=\"color: #00af00; text-decoration-color: #00af00\">128</span>)       │        <span style=\"color: #00af00; text-decoration-color: #00af00\">512</span> │ dense[<span style=\"color: #00af00; text-decoration-color: #00af00\">0</span>][<span style=\"color: #00af00; text-decoration-color: #00af00\">0</span>]       │\n",
       "│ (<span style=\"color: #0087ff; text-decoration-color: #0087ff\">BatchNormalizatio…</span> │                   │            │                   │\n",
       "├─────────────────────┼───────────────────┼────────────┼───────────────────┤\n",
       "│ dropout (<span style=\"color: #0087ff; text-decoration-color: #0087ff\">Dropout</span>)   │ (<span style=\"color: #00d7ff; text-decoration-color: #00d7ff\">None</span>, <span style=\"color: #00af00; text-decoration-color: #00af00\">128</span>)       │          <span style=\"color: #00af00; text-decoration-color: #00af00\">0</span> │ batch_normalizat… │\n",
       "├─────────────────────┼───────────────────┼────────────┼───────────────────┤\n",
       "│ activation          │ (<span style=\"color: #00d7ff; text-decoration-color: #00d7ff\">None</span>, <span style=\"color: #00af00; text-decoration-color: #00af00\">128</span>)       │          <span style=\"color: #00af00; text-decoration-color: #00af00\">0</span> │ dropout[<span style=\"color: #00af00; text-decoration-color: #00af00\">0</span>][<span style=\"color: #00af00; text-decoration-color: #00af00\">0</span>]     │\n",
       "│ (<span style=\"color: #0087ff; text-decoration-color: #0087ff\">Activation</span>)        │                   │            │                   │\n",
       "├─────────────────────┼───────────────────┼────────────┼───────────────────┤\n",
       "│ dense_1 (<span style=\"color: #0087ff; text-decoration-color: #0087ff\">Dense</span>)     │ (<span style=\"color: #00d7ff; text-decoration-color: #00d7ff\">None</span>, <span style=\"color: #00af00; text-decoration-color: #00af00\">64</span>)        │      <span style=\"color: #00af00; text-decoration-color: #00af00\">8,256</span> │ activation[<span style=\"color: #00af00; text-decoration-color: #00af00\">0</span>][<span style=\"color: #00af00; text-decoration-color: #00af00\">0</span>]  │\n",
       "├─────────────────────┼───────────────────┼────────────┼───────────────────┤\n",
       "│ batch_normalizatio… │ (<span style=\"color: #00d7ff; text-decoration-color: #00d7ff\">None</span>, <span style=\"color: #00af00; text-decoration-color: #00af00\">64</span>)        │        <span style=\"color: #00af00; text-decoration-color: #00af00\">256</span> │ dense_1[<span style=\"color: #00af00; text-decoration-color: #00af00\">0</span>][<span style=\"color: #00af00; text-decoration-color: #00af00\">0</span>]     │\n",
       "│ (<span style=\"color: #0087ff; text-decoration-color: #0087ff\">BatchNormalizatio…</span> │                   │            │                   │\n",
       "├─────────────────────┼───────────────────┼────────────┼───────────────────┤\n",
       "│ dropout_1 (<span style=\"color: #0087ff; text-decoration-color: #0087ff\">Dropout</span>) │ (<span style=\"color: #00d7ff; text-decoration-color: #00d7ff\">None</span>, <span style=\"color: #00af00; text-decoration-color: #00af00\">64</span>)        │          <span style=\"color: #00af00; text-decoration-color: #00af00\">0</span> │ batch_normalizat… │\n",
       "├─────────────────────┼───────────────────┼────────────┼───────────────────┤\n",
       "│ activation_1        │ (<span style=\"color: #00d7ff; text-decoration-color: #00d7ff\">None</span>, <span style=\"color: #00af00; text-decoration-color: #00af00\">64</span>)        │          <span style=\"color: #00af00; text-decoration-color: #00af00\">0</span> │ dropout_1[<span style=\"color: #00af00; text-decoration-color: #00af00\">0</span>][<span style=\"color: #00af00; text-decoration-color: #00af00\">0</span>]   │\n",
       "│ (<span style=\"color: #0087ff; text-decoration-color: #0087ff\">Activation</span>)        │                   │            │                   │\n",
       "├─────────────────────┼───────────────────┼────────────┼───────────────────┤\n",
       "│ OutputDense (<span style=\"color: #0087ff; text-decoration-color: #0087ff\">Dense</span>) │ (<span style=\"color: #00d7ff; text-decoration-color: #00d7ff\">None</span>, <span style=\"color: #00af00; text-decoration-color: #00af00\">1</span>)         │         <span style=\"color: #00af00; text-decoration-color: #00af00\">65</span> │ activation_1[<span style=\"color: #00af00; text-decoration-color: #00af00\">0</span>][<span style=\"color: #00af00; text-decoration-color: #00af00\">…</span> │\n",
       "└─────────────────────┴───────────────────┴────────────┴───────────────────┘\n",
       "</pre>\n"
      ],
      "text/plain": [
       "┏━━━━━━━━━━━━━━━━━━━━━┳━━━━━━━━━━━━━━━━━━━┳━━━━━━━━━━━━┳━━━━━━━━━━━━━━━━━━━┓\n",
       "┃\u001b[1m \u001b[0m\u001b[1mLayer (type)       \u001b[0m\u001b[1m \u001b[0m┃\u001b[1m \u001b[0m\u001b[1mOutput Shape     \u001b[0m\u001b[1m \u001b[0m┃\u001b[1m \u001b[0m\u001b[1m   Param #\u001b[0m\u001b[1m \u001b[0m┃\u001b[1m \u001b[0m\u001b[1mConnected to     \u001b[0m\u001b[1m \u001b[0m┃\n",
       "┡━━━━━━━━━━━━━━━━━━━━━╇━━━━━━━━━━━━━━━━━━━╇━━━━━━━━━━━━╇━━━━━━━━━━━━━━━━━━━┩\n",
       "│ device_typeInput    │ (\u001b[38;5;45mNone\u001b[0m, \u001b[38;5;34m1\u001b[0m)         │          \u001b[38;5;34m0\u001b[0m │ -                 │\n",
       "│ (\u001b[38;5;33mInputLayer\u001b[0m)        │                   │            │                   │\n",
       "├─────────────────────┼───────────────────┼────────────┼───────────────────┤\n",
       "│ is_sso_userInput    │ (\u001b[38;5;45mNone\u001b[0m, \u001b[38;5;34m1\u001b[0m)         │          \u001b[38;5;34m0\u001b[0m │ -                 │\n",
       "│ (\u001b[38;5;33mInputLayer\u001b[0m)        │                   │            │                   │\n",
       "├─────────────────────┼───────────────────┼────────────┼───────────────────┤\n",
       "│ genderInput         │ (\u001b[38;5;45mNone\u001b[0m, \u001b[38;5;34m1\u001b[0m)         │          \u001b[38;5;34m0\u001b[0m │ -                 │\n",
       "│ (\u001b[38;5;33mInputLayer\u001b[0m)        │                   │            │                   │\n",
       "├─────────────────────┼───────────────────┼────────────┼───────────────────┤\n",
       "│ is_subscriberInput  │ (\u001b[38;5;45mNone\u001b[0m, \u001b[38;5;34m1\u001b[0m)         │          \u001b[38;5;34m0\u001b[0m │ -                 │\n",
       "│ (\u001b[38;5;33mInputLayer\u001b[0m)        │                   │            │                   │\n",
       "├─────────────────────┼───────────────────┼────────────┼───────────────────┤\n",
       "│ weekdayInput        │ (\u001b[38;5;45mNone\u001b[0m, \u001b[38;5;34m1\u001b[0m)         │          \u001b[38;5;34m0\u001b[0m │ -                 │\n",
       "│ (\u001b[38;5;33mInputLayer\u001b[0m)        │                   │            │                   │\n",
       "├─────────────────────┼───────────────────┼────────────┼───────────────────┤\n",
       "│ premiumInput        │ (\u001b[38;5;45mNone\u001b[0m, \u001b[38;5;34m1\u001b[0m)         │          \u001b[38;5;34m0\u001b[0m │ -                 │\n",
       "│ (\u001b[38;5;33mInputLayer\u001b[0m)        │                   │            │                   │\n",
       "├─────────────────────┼───────────────────┼────────────┼───────────────────┤\n",
       "│ categoryInput       │ (\u001b[38;5;45mNone\u001b[0m, \u001b[38;5;34m1\u001b[0m)         │          \u001b[38;5;34m0\u001b[0m │ -                 │\n",
       "│ (\u001b[38;5;33mInputLayer\u001b[0m)        │                   │            │                   │\n",
       "├─────────────────────┼───────────────────┼────────────┼───────────────────┤\n",
       "│ sentiment_labelInp… │ (\u001b[38;5;45mNone\u001b[0m, \u001b[38;5;34m1\u001b[0m)         │          \u001b[38;5;34m0\u001b[0m │ -                 │\n",
       "│ (\u001b[38;5;33mInputLayer\u001b[0m)        │                   │            │                   │\n",
       "├─────────────────────┼───────────────────┼────────────┼───────────────────┤\n",
       "│ is_new_articleInput │ (\u001b[38;5;45mNone\u001b[0m, \u001b[38;5;34m1\u001b[0m)         │          \u001b[38;5;34m0\u001b[0m │ -                 │\n",
       "│ (\u001b[38;5;33mInputLayer\u001b[0m)        │                   │            │                   │\n",
       "├─────────────────────┼───────────────────┼────────────┼───────────────────┤\n",
       "│ is_already_seen_ar… │ (\u001b[38;5;45mNone\u001b[0m, \u001b[38;5;34m1\u001b[0m)         │          \u001b[38;5;34m0\u001b[0m │ -                 │\n",
       "│ (\u001b[38;5;33mInputLayer\u001b[0m)        │                   │            │                   │\n",
       "├─────────────────────┼───────────────────┼────────────┼───────────────────┤\n",
       "│ MostFrequentCatego… │ (\u001b[38;5;45mNone\u001b[0m, \u001b[38;5;34m1\u001b[0m)         │          \u001b[38;5;34m0\u001b[0m │ -                 │\n",
       "│ (\u001b[38;5;33mInputLayer\u001b[0m)        │                   │            │                   │\n",
       "├─────────────────────┼───────────────────┼────────────┼───────────────────┤\n",
       "│ MostFrequentWeekda… │ (\u001b[38;5;45mNone\u001b[0m, \u001b[38;5;34m1\u001b[0m)         │          \u001b[38;5;34m0\u001b[0m │ -                 │\n",
       "│ (\u001b[38;5;33mInputLayer\u001b[0m)        │                   │            │                   │\n",
       "├─────────────────────┼───────────────────┼────────────┼───────────────────┤\n",
       "│ IsFavouriteCategor… │ (\u001b[38;5;45mNone\u001b[0m, \u001b[38;5;34m1\u001b[0m)         │          \u001b[38;5;34m0\u001b[0m │ -                 │\n",
       "│ (\u001b[38;5;33mInputLayer\u001b[0m)        │                   │            │                   │\n",
       "├─────────────────────┼───────────────────┼────────────┼───────────────────┤\n",
       "│ article_typeInput   │ (\u001b[38;5;45mNone\u001b[0m, \u001b[38;5;34m1\u001b[0m)         │          \u001b[38;5;34m0\u001b[0m │ -                 │\n",
       "│ (\u001b[38;5;33mInputLayer\u001b[0m)        │                   │            │                   │\n",
       "├─────────────────────┼───────────────────┼────────────┼───────────────────┤\n",
       "│ postcodeInput       │ (\u001b[38;5;45mNone\u001b[0m, \u001b[38;5;34m1\u001b[0m)         │          \u001b[38;5;34m0\u001b[0m │ -                 │\n",
       "│ (\u001b[38;5;33mInputLayer\u001b[0m)        │                   │            │                   │\n",
       "├─────────────────────┼───────────────────┼────────────┼───────────────────┤\n",
       "│ Entity_PER_Present… │ (\u001b[38;5;45mNone\u001b[0m, \u001b[38;5;34m1\u001b[0m)         │          \u001b[38;5;34m0\u001b[0m │ -                 │\n",
       "│ (\u001b[38;5;33mInputLayer\u001b[0m)        │                   │            │                   │\n",
       "├─────────────────────┼───────────────────┼────────────┼───────────────────┤\n",
       "│ Entity_MISC_Presen… │ (\u001b[38;5;45mNone\u001b[0m, \u001b[38;5;34m1\u001b[0m)         │          \u001b[38;5;34m0\u001b[0m │ -                 │\n",
       "│ (\u001b[38;5;33mInputLayer\u001b[0m)        │                   │            │                   │\n",
       "├─────────────────────┼───────────────────┼────────────┼───────────────────┤\n",
       "│ Entity_ORG_Present… │ (\u001b[38;5;45mNone\u001b[0m, \u001b[38;5;34m1\u001b[0m)         │          \u001b[38;5;34m0\u001b[0m │ -                 │\n",
       "│ (\u001b[38;5;33mInputLayer\u001b[0m)        │                   │            │                   │\n",
       "├─────────────────────┼───────────────────┼────────────┼───────────────────┤\n",
       "│ Entity_PROD_Presen… │ (\u001b[38;5;45mNone\u001b[0m, \u001b[38;5;34m1\u001b[0m)         │          \u001b[38;5;34m0\u001b[0m │ -                 │\n",
       "│ (\u001b[38;5;33mInputLayer\u001b[0m)        │                   │            │                   │\n",
       "├─────────────────────┼───────────────────┼────────────┼───────────────────┤\n",
       "│ Entity_EVENT_Prese… │ (\u001b[38;5;45mNone\u001b[0m, \u001b[38;5;34m1\u001b[0m)         │          \u001b[38;5;34m0\u001b[0m │ -                 │\n",
       "│ (\u001b[38;5;33mInputLayer\u001b[0m)        │                   │            │                   │\n",
       "├─────────────────────┼───────────────────┼────────────┼───────────────────┤\n",
       "│ Entity_LOC_Present… │ (\u001b[38;5;45mNone\u001b[0m, \u001b[38;5;34m1\u001b[0m)         │          \u001b[38;5;34m0\u001b[0m │ -                 │\n",
       "│ (\u001b[38;5;33mInputLayer\u001b[0m)        │                   │            │                   │\n",
       "├─────────────────────┼───────────────────┼────────────┼───────────────────┤\n",
       "│ NumericInput        │ (\u001b[38;5;45mNone\u001b[0m, \u001b[38;5;34m273\u001b[0m)       │          \u001b[38;5;34m0\u001b[0m │ -                 │\n",
       "│ (\u001b[38;5;33mInputLayer\u001b[0m)        │                   │            │                   │\n",
       "├─────────────────────┼───────────────────┼────────────┼───────────────────┤\n",
       "│ embedding           │ (\u001b[38;5;45mNone\u001b[0m, \u001b[38;5;34m1\u001b[0m, \u001b[38;5;34m2\u001b[0m)      │         \u001b[38;5;34m10\u001b[0m │ device_typeInput… │\n",
       "│ (\u001b[38;5;33mEmbedding\u001b[0m)         │                   │            │                   │\n",
       "├─────────────────────┼───────────────────┼────────────┼───────────────────┤\n",
       "│ embedding_1         │ (\u001b[38;5;45mNone\u001b[0m, \u001b[38;5;34m1\u001b[0m, \u001b[38;5;34m2\u001b[0m)      │          \u001b[38;5;34m8\u001b[0m │ is_sso_userInput… │\n",
       "│ (\u001b[38;5;33mEmbedding\u001b[0m)         │                   │            │                   │\n",
       "├─────────────────────┼───────────────────┼────────────┼───────────────────┤\n",
       "│ embedding_2         │ (\u001b[38;5;45mNone\u001b[0m, \u001b[38;5;34m1\u001b[0m, \u001b[38;5;34m2\u001b[0m)      │         \u001b[38;5;34m10\u001b[0m │ genderInput[\u001b[38;5;34m0\u001b[0m][\u001b[38;5;34m0\u001b[0m] │\n",
       "│ (\u001b[38;5;33mEmbedding\u001b[0m)         │                   │            │                   │\n",
       "├─────────────────────┼───────────────────┼────────────┼───────────────────┤\n",
       "│ embedding_3         │ (\u001b[38;5;45mNone\u001b[0m, \u001b[38;5;34m1\u001b[0m, \u001b[38;5;34m2\u001b[0m)      │          \u001b[38;5;34m8\u001b[0m │ is_subscriberInp… │\n",
       "│ (\u001b[38;5;33mEmbedding\u001b[0m)         │                   │            │                   │\n",
       "├─────────────────────┼───────────────────┼────────────┼───────────────────┤\n",
       "│ embedding_4         │ (\u001b[38;5;45mNone\u001b[0m, \u001b[38;5;34m1\u001b[0m, \u001b[38;5;34m4\u001b[0m)      │         \u001b[38;5;34m36\u001b[0m │ weekdayInput[\u001b[38;5;34m0\u001b[0m][\u001b[38;5;34m…\u001b[0m │\n",
       "│ (\u001b[38;5;33mEmbedding\u001b[0m)         │                   │            │                   │\n",
       "├─────────────────────┼───────────────────┼────────────┼───────────────────┤\n",
       "│ embedding_5         │ (\u001b[38;5;45mNone\u001b[0m, \u001b[38;5;34m1\u001b[0m, \u001b[38;5;34m2\u001b[0m)      │          \u001b[38;5;34m8\u001b[0m │ premiumInput[\u001b[38;5;34m0\u001b[0m][\u001b[38;5;34m…\u001b[0m │\n",
       "│ (\u001b[38;5;33mEmbedding\u001b[0m)         │                   │            │                   │\n",
       "├─────────────────────┼───────────────────┼────────────┼───────────────────┤\n",
       "│ embedding_6         │ (\u001b[38;5;45mNone\u001b[0m, \u001b[38;5;34m1\u001b[0m, \u001b[38;5;34m8\u001b[0m)      │        \u001b[38;5;34m136\u001b[0m │ categoryInput[\u001b[38;5;34m0\u001b[0m]… │\n",
       "│ (\u001b[38;5;33mEmbedding\u001b[0m)         │                   │            │                   │\n",
       "├─────────────────────┼───────────────────┼────────────┼───────────────────┤\n",
       "│ embedding_7         │ (\u001b[38;5;45mNone\u001b[0m, \u001b[38;5;34m1\u001b[0m, \u001b[38;5;34m2\u001b[0m)      │         \u001b[38;5;34m10\u001b[0m │ sentiment_labelI… │\n",
       "│ (\u001b[38;5;33mEmbedding\u001b[0m)         │                   │            │                   │\n",
       "├─────────────────────┼───────────────────┼────────────┼───────────────────┤\n",
       "│ embedding_8         │ (\u001b[38;5;45mNone\u001b[0m, \u001b[38;5;34m1\u001b[0m, \u001b[38;5;34m2\u001b[0m)      │          \u001b[38;5;34m8\u001b[0m │ is_new_articleIn… │\n",
       "│ (\u001b[38;5;33mEmbedding\u001b[0m)         │                   │            │                   │\n",
       "├─────────────────────┼───────────────────┼────────────┼───────────────────┤\n",
       "│ embedding_9         │ (\u001b[38;5;45mNone\u001b[0m, \u001b[38;5;34m1\u001b[0m, \u001b[38;5;34m2\u001b[0m)      │          \u001b[38;5;34m8\u001b[0m │ is_already_seen_… │\n",
       "│ (\u001b[38;5;33mEmbedding\u001b[0m)         │                   │            │                   │\n",
       "├─────────────────────┼───────────────────┼────────────┼───────────────────┤\n",
       "│ embedding_10        │ (\u001b[38;5;45mNone\u001b[0m, \u001b[38;5;34m1\u001b[0m, \u001b[38;5;34m6\u001b[0m)      │         \u001b[38;5;34m72\u001b[0m │ MostFrequentCate… │\n",
       "│ (\u001b[38;5;33mEmbedding\u001b[0m)         │                   │            │                   │\n",
       "├─────────────────────┼───────────────────┼────────────┼───────────────────┤\n",
       "│ embedding_11        │ (\u001b[38;5;45mNone\u001b[0m, \u001b[38;5;34m1\u001b[0m, \u001b[38;5;34m4\u001b[0m)      │         \u001b[38;5;34m36\u001b[0m │ MostFrequentWeek… │\n",
       "│ (\u001b[38;5;33mEmbedding\u001b[0m)         │                   │            │                   │\n",
       "├─────────────────────┼───────────────────┼────────────┼───────────────────┤\n",
       "│ embedding_12        │ (\u001b[38;5;45mNone\u001b[0m, \u001b[38;5;34m1\u001b[0m, \u001b[38;5;34m2\u001b[0m)      │          \u001b[38;5;34m8\u001b[0m │ IsFavouriteCateg… │\n",
       "│ (\u001b[38;5;33mEmbedding\u001b[0m)         │                   │            │                   │\n",
       "├─────────────────────┼───────────────────┼────────────┼───────────────────┤\n",
       "│ embedding_13        │ (\u001b[38;5;45mNone\u001b[0m, \u001b[38;5;34m1\u001b[0m, \u001b[38;5;34m6\u001b[0m)      │         \u001b[38;5;34m72\u001b[0m │ article_typeInpu… │\n",
       "│ (\u001b[38;5;33mEmbedding\u001b[0m)         │                   │            │                   │\n",
       "├─────────────────────┼───────────────────┼────────────┼───────────────────┤\n",
       "│ embedding_14        │ (\u001b[38;5;45mNone\u001b[0m, \u001b[38;5;34m1\u001b[0m, \u001b[38;5;34m4\u001b[0m)      │         \u001b[38;5;34m32\u001b[0m │ postcodeInput[\u001b[38;5;34m0\u001b[0m]… │\n",
       "│ (\u001b[38;5;33mEmbedding\u001b[0m)         │                   │            │                   │\n",
       "├─────────────────────┼───────────────────┼────────────┼───────────────────┤\n",
       "│ embedding_15        │ (\u001b[38;5;45mNone\u001b[0m, \u001b[38;5;34m1\u001b[0m, \u001b[38;5;34m2\u001b[0m)      │          \u001b[38;5;34m8\u001b[0m │ Entity_PER_Prese… │\n",
       "│ (\u001b[38;5;33mEmbedding\u001b[0m)         │                   │            │                   │\n",
       "├─────────────────────┼───────────────────┼────────────┼───────────────────┤\n",
       "│ embedding_16        │ (\u001b[38;5;45mNone\u001b[0m, \u001b[38;5;34m1\u001b[0m, \u001b[38;5;34m2\u001b[0m)      │          \u001b[38;5;34m8\u001b[0m │ Entity_MISC_Pres… │\n",
       "│ (\u001b[38;5;33mEmbedding\u001b[0m)         │                   │            │                   │\n",
       "├─────────────────────┼───────────────────┼────────────┼───────────────────┤\n",
       "│ embedding_17        │ (\u001b[38;5;45mNone\u001b[0m, \u001b[38;5;34m1\u001b[0m, \u001b[38;5;34m2\u001b[0m)      │          \u001b[38;5;34m8\u001b[0m │ Entity_ORG_Prese… │\n",
       "│ (\u001b[38;5;33mEmbedding\u001b[0m)         │                   │            │                   │\n",
       "├─────────────────────┼───────────────────┼────────────┼───────────────────┤\n",
       "│ embedding_18        │ (\u001b[38;5;45mNone\u001b[0m, \u001b[38;5;34m1\u001b[0m, \u001b[38;5;34m2\u001b[0m)      │          \u001b[38;5;34m8\u001b[0m │ Entity_PROD_Pres… │\n",
       "│ (\u001b[38;5;33mEmbedding\u001b[0m)         │                   │            │                   │\n",
       "├─────────────────────┼───────────────────┼────────────┼───────────────────┤\n",
       "│ embedding_19        │ (\u001b[38;5;45mNone\u001b[0m, \u001b[38;5;34m1\u001b[0m, \u001b[38;5;34m2\u001b[0m)      │          \u001b[38;5;34m8\u001b[0m │ Entity_EVENT_Pre… │\n",
       "│ (\u001b[38;5;33mEmbedding\u001b[0m)         │                   │            │                   │\n",
       "├─────────────────────┼───────────────────┼────────────┼───────────────────┤\n",
       "│ embedding_20        │ (\u001b[38;5;45mNone\u001b[0m, \u001b[38;5;34m1\u001b[0m, \u001b[38;5;34m2\u001b[0m)      │          \u001b[38;5;34m8\u001b[0m │ Entity_LOC_Prese… │\n",
       "│ (\u001b[38;5;33mEmbedding\u001b[0m)         │                   │            │                   │\n",
       "├─────────────────────┼───────────────────┼────────────┼───────────────────┤\n",
       "│ NumericInputNoise   │ (\u001b[38;5;45mNone\u001b[0m, \u001b[38;5;34m273\u001b[0m)       │          \u001b[38;5;34m0\u001b[0m │ NumericInput[\u001b[38;5;34m0\u001b[0m][\u001b[38;5;34m…\u001b[0m │\n",
       "│ (\u001b[38;5;33mGaussianNoise\u001b[0m)     │                   │            │                   │\n",
       "├─────────────────────┼───────────────────┼────────────┼───────────────────┤\n",
       "│ flatten (\u001b[38;5;33mFlatten\u001b[0m)   │ (\u001b[38;5;45mNone\u001b[0m, \u001b[38;5;34m2\u001b[0m)         │          \u001b[38;5;34m0\u001b[0m │ embedding[\u001b[38;5;34m0\u001b[0m][\u001b[38;5;34m0\u001b[0m]   │\n",
       "├─────────────────────┼───────────────────┼────────────┼───────────────────┤\n",
       "│ flatten_1 (\u001b[38;5;33mFlatten\u001b[0m) │ (\u001b[38;5;45mNone\u001b[0m, \u001b[38;5;34m2\u001b[0m)         │          \u001b[38;5;34m0\u001b[0m │ embedding_1[\u001b[38;5;34m0\u001b[0m][\u001b[38;5;34m0\u001b[0m] │\n",
       "├─────────────────────┼───────────────────┼────────────┼───────────────────┤\n",
       "│ flatten_2 (\u001b[38;5;33mFlatten\u001b[0m) │ (\u001b[38;5;45mNone\u001b[0m, \u001b[38;5;34m2\u001b[0m)         │          \u001b[38;5;34m0\u001b[0m │ embedding_2[\u001b[38;5;34m0\u001b[0m][\u001b[38;5;34m0\u001b[0m] │\n",
       "├─────────────────────┼───────────────────┼────────────┼───────────────────┤\n",
       "│ flatten_3 (\u001b[38;5;33mFlatten\u001b[0m) │ (\u001b[38;5;45mNone\u001b[0m, \u001b[38;5;34m2\u001b[0m)         │          \u001b[38;5;34m0\u001b[0m │ embedding_3[\u001b[38;5;34m0\u001b[0m][\u001b[38;5;34m0\u001b[0m] │\n",
       "├─────────────────────┼───────────────────┼────────────┼───────────────────┤\n",
       "│ flatten_4 (\u001b[38;5;33mFlatten\u001b[0m) │ (\u001b[38;5;45mNone\u001b[0m, \u001b[38;5;34m4\u001b[0m)         │          \u001b[38;5;34m0\u001b[0m │ embedding_4[\u001b[38;5;34m0\u001b[0m][\u001b[38;5;34m0\u001b[0m] │\n",
       "├─────────────────────┼───────────────────┼────────────┼───────────────────┤\n",
       "│ flatten_5 (\u001b[38;5;33mFlatten\u001b[0m) │ (\u001b[38;5;45mNone\u001b[0m, \u001b[38;5;34m2\u001b[0m)         │          \u001b[38;5;34m0\u001b[0m │ embedding_5[\u001b[38;5;34m0\u001b[0m][\u001b[38;5;34m0\u001b[0m] │\n",
       "├─────────────────────┼───────────────────┼────────────┼───────────────────┤\n",
       "│ flatten_6 (\u001b[38;5;33mFlatten\u001b[0m) │ (\u001b[38;5;45mNone\u001b[0m, \u001b[38;5;34m8\u001b[0m)         │          \u001b[38;5;34m0\u001b[0m │ embedding_6[\u001b[38;5;34m0\u001b[0m][\u001b[38;5;34m0\u001b[0m] │\n",
       "├─────────────────────┼───────────────────┼────────────┼───────────────────┤\n",
       "│ flatten_7 (\u001b[38;5;33mFlatten\u001b[0m) │ (\u001b[38;5;45mNone\u001b[0m, \u001b[38;5;34m2\u001b[0m)         │          \u001b[38;5;34m0\u001b[0m │ embedding_7[\u001b[38;5;34m0\u001b[0m][\u001b[38;5;34m0\u001b[0m] │\n",
       "├─────────────────────┼───────────────────┼────────────┼───────────────────┤\n",
       "│ flatten_8 (\u001b[38;5;33mFlatten\u001b[0m) │ (\u001b[38;5;45mNone\u001b[0m, \u001b[38;5;34m2\u001b[0m)         │          \u001b[38;5;34m0\u001b[0m │ embedding_8[\u001b[38;5;34m0\u001b[0m][\u001b[38;5;34m0\u001b[0m] │\n",
       "├─────────────────────┼───────────────────┼────────────┼───────────────────┤\n",
       "│ flatten_9 (\u001b[38;5;33mFlatten\u001b[0m) │ (\u001b[38;5;45mNone\u001b[0m, \u001b[38;5;34m2\u001b[0m)         │          \u001b[38;5;34m0\u001b[0m │ embedding_9[\u001b[38;5;34m0\u001b[0m][\u001b[38;5;34m0\u001b[0m] │\n",
       "├─────────────────────┼───────────────────┼────────────┼───────────────────┤\n",
       "│ flatten_10          │ (\u001b[38;5;45mNone\u001b[0m, \u001b[38;5;34m6\u001b[0m)         │          \u001b[38;5;34m0\u001b[0m │ embedding_10[\u001b[38;5;34m0\u001b[0m][\u001b[38;5;34m…\u001b[0m │\n",
       "│ (\u001b[38;5;33mFlatten\u001b[0m)           │                   │            │                   │\n",
       "├─────────────────────┼───────────────────┼────────────┼───────────────────┤\n",
       "│ flatten_11          │ (\u001b[38;5;45mNone\u001b[0m, \u001b[38;5;34m4\u001b[0m)         │          \u001b[38;5;34m0\u001b[0m │ embedding_11[\u001b[38;5;34m0\u001b[0m][\u001b[38;5;34m…\u001b[0m │\n",
       "│ (\u001b[38;5;33mFlatten\u001b[0m)           │                   │            │                   │\n",
       "├─────────────────────┼───────────────────┼────────────┼───────────────────┤\n",
       "│ flatten_12          │ (\u001b[38;5;45mNone\u001b[0m, \u001b[38;5;34m2\u001b[0m)         │          \u001b[38;5;34m0\u001b[0m │ embedding_12[\u001b[38;5;34m0\u001b[0m][\u001b[38;5;34m…\u001b[0m │\n",
       "│ (\u001b[38;5;33mFlatten\u001b[0m)           │                   │            │                   │\n",
       "├─────────────────────┼───────────────────┼────────────┼───────────────────┤\n",
       "│ flatten_13          │ (\u001b[38;5;45mNone\u001b[0m, \u001b[38;5;34m6\u001b[0m)         │          \u001b[38;5;34m0\u001b[0m │ embedding_13[\u001b[38;5;34m0\u001b[0m][\u001b[38;5;34m…\u001b[0m │\n",
       "│ (\u001b[38;5;33mFlatten\u001b[0m)           │                   │            │                   │\n",
       "├─────────────────────┼───────────────────┼────────────┼───────────────────┤\n",
       "│ flatten_14          │ (\u001b[38;5;45mNone\u001b[0m, \u001b[38;5;34m4\u001b[0m)         │          \u001b[38;5;34m0\u001b[0m │ embedding_14[\u001b[38;5;34m0\u001b[0m][\u001b[38;5;34m…\u001b[0m │\n",
       "│ (\u001b[38;5;33mFlatten\u001b[0m)           │                   │            │                   │\n",
       "├─────────────────────┼───────────────────┼────────────┼───────────────────┤\n",
       "│ flatten_15          │ (\u001b[38;5;45mNone\u001b[0m, \u001b[38;5;34m2\u001b[0m)         │          \u001b[38;5;34m0\u001b[0m │ embedding_15[\u001b[38;5;34m0\u001b[0m][\u001b[38;5;34m…\u001b[0m │\n",
       "│ (\u001b[38;5;33mFlatten\u001b[0m)           │                   │            │                   │\n",
       "├─────────────────────┼───────────────────┼────────────┼───────────────────┤\n",
       "│ flatten_16          │ (\u001b[38;5;45mNone\u001b[0m, \u001b[38;5;34m2\u001b[0m)         │          \u001b[38;5;34m0\u001b[0m │ embedding_16[\u001b[38;5;34m0\u001b[0m][\u001b[38;5;34m…\u001b[0m │\n",
       "│ (\u001b[38;5;33mFlatten\u001b[0m)           │                   │            │                   │\n",
       "├─────────────────────┼───────────────────┼────────────┼───────────────────┤\n",
       "│ flatten_17          │ (\u001b[38;5;45mNone\u001b[0m, \u001b[38;5;34m2\u001b[0m)         │          \u001b[38;5;34m0\u001b[0m │ embedding_17[\u001b[38;5;34m0\u001b[0m][\u001b[38;5;34m…\u001b[0m │\n",
       "│ (\u001b[38;5;33mFlatten\u001b[0m)           │                   │            │                   │\n",
       "├─────────────────────┼───────────────────┼────────────┼───────────────────┤\n",
       "│ flatten_18          │ (\u001b[38;5;45mNone\u001b[0m, \u001b[38;5;34m2\u001b[0m)         │          \u001b[38;5;34m0\u001b[0m │ embedding_18[\u001b[38;5;34m0\u001b[0m][\u001b[38;5;34m…\u001b[0m │\n",
       "│ (\u001b[38;5;33mFlatten\u001b[0m)           │                   │            │                   │\n",
       "├─────────────────────┼───────────────────┼────────────┼───────────────────┤\n",
       "│ flatten_19          │ (\u001b[38;5;45mNone\u001b[0m, \u001b[38;5;34m2\u001b[0m)         │          \u001b[38;5;34m0\u001b[0m │ embedding_19[\u001b[38;5;34m0\u001b[0m][\u001b[38;5;34m…\u001b[0m │\n",
       "│ (\u001b[38;5;33mFlatten\u001b[0m)           │                   │            │                   │\n",
       "├─────────────────────┼───────────────────┼────────────┼───────────────────┤\n",
       "│ flatten_20          │ (\u001b[38;5;45mNone\u001b[0m, \u001b[38;5;34m2\u001b[0m)         │          \u001b[38;5;34m0\u001b[0m │ embedding_20[\u001b[38;5;34m0\u001b[0m][\u001b[38;5;34m…\u001b[0m │\n",
       "│ (\u001b[38;5;33mFlatten\u001b[0m)           │                   │            │                   │\n",
       "├─────────────────────┼───────────────────┼────────────┼───────────────────┤\n",
       "│ concatenate         │ (\u001b[38;5;45mNone\u001b[0m, \u001b[38;5;34m335\u001b[0m)       │          \u001b[38;5;34m0\u001b[0m │ NumericInputNois… │\n",
       "│ (\u001b[38;5;33mConcatenate\u001b[0m)       │                   │            │ flatten[\u001b[38;5;34m0\u001b[0m][\u001b[38;5;34m0\u001b[0m],    │\n",
       "│                     │                   │            │ flatten_1[\u001b[38;5;34m0\u001b[0m][\u001b[38;5;34m0\u001b[0m],  │\n",
       "│                     │                   │            │ flatten_2[\u001b[38;5;34m0\u001b[0m][\u001b[38;5;34m0\u001b[0m],  │\n",
       "│                     │                   │            │ flatten_3[\u001b[38;5;34m0\u001b[0m][\u001b[38;5;34m0\u001b[0m],  │\n",
       "│                     │                   │            │ flatten_4[\u001b[38;5;34m0\u001b[0m][\u001b[38;5;34m0\u001b[0m],  │\n",
       "│                     │                   │            │ flatten_5[\u001b[38;5;34m0\u001b[0m][\u001b[38;5;34m0\u001b[0m],  │\n",
       "│                     │                   │            │ flatten_6[\u001b[38;5;34m0\u001b[0m][\u001b[38;5;34m0\u001b[0m],  │\n",
       "│                     │                   │            │ flatten_7[\u001b[38;5;34m0\u001b[0m][\u001b[38;5;34m0\u001b[0m],  │\n",
       "│                     │                   │            │ flatten_8[\u001b[38;5;34m0\u001b[0m][\u001b[38;5;34m0\u001b[0m],  │\n",
       "│                     │                   │            │ flatten_9[\u001b[38;5;34m0\u001b[0m][\u001b[38;5;34m0\u001b[0m],  │\n",
       "│                     │                   │            │ flatten_10[\u001b[38;5;34m0\u001b[0m][\u001b[38;5;34m0\u001b[0m], │\n",
       "│                     │                   │            │ flatten_11[\u001b[38;5;34m0\u001b[0m][\u001b[38;5;34m0\u001b[0m], │\n",
       "│                     │                   │            │ flatten_12[\u001b[38;5;34m0\u001b[0m][\u001b[38;5;34m0\u001b[0m], │\n",
       "│                     │                   │            │ flatten_13[\u001b[38;5;34m0\u001b[0m][\u001b[38;5;34m0\u001b[0m], │\n",
       "│                     │                   │            │ flatten_14[\u001b[38;5;34m0\u001b[0m][\u001b[38;5;34m0\u001b[0m], │\n",
       "│                     │                   │            │ flatten_15[\u001b[38;5;34m0\u001b[0m][\u001b[38;5;34m0\u001b[0m], │\n",
       "│                     │                   │            │ flatten_16[\u001b[38;5;34m0\u001b[0m][\u001b[38;5;34m0\u001b[0m], │\n",
       "│                     │                   │            │ flatten_17[\u001b[38;5;34m0\u001b[0m][\u001b[38;5;34m0\u001b[0m], │\n",
       "│                     │                   │            │ flatten_18[\u001b[38;5;34m0\u001b[0m][\u001b[38;5;34m0\u001b[0m], │\n",
       "│                     │                   │            │ flatten_19[\u001b[38;5;34m0\u001b[0m][\u001b[38;5;34m0\u001b[0m], │\n",
       "│                     │                   │            │ flatten_20[\u001b[38;5;34m0\u001b[0m][\u001b[38;5;34m0\u001b[0m]  │\n",
       "├─────────────────────┼───────────────────┼────────────┼───────────────────┤\n",
       "│ gated_feature_lear… │ (\u001b[38;5;45mNone\u001b[0m, \u001b[38;5;34m335\u001b[0m)       │      \u001b[38;5;34m2,011\u001b[0m │ concatenate[\u001b[38;5;34m0\u001b[0m][\u001b[38;5;34m0\u001b[0m] │\n",
       "│ (\u001b[38;5;33mGatedFeatureLearn…\u001b[0m │                   │            │                   │\n",
       "├─────────────────────┼───────────────────┼────────────┼───────────────────┤\n",
       "│ batch_normalization │ (\u001b[38;5;45mNone\u001b[0m, \u001b[38;5;34m335\u001b[0m)       │      \u001b[38;5;34m1,340\u001b[0m │ gated_feature_le… │\n",
       "│ (\u001b[38;5;33mBatchNormalizatio…\u001b[0m │                   │            │                   │\n",
       "├─────────────────────┼───────────────────┼────────────┼───────────────────┤\n",
       "│ dense (\u001b[38;5;33mDense\u001b[0m)       │ (\u001b[38;5;45mNone\u001b[0m, \u001b[38;5;34m128\u001b[0m)       │     \u001b[38;5;34m43,008\u001b[0m │ batch_normalizat… │\n",
       "├─────────────────────┼───────────────────┼────────────┼───────────────────┤\n",
       "│ batch_normalizatio… │ (\u001b[38;5;45mNone\u001b[0m, \u001b[38;5;34m128\u001b[0m)       │        \u001b[38;5;34m512\u001b[0m │ dense[\u001b[38;5;34m0\u001b[0m][\u001b[38;5;34m0\u001b[0m]       │\n",
       "│ (\u001b[38;5;33mBatchNormalizatio…\u001b[0m │                   │            │                   │\n",
       "├─────────────────────┼───────────────────┼────────────┼───────────────────┤\n",
       "│ dropout (\u001b[38;5;33mDropout\u001b[0m)   │ (\u001b[38;5;45mNone\u001b[0m, \u001b[38;5;34m128\u001b[0m)       │          \u001b[38;5;34m0\u001b[0m │ batch_normalizat… │\n",
       "├─────────────────────┼───────────────────┼────────────┼───────────────────┤\n",
       "│ activation          │ (\u001b[38;5;45mNone\u001b[0m, \u001b[38;5;34m128\u001b[0m)       │          \u001b[38;5;34m0\u001b[0m │ dropout[\u001b[38;5;34m0\u001b[0m][\u001b[38;5;34m0\u001b[0m]     │\n",
       "│ (\u001b[38;5;33mActivation\u001b[0m)        │                   │            │                   │\n",
       "├─────────────────────┼───────────────────┼────────────┼───────────────────┤\n",
       "│ dense_1 (\u001b[38;5;33mDense\u001b[0m)     │ (\u001b[38;5;45mNone\u001b[0m, \u001b[38;5;34m64\u001b[0m)        │      \u001b[38;5;34m8,256\u001b[0m │ activation[\u001b[38;5;34m0\u001b[0m][\u001b[38;5;34m0\u001b[0m]  │\n",
       "├─────────────────────┼───────────────────┼────────────┼───────────────────┤\n",
       "│ batch_normalizatio… │ (\u001b[38;5;45mNone\u001b[0m, \u001b[38;5;34m64\u001b[0m)        │        \u001b[38;5;34m256\u001b[0m │ dense_1[\u001b[38;5;34m0\u001b[0m][\u001b[38;5;34m0\u001b[0m]     │\n",
       "│ (\u001b[38;5;33mBatchNormalizatio…\u001b[0m │                   │            │                   │\n",
       "├─────────────────────┼───────────────────┼────────────┼───────────────────┤\n",
       "│ dropout_1 (\u001b[38;5;33mDropout\u001b[0m) │ (\u001b[38;5;45mNone\u001b[0m, \u001b[38;5;34m64\u001b[0m)        │          \u001b[38;5;34m0\u001b[0m │ batch_normalizat… │\n",
       "├─────────────────────┼───────────────────┼────────────┼───────────────────┤\n",
       "│ activation_1        │ (\u001b[38;5;45mNone\u001b[0m, \u001b[38;5;34m64\u001b[0m)        │          \u001b[38;5;34m0\u001b[0m │ dropout_1[\u001b[38;5;34m0\u001b[0m][\u001b[38;5;34m0\u001b[0m]   │\n",
       "│ (\u001b[38;5;33mActivation\u001b[0m)        │                   │            │                   │\n",
       "├─────────────────────┼───────────────────┼────────────┼───────────────────┤\n",
       "│ OutputDense (\u001b[38;5;33mDense\u001b[0m) │ (\u001b[38;5;45mNone\u001b[0m, \u001b[38;5;34m1\u001b[0m)         │         \u001b[38;5;34m65\u001b[0m │ activation_1[\u001b[38;5;34m0\u001b[0m][\u001b[38;5;34m…\u001b[0m │\n",
       "└─────────────────────┴───────────────────┴────────────┴───────────────────┘\n"
      ]
     },
     "metadata": {},
     "output_type": "display_data"
    },
    {
     "data": {
      "text/html": [
       "<pre style=\"white-space:pre;overflow-x:auto;line-height:normal;font-family:Menlo,'DejaVu Sans Mono',consolas,'Courier New',monospace\"><span style=\"font-weight: bold\"> Total params: </span><span style=\"color: #00af00; text-decoration-color: #00af00\">55,958</span> (218.59 KB)\n",
       "</pre>\n"
      ],
      "text/plain": [
       "\u001b[1m Total params: \u001b[0m\u001b[38;5;34m55,958\u001b[0m (218.59 KB)\n"
      ]
     },
     "metadata": {},
     "output_type": "display_data"
    },
    {
     "data": {
      "text/html": [
       "<pre style=\"white-space:pre;overflow-x:auto;line-height:normal;font-family:Menlo,'DejaVu Sans Mono',consolas,'Courier New',monospace\"><span style=\"font-weight: bold\"> Trainable params: </span><span style=\"color: #00af00; text-decoration-color: #00af00\">54,904</span> (214.47 KB)\n",
       "</pre>\n"
      ],
      "text/plain": [
       "\u001b[1m Trainable params: \u001b[0m\u001b[38;5;34m54,904\u001b[0m (214.47 KB)\n"
      ]
     },
     "metadata": {},
     "output_type": "display_data"
    },
    {
     "data": {
      "text/html": [
       "<pre style=\"white-space:pre;overflow-x:auto;line-height:normal;font-family:Menlo,'DejaVu Sans Mono',consolas,'Courier New',monospace\"><span style=\"font-weight: bold\"> Non-trainable params: </span><span style=\"color: #00af00; text-decoration-color: #00af00\">1,054</span> (4.12 KB)\n",
       "</pre>\n"
      ],
      "text/plain": [
       "\u001b[1m Non-trainable params: \u001b[0m\u001b[38;5;34m1,054\u001b[0m (4.12 KB)\n"
      ]
     },
     "metadata": {},
     "output_type": "display_data"
    }
   ],
   "source": [
    "model = create_gandalf_model(\n",
    "    numeric_input_shape=X_numerical.shape[1], \n",
    "    categorical_input_shape=X_categorical.shape[1],\n",
    "    use_categorical_embeddings=True,\n",
    "    max_categorical_embedding=50,\n",
    "    vocabulary_sizes=vocabulary_sizes, \n",
    "    add_gaussian_noise=True,\n",
    "    gaussian_noise_std=0.01,\n",
    "    n_stages=6, \n",
    "    n_head_layers=2, \n",
    "    start_units_head=128, \n",
    "    head_units_decay=2, \n",
    "    init_t=0.5,\n",
    "    l1_lambda=1e-4,\n",
    "    l2_lambda=1e-4,\n",
    "    dropout_rate=0.2,\n",
    "    learning_rate=1e-3,\n",
    "    weight_decay=5e-5,\n",
    "    seed=seed,\n",
    ")\n",
    "model.summary()"
   ]
  },
  {
   "cell_type": "code",
   "execution_count": 52,
   "id": "e8b11763",
   "metadata": {
    "execution": {
     "iopub.execute_input": "2024-05-19T11:13:29.868123Z",
     "iopub.status.busy": "2024-05-19T11:13:29.867661Z",
     "iopub.status.idle": "2024-05-19T13:07:37.954222Z",
     "shell.execute_reply": "2024-05-19T13:07:37.952615Z"
    },
    "papermill": {
     "duration": 6848.18353,
     "end_time": "2024-05-19T13:07:37.956883",
     "exception": false,
     "start_time": "2024-05-19T11:13:29.773353",
     "status": "completed"
    },
    "tags": []
   },
   "outputs": [
    {
     "name": "stdout",
     "output_type": "stream",
     "text": [
      "Epoch 1/20\n",
      "\u001b[1m2746/2746\u001b[0m \u001b[32m━━━━━━━━━━━━━━━━━━━━\u001b[0m\u001b[37m\u001b[0m \u001b[1m373s\u001b[0m 129ms/step - auc: 0.7897 - loss: 2.0206 - learning_rate: 0.0010\n",
      "Epoch 2/20\n",
      "\u001b[1m2746/2746\u001b[0m \u001b[32m━━━━━━━━━━━━━━━━━━━━\u001b[0m\u001b[37m\u001b[0m \u001b[1m333s\u001b[0m 121ms/step - auc: 0.8248 - loss: 0.5974 - learning_rate: 0.0010\n",
      "Epoch 3/20\n",
      "\u001b[1m2746/2746\u001b[0m \u001b[32m━━━━━━━━━━━━━━━━━━━━\u001b[0m\u001b[37m\u001b[0m \u001b[1m338s\u001b[0m 123ms/step - auc: 0.8316 - loss: 0.5729 - learning_rate: 9.0484e-04\n",
      "Epoch 4/20\n",
      "\u001b[1m2746/2746\u001b[0m \u001b[32m━━━━━━━━━━━━━━━━━━━━\u001b[0m\u001b[37m\u001b[0m \u001b[1m343s\u001b[0m 125ms/step - auc: 0.8348 - loss: 0.5575 - learning_rate: 8.1873e-04\n",
      "Epoch 5/20\n",
      "\u001b[1m2746/2746\u001b[0m \u001b[32m━━━━━━━━━━━━━━━━━━━━\u001b[0m\u001b[37m\u001b[0m \u001b[1m337s\u001b[0m 123ms/step - auc: 0.8378 - loss: 0.5463 - learning_rate: 7.4082e-04\n",
      "Epoch 6/20\n",
      "\u001b[1m2746/2746\u001b[0m \u001b[32m━━━━━━━━━━━━━━━━━━━━\u001b[0m\u001b[37m\u001b[0m \u001b[1m351s\u001b[0m 128ms/step - auc: 0.8400 - loss: 0.5375 - learning_rate: 6.7032e-04\n",
      "Epoch 7/20\n",
      "\u001b[1m2746/2746\u001b[0m \u001b[32m━━━━━━━━━━━━━━━━━━━━\u001b[0m\u001b[37m\u001b[0m \u001b[1m339s\u001b[0m 123ms/step - auc: 0.8416 - loss: 0.5304 - learning_rate: 6.0653e-04\n",
      "Epoch 8/20\n",
      "\u001b[1m2746/2746\u001b[0m \u001b[32m━━━━━━━━━━━━━━━━━━━━\u001b[0m\u001b[37m\u001b[0m \u001b[1m348s\u001b[0m 127ms/step - auc: 0.8436 - loss: 0.5238 - learning_rate: 5.4881e-04\n",
      "Epoch 9/20\n",
      "\u001b[1m2746/2746\u001b[0m \u001b[32m━━━━━━━━━━━━━━━━━━━━\u001b[0m\u001b[37m\u001b[0m \u001b[1m340s\u001b[0m 124ms/step - auc: 0.8448 - loss: 0.5178 - learning_rate: 4.9659e-04\n",
      "Epoch 10/20\n",
      "\u001b[1m2746/2746\u001b[0m \u001b[32m━━━━━━━━━━━━━━━━━━━━\u001b[0m\u001b[37m\u001b[0m \u001b[1m341s\u001b[0m 124ms/step - auc: 0.8460 - loss: 0.5125 - learning_rate: 4.4933e-04\n",
      "Epoch 11/20\n",
      "\u001b[1m2746/2746\u001b[0m \u001b[32m━━━━━━━━━━━━━━━━━━━━\u001b[0m\u001b[37m\u001b[0m \u001b[1m345s\u001b[0m 126ms/step - auc: 0.8472 - loss: 0.5080 - learning_rate: 4.0657e-04\n",
      "Epoch 12/20\n",
      "\u001b[1m2746/2746\u001b[0m \u001b[32m━━━━━━━━━━━━━━━━━━━━\u001b[0m\u001b[37m\u001b[0m \u001b[1m341s\u001b[0m 124ms/step - auc: 0.8484 - loss: 0.5034 - learning_rate: 3.6788e-04\n",
      "Epoch 13/20\n",
      "\u001b[1m2746/2746\u001b[0m \u001b[32m━━━━━━━━━━━━━━━━━━━━\u001b[0m\u001b[37m\u001b[0m \u001b[1m341s\u001b[0m 124ms/step - auc: 0.8498 - loss: 0.4990 - learning_rate: 3.3287e-04\n",
      "Epoch 14/20\n",
      "\u001b[1m2746/2746\u001b[0m \u001b[32m━━━━━━━━━━━━━━━━━━━━\u001b[0m\u001b[37m\u001b[0m \u001b[1m339s\u001b[0m 124ms/step - auc: 0.8507 - loss: 0.4950 - learning_rate: 3.0119e-04\n",
      "Epoch 15/20\n",
      "\u001b[1m2746/2746\u001b[0m \u001b[32m━━━━━━━━━━━━━━━━━━━━\u001b[0m\u001b[37m\u001b[0m \u001b[1m341s\u001b[0m 124ms/step - auc: 0.8517 - loss: 0.4915 - learning_rate: 2.7253e-04\n",
      "Epoch 16/20\n",
      "\u001b[1m2746/2746\u001b[0m \u001b[32m━━━━━━━━━━━━━━━━━━━━\u001b[0m\u001b[37m\u001b[0m \u001b[1m335s\u001b[0m 122ms/step - auc: 0.8528 - loss: 0.4876 - learning_rate: 2.4660e-04\n",
      "Epoch 17/20\n",
      "\u001b[1m2746/2746\u001b[0m \u001b[32m━━━━━━━━━━━━━━━━━━━━\u001b[0m\u001b[37m\u001b[0m \u001b[1m342s\u001b[0m 124ms/step - auc: 0.8536 - loss: 0.4847 - learning_rate: 2.2313e-04\n",
      "Epoch 18/20\n",
      "\u001b[1m2746/2746\u001b[0m \u001b[32m━━━━━━━━━━━━━━━━━━━━\u001b[0m\u001b[37m\u001b[0m \u001b[1m343s\u001b[0m 125ms/step - auc: 0.8545 - loss: 0.4816 - learning_rate: 2.0190e-04\n",
      "Epoch 19/20\n",
      "\u001b[1m2746/2746\u001b[0m \u001b[32m━━━━━━━━━━━━━━━━━━━━\u001b[0m\u001b[37m\u001b[0m \u001b[1m334s\u001b[0m 122ms/step - auc: 0.8554 - loss: 0.4785 - learning_rate: 1.8268e-04\n",
      "Epoch 20/20\n",
      "\u001b[1m2746/2746\u001b[0m \u001b[32m━━━━━━━━━━━━━━━━━━━━\u001b[0m\u001b[37m\u001b[0m \u001b[1m340s\u001b[0m 124ms/step - auc: 0.8561 - loss: 0.4760 - learning_rate: 1.6530e-04\n"
     ]
    },
    {
     "data": {
      "text/plain": [
       "<keras.src.callbacks.history.History at 0x7a8a0dc51630>"
      ]
     },
     "execution_count": 52,
     "metadata": {},
     "output_type": "execute_result"
    }
   ],
   "source": [
    "def scheduler(epoch, lr):\n",
    "    if epoch < 2 or lr <= 1e-5:\n",
    "        return lr\n",
    "    else:\n",
    "        return float(lr * tf.math.exp(-0.1))\n",
    "\n",
    "model.fit(\n",
    "    [X_numerical] + [X_categorical[:, i].reshape(-1, 1) for i in range(X_categorical.shape[1])],\n",
    "    y,\n",
    "    batch_size=256,\n",
    "    epochs=20,\n",
    "    callbacks=[\n",
    "        tfk.callbacks.LearningRateScheduler(scheduler),\n",
    "    ],\n",
    ")"
   ]
  },
  {
   "cell_type": "code",
   "execution_count": 53,
   "id": "48ad08ca",
   "metadata": {
    "execution": {
     "iopub.execute_input": "2024-05-19T13:07:49.518744Z",
     "iopub.status.busy": "2024-05-19T13:07:49.518206Z",
     "iopub.status.idle": "2024-05-19T13:07:50.110361Z",
     "shell.execute_reply": "2024-05-19T13:07:50.108994Z"
    },
    "papermill": {
     "duration": 6.452369,
     "end_time": "2024-05-19T13:07:50.112839",
     "exception": false,
     "start_time": "2024-05-19T13:07:43.660470",
     "status": "completed"
    },
    "tags": []
   },
   "outputs": [
    {
     "name": "stdout",
     "output_type": "stream",
     "text": [
      "\u001b[1m\u001b[31m\n",
      "RAM memory GB usage = 6.747\u001b[0m\n"
     ]
    }
   ],
   "source": [
    "del history_train\n",
    "del behaviors_train\n",
    "del X_numerical\n",
    "del X_categorical\n",
    "\n",
    "gc.collect()\n",
    "PrintColor(f\"\\n\" + GetMemUsage(), color = Fore.RED)"
   ]
  },
  {
   "cell_type": "markdown",
   "id": "7e0c181d",
   "metadata": {
    "papermill": {
     "duration": 5.787954,
     "end_time": "2024-05-19T13:08:01.613565",
     "exception": false,
     "start_time": "2024-05-19T13:07:55.825611",
     "status": "completed"
    },
    "tags": []
   },
   "source": [
    "# Model Evaluation"
   ]
  },
  {
   "cell_type": "code",
   "execution_count": 54,
   "id": "87aa7338",
   "metadata": {
    "execution": {
     "iopub.execute_input": "2024-05-19T13:08:13.157478Z",
     "iopub.status.busy": "2024-05-19T13:08:13.157045Z",
     "iopub.status.idle": "2024-05-19T13:08:31.951490Z",
     "shell.execute_reply": "2024-05-19T13:08:31.950177Z"
    },
    "papermill": {
     "duration": 24.66723,
     "end_time": "2024-05-19T13:08:31.954421",
     "exception": false,
     "start_time": "2024-05-19T13:08:07.287191",
     "status": "completed"
    },
    "tags": []
   },
   "outputs": [],
   "source": [
    "user_id_mapping = history_val.sort('user_id').with_row_index() \\\n",
    "    .select(['index', 'user_id']).rename({'index': 'user_index'})\n",
    "\n",
    "ner_interactions = history_val.select(['user_id', 'article_id_fixed']).explode('article_id_fixed') \\\n",
    "    .join(articles.select(['article_id', 'ner_clusters']), left_on='article_id_fixed', right_on='article_id', how='left') \\\n",
    "    .explode('ner_clusters').unique(['user_id', 'ner_clusters']) \\\n",
    "    .with_columns(pl.col('ner_clusters').str.strip_chars_start('\\\" ').str.to_lowercase()) \\\n",
    "    .join(user_id_mapping, on='user_id', how='left') \\\n",
    "    .join(ner_mapping, left_on='ner_clusters', right_on='ner') \\\n",
    "    .select(['user_index', 'ner_index', 'user_id', 'article_id_fixed']) \\\n",
    "    .unique(['user_index', 'ner_index'])\n",
    "\n",
    "URM_ner = sps.csr_matrix((np.ones(ner_interactions.shape[0]),\n",
    "                          (ner_interactions['user_index'].to_numpy(), ner_interactions['ner_index'].to_numpy())),\n",
    "                         shape=(user_id_mapping.shape[0], ner_mapping.shape[0]))\n",
    "\n",
    "ner_interactions_test = behaviors_val.select(['user_id', 'article_ids_clicked']).explode('article_ids_clicked') \\\n",
    "    .join(articles.select(['article_id', 'ner_clusters']), left_on='article_ids_clicked', right_on='article_id', how='left') \\\n",
    "    .explode('ner_clusters').unique(['user_id', 'ner_clusters']) \\\n",
    "    .with_columns(pl.col('ner_clusters').str.strip_chars_start('\\\" ').str.to_lowercase()) \\\n",
    "    .join(user_id_mapping, on='user_id', how='left') \\\n",
    "    .join(ner_mapping, left_on='ner_clusters', right_on='ner') \\\n",
    "    .select(['user_index', 'ner_index', 'user_id', 'article_ids_clicked']) \\\n",
    "    .unique(['user_index', 'ner_index'])\n",
    "\n",
    "URM_ner_test = sps.csr_matrix((np.ones(ner_interactions_test.shape[0]),\n",
    "                               (ner_interactions_test['user_index'].to_numpy(), ner_interactions_test['ner_index'].to_numpy())),\n",
    "                              shape=(user_id_mapping.shape[0], ner_mapping.shape[0]))"
   ]
  },
  {
   "cell_type": "code",
   "execution_count": 55,
   "id": "a7e95dd9",
   "metadata": {
    "execution": {
     "iopub.execute_input": "2024-05-19T13:08:43.266973Z",
     "iopub.status.busy": "2024-05-19T13:08:43.265582Z",
     "iopub.status.idle": "2024-05-19T13:14:06.711211Z",
     "shell.execute_reply": "2024-05-19T13:14:06.708943Z"
    },
    "papermill": {
     "duration": 329.125031,
     "end_time": "2024-05-19T13:14:06.715294",
     "exception": false,
     "start_time": "2024-05-19T13:08:37.590263",
     "status": "completed"
    },
    "tags": []
   },
   "outputs": [
    {
     "name": "stdout",
     "output_type": "stream",
     "text": [
      "ItemKNNCFRecommender: URM Detected 3 ( 0.0%) users with no interactions.\n",
      "ItemKNNCFRecommender: URM Detected 19035 (43.5%) items with no interactions.\n",
      "Unable to load Cython Compute_Similarity, reverting to Python\n",
      "Similarity column 43774 (100.0%), 158.84 column/sec. Elapsed time 4.59 min\n",
      "EvaluatorHoldout: Ignoring 32 ( 0.2%) Users that have less than 1 test interactions\n",
      "EvaluatorHoldout: Processed 15310 (100.0%) in 46.60 sec. Users per second: 329\n"
     ]
    },
    {
     "data": {
      "text/html": [
       "<div>\n",
       "<style scoped>\n",
       "    .dataframe tbody tr th:only-of-type {\n",
       "        vertical-align: middle;\n",
       "    }\n",
       "\n",
       "    .dataframe tbody tr th {\n",
       "        vertical-align: top;\n",
       "    }\n",
       "\n",
       "    .dataframe thead th {\n",
       "        text-align: right;\n",
       "    }\n",
       "</style>\n",
       "<table border=\"1\" class=\"dataframe\">\n",
       "  <thead>\n",
       "    <tr style=\"text-align: right;\">\n",
       "      <th></th>\n",
       "      <th>PRECISION</th>\n",
       "      <th>PRECISION_RECALL_MIN_DEN</th>\n",
       "      <th>RECALL</th>\n",
       "      <th>MAP</th>\n",
       "      <th>MAP_MIN_DEN</th>\n",
       "      <th>MRR</th>\n",
       "      <th>NDCG</th>\n",
       "      <th>F1</th>\n",
       "      <th>HIT_RATE</th>\n",
       "      <th>ARHR_ALL_HITS</th>\n",
       "      <th>...</th>\n",
       "      <th>COVERAGE_USER</th>\n",
       "      <th>COVERAGE_USER_HIT</th>\n",
       "      <th>USERS_IN_GT</th>\n",
       "      <th>DIVERSITY_GINI</th>\n",
       "      <th>SHANNON_ENTROPY</th>\n",
       "      <th>RATIO_DIVERSITY_HERFINDAHL</th>\n",
       "      <th>RATIO_DIVERSITY_GINI</th>\n",
       "      <th>RATIO_SHANNON_ENTROPY</th>\n",
       "      <th>RATIO_AVERAGE_POPULARITY</th>\n",
       "      <th>RATIO_NOVELTY</th>\n",
       "    </tr>\n",
       "    <tr>\n",
       "      <th>cutoff</th>\n",
       "      <th></th>\n",
       "      <th></th>\n",
       "      <th></th>\n",
       "      <th></th>\n",
       "      <th></th>\n",
       "      <th></th>\n",
       "      <th></th>\n",
       "      <th></th>\n",
       "      <th></th>\n",
       "      <th></th>\n",
       "      <th></th>\n",
       "      <th></th>\n",
       "      <th></th>\n",
       "      <th></th>\n",
       "      <th></th>\n",
       "      <th></th>\n",
       "      <th></th>\n",
       "      <th></th>\n",
       "      <th></th>\n",
       "      <th></th>\n",
       "      <th></th>\n",
       "    </tr>\n",
       "  </thead>\n",
       "  <tbody>\n",
       "    <tr>\n",
       "      <th>10</th>\n",
       "      <td>0.338445</td>\n",
       "      <td>0.339461</td>\n",
       "      <td>0.033197</td>\n",
       "      <td>0.241643</td>\n",
       "      <td>0.241977</td>\n",
       "      <td>0.493913</td>\n",
       "      <td>0.346767</td>\n",
       "      <td>0.060464</td>\n",
       "      <td>0.784651</td>\n",
       "      <td>1.033204</td>\n",
       "      <td>...</td>\n",
       "      <td>0.997914</td>\n",
       "      <td>0.783014</td>\n",
       "      <td>0.997914</td>\n",
       "      <td>0.002568</td>\n",
       "      <td>5.473111</td>\n",
       "      <td>0.953841</td>\n",
       "      <td>0.020621</td>\n",
       "      <td>0.428217</td>\n",
       "      <td>3.43338</td>\n",
       "      <td>0.010093</td>\n",
       "    </tr>\n",
       "  </tbody>\n",
       "</table>\n",
       "<p>1 rows × 27 columns</p>\n",
       "</div>"
      ],
      "text/plain": [
       "       PRECISION PRECISION_RECALL_MIN_DEN    RECALL       MAP MAP_MIN_DEN  \\\n",
       "cutoff                                                                      \n",
       "10      0.338445                 0.339461  0.033197  0.241643    0.241977   \n",
       "\n",
       "             MRR      NDCG        F1  HIT_RATE ARHR_ALL_HITS  ...  \\\n",
       "cutoff                                                        ...   \n",
       "10      0.493913  0.346767  0.060464  0.784651      1.033204  ...   \n",
       "\n",
       "       COVERAGE_USER COVERAGE_USER_HIT USERS_IN_GT DIVERSITY_GINI  \\\n",
       "cutoff                                                              \n",
       "10          0.997914          0.783014    0.997914       0.002568   \n",
       "\n",
       "       SHANNON_ENTROPY RATIO_DIVERSITY_HERFINDAHL RATIO_DIVERSITY_GINI  \\\n",
       "cutoff                                                                   \n",
       "10            5.473111                   0.953841             0.020621   \n",
       "\n",
       "       RATIO_SHANNON_ENTROPY RATIO_AVERAGE_POPULARITY RATIO_NOVELTY  \n",
       "cutoff                                                               \n",
       "10                  0.428217                  3.43338      0.010093  \n",
       "\n",
       "[1 rows x 27 columns]"
      ]
     },
     "execution_count": 55,
     "metadata": {},
     "output_type": "execute_result"
    }
   ],
   "source": [
    "item_knn = ItemKNNCFRecommender(URM_ner)\n",
    "item_knn.fit(topK=100, similarity='jaccard')\n",
    "\n",
    "evaluator = EvaluatorHoldout(URM_ner_test, cutoff_list=[10], exclude_seen=False)\n",
    "result_df, _ = evaluator.evaluateRecommender(item_knn)\n",
    "result_df"
   ]
  },
  {
   "cell_type": "code",
   "execution_count": 56,
   "id": "69cddff0",
   "metadata": {
    "execution": {
     "iopub.execute_input": "2024-05-19T13:14:19.836062Z",
     "iopub.status.busy": "2024-05-19T13:14:19.835631Z",
     "iopub.status.idle": "2024-05-19T13:14:51.309467Z",
     "shell.execute_reply": "2024-05-19T13:14:51.308214Z"
    },
    "papermill": {
     "duration": 37.278535,
     "end_time": "2024-05-19T13:14:51.312215",
     "exception": false,
     "start_time": "2024-05-19T13:14:14.033680",
     "status": "completed"
    },
    "tags": []
   },
   "outputs": [
    {
     "name": "stdout",
     "output_type": "stream",
     "text": [
      "PureSVDRecommender: URM Detected 3 ( 0.0%) users with no interactions.\n",
      "PureSVDRecommender: URM Detected 19035 (43.5%) items with no interactions.\n",
      "PureSVDRecommender: Computing SVD decomposition...\n",
      "PureSVDRecommender: Computing SVD decomposition... done in 5.00 sec\n",
      "EvaluatorHoldout: Processed 15310 (100.0%) in 25.93 sec. Users per second: 590\n"
     ]
    },
    {
     "data": {
      "text/html": [
       "<div>\n",
       "<style scoped>\n",
       "    .dataframe tbody tr th:only-of-type {\n",
       "        vertical-align: middle;\n",
       "    }\n",
       "\n",
       "    .dataframe tbody tr th {\n",
       "        vertical-align: top;\n",
       "    }\n",
       "\n",
       "    .dataframe thead th {\n",
       "        text-align: right;\n",
       "    }\n",
       "</style>\n",
       "<table border=\"1\" class=\"dataframe\">\n",
       "  <thead>\n",
       "    <tr style=\"text-align: right;\">\n",
       "      <th></th>\n",
       "      <th>PRECISION</th>\n",
       "      <th>PRECISION_RECALL_MIN_DEN</th>\n",
       "      <th>RECALL</th>\n",
       "      <th>MAP</th>\n",
       "      <th>MAP_MIN_DEN</th>\n",
       "      <th>MRR</th>\n",
       "      <th>NDCG</th>\n",
       "      <th>F1</th>\n",
       "      <th>HIT_RATE</th>\n",
       "      <th>ARHR_ALL_HITS</th>\n",
       "      <th>...</th>\n",
       "      <th>COVERAGE_USER</th>\n",
       "      <th>COVERAGE_USER_HIT</th>\n",
       "      <th>USERS_IN_GT</th>\n",
       "      <th>DIVERSITY_GINI</th>\n",
       "      <th>SHANNON_ENTROPY</th>\n",
       "      <th>RATIO_DIVERSITY_HERFINDAHL</th>\n",
       "      <th>RATIO_DIVERSITY_GINI</th>\n",
       "      <th>RATIO_SHANNON_ENTROPY</th>\n",
       "      <th>RATIO_AVERAGE_POPULARITY</th>\n",
       "      <th>RATIO_NOVELTY</th>\n",
       "    </tr>\n",
       "    <tr>\n",
       "      <th>cutoff</th>\n",
       "      <th></th>\n",
       "      <th></th>\n",
       "      <th></th>\n",
       "      <th></th>\n",
       "      <th></th>\n",
       "      <th></th>\n",
       "      <th></th>\n",
       "      <th></th>\n",
       "      <th></th>\n",
       "      <th></th>\n",
       "      <th></th>\n",
       "      <th></th>\n",
       "      <th></th>\n",
       "      <th></th>\n",
       "      <th></th>\n",
       "      <th></th>\n",
       "      <th></th>\n",
       "      <th></th>\n",
       "      <th></th>\n",
       "      <th></th>\n",
       "      <th></th>\n",
       "    </tr>\n",
       "  </thead>\n",
       "  <tbody>\n",
       "    <tr>\n",
       "      <th>10</th>\n",
       "      <td>0.365343</td>\n",
       "      <td>0.368494</td>\n",
       "      <td>0.050757</td>\n",
       "      <td>0.284108</td>\n",
       "      <td>0.286194</td>\n",
       "      <td>0.69616</td>\n",
       "      <td>0.416042</td>\n",
       "      <td>0.089131</td>\n",
       "      <td>0.874853</td>\n",
       "      <td>1.344843</td>\n",
       "      <td>...</td>\n",
       "      <td>0.997914</td>\n",
       "      <td>0.873028</td>\n",
       "      <td>0.997914</td>\n",
       "      <td>0.00152</td>\n",
       "      <td>5.732489</td>\n",
       "      <td>0.955104</td>\n",
       "      <td>0.012206</td>\n",
       "      <td>0.448511</td>\n",
       "      <td>3.535079</td>\n",
       "      <td>0.010003</td>\n",
       "    </tr>\n",
       "  </tbody>\n",
       "</table>\n",
       "<p>1 rows × 27 columns</p>\n",
       "</div>"
      ],
      "text/plain": [
       "       PRECISION PRECISION_RECALL_MIN_DEN    RECALL       MAP MAP_MIN_DEN  \\\n",
       "cutoff                                                                      \n",
       "10      0.365343                 0.368494  0.050757  0.284108    0.286194   \n",
       "\n",
       "            MRR      NDCG        F1  HIT_RATE ARHR_ALL_HITS  ...  \\\n",
       "cutoff                                                       ...   \n",
       "10      0.69616  0.416042  0.089131  0.874853      1.344843  ...   \n",
       "\n",
       "       COVERAGE_USER COVERAGE_USER_HIT USERS_IN_GT DIVERSITY_GINI  \\\n",
       "cutoff                                                              \n",
       "10          0.997914          0.873028    0.997914        0.00152   \n",
       "\n",
       "       SHANNON_ENTROPY RATIO_DIVERSITY_HERFINDAHL RATIO_DIVERSITY_GINI  \\\n",
       "cutoff                                                                   \n",
       "10            5.732489                   0.955104             0.012206   \n",
       "\n",
       "       RATIO_SHANNON_ENTROPY RATIO_AVERAGE_POPULARITY RATIO_NOVELTY  \n",
       "cutoff                                                               \n",
       "10                  0.448511                 3.535079      0.010003  \n",
       "\n",
       "[1 rows x 27 columns]"
      ]
     },
     "execution_count": 56,
     "metadata": {},
     "output_type": "execute_result"
    }
   ],
   "source": [
    "pure_svd = PureSVDRecommender(URM_ner)\n",
    "pure_svd.fit(num_factors=20)\n",
    "\n",
    "result_df, _ = evaluator.evaluateRecommender(pure_svd)\n",
    "result_df"
   ]
  },
  {
   "cell_type": "code",
   "execution_count": 57,
   "id": "01f63dc6",
   "metadata": {
    "execution": {
     "iopub.execute_input": "2024-05-19T13:15:02.817676Z",
     "iopub.status.busy": "2024-05-19T13:15:02.817171Z",
     "iopub.status.idle": "2024-05-19T13:17:31.700788Z",
     "shell.execute_reply": "2024-05-19T13:17:31.699545Z"
    },
    "papermill": {
     "duration": 160.274944,
     "end_time": "2024-05-19T13:17:37.387898",
     "exception": false,
     "start_time": "2024-05-19T13:14:57.112954",
     "status": "completed"
    },
    "tags": []
   },
   "outputs": [
    {
     "name": "stdout",
     "output_type": "stream",
     "text": [
      "CPU times: user 5min 25s, sys: 3min 33s, total: 8min 59s\n",
      "Wall time: 2min 28s\n"
     ]
    },
    {
     "data": {
      "text/html": [
       "<div><style>\n",
       ".dataframe > thead > tr,\n",
       ".dataframe > tbody > tr {\n",
       "  text-align: right;\n",
       "  white-space: pre-wrap;\n",
       "}\n",
       "</style>\n",
       "<small>shape: (5, 8)</small><table border=\"1\" class=\"dataframe\"><thead><tr><th>impression_id</th><th>article</th><th>total_ner_svd_scores</th><th>mean_ner_svd_scores</th><th>max_ner_svd_scores</th><th>total_ner_item_knn_scores</th><th>mean_ner_item_knn_scores</th><th>max_ner_item_knn_scores</th></tr><tr><td>u32</td><td>i32</td><td>f32</td><td>f32</td><td>f32</td><td>f32</td><td>f32</td><td>f32</td></tr></thead><tbody><tr><td>256980387</td><td>9782142</td><td>0.082804</td><td>0.057502</td><td>0.104171</td><td>0.112053</td><td>0.077494</td><td>0.172505</td></tr><tr><td>94940894</td><td>9782746</td><td>0.10152</td><td>0.150761</td><td>0.131934</td><td>0.09998</td><td>0.143383</td><td>0.102781</td></tr><tr><td>507482346</td><td>9771340</td><td>0.144786</td><td>0.381838</td><td>0.180496</td><td>0.128855</td><td>0.323412</td><td>0.200732</td></tr><tr><td>280935554</td><td>9790756</td><td>0.0</td><td>0.0</td><td>0.0</td><td>0.0</td><td>0.0</td><td>0.0</td></tr><tr><td>303542574</td><td>9787261</td><td>0.065624</td><td>0.061692</td><td>0.08719</td><td>0.064495</td><td>0.064926</td><td>0.078619</td></tr></tbody></table></div>"
      ],
      "text/plain": [
       "shape: (5, 8)\n",
       "┌────────────┬─────────┬────────────┬────────────┬────────────┬────────────┬───────────┬───────────┐\n",
       "│ impression ┆ article ┆ total_ner_ ┆ mean_ner_s ┆ max_ner_sv ┆ total_ner_ ┆ mean_ner_ ┆ max_ner_i │\n",
       "│ _id        ┆ ---     ┆ svd_scores ┆ vd_scores  ┆ d_scores   ┆ item_knn_s ┆ item_knn_ ┆ tem_knn_s │\n",
       "│ ---        ┆ i32     ┆ ---        ┆ ---        ┆ ---        ┆ cores      ┆ scores    ┆ cores     │\n",
       "│ u32        ┆         ┆ f32        ┆ f32        ┆ f32        ┆ ---        ┆ ---       ┆ ---       │\n",
       "│            ┆         ┆            ┆            ┆            ┆ f32        ┆ f32       ┆ f32       │\n",
       "╞════════════╪═════════╪════════════╪════════════╪════════════╪════════════╪═══════════╪═══════════╡\n",
       "│ 256980387  ┆ 9782142 ┆ 0.082804   ┆ 0.057502   ┆ 0.104171   ┆ 0.112053   ┆ 0.077494  ┆ 0.172505  │\n",
       "│ 94940894   ┆ 9782746 ┆ 0.10152    ┆ 0.150761   ┆ 0.131934   ┆ 0.09998    ┆ 0.143383  ┆ 0.102781  │\n",
       "│ 507482346  ┆ 9771340 ┆ 0.144786   ┆ 0.381838   ┆ 0.180496   ┆ 0.128855   ┆ 0.323412  ┆ 0.200732  │\n",
       "│ 280935554  ┆ 9790756 ┆ 0.0        ┆ 0.0        ┆ 0.0        ┆ 0.0        ┆ 0.0       ┆ 0.0       │\n",
       "│ 303542574  ┆ 9787261 ┆ 0.065624   ┆ 0.061692   ┆ 0.08719    ┆ 0.064495   ┆ 0.064926  ┆ 0.078619  │\n",
       "└────────────┴─────────┴────────────┴────────────┴────────────┴────────────┴───────────┴───────────┘"
      ]
     },
     "execution_count": 57,
     "metadata": {},
     "output_type": "execute_result"
    }
   ],
   "source": [
    "%%time\n",
    "\n",
    "def get_inview_scores(user_ners_df, recommender, f_name):\n",
    "    user_index = user_ners_df['user_index'].to_list()[0]\n",
    "    ners = user_ners_df['ner_index'].to_numpy()\n",
    "    scores = recommender._compute_item_score([user_index], ners)[0, ners]\n",
    "    return user_ners_df.with_columns(\n",
    "        pl.Series(scores).alias(f_name)\n",
    "    )\n",
    "\n",
    "ner_inview_scores = behaviors_val.select(['user_id', 'article_ids_inview']).explode('article_ids_inview') \\\n",
    "    .join(articles.select(['article_id', 'ner_clusters']), left_on='article_ids_inview', right_on='article_id', how='left') \\\n",
    "    .explode('ner_clusters').unique(['user_id', 'ner_clusters']) \\\n",
    "    .with_columns(pl.col('ner_clusters').str.strip_chars_start('\\\" ').str.to_lowercase()) \\\n",
    "    .join(user_id_mapping, on='user_id', how='left') \\\n",
    "    .join(ner_mapping, left_on='ner_clusters', right_on='ner') \\\n",
    "    .select(['user_index', 'ner_index', 'user_id', 'article_ids_inview']) \\\n",
    "    .unique(['user_index', 'ner_index']) \\\n",
    "    .sort(['user_index', 'ner_index']).group_by('user_index').map_groups(\n",
    "        lambda user_df: user_df.pipe(get_inview_scores, recommender=pure_svd, f_name='pure_svd_scores') \\\n",
    "            .pipe(get_inview_scores, recommender=item_knn, f_name='item_knn_scores')\n",
    "    )\n",
    "\n",
    "behaviors_ner_scores = behaviors_val.select(['impression_id', 'user_id', 'article_ids_inview']).explode('article_ids_inview') \\\n",
    "    .join(ner_inview_scores, on=['user_id', 'article_ids_inview'], how='left') \\\n",
    "    .with_columns(pl.col(['pure_svd_scores', 'item_knn_scores']).fill_null(0)) \\\n",
    "    .group_by(['impression_id', 'article_ids_inview']).agg(\n",
    "        pl.col('pure_svd_scores').sum().alias('total_ner_svd_scores'),\n",
    "        pl.col('pure_svd_scores').mean().alias('mean_ner_svd_scores'),\n",
    "        pl.col('pure_svd_scores').max().alias('max_ner_svd_scores'),\n",
    "        pl.col('item_knn_scores').sum().alias('total_ner_item_knn_scores'),\n",
    "        pl.col('item_knn_scores').mean().alias('mean_ner_item_knn_scores'),\n",
    "        pl.col('item_knn_scores').max().alias('max_ner_item_knn_scores'),\n",
    "    ).with_columns(\n",
    "        pl.col(['total_ner_svd_scores', 'mean_ner_svd_scores', \n",
    "                'total_ner_item_knn_scores', 'mean_ner_item_knn_scores',\n",
    "                'max_ner_svd_scores', 'max_ner_item_knn_scores']).sum().over('impression_id').name.suffix('_max')\n",
    "    ).with_columns(\n",
    "        # l_inf normalization\n",
    "        pl.col('total_ner_svd_scores').truediv(pl.col('total_ner_svd_scores_max')),\n",
    "        pl.col('mean_ner_svd_scores').truediv(pl.col('mean_ner_svd_scores_max')),\n",
    "        pl.col('max_ner_svd_scores').truediv(pl.col('max_ner_svd_scores_max')),\n",
    "        pl.col('total_ner_item_knn_scores').truediv(pl.col('total_ner_item_knn_scores_max')),\n",
    "        pl.col('mean_ner_item_knn_scores').truediv(pl.col('mean_ner_item_knn_scores_max')),\n",
    "        pl.col('max_ner_item_knn_scores').truediv(pl.col('max_ner_item_knn_scores_max')),\n",
    "    ).drop(['total_ner_svd_scores_max', 'mean_ner_svd_scores_max', \n",
    "            'max_ner_svd_scores_max', 'total_ner_item_knn_scores_max',\n",
    "            'mean_ner_item_knn_scores_max', 'max_ner_item_knn_scores_max']) \\\n",
    "    .rename({'article_ids_inview': 'article'})\n",
    "behaviors_ner_scores.head(5)"
   ]
  },
  {
   "cell_type": "code",
   "execution_count": 58,
   "id": "9a320394",
   "metadata": {
    "execution": {
     "iopub.execute_input": "2024-05-19T13:17:48.927372Z",
     "iopub.status.busy": "2024-05-19T13:17:48.926917Z",
     "iopub.status.idle": "2024-05-19T13:18:06.183364Z",
     "shell.execute_reply": "2024-05-19T13:18:06.182187Z"
    },
    "papermill": {
     "duration": 22.992201,
     "end_time": "2024-05-19T13:18:06.185859",
     "exception": false,
     "start_time": "2024-05-19T13:17:43.193658",
     "status": "completed"
    },
    "tags": []
   },
   "outputs": [
    {
     "name": "stderr",
     "output_type": "stream",
     "text": [
      "16it [00:16,  1.02s/it]                        \n"
     ]
    },
    {
     "name": "stdout",
     "output_type": "stream",
     "text": [
      "\u001b[1m\u001b[31m\n",
      "RAM memory GB usage = 7.332\u001b[0m\n",
      "Memory usage of dataframe is 36.51 MB\n",
      "Memory usage after optimization is: 35.72 MB\n",
      "Decreased by 2.2%\n",
      "CPU times: user 20 s, sys: 1.22 s, total: 21.2 s\n",
      "Wall time: 17.2 s\n"
     ]
    },
    {
     "data": {
      "text/html": [
       "<div><style>\n",
       ".dataframe > thead > tr,\n",
       ".dataframe > tbody > tr {\n",
       "  text-align: right;\n",
       "  white-space: pre-wrap;\n",
       "}\n",
       "</style>\n",
       "<small>shape: (2, 27)</small><table border=\"1\" class=\"dataframe\"><thead><tr><th>user_id</th><th>article_id_fixed</th><th>impression_time_fixed</th><th>category</th><th>NumArticlesHistory</th><th>MedianReadTime</th><th>MaxReadTime</th><th>TotalReadTime</th><th>MedianScrollPercentage</th><th>MaxScrollPercentage</th><th>NeutralPct</th><th>PositivePct</th><th>NegativePct</th><th>PctStrongNeutral</th><th>PctStrongPositive</th><th>PctStrongNegative</th><th>PctNotDefaultArticles</th><th>MostFrequentCategory</th><th>MostFrequentWeekday</th><th>MostFrequentHour</th><th>topics_flatten_tf_idf</th><th>PERPct</th><th>MISCPct</th><th>ORGPct</th><th>PRODPct</th><th>EVENTPct</th><th>LOCPct</th></tr><tr><td>u32</td><td>list[i32]</td><td>list[datetime[μs]]</td><td>list[i16]</td><td>u16</td><td>f32</td><td>f32</td><td>f32</td><td>f32</td><td>f32</td><td>f32</td><td>f32</td><td>f32</td><td>f32</td><td>f32</td><td>f32</td><td>f32</td><td>i16</td><td>i8</td><td>i8</td><td>list[f32]</td><td>f32</td><td>f32</td><td>f32</td><td>f32</td><td>f32</td><td>f32</td></tr></thead><tbody><tr><td>10623</td><td>[9750749, 9685790, … 9779517]</td><td>[2023-05-05 07:51:01, 2023-05-05 07:51:36, … 2023-05-24 17:10:11]</td><td>[118, 457, … 414]</td><td>150</td><td>3.5</td><td>1563.0</td><td>9330.0</td><td>37.0</td><td>100.0</td><td>0.28</td><td>0.093333</td><td>0.626667</td><td>0.126667</td><td>0.06</td><td>0.546667</td><td>0.06</td><td>118</td><td>1</td><td>20</td><td>[0.0, 0.042172, … 0.089681]</td><td>0.893333</td><td>0.266667</td><td>0.913333</td><td>0.213333</td><td>0.3</td><td>0.846667</td></tr><tr><td>12718</td><td>[9749036, 9749025, … 9778718]</td><td>[2023-05-04 07:49:49, 2023-05-04 07:50:15, … 2023-05-24 07:07:25]</td><td>[118, 118, … 140]</td><td>114</td><td>7.0</td><td>748.0</td><td>3440.0</td><td>36.0</td><td>100.0</td><td>0.245614</td><td>0.052632</td><td>0.701754</td><td>0.087719</td><td>0.035088</td><td>0.614035</td><td>0.035088</td><td>118</td><td>7</td><td>7</td><td>[0.0, 0.048524, … 0.217846]</td><td>0.807018</td><td>0.192982</td><td>0.947368</td><td>0.254386</td><td>0.114035</td><td>0.815789</td></tr></tbody></table></div>"
      ],
      "text/plain": [
       "shape: (2, 27)\n",
       "┌─────────┬─────────────┬─────────────┬────────────┬───┬──────────┬──────────┬──────────┬──────────┐\n",
       "│ user_id ┆ article_id_ ┆ impression_ ┆ category   ┆ … ┆ ORGPct   ┆ PRODPct  ┆ EVENTPct ┆ LOCPct   │\n",
       "│ ---     ┆ fixed       ┆ time_fixed  ┆ ---        ┆   ┆ ---      ┆ ---      ┆ ---      ┆ ---      │\n",
       "│ u32     ┆ ---         ┆ ---         ┆ list[i16]  ┆   ┆ f32      ┆ f32      ┆ f32      ┆ f32      │\n",
       "│         ┆ list[i32]   ┆ list[dateti ┆            ┆   ┆          ┆          ┆          ┆          │\n",
       "│         ┆             ┆ me[μs]]     ┆            ┆   ┆          ┆          ┆          ┆          │\n",
       "╞═════════╪═════════════╪═════════════╪════════════╪═══╪══════════╪══════════╪══════════╪══════════╡\n",
       "│ 10623   ┆ [9750749,   ┆ [2023-05-05 ┆ [118, 457, ┆ … ┆ 0.913333 ┆ 0.213333 ┆ 0.3      ┆ 0.846667 │\n",
       "│         ┆ 9685790, …  ┆ 07:51:01,   ┆ … 414]     ┆   ┆          ┆          ┆          ┆          │\n",
       "│         ┆ 9779517]    ┆ 2023-05-…   ┆            ┆   ┆          ┆          ┆          ┆          │\n",
       "│ 12718   ┆ [9749036,   ┆ [2023-05-04 ┆ [118, 118, ┆ … ┆ 0.947368 ┆ 0.254386 ┆ 0.114035 ┆ 0.815789 │\n",
       "│         ┆ 9749025, …  ┆ 07:49:49,   ┆ … 140]     ┆   ┆          ┆          ┆          ┆          │\n",
       "│         ┆ 9778718]    ┆ 2023-05-…   ┆            ┆   ┆          ┆          ┆          ┆          │\n",
       "└─────────┴─────────────┴─────────────┴────────────┴───┴──────────┴──────────┴──────────┴──────────┘"
      ]
     },
     "execution_count": 58,
     "metadata": {},
     "output_type": "execute_result"
    }
   ],
   "source": [
    "%%time\n",
    "\n",
    "STRONG_THR = 0.8\n",
    "\n",
    "history_val = pl.concat(\n",
    "    rows.with_columns(pl.col('article_id_fixed').list.len().alias('NumArticlesHistory')) \\\n",
    "        .explode(['article_id_fixed', 'impression_time_fixed', 'read_time_fixed', 'scroll_percentage_fixed']) \\\n",
    "        .sort(by=['user_id', 'impression_time_fixed']) \\\n",
    "        .with_columns(\n",
    "            pl.col('impression_time_fixed').dt.weekday().alias('weekday'),\n",
    "            pl.col('impression_time_fixed').dt.hour().alias('hour'),\n",
    "        ).join(articles.select(['article_id', 'category', 'is_article_default', 'sentiment_label_int', \n",
    "                                'sentiment_score', 'entity_groups', 'topics']), \n",
    "               left_on='article_id_fixed', right_on='article_id', how='left') \\\n",
    "        .with_columns(\n",
    "            (pl.col('sentiment_label_int') == 0).alias('is_neutral'),\n",
    "            (pl.col('sentiment_label_int') == 1).alias('is_positive'),\n",
    "            (pl.col('sentiment_label_int') == -1).alias('is_negative'),\n",
    "            ((pl.col('sentiment_label_int') == 0) & (pl.col('sentiment_score') > STRONG_THR)).alias('strong_neutral'),\n",
    "            ((pl.col('sentiment_label_int') == 1) & (pl.col('sentiment_score') > STRONG_THR)).alias('strong_positive'),\n",
    "            ((pl.col('sentiment_label_int') == -1) & (pl.col('sentiment_score') > STRONG_THR)).alias('strong_negative'),\n",
    "            pl.col('entity_groups').list.unique(),\n",
    "        ).group_by('user_id').agg(\n",
    "            pl.col('article_id_fixed'),\n",
    "            pl.col('impression_time_fixed'),\n",
    "            pl.col('category'),\n",
    "            pl.col('NumArticlesHistory').first(),\n",
    "            pl.col('read_time_fixed').median().alias('MedianReadTime'),\n",
    "            pl.col('read_time_fixed').max().alias('MaxReadTime'),\n",
    "            pl.col('read_time_fixed').sum().alias('TotalReadTime'),\n",
    "            pl.col('scroll_percentage_fixed').median().alias('MedianScrollPercentage'),\n",
    "            pl.col('scroll_percentage_fixed').max().alias('MaxScrollPercentage'),\n",
    "            (pl.col('is_neutral').sum() / pl.col('NumArticlesHistory').first()).alias('NeutralPct'),\n",
    "            (pl.col('is_positive').sum() / pl.col('NumArticlesHistory').first()).alias('PositivePct'),\n",
    "            (pl.col('is_negative').sum() / pl.col('NumArticlesHistory').first()).alias('NegativePct'),\n",
    "            (pl.col('strong_neutral').sum() / pl.col('NumArticlesHistory').first()).alias('PctStrongNeutral'),\n",
    "            (pl.col('strong_positive').sum() / pl.col('NumArticlesHistory').first()).alias('PctStrongPositive'),\n",
    "            (pl.col('strong_negative').sum() / pl.col('NumArticlesHistory').first()).alias('PctStrongNegative'),\n",
    "            (1 - (pl.col('is_article_default').sum() / pl.col('NumArticlesHistory').first())).alias('PctNotDefaultArticles'),\n",
    "            pl.col('category').mode().alias('MostFrequentCategory'),\n",
    "            pl.col('weekday').mode().alias('MostFrequentWeekday'),\n",
    "            pl.col('hour').mode().alias('MostFrequentHour'),\n",
    "            pl.col('entity_groups').flatten(),\n",
    "            pl.col('topics').flatten().alias('topics_flatten')\n",
    "        ).pipe(add_topics_tf_idf_columns, topics_col='topics_flatten', vectorizer=vectorizer) \\\n",
    "        .drop('topics_flatten').with_columns(\n",
    "            pl.col('MostFrequentCategory').list.first(),\n",
    "            pl.col('MostFrequentWeekday').list.first(),\n",
    "            pl.col('MostFrequentHour').list.first(),\n",
    "        ).with_columns(\n",
    "            (pl.col('entity_groups').list.count_matches(entity) / pl.col('NumArticlesHistory')).alias(f'{entity}Pct')\n",
    "            for entity in unique_entities\n",
    "        ).drop('entity_groups')\n",
    "    for rows in tqdm.tqdm(history_val.iter_slices(1000), total=history_val.shape[0] // 1000)\n",
    ")\n",
    "\n",
    "gc.collect()\n",
    "PrintColor(f\"\\n\" + GetMemUsage(), color = Fore.RED)\n",
    "history_val = reduce_polars_df_memory_size(history_val)\n",
    "history_val.head(2)"
   ]
  },
  {
   "cell_type": "code",
   "execution_count": 59,
   "id": "ebabda30",
   "metadata": {
    "execution": {
     "iopub.execute_input": "2024-05-19T13:18:17.733004Z",
     "iopub.status.busy": "2024-05-19T13:18:17.732593Z",
     "iopub.status.idle": "2024-05-19T13:18:18.843996Z",
     "shell.execute_reply": "2024-05-19T13:18:18.842378Z"
    },
    "papermill": {
     "duration": 6.943473,
     "end_time": "2024-05-19T13:18:18.846819",
     "exception": false,
     "start_time": "2024-05-19T13:18:11.903346",
     "status": "completed"
    },
    "tags": []
   },
   "outputs": [],
   "source": [
    "last_history_df = history_val.with_columns(\n",
    "    pl.col('impression_time_fixed').list.max().alias('last_history_impression_time'),\n",
    "    pl.col('article_id_fixed').list.tail(1).alias('last_history_article'),\n",
    ").select(['user_id', 'last_history_impression_time', 'last_history_article'])\n",
    "\n",
    "last_session_time_df = behaviors_val.select(['session_id', 'user_id', 'impression_time', 'article_ids_inview', 'article_ids_clicked']) \\\n",
    "    .group_by('session_id').agg(\n",
    "        pl.col('user_id').first(), \n",
    "        pl.col('impression_time').max().alias('session_time'), \n",
    "        pl.col('article_ids_inview').flatten().alias('all_seen_articles'),\n",
    "        (pl.col('impression_time').max() - pl.col('impression_time').min()).dt.total_minutes().alias('session_duration'),\n",
    "    ).with_columns(\n",
    "        pl.col(['session_time', 'session_duration']).shift(1).over('user_id').name.prefix('last_'),\n",
    "        pl.col('all_seen_articles').list.unique().shift(1).over('user_id'),\n",
    "        pl.col('session_duration').rolling_mean(100, min_periods=1).over('user_id').alias('mean_prev_sessions_duration'),\n",
    "    ).with_columns(pl.col(['last_session_duration']).fill_null(0)) \\\n",
    "    .join(last_history_df, on='user_id', how='left') \\\n",
    "    .with_columns(\n",
    "        pl.col('last_session_time').fill_null(pl.col('last_history_impression_time')),\n",
    "        pl.col('all_seen_articles').fill_null(pl.col('last_history_article')),\n",
    "    ).select(['session_id', 'last_session_time', 'last_session_duration',\n",
    "              'all_seen_articles', 'mean_prev_sessions_duration'])"
   ]
  },
  {
   "cell_type": "code",
   "execution_count": 60,
   "id": "223842b3",
   "metadata": {
    "execution": {
     "iopub.execute_input": "2024-05-19T13:18:30.245481Z",
     "iopub.status.busy": "2024-05-19T13:18:30.244907Z",
     "iopub.status.idle": "2024-05-19T13:23:00.861559Z",
     "shell.execute_reply": "2024-05-19T13:23:00.860271Z"
    },
    "papermill": {
     "duration": 279.382012,
     "end_time": "2024-05-19T13:23:03.934758",
     "exception": false,
     "start_time": "2024-05-19T13:18:24.552746",
     "status": "completed"
    },
    "tags": []
   },
   "outputs": [
    {
     "name": "stderr",
     "output_type": "stream",
     "text": [
      "16it [00:25,  1.60s/it]                        \n",
      "2205it [00:05, 379.23it/s]                          \n",
      "16it [00:01,  9.24it/s]                        \n",
      "16it [00:02,  6.87it/s]                        \n",
      "100%|██████████| 507/507 [00:04<00:00, 110.39it/s]\n",
      "100%|██████████| 507/507 [00:06<00:00, 79.92it/s]\n"
     ]
    },
    {
     "name": "stdout",
     "output_type": "stream",
     "text": [
      "\u001b[1m\u001b[31m\n",
      "RAM memory GB usage = 9.093\u001b[0m\n",
      "Memory usage of dataframe is 1314.28 MB\n",
      "Memory usage after optimization is: 735.73 MB\n",
      "Decreased by 44.0%\n",
      "\u001b[1m\u001b[31m\n",
      "RAM memory GB usage = 8.366\u001b[0m\n",
      "CPU times: user 13min 48s, sys: 1min 12s, total: 15min 1s\n",
      "Wall time: 4min 30s\n"
     ]
    },
    {
     "data": {
      "text/html": [
       "<div><style>\n",
       ".dataframe > thead > tr,\n",
       ".dataframe > tbody > tr {\n",
       "  text-align: right;\n",
       "  white-space: pre-wrap;\n",
       "}\n",
       "</style>\n",
       "<small>shape: (5, 93)</small><table border=\"1\" class=\"dataframe\"><thead><tr><th>impression_id</th><th>article</th><th>user_id</th><th>impression_time</th><th>target</th><th>device_type</th><th>read_time</th><th>scroll_percentage</th><th>is_sso_user</th><th>gender</th><th>age</th><th>is_subscriber</th><th>postcode</th><th>trendiness_score_1d</th><th>trendiness_score_3d</th><th>trendiness_score_5d</th><th>trendiness_score_3d_leak</th><th>weekday</th><th>hour</th><th>trendiness_score_1d/3d</th><th>trendiness_score_1d/5d</th><th>normalized_trendiness_score_overall</th><th>premium</th><th>category</th><th>sentiment_score</th><th>sentiment_label</th><th>num_images</th><th>title_len</th><th>subtitle_len</th><th>body_len</th><th>num_topics</th><th>total_pageviews</th><th>total_inviews</th><th>total_read_time</th><th>total_pageviews/inviews</th><th>article_type</th><th>article_delay_days</th><th>&hellip;</th><th>window_0_history_length</th><th>window_1_history_length</th><th>window_2_history_length</th><th>window_3_history_length</th><th>is_inside_window_0</th><th>is_inside_window_1</th><th>is_inside_window_2</th><th>is_inside_window_3</th><th>window_category_score</th><th>window_topics_score</th><th>trendiness_score_category</th><th>endorsement_10h</th><th>normalized_endorsement_10h</th><th>endorsement_10h_diff_rolling</th><th>endorsement_macd</th><th>endorsement_quantile_norm_10h</th><th>normalized_endorsement_10h_rolling_max_ratio</th><th>endorsement_20h_articleuser</th><th>normalized_endorsement_articleuser_20h</th><th>endorsement_20h_articleuser_diff_rolling</th><th>endorsement_articleuser_macd</th><th>endorsement_articleuser_quantile_norm_20h</th><th>normalized_endorsement_articleuser_20h_rolling_max_ratio</th><th>endorsement_10h_leak</th><th>normalized_endorsement_10h_right</th><th>endorsement_10h_leak_diff_rolling</th><th>endorsement_leak_macd</th><th>endorsement_quantile_norm_10h_leak</th><th>normalized_endorsement_10h_leak_rolling_max_ratio</th><th>clicked_count</th><th>inview_count</th><th>last_session_duration</th><th>mean_prev_sessions_duration</th><th>last_session_time_hour_diff</th><th>is_new_article</th><th>is_already_seen_article</th><th>yesterday_category_daily_pct</th></tr><tr><td>u32</td><td>i32</td><td>u32</td><td>date</td><td>i8</td><td>i8</td><td>f32</td><td>f32</td><td>bool</td><td>i8</td><td>i8</td><td>bool</td><td>i8</td><td>i16</td><td>i16</td><td>i16</td><td>i16</td><td>i8</td><td>i8</td><td>f32</td><td>f32</td><td>f32</td><td>bool</td><td>i16</td><td>f32</td><td>str</td><td>u32</td><td>u8</td><td>u8</td><td>u16</td><td>u32</td><td>i32</td><td>i32</td><td>f32</td><td>f32</td><td>str</td><td>i16</td><td>&hellip;</td><td>i16</td><td>i16</td><td>i16</td><td>i16</td><td>i8</td><td>i8</td><td>i8</td><td>i8</td><td>i16</td><td>i16</td><td>i8</td><td>u16</td><td>f32</td><td>f32</td><td>f32</td><td>f32</td><td>f32</td><td>u8</td><td>f32</td><td>f32</td><td>f32</td><td>f32</td><td>f32</td><td>i16</td><td>f32</td><td>f32</td><td>f32</td><td>f32</td><td>f32</td><td>u32</td><td>u16</td><td>i8</td><td>f32</td><td>i16</td><td>bool</td><td>bool</td><td>f32</td></tr></thead><tbody><tr><td>349213169</td><td>9779564</td><td>1361500</td><td>2023-05-24</td><td>0</td><td>2</td><td>15.0</td><td>null</td><td>false</td><td>2</td><td>null</td><td>false</td><td>5</td><td>130</td><td>394</td><td>624</td><td>333</td><td>4</td><td>7</td><td>0.329949</td><td>0.208333</td><td>0.721612</td><td>false</td><td>142</td><td>0.9832</td><td>&quot;Negative&quot;</td><td>2</td><td>8</td><td>18</td><td>240</td><td>4</td><td>13049</td><td>202586</td><td>1.120723e6</td><td>0.064412</td><td>&quot;article_default&quot;</td><td>0</td><td>&hellip;</td><td>270</td><td>174</td><td>76</td><td>99</td><td>1</td><td>0</td><td>0</td><td>0</td><td>64</td><td>239</td><td>112</td><td>7</td><td>0.044872</td><td>0.0</td><td>0.0</td><td>2.333333</td><td>1.0</td><td>1</td><td>0.166667</td><td>0.0</td><td>0.0</td><td>1.0</td><td>1.0</td><td>1210</td><td>0.01051</td><td>-263.700012</td><td>-27.299999</td><td>0.621469</td><td>1.0</td><td>56</td><td>1580</td><td>0</td><td>0.0</td><td>-57</td><td>true</td><td>false</td><td>0.239437</td></tr><tr><td>497194197</td><td>8934043</td><td>393380</td><td>2023-05-24</td><td>0</td><td>2</td><td>30.0</td><td>null</td><td>false</td><td>2</td><td>null</td><td>false</td><td>5</td><td>22</td><td>81</td><td>116</td><td>43</td><td>4</td><td>7</td><td>0.271605</td><td>0.189655</td><td>0.148352</td><td>true</td><td>457</td><td>0.9046</td><td>&quot;Positive&quot;</td><td>3</td><td>9</td><td>25</td><td>720</td><td>3</td><td>null</td><td>null</td><td>null</td><td>null</td><td>&quot;article_default&quot;</td><td>570</td><td>&hellip;</td><td>476</td><td>225</td><td>62</td><td>21</td><td>1</td><td>0</td><td>0</td><td>0</td><td>2</td><td>58</td><td>9</td><td>2</td><td>0.012821</td><td>0.0</td><td>0.0</td><td>0.666667</td><td>1.0</td><td>1</td><td>0.05</td><td>0.0</td><td>0.0</td><td>1.0</td><td>1.0</td><td>1826</td><td>0.019213</td><td>13.2</td><td>5.4</td><td>0.955521</td><td>1.0</td><td>3</td><td>4979</td><td>1</td><td>2.368421</td><td>-124</td><td>true</td><td>false</td><td>0.021127</td></tr><tr><td>118493914</td><td>9778971</td><td>1770038</td><td>2023-05-24</td><td>0</td><td>1</td><td>840.0</td><td>100.0</td><td>false</td><td>2</td><td>null</td><td>false</td><td>5</td><td>118</td><td>360</td><td>584</td><td>299</td><td>4</td><td>7</td><td>0.327778</td><td>0.202055</td><td>0.659341</td><td>false</td><td>142</td><td>0.7911</td><td>&quot;Neutral&quot;</td><td>2</td><td>9</td><td>23</td><td>256</td><td>4</td><td>104102</td><td>497489</td><td>6.707142e6</td><td>0.209255</td><td>&quot;article_default&quot;</td><td>0</td><td>&hellip;</td><td>88</td><td>45</td><td>43</td><td>13</td><td>1</td><td>0</td><td>0</td><td>0</td><td>15</td><td>60</td><td>112</td><td>3</td><td>0.019231</td><td>0.0</td><td>0.0</td><td>1.0</td><td>0.428571</td><td>1</td><td>0.027027</td><td>0.0</td><td>0.0</td><td>1.0</td><td>1.0</td><td>399</td><td>0.003599</td><td>5.0</td><td>3.0</td><td>0.219472</td><td>0.158964</td><td>1513</td><td>616</td><td>0</td><td>4.5</td><td>-145</td><td>true</td><td>false</td><td>0.239437</td></tr><tr><td>118493914</td><td>9780195</td><td>1770038</td><td>2023-05-24</td><td>0</td><td>1</td><td>840.0</td><td>100.0</td><td>false</td><td>2</td><td>null</td><td>false</td><td>5</td><td>54</td><td>163</td><td>223</td><td>147</td><td>4</td><td>7</td><td>0.331288</td><td>0.242152</td><td>0.298535</td><td>false</td><td>118</td><td>0.5616</td><td>&quot;Negative&quot;</td><td>3</td><td>5</td><td>12</td><td>215</td><td>4</td><td>288888</td><td>1274496</td><td>1.7016326e7</td><td>0.226668</td><td>&quot;article_default&quot;</td><td>0</td><td>&hellip;</td><td>88</td><td>45</td><td>43</td><td>13</td><td>1</td><td>0</td><td>0</td><td>0</td><td>52</td><td>56</td><td>109</td><td>6</td><td>0.038462</td><td>0.0</td><td>0.0</td><td>2.0</td><td>1.0</td><td>1</td><td>0.027027</td><td>0.0</td><td>0.0</td><td>1.0</td><td>1.0</td><td>1925</td><td>0.019302</td><td>2.2</td><td>3.8</td><td>1.023936</td><td>0.902485</td><td>2314</td><td>7435</td><td>0</td><td>4.5</td><td>-145</td><td>true</td><td>false</td><td>0.239437</td></tr><tr><td>311999725</td><td>9779956</td><td>2054298</td><td>2023-05-24</td><td>0</td><td>2</td><td>80.0</td><td>null</td><td>false</td><td>2</td><td>null</td><td>false</td><td>5</td><td>54</td><td>151</td><td>222</td><td>141</td><td>4</td><td>7</td><td>0.357616</td><td>0.243243</td><td>0.276557</td><td>false</td><td>118</td><td>0.9876</td><td>&quot;Negative&quot;</td><td>1</td><td>10</td><td>17</td><td>326</td><td>4</td><td>20536</td><td>231786</td><td>2.192031e6</td><td>0.088599</td><td>&quot;article_default&quot;</td><td>0</td><td>&hellip;</td><td>99</td><td>40</td><td>17</td><td>11</td><td>1</td><td>0</td><td>0</td><td>0</td><td>35</td><td>45</td><td>109</td><td>3</td><td>0.019231</td><td>0.0</td><td>0.0</td><td>1.0</td><td>1.0</td><td>1</td><td>0.058824</td><td>0.0</td><td>0.0</td><td>1.0</td><td>1.0</td><td>374</td><td>0.003601</td><td>5.1</td><td>2.9</td><td>0.204595</td><td>0.181818</td><td>247</td><td>566</td><td>2</td><td>2.4</td><td>-13</td><td>true</td><td>false</td><td>0.239437</td></tr></tbody></table></div>"
      ],
      "text/plain": [
       "shape: (5, 93)\n",
       "┌────────────┬─────────┬─────────┬────────────┬───┬────────────┬───────────┬───────────┬───────────┐\n",
       "│ impression ┆ article ┆ user_id ┆ impression ┆ … ┆ last_sessi ┆ is_new_ar ┆ is_alread ┆ yesterday │\n",
       "│ _id        ┆ ---     ┆ ---     ┆ _time      ┆   ┆ on_time_ho ┆ ticle     ┆ y_seen_ar ┆ _category │\n",
       "│ ---        ┆ i32     ┆ u32     ┆ ---        ┆   ┆ ur_diff    ┆ ---       ┆ ticle     ┆ _daily_pc │\n",
       "│ u32        ┆         ┆         ┆ date       ┆   ┆ ---        ┆ bool      ┆ ---       ┆ t         │\n",
       "│            ┆         ┆         ┆            ┆   ┆ i16        ┆           ┆ bool      ┆ ---       │\n",
       "│            ┆         ┆         ┆            ┆   ┆            ┆           ┆           ┆ f32       │\n",
       "╞════════════╪═════════╪═════════╪════════════╪═══╪════════════╪═══════════╪═══════════╪═══════════╡\n",
       "│ 349213169  ┆ 9779564 ┆ 1361500 ┆ 2023-05-24 ┆ … ┆ -57        ┆ true      ┆ false     ┆ 0.239437  │\n",
       "│ 497194197  ┆ 8934043 ┆ 393380  ┆ 2023-05-24 ┆ … ┆ -124       ┆ true      ┆ false     ┆ 0.021127  │\n",
       "│ 118493914  ┆ 9778971 ┆ 1770038 ┆ 2023-05-24 ┆ … ┆ -145       ┆ true      ┆ false     ┆ 0.239437  │\n",
       "│ 118493914  ┆ 9780195 ┆ 1770038 ┆ 2023-05-24 ┆ … ┆ -145       ┆ true      ┆ false     ┆ 0.239437  │\n",
       "│ 311999725  ┆ 9779956 ┆ 2054298 ┆ 2023-05-24 ┆ … ┆ -13        ┆ true      ┆ false     ┆ 0.239437  │\n",
       "└────────────┴─────────┴─────────┴────────────┴───┴────────────┴───────────┴───────────┴───────────┘"
      ]
     },
     "execution_count": 60,
     "metadata": {},
     "output_type": "execute_result"
    }
   ],
   "source": [
    "%%time\n",
    "\n",
    "NPRATIO = 2\n",
    "\n",
    "users_mean_trendiness_scores, topics_mean_trendiness_scores = _preprocessing_history_trendiness_scores(\n",
    "        history=history_val, articles=articles)\n",
    "topic_mean_delays, user_mean_delays = _preprocessing_mean_delay_features(\n",
    "    articles=articles, history=history_val)\n",
    "windows, user_windows, user_topics_windows, user_category_windows = _preprocessing_window_features(\n",
    "    history=history_val, articles=articles)\n",
    "articles_endorsement = _preprocessing_article_endorsement_feature(\n",
    "    behaviors=behaviors_val, period=\"10h\")\n",
    "normalized_endorsement = normalize_endorsement(articles_endorsement)\n",
    "articles_endorsement_articleuser = _preprocessing_article_endorsement_feature_by_article_and_user(\n",
    "    behaviors=behaviors_val, period=\"20h\")\n",
    "normalized_endorsement_articleuser = normalize_endorsement_by_article_and_user(articles_endorsement_articleuser)\n",
    "\n",
    "history_counts=history_val.select(['article_id_fixed']).explode('article_id_fixed').group_by('article_id_fixed').len() \\\n",
    ".rename({'article_id_fixed':'article','len':'clicked_count'})\n",
    "\n",
    "behaviors_counts=behaviors_val.select('article_ids_inview').explode('article_ids_inview').group_by('article_ids_inview').len() \\\n",
    ".rename({'article_ids_inview':'article','len':'inview_count'})\n",
    "\n",
    "# dropping duplicates that can occur because of sampling strategy\n",
    "val_ds = behaviors_val.pipe(create_binary_labels_column, shuffle=True, seed=123) \\\n",
    "    .with_columns(pl.col('gender').fill_null(2)) \\\n",
    "    .with_columns(pl.col('postcode').fill_null(5)) \\\n",
    "    .select(['impression_id', 'article_ids_inview', 'impression_time', 'labels', \n",
    "             'device_type', 'read_time', 'scroll_percentage', 'user_id', 'is_sso_user', 'gender',\n",
    "             'age', 'is_subscriber', 'session_id', 'postcode']) \\\n",
    "    .explode(['article_ids_inview', 'labels']) \\\n",
    "    .rename({'article_ids_inview': 'article', 'labels': 'target'}) \\\n",
    "    .with_columns(pl.col('article').cast(pl.Int32)) \\\n",
    "    .pipe(add_trendiness_feature, articles=articles, period='1d') \\\n",
    "    .rename({'trendiness_score': 'trendiness_score_1d'}) \\\n",
    "    .pipe(add_trendiness_feature, articles=articles, period='3d') \\\n",
    "    .rename({'trendiness_score': 'trendiness_score_3d'}) \\\n",
    "    .pipe(add_trendiness_feature, articles=articles, period='5d') \\\n",
    "    .rename({'trendiness_score': 'trendiness_score_5d'}) \\\n",
    "    .pipe(add_trendiness_feature_leak, articles=articles, period='3d') \\\n",
    "    .rename({'trendiness_score_leak':'trendiness_score_3d_leak'}) \\\n",
    "    .unique(['impression_id', 'article']) \\\n",
    "    .with_columns(\n",
    "        pl.col('impression_time').dt.weekday().alias('weekday'),\n",
    "        pl.col('impression_time').dt.hour().alias('hour'),\n",
    "        pl.col('article').cast(pl.Int32),\n",
    "        (\n",
    "            pl.col('trendiness_score_1d') / \n",
    "            pl.col('trendiness_score_3d')\n",
    "        ).alias('trendiness_score_1d/3d'),\n",
    "        (\n",
    "            pl.col('trendiness_score_1d') / \n",
    "            pl.col('trendiness_score_5d')\n",
    "        ).alias('trendiness_score_1d/5d'),\n",
    "        (\n",
    "            pl.col('trendiness_score_3d') / \n",
    "            pl.col('trendiness_score_3d').max().over(pl.col('impression_time').dt.date())\n",
    "        ).alias('normalized_trendiness_score_overall'),\n",
    "    ).join(articles.select(['article_id', 'premium', 'published_time', 'category',\n",
    "                            'sentiment_score', 'sentiment_label', 'entity_groups',\n",
    "                            'num_images', 'title_len', 'subtitle_len', 'body_len','num_topics',\n",
    "                            'total_pageviews', 'total_inviews', 'total_read_time', \n",
    "                            'total_pageviews/inviews', 'article_type']),\n",
    "           left_on='article', right_on='article_id', how='left') \\\n",
    "    .with_columns(\n",
    "        (pl.col('impression_time') - pl.col('published_time')).dt.total_days().alias('article_delay_days'),\n",
    "        (pl.col('impression_time') - pl.col('published_time')).dt.total_hours().alias('article_delay_hours')\n",
    "    ).with_columns(\n",
    "        pl.col('entity_groups').list.contains(entity).alias(f'Entity_{entity}_Present')\n",
    "        for entity in unique_entities\n",
    "    ).drop('entity_groups') \\\n",
    "    .join(behaviors_ner_scores, on=['impression_id', 'article'], how='left') \\\n",
    "    .pipe(add_history_trendiness_scores_feature, articles=articles, \n",
    "          users_mean_trendiness_scores=users_mean_trendiness_scores,\n",
    "          topics_mean_trendiness_scores=topics_mean_trendiness_scores, topics=topics) \\\n",
    "    .pipe(add_mean_delays_features, articles=articles,\n",
    "          topic_mean_delays=topic_mean_delays, user_mean_delays=user_mean_delays) \\\n",
    "    .pipe(add_window_features, articles=articles, user_windows=user_windows,\n",
    "          user_category_windows=user_category_windows, \n",
    "          user_topics_windows=user_topics_windows, windows=windows) \\\n",
    "    .pipe(add_trendiness_feature_categories, articles=articles) \\\n",
    "    .pipe(add_article_endorsement_feature, normalized_endorsement=normalized_endorsement) \\\n",
    "    .pipe(add_article_endorsement_feature_by_article_and_user, normalized_endorsement = normalized_endorsement_articleuser) \\\n",
    "    .pipe(add_article_endorsement_feature_leak, normalized_endorsement = normalized_endorsement) \\\n",
    "    .rename({\n",
    "        \"endorsement_10h_diff_rolling_right\":\"endorsement_10h_leak_diff_rolling\",\n",
    "        \"endorsement_macd_right\":\"endorsement_leak_macd\",\n",
    "        \"endorsement_quantile_norm_10h_right\":\"endorsement_quantile_norm_10h_leak\",\n",
    "        \"normalized_endorsement_10h_rolling_max_ratio_right\":\"normalized_endorsement_10h_leak_rolling_max_ratio\"\n",
    "    }).join(history_counts, on='article',how='left') \\\n",
    "    .join(behaviors_counts , on='article', how='left') \\\n",
    "    .join(last_session_time_df, on='session_id', how='left').with_columns(\n",
    "        (pl.col('impression_time') - pl.col('last_session_time')).dt.total_hours().alias('last_session_time_hour_diff'),\n",
    "        ((pl.col('last_session_time') - pl.col('published_time')).dt.total_hours() > 0).alias('is_new_article'),\n",
    "        pl.col('all_seen_articles').list.contains(pl.col('article')).alias('is_already_seen_article'),\n",
    "    ).drop(['published_time', 'session_id', 'all_seen_articles', 'last_session_time']) \\\n",
    "    .join(published_category_popularity, how='left', right_on=['published_date', 'category'],\n",
    "          left_on=[pl.col('impression_time').dt.date() - pl.duration(days=1), 'category']) \\\n",
    "    .rename({'category_daily_pct': 'yesterday_category_daily_pct'}) \\\n",
    "    .with_columns(pl.col('yesterday_category_daily_pct').fill_null(0))\n",
    "\n",
    "gc.collect()\n",
    "PrintColor(f\"\\n\" + GetMemUsage(), color = Fore.RED)\n",
    "\n",
    "val_ds = reduce_polars_df_memory_size(val_ds)\n",
    "PrintColor(f\"\\n\" + GetMemUsage(), color = Fore.RED)\n",
    "val_ds.head()"
   ]
  },
  {
   "cell_type": "code",
   "execution_count": 61,
   "id": "82259bb6",
   "metadata": {
    "execution": {
     "iopub.execute_input": "2024-05-19T13:23:15.495239Z",
     "iopub.status.busy": "2024-05-19T13:23:15.494797Z",
     "iopub.status.idle": "2024-05-19T13:23:15.502828Z",
     "shell.execute_reply": "2024-05-19T13:23:15.501479Z"
    },
    "papermill": {
     "duration": 5.861207,
     "end_time": "2024-05-19T13:23:15.505770",
     "exception": false,
     "start_time": "2024-05-19T13:23:09.644563",
     "status": "completed"
    },
    "tags": []
   },
   "outputs": [
    {
     "data": {
      "text/plain": [
       "(2928942, 93)"
      ]
     },
     "execution_count": 61,
     "metadata": {},
     "output_type": "execute_result"
    }
   ],
   "source": [
    "val_ds.shape"
   ]
  },
  {
   "cell_type": "code",
   "execution_count": 62,
   "id": "5d90f365",
   "metadata": {
    "execution": {
     "iopub.execute_input": "2024-05-19T13:23:26.998865Z",
     "iopub.status.busy": "2024-05-19T13:23:26.998441Z",
     "iopub.status.idle": "2024-05-19T14:01:39.432219Z",
     "shell.execute_reply": "2024-05-19T14:01:39.431004Z"
    },
    "papermill": {
     "duration": 2298.415043,
     "end_time": "2024-05-19T14:01:39.723346",
     "exception": false,
     "start_time": "2024-05-19T13:23:21.308303",
     "status": "completed"
    },
    "tags": []
   },
   "outputs": [
    {
     "name": "stderr",
     "output_type": "stream",
     "text": [
      "293it [38:06,  7.80s/it]\n"
     ]
    },
    {
     "name": "stdout",
     "output_type": "stream",
     "text": [
      "Memory usage of dataframe is 1925.91 MB\n",
      "Memory usage after optimization is: 1492.95 MB\n",
      "Decreased by 22.5%\n",
      "\u001b[1m\u001b[31m\n",
      "RAM memory GB usage = 10.66\u001b[0m\n"
     ]
    },
    {
     "data": {
      "text/html": [
       "<div><style>\n",
       ".dataframe > thead > tr,\n",
       ".dataframe > tbody > tr {\n",
       "  text-align: right;\n",
       "  white-space: pre-wrap;\n",
       "}\n",
       "</style>\n",
       "<small>shape: (5, 165)</small><table border=\"1\" class=\"dataframe\"><thead><tr><th>impression_id</th><th>article</th><th>user_id</th><th>target</th><th>device_type</th><th>read_time</th><th>scroll_percentage</th><th>is_sso_user</th><th>gender</th><th>age</th><th>is_subscriber</th><th>postcode</th><th>trendiness_score_1d</th><th>trendiness_score_3d</th><th>trendiness_score_5d</th><th>trendiness_score_3d_leak</th><th>weekday</th><th>hour</th><th>trendiness_score_1d/3d</th><th>trendiness_score_1d/5d</th><th>normalized_trendiness_score_overall</th><th>premium</th><th>category</th><th>sentiment_score</th><th>sentiment_label</th><th>num_images</th><th>title_len</th><th>subtitle_len</th><th>body_len</th><th>num_topics</th><th>total_pageviews</th><th>total_inviews</th><th>total_read_time</th><th>total_pageviews/inviews</th><th>article_type</th><th>article_delay_days</th><th>article_delay_hours</th><th>&hellip;</th><th>MostFrequentWeekday</th><th>MostFrequentHour</th><th>PERPct</th><th>MISCPct</th><th>ORGPct</th><th>PRODPct</th><th>EVENTPct</th><th>LOCPct</th><th>topics_cosine</th><th>IsFavouriteCategory</th><th>NumberDifferentCategories</th><th>PctCategoryMatches</th><th>Category_side9_Pct</th><th>Category_bibliotek_Pct</th><th>Category_ferie_Pct</th><th>Category_krimi_Pct</th><th>Category_underholdning_Pct</th><th>Category_penge_Pct</th><th>Category_auto_Pct</th><th>Category_plus_Pct</th><th>Category_haandvaerkeren_Pct</th><th>Category_podcast_Pct</th><th>Category_musik_Pct</th><th>Category_dagsorden_Pct</th><th>Category_horoskoper_Pct</th><th>Category_forbrug_Pct</th><th>Category_vin_Pct</th><th>Category_opinionen_Pct</th><th>Category_sport_Pct</th><th>Category_incoming_Pct</th><th>Category_om_ekstra_bladet_Pct</th><th>Category_biler_Pct</th><th>Category_services_Pct</th><th>Category_nyheder_Pct</th><th>Category_nationen_Pct</th><th>Category_video_Pct</th><th>Category_sex_og_samliv_Pct</th></tr><tr><td>u32</td><td>i32</td><td>u32</td><td>i8</td><td>i8</td><td>f32</td><td>f32</td><td>bool</td><td>i8</td><td>i8</td><td>bool</td><td>i8</td><td>i16</td><td>i16</td><td>i16</td><td>i16</td><td>i8</td><td>i8</td><td>f32</td><td>f32</td><td>f32</td><td>bool</td><td>i16</td><td>f32</td><td>str</td><td>u32</td><td>u8</td><td>u8</td><td>u16</td><td>u32</td><td>i32</td><td>i32</td><td>f32</td><td>f32</td><td>str</td><td>i16</td><td>i32</td><td>&hellip;</td><td>i8</td><td>i8</td><td>f32</td><td>f32</td><td>f32</td><td>f32</td><td>f32</td><td>f32</td><td>f32</td><td>bool</td><td>u8</td><td>f32</td><td>f32</td><td>f32</td><td>f32</td><td>f32</td><td>f32</td><td>f32</td><td>f32</td><td>f32</td><td>f32</td><td>f32</td><td>f32</td><td>f32</td><td>f32</td><td>f32</td><td>f32</td><td>f32</td><td>f32</td><td>f32</td><td>f32</td><td>f32</td><td>f32</td><td>f32</td><td>f32</td><td>f32</td><td>f32</td></tr></thead><tbody><tr><td>260910155</td><td>9765618</td><td>92186</td><td>0</td><td>1</td><td>94.0</td><td>100.0</td><td>false</td><td>2</td><td>null</td><td>false</td><td>5</td><td>1</td><td>5</td><td>9</td><td>3</td><td>4</td><td>7</td><td>0.2</td><td>0.111111</td><td>0.009158</td><td>false</td><td>118</td><td>0.7948</td><td>&quot;Neutral&quot;</td><td>1</td><td>4</td><td>15</td><td>258</td><td>1</td><td>54517</td><td>593110</td><td>3.46491e6</td><td>0.091917</td><td>&quot;article_default&quot;</td><td>10</td><td>243</td><td>&hellip;</td><td>3</td><td>6</td><td>0.943925</td><td>0.280374</td><td>0.943925</td><td>0.299065</td><td>0.17757</td><td>0.719626</td><td>0.121367</td><td>true</td><td>8</td><td>0.934579</td><td>0.0</td><td>0.0</td><td>0.0</td><td>0.074766</td><td>0.186916</td><td>0.037383</td><td>0.0</td><td>0.0</td><td>0.0</td><td>0.0</td><td>0.018692</td><td>0.0</td><td>0.0</td><td>0.009346</td><td>0.0</td><td>0.0</td><td>0.11215</td><td>0.0</td><td>0.0</td><td>0.0</td><td>0.0</td><td>0.46729</td><td>0.093458</td><td>0.0</td><td>0.0</td></tr><tr><td>64250494</td><td>9766434</td><td>1970563</td><td>1</td><td>1</td><td>11.0</td><td>null</td><td>false</td><td>2</td><td>null</td><td>false</td><td>5</td><td>97</td><td>304</td><td>445</td><td>289</td><td>4</td><td>7</td><td>0.319079</td><td>0.217978</td><td>0.556777</td><td>false</td><td>498</td><td>0.9787</td><td>&quot;Negative&quot;</td><td>3</td><td>11</td><td>18</td><td>675</td><td>4</td><td>71653</td><td>361202</td><td>5.608554e6</td><td>0.198374</td><td>&quot;article_default&quot;</td><td>0</td><td>2</td><td>&hellip;</td><td>2</td><td>6</td><td>0.945205</td><td>0.273973</td><td>0.931507</td><td>0.328767</td><td>0.150685</td><td>0.712329</td><td>0.559482</td><td>false</td><td>8</td><td>0.90411</td><td>0.0</td><td>0.0</td><td>0.0</td><td>0.136986</td><td>0.178082</td><td>0.041096</td><td>0.0</td><td>0.0</td><td>0.0</td><td>0.0</td><td>0.013699</td><td>0.0</td><td>0.0</td><td>0.013699</td><td>0.0</td><td>0.0</td><td>0.123288</td><td>0.0</td><td>0.0</td><td>0.0</td><td>0.0</td><td>0.479452</td><td>0.013699</td><td>0.0</td><td>0.0</td></tr><tr><td>503100530</td><td>9780181</td><td>2066491</td><td>0</td><td>1</td><td>47.0</td><td>null</td><td>false</td><td>2</td><td>null</td><td>false</td><td>5</td><td>83</td><td>273</td><td>414</td><td>261</td><td>4</td><td>7</td><td>0.304029</td><td>0.200483</td><td>0.5</td><td>false</td><td>142</td><td>0.7096</td><td>&quot;Negative&quot;</td><td>1</td><td>7</td><td>12</td><td>229</td><td>4</td><td>76735</td><td>377322</td><td>3.307255e6</td><td>0.203367</td><td>&quot;article_default&quot;</td><td>0</td><td>2</td><td>&hellip;</td><td>2</td><td>6</td><td>1.0</td><td>0.266667</td><td>0.966667</td><td>0.466667</td><td>0.3</td><td>0.866667</td><td>0.28179</td><td>false</td><td>5</td><td>0.866667</td><td>0.0</td><td>0.0</td><td>0.0</td><td>0.166667</td><td>0.233333</td><td>0.0</td><td>0.0</td><td>0.0</td><td>0.0</td><td>0.0</td><td>0.033333</td><td>0.0</td><td>0.0</td><td>0.0</td><td>0.0</td><td>0.0</td><td>0.233333</td><td>0.0</td><td>0.0</td><td>0.0</td><td>0.0</td><td>0.333333</td><td>0.0</td><td>0.0</td><td>0.0</td></tr><tr><td>60288916</td><td>9695098</td><td>1348651</td><td>0</td><td>2</td><td>236.0</td><td>100.0</td><td>false</td><td>2</td><td>null</td><td>false</td><td>5</td><td>6</td><td>14</td><td>26</td><td>11</td><td>4</td><td>7</td><td>0.428571</td><td>0.230769</td><td>0.025641</td><td>false</td><td>539</td><td>0.7956</td><td>&quot;Neutral&quot;</td><td>0</td><td>10</td><td>48</td><td>245</td><td>2</td><td>42120</td><td>4032918</td><td>3.095533e6</td><td>0.010444</td><td>&quot;article_native&quot;</td><td>37</td><td>905</td><td>&hellip;</td><td>2</td><td>5</td><td>0.848765</td><td>0.183642</td><td>0.905864</td><td>0.304012</td><td>0.148148</td><td>0.782407</td><td>0.054015</td><td>false</td><td>11</td><td>0.983025</td><td>0.010802</td><td>0.0</td><td>0.0</td><td>0.237654</td><td>0.186728</td><td>0.027778</td><td>0.0</td><td>0.0</td><td>0.0</td><td>0.0</td><td>0.029321</td><td>0.0</td><td>0.0</td><td>0.024691</td><td>0.0</td><td>0.0</td><td>0.111111</td><td>0.0</td><td>0.0</td><td>0.003086</td><td>0.0</td><td>0.328704</td><td>0.033951</td><td>0.0</td><td>0.006173</td></tr><tr><td>306096294</td><td>9780302</td><td>410405</td><td>0</td><td>1</td><td>24.0</td><td>null</td><td>false</td><td>2</td><td>null</td><td>false</td><td>5</td><td>50</td><td>134</td><td>196</td><td>127</td><td>4</td><td>7</td><td>0.373134</td><td>0.255102</td><td>0.245421</td><td>false</td><td>118</td><td>0.8715</td><td>&quot;Neutral&quot;</td><td>1</td><td>10</td><td>16</td><td>310</td><td>3</td><td>61696</td><td>303666</td><td>3.364859e6</td><td>0.203171</td><td>&quot;article_default&quot;</td><td>0</td><td>0</td><td>&hellip;</td><td>4</td><td>19</td><td>0.859375</td><td>0.21875</td><td>0.96875</td><td>0.265625</td><td>0.171875</td><td>0.78125</td><td>0.236455</td><td>true</td><td>7</td><td>0.90625</td><td>0.0</td><td>0.0</td><td>0.0</td><td>0.203125</td><td>0.171875</td><td>0.0625</td><td>0.0</td><td>0.0</td><td>0.0</td><td>0.0</td><td>0.0</td><td>0.0</td><td>0.0</td><td>0.015625</td><td>0.0</td><td>0.0</td><td>0.140625</td><td>0.0</td><td>0.0</td><td>0.0</td><td>0.0</td><td>0.359375</td><td>0.046875</td><td>0.0</td><td>0.0</td></tr></tbody></table></div>"
      ],
      "text/plain": [
       "shape: (5, 165)\n",
       "┌─────────────┬─────────┬─────────┬────────┬───┬────────────┬────────────┬────────────┬────────────┐\n",
       "│ impression_ ┆ article ┆ user_id ┆ target ┆ … ┆ Category_n ┆ Category_n ┆ Category_v ┆ Category_s │\n",
       "│ id          ┆ ---     ┆ ---     ┆ ---    ┆   ┆ yheder_Pct ┆ ationen_Pc ┆ ideo_Pct   ┆ ex_og_saml │\n",
       "│ ---         ┆ i32     ┆ u32     ┆ i8     ┆   ┆ ---        ┆ t          ┆ ---        ┆ iv_Pct     │\n",
       "│ u32         ┆         ┆         ┆        ┆   ┆ f32        ┆ ---        ┆ f32        ┆ ---        │\n",
       "│             ┆         ┆         ┆        ┆   ┆            ┆ f32        ┆            ┆ f32        │\n",
       "╞═════════════╪═════════╪═════════╪════════╪═══╪════════════╪════════════╪════════════╪════════════╡\n",
       "│ 260910155   ┆ 9765618 ┆ 92186   ┆ 0      ┆ … ┆ 0.46729    ┆ 0.093458   ┆ 0.0        ┆ 0.0        │\n",
       "│ 64250494    ┆ 9766434 ┆ 1970563 ┆ 1      ┆ … ┆ 0.479452   ┆ 0.013699   ┆ 0.0        ┆ 0.0        │\n",
       "│ 503100530   ┆ 9780181 ┆ 2066491 ┆ 0      ┆ … ┆ 0.333333   ┆ 0.0        ┆ 0.0        ┆ 0.0        │\n",
       "│ 60288916    ┆ 9695098 ┆ 1348651 ┆ 0      ┆ … ┆ 0.328704   ┆ 0.033951   ┆ 0.0        ┆ 0.006173   │\n",
       "│ 306096294   ┆ 9780302 ┆ 410405  ┆ 0      ┆ … ┆ 0.359375   ┆ 0.046875   ┆ 0.0        ┆ 0.0        │\n",
       "└─────────────┴─────────┴─────────┴────────┴───┴────────────┴────────────┴────────────┴────────────┘"
      ]
     },
     "execution_count": 62,
     "metadata": {},
     "output_type": "execute_result"
    }
   ],
   "source": [
    "prev_columns = [c for c in val_ds.columns if c not in ['impression_id', 'article', 'impression_time']]\n",
    "\n",
    "val_ds = pl.concat(\n",
    "    rows.join(history_val.select(['user_id', 'article_id_fixed', 'impression_time_fixed']), on='user_id', how='left') \\\n",
    "        .join(articles.select(['article_id', 'topics', 'entity_groups', 'topics_idf'] + topic_model_columns), \n",
    "              left_on='article', right_on='article_id', how='left') \\\n",
    "        .explode(['article_id_fixed', 'impression_time_fixed']) \\\n",
    "        .join(articles.select(['article_id', 'topics', 'entity_groups'] + topic_model_columns), \n",
    "              left_on='article_id_fixed', right_on='article_id', how='left') \\\n",
    "        .rename({'topics_right': 'topics_history', 'entity_groups_right': 'entity_groups_history'}) \\\n",
    "        .rename({f'topic_model_embedding_{i}_right': f'topic_model_embedding_{i}_history' for i in range(N_COMPONENTS)}) \\\n",
    "        .with_columns(\n",
    "            # 1/delay gives the weight for the weighted mean of the lda embeddings\n",
    "            (1 / (pl.col('impression_time') - pl.col('impression_time_fixed')).dt.total_hours().sqrt()).alias('history_weight'),\n",
    "            (pl.col(\"topics\").list.set_intersection(pl.col(\"topics_history\")).list.len().truediv(\n",
    "                pl.col(\"topics\").list.set_union(pl.col(\"topics_history\")).list.len()\n",
    "            )).alias(\"JS\"),\n",
    "            pl.col('entity_groups').list.set_intersection(pl.col('entity_groups_history')).list.len().alias('common_entities'),\n",
    "        ).drop(['entity_groups_history', 'entity_groups', 'topics', 'topics_history']) \\\n",
    "        .with_columns(\n",
    "            # summing delays to normalize them before weighted mean\n",
    "            pl.col('history_weight').sum().over(['impression_id', 'article']).alias('history_weight_sum'),\n",
    "            *[pl.col(x).mul(pl.col(f'{x}_history')).alias(f'{x}_dot') for x in topic_model_columns],\n",
    "            *[pl.col(x).mul(pl.col(x)) for x in topic_model_columns],\n",
    "            *[pl.col(f'{x}_history').mul(pl.col(f'{x}_history')).alias(f'{x}_history_square') for x in topic_model_columns],\n",
    "        ).with_columns(\n",
    "            # weights now sum to 1\n",
    "            pl.col('history_weight').truediv(pl.col('history_weight_sum')),\n",
    "            pl.sum_horizontal(topic_model_columns).sqrt().alias('topic_model_norm'),\n",
    "            pl.sum_horizontal([f'{x}_history_square' for x in topic_model_columns]).sqrt().alias('topic_model_history_norm'),\n",
    "            pl.sum_horizontal([f'{x}_dot' for x in topic_model_columns]).alias('topic_model_dot'),\n",
    "        ).with_columns(\n",
    "            *[pl.col(f'{x}_history').mul(pl.col('history_weight')).alias(f'{x}_history_weighted') for i, x in enumerate(topic_model_columns)],\n",
    "            pl.col('topic_model_dot').truediv(pl.col('topic_model_norm').mul('topic_model_history_norm')).alias('topic_model_cosine')\n",
    "        ).group_by(['impression_id', 'article']).agg(\n",
    "            pl.col(prev_train_columns).first(),\n",
    "            pl.col('topics_idf').first(),\n",
    "            pl.col('common_entities').mean().alias('MeanCommonEntities'),\n",
    "            pl.col('common_entities').max().alias('MaxCommonEntities'),\n",
    "            pl.col(\"JS\").mean().alias(\"mean_JS\"),\n",
    "            pl.col(\"JS\").min().alias(\"min_JS\"),\n",
    "            pl.col(\"JS\").max().alias(\"max_JS\"),\n",
    "            pl.col(\"JS\").std().alias(\"std_JS\"),\n",
    "            pl.col(\"JS\").mul(pl.col(\"history_weight\")).sum().alias(\"weighted_mean_JS\"),\n",
    "            pl.col(\"topic_model_cosine\").mean().alias(\"mean_topic_model_cosine\"),\n",
    "            pl.col(\"topic_model_cosine\").min().alias(\"min_topic_model_cosine\"),\n",
    "            pl.col(\"topic_model_cosine\").max().alias(\"max_topic_model_cosine\"),\n",
    "            pl.col(\"topic_model_cosine\").std().alias(\"std_topic_model_cosine\"),\n",
    "            pl.col(\"topic_model_cosine\").mul(pl.col(\"history_weight\")).sum().alias(\"weighted_mean_topic_model_cosine\"),\n",
    "            *[pl.col(f'{x}_history').mean().alias(f'lda_{i}_history_mean') for i, x in enumerate(topic_model_columns)],\n",
    "            *[pl.col(f'{x}_history_weighted').sum().alias(f'lda_{i}_history_weighted_mean') for i, x in enumerate(topic_model_columns)]\n",
    "        ).join(history_val.drop(['article_id_fixed', 'impression_time_fixed']), on='user_id', how='left') \\\n",
    "        .with_columns(\n",
    "            pl.struct(['topics_idf', 'topics_flatten_tf_idf']).map_elements(\n",
    "                lambda x: cosine_similarity(x['topics_idf'], x['topics_flatten_tf_idf']), return_dtype=pl.Float64\n",
    "            ).cast(pl.Float32).alias('topics_cosine'),\n",
    "            (pl.col('category') == pl.col('MostFrequentCategory')).alias('IsFavouriteCategory'),\n",
    "            pl.col('category_right').list.n_unique().alias('NumberDifferentCategories'),\n",
    "            list_pct_matches_with_col('category_right', 'category').alias('PctCategoryMatches'),\n",
    "        ).with_columns(\n",
    "            [list_pct_matches_with_constant('category_right', c).alias(f'Category_{c_str}_Pct')\n",
    "             for c, c_str in unique_categories.items()]\n",
    "        ).drop(['topics_idf', 'topics_flatten', 'topics_flatten_tf_idf', 'category_right'])\n",
    "    for rows in tqdm.tqdm(val_ds.iter_slices(10000), total=val_ds.shape[0] // 10000)\n",
    ")\n",
    "\n",
    "val_ds = reduce_polars_df_memory_size(val_ds)\n",
    "PrintColor(f\"\\n\" + GetMemUsage(), color = Fore.RED)\n",
    "val_ds.head()"
   ]
  },
  {
   "cell_type": "code",
   "execution_count": 63,
   "id": "22815e94",
   "metadata": {
    "execution": {
     "iopub.execute_input": "2024-05-19T14:01:51.235332Z",
     "iopub.status.busy": "2024-05-19T14:01:51.234899Z",
     "iopub.status.idle": "2024-05-19T14:03:20.504769Z",
     "shell.execute_reply": "2024-05-19T14:03:20.503218Z"
    },
    "papermill": {
     "duration": 95.00789,
     "end_time": "2024-05-19T14:03:20.508411",
     "exception": false,
     "start_time": "2024-05-19T14:01:45.500521",
     "status": "completed"
    },
    "tags": []
   },
   "outputs": [
    {
     "name": "stderr",
     "output_type": "stream",
     "text": [
      "  0%|          | 0/12 [00:00<?, ?it/s]"
     ]
    },
    {
     "name": "stdout",
     "output_type": "stream",
     "text": [
      "Memory usage of dataframe is 1807.54 MB\n"
     ]
    },
    {
     "name": "stderr",
     "output_type": "stream",
     "text": [
      "  8%|▊         | 1/12 [00:07<01:26,  7.84s/it]"
     ]
    },
    {
     "name": "stdout",
     "output_type": "stream",
     "text": [
      "Memory usage after optimization is: 1695.81 MB\n",
      "Decreased by 6.2%\n",
      "Memory usage of dataframe is 1729.68 MB\n"
     ]
    },
    {
     "name": "stderr",
     "output_type": "stream",
     "text": [
      " 17%|█▋        | 2/12 [00:12<00:56,  5.70s/it]"
     ]
    },
    {
     "name": "stdout",
     "output_type": "stream",
     "text": [
      "Memory usage after optimization is: 1713.72 MB\n",
      "Decreased by 0.9%\n",
      "Memory usage of dataframe is 1883.06 MB\n"
     ]
    },
    {
     "name": "stderr",
     "output_type": "stream",
     "text": [
      " 25%|██▌       | 3/12 [00:23<01:15,  8.44s/it]"
     ]
    },
    {
     "name": "stdout",
     "output_type": "stream",
     "text": [
      "Memory usage after optimization is: 1799.26 MB\n",
      "Decreased by 4.5%\n",
      "Memory usage of dataframe is 2113.85 MB\n"
     ]
    },
    {
     "name": "stderr",
     "output_type": "stream",
     "text": [
      " 33%|███▎      | 4/12 [00:27<00:52,  6.62s/it]"
     ]
    },
    {
     "name": "stdout",
     "output_type": "stream",
     "text": [
      "Memory usage after optimization is: 1990.95 MB\n",
      "Decreased by 5.8%\n",
      "Memory usage of dataframe is 2372.57 MB\n"
     ]
    },
    {
     "name": "stderr",
     "output_type": "stream",
     "text": [
      " 42%|████▏     | 5/12 [00:41<01:04,  9.24s/it]"
     ]
    },
    {
     "name": "stdout",
     "output_type": "stream",
     "text": [
      "Memory usage after optimization is: 2182.63 MB\n",
      "Decreased by 8.0%\n",
      "Memory usage of dataframe is 2564.26 MB\n"
     ]
    },
    {
     "name": "stderr",
     "output_type": "stream",
     "text": [
      " 50%|█████     | 6/12 [00:55<01:05, 10.85s/it]"
     ]
    },
    {
     "name": "stdout",
     "output_type": "stream",
     "text": [
      "Memory usage after optimization is: 2374.32 MB\n",
      "Decreased by 7.4%\n",
      "Memory usage of dataframe is 2687.17 MB\n"
     ]
    },
    {
     "name": "stderr",
     "output_type": "stream",
     "text": [
      " 58%|█████▊    | 7/12 [01:07<00:56, 11.30s/it]"
     ]
    },
    {
     "name": "stdout",
     "output_type": "stream",
     "text": [
      "Memory usage after optimization is: 2564.26 MB\n",
      "Decreased by 4.6%\n",
      "Memory usage of dataframe is 2878.85 MB\n"
     ]
    },
    {
     "name": "stderr",
     "output_type": "stream",
     "text": [
      " 67%|██████▋   | 8/12 [01:16<00:41, 10.43s/it]"
     ]
    },
    {
     "name": "stdout",
     "output_type": "stream",
     "text": [
      "Memory usage after optimization is: 2755.95 MB\n",
      "Decreased by 4.3%\n",
      "Memory usage of dataframe is 2800.64 MB\n"
     ]
    },
    {
     "name": "stderr",
     "output_type": "stream",
     "text": [
      " 75%|███████▌  | 9/12 [01:19<00:24,  8.07s/it]"
     ]
    },
    {
     "name": "stdout",
     "output_type": "stream",
     "text": [
      "Memory usage after optimization is: 2800.64 MB\n",
      "Decreased by 0.0%\n",
      "Memory usage of dataframe is 2867.68 MB\n"
     ]
    },
    {
     "name": "stderr",
     "output_type": "stream",
     "text": [
      " 83%|████████▎ | 10/12 [01:22<00:13,  6.50s/it]"
     ]
    },
    {
     "name": "stdout",
     "output_type": "stream",
     "text": [
      "Memory usage after optimization is: 2856.51 MB\n",
      "Decreased by 0.4%\n",
      "Memory usage of dataframe is 2890.03 MB\n"
     ]
    },
    {
     "name": "stderr",
     "output_type": "stream",
     "text": [
      " 92%|█████████▏| 11/12 [01:25<00:05,  5.57s/it]"
     ]
    },
    {
     "name": "stdout",
     "output_type": "stream",
     "text": [
      "Memory usage after optimization is: 2864.89 MB\n",
      "Decreased by 0.9%\n",
      "Memory usage of dataframe is 2887.23 MB\n"
     ]
    },
    {
     "name": "stderr",
     "output_type": "stream",
     "text": [
      "100%|██████████| 12/12 [01:29<00:00,  7.44s/it]"
     ]
    },
    {
     "name": "stdout",
     "output_type": "stream",
     "text": [
      "Memory usage after optimization is: 2876.06 MB\n",
      "Decreased by 0.4%\n",
      "\u001b[1m\u001b[31m\n",
      "RAM memory GB usage = 11.0\u001b[0m\n"
     ]
    },
    {
     "name": "stderr",
     "output_type": "stream",
     "text": [
      "\n"
     ]
    },
    {
     "data": {
      "text/html": [
       "<div><style>\n",
       ".dataframe > thead > tr,\n",
       ".dataframe > tbody > tr {\n",
       "  text-align: right;\n",
       "  white-space: pre-wrap;\n",
       "}\n",
       "</style>\n",
       "<small>shape: (2, 298)</small><table border=\"1\" class=\"dataframe\"><thead><tr><th>impression_id</th><th>article</th><th>user_id</th><th>target</th><th>device_type</th><th>read_time</th><th>scroll_percentage</th><th>is_sso_user</th><th>gender</th><th>age</th><th>is_subscriber</th><th>postcode</th><th>trendiness_score_1d</th><th>trendiness_score_3d</th><th>trendiness_score_5d</th><th>trendiness_score_3d_leak</th><th>weekday</th><th>hour</th><th>trendiness_score_1d/3d</th><th>trendiness_score_1d/5d</th><th>normalized_trendiness_score_overall</th><th>premium</th><th>category</th><th>sentiment_score</th><th>sentiment_label</th><th>num_images</th><th>title_len</th><th>subtitle_len</th><th>body_len</th><th>num_topics</th><th>total_pageviews</th><th>total_inviews</th><th>total_read_time</th><th>total_pageviews/inviews</th><th>article_type</th><th>article_delay_days</th><th>article_delay_hours</th><th>&hellip;</th><th>entropy_impression_trendiness_score_category</th><th>entropy_impression_std_JS</th><th>entropy_impression_total_read_time</th><th>entropy_impression_endorsement_10h_leak</th><th>entropy_impression_trendiness_score_3d_leak</th><th>entropy_impression_clicked_count</th><th>entropy_impression_inview_count</th><th>trendiness_score_3d_minus_median_impression</th><th>trendiness_score_5d_minus_median_impression</th><th>endorsement_10h_minus_median_impression</th><th>total_pageviews/inviews_minus_median_impression</th><th>mean_JS_minus_median_impression</th><th>mean_topic_model_cosine_minus_median_impression</th><th>topics_cosine_minus_median_impression</th><th>article_delay_hours_minus_median_impression</th><th>total_pageviews_minus_median_impression</th><th>total_inviews_minus_median_impression</th><th>trendiness_score_category_minus_median_impression</th><th>std_JS_minus_median_impression</th><th>total_read_time_minus_median_impression</th><th>endorsement_10h_leak_minus_median_impression</th><th>trendiness_score_3d_leak_minus_median_impression</th><th>clicked_count_minus_median_impression</th><th>inview_count_minus_median_impression</th><th>mean_JS_l_inf_user</th><th>std_JS_l_inf_user</th><th>mean_topic_model_cosine_l_inf_user</th><th>topics_cosine_l_inf_user</th><th>article_delay_hours_l_inf_article</th><th>mean_JS_l_inf_article</th><th>std_JS_l_inf_article</th><th>mean_topic_model_cosine_l_inf_article</th><th>topics_cosine_l_inf_article</th><th>category_diversity_impression</th><th>sentiment_label_diversity_impression</th><th>article_type_diversity_impression</th><th>endorsement_20h_articleuser_l_inf_article_user</th></tr><tr><td>u32</td><td>i32</td><td>u32</td><td>i8</td><td>i8</td><td>f32</td><td>f32</td><td>bool</td><td>i8</td><td>i8</td><td>bool</td><td>i8</td><td>i16</td><td>i16</td><td>i16</td><td>i16</td><td>i8</td><td>i8</td><td>f32</td><td>f32</td><td>f32</td><td>bool</td><td>i16</td><td>f32</td><td>str</td><td>u32</td><td>u8</td><td>u8</td><td>u16</td><td>u32</td><td>i32</td><td>i32</td><td>f32</td><td>f32</td><td>str</td><td>i16</td><td>i32</td><td>&hellip;</td><td>f32</td><td>f32</td><td>f32</td><td>f32</td><td>f32</td><td>f32</td><td>f32</td><td>f32</td><td>f32</td><td>f32</td><td>f32</td><td>f32</td><td>f32</td><td>f32</td><td>f32</td><td>f32</td><td>f32</td><td>f32</td><td>f32</td><td>f32</td><td>f32</td><td>f32</td><td>f32</td><td>f32</td><td>f32</td><td>f32</td><td>f32</td><td>f32</td><td>f32</td><td>f32</td><td>f32</td><td>f32</td><td>f32</td><td>u8</td><td>u8</td><td>u8</td><td>f32</td></tr></thead><tbody><tr><td>260910155</td><td>9765618</td><td>92186</td><td>0</td><td>1</td><td>94.0</td><td>100.0</td><td>false</td><td>2</td><td>null</td><td>false</td><td>5</td><td>1</td><td>5</td><td>9</td><td>3</td><td>4</td><td>7</td><td>0.2</td><td>0.111111</td><td>0.009158</td><td>false</td><td>118</td><td>0.7948</td><td>&quot;Neutral&quot;</td><td>1</td><td>4</td><td>15</td><td>258</td><td>1</td><td>54517</td><td>593110</td><td>3.46491e6</td><td>0.091917</td><td>&quot;article_default&quot;</td><td>10</td><td>243</td><td>&hellip;</td><td>1.609438</td><td>1.609402</td><td>1.414867</td><td>0.268647</td><td>0.38365</td><td>1.138851</td><td>0.708994</td><td>0.0</td><td>0.0</td><td>0.0</td><td>-0.128655</td><td>0.0</td><td>0.076478</td><td>0.0</td><td>122.0</td><td>-80632.0</td><td>0.0</td><td>0.0</td><td>0.0</td><td>-4.222602e6</td><td>-13.0</td><td>0.0</td><td>-855.0</td><td>-64.0</td><td>0.328913</td><td>0.928258</td><td>0.952246</td><td>0.219473</td><td>0.624679</td><td>0.280374</td><td>0.544769</td><td>0.948035</td><td>0.315574</td><td>1</td><td>2</td><td>1</td><td>1.0</td></tr><tr><td>64250494</td><td>9766434</td><td>1970563</td><td>1</td><td>1</td><td>11.0</td><td>null</td><td>false</td><td>2</td><td>null</td><td>false</td><td>5</td><td>97</td><td>304</td><td>445</td><td>289</td><td>4</td><td>7</td><td>0.319079</td><td>0.217978</td><td>0.556777</td><td>false</td><td>498</td><td>0.9787</td><td>&quot;Negative&quot;</td><td>3</td><td>11</td><td>18</td><td>675</td><td>4</td><td>71653</td><td>361202</td><td>5.608554e6</td><td>0.198374</td><td>&quot;article_default&quot;</td><td>0</td><td>2</td><td>&hellip;</td><td>1.521503</td><td>1.959183</td><td>1.058495</td><td>1.987598</td><td>1.767166</td><td>1.021145</td><td>1.916984</td><td>155.5</td><td>225.5</td><td>12.5</td><td>0.030306</td><td>0.109396</td><td>-0.024081</td><td>0.372818</td><td>-1716.5</td><td>9174.5</td><td>-12862.0</td><td>-1.0</td><td>0.108122</td><td>769067.0</td><td>-207.0</td><td>148.5</td><td>585.5</td><td>-986.0</td><td>1.0</td><td>0.770843</td><td>0.876555</td><td>1.0</td><td>0.011765</td><td>0.477458</td><td>0.535888</td><td>0.811139</td><td>0.671029</td><td>4</td><td>3</td><td>1</td><td>1.0</td></tr></tbody></table></div>"
      ],
      "text/plain": [
       "shape: (2, 298)\n",
       "┌─────────────┬─────────┬─────────┬────────┬───┬────────────┬────────────┬────────────┬────────────┐\n",
       "│ impression_ ┆ article ┆ user_id ┆ target ┆ … ┆ category_d ┆ sentiment_ ┆ article_ty ┆ endorsemen │\n",
       "│ id          ┆ ---     ┆ ---     ┆ ---    ┆   ┆ iversity_i ┆ label_dive ┆ pe_diversi ┆ t_20h_arti │\n",
       "│ ---         ┆ i32     ┆ u32     ┆ i8     ┆   ┆ mpression  ┆ rsity_impr ┆ ty_impress ┆ cleuser_l_ │\n",
       "│ u32         ┆         ┆         ┆        ┆   ┆ ---        ┆ …          ┆ …          ┆ …          │\n",
       "│             ┆         ┆         ┆        ┆   ┆ u8         ┆ ---        ┆ ---        ┆ ---        │\n",
       "│             ┆         ┆         ┆        ┆   ┆            ┆ u8         ┆ u8         ┆ f32        │\n",
       "╞═════════════╪═════════╪═════════╪════════╪═══╪════════════╪════════════╪════════════╪════════════╡\n",
       "│ 260910155   ┆ 9765618 ┆ 92186   ┆ 0      ┆ … ┆ 1          ┆ 2          ┆ 1          ┆ 1.0        │\n",
       "│ 64250494    ┆ 9766434 ┆ 1970563 ┆ 1      ┆ … ┆ 4          ┆ 3          ┆ 1          ┆ 1.0        │\n",
       "└─────────────┴─────────┴─────────┴────────┴───┴────────────┴────────────┴────────────┴────────────┘"
      ]
     },
     "execution_count": 63,
     "metadata": {},
     "output_type": "execute_result"
    }
   ],
   "source": [
    "for expressions_group in tqdm.tqdm(expressions):\n",
    "    val_ds = val_ds.with_columns(expressions_group)\n",
    "    val_ds = reduce_polars_df_memory_size(val_ds)\n",
    "\n",
    "PrintColor(f\"\\n\" + GetMemUsage(), color = Fore.RED)\n",
    "val_ds.head(2)"
   ]
  },
  {
   "cell_type": "code",
   "execution_count": 64,
   "id": "edf165ff",
   "metadata": {
    "execution": {
     "iopub.execute_input": "2024-05-19T14:03:32.026228Z",
     "iopub.status.busy": "2024-05-19T14:03:32.025745Z",
     "iopub.status.idle": "2024-05-19T14:03:32.471026Z",
     "shell.execute_reply": "2024-05-19T14:03:32.469571Z"
    },
    "papermill": {
     "duration": 6.189111,
     "end_time": "2024-05-19T14:03:32.474151",
     "exception": false,
     "start_time": "2024-05-19T14:03:26.285040",
     "status": "completed"
    },
    "tags": []
   },
   "outputs": [
    {
     "data": {
      "text/plain": [
       "0"
      ]
     },
     "execution_count": 64,
     "metadata": {},
     "output_type": "execute_result"
    }
   ],
   "source": [
    "del history_val\n",
    "del articles\n",
    "del behaviors_val\n",
    "\n",
    "gc.collect()"
   ]
  },
  {
   "cell_type": "code",
   "execution_count": 65,
   "id": "165d0c14",
   "metadata": {
    "execution": {
     "iopub.execute_input": "2024-05-19T14:03:43.969749Z",
     "iopub.status.busy": "2024-05-19T14:03:43.969303Z",
     "iopub.status.idle": "2024-05-19T14:03:43.977401Z",
     "shell.execute_reply": "2024-05-19T14:03:43.975855Z"
    },
    "papermill": {
     "duration": 5.799843,
     "end_time": "2024-05-19T14:03:43.980172",
     "exception": false,
     "start_time": "2024-05-19T14:03:38.180329",
     "status": "completed"
    },
    "tags": []
   },
   "outputs": [
    {
     "data": {
      "text/plain": [
       "(2928942, 298)"
      ]
     },
     "execution_count": 65,
     "metadata": {},
     "output_type": "execute_result"
    }
   ],
   "source": [
    "val_ds.shape"
   ]
  },
  {
   "cell_type": "code",
   "execution_count": 66,
   "id": "d070e2d0",
   "metadata": {
    "execution": {
     "iopub.execute_input": "2024-05-19T14:03:55.615806Z",
     "iopub.status.busy": "2024-05-19T14:03:55.614899Z",
     "iopub.status.idle": "2024-05-19T14:03:58.630597Z",
     "shell.execute_reply": "2024-05-19T14:03:58.629427Z"
    },
    "papermill": {
     "duration": 8.773521,
     "end_time": "2024-05-19T14:03:58.633247",
     "exception": false,
     "start_time": "2024-05-19T14:03:49.859726",
     "status": "completed"
    },
    "tags": []
   },
   "outputs": [
    {
     "name": "stdout",
     "output_type": "stream",
     "text": [
      "\u001b[1m\u001b[31m\n",
      "RAM memory GB usage = 13.85\u001b[0m\n"
     ]
    },
    {
     "data": {
      "text/plain": [
       "0"
      ]
     },
     "execution_count": 66,
     "metadata": {},
     "output_type": "execute_result"
    }
   ],
   "source": [
    "X_val = val_ds.drop(['impression_id', 'article', 'user_id', 'target']).to_pandas()\n",
    "val_ds = val_ds.select(['impression_id', 'article', 'target'])\n",
    "\n",
    "PrintColor(f\"\\n\" + GetMemUsage(), color = Fore.RED)\n",
    "gc.collect()"
   ]
  },
  {
   "cell_type": "code",
   "execution_count": 67,
   "id": "d2b6ed03",
   "metadata": {
    "execution": {
     "iopub.execute_input": "2024-05-19T14:04:10.252640Z",
     "iopub.status.busy": "2024-05-19T14:04:10.252191Z",
     "iopub.status.idle": "2024-05-19T14:09:10.762654Z",
     "shell.execute_reply": "2024-05-19T14:09:10.761127Z"
    },
    "papermill": {
     "duration": 312.187575,
     "end_time": "2024-05-19T14:09:16.524426",
     "exception": false,
     "start_time": "2024-05-19T14:04:04.336851",
     "status": "completed"
    },
    "tags": []
   },
   "outputs": [
    {
     "name": "stdout",
     "output_type": "stream",
     "text": [
      "\u001b[1m\u001b[31m\n",
      "RAM memory GB usage = 14.17\u001b[0m\n"
     ]
    }
   ],
   "source": [
    "X_val[numerical_columns] = X_val[numerical_columns].astype(np.float32)\n",
    "\n",
    "for i, cat_col in enumerate(categorical_columns):\n",
    "    X_val[cat_col] = X_val[cat_col].astype(str)\n",
    "    categories_val = list(X_val[cat_col].unique())\n",
    "    unknown_categories = [x for x in categories_val if x not in categories[i]]\n",
    "    X_val[cat_col] = X_val[cat_col].astype(str).replace(list(unknown_categories), 'Unknown')\n",
    "    \n",
    "X_val[categorical_columns] = categorical_encoder.transform(X_val[categorical_columns]).astype(np.float32)\n",
    "X_val[numerical_columns] = numerical_transformer.transform(X_val[numerical_columns].fillna(0).replace([-np.inf, np.inf], 0)).astype(np.float32)\n",
    "\n",
    "gc.collect()\n",
    "PrintColor(f\"\\n\" + GetMemUsage(), color=Fore.RED)"
   ]
  },
  {
   "cell_type": "code",
   "execution_count": 68,
   "id": "1a08aaad",
   "metadata": {
    "execution": {
     "iopub.execute_input": "2024-05-19T14:09:28.015769Z",
     "iopub.status.busy": "2024-05-19T14:09:28.015303Z",
     "iopub.status.idle": "2024-05-19T14:17:02.628545Z",
     "shell.execute_reply": "2024-05-19T14:17:02.627107Z"
    },
    "papermill": {
     "duration": 460.355609,
     "end_time": "2024-05-19T14:17:02.631341",
     "exception": false,
     "start_time": "2024-05-19T14:09:22.275732",
     "status": "completed"
    },
    "tags": []
   },
   "outputs": [
    {
     "name": "stdout",
     "output_type": "stream",
     "text": [
      "\u001b[1m11442/11442\u001b[0m \u001b[32m━━━━━━━━━━━━━━━━━━━━\u001b[0m\u001b[37m\u001b[0m \u001b[1m437s\u001b[0m 38ms/step\n"
     ]
    },
    {
     "data": {
      "text/html": [
       "<div><style>\n",
       ".dataframe > thead > tr,\n",
       ".dataframe > tbody > tr {\n",
       "  text-align: right;\n",
       "  white-space: pre-wrap;\n",
       "}\n",
       "</style>\n",
       "<small>shape: (2_928_942, 3)</small><table border=\"1\" class=\"dataframe\"><thead><tr><th>impression_id</th><th>target</th><th>prediction</th></tr><tr><td>u32</td><td>i8</td><td>f32</td></tr></thead><tbody><tr><td>260910155</td><td>0</td><td>0.211321</td></tr><tr><td>64250494</td><td>1</td><td>0.810648</td></tr><tr><td>503100530</td><td>0</td><td>0.512558</td></tr><tr><td>60288916</td><td>0</td><td>0.066279</td></tr><tr><td>306096294</td><td>0</td><td>0.061367</td></tr><tr><td>&hellip;</td><td>&hellip;</td><td>&hellip;</td></tr><tr><td>66467115</td><td>0</td><td>0.028935</td></tr><tr><td>70873850</td><td>0</td><td>0.643714</td></tr><tr><td>180492262</td><td>0</td><td>0.182104</td></tr><tr><td>422650657</td><td>0</td><td>0.765447</td></tr><tr><td>506390227</td><td>0</td><td>0.085139</td></tr></tbody></table></div>"
      ],
      "text/plain": [
       "shape: (2_928_942, 3)\n",
       "┌───────────────┬────────┬────────────┐\n",
       "│ impression_id ┆ target ┆ prediction │\n",
       "│ ---           ┆ ---    ┆ ---        │\n",
       "│ u32           ┆ i8     ┆ f32        │\n",
       "╞═══════════════╪════════╪════════════╡\n",
       "│ 260910155     ┆ 0      ┆ 0.211321   │\n",
       "│ 64250494      ┆ 1      ┆ 0.810648   │\n",
       "│ 503100530     ┆ 0      ┆ 0.512558   │\n",
       "│ 60288916      ┆ 0      ┆ 0.066279   │\n",
       "│ 306096294     ┆ 0      ┆ 0.061367   │\n",
       "│ …             ┆ …      ┆ …          │\n",
       "│ 66467115      ┆ 0      ┆ 0.028935   │\n",
       "│ 70873850      ┆ 0      ┆ 0.643714   │\n",
       "│ 180492262     ┆ 0      ┆ 0.182104   │\n",
       "│ 422650657     ┆ 0      ┆ 0.765447   │\n",
       "│ 506390227     ┆ 0      ┆ 0.085139   │\n",
       "└───────────────┴────────┴────────────┘"
      ]
     },
     "execution_count": 68,
     "metadata": {},
     "output_type": "execute_result"
    }
   ],
   "source": [
    "val_ds = val_ds.with_columns(\n",
    "    pl.Series(\n",
    "        model.predict([X_val[numerical_columns].values] + [X_val[col].values.reshape(-1, 1) for col in categorical_columns], batch_size=256).flatten()\n",
    "    ).alias('prediction')\n",
    ")\n",
    "val_ds.select(['impression_id', 'target', 'prediction'])"
   ]
  },
  {
   "cell_type": "code",
   "execution_count": 69,
   "id": "a9eac578",
   "metadata": {
    "execution": {
     "iopub.execute_input": "2024-05-19T14:17:15.631811Z",
     "iopub.status.busy": "2024-05-19T14:17:15.631374Z",
     "iopub.status.idle": "2024-05-19T14:17:16.133313Z",
     "shell.execute_reply": "2024-05-19T14:17:16.131845Z"
    },
    "papermill": {
     "duration": 6.848808,
     "end_time": "2024-05-19T14:17:16.135937",
     "exception": false,
     "start_time": "2024-05-19T14:17:09.287129",
     "status": "completed"
    },
    "tags": []
   },
   "outputs": [
    {
     "name": "stdout",
     "output_type": "stream",
     "text": [
      "\u001b[1m\u001b[31m\n",
      "RAM memory GB usage = 14.46\u001b[0m\n"
     ]
    }
   ],
   "source": [
    "del X_val\n",
    "\n",
    "gc.collect()\n",
    "PrintColor(f\"\\n\" + GetMemUsage(), color=Fore.RED)"
   ]
  },
  {
   "cell_type": "code",
   "execution_count": 70,
   "id": "0144aa0e",
   "metadata": {
    "execution": {
     "iopub.execute_input": "2024-05-19T14:17:29.090590Z",
     "iopub.status.busy": "2024-05-19T14:17:29.089542Z",
     "iopub.status.idle": "2024-05-19T14:17:29.235196Z",
     "shell.execute_reply": "2024-05-19T14:17:29.233803Z"
    },
    "papermill": {
     "duration": 6.676678,
     "end_time": "2024-05-19T14:17:29.238104",
     "exception": false,
     "start_time": "2024-05-19T14:17:22.561426",
     "status": "completed"
    },
    "tags": []
   },
   "outputs": [
    {
     "data": {
      "text/html": [
       "<div><style>\n",
       ".dataframe > thead > tr,\n",
       ".dataframe > tbody > tr {\n",
       "  text-align: right;\n",
       "  white-space: pre-wrap;\n",
       "}\n",
       "</style>\n",
       "<small>shape: (244_647, 3)</small><table border=\"1\" class=\"dataframe\"><thead><tr><th>impression_id</th><th>target</th><th>prediction</th></tr><tr><td>u32</td><td>list[i8]</td><td>list[f32]</td></tr></thead><tbody><tr><td>385839054</td><td>[0, 0, … 0]</td><td>[0.107536, 0.039166, … 0.082825]</td></tr><tr><td>108971773</td><td>[0, 0, … 0]</td><td>[0.576887, 0.360345, … 0.142999]</td></tr><tr><td>42141305</td><td>[0, 0, … 0]</td><td>[0.672165, 0.228486, … 0.329448]</td></tr><tr><td>203438295</td><td>[0, 0, … 0]</td><td>[0.110741, 0.06741, … 0.218889]</td></tr><tr><td>68837082</td><td>[0, 0, … 0]</td><td>[0.001388, 0.000629, … 0.000763]</td></tr><tr><td>&hellip;</td><td>&hellip;</td><td>&hellip;</td></tr><tr><td>456514380</td><td>[1, 0, … 0]</td><td>[0.819975, 0.476727, … 0.264302]</td></tr><tr><td>315665340</td><td>[0, 0, … 0]</td><td>[0.019097, 0.009687, … 0.385277]</td></tr><tr><td>386045436</td><td>[0, 0, … 0]</td><td>[0.632129, 0.024575, … 0.038265]</td></tr><tr><td>77504394</td><td>[0, 1, … 0]</td><td>[0.045588, 0.655538, … 0.367734]</td></tr><tr><td>60956013</td><td>[0, 0, … 1]</td><td>[0.51477, 0.000976, … 0.6403]</td></tr></tbody></table></div>"
      ],
      "text/plain": [
       "shape: (244_647, 3)\n",
       "┌───────────────┬─────────────┬─────────────────────────────────┐\n",
       "│ impression_id ┆ target      ┆ prediction                      │\n",
       "│ ---           ┆ ---         ┆ ---                             │\n",
       "│ u32           ┆ list[i8]    ┆ list[f32]                       │\n",
       "╞═══════════════╪═════════════╪═════════════════════════════════╡\n",
       "│ 385839054     ┆ [0, 0, … 0] ┆ [0.107536, 0.039166, … 0.08282… │\n",
       "│ 108971773     ┆ [0, 0, … 0] ┆ [0.576887, 0.360345, … 0.14299… │\n",
       "│ 42141305      ┆ [0, 0, … 0] ┆ [0.672165, 0.228486, … 0.32944… │\n",
       "│ 203438295     ┆ [0, 0, … 0] ┆ [0.110741, 0.06741, … 0.218889… │\n",
       "│ 68837082      ┆ [0, 0, … 0] ┆ [0.001388, 0.000629, … 0.00076… │\n",
       "│ …             ┆ …           ┆ …                               │\n",
       "│ 456514380     ┆ [1, 0, … 0] ┆ [0.819975, 0.476727, … 0.26430… │\n",
       "│ 315665340     ┆ [0, 0, … 0] ┆ [0.019097, 0.009687, … 0.38527… │\n",
       "│ 386045436     ┆ [0, 0, … 0] ┆ [0.632129, 0.024575, … 0.03826… │\n",
       "│ 77504394      ┆ [0, 1, … 0] ┆ [0.045588, 0.655538, … 0.36773… │\n",
       "│ 60956013      ┆ [0, 0, … 1] ┆ [0.51477, 0.000976, … 0.6403]   │\n",
       "└───────────────┴─────────────┴─────────────────────────────────┘"
      ]
     },
     "execution_count": 70,
     "metadata": {},
     "output_type": "execute_result"
    }
   ],
   "source": [
    "evaluation_ds = val_ds.group_by('impression_id').agg(pl.col('target'), pl.col('prediction'))\n",
    "evaluation_ds"
   ]
  },
  {
   "cell_type": "code",
   "execution_count": 71,
   "id": "f5450093",
   "metadata": {
    "execution": {
     "iopub.execute_input": "2024-05-19T14:17:41.974540Z",
     "iopub.status.busy": "2024-05-19T14:17:41.974095Z",
     "iopub.status.idle": "2024-05-19T14:26:37.693493Z",
     "shell.execute_reply": "2024-05-19T14:26:37.692199Z"
    },
    "papermill": {
     "duration": 548.752488,
     "end_time": "2024-05-19T14:26:44.293687",
     "exception": false,
     "start_time": "2024-05-19T14:17:35.541199",
     "status": "completed"
    },
    "tags": []
   },
   "outputs": [
    {
     "name": "stdout",
     "output_type": "stream",
     "text": [
      "CPU times: user 8min 55s, sys: 179 ms, total: 8min 55s\n",
      "Wall time: 8min 55s\n"
     ]
    },
    {
     "data": {
      "text/plain": [
       "<MetricEvaluator class>: \n",
       " {\n",
       "    \"auc\": 0.8069541056918358,\n",
       "    \"mrr\": 0.5935863069841049,\n",
       "    \"ndcg@5\": 0.6599144561561124,\n",
       "    \"ndcg@10\": 0.6853183720515245\n",
       "}"
      ]
     },
     "execution_count": 71,
     "metadata": {},
     "output_type": "execute_result"
    }
   ],
   "source": [
    "%%time\n",
    "\n",
    "met_eval = MetricEvaluator(\n",
    "    labels=evaluation_ds['target'].to_list(),\n",
    "    predictions=evaluation_ds['prediction'].to_list(),\n",
    "    metric_functions=[\n",
    "        AucScore(),\n",
    "        MrrScore(),\n",
    "        NdcgScore(k=5),\n",
    "        NdcgScore(k=10),\n",
    "    ],\n",
    ")\n",
    "met_eval.evaluate()"
   ]
  },
  {
   "cell_type": "code",
   "execution_count": 72,
   "id": "5b5df28e",
   "metadata": {
    "execution": {
     "iopub.execute_input": "2024-05-19T14:26:56.948259Z",
     "iopub.status.busy": "2024-05-19T14:26:56.947785Z",
     "iopub.status.idle": "2024-05-19T14:26:57.698862Z",
     "shell.execute_reply": "2024-05-19T14:26:57.697234Z"
    },
    "papermill": {
     "duration": 7.061076,
     "end_time": "2024-05-19T14:26:57.701707",
     "exception": false,
     "start_time": "2024-05-19T14:26:50.640631",
     "status": "completed"
    },
    "tags": []
   },
   "outputs": [],
   "source": [
    "import joblib\n",
    "\n",
    "model.save('/kaggle/working/gandalf.keras')\n",
    "joblib.dump(categorical_encoder, '/kaggle/working/categorical_encoder.joblib')\n",
    "joblib.dump(numerical_transformer, '/kaggle/working/numerical_transformer.joblib')\n",
    "val_ds.write_parquet('/kaggle/working/gandalf_predictions.parquet')"
   ]
  }
 ],
 "metadata": {
  "kaggle": {
   "accelerator": "none",
   "dataSources": [
    {
     "datasetId": 4622414,
     "sourceId": 8418097,
     "sourceType": "datasetVersion"
    }
   ],
   "dockerImageVersionId": 30673,
   "isGpuEnabled": false,
   "isInternetEnabled": true,
   "language": "python",
   "sourceType": "notebook"
  },
  "kernelspec": {
   "display_name": "Python 3",
   "language": "python",
   "name": "python3"
  },
  "language_info": {
   "codemirror_mode": {
    "name": "ipython",
    "version": 3
   },
   "file_extension": ".py",
   "mimetype": "text/x-python",
   "name": "python",
   "nbconvert_exporter": "python",
   "pygments_lexer": "ipython3",
   "version": "3.10.13"
  },
  "papermill": {
   "default_parameters": {},
   "duration": 14957.182198,
   "end_time": "2024-05-19T14:27:07.198610",
   "environment_variables": {},
   "exception": null,
   "input_path": "__notebook__.ipynb",
   "output_path": "__notebook__.ipynb",
   "parameters": {},
   "start_time": "2024-05-19T10:17:50.016412",
   "version": "2.5.0"
  },
  "widgets": {
   "application/vnd.jupyter.widget-state+json": {
    "state": {
     "46d8ab1d46cf4d14978f4d2b493c2a92": {
      "model_module": "@jupyter-widgets/output",
      "model_module_version": "1.0.0",
      "model_name": "OutputModel",
      "state": {
       "_dom_classes": [],
       "_model_module": "@jupyter-widgets/output",
       "_model_module_version": "1.0.0",
       "_model_name": "OutputModel",
       "_view_count": null,
       "_view_module": "@jupyter-widgets/output",
       "_view_module_version": "1.0.0",
       "_view_name": "OutputView",
       "layout": "IPY_MODEL_a84e66ae938f4771bae7e21f71ee9c55",
       "msg_id": "",
       "outputs": [
        {
         "data": {
          "text/html": "<pre style=\"white-space:pre;overflow-x:auto;line-height:normal;font-family:Menlo,'DejaVu Sans Mono',consolas,'Courier New',monospace\">Getting category               <span style=\"color: #729c1f; text-decoration-color: #729c1f\">━━━━━━━━━━━━━━━━━━━━━━━━━━━━━━━━━━━━━━━━</span> <span style=\"color: #800080; text-decoration-color: #800080\">100%</span> <span style=\"color: #008080; text-decoration-color: #008080\">0:00:00</span>\nGetting article_type           <span style=\"color: #729c1f; text-decoration-color: #729c1f\">━━━━━━━━━━━━━━━━━━━━━━━━━━━━━━━━━━━━━━━━</span> <span style=\"color: #800080; text-decoration-color: #800080\">100%</span> <span style=\"color: #008080; text-decoration-color: #008080\">0:00:00</span>\nGetting sentiment_label        <span style=\"color: #729c1f; text-decoration-color: #729c1f\">━━━━━━━━━━━━━━━━━━━━━━━━━━━━━━━━━━━━━━━━</span> <span style=\"color: #800080; text-decoration-color: #800080\">100%</span> <span style=\"color: #008080; text-decoration-color: #008080\">0:00:00</span>\nGetting sentiment_score        <span style=\"color: #729c1f; text-decoration-color: #729c1f\">━━━━━━━━━━━━━━━━━━━━━━━━━━━━━━━━━━━━━━━━</span> <span style=\"color: #800080; text-decoration-color: #800080\">100%</span> <span style=\"color: #008080; text-decoration-color: #008080\">0:00:00</span>\nGetting entity_groups          <span style=\"color: #729c1f; text-decoration-color: #729c1f\">━━━━━━━━━━━━━━━━━━━━━━━━━━━━━━━━━━━━━━━━</span> <span style=\"color: #800080; text-decoration-color: #800080\">100%</span> <span style=\"color: #008080; text-decoration-color: #008080\">0:00:00</span>\nGetting detailed entity_groups <span style=\"color: #729c1f; text-decoration-color: #729c1f\">━━━━━━━━━━━━━━━━━━━━━━━━━━━━━━━━━━━━━━━━</span> <span style=\"color: #800080; text-decoration-color: #800080\">100%</span> <span style=\"color: #008080; text-decoration-color: #008080\">0:00:00</span>\nGetting topics                 <span style=\"color: #729c1f; text-decoration-color: #729c1f\">━━━━━━━━━━━━━━━━━━━━━━━━━━━━━━━━━━━━━━━━</span> <span style=\"color: #800080; text-decoration-color: #800080\">100%</span> <span style=\"color: #008080; text-decoration-color: #008080\">0:00:00</span>\n</pre>\n",
          "text/plain": "Getting category               \u001b[38;2;114;156;31m━━━━━━━━━━━━━━━━━━━━━━━━━━━━━━━━━━━━━━━━\u001b[0m \u001b[35m100%\u001b[0m \u001b[36m0:00:00\u001b[0m\nGetting article_type           \u001b[38;2;114;156;31m━━━━━━━━━━━━━━━━━━━━━━━━━━━━━━━━━━━━━━━━\u001b[0m \u001b[35m100%\u001b[0m \u001b[36m0:00:00\u001b[0m\nGetting sentiment_label        \u001b[38;2;114;156;31m━━━━━━━━━━━━━━━━━━━━━━━━━━━━━━━━━━━━━━━━\u001b[0m \u001b[35m100%\u001b[0m \u001b[36m0:00:00\u001b[0m\nGetting sentiment_score        \u001b[38;2;114;156;31m━━━━━━━━━━━━━━━━━━━━━━━━━━━━━━━━━━━━━━━━\u001b[0m \u001b[35m100%\u001b[0m \u001b[36m0:00:00\u001b[0m\nGetting entity_groups          \u001b[38;2;114;156;31m━━━━━━━━━━━━━━━━━━━━━━━━━━━━━━━━━━━━━━━━\u001b[0m \u001b[35m100%\u001b[0m \u001b[36m0:00:00\u001b[0m\nGetting detailed entity_groups \u001b[38;2;114;156;31m━━━━━━━━━━━━━━━━━━━━━━━━━━━━━━━━━━━━━━━━\u001b[0m \u001b[35m100%\u001b[0m \u001b[36m0:00:00\u001b[0m\nGetting topics                 \u001b[38;2;114;156;31m━━━━━━━━━━━━━━━━━━━━━━━━━━━━━━━━━━━━━━━━\u001b[0m \u001b[35m100%\u001b[0m \u001b[36m0:00:00\u001b[0m\n"
         },
         "metadata": {},
         "output_type": "display_data"
        }
       ]
      }
     },
     "71bf4046e9af422296671aab9819dece": {
      "model_module": "@jupyter-widgets/base",
      "model_module_version": "1.2.0",
      "model_name": "LayoutModel",
      "state": {
       "_model_module": "@jupyter-widgets/base",
       "_model_module_version": "1.2.0",
       "_model_name": "LayoutModel",
       "_view_count": null,
       "_view_module": "@jupyter-widgets/base",
       "_view_module_version": "1.2.0",
       "_view_name": "LayoutView",
       "align_content": null,
       "align_items": null,
       "align_self": null,
       "border": null,
       "bottom": null,
       "display": null,
       "flex": null,
       "flex_flow": null,
       "grid_area": null,
       "grid_auto_columns": null,
       "grid_auto_flow": null,
       "grid_auto_rows": null,
       "grid_column": null,
       "grid_gap": null,
       "grid_row": null,
       "grid_template_areas": null,
       "grid_template_columns": null,
       "grid_template_rows": null,
       "height": null,
       "justify_content": null,
       "justify_items": null,
       "left": null,
       "margin": null,
       "max_height": null,
       "max_width": null,
       "min_height": null,
       "min_width": null,
       "object_fit": null,
       "object_position": null,
       "order": null,
       "overflow": null,
       "overflow_x": null,
       "overflow_y": null,
       "padding": null,
       "right": null,
       "top": null,
       "visibility": null,
       "width": null
      }
     },
     "a84e66ae938f4771bae7e21f71ee9c55": {
      "model_module": "@jupyter-widgets/base",
      "model_module_version": "1.2.0",
      "model_name": "LayoutModel",
      "state": {
       "_model_module": "@jupyter-widgets/base",
       "_model_module_version": "1.2.0",
       "_model_name": "LayoutModel",
       "_view_count": null,
       "_view_module": "@jupyter-widgets/base",
       "_view_module_version": "1.2.0",
       "_view_name": "LayoutView",
       "align_content": null,
       "align_items": null,
       "align_self": null,
       "border": null,
       "bottom": null,
       "display": null,
       "flex": null,
       "flex_flow": null,
       "grid_area": null,
       "grid_auto_columns": null,
       "grid_auto_flow": null,
       "grid_auto_rows": null,
       "grid_column": null,
       "grid_gap": null,
       "grid_row": null,
       "grid_template_areas": null,
       "grid_template_columns": null,
       "grid_template_rows": null,
       "height": null,
       "justify_content": null,
       "justify_items": null,
       "left": null,
       "margin": null,
       "max_height": null,
       "max_width": null,
       "min_height": null,
       "min_width": null,
       "object_fit": null,
       "object_position": null,
       "order": null,
       "overflow": null,
       "overflow_x": null,
       "overflow_y": null,
       "padding": null,
       "right": null,
       "top": null,
       "visibility": null,
       "width": null
      }
     },
     "c655e58a35e3490888f01103be14ab47": {
      "model_module": "@jupyter-widgets/output",
      "model_module_version": "1.0.0",
      "model_name": "OutputModel",
      "state": {
       "_dom_classes": [],
       "_model_module": "@jupyter-widgets/output",
       "_model_module_version": "1.0.0",
       "_model_name": "OutputModel",
       "_view_count": null,
       "_view_module": "@jupyter-widgets/output",
       "_view_module_version": "1.0.0",
       "_view_name": "OutputView",
       "layout": "IPY_MODEL_71bf4046e9af422296671aab9819dece",
       "msg_id": "",
       "outputs": [
        {
         "data": {
          "text/html": "<pre style=\"white-space:pre;overflow-x:auto;line-height:normal;font-family:Menlo,'DejaVu Sans Mono',consolas,'Courier New',monospace\">Getting category               <span style=\"color: #729c1f; text-decoration-color: #729c1f\">━━━━━━━━━━━━━━━━━━━━━━━━━━━━━━━━━━━━━━━━</span> <span style=\"color: #800080; text-decoration-color: #800080\">100%</span> <span style=\"color: #008080; text-decoration-color: #008080\">0:00:00</span>\nGetting article_type           <span style=\"color: #729c1f; text-decoration-color: #729c1f\">━━━━━━━━━━━━━━━━━━━━━━━━━━━━━━━━━━━━━━━━</span> <span style=\"color: #800080; text-decoration-color: #800080\">100%</span> <span style=\"color: #008080; text-decoration-color: #008080\">0:00:00</span>\nGetting sentiment_label        <span style=\"color: #729c1f; text-decoration-color: #729c1f\">━━━━━━━━━━━━━━━━━━━━━━━━━━━━━━━━━━━━━━━━</span> <span style=\"color: #800080; text-decoration-color: #800080\">100%</span> <span style=\"color: #008080; text-decoration-color: #008080\">0:00:00</span>\nGetting sentiment_score        <span style=\"color: #729c1f; text-decoration-color: #729c1f\">━━━━━━━━━━━━━━━━━━━━━━━━━━━━━━━━━━━━━━━━</span> <span style=\"color: #800080; text-decoration-color: #800080\">100%</span> <span style=\"color: #008080; text-decoration-color: #008080\">0:00:00</span>\nGetting entity_groups          <span style=\"color: #729c1f; text-decoration-color: #729c1f\">━━━━━━━━━━━━━━━━━━━━━━━━━━━━━━━━━━━━━━━━</span> <span style=\"color: #800080; text-decoration-color: #800080\">100%</span> <span style=\"color: #008080; text-decoration-color: #008080\">0:00:00</span>\nGetting detailed entity_groups <span style=\"color: #729c1f; text-decoration-color: #729c1f\">━━━━━━━━━━━━━━━━━━━━━━━━━━━━━━━━━━━━━━━━</span> <span style=\"color: #800080; text-decoration-color: #800080\">100%</span> <span style=\"color: #008080; text-decoration-color: #008080\">0:00:00</span>\nGetting topics                 <span style=\"color: #729c1f; text-decoration-color: #729c1f\">━━━━━━━━━━━━━━━━━━━━━━━━━━━━━━━━━━━━━━━━</span> <span style=\"color: #800080; text-decoration-color: #800080\">100%</span> <span style=\"color: #008080; text-decoration-color: #008080\">0:00:00</span>\n</pre>\n",
          "text/plain": "Getting category               \u001b[38;2;114;156;31m━━━━━━━━━━━━━━━━━━━━━━━━━━━━━━━━━━━━━━━━\u001b[0m \u001b[35m100%\u001b[0m \u001b[36m0:00:00\u001b[0m\nGetting article_type           \u001b[38;2;114;156;31m━━━━━━━━━━━━━━━━━━━━━━━━━━━━━━━━━━━━━━━━\u001b[0m \u001b[35m100%\u001b[0m \u001b[36m0:00:00\u001b[0m\nGetting sentiment_label        \u001b[38;2;114;156;31m━━━━━━━━━━━━━━━━━━━━━━━━━━━━━━━━━━━━━━━━\u001b[0m \u001b[35m100%\u001b[0m \u001b[36m0:00:00\u001b[0m\nGetting sentiment_score        \u001b[38;2;114;156;31m━━━━━━━━━━━━━━━━━━━━━━━━━━━━━━━━━━━━━━━━\u001b[0m \u001b[35m100%\u001b[0m \u001b[36m0:00:00\u001b[0m\nGetting entity_groups          \u001b[38;2;114;156;31m━━━━━━━━━━━━━━━━━━━━━━━━━━━━━━━━━━━━━━━━\u001b[0m \u001b[35m100%\u001b[0m \u001b[36m0:00:00\u001b[0m\nGetting detailed entity_groups \u001b[38;2;114;156;31m━━━━━━━━━━━━━━━━━━━━━━━━━━━━━━━━━━━━━━━━\u001b[0m \u001b[35m100%\u001b[0m \u001b[36m0:00:00\u001b[0m\nGetting topics                 \u001b[38;2;114;156;31m━━━━━━━━━━━━━━━━━━━━━━━━━━━━━━━━━━━━━━━━\u001b[0m \u001b[35m100%\u001b[0m \u001b[36m0:00:00\u001b[0m\n"
         },
         "metadata": {},
         "output_type": "display_data"
        }
       ]
      }
     }
    },
    "version_major": 2,
    "version_minor": 0
   }
  }
 },
 "nbformat": 4,
 "nbformat_minor": 5
}
