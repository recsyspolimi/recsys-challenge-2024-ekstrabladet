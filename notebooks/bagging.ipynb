{
 "cells": [
  {
   "cell_type": "code",
   "execution_count": 1,
   "metadata": {},
   "outputs": [],
   "source": [
    "from lightgbm import LGBMClassifier\n",
    "import polars as pl\n",
    "import json\n",
    "import gc\n",
    "from tqdm import tqdm\n",
    "\n",
    "train_ds = pl.read_parquet('/home/ubuntu/dset_complete/train_ds.parquet')\n",
    "val_ds = pl.read_parquet('/home/ubuntu/dset_complete/validation_ds.parquet')\n",
    "behaviors = pl.read_parquet('/home/ubuntu/dataset/ebnerd_small/train/behaviors.parquet').select(['impression_id', 'user_id', 'article_ids_inview', 'article_ids_clicked'])\n",
    "\n",
    "with open('/home/ubuntu/dset_complete/data_info.json') as info_file:\n",
    "    data_info = json.load(info_file)\n",
    "    \n",
    "with open('/home/ubuntu/RecSysChallenge2024/configuration_files/lightgbm_new_noK_trial_289.json') as params_file:\n",
    "    params = json.load(params_file)"
   ]
  },
  {
   "cell_type": "code",
   "execution_count": 2,
   "metadata": {},
   "outputs": [
    {
     "data": {
      "text/plain": [
       "0"
      ]
     },
     "execution_count": 2,
     "metadata": {},
     "output_type": "execute_result"
    }
   ],
   "source": [
    "evaluation_ds = val_ds.select(['impression_id', 'user_id', 'article', 'target'])\n",
    "val_ds = val_ds.drop(['impression_id', 'article', 'user_id']).to_pandas()\n",
    "val_ds[data_info['categorical_columns']] = val_ds[data_info['categorical_columns']].astype('category')\n",
    "\n",
    "X_val = val_ds.drop(columns=['target'])\n",
    "\n",
    "del val_ds\n",
    "gc.collect()"
   ]
  },
  {
   "cell_type": "code",
   "execution_count": 3,
   "metadata": {},
   "outputs": [
    {
     "name": "stderr",
     "output_type": "stream",
     "text": [
      "2024-06-17 16:17:18.672991: I tensorflow/core/util/port.cc:113] oneDNN custom operations are on. You may see slightly different numerical results due to floating-point round-off errors from different computation orders. To turn them off, set the environment variable `TF_ENABLE_ONEDNN_OPTS=0`.\n",
      "2024-06-17 16:17:18.709073: I tensorflow/core/platform/cpu_feature_guard.cc:210] This TensorFlow binary is optimized to use available CPU instructions in performance-critical operations.\n",
      "To enable the following instructions: AVX2 AVX512F AVX512_VNNI FMA, in other operations, rebuild TensorFlow with the appropriate compiler flags.\n",
      "2024-06-17 16:17:19.834642: W tensorflow/compiler/tf2tensorrt/utils/py_utils.cc:38] TF-TRT Warning: Could not find TensorRT\n"
     ]
    },
    {
     "name": "stdout",
     "output_type": "stream",
     "text": [
      "Iteration 0 auc: 0.816261841522928\n",
      "Iteration 1 auc: 0.8162488593805803\n",
      "Iteration 2 auc: 0.8158623364479907\n",
      "Iteration 3 auc: 0.8163732106402174\n",
      "Iteration 4 auc: 0.8160907327950317\n",
      "Iteration 5 auc: 0.8154547603237605\n",
      "Iteration 6 auc: 0.8165769144730409\n",
      "Iteration 7 auc: 0.8157521305497879\n",
      "Iteration 8 auc: 0.8164576381120234\n",
      "Iteration 9 auc: 0.8162649279265692\n"
     ]
    }
   ],
   "source": [
    "from polimi.utils._catboost import subsample_dataset\n",
    "from ebrec.utils._behaviors import sampling_strategy_wu2019\n",
    "import numpy as np\n",
    "from fastauc.fastauc.fast_auc import fast_numba_auc\n",
    "\n",
    "NUM_MODELS = 10\n",
    "NPRATIO = 2\n",
    "\n",
    "bagging_predictions = []\n",
    "for i in range(NUM_MODELS):\n",
    "    \n",
    "    behaviors_subsample = behaviors.pipe(\n",
    "            sampling_strategy_wu2019, npratio=NPRATIO, shuffle=False, with_replacement=True, seed=42+i\n",
    "        ).drop('article_ids_clicked').explode('article_ids_inview').rename({'article_ids_inview' : 'article'}) \\\n",
    "        .with_columns(pl.col('user_id').cast(pl.UInt32), pl.col('article').cast(pl.Int32))\n",
    "        \n",
    "    train_ds_subsample = behaviors_subsample.join(train_ds, on=['impression_id', 'user_id', 'article'], how='left')\n",
    "    \n",
    "    train_ds_subsample = train_ds_subsample.drop(['impression_id', 'article', 'user_id']).to_pandas()\n",
    "    train_ds_subsample[data_info['categorical_columns']] = train_ds_subsample[data_info['categorical_columns']].astype('category')\n",
    "    \n",
    "    X = train_ds_subsample.drop(columns=['target'])\n",
    "    y = train_ds_subsample['target']\n",
    "    \n",
    "    del train_ds_subsample\n",
    "    gc.collect()\n",
    "    \n",
    "    model = LGBMClassifier(**params, verbosity=-1)\n",
    "    model.fit(X, y)\n",
    "    \n",
    "    predictions = model.predict_proba(X_val[X.columns])[:, 1]\n",
    "    evaluation_ds = evaluation_ds.with_columns(pl.Series(predictions).alias('prediction'))\n",
    "    evaluation_ds_grouped = evaluation_ds.group_by('impression_id').agg(pl.col('target'), pl.col('prediction'))\n",
    "    \n",
    "    auc = np.mean(\n",
    "        [fast_numba_auc(np.array(y_t).astype(bool), np.array(y_s).astype(np.float32)) \n",
    "            for y_t, y_s in zip(evaluation_ds_grouped['target'].to_list(), \n",
    "                                evaluation_ds_grouped['prediction'].to_list())]\n",
    "    )\n",
    "    print(f'Iteration {i} auc: {auc}')\n",
    "    bagging_predictions.append(predictions)"
   ]
  },
  {
   "cell_type": "code",
   "execution_count": 4,
   "metadata": {},
   "outputs": [
    {
     "data": {
      "text/plain": [
       "0.8162649279265691"
      ]
     },
     "execution_count": 4,
     "metadata": {},
     "output_type": "execute_result"
    }
   ],
   "source": [
    "predictions_mean = np.mean(bagging_predictions)\n",
    "\n",
    "evaluation_ds = evaluation_ds.with_columns(pl.Series(predictions).alias('prediction'))\n",
    "evaluation_ds_grouped = evaluation_ds.group_by('impression_id').agg(pl.col('target'), pl.col('prediction'))\n",
    "\n",
    "auc = np.mean(\n",
    "    [fast_numba_auc(np.array(y_t).astype(bool), np.array(y_s).astype(np.float32)) \n",
    "        for y_t, y_s in zip(evaluation_ds_grouped['target'].to_list(), \n",
    "                            evaluation_ds_grouped['prediction'].to_list())]\n",
    ")\n",
    "auc"
   ]
  }
 ],
 "metadata": {
  "kernelspec": {
   "display_name": ".venv",
   "language": "python",
   "name": "python3"
  },
  "language_info": {
   "codemirror_mode": {
    "name": "ipython",
    "version": 3
   },
   "file_extension": ".py",
   "mimetype": "text/x-python",
   "name": "python",
   "nbconvert_exporter": "python",
   "pygments_lexer": "ipython3",
   "version": "3.10.12"
  }
 },
 "nbformat": 4,
 "nbformat_minor": 2
}
