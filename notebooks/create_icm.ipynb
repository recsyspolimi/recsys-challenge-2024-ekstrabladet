{
 "cells": [
  {
   "cell_type": "code",
   "execution_count": 1,
   "metadata": {},
   "outputs": [
    {
     "name": "stderr",
     "output_type": "stream",
     "text": [
      "2024-05-24 07:36:05.023246: I tensorflow/core/platform/cpu_feature_guard.cc:210] This TensorFlow binary is optimized to use available CPU instructions in performance-critical operations.\n",
      "To enable the following instructions: AVX2 AVX512F FMA, in other operations, rebuild TensorFlow with the appropriate compiler flags.\n",
      "2024-05-24 07:36:05.891919: W tensorflow/compiler/tf2tensorrt/utils/py_utils.cc:38] TF-TRT Warning: Could not find TensorRT\n"
     ]
    }
   ],
   "source": [
    "import polars as pl\n",
    "import numpy as np\n",
    "import pandas as pd\n",
    "import matplotlib.pyplot as plt\n",
    "import seaborn as sns\n",
    "from pathlib import Path\n",
    "import polars as pl\n",
    "import scipy.stats as stats\n",
    "import scipy.sparse as sps\n",
    "import gc\n",
    "import tqdm\n",
    "from polimi.utils._custom import save_sparse_csr"
   ]
  },
  {
   "cell_type": "code",
   "execution_count": 12,
   "metadata": {},
   "outputs": [],
   "source": [
    "articles = pl.read_parquet('/home/ubuntu/dataset/ebnerd_testset/articles.parquet')\n",
    "\n",
    "behaviors_train = pl.read_parquet('/home/ubuntu/dataset/ebnerd_testset/test/behaviors.parquet')\n",
    "history_train = pl.read_parquet('/home/ubuntu/dataset/ebnerd_testset/test/history.parquet')\n",
    "\n",
    "#behaviors_val = pl.read_parquet('/home/ubuntu/dataset/ebnerd_large/validation/behaviors.parquet')\n",
    "#history_val = pl.read_parquet('/home/ubuntu/dataset/ebnerd_large/validation/history.parquet')\n",
    "\n",
    "contrastive_vector_2 = pl.read_parquet('/home/ubuntu/dataset/Ekstra_Bladet_contrastive_vector/contrastive_vector.parquet')\n",
    "w_2_vec = pl.read_parquet('/home/ubuntu/dataset/Ekstra_Bladet_word2vec/document_vector.parquet')\n",
    "roberta = pl.read_parquet('/home/ubuntu/dataset/FacebookAI_xlm_roberta_base/xlm_roberta_base.parquet')\n",
    "google_bert = pl.read_parquet('/home/ubuntu/dataset/google_bert_base_multilingual_cased/bert_base_multilingual_cased.parquet')\n",
    "distilbert = pl.read_parquet('/home/ubuntu/dataset/distilbert_title_embedding.parquet')\n",
    "kenneth = pl.read_parquet('/home/ubuntu/dataset/kenneth_embedding.parquet')\n",
    "emotions = pl.read_parquet('/home/ubuntu/dataset/emotions_embedding.parquet')\n",
    "\n"
   ]
  },
  {
   "cell_type": "code",
   "execution_count": 13,
   "metadata": {},
   "outputs": [
    {
     "data": {
      "text/html": [
       "<div><style>\n",
       ".dataframe > thead > tr,\n",
       ".dataframe > tbody > tr {\n",
       "  text-align: right;\n",
       "  white-space: pre-wrap;\n",
       "}\n",
       "</style>\n",
       "<small>shape: (125_541, 2)</small><table border=\"1\" class=\"dataframe\"><thead><tr><th>article_index</th><th>article_id</th></tr><tr><td>u32</td><td>i32</td></tr></thead><tbody><tr><td>0</td><td>3000022</td></tr><tr><td>1</td><td>3000063</td></tr><tr><td>2</td><td>3000613</td></tr><tr><td>3</td><td>3000700</td></tr><tr><td>4</td><td>3000840</td></tr><tr><td>&hellip;</td><td>&hellip;</td></tr><tr><td>125536</td><td>9803505</td></tr><tr><td>125537</td><td>9803510</td></tr><tr><td>125538</td><td>9803525</td></tr><tr><td>125539</td><td>9803560</td></tr><tr><td>125540</td><td>9803607</td></tr></tbody></table></div>"
      ],
      "text/plain": [
       "shape: (125_541, 2)\n",
       "┌───────────────┬────────────┐\n",
       "│ article_index ┆ article_id │\n",
       "│ ---           ┆ ---        │\n",
       "│ u32           ┆ i32        │\n",
       "╞═══════════════╪════════════╡\n",
       "│ 0             ┆ 3000022    │\n",
       "│ 1             ┆ 3000063    │\n",
       "│ 2             ┆ 3000613    │\n",
       "│ 3             ┆ 3000700    │\n",
       "│ 4             ┆ 3000840    │\n",
       "│ …             ┆ …          │\n",
       "│ 125536        ┆ 9803505    │\n",
       "│ 125537        ┆ 9803510    │\n",
       "│ 125538        ┆ 9803525    │\n",
       "│ 125539        ┆ 9803560    │\n",
       "│ 125540        ┆ 9803607    │\n",
       "└───────────────┴────────────┘"
      ]
     },
     "execution_count": 13,
     "metadata": {},
     "output_type": "execute_result"
    }
   ],
   "source": [
    "articles_mapping = articles.select('article_id').with_row_index().rename({'index': 'article_index'})\n",
    "articles_mapping"
   ]
  },
  {
   "cell_type": "code",
   "execution_count": 14,
   "metadata": {},
   "outputs": [],
   "source": [
    "associations = {\n",
    "    'contrastive_vector' : contrastive_vector_2,\n",
    "    'document_vector': w_2_vec,\n",
    "    'google-bert/bert-base-multilingual-cased': google_bert,\n",
    "    'FacebookAI/xlm-roberta-base': roberta,\n",
    "    'title_embedding': distilbert,\n",
    "    'kenneth_title+subtitle': kenneth,\n",
    "    'emotion_scores': emotions\n",
    "    \n",
    "    \n",
    "}"
   ]
  },
  {
   "cell_type": "code",
   "execution_count": 15,
   "metadata": {},
   "outputs": [
    {
     "name": "stderr",
     "output_type": "stream",
     "text": [
      "/tmp/ipykernel_326716/2757514582.py:3: DeprecationWarning: `apply` is deprecated. It has been renamed to `map_elements`.\n",
      "  pl.col(k).apply(lambda lst : list(range(len(lst)))).alias(\"indici\")\n",
      "/tmp/ipykernel_326716/2757514582.py:2: MapWithoutReturnDtypeWarning: Calling `map_elements` without specifying `return_dtype` can lead to unpredictable results. Specify `return_dtype` to silence this warning.\n",
      "  ICM_dataframe = value.join(articles, on='article_id').select(['article_id',k]).with_columns(\n"
     ]
    },
    {
     "name": "stdout",
     "output_type": "stream",
     "text": [
      "File saved at: /home/ubuntu/recsys2024/icm/recsys/testset/contrastive_vector.npz\n"
     ]
    },
    {
     "name": "stderr",
     "output_type": "stream",
     "text": [
      "/tmp/ipykernel_326716/2757514582.py:3: DeprecationWarning: `apply` is deprecated. It has been renamed to `map_elements`.\n",
      "  pl.col(k).apply(lambda lst : list(range(len(lst)))).alias(\"indici\")\n",
      "/tmp/ipykernel_326716/2757514582.py:2: MapWithoutReturnDtypeWarning: Calling `map_elements` without specifying `return_dtype` can lead to unpredictable results. Specify `return_dtype` to silence this warning.\n",
      "  ICM_dataframe = value.join(articles, on='article_id').select(['article_id',k]).with_columns(\n"
     ]
    },
    {
     "name": "stdout",
     "output_type": "stream",
     "text": [
      "File saved at: /home/ubuntu/recsys2024/icm/recsys/testset/document_vector.npz\n"
     ]
    },
    {
     "name": "stderr",
     "output_type": "stream",
     "text": [
      "/tmp/ipykernel_326716/2757514582.py:3: DeprecationWarning: `apply` is deprecated. It has been renamed to `map_elements`.\n",
      "  pl.col(k).apply(lambda lst : list(range(len(lst)))).alias(\"indici\")\n",
      "/tmp/ipykernel_326716/2757514582.py:2: MapWithoutReturnDtypeWarning: Calling `map_elements` without specifying `return_dtype` can lead to unpredictable results. Specify `return_dtype` to silence this warning.\n",
      "  ICM_dataframe = value.join(articles, on='article_id').select(['article_id',k]).with_columns(\n"
     ]
    },
    {
     "name": "stdout",
     "output_type": "stream",
     "text": [
      "File saved at: /home/ubuntu/recsys2024/icm/recsys/testset/google-bert/bert-base-multilingual-cased.npz\n"
     ]
    },
    {
     "name": "stderr",
     "output_type": "stream",
     "text": [
      "/tmp/ipykernel_326716/2757514582.py:3: DeprecationWarning: `apply` is deprecated. It has been renamed to `map_elements`.\n",
      "  pl.col(k).apply(lambda lst : list(range(len(lst)))).alias(\"indici\")\n",
      "/tmp/ipykernel_326716/2757514582.py:2: MapWithoutReturnDtypeWarning: Calling `map_elements` without specifying `return_dtype` can lead to unpredictable results. Specify `return_dtype` to silence this warning.\n",
      "  ICM_dataframe = value.join(articles, on='article_id').select(['article_id',k]).with_columns(\n"
     ]
    },
    {
     "name": "stdout",
     "output_type": "stream",
     "text": [
      "File saved at: /home/ubuntu/recsys2024/icm/recsys/testset/FacebookAI/xlm-roberta-base.npz\n"
     ]
    },
    {
     "name": "stderr",
     "output_type": "stream",
     "text": [
      "/tmp/ipykernel_326716/2757514582.py:3: DeprecationWarning: `apply` is deprecated. It has been renamed to `map_elements`.\n",
      "  pl.col(k).apply(lambda lst : list(range(len(lst)))).alias(\"indici\")\n",
      "/tmp/ipykernel_326716/2757514582.py:2: MapWithoutReturnDtypeWarning: Calling `map_elements` without specifying `return_dtype` can lead to unpredictable results. Specify `return_dtype` to silence this warning.\n",
      "  ICM_dataframe = value.join(articles, on='article_id').select(['article_id',k]).with_columns(\n"
     ]
    },
    {
     "name": "stdout",
     "output_type": "stream",
     "text": [
      "File saved at: /home/ubuntu/recsys2024/icm/recsys/testset/title_embedding.npz\n"
     ]
    },
    {
     "name": "stderr",
     "output_type": "stream",
     "text": [
      "/tmp/ipykernel_326716/2757514582.py:3: DeprecationWarning: `apply` is deprecated. It has been renamed to `map_elements`.\n",
      "  pl.col(k).apply(lambda lst : list(range(len(lst)))).alias(\"indici\")\n",
      "/tmp/ipykernel_326716/2757514582.py:2: MapWithoutReturnDtypeWarning: Calling `map_elements` without specifying `return_dtype` can lead to unpredictable results. Specify `return_dtype` to silence this warning.\n",
      "  ICM_dataframe = value.join(articles, on='article_id').select(['article_id',k]).with_columns(\n"
     ]
    },
    {
     "name": "stdout",
     "output_type": "stream",
     "text": [
      "File saved at: /home/ubuntu/recsys2024/icm/recsys/testset/kenneth_title+subtitle.npz\n"
     ]
    },
    {
     "name": "stderr",
     "output_type": "stream",
     "text": [
      "/tmp/ipykernel_326716/2757514582.py:3: DeprecationWarning: `apply` is deprecated. It has been renamed to `map_elements`.\n",
      "  pl.col(k).apply(lambda lst : list(range(len(lst)))).alias(\"indici\")\n",
      "/tmp/ipykernel_326716/2757514582.py:2: MapWithoutReturnDtypeWarning: Calling `map_elements` without specifying `return_dtype` can lead to unpredictable results. Specify `return_dtype` to silence this warning.\n",
      "  ICM_dataframe = value.join(articles, on='article_id').select(['article_id',k]).with_columns(\n"
     ]
    },
    {
     "name": "stdout",
     "output_type": "stream",
     "text": [
      "File saved at: /home/ubuntu/recsys2024/icm/recsys/testset/emotion_scores.npz\n"
     ]
    }
   ],
   "source": [
    "for k,value in associations.items():\n",
    "    ICM_dataframe = value.join(articles, on='article_id').select(['article_id',k]).with_columns(\n",
    "        pl.col(k).apply(lambda lst : list(range(len(lst)))).alias(\"indici\")      \n",
    "    )\\\n",
    "    .explode([k,'indici'])\\\n",
    "    .rename({'indici': 'feature_id'})\\\n",
    "    .join(articles_mapping, on='article_id')\\\n",
    "    .drop('article_id')\n",
    "\n",
    "    n_articles = ICM_dataframe.select('article_index').n_unique()\n",
    "    n_features = ICM_dataframe.select('feature_id').n_unique()\n",
    "\n",
    "    ICM = sps.csr_matrix((ICM_dataframe[k].to_numpy(), \n",
    "                          (ICM_dataframe[\"article_index\"].to_numpy(), ICM_dataframe[\"feature_id\"].to_numpy())),\n",
    "                        shape = (n_articles, n_features))\n",
    "    \n",
    "    save_sparse_csr(path=Path(f'/home/ubuntu/recsys2024/icm/recsys/testset/{k}.npz'),array=ICM)\n"
   ]
  },
  {
   "cell_type": "code",
   "execution_count": 298,
   "metadata": {},
   "outputs": [],
   "source": [
    "name = 'FacebookAI/xlm-roberta-base'"
   ]
  },
  {
   "cell_type": "code",
   "execution_count": 299,
   "metadata": {},
   "outputs": [
    {
     "name": "stderr",
     "output_type": "stream",
     "text": [
      "/tmp/ipykernel_126061/2485247734.py:2: DeprecationWarning: `apply` is deprecated. It has been renamed to `map_elements`.\n",
      "  pl.col(name).apply(lambda lst : list(range(len(lst)))).alias(\"indici\")\n",
      "/tmp/ipykernel_126061/2485247734.py:1: MapWithoutReturnDtypeWarning: Calling `map_elements` without specifying `return_dtype` can lead to unpredictable results. Specify `return_dtype` to silence this warning.\n",
      "  ICM_dataframe = associations[name].join(articles, on='article_id').select(['article_id',name]).with_columns(\n"
     ]
    },
    {
     "data": {
      "text/html": [
       "<div><style>\n",
       ".dataframe > thead > tr,\n",
       ".dataframe > tbody > tr {\n",
       "  text-align: right;\n",
       "  white-space: pre-wrap;\n",
       "}\n",
       "</style>\n",
       "<small>shape: (15_926_784, 3)</small><table border=\"1\" class=\"dataframe\"><thead><tr><th>FacebookAI/xlm-roberta-base</th><th>feature_id</th><th>article_index</th></tr><tr><td>f32</td><td>i64</td><td>u32</td></tr></thead><tbody><tr><td>0.082843</td><td>0</td><td>0</td></tr><tr><td>0.117304</td><td>1</td><td>0</td></tr><tr><td>0.077264</td><td>2</td><td>0</td></tr><tr><td>0.027662</td><td>3</td><td>0</td></tr><tr><td>0.081476</td><td>4</td><td>0</td></tr><tr><td>&hellip;</td><td>&hellip;</td><td>&hellip;</td></tr><tr><td>-0.017621</td><td>763</td><td>20737</td></tr><tr><td>0.103328</td><td>764</td><td>20737</td></tr><tr><td>-0.048548</td><td>765</td><td>20737</td></tr><tr><td>0.132479</td><td>766</td><td>20737</td></tr><tr><td>-0.003788</td><td>767</td><td>20737</td></tr></tbody></table></div>"
      ],
      "text/plain": [
       "shape: (15_926_784, 3)\n",
       "┌─────────────────────────────┬────────────┬───────────────┐\n",
       "│ FacebookAI/xlm-roberta-base ┆ feature_id ┆ article_index │\n",
       "│ ---                         ┆ ---        ┆ ---           │\n",
       "│ f32                         ┆ i64        ┆ u32           │\n",
       "╞═════════════════════════════╪════════════╪═══════════════╡\n",
       "│ 0.082843                    ┆ 0          ┆ 0             │\n",
       "│ 0.117304                    ┆ 1          ┆ 0             │\n",
       "│ 0.077264                    ┆ 2          ┆ 0             │\n",
       "│ 0.027662                    ┆ 3          ┆ 0             │\n",
       "│ 0.081476                    ┆ 4          ┆ 0             │\n",
       "│ …                           ┆ …          ┆ …             │\n",
       "│ -0.017621                   ┆ 763        ┆ 20737         │\n",
       "│ 0.103328                    ┆ 764        ┆ 20737         │\n",
       "│ -0.048548                   ┆ 765        ┆ 20737         │\n",
       "│ 0.132479                    ┆ 766        ┆ 20737         │\n",
       "│ -0.003788                   ┆ 767        ┆ 20737         │\n",
       "└─────────────────────────────┴────────────┴───────────────┘"
      ]
     },
     "execution_count": 299,
     "metadata": {},
     "output_type": "execute_result"
    }
   ],
   "source": [
    "ICM_dataframe = associations[name].join(articles, on='article_id').select(['article_id',name]).with_columns(\n",
    "        pl.col(name).apply(lambda lst : list(range(len(lst)))).alias(\"indici\")      \n",
    "    )\\\n",
    "    .explode([name,'indici'])\\\n",
    "    .rename({'indici': 'feature_id'})\\\n",
    "    .join(articles_mapping, on='article_id')\\\n",
    "    .drop('article_id')\n",
    "\n",
    "\n",
    "\n",
    "\n",
    "\n",
    "\n",
    "ICM_dataframe"
   ]
  },
  {
   "cell_type": "code",
   "execution_count": 301,
   "metadata": {},
   "outputs": [
    {
     "name": "stdout",
     "output_type": "stream",
     "text": [
      "n_articles:20738\n",
      "num_features: 768\n"
     ]
    }
   ],
   "source": [
    "n_articles = ICM_dataframe.select('article_index').n_unique()\n",
    "print(f'n_articles:{n_articles}')\n",
    "n_features = ICM_dataframe.select('feature_id').n_unique()\n",
    "print(f'num_features: {n_features}')"
   ]
  },
  {
   "cell_type": "code",
   "execution_count": 302,
   "metadata": {},
   "outputs": [
    {
     "data": {
      "text/plain": [
       "<20738x768 sparse matrix of type '<class 'numpy.float32'>'\n",
       "\twith 15926784 stored elements in Compressed Sparse Row format>"
      ]
     },
     "execution_count": 302,
     "metadata": {},
     "output_type": "execute_result"
    }
   ],
   "source": [
    "ICM = sps.csr_matrix((ICM_dataframe[name].to_numpy(), \n",
    "                          (ICM_dataframe[\"article_index\"].to_numpy(), ICM_dataframe[\"feature_id\"].to_numpy())),\n",
    "                        shape = (n_articles, n_features))\n",
    "\n",
    "ICM"
   ]
  },
  {
   "cell_type": "code",
   "execution_count": 303,
   "metadata": {},
   "outputs": [
    {
     "name": "stdout",
     "output_type": "stream",
     "text": [
      "File saved at: /home/ubuntu/recsys2024/icm/recsys/small/FacebookAI/xlm-roberta-base.npz\n"
     ]
    }
   ],
   "source": [
    "save_sparse_csr(path=Path(f'/home/ubuntu/recsys2024/icm/recsys/large/{name}.npz'),array=ICM)"
   ]
  },
  {
   "cell_type": "code",
   "execution_count": 304,
   "metadata": {},
   "outputs": [],
   "source": [
    "from RecSys_Course_AT_PoliMi.Recommenders.KNN.ItemKNNCBFRecommender import ItemKNNCBFRecommender"
   ]
  },
  {
   "cell_type": "code",
   "execution_count": 305,
   "metadata": {},
   "outputs": [
    {
     "name": "stdout",
     "output_type": "stream",
     "text": [
      "File loaded at: /home/ubuntu/recsys2024/urm/recsys/small/URM_train.npz\n",
      "File loaded at: /home/ubuntu/recsys2024/urm/recsys/small/URM_validation_train.npz\n",
      "File loaded at: /home/ubuntu/recsys2024/urm/recsys/small/URM_validation.npz\n",
      "File loaded at: /home/ubuntu/recsys2024/urm/recsys/small/URM_validation_validation.npz\n"
     ]
    }
   ],
   "source": [
    "from polimi.utils._custom import load_sparse_csr\n",
    "\n",
    "URM_train = load_sparse_csr(Path('/home/ubuntu/recsys2024/urm/recsys/small/URM_train.npz'))\n",
    "URM_validation_train = load_sparse_csr(Path('/home/ubuntu/recsys2024/urm/recsys/small/URM_validation_train.npz'))\n",
    "URM_validation = load_sparse_csr(Path('/home/ubuntu/recsys2024/urm/recsys/small/URM_validation.npz'))\n",
    "URM_validation_validation = load_sparse_csr(Path('/home/ubuntu/recsys2024/urm/recsys/small/URM_validation_validation.npz'))\n"
   ]
  },
  {
   "cell_type": "code",
   "execution_count": 306,
   "metadata": {},
   "outputs": [
    {
     "data": {
      "text/plain": [
       "(20738, 768)"
      ]
     },
     "execution_count": 306,
     "metadata": {},
     "output_type": "execute_result"
    }
   ],
   "source": [
    "ICM.shape"
   ]
  },
  {
   "cell_type": "code",
   "execution_count": 307,
   "metadata": {},
   "outputs": [
    {
     "data": {
      "text/plain": [
       "(18827, 20738)"
      ]
     },
     "execution_count": 307,
     "metadata": {},
     "output_type": "execute_result"
    }
   ],
   "source": [
    "URM_train.shape"
   ]
  },
  {
   "cell_type": "code",
   "execution_count": 308,
   "metadata": {},
   "outputs": [
    {
     "name": "stdout",
     "output_type": "stream",
     "text": [
      "ItemKNNCBFRecommender: URM Detected 3684 (19.6%) users with no interactions.\n",
      "ItemKNNCBFRecommender: URM Detected 11952 (57.6%) items with no interactions.\n"
     ]
    },
    {
     "name": "stdout",
     "output_type": "stream",
     "text": [
      "Compute_Similarity: detected dense matrix\n",
      "Similarity column 20738 (100.0%), 310.48 column/sec. Elapsed time 1.11 min\n"
     ]
    }
   ],
   "source": [
    "knn_icm = ItemKNNCBFRecommender(URM_train=URM_train, ICM_train=ICM)\n",
    "knn_icm.fit()"
   ]
  },
  {
   "cell_type": "code",
   "execution_count": 309,
   "metadata": {},
   "outputs": [
    {
     "name": "stdout",
     "output_type": "stream",
     "text": [
      "EvaluatorHoldout: Ignoring 3684 (19.6%) Users that have less than 1 test interactions\n"
     ]
    }
   ],
   "source": [
    "from RecSys_Course_AT_PoliMi.Evaluation.Evaluator import EvaluatorHoldout\n",
    "evaluator_validation = EvaluatorHoldout(URM_validation_train, cutoff_list=[100])"
   ]
  },
  {
   "cell_type": "code",
   "execution_count": 310,
   "metadata": {},
   "outputs": [
    {
     "name": "stdout",
     "output_type": "stream",
     "text": [
      "EvaluatorHoldout: Processed 15143 (100.0%) in 12.11 sec. Users per second: 1251\n"
     ]
    },
    {
     "data": {
      "text/plain": [
       "0.009612214178197213"
      ]
     },
     "execution_count": 310,
     "metadata": {},
     "output_type": "execute_result"
    }
   ],
   "source": [
    "result_df, _ = evaluator_validation.evaluateRecommender(knn_icm)\n",
    "result_df.loc[100][\"NDCG\"]"
   ]
  }
 ],
 "metadata": {
  "kernelspec": {
   "display_name": ".venv",
   "language": "python",
   "name": "python3"
  },
  "language_info": {
   "codemirror_mode": {
    "name": "ipython",
    "version": 3
   },
   "file_extension": ".py",
   "mimetype": "text/x-python",
   "name": "python",
   "nbconvert_exporter": "python",
   "pygments_lexer": "ipython3",
   "version": "3.10.12"
  }
 },
 "nbformat": 4,
 "nbformat_minor": 2
}
