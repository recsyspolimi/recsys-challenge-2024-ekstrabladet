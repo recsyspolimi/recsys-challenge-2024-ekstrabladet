{
 "cells": [
  {
   "cell_type": "code",
   "execution_count": 2,
   "metadata": {},
   "outputs": [],
   "source": [
    "import polars as pl\n",
    "import numpy as np\n",
    "import pandas as pd\n",
    "import matplotlib.pyplot as plt\n",
    "import seaborn as sns\n",
    "from pathlib import Path\n",
    "import polars as pl\n",
    "import scipy.stats as stats\n",
    "import scipy.sparse as sps\n",
    "import gc\n",
    "import tqdm\n",
    "from polimi.utils._custom import save_sparse_csr"
   ]
  },
  {
   "cell_type": "code",
   "execution_count": 3,
   "metadata": {},
   "outputs": [],
   "source": [
    "articles = pl.read_parquet('/home/ubuntu/dataset/ebnerd_small/articles.parquet')\n",
    "\n",
    "behaviors_train = pl.read_parquet('/home/ubuntu/dataset/ebnerd_small/train/behaviors.parquet')\n",
    "history_train = pl.read_parquet('/home/ubuntu/dataset/ebnerd_small/train/history.parquet')\n",
    "\n",
    "behaviors_val = pl.read_parquet('/home/ubuntu/dataset/ebnerd_small/validation/behaviors.parquet')\n",
    "history_val = pl.read_parquet('/home/ubuntu/dataset/ebnerd_small/validation/history.parquet')\n",
    "\n",
    "contrastive_vector_2 = pl.read_parquet('/home/ubuntu/dataset/Ekstra_Bladet_contrastive_vector/contrastive_vector.parquet')\n",
    "w_2_vec = pl.read_parquet('/home/ubuntu/dataset/Ekstra_Bladet_word2vec/document_vector.parquet')\n",
    "roberta = pl.read_parquet('/home/ubuntu/dataset/FacebookAI_xlm_roberta_base/xlm_roberta_base.parquet')\n",
    "google_bert = pl.read_parquet('/home/ubuntu/dataset/google_bert_base_multilingual_cased/bert_base_multilingual_cased.parquet')\n",
    "distilbert = pl.read_parquet('/home/ubuntu/dataset/distilbert_title_embedding.parquet')\n",
    "kenneth = pl.read_parquet('/home/ubuntu/dataset/kenneth_embedding.parquet')\n",
    "emotions = pl.read_parquet('/home/ubuntu/dataset/emotions_embedding.parquet')\n",
    "\n"
   ]
  },
  {
   "cell_type": "code",
   "execution_count": 4,
   "metadata": {},
   "outputs": [
    {
     "data": {
      "text/html": [
       "<div><style>\n",
       ".dataframe > thead > tr,\n",
       ".dataframe > tbody > tr {\n",
       "  text-align: right;\n",
       "  white-space: pre-wrap;\n",
       "}\n",
       "</style>\n",
       "<small>shape: (20_738, 2)</small><table border=\"1\" class=\"dataframe\"><thead><tr><th>article_index</th><th>article_id</th></tr><tr><td>u32</td><td>i32</td></tr></thead><tbody><tr><td>0</td><td>3001353</td></tr><tr><td>1</td><td>3003065</td></tr><tr><td>2</td><td>3012771</td></tr><tr><td>3</td><td>3023463</td></tr><tr><td>4</td><td>3032577</td></tr><tr><td>&hellip;</td><td>&hellip;</td></tr><tr><td>20733</td><td>9803492</td></tr><tr><td>20734</td><td>9803505</td></tr><tr><td>20735</td><td>9803525</td></tr><tr><td>20736</td><td>9803560</td></tr><tr><td>20737</td><td>9803607</td></tr></tbody></table></div>"
      ],
      "text/plain": [
       "shape: (20_738, 2)\n",
       "┌───────────────┬────────────┐\n",
       "│ article_index ┆ article_id │\n",
       "│ ---           ┆ ---        │\n",
       "│ u32           ┆ i32        │\n",
       "╞═══════════════╪════════════╡\n",
       "│ 0             ┆ 3001353    │\n",
       "│ 1             ┆ 3003065    │\n",
       "│ 2             ┆ 3012771    │\n",
       "│ 3             ┆ 3023463    │\n",
       "│ 4             ┆ 3032577    │\n",
       "│ …             ┆ …          │\n",
       "│ 20733         ┆ 9803492    │\n",
       "│ 20734         ┆ 9803505    │\n",
       "│ 20735         ┆ 9803525    │\n",
       "│ 20736         ┆ 9803560    │\n",
       "│ 20737         ┆ 9803607    │\n",
       "└───────────────┴────────────┘"
      ]
     },
     "execution_count": 4,
     "metadata": {},
     "output_type": "execute_result"
    }
   ],
   "source": [
    "articles_mapping = articles.select('article_id').with_row_index().rename({'index': 'article_index'})\n",
    "articles_mapping"
   ]
  },
  {
   "cell_type": "code",
   "execution_count": 5,
   "metadata": {},
   "outputs": [],
   "source": [
    "associations = {\n",
    "    'contrastive_vector' : contrastive_vector_2,\n",
    "    'document_vector': w_2_vec,\n",
    "    'google-bert/bert-base-multilingual-cased': google_bert,\n",
    "    'FacebookAI/xlm-roberta-base': roberta,\n",
    "    'title_embedding': distilbert,\n",
    "    'kenneth_title+subtitle': kenneth,\n",
    "    'emotion_scores': emotions\n",
    "    \n",
    "    \n",
    "}"
   ]
  },
  {
   "cell_type": "code",
   "execution_count": 6,
   "metadata": {},
   "outputs": [
    {
     "name": "stderr",
     "output_type": "stream",
     "text": [
      "/tmp/ipykernel_285651/2091541021.py:3: DeprecationWarning: `apply` is deprecated. It has been renamed to `map_elements`.\n",
      "  pl.col(k).apply(lambda lst : list(range(len(lst)))).alias(\"indici\")\n",
      "/tmp/ipykernel_285651/2091541021.py:2: MapWithoutReturnDtypeWarning: Calling `map_elements` without specifying `return_dtype` can lead to unpredictable results. Specify `return_dtype` to silence this warning.\n",
      "  ICM_dataframe = value.join(articles, on='article_id').select(['article_id',k]).with_columns(\n"
     ]
    },
    {
     "name": "stdout",
     "output_type": "stream",
     "text": [
      "File saved at: /home/ubuntu/icm/recsys/small/contrastive_vector.npz\n"
     ]
    },
    {
     "name": "stderr",
     "output_type": "stream",
     "text": [
      "/tmp/ipykernel_285651/2091541021.py:3: DeprecationWarning: `apply` is deprecated. It has been renamed to `map_elements`.\n",
      "  pl.col(k).apply(lambda lst : list(range(len(lst)))).alias(\"indici\")\n",
      "/tmp/ipykernel_285651/2091541021.py:2: MapWithoutReturnDtypeWarning: Calling `map_elements` without specifying `return_dtype` can lead to unpredictable results. Specify `return_dtype` to silence this warning.\n",
      "  ICM_dataframe = value.join(articles, on='article_id').select(['article_id',k]).with_columns(\n"
     ]
    },
    {
     "name": "stdout",
     "output_type": "stream",
     "text": [
      "File saved at: /home/ubuntu/icm/recsys/small/document_vector.npz\n"
     ]
    },
    {
     "name": "stderr",
     "output_type": "stream",
     "text": [
      "/tmp/ipykernel_285651/2091541021.py:3: DeprecationWarning: `apply` is deprecated. It has been renamed to `map_elements`.\n",
      "  pl.col(k).apply(lambda lst : list(range(len(lst)))).alias(\"indici\")\n",
      "/tmp/ipykernel_285651/2091541021.py:2: MapWithoutReturnDtypeWarning: Calling `map_elements` without specifying `return_dtype` can lead to unpredictable results. Specify `return_dtype` to silence this warning.\n",
      "  ICM_dataframe = value.join(articles, on='article_id').select(['article_id',k]).with_columns(\n"
     ]
    },
    {
     "name": "stdout",
     "output_type": "stream",
     "text": [
      "File saved at: /home/ubuntu/icm/recsys/small/google-bert/bert-base-multilingual-cased.npz\n"
     ]
    },
    {
     "name": "stderr",
     "output_type": "stream",
     "text": [
      "/tmp/ipykernel_285651/2091541021.py:3: DeprecationWarning: `apply` is deprecated. It has been renamed to `map_elements`.\n",
      "  pl.col(k).apply(lambda lst : list(range(len(lst)))).alias(\"indici\")\n",
      "/tmp/ipykernel_285651/2091541021.py:2: MapWithoutReturnDtypeWarning: Calling `map_elements` without specifying `return_dtype` can lead to unpredictable results. Specify `return_dtype` to silence this warning.\n",
      "  ICM_dataframe = value.join(articles, on='article_id').select(['article_id',k]).with_columns(\n"
     ]
    },
    {
     "name": "stdout",
     "output_type": "stream",
     "text": [
      "File saved at: /home/ubuntu/icm/recsys/small/FacebookAI/xlm-roberta-base.npz\n"
     ]
    },
    {
     "name": "stderr",
     "output_type": "stream",
     "text": [
      "/tmp/ipykernel_285651/2091541021.py:3: DeprecationWarning: `apply` is deprecated. It has been renamed to `map_elements`.\n",
      "  pl.col(k).apply(lambda lst : list(range(len(lst)))).alias(\"indici\")\n",
      "/tmp/ipykernel_285651/2091541021.py:2: MapWithoutReturnDtypeWarning: Calling `map_elements` without specifying `return_dtype` can lead to unpredictable results. Specify `return_dtype` to silence this warning.\n",
      "  ICM_dataframe = value.join(articles, on='article_id').select(['article_id',k]).with_columns(\n"
     ]
    },
    {
     "name": "stdout",
     "output_type": "stream",
     "text": [
      "File saved at: /home/ubuntu/icm/recsys/small/title_embedding.npz\n"
     ]
    },
    {
     "name": "stderr",
     "output_type": "stream",
     "text": [
      "/tmp/ipykernel_285651/2091541021.py:3: DeprecationWarning: `apply` is deprecated. It has been renamed to `map_elements`.\n",
      "  pl.col(k).apply(lambda lst : list(range(len(lst)))).alias(\"indici\")\n",
      "/tmp/ipykernel_285651/2091541021.py:2: MapWithoutReturnDtypeWarning: Calling `map_elements` without specifying `return_dtype` can lead to unpredictable results. Specify `return_dtype` to silence this warning.\n",
      "  ICM_dataframe = value.join(articles, on='article_id').select(['article_id',k]).with_columns(\n"
     ]
    },
    {
     "name": "stdout",
     "output_type": "stream",
     "text": [
      "File saved at: /home/ubuntu/icm/recsys/small/kenneth_title+subtitle.npz\n"
     ]
    },
    {
     "name": "stderr",
     "output_type": "stream",
     "text": [
      "/tmp/ipykernel_285651/2091541021.py:3: DeprecationWarning: `apply` is deprecated. It has been renamed to `map_elements`.\n",
      "  pl.col(k).apply(lambda lst : list(range(len(lst)))).alias(\"indici\")\n",
      "/tmp/ipykernel_285651/2091541021.py:2: MapWithoutReturnDtypeWarning: Calling `map_elements` without specifying `return_dtype` can lead to unpredictable results. Specify `return_dtype` to silence this warning.\n",
      "  ICM_dataframe = value.join(articles, on='article_id').select(['article_id',k]).with_columns(\n"
     ]
    },
    {
     "name": "stdout",
     "output_type": "stream",
     "text": [
      "File saved at: /home/ubuntu/icm/recsys/small/emotion_scores.npz\n"
     ]
    }
   ],
   "source": [
    "for k,value in associations.items():\n",
    "    ICM_dataframe = value.join(articles, on='article_id').select(['article_id',k]).with_columns(\n",
    "        pl.col(k).apply(lambda lst : list(range(len(lst)))).alias(\"indici\")      \n",
    "    )\\\n",
    "    .explode([k,'indici'])\\\n",
    "    .rename({'indici': 'feature_id'})\\\n",
    "    .join(articles_mapping, on='article_id')\\\n",
    "    .drop('article_id')\n",
    "\n",
    "    n_articles = ICM_dataframe.select('article_index').n_unique()\n",
    "    n_features = ICM_dataframe.select('feature_id').n_unique()\n",
    "\n",
    "    ICM = sps.csr_matrix((ICM_dataframe[k].to_numpy(), \n",
    "                          (ICM_dataframe[\"article_index\"].to_numpy(), ICM_dataframe[\"feature_id\"].to_numpy())),\n",
    "                        shape = (n_articles, n_features))\n",
    "    \n",
    "    save_sparse_csr(path=Path(f'/home/ubuntu/icm/recsys/small/{k}.npz'),array=ICM)\n"
   ]
  }
 ],
 "metadata": {
  "kernelspec": {
   "display_name": ".venv",
   "language": "python",
   "name": "python3"
  },
  "language_info": {
   "codemirror_mode": {
    "name": "ipython",
    "version": 3
   },
   "file_extension": ".py",
   "mimetype": "text/x-python",
   "name": "python",
   "nbconvert_exporter": "python",
   "pygments_lexer": "ipython3",
   "version": "3.10.14"
  }
 },
 "nbformat": 4,
 "nbformat_minor": 2
}
