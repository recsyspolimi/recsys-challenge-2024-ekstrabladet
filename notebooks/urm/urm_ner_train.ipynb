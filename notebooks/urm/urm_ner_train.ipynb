{
 "cells": [
  {
   "cell_type": "code",
   "execution_count": null,
   "metadata": {},
   "outputs": [],
   "source": [
    "import polars as pl\n",
    "from pathlib import Path\n",
    "from polimi.utils._urm import train_recommender\n",
    "from RecSys_Course_AT_PoliMi.Recommenders.GraphBased.P3alphaRecommender import P3alphaRecommender\n",
    "from RecSys_Course_AT_PoliMi.Recommenders.GraphBased.RP3betaRecommender import RP3betaRecommender\n",
    "from RecSys_Course_AT_PoliMi.Recommenders.KNN.ItemKNNCFRecommender import ItemKNNCFRecommender\n",
    "from RecSys_Course_AT_PoliMi.Recommenders.KNN.UserKNNCFRecommender import UserKNNCFRecommender\n",
    "from RecSys_Course_AT_PoliMi.Recommenders.MatrixFactorization.Cython.MatrixFactorization_Cython import MatrixFactorization_AsySVD_Cython, MatrixFactorization_BPR_Cython\n",
    "from RecSys_Course_AT_PoliMi.Recommenders.MatrixFactorization.PureSVDRecommender import PureSVDRecommender, PureSVDItemRecommender\n",
    "from RecSys_Course_AT_PoliMi.Recommenders.Neural.MultVAERecommender import MultVAERecommender\n",
    "from RecSys_Course_AT_PoliMi.Recommenders.SLIM.SLIMElasticNetRecommender import SLIMElasticNetRecommender, MultiThreadSLIM_SLIMElasticNetRecommender\n",
    "from RecSys_Course_AT_PoliMi.Recommenders.SLIM.Cython.SLIM_BPR_Cython import SLIM_BPR_Cython\n",
    "from RecSys_Course_AT_PoliMi.Recommenders.MatrixFactorization.NMFRecommender import NMFRecommender"
   ]
  },
  {
   "cell_type": "code",
   "execution_count": null,
   "metadata": {},
   "outputs": [],
   "source": [
    "dpath = Path('../../dataset')\n",
    "\n",
    "dtype = 'small'\n",
    "articles = pl.read_parquet(f'{dpath}/ebnerd_{dtype}/articles.parquet')\n",
    "\n",
    "behaviors_train = pl.read_parquet(f'{dpath}/ebnerd_{dtype}/train/behaviors.parquet')\n",
    "history_train = pl.read_parquet(f'{dpath}/ebnerd_{dtype}/train/history.parquet')\n",
    "\n",
    "behaviors_val = pl.read_parquet(f'{dpath}/ebnerd_{dtype}/validation/behaviors.parquet')\n",
    "history_val = pl.read_parquet(f'{dpath}/ebnerd_{dtype}/validation/history.parquet')"
   ]
  },
  {
   "cell_type": "code",
   "execution_count": null,
   "metadata": {},
   "outputs": [],
   "source": [
    "from polimi.utils._custom import load_sparse_csr\n",
    "\n",
    "ner_path = dpath.joinpath('urm').joinpath('ner').joinpath('small')\n",
    "algo_path = ner_path.joinpath('algo').joinpath('train')\n",
    "\n",
    "URM_train = load_sparse_csr(ner_path.joinpath('URM_train.npz'))\n",
    "URM_train_val = load_sparse_csr(ner_path.joinpath('URM_train_val.npz'))\n",
    "URM_val =  load_sparse_csr(ner_path.joinpath('URM_validation.npz'))\n",
    "URM_test = load_sparse_csr(ner_path.joinpath('URM_test.npz'))\n"
   ]
  },
  {
   "cell_type": "code",
   "execution_count": null,
   "metadata": {},
   "outputs": [],
   "source": [
    "# from polimi.utils._custom import load_best_optuna_params\n",
    "\n",
    "# rp3params = load_best_optuna_params('RP3betaRecommender-ner-small-ndcg100')\n",
    "# userknnparams = load_best_optuna_params('UserKNNCFRecommender-ner-small-ndcg100')\n",
    "# itemknnparams = load_best_optuna_params('ItemKNNCFRecommender-ner-small-ndcg100')\n",
    "# puresvditemparams = load_best_optuna_params('PureSVDItemRecommender-ner-small-ndcg100')\n",
    "# rp3params, userknnparams, itemknnparams, puresvditemparams"
   ]
  },
  {
   "cell_type": "code",
   "execution_count": null,
   "metadata": {},
   "outputs": [],
   "source": [
    "\n",
    "# train_recommender(URM_train, RP3betaRecommender, rp3params, file_name='RP3betaRecommender-ner-small-ndcg100', output_dir=algo_path)\n",
    "# train_recommender(URM_train, UserKNNCFRecommender, userknnparams, file_name='UserKNNCFRecommender-ner-small-ndcg100', output_dir=algo_path)\n",
    "# train_recommender(URM_train, ItemKNNCFRecommender, itemknnparams, file_name='ItemKNNCFRecommender-ner-small-ndcg100', output_dir=algo_path)\n",
    "# train_recommender(URM_train, PureSVDItemRecommender, puresvditemparams, file_name='PureSVDItemRecommender-ner-small-ndcg100', output_dir=algo_path)"
   ]
  },
  {
   "cell_type": "markdown",
   "metadata": {},
   "source": [
    "# Build rec sys features"
   ]
  },
  {
   "cell_type": "code",
   "execution_count": null,
   "metadata": {},
   "outputs": [],
   "source": [
    "rp3beta = RP3betaRecommender(URM_train)\n",
    "user_knn = UserKNNCFRecommender(URM_train)\n",
    "pure_svd = PureSVDRecommender(URM_train)\n",
    "pure_svd.fit(num_factors=1)\n",
    "# item_knn = ItemKNNCFRecommender(URM_train)\n",
    "# pure_svd_item = PureSVDItemRecommender(URM_train)\n",
    "rp3beta.load_model(str(algo_path), file_name='RP3betaRecommender-ner-small-ndcg100')\n",
    "user_knn.load_model(str(algo_path), file_name='UserKNNCFRecommender-ner-small-ndcg100')\n",
    "# item_knn.load_model(str(algo_path), file_name='ItemKNNCFRecommender-ner-small-ndcg100')\n",
    "# pure_svd_item.load_model(str(algo_path), file_name='PureSVDItemRecommender-ner-small-ndcg100')"
   ]
  },
  {
   "cell_type": "code",
   "execution_count": null,
   "metadata": {},
   "outputs": [],
   "source": [
    "from polimi.utils._urm import build_ner_mapping, build_user_id_mapping, build_articles_with_processed_ner, _build_batch_ner_interactions\n",
    "user_id_mapping = build_user_id_mapping(history_train.vstack(history_val))\n",
    "ap = build_articles_with_processed_ner(articles)\n",
    "ner_mapping = build_ner_mapping(ap)\n",
    "ap = ap.with_columns(\n",
    "    pl.col('ner_clusters').list.eval(pl.element().replace(ner_mapping['ner'], ner_mapping['ner_index'], default=None).drop_nulls()).alias('ner_clusters_index'),\n",
    ")"
   ]
  },
  {
   "cell_type": "code",
   "execution_count": null,
   "metadata": {},
   "outputs": [],
   "source": [
    "train_ds = behaviors_train\n",
    "train_ds = train_ds\\\n",
    "    .rename({'article_ids_inview': 'candidate_ids'})\\\n",
    "    .with_columns(\n",
    "        pl.col('candidate_ids').list.eval(pl.element().replace(ap['article_id'], ap['ner_clusters_index'], default=None).drop_nulls()).alias('candidate_ner_index'),\n",
    "        pl.col('user_id').replace(user_id_mapping['user_id'], user_id_mapping['user_index'], default=None).alias('user_index')\n",
    "    ).select('impression_id', 'user_id', 'user_index', 'candidate_ids', 'candidate_ner_index')\n",
    "train_ds.head(2)"
   ]
  },
  {
   "cell_type": "code",
   "execution_count": null,
   "metadata": {},
   "outputs": [],
   "source": [
    "all_users = user_id_mapping['user_index'].unique().sort().to_list()\n",
    "all_items = ner_mapping['ner_index'].unique().sort().to_list()\n",
    "# rp3betascores = rp3beta._compute_item_score(all_users)\n",
    "# userknnparamscores = user_knn._compute_item_score(all_users)\n",
    "# userknnparamscores.shape, rp3betascores.shape"
   ]
  },
  {
   "cell_type": "code",
   "execution_count": null,
   "metadata": {},
   "outputs": [],
   "source": [
    "from tqdm import tqdm\n",
    "train_ds = pl.concat([\n",
    "    slice.explode(['candidate_ids', 'candidate_ner_index'])\\\n",
    "        .filter(pl.col('candidate_ner_index').list.len() > 0)\\\n",
    "        .group_by(['impression_id', 'user_id', 'user_index']).agg(pl.all())\n",
    "    for slice in tqdm(train_ds.iter_slices(10000), total=train_ds.shape[0]//10000)\n",
    "])\n",
    "train_ds.head(2)"
   ]
  },
  {
   "cell_type": "code",
   "execution_count": null,
   "metadata": {},
   "outputs": [],
   "source": [
    "from tqdm import tqdm\n",
    "recs = [pure_svd]\n",
    "\n",
    "impression_scores = pl.concat([\n",
    "    slice.with_columns(\n",
    "            *[pl.col('candidate_ner_index').list.eval(\n",
    "                pl.element().list.eval(pl.element().replace(all_items, rec._compute_item_score(user_index)[0], default=None))\n",
    "            ).alias(f\"{rec.RECOMMENDER_NAME}_scores\") for rec in recs]\n",
    "        ).drop('user_index', 'candidate_ner_index')\n",
    "for user_index, slice in tqdm(train_ds[:1000].partition_by(['user_index'], as_dict=True).items(), total=train_ds['user_index'].n_unique())\n",
    "])\n",
    "impression_scores.head(3)"
   ]
  },
  {
   "cell_type": "code",
   "execution_count": null,
   "metadata": {},
   "outputs": [],
   "source": [
    "impression_scores.head(3)"
   ]
  },
  {
   "cell_type": "code",
   "execution_count": null,
   "metadata": {},
   "outputs": [],
   "source": [
    "impression_scores.explode(['candidate_ids', 'PureSVDRecommender_scores']).explode('PureSVDRecommender_scores').describe()"
   ]
  },
  {
   "cell_type": "code",
   "execution_count": 45,
   "metadata": {},
   "outputs": [
    {
     "name": "stdout",
     "output_type": "stream",
     "text": [
      "Memory usage of dataframe is 0.32 MB\n",
      "Memory usage after optimization is: 0.32 MB\n",
      "Decreased by 0.0%\n"
     ]
    },
    {
     "data": {
      "text/html": [
       "<div><style>\n",
       ".dataframe > thead > tr,\n",
       ".dataframe > tbody > tr {\n",
       "  text-align: right;\n",
       "  white-space: pre-wrap;\n",
       "}\n",
       "</style>\n",
       "<small>shape: (3, 6)</small><table border=\"1\" class=\"dataframe\"><thead><tr><th>impression_id</th><th>user_id</th><th>article</th><th>sum_PureSVDRecommender_scores</th><th>max_PureSVDRecommender_scores</th><th>mean_PureSVDRecommender_scores</th></tr><tr><td>u32</td><td>u32</td><td>i32</td><td>f64</td><td>f64</td><td>f64</td></tr></thead><tbody><tr><td>159199</td><td>532543</td><td>9776148</td><td>0.4</td><td>1.0</td><td>1.0</td></tr><tr><td>159199</td><td>532543</td><td>9776040</td><td>0.4</td><td>1.0</td><td>1.0</td></tr><tr><td>159199</td><td>532543</td><td>9769605</td><td>0.733333</td><td>1.0</td><td>1.0</td></tr></tbody></table></div>"
      ],
      "text/plain": [
       "shape: (3, 6)\n",
       "┌───────────────┬─────────┬─────────┬────────────────────┬────────────────────┬────────────────────┐\n",
       "│ impression_id ┆ user_id ┆ article ┆ sum_PureSVDRecomme ┆ max_PureSVDRecomme ┆ mean_PureSVDRecomm │\n",
       "│ ---           ┆ ---     ┆ ---     ┆ nder_scores        ┆ nder_scores        ┆ ender_scores       │\n",
       "│ u32           ┆ u32     ┆ i32     ┆ ---                ┆ ---                ┆ ---                │\n",
       "│               ┆         ┆         ┆ f64                ┆ f64                ┆ f64                │\n",
       "╞═══════════════╪═════════╪═════════╪════════════════════╪════════════════════╪════════════════════╡\n",
       "│ 159199        ┆ 532543  ┆ 9776148 ┆ 0.4                ┆ 1.0                ┆ 1.0                │\n",
       "│ 159199        ┆ 532543  ┆ 9776040 ┆ 0.4                ┆ 1.0                ┆ 1.0                │\n",
       "│ 159199        ┆ 532543  ┆ 9769605 ┆ 0.733333           ┆ 1.0                ┆ 1.0                │\n",
       "└───────────────┴─────────┴─────────┴────────────────────┴────────────────────┴────────────────────┘"
      ]
     },
     "execution_count": 45,
     "metadata": {},
     "output_type": "execute_result"
    }
   ],
   "source": [
    "from polimi.utils._polars import reduce_polars_df_memory_size\n",
    "scores_cols = [col for col in impression_scores.columns if col.endswith('_scores')]\n",
    "df = impression_scores.with_columns(\n",
    "        *[pl.col(col).list.eval(pl.element().list.sum()).alias(f'sum_{col}') for col in scores_cols],\n",
    "        *[pl.col(col).list.eval(pl.element().list.max()).alias(f'max_{col}') for col in scores_cols],\n",
    "        *[pl.col(col).list.eval(pl.element().list.mean()).alias(f'mean_{col}') for col in scores_cols],\n",
    ").with_columns(\n",
    "    pl.all().exclude(['impression_id', 'user_id', 'candidate_ids'] + scores_cols).list.eval(pl.element().truediv(pl.element().max()).fill_nan(0.0)), #inf norm\n",
    ").drop(scores_cols)\n",
    "\n",
    "df = reduce_polars_df_memory_size(df)\n",
    "df = df.sort(['impression_id', 'user_id'])\\\n",
    "    .explode(pl.all().exclude(['impression_id', 'user_id']))\\\n",
    "    .rename({'candidate_ids': 'article'})\n",
    "\n",
    "df.head(3)"
   ]
  },
  {
   "cell_type": "code",
   "execution_count": null,
   "metadata": {},
   "outputs": [],
   "source": [
    "df[0]['sum_PureSVDRecommender_scores'].list.min()"
   ]
  },
  {
   "cell_type": "markdown",
   "metadata": {},
   "source": [
    "# Test API"
   ]
  },
  {
   "cell_type": "code",
   "execution_count": null,
   "metadata": {},
   "outputs": [],
   "source": [
    "from polimi.utils._urm import build_ner_scores_features, load_recommender\n",
    "\n",
    "load_dict = {\n",
    "    RP3betaRecommender: {'path': algo_path, 'file_name': 'rp3beta'},\n",
    "    UserKNNCFRecommender: {'path': algo_path, 'file_name': 'userknn'},\n",
    "}\n",
    "\n",
    "recs = []\n",
    "for rec, load_info in load_dict.items():\n",
    "    recs.append(load_recommender(URM_train, rec, file_path=str(load_info['path']), file_name=load_info['file_name']))\n",
    "\n",
    "\n",
    "df = build_ner_scores_features(history=history_train, behaviors=behaviors_train, articles=articles, recs=recs)\n",
    "df.head(3)"
   ]
  },
  {
   "cell_type": "markdown",
   "metadata": {},
   "source": [
    "# Evaluate Models"
   ]
  },
  {
   "cell_type": "code",
   "execution_count": null,
   "metadata": {},
   "outputs": [],
   "source": [
    "rp3beta = RP3betaRecommender(URM_train)\n",
    "user_knn = UserKNNCFRecommender(URM_train)\n",
    "# item_knn = ItemKNNCFRecommender(URM_train)\n",
    "# pure_svd_item = PureSVDItemRecommender(URM_train)\n",
    "rp3beta.load_model(str(algo_path), file_name='RP3betaRecommender-ner-small-ndcg100')\n",
    "user_knn.load_model(str(algo_path), file_name='UserKNNCFRecommender-ner-small-ndcg100')\n",
    "# item_knn.load_model(str(algo_path), file_name='ItemKNNCFRecommender-ner-small-ndcg100')\n",
    "# pure_svd_item.load_model(str(algo_path), file_name='PureSVDItemRecommender-ner-small-ndcg100')"
   ]
  },
  {
   "cell_type": "code",
   "execution_count": null,
   "metadata": {},
   "outputs": [],
   "source": [
    "from RecSys_Course_AT_PoliMi.Evaluation.Evaluator import EvaluatorHoldout\n",
    "\n",
    "cutoff = 100\n",
    "metric = 'NDCG'\n",
    "evaluator = EvaluatorHoldout(URM_val, cutoff_list=[cutoff, 10], exclude_seen=False)\n",
    "test_evaluator = EvaluatorHoldout(URM_test, cutoff_list=[cutoff, 10], exclude_seen=False)"
   ]
  },
  {
   "cell_type": "code",
   "execution_count": null,
   "metadata": {},
   "outputs": [],
   "source": [
    "# user_knn = UserKNNCFRecommender(URM_train)\n",
    "# user_knn.fit()\n",
    "result_df, _ = evaluator.evaluateRecommender(user_knn)\n",
    "result_df.loc[cutoff][metric.upper()]"
   ]
  },
  {
   "cell_type": "code",
   "execution_count": null,
   "metadata": {},
   "outputs": [],
   "source": [
    "result_df"
   ]
  },
  {
   "cell_type": "code",
   "execution_count": null,
   "metadata": {},
   "outputs": [],
   "source": [
    "user_knn = UserKNNCFRecommender(URM_train_val)\n",
    "user_knn.fit(**userknnparams)\n",
    "result_df, _ = test_evaluator.evaluateRecommender(user_knn)\n",
    "result_df.loc[cutoff][metric.upper()]"
   ]
  },
  {
   "cell_type": "code",
   "execution_count": null,
   "metadata": {},
   "outputs": [],
   "source": []
  }
 ],
 "metadata": {
  "kernelspec": {
   "display_name": ".venv",
   "language": "python",
   "name": "python3"
  },
  "language_info": {
   "codemirror_mode": {
    "name": "ipython",
    "version": 3
   },
   "file_extension": ".py",
   "mimetype": "text/x-python",
   "name": "python",
   "nbconvert_exporter": "python",
   "pygments_lexer": "ipython3",
   "version": "3.11.0"
  }
 },
 "nbformat": 4,
 "nbformat_minor": 2
}
