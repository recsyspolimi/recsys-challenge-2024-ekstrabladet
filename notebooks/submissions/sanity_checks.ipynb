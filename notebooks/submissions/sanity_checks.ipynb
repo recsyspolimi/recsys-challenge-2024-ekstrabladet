{
 "cells": [
  {
   "cell_type": "code",
   "execution_count": 2,
   "metadata": {},
   "outputs": [],
   "source": [
    "import polars as pl\n",
    "\n",
    "predictions_path = '~/experiments/Inference_Test_2024-06-08_15-13-24/predictions.parquet'\n",
    "behaviors_path = '/home/ubuntu/dataset/ebnerd_testset/test/behaviors.parquet'"
   ]
  },
  {
   "cell_type": "code",
   "execution_count": 3,
   "metadata": {},
   "outputs": [
    {
     "data": {
      "text/html": [
       "<div><style>\n",
       ".dataframe > thead > tr,\n",
       ".dataframe > tbody > tr {\n",
       "  text-align: right;\n",
       "  white-space: pre-wrap;\n",
       "}\n",
       "</style>\n",
       "<small>shape: (5, 4)</small><table border=\"1\" class=\"dataframe\"><thead><tr><th>impression_id</th><th>user_id</th><th>article</th><th>prediction</th></tr><tr><td>u32</td><td>u32</td><td>i32</td><td>f64</td></tr></thead><tbody><tr><td>6880427</td><td>1274780</td><td>9756075</td><td>0.163534</td></tr><tr><td>6869675</td><td>1238642</td><td>9789473</td><td>0.508805</td></tr><tr><td>6908287</td><td>1351925</td><td>9791205</td><td>0.126039</td></tr><tr><td>6871530</td><td>1245302</td><td>9791525</td><td>0.018322</td></tr><tr><td>6765726</td><td>1183377</td><td>9791515</td><td>0.380433</td></tr></tbody></table></div>"
      ],
      "text/plain": [
       "shape: (5, 4)\n",
       "┌───────────────┬─────────┬─────────┬────────────┐\n",
       "│ impression_id ┆ user_id ┆ article ┆ prediction │\n",
       "│ ---           ┆ ---     ┆ ---     ┆ ---        │\n",
       "│ u32           ┆ u32     ┆ i32     ┆ f64        │\n",
       "╞═══════════════╪═════════╪═════════╪════════════╡\n",
       "│ 6880427       ┆ 1274780 ┆ 9756075 ┆ 0.163534   │\n",
       "│ 6869675       ┆ 1238642 ┆ 9789473 ┆ 0.508805   │\n",
       "│ 6908287       ┆ 1351925 ┆ 9791205 ┆ 0.126039   │\n",
       "│ 6871530       ┆ 1245302 ┆ 9791525 ┆ 0.018322   │\n",
       "│ 6765726       ┆ 1183377 ┆ 9791515 ┆ 0.380433   │\n",
       "└───────────────┴─────────┴─────────┴────────────┘"
      ]
     },
     "execution_count": 3,
     "metadata": {},
     "output_type": "execute_result"
    }
   ],
   "source": [
    "predictions_df = pl.read_parquet(predictions_path)\n",
    "predictions_df.head()"
   ]
  },
  {
   "cell_type": "code",
   "execution_count": 4,
   "metadata": {},
   "outputs": [
    {
     "data": {
      "text/html": [
       "<div><style>\n",
       ".dataframe > thead > tr,\n",
       ".dataframe > tbody > tr {\n",
       "  text-align: right;\n",
       "  white-space: pre-wrap;\n",
       "}\n",
       "</style>\n",
       "<small>shape: (0, 3)</small><table border=\"1\" class=\"dataframe\"><thead><tr><th>user_id</th><th>article</th><th>prediction</th></tr><tr><td>u32</td><td>u32</td><td>list[f64]</td></tr></thead><tbody></tbody></table></div>"
      ],
      "text/plain": [
       "shape: (0, 3)\n",
       "┌─────────┬─────────┬────────────┐\n",
       "│ user_id ┆ article ┆ prediction │\n",
       "│ ---     ┆ ---     ┆ ---        │\n",
       "│ u32     ┆ u32     ┆ list[f64]  │\n",
       "╞═════════╪═════════╪════════════╡\n",
       "└─────────┴─────────┴────────────┘"
      ]
     },
     "execution_count": 4,
     "metadata": {},
     "output_type": "execute_result"
    }
   ],
   "source": [
    "beyond_acc_predictions = predictions_df.filter(pl.col('impression_id') == 0) \\\n",
    "    .group_by('user_id').agg(pl.col('article').count(), pl.col('prediction'))\n",
    "beyond_acc_predictions"
   ]
  },
  {
   "cell_type": "markdown",
   "metadata": {},
   "source": [
    "If the predictions are correct, there should be 200000 impressions with id 0 and each of them should have 250 samples"
   ]
  },
  {
   "cell_type": "code",
   "execution_count": 5,
   "metadata": {},
   "outputs": [
    {
     "data": {
      "text/plain": [
       "(0, [])"
      ]
     },
     "execution_count": 5,
     "metadata": {},
     "output_type": "execute_result"
    }
   ],
   "source": [
    "beyond_acc_predictions.shape[0], beyond_acc_predictions['article'].unique().to_list()"
   ]
  },
  {
   "cell_type": "code",
   "execution_count": 6,
   "metadata": {},
   "outputs": [
    {
     "data": {
      "text/html": [
       "<div><style>\n",
       ".dataframe > thead > tr,\n",
       ".dataframe > tbody > tr {\n",
       "  text-align: right;\n",
       "  white-space: pre-wrap;\n",
       "}\n",
       "</style>\n",
       "<small>shape: (5, 3)</small><table border=\"1\" class=\"dataframe\"><thead><tr><th>impression_id</th><th>user_id</th><th>article_ids_inview</th></tr><tr><td>u32</td><td>u32</td><td>i32</td></tr></thead><tbody><tr><td>6451339</td><td>35982</td><td>9796527</td></tr><tr><td>6451339</td><td>35982</td><td>7851321</td></tr><tr><td>6451339</td><td>35982</td><td>9798805</td></tr><tr><td>6451339</td><td>35982</td><td>9795150</td></tr><tr><td>6451339</td><td>35982</td><td>9531110</td></tr></tbody></table></div>"
      ],
      "text/plain": [
       "shape: (5, 3)\n",
       "┌───────────────┬─────────┬────────────────────┐\n",
       "│ impression_id ┆ user_id ┆ article_ids_inview │\n",
       "│ ---           ┆ ---     ┆ ---                │\n",
       "│ u32           ┆ u32     ┆ i32                │\n",
       "╞═══════════════╪═════════╪════════════════════╡\n",
       "│ 6451339       ┆ 35982   ┆ 9796527            │\n",
       "│ 6451339       ┆ 35982   ┆ 7851321            │\n",
       "│ 6451339       ┆ 35982   ┆ 9798805            │\n",
       "│ 6451339       ┆ 35982   ┆ 9795150            │\n",
       "│ 6451339       ┆ 35982   ┆ 9531110            │\n",
       "└───────────────┴─────────┴────────────────────┘"
      ]
     },
     "execution_count": 6,
     "metadata": {},
     "output_type": "execute_result"
    }
   ],
   "source": [
    "behaviors = pl.read_parquet(behaviors_path, columns=['impression_id', 'user_id', 'article_ids_inview']).explode('article_ids_inview')\n",
    "behaviors.head(5)"
   ]
  },
  {
   "cell_type": "markdown",
   "metadata": {},
   "source": [
    "Checking that each triplet (impression_id, user_id, article_ids_inview) has a prediction. If the predictions df contains all the triplets, there should not be null predictions when joining the dataframe"
   ]
  },
  {
   "cell_type": "code",
   "execution_count": 7,
   "metadata": {},
   "outputs": [
    {
     "data": {
      "text/plain": [
       "50000000"
      ]
     },
     "execution_count": 7,
     "metadata": {},
     "output_type": "execute_result"
    }
   ],
   "source": [
    "behaviors.join(predictions_df, left_on=['impression_id', 'user_id', 'article_ids_inview'],\n",
    "               right_on=['impression_id', 'user_id', 'article'], how='left') \\\n",
    "    .select(pl.col('prediction').is_null().sum()).item(0,0)"
   ]
  },
  {
   "cell_type": "markdown",
   "metadata": {},
   "source": [
    "Is the reordering correct?"
   ]
  },
  {
   "cell_type": "code",
   "execution_count": 13,
   "metadata": {},
   "outputs": [],
   "source": [
    "ordered_predictions = behaviors.with_row_index() \\\n",
    "    .join(predictions_df, left_on=['impression_id', 'user_id', 'article_ids_inview'],\n",
    "          right_on=['impression_id', 'user_id', 'article'], how='left') \\\n",
    "    .sort('index').group_by(['impression_id', 'user_id'], maintain_order=True) \\\n",
    "    .agg(pl.col('prediction'), pl.col('article_ids_inview')) \\\n",
    "    .with_columns(pl.col('prediction').list.eval(pl.element().rank(descending=True)).cast(pl.List(pl.Int16)))"
   ]
  },
  {
   "cell_type": "markdown",
   "metadata": {},
   "source": [
    "The predicion dataframe can have a different order, it needs to be rearranged to match the order in the initial behaviors list"
   ]
  },
  {
   "cell_type": "code",
   "execution_count": 14,
   "metadata": {},
   "outputs": [
    {
     "data": {
      "text/html": [
       "<div><style>\n",
       ".dataframe > thead > tr,\n",
       ".dataframe > tbody > tr {\n",
       "  text-align: right;\n",
       "  white-space: pre-wrap;\n",
       "}\n",
       "</style>\n",
       "<small>shape: (9, 3)</small><table border=\"1\" class=\"dataframe\"><thead><tr><th>impression_id</th><th>user_id</th><th>article_ids_inview</th></tr><tr><td>u32</td><td>u32</td><td>i32</td></tr></thead><tbody><tr><td>6451339</td><td>35982</td><td>9796527</td></tr><tr><td>6451339</td><td>35982</td><td>7851321</td></tr><tr><td>6451339</td><td>35982</td><td>9798805</td></tr><tr><td>6451339</td><td>35982</td><td>9795150</td></tr><tr><td>6451339</td><td>35982</td><td>9531110</td></tr><tr><td>6451339</td><td>35982</td><td>9798526</td></tr><tr><td>6451339</td><td>35982</td><td>9798682</td></tr><tr><td>6451339</td><td>35982</td><td>9796198</td></tr><tr><td>6451339</td><td>35982</td><td>9492777</td></tr></tbody></table></div>"
      ],
      "text/plain": [
       "shape: (9, 3)\n",
       "┌───────────────┬─────────┬────────────────────┐\n",
       "│ impression_id ┆ user_id ┆ article_ids_inview │\n",
       "│ ---           ┆ ---     ┆ ---                │\n",
       "│ u32           ┆ u32     ┆ i32                │\n",
       "╞═══════════════╪═════════╪════════════════════╡\n",
       "│ 6451339       ┆ 35982   ┆ 9796527            │\n",
       "│ 6451339       ┆ 35982   ┆ 7851321            │\n",
       "│ 6451339       ┆ 35982   ┆ 9798805            │\n",
       "│ 6451339       ┆ 35982   ┆ 9795150            │\n",
       "│ 6451339       ┆ 35982   ┆ 9531110            │\n",
       "│ 6451339       ┆ 35982   ┆ 9798526            │\n",
       "│ 6451339       ┆ 35982   ┆ 9798682            │\n",
       "│ 6451339       ┆ 35982   ┆ 9796198            │\n",
       "│ 6451339       ┆ 35982   ┆ 9492777            │\n",
       "└───────────────┴─────────┴────────────────────┘"
      ]
     },
     "metadata": {},
     "output_type": "display_data"
    },
    {
     "data": {
      "text/html": [
       "<div><style>\n",
       ".dataframe > thead > tr,\n",
       ".dataframe > tbody > tr {\n",
       "  text-align: right;\n",
       "  white-space: pre-wrap;\n",
       "}\n",
       "</style>\n",
       "<small>shape: (9, 4)</small><table border=\"1\" class=\"dataframe\"><thead><tr><th>impression_id</th><th>user_id</th><th>article</th><th>prediction</th></tr><tr><td>u32</td><td>u32</td><td>i32</td><td>f64</td></tr></thead><tbody><tr><td>6451339</td><td>35982</td><td>9795150</td><td>4.0</td></tr><tr><td>6451339</td><td>35982</td><td>9531110</td><td>7.0</td></tr><tr><td>6451339</td><td>35982</td><td>9798682</td><td>1.0</td></tr><tr><td>6451339</td><td>35982</td><td>9798526</td><td>2.0</td></tr><tr><td>6451339</td><td>35982</td><td>9796527</td><td>5.0</td></tr><tr><td>6451339</td><td>35982</td><td>9492777</td><td>9.0</td></tr><tr><td>6451339</td><td>35982</td><td>9798805</td><td>3.0</td></tr><tr><td>6451339</td><td>35982</td><td>9796198</td><td>6.0</td></tr><tr><td>6451339</td><td>35982</td><td>7851321</td><td>8.0</td></tr></tbody></table></div>"
      ],
      "text/plain": [
       "shape: (9, 4)\n",
       "┌───────────────┬─────────┬─────────┬────────────┐\n",
       "│ impression_id ┆ user_id ┆ article ┆ prediction │\n",
       "│ ---           ┆ ---     ┆ ---     ┆ ---        │\n",
       "│ u32           ┆ u32     ┆ i32     ┆ f64        │\n",
       "╞═══════════════╪═════════╪═════════╪════════════╡\n",
       "│ 6451339       ┆ 35982   ┆ 9795150 ┆ 4.0        │\n",
       "│ 6451339       ┆ 35982   ┆ 9531110 ┆ 7.0        │\n",
       "│ 6451339       ┆ 35982   ┆ 9798682 ┆ 1.0        │\n",
       "│ 6451339       ┆ 35982   ┆ 9798526 ┆ 2.0        │\n",
       "│ 6451339       ┆ 35982   ┆ 9796527 ┆ 5.0        │\n",
       "│ 6451339       ┆ 35982   ┆ 9492777 ┆ 9.0        │\n",
       "│ 6451339       ┆ 35982   ┆ 9798805 ┆ 3.0        │\n",
       "│ 6451339       ┆ 35982   ┆ 9796198 ┆ 6.0        │\n",
       "│ 6451339       ┆ 35982   ┆ 7851321 ┆ 8.0        │\n",
       "└───────────────┴─────────┴─────────┴────────────┘"
      ]
     },
     "metadata": {},
     "output_type": "display_data"
    },
    {
     "data": {
      "text/html": [
       "<div><style>\n",
       ".dataframe > thead > tr,\n",
       ".dataframe > tbody > tr {\n",
       "  text-align: right;\n",
       "  white-space: pre-wrap;\n",
       "}\n",
       "</style>\n",
       "<small>shape: (1, 4)</small><table border=\"1\" class=\"dataframe\"><thead><tr><th>impression_id</th><th>user_id</th><th>prediction</th><th>article_ids_inview</th></tr><tr><td>u32</td><td>u32</td><td>list[i16]</td><td>list[i32]</td></tr></thead><tbody><tr><td>6451339</td><td>35982</td><td>[5, 8, … 9]</td><td>[9796527, 7851321, … 9492777]</td></tr></tbody></table></div>"
      ],
      "text/plain": [
       "shape: (1, 4)\n",
       "┌───────────────┬─────────┬─────────────┬───────────────────────────────┐\n",
       "│ impression_id ┆ user_id ┆ prediction  ┆ article_ids_inview            │\n",
       "│ ---           ┆ ---     ┆ ---         ┆ ---                           │\n",
       "│ u32           ┆ u32     ┆ list[i16]   ┆ list[i32]                     │\n",
       "╞═══════════════╪═════════╪═════════════╪═══════════════════════════════╡\n",
       "│ 6451339       ┆ 35982   ┆ [5, 8, … 9] ┆ [9796527, 7851321, … 9492777] │\n",
       "└───────────────┴─────────┴─────────────┴───────────────────────────────┘"
      ]
     },
     "metadata": {},
     "output_type": "display_data"
    }
   ],
   "source": [
    "display(behaviors.filter(pl.col('impression_id') == 6451339))\n",
    "display(predictions_df.filter(pl.col('impression_id') == 6451339).with_columns(pl.col('prediction').rank(descending=True)))\n",
    "display(ordered_predictions.filter(pl.col('impression_id') == 6451339))"
   ]
  },
  {
   "cell_type": "markdown",
   "metadata": {},
   "source": [
    "Checking if the joins have maintained the beyond accuracy samples"
   ]
  },
  {
   "cell_type": "code",
   "execution_count": 15,
   "metadata": {},
   "outputs": [
    {
     "data": {
      "text/html": [
       "<div><style>\n",
       ".dataframe > thead > tr,\n",
       ".dataframe > tbody > tr {\n",
       "  text-align: right;\n",
       "  white-space: pre-wrap;\n",
       "}\n",
       "</style>\n",
       "<small>shape: (5, 5)</small><table border=\"1\" class=\"dataframe\"><thead><tr><th>impression_id</th><th>user_id</th><th>prediction</th><th>article_ids_inview</th><th>len</th></tr><tr><td>u32</td><td>u32</td><td>list[i16]</td><td>list[i32]</td><td>u32</td></tr></thead><tbody><tr><td>0</td><td>1049297</td><td>[null, null, … null]</td><td>[9793163, 9793069, … 9789545]</td><td>250</td></tr><tr><td>0</td><td>231624</td><td>[null, null, … null]</td><td>[9793163, 9793069, … 9789545]</td><td>250</td></tr><tr><td>0</td><td>716356</td><td>[null, null, … null]</td><td>[9793163, 9793069, … 9789545]</td><td>250</td></tr><tr><td>0</td><td>1440307</td><td>[null, null, … null]</td><td>[9793163, 9793069, … 9789545]</td><td>250</td></tr><tr><td>0</td><td>1822406</td><td>[null, null, … null]</td><td>[9793163, 9793069, … 9789545]</td><td>250</td></tr></tbody></table></div>"
      ],
      "text/plain": [
       "shape: (5, 5)\n",
       "┌───────────────┬─────────┬──────────────────────┬───────────────────────────────┬─────┐\n",
       "│ impression_id ┆ user_id ┆ prediction           ┆ article_ids_inview            ┆ len │\n",
       "│ ---           ┆ ---     ┆ ---                  ┆ ---                           ┆ --- │\n",
       "│ u32           ┆ u32     ┆ list[i16]            ┆ list[i32]                     ┆ u32 │\n",
       "╞═══════════════╪═════════╪══════════════════════╪═══════════════════════════════╪═════╡\n",
       "│ 0             ┆ 1049297 ┆ [null, null, … null] ┆ [9793163, 9793069, … 9789545] ┆ 250 │\n",
       "│ 0             ┆ 231624  ┆ [null, null, … null] ┆ [9793163, 9793069, … 9789545] ┆ 250 │\n",
       "│ 0             ┆ 716356  ┆ [null, null, … null] ┆ [9793163, 9793069, … 9789545] ┆ 250 │\n",
       "│ 0             ┆ 1440307 ┆ [null, null, … null] ┆ [9793163, 9793069, … 9789545] ┆ 250 │\n",
       "│ 0             ┆ 1822406 ┆ [null, null, … null] ┆ [9793163, 9793069, … 9789545] ┆ 250 │\n",
       "└───────────────┴─────────┴──────────────────────┴───────────────────────────────┴─────┘"
      ]
     },
     "execution_count": 15,
     "metadata": {},
     "output_type": "execute_result"
    }
   ],
   "source": [
    "ordered_predictions.filter(pl.col('impression_id') == 0).with_columns(pl.col('prediction').list.len().alias('len')).head()"
   ]
  },
  {
   "cell_type": "markdown",
   "metadata": {},
   "source": [
    "# Checking prediction.txt file"
   ]
  },
  {
   "cell_type": "markdown",
   "metadata": {},
   "source": [
    "To run this, the file needs to be unzipped before"
   ]
  },
  {
   "cell_type": "code",
   "execution_count": 9,
   "metadata": {},
   "outputs": [],
   "source": [
    "sample_submission_path = '/home/ubuntu/experiments/Inference_Test_2024-06-05_14-14-24/predictions.txt'\n",
    "submission_file_path = '/home/ubuntu/experiments/Inference_Test_2024-06-08_15-13-24/predictions.txt'"
   ]
  },
  {
   "cell_type": "markdown",
   "metadata": {},
   "source": [
    "Checking if all ids are present also in the file (and counting the number of impressions with id 0)"
   ]
  },
  {
   "cell_type": "code",
   "execution_count": 10,
   "metadata": {},
   "outputs": [
    {
     "name": "stdout",
     "output_type": "stream",
     "text": [
      "200000 200000\n",
      "Missing IDs in predictions w.r.t. sample submission: set()\n",
      "IDs present in predictions but not in sample submission: set()\n"
     ]
    }
   ],
   "source": [
    "def read_ids_from_file(file_path):\n",
    "    ids = set()\n",
    "    count_zeros = 0\n",
    "    with open(file_path, 'r') as file:\n",
    "        for line in file:\n",
    "            parts = line.strip().split(' ')\n",
    "            if len(parts) >= 1:\n",
    "                ids.add(parts[0])\n",
    "                if parts[0] == '0':\n",
    "                    count_zeros += 1\n",
    "    return ids, count_zeros\n",
    "\n",
    "def find_missing_ids(file1_path, file2_path):\n",
    "    ids_file1, count_zeros1 = read_ids_from_file(file1_path)\n",
    "    ids_file2, count_zeros2 = read_ids_from_file(file2_path)\n",
    "    print(count_zeros1, count_zeros2)\n",
    "    missing_file2 = ids_file1.difference(ids_file2)\n",
    "    missing_file1 = ids_file2.difference(ids_file1)\n",
    "    return missing_file1, missing_file2\n",
    "\n",
    "missing_file1, missing_file2 = find_missing_ids(submission_file_path, sample_submission_path)\n",
    "print(\"Missing IDs in predictions w.r.t. sample submission:\", missing_file1)\n",
    "print(\"IDs present in predictions but not in sample submission:\", missing_file2)"
   ]
  },
  {
   "cell_type": "markdown",
   "metadata": {},
   "source": [
    "Checking if the lists have the same length, no output should be returned from the function"
   ]
  },
  {
   "cell_type": "code",
   "execution_count": 11,
   "metadata": {},
   "outputs": [],
   "source": [
    "def validate_files(file1_path, file2_path):\n",
    "    id_lists_file1 = {}\n",
    "    id_lists_file2 = {}\n",
    "\n",
    "    with open(file1_path, 'r') as file1:\n",
    "        for line in file1:\n",
    "            id_, elements_str = line.strip().split(' ')\n",
    "            elements = elements_str.strip('[]').split(',')\n",
    "            id_lists_file1[id_] = len(elements)\n",
    "\n",
    "    with open(file2_path, 'r') as file2:\n",
    "        for line in file2:\n",
    "            id_, elements_str = line.strip().split(' ')\n",
    "            elements = elements_str.strip('[]').split(',')\n",
    "            id_lists_file2[id_] = len(elements)\n",
    "\n",
    "    if set(id_lists_file1.keys()) != set(id_lists_file2.keys()):\n",
    "        print(\"Error: IDs in the two files do not match!\")\n",
    "        return False\n",
    "\n",
    "    for id_ in id_lists_file1.keys():\n",
    "        if id_lists_file1[id_] != id_lists_file2[id_]:\n",
    "            print(f\"Error: Lists for ID {id_} have different lengths ({id_lists_file1[id_]}, {id_lists_file2[id_]})!\")\n",
    "            return False\n",
    "\n",
    "validate_files(submission_file_path, sample_submission_path)"
   ]
  },
  {
   "cell_type": "markdown",
   "metadata": {},
   "source": [
    "Orrible code, but is needed to see if the format of the predictions is ok"
   ]
  },
  {
   "cell_type": "code",
   "execution_count": null,
   "metadata": {},
   "outputs": [],
   "source": [
    "i = 0\n",
    "with open(submission_file_path) as file:\n",
    "    for line in file:\n",
    "        if i == 0:\n",
    "            print(line)\n",
    "            break"
   ]
  }
 ],
 "metadata": {
  "kernelspec": {
   "display_name": "venv",
   "language": "python",
   "name": "python3"
  },
  "language_info": {
   "codemirror_mode": {
    "name": "ipython",
    "version": 3
   },
   "file_extension": ".py",
   "mimetype": "text/x-python",
   "name": "python",
   "nbconvert_exporter": "python",
   "pygments_lexer": "ipython3",
   "version": "3.10.14"
  }
 },
 "nbformat": 4,
 "nbformat_minor": 2
}
