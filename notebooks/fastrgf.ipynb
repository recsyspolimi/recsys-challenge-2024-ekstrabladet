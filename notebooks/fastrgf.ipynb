{
 "cells": [
  {
   "cell_type": "code",
   "execution_count": 1,
   "id": "ac3cab47",
   "metadata": {
    "execution": {
     "iopub.execute_input": "2024-05-19T16:52:07.247262Z",
     "iopub.status.busy": "2024-05-19T16:52:07.246333Z",
     "iopub.status.idle": "2024-05-19T16:52:11.235138Z",
     "shell.execute_reply": "2024-05-19T16:52:11.234202Z"
    },
    "papermill": {
     "duration": 4.019008,
     "end_time": "2024-05-19T16:52:11.237634",
     "exception": false,
     "start_time": "2024-05-19T16:52:07.218626",
     "status": "completed"
    },
    "tags": []
   },
   "outputs": [
    {
     "name": "stdout",
     "output_type": "stream",
     "text": [
      "Cloning into 'RecSysChallenge2024'...\r\n",
      "remote: Enumerating objects: 3456, done.\u001b[K\r\n",
      "remote: Counting objects: 100% (1066/1066), done.\u001b[K\r\n",
      "remote: Compressing objects: 100% (393/393), done.\u001b[K\r\n",
      "remote: Total 3456 (delta 714), reused 1007 (delta 670), pack-reused 2390\u001b[K\r\n",
      "Receiving objects: 100% (3456/3456), 43.22 MiB | 35.87 MiB/s, done.\r\n",
      "Resolving deltas: 100% (2209/2209), done.\r\n"
     ]
    }
   ],
   "source": [
    "from kaggle_secrets import UserSecretsClient\n",
    "secret_label = \"Token\"\n",
    "token = UserSecretsClient().get_secret(secret_label)\n",
    "\n",
    "! git clone https://{token}@github.com/FrancescoZanella/RecSysChallenge2024.git"
   ]
  },
  {
   "cell_type": "code",
   "execution_count": 2,
   "id": "b2fe0aba",
   "metadata": {
    "execution": {
     "iopub.execute_input": "2024-05-19T16:52:11.289989Z",
     "iopub.status.busy": "2024-05-19T16:52:11.289669Z",
     "iopub.status.idle": "2024-05-19T16:52:11.295267Z",
     "shell.execute_reply": "2024-05-19T16:52:11.294639Z"
    },
    "papermill": {
     "duration": 0.035265,
     "end_time": "2024-05-19T16:52:11.297474",
     "exception": false,
     "start_time": "2024-05-19T16:52:11.262209",
     "status": "completed"
    },
    "tags": []
   },
   "outputs": [
    {
     "name": "stdout",
     "output_type": "stream",
     "text": [
      "/kaggle/working/RecSysChallenge2024/src\n"
     ]
    }
   ],
   "source": [
    "%cd /kaggle/working/RecSysChallenge2024/src"
   ]
  },
  {
   "cell_type": "code",
   "execution_count": 3,
   "id": "19f884e9",
   "metadata": {
    "execution": {
     "iopub.execute_input": "2024-05-19T16:52:11.346481Z",
     "iopub.status.busy": "2024-05-19T16:52:11.345870Z",
     "iopub.status.idle": "2024-05-19T16:52:37.028073Z",
     "shell.execute_reply": "2024-05-19T16:52:37.027241Z"
    },
    "papermill": {
     "duration": 25.709551,
     "end_time": "2024-05-19T16:52:37.030589",
     "exception": false,
     "start_time": "2024-05-19T16:52:11.321038",
     "status": "completed"
    },
    "tags": []
   },
   "outputs": [
    {
     "name": "stdout",
     "output_type": "stream",
     "text": [
      "Requirement already satisfied: polars in /opt/conda/lib/python3.10/site-packages (0.20.15)\r\n",
      "Collecting polars\r\n",
      "  Downloading polars-0.20.26-cp38-abi3-manylinux_2_17_x86_64.manylinux2014_x86_64.whl.metadata (14 kB)\r\n",
      "Downloading polars-0.20.26-cp38-abi3-manylinux_2_17_x86_64.manylinux2014_x86_64.whl (28.0 MB)\r\n",
      "\u001b[2K   \u001b[90m━━━━━━━━━━━━━━━━━━━━━━━━━━━━━━━━━━━━━━━━\u001b[0m \u001b[32m28.0/28.0 MB\u001b[0m \u001b[31m58.1 MB/s\u001b[0m eta \u001b[36m0:00:00\u001b[0m\r\n",
      "\u001b[?25hInstalling collected packages: polars\r\n",
      "  Attempting uninstall: polars\r\n",
      "    Found existing installation: polars 0.20.15\r\n",
      "    Uninstalling polars-0.20.15:\r\n",
      "      Successfully uninstalled polars-0.20.15\r\n",
      "Successfully installed polars-0.20.26\r\n"
     ]
    }
   ],
   "source": [
    "! pip install --upgrade polars"
   ]
  },
  {
   "cell_type": "code",
   "execution_count": 4,
   "id": "257c9b01",
   "metadata": {
    "execution": {
     "iopub.execute_input": "2024-05-19T16:52:37.081601Z",
     "iopub.status.busy": "2024-05-19T16:52:37.081215Z",
     "iopub.status.idle": "2024-05-19T16:52:54.219146Z",
     "shell.execute_reply": "2024-05-19T16:52:54.217956Z"
    },
    "papermill": {
     "duration": 17.166026,
     "end_time": "2024-05-19T16:52:54.221787",
     "exception": false,
     "start_time": "2024-05-19T16:52:37.055761",
     "status": "completed"
    },
    "tags": []
   },
   "outputs": [
    {
     "name": "stdout",
     "output_type": "stream",
     "text": [
      "Collecting simsimd\r\n",
      "  Downloading simsimd-4.3.1-cp310-cp310-manylinux_2_28_x86_64.whl.metadata (30 kB)\r\n",
      "Collecting scikit-learn==1.4.2\r\n",
      "  Downloading scikit_learn-1.4.2-cp310-cp310-manylinux_2_17_x86_64.manylinux2014_x86_64.whl.metadata (11 kB)\r\n",
      "Requirement already satisfied: numpy>=1.19.5 in /opt/conda/lib/python3.10/site-packages (from scikit-learn==1.4.2) (1.26.4)\r\n",
      "Requirement already satisfied: scipy>=1.6.0 in /opt/conda/lib/python3.10/site-packages (from scikit-learn==1.4.2) (1.11.4)\r\n",
      "Requirement already satisfied: joblib>=1.2.0 in /opt/conda/lib/python3.10/site-packages (from scikit-learn==1.4.2) (1.3.2)\r\n",
      "Requirement already satisfied: threadpoolctl>=2.0.0 in /opt/conda/lib/python3.10/site-packages (from scikit-learn==1.4.2) (3.2.0)\r\n",
      "Downloading scikit_learn-1.4.2-cp310-cp310-manylinux_2_17_x86_64.manylinux2014_x86_64.whl (12.1 MB)\r\n",
      "\u001b[2K   \u001b[90m━━━━━━━━━━━━━━━━━━━━━━━━━━━━━━━━━━━━━━━━\u001b[0m \u001b[32m12.1/12.1 MB\u001b[0m \u001b[31m76.2 MB/s\u001b[0m eta \u001b[36m0:00:00\u001b[0m\r\n",
      "\u001b[?25hDownloading simsimd-4.3.1-cp310-cp310-manylinux_2_28_x86_64.whl (382 kB)\r\n",
      "\u001b[2K   \u001b[90m━━━━━━━━━━━━━━━━━━━━━━━━━━━━━━━━━━━━━━━━\u001b[0m \u001b[32m382.2/382.2 kB\u001b[0m \u001b[31m22.3 MB/s\u001b[0m eta \u001b[36m0:00:00\u001b[0m\r\n",
      "\u001b[?25hInstalling collected packages: simsimd, scikit-learn\r\n",
      "  Attempting uninstall: scikit-learn\r\n",
      "    Found existing installation: scikit-learn 1.2.2\r\n",
      "    Uninstalling scikit-learn-1.2.2:\r\n",
      "      Successfully uninstalled scikit-learn-1.2.2\r\n",
      "\u001b[31mERROR: pip's dependency resolver does not currently take into account all the packages that are installed. This behaviour is the source of the following dependency conflicts.\r\n",
      "spopt 0.6.0 requires shapely>=2.0.1, but you have shapely 1.8.5.post1 which is incompatible.\u001b[0m\u001b[31m\r\n",
      "\u001b[0mSuccessfully installed scikit-learn-1.4.2 simsimd-4.3.1\r\n"
     ]
    }
   ],
   "source": [
    "! pip install simsimd scikit-learn==1.4.2"
   ]
  },
  {
   "cell_type": "code",
   "execution_count": 5,
   "id": "92b392bb",
   "metadata": {
    "_cell_guid": "b1076dfc-b9ad-4769-8c92-a6c4dae69d19",
    "_uuid": "8f2839f25d086af736a60e9eeb907d3b93b6e0e5",
    "execution": {
     "iopub.execute_input": "2024-05-19T16:52:54.277004Z",
     "iopub.status.busy": "2024-05-19T16:52:54.276694Z",
     "iopub.status.idle": "2024-05-19T16:53:11.971610Z",
     "shell.execute_reply": "2024-05-19T16:53:11.970582Z"
    },
    "papermill": {
     "duration": 17.725555,
     "end_time": "2024-05-19T16:53:11.974170",
     "exception": false,
     "start_time": "2024-05-19T16:52:54.248615",
     "status": "completed"
    },
    "tags": []
   },
   "outputs": [
    {
     "name": "stderr",
     "output_type": "stream",
     "text": [
      "2024-05-19 16:53:01.777959: E external/local_xla/xla/stream_executor/cuda/cuda_dnn.cc:9261] Unable to register cuDNN factory: Attempting to register factory for plugin cuDNN when one has already been registered\n",
      "2024-05-19 16:53:01.778058: E external/local_xla/xla/stream_executor/cuda/cuda_fft.cc:607] Unable to register cuFFT factory: Attempting to register factory for plugin cuFFT when one has already been registered\n",
      "2024-05-19 16:53:01.912429: E external/local_xla/xla/stream_executor/cuda/cuda_blas.cc:1515] Unable to register cuBLAS factory: Attempting to register factory for plugin cuBLAS when one has already been registered\n"
     ]
    }
   ],
   "source": [
    "import numpy as np\n",
    "import pandas as pd\n",
    "import matplotlib.pyplot as plt\n",
    "import seaborn as sns\n",
    "from pathlib import Path\n",
    "import polars as pl\n",
    "import scipy.stats as stats\n",
    "import scipy.sparse as sps\n",
    "import gc\n",
    "import tqdm\n",
    "\n",
    "from ebrec.utils._descriptive_analysis import (\n",
    "    min_max_impression_time_behaviors, \n",
    "    min_max_impression_time_history\n",
    ")\n",
    "from ebrec.utils._polars import slice_join_dataframes\n",
    "from ebrec.utils._behaviors import (\n",
    "    create_binary_labels_column,\n",
    "    sampling_strategy_wu2019,\n",
    "    truncate_history,\n",
    ")\n",
    "from ebrec.utils._constants import (\n",
    "    DEFAULT_HISTORY_ARTICLE_ID_COL,\n",
    "    DEFAULT_CLICKED_ARTICLES_COL,\n",
    "    DEFAULT_INVIEW_ARTICLES_COL,\n",
    "    DEFAULT_USER_COL\n",
    ")\n",
    "from ebrec.evaluation.metrics_protocols import *\n",
    "from polimi.utils._catboost import (\n",
    "    _preprocessing_history_trendiness_scores, \n",
    "    add_history_trendiness_scores_feature, \n",
    "    _preprocessing_mean_delay_features, \n",
    "    add_mean_delays_features, \n",
    "    _preprocessing_window_features, \n",
    "    add_window_features, \n",
    "    add_trendiness_feature_categories, \n",
    "    _preprocessing_article_endorsement_feature, \n",
    "    get_unique_categories,\n",
    "    add_trendiness_feature,\n",
    "    _preprocessing_article_endorsement_feature_by_article_and_user,\n",
    ")\n",
    "\n",
    "from rgf.sklearn import FastRGFClassifier\n",
    "from sklearn.preprocessing import OrdinalEncoder, OneHotEncoder, TargetEncoder, MinMaxScaler\n",
    "from sklearn.impute import KNNImputer"
   ]
  },
  {
   "cell_type": "markdown",
   "id": "23c193bb",
   "metadata": {
    "papermill": {
     "duration": 0.025513,
     "end_time": "2024-05-19T16:53:12.028547",
     "exception": false,
     "start_time": "2024-05-19T16:53:12.003034",
     "status": "completed"
    },
    "tags": []
   },
   "source": [
    "# Memory Utils"
   ]
  },
  {
   "cell_type": "code",
   "execution_count": 6,
   "id": "212823b6",
   "metadata": {
    "execution": {
     "iopub.execute_input": "2024-05-19T16:53:12.081315Z",
     "iopub.status.busy": "2024-05-19T16:53:12.080668Z",
     "iopub.status.idle": "2024-05-19T16:53:12.088697Z",
     "shell.execute_reply": "2024-05-19T16:53:12.087777Z"
    },
    "papermill": {
     "duration": 0.036823,
     "end_time": "2024-05-19T16:53:12.090877",
     "exception": false,
     "start_time": "2024-05-19T16:53:12.054054",
     "status": "completed"
    },
    "tags": []
   },
   "outputs": [
    {
     "name": "stdout",
     "output_type": "stream",
     "text": [
      "\u001b[1m\u001b[31m\n",
      "RAM memory GB usage = 0.8697\u001b[0m\n"
     ]
    }
   ],
   "source": [
    "from os import system, getpid, walk\n",
    "from psutil import Process\n",
    "from colorama import Fore, Style, init\n",
    "from IPython.display import display, HTML\n",
    "\n",
    "def PrintColor(text:str, color = Fore.BLUE, style = Style.BRIGHT):\n",
    "    print(style + color + text + Style.RESET_ALL)\n",
    "    \n",
    "def GetMemUsage():   \n",
    "    pid = getpid()\n",
    "    py = Process(pid)\n",
    "    memory_use = py.memory_info()[0] / 2. ** 30\n",
    "    return f\"RAM memory GB usage = {memory_use :.4}\"\n",
    "\n",
    "PrintColor(f\"\\n\" + GetMemUsage(), color = Fore.RED)"
   ]
  },
  {
   "cell_type": "code",
   "execution_count": 7,
   "id": "77ccb92c",
   "metadata": {
    "execution": {
     "iopub.execute_input": "2024-05-19T16:53:12.143687Z",
     "iopub.status.busy": "2024-05-19T16:53:12.142690Z",
     "iopub.status.idle": "2024-05-19T16:53:12.158150Z",
     "shell.execute_reply": "2024-05-19T16:53:12.157265Z"
    },
    "papermill": {
     "duration": 0.043783,
     "end_time": "2024-05-19T16:53:12.160013",
     "exception": false,
     "start_time": "2024-05-19T16:53:12.116230",
     "status": "completed"
    },
    "tags": []
   },
   "outputs": [],
   "source": [
    "def reduce_polars_df_memory_size(df, set_categorical=True):\n",
    "\n",
    "    start_mem = df.estimated_size('mb')\n",
    "    print('Memory usage of dataframe is {:.2f} MB'.format(start_mem))\n",
    "    \n",
    "    for col in df.columns:\n",
    "        col_type = df[col].dtype\n",
    "        \n",
    "        if col_type in [pl.Int16, pl.Int32, pl.Int64]:\n",
    "            c_min = df[col].fill_null(0).min()\n",
    "            c_max = df[col].fill_null(0).max()\n",
    "            if c_min > np.iinfo(np.int8).min and c_max < np.iinfo(np.int8).max:\n",
    "                df = df.with_columns(pl.col(col).cast(pl.Int8))\n",
    "            elif c_min > np.iinfo(np.int16).min and c_max < np.iinfo(np.int16).max:\n",
    "                df = df.with_columns(pl.col(col).cast(pl.Int16))\n",
    "            elif c_min > np.iinfo(np.int32).min and c_max < np.iinfo(np.int32).max:\n",
    "                df = df.with_columns(pl.col(col).cast(pl.Int32))\n",
    "        elif col_type in [pl.UInt16, pl.UInt32, pl.UInt64]:\n",
    "            c_min = df[col].fill_null(0).min()\n",
    "            c_max = df[col].fill_null(0).max()\n",
    "            if c_min > np.iinfo(np.uint8).min and c_max < np.iinfo(np.uint8).max:\n",
    "                df = df.with_columns(pl.col(col).cast(pl.UInt8))\n",
    "            elif c_min > np.iinfo(np.uint16).min and c_max < np.iinfo(np.uint16).max:\n",
    "                df = df.with_columns(pl.col(col).cast(pl.UInt16))\n",
    "            elif c_min > np.iinfo(np.uint32).min and c_max < np.iinfo(np.uint32).max:\n",
    "                df = df.with_columns(pl.col(col).cast(pl.UInt32))\n",
    "        elif col_type == pl.Float64:\n",
    "            c_min = df[col].fill_null(0).min()\n",
    "            c_max = df[col].fill_null(0).max()\n",
    "            if c_min > np.finfo(np.float32).min and c_max < np.finfo(np.float32).max:\n",
    "                df = df.with_columns(pl.col(col).cast(pl.Float32))\n",
    "\n",
    "    gc.collect()\n",
    "    end_mem = df.estimated_size('mb')\n",
    "    print('Memory usage after optimization is: {:.2f} MB'.format(end_mem))\n",
    "    print('Decreased by {:.1f}%'.format(100 * (start_mem - end_mem) / start_mem))\n",
    "    \n",
    "    return df"
   ]
  },
  {
   "cell_type": "markdown",
   "id": "1ce2f780",
   "metadata": {
    "papermill": {
     "duration": 0.026715,
     "end_time": "2024-05-19T16:53:12.212005",
     "exception": false,
     "start_time": "2024-05-19T16:53:12.185290",
     "status": "completed"
    },
    "tags": []
   },
   "source": [
    "# Data import"
   ]
  },
  {
   "cell_type": "code",
   "execution_count": 8,
   "id": "7d08f37c",
   "metadata": {
    "execution": {
     "iopub.execute_input": "2024-05-19T16:53:12.266999Z",
     "iopub.status.busy": "2024-05-19T16:53:12.266578Z",
     "iopub.status.idle": "2024-05-19T16:53:14.021598Z",
     "shell.execute_reply": "2024-05-19T16:53:14.020183Z"
    },
    "papermill": {
     "duration": 1.785202,
     "end_time": "2024-05-19T16:53:14.023954",
     "exception": false,
     "start_time": "2024-05-19T16:53:12.238752",
     "status": "completed"
    },
    "tags": []
   },
   "outputs": [
    {
     "name": "stdout",
     "output_type": "stream",
     "text": [
      "\u001b[1m\u001b[31m\n",
      "RAM memory GB usage = 1.129\u001b[0m\n"
     ]
    }
   ],
   "source": [
    "articles = pl.read_parquet('/kaggle/input/ebnerd_small/articles.parquet')\n",
    "\n",
    "behaviors_train = pl.read_parquet('/kaggle/input/ebnerd_small/train/behaviors.parquet')\n",
    "history_train = pl.read_parquet('/kaggle/input/ebnerd_small/train/history.parquet')\n",
    "\n",
    "behaviors_val = pl.read_parquet('/kaggle/input/ebnerd_small/validation/behaviors.parquet')\n",
    "history_val = pl.read_parquet('/kaggle/input/ebnerd_small/validation/history.parquet')\n",
    "\n",
    "gc.collect()\n",
    "PrintColor(f\"\\n\" + GetMemUsage(), color = Fore.RED)"
   ]
  },
  {
   "cell_type": "markdown",
   "id": "540edbb4",
   "metadata": {
    "papermill": {
     "duration": 0.026163,
     "end_time": "2024-05-19T16:53:14.076693",
     "exception": false,
     "start_time": "2024-05-19T16:53:14.050530",
     "status": "completed"
    },
    "tags": []
   },
   "source": [
    "# Articles Preprocessing"
   ]
  },
  {
   "cell_type": "code",
   "execution_count": 9,
   "id": "04bcf9a1",
   "metadata": {
    "execution": {
     "iopub.execute_input": "2024-05-19T16:53:14.130230Z",
     "iopub.status.busy": "2024-05-19T16:53:14.129161Z",
     "iopub.status.idle": "2024-05-19T16:53:15.091512Z",
     "shell.execute_reply": "2024-05-19T16:53:15.090378Z"
    },
    "papermill": {
     "duration": 0.996024,
     "end_time": "2024-05-19T16:53:15.098103",
     "exception": false,
     "start_time": "2024-05-19T16:53:14.102079",
     "status": "completed"
    },
    "tags": []
   },
   "outputs": [
    {
     "name": "stdout",
     "output_type": "stream",
     "text": [
      "Memory usage of dataframe is 58.23 MB\n",
      "Memory usage after optimization is: 58.00 MB\n",
      "Decreased by 0.4%\n",
      "\u001b[1m\u001b[31m\n",
      "RAM memory GB usage = 1.137\u001b[0m\n"
     ]
    },
    {
     "data": {
      "text/html": [
       "<div><style>\n",
       ".dataframe > thead > tr,\n",
       ".dataframe > tbody > tr {\n",
       "  text-align: right;\n",
       "  white-space: pre-wrap;\n",
       "}\n",
       "</style>\n",
       "<small>shape: (2, 27)</small><table border=\"1\" class=\"dataframe\"><thead><tr><th>article_id</th><th>title</th><th>subtitle</th><th>last_modified_time</th><th>premium</th><th>body</th><th>published_time</th><th>image_ids</th><th>article_type</th><th>url</th><th>ner_clusters</th><th>entity_groups</th><th>topics</th><th>category</th><th>subcategory</th><th>category_str</th><th>total_inviews</th><th>total_pageviews</th><th>total_read_time</th><th>sentiment_score</th><th>sentiment_label</th><th>num_images</th><th>title_len</th><th>subtitle_len</th><th>body_len</th><th>num_topics</th><th>total_pageviews/inviews</th></tr><tr><td>i32</td><td>str</td><td>str</td><td>datetime[μs]</td><td>bool</td><td>str</td><td>datetime[μs]</td><td>list[i64]</td><td>str</td><td>str</td><td>list[str]</td><td>list[str]</td><td>list[str]</td><td>i16</td><td>list[i16]</td><td>str</td><td>i32</td><td>i32</td><td>f32</td><td>f32</td><td>str</td><td>u32</td><td>u8</td><td>u8</td><td>u16</td><td>u32</td><td>f32</td></tr></thead><tbody><tr><td>3001353</td><td>&quot;Natascha var ikke den første&quot;</td><td>&quot;Politiet frygter nu, at Natasc…</td><td>2023-06-29 06:20:33</td><td>false</td><td>&quot;Sagen om den østriske Natascha…</td><td>2006-08-31 08:06:45</td><td>[3150850]</td><td>&quot;article_default&quot;</td><td>&quot;https://ekstrabladet.dk/krimi/…</td><td>[]</td><td>[]</td><td>[&quot;Kriminalitet&quot;, &quot;Personfarlig_kriminalitet&quot;]</td><td>140</td><td>[]</td><td>&quot;krimi&quot;</td><td>null</td><td>null</td><td>null</td><td>0.9955</td><td>&quot;Negative&quot;</td><td>1</td><td>5</td><td>22</td><td>200</td><td>2</td><td>null</td></tr><tr><td>3003065</td><td>&quot;Kun Star Wars tjente mere&quot;</td><td>&quot;Biografgængerne strømmer ind f…</td><td>2023-06-29 06:20:35</td><td>false</td><td>&quot;Vatikanet har opfordret til at…</td><td>2006-05-21 16:57:00</td><td>[3006712]</td><td>&quot;article_default&quot;</td><td>&quot;https://ekstrabladet.dk/underh…</td><td>[]</td><td>[]</td><td>[&quot;Underholdning&quot;, &quot;Film_og_tv&quot;, &quot;Økonomi&quot;]</td><td>414</td><td>[433, 434]</td><td>&quot;underholdning&quot;</td><td>null</td><td>null</td><td>null</td><td>0.846</td><td>&quot;Positive&quot;</td><td>1</td><td>5</td><td>19</td><td>116</td><td>3</td><td>null</td></tr></tbody></table></div>"
      ],
      "text/plain": [
       "shape: (2, 27)\n",
       "┌───────────┬───────────┬───────────┬───────────┬───┬───────────┬──────────┬───────────┬───────────┐\n",
       "│ article_i ┆ title     ┆ subtitle  ┆ last_modi ┆ … ┆ subtitle_ ┆ body_len ┆ num_topic ┆ total_pag │\n",
       "│ d         ┆ ---       ┆ ---       ┆ fied_time ┆   ┆ len       ┆ ---      ┆ s         ┆ eviews/in │\n",
       "│ ---       ┆ str       ┆ str       ┆ ---       ┆   ┆ ---       ┆ u16      ┆ ---       ┆ views     │\n",
       "│ i32       ┆           ┆           ┆ datetime[ ┆   ┆ u8        ┆          ┆ u32       ┆ ---       │\n",
       "│           ┆           ┆           ┆ μs]       ┆   ┆           ┆          ┆           ┆ f32       │\n",
       "╞═══════════╪═══════════╪═══════════╪═══════════╪═══╪═══════════╪══════════╪═══════════╪═══════════╡\n",
       "│ 3001353   ┆ Natascha  ┆ Politiet  ┆ 2023-06-2 ┆ … ┆ 22        ┆ 200      ┆ 2         ┆ null      │\n",
       "│           ┆ var ikke  ┆ frygter   ┆ 9         ┆   ┆           ┆          ┆           ┆           │\n",
       "│           ┆ den       ┆ nu, at    ┆ 06:20:33  ┆   ┆           ┆          ┆           ┆           │\n",
       "│           ┆ første    ┆ Natasc…   ┆           ┆   ┆           ┆          ┆           ┆           │\n",
       "│ 3003065   ┆ Kun Star  ┆ Biografgæ ┆ 2023-06-2 ┆ … ┆ 19        ┆ 116      ┆ 3         ┆ null      │\n",
       "│           ┆ Wars      ┆ ngerne    ┆ 9         ┆   ┆           ┆          ┆           ┆           │\n",
       "│           ┆ tjente    ┆ strømmer  ┆ 06:20:35  ┆   ┆           ┆          ┆           ┆           │\n",
       "│           ┆ mere      ┆ ind f…    ┆           ┆   ┆           ┆          ┆           ┆           │\n",
       "└───────────┴───────────┴───────────┴───────────┴───┴───────────┴──────────┴───────────┴───────────┘"
      ]
     },
     "execution_count": 9,
     "metadata": {},
     "output_type": "execute_result"
    }
   ],
   "source": [
    "articles = articles.with_columns(\n",
    "    pl.col('image_ids').list.len().alias('num_images'),\n",
    "    pl.col('title').str.split(by=' ').list.len().alias('title_len'),\n",
    "    pl.col('subtitle').str.split(by=' ').list.len().alias('subtitle_len'),\n",
    "    pl.col('body').str.split(by=' ').list.len().alias('body_len'),\n",
    "    # very important for tf-idf, otherwise multiple tokens for topics with spaces are built\n",
    "    pl.col('topics').list.eval(pl.element().str.split(by=' ').list.join('_')),\n",
    "    pl.col('topics').list.len().alias('num_topics'),\n",
    "    (pl.col('total_pageviews') / pl.col('total_inviews')).alias('total_pageviews/inviews')\n",
    ")\n",
    "articles = reduce_polars_df_memory_size(articles)\n",
    "\n",
    "gc.collect()\n",
    "PrintColor(f\"\\n\" + GetMemUsage(), color = Fore.RED)\n",
    "articles.head(2)"
   ]
  },
  {
   "cell_type": "code",
   "execution_count": 10,
   "id": "23dd4b8c",
   "metadata": {
    "execution": {
     "iopub.execute_input": "2024-05-19T16:53:15.153420Z",
     "iopub.status.busy": "2024-05-19T16:53:15.152858Z",
     "iopub.status.idle": "2024-05-19T16:53:15.164510Z",
     "shell.execute_reply": "2024-05-19T16:53:15.163881Z"
    },
    "papermill": {
     "duration": 0.041212,
     "end_time": "2024-05-19T16:53:15.166221",
     "exception": false,
     "start_time": "2024-05-19T16:53:15.125009",
     "status": "completed"
    },
    "tags": []
   },
   "outputs": [
    {
     "data": {
      "text/plain": [
       "['PROD', 'ORG', 'LOC', 'MISC', 'EVENT', 'PER']"
      ]
     },
     "execution_count": 10,
     "metadata": {},
     "output_type": "execute_result"
    }
   ],
   "source": [
    "unique_entities = articles.select('entity_groups').explode('entity_groups')['entity_groups'].unique().to_list()\n",
    "unique_entities = [e for e in unique_entities if e is not None]\n",
    "unique_entities"
   ]
  },
  {
   "cell_type": "code",
   "execution_count": 11,
   "id": "0ed1b178",
   "metadata": {
    "execution": {
     "iopub.execute_input": "2024-05-19T16:53:15.221637Z",
     "iopub.status.busy": "2024-05-19T16:53:15.221319Z",
     "iopub.status.idle": "2024-05-19T16:53:15.230080Z",
     "shell.execute_reply": "2024-05-19T16:53:15.229102Z"
    },
    "papermill": {
     "duration": 0.039599,
     "end_time": "2024-05-19T16:53:15.232128",
     "exception": false,
     "start_time": "2024-05-19T16:53:15.192529",
     "status": "completed"
    },
    "tags": []
   },
   "outputs": [
    {
     "data": {
      "text/plain": [
       "{414: 'underholdning',\n",
       " 539: 'ferie',\n",
       " 2504: 'bibliotek',\n",
       " 2975: 'penge',\n",
       " 572: 'side9',\n",
       " 140: 'krimi',\n",
       " 457: 'forbrug',\n",
       " 2889: 'auto',\n",
       " 2731: 'dagsorden',\n",
       " 498: 'musik',\n",
       " 561: 'haandvaerkeren',\n",
       " 2737: 'podcast',\n",
       " 2341: 'plus',\n",
       " 22: 'horoskoper',\n",
       " 1505: 'vin',\n",
       " 529: 'biler',\n",
       " 2: 'incoming',\n",
       " 731: 'services',\n",
       " 118: 'nyheder',\n",
       " 142: 'sport',\n",
       " 806: 'om_ekstra_bladet',\n",
       " 2077: 'opinionen',\n",
       " 512: 'nationen',\n",
       " 68: 'video',\n",
       " 565: 'sex_og_samliv'}"
      ]
     },
     "execution_count": 11,
     "metadata": {},
     "output_type": "execute_result"
    }
   ],
   "source": [
    "# in case of two category_str for the same category, one of the two is picked\n",
    "unique_categories_df = articles.select(['category', 'category_str']).unique('category').drop_nulls('category')\n",
    "unique_categories = {\n",
    "    row['category']: row['category_str'] for row in unique_categories_df.iter_rows(named=True)\n",
    "}\n",
    "unique_categories"
   ]
  },
  {
   "cell_type": "markdown",
   "id": "f7b10902",
   "metadata": {
    "papermill": {
     "duration": 0.026888,
     "end_time": "2024-05-19T16:53:15.333163",
     "exception": false,
     "start_time": "2024-05-19T16:53:15.306275",
     "status": "completed"
    },
    "tags": []
   },
   "source": [
    "Mapping sentiment labels to -1, 0, 1 to save memory in the history dataframe.\n",
    "Taking only article_default type and mapping it to 0/1 since after only this is needed (and it saves memory) for the history at the moment"
   ]
  },
  {
   "cell_type": "code",
   "execution_count": 12,
   "id": "25ce8acb",
   "metadata": {
    "execution": {
     "iopub.execute_input": "2024-05-19T16:53:15.388065Z",
     "iopub.status.busy": "2024-05-19T16:53:15.386988Z",
     "iopub.status.idle": "2024-05-19T16:53:15.393666Z",
     "shell.execute_reply": "2024-05-19T16:53:15.392859Z"
    },
    "papermill": {
     "duration": 0.03601,
     "end_time": "2024-05-19T16:53:15.395580",
     "exception": false,
     "start_time": "2024-05-19T16:53:15.359570",
     "status": "completed"
    },
    "tags": []
   },
   "outputs": [],
   "source": [
    "articles = articles.with_columns(\n",
    "    pl.when(pl.col('sentiment_label') == 'Negative').then(-1) \\\n",
    "        .otherwise(\n",
    "            pl.when(pl.col('sentiment_label') == 'Positive').then(1).otherwise(0)\n",
    "        ).cast(pl.Int8).alias('sentiment_label_int'),\n",
    "    (pl.col('article_type') == 'article_default').cast(pl.UInt8).alias('is_article_default')\n",
    ")"
   ]
  },
  {
   "cell_type": "markdown",
   "id": "9cca7727",
   "metadata": {
    "papermill": {
     "duration": 0.026381,
     "end_time": "2024-05-19T16:53:15.448131",
     "exception": false,
     "start_time": "2024-05-19T16:53:15.421750",
     "status": "completed"
    },
    "tags": []
   },
   "source": [
    "## Topics TF-IDF"
   ]
  },
  {
   "cell_type": "code",
   "execution_count": 13,
   "id": "43b54178",
   "metadata": {
    "execution": {
     "iopub.execute_input": "2024-05-19T16:53:15.502308Z",
     "iopub.status.busy": "2024-05-19T16:53:15.501984Z",
     "iopub.status.idle": "2024-05-19T16:53:15.993513Z",
     "shell.execute_reply": "2024-05-19T16:53:15.992595Z"
    },
    "papermill": {
     "duration": 0.52123,
     "end_time": "2024-05-19T16:53:15.995439",
     "exception": false,
     "start_time": "2024-05-19T16:53:15.474209",
     "status": "completed"
    },
    "tags": []
   },
   "outputs": [
    {
     "name": "stdout",
     "output_type": "stream",
     "text": [
      "\u001b[1m\u001b[31m\n",
      "RAM memory GB usage = 1.149\u001b[0m\n"
     ]
    },
    {
     "data": {
      "text/html": [
       "<div><style>\n",
       ".dataframe > thead > tr,\n",
       ".dataframe > tbody > tr {\n",
       "  text-align: right;\n",
       "  white-space: pre-wrap;\n",
       "}\n",
       "</style>\n",
       "<small>shape: (2, 30)</small><table border=\"1\" class=\"dataframe\"><thead><tr><th>article_id</th><th>title</th><th>subtitle</th><th>last_modified_time</th><th>premium</th><th>body</th><th>published_time</th><th>image_ids</th><th>article_type</th><th>url</th><th>ner_clusters</th><th>entity_groups</th><th>topics</th><th>category</th><th>subcategory</th><th>category_str</th><th>total_inviews</th><th>total_pageviews</th><th>total_read_time</th><th>sentiment_score</th><th>sentiment_label</th><th>num_images</th><th>title_len</th><th>subtitle_len</th><th>body_len</th><th>num_topics</th><th>total_pageviews/inviews</th><th>sentiment_label_int</th><th>is_article_default</th><th>topics_idf</th></tr><tr><td>i32</td><td>str</td><td>str</td><td>datetime[μs]</td><td>bool</td><td>str</td><td>datetime[μs]</td><td>list[i64]</td><td>str</td><td>str</td><td>list[str]</td><td>list[str]</td><td>list[str]</td><td>i16</td><td>list[i16]</td><td>str</td><td>i32</td><td>i32</td><td>f32</td><td>f32</td><td>str</td><td>u32</td><td>u8</td><td>u8</td><td>u16</td><td>u32</td><td>f32</td><td>i8</td><td>u8</td><td>list[f32]</td></tr></thead><tbody><tr><td>3001353</td><td>&quot;Natascha var ikke den første&quot;</td><td>&quot;Politiet frygter nu, at Natasc…</td><td>2023-06-29 06:20:33</td><td>false</td><td>&quot;Sagen om den østriske Natascha…</td><td>2006-08-31 08:06:45</td><td>[3150850]</td><td>&quot;article_default&quot;</td><td>&quot;https://ekstrabladet.dk/krimi/…</td><td>[]</td><td>[]</td><td>[&quot;Kriminalitet&quot;, &quot;Personfarlig_kriminalitet&quot;]</td><td>140</td><td>[]</td><td>&quot;krimi&quot;</td><td>null</td><td>null</td><td>null</td><td>0.9955</td><td>&quot;Negative&quot;</td><td>1</td><td>5</td><td>22</td><td>200</td><td>2</td><td>null</td><td>-1</td><td>1</td><td>[0.0, 0.0, … 0.0]</td></tr><tr><td>3003065</td><td>&quot;Kun Star Wars tjente mere&quot;</td><td>&quot;Biografgængerne strømmer ind f…</td><td>2023-06-29 06:20:35</td><td>false</td><td>&quot;Vatikanet har opfordret til at…</td><td>2006-05-21 16:57:00</td><td>[3006712]</td><td>&quot;article_default&quot;</td><td>&quot;https://ekstrabladet.dk/underh…</td><td>[]</td><td>[]</td><td>[&quot;Underholdning&quot;, &quot;Film_og_tv&quot;, &quot;Økonomi&quot;]</td><td>414</td><td>[433, 434]</td><td>&quot;underholdning&quot;</td><td>null</td><td>null</td><td>null</td><td>0.846</td><td>&quot;Positive&quot;</td><td>1</td><td>5</td><td>19</td><td>116</td><td>3</td><td>null</td><td>1</td><td>1</td><td>[0.0, 0.0, … 0.536059]</td></tr></tbody></table></div>"
      ],
      "text/plain": [
       "shape: (2, 30)\n",
       "┌───────────┬───────────┬───────────┬───────────┬───┬───────────┬───────────┬───────────┬──────────┐\n",
       "│ article_i ┆ title     ┆ subtitle  ┆ last_modi ┆ … ┆ total_pag ┆ sentiment ┆ is_articl ┆ topics_i │\n",
       "│ d         ┆ ---       ┆ ---       ┆ fied_time ┆   ┆ eviews/in ┆ _label_in ┆ e_default ┆ df       │\n",
       "│ ---       ┆ str       ┆ str       ┆ ---       ┆   ┆ views     ┆ t         ┆ ---       ┆ ---      │\n",
       "│ i32       ┆           ┆           ┆ datetime[ ┆   ┆ ---       ┆ ---       ┆ u8        ┆ list[f32 │\n",
       "│           ┆           ┆           ┆ μs]       ┆   ┆ f32       ┆ i8        ┆           ┆ ]        │\n",
       "╞═══════════╪═══════════╪═══════════╪═══════════╪═══╪═══════════╪═══════════╪═══════════╪══════════╡\n",
       "│ 3001353   ┆ Natascha  ┆ Politiet  ┆ 2023-06-2 ┆ … ┆ null      ┆ -1        ┆ 1         ┆ [0.0,    │\n",
       "│           ┆ var ikke  ┆ frygter   ┆ 9         ┆   ┆           ┆           ┆           ┆ 0.0, …   │\n",
       "│           ┆ den       ┆ nu, at    ┆ 06:20:33  ┆   ┆           ┆           ┆           ┆ 0.0]     │\n",
       "│           ┆ første    ┆ Natasc…   ┆           ┆   ┆           ┆           ┆           ┆          │\n",
       "│ 3003065   ┆ Kun Star  ┆ Biografgæ ┆ 2023-06-2 ┆ … ┆ null      ┆ 1         ┆ 1         ┆ [0.0,    │\n",
       "│           ┆ Wars      ┆ ngerne    ┆ 9         ┆   ┆           ┆           ┆           ┆ 0.0, …   │\n",
       "│           ┆ tjente    ┆ strømmer  ┆ 06:20:35  ┆   ┆           ┆           ┆           ┆ 0.536059 │\n",
       "│           ┆ mere      ┆ ind f…    ┆           ┆   ┆           ┆           ┆           ┆ ]        │\n",
       "└───────────┴───────────┴───────────┴───────────┴───┴───────────┴───────────┴───────────┴──────────┘"
      ]
     },
     "execution_count": 13,
     "metadata": {},
     "output_type": "execute_result"
    }
   ],
   "source": [
    "from sklearn.feature_extraction.text import TfidfVectorizer\n",
    "\n",
    "vectorizer = TfidfVectorizer()\n",
    "articles = articles.with_columns(\n",
    "    pl.Series(\n",
    "        vectorizer.fit_transform(\n",
    "            articles.with_columns(pl.col('topics').list.join(separator=' '))['topics'].to_list()\n",
    "        ).toarray().astype(np.float32)\n",
    "    ).alias('topics_idf')\n",
    ")\n",
    "\n",
    "gc.collect()\n",
    "PrintColor(f\"\\n\" + GetMemUsage(), color = Fore.RED)\n",
    "articles.head(2)"
   ]
  },
  {
   "cell_type": "code",
   "execution_count": 14,
   "id": "46a6b142",
   "metadata": {
    "execution": {
     "iopub.execute_input": "2024-05-19T16:53:16.053518Z",
     "iopub.status.busy": "2024-05-19T16:53:16.053143Z",
     "iopub.status.idle": "2024-05-19T16:53:16.058818Z",
     "shell.execute_reply": "2024-05-19T16:53:16.058210Z"
    },
    "papermill": {
     "duration": 0.036599,
     "end_time": "2024-05-19T16:53:16.060557",
     "exception": false,
     "start_time": "2024-05-19T16:53:16.023958",
     "status": "completed"
    },
    "tags": []
   },
   "outputs": [
    {
     "data": {
      "text/plain": [
       "79"
      ]
     },
     "execution_count": 14,
     "metadata": {},
     "output_type": "execute_result"
    }
   ],
   "source": [
    "# without split + join with _ of the single topics this returns 94\n",
    "len(vectorizer.get_feature_names_out())"
   ]
  },
  {
   "cell_type": "markdown",
   "id": "4aadf236",
   "metadata": {
    "papermill": {
     "duration": 0.026574,
     "end_time": "2024-05-19T16:53:16.113903",
     "exception": false,
     "start_time": "2024-05-19T16:53:16.087329",
     "status": "completed"
    },
    "tags": []
   },
   "source": [
    "## Topic Model"
   ]
  },
  {
   "cell_type": "code",
   "execution_count": 15,
   "id": "8b21add6",
   "metadata": {
    "execution": {
     "iopub.execute_input": "2024-05-19T16:53:16.168927Z",
     "iopub.status.busy": "2024-05-19T16:53:16.168126Z",
     "iopub.status.idle": "2024-05-19T16:53:16.837821Z",
     "shell.execute_reply": "2024-05-19T16:53:16.836750Z"
    },
    "papermill": {
     "duration": 0.699848,
     "end_time": "2024-05-19T16:53:16.840285",
     "exception": false,
     "start_time": "2024-05-19T16:53:16.140437",
     "status": "completed"
    },
    "tags": []
   },
   "outputs": [],
   "source": [
    "import nltk\n",
    "from sklearn.feature_extraction.text import CountVectorizer\n",
    "\n",
    "stopwords = nltk.corpus.stopwords.words('danish')\n",
    "title_vectorizer = CountVectorizer(stop_words=stopwords)\n",
    "\n",
    "titles_bow = title_vectorizer.fit_transform(articles['title'].to_list())"
   ]
  },
  {
   "cell_type": "code",
   "execution_count": 16,
   "id": "7dd8f967",
   "metadata": {
    "execution": {
     "iopub.execute_input": "2024-05-19T16:53:16.896670Z",
     "iopub.status.busy": "2024-05-19T16:53:16.895592Z",
     "iopub.status.idle": "2024-05-19T16:53:48.547622Z",
     "shell.execute_reply": "2024-05-19T16:53:48.546522Z"
    },
    "papermill": {
     "duration": 31.710621,
     "end_time": "2024-05-19T16:53:48.578596",
     "exception": false,
     "start_time": "2024-05-19T16:53:16.867975",
     "status": "completed"
    },
    "tags": []
   },
   "outputs": [
    {
     "name": "stdout",
     "output_type": "stream",
     "text": [
      "CPU times: user 31.6 s, sys: 3.36 ms, total: 31.6 s\n",
      "Wall time: 31.6 s\n"
     ]
    },
    {
     "data": {
      "text/html": [
       "<div><style>\n",
       ".dataframe > thead > tr,\n",
       ".dataframe > tbody > tr {\n",
       "  text-align: right;\n",
       "  white-space: pre-wrap;\n",
       "}\n",
       "</style>\n",
       "<small>shape: (2, 31)</small><table border=\"1\" class=\"dataframe\"><thead><tr><th>article_id</th><th>title</th><th>subtitle</th><th>last_modified_time</th><th>premium</th><th>body</th><th>published_time</th><th>image_ids</th><th>article_type</th><th>url</th><th>ner_clusters</th><th>entity_groups</th><th>topics</th><th>category</th><th>subcategory</th><th>category_str</th><th>total_inviews</th><th>total_pageviews</th><th>total_read_time</th><th>sentiment_score</th><th>sentiment_label</th><th>num_images</th><th>title_len</th><th>subtitle_len</th><th>body_len</th><th>num_topics</th><th>total_pageviews/inviews</th><th>sentiment_label_int</th><th>is_article_default</th><th>topics_idf</th><th>topic_model_embeddings</th></tr><tr><td>i32</td><td>str</td><td>str</td><td>datetime[μs]</td><td>bool</td><td>str</td><td>datetime[μs]</td><td>list[i64]</td><td>str</td><td>str</td><td>list[str]</td><td>list[str]</td><td>list[str]</td><td>i16</td><td>list[i16]</td><td>str</td><td>i32</td><td>i32</td><td>f32</td><td>f32</td><td>str</td><td>u32</td><td>u8</td><td>u8</td><td>u16</td><td>u32</td><td>f32</td><td>i8</td><td>u8</td><td>list[f32]</td><td>array[f32, 5]</td></tr></thead><tbody><tr><td>3001353</td><td>&quot;Natascha var ikke den første&quot;</td><td>&quot;Politiet frygter nu, at Natasc…</td><td>2023-06-29 06:20:33</td><td>false</td><td>&quot;Sagen om den østriske Natascha…</td><td>2006-08-31 08:06:45</td><td>[3150850]</td><td>&quot;article_default&quot;</td><td>&quot;https://ekstrabladet.dk/krimi/…</td><td>[]</td><td>[]</td><td>[&quot;Kriminalitet&quot;, &quot;Personfarlig_kriminalitet&quot;]</td><td>140</td><td>[]</td><td>&quot;krimi&quot;</td><td>null</td><td>null</td><td>null</td><td>0.9955</td><td>&quot;Negative&quot;</td><td>1</td><td>5</td><td>22</td><td>200</td><td>2</td><td>null</td><td>-1</td><td>1</td><td>[0.0, 0.0, … 0.0]</td><td>[0.287593, 0.143573, … 0.281279]</td></tr><tr><td>3003065</td><td>&quot;Kun Star Wars tjente mere&quot;</td><td>&quot;Biografgængerne strømmer ind f…</td><td>2023-06-29 06:20:35</td><td>false</td><td>&quot;Vatikanet har opfordret til at…</td><td>2006-05-21 16:57:00</td><td>[3006712]</td><td>&quot;article_default&quot;</td><td>&quot;https://ekstrabladet.dk/underh…</td><td>[]</td><td>[]</td><td>[&quot;Underholdning&quot;, &quot;Film_og_tv&quot;, &quot;Økonomi&quot;]</td><td>414</td><td>[433, 434]</td><td>&quot;underholdning&quot;</td><td>null</td><td>null</td><td>null</td><td>0.846</td><td>&quot;Positive&quot;</td><td>1</td><td>5</td><td>19</td><td>116</td><td>3</td><td>null</td><td>1</td><td>1</td><td>[0.0, 0.0, … 0.536059]</td><td>[0.532566, 0.137354, … 0.112907]</td></tr></tbody></table></div>"
      ],
      "text/plain": [
       "shape: (2, 31)\n",
       "┌───────────┬───────────┬───────────┬───────────┬───┬───────────┬───────────┬───────────┬──────────┐\n",
       "│ article_i ┆ title     ┆ subtitle  ┆ last_modi ┆ … ┆ sentiment ┆ is_articl ┆ topics_id ┆ topic_mo │\n",
       "│ d         ┆ ---       ┆ ---       ┆ fied_time ┆   ┆ _label_in ┆ e_default ┆ f         ┆ del_embe │\n",
       "│ ---       ┆ str       ┆ str       ┆ ---       ┆   ┆ t         ┆ ---       ┆ ---       ┆ ddings   │\n",
       "│ i32       ┆           ┆           ┆ datetime[ ┆   ┆ ---       ┆ u8        ┆ list[f32] ┆ ---      │\n",
       "│           ┆           ┆           ┆ μs]       ┆   ┆ i8        ┆           ┆           ┆ array[f3 │\n",
       "│           ┆           ┆           ┆           ┆   ┆           ┆           ┆           ┆ 2, 5]    │\n",
       "╞═══════════╪═══════════╪═══════════╪═══════════╪═══╪═══════════╪═══════════╪═══════════╪══════════╡\n",
       "│ 3001353   ┆ Natascha  ┆ Politiet  ┆ 2023-06-2 ┆ … ┆ -1        ┆ 1         ┆ [0.0,     ┆ [0.28759 │\n",
       "│           ┆ var ikke  ┆ frygter   ┆ 9         ┆   ┆           ┆           ┆ 0.0, …    ┆ 3, 0.143 │\n",
       "│           ┆ den       ┆ nu, at    ┆ 06:20:33  ┆   ┆           ┆           ┆ 0.0]      ┆ 573, …   │\n",
       "│           ┆ første    ┆ Natasc…   ┆           ┆   ┆           ┆           ┆           ┆ 0.28127… │\n",
       "│ 3003065   ┆ Kun Star  ┆ Biografgæ ┆ 2023-06-2 ┆ … ┆ 1         ┆ 1         ┆ [0.0,     ┆ [0.53256 │\n",
       "│           ┆ Wars      ┆ ngerne    ┆ 9         ┆   ┆           ┆           ┆ 0.0, …    ┆ 6, 0.137 │\n",
       "│           ┆ tjente    ┆ strømmer  ┆ 06:20:35  ┆   ┆           ┆           ┆ 0.536059] ┆ 354, …   │\n",
       "│           ┆ mere      ┆ ind f…    ┆           ┆   ┆           ┆           ┆           ┆ 0.11290… │\n",
       "└───────────┴───────────┴───────────┴───────────┴───┴───────────┴───────────┴───────────┴──────────┘"
      ]
     },
     "execution_count": 16,
     "metadata": {},
     "output_type": "execute_result"
    }
   ],
   "source": [
    "%%time\n",
    "\n",
    "from sklearn.decomposition import LatentDirichletAllocation\n",
    "\n",
    "# parameters tuned on perplexity\n",
    "N_COMPONENTS = 5\n",
    "lda_model = LatentDirichletAllocation(\n",
    "    n_components=N_COMPONENTS,\n",
    "    doc_topic_prior=0.99,\n",
    "    topic_word_prior=0.75,\n",
    "    learning_method='online'\n",
    ")\n",
    "articles = articles.with_columns(\n",
    "    pl.Series(lda_model.fit_transform(titles_bow).astype(np.float32)) \\\n",
    "        .list.to_array(5).alias('topic_model_embeddings')\n",
    ")\n",
    "articles.head(2)"
   ]
  },
  {
   "cell_type": "code",
   "execution_count": 17,
   "id": "4b56f927",
   "metadata": {
    "execution": {
     "iopub.execute_input": "2024-05-19T16:53:48.635278Z",
     "iopub.status.busy": "2024-05-19T16:53:48.634767Z",
     "iopub.status.idle": "2024-05-19T16:53:48.646443Z",
     "shell.execute_reply": "2024-05-19T16:53:48.645609Z"
    },
    "papermill": {
     "duration": 0.042613,
     "end_time": "2024-05-19T16:53:48.648537",
     "exception": false,
     "start_time": "2024-05-19T16:53:48.605924",
     "status": "completed"
    },
    "tags": []
   },
   "outputs": [
    {
     "data": {
      "text/html": [
       "<div><style>\n",
       ".dataframe > thead > tr,\n",
       ".dataframe > tbody > tr {\n",
       "  text-align: right;\n",
       "  white-space: pre-wrap;\n",
       "}\n",
       "</style>\n",
       "<small>shape: (2, 35)</small><table border=\"1\" class=\"dataframe\"><thead><tr><th>article_id</th><th>title</th><th>subtitle</th><th>last_modified_time</th><th>premium</th><th>body</th><th>published_time</th><th>image_ids</th><th>article_type</th><th>url</th><th>ner_clusters</th><th>entity_groups</th><th>topics</th><th>category</th><th>subcategory</th><th>category_str</th><th>total_inviews</th><th>total_pageviews</th><th>total_read_time</th><th>sentiment_score</th><th>sentiment_label</th><th>num_images</th><th>title_len</th><th>subtitle_len</th><th>body_len</th><th>num_topics</th><th>total_pageviews/inviews</th><th>sentiment_label_int</th><th>is_article_default</th><th>topics_idf</th><th>topic_model_embedding_0</th><th>topic_model_embedding_1</th><th>topic_model_embedding_2</th><th>topic_model_embedding_3</th><th>topic_model_embedding_4</th></tr><tr><td>i32</td><td>str</td><td>str</td><td>datetime[μs]</td><td>bool</td><td>str</td><td>datetime[μs]</td><td>list[i64]</td><td>str</td><td>str</td><td>list[str]</td><td>list[str]</td><td>list[str]</td><td>i16</td><td>list[i16]</td><td>str</td><td>i32</td><td>i32</td><td>f32</td><td>f32</td><td>str</td><td>u32</td><td>u8</td><td>u8</td><td>u16</td><td>u32</td><td>f32</td><td>i8</td><td>u8</td><td>list[f32]</td><td>f32</td><td>f32</td><td>f32</td><td>f32</td><td>f32</td></tr></thead><tbody><tr><td>3001353</td><td>&quot;Natascha var ikke den første&quot;</td><td>&quot;Politiet frygter nu, at Natasc…</td><td>2023-06-29 06:20:33</td><td>false</td><td>&quot;Sagen om den østriske Natascha…</td><td>2006-08-31 08:06:45</td><td>[3150850]</td><td>&quot;article_default&quot;</td><td>&quot;https://ekstrabladet.dk/krimi/…</td><td>[]</td><td>[]</td><td>[&quot;Kriminalitet&quot;, &quot;Personfarlig_kriminalitet&quot;]</td><td>140</td><td>[]</td><td>&quot;krimi&quot;</td><td>null</td><td>null</td><td>null</td><td>0.9955</td><td>&quot;Negative&quot;</td><td>1</td><td>5</td><td>22</td><td>200</td><td>2</td><td>null</td><td>-1</td><td>1</td><td>[0.0, 0.0, … 0.0]</td><td>0.287593</td><td>0.143573</td><td>0.143915</td><td>0.14364</td><td>0.281279</td></tr><tr><td>3003065</td><td>&quot;Kun Star Wars tjente mere&quot;</td><td>&quot;Biografgængerne strømmer ind f…</td><td>2023-06-29 06:20:35</td><td>false</td><td>&quot;Vatikanet har opfordret til at…</td><td>2006-05-21 16:57:00</td><td>[3006712]</td><td>&quot;article_default&quot;</td><td>&quot;https://ekstrabladet.dk/underh…</td><td>[]</td><td>[]</td><td>[&quot;Underholdning&quot;, &quot;Film_og_tv&quot;, &quot;Økonomi&quot;]</td><td>414</td><td>[433, 434]</td><td>&quot;underholdning&quot;</td><td>null</td><td>null</td><td>null</td><td>0.846</td><td>&quot;Positive&quot;</td><td>1</td><td>5</td><td>19</td><td>116</td><td>3</td><td>null</td><td>1</td><td>1</td><td>[0.0, 0.0, … 0.536059]</td><td>0.532566</td><td>0.137354</td><td>0.108729</td><td>0.108444</td><td>0.112907</td></tr></tbody></table></div>"
      ],
      "text/plain": [
       "shape: (2, 35)\n",
       "┌───────────┬───────────┬───────────┬───────────┬───┬───────────┬───────────┬───────────┬──────────┐\n",
       "│ article_i ┆ title     ┆ subtitle  ┆ last_modi ┆ … ┆ topic_mod ┆ topic_mod ┆ topic_mod ┆ topic_mo │\n",
       "│ d         ┆ ---       ┆ ---       ┆ fied_time ┆   ┆ el_embedd ┆ el_embedd ┆ el_embedd ┆ del_embe │\n",
       "│ ---       ┆ str       ┆ str       ┆ ---       ┆   ┆ ing_1     ┆ ing_2     ┆ ing_3     ┆ dding_4  │\n",
       "│ i32       ┆           ┆           ┆ datetime[ ┆   ┆ ---       ┆ ---       ┆ ---       ┆ ---      │\n",
       "│           ┆           ┆           ┆ μs]       ┆   ┆ f32       ┆ f32       ┆ f32       ┆ f32      │\n",
       "╞═══════════╪═══════════╪═══════════╪═══════════╪═══╪═══════════╪═══════════╪═══════════╪══════════╡\n",
       "│ 3001353   ┆ Natascha  ┆ Politiet  ┆ 2023-06-2 ┆ … ┆ 0.143573  ┆ 0.143915  ┆ 0.14364   ┆ 0.281279 │\n",
       "│           ┆ var ikke  ┆ frygter   ┆ 9         ┆   ┆           ┆           ┆           ┆          │\n",
       "│           ┆ den       ┆ nu, at    ┆ 06:20:33  ┆   ┆           ┆           ┆           ┆          │\n",
       "│           ┆ første    ┆ Natasc…   ┆           ┆   ┆           ┆           ┆           ┆          │\n",
       "│ 3003065   ┆ Kun Star  ┆ Biografgæ ┆ 2023-06-2 ┆ … ┆ 0.137354  ┆ 0.108729  ┆ 0.108444  ┆ 0.112907 │\n",
       "│           ┆ Wars      ┆ ngerne    ┆ 9         ┆   ┆           ┆           ┆           ┆          │\n",
       "│           ┆ tjente    ┆ strømmer  ┆ 06:20:35  ┆   ┆           ┆           ┆           ┆          │\n",
       "│           ┆ mere      ┆ ind f…    ┆           ┆   ┆           ┆           ┆           ┆          │\n",
       "└───────────┴───────────┴───────────┴───────────┴───┴───────────┴───────────┴───────────┴──────────┘"
      ]
     },
     "execution_count": 17,
     "metadata": {},
     "output_type": "execute_result"
    }
   ],
   "source": [
    "topic_model_columns = [f'topic_model_embedding_{i}' for i in range(N_COMPONENTS)]\n",
    "\n",
    "articles = articles.with_columns(\n",
    "    pl.col('topic_model_embeddings').arr.to_struct(fields=lambda i: f'topic_model_embedding_{i}')\n",
    ").with_columns([\n",
    "    pl.col('topic_model_embeddings').struct.field(f'topic_model_embedding_{i}') for i in range(N_COMPONENTS)\n",
    "]).drop('topic_model_embeddings')\n",
    "\n",
    "articles.head(2)"
   ]
  },
  {
   "cell_type": "markdown",
   "id": "46527db3",
   "metadata": {
    "papermill": {
     "duration": 0.028064,
     "end_time": "2024-05-19T16:53:48.704540",
     "exception": false,
     "start_time": "2024-05-19T16:53:48.676476",
     "status": "completed"
    },
    "tags": []
   },
   "source": [
    "# History preprocessing"
   ]
  },
  {
   "cell_type": "code",
   "execution_count": 18,
   "id": "c1c75dbb",
   "metadata": {
    "execution": {
     "iopub.execute_input": "2024-05-19T16:53:48.761223Z",
     "iopub.status.busy": "2024-05-19T16:53:48.760919Z",
     "iopub.status.idle": "2024-05-19T16:53:48.765891Z",
     "shell.execute_reply": "2024-05-19T16:53:48.764991Z"
    },
    "papermill": {
     "duration": 0.035538,
     "end_time": "2024-05-19T16:53:48.767966",
     "exception": false,
     "start_time": "2024-05-19T16:53:48.732428",
     "status": "completed"
    },
    "tags": []
   },
   "outputs": [],
   "source": [
    "def add_topics_tf_idf_columns(df, topics_col, vectorizer):\n",
    "    return df.with_columns(\n",
    "        pl.Series(\n",
    "            vectorizer.transform(\n",
    "                df.with_columns(pl.col(topics_col).list.join(separator=' '))[topics_col].to_list()\n",
    "            ).toarray().astype(np.float32)\n",
    "        ).alias(f'{topics_col}_tf_idf')\n",
    "    )"
   ]
  },
  {
   "cell_type": "code",
   "execution_count": 19,
   "id": "9c37f316",
   "metadata": {
    "execution": {
     "iopub.execute_input": "2024-05-19T16:53:48.824056Z",
     "iopub.status.busy": "2024-05-19T16:53:48.823780Z",
     "iopub.status.idle": "2024-05-19T16:54:04.628388Z",
     "shell.execute_reply": "2024-05-19T16:54:04.627381Z"
    },
    "papermill": {
     "duration": 15.835679,
     "end_time": "2024-05-19T16:54:04.630846",
     "exception": false,
     "start_time": "2024-05-19T16:53:48.795167",
     "status": "completed"
    },
    "tags": []
   },
   "outputs": [
    {
     "name": "stderr",
     "output_type": "stream",
     "text": [
      "16it [00:15,  1.06it/s]                        \n"
     ]
    },
    {
     "name": "stdout",
     "output_type": "stream",
     "text": [
      "\u001b[1m\u001b[31m\n",
      "RAM memory GB usage = 1.238\u001b[0m\n",
      "Memory usage of dataframe is 39.38 MB\n",
      "Memory usage after optimization is: 38.61 MB\n",
      "Decreased by 2.0%\n",
      "CPU times: user 17.8 s, sys: 1.47 s, total: 19.3 s\n",
      "Wall time: 15.8 s\n"
     ]
    },
    {
     "data": {
      "text/html": [
       "<div><style>\n",
       ".dataframe > thead > tr,\n",
       ".dataframe > tbody > tr {\n",
       "  text-align: right;\n",
       "  white-space: pre-wrap;\n",
       "}\n",
       "</style>\n",
       "<small>shape: (2, 27)</small><table border=\"1\" class=\"dataframe\"><thead><tr><th>user_id</th><th>article_id_fixed</th><th>impression_time_fixed</th><th>category</th><th>NumArticlesHistory</th><th>MedianReadTime</th><th>MaxReadTime</th><th>TotalReadTime</th><th>MedianScrollPercentage</th><th>MaxScrollPercentage</th><th>NeutralPct</th><th>PositivePct</th><th>NegativePct</th><th>PctStrongNeutral</th><th>PctStrongPositive</th><th>PctStrongNegative</th><th>PctNotDefaultArticles</th><th>MostFrequentCategory</th><th>MostFrequentWeekday</th><th>MostFrequentHour</th><th>topics_flatten_tf_idf</th><th>PRODPct</th><th>ORGPct</th><th>LOCPct</th><th>MISCPct</th><th>EVENTPct</th><th>PERPct</th></tr><tr><td>u32</td><td>list[i32]</td><td>list[datetime[μs]]</td><td>list[i16]</td><td>u16</td><td>f32</td><td>f32</td><td>f32</td><td>f32</td><td>f32</td><td>f32</td><td>f32</td><td>f32</td><td>f32</td><td>f32</td><td>f32</td><td>f32</td><td>i16</td><td>i8</td><td>i8</td><td>list[f32]</td><td>f32</td><td>f32</td><td>f32</td><td>f32</td><td>f32</td><td>f32</td></tr></thead><tbody><tr><td>10623</td><td>[9739035, 9739065, … 9770533]</td><td>[2023-04-27 14:29:44, 2023-04-27 14:29:47, … 2023-05-17 17:36:24]</td><td>[118, 414, … 140]</td><td>143</td><td>3.0</td><td>1563.0</td><td>9623.0</td><td>42.5</td><td>100.0</td><td>0.230769</td><td>0.111888</td><td>0.657343</td><td>0.097902</td><td>0.083916</td><td>0.608392</td><td>0.06993</td><td>118</td><td>3</td><td>18</td><td>[0.016041, 0.062928, … 0.178427]</td><td>0.237762</td><td>0.888112</td><td>0.804196</td><td>0.223776</td><td>0.202797</td><td>0.874126</td></tr><tr><td>12016</td><td>[9738216, 9735383, … 9769622]</td><td>[2023-04-27 07:39:48, 2023-04-27 07:41:30, … 2023-05-17 23:56:30]</td><td>[140, 118, … 140]</td><td>264</td><td>156.0</td><td>1775.0</td><td>63672.0</td><td>100.0</td><td>100.0</td><td>0.257576</td><td>0.075758</td><td>0.666667</td><td>0.106061</td><td>0.034091</td><td>0.602273</td><td>0.07197</td><td>140</td><td>5</td><td>20</td><td>[0.009749, 0.045896, … 0.075912]</td><td>0.318182</td><td>0.852273</td><td>0.776515</td><td>0.117424</td><td>0.087121</td><td>0.787879</td></tr></tbody></table></div>"
      ],
      "text/plain": [
       "shape: (2, 27)\n",
       "┌─────────┬─────────────┬─────────────┬────────────┬───┬──────────┬──────────┬──────────┬──────────┐\n",
       "│ user_id ┆ article_id_ ┆ impression_ ┆ category   ┆ … ┆ LOCPct   ┆ MISCPct  ┆ EVENTPct ┆ PERPct   │\n",
       "│ ---     ┆ fixed       ┆ time_fixed  ┆ ---        ┆   ┆ ---      ┆ ---      ┆ ---      ┆ ---      │\n",
       "│ u32     ┆ ---         ┆ ---         ┆ list[i16]  ┆   ┆ f32      ┆ f32      ┆ f32      ┆ f32      │\n",
       "│         ┆ list[i32]   ┆ list[dateti ┆            ┆   ┆          ┆          ┆          ┆          │\n",
       "│         ┆             ┆ me[μs]]     ┆            ┆   ┆          ┆          ┆          ┆          │\n",
       "╞═════════╪═════════════╪═════════════╪════════════╪═══╪══════════╪══════════╪══════════╪══════════╡\n",
       "│ 10623   ┆ [9739035,   ┆ [2023-04-27 ┆ [118, 414, ┆ … ┆ 0.804196 ┆ 0.223776 ┆ 0.202797 ┆ 0.874126 │\n",
       "│         ┆ 9739065, …  ┆ 14:29:44,   ┆ … 140]     ┆   ┆          ┆          ┆          ┆          │\n",
       "│         ┆ 9770533]    ┆ 2023-04-…   ┆            ┆   ┆          ┆          ┆          ┆          │\n",
       "│ 12016   ┆ [9738216,   ┆ [2023-04-27 ┆ [140, 118, ┆ … ┆ 0.776515 ┆ 0.117424 ┆ 0.087121 ┆ 0.787879 │\n",
       "│         ┆ 9735383, …  ┆ 07:39:48,   ┆ … 140]     ┆   ┆          ┆          ┆          ┆          │\n",
       "│         ┆ 9769622]    ┆ 2023-04-…   ┆            ┆   ┆          ┆          ┆          ┆          │\n",
       "└─────────┴─────────────┴─────────────┴────────────┴───┴──────────┴──────────┴──────────┴──────────┘"
      ]
     },
     "execution_count": 19,
     "metadata": {},
     "output_type": "execute_result"
    }
   ],
   "source": [
    "%%time\n",
    "\n",
    "STRONG_THR = 0.8\n",
    "\n",
    "history_train = pl.concat(\n",
    "    rows.with_columns(pl.col('article_id_fixed').list.len().alias('NumArticlesHistory')) \\\n",
    "        .explode(['article_id_fixed', 'impression_time_fixed', 'read_time_fixed', 'scroll_percentage_fixed']) \\\n",
    "        .sort(by=['user_id', 'impression_time_fixed']) \\\n",
    "        .with_columns(\n",
    "            pl.col('impression_time_fixed').dt.weekday().alias('weekday'),\n",
    "            pl.col('impression_time_fixed').dt.hour().alias('hour'),\n",
    "        ).join(articles.select(['article_id', 'category', 'is_article_default', 'sentiment_label_int', \n",
    "                                'sentiment_score', 'entity_groups', 'topics']), \n",
    "               left_on='article_id_fixed', right_on='article_id', how='left') \\\n",
    "        .with_columns(\n",
    "            (pl.col('sentiment_label_int') == 0).alias('is_neutral'),\n",
    "            (pl.col('sentiment_label_int') == 1).alias('is_positive'),\n",
    "            (pl.col('sentiment_label_int') == -1).alias('is_negative'),\n",
    "            ((pl.col('sentiment_label_int') == 0) & (pl.col('sentiment_score') > STRONG_THR)).alias('strong_neutral'),\n",
    "            ((pl.col('sentiment_label_int') == 1) & (pl.col('sentiment_score') > STRONG_THR)).alias('strong_positive'),\n",
    "            ((pl.col('sentiment_label_int') == -1) & (pl.col('sentiment_score') > STRONG_THR)).alias('strong_negative'),\n",
    "            pl.col('entity_groups').list.unique(),\n",
    "        ).group_by('user_id').agg(\n",
    "            pl.col('article_id_fixed'),\n",
    "            pl.col('impression_time_fixed'),\n",
    "            pl.col('category'),\n",
    "            pl.col('NumArticlesHistory').first(),\n",
    "            pl.col('read_time_fixed').median().alias('MedianReadTime'),\n",
    "            pl.col('read_time_fixed').max().alias('MaxReadTime'),\n",
    "            pl.col('read_time_fixed').sum().alias('TotalReadTime'),\n",
    "            pl.col('scroll_percentage_fixed').median().alias('MedianScrollPercentage'),\n",
    "            pl.col('scroll_percentage_fixed').max().alias('MaxScrollPercentage'),\n",
    "            (pl.col('is_neutral').sum() / pl.col('NumArticlesHistory').first()).alias('NeutralPct'),\n",
    "            (pl.col('is_positive').sum() / pl.col('NumArticlesHistory').first()).alias('PositivePct'),\n",
    "            (pl.col('is_negative').sum() / pl.col('NumArticlesHistory').first()).alias('NegativePct'),\n",
    "            (pl.col('strong_neutral').sum() / pl.col('NumArticlesHistory').first()).alias('PctStrongNeutral'),\n",
    "            (pl.col('strong_positive').sum() / pl.col('NumArticlesHistory').first()).alias('PctStrongPositive'),\n",
    "            (pl.col('strong_negative').sum() / pl.col('NumArticlesHistory').first()).alias('PctStrongNegative'),\n",
    "            (1 - (pl.col('is_article_default').sum() / pl.col('NumArticlesHistory').first())).alias('PctNotDefaultArticles'),\n",
    "            pl.col('category').mode().alias('MostFrequentCategory'),\n",
    "            pl.col('weekday').mode().alias('MostFrequentWeekday'),\n",
    "            pl.col('hour').mode().alias('MostFrequentHour'),\n",
    "            pl.col('entity_groups').flatten(),\n",
    "            pl.col('topics').flatten().alias('topics_flatten')\n",
    "        ).pipe(add_topics_tf_idf_columns, topics_col='topics_flatten', vectorizer=vectorizer) \\\n",
    "        .drop('topics_flatten').with_columns(\n",
    "            pl.col('MostFrequentCategory').list.first(),\n",
    "            pl.col('MostFrequentWeekday').list.first(),\n",
    "            pl.col('MostFrequentHour').list.first(),\n",
    "        ).with_columns(\n",
    "            (pl.col('entity_groups').list.count_matches(entity) / pl.col('NumArticlesHistory')).alias(f'{entity}Pct')\n",
    "            for entity in unique_entities\n",
    "        ).drop('entity_groups')\n",
    "    for rows in tqdm.tqdm(history_train.iter_slices(1000), total=history_train.shape[0] // 1000)\n",
    ")\n",
    "\n",
    "gc.collect()\n",
    "PrintColor(f\"\\n\" + GetMemUsage(), color = Fore.RED)\n",
    "history_train = reduce_polars_df_memory_size(history_train)\n",
    "history_train.head(2)"
   ]
  },
  {
   "cell_type": "code",
   "execution_count": 20,
   "id": "ae7bae89",
   "metadata": {
    "execution": {
     "iopub.execute_input": "2024-05-19T16:54:04.692238Z",
     "iopub.status.busy": "2024-05-19T16:54:04.691179Z",
     "iopub.status.idle": "2024-05-19T16:54:04.697406Z",
     "shell.execute_reply": "2024-05-19T16:54:04.696688Z"
    },
    "papermill": {
     "duration": 0.038964,
     "end_time": "2024-05-19T16:54:04.699344",
     "exception": false,
     "start_time": "2024-05-19T16:54:04.660380",
     "status": "completed"
    },
    "tags": []
   },
   "outputs": [
    {
     "data": {
      "text/plain": [
       "(15143, 27)"
      ]
     },
     "execution_count": 20,
     "metadata": {},
     "output_type": "execute_result"
    }
   ],
   "source": [
    "history_train.shape"
   ]
  },
  {
   "cell_type": "markdown",
   "id": "5577d7f3",
   "metadata": {
    "papermill": {
     "duration": 0.028616,
     "end_time": "2024-05-19T16:54:04.757181",
     "exception": false,
     "start_time": "2024-05-19T16:54:04.728565",
     "status": "completed"
    },
    "tags": []
   },
   "source": [
    "# Named entity collaborative filtering"
   ]
  },
  {
   "cell_type": "code",
   "execution_count": 21,
   "id": "7da0ab7f",
   "metadata": {
    "execution": {
     "iopub.execute_input": "2024-05-19T16:54:04.817188Z",
     "iopub.status.busy": "2024-05-19T16:54:04.816847Z",
     "iopub.status.idle": "2024-05-19T16:54:04.897240Z",
     "shell.execute_reply": "2024-05-19T16:54:04.896379Z"
    },
    "papermill": {
     "duration": 0.113306,
     "end_time": "2024-05-19T16:54:04.899638",
     "exception": false,
     "start_time": "2024-05-19T16:54:04.786332",
     "status": "completed"
    },
    "tags": []
   },
   "outputs": [],
   "source": [
    "user_id_mapping = history_train.sort('user_id').with_row_index() \\\n",
    "    .select(['index', 'user_id']).rename({'index': 'user_index'})\n",
    "\n",
    "ner_mapping = articles.select(['ner_clusters']) \\\n",
    "    .explode('ner_clusters') \\\n",
    "    .rename({'ner_clusters': 'ner'}) \\\n",
    "    .with_columns(pl.col('ner').str.strip_chars_start('\\\" ').str.to_lowercase()) \\\n",
    "    .unique('ner').drop_nulls().filter(pl.col('ner').str.len_chars() > 0) \\\n",
    "    .sort('ner').with_row_index().rename({'index': 'ner_index'})"
   ]
  },
  {
   "cell_type": "code",
   "execution_count": 22,
   "id": "276a5054",
   "metadata": {
    "execution": {
     "iopub.execute_input": "2024-05-19T16:54:04.968559Z",
     "iopub.status.busy": "2024-05-19T16:54:04.967629Z",
     "iopub.status.idle": "2024-05-19T16:54:18.612486Z",
     "shell.execute_reply": "2024-05-19T16:54:18.611278Z"
    },
    "papermill": {
     "duration": 13.681407,
     "end_time": "2024-05-19T16:54:18.615021",
     "exception": false,
     "start_time": "2024-05-19T16:54:04.933614",
     "status": "completed"
    },
    "tags": []
   },
   "outputs": [],
   "source": [
    "ner_interactions = history_train.select(['user_id', 'article_id_fixed']).explode('article_id_fixed') \\\n",
    "    .join(articles.select(['article_id', 'ner_clusters']), left_on='article_id_fixed', right_on='article_id', how='left') \\\n",
    "    .explode('ner_clusters').unique(['user_id', 'ner_clusters']) \\\n",
    "    .with_columns(pl.col('ner_clusters').str.strip_chars_start('\\\" ').str.to_lowercase()) \\\n",
    "    .join(user_id_mapping, on='user_id', how='left') \\\n",
    "    .join(ner_mapping, left_on='ner_clusters', right_on='ner') \\\n",
    "    .select(['user_index', 'ner_index', 'user_id', 'article_id_fixed']) \\\n",
    "    .unique(['user_index', 'ner_index'])\n",
    "\n",
    "URM_ner = sps.csr_matrix((np.ones(ner_interactions.shape[0]),\n",
    "                          (ner_interactions['user_index'].to_numpy(), ner_interactions['ner_index'].to_numpy())),\n",
    "                         shape=(user_id_mapping.shape[0], ner_mapping.shape[0]))\n",
    "\n",
    "ner_interactions_test = behaviors_train.select(['user_id', 'article_ids_clicked']).explode('article_ids_clicked') \\\n",
    "    .join(articles.select(['article_id', 'ner_clusters']), left_on='article_ids_clicked', right_on='article_id', how='left') \\\n",
    "    .explode('ner_clusters').unique(['user_id', 'ner_clusters']) \\\n",
    "    .with_columns(pl.col('ner_clusters').str.strip_chars_start('\\\" ').str.to_lowercase()) \\\n",
    "    .join(user_id_mapping, on='user_id', how='left') \\\n",
    "    .join(ner_mapping, left_on='ner_clusters', right_on='ner') \\\n",
    "    .select(['user_index', 'ner_index', 'user_id', 'article_ids_clicked']) \\\n",
    "    .unique(['user_index', 'ner_index'])\n",
    "\n",
    "URM_ner_test = sps.csr_matrix((np.ones(ner_interactions_test.shape[0]),\n",
    "                               (ner_interactions_test['user_index'].to_numpy(), ner_interactions_test['ner_index'].to_numpy())),\n",
    "                              shape=(user_id_mapping.shape[0], ner_mapping.shape[0]))"
   ]
  },
  {
   "cell_type": "code",
   "execution_count": 23,
   "id": "b4cb523a",
   "metadata": {
    "execution": {
     "iopub.execute_input": "2024-05-19T16:54:18.677142Z",
     "iopub.status.busy": "2024-05-19T16:54:18.676099Z",
     "iopub.status.idle": "2024-05-19T16:54:22.028198Z",
     "shell.execute_reply": "2024-05-19T16:54:22.027165Z"
    },
    "papermill": {
     "duration": 3.384784,
     "end_time": "2024-05-19T16:54:22.030463",
     "exception": false,
     "start_time": "2024-05-19T16:54:18.645679",
     "status": "completed"
    },
    "tags": []
   },
   "outputs": [
    {
     "name": "stdout",
     "output_type": "stream",
     "text": [
      "/kaggle/working\n"
     ]
    },
    {
     "name": "stderr",
     "output_type": "stream",
     "text": [
      "/opt/conda/lib/python3.10/pty.py:89: RuntimeWarning: os.fork() was called. os.fork() is incompatible with multithreaded code, and JAX is multithreaded, so this will likely lead to a deadlock.\n",
      "  pid, fd = os.forkpty()\n"
     ]
    },
    {
     "name": "stdout",
     "output_type": "stream",
     "text": [
      "Cloning into 'RecSys_Course_AT_PoliMi'...\r\n",
      "remote: Enumerating objects: 1519, done.\u001b[K\r\n",
      "remote: Counting objects: 100% (255/255), done.\u001b[K\r\n",
      "remote: Compressing objects: 100% (43/43), done.\u001b[K\r\n",
      "remote: Total 1519 (delta 223), reused 220 (delta 212), pack-reused 1264\u001b[K\r\n",
      "Receiving objects: 100% (1519/1519), 50.33 MiB | 36.68 MiB/s, done.\r\n",
      "Resolving deltas: 100% (909/909), done.\r\n"
     ]
    }
   ],
   "source": [
    "%cd /kaggle/working\n",
    "! git clone https://github.com/MaurizioFD/RecSys_Course_AT_PoliMi.git"
   ]
  },
  {
   "cell_type": "code",
   "execution_count": 24,
   "id": "23e9d7ea",
   "metadata": {
    "execution": {
     "iopub.execute_input": "2024-05-19T16:54:22.095911Z",
     "iopub.status.busy": "2024-05-19T16:54:22.095570Z",
     "iopub.status.idle": "2024-05-19T16:59:02.636486Z",
     "shell.execute_reply": "2024-05-19T16:59:02.635330Z"
    },
    "papermill": {
     "duration": 280.576144,
     "end_time": "2024-05-19T16:59:02.638745",
     "exception": false,
     "start_time": "2024-05-19T16:54:22.062601",
     "status": "completed"
    },
    "tags": []
   },
   "outputs": [
    {
     "name": "stdout",
     "output_type": "stream",
     "text": [
      "/kaggle/working/RecSys_Course_AT_PoliMi\n",
      "ItemKNNCFRecommender: URM Detected 1 ( 0.0%) users with no interactions.\n",
      "ItemKNNCFRecommender: URM Detected 18909 (43.2%) items with no interactions.\n",
      "Unable to load Cython Compute_Similarity, reverting to Python\n",
      "Similarity column 43774 (100.0%), 180.52 column/sec. Elapsed time 4.04 min\n",
      "EvaluatorHoldout: Ignoring 31 ( 0.2%) Users that have less than 1 test interactions\n",
      "EvaluatorHoldout: Processed 15112 (100.0%) in 37.19 sec. Users per second: 406\n"
     ]
    },
    {
     "data": {
      "text/html": [
       "<div>\n",
       "<style scoped>\n",
       "    .dataframe tbody tr th:only-of-type {\n",
       "        vertical-align: middle;\n",
       "    }\n",
       "\n",
       "    .dataframe tbody tr th {\n",
       "        vertical-align: top;\n",
       "    }\n",
       "\n",
       "    .dataframe thead th {\n",
       "        text-align: right;\n",
       "    }\n",
       "</style>\n",
       "<table border=\"1\" class=\"dataframe\">\n",
       "  <thead>\n",
       "    <tr style=\"text-align: right;\">\n",
       "      <th></th>\n",
       "      <th>PRECISION</th>\n",
       "      <th>PRECISION_RECALL_MIN_DEN</th>\n",
       "      <th>RECALL</th>\n",
       "      <th>MAP</th>\n",
       "      <th>MAP_MIN_DEN</th>\n",
       "      <th>MRR</th>\n",
       "      <th>NDCG</th>\n",
       "      <th>F1</th>\n",
       "      <th>HIT_RATE</th>\n",
       "      <th>ARHR_ALL_HITS</th>\n",
       "      <th>...</th>\n",
       "      <th>COVERAGE_USER</th>\n",
       "      <th>COVERAGE_USER_HIT</th>\n",
       "      <th>USERS_IN_GT</th>\n",
       "      <th>DIVERSITY_GINI</th>\n",
       "      <th>SHANNON_ENTROPY</th>\n",
       "      <th>RATIO_DIVERSITY_HERFINDAHL</th>\n",
       "      <th>RATIO_DIVERSITY_GINI</th>\n",
       "      <th>RATIO_SHANNON_ENTROPY</th>\n",
       "      <th>RATIO_AVERAGE_POPULARITY</th>\n",
       "      <th>RATIO_NOVELTY</th>\n",
       "    </tr>\n",
       "    <tr>\n",
       "      <th>cutoff</th>\n",
       "      <th></th>\n",
       "      <th></th>\n",
       "      <th></th>\n",
       "      <th></th>\n",
       "      <th></th>\n",
       "      <th></th>\n",
       "      <th></th>\n",
       "      <th></th>\n",
       "      <th></th>\n",
       "      <th></th>\n",
       "      <th></th>\n",
       "      <th></th>\n",
       "      <th></th>\n",
       "      <th></th>\n",
       "      <th></th>\n",
       "      <th></th>\n",
       "      <th></th>\n",
       "      <th></th>\n",
       "      <th></th>\n",
       "      <th></th>\n",
       "      <th></th>\n",
       "    </tr>\n",
       "  </thead>\n",
       "  <tbody>\n",
       "    <tr>\n",
       "      <th>10</th>\n",
       "      <td>0.311971</td>\n",
       "      <td>0.312913</td>\n",
       "      <td>0.030088</td>\n",
       "      <td>0.214433</td>\n",
       "      <td>0.214676</td>\n",
       "      <td>0.469902</td>\n",
       "      <td>0.319612</td>\n",
       "      <td>0.054883</td>\n",
       "      <td>0.766609</td>\n",
       "      <td>0.953152</td>\n",
       "      <td>...</td>\n",
       "      <td>0.997953</td>\n",
       "      <td>0.76504</td>\n",
       "      <td>0.997953</td>\n",
       "      <td>0.002086</td>\n",
       "      <td>5.362616</td>\n",
       "      <td>0.952586</td>\n",
       "      <td>0.016842</td>\n",
       "      <td>0.419597</td>\n",
       "      <td>3.357942</td>\n",
       "      <td>0.009295</td>\n",
       "    </tr>\n",
       "  </tbody>\n",
       "</table>\n",
       "<p>1 rows × 27 columns</p>\n",
       "</div>"
      ],
      "text/plain": [
       "       PRECISION PRECISION_RECALL_MIN_DEN    RECALL       MAP MAP_MIN_DEN  \\\n",
       "cutoff                                                                      \n",
       "10      0.311971                 0.312913  0.030088  0.214433    0.214676   \n",
       "\n",
       "             MRR      NDCG        F1  HIT_RATE ARHR_ALL_HITS  ...  \\\n",
       "cutoff                                                        ...   \n",
       "10      0.469902  0.319612  0.054883  0.766609      0.953152  ...   \n",
       "\n",
       "       COVERAGE_USER COVERAGE_USER_HIT USERS_IN_GT DIVERSITY_GINI  \\\n",
       "cutoff                                                              \n",
       "10          0.997953           0.76504    0.997953       0.002086   \n",
       "\n",
       "       SHANNON_ENTROPY RATIO_DIVERSITY_HERFINDAHL RATIO_DIVERSITY_GINI  \\\n",
       "cutoff                                                                   \n",
       "10            5.362616                   0.952586             0.016842   \n",
       "\n",
       "       RATIO_SHANNON_ENTROPY RATIO_AVERAGE_POPULARITY RATIO_NOVELTY  \n",
       "cutoff                                                               \n",
       "10                  0.419597                 3.357942      0.009295  \n",
       "\n",
       "[1 rows x 27 columns]"
      ]
     },
     "execution_count": 24,
     "metadata": {},
     "output_type": "execute_result"
    }
   ],
   "source": [
    "%cd /kaggle/working/RecSys_Course_AT_PoliMi\n",
    "\n",
    "from Recommenders.SLIM.SLIMElasticNetRecommender import SLIMElasticNetRecommender\n",
    "from Recommenders.KNN.ItemKNNCFRecommender import ItemKNNCFRecommender\n",
    "from Recommenders.MatrixFactorization.PureSVDRecommender import PureSVDRecommender\n",
    "from Evaluation.Evaluator import EvaluatorHoldout\n",
    "\n",
    "np.int = int\n",
    "np.random.seed(42)\n",
    "np.bool = bool\n",
    "np.float = float\n",
    "\n",
    "item_knn = ItemKNNCFRecommender(URM_ner)\n",
    "item_knn.fit(topK=100, similarity='jaccard')\n",
    "\n",
    "evaluator = EvaluatorHoldout(URM_ner_test, cutoff_list=[10], exclude_seen=False)\n",
    "result_df, _ = evaluator.evaluateRecommender(item_knn)\n",
    "result_df"
   ]
  },
  {
   "cell_type": "code",
   "execution_count": 25,
   "id": "0df6f978",
   "metadata": {
    "execution": {
     "iopub.execute_input": "2024-05-19T16:59:02.709789Z",
     "iopub.status.busy": "2024-05-19T16:59:02.709409Z",
     "iopub.status.idle": "2024-05-19T16:59:27.699423Z",
     "shell.execute_reply": "2024-05-19T16:59:27.698428Z"
    },
    "papermill": {
     "duration": 25.027994,
     "end_time": "2024-05-19T16:59:27.701844",
     "exception": false,
     "start_time": "2024-05-19T16:59:02.673850",
     "status": "completed"
    },
    "tags": []
   },
   "outputs": [
    {
     "name": "stdout",
     "output_type": "stream",
     "text": [
      "PureSVDRecommender: URM Detected 1 ( 0.0%) users with no interactions.\n",
      "PureSVDRecommender: URM Detected 18909 (43.2%) items with no interactions.\n",
      "PureSVDRecommender: Computing SVD decomposition...\n",
      "PureSVDRecommender: Computing SVD decomposition... done in 4.24 sec\n",
      "EvaluatorHoldout: Processed 15112 (100.0%) in 20.37 sec. Users per second: 742\n"
     ]
    },
    {
     "data": {
      "text/html": [
       "<div>\n",
       "<style scoped>\n",
       "    .dataframe tbody tr th:only-of-type {\n",
       "        vertical-align: middle;\n",
       "    }\n",
       "\n",
       "    .dataframe tbody tr th {\n",
       "        vertical-align: top;\n",
       "    }\n",
       "\n",
       "    .dataframe thead th {\n",
       "        text-align: right;\n",
       "    }\n",
       "</style>\n",
       "<table border=\"1\" class=\"dataframe\">\n",
       "  <thead>\n",
       "    <tr style=\"text-align: right;\">\n",
       "      <th></th>\n",
       "      <th>PRECISION</th>\n",
       "      <th>PRECISION_RECALL_MIN_DEN</th>\n",
       "      <th>RECALL</th>\n",
       "      <th>MAP</th>\n",
       "      <th>MAP_MIN_DEN</th>\n",
       "      <th>MRR</th>\n",
       "      <th>NDCG</th>\n",
       "      <th>F1</th>\n",
       "      <th>HIT_RATE</th>\n",
       "      <th>ARHR_ALL_HITS</th>\n",
       "      <th>...</th>\n",
       "      <th>COVERAGE_USER</th>\n",
       "      <th>COVERAGE_USER_HIT</th>\n",
       "      <th>USERS_IN_GT</th>\n",
       "      <th>DIVERSITY_GINI</th>\n",
       "      <th>SHANNON_ENTROPY</th>\n",
       "      <th>RATIO_DIVERSITY_HERFINDAHL</th>\n",
       "      <th>RATIO_DIVERSITY_GINI</th>\n",
       "      <th>RATIO_SHANNON_ENTROPY</th>\n",
       "      <th>RATIO_AVERAGE_POPULARITY</th>\n",
       "      <th>RATIO_NOVELTY</th>\n",
       "    </tr>\n",
       "    <tr>\n",
       "      <th>cutoff</th>\n",
       "      <th></th>\n",
       "      <th></th>\n",
       "      <th></th>\n",
       "      <th></th>\n",
       "      <th></th>\n",
       "      <th></th>\n",
       "      <th></th>\n",
       "      <th></th>\n",
       "      <th></th>\n",
       "      <th></th>\n",
       "      <th></th>\n",
       "      <th></th>\n",
       "      <th></th>\n",
       "      <th></th>\n",
       "      <th></th>\n",
       "      <th></th>\n",
       "      <th></th>\n",
       "      <th></th>\n",
       "      <th></th>\n",
       "      <th></th>\n",
       "      <th></th>\n",
       "    </tr>\n",
       "  </thead>\n",
       "  <tbody>\n",
       "    <tr>\n",
       "      <th>10</th>\n",
       "      <td>0.342628</td>\n",
       "      <td>0.345141</td>\n",
       "      <td>0.048661</td>\n",
       "      <td>0.261759</td>\n",
       "      <td>0.263204</td>\n",
       "      <td>0.670397</td>\n",
       "      <td>0.392258</td>\n",
       "      <td>0.085219</td>\n",
       "      <td>0.858655</td>\n",
       "      <td>1.275579</td>\n",
       "      <td>...</td>\n",
       "      <td>0.997953</td>\n",
       "      <td>0.856898</td>\n",
       "      <td>0.997953</td>\n",
       "      <td>0.001871</td>\n",
       "      <td>5.929536</td>\n",
       "      <td>0.95823</td>\n",
       "      <td>0.015104</td>\n",
       "      <td>0.463956</td>\n",
       "      <td>3.324192</td>\n",
       "      <td>0.009294</td>\n",
       "    </tr>\n",
       "  </tbody>\n",
       "</table>\n",
       "<p>1 rows × 27 columns</p>\n",
       "</div>"
      ],
      "text/plain": [
       "       PRECISION PRECISION_RECALL_MIN_DEN    RECALL       MAP MAP_MIN_DEN  \\\n",
       "cutoff                                                                      \n",
       "10      0.342628                 0.345141  0.048661  0.261759    0.263204   \n",
       "\n",
       "             MRR      NDCG        F1  HIT_RATE ARHR_ALL_HITS  ...  \\\n",
       "cutoff                                                        ...   \n",
       "10      0.670397  0.392258  0.085219  0.858655      1.275579  ...   \n",
       "\n",
       "       COVERAGE_USER COVERAGE_USER_HIT USERS_IN_GT DIVERSITY_GINI  \\\n",
       "cutoff                                                              \n",
       "10          0.997953          0.856898    0.997953       0.001871   \n",
       "\n",
       "       SHANNON_ENTROPY RATIO_DIVERSITY_HERFINDAHL RATIO_DIVERSITY_GINI  \\\n",
       "cutoff                                                                   \n",
       "10            5.929536                    0.95823             0.015104   \n",
       "\n",
       "       RATIO_SHANNON_ENTROPY RATIO_AVERAGE_POPULARITY RATIO_NOVELTY  \n",
       "cutoff                                                               \n",
       "10                  0.463956                 3.324192      0.009294  \n",
       "\n",
       "[1 rows x 27 columns]"
      ]
     },
     "execution_count": 25,
     "metadata": {},
     "output_type": "execute_result"
    }
   ],
   "source": [
    "pure_svd = PureSVDRecommender(URM_ner)\n",
    "pure_svd.fit(num_factors=20)\n",
    "\n",
    "result_df, _ = evaluator.evaluateRecommender(pure_svd)\n",
    "result_df"
   ]
  },
  {
   "cell_type": "code",
   "execution_count": 26,
   "id": "1d00eab4",
   "metadata": {
    "execution": {
     "iopub.execute_input": "2024-05-19T16:59:27.770391Z",
     "iopub.status.busy": "2024-05-19T16:59:27.770079Z",
     "iopub.status.idle": "2024-05-19T17:01:02.684276Z",
     "shell.execute_reply": "2024-05-19T17:01:02.683569Z"
    },
    "papermill": {
     "duration": 94.98486,
     "end_time": "2024-05-19T17:01:02.721534",
     "exception": false,
     "start_time": "2024-05-19T16:59:27.736674",
     "status": "completed"
    },
    "tags": []
   },
   "outputs": [
    {
     "name": "stdout",
     "output_type": "stream",
     "text": [
      "CPU times: user 3min 24s, sys: 2min 24s, total: 5min 49s\n",
      "Wall time: 1min 34s\n"
     ]
    },
    {
     "data": {
      "text/html": [
       "<div><style>\n",
       ".dataframe > thead > tr,\n",
       ".dataframe > tbody > tr {\n",
       "  text-align: right;\n",
       "  white-space: pre-wrap;\n",
       "}\n",
       "</style>\n",
       "<small>shape: (5, 8)</small><table border=\"1\" class=\"dataframe\"><thead><tr><th>impression_id</th><th>article</th><th>total_ner_svd_scores</th><th>mean_ner_svd_scores</th><th>max_ner_svd_scores</th><th>total_ner_item_knn_scores</th><th>mean_ner_item_knn_scores</th><th>max_ner_item_knn_scores</th></tr><tr><td>u32</td><td>i32</td><td>f32</td><td>f32</td><td>f32</td><td>f32</td><td>f32</td><td>f32</td></tr></thead><tbody><tr><td>127502926</td><td>9771903</td><td>0.081532</td><td>0.318607</td><td>0.295812</td><td>0.090677</td><td>0.347547</td><td>0.344435</td></tr><tr><td>276003424</td><td>9774287</td><td>-0.00004</td><td>-0.000102</td><td>0.0</td><td>0.0</td><td>0.0</td><td>0.0</td></tr><tr><td>543513599</td><td>8315213</td><td>-0.000027</td><td>-0.000199</td><td>-0.000054</td><td>0.0</td><td>0.0</td><td>0.0</td></tr><tr><td>578683966</td><td>9759544</td><td>0.015298</td><td>0.096826</td><td>0.083485</td><td>0.009548</td><td>0.066835</td><td>0.05875</td></tr><tr><td>52085158</td><td>9773566</td><td>0.157366</td><td>0.354297</td><td>0.653396</td><td>0.193845</td><td>0.395242</td><td>0.664962</td></tr></tbody></table></div>"
      ],
      "text/plain": [
       "shape: (5, 8)\n",
       "┌────────────┬─────────┬────────────┬────────────┬────────────┬────────────┬───────────┬───────────┐\n",
       "│ impression ┆ article ┆ total_ner_ ┆ mean_ner_s ┆ max_ner_sv ┆ total_ner_ ┆ mean_ner_ ┆ max_ner_i │\n",
       "│ _id        ┆ ---     ┆ svd_scores ┆ vd_scores  ┆ d_scores   ┆ item_knn_s ┆ item_knn_ ┆ tem_knn_s │\n",
       "│ ---        ┆ i32     ┆ ---        ┆ ---        ┆ ---        ┆ cores      ┆ scores    ┆ cores     │\n",
       "│ u32        ┆         ┆ f32        ┆ f32        ┆ f32        ┆ ---        ┆ ---       ┆ ---       │\n",
       "│            ┆         ┆            ┆            ┆            ┆ f32        ┆ f32       ┆ f32       │\n",
       "╞════════════╪═════════╪════════════╪════════════╪════════════╪════════════╪═══════════╪═══════════╡\n",
       "│ 127502926  ┆ 9771903 ┆ 0.081532   ┆ 0.318607   ┆ 0.295812   ┆ 0.090677   ┆ 0.347547  ┆ 0.344435  │\n",
       "│ 276003424  ┆ 9774287 ┆ -0.00004   ┆ -0.000102  ┆ 0.0        ┆ 0.0        ┆ 0.0       ┆ 0.0       │\n",
       "│ 543513599  ┆ 8315213 ┆ -0.000027  ┆ -0.000199  ┆ -0.000054  ┆ 0.0        ┆ 0.0       ┆ 0.0       │\n",
       "│ 578683966  ┆ 9759544 ┆ 0.015298   ┆ 0.096826   ┆ 0.083485   ┆ 0.009548   ┆ 0.066835  ┆ 0.05875   │\n",
       "│ 52085158   ┆ 9773566 ┆ 0.157366   ┆ 0.354297   ┆ 0.653396   ┆ 0.193845   ┆ 0.395242  ┆ 0.664962  │\n",
       "└────────────┴─────────┴────────────┴────────────┴────────────┴────────────┴───────────┴───────────┘"
      ]
     },
     "execution_count": 26,
     "metadata": {},
     "output_type": "execute_result"
    }
   ],
   "source": [
    "%%time\n",
    "\n",
    "def get_inview_scores(user_ners_df, recommender, f_name):\n",
    "    user_index = user_ners_df['user_index'].to_list()[0]\n",
    "    ners = user_ners_df['ner_index'].to_numpy()\n",
    "    scores = recommender._compute_item_score([user_index], ners)[0, ners]\n",
    "    return user_ners_df.with_columns(\n",
    "        pl.Series(scores).alias(f_name)\n",
    "    )\n",
    "\n",
    "ner_inview_scores = behaviors_train.select(['user_id', 'article_ids_inview']).explode('article_ids_inview') \\\n",
    "    .join(articles.select(['article_id', 'ner_clusters']), left_on='article_ids_inview', right_on='article_id', how='left') \\\n",
    "    .explode('ner_clusters').unique(['user_id', 'ner_clusters']) \\\n",
    "    .with_columns(pl.col('ner_clusters').str.strip_chars_start('\\\" ').str.to_lowercase()) \\\n",
    "    .join(user_id_mapping, on='user_id', how='left') \\\n",
    "    .join(ner_mapping, left_on='ner_clusters', right_on='ner') \\\n",
    "    .select(['user_index', 'ner_index', 'user_id', 'article_ids_inview']) \\\n",
    "    .unique(['user_index', 'ner_index']) \\\n",
    "    .sort(['user_index', 'ner_index']).group_by('user_index').map_groups(\n",
    "        lambda user_df: user_df.pipe(get_inview_scores, recommender=pure_svd, f_name='pure_svd_scores') \\\n",
    "            .pipe(get_inview_scores, recommender=item_knn, f_name='item_knn_scores')\n",
    "    )\n",
    "\n",
    "behaviors_ner_scores = behaviors_train.select(['impression_id', 'user_id', 'article_ids_inview']).explode('article_ids_inview') \\\n",
    "    .join(ner_inview_scores, on=['user_id', 'article_ids_inview'], how='left') \\\n",
    "    .with_columns(pl.col(['pure_svd_scores', 'item_knn_scores']).fill_null(0)) \\\n",
    "    .group_by(['impression_id', 'article_ids_inview']).agg(\n",
    "        pl.col('pure_svd_scores').sum().alias('total_ner_svd_scores'),\n",
    "        pl.col('pure_svd_scores').mean().alias('mean_ner_svd_scores'),\n",
    "        pl.col('pure_svd_scores').max().alias('max_ner_svd_scores'),\n",
    "        pl.col('item_knn_scores').sum().alias('total_ner_item_knn_scores'),\n",
    "        pl.col('item_knn_scores').mean().alias('mean_ner_item_knn_scores'),\n",
    "        pl.col('item_knn_scores').max().alias('max_ner_item_knn_scores'),\n",
    "    ).with_columns(\n",
    "        pl.col(['total_ner_svd_scores', 'mean_ner_svd_scores', \n",
    "                'total_ner_item_knn_scores', 'mean_ner_item_knn_scores',\n",
    "                'max_ner_svd_scores', 'max_ner_item_knn_scores']).max().over('impression_id').name.suffix('_max')\n",
    "    ).with_columns(\n",
    "        # l1 normalization\n",
    "        pl.col('total_ner_svd_scores').truediv(pl.col('total_ner_svd_scores_max')),\n",
    "        pl.col('mean_ner_svd_scores').truediv(pl.col('mean_ner_svd_scores_max')),\n",
    "        pl.col('max_ner_svd_scores').truediv(pl.col('max_ner_svd_scores_max')),\n",
    "        pl.col('total_ner_item_knn_scores').truediv(pl.col('total_ner_item_knn_scores_max')),\n",
    "        pl.col('mean_ner_item_knn_scores').truediv(pl.col('mean_ner_item_knn_scores_max')),\n",
    "        pl.col('max_ner_item_knn_scores').truediv(pl.col('max_ner_item_knn_scores_max')),\n",
    "    ).drop(['total_ner_svd_scores_max', 'mean_ner_svd_scores_max', \n",
    "            'max_ner_svd_scores_max', 'total_ner_item_knn_scores_max',\n",
    "            'mean_ner_item_knn_scores_max', 'max_ner_item_knn_scores_max']) \\\n",
    "    .rename({'article_ids_inview': 'article'})\n",
    "behaviors_ner_scores.head(5)"
   ]
  },
  {
   "cell_type": "code",
   "execution_count": 27,
   "id": "b8398313",
   "metadata": {
    "execution": {
     "iopub.execute_input": "2024-05-19T17:01:02.792776Z",
     "iopub.status.busy": "2024-05-19T17:01:02.792176Z",
     "iopub.status.idle": "2024-05-19T17:01:03.211434Z",
     "shell.execute_reply": "2024-05-19T17:01:03.210483Z"
    },
    "papermill": {
     "duration": 0.457238,
     "end_time": "2024-05-19T17:01:03.213815",
     "exception": false,
     "start_time": "2024-05-19T17:01:02.756577",
     "status": "completed"
    },
    "tags": []
   },
   "outputs": [
    {
     "data": {
      "text/plain": [
       "0"
      ]
     },
     "execution_count": 27,
     "metadata": {},
     "output_type": "execute_result"
    }
   ],
   "source": [
    "del URM_ner\n",
    "del URM_ner_test\n",
    "del ner_inview_scores\n",
    "del ner_interactions\n",
    "del ner_interactions_test\n",
    "gc.collect()"
   ]
  },
  {
   "cell_type": "markdown",
   "id": "6a8ee834",
   "metadata": {
    "papermill": {
     "duration": 0.033617,
     "end_time": "2024-05-19T17:01:03.281719",
     "exception": false,
     "start_time": "2024-05-19T17:01:03.248102",
     "status": "completed"
    },
    "tags": []
   },
   "source": [
    "# Creating Training Dataframe"
   ]
  },
  {
   "cell_type": "code",
   "execution_count": 28,
   "id": "e758b4b9",
   "metadata": {
    "execution": {
     "iopub.execute_input": "2024-05-19T17:01:03.351481Z",
     "iopub.status.busy": "2024-05-19T17:01:03.350328Z",
     "iopub.status.idle": "2024-05-19T17:01:03.361205Z",
     "shell.execute_reply": "2024-05-19T17:01:03.360598Z"
    },
    "papermill": {
     "duration": 0.048216,
     "end_time": "2024-05-19T17:01:03.363157",
     "exception": false,
     "start_time": "2024-05-19T17:01:03.314941",
     "status": "completed"
    },
    "tags": []
   },
   "outputs": [],
   "source": [
    "def normalize_endorsement(articles_endorsement_raw):\n",
    "    return articles_endorsement.sort(by='impression_time').with_columns(\n",
    "        (\n",
    "            pl.col('endorsement_10h') / \n",
    "            pl.col('endorsement_10h').sum().over('impression_time')\n",
    "        ).alias('normalized_endorsement_10h'),\n",
    "        (\n",
    "            pl.col('endorsement_10h') - \n",
    "            pl.col('endorsement_10h').rolling_mean(10, min_periods=1).over('article')\n",
    "        ).alias('endorsement_10h_diff_rolling'),\n",
    "        (\n",
    "            pl.col('endorsement_10h').rolling_mean(5, min_periods=1).over('article') - \n",
    "            pl.col('endorsement_10h').rolling_mean(10, min_periods=1).over('article')\n",
    "        ).alias('endorsement_macd'),\n",
    "        (\n",
    "            pl.col('endorsement_10h') / \n",
    "            pl.col('endorsement_10h').quantile(0.8).over('impression_time')\n",
    "        ).alias('endorsement_quantile_norm_10h')\n",
    "    ).with_columns(\n",
    "        (\n",
    "            pl.col('normalized_endorsement_10h') / \n",
    "            pl.col('normalized_endorsement_10h').rolling_max(10, min_periods=1).over('impression_time')\n",
    "        ).alias('normalized_endorsement_10h_rolling_max_ratio'),\n",
    "    )\n",
    "    \n",
    "\n",
    "def add_article_endorsement_feature(df_features, normalized_endorsement):\n",
    "    # old return df_features.join(other=articles_endorsement, on=[\"article\", \"impression_time\"], how=\"left\")\n",
    "    normalized_endorsement = normalized_endorsement.with_columns(pl.col('article').cast(pl.Int32))\n",
    "    return df_features.with_columns(pl.col('impression_time').dt.round('1m').alias('rounded_impression_time'))\\\n",
    "                         .join(normalized_endorsement.rename({'impression_time' : 'rounded_impression_time'}), on=['article','rounded_impression_time'], how='left')\\\n",
    "                         .drop('rounded_impression_time')"
   ]
  },
  {
   "cell_type": "code",
   "execution_count": 29,
   "id": "858b1e6f",
   "metadata": {
    "execution": {
     "iopub.execute_input": "2024-05-19T17:01:03.432821Z",
     "iopub.status.busy": "2024-05-19T17:01:03.432200Z",
     "iopub.status.idle": "2024-05-19T17:01:03.443065Z",
     "shell.execute_reply": "2024-05-19T17:01:03.442416Z"
    },
    "papermill": {
     "duration": 0.047482,
     "end_time": "2024-05-19T17:01:03.445124",
     "exception": false,
     "start_time": "2024-05-19T17:01:03.397642",
     "status": "completed"
    },
    "tags": []
   },
   "outputs": [],
   "source": [
    "def normalize_endorsement_by_article_and_user(articles_endorsement_articleuser_raw):\n",
    "    return articles_endorsement_articleuser_raw.sort(by=['user_id','impression_time']).with_columns(\n",
    "        (\n",
    "            pl.col('endorsement_20h_articleuser') / \n",
    "            pl.col('endorsement_20h_articleuser').sum().over(['user_id','impression_time'])\n",
    "        ).alias('normalized_endorsement_articleuser_20h'),\n",
    "        (\n",
    "            pl.col('endorsement_20h_articleuser') - \n",
    "            pl.col('endorsement_20h_articleuser').rolling_mean(10, min_periods=1).over(['article','user_id'])\n",
    "        ).alias('endorsement_20h_articleuser_diff_rolling'),\n",
    "        (\n",
    "            pl.col('endorsement_20h_articleuser').rolling_mean(5, min_periods=1).over(['article','user_id']) - \n",
    "            pl.col('endorsement_20h_articleuser').rolling_mean(10, min_periods=1).over(['article','user_id'])\n",
    "        ).alias('endorsement_articleuser_macd'),\n",
    "        (\n",
    "            pl.col('endorsement_20h_articleuser') / \n",
    "            pl.col('endorsement_20h_articleuser').quantile(0.8).over(['user_id','impression_time'])\n",
    "        ).alias('endorsement_articleuser_quantile_norm_20h')\n",
    "    ).with_columns(\n",
    "        (\n",
    "            pl.col('endorsement_20h_articleuser') / \n",
    "            pl.col('endorsement_20h_articleuser').rolling_max(10, min_periods=1).over(['user_id','impression_time'])\n",
    "        ).alias('normalized_endorsement_articleuser_20h_rolling_max_ratio'),\n",
    "    )\n",
    "    \n",
    "\n",
    "def add_article_endorsement_feature_by_article_and_user(df_features, normalized_endorsement):\n",
    "    # old return df_features.join(other=articles_endorsement, on=[\"article\", \"impression_time\"], how=\"left\")\n",
    "    normalized_endorsement = normalized_endorsement.with_columns(pl.col('article').cast(pl.Int32))\n",
    "    return df_features.with_columns(pl.col('impression_time').dt.round('1m').alias('rounded_impression_time'))\\\n",
    "                         .join(normalized_endorsement.rename({'impression_time' : 'rounded_impression_time'}), on=['user_id','article','rounded_impression_time'], how='left')\\\n",
    "                         .drop('rounded_impression_time')"
   ]
  },
  {
   "cell_type": "code",
   "execution_count": 30,
   "id": "25b5193e",
   "metadata": {
    "execution": {
     "iopub.execute_input": "2024-05-19T17:01:03.514758Z",
     "iopub.status.busy": "2024-05-19T17:01:03.514079Z",
     "iopub.status.idle": "2024-05-19T17:01:03.521918Z",
     "shell.execute_reply": "2024-05-19T17:01:03.521240Z"
    },
    "papermill": {
     "duration": 0.044504,
     "end_time": "2024-05-19T17:01:03.523906",
     "exception": false,
     "start_time": "2024-05-19T17:01:03.479402",
     "status": "completed"
    },
    "tags": []
   },
   "outputs": [],
   "source": [
    "def add_article_endorsement_feature_leak(df_features, normalized_endorsement,period='10h'):\n",
    "    # old return df_features.join(other=articles_endorsement, on=[\"article\", \"impression_time\"], how=\"left\")\n",
    "    normalized_endorsement = normalized_endorsement.with_columns(pl.col('article').cast(pl.Int32)).rename({f'endorsement_{period}':f'endorsement_{period}_leak'}) \\\n",
    "                            .with_columns(\n",
    "                                pl.col('impression_time') - pl.duration(hours=int(period[:-1]))\n",
    "                            ).sort('impression_time').set_sorted('impression_time')\n",
    "    \n",
    "    return df_features.with_columns(pl.col('impression_time').dt.round('1m').alias('rounded_impression_time'))\\\n",
    "                        .sort('rounded_impression_time').set_sorted('rounded_impression_time') \\\n",
    "                         .join_asof(normalized_endorsement.rename({'impression_time' : 'rounded_impression_time'}),by='article', left_on='rounded_impression_time',right_on='rounded_impression_time', strategy='nearest')\\\n",
    "                         .drop('rounded_impression_time') \\\n",
    "                        .with_columns(\n",
    "                            pl.col(f'endorsement_{period}_leak').fill_null(0)\n",
    "                        )\n"
   ]
  },
  {
   "cell_type": "code",
   "execution_count": 31,
   "id": "cdf02a30",
   "metadata": {
    "execution": {
     "iopub.execute_input": "2024-05-19T17:01:03.594816Z",
     "iopub.status.busy": "2024-05-19T17:01:03.594445Z",
     "iopub.status.idle": "2024-05-19T17:01:03.608425Z",
     "shell.execute_reply": "2024-05-19T17:01:03.607779Z"
    },
    "papermill": {
     "duration": 0.052067,
     "end_time": "2024-05-19T17:01:03.610247",
     "exception": false,
     "start_time": "2024-05-19T17:01:03.558180",
     "status": "completed"
    },
    "tags": []
   },
   "outputs": [],
   "source": [
    "def add_trendiness_feature_leak(df_features: pl.DataFrame, articles: pl.DataFrame, period: str = \"3d\"):\n",
    "\n",
    "    topics = articles.select(\"topics\").explode(\"topics\").unique()\n",
    "    topics = [topic for topic in topics[\"topics\"] if topic is not None]\n",
    "    # min_impression_time = df_features.select(pl.col(\"impression_time\")).min().item()\n",
    "\n",
    "    # topics_total_publications= articles.filter(pl.col(\"published_time\")< min_impression_time ).select(\"topics\") \\\n",
    "    # .explode(\"topics\").group_by(\"topics\").len()\n",
    "\n",
    "    topics_popularity = articles.select([\"published_time\", \"topics\"]).with_columns(\n",
    "        pl.col(\"published_time\").dt.date().alias(\"published_date\")\n",
    "    ).drop(\"published_time\").group_by(\"published_date\").agg(\n",
    "        pl.col(\"topics\").flatten()\n",
    "    ).sort(\"published_date\").set_sorted(\"published_date\").upsample(time_column=\"published_date\", every=\"1d\") \\\n",
    "        .rolling(index_column=\"published_date\", period=period).agg(\n",
    "        [pl.col(\"topics\").list.count_matches(topic).sum().alias(\n",
    "            f\"{topic}_matches\") for topic in topics]\n",
    "    )\n",
    "\n",
    "    return df_features.with_columns(\n",
    "        pl.col(\"impression_time\").dt.date().alias(\"impression_date\")\n",
    "    ).join(other=articles.select([\"article_id\", \"topics\"]), left_on=\"article\", right_on=\"article_id\", how=\"left\") \\\n",
    "        .with_columns(\n",
    "        [pl.col(\"topics\").list.contains(topic).cast(\n",
    "            pl.Int8).alias(f\"{topic}_present\") for topic in topics]\n",
    "    ).sort('impression_date').set_sorted('impression_date') \\\n",
    "    .join_asof(topics_popularity.with_columns(pl.col('published_date') + pl.duration(days=1) - pl.duration(days=int(period[:-1]))) \\\n",
    "               .sort('published_date').set_sorted('published_date'),\n",
    "               left_on=\"impression_date\", right_on=\"published_date\", strategy=\"nearest\") \\\n",
    "        .with_columns(\n",
    "        [pl.col(f\"{topic}_present\").mul(pl.col(f\"{topic}_matches\")).alias(\n",
    "            f\"trendiness_score_{topic}\") for topic in topics]\n",
    "    ).with_columns(\n",
    "        pl.sum_horizontal([pl.col(f\"trendiness_score_{topic}\") for topic in topics]).alias(\n",
    "            \"trendiness_score_leak\"),\n",
    "    ).drop(\n",
    "        [f\"trendiness_score_{topic}\" for topic in topics]\n",
    "    ).drop(\n",
    "        [f\"{topic}_matches\" for topic in topics]\n",
    "    ).drop(\n",
    "        [f\"{topic}_present\" for topic in topics]\n",
    "    ).drop([\"topics\", \"impression_date\",\"published_date\"])"
   ]
  },
  {
   "cell_type": "code",
   "execution_count": 32,
   "id": "5f6bd8cb",
   "metadata": {
    "execution": {
     "iopub.execute_input": "2024-05-19T17:01:03.681075Z",
     "iopub.status.busy": "2024-05-19T17:01:03.680422Z",
     "iopub.status.idle": "2024-05-19T17:04:29.850328Z",
     "shell.execute_reply": "2024-05-19T17:04:29.849168Z"
    },
    "papermill": {
     "duration": 206.208583,
     "end_time": "2024-05-19T17:04:29.852875",
     "exception": false,
     "start_time": "2024-05-19T17:01:03.644292",
     "status": "completed"
    },
    "tags": []
   },
   "outputs": [
    {
     "name": "stderr",
     "output_type": "stream",
     "text": [
      "16it [00:23,  1.46s/it]                        \n",
      "2427it [00:04, 573.29it/s]                          \n",
      "16it [00:01,  9.90it/s]                        \n",
      "16it [00:01,  8.22it/s]                        \n",
      "100%|██████████| 506/506 [00:02<00:00, 179.79it/s]\n",
      "100%|██████████| 506/506 [00:04<00:00, 126.31it/s]\n"
     ]
    },
    {
     "name": "stdout",
     "output_type": "stream",
     "text": [
      "\u001b[1m\u001b[31m\n",
      "RAM memory GB usage = 3.128\u001b[0m\n",
      "Memory usage of dataframe is 1119.91 MB\n",
      "Memory usage after optimization is: 661.24 MB\n",
      "Decreased by 41.0%\n",
      "\u001b[1m\u001b[31m\n",
      "RAM memory GB usage = 2.674\u001b[0m\n",
      "CPU times: user 10min 44s, sys: 50.1 s, total: 11min 34s\n",
      "Wall time: 3min 26s\n"
     ]
    },
    {
     "data": {
      "text/html": [
       "<div><style>\n",
       ".dataframe > thead > tr,\n",
       ".dataframe > tbody > tr {\n",
       "  text-align: right;\n",
       "  white-space: pre-wrap;\n",
       "}\n",
       "</style>\n",
       "<small>shape: (5, 89)</small><table border=\"1\" class=\"dataframe\"><thead><tr><th>impression_id</th><th>article</th><th>user_id</th><th>impression_time</th><th>target</th><th>device_type</th><th>read_time</th><th>scroll_percentage</th><th>is_sso_user</th><th>gender</th><th>age</th><th>is_subscriber</th><th>session_id</th><th>postcode</th><th>trendiness_score_1d</th><th>trendiness_score_3d</th><th>trendiness_score_5d</th><th>trendiness_score_3d_leak</th><th>weekday</th><th>hour</th><th>trendiness_score_1d/3d</th><th>trendiness_score_1d/5d</th><th>normalized_trendiness_score_overall</th><th>premium</th><th>published_time</th><th>category</th><th>sentiment_score</th><th>sentiment_label</th><th>num_images</th><th>title_len</th><th>subtitle_len</th><th>body_len</th><th>num_topics</th><th>total_pageviews</th><th>total_inviews</th><th>total_read_time</th><th>total_pageviews/inviews</th><th>&hellip;</th><th>mean_user_trendiness_score</th><th>mean_topics_trendiness_score</th><th>mean_topics_mean_delay_days</th><th>mean_topics_mean_delay_hours</th><th>user_mean_delay_days</th><th>user_mean_delay_hours</th><th>window_0_history_length</th><th>window_1_history_length</th><th>window_2_history_length</th><th>window_3_history_length</th><th>is_inside_window_0</th><th>is_inside_window_1</th><th>is_inside_window_2</th><th>is_inside_window_3</th><th>window_category_score</th><th>window_topics_score</th><th>trendiness_score_category</th><th>endorsement_10h</th><th>normalized_endorsement_10h</th><th>endorsement_10h_diff_rolling</th><th>endorsement_macd</th><th>endorsement_quantile_norm_10h</th><th>normalized_endorsement_10h_rolling_max_ratio</th><th>endorsement_20h_articleuser</th><th>normalized_endorsement_articleuser_20h</th><th>endorsement_20h_articleuser_diff_rolling</th><th>endorsement_articleuser_macd</th><th>endorsement_articleuser_quantile_norm_20h</th><th>normalized_endorsement_articleuser_20h_rolling_max_ratio</th><th>endorsement_10h_leak</th><th>normalized_endorsement_10h_right</th><th>endorsement_10h_leak_diff_rolling</th><th>endorsement_leak_macd</th><th>endorsement_quantile_norm_10h_leak</th><th>normalized_endorsement_10h_leak_rolling_max_ratio</th><th>clicked_count</th><th>inview_count</th></tr><tr><td>u32</td><td>i32</td><td>u32</td><td>datetime[μs]</td><td>i8</td><td>i8</td><td>f32</td><td>f32</td><td>bool</td><td>i8</td><td>i8</td><td>bool</td><td>u32</td><td>i8</td><td>i16</td><td>i16</td><td>i16</td><td>i16</td><td>i8</td><td>i8</td><td>f32</td><td>f32</td><td>f32</td><td>bool</td><td>datetime[μs]</td><td>i16</td><td>f32</td><td>str</td><td>u32</td><td>u8</td><td>u8</td><td>u16</td><td>u32</td><td>i32</td><td>i32</td><td>f32</td><td>f32</td><td>&hellip;</td><td>f32</td><td>f32</td><td>f32</td><td>f32</td><td>f32</td><td>f32</td><td>i16</td><td>i16</td><td>i16</td><td>i16</td><td>i8</td><td>i8</td><td>i8</td><td>i8</td><td>i16</td><td>i16</td><td>i8</td><td>u16</td><td>f32</td><td>f32</td><td>f32</td><td>f32</td><td>f32</td><td>u8</td><td>f32</td><td>f32</td><td>f32</td><td>f32</td><td>f32</td><td>i16</td><td>f32</td><td>f32</td><td>f32</td><td>f32</td><td>f32</td><td>u32</td><td>u16</td></tr></thead><tbody><tr><td>41650737</td><td>9767697</td><td>1260010</td><td>2023-05-18 07:00:01</td><td>1</td><td>1</td><td>38.0</td><td>null</td><td>false</td><td>2</td><td>null</td><td>false</td><td>1442549</td><td>5</td><td>50</td><td>187</td><td>238</td><td>116</td><td>4</td><td>7</td><td>0.26738</td><td>0.210084</td><td>0.363107</td><td>false</td><td>2023-05-18 06:22:53</td><td>118</td><td>0.9613</td><td>&quot;Negative&quot;</td><td>5</td><td>7</td><td>2</td><td>982</td><td>3</td><td>199205</td><td>954408</td><td>2.595362e7</td><td>0.208721</td><td>&hellip;</td><td>236.066666</td><td>284.920959</td><td>3.443193</td><td>85.053078</td><td>0.0</td><td>1.6</td><td>14</td><td>1</td><td>0</td><td>6</td><td>1</td><td>0</td><td>0</td><td>0</td><td>6</td><td>11</td><td>96</td><td>14</td><td>0.041916</td><td>0.0</td><td>0.0</td><td>2.0</td><td>1.0</td><td>1</td><td>0.111111</td><td>0.0</td><td>0.0</td><td>1.0</td><td>1.0</td><td>3340</td><td>0.030563</td><td>6.7</td><td>3.1</td><td>1.56367</td><td>1.0</td><td>929</td><td>5859</td></tr><tr><td>579742841</td><td>9767534</td><td>362240</td><td>2023-05-18 07:00:07</td><td>0</td><td>1</td><td>88.0</td><td>null</td><td>false</td><td>2</td><td>null</td><td>false</td><td>1771620</td><td>5</td><td>29</td><td>114</td><td>169</td><td>103</td><td>4</td><td>7</td><td>0.254386</td><td>0.171598</td><td>0.221359</td><td>false</td><td>2023-05-16 20:54:50</td><td>140</td><td>0.7544</td><td>&quot;Negative&quot;</td><td>1</td><td>6</td><td>21</td><td>212</td><td>5</td><td>215654</td><td>1205903</td><td>1.0432497e7</td><td>0.178832</td><td>&hellip;</td><td>192.800003</td><td>132.723724</td><td>5.302028</td><td>129.682739</td><td>0.266667</td><td>10.666667</td><td>15</td><td>0</td><td>0</td><td>0</td><td>1</td><td>0</td><td>0</td><td>0</td><td>3</td><td>3</td><td>67</td><td>3</td><td>0.008982</td><td>0.0</td><td>0.0</td><td>0.428571</td><td>0.2</td><td>1</td><td>0.030303</td><td>0.0</td><td>0.0</td><td>1.0</td><td>1.0</td><td>1009</td><td>0.012784</td><td>3.3</td><td>4.5</td><td>0.511145</td><td>0.413186</td><td>3133</td><td>2513</td></tr><tr><td>271334979</td><td>9417521</td><td>268275</td><td>2023-05-18 07:00:29</td><td>0</td><td>1</td><td>31.0</td><td>100.0</td><td>false</td><td>2</td><td>null</td><td>false</td><td>1770914</td><td>5</td><td>7</td><td>33</td><td>44</td><td>32</td><td>4</td><td>7</td><td>0.212121</td><td>0.159091</td><td>0.064078</td><td>true</td><td>2022-09-12 17:50:50</td><td>565</td><td>0.7289</td><td>&quot;Neutral&quot;</td><td>2</td><td>7</td><td>15</td><td>654</td><td>2</td><td>null</td><td>null</td><td>null</td><td>null</td><td>&hellip;</td><td>282.16394</td><td>191.472092</td><td>84.034439</td><td>2022.176392</td><td>3.016393</td><td>76.52459</td><td>90</td><td>33</td><td>5</td><td>62</td><td>1</td><td>0</td><td>0</td><td>0</td><td>0</td><td>2</td><td>1</td><td>1</td><td>0.002994</td><td>0.0</td><td>0.0</td><td>0.142857</td><td>0.5</td><td>1</td><td>0.047619</td><td>0.0</td><td>0.0</td><td>1.0</td><td>1.0</td><td>331</td><td>0.003986</td><td>3.8</td><td>2.6</td><td>0.171592</td><td>0.495509</td><td>81</td><td>4051</td></tr><tr><td>550481897</td><td>9657528</td><td>2039130</td><td>2023-05-18 07:00:27</td><td>0</td><td>1</td><td>98.0</td><td>100.0</td><td>false</td><td>2</td><td>null</td><td>false</td><td>1679074</td><td>5</td><td>7</td><td>17</td><td>66</td><td>12</td><td>4</td><td>7</td><td>0.411765</td><td>0.106061</td><td>0.03301</td><td>false</td><td>2023-03-02 14:49:58</td><td>414</td><td>0.7882</td><td>&quot;Positive&quot;</td><td>1</td><td>4</td><td>11</td><td>233</td><td>2</td><td>72719</td><td>325517</td><td>3.620928e6</td><td>0.223395</td><td>&hellip;</td><td>237.067413</td><td>270.067261</td><td>19.106453</td><td>461.467926</td><td>11.719101</td><td>283.651672</td><td>55</td><td>34</td><td>21</td><td>20</td><td>1</td><td>0</td><td>0</td><td>0</td><td>7</td><td>0</td><td>49</td><td>1</td><td>0.002994</td><td>0.0</td><td>0.0</td><td>0.142857</td><td>0.333333</td><td>1</td><td>0.05</td><td>0.0</td><td>0.0</td><td>1.0</td><td>1.0</td><td>9</td><td>0.000079</td><td>-1.8</td><td>1.8</td><td>0.00455</td><td>0.00536</td><td>80</td><td>20</td></tr><tr><td>346943718</td><td>9514481</td><td>166553</td><td>2023-05-18 07:00:10</td><td>0</td><td>2</td><td>30.0</td><td>null</td><td>false</td><td>2</td><td>null</td><td>false</td><td>643203</td><td>5</td><td>8</td><td>37</td><td>49</td><td>34</td><td>4</td><td>7</td><td>0.216216</td><td>0.163265</td><td>0.071845</td><td>true</td><td>2022-11-16 11:15:32</td><td>414</td><td>0.9501</td><td>&quot;Neutral&quot;</td><td>7</td><td>9</td><td>30</td><td>371</td><td>3</td><td>null</td><td>null</td><td>null</td><td>null</td><td>&hellip;</td><td>178.580643</td><td>180.074875</td><td>89.710144</td><td>2158.245117</td><td>1.147465</td><td>29.62212</td><td>141</td><td>75</td><td>21</td><td>1</td><td>1</td><td>0</td><td>0</td><td>0</td><td>10</td><td>9</td><td>49</td><td>1</td><td>0.002994</td><td>0.0</td><td>0.0</td><td>0.142857</td><td>0.333333</td><td>1</td><td>0.066667</td><td>0.0</td><td>0.0</td><td>1.0</td><td>1.0</td><td>406</td><td>0.004889</td><td>5.7</td><td>3.5</td><td>0.210472</td><td>0.225681</td><td>103</td><td>7322</td></tr></tbody></table></div>"
      ],
      "text/plain": [
       "shape: (5, 89)\n",
       "┌────────────┬─────────┬─────────┬────────────┬───┬────────────┬───────────┬───────────┬───────────┐\n",
       "│ impression ┆ article ┆ user_id ┆ impression ┆ … ┆ endorsemen ┆ normalize ┆ clicked_c ┆ inview_co │\n",
       "│ _id        ┆ ---     ┆ ---     ┆ _time      ┆   ┆ t_quantile ┆ d_endorse ┆ ount      ┆ unt       │\n",
       "│ ---        ┆ i32     ┆ u32     ┆ ---        ┆   ┆ _norm_10h_ ┆ ment_10h_ ┆ ---       ┆ ---       │\n",
       "│ u32        ┆         ┆         ┆ datetime[μ ┆   ┆ …          ┆ lea…      ┆ u32       ┆ u16       │\n",
       "│            ┆         ┆         ┆ s]         ┆   ┆ ---        ┆ ---       ┆           ┆           │\n",
       "│            ┆         ┆         ┆            ┆   ┆ f32        ┆ f32       ┆           ┆           │\n",
       "╞════════════╪═════════╪═════════╪════════════╪═══╪════════════╪═══════════╪═══════════╪═══════════╡\n",
       "│ 41650737   ┆ 9767697 ┆ 1260010 ┆ 2023-05-18 ┆ … ┆ 1.56367    ┆ 1.0       ┆ 929       ┆ 5859      │\n",
       "│            ┆         ┆         ┆ 07:00:01   ┆   ┆            ┆           ┆           ┆           │\n",
       "│ 579742841  ┆ 9767534 ┆ 362240  ┆ 2023-05-18 ┆ … ┆ 0.511145   ┆ 0.413186  ┆ 3133      ┆ 2513      │\n",
       "│            ┆         ┆         ┆ 07:00:07   ┆   ┆            ┆           ┆           ┆           │\n",
       "│ 271334979  ┆ 9417521 ┆ 268275  ┆ 2023-05-18 ┆ … ┆ 0.171592   ┆ 0.495509  ┆ 81        ┆ 4051      │\n",
       "│            ┆         ┆         ┆ 07:00:29   ┆   ┆            ┆           ┆           ┆           │\n",
       "│ 550481897  ┆ 9657528 ┆ 2039130 ┆ 2023-05-18 ┆ … ┆ 0.00455    ┆ 0.00536   ┆ 80        ┆ 20        │\n",
       "│            ┆         ┆         ┆ 07:00:27   ┆   ┆            ┆           ┆           ┆           │\n",
       "│ 346943718  ┆ 9514481 ┆ 166553  ┆ 2023-05-18 ┆ … ┆ 0.210472   ┆ 0.225681  ┆ 103       ┆ 7322      │\n",
       "│            ┆         ┆         ┆ 07:00:10   ┆   ┆            ┆           ┆           ┆           │\n",
       "└────────────┴─────────┴─────────┴────────────┴───┴────────────┴───────────┴───────────┴───────────┘"
      ]
     },
     "execution_count": 32,
     "metadata": {},
     "output_type": "execute_result"
    }
   ],
   "source": [
    "%%time\n",
    "\n",
    "NPRATIO = 2\n",
    "\n",
    "users_mean_trendiness_scores, topics_mean_trendiness_scores = _preprocessing_history_trendiness_scores(\n",
    "        history=history_train, articles=articles)\n",
    "topic_mean_delays, user_mean_delays = _preprocessing_mean_delay_features(\n",
    "    articles=articles, history=history_train)\n",
    "windows, user_windows, user_topics_windows, user_category_windows = _preprocessing_window_features(\n",
    "    history=history_train, articles=articles)\n",
    "articles_endorsement = _preprocessing_article_endorsement_feature(\n",
    "    behaviors=behaviors_train, period=\"10h\")\n",
    "normalized_endorsement = normalize_endorsement(articles_endorsement)\n",
    "articles_endorsement_articleuser = _preprocessing_article_endorsement_feature_by_article_and_user(\n",
    "    behaviors=behaviors_train, period=\"20h\")\n",
    "normalized_endorsement_articleuser = normalize_endorsement_by_article_and_user(articles_endorsement_articleuser)\n",
    "\n",
    "topics = articles.select(\"topics\").explode(\"topics\").unique()\n",
    "topics = [topic for topic in topics[\"topics\"] if topic is not None]\n",
    "\n",
    "history_counts=history_train.select(['article_id_fixed']).explode('article_id_fixed').group_by('article_id_fixed').len() \\\n",
    ".rename({'article_id_fixed':'article','len':'clicked_count'})\n",
    "\n",
    "behaviors_counts=behaviors_train.select('article_ids_inview').explode('article_ids_inview').group_by('article_ids_inview').len() \\\n",
    ".rename({'article_ids_inview':'article','len':'inview_count'})\n",
    "\n",
    "# dropping duplicates that can occur because of sampling strategy\n",
    "train_ds = behaviors_train.pipe(create_binary_labels_column, shuffle=True, seed=123) \\\n",
    "    .with_columns(pl.col('gender').fill_null(2)) \\\n",
    "    .with_columns(pl.col('postcode').fill_null(5)) \\\n",
    "    .select(['impression_id', 'article_ids_inview', 'impression_time', 'labels', \n",
    "             'device_type', 'read_time', 'scroll_percentage', 'user_id', 'is_sso_user', 'gender',\n",
    "             'age', 'is_subscriber', 'session_id', 'postcode']) \\\n",
    "    .explode(['article_ids_inview', 'labels']) \\\n",
    "    .rename({'article_ids_inview': 'article', 'labels': 'target'}) \\\n",
    "    .with_columns(pl.col('article').cast(pl.Int32)) \\\n",
    "    .pipe(add_trendiness_feature, articles=articles, period='1d') \\\n",
    "    .rename({'trendiness_score': 'trendiness_score_1d'}) \\\n",
    "    .pipe(add_trendiness_feature, articles=articles, period='3d') \\\n",
    "    .rename({'trendiness_score': 'trendiness_score_3d'}) \\\n",
    "    .pipe(add_trendiness_feature, articles=articles, period='5d') \\\n",
    "    .rename({'trendiness_score': 'trendiness_score_5d'}) \\\n",
    "    .pipe(add_trendiness_feature_leak, articles=articles, period='3d') \\\n",
    "    .rename({'trendiness_score_leak':'trendiness_score_3d_leak'}) \\\n",
    "    .unique(['impression_id', 'article']) \\\n",
    "    .with_columns(\n",
    "        pl.col('impression_time').dt.weekday().alias('weekday'),\n",
    "        pl.col('impression_time').dt.hour().alias('hour'),\n",
    "        pl.col('article').cast(pl.Int32),\n",
    "        (\n",
    "            pl.col('trendiness_score_1d') / \n",
    "            pl.col('trendiness_score_3d')\n",
    "        ).alias('trendiness_score_1d/3d'),\n",
    "        (\n",
    "            pl.col('trendiness_score_1d') / \n",
    "            pl.col('trendiness_score_5d')\n",
    "        ).alias('trendiness_score_1d/5d'),\n",
    "        (\n",
    "            pl.col('trendiness_score_3d') / \n",
    "            pl.col('trendiness_score_3d').max().over(pl.col('impression_time').dt.date())\n",
    "        ).alias('normalized_trendiness_score_overall'),\n",
    "    ).join(articles.select(['article_id', 'premium', 'published_time', 'category',\n",
    "                            'sentiment_score', 'sentiment_label', 'entity_groups',\n",
    "                            'num_images', 'title_len', 'subtitle_len', 'body_len','num_topics',\n",
    "                            'total_pageviews', 'total_inviews', 'total_read_time', \n",
    "                            'total_pageviews/inviews', 'article_type']),\n",
    "           left_on='article', right_on='article_id', how='left') \\\n",
    "    .with_columns(\n",
    "        (pl.col('impression_time') - pl.col('published_time')).dt.total_days().alias('article_delay_days'),\n",
    "        (pl.col('impression_time') - pl.col('published_time')).dt.total_hours().alias('article_delay_hours'),\n",
    "    ).with_columns(\n",
    "        pl.col('entity_groups').list.contains(entity).alias(f'Entity_{entity}_Present')\n",
    "        for entity in unique_entities\n",
    "    ).drop('entity_groups') \\\n",
    "    .join(behaviors_ner_scores, on=['impression_id', 'article'], how='left') \\\n",
    "    .pipe(add_history_trendiness_scores_feature, articles=articles, \n",
    "          users_mean_trendiness_scores=users_mean_trendiness_scores,\n",
    "          topics_mean_trendiness_scores=topics_mean_trendiness_scores, topics=topics) \\\n",
    "    .pipe(add_mean_delays_features, articles=articles,\n",
    "          topic_mean_delays=topic_mean_delays, user_mean_delays=user_mean_delays) \\\n",
    "    .pipe(add_window_features, articles=articles, user_windows=user_windows,\n",
    "          user_category_windows=user_category_windows, \n",
    "          user_topics_windows=user_topics_windows, windows=windows) \\\n",
    "    .pipe(add_trendiness_feature_categories, articles=articles) \\\n",
    "    .pipe(add_article_endorsement_feature, normalized_endorsement=normalized_endorsement) \\\n",
    "    .pipe(add_article_endorsement_feature_by_article_and_user, normalized_endorsement = normalized_endorsement_articleuser) \\\n",
    "    .pipe(add_article_endorsement_feature_leak, normalized_endorsement = normalized_endorsement) \\\n",
    "    .rename({\n",
    "        \"endorsement_10h_diff_rolling_right\":\"endorsement_10h_leak_diff_rolling\",\n",
    "        \"endorsement_macd_right\":\"endorsement_leak_macd\",\n",
    "        \"endorsement_quantile_norm_10h_right\":\"endorsement_quantile_norm_10h_leak\",\n",
    "        \"normalized_endorsement_10h_rolling_max_ratio_right\":\"normalized_endorsement_10h_leak_rolling_max_ratio\"\n",
    "    }).join(history_counts, on='article',how='left') \\\n",
    "    .join(behaviors_counts , on='article', how='left')\n",
    "\n",
    "gc.collect()\n",
    "PrintColor(f\"\\n\" + GetMemUsage(), color = Fore.RED)\n",
    "\n",
    "train_ds = reduce_polars_df_memory_size(train_ds)\n",
    "PrintColor(f\"\\n\" + GetMemUsage(), color = Fore.RED)\n",
    "train_ds.head()"
   ]
  },
  {
   "cell_type": "code",
   "execution_count": 33,
   "id": "286ebc20",
   "metadata": {
    "execution": {
     "iopub.execute_input": "2024-05-19T17:04:29.948046Z",
     "iopub.status.busy": "2024-05-19T17:04:29.947020Z",
     "iopub.status.idle": "2024-05-19T17:04:29.953636Z",
     "shell.execute_reply": "2024-05-19T17:04:29.952771Z"
    },
    "papermill": {
     "duration": 0.054735,
     "end_time": "2024-05-19T17:04:29.955516",
     "exception": false,
     "start_time": "2024-05-19T17:04:29.900781",
     "status": "completed"
    },
    "tags": []
   },
   "outputs": [
    {
     "data": {
      "text/plain": [
       "(2585747, 89)"
      ]
     },
     "execution_count": 33,
     "metadata": {},
     "output_type": "execute_result"
    }
   ],
   "source": [
    "train_ds.shape"
   ]
  },
  {
   "cell_type": "markdown",
   "id": "b5b8515d",
   "metadata": {
    "papermill": {
     "duration": 0.044882,
     "end_time": "2024-05-19T17:04:30.046271",
     "exception": false,
     "start_time": "2024-05-19T17:04:30.001389",
     "status": "completed"
    },
    "tags": []
   },
   "source": [
    "## Session Features"
   ]
  },
  {
   "cell_type": "code",
   "execution_count": 34,
   "id": "3b75b9d4",
   "metadata": {
    "execution": {
     "iopub.execute_input": "2024-05-19T17:04:30.140658Z",
     "iopub.status.busy": "2024-05-19T17:04:30.139728Z",
     "iopub.status.idle": "2024-05-19T17:04:30.144966Z",
     "shell.execute_reply": "2024-05-19T17:04:30.144038Z"
    },
    "papermill": {
     "duration": 0.054927,
     "end_time": "2024-05-19T17:04:30.147055",
     "exception": false,
     "start_time": "2024-05-19T17:04:30.092128",
     "status": "completed"
    },
    "tags": []
   },
   "outputs": [],
   "source": [
    "# behaviors_train.select(['session_id', 'impression_time', 'article_ids_clicked']) \\\n",
    "#     .group_by('session_id').map_groups(\n",
    "#         lambda group: group.explode('article_ids_clicked').sort('impression_time') \\\n",
    "#             .select(\n",
    "#                 pl.col('session_id').first(),\n",
    "#                 pl.col('article_ids_clicked').first().alias('article_id'),\n",
    "#                 (pl.col('impression_time').last() - pl.col('impression_time').first()).dt.total_minutes().alias('induced_session_len'),\n",
    "#                 (pl.col('impression_time').count() - 1).alias('num_clicked_articles_following')\n",
    "#             )\n",
    "#     ).group_by('article_id').agg(\n",
    "#         pl.col('num_clicked_articles_following').mean().alias('mean_num_clicked_articles_following'),\n",
    "#         pl.col('induced_session_len').mean().alias('mean_induced_session_len'),\n",
    "#     )"
   ]
  },
  {
   "cell_type": "code",
   "execution_count": 35,
   "id": "73bc8bee",
   "metadata": {
    "execution": {
     "iopub.execute_input": "2024-05-19T17:04:30.241071Z",
     "iopub.status.busy": "2024-05-19T17:04:30.240596Z",
     "iopub.status.idle": "2024-05-19T17:04:31.441628Z",
     "shell.execute_reply": "2024-05-19T17:04:31.440496Z"
    },
    "papermill": {
     "duration": 1.250156,
     "end_time": "2024-05-19T17:04:31.443957",
     "exception": false,
     "start_time": "2024-05-19T17:04:30.193801",
     "status": "completed"
    },
    "tags": []
   },
   "outputs": [
    {
     "name": "stdout",
     "output_type": "stream",
     "text": [
      "\u001b[1m\u001b[31m\n",
      "RAM memory GB usage = 2.662\u001b[0m\n",
      "CPU times: user 1.48 s, sys: 114 ms, total: 1.59 s\n",
      "Wall time: 1.18 s\n"
     ]
    },
    {
     "data": {
      "text/html": [
       "<div><style>\n",
       ".dataframe > thead > tr,\n",
       ".dataframe > tbody > tr {\n",
       "  text-align: right;\n",
       "  white-space: pre-wrap;\n",
       "}\n",
       "</style>\n",
       "<small>shape: (2, 5)</small><table border=\"1\" class=\"dataframe\"><thead><tr><th>session_id</th><th>last_session_time</th><th>last_session_duration</th><th>all_seen_articles</th><th>mean_prev_sessions_duration</th></tr><tr><td>u32</td><td>datetime[μs]</td><td>i64</td><td>list[i32]</td><td>f64</td></tr></thead><tbody><tr><td>979075</td><td>2023-05-17 21:12:27</td><td>0</td><td>[8922242]</td><td>0.0</td></tr><tr><td>669488</td><td>2023-05-17 10:47:38</td><td>0</td><td>[9769804]</td><td>0.0</td></tr></tbody></table></div>"
      ],
      "text/plain": [
       "shape: (2, 5)\n",
       "┌────────────┬─────────────────────┬─────────────────────┬───────────────────┬─────────────────────┐\n",
       "│ session_id ┆ last_session_time   ┆ last_session_durati ┆ all_seen_articles ┆ mean_prev_sessions_ │\n",
       "│ ---        ┆ ---                 ┆ on                  ┆ ---               ┆ duration            │\n",
       "│ u32        ┆ datetime[μs]        ┆ ---                 ┆ list[i32]         ┆ ---                 │\n",
       "│            ┆                     ┆ i64                 ┆                   ┆ f64                 │\n",
       "╞════════════╪═════════════════════╪═════════════════════╪═══════════════════╪═════════════════════╡\n",
       "│ 979075     ┆ 2023-05-17 21:12:27 ┆ 0                   ┆ [8922242]         ┆ 0.0                 │\n",
       "│ 669488     ┆ 2023-05-17 10:47:38 ┆ 0                   ┆ [9769804]         ┆ 0.0                 │\n",
       "└────────────┴─────────────────────┴─────────────────────┴───────────────────┴─────────────────────┘"
      ]
     },
     "execution_count": 35,
     "metadata": {},
     "output_type": "execute_result"
    }
   ],
   "source": [
    "%%time\n",
    "\n",
    "last_history_df = history_train.with_columns(\n",
    "    pl.col('impression_time_fixed').list.max().alias('last_history_impression_time'),\n",
    "    pl.col('article_id_fixed').list.tail(1).alias('last_history_article'),\n",
    ").select(['user_id', 'last_history_impression_time', 'last_history_article'])\n",
    "\n",
    "last_session_time_df = behaviors_train.select(['session_id', 'user_id', 'impression_time', 'article_ids_inview']) \\\n",
    "    .group_by('session_id').agg(\n",
    "        pl.col('user_id').first(), \n",
    "        pl.col('impression_time').max().alias('session_time'), \n",
    "        pl.col('article_ids_inview').flatten().alias('all_seen_articles'),\n",
    "        (pl.col('impression_time').max() - pl.col('impression_time').min()).dt.total_minutes().alias('session_duration'),\n",
    "    ).with_columns(\n",
    "        pl.col(['session_time', 'session_duration']).shift(1).over('user_id').name.prefix('last_'),\n",
    "        pl.col('all_seen_articles').list.unique().shift(1).over('user_id'),\n",
    "        pl.col('session_duration').rolling_mean(100, min_periods=1).over('user_id').alias('mean_prev_sessions_duration'),\n",
    "    ).with_columns(pl.col(['last_session_duration']).fill_null(0)) \\\n",
    "    .join(last_history_df, on='user_id', how='left') \\\n",
    "    .with_columns(\n",
    "        pl.col('last_session_time').fill_null(pl.col('last_history_impression_time')),\n",
    "        pl.col('all_seen_articles').fill_null(pl.col('last_history_article')),\n",
    "    ).select(['session_id', 'last_session_time', 'last_session_duration', \n",
    "              'all_seen_articles', 'mean_prev_sessions_duration'])\n",
    "    \n",
    "gc.collect()\n",
    "PrintColor(f\"\\n\" + GetMemUsage(), color = Fore.RED)\n",
    "last_session_time_df.head(2)"
   ]
  },
  {
   "cell_type": "code",
   "execution_count": 36,
   "id": "3f8ad784",
   "metadata": {
    "execution": {
     "iopub.execute_input": "2024-05-19T17:04:31.545140Z",
     "iopub.status.busy": "2024-05-19T17:04:31.544648Z",
     "iopub.status.idle": "2024-05-19T17:04:33.559429Z",
     "shell.execute_reply": "2024-05-19T17:04:33.557459Z"
    },
    "papermill": {
     "duration": 2.068938,
     "end_time": "2024-05-19T17:04:33.561624",
     "exception": false,
     "start_time": "2024-05-19T17:04:31.492686",
     "status": "completed"
    },
    "tags": []
   },
   "outputs": [
    {
     "name": "stdout",
     "output_type": "stream",
     "text": [
      "\u001b[1m\u001b[31m\n",
      "RAM memory GB usage = 3.045\u001b[0m\n"
     ]
    },
    {
     "data": {
      "text/html": [
       "<div><style>\n",
       ".dataframe > thead > tr,\n",
       ".dataframe > tbody > tr {\n",
       "  text-align: right;\n",
       "  white-space: pre-wrap;\n",
       "}\n",
       "</style>\n",
       "<small>shape: (2, 92)</small><table border=\"1\" class=\"dataframe\"><thead><tr><th>impression_id</th><th>article</th><th>user_id</th><th>impression_time</th><th>target</th><th>device_type</th><th>read_time</th><th>scroll_percentage</th><th>is_sso_user</th><th>gender</th><th>age</th><th>is_subscriber</th><th>postcode</th><th>trendiness_score_1d</th><th>trendiness_score_3d</th><th>trendiness_score_5d</th><th>trendiness_score_3d_leak</th><th>weekday</th><th>hour</th><th>trendiness_score_1d/3d</th><th>trendiness_score_1d/5d</th><th>normalized_trendiness_score_overall</th><th>premium</th><th>category</th><th>sentiment_score</th><th>sentiment_label</th><th>num_images</th><th>title_len</th><th>subtitle_len</th><th>body_len</th><th>num_topics</th><th>total_pageviews</th><th>total_inviews</th><th>total_read_time</th><th>total_pageviews/inviews</th><th>article_type</th><th>article_delay_days</th><th>&hellip;</th><th>user_mean_delay_hours</th><th>window_0_history_length</th><th>window_1_history_length</th><th>window_2_history_length</th><th>window_3_history_length</th><th>is_inside_window_0</th><th>is_inside_window_1</th><th>is_inside_window_2</th><th>is_inside_window_3</th><th>window_category_score</th><th>window_topics_score</th><th>trendiness_score_category</th><th>endorsement_10h</th><th>normalized_endorsement_10h</th><th>endorsement_10h_diff_rolling</th><th>endorsement_macd</th><th>endorsement_quantile_norm_10h</th><th>normalized_endorsement_10h_rolling_max_ratio</th><th>endorsement_20h_articleuser</th><th>normalized_endorsement_articleuser_20h</th><th>endorsement_20h_articleuser_diff_rolling</th><th>endorsement_articleuser_macd</th><th>endorsement_articleuser_quantile_norm_20h</th><th>normalized_endorsement_articleuser_20h_rolling_max_ratio</th><th>endorsement_10h_leak</th><th>normalized_endorsement_10h_right</th><th>endorsement_10h_leak_diff_rolling</th><th>endorsement_leak_macd</th><th>endorsement_quantile_norm_10h_leak</th><th>normalized_endorsement_10h_leak_rolling_max_ratio</th><th>clicked_count</th><th>inview_count</th><th>last_session_duration</th><th>mean_prev_sessions_duration</th><th>last_session_time_hour_diff</th><th>is_new_article</th><th>is_already_seen_article</th></tr><tr><td>u32</td><td>i32</td><td>u32</td><td>datetime[μs]</td><td>i8</td><td>i8</td><td>f32</td><td>f32</td><td>bool</td><td>i8</td><td>i8</td><td>bool</td><td>i8</td><td>i16</td><td>i16</td><td>i16</td><td>i16</td><td>i8</td><td>i8</td><td>f32</td><td>f32</td><td>f32</td><td>bool</td><td>i16</td><td>f32</td><td>str</td><td>u32</td><td>u8</td><td>u8</td><td>u16</td><td>u32</td><td>i32</td><td>i32</td><td>f32</td><td>f32</td><td>str</td><td>i16</td><td>&hellip;</td><td>f32</td><td>i16</td><td>i16</td><td>i16</td><td>i16</td><td>i8</td><td>i8</td><td>i8</td><td>i8</td><td>i16</td><td>i16</td><td>i8</td><td>u16</td><td>f32</td><td>f32</td><td>f32</td><td>f32</td><td>f32</td><td>u8</td><td>f32</td><td>f32</td><td>f32</td><td>f32</td><td>f32</td><td>i16</td><td>f32</td><td>f32</td><td>f32</td><td>f32</td><td>f32</td><td>u32</td><td>u16</td><td>i64</td><td>f64</td><td>i64</td><td>bool</td><td>bool</td></tr></thead><tbody><tr><td>41650737</td><td>9767697</td><td>1260010</td><td>2023-05-18 07:00:01</td><td>1</td><td>1</td><td>38.0</td><td>null</td><td>false</td><td>2</td><td>null</td><td>false</td><td>5</td><td>50</td><td>187</td><td>238</td><td>116</td><td>4</td><td>7</td><td>0.26738</td><td>0.210084</td><td>0.363107</td><td>false</td><td>118</td><td>0.9613</td><td>&quot;Negative&quot;</td><td>5</td><td>7</td><td>2</td><td>982</td><td>3</td><td>199205</td><td>954408</td><td>2.595362e7</td><td>0.208721</td><td>&quot;article_default&quot;</td><td>0</td><td>&hellip;</td><td>1.6</td><td>14</td><td>1</td><td>0</td><td>6</td><td>1</td><td>0</td><td>0</td><td>0</td><td>6</td><td>11</td><td>96</td><td>14</td><td>0.041916</td><td>0.0</td><td>0.0</td><td>2.0</td><td>1.0</td><td>1</td><td>0.111111</td><td>0.0</td><td>0.0</td><td>1.0</td><td>1.0</td><td>3340</td><td>0.030563</td><td>6.7</td><td>3.1</td><td>1.56367</td><td>1.0</td><td>929</td><td>5859</td><td>0</td><td>0.0</td><td>-167</td><td>true</td><td>false</td></tr><tr><td>579742841</td><td>9767534</td><td>362240</td><td>2023-05-18 07:00:07</td><td>0</td><td>1</td><td>88.0</td><td>null</td><td>false</td><td>2</td><td>null</td><td>false</td><td>5</td><td>29</td><td>114</td><td>169</td><td>103</td><td>4</td><td>7</td><td>0.254386</td><td>0.171598</td><td>0.221359</td><td>false</td><td>140</td><td>0.7544</td><td>&quot;Negative&quot;</td><td>1</td><td>6</td><td>21</td><td>212</td><td>5</td><td>215654</td><td>1205903</td><td>1.0432497e7</td><td>0.178832</td><td>&quot;article_default&quot;</td><td>1</td><td>&hellip;</td><td>10.666667</td><td>15</td><td>0</td><td>0</td><td>0</td><td>1</td><td>0</td><td>0</td><td>0</td><td>3</td><td>3</td><td>67</td><td>3</td><td>0.008982</td><td>0.0</td><td>0.0</td><td>0.428571</td><td>0.2</td><td>1</td><td>0.030303</td><td>0.0</td><td>0.0</td><td>1.0</td><td>1.0</td><td>1009</td><td>0.012784</td><td>3.3</td><td>4.5</td><td>0.511145</td><td>0.413186</td><td>3133</td><td>2513</td><td>0</td><td>1.0</td><td>0</td><td>true</td><td>false</td></tr></tbody></table></div>"
      ],
      "text/plain": [
       "shape: (2, 92)\n",
       "┌────────────┬─────────┬─────────┬────────────┬───┬────────────┬───────────┬───────────┬───────────┐\n",
       "│ impression ┆ article ┆ user_id ┆ impression ┆ … ┆ mean_prev_ ┆ last_sess ┆ is_new_ar ┆ is_alread │\n",
       "│ _id        ┆ ---     ┆ ---     ┆ _time      ┆   ┆ sessions_d ┆ ion_time_ ┆ ticle     ┆ y_seen_ar │\n",
       "│ ---        ┆ i32     ┆ u32     ┆ ---        ┆   ┆ uration    ┆ hour_diff ┆ ---       ┆ ticle     │\n",
       "│ u32        ┆         ┆         ┆ datetime[μ ┆   ┆ ---        ┆ ---       ┆ bool      ┆ ---       │\n",
       "│            ┆         ┆         ┆ s]         ┆   ┆ f64        ┆ i64       ┆           ┆ bool      │\n",
       "╞════════════╪═════════╪═════════╪════════════╪═══╪════════════╪═══════════╪═══════════╪═══════════╡\n",
       "│ 41650737   ┆ 9767697 ┆ 1260010 ┆ 2023-05-18 ┆ … ┆ 0.0        ┆ -167      ┆ true      ┆ false     │\n",
       "│            ┆         ┆         ┆ 07:00:01   ┆   ┆            ┆           ┆           ┆           │\n",
       "│ 579742841  ┆ 9767534 ┆ 362240  ┆ 2023-05-18 ┆ … ┆ 1.0        ┆ 0         ┆ true      ┆ false     │\n",
       "│            ┆         ┆         ┆ 07:00:07   ┆   ┆            ┆           ┆           ┆           │\n",
       "└────────────┴─────────┴─────────┴────────────┴───┴────────────┴───────────┴───────────┴───────────┘"
      ]
     },
     "execution_count": 36,
     "metadata": {},
     "output_type": "execute_result"
    }
   ],
   "source": [
    "train_ds = train_ds.join(last_session_time_df, on='session_id', how='left').with_columns(\n",
    "    (pl.col('impression_time') - pl.col('last_session_time')).dt.total_hours().alias('last_session_time_hour_diff'),\n",
    "    ((pl.col('last_session_time') - pl.col('published_time')).dt.total_hours() > 0).alias('is_new_article'),\n",
    "    pl.col('all_seen_articles').list.contains(pl.col('article')).alias('is_already_seen_article'),\n",
    ").drop(['published_time', 'session_id', 'all_seen_articles', 'last_session_time'])\n",
    "\n",
    "gc.collect()\n",
    "PrintColor(f\"\\n\" + GetMemUsage(), color = Fore.RED)\n",
    "train_ds.head(2)"
   ]
  },
  {
   "cell_type": "code",
   "execution_count": 37,
   "id": "0d107963",
   "metadata": {
    "execution": {
     "iopub.execute_input": "2024-05-19T17:04:33.658214Z",
     "iopub.status.busy": "2024-05-19T17:04:33.657889Z",
     "iopub.status.idle": "2024-05-19T17:04:33.665435Z",
     "shell.execute_reply": "2024-05-19T17:04:33.664483Z"
    },
    "papermill": {
     "duration": 0.057598,
     "end_time": "2024-05-19T17:04:33.667632",
     "exception": false,
     "start_time": "2024-05-19T17:04:33.610034",
     "status": "completed"
    },
    "tags": []
   },
   "outputs": [
    {
     "data": {
      "text/html": [
       "<div><style>\n",
       ".dataframe > thead > tr,\n",
       ".dataframe > tbody > tr {\n",
       "  text-align: right;\n",
       "  white-space: pre-wrap;\n",
       "}\n",
       "</style>\n",
       "<small>shape: (1, 2)</small><table border=\"1\" class=\"dataframe\"><thead><tr><th>is_new_article</th><th>is_already_seen_article</th></tr><tr><td>f64</td><td>f64</td></tr></thead><tbody><tr><td>0.559822</td><td>0.023945</td></tr></tbody></table></div>"
      ],
      "text/plain": [
       "shape: (1, 2)\n",
       "┌────────────────┬─────────────────────────┐\n",
       "│ is_new_article ┆ is_already_seen_article │\n",
       "│ ---            ┆ ---                     │\n",
       "│ f64            ┆ f64                     │\n",
       "╞════════════════╪═════════════════════════╡\n",
       "│ 0.559822       ┆ 0.023945                │\n",
       "└────────────────┴─────────────────────────┘"
      ]
     },
     "execution_count": 37,
     "metadata": {},
     "output_type": "execute_result"
    }
   ],
   "source": [
    "train_ds.select(pl.col('is_new_article').sum() / train_ds.shape[0], pl.col('is_already_seen_article').sum() / train_ds.shape[0])"
   ]
  },
  {
   "cell_type": "code",
   "execution_count": 38,
   "id": "62fefe76",
   "metadata": {
    "execution": {
     "iopub.execute_input": "2024-05-19T17:04:33.762562Z",
     "iopub.status.busy": "2024-05-19T17:04:33.762163Z",
     "iopub.status.idle": "2024-05-19T17:04:34.072081Z",
     "shell.execute_reply": "2024-05-19T17:04:34.071017Z"
    },
    "papermill": {
     "duration": 0.358993,
     "end_time": "2024-05-19T17:04:34.074119",
     "exception": false,
     "start_time": "2024-05-19T17:04:33.715126",
     "status": "completed"
    },
    "tags": []
   },
   "outputs": [
    {
     "data": {
      "text/plain": [
       "0"
      ]
     },
     "execution_count": 38,
     "metadata": {},
     "output_type": "execute_result"
    }
   ],
   "source": [
    "del last_history_df\n",
    "del last_session_time_df\n",
    "gc.collect()"
   ]
  },
  {
   "cell_type": "markdown",
   "id": "2b0a84c7",
   "metadata": {
    "papermill": {
     "duration": 0.045966,
     "end_time": "2024-05-19T17:04:34.167207",
     "exception": false,
     "start_time": "2024-05-19T17:04:34.121241",
     "status": "completed"
    },
    "tags": []
   },
   "source": [
    "## Popularities"
   ]
  },
  {
   "cell_type": "code",
   "execution_count": 39,
   "id": "61026f74",
   "metadata": {
    "execution": {
     "iopub.execute_input": "2024-05-19T17:04:34.260825Z",
     "iopub.status.busy": "2024-05-19T17:04:34.260424Z",
     "iopub.status.idle": "2024-05-19T17:04:35.892162Z",
     "shell.execute_reply": "2024-05-19T17:04:35.891150Z"
    },
    "papermill": {
     "duration": 1.681393,
     "end_time": "2024-05-19T17:04:35.894786",
     "exception": false,
     "start_time": "2024-05-19T17:04:34.213393",
     "status": "completed"
    },
    "tags": []
   },
   "outputs": [
    {
     "name": "stdout",
     "output_type": "stream",
     "text": [
      "Memory usage of dataframe is 701.62 MB\n",
      "Memory usage after optimization is: 649.53 MB\n",
      "Decreased by 7.4%\n",
      "\u001b[1m\u001b[31m\n",
      "RAM memory GB usage = 3.092\u001b[0m\n",
      "CPU times: user 1.4 s, sys: 410 ms, total: 1.81 s\n",
      "Wall time: 1.62 s\n"
     ]
    },
    {
     "data": {
      "text/html": [
       "<div><style>\n",
       ".dataframe > thead > tr,\n",
       ".dataframe > tbody > tr {\n",
       "  text-align: right;\n",
       "  white-space: pre-wrap;\n",
       "}\n",
       "</style>\n",
       "<small>shape: (2, 93)</small><table border=\"1\" class=\"dataframe\"><thead><tr><th>impression_id</th><th>article</th><th>user_id</th><th>impression_time</th><th>target</th><th>device_type</th><th>read_time</th><th>scroll_percentage</th><th>is_sso_user</th><th>gender</th><th>age</th><th>is_subscriber</th><th>postcode</th><th>trendiness_score_1d</th><th>trendiness_score_3d</th><th>trendiness_score_5d</th><th>trendiness_score_3d_leak</th><th>weekday</th><th>hour</th><th>trendiness_score_1d/3d</th><th>trendiness_score_1d/5d</th><th>normalized_trendiness_score_overall</th><th>premium</th><th>category</th><th>sentiment_score</th><th>sentiment_label</th><th>num_images</th><th>title_len</th><th>subtitle_len</th><th>body_len</th><th>num_topics</th><th>total_pageviews</th><th>total_inviews</th><th>total_read_time</th><th>total_pageviews/inviews</th><th>article_type</th><th>article_delay_days</th><th>&hellip;</th><th>window_0_history_length</th><th>window_1_history_length</th><th>window_2_history_length</th><th>window_3_history_length</th><th>is_inside_window_0</th><th>is_inside_window_1</th><th>is_inside_window_2</th><th>is_inside_window_3</th><th>window_category_score</th><th>window_topics_score</th><th>trendiness_score_category</th><th>endorsement_10h</th><th>normalized_endorsement_10h</th><th>endorsement_10h_diff_rolling</th><th>endorsement_macd</th><th>endorsement_quantile_norm_10h</th><th>normalized_endorsement_10h_rolling_max_ratio</th><th>endorsement_20h_articleuser</th><th>normalized_endorsement_articleuser_20h</th><th>endorsement_20h_articleuser_diff_rolling</th><th>endorsement_articleuser_macd</th><th>endorsement_articleuser_quantile_norm_20h</th><th>normalized_endorsement_articleuser_20h_rolling_max_ratio</th><th>endorsement_10h_leak</th><th>normalized_endorsement_10h_right</th><th>endorsement_10h_leak_diff_rolling</th><th>endorsement_leak_macd</th><th>endorsement_quantile_norm_10h_leak</th><th>normalized_endorsement_10h_leak_rolling_max_ratio</th><th>clicked_count</th><th>inview_count</th><th>last_session_duration</th><th>mean_prev_sessions_duration</th><th>last_session_time_hour_diff</th><th>is_new_article</th><th>is_already_seen_article</th><th>yesterday_category_daily_pct</th></tr><tr><td>u32</td><td>i32</td><td>u32</td><td>date</td><td>i8</td><td>i8</td><td>f32</td><td>f32</td><td>bool</td><td>i8</td><td>i8</td><td>bool</td><td>i8</td><td>i16</td><td>i16</td><td>i16</td><td>i16</td><td>i8</td><td>i8</td><td>f32</td><td>f32</td><td>f32</td><td>bool</td><td>i16</td><td>f32</td><td>str</td><td>u32</td><td>u8</td><td>u8</td><td>u16</td><td>u32</td><td>i32</td><td>i32</td><td>f32</td><td>f32</td><td>str</td><td>i16</td><td>&hellip;</td><td>i16</td><td>i16</td><td>i16</td><td>i16</td><td>i8</td><td>i8</td><td>i8</td><td>i8</td><td>i16</td><td>i16</td><td>i8</td><td>u16</td><td>f32</td><td>f32</td><td>f32</td><td>f32</td><td>f32</td><td>u8</td><td>f32</td><td>f32</td><td>f32</td><td>f32</td><td>f32</td><td>i16</td><td>f32</td><td>f32</td><td>f32</td><td>f32</td><td>f32</td><td>u32</td><td>u16</td><td>i8</td><td>f32</td><td>i16</td><td>bool</td><td>bool</td><td>f32</td></tr></thead><tbody><tr><td>41650737</td><td>9767697</td><td>1260010</td><td>2023-05-17</td><td>1</td><td>1</td><td>38.0</td><td>null</td><td>false</td><td>2</td><td>null</td><td>false</td><td>5</td><td>50</td><td>187</td><td>238</td><td>116</td><td>4</td><td>7</td><td>0.26738</td><td>0.210084</td><td>0.363107</td><td>false</td><td>118</td><td>0.9613</td><td>&quot;Negative&quot;</td><td>5</td><td>7</td><td>2</td><td>982</td><td>3</td><td>199205</td><td>954408</td><td>2.595362e7</td><td>0.208721</td><td>&quot;article_default&quot;</td><td>0</td><td>&hellip;</td><td>14</td><td>1</td><td>0</td><td>6</td><td>1</td><td>0</td><td>0</td><td>0</td><td>6</td><td>11</td><td>96</td><td>14</td><td>0.041916</td><td>0.0</td><td>0.0</td><td>2.0</td><td>1.0</td><td>1</td><td>0.111111</td><td>0.0</td><td>0.0</td><td>1.0</td><td>1.0</td><td>3340</td><td>0.030563</td><td>6.7</td><td>3.1</td><td>1.56367</td><td>1.0</td><td>929</td><td>5859</td><td>0</td><td>0.0</td><td>-167</td><td>true</td><td>false</td><td>0.222222</td></tr><tr><td>579742841</td><td>9767534</td><td>362240</td><td>2023-05-17</td><td>0</td><td>1</td><td>88.0</td><td>null</td><td>false</td><td>2</td><td>null</td><td>false</td><td>5</td><td>29</td><td>114</td><td>169</td><td>103</td><td>4</td><td>7</td><td>0.254386</td><td>0.171598</td><td>0.221359</td><td>false</td><td>140</td><td>0.7544</td><td>&quot;Negative&quot;</td><td>1</td><td>6</td><td>21</td><td>212</td><td>5</td><td>215654</td><td>1205903</td><td>1.0432497e7</td><td>0.178832</td><td>&quot;article_default&quot;</td><td>1</td><td>&hellip;</td><td>15</td><td>0</td><td>0</td><td>0</td><td>1</td><td>0</td><td>0</td><td>0</td><td>3</td><td>3</td><td>67</td><td>3</td><td>0.008982</td><td>0.0</td><td>0.0</td><td>0.428571</td><td>0.2</td><td>1</td><td>0.030303</td><td>0.0</td><td>0.0</td><td>1.0</td><td>1.0</td><td>1009</td><td>0.012784</td><td>3.3</td><td>4.5</td><td>0.511145</td><td>0.413186</td><td>3133</td><td>2513</td><td>0</td><td>1.0</td><td>0</td><td>true</td><td>false</td><td>0.214286</td></tr></tbody></table></div>"
      ],
      "text/plain": [
       "shape: (2, 93)\n",
       "┌────────────┬─────────┬─────────┬────────────┬───┬────────────┬───────────┬───────────┬───────────┐\n",
       "│ impression ┆ article ┆ user_id ┆ impression ┆ … ┆ last_sessi ┆ is_new_ar ┆ is_alread ┆ yesterday │\n",
       "│ _id        ┆ ---     ┆ ---     ┆ _time      ┆   ┆ on_time_ho ┆ ticle     ┆ y_seen_ar ┆ _category │\n",
       "│ ---        ┆ i32     ┆ u32     ┆ ---        ┆   ┆ ur_diff    ┆ ---       ┆ ticle     ┆ _daily_pc │\n",
       "│ u32        ┆         ┆         ┆ date       ┆   ┆ ---        ┆ bool      ┆ ---       ┆ t         │\n",
       "│            ┆         ┆         ┆            ┆   ┆ i16        ┆           ┆ bool      ┆ ---       │\n",
       "│            ┆         ┆         ┆            ┆   ┆            ┆           ┆           ┆ f32       │\n",
       "╞════════════╪═════════╪═════════╪════════════╪═══╪════════════╪═══════════╪═══════════╪═══════════╡\n",
       "│ 41650737   ┆ 9767697 ┆ 1260010 ┆ 2023-05-17 ┆ … ┆ -167       ┆ true      ┆ false     ┆ 0.222222  │\n",
       "│ 579742841  ┆ 9767534 ┆ 362240  ┆ 2023-05-17 ┆ … ┆ 0          ┆ true      ┆ false     ┆ 0.214286  │\n",
       "└────────────┴─────────┴─────────┴────────────┴───┴────────────┴───────────┴───────────┴───────────┘"
      ]
     },
     "execution_count": 39,
     "metadata": {},
     "output_type": "execute_result"
    }
   ],
   "source": [
    "%%time\n",
    "\n",
    "articles_date_popularity = articles.select(['published_time', 'article_id']) \\\n",
    "    .group_by(pl.col('published_time').dt.date().alias('published_date')) \\\n",
    "    .agg(pl.col('article_id').count().alias('daily_articles')) \\\n",
    "\n",
    "published_category_popularity = articles.select(['published_time', 'article_id', 'category']) \\\n",
    "    .group_by([pl.col('published_time').dt.date().alias('published_date'), 'category']) \\\n",
    "    .agg(pl.col('article_id').count().alias('category_daily_articles')) \\\n",
    "    .join(articles_date_popularity, on='published_date', how='left') \\\n",
    "    .with_columns((pl.col('category_daily_articles') / pl.col('daily_articles')).alias('category_daily_pct')) \\\n",
    "    .drop(['category_daily_articles', 'daily_articles'])\n",
    "\n",
    "train_ds = train_ds.join(published_category_popularity, how='left', right_on=['published_date', 'category'],\n",
    "                         left_on=[pl.col('impression_time').dt.date() - pl.duration(days=1), 'category']) \\\n",
    "    .rename({'category_daily_pct': 'yesterday_category_daily_pct'}) \\\n",
    "    .with_columns(pl.col('yesterday_category_daily_pct').fill_null(0))\n",
    "train_ds = reduce_polars_df_memory_size(train_ds)\n",
    "\n",
    "gc.collect()\n",
    "PrintColor(f\"\\n\" + GetMemUsage(), color = Fore.RED)\n",
    "train_ds.head(2)"
   ]
  },
  {
   "cell_type": "markdown",
   "id": "3c776569",
   "metadata": {
    "papermill": {
     "duration": 0.052595,
     "end_time": "2024-05-19T17:04:35.996340",
     "exception": false,
     "start_time": "2024-05-19T17:04:35.943745",
     "status": "completed"
    },
    "tags": []
   },
   "source": [
    "# Adding history features"
   ]
  },
  {
   "cell_type": "code",
   "execution_count": 40,
   "id": "3042ce02",
   "metadata": {
    "execution": {
     "iopub.execute_input": "2024-05-19T17:04:36.096304Z",
     "iopub.status.busy": "2024-05-19T17:04:36.095974Z",
     "iopub.status.idle": "2024-05-19T17:36:07.044278Z",
     "shell.execute_reply": "2024-05-19T17:36:07.043377Z"
    },
    "papermill": {
     "duration": 1890.99958,
     "end_time": "2024-05-19T17:36:07.046357",
     "exception": false,
     "start_time": "2024-05-19T17:04:36.046777",
     "status": "completed"
    },
    "scrolled": true,
    "tags": []
   },
   "outputs": [
    {
     "name": "stderr",
     "output_type": "stream",
     "text": [
      "259it [31:27,  7.29s/it]\n"
     ]
    },
    {
     "name": "stdout",
     "output_type": "stream",
     "text": [
      "Memory usage of dataframe is 1700.14 MB\n",
      "Memory usage after optimization is: 1317.92 MB\n",
      "Decreased by 22.5%\n",
      "\u001b[1m\u001b[31m\n",
      "RAM memory GB usage = 5.047\u001b[0m\n"
     ]
    },
    {
     "data": {
      "text/html": [
       "<div><style>\n",
       ".dataframe > thead > tr,\n",
       ".dataframe > tbody > tr {\n",
       "  text-align: right;\n",
       "  white-space: pre-wrap;\n",
       "}\n",
       "</style>\n",
       "<small>shape: (2, 165)</small><table border=\"1\" class=\"dataframe\"><thead><tr><th>impression_id</th><th>article</th><th>user_id</th><th>target</th><th>device_type</th><th>read_time</th><th>scroll_percentage</th><th>is_sso_user</th><th>gender</th><th>age</th><th>is_subscriber</th><th>postcode</th><th>trendiness_score_1d</th><th>trendiness_score_3d</th><th>trendiness_score_5d</th><th>trendiness_score_3d_leak</th><th>weekday</th><th>hour</th><th>trendiness_score_1d/3d</th><th>trendiness_score_1d/5d</th><th>normalized_trendiness_score_overall</th><th>premium</th><th>category</th><th>sentiment_score</th><th>sentiment_label</th><th>num_images</th><th>title_len</th><th>subtitle_len</th><th>body_len</th><th>num_topics</th><th>total_pageviews</th><th>total_inviews</th><th>total_read_time</th><th>total_pageviews/inviews</th><th>article_type</th><th>article_delay_days</th><th>article_delay_hours</th><th>&hellip;</th><th>MostFrequentWeekday</th><th>MostFrequentHour</th><th>PRODPct</th><th>ORGPct</th><th>LOCPct</th><th>MISCPct</th><th>EVENTPct</th><th>PERPct</th><th>topics_cosine</th><th>IsFavouriteCategory</th><th>NumberDifferentCategories</th><th>PctCategoryMatches</th><th>Category_underholdning_Pct</th><th>Category_ferie_Pct</th><th>Category_bibliotek_Pct</th><th>Category_penge_Pct</th><th>Category_side9_Pct</th><th>Category_krimi_Pct</th><th>Category_forbrug_Pct</th><th>Category_auto_Pct</th><th>Category_dagsorden_Pct</th><th>Category_musik_Pct</th><th>Category_haandvaerkeren_Pct</th><th>Category_podcast_Pct</th><th>Category_plus_Pct</th><th>Category_horoskoper_Pct</th><th>Category_vin_Pct</th><th>Category_biler_Pct</th><th>Category_incoming_Pct</th><th>Category_services_Pct</th><th>Category_nyheder_Pct</th><th>Category_sport_Pct</th><th>Category_om_ekstra_bladet_Pct</th><th>Category_opinionen_Pct</th><th>Category_nationen_Pct</th><th>Category_video_Pct</th><th>Category_sex_og_samliv_Pct</th></tr><tr><td>u32</td><td>i32</td><td>u32</td><td>i8</td><td>i8</td><td>f32</td><td>f32</td><td>bool</td><td>i8</td><td>i8</td><td>bool</td><td>i8</td><td>i16</td><td>i16</td><td>i16</td><td>i16</td><td>i8</td><td>i8</td><td>f32</td><td>f32</td><td>f32</td><td>bool</td><td>i16</td><td>f32</td><td>str</td><td>u32</td><td>u8</td><td>u8</td><td>u16</td><td>u32</td><td>i32</td><td>i32</td><td>f32</td><td>f32</td><td>str</td><td>i16</td><td>i32</td><td>&hellip;</td><td>i8</td><td>i8</td><td>f32</td><td>f32</td><td>f32</td><td>f32</td><td>f32</td><td>f32</td><td>f32</td><td>bool</td><td>u8</td><td>f32</td><td>f32</td><td>f32</td><td>f32</td><td>f32</td><td>f32</td><td>f32</td><td>f32</td><td>f32</td><td>f32</td><td>f32</td><td>f32</td><td>f32</td><td>f32</td><td>f32</td><td>f32</td><td>f32</td><td>f32</td><td>f32</td><td>f32</td><td>f32</td><td>f32</td><td>f32</td><td>f32</td><td>f32</td><td>f32</td></tr></thead><tbody><tr><td>414477177</td><td>9142564</td><td>1221334</td><td>0</td><td>1</td><td>20.0</td><td>null</td><td>false</td><td>2</td><td>null</td><td>false</td><td>5</td><td>56</td><td>184</td><td>268</td><td>180</td><td>4</td><td>7</td><td>0.304348</td><td>0.208955</td><td>0.357282</td><td>true</td><td>414</td><td>0.955</td><td>&quot;Neutral&quot;</td><td>4</td><td>5</td><td>23</td><td>868</td><td>4</td><td>null</td><td>null</td><td>null</td><td>null</td><td>&quot;article_default&quot;</td><td>446</td><td>10725</td><td>&hellip;</td><td>7</td><td>8</td><td>0.246377</td><td>0.942029</td><td>0.869565</td><td>0.26087</td><td>0.123188</td><td>0.833333</td><td>0.107609</td><td>false</td><td>9</td><td>0.942029</td><td>0.101449</td><td>0.0</td><td>0.0</td><td>0.014493</td><td>0.0</td><td>0.130435</td><td>0.028986</td><td>0.0</td><td>0.0</td><td>0.0</td><td>0.0</td><td>0.0</td><td>0.0</td><td>0.0</td><td>0.0</td><td>0.007246</td><td>0.0</td><td>0.0</td><td>0.543478</td><td>0.123188</td><td>0.0</td><td>0.0</td><td>0.036232</td><td>0.0</td><td>0.014493</td></tr><tr><td>202974908</td><td>9770867</td><td>1085569</td><td>0</td><td>2</td><td>35.0</td><td>null</td><td>false</td><td>2</td><td>null</td><td>false</td><td>5</td><td>25</td><td>131</td><td>203</td><td>104</td><td>4</td><td>7</td><td>0.19084</td><td>0.123153</td><td>0.254369</td><td>false</td><td>118</td><td>0.723</td><td>&quot;Negative&quot;</td><td>1</td><td>6</td><td>16</td><td>305</td><td>4</td><td>74198</td><td>349524</td><td>6.149025e6</td><td>0.212283</td><td>&quot;article_default&quot;</td><td>0</td><td>2</td><td>&hellip;</td><td>6</td><td>3</td><td>0.275081</td><td>0.932039</td><td>0.815534</td><td>0.210356</td><td>0.174757</td><td>0.854369</td><td>0.210324</td><td>true</td><td>8</td><td>0.977346</td><td>0.226537</td><td>0.0</td><td>0.0</td><td>0.006472</td><td>0.0</td><td>0.236246</td><td>0.019417</td><td>0.0</td><td>0.0</td><td>0.035599</td><td>0.0</td><td>0.0</td><td>0.0</td><td>0.0</td><td>0.0</td><td>0.0</td><td>0.0</td><td>0.0</td><td>0.349515</td><td>0.110032</td><td>0.0</td><td>0.0</td><td>0.016181</td><td>0.0</td><td>0.0</td></tr></tbody></table></div>"
      ],
      "text/plain": [
       "shape: (2, 165)\n",
       "┌─────────────┬─────────┬─────────┬────────┬───┬────────────┬────────────┬────────────┬────────────┐\n",
       "│ impression_ ┆ article ┆ user_id ┆ target ┆ … ┆ Category_o ┆ Category_n ┆ Category_v ┆ Category_s │\n",
       "│ id          ┆ ---     ┆ ---     ┆ ---    ┆   ┆ pinionen_P ┆ ationen_Pc ┆ ideo_Pct   ┆ ex_og_saml │\n",
       "│ ---         ┆ i32     ┆ u32     ┆ i8     ┆   ┆ ct         ┆ t          ┆ ---        ┆ iv_Pct     │\n",
       "│ u32         ┆         ┆         ┆        ┆   ┆ ---        ┆ ---        ┆ f32        ┆ ---        │\n",
       "│             ┆         ┆         ┆        ┆   ┆ f32        ┆ f32        ┆            ┆ f32        │\n",
       "╞═════════════╪═════════╪═════════╪════════╪═══╪════════════╪════════════╪════════════╪════════════╡\n",
       "│ 414477177   ┆ 9142564 ┆ 1221334 ┆ 0      ┆ … ┆ 0.0        ┆ 0.036232   ┆ 0.0        ┆ 0.014493   │\n",
       "│ 202974908   ┆ 9770867 ┆ 1085569 ┆ 0      ┆ … ┆ 0.0        ┆ 0.016181   ┆ 0.0        ┆ 0.0        │\n",
       "└─────────────┴─────────┴─────────┴────────┴───┴────────────┴────────────┴────────────┴────────────┘"
      ]
     },
     "execution_count": 40,
     "metadata": {},
     "output_type": "execute_result"
    }
   ],
   "source": [
    "def list_pct_matches_with_col(a, b) -> pl.Expr:\n",
    "    '''\n",
    "    Returns an expression to count the percentage of matching element in a list with another column.\n",
    "    The polars function count_matches cannot be used since it wants only a single element, \n",
    "    variable element from row to row.\n",
    "    '''\n",
    "    return pl.when(pl.col(a).list.len() == 0).then(0.0) \\\n",
    "        .otherwise((pl.col(a).list.len() - (pl.col(a).list.set_difference(pl.col(b))).list.len()) / pl.col(a).list.len())\n",
    "\n",
    "\n",
    "def list_pct_matches_with_constant(a, value) -> pl.Expr:\n",
    "    '''\n",
    "    Returns an expression to count the percentage of matching element in a list with a constant value.\n",
    "    The polars function count_matches cannot be used since it wants only a single element, \n",
    "    variable element from row to row.\n",
    "    '''\n",
    "    return pl.when(pl.col(a).list.len() == 0).then(0.0) \\\n",
    "        .otherwise(pl.col(a).list.count_matches(value) / pl.col(a).list.len())\n",
    "\n",
    "\n",
    "def cosine_similarity(x, y):\n",
    "    x = np.array(x)\n",
    "    y = np.array(y)\n",
    "    normalization = np.linalg.norm(x, 2) * np.linalg.norm(y, 2)\n",
    "    return np.dot(x, y) / normalization if normalization > 0 else 0\n",
    "\n",
    "\n",
    "prev_train_columns = [c for c in train_ds.columns if c not in ['impression_id', 'article', 'impression_time']]\n",
    "\n",
    "train_ds = pl.concat(\n",
    "    rows.join(history_train.select(['user_id', 'article_id_fixed', 'impression_time_fixed']), on='user_id', how='left') \\\n",
    "        .join(articles.select(['article_id', 'topics', 'entity_groups', 'topics_idf'] + topic_model_columns), \n",
    "              left_on='article', right_on='article_id', how='left') \\\n",
    "        .explode(['article_id_fixed', 'impression_time_fixed']) \\\n",
    "        .join(articles.select(['article_id', 'topics', 'entity_groups'] + topic_model_columns), \n",
    "              left_on='article_id_fixed', right_on='article_id', how='left') \\\n",
    "        .rename({'topics_right': 'topics_history', 'entity_groups_right': 'entity_groups_history'}) \\\n",
    "        .rename({f'topic_model_embedding_{i}_right': f'topic_model_embedding_{i}_history' for i in range(N_COMPONENTS)}) \\\n",
    "        .with_columns(\n",
    "            # 1/delay gives the weight for the weighted mean of the lda embeddings\n",
    "            (1 / (pl.col('impression_time') - pl.col('impression_time_fixed')).dt.total_hours().sqrt()).alias('history_weight'),\n",
    "            (pl.col(\"topics\").list.set_intersection(pl.col(\"topics_history\")).list.len().truediv(\n",
    "                pl.col(\"topics\").list.set_union(pl.col(\"topics_history\")).list.len()\n",
    "            )).alias(\"JS\"),\n",
    "            pl.col('entity_groups').list.set_intersection(pl.col('entity_groups_history')).list.len().alias('common_entities'),\n",
    "        ).drop(['entity_groups_history', 'entity_groups', 'topics', 'topics_history']) \\\n",
    "        .with_columns(\n",
    "            # summing delays to normalize them before weighted mean\n",
    "            pl.col('history_weight').sum().over(['impression_id', 'article']).alias('history_weight_sum'),\n",
    "            *[pl.col(x).mul(pl.col(f'{x}_history')).alias(f'{x}_dot') for x in topic_model_columns],\n",
    "            *[pl.col(x).mul(pl.col(x)) for x in topic_model_columns],\n",
    "            *[pl.col(f'{x}_history').mul(pl.col(f'{x}_history')).alias(f'{x}_history_square') for x in topic_model_columns],\n",
    "        ).with_columns(\n",
    "            # weights now sum to 1\n",
    "            pl.col('history_weight').truediv(pl.col('history_weight_sum')),\n",
    "            pl.sum_horizontal(topic_model_columns).sqrt().alias('topic_model_norm'),\n",
    "            pl.sum_horizontal([f'{x}_history_square' for x in topic_model_columns]).sqrt().alias('topic_model_history_norm'),\n",
    "            pl.sum_horizontal([f'{x}_dot' for x in topic_model_columns]).alias('topic_model_dot'),\n",
    "        ).with_columns(\n",
    "            *[pl.col(f'{x}_history').mul(pl.col('history_weight')).alias(f'{x}_history_weighted') for i, x in enumerate(topic_model_columns)],\n",
    "            pl.col('topic_model_dot').truediv(pl.col('topic_model_norm').mul('topic_model_history_norm')).alias('topic_model_cosine')\n",
    "        ).group_by(['impression_id', 'article']).agg(\n",
    "            pl.col(prev_train_columns).first(),\n",
    "            pl.col('topics_idf').first(),\n",
    "            pl.col('common_entities').mean().alias('MeanCommonEntities'),\n",
    "            pl.col('common_entities').max().alias('MaxCommonEntities'),\n",
    "            pl.col(\"JS\").mean().alias(\"mean_JS\"),\n",
    "            pl.col(\"JS\").min().alias(\"min_JS\"),\n",
    "            pl.col(\"JS\").max().alias(\"max_JS\"),\n",
    "            pl.col(\"JS\").std().alias(\"std_JS\"),\n",
    "            pl.col(\"JS\").mul(pl.col(\"history_weight\")).sum().alias(\"weighted_mean_JS\"),\n",
    "            pl.col(\"topic_model_cosine\").mean().alias(\"mean_topic_model_cosine\"),\n",
    "            pl.col(\"topic_model_cosine\").min().alias(\"min_topic_model_cosine\"),\n",
    "            pl.col(\"topic_model_cosine\").max().alias(\"max_topic_model_cosine\"),\n",
    "            pl.col(\"topic_model_cosine\").std().alias(\"std_topic_model_cosine\"),\n",
    "            pl.col(\"topic_model_cosine\").mul(pl.col(\"history_weight\")).sum().alias(\"weighted_mean_topic_model_cosine\"),\n",
    "            *[pl.col(f'{x}_history').mean().alias(f'lda_{i}_history_mean') for i, x in enumerate(topic_model_columns)],\n",
    "            *[pl.col(f'{x}_history_weighted').sum().alias(f'lda_{i}_history_weighted_mean') for i, x in enumerate(topic_model_columns)]\n",
    "        ).join(history_train.drop(['article_id_fixed', 'impression_time_fixed']), on='user_id', how='left') \\\n",
    "        .with_columns(\n",
    "            pl.struct(['topics_idf', 'topics_flatten_tf_idf']).map_elements(\n",
    "                lambda x: cosine_similarity(x['topics_idf'], x['topics_flatten_tf_idf']), return_dtype=pl.Float64\n",
    "            ).cast(pl.Float32).alias('topics_cosine'),\n",
    "            (pl.col('category') == pl.col('MostFrequentCategory')).alias('IsFavouriteCategory'),\n",
    "            pl.col('category_right').list.n_unique().alias('NumberDifferentCategories'),\n",
    "            list_pct_matches_with_col('category_right', 'category').alias('PctCategoryMatches'),\n",
    "        ).with_columns(\n",
    "            [list_pct_matches_with_constant('category_right', c).alias(f'Category_{c_str}_Pct')\n",
    "             for c, c_str in unique_categories.items()]\n",
    "        ).drop(['topics_idf', 'topics_flatten', 'topics_flatten_tf_idf', 'category_right'])\n",
    "    for rows in tqdm.tqdm(train_ds.iter_slices(10000), total=train_ds.shape[0] // 10000)\n",
    ")\n",
    "train_ds = reduce_polars_df_memory_size(train_ds)\n",
    "\n",
    "PrintColor(f\"\\n\" + GetMemUsage(), color = Fore.RED)\n",
    "train_ds.head(2)"
   ]
  },
  {
   "cell_type": "code",
   "execution_count": 41,
   "id": "930add01",
   "metadata": {
    "execution": {
     "iopub.execute_input": "2024-05-19T17:36:07.183941Z",
     "iopub.status.busy": "2024-05-19T17:36:07.183573Z",
     "iopub.status.idle": "2024-05-19T17:37:13.269602Z",
     "shell.execute_reply": "2024-05-19T17:37:13.268577Z"
    },
    "papermill": {
     "duration": 66.156909,
     "end_time": "2024-05-19T17:37:13.271854",
     "exception": false,
     "start_time": "2024-05-19T17:36:07.114945",
     "status": "completed"
    },
    "tags": []
   },
   "outputs": [
    {
     "name": "stderr",
     "output_type": "stream",
     "text": [
      "  0%|          | 0/12 [00:00<?, ?it/s]"
     ]
    },
    {
     "name": "stdout",
     "output_type": "stream",
     "text": [
      "Memory usage of dataframe is 1595.65 MB\n"
     ]
    },
    {
     "name": "stderr",
     "output_type": "stream",
     "text": [
      "  8%|▊         | 1/12 [00:05<00:59,  5.39s/it]"
     ]
    },
    {
     "name": "stdout",
     "output_type": "stream",
     "text": [
      "Memory usage after optimization is: 1487.14 MB\n",
      "Decreased by 6.8%\n",
      "Memory usage of dataframe is 1517.04 MB\n"
     ]
    },
    {
     "name": "stderr",
     "output_type": "stream",
     "text": [
      " 17%|█▋        | 2/12 [00:08<00:42,  4.25s/it]"
     ]
    },
    {
     "name": "stdout",
     "output_type": "stream",
     "text": [
      "Memory usage after optimization is: 1503.06 MB\n",
      "Decreased by 0.9%\n",
      "Memory usage of dataframe is 1652.56 MB\n"
     ]
    },
    {
     "name": "stderr",
     "output_type": "stream",
     "text": [
      " 25%|██▌       | 3/12 [00:17<00:57,  6.36s/it]"
     ]
    },
    {
     "name": "stdout",
     "output_type": "stream",
     "text": [
      "Memory usage after optimization is: 1578.58 MB\n",
      "Decreased by 4.5%\n",
      "Memory usage of dataframe is 1856.31 MB\n"
     ]
    },
    {
     "name": "stderr",
     "output_type": "stream",
     "text": [
      " 33%|███▎      | 4/12 [00:20<00:39,  4.94s/it]"
     ]
    },
    {
     "name": "stdout",
     "output_type": "stream",
     "text": [
      "Memory usage after optimization is: 1747.81 MB\n",
      "Decreased by 5.8%\n",
      "Memory usage of dataframe is 2084.72 MB\n"
     ]
    },
    {
     "name": "stderr",
     "output_type": "stream",
     "text": [
      " 42%|████▏     | 5/12 [00:31<00:49,  7.07s/it]"
     ]
    },
    {
     "name": "stdout",
     "output_type": "stream",
     "text": [
      "Memory usage after optimization is: 1917.03 MB\n",
      "Decreased by 8.0%\n",
      "Memory usage of dataframe is 2253.94 MB\n"
     ]
    },
    {
     "name": "stderr",
     "output_type": "stream",
     "text": [
      " 50%|█████     | 6/12 [00:42<00:50,  8.46s/it]"
     ]
    },
    {
     "name": "stdout",
     "output_type": "stream",
     "text": [
      "Memory usage after optimization is: 2086.26 MB\n",
      "Decreased by 7.4%\n",
      "Memory usage of dataframe is 2362.45 MB\n"
     ]
    },
    {
     "name": "stderr",
     "output_type": "stream",
     "text": [
      " 58%|█████▊    | 7/12 [00:51<00:43,  8.67s/it]"
     ]
    },
    {
     "name": "stdout",
     "output_type": "stream",
     "text": [
      "Memory usage after optimization is: 2253.94 MB\n",
      "Decreased by 4.6%\n",
      "Memory usage of dataframe is 2531.67 MB\n"
     ]
    },
    {
     "name": "stderr",
     "output_type": "stream",
     "text": [
      " 67%|██████▋   | 8/12 [00:56<00:30,  7.61s/it]"
     ]
    },
    {
     "name": "stdout",
     "output_type": "stream",
     "text": [
      "Memory usage after optimization is: 2423.17 MB\n",
      "Decreased by 4.3%\n",
      "Memory usage of dataframe is 2462.63 MB\n"
     ]
    },
    {
     "name": "stderr",
     "output_type": "stream",
     "text": [
      " 75%|███████▌  | 9/12 [00:58<00:17,  5.86s/it]"
     ]
    },
    {
     "name": "stdout",
     "output_type": "stream",
     "text": [
      "Memory usage after optimization is: 2462.63 MB\n",
      "Decreased by 0.0%\n",
      "Memory usage of dataframe is 2521.81 MB\n"
     ]
    },
    {
     "name": "stderr",
     "output_type": "stream",
     "text": [
      " 83%|████████▎ | 10/12 [01:01<00:09,  4.71s/it]"
     ]
    },
    {
     "name": "stdout",
     "output_type": "stream",
     "text": [
      "Memory usage after optimization is: 2511.95 MB\n",
      "Decreased by 0.4%\n",
      "Memory usage of dataframe is 2541.54 MB\n"
     ]
    },
    {
     "name": "stderr",
     "output_type": "stream",
     "text": [
      " 92%|█████████▏| 11/12 [01:03<00:04,  4.04s/it]"
     ]
    },
    {
     "name": "stdout",
     "output_type": "stream",
     "text": [
      "Memory usage after optimization is: 2519.34 MB\n",
      "Decreased by 0.9%\n",
      "Memory usage of dataframe is 2539.07 MB\n"
     ]
    },
    {
     "name": "stderr",
     "output_type": "stream",
     "text": [
      "100%|██████████| 12/12 [01:06<00:00,  5.50s/it]"
     ]
    },
    {
     "name": "stdout",
     "output_type": "stream",
     "text": [
      "Memory usage after optimization is: 2529.21 MB\n",
      "Decreased by 0.4%\n",
      "\u001b[1m\u001b[31m\n",
      "RAM memory GB usage = 5.303\u001b[0m\n"
     ]
    },
    {
     "name": "stderr",
     "output_type": "stream",
     "text": [
      "\n"
     ]
    },
    {
     "data": {
      "text/html": [
       "<div><style>\n",
       ".dataframe > thead > tr,\n",
       ".dataframe > tbody > tr {\n",
       "  text-align: right;\n",
       "  white-space: pre-wrap;\n",
       "}\n",
       "</style>\n",
       "<small>shape: (2, 298)</small><table border=\"1\" class=\"dataframe\"><thead><tr><th>impression_id</th><th>article</th><th>user_id</th><th>target</th><th>device_type</th><th>read_time</th><th>scroll_percentage</th><th>is_sso_user</th><th>gender</th><th>age</th><th>is_subscriber</th><th>postcode</th><th>trendiness_score_1d</th><th>trendiness_score_3d</th><th>trendiness_score_5d</th><th>trendiness_score_3d_leak</th><th>weekday</th><th>hour</th><th>trendiness_score_1d/3d</th><th>trendiness_score_1d/5d</th><th>normalized_trendiness_score_overall</th><th>premium</th><th>category</th><th>sentiment_score</th><th>sentiment_label</th><th>num_images</th><th>title_len</th><th>subtitle_len</th><th>body_len</th><th>num_topics</th><th>total_pageviews</th><th>total_inviews</th><th>total_read_time</th><th>total_pageviews/inviews</th><th>article_type</th><th>article_delay_days</th><th>article_delay_hours</th><th>&hellip;</th><th>entropy_impression_trendiness_score_category</th><th>entropy_impression_std_JS</th><th>entropy_impression_total_read_time</th><th>entropy_impression_endorsement_10h_leak</th><th>entropy_impression_trendiness_score_3d_leak</th><th>entropy_impression_clicked_count</th><th>entropy_impression_inview_count</th><th>trendiness_score_3d_minus_median_impression</th><th>trendiness_score_5d_minus_median_impression</th><th>endorsement_10h_minus_median_impression</th><th>total_pageviews/inviews_minus_median_impression</th><th>mean_JS_minus_median_impression</th><th>mean_topic_model_cosine_minus_median_impression</th><th>topics_cosine_minus_median_impression</th><th>article_delay_hours_minus_median_impression</th><th>total_pageviews_minus_median_impression</th><th>total_inviews_minus_median_impression</th><th>trendiness_score_category_minus_median_impression</th><th>std_JS_minus_median_impression</th><th>total_read_time_minus_median_impression</th><th>endorsement_10h_leak_minus_median_impression</th><th>trendiness_score_3d_leak_minus_median_impression</th><th>clicked_count_minus_median_impression</th><th>inview_count_minus_median_impression</th><th>mean_JS_l_inf_user</th><th>std_JS_l_inf_user</th><th>mean_topic_model_cosine_l_inf_user</th><th>topics_cosine_l_inf_user</th><th>article_delay_hours_l_inf_article</th><th>mean_JS_l_inf_article</th><th>std_JS_l_inf_article</th><th>mean_topic_model_cosine_l_inf_article</th><th>topics_cosine_l_inf_article</th><th>category_diversity_impression</th><th>sentiment_label_diversity_impression</th><th>article_type_diversity_impression</th><th>endorsement_20h_articleuser_l_inf_article_user</th></tr><tr><td>u32</td><td>i32</td><td>u32</td><td>i8</td><td>i8</td><td>f32</td><td>f32</td><td>bool</td><td>i8</td><td>i8</td><td>bool</td><td>i8</td><td>i16</td><td>i16</td><td>i16</td><td>i16</td><td>i8</td><td>i8</td><td>f32</td><td>f32</td><td>f32</td><td>bool</td><td>i16</td><td>f32</td><td>str</td><td>u32</td><td>u8</td><td>u8</td><td>u16</td><td>u32</td><td>i32</td><td>i32</td><td>f32</td><td>f32</td><td>str</td><td>i16</td><td>i32</td><td>&hellip;</td><td>f32</td><td>f32</td><td>f32</td><td>f32</td><td>f32</td><td>f32</td><td>f32</td><td>f32</td><td>f32</td><td>f32</td><td>f32</td><td>f32</td><td>f32</td><td>f32</td><td>f32</td><td>f32</td><td>f32</td><td>f32</td><td>f32</td><td>f32</td><td>f32</td><td>f32</td><td>f32</td><td>f32</td><td>f32</td><td>f32</td><td>f32</td><td>f32</td><td>f32</td><td>f32</td><td>f32</td><td>f32</td><td>f32</td><td>u8</td><td>u8</td><td>u8</td><td>f32</td></tr></thead><tbody><tr><td>414477177</td><td>9142564</td><td>1221334</td><td>0</td><td>1</td><td>20.0</td><td>null</td><td>false</td><td>2</td><td>null</td><td>false</td><td>5</td><td>56</td><td>184</td><td>268</td><td>180</td><td>4</td><td>7</td><td>0.304348</td><td>0.208955</td><td>0.357282</td><td>true</td><td>414</td><td>0.955</td><td>&quot;Neutral&quot;</td><td>4</td><td>5</td><td>23</td><td>868</td><td>4</td><td>null</td><td>null</td><td>null</td><td>null</td><td>&quot;article_default&quot;</td><td>446</td><td>10725</td><td>&hellip;</td><td>NaN</td><td>2.362862</td><td>1.837803</td><td>2.192893</td><td>2.161508</td><td>2.023523</td><td>1.634897</td><td>81.0</td><td>122.0</td><td>-30.5</td><td>null</td><td>-0.011124</td><td>-0.012855</td><td>-0.046881</td><td>10168.5</td><td>null</td><td>null</td><td>-18.0</td><td>-0.010008</td><td>null</td><td>-323.0</td><td>106.0</td><td>-353.0</td><td>3139.5</td><td>0.176207</td><td>0.260702</td><td>0.84489</td><td>0.139595</td><td>0.984577</td><td>0.116994</td><td>0.343315</td><td>0.80143</td><td>0.149023</td><td>7</td><td>3</td><td>2</td><td>0.8</td></tr><tr><td>202974908</td><td>9770867</td><td>1085569</td><td>0</td><td>2</td><td>35.0</td><td>null</td><td>false</td><td>2</td><td>null</td><td>false</td><td>5</td><td>25</td><td>131</td><td>203</td><td>104</td><td>4</td><td>7</td><td>0.19084</td><td>0.123153</td><td>0.254369</td><td>false</td><td>118</td><td>0.723</td><td>&quot;Negative&quot;</td><td>1</td><td>6</td><td>16</td><td>305</td><td>4</td><td>74198</td><td>349524</td><td>6.149025e6</td><td>0.212283</td><td>&quot;article_default&quot;</td><td>0</td><td>2</td><td>&hellip;</td><td>NaN</td><td>2.74979</td><td>2.604283</td><td>2.536428</td><td>2.554331</td><td>2.537132</td><td>1.649724</td><td>13.0</td><td>0.0</td><td>19.0</td><td>0.012373</td><td>-0.017599</td><td>-0.063457</td><td>-0.057305</td><td>-8.0</td><td>-11874.5</td><td>-155330.0</td><td>0.0</td><td>0.031869</td><td>1431671.5</td><td>207.0</td><td>15.0</td><td>-116.0</td><td>43.0</td><td>0.314845</td><td>0.637916</td><td>0.823828</td><td>0.294911</td><td>0.012903</td><td>0.132094</td><td>0.397147</td><td>0.815346</td><td>0.234787</td><td>6</td><td>3</td><td>2</td><td>1.0</td></tr></tbody></table></div>"
      ],
      "text/plain": [
       "shape: (2, 298)\n",
       "┌─────────────┬─────────┬─────────┬────────┬───┬────────────┬────────────┬────────────┬────────────┐\n",
       "│ impression_ ┆ article ┆ user_id ┆ target ┆ … ┆ category_d ┆ sentiment_ ┆ article_ty ┆ endorsemen │\n",
       "│ id          ┆ ---     ┆ ---     ┆ ---    ┆   ┆ iversity_i ┆ label_dive ┆ pe_diversi ┆ t_20h_arti │\n",
       "│ ---         ┆ i32     ┆ u32     ┆ i8     ┆   ┆ mpression  ┆ rsity_impr ┆ ty_impress ┆ cleuser_l_ │\n",
       "│ u32         ┆         ┆         ┆        ┆   ┆ ---        ┆ …          ┆ …          ┆ …          │\n",
       "│             ┆         ┆         ┆        ┆   ┆ u8         ┆ ---        ┆ ---        ┆ ---        │\n",
       "│             ┆         ┆         ┆        ┆   ┆            ┆ u8         ┆ u8         ┆ f32        │\n",
       "╞═════════════╪═════════╪═════════╪════════╪═══╪════════════╪════════════╪════════════╪════════════╡\n",
       "│ 414477177   ┆ 9142564 ┆ 1221334 ┆ 0      ┆ … ┆ 7          ┆ 3          ┆ 2          ┆ 0.8        │\n",
       "│ 202974908   ┆ 9770867 ┆ 1085569 ┆ 0      ┆ … ┆ 6          ┆ 3          ┆ 2          ┆ 1.0        │\n",
       "└─────────────┴─────────┴─────────┴────────┴───┴────────────┴────────────┴────────────┴────────────┘"
      ]
     },
     "execution_count": 41,
     "metadata": {},
     "output_type": "execute_result"
    }
   ],
   "source": [
    "NORMALIZE_OVER_IMPRESSION_ID = [\n",
    "    'trendiness_score_3d','trendiness_score_5d', 'endorsement_10h', \n",
    "    'total_pageviews/inviews', 'mean_JS','mean_topic_model_cosine', 'topics_cosine',\n",
    "    'article_delay_hours', 'total_pageviews','total_inviews', 'trendiness_score_category',\n",
    "    'std_JS', 'total_read_time', 'endorsement_10h_leak',\"trendiness_score_3d_leak\",\n",
    "    \"clicked_count\",\"inview_count\",\n",
    "]\n",
    "RANK_IMPRESSION_DESCENDING = [\n",
    "    'trendiness_score_3d','trendiness_score_5d', 'endorsement_10h', \n",
    "    'total_pageviews/inviews', 'mean_JS', 'mean_topic_model_cosine', 'topics_cosine',\n",
    "    'total_pageviews', 'total_read_time','total_inviews', 'trendiness_score_category',\n",
    "    'endorsement_10h_leak',\"trendiness_score_3d_leak\",\"clicked_count\",\"inview_count\"\n",
    "]\n",
    "RANK_IMPRESSION_ASCENDING = [\n",
    "    'article_delay_hours', 'std_JS', 'mean_topics_mean_delay_hours'\n",
    "]\n",
    "NORMALIZE_OVER_USER_ID = [\n",
    "    'mean_JS', 'std_JS', 'mean_topic_model_cosine', 'topics_cosine',\n",
    "]\n",
    "NORMALIZE_OVER_ARTICLE = [\n",
    "    'article_delay_hours', 'mean_JS', 'std_JS', 'mean_topic_model_cosine', 'topics_cosine',\n",
    "]\n",
    "LIST_DIVERSITY = [\n",
    "    'category', 'sentiment_label', 'article_type'\n",
    "]\n",
    "NORMALIZE_OVER_ARTICLE_AND_USER_ID= ['endorsement_20h_articleuser']\n",
    "\n",
    "expressions = [\n",
    "    [(pl.col(c) / pl.col(c).max().over(pl.col('impression_id'))).alias(f'{c}_l_inf_impression')\n",
    "     for c in NORMALIZE_OVER_IMPRESSION_ID],\n",
    "    [pl.col(c).rank(method='min').over(pl.col('impression_id')).alias(f'{c}_rank_impression')\n",
    "     for c in RANK_IMPRESSION_ASCENDING],\n",
    "    [pl.col(c).rank(method='min', descending=True).over(pl.col('impression_id')).alias(f'{c}_rank_impression')\n",
    "     for c in RANK_IMPRESSION_DESCENDING],\n",
    "    [pl.col(c).std().over(pl.col('impression_id')).alias(f'std_impression_{c}')\n",
    "     for c in NORMALIZE_OVER_IMPRESSION_ID],\n",
    "    [pl.col(c).skew().over(pl.col('impression_id')).alias(f'skew_impression_{c}')\n",
    "     for c in NORMALIZE_OVER_IMPRESSION_ID],\n",
    "    [pl.col(c).kurtosis().over(pl.col('impression_id')).alias(f'kurtosis_impression_{c}')\n",
    "     for c in NORMALIZE_OVER_IMPRESSION_ID],\n",
    "    [pl.col(c).entropy().over(pl.col('impression_id')).alias(f'entropy_impression_{c}')\n",
    "     for c in NORMALIZE_OVER_IMPRESSION_ID],\n",
    "    [(pl.col(c) - pl.col(c).median().over(pl.col('impression_id'))).alias(f'{c}_minus_median_impression')\n",
    "     for c in NORMALIZE_OVER_IMPRESSION_ID],\n",
    "    [(pl.col(c) / pl.col(c).max().over(pl.col('user_id'))).alias(f'{c}_l_inf_user')\n",
    "     for c in NORMALIZE_OVER_USER_ID],\n",
    "    [(pl.col(c) / pl.col(c).max().over(pl.col('article'))).alias(f'{c}_l_inf_article')\n",
    "     for c in NORMALIZE_OVER_ARTICLE],\n",
    "    [pl.col(c).n_unique().over('impression_id').alias(f'{c}_diversity_impression')\n",
    "     for c in LIST_DIVERSITY],\n",
    "    [(pl.col(c) / pl.col(c).max().over([pl.col('article'),pl.col('user_id')])).alias(f'{c}_l_inf_article_user')\n",
    "     for c in NORMALIZE_OVER_ARTICLE_AND_USER_ID],\n",
    "]\n",
    "    \n",
    "for expressions_group in tqdm.tqdm(expressions):\n",
    "    train_ds = train_ds.with_columns(expressions_group)\n",
    "    train_ds = reduce_polars_df_memory_size(train_ds)\n",
    "\n",
    "PrintColor(f\"\\n\" + GetMemUsage(), color = Fore.RED)\n",
    "train_ds.head(2)"
   ]
  },
  {
   "cell_type": "markdown",
   "id": "1d4b1aa7",
   "metadata": {
    "papermill": {
     "duration": 0.072818,
     "end_time": "2024-05-19T17:37:13.416437",
     "exception": false,
     "start_time": "2024-05-19T17:37:13.343619",
     "status": "completed"
    },
    "tags": []
   },
   "source": [
    "# Training"
   ]
  },
  {
   "cell_type": "code",
   "execution_count": 42,
   "id": "17dadf6e",
   "metadata": {
    "execution": {
     "iopub.execute_input": "2024-05-19T17:37:13.562657Z",
     "iopub.status.busy": "2024-05-19T17:37:13.561490Z",
     "iopub.status.idle": "2024-05-19T17:37:21.193046Z",
     "shell.execute_reply": "2024-05-19T17:37:21.192190Z"
    },
    "papermill": {
     "duration": 7.707576,
     "end_time": "2024-05-19T17:37:21.195208",
     "exception": false,
     "start_time": "2024-05-19T17:37:13.487632",
     "status": "completed"
    },
    "tags": []
   },
   "outputs": [
    {
     "data": {
      "text/html": [
       "<div><style>\n",
       ".dataframe > thead > tr,\n",
       ".dataframe > tbody > tr {\n",
       "  text-align: right;\n",
       "  white-space: pre-wrap;\n",
       "}\n",
       "</style>\n",
       "<small>shape: (5, 298)</small><table border=\"1\" class=\"dataframe\"><thead><tr><th>impression_id</th><th>user_id</th><th>article</th><th>target</th><th>device_type</th><th>read_time</th><th>scroll_percentage</th><th>is_sso_user</th><th>gender</th><th>age</th><th>is_subscriber</th><th>postcode</th><th>trendiness_score_1d</th><th>trendiness_score_3d</th><th>trendiness_score_5d</th><th>trendiness_score_3d_leak</th><th>weekday</th><th>hour</th><th>trendiness_score_1d/3d</th><th>trendiness_score_1d/5d</th><th>normalized_trendiness_score_overall</th><th>premium</th><th>category</th><th>sentiment_score</th><th>sentiment_label</th><th>num_images</th><th>title_len</th><th>subtitle_len</th><th>body_len</th><th>num_topics</th><th>total_pageviews</th><th>total_inviews</th><th>total_read_time</th><th>total_pageviews/inviews</th><th>article_type</th><th>article_delay_days</th><th>article_delay_hours</th><th>&hellip;</th><th>entropy_impression_trendiness_score_category</th><th>entropy_impression_std_JS</th><th>entropy_impression_total_read_time</th><th>entropy_impression_endorsement_10h_leak</th><th>entropy_impression_trendiness_score_3d_leak</th><th>entropy_impression_clicked_count</th><th>entropy_impression_inview_count</th><th>trendiness_score_3d_minus_median_impression</th><th>trendiness_score_5d_minus_median_impression</th><th>endorsement_10h_minus_median_impression</th><th>total_pageviews/inviews_minus_median_impression</th><th>mean_JS_minus_median_impression</th><th>mean_topic_model_cosine_minus_median_impression</th><th>topics_cosine_minus_median_impression</th><th>article_delay_hours_minus_median_impression</th><th>total_pageviews_minus_median_impression</th><th>total_inviews_minus_median_impression</th><th>trendiness_score_category_minus_median_impression</th><th>std_JS_minus_median_impression</th><th>total_read_time_minus_median_impression</th><th>endorsement_10h_leak_minus_median_impression</th><th>trendiness_score_3d_leak_minus_median_impression</th><th>clicked_count_minus_median_impression</th><th>inview_count_minus_median_impression</th><th>mean_JS_l_inf_user</th><th>std_JS_l_inf_user</th><th>mean_topic_model_cosine_l_inf_user</th><th>topics_cosine_l_inf_user</th><th>article_delay_hours_l_inf_article</th><th>mean_JS_l_inf_article</th><th>std_JS_l_inf_article</th><th>mean_topic_model_cosine_l_inf_article</th><th>topics_cosine_l_inf_article</th><th>category_diversity_impression</th><th>sentiment_label_diversity_impression</th><th>article_type_diversity_impression</th><th>endorsement_20h_articleuser_l_inf_article_user</th></tr><tr><td>u32</td><td>u32</td><td>i32</td><td>i8</td><td>i8</td><td>f32</td><td>f32</td><td>bool</td><td>i8</td><td>i8</td><td>bool</td><td>i8</td><td>i16</td><td>i16</td><td>i16</td><td>i16</td><td>i8</td><td>i8</td><td>f32</td><td>f32</td><td>f32</td><td>bool</td><td>i16</td><td>f32</td><td>str</td><td>u32</td><td>u8</td><td>u8</td><td>u16</td><td>u32</td><td>i32</td><td>i32</td><td>f32</td><td>f32</td><td>str</td><td>i16</td><td>i32</td><td>&hellip;</td><td>f32</td><td>f32</td><td>f32</td><td>f32</td><td>f32</td><td>f32</td><td>f32</td><td>f32</td><td>f32</td><td>f32</td><td>f32</td><td>f32</td><td>f32</td><td>f32</td><td>f32</td><td>f32</td><td>f32</td><td>f32</td><td>f32</td><td>f32</td><td>f32</td><td>f32</td><td>f32</td><td>f32</td><td>f32</td><td>f32</td><td>f32</td><td>f32</td><td>f32</td><td>f32</td><td>f32</td><td>f32</td><td>f32</td><td>u8</td><td>u8</td><td>u8</td><td>f32</td></tr></thead><tbody><tr><td>149474</td><td>139836</td><td>9778728</td><td>0</td><td>2</td><td>13.0</td><td>null</td><td>false</td><td>2</td><td>null</td><td>false</td><td>5</td><td>150</td><td>521</td><td>836</td><td>419</td><td>3</td><td>7</td><td>0.287908</td><td>0.179426</td><td>0.880068</td><td>false</td><td>142</td><td>0.9654</td><td>&quot;Negative&quot;</td><td>1</td><td>5</td><td>18</td><td>251</td><td>7</td><td>22415</td><td>220247</td><td>1.004828e6</td><td>0.101772</td><td>&quot;article_default&quot;</td><td>0</td><td>0</td><td>&hellip;</td><td>1.612282</td><td>1.739272</td><td>1.558951</td><td>1.774823</td><td>1.725289</td><td>-0.0</td><td>1.76343</td><td>281.5</td><td>447.5</td><td>-873.5</td><td>-0.111306</td><td>-0.005177</td><td>0.107542</td><td>-0.02667</td><td>-1.0</td><td>-62463.5</td><td>-165503.0</td><td>4.0</td><td>-0.033664</td><td>-4.981345e6</td><td>5.0</td><td>165.5</td><td>null</td><td>-886.0</td><td>0.447581</td><td>0.403328</td><td>0.974183</td><td>0.36119</td><td>0.0</td><td>0.233531</td><td>0.335164</td><td>0.899841</td><td>0.301919</td><td>4</td><td>3</td><td>1</td><td>1.0</td></tr><tr><td>149474</td><td>139836</td><td>9778669</td><td>0</td><td>2</td><td>13.0</td><td>null</td><td>false</td><td>2</td><td>null</td><td>false</td><td>5</td><td>85</td><td>199</td><td>313</td><td>266</td><td>3</td><td>7</td><td>0.427136</td><td>0.271565</td><td>0.336149</td><td>false</td><td>118</td><td>0.9481</td><td>&quot;Negative&quot;</td><td>1</td><td>5</td><td>11</td><td>150</td><td>4</td><td>74491</td><td>373488</td><td>4.365609e6</td><td>0.199447</td><td>&quot;article_default&quot;</td><td>0</td><td>1</td><td>&hellip;</td><td>1.612282</td><td>1.739272</td><td>1.558951</td><td>1.774823</td><td>1.725289</td><td>-0.0</td><td>1.76343</td><td>-40.5</td><td>-75.5</td><td>179.5</td><td>-0.013631</td><td>0.003967</td><td>-0.063773</td><td>0.015762</td><td>0.0</td><td>-10387.5</td><td>-12262.0</td><td>0.0</td><td>0.028015</td><td>-1.620564e6</td><td>-397.0</td><td>12.5</td><td>null</td><td>-56.0</td><td>0.501163</td><td>0.632488</td><td>0.771845</td><td>0.437299</td><td>0.043478</td><td>0.266627</td><td>0.511387</td><td>0.774927</td><td>0.319083</td><td>4</td><td>3</td><td>1</td><td>1.0</td></tr><tr><td>149474</td><td>139836</td><td>9778657</td><td>1</td><td>2</td><td>13.0</td><td>null</td><td>false</td><td>2</td><td>null</td><td>false</td><td>5</td><td>45</td><td>117</td><td>183</td><td>138</td><td>3</td><td>7</td><td>0.384615</td><td>0.245902</td><td>0.197635</td><td>false</td><td>118</td><td>0.8347</td><td>&quot;Neutral&quot;</td><td>2</td><td>6</td><td>31</td><td>336</td><td>3</td><td>108389</td><td>478098</td><td>7.606737e6</td><td>0.226709</td><td>&quot;article_default&quot;</td><td>0</td><td>1</td><td>&hellip;</td><td>1.612282</td><td>1.739272</td><td>1.558951</td><td>1.774823</td><td>1.725289</td><td>-0.0</td><td>1.76343</td><td>-122.5</td><td>-205.5</td><td>368.5</td><td>0.013631</td><td>0.05309</td><td>-0.030841</td><td>0.218611</td><td>0.0</td><td>23510.5</td><td>92348.0</td><td>0.0</td><td>0.051035</td><td>1.620564e6</td><td>-5.0</td><td>-115.5</td><td>null</td><td>276.0</td><td>0.78901</td><td>0.718014</td><td>0.810741</td><td>0.801144</td><td>0.066667</td><td>0.350947</td><td>0.730242</td><td>0.805005</td><td>0.604487</td><td>4</td><td>3</td><td>1</td><td>1.0</td></tr><tr><td>150528</td><td>143471</td><td>9778682</td><td>0</td><td>2</td><td>25.0</td><td>null</td><td>false</td><td>2</td><td>null</td><td>false</td><td>5</td><td>69</td><td>206</td><td>334</td><td>201</td><td>3</td><td>7</td><td>0.334951</td><td>0.206587</td><td>0.347973</td><td>false</td><td>498</td><td>0.9546</td><td>&quot;Negative&quot;</td><td>1</td><td>5</td><td>20</td><td>267</td><td>3</td><td>143520</td><td>455723</td><td>9.298546e6</td><td>0.314928</td><td>&quot;article_default&quot;</td><td>0</td><td>1</td><td>&hellip;</td><td>1.924178</td><td>2.126514</td><td>2.008478</td><td>2.181736</td><td>2.013598</td><td>-0.0</td><td>2.173429</td><td>7.0</td><td>21.0</td><td>204.0</td><td>0.088219</td><td>0.013219</td><td>0.085925</td><td>-0.001332</td><td>1.0</td><td>48254.0</td><td>82235.0</td><td>-47.0</td><td>0.013249</td><td>4.223417e6</td><td>160.0</td><td>0.0</td><td>null</td><td>498.0</td><td>0.793928</td><td>0.732491</td><td>0.947149</td><td>0.581838</td><td>0.041667</td><td>0.299855</td><td>0.536061</td><td>0.915423</td><td>0.447169</td><td>6</td><td>3</td><td>1</td><td>1.0</td></tr><tr><td>150528</td><td>143471</td><td>9778669</td><td>0</td><td>2</td><td>25.0</td><td>null</td><td>false</td><td>2</td><td>null</td><td>false</td><td>5</td><td>85</td><td>199</td><td>313</td><td>266</td><td>3</td><td>7</td><td>0.427136</td><td>0.271565</td><td>0.336149</td><td>false</td><td>118</td><td>0.9481</td><td>&quot;Negative&quot;</td><td>1</td><td>5</td><td>11</td><td>150</td><td>4</td><td>74491</td><td>373488</td><td>4.365609e6</td><td>0.199447</td><td>&quot;article_default&quot;</td><td>0</td><td>1</td><td>&hellip;</td><td>1.924178</td><td>2.126514</td><td>2.008478</td><td>2.181736</td><td>2.013598</td><td>-0.0</td><td>2.173429</td><td>0.0</td><td>0.0</td><td>598.0</td><td>-0.027262</td><td>0.025741</td><td>-0.071149</td><td>0.159455</td><td>1.0</td><td>-20775.0</td><td>0.0</td><td>62.0</td><td>0.007517</td><td>-709520.0</td><td>-225.0</td><td>65.0</td><td>null</td><td>386.0</td><td>0.881599</td><td>0.709201</td><td>0.76474</td><td>0.871154</td><td>0.043478</td><td>0.392552</td><td>0.524339</td><td>0.780876</td><td>0.633637</td><td>6</td><td>3</td><td>1</td><td>1.0</td></tr></tbody></table></div>"
      ],
      "text/plain": [
       "shape: (5, 298)\n",
       "┌─────────────┬─────────┬─────────┬────────┬───┬────────────┬────────────┬────────────┬────────────┐\n",
       "│ impression_ ┆ user_id ┆ article ┆ target ┆ … ┆ category_d ┆ sentiment_ ┆ article_ty ┆ endorsemen │\n",
       "│ id          ┆ ---     ┆ ---     ┆ ---    ┆   ┆ iversity_i ┆ label_dive ┆ pe_diversi ┆ t_20h_arti │\n",
       "│ ---         ┆ u32     ┆ i32     ┆ i8     ┆   ┆ mpression  ┆ rsity_impr ┆ ty_impress ┆ cleuser_l_ │\n",
       "│ u32         ┆         ┆         ┆        ┆   ┆ ---        ┆ …          ┆ …          ┆ …          │\n",
       "│             ┆         ┆         ┆        ┆   ┆ u8         ┆ ---        ┆ ---        ┆ ---        │\n",
       "│             ┆         ┆         ┆        ┆   ┆            ┆ u8         ┆ u8         ┆ f32        │\n",
       "╞═════════════╪═════════╪═════════╪════════╪═══╪════════════╪════════════╪════════════╪════════════╡\n",
       "│ 149474      ┆ 139836  ┆ 9778728 ┆ 0      ┆ … ┆ 4          ┆ 3          ┆ 1          ┆ 1.0        │\n",
       "│ 149474      ┆ 139836  ┆ 9778669 ┆ 0      ┆ … ┆ 4          ┆ 3          ┆ 1          ┆ 1.0        │\n",
       "│ 149474      ┆ 139836  ┆ 9778657 ┆ 1      ┆ … ┆ 4          ┆ 3          ┆ 1          ┆ 1.0        │\n",
       "│ 150528      ┆ 143471  ┆ 9778682 ┆ 0      ┆ … ┆ 6          ┆ 3          ┆ 1          ┆ 1.0        │\n",
       "│ 150528      ┆ 143471  ┆ 9778669 ┆ 0      ┆ … ┆ 6          ┆ 3          ┆ 1          ┆ 1.0        │\n",
       "└─────────────┴─────────┴─────────┴────────┴───┴────────────┴────────────┴────────────┴────────────┘"
      ]
     },
     "execution_count": 42,
     "metadata": {},
     "output_type": "execute_result"
    }
   ],
   "source": [
    "# subsample dataset\n",
    "\n",
    "behaviors_subsample = behaviors_train.select(['impression_id','user_id','article_ids_inview','article_ids_clicked']) \\\n",
    "    .pipe(\n",
    "        sampling_strategy_wu2019, npratio=NPRATIO, shuffle=False, with_replacement=True, seed=123\n",
    "    ).explode('article_ids_inview').drop('article_ids_clicked').rename({'article_ids_inview' : 'article'}) \\\n",
    "    .with_columns(pl.col('user_id').cast(pl.UInt32), pl.col('article').cast(pl.Int32)) \\\n",
    "    .select(['impression_id', 'user_id', 'article'])\n",
    "\n",
    "train_ds = behaviors_subsample.join(train_ds, on=['impression_id','user_id','article'], how='left')\n",
    "train_ds.head()"
   ]
  },
  {
   "cell_type": "code",
   "execution_count": 43,
   "id": "10477fc8",
   "metadata": {
    "execution": {
     "iopub.execute_input": "2024-05-19T17:37:21.343264Z",
     "iopub.status.busy": "2024-05-19T17:37:21.342444Z",
     "iopub.status.idle": "2024-05-19T17:37:33.308906Z",
     "shell.execute_reply": "2024-05-19T17:37:33.307888Z"
    },
    "papermill": {
     "duration": 12.043464,
     "end_time": "2024-05-19T17:37:33.311358",
     "exception": false,
     "start_time": "2024-05-19T17:37:21.267894",
     "status": "completed"
    },
    "tags": []
   },
   "outputs": [],
   "source": [
    "train_ds = train_ds.drop(['impression_id', 'article', 'user_id']).to_pandas()\n",
    "X = train_ds.drop(columns='target')\n",
    "\n",
    "bool_columns = [f'Entity_{entity}_Present' for entity in unique_entities]\n",
    "bool_columns += ['is_subscriber', 'is_sso_user', 'premium', 'is_new_article', 'is_already_seen_article', 'IsFavouriteCategory']\n",
    "string_columns = ['sentiment_label', 'article_type']\n",
    "categorical_int_columns = ['device_type', 'gender', 'weekday', 'category', 'MostFrequentCategory', 'MostFrequentWeekday', 'postcode']\n",
    "categorical_columns = bool_columns + string_columns + categorical_int_columns\n",
    "numerical_columns = [c for c in train_ds.columns if c not in categorical_columns + ['target']]\n",
    "\n",
    "X[numerical_columns] = X[numerical_columns].replace([-np.inf, np.inf], np.nan)\n",
    "min_values = {}\n",
    "for col in numerical_columns:\n",
    "    min_values[col] = X[col].min()\n",
    "    X[col] = X[col].fillna(min_values[col])\n",
    "X_numerical = X[numerical_columns].values\n",
    "scaler = MinMaxScaler()\n",
    "X_numerical = scaler.fit_transform(X_numerical)\n",
    "\n",
    "categorical_encoder = OneHotEncoder(handle_unknown='ignore', drop='if_binary', sparse_output=False)\n",
    "X_categorical = categorical_encoder.fit_transform(X[categorical_columns])\n",
    "\n",
    "X = np.concatenate([X_numerical, X_categorical], axis=1)\n",
    "y = train_ds['target'].values"
   ]
  },
  {
   "cell_type": "code",
   "execution_count": 44,
   "id": "cdf4342c",
   "metadata": {
    "execution": {
     "iopub.execute_input": "2024-05-19T17:37:33.454837Z",
     "iopub.status.busy": "2024-05-19T17:37:33.454504Z",
     "iopub.status.idle": "2024-05-19T17:37:33.784585Z",
     "shell.execute_reply": "2024-05-19T17:37:33.783595Z"
    },
    "papermill": {
     "duration": 0.403273,
     "end_time": "2024-05-19T17:37:33.786617",
     "exception": false,
     "start_time": "2024-05-19T17:37:33.383344",
     "status": "completed"
    },
    "tags": []
   },
   "outputs": [
    {
     "name": "stdout",
     "output_type": "stream",
     "text": [
      "\u001b[1m\u001b[31m\n",
      "RAM memory GB usage = 10.06\u001b[0m\n"
     ]
    }
   ],
   "source": [
    "del train_ds\n",
    "del X_categorical\n",
    "\n",
    "gc.collect()\n",
    "PrintColor(f\"\\n\" + GetMemUsage(), color = Fore.RED)"
   ]
  },
  {
   "cell_type": "code",
   "execution_count": 45,
   "id": "716bdc6f",
   "metadata": {
    "execution": {
     "iopub.execute_input": "2024-05-19T17:37:33.932847Z",
     "iopub.status.busy": "2024-05-19T17:37:33.932479Z",
     "iopub.status.idle": "2024-05-19T18:34:30.950746Z",
     "shell.execute_reply": "2024-05-19T18:34:30.949650Z"
    },
    "papermill": {
     "duration": 3417.180204,
     "end_time": "2024-05-19T18:34:31.040294",
     "exception": false,
     "start_time": "2024-05-19T17:37:33.860090",
     "status": "completed"
    },
    "tags": []
   },
   "outputs": [
    {
     "name": "stdout",
     "output_type": "stream",
     "text": [
      "\u001b[1m\u001b[31m\n",
      "RAM memory GB usage = 9.394\u001b[0m\n"
     ]
    }
   ],
   "source": [
    "model = FastRGFClassifier(n_estimators=5000, max_depth=6, max_leaf=100, l1=500.0, \n",
    "                          max_bin=256, l2=10000.0, n_jobs=2)\n",
    "\n",
    "model.fit(X, y)\n",
    "\n",
    "gc.collect()\n",
    "PrintColor(f\"\\n\" + GetMemUsage(), color = Fore.RED)"
   ]
  },
  {
   "cell_type": "code",
   "execution_count": 46,
   "id": "4fe8521e",
   "metadata": {
    "execution": {
     "iopub.execute_input": "2024-05-19T18:34:31.300306Z",
     "iopub.status.busy": "2024-05-19T18:34:31.299939Z",
     "iopub.status.idle": "2024-05-19T18:34:31.666792Z",
     "shell.execute_reply": "2024-05-19T18:34:31.665502Z"
    },
    "papermill": {
     "duration": 0.555028,
     "end_time": "2024-05-19T18:34:31.668928",
     "exception": false,
     "start_time": "2024-05-19T18:34:31.113900",
     "status": "completed"
    },
    "tags": []
   },
   "outputs": [
    {
     "name": "stdout",
     "output_type": "stream",
     "text": [
      "\u001b[1m\u001b[31m\n",
      "RAM memory GB usage = 9.132\u001b[0m\n"
     ]
    }
   ],
   "source": [
    "del history_train\n",
    "del behaviors_train\n",
    "\n",
    "del users_mean_trendiness_scores, topics_mean_trendiness_scores\n",
    "del topic_mean_delays, user_mean_delays\n",
    "del windows, user_windows, user_topics_windows, user_category_windows\n",
    "del articles_endorsement\n",
    "del normalized_endorsement\n",
    "del articles_endorsement_articleuser\n",
    "del normalized_endorsement_articleuser\n",
    "del history_counts, behaviors_counts\n",
    "\n",
    "gc.collect()\n",
    "PrintColor(f\"\\n\" + GetMemUsage(), color = Fore.RED)"
   ]
  },
  {
   "cell_type": "markdown",
   "id": "7068ad2e",
   "metadata": {
    "papermill": {
     "duration": 0.071928,
     "end_time": "2024-05-19T18:34:31.818981",
     "exception": false,
     "start_time": "2024-05-19T18:34:31.747053",
     "status": "completed"
    },
    "tags": []
   },
   "source": [
    "# Model Evaluation"
   ]
  },
  {
   "cell_type": "code",
   "execution_count": 47,
   "id": "eacf4a76",
   "metadata": {
    "execution": {
     "iopub.execute_input": "2024-05-19T18:34:31.984282Z",
     "iopub.status.busy": "2024-05-19T18:34:31.983924Z",
     "iopub.status.idle": "2024-05-19T18:34:55.626593Z",
     "shell.execute_reply": "2024-05-19T18:34:55.625707Z"
    },
    "papermill": {
     "duration": 23.725264,
     "end_time": "2024-05-19T18:34:55.629487",
     "exception": false,
     "start_time": "2024-05-19T18:34:31.904223",
     "status": "completed"
    },
    "tags": []
   },
   "outputs": [],
   "source": [
    "user_id_mapping = history_val.sort('user_id').with_row_index() \\\n",
    "    .select(['index', 'user_id']).rename({'index': 'user_index'})\n",
    "\n",
    "ner_interactions = history_val.select(['user_id', 'article_id_fixed']).explode('article_id_fixed') \\\n",
    "    .join(articles.select(['article_id', 'ner_clusters']), left_on='article_id_fixed', right_on='article_id', how='left') \\\n",
    "    .explode('ner_clusters').unique(['user_id', 'ner_clusters']) \\\n",
    "    .with_columns(pl.col('ner_clusters').str.strip_chars_start('\\\" ').str.to_lowercase()) \\\n",
    "    .join(user_id_mapping, on='user_id', how='left') \\\n",
    "    .join(ner_mapping, left_on='ner_clusters', right_on='ner') \\\n",
    "    .select(['user_index', 'ner_index', 'user_id', 'article_id_fixed']) \\\n",
    "    .unique(['user_index', 'ner_index'])\n",
    "\n",
    "URM_ner = sps.csr_matrix((np.ones(ner_interactions.shape[0]),\n",
    "                          (ner_interactions['user_index'].to_numpy(), ner_interactions['ner_index'].to_numpy())),\n",
    "                         shape=(user_id_mapping.shape[0], ner_mapping.shape[0]))\n",
    "\n",
    "ner_interactions_test = behaviors_val.select(['user_id', 'article_ids_clicked']).explode('article_ids_clicked') \\\n",
    "    .join(articles.select(['article_id', 'ner_clusters']), left_on='article_ids_clicked', right_on='article_id', how='left') \\\n",
    "    .explode('ner_clusters').unique(['user_id', 'ner_clusters']) \\\n",
    "    .with_columns(pl.col('ner_clusters').str.strip_chars_start('\\\" ').str.to_lowercase()) \\\n",
    "    .join(user_id_mapping, on='user_id', how='left') \\\n",
    "    .join(ner_mapping, left_on='ner_clusters', right_on='ner') \\\n",
    "    .select(['user_index', 'ner_index', 'user_id', 'article_ids_clicked']) \\\n",
    "    .unique(['user_index', 'ner_index'])\n",
    "\n",
    "URM_ner_test = sps.csr_matrix((np.ones(ner_interactions_test.shape[0]),\n",
    "                               (ner_interactions_test['user_index'].to_numpy(), ner_interactions_test['ner_index'].to_numpy())),\n",
    "                              shape=(user_id_mapping.shape[0], ner_mapping.shape[0]))"
   ]
  },
  {
   "cell_type": "code",
   "execution_count": 48,
   "id": "13bcd7a6",
   "metadata": {
    "execution": {
     "iopub.execute_input": "2024-05-19T18:34:55.789475Z",
     "iopub.status.busy": "2024-05-19T18:34:55.788794Z",
     "iopub.status.idle": "2024-05-19T18:39:41.378424Z",
     "shell.execute_reply": "2024-05-19T18:39:41.377320Z"
    },
    "papermill": {
     "duration": 285.712001,
     "end_time": "2024-05-19T18:39:41.420418",
     "exception": false,
     "start_time": "2024-05-19T18:34:55.708417",
     "status": "completed"
    },
    "tags": []
   },
   "outputs": [
    {
     "name": "stdout",
     "output_type": "stream",
     "text": [
      "ItemKNNCFRecommender: URM Detected 3 ( 0.0%) users with no interactions.\n",
      "ItemKNNCFRecommender: URM Detected 19035 (43.5%) items with no interactions.\n",
      "Unable to load Cython Compute_Similarity, reverting to Python\n",
      "Similarity column 43774 (100.0%), 179.60 column/sec. Elapsed time 4.06 min\n",
      "EvaluatorHoldout: Ignoring 32 ( 0.2%) Users that have less than 1 test interactions\n",
      "EvaluatorHoldout: Processed 15310 (100.0%) in 40.94 sec. Users per second: 374\n"
     ]
    },
    {
     "data": {
      "text/html": [
       "<div>\n",
       "<style scoped>\n",
       "    .dataframe tbody tr th:only-of-type {\n",
       "        vertical-align: middle;\n",
       "    }\n",
       "\n",
       "    .dataframe tbody tr th {\n",
       "        vertical-align: top;\n",
       "    }\n",
       "\n",
       "    .dataframe thead th {\n",
       "        text-align: right;\n",
       "    }\n",
       "</style>\n",
       "<table border=\"1\" class=\"dataframe\">\n",
       "  <thead>\n",
       "    <tr style=\"text-align: right;\">\n",
       "      <th></th>\n",
       "      <th>PRECISION</th>\n",
       "      <th>PRECISION_RECALL_MIN_DEN</th>\n",
       "      <th>RECALL</th>\n",
       "      <th>MAP</th>\n",
       "      <th>MAP_MIN_DEN</th>\n",
       "      <th>MRR</th>\n",
       "      <th>NDCG</th>\n",
       "      <th>F1</th>\n",
       "      <th>HIT_RATE</th>\n",
       "      <th>ARHR_ALL_HITS</th>\n",
       "      <th>...</th>\n",
       "      <th>COVERAGE_USER</th>\n",
       "      <th>COVERAGE_USER_HIT</th>\n",
       "      <th>USERS_IN_GT</th>\n",
       "      <th>DIVERSITY_GINI</th>\n",
       "      <th>SHANNON_ENTROPY</th>\n",
       "      <th>RATIO_DIVERSITY_HERFINDAHL</th>\n",
       "      <th>RATIO_DIVERSITY_GINI</th>\n",
       "      <th>RATIO_SHANNON_ENTROPY</th>\n",
       "      <th>RATIO_AVERAGE_POPULARITY</th>\n",
       "      <th>RATIO_NOVELTY</th>\n",
       "    </tr>\n",
       "    <tr>\n",
       "      <th>cutoff</th>\n",
       "      <th></th>\n",
       "      <th></th>\n",
       "      <th></th>\n",
       "      <th></th>\n",
       "      <th></th>\n",
       "      <th></th>\n",
       "      <th></th>\n",
       "      <th></th>\n",
       "      <th></th>\n",
       "      <th></th>\n",
       "      <th></th>\n",
       "      <th></th>\n",
       "      <th></th>\n",
       "      <th></th>\n",
       "      <th></th>\n",
       "      <th></th>\n",
       "      <th></th>\n",
       "      <th></th>\n",
       "      <th></th>\n",
       "      <th></th>\n",
       "      <th></th>\n",
       "    </tr>\n",
       "  </thead>\n",
       "  <tbody>\n",
       "    <tr>\n",
       "      <th>10</th>\n",
       "      <td>0.338445</td>\n",
       "      <td>0.339461</td>\n",
       "      <td>0.033197</td>\n",
       "      <td>0.241643</td>\n",
       "      <td>0.241977</td>\n",
       "      <td>0.493913</td>\n",
       "      <td>0.346767</td>\n",
       "      <td>0.060464</td>\n",
       "      <td>0.784651</td>\n",
       "      <td>1.033204</td>\n",
       "      <td>...</td>\n",
       "      <td>0.997914</td>\n",
       "      <td>0.783014</td>\n",
       "      <td>0.997914</td>\n",
       "      <td>0.002568</td>\n",
       "      <td>5.473111</td>\n",
       "      <td>0.953841</td>\n",
       "      <td>0.020621</td>\n",
       "      <td>0.428217</td>\n",
       "      <td>3.43338</td>\n",
       "      <td>0.010093</td>\n",
       "    </tr>\n",
       "  </tbody>\n",
       "</table>\n",
       "<p>1 rows × 27 columns</p>\n",
       "</div>"
      ],
      "text/plain": [
       "       PRECISION PRECISION_RECALL_MIN_DEN    RECALL       MAP MAP_MIN_DEN  \\\n",
       "cutoff                                                                      \n",
       "10      0.338445                 0.339461  0.033197  0.241643    0.241977   \n",
       "\n",
       "             MRR      NDCG        F1  HIT_RATE ARHR_ALL_HITS  ...  \\\n",
       "cutoff                                                        ...   \n",
       "10      0.493913  0.346767  0.060464  0.784651      1.033204  ...   \n",
       "\n",
       "       COVERAGE_USER COVERAGE_USER_HIT USERS_IN_GT DIVERSITY_GINI  \\\n",
       "cutoff                                                              \n",
       "10          0.997914          0.783014    0.997914       0.002568   \n",
       "\n",
       "       SHANNON_ENTROPY RATIO_DIVERSITY_HERFINDAHL RATIO_DIVERSITY_GINI  \\\n",
       "cutoff                                                                   \n",
       "10            5.473111                   0.953841             0.020621   \n",
       "\n",
       "       RATIO_SHANNON_ENTROPY RATIO_AVERAGE_POPULARITY RATIO_NOVELTY  \n",
       "cutoff                                                               \n",
       "10                  0.428217                  3.43338      0.010093  \n",
       "\n",
       "[1 rows x 27 columns]"
      ]
     },
     "execution_count": 48,
     "metadata": {},
     "output_type": "execute_result"
    }
   ],
   "source": [
    "item_knn = ItemKNNCFRecommender(URM_ner)\n",
    "item_knn.fit(topK=100, similarity='jaccard')\n",
    "\n",
    "evaluator = EvaluatorHoldout(URM_ner_test, cutoff_list=[10], exclude_seen=False)\n",
    "result_df, _ = evaluator.evaluateRecommender(item_knn)\n",
    "result_df"
   ]
  },
  {
   "cell_type": "code",
   "execution_count": 49,
   "id": "b714489d",
   "metadata": {
    "execution": {
     "iopub.execute_input": "2024-05-19T18:39:41.580236Z",
     "iopub.status.busy": "2024-05-19T18:39:41.579840Z",
     "iopub.status.idle": "2024-05-19T18:40:08.942083Z",
     "shell.execute_reply": "2024-05-19T18:40:08.940867Z"
    },
    "papermill": {
     "duration": 27.446255,
     "end_time": "2024-05-19T18:40:08.944230",
     "exception": false,
     "start_time": "2024-05-19T18:39:41.497975",
     "status": "completed"
    },
    "tags": []
   },
   "outputs": [
    {
     "name": "stdout",
     "output_type": "stream",
     "text": [
      "PureSVDRecommender: URM Detected 3 ( 0.0%) users with no interactions.\n",
      "PureSVDRecommender: URM Detected 19035 (43.5%) items with no interactions.\n",
      "PureSVDRecommender: Computing SVD decomposition...\n",
      "PureSVDRecommender: Computing SVD decomposition... done in 4.27 sec\n",
      "EvaluatorHoldout: Processed 15310 (100.0%) in 22.69 sec. Users per second: 675\n"
     ]
    },
    {
     "data": {
      "text/html": [
       "<div>\n",
       "<style scoped>\n",
       "    .dataframe tbody tr th:only-of-type {\n",
       "        vertical-align: middle;\n",
       "    }\n",
       "\n",
       "    .dataframe tbody tr th {\n",
       "        vertical-align: top;\n",
       "    }\n",
       "\n",
       "    .dataframe thead th {\n",
       "        text-align: right;\n",
       "    }\n",
       "</style>\n",
       "<table border=\"1\" class=\"dataframe\">\n",
       "  <thead>\n",
       "    <tr style=\"text-align: right;\">\n",
       "      <th></th>\n",
       "      <th>PRECISION</th>\n",
       "      <th>PRECISION_RECALL_MIN_DEN</th>\n",
       "      <th>RECALL</th>\n",
       "      <th>MAP</th>\n",
       "      <th>MAP_MIN_DEN</th>\n",
       "      <th>MRR</th>\n",
       "      <th>NDCG</th>\n",
       "      <th>F1</th>\n",
       "      <th>HIT_RATE</th>\n",
       "      <th>ARHR_ALL_HITS</th>\n",
       "      <th>...</th>\n",
       "      <th>COVERAGE_USER</th>\n",
       "      <th>COVERAGE_USER_HIT</th>\n",
       "      <th>USERS_IN_GT</th>\n",
       "      <th>DIVERSITY_GINI</th>\n",
       "      <th>SHANNON_ENTROPY</th>\n",
       "      <th>RATIO_DIVERSITY_HERFINDAHL</th>\n",
       "      <th>RATIO_DIVERSITY_GINI</th>\n",
       "      <th>RATIO_SHANNON_ENTROPY</th>\n",
       "      <th>RATIO_AVERAGE_POPULARITY</th>\n",
       "      <th>RATIO_NOVELTY</th>\n",
       "    </tr>\n",
       "    <tr>\n",
       "      <th>cutoff</th>\n",
       "      <th></th>\n",
       "      <th></th>\n",
       "      <th></th>\n",
       "      <th></th>\n",
       "      <th></th>\n",
       "      <th></th>\n",
       "      <th></th>\n",
       "      <th></th>\n",
       "      <th></th>\n",
       "      <th></th>\n",
       "      <th></th>\n",
       "      <th></th>\n",
       "      <th></th>\n",
       "      <th></th>\n",
       "      <th></th>\n",
       "      <th></th>\n",
       "      <th></th>\n",
       "      <th></th>\n",
       "      <th></th>\n",
       "      <th></th>\n",
       "      <th></th>\n",
       "    </tr>\n",
       "  </thead>\n",
       "  <tbody>\n",
       "    <tr>\n",
       "      <th>10</th>\n",
       "      <td>0.365382</td>\n",
       "      <td>0.368539</td>\n",
       "      <td>0.050795</td>\n",
       "      <td>0.283615</td>\n",
       "      <td>0.285707</td>\n",
       "      <td>0.695447</td>\n",
       "      <td>0.415659</td>\n",
       "      <td>0.089191</td>\n",
       "      <td>0.876486</td>\n",
       "      <td>1.342637</td>\n",
       "      <td>...</td>\n",
       "      <td>0.997914</td>\n",
       "      <td>0.874658</td>\n",
       "      <td>0.997914</td>\n",
       "      <td>0.001527</td>\n",
       "      <td>5.728555</td>\n",
       "      <td>0.954883</td>\n",
       "      <td>0.012263</td>\n",
       "      <td>0.448203</td>\n",
       "      <td>3.536612</td>\n",
       "      <td>0.010003</td>\n",
       "    </tr>\n",
       "  </tbody>\n",
       "</table>\n",
       "<p>1 rows × 27 columns</p>\n",
       "</div>"
      ],
      "text/plain": [
       "       PRECISION PRECISION_RECALL_MIN_DEN    RECALL       MAP MAP_MIN_DEN  \\\n",
       "cutoff                                                                      \n",
       "10      0.365382                 0.368539  0.050795  0.283615    0.285707   \n",
       "\n",
       "             MRR      NDCG        F1  HIT_RATE ARHR_ALL_HITS  ...  \\\n",
       "cutoff                                                        ...   \n",
       "10      0.695447  0.415659  0.089191  0.876486      1.342637  ...   \n",
       "\n",
       "       COVERAGE_USER COVERAGE_USER_HIT USERS_IN_GT DIVERSITY_GINI  \\\n",
       "cutoff                                                              \n",
       "10          0.997914          0.874658    0.997914       0.001527   \n",
       "\n",
       "       SHANNON_ENTROPY RATIO_DIVERSITY_HERFINDAHL RATIO_DIVERSITY_GINI  \\\n",
       "cutoff                                                                   \n",
       "10            5.728555                   0.954883             0.012263   \n",
       "\n",
       "       RATIO_SHANNON_ENTROPY RATIO_AVERAGE_POPULARITY RATIO_NOVELTY  \n",
       "cutoff                                                               \n",
       "10                  0.448203                 3.536612      0.010003  \n",
       "\n",
       "[1 rows x 27 columns]"
      ]
     },
     "execution_count": 49,
     "metadata": {},
     "output_type": "execute_result"
    }
   ],
   "source": [
    "pure_svd = PureSVDRecommender(URM_ner)\n",
    "pure_svd.fit(num_factors=20)\n",
    "\n",
    "result_df, _ = evaluator.evaluateRecommender(pure_svd)\n",
    "result_df"
   ]
  },
  {
   "cell_type": "code",
   "execution_count": 50,
   "id": "143e5d16",
   "metadata": {
    "execution": {
     "iopub.execute_input": "2024-05-19T18:40:09.102943Z",
     "iopub.status.busy": "2024-05-19T18:40:09.102570Z",
     "iopub.status.idle": "2024-05-19T18:42:00.080564Z",
     "shell.execute_reply": "2024-05-19T18:42:00.079769Z"
    },
    "papermill": {
     "duration": 111.147956,
     "end_time": "2024-05-19T18:42:00.171062",
     "exception": false,
     "start_time": "2024-05-19T18:40:09.023106",
     "status": "completed"
    },
    "tags": []
   },
   "outputs": [
    {
     "name": "stdout",
     "output_type": "stream",
     "text": [
      "CPU times: user 3min 59s, sys: 2min 44s, total: 6min 43s\n",
      "Wall time: 1min 50s\n"
     ]
    },
    {
     "data": {
      "text/html": [
       "<div><style>\n",
       ".dataframe > thead > tr,\n",
       ".dataframe > tbody > tr {\n",
       "  text-align: right;\n",
       "  white-space: pre-wrap;\n",
       "}\n",
       "</style>\n",
       "<small>shape: (5, 8)</small><table border=\"1\" class=\"dataframe\"><thead><tr><th>impression_id</th><th>article</th><th>total_ner_svd_scores</th><th>mean_ner_svd_scores</th><th>max_ner_svd_scores</th><th>total_ner_item_knn_scores</th><th>mean_ner_item_knn_scores</th><th>max_ner_item_knn_scores</th></tr><tr><td>u32</td><td>i32</td><td>f32</td><td>f32</td><td>f32</td><td>f32</td><td>f32</td><td>f32</td></tr></thead><tbody><tr><td>101665143</td><td>9673564</td><td>-0.000208</td><td>-0.000625</td><td>0.0</td><td>0.0</td><td>0.0</td><td>0.0</td></tr><tr><td>495156171</td><td>9782745</td><td>0.422554</td><td>0.427991</td><td>0.407671</td><td>0.465658</td><td>0.455441</td><td>0.403262</td></tr><tr><td>88010264</td><td>9783657</td><td>-0.00293</td><td>-0.002955</td><td>0.002423</td><td>0.015528</td><td>0.013526</td><td>0.026389</td></tr><tr><td>130820222</td><td>9771113</td><td>0.139194</td><td>0.123333</td><td>0.071868</td><td>0.122218</td><td>0.10496</td><td>0.060637</td></tr><tr><td>18231388</td><td>9784281</td><td>0.127263</td><td>0.066722</td><td>0.118927</td><td>0.14862</td><td>0.084795</td><td>0.124174</td></tr></tbody></table></div>"
      ],
      "text/plain": [
       "shape: (5, 8)\n",
       "┌────────────┬─────────┬────────────┬────────────┬────────────┬────────────┬───────────┬───────────┐\n",
       "│ impression ┆ article ┆ total_ner_ ┆ mean_ner_s ┆ max_ner_sv ┆ total_ner_ ┆ mean_ner_ ┆ max_ner_i │\n",
       "│ _id        ┆ ---     ┆ svd_scores ┆ vd_scores  ┆ d_scores   ┆ item_knn_s ┆ item_knn_ ┆ tem_knn_s │\n",
       "│ ---        ┆ i32     ┆ ---        ┆ ---        ┆ ---        ┆ cores      ┆ scores    ┆ cores     │\n",
       "│ u32        ┆         ┆ f32        ┆ f32        ┆ f32        ┆ ---        ┆ ---       ┆ ---       │\n",
       "│            ┆         ┆            ┆            ┆            ┆ f32        ┆ f32       ┆ f32       │\n",
       "╞════════════╪═════════╪════════════╪════════════╪════════════╪════════════╪═══════════╪═══════════╡\n",
       "│ 101665143  ┆ 9673564 ┆ -0.000208  ┆ -0.000625  ┆ 0.0        ┆ 0.0        ┆ 0.0       ┆ 0.0       │\n",
       "│ 495156171  ┆ 9782745 ┆ 0.422554   ┆ 0.427991   ┆ 0.407671   ┆ 0.465658   ┆ 0.455441  ┆ 0.403262  │\n",
       "│ 88010264   ┆ 9783657 ┆ -0.00293   ┆ -0.002955  ┆ 0.002423   ┆ 0.015528   ┆ 0.013526  ┆ 0.026389  │\n",
       "│ 130820222  ┆ 9771113 ┆ 0.139194   ┆ 0.123333   ┆ 0.071868   ┆ 0.122218   ┆ 0.10496   ┆ 0.060637  │\n",
       "│ 18231388   ┆ 9784281 ┆ 0.127263   ┆ 0.066722   ┆ 0.118927   ┆ 0.14862    ┆ 0.084795  ┆ 0.124174  │\n",
       "└────────────┴─────────┴────────────┴────────────┴────────────┴────────────┴───────────┴───────────┘"
      ]
     },
     "execution_count": 50,
     "metadata": {},
     "output_type": "execute_result"
    }
   ],
   "source": [
    "%%time\n",
    "\n",
    "def get_inview_scores(user_ners_df, recommender, f_name):\n",
    "    user_index = user_ners_df['user_index'].to_list()[0]\n",
    "    ners = user_ners_df['ner_index'].to_numpy()\n",
    "    scores = recommender._compute_item_score([user_index], ners)[0, ners]\n",
    "    return user_ners_df.with_columns(\n",
    "        pl.Series(scores).alias(f_name)\n",
    "    )\n",
    "\n",
    "ner_inview_scores = behaviors_val.select(['user_id', 'article_ids_inview']).explode('article_ids_inview') \\\n",
    "    .join(articles.select(['article_id', 'ner_clusters']), left_on='article_ids_inview', right_on='article_id', how='left') \\\n",
    "    .explode('ner_clusters').unique(['user_id', 'ner_clusters']) \\\n",
    "    .with_columns(pl.col('ner_clusters').str.strip_chars_start('\\\" ').str.to_lowercase()) \\\n",
    "    .join(user_id_mapping, on='user_id', how='left') \\\n",
    "    .join(ner_mapping, left_on='ner_clusters', right_on='ner') \\\n",
    "    .select(['user_index', 'ner_index', 'user_id', 'article_ids_inview']) \\\n",
    "    .unique(['user_index', 'ner_index']) \\\n",
    "    .sort(['user_index', 'ner_index']).group_by('user_index').map_groups(\n",
    "        lambda user_df: user_df.pipe(get_inview_scores, recommender=pure_svd, f_name='pure_svd_scores') \\\n",
    "            .pipe(get_inview_scores, recommender=item_knn, f_name='item_knn_scores')\n",
    "    )\n",
    "\n",
    "behaviors_ner_scores = behaviors_val.select(['impression_id', 'user_id', 'article_ids_inview']).explode('article_ids_inview') \\\n",
    "    .join(ner_inview_scores, on=['user_id', 'article_ids_inview'], how='left') \\\n",
    "    .with_columns(pl.col(['pure_svd_scores', 'item_knn_scores']).fill_null(0)) \\\n",
    "    .group_by(['impression_id', 'article_ids_inview']).agg(\n",
    "        pl.col('pure_svd_scores').sum().alias('total_ner_svd_scores'),\n",
    "        pl.col('pure_svd_scores').mean().alias('mean_ner_svd_scores'),\n",
    "        pl.col('pure_svd_scores').max().alias('max_ner_svd_scores'),\n",
    "        pl.col('item_knn_scores').sum().alias('total_ner_item_knn_scores'),\n",
    "        pl.col('item_knn_scores').mean().alias('mean_ner_item_knn_scores'),\n",
    "        pl.col('item_knn_scores').max().alias('max_ner_item_knn_scores'),\n",
    "    ).with_columns(\n",
    "        pl.col(['total_ner_svd_scores', 'mean_ner_svd_scores', \n",
    "                'total_ner_item_knn_scores', 'mean_ner_item_knn_scores',\n",
    "                'max_ner_svd_scores', 'max_ner_item_knn_scores']).sum().over('impression_id').name.suffix('_max')\n",
    "    ).with_columns(\n",
    "        # l_inf normalization\n",
    "        pl.col('total_ner_svd_scores').truediv(pl.col('total_ner_svd_scores_max')),\n",
    "        pl.col('mean_ner_svd_scores').truediv(pl.col('mean_ner_svd_scores_max')),\n",
    "        pl.col('max_ner_svd_scores').truediv(pl.col('max_ner_svd_scores_max')),\n",
    "        pl.col('total_ner_item_knn_scores').truediv(pl.col('total_ner_item_knn_scores_max')),\n",
    "        pl.col('mean_ner_item_knn_scores').truediv(pl.col('mean_ner_item_knn_scores_max')),\n",
    "        pl.col('max_ner_item_knn_scores').truediv(pl.col('max_ner_item_knn_scores_max')),\n",
    "    ).drop(['total_ner_svd_scores_max', 'mean_ner_svd_scores_max', \n",
    "            'max_ner_svd_scores_max', 'total_ner_item_knn_scores_max',\n",
    "            'mean_ner_item_knn_scores_max', 'max_ner_item_knn_scores_max']) \\\n",
    "    .rename({'article_ids_inview': 'article'})\n",
    "behaviors_ner_scores.head(5)"
   ]
  },
  {
   "cell_type": "code",
   "execution_count": 51,
   "id": "51f792ff",
   "metadata": {
    "execution": {
     "iopub.execute_input": "2024-05-19T18:42:00.345412Z",
     "iopub.status.busy": "2024-05-19T18:42:00.344489Z",
     "iopub.status.idle": "2024-05-19T18:42:16.057155Z",
     "shell.execute_reply": "2024-05-19T18:42:16.056157Z"
    },
    "papermill": {
     "duration": 15.804691,
     "end_time": "2024-05-19T18:42:16.059350",
     "exception": false,
     "start_time": "2024-05-19T18:42:00.254659",
     "status": "completed"
    },
    "tags": []
   },
   "outputs": [
    {
     "name": "stderr",
     "output_type": "stream",
     "text": [
      "16it [00:14,  1.07it/s]                        \n"
     ]
    },
    {
     "name": "stdout",
     "output_type": "stream",
     "text": [
      "\u001b[1m\u001b[31m\n",
      "RAM memory GB usage = 9.748\u001b[0m\n",
      "Memory usage of dataframe is 36.51 MB\n",
      "Memory usage after optimization is: 35.72 MB\n",
      "Decreased by 2.2%\n",
      "CPU times: user 17.9 s, sys: 1.24 s, total: 19.1 s\n",
      "Wall time: 15.7 s\n"
     ]
    },
    {
     "data": {
      "text/html": [
       "<div><style>\n",
       ".dataframe > thead > tr,\n",
       ".dataframe > tbody > tr {\n",
       "  text-align: right;\n",
       "  white-space: pre-wrap;\n",
       "}\n",
       "</style>\n",
       "<small>shape: (2, 27)</small><table border=\"1\" class=\"dataframe\"><thead><tr><th>user_id</th><th>article_id_fixed</th><th>impression_time_fixed</th><th>category</th><th>NumArticlesHistory</th><th>MedianReadTime</th><th>MaxReadTime</th><th>TotalReadTime</th><th>MedianScrollPercentage</th><th>MaxScrollPercentage</th><th>NeutralPct</th><th>PositivePct</th><th>NegativePct</th><th>PctStrongNeutral</th><th>PctStrongPositive</th><th>PctStrongNegative</th><th>PctNotDefaultArticles</th><th>MostFrequentCategory</th><th>MostFrequentWeekday</th><th>MostFrequentHour</th><th>topics_flatten_tf_idf</th><th>PRODPct</th><th>ORGPct</th><th>LOCPct</th><th>MISCPct</th><th>EVENTPct</th><th>PERPct</th></tr><tr><td>u32</td><td>list[i32]</td><td>list[datetime[μs]]</td><td>list[i16]</td><td>u16</td><td>f32</td><td>f32</td><td>f32</td><td>f32</td><td>f32</td><td>f32</td><td>f32</td><td>f32</td><td>f32</td><td>f32</td><td>f32</td><td>f32</td><td>i16</td><td>i8</td><td>i8</td><td>list[f32]</td><td>f32</td><td>f32</td><td>f32</td><td>f32</td><td>f32</td><td>f32</td></tr></thead><tbody><tr><td>10623</td><td>[9750749, 9685790, … 9779517]</td><td>[2023-05-05 07:51:01, 2023-05-05 07:51:36, … 2023-05-24 17:10:11]</td><td>[118, 457, … 414]</td><td>150</td><td>3.5</td><td>1563.0</td><td>9330.0</td><td>37.0</td><td>100.0</td><td>0.28</td><td>0.093333</td><td>0.626667</td><td>0.126667</td><td>0.06</td><td>0.546667</td><td>0.06</td><td>118</td><td>1</td><td>20</td><td>[0.0, 0.042172, … 0.089681]</td><td>0.213333</td><td>0.913333</td><td>0.846667</td><td>0.266667</td><td>0.3</td><td>0.893333</td></tr><tr><td>12718</td><td>[9749036, 9749025, … 9778718]</td><td>[2023-05-04 07:49:49, 2023-05-04 07:50:15, … 2023-05-24 07:07:25]</td><td>[118, 118, … 140]</td><td>114</td><td>7.0</td><td>748.0</td><td>3440.0</td><td>36.0</td><td>100.0</td><td>0.245614</td><td>0.052632</td><td>0.701754</td><td>0.087719</td><td>0.035088</td><td>0.614035</td><td>0.035088</td><td>118</td><td>4</td><td>7</td><td>[0.0, 0.048524, … 0.217846]</td><td>0.254386</td><td>0.947368</td><td>0.815789</td><td>0.192982</td><td>0.114035</td><td>0.807018</td></tr></tbody></table></div>"
      ],
      "text/plain": [
       "shape: (2, 27)\n",
       "┌─────────┬─────────────┬─────────────┬────────────┬───┬──────────┬──────────┬──────────┬──────────┐\n",
       "│ user_id ┆ article_id_ ┆ impression_ ┆ category   ┆ … ┆ LOCPct   ┆ MISCPct  ┆ EVENTPct ┆ PERPct   │\n",
       "│ ---     ┆ fixed       ┆ time_fixed  ┆ ---        ┆   ┆ ---      ┆ ---      ┆ ---      ┆ ---      │\n",
       "│ u32     ┆ ---         ┆ ---         ┆ list[i16]  ┆   ┆ f32      ┆ f32      ┆ f32      ┆ f32      │\n",
       "│         ┆ list[i32]   ┆ list[dateti ┆            ┆   ┆          ┆          ┆          ┆          │\n",
       "│         ┆             ┆ me[μs]]     ┆            ┆   ┆          ┆          ┆          ┆          │\n",
       "╞═════════╪═════════════╪═════════════╪════════════╪═══╪══════════╪══════════╪══════════╪══════════╡\n",
       "│ 10623   ┆ [9750749,   ┆ [2023-05-05 ┆ [118, 457, ┆ … ┆ 0.846667 ┆ 0.266667 ┆ 0.3      ┆ 0.893333 │\n",
       "│         ┆ 9685790, …  ┆ 07:51:01,   ┆ … 414]     ┆   ┆          ┆          ┆          ┆          │\n",
       "│         ┆ 9779517]    ┆ 2023-05-…   ┆            ┆   ┆          ┆          ┆          ┆          │\n",
       "│ 12718   ┆ [9749036,   ┆ [2023-05-04 ┆ [118, 118, ┆ … ┆ 0.815789 ┆ 0.192982 ┆ 0.114035 ┆ 0.807018 │\n",
       "│         ┆ 9749025, …  ┆ 07:49:49,   ┆ … 140]     ┆   ┆          ┆          ┆          ┆          │\n",
       "│         ┆ 9778718]    ┆ 2023-05-…   ┆            ┆   ┆          ┆          ┆          ┆          │\n",
       "└─────────┴─────────────┴─────────────┴────────────┴───┴──────────┴──────────┴──────────┴──────────┘"
      ]
     },
     "execution_count": 51,
     "metadata": {},
     "output_type": "execute_result"
    }
   ],
   "source": [
    "%%time\n",
    "\n",
    "STRONG_THR = 0.8\n",
    "\n",
    "history_val = pl.concat(\n",
    "    rows.with_columns(pl.col('article_id_fixed').list.len().alias('NumArticlesHistory')) \\\n",
    "        .explode(['article_id_fixed', 'impression_time_fixed', 'read_time_fixed', 'scroll_percentage_fixed']) \\\n",
    "        .sort(by=['user_id', 'impression_time_fixed']) \\\n",
    "        .with_columns(\n",
    "            pl.col('impression_time_fixed').dt.weekday().alias('weekday'),\n",
    "            pl.col('impression_time_fixed').dt.hour().alias('hour'),\n",
    "        ).join(articles.select(['article_id', 'category', 'is_article_default', 'sentiment_label_int', \n",
    "                                'sentiment_score', 'entity_groups', 'topics']), \n",
    "               left_on='article_id_fixed', right_on='article_id', how='left') \\\n",
    "        .with_columns(\n",
    "            (pl.col('sentiment_label_int') == 0).alias('is_neutral'),\n",
    "            (pl.col('sentiment_label_int') == 1).alias('is_positive'),\n",
    "            (pl.col('sentiment_label_int') == -1).alias('is_negative'),\n",
    "            ((pl.col('sentiment_label_int') == 0) & (pl.col('sentiment_score') > STRONG_THR)).alias('strong_neutral'),\n",
    "            ((pl.col('sentiment_label_int') == 1) & (pl.col('sentiment_score') > STRONG_THR)).alias('strong_positive'),\n",
    "            ((pl.col('sentiment_label_int') == -1) & (pl.col('sentiment_score') > STRONG_THR)).alias('strong_negative'),\n",
    "            pl.col('entity_groups').list.unique(),\n",
    "        ).group_by('user_id').agg(\n",
    "            pl.col('article_id_fixed'),\n",
    "            pl.col('impression_time_fixed'),\n",
    "            pl.col('category'),\n",
    "            pl.col('NumArticlesHistory').first(),\n",
    "            pl.col('read_time_fixed').median().alias('MedianReadTime'),\n",
    "            pl.col('read_time_fixed').max().alias('MaxReadTime'),\n",
    "            pl.col('read_time_fixed').sum().alias('TotalReadTime'),\n",
    "            pl.col('scroll_percentage_fixed').median().alias('MedianScrollPercentage'),\n",
    "            pl.col('scroll_percentage_fixed').max().alias('MaxScrollPercentage'),\n",
    "            (pl.col('is_neutral').sum() / pl.col('NumArticlesHistory').first()).alias('NeutralPct'),\n",
    "            (pl.col('is_positive').sum() / pl.col('NumArticlesHistory').first()).alias('PositivePct'),\n",
    "            (pl.col('is_negative').sum() / pl.col('NumArticlesHistory').first()).alias('NegativePct'),\n",
    "            (pl.col('strong_neutral').sum() / pl.col('NumArticlesHistory').first()).alias('PctStrongNeutral'),\n",
    "            (pl.col('strong_positive').sum() / pl.col('NumArticlesHistory').first()).alias('PctStrongPositive'),\n",
    "            (pl.col('strong_negative').sum() / pl.col('NumArticlesHistory').first()).alias('PctStrongNegative'),\n",
    "            (1 - (pl.col('is_article_default').sum() / pl.col('NumArticlesHistory').first())).alias('PctNotDefaultArticles'),\n",
    "            pl.col('category').mode().alias('MostFrequentCategory'),\n",
    "            pl.col('weekday').mode().alias('MostFrequentWeekday'),\n",
    "            pl.col('hour').mode().alias('MostFrequentHour'),\n",
    "            pl.col('entity_groups').flatten(),\n",
    "            pl.col('topics').flatten().alias('topics_flatten')\n",
    "        ).pipe(add_topics_tf_idf_columns, topics_col='topics_flatten', vectorizer=vectorizer) \\\n",
    "        .drop('topics_flatten').with_columns(\n",
    "            pl.col('MostFrequentCategory').list.first(),\n",
    "            pl.col('MostFrequentWeekday').list.first(),\n",
    "            pl.col('MostFrequentHour').list.first(),\n",
    "        ).with_columns(\n",
    "            (pl.col('entity_groups').list.count_matches(entity) / pl.col('NumArticlesHistory')).alias(f'{entity}Pct')\n",
    "            for entity in unique_entities\n",
    "        ).drop('entity_groups')\n",
    "    for rows in tqdm.tqdm(history_val.iter_slices(1000), total=history_val.shape[0] // 1000)\n",
    ")\n",
    "\n",
    "gc.collect()\n",
    "PrintColor(f\"\\n\" + GetMemUsage(), color = Fore.RED)\n",
    "history_val = reduce_polars_df_memory_size(history_val)\n",
    "history_val.head(2)"
   ]
  },
  {
   "cell_type": "code",
   "execution_count": 52,
   "id": "ba38a1e1",
   "metadata": {
    "execution": {
     "iopub.execute_input": "2024-05-19T18:42:16.222312Z",
     "iopub.status.busy": "2024-05-19T18:42:16.221117Z",
     "iopub.status.idle": "2024-05-19T18:42:17.171311Z",
     "shell.execute_reply": "2024-05-19T18:42:17.170517Z"
    },
    "papermill": {
     "duration": 1.033502,
     "end_time": "2024-05-19T18:42:17.173945",
     "exception": false,
     "start_time": "2024-05-19T18:42:16.140443",
     "status": "completed"
    },
    "tags": []
   },
   "outputs": [],
   "source": [
    "last_history_df = history_val.with_columns(\n",
    "    pl.col('impression_time_fixed').list.max().alias('last_history_impression_time'),\n",
    "    pl.col('article_id_fixed').list.tail(1).alias('last_history_article'),\n",
    ").select(['user_id', 'last_history_impression_time', 'last_history_article'])\n",
    "\n",
    "last_session_time_df = behaviors_val.select(['session_id', 'user_id', 'impression_time', 'article_ids_inview', 'article_ids_clicked']) \\\n",
    "    .group_by('session_id').agg(\n",
    "        pl.col('user_id').first(), \n",
    "        pl.col('impression_time').max().alias('session_time'), \n",
    "        pl.col('article_ids_inview').flatten().alias('all_seen_articles'),\n",
    "        (pl.col('impression_time').max() - pl.col('impression_time').min()).dt.total_minutes().alias('session_duration'),\n",
    "    ).with_columns(\n",
    "        pl.col(['session_time', 'session_duration']).shift(1).over('user_id').name.prefix('last_'),\n",
    "        pl.col('all_seen_articles').list.unique().shift(1).over('user_id'),\n",
    "        pl.col('session_duration').rolling_mean(100, min_periods=1).over('user_id').alias('mean_prev_sessions_duration'),\n",
    "    ).with_columns(pl.col(['last_session_duration']).fill_null(0)) \\\n",
    "    .join(last_history_df, on='user_id', how='left') \\\n",
    "    .with_columns(\n",
    "        pl.col('last_session_time').fill_null(pl.col('last_history_impression_time')),\n",
    "        pl.col('all_seen_articles').fill_null(pl.col('last_history_article')),\n",
    "    ).select(['session_id', 'last_session_time', 'last_session_duration',\n",
    "              'all_seen_articles', 'mean_prev_sessions_duration'])"
   ]
  },
  {
   "cell_type": "code",
   "execution_count": 53,
   "id": "f7ffebfc",
   "metadata": {
    "execution": {
     "iopub.execute_input": "2024-05-19T18:42:17.338044Z",
     "iopub.status.busy": "2024-05-19T18:42:17.337308Z",
     "iopub.status.idle": "2024-05-19T18:46:33.049130Z",
     "shell.execute_reply": "2024-05-19T18:46:33.047997Z"
    },
    "papermill": {
     "duration": 255.79634,
     "end_time": "2024-05-19T18:46:33.051365",
     "exception": false,
     "start_time": "2024-05-19T18:42:17.255025",
     "status": "completed"
    },
    "tags": []
   },
   "outputs": [
    {
     "name": "stderr",
     "output_type": "stream",
     "text": [
      "16it [00:23,  1.44s/it]                        \n",
      "2205it [00:04, 537.38it/s]                          \n",
      "16it [00:01, 10.67it/s]                        \n",
      "16it [00:01,  8.50it/s]                        \n",
      "100%|██████████| 507/507 [00:03<00:00, 147.79it/s]\n",
      "100%|██████████| 507/507 [00:04<00:00, 102.96it/s]\n"
     ]
    },
    {
     "name": "stdout",
     "output_type": "stream",
     "text": [
      "\u001b[1m\u001b[31m\n",
      "RAM memory GB usage = 11.75\u001b[0m\n",
      "Memory usage of dataframe is 1314.28 MB\n",
      "Memory usage after optimization is: 735.73 MB\n",
      "Decreased by 44.0%\n",
      "\u001b[1m\u001b[31m\n",
      "RAM memory GB usage = 11.19\u001b[0m\n",
      "CPU times: user 13min 2s, sys: 1min 7s, total: 14min 10s\n",
      "Wall time: 4min 15s\n"
     ]
    },
    {
     "data": {
      "text/html": [
       "<div><style>\n",
       ".dataframe > thead > tr,\n",
       ".dataframe > tbody > tr {\n",
       "  text-align: right;\n",
       "  white-space: pre-wrap;\n",
       "}\n",
       "</style>\n",
       "<small>shape: (5, 93)</small><table border=\"1\" class=\"dataframe\"><thead><tr><th>impression_id</th><th>article</th><th>user_id</th><th>impression_time</th><th>target</th><th>device_type</th><th>read_time</th><th>scroll_percentage</th><th>is_sso_user</th><th>gender</th><th>age</th><th>is_subscriber</th><th>postcode</th><th>trendiness_score_1d</th><th>trendiness_score_3d</th><th>trendiness_score_5d</th><th>trendiness_score_3d_leak</th><th>weekday</th><th>hour</th><th>trendiness_score_1d/3d</th><th>trendiness_score_1d/5d</th><th>normalized_trendiness_score_overall</th><th>premium</th><th>category</th><th>sentiment_score</th><th>sentiment_label</th><th>num_images</th><th>title_len</th><th>subtitle_len</th><th>body_len</th><th>num_topics</th><th>total_pageviews</th><th>total_inviews</th><th>total_read_time</th><th>total_pageviews/inviews</th><th>article_type</th><th>article_delay_days</th><th>&hellip;</th><th>window_0_history_length</th><th>window_1_history_length</th><th>window_2_history_length</th><th>window_3_history_length</th><th>is_inside_window_0</th><th>is_inside_window_1</th><th>is_inside_window_2</th><th>is_inside_window_3</th><th>window_category_score</th><th>window_topics_score</th><th>trendiness_score_category</th><th>endorsement_10h</th><th>normalized_endorsement_10h</th><th>endorsement_10h_diff_rolling</th><th>endorsement_macd</th><th>endorsement_quantile_norm_10h</th><th>normalized_endorsement_10h_rolling_max_ratio</th><th>endorsement_20h_articleuser</th><th>normalized_endorsement_articleuser_20h</th><th>endorsement_20h_articleuser_diff_rolling</th><th>endorsement_articleuser_macd</th><th>endorsement_articleuser_quantile_norm_20h</th><th>normalized_endorsement_articleuser_20h_rolling_max_ratio</th><th>endorsement_10h_leak</th><th>normalized_endorsement_10h_right</th><th>endorsement_10h_leak_diff_rolling</th><th>endorsement_leak_macd</th><th>endorsement_quantile_norm_10h_leak</th><th>normalized_endorsement_10h_leak_rolling_max_ratio</th><th>clicked_count</th><th>inview_count</th><th>last_session_duration</th><th>mean_prev_sessions_duration</th><th>last_session_time_hour_diff</th><th>is_new_article</th><th>is_already_seen_article</th><th>yesterday_category_daily_pct</th></tr><tr><td>u32</td><td>i32</td><td>u32</td><td>date</td><td>i8</td><td>i8</td><td>f32</td><td>f32</td><td>bool</td><td>i8</td><td>i8</td><td>bool</td><td>i8</td><td>i16</td><td>i16</td><td>i16</td><td>i16</td><td>i8</td><td>i8</td><td>f32</td><td>f32</td><td>f32</td><td>bool</td><td>i16</td><td>f32</td><td>str</td><td>u32</td><td>u8</td><td>u8</td><td>u16</td><td>u32</td><td>i32</td><td>i32</td><td>f32</td><td>f32</td><td>str</td><td>i16</td><td>&hellip;</td><td>i16</td><td>i16</td><td>i16</td><td>i16</td><td>i8</td><td>i8</td><td>i8</td><td>i8</td><td>i16</td><td>i16</td><td>i8</td><td>u16</td><td>f32</td><td>f32</td><td>f32</td><td>f32</td><td>f32</td><td>u8</td><td>f32</td><td>f32</td><td>f32</td><td>f32</td><td>f32</td><td>i16</td><td>f32</td><td>f32</td><td>f32</td><td>f32</td><td>f32</td><td>u32</td><td>u16</td><td>i8</td><td>f32</td><td>i16</td><td>bool</td><td>bool</td><td>f32</td></tr></thead><tbody><tr><td>497194197</td><td>9777910</td><td>393380</td><td>2023-05-24</td><td>0</td><td>2</td><td>30.0</td><td>null</td><td>false</td><td>2</td><td>null</td><td>false</td><td>5</td><td>4</td><td>9</td><td>17</td><td>8</td><td>4</td><td>7</td><td>0.444444</td><td>0.235294</td><td>0.016484</td><td>false</td><td>457</td><td>0.9306</td><td>&quot;Neutral&quot;</td><td>1</td><td>8</td><td>18</td><td>92</td><td>2</td><td>93958</td><td>440140</td><td>7.265285e6</td><td>0.213473</td><td>&quot;article_default&quot;</td><td>0</td><td>&hellip;</td><td>476</td><td>225</td><td>62</td><td>21</td><td>1</td><td>0</td><td>0</td><td>0</td><td>2</td><td>6</td><td>9</td><td>2</td><td>0.012821</td><td>0.0</td><td>0.0</td><td>0.666667</td><td>0.333333</td><td>1</td><td>0.05</td><td>0.0</td><td>0.0</td><td>1.0</td><td>1.0</td><td>264</td><td>0.003372</td><td>4.5</td><td>2.5</td><td>0.15493</td><td>0.115284</td><td>1331</td><td>367</td><td>3</td><td>2.84</td><td>-74</td><td>true</td><td>false</td><td>0.021127</td></tr><tr><td>565885711</td><td>9780193</td><td>1389619</td><td>2023-05-24</td><td>1</td><td>1</td><td>27.0</td><td>null</td><td>true</td><td>0</td><td>null</td><td>false</td><td>5</td><td>1</td><td>5</td><td>9</td><td>3</td><td>4</td><td>7</td><td>0.2</td><td>0.111111</td><td>0.009158</td><td>false</td><td>118</td><td>0.5032</td><td>&quot;Neutral&quot;</td><td>0</td><td>7</td><td>13</td><td>225</td><td>1</td><td>58440</td><td>368985</td><td>3.245847e6</td><td>0.15838</td><td>&quot;article_default&quot;</td><td>0</td><td>&hellip;</td><td>393</td><td>281</td><td>104</td><td>241</td><td>1</td><td>0</td><td>0</td><td>0</td><td>205</td><td>12</td><td>109</td><td>4</td><td>0.025641</td><td>0.0</td><td>0.0</td><td>1.333333</td><td>1.0</td><td>1</td><td>0.058824</td><td>0.0</td><td>0.0</td><td>1.0</td><td>1.0</td><td>1048</td><td>0.009809</td><td>4.5</td><td>2.5</td><td>0.729805</td><td>0.477666</td><td>803</td><td>1112</td><td>0</td><td>0.833333</td><td>-41</td><td>true</td><td>false</td><td>0.239437</td></tr><tr><td>497194197</td><td>9777769</td><td>393380</td><td>2023-05-24</td><td>0</td><td>2</td><td>30.0</td><td>null</td><td>false</td><td>2</td><td>null</td><td>false</td><td>5</td><td>88</td><td>243</td><td>378</td><td>205</td><td>4</td><td>7</td><td>0.36214</td><td>0.232804</td><td>0.445055</td><td>false</td><td>118</td><td>0.8781</td><td>&quot;Neutral&quot;</td><td>3</td><td>8</td><td>14</td><td>333</td><td>3</td><td>116897</td><td>509990</td><td>5.323702e6</td><td>0.229214</td><td>&quot;article_default&quot;</td><td>0</td><td>&hellip;</td><td>476</td><td>225</td><td>62</td><td>21</td><td>1</td><td>0</td><td>0</td><td>0</td><td>133</td><td>294</td><td>109</td><td>1</td><td>0.00641</td><td>0.0</td><td>0.0</td><td>0.333333</td><td>0.166667</td><td>1</td><td>0.05</td><td>0.0</td><td>0.0</td><td>1.0</td><td>1.0</td><td>86</td><td>0.000863</td><td>4.5</td><td>2.5</td><td>0.046943</td><td>0.031769</td><td>1808</td><td>126</td><td>3</td><td>2.84</td><td>-74</td><td>true</td><td>false</td><td>0.239437</td></tr><tr><td>567281774</td><td>9777233</td><td>589220</td><td>2023-05-24</td><td>0</td><td>2</td><td>19.0</td><td>null</td><td>false</td><td>2</td><td>null</td><td>false</td><td>5</td><td>94</td><td>275</td><td>460</td><td>244</td><td>4</td><td>7</td><td>0.341818</td><td>0.204348</td><td>0.503663</td><td>false</td><td>142</td><td>0.8275</td><td>&quot;Positive&quot;</td><td>1</td><td>4</td><td>21</td><td>249</td><td>3</td><td>42789</td><td>280339</td><td>2.593098e6</td><td>0.152633</td><td>&quot;article_default&quot;</td><td>1</td><td>&hellip;</td><td>125</td><td>215</td><td>74</td><td>87</td><td>1</td><td>0</td><td>0</td><td>0</td><td>20</td><td>69</td><td>112</td><td>1</td><td>0.00641</td><td>0.0</td><td>0.0</td><td>0.333333</td><td>0.25</td><td>1</td><td>0.166667</td><td>0.0</td><td>0.0</td><td>1.0</td><td>1.0</td><td>20</td><td>0.000225</td><td>4.5</td><td>2.5</td><td>0.010433</td><td>0.008382</td><td>601</td><td>133</td><td>0</td><td>1.176471</td><td>-47</td><td>true</td><td>false</td><td>0.239437</td></tr><tr><td>497194197</td><td>9779891</td><td>393380</td><td>2023-05-24</td><td>0</td><td>2</td><td>30.0</td><td>null</td><td>false</td><td>2</td><td>null</td><td>false</td><td>5</td><td>158</td><td>490</td><td>835</td><td>451</td><td>4</td><td>7</td><td>0.322449</td><td>0.189222</td><td>0.897436</td><td>false</td><td>142</td><td>0.9534</td><td>&quot;Positive&quot;</td><td>1</td><td>8</td><td>17</td><td>206</td><td>5</td><td>18946</td><td>216460</td><td>927517.0</td><td>0.087527</td><td>&quot;article_default&quot;</td><td>0</td><td>&hellip;</td><td>476</td><td>225</td><td>62</td><td>21</td><td>1</td><td>0</td><td>0</td><td>0</td><td>105</td><td>472</td><td>112</td><td>2</td><td>0.012821</td><td>0.0</td><td>0.0</td><td>0.666667</td><td>0.333333</td><td>1</td><td>0.05</td><td>0.0</td><td>0.0</td><td>1.0</td><td>1.0</td><td>127</td><td>0.001955</td><td>5.2</td><td>2.8</td><td>0.068206</td><td>0.044908</td><td>204</td><td>263</td><td>3</td><td>2.84</td><td>-74</td><td>true</td><td>false</td><td>0.239437</td></tr></tbody></table></div>"
      ],
      "text/plain": [
       "shape: (5, 93)\n",
       "┌────────────┬─────────┬─────────┬────────────┬───┬────────────┬───────────┬───────────┬───────────┐\n",
       "│ impression ┆ article ┆ user_id ┆ impression ┆ … ┆ last_sessi ┆ is_new_ar ┆ is_alread ┆ yesterday │\n",
       "│ _id        ┆ ---     ┆ ---     ┆ _time      ┆   ┆ on_time_ho ┆ ticle     ┆ y_seen_ar ┆ _category │\n",
       "│ ---        ┆ i32     ┆ u32     ┆ ---        ┆   ┆ ur_diff    ┆ ---       ┆ ticle     ┆ _daily_pc │\n",
       "│ u32        ┆         ┆         ┆ date       ┆   ┆ ---        ┆ bool      ┆ ---       ┆ t         │\n",
       "│            ┆         ┆         ┆            ┆   ┆ i16        ┆           ┆ bool      ┆ ---       │\n",
       "│            ┆         ┆         ┆            ┆   ┆            ┆           ┆           ┆ f32       │\n",
       "╞════════════╪═════════╪═════════╪════════════╪═══╪════════════╪═══════════╪═══════════╪═══════════╡\n",
       "│ 497194197  ┆ 9777910 ┆ 393380  ┆ 2023-05-24 ┆ … ┆ -74        ┆ true      ┆ false     ┆ 0.021127  │\n",
       "│ 565885711  ┆ 9780193 ┆ 1389619 ┆ 2023-05-24 ┆ … ┆ -41        ┆ true      ┆ false     ┆ 0.239437  │\n",
       "│ 497194197  ┆ 9777769 ┆ 393380  ┆ 2023-05-24 ┆ … ┆ -74        ┆ true      ┆ false     ┆ 0.239437  │\n",
       "│ 567281774  ┆ 9777233 ┆ 589220  ┆ 2023-05-24 ┆ … ┆ -47        ┆ true      ┆ false     ┆ 0.239437  │\n",
       "│ 497194197  ┆ 9779891 ┆ 393380  ┆ 2023-05-24 ┆ … ┆ -74        ┆ true      ┆ false     ┆ 0.239437  │\n",
       "└────────────┴─────────┴─────────┴────────────┴───┴────────────┴───────────┴───────────┴───────────┘"
      ]
     },
     "execution_count": 53,
     "metadata": {},
     "output_type": "execute_result"
    }
   ],
   "source": [
    "%%time\n",
    "\n",
    "NPRATIO = 2\n",
    "\n",
    "users_mean_trendiness_scores, topics_mean_trendiness_scores = _preprocessing_history_trendiness_scores(\n",
    "        history=history_val, articles=articles)\n",
    "topic_mean_delays, user_mean_delays = _preprocessing_mean_delay_features(\n",
    "    articles=articles, history=history_val)\n",
    "windows, user_windows, user_topics_windows, user_category_windows = _preprocessing_window_features(\n",
    "    history=history_val, articles=articles)\n",
    "articles_endorsement = _preprocessing_article_endorsement_feature(\n",
    "    behaviors=behaviors_val, period=\"10h\")\n",
    "normalized_endorsement = normalize_endorsement(articles_endorsement)\n",
    "articles_endorsement_articleuser = _preprocessing_article_endorsement_feature_by_article_and_user(\n",
    "    behaviors=behaviors_val, period=\"20h\")\n",
    "normalized_endorsement_articleuser = normalize_endorsement_by_article_and_user(articles_endorsement_articleuser)\n",
    "\n",
    "history_counts=history_val.select(['article_id_fixed']).explode('article_id_fixed').group_by('article_id_fixed').len() \\\n",
    ".rename({'article_id_fixed':'article','len':'clicked_count'})\n",
    "\n",
    "behaviors_counts=behaviors_val.select('article_ids_inview').explode('article_ids_inview').group_by('article_ids_inview').len() \\\n",
    ".rename({'article_ids_inview':'article','len':'inview_count'})\n",
    "\n",
    "# dropping duplicates that can occur because of sampling strategy\n",
    "val_ds = behaviors_val.pipe(create_binary_labels_column, shuffle=True, seed=123) \\\n",
    "    .with_columns(pl.col('gender').fill_null(2)) \\\n",
    "    .with_columns(pl.col('postcode').fill_null(5)) \\\n",
    "    .select(['impression_id', 'article_ids_inview', 'impression_time', 'labels', \n",
    "             'device_type', 'read_time', 'scroll_percentage', 'user_id', 'is_sso_user', 'gender',\n",
    "             'age', 'is_subscriber', 'session_id', 'postcode']) \\\n",
    "    .explode(['article_ids_inview', 'labels']) \\\n",
    "    .rename({'article_ids_inview': 'article', 'labels': 'target'}) \\\n",
    "    .with_columns(pl.col('article').cast(pl.Int32)) \\\n",
    "    .pipe(add_trendiness_feature, articles=articles, period='1d') \\\n",
    "    .rename({'trendiness_score': 'trendiness_score_1d'}) \\\n",
    "    .pipe(add_trendiness_feature, articles=articles, period='3d') \\\n",
    "    .rename({'trendiness_score': 'trendiness_score_3d'}) \\\n",
    "    .pipe(add_trendiness_feature, articles=articles, period='5d') \\\n",
    "    .rename({'trendiness_score': 'trendiness_score_5d'}) \\\n",
    "    .pipe(add_trendiness_feature_leak, articles=articles, period='3d') \\\n",
    "    .rename({'trendiness_score_leak':'trendiness_score_3d_leak'}) \\\n",
    "    .unique(['impression_id', 'article']) \\\n",
    "    .with_columns(\n",
    "        pl.col('impression_time').dt.weekday().alias('weekday'),\n",
    "        pl.col('impression_time').dt.hour().alias('hour'),\n",
    "        pl.col('article').cast(pl.Int32),\n",
    "        (\n",
    "            pl.col('trendiness_score_1d') / \n",
    "            pl.col('trendiness_score_3d')\n",
    "        ).alias('trendiness_score_1d/3d'),\n",
    "        (\n",
    "            pl.col('trendiness_score_1d') / \n",
    "            pl.col('trendiness_score_5d')\n",
    "        ).alias('trendiness_score_1d/5d'),\n",
    "        (\n",
    "            pl.col('trendiness_score_3d') / \n",
    "            pl.col('trendiness_score_3d').max().over(pl.col('impression_time').dt.date())\n",
    "        ).alias('normalized_trendiness_score_overall'),\n",
    "    ).join(articles.select(['article_id', 'premium', 'published_time', 'category',\n",
    "                            'sentiment_score', 'sentiment_label', 'entity_groups',\n",
    "                            'num_images', 'title_len', 'subtitle_len', 'body_len','num_topics',\n",
    "                            'total_pageviews', 'total_inviews', 'total_read_time', \n",
    "                            'total_pageviews/inviews', 'article_type']),\n",
    "           left_on='article', right_on='article_id', how='left') \\\n",
    "    .with_columns(\n",
    "        (pl.col('impression_time') - pl.col('published_time')).dt.total_days().alias('article_delay_days'),\n",
    "        (pl.col('impression_time') - pl.col('published_time')).dt.total_hours().alias('article_delay_hours')\n",
    "    ).with_columns(\n",
    "        pl.col('entity_groups').list.contains(entity).alias(f'Entity_{entity}_Present')\n",
    "        for entity in unique_entities\n",
    "    ).drop('entity_groups') \\\n",
    "    .join(behaviors_ner_scores, on=['impression_id', 'article'], how='left') \\\n",
    "    .pipe(add_history_trendiness_scores_feature, articles=articles, \n",
    "          users_mean_trendiness_scores=users_mean_trendiness_scores,\n",
    "          topics_mean_trendiness_scores=topics_mean_trendiness_scores, topics=topics) \\\n",
    "    .pipe(add_mean_delays_features, articles=articles,\n",
    "          topic_mean_delays=topic_mean_delays, user_mean_delays=user_mean_delays) \\\n",
    "    .pipe(add_window_features, articles=articles, user_windows=user_windows,\n",
    "          user_category_windows=user_category_windows, \n",
    "          user_topics_windows=user_topics_windows, windows=windows) \\\n",
    "    .pipe(add_trendiness_feature_categories, articles=articles) \\\n",
    "    .pipe(add_article_endorsement_feature, normalized_endorsement=normalized_endorsement) \\\n",
    "    .pipe(add_article_endorsement_feature_by_article_and_user, normalized_endorsement = normalized_endorsement_articleuser) \\\n",
    "    .pipe(add_article_endorsement_feature_leak, normalized_endorsement = normalized_endorsement) \\\n",
    "    .rename({\n",
    "        \"endorsement_10h_diff_rolling_right\":\"endorsement_10h_leak_diff_rolling\",\n",
    "        \"endorsement_macd_right\":\"endorsement_leak_macd\",\n",
    "        \"endorsement_quantile_norm_10h_right\":\"endorsement_quantile_norm_10h_leak\",\n",
    "        \"normalized_endorsement_10h_rolling_max_ratio_right\":\"normalized_endorsement_10h_leak_rolling_max_ratio\"\n",
    "    }).join(history_counts, on='article',how='left') \\\n",
    "    .join(behaviors_counts , on='article', how='left') \\\n",
    "    .join(last_session_time_df, on='session_id', how='left').with_columns(\n",
    "        (pl.col('impression_time') - pl.col('last_session_time')).dt.total_hours().alias('last_session_time_hour_diff'),\n",
    "        ((pl.col('last_session_time') - pl.col('published_time')).dt.total_hours() > 0).alias('is_new_article'),\n",
    "        pl.col('all_seen_articles').list.contains(pl.col('article')).alias('is_already_seen_article'),\n",
    "    ).drop(['published_time', 'session_id', 'all_seen_articles', 'last_session_time']) \\\n",
    "    .join(published_category_popularity, how='left', right_on=['published_date', 'category'],\n",
    "          left_on=[pl.col('impression_time').dt.date() - pl.duration(days=1), 'category']) \\\n",
    "    .rename({'category_daily_pct': 'yesterday_category_daily_pct'}) \\\n",
    "    .with_columns(pl.col('yesterday_category_daily_pct').fill_null(0))\n",
    "\n",
    "gc.collect()\n",
    "PrintColor(f\"\\n\" + GetMemUsage(), color = Fore.RED)\n",
    "\n",
    "val_ds = reduce_polars_df_memory_size(val_ds)\n",
    "PrintColor(f\"\\n\" + GetMemUsage(), color = Fore.RED)\n",
    "val_ds.head()"
   ]
  },
  {
   "cell_type": "code",
   "execution_count": 54,
   "id": "53d2c4c1",
   "metadata": {
    "execution": {
     "iopub.execute_input": "2024-05-19T18:46:33.230896Z",
     "iopub.status.busy": "2024-05-19T18:46:33.229697Z",
     "iopub.status.idle": "2024-05-19T18:46:33.236663Z",
     "shell.execute_reply": "2024-05-19T18:46:33.235666Z"
    },
    "papermill": {
     "duration": 0.098404,
     "end_time": "2024-05-19T18:46:33.238528",
     "exception": false,
     "start_time": "2024-05-19T18:46:33.140124",
     "status": "completed"
    },
    "tags": []
   },
   "outputs": [
    {
     "data": {
      "text/plain": [
       "(2928942, 93)"
      ]
     },
     "execution_count": 54,
     "metadata": {},
     "output_type": "execute_result"
    }
   ],
   "source": [
    "val_ds.shape"
   ]
  },
  {
   "cell_type": "code",
   "execution_count": 55,
   "id": "2400a50a",
   "metadata": {
    "execution": {
     "iopub.execute_input": "2024-05-19T18:46:33.420588Z",
     "iopub.status.busy": "2024-05-19T18:46:33.419837Z",
     "iopub.status.idle": "2024-05-19T19:21:21.129348Z",
     "shell.execute_reply": "2024-05-19T19:21:21.128658Z"
    },
    "papermill": {
     "duration": 2087.803285,
     "end_time": "2024-05-19T19:21:21.131520",
     "exception": false,
     "start_time": "2024-05-19T18:46:33.328235",
     "status": "completed"
    },
    "tags": []
   },
   "outputs": [
    {
     "name": "stderr",
     "output_type": "stream",
     "text": [
      "293it [34:42,  7.11s/it]\n"
     ]
    },
    {
     "name": "stdout",
     "output_type": "stream",
     "text": [
      "Memory usage of dataframe is 1925.91 MB\n",
      "Memory usage after optimization is: 1492.96 MB\n",
      "Decreased by 22.5%\n",
      "\u001b[1m\u001b[31m\n",
      "RAM memory GB usage = 13.36\u001b[0m\n"
     ]
    },
    {
     "data": {
      "text/html": [
       "<div><style>\n",
       ".dataframe > thead > tr,\n",
       ".dataframe > tbody > tr {\n",
       "  text-align: right;\n",
       "  white-space: pre-wrap;\n",
       "}\n",
       "</style>\n",
       "<small>shape: (5, 165)</small><table border=\"1\" class=\"dataframe\"><thead><tr><th>impression_id</th><th>article</th><th>user_id</th><th>target</th><th>device_type</th><th>read_time</th><th>scroll_percentage</th><th>is_sso_user</th><th>gender</th><th>age</th><th>is_subscriber</th><th>postcode</th><th>trendiness_score_1d</th><th>trendiness_score_3d</th><th>trendiness_score_5d</th><th>trendiness_score_3d_leak</th><th>weekday</th><th>hour</th><th>trendiness_score_1d/3d</th><th>trendiness_score_1d/5d</th><th>normalized_trendiness_score_overall</th><th>premium</th><th>category</th><th>sentiment_score</th><th>sentiment_label</th><th>num_images</th><th>title_len</th><th>subtitle_len</th><th>body_len</th><th>num_topics</th><th>total_pageviews</th><th>total_inviews</th><th>total_read_time</th><th>total_pageviews/inviews</th><th>article_type</th><th>article_delay_days</th><th>article_delay_hours</th><th>&hellip;</th><th>MostFrequentWeekday</th><th>MostFrequentHour</th><th>PRODPct</th><th>ORGPct</th><th>LOCPct</th><th>MISCPct</th><th>EVENTPct</th><th>PERPct</th><th>topics_cosine</th><th>IsFavouriteCategory</th><th>NumberDifferentCategories</th><th>PctCategoryMatches</th><th>Category_underholdning_Pct</th><th>Category_ferie_Pct</th><th>Category_bibliotek_Pct</th><th>Category_penge_Pct</th><th>Category_side9_Pct</th><th>Category_krimi_Pct</th><th>Category_forbrug_Pct</th><th>Category_auto_Pct</th><th>Category_dagsorden_Pct</th><th>Category_musik_Pct</th><th>Category_haandvaerkeren_Pct</th><th>Category_podcast_Pct</th><th>Category_plus_Pct</th><th>Category_horoskoper_Pct</th><th>Category_vin_Pct</th><th>Category_biler_Pct</th><th>Category_incoming_Pct</th><th>Category_services_Pct</th><th>Category_nyheder_Pct</th><th>Category_sport_Pct</th><th>Category_om_ekstra_bladet_Pct</th><th>Category_opinionen_Pct</th><th>Category_nationen_Pct</th><th>Category_video_Pct</th><th>Category_sex_og_samliv_Pct</th></tr><tr><td>u32</td><td>i32</td><td>u32</td><td>i8</td><td>i8</td><td>f32</td><td>f32</td><td>bool</td><td>i8</td><td>i8</td><td>bool</td><td>i8</td><td>i16</td><td>i16</td><td>i16</td><td>i16</td><td>i8</td><td>i8</td><td>f32</td><td>f32</td><td>f32</td><td>bool</td><td>i16</td><td>f32</td><td>str</td><td>u32</td><td>u8</td><td>u8</td><td>u16</td><td>u32</td><td>i32</td><td>i32</td><td>f32</td><td>f32</td><td>str</td><td>i16</td><td>i32</td><td>&hellip;</td><td>i8</td><td>i8</td><td>f32</td><td>f32</td><td>f32</td><td>f32</td><td>f32</td><td>f32</td><td>f32</td><td>bool</td><td>u8</td><td>f32</td><td>f32</td><td>f32</td><td>f32</td><td>f32</td><td>f32</td><td>f32</td><td>f32</td><td>f32</td><td>f32</td><td>f32</td><td>f32</td><td>f32</td><td>f32</td><td>f32</td><td>f32</td><td>f32</td><td>f32</td><td>f32</td><td>f32</td><td>f32</td><td>f32</td><td>f32</td><td>f32</td><td>f32</td><td>f32</td></tr></thead><tbody><tr><td>116609521</td><td>9777026</td><td>1515189</td><td>0</td><td>2</td><td>10.0</td><td>null</td><td>false</td><td>2</td><td>null</td><td>false</td><td>5</td><td>125</td><td>367</td><td>589</td><td>336</td><td>4</td><td>7</td><td>0.340599</td><td>0.212224</td><td>0.672161</td><td>false</td><td>414</td><td>0.5496</td><td>&quot;Neutral&quot;</td><td>2</td><td>9</td><td>16</td><td>225</td><td>6</td><td>197066</td><td>748840</td><td>1.0179357e7</td><td>0.263162</td><td>&quot;article_default&quot;</td><td>1</td><td>45</td><td>&hellip;</td><td>7</td><td>21</td><td>0.314286</td><td>0.921429</td><td>0.782143</td><td>0.242857</td><td>0.260714</td><td>0.896429</td><td>0.420377</td><td>false</td><td>9</td><td>0.971429</td><td>0.185714</td><td>0.0</td><td>0.0</td><td>0.021429</td><td>0.0</td><td>0.128571</td><td>0.042857</td><td>0.0</td><td>0.0</td><td>0.039286</td><td>0.0</td><td>0.0</td><td>0.0</td><td>0.0</td><td>0.0</td><td>0.003571</td><td>0.0</td><td>0.0</td><td>0.214286</td><td>0.339286</td><td>0.0</td><td>0.0</td><td>0.025</td><td>0.0</td><td>0.0</td></tr><tr><td>487191524</td><td>9779737</td><td>1978435</td><td>0</td><td>1</td><td>9.0</td><td>null</td><td>true</td><td>2</td><td>null</td><td>true</td><td>5</td><td>71</td><td>201</td><td>296</td><td>160</td><td>4</td><td>7</td><td>0.353234</td><td>0.239865</td><td>0.368132</td><td>false</td><td>140</td><td>0.9939</td><td>&quot;Negative&quot;</td><td>0</td><td>6</td><td>19</td><td>127</td><td>5</td><td>195734</td><td>618596</td><td>9.766141e6</td><td>0.316417</td><td>&quot;article_default&quot;</td><td>0</td><td>12</td><td>&hellip;</td><td>5</td><td>6</td><td>0.304493</td><td>0.898502</td><td>0.793677</td><td>0.231281</td><td>0.206323</td><td>0.873544</td><td>0.383397</td><td>false</td><td>12</td><td>0.981697</td><td>0.159734</td><td>0.0</td><td>0.0</td><td>0.03827</td><td>0.003328</td><td>0.199667</td><td>0.019967</td><td>0.0</td><td>0.0</td><td>0.023295</td><td>0.0</td><td>0.0</td><td>0.0</td><td>0.0</td><td>0.0</td><td>0.001664</td><td>0.0</td><td>0.0</td><td>0.349418</td><td>0.171381</td><td>0.0</td><td>0.001664</td><td>0.02995</td><td>0.0</td><td>0.001664</td></tr><tr><td>220893386</td><td>9778939</td><td>2288664</td><td>0</td><td>2</td><td>57.0</td><td>null</td><td>false</td><td>2</td><td>null</td><td>false</td><td>5</td><td>110</td><td>319</td><td>484</td><td>255</td><td>4</td><td>7</td><td>0.344828</td><td>0.227273</td><td>0.584249</td><td>true</td><td>414</td><td>0.9926</td><td>&quot;Negative&quot;</td><td>3</td><td>8</td><td>18</td><td>776</td><td>5</td><td>144704</td><td>1279706</td><td>8.283967e6</td><td>0.113076</td><td>&quot;article_default&quot;</td><td>0</td><td>15</td><td>&hellip;</td><td>1</td><td>7</td><td>0.217822</td><td>0.881188</td><td>0.762376</td><td>0.267327</td><td>0.267327</td><td>0.851485</td><td>0.254449</td><td>false</td><td>8</td><td>0.930693</td><td>0.09901</td><td>0.0</td><td>0.0</td><td>0.059406</td><td>0.0</td><td>0.089109</td><td>0.0</td><td>0.0</td><td>0.0</td><td>0.019802</td><td>0.0</td><td>0.0</td><td>0.0</td><td>0.0</td><td>0.0</td><td>0.009901</td><td>0.0</td><td>0.0</td><td>0.366337</td><td>0.336634</td><td>0.0</td><td>0.0</td><td>0.019802</td><td>0.0</td><td>0.0</td></tr><tr><td>84218843</td><td>7310404</td><td>619911</td><td>0</td><td>1</td><td>52.0</td><td>null</td><td>false</td><td>2</td><td>null</td><td>false</td><td>5</td><td>19</td><td>85</td><td>123</td><td>51</td><td>4</td><td>7</td><td>0.223529</td><td>0.154472</td><td>0.155678</td><td>true</td><td>457</td><td>0.6599</td><td>&quot;Neutral&quot;</td><td>11</td><td>10</td><td>33</td><td>3021</td><td>3</td><td>null</td><td>null</td><td>null</td><td>null</td><td>&quot;article_default&quot;</td><td>1701</td><td>40845</td><td>&hellip;</td><td>3</td><td>8</td><td>0.5</td><td>1.0</td><td>0.75</td><td>0.25</td><td>0.3</td><td>0.7</td><td>0.033559</td><td>false</td><td>5</td><td>0.75</td><td>0.0</td><td>0.0</td><td>0.0</td><td>0.45</td><td>0.0</td><td>0.0</td><td>0.0</td><td>0.0</td><td>0.0</td><td>0.05</td><td>0.0</td><td>0.0</td><td>0.0</td><td>0.0</td><td>0.0</td><td>0.0</td><td>0.0</td><td>0.0</td><td>0.2</td><td>0.25</td><td>0.0</td><td>0.0</td><td>0.05</td><td>0.0</td><td>0.0</td></tr><tr><td>497195044</td><td>9547869</td><td>396237</td><td>0</td><td>1</td><td>13.0</td><td>null</td><td>false</td><td>2</td><td>null</td><td>false</td><td>5</td><td>22</td><td>81</td><td>116</td><td>43</td><td>4</td><td>7</td><td>0.271605</td><td>0.189655</td><td>0.148352</td><td>true</td><td>457</td><td>0.9015</td><td>&quot;Positive&quot;</td><td>3</td><td>5</td><td>32</td><td>811</td><td>3</td><td>null</td><td>null</td><td>null</td><td>null</td><td>&quot;article_default&quot;</td><td>143</td><td>3433</td><td>&hellip;</td><td>1</td><td>8</td><td>0.232323</td><td>0.888889</td><td>0.742424</td><td>0.199495</td><td>0.209596</td><td>0.833333</td><td>0.081745</td><td>false</td><td>9</td><td>0.979798</td><td>0.116162</td><td>0.0</td><td>0.0</td><td>0.025253</td><td>0.0</td><td>0.184343</td><td>0.015152</td><td>0.0</td><td>0.0</td><td>0.032828</td><td>0.0</td><td>0.0</td><td>0.0</td><td>0.0</td><td>0.0</td><td>0.002525</td><td>0.0</td><td>0.0</td><td>0.265152</td><td>0.295455</td><td>0.0</td><td>0.0</td><td>0.063131</td><td>0.0</td><td>0.0</td></tr></tbody></table></div>"
      ],
      "text/plain": [
       "shape: (5, 165)\n",
       "┌─────────────┬─────────┬─────────┬────────┬───┬────────────┬────────────┬────────────┬────────────┐\n",
       "│ impression_ ┆ article ┆ user_id ┆ target ┆ … ┆ Category_o ┆ Category_n ┆ Category_v ┆ Category_s │\n",
       "│ id          ┆ ---     ┆ ---     ┆ ---    ┆   ┆ pinionen_P ┆ ationen_Pc ┆ ideo_Pct   ┆ ex_og_saml │\n",
       "│ ---         ┆ i32     ┆ u32     ┆ i8     ┆   ┆ ct         ┆ t          ┆ ---        ┆ iv_Pct     │\n",
       "│ u32         ┆         ┆         ┆        ┆   ┆ ---        ┆ ---        ┆ f32        ┆ ---        │\n",
       "│             ┆         ┆         ┆        ┆   ┆ f32        ┆ f32        ┆            ┆ f32        │\n",
       "╞═════════════╪═════════╪═════════╪════════╪═══╪════════════╪════════════╪════════════╪════════════╡\n",
       "│ 116609521   ┆ 9777026 ┆ 1515189 ┆ 0      ┆ … ┆ 0.0        ┆ 0.025      ┆ 0.0        ┆ 0.0        │\n",
       "│ 487191524   ┆ 9779737 ┆ 1978435 ┆ 0      ┆ … ┆ 0.001664   ┆ 0.02995    ┆ 0.0        ┆ 0.001664   │\n",
       "│ 220893386   ┆ 9778939 ┆ 2288664 ┆ 0      ┆ … ┆ 0.0        ┆ 0.019802   ┆ 0.0        ┆ 0.0        │\n",
       "│ 84218843    ┆ 7310404 ┆ 619911  ┆ 0      ┆ … ┆ 0.0        ┆ 0.05       ┆ 0.0        ┆ 0.0        │\n",
       "│ 497195044   ┆ 9547869 ┆ 396237  ┆ 0      ┆ … ┆ 0.0        ┆ 0.063131   ┆ 0.0        ┆ 0.0        │\n",
       "└─────────────┴─────────┴─────────┴────────┴───┴────────────┴────────────┴────────────┴────────────┘"
      ]
     },
     "execution_count": 55,
     "metadata": {},
     "output_type": "execute_result"
    }
   ],
   "source": [
    "prev_columns = [c for c in val_ds.columns if c not in ['impression_id', 'article', 'impression_time']]\n",
    "\n",
    "val_ds = pl.concat(\n",
    "    rows.join(history_val.select(['user_id', 'article_id_fixed', 'impression_time_fixed']), on='user_id', how='left') \\\n",
    "        .join(articles.select(['article_id', 'topics', 'entity_groups', 'topics_idf'] + topic_model_columns), \n",
    "              left_on='article', right_on='article_id', how='left') \\\n",
    "        .explode(['article_id_fixed', 'impression_time_fixed']) \\\n",
    "        .join(articles.select(['article_id', 'topics', 'entity_groups'] + topic_model_columns), \n",
    "              left_on='article_id_fixed', right_on='article_id', how='left') \\\n",
    "        .rename({'topics_right': 'topics_history', 'entity_groups_right': 'entity_groups_history'}) \\\n",
    "        .rename({f'topic_model_embedding_{i}_right': f'topic_model_embedding_{i}_history' for i in range(N_COMPONENTS)}) \\\n",
    "        .with_columns(\n",
    "            # 1/delay gives the weight for the weighted mean of the lda embeddings\n",
    "            (1 / (pl.col('impression_time') - pl.col('impression_time_fixed')).dt.total_hours().sqrt()).alias('history_weight'),\n",
    "            (pl.col(\"topics\").list.set_intersection(pl.col(\"topics_history\")).list.len().truediv(\n",
    "                pl.col(\"topics\").list.set_union(pl.col(\"topics_history\")).list.len()\n",
    "            )).alias(\"JS\"),\n",
    "            pl.col('entity_groups').list.set_intersection(pl.col('entity_groups_history')).list.len().alias('common_entities'),\n",
    "        ).drop(['entity_groups_history', 'entity_groups', 'topics', 'topics_history']) \\\n",
    "        .with_columns(\n",
    "            # summing delays to normalize them before weighted mean\n",
    "            pl.col('history_weight').sum().over(['impression_id', 'article']).alias('history_weight_sum'),\n",
    "            *[pl.col(x).mul(pl.col(f'{x}_history')).alias(f'{x}_dot') for x in topic_model_columns],\n",
    "            *[pl.col(x).mul(pl.col(x)) for x in topic_model_columns],\n",
    "            *[pl.col(f'{x}_history').mul(pl.col(f'{x}_history')).alias(f'{x}_history_square') for x in topic_model_columns],\n",
    "        ).with_columns(\n",
    "            # weights now sum to 1\n",
    "            pl.col('history_weight').truediv(pl.col('history_weight_sum')),\n",
    "            pl.sum_horizontal(topic_model_columns).sqrt().alias('topic_model_norm'),\n",
    "            pl.sum_horizontal([f'{x}_history_square' for x in topic_model_columns]).sqrt().alias('topic_model_history_norm'),\n",
    "            pl.sum_horizontal([f'{x}_dot' for x in topic_model_columns]).alias('topic_model_dot'),\n",
    "        ).with_columns(\n",
    "            *[pl.col(f'{x}_history').mul(pl.col('history_weight')).alias(f'{x}_history_weighted') for i, x in enumerate(topic_model_columns)],\n",
    "            pl.col('topic_model_dot').truediv(pl.col('topic_model_norm').mul('topic_model_history_norm')).alias('topic_model_cosine')\n",
    "        ).group_by(['impression_id', 'article']).agg(\n",
    "            pl.col(prev_train_columns).first(),\n",
    "            pl.col('topics_idf').first(),\n",
    "            pl.col('common_entities').mean().alias('MeanCommonEntities'),\n",
    "            pl.col('common_entities').max().alias('MaxCommonEntities'),\n",
    "            pl.col(\"JS\").mean().alias(\"mean_JS\"),\n",
    "            pl.col(\"JS\").min().alias(\"min_JS\"),\n",
    "            pl.col(\"JS\").max().alias(\"max_JS\"),\n",
    "            pl.col(\"JS\").std().alias(\"std_JS\"),\n",
    "            pl.col(\"JS\").mul(pl.col(\"history_weight\")).sum().alias(\"weighted_mean_JS\"),\n",
    "            pl.col(\"topic_model_cosine\").mean().alias(\"mean_topic_model_cosine\"),\n",
    "            pl.col(\"topic_model_cosine\").min().alias(\"min_topic_model_cosine\"),\n",
    "            pl.col(\"topic_model_cosine\").max().alias(\"max_topic_model_cosine\"),\n",
    "            pl.col(\"topic_model_cosine\").std().alias(\"std_topic_model_cosine\"),\n",
    "            pl.col(\"topic_model_cosine\").mul(pl.col(\"history_weight\")).sum().alias(\"weighted_mean_topic_model_cosine\"),\n",
    "            *[pl.col(f'{x}_history').mean().alias(f'lda_{i}_history_mean') for i, x in enumerate(topic_model_columns)],\n",
    "            *[pl.col(f'{x}_history_weighted').sum().alias(f'lda_{i}_history_weighted_mean') for i, x in enumerate(topic_model_columns)]\n",
    "        ).join(history_val.drop(['article_id_fixed', 'impression_time_fixed']), on='user_id', how='left') \\\n",
    "        .with_columns(\n",
    "            pl.struct(['topics_idf', 'topics_flatten_tf_idf']).map_elements(\n",
    "                lambda x: cosine_similarity(x['topics_idf'], x['topics_flatten_tf_idf']), return_dtype=pl.Float64\n",
    "            ).cast(pl.Float32).alias('topics_cosine'),\n",
    "            (pl.col('category') == pl.col('MostFrequentCategory')).alias('IsFavouriteCategory'),\n",
    "            pl.col('category_right').list.n_unique().alias('NumberDifferentCategories'),\n",
    "            list_pct_matches_with_col('category_right', 'category').alias('PctCategoryMatches'),\n",
    "        ).with_columns(\n",
    "            [list_pct_matches_with_constant('category_right', c).alias(f'Category_{c_str}_Pct')\n",
    "             for c, c_str in unique_categories.items()]\n",
    "        ).drop(['topics_idf', 'topics_flatten', 'topics_flatten_tf_idf', 'category_right'])\n",
    "    for rows in tqdm.tqdm(val_ds.iter_slices(10000), total=val_ds.shape[0] // 10000)\n",
    ")\n",
    "\n",
    "val_ds = reduce_polars_df_memory_size(val_ds)\n",
    "PrintColor(f\"\\n\" + GetMemUsage(), color = Fore.RED)\n",
    "val_ds.head()"
   ]
  },
  {
   "cell_type": "code",
   "execution_count": 56,
   "id": "91df4a02",
   "metadata": {
    "execution": {
     "iopub.execute_input": "2024-05-19T19:21:21.362391Z",
     "iopub.status.busy": "2024-05-19T19:21:21.361381Z",
     "iopub.status.idle": "2024-05-19T19:22:36.497125Z",
     "shell.execute_reply": "2024-05-19T19:22:36.496157Z"
    },
    "papermill": {
     "duration": 75.253557,
     "end_time": "2024-05-19T19:22:36.499758",
     "exception": false,
     "start_time": "2024-05-19T19:21:21.246201",
     "status": "completed"
    },
    "tags": []
   },
   "outputs": [
    {
     "name": "stderr",
     "output_type": "stream",
     "text": [
      "  0%|          | 0/12 [00:00<?, ?it/s]"
     ]
    },
    {
     "name": "stdout",
     "output_type": "stream",
     "text": [
      "Memory usage of dataframe is 1807.55 MB\n"
     ]
    },
    {
     "name": "stderr",
     "output_type": "stream",
     "text": [
      "  8%|▊         | 1/12 [00:06<01:12,  6.61s/it]"
     ]
    },
    {
     "name": "stdout",
     "output_type": "stream",
     "text": [
      "Memory usage after optimization is: 1695.82 MB\n",
      "Decreased by 6.2%\n",
      "Memory usage of dataframe is 1729.69 MB\n"
     ]
    },
    {
     "name": "stderr",
     "output_type": "stream",
     "text": [
      " 17%|█▋        | 2/12 [00:10<00:48,  4.85s/it]"
     ]
    },
    {
     "name": "stdout",
     "output_type": "stream",
     "text": [
      "Memory usage after optimization is: 1713.72 MB\n",
      "Decreased by 0.9%\n",
      "Memory usage of dataframe is 1883.06 MB\n"
     ]
    },
    {
     "name": "stderr",
     "output_type": "stream",
     "text": [
      " 25%|██▌       | 3/12 [00:20<01:06,  7.35s/it]"
     ]
    },
    {
     "name": "stdout",
     "output_type": "stream",
     "text": [
      "Memory usage after optimization is: 1799.26 MB\n",
      "Decreased by 4.5%\n",
      "Memory usage of dataframe is 2113.85 MB\n"
     ]
    },
    {
     "name": "stderr",
     "output_type": "stream",
     "text": [
      " 33%|███▎      | 4/12 [00:23<00:45,  5.70s/it]"
     ]
    },
    {
     "name": "stdout",
     "output_type": "stream",
     "text": [
      "Memory usage after optimization is: 1990.95 MB\n",
      "Decreased by 5.8%\n",
      "Memory usage of dataframe is 2372.57 MB\n"
     ]
    },
    {
     "name": "stderr",
     "output_type": "stream",
     "text": [
      " 42%|████▏     | 5/12 [00:35<00:55,  7.99s/it]"
     ]
    },
    {
     "name": "stdout",
     "output_type": "stream",
     "text": [
      "Memory usage after optimization is: 2182.63 MB\n",
      "Decreased by 8.0%\n",
      "Memory usage of dataframe is 2564.26 MB\n"
     ]
    },
    {
     "name": "stderr",
     "output_type": "stream",
     "text": [
      " 50%|█████     | 6/12 [00:47<00:55,  9.32s/it]"
     ]
    },
    {
     "name": "stdout",
     "output_type": "stream",
     "text": [
      "Memory usage after optimization is: 2374.32 MB\n",
      "Decreased by 7.4%\n",
      "Memory usage of dataframe is 2687.17 MB\n"
     ]
    },
    {
     "name": "stderr",
     "output_type": "stream",
     "text": [
      " 58%|█████▊    | 7/12 [00:57<00:48,  9.62s/it]"
     ]
    },
    {
     "name": "stdout",
     "output_type": "stream",
     "text": [
      "Memory usage after optimization is: 2564.26 MB\n",
      "Decreased by 4.6%\n",
      "Memory usage of dataframe is 2878.85 MB\n"
     ]
    },
    {
     "name": "stderr",
     "output_type": "stream",
     "text": [
      " 67%|██████▋   | 8/12 [01:04<00:34,  8.53s/it]"
     ]
    },
    {
     "name": "stdout",
     "output_type": "stream",
     "text": [
      "Memory usage after optimization is: 2755.95 MB\n",
      "Decreased by 4.3%\n",
      "Memory usage of dataframe is 2800.64 MB\n"
     ]
    },
    {
     "name": "stderr",
     "output_type": "stream",
     "text": [
      " 75%|███████▌  | 9/12 [01:06<00:19,  6.62s/it]"
     ]
    },
    {
     "name": "stdout",
     "output_type": "stream",
     "text": [
      "Memory usage after optimization is: 2800.64 MB\n",
      "Decreased by 0.0%\n",
      "Memory usage of dataframe is 2867.68 MB\n"
     ]
    },
    {
     "name": "stderr",
     "output_type": "stream",
     "text": [
      " 83%|████████▎ | 10/12 [01:09<00:10,  5.36s/it]"
     ]
    },
    {
     "name": "stdout",
     "output_type": "stream",
     "text": [
      "Memory usage after optimization is: 2856.51 MB\n",
      "Decreased by 0.4%\n",
      "Memory usage of dataframe is 2890.03 MB\n"
     ]
    },
    {
     "name": "stderr",
     "output_type": "stream",
     "text": [
      " 92%|█████████▏| 11/12 [01:12<00:04,  4.62s/it]"
     ]
    },
    {
     "name": "stdout",
     "output_type": "stream",
     "text": [
      "Memory usage after optimization is: 2864.89 MB\n",
      "Decreased by 0.9%\n",
      "Memory usage of dataframe is 2887.23 MB\n"
     ]
    },
    {
     "name": "stderr",
     "output_type": "stream",
     "text": [
      "100%|██████████| 12/12 [01:15<00:00,  6.26s/it]"
     ]
    },
    {
     "name": "stdout",
     "output_type": "stream",
     "text": [
      "Memory usage after optimization is: 2876.06 MB\n",
      "Decreased by 0.4%\n",
      "\u001b[1m\u001b[31m\n",
      "RAM memory GB usage = 13.69\u001b[0m\n"
     ]
    },
    {
     "name": "stderr",
     "output_type": "stream",
     "text": [
      "\n"
     ]
    },
    {
     "data": {
      "text/html": [
       "<div><style>\n",
       ".dataframe > thead > tr,\n",
       ".dataframe > tbody > tr {\n",
       "  text-align: right;\n",
       "  white-space: pre-wrap;\n",
       "}\n",
       "</style>\n",
       "<small>shape: (2, 298)</small><table border=\"1\" class=\"dataframe\"><thead><tr><th>impression_id</th><th>article</th><th>user_id</th><th>target</th><th>device_type</th><th>read_time</th><th>scroll_percentage</th><th>is_sso_user</th><th>gender</th><th>age</th><th>is_subscriber</th><th>postcode</th><th>trendiness_score_1d</th><th>trendiness_score_3d</th><th>trendiness_score_5d</th><th>trendiness_score_3d_leak</th><th>weekday</th><th>hour</th><th>trendiness_score_1d/3d</th><th>trendiness_score_1d/5d</th><th>normalized_trendiness_score_overall</th><th>premium</th><th>category</th><th>sentiment_score</th><th>sentiment_label</th><th>num_images</th><th>title_len</th><th>subtitle_len</th><th>body_len</th><th>num_topics</th><th>total_pageviews</th><th>total_inviews</th><th>total_read_time</th><th>total_pageviews/inviews</th><th>article_type</th><th>article_delay_days</th><th>article_delay_hours</th><th>&hellip;</th><th>entropy_impression_trendiness_score_category</th><th>entropy_impression_std_JS</th><th>entropy_impression_total_read_time</th><th>entropy_impression_endorsement_10h_leak</th><th>entropy_impression_trendiness_score_3d_leak</th><th>entropy_impression_clicked_count</th><th>entropy_impression_inview_count</th><th>trendiness_score_3d_minus_median_impression</th><th>trendiness_score_5d_minus_median_impression</th><th>endorsement_10h_minus_median_impression</th><th>total_pageviews/inviews_minus_median_impression</th><th>mean_JS_minus_median_impression</th><th>mean_topic_model_cosine_minus_median_impression</th><th>topics_cosine_minus_median_impression</th><th>article_delay_hours_minus_median_impression</th><th>total_pageviews_minus_median_impression</th><th>total_inviews_minus_median_impression</th><th>trendiness_score_category_minus_median_impression</th><th>std_JS_minus_median_impression</th><th>total_read_time_minus_median_impression</th><th>endorsement_10h_leak_minus_median_impression</th><th>trendiness_score_3d_leak_minus_median_impression</th><th>clicked_count_minus_median_impression</th><th>inview_count_minus_median_impression</th><th>mean_JS_l_inf_user</th><th>std_JS_l_inf_user</th><th>mean_topic_model_cosine_l_inf_user</th><th>topics_cosine_l_inf_user</th><th>article_delay_hours_l_inf_article</th><th>mean_JS_l_inf_article</th><th>std_JS_l_inf_article</th><th>mean_topic_model_cosine_l_inf_article</th><th>topics_cosine_l_inf_article</th><th>category_diversity_impression</th><th>sentiment_label_diversity_impression</th><th>article_type_diversity_impression</th><th>endorsement_20h_articleuser_l_inf_article_user</th></tr><tr><td>u32</td><td>i32</td><td>u32</td><td>i8</td><td>i8</td><td>f32</td><td>f32</td><td>bool</td><td>i8</td><td>i8</td><td>bool</td><td>i8</td><td>i16</td><td>i16</td><td>i16</td><td>i16</td><td>i8</td><td>i8</td><td>f32</td><td>f32</td><td>f32</td><td>bool</td><td>i16</td><td>f32</td><td>str</td><td>u32</td><td>u8</td><td>u8</td><td>u16</td><td>u32</td><td>i32</td><td>i32</td><td>f32</td><td>f32</td><td>str</td><td>i16</td><td>i32</td><td>&hellip;</td><td>f32</td><td>f32</td><td>f32</td><td>f32</td><td>f32</td><td>f32</td><td>f32</td><td>f32</td><td>f32</td><td>f32</td><td>f32</td><td>f32</td><td>f32</td><td>f32</td><td>f32</td><td>f32</td><td>f32</td><td>f32</td><td>f32</td><td>f32</td><td>f32</td><td>f32</td><td>f32</td><td>f32</td><td>f32</td><td>f32</td><td>f32</td><td>f32</td><td>f32</td><td>f32</td><td>f32</td><td>f32</td><td>f32</td><td>u8</td><td>u8</td><td>u8</td><td>f32</td></tr></thead><tbody><tr><td>116609521</td><td>9777026</td><td>1515189</td><td>0</td><td>2</td><td>10.0</td><td>null</td><td>false</td><td>2</td><td>null</td><td>false</td><td>5</td><td>125</td><td>367</td><td>589</td><td>336</td><td>4</td><td>7</td><td>0.340599</td><td>0.212224</td><td>0.672161</td><td>false</td><td>414</td><td>0.5496</td><td>&quot;Neutral&quot;</td><td>2</td><td>9</td><td>16</td><td>225</td><td>6</td><td>197066</td><td>748840</td><td>1.0179357e7</td><td>0.263162</td><td>&quot;article_default&quot;</td><td>1</td><td>45</td><td>&hellip;</td><td>2.246055</td><td>2.372406</td><td>2.139062</td><td>2.274145</td><td>2.289888</td><td>2.090699</td><td>2.182534</td><td>124.0</td><td>211.0</td><td>-40.0</td><td>0.154064</td><td>0.045605</td><td>0.055349</td><td>0.156275</td><td>35.0</td><td>160231.0</td><td>344576.0</td><td>-51.0</td><td>0.050976</td><td>7.435077e6</td><td>-169.0</td><td>131.0</td><td>1897.0</td><td>1623.0</td><td>0.587503</td><td>0.555269</td><td>0.894016</td><td>0.582222</td><td>0.255682</td><td>0.456204</td><td>0.472471</td><td>0.853686</td><td>0.497013</td><td>5</td><td>2</td><td>1</td><td>0.5</td></tr><tr><td>487191524</td><td>9779737</td><td>1978435</td><td>0</td><td>1</td><td>9.0</td><td>null</td><td>true</td><td>2</td><td>null</td><td>true</td><td>5</td><td>71</td><td>201</td><td>296</td><td>160</td><td>4</td><td>7</td><td>0.353234</td><td>0.239865</td><td>0.368132</td><td>false</td><td>140</td><td>0.9939</td><td>&quot;Negative&quot;</td><td>0</td><td>6</td><td>19</td><td>127</td><td>5</td><td>195734</td><td>618596</td><td>9.766141e6</td><td>0.316417</td><td>&quot;article_default&quot;</td><td>0</td><td>12</td><td>&hellip;</td><td>2.398186</td><td>2.576786</td><td>2.112226</td><td>2.327237</td><td>2.421293</td><td>2.113113</td><td>2.188842</td><td>-35.0</td><td>-63.5</td><td>-12.0</td><td>0.09931</td><td>0.008044</td><td>-0.044526</td><td>0.087374</td><td>0.0</td><td>64057.0</td><td>89228.0</td><td>-1.0</td><td>0.013475</td><td>1.250428e6</td><td>3.5</td><td>-20.0</td><td>2110.5</td><td>-127.0</td><td>0.740284</td><td>0.600033</td><td>0.813735</td><td>0.700583</td><td>0.071856</td><td>0.241643</td><td>0.43552</td><td>0.826185</td><td>0.446626</td><td>7</td><td>3</td><td>2</td><td>1.0</td></tr></tbody></table></div>"
      ],
      "text/plain": [
       "shape: (2, 298)\n",
       "┌─────────────┬─────────┬─────────┬────────┬───┬────────────┬────────────┬────────────┬────────────┐\n",
       "│ impression_ ┆ article ┆ user_id ┆ target ┆ … ┆ category_d ┆ sentiment_ ┆ article_ty ┆ endorsemen │\n",
       "│ id          ┆ ---     ┆ ---     ┆ ---    ┆   ┆ iversity_i ┆ label_dive ┆ pe_diversi ┆ t_20h_arti │\n",
       "│ ---         ┆ i32     ┆ u32     ┆ i8     ┆   ┆ mpression  ┆ rsity_impr ┆ ty_impress ┆ cleuser_l_ │\n",
       "│ u32         ┆         ┆         ┆        ┆   ┆ ---        ┆ …          ┆ …          ┆ …          │\n",
       "│             ┆         ┆         ┆        ┆   ┆ u8         ┆ ---        ┆ ---        ┆ ---        │\n",
       "│             ┆         ┆         ┆        ┆   ┆            ┆ u8         ┆ u8         ┆ f32        │\n",
       "╞═════════════╪═════════╪═════════╪════════╪═══╪════════════╪════════════╪════════════╪════════════╡\n",
       "│ 116609521   ┆ 9777026 ┆ 1515189 ┆ 0      ┆ … ┆ 5          ┆ 2          ┆ 1          ┆ 0.5        │\n",
       "│ 487191524   ┆ 9779737 ┆ 1978435 ┆ 0      ┆ … ┆ 7          ┆ 3          ┆ 2          ┆ 1.0        │\n",
       "└─────────────┴─────────┴─────────┴────────┴───┴────────────┴────────────┴────────────┴────────────┘"
      ]
     },
     "execution_count": 56,
     "metadata": {},
     "output_type": "execute_result"
    }
   ],
   "source": [
    "for expressions_group in tqdm.tqdm(expressions):\n",
    "    val_ds = val_ds.with_columns(expressions_group)\n",
    "    val_ds = reduce_polars_df_memory_size(val_ds)\n",
    "\n",
    "PrintColor(f\"\\n\" + GetMemUsage(), color = Fore.RED)\n",
    "val_ds.head(2)"
   ]
  },
  {
   "cell_type": "code",
   "execution_count": 57,
   "id": "12a40ef9",
   "metadata": {
    "execution": {
     "iopub.execute_input": "2024-05-19T19:22:36.733082Z",
     "iopub.status.busy": "2024-05-19T19:22:36.732737Z",
     "iopub.status.idle": "2024-05-19T19:22:37.081359Z",
     "shell.execute_reply": "2024-05-19T19:22:37.080307Z"
    },
    "papermill": {
     "duration": 0.465418,
     "end_time": "2024-05-19T19:22:37.083423",
     "exception": false,
     "start_time": "2024-05-19T19:22:36.618005",
     "status": "completed"
    },
    "tags": []
   },
   "outputs": [
    {
     "name": "stdout",
     "output_type": "stream",
     "text": [
      "\u001b[1m\u001b[31m\n",
      "RAM memory GB usage = 13.43\u001b[0m\n"
     ]
    }
   ],
   "source": [
    "del history_val\n",
    "del articles\n",
    "del behaviors_val\n",
    "\n",
    "del behaviors_ner_scores\n",
    "del published_category_popularity, last_session_time_df\n",
    "del users_mean_trendiness_scores, topics_mean_trendiness_scores\n",
    "del topic_mean_delays, user_mean_delays\n",
    "del windows, user_windows, user_topics_windows, user_category_windows\n",
    "del articles_endorsement\n",
    "del normalized_endorsement\n",
    "del articles_endorsement_articleuser\n",
    "del normalized_endorsement_articleuser\n",
    "del history_counts, behaviors_counts\n",
    "\n",
    "gc.collect()\n",
    "PrintColor(f\"\\n\" + GetMemUsage(), color = Fore.RED)"
   ]
  },
  {
   "cell_type": "code",
   "execution_count": 58,
   "id": "5ab63f41",
   "metadata": {
    "execution": {
     "iopub.execute_input": "2024-05-19T19:22:37.323046Z",
     "iopub.status.busy": "2024-05-19T19:22:37.322662Z",
     "iopub.status.idle": "2024-05-19T19:22:37.329084Z",
     "shell.execute_reply": "2024-05-19T19:22:37.328175Z"
    },
    "papermill": {
     "duration": 0.132675,
     "end_time": "2024-05-19T19:22:37.331809",
     "exception": false,
     "start_time": "2024-05-19T19:22:37.199134",
     "status": "completed"
    },
    "tags": []
   },
   "outputs": [
    {
     "data": {
      "text/plain": [
       "(2928942, 298)"
      ]
     },
     "execution_count": 58,
     "metadata": {},
     "output_type": "execute_result"
    }
   ],
   "source": [
    "val_ds.shape"
   ]
  },
  {
   "cell_type": "code",
   "execution_count": 59,
   "id": "c54dd176",
   "metadata": {
    "execution": {
     "iopub.execute_input": "2024-05-19T19:22:37.601770Z",
     "iopub.status.busy": "2024-05-19T19:22:37.601322Z",
     "iopub.status.idle": "2024-05-19T19:37:38.817514Z",
     "shell.execute_reply": "2024-05-19T19:37:38.816429Z"
    },
    "papermill": {
     "duration": 901.464478,
     "end_time": "2024-05-19T19:37:38.933180",
     "exception": false,
     "start_time": "2024-05-19T19:22:37.468702",
     "status": "completed"
    },
    "tags": []
   },
   "outputs": [
    {
     "name": "stderr",
     "output_type": "stream",
     "text": [
      "/opt/conda/lib/python3.10/site-packages/sklearn/preprocessing/_encoders.py:241: UserWarning: Found unknown categories in columns [14, 17] during transform. These unknown categories will be encoded as all zeros\n",
      "  warnings.warn(\n"
     ]
    },
    {
     "name": "stdout",
     "output_type": "stream",
     "text": [
      "\u001b[1m\u001b[31m\n",
      "RAM memory GB usage = 20.41\u001b[0m\n",
      "\u001b[1m\u001b[31m\n",
      "RAM memory GB usage = 15.92\u001b[0m\n"
     ]
    },
    {
     "data": {
      "text/html": [
       "<div><style>\n",
       ".dataframe > thead > tr,\n",
       ".dataframe > tbody > tr {\n",
       "  text-align: right;\n",
       "  white-space: pre-wrap;\n",
       "}\n",
       "</style>\n",
       "<small>shape: (2_928_942, 3)</small><table border=\"1\" class=\"dataframe\"><thead><tr><th>impression_id</th><th>target</th><th>prediction</th></tr><tr><td>u32</td><td>i8</td><td>f64</td></tr></thead><tbody><tr><td>116609521</td><td>0</td><td>0.36727</td></tr><tr><td>487191524</td><td>0</td><td>0.360688</td></tr><tr><td>220893386</td><td>0</td><td>0.374432</td></tr><tr><td>84218843</td><td>0</td><td>0.260724</td></tr><tr><td>497195044</td><td>0</td><td>0.259963</td></tr><tr><td>&hellip;</td><td>&hellip;</td><td>&hellip;</td></tr><tr><td>316579785</td><td>0</td><td>0.412882</td></tr><tr><td>486286396</td><td>0</td><td>0.265398</td></tr><tr><td>222961173</td><td>0</td><td>0.4925</td></tr><tr><td>350916101</td><td>0</td><td>0.307362</td></tr><tr><td>356954307</td><td>0</td><td>0.281979</td></tr></tbody></table></div>"
      ],
      "text/plain": [
       "shape: (2_928_942, 3)\n",
       "┌───────────────┬────────┬────────────┐\n",
       "│ impression_id ┆ target ┆ prediction │\n",
       "│ ---           ┆ ---    ┆ ---        │\n",
       "│ u32           ┆ i8     ┆ f64        │\n",
       "╞═══════════════╪════════╪════════════╡\n",
       "│ 116609521     ┆ 0      ┆ 0.36727    │\n",
       "│ 487191524     ┆ 0      ┆ 0.360688   │\n",
       "│ 220893386     ┆ 0      ┆ 0.374432   │\n",
       "│ 84218843      ┆ 0      ┆ 0.260724   │\n",
       "│ 497195044     ┆ 0      ┆ 0.259963   │\n",
       "│ …             ┆ …      ┆ …          │\n",
       "│ 316579785     ┆ 0      ┆ 0.412882   │\n",
       "│ 486286396     ┆ 0      ┆ 0.265398   │\n",
       "│ 222961173     ┆ 0      ┆ 0.4925     │\n",
       "│ 350916101     ┆ 0      ┆ 0.307362   │\n",
       "│ 356954307     ┆ 0      ┆ 0.281979   │\n",
       "└───────────────┴────────┴────────────┘"
      ]
     },
     "execution_count": 59,
     "metadata": {},
     "output_type": "execute_result"
    }
   ],
   "source": [
    "X_val = val_ds.drop(['target', 'impression_id', 'article', 'user_id']).to_pandas()\n",
    "X_val[numerical_columns] = X_val[numerical_columns].replace([-np.inf, np.inf], np.nan)\n",
    "for col in numerical_columns:\n",
    "    X_val[col] = X_val[col].fillna(min_values[col]).astype(np.float32)\n",
    "X_val_numerical = scaler.transform(X_val[numerical_columns].values).astype(np.float32)\n",
    "X_val_categorical = categorical_encoder.transform(X_val[categorical_columns]).astype(np.float32)\n",
    "\n",
    "val_ds = val_ds.select(['impression_id', 'target', 'user_id', 'article'])\n",
    "gc.collect()\n",
    "PrintColor(f\"\\n\" + GetMemUsage(), color = Fore.RED)\n",
    "\n",
    "X_val = np.concatenate([X_val_numerical, X_val_categorical], axis=1)\n",
    "y_val = val_ds['target'].to_numpy()\n",
    "\n",
    "del X_numerical, X_val_numerical, X_val_categorical\n",
    "gc.collect()\n",
    "PrintColor(f\"\\n\" + GetMemUsage(), color = Fore.RED)\n",
    "\n",
    "val_ds = val_ds.with_columns(pl.Series(model.predict_proba(X_val)[:, 1]).alias('prediction'))\n",
    "val_ds.select(['impression_id', 'target', 'prediction'])"
   ]
  },
  {
   "cell_type": "code",
   "execution_count": 60,
   "id": "b5c86a13",
   "metadata": {
    "execution": {
     "iopub.execute_input": "2024-05-19T19:37:39.161631Z",
     "iopub.status.busy": "2024-05-19T19:37:39.160644Z",
     "iopub.status.idle": "2024-05-19T19:37:39.654850Z",
     "shell.execute_reply": "2024-05-19T19:37:39.653587Z"
    },
    "papermill": {
     "duration": 0.611039,
     "end_time": "2024-05-19T19:37:39.657755",
     "exception": false,
     "start_time": "2024-05-19T19:37:39.046716",
     "status": "completed"
    },
    "tags": []
   },
   "outputs": [
    {
     "name": "stdout",
     "output_type": "stream",
     "text": [
      "\u001b[1m\u001b[31m\n",
      "RAM memory GB usage = 11.85\u001b[0m\n"
     ]
    }
   ],
   "source": [
    "del X_val\n",
    "\n",
    "gc.collect()\n",
    "PrintColor(f\"\\n\" + GetMemUsage(), color = Fore.RED)"
   ]
  },
  {
   "cell_type": "code",
   "execution_count": 61,
   "id": "9ab04d1c",
   "metadata": {
    "execution": {
     "iopub.execute_input": "2024-05-19T19:37:39.977940Z",
     "iopub.status.busy": "2024-05-19T19:37:39.977501Z",
     "iopub.status.idle": "2024-05-19T19:37:40.219303Z",
     "shell.execute_reply": "2024-05-19T19:37:40.217291Z"
    },
    "papermill": {
     "duration": 0.409017,
     "end_time": "2024-05-19T19:37:40.224078",
     "exception": false,
     "start_time": "2024-05-19T19:37:39.815061",
     "status": "completed"
    },
    "tags": []
   },
   "outputs": [
    {
     "data": {
      "text/html": [
       "<div><style>\n",
       ".dataframe > thead > tr,\n",
       ".dataframe > tbody > tr {\n",
       "  text-align: right;\n",
       "  white-space: pre-wrap;\n",
       "}\n",
       "</style>\n",
       "<small>shape: (244_647, 3)</small><table border=\"1\" class=\"dataframe\"><thead><tr><th>impression_id</th><th>target</th><th>prediction</th></tr><tr><td>u32</td><td>list[i8]</td><td>list[f64]</td></tr></thead><tbody><tr><td>322704021</td><td>[0, 0, … 0]</td><td>[0.320634, 0.391954, … 0.319963]</td></tr><tr><td>152988256</td><td>[1, 0, … 0]</td><td>[0.42891, 0.286791, … 0.283859]</td></tr><tr><td>200888842</td><td>[0, 0, … 0]</td><td>[0.222776, 0.302507, … 0.312552]</td></tr><tr><td>391562232</td><td>[0, 1, … 0]</td><td>[0.595555, 0.28956, … 0.478465]</td></tr><tr><td>152366003</td><td>[0, 0, … 1]</td><td>[0.395961, 0.262594, … 0.5044]</td></tr><tr><td>&hellip;</td><td>&hellip;</td><td>&hellip;</td></tr><tr><td>417170090</td><td>[0, 0, … 0]</td><td>[0.588724, 0.443262, … 0.404806]</td></tr><tr><td>577026326</td><td>[0, 0, … 0]</td><td>[0.41902, 0.257503, … 0.239562]</td></tr><tr><td>94309163</td><td>[1, 0, … 0]</td><td>[0.444968, 0.427745, … 0.382964]</td></tr><tr><td>521975144</td><td>[1, 0, … 0]</td><td>[0.6057, 0.332946, … 0.325185]</td></tr><tr><td>379488525</td><td>[1, 0, … 0]</td><td>[0.515378, 0.358251, … 0.267605]</td></tr></tbody></table></div>"
      ],
      "text/plain": [
       "shape: (244_647, 3)\n",
       "┌───────────────┬─────────────┬─────────────────────────────────┐\n",
       "│ impression_id ┆ target      ┆ prediction                      │\n",
       "│ ---           ┆ ---         ┆ ---                             │\n",
       "│ u32           ┆ list[i8]    ┆ list[f64]                       │\n",
       "╞═══════════════╪═════════════╪═════════════════════════════════╡\n",
       "│ 322704021     ┆ [0, 0, … 0] ┆ [0.320634, 0.391954, … 0.31996… │\n",
       "│ 152988256     ┆ [1, 0, … 0] ┆ [0.42891, 0.286791, … 0.283859… │\n",
       "│ 200888842     ┆ [0, 0, … 0] ┆ [0.222776, 0.302507, … 0.31255… │\n",
       "│ 391562232     ┆ [0, 1, … 0] ┆ [0.595555, 0.28956, … 0.478465… │\n",
       "│ 152366003     ┆ [0, 0, … 1] ┆ [0.395961, 0.262594, … 0.5044]  │\n",
       "│ …             ┆ …           ┆ …                               │\n",
       "│ 417170090     ┆ [0, 0, … 0] ┆ [0.588724, 0.443262, … 0.40480… │\n",
       "│ 577026326     ┆ [0, 0, … 0] ┆ [0.41902, 0.257503, … 0.239562… │\n",
       "│ 94309163      ┆ [1, 0, … 0] ┆ [0.444968, 0.427745, … 0.38296… │\n",
       "│ 521975144     ┆ [1, 0, … 0] ┆ [0.6057, 0.332946, … 0.325185]  │\n",
       "│ 379488525     ┆ [1, 0, … 0] ┆ [0.515378, 0.358251, … 0.26760… │\n",
       "└───────────────┴─────────────┴─────────────────────────────────┘"
      ]
     },
     "execution_count": 61,
     "metadata": {},
     "output_type": "execute_result"
    }
   ],
   "source": [
    "evaluation_ds = val_ds.group_by('impression_id').agg(pl.col('target'), pl.col('prediction'))\n",
    "evaluation_ds"
   ]
  },
  {
   "cell_type": "code",
   "execution_count": 62,
   "id": "b8255be5",
   "metadata": {
    "execution": {
     "iopub.execute_input": "2024-05-19T19:37:40.761923Z",
     "iopub.status.busy": "2024-05-19T19:37:40.759215Z",
     "iopub.status.idle": "2024-05-19T19:45:08.284242Z",
     "shell.execute_reply": "2024-05-19T19:45:08.283179Z"
    },
    "papermill": {
     "duration": 447.944499,
     "end_time": "2024-05-19T19:45:08.402546",
     "exception": false,
     "start_time": "2024-05-19T19:37:40.458047",
     "status": "completed"
    },
    "tags": []
   },
   "outputs": [
    {
     "name": "stdout",
     "output_type": "stream",
     "text": [
      "CPU times: user 7min 26s, sys: 546 ms, total: 7min 27s\n",
      "Wall time: 7min 27s\n"
     ]
    },
    {
     "data": {
      "text/plain": [
       "<MetricEvaluator class>: \n",
       " {\n",
       "    \"auc\": 0.7938262907993072,\n",
       "    \"mrr\": 0.580262284603487,\n",
       "    \"ndcg@5\": 0.6455744582178581,\n",
       "    \"ndcg@10\": 0.6726477626392926\n",
       "}"
      ]
     },
     "execution_count": 62,
     "metadata": {},
     "output_type": "execute_result"
    }
   ],
   "source": [
    "%%time\n",
    "\n",
    "met_eval = MetricEvaluator(\n",
    "    labels=evaluation_ds['target'].to_list(),\n",
    "    predictions=evaluation_ds['prediction'].to_list(),\n",
    "    metric_functions=[\n",
    "        AucScore(),\n",
    "        MrrScore(),\n",
    "        NdcgScore(k=5),\n",
    "        NdcgScore(k=10),\n",
    "    ],\n",
    ")\n",
    "met_eval.evaluate()"
   ]
  },
  {
   "cell_type": "code",
   "execution_count": 63,
   "id": "43f4d96f",
   "metadata": {
    "execution": {
     "iopub.execute_input": "2024-05-19T19:45:08.645822Z",
     "iopub.status.busy": "2024-05-19T19:45:08.645392Z",
     "iopub.status.idle": "2024-05-19T19:45:09.027587Z",
     "shell.execute_reply": "2024-05-19T19:45:09.026345Z"
    },
    "papermill": {
     "duration": 0.509765,
     "end_time": "2024-05-19T19:45:09.030306",
     "exception": false,
     "start_time": "2024-05-19T19:45:08.520541",
     "status": "completed"
    },
    "tags": []
   },
   "outputs": [],
   "source": [
    "import joblib\n",
    "\n",
    "joblib.dump(model, '/kaggle/working/fast_rgf.joblib')\n",
    "joblib.dump(categorical_encoder, '/kaggle/working/categorical_encoder.joblib')\n",
    "joblib.dump(scaler, '/kaggle/working/scaler.joblib')\n",
    "joblib.dump(min_values, '/kaggle/working/min_values_train.joblib')\n",
    "val_ds.write_parquet('/kaggle/working/fast_rgf_predictions.parquet')"
   ]
  }
 ],
 "metadata": {
  "kaggle": {
   "accelerator": "none",
   "dataSources": [
    {
     "datasetId": 4622414,
     "sourceId": 8418097,
     "sourceType": "datasetVersion"
    }
   ],
   "dockerImageVersionId": 30673,
   "isGpuEnabled": false,
   "isInternetEnabled": true,
   "language": "python",
   "sourceType": "notebook"
  },
  "kernelspec": {
   "display_name": "Python 3",
   "language": "python",
   "name": "python3"
  },
  "language_info": {
   "codemirror_mode": {
    "name": "ipython",
    "version": 3
   },
   "file_extension": ".py",
   "mimetype": "text/x-python",
   "name": "python",
   "nbconvert_exporter": "python",
   "pygments_lexer": "ipython3",
   "version": "3.10.13"
  },
  "papermill": {
   "default_parameters": {},
   "duration": 10387.601969,
   "end_time": "2024-05-19T19:45:11.896683",
   "environment_variables": {},
   "exception": null,
   "input_path": "__notebook__.ipynb",
   "output_path": "__notebook__.ipynb",
   "parameters": {},
   "start_time": "2024-05-19T16:52:04.294714",
   "version": "2.5.0"
  },
  "widgets": {
   "application/vnd.jupyter.widget-state+json": {
    "state": {
     "46d8ab1d46cf4d14978f4d2b493c2a92": {
      "model_module": "@jupyter-widgets/output",
      "model_module_version": "1.0.0",
      "model_name": "OutputModel",
      "state": {
       "_dom_classes": [],
       "_model_module": "@jupyter-widgets/output",
       "_model_module_version": "1.0.0",
       "_model_name": "OutputModel",
       "_view_count": null,
       "_view_module": "@jupyter-widgets/output",
       "_view_module_version": "1.0.0",
       "_view_name": "OutputView",
       "layout": "IPY_MODEL_a84e66ae938f4771bae7e21f71ee9c55",
       "msg_id": "",
       "outputs": [
        {
         "data": {
          "text/html": "<pre style=\"white-space:pre;overflow-x:auto;line-height:normal;font-family:Menlo,'DejaVu Sans Mono',consolas,'Courier New',monospace\">Getting category               <span style=\"color: #729c1f; text-decoration-color: #729c1f\">━━━━━━━━━━━━━━━━━━━━━━━━━━━━━━━━━━━━━━━━</span> <span style=\"color: #800080; text-decoration-color: #800080\">100%</span> <span style=\"color: #008080; text-decoration-color: #008080\">0:00:00</span>\nGetting article_type           <span style=\"color: #729c1f; text-decoration-color: #729c1f\">━━━━━━━━━━━━━━━━━━━━━━━━━━━━━━━━━━━━━━━━</span> <span style=\"color: #800080; text-decoration-color: #800080\">100%</span> <span style=\"color: #008080; text-decoration-color: #008080\">0:00:00</span>\nGetting sentiment_label        <span style=\"color: #729c1f; text-decoration-color: #729c1f\">━━━━━━━━━━━━━━━━━━━━━━━━━━━━━━━━━━━━━━━━</span> <span style=\"color: #800080; text-decoration-color: #800080\">100%</span> <span style=\"color: #008080; text-decoration-color: #008080\">0:00:00</span>\nGetting sentiment_score        <span style=\"color: #729c1f; text-decoration-color: #729c1f\">━━━━━━━━━━━━━━━━━━━━━━━━━━━━━━━━━━━━━━━━</span> <span style=\"color: #800080; text-decoration-color: #800080\">100%</span> <span style=\"color: #008080; text-decoration-color: #008080\">0:00:00</span>\nGetting entity_groups          <span style=\"color: #729c1f; text-decoration-color: #729c1f\">━━━━━━━━━━━━━━━━━━━━━━━━━━━━━━━━━━━━━━━━</span> <span style=\"color: #800080; text-decoration-color: #800080\">100%</span> <span style=\"color: #008080; text-decoration-color: #008080\">0:00:00</span>\nGetting detailed entity_groups <span style=\"color: #729c1f; text-decoration-color: #729c1f\">━━━━━━━━━━━━━━━━━━━━━━━━━━━━━━━━━━━━━━━━</span> <span style=\"color: #800080; text-decoration-color: #800080\">100%</span> <span style=\"color: #008080; text-decoration-color: #008080\">0:00:00</span>\nGetting topics                 <span style=\"color: #729c1f; text-decoration-color: #729c1f\">━━━━━━━━━━━━━━━━━━━━━━━━━━━━━━━━━━━━━━━━</span> <span style=\"color: #800080; text-decoration-color: #800080\">100%</span> <span style=\"color: #008080; text-decoration-color: #008080\">0:00:00</span>\n</pre>\n",
          "text/plain": "Getting category               \u001b[38;2;114;156;31m━━━━━━━━━━━━━━━━━━━━━━━━━━━━━━━━━━━━━━━━\u001b[0m \u001b[35m100%\u001b[0m \u001b[36m0:00:00\u001b[0m\nGetting article_type           \u001b[38;2;114;156;31m━━━━━━━━━━━━━━━━━━━━━━━━━━━━━━━━━━━━━━━━\u001b[0m \u001b[35m100%\u001b[0m \u001b[36m0:00:00\u001b[0m\nGetting sentiment_label        \u001b[38;2;114;156;31m━━━━━━━━━━━━━━━━━━━━━━━━━━━━━━━━━━━━━━━━\u001b[0m \u001b[35m100%\u001b[0m \u001b[36m0:00:00\u001b[0m\nGetting sentiment_score        \u001b[38;2;114;156;31m━━━━━━━━━━━━━━━━━━━━━━━━━━━━━━━━━━━━━━━━\u001b[0m \u001b[35m100%\u001b[0m \u001b[36m0:00:00\u001b[0m\nGetting entity_groups          \u001b[38;2;114;156;31m━━━━━━━━━━━━━━━━━━━━━━━━━━━━━━━━━━━━━━━━\u001b[0m \u001b[35m100%\u001b[0m \u001b[36m0:00:00\u001b[0m\nGetting detailed entity_groups \u001b[38;2;114;156;31m━━━━━━━━━━━━━━━━━━━━━━━━━━━━━━━━━━━━━━━━\u001b[0m \u001b[35m100%\u001b[0m \u001b[36m0:00:00\u001b[0m\nGetting topics                 \u001b[38;2;114;156;31m━━━━━━━━━━━━━━━━━━━━━━━━━━━━━━━━━━━━━━━━\u001b[0m \u001b[35m100%\u001b[0m \u001b[36m0:00:00\u001b[0m\n"
         },
         "metadata": {},
         "output_type": "display_data"
        }
       ]
      }
     },
     "71bf4046e9af422296671aab9819dece": {
      "model_module": "@jupyter-widgets/base",
      "model_module_version": "1.2.0",
      "model_name": "LayoutModel",
      "state": {
       "_model_module": "@jupyter-widgets/base",
       "_model_module_version": "1.2.0",
       "_model_name": "LayoutModel",
       "_view_count": null,
       "_view_module": "@jupyter-widgets/base",
       "_view_module_version": "1.2.0",
       "_view_name": "LayoutView",
       "align_content": null,
       "align_items": null,
       "align_self": null,
       "border": null,
       "bottom": null,
       "display": null,
       "flex": null,
       "flex_flow": null,
       "grid_area": null,
       "grid_auto_columns": null,
       "grid_auto_flow": null,
       "grid_auto_rows": null,
       "grid_column": null,
       "grid_gap": null,
       "grid_row": null,
       "grid_template_areas": null,
       "grid_template_columns": null,
       "grid_template_rows": null,
       "height": null,
       "justify_content": null,
       "justify_items": null,
       "left": null,
       "margin": null,
       "max_height": null,
       "max_width": null,
       "min_height": null,
       "min_width": null,
       "object_fit": null,
       "object_position": null,
       "order": null,
       "overflow": null,
       "overflow_x": null,
       "overflow_y": null,
       "padding": null,
       "right": null,
       "top": null,
       "visibility": null,
       "width": null
      }
     },
     "a84e66ae938f4771bae7e21f71ee9c55": {
      "model_module": "@jupyter-widgets/base",
      "model_module_version": "1.2.0",
      "model_name": "LayoutModel",
      "state": {
       "_model_module": "@jupyter-widgets/base",
       "_model_module_version": "1.2.0",
       "_model_name": "LayoutModel",
       "_view_count": null,
       "_view_module": "@jupyter-widgets/base",
       "_view_module_version": "1.2.0",
       "_view_name": "LayoutView",
       "align_content": null,
       "align_items": null,
       "align_self": null,
       "border": null,
       "bottom": null,
       "display": null,
       "flex": null,
       "flex_flow": null,
       "grid_area": null,
       "grid_auto_columns": null,
       "grid_auto_flow": null,
       "grid_auto_rows": null,
       "grid_column": null,
       "grid_gap": null,
       "grid_row": null,
       "grid_template_areas": null,
       "grid_template_columns": null,
       "grid_template_rows": null,
       "height": null,
       "justify_content": null,
       "justify_items": null,
       "left": null,
       "margin": null,
       "max_height": null,
       "max_width": null,
       "min_height": null,
       "min_width": null,
       "object_fit": null,
       "object_position": null,
       "order": null,
       "overflow": null,
       "overflow_x": null,
       "overflow_y": null,
       "padding": null,
       "right": null,
       "top": null,
       "visibility": null,
       "width": null
      }
     },
     "c655e58a35e3490888f01103be14ab47": {
      "model_module": "@jupyter-widgets/output",
      "model_module_version": "1.0.0",
      "model_name": "OutputModel",
      "state": {
       "_dom_classes": [],
       "_model_module": "@jupyter-widgets/output",
       "_model_module_version": "1.0.0",
       "_model_name": "OutputModel",
       "_view_count": null,
       "_view_module": "@jupyter-widgets/output",
       "_view_module_version": "1.0.0",
       "_view_name": "OutputView",
       "layout": "IPY_MODEL_71bf4046e9af422296671aab9819dece",
       "msg_id": "",
       "outputs": [
        {
         "data": {
          "text/html": "<pre style=\"white-space:pre;overflow-x:auto;line-height:normal;font-family:Menlo,'DejaVu Sans Mono',consolas,'Courier New',monospace\">Getting category               <span style=\"color: #729c1f; text-decoration-color: #729c1f\">━━━━━━━━━━━━━━━━━━━━━━━━━━━━━━━━━━━━━━━━</span> <span style=\"color: #800080; text-decoration-color: #800080\">100%</span> <span style=\"color: #008080; text-decoration-color: #008080\">0:00:00</span>\nGetting article_type           <span style=\"color: #729c1f; text-decoration-color: #729c1f\">━━━━━━━━━━━━━━━━━━━━━━━━━━━━━━━━━━━━━━━━</span> <span style=\"color: #800080; text-decoration-color: #800080\">100%</span> <span style=\"color: #008080; text-decoration-color: #008080\">0:00:00</span>\nGetting sentiment_label        <span style=\"color: #729c1f; text-decoration-color: #729c1f\">━━━━━━━━━━━━━━━━━━━━━━━━━━━━━━━━━━━━━━━━</span> <span style=\"color: #800080; text-decoration-color: #800080\">100%</span> <span style=\"color: #008080; text-decoration-color: #008080\">0:00:00</span>\nGetting sentiment_score        <span style=\"color: #729c1f; text-decoration-color: #729c1f\">━━━━━━━━━━━━━━━━━━━━━━━━━━━━━━━━━━━━━━━━</span> <span style=\"color: #800080; text-decoration-color: #800080\">100%</span> <span style=\"color: #008080; text-decoration-color: #008080\">0:00:00</span>\nGetting entity_groups          <span style=\"color: #729c1f; text-decoration-color: #729c1f\">━━━━━━━━━━━━━━━━━━━━━━━━━━━━━━━━━━━━━━━━</span> <span style=\"color: #800080; text-decoration-color: #800080\">100%</span> <span style=\"color: #008080; text-decoration-color: #008080\">0:00:00</span>\nGetting detailed entity_groups <span style=\"color: #729c1f; text-decoration-color: #729c1f\">━━━━━━━━━━━━━━━━━━━━━━━━━━━━━━━━━━━━━━━━</span> <span style=\"color: #800080; text-decoration-color: #800080\">100%</span> <span style=\"color: #008080; text-decoration-color: #008080\">0:00:00</span>\nGetting topics                 <span style=\"color: #729c1f; text-decoration-color: #729c1f\">━━━━━━━━━━━━━━━━━━━━━━━━━━━━━━━━━━━━━━━━</span> <span style=\"color: #800080; text-decoration-color: #800080\">100%</span> <span style=\"color: #008080; text-decoration-color: #008080\">0:00:00</span>\n</pre>\n",
          "text/plain": "Getting category               \u001b[38;2;114;156;31m━━━━━━━━━━━━━━━━━━━━━━━━━━━━━━━━━━━━━━━━\u001b[0m \u001b[35m100%\u001b[0m \u001b[36m0:00:00\u001b[0m\nGetting article_type           \u001b[38;2;114;156;31m━━━━━━━━━━━━━━━━━━━━━━━━━━━━━━━━━━━━━━━━\u001b[0m \u001b[35m100%\u001b[0m \u001b[36m0:00:00\u001b[0m\nGetting sentiment_label        \u001b[38;2;114;156;31m━━━━━━━━━━━━━━━━━━━━━━━━━━━━━━━━━━━━━━━━\u001b[0m \u001b[35m100%\u001b[0m \u001b[36m0:00:00\u001b[0m\nGetting sentiment_score        \u001b[38;2;114;156;31m━━━━━━━━━━━━━━━━━━━━━━━━━━━━━━━━━━━━━━━━\u001b[0m \u001b[35m100%\u001b[0m \u001b[36m0:00:00\u001b[0m\nGetting entity_groups          \u001b[38;2;114;156;31m━━━━━━━━━━━━━━━━━━━━━━━━━━━━━━━━━━━━━━━━\u001b[0m \u001b[35m100%\u001b[0m \u001b[36m0:00:00\u001b[0m\nGetting detailed entity_groups \u001b[38;2;114;156;31m━━━━━━━━━━━━━━━━━━━━━━━━━━━━━━━━━━━━━━━━\u001b[0m \u001b[35m100%\u001b[0m \u001b[36m0:00:00\u001b[0m\nGetting topics                 \u001b[38;2;114;156;31m━━━━━━━━━━━━━━━━━━━━━━━━━━━━━━━━━━━━━━━━\u001b[0m \u001b[35m100%\u001b[0m \u001b[36m0:00:00\u001b[0m\n"
         },
         "metadata": {},
         "output_type": "display_data"
        }
       ]
      }
     }
    },
    "version_major": 2,
    "version_minor": 0
   }
  }
 },
 "nbformat": 4,
 "nbformat_minor": 5
}
