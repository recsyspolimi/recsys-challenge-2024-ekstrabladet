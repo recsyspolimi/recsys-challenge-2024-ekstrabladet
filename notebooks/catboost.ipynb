{
 "cells": [
  {
   "cell_type": "code",
   "execution_count": 1,
   "id": "30b13e66",
   "metadata": {
    "execution": {
     "iopub.execute_input": "2024-04-03T21:10:50.808187Z",
     "iopub.status.busy": "2024-04-03T21:10:50.807635Z",
     "iopub.status.idle": "2024-04-03T21:10:53.224132Z",
     "shell.execute_reply": "2024-04-03T21:10:53.221558Z"
    },
    "papermill": {
     "duration": 2.434519,
     "end_time": "2024-04-03T21:10:53.226971",
     "exception": false,
     "start_time": "2024-04-03T21:10:50.792452",
     "status": "completed"
    },
    "tags": []
   },
   "outputs": [
    {
     "name": "stdout",
     "output_type": "stream",
     "text": [
      "Cloning into 'RecSysChallenge2024'...\r\n",
      "remote: Enumerating objects: 362, done.\u001b[K\r\n",
      "remote: Counting objects: 100% (37/37), done.\u001b[K\r\n",
      "remote: Compressing objects: 100% (14/14), done.\u001b[K\r\n",
      "remote: Total 362 (delta 21), reused 28 (delta 20), pack-reused 325\u001b[K\r\n",
      "Receiving objects: 100% (362/362), 17.90 MiB | 48.75 MiB/s, done.\r\n",
      "Resolving deltas: 100% (120/120), done.\r\n",
      "Cloning into 'ebnerd-benchmark'...\r\n",
      "remote: Enumerating objects: 454, done.\u001b[K\r\n",
      "remote: Counting objects: 100% (42/42), done.\u001b[K\r\n",
      "remote: Compressing objects: 100% (34/34), done.\u001b[K\r\n",
      "remote: Total 454 (delta 11), reused 20 (delta 8), pack-reused 412\u001b[K\r\n",
      "Receiving objects: 100% (454/454), 15.24 MiB | 52.73 MiB/s, done.\r\n",
      "Resolving deltas: 100% (220/220), done.\r\n"
     ]
    }
   ],
   "source": [
    "from kaggle_secrets import UserSecretsClient\n",
    "secret_label = \"Token\"\n",
    "token = UserSecretsClient().get_secret(secret_label)\n",
    "\n",
    "! git clone https://{token}@github.com/FrancescoZanella/RecSysChallenge2024.git\n",
    "! git clone https://github.com/ebanalyse/ebnerd-benchmark.git"
   ]
  },
  {
   "cell_type": "code",
   "execution_count": 2,
   "id": "fed97a96",
   "metadata": {
    "execution": {
     "iopub.execute_input": "2024-04-03T21:10:53.255258Z",
     "iopub.status.busy": "2024-04-03T21:10:53.254794Z",
     "iopub.status.idle": "2024-04-03T21:10:53.261086Z",
     "shell.execute_reply": "2024-04-03T21:10:53.260267Z"
    },
    "papermill": {
     "duration": 0.02318,
     "end_time": "2024-04-03T21:10:53.263054",
     "exception": false,
     "start_time": "2024-04-03T21:10:53.239874",
     "status": "completed"
    },
    "tags": []
   },
   "outputs": [
    {
     "name": "stdout",
     "output_type": "stream",
     "text": [
      "/kaggle/working/RecSysChallenge2024/src\n"
     ]
    }
   ],
   "source": [
    "%cd /kaggle/working/RecSysChallenge2024/src"
   ]
  },
  {
   "cell_type": "code",
   "execution_count": 3,
   "id": "014eb331",
   "metadata": {
    "_cell_guid": "b1076dfc-b9ad-4769-8c92-a6c4dae69d19",
    "_uuid": "8f2839f25d086af736a60e9eeb907d3b93b6e0e5",
    "execution": {
     "iopub.execute_input": "2024-04-03T21:10:53.293127Z",
     "iopub.status.busy": "2024-04-03T21:10:53.291668Z",
     "iopub.status.idle": "2024-04-03T21:11:00.737829Z",
     "shell.execute_reply": "2024-04-03T21:11:00.736294Z"
    },
    "papermill": {
     "duration": 7.464588,
     "end_time": "2024-04-03T21:11:00.740699",
     "exception": false,
     "start_time": "2024-04-03T21:10:53.276111",
     "status": "completed"
    },
    "tags": []
   },
   "outputs": [],
   "source": [
    "import numpy as np\n",
    "import pandas as pd\n",
    "import matplotlib.pyplot as plt\n",
    "import seaborn as sns\n",
    "from pathlib import Path\n",
    "import polars as pl\n",
    "import scipy.stats as stats\n",
    "import scipy.sparse as sps\n",
    "import gc\n",
    "import tqdm\n",
    "\n",
    "from ebrec.utils._descriptive_analysis import (\n",
    "    min_max_impression_time_behaviors, \n",
    "    min_max_impression_time_history\n",
    ")\n",
    "from ebrec.utils._polars import slice_join_dataframes\n",
    "from ebrec.utils._behaviors import (\n",
    "    create_binary_labels_column,\n",
    "    sampling_strategy_wu2019,\n",
    "    truncate_history,\n",
    ")\n",
    "from ebrec.utils._constants import (\n",
    "    DEFAULT_HISTORY_ARTICLE_ID_COL,\n",
    "    DEFAULT_CLICKED_ARTICLES_COL,\n",
    "    DEFAULT_INVIEW_ARTICLES_COL,\n",
    "    DEFAULT_USER_COL\n",
    ")\n",
    "from ebrec.evaluation.metrics_protocols import *\n",
    "from polimi.utils._catboost import add_trendiness_feature\n",
    "\n",
    "from catboost import CatBoostClassifier"
   ]
  },
  {
   "cell_type": "markdown",
   "id": "f2f38dca",
   "metadata": {
    "papermill": {
     "duration": 0.012475,
     "end_time": "2024-04-03T21:11:00.767394",
     "exception": false,
     "start_time": "2024-04-03T21:11:00.754919",
     "status": "completed"
    },
    "tags": []
   },
   "source": [
    "# Memory Utils"
   ]
  },
  {
   "cell_type": "code",
   "execution_count": 4,
   "id": "2a76ba31",
   "metadata": {
    "execution": {
     "iopub.execute_input": "2024-04-03T21:11:00.795795Z",
     "iopub.status.busy": "2024-04-03T21:11:00.795067Z",
     "iopub.status.idle": "2024-04-03T21:11:00.803765Z",
     "shell.execute_reply": "2024-04-03T21:11:00.802803Z"
    },
    "papermill": {
     "duration": 0.025635,
     "end_time": "2024-04-03T21:11:00.806523",
     "exception": false,
     "start_time": "2024-04-03T21:11:00.780888",
     "status": "completed"
    },
    "tags": []
   },
   "outputs": [
    {
     "name": "stdout",
     "output_type": "stream",
     "text": [
      "\u001b[1m\u001b[31m\n",
      "RAM memory GB usage = 0.4029\u001b[0m\n"
     ]
    }
   ],
   "source": [
    "from os import system, getpid, walk\n",
    "from psutil import Process\n",
    "from colorama import Fore, Style, init\n",
    "from IPython.display import display, HTML\n",
    "\n",
    "def PrintColor(text:str, color = Fore.BLUE, style = Style.BRIGHT):\n",
    "    print(style + color + text + Style.RESET_ALL)\n",
    "    \n",
    "def GetMemUsage():   \n",
    "    pid = getpid()\n",
    "    py = Process(pid)\n",
    "    memory_use = py.memory_info()[0] / 2. ** 30\n",
    "    return f\"RAM memory GB usage = {memory_use :.4}\"\n",
    "\n",
    "PrintColor(f\"\\n\" + GetMemUsage(), color = Fore.RED)"
   ]
  },
  {
   "cell_type": "code",
   "execution_count": 5,
   "id": "26360ce1",
   "metadata": {
    "execution": {
     "iopub.execute_input": "2024-04-03T21:11:00.834644Z",
     "iopub.status.busy": "2024-04-03T21:11:00.834259Z",
     "iopub.status.idle": "2024-04-03T21:11:00.847467Z",
     "shell.execute_reply": "2024-04-03T21:11:00.846133Z"
    },
    "papermill": {
     "duration": 0.030246,
     "end_time": "2024-04-03T21:11:00.849853",
     "exception": false,
     "start_time": "2024-04-03T21:11:00.819607",
     "status": "completed"
    },
    "tags": []
   },
   "outputs": [],
   "source": [
    "def reduce_polars_df_memory_size(df, set_categorical=True):\n",
    "\n",
    "    start_mem = df.estimated_size('mb')\n",
    "    print('Memory usage of dataframe is {:.2f} MB'.format(start_mem))\n",
    "    \n",
    "    for col in df.columns:\n",
    "        col_type = df[col].dtype\n",
    "        \n",
    "        if col_type in [pl.Int16, pl.Int32, pl.Int64]:\n",
    "            c_min = df[col].fill_null(0).min()\n",
    "            c_max = df[col].fill_null(0).max()\n",
    "            if c_min > np.iinfo(np.int8).min and c_max < np.iinfo(np.int8).max:\n",
    "                df = df.with_columns(pl.col(col).cast(pl.Int8))\n",
    "            elif c_min > np.iinfo(np.int16).min and c_max < np.iinfo(np.int16).max:\n",
    "                df = df.with_columns(pl.col(col).cast(pl.Int16))\n",
    "            elif c_min > np.iinfo(np.int32).min and c_max < np.iinfo(np.int32).max:\n",
    "                df = df.with_columns(pl.col(col).cast(pl.Int32))\n",
    "        elif col_type in [pl.UInt16, pl.UInt32, pl.UInt64]:\n",
    "            c_min = df[col].fill_null(0).min()\n",
    "            c_max = df[col].fill_null(0).max()\n",
    "            if c_min > np.iinfo(np.uint8).min and c_max < np.iinfo(np.uint8).max:\n",
    "                df = df.with_columns(pl.col(col).cast(pl.UInt8))\n",
    "            elif c_min > np.iinfo(np.uint16).min and c_max < np.iinfo(np.uint16).max:\n",
    "                df = df.with_columns(pl.col(col).cast(pl.UInt16))\n",
    "            elif c_min > np.iinfo(np.uint32).min and c_max < np.iinfo(np.uint32).max:\n",
    "                df = df.with_columns(pl.col(col).cast(pl.UInt32))\n",
    "        elif col_type == pl.Float64:\n",
    "            c_min = df[col].fill_null(0).min()\n",
    "            c_max = df[col].fill_null(0).max()\n",
    "            if c_min > np.finfo(np.float32).min and c_max < np.finfo(np.float32).max:\n",
    "                df = df.with_columns(pl.col(col).cast(pl.Float32))\n",
    "\n",
    "    gc.collect()\n",
    "    end_mem = df.estimated_size('mb')\n",
    "    print('Memory usage after optimization is: {:.2f} MB'.format(end_mem))\n",
    "    print('Decreased by {:.1f}%'.format(100 * (start_mem - end_mem) / start_mem))\n",
    "    \n",
    "    return df"
   ]
  },
  {
   "cell_type": "markdown",
   "id": "bb741a41",
   "metadata": {
    "papermill": {
     "duration": 0.012351,
     "end_time": "2024-04-03T21:11:00.874908",
     "exception": false,
     "start_time": "2024-04-03T21:11:00.862557",
     "status": "completed"
    },
    "tags": []
   },
   "source": [
    "# Data import"
   ]
  },
  {
   "cell_type": "code",
   "execution_count": 6,
   "id": "ebeb8343",
   "metadata": {
    "execution": {
     "iopub.execute_input": "2024-04-03T21:11:00.901808Z",
     "iopub.status.busy": "2024-04-03T21:11:00.901413Z",
     "iopub.status.idle": "2024-04-03T21:11:02.673400Z",
     "shell.execute_reply": "2024-04-03T21:11:02.671677Z"
    },
    "papermill": {
     "duration": 1.788722,
     "end_time": "2024-04-03T21:11:02.676224",
     "exception": false,
     "start_time": "2024-04-03T21:11:00.887502",
     "status": "completed"
    },
    "tags": []
   },
   "outputs": [
    {
     "name": "stdout",
     "output_type": "stream",
     "text": [
      "\u001b[1m\u001b[31m\n",
      "RAM memory GB usage = 0.6593\u001b[0m\n"
     ]
    }
   ],
   "source": [
    "articles = pl.read_parquet('/kaggle/input/recommender-systems-challenge-2024/ebnerd_small/articles.parquet')\n",
    "\n",
    "behaviors_train = pl.read_parquet('/kaggle/input/recommender-systems-challenge-2024/ebnerd_small/train/behaviors.parquet')\n",
    "history_train = pl.read_parquet('/kaggle/input/recommender-systems-challenge-2024/ebnerd_small/train/history.parquet')\n",
    "\n",
    "behaviors_val = pl.read_parquet('/kaggle/input/recommender-systems-challenge-2024/ebnerd_small/validation/behaviors.parquet')\n",
    "history_val = pl.read_parquet('/kaggle/input/recommender-systems-challenge-2024/ebnerd_small/validation/history.parquet')\n",
    "\n",
    "gc.collect()\n",
    "PrintColor(f\"\\n\" + GetMemUsage(), color = Fore.RED)"
   ]
  },
  {
   "cell_type": "markdown",
   "id": "6d6aec49",
   "metadata": {
    "papermill": {
     "duration": 0.012697,
     "end_time": "2024-04-03T21:11:02.702538",
     "exception": false,
     "start_time": "2024-04-03T21:11:02.689841",
     "status": "completed"
    },
    "tags": []
   },
   "source": [
    "# Articles Preprocessing"
   ]
  },
  {
   "cell_type": "code",
   "execution_count": 7,
   "id": "6e73543e",
   "metadata": {
    "execution": {
     "iopub.execute_input": "2024-04-03T21:11:02.730613Z",
     "iopub.status.busy": "2024-04-03T21:11:02.730255Z",
     "iopub.status.idle": "2024-04-03T21:11:03.375155Z",
     "shell.execute_reply": "2024-04-03T21:11:03.374241Z"
    },
    "papermill": {
     "duration": 0.66182,
     "end_time": "2024-04-03T21:11:03.377499",
     "exception": false,
     "start_time": "2024-04-03T21:11:02.715679",
     "status": "completed"
    },
    "tags": []
   },
   "outputs": [
    {
     "name": "stdout",
     "output_type": "stream",
     "text": [
      "Memory usage of dataframe is 64.11 MB\n",
      "Memory usage after optimization is: 63.96 MB\n",
      "Decreased by 0.2%\n",
      "\u001b[1m\u001b[31m\n",
      "RAM memory GB usage = 0.6679\u001b[0m\n"
     ]
    },
    {
     "data": {
      "text/html": [
       "<div><style>\n",
       ".dataframe > thead > tr,\n",
       ".dataframe > tbody > tr {\n",
       "  text-align: right;\n",
       "  white-space: pre-wrap;\n",
       "}\n",
       "</style>\n",
       "<small>shape: (2, 25)</small><table border=\"1\" class=\"dataframe\"><thead><tr><th>article_id</th><th>title</th><th>subtitle</th><th>last_modified_time</th><th>premium</th><th>body</th><th>published_time</th><th>image_ids</th><th>article_type</th><th>url</th><th>ner_clusters</th><th>entity_groups</th><th>topics</th><th>category</th><th>subcategory</th><th>category_str</th><th>total_inviews</th><th>total_pageviews</th><th>total_read_time</th><th>sentiment_score</th><th>sentiment_label</th><th>num_images</th><th>title_len</th><th>subtitle_len</th><th>body_len</th></tr><tr><td>i32</td><td>str</td><td>str</td><td>datetime[μs]</td><td>bool</td><td>str</td><td>datetime[μs]</td><td>list[i64]</td><td>str</td><td>str</td><td>list[str]</td><td>list[str]</td><td>list[str]</td><td>i16</td><td>list[i16]</td><td>str</td><td>i32</td><td>i32</td><td>f32</td><td>f32</td><td>str</td><td>u32</td><td>u8</td><td>u8</td><td>u16</td></tr></thead><tbody><tr><td>3001353</td><td>&quot;Natascha var i…</td><td>&quot;Politiet frygt…</td><td>2023-06-29 06:20:33</td><td>false</td><td>&quot;Sagen om den ø…</td><td>2006-08-31 08:06:45</td><td>[3150850]</td><td>&quot;article_defaul…</td><td>&quot;https://ekstra…</td><td>[]</td><td>[]</td><td>[&quot;Kriminalitet&quot;, &quot;Personfarlig_kriminalitet&quot;]</td><td>140</td><td>[]</td><td>&quot;krimi&quot;</td><td>null</td><td>null</td><td>null</td><td>0.9955</td><td>&quot;Negative&quot;</td><td>1</td><td>5</td><td>22</td><td>200</td></tr><tr><td>3003065</td><td>&quot;Kun Star Wars …</td><td>&quot;Biografgængern…</td><td>2023-06-29 06:20:35</td><td>false</td><td>&quot;Vatikanet har …</td><td>2006-05-21 16:57:00</td><td>[3006712]</td><td>&quot;article_defaul…</td><td>&quot;https://ekstra…</td><td>[]</td><td>[]</td><td>[&quot;Underholdning&quot;, &quot;Film_og_tv&quot;, &quot;Økonomi&quot;]</td><td>414</td><td>[433, 434]</td><td>&quot;underholdning&quot;</td><td>null</td><td>null</td><td>null</td><td>0.846</td><td>&quot;Positive&quot;</td><td>1</td><td>5</td><td>19</td><td>116</td></tr></tbody></table></div>"
      ],
      "text/plain": [
       "shape: (2, 25)\n",
       "┌───────────┬───────────┬───────────┬───────────┬───┬───────────┬───────────┬───────────┬──────────┐\n",
       "│ article_i ┆ title     ┆ subtitle  ┆ last_modi ┆ … ┆ num_image ┆ title_len ┆ subtitle_ ┆ body_len │\n",
       "│ d         ┆ ---       ┆ ---       ┆ fied_time ┆   ┆ s         ┆ ---       ┆ len       ┆ ---      │\n",
       "│ ---       ┆ str       ┆ str       ┆ ---       ┆   ┆ ---       ┆ u8        ┆ ---       ┆ u16      │\n",
       "│ i32       ┆           ┆           ┆ datetime[ ┆   ┆ u32       ┆           ┆ u8        ┆          │\n",
       "│           ┆           ┆           ┆ μs]       ┆   ┆           ┆           ┆           ┆          │\n",
       "╞═══════════╪═══════════╪═══════════╪═══════════╪═══╪═══════════╪═══════════╪═══════════╪══════════╡\n",
       "│ 3001353   ┆ Natascha  ┆ Politiet  ┆ 2023-06-2 ┆ … ┆ 1         ┆ 5         ┆ 22        ┆ 200      │\n",
       "│           ┆ var ikke  ┆ frygter   ┆ 9         ┆   ┆           ┆           ┆           ┆          │\n",
       "│           ┆ den       ┆ nu, at    ┆ 06:20:33  ┆   ┆           ┆           ┆           ┆          │\n",
       "│           ┆ første    ┆ Natascha… ┆           ┆   ┆           ┆           ┆           ┆          │\n",
       "│ 3003065   ┆ Kun Star  ┆ Biografgæ ┆ 2023-06-2 ┆ … ┆ 1         ┆ 5         ┆ 19        ┆ 116      │\n",
       "│           ┆ Wars      ┆ ngerne    ┆ 9         ┆   ┆           ┆           ┆           ┆          │\n",
       "│           ┆ tjente    ┆ strømmer  ┆ 06:20:35  ┆   ┆           ┆           ┆           ┆          │\n",
       "│           ┆ mere      ┆ ind for…  ┆           ┆   ┆           ┆           ┆           ┆          │\n",
       "└───────────┴───────────┴───────────┴───────────┴───┴───────────┴───────────┴───────────┴──────────┘"
      ]
     },
     "execution_count": 7,
     "metadata": {},
     "output_type": "execute_result"
    }
   ],
   "source": [
    "articles = articles.with_columns(\n",
    "    pl.col('image_ids').list.len().alias('num_images'),\n",
    "    pl.col('title').str.split(by=' ').list.len().alias('title_len'),\n",
    "    pl.col('subtitle').str.split(by=' ').list.len().alias('subtitle_len'),\n",
    "    pl.col('body').str.split(by=' ').list.len().alias('body_len'),\n",
    "    # very important for tf-idf, otherwise multiple tokens for topics with spaces are built\n",
    "    pl.col('topics').list.eval(pl.element().str.split(by=' ').list.join('_')) \n",
    ")\n",
    "articles = reduce_polars_df_memory_size(articles)\n",
    "\n",
    "gc.collect()\n",
    "PrintColor(f\"\\n\" + GetMemUsage(), color = Fore.RED)\n",
    "articles.head(2)"
   ]
  },
  {
   "cell_type": "code",
   "execution_count": 8,
   "id": "5a31f29e",
   "metadata": {
    "execution": {
     "iopub.execute_input": "2024-04-03T21:11:03.406036Z",
     "iopub.status.busy": "2024-04-03T21:11:03.405448Z",
     "iopub.status.idle": "2024-04-03T21:11:03.425400Z",
     "shell.execute_reply": "2024-04-03T21:11:03.424187Z"
    },
    "papermill": {
     "duration": 0.036671,
     "end_time": "2024-04-03T21:11:03.427365",
     "exception": false,
     "start_time": "2024-04-03T21:11:03.390694",
     "status": "completed"
    },
    "tags": []
   },
   "outputs": [
    {
     "data": {
      "text/plain": [
       "['EVENT', 'PROD', 'PER', 'LOC', 'ORG', 'MISC']"
      ]
     },
     "execution_count": 8,
     "metadata": {},
     "output_type": "execute_result"
    }
   ],
   "source": [
    "unique_entities = articles.select('entity_groups').explode('entity_groups')['entity_groups'].unique().to_list()\n",
    "unique_entities = [e for e in unique_entities if e is not None]\n",
    "unique_entities"
   ]
  },
  {
   "cell_type": "code",
   "execution_count": 9,
   "id": "e5babb1d",
   "metadata": {
    "execution": {
     "iopub.execute_input": "2024-04-03T21:11:03.456126Z",
     "iopub.status.busy": "2024-04-03T21:11:03.455714Z",
     "iopub.status.idle": "2024-04-03T21:11:03.471334Z",
     "shell.execute_reply": "2024-04-03T21:11:03.470516Z"
    },
    "papermill": {
     "duration": 0.032146,
     "end_time": "2024-04-03T21:11:03.473133",
     "exception": false,
     "start_time": "2024-04-03T21:11:03.440987",
     "status": "completed"
    },
    "tags": []
   },
   "outputs": [
    {
     "data": {
      "text/plain": [
       "25"
      ]
     },
     "execution_count": 9,
     "metadata": {},
     "output_type": "execute_result"
    }
   ],
   "source": [
    "unique_categories = articles.select('category')['category'].unique().to_list()\n",
    "unique_categories = [c for c in unique_categories if c is not None]\n",
    "len(unique_categories)"
   ]
  },
  {
   "cell_type": "markdown",
   "id": "23b98e45",
   "metadata": {
    "papermill": {
     "duration": 0.01413,
     "end_time": "2024-04-03T21:11:03.500664",
     "exception": false,
     "start_time": "2024-04-03T21:11:03.486534",
     "status": "completed"
    },
    "tags": []
   },
   "source": [
    "Mapping sentiment labels to -1, 0, 1 to save memory in the history dataframe.\n",
    "Taking only article_default type and mapping it to 0/1 since after only this is needed (and it saves memory) for the history at the moment"
   ]
  },
  {
   "cell_type": "code",
   "execution_count": 10,
   "id": "39c33ed3",
   "metadata": {
    "execution": {
     "iopub.execute_input": "2024-04-03T21:11:03.530110Z",
     "iopub.status.busy": "2024-04-03T21:11:03.529184Z",
     "iopub.status.idle": "2024-04-03T21:11:03.541123Z",
     "shell.execute_reply": "2024-04-03T21:11:03.540329Z"
    },
    "papermill": {
     "duration": 0.028873,
     "end_time": "2024-04-03T21:11:03.543191",
     "exception": false,
     "start_time": "2024-04-03T21:11:03.514318",
     "status": "completed"
    },
    "tags": []
   },
   "outputs": [],
   "source": [
    "articles = articles.with_columns(\n",
    "    pl.when(pl.col('sentiment_label') == 'Negative').then(-1) \\\n",
    "        .otherwise(\n",
    "            pl.when(pl.col('sentiment_label') == 'Positive').then(1).otherwise(0)\n",
    "        ).cast(pl.Int8).alias('sentiment_label_int'),\n",
    "    (pl.col('article_type') == 'article_default').cast(pl.UInt8).alias('is_article_default')\n",
    ")"
   ]
  },
  {
   "cell_type": "markdown",
   "id": "46b128e6",
   "metadata": {
    "papermill": {
     "duration": 0.013611,
     "end_time": "2024-04-03T21:11:03.570228",
     "exception": false,
     "start_time": "2024-04-03T21:11:03.556617",
     "status": "completed"
    },
    "tags": []
   },
   "source": [
    "## Topics TF-IDF"
   ]
  },
  {
   "cell_type": "code",
   "execution_count": 11,
   "id": "e37bea91",
   "metadata": {
    "execution": {
     "iopub.execute_input": "2024-04-03T21:11:03.598821Z",
     "iopub.status.busy": "2024-04-03T21:11:03.598422Z",
     "iopub.status.idle": "2024-04-03T21:11:03.903538Z",
     "shell.execute_reply": "2024-04-03T21:11:03.902311Z"
    },
    "papermill": {
     "duration": 0.32148,
     "end_time": "2024-04-03T21:11:03.905454",
     "exception": false,
     "start_time": "2024-04-03T21:11:03.583974",
     "status": "completed"
    },
    "tags": []
   },
   "outputs": [
    {
     "name": "stdout",
     "output_type": "stream",
     "text": [
      "\u001b[1m\u001b[31m\n",
      "RAM memory GB usage = 0.6855\u001b[0m\n"
     ]
    },
    {
     "data": {
      "text/html": [
       "<div><style>\n",
       ".dataframe > thead > tr,\n",
       ".dataframe > tbody > tr {\n",
       "  text-align: right;\n",
       "  white-space: pre-wrap;\n",
       "}\n",
       "</style>\n",
       "<small>shape: (2, 28)</small><table border=\"1\" class=\"dataframe\"><thead><tr><th>article_id</th><th>title</th><th>subtitle</th><th>last_modified_time</th><th>premium</th><th>body</th><th>published_time</th><th>image_ids</th><th>article_type</th><th>url</th><th>ner_clusters</th><th>entity_groups</th><th>topics</th><th>category</th><th>subcategory</th><th>category_str</th><th>total_inviews</th><th>total_pageviews</th><th>total_read_time</th><th>sentiment_score</th><th>sentiment_label</th><th>num_images</th><th>title_len</th><th>subtitle_len</th><th>body_len</th><th>sentiment_label_int</th><th>is_article_default</th><th>topics_idf</th></tr><tr><td>i32</td><td>str</td><td>str</td><td>datetime[μs]</td><td>bool</td><td>str</td><td>datetime[μs]</td><td>list[i64]</td><td>str</td><td>str</td><td>list[str]</td><td>list[str]</td><td>list[str]</td><td>i16</td><td>list[i16]</td><td>str</td><td>i32</td><td>i32</td><td>f32</td><td>f32</td><td>str</td><td>u32</td><td>u8</td><td>u8</td><td>u16</td><td>i8</td><td>u8</td><td>list[f32]</td></tr></thead><tbody><tr><td>3001353</td><td>&quot;Natascha var i…</td><td>&quot;Politiet frygt…</td><td>2023-06-29 06:20:33</td><td>false</td><td>&quot;Sagen om den ø…</td><td>2006-08-31 08:06:45</td><td>[3150850]</td><td>&quot;article_defaul…</td><td>&quot;https://ekstra…</td><td>[]</td><td>[]</td><td>[&quot;Kriminalitet&quot;, &quot;Personfarlig_kriminalitet&quot;]</td><td>140</td><td>[]</td><td>&quot;krimi&quot;</td><td>null</td><td>null</td><td>null</td><td>0.9955</td><td>&quot;Negative&quot;</td><td>1</td><td>5</td><td>22</td><td>200</td><td>-1</td><td>1</td><td>[0.0, 0.0, … 0.0]</td></tr><tr><td>3003065</td><td>&quot;Kun Star Wars …</td><td>&quot;Biografgængern…</td><td>2023-06-29 06:20:35</td><td>false</td><td>&quot;Vatikanet har …</td><td>2006-05-21 16:57:00</td><td>[3006712]</td><td>&quot;article_defaul…</td><td>&quot;https://ekstra…</td><td>[]</td><td>[]</td><td>[&quot;Underholdning&quot;, &quot;Film_og_tv&quot;, &quot;Økonomi&quot;]</td><td>414</td><td>[433, 434]</td><td>&quot;underholdning&quot;</td><td>null</td><td>null</td><td>null</td><td>0.846</td><td>&quot;Positive&quot;</td><td>1</td><td>5</td><td>19</td><td>116</td><td>1</td><td>1</td><td>[0.0, 0.0, … 0.536059]</td></tr></tbody></table></div>"
      ],
      "text/plain": [
       "shape: (2, 28)\n",
       "┌───────────┬───────────┬───────────┬───────────┬───┬──────────┬───────────┬───────────┬───────────┐\n",
       "│ article_i ┆ title     ┆ subtitle  ┆ last_modi ┆ … ┆ body_len ┆ sentiment ┆ is_articl ┆ topics_id │\n",
       "│ d         ┆ ---       ┆ ---       ┆ fied_time ┆   ┆ ---      ┆ _label_in ┆ e_default ┆ f         │\n",
       "│ ---       ┆ str       ┆ str       ┆ ---       ┆   ┆ u16      ┆ t         ┆ ---       ┆ ---       │\n",
       "│ i32       ┆           ┆           ┆ datetime[ ┆   ┆          ┆ ---       ┆ u8        ┆ list[f32] │\n",
       "│           ┆           ┆           ┆ μs]       ┆   ┆          ┆ i8        ┆           ┆           │\n",
       "╞═══════════╪═══════════╪═══════════╪═══════════╪═══╪══════════╪═══════════╪═══════════╪═══════════╡\n",
       "│ 3001353   ┆ Natascha  ┆ Politiet  ┆ 2023-06-2 ┆ … ┆ 200      ┆ -1        ┆ 1         ┆ [0.0,     │\n",
       "│           ┆ var ikke  ┆ frygter   ┆ 9         ┆   ┆          ┆           ┆           ┆ 0.0, …    │\n",
       "│           ┆ den       ┆ nu, at    ┆ 06:20:33  ┆   ┆          ┆           ┆           ┆ 0.0]      │\n",
       "│           ┆ første    ┆ Natascha… ┆           ┆   ┆          ┆           ┆           ┆           │\n",
       "│ 3003065   ┆ Kun Star  ┆ Biografgæ ┆ 2023-06-2 ┆ … ┆ 116      ┆ 1         ┆ 1         ┆ [0.0,     │\n",
       "│           ┆ Wars      ┆ ngerne    ┆ 9         ┆   ┆          ┆           ┆           ┆ 0.0, …    │\n",
       "│           ┆ tjente    ┆ strømmer  ┆ 06:20:35  ┆   ┆          ┆           ┆           ┆ 0.536059] │\n",
       "│           ┆ mere      ┆ ind for…  ┆           ┆   ┆          ┆           ┆           ┆           │\n",
       "└───────────┴───────────┴───────────┴───────────┴───┴──────────┴───────────┴───────────┴───────────┘"
      ]
     },
     "execution_count": 11,
     "metadata": {},
     "output_type": "execute_result"
    }
   ],
   "source": [
    "from sklearn.feature_extraction.text import TfidfVectorizer\n",
    "\n",
    "vectorizer = TfidfVectorizer()\n",
    "articles = articles.with_columns(\n",
    "    pl.Series(\n",
    "        vectorizer.fit_transform(\n",
    "            articles.with_columns(pl.col('topics').list.join(separator=' '))['topics'].to_list()\n",
    "        ).toarray().astype(np.float32)\n",
    "    ).alias('topics_idf')\n",
    ")\n",
    "\n",
    "gc.collect()\n",
    "PrintColor(f\"\\n\" + GetMemUsage(), color = Fore.RED)\n",
    "articles.head(2)"
   ]
  },
  {
   "cell_type": "code",
   "execution_count": 12,
   "id": "1f5a25ae",
   "metadata": {
    "execution": {
     "iopub.execute_input": "2024-04-03T21:11:03.934337Z",
     "iopub.status.busy": "2024-04-03T21:11:03.933980Z",
     "iopub.status.idle": "2024-04-03T21:11:03.941131Z",
     "shell.execute_reply": "2024-04-03T21:11:03.940337Z"
    },
    "papermill": {
     "duration": 0.023976,
     "end_time": "2024-04-03T21:11:03.943196",
     "exception": false,
     "start_time": "2024-04-03T21:11:03.919220",
     "status": "completed"
    },
    "tags": []
   },
   "outputs": [
    {
     "data": {
      "text/plain": [
       "79"
      ]
     },
     "execution_count": 12,
     "metadata": {},
     "output_type": "execute_result"
    }
   ],
   "source": [
    "# without split + join with _ of the single topics this returns 94\n",
    "len(vectorizer.get_feature_names_out())"
   ]
  },
  {
   "cell_type": "markdown",
   "id": "6deff4c1",
   "metadata": {
    "papermill": {
     "duration": 0.013298,
     "end_time": "2024-04-03T21:11:03.970511",
     "exception": false,
     "start_time": "2024-04-03T21:11:03.957213",
     "status": "completed"
    },
    "tags": []
   },
   "source": [
    "## Precalculating similarities"
   ]
  },
  {
   "cell_type": "code",
   "execution_count": 13,
   "id": "358fa6fc",
   "metadata": {
    "execution": {
     "iopub.execute_input": "2024-04-03T21:11:03.999770Z",
     "iopub.status.busy": "2024-04-03T21:11:03.999378Z",
     "iopub.status.idle": "2024-04-03T21:11:04.003120Z",
     "shell.execute_reply": "2024-04-03T21:11:04.002313Z"
    },
    "papermill": {
     "duration": 0.0213,
     "end_time": "2024-04-03T21:11:04.005703",
     "exception": false,
     "start_time": "2024-04-03T21:11:03.984403",
     "status": "completed"
    },
    "tags": []
   },
   "outputs": [],
   "source": [
    "# from sklearn.feature_extraction.text import CountVectorizer\n",
    "\n",
    "# count_vectorizer = CountVectorizer()\n",
    "# topics_sparse = count_vectorizer.fit_transform(\n",
    "#     articles.with_columns(pl.col('topics').list.join(separator=' '))['topics'].to_list()\n",
    "# )\n",
    "# topics_sparse"
   ]
  },
  {
   "cell_type": "code",
   "execution_count": 14,
   "id": "c4d188f7",
   "metadata": {
    "execution": {
     "iopub.execute_input": "2024-04-03T21:11:04.035391Z",
     "iopub.status.busy": "2024-04-03T21:11:04.035009Z",
     "iopub.status.idle": "2024-04-03T21:11:04.039369Z",
     "shell.execute_reply": "2024-04-03T21:11:04.038221Z"
    },
    "papermill": {
     "duration": 0.021956,
     "end_time": "2024-04-03T21:11:04.041587",
     "exception": false,
     "start_time": "2024-04-03T21:11:04.019631",
     "status": "completed"
    },
    "tags": []
   },
   "outputs": [],
   "source": [
    "# len(count_vectorizer.get_feature_names_out())"
   ]
  },
  {
   "cell_type": "code",
   "execution_count": 15,
   "id": "1f32ec1a",
   "metadata": {
    "execution": {
     "iopub.execute_input": "2024-04-03T21:11:04.071031Z",
     "iopub.status.busy": "2024-04-03T21:11:04.070668Z",
     "iopub.status.idle": "2024-04-03T21:11:04.074228Z",
     "shell.execute_reply": "2024-04-03T21:11:04.073406Z"
    },
    "papermill": {
     "duration": 0.020642,
     "end_time": "2024-04-03T21:11:04.075937",
     "exception": false,
     "start_time": "2024-04-03T21:11:04.055295",
     "status": "completed"
    },
    "tags": []
   },
   "outputs": [],
   "source": [
    "# %%time\n",
    "\n",
    "# topics_sparse.dot(topics_sparse.T)"
   ]
  },
  {
   "cell_type": "code",
   "execution_count": 16,
   "id": "5c3a2a2d",
   "metadata": {
    "execution": {
     "iopub.execute_input": "2024-04-03T21:11:04.159986Z",
     "iopub.status.busy": "2024-04-03T21:11:04.159632Z",
     "iopub.status.idle": "2024-04-03T21:11:04.164201Z",
     "shell.execute_reply": "2024-04-03T21:11:04.163158Z"
    },
    "papermill": {
     "duration": 0.076413,
     "end_time": "2024-04-03T21:11:04.165872",
     "exception": false,
     "start_time": "2024-04-03T21:11:04.089459",
     "status": "completed"
    },
    "tags": []
   },
   "outputs": [],
   "source": [
    "# %%time\n",
    "\n",
    "\n",
    "# intersections = topics_sparse.dot(topics_sparse.T.tocsc())\n",
    "# row_sums = intersections.diagonal()\n",
    "# unions = row_sums[:,None] + row_sums - intersections\n",
    "# similarities = intersections / unions\n",
    "\n",
    "# gc.collect()\n",
    "# PrintColor(f\"\\n\" + GetMemUsage(), color = Fore.RED)\n",
    "# articles.head(2)"
   ]
  },
  {
   "cell_type": "markdown",
   "id": "c6853988",
   "metadata": {
    "papermill": {
     "duration": 0.013279,
     "end_time": "2024-04-03T21:11:04.193112",
     "exception": false,
     "start_time": "2024-04-03T21:11:04.179833",
     "status": "completed"
    },
    "tags": []
   },
   "source": [
    "# History preprocessing"
   ]
  },
  {
   "cell_type": "code",
   "execution_count": 17,
   "id": "68727509",
   "metadata": {
    "execution": {
     "iopub.execute_input": "2024-04-03T21:11:04.221398Z",
     "iopub.status.busy": "2024-04-03T21:11:04.221058Z",
     "iopub.status.idle": "2024-04-03T21:11:04.226603Z",
     "shell.execute_reply": "2024-04-03T21:11:04.225240Z"
    },
    "papermill": {
     "duration": 0.022015,
     "end_time": "2024-04-03T21:11:04.228394",
     "exception": false,
     "start_time": "2024-04-03T21:11:04.206379",
     "status": "completed"
    },
    "tags": []
   },
   "outputs": [],
   "source": [
    "def add_topics_tf_idf_columns(df, topics_col, vectorizer):\n",
    "    return df.with_columns(\n",
    "        pl.Series(\n",
    "            vectorizer.transform(\n",
    "                df.with_columns(pl.col(topics_col).list.join(separator=' '))[topics_col].to_list()\n",
    "            ).toarray().astype(np.float32)\n",
    "        ).alias(f'{topics_col}_tf_idf')\n",
    "    )"
   ]
  },
  {
   "cell_type": "code",
   "execution_count": 18,
   "id": "5a5d8200",
   "metadata": {
    "execution": {
     "iopub.execute_input": "2024-04-03T21:11:04.257848Z",
     "iopub.status.busy": "2024-04-03T21:11:04.257472Z",
     "iopub.status.idle": "2024-04-03T21:11:14.527499Z",
     "shell.execute_reply": "2024-04-03T21:11:14.526663Z"
    },
    "papermill": {
     "duration": 10.286902,
     "end_time": "2024-04-03T21:11:14.529142",
     "exception": false,
     "start_time": "2024-04-03T21:11:04.242240",
     "status": "completed"
    },
    "tags": []
   },
   "outputs": [
    {
     "name": "stderr",
     "output_type": "stream",
     "text": [
      "16it [00:09,  1.61it/s]                        \n"
     ]
    },
    {
     "name": "stdout",
     "output_type": "stream",
     "text": [
      "\u001b[1m\u001b[31m\n",
      "RAM memory GB usage = 0.805\u001b[0m\n",
      "Memory usage of dataframe is 39.39 MB\n",
      "Memory usage after optimization is: 38.61 MB\n",
      "Decreased by 2.0%\n",
      "CPU times: user 11.4 s, sys: 903 ms, total: 12.3 s\n",
      "Wall time: 10.3 s\n"
     ]
    },
    {
     "data": {
      "text/html": [
       "<div><style>\n",
       ".dataframe > thead > tr,\n",
       ".dataframe > tbody > tr {\n",
       "  text-align: right;\n",
       "  white-space: pre-wrap;\n",
       "}\n",
       "</style>\n",
       "<small>shape: (2, 27)</small><table border=\"1\" class=\"dataframe\"><thead><tr><th>user_id</th><th>article_id_fixed</th><th>impression_time_fixed</th><th>category</th><th>NumArticlesHistory</th><th>MedianReadTime</th><th>MaxReadTime</th><th>TotalReadTime</th><th>MedianScrollPercentage</th><th>MaxScrollPercentage</th><th>NeutralPct</th><th>PositivePct</th><th>NegativePct</th><th>PctStrongNeutral</th><th>PctStrongPositive</th><th>PctStrongNegative</th><th>PctNotDefaultArticles</th><th>MostFrequentCategory</th><th>MostFrequentWeekday</th><th>MostFrequentHour</th><th>topics_flatten_tf_idf</th><th>EVENTPct</th><th>PRODPct</th><th>PERPct</th><th>LOCPct</th><th>ORGPct</th><th>MISCPct</th></tr><tr><td>u32</td><td>list[i32]</td><td>list[datetime[μs]]</td><td>list[i16]</td><td>u16</td><td>f32</td><td>f32</td><td>f32</td><td>f32</td><td>f32</td><td>f32</td><td>f32</td><td>f32</td><td>f32</td><td>f32</td><td>f32</td><td>f32</td><td>i16</td><td>i8</td><td>i8</td><td>list[f32]</td><td>f32</td><td>f32</td><td>f32</td><td>f32</td><td>f32</td><td>f32</td></tr></thead><tbody><tr><td>10623</td><td>[9739035, 9739065, … 9770533]</td><td>[2023-04-27 14:29:44, 2023-04-27 14:29:47, … 2023-05-17 17:36:24]</td><td>[118, 414, … 140]</td><td>143</td><td>3.0</td><td>1563.0</td><td>9623.0</td><td>42.5</td><td>100.0</td><td>0.230769</td><td>0.111888</td><td>0.657343</td><td>0.097902</td><td>0.083916</td><td>0.608392</td><td>0.06993</td><td>118</td><td>3</td><td>16</td><td>[0.016041, 0.062928, … 0.178427]</td><td>0.202797</td><td>0.237762</td><td>0.874126</td><td>0.804196</td><td>0.888112</td><td>0.223776</td></tr><tr><td>12016</td><td>[9738216, 9735383, … 9769622]</td><td>[2023-04-27 07:39:48, 2023-04-27 07:41:30, … 2023-05-17 23:56:30]</td><td>[140, 118, … 140]</td><td>264</td><td>156.0</td><td>1775.0</td><td>63672.0</td><td>100.0</td><td>100.0</td><td>0.257576</td><td>0.075758</td><td>0.666667</td><td>0.106061</td><td>0.034091</td><td>0.602273</td><td>0.07197</td><td>140</td><td>5</td><td>20</td><td>[0.009749, 0.045896, … 0.075912]</td><td>0.087121</td><td>0.318182</td><td>0.787879</td><td>0.776515</td><td>0.852273</td><td>0.117424</td></tr></tbody></table></div>"
      ],
      "text/plain": [
       "shape: (2, 27)\n",
       "┌─────────┬─────────────┬─────────────┬────────────┬───┬──────────┬──────────┬──────────┬──────────┐\n",
       "│ user_id ┆ article_id_ ┆ impression_ ┆ category   ┆ … ┆ PERPct   ┆ LOCPct   ┆ ORGPct   ┆ MISCPct  │\n",
       "│ ---     ┆ fixed       ┆ time_fixed  ┆ ---        ┆   ┆ ---      ┆ ---      ┆ ---      ┆ ---      │\n",
       "│ u32     ┆ ---         ┆ ---         ┆ list[i16]  ┆   ┆ f32      ┆ f32      ┆ f32      ┆ f32      │\n",
       "│         ┆ list[i32]   ┆ list[dateti ┆            ┆   ┆          ┆          ┆          ┆          │\n",
       "│         ┆             ┆ me[μs]]     ┆            ┆   ┆          ┆          ┆          ┆          │\n",
       "╞═════════╪═════════════╪═════════════╪════════════╪═══╪══════════╪══════════╪══════════╪══════════╡\n",
       "│ 10623   ┆ [9739035,   ┆ [2023-04-27 ┆ [118, 414, ┆ … ┆ 0.874126 ┆ 0.804196 ┆ 0.888112 ┆ 0.223776 │\n",
       "│         ┆ 9739065, …  ┆ 14:29:44,   ┆ … 140]     ┆   ┆          ┆          ┆          ┆          │\n",
       "│         ┆ 9770533]    ┆ 2023-04-27… ┆            ┆   ┆          ┆          ┆          ┆          │\n",
       "│ 12016   ┆ [9738216,   ┆ [2023-04-27 ┆ [140, 118, ┆ … ┆ 0.787879 ┆ 0.776515 ┆ 0.852273 ┆ 0.117424 │\n",
       "│         ┆ 9735383, …  ┆ 07:39:48,   ┆ … 140]     ┆   ┆          ┆          ┆          ┆          │\n",
       "│         ┆ 9769622]    ┆ 2023-04-27… ┆            ┆   ┆          ┆          ┆          ┆          │\n",
       "└─────────┴─────────────┴─────────────┴────────────┴───┴──────────┴──────────┴──────────┴──────────┘"
      ]
     },
     "execution_count": 18,
     "metadata": {},
     "output_type": "execute_result"
    }
   ],
   "source": [
    "%%time\n",
    "\n",
    "STRONG_THR = 0.8\n",
    "\n",
    "history_train = pl.concat(\n",
    "    rows.with_columns(pl.col('article_id_fixed').list.len().alias('NumArticlesHistory')) \\\n",
    "        .explode(['article_id_fixed', 'impression_time_fixed', 'read_time_fixed', 'scroll_percentage_fixed']) \\\n",
    "        .sort(by=['user_id', 'impression_time_fixed']) \\\n",
    "        .with_columns(\n",
    "            pl.col('impression_time_fixed').dt.weekday().alias('weekday'),\n",
    "            pl.col('impression_time_fixed').dt.hour().alias('hour'),\n",
    "        ).join(articles.select(['article_id', 'category', 'is_article_default', 'sentiment_label_int', \n",
    "                                'sentiment_score', 'entity_groups', 'topics']), \n",
    "               left_on='article_id_fixed', right_on='article_id', how='left') \\\n",
    "        .with_columns(\n",
    "            (pl.col('sentiment_label_int') == 0).alias('is_neutral'),\n",
    "            (pl.col('sentiment_label_int') == 1).alias('is_positive'),\n",
    "            (pl.col('sentiment_label_int') == -1).alias('is_negative'),\n",
    "            ((pl.col('sentiment_label_int') == 0) & (pl.col('sentiment_score') > STRONG_THR)).alias('strong_neutral'),\n",
    "            ((pl.col('sentiment_label_int') == 1) & (pl.col('sentiment_score') > STRONG_THR)).alias('strong_positive'),\n",
    "            ((pl.col('sentiment_label_int') == -1) & (pl.col('sentiment_score') > STRONG_THR)).alias('strong_negative'),\n",
    "            pl.col('entity_groups').list.unique(),\n",
    "        ).group_by('user_id').agg(\n",
    "            pl.col('article_id_fixed'),\n",
    "            pl.col('impression_time_fixed'),\n",
    "            pl.col('category'),\n",
    "            pl.col('NumArticlesHistory').first(),\n",
    "            pl.col('read_time_fixed').median().alias('MedianReadTime'),\n",
    "            pl.col('read_time_fixed').max().alias('MaxReadTime'),\n",
    "            pl.col('read_time_fixed').sum().alias('TotalReadTime'),\n",
    "            pl.col('scroll_percentage_fixed').median().alias('MedianScrollPercentage'),\n",
    "            pl.col('scroll_percentage_fixed').max().alias('MaxScrollPercentage'),\n",
    "            (pl.col('is_neutral').sum() / pl.col('NumArticlesHistory').first()).alias('NeutralPct'),\n",
    "            (pl.col('is_positive').sum() / pl.col('NumArticlesHistory').first()).alias('PositivePct'),\n",
    "            (pl.col('is_negative').sum() / pl.col('NumArticlesHistory').first()).alias('NegativePct'),\n",
    "            (pl.col('strong_neutral').sum() / pl.col('NumArticlesHistory').first()).alias('PctStrongNeutral'),\n",
    "            (pl.col('strong_positive').sum() / pl.col('NumArticlesHistory').first()).alias('PctStrongPositive'),\n",
    "            (pl.col('strong_negative').sum() / pl.col('NumArticlesHistory').first()).alias('PctStrongNegative'),\n",
    "            (1 - (pl.col('is_article_default').sum() / pl.col('NumArticlesHistory').first())).alias('PctNotDefaultArticles'),\n",
    "            pl.col('category').mode().alias('MostFrequentCategory'),\n",
    "            pl.col('weekday').mode().alias('MostFrequentWeekday'),\n",
    "            pl.col('hour').mode().alias('MostFrequentHour'),\n",
    "            pl.col('entity_groups').flatten(),\n",
    "            pl.col('topics').flatten().alias('topics_flatten')\n",
    "        ).pipe(add_topics_tf_idf_columns, topics_col='topics_flatten', vectorizer=vectorizer) \\\n",
    "        .drop('topics_flatten').with_columns(\n",
    "            pl.col('MostFrequentCategory').list.first(),\n",
    "            pl.col('MostFrequentWeekday').list.first(),\n",
    "            pl.col('MostFrequentHour').list.first(),\n",
    "        ).with_columns(\n",
    "            (pl.col('entity_groups').list.count_matches(entity) / pl.col('NumArticlesHistory')).alias(f'{entity}Pct')\n",
    "            for entity in unique_entities\n",
    "        ).drop('entity_groups')\n",
    "    for rows in tqdm.tqdm(history_train.iter_slices(1000), total=history_train.shape[0] // 1000)\n",
    ")\n",
    "\n",
    "gc.collect()\n",
    "PrintColor(f\"\\n\" + GetMemUsage(), color = Fore.RED)\n",
    "history_train = reduce_polars_df_memory_size(history_train)\n",
    "history_train.head(2)"
   ]
  },
  {
   "cell_type": "code",
   "execution_count": 19,
   "id": "ae6fe57b",
   "metadata": {
    "execution": {
     "iopub.execute_input": "2024-04-03T21:11:14.561152Z",
     "iopub.status.busy": "2024-04-03T21:11:14.560778Z",
     "iopub.status.idle": "2024-04-03T21:11:14.566233Z",
     "shell.execute_reply": "2024-04-03T21:11:14.565400Z"
    },
    "papermill": {
     "duration": 0.023636,
     "end_time": "2024-04-03T21:11:14.568022",
     "exception": false,
     "start_time": "2024-04-03T21:11:14.544386",
     "status": "completed"
    },
    "tags": []
   },
   "outputs": [
    {
     "data": {
      "text/plain": [
       "(15143, 27)"
      ]
     },
     "execution_count": 19,
     "metadata": {},
     "output_type": "execute_result"
    }
   ],
   "source": [
    "history_train.shape"
   ]
  },
  {
   "cell_type": "markdown",
   "id": "6128ff11",
   "metadata": {
    "papermill": {
     "duration": 0.015332,
     "end_time": "2024-04-03T21:11:14.599317",
     "exception": false,
     "start_time": "2024-04-03T21:11:14.583985",
     "status": "completed"
    },
    "tags": []
   },
   "source": [
    "# Creating Training Dataframe"
   ]
  },
  {
   "cell_type": "code",
   "execution_count": 20,
   "id": "2e63c434",
   "metadata": {
    "execution": {
     "iopub.execute_input": "2024-04-03T21:11:14.632071Z",
     "iopub.status.busy": "2024-04-03T21:11:14.631436Z",
     "iopub.status.idle": "2024-04-03T21:11:28.060418Z",
     "shell.execute_reply": "2024-04-03T21:11:28.059429Z"
    },
    "papermill": {
     "duration": 13.447473,
     "end_time": "2024-04-03T21:11:28.062306",
     "exception": false,
     "start_time": "2024-04-03T21:11:14.614833",
     "status": "completed"
    },
    "tags": []
   },
   "outputs": [
    {
     "name": "stdout",
     "output_type": "stream",
     "text": [
      "\u001b[1m\u001b[31m\n",
      "RAM memory GB usage = 1.016\u001b[0m\n",
      "Memory usage of dataframe is 67.71 MB\n",
      "Memory usage after optimization is: 57.04 MB\n",
      "Decreased by 15.8%\n",
      "\u001b[1m\u001b[31m\n",
      "RAM memory GB usage = 0.9976\u001b[0m\n",
      "CPU times: user 31.9 s, sys: 1.13 s, total: 33 s\n",
      "Wall time: 13.4 s\n"
     ]
    },
    {
     "data": {
      "text/html": [
       "<div><style>\n",
       ".dataframe > thead > tr,\n",
       ".dataframe > tbody > tr {\n",
       "  text-align: right;\n",
       "  white-space: pre-wrap;\n",
       "}\n",
       "</style>\n",
       "<small>shape: (5, 33)</small><table border=\"1\" class=\"dataframe\"><thead><tr><th>impression_id</th><th>article</th><th>impression_time</th><th>target</th><th>device_type</th><th>read_time</th><th>scroll_percentage</th><th>user_id</th><th>is_sso_user</th><th>gender</th><th>age</th><th>is_subscriber</th><th>session_id</th><th>trendiness_publications_score</th><th>weekday</th><th>hour</th><th>premium</th><th>published_time</th><th>category</th><th>sentiment_score</th><th>sentiment_label</th><th>num_images</th><th>title_len</th><th>subtitle_len</th><th>body_len</th><th>article_delay_days</th><th>article_delay_hours</th><th>Entity_EVENT_Present</th><th>Entity_PROD_Present</th><th>Entity_PER_Present</th><th>Entity_LOC_Present</th><th>Entity_ORG_Present</th><th>Entity_MISC_Present</th></tr><tr><td>u32</td><td>i32</td><td>datetime[μs]</td><td>i8</td><td>i8</td><td>f32</td><td>f32</td><td>u32</td><td>bool</td><td>i8</td><td>i8</td><td>bool</td><td>u32</td><td>i16</td><td>i8</td><td>i8</td><td>bool</td><td>datetime[μs]</td><td>i16</td><td>f32</td><td>str</td><td>u32</td><td>u8</td><td>u8</td><td>u16</td><td>i16</td><td>i32</td><td>bool</td><td>bool</td><td>bool</td><td>bool</td><td>bool</td><td>bool</td></tr></thead><tbody><tr><td>149474</td><td>9778728</td><td>2023-05-24 07:47:53</td><td>0</td><td>2</td><td>13.0</td><td>null</td><td>139836</td><td>false</td><td>2</td><td>null</td><td>false</td><td>759</td><td>487</td><td>3</td><td>7</td><td>false</td><td>2023-05-24 07:26:05</td><td>142</td><td>0.9654</td><td>&quot;Negative&quot;</td><td>1</td><td>5</td><td>18</td><td>251</td><td>0</td><td>0</td><td>true</td><td>true</td><td>true</td><td>false</td><td>true</td><td>false</td></tr><tr><td>149474</td><td>9778657</td><td>2023-05-24 07:47:53</td><td>1</td><td>2</td><td>13.0</td><td>null</td><td>139836</td><td>false</td><td>2</td><td>null</td><td>false</td><td>759</td><td>138</td><td>3</td><td>7</td><td>false</td><td>2023-05-24 05:53:58</td><td>118</td><td>0.8347</td><td>&quot;Neutral&quot;</td><td>2</td><td>6</td><td>31</td><td>336</td><td>0</td><td>1</td><td>false</td><td>false</td><td>true</td><td>true</td><td>true</td><td>true</td></tr><tr><td>150528</td><td>9778682</td><td>2023-05-24 07:33:25</td><td>0</td><td>2</td><td>25.0</td><td>null</td><td>143471</td><td>false</td><td>2</td><td>null</td><td>false</td><td>1240</td><td>218</td><td>3</td><td>7</td><td>false</td><td>2023-05-24 06:32:42</td><td>498</td><td>0.9546</td><td>&quot;Negative&quot;</td><td>1</td><td>5</td><td>20</td><td>267</td><td>0</td><td>1</td><td>true</td><td>true</td><td>true</td><td>false</td><td>true</td><td>false</td></tr><tr><td>153068</td><td>9778682</td><td>2023-05-24 07:09:04</td><td>0</td><td>1</td><td>78.0</td><td>100.0</td><td>151570</td><td>false</td><td>2</td><td>null</td><td>false</td><td>1976</td><td>218</td><td>3</td><td>7</td><td>false</td><td>2023-05-24 06:32:42</td><td>498</td><td>0.9546</td><td>&quot;Negative&quot;</td><td>1</td><td>5</td><td>20</td><td>267</td><td>0</td><td>0</td><td>true</td><td>true</td><td>true</td><td>false</td><td>true</td><td>false</td></tr><tr><td>153071</td><td>9775990</td><td>2023-05-24 07:11:08</td><td>0</td><td>1</td><td>125.0</td><td>100.0</td><td>151570</td><td>false</td><td>2</td><td>null</td><td>false</td><td>1976</td><td>439</td><td>3</td><td>7</td><td>false</td><td>2023-05-22 11:48:18</td><td>142</td><td>0.5539</td><td>&quot;Neutral&quot;</td><td>1</td><td>4</td><td>20</td><td>382</td><td>1</td><td>43</td><td>true</td><td>false</td><td>true</td><td>true</td><td>true</td><td>true</td></tr></tbody></table></div>"
      ],
      "text/plain": [
       "shape: (5, 33)\n",
       "┌────────────┬─────────┬────────────┬────────┬───┬────────────┬────────────┬───────────┬───────────┐\n",
       "│ impression ┆ article ┆ impression ┆ target ┆ … ┆ Entity_PER ┆ Entity_LOC ┆ Entity_OR ┆ Entity_MI │\n",
       "│ _id        ┆ ---     ┆ _time      ┆ ---    ┆   ┆ _Present   ┆ _Present   ┆ G_Present ┆ SC_Presen │\n",
       "│ ---        ┆ i32     ┆ ---        ┆ i8     ┆   ┆ ---        ┆ ---        ┆ ---       ┆ t         │\n",
       "│ u32        ┆         ┆ datetime[μ ┆        ┆   ┆ bool       ┆ bool       ┆ bool      ┆ ---       │\n",
       "│            ┆         ┆ s]         ┆        ┆   ┆            ┆            ┆           ┆ bool      │\n",
       "╞════════════╪═════════╪════════════╪════════╪═══╪════════════╪════════════╪═══════════╪═══════════╡\n",
       "│ 149474     ┆ 9778728 ┆ 2023-05-24 ┆ 0      ┆ … ┆ true       ┆ false      ┆ true      ┆ false     │\n",
       "│            ┆         ┆ 07:47:53   ┆        ┆   ┆            ┆            ┆           ┆           │\n",
       "│ 149474     ┆ 9778657 ┆ 2023-05-24 ┆ 1      ┆ … ┆ true       ┆ true       ┆ true      ┆ true      │\n",
       "│            ┆         ┆ 07:47:53   ┆        ┆   ┆            ┆            ┆           ┆           │\n",
       "│ 150528     ┆ 9778682 ┆ 2023-05-24 ┆ 0      ┆ … ┆ true       ┆ false      ┆ true      ┆ false     │\n",
       "│            ┆         ┆ 07:33:25   ┆        ┆   ┆            ┆            ┆           ┆           │\n",
       "│ 153068     ┆ 9778682 ┆ 2023-05-24 ┆ 0      ┆ … ┆ true       ┆ false      ┆ true      ┆ false     │\n",
       "│            ┆         ┆ 07:09:04   ┆        ┆   ┆            ┆            ┆           ┆           │\n",
       "│ 153071     ┆ 9775990 ┆ 2023-05-24 ┆ 0      ┆ … ┆ true       ┆ true       ┆ true      ┆ true      │\n",
       "│            ┆         ┆ 07:11:08   ┆        ┆   ┆            ┆            ┆           ┆           │\n",
       "└────────────┴─────────┴────────────┴────────┴───┴────────────┴────────────┴───────────┴───────────┘"
      ]
     },
     "execution_count": 20,
     "metadata": {},
     "output_type": "execute_result"
    }
   ],
   "source": [
    "%%time\n",
    "\n",
    "NPRATIO = 2\n",
    "\n",
    "# dropping duplicates that can occur because of sampling strategy\n",
    "train_ds = behaviors_train.pipe(sampling_strategy_wu2019, npratio=NPRATIO, shuffle=False, \n",
    "                                with_replacement=True, seed=123) \\\n",
    "    .pipe(create_binary_labels_column, shuffle=True, seed=123) \\\n",
    "    .with_columns(pl.col('gender').fill_null(2)) \\\n",
    "    .select(['impression_id', 'article_ids_inview', 'impression_time', 'labels', \n",
    "             'device_type', 'read_time', 'scroll_percentage', 'user_id', 'is_sso_user', 'gender',\n",
    "             'age', 'is_subscriber', 'session_id']) \\\n",
    "    .explode(['article_ids_inview', 'labels']) \\\n",
    "    .rename({'article_ids_inview': 'article', 'labels': 'target'}) \\\n",
    "    .with_columns(pl.col('article').cast(pl.Int32)) \\\n",
    "    .pipe(add_trendiness_feature, articles=articles, period='3d') \\\n",
    "    .unique(['impression_id', 'article']) \\\n",
    "    .with_columns(\n",
    "        pl.col('impression_time').dt.weekday().alias('weekday'),\n",
    "        pl.col('impression_time').dt.hour().alias('hour'),\n",
    "        pl.col('article').cast(pl.Int32),\n",
    "    ).join(articles.select(['article_id', 'premium', 'published_time', 'category',\n",
    "                            'sentiment_score', 'sentiment_label', 'entity_groups',\n",
    "                            'num_images', 'title_len', 'subtitle_len', 'body_len']),\n",
    "           left_on='article', right_on='article_id', how='left') \\\n",
    "    .with_columns(\n",
    "        (pl.col('impression_time') - pl.col('published_time')).dt.total_days().alias('article_delay_days'),\n",
    "        (pl.col('impression_time') - pl.col('published_time')).dt.total_hours().alias('article_delay_hours')\n",
    "    ).with_columns(\n",
    "        pl.col('entity_groups').list.contains(entity).alias(f'Entity_{entity}_Present')\n",
    "        for entity in unique_entities\n",
    "    ).drop('entity_groups')\n",
    "\n",
    "gc.collect()\n",
    "PrintColor(f\"\\n\" + GetMemUsage(), color = Fore.RED)\n",
    "\n",
    "train_ds = reduce_polars_df_memory_size(train_ds)\n",
    "PrintColor(f\"\\n\" + GetMemUsage(), color = Fore.RED)\n",
    "train_ds.head()"
   ]
  },
  {
   "cell_type": "code",
   "execution_count": 21,
   "id": "0d313eff",
   "metadata": {
    "execution": {
     "iopub.execute_input": "2024-04-03T21:11:28.095289Z",
     "iopub.status.busy": "2024-04-03T21:11:28.094155Z",
     "iopub.status.idle": "2024-04-03T21:11:28.099966Z",
     "shell.execute_reply": "2024-04-03T21:11:28.099228Z"
    },
    "papermill": {
     "duration": 0.024383,
     "end_time": "2024-04-03T21:11:28.102048",
     "exception": false,
     "start_time": "2024-04-03T21:11:28.077665",
     "status": "completed"
    },
    "tags": []
   },
   "outputs": [
    {
     "data": {
      "text/plain": [
       "(699537, 33)"
      ]
     },
     "execution_count": 21,
     "metadata": {},
     "output_type": "execute_result"
    }
   ],
   "source": [
    "train_ds.shape"
   ]
  },
  {
   "cell_type": "markdown",
   "id": "977e618d",
   "metadata": {
    "papermill": {
     "duration": 0.015343,
     "end_time": "2024-04-03T21:11:28.133392",
     "exception": false,
     "start_time": "2024-04-03T21:11:28.118049",
     "status": "completed"
    },
    "tags": []
   },
   "source": [
    "## Session Features"
   ]
  },
  {
   "cell_type": "code",
   "execution_count": 22,
   "id": "020358b1",
   "metadata": {
    "execution": {
     "iopub.execute_input": "2024-04-03T21:11:28.167098Z",
     "iopub.status.busy": "2024-04-03T21:11:28.165589Z",
     "iopub.status.idle": "2024-04-03T21:11:28.171313Z",
     "shell.execute_reply": "2024-04-03T21:11:28.170266Z"
    },
    "papermill": {
     "duration": 0.024297,
     "end_time": "2024-04-03T21:11:28.173210",
     "exception": false,
     "start_time": "2024-04-03T21:11:28.148913",
     "status": "completed"
    },
    "tags": []
   },
   "outputs": [],
   "source": [
    "# behaviors_train.select(['session_id', 'impression_time', 'article_ids_clicked']) \\\n",
    "#     .group_by('session_id').map_groups(\n",
    "#         lambda group: group.explode('article_ids_clicked').sort('impression_time') \\\n",
    "#             .select(\n",
    "#                 pl.col('session_id').first(),\n",
    "#                 pl.col('article_ids_clicked').first().alias('article_id'),\n",
    "#                 (pl.col('impression_time').last() - pl.col('impression_time').first()).dt.total_minutes().alias('induced_session_len'),\n",
    "#                 (pl.col('impression_time').count() - 1).alias('num_clicked_articles_following')\n",
    "#             )\n",
    "#     ).group_by('article_id').agg(\n",
    "#         pl.col('num_clicked_articles_following').mean().alias('mean_num_clicked_articles_following'),\n",
    "#         pl.col('induced_session_len').mean().alias('mean_induced_session_len'),\n",
    "#     )"
   ]
  },
  {
   "cell_type": "code",
   "execution_count": 23,
   "id": "232b8b52",
   "metadata": {
    "execution": {
     "iopub.execute_input": "2024-04-03T21:11:28.206614Z",
     "iopub.status.busy": "2024-04-03T21:11:28.206067Z",
     "iopub.status.idle": "2024-04-03T21:11:29.342249Z",
     "shell.execute_reply": "2024-04-03T21:11:29.341288Z"
    },
    "papermill": {
     "duration": 1.155312,
     "end_time": "2024-04-03T21:11:29.343838",
     "exception": false,
     "start_time": "2024-04-03T21:11:28.188526",
     "status": "completed"
    },
    "tags": []
   },
   "outputs": [
    {
     "name": "stdout",
     "output_type": "stream",
     "text": [
      "\u001b[1m\u001b[31m\n",
      "RAM memory GB usage = 1.022\u001b[0m\n",
      "CPU times: user 1.59 s, sys: 91.2 ms, total: 1.68 s\n",
      "Wall time: 1.12 s\n"
     ]
    },
    {
     "data": {
      "text/html": [
       "<div><style>\n",
       ".dataframe > thead > tr,\n",
       ".dataframe > tbody > tr {\n",
       "  text-align: right;\n",
       "  white-space: pre-wrap;\n",
       "}\n",
       "</style>\n",
       "<small>shape: (2, 7)</small><table border=\"1\" class=\"dataframe\"><thead><tr><th>session_id</th><th>last_session_time</th><th>last_session_nclicks</th><th>last_most_freq_category</th><th>last_session_duration</th><th>all_seen_articles</th><th>mean_prev_sessions_duration</th></tr><tr><td>u32</td><td>datetime[μs]</td><td>u32</td><td>i16</td><td>i64</td><td>list[i32]</td><td>f64</td></tr></thead><tbody><tr><td>1969198</td><td>2023-05-16 19:48:21</td><td>0</td><td>null</td><td>0</td><td>[9759717]</td><td>0.0</td></tr><tr><td>1969199</td><td>2023-05-24 18:58:45</td><td>1</td><td>140</td><td>0</td><td>[9762352, 9777321, … 9779748]</td><td>0.0</td></tr></tbody></table></div>"
      ],
      "text/plain": [
       "shape: (2, 7)\n",
       "┌────────────┬──────────────┬──────────────┬─────────────┬─────────────┬─────────────┬─────────────┐\n",
       "│ session_id ┆ last_session ┆ last_session ┆ last_most_f ┆ last_sessio ┆ all_seen_ar ┆ mean_prev_s │\n",
       "│ ---        ┆ _time        ┆ _nclicks     ┆ req_categor ┆ n_duration  ┆ ticles      ┆ essions_dur │\n",
       "│ u32        ┆ ---          ┆ ---          ┆ y           ┆ ---         ┆ ---         ┆ ation       │\n",
       "│            ┆ datetime[μs] ┆ u32          ┆ ---         ┆ i64         ┆ list[i32]   ┆ ---         │\n",
       "│            ┆              ┆              ┆ i16         ┆             ┆             ┆ f64         │\n",
       "╞════════════╪══════════════╪══════════════╪═════════════╪═════════════╪═════════════╪═════════════╡\n",
       "│ 1969198    ┆ 2023-05-16   ┆ 0            ┆ null        ┆ 0           ┆ [9759717]   ┆ 0.0         │\n",
       "│            ┆ 19:48:21     ┆              ┆             ┆             ┆             ┆             │\n",
       "│ 1969199    ┆ 2023-05-24   ┆ 1            ┆ 140         ┆ 0           ┆ [9762352,   ┆ 0.0         │\n",
       "│            ┆ 18:58:45     ┆              ┆             ┆             ┆ 9777321, …  ┆             │\n",
       "│            ┆              ┆              ┆             ┆             ┆ 9779748]    ┆             │\n",
       "└────────────┴──────────────┴──────────────┴─────────────┴─────────────┴─────────────┴─────────────┘"
      ]
     },
     "execution_count": 23,
     "metadata": {},
     "output_type": "execute_result"
    }
   ],
   "source": [
    "%%time\n",
    "\n",
    "last_history_df = history_train.with_columns(\n",
    "    pl.col('impression_time_fixed').list.max().alias('last_history_impression_time'),\n",
    "    pl.col('article_id_fixed').list.tail(1).alias('last_history_article'),\n",
    ").select(['user_id', 'last_history_impression_time', 'last_history_article'])\n",
    "history_train = history_train.drop(['impression_time_fixed'])\n",
    "\n",
    "last_session_time_df = behaviors_train.select(['session_id', 'user_id', 'impression_time', 'article_ids_inview', 'article_ids_clicked']) \\\n",
    "    .explode('article_ids_clicked') \\\n",
    "    .join(articles.select(['article_id', 'category']), left_on='article_ids_clicked', right_on='article_id', how='left') \\\n",
    "    .group_by('session_id').agg(\n",
    "        pl.col('user_id').first(), \n",
    "        pl.col('impression_time').max().alias('session_time'), \n",
    "        pl.col('article_ids_inview').flatten().alias('all_seen_articles'),\n",
    "        (pl.col('impression_time').max() - pl.col('impression_time').min()).dt.total_minutes().alias('session_duration'),\n",
    "        pl.col('article_ids_clicked').count().alias('session_nclicks'),\n",
    "        # pl.col('category').alias('all_categories'),\n",
    "        pl.col('category').mode().alias('most_freq_category'),\n",
    "    ).sort(['user_id', 'session_time']).with_columns(\n",
    "        pl.col('most_freq_category').list.first(),\n",
    "    ).with_columns(\n",
    "        pl.col(['session_time', 'session_nclicks', 'session_duration', 'most_freq_category']) \\\n",
    "            .shift(1).over('user_id').name.prefix('last_'),\n",
    "        pl.col('all_seen_articles').list.unique().shift(1).over('user_id'),\n",
    "        pl.col('session_duration').rolling_mean(100, min_periods=1).over('user_id').alias('mean_prev_sessions_duration'),\n",
    "    ).with_columns(pl.col(['last_session_nclicks', 'last_session_duration']).fill_null(0)) \\\n",
    "    .join(last_history_df, on='user_id', how='left') \\\n",
    "    .with_columns(\n",
    "        pl.col('last_session_time').fill_null(pl.col('last_history_impression_time')),\n",
    "        pl.col('all_seen_articles').fill_null(pl.col('last_history_article')),\n",
    "    ).select(['session_id', 'last_session_time', 'last_session_nclicks', 'last_most_freq_category',\n",
    "              'last_session_duration', 'all_seen_articles', 'mean_prev_sessions_duration'])\n",
    "    \n",
    "gc.collect()\n",
    "PrintColor(f\"\\n\" + GetMemUsage(), color = Fore.RED)\n",
    "last_session_time_df.head(2)"
   ]
  },
  {
   "cell_type": "code",
   "execution_count": 24,
   "id": "f8351d88",
   "metadata": {
    "execution": {
     "iopub.execute_input": "2024-04-03T21:11:29.378648Z",
     "iopub.status.busy": "2024-04-03T21:11:29.378265Z",
     "iopub.status.idle": "2024-04-03T21:11:29.897451Z",
     "shell.execute_reply": "2024-04-03T21:11:29.894863Z"
    },
    "papermill": {
     "duration": 0.539748,
     "end_time": "2024-04-03T21:11:29.900023",
     "exception": false,
     "start_time": "2024-04-03T21:11:29.360275",
     "status": "completed"
    },
    "tags": []
   },
   "outputs": [
    {
     "name": "stdout",
     "output_type": "stream",
     "text": [
      "\u001b[1m\u001b[31m\n",
      "RAM memory GB usage = 1.091\u001b[0m\n"
     ]
    },
    {
     "data": {
      "text/html": [
       "<div><style>\n",
       ".dataframe > thead > tr,\n",
       ".dataframe > tbody > tr {\n",
       "  text-align: right;\n",
       "  white-space: pre-wrap;\n",
       "}\n",
       "</style>\n",
       "<small>shape: (2, 38)</small><table border=\"1\" class=\"dataframe\"><thead><tr><th>impression_id</th><th>article</th><th>impression_time</th><th>target</th><th>device_type</th><th>read_time</th><th>scroll_percentage</th><th>user_id</th><th>is_sso_user</th><th>gender</th><th>age</th><th>is_subscriber</th><th>trendiness_publications_score</th><th>weekday</th><th>hour</th><th>premium</th><th>category</th><th>sentiment_score</th><th>sentiment_label</th><th>num_images</th><th>title_len</th><th>subtitle_len</th><th>body_len</th><th>article_delay_days</th><th>article_delay_hours</th><th>Entity_EVENT_Present</th><th>Entity_PROD_Present</th><th>Entity_PER_Present</th><th>Entity_LOC_Present</th><th>Entity_ORG_Present</th><th>Entity_MISC_Present</th><th>last_session_nclicks</th><th>last_session_duration</th><th>mean_prev_sessions_duration</th><th>last_session_time_hour_diff</th><th>is_new_article</th><th>is_already_seen_article</th><th>is_last_session_most_seen_category</th></tr><tr><td>u32</td><td>i32</td><td>datetime[μs]</td><td>i8</td><td>i8</td><td>f32</td><td>f32</td><td>u32</td><td>bool</td><td>i8</td><td>i8</td><td>bool</td><td>i16</td><td>i8</td><td>i8</td><td>bool</td><td>i16</td><td>f32</td><td>str</td><td>u32</td><td>u8</td><td>u8</td><td>u16</td><td>i16</td><td>i32</td><td>bool</td><td>bool</td><td>bool</td><td>bool</td><td>bool</td><td>bool</td><td>u32</td><td>i64</td><td>f64</td><td>i64</td><td>bool</td><td>bool</td><td>bool</td></tr></thead><tbody><tr><td>149474</td><td>9778728</td><td>2023-05-24 07:47:53</td><td>0</td><td>2</td><td>13.0</td><td>null</td><td>139836</td><td>false</td><td>2</td><td>null</td><td>false</td><td>487</td><td>3</td><td>7</td><td>false</td><td>142</td><td>0.9654</td><td>&quot;Negative&quot;</td><td>1</td><td>5</td><td>18</td><td>251</td><td>0</td><td>0</td><td>true</td><td>true</td><td>true</td><td>false</td><td>true</td><td>false</td><td>3</td><td>1</td><td>1.0</td><td>88</td><td>false</td><td>false</td><td>false</td></tr><tr><td>149474</td><td>9778657</td><td>2023-05-24 07:47:53</td><td>1</td><td>2</td><td>13.0</td><td>null</td><td>139836</td><td>false</td><td>2</td><td>null</td><td>false</td><td>138</td><td>3</td><td>7</td><td>false</td><td>118</td><td>0.8347</td><td>&quot;Neutral&quot;</td><td>2</td><td>6</td><td>31</td><td>336</td><td>0</td><td>1</td><td>false</td><td>false</td><td>true</td><td>true</td><td>true</td><td>true</td><td>3</td><td>1</td><td>1.0</td><td>88</td><td>false</td><td>false</td><td>true</td></tr></tbody></table></div>"
      ],
      "text/plain": [
       "shape: (2, 38)\n",
       "┌────────────┬─────────┬────────────┬────────┬───┬────────────┬────────────┬───────────┬───────────┐\n",
       "│ impression ┆ article ┆ impression ┆ target ┆ … ┆ last_sessi ┆ is_new_art ┆ is_alread ┆ is_last_s │\n",
       "│ _id        ┆ ---     ┆ _time      ┆ ---    ┆   ┆ on_time_ho ┆ icle       ┆ y_seen_ar ┆ ession_mo │\n",
       "│ ---        ┆ i32     ┆ ---        ┆ i8     ┆   ┆ ur_diff    ┆ ---        ┆ ticle     ┆ st_seen_c │\n",
       "│ u32        ┆         ┆ datetime[μ ┆        ┆   ┆ ---        ┆ bool       ┆ ---       ┆ atego…    │\n",
       "│            ┆         ┆ s]         ┆        ┆   ┆ i64        ┆            ┆ bool      ┆ ---       │\n",
       "│            ┆         ┆            ┆        ┆   ┆            ┆            ┆           ┆ bool      │\n",
       "╞════════════╪═════════╪════════════╪════════╪═══╪════════════╪════════════╪═══════════╪═══════════╡\n",
       "│ 149474     ┆ 9778728 ┆ 2023-05-24 ┆ 0      ┆ … ┆ 88         ┆ false      ┆ false     ┆ false     │\n",
       "│            ┆         ┆ 07:47:53   ┆        ┆   ┆            ┆            ┆           ┆           │\n",
       "│ 149474     ┆ 9778657 ┆ 2023-05-24 ┆ 1      ┆ … ┆ 88         ┆ false      ┆ false     ┆ true      │\n",
       "│            ┆         ┆ 07:47:53   ┆        ┆   ┆            ┆            ┆           ┆           │\n",
       "└────────────┴─────────┴────────────┴────────┴───┴────────────┴────────────┴───────────┴───────────┘"
      ]
     },
     "execution_count": 24,
     "metadata": {},
     "output_type": "execute_result"
    }
   ],
   "source": [
    "train_ds = train_ds.join(last_session_time_df, on='session_id', how='left').with_columns(\n",
    "    (pl.col('impression_time') - pl.col('last_session_time')).dt.total_hours().alias('last_session_time_hour_diff'),\n",
    "    ((pl.col('last_session_time') - pl.col('published_time')).dt.total_hours() > 0).alias('is_new_article'),\n",
    "    pl.col('all_seen_articles').list.contains(pl.col('article')).alias('is_already_seen_article'),\n",
    "    (pl.col('category') == pl.col('last_most_freq_category')).fill_null(False).alias('is_last_session_most_seen_category'),\n",
    ").drop(['published_time', 'session_id', 'all_seen_articles', 'last_session_time', 'last_most_freq_category'])\n",
    "\n",
    "gc.collect()\n",
    "PrintColor(f\"\\n\" + GetMemUsage(), color = Fore.RED)\n",
    "train_ds.head(2)"
   ]
  },
  {
   "cell_type": "code",
   "execution_count": 25,
   "id": "977de61d",
   "metadata": {
    "execution": {
     "iopub.execute_input": "2024-04-03T21:11:29.933786Z",
     "iopub.status.busy": "2024-04-03T21:11:29.933391Z",
     "iopub.status.idle": "2024-04-03T21:11:29.942429Z",
     "shell.execute_reply": "2024-04-03T21:11:29.941169Z"
    },
    "papermill": {
     "duration": 0.028127,
     "end_time": "2024-04-03T21:11:29.944412",
     "exception": false,
     "start_time": "2024-04-03T21:11:29.916285",
     "status": "completed"
    },
    "tags": []
   },
   "outputs": [
    {
     "data": {
      "text/html": [
       "<div><style>\n",
       ".dataframe > thead > tr,\n",
       ".dataframe > tbody > tr {\n",
       "  text-align: right;\n",
       "  white-space: pre-wrap;\n",
       "}\n",
       "</style>\n",
       "<small>shape: (1, 2)</small><table border=\"1\" class=\"dataframe\"><thead><tr><th>is_new_article</th><th>is_already_seen_article</th></tr><tr><td>f64</td><td>f64</td></tr></thead><tbody><tr><td>0.292472</td><td>0.088208</td></tr></tbody></table></div>"
      ],
      "text/plain": [
       "shape: (1, 2)\n",
       "┌────────────────┬─────────────────────────┐\n",
       "│ is_new_article ┆ is_already_seen_article │\n",
       "│ ---            ┆ ---                     │\n",
       "│ f64            ┆ f64                     │\n",
       "╞════════════════╪═════════════════════════╡\n",
       "│ 0.292472       ┆ 0.088208                │\n",
       "└────────────────┴─────────────────────────┘"
      ]
     },
     "execution_count": 25,
     "metadata": {},
     "output_type": "execute_result"
    }
   ],
   "source": [
    "train_ds.select(pl.col('is_new_article').sum() / train_ds.shape[0], pl.col('is_already_seen_article').sum() / train_ds.shape[0])"
   ]
  },
  {
   "cell_type": "code",
   "execution_count": 26,
   "id": "2cb2ad08",
   "metadata": {
    "execution": {
     "iopub.execute_input": "2024-04-03T21:11:29.978771Z",
     "iopub.status.busy": "2024-04-03T21:11:29.978139Z",
     "iopub.status.idle": "2024-04-03T21:11:30.128731Z",
     "shell.execute_reply": "2024-04-03T21:11:30.127184Z"
    },
    "papermill": {
     "duration": 0.170632,
     "end_time": "2024-04-03T21:11:30.131343",
     "exception": false,
     "start_time": "2024-04-03T21:11:29.960711",
     "status": "completed"
    },
    "tags": []
   },
   "outputs": [
    {
     "data": {
      "text/plain": [
       "0"
      ]
     },
     "execution_count": 26,
     "metadata": {},
     "output_type": "execute_result"
    }
   ],
   "source": [
    "del last_history_df\n",
    "del last_session_time_df\n",
    "gc.collect()"
   ]
  },
  {
   "cell_type": "markdown",
   "id": "7e3334a2",
   "metadata": {
    "papermill": {
     "duration": 0.016369,
     "end_time": "2024-04-03T21:11:30.164338",
     "exception": false,
     "start_time": "2024-04-03T21:11:30.147969",
     "status": "completed"
    },
    "tags": []
   },
   "source": [
    "## Popularities"
   ]
  },
  {
   "cell_type": "code",
   "execution_count": 27,
   "id": "ce59f836",
   "metadata": {
    "execution": {
     "iopub.execute_input": "2024-04-03T21:11:30.199481Z",
     "iopub.status.busy": "2024-04-03T21:11:30.199176Z",
     "iopub.status.idle": "2024-04-03T21:11:30.591471Z",
     "shell.execute_reply": "2024-04-03T21:11:30.590486Z"
    },
    "papermill": {
     "duration": 0.412217,
     "end_time": "2024-04-03T21:11:30.593336",
     "exception": false,
     "start_time": "2024-04-03T21:11:30.181119",
     "status": "completed"
    },
    "tags": []
   },
   "outputs": [
    {
     "name": "stdout",
     "output_type": "stream",
     "text": [
      "Memory usage of dataframe is 67.96 MB\n",
      "Memory usage after optimization is: 53.95 MB\n",
      "Decreased by 20.6%\n",
      "\u001b[1m\u001b[31m\n",
      "RAM memory GB usage = 1.08\u001b[0m\n",
      "CPU times: user 433 ms, sys: 18.3 ms, total: 451 ms\n",
      "Wall time: 380 ms\n"
     ]
    },
    {
     "data": {
      "text/html": [
       "<div><style>\n",
       ".dataframe > thead > tr,\n",
       ".dataframe > tbody > tr {\n",
       "  text-align: right;\n",
       "  white-space: pre-wrap;\n",
       "}\n",
       "</style>\n",
       "<small>shape: (2, 38)</small><table border=\"1\" class=\"dataframe\"><thead><tr><th>impression_id</th><th>article</th><th>target</th><th>device_type</th><th>read_time</th><th>scroll_percentage</th><th>user_id</th><th>is_sso_user</th><th>gender</th><th>age</th><th>is_subscriber</th><th>trendiness_publications_score</th><th>weekday</th><th>hour</th><th>premium</th><th>category</th><th>sentiment_score</th><th>sentiment_label</th><th>num_images</th><th>title_len</th><th>subtitle_len</th><th>body_len</th><th>article_delay_days</th><th>article_delay_hours</th><th>Entity_EVENT_Present</th><th>Entity_PROD_Present</th><th>Entity_PER_Present</th><th>Entity_LOC_Present</th><th>Entity_ORG_Present</th><th>Entity_MISC_Present</th><th>last_session_nclicks</th><th>last_session_duration</th><th>mean_prev_sessions_duration</th><th>last_session_time_hour_diff</th><th>is_new_article</th><th>is_already_seen_article</th><th>is_last_session_most_seen_category</th><th>yesterday_category_daily_pct</th></tr><tr><td>u32</td><td>i32</td><td>i8</td><td>i8</td><td>f32</td><td>f32</td><td>u32</td><td>bool</td><td>i8</td><td>i8</td><td>bool</td><td>i16</td><td>i8</td><td>i8</td><td>bool</td><td>i16</td><td>f32</td><td>str</td><td>u32</td><td>u8</td><td>u8</td><td>u16</td><td>i16</td><td>i32</td><td>bool</td><td>bool</td><td>bool</td><td>bool</td><td>bool</td><td>bool</td><td>u32</td><td>i8</td><td>f32</td><td>i16</td><td>bool</td><td>bool</td><td>bool</td><td>f32</td></tr></thead><tbody><tr><td>149474</td><td>9778728</td><td>0</td><td>2</td><td>13.0</td><td>null</td><td>139836</td><td>false</td><td>2</td><td>null</td><td>false</td><td>487</td><td>3</td><td>7</td><td>false</td><td>142</td><td>0.9654</td><td>&quot;Negative&quot;</td><td>1</td><td>5</td><td>18</td><td>251</td><td>0</td><td>0</td><td>true</td><td>true</td><td>true</td><td>false</td><td>true</td><td>false</td><td>3</td><td>1</td><td>1.0</td><td>88</td><td>false</td><td>false</td><td>false</td><td>0.246377</td></tr><tr><td>149474</td><td>9778657</td><td>1</td><td>2</td><td>13.0</td><td>null</td><td>139836</td><td>false</td><td>2</td><td>null</td><td>false</td><td>138</td><td>3</td><td>7</td><td>false</td><td>118</td><td>0.8347</td><td>&quot;Neutral&quot;</td><td>2</td><td>6</td><td>31</td><td>336</td><td>0</td><td>1</td><td>false</td><td>false</td><td>true</td><td>true</td><td>true</td><td>true</td><td>3</td><td>1</td><td>1.0</td><td>88</td><td>false</td><td>false</td><td>true</td><td>0.275362</td></tr></tbody></table></div>"
      ],
      "text/plain": [
       "shape: (2, 38)\n",
       "┌────────────┬─────────┬────────┬────────────┬───┬────────────┬────────────┬───────────┬───────────┐\n",
       "│ impression ┆ article ┆ target ┆ device_typ ┆ … ┆ is_new_art ┆ is_already ┆ is_last_s ┆ yesterday │\n",
       "│ _id        ┆ ---     ┆ ---    ┆ e          ┆   ┆ icle       ┆ _seen_arti ┆ ession_mo ┆ _category │\n",
       "│ ---        ┆ i32     ┆ i8     ┆ ---        ┆   ┆ ---        ┆ cle        ┆ st_seen_c ┆ _daily_pc │\n",
       "│ u32        ┆         ┆        ┆ i8         ┆   ┆ bool       ┆ ---        ┆ atego…    ┆ t         │\n",
       "│            ┆         ┆        ┆            ┆   ┆            ┆ bool       ┆ ---       ┆ ---       │\n",
       "│            ┆         ┆        ┆            ┆   ┆            ┆            ┆ bool      ┆ f32       │\n",
       "╞════════════╪═════════╪════════╪════════════╪═══╪════════════╪════════════╪═══════════╪═══════════╡\n",
       "│ 149474     ┆ 9778728 ┆ 0      ┆ 2          ┆ … ┆ false      ┆ false      ┆ false     ┆ 0.246377  │\n",
       "│ 149474     ┆ 9778657 ┆ 1      ┆ 2          ┆ … ┆ false      ┆ false      ┆ true      ┆ 0.275362  │\n",
       "└────────────┴─────────┴────────┴────────────┴───┴────────────┴────────────┴───────────┴───────────┘"
      ]
     },
     "execution_count": 27,
     "metadata": {},
     "output_type": "execute_result"
    }
   ],
   "source": [
    "%%time\n",
    "\n",
    "articles_date_popularity = articles.select(['published_time', 'article_id']) \\\n",
    "    .group_by(pl.col('published_time').dt.date().alias('published_date')) \\\n",
    "    .agg(pl.col('article_id').count().alias('daily_articles')) \\\n",
    "\n",
    "published_category_popularity = articles.select(['published_time', 'article_id', 'category']) \\\n",
    "    .group_by([pl.col('published_time').dt.date().alias('published_date'), 'category']) \\\n",
    "    .agg(pl.col('article_id').count().alias('category_daily_articles')) \\\n",
    "    .join(articles_date_popularity, on='published_date', how='left') \\\n",
    "    .with_columns((pl.col('category_daily_articles') / pl.col('daily_articles')).alias('category_daily_pct')) \\\n",
    "    .drop(['category_daily_articles', 'daily_articles'])\n",
    "\n",
    "train_ds = train_ds.join(published_category_popularity, how='left', right_on=['published_date', 'category'],\n",
    "                         left_on=[pl.col('impression_time').dt.date() - pl.duration(days=1), 'category']) \\\n",
    "    .rename({'category_daily_pct': 'yesterday_category_daily_pct'}).drop(['impression_time']) \\\n",
    "    .with_columns(pl.col('yesterday_category_daily_pct').fill_null(0))\n",
    "train_ds = reduce_polars_df_memory_size(train_ds)\n",
    "\n",
    "gc.collect()\n",
    "PrintColor(f\"\\n\" + GetMemUsage(), color = Fore.RED)\n",
    "train_ds.head(2)"
   ]
  },
  {
   "cell_type": "markdown",
   "id": "eeaba649",
   "metadata": {
    "papermill": {
     "duration": 0.016782,
     "end_time": "2024-04-03T21:11:30.626921",
     "exception": false,
     "start_time": "2024-04-03T21:11:30.610139",
     "status": "completed"
    },
    "tags": []
   },
   "source": [
    "# Adding history features"
   ]
  },
  {
   "cell_type": "code",
   "execution_count": 28,
   "id": "462a1d92",
   "metadata": {
    "execution": {
     "iopub.execute_input": "2024-04-03T21:11:30.661562Z",
     "iopub.status.busy": "2024-04-03T21:11:30.660566Z",
     "iopub.status.idle": "2024-04-03T21:17:06.467069Z",
     "shell.execute_reply": "2024-04-03T21:17:06.465824Z"
    },
    "papermill": {
     "duration": 335.826288,
     "end_time": "2024-04-03T21:17:06.469557",
     "exception": false,
     "start_time": "2024-04-03T21:11:30.643269",
     "status": "completed"
    },
    "scrolled": true,
    "tags": []
   },
   "outputs": [
    {
     "name": "stderr",
     "output_type": "stream",
     "text": [
      "70it [05:35,  4.79s/it]\n"
     ]
    },
    {
     "name": "stdout",
     "output_type": "stream",
     "text": [
      "\u001b[1m\u001b[31m\n",
      "RAM memory GB usage = 1.559\u001b[0m\n"
     ]
    },
    {
     "data": {
      "text/html": [
       "<div><style>\n",
       ".dataframe > thead > tr,\n",
       ".dataframe > tbody > tr {\n",
       "  text-align: right;\n",
       "  white-space: pre-wrap;\n",
       "}\n",
       "</style>\n",
       "<small>shape: (2, 70)</small><table border=\"1\" class=\"dataframe\"><thead><tr><th>impression_id</th><th>article</th><th>target</th><th>device_type</th><th>read_time</th><th>scroll_percentage</th><th>user_id</th><th>is_sso_user</th><th>gender</th><th>age</th><th>is_subscriber</th><th>trendiness_publications_score</th><th>weekday</th><th>hour</th><th>premium</th><th>category</th><th>sentiment_score</th><th>sentiment_label</th><th>num_images</th><th>title_len</th><th>subtitle_len</th><th>body_len</th><th>article_delay_days</th><th>article_delay_hours</th><th>Entity_EVENT_Present</th><th>Entity_PROD_Present</th><th>Entity_PER_Present</th><th>Entity_LOC_Present</th><th>Entity_ORG_Present</th><th>Entity_MISC_Present</th><th>last_session_nclicks</th><th>last_session_duration</th><th>mean_prev_sessions_duration</th><th>last_session_time_hour_diff</th><th>is_new_article</th><th>is_already_seen_article</th><th>is_last_session_most_seen_category</th><th>yesterday_category_daily_pct</th><th>MeanCommonEntities</th><th>MaxCommonEntities</th><th>mean_JS</th><th>min_JS</th><th>max_JS</th><th>std_JS</th><th>NumArticlesHistory</th><th>MedianReadTime</th><th>MaxReadTime</th><th>TotalReadTime</th><th>MedianScrollPercentage</th><th>MaxScrollPercentage</th><th>NeutralPct</th><th>PositivePct</th><th>NegativePct</th><th>PctStrongNeutral</th><th>PctStrongPositive</th><th>PctStrongNegative</th><th>PctNotDefaultArticles</th><th>MostFrequentCategory</th><th>MostFrequentWeekday</th><th>MostFrequentHour</th><th>EVENTPct</th><th>PRODPct</th><th>PERPct</th><th>LOCPct</th><th>ORGPct</th><th>MISCPct</th><th>topics_cosine</th><th>IsFavouriteCategory</th><th>NumberDifferentCategories</th><th>PctCategoryMatches</th></tr><tr><td>u32</td><td>i32</td><td>i8</td><td>i8</td><td>f32</td><td>f32</td><td>u32</td><td>bool</td><td>i8</td><td>i8</td><td>bool</td><td>i16</td><td>i8</td><td>i8</td><td>bool</td><td>i16</td><td>f32</td><td>str</td><td>u32</td><td>u8</td><td>u8</td><td>u16</td><td>i16</td><td>i32</td><td>bool</td><td>bool</td><td>bool</td><td>bool</td><td>bool</td><td>bool</td><td>u32</td><td>i8</td><td>f32</td><td>i16</td><td>bool</td><td>bool</td><td>bool</td><td>f32</td><td>f64</td><td>u32</td><td>f64</td><td>f64</td><td>f64</td><td>f64</td><td>u16</td><td>f32</td><td>f32</td><td>f32</td><td>f32</td><td>f32</td><td>f32</td><td>f32</td><td>f32</td><td>f32</td><td>f32</td><td>f32</td><td>f32</td><td>i16</td><td>i8</td><td>i8</td><td>f32</td><td>f32</td><td>f32</td><td>f32</td><td>f32</td><td>f32</td><td>f32</td><td>bool</td><td>u32</td><td>f64</td></tr></thead><tbody><tr><td>153071</td><td>9775990</td><td>0</td><td>1</td><td>125.0</td><td>100.0</td><td>151570</td><td>false</td><td>2</td><td>null</td><td>false</td><td>439</td><td>3</td><td>7</td><td>false</td><td>142</td><td>0.5539</td><td>&quot;Neutral&quot;</td><td>1</td><td>4</td><td>20</td><td>382</td><td>1</td><td>43</td><td>true</td><td>false</td><td>true</td><td>true</td><td>true</td><td>true</td><td>2</td><td>2</td><td>3.333333</td><td>11</td><td>true</td><td>false</td><td>false</td><td>0.246377</td><td>2.996219</td><td>5</td><td>0.168996</td><td>0.0</td><td>1.0</td><td>0.245702</td><td>1058</td><td>16.0</td><td>1548.0</td><td>42896.0</td><td>100.0</td><td>100.0</td><td>0.259924</td><td>0.190926</td><td>0.549149</td><td>0.104915</td><td>0.111531</td><td>0.465974</td><td>0.031191</td><td>118</td><td>5</td><td>5</td><td>0.241021</td><td>0.335539</td><td>0.883743</td><td>0.756144</td><td>0.91966</td><td>0.195652</td><td>0.509346</td><td>false</td><td>10</td><td>0.991493</td></tr><tr><td>155587</td><td>9778375</td><td>1</td><td>1</td><td>50.0</td><td>100.0</td><td>161621</td><td>false</td><td>2</td><td>null</td><td>false</td><td>204</td><td>3</td><td>7</td><td>false</td><td>118</td><td>0.9979</td><td>&quot;Negative&quot;</td><td>0</td><td>10</td><td>18</td><td>296</td><td>0</td><td>9</td><td>false</td><td>false</td><td>false</td><td>true</td><td>true</td><td>false</td><td>1</td><td>0</td><td>5.818182</td><td>19</td><td>false</td><td>false</td><td>false</td><td>0.275362</td><td>1.629723</td><td>2</td><td>0.115991</td><td>0.0</td><td>0.666667</td><td>0.149668</td><td>397</td><td>30.0</td><td>1256.0</td><td>24994.0</td><td>100.0</td><td>100.0</td><td>0.219144</td><td>0.088161</td><td>0.692695</td><td>0.088161</td><td>0.050378</td><td>0.617128</td><td>0.032746</td><td>118</td><td>3</td><td>10</td><td>0.120907</td><td>0.27204</td><td>0.816121</td><td>0.70529</td><td>0.924433</td><td>0.206549</td><td>0.385166</td><td>true</td><td>9</td><td>0.979849</td></tr></tbody></table></div>"
      ],
      "text/plain": [
       "shape: (2, 70)\n",
       "┌────────────┬─────────┬────────┬────────────┬───┬────────────┬────────────┬───────────┬───────────┐\n",
       "│ impression ┆ article ┆ target ┆ device_typ ┆ … ┆ topics_cos ┆ IsFavourit ┆ NumberDif ┆ PctCatego │\n",
       "│ _id        ┆ ---     ┆ ---    ┆ e          ┆   ┆ ine        ┆ eCategory  ┆ ferentCat ┆ ryMatches │\n",
       "│ ---        ┆ i32     ┆ i8     ┆ ---        ┆   ┆ ---        ┆ ---        ┆ egories   ┆ ---       │\n",
       "│ u32        ┆         ┆        ┆ i8         ┆   ┆ f32        ┆ bool       ┆ ---       ┆ f64       │\n",
       "│            ┆         ┆        ┆            ┆   ┆            ┆            ┆ u32       ┆           │\n",
       "╞════════════╪═════════╪════════╪════════════╪═══╪════════════╪════════════╪═══════════╪═══════════╡\n",
       "│ 153071     ┆ 9775990 ┆ 0      ┆ 1          ┆ … ┆ 0.509346   ┆ false      ┆ 10        ┆ 0.991493  │\n",
       "│ 155587     ┆ 9778375 ┆ 1      ┆ 1          ┆ … ┆ 0.385166   ┆ true       ┆ 9         ┆ 0.979849  │\n",
       "└────────────┴─────────┴────────┴────────────┴───┴────────────┴────────────┴───────────┴───────────┘"
      ]
     },
     "execution_count": 28,
     "metadata": {},
     "output_type": "execute_result"
    }
   ],
   "source": [
    "def list_pct_matches_with_col(a, b) -> pl.Expr:\n",
    "    '''\n",
    "    Returns an expression to count the number of matching element in a list with another column.\n",
    "    The polars function count_matches cannot be used since it wants only a single element, \n",
    "    variable element from row to row.\n",
    "    '''\n",
    "    return pl.when(pl.col(a).list.len() == 0).then(0.0) \\\n",
    "        .otherwise((pl.col(a).list.len() - (pl.col(a).list.set_difference(pl.col(b))).list.len()) / pl.col(a).list.len())\n",
    "\n",
    "\n",
    "def cosine_similarity(x, y):\n",
    "    x = np.array(x)\n",
    "    y = np.array(y)\n",
    "    normalization = np.linalg.norm(x, 2) * np.linalg.norm(y, 2)\n",
    "    return np.dot(x, y) / normalization if normalization > 0 else 0\n",
    "\n",
    "\n",
    "def batch_cosine_similarity(df, col1, col2, target_col):\n",
    "    X = np.array(df[col1].to_list())\n",
    "    Y = np.array(df[col2].to_list())\n",
    "    norm = np.linalg.norm(X, 2, axis=1) * np.linalg.norm(Y, 2, axis=1)\n",
    "    cosine = np.where(norm > 0, np.sum(X * Y, axis=1) / norm, 0)\n",
    "    return df.with_columns(pl.Series(cosine).alias(target_col))\n",
    "\n",
    "\n",
    "prev_train_columns = [c for c in train_ds.columns if c not in ['impression_id', 'article']]\n",
    "\n",
    "train_ds = pl.concat(\n",
    "    rows.join(history_train.select(['user_id', 'article_id_fixed']), on='user_id', how='left') \\\n",
    "        .join(articles.select(['article_id', 'topics', 'entity_groups', 'topics_idf']), left_on='article', right_on='article_id', how='left') \\\n",
    "        .explode(['article_id_fixed']) \\\n",
    "        .join(articles.select(['article_id', 'topics', 'entity_groups']), left_on='article_id_fixed', right_on='article_id', how='left') \\\n",
    "        .rename({'topics_right': 'topics_history', 'entity_groups_right': 'entity_groups_history'}) \\\n",
    "        .with_columns(\n",
    "            (pl.col(\"topics\").list.set_intersection(pl.col(\"topics_history\")).list.len().truediv(\n",
    "                pl.col(\"topics\").list.set_union(pl.col(\"topics_history\")).list.len()\n",
    "            )).alias(\"JS\"),\n",
    "            pl.col('entity_groups').list.set_intersection(pl.col('entity_groups_history')).list.len().alias('common_entities'),\n",
    "        ).drop(['entity_groups_history', 'entity_groups', 'topics', 'topics_history']) \\\n",
    "        .group_by(['impression_id', 'article']).agg(\n",
    "            pl.col(prev_train_columns).first(),\n",
    "            pl.col('topics_idf').first(),\n",
    "            pl.col('common_entities').mean().alias('MeanCommonEntities'),\n",
    "            pl.col('common_entities').max().alias('MaxCommonEntities'),\n",
    "            pl.col(\"JS\").mean().alias(\"mean_JS\"),\n",
    "            pl.col(\"JS\").min().alias(\"min_JS\"),\n",
    "            pl.col(\"JS\").max().alias(\"max_JS\"),\n",
    "            pl.col(\"JS\").std().alias(\"std_JS\"),\n",
    "        ).join(history_train.drop(['article_id_fixed']), on='user_id', how='left') \\\n",
    "        .with_columns(\n",
    "            pl.struct(['topics_idf', 'topics_flatten_tf_idf']).map_elements(\n",
    "                lambda x: cosine_similarity(x['topics_idf'], x['topics_flatten_tf_idf']), return_dtype=pl.Float64\n",
    "            ).cast(pl.Float32).alias('topics_cosine'),\n",
    "            (pl.col('category') == pl.col('MostFrequentCategory')).alias('IsFavouriteCategory'),\n",
    "            pl.col('category_right').list.n_unique().alias('NumberDifferentCategories'),\n",
    "            list_pct_matches_with_col('category_right', 'category').alias('PctCategoryMatches'),\n",
    "        ).drop(['topics_idf', 'topics_flatten', 'topics_flatten_tf_idf', 'category_right'])\n",
    "    for rows in tqdm.tqdm(train_ds.iter_slices(10000), total=train_ds.shape[0] // 10000)\n",
    ")\n",
    "\n",
    "gc.collect()\n",
    "PrintColor(f\"\\n\" + GetMemUsage(), color = Fore.RED)\n",
    "train_ds.head(2)"
   ]
  },
  {
   "cell_type": "code",
   "execution_count": 29,
   "id": "205c2510",
   "metadata": {
    "execution": {
     "iopub.execute_input": "2024-04-03T21:17:06.513792Z",
     "iopub.status.busy": "2024-04-03T21:17:06.512960Z",
     "iopub.status.idle": "2024-04-03T21:17:06.517071Z",
     "shell.execute_reply": "2024-04-03T21:17:06.516421Z"
    },
    "papermill": {
     "duration": 0.02826,
     "end_time": "2024-04-03T21:17:06.518832",
     "exception": false,
     "start_time": "2024-04-03T21:17:06.490572",
     "status": "completed"
    },
    "tags": []
   },
   "outputs": [],
   "source": [
    "# .pipe(batch_cosine_similarity, col1='topics_idf', col2='topics_flatten_tf_idf', target_col='topics_cosine') \\"
   ]
  },
  {
   "cell_type": "markdown",
   "id": "9667e096",
   "metadata": {
    "papermill": {
     "duration": 0.020331,
     "end_time": "2024-04-03T21:17:06.559792",
     "exception": false,
     "start_time": "2024-04-03T21:17:06.539461",
     "status": "completed"
    },
    "tags": []
   },
   "source": [
    "# Training"
   ]
  },
  {
   "cell_type": "code",
   "execution_count": 30,
   "id": "4af9dd20",
   "metadata": {
    "execution": {
     "iopub.execute_input": "2024-04-03T21:17:06.604284Z",
     "iopub.status.busy": "2024-04-03T21:17:06.603456Z",
     "iopub.status.idle": "2024-04-03T21:17:06.954426Z",
     "shell.execute_reply": "2024-04-03T21:17:06.953670Z"
    },
    "papermill": {
     "duration": 0.376234,
     "end_time": "2024-04-03T21:17:06.956687",
     "exception": false,
     "start_time": "2024-04-03T21:17:06.580453",
     "status": "completed"
    },
    "tags": []
   },
   "outputs": [],
   "source": [
    "train_ds = train_ds.drop(['impression_id', 'article', 'user_id']).to_pandas()\n",
    "\n",
    "categorical_columns = ['device_type', 'is_sso_user', 'gender', 'is_subscriber', 'weekday',\n",
    "                       'premium', 'category', 'sentiment_label', 'is_new_article', 'is_already_seen_article',\n",
    "                       'MostFrequentCategory', 'MostFrequentWeekday', 'IsFavouriteCategory',\n",
    "                       'is_last_session_most_seen_category']\n",
    "categorical_columns += [f'Entity_{entity}_Present' for entity in unique_entities]\n",
    "train_ds[categorical_columns] = train_ds[categorical_columns].astype('category')\n",
    "\n",
    "X = train_ds.drop(columns=['target'])\n",
    "y = train_ds['target']"
   ]
  },
  {
   "cell_type": "code",
   "execution_count": 31,
   "id": "db4bb031",
   "metadata": {
    "execution": {
     "iopub.execute_input": "2024-04-03T21:17:07.000993Z",
     "iopub.status.busy": "2024-04-03T21:17:07.000398Z",
     "iopub.status.idle": "2024-04-03T21:17:07.154400Z",
     "shell.execute_reply": "2024-04-03T21:17:07.152921Z"
    },
    "papermill": {
     "duration": 0.179396,
     "end_time": "2024-04-03T21:17:07.157014",
     "exception": false,
     "start_time": "2024-04-03T21:17:06.977618",
     "status": "completed"
    },
    "tags": []
   },
   "outputs": [
    {
     "name": "stdout",
     "output_type": "stream",
     "text": [
      "\u001b[1m\u001b[31m\n",
      "RAM memory GB usage = 1.808\u001b[0m\n"
     ]
    }
   ],
   "source": [
    "del train_ds\n",
    "\n",
    "gc.collect()\n",
    "PrintColor(f\"\\n\" + GetMemUsage(), color = Fore.RED)"
   ]
  },
  {
   "cell_type": "code",
   "execution_count": 32,
   "id": "ce7550ad",
   "metadata": {
    "execution": {
     "iopub.execute_input": "2024-04-03T21:17:07.201580Z",
     "iopub.status.busy": "2024-04-03T21:17:07.201246Z",
     "iopub.status.idle": "2024-04-03T21:23:33.200425Z",
     "shell.execute_reply": "2024-04-03T21:23:33.197873Z"
    },
    "papermill": {
     "duration": 386.02489,
     "end_time": "2024-04-03T21:23:33.203343",
     "exception": false,
     "start_time": "2024-04-03T21:17:07.178453",
     "status": "completed"
    },
    "tags": []
   },
   "outputs": [
    {
     "name": "stdout",
     "output_type": "stream",
     "text": [
      "Learning rate set to 0.318943\n",
      "0:\tlearn: 0.6264911\ttotal: 1.14s\tremaining: 9m 27s\n",
      "25:\tlearn: 0.5462177\ttotal: 20s\tremaining: 6m 4s\n",
      "50:\tlearn: 0.5368338\ttotal: 38.4s\tremaining: 5m 38s\n",
      "75:\tlearn: 0.5299335\ttotal: 57.4s\tremaining: 5m 20s\n",
      "100:\tlearn: 0.5255382\ttotal: 1m 16s\tremaining: 5m\n",
      "125:\tlearn: 0.5222071\ttotal: 1m 35s\tremaining: 4m 42s\n",
      "150:\tlearn: 0.5193959\ttotal: 1m 54s\tremaining: 4m 23s\n",
      "175:\tlearn: 0.5167835\ttotal: 2m 12s\tremaining: 4m 4s\n",
      "200:\tlearn: 0.5146069\ttotal: 2m 32s\tremaining: 3m 46s\n",
      "225:\tlearn: 0.5127470\ttotal: 2m 51s\tremaining: 3m 28s\n",
      "250:\tlearn: 0.5106108\ttotal: 3m 11s\tremaining: 3m 9s\n",
      "275:\tlearn: 0.5092467\ttotal: 3m 30s\tremaining: 2m 50s\n",
      "300:\tlearn: 0.5079554\ttotal: 3m 49s\tremaining: 2m 31s\n",
      "325:\tlearn: 0.5066056\ttotal: 4m 8s\tremaining: 2m 12s\n",
      "350:\tlearn: 0.5052157\ttotal: 4m 27s\tremaining: 1m 53s\n",
      "375:\tlearn: 0.5040320\ttotal: 4m 47s\tremaining: 1m 34s\n",
      "400:\tlearn: 0.5028103\ttotal: 5m 6s\tremaining: 1m 15s\n",
      "425:\tlearn: 0.5015002\ttotal: 5m 26s\tremaining: 56.8s\n",
      "450:\tlearn: 0.5003299\ttotal: 5m 46s\tremaining: 37.7s\n",
      "475:\tlearn: 0.4991165\ttotal: 6m 5s\tremaining: 18.4s\n",
      "499:\tlearn: 0.4981663\ttotal: 6m 24s\tremaining: 0us\n",
      "\u001b[1m\u001b[31m\n",
      "RAM memory GB usage = 3.236\u001b[0m\n"
     ]
    }
   ],
   "source": [
    "# just a simple model to be able to run an evaluation\n",
    "model = CatBoostClassifier(cat_features=categorical_columns, iterations=500)\n",
    "\n",
    "model.fit(X, y, verbose=25)\n",
    "\n",
    "gc.collect()\n",
    "PrintColor(f\"\\n\" + GetMemUsage(), color = Fore.RED)"
   ]
  },
  {
   "cell_type": "code",
   "execution_count": 33,
   "id": "9614b5fa",
   "metadata": {
    "execution": {
     "iopub.execute_input": "2024-04-03T21:23:33.252168Z",
     "iopub.status.busy": "2024-04-03T21:23:33.251827Z",
     "iopub.status.idle": "2024-04-03T21:23:38.123054Z",
     "shell.execute_reply": "2024-04-03T21:23:38.120944Z"
    },
    "papermill": {
     "duration": 4.89887,
     "end_time": "2024-04-03T21:23:38.125534",
     "exception": false,
     "start_time": "2024-04-03T21:23:33.226664",
     "status": "completed"
    },
    "tags": []
   },
   "outputs": [
    {
     "name": "stdout",
     "output_type": "stream",
     "text": [
      "CPU times: user 4.93 s, sys: 36 ms, total: 4.97 s\n",
      "Wall time: 4.86 s\n"
     ]
    }
   ],
   "source": [
    "%%time\n",
    "\n",
    "from catboost import Pool\n",
    "\n",
    "train_pool = Pool(X, y, cat_features=categorical_columns)\n",
    "feature_importances = model.get_feature_importance(train_pool)"
   ]
  },
  {
   "cell_type": "code",
   "execution_count": 34,
   "id": "8b677d9a",
   "metadata": {
    "execution": {
     "iopub.execute_input": "2024-04-03T21:23:38.174106Z",
     "iopub.status.busy": "2024-04-03T21:23:38.173643Z",
     "iopub.status.idle": "2024-04-03T21:23:39.206168Z",
     "shell.execute_reply": "2024-04-03T21:23:39.204562Z"
    },
    "papermill": {
     "duration": 1.059411,
     "end_time": "2024-04-03T21:23:39.208274",
     "exception": false,
     "start_time": "2024-04-03T21:23:38.148863",
     "status": "completed"
    },
    "tags": []
   },
   "outputs": [
    {
     "data": {
      "text/plain": [
       "Text(0.5, 1.0, 'Catboost Feature Importances')"
      ]
     },
     "execution_count": 34,
     "metadata": {},
     "output_type": "execute_result"
    },
    {
     "data": {
      "image/png": "[encoded data removed]",
      "text/plain": [
       "<Figure size 1000x1000 with 1 Axes>"
      ]
     },
     "metadata": {},
     "output_type": "display_data"
    }
   ],
   "source": [
    "sorted_importances = np.argsort(feature_importances)[::-1]\n",
    "\n",
    "plt.figure(figsize=(10, 10))\n",
    "sns.barplot(x=feature_importances[sorted_importances], y=np.array(X.columns)[sorted_importances])\n",
    "plt.xlabel('Feature Importance')\n",
    "plt.ylabel('Feature Name')\n",
    "plt.title('Catboost Feature Importances')"
   ]
  },
  {
   "cell_type": "code",
   "execution_count": 35,
   "id": "599d3f19",
   "metadata": {
    "execution": {
     "iopub.execute_input": "2024-04-03T21:23:39.260930Z",
     "iopub.status.busy": "2024-04-03T21:23:39.260515Z",
     "iopub.status.idle": "2024-04-03T21:23:39.425319Z",
     "shell.execute_reply": "2024-04-03T21:23:39.424129Z"
    },
    "papermill": {
     "duration": 0.194288,
     "end_time": "2024-04-03T21:23:39.427190",
     "exception": false,
     "start_time": "2024-04-03T21:23:39.232902",
     "status": "completed"
    },
    "tags": []
   },
   "outputs": [
    {
     "name": "stdout",
     "output_type": "stream",
     "text": [
      "\u001b[1m\u001b[31m\n",
      "RAM memory GB usage = 3.228\u001b[0m\n"
     ]
    }
   ],
   "source": [
    "del history_train\n",
    "del behaviors_train\n",
    "\n",
    "gc.collect()\n",
    "PrintColor(f\"\\n\" + GetMemUsage(), color = Fore.RED)"
   ]
  },
  {
   "cell_type": "markdown",
   "id": "539bb6e6",
   "metadata": {
    "papermill": {
     "duration": 0.025352,
     "end_time": "2024-04-03T21:23:39.477587",
     "exception": false,
     "start_time": "2024-04-03T21:23:39.452235",
     "status": "completed"
    },
    "tags": []
   },
   "source": [
    "# Model Evaluation"
   ]
  },
  {
   "cell_type": "code",
   "execution_count": 36,
   "id": "b170f71a",
   "metadata": {
    "execution": {
     "iopub.execute_input": "2024-04-03T21:23:39.528058Z",
     "iopub.status.busy": "2024-04-03T21:23:39.527722Z",
     "iopub.status.idle": "2024-04-03T21:23:49.255807Z",
     "shell.execute_reply": "2024-04-03T21:23:49.254064Z"
    },
    "papermill": {
     "duration": 9.75643,
     "end_time": "2024-04-03T21:23:49.258339",
     "exception": false,
     "start_time": "2024-04-03T21:23:39.501909",
     "status": "completed"
    },
    "tags": []
   },
   "outputs": [
    {
     "name": "stderr",
     "output_type": "stream",
     "text": [
      "16it [00:09,  1.72it/s]                        \n"
     ]
    },
    {
     "name": "stdout",
     "output_type": "stream",
     "text": [
      "\u001b[1m\u001b[31m\n",
      "RAM memory GB usage = 2.859\u001b[0m\n",
      "Memory usage of dataframe is 36.51 MB\n",
      "Memory usage after optimization is: 35.72 MB\n",
      "Decreased by 2.2%\n",
      "CPU times: user 10.8 s, sys: 886 ms, total: 11.7 s\n",
      "Wall time: 9.7 s\n"
     ]
    },
    {
     "data": {
      "text/html": [
       "<div><style>\n",
       ".dataframe > thead > tr,\n",
       ".dataframe > tbody > tr {\n",
       "  text-align: right;\n",
       "  white-space: pre-wrap;\n",
       "}\n",
       "</style>\n",
       "<small>shape: (2, 27)</small><table border=\"1\" class=\"dataframe\"><thead><tr><th>user_id</th><th>article_id_fixed</th><th>impression_time_fixed</th><th>category</th><th>NumArticlesHistory</th><th>MedianReadTime</th><th>MaxReadTime</th><th>TotalReadTime</th><th>MedianScrollPercentage</th><th>MaxScrollPercentage</th><th>NeutralPct</th><th>PositivePct</th><th>NegativePct</th><th>PctStrongNeutral</th><th>PctStrongPositive</th><th>PctStrongNegative</th><th>PctNotDefaultArticles</th><th>MostFrequentCategory</th><th>MostFrequentWeekday</th><th>MostFrequentHour</th><th>topics_flatten_tf_idf</th><th>EVENTPct</th><th>PRODPct</th><th>PERPct</th><th>LOCPct</th><th>ORGPct</th><th>MISCPct</th></tr><tr><td>u32</td><td>list[i32]</td><td>list[datetime[μs]]</td><td>list[i16]</td><td>u16</td><td>f32</td><td>f32</td><td>f32</td><td>f32</td><td>f32</td><td>f32</td><td>f32</td><td>f32</td><td>f32</td><td>f32</td><td>f32</td><td>f32</td><td>i16</td><td>i8</td><td>i8</td><td>list[f32]</td><td>f32</td><td>f32</td><td>f32</td><td>f32</td><td>f32</td><td>f32</td></tr></thead><tbody><tr><td>10623</td><td>[9750749, 9685790, … 9779517]</td><td>[2023-05-05 07:51:01, 2023-05-05 07:51:36, … 2023-05-24 17:10:11]</td><td>[118, 457, … 414]</td><td>150</td><td>3.5</td><td>1563.0</td><td>9330.0</td><td>37.0</td><td>100.0</td><td>0.28</td><td>0.093333</td><td>0.626667</td><td>0.126667</td><td>0.06</td><td>0.546667</td><td>0.06</td><td>118</td><td>1</td><td>20</td><td>[0.0, 0.042172, … 0.089681]</td><td>0.3</td><td>0.213333</td><td>0.893333</td><td>0.846667</td><td>0.913333</td><td>0.266667</td></tr><tr><td>12718</td><td>[9749036, 9749025, … 9778718]</td><td>[2023-05-04 07:49:49, 2023-05-04 07:50:15, … 2023-05-24 07:07:25]</td><td>[118, 118, … 140]</td><td>114</td><td>7.0</td><td>748.0</td><td>3440.0</td><td>36.0</td><td>100.0</td><td>0.245614</td><td>0.052632</td><td>0.701754</td><td>0.087719</td><td>0.035088</td><td>0.614035</td><td>0.035088</td><td>118</td><td>1</td><td>7</td><td>[0.0, 0.048524, … 0.217846]</td><td>0.114035</td><td>0.254386</td><td>0.807018</td><td>0.815789</td><td>0.947368</td><td>0.192982</td></tr></tbody></table></div>"
      ],
      "text/plain": [
       "shape: (2, 27)\n",
       "┌─────────┬─────────────┬─────────────┬────────────┬───┬──────────┬──────────┬──────────┬──────────┐\n",
       "│ user_id ┆ article_id_ ┆ impression_ ┆ category   ┆ … ┆ PERPct   ┆ LOCPct   ┆ ORGPct   ┆ MISCPct  │\n",
       "│ ---     ┆ fixed       ┆ time_fixed  ┆ ---        ┆   ┆ ---      ┆ ---      ┆ ---      ┆ ---      │\n",
       "│ u32     ┆ ---         ┆ ---         ┆ list[i16]  ┆   ┆ f32      ┆ f32      ┆ f32      ┆ f32      │\n",
       "│         ┆ list[i32]   ┆ list[dateti ┆            ┆   ┆          ┆          ┆          ┆          │\n",
       "│         ┆             ┆ me[μs]]     ┆            ┆   ┆          ┆          ┆          ┆          │\n",
       "╞═════════╪═════════════╪═════════════╪════════════╪═══╪══════════╪══════════╪══════════╪══════════╡\n",
       "│ 10623   ┆ [9750749,   ┆ [2023-05-05 ┆ [118, 457, ┆ … ┆ 0.893333 ┆ 0.846667 ┆ 0.913333 ┆ 0.266667 │\n",
       "│         ┆ 9685790, …  ┆ 07:51:01,   ┆ … 414]     ┆   ┆          ┆          ┆          ┆          │\n",
       "│         ┆ 9779517]    ┆ 2023-05-05… ┆            ┆   ┆          ┆          ┆          ┆          │\n",
       "│ 12718   ┆ [9749036,   ┆ [2023-05-04 ┆ [118, 118, ┆ … ┆ 0.807018 ┆ 0.815789 ┆ 0.947368 ┆ 0.192982 │\n",
       "│         ┆ 9749025, …  ┆ 07:49:49,   ┆ … 140]     ┆   ┆          ┆          ┆          ┆          │\n",
       "│         ┆ 9778718]    ┆ 2023-05-04… ┆            ┆   ┆          ┆          ┆          ┆          │\n",
       "└─────────┴─────────────┴─────────────┴────────────┴───┴──────────┴──────────┴──────────┴──────────┘"
      ]
     },
     "execution_count": 36,
     "metadata": {},
     "output_type": "execute_result"
    }
   ],
   "source": [
    "%%time\n",
    "\n",
    "STRONG_THR = 0.8\n",
    "\n",
    "history_val = pl.concat(\n",
    "    rows.with_columns(pl.col('article_id_fixed').list.len().alias('NumArticlesHistory')) \\\n",
    "        .explode(['article_id_fixed', 'impression_time_fixed', 'read_time_fixed', 'scroll_percentage_fixed']) \\\n",
    "        .sort(by=['user_id', 'impression_time_fixed']) \\\n",
    "        .with_columns(\n",
    "            pl.col('impression_time_fixed').dt.weekday().alias('weekday'),\n",
    "            pl.col('impression_time_fixed').dt.hour().alias('hour'),\n",
    "        ).join(articles.select(['article_id', 'category', 'is_article_default', 'sentiment_label_int', \n",
    "                                'sentiment_score', 'entity_groups', 'topics']), \n",
    "               left_on='article_id_fixed', right_on='article_id', how='left') \\\n",
    "        .with_columns(\n",
    "            (pl.col('sentiment_label_int') == 0).alias('is_neutral'),\n",
    "            (pl.col('sentiment_label_int') == 1).alias('is_positive'),\n",
    "            (pl.col('sentiment_label_int') == -1).alias('is_negative'),\n",
    "            ((pl.col('sentiment_label_int') == 0) & (pl.col('sentiment_score') > STRONG_THR)).alias('strong_neutral'),\n",
    "            ((pl.col('sentiment_label_int') == 1) & (pl.col('sentiment_score') > STRONG_THR)).alias('strong_positive'),\n",
    "            ((pl.col('sentiment_label_int') == -1) & (pl.col('sentiment_score') > STRONG_THR)).alias('strong_negative'),\n",
    "            pl.col('entity_groups').list.unique(),\n",
    "        ).group_by('user_id').agg(\n",
    "            pl.col('article_id_fixed'),\n",
    "            pl.col('impression_time_fixed'),\n",
    "            pl.col('category'),\n",
    "            pl.col('NumArticlesHistory').first(),\n",
    "            pl.col('read_time_fixed').median().alias('MedianReadTime'),\n",
    "            pl.col('read_time_fixed').max().alias('MaxReadTime'),\n",
    "            pl.col('read_time_fixed').sum().alias('TotalReadTime'),\n",
    "            pl.col('scroll_percentage_fixed').median().alias('MedianScrollPercentage'),\n",
    "            pl.col('scroll_percentage_fixed').max().alias('MaxScrollPercentage'),\n",
    "            (pl.col('is_neutral').sum() / pl.col('NumArticlesHistory').first()).alias('NeutralPct'),\n",
    "            (pl.col('is_positive').sum() / pl.col('NumArticlesHistory').first()).alias('PositivePct'),\n",
    "            (pl.col('is_negative').sum() / pl.col('NumArticlesHistory').first()).alias('NegativePct'),\n",
    "            (pl.col('strong_neutral').sum() / pl.col('NumArticlesHistory').first()).alias('PctStrongNeutral'),\n",
    "            (pl.col('strong_positive').sum() / pl.col('NumArticlesHistory').first()).alias('PctStrongPositive'),\n",
    "            (pl.col('strong_negative').sum() / pl.col('NumArticlesHistory').first()).alias('PctStrongNegative'),\n",
    "            (1 - (pl.col('is_article_default').sum() / pl.col('NumArticlesHistory').first())).alias('PctNotDefaultArticles'),\n",
    "            pl.col('category').mode().alias('MostFrequentCategory'),\n",
    "            pl.col('weekday').mode().alias('MostFrequentWeekday'),\n",
    "            pl.col('hour').mode().alias('MostFrequentHour'),\n",
    "            pl.col('entity_groups').flatten(),\n",
    "            pl.col('topics').flatten().alias('topics_flatten')\n",
    "        ).pipe(add_topics_tf_idf_columns, topics_col='topics_flatten', vectorizer=vectorizer) \\\n",
    "        .drop('topics_flatten').with_columns(\n",
    "            pl.col('MostFrequentCategory').list.first(),\n",
    "            pl.col('MostFrequentWeekday').list.first(),\n",
    "            pl.col('MostFrequentHour').list.first(),\n",
    "        ).with_columns(\n",
    "            (pl.col('entity_groups').list.count_matches(entity) / pl.col('NumArticlesHistory')).alias(f'{entity}Pct')\n",
    "            for entity in unique_entities\n",
    "        ).drop('entity_groups')\n",
    "    for rows in tqdm.tqdm(history_val.iter_slices(1000), total=history_val.shape[0] // 1000)\n",
    ")\n",
    "\n",
    "gc.collect()\n",
    "PrintColor(f\"\\n\" + GetMemUsage(), color = Fore.RED)\n",
    "history_val = reduce_polars_df_memory_size(history_val)\n",
    "history_val.head(2)"
   ]
  },
  {
   "cell_type": "code",
   "execution_count": 37,
   "id": "47355b78",
   "metadata": {
    "execution": {
     "iopub.execute_input": "2024-04-03T21:23:49.315655Z",
     "iopub.status.busy": "2024-04-03T21:23:49.315303Z",
     "iopub.status.idle": "2024-04-03T21:23:50.371678Z",
     "shell.execute_reply": "2024-04-03T21:23:50.370625Z"
    },
    "papermill": {
     "duration": 1.086717,
     "end_time": "2024-04-03T21:23:50.373985",
     "exception": false,
     "start_time": "2024-04-03T21:23:49.287268",
     "status": "completed"
    },
    "tags": []
   },
   "outputs": [],
   "source": [
    "last_history_df = history_val.with_columns(\n",
    "    pl.col('impression_time_fixed').list.max().alias('last_history_impression_time'),\n",
    "    pl.col('article_id_fixed').list.tail(1).alias('last_history_article'),\n",
    ").select(['user_id', 'last_history_impression_time', 'last_history_article'])\n",
    "history_val = history_val.drop(['impression_time_fixed'])\n",
    "\n",
    "last_session_time_df = behaviors_val.select(['session_id', 'user_id', 'impression_time', 'article_ids_inview', 'article_ids_clicked']) \\\n",
    "    .explode('article_ids_clicked') \\\n",
    "    .join(articles.select(['article_id', 'category']), left_on='article_ids_clicked', right_on='article_id', how='left') \\\n",
    "    .group_by('session_id').agg(\n",
    "        pl.col('user_id').first(), \n",
    "        pl.col('impression_time').max().alias('session_time'), \n",
    "        pl.col('article_ids_inview').flatten().alias('all_seen_articles'),\n",
    "        (pl.col('impression_time').max() - pl.col('impression_time').min()).dt.total_minutes().alias('session_duration'),\n",
    "        pl.col('article_ids_clicked').count().alias('session_nclicks'),\n",
    "        # pl.col('category').alias('all_categories'),\n",
    "        pl.col('category').mode().alias('most_freq_category'),\n",
    "    ).sort(['user_id', 'session_time']).with_columns(\n",
    "        pl.col('most_freq_category').list.first(),\n",
    "    ).with_columns(\n",
    "        pl.col(['session_time', 'session_nclicks', 'session_duration', 'most_freq_category']) \\\n",
    "            .shift(1).over('user_id').name.prefix('last_'),\n",
    "        pl.col('all_seen_articles').list.unique().shift(1).over('user_id'),\n",
    "        pl.col('session_duration').rolling_mean(100, min_periods=1).over('user_id').alias('mean_prev_sessions_duration'),\n",
    "    ).with_columns(pl.col(['last_session_nclicks', 'last_session_duration']).fill_null(0)) \\\n",
    "    .join(last_history_df, on='user_id', how='left') \\\n",
    "    .with_columns(\n",
    "        pl.col('last_session_time').fill_null(pl.col('last_history_impression_time')),\n",
    "        pl.col('all_seen_articles').fill_null(pl.col('last_history_article')),\n",
    "    ).select(['session_id', 'last_session_time', 'last_session_nclicks', 'last_most_freq_category',\n",
    "              'last_session_duration', 'all_seen_articles', 'mean_prev_sessions_duration'])"
   ]
  },
  {
   "cell_type": "code",
   "execution_count": 38,
   "id": "baf33049",
   "metadata": {
    "execution": {
     "iopub.execute_input": "2024-04-03T21:23:50.429763Z",
     "iopub.status.busy": "2024-04-03T21:23:50.429337Z",
     "iopub.status.idle": "2024-04-03T21:24:24.748750Z",
     "shell.execute_reply": "2024-04-03T21:24:24.747511Z"
    },
    "papermill": {
     "duration": 34.366641,
     "end_time": "2024-04-03T21:24:24.768252",
     "exception": false,
     "start_time": "2024-04-03T21:23:50.401611",
     "status": "completed"
    },
    "tags": []
   },
   "outputs": [
    {
     "name": "stdout",
     "output_type": "stream",
     "text": [
      "\u001b[1m\u001b[31m\n",
      "RAM memory GB usage = 4.491\u001b[0m\n",
      "Memory usage of dataframe is 329.26 MB\n",
      "Memory usage after optimization is: 225.90 MB\n",
      "Decreased by 31.4%\n",
      "\u001b[1m\u001b[31m\n",
      "RAM memory GB usage = 4.39\u001b[0m\n",
      "CPU times: user 1min 49s, sys: 4.71 s, total: 1min 54s\n",
      "Wall time: 34.3 s\n"
     ]
    },
    {
     "data": {
      "text/html": [
       "<div><style>\n",
       ".dataframe > thead > tr,\n",
       ".dataframe > tbody > tr {\n",
       "  text-align: right;\n",
       "  white-space: pre-wrap;\n",
       "}\n",
       "</style>\n",
       "<small>shape: (5, 38)</small><table border=\"1\" class=\"dataframe\"><thead><tr><th>impression_id</th><th>article</th><th>target</th><th>device_type</th><th>read_time</th><th>scroll_percentage</th><th>user_id</th><th>is_sso_user</th><th>gender</th><th>age</th><th>is_subscriber</th><th>trendiness_publications_score</th><th>weekday</th><th>hour</th><th>premium</th><th>category</th><th>sentiment_score</th><th>sentiment_label</th><th>num_images</th><th>title_len</th><th>subtitle_len</th><th>body_len</th><th>article_delay_days</th><th>article_delay_hours</th><th>Entity_EVENT_Present</th><th>Entity_PROD_Present</th><th>Entity_PER_Present</th><th>Entity_LOC_Present</th><th>Entity_ORG_Present</th><th>Entity_MISC_Present</th><th>last_session_nclicks</th><th>last_session_duration</th><th>mean_prev_sessions_duration</th><th>last_session_time_hour_diff</th><th>is_new_article</th><th>is_already_seen_article</th><th>is_last_session_most_seen_category</th><th>yesterday_category_daily_pct</th></tr><tr><td>u32</td><td>i32</td><td>i8</td><td>i8</td><td>f32</td><td>f32</td><td>u32</td><td>bool</td><td>i8</td><td>i8</td><td>bool</td><td>i16</td><td>i8</td><td>i8</td><td>bool</td><td>i16</td><td>f32</td><td>str</td><td>u32</td><td>u8</td><td>u8</td><td>u16</td><td>i16</td><td>i32</td><td>bool</td><td>bool</td><td>bool</td><td>bool</td><td>bool</td><td>bool</td><td>u32</td><td>i8</td><td>f32</td><td>i16</td><td>bool</td><td>bool</td><td>bool</td><td>f32</td></tr></thead><tbody><tr><td>96798</td><td>9782884</td><td>0</td><td>2</td><td>46.0</td><td>null</td><td>22548</td><td>false</td><td>2</td><td>null</td><td>false</td><td>90</td><td>7</td><td>4</td><td>false</td><td>512</td><td>0.9475</td><td>&quot;Negative&quot;</td><td>7</td><td>5</td><td>24</td><td>458</td><td>0</td><td>7</td><td>false</td><td>true</td><td>true</td><td>true</td><td>true</td><td>false</td><td>5</td><td>11</td><td>3.0</td><td>0</td><td>true</td><td>true</td><td>false</td><td>0.008929</td></tr><tr><td>96798</td><td>9783405</td><td>0</td><td>2</td><td>46.0</td><td>null</td><td>22548</td><td>false</td><td>2</td><td>null</td><td>false</td><td>250</td><td>7</td><td>4</td><td>true</td><td>565</td><td>0.8513</td><td>&quot;Neutral&quot;</td><td>1</td><td>6</td><td>35</td><td>310</td><td>0</td><td>8</td><td>false</td><td>true</td><td>true</td><td>false</td><td>false</td><td>false</td><td>5</td><td>11</td><td>3.0</td><td>0</td><td>true</td><td>false</td><td>false</td><td>0.008929</td></tr><tr><td>96798</td><td>9784444</td><td>0</td><td>2</td><td>46.0</td><td>null</td><td>22548</td><td>false</td><td>2</td><td>null</td><td>false</td><td>124</td><td>7</td><td>4</td><td>false</td><td>118</td><td>0.5828</td><td>&quot;Negative&quot;</td><td>1</td><td>4</td><td>21</td><td>247</td><td>0</td><td>11</td><td>false</td><td>false</td><td>true</td><td>true</td><td>true</td><td>true</td><td>5</td><td>11</td><td>3.0</td><td>0</td><td>true</td><td>false</td><td>false</td><td>0.276786</td></tr><tr><td>96798</td><td>9782057</td><td>0</td><td>2</td><td>46.0</td><td>null</td><td>22548</td><td>false</td><td>2</td><td>null</td><td>false</td><td>511</td><td>7</td><td>4</td><td>false</td><td>142</td><td>0.8738</td><td>&quot;Neutral&quot;</td><td>2</td><td>6</td><td>16</td><td>304</td><td>1</td><td>42</td><td>false</td><td>false</td><td>true</td><td>true</td><td>true</td><td>true</td><td>5</td><td>11</td><td>3.0</td><td>0</td><td>true</td><td>false</td><td>true</td><td>0.357143</td></tr><tr><td>96798</td><td>9784583</td><td>0</td><td>2</td><td>46.0</td><td>null</td><td>22548</td><td>false</td><td>2</td><td>null</td><td>false</td><td>72</td><td>7</td><td>4</td><td>false</td><td>118</td><td>0.7946</td><td>&quot;Negative&quot;</td><td>1</td><td>4</td><td>17</td><td>186</td><td>0</td><td>9</td><td>false</td><td>true</td><td>true</td><td>true</td><td>true</td><td>true</td><td>5</td><td>11</td><td>3.0</td><td>0</td><td>true</td><td>false</td><td>false</td><td>0.276786</td></tr></tbody></table></div>"
      ],
      "text/plain": [
       "shape: (5, 38)\n",
       "┌────────────┬─────────┬────────┬────────────┬───┬────────────┬────────────┬───────────┬───────────┐\n",
       "│ impression ┆ article ┆ target ┆ device_typ ┆ … ┆ is_new_art ┆ is_already ┆ is_last_s ┆ yesterday │\n",
       "│ _id        ┆ ---     ┆ ---    ┆ e          ┆   ┆ icle       ┆ _seen_arti ┆ ession_mo ┆ _category │\n",
       "│ ---        ┆ i32     ┆ i8     ┆ ---        ┆   ┆ ---        ┆ cle        ┆ st_seen_c ┆ _daily_pc │\n",
       "│ u32        ┆         ┆        ┆ i8         ┆   ┆ bool       ┆ ---        ┆ atego…    ┆ t         │\n",
       "│            ┆         ┆        ┆            ┆   ┆            ┆ bool       ┆ ---       ┆ ---       │\n",
       "│            ┆         ┆        ┆            ┆   ┆            ┆            ┆ bool      ┆ f32       │\n",
       "╞════════════╪═════════╪════════╪════════════╪═══╪════════════╪════════════╪═══════════╪═══════════╡\n",
       "│ 96798      ┆ 9782884 ┆ 0      ┆ 2          ┆ … ┆ true       ┆ true       ┆ false     ┆ 0.008929  │\n",
       "│ 96798      ┆ 9783405 ┆ 0      ┆ 2          ┆ … ┆ true       ┆ false      ┆ false     ┆ 0.008929  │\n",
       "│ 96798      ┆ 9784444 ┆ 0      ┆ 2          ┆ … ┆ true       ┆ false      ┆ false     ┆ 0.276786  │\n",
       "│ 96798      ┆ 9782057 ┆ 0      ┆ 2          ┆ … ┆ true       ┆ false      ┆ true      ┆ 0.357143  │\n",
       "│ 96798      ┆ 9784583 ┆ 0      ┆ 2          ┆ … ┆ true       ┆ false      ┆ false     ┆ 0.276786  │\n",
       "└────────────┴─────────┴────────┴────────────┴───┴────────────┴────────────┴───────────┴───────────┘"
      ]
     },
     "execution_count": 38,
     "metadata": {},
     "output_type": "execute_result"
    }
   ],
   "source": [
    "%%time\n",
    "\n",
    "NPRATIO = 2\n",
    "\n",
    "# dropping duplicates that can occur because of sampling strategy\n",
    "val_ds = behaviors_val.pipe(create_binary_labels_column, shuffle=True, seed=123) \\\n",
    "    .with_columns(pl.col('gender').fill_null(2)) \\\n",
    "    .select(['impression_id', 'article_ids_inview', 'impression_time', 'labels', \n",
    "             'device_type', 'read_time', 'scroll_percentage', 'user_id', 'is_sso_user', 'gender',\n",
    "             'age', 'is_subscriber', 'session_id']) \\\n",
    "    .explode(['article_ids_inview', 'labels']) \\\n",
    "    .rename({'article_ids_inview': 'article', 'labels': 'target'}) \\\n",
    "    .with_columns(pl.col('article').cast(pl.Int32)) \\\n",
    "    .pipe(add_trendiness_feature, articles=articles, period='3d') \\\n",
    "    .unique(['impression_id', 'article']) \\\n",
    "    .with_columns(\n",
    "        pl.col('impression_time').dt.weekday().alias('weekday'),\n",
    "        pl.col('impression_time').dt.hour().alias('hour'),\n",
    "        pl.col('article').cast(pl.Int32),\n",
    "    ).join(articles.select(['article_id', 'premium', 'published_time', 'category',\n",
    "                            'sentiment_score', 'sentiment_label', 'entity_groups',\n",
    "                            'num_images', 'title_len', 'subtitle_len', 'body_len']),\n",
    "           left_on='article', right_on='article_id', how='left') \\\n",
    "    .with_columns(\n",
    "        (pl.col('impression_time') - pl.col('published_time')).dt.total_days().alias('article_delay_days'),\n",
    "        (pl.col('impression_time') - pl.col('published_time')).dt.total_hours().alias('article_delay_hours')\n",
    "    ).with_columns(\n",
    "        pl.col('entity_groups').list.contains(entity).alias(f'Entity_{entity}_Present')\n",
    "        for entity in unique_entities\n",
    "    ).drop('entity_groups') \\\n",
    "    .join(last_session_time_df, on='session_id', how='left').with_columns(\n",
    "        (pl.col('impression_time') - pl.col('last_session_time')).dt.total_hours().alias('last_session_time_hour_diff'),\n",
    "        ((pl.col('last_session_time') - pl.col('published_time')).dt.total_hours() > 0).alias('is_new_article'),\n",
    "        pl.col('all_seen_articles').list.contains(pl.col('article')).alias('is_already_seen_article'),\n",
    "        (pl.col('category') == pl.col('last_most_freq_category')).fill_null(False).alias('is_last_session_most_seen_category'),\n",
    "    ).drop(['published_time', 'session_id', 'all_seen_articles', 'last_session_time', 'last_most_freq_category']) \\\n",
    "    .join(published_category_popularity, how='left', right_on=['published_date', 'category'],\n",
    "                         left_on=[pl.col('impression_time').dt.date() - pl.duration(days=1), 'category']) \\\n",
    "    .rename({'category_daily_pct': 'yesterday_category_daily_pct'}).drop(['impression_time']) \\\n",
    "    .with_columns(pl.col('yesterday_category_daily_pct').fill_null(0))\n",
    "\n",
    "gc.collect()\n",
    "PrintColor(f\"\\n\" + GetMemUsage(), color = Fore.RED)\n",
    "\n",
    "val_ds = reduce_polars_df_memory_size(val_ds)\n",
    "PrintColor(f\"\\n\" + GetMemUsage(), color = Fore.RED)\n",
    "val_ds.head()"
   ]
  },
  {
   "cell_type": "code",
   "execution_count": 39,
   "id": "a14c0abf",
   "metadata": {
    "execution": {
     "iopub.execute_input": "2024-04-03T21:24:24.821821Z",
     "iopub.status.busy": "2024-04-03T21:24:24.821343Z",
     "iopub.status.idle": "2024-04-03T21:24:24.830496Z",
     "shell.execute_reply": "2024-04-03T21:24:24.828363Z"
    },
    "papermill": {
     "duration": 0.039282,
     "end_time": "2024-04-03T21:24:24.832983",
     "exception": false,
     "start_time": "2024-04-03T21:24:24.793701",
     "status": "completed"
    },
    "tags": []
   },
   "outputs": [
    {
     "data": {
      "text/plain": [
       "(2928942, 38)"
      ]
     },
     "execution_count": 39,
     "metadata": {},
     "output_type": "execute_result"
    }
   ],
   "source": [
    "val_ds.shape"
   ]
  },
  {
   "cell_type": "code",
   "execution_count": 40,
   "id": "660b2670",
   "metadata": {
    "execution": {
     "iopub.execute_input": "2024-04-03T21:24:24.888055Z",
     "iopub.status.busy": "2024-04-03T21:24:24.887553Z",
     "iopub.status.idle": "2024-04-03T21:46:01.568109Z",
     "shell.execute_reply": "2024-04-03T21:46:01.566930Z"
    },
    "papermill": {
     "duration": 1296.711107,
     "end_time": "2024-04-03T21:46:01.570194",
     "exception": false,
     "start_time": "2024-04-03T21:24:24.859087",
     "status": "completed"
    },
    "tags": []
   },
   "outputs": [
    {
     "name": "stderr",
     "output_type": "stream",
     "text": [
      "293it [21:35,  4.42s/it]\n"
     ]
    },
    {
     "name": "stdout",
     "output_type": "stream",
     "text": [
      "Memory usage of dataframe is 612.07 MB\n",
      "Memory usage after optimization is: 536.65 MB\n",
      "Decreased by 12.3%\n",
      "\u001b[1m\u001b[31m\n",
      "RAM memory GB usage = 4.941\u001b[0m\n"
     ]
    },
    {
     "data": {
      "text/html": [
       "<div><style>\n",
       ".dataframe > thead > tr,\n",
       ".dataframe > tbody > tr {\n",
       "  text-align: right;\n",
       "  white-space: pre-wrap;\n",
       "}\n",
       "</style>\n",
       "<small>shape: (5, 70)</small><table border=\"1\" class=\"dataframe\"><thead><tr><th>impression_id</th><th>article</th><th>target</th><th>device_type</th><th>read_time</th><th>scroll_percentage</th><th>user_id</th><th>is_sso_user</th><th>gender</th><th>age</th><th>is_subscriber</th><th>trendiness_publications_score</th><th>weekday</th><th>hour</th><th>premium</th><th>category</th><th>sentiment_score</th><th>sentiment_label</th><th>num_images</th><th>title_len</th><th>subtitle_len</th><th>body_len</th><th>article_delay_days</th><th>article_delay_hours</th><th>Entity_EVENT_Present</th><th>Entity_PROD_Present</th><th>Entity_PER_Present</th><th>Entity_LOC_Present</th><th>Entity_ORG_Present</th><th>Entity_MISC_Present</th><th>last_session_nclicks</th><th>last_session_duration</th><th>mean_prev_sessions_duration</th><th>last_session_time_hour_diff</th><th>is_new_article</th><th>is_already_seen_article</th><th>is_last_session_most_seen_category</th><th>yesterday_category_daily_pct</th><th>MeanCommonEntities</th><th>MaxCommonEntities</th><th>mean_JS</th><th>min_JS</th><th>max_JS</th><th>std_JS</th><th>NumArticlesHistory</th><th>MedianReadTime</th><th>MaxReadTime</th><th>TotalReadTime</th><th>MedianScrollPercentage</th><th>MaxScrollPercentage</th><th>NeutralPct</th><th>PositivePct</th><th>NegativePct</th><th>PctStrongNeutral</th><th>PctStrongPositive</th><th>PctStrongNegative</th><th>PctNotDefaultArticles</th><th>MostFrequentCategory</th><th>MostFrequentWeekday</th><th>MostFrequentHour</th><th>EVENTPct</th><th>PRODPct</th><th>PERPct</th><th>LOCPct</th><th>ORGPct</th><th>MISCPct</th><th>topics_cosine</th><th>IsFavouriteCategory</th><th>NumberDifferentCategories</th><th>PctCategoryMatches</th></tr><tr><td>u32</td><td>i32</td><td>i8</td><td>i8</td><td>f32</td><td>f32</td><td>u32</td><td>bool</td><td>i8</td><td>i8</td><td>bool</td><td>i16</td><td>i8</td><td>i8</td><td>bool</td><td>i16</td><td>f32</td><td>str</td><td>u32</td><td>u8</td><td>u8</td><td>u16</td><td>i16</td><td>i32</td><td>bool</td><td>bool</td><td>bool</td><td>bool</td><td>bool</td><td>bool</td><td>u32</td><td>i8</td><td>f32</td><td>i16</td><td>bool</td><td>bool</td><td>bool</td><td>f32</td><td>f32</td><td>u32</td><td>f32</td><td>f32</td><td>f32</td><td>f32</td><td>u16</td><td>f32</td><td>f32</td><td>f32</td><td>f32</td><td>f32</td><td>f32</td><td>f32</td><td>f32</td><td>f32</td><td>f32</td><td>f32</td><td>f32</td><td>i16</td><td>i8</td><td>i8</td><td>f32</td><td>f32</td><td>f32</td><td>f32</td><td>f32</td><td>f32</td><td>f32</td><td>bool</td><td>u8</td><td>f32</td></tr></thead><tbody><tr><td>96798</td><td>9783405</td><td>0</td><td>2</td><td>46.0</td><td>null</td><td>22548</td><td>false</td><td>2</td><td>null</td><td>false</td><td>250</td><td>7</td><td>4</td><td>true</td><td>565</td><td>0.8513</td><td>&quot;Neutral&quot;</td><td>1</td><td>6</td><td>35</td><td>310</td><td>0</td><td>8</td><td>false</td><td>true</td><td>true</td><td>false</td><td>false</td><td>false</td><td>5</td><td>11</td><td>3.0</td><td>0</td><td>true</td><td>false</td><td>false</td><td>0.008929</td><td>1.138462</td><td>2</td><td>0.095768</td><td>0.0</td><td>0.833333</td><td>0.158607</td><td>130</td><td>16.0</td><td>650.0</td><td>4581.0</td><td>37.0</td><td>100.0</td><td>0.253846</td><td>0.153846</td><td>0.592308</td><td>0.115385</td><td>0.092308</td><td>0.507692</td><td>0.046154</td><td>118</td><td>1</td><td>9</td><td>0.238462</td><td>0.3</td><td>0.838462</td><td>0.738462</td><td>0.930769</td><td>0.184615</td><td>0.294572</td><td>false</td><td>7</td><td>0.946154</td></tr><tr><td>96798</td><td>9784444</td><td>0</td><td>2</td><td>46.0</td><td>null</td><td>22548</td><td>false</td><td>2</td><td>null</td><td>false</td><td>124</td><td>7</td><td>4</td><td>false</td><td>118</td><td>0.5828</td><td>&quot;Negative&quot;</td><td>1</td><td>4</td><td>21</td><td>247</td><td>0</td><td>11</td><td>false</td><td>false</td><td>true</td><td>true</td><td>true</td><td>true</td><td>5</td><td>11</td><td>3.0</td><td>0</td><td>true</td><td>false</td><td>false</td><td>0.276786</td><td>2.692308</td><td>4</td><td>0.067924</td><td>0.0</td><td>1.0</td><td>0.180335</td><td>130</td><td>16.0</td><td>650.0</td><td>4581.0</td><td>37.0</td><td>100.0</td><td>0.253846</td><td>0.153846</td><td>0.592308</td><td>0.115385</td><td>0.092308</td><td>0.507692</td><td>0.046154</td><td>118</td><td>1</td><td>9</td><td>0.238462</td><td>0.3</td><td>0.838462</td><td>0.738462</td><td>0.930769</td><td>0.184615</td><td>0.24379</td><td>true</td><td>7</td><td>0.953846</td></tr><tr><td>96801</td><td>9781785</td><td>0</td><td>2</td><td>14.0</td><td>null</td><td>22548</td><td>false</td><td>2</td><td>null</td><td>false</td><td>511</td><td>7</td><td>4</td><td>false</td><td>142</td><td>0.9793</td><td>&quot;Positive&quot;</td><td>2</td><td>8</td><td>23</td><td>292</td><td>2</td><td>55</td><td>true</td><td>false</td><td>true</td><td>true</td><td>true</td><td>false</td><td>5</td><td>11</td><td>3.0</td><td>0</td><td>true</td><td>true</td><td>true</td><td>0.357143</td><td>2.746154</td><td>4</td><td>0.188312</td><td>0.0</td><td>1.0</td><td>0.272036</td><td>130</td><td>16.0</td><td>650.0</td><td>4581.0</td><td>37.0</td><td>100.0</td><td>0.253846</td><td>0.153846</td><td>0.592308</td><td>0.115385</td><td>0.092308</td><td>0.507692</td><td>0.046154</td><td>118</td><td>1</td><td>9</td><td>0.238462</td><td>0.3</td><td>0.838462</td><td>0.738462</td><td>0.930769</td><td>0.184615</td><td>0.589555</td><td>false</td><td>7</td><td>0.953846</td></tr><tr><td>96810</td><td>9782108</td><td>0</td><td>2</td><td>23.0</td><td>null</td><td>22548</td><td>false</td><td>2</td><td>null</td><td>false</td><td>389</td><td>7</td><td>4</td><td>false</td><td>142</td><td>0.9807</td><td>&quot;Negative&quot;</td><td>1</td><td>5</td><td>19</td><td>190</td><td>1</td><td>43</td><td>true</td><td>false</td><td>true</td><td>true</td><td>true</td><td>false</td><td>1</td><td>0</td><td>3.5</td><td>12</td><td>true</td><td>false</td><td>true</td><td>0.357143</td><td>2.746154</td><td>4</td><td>0.159201</td><td>0.0</td><td>1.0</td><td>0.288552</td><td>130</td><td>16.0</td><td>650.0</td><td>4581.0</td><td>37.0</td><td>100.0</td><td>0.253846</td><td>0.153846</td><td>0.592308</td><td>0.115385</td><td>0.092308</td><td>0.507692</td><td>0.046154</td><td>118</td><td>1</td><td>9</td><td>0.238462</td><td>0.3</td><td>0.838462</td><td>0.738462</td><td>0.930769</td><td>0.184615</td><td>0.52031</td><td>false</td><td>7</td><td>0.953846</td></tr><tr><td>96818</td><td>9784702</td><td>0</td><td>2</td><td>6.0</td><td>null</td><td>22548</td><td>false</td><td>2</td><td>null</td><td>false</td><td>389</td><td>7</td><td>4</td><td>false</td><td>142</td><td>0.7025</td><td>&quot;Positive&quot;</td><td>1</td><td>7</td><td>19</td><td>208</td><td>0</td><td>7</td><td>true</td><td>false</td><td>true</td><td>true</td><td>true</td><td>false</td><td>1</td><td>0</td><td>3.5</td><td>12</td><td>false</td><td>false</td><td>true</td><td>0.357143</td><td>2.746154</td><td>4</td><td>0.159201</td><td>0.0</td><td>1.0</td><td>0.288552</td><td>130</td><td>16.0</td><td>650.0</td><td>4581.0</td><td>37.0</td><td>100.0</td><td>0.253846</td><td>0.153846</td><td>0.592308</td><td>0.115385</td><td>0.092308</td><td>0.507692</td><td>0.046154</td><td>118</td><td>1</td><td>9</td><td>0.238462</td><td>0.3</td><td>0.838462</td><td>0.738462</td><td>0.930769</td><td>0.184615</td><td>0.52031</td><td>false</td><td>7</td><td>0.953846</td></tr></tbody></table></div>"
      ],
      "text/plain": [
       "shape: (5, 70)\n",
       "┌────────────┬─────────┬────────┬────────────┬───┬────────────┬────────────┬───────────┬───────────┐\n",
       "│ impression ┆ article ┆ target ┆ device_typ ┆ … ┆ topics_cos ┆ IsFavourit ┆ NumberDif ┆ PctCatego │\n",
       "│ _id        ┆ ---     ┆ ---    ┆ e          ┆   ┆ ine        ┆ eCategory  ┆ ferentCat ┆ ryMatches │\n",
       "│ ---        ┆ i32     ┆ i8     ┆ ---        ┆   ┆ ---        ┆ ---        ┆ egories   ┆ ---       │\n",
       "│ u32        ┆         ┆        ┆ i8         ┆   ┆ f32        ┆ bool       ┆ ---       ┆ f32       │\n",
       "│            ┆         ┆        ┆            ┆   ┆            ┆            ┆ u8        ┆           │\n",
       "╞════════════╪═════════╪════════╪════════════╪═══╪════════════╪════════════╪═══════════╪═══════════╡\n",
       "│ 96798      ┆ 9783405 ┆ 0      ┆ 2          ┆ … ┆ 0.294572   ┆ false      ┆ 7         ┆ 0.946154  │\n",
       "│ 96798      ┆ 9784444 ┆ 0      ┆ 2          ┆ … ┆ 0.24379    ┆ true       ┆ 7         ┆ 0.953846  │\n",
       "│ 96801      ┆ 9781785 ┆ 0      ┆ 2          ┆ … ┆ 0.589555   ┆ false      ┆ 7         ┆ 0.953846  │\n",
       "│ 96810      ┆ 9782108 ┆ 0      ┆ 2          ┆ … ┆ 0.52031    ┆ false      ┆ 7         ┆ 0.953846  │\n",
       "│ 96818      ┆ 9784702 ┆ 0      ┆ 2          ┆ … ┆ 0.52031    ┆ false      ┆ 7         ┆ 0.953846  │\n",
       "└────────────┴─────────┴────────┴────────────┴───┴────────────┴────────────┴───────────┴───────────┘"
      ]
     },
     "execution_count": 40,
     "metadata": {},
     "output_type": "execute_result"
    }
   ],
   "source": [
    "prev_columns = [c for c in val_ds.columns if c not in ['impression_id', 'article']]\n",
    "\n",
    "val_ds = pl.concat(\n",
    "    rows.join(history_val.select(['user_id', 'article_id_fixed']), on='user_id', how='left') \\\n",
    "        .join(articles.select(['article_id', 'topics', 'entity_groups', 'topics_idf']), left_on='article', right_on='article_id', how='left') \\\n",
    "        .explode(['article_id_fixed']) \\\n",
    "        .join(articles.select(['article_id', 'topics', 'entity_groups']), left_on='article_id_fixed', right_on='article_id', how='left') \\\n",
    "        .rename({'topics_right': 'topics_history', 'entity_groups_right': 'entity_groups_history'}) \\\n",
    "        .with_columns(\n",
    "            (pl.col(\"topics\").list.set_intersection(pl.col(\"topics_history\")).list.len().truediv(\n",
    "                pl.col(\"topics\").list.set_union(pl.col(\"topics_history\")).list.len()\n",
    "            )).alias(\"JS\"),\n",
    "            pl.col('entity_groups').list.set_intersection(pl.col('entity_groups_history')).list.len().alias('common_entities'),\n",
    "        ).drop(['entity_groups_history', 'entity_groups', 'topics', 'topics_history']) \\\n",
    "        .group_by(['impression_id', 'article']).agg(\n",
    "            pl.col(prev_columns).first(),\n",
    "            pl.col('topics_idf').first(),\n",
    "            pl.col('common_entities').mean().alias('MeanCommonEntities'),\n",
    "            pl.col('common_entities').max().alias('MaxCommonEntities'),\n",
    "            pl.col(\"JS\").mean().alias(\"mean_JS\"),\n",
    "            pl.col(\"JS\").min().alias(\"min_JS\"),\n",
    "            pl.col(\"JS\").max().alias(\"max_JS\"),\n",
    "            pl.col(\"JS\").std().alias(\"std_JS\"),\n",
    "        ).join(history_val.drop(['article_id_fixed']), on='user_id', how='left') \\\n",
    "        .with_columns(\n",
    "            pl.struct(['topics_idf', 'topics_flatten_tf_idf']).map_elements(\n",
    "                lambda x: cosine_similarity(x['topics_idf'], x['topics_flatten_tf_idf']), return_dtype=pl.Float64\n",
    "            ).cast(pl.Float32).alias('topics_cosine'),\n",
    "            (pl.col('category') == pl.col('MostFrequentCategory')).alias('IsFavouriteCategory'),\n",
    "            pl.col('category_right').list.n_unique().alias('NumberDifferentCategories'),\n",
    "            list_pct_matches_with_col('category_right', 'category').alias('PctCategoryMatches'),\n",
    "        ).drop(['topics_idf', 'topics_flatten', 'topics_flatten_tf_idf', 'category_right'])\n",
    "    for rows in tqdm.tqdm(val_ds.iter_slices(10000), total=val_ds.shape[0] // 10000)\n",
    ")\n",
    "\n",
    "val_ds = reduce_polars_df_memory_size(val_ds)\n",
    "PrintColor(f\"\\n\" + GetMemUsage(), color = Fore.RED)\n",
    "val_ds.head()"
   ]
  },
  {
   "cell_type": "code",
   "execution_count": 41,
   "id": "5c3ea23a",
   "metadata": {
    "execution": {
     "iopub.execute_input": "2024-04-03T21:46:01.658615Z",
     "iopub.status.busy": "2024-04-03T21:46:01.657534Z",
     "iopub.status.idle": "2024-04-03T21:46:01.800972Z",
     "shell.execute_reply": "2024-04-03T21:46:01.799452Z"
    },
    "papermill": {
     "duration": 0.189563,
     "end_time": "2024-04-03T21:46:01.803458",
     "exception": false,
     "start_time": "2024-04-03T21:46:01.613895",
     "status": "completed"
    },
    "tags": []
   },
   "outputs": [
    {
     "data": {
      "text/plain": [
       "0"
      ]
     },
     "execution_count": 41,
     "metadata": {},
     "output_type": "execute_result"
    }
   ],
   "source": [
    "del history_val\n",
    "del articles\n",
    "del behaviors_val\n",
    "\n",
    "gc.collect()"
   ]
  },
  {
   "cell_type": "code",
   "execution_count": 42,
   "id": "6f580ccc",
   "metadata": {
    "execution": {
     "iopub.execute_input": "2024-04-03T21:46:01.890922Z",
     "iopub.status.busy": "2024-04-03T21:46:01.890525Z",
     "iopub.status.idle": "2024-04-03T21:46:01.897529Z",
     "shell.execute_reply": "2024-04-03T21:46:01.896592Z"
    },
    "papermill": {
     "duration": 0.053111,
     "end_time": "2024-04-03T21:46:01.899456",
     "exception": false,
     "start_time": "2024-04-03T21:46:01.846345",
     "status": "completed"
    },
    "tags": []
   },
   "outputs": [
    {
     "data": {
      "text/plain": [
       "(2928942, 70)"
      ]
     },
     "execution_count": 42,
     "metadata": {},
     "output_type": "execute_result"
    }
   ],
   "source": [
    "val_ds.shape"
   ]
  },
  {
   "cell_type": "code",
   "execution_count": 43,
   "id": "17a28cf1",
   "metadata": {
    "execution": {
     "iopub.execute_input": "2024-04-03T21:46:01.987508Z",
     "iopub.status.busy": "2024-04-03T21:46:01.987171Z",
     "iopub.status.idle": "2024-04-03T21:46:05.486884Z",
     "shell.execute_reply": "2024-04-03T21:46:05.486019Z"
    },
    "papermill": {
     "duration": 3.545674,
     "end_time": "2024-04-03T21:46:05.488647",
     "exception": false,
     "start_time": "2024-04-03T21:46:01.942973",
     "status": "completed"
    },
    "tags": []
   },
   "outputs": [
    {
     "data": {
      "text/html": [
       "<div><style>\n",
       ".dataframe > thead > tr,\n",
       ".dataframe > tbody > tr {\n",
       "  text-align: right;\n",
       "  white-space: pre-wrap;\n",
       "}\n",
       "</style>\n",
       "<small>shape: (2_928_942, 3)</small><table border=\"1\" class=\"dataframe\"><thead><tr><th>impression_id</th><th>target</th><th>prediction</th></tr><tr><td>u32</td><td>i8</td><td>f64</td></tr></thead><tbody><tr><td>96798</td><td>0</td><td>0.188266</td></tr><tr><td>96798</td><td>0</td><td>0.495427</td></tr><tr><td>96801</td><td>0</td><td>0.092108</td></tr><tr><td>96810</td><td>0</td><td>0.189357</td></tr><tr><td>96818</td><td>0</td><td>0.620009</td></tr><tr><td>&hellip;</td><td>&hellip;</td><td>&hellip;</td></tr><tr><td>579250183</td><td>0</td><td>0.053085</td></tr><tr><td>579250699</td><td>0</td><td>0.146555</td></tr><tr><td>579251519</td><td>0</td><td>0.247246</td></tr><tr><td>579253363</td><td>0</td><td>0.669554</td></tr><tr><td>579253363</td><td>0</td><td>0.245473</td></tr></tbody></table></div>"
      ],
      "text/plain": [
       "shape: (2_928_942, 3)\n",
       "┌───────────────┬────────┬────────────┐\n",
       "│ impression_id ┆ target ┆ prediction │\n",
       "│ ---           ┆ ---    ┆ ---        │\n",
       "│ u32           ┆ i8     ┆ f64        │\n",
       "╞═══════════════╪════════╪════════════╡\n",
       "│ 96798         ┆ 0      ┆ 0.188266   │\n",
       "│ 96798         ┆ 0      ┆ 0.495427   │\n",
       "│ 96801         ┆ 0      ┆ 0.092108   │\n",
       "│ 96810         ┆ 0      ┆ 0.189357   │\n",
       "│ 96818         ┆ 0      ┆ 0.620009   │\n",
       "│ …             ┆ …      ┆ …          │\n",
       "│ 579250183     ┆ 0      ┆ 0.053085   │\n",
       "│ 579250699     ┆ 0      ┆ 0.146555   │\n",
       "│ 579251519     ┆ 0      ┆ 0.247246   │\n",
       "│ 579253363     ┆ 0      ┆ 0.669554   │\n",
       "│ 579253363     ┆ 0      ┆ 0.245473   │\n",
       "└───────────────┴────────┴────────────┘"
      ]
     },
     "execution_count": 43,
     "metadata": {},
     "output_type": "execute_result"
    }
   ],
   "source": [
    "# impression_id will be later useful for evaluation\n",
    "val_ds_pandas = val_ds.drop(['impression_id', 'article', 'user_id']).to_pandas()\n",
    "\n",
    "val_ds_pandas[categorical_columns] = val_ds_pandas[categorical_columns].astype('category')\n",
    "\n",
    "X_val = val_ds_pandas.drop(columns=['target'])\n",
    "y_val = val_ds_pandas['target']\n",
    "\n",
    "# doing model.predict_proba(...)[:, 1] to take only the probability of class 1\n",
    "# while by doing [:, 0] we take the probability of class 0\n",
    "val_ds = val_ds.with_columns(pl.Series(model.predict_proba(X_val)[:, 1]).alias('prediction'))\n",
    "val_ds.select(['impression_id', 'target', 'prediction'])"
   ]
  },
  {
   "cell_type": "code",
   "execution_count": 44,
   "id": "3f4a26fe",
   "metadata": {
    "execution": {
     "iopub.execute_input": "2024-04-03T21:46:05.577710Z",
     "iopub.status.busy": "2024-04-03T21:46:05.577366Z",
     "iopub.status.idle": "2024-04-03T21:46:05.781972Z",
     "shell.execute_reply": "2024-04-03T21:46:05.780901Z"
    },
    "papermill": {
     "duration": 0.251558,
     "end_time": "2024-04-03T21:46:05.783967",
     "exception": false,
     "start_time": "2024-04-03T21:46:05.532409",
     "status": "completed"
    },
    "tags": []
   },
   "outputs": [
    {
     "data": {
      "text/html": [
       "<div><style>\n",
       ".dataframe > thead > tr,\n",
       ".dataframe > tbody > tr {\n",
       "  text-align: right;\n",
       "  white-space: pre-wrap;\n",
       "}\n",
       "</style>\n",
       "<small>shape: (244_647, 3)</small><table border=\"1\" class=\"dataframe\"><thead><tr><th>impression_id</th><th>target</th><th>prediction</th></tr><tr><td>u32</td><td>list[i8]</td><td>list[f64]</td></tr></thead><tbody><tr><td>527138489</td><td>[0, 0, … 0]</td><td>[0.400086, 0.474293, … 0.341274]</td></tr><tr><td>82531373</td><td>[0, 0, … 1]</td><td>[0.753734, 0.49087, … 0.307237]</td></tr><tr><td>240469716</td><td>[0, 0, … 0]</td><td>[0.027933, 0.003529, … 0.003043]</td></tr><tr><td>330550618</td><td>[0, 0, … 0]</td><td>[0.657945, 0.252435, … 0.164302]</td></tr><tr><td>557792086</td><td>[0, 1, … 0]</td><td>[0.040443, 0.62349, … 0.028108]</td></tr><tr><td>&hellip;</td><td>&hellip;</td><td>&hellip;</td></tr><tr><td>502636781</td><td>[1, 0, … 0]</td><td>[0.477657, 0.014227, … 0.007647]</td></tr><tr><td>54857036</td><td>[0, 0, … 0]</td><td>[0.255663, 0.035424, … 0.402124]</td></tr><tr><td>340393416</td><td>[0, 0, … 0]</td><td>[0.552632, 0.40017, … 0.09836]</td></tr><tr><td>337574229</td><td>[0, 0, … 0]</td><td>[0.501917, 0.476319, … 0.055946]</td></tr><tr><td>257931798</td><td>[0, 0, … 0]</td><td>[0.207338, 0.200527, … 0.066767]</td></tr></tbody></table></div>"
      ],
      "text/plain": [
       "shape: (244_647, 3)\n",
       "┌───────────────┬─────────────┬──────────────────────────────────┐\n",
       "│ impression_id ┆ target      ┆ prediction                       │\n",
       "│ ---           ┆ ---         ┆ ---                              │\n",
       "│ u32           ┆ list[i8]    ┆ list[f64]                        │\n",
       "╞═══════════════╪═════════════╪══════════════════════════════════╡\n",
       "│ 527138489     ┆ [0, 0, … 0] ┆ [0.400086, 0.474293, … 0.341274] │\n",
       "│ 82531373      ┆ [0, 0, … 1] ┆ [0.753734, 0.49087, … 0.307237]  │\n",
       "│ 240469716     ┆ [0, 0, … 0] ┆ [0.027933, 0.003529, … 0.003043] │\n",
       "│ 330550618     ┆ [0, 0, … 0] ┆ [0.657945, 0.252435, … 0.164302] │\n",
       "│ 557792086     ┆ [0, 1, … 0] ┆ [0.040443, 0.62349, … 0.028108]  │\n",
       "│ …             ┆ …           ┆ …                                │\n",
       "│ 502636781     ┆ [1, 0, … 0] ┆ [0.477657, 0.014227, … 0.007647] │\n",
       "│ 54857036      ┆ [0, 0, … 0] ┆ [0.255663, 0.035424, … 0.402124] │\n",
       "│ 340393416     ┆ [0, 0, … 0] ┆ [0.552632, 0.40017, … 0.09836]   │\n",
       "│ 337574229     ┆ [0, 0, … 0] ┆ [0.501917, 0.476319, … 0.055946] │\n",
       "│ 257931798     ┆ [0, 0, … 0] ┆ [0.207338, 0.200527, … 0.066767] │\n",
       "└───────────────┴─────────────┴──────────────────────────────────┘"
      ]
     },
     "execution_count": 44,
     "metadata": {},
     "output_type": "execute_result"
    }
   ],
   "source": [
    "evaluation_ds = val_ds.group_by('impression_id').agg(pl.col('target'), pl.col('prediction'))\n",
    "evaluation_ds"
   ]
  },
  {
   "cell_type": "code",
   "execution_count": 45,
   "id": "8ad249ae",
   "metadata": {
    "execution": {
     "iopub.execute_input": "2024-04-03T21:46:05.873219Z",
     "iopub.status.busy": "2024-04-03T21:46:05.872888Z",
     "iopub.status.idle": "2024-04-03T21:50:22.205264Z",
     "shell.execute_reply": "2024-04-03T21:50:22.204199Z"
    },
    "papermill": {
     "duration": 256.423094,
     "end_time": "2024-04-03T21:50:22.250636",
     "exception": false,
     "start_time": "2024-04-03T21:46:05.827542",
     "status": "completed"
    },
    "tags": []
   },
   "outputs": [
    {
     "name": "stdout",
     "output_type": "stream",
     "text": [
      "CPU times: user 4min 16s, sys: 262 ms, total: 4min 16s\n",
      "Wall time: 4min 16s\n"
     ]
    },
    {
     "data": {
      "text/plain": [
       "<MetricEvaluator class>: \n",
       " {\n",
       "    \"auc\": 0.7188048212180166,\n",
       "    \"mrr\": 0.4929288381662725,\n",
       "    \"ndcg@5\": 0.5509065411390673,\n",
       "    \"ndcg@10\": 0.5958557275874775\n",
       "}"
      ]
     },
     "execution_count": 45,
     "metadata": {},
     "output_type": "execute_result"
    }
   ],
   "source": [
    "%%time\n",
    "\n",
    "met_eval = MetricEvaluator(\n",
    "    labels=evaluation_ds['target'].to_list(),\n",
    "    predictions=evaluation_ds['prediction'].to_list(),\n",
    "    metric_functions=[\n",
    "        AucScore(),\n",
    "        MrrScore(),\n",
    "        NdcgScore(k=5),\n",
    "        NdcgScore(k=10),\n",
    "    ],\n",
    ")\n",
    "met_eval.evaluate()"
   ]
  }
 ],
 "metadata": {
  "kaggle": {
   "accelerator": "none",
   "dataSources": [
    {
     "datasetId": 4622414,
     "sourceId": 7914006,
     "sourceType": "datasetVersion"
    }
   ],
   "dockerImageVersionId": 30673,
   "isGpuEnabled": false,
   "isInternetEnabled": true,
   "language": "python",
   "sourceType": "notebook"
  },
  "kernelspec": {
   "display_name": "Python 3",
   "language": "python",
   "name": "python3"
  },
  "language_info": {
   "codemirror_mode": {
    "name": "ipython",
    "version": 3
   },
   "file_extension": ".py",
   "mimetype": "text/x-python",
   "name": "python",
   "nbconvert_exporter": "python",
   "pygments_lexer": "ipython3",
   "version": "3.10.13"
  },
  "papermill": {
   "default_parameters": {},
   "duration": 2376.019276,
   "end_time": "2024-04-03T21:50:24.125838",
   "environment_variables": {},
   "exception": null,
   "input_path": "__notebook__.ipynb",
   "output_path": "__notebook__.ipynb",
   "parameters": {},
   "start_time": "2024-04-03T21:10:48.106562",
   "version": "2.5.0"
  },
  "widgets": {
   "application/vnd.jupyter.widget-state+json": {
    "state": {
     "46d8ab1d46cf4d14978f4d2b493c2a92": {
      "model_module": "@jupyter-widgets/output",
      "model_module_version": "1.0.0",
      "model_name": "OutputModel",
      "state": {
       "_dom_classes": [],
       "_model_module": "@jupyter-widgets/output",
       "_model_module_version": "1.0.0",
       "_model_name": "OutputModel",
       "_view_count": null,
       "_view_module": "@jupyter-widgets/output",
       "_view_module_version": "1.0.0",
       "_view_name": "OutputView",
       "layout": "IPY_MODEL_a84e66ae938f4771bae7e21f71ee9c55",
       "msg_id": "",
       "outputs": [
        {
         "data": {
          "text/html": "<pre style=\"white-space:pre;overflow-x:auto;line-height:normal;font-family:Menlo,'DejaVu Sans Mono',consolas,'Courier New',monospace\">Getting category               <span style=\"color: #729c1f; text-decoration-color: #729c1f\">━━━━━━━━━━━━━━━━━━━━━━━━━━━━━━━━━━━━━━━━</span> <span style=\"color: #800080; text-decoration-color: #800080\">100%</span> <span style=\"color: #008080; text-decoration-color: #008080\">0:00:00</span>\nGetting article_type           <span style=\"color: #729c1f; text-decoration-color: #729c1f\">━━━━━━━━━━━━━━━━━━━━━━━━━━━━━━━━━━━━━━━━</span> <span style=\"color: #800080; text-decoration-color: #800080\">100%</span> <span style=\"color: #008080; text-decoration-color: #008080\">0:00:00</span>\nGetting sentiment_label        <span style=\"color: #729c1f; text-decoration-color: #729c1f\">━━━━━━━━━━━━━━━━━━━━━━━━━━━━━━━━━━━━━━━━</span> <span style=\"color: #800080; text-decoration-color: #800080\">100%</span> <span style=\"color: #008080; text-decoration-color: #008080\">0:00:00</span>\nGetting sentiment_score        <span style=\"color: #729c1f; text-decoration-color: #729c1f\">━━━━━━━━━━━━━━━━━━━━━━━━━━━━━━━━━━━━━━━━</span> <span style=\"color: #800080; text-decoration-color: #800080\">100%</span> <span style=\"color: #008080; text-decoration-color: #008080\">0:00:00</span>\nGetting entity_groups          <span style=\"color: #729c1f; text-decoration-color: #729c1f\">━━━━━━━━━━━━━━━━━━━━━━━━━━━━━━━━━━━━━━━━</span> <span style=\"color: #800080; text-decoration-color: #800080\">100%</span> <span style=\"color: #008080; text-decoration-color: #008080\">0:00:00</span>\nGetting detailed entity_groups <span style=\"color: #729c1f; text-decoration-color: #729c1f\">━━━━━━━━━━━━━━━━━━━━━━━━━━━━━━━━━━━━━━━━</span> <span style=\"color: #800080; text-decoration-color: #800080\">100%</span> <span style=\"color: #008080; text-decoration-color: #008080\">0:00:00</span>\nGetting topics                 <span style=\"color: #729c1f; text-decoration-color: #729c1f\">━━━━━━━━━━━━━━━━━━━━━━━━━━━━━━━━━━━━━━━━</span> <span style=\"color: #800080; text-decoration-color: #800080\">100%</span> <span style=\"color: #008080; text-decoration-color: #008080\">0:00:00</span>\n</pre>\n",
          "text/plain": "Getting category               \u001b[38;2;114;156;31m━━━━━━━━━━━━━━━━━━━━━━━━━━━━━━━━━━━━━━━━\u001b[0m \u001b[35m100%\u001b[0m \u001b[36m0:00:00\u001b[0m\nGetting article_type           \u001b[38;2;114;156;31m━━━━━━━━━━━━━━━━━━━━━━━━━━━━━━━━━━━━━━━━\u001b[0m \u001b[35m100%\u001b[0m \u001b[36m0:00:00\u001b[0m\nGetting sentiment_label        \u001b[38;2;114;156;31m━━━━━━━━━━━━━━━━━━━━━━━━━━━━━━━━━━━━━━━━\u001b[0m \u001b[35m100%\u001b[0m \u001b[36m0:00:00\u001b[0m\nGetting sentiment_score        \u001b[38;2;114;156;31m━━━━━━━━━━━━━━━━━━━━━━━━━━━━━━━━━━━━━━━━\u001b[0m \u001b[35m100%\u001b[0m \u001b[36m0:00:00\u001b[0m\nGetting entity_groups          \u001b[38;2;114;156;31m━━━━━━━━━━━━━━━━━━━━━━━━━━━━━━━━━━━━━━━━\u001b[0m \u001b[35m100%\u001b[0m \u001b[36m0:00:00\u001b[0m\nGetting detailed entity_groups \u001b[38;2;114;156;31m━━━━━━━━━━━━━━━━━━━━━━━━━━━━━━━━━━━━━━━━\u001b[0m \u001b[35m100%\u001b[0m \u001b[36m0:00:00\u001b[0m\nGetting topics                 \u001b[38;2;114;156;31m━━━━━━━━━━━━━━━━━━━━━━━━━━━━━━━━━━━━━━━━\u001b[0m \u001b[35m100%\u001b[0m \u001b[36m0:00:00\u001b[0m\n"
         },
         "metadata": {},
         "output_type": "display_data"
        }
       ]
      }
     },
     "71bf4046e9af422296671aab9819dece": {
      "model_module": "@jupyter-widgets/base",
      "model_module_version": "1.2.0",
      "model_name": "LayoutModel",
      "state": {
       "_model_module": "@jupyter-widgets/base",
       "_model_module_version": "1.2.0",
       "_model_name": "LayoutModel",
       "_view_count": null,
       "_view_module": "@jupyter-widgets/base",
       "_view_module_version": "1.2.0",
       "_view_name": "LayoutView",
       "align_content": null,
       "align_items": null,
       "align_self": null,
       "border": null,
       "bottom": null,
       "display": null,
       "flex": null,
       "flex_flow": null,
       "grid_area": null,
       "grid_auto_columns": null,
       "grid_auto_flow": null,
       "grid_auto_rows": null,
       "grid_column": null,
       "grid_gap": null,
       "grid_row": null,
       "grid_template_areas": null,
       "grid_template_columns": null,
       "grid_template_rows": null,
       "height": null,
       "justify_content": null,
       "justify_items": null,
       "left": null,
       "margin": null,
       "max_height": null,
       "max_width": null,
       "min_height": null,
       "min_width": null,
       "object_fit": null,
       "object_position": null,
       "order": null,
       "overflow": null,
       "overflow_x": null,
       "overflow_y": null,
       "padding": null,
       "right": null,
       "top": null,
       "visibility": null,
       "width": null
      }
     },
     "a84e66ae938f4771bae7e21f71ee9c55": {
      "model_module": "@jupyter-widgets/base",
      "model_module_version": "1.2.0",
      "model_name": "LayoutModel",
      "state": {
       "_model_module": "@jupyter-widgets/base",
       "_model_module_version": "1.2.0",
       "_model_name": "LayoutModel",
       "_view_count": null,
       "_view_module": "@jupyter-widgets/base",
       "_view_module_version": "1.2.0",
       "_view_name": "LayoutView",
       "align_content": null,
       "align_items": null,
       "align_self": null,
       "border": null,
       "bottom": null,
       "display": null,
       "flex": null,
       "flex_flow": null,
       "grid_area": null,
       "grid_auto_columns": null,
       "grid_auto_flow": null,
       "grid_auto_rows": null,
       "grid_column": null,
       "grid_gap": null,
       "grid_row": null,
       "grid_template_areas": null,
       "grid_template_columns": null,
       "grid_template_rows": null,
       "height": null,
       "justify_content": null,
       "justify_items": null,
       "left": null,
       "margin": null,
       "max_height": null,
       "max_width": null,
       "min_height": null,
       "min_width": null,
       "object_fit": null,
       "object_position": null,
       "order": null,
       "overflow": null,
       "overflow_x": null,
       "overflow_y": null,
       "padding": null,
       "right": null,
       "top": null,
       "visibility": null,
       "width": null
      }
     },
     "c655e58a35e3490888f01103be14ab47": {
      "model_module": "@jupyter-widgets/output",
      "model_module_version": "1.0.0",
      "model_name": "OutputModel",
      "state": {
       "_dom_classes": [],
       "_model_module": "@jupyter-widgets/output",
       "_model_module_version": "1.0.0",
       "_model_name": "OutputModel",
       "_view_count": null,
       "_view_module": "@jupyter-widgets/output",
       "_view_module_version": "1.0.0",
       "_view_name": "OutputView",
       "layout": "IPY_MODEL_71bf4046e9af422296671aab9819dece",
       "msg_id": "",
       "outputs": [
        {
         "data": {
          "text/html": "<pre style=\"white-space:pre;overflow-x:auto;line-height:normal;font-family:Menlo,'DejaVu Sans Mono',consolas,'Courier New',monospace\">Getting category               <span style=\"color: #729c1f; text-decoration-color: #729c1f\">━━━━━━━━━━━━━━━━━━━━━━━━━━━━━━━━━━━━━━━━</span> <span style=\"color: #800080; text-decoration-color: #800080\">100%</span> <span style=\"color: #008080; text-decoration-color: #008080\">0:00:00</span>\nGetting article_type           <span style=\"color: #729c1f; text-decoration-color: #729c1f\">━━━━━━━━━━━━━━━━━━━━━━━━━━━━━━━━━━━━━━━━</span> <span style=\"color: #800080; text-decoration-color: #800080\">100%</span> <span style=\"color: #008080; text-decoration-color: #008080\">0:00:00</span>\nGetting sentiment_label        <span style=\"color: #729c1f; text-decoration-color: #729c1f\">━━━━━━━━━━━━━━━━━━━━━━━━━━━━━━━━━━━━━━━━</span> <span style=\"color: #800080; text-decoration-color: #800080\">100%</span> <span style=\"color: #008080; text-decoration-color: #008080\">0:00:00</span>\nGetting sentiment_score        <span style=\"color: #729c1f; text-decoration-color: #729c1f\">━━━━━━━━━━━━━━━━━━━━━━━━━━━━━━━━━━━━━━━━</span> <span style=\"color: #800080; text-decoration-color: #800080\">100%</span> <span style=\"color: #008080; text-decoration-color: #008080\">0:00:00</span>\nGetting entity_groups          <span style=\"color: #729c1f; text-decoration-color: #729c1f\">━━━━━━━━━━━━━━━━━━━━━━━━━━━━━━━━━━━━━━━━</span> <span style=\"color: #800080; text-decoration-color: #800080\">100%</span> <span style=\"color: #008080; text-decoration-color: #008080\">0:00:00</span>\nGetting detailed entity_groups <span style=\"color: #729c1f; text-decoration-color: #729c1f\">━━━━━━━━━━━━━━━━━━━━━━━━━━━━━━━━━━━━━━━━</span> <span style=\"color: #800080; text-decoration-color: #800080\">100%</span> <span style=\"color: #008080; text-decoration-color: #008080\">0:00:00</span>\nGetting topics                 <span style=\"color: #729c1f; text-decoration-color: #729c1f\">━━━━━━━━━━━━━━━━━━━━━━━━━━━━━━━━━━━━━━━━</span> <span style=\"color: #800080; text-decoration-color: #800080\">100%</span> <span style=\"color: #008080; text-decoration-color: #008080\">0:00:00</span>\n</pre>\n",
          "text/plain": "Getting category               \u001b[38;2;114;156;31m━━━━━━━━━━━━━━━━━━━━━━━━━━━━━━━━━━━━━━━━\u001b[0m \u001b[35m100%\u001b[0m \u001b[36m0:00:00\u001b[0m\nGetting article_type           \u001b[38;2;114;156;31m━━━━━━━━━━━━━━━━━━━━━━━━━━━━━━━━━━━━━━━━\u001b[0m \u001b[35m100%\u001b[0m \u001b[36m0:00:00\u001b[0m\nGetting sentiment_label        \u001b[38;2;114;156;31m━━━━━━━━━━━━━━━━━━━━━━━━━━━━━━━━━━━━━━━━\u001b[0m \u001b[35m100%\u001b[0m \u001b[36m0:00:00\u001b[0m\nGetting sentiment_score        \u001b[38;2;114;156;31m━━━━━━━━━━━━━━━━━━━━━━━━━━━━━━━━━━━━━━━━\u001b[0m \u001b[35m100%\u001b[0m \u001b[36m0:00:00\u001b[0m\nGetting entity_groups          \u001b[38;2;114;156;31m━━━━━━━━━━━━━━━━━━━━━━━━━━━━━━━━━━━━━━━━\u001b[0m \u001b[35m100%\u001b[0m \u001b[36m0:00:00\u001b[0m\nGetting detailed entity_groups \u001b[38;2;114;156;31m━━━━━━━━━━━━━━━━━━━━━━━━━━━━━━━━━━━━━━━━\u001b[0m \u001b[35m100%\u001b[0m \u001b[36m0:00:00\u001b[0m\nGetting topics                 \u001b[38;2;114;156;31m━━━━━━━━━━━━━━━━━━━━━━━━━━━━━━━━━━━━━━━━\u001b[0m \u001b[35m100%\u001b[0m \u001b[36m0:00:00\u001b[0m\n"
         },
         "metadata": {},
         "output_type": "display_data"
        }
       ]
      }
     }
    },
    "version_major": 2,
    "version_minor": 0
   }
  }
 },
 "nbformat": 4,
 "nbformat_minor": 5
}
