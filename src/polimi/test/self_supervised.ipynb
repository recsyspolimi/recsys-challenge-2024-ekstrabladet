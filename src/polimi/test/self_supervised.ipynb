{
 "cells": [
  {
   "cell_type": "code",
   "execution_count": 154,
   "metadata": {},
   "outputs": [],
   "source": [
    "import polars as pl\n",
    "from polars import testing\n",
    "import numpy as np\n",
    "from matplotlib import pyplot as plt\n",
    "\n",
    "evaluation_ds = pl.read_parquet('/home/ubuntu/experiments/test_batch_training/predictions.parquet')\n",
    "test_ds = pl.read_parquet('/home/ubuntu/experiments/preprocessing_validation_small_new/validation_ds.parquet')"
   ]
  },
  {
   "cell_type": "code",
   "execution_count": 155,
   "metadata": {},
   "outputs": [],
   "source": [
    "evaluation_ds = evaluation_ds.with_columns(\n",
    "            pl.col('prediction') / pl.col('prediction').sum().over('impression_id')\n",
    "        )\n",
    "     "
   ]
  },
  {
   "cell_type": "code",
   "execution_count": 156,
   "metadata": {},
   "outputs": [],
   "source": [
    "\n",
    "evaluation_ds = evaluation_ds.with_columns(\n",
    "            (pl.col('prediction')-pl.col('prediction').min().over('impression_id')) / \n",
    "             (pl.col('prediction').max().over('impression_id')-pl.col('prediction').min().over('impression_id'))\n",
    "        )\n",
    "     "
   ]
  },
  {
   "cell_type": "code",
   "execution_count": 113,
   "metadata": {},
   "outputs": [],
   "source": [
    "test_ds = test_ds.drop('target')"
   ]
  },
  {
   "cell_type": "code",
   "execution_count": 116,
   "metadata": {},
   "outputs": [
    {
     "data": {
      "image/png": "[encoded data removed]",
      "text/plain": [
       "<Figure size 640x480 with 1 Axes>"
      ]
     },
     "metadata": {},
     "output_type": "display_data"
    }
   ],
   "source": [
    "plt.hist(evaluation_ds.select('prediction').to_numpy())\n",
    "plt.show()\n",
    "statistics = evaluation_ds.select('prediction').describe(percentiles=  (0.05, 0.10, 0.15, 0.20, 0.25, 0.50, 0.75, 0.90, 0.95, 0.99))\n",
    "positive_val =  statistics.filter(pl.col('statistic') == \"99%\").select('prediction').item()\n",
    "negative_val =  statistics.filter(pl.col('statistic') == \"10%\").select('prediction').item()"
   ]
  },
  {
   "cell_type": "code",
   "execution_count": 120,
   "metadata": {},
   "outputs": [
    {
     "name": "stdout",
     "output_type": "stream",
     "text": [
      "shape: (16, 2)\n",
      "┌────────────┬────────────┐\n",
      "│ statistic  ┆ prediction │\n",
      "│ ---        ┆ ---        │\n",
      "│ str        ┆ f64        │\n",
      "╞════════════╪════════════╡\n",
      "│ count      ┆ 2.928942e6 │\n",
      "│ null_count ┆ 0.0        │\n",
      "│ mean       ┆ 0.083527   │\n",
      "│ std        ┆ 0.127522   │\n",
      "│ min        ┆ 0.000003   │\n",
      "│ …          ┆ …          │\n",
      "│ 75%        ┆ 0.105591   │\n",
      "│ 90%        ┆ 0.257045   │\n",
      "│ 95%        ┆ 0.364793   │\n",
      "│ 99%        ┆ 0.569261   │\n",
      "│ max        ┆ 0.998082   │\n",
      "└────────────┴────────────┘\n",
      "0.8\n",
      "5183\n",
      "0.001629342885049528\n",
      "73380\n"
     ]
    }
   ],
   "source": [
    "POSITIVE_THRESHOLD = positive_val\n",
    "NEGATIVE_THRESHOLD = negative_val\n",
    "POSITIVE_THRESHOLD = 0.80\n",
    "# NEGATIVE_THRESHOLD = 0.05\n",
    "print(statistics)\n",
    "print(POSITIVE_THRESHOLD)\n",
    "print(evaluation_ds.filter(pl.col('prediction') > POSITIVE_THRESHOLD).unique('impression_id').shape[0])\n",
    "print(NEGATIVE_THRESHOLD)\n",
    "print(evaluation_ds.filter(pl.col('prediction') < NEGATIVE_THRESHOLD).unique('impression_id').shape[0])"
   ]
  },
  {
   "cell_type": "code",
   "execution_count": 158,
   "metadata": {},
   "outputs": [
    {
     "data": {
      "image/png": "[encoded data removed]",
      "text/plain": [
       "<Figure size 640x480 with 1 Axes>"
      ]
     },
     "metadata": {},
     "output_type": "display_data"
    },
    {
     "data": {
      "text/html": [
       "<div><style>\n",
       ".dataframe > thead > tr,\n",
       ".dataframe > tbody > tr {\n",
       "  text-align: right;\n",
       "  white-space: pre-wrap;\n",
       "}\n",
       "</style>\n",
       "<small>shape: (12, 2)</small><table border=\"1\" class=\"dataframe\"><thead><tr><th>statistic</th><th>head_diff</th></tr><tr><td>str</td><td>f64</td></tr></thead><tbody><tr><td>&quot;count&quot;</td><td>244647.0</td></tr><tr><td>&quot;null_count&quot;</td><td>0.0</td></tr><tr><td>&quot;mean&quot;</td><td>0.394458</td></tr><tr><td>&quot;std&quot;</td><td>0.245319</td></tr><tr><td>&quot;min&quot;</td><td>1.1523e-7</td></tr><tr><td>&hellip;</td><td>&hellip;</td></tr><tr><td>&quot;75%&quot;</td><td>0.578109</td></tr><tr><td>&quot;90%&quot;</td><td>0.73882</td></tr><tr><td>&quot;95%&quot;</td><td>0.820656</td></tr><tr><td>&quot;98%&quot;</td><td>0.911046</td></tr><tr><td>&quot;max&quot;</td><td>0.999732</td></tr></tbody></table></div>"
      ],
      "text/plain": [
       "shape: (12, 2)\n",
       "┌────────────┬───────────┐\n",
       "│ statistic  ┆ head_diff │\n",
       "│ ---        ┆ ---       │\n",
       "│ str        ┆ f64       │\n",
       "╞════════════╪═══════════╡\n",
       "│ count      ┆ 244647.0  │\n",
       "│ null_count ┆ 0.0       │\n",
       "│ mean       ┆ 0.394458  │\n",
       "│ std        ┆ 0.245319  │\n",
       "│ min        ┆ 1.1523e-7 │\n",
       "│ …          ┆ …         │\n",
       "│ 75%        ┆ 0.578109  │\n",
       "│ 90%        ┆ 0.73882   │\n",
       "│ 95%        ┆ 0.820656  │\n",
       "│ 98%        ┆ 0.911046  │\n",
       "│ max        ┆ 0.999732  │\n",
       "└────────────┴───────────┘"
      ]
     },
     "execution_count": 158,
     "metadata": {},
     "output_type": "execute_result"
    }
   ],
   "source": [
    "NPRATIO = 2\n",
    "head_diff = evaluation_ds.sort('prediction')\\\n",
    "        .group_by('impression_id').agg(pl.col('article'),pl.col('prediction'))\\\n",
    "            .with_columns(\n",
    "                pl.col('prediction').list.len().alias('impression_len')\n",
    "            ) \\\n",
    "            .filter(pl.col('impression_len')>= NPRATIO + 1)\\\n",
    "            .with_columns(\n",
    "                pl.col('prediction').list.last().alias('highest_pos'),\n",
    "                pl.col('prediction').list.gather(-2).list.last().alias('second_positive'),\n",
    "            )\\\n",
    "            .with_columns(\n",
    "                (pl.col('highest_pos') - pl.col('second_positive')).alias('head_diff')\n",
    "            ).select('head_diff')\n",
    "plt.hist(head_diff.to_numpy(), bins=100)\n",
    "plt.show()\n",
    "head_diff.describe(percentiles=(0.25, 0.50, 0.75, 0.90, 0.95, 0.98))"
   ]
  },
  {
   "cell_type": "code",
   "execution_count": 159,
   "metadata": {},
   "outputs": [],
   "source": [
    "NPRATIO = 2\n",
    "DIFF_THRESHOLD = 0.90\n",
    "selected_index = evaluation_ds.sort('prediction')\\\n",
    "        .group_by('impression_id').agg(pl.col('article'),pl.col('prediction'))\\\n",
    "            .with_columns(\n",
    "                pl.col('prediction').list.len().alias('impression_len')\n",
    "            ) \\\n",
    "            .filter(pl.col('impression_len')>= NPRATIO + 1)\\\n",
    "            .with_columns(\n",
    "                pl.col('prediction').list.last().alias('highest_pos'),\n",
    "                pl.col('article').list.last().alias('positive_element'),\n",
    "                pl.col('prediction').list.gather(-2).list.last().alias('second_positive'),\n",
    "                pl.col('prediction').list.head(NPRATIO).alias('highest_negatives'),\n",
    "                pl.col('article').list.head(NPRATIO).alias('negative_element')\n",
    "            )\\\n",
    "            .with_columns(\n",
    "                  pl.col('highest_negatives').list.to_struct().struct.rename_fields([f'negative_score_{i}' for i in range(NPRATIO)]),\n",
    "                  pl.col('negative_element').list.to_struct().struct.rename_fields([f'negative_{i}' for i in range(NPRATIO)]),\n",
    "            )\\\n",
    "            .unnest('highest_negatives','negative_element')\\\n",
    "            .filter((pl.col('highest_pos') - pl.col('second_positive')) > DIFF_THRESHOLD) \\\n",
    "            .select(['impression_id', 'positive_element'] + [f'negative_{i}' for i in range(NPRATIO)])  \n",
    "            # .filter(\n",
    "            #     pl.all_horizontal(\n",
    "            #         *[pl.col(f'negative_score_{i}') < NEGATIVE_THRESHOLD for i in range(NPRATIO)]\n",
    "            #     )\n",
    "            # ).select(['impression_id', 'positive_element'] + [f'negative_{i}' for i in range(NPRATIO)])   \n",
    "self_ds_positive = selected_index.select(['impression_id', 'positive_element'])\\\n",
    "    .rename({'positive_element' :'article'})\\\n",
    "    .join(test_ds, on = ['impression_id','article'], how = 'left').with_columns(target = pl.Series([1]))\n",
    "    \n",
    "self_ds_negative = selected_index.select(['impression_id'] + [f'negative_{i}' for i in range(NPRATIO)])\\\n",
    "    .with_columns(\n",
    "        pl.concat_list([pl.col(f'negative_{i}') for i in range(NPRATIO)]).alias('article')\n",
    "    )\\\n",
    "    .select(['impression_id', 'article'])\\\n",
    "    .explode('article')\\\n",
    "    .join(test_ds, on = ['impression_id','article'], how = 'left').with_columns(target = pl.Series([0]))"
   ]
  },
  {
   "cell_type": "code",
   "execution_count": 160,
   "metadata": {},
   "outputs": [
    {
     "name": "stdout",
     "output_type": "stream",
     "text": [
      "16452\n",
      "% of new elements : 0.0056170453358243356\n"
     ]
    }
   ],
   "source": [
    "self_ds = self_ds_positive.vstack(self_ds_negative)\n",
    "self_ds_len = self_ds.shape[0]\n",
    "test_ds_len = test_ds.shape[0]\n",
    "\n",
    "assert self_ds.filter(pl.col('target') == 1).shape[0] == ((self_ds_len)/(NPRATIO + 1))\n",
    "assert self_ds.filter(pl.col('target') == 0).shape[0] == ((self_ds_len * NPRATIO)/(NPRATIO + 1))\n",
    "print(self_ds_len)\n",
    "print(f'% of new elements : {self_ds_len/test_ds_len}')"
   ]
  },
  {
   "cell_type": "code",
   "execution_count": 161,
   "metadata": {},
   "outputs": [
    {
     "data": {
      "text/html": [
       "<div><style>\n",
       ".dataframe > thead > tr,\n",
       ".dataframe > tbody > tr {\n",
       "  text-align: right;\n",
       "  white-space: pre-wrap;\n",
       "}\n",
       "</style>\n",
       "<small>shape: (16_452, 294)</small><table border=\"1\" class=\"dataframe\"><thead><tr><th>impression_id</th><th>article</th><th>user_id</th><th>device_type</th><th>read_time</th><th>scroll_percentage</th><th>is_sso_user</th><th>gender</th><th>age</th><th>is_subscriber</th><th>target</th><th>trendiness_score_3d</th><th>weekday</th><th>hour</th><th>premium</th><th>category</th><th>sentiment_score</th><th>sentiment_label</th><th>num_images</th><th>title_len</th><th>subtitle_len</th><th>body_len</th><th>num_topics</th><th>article_delay_days</th><th>article_delay_hours</th><th>Entity_PROD_Present</th><th>Entity_ORG_Present</th><th>Entity_PER_Present</th><th>Entity_MISC_Present</th><th>Entity_LOC_Present</th><th>Entity_EVENT_Present</th><th>last_session_duration</th><th>mean_prev_sessions_duration</th><th>last_session_time_hour_diff</th><th>is_new_article</th><th>is_already_seen_article</th><th>yesterday_category_daily_pct</th><th>&hellip;</th><th>kurtosis_impression_std_JS</th><th>kurtosis_impression_total_read_time</th><th>kurtosis_impression_endorsement_10h_leak</th><th>kurtosis_impression_trendiness_score_3d_leak</th><th>kurtosis_impression_clicked_count</th><th>kurtosis_impression_inview_count</th><th>category_diversity_impression</th><th>sentiment_label_diversity_impression</th><th>article_type_diversity_impression</th><th>article_delay_hours_rank_impression</th><th>std_JS_rank_impression</th><th>mean_topics_mean_delay_hours_rank_impression</th><th>trendiness_score_3d_rank_impression</th><th>trendiness_score_5d_rank_impression</th><th>endorsement_10h_rank_impression</th><th>total_pageviews/inviews_rank_impression</th><th>mean_JS_rank_impression</th><th>mean_topic_model_cosine_rank_impression</th><th>topics_cosine_rank_impression</th><th>total_pageviews_rank_impression</th><th>total_read_time_rank_impression</th><th>total_inviews_rank_impression</th><th>trendiness_score_category_rank_impression</th><th>endorsement_10h_leak_rank_impression</th><th>trendiness_score_3d_leak_rank_impression</th><th>clicked_count_rank_impression</th><th>inview_count_rank_impression</th><th>mean_JS_l_inf_user</th><th>std_JS_l_inf_user</th><th>mean_topic_model_cosine_l_inf_user</th><th>topics_cosine_l_inf_user</th><th>article_delay_hours_l_inf_article</th><th>mean_JS_l_inf_article</th><th>std_JS_l_inf_article</th><th>mean_topic_model_cosine_l_inf_article</th><th>topics_cosine_l_inf_article</th><th>endorsement_20h_articleuser_l_inf_articleuser</th></tr><tr><td>u32</td><td>i32</td><td>u32</td><td>i8</td><td>f32</td><td>f32</td><td>bool</td><td>i8</td><td>i8</td><td>bool</td><td>i64</td><td>i16</td><td>i8</td><td>i8</td><td>bool</td><td>i16</td><td>f32</td><td>str</td><td>u32</td><td>u8</td><td>u8</td><td>u16</td><td>u32</td><td>i16</td><td>i32</td><td>bool</td><td>bool</td><td>bool</td><td>bool</td><td>bool</td><td>bool</td><td>i8</td><td>f32</td><td>i16</td><td>bool</td><td>bool</td><td>f32</td><td>&hellip;</td><td>f32</td><td>f32</td><td>f32</td><td>f32</td><td>f32</td><td>f32</td><td>u8</td><td>u8</td><td>u8</td><td>u8</td><td>u8</td><td>u32</td><td>u8</td><td>u8</td><td>u8</td><td>u32</td><td>u8</td><td>u8</td><td>u8</td><td>u32</td><td>u32</td><td>u32</td><td>u8</td><td>u8</td><td>u8</td><td>u32</td><td>u8</td><td>f32</td><td>f32</td><td>f32</td><td>f32</td><td>f32</td><td>f32</td><td>f32</td><td>f32</td><td>f32</td><td>f32</td></tr></thead><tbody><tr><td>118604006</td><td>9784702</td><td>1430967</td><td>3</td><td>4.0</td><td>null</td><td>false</td><td>2</td><td>null</td><td>false</td><td>1</td><td>338</td><td>7</td><td>7</td><td>false</td><td>142</td><td>0.7025</td><td>&quot;Positive&quot;</td><td>1</td><td>7</td><td>19</td><td>208</td><td>4</td><td>0</td><td>10</td><td>false</td><td>true</td><td>true</td><td>false</td><td>true</td><td>true</td><td>8</td><td>8.833333</td><td>-11</td><td>true</td><td>false</td><td>0.357143</td><td>&hellip;</td><td>-1.741625</td><td>NaN</td><td>-0.877432</td><td>-0.231015</td><td>-1.5</td><td>-0.24068</td><td>4</td><td>3</td><td>2</td><td>1</td><td>5</td><td>1</td><td>1</td><td>1</td><td>1</td><td>1</td><td>3</td><td>1</td><td>4</td><td>1</td><td>1</td><td>1</td><td>1</td><td>2</td><td>1</td><td>null</td><td>1</td><td>0.529759</td><td>0.733097</td><td>1.0</td><td>0.689979</td><td>0.097087</td><td>0.104917</td><td>0.348533</td><td>0.924335</td><td>0.689979</td><td>1.0</td></tr><tr><td>154978027</td><td>9788862</td><td>1477508</td><td>1</td><td>6.0</td><td>null</td><td>false</td><td>2</td><td>null</td><td>false</td><td>1</td><td>105</td><td>2</td><td>20</td><td>false</td><td>457</td><td>0.9525</td><td>&quot;Negative&quot;</td><td>3</td><td>6</td><td>20</td><td>360</td><td>4</td><td>0</td><td>1</td><td>true</td><td>true</td><td>true</td><td>false</td><td>true</td><td>false</td><td>4</td><td>4.0</td><td>62</td><td>false</td><td>false</td><td>0.027778</td><td>&hellip;</td><td>-0.438611</td><td>NaN</td><td>-1.699915</td><td>-0.464687</td><td>-0.668656</td><td>-0.867655</td><td>4</td><td>2</td><td>2</td><td>1</td><td>3</td><td>1</td><td>2</td><td>2</td><td>2</td><td>1</td><td>3</td><td>5</td><td>3</td><td>1</td><td>1</td><td>1</td><td>5</td><td>1</td><td>2</td><td>null</td><td>3</td><td>0.399174</td><td>0.472553</td><td>0.895637</td><td>0.816308</td><td>0.027778</td><td>0.288924</td><td>0.598984</td><td>0.838859</td><td>0.81064</td><td>0.5</td></tr><tr><td>54989871</td><td>9788898</td><td>310588</td><td>1</td><td>6.0</td><td>null</td><td>false</td><td>2</td><td>null</td><td>false</td><td>1</td><td>364</td><td>2</td><td>22</td><td>false</td><td>142</td><td>0.7004</td><td>&quot;Neutral&quot;</td><td>3</td><td>5</td><td>13</td><td>221</td><td>5</td><td>0</td><td>5</td><td>false</td><td>true</td><td>true</td><td>false</td><td>true</td><td>false</td><td>0</td><td>16.0</td><td>168</td><td>false</td><td>false</td><td>0.37037</td><td>&hellip;</td><td>-0.779978</td><td>-1.361185</td><td>1.94864</td><td>0.391814</td><td>0.249941</td><td>1.858509</td><td>5</td><td>3</td><td>1</td><td>1</td><td>9</td><td>4</td><td>1</td><td>1</td><td>2</td><td>7</td><td>6</td><td>8</td><td>10</td><td>7</td><td>7</td><td>7</td><td>1</td><td>4</td><td>1</td><td>null</td><td>7</td><td>0.55641</td><td>0.506648</td><td>0.876796</td><td>0.621273</td><td>0.135135</td><td>0.234691</td><td>0.443813</td><td>0.831962</td><td>0.632423</td><td>1.0</td></tr><tr><td>370222260</td><td>9787230</td><td>111950</td><td>1</td><td>3.0</td><td>null</td><td>false</td><td>2</td><td>null</td><td>false</td><td>1</td><td>49</td><td>2</td><td>6</td><td>false</td><td>118</td><td>0.9553</td><td>&quot;Negative&quot;</td><td>1</td><td>12</td><td>17</td><td>286</td><td>3</td><td>0</td><td>6</td><td>false</td><td>true</td><td>true</td><td>false</td><td>true</td><td>false</td><td>0</td><td>12.0</td><td>-46</td><td>true</td><td>false</td><td>0.268519</td><td>&hellip;</td><td>-1.313606</td><td>NaN</td><td>-1.396475</td><td>-1.562199</td><td>-0.67699</td><td>-0.24311</td><td>3</td><td>3</td><td>1</td><td>1</td><td>3</td><td>2</td><td>4</td><td>4</td><td>1</td><td>1</td><td>5</td><td>5</td><td>1</td><td>1</td><td>1</td><td>1</td><td>3</td><td>3</td><td>4</td><td>null</td><td>4</td><td>0.20711</td><td>0.500974</td><td>0.800322</td><td>0.89873</td><td>0.111111</td><td>0.123086</td><td>0.393351</td><td>0.758934</td><td>0.89873</td><td>0.5</td></tr><tr><td>90061216</td><td>9781535</td><td>1506246</td><td>1</td><td>5.0</td><td>null</td><td>false</td><td>2</td><td>null</td><td>false</td><td>1</td><td>171</td><td>5</td><td>6</td><td>false</td><td>414</td><td>0.92</td><td>&quot;Positive&quot;</td><td>1</td><td>7</td><td>16</td><td>284</td><td>4</td><td>0</td><td>9</td><td>true</td><td>true</td><td>true</td><td>false</td><td>true</td><td>true</td><td>0</td><td>1.0625</td><td>-132</td><td>true</td><td>false</td><td>0.089431</td><td>&hellip;</td><td>-1.001827</td><td>-0.324607</td><td>0.274989</td><td>-0.441439</td><td>-1.598373</td><td>0.544074</td><td>4</td><td>3</td><td>1</td><td>1</td><td>8</td><td>5</td><td>7</td><td>7</td><td>1</td><td>2</td><td>6</td><td>6</td><td>5</td><td>2</td><td>2</td><td>3</td><td>4</td><td>1</td><td>7</td><td>null</td><td>3</td><td>0.612482</td><td>0.694041</td><td>0.847425</td><td>0.71306</td><td>0.0703125</td><td>0.217586</td><td>0.40871</td><td>0.854006</td><td>0.71306</td><td>1.0</td></tr><tr><td>&hellip;</td><td>&hellip;</td><td>&hellip;</td><td>&hellip;</td><td>&hellip;</td><td>&hellip;</td><td>&hellip;</td><td>&hellip;</td><td>&hellip;</td><td>&hellip;</td><td>&hellip;</td><td>&hellip;</td><td>&hellip;</td><td>&hellip;</td><td>&hellip;</td><td>&hellip;</td><td>&hellip;</td><td>&hellip;</td><td>&hellip;</td><td>&hellip;</td><td>&hellip;</td><td>&hellip;</td><td>&hellip;</td><td>&hellip;</td><td>&hellip;</td><td>&hellip;</td><td>&hellip;</td><td>&hellip;</td><td>&hellip;</td><td>&hellip;</td><td>&hellip;</td><td>&hellip;</td><td>&hellip;</td><td>&hellip;</td><td>&hellip;</td><td>&hellip;</td><td>&hellip;</td><td>&hellip;</td><td>&hellip;</td><td>&hellip;</td><td>&hellip;</td><td>&hellip;</td><td>&hellip;</td><td>&hellip;</td><td>&hellip;</td><td>&hellip;</td><td>&hellip;</td><td>&hellip;</td><td>&hellip;</td><td>&hellip;</td><td>&hellip;</td><td>&hellip;</td><td>&hellip;</td><td>&hellip;</td><td>&hellip;</td><td>&hellip;</td><td>&hellip;</td><td>&hellip;</td><td>&hellip;</td><td>&hellip;</td><td>&hellip;</td><td>&hellip;</td><td>&hellip;</td><td>&hellip;</td><td>&hellip;</td><td>&hellip;</td><td>&hellip;</td><td>&hellip;</td><td>&hellip;</td><td>&hellip;</td><td>&hellip;</td><td>&hellip;</td><td>&hellip;</td><td>&hellip;</td><td>&hellip;</td></tr><tr><td>122607432</td><td>9778277</td><td>1389619</td><td>1</td><td>3.0</td><td>100.0</td><td>true</td><td>0</td><td>null</td><td>false</td><td>0</td><td>34</td><td>7</td><td>7</td><td>false</td><td>118</td><td>0.9301</td><td>&quot;Negative&quot;</td><td>0</td><td>3</td><td>10</td><td>68</td><td>2</td><td>4</td><td>108</td><td>false</td><td>true</td><td>false</td><td>false</td><td>true</td><td>false</td><td>1</td><td>0.555556</td><td>-68</td><td>true</td><td>false</td><td>0.276786</td><td>&hellip;</td><td>-1.306596</td><td>-0.367846</td><td>0.189869</td><td>-0.099526</td><td>-1.5</td><td>-1.036285</td><td>2</td><td>1</td><td>1</td><td>3</td><td>1</td><td>1</td><td>5</td><td>5</td><td>5</td><td>4</td><td>5</td><td>4</td><td>1</td><td>4</td><td>4</td><td>4</td><td>1</td><td>5</td><td>5</td><td>1</td><td>4</td><td>0.254185</td><td>0.30292</td><td>0.834438</td><td>0.857944</td><td>0.571429</td><td>0.414371</td><td>0.452878</td><td>0.906677</td><td>0.857944</td><td>1.0</td></tr><tr><td>367813659</td><td>9020938</td><td>1218038</td><td>1</td><td>4.0</td><td>null</td><td>false</td><td>2</td><td>null</td><td>false</td><td>0</td><td>65</td><td>5</td><td>10</td><td>true</td><td>457</td><td>0.8937</td><td>&quot;Neutral&quot;</td><td>1</td><td>7</td><td>33</td><td>590</td><td>4</td><td>507</td><td>12172</td><td>false</td><td>true</td><td>true</td><td>false</td><td>false</td><td>false</td><td>0</td><td>0.428571</td><td>13</td><td>true</td><td>false</td><td>0.0</td><td>&hellip;</td><td>-0.442979</td><td>NaN</td><td>-1.385682</td><td>-1.524688</td><td>-1.064614</td><td>-1.54621</td><td>4</td><td>2</td><td>1</td><td>5</td><td>1</td><td>4</td><td>4</td><td>4</td><td>5</td><td>null</td><td>4</td><td>1</td><td>2</td><td>null</td><td>null</td><td>null</td><td>4</td><td>4</td><td>4</td><td>4</td><td>5</td><td>0.096935</td><td>0.179772</td><td>0.957776</td><td>0.939759</td><td>0.98879</td><td>0.237339</td><td>0.341088</td><td>0.913314</td><td>0.939759</td><td>1.0</td></tr><tr><td>367813659</td><td>9277736</td><td>1218038</td><td>1</td><td>4.0</td><td>null</td><td>false</td><td>2</td><td>null</td><td>false</td><td>0</td><td>319</td><td>5</td><td>10</td><td>true</td><td>414</td><td>0.7325</td><td>&quot;Neutral&quot;</td><td>6</td><td>4</td><td>29</td><td>892</td><td>8</td><td>359</td><td>8636</td><td>false</td><td>false</td><td>false</td><td>false</td><td>false</td><td>false</td><td>0</td><td>0.428571</td><td>13</td><td>true</td><td>false</td><td>0.089431</td><td>&hellip;</td><td>-0.442979</td><td>NaN</td><td>-1.385682</td><td>-1.524688</td><td>-1.064614</td><td>-1.54621</td><td>4</td><td>2</td><td>1</td><td>2</td><td>3</td><td>2</td><td>2</td><td>2</td><td>4</td><td>null</td><td>2</td><td>2</td><td>4</td><td>null</td><td>null</td><td>null</td><td>2</td><td>5</td><td>2</td><td>2</td><td>1</td><td>0.338342</td><td>0.297053</td><td>0.931402</td><td>0.823624</td><td>0.987762</td><td>0.26365</td><td>0.413558</td><td>0.901335</td><td>0.850841</td><td>1.0</td></tr><tr><td>8397240</td><td>9784281</td><td>1854152</td><td>1</td><td>6.0</td><td>null</td><td>false</td><td>2</td><td>null</td><td>false</td><td>0</td><td>299</td><td>4</td><td>5</td><td>false</td><td>142</td><td>0.691</td><td>&quot;Negative&quot;</td><td>1</td><td>9</td><td>16</td><td>253</td><td>4</td><td>4</td><td>109</td><td>false</td><td>true</td><td>true</td><td>false</td><td>true</td><td>true</td><td>0</td><td>10.666667</td><td>144</td><td>false</td><td>false</td><td>0.294964</td><td>&hellip;</td><td>-0.604798</td><td>-0.949728</td><td>-1.348541</td><td>-1.473559</td><td>-1.359235</td><td>1.335464</td><td>4</td><td>2</td><td>1</td><td>8</td><td>5</td><td>2</td><td>3</td><td>3</td><td>13</td><td>8</td><td>9</td><td>7</td><td>11</td><td>8</td><td>8</td><td>8</td><td>1</td><td>12</td><td>3</td><td>null</td><td>10</td><td>0.539018</td><td>0.5358</td><td>0.90649</td><td>0.634853</td><td>0.990909</td><td>0.213418</td><td>0.322204</td><td>0.836372</td><td>0.634853</td><td>0.4</td></tr><tr><td>8397240</td><td>9788666</td><td>1854152</td><td>1</td><td>6.0</td><td>null</td><td>false</td><td>2</td><td>null</td><td>false</td><td>0</td><td>112</td><td>4</td><td>5</td><td>false</td><td>140</td><td>0.997</td><td>&quot;Negative&quot;</td><td>0</td><td>10</td><td>16</td><td>212</td><td>4</td><td>1</td><td>39</td><td>false</td><td>true</td><td>false</td><td>false</td><td>false</td><td>false</td><td>0</td><td>10.666667</td><td>144</td><td>false</td><td>false</td><td>0.179856</td><td>&hellip;</td><td>-0.604798</td><td>-0.949728</td><td>-1.348541</td><td>-1.473559</td><td>-1.359235</td><td>1.335464</td><td>4</td><td>2</td><td>1</td><td>4</td><td>6</td><td>4</td><td>8</td><td>9</td><td>10</td><td>4</td><td>11</td><td>5</td><td>4</td><td>6</td><td>6</td><td>5</td><td>7</td><td>10</td><td>10</td><td>null</td><td>7</td><td>0.423832</td><td>0.607264</td><td>0.915704</td><td>0.778424</td><td>0.975</td><td>0.23058</td><td>0.393357</td><td>0.836821</td><td>0.778424</td><td>0.625</td></tr></tbody></table></div>"
      ],
      "text/plain": [
       "shape: (16_452, 294)\n",
       "┌────────────┬─────────┬─────────┬────────────┬───┬────────────┬───────────┬───────────┬───────────┐\n",
       "│ impression ┆ article ┆ user_id ┆ device_typ ┆ … ┆ std_JS_l_i ┆ mean_topi ┆ topics_co ┆ endorseme │\n",
       "│ _id        ┆ ---     ┆ ---     ┆ e          ┆   ┆ nf_article ┆ c_model_c ┆ sine_l_in ┆ nt_20h_ar │\n",
       "│ ---        ┆ i32     ┆ u32     ┆ ---        ┆   ┆ ---        ┆ osine_l_i ┆ f_article ┆ ticleuser │\n",
       "│ u32        ┆         ┆         ┆ i8         ┆   ┆ f32        ┆ nf_…      ┆ ---       ┆ _l_…      │\n",
       "│            ┆         ┆         ┆            ┆   ┆            ┆ ---       ┆ f32       ┆ ---       │\n",
       "│            ┆         ┆         ┆            ┆   ┆            ┆ f32       ┆           ┆ f32       │\n",
       "╞════════════╪═════════╪═════════╪════════════╪═══╪════════════╪═══════════╪═══════════╪═══════════╡\n",
       "│ 118604006  ┆ 9784702 ┆ 1430967 ┆ 3          ┆ … ┆ 0.348533   ┆ 0.924335  ┆ 0.689979  ┆ 1.0       │\n",
       "│ 154978027  ┆ 9788862 ┆ 1477508 ┆ 1          ┆ … ┆ 0.598984   ┆ 0.838859  ┆ 0.81064   ┆ 0.5       │\n",
       "│ 54989871   ┆ 9788898 ┆ 310588  ┆ 1          ┆ … ┆ 0.443813   ┆ 0.831962  ┆ 0.632423  ┆ 1.0       │\n",
       "│ 370222260  ┆ 9787230 ┆ 111950  ┆ 1          ┆ … ┆ 0.393351   ┆ 0.758934  ┆ 0.89873   ┆ 0.5       │\n",
       "│ 90061216   ┆ 9781535 ┆ 1506246 ┆ 1          ┆ … ┆ 0.40871    ┆ 0.854006  ┆ 0.71306   ┆ 1.0       │\n",
       "│ …          ┆ …       ┆ …       ┆ …          ┆ … ┆ …          ┆ …         ┆ …         ┆ …         │\n",
       "│ 122607432  ┆ 9778277 ┆ 1389619 ┆ 1          ┆ … ┆ 0.452878   ┆ 0.906677  ┆ 0.857944  ┆ 1.0       │\n",
       "│ 367813659  ┆ 9020938 ┆ 1218038 ┆ 1          ┆ … ┆ 0.341088   ┆ 0.913314  ┆ 0.939759  ┆ 1.0       │\n",
       "│ 367813659  ┆ 9277736 ┆ 1218038 ┆ 1          ┆ … ┆ 0.413558   ┆ 0.901335  ┆ 0.850841  ┆ 1.0       │\n",
       "│ 8397240    ┆ 9784281 ┆ 1854152 ┆ 1          ┆ … ┆ 0.322204   ┆ 0.836372  ┆ 0.634853  ┆ 0.4       │\n",
       "│ 8397240    ┆ 9788666 ┆ 1854152 ┆ 1          ┆ … ┆ 0.393357   ┆ 0.836821  ┆ 0.778424  ┆ 0.625     │\n",
       "└────────────┴─────────┴─────────┴────────────┴───┴────────────┴───────────┴───────────┴───────────┘"
      ]
     },
     "execution_count": 161,
     "metadata": {},
     "output_type": "execute_result"
    }
   ],
   "source": [
    "self_ds"
   ]
  },
  {
   "cell_type": "code",
   "execution_count": 162,
   "metadata": {},
   "outputs": [],
   "source": [
    "self_ds.write_parquet('/home/ubuntu/experiments/test_batch_training/self_supervised_ds.parquet')"
   ]
  }
 ],
 "metadata": {
  "kernelspec": {
   "display_name": ".venv",
   "language": "python",
   "name": "python3"
  },
  "language_info": {
   "codemirror_mode": {
    "name": "ipython",
    "version": 3
   },
   "file_extension": ".py",
   "mimetype": "text/x-python",
   "name": "python",
   "nbconvert_exporter": "python",
   "pygments_lexer": "ipython3",
   "version": "3.10.12"
  }
 },
 "nbformat": 4,
 "nbformat_minor": 2
}
