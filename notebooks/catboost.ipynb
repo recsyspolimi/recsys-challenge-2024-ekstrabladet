{
 "cells": [
  {
   "cell_type": "code",
   "execution_count": 1,
   "id": "e98d3ce4",
   "metadata": {
    "execution": {
     "iopub.execute_input": "2024-03-30T23:55:03.143609Z",
     "iopub.status.busy": "2024-03-30T23:55:03.142758Z",
     "iopub.status.idle": "2024-03-30T23:55:06.708726Z",
     "shell.execute_reply": "2024-03-30T23:55:06.707814Z"
    },
    "papermill": {
     "duration": 3.582137,
     "end_time": "2024-03-30T23:55:06.711955",
     "exception": false,
     "start_time": "2024-03-30T23:55:03.129818",
     "status": "completed"
    },
    "tags": []
   },
   "outputs": [
    {
     "name": "stdout",
     "output_type": "stream",
     "text": [
      "Cloning into 'RecSysChallenge2024'...\r\n",
      "remote: Enumerating objects: 266, done.\u001b[K\r\n",
      "remote: Counting objects: 100% (266/266), done.\u001b[K\r\n",
      "remote: Compressing objects: 100% (193/193), done.\u001b[K\r\n",
      "remote: Total 266 (delta 79), reused 220 (delta 52), pack-reused 0\u001b[K\r\n",
      "Receiving objects: 100% (266/266), 16.69 MiB | 27.83 MiB/s, done.\r\n",
      "Resolving deltas: 100% (79/79), done.\r\n",
      "Cloning into 'ebnerd-benchmark'...\r\n",
      "remote: Enumerating objects: 402, done.\u001b[K\r\n",
      "remote: Counting objects: 100% (402/402), done.\u001b[K\r\n",
      "remote: Compressing objects: 100% (269/269), done.\u001b[K\r\n",
      "remote: Total 402 (delta 186), reused 320 (delta 109), pack-reused 0\u001b[K\r\n",
      "Receiving objects: 100% (402/402), 15.22 MiB | 27.38 MiB/s, done.\r\n",
      "Resolving deltas: 100% (186/186), done.\r\n"
     ]
    }
   ],
   "source": [
    "from kaggle_secrets import UserSecretsClient\n",
    "secret_label = \"Token\"\n",
    "token = UserSecretsClient().get_secret(secret_label)\n",
    "\n",
    "! git clone --branch baseline_boosting https://{token}@github.com/FrancescoZanella/RecSysChallenge2024.git\n",
    "! git clone https://github.com/ebanalyse/ebnerd-benchmark.git"
   ]
  },
  {
   "cell_type": "code",
   "execution_count": 2,
   "id": "b2950881",
   "metadata": {
    "execution": {
     "iopub.execute_input": "2024-03-30T23:55:06.738328Z",
     "iopub.status.busy": "2024-03-30T23:55:06.737955Z",
     "iopub.status.idle": "2024-03-30T23:55:06.744325Z",
     "shell.execute_reply": "2024-03-30T23:55:06.743326Z"
    },
    "papermill": {
     "duration": 0.021825,
     "end_time": "2024-03-30T23:55:06.746315",
     "exception": false,
     "start_time": "2024-03-30T23:55:06.724490",
     "status": "completed"
    },
    "tags": []
   },
   "outputs": [
    {
     "name": "stdout",
     "output_type": "stream",
     "text": [
      "/kaggle/working/RecSysChallenge2024/src\n"
     ]
    }
   ],
   "source": [
    "%cd /kaggle/working/RecSysChallenge2024/src"
   ]
  },
  {
   "cell_type": "code",
   "execution_count": 3,
   "id": "ac24ef14",
   "metadata": {
    "_cell_guid": "b1076dfc-b9ad-4769-8c92-a6c4dae69d19",
    "_uuid": "8f2839f25d086af736a60e9eeb907d3b93b6e0e5",
    "execution": {
     "iopub.execute_input": "2024-03-30T23:55:06.773628Z",
     "iopub.status.busy": "2024-03-30T23:55:06.773043Z",
     "iopub.status.idle": "2024-03-30T23:55:14.207074Z",
     "shell.execute_reply": "2024-03-30T23:55:14.205679Z"
    },
    "papermill": {
     "duration": 7.451294,
     "end_time": "2024-03-30T23:55:14.209929",
     "exception": false,
     "start_time": "2024-03-30T23:55:06.758635",
     "status": "completed"
    },
    "tags": []
   },
   "outputs": [],
   "source": [
    "import numpy as np\n",
    "import pandas as pd\n",
    "import matplotlib.pyplot as plt\n",
    "import seaborn as sns\n",
    "from pathlib import Path\n",
    "import polars as pl\n",
    "import scipy.stats as stats\n",
    "import gc\n",
    "\n",
    "from ebrec.utils._descriptive_analysis import (\n",
    "    min_max_impression_time_behaviors, \n",
    "    min_max_impression_time_history\n",
    ")\n",
    "from ebrec.utils._polars import slice_join_dataframes\n",
    "from ebrec.utils._behaviors import (\n",
    "    create_binary_labels_column,\n",
    "    sampling_strategy_wu2019,\n",
    "    truncate_history,\n",
    ")\n",
    "from ebrec.utils._constants import (\n",
    "    DEFAULT_HISTORY_ARTICLE_ID_COL,\n",
    "    DEFAULT_CLICKED_ARTICLES_COL,\n",
    "    DEFAULT_INVIEW_ARTICLES_COL,\n",
    "    DEFAULT_USER_COL\n",
    ")\n",
    "from ebrec.evaluation.metrics_protocols import *\n",
    "from team_utils._catboost import add_features_JS_history_topics, add_trendiness_feature\n",
    "\n",
    "from catboost import CatBoostClassifier"
   ]
  },
  {
   "cell_type": "code",
   "execution_count": 4,
   "id": "a81ca801",
   "metadata": {
    "execution": {
     "iopub.execute_input": "2024-03-30T23:55:14.239613Z",
     "iopub.status.busy": "2024-03-30T23:55:14.239094Z",
     "iopub.status.idle": "2024-03-30T23:55:15.751174Z",
     "shell.execute_reply": "2024-03-30T23:55:15.750351Z"
    },
    "papermill": {
     "duration": 1.528424,
     "end_time": "2024-03-30T23:55:15.753465",
     "exception": false,
     "start_time": "2024-03-30T23:55:14.225041",
     "status": "completed"
    },
    "tags": []
   },
   "outputs": [],
   "source": [
    "articles = pl.read_parquet('/kaggle/input/recommender-systems-challenge-2024/ebnerd_small/articles.parquet')\n",
    "\n",
    "behaviors_train = pl.read_parquet('/kaggle/input/recommender-systems-challenge-2024/ebnerd_small/train/behaviors.parquet')\n",
    "history_train = pl.read_parquet('/kaggle/input/recommender-systems-challenge-2024/ebnerd_small/train/history.parquet')\n",
    "\n",
    "behaviors_val = pl.read_parquet('/kaggle/input/recommender-systems-challenge-2024/ebnerd_small/validation/behaviors.parquet')\n",
    "history_val = pl.read_parquet('/kaggle/input/recommender-systems-challenge-2024/ebnerd_small/validation/history.parquet')"
   ]
  },
  {
   "cell_type": "markdown",
   "id": "de902aff",
   "metadata": {
    "papermill": {
     "duration": 0.011229,
     "end_time": "2024-03-30T23:55:15.776476",
     "exception": false,
     "start_time": "2024-03-30T23:55:15.765247",
     "status": "completed"
    },
    "tags": []
   },
   "source": [
    "# Articles Preprocessing"
   ]
  },
  {
   "cell_type": "code",
   "execution_count": 5,
   "id": "08456583",
   "metadata": {
    "execution": {
     "iopub.execute_input": "2024-03-30T23:55:15.801593Z",
     "iopub.status.busy": "2024-03-30T23:55:15.801232Z",
     "iopub.status.idle": "2024-03-30T23:55:16.147049Z",
     "shell.execute_reply": "2024-03-30T23:55:16.146085Z"
    },
    "papermill": {
     "duration": 0.361357,
     "end_time": "2024-03-30T23:55:16.149222",
     "exception": false,
     "start_time": "2024-03-30T23:55:15.787865",
     "status": "completed"
    },
    "tags": []
   },
   "outputs": [
    {
     "data": {
      "text/html": [
       "<div><style>\n",
       ".dataframe > thead > tr,\n",
       ".dataframe > tbody > tr {\n",
       "  text-align: right;\n",
       "  white-space: pre-wrap;\n",
       "}\n",
       "</style>\n",
       "<small>shape: (2, 25)</small><table border=\"1\" class=\"dataframe\"><thead><tr><th>article_id</th><th>title</th><th>subtitle</th><th>last_modified_time</th><th>premium</th><th>body</th><th>published_time</th><th>image_ids</th><th>article_type</th><th>url</th><th>ner_clusters</th><th>entity_groups</th><th>topics</th><th>category</th><th>subcategory</th><th>category_str</th><th>total_inviews</th><th>total_pageviews</th><th>total_read_time</th><th>sentiment_score</th><th>sentiment_label</th><th>num_images</th><th>title_len</th><th>subtitle_len</th><th>body_len</th></tr><tr><td>i32</td><td>str</td><td>str</td><td>datetime[μs]</td><td>bool</td><td>str</td><td>datetime[μs]</td><td>list[i64]</td><td>str</td><td>str</td><td>list[str]</td><td>list[str]</td><td>list[str]</td><td>i16</td><td>list[i16]</td><td>str</td><td>i32</td><td>i32</td><td>f32</td><td>f32</td><td>str</td><td>u32</td><td>u32</td><td>u32</td><td>u32</td></tr></thead><tbody><tr><td>3001353</td><td>&quot;Natascha var i…</td><td>&quot;Politiet frygt…</td><td>2023-06-29 06:20:33</td><td>false</td><td>&quot;Sagen om den ø…</td><td>2006-08-31 08:06:45</td><td>[3150850]</td><td>&quot;article_defaul…</td><td>&quot;https://ekstra…</td><td>[]</td><td>[]</td><td>[&quot;Kriminalitet&quot;, &quot;Personfarlig kriminalitet&quot;]</td><td>140</td><td>[]</td><td>&quot;krimi&quot;</td><td>null</td><td>null</td><td>null</td><td>0.9955</td><td>&quot;Negative&quot;</td><td>1</td><td>5</td><td>22</td><td>200</td></tr><tr><td>3003065</td><td>&quot;Kun Star Wars …</td><td>&quot;Biografgængern…</td><td>2023-06-29 06:20:35</td><td>false</td><td>&quot;Vatikanet har …</td><td>2006-05-21 16:57:00</td><td>[3006712]</td><td>&quot;article_defaul…</td><td>&quot;https://ekstra…</td><td>[]</td><td>[]</td><td>[&quot;Underholdning&quot;, &quot;Film og tv&quot;, &quot;Økonomi&quot;]</td><td>414</td><td>[433, 434]</td><td>&quot;underholdning&quot;</td><td>null</td><td>null</td><td>null</td><td>0.846</td><td>&quot;Positive&quot;</td><td>1</td><td>5</td><td>19</td><td>116</td></tr></tbody></table></div>"
      ],
      "text/plain": [
       "shape: (2, 25)\n",
       "┌───────────┬───────────┬───────────┬───────────┬───┬───────────┬───────────┬───────────┬──────────┐\n",
       "│ article_i ┆ title     ┆ subtitle  ┆ last_modi ┆ … ┆ num_image ┆ title_len ┆ subtitle_ ┆ body_len │\n",
       "│ d         ┆ ---       ┆ ---       ┆ fied_time ┆   ┆ s         ┆ ---       ┆ len       ┆ ---      │\n",
       "│ ---       ┆ str       ┆ str       ┆ ---       ┆   ┆ ---       ┆ u32       ┆ ---       ┆ u32      │\n",
       "│ i32       ┆           ┆           ┆ datetime[ ┆   ┆ u32       ┆           ┆ u32       ┆          │\n",
       "│           ┆           ┆           ┆ μs]       ┆   ┆           ┆           ┆           ┆          │\n",
       "╞═══════════╪═══════════╪═══════════╪═══════════╪═══╪═══════════╪═══════════╪═══════════╪══════════╡\n",
       "│ 3001353   ┆ Natascha  ┆ Politiet  ┆ 2023-06-2 ┆ … ┆ 1         ┆ 5         ┆ 22        ┆ 200      │\n",
       "│           ┆ var ikke  ┆ frygter   ┆ 9         ┆   ┆           ┆           ┆           ┆          │\n",
       "│           ┆ den       ┆ nu, at    ┆ 06:20:33  ┆   ┆           ┆           ┆           ┆          │\n",
       "│           ┆ første    ┆ Natascha… ┆           ┆   ┆           ┆           ┆           ┆          │\n",
       "│ 3003065   ┆ Kun Star  ┆ Biografgæ ┆ 2023-06-2 ┆ … ┆ 1         ┆ 5         ┆ 19        ┆ 116      │\n",
       "│           ┆ Wars      ┆ ngerne    ┆ 9         ┆   ┆           ┆           ┆           ┆          │\n",
       "│           ┆ tjente    ┆ strømmer  ┆ 06:20:35  ┆   ┆           ┆           ┆           ┆          │\n",
       "│           ┆ mere      ┆ ind for…  ┆           ┆   ┆           ┆           ┆           ┆          │\n",
       "└───────────┴───────────┴───────────┴───────────┴───┴───────────┴───────────┴───────────┴──────────┘"
      ]
     },
     "execution_count": 5,
     "metadata": {},
     "output_type": "execute_result"
    }
   ],
   "source": [
    "articles = articles.with_columns(\n",
    "    pl.col('image_ids').list.len().alias('num_images'),\n",
    "    pl.col('title').str.split(by=' ').list.len().alias('title_len'),\n",
    "    pl.col('subtitle').str.split(by=' ').list.len().alias('subtitle_len'),\n",
    "    pl.col('body').str.split(by=' ').list.len().alias('body_len'),\n",
    ")\n",
    "articles.head(2)"
   ]
  },
  {
   "cell_type": "code",
   "execution_count": 6,
   "id": "203dbc31",
   "metadata": {
    "execution": {
     "iopub.execute_input": "2024-03-30T23:55:16.176073Z",
     "iopub.status.busy": "2024-03-30T23:55:16.175263Z",
     "iopub.status.idle": "2024-03-30T23:55:16.195274Z",
     "shell.execute_reply": "2024-03-30T23:55:16.194074Z"
    },
    "papermill": {
     "duration": 0.036071,
     "end_time": "2024-03-30T23:55:16.197432",
     "exception": false,
     "start_time": "2024-03-30T23:55:16.161361",
     "status": "completed"
    },
    "tags": []
   },
   "outputs": [
    {
     "data": {
      "text/plain": [
       "['PROD', 'EVENT', 'LOC', 'ORG', 'MISC', 'PER']"
      ]
     },
     "execution_count": 6,
     "metadata": {},
     "output_type": "execute_result"
    }
   ],
   "source": [
    "unique_entities = articles.select('entity_groups').explode('entity_groups')['entity_groups'].unique().to_list()\n",
    "unique_entities = [e for e in unique_entities if e is not None]\n",
    "unique_entities"
   ]
  },
  {
   "cell_type": "code",
   "execution_count": 7,
   "id": "5490fe13",
   "metadata": {
    "execution": {
     "iopub.execute_input": "2024-03-30T23:55:16.223381Z",
     "iopub.status.busy": "2024-03-30T23:55:16.223029Z",
     "iopub.status.idle": "2024-03-30T23:55:16.240000Z",
     "shell.execute_reply": "2024-03-30T23:55:16.238605Z"
    },
    "papermill": {
     "duration": 0.032904,
     "end_time": "2024-03-30T23:55:16.242589",
     "exception": false,
     "start_time": "2024-03-30T23:55:16.209685",
     "status": "completed"
    },
    "tags": []
   },
   "outputs": [
    {
     "data": {
      "text/plain": [
       "25"
      ]
     },
     "execution_count": 7,
     "metadata": {},
     "output_type": "execute_result"
    }
   ],
   "source": [
    "unique_categories = articles.select('category')['category'].unique().to_list()\n",
    "unique_categories = [c for c in unique_categories if c is not None]\n",
    "len(unique_categories)"
   ]
  },
  {
   "cell_type": "markdown",
   "id": "4c7254aa",
   "metadata": {
    "papermill": {
     "duration": 0.011547,
     "end_time": "2024-03-30T23:55:16.266957",
     "exception": false,
     "start_time": "2024-03-30T23:55:16.255410",
     "status": "completed"
    },
    "tags": []
   },
   "source": [
    "# Creating Training Dataframe"
   ]
  },
  {
   "cell_type": "code",
   "execution_count": 8,
   "id": "4e3e63e6",
   "metadata": {
    "execution": {
     "iopub.execute_input": "2024-03-30T23:55:16.292757Z",
     "iopub.status.busy": "2024-03-30T23:55:16.292373Z",
     "iopub.status.idle": "2024-03-31T00:12:21.321623Z",
     "shell.execute_reply": "2024-03-31T00:12:21.320283Z"
    },
    "papermill": {
     "duration": 1025.057238,
     "end_time": "2024-03-31T00:12:21.336056",
     "exception": false,
     "start_time": "2024-03-30T23:55:16.278818",
     "status": "completed"
    },
    "tags": []
   },
   "outputs": [
    {
     "name": "stdout",
     "output_type": "stream",
     "text": [
      "CPU times: user 12min 23s, sys: 9min 19s, total: 21min 42s\n",
      "Wall time: 17min 4s\n"
     ]
    },
    {
     "data": {
      "text/html": [
       "<div><style>\n",
       ".dataframe > thead > tr,\n",
       ".dataframe > tbody > tr {\n",
       "  text-align: right;\n",
       "  white-space: pre-wrap;\n",
       "}\n",
       "</style>\n",
       "<small>shape: (5, 34)</small><table border=\"1\" class=\"dataframe\"><thead><tr><th>impression_id</th><th>article</th><th>impression_time</th><th>target</th><th>device_type</th><th>read_time</th><th>scroll_percentage</th><th>user_id</th><th>is_sso_user</th><th>gender</th><th>age</th><th>is_subscriber</th><th>session_id</th><th>trendiness_scores</th><th>weekday</th><th>hour</th><th>premium</th><th>published_time</th><th>category</th><th>sentiment_score</th><th>sentiment_label</th><th>entity_groups</th><th>num_images</th><th>title_len</th><th>subtitle_len</th><th>body_len</th><th>article_delay_days</th><th>article_delay_hours</th><th>Entity_PROD_Present</th><th>Entity_EVENT_Present</th><th>Entity_LOC_Present</th><th>Entity_ORG_Present</th><th>Entity_MISC_Present</th><th>Entity_PER_Present</th></tr><tr><td>u32</td><td>i32</td><td>datetime[μs]</td><td>i8</td><td>i8</td><td>f32</td><td>f32</td><td>u32</td><td>bool</td><td>i8</td><td>i8</td><td>bool</td><td>u32</td><td>i64</td><td>i8</td><td>i8</td><td>bool</td><td>datetime[μs]</td><td>i16</td><td>f32</td><td>str</td><td>list[str]</td><td>u32</td><td>u32</td><td>u32</td><td>u32</td><td>i64</td><td>i64</td><td>bool</td><td>bool</td><td>bool</td><td>bool</td><td>bool</td><td>bool</td></tr></thead><tbody><tr><td>149474</td><td>9778669</td><td>2023-05-24 07:47:53</td><td>0</td><td>2</td><td>13.0</td><td>null</td><td>139836</td><td>false</td><td>null</td><td>null</td><td>false</td><td>759</td><td>90</td><td>3</td><td>7</td><td>false</td><td>2023-05-24 06:09:26</td><td>118</td><td>0.9481</td><td>&quot;Negative&quot;</td><td>[&quot;ORG&quot;, &quot;ORG&quot;, … &quot;PROD&quot;]</td><td>1</td><td>5</td><td>11</td><td>150</td><td>0</td><td>1</td><td>true</td><td>false</td><td>false</td><td>true</td><td>false</td><td>true</td></tr><tr><td>149474</td><td>9778728</td><td>2023-05-24 07:47:53</td><td>0</td><td>2</td><td>13.0</td><td>null</td><td>139836</td><td>false</td><td>null</td><td>null</td><td>false</td><td>759</td><td>335</td><td>3</td><td>7</td><td>false</td><td>2023-05-24 07:26:05</td><td>142</td><td>0.9654</td><td>&quot;Negative&quot;</td><td>[&quot;EVENT&quot;, &quot;EVENT&quot;, … &quot;EVENT&quot;]</td><td>1</td><td>5</td><td>18</td><td>251</td><td>0</td><td>0</td><td>true</td><td>true</td><td>false</td><td>true</td><td>false</td><td>true</td></tr><tr><td>150528</td><td>9778623</td><td>2023-05-24 07:33:25</td><td>1</td><td>2</td><td>25.0</td><td>null</td><td>143471</td><td>false</td><td>null</td><td>null</td><td>false</td><td>1240</td><td>165</td><td>3</td><td>7</td><td>false</td><td>2023-05-24 06:08:35</td><td>142</td><td>0.9893</td><td>&quot;Negative&quot;</td><td>[&quot;PER&quot;, &quot;LOC&quot;, … &quot;ORG&quot;]</td><td>2</td><td>7</td><td>18</td><td>445</td><td>0</td><td>1</td><td>false</td><td>false</td><td>true</td><td>true</td><td>false</td><td>true</td></tr><tr><td>150528</td><td>9778682</td><td>2023-05-24 07:33:25</td><td>0</td><td>2</td><td>25.0</td><td>null</td><td>143471</td><td>false</td><td>null</td><td>null</td><td>false</td><td>1240</td><td>140</td><td>3</td><td>7</td><td>false</td><td>2023-05-24 06:32:42</td><td>498</td><td>0.9546</td><td>&quot;Negative&quot;</td><td>[&quot;PROD&quot;, &quot;PROD&quot;, … &quot;PER&quot;]</td><td>1</td><td>5</td><td>20</td><td>267</td><td>0</td><td>1</td><td>true</td><td>true</td><td>false</td><td>true</td><td>false</td><td>true</td></tr><tr><td>153068</td><td>9778669</td><td>2023-05-24 07:09:04</td><td>1</td><td>1</td><td>78.0</td><td>100.0</td><td>151570</td><td>false</td><td>null</td><td>null</td><td>false</td><td>1976</td><td>140</td><td>3</td><td>7</td><td>false</td><td>2023-05-24 06:09:26</td><td>118</td><td>0.9481</td><td>&quot;Negative&quot;</td><td>[&quot;ORG&quot;, &quot;ORG&quot;, … &quot;PROD&quot;]</td><td>1</td><td>5</td><td>11</td><td>150</td><td>0</td><td>0</td><td>true</td><td>false</td><td>false</td><td>true</td><td>false</td><td>true</td></tr></tbody></table></div>"
      ],
      "text/plain": [
       "shape: (5, 34)\n",
       "┌────────────┬─────────┬────────────┬────────┬───┬────────────┬────────────┬───────────┬───────────┐\n",
       "│ impression ┆ article ┆ impression ┆ target ┆ … ┆ Entity_LOC ┆ Entity_ORG ┆ Entity_MI ┆ Entity_PE │\n",
       "│ _id        ┆ ---     ┆ _time      ┆ ---    ┆   ┆ _Present   ┆ _Present   ┆ SC_Presen ┆ R_Present │\n",
       "│ ---        ┆ i32     ┆ ---        ┆ i8     ┆   ┆ ---        ┆ ---        ┆ t         ┆ ---       │\n",
       "│ u32        ┆         ┆ datetime[μ ┆        ┆   ┆ bool       ┆ bool       ┆ ---       ┆ bool      │\n",
       "│            ┆         ┆ s]         ┆        ┆   ┆            ┆            ┆ bool      ┆           │\n",
       "╞════════════╪═════════╪════════════╪════════╪═══╪════════════╪════════════╪═══════════╪═══════════╡\n",
       "│ 149474     ┆ 9778669 ┆ 2023-05-24 ┆ 0      ┆ … ┆ false      ┆ true       ┆ false     ┆ true      │\n",
       "│            ┆         ┆ 07:47:53   ┆        ┆   ┆            ┆            ┆           ┆           │\n",
       "│ 149474     ┆ 9778728 ┆ 2023-05-24 ┆ 0      ┆ … ┆ false      ┆ true       ┆ false     ┆ true      │\n",
       "│            ┆         ┆ 07:47:53   ┆        ┆   ┆            ┆            ┆           ┆           │\n",
       "│ 150528     ┆ 9778623 ┆ 2023-05-24 ┆ 1      ┆ … ┆ true       ┆ true       ┆ false     ┆ true      │\n",
       "│            ┆         ┆ 07:33:25   ┆        ┆   ┆            ┆            ┆           ┆           │\n",
       "│ 150528     ┆ 9778682 ┆ 2023-05-24 ┆ 0      ┆ … ┆ false      ┆ true       ┆ false     ┆ true      │\n",
       "│            ┆         ┆ 07:33:25   ┆        ┆   ┆            ┆            ┆           ┆           │\n",
       "│ 153068     ┆ 9778669 ┆ 2023-05-24 ┆ 1      ┆ … ┆ false      ┆ true       ┆ false     ┆ true      │\n",
       "│            ┆         ┆ 07:09:04   ┆        ┆   ┆            ┆            ┆           ┆           │\n",
       "└────────────┴─────────┴────────────┴────────┴───┴────────────┴────────────┴───────────┴───────────┘"
      ]
     },
     "execution_count": 8,
     "metadata": {},
     "output_type": "execute_result"
    }
   ],
   "source": [
    "%%time\n",
    "\n",
    "NPRATIO = 2\n",
    "\n",
    "# dropping duplicates that can occur because of sampling strategy\n",
    "train_ds = behaviors_train.pipe(sampling_strategy_wu2019, npratio=NPRATIO, shuffle=False, \n",
    "                                with_replacement=True, seed=123) \\\n",
    "    .pipe(add_trendiness_feature, articles=articles, days=3) \\\n",
    "    .pipe(create_binary_labels_column, shuffle=True, seed=123) \\\n",
    "    .select(['impression_id', 'article_ids_inview', 'article_id', 'impression_time', 'labels', \n",
    "             'device_type', 'read_time', 'scroll_percentage', 'user_id', 'is_sso_user', 'gender',\n",
    "             'age', 'is_subscriber', 'session_id', 'trendiness_scores']) \\\n",
    "    .explode(['article_ids_inview', 'labels', 'trendiness_scores']) \\\n",
    "    .rename({'article_ids_inview': 'article', 'labels': 'target'}) \\\n",
    "    .unique(['impression_id', 'article']) \\\n",
    "    .with_columns(\n",
    "        pl.col('impression_time').dt.weekday().alias('weekday'),\n",
    "        pl.col('impression_time').dt.hour().alias('hour'),\n",
    "        pl.col('article').cast(pl.Int32),\n",
    "    ).join(articles.select(['article_id', 'premium', 'published_time', 'category',\n",
    "                            'sentiment_score', 'sentiment_label', 'entity_groups',\n",
    "                            'num_images', 'title_len', 'subtitle_len', 'body_len']),\n",
    "           left_on='article', right_on='article_id', how='left') \\\n",
    "    .with_columns(\n",
    "        (pl.col('impression_time') - pl.col('published_time')).dt.total_days().alias('article_delay_days'),\n",
    "        (pl.col('impression_time') - pl.col('published_time')).dt.total_hours().alias('article_delay_hours')\n",
    "    ).drop(['article_id']) \\\n",
    "    .with_columns(\n",
    "        pl.col('entity_groups').list.contains(entity).alias(f'Entity_{entity}_Present')\n",
    "        for entity in unique_entities\n",
    "    )\n",
    "\n",
    "train_ds.head()"
   ]
  },
  {
   "cell_type": "code",
   "execution_count": 9,
   "id": "7e3a94e1",
   "metadata": {
    "execution": {
     "iopub.execute_input": "2024-03-31T00:12:21.364045Z",
     "iopub.status.busy": "2024-03-31T00:12:21.363702Z",
     "iopub.status.idle": "2024-03-31T00:12:21.370223Z",
     "shell.execute_reply": "2024-03-31T00:12:21.369173Z"
    },
    "papermill": {
     "duration": 0.023508,
     "end_time": "2024-03-31T00:12:21.372793",
     "exception": false,
     "start_time": "2024-03-31T00:12:21.349285",
     "status": "completed"
    },
    "tags": []
   },
   "outputs": [
    {
     "data": {
      "text/plain": [
       "(699537, 34)"
      ]
     },
     "execution_count": 9,
     "metadata": {},
     "output_type": "execute_result"
    }
   ],
   "source": [
    "train_ds.shape"
   ]
  },
  {
   "cell_type": "markdown",
   "id": "bf31ecfb",
   "metadata": {
    "papermill": {
     "duration": 0.012319,
     "end_time": "2024-03-31T00:12:21.398791",
     "exception": false,
     "start_time": "2024-03-31T00:12:21.386472",
     "status": "completed"
    },
    "tags": []
   },
   "source": [
    "## Session Features"
   ]
  },
  {
   "cell_type": "code",
   "execution_count": 10,
   "id": "a197c20f",
   "metadata": {
    "execution": {
     "iopub.execute_input": "2024-03-31T00:12:21.425680Z",
     "iopub.status.busy": "2024-03-31T00:12:21.425305Z",
     "iopub.status.idle": "2024-03-31T00:12:21.429797Z",
     "shell.execute_reply": "2024-03-31T00:12:21.428769Z"
    },
    "papermill": {
     "duration": 0.020401,
     "end_time": "2024-03-31T00:12:21.431846",
     "exception": false,
     "start_time": "2024-03-31T00:12:21.411445",
     "status": "completed"
    },
    "tags": []
   },
   "outputs": [],
   "source": [
    "# behaviors_train.select(['session_id', 'impression_time', 'article_ids_clicked']) \\\n",
    "#     .group_by('session_id').map_groups(\n",
    "#         lambda group: group.explode('article_ids_clicked').sort('impression_time') \\\n",
    "#             .select(\n",
    "#                 pl.col('session_id').first(),\n",
    "#                 pl.col('article_ids_clicked').first().alias('article_id'),\n",
    "#                 (pl.col('impression_time').last() - pl.col('impression_time').first()).dt.total_minutes().alias('induced_session_len'),\n",
    "#                 (pl.col('impression_time').count() - 1).alias('num_clicked_articles_following')\n",
    "#             )\n",
    "#     ).group_by('article_id').agg(\n",
    "#         pl.col('num_clicked_articles_following').mean().alias('mean_num_clicked_articles_following'),\n",
    "#         pl.col('induced_session_len').mean().alias('mean_induced_session_len'),\n",
    "#     )"
   ]
  },
  {
   "cell_type": "code",
   "execution_count": 11,
   "id": "4a936e2e",
   "metadata": {
    "execution": {
     "iopub.execute_input": "2024-03-31T00:12:21.458772Z",
     "iopub.status.busy": "2024-03-31T00:12:21.458410Z",
     "iopub.status.idle": "2024-03-31T00:13:16.272626Z",
     "shell.execute_reply": "2024-03-31T00:13:16.271492Z"
    },
    "papermill": {
     "duration": 54.840843,
     "end_time": "2024-03-31T00:13:16.285047",
     "exception": false,
     "start_time": "2024-03-31T00:12:21.444204",
     "status": "completed"
    },
    "tags": []
   },
   "outputs": [
    {
     "name": "stdout",
     "output_type": "stream",
     "text": [
      "CPU times: user 54 s, sys: 5.82 s, total: 59.8 s\n",
      "Wall time: 54.8 s\n"
     ]
    },
    {
     "data": {
      "text/html": [
       "<div><style>\n",
       ".dataframe > thead > tr,\n",
       ".dataframe > tbody > tr {\n",
       "  text-align: right;\n",
       "  white-space: pre-wrap;\n",
       "}\n",
       "</style>\n",
       "<small>shape: (2, 39)</small><table border=\"1\" class=\"dataframe\"><thead><tr><th>impression_id</th><th>article</th><th>impression_time</th><th>target</th><th>device_type</th><th>read_time</th><th>scroll_percentage</th><th>user_id</th><th>is_sso_user</th><th>gender</th><th>age</th><th>is_subscriber</th><th>trendiness_scores</th><th>weekday</th><th>hour</th><th>premium</th><th>category</th><th>sentiment_score</th><th>sentiment_label</th><th>entity_groups</th><th>num_images</th><th>title_len</th><th>subtitle_len</th><th>body_len</th><th>article_delay_days</th><th>article_delay_hours</th><th>Entity_PROD_Present</th><th>Entity_EVENT_Present</th><th>Entity_LOC_Present</th><th>Entity_ORG_Present</th><th>Entity_MISC_Present</th><th>Entity_PER_Present</th><th>last_session_nclicks</th><th>last_session_duration</th><th>mean_prev_sessions_duration</th><th>last_session_time_hour_diff</th><th>is_new_article</th><th>is_already_seen_article</th><th>is_last_session_most_seen_category</th></tr><tr><td>u32</td><td>i32</td><td>datetime[μs]</td><td>i8</td><td>i8</td><td>f32</td><td>f32</td><td>u32</td><td>bool</td><td>i8</td><td>i8</td><td>bool</td><td>i64</td><td>i8</td><td>i8</td><td>bool</td><td>i16</td><td>f32</td><td>str</td><td>list[str]</td><td>u32</td><td>u32</td><td>u32</td><td>u32</td><td>i64</td><td>i64</td><td>bool</td><td>bool</td><td>bool</td><td>bool</td><td>bool</td><td>bool</td><td>u32</td><td>i64</td><td>f64</td><td>i64</td><td>bool</td><td>bool</td><td>bool</td></tr></thead><tbody><tr><td>149474</td><td>9778669</td><td>2023-05-24 07:47:53</td><td>0</td><td>2</td><td>13.0</td><td>null</td><td>139836</td><td>false</td><td>null</td><td>null</td><td>false</td><td>90</td><td>3</td><td>7</td><td>false</td><td>118</td><td>0.9481</td><td>&quot;Negative&quot;</td><td>[&quot;ORG&quot;, &quot;ORG&quot;, … &quot;PROD&quot;]</td><td>1</td><td>5</td><td>11</td><td>150</td><td>0</td><td>1</td><td>true</td><td>false</td><td>false</td><td>true</td><td>false</td><td>true</td><td>3</td><td>1</td><td>1.0</td><td>88</td><td>false</td><td>false</td><td>true</td></tr><tr><td>149474</td><td>9778728</td><td>2023-05-24 07:47:53</td><td>0</td><td>2</td><td>13.0</td><td>null</td><td>139836</td><td>false</td><td>null</td><td>null</td><td>false</td><td>335</td><td>3</td><td>7</td><td>false</td><td>142</td><td>0.9654</td><td>&quot;Negative&quot;</td><td>[&quot;EVENT&quot;, &quot;EVENT&quot;, … &quot;EVENT&quot;]</td><td>1</td><td>5</td><td>18</td><td>251</td><td>0</td><td>0</td><td>true</td><td>true</td><td>false</td><td>true</td><td>false</td><td>true</td><td>3</td><td>1</td><td>1.0</td><td>88</td><td>false</td><td>false</td><td>false</td></tr></tbody></table></div>"
      ],
      "text/plain": [
       "shape: (2, 39)\n",
       "┌────────────┬─────────┬────────────┬────────┬───┬────────────┬────────────┬───────────┬───────────┐\n",
       "│ impression ┆ article ┆ impression ┆ target ┆ … ┆ last_sessi ┆ is_new_art ┆ is_alread ┆ is_last_s │\n",
       "│ _id        ┆ ---     ┆ _time      ┆ ---    ┆   ┆ on_time_ho ┆ icle       ┆ y_seen_ar ┆ ession_mo │\n",
       "│ ---        ┆ i32     ┆ ---        ┆ i8     ┆   ┆ ur_diff    ┆ ---        ┆ ticle     ┆ st_seen_c │\n",
       "│ u32        ┆         ┆ datetime[μ ┆        ┆   ┆ ---        ┆ bool       ┆ ---       ┆ atego…    │\n",
       "│            ┆         ┆ s]         ┆        ┆   ┆ i64        ┆            ┆ bool      ┆ ---       │\n",
       "│            ┆         ┆            ┆        ┆   ┆            ┆            ┆           ┆ bool      │\n",
       "╞════════════╪═════════╪════════════╪════════╪═══╪════════════╪════════════╪═══════════╪═══════════╡\n",
       "│ 149474     ┆ 9778669 ┆ 2023-05-24 ┆ 0      ┆ … ┆ 88         ┆ false      ┆ false     ┆ true      │\n",
       "│            ┆         ┆ 07:47:53   ┆        ┆   ┆            ┆            ┆           ┆           │\n",
       "│ 149474     ┆ 9778728 ┆ 2023-05-24 ┆ 0      ┆ … ┆ 88         ┆ false      ┆ false     ┆ false     │\n",
       "│            ┆         ┆ 07:47:53   ┆        ┆   ┆            ┆            ┆           ┆           │\n",
       "└────────────┴─────────┴────────────┴────────┴───┴────────────┴────────────┴───────────┴───────────┘"
      ]
     },
     "execution_count": 11,
     "metadata": {},
     "output_type": "execute_result"
    }
   ],
   "source": [
    "%%time\n",
    "\n",
    "last_history_df = history_train.with_columns(\n",
    "    pl.col('impression_time_fixed').list.max().alias('last_history_impression_time'),\n",
    ").select(['user_id', 'last_history_impression_time', 'article_id_fixed'])\n",
    "\n",
    "last_session_time_df = behaviors_train.select(['session_id', 'user_id', 'impression_time', 'article_ids_inview', 'article_ids_clicked']) \\\n",
    "    .explode('article_ids_clicked') \\\n",
    "    .join(articles.select(['article_id', 'category']), left_on='article_ids_clicked', right_on='article_id', how='left') \\\n",
    "    .with_columns(\n",
    "        # this is needed to the .flatten() that is done after\n",
    "        pl.col('category').cast(pl.List(pl.Int64))\n",
    "    ).group_by('session_id').agg(\n",
    "        pl.col('user_id').first(), \n",
    "        pl.col('impression_time').max(), \n",
    "        pl.col('article_ids_inview').flatten().alias('all_seen_articles'),\n",
    "        (pl.col('impression_time').max() - pl.col('impression_time').min()).dt.total_minutes().alias('session_duration'),\n",
    "        pl.col('article_ids_clicked').count().alias('nclicks'),\n",
    "        pl.col('category').flatten().alias('all_categories'),\n",
    "    ).with_columns(\n",
    "        pl.col('all_categories').map_elements(lambda x: stats.mode(x)[0], return_dtype=pl.Int64).alias('most_freq_category')\n",
    "    ).group_by('user_id').map_groups(\n",
    "        lambda user_impressions: user_impressions.sort('impression_time').with_columns(\n",
    "            pl.col('impression_time').shift(1).alias('last_session_time'),\n",
    "            pl.col('nclicks').shift(1).fill_null(0).alias('last_session_nclicks'),\n",
    "            pl.col('session_duration').shift(1).fill_null(0).alias('last_session_duration'),\n",
    "            pl.col('session_duration').rolling_mean(100, min_periods=1).alias('mean_prev_sessions_duration'),\n",
    "            pl.col('most_freq_category').shift(1).alias('last_session_most_seen_category'),\n",
    "            pl.col('all_seen_articles').list.unique().shift(1),\n",
    "        )\n",
    "    ).join(last_history_df, on='user_id', how='left') \\\n",
    "    .with_columns(\n",
    "        pl.col('last_session_time').fill_null(pl.col('last_history_impression_time')),\n",
    "        pl.col('all_seen_articles').fill_null(pl.col('article_id_fixed')),\n",
    "    ).select(['session_id', 'last_session_time', 'last_session_nclicks', 'last_session_most_seen_category',\n",
    "              'last_session_duration', 'all_seen_articles', 'mean_prev_sessions_duration'])\n",
    "    \n",
    "train_ds = train_ds.join(last_session_time_df, on='session_id', how='left').with_columns(\n",
    "    (pl.col('impression_time') - pl.col('last_session_time')).dt.total_hours().alias('last_session_time_hour_diff'),\n",
    "    ((pl.col('last_session_time') - pl.col('published_time')).dt.total_hours() > 0).alias('is_new_article'),\n",
    "    pl.col('all_seen_articles').list.contains(pl.col('article')).alias('is_already_seen_article'),\n",
    "    (pl.col('category') == pl.col('last_session_most_seen_category')).fill_null(False).alias('is_last_session_most_seen_category'),\n",
    ").drop(['published_time', 'session_id', 'all_seen_articles', 'last_session_time', 'last_session_most_seen_category'])\n",
    "train_ds.head(2)"
   ]
  },
  {
   "cell_type": "code",
   "execution_count": 12,
   "id": "f115e3a9",
   "metadata": {
    "execution": {
     "iopub.execute_input": "2024-03-31T00:13:16.311671Z",
     "iopub.status.busy": "2024-03-31T00:13:16.310874Z",
     "iopub.status.idle": "2024-03-31T00:13:16.318962Z",
     "shell.execute_reply": "2024-03-31T00:13:16.317487Z"
    },
    "papermill": {
     "duration": 0.024278,
     "end_time": "2024-03-31T00:13:16.321571",
     "exception": false,
     "start_time": "2024-03-31T00:13:16.297293",
     "status": "completed"
    },
    "tags": []
   },
   "outputs": [
    {
     "data": {
      "text/html": [
       "<div><style>\n",
       ".dataframe > thead > tr,\n",
       ".dataframe > tbody > tr {\n",
       "  text-align: right;\n",
       "  white-space: pre-wrap;\n",
       "}\n",
       "</style>\n",
       "<small>shape: (1, 2)</small><table border=\"1\" class=\"dataframe\"><thead><tr><th>is_new_article</th><th>is_already_seen_article</th></tr><tr><td>f64</td><td>f64</td></tr></thead><tbody><tr><td>0.292472</td><td>0.089807</td></tr></tbody></table></div>"
      ],
      "text/plain": [
       "shape: (1, 2)\n",
       "┌────────────────┬─────────────────────────┐\n",
       "│ is_new_article ┆ is_already_seen_article │\n",
       "│ ---            ┆ ---                     │\n",
       "│ f64            ┆ f64                     │\n",
       "╞════════════════╪═════════════════════════╡\n",
       "│ 0.292472       ┆ 0.089807                │\n",
       "└────────────────┴─────────────────────────┘"
      ]
     },
     "execution_count": 12,
     "metadata": {},
     "output_type": "execute_result"
    }
   ],
   "source": [
    "train_ds.select(pl.col('is_new_article').sum() / train_ds.shape[0], pl.col('is_already_seen_article').sum() / train_ds.shape[0])"
   ]
  },
  {
   "cell_type": "markdown",
   "id": "a96105d7",
   "metadata": {
    "papermill": {
     "duration": 0.013395,
     "end_time": "2024-03-31T00:13:16.348268",
     "exception": false,
     "start_time": "2024-03-31T00:13:16.334873",
     "status": "completed"
    },
    "tags": []
   },
   "source": [
    "## Popularities"
   ]
  },
  {
   "cell_type": "code",
   "execution_count": 13,
   "id": "e8e4e551",
   "metadata": {
    "execution": {
     "iopub.execute_input": "2024-03-31T00:13:16.376086Z",
     "iopub.status.busy": "2024-03-31T00:13:16.375703Z",
     "iopub.status.idle": "2024-03-31T00:13:16.451409Z",
     "shell.execute_reply": "2024-03-31T00:13:16.450117Z"
    },
    "papermill": {
     "duration": 0.09163,
     "end_time": "2024-03-31T00:13:16.453246",
     "exception": false,
     "start_time": "2024-03-31T00:13:16.361616",
     "status": "completed"
    },
    "tags": []
   },
   "outputs": [
    {
     "data": {
      "text/html": [
       "<div><style>\n",
       ".dataframe > thead > tr,\n",
       ".dataframe > tbody > tr {\n",
       "  text-align: right;\n",
       "  white-space: pre-wrap;\n",
       "}\n",
       "</style>\n",
       "<small>shape: (2, 39)</small><table border=\"1\" class=\"dataframe\"><thead><tr><th>impression_id</th><th>article</th><th>target</th><th>device_type</th><th>read_time</th><th>scroll_percentage</th><th>user_id</th><th>is_sso_user</th><th>gender</th><th>age</th><th>is_subscriber</th><th>trendiness_scores</th><th>weekday</th><th>hour</th><th>premium</th><th>category</th><th>sentiment_score</th><th>sentiment_label</th><th>entity_groups</th><th>num_images</th><th>title_len</th><th>subtitle_len</th><th>body_len</th><th>article_delay_days</th><th>article_delay_hours</th><th>Entity_PROD_Present</th><th>Entity_EVENT_Present</th><th>Entity_LOC_Present</th><th>Entity_ORG_Present</th><th>Entity_MISC_Present</th><th>Entity_PER_Present</th><th>last_session_nclicks</th><th>last_session_duration</th><th>mean_prev_sessions_duration</th><th>last_session_time_hour_diff</th><th>is_new_article</th><th>is_already_seen_article</th><th>is_last_session_most_seen_category</th><th>yesterday_category_daily_pct</th></tr><tr><td>u32</td><td>i32</td><td>i8</td><td>i8</td><td>f32</td><td>f32</td><td>u32</td><td>bool</td><td>i8</td><td>i8</td><td>bool</td><td>i64</td><td>i8</td><td>i8</td><td>bool</td><td>i16</td><td>f32</td><td>str</td><td>list[str]</td><td>u32</td><td>u32</td><td>u32</td><td>u32</td><td>i64</td><td>i64</td><td>bool</td><td>bool</td><td>bool</td><td>bool</td><td>bool</td><td>bool</td><td>u32</td><td>i64</td><td>f64</td><td>i64</td><td>bool</td><td>bool</td><td>bool</td><td>f64</td></tr></thead><tbody><tr><td>149474</td><td>9778669</td><td>0</td><td>2</td><td>13.0</td><td>null</td><td>139836</td><td>false</td><td>null</td><td>null</td><td>false</td><td>90</td><td>3</td><td>7</td><td>false</td><td>118</td><td>0.9481</td><td>&quot;Negative&quot;</td><td>[&quot;ORG&quot;, &quot;ORG&quot;, … &quot;PROD&quot;]</td><td>1</td><td>5</td><td>11</td><td>150</td><td>0</td><td>1</td><td>true</td><td>false</td><td>false</td><td>true</td><td>false</td><td>true</td><td>3</td><td>1</td><td>1.0</td><td>88</td><td>false</td><td>false</td><td>true</td><td>0.275362</td></tr><tr><td>149474</td><td>9778728</td><td>0</td><td>2</td><td>13.0</td><td>null</td><td>139836</td><td>false</td><td>null</td><td>null</td><td>false</td><td>335</td><td>3</td><td>7</td><td>false</td><td>142</td><td>0.9654</td><td>&quot;Negative&quot;</td><td>[&quot;EVENT&quot;, &quot;EVENT&quot;, … &quot;EVENT&quot;]</td><td>1</td><td>5</td><td>18</td><td>251</td><td>0</td><td>0</td><td>true</td><td>true</td><td>false</td><td>true</td><td>false</td><td>true</td><td>3</td><td>1</td><td>1.0</td><td>88</td><td>false</td><td>false</td><td>false</td><td>0.246377</td></tr></tbody></table></div>"
      ],
      "text/plain": [
       "shape: (2, 39)\n",
       "┌────────────┬─────────┬────────┬────────────┬───┬────────────┬────────────┬───────────┬───────────┐\n",
       "│ impression ┆ article ┆ target ┆ device_typ ┆ … ┆ is_new_art ┆ is_already ┆ is_last_s ┆ yesterday │\n",
       "│ _id        ┆ ---     ┆ ---    ┆ e          ┆   ┆ icle       ┆ _seen_arti ┆ ession_mo ┆ _category │\n",
       "│ ---        ┆ i32     ┆ i8     ┆ ---        ┆   ┆ ---        ┆ cle        ┆ st_seen_c ┆ _daily_pc │\n",
       "│ u32        ┆         ┆        ┆ i8         ┆   ┆ bool       ┆ ---        ┆ atego…    ┆ t         │\n",
       "│            ┆         ┆        ┆            ┆   ┆            ┆ bool       ┆ ---       ┆ ---       │\n",
       "│            ┆         ┆        ┆            ┆   ┆            ┆            ┆ bool      ┆ f64       │\n",
       "╞════════════╪═════════╪════════╪════════════╪═══╪════════════╪════════════╪═══════════╪═══════════╡\n",
       "│ 149474     ┆ 9778669 ┆ 0      ┆ 2          ┆ … ┆ false      ┆ false      ┆ true      ┆ 0.275362  │\n",
       "│ 149474     ┆ 9778728 ┆ 0      ┆ 2          ┆ … ┆ false      ┆ false      ┆ false     ┆ 0.246377  │\n",
       "└────────────┴─────────┴────────┴────────────┴───┴────────────┴────────────┴───────────┴───────────┘"
      ]
     },
     "execution_count": 13,
     "metadata": {},
     "output_type": "execute_result"
    }
   ],
   "source": [
    "articles_date_popularity = articles.select(['published_time', 'article_id']) \\\n",
    "    .group_by(pl.col('published_time').dt.date().alias('published_date')) \\\n",
    "    .agg(pl.col('article_id').count().alias('daily_articles')) \\\n",
    "\n",
    "published_category_popularity = articles.select(['published_time', 'article_id', 'category']) \\\n",
    "    .group_by([pl.col('published_time').dt.date().alias('published_date'), 'category']) \\\n",
    "    .agg(pl.col('article_id').count().alias('category_daily_articles')) \\\n",
    "    .join(articles_date_popularity, on='published_date', how='left') \\\n",
    "    .with_columns((pl.col('category_daily_articles') / pl.col('daily_articles')).alias('category_daily_pct')) \\\n",
    "    .drop(['category_daily_articles', 'daily_articles'])\n",
    "\n",
    "train_ds = train_ds.join(published_category_popularity, how='left', right_on=['published_date', 'category'],\n",
    "                         left_on=[pl.col('impression_time').dt.date() - pl.duration(days=1), 'category']) \\\n",
    "    .rename({'category_daily_pct': 'yesterday_category_daily_pct'}).drop(['impression_time']) \\\n",
    "    .with_columns(pl.col('yesterday_category_daily_pct').fill_null(0))\n",
    "train_ds.head(2)"
   ]
  },
  {
   "cell_type": "markdown",
   "id": "3576c40e",
   "metadata": {
    "papermill": {
     "duration": 0.013034,
     "end_time": "2024-03-31T00:13:16.532446",
     "exception": false,
     "start_time": "2024-03-31T00:13:16.519412",
     "status": "completed"
    },
    "tags": []
   },
   "source": [
    "# Adding history features"
   ]
  },
  {
   "cell_type": "code",
   "execution_count": 14,
   "id": "43c8d55c",
   "metadata": {
    "execution": {
     "iopub.execute_input": "2024-03-31T00:13:16.560650Z",
     "iopub.status.busy": "2024-03-31T00:13:16.560264Z",
     "iopub.status.idle": "2024-03-31T00:15:35.984012Z",
     "shell.execute_reply": "2024-03-31T00:15:35.983012Z"
    },
    "papermill": {
     "duration": 139.440866,
     "end_time": "2024-03-31T00:15:35.986631",
     "exception": false,
     "start_time": "2024-03-31T00:13:16.545765",
     "status": "completed"
    },
    "tags": []
   },
   "outputs": [
    {
     "data": {
      "application/vnd.jupyter.widget-view+json": {
       "model_id": "1c0caee0f9dc4cd3bdcd2900e6111312",
       "version_major": 2,
       "version_minor": 0
      },
      "text/plain": [
       "Output()"
      ]
     },
     "metadata": {},
     "output_type": "display_data"
    },
    {
     "data": {
      "text/html": [
       "<pre style=\"white-space:pre;overflow-x:auto;line-height:normal;font-family:Menlo,'DejaVu Sans Mono',consolas,'Courier New',monospace\"></pre>\n"
      ],
      "text/plain": []
     },
     "metadata": {},
     "output_type": "display_data"
    },
    {
     "data": {
      "text/html": [
       "<pre style=\"white-space:pre;overflow-x:auto;line-height:normal;font-family:Menlo,'DejaVu Sans Mono',consolas,'Courier New',monospace\">\n",
       "</pre>\n"
      ],
      "text/plain": [
       "\n"
      ]
     },
     "metadata": {},
     "output_type": "display_data"
    },
    {
     "name": "stdout",
     "output_type": "stream",
     "text": [
      "CPU times: user 3min 15s, sys: 14.4 s, total: 3min 30s\n",
      "Wall time: 2min 19s\n"
     ]
    },
    {
     "data": {
      "text/html": [
       "<div><style>\n",
       ".dataframe > thead > tr,\n",
       ".dataframe > tbody > tr {\n",
       "  text-align: right;\n",
       "  white-space: pre-wrap;\n",
       "}\n",
       "</style>\n",
       "<small>shape: (2, 12)</small><table border=\"1\" class=\"dataframe\"><thead><tr><th>user_id</th><th>impression_time_fixed</th><th>scroll_percentage_fixed</th><th>article_id_fixed</th><th>read_time_fixed</th><th>category</th><th>article_type</th><th>sentiment_label</th><th>sentiment_score</th><th>entity_groups</th><th>topics_flatten</th><th>entity_groups_detailed</th></tr><tr><td>u32</td><td>list[datetime[μs]]</td><td>list[f32]</td><td>list[i32]</td><td>list[f32]</td><td>list[i64]</td><td>list[str]</td><td>list[str]</td><td>list[f64]</td><td>list[str]</td><td>list[str]</td><td>list[list[str]]</td></tr></thead><tbody><tr><td>13538</td><td>[2023-04-27 10:17:43, 2023-04-27 10:18:01, … 2023-05-17 20:36:34]</td><td>[100.0, 35.0, … 100.0]</td><td>[9738663, 9738569, … 9769366]</td><td>[17.0, 12.0, … 16.0]</td><td>[565, 572, … 140]</td><td>[&quot;article_default&quot;, &quot;article_fullscreen_gallery&quot;, … &quot;article_default&quot;]</td><td>[&quot;Neutral&quot;, &quot;Neutral&quot;, … &quot;Negative&quot;]</td><td>[0.8108, 0.7985, … 0.9959]</td><td>[null, null, … &quot;ORG&quot;]</td><td>[&quot;Erotik&quot;, &quot;Livsstil&quot;, … &quot;Personfarlig kriminalitet&quot;]</td><td>[[], [], … [&quot;PER&quot;, &quot;ORG&quot;, &quot;LOC&quot;]]</td></tr><tr><td>14241</td><td>[2023-04-27 09:40:18, 2023-04-27 09:40:33, … 2023-05-17 17:08:41]</td><td>[100.0, 46.0, … 100.0]</td><td>[9738557, 9738528, … 9767852]</td><td>[8.0, 9.0, … 12.0]</td><td>[457, 457, … 118]</td><td>[&quot;article_default&quot;, &quot;article_default&quot;, … &quot;article_default&quot;]</td><td>[&quot;Negative&quot;, &quot;Neutral&quot;, … &quot;Neutral&quot;]</td><td>[0.9712, 0.9115, … 0.8372]</td><td>[null, &quot;ORG&quot;, … &quot;ORG&quot;]</td><td>[&quot;Livsstil&quot;, &quot;Samfund&quot;, … &quot;Økonomi&quot;]</td><td>[[], [&quot;PER&quot;, &quot;ORG&quot;], … [&quot;PER&quot;, &quot;ORG&quot;]]</td></tr></tbody></table></div>"
      ],
      "text/plain": [
       "shape: (2, 12)\n",
       "┌─────────┬────────────┬───────────┬───────────┬───┬───────────┬───────────┬───────────┬───────────┐\n",
       "│ user_id ┆ impression ┆ scroll_pe ┆ article_i ┆ … ┆ sentiment ┆ entity_gr ┆ topics_fl ┆ entity_gr │\n",
       "│ ---     ┆ _time_fixe ┆ rcentage_ ┆ d_fixed   ┆   ┆ _score    ┆ oups      ┆ atten     ┆ oups_deta │\n",
       "│ u32     ┆ d          ┆ fixed     ┆ ---       ┆   ┆ ---       ┆ ---       ┆ ---       ┆ iled      │\n",
       "│         ┆ ---        ┆ ---       ┆ list[i32] ┆   ┆ list[f64] ┆ list[str] ┆ list[str] ┆ ---       │\n",
       "│         ┆ list[datet ┆ list[f32] ┆           ┆   ┆           ┆           ┆           ┆ list[list │\n",
       "│         ┆ ime[μs]]   ┆           ┆           ┆   ┆           ┆           ┆           ┆ [str]]    │\n",
       "╞═════════╪════════════╪═══════════╪═══════════╪═══╪═══════════╪═══════════╪═══════════╪═══════════╡\n",
       "│ 13538   ┆ [2023-04-2 ┆ [100.0,   ┆ [9738663, ┆ … ┆ [0.8108,  ┆ [null,    ┆ [\"Erotik\" ┆ [[], [],  │\n",
       "│         ┆ 7          ┆ 35.0, …   ┆ 9738569,  ┆   ┆ 0.7985, … ┆ null, …   ┆ , \"Livsst ┆ … [\"PER\", │\n",
       "│         ┆ 10:17:43,  ┆ 100.0]    ┆ …         ┆   ┆ 0.9959]   ┆ \"ORG\"]    ┆ il\", …    ┆ \"ORG\",    │\n",
       "│         ┆ 2023-04-27 ┆           ┆ 9769366]  ┆   ┆           ┆           ┆ \"Person…  ┆ \"LOC\"]…   │\n",
       "│         ┆ …          ┆           ┆           ┆   ┆           ┆           ┆           ┆           │\n",
       "│ 14241   ┆ [2023-04-2 ┆ [100.0,   ┆ [9738557, ┆ … ┆ [0.9712,  ┆ [null,    ┆ [\"Livssti ┆ [[],      │\n",
       "│         ┆ 7          ┆ 46.0, …   ┆ 9738528,  ┆   ┆ 0.9115, … ┆ \"ORG\", …  ┆ l\", \"Samf ┆ [\"PER\",   │\n",
       "│         ┆ 09:40:18,  ┆ 100.0]    ┆ …         ┆   ┆ 0.8372]   ┆ \"ORG\"]    ┆ und\", …   ┆ \"ORG\"], … │\n",
       "│         ┆ 2023-04-27 ┆           ┆ 9767852]  ┆   ┆           ┆           ┆ \"Økono…   ┆ [\"PER\",   │\n",
       "│         ┆ …          ┆           ┆           ┆   ┆           ┆           ┆           ┆ \"…        │\n",
       "└─────────┴────────────┴───────────┴───────────┴───┴───────────┴───────────┴───────────┴───────────┘"
      ]
     },
     "execution_count": 14,
     "metadata": {},
     "output_type": "execute_result"
    }
   ],
   "source": [
    "%%time\n",
    "\n",
    "from rich.progress import Progress\n",
    "\n",
    "\n",
    "def get_single_feature_function(f_name, progress_task):\n",
    "    def get_feature(article_ids):\n",
    "        progress.update(progress_task, advance=1)\n",
    "        feature_values = articles.filter(pl.col('article_id').is_in(article_ids)) \\\n",
    "            .select(pl.col(f_name))[f_name].to_list()\n",
    "        return feature_values\n",
    "    return get_feature\n",
    "\n",
    "\n",
    "def get_unique_list_feature_function(f_name, progress_task):\n",
    "    def get_feature(article_ids):\n",
    "        progress.update(progress_task, advance=1)\n",
    "        feature_values = articles.filter(pl.col('article_id').is_in(article_ids)) \\\n",
    "            .select(pl.col(f_name).list.unique())[f_name].to_list()\n",
    "        return feature_values\n",
    "    return get_feature\n",
    "\n",
    "\n",
    "def get_unique_list_exploded_feature_function(f_name, progress_task):\n",
    "    def get_feature(article_ids):\n",
    "        progress.update(progress_task, advance=1)\n",
    "        feature_values = articles.filter(pl.col('article_id').is_in(article_ids)) \\\n",
    "            .select(pl.col(f_name).list.unique()).explode(f_name)[f_name].to_list()\n",
    "        return feature_values\n",
    "    return get_feature\n",
    "\n",
    "\n",
    "# ner_clusters for the moment is not used since there are too much unique values (more than 44k)\n",
    "columns = ['category', 'article_type', 'sentiment_label', 'sentiment_score']\n",
    "return_dtypes = [pl.Int64, pl.String, pl.String, pl.Float64]\n",
    "with Progress() as progress: \n",
    "    \n",
    "    tasks = {}\n",
    "    for col in columns:\n",
    "        tasks[col] = progress.add_task(f\"Getting {col}\", total=history_train.shape[0])\n",
    "    tasks['entity_groups'] = progress.add_task(\"Getting entity_groups\", total=history_train.shape[0])\n",
    "    tasks['entity_groups_detailed'] = progress.add_task(\"Getting detailed entity_groups\", total=history_train.shape[0])\n",
    "    tasks['topics'] = progress.add_task(\"Getting topics\", total=history_train.shape[0])\n",
    "\n",
    "    history_train = history_train.with_columns(\n",
    "        [pl.col('article_id_fixed').map_elements(get_single_feature_function(col, tasks[col]), \n",
    "                                                 return_dtype=pl.List(dtype)).alias(col)\n",
    "         for col, dtype in zip(columns, return_dtypes)] + \\\n",
    "        [pl.col('article_id_fixed').map_elements(get_unique_list_exploded_feature_function('entity_groups', tasks['entity_groups']), \n",
    "                                                 return_dtype=pl.List(pl.String)).alias('entity_groups'),\n",
    "         pl.col('article_id_fixed').map_elements(get_unique_list_exploded_feature_function('topics', tasks['topics']), \n",
    "                                                 return_dtype=pl.List(pl.String)).alias('topics_flatten'),\n",
    "         pl.col('article_id_fixed').map_elements(get_unique_list_feature_function('entity_groups', tasks['entity_groups_detailed']), \n",
    "                                                 return_dtype=pl.List(pl.List(pl.String))).alias('entity_groups_detailed')]\n",
    "    )\n",
    "    \n",
    "history_train.head(2)"
   ]
  },
  {
   "cell_type": "markdown",
   "id": "4895e341",
   "metadata": {
    "papermill": {
     "duration": 0.018188,
     "end_time": "2024-03-31T00:15:36.024816",
     "exception": false,
     "start_time": "2024-03-31T00:15:36.006628",
     "status": "completed"
    },
    "tags": []
   },
   "source": [
    "## Basic Features"
   ]
  },
  {
   "cell_type": "code",
   "execution_count": 15,
   "id": "0eeeb594",
   "metadata": {
    "execution": {
     "iopub.execute_input": "2024-03-31T00:15:39.908961Z",
     "iopub.status.busy": "2024-03-31T00:15:39.908740Z",
     "iopub.status.idle": "2024-03-31T00:16:16.958123Z",
     "shell.execute_reply": "2024-03-31T00:16:16.957243Z"
    },
    "papermill": {
     "duration": 40.92914,
     "end_time": "2024-03-31T00:16:16.973780",
     "exception": false,
     "start_time": "2024-03-31T00:15:36.044640",
     "status": "completed"
    },
    "tags": []
   },
   "outputs": [
    {
     "data": {
      "text/html": [
       "<div><style>\n",
       ".dataframe > thead > tr,\n",
       ".dataframe > tbody > tr {\n",
       "  text-align: right;\n",
       "  white-space: pre-wrap;\n",
       "}\n",
       "</style>\n",
       "<small>shape: (2, 27)</small><table border=\"1\" class=\"dataframe\"><thead><tr><th>user_id</th><th>article_id_fixed</th><th>category</th><th>topics_flatten</th><th>entity_groups_detailed</th><th>PctStrongNegative</th><th>PctStrongNeutral</th><th>PctStrongPositive</th><th>NumArticlesHistory</th><th>MedianReadTime</th><th>MaxReadTime</th><th>TotalReadTime</th><th>MedianScrollPercentage</th><th>MaxScrollPercentage</th><th>MostFrequentWeekday</th><th>MostFrequentHour</th><th>MostFrequentCategory</th><th>PctNotDefaultArticles</th><th>NegativePct</th><th>PositivePct</th><th>NeutralPct</th><th>PRODPct</th><th>EVENTPct</th><th>LOCPct</th><th>ORGPct</th><th>MISCPct</th><th>PERPct</th></tr><tr><td>u32</td><td>list[i32]</td><td>list[i64]</td><td>list[str]</td><td>list[list[str]]</td><td>f64</td><td>f64</td><td>f64</td><td>u32</td><td>f32</td><td>f32</td><td>f32</td><td>f32</td><td>f32</td><td>i8</td><td>i8</td><td>i16</td><td>f64</td><td>f64</td><td>f64</td><td>f64</td><td>f64</td><td>f64</td><td>f64</td><td>f64</td><td>f64</td><td>f64</td></tr></thead><tbody><tr><td>13538</td><td>[9738663, 9738569, … 9769366]</td><td>[565, 572, … 140]</td><td>[&quot;Erotik&quot;, &quot;Livsstil&quot;, … &quot;Personfarlig kriminalitet&quot;]</td><td>[[], [], … [&quot;PER&quot;, &quot;ORG&quot;, &quot;LOC&quot;]]</td><td>0.54792</td><td>0.115732</td><td>0.070524</td><td>582</td><td>6.0</td><td>672.0</td><td>7192.0</td><td>32.0</td><td>100.0</td><td>3</td><td>3</td><td>118</td><td>0.073883</td><td>0.601375</td><td>0.12543</td><td>0.223368</td><td>0.280069</td><td>0.159794</td><td>0.719931</td><td>0.87457</td><td>0.16323</td><td>0.819588</td></tr><tr><td>14241</td><td>[9738557, 9738528, … 9767852]</td><td>[457, 457, … 118]</td><td>[&quot;Livsstil&quot;, &quot;Samfund&quot;, … &quot;Økonomi&quot;]</td><td>[[], [&quot;PER&quot;, &quot;ORG&quot;], … [&quot;PER&quot;, &quot;ORG&quot;]]</td><td>0.541401</td><td>0.146497</td><td>0.057325</td><td>179</td><td>19.0</td><td>1574.0</td><td>7754.0</td><td>100.0</td><td>100.0</td><td>3</td><td>13</td><td>118</td><td>0.139665</td><td>0.553073</td><td>0.094972</td><td>0.22905</td><td>0.206704</td><td>0.106145</td><td>0.681564</td><td>0.810056</td><td>0.162011</td><td>0.776536</td></tr></tbody></table></div>"
      ],
      "text/plain": [
       "shape: (2, 27)\n",
       "┌─────────┬─────────────┬─────────────┬────────────┬───┬──────────┬──────────┬──────────┬──────────┐\n",
       "│ user_id ┆ article_id_ ┆ category    ┆ topics_fla ┆ … ┆ LOCPct   ┆ ORGPct   ┆ MISCPct  ┆ PERPct   │\n",
       "│ ---     ┆ fixed       ┆ ---         ┆ tten       ┆   ┆ ---      ┆ ---      ┆ ---      ┆ ---      │\n",
       "│ u32     ┆ ---         ┆ list[i64]   ┆ ---        ┆   ┆ f64      ┆ f64      ┆ f64      ┆ f64      │\n",
       "│         ┆ list[i32]   ┆             ┆ list[str]  ┆   ┆          ┆          ┆          ┆          │\n",
       "╞═════════╪═════════════╪═════════════╪════════════╪═══╪══════════╪══════════╪══════════╪══════════╡\n",
       "│ 13538   ┆ [9738663,   ┆ [565, 572,  ┆ [\"Erotik\", ┆ … ┆ 0.719931 ┆ 0.87457  ┆ 0.16323  ┆ 0.819588 │\n",
       "│         ┆ 9738569, …  ┆ … 140]      ┆ \"Livsstil\" ┆   ┆          ┆          ┆          ┆          │\n",
       "│         ┆ 9769366]    ┆             ┆ , …        ┆   ┆          ┆          ┆          ┆          │\n",
       "│         ┆             ┆             ┆ \"Person…   ┆   ┆          ┆          ┆          ┆          │\n",
       "│ 14241   ┆ [9738557,   ┆ [457, 457,  ┆ [\"Livsstil ┆ … ┆ 0.681564 ┆ 0.810056 ┆ 0.162011 ┆ 0.776536 │\n",
       "│         ┆ 9738528, …  ┆ … 118]      ┆ \",         ┆   ┆          ┆          ┆          ┆          │\n",
       "│         ┆ 9767852]    ┆             ┆ \"Samfund\", ┆   ┆          ┆          ┆          ┆          │\n",
       "│         ┆             ┆             ┆ … \"Økono…  ┆   ┆          ┆          ┆          ┆          │\n",
       "└─────────┴─────────────┴─────────────┴────────────┴───┴──────────┴──────────┴──────────┴──────────┘"
      ]
     },
     "execution_count": 15,
     "metadata": {},
     "output_type": "execute_result"
    }
   ],
   "source": [
    "def sentiment_score_strong_pct(labels, scores, label_name, threshold=0.8):\n",
    "    scores_filter = np.array(labels) == label_name\n",
    "    label_scores = np.array(scores)[scores_filter]\n",
    "    return np.sum(label_scores > threshold) / len(labels) if len(label_scores) > 0 else 0\n",
    "\n",
    "history_train = history_train.with_columns(\n",
    "    pl.struct(['sentiment_label', 'sentiment_score']).map_elements(\n",
    "        lambda x: sentiment_score_strong_pct(x['sentiment_label'], x['sentiment_score'], 'Negative')\n",
    "    ).alias('PctStrongNegative'),\n",
    "    pl.struct(['sentiment_label', 'sentiment_score']).map_elements(\n",
    "        lambda x: sentiment_score_strong_pct(x['sentiment_label'], x['sentiment_score'], 'Neutral')\n",
    "    ).alias('PctStrongNeutral'),\n",
    "    pl.struct(['sentiment_label', 'sentiment_score']).map_elements(\n",
    "        lambda x: sentiment_score_strong_pct(x['sentiment_label'], x['sentiment_score'], 'Positive')\n",
    "    ).alias('PctStrongPositive')\n",
    ").with_columns(\n",
    "    pl.col('read_time_fixed').list.len().alias('NumArticlesHistory'),\n",
    "    pl.col('read_time_fixed').list.median().alias('MedianReadTime'),\n",
    "    pl.col('read_time_fixed').list.max().alias('MaxReadTime'),\n",
    "    pl.col('read_time_fixed').list.sum().alias('TotalReadTime'),\n",
    "    pl.col('scroll_percentage_fixed').list.median().alias('MedianScrollPercentage'),\n",
    "    pl.col('scroll_percentage_fixed').list.max().alias('MaxScrollPercentage'),\n",
    "    pl.col('impression_time_fixed').list.eval(pl.element().dt.weekday()).alias('weekdays'),\n",
    "    pl.col('impression_time_fixed').list.eval(pl.element().dt.hour()).alias('hours'),\n",
    ").with_columns(\n",
    "    pl.col('weekdays').map_elements(lambda x: stats.mode(x)[0], return_dtype=pl.Int64).cast(pl.Int8).alias('MostFrequentWeekday'),\n",
    "    pl.col('hours').map_elements(lambda x: stats.mode(x)[0], return_dtype=pl.Int64).cast(pl.Int8).alias('MostFrequentHour'),\n",
    "    pl.col('category').map_elements(lambda x: stats.mode(x)[0], return_dtype=pl.Int64).cast(pl.Int16).alias('MostFrequentCategory'),\n",
    "    (1 - (pl.col('article_type').list.count_matches('article_default') / pl.col('NumArticlesHistory'))).alias('PctNotDefaultArticles'),\n",
    "    (pl.col('sentiment_label').list.count_matches('Negative') / pl.col('NumArticlesHistory')).alias('NegativePct'),\n",
    "    (pl.col('sentiment_label').list.count_matches('Positive') / pl.col('NumArticlesHistory')).alias('PositivePct'),\n",
    "    (pl.col('sentiment_label').list.count_matches('Neutral') / pl.col('NumArticlesHistory')).alias('NeutralPct'),\n",
    ").drop(\n",
    "    ['read_time_fixed', 'scroll_percentage_fixed', 'impression_time_fixed', \n",
    "     'weekdays', 'hours', 'sentiment_label', 'sentiment_score', 'article_type']\n",
    ").with_columns(\n",
    "    (pl.col('entity_groups').list.count_matches(entity) / pl.col('NumArticlesHistory')).alias(f'{entity}Pct')\n",
    "    for entity in unique_entities\n",
    ").drop('entity_groups')\n",
    "\n",
    "history_train.head(2)"
   ]
  },
  {
   "cell_type": "code",
   "execution_count": 16,
   "id": "b51cdcc6",
   "metadata": {
    "execution": {
     "iopub.execute_input": "2024-03-31T00:16:17.005951Z",
     "iopub.status.busy": "2024-03-31T00:16:17.004087Z",
     "iopub.status.idle": "2024-03-31T00:16:17.013880Z",
     "shell.execute_reply": "2024-03-31T00:16:17.012680Z"
    },
    "papermill": {
     "duration": 0.028811,
     "end_time": "2024-03-31T00:16:17.016166",
     "exception": false,
     "start_time": "2024-03-31T00:16:16.987355",
     "status": "completed"
    },
    "tags": []
   },
   "outputs": [
    {
     "data": {
      "text/plain": [
       "(15143, 27)"
      ]
     },
     "execution_count": 16,
     "metadata": {},
     "output_type": "execute_result"
    }
   ],
   "source": [
    "history_train.shape"
   ]
  },
  {
   "cell_type": "markdown",
   "id": "64f43c57",
   "metadata": {
    "papermill": {
     "duration": 0.014158,
     "end_time": "2024-03-31T00:16:17.044614",
     "exception": false,
     "start_time": "2024-03-31T00:16:17.030456",
     "status": "completed"
    },
    "tags": []
   },
   "source": [
    "## Categories and entities"
   ]
  },
  {
   "cell_type": "code",
   "execution_count": 17,
   "id": "2a2e442a",
   "metadata": {
    "execution": {
     "iopub.execute_input": "2024-03-31T00:16:17.074769Z",
     "iopub.status.busy": "2024-03-31T00:16:17.074393Z",
     "iopub.status.idle": "2024-03-31T00:16:20.868807Z",
     "shell.execute_reply": "2024-03-31T00:16:20.867621Z"
    },
    "papermill": {
     "duration": 3.811952,
     "end_time": "2024-03-31T00:16:20.870690",
     "exception": false,
     "start_time": "2024-03-31T00:16:17.058738",
     "status": "completed"
    },
    "tags": []
   },
   "outputs": [
    {
     "data": {
      "text/html": [
       "<div><style>\n",
       ".dataframe > thead > tr,\n",
       ".dataframe > tbody > tr {\n",
       "  text-align: right;\n",
       "  white-space: pre-wrap;\n",
       "}\n",
       "</style>\n",
       "<small>shape: (2, 64)</small><table border=\"1\" class=\"dataframe\"><thead><tr><th>impression_id</th><th>article</th><th>target</th><th>device_type</th><th>read_time</th><th>scroll_percentage</th><th>user_id</th><th>is_sso_user</th><th>gender</th><th>age</th><th>is_subscriber</th><th>trendiness_scores</th><th>weekday</th><th>hour</th><th>premium</th><th>category</th><th>sentiment_score</th><th>sentiment_label</th><th>entity_groups</th><th>num_images</th><th>title_len</th><th>subtitle_len</th><th>body_len</th><th>article_delay_days</th><th>article_delay_hours</th><th>Entity_PROD_Present</th><th>Entity_EVENT_Present</th><th>Entity_LOC_Present</th><th>Entity_ORG_Present</th><th>Entity_MISC_Present</th><th>Entity_PER_Present</th><th>last_session_nclicks</th><th>last_session_duration</th><th>mean_prev_sessions_duration</th><th>last_session_time_hour_diff</th><th>is_new_article</th><th>is_already_seen_article</th><th>is_last_session_most_seen_category</th><th>yesterday_category_daily_pct</th><th>PctStrongNegative</th><th>PctStrongNeutral</th><th>PctStrongPositive</th><th>NumArticlesHistory</th><th>MedianReadTime</th><th>MaxReadTime</th><th>TotalReadTime</th><th>MedianScrollPercentage</th><th>MaxScrollPercentage</th><th>MostFrequentWeekday</th><th>MostFrequentHour</th><th>MostFrequentCategory</th><th>PctNotDefaultArticles</th><th>NegativePct</th><th>PositivePct</th><th>NeutralPct</th><th>PRODPct</th><th>EVENTPct</th><th>LOCPct</th><th>ORGPct</th><th>MISCPct</th><th>PERPct</th><th>IsFavouriteCategory</th><th>NumberDifferentCategories</th><th>PctCategoryMatches</th></tr><tr><td>u32</td><td>i32</td><td>i8</td><td>i8</td><td>f32</td><td>f32</td><td>u32</td><td>bool</td><td>i8</td><td>i8</td><td>bool</td><td>i64</td><td>i8</td><td>i8</td><td>bool</td><td>i16</td><td>f32</td><td>str</td><td>list[str]</td><td>u32</td><td>u32</td><td>u32</td><td>u32</td><td>i64</td><td>i64</td><td>bool</td><td>bool</td><td>bool</td><td>bool</td><td>bool</td><td>bool</td><td>u32</td><td>i64</td><td>f64</td><td>i64</td><td>bool</td><td>bool</td><td>bool</td><td>f64</td><td>f64</td><td>f64</td><td>f64</td><td>u32</td><td>f32</td><td>f32</td><td>f32</td><td>f32</td><td>f32</td><td>i8</td><td>i8</td><td>i16</td><td>f64</td><td>f64</td><td>f64</td><td>f64</td><td>f64</td><td>f64</td><td>f64</td><td>f64</td><td>f64</td><td>f64</td><td>bool</td><td>u32</td><td>f64</td></tr></thead><tbody><tr><td>149474</td><td>9778669</td><td>0</td><td>2</td><td>13.0</td><td>null</td><td>139836</td><td>false</td><td>null</td><td>null</td><td>false</td><td>90</td><td>3</td><td>7</td><td>false</td><td>118</td><td>0.9481</td><td>&quot;Negative&quot;</td><td>[&quot;ORG&quot;, &quot;ORG&quot;, … &quot;PROD&quot;]</td><td>1</td><td>5</td><td>11</td><td>150</td><td>0</td><td>1</td><td>true</td><td>false</td><td>false</td><td>true</td><td>false</td><td>true</td><td>3</td><td>1</td><td>1.0</td><td>88</td><td>false</td><td>false</td><td>true</td><td>0.275362</td><td>0.631579</td><td>0.210526</td><td>0.0</td><td>19</td><td>11.0</td><td>88.0</td><td>399.0</td><td>47.0</td><td>100.0</td><td>5</td><td>19</td><td>118</td><td>0.052632</td><td>0.736842</td><td>0.0</td><td>0.263158</td><td>0.105263</td><td>0.105263</td><td>0.789474</td><td>0.894737</td><td>0.157895</td><td>0.894737</td><td>true</td><td>5</td><td>0.789474</td></tr><tr><td>149474</td><td>9778728</td><td>0</td><td>2</td><td>13.0</td><td>null</td><td>139836</td><td>false</td><td>null</td><td>null</td><td>false</td><td>335</td><td>3</td><td>7</td><td>false</td><td>142</td><td>0.9654</td><td>&quot;Negative&quot;</td><td>[&quot;EVENT&quot;, &quot;EVENT&quot;, … &quot;EVENT&quot;]</td><td>1</td><td>5</td><td>18</td><td>251</td><td>0</td><td>0</td><td>true</td><td>true</td><td>false</td><td>true</td><td>false</td><td>true</td><td>3</td><td>1</td><td>1.0</td><td>88</td><td>false</td><td>false</td><td>false</td><td>0.246377</td><td>0.631579</td><td>0.210526</td><td>0.0</td><td>19</td><td>11.0</td><td>88.0</td><td>399.0</td><td>47.0</td><td>100.0</td><td>5</td><td>19</td><td>118</td><td>0.052632</td><td>0.736842</td><td>0.0</td><td>0.263158</td><td>0.105263</td><td>0.105263</td><td>0.789474</td><td>0.894737</td><td>0.157895</td><td>0.894737</td><td>false</td><td>5</td><td>0.789474</td></tr></tbody></table></div>"
      ],
      "text/plain": [
       "shape: (2, 64)\n",
       "┌────────────┬─────────┬────────┬────────────┬───┬──────────┬────────────┬────────────┬────────────┐\n",
       "│ impression ┆ article ┆ target ┆ device_typ ┆ … ┆ PERPct   ┆ IsFavourit ┆ NumberDiff ┆ PctCategor │\n",
       "│ _id        ┆ ---     ┆ ---    ┆ e          ┆   ┆ ---      ┆ eCategory  ┆ erentCateg ┆ yMatches   │\n",
       "│ ---        ┆ i32     ┆ i8     ┆ ---        ┆   ┆ f64      ┆ ---        ┆ ories      ┆ ---        │\n",
       "│ u32        ┆         ┆        ┆ i8         ┆   ┆          ┆ bool       ┆ ---        ┆ f64        │\n",
       "│            ┆         ┆        ┆            ┆   ┆          ┆            ┆ u32        ┆            │\n",
       "╞════════════╪═════════╪════════╪════════════╪═══╪══════════╪════════════╪════════════╪════════════╡\n",
       "│ 149474     ┆ 9778669 ┆ 0      ┆ 2          ┆ … ┆ 0.894737 ┆ true       ┆ 5          ┆ 0.789474   │\n",
       "│ 149474     ┆ 9778728 ┆ 0      ┆ 2          ┆ … ┆ 0.894737 ┆ false      ┆ 5          ┆ 0.789474   │\n",
       "└────────────┴─────────┴────────┴────────────┴───┴──────────┴────────────┴────────────┴────────────┘"
      ]
     },
     "execution_count": 17,
     "metadata": {},
     "output_type": "execute_result"
    }
   ],
   "source": [
    "def list_pct_matches_with_col(a, b) -> pl.Expr:\n",
    "    '''\n",
    "    Returns an expression to count the number of matching element in a list with another column.\n",
    "    The polars function count_matches cannot be used since it wants only a single element, \n",
    "    variable element from row to row.\n",
    "    '''\n",
    "    return pl.when(pl.col(a).list.len() == 0).then(0.0) \\\n",
    "        .otherwise((pl.col(a).list.len() - (pl.col(a).list.set_difference(pl.col(b))).list.len()) / pl.col(a).list.len())\n",
    "\n",
    "\n",
    "train_ds = train_ds.join(history_train.drop(['entity_groups_detailed', 'article_id_fixed', 'topics_flatten']), on='user_id', how='left').with_columns(\n",
    "    (pl.col('category') == pl.col('MostFrequentCategory')).alias('IsFavouriteCategory'),\n",
    "    pl.col('category_right').list.n_unique().alias('NumberDifferentCategories'),\n",
    "    list_pct_matches_with_col('category_right', 'category').alias('PctCategoryMatches'),\n",
    ").drop('category_right')\n",
    "\n",
    "gc.collect()\n",
    "    \n",
    "train_ds.head(2)"
   ]
  },
  {
   "cell_type": "code",
   "execution_count": 18,
   "id": "ce4d1e17",
   "metadata": {
    "execution": {
     "iopub.execute_input": "2024-03-31T00:16:20.901138Z",
     "iopub.status.busy": "2024-03-31T00:16:20.900782Z",
     "iopub.status.idle": "2024-03-31T00:19:09.903369Z",
     "shell.execute_reply": "2024-03-31T00:19:09.902168Z"
    },
    "papermill": {
     "duration": 169.020584,
     "end_time": "2024-03-31T00:19:09.905619",
     "exception": false,
     "start_time": "2024-03-31T00:16:20.885035",
     "status": "completed"
    },
    "tags": []
   },
   "outputs": [
    {
     "name": "stderr",
     "output_type": "stream",
     "text": [
      "6996it [02:48, 41.45it/s]\n"
     ]
    },
    {
     "name": "stdout",
     "output_type": "stream",
     "text": [
      "CPU times: user 2min 55s, sys: 16.6 s, total: 3min 11s\n",
      "Wall time: 2min 48s\n"
     ]
    },
    {
     "data": {
      "text/html": [
       "<div><style>\n",
       ".dataframe > thead > tr,\n",
       ".dataframe > tbody > tr {\n",
       "  text-align: right;\n",
       "  white-space: pre-wrap;\n",
       "}\n",
       "</style>\n",
       "<small>shape: (2, 65)</small><table border=\"1\" class=\"dataframe\"><thead><tr><th>impression_id</th><th>article</th><th>target</th><th>device_type</th><th>read_time</th><th>scroll_percentage</th><th>user_id</th><th>is_sso_user</th><th>gender</th><th>age</th><th>is_subscriber</th><th>trendiness_scores</th><th>weekday</th><th>hour</th><th>premium</th><th>category</th><th>sentiment_score</th><th>sentiment_label</th><th>num_images</th><th>title_len</th><th>subtitle_len</th><th>body_len</th><th>article_delay_days</th><th>article_delay_hours</th><th>Entity_PROD_Present</th><th>Entity_EVENT_Present</th><th>Entity_LOC_Present</th><th>Entity_ORG_Present</th><th>Entity_MISC_Present</th><th>Entity_PER_Present</th><th>last_session_nclicks</th><th>last_session_duration</th><th>mean_prev_sessions_duration</th><th>last_session_time_hour_diff</th><th>is_new_article</th><th>is_already_seen_article</th><th>is_last_session_most_seen_category</th><th>yesterday_category_daily_pct</th><th>PctStrongNegative</th><th>PctStrongNeutral</th><th>PctStrongPositive</th><th>NumArticlesHistory</th><th>MedianReadTime</th><th>MaxReadTime</th><th>TotalReadTime</th><th>MedianScrollPercentage</th><th>MaxScrollPercentage</th><th>MostFrequentWeekday</th><th>MostFrequentHour</th><th>MostFrequentCategory</th><th>PctNotDefaultArticles</th><th>NegativePct</th><th>PositivePct</th><th>NeutralPct</th><th>PRODPct</th><th>EVENTPct</th><th>LOCPct</th><th>ORGPct</th><th>MISCPct</th><th>PERPct</th><th>IsFavouriteCategory</th><th>NumberDifferentCategories</th><th>PctCategoryMatches</th><th>MeanCommonEntities</th><th>MaxCommonEntities</th></tr><tr><td>u32</td><td>i32</td><td>i8</td><td>i8</td><td>f32</td><td>f32</td><td>u32</td><td>bool</td><td>i8</td><td>i8</td><td>bool</td><td>i64</td><td>i8</td><td>i8</td><td>bool</td><td>i16</td><td>f32</td><td>str</td><td>u32</td><td>u32</td><td>u32</td><td>u32</td><td>i64</td><td>i64</td><td>bool</td><td>bool</td><td>bool</td><td>bool</td><td>bool</td><td>bool</td><td>u32</td><td>i64</td><td>f64</td><td>i64</td><td>bool</td><td>bool</td><td>bool</td><td>f64</td><td>f64</td><td>f64</td><td>f64</td><td>u32</td><td>f32</td><td>f32</td><td>f32</td><td>f32</td><td>f32</td><td>i8</td><td>i8</td><td>i16</td><td>f64</td><td>f64</td><td>f64</td><td>f64</td><td>f64</td><td>f64</td><td>f64</td><td>f64</td><td>f64</td><td>f64</td><td>bool</td><td>u32</td><td>f64</td><td>f64</td><td>u32</td></tr></thead><tbody><tr><td>149474</td><td>9778669</td><td>0</td><td>2</td><td>13.0</td><td>null</td><td>139836</td><td>false</td><td>null</td><td>null</td><td>false</td><td>90</td><td>3</td><td>7</td><td>false</td><td>118</td><td>0.9481</td><td>&quot;Negative&quot;</td><td>1</td><td>5</td><td>11</td><td>150</td><td>0</td><td>1</td><td>true</td><td>false</td><td>false</td><td>true</td><td>false</td><td>true</td><td>3</td><td>1</td><td>1.0</td><td>88</td><td>false</td><td>false</td><td>true</td><td>0.275362</td><td>0.631579</td><td>0.210526</td><td>0.0</td><td>19</td><td>11.0</td><td>88.0</td><td>399.0</td><td>47.0</td><td>100.0</td><td>5</td><td>19</td><td>118</td><td>0.052632</td><td>0.736842</td><td>0.0</td><td>0.263158</td><td>0.105263</td><td>0.105263</td><td>0.789474</td><td>0.894737</td><td>0.157895</td><td>0.894737</td><td>true</td><td>5</td><td>0.789474</td><td>1.894737</td><td>3</td></tr><tr><td>149474</td><td>9778728</td><td>0</td><td>2</td><td>13.0</td><td>null</td><td>139836</td><td>false</td><td>null</td><td>null</td><td>false</td><td>335</td><td>3</td><td>7</td><td>false</td><td>142</td><td>0.9654</td><td>&quot;Negative&quot;</td><td>1</td><td>5</td><td>18</td><td>251</td><td>0</td><td>0</td><td>true</td><td>true</td><td>false</td><td>true</td><td>false</td><td>true</td><td>3</td><td>1</td><td>1.0</td><td>88</td><td>false</td><td>false</td><td>false</td><td>0.246377</td><td>0.631579</td><td>0.210526</td><td>0.0</td><td>19</td><td>11.0</td><td>88.0</td><td>399.0</td><td>47.0</td><td>100.0</td><td>5</td><td>19</td><td>118</td><td>0.052632</td><td>0.736842</td><td>0.0</td><td>0.263158</td><td>0.105263</td><td>0.105263</td><td>0.789474</td><td>0.894737</td><td>0.157895</td><td>0.894737</td><td>false</td><td>5</td><td>0.789474</td><td>2.0</td><td>3</td></tr></tbody></table></div>"
      ],
      "text/plain": [
       "shape: (2, 65)\n",
       "┌────────────┬─────────┬────────┬────────────┬───┬────────────┬────────────┬───────────┬───────────┐\n",
       "│ impression ┆ article ┆ target ┆ device_typ ┆ … ┆ NumberDiff ┆ PctCategor ┆ MeanCommo ┆ MaxCommon │\n",
       "│ _id        ┆ ---     ┆ ---    ┆ e          ┆   ┆ erentCateg ┆ yMatches   ┆ nEntities ┆ Entities  │\n",
       "│ ---        ┆ i32     ┆ i8     ┆ ---        ┆   ┆ ories      ┆ ---        ┆ ---       ┆ ---       │\n",
       "│ u32        ┆         ┆        ┆ i8         ┆   ┆ ---        ┆ f64        ┆ f64       ┆ u32       │\n",
       "│            ┆         ┆        ┆            ┆   ┆ u32        ┆            ┆           ┆           │\n",
       "╞════════════╪═════════╪════════╪════════════╪═══╪════════════╪════════════╪═══════════╪═══════════╡\n",
       "│ 149474     ┆ 9778669 ┆ 0      ┆ 2          ┆ … ┆ 5          ┆ 0.789474   ┆ 1.894737  ┆ 3         │\n",
       "│ 149474     ┆ 9778728 ┆ 0      ┆ 2          ┆ … ┆ 5          ┆ 0.789474   ┆ 2.0       ┆ 3         │\n",
       "└────────────┴─────────┴────────┴────────────┴───┴────────────┴────────────┴───────────┴───────────┘"
      ]
     },
     "execution_count": 18,
     "metadata": {},
     "output_type": "execute_result"
    }
   ],
   "source": [
    "%%time\n",
    "\n",
    "import tqdm\n",
    "\n",
    "entities_df = pl.concat(\n",
    "    (\n",
    "        rows.select(['impression_id', 'user_id', 'article', 'entity_groups']) \\\n",
    "            .join(history_train.select(['user_id', 'entity_groups_detailed']), on='user_id', how='left') \\\n",
    "            .explode('entity_groups_detailed')\n",
    "            .with_columns(\n",
    "                pl.col('entity_groups').list.set_intersection(pl.col('entity_groups_detailed')).list.len().alias('common_entities')\n",
    "            ).drop(['entity_groups_detailed', 'entity_groups']) \\\n",
    "            .group_by(['impression_id', 'article']).agg(\n",
    "                pl.col('common_entities').mean().alias('MeanCommonEntities'),\n",
    "                pl.col('common_entities').max().alias('MaxCommonEntities'),\n",
    "            )\n",
    "        for rows in tqdm.tqdm(train_ds.iter_slices(100), total=train_ds.shape[0] // 100)\n",
    "    )\n",
    ")\n",
    "train_ds = train_ds.join(entities_df, on=['impression_id', 'article'], how='left').drop(['entity_groups'])\n",
    "train_ds.head(2)"
   ]
  },
  {
   "cell_type": "markdown",
   "id": "f64d6e3e",
   "metadata": {
    "papermill": {
     "duration": 0.096339,
     "end_time": "2024-03-31T00:19:10.102331",
     "exception": false,
     "start_time": "2024-03-31T00:19:10.005992",
     "status": "completed"
    },
    "tags": []
   },
   "source": [
    "## Topics TF-IDF Cosine Similarity"
   ]
  },
  {
   "cell_type": "code",
   "execution_count": 19,
   "id": "a7133e7c",
   "metadata": {
    "execution": {
     "iopub.execute_input": "2024-03-31T00:19:10.297465Z",
     "iopub.status.busy": "2024-03-31T00:19:10.297145Z",
     "iopub.status.idle": "2024-03-31T00:19:10.462163Z",
     "shell.execute_reply": "2024-03-31T00:19:10.460644Z"
    },
    "papermill": {
     "duration": 0.266854,
     "end_time": "2024-03-31T00:19:10.464672",
     "exception": false,
     "start_time": "2024-03-31T00:19:10.197818",
     "status": "completed"
    },
    "tags": []
   },
   "outputs": [
    {
     "data": {
      "text/html": [
       "<div><style>\n",
       ".dataframe > thead > tr,\n",
       ".dataframe > tbody > tr {\n",
       "  text-align: right;\n",
       "  white-space: pre-wrap;\n",
       "}\n",
       "</style>\n",
       "<small>shape: (2, 26)</small><table border=\"1\" class=\"dataframe\"><thead><tr><th>article_id</th><th>title</th><th>subtitle</th><th>last_modified_time</th><th>premium</th><th>body</th><th>published_time</th><th>image_ids</th><th>article_type</th><th>url</th><th>ner_clusters</th><th>entity_groups</th><th>topics</th><th>category</th><th>subcategory</th><th>category_str</th><th>total_inviews</th><th>total_pageviews</th><th>total_read_time</th><th>sentiment_score</th><th>sentiment_label</th><th>num_images</th><th>title_len</th><th>subtitle_len</th><th>body_len</th><th>topics_idf</th></tr><tr><td>i32</td><td>str</td><td>str</td><td>datetime[μs]</td><td>bool</td><td>str</td><td>datetime[μs]</td><td>list[i64]</td><td>str</td><td>str</td><td>list[str]</td><td>list[str]</td><td>list[str]</td><td>i16</td><td>list[i16]</td><td>str</td><td>i32</td><td>i32</td><td>f32</td><td>f32</td><td>str</td><td>u32</td><td>u32</td><td>u32</td><td>u32</td><td>list[f64]</td></tr></thead><tbody><tr><td>3001353</td><td>&quot;Natascha var i…</td><td>&quot;Politiet frygt…</td><td>2023-06-29 06:20:33</td><td>false</td><td>&quot;Sagen om den ø…</td><td>2006-08-31 08:06:45</td><td>[3150850]</td><td>&quot;article_defaul…</td><td>&quot;https://ekstra…</td><td>[]</td><td>[]</td><td>[&quot;Kriminalitet&quot;, &quot;Personfarlig kriminalitet&quot;]</td><td>140</td><td>[]</td><td>&quot;krimi&quot;</td><td>null</td><td>null</td><td>null</td><td>0.9955</td><td>&quot;Negative&quot;</td><td>1</td><td>5</td><td>22</td><td>200</td><td>[0.0, 0.0, … 0.0]</td></tr><tr><td>3003065</td><td>&quot;Kun Star Wars …</td><td>&quot;Biografgængern…</td><td>2023-06-29 06:20:35</td><td>false</td><td>&quot;Vatikanet har …</td><td>2006-05-21 16:57:00</td><td>[3006712]</td><td>&quot;article_defaul…</td><td>&quot;https://ekstra…</td><td>[]</td><td>[]</td><td>[&quot;Underholdning&quot;, &quot;Film og tv&quot;, &quot;Økonomi&quot;]</td><td>414</td><td>[433, 434]</td><td>&quot;underholdning&quot;</td><td>null</td><td>null</td><td>null</td><td>0.846</td><td>&quot;Positive&quot;</td><td>1</td><td>5</td><td>19</td><td>116</td><td>[0.0, 0.0, … 0.423101]</td></tr></tbody></table></div>"
      ],
      "text/plain": [
       "shape: (2, 26)\n",
       "┌───────────┬───────────┬───────────┬───────────┬───┬───────────┬───────────┬──────────┬───────────┐\n",
       "│ article_i ┆ title     ┆ subtitle  ┆ last_modi ┆ … ┆ title_len ┆ subtitle_ ┆ body_len ┆ topics_id │\n",
       "│ d         ┆ ---       ┆ ---       ┆ fied_time ┆   ┆ ---       ┆ len       ┆ ---      ┆ f         │\n",
       "│ ---       ┆ str       ┆ str       ┆ ---       ┆   ┆ u32       ┆ ---       ┆ u32      ┆ ---       │\n",
       "│ i32       ┆           ┆           ┆ datetime[ ┆   ┆           ┆ u32       ┆          ┆ list[f64] │\n",
       "│           ┆           ┆           ┆ μs]       ┆   ┆           ┆           ┆          ┆           │\n",
       "╞═══════════╪═══════════╪═══════════╪═══════════╪═══╪═══════════╪═══════════╪══════════╪═══════════╡\n",
       "│ 3001353   ┆ Natascha  ┆ Politiet  ┆ 2023-06-2 ┆ … ┆ 5         ┆ 22        ┆ 200      ┆ [0.0,     │\n",
       "│           ┆ var ikke  ┆ frygter   ┆ 9         ┆   ┆           ┆           ┆          ┆ 0.0, …    │\n",
       "│           ┆ den       ┆ nu, at    ┆ 06:20:33  ┆   ┆           ┆           ┆          ┆ 0.0]      │\n",
       "│           ┆ første    ┆ Natascha… ┆           ┆   ┆           ┆           ┆          ┆           │\n",
       "│ 3003065   ┆ Kun Star  ┆ Biografgæ ┆ 2023-06-2 ┆ … ┆ 5         ┆ 19        ┆ 116      ┆ [0.0,     │\n",
       "│           ┆ Wars      ┆ ngerne    ┆ 9         ┆   ┆           ┆           ┆          ┆ 0.0, …    │\n",
       "│           ┆ tjente    ┆ strømmer  ┆ 06:20:35  ┆   ┆           ┆           ┆          ┆ 0.423101] │\n",
       "│           ┆ mere      ┆ ind for…  ┆           ┆   ┆           ┆           ┆          ┆           │\n",
       "└───────────┴───────────┴───────────┴───────────┴───┴───────────┴───────────┴──────────┴───────────┘"
      ]
     },
     "execution_count": 19,
     "metadata": {},
     "output_type": "execute_result"
    }
   ],
   "source": [
    "from sklearn.feature_extraction.text import TfidfVectorizer\n",
    "\n",
    "vectorizer = TfidfVectorizer()\n",
    "articles = articles.with_columns(\n",
    "    pl.Series(\n",
    "        vectorizer.fit_transform(\n",
    "            articles.with_columns(pl.col('topics').list.join(separator=' '))['topics'].to_list()\n",
    "        ).toarray()\n",
    "    ).alias('topics_idf')\n",
    ")\n",
    "articles.head(2)"
   ]
  },
  {
   "cell_type": "code",
   "execution_count": 20,
   "id": "60d09441",
   "metadata": {
    "execution": {
     "iopub.execute_input": "2024-03-31T00:19:10.656934Z",
     "iopub.status.busy": "2024-03-31T00:19:10.656573Z",
     "iopub.status.idle": "2024-03-31T00:19:16.670778Z",
     "shell.execute_reply": "2024-03-31T00:19:16.669116Z"
    },
    "papermill": {
     "duration": 6.112253,
     "end_time": "2024-03-31T00:19:16.673351",
     "exception": false,
     "start_time": "2024-03-31T00:19:10.561098",
     "status": "completed"
    },
    "tags": []
   },
   "outputs": [
    {
     "data": {
      "text/html": [
       "<div><style>\n",
       ".dataframe > thead > tr,\n",
       ".dataframe > tbody > tr {\n",
       "  text-align: right;\n",
       "  white-space: pre-wrap;\n",
       "}\n",
       "</style>\n",
       "<small>shape: (2, 28)</small><table border=\"1\" class=\"dataframe\"><thead><tr><th>user_id</th><th>article_id_fixed</th><th>category</th><th>topics_flatten</th><th>entity_groups_detailed</th><th>PctStrongNegative</th><th>PctStrongNeutral</th><th>PctStrongPositive</th><th>NumArticlesHistory</th><th>MedianReadTime</th><th>MaxReadTime</th><th>TotalReadTime</th><th>MedianScrollPercentage</th><th>MaxScrollPercentage</th><th>MostFrequentWeekday</th><th>MostFrequentHour</th><th>MostFrequentCategory</th><th>PctNotDefaultArticles</th><th>NegativePct</th><th>PositivePct</th><th>NeutralPct</th><th>PRODPct</th><th>EVENTPct</th><th>LOCPct</th><th>ORGPct</th><th>MISCPct</th><th>PERPct</th><th>topics_flatten_idf</th></tr><tr><td>u32</td><td>list[i32]</td><td>list[i64]</td><td>list[str]</td><td>list[list[str]]</td><td>f64</td><td>f64</td><td>f64</td><td>u32</td><td>f32</td><td>f32</td><td>f32</td><td>f32</td><td>f32</td><td>i8</td><td>i8</td><td>i16</td><td>f64</td><td>f64</td><td>f64</td><td>f64</td><td>f64</td><td>f64</td><td>f64</td><td>f64</td><td>f64</td><td>f64</td><td>list[f64]</td></tr></thead><tbody><tr><td>13538</td><td>[9738663, 9738569, … 9769366]</td><td>[565, 572, … 140]</td><td>[&quot;Erotik&quot;, &quot;Livsstil&quot;, … &quot;Personfarlig kriminalitet&quot;]</td><td>[[], [], … [&quot;PER&quot;, &quot;ORG&quot;, &quot;LOC&quot;]]</td><td>0.54792</td><td>0.115732</td><td>0.070524</td><td>582</td><td>6.0</td><td>672.0</td><td>7192.0</td><td>32.0</td><td>100.0</td><td>3</td><td>3</td><td>118</td><td>0.073883</td><td>0.601375</td><td>0.12543</td><td>0.223368</td><td>0.280069</td><td>0.159794</td><td>0.719931</td><td>0.87457</td><td>0.16323</td><td>0.819588</td><td>[0.080458, 0.011595, … 0.122978]</td></tr><tr><td>14241</td><td>[9738557, 9738528, … 9767852]</td><td>[457, 457, … 118]</td><td>[&quot;Livsstil&quot;, &quot;Samfund&quot;, … &quot;Økonomi&quot;]</td><td>[[], [&quot;PER&quot;, &quot;ORG&quot;], … [&quot;PER&quot;, &quot;ORG&quot;]]</td><td>0.541401</td><td>0.146497</td><td>0.057325</td><td>179</td><td>19.0</td><td>1574.0</td><td>7754.0</td><td>100.0</td><td>100.0</td><td>3</td><td>13</td><td>118</td><td>0.139665</td><td>0.553073</td><td>0.094972</td><td>0.22905</td><td>0.206704</td><td>0.106145</td><td>0.681564</td><td>0.810056</td><td>0.162011</td><td>0.776536</td><td>[0.051152, 0.0, … 0.169212]</td></tr></tbody></table></div>"
      ],
      "text/plain": [
       "shape: (2, 28)\n",
       "┌─────────┬────────────┬────────────┬────────────┬───┬──────────┬──────────┬──────────┬────────────┐\n",
       "│ user_id ┆ article_id ┆ category   ┆ topics_fla ┆ … ┆ ORGPct   ┆ MISCPct  ┆ PERPct   ┆ topics_fla │\n",
       "│ ---     ┆ _fixed     ┆ ---        ┆ tten       ┆   ┆ ---      ┆ ---      ┆ ---      ┆ tten_idf   │\n",
       "│ u32     ┆ ---        ┆ list[i64]  ┆ ---        ┆   ┆ f64      ┆ f64      ┆ f64      ┆ ---        │\n",
       "│         ┆ list[i32]  ┆            ┆ list[str]  ┆   ┆          ┆          ┆          ┆ list[f64]  │\n",
       "╞═════════╪════════════╪════════════╪════════════╪═══╪══════════╪══════════╪══════════╪════════════╡\n",
       "│ 13538   ┆ [9738663,  ┆ [565, 572, ┆ [\"Erotik\", ┆ … ┆ 0.87457  ┆ 0.16323  ┆ 0.819588 ┆ [0.080458, │\n",
       "│         ┆ 9738569, … ┆ … 140]     ┆ \"Livsstil\" ┆   ┆          ┆          ┆          ┆ 0.011595,  │\n",
       "│         ┆ 9769366]   ┆            ┆ , …        ┆   ┆          ┆          ┆          ┆ …          │\n",
       "│         ┆            ┆            ┆ \"Person…   ┆   ┆          ┆          ┆          ┆ 0.122978]  │\n",
       "│ 14241   ┆ [9738557,  ┆ [457, 457, ┆ [\"Livsstil ┆ … ┆ 0.810056 ┆ 0.162011 ┆ 0.776536 ┆ [0.051152, │\n",
       "│         ┆ 9738528, … ┆ … 118]     ┆ \",         ┆   ┆          ┆          ┆          ┆ 0.0, …     │\n",
       "│         ┆ 9767852]   ┆            ┆ \"Samfund\", ┆   ┆          ┆          ┆          ┆ 0.169212]  │\n",
       "│         ┆            ┆            ┆ … \"Økono…  ┆   ┆          ┆          ┆          ┆            │\n",
       "└─────────┴────────────┴────────────┴────────────┴───┴──────────┴──────────┴──────────┴────────────┘"
      ]
     },
     "execution_count": 20,
     "metadata": {},
     "output_type": "execute_result"
    }
   ],
   "source": [
    "history_train = history_train.with_columns(\n",
    "    pl.Series(\n",
    "        vectorizer.transform(\n",
    "            history_train.with_columns(pl.col('topics_flatten').list.join(separator=' '))['topics_flatten'].to_list()\n",
    "        ).toarray()\n",
    "    ).alias('topics_flatten_idf')\n",
    ")\n",
    "history_train.head(2)"
   ]
  },
  {
   "cell_type": "code",
   "execution_count": 21,
   "id": "1eaa1a29",
   "metadata": {
    "execution": {
     "iopub.execute_input": "2024-03-31T00:19:16.869044Z",
     "iopub.status.busy": "2024-03-31T00:19:16.868710Z",
     "iopub.status.idle": "2024-03-31T00:20:10.851437Z",
     "shell.execute_reply": "2024-03-31T00:20:10.850583Z"
    },
    "papermill": {
     "duration": 54.083299,
     "end_time": "2024-03-31T00:20:10.853325",
     "exception": false,
     "start_time": "2024-03-31T00:19:16.770026",
     "status": "completed"
    },
    "tags": []
   },
   "outputs": [
    {
     "name": "stderr",
     "output_type": "stream",
     "text": [
      "6996it [00:53, 129.99it/s]                          \n"
     ]
    },
    {
     "data": {
      "text/html": [
       "<div><style>\n",
       ".dataframe > thead > tr,\n",
       ".dataframe > tbody > tr {\n",
       "  text-align: right;\n",
       "  white-space: pre-wrap;\n",
       "}\n",
       "</style>\n",
       "<small>shape: (2, 66)</small><table border=\"1\" class=\"dataframe\"><thead><tr><th>impression_id</th><th>article</th><th>target</th><th>device_type</th><th>read_time</th><th>scroll_percentage</th><th>user_id</th><th>is_sso_user</th><th>gender</th><th>age</th><th>is_subscriber</th><th>trendiness_scores</th><th>weekday</th><th>hour</th><th>premium</th><th>category</th><th>sentiment_score</th><th>sentiment_label</th><th>num_images</th><th>title_len</th><th>subtitle_len</th><th>body_len</th><th>article_delay_days</th><th>article_delay_hours</th><th>Entity_PROD_Present</th><th>Entity_EVENT_Present</th><th>Entity_LOC_Present</th><th>Entity_ORG_Present</th><th>Entity_MISC_Present</th><th>Entity_PER_Present</th><th>last_session_nclicks</th><th>last_session_duration</th><th>mean_prev_sessions_duration</th><th>last_session_time_hour_diff</th><th>is_new_article</th><th>is_already_seen_article</th><th>is_last_session_most_seen_category</th><th>yesterday_category_daily_pct</th><th>PctStrongNegative</th><th>PctStrongNeutral</th><th>PctStrongPositive</th><th>NumArticlesHistory</th><th>MedianReadTime</th><th>MaxReadTime</th><th>TotalReadTime</th><th>MedianScrollPercentage</th><th>MaxScrollPercentage</th><th>MostFrequentWeekday</th><th>MostFrequentHour</th><th>MostFrequentCategory</th><th>PctNotDefaultArticles</th><th>NegativePct</th><th>PositivePct</th><th>NeutralPct</th><th>PRODPct</th><th>EVENTPct</th><th>LOCPct</th><th>ORGPct</th><th>MISCPct</th><th>PERPct</th><th>IsFavouriteCategory</th><th>NumberDifferentCategories</th><th>PctCategoryMatches</th><th>MeanCommonEntities</th><th>MaxCommonEntities</th><th>topics_cosine</th></tr><tr><td>u32</td><td>i32</td><td>i8</td><td>i8</td><td>f32</td><td>f32</td><td>u32</td><td>bool</td><td>i8</td><td>i8</td><td>bool</td><td>i64</td><td>i8</td><td>i8</td><td>bool</td><td>i16</td><td>f32</td><td>str</td><td>u32</td><td>u32</td><td>u32</td><td>u32</td><td>i64</td><td>i64</td><td>bool</td><td>bool</td><td>bool</td><td>bool</td><td>bool</td><td>bool</td><td>u32</td><td>i64</td><td>f64</td><td>i64</td><td>bool</td><td>bool</td><td>bool</td><td>f64</td><td>f64</td><td>f64</td><td>f64</td><td>u32</td><td>f32</td><td>f32</td><td>f32</td><td>f32</td><td>f32</td><td>i8</td><td>i8</td><td>i16</td><td>f64</td><td>f64</td><td>f64</td><td>f64</td><td>f64</td><td>f64</td><td>f64</td><td>f64</td><td>f64</td><td>f64</td><td>bool</td><td>u32</td><td>f64</td><td>f64</td><td>u32</td><td>f32</td></tr></thead><tbody><tr><td>149474</td><td>9778669</td><td>0</td><td>2</td><td>13.0</td><td>null</td><td>139836</td><td>false</td><td>null</td><td>null</td><td>false</td><td>90</td><td>3</td><td>7</td><td>false</td><td>118</td><td>0.9481</td><td>&quot;Negative&quot;</td><td>1</td><td>5</td><td>11</td><td>150</td><td>0</td><td>1</td><td>true</td><td>false</td><td>false</td><td>true</td><td>false</td><td>true</td><td>3</td><td>1</td><td>1.0</td><td>88</td><td>false</td><td>false</td><td>true</td><td>0.275362</td><td>0.631579</td><td>0.210526</td><td>0.0</td><td>19</td><td>11.0</td><td>88.0</td><td>399.0</td><td>47.0</td><td>100.0</td><td>5</td><td>19</td><td>118</td><td>0.052632</td><td>0.736842</td><td>0.0</td><td>0.263158</td><td>0.105263</td><td>0.105263</td><td>0.789474</td><td>0.894737</td><td>0.157895</td><td>0.894737</td><td>true</td><td>5</td><td>0.789474</td><td>1.894737</td><td>3</td><td>0.216486</td></tr><tr><td>149474</td><td>9778728</td><td>0</td><td>2</td><td>13.0</td><td>null</td><td>139836</td><td>false</td><td>null</td><td>null</td><td>false</td><td>335</td><td>3</td><td>7</td><td>false</td><td>142</td><td>0.9654</td><td>&quot;Negative&quot;</td><td>1</td><td>5</td><td>18</td><td>251</td><td>0</td><td>0</td><td>true</td><td>true</td><td>false</td><td>true</td><td>false</td><td>true</td><td>3</td><td>1</td><td>1.0</td><td>88</td><td>false</td><td>false</td><td>false</td><td>0.246377</td><td>0.631579</td><td>0.210526</td><td>0.0</td><td>19</td><td>11.0</td><td>88.0</td><td>399.0</td><td>47.0</td><td>100.0</td><td>5</td><td>19</td><td>118</td><td>0.052632</td><td>0.736842</td><td>0.0</td><td>0.263158</td><td>0.105263</td><td>0.105263</td><td>0.789474</td><td>0.894737</td><td>0.157895</td><td>0.894737</td><td>false</td><td>5</td><td>0.789474</td><td>2.0</td><td>3</td><td>0.212338</td></tr></tbody></table></div>"
      ],
      "text/plain": [
       "shape: (2, 66)\n",
       "┌────────────┬─────────┬────────┬────────────┬───┬────────────┬────────────┬───────────┬───────────┐\n",
       "│ impression ┆ article ┆ target ┆ device_typ ┆ … ┆ PctCategor ┆ MeanCommon ┆ MaxCommon ┆ topics_co │\n",
       "│ _id        ┆ ---     ┆ ---    ┆ e          ┆   ┆ yMatches   ┆ Entities   ┆ Entities  ┆ sine      │\n",
       "│ ---        ┆ i32     ┆ i8     ┆ ---        ┆   ┆ ---        ┆ ---        ┆ ---       ┆ ---       │\n",
       "│ u32        ┆         ┆        ┆ i8         ┆   ┆ f64        ┆ f64        ┆ u32       ┆ f32       │\n",
       "╞════════════╪═════════╪════════╪════════════╪═══╪════════════╪════════════╪═══════════╪═══════════╡\n",
       "│ 149474     ┆ 9778669 ┆ 0      ┆ 2          ┆ … ┆ 0.789474   ┆ 1.894737   ┆ 3         ┆ 0.216486  │\n",
       "│ 149474     ┆ 9778728 ┆ 0      ┆ 2          ┆ … ┆ 0.789474   ┆ 2.0        ┆ 3         ┆ 0.212338  │\n",
       "└────────────┴─────────┴────────┴────────────┴───┴────────────┴────────────┴───────────┴───────────┘"
      ]
     },
     "execution_count": 21,
     "metadata": {},
     "output_type": "execute_result"
    }
   ],
   "source": [
    "def cosine_similarity(x, y):\n",
    "    x = np.array(x)\n",
    "    y = np.array(y)\n",
    "    normalization = np.linalg.norm(x, 2) * np.linalg.norm(y, 2)\n",
    "    return np.dot(x, y) / normalization if normalization > 0 else 0\n",
    "\n",
    "topics_similarity_df = pl.concat(\n",
    "    (\n",
    "        rows.select([\"impression_id\", \"user_id\", \"article\"])\n",
    "            .join(articles.select('article_id', 'topics_idf'), left_on='article', right_on='article_id', how='left')\n",
    "            .join(history_train.select(['user_id', 'topics_flatten_idf']), on=\"user_id\",how=\"left\")\n",
    "            .with_columns(\n",
    "                pl.struct(['topics_idf', 'topics_flatten_idf']).map_elements(\n",
    "                    lambda x: cosine_similarity(x['topics_idf'], x['topics_flatten_idf']), return_dtype=pl.Float64\n",
    "                ).cast(pl.Float32).alias('topics_cosine'),\n",
    "            ).select(['impression_id', 'article', 'topics_cosine'])\n",
    "        for rows in tqdm.tqdm(train_ds.iter_slices(100), total = train_ds.shape[0] // 100)\n",
    "    )\n",
    ")\n",
    "train_ds = train_ds.join(topics_similarity_df, on=['impression_id', 'article'], how='left')\n",
    "train_ds.head(2)"
   ]
  },
  {
   "cell_type": "markdown",
   "id": "89b415a9",
   "metadata": {
    "papermill": {
     "duration": 0.125955,
     "end_time": "2024-03-31T00:20:11.107200",
     "exception": false,
     "start_time": "2024-03-31T00:20:10.981245",
     "status": "completed"
    },
    "tags": []
   },
   "source": [
    "## Topics Jaccard"
   ]
  },
  {
   "cell_type": "code",
   "execution_count": 22,
   "id": "dd2462b5",
   "metadata": {
    "execution": {
     "iopub.execute_input": "2024-03-31T00:20:11.362895Z",
     "iopub.status.busy": "2024-03-31T00:20:11.362290Z",
     "iopub.status.idle": "2024-03-31T00:24:32.800894Z",
     "shell.execute_reply": "2024-03-31T00:24:32.799767Z"
    },
    "papermill": {
     "duration": 261.566828,
     "end_time": "2024-03-31T00:24:32.803418",
     "exception": false,
     "start_time": "2024-03-31T00:20:11.236590",
     "status": "completed"
    },
    "tags": []
   },
   "outputs": [
    {
     "name": "stderr",
     "output_type": "stream",
     "text": [
      "6996it [04:21, 26.78it/s]                          \n"
     ]
    },
    {
     "data": {
      "text/html": [
       "<div><style>\n",
       ".dataframe > thead > tr,\n",
       ".dataframe > tbody > tr {\n",
       "  text-align: right;\n",
       "  white-space: pre-wrap;\n",
       "}\n",
       "</style>\n",
       "<small>shape: (2, 70)</small><table border=\"1\" class=\"dataframe\"><thead><tr><th>impression_id</th><th>article</th><th>target</th><th>device_type</th><th>read_time</th><th>scroll_percentage</th><th>user_id</th><th>is_sso_user</th><th>gender</th><th>age</th><th>is_subscriber</th><th>trendiness_scores</th><th>weekday</th><th>hour</th><th>premium</th><th>category</th><th>sentiment_score</th><th>sentiment_label</th><th>num_images</th><th>title_len</th><th>subtitle_len</th><th>body_len</th><th>article_delay_days</th><th>article_delay_hours</th><th>Entity_PROD_Present</th><th>Entity_EVENT_Present</th><th>Entity_LOC_Present</th><th>Entity_ORG_Present</th><th>Entity_MISC_Present</th><th>Entity_PER_Present</th><th>last_session_nclicks</th><th>last_session_duration</th><th>mean_prev_sessions_duration</th><th>last_session_time_hour_diff</th><th>is_new_article</th><th>is_already_seen_article</th><th>is_last_session_most_seen_category</th><th>yesterday_category_daily_pct</th><th>PctStrongNegative</th><th>PctStrongNeutral</th><th>PctStrongPositive</th><th>NumArticlesHistory</th><th>MedianReadTime</th><th>MaxReadTime</th><th>TotalReadTime</th><th>MedianScrollPercentage</th><th>MaxScrollPercentage</th><th>MostFrequentWeekday</th><th>MostFrequentHour</th><th>MostFrequentCategory</th><th>PctNotDefaultArticles</th><th>NegativePct</th><th>PositivePct</th><th>NeutralPct</th><th>PRODPct</th><th>EVENTPct</th><th>LOCPct</th><th>ORGPct</th><th>MISCPct</th><th>PERPct</th><th>IsFavouriteCategory</th><th>NumberDifferentCategories</th><th>PctCategoryMatches</th><th>MeanCommonEntities</th><th>MaxCommonEntities</th><th>topics_cosine</th><th>mean_JS</th><th>min_JS</th><th>max_JS</th><th>std_JS</th></tr><tr><td>u32</td><td>i32</td><td>i8</td><td>i8</td><td>f32</td><td>f32</td><td>u32</td><td>bool</td><td>i8</td><td>i8</td><td>bool</td><td>i64</td><td>i8</td><td>i8</td><td>bool</td><td>i16</td><td>f32</td><td>str</td><td>u32</td><td>u32</td><td>u32</td><td>u32</td><td>i64</td><td>i64</td><td>bool</td><td>bool</td><td>bool</td><td>bool</td><td>bool</td><td>bool</td><td>u32</td><td>i64</td><td>f64</td><td>i64</td><td>bool</td><td>bool</td><td>bool</td><td>f64</td><td>f64</td><td>f64</td><td>f64</td><td>u32</td><td>f32</td><td>f32</td><td>f32</td><td>f32</td><td>f32</td><td>i8</td><td>i8</td><td>i16</td><td>f64</td><td>f64</td><td>f64</td><td>f64</td><td>f64</td><td>f64</td><td>f64</td><td>f64</td><td>f64</td><td>f64</td><td>bool</td><td>u32</td><td>f64</td><td>f64</td><td>u32</td><td>f32</td><td>f64</td><td>f64</td><td>f64</td><td>f64</td></tr></thead><tbody><tr><td>149474</td><td>9778669</td><td>0</td><td>2</td><td>13.0</td><td>null</td><td>139836</td><td>false</td><td>null</td><td>null</td><td>false</td><td>90</td><td>3</td><td>7</td><td>false</td><td>118</td><td>0.9481</td><td>&quot;Negative&quot;</td><td>1</td><td>5</td><td>11</td><td>150</td><td>0</td><td>1</td><td>true</td><td>false</td><td>false</td><td>true</td><td>false</td><td>true</td><td>3</td><td>1</td><td>1.0</td><td>88</td><td>false</td><td>false</td><td>true</td><td>0.275362</td><td>0.631579</td><td>0.210526</td><td>0.0</td><td>19</td><td>11.0</td><td>88.0</td><td>399.0</td><td>47.0</td><td>100.0</td><td>5</td><td>19</td><td>118</td><td>0.052632</td><td>0.736842</td><td>0.0</td><td>0.263158</td><td>0.105263</td><td>0.105263</td><td>0.789474</td><td>0.894737</td><td>0.157895</td><td>0.894737</td><td>true</td><td>5</td><td>0.789474</td><td>1.894737</td><td>3</td><td>0.216486</td><td>0.085526</td><td>0.0</td><td>0.6</td><td>0.170236</td></tr><tr><td>149474</td><td>9778728</td><td>0</td><td>2</td><td>13.0</td><td>null</td><td>139836</td><td>false</td><td>null</td><td>null</td><td>false</td><td>335</td><td>3</td><td>7</td><td>false</td><td>142</td><td>0.9654</td><td>&quot;Negative&quot;</td><td>1</td><td>5</td><td>18</td><td>251</td><td>0</td><td>0</td><td>true</td><td>true</td><td>false</td><td>true</td><td>false</td><td>true</td><td>3</td><td>1</td><td>1.0</td><td>88</td><td>false</td><td>false</td><td>false</td><td>0.246377</td><td>0.631579</td><td>0.210526</td><td>0.0</td><td>19</td><td>11.0</td><td>88.0</td><td>399.0</td><td>47.0</td><td>100.0</td><td>5</td><td>19</td><td>118</td><td>0.052632</td><td>0.736842</td><td>0.0</td><td>0.263158</td><td>0.105263</td><td>0.105263</td><td>0.789474</td><td>0.894737</td><td>0.157895</td><td>0.894737</td><td>false</td><td>5</td><td>0.789474</td><td>2.0</td><td>3</td><td>0.212338</td><td>0.076382</td><td>0.0</td><td>0.375</td><td>0.108557</td></tr></tbody></table></div>"
      ],
      "text/plain": [
       "shape: (2, 70)\n",
       "┌───────────────┬─────────┬────────┬─────────────┬───┬──────────┬────────┬────────┬──────────┐\n",
       "│ impression_id ┆ article ┆ target ┆ device_type ┆ … ┆ mean_JS  ┆ min_JS ┆ max_JS ┆ std_JS   │\n",
       "│ ---           ┆ ---     ┆ ---    ┆ ---         ┆   ┆ ---      ┆ ---    ┆ ---    ┆ ---      │\n",
       "│ u32           ┆ i32     ┆ i8     ┆ i8          ┆   ┆ f64      ┆ f64    ┆ f64    ┆ f64      │\n",
       "╞═══════════════╪═════════╪════════╪═════════════╪═══╪══════════╪════════╪════════╪══════════╡\n",
       "│ 149474        ┆ 9778669 ┆ 0      ┆ 2           ┆ … ┆ 0.085526 ┆ 0.0    ┆ 0.6    ┆ 0.170236 │\n",
       "│ 149474        ┆ 9778728 ┆ 0      ┆ 2           ┆ … ┆ 0.076382 ┆ 0.0    ┆ 0.375  ┆ 0.108557 │\n",
       "└───────────────┴─────────┴────────┴─────────────┴───┴──────────┴────────┴────────┴──────────┘"
      ]
     },
     "execution_count": 22,
     "metadata": {},
     "output_type": "execute_result"
    }
   ],
   "source": [
    "train_ds = add_features_JS_history_topics(train_ds, articles, history_train)\n",
    "train_ds.head(2)"
   ]
  },
  {
   "cell_type": "code",
   "execution_count": 23,
   "id": "5b666f6d",
   "metadata": {
    "execution": {
     "iopub.execute_input": "2024-03-31T00:24:33.382350Z",
     "iopub.status.busy": "2024-03-31T00:24:33.381772Z",
     "iopub.status.idle": "2024-03-31T00:24:33.387805Z",
     "shell.execute_reply": "2024-03-31T00:24:33.386605Z"
    },
    "papermill": {
     "duration": 0.262892,
     "end_time": "2024-03-31T00:24:33.390038",
     "exception": false,
     "start_time": "2024-03-31T00:24:33.127146",
     "status": "completed"
    },
    "tags": []
   },
   "outputs": [
    {
     "data": {
      "text/plain": [
       "(699537, 70)"
      ]
     },
     "execution_count": 23,
     "metadata": {},
     "output_type": "execute_result"
    }
   ],
   "source": [
    "train_ds.shape"
   ]
  },
  {
   "cell_type": "markdown",
   "id": "92452821",
   "metadata": {
    "papermill": {
     "duration": 0.253851,
     "end_time": "2024-03-31T00:24:33.901681",
     "exception": false,
     "start_time": "2024-03-31T00:24:33.647830",
     "status": "completed"
    },
    "tags": []
   },
   "source": [
    "# Training"
   ]
  },
  {
   "cell_type": "code",
   "execution_count": 24,
   "id": "890da2fb",
   "metadata": {
    "execution": {
     "iopub.execute_input": "2024-03-31T00:24:34.417859Z",
     "iopub.status.busy": "2024-03-31T00:24:34.417395Z",
     "iopub.status.idle": "2024-03-31T00:24:34.752971Z",
     "shell.execute_reply": "2024-03-31T00:24:34.751507Z"
    },
    "papermill": {
     "duration": 0.596442,
     "end_time": "2024-03-31T00:24:34.755354",
     "exception": false,
     "start_time": "2024-03-31T00:24:34.158912",
     "status": "completed"
    },
    "tags": []
   },
   "outputs": [],
   "source": [
    "train_ds = train_ds.with_columns(\n",
    "    pl.col('gender').fill_null(2),\n",
    ")\n",
    "train_ds = train_ds.drop(['impression_id', 'article', 'user_id']).to_pandas()\n",
    "\n",
    "categorical_columns = ['device_type', 'is_sso_user', 'gender', 'is_subscriber', 'weekday',\n",
    "                       'premium', 'category', 'sentiment_label', 'is_new_article', 'is_already_seen_article',\n",
    "                       'MostFrequentCategory', 'MostFrequentWeekday', 'IsFavouriteCategory',\n",
    "                       'is_last_session_most_seen_category']\n",
    "categorical_columns += [f'Entity_{entity}_Present' for entity in unique_entities]\n",
    "train_ds[categorical_columns] = train_ds[categorical_columns].astype('category')\n",
    "\n",
    "X = train_ds.drop(columns=['target'])\n",
    "y = train_ds['target']"
   ]
  },
  {
   "cell_type": "code",
   "execution_count": 25,
   "id": "12280b3d",
   "metadata": {
    "execution": {
     "iopub.execute_input": "2024-03-31T00:24:35.341847Z",
     "iopub.status.busy": "2024-03-31T00:24:35.341520Z",
     "iopub.status.idle": "2024-03-31T00:30:54.445122Z",
     "shell.execute_reply": "2024-03-31T00:30:54.443946Z"
    },
    "papermill": {
     "duration": 379.633884,
     "end_time": "2024-03-31T00:30:54.645862",
     "exception": false,
     "start_time": "2024-03-31T00:24:35.011978",
     "status": "completed"
    },
    "tags": []
   },
   "outputs": [
    {
     "name": "stdout",
     "output_type": "stream",
     "text": [
      "Learning rate set to 0.318943\n",
      "0:\tlearn: 0.6263212\ttotal: 874ms\tremaining: 7m 16s\n",
      "25:\tlearn: 0.5486908\ttotal: 19.2s\tremaining: 5m 49s\n",
      "50:\tlearn: 0.5387040\ttotal: 37.6s\tremaining: 5m 31s\n",
      "75:\tlearn: 0.5322254\ttotal: 56.6s\tremaining: 5m 15s\n",
      "100:\tlearn: 0.5276554\ttotal: 1m 15s\tremaining: 4m 58s\n",
      "125:\tlearn: 0.5239835\ttotal: 1m 34s\tremaining: 4m 41s\n",
      "150:\tlearn: 0.5209188\ttotal: 1m 53s\tremaining: 4m 22s\n",
      "175:\tlearn: 0.5182621\ttotal: 2m 13s\tremaining: 4m 4s\n",
      "200:\tlearn: 0.5159430\ttotal: 2m 31s\tremaining: 3m 45s\n",
      "225:\tlearn: 0.5138203\ttotal: 2m 51s\tremaining: 3m 27s\n",
      "250:\tlearn: 0.5121444\ttotal: 3m 10s\tremaining: 3m 8s\n",
      "275:\tlearn: 0.5104453\ttotal: 3m 29s\tremaining: 2m 49s\n",
      "300:\tlearn: 0.5086765\ttotal: 3m 47s\tremaining: 2m 30s\n",
      "325:\tlearn: 0.5071206\ttotal: 4m 6s\tremaining: 2m 11s\n",
      "350:\tlearn: 0.5055070\ttotal: 4m 25s\tremaining: 1m 52s\n",
      "375:\tlearn: 0.5042626\ttotal: 4m 43s\tremaining: 1m 33s\n",
      "400:\tlearn: 0.5029718\ttotal: 5m 2s\tremaining: 1m 14s\n",
      "425:\tlearn: 0.5017294\ttotal: 5m 21s\tremaining: 55.8s\n",
      "450:\tlearn: 0.5004867\ttotal: 5m 40s\tremaining: 37s\n",
      "475:\tlearn: 0.4991942\ttotal: 5m 59s\tremaining: 18.1s\n",
      "499:\tlearn: 0.4980176\ttotal: 6m 17s\tremaining: 0us\n"
     ]
    },
    {
     "data": {
      "text/plain": [
       "<catboost.core.CatBoostClassifier at 0x7c1bfdf34100>"
      ]
     },
     "execution_count": 25,
     "metadata": {},
     "output_type": "execute_result"
    }
   ],
   "source": [
    "# just a simple model to be able to run an evaluation\n",
    "model = CatBoostClassifier(cat_features=categorical_columns, iterations=500)\n",
    "\n",
    "model.fit(X, y, verbose=25)"
   ]
  },
  {
   "cell_type": "code",
   "execution_count": 26,
   "id": "1f4238fc",
   "metadata": {
    "execution": {
     "iopub.execute_input": "2024-03-31T00:30:55.158414Z",
     "iopub.status.busy": "2024-03-31T00:30:55.157995Z",
     "iopub.status.idle": "2024-03-31T00:30:59.876029Z",
     "shell.execute_reply": "2024-03-31T00:30:59.873112Z"
    },
    "papermill": {
     "duration": 4.974402,
     "end_time": "2024-03-31T00:30:59.878479",
     "exception": false,
     "start_time": "2024-03-31T00:30:54.904077",
     "status": "completed"
    },
    "tags": []
   },
   "outputs": [
    {
     "name": "stdout",
     "output_type": "stream",
     "text": [
      "CPU times: user 4.77 s, sys: 27.2 ms, total: 4.8 s\n",
      "Wall time: 4.71 s\n"
     ]
    }
   ],
   "source": [
    "%%time\n",
    "\n",
    "from catboost import Pool\n",
    "\n",
    "train_pool = Pool(X, y, cat_features=categorical_columns)\n",
    "feature_importances = model.get_feature_importance(train_pool)"
   ]
  },
  {
   "cell_type": "code",
   "execution_count": 27,
   "id": "d8f67007",
   "metadata": {
    "execution": {
     "iopub.execute_input": "2024-03-31T00:31:00.401529Z",
     "iopub.status.busy": "2024-03-31T00:31:00.400895Z",
     "iopub.status.idle": "2024-03-31T00:31:01.317368Z",
     "shell.execute_reply": "2024-03-31T00:31:01.316161Z"
    },
    "papermill": {
     "duration": 1.178876,
     "end_time": "2024-03-31T00:31:01.319774",
     "exception": false,
     "start_time": "2024-03-31T00:31:00.140898",
     "status": "completed"
    },
    "tags": []
   },
   "outputs": [
    {
     "data": {
      "text/plain": [
       "Text(0.5, 1.0, 'Catboost Feature Importances')"
      ]
     },
     "execution_count": 27,
     "metadata": {},
     "output_type": "execute_result"
    },
    {
     "data": {
      "image/png": "[encoded data removed]",
      "text/plain": [
       "<Figure size 1000x1000 with 1 Axes>"
      ]
     },
     "metadata": {},
     "output_type": "display_data"
    }
   ],
   "source": [
    "sorted_importances = np.argsort(feature_importances)[::-1]\n",
    "\n",
    "plt.figure(figsize=(10, 10))\n",
    "sns.barplot(x=feature_importances[sorted_importances], y=np.array(X.columns)[sorted_importances])\n",
    "plt.xlabel('Feature Importance')\n",
    "plt.ylabel('Feature Name')\n",
    "plt.title('Catboost Feature Importances')"
   ]
  },
  {
   "cell_type": "code",
   "execution_count": 28,
   "id": "d2e6de09",
   "metadata": {
    "execution": {
     "iopub.execute_input": "2024-03-31T00:31:01.833368Z",
     "iopub.status.busy": "2024-03-31T00:31:01.833065Z",
     "iopub.status.idle": "2024-03-31T00:31:01.998630Z",
     "shell.execute_reply": "2024-03-31T00:31:01.997408Z"
    },
    "papermill": {
     "duration": 0.424104,
     "end_time": "2024-03-31T00:31:02.000853",
     "exception": false,
     "start_time": "2024-03-31T00:31:01.576749",
     "status": "completed"
    },
    "tags": []
   },
   "outputs": [
    {
     "data": {
      "text/plain": [
       "30"
      ]
     },
     "execution_count": 28,
     "metadata": {},
     "output_type": "execute_result"
    }
   ],
   "source": [
    "del history_train\n",
    "del train_ds\n",
    "del behaviors_train\n",
    "gc.collect()"
   ]
  },
  {
   "cell_type": "markdown",
   "id": "39cc2b62",
   "metadata": {
    "papermill": {
     "duration": 0.25905,
     "end_time": "2024-03-31T00:31:02.588277",
     "exception": false,
     "start_time": "2024-03-31T00:31:02.329227",
     "status": "completed"
    },
    "tags": []
   },
   "source": [
    "# Model Evaluation"
   ]
  },
  {
   "cell_type": "code",
   "execution_count": 29,
   "id": "a5f1c37e",
   "metadata": {
    "execution": {
     "iopub.execute_input": "2024-03-31T00:31:03.108193Z",
     "iopub.status.busy": "2024-03-31T00:31:03.107905Z",
     "iopub.status.idle": "2024-03-31T00:31:55.125976Z",
     "shell.execute_reply": "2024-03-31T00:31:55.125055Z"
    },
    "papermill": {
     "duration": 52.280777,
     "end_time": "2024-03-31T00:31:55.128184",
     "exception": false,
     "start_time": "2024-03-31T00:31:02.847407",
     "status": "completed"
    },
    "tags": []
   },
   "outputs": [],
   "source": [
    "last_history_df = history_val.with_columns(\n",
    "    pl.col('impression_time_fixed').list.max().alias('last_history_impression_time'),\n",
    ").select(['user_id', 'last_history_impression_time', 'article_id_fixed'])\n",
    "\n",
    "last_session_time_df = behaviors_val.select(['session_id', 'user_id', 'impression_time', 'article_ids_inview', 'article_ids_clicked']) \\\n",
    "    .explode('article_ids_clicked') \\\n",
    "    .join(articles.select(['article_id', 'category']), left_on='article_ids_clicked', right_on='article_id', how='left') \\\n",
    "    .with_columns(\n",
    "        # this is needed to the .flatten() that is done after\n",
    "        pl.col('category').cast(pl.List(pl.Int64))\n",
    "    ).group_by('session_id').agg(\n",
    "        pl.col('user_id').first(), \n",
    "        pl.col('impression_time').max(), \n",
    "        pl.col('article_ids_inview').flatten().alias('all_seen_articles'),\n",
    "        (pl.col('impression_time').max() - pl.col('impression_time').min()).dt.total_minutes().alias('session_duration'),\n",
    "        pl.col('article_ids_clicked').count().alias('nclicks'),\n",
    "        pl.col('category').flatten().alias('all_categories'),\n",
    "    ).with_columns(\n",
    "        pl.col('all_categories').map_elements(lambda x: stats.mode(x)[0], return_dtype=pl.Int64).alias('most_freq_category')\n",
    "    ).group_by('user_id').map_groups(\n",
    "        lambda user_impressions: user_impressions.sort('impression_time').with_columns(\n",
    "            pl.col('impression_time').shift(1).alias('last_session_time'),\n",
    "            pl.col('nclicks').shift(1).fill_null(0).alias('last_session_nclicks'),\n",
    "            pl.col('session_duration').shift(1).fill_null(0).alias('last_session_duration'),\n",
    "            pl.col('session_duration').rolling_mean(100, min_periods=1).alias('mean_prev_sessions_duration'),\n",
    "            pl.col('most_freq_category').shift(1).alias('last_session_most_seen_category'),\n",
    "            pl.col('all_seen_articles').list.unique().shift(1),\n",
    "        )\n",
    "    ).join(last_history_df, on='user_id', how='left') \\\n",
    "    .with_columns(\n",
    "        pl.col('last_session_time').fill_null(pl.col('last_history_impression_time')),\n",
    "        pl.col('all_seen_articles').fill_null(pl.col('article_id_fixed')),\n",
    "    ).select(['session_id', 'last_session_time', 'last_session_nclicks', 'last_session_most_seen_category',\n",
    "              'last_session_duration', 'all_seen_articles', 'mean_prev_sessions_duration'])"
   ]
  },
  {
   "cell_type": "code",
   "execution_count": 30,
   "id": "052db06c",
   "metadata": {
    "execution": {
     "iopub.execute_input": "2024-03-31T00:31:55.648923Z",
     "iopub.status.busy": "2024-03-31T00:31:55.648116Z",
     "iopub.status.idle": "2024-03-31T00:34:44.696360Z",
     "shell.execute_reply": "2024-03-31T00:34:44.694811Z"
    },
    "papermill": {
     "duration": 169.599386,
     "end_time": "2024-03-31T00:34:44.985282",
     "exception": false,
     "start_time": "2024-03-31T00:31:55.385896",
     "status": "completed"
    },
    "tags": []
   },
   "outputs": [
    {
     "data": {
      "application/vnd.jupyter.widget-view+json": {
       "model_id": "16c051f2b11043aa994548849d0b91bb",
       "version_major": 2,
       "version_minor": 0
      },
      "text/plain": [
       "Output()"
      ]
     },
     "metadata": {},
     "output_type": "display_data"
    },
    {
     "data": {
      "text/html": [
       "<pre style=\"white-space:pre;overflow-x:auto;line-height:normal;font-family:Menlo,'DejaVu Sans Mono',consolas,'Courier New',monospace\"></pre>\n"
      ],
      "text/plain": []
     },
     "metadata": {},
     "output_type": "display_data"
    },
    {
     "data": {
      "text/html": [
       "<pre style=\"white-space:pre;overflow-x:auto;line-height:normal;font-family:Menlo,'DejaVu Sans Mono',consolas,'Courier New',monospace\">\n",
       "</pre>\n"
      ],
      "text/plain": [
       "\n"
      ]
     },
     "metadata": {},
     "output_type": "display_data"
    },
    {
     "name": "stdout",
     "output_type": "stream",
     "text": [
      "CPU times: user 3min 42s, sys: 20.7 s, total: 4min 3s\n",
      "Wall time: 2min 49s\n"
     ]
    },
    {
     "data": {
      "text/html": [
       "<div><style>\n",
       ".dataframe > thead > tr,\n",
       ".dataframe > tbody > tr {\n",
       "  text-align: right;\n",
       "  white-space: pre-wrap;\n",
       "}\n",
       "</style>\n",
       "<small>shape: (2, 27)</small><table border=\"1\" class=\"dataframe\"><thead><tr><th>user_id</th><th>article_id_fixed</th><th>category</th><th>topics_flatten</th><th>entity_groups_detailed</th><th>PctStrongNegative</th><th>PctStrongNeutral</th><th>PctStrongPositive</th><th>NumArticlesHistory</th><th>MedianReadTime</th><th>MaxReadTime</th><th>TotalReadTime</th><th>MedianScrollPercentage</th><th>MaxScrollPercentage</th><th>MostFrequentWeekday</th><th>MostFrequentHour</th><th>MostFrequentCategory</th><th>PctNotDefaultArticles</th><th>NegativePct</th><th>PositivePct</th><th>NeutralPct</th><th>PRODPct</th><th>EVENTPct</th><th>LOCPct</th><th>ORGPct</th><th>MISCPct</th><th>PERPct</th></tr><tr><td>u32</td><td>list[i32]</td><td>list[i64]</td><td>list[str]</td><td>list[list[str]]</td><td>f64</td><td>f64</td><td>f64</td><td>u32</td><td>f32</td><td>f32</td><td>f32</td><td>f32</td><td>f32</td><td>i8</td><td>i8</td><td>i16</td><td>f64</td><td>f64</td><td>f64</td><td>f64</td><td>f64</td><td>f64</td><td>f64</td><td>f64</td><td>f64</td><td>f64</td></tr></thead><tbody><tr><td>14241</td><td>[9578072, 9749349, … 9779289]</td><td>[457, 457, … 118]</td><td>[&quot;Erhverv&quot;, &quot;Livsstil&quot;, … &quot;International politik&quot;]</td><td>[[], [&quot;ORG&quot;, &quot;PER&quot;], … [&quot;ORG&quot;, &quot;LOC&quot;, &quot;PER&quot;]]</td><td>0.524476</td><td>0.167832</td><td>0.055944</td><td>161</td><td>18.0</td><td>1574.0</td><td>7608.0</td><td>98.0</td><td>100.0</td><td>3</td><td>13</td><td>118</td><td>0.130435</td><td>0.52795</td><td>0.10559</td><td>0.254658</td><td>0.180124</td><td>0.099379</td><td>0.701863</td><td>0.801242</td><td>0.136646</td><td>0.763975</td></tr><tr><td>20396</td><td>[9748482, 9748916, … 9779489]</td><td>[140, 414, … 140]</td><td>[&quot;Mindre ulykke&quot;, &quot;Katastrofe&quot;, … &quot;Personfarlig kriminalitet&quot;]</td><td>[[&quot;PER&quot;, &quot;ORG&quot;, &quot;LOC&quot;], [&quot;ORG&quot;, &quot;LOC&quot;, … &quot;PER&quot;], … [&quot;ORG&quot;, &quot;LOC&quot;, &quot;PER&quot;]]</td><td>0.459016</td><td>0.180328</td><td>0.081967</td><td>74</td><td>40.5</td><td>1278.0</td><td>5406.0</td><td>100.0</td><td>100.0</td><td>7</td><td>15</td><td>414</td><td>0.22973</td><td>0.459459</td><td>0.121622</td><td>0.243243</td><td>0.256757</td><td>0.121622</td><td>0.648649</td><td>0.783784</td><td>0.216216</td><td>0.756757</td></tr></tbody></table></div>"
      ],
      "text/plain": [
       "shape: (2, 27)\n",
       "┌─────────┬─────────────┬─────────────┬────────────┬───┬──────────┬──────────┬──────────┬──────────┐\n",
       "│ user_id ┆ article_id_ ┆ category    ┆ topics_fla ┆ … ┆ LOCPct   ┆ ORGPct   ┆ MISCPct  ┆ PERPct   │\n",
       "│ ---     ┆ fixed       ┆ ---         ┆ tten       ┆   ┆ ---      ┆ ---      ┆ ---      ┆ ---      │\n",
       "│ u32     ┆ ---         ┆ list[i64]   ┆ ---        ┆   ┆ f64      ┆ f64      ┆ f64      ┆ f64      │\n",
       "│         ┆ list[i32]   ┆             ┆ list[str]  ┆   ┆          ┆          ┆          ┆          │\n",
       "╞═════════╪═════════════╪═════════════╪════════════╪═══╪══════════╪══════════╪══════════╪══════════╡\n",
       "│ 14241   ┆ [9578072,   ┆ [457, 457,  ┆ [\"Erhverv\" ┆ … ┆ 0.701863 ┆ 0.801242 ┆ 0.136646 ┆ 0.763975 │\n",
       "│         ┆ 9749349, …  ┆ … 118]      ┆ , \"Livssti ┆   ┆          ┆          ┆          ┆          │\n",
       "│         ┆ 9779289]    ┆             ┆ l\", …      ┆   ┆          ┆          ┆          ┆          │\n",
       "│         ┆             ┆             ┆ \"Inter…    ┆   ┆          ┆          ┆          ┆          │\n",
       "│ 20396   ┆ [9748482,   ┆ [140, 414,  ┆ [\"Mindre   ┆ … ┆ 0.648649 ┆ 0.783784 ┆ 0.216216 ┆ 0.756757 │\n",
       "│         ┆ 9748916, …  ┆ … 140]      ┆ ulykke\",   ┆   ┆          ┆          ┆          ┆          │\n",
       "│         ┆ 9779489]    ┆             ┆ \"Katastrof ┆   ┆          ┆          ┆          ┆          │\n",
       "│         ┆             ┆             ┆ e\", …      ┆   ┆          ┆          ┆          ┆          │\n",
       "└─────────┴─────────────┴─────────────┴────────────┴───┴──────────┴──────────┴──────────┴──────────┘"
      ]
     },
     "execution_count": 30,
     "metadata": {},
     "output_type": "execute_result"
    }
   ],
   "source": [
    "%%time\n",
    "\n",
    "columns = ['category', 'article_type', 'sentiment_label', 'sentiment_score']\n",
    "return_dtypes = [pl.Int64, pl.String, pl.String, pl.Float64]\n",
    "with Progress() as progress: \n",
    "    \n",
    "    tasks = {}\n",
    "    for col in columns:\n",
    "        tasks[col] = progress.add_task(f\"Getting {col}\", total=history_val.shape[0])\n",
    "    tasks['entity_groups'] = progress.add_task(\"Getting entity_groups\", total=history_val.shape[0])\n",
    "    tasks['entity_groups_detailed'] = progress.add_task(\"Getting detailed entity_groups\", total=history_val.shape[0])\n",
    "    tasks['topics'] = progress.add_task(\"Getting topics\", total=history_val.shape[0])\n",
    "\n",
    "    history_val = history_val.with_columns(\n",
    "        [pl.col('article_id_fixed').map_elements(get_single_feature_function(col, tasks[col]), \n",
    "                                                 return_dtype=pl.List(dtype)).alias(col)\n",
    "         for col, dtype in zip(columns, return_dtypes)] + \\\n",
    "        [pl.col('article_id_fixed').map_elements(get_unique_list_exploded_feature_function('entity_groups', tasks['entity_groups']), \n",
    "                                                 return_dtype=pl.List(pl.String)).alias('entity_groups'),\n",
    "         pl.col('article_id_fixed').map_elements(get_unique_list_exploded_feature_function('topics', tasks['topics']), \n",
    "                                                 return_dtype=pl.List(pl.String)).alias('topics_flatten'),\n",
    "         pl.col('article_id_fixed').map_elements(get_unique_list_feature_function('entity_groups', tasks['entity_groups_detailed']), \n",
    "                                                 return_dtype=pl.List(pl.List(pl.String))).alias('entity_groups_detailed')]\n",
    "    )\n",
    "    \n",
    "history_val = history_val.with_columns(\n",
    "    pl.struct(['sentiment_label', 'sentiment_score']).map_elements(\n",
    "        lambda x: sentiment_score_strong_pct(x['sentiment_label'], x['sentiment_score'], 'Negative')\n",
    "    ).alias('PctStrongNegative'),\n",
    "    pl.struct(['sentiment_label', 'sentiment_score']).map_elements(\n",
    "        lambda x: sentiment_score_strong_pct(x['sentiment_label'], x['sentiment_score'], 'Neutral')\n",
    "    ).alias('PctStrongNeutral'),\n",
    "    pl.struct(['sentiment_label', 'sentiment_score']).map_elements(\n",
    "        lambda x: sentiment_score_strong_pct(x['sentiment_label'], x['sentiment_score'], 'Positive')\n",
    "    ).alias('PctStrongPositive')\n",
    ").with_columns(\n",
    "    pl.col('read_time_fixed').list.len().alias('NumArticlesHistory'),\n",
    "    pl.col('read_time_fixed').list.median().alias('MedianReadTime'),\n",
    "    pl.col('read_time_fixed').list.max().alias('MaxReadTime'),\n",
    "    pl.col('read_time_fixed').list.sum().alias('TotalReadTime'),\n",
    "    pl.col('scroll_percentage_fixed').list.median().alias('MedianScrollPercentage'),\n",
    "    pl.col('scroll_percentage_fixed').list.max().alias('MaxScrollPercentage'),\n",
    "    pl.col('impression_time_fixed').list.eval(pl.element().dt.weekday()).alias('weekdays'),\n",
    "    pl.col('impression_time_fixed').list.eval(pl.element().dt.hour()).alias('hours'),\n",
    ").with_columns(\n",
    "    pl.col('weekdays').map_elements(lambda x: stats.mode(x)[0], return_dtype=pl.Int64).cast(pl.Int8).alias('MostFrequentWeekday'),\n",
    "    pl.col('hours').map_elements(lambda x: stats.mode(x)[0], return_dtype=pl.Int64).cast(pl.Int8).alias('MostFrequentHour'),\n",
    "    pl.col('category').map_elements(lambda x: stats.mode(x)[0], return_dtype=pl.Int64).cast(pl.Int16).alias('MostFrequentCategory'),\n",
    "    (1 - (pl.col('article_type').list.count_matches('article_default') / pl.col('NumArticlesHistory'))).alias('PctNotDefaultArticles'),\n",
    "    (pl.col('sentiment_label').list.count_matches('Negative') / pl.col('NumArticlesHistory')).alias('NegativePct'),\n",
    "    (pl.col('sentiment_label').list.count_matches('Positive') / pl.col('NumArticlesHistory')).alias('PositivePct'),\n",
    "    (pl.col('sentiment_label').list.count_matches('Neutral') / pl.col('NumArticlesHistory')).alias('NeutralPct'),\n",
    ").drop(\n",
    "    ['read_time_fixed', 'scroll_percentage_fixed', 'impression_time_fixed', \n",
    "     'weekdays', 'hours', 'sentiment_label', 'sentiment_score', 'article_type']\n",
    ").with_columns(\n",
    "    (pl.col('entity_groups').list.count_matches(entity) / pl.col('NumArticlesHistory')).alias(f'{entity}Pct')\n",
    "    for entity in unique_entities\n",
    ").drop('entity_groups')\n",
    "\n",
    "history_val.head(2)"
   ]
  },
  {
   "cell_type": "code",
   "execution_count": 31,
   "id": "2d448db1",
   "metadata": {
    "execution": {
     "iopub.execute_input": "2024-03-31T00:34:48.077569Z",
     "iopub.status.busy": "2024-03-31T00:34:48.077204Z",
     "iopub.status.idle": "2024-03-31T00:53:24.788816Z",
     "shell.execute_reply": "2024-03-31T00:53:24.787184Z"
    },
    "papermill": {
     "duration": 1119.902585,
     "end_time": "2024-03-31T00:53:25.181963",
     "exception": false,
     "start_time": "2024-03-31T00:34:45.279378",
     "status": "completed"
    },
    "tags": []
   },
   "outputs": [
    {
     "data": {
      "text/html": [
       "<div><style>\n",
       ".dataframe > thead > tr,\n",
       ".dataframe > tbody > tr {\n",
       "  text-align: right;\n",
       "  white-space: pre-wrap;\n",
       "}\n",
       "</style>\n",
       "<small>shape: (2, 64)</small><table border=\"1\" class=\"dataframe\"><thead><tr><th>impression_id</th><th>article</th><th>target</th><th>device_type</th><th>read_time</th><th>scroll_percentage</th><th>user_id</th><th>is_sso_user</th><th>gender</th><th>age</th><th>is_subscriber</th><th>trendiness_scores</th><th>weekday</th><th>hour</th><th>premium</th><th>category</th><th>sentiment_score</th><th>sentiment_label</th><th>entity_groups</th><th>num_images</th><th>title_len</th><th>subtitle_len</th><th>body_len</th><th>article_delay_days</th><th>article_delay_hours</th><th>Entity_PROD_Present</th><th>Entity_EVENT_Present</th><th>Entity_LOC_Present</th><th>Entity_ORG_Present</th><th>Entity_MISC_Present</th><th>Entity_PER_Present</th><th>last_session_nclicks</th><th>last_session_duration</th><th>mean_prev_sessions_duration</th><th>last_session_time_hour_diff</th><th>is_new_article</th><th>is_already_seen_article</th><th>is_last_session_most_seen_category</th><th>yesterday_category_daily_pct</th><th>PctStrongNegative</th><th>PctStrongNeutral</th><th>PctStrongPositive</th><th>NumArticlesHistory</th><th>MedianReadTime</th><th>MaxReadTime</th><th>TotalReadTime</th><th>MedianScrollPercentage</th><th>MaxScrollPercentage</th><th>MostFrequentWeekday</th><th>MostFrequentHour</th><th>MostFrequentCategory</th><th>PctNotDefaultArticles</th><th>NegativePct</th><th>PositivePct</th><th>NeutralPct</th><th>PRODPct</th><th>EVENTPct</th><th>LOCPct</th><th>ORGPct</th><th>MISCPct</th><th>PERPct</th><th>IsFavouriteCategory</th><th>NumberDifferentCategories</th><th>PctCategoryMatches</th></tr><tr><td>u32</td><td>i32</td><td>i8</td><td>i8</td><td>f32</td><td>f32</td><td>u32</td><td>bool</td><td>i8</td><td>i8</td><td>bool</td><td>i64</td><td>i8</td><td>i8</td><td>bool</td><td>i16</td><td>f32</td><td>str</td><td>list[str]</td><td>u32</td><td>u32</td><td>u32</td><td>u32</td><td>i64</td><td>i64</td><td>bool</td><td>bool</td><td>bool</td><td>bool</td><td>bool</td><td>bool</td><td>u32</td><td>i64</td><td>f64</td><td>i64</td><td>bool</td><td>bool</td><td>bool</td><td>f64</td><td>f64</td><td>f64</td><td>f64</td><td>u32</td><td>f32</td><td>f32</td><td>f32</td><td>f32</td><td>f32</td><td>i8</td><td>i8</td><td>i16</td><td>f64</td><td>f64</td><td>f64</td><td>f64</td><td>f64</td><td>f64</td><td>f64</td><td>f64</td><td>f64</td><td>f64</td><td>bool</td><td>u32</td><td>f64</td></tr></thead><tbody><tr><td>96791</td><td>9783865</td><td>0</td><td>2</td><td>9.0</td><td>null</td><td>22548</td><td>false</td><td>null</td><td>null</td><td>false</td><td>218</td><td>7</td><td>4</td><td>false</td><td>498</td><td>0.9793</td><td>&quot;Negative&quot;</td><td>[&quot;PROD&quot;, &quot;PER&quot;, … &quot;ORG&quot;]</td><td>1</td><td>3</td><td>13</td><td>283</td><td>0</td><td>6</td><td>true</td><td>true</td><td>true</td><td>true</td><td>false</td><td>true</td><td>1</td><td>0</td><td>3.5</td><td>12</td><td>false</td><td>false</td><td>false</td><td>0.0625</td><td>0.503937</td><td>0.11811</td><td>0.094488</td><td>130</td><td>16.0</td><td>650.0</td><td>4581.0</td><td>37.0</td><td>100.0</td><td>1</td><td>9</td><td>118</td><td>0.061538</td><td>0.576923</td><td>0.153846</td><td>0.246154</td><td>0.292308</td><td>0.223077</td><td>0.715385</td><td>0.907692</td><td>0.176923</td><td>0.823077</td><td>false</td><td>7</td><td>0.952756</td></tr><tr><td>96791</td><td>9784591</td><td>0</td><td>2</td><td>9.0</td><td>null</td><td>22548</td><td>false</td><td>null</td><td>null</td><td>false</td><td>247</td><td>7</td><td>4</td><td>false</td><td>142</td><td>0.9823</td><td>&quot;Negative&quot;</td><td>[&quot;ORG&quot;, &quot;LOC&quot;, … &quot;ORG&quot;]</td><td>7</td><td>7</td><td>12</td><td>302</td><td>0</td><td>8</td><td>false</td><td>false</td><td>true</td><td>true</td><td>false</td><td>true</td><td>1</td><td>0</td><td>3.5</td><td>12</td><td>false</td><td>false</td><td>true</td><td>0.357143</td><td>0.503937</td><td>0.11811</td><td>0.094488</td><td>130</td><td>16.0</td><td>650.0</td><td>4581.0</td><td>37.0</td><td>100.0</td><td>1</td><td>9</td><td>118</td><td>0.061538</td><td>0.576923</td><td>0.153846</td><td>0.246154</td><td>0.292308</td><td>0.223077</td><td>0.715385</td><td>0.907692</td><td>0.176923</td><td>0.823077</td><td>false</td><td>7</td><td>0.952756</td></tr></tbody></table></div>"
      ],
      "text/plain": [
       "shape: (2, 64)\n",
       "┌────────────┬─────────┬────────┬────────────┬───┬──────────┬────────────┬────────────┬────────────┐\n",
       "│ impression ┆ article ┆ target ┆ device_typ ┆ … ┆ PERPct   ┆ IsFavourit ┆ NumberDiff ┆ PctCategor │\n",
       "│ _id        ┆ ---     ┆ ---    ┆ e          ┆   ┆ ---      ┆ eCategory  ┆ erentCateg ┆ yMatches   │\n",
       "│ ---        ┆ i32     ┆ i8     ┆ ---        ┆   ┆ f64      ┆ ---        ┆ ories      ┆ ---        │\n",
       "│ u32        ┆         ┆        ┆ i8         ┆   ┆          ┆ bool       ┆ ---        ┆ f64        │\n",
       "│            ┆         ┆        ┆            ┆   ┆          ┆            ┆ u32        ┆            │\n",
       "╞════════════╪═════════╪════════╪════════════╪═══╪══════════╪════════════╪════════════╪════════════╡\n",
       "│ 96791      ┆ 9783865 ┆ 0      ┆ 2          ┆ … ┆ 0.823077 ┆ false      ┆ 7          ┆ 0.952756   │\n",
       "│ 96791      ┆ 9784591 ┆ 0      ┆ 2          ┆ … ┆ 0.823077 ┆ false      ┆ 7          ┆ 0.952756   │\n",
       "└────────────┴─────────┴────────┴────────────┴───┴──────────┴────────────┴────────────┴────────────┘"
      ]
     },
     "execution_count": 31,
     "metadata": {},
     "output_type": "execute_result"
    }
   ],
   "source": [
    "# no sampling since for evaluation all the predictions should be needed\n",
    "val_ds = behaviors_val.pipe(add_trendiness_feature, articles=articles, days=3) \\\n",
    "    .pipe(create_binary_labels_column, shuffle=True, seed=123) \\\n",
    "    .select(['impression_id', 'article_ids_inview', 'article_id', 'impression_time', 'labels', \n",
    "             'device_type', 'read_time', 'scroll_percentage', 'user_id', 'is_sso_user', 'gender',\n",
    "             'age', 'is_subscriber', 'session_id', 'trendiness_scores']) \\\n",
    "    .explode(['article_ids_inview', 'labels', 'trendiness_scores']) \\\n",
    "    .rename({'article_ids_inview': 'article', 'labels': 'target'}) \\\n",
    "    .with_columns(\n",
    "        pl.col('impression_time').dt.weekday().alias('weekday'),\n",
    "        pl.col('impression_time').dt.hour().alias('hour'),\n",
    "        pl.col('article').cast(pl.Int32),\n",
    "    ).join(articles.select(['article_id', 'premium', 'published_time', 'category',\n",
    "                            'sentiment_score', 'sentiment_label', 'entity_groups',\n",
    "                            'num_images', 'title_len', 'subtitle_len', 'body_len']),\n",
    "           left_on='article', right_on='article_id', how='left') \\\n",
    "    .with_columns(\n",
    "        (pl.col('impression_time') - pl.col('published_time')).dt.total_days().alias('article_delay_days'),\n",
    "        (pl.col('impression_time') - pl.col('published_time')).dt.total_hours().alias('article_delay_hours')\n",
    "    ).drop(['article_id']) \\\n",
    "    .with_columns(\n",
    "        pl.col('entity_groups').list.contains(entity).alias(f'Entity_{entity}_Present')\n",
    "        for entity in unique_entities\n",
    "    ).join(last_session_time_df, on='session_id', how='left').with_columns(\n",
    "        (pl.col('impression_time') - pl.col('last_session_time')).dt.total_hours().alias('last_session_time_hour_diff'),\n",
    "        ((pl.col('last_session_time') - pl.col('published_time')).dt.total_hours() > 0).alias('is_new_article'),\n",
    "        pl.col('all_seen_articles').list.contains(pl.col('article')).alias('is_already_seen_article'),\n",
    "        (pl.col('category') == pl.col('last_session_most_seen_category')).fill_null(False).alias('is_last_session_most_seen_category'),\n",
    "    ).drop(['published_time', 'session_id', 'all_seen_articles', 'last_session_time', 'last_session_most_seen_category']) \\\n",
    "    .join(published_category_popularity, how='left', right_on=['published_date', 'category'],\n",
    "          left_on=[pl.col('impression_time').dt.date() - pl.duration(days=1), 'category']) \\\n",
    "    .rename({'category_daily_pct': 'yesterday_category_daily_pct'}).drop(['impression_time']) \\\n",
    "    .with_columns(pl.col('yesterday_category_daily_pct').fill_null(0)) \\\n",
    "    .join(history_val.drop(['entity_groups_detailed', 'article_id_fixed', 'topics_flatten']), on='user_id', how='left').with_columns(\n",
    "        (pl.col('category') == pl.col('MostFrequentCategory')).alias('IsFavouriteCategory'),\n",
    "        pl.col('category_right').list.n_unique().alias('NumberDifferentCategories'),\n",
    "        list_pct_matches_with_col('category_right', 'category').alias('PctCategoryMatches'),\n",
    "    ).drop('category_right')\n",
    "    \n",
    "val_ds.head(2)"
   ]
  },
  {
   "cell_type": "code",
   "execution_count": 32,
   "id": "1dab8b97",
   "metadata": {
    "execution": {
     "iopub.execute_input": "2024-03-31T00:53:25.711327Z",
     "iopub.status.busy": "2024-03-31T00:53:25.710976Z",
     "iopub.status.idle": "2024-03-31T00:53:25.718199Z",
     "shell.execute_reply": "2024-03-31T00:53:25.716635Z"
    },
    "papermill": {
     "duration": 0.273254,
     "end_time": "2024-03-31T00:53:25.720192",
     "exception": false,
     "start_time": "2024-03-31T00:53:25.446938",
     "status": "completed"
    },
    "tags": []
   },
   "outputs": [
    {
     "data": {
      "text/plain": [
       "(2928942, 64)"
      ]
     },
     "execution_count": 32,
     "metadata": {},
     "output_type": "execute_result"
    }
   ],
   "source": [
    "val_ds.shape"
   ]
  },
  {
   "cell_type": "code",
   "execution_count": 33,
   "id": "81f2f41e",
   "metadata": {
    "execution": {
     "iopub.execute_input": "2024-03-31T00:53:26.251955Z",
     "iopub.status.busy": "2024-03-31T00:53:26.251519Z",
     "iopub.status.idle": "2024-03-31T01:04:44.858096Z",
     "shell.execute_reply": "2024-03-31T01:04:44.856748Z"
    },
    "papermill": {
     "duration": 678.874042,
     "end_time": "2024-03-31T01:04:44.860126",
     "exception": false,
     "start_time": "2024-03-31T00:53:25.986084",
     "status": "completed"
    },
    "tags": []
   },
   "outputs": [
    {
     "name": "stderr",
     "output_type": "stream",
     "text": [
      "29290it [11:17, 43.24it/s]                           \n"
     ]
    },
    {
     "name": "stdout",
     "output_type": "stream",
     "text": [
      "CPU times: user 11min 29s, sys: 1min 23s, total: 12min 52s\n",
      "Wall time: 11min 18s\n"
     ]
    },
    {
     "data": {
      "text/html": [
       "<div><style>\n",
       ".dataframe > thead > tr,\n",
       ".dataframe > tbody > tr {\n",
       "  text-align: right;\n",
       "  white-space: pre-wrap;\n",
       "}\n",
       "</style>\n",
       "<small>shape: (2, 65)</small><table border=\"1\" class=\"dataframe\"><thead><tr><th>impression_id</th><th>article</th><th>target</th><th>device_type</th><th>read_time</th><th>scroll_percentage</th><th>user_id</th><th>is_sso_user</th><th>gender</th><th>age</th><th>is_subscriber</th><th>trendiness_scores</th><th>weekday</th><th>hour</th><th>premium</th><th>category</th><th>sentiment_score</th><th>sentiment_label</th><th>num_images</th><th>title_len</th><th>subtitle_len</th><th>body_len</th><th>article_delay_days</th><th>article_delay_hours</th><th>Entity_PROD_Present</th><th>Entity_EVENT_Present</th><th>Entity_LOC_Present</th><th>Entity_ORG_Present</th><th>Entity_MISC_Present</th><th>Entity_PER_Present</th><th>last_session_nclicks</th><th>last_session_duration</th><th>mean_prev_sessions_duration</th><th>last_session_time_hour_diff</th><th>is_new_article</th><th>is_already_seen_article</th><th>is_last_session_most_seen_category</th><th>yesterday_category_daily_pct</th><th>PctStrongNegative</th><th>PctStrongNeutral</th><th>PctStrongPositive</th><th>NumArticlesHistory</th><th>MedianReadTime</th><th>MaxReadTime</th><th>TotalReadTime</th><th>MedianScrollPercentage</th><th>MaxScrollPercentage</th><th>MostFrequentWeekday</th><th>MostFrequentHour</th><th>MostFrequentCategory</th><th>PctNotDefaultArticles</th><th>NegativePct</th><th>PositivePct</th><th>NeutralPct</th><th>PRODPct</th><th>EVENTPct</th><th>LOCPct</th><th>ORGPct</th><th>MISCPct</th><th>PERPct</th><th>IsFavouriteCategory</th><th>NumberDifferentCategories</th><th>PctCategoryMatches</th><th>MeanCommonEntities</th><th>MaxCommonEntities</th></tr><tr><td>u32</td><td>i32</td><td>i8</td><td>i8</td><td>f32</td><td>f32</td><td>u32</td><td>bool</td><td>i8</td><td>i8</td><td>bool</td><td>i64</td><td>i8</td><td>i8</td><td>bool</td><td>i16</td><td>f32</td><td>str</td><td>u32</td><td>u32</td><td>u32</td><td>u32</td><td>i64</td><td>i64</td><td>bool</td><td>bool</td><td>bool</td><td>bool</td><td>bool</td><td>bool</td><td>u32</td><td>i64</td><td>f64</td><td>i64</td><td>bool</td><td>bool</td><td>bool</td><td>f64</td><td>f64</td><td>f64</td><td>f64</td><td>u32</td><td>f32</td><td>f32</td><td>f32</td><td>f32</td><td>f32</td><td>i8</td><td>i8</td><td>i16</td><td>f64</td><td>f64</td><td>f64</td><td>f64</td><td>f64</td><td>f64</td><td>f64</td><td>f64</td><td>f64</td><td>f64</td><td>bool</td><td>u32</td><td>f64</td><td>f64</td><td>u32</td></tr></thead><tbody><tr><td>96791</td><td>9783865</td><td>0</td><td>2</td><td>9.0</td><td>null</td><td>22548</td><td>false</td><td>null</td><td>null</td><td>false</td><td>218</td><td>7</td><td>4</td><td>false</td><td>498</td><td>0.9793</td><td>&quot;Negative&quot;</td><td>1</td><td>3</td><td>13</td><td>283</td><td>0</td><td>6</td><td>true</td><td>true</td><td>true</td><td>true</td><td>false</td><td>true</td><td>1</td><td>0</td><td>3.5</td><td>12</td><td>false</td><td>false</td><td>false</td><td>0.0625</td><td>0.503937</td><td>0.11811</td><td>0.094488</td><td>130</td><td>16.0</td><td>650.0</td><td>4581.0</td><td>37.0</td><td>100.0</td><td>1</td><td>9</td><td>118</td><td>0.061538</td><td>0.576923</td><td>0.153846</td><td>0.246154</td><td>0.292308</td><td>0.223077</td><td>0.715385</td><td>0.907692</td><td>0.176923</td><td>0.823077</td><td>false</td><td>7</td><td>0.952756</td><td>3.031496</td><td>5</td></tr><tr><td>96791</td><td>9784591</td><td>0</td><td>2</td><td>9.0</td><td>null</td><td>22548</td><td>false</td><td>null</td><td>null</td><td>false</td><td>247</td><td>7</td><td>4</td><td>false</td><td>142</td><td>0.9823</td><td>&quot;Negative&quot;</td><td>7</td><td>7</td><td>12</td><td>302</td><td>0</td><td>8</td><td>false</td><td>false</td><td>true</td><td>true</td><td>false</td><td>true</td><td>1</td><td>0</td><td>3.5</td><td>12</td><td>false</td><td>false</td><td>true</td><td>0.357143</td><td>0.503937</td><td>0.11811</td><td>0.094488</td><td>130</td><td>16.0</td><td>650.0</td><td>4581.0</td><td>37.0</td><td>100.0</td><td>1</td><td>9</td><td>118</td><td>0.061538</td><td>0.576923</td><td>0.153846</td><td>0.246154</td><td>0.292308</td><td>0.223077</td><td>0.715385</td><td>0.907692</td><td>0.176923</td><td>0.823077</td><td>false</td><td>7</td><td>0.952756</td><td>2.503937</td><td>3</td></tr></tbody></table></div>"
      ],
      "text/plain": [
       "shape: (2, 65)\n",
       "┌────────────┬─────────┬────────┬────────────┬───┬────────────┬────────────┬───────────┬───────────┐\n",
       "│ impression ┆ article ┆ target ┆ device_typ ┆ … ┆ NumberDiff ┆ PctCategor ┆ MeanCommo ┆ MaxCommon │\n",
       "│ _id        ┆ ---     ┆ ---    ┆ e          ┆   ┆ erentCateg ┆ yMatches   ┆ nEntities ┆ Entities  │\n",
       "│ ---        ┆ i32     ┆ i8     ┆ ---        ┆   ┆ ories      ┆ ---        ┆ ---       ┆ ---       │\n",
       "│ u32        ┆         ┆        ┆ i8         ┆   ┆ ---        ┆ f64        ┆ f64       ┆ u32       │\n",
       "│            ┆         ┆        ┆            ┆   ┆ u32        ┆            ┆           ┆           │\n",
       "╞════════════╪═════════╪════════╪════════════╪═══╪════════════╪════════════╪═══════════╪═══════════╡\n",
       "│ 96791      ┆ 9783865 ┆ 0      ┆ 2          ┆ … ┆ 7          ┆ 0.952756   ┆ 3.031496  ┆ 5         │\n",
       "│ 96791      ┆ 9784591 ┆ 0      ┆ 2          ┆ … ┆ 7          ┆ 0.952756   ┆ 2.503937  ┆ 3         │\n",
       "└────────────┴─────────┴────────┴────────────┴───┴────────────┴────────────┴───────────┴───────────┘"
      ]
     },
     "execution_count": 33,
     "metadata": {},
     "output_type": "execute_result"
    }
   ],
   "source": [
    "%%time\n",
    "\n",
    "entities_df = pl.concat(\n",
    "    (\n",
    "        rows.select(['impression_id', 'user_id', 'article', 'entity_groups']) \\\n",
    "            .join(history_val.select(['user_id', 'entity_groups_detailed']), on='user_id', how='left') \\\n",
    "            .explode('entity_groups_detailed') \\\n",
    "            .with_columns(\n",
    "                pl.col('entity_groups').list.set_intersection(pl.col('entity_groups_detailed')).list.len().alias('common_entities')\n",
    "            ).drop(['entity_groups_detailed', 'entity_groups']) \\\n",
    "            .group_by(['impression_id', 'article']).agg(\n",
    "                pl.col('common_entities').mean().alias('MeanCommonEntities'),\n",
    "                pl.col('common_entities').max().alias('MaxCommonEntities'),\n",
    "            )\n",
    "        for rows in tqdm.tqdm(val_ds.iter_slices(100), total=val_ds.shape[0] // 100)\n",
    "    )\n",
    ")\n",
    "val_ds = val_ds.join(entities_df, on=['impression_id', 'article'], how='left').drop(['entity_groups'])\n",
    "val_ds.head(2)"
   ]
  },
  {
   "cell_type": "code",
   "execution_count": 34,
   "id": "409508e6",
   "metadata": {
    "execution": {
     "iopub.execute_input": "2024-03-31T01:04:46.013743Z",
     "iopub.status.busy": "2024-03-31T01:04:46.012920Z",
     "iopub.status.idle": "2024-03-31T01:25:37.372157Z",
     "shell.execute_reply": "2024-03-31T01:25:37.371012Z"
    },
    "papermill": {
     "duration": 1251.937295,
     "end_time": "2024-03-31T01:25:37.374527",
     "exception": false,
     "start_time": "2024-03-31T01:04:45.437232",
     "status": "completed"
    },
    "scrolled": true,
    "tags": []
   },
   "outputs": [
    {
     "name": "stderr",
     "output_type": "stream",
     "text": [
      "29290it [04:02, 120.78it/s]                           \n",
      "29290it [16:41, 29.25it/s]\n"
     ]
    },
    {
     "data": {
      "text/html": [
       "<div><style>\n",
       ".dataframe > thead > tr,\n",
       ".dataframe > tbody > tr {\n",
       "  text-align: right;\n",
       "  white-space: pre-wrap;\n",
       "}\n",
       "</style>\n",
       "<small>shape: (2, 70)</small><table border=\"1\" class=\"dataframe\"><thead><tr><th>impression_id</th><th>article</th><th>target</th><th>device_type</th><th>read_time</th><th>scroll_percentage</th><th>user_id</th><th>is_sso_user</th><th>gender</th><th>age</th><th>is_subscriber</th><th>trendiness_scores</th><th>weekday</th><th>hour</th><th>premium</th><th>category</th><th>sentiment_score</th><th>sentiment_label</th><th>num_images</th><th>title_len</th><th>subtitle_len</th><th>body_len</th><th>article_delay_days</th><th>article_delay_hours</th><th>Entity_PROD_Present</th><th>Entity_EVENT_Present</th><th>Entity_LOC_Present</th><th>Entity_ORG_Present</th><th>Entity_MISC_Present</th><th>Entity_PER_Present</th><th>last_session_nclicks</th><th>last_session_duration</th><th>mean_prev_sessions_duration</th><th>last_session_time_hour_diff</th><th>is_new_article</th><th>is_already_seen_article</th><th>is_last_session_most_seen_category</th><th>yesterday_category_daily_pct</th><th>PctStrongNegative</th><th>PctStrongNeutral</th><th>PctStrongPositive</th><th>NumArticlesHistory</th><th>MedianReadTime</th><th>MaxReadTime</th><th>TotalReadTime</th><th>MedianScrollPercentage</th><th>MaxScrollPercentage</th><th>MostFrequentWeekday</th><th>MostFrequentHour</th><th>MostFrequentCategory</th><th>PctNotDefaultArticles</th><th>NegativePct</th><th>PositivePct</th><th>NeutralPct</th><th>PRODPct</th><th>EVENTPct</th><th>LOCPct</th><th>ORGPct</th><th>MISCPct</th><th>PERPct</th><th>IsFavouriteCategory</th><th>NumberDifferentCategories</th><th>PctCategoryMatches</th><th>MeanCommonEntities</th><th>MaxCommonEntities</th><th>topics_cosine</th><th>mean_JS</th><th>min_JS</th><th>max_JS</th><th>std_JS</th></tr><tr><td>u32</td><td>i32</td><td>i8</td><td>i8</td><td>f32</td><td>f32</td><td>u32</td><td>bool</td><td>i8</td><td>i8</td><td>bool</td><td>i64</td><td>i8</td><td>i8</td><td>bool</td><td>i16</td><td>f32</td><td>str</td><td>u32</td><td>u32</td><td>u32</td><td>u32</td><td>i64</td><td>i64</td><td>bool</td><td>bool</td><td>bool</td><td>bool</td><td>bool</td><td>bool</td><td>u32</td><td>i64</td><td>f64</td><td>i64</td><td>bool</td><td>bool</td><td>bool</td><td>f64</td><td>f64</td><td>f64</td><td>f64</td><td>u32</td><td>f32</td><td>f32</td><td>f32</td><td>f32</td><td>f32</td><td>i8</td><td>i8</td><td>i16</td><td>f64</td><td>f64</td><td>f64</td><td>f64</td><td>f64</td><td>f64</td><td>f64</td><td>f64</td><td>f64</td><td>f64</td><td>bool</td><td>u32</td><td>f64</td><td>f64</td><td>u32</td><td>f32</td><td>f64</td><td>f64</td><td>f64</td><td>f64</td></tr></thead><tbody><tr><td>96791</td><td>9783865</td><td>0</td><td>2</td><td>9.0</td><td>null</td><td>22548</td><td>false</td><td>null</td><td>null</td><td>false</td><td>218</td><td>7</td><td>4</td><td>false</td><td>498</td><td>0.9793</td><td>&quot;Negative&quot;</td><td>1</td><td>3</td><td>13</td><td>283</td><td>0</td><td>6</td><td>true</td><td>true</td><td>true</td><td>true</td><td>false</td><td>true</td><td>1</td><td>0</td><td>3.5</td><td>12</td><td>false</td><td>false</td><td>false</td><td>0.0625</td><td>0.503937</td><td>0.11811</td><td>0.094488</td><td>130</td><td>16.0</td><td>650.0</td><td>4581.0</td><td>37.0</td><td>100.0</td><td>1</td><td>9</td><td>118</td><td>0.061538</td><td>0.576923</td><td>0.153846</td><td>0.246154</td><td>0.292308</td><td>0.223077</td><td>0.715385</td><td>0.907692</td><td>0.176923</td><td>0.823077</td><td>false</td><td>7</td><td>0.952756</td><td>3.031496</td><td>5</td><td>0.303267</td><td>0.106309</td><td>0.0</td><td>0.666667</td><td>0.139516</td></tr><tr><td>96791</td><td>9784591</td><td>0</td><td>2</td><td>9.0</td><td>null</td><td>22548</td><td>false</td><td>null</td><td>null</td><td>false</td><td>247</td><td>7</td><td>4</td><td>false</td><td>142</td><td>0.9823</td><td>&quot;Negative&quot;</td><td>7</td><td>7</td><td>12</td><td>302</td><td>0</td><td>8</td><td>false</td><td>false</td><td>true</td><td>true</td><td>false</td><td>true</td><td>1</td><td>0</td><td>3.5</td><td>12</td><td>false</td><td>false</td><td>true</td><td>0.357143</td><td>0.503937</td><td>0.11811</td><td>0.094488</td><td>130</td><td>16.0</td><td>650.0</td><td>4581.0</td><td>37.0</td><td>100.0</td><td>1</td><td>9</td><td>118</td><td>0.061538</td><td>0.576923</td><td>0.153846</td><td>0.246154</td><td>0.292308</td><td>0.223077</td><td>0.715385</td><td>0.907692</td><td>0.176923</td><td>0.823077</td><td>false</td><td>7</td><td>0.952756</td><td>2.503937</td><td>3</td><td>0.431995</td><td>0.159201</td><td>0.0</td><td>1.0</td><td>0.288552</td></tr></tbody></table></div>"
      ],
      "text/plain": [
       "shape: (2, 70)\n",
       "┌───────────────┬─────────┬────────┬─────────────┬───┬──────────┬────────┬──────────┬──────────┐\n",
       "│ impression_id ┆ article ┆ target ┆ device_type ┆ … ┆ mean_JS  ┆ min_JS ┆ max_JS   ┆ std_JS   │\n",
       "│ ---           ┆ ---     ┆ ---    ┆ ---         ┆   ┆ ---      ┆ ---    ┆ ---      ┆ ---      │\n",
       "│ u32           ┆ i32     ┆ i8     ┆ i8          ┆   ┆ f64      ┆ f64    ┆ f64      ┆ f64      │\n",
       "╞═══════════════╪═════════╪════════╪═════════════╪═══╪══════════╪════════╪══════════╪══════════╡\n",
       "│ 96791         ┆ 9783865 ┆ 0      ┆ 2           ┆ … ┆ 0.106309 ┆ 0.0    ┆ 0.666667 ┆ 0.139516 │\n",
       "│ 96791         ┆ 9784591 ┆ 0      ┆ 2           ┆ … ┆ 0.159201 ┆ 0.0    ┆ 1.0      ┆ 0.288552 │\n",
       "└───────────────┴─────────┴────────┴─────────────┴───┴──────────┴────────┴──────────┴──────────┘"
      ]
     },
     "execution_count": 34,
     "metadata": {},
     "output_type": "execute_result"
    }
   ],
   "source": [
    "history_val = history_val.with_columns(\n",
    "    pl.Series(\n",
    "        vectorizer.transform(\n",
    "            history_val.with_columns(pl.col('topics_flatten').list.join(separator=' '))['topics_flatten'].to_list()\n",
    "        ).toarray()\n",
    "    ).alias('topics_flatten_idf')\n",
    ")\n",
    "\n",
    "topics_similarity_df = pl.concat(\n",
    "    (\n",
    "        rows.select([\"impression_id\", \"user_id\", \"article\"])\n",
    "            .join(articles.select('article_id', 'topics_idf'), left_on='article', right_on='article_id', how='left')\n",
    "            .join(history_val.select(['user_id', 'topics_flatten_idf']), on=\"user_id\",how=\"left\")\n",
    "            .with_columns(\n",
    "                pl.struct(['topics_idf', 'topics_flatten_idf']).map_elements(\n",
    "                    lambda x: cosine_similarity(x['topics_idf'], x['topics_flatten_idf']), return_dtype=pl.Float64\n",
    "                ).cast(pl.Float32).alias('topics_cosine'),\n",
    "            ).select(['impression_id', 'article', 'topics_cosine'])\n",
    "        for rows in tqdm.tqdm(val_ds.iter_slices(100), total=val_ds.shape[0] // 100)\n",
    "    )\n",
    ")\n",
    "val_ds = val_ds.join(topics_similarity_df, on=['impression_id', 'article'], how='left')\n",
    "val_ds = add_features_JS_history_topics(val_ds, articles, history_val)\n",
    "val_ds.head(2)"
   ]
  },
  {
   "cell_type": "code",
   "execution_count": 35,
   "id": "380f19d0",
   "metadata": {
    "execution": {
     "iopub.execute_input": "2024-03-31T01:25:39.873537Z",
     "iopub.status.busy": "2024-03-31T01:25:39.872709Z",
     "iopub.status.idle": "2024-03-31T01:25:40.046161Z",
     "shell.execute_reply": "2024-03-31T01:25:40.044710Z"
    },
    "papermill": {
     "duration": 1.434103,
     "end_time": "2024-03-31T01:25:40.048641",
     "exception": false,
     "start_time": "2024-03-31T01:25:38.614538",
     "status": "completed"
    },
    "tags": []
   },
   "outputs": [
    {
     "data": {
      "text/plain": [
       "0"
      ]
     },
     "execution_count": 35,
     "metadata": {},
     "output_type": "execute_result"
    }
   ],
   "source": [
    "del history_val\n",
    "del articles\n",
    "del behaviors_val\n",
    "\n",
    "gc.collect()"
   ]
  },
  {
   "cell_type": "code",
   "execution_count": 36,
   "id": "dc8e5597",
   "metadata": {
    "execution": {
     "iopub.execute_input": "2024-03-31T01:25:42.418840Z",
     "iopub.status.busy": "2024-03-31T01:25:42.417777Z",
     "iopub.status.idle": "2024-03-31T01:25:42.423922Z",
     "shell.execute_reply": "2024-03-31T01:25:42.423009Z"
    },
    "papermill": {
     "duration": 1.236341,
     "end_time": "2024-03-31T01:25:42.426339",
     "exception": false,
     "start_time": "2024-03-31T01:25:41.189998",
     "status": "completed"
    },
    "tags": []
   },
   "outputs": [
    {
     "data": {
      "text/plain": [
       "(2928942, 70)"
      ]
     },
     "execution_count": 36,
     "metadata": {},
     "output_type": "execute_result"
    }
   ],
   "source": [
    "val_ds.shape"
   ]
  },
  {
   "cell_type": "code",
   "execution_count": 37,
   "id": "f32c4eab",
   "metadata": {
    "execution": {
     "iopub.execute_input": "2024-03-31T01:25:44.828366Z",
     "iopub.status.busy": "2024-03-31T01:25:44.827602Z",
     "iopub.status.idle": "2024-03-31T01:25:49.932631Z",
     "shell.execute_reply": "2024-03-31T01:25:49.931685Z"
    },
    "papermill": {
     "duration": 6.348666,
     "end_time": "2024-03-31T01:25:49.934938",
     "exception": false,
     "start_time": "2024-03-31T01:25:43.586272",
     "status": "completed"
    },
    "tags": []
   },
   "outputs": [
    {
     "data": {
      "text/html": [
       "<div><style>\n",
       ".dataframe > thead > tr,\n",
       ".dataframe > tbody > tr {\n",
       "  text-align: right;\n",
       "  white-space: pre-wrap;\n",
       "}\n",
       "</style>\n",
       "<small>shape: (2_928_942, 3)</small><table border=\"1\" class=\"dataframe\"><thead><tr><th>impression_id</th><th>target</th><th>prediction</th></tr><tr><td>u32</td><td>i8</td><td>f64</td></tr></thead><tbody><tr><td>96791</td><td>0</td><td>0.353689</td></tr><tr><td>96791</td><td>0</td><td>0.578463</td></tr><tr><td>96791</td><td>0</td><td>0.523753</td></tr><tr><td>96791</td><td>1</td><td>0.54642</td></tr><tr><td>96791</td><td>0</td><td>0.337622</td></tr><tr><td>&hellip;</td><td>&hellip;</td><td>&hellip;</td></tr><tr><td>579552453</td><td>0</td><td>0.159942</td></tr><tr><td>579552453</td><td>0</td><td>0.076742</td></tr><tr><td>579552453</td><td>0</td><td>0.12541</td></tr><tr><td>579552453</td><td>1</td><td>0.044298</td></tr><tr><td>579552453</td><td>0</td><td>0.123489</td></tr></tbody></table></div>"
      ],
      "text/plain": [
       "shape: (2_928_942, 3)\n",
       "┌───────────────┬────────┬────────────┐\n",
       "│ impression_id ┆ target ┆ prediction │\n",
       "│ ---           ┆ ---    ┆ ---        │\n",
       "│ u32           ┆ i8     ┆ f64        │\n",
       "╞═══════════════╪════════╪════════════╡\n",
       "│ 96791         ┆ 0      ┆ 0.353689   │\n",
       "│ 96791         ┆ 0      ┆ 0.578463   │\n",
       "│ 96791         ┆ 0      ┆ 0.523753   │\n",
       "│ 96791         ┆ 1      ┆ 0.54642    │\n",
       "│ 96791         ┆ 0      ┆ 0.337622   │\n",
       "│ …             ┆ …      ┆ …          │\n",
       "│ 579552453     ┆ 0      ┆ 0.159942   │\n",
       "│ 579552453     ┆ 0      ┆ 0.076742   │\n",
       "│ 579552453     ┆ 0      ┆ 0.12541    │\n",
       "│ 579552453     ┆ 1      ┆ 0.044298   │\n",
       "│ 579552453     ┆ 0      ┆ 0.123489   │\n",
       "└───────────────┴────────┴────────────┘"
      ]
     },
     "execution_count": 37,
     "metadata": {},
     "output_type": "execute_result"
    }
   ],
   "source": [
    "val_ds = val_ds.with_columns(\n",
    "    pl.col('gender').fill_null(2),\n",
    ")\n",
    "# impression_id will be later useful for evaluation\n",
    "val_ds_pandas = val_ds.drop(['impression_id', 'article', 'user_id']).to_pandas()\n",
    "\n",
    "val_ds_pandas[categorical_columns] = val_ds_pandas[categorical_columns].astype('category')\n",
    "\n",
    "X_val = val_ds_pandas.drop(columns=['target'])\n",
    "y_val = val_ds_pandas['target']\n",
    "\n",
    "# doint model.predict_proba(...)[:, 1] to take only the probability of class 1\n",
    "# while by doing [:, 0] we take the probability of class 0\n",
    "val_ds = val_ds.with_columns(pl.Series(model.predict_proba(X_val)[:, 1]).alias('prediction'))\n",
    "val_ds.select(['impression_id', 'target', 'prediction'])"
   ]
  },
  {
   "cell_type": "code",
   "execution_count": 38,
   "id": "e88bc9b3",
   "metadata": {
    "execution": {
     "iopub.execute_input": "2024-03-31T01:25:52.311461Z",
     "iopub.status.busy": "2024-03-31T01:25:52.311132Z",
     "iopub.status.idle": "2024-03-31T01:25:52.436177Z",
     "shell.execute_reply": "2024-03-31T01:25:52.435013Z"
    },
    "papermill": {
     "duration": 1.263416,
     "end_time": "2024-03-31T01:25:52.438341",
     "exception": false,
     "start_time": "2024-03-31T01:25:51.174925",
     "status": "completed"
    },
    "tags": []
   },
   "outputs": [
    {
     "data": {
      "text/html": [
       "<div><style>\n",
       ".dataframe > thead > tr,\n",
       ".dataframe > tbody > tr {\n",
       "  text-align: right;\n",
       "  white-space: pre-wrap;\n",
       "}\n",
       "</style>\n",
       "<small>shape: (244_647, 3)</small><table border=\"1\" class=\"dataframe\"><thead><tr><th>impression_id</th><th>target</th><th>prediction</th></tr><tr><td>u32</td><td>list[i8]</td><td>list[f64]</td></tr></thead><tbody><tr><td>156930898</td><td>[0, 0, … 0]</td><td>[0.032374, 0.567771, … 0.060922]</td></tr><tr><td>114675027</td><td>[0, 0, … 0]</td><td>[0.575009, 0.364882, … 0.404096]</td></tr><tr><td>98070159</td><td>[0, 0, … 0]</td><td>[0.076904, 0.05309, … 0.043007]</td></tr><tr><td>123978273</td><td>[0, 0, … 0]</td><td>[0.299889, 0.210608, … 0.123726]</td></tr><tr><td>116626960</td><td>[0, 0, … 1]</td><td>[0.183058, 0.284488, … 0.370028]</td></tr><tr><td>&hellip;</td><td>&hellip;</td><td>&hellip;</td></tr><tr><td>309426683</td><td>[1, 0, … 0]</td><td>[0.11399, 0.286992, … 0.367519]</td></tr><tr><td>361862679</td><td>[0, 0, … 0]</td><td>[0.592931, 0.177958, … 0.494689]</td></tr><tr><td>461012899</td><td>[0, 0, … 0]</td><td>[0.204896, 0.291375, … 0.41679]</td></tr><tr><td>547663088</td><td>[0, 0, … 0]</td><td>[0.492121, 0.313727, … 0.014428]</td></tr><tr><td>505348166</td><td>[0, 0, … 0]</td><td>[0.31088, 0.006881, … 0.534826]</td></tr></tbody></table></div>"
      ],
      "text/plain": [
       "shape: (244_647, 3)\n",
       "┌───────────────┬─────────────┬──────────────────────────────────┐\n",
       "│ impression_id ┆ target      ┆ prediction                       │\n",
       "│ ---           ┆ ---         ┆ ---                              │\n",
       "│ u32           ┆ list[i8]    ┆ list[f64]                        │\n",
       "╞═══════════════╪═════════════╪══════════════════════════════════╡\n",
       "│ 156930898     ┆ [0, 0, … 0] ┆ [0.032374, 0.567771, … 0.060922] │\n",
       "│ 114675027     ┆ [0, 0, … 0] ┆ [0.575009, 0.364882, … 0.404096] │\n",
       "│ 98070159      ┆ [0, 0, … 0] ┆ [0.076904, 0.05309, … 0.043007]  │\n",
       "│ 123978273     ┆ [0, 0, … 0] ┆ [0.299889, 0.210608, … 0.123726] │\n",
       "│ 116626960     ┆ [0, 0, … 1] ┆ [0.183058, 0.284488, … 0.370028] │\n",
       "│ …             ┆ …           ┆ …                                │\n",
       "│ 309426683     ┆ [1, 0, … 0] ┆ [0.11399, 0.286992, … 0.367519]  │\n",
       "│ 361862679     ┆ [0, 0, … 0] ┆ [0.592931, 0.177958, … 0.494689] │\n",
       "│ 461012899     ┆ [0, 0, … 0] ┆ [0.204896, 0.291375, … 0.41679]  │\n",
       "│ 547663088     ┆ [0, 0, … 0] ┆ [0.492121, 0.313727, … 0.014428] │\n",
       "│ 505348166     ┆ [0, 0, … 0] ┆ [0.31088, 0.006881, … 0.534826]  │\n",
       "└───────────────┴─────────────┴──────────────────────────────────┘"
      ]
     },
     "execution_count": 38,
     "metadata": {},
     "output_type": "execute_result"
    }
   ],
   "source": [
    "evaluation_ds = val_ds.group_by('impression_id').agg(pl.col('target'), pl.col('prediction'))\n",
    "evaluation_ds"
   ]
  },
  {
   "cell_type": "code",
   "execution_count": 39,
   "id": "e2f8b5b9",
   "metadata": {
    "execution": {
     "iopub.execute_input": "2024-03-31T01:25:54.898711Z",
     "iopub.status.busy": "2024-03-31T01:25:54.897781Z",
     "iopub.status.idle": "2024-03-31T01:30:11.216802Z",
     "shell.execute_reply": "2024-03-31T01:30:11.215540Z"
    },
    "papermill": {
     "duration": 258.82187,
     "end_time": "2024-03-31T01:30:12.487738",
     "exception": false,
     "start_time": "2024-03-31T01:25:53.665868",
     "status": "completed"
    },
    "tags": []
   },
   "outputs": [
    {
     "name": "stdout",
     "output_type": "stream",
     "text": [
      "CPU times: user 4min 16s, sys: 2.72 ms, total: 4min 16s\n",
      "Wall time: 4min 16s\n"
     ]
    },
    {
     "data": {
      "text/plain": [
       "<MetricEvaluator class>: \n",
       " {\n",
       "    \"auc\": 0.7147650497757322,\n",
       "    \"mrr\": 0.489649970689205,\n",
       "    \"ndcg@5\": 0.5467326041415863,\n",
       "    \"ndcg@10\": 0.5926723582456935\n",
       "}"
      ]
     },
     "execution_count": 39,
     "metadata": {},
     "output_type": "execute_result"
    }
   ],
   "source": [
    "%%time\n",
    "\n",
    "met_eval = MetricEvaluator(\n",
    "    labels=evaluation_ds['target'].to_list(),\n",
    "    predictions=evaluation_ds['prediction'].to_list(),\n",
    "    metric_functions=[\n",
    "        AucScore(),\n",
    "        MrrScore(),\n",
    "        NdcgScore(k=5),\n",
    "        NdcgScore(k=10),\n",
    "    ],\n",
    ")\n",
    "met_eval.evaluate()"
   ]
  }
 ],
 "metadata": {
  "kaggle": {
   "accelerator": "none",
   "dataSources": [
    {
     "datasetId": 4622414,
     "sourceId": 7914006,
     "sourceType": "datasetVersion"
    }
   ],
   "dockerImageVersionId": 30673,
   "isGpuEnabled": false,
   "isInternetEnabled": true,
   "language": "python",
   "sourceType": "notebook"
  },
  "kernelspec": {
   "display_name": "Python 3",
   "language": "python",
   "name": "python3"
  },
  "language_info": {
   "codemirror_mode": {
    "name": "ipython",
    "version": 3
   },
   "file_extension": ".py",
   "mimetype": "text/x-python",
   "name": "python",
   "nbconvert_exporter": "python",
   "pygments_lexer": "ipython3",
   "version": "3.10.13"
  },
  "papermill": {
   "default_parameters": {},
   "duration": 5715.462779,
   "end_time": "2024-03-31T01:30:15.856682",
   "environment_variables": {},
   "exception": null,
   "input_path": "__notebook__.ipynb",
   "output_path": "__notebook__.ipynb",
   "parameters": {},
   "start_time": "2024-03-30T23:55:00.393903",
   "version": "2.5.0"
  },
  "widgets": {
   "application/vnd.jupyter.widget-state+json": {
    "state": {
     "16c051f2b11043aa994548849d0b91bb": {
      "model_module": "@jupyter-widgets/output",
      "model_module_version": "1.0.0",
      "model_name": "OutputModel",
      "state": {
       "_dom_classes": [],
       "_model_module": "@jupyter-widgets/output",
       "_model_module_version": "1.0.0",
       "_model_name": "OutputModel",
       "_view_count": null,
       "_view_module": "@jupyter-widgets/output",
       "_view_module_version": "1.0.0",
       "_view_name": "OutputView",
       "layout": "IPY_MODEL_1a8ca0651ccc43a5a9d56320fd4aaad8",
       "msg_id": "",
       "outputs": [
        {
         "data": {
          "text/html": "<pre style=\"white-space:pre;overflow-x:auto;line-height:normal;font-family:Menlo,'DejaVu Sans Mono',consolas,'Courier New',monospace\">Getting category               <span style=\"color: #729c1f; text-decoration-color: #729c1f\">━━━━━━━━━━━━━━━━━━━━━━━━━━━━━━━━━━━━━━━━</span> <span style=\"color: #800080; text-decoration-color: #800080\">100%</span> <span style=\"color: #008080; text-decoration-color: #008080\">0:00:00</span>\nGetting article_type           <span style=\"color: #729c1f; text-decoration-color: #729c1f\">━━━━━━━━━━━━━━━━━━━━━━━━━━━━━━━━━━━━━━━━</span> <span style=\"color: #800080; text-decoration-color: #800080\">100%</span> <span style=\"color: #008080; text-decoration-color: #008080\">0:00:00</span>\nGetting sentiment_label        <span style=\"color: #729c1f; text-decoration-color: #729c1f\">━━━━━━━━━━━━━━━━━━━━━━━━━━━━━━━━━━━━━━━━</span> <span style=\"color: #800080; text-decoration-color: #800080\">100%</span> <span style=\"color: #008080; text-decoration-color: #008080\">0:00:00</span>\nGetting sentiment_score        <span style=\"color: #729c1f; text-decoration-color: #729c1f\">━━━━━━━━━━━━━━━━━━━━━━━━━━━━━━━━━━━━━━━━</span> <span style=\"color: #800080; text-decoration-color: #800080\">100%</span> <span style=\"color: #008080; text-decoration-color: #008080\">0:00:00</span>\nGetting entity_groups          <span style=\"color: #729c1f; text-decoration-color: #729c1f\">━━━━━━━━━━━━━━━━━━━━━━━━━━━━━━━━━━━━━━━━</span> <span style=\"color: #800080; text-decoration-color: #800080\">100%</span> <span style=\"color: #008080; text-decoration-color: #008080\">0:00:00</span>\nGetting detailed entity_groups <span style=\"color: #729c1f; text-decoration-color: #729c1f\">━━━━━━━━━━━━━━━━━━━━━━━━━━━━━━━━━━━━━━━━</span> <span style=\"color: #800080; text-decoration-color: #800080\">100%</span> <span style=\"color: #008080; text-decoration-color: #008080\">0:00:00</span>\nGetting topics                 <span style=\"color: #729c1f; text-decoration-color: #729c1f\">━━━━━━━━━━━━━━━━━━━━━━━━━━━━━━━━━━━━━━━━</span> <span style=\"color: #800080; text-decoration-color: #800080\">100%</span> <span style=\"color: #008080; text-decoration-color: #008080\">0:00:00</span>\n</pre>\n",
          "text/plain": "Getting category               \u001b[38;2;114;156;31m━━━━━━━━━━━━━━━━━━━━━━━━━━━━━━━━━━━━━━━━\u001b[0m \u001b[35m100%\u001b[0m \u001b[36m0:00:00\u001b[0m\nGetting article_type           \u001b[38;2;114;156;31m━━━━━━━━━━━━━━━━━━━━━━━━━━━━━━━━━━━━━━━━\u001b[0m \u001b[35m100%\u001b[0m \u001b[36m0:00:00\u001b[0m\nGetting sentiment_label        \u001b[38;2;114;156;31m━━━━━━━━━━━━━━━━━━━━━━━━━━━━━━━━━━━━━━━━\u001b[0m \u001b[35m100%\u001b[0m \u001b[36m0:00:00\u001b[0m\nGetting sentiment_score        \u001b[38;2;114;156;31m━━━━━━━━━━━━━━━━━━━━━━━━━━━━━━━━━━━━━━━━\u001b[0m \u001b[35m100%\u001b[0m \u001b[36m0:00:00\u001b[0m\nGetting entity_groups          \u001b[38;2;114;156;31m━━━━━━━━━━━━━━━━━━━━━━━━━━━━━━━━━━━━━━━━\u001b[0m \u001b[35m100%\u001b[0m \u001b[36m0:00:00\u001b[0m\nGetting detailed entity_groups \u001b[38;2;114;156;31m━━━━━━━━━━━━━━━━━━━━━━━━━━━━━━━━━━━━━━━━\u001b[0m \u001b[35m100%\u001b[0m \u001b[36m0:00:00\u001b[0m\nGetting topics                 \u001b[38;2;114;156;31m━━━━━━━━━━━━━━━━━━━━━━━━━━━━━━━━━━━━━━━━\u001b[0m \u001b[35m100%\u001b[0m \u001b[36m0:00:00\u001b[0m\n"
         },
         "metadata": {},
         "output_type": "display_data"
        }
       ]
      }
     },
     "1a8ca0651ccc43a5a9d56320fd4aaad8": {
      "model_module": "@jupyter-widgets/base",
      "model_module_version": "1.2.0",
      "model_name": "LayoutModel",
      "state": {
       "_model_module": "@jupyter-widgets/base",
       "_model_module_version": "1.2.0",
       "_model_name": "LayoutModel",
       "_view_count": null,
       "_view_module": "@jupyter-widgets/base",
       "_view_module_version": "1.2.0",
       "_view_name": "LayoutView",
       "align_content": null,
       "align_items": null,
       "align_self": null,
       "border": null,
       "bottom": null,
       "display": null,
       "flex": null,
       "flex_flow": null,
       "grid_area": null,
       "grid_auto_columns": null,
       "grid_auto_flow": null,
       "grid_auto_rows": null,
       "grid_column": null,
       "grid_gap": null,
       "grid_row": null,
       "grid_template_areas": null,
       "grid_template_columns": null,
       "grid_template_rows": null,
       "height": null,
       "justify_content": null,
       "justify_items": null,
       "left": null,
       "margin": null,
       "max_height": null,
       "max_width": null,
       "min_height": null,
       "min_width": null,
       "object_fit": null,
       "object_position": null,
       "order": null,
       "overflow": null,
       "overflow_x": null,
       "overflow_y": null,
       "padding": null,
       "right": null,
       "top": null,
       "visibility": null,
       "width": null
      }
     },
     "1c0caee0f9dc4cd3bdcd2900e6111312": {
      "model_module": "@jupyter-widgets/output",
      "model_module_version": "1.0.0",
      "model_name": "OutputModel",
      "state": {
       "_dom_classes": [],
       "_model_module": "@jupyter-widgets/output",
       "_model_module_version": "1.0.0",
       "_model_name": "OutputModel",
       "_view_count": null,
       "_view_module": "@jupyter-widgets/output",
       "_view_module_version": "1.0.0",
       "_view_name": "OutputView",
       "layout": "IPY_MODEL_3fcf8431e030473b8169400e4a43cd16",
       "msg_id": "",
       "outputs": [
        {
         "data": {
          "text/html": "<pre style=\"white-space:pre;overflow-x:auto;line-height:normal;font-family:Menlo,'DejaVu Sans Mono',consolas,'Courier New',monospace\">Getting category               <span style=\"color: #729c1f; text-decoration-color: #729c1f\">━━━━━━━━━━━━━━━━━━━━━━━━━━━━━━━━━━━━━━━━</span> <span style=\"color: #800080; text-decoration-color: #800080\">100%</span> <span style=\"color: #008080; text-decoration-color: #008080\">0:00:00</span>\nGetting article_type           <span style=\"color: #729c1f; text-decoration-color: #729c1f\">━━━━━━━━━━━━━━━━━━━━━━━━━━━━━━━━━━━━━━━━</span> <span style=\"color: #800080; text-decoration-color: #800080\">100%</span> <span style=\"color: #008080; text-decoration-color: #008080\">0:00:00</span>\nGetting sentiment_label        <span style=\"color: #729c1f; text-decoration-color: #729c1f\">━━━━━━━━━━━━━━━━━━━━━━━━━━━━━━━━━━━━━━━━</span> <span style=\"color: #800080; text-decoration-color: #800080\">100%</span> <span style=\"color: #008080; text-decoration-color: #008080\">0:00:00</span>\nGetting sentiment_score        <span style=\"color: #729c1f; text-decoration-color: #729c1f\">━━━━━━━━━━━━━━━━━━━━━━━━━━━━━━━━━━━━━━━━</span> <span style=\"color: #800080; text-decoration-color: #800080\">100%</span> <span style=\"color: #008080; text-decoration-color: #008080\">0:00:00</span>\nGetting entity_groups          <span style=\"color: #729c1f; text-decoration-color: #729c1f\">━━━━━━━━━━━━━━━━━━━━━━━━━━━━━━━━━━━━━━━━</span> <span style=\"color: #800080; text-decoration-color: #800080\">100%</span> <span style=\"color: #008080; text-decoration-color: #008080\">0:00:00</span>\nGetting detailed entity_groups <span style=\"color: #729c1f; text-decoration-color: #729c1f\">━━━━━━━━━━━━━━━━━━━━━━━━━━━━━━━━━━━━━━━━</span> <span style=\"color: #800080; text-decoration-color: #800080\">100%</span> <span style=\"color: #008080; text-decoration-color: #008080\">0:00:00</span>\nGetting topics                 <span style=\"color: #729c1f; text-decoration-color: #729c1f\">━━━━━━━━━━━━━━━━━━━━━━━━━━━━━━━━━━━━━━━━</span> <span style=\"color: #800080; text-decoration-color: #800080\">100%</span> <span style=\"color: #008080; text-decoration-color: #008080\">0:00:00</span>\n</pre>\n",
          "text/plain": "Getting category               \u001b[38;2;114;156;31m━━━━━━━━━━━━━━━━━━━━━━━━━━━━━━━━━━━━━━━━\u001b[0m \u001b[35m100%\u001b[0m \u001b[36m0:00:00\u001b[0m\nGetting article_type           \u001b[38;2;114;156;31m━━━━━━━━━━━━━━━━━━━━━━━━━━━━━━━━━━━━━━━━\u001b[0m \u001b[35m100%\u001b[0m \u001b[36m0:00:00\u001b[0m\nGetting sentiment_label        \u001b[38;2;114;156;31m━━━━━━━━━━━━━━━━━━━━━━━━━━━━━━━━━━━━━━━━\u001b[0m \u001b[35m100%\u001b[0m \u001b[36m0:00:00\u001b[0m\nGetting sentiment_score        \u001b[38;2;114;156;31m━━━━━━━━━━━━━━━━━━━━━━━━━━━━━━━━━━━━━━━━\u001b[0m \u001b[35m100%\u001b[0m \u001b[36m0:00:00\u001b[0m\nGetting entity_groups          \u001b[38;2;114;156;31m━━━━━━━━━━━━━━━━━━━━━━━━━━━━━━━━━━━━━━━━\u001b[0m \u001b[35m100%\u001b[0m \u001b[36m0:00:00\u001b[0m\nGetting detailed entity_groups \u001b[38;2;114;156;31m━━━━━━━━━━━━━━━━━━━━━━━━━━━━━━━━━━━━━━━━\u001b[0m \u001b[35m100%\u001b[0m \u001b[36m0:00:00\u001b[0m\nGetting topics                 \u001b[38;2;114;156;31m━━━━━━━━━━━━━━━━━━━━━━━━━━━━━━━━━━━━━━━━\u001b[0m \u001b[35m100%\u001b[0m \u001b[36m0:00:00\u001b[0m\n"
         },
         "metadata": {},
         "output_type": "display_data"
        }
       ]
      }
     },
     "3fcf8431e030473b8169400e4a43cd16": {
      "model_module": "@jupyter-widgets/base",
      "model_module_version": "1.2.0",
      "model_name": "LayoutModel",
      "state": {
       "_model_module": "@jupyter-widgets/base",
       "_model_module_version": "1.2.0",
       "_model_name": "LayoutModel",
       "_view_count": null,
       "_view_module": "@jupyter-widgets/base",
       "_view_module_version": "1.2.0",
       "_view_name": "LayoutView",
       "align_content": null,
       "align_items": null,
       "align_self": null,
       "border": null,
       "bottom": null,
       "display": null,
       "flex": null,
       "flex_flow": null,
       "grid_area": null,
       "grid_auto_columns": null,
       "grid_auto_flow": null,
       "grid_auto_rows": null,
       "grid_column": null,
       "grid_gap": null,
       "grid_row": null,
       "grid_template_areas": null,
       "grid_template_columns": null,
       "grid_template_rows": null,
       "height": null,
       "justify_content": null,
       "justify_items": null,
       "left": null,
       "margin": null,
       "max_height": null,
       "max_width": null,
       "min_height": null,
       "min_width": null,
       "object_fit": null,
       "object_position": null,
       "order": null,
       "overflow": null,
       "overflow_x": null,
       "overflow_y": null,
       "padding": null,
       "right": null,
       "top": null,
       "visibility": null,
       "width": null
      }
     }
    },
    "version_major": 2,
    "version_minor": 0
   }
  }
 },
 "nbformat": 4,
 "nbformat_minor": 5
}
