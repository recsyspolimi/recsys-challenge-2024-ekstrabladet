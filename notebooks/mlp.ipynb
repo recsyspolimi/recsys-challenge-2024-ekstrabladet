{
 "cells": [
  {
   "cell_type": "code",
   "execution_count": 1,
   "id": "33d7cca7",
   "metadata": {
    "execution": {
     "iopub.execute_input": "2024-05-19T10:18:22.277751Z",
     "iopub.status.busy": "2024-05-19T10:18:22.277350Z",
     "iopub.status.idle": "2024-05-19T10:18:27.258376Z",
     "shell.execute_reply": "2024-05-19T10:18:27.256892Z"
    },
    "papermill": {
     "duration": 5.01363,
     "end_time": "2024-05-19T10:18:27.261378",
     "exception": false,
     "start_time": "2024-05-19T10:18:22.247748",
     "status": "completed"
    },
    "tags": []
   },
   "outputs": [
    {
     "name": "stdout",
     "output_type": "stream",
     "text": [
      "Cloning into 'RecSysChallenge2024'...\r\n",
      "remote: Enumerating objects: 3419, done.\u001b[K\r\n",
      "remote: Counting objects: 100% (1029/1029), done.\u001b[K\r\n",
      "remote: Compressing objects: 100% (368/368), done.\u001b[K\r\n",
      "remote: Total 3419 (delta 693), reused 979 (delta 658), pack-reused 2390\u001b[K\r\n",
      "Receiving objects: 100% (3419/3419), 43.21 MiB | 23.67 MiB/s, done.\r\n",
      "Resolving deltas: 100% (2188/2188), done.\r\n"
     ]
    }
   ],
   "source": [
    "from kaggle_secrets import UserSecretsClient\n",
    "secret_label = \"Token\"\n",
    "token = UserSecretsClient().get_secret(secret_label)\n",
    "\n",
    "! git clone https://{token}@github.com/FrancescoZanella/RecSysChallenge2024.git"
   ]
  },
  {
   "cell_type": "code",
   "execution_count": 2,
   "id": "f1a6c36e",
   "metadata": {
    "execution": {
     "iopub.execute_input": "2024-05-19T10:18:27.324548Z",
     "iopub.status.busy": "2024-05-19T10:18:27.323843Z",
     "iopub.status.idle": "2024-05-19T10:18:27.332025Z",
     "shell.execute_reply": "2024-05-19T10:18:27.330582Z"
    },
    "papermill": {
     "duration": 0.044655,
     "end_time": "2024-05-19T10:18:27.334887",
     "exception": false,
     "start_time": "2024-05-19T10:18:27.290232",
     "status": "completed"
    },
    "tags": []
   },
   "outputs": [
    {
     "name": "stdout",
     "output_type": "stream",
     "text": [
      "/kaggle/working/RecSysChallenge2024/src\n"
     ]
    }
   ],
   "source": [
    "%cd /kaggle/working/RecSysChallenge2024/src"
   ]
  },
  {
   "cell_type": "code",
   "execution_count": 3,
   "id": "1c4cb5fd",
   "metadata": {
    "execution": {
     "iopub.execute_input": "2024-05-19T10:18:27.395776Z",
     "iopub.status.busy": "2024-05-19T10:18:27.395376Z",
     "iopub.status.idle": "2024-05-19T10:19:02.370315Z",
     "shell.execute_reply": "2024-05-19T10:19:02.368673Z"
    },
    "papermill": {
     "duration": 35.008684,
     "end_time": "2024-05-19T10:19:02.373366",
     "exception": false,
     "start_time": "2024-05-19T10:18:27.364682",
     "status": "completed"
    },
    "tags": []
   },
   "outputs": [
    {
     "name": "stdout",
     "output_type": "stream",
     "text": [
      "Requirement already satisfied: polars in /opt/conda/lib/python3.10/site-packages (0.20.15)\r\n",
      "Collecting polars\r\n",
      "  Downloading polars-0.20.26-cp38-abi3-manylinux_2_17_x86_64.manylinux2014_x86_64.whl.metadata (14 kB)\r\n",
      "Downloading polars-0.20.26-cp38-abi3-manylinux_2_17_x86_64.manylinux2014_x86_64.whl (28.0 MB)\r\n",
      "\u001b[2K   \u001b[90m━━━━━━━━━━━━━━━━━━━━━━━━━━━━━━━━━━━━━━━━\u001b[0m \u001b[32m28.0/28.0 MB\u001b[0m \u001b[31m38.1 MB/s\u001b[0m eta \u001b[36m0:00:00\u001b[0m\r\n",
      "\u001b[?25hInstalling collected packages: polars\r\n",
      "  Attempting uninstall: polars\r\n",
      "    Found existing installation: polars 0.20.15\r\n",
      "    Uninstalling polars-0.20.15:\r\n",
      "      Successfully uninstalled polars-0.20.15\r\n",
      "Successfully installed polars-0.20.26\r\n"
     ]
    }
   ],
   "source": [
    "! pip install --upgrade polars"
   ]
  },
  {
   "cell_type": "code",
   "execution_count": 4,
   "id": "334bdff4",
   "metadata": {
    "execution": {
     "iopub.execute_input": "2024-05-19T10:19:02.437674Z",
     "iopub.status.busy": "2024-05-19T10:19:02.437275Z",
     "iopub.status.idle": "2024-05-19T10:19:23.411595Z",
     "shell.execute_reply": "2024-05-19T10:19:23.410515Z"
    },
    "papermill": {
     "duration": 21.009961,
     "end_time": "2024-05-19T10:19:23.414274",
     "exception": false,
     "start_time": "2024-05-19T10:19:02.404313",
     "status": "completed"
    },
    "tags": []
   },
   "outputs": [
    {
     "name": "stdout",
     "output_type": "stream",
     "text": [
      "Collecting simsimd\r\n",
      "  Downloading simsimd-4.3.1-cp310-cp310-manylinux_2_28_x86_64.whl.metadata (30 kB)\r\n",
      "Collecting scikit-learn==1.4.2\r\n",
      "  Downloading scikit_learn-1.4.2-cp310-cp310-manylinux_2_17_x86_64.manylinux2014_x86_64.whl.metadata (11 kB)\r\n",
      "Requirement already satisfied: numpy>=1.19.5 in /opt/conda/lib/python3.10/site-packages (from scikit-learn==1.4.2) (1.26.4)\r\n",
      "Requirement already satisfied: scipy>=1.6.0 in /opt/conda/lib/python3.10/site-packages (from scikit-learn==1.4.2) (1.11.4)\r\n",
      "Requirement already satisfied: joblib>=1.2.0 in /opt/conda/lib/python3.10/site-packages (from scikit-learn==1.4.2) (1.3.2)\r\n",
      "Requirement already satisfied: threadpoolctl>=2.0.0 in /opt/conda/lib/python3.10/site-packages (from scikit-learn==1.4.2) (3.2.0)\r\n",
      "Downloading scikit_learn-1.4.2-cp310-cp310-manylinux_2_17_x86_64.manylinux2014_x86_64.whl (12.1 MB)\r\n",
      "\u001b[2K   \u001b[90m━━━━━━━━━━━━━━━━━━━━━━━━━━━━━━━━━━━━━━━━\u001b[0m \u001b[32m12.1/12.1 MB\u001b[0m \u001b[31m19.4 MB/s\u001b[0m eta \u001b[36m0:00:00\u001b[0m\r\n",
      "\u001b[?25hDownloading simsimd-4.3.1-cp310-cp310-manylinux_2_28_x86_64.whl (382 kB)\r\n",
      "\u001b[2K   \u001b[90m━━━━━━━━━━━━━━━━━━━━━━━━━━━━━━━━━━━━━━━━\u001b[0m \u001b[32m382.2/382.2 kB\u001b[0m \u001b[31m19.8 MB/s\u001b[0m eta \u001b[36m0:00:00\u001b[0m\r\n",
      "\u001b[?25hInstalling collected packages: simsimd, scikit-learn\r\n",
      "  Attempting uninstall: scikit-learn\r\n",
      "    Found existing installation: scikit-learn 1.2.2\r\n",
      "    Uninstalling scikit-learn-1.2.2:\r\n",
      "      Successfully uninstalled scikit-learn-1.2.2\r\n",
      "\u001b[31mERROR: pip's dependency resolver does not currently take into account all the packages that are installed. This behaviour is the source of the following dependency conflicts.\r\n",
      "spopt 0.6.0 requires shapely>=2.0.1, but you have shapely 1.8.5.post1 which is incompatible.\u001b[0m\u001b[31m\r\n",
      "\u001b[0mSuccessfully installed scikit-learn-1.4.2 simsimd-4.3.1\r\n"
     ]
    }
   ],
   "source": [
    "! pip install simsimd scikit-learn==1.4.2"
   ]
  },
  {
   "cell_type": "code",
   "execution_count": 5,
   "id": "7e2a054a",
   "metadata": {
    "_cell_guid": "b1076dfc-b9ad-4769-8c92-a6c4dae69d19",
    "_uuid": "8f2839f25d086af736a60e9eeb907d3b93b6e0e5",
    "execution": {
     "iopub.execute_input": "2024-05-19T10:19:23.481713Z",
     "iopub.status.busy": "2024-05-19T10:19:23.481310Z",
     "iopub.status.idle": "2024-05-19T10:19:46.477451Z",
     "shell.execute_reply": "2024-05-19T10:19:46.476276Z"
    },
    "papermill": {
     "duration": 23.033138,
     "end_time": "2024-05-19T10:19:46.480200",
     "exception": false,
     "start_time": "2024-05-19T10:19:23.447062",
     "status": "completed"
    },
    "tags": []
   },
   "outputs": [
    {
     "name": "stderr",
     "output_type": "stream",
     "text": [
      "2024-05-19 10:19:33.203925: E external/local_xla/xla/stream_executor/cuda/cuda_dnn.cc:9261] Unable to register cuDNN factory: Attempting to register factory for plugin cuDNN when one has already been registered\n",
      "2024-05-19 10:19:33.204064: E external/local_xla/xla/stream_executor/cuda/cuda_fft.cc:607] Unable to register cuFFT factory: Attempting to register factory for plugin cuFFT when one has already been registered\n",
      "2024-05-19 10:19:33.376485: E external/local_xla/xla/stream_executor/cuda/cuda_blas.cc:1515] Unable to register cuBLAS factory: Attempting to register factory for plugin cuBLAS when one has already been registered\n"
     ]
    }
   ],
   "source": [
    "import numpy as np\n",
    "import pandas as pd\n",
    "import matplotlib.pyplot as plt\n",
    "import seaborn as sns\n",
    "from pathlib import Path\n",
    "import polars as pl\n",
    "import scipy.stats as stats\n",
    "import scipy.sparse as sps\n",
    "import random\n",
    "import logging\n",
    "import gc\n",
    "import tqdm\n",
    "\n",
    "from ebrec.utils._descriptive_analysis import (\n",
    "    min_max_impression_time_behaviors, \n",
    "    min_max_impression_time_history\n",
    ")\n",
    "from ebrec.utils._polars import slice_join_dataframes\n",
    "from ebrec.utils._behaviors import (\n",
    "    create_binary_labels_column,\n",
    "    sampling_strategy_wu2019,\n",
    "    truncate_history,\n",
    ")\n",
    "from ebrec.utils._constants import (\n",
    "    DEFAULT_HISTORY_ARTICLE_ID_COL,\n",
    "    DEFAULT_CLICKED_ARTICLES_COL,\n",
    "    DEFAULT_INVIEW_ARTICLES_COL,\n",
    "    DEFAULT_USER_COL\n",
    ")\n",
    "from ebrec.evaluation.metrics_protocols import *\n",
    "from polimi.utils._catboost import (\n",
    "    _preprocessing_history_trendiness_scores, \n",
    "    add_history_trendiness_scores_feature, \n",
    "    _preprocessing_mean_delay_features, \n",
    "    add_mean_delays_features, \n",
    "    _preprocessing_window_features, \n",
    "    add_window_features, \n",
    "    add_trendiness_feature_categories, \n",
    "    _preprocessing_article_endorsement_feature, \n",
    "    get_unique_categories,\n",
    "    add_trendiness_feature,\n",
    "    _preprocessing_article_endorsement_feature_by_article_and_user,\n",
    ")\n",
    "\n",
    "from sklearn.preprocessing import QuantileTransformer, OrdinalEncoder"
   ]
  },
  {
   "cell_type": "code",
   "execution_count": 6,
   "id": "7022f9d2",
   "metadata": {
    "execution": {
     "iopub.execute_input": "2024-05-19T10:19:46.548519Z",
     "iopub.status.busy": "2024-05-19T10:19:46.547249Z",
     "iopub.status.idle": "2024-05-19T10:19:46.557460Z",
     "shell.execute_reply": "2024-05-19T10:19:46.556284Z"
    },
    "papermill": {
     "duration": 0.047261,
     "end_time": "2024-05-19T10:19:46.560293",
     "exception": false,
     "start_time": "2024-05-19T10:19:46.513032",
     "status": "completed"
    },
    "tags": []
   },
   "outputs": [
    {
     "name": "stdout",
     "output_type": "stream",
     "text": [
      "2.15.0\n"
     ]
    }
   ],
   "source": [
    "import tensorflow as tf\n",
    "from tensorflow import keras as tfk\n",
    "from tensorflow.keras import layers as tfkl\n",
    "\n",
    "seed = 42\n",
    "np.random.seed(seed)\n",
    "random.seed(seed)\n",
    "tf.autograph.set_verbosity(0)\n",
    "tf.get_logger().setLevel(logging.ERROR)\n",
    "tf.random.set_seed(seed)\n",
    "print(tf.__version__)"
   ]
  },
  {
   "cell_type": "markdown",
   "id": "deea07e4",
   "metadata": {
    "papermill": {
     "duration": 0.032233,
     "end_time": "2024-05-19T10:19:46.625770",
     "exception": false,
     "start_time": "2024-05-19T10:19:46.593537",
     "status": "completed"
    },
    "tags": []
   },
   "source": [
    "# Memory Utils"
   ]
  },
  {
   "cell_type": "code",
   "execution_count": 7,
   "id": "c10df95b",
   "metadata": {
    "execution": {
     "iopub.execute_input": "2024-05-19T10:19:46.695416Z",
     "iopub.status.busy": "2024-05-19T10:19:46.694535Z",
     "iopub.status.idle": "2024-05-19T10:19:46.704217Z",
     "shell.execute_reply": "2024-05-19T10:19:46.703074Z"
    },
    "papermill": {
     "duration": 0.047439,
     "end_time": "2024-05-19T10:19:46.706905",
     "exception": false,
     "start_time": "2024-05-19T10:19:46.659466",
     "status": "completed"
    },
    "tags": []
   },
   "outputs": [
    {
     "name": "stdout",
     "output_type": "stream",
     "text": [
      "\u001b[1m\u001b[31m\n",
      "RAM memory GB usage = 0.8591\u001b[0m\n"
     ]
    }
   ],
   "source": [
    "from os import system, getpid, walk\n",
    "from psutil import Process\n",
    "from colorama import Fore, Style, init\n",
    "from IPython.display import display, HTML\n",
    "\n",
    "def PrintColor(text:str, color = Fore.BLUE, style = Style.BRIGHT):\n",
    "    print(style + color + text + Style.RESET_ALL)\n",
    "    \n",
    "def GetMemUsage():   \n",
    "    pid = getpid()\n",
    "    py = Process(pid)\n",
    "    memory_use = py.memory_info()[0] / 2. ** 30\n",
    "    return f\"RAM memory GB usage = {memory_use :.4}\"\n",
    "\n",
    "PrintColor(f\"\\n\" + GetMemUsage(), color = Fore.RED)"
   ]
  },
  {
   "cell_type": "code",
   "execution_count": 8,
   "id": "49b721a0",
   "metadata": {
    "execution": {
     "iopub.execute_input": "2024-05-19T10:19:46.776176Z",
     "iopub.status.busy": "2024-05-19T10:19:46.775380Z",
     "iopub.status.idle": "2024-05-19T10:19:46.792709Z",
     "shell.execute_reply": "2024-05-19T10:19:46.791833Z"
    },
    "papermill": {
     "duration": 0.054634,
     "end_time": "2024-05-19T10:19:46.795373",
     "exception": false,
     "start_time": "2024-05-19T10:19:46.740739",
     "status": "completed"
    },
    "tags": []
   },
   "outputs": [],
   "source": [
    "def reduce_polars_df_memory_size(df, set_categorical=True):\n",
    "\n",
    "    start_mem = df.estimated_size('mb')\n",
    "    print('Memory usage of dataframe is {:.2f} MB'.format(start_mem))\n",
    "    \n",
    "    for col in df.columns:\n",
    "        col_type = df[col].dtype\n",
    "        \n",
    "        if col_type in [pl.Int16, pl.Int32, pl.Int64]:\n",
    "            c_min = df[col].fill_null(0).min()\n",
    "            c_max = df[col].fill_null(0).max()\n",
    "            if c_min > np.iinfo(np.int8).min and c_max < np.iinfo(np.int8).max:\n",
    "                df = df.with_columns(pl.col(col).cast(pl.Int8))\n",
    "            elif c_min > np.iinfo(np.int16).min and c_max < np.iinfo(np.int16).max:\n",
    "                df = df.with_columns(pl.col(col).cast(pl.Int16))\n",
    "            elif c_min > np.iinfo(np.int32).min and c_max < np.iinfo(np.int32).max:\n",
    "                df = df.with_columns(pl.col(col).cast(pl.Int32))\n",
    "        elif col_type in [pl.UInt16, pl.UInt32, pl.UInt64]:\n",
    "            c_min = df[col].fill_null(0).min()\n",
    "            c_max = df[col].fill_null(0).max()\n",
    "            if c_min > np.iinfo(np.uint8).min and c_max < np.iinfo(np.uint8).max:\n",
    "                df = df.with_columns(pl.col(col).cast(pl.UInt8))\n",
    "            elif c_min > np.iinfo(np.uint16).min and c_max < np.iinfo(np.uint16).max:\n",
    "                df = df.with_columns(pl.col(col).cast(pl.UInt16))\n",
    "            elif c_min > np.iinfo(np.uint32).min and c_max < np.iinfo(np.uint32).max:\n",
    "                df = df.with_columns(pl.col(col).cast(pl.UInt32))\n",
    "        elif col_type == pl.Float64:\n",
    "            c_min = df[col].fill_null(0).min()\n",
    "            c_max = df[col].fill_null(0).max()\n",
    "            if c_min > np.finfo(np.float32).min and c_max < np.finfo(np.float32).max:\n",
    "                df = df.with_columns(pl.col(col).cast(pl.Float32))\n",
    "\n",
    "    gc.collect()\n",
    "    end_mem = df.estimated_size('mb')\n",
    "    print('Memory usage after optimization is: {:.2f} MB'.format(end_mem))\n",
    "    print('Decreased by {:.1f}%'.format(100 * (start_mem - end_mem) / start_mem))\n",
    "    \n",
    "    return df"
   ]
  },
  {
   "cell_type": "markdown",
   "id": "ef4b5256",
   "metadata": {
    "papermill": {
     "duration": 0.033002,
     "end_time": "2024-05-19T10:19:46.861298",
     "exception": false,
     "start_time": "2024-05-19T10:19:46.828296",
     "status": "completed"
    },
    "tags": []
   },
   "source": [
    "# Data import"
   ]
  },
  {
   "cell_type": "code",
   "execution_count": 9,
   "id": "b9e7285c",
   "metadata": {
    "execution": {
     "iopub.execute_input": "2024-05-19T10:19:47.006884Z",
     "iopub.status.busy": "2024-05-19T10:19:47.005953Z",
     "iopub.status.idle": "2024-05-19T10:19:48.953161Z",
     "shell.execute_reply": "2024-05-19T10:19:48.950199Z"
    },
    "papermill": {
     "duration": 1.997048,
     "end_time": "2024-05-19T10:19:48.959554",
     "exception": false,
     "start_time": "2024-05-19T10:19:46.962506",
     "status": "completed"
    },
    "tags": []
   },
   "outputs": [
    {
     "name": "stdout",
     "output_type": "stream",
     "text": [
      "\u001b[1m\u001b[31m\n",
      "RAM memory GB usage = 1.117\u001b[0m\n"
     ]
    }
   ],
   "source": [
    "articles = pl.read_parquet('/kaggle/input/ebnerd_small/articles.parquet')\n",
    "\n",
    "behaviors_train = pl.read_parquet('/kaggle/input/ebnerd_small/train/behaviors.parquet')\n",
    "history_train = pl.read_parquet('/kaggle/input/ebnerd_small/train/history.parquet')\n",
    "\n",
    "behaviors_val = pl.read_parquet('/kaggle/input/ebnerd_small/validation/behaviors.parquet')\n",
    "history_val = pl.read_parquet('/kaggle/input/ebnerd_small/validation/history.parquet')\n",
    "\n",
    "gc.collect()\n",
    "PrintColor(f\"\\n\" + GetMemUsage(), color = Fore.RED)"
   ]
  },
  {
   "cell_type": "markdown",
   "id": "b6915e6a",
   "metadata": {
    "papermill": {
     "duration": 0.03339,
     "end_time": "2024-05-19T10:19:49.027108",
     "exception": false,
     "start_time": "2024-05-19T10:19:48.993718",
     "status": "completed"
    },
    "tags": []
   },
   "source": [
    "# Articles Preprocessing"
   ]
  },
  {
   "cell_type": "code",
   "execution_count": 10,
   "id": "5ca8ee4d",
   "metadata": {
    "execution": {
     "iopub.execute_input": "2024-05-19T10:19:49.095691Z",
     "iopub.status.busy": "2024-05-19T10:19:49.095230Z",
     "iopub.status.idle": "2024-05-19T10:19:50.206460Z",
     "shell.execute_reply": "2024-05-19T10:19:50.205024Z"
    },
    "papermill": {
     "duration": 1.148902,
     "end_time": "2024-05-19T10:19:50.209752",
     "exception": false,
     "start_time": "2024-05-19T10:19:49.060850",
     "status": "completed"
    },
    "tags": []
   },
   "outputs": [
    {
     "name": "stdout",
     "output_type": "stream",
     "text": [
      "Memory usage of dataframe is 58.23 MB\n",
      "Memory usage after optimization is: 58.00 MB\n",
      "Decreased by 0.4%\n",
      "\u001b[1m\u001b[31m\n",
      "RAM memory GB usage = 1.126\u001b[0m\n"
     ]
    },
    {
     "data": {
      "text/html": [
       "<div><style>\n",
       ".dataframe > thead > tr,\n",
       ".dataframe > tbody > tr {\n",
       "  text-align: right;\n",
       "  white-space: pre-wrap;\n",
       "}\n",
       "</style>\n",
       "<small>shape: (2, 27)</small><table border=\"1\" class=\"dataframe\"><thead><tr><th>article_id</th><th>title</th><th>subtitle</th><th>last_modified_time</th><th>premium</th><th>body</th><th>published_time</th><th>image_ids</th><th>article_type</th><th>url</th><th>ner_clusters</th><th>entity_groups</th><th>topics</th><th>category</th><th>subcategory</th><th>category_str</th><th>total_inviews</th><th>total_pageviews</th><th>total_read_time</th><th>sentiment_score</th><th>sentiment_label</th><th>num_images</th><th>title_len</th><th>subtitle_len</th><th>body_len</th><th>num_topics</th><th>total_pageviews/inviews</th></tr><tr><td>i32</td><td>str</td><td>str</td><td>datetime[μs]</td><td>bool</td><td>str</td><td>datetime[μs]</td><td>list[i64]</td><td>str</td><td>str</td><td>list[str]</td><td>list[str]</td><td>list[str]</td><td>i16</td><td>list[i16]</td><td>str</td><td>i32</td><td>i32</td><td>f32</td><td>f32</td><td>str</td><td>u32</td><td>u8</td><td>u8</td><td>u16</td><td>u32</td><td>f32</td></tr></thead><tbody><tr><td>3001353</td><td>&quot;Natascha var ikke den første&quot;</td><td>&quot;Politiet frygter nu, at Natasc…</td><td>2023-06-29 06:20:33</td><td>false</td><td>&quot;Sagen om den østriske Natascha…</td><td>2006-08-31 08:06:45</td><td>[3150850]</td><td>&quot;article_default&quot;</td><td>&quot;https://ekstrabladet.dk/krimi/…</td><td>[]</td><td>[]</td><td>[&quot;Kriminalitet&quot;, &quot;Personfarlig_kriminalitet&quot;]</td><td>140</td><td>[]</td><td>&quot;krimi&quot;</td><td>null</td><td>null</td><td>null</td><td>0.9955</td><td>&quot;Negative&quot;</td><td>1</td><td>5</td><td>22</td><td>200</td><td>2</td><td>null</td></tr><tr><td>3003065</td><td>&quot;Kun Star Wars tjente mere&quot;</td><td>&quot;Biografgængerne strømmer ind f…</td><td>2023-06-29 06:20:35</td><td>false</td><td>&quot;Vatikanet har opfordret til at…</td><td>2006-05-21 16:57:00</td><td>[3006712]</td><td>&quot;article_default&quot;</td><td>&quot;https://ekstrabladet.dk/underh…</td><td>[]</td><td>[]</td><td>[&quot;Underholdning&quot;, &quot;Film_og_tv&quot;, &quot;Økonomi&quot;]</td><td>414</td><td>[433, 434]</td><td>&quot;underholdning&quot;</td><td>null</td><td>null</td><td>null</td><td>0.846</td><td>&quot;Positive&quot;</td><td>1</td><td>5</td><td>19</td><td>116</td><td>3</td><td>null</td></tr></tbody></table></div>"
      ],
      "text/plain": [
       "shape: (2, 27)\n",
       "┌───────────┬───────────┬───────────┬───────────┬───┬───────────┬──────────┬───────────┬───────────┐\n",
       "│ article_i ┆ title     ┆ subtitle  ┆ last_modi ┆ … ┆ subtitle_ ┆ body_len ┆ num_topic ┆ total_pag │\n",
       "│ d         ┆ ---       ┆ ---       ┆ fied_time ┆   ┆ len       ┆ ---      ┆ s         ┆ eviews/in │\n",
       "│ ---       ┆ str       ┆ str       ┆ ---       ┆   ┆ ---       ┆ u16      ┆ ---       ┆ views     │\n",
       "│ i32       ┆           ┆           ┆ datetime[ ┆   ┆ u8        ┆          ┆ u32       ┆ ---       │\n",
       "│           ┆           ┆           ┆ μs]       ┆   ┆           ┆          ┆           ┆ f32       │\n",
       "╞═══════════╪═══════════╪═══════════╪═══════════╪═══╪═══════════╪══════════╪═══════════╪═══════════╡\n",
       "│ 3001353   ┆ Natascha  ┆ Politiet  ┆ 2023-06-2 ┆ … ┆ 22        ┆ 200      ┆ 2         ┆ null      │\n",
       "│           ┆ var ikke  ┆ frygter   ┆ 9         ┆   ┆           ┆          ┆           ┆           │\n",
       "│           ┆ den       ┆ nu, at    ┆ 06:20:33  ┆   ┆           ┆          ┆           ┆           │\n",
       "│           ┆ første    ┆ Natasc…   ┆           ┆   ┆           ┆          ┆           ┆           │\n",
       "│ 3003065   ┆ Kun Star  ┆ Biografgæ ┆ 2023-06-2 ┆ … ┆ 19        ┆ 116      ┆ 3         ┆ null      │\n",
       "│           ┆ Wars      ┆ ngerne    ┆ 9         ┆   ┆           ┆          ┆           ┆           │\n",
       "│           ┆ tjente    ┆ strømmer  ┆ 06:20:35  ┆   ┆           ┆          ┆           ┆           │\n",
       "│           ┆ mere      ┆ ind f…    ┆           ┆   ┆           ┆          ┆           ┆           │\n",
       "└───────────┴───────────┴───────────┴───────────┴───┴───────────┴──────────┴───────────┴───────────┘"
      ]
     },
     "execution_count": 10,
     "metadata": {},
     "output_type": "execute_result"
    }
   ],
   "source": [
    "articles = articles.with_columns(\n",
    "    pl.col('image_ids').list.len().alias('num_images'),\n",
    "    pl.col('title').str.split(by=' ').list.len().alias('title_len'),\n",
    "    pl.col('subtitle').str.split(by=' ').list.len().alias('subtitle_len'),\n",
    "    pl.col('body').str.split(by=' ').list.len().alias('body_len'),\n",
    "    # very important for tf-idf, otherwise multiple tokens for topics with spaces are built\n",
    "    pl.col('topics').list.eval(pl.element().str.split(by=' ').list.join('_')),\n",
    "    pl.col('topics').list.len().alias('num_topics'),\n",
    "    (pl.col('total_pageviews') / pl.col('total_inviews')).alias('total_pageviews/inviews')\n",
    ")\n",
    "articles = reduce_polars_df_memory_size(articles)\n",
    "\n",
    "gc.collect()\n",
    "PrintColor(f\"\\n\" + GetMemUsage(), color = Fore.RED)\n",
    "articles.head(2)"
   ]
  },
  {
   "cell_type": "code",
   "execution_count": 11,
   "id": "97bca204",
   "metadata": {
    "execution": {
     "iopub.execute_input": "2024-05-19T10:19:50.283127Z",
     "iopub.status.busy": "2024-05-19T10:19:50.282662Z",
     "iopub.status.idle": "2024-05-19T10:19:50.300093Z",
     "shell.execute_reply": "2024-05-19T10:19:50.298869Z"
    },
    "papermill": {
     "duration": 0.05851,
     "end_time": "2024-05-19T10:19:50.302775",
     "exception": false,
     "start_time": "2024-05-19T10:19:50.244265",
     "status": "completed"
    },
    "tags": []
   },
   "outputs": [
    {
     "data": {
      "text/plain": [
       "['PROD', 'LOC', 'MISC', 'ORG', 'PER', 'EVENT']"
      ]
     },
     "execution_count": 11,
     "metadata": {},
     "output_type": "execute_result"
    }
   ],
   "source": [
    "unique_entities = articles.select('entity_groups').explode('entity_groups')['entity_groups'].unique().to_list()\n",
    "unique_entities = [e for e in unique_entities if e is not None]\n",
    "unique_entities"
   ]
  },
  {
   "cell_type": "code",
   "execution_count": 12,
   "id": "d12d5001",
   "metadata": {
    "execution": {
     "iopub.execute_input": "2024-05-19T10:19:50.375062Z",
     "iopub.status.busy": "2024-05-19T10:19:50.374489Z",
     "iopub.status.idle": "2024-05-19T10:19:50.386808Z",
     "shell.execute_reply": "2024-05-19T10:19:50.385437Z"
    },
    "papermill": {
     "duration": 0.050235,
     "end_time": "2024-05-19T10:19:50.389278",
     "exception": false,
     "start_time": "2024-05-19T10:19:50.339043",
     "status": "completed"
    },
    "tags": []
   },
   "outputs": [
    {
     "data": {
      "text/plain": [
       "{414: 'underholdning',\n",
       " 2975: 'penge',\n",
       " 2504: 'bibliotek',\n",
       " 572: 'side9',\n",
       " 539: 'ferie',\n",
       " 140: 'krimi',\n",
       " 22: 'horoskoper',\n",
       " 498: 'musik',\n",
       " 2737: 'podcast',\n",
       " 457: 'forbrug',\n",
       " 2731: 'dagsorden',\n",
       " 561: 'haandvaerkeren',\n",
       " 2341: 'plus',\n",
       " 2889: 'auto',\n",
       " 1505: 'vin',\n",
       " 731: 'services',\n",
       " 2: 'incoming',\n",
       " 142: 'sport',\n",
       " 806: 'om_ekstra_bladet',\n",
       " 2077: 'opinionen',\n",
       " 529: 'biler',\n",
       " 118: 'nyheder',\n",
       " 565: 'sex_og_samliv',\n",
       " 512: 'nationen',\n",
       " 68: 'video'}"
      ]
     },
     "execution_count": 12,
     "metadata": {},
     "output_type": "execute_result"
    }
   ],
   "source": [
    "# in case of two category_str for the same category, one of the two is picked\n",
    "unique_categories_df = articles.select(['category', 'category_str']).unique('category').drop_nulls('category')\n",
    "unique_categories = {\n",
    "    row['category']: row['category_str'] for row in unique_categories_df.iter_rows(named=True)\n",
    "}\n",
    "unique_categories"
   ]
  },
  {
   "cell_type": "markdown",
   "id": "eb6998f5",
   "metadata": {
    "papermill": {
     "duration": 0.03547,
     "end_time": "2024-05-19T10:19:50.459577",
     "exception": false,
     "start_time": "2024-05-19T10:19:50.424107",
     "status": "completed"
    },
    "tags": []
   },
   "source": [
    "Mapping sentiment labels to -1, 0, 1 to save memory in the history dataframe.\n",
    "Taking only article_default type and mapping it to 0/1 since after only this is needed (and it saves memory) for the history at the moment"
   ]
  },
  {
   "cell_type": "code",
   "execution_count": 13,
   "id": "c2b34e94",
   "metadata": {
    "execution": {
     "iopub.execute_input": "2024-05-19T10:19:50.530140Z",
     "iopub.status.busy": "2024-05-19T10:19:50.529661Z",
     "iopub.status.idle": "2024-05-19T10:19:50.537921Z",
     "shell.execute_reply": "2024-05-19T10:19:50.536563Z"
    },
    "papermill": {
     "duration": 0.046917,
     "end_time": "2024-05-19T10:19:50.540319",
     "exception": false,
     "start_time": "2024-05-19T10:19:50.493402",
     "status": "completed"
    },
    "tags": []
   },
   "outputs": [],
   "source": [
    "articles = articles.with_columns(\n",
    "    pl.when(pl.col('sentiment_label') == 'Negative').then(-1) \\\n",
    "        .otherwise(\n",
    "            pl.when(pl.col('sentiment_label') == 'Positive').then(1).otherwise(0)\n",
    "        ).cast(pl.Int8).alias('sentiment_label_int'),\n",
    "    (pl.col('article_type') == 'article_default').cast(pl.UInt8).alias('is_article_default')\n",
    ")"
   ]
  },
  {
   "cell_type": "markdown",
   "id": "0ee05c28",
   "metadata": {
    "papermill": {
     "duration": 0.035155,
     "end_time": "2024-05-19T10:19:50.610050",
     "exception": false,
     "start_time": "2024-05-19T10:19:50.574895",
     "status": "completed"
    },
    "tags": []
   },
   "source": [
    "## Topics TF-IDF"
   ]
  },
  {
   "cell_type": "code",
   "execution_count": 14,
   "id": "86902131",
   "metadata": {
    "execution": {
     "iopub.execute_input": "2024-05-19T10:19:50.680521Z",
     "iopub.status.busy": "2024-05-19T10:19:50.680106Z",
     "iopub.status.idle": "2024-05-19T10:19:51.258225Z",
     "shell.execute_reply": "2024-05-19T10:19:51.256694Z"
    },
    "papermill": {
     "duration": 0.617698,
     "end_time": "2024-05-19T10:19:51.261382",
     "exception": false,
     "start_time": "2024-05-19T10:19:50.643684",
     "status": "completed"
    },
    "tags": []
   },
   "outputs": [
    {
     "name": "stdout",
     "output_type": "stream",
     "text": [
      "\u001b[1m\u001b[31m\n",
      "RAM memory GB usage = 1.142\u001b[0m\n"
     ]
    },
    {
     "data": {
      "text/html": [
       "<div><style>\n",
       ".dataframe > thead > tr,\n",
       ".dataframe > tbody > tr {\n",
       "  text-align: right;\n",
       "  white-space: pre-wrap;\n",
       "}\n",
       "</style>\n",
       "<small>shape: (2, 30)</small><table border=\"1\" class=\"dataframe\"><thead><tr><th>article_id</th><th>title</th><th>subtitle</th><th>last_modified_time</th><th>premium</th><th>body</th><th>published_time</th><th>image_ids</th><th>article_type</th><th>url</th><th>ner_clusters</th><th>entity_groups</th><th>topics</th><th>category</th><th>subcategory</th><th>category_str</th><th>total_inviews</th><th>total_pageviews</th><th>total_read_time</th><th>sentiment_score</th><th>sentiment_label</th><th>num_images</th><th>title_len</th><th>subtitle_len</th><th>body_len</th><th>num_topics</th><th>total_pageviews/inviews</th><th>sentiment_label_int</th><th>is_article_default</th><th>topics_idf</th></tr><tr><td>i32</td><td>str</td><td>str</td><td>datetime[μs]</td><td>bool</td><td>str</td><td>datetime[μs]</td><td>list[i64]</td><td>str</td><td>str</td><td>list[str]</td><td>list[str]</td><td>list[str]</td><td>i16</td><td>list[i16]</td><td>str</td><td>i32</td><td>i32</td><td>f32</td><td>f32</td><td>str</td><td>u32</td><td>u8</td><td>u8</td><td>u16</td><td>u32</td><td>f32</td><td>i8</td><td>u8</td><td>list[f32]</td></tr></thead><tbody><tr><td>3001353</td><td>&quot;Natascha var ikke den første&quot;</td><td>&quot;Politiet frygter nu, at Natasc…</td><td>2023-06-29 06:20:33</td><td>false</td><td>&quot;Sagen om den østriske Natascha…</td><td>2006-08-31 08:06:45</td><td>[3150850]</td><td>&quot;article_default&quot;</td><td>&quot;https://ekstrabladet.dk/krimi/…</td><td>[]</td><td>[]</td><td>[&quot;Kriminalitet&quot;, &quot;Personfarlig_kriminalitet&quot;]</td><td>140</td><td>[]</td><td>&quot;krimi&quot;</td><td>null</td><td>null</td><td>null</td><td>0.9955</td><td>&quot;Negative&quot;</td><td>1</td><td>5</td><td>22</td><td>200</td><td>2</td><td>null</td><td>-1</td><td>1</td><td>[0.0, 0.0, … 0.0]</td></tr><tr><td>3003065</td><td>&quot;Kun Star Wars tjente mere&quot;</td><td>&quot;Biografgængerne strømmer ind f…</td><td>2023-06-29 06:20:35</td><td>false</td><td>&quot;Vatikanet har opfordret til at…</td><td>2006-05-21 16:57:00</td><td>[3006712]</td><td>&quot;article_default&quot;</td><td>&quot;https://ekstrabladet.dk/underh…</td><td>[]</td><td>[]</td><td>[&quot;Underholdning&quot;, &quot;Film_og_tv&quot;, &quot;Økonomi&quot;]</td><td>414</td><td>[433, 434]</td><td>&quot;underholdning&quot;</td><td>null</td><td>null</td><td>null</td><td>0.846</td><td>&quot;Positive&quot;</td><td>1</td><td>5</td><td>19</td><td>116</td><td>3</td><td>null</td><td>1</td><td>1</td><td>[0.0, 0.0, … 0.536059]</td></tr></tbody></table></div>"
      ],
      "text/plain": [
       "shape: (2, 30)\n",
       "┌───────────┬───────────┬───────────┬───────────┬───┬───────────┬───────────┬───────────┬──────────┐\n",
       "│ article_i ┆ title     ┆ subtitle  ┆ last_modi ┆ … ┆ total_pag ┆ sentiment ┆ is_articl ┆ topics_i │\n",
       "│ d         ┆ ---       ┆ ---       ┆ fied_time ┆   ┆ eviews/in ┆ _label_in ┆ e_default ┆ df       │\n",
       "│ ---       ┆ str       ┆ str       ┆ ---       ┆   ┆ views     ┆ t         ┆ ---       ┆ ---      │\n",
       "│ i32       ┆           ┆           ┆ datetime[ ┆   ┆ ---       ┆ ---       ┆ u8        ┆ list[f32 │\n",
       "│           ┆           ┆           ┆ μs]       ┆   ┆ f32       ┆ i8        ┆           ┆ ]        │\n",
       "╞═══════════╪═══════════╪═══════════╪═══════════╪═══╪═══════════╪═══════════╪═══════════╪══════════╡\n",
       "│ 3001353   ┆ Natascha  ┆ Politiet  ┆ 2023-06-2 ┆ … ┆ null      ┆ -1        ┆ 1         ┆ [0.0,    │\n",
       "│           ┆ var ikke  ┆ frygter   ┆ 9         ┆   ┆           ┆           ┆           ┆ 0.0, …   │\n",
       "│           ┆ den       ┆ nu, at    ┆ 06:20:33  ┆   ┆           ┆           ┆           ┆ 0.0]     │\n",
       "│           ┆ første    ┆ Natasc…   ┆           ┆   ┆           ┆           ┆           ┆          │\n",
       "│ 3003065   ┆ Kun Star  ┆ Biografgæ ┆ 2023-06-2 ┆ … ┆ null      ┆ 1         ┆ 1         ┆ [0.0,    │\n",
       "│           ┆ Wars      ┆ ngerne    ┆ 9         ┆   ┆           ┆           ┆           ┆ 0.0, …   │\n",
       "│           ┆ tjente    ┆ strømmer  ┆ 06:20:35  ┆   ┆           ┆           ┆           ┆ 0.536059 │\n",
       "│           ┆ mere      ┆ ind f…    ┆           ┆   ┆           ┆           ┆           ┆ ]        │\n",
       "└───────────┴───────────┴───────────┴───────────┴───┴───────────┴───────────┴───────────┴──────────┘"
      ]
     },
     "execution_count": 14,
     "metadata": {},
     "output_type": "execute_result"
    }
   ],
   "source": [
    "from sklearn.feature_extraction.text import TfidfVectorizer\n",
    "\n",
    "vectorizer = TfidfVectorizer()\n",
    "articles = articles.with_columns(\n",
    "    pl.Series(\n",
    "        vectorizer.fit_transform(\n",
    "            articles.with_columns(pl.col('topics').list.join(separator=' '))['topics'].to_list()\n",
    "        ).toarray().astype(np.float32)\n",
    "    ).alias('topics_idf')\n",
    ")\n",
    "\n",
    "gc.collect()\n",
    "PrintColor(f\"\\n\" + GetMemUsage(), color = Fore.RED)\n",
    "articles.head(2)"
   ]
  },
  {
   "cell_type": "code",
   "execution_count": 15,
   "id": "97d6676e",
   "metadata": {
    "execution": {
     "iopub.execute_input": "2024-05-19T10:19:51.336835Z",
     "iopub.status.busy": "2024-05-19T10:19:51.336127Z",
     "iopub.status.idle": "2024-05-19T10:19:51.343147Z",
     "shell.execute_reply": "2024-05-19T10:19:51.341939Z"
    },
    "papermill": {
     "duration": 0.048222,
     "end_time": "2024-05-19T10:19:51.345608",
     "exception": false,
     "start_time": "2024-05-19T10:19:51.297386",
     "status": "completed"
    },
    "tags": []
   },
   "outputs": [
    {
     "data": {
      "text/plain": [
       "79"
      ]
     },
     "execution_count": 15,
     "metadata": {},
     "output_type": "execute_result"
    }
   ],
   "source": [
    "# without split + join with _ of the single topics this returns 94\n",
    "len(vectorizer.get_feature_names_out())"
   ]
  },
  {
   "cell_type": "markdown",
   "id": "8d85a1ca",
   "metadata": {
    "papermill": {
     "duration": 0.033989,
     "end_time": "2024-05-19T10:19:51.414825",
     "exception": false,
     "start_time": "2024-05-19T10:19:51.380836",
     "status": "completed"
    },
    "tags": []
   },
   "source": [
    "## Topic Model"
   ]
  },
  {
   "cell_type": "code",
   "execution_count": 16,
   "id": "347cb877",
   "metadata": {
    "execution": {
     "iopub.execute_input": "2024-05-19T10:19:51.486810Z",
     "iopub.status.busy": "2024-05-19T10:19:51.486066Z",
     "iopub.status.idle": "2024-05-19T10:19:52.385645Z",
     "shell.execute_reply": "2024-05-19T10:19:52.383844Z"
    },
    "papermill": {
     "duration": 0.938982,
     "end_time": "2024-05-19T10:19:52.388776",
     "exception": false,
     "start_time": "2024-05-19T10:19:51.449794",
     "status": "completed"
    },
    "tags": []
   },
   "outputs": [],
   "source": [
    "import nltk\n",
    "from sklearn.feature_extraction.text import CountVectorizer\n",
    "\n",
    "stopwords = nltk.corpus.stopwords.words('danish')\n",
    "title_vectorizer = CountVectorizer(stop_words=stopwords)\n",
    "\n",
    "titles_bow = title_vectorizer.fit_transform(articles['title'].to_list())"
   ]
  },
  {
   "cell_type": "code",
   "execution_count": 17,
   "id": "70d296bd",
   "metadata": {
    "execution": {
     "iopub.execute_input": "2024-05-19T10:19:52.462295Z",
     "iopub.status.busy": "2024-05-19T10:19:52.461479Z",
     "iopub.status.idle": "2024-05-19T10:20:30.797591Z",
     "shell.execute_reply": "2024-05-19T10:20:30.796066Z"
    },
    "papermill": {
     "duration": 38.408109,
     "end_time": "2024-05-19T10:20:30.831966",
     "exception": false,
     "start_time": "2024-05-19T10:19:52.423857",
     "status": "completed"
    },
    "tags": []
   },
   "outputs": [
    {
     "name": "stdout",
     "output_type": "stream",
     "text": [
      "CPU times: user 38.3 s, sys: 2.32 ms, total: 38.3 s\n",
      "Wall time: 38.3 s\n"
     ]
    },
    {
     "data": {
      "text/html": [
       "<div><style>\n",
       ".dataframe > thead > tr,\n",
       ".dataframe > tbody > tr {\n",
       "  text-align: right;\n",
       "  white-space: pre-wrap;\n",
       "}\n",
       "</style>\n",
       "<small>shape: (2, 31)</small><table border=\"1\" class=\"dataframe\"><thead><tr><th>article_id</th><th>title</th><th>subtitle</th><th>last_modified_time</th><th>premium</th><th>body</th><th>published_time</th><th>image_ids</th><th>article_type</th><th>url</th><th>ner_clusters</th><th>entity_groups</th><th>topics</th><th>category</th><th>subcategory</th><th>category_str</th><th>total_inviews</th><th>total_pageviews</th><th>total_read_time</th><th>sentiment_score</th><th>sentiment_label</th><th>num_images</th><th>title_len</th><th>subtitle_len</th><th>body_len</th><th>num_topics</th><th>total_pageviews/inviews</th><th>sentiment_label_int</th><th>is_article_default</th><th>topics_idf</th><th>topic_model_embeddings</th></tr><tr><td>i32</td><td>str</td><td>str</td><td>datetime[μs]</td><td>bool</td><td>str</td><td>datetime[μs]</td><td>list[i64]</td><td>str</td><td>str</td><td>list[str]</td><td>list[str]</td><td>list[str]</td><td>i16</td><td>list[i16]</td><td>str</td><td>i32</td><td>i32</td><td>f32</td><td>f32</td><td>str</td><td>u32</td><td>u8</td><td>u8</td><td>u16</td><td>u32</td><td>f32</td><td>i8</td><td>u8</td><td>list[f32]</td><td>array[f32, 5]</td></tr></thead><tbody><tr><td>3001353</td><td>&quot;Natascha var ikke den første&quot;</td><td>&quot;Politiet frygter nu, at Natasc…</td><td>2023-06-29 06:20:33</td><td>false</td><td>&quot;Sagen om den østriske Natascha…</td><td>2006-08-31 08:06:45</td><td>[3150850]</td><td>&quot;article_default&quot;</td><td>&quot;https://ekstrabladet.dk/krimi/…</td><td>[]</td><td>[]</td><td>[&quot;Kriminalitet&quot;, &quot;Personfarlig_kriminalitet&quot;]</td><td>140</td><td>[]</td><td>&quot;krimi&quot;</td><td>null</td><td>null</td><td>null</td><td>0.9955</td><td>&quot;Negative&quot;</td><td>1</td><td>5</td><td>22</td><td>200</td><td>2</td><td>null</td><td>-1</td><td>1</td><td>[0.0, 0.0, … 0.0]</td><td>[0.143627, 0.143834, … 0.143573]</td></tr><tr><td>3003065</td><td>&quot;Kun Star Wars tjente mere&quot;</td><td>&quot;Biografgængerne strømmer ind f…</td><td>2023-06-29 06:20:35</td><td>false</td><td>&quot;Vatikanet har opfordret til at…</td><td>2006-05-21 16:57:00</td><td>[3006712]</td><td>&quot;article_default&quot;</td><td>&quot;https://ekstrabladet.dk/underh…</td><td>[]</td><td>[]</td><td>[&quot;Underholdning&quot;, &quot;Film_og_tv&quot;, &quot;Økonomi&quot;]</td><td>414</td><td>[433, 434]</td><td>&quot;underholdning&quot;</td><td>null</td><td>null</td><td>null</td><td>0.846</td><td>&quot;Positive&quot;</td><td>1</td><td>5</td><td>19</td><td>116</td><td>3</td><td>null</td><td>1</td><td>1</td><td>[0.0, 0.0, … 0.536059]</td><td>[0.243209, 0.193003, … 0.110556]</td></tr></tbody></table></div>"
      ],
      "text/plain": [
       "shape: (2, 31)\n",
       "┌───────────┬───────────┬───────────┬───────────┬───┬───────────┬───────────┬───────────┬──────────┐\n",
       "│ article_i ┆ title     ┆ subtitle  ┆ last_modi ┆ … ┆ sentiment ┆ is_articl ┆ topics_id ┆ topic_mo │\n",
       "│ d         ┆ ---       ┆ ---       ┆ fied_time ┆   ┆ _label_in ┆ e_default ┆ f         ┆ del_embe │\n",
       "│ ---       ┆ str       ┆ str       ┆ ---       ┆   ┆ t         ┆ ---       ┆ ---       ┆ ddings   │\n",
       "│ i32       ┆           ┆           ┆ datetime[ ┆   ┆ ---       ┆ u8        ┆ list[f32] ┆ ---      │\n",
       "│           ┆           ┆           ┆ μs]       ┆   ┆ i8        ┆           ┆           ┆ array[f3 │\n",
       "│           ┆           ┆           ┆           ┆   ┆           ┆           ┆           ┆ 2, 5]    │\n",
       "╞═══════════╪═══════════╪═══════════╪═══════════╪═══╪═══════════╪═══════════╪═══════════╪══════════╡\n",
       "│ 3001353   ┆ Natascha  ┆ Politiet  ┆ 2023-06-2 ┆ … ┆ -1        ┆ 1         ┆ [0.0,     ┆ [0.14362 │\n",
       "│           ┆ var ikke  ┆ frygter   ┆ 9         ┆   ┆           ┆           ┆ 0.0, …    ┆ 7, 0.143 │\n",
       "│           ┆ den       ┆ nu, at    ┆ 06:20:33  ┆   ┆           ┆           ┆ 0.0]      ┆ 834, …   │\n",
       "│           ┆ første    ┆ Natasc…   ┆           ┆   ┆           ┆           ┆           ┆ 0.14357… │\n",
       "│ 3003065   ┆ Kun Star  ┆ Biografgæ ┆ 2023-06-2 ┆ … ┆ 1         ┆ 1         ┆ [0.0,     ┆ [0.24320 │\n",
       "│           ┆ Wars      ┆ ngerne    ┆ 9         ┆   ┆           ┆           ┆ 0.0, …    ┆ 9, 0.193 │\n",
       "│           ┆ tjente    ┆ strømmer  ┆ 06:20:35  ┆   ┆           ┆           ┆ 0.536059] ┆ 003, …   │\n",
       "│           ┆ mere      ┆ ind f…    ┆           ┆   ┆           ┆           ┆           ┆ 0.11055… │\n",
       "└───────────┴───────────┴───────────┴───────────┴───┴───────────┴───────────┴───────────┴──────────┘"
      ]
     },
     "execution_count": 17,
     "metadata": {},
     "output_type": "execute_result"
    }
   ],
   "source": [
    "%%time\n",
    "\n",
    "from sklearn.decomposition import LatentDirichletAllocation\n",
    "\n",
    "# parameters tuned on perplexity\n",
    "N_COMPONENTS = 5\n",
    "lda_model = LatentDirichletAllocation(\n",
    "    n_components=N_COMPONENTS,\n",
    "    doc_topic_prior=0.99,\n",
    "    topic_word_prior=0.75,\n",
    "    learning_method='online'\n",
    ")\n",
    "articles = articles.with_columns(\n",
    "    pl.Series(lda_model.fit_transform(titles_bow).astype(np.float32)) \\\n",
    "        .list.to_array(5).alias('topic_model_embeddings')\n",
    ")\n",
    "articles.head(2)"
   ]
  },
  {
   "cell_type": "code",
   "execution_count": 18,
   "id": "50426978",
   "metadata": {
    "execution": {
     "iopub.execute_input": "2024-05-19T10:20:30.904677Z",
     "iopub.status.busy": "2024-05-19T10:20:30.904255Z",
     "iopub.status.idle": "2024-05-19T10:20:30.920148Z",
     "shell.execute_reply": "2024-05-19T10:20:30.918888Z"
    },
    "papermill": {
     "duration": 0.055666,
     "end_time": "2024-05-19T10:20:30.922595",
     "exception": false,
     "start_time": "2024-05-19T10:20:30.866929",
     "status": "completed"
    },
    "tags": []
   },
   "outputs": [
    {
     "data": {
      "text/html": [
       "<div><style>\n",
       ".dataframe > thead > tr,\n",
       ".dataframe > tbody > tr {\n",
       "  text-align: right;\n",
       "  white-space: pre-wrap;\n",
       "}\n",
       "</style>\n",
       "<small>shape: (2, 35)</small><table border=\"1\" class=\"dataframe\"><thead><tr><th>article_id</th><th>title</th><th>subtitle</th><th>last_modified_time</th><th>premium</th><th>body</th><th>published_time</th><th>image_ids</th><th>article_type</th><th>url</th><th>ner_clusters</th><th>entity_groups</th><th>topics</th><th>category</th><th>subcategory</th><th>category_str</th><th>total_inviews</th><th>total_pageviews</th><th>total_read_time</th><th>sentiment_score</th><th>sentiment_label</th><th>num_images</th><th>title_len</th><th>subtitle_len</th><th>body_len</th><th>num_topics</th><th>total_pageviews/inviews</th><th>sentiment_label_int</th><th>is_article_default</th><th>topics_idf</th><th>topic_model_embedding_0</th><th>topic_model_embedding_1</th><th>topic_model_embedding_2</th><th>topic_model_embedding_3</th><th>topic_model_embedding_4</th></tr><tr><td>i32</td><td>str</td><td>str</td><td>datetime[μs]</td><td>bool</td><td>str</td><td>datetime[μs]</td><td>list[i64]</td><td>str</td><td>str</td><td>list[str]</td><td>list[str]</td><td>list[str]</td><td>i16</td><td>list[i16]</td><td>str</td><td>i32</td><td>i32</td><td>f32</td><td>f32</td><td>str</td><td>u32</td><td>u8</td><td>u8</td><td>u16</td><td>u32</td><td>f32</td><td>i8</td><td>u8</td><td>list[f32]</td><td>f32</td><td>f32</td><td>f32</td><td>f32</td><td>f32</td></tr></thead><tbody><tr><td>3001353</td><td>&quot;Natascha var ikke den første&quot;</td><td>&quot;Politiet frygter nu, at Natasc…</td><td>2023-06-29 06:20:33</td><td>false</td><td>&quot;Sagen om den østriske Natascha…</td><td>2006-08-31 08:06:45</td><td>[3150850]</td><td>&quot;article_default&quot;</td><td>&quot;https://ekstrabladet.dk/krimi/…</td><td>[]</td><td>[]</td><td>[&quot;Kriminalitet&quot;, &quot;Personfarlig_kriminalitet&quot;]</td><td>140</td><td>[]</td><td>&quot;krimi&quot;</td><td>null</td><td>null</td><td>null</td><td>0.9955</td><td>&quot;Negative&quot;</td><td>1</td><td>5</td><td>22</td><td>200</td><td>2</td><td>null</td><td>-1</td><td>1</td><td>[0.0, 0.0, … 0.0]</td><td>0.143627</td><td>0.143834</td><td>0.287673</td><td>0.281293</td><td>0.143573</td></tr><tr><td>3003065</td><td>&quot;Kun Star Wars tjente mere&quot;</td><td>&quot;Biografgængerne strømmer ind f…</td><td>2023-06-29 06:20:35</td><td>false</td><td>&quot;Vatikanet har opfordret til at…</td><td>2006-05-21 16:57:00</td><td>[3006712]</td><td>&quot;article_default&quot;</td><td>&quot;https://ekstrabladet.dk/underh…</td><td>[]</td><td>[]</td><td>[&quot;Underholdning&quot;, &quot;Film_og_tv&quot;, &quot;Økonomi&quot;]</td><td>414</td><td>[433, 434]</td><td>&quot;underholdning&quot;</td><td>null</td><td>null</td><td>null</td><td>0.846</td><td>&quot;Positive&quot;</td><td>1</td><td>5</td><td>19</td><td>116</td><td>3</td><td>null</td><td>1</td><td>1</td><td>[0.0, 0.0, … 0.536059]</td><td>0.243209</td><td>0.193003</td><td>0.336253</td><td>0.116979</td><td>0.110556</td></tr></tbody></table></div>"
      ],
      "text/plain": [
       "shape: (2, 35)\n",
       "┌───────────┬───────────┬───────────┬───────────┬───┬───────────┬───────────┬───────────┬──────────┐\n",
       "│ article_i ┆ title     ┆ subtitle  ┆ last_modi ┆ … ┆ topic_mod ┆ topic_mod ┆ topic_mod ┆ topic_mo │\n",
       "│ d         ┆ ---       ┆ ---       ┆ fied_time ┆   ┆ el_embedd ┆ el_embedd ┆ el_embedd ┆ del_embe │\n",
       "│ ---       ┆ str       ┆ str       ┆ ---       ┆   ┆ ing_1     ┆ ing_2     ┆ ing_3     ┆ dding_4  │\n",
       "│ i32       ┆           ┆           ┆ datetime[ ┆   ┆ ---       ┆ ---       ┆ ---       ┆ ---      │\n",
       "│           ┆           ┆           ┆ μs]       ┆   ┆ f32       ┆ f32       ┆ f32       ┆ f32      │\n",
       "╞═══════════╪═══════════╪═══════════╪═══════════╪═══╪═══════════╪═══════════╪═══════════╪══════════╡\n",
       "│ 3001353   ┆ Natascha  ┆ Politiet  ┆ 2023-06-2 ┆ … ┆ 0.143834  ┆ 0.287673  ┆ 0.281293  ┆ 0.143573 │\n",
       "│           ┆ var ikke  ┆ frygter   ┆ 9         ┆   ┆           ┆           ┆           ┆          │\n",
       "│           ┆ den       ┆ nu, at    ┆ 06:20:33  ┆   ┆           ┆           ┆           ┆          │\n",
       "│           ┆ første    ┆ Natasc…   ┆           ┆   ┆           ┆           ┆           ┆          │\n",
       "│ 3003065   ┆ Kun Star  ┆ Biografgæ ┆ 2023-06-2 ┆ … ┆ 0.193003  ┆ 0.336253  ┆ 0.116979  ┆ 0.110556 │\n",
       "│           ┆ Wars      ┆ ngerne    ┆ 9         ┆   ┆           ┆           ┆           ┆          │\n",
       "│           ┆ tjente    ┆ strømmer  ┆ 06:20:35  ┆   ┆           ┆           ┆           ┆          │\n",
       "│           ┆ mere      ┆ ind f…    ┆           ┆   ┆           ┆           ┆           ┆          │\n",
       "└───────────┴───────────┴───────────┴───────────┴───┴───────────┴───────────┴───────────┴──────────┘"
      ]
     },
     "execution_count": 18,
     "metadata": {},
     "output_type": "execute_result"
    }
   ],
   "source": [
    "topic_model_columns = [f'topic_model_embedding_{i}' for i in range(N_COMPONENTS)]\n",
    "\n",
    "articles = articles.with_columns(\n",
    "    pl.col('topic_model_embeddings').arr.to_struct(fields=lambda i: f'topic_model_embedding_{i}')\n",
    ").with_columns([\n",
    "    pl.col('topic_model_embeddings').struct.field(f'topic_model_embedding_{i}') for i in range(N_COMPONENTS)\n",
    "]).drop('topic_model_embeddings')\n",
    "\n",
    "articles.head(2)"
   ]
  },
  {
   "cell_type": "markdown",
   "id": "4e886125",
   "metadata": {
    "papermill": {
     "duration": 0.037235,
     "end_time": "2024-05-19T10:20:30.994685",
     "exception": false,
     "start_time": "2024-05-19T10:20:30.957450",
     "status": "completed"
    },
    "tags": []
   },
   "source": [
    "# History preprocessing"
   ]
  },
  {
   "cell_type": "code",
   "execution_count": 19,
   "id": "cfa9d8d6",
   "metadata": {
    "execution": {
     "iopub.execute_input": "2024-05-19T10:20:31.073312Z",
     "iopub.status.busy": "2024-05-19T10:20:31.072866Z",
     "iopub.status.idle": "2024-05-19T10:20:31.080381Z",
     "shell.execute_reply": "2024-05-19T10:20:31.078877Z"
    },
    "papermill": {
     "duration": 0.048906,
     "end_time": "2024-05-19T10:20:31.083035",
     "exception": false,
     "start_time": "2024-05-19T10:20:31.034129",
     "status": "completed"
    },
    "tags": []
   },
   "outputs": [],
   "source": [
    "def add_topics_tf_idf_columns(df, topics_col, vectorizer):\n",
    "    return df.with_columns(\n",
    "        pl.Series(\n",
    "            vectorizer.transform(\n",
    "                df.with_columns(pl.col(topics_col).list.join(separator=' '))[topics_col].to_list()\n",
    "            ).toarray().astype(np.float32)\n",
    "        ).alias(f'{topics_col}_tf_idf')\n",
    "    )"
   ]
  },
  {
   "cell_type": "code",
   "execution_count": 20,
   "id": "9d6af570",
   "metadata": {
    "execution": {
     "iopub.execute_input": "2024-05-19T10:20:31.159080Z",
     "iopub.status.busy": "2024-05-19T10:20:31.158647Z",
     "iopub.status.idle": "2024-05-19T10:20:49.752170Z",
     "shell.execute_reply": "2024-05-19T10:20:49.750773Z"
    },
    "papermill": {
     "duration": 18.633737,
     "end_time": "2024-05-19T10:20:49.754964",
     "exception": false,
     "start_time": "2024-05-19T10:20:31.121227",
     "status": "completed"
    },
    "tags": []
   },
   "outputs": [
    {
     "name": "stderr",
     "output_type": "stream",
     "text": [
      "16it [00:17,  1.11s/it]                        \n"
     ]
    },
    {
     "name": "stdout",
     "output_type": "stream",
     "text": [
      "\u001b[1m\u001b[31m\n",
      "RAM memory GB usage = 1.237\u001b[0m\n",
      "Memory usage of dataframe is 39.38 MB\n",
      "Memory usage after optimization is: 38.61 MB\n",
      "Decreased by 2.0%\n",
      "CPU times: user 20.9 s, sys: 1.71 s, total: 22.6 s\n",
      "Wall time: 18.6 s\n"
     ]
    },
    {
     "data": {
      "text/html": [
       "<div><style>\n",
       ".dataframe > thead > tr,\n",
       ".dataframe > tbody > tr {\n",
       "  text-align: right;\n",
       "  white-space: pre-wrap;\n",
       "}\n",
       "</style>\n",
       "<small>shape: (2, 27)</small><table border=\"1\" class=\"dataframe\"><thead><tr><th>user_id</th><th>article_id_fixed</th><th>impression_time_fixed</th><th>category</th><th>NumArticlesHistory</th><th>MedianReadTime</th><th>MaxReadTime</th><th>TotalReadTime</th><th>MedianScrollPercentage</th><th>MaxScrollPercentage</th><th>NeutralPct</th><th>PositivePct</th><th>NegativePct</th><th>PctStrongNeutral</th><th>PctStrongPositive</th><th>PctStrongNegative</th><th>PctNotDefaultArticles</th><th>MostFrequentCategory</th><th>MostFrequentWeekday</th><th>MostFrequentHour</th><th>topics_flatten_tf_idf</th><th>PRODPct</th><th>LOCPct</th><th>MISCPct</th><th>ORGPct</th><th>PERPct</th><th>EVENTPct</th></tr><tr><td>u32</td><td>list[i32]</td><td>list[datetime[μs]]</td><td>list[i16]</td><td>u16</td><td>f32</td><td>f32</td><td>f32</td><td>f32</td><td>f32</td><td>f32</td><td>f32</td><td>f32</td><td>f32</td><td>f32</td><td>f32</td><td>f32</td><td>i16</td><td>i8</td><td>i8</td><td>list[f32]</td><td>f32</td><td>f32</td><td>f32</td><td>f32</td><td>f32</td><td>f32</td></tr></thead><tbody><tr><td>10623</td><td>[9739035, 9739065, … 9770533]</td><td>[2023-04-27 14:29:44, 2023-04-27 14:29:47, … 2023-05-17 17:36:24]</td><td>[118, 414, … 140]</td><td>143</td><td>3.0</td><td>1563.0</td><td>9623.0</td><td>42.5</td><td>100.0</td><td>0.230769</td><td>0.111888</td><td>0.657343</td><td>0.097902</td><td>0.083916</td><td>0.608392</td><td>0.06993</td><td>118</td><td>1</td><td>18</td><td>[0.016041, 0.062928, … 0.178427]</td><td>0.237762</td><td>0.804196</td><td>0.223776</td><td>0.888112</td><td>0.874126</td><td>0.202797</td></tr><tr><td>12016</td><td>[9738216, 9735383, … 9769622]</td><td>[2023-04-27 07:39:48, 2023-04-27 07:41:30, … 2023-05-17 23:56:30]</td><td>[140, 118, … 140]</td><td>264</td><td>156.0</td><td>1775.0</td><td>63672.0</td><td>100.0</td><td>100.0</td><td>0.257576</td><td>0.075758</td><td>0.666667</td><td>0.106061</td><td>0.034091</td><td>0.602273</td><td>0.07197</td><td>140</td><td>5</td><td>20</td><td>[0.009749, 0.045896, … 0.075912]</td><td>0.318182</td><td>0.776515</td><td>0.117424</td><td>0.852273</td><td>0.787879</td><td>0.087121</td></tr></tbody></table></div>"
      ],
      "text/plain": [
       "shape: (2, 27)\n",
       "┌─────────┬─────────────┬─────────────┬────────────┬───┬──────────┬──────────┬──────────┬──────────┐\n",
       "│ user_id ┆ article_id_ ┆ impression_ ┆ category   ┆ … ┆ MISCPct  ┆ ORGPct   ┆ PERPct   ┆ EVENTPct │\n",
       "│ ---     ┆ fixed       ┆ time_fixed  ┆ ---        ┆   ┆ ---      ┆ ---      ┆ ---      ┆ ---      │\n",
       "│ u32     ┆ ---         ┆ ---         ┆ list[i16]  ┆   ┆ f32      ┆ f32      ┆ f32      ┆ f32      │\n",
       "│         ┆ list[i32]   ┆ list[dateti ┆            ┆   ┆          ┆          ┆          ┆          │\n",
       "│         ┆             ┆ me[μs]]     ┆            ┆   ┆          ┆          ┆          ┆          │\n",
       "╞═════════╪═════════════╪═════════════╪════════════╪═══╪══════════╪══════════╪══════════╪══════════╡\n",
       "│ 10623   ┆ [9739035,   ┆ [2023-04-27 ┆ [118, 414, ┆ … ┆ 0.223776 ┆ 0.888112 ┆ 0.874126 ┆ 0.202797 │\n",
       "│         ┆ 9739065, …  ┆ 14:29:44,   ┆ … 140]     ┆   ┆          ┆          ┆          ┆          │\n",
       "│         ┆ 9770533]    ┆ 2023-04-…   ┆            ┆   ┆          ┆          ┆          ┆          │\n",
       "│ 12016   ┆ [9738216,   ┆ [2023-04-27 ┆ [140, 118, ┆ … ┆ 0.117424 ┆ 0.852273 ┆ 0.787879 ┆ 0.087121 │\n",
       "│         ┆ 9735383, …  ┆ 07:39:48,   ┆ … 140]     ┆   ┆          ┆          ┆          ┆          │\n",
       "│         ┆ 9769622]    ┆ 2023-04-…   ┆            ┆   ┆          ┆          ┆          ┆          │\n",
       "└─────────┴─────────────┴─────────────┴────────────┴───┴──────────┴──────────┴──────────┴──────────┘"
      ]
     },
     "execution_count": 20,
     "metadata": {},
     "output_type": "execute_result"
    }
   ],
   "source": [
    "%%time\n",
    "\n",
    "STRONG_THR = 0.8\n",
    "\n",
    "history_train = pl.concat(\n",
    "    rows.with_columns(pl.col('article_id_fixed').list.len().alias('NumArticlesHistory')) \\\n",
    "        .explode(['article_id_fixed', 'impression_time_fixed', 'read_time_fixed', 'scroll_percentage_fixed']) \\\n",
    "        .sort(by=['user_id', 'impression_time_fixed']) \\\n",
    "        .with_columns(\n",
    "            pl.col('impression_time_fixed').dt.weekday().alias('weekday'),\n",
    "            pl.col('impression_time_fixed').dt.hour().alias('hour'),\n",
    "        ).join(articles.select(['article_id', 'category', 'is_article_default', 'sentiment_label_int', \n",
    "                                'sentiment_score', 'entity_groups', 'topics']), \n",
    "               left_on='article_id_fixed', right_on='article_id', how='left') \\\n",
    "        .with_columns(\n",
    "            (pl.col('sentiment_label_int') == 0).alias('is_neutral'),\n",
    "            (pl.col('sentiment_label_int') == 1).alias('is_positive'),\n",
    "            (pl.col('sentiment_label_int') == -1).alias('is_negative'),\n",
    "            ((pl.col('sentiment_label_int') == 0) & (pl.col('sentiment_score') > STRONG_THR)).alias('strong_neutral'),\n",
    "            ((pl.col('sentiment_label_int') == 1) & (pl.col('sentiment_score') > STRONG_THR)).alias('strong_positive'),\n",
    "            ((pl.col('sentiment_label_int') == -1) & (pl.col('sentiment_score') > STRONG_THR)).alias('strong_negative'),\n",
    "            pl.col('entity_groups').list.unique(),\n",
    "        ).group_by('user_id').agg(\n",
    "            pl.col('article_id_fixed'),\n",
    "            pl.col('impression_time_fixed'),\n",
    "            pl.col('category'),\n",
    "            pl.col('NumArticlesHistory').first(),\n",
    "            pl.col('read_time_fixed').median().alias('MedianReadTime'),\n",
    "            pl.col('read_time_fixed').max().alias('MaxReadTime'),\n",
    "            pl.col('read_time_fixed').sum().alias('TotalReadTime'),\n",
    "            pl.col('scroll_percentage_fixed').median().alias('MedianScrollPercentage'),\n",
    "            pl.col('scroll_percentage_fixed').max().alias('MaxScrollPercentage'),\n",
    "            (pl.col('is_neutral').sum() / pl.col('NumArticlesHistory').first()).alias('NeutralPct'),\n",
    "            (pl.col('is_positive').sum() / pl.col('NumArticlesHistory').first()).alias('PositivePct'),\n",
    "            (pl.col('is_negative').sum() / pl.col('NumArticlesHistory').first()).alias('NegativePct'),\n",
    "            (pl.col('strong_neutral').sum() / pl.col('NumArticlesHistory').first()).alias('PctStrongNeutral'),\n",
    "            (pl.col('strong_positive').sum() / pl.col('NumArticlesHistory').first()).alias('PctStrongPositive'),\n",
    "            (pl.col('strong_negative').sum() / pl.col('NumArticlesHistory').first()).alias('PctStrongNegative'),\n",
    "            (1 - (pl.col('is_article_default').sum() / pl.col('NumArticlesHistory').first())).alias('PctNotDefaultArticles'),\n",
    "            pl.col('category').mode().alias('MostFrequentCategory'),\n",
    "            pl.col('weekday').mode().alias('MostFrequentWeekday'),\n",
    "            pl.col('hour').mode().alias('MostFrequentHour'),\n",
    "            pl.col('entity_groups').flatten(),\n",
    "            pl.col('topics').flatten().alias('topics_flatten')\n",
    "        ).pipe(add_topics_tf_idf_columns, topics_col='topics_flatten', vectorizer=vectorizer) \\\n",
    "        .drop('topics_flatten').with_columns(\n",
    "            pl.col('MostFrequentCategory').list.first(),\n",
    "            pl.col('MostFrequentWeekday').list.first(),\n",
    "            pl.col('MostFrequentHour').list.first(),\n",
    "        ).with_columns(\n",
    "            (pl.col('entity_groups').list.count_matches(entity) / pl.col('NumArticlesHistory')).alias(f'{entity}Pct')\n",
    "            for entity in unique_entities\n",
    "        ).drop('entity_groups')\n",
    "    for rows in tqdm.tqdm(history_train.iter_slices(1000), total=history_train.shape[0] // 1000)\n",
    ")\n",
    "\n",
    "gc.collect()\n",
    "PrintColor(f\"\\n\" + GetMemUsage(), color = Fore.RED)\n",
    "history_train = reduce_polars_df_memory_size(history_train)\n",
    "history_train.head(2)"
   ]
  },
  {
   "cell_type": "code",
   "execution_count": 21,
   "id": "ca6c06f1",
   "metadata": {
    "execution": {
     "iopub.execute_input": "2024-05-19T10:20:49.834736Z",
     "iopub.status.busy": "2024-05-19T10:20:49.834196Z",
     "iopub.status.idle": "2024-05-19T10:20:49.841435Z",
     "shell.execute_reply": "2024-05-19T10:20:49.840269Z"
    },
    "papermill": {
     "duration": 0.049572,
     "end_time": "2024-05-19T10:20:49.843695",
     "exception": false,
     "start_time": "2024-05-19T10:20:49.794123",
     "status": "completed"
    },
    "tags": []
   },
   "outputs": [
    {
     "data": {
      "text/plain": [
       "(15143, 27)"
      ]
     },
     "execution_count": 21,
     "metadata": {},
     "output_type": "execute_result"
    }
   ],
   "source": [
    "history_train.shape"
   ]
  },
  {
   "cell_type": "markdown",
   "id": "b66455e3",
   "metadata": {
    "papermill": {
     "duration": 0.037744,
     "end_time": "2024-05-19T10:20:49.918512",
     "exception": false,
     "start_time": "2024-05-19T10:20:49.880768",
     "status": "completed"
    },
    "tags": []
   },
   "source": [
    "# Named entity collaborative filtering"
   ]
  },
  {
   "cell_type": "code",
   "execution_count": 22,
   "id": "33da2322",
   "metadata": {
    "execution": {
     "iopub.execute_input": "2024-05-19T10:20:49.995762Z",
     "iopub.status.busy": "2024-05-19T10:20:49.995353Z",
     "iopub.status.idle": "2024-05-19T10:20:50.090445Z",
     "shell.execute_reply": "2024-05-19T10:20:50.089527Z"
    },
    "papermill": {
     "duration": 0.137519,
     "end_time": "2024-05-19T10:20:50.093140",
     "exception": false,
     "start_time": "2024-05-19T10:20:49.955621",
     "status": "completed"
    },
    "tags": []
   },
   "outputs": [],
   "source": [
    "user_id_mapping = history_train.sort('user_id').with_row_index() \\\n",
    "    .select(['index', 'user_id']).rename({'index': 'user_index'})\n",
    "\n",
    "ner_mapping = articles.select(['ner_clusters']) \\\n",
    "    .explode('ner_clusters') \\\n",
    "    .rename({'ner_clusters': 'ner'}) \\\n",
    "    .with_columns(pl.col('ner').str.strip_chars_start('\\\" ').str.to_lowercase()) \\\n",
    "    .unique('ner').drop_nulls().filter(pl.col('ner').str.len_chars() > 0) \\\n",
    "    .sort('ner').with_row_index().rename({'index': 'ner_index'})"
   ]
  },
  {
   "cell_type": "code",
   "execution_count": 23,
   "id": "521194db",
   "metadata": {
    "execution": {
     "iopub.execute_input": "2024-05-19T10:20:50.171284Z",
     "iopub.status.busy": "2024-05-19T10:20:50.169996Z",
     "iopub.status.idle": "2024-05-19T10:21:06.458126Z",
     "shell.execute_reply": "2024-05-19T10:21:06.456950Z"
    },
    "papermill": {
     "duration": 16.330233,
     "end_time": "2024-05-19T10:21:06.460937",
     "exception": false,
     "start_time": "2024-05-19T10:20:50.130704",
     "status": "completed"
    },
    "tags": []
   },
   "outputs": [],
   "source": [
    "ner_interactions = history_train.select(['user_id', 'article_id_fixed']).explode('article_id_fixed') \\\n",
    "    .join(articles.select(['article_id', 'ner_clusters']), left_on='article_id_fixed', right_on='article_id', how='left') \\\n",
    "    .explode('ner_clusters').unique(['user_id', 'ner_clusters']) \\\n",
    "    .with_columns(pl.col('ner_clusters').str.strip_chars_start('\\\" ').str.to_lowercase()) \\\n",
    "    .join(user_id_mapping, on='user_id', how='left') \\\n",
    "    .join(ner_mapping, left_on='ner_clusters', right_on='ner') \\\n",
    "    .select(['user_index', 'ner_index', 'user_id', 'article_id_fixed']) \\\n",
    "    .unique(['user_index', 'ner_index'])\n",
    "\n",
    "URM_ner = sps.csr_matrix((np.ones(ner_interactions.shape[0]),\n",
    "                          (ner_interactions['user_index'].to_numpy(), ner_interactions['ner_index'].to_numpy())),\n",
    "                         shape=(user_id_mapping.shape[0], ner_mapping.shape[0]))\n",
    "\n",
    "ner_interactions_test = behaviors_train.select(['user_id', 'article_ids_clicked']).explode('article_ids_clicked') \\\n",
    "    .join(articles.select(['article_id', 'ner_clusters']), left_on='article_ids_clicked', right_on='article_id', how='left') \\\n",
    "    .explode('ner_clusters').unique(['user_id', 'ner_clusters']) \\\n",
    "    .with_columns(pl.col('ner_clusters').str.strip_chars_start('\\\" ').str.to_lowercase()) \\\n",
    "    .join(user_id_mapping, on='user_id', how='left') \\\n",
    "    .join(ner_mapping, left_on='ner_clusters', right_on='ner') \\\n",
    "    .select(['user_index', 'ner_index', 'user_id', 'article_ids_clicked']) \\\n",
    "    .unique(['user_index', 'ner_index'])\n",
    "\n",
    "URM_ner_test = sps.csr_matrix((np.ones(ner_interactions_test.shape[0]),\n",
    "                               (ner_interactions_test['user_index'].to_numpy(), ner_interactions_test['ner_index'].to_numpy())),\n",
    "                              shape=(user_id_mapping.shape[0], ner_mapping.shape[0]))"
   ]
  },
  {
   "cell_type": "code",
   "execution_count": 24,
   "id": "c034325c",
   "metadata": {
    "execution": {
     "iopub.execute_input": "2024-05-19T10:21:06.537598Z",
     "iopub.status.busy": "2024-05-19T10:21:06.537205Z",
     "iopub.status.idle": "2024-05-19T10:21:10.632124Z",
     "shell.execute_reply": "2024-05-19T10:21:10.630814Z"
    },
    "papermill": {
     "duration": 4.136744,
     "end_time": "2024-05-19T10:21:10.635039",
     "exception": false,
     "start_time": "2024-05-19T10:21:06.498295",
     "status": "completed"
    },
    "tags": []
   },
   "outputs": [
    {
     "name": "stdout",
     "output_type": "stream",
     "text": [
      "/kaggle/working\n"
     ]
    },
    {
     "name": "stderr",
     "output_type": "stream",
     "text": [
      "/opt/conda/lib/python3.10/pty.py:89: RuntimeWarning: os.fork() was called. os.fork() is incompatible with multithreaded code, and JAX is multithreaded, so this will likely lead to a deadlock.\n",
      "  pid, fd = os.forkpty()\n"
     ]
    },
    {
     "name": "stdout",
     "output_type": "stream",
     "text": [
      "Cloning into 'RecSys_Course_AT_PoliMi'...\r\n",
      "remote: Enumerating objects: 1519, done.\u001b[K\r\n",
      "remote: Counting objects: 100% (255/255), done.\u001b[K\r\n",
      "remote: Compressing objects: 100% (43/43), done.\u001b[K\r\n",
      "remote: Total 1519 (delta 223), reused 220 (delta 212), pack-reused 1264\u001b[K\r\n",
      "Receiving objects: 100% (1519/1519), 50.33 MiB | 28.07 MiB/s, done.\r\n",
      "Resolving deltas: 100% (909/909), done.\r\n"
     ]
    }
   ],
   "source": [
    "%cd /kaggle/working\n",
    "! git clone https://github.com/MaurizioFD/RecSys_Course_AT_PoliMi.git"
   ]
  },
  {
   "cell_type": "code",
   "execution_count": 25,
   "id": "506d62ac",
   "metadata": {
    "execution": {
     "iopub.execute_input": "2024-05-19T10:21:10.720814Z",
     "iopub.status.busy": "2024-05-19T10:21:10.719944Z",
     "iopub.status.idle": "2024-05-19T10:26:29.977645Z",
     "shell.execute_reply": "2024-05-19T10:26:29.976397Z"
    },
    "papermill": {
     "duration": 319.302984,
     "end_time": "2024-05-19T10:26:29.980273",
     "exception": false,
     "start_time": "2024-05-19T10:21:10.677289",
     "status": "completed"
    },
    "tags": []
   },
   "outputs": [
    {
     "name": "stdout",
     "output_type": "stream",
     "text": [
      "/kaggle/working/RecSys_Course_AT_PoliMi\n",
      "ItemKNNCFRecommender: URM Detected 1 ( 0.0%) users with no interactions.\n",
      "ItemKNNCFRecommender: URM Detected 18909 (43.2%) items with no interactions.\n",
      "Unable to load Cython Compute_Similarity, reverting to Python\n",
      "Similarity column 43774 (100.0%), 159.54 column/sec. Elapsed time 4.57 min\n",
      "EvaluatorHoldout: Ignoring 31 ( 0.2%) Users that have less than 1 test interactions\n",
      "EvaluatorHoldout: Processed 15112 (100.0%) in 43.87 sec. Users per second: 344\n"
     ]
    },
    {
     "data": {
      "text/html": [
       "<div>\n",
       "<style scoped>\n",
       "    .dataframe tbody tr th:only-of-type {\n",
       "        vertical-align: middle;\n",
       "    }\n",
       "\n",
       "    .dataframe tbody tr th {\n",
       "        vertical-align: top;\n",
       "    }\n",
       "\n",
       "    .dataframe thead th {\n",
       "        text-align: right;\n",
       "    }\n",
       "</style>\n",
       "<table border=\"1\" class=\"dataframe\">\n",
       "  <thead>\n",
       "    <tr style=\"text-align: right;\">\n",
       "      <th></th>\n",
       "      <th>PRECISION</th>\n",
       "      <th>PRECISION_RECALL_MIN_DEN</th>\n",
       "      <th>RECALL</th>\n",
       "      <th>MAP</th>\n",
       "      <th>MAP_MIN_DEN</th>\n",
       "      <th>MRR</th>\n",
       "      <th>NDCG</th>\n",
       "      <th>F1</th>\n",
       "      <th>HIT_RATE</th>\n",
       "      <th>ARHR_ALL_HITS</th>\n",
       "      <th>...</th>\n",
       "      <th>COVERAGE_USER</th>\n",
       "      <th>COVERAGE_USER_HIT</th>\n",
       "      <th>USERS_IN_GT</th>\n",
       "      <th>DIVERSITY_GINI</th>\n",
       "      <th>SHANNON_ENTROPY</th>\n",
       "      <th>RATIO_DIVERSITY_HERFINDAHL</th>\n",
       "      <th>RATIO_DIVERSITY_GINI</th>\n",
       "      <th>RATIO_SHANNON_ENTROPY</th>\n",
       "      <th>RATIO_AVERAGE_POPULARITY</th>\n",
       "      <th>RATIO_NOVELTY</th>\n",
       "    </tr>\n",
       "    <tr>\n",
       "      <th>cutoff</th>\n",
       "      <th></th>\n",
       "      <th></th>\n",
       "      <th></th>\n",
       "      <th></th>\n",
       "      <th></th>\n",
       "      <th></th>\n",
       "      <th></th>\n",
       "      <th></th>\n",
       "      <th></th>\n",
       "      <th></th>\n",
       "      <th></th>\n",
       "      <th></th>\n",
       "      <th></th>\n",
       "      <th></th>\n",
       "      <th></th>\n",
       "      <th></th>\n",
       "      <th></th>\n",
       "      <th></th>\n",
       "      <th></th>\n",
       "      <th></th>\n",
       "      <th></th>\n",
       "    </tr>\n",
       "  </thead>\n",
       "  <tbody>\n",
       "    <tr>\n",
       "      <th>10</th>\n",
       "      <td>0.311971</td>\n",
       "      <td>0.312913</td>\n",
       "      <td>0.030088</td>\n",
       "      <td>0.214433</td>\n",
       "      <td>0.214676</td>\n",
       "      <td>0.469902</td>\n",
       "      <td>0.319612</td>\n",
       "      <td>0.054883</td>\n",
       "      <td>0.766609</td>\n",
       "      <td>0.953152</td>\n",
       "      <td>...</td>\n",
       "      <td>0.997953</td>\n",
       "      <td>0.76504</td>\n",
       "      <td>0.997953</td>\n",
       "      <td>0.002086</td>\n",
       "      <td>5.362616</td>\n",
       "      <td>0.952586</td>\n",
       "      <td>0.016842</td>\n",
       "      <td>0.419597</td>\n",
       "      <td>3.357942</td>\n",
       "      <td>0.009295</td>\n",
       "    </tr>\n",
       "  </tbody>\n",
       "</table>\n",
       "<p>1 rows × 27 columns</p>\n",
       "</div>"
      ],
      "text/plain": [
       "       PRECISION PRECISION_RECALL_MIN_DEN    RECALL       MAP MAP_MIN_DEN  \\\n",
       "cutoff                                                                      \n",
       "10      0.311971                 0.312913  0.030088  0.214433    0.214676   \n",
       "\n",
       "             MRR      NDCG        F1  HIT_RATE ARHR_ALL_HITS  ...  \\\n",
       "cutoff                                                        ...   \n",
       "10      0.469902  0.319612  0.054883  0.766609      0.953152  ...   \n",
       "\n",
       "       COVERAGE_USER COVERAGE_USER_HIT USERS_IN_GT DIVERSITY_GINI  \\\n",
       "cutoff                                                              \n",
       "10          0.997953           0.76504    0.997953       0.002086   \n",
       "\n",
       "       SHANNON_ENTROPY RATIO_DIVERSITY_HERFINDAHL RATIO_DIVERSITY_GINI  \\\n",
       "cutoff                                                                   \n",
       "10            5.362616                   0.952586             0.016842   \n",
       "\n",
       "       RATIO_SHANNON_ENTROPY RATIO_AVERAGE_POPULARITY RATIO_NOVELTY  \n",
       "cutoff                                                               \n",
       "10                  0.419597                 3.357942      0.009295  \n",
       "\n",
       "[1 rows x 27 columns]"
      ]
     },
     "execution_count": 25,
     "metadata": {},
     "output_type": "execute_result"
    }
   ],
   "source": [
    "%cd /kaggle/working/RecSys_Course_AT_PoliMi\n",
    "\n",
    "from Recommenders.SLIM.SLIMElasticNetRecommender import SLIMElasticNetRecommender\n",
    "from Recommenders.KNN.ItemKNNCFRecommender import ItemKNNCFRecommender\n",
    "from Recommenders.MatrixFactorization.PureSVDRecommender import PureSVDRecommender\n",
    "from Evaluation.Evaluator import EvaluatorHoldout\n",
    "\n",
    "np.int = int\n",
    "np.random.seed(42)\n",
    "np.bool = bool\n",
    "np.float = float\n",
    "\n",
    "item_knn = ItemKNNCFRecommender(URM_ner)\n",
    "item_knn.fit(topK=100, similarity='jaccard')\n",
    "\n",
    "evaluator = EvaluatorHoldout(URM_ner_test, cutoff_list=[10], exclude_seen=False)\n",
    "result_df, _ = evaluator.evaluateRecommender(item_knn)\n",
    "result_df"
   ]
  },
  {
   "cell_type": "code",
   "execution_count": 26,
   "id": "1e0f1dfb",
   "metadata": {
    "execution": {
     "iopub.execute_input": "2024-05-19T10:26:30.064950Z",
     "iopub.status.busy": "2024-05-19T10:26:30.064317Z",
     "iopub.status.idle": "2024-05-19T10:26:58.582631Z",
     "shell.execute_reply": "2024-05-19T10:26:58.581058Z"
    },
    "papermill": {
     "duration": 28.563949,
     "end_time": "2024-05-19T10:26:58.585485",
     "exception": false,
     "start_time": "2024-05-19T10:26:30.021536",
     "status": "completed"
    },
    "tags": []
   },
   "outputs": [
    {
     "name": "stdout",
     "output_type": "stream",
     "text": [
      "PureSVDRecommender: URM Detected 1 ( 0.0%) users with no interactions.\n",
      "PureSVDRecommender: URM Detected 18909 (43.2%) items with no interactions.\n",
      "PureSVDRecommender: Computing SVD decomposition...\n",
      "PureSVDRecommender: Computing SVD decomposition... done in 4.83 sec\n",
      "EvaluatorHoldout: Processed 15112 (100.0%) in 23.26 sec. Users per second: 650\n"
     ]
    },
    {
     "data": {
      "text/html": [
       "<div>\n",
       "<style scoped>\n",
       "    .dataframe tbody tr th:only-of-type {\n",
       "        vertical-align: middle;\n",
       "    }\n",
       "\n",
       "    .dataframe tbody tr th {\n",
       "        vertical-align: top;\n",
       "    }\n",
       "\n",
       "    .dataframe thead th {\n",
       "        text-align: right;\n",
       "    }\n",
       "</style>\n",
       "<table border=\"1\" class=\"dataframe\">\n",
       "  <thead>\n",
       "    <tr style=\"text-align: right;\">\n",
       "      <th></th>\n",
       "      <th>PRECISION</th>\n",
       "      <th>PRECISION_RECALL_MIN_DEN</th>\n",
       "      <th>RECALL</th>\n",
       "      <th>MAP</th>\n",
       "      <th>MAP_MIN_DEN</th>\n",
       "      <th>MRR</th>\n",
       "      <th>NDCG</th>\n",
       "      <th>F1</th>\n",
       "      <th>HIT_RATE</th>\n",
       "      <th>ARHR_ALL_HITS</th>\n",
       "      <th>...</th>\n",
       "      <th>COVERAGE_USER</th>\n",
       "      <th>COVERAGE_USER_HIT</th>\n",
       "      <th>USERS_IN_GT</th>\n",
       "      <th>DIVERSITY_GINI</th>\n",
       "      <th>SHANNON_ENTROPY</th>\n",
       "      <th>RATIO_DIVERSITY_HERFINDAHL</th>\n",
       "      <th>RATIO_DIVERSITY_GINI</th>\n",
       "      <th>RATIO_SHANNON_ENTROPY</th>\n",
       "      <th>RATIO_AVERAGE_POPULARITY</th>\n",
       "      <th>RATIO_NOVELTY</th>\n",
       "    </tr>\n",
       "    <tr>\n",
       "      <th>cutoff</th>\n",
       "      <th></th>\n",
       "      <th></th>\n",
       "      <th></th>\n",
       "      <th></th>\n",
       "      <th></th>\n",
       "      <th></th>\n",
       "      <th></th>\n",
       "      <th></th>\n",
       "      <th></th>\n",
       "      <th></th>\n",
       "      <th></th>\n",
       "      <th></th>\n",
       "      <th></th>\n",
       "      <th></th>\n",
       "      <th></th>\n",
       "      <th></th>\n",
       "      <th></th>\n",
       "      <th></th>\n",
       "      <th></th>\n",
       "      <th></th>\n",
       "      <th></th>\n",
       "    </tr>\n",
       "  </thead>\n",
       "  <tbody>\n",
       "    <tr>\n",
       "      <th>10</th>\n",
       "      <td>0.342628</td>\n",
       "      <td>0.345141</td>\n",
       "      <td>0.048661</td>\n",
       "      <td>0.261759</td>\n",
       "      <td>0.263204</td>\n",
       "      <td>0.670397</td>\n",
       "      <td>0.392258</td>\n",
       "      <td>0.085219</td>\n",
       "      <td>0.858655</td>\n",
       "      <td>1.275579</td>\n",
       "      <td>...</td>\n",
       "      <td>0.997953</td>\n",
       "      <td>0.856898</td>\n",
       "      <td>0.997953</td>\n",
       "      <td>0.001871</td>\n",
       "      <td>5.929536</td>\n",
       "      <td>0.95823</td>\n",
       "      <td>0.015104</td>\n",
       "      <td>0.463956</td>\n",
       "      <td>3.324192</td>\n",
       "      <td>0.009294</td>\n",
       "    </tr>\n",
       "  </tbody>\n",
       "</table>\n",
       "<p>1 rows × 27 columns</p>\n",
       "</div>"
      ],
      "text/plain": [
       "       PRECISION PRECISION_RECALL_MIN_DEN    RECALL       MAP MAP_MIN_DEN  \\\n",
       "cutoff                                                                      \n",
       "10      0.342628                 0.345141  0.048661  0.261759    0.263204   \n",
       "\n",
       "             MRR      NDCG        F1  HIT_RATE ARHR_ALL_HITS  ...  \\\n",
       "cutoff                                                        ...   \n",
       "10      0.670397  0.392258  0.085219  0.858655      1.275579  ...   \n",
       "\n",
       "       COVERAGE_USER COVERAGE_USER_HIT USERS_IN_GT DIVERSITY_GINI  \\\n",
       "cutoff                                                              \n",
       "10          0.997953          0.856898    0.997953       0.001871   \n",
       "\n",
       "       SHANNON_ENTROPY RATIO_DIVERSITY_HERFINDAHL RATIO_DIVERSITY_GINI  \\\n",
       "cutoff                                                                   \n",
       "10            5.929536                    0.95823             0.015104   \n",
       "\n",
       "       RATIO_SHANNON_ENTROPY RATIO_AVERAGE_POPULARITY RATIO_NOVELTY  \n",
       "cutoff                                                               \n",
       "10                  0.463956                 3.324192      0.009294  \n",
       "\n",
       "[1 rows x 27 columns]"
      ]
     },
     "execution_count": 26,
     "metadata": {},
     "output_type": "execute_result"
    }
   ],
   "source": [
    "pure_svd = PureSVDRecommender(URM_ner)\n",
    "pure_svd.fit(num_factors=20)\n",
    "\n",
    "result_df, _ = evaluator.evaluateRecommender(pure_svd)\n",
    "result_df"
   ]
  },
  {
   "cell_type": "code",
   "execution_count": 27,
   "id": "10f1668c",
   "metadata": {
    "execution": {
     "iopub.execute_input": "2024-05-19T10:26:58.673490Z",
     "iopub.status.busy": "2024-05-19T10:26:58.673054Z",
     "iopub.status.idle": "2024-05-19T10:29:18.386304Z",
     "shell.execute_reply": "2024-05-19T10:29:18.385049Z"
    },
    "papermill": {
     "duration": 139.804123,
     "end_time": "2024-05-19T10:29:18.433279",
     "exception": false,
     "start_time": "2024-05-19T10:26:58.629156",
     "status": "completed"
    },
    "tags": []
   },
   "outputs": [
    {
     "name": "stdout",
     "output_type": "stream",
     "text": [
      "CPU times: user 4min 54s, sys: 3min 24s, total: 8min 18s\n",
      "Wall time: 2min 19s\n"
     ]
    },
    {
     "data": {
      "text/html": [
       "<div><style>\n",
       ".dataframe > thead > tr,\n",
       ".dataframe > tbody > tr {\n",
       "  text-align: right;\n",
       "  white-space: pre-wrap;\n",
       "}\n",
       "</style>\n",
       "<small>shape: (5, 8)</small><table border=\"1\" class=\"dataframe\"><thead><tr><th>impression_id</th><th>article</th><th>total_ner_svd_scores</th><th>mean_ner_svd_scores</th><th>max_ner_svd_scores</th><th>total_ner_item_knn_scores</th><th>mean_ner_item_knn_scores</th><th>max_ner_item_knn_scores</th></tr><tr><td>u32</td><td>i32</td><td>f32</td><td>f32</td><td>f32</td><td>f32</td><td>f32</td><td>f32</td></tr></thead><tbody><tr><td>521649590</td><td>9776544</td><td>0.10621</td><td>0.228941</td><td>0.528966</td><td>0.113863</td><td>0.177005</td><td>0.6194</td></tr><tr><td>452048432</td><td>9769605</td><td>0.279387</td><td>0.290559</td><td>0.573799</td><td>0.316452</td><td>0.32261</td><td>0.771966</td></tr><tr><td>225191691</td><td>9767301</td><td>0.879367</td><td>0.658721</td><td>0.622579</td><td>0.988599</td><td>0.75108</td><td>0.809174</td></tr><tr><td>57149590</td><td>9771125</td><td>0.466512</td><td>1.0</td><td>0.705189</td><td>0.353406</td><td>0.942416</td><td>0.727414</td></tr><tr><td>99834485</td><td>9775800</td><td>0.559449</td><td>0.29495</td><td>0.951779</td><td>0.657995</td><td>0.347897</td><td>1.0</td></tr></tbody></table></div>"
      ],
      "text/plain": [
       "shape: (5, 8)\n",
       "┌────────────┬─────────┬────────────┬────────────┬────────────┬────────────┬───────────┬───────────┐\n",
       "│ impression ┆ article ┆ total_ner_ ┆ mean_ner_s ┆ max_ner_sv ┆ total_ner_ ┆ mean_ner_ ┆ max_ner_i │\n",
       "│ _id        ┆ ---     ┆ svd_scores ┆ vd_scores  ┆ d_scores   ┆ item_knn_s ┆ item_knn_ ┆ tem_knn_s │\n",
       "│ ---        ┆ i32     ┆ ---        ┆ ---        ┆ ---        ┆ cores      ┆ scores    ┆ cores     │\n",
       "│ u32        ┆         ┆ f32        ┆ f32        ┆ f32        ┆ ---        ┆ ---       ┆ ---       │\n",
       "│            ┆         ┆            ┆            ┆            ┆ f32        ┆ f32       ┆ f32       │\n",
       "╞════════════╪═════════╪════════════╪════════════╪════════════╪════════════╪═══════════╪═══════════╡\n",
       "│ 521649590  ┆ 9776544 ┆ 0.10621    ┆ 0.228941   ┆ 0.528966   ┆ 0.113863   ┆ 0.177005  ┆ 0.6194    │\n",
       "│ 452048432  ┆ 9769605 ┆ 0.279387   ┆ 0.290559   ┆ 0.573799   ┆ 0.316452   ┆ 0.32261   ┆ 0.771966  │\n",
       "│ 225191691  ┆ 9767301 ┆ 0.879367   ┆ 0.658721   ┆ 0.622579   ┆ 0.988599   ┆ 0.75108   ┆ 0.809174  │\n",
       "│ 57149590   ┆ 9771125 ┆ 0.466512   ┆ 1.0        ┆ 0.705189   ┆ 0.353406   ┆ 0.942416  ┆ 0.727414  │\n",
       "│ 99834485   ┆ 9775800 ┆ 0.559449   ┆ 0.29495    ┆ 0.951779   ┆ 0.657995   ┆ 0.347897  ┆ 1.0       │\n",
       "└────────────┴─────────┴────────────┴────────────┴────────────┴────────────┴───────────┴───────────┘"
      ]
     },
     "execution_count": 27,
     "metadata": {},
     "output_type": "execute_result"
    }
   ],
   "source": [
    "%%time\n",
    "\n",
    "def get_inview_scores(user_ners_df, recommender, f_name):\n",
    "    user_index = user_ners_df['user_index'].to_list()[0]\n",
    "    ners = user_ners_df['ner_index'].to_numpy()\n",
    "    scores = recommender._compute_item_score([user_index], ners)[0, ners]\n",
    "    return user_ners_df.with_columns(\n",
    "        pl.Series(scores).alias(f_name)\n",
    "    )\n",
    "\n",
    "ner_inview_scores = behaviors_train.select(['user_id', 'article_ids_inview']).explode('article_ids_inview') \\\n",
    "    .join(articles.select(['article_id', 'ner_clusters']), left_on='article_ids_inview', right_on='article_id', how='left') \\\n",
    "    .explode('ner_clusters').unique(['user_id', 'ner_clusters']) \\\n",
    "    .with_columns(pl.col('ner_clusters').str.strip_chars_start('\\\" ').str.to_lowercase()) \\\n",
    "    .join(user_id_mapping, on='user_id', how='left') \\\n",
    "    .join(ner_mapping, left_on='ner_clusters', right_on='ner') \\\n",
    "    .select(['user_index', 'ner_index', 'user_id', 'article_ids_inview']) \\\n",
    "    .unique(['user_index', 'ner_index']) \\\n",
    "    .sort(['user_index', 'ner_index']).group_by('user_index').map_groups(\n",
    "        lambda user_df: user_df.pipe(get_inview_scores, recommender=pure_svd, f_name='pure_svd_scores') \\\n",
    "            .pipe(get_inview_scores, recommender=item_knn, f_name='item_knn_scores')\n",
    "    )\n",
    "\n",
    "behaviors_ner_scores = behaviors_train.select(['impression_id', 'user_id', 'article_ids_inview']).explode('article_ids_inview') \\\n",
    "    .join(ner_inview_scores, on=['user_id', 'article_ids_inview'], how='left') \\\n",
    "    .with_columns(pl.col(['pure_svd_scores', 'item_knn_scores']).fill_null(0)) \\\n",
    "    .group_by(['impression_id', 'article_ids_inview']).agg(\n",
    "        pl.col('pure_svd_scores').sum().alias('total_ner_svd_scores'),\n",
    "        pl.col('pure_svd_scores').mean().alias('mean_ner_svd_scores'),\n",
    "        pl.col('pure_svd_scores').max().alias('max_ner_svd_scores'),\n",
    "        pl.col('item_knn_scores').sum().alias('total_ner_item_knn_scores'),\n",
    "        pl.col('item_knn_scores').mean().alias('mean_ner_item_knn_scores'),\n",
    "        pl.col('item_knn_scores').max().alias('max_ner_item_knn_scores'),\n",
    "    ).with_columns(\n",
    "        pl.col(['total_ner_svd_scores', 'mean_ner_svd_scores', \n",
    "                'total_ner_item_knn_scores', 'mean_ner_item_knn_scores',\n",
    "                'max_ner_svd_scores', 'max_ner_item_knn_scores']).max().over('impression_id').name.suffix('_max')\n",
    "    ).with_columns(\n",
    "        # l1 normalization\n",
    "        pl.col('total_ner_svd_scores').truediv(pl.col('total_ner_svd_scores_max')),\n",
    "        pl.col('mean_ner_svd_scores').truediv(pl.col('mean_ner_svd_scores_max')),\n",
    "        pl.col('max_ner_svd_scores').truediv(pl.col('max_ner_svd_scores_max')),\n",
    "        pl.col('total_ner_item_knn_scores').truediv(pl.col('total_ner_item_knn_scores_max')),\n",
    "        pl.col('mean_ner_item_knn_scores').truediv(pl.col('mean_ner_item_knn_scores_max')),\n",
    "        pl.col('max_ner_item_knn_scores').truediv(pl.col('max_ner_item_knn_scores_max')),\n",
    "    ).drop(['total_ner_svd_scores_max', 'mean_ner_svd_scores_max', \n",
    "            'max_ner_svd_scores_max', 'total_ner_item_knn_scores_max',\n",
    "            'mean_ner_item_knn_scores_max', 'max_ner_item_knn_scores_max']) \\\n",
    "    .rename({'article_ids_inview': 'article'})\n",
    "behaviors_ner_scores.head(5)"
   ]
  },
  {
   "cell_type": "code",
   "execution_count": 28,
   "id": "04d216bf",
   "metadata": {
    "execution": {
     "iopub.execute_input": "2024-05-19T10:29:18.519941Z",
     "iopub.status.busy": "2024-05-19T10:29:18.519533Z",
     "iopub.status.idle": "2024-05-19T10:29:19.049266Z",
     "shell.execute_reply": "2024-05-19T10:29:19.047834Z"
    },
    "papermill": {
     "duration": 0.576661,
     "end_time": "2024-05-19T10:29:19.051927",
     "exception": false,
     "start_time": "2024-05-19T10:29:18.475266",
     "status": "completed"
    },
    "tags": []
   },
   "outputs": [
    {
     "data": {
      "text/plain": [
       "0"
      ]
     },
     "execution_count": 28,
     "metadata": {},
     "output_type": "execute_result"
    }
   ],
   "source": [
    "del URM_ner\n",
    "del URM_ner_test\n",
    "del ner_inview_scores\n",
    "del ner_interactions\n",
    "del ner_interactions_test\n",
    "gc.collect()"
   ]
  },
  {
   "cell_type": "markdown",
   "id": "ad41ddd9",
   "metadata": {
    "papermill": {
     "duration": 0.041747,
     "end_time": "2024-05-19T10:29:19.135873",
     "exception": false,
     "start_time": "2024-05-19T10:29:19.094126",
     "status": "completed"
    },
    "tags": []
   },
   "source": [
    "# Creating Training Dataframe"
   ]
  },
  {
   "cell_type": "code",
   "execution_count": 29,
   "id": "d57cd368",
   "metadata": {
    "execution": {
     "iopub.execute_input": "2024-05-19T10:29:19.222244Z",
     "iopub.status.busy": "2024-05-19T10:29:19.221348Z",
     "iopub.status.idle": "2024-05-19T10:29:19.234379Z",
     "shell.execute_reply": "2024-05-19T10:29:19.233057Z"
    },
    "papermill": {
     "duration": 0.059417,
     "end_time": "2024-05-19T10:29:19.237252",
     "exception": false,
     "start_time": "2024-05-19T10:29:19.177835",
     "status": "completed"
    },
    "tags": []
   },
   "outputs": [],
   "source": [
    "def normalize_endorsement(articles_endorsement_raw):\n",
    "    return articles_endorsement.sort(by='impression_time').with_columns(\n",
    "        (\n",
    "            pl.col('endorsement_10h') / \n",
    "            pl.col('endorsement_10h').sum().over('impression_time')\n",
    "        ).alias('normalized_endorsement_10h'),\n",
    "        (\n",
    "            pl.col('endorsement_10h') - \n",
    "            pl.col('endorsement_10h').rolling_mean(10, min_periods=1).over('article')\n",
    "        ).alias('endorsement_10h_diff_rolling'),\n",
    "        (\n",
    "            pl.col('endorsement_10h').rolling_mean(5, min_periods=1).over('article') - \n",
    "            pl.col('endorsement_10h').rolling_mean(10, min_periods=1).over('article')\n",
    "        ).alias('endorsement_macd'),\n",
    "        (\n",
    "            pl.col('endorsement_10h') / \n",
    "            pl.col('endorsement_10h').quantile(0.8).over('impression_time')\n",
    "        ).alias('endorsement_quantile_norm_10h')\n",
    "    ).with_columns(\n",
    "        (\n",
    "            pl.col('normalized_endorsement_10h') / \n",
    "            pl.col('normalized_endorsement_10h').rolling_max(10, min_periods=1).over('impression_time')\n",
    "        ).alias('normalized_endorsement_10h_rolling_max_ratio'),\n",
    "    )\n",
    "    \n",
    "\n",
    "def add_article_endorsement_feature(df_features, normalized_endorsement):\n",
    "    # old return df_features.join(other=articles_endorsement, on=[\"article\", \"impression_time\"], how=\"left\")\n",
    "    normalized_endorsement = normalized_endorsement.with_columns(pl.col('article').cast(pl.Int32))\n",
    "    return df_features.with_columns(pl.col('impression_time').dt.round('1m').alias('rounded_impression_time'))\\\n",
    "                         .join(normalized_endorsement.rename({'impression_time' : 'rounded_impression_time'}), on=['article','rounded_impression_time'], how='left')\\\n",
    "                         .drop('rounded_impression_time')"
   ]
  },
  {
   "cell_type": "code",
   "execution_count": 30,
   "id": "98d06bac",
   "metadata": {
    "execution": {
     "iopub.execute_input": "2024-05-19T10:29:19.324931Z",
     "iopub.status.busy": "2024-05-19T10:29:19.324533Z",
     "iopub.status.idle": "2024-05-19T10:29:19.338221Z",
     "shell.execute_reply": "2024-05-19T10:29:19.337086Z"
    },
    "papermill": {
     "duration": 0.060728,
     "end_time": "2024-05-19T10:29:19.340927",
     "exception": false,
     "start_time": "2024-05-19T10:29:19.280199",
     "status": "completed"
    },
    "tags": []
   },
   "outputs": [],
   "source": [
    "def normalize_endorsement_by_article_and_user(articles_endorsement_articleuser_raw):\n",
    "    return articles_endorsement_articleuser_raw.sort(by=['user_id','impression_time']).with_columns(\n",
    "        (\n",
    "            pl.col('endorsement_20h_articleuser') / \n",
    "            pl.col('endorsement_20h_articleuser').sum().over(['user_id','impression_time'])\n",
    "        ).alias('normalized_endorsement_articleuser_20h'),\n",
    "        (\n",
    "            pl.col('endorsement_20h_articleuser') - \n",
    "            pl.col('endorsement_20h_articleuser').rolling_mean(10, min_periods=1).over(['article','user_id'])\n",
    "        ).alias('endorsement_20h_articleuser_diff_rolling'),\n",
    "        (\n",
    "            pl.col('endorsement_20h_articleuser').rolling_mean(5, min_periods=1).over(['article','user_id']) - \n",
    "            pl.col('endorsement_20h_articleuser').rolling_mean(10, min_periods=1).over(['article','user_id'])\n",
    "        ).alias('endorsement_articleuser_macd'),\n",
    "        (\n",
    "            pl.col('endorsement_20h_articleuser') / \n",
    "            pl.col('endorsement_20h_articleuser').quantile(0.8).over(['user_id','impression_time'])\n",
    "        ).alias('endorsement_articleuser_quantile_norm_20h')\n",
    "    ).with_columns(\n",
    "        (\n",
    "            pl.col('endorsement_20h_articleuser') / \n",
    "            pl.col('endorsement_20h_articleuser').rolling_max(10, min_periods=1).over(['user_id','impression_time'])\n",
    "        ).alias('normalized_endorsement_articleuser_20h_rolling_max_ratio'),\n",
    "    )\n",
    "    \n",
    "\n",
    "def add_article_endorsement_feature_by_article_and_user(df_features, normalized_endorsement):\n",
    "    # old return df_features.join(other=articles_endorsement, on=[\"article\", \"impression_time\"], how=\"left\")\n",
    "    normalized_endorsement = normalized_endorsement.with_columns(pl.col('article').cast(pl.Int32))\n",
    "    return df_features.with_columns(pl.col('impression_time').dt.round('1m').alias('rounded_impression_time'))\\\n",
    "                         .join(normalized_endorsement.rename({'impression_time' : 'rounded_impression_time'}), on=['user_id','article','rounded_impression_time'], how='left')\\\n",
    "                         .drop('rounded_impression_time')"
   ]
  },
  {
   "cell_type": "code",
   "execution_count": 31,
   "id": "eebb9a26",
   "metadata": {
    "execution": {
     "iopub.execute_input": "2024-05-19T10:29:19.427311Z",
     "iopub.status.busy": "2024-05-19T10:29:19.426880Z",
     "iopub.status.idle": "2024-05-19T10:29:19.436429Z",
     "shell.execute_reply": "2024-05-19T10:29:19.434995Z"
    },
    "papermill": {
     "duration": 0.055556,
     "end_time": "2024-05-19T10:29:19.438798",
     "exception": false,
     "start_time": "2024-05-19T10:29:19.383242",
     "status": "completed"
    },
    "tags": []
   },
   "outputs": [],
   "source": [
    "def add_article_endorsement_feature_leak(df_features, normalized_endorsement,period='10h'):\n",
    "    # old return df_features.join(other=articles_endorsement, on=[\"article\", \"impression_time\"], how=\"left\")\n",
    "    normalized_endorsement = normalized_endorsement.with_columns(pl.col('article').cast(pl.Int32)).rename({f'endorsement_{period}':f'endorsement_{period}_leak'}) \\\n",
    "                            .with_columns(\n",
    "                                pl.col('impression_time') - pl.duration(hours=int(period[:-1]))\n",
    "                            ).sort('impression_time').set_sorted('impression_time')\n",
    "    \n",
    "    return df_features.with_columns(pl.col('impression_time').dt.round('1m').alias('rounded_impression_time'))\\\n",
    "                        .sort('rounded_impression_time').set_sorted('rounded_impression_time') \\\n",
    "                         .join_asof(normalized_endorsement.rename({'impression_time' : 'rounded_impression_time'}),by='article', left_on='rounded_impression_time',right_on='rounded_impression_time', strategy='nearest')\\\n",
    "                         .drop('rounded_impression_time') \\\n",
    "                        .with_columns(\n",
    "                            pl.col(f'endorsement_{period}_leak').fill_null(0)\n",
    "                        )\n"
   ]
  },
  {
   "cell_type": "code",
   "execution_count": 32,
   "id": "97ba980b",
   "metadata": {
    "execution": {
     "iopub.execute_input": "2024-05-19T10:29:19.529080Z",
     "iopub.status.busy": "2024-05-19T10:29:19.527970Z",
     "iopub.status.idle": "2024-05-19T10:29:19.545711Z",
     "shell.execute_reply": "2024-05-19T10:29:19.544496Z"
    },
    "papermill": {
     "duration": 0.065247,
     "end_time": "2024-05-19T10:29:19.548634",
     "exception": false,
     "start_time": "2024-05-19T10:29:19.483387",
     "status": "completed"
    },
    "tags": []
   },
   "outputs": [],
   "source": [
    "def add_trendiness_feature_leak(df_features: pl.DataFrame, articles: pl.DataFrame, period: str = \"3d\"):\n",
    "\n",
    "    topics = articles.select(\"topics\").explode(\"topics\").unique()\n",
    "    topics = [topic for topic in topics[\"topics\"] if topic is not None]\n",
    "    # min_impression_time = df_features.select(pl.col(\"impression_time\")).min().item()\n",
    "\n",
    "    # topics_total_publications= articles.filter(pl.col(\"published_time\")< min_impression_time ).select(\"topics\") \\\n",
    "    # .explode(\"topics\").group_by(\"topics\").len()\n",
    "\n",
    "    topics_popularity = articles.select([\"published_time\", \"topics\"]).with_columns(\n",
    "        pl.col(\"published_time\").dt.date().alias(\"published_date\")\n",
    "    ).drop(\"published_time\").group_by(\"published_date\").agg(\n",
    "        pl.col(\"topics\").flatten()\n",
    "    ).sort(\"published_date\").set_sorted(\"published_date\").upsample(time_column=\"published_date\", every=\"1d\") \\\n",
    "        .rolling(index_column=\"published_date\", period=period).agg(\n",
    "        [pl.col(\"topics\").list.count_matches(topic).sum().alias(\n",
    "            f\"{topic}_matches\") for topic in topics]\n",
    "    )\n",
    "\n",
    "    return df_features.with_columns(\n",
    "        pl.col(\"impression_time\").dt.date().alias(\"impression_date\")\n",
    "    ).join(other=articles.select([\"article_id\", \"topics\"]), left_on=\"article\", right_on=\"article_id\", how=\"left\") \\\n",
    "        .with_columns(\n",
    "        [pl.col(\"topics\").list.contains(topic).cast(\n",
    "            pl.Int8).alias(f\"{topic}_present\") for topic in topics]\n",
    "    ).sort('impression_date').set_sorted('impression_date') \\\n",
    "    .join_asof(topics_popularity.with_columns(pl.col('published_date') + pl.duration(days=1) - pl.duration(days=int(period[:-1]))) \\\n",
    "               .sort('published_date').set_sorted('published_date'),\n",
    "               left_on=\"impression_date\", right_on=\"published_date\", strategy=\"nearest\") \\\n",
    "        .with_columns(\n",
    "        [pl.col(f\"{topic}_present\").mul(pl.col(f\"{topic}_matches\")).alias(\n",
    "            f\"trendiness_score_{topic}\") for topic in topics]\n",
    "    ).with_columns(\n",
    "        pl.sum_horizontal([pl.col(f\"trendiness_score_{topic}\") for topic in topics]).alias(\n",
    "            \"trendiness_score_leak\"),\n",
    "    ).drop(\n",
    "        [f\"trendiness_score_{topic}\" for topic in topics]\n",
    "    ).drop(\n",
    "        [f\"{topic}_matches\" for topic in topics]\n",
    "    ).drop(\n",
    "        [f\"{topic}_present\" for topic in topics]\n",
    "    ).drop([\"topics\", \"impression_date\",\"published_date\"])"
   ]
  },
  {
   "cell_type": "code",
   "execution_count": 33,
   "id": "9777d7c0",
   "metadata": {
    "execution": {
     "iopub.execute_input": "2024-05-19T10:29:19.638504Z",
     "iopub.status.busy": "2024-05-19T10:29:19.638087Z",
     "iopub.status.idle": "2024-05-19T10:33:24.857998Z",
     "shell.execute_reply": "2024-05-19T10:33:24.856408Z"
    },
    "papermill": {
     "duration": 245.268493,
     "end_time": "2024-05-19T10:33:24.861459",
     "exception": false,
     "start_time": "2024-05-19T10:29:19.592966",
     "status": "completed"
    },
    "tags": []
   },
   "outputs": [
    {
     "name": "stderr",
     "output_type": "stream",
     "text": [
      "16it [00:27,  1.71s/it]                        \n",
      "2427it [00:06, 386.65it/s]                          \n",
      "16it [00:01,  8.03it/s]                        \n",
      "16it [00:02,  6.57it/s]                        \n",
      "100%|██████████| 506/506 [00:04<00:00, 120.22it/s]\n",
      "100%|██████████| 506/506 [00:05<00:00, 85.87it/s] \n"
     ]
    },
    {
     "name": "stdout",
     "output_type": "stream",
     "text": [
      "\u001b[1m\u001b[31m\n",
      "RAM memory GB usage = 3.179\u001b[0m\n",
      "Memory usage of dataframe is 1119.91 MB\n",
      "Memory usage after optimization is: 661.24 MB\n",
      "Decreased by 41.0%\n",
      "\u001b[1m\u001b[31m\n",
      "RAM memory GB usage = 2.732\u001b[0m\n",
      "CPU times: user 12min 32s, sys: 1min 2s, total: 13min 35s\n",
      "Wall time: 4min 5s\n"
     ]
    },
    {
     "data": {
      "text/html": [
       "<div><style>\n",
       ".dataframe > thead > tr,\n",
       ".dataframe > tbody > tr {\n",
       "  text-align: right;\n",
       "  white-space: pre-wrap;\n",
       "}\n",
       "</style>\n",
       "<small>shape: (5, 89)</small><table border=\"1\" class=\"dataframe\"><thead><tr><th>impression_id</th><th>article</th><th>user_id</th><th>impression_time</th><th>target</th><th>device_type</th><th>read_time</th><th>scroll_percentage</th><th>is_sso_user</th><th>gender</th><th>age</th><th>is_subscriber</th><th>session_id</th><th>postcode</th><th>trendiness_score_1d</th><th>trendiness_score_3d</th><th>trendiness_score_5d</th><th>trendiness_score_3d_leak</th><th>weekday</th><th>hour</th><th>trendiness_score_1d/3d</th><th>trendiness_score_1d/5d</th><th>normalized_trendiness_score_overall</th><th>premium</th><th>published_time</th><th>category</th><th>sentiment_score</th><th>sentiment_label</th><th>num_images</th><th>title_len</th><th>subtitle_len</th><th>body_len</th><th>num_topics</th><th>total_pageviews</th><th>total_inviews</th><th>total_read_time</th><th>total_pageviews/inviews</th><th>&hellip;</th><th>mean_user_trendiness_score</th><th>mean_topics_trendiness_score</th><th>mean_topics_mean_delay_days</th><th>mean_topics_mean_delay_hours</th><th>user_mean_delay_days</th><th>user_mean_delay_hours</th><th>window_0_history_length</th><th>window_1_history_length</th><th>window_2_history_length</th><th>window_3_history_length</th><th>is_inside_window_0</th><th>is_inside_window_1</th><th>is_inside_window_2</th><th>is_inside_window_3</th><th>window_category_score</th><th>window_topics_score</th><th>trendiness_score_category</th><th>endorsement_10h</th><th>normalized_endorsement_10h</th><th>endorsement_10h_diff_rolling</th><th>endorsement_macd</th><th>endorsement_quantile_norm_10h</th><th>normalized_endorsement_10h_rolling_max_ratio</th><th>endorsement_20h_articleuser</th><th>normalized_endorsement_articleuser_20h</th><th>endorsement_20h_articleuser_diff_rolling</th><th>endorsement_articleuser_macd</th><th>endorsement_articleuser_quantile_norm_20h</th><th>normalized_endorsement_articleuser_20h_rolling_max_ratio</th><th>endorsement_10h_leak</th><th>normalized_endorsement_10h_right</th><th>endorsement_10h_leak_diff_rolling</th><th>endorsement_leak_macd</th><th>endorsement_quantile_norm_10h_leak</th><th>normalized_endorsement_10h_leak_rolling_max_ratio</th><th>clicked_count</th><th>inview_count</th></tr><tr><td>u32</td><td>i32</td><td>u32</td><td>datetime[μs]</td><td>i8</td><td>i8</td><td>f32</td><td>f32</td><td>bool</td><td>i8</td><td>i8</td><td>bool</td><td>u32</td><td>i8</td><td>i16</td><td>i16</td><td>i16</td><td>i16</td><td>i8</td><td>i8</td><td>f32</td><td>f32</td><td>f32</td><td>bool</td><td>datetime[μs]</td><td>i16</td><td>f32</td><td>str</td><td>u32</td><td>u8</td><td>u8</td><td>u16</td><td>u32</td><td>i32</td><td>i32</td><td>f32</td><td>f32</td><td>&hellip;</td><td>f32</td><td>f32</td><td>f32</td><td>f32</td><td>f32</td><td>f32</td><td>i16</td><td>i16</td><td>i16</td><td>i16</td><td>i8</td><td>i8</td><td>i8</td><td>i8</td><td>i16</td><td>i16</td><td>i8</td><td>u16</td><td>f32</td><td>f32</td><td>f32</td><td>f32</td><td>f32</td><td>u8</td><td>f32</td><td>f32</td><td>f32</td><td>f32</td><td>f32</td><td>i16</td><td>f32</td><td>f32</td><td>f32</td><td>f32</td><td>f32</td><td>u32</td><td>u16</td></tr></thead><tbody><tr><td>372697938</td><td>9506514</td><td>904400</td><td>2023-05-18 07:00:07</td><td>0</td><td>1</td><td>25.0</td><td>null</td><td>false</td><td>2</td><td>null</td><td>false</td><td>1324242</td><td>5</td><td>30</td><td>93</td><td>133</td><td>83</td><td>4</td><td>7</td><td>0.322581</td><td>0.225564</td><td>0.180583</td><td>true</td><td>2022-11-10 06:06:37</td><td>414</td><td>0.9117</td><td>&quot;Neutral&quot;</td><td>21</td><td>5</td><td>23</td><td>843</td><td>4</td><td>null</td><td>null</td><td>null</td><td>null</td><td>&hellip;</td><td>222.654251</td><td>216.710678</td><td>53.790367</td><td>1295.38562</td><td>8.489362</td><td>212.569153</td><td>562</td><td>0</td><td>0</td><td>42</td><td>1</td><td>0</td><td>0</td><td>0</td><td>112</td><td>222</td><td>49</td><td>1</td><td>0.002994</td><td>0.0</td><td>0.0</td><td>0.142857</td><td>0.333333</td><td>1</td><td>0.111111</td><td>0.0</td><td>0.0</td><td>1.0</td><td>1.0</td><td>376</td><td>0.00364</td><td>8.1</td><td>4.9</td><td>0.208889</td><td>0.208889</td><td>14</td><td>675</td></tr><tr><td>579742841</td><td>9769366</td><td>362240</td><td>2023-05-18 07:00:07</td><td>0</td><td>1</td><td>88.0</td><td>null</td><td>false</td><td>2</td><td>null</td><td>false</td><td>1771620</td><td>5</td><td>83</td><td>257</td><td>344</td><td>165</td><td>4</td><td>7</td><td>0.322957</td><td>0.241279</td><td>0.499029</td><td>false</td><td>2023-05-17 19:40:24</td><td>118</td><td>0.9931</td><td>&quot;Negative&quot;</td><td>1</td><td>4</td><td>13</td><td>224</td><td>7</td><td>147676</td><td>586129</td><td>5.110444e6</td><td>0.251951</td><td>&hellip;</td><td>192.800003</td><td>288.029449</td><td>6.730829</td><td>164.194977</td><td>0.266667</td><td>10.666667</td><td>15</td><td>0</td><td>0</td><td>0</td><td>1</td><td>0</td><td>0</td><td>0</td><td>4</td><td>11</td><td>96</td><td>1</td><td>0.002994</td><td>0.0</td><td>0.0</td><td>0.142857</td><td>0.125</td><td>1</td><td>0.030303</td><td>0.0</td><td>0.0</td><td>1.0</td><td>1.0</td><td>537</td><td>0.004671</td><td>6.9</td><td>4.1</td><td>0.328641</td><td>0.245654</td><td>2148</td><td>951</td></tr><tr><td>59380694</td><td>9735909</td><td>387561</td><td>2023-05-18 07:00:03</td><td>1</td><td>2</td><td>20.0</td><td>null</td><td>false</td><td>2</td><td>null</td><td>false</td><td>994730</td><td>5</td><td>65</td><td>189</td><td>259</td><td>112</td><td>4</td><td>7</td><td>0.343915</td><td>0.250965</td><td>0.36699</td><td>false</td><td>2023-05-18 05:57:39</td><td>118</td><td>0.5229</td><td>&quot;Neutral&quot;</td><td>4</td><td>6</td><td>26</td><td>797</td><td>3</td><td>80116</td><td>453605</td><td>5.717602e6</td><td>0.176621</td><td>&hellip;</td><td>170.100006</td><td>360.249542</td><td>4.019499</td><td>98.734055</td><td>0.0</td><td>4.1</td><td>2</td><td>2</td><td>6</td><td>6</td><td>1</td><td>0</td><td>0</td><td>0</td><td>0</td><td>3</td><td>96</td><td>18</td><td>0.053892</td><td>0.0</td><td>0.0</td><td>2.571429</td><td>1.0</td><td>1</td><td>0.2</td><td>0.0</td><td>0.0</td><td>1.0</td><td>1.0</td><td>2274</td><td>0.019304</td><td>5.7</td><td>3.7</td><td>0.990418</td><td>0.955462</td><td>703</td><td>2374</td></tr><tr><td>271334979</td><td>9769306</td><td>268275</td><td>2023-05-18 07:00:29</td><td>0</td><td>1</td><td>31.0</td><td>100.0</td><td>false</td><td>2</td><td>null</td><td>false</td><td>1770914</td><td>5</td><td>60</td><td>166</td><td>207</td><td>106</td><td>4</td><td>7</td><td>0.361446</td><td>0.289855</td><td>0.32233</td><td>false</td><td>2023-05-17 21:10:24</td><td>2975</td><td>0.9677</td><td>&quot;Negative&quot;</td><td>2</td><td>7</td><td>14</td><td>259</td><td>4</td><td>239002</td><td>1530146</td><td>1.331583e7</td><td>0.156196</td><td>&hellip;</td><td>282.16394</td><td>257.45697</td><td>6.50943</td><td>158.575974</td><td>3.016393</td><td>76.52459</td><td>90</td><td>33</td><td>5</td><td>62</td><td>1</td><td>0</td><td>0</td><td>0</td><td>0</td><td>25</td><td>19</td><td>15</td><td>0.04491</td><td>0.0</td><td>0.0</td><td>2.142857</td><td>1.0</td><td>1</td><td>0.047619</td><td>0.0</td><td>0.0</td><td>1.0</td><td>1.0</td><td>2939</td><td>0.035394</td><td>-6.0</td><td>3.4</td><td>1.523587</td><td>0.557156</td><td>2888</td><td>8066</td></tr><tr><td>579742841</td><td>9769575</td><td>362240</td><td>2023-05-18 07:00:07</td><td>0</td><td>1</td><td>88.0</td><td>null</td><td>false</td><td>2</td><td>null</td><td>false</td><td>1771620</td><td>5</td><td>46</td><td>105</td><td>152</td><td>76</td><td>4</td><td>7</td><td>0.438095</td><td>0.302632</td><td>0.203883</td><td>false</td><td>2023-05-17 21:07:38</td><td>140</td><td>0.9925</td><td>&quot;Negative&quot;</td><td>1</td><td>10</td><td>21</td><td>259</td><td>2</td><td>110621</td><td>478005</td><td>4.815504e6</td><td>0.231422</td><td>&hellip;</td><td>192.800003</td><td>176.763824</td><td>9.866658</td><td>239.443207</td><td>0.266667</td><td>10.666667</td><td>15</td><td>0</td><td>0</td><td>0</td><td>1</td><td>0</td><td>0</td><td>0</td><td>3</td><td>2</td><td>67</td><td>8</td><td>0.023952</td><td>0.0</td><td>0.0</td><td>1.142857</td><td>0.571429</td><td>1</td><td>0.030303</td><td>0.0</td><td>0.0</td><td>1.0</td><td>1.0</td><td>800</td><td>0.007837</td><td>6.5</td><td>4.1</td><td>0.434311</td><td>0.474777</td><td>1469</td><td>950</td></tr></tbody></table></div>"
      ],
      "text/plain": [
       "shape: (5, 89)\n",
       "┌────────────┬─────────┬─────────┬────────────┬───┬────────────┬───────────┬───────────┬───────────┐\n",
       "│ impression ┆ article ┆ user_id ┆ impression ┆ … ┆ endorsemen ┆ normalize ┆ clicked_c ┆ inview_co │\n",
       "│ _id        ┆ ---     ┆ ---     ┆ _time      ┆   ┆ t_quantile ┆ d_endorse ┆ ount      ┆ unt       │\n",
       "│ ---        ┆ i32     ┆ u32     ┆ ---        ┆   ┆ _norm_10h_ ┆ ment_10h_ ┆ ---       ┆ ---       │\n",
       "│ u32        ┆         ┆         ┆ datetime[μ ┆   ┆ …          ┆ lea…      ┆ u32       ┆ u16       │\n",
       "│            ┆         ┆         ┆ s]         ┆   ┆ ---        ┆ ---       ┆           ┆           │\n",
       "│            ┆         ┆         ┆            ┆   ┆ f32        ┆ f32       ┆           ┆           │\n",
       "╞════════════╪═════════╪═════════╪════════════╪═══╪════════════╪═══════════╪═══════════╪═══════════╡\n",
       "│ 372697938  ┆ 9506514 ┆ 904400  ┆ 2023-05-18 ┆ … ┆ 0.208889   ┆ 0.208889  ┆ 14        ┆ 675       │\n",
       "│            ┆         ┆         ┆ 07:00:07   ┆   ┆            ┆           ┆           ┆           │\n",
       "│ 579742841  ┆ 9769366 ┆ 362240  ┆ 2023-05-18 ┆ … ┆ 0.328641   ┆ 0.245654  ┆ 2148      ┆ 951       │\n",
       "│            ┆         ┆         ┆ 07:00:07   ┆   ┆            ┆           ┆           ┆           │\n",
       "│ 59380694   ┆ 9735909 ┆ 387561  ┆ 2023-05-18 ┆ … ┆ 0.990418   ┆ 0.955462  ┆ 703       ┆ 2374      │\n",
       "│            ┆         ┆         ┆ 07:00:03   ┆   ┆            ┆           ┆           ┆           │\n",
       "│ 271334979  ┆ 9769306 ┆ 268275  ┆ 2023-05-18 ┆ … ┆ 1.523587   ┆ 0.557156  ┆ 2888      ┆ 8066      │\n",
       "│            ┆         ┆         ┆ 07:00:29   ┆   ┆            ┆           ┆           ┆           │\n",
       "│ 579742841  ┆ 9769575 ┆ 362240  ┆ 2023-05-18 ┆ … ┆ 0.434311   ┆ 0.474777  ┆ 1469      ┆ 950       │\n",
       "│            ┆         ┆         ┆ 07:00:07   ┆   ┆            ┆           ┆           ┆           │\n",
       "└────────────┴─────────┴─────────┴────────────┴───┴────────────┴───────────┴───────────┴───────────┘"
      ]
     },
     "execution_count": 33,
     "metadata": {},
     "output_type": "execute_result"
    }
   ],
   "source": [
    "%%time\n",
    "\n",
    "NPRATIO = 2\n",
    "\n",
    "users_mean_trendiness_scores, topics_mean_trendiness_scores = _preprocessing_history_trendiness_scores(\n",
    "        history=history_train, articles=articles)\n",
    "topic_mean_delays, user_mean_delays = _preprocessing_mean_delay_features(\n",
    "    articles=articles, history=history_train)\n",
    "windows, user_windows, user_topics_windows, user_category_windows = _preprocessing_window_features(\n",
    "    history=history_train, articles=articles)\n",
    "articles_endorsement = _preprocessing_article_endorsement_feature(\n",
    "    behaviors=behaviors_train, period=\"10h\")\n",
    "normalized_endorsement = normalize_endorsement(articles_endorsement)\n",
    "articles_endorsement_articleuser = _preprocessing_article_endorsement_feature_by_article_and_user(\n",
    "    behaviors=behaviors_train, period=\"20h\")\n",
    "normalized_endorsement_articleuser = normalize_endorsement_by_article_and_user(articles_endorsement_articleuser)\n",
    "\n",
    "topics = articles.select(\"topics\").explode(\"topics\").unique()\n",
    "topics = [topic for topic in topics[\"topics\"] if topic is not None]\n",
    "\n",
    "history_counts=history_train.select(['article_id_fixed']).explode('article_id_fixed').group_by('article_id_fixed').len() \\\n",
    ".rename({'article_id_fixed':'article','len':'clicked_count'})\n",
    "\n",
    "behaviors_counts=behaviors_train.select('article_ids_inview').explode('article_ids_inview').group_by('article_ids_inview').len() \\\n",
    ".rename({'article_ids_inview':'article','len':'inview_count'})\n",
    "\n",
    "# dropping duplicates that can occur because of sampling strategy\n",
    "train_ds = behaviors_train.pipe(create_binary_labels_column, shuffle=True, seed=123) \\\n",
    "    .with_columns(pl.col('gender').fill_null(2)) \\\n",
    "    .with_columns(pl.col('postcode').fill_null(5)) \\\n",
    "    .select(['impression_id', 'article_ids_inview', 'impression_time', 'labels', \n",
    "             'device_type', 'read_time', 'scroll_percentage', 'user_id', 'is_sso_user', 'gender',\n",
    "             'age', 'is_subscriber', 'session_id', 'postcode']) \\\n",
    "    .explode(['article_ids_inview', 'labels']) \\\n",
    "    .rename({'article_ids_inview': 'article', 'labels': 'target'}) \\\n",
    "    .with_columns(pl.col('article').cast(pl.Int32)) \\\n",
    "    .pipe(add_trendiness_feature, articles=articles, period='1d') \\\n",
    "    .rename({'trendiness_score': 'trendiness_score_1d'}) \\\n",
    "    .pipe(add_trendiness_feature, articles=articles, period='3d') \\\n",
    "    .rename({'trendiness_score': 'trendiness_score_3d'}) \\\n",
    "    .pipe(add_trendiness_feature, articles=articles, period='5d') \\\n",
    "    .rename({'trendiness_score': 'trendiness_score_5d'}) \\\n",
    "    .pipe(add_trendiness_feature_leak, articles=articles, period='3d') \\\n",
    "    .rename({'trendiness_score_leak':'trendiness_score_3d_leak'}) \\\n",
    "    .unique(['impression_id', 'article']) \\\n",
    "    .with_columns(\n",
    "        pl.col('impression_time').dt.weekday().alias('weekday'),\n",
    "        pl.col('impression_time').dt.hour().alias('hour'),\n",
    "        pl.col('article').cast(pl.Int32),\n",
    "        (\n",
    "            pl.col('trendiness_score_1d') / \n",
    "            pl.col('trendiness_score_3d')\n",
    "        ).alias('trendiness_score_1d/3d'),\n",
    "        (\n",
    "            pl.col('trendiness_score_1d') / \n",
    "            pl.col('trendiness_score_5d')\n",
    "        ).alias('trendiness_score_1d/5d'),\n",
    "        (\n",
    "            pl.col('trendiness_score_3d') / \n",
    "            pl.col('trendiness_score_3d').max().over(pl.col('impression_time').dt.date())\n",
    "        ).alias('normalized_trendiness_score_overall'),\n",
    "    ).join(articles.select(['article_id', 'premium', 'published_time', 'category',\n",
    "                            'sentiment_score', 'sentiment_label', 'entity_groups',\n",
    "                            'num_images', 'title_len', 'subtitle_len', 'body_len','num_topics',\n",
    "                            'total_pageviews', 'total_inviews', 'total_read_time', \n",
    "                            'total_pageviews/inviews', 'article_type']),\n",
    "           left_on='article', right_on='article_id', how='left') \\\n",
    "    .with_columns(\n",
    "        (pl.col('impression_time') - pl.col('published_time')).dt.total_days().alias('article_delay_days'),\n",
    "        (pl.col('impression_time') - pl.col('published_time')).dt.total_hours().alias('article_delay_hours'),\n",
    "    ).with_columns(\n",
    "        pl.col('entity_groups').list.contains(entity).alias(f'Entity_{entity}_Present')\n",
    "        for entity in unique_entities\n",
    "    ).drop('entity_groups') \\\n",
    "    .join(behaviors_ner_scores, on=['impression_id', 'article'], how='left') \\\n",
    "    .pipe(add_history_trendiness_scores_feature, articles=articles, \n",
    "          users_mean_trendiness_scores=users_mean_trendiness_scores,\n",
    "          topics_mean_trendiness_scores=topics_mean_trendiness_scores, topics=topics) \\\n",
    "    .pipe(add_mean_delays_features, articles=articles,\n",
    "          topic_mean_delays=topic_mean_delays, user_mean_delays=user_mean_delays) \\\n",
    "    .pipe(add_window_features, articles=articles, user_windows=user_windows,\n",
    "          user_category_windows=user_category_windows, \n",
    "          user_topics_windows=user_topics_windows, windows=windows) \\\n",
    "    .pipe(add_trendiness_feature_categories, articles=articles) \\\n",
    "    .pipe(add_article_endorsement_feature, normalized_endorsement=normalized_endorsement) \\\n",
    "    .pipe(add_article_endorsement_feature_by_article_and_user, normalized_endorsement = normalized_endorsement_articleuser) \\\n",
    "    .pipe(add_article_endorsement_feature_leak, normalized_endorsement = normalized_endorsement) \\\n",
    "    .rename({\n",
    "        \"endorsement_10h_diff_rolling_right\":\"endorsement_10h_leak_diff_rolling\",\n",
    "        \"endorsement_macd_right\":\"endorsement_leak_macd\",\n",
    "        \"endorsement_quantile_norm_10h_right\":\"endorsement_quantile_norm_10h_leak\",\n",
    "        \"normalized_endorsement_10h_rolling_max_ratio_right\":\"normalized_endorsement_10h_leak_rolling_max_ratio\"\n",
    "    }).join(history_counts, on='article',how='left') \\\n",
    "    .join(behaviors_counts , on='article', how='left')\n",
    "\n",
    "gc.collect()\n",
    "PrintColor(f\"\\n\" + GetMemUsage(), color = Fore.RED)\n",
    "\n",
    "train_ds = reduce_polars_df_memory_size(train_ds)\n",
    "PrintColor(f\"\\n\" + GetMemUsage(), color = Fore.RED)\n",
    "train_ds.head()"
   ]
  },
  {
   "cell_type": "code",
   "execution_count": 34,
   "id": "5a40aa8f",
   "metadata": {
    "execution": {
     "iopub.execute_input": "2024-05-19T10:33:25.012929Z",
     "iopub.status.busy": "2024-05-19T10:33:25.012430Z",
     "iopub.status.idle": "2024-05-19T10:33:25.020621Z",
     "shell.execute_reply": "2024-05-19T10:33:25.018945Z"
    },
    "papermill": {
     "duration": 0.085721,
     "end_time": "2024-05-19T10:33:25.023349",
     "exception": false,
     "start_time": "2024-05-19T10:33:24.937628",
     "status": "completed"
    },
    "tags": []
   },
   "outputs": [
    {
     "data": {
      "text/plain": [
       "(2585747, 89)"
      ]
     },
     "execution_count": 34,
     "metadata": {},
     "output_type": "execute_result"
    }
   ],
   "source": [
    "train_ds.shape"
   ]
  },
  {
   "cell_type": "markdown",
   "id": "6b937cbf",
   "metadata": {
    "papermill": {
     "duration": 0.071094,
     "end_time": "2024-05-19T10:33:25.163221",
     "exception": false,
     "start_time": "2024-05-19T10:33:25.092127",
     "status": "completed"
    },
    "tags": []
   },
   "source": [
    "## Session Features"
   ]
  },
  {
   "cell_type": "code",
   "execution_count": 35,
   "id": "560bd79c",
   "metadata": {
    "execution": {
     "iopub.execute_input": "2024-05-19T10:33:25.314108Z",
     "iopub.status.busy": "2024-05-19T10:33:25.313274Z",
     "iopub.status.idle": "2024-05-19T10:33:25.321496Z",
     "shell.execute_reply": "2024-05-19T10:33:25.319911Z"
    },
    "papermill": {
     "duration": 0.088947,
     "end_time": "2024-05-19T10:33:25.324386",
     "exception": false,
     "start_time": "2024-05-19T10:33:25.235439",
     "status": "completed"
    },
    "tags": []
   },
   "outputs": [],
   "source": [
    "# behaviors_train.select(['session_id', 'impression_time', 'article_ids_clicked']) \\\n",
    "#     .group_by('session_id').map_groups(\n",
    "#         lambda group: group.explode('article_ids_clicked').sort('impression_time') \\\n",
    "#             .select(\n",
    "#                 pl.col('session_id').first(),\n",
    "#                 pl.col('article_ids_clicked').first().alias('article_id'),\n",
    "#                 (pl.col('impression_time').last() - pl.col('impression_time').first()).dt.total_minutes().alias('induced_session_len'),\n",
    "#                 (pl.col('impression_time').count() - 1).alias('num_clicked_articles_following')\n",
    "#             )\n",
    "#     ).group_by('article_id').agg(\n",
    "#         pl.col('num_clicked_articles_following').mean().alias('mean_num_clicked_articles_following'),\n",
    "#         pl.col('induced_session_len').mean().alias('mean_induced_session_len'),\n",
    "#     )"
   ]
  },
  {
   "cell_type": "code",
   "execution_count": 36,
   "id": "402325d8",
   "metadata": {
    "execution": {
     "iopub.execute_input": "2024-05-19T10:33:25.471127Z",
     "iopub.status.busy": "2024-05-19T10:33:25.470624Z",
     "iopub.status.idle": "2024-05-19T10:33:27.255463Z",
     "shell.execute_reply": "2024-05-19T10:33:27.253934Z"
    },
    "papermill": {
     "duration": 1.864548,
     "end_time": "2024-05-19T10:33:27.259832",
     "exception": false,
     "start_time": "2024-05-19T10:33:25.395284",
     "status": "completed"
    },
    "tags": []
   },
   "outputs": [
    {
     "name": "stdout",
     "output_type": "stream",
     "text": [
      "\u001b[1m\u001b[31m\n",
      "RAM memory GB usage = 2.701\u001b[0m\n",
      "CPU times: user 2.23 s, sys: 164 ms, total: 2.39 s\n",
      "Wall time: 1.76 s\n"
     ]
    },
    {
     "data": {
      "text/html": [
       "<div><style>\n",
       ".dataframe > thead > tr,\n",
       ".dataframe > tbody > tr {\n",
       "  text-align: right;\n",
       "  white-space: pre-wrap;\n",
       "}\n",
       "</style>\n",
       "<small>shape: (2, 5)</small><table border=\"1\" class=\"dataframe\"><thead><tr><th>session_id</th><th>last_session_time</th><th>last_session_duration</th><th>all_seen_articles</th><th>mean_prev_sessions_duration</th></tr><tr><td>u32</td><td>datetime[μs]</td><td>i64</td><td>list[i32]</td><td>f64</td></tr></thead><tbody><tr><td>819475</td><td>2023-05-17 05:30:32</td><td>0</td><td>[9768997]</td><td>0.0</td></tr><tr><td>9706</td><td>2023-05-18 05:48:06</td><td>0</td><td>[9769404]</td><td>0.0</td></tr></tbody></table></div>"
      ],
      "text/plain": [
       "shape: (2, 5)\n",
       "┌────────────┬─────────────────────┬─────────────────────┬───────────────────┬─────────────────────┐\n",
       "│ session_id ┆ last_session_time   ┆ last_session_durati ┆ all_seen_articles ┆ mean_prev_sessions_ │\n",
       "│ ---        ┆ ---                 ┆ on                  ┆ ---               ┆ duration            │\n",
       "│ u32        ┆ datetime[μs]        ┆ ---                 ┆ list[i32]         ┆ ---                 │\n",
       "│            ┆                     ┆ i64                 ┆                   ┆ f64                 │\n",
       "╞════════════╪═════════════════════╪═════════════════════╪═══════════════════╪═════════════════════╡\n",
       "│ 819475     ┆ 2023-05-17 05:30:32 ┆ 0                   ┆ [9768997]         ┆ 0.0                 │\n",
       "│ 9706       ┆ 2023-05-18 05:48:06 ┆ 0                   ┆ [9769404]         ┆ 0.0                 │\n",
       "└────────────┴─────────────────────┴─────────────────────┴───────────────────┴─────────────────────┘"
      ]
     },
     "execution_count": 36,
     "metadata": {},
     "output_type": "execute_result"
    }
   ],
   "source": [
    "%%time\n",
    "\n",
    "last_history_df = history_train.with_columns(\n",
    "    pl.col('impression_time_fixed').list.max().alias('last_history_impression_time'),\n",
    "    pl.col('article_id_fixed').list.tail(1).alias('last_history_article'),\n",
    ").select(['user_id', 'last_history_impression_time', 'last_history_article'])\n",
    "\n",
    "last_session_time_df = behaviors_train.select(['session_id', 'user_id', 'impression_time', 'article_ids_inview']) \\\n",
    "    .group_by('session_id').agg(\n",
    "        pl.col('user_id').first(), \n",
    "        pl.col('impression_time').max().alias('session_time'), \n",
    "        pl.col('article_ids_inview').flatten().alias('all_seen_articles'),\n",
    "        (pl.col('impression_time').max() - pl.col('impression_time').min()).dt.total_minutes().alias('session_duration'),\n",
    "    ).with_columns(\n",
    "        pl.col(['session_time', 'session_duration']).shift(1).over('user_id').name.prefix('last_'),\n",
    "        pl.col('all_seen_articles').list.unique().shift(1).over('user_id'),\n",
    "        pl.col('session_duration').rolling_mean(100, min_periods=1).over('user_id').alias('mean_prev_sessions_duration'),\n",
    "    ).with_columns(pl.col(['last_session_duration']).fill_null(0)) \\\n",
    "    .join(last_history_df, on='user_id', how='left') \\\n",
    "    .with_columns(\n",
    "        pl.col('last_session_time').fill_null(pl.col('last_history_impression_time')),\n",
    "        pl.col('all_seen_articles').fill_null(pl.col('last_history_article')),\n",
    "    ).select(['session_id', 'last_session_time', 'last_session_duration', \n",
    "              'all_seen_articles', 'mean_prev_sessions_duration'])\n",
    "    \n",
    "gc.collect()\n",
    "PrintColor(f\"\\n\" + GetMemUsage(), color = Fore.RED)\n",
    "last_session_time_df.head(2)"
   ]
  },
  {
   "cell_type": "code",
   "execution_count": 37,
   "id": "8b8a4c8b",
   "metadata": {
    "execution": {
     "iopub.execute_input": "2024-05-19T10:33:27.426771Z",
     "iopub.status.busy": "2024-05-19T10:33:27.425053Z",
     "iopub.status.idle": "2024-05-19T10:33:30.322596Z",
     "shell.execute_reply": "2024-05-19T10:33:30.320082Z"
    },
    "papermill": {
     "duration": 2.989037,
     "end_time": "2024-05-19T10:33:30.326338",
     "exception": false,
     "start_time": "2024-05-19T10:33:27.337301",
     "status": "completed"
    },
    "tags": []
   },
   "outputs": [
    {
     "name": "stdout",
     "output_type": "stream",
     "text": [
      "\u001b[1m\u001b[31m\n",
      "RAM memory GB usage = 3.052\u001b[0m\n"
     ]
    },
    {
     "data": {
      "text/html": [
       "<div><style>\n",
       ".dataframe > thead > tr,\n",
       ".dataframe > tbody > tr {\n",
       "  text-align: right;\n",
       "  white-space: pre-wrap;\n",
       "}\n",
       "</style>\n",
       "<small>shape: (2, 92)</small><table border=\"1\" class=\"dataframe\"><thead><tr><th>impression_id</th><th>article</th><th>user_id</th><th>impression_time</th><th>target</th><th>device_type</th><th>read_time</th><th>scroll_percentage</th><th>is_sso_user</th><th>gender</th><th>age</th><th>is_subscriber</th><th>postcode</th><th>trendiness_score_1d</th><th>trendiness_score_3d</th><th>trendiness_score_5d</th><th>trendiness_score_3d_leak</th><th>weekday</th><th>hour</th><th>trendiness_score_1d/3d</th><th>trendiness_score_1d/5d</th><th>normalized_trendiness_score_overall</th><th>premium</th><th>category</th><th>sentiment_score</th><th>sentiment_label</th><th>num_images</th><th>title_len</th><th>subtitle_len</th><th>body_len</th><th>num_topics</th><th>total_pageviews</th><th>total_inviews</th><th>total_read_time</th><th>total_pageviews/inviews</th><th>article_type</th><th>article_delay_days</th><th>&hellip;</th><th>user_mean_delay_hours</th><th>window_0_history_length</th><th>window_1_history_length</th><th>window_2_history_length</th><th>window_3_history_length</th><th>is_inside_window_0</th><th>is_inside_window_1</th><th>is_inside_window_2</th><th>is_inside_window_3</th><th>window_category_score</th><th>window_topics_score</th><th>trendiness_score_category</th><th>endorsement_10h</th><th>normalized_endorsement_10h</th><th>endorsement_10h_diff_rolling</th><th>endorsement_macd</th><th>endorsement_quantile_norm_10h</th><th>normalized_endorsement_10h_rolling_max_ratio</th><th>endorsement_20h_articleuser</th><th>normalized_endorsement_articleuser_20h</th><th>endorsement_20h_articleuser_diff_rolling</th><th>endorsement_articleuser_macd</th><th>endorsement_articleuser_quantile_norm_20h</th><th>normalized_endorsement_articleuser_20h_rolling_max_ratio</th><th>endorsement_10h_leak</th><th>normalized_endorsement_10h_right</th><th>endorsement_10h_leak_diff_rolling</th><th>endorsement_leak_macd</th><th>endorsement_quantile_norm_10h_leak</th><th>normalized_endorsement_10h_leak_rolling_max_ratio</th><th>clicked_count</th><th>inview_count</th><th>last_session_duration</th><th>mean_prev_sessions_duration</th><th>last_session_time_hour_diff</th><th>is_new_article</th><th>is_already_seen_article</th></tr><tr><td>u32</td><td>i32</td><td>u32</td><td>datetime[μs]</td><td>i8</td><td>i8</td><td>f32</td><td>f32</td><td>bool</td><td>i8</td><td>i8</td><td>bool</td><td>i8</td><td>i16</td><td>i16</td><td>i16</td><td>i16</td><td>i8</td><td>i8</td><td>f32</td><td>f32</td><td>f32</td><td>bool</td><td>i16</td><td>f32</td><td>str</td><td>u32</td><td>u8</td><td>u8</td><td>u16</td><td>u32</td><td>i32</td><td>i32</td><td>f32</td><td>f32</td><td>str</td><td>i16</td><td>&hellip;</td><td>f32</td><td>i16</td><td>i16</td><td>i16</td><td>i16</td><td>i8</td><td>i8</td><td>i8</td><td>i8</td><td>i16</td><td>i16</td><td>i8</td><td>u16</td><td>f32</td><td>f32</td><td>f32</td><td>f32</td><td>f32</td><td>u8</td><td>f32</td><td>f32</td><td>f32</td><td>f32</td><td>f32</td><td>i16</td><td>f32</td><td>f32</td><td>f32</td><td>f32</td><td>f32</td><td>u32</td><td>u16</td><td>i64</td><td>f64</td><td>i64</td><td>bool</td><td>bool</td></tr></thead><tbody><tr><td>372697938</td><td>9506514</td><td>904400</td><td>2023-05-18 07:00:07</td><td>0</td><td>1</td><td>25.0</td><td>null</td><td>false</td><td>2</td><td>null</td><td>false</td><td>5</td><td>30</td><td>93</td><td>133</td><td>83</td><td>4</td><td>7</td><td>0.322581</td><td>0.225564</td><td>0.180583</td><td>true</td><td>414</td><td>0.9117</td><td>&quot;Neutral&quot;</td><td>21</td><td>5</td><td>23</td><td>843</td><td>4</td><td>null</td><td>null</td><td>null</td><td>null</td><td>&quot;article_standard_feature&quot;</td><td>189</td><td>&hellip;</td><td>212.569153</td><td>562</td><td>0</td><td>0</td><td>42</td><td>1</td><td>0</td><td>0</td><td>0</td><td>112</td><td>222</td><td>49</td><td>1</td><td>0.002994</td><td>0.0</td><td>0.0</td><td>0.142857</td><td>0.333333</td><td>1</td><td>0.111111</td><td>0.0</td><td>0.0</td><td>1.0</td><td>1.0</td><td>376</td><td>0.00364</td><td>8.1</td><td>4.9</td><td>0.208889</td><td>0.208889</td><td>14</td><td>675</td><td>8</td><td>14.1</td><td>-48</td><td>true</td><td>false</td></tr><tr><td>579742841</td><td>9769366</td><td>362240</td><td>2023-05-18 07:00:07</td><td>0</td><td>1</td><td>88.0</td><td>null</td><td>false</td><td>2</td><td>null</td><td>false</td><td>5</td><td>83</td><td>257</td><td>344</td><td>165</td><td>4</td><td>7</td><td>0.322957</td><td>0.241279</td><td>0.499029</td><td>false</td><td>118</td><td>0.9931</td><td>&quot;Negative&quot;</td><td>1</td><td>4</td><td>13</td><td>224</td><td>7</td><td>147676</td><td>586129</td><td>5.110444e6</td><td>0.251951</td><td>&quot;article_default&quot;</td><td>0</td><td>&hellip;</td><td>10.666667</td><td>15</td><td>0</td><td>0</td><td>0</td><td>1</td><td>0</td><td>0</td><td>0</td><td>4</td><td>11</td><td>96</td><td>1</td><td>0.002994</td><td>0.0</td><td>0.0</td><td>0.142857</td><td>0.125</td><td>1</td><td>0.030303</td><td>0.0</td><td>0.0</td><td>1.0</td><td>1.0</td><td>537</td><td>0.004671</td><td>6.9</td><td>4.1</td><td>0.328641</td><td>0.245654</td><td>2148</td><td>951</td><td>1</td><td>1.0</td><td>-33</td><td>true</td><td>false</td></tr></tbody></table></div>"
      ],
      "text/plain": [
       "shape: (2, 92)\n",
       "┌────────────┬─────────┬─────────┬────────────┬───┬────────────┬───────────┬───────────┬───────────┐\n",
       "│ impression ┆ article ┆ user_id ┆ impression ┆ … ┆ mean_prev_ ┆ last_sess ┆ is_new_ar ┆ is_alread │\n",
       "│ _id        ┆ ---     ┆ ---     ┆ _time      ┆   ┆ sessions_d ┆ ion_time_ ┆ ticle     ┆ y_seen_ar │\n",
       "│ ---        ┆ i32     ┆ u32     ┆ ---        ┆   ┆ uration    ┆ hour_diff ┆ ---       ┆ ticle     │\n",
       "│ u32        ┆         ┆         ┆ datetime[μ ┆   ┆ ---        ┆ ---       ┆ bool      ┆ ---       │\n",
       "│            ┆         ┆         ┆ s]         ┆   ┆ f64        ┆ i64       ┆           ┆ bool      │\n",
       "╞════════════╪═════════╪═════════╪════════════╪═══╪════════════╪═══════════╪═══════════╪═══════════╡\n",
       "│ 372697938  ┆ 9506514 ┆ 904400  ┆ 2023-05-18 ┆ … ┆ 14.1       ┆ -48       ┆ true      ┆ false     │\n",
       "│            ┆         ┆         ┆ 07:00:07   ┆   ┆            ┆           ┆           ┆           │\n",
       "│ 579742841  ┆ 9769366 ┆ 362240  ┆ 2023-05-18 ┆ … ┆ 1.0        ┆ -33       ┆ true      ┆ false     │\n",
       "│            ┆         ┆         ┆ 07:00:07   ┆   ┆            ┆           ┆           ┆           │\n",
       "└────────────┴─────────┴─────────┴────────────┴───┴────────────┴───────────┴───────────┴───────────┘"
      ]
     },
     "execution_count": 37,
     "metadata": {},
     "output_type": "execute_result"
    }
   ],
   "source": [
    "train_ds = train_ds.join(last_session_time_df, on='session_id', how='left').with_columns(\n",
    "    (pl.col('impression_time') - pl.col('last_session_time')).dt.total_hours().alias('last_session_time_hour_diff'),\n",
    "    ((pl.col('last_session_time') - pl.col('published_time')).dt.total_hours() > 0).alias('is_new_article'),\n",
    "    pl.col('all_seen_articles').list.contains(pl.col('article')).alias('is_already_seen_article'),\n",
    ").drop(['published_time', 'session_id', 'all_seen_articles', 'last_session_time'])\n",
    "\n",
    "gc.collect()\n",
    "PrintColor(f\"\\n\" + GetMemUsage(), color = Fore.RED)\n",
    "train_ds.head(2)"
   ]
  },
  {
   "cell_type": "code",
   "execution_count": 38,
   "id": "2ed7c9c5",
   "metadata": {
    "execution": {
     "iopub.execute_input": "2024-05-19T10:33:30.469819Z",
     "iopub.status.busy": "2024-05-19T10:33:30.469243Z",
     "iopub.status.idle": "2024-05-19T10:33:30.481040Z",
     "shell.execute_reply": "2024-05-19T10:33:30.479249Z"
    },
    "papermill": {
     "duration": 0.087131,
     "end_time": "2024-05-19T10:33:30.483553",
     "exception": false,
     "start_time": "2024-05-19T10:33:30.396422",
     "status": "completed"
    },
    "tags": []
   },
   "outputs": [
    {
     "data": {
      "text/html": [
       "<div><style>\n",
       ".dataframe > thead > tr,\n",
       ".dataframe > tbody > tr {\n",
       "  text-align: right;\n",
       "  white-space: pre-wrap;\n",
       "}\n",
       "</style>\n",
       "<small>shape: (1, 2)</small><table border=\"1\" class=\"dataframe\"><thead><tr><th>is_new_article</th><th>is_already_seen_article</th></tr><tr><td>f64</td><td>f64</td></tr></thead><tbody><tr><td>0.558133</td><td>0.024054</td></tr></tbody></table></div>"
      ],
      "text/plain": [
       "shape: (1, 2)\n",
       "┌────────────────┬─────────────────────────┐\n",
       "│ is_new_article ┆ is_already_seen_article │\n",
       "│ ---            ┆ ---                     │\n",
       "│ f64            ┆ f64                     │\n",
       "╞════════════════╪═════════════════════════╡\n",
       "│ 0.558133       ┆ 0.024054                │\n",
       "└────────────────┴─────────────────────────┘"
      ]
     },
     "execution_count": 38,
     "metadata": {},
     "output_type": "execute_result"
    }
   ],
   "source": [
    "train_ds.select(pl.col('is_new_article').sum() / train_ds.shape[0], pl.col('is_already_seen_article').sum() / train_ds.shape[0])"
   ]
  },
  {
   "cell_type": "code",
   "execution_count": 39,
   "id": "3204670f",
   "metadata": {
    "execution": {
     "iopub.execute_input": "2024-05-19T10:33:30.645844Z",
     "iopub.status.busy": "2024-05-19T10:33:30.645262Z",
     "iopub.status.idle": "2024-05-19T10:33:31.044140Z",
     "shell.execute_reply": "2024-05-19T10:33:31.042415Z"
    },
    "papermill": {
     "duration": 0.487759,
     "end_time": "2024-05-19T10:33:31.047147",
     "exception": false,
     "start_time": "2024-05-19T10:33:30.559388",
     "status": "completed"
    },
    "tags": []
   },
   "outputs": [
    {
     "data": {
      "text/plain": [
       "0"
      ]
     },
     "execution_count": 39,
     "metadata": {},
     "output_type": "execute_result"
    }
   ],
   "source": [
    "del last_history_df\n",
    "del last_session_time_df\n",
    "gc.collect()"
   ]
  },
  {
   "cell_type": "markdown",
   "id": "7b0e46a3",
   "metadata": {
    "papermill": {
     "duration": 0.071645,
     "end_time": "2024-05-19T10:33:31.194435",
     "exception": false,
     "start_time": "2024-05-19T10:33:31.122790",
     "status": "completed"
    },
    "tags": []
   },
   "source": [
    "## Popularities"
   ]
  },
  {
   "cell_type": "code",
   "execution_count": 40,
   "id": "7a247354",
   "metadata": {
    "execution": {
     "iopub.execute_input": "2024-05-19T10:33:31.350361Z",
     "iopub.status.busy": "2024-05-19T10:33:31.349602Z",
     "iopub.status.idle": "2024-05-19T10:33:33.738277Z",
     "shell.execute_reply": "2024-05-19T10:33:33.736965Z"
    },
    "papermill": {
     "duration": 2.469701,
     "end_time": "2024-05-19T10:33:33.741532",
     "exception": false,
     "start_time": "2024-05-19T10:33:31.271831",
     "status": "completed"
    },
    "tags": []
   },
   "outputs": [
    {
     "name": "stdout",
     "output_type": "stream",
     "text": [
      "Memory usage of dataframe is 701.62 MB\n",
      "Memory usage after optimization is: 649.53 MB\n",
      "Decreased by 7.4%\n",
      "\u001b[1m\u001b[31m\n",
      "RAM memory GB usage = 3.021\u001b[0m\n",
      "CPU times: user 1.94 s, sys: 660 ms, total: 2.6 s\n",
      "Wall time: 2.37 s\n"
     ]
    },
    {
     "data": {
      "text/html": [
       "<div><style>\n",
       ".dataframe > thead > tr,\n",
       ".dataframe > tbody > tr {\n",
       "  text-align: right;\n",
       "  white-space: pre-wrap;\n",
       "}\n",
       "</style>\n",
       "<small>shape: (2, 93)</small><table border=\"1\" class=\"dataframe\"><thead><tr><th>impression_id</th><th>article</th><th>user_id</th><th>impression_time</th><th>target</th><th>device_type</th><th>read_time</th><th>scroll_percentage</th><th>is_sso_user</th><th>gender</th><th>age</th><th>is_subscriber</th><th>postcode</th><th>trendiness_score_1d</th><th>trendiness_score_3d</th><th>trendiness_score_5d</th><th>trendiness_score_3d_leak</th><th>weekday</th><th>hour</th><th>trendiness_score_1d/3d</th><th>trendiness_score_1d/5d</th><th>normalized_trendiness_score_overall</th><th>premium</th><th>category</th><th>sentiment_score</th><th>sentiment_label</th><th>num_images</th><th>title_len</th><th>subtitle_len</th><th>body_len</th><th>num_topics</th><th>total_pageviews</th><th>total_inviews</th><th>total_read_time</th><th>total_pageviews/inviews</th><th>article_type</th><th>article_delay_days</th><th>&hellip;</th><th>window_0_history_length</th><th>window_1_history_length</th><th>window_2_history_length</th><th>window_3_history_length</th><th>is_inside_window_0</th><th>is_inside_window_1</th><th>is_inside_window_2</th><th>is_inside_window_3</th><th>window_category_score</th><th>window_topics_score</th><th>trendiness_score_category</th><th>endorsement_10h</th><th>normalized_endorsement_10h</th><th>endorsement_10h_diff_rolling</th><th>endorsement_macd</th><th>endorsement_quantile_norm_10h</th><th>normalized_endorsement_10h_rolling_max_ratio</th><th>endorsement_20h_articleuser</th><th>normalized_endorsement_articleuser_20h</th><th>endorsement_20h_articleuser_diff_rolling</th><th>endorsement_articleuser_macd</th><th>endorsement_articleuser_quantile_norm_20h</th><th>normalized_endorsement_articleuser_20h_rolling_max_ratio</th><th>endorsement_10h_leak</th><th>normalized_endorsement_10h_right</th><th>endorsement_10h_leak_diff_rolling</th><th>endorsement_leak_macd</th><th>endorsement_quantile_norm_10h_leak</th><th>normalized_endorsement_10h_leak_rolling_max_ratio</th><th>clicked_count</th><th>inview_count</th><th>last_session_duration</th><th>mean_prev_sessions_duration</th><th>last_session_time_hour_diff</th><th>is_new_article</th><th>is_already_seen_article</th><th>yesterday_category_daily_pct</th></tr><tr><td>u32</td><td>i32</td><td>u32</td><td>date</td><td>i8</td><td>i8</td><td>f32</td><td>f32</td><td>bool</td><td>i8</td><td>i8</td><td>bool</td><td>i8</td><td>i16</td><td>i16</td><td>i16</td><td>i16</td><td>i8</td><td>i8</td><td>f32</td><td>f32</td><td>f32</td><td>bool</td><td>i16</td><td>f32</td><td>str</td><td>u32</td><td>u8</td><td>u8</td><td>u16</td><td>u32</td><td>i32</td><td>i32</td><td>f32</td><td>f32</td><td>str</td><td>i16</td><td>&hellip;</td><td>i16</td><td>i16</td><td>i16</td><td>i16</td><td>i8</td><td>i8</td><td>i8</td><td>i8</td><td>i16</td><td>i16</td><td>i8</td><td>u16</td><td>f32</td><td>f32</td><td>f32</td><td>f32</td><td>f32</td><td>u8</td><td>f32</td><td>f32</td><td>f32</td><td>f32</td><td>f32</td><td>i16</td><td>f32</td><td>f32</td><td>f32</td><td>f32</td><td>f32</td><td>u32</td><td>u16</td><td>i8</td><td>f32</td><td>i16</td><td>bool</td><td>bool</td><td>f32</td></tr></thead><tbody><tr><td>372697938</td><td>9506514</td><td>904400</td><td>2023-05-17</td><td>0</td><td>1</td><td>25.0</td><td>null</td><td>false</td><td>2</td><td>null</td><td>false</td><td>5</td><td>30</td><td>93</td><td>133</td><td>83</td><td>4</td><td>7</td><td>0.322581</td><td>0.225564</td><td>0.180583</td><td>true</td><td>414</td><td>0.9117</td><td>&quot;Neutral&quot;</td><td>21</td><td>5</td><td>23</td><td>843</td><td>4</td><td>null</td><td>null</td><td>null</td><td>null</td><td>&quot;article_standard_feature&quot;</td><td>189</td><td>&hellip;</td><td>562</td><td>0</td><td>0</td><td>42</td><td>1</td><td>0</td><td>0</td><td>0</td><td>112</td><td>222</td><td>49</td><td>1</td><td>0.002994</td><td>0.0</td><td>0.0</td><td>0.142857</td><td>0.333333</td><td>1</td><td>0.111111</td><td>0.0</td><td>0.0</td><td>1.0</td><td>1.0</td><td>376</td><td>0.00364</td><td>8.1</td><td>4.9</td><td>0.208889</td><td>0.208889</td><td>14</td><td>675</td><td>8</td><td>14.1</td><td>-48</td><td>true</td><td>false</td><td>0.134921</td></tr><tr><td>579742841</td><td>9769366</td><td>362240</td><td>2023-05-17</td><td>0</td><td>1</td><td>88.0</td><td>null</td><td>false</td><td>2</td><td>null</td><td>false</td><td>5</td><td>83</td><td>257</td><td>344</td><td>165</td><td>4</td><td>7</td><td>0.322957</td><td>0.241279</td><td>0.499029</td><td>false</td><td>118</td><td>0.9931</td><td>&quot;Negative&quot;</td><td>1</td><td>4</td><td>13</td><td>224</td><td>7</td><td>147676</td><td>586129</td><td>5.110444e6</td><td>0.251951</td><td>&quot;article_default&quot;</td><td>0</td><td>&hellip;</td><td>15</td><td>0</td><td>0</td><td>0</td><td>1</td><td>0</td><td>0</td><td>0</td><td>4</td><td>11</td><td>96</td><td>1</td><td>0.002994</td><td>0.0</td><td>0.0</td><td>0.142857</td><td>0.125</td><td>1</td><td>0.030303</td><td>0.0</td><td>0.0</td><td>1.0</td><td>1.0</td><td>537</td><td>0.004671</td><td>6.9</td><td>4.1</td><td>0.328641</td><td>0.245654</td><td>2148</td><td>951</td><td>1</td><td>1.0</td><td>-33</td><td>true</td><td>false</td><td>0.222222</td></tr></tbody></table></div>"
      ],
      "text/plain": [
       "shape: (2, 93)\n",
       "┌────────────┬─────────┬─────────┬────────────┬───┬────────────┬───────────┬───────────┬───────────┐\n",
       "│ impression ┆ article ┆ user_id ┆ impression ┆ … ┆ last_sessi ┆ is_new_ar ┆ is_alread ┆ yesterday │\n",
       "│ _id        ┆ ---     ┆ ---     ┆ _time      ┆   ┆ on_time_ho ┆ ticle     ┆ y_seen_ar ┆ _category │\n",
       "│ ---        ┆ i32     ┆ u32     ┆ ---        ┆   ┆ ur_diff    ┆ ---       ┆ ticle     ┆ _daily_pc │\n",
       "│ u32        ┆         ┆         ┆ date       ┆   ┆ ---        ┆ bool      ┆ ---       ┆ t         │\n",
       "│            ┆         ┆         ┆            ┆   ┆ i16        ┆           ┆ bool      ┆ ---       │\n",
       "│            ┆         ┆         ┆            ┆   ┆            ┆           ┆           ┆ f32       │\n",
       "╞════════════╪═════════╪═════════╪════════════╪═══╪════════════╪═══════════╪═══════════╪═══════════╡\n",
       "│ 372697938  ┆ 9506514 ┆ 904400  ┆ 2023-05-17 ┆ … ┆ -48        ┆ true      ┆ false     ┆ 0.134921  │\n",
       "│ 579742841  ┆ 9769366 ┆ 362240  ┆ 2023-05-17 ┆ … ┆ -33        ┆ true      ┆ false     ┆ 0.222222  │\n",
       "└────────────┴─────────┴─────────┴────────────┴───┴────────────┴───────────┴───────────┴───────────┘"
      ]
     },
     "execution_count": 40,
     "metadata": {},
     "output_type": "execute_result"
    }
   ],
   "source": [
    "%%time\n",
    "\n",
    "articles_date_popularity = articles.select(['published_time', 'article_id']) \\\n",
    "    .group_by(pl.col('published_time').dt.date().alias('published_date')) \\\n",
    "    .agg(pl.col('article_id').count().alias('daily_articles')) \\\n",
    "\n",
    "published_category_popularity = articles.select(['published_time', 'article_id', 'category']) \\\n",
    "    .group_by([pl.col('published_time').dt.date().alias('published_date'), 'category']) \\\n",
    "    .agg(pl.col('article_id').count().alias('category_daily_articles')) \\\n",
    "    .join(articles_date_popularity, on='published_date', how='left') \\\n",
    "    .with_columns((pl.col('category_daily_articles') / pl.col('daily_articles')).alias('category_daily_pct')) \\\n",
    "    .drop(['category_daily_articles', 'daily_articles'])\n",
    "\n",
    "train_ds = train_ds.join(published_category_popularity, how='left', right_on=['published_date', 'category'],\n",
    "                         left_on=[pl.col('impression_time').dt.date() - pl.duration(days=1), 'category']) \\\n",
    "    .rename({'category_daily_pct': 'yesterday_category_daily_pct'}) \\\n",
    "    .with_columns(pl.col('yesterday_category_daily_pct').fill_null(0))\n",
    "train_ds = reduce_polars_df_memory_size(train_ds)\n",
    "\n",
    "gc.collect()\n",
    "PrintColor(f\"\\n\" + GetMemUsage(), color = Fore.RED)\n",
    "train_ds.head(2)"
   ]
  },
  {
   "cell_type": "markdown",
   "id": "86861536",
   "metadata": {
    "papermill": {
     "duration": 0.080567,
     "end_time": "2024-05-19T10:33:33.899489",
     "exception": false,
     "start_time": "2024-05-19T10:33:33.818922",
     "status": "completed"
    },
    "tags": []
   },
   "source": [
    "# Adding history features"
   ]
  },
  {
   "cell_type": "code",
   "execution_count": 41,
   "id": "882deea3",
   "metadata": {
    "execution": {
     "iopub.execute_input": "2024-05-19T10:33:34.059400Z",
     "iopub.status.busy": "2024-05-19T10:33:34.058665Z",
     "iopub.status.idle": "2024-05-19T11:12:58.787373Z",
     "shell.execute_reply": "2024-05-19T11:12:58.786082Z"
    },
    "papermill": {
     "duration": 2364.815527,
     "end_time": "2024-05-19T11:12:58.790142",
     "exception": false,
     "start_time": "2024-05-19T10:33:33.974615",
     "status": "completed"
    },
    "scrolled": true,
    "tags": []
   },
   "outputs": [
    {
     "name": "stderr",
     "output_type": "stream",
     "text": [
      "259it [39:19,  9.11s/it]\n"
     ]
    },
    {
     "name": "stdout",
     "output_type": "stream",
     "text": [
      "Memory usage of dataframe is 1700.14 MB\n",
      "Memory usage after optimization is: 1317.92 MB\n",
      "Decreased by 22.5%\n",
      "\u001b[1m\u001b[31m\n",
      "RAM memory GB usage = 5.015\u001b[0m\n"
     ]
    },
    {
     "data": {
      "text/html": [
       "<div><style>\n",
       ".dataframe > thead > tr,\n",
       ".dataframe > tbody > tr {\n",
       "  text-align: right;\n",
       "  white-space: pre-wrap;\n",
       "}\n",
       "</style>\n",
       "<small>shape: (2, 165)</small><table border=\"1\" class=\"dataframe\"><thead><tr><th>impression_id</th><th>article</th><th>user_id</th><th>target</th><th>device_type</th><th>read_time</th><th>scroll_percentage</th><th>is_sso_user</th><th>gender</th><th>age</th><th>is_subscriber</th><th>postcode</th><th>trendiness_score_1d</th><th>trendiness_score_3d</th><th>trendiness_score_5d</th><th>trendiness_score_3d_leak</th><th>weekday</th><th>hour</th><th>trendiness_score_1d/3d</th><th>trendiness_score_1d/5d</th><th>normalized_trendiness_score_overall</th><th>premium</th><th>category</th><th>sentiment_score</th><th>sentiment_label</th><th>num_images</th><th>title_len</th><th>subtitle_len</th><th>body_len</th><th>num_topics</th><th>total_pageviews</th><th>total_inviews</th><th>total_read_time</th><th>total_pageviews/inviews</th><th>article_type</th><th>article_delay_days</th><th>article_delay_hours</th><th>&hellip;</th><th>MostFrequentWeekday</th><th>MostFrequentHour</th><th>PRODPct</th><th>LOCPct</th><th>MISCPct</th><th>ORGPct</th><th>PERPct</th><th>EVENTPct</th><th>topics_cosine</th><th>IsFavouriteCategory</th><th>NumberDifferentCategories</th><th>PctCategoryMatches</th><th>Category_underholdning_Pct</th><th>Category_penge_Pct</th><th>Category_bibliotek_Pct</th><th>Category_side9_Pct</th><th>Category_ferie_Pct</th><th>Category_krimi_Pct</th><th>Category_horoskoper_Pct</th><th>Category_musik_Pct</th><th>Category_podcast_Pct</th><th>Category_forbrug_Pct</th><th>Category_dagsorden_Pct</th><th>Category_haandvaerkeren_Pct</th><th>Category_plus_Pct</th><th>Category_auto_Pct</th><th>Category_vin_Pct</th><th>Category_services_Pct</th><th>Category_incoming_Pct</th><th>Category_sport_Pct</th><th>Category_om_ekstra_bladet_Pct</th><th>Category_opinionen_Pct</th><th>Category_biler_Pct</th><th>Category_nyheder_Pct</th><th>Category_sex_og_samliv_Pct</th><th>Category_nationen_Pct</th><th>Category_video_Pct</th></tr><tr><td>u32</td><td>i32</td><td>u32</td><td>i8</td><td>i8</td><td>f32</td><td>f32</td><td>bool</td><td>i8</td><td>i8</td><td>bool</td><td>i8</td><td>i16</td><td>i16</td><td>i16</td><td>i16</td><td>i8</td><td>i8</td><td>f32</td><td>f32</td><td>f32</td><td>bool</td><td>i16</td><td>f32</td><td>str</td><td>u32</td><td>u8</td><td>u8</td><td>u16</td><td>u32</td><td>i32</td><td>i32</td><td>f32</td><td>f32</td><td>str</td><td>i16</td><td>i32</td><td>&hellip;</td><td>i8</td><td>i8</td><td>f32</td><td>f32</td><td>f32</td><td>f32</td><td>f32</td><td>f32</td><td>f32</td><td>bool</td><td>u8</td><td>f32</td><td>f32</td><td>f32</td><td>f32</td><td>f32</td><td>f32</td><td>f32</td><td>f32</td><td>f32</td><td>f32</td><td>f32</td><td>f32</td><td>f32</td><td>f32</td><td>f32</td><td>f32</td><td>f32</td><td>f32</td><td>f32</td><td>f32</td><td>f32</td><td>f32</td><td>f32</td><td>f32</td><td>f32</td><td>f32</td></tr></thead><tbody><tr><td>318697350</td><td>9727087</td><td>2338672</td><td>0</td><td>2</td><td>10.0</td><td>null</td><td>false</td><td>2</td><td>null</td><td>false</td><td>5</td><td>77</td><td>217</td><td>385</td><td>129</td><td>4</td><td>7</td><td>0.354839</td><td>0.2</td><td>0.421359</td><td>true</td><td>118</td><td>0.6239</td><td>&quot;Neutral&quot;</td><td>5</td><td>7</td><td>29</td><td>721</td><td>5</td><td>81411</td><td>1139178</td><td>4.614807e6</td><td>0.071465</td><td>&quot;article_default&quot;</td><td>23</td><td>573</td><td>&hellip;</td><td>4</td><td>21</td><td>0.251471</td><td>0.819118</td><td>0.267647</td><td>0.925</td><td>0.898529</td><td>0.251471</td><td>0.255225</td><td>true</td><td>9</td><td>0.988235</td><td>0.095588</td><td>0.014706</td><td>0.0</td><td>0.0</td><td>0.0</td><td>0.107353</td><td>0.0</td><td>0.026471</td><td>0.0</td><td>0.017647</td><td>0.0</td><td>0.0</td><td>0.0</td><td>0.0</td><td>0.0</td><td>0.0</td><td>0.0</td><td>0.232353</td><td>0.0</td><td>0.0</td><td>0.0</td><td>0.439706</td><td>0.001471</td><td>0.064706</td><td>0.0</td></tr><tr><td>509515372</td><td>9767697</td><td>2387011</td><td>0</td><td>1</td><td>22.0</td><td>null</td><td>false</td><td>2</td><td>null</td><td>false</td><td>5</td><td>50</td><td>187</td><td>238</td><td>116</td><td>4</td><td>7</td><td>0.26738</td><td>0.210084</td><td>0.363107</td><td>false</td><td>118</td><td>0.9613</td><td>&quot;Negative&quot;</td><td>5</td><td>7</td><td>2</td><td>982</td><td>3</td><td>199205</td><td>954408</td><td>2.595362e7</td><td>0.208721</td><td>&quot;article_default&quot;</td><td>0</td><td>0</td><td>&hellip;</td><td>3</td><td>6</td><td>0.320285</td><td>0.77758</td><td>0.190391</td><td>0.923488</td><td>0.884342</td><td>0.209964</td><td>0.417714</td><td>true</td><td>9</td><td>0.985765</td><td>0.209964</td><td>0.012456</td><td>0.0</td><td>0.0</td><td>0.0</td><td>0.161922</td><td>0.0</td><td>0.012456</td><td>0.0</td><td>0.02669</td><td>0.0</td><td>0.0</td><td>0.0</td><td>0.0</td><td>0.0</td><td>0.0</td><td>0.0</td><td>0.128114</td><td>0.0</td><td>0.0</td><td>0.001779</td><td>0.41637</td><td>0.0</td><td>0.030249</td><td>0.0</td></tr></tbody></table></div>"
      ],
      "text/plain": [
       "shape: (2, 165)\n",
       "┌─────────────┬─────────┬─────────┬────────┬───┬────────────┬────────────┬────────────┬────────────┐\n",
       "│ impression_ ┆ article ┆ user_id ┆ target ┆ … ┆ Category_n ┆ Category_s ┆ Category_n ┆ Category_v │\n",
       "│ id          ┆ ---     ┆ ---     ┆ ---    ┆   ┆ yheder_Pct ┆ ex_og_saml ┆ ationen_Pc ┆ ideo_Pct   │\n",
       "│ ---         ┆ i32     ┆ u32     ┆ i8     ┆   ┆ ---        ┆ iv_Pct     ┆ t          ┆ ---        │\n",
       "│ u32         ┆         ┆         ┆        ┆   ┆ f32        ┆ ---        ┆ ---        ┆ f32        │\n",
       "│             ┆         ┆         ┆        ┆   ┆            ┆ f32        ┆ f32        ┆            │\n",
       "╞═════════════╪═════════╪═════════╪════════╪═══╪════════════╪════════════╪════════════╪════════════╡\n",
       "│ 318697350   ┆ 9727087 ┆ 2338672 ┆ 0      ┆ … ┆ 0.439706   ┆ 0.001471   ┆ 0.064706   ┆ 0.0        │\n",
       "│ 509515372   ┆ 9767697 ┆ 2387011 ┆ 0      ┆ … ┆ 0.41637    ┆ 0.0        ┆ 0.030249   ┆ 0.0        │\n",
       "└─────────────┴─────────┴─────────┴────────┴───┴────────────┴────────────┴────────────┴────────────┘"
      ]
     },
     "execution_count": 41,
     "metadata": {},
     "output_type": "execute_result"
    }
   ],
   "source": [
    "def list_pct_matches_with_col(a, b) -> pl.Expr:\n",
    "    '''\n",
    "    Returns an expression to count the percentage of matching element in a list with another column.\n",
    "    The polars function count_matches cannot be used since it wants only a single element, \n",
    "    variable element from row to row.\n",
    "    '''\n",
    "    return pl.when(pl.col(a).list.len() == 0).then(0.0) \\\n",
    "        .otherwise((pl.col(a).list.len() - (pl.col(a).list.set_difference(pl.col(b))).list.len()) / pl.col(a).list.len())\n",
    "\n",
    "\n",
    "def list_pct_matches_with_constant(a, value) -> pl.Expr:\n",
    "    '''\n",
    "    Returns an expression to count the percentage of matching element in a list with a constant value.\n",
    "    The polars function count_matches cannot be used since it wants only a single element, \n",
    "    variable element from row to row.\n",
    "    '''\n",
    "    return pl.when(pl.col(a).list.len() == 0).then(0.0) \\\n",
    "        .otherwise(pl.col(a).list.count_matches(value) / pl.col(a).list.len())\n",
    "\n",
    "\n",
    "def cosine_similarity(x, y):\n",
    "    x = np.array(x)\n",
    "    y = np.array(y)\n",
    "    normalization = np.linalg.norm(x, 2) * np.linalg.norm(y, 2)\n",
    "    return np.dot(x, y) / normalization if normalization > 0 else 0\n",
    "\n",
    "\n",
    "prev_train_columns = [c for c in train_ds.columns if c not in ['impression_id', 'article', 'impression_time']]\n",
    "\n",
    "train_ds = pl.concat(\n",
    "    rows.join(history_train.select(['user_id', 'article_id_fixed', 'impression_time_fixed']), on='user_id', how='left') \\\n",
    "        .join(articles.select(['article_id', 'topics', 'entity_groups', 'topics_idf'] + topic_model_columns), \n",
    "              left_on='article', right_on='article_id', how='left') \\\n",
    "        .explode(['article_id_fixed', 'impression_time_fixed']) \\\n",
    "        .join(articles.select(['article_id', 'topics', 'entity_groups'] + topic_model_columns), \n",
    "              left_on='article_id_fixed', right_on='article_id', how='left') \\\n",
    "        .rename({'topics_right': 'topics_history', 'entity_groups_right': 'entity_groups_history'}) \\\n",
    "        .rename({f'topic_model_embedding_{i}_right': f'topic_model_embedding_{i}_history' for i in range(N_COMPONENTS)}) \\\n",
    "        .with_columns(\n",
    "            # 1/delay gives the weight for the weighted mean of the lda embeddings\n",
    "            (1 / (pl.col('impression_time') - pl.col('impression_time_fixed')).dt.total_hours().sqrt()).alias('history_weight'),\n",
    "            (pl.col(\"topics\").list.set_intersection(pl.col(\"topics_history\")).list.len().truediv(\n",
    "                pl.col(\"topics\").list.set_union(pl.col(\"topics_history\")).list.len()\n",
    "            )).alias(\"JS\"),\n",
    "            pl.col('entity_groups').list.set_intersection(pl.col('entity_groups_history')).list.len().alias('common_entities'),\n",
    "        ).drop(['entity_groups_history', 'entity_groups', 'topics', 'topics_history']) \\\n",
    "        .with_columns(\n",
    "            # summing delays to normalize them before weighted mean\n",
    "            pl.col('history_weight').sum().over(['impression_id', 'article']).alias('history_weight_sum'),\n",
    "            *[pl.col(x).mul(pl.col(f'{x}_history')).alias(f'{x}_dot') for x in topic_model_columns],\n",
    "            *[pl.col(x).mul(pl.col(x)) for x in topic_model_columns],\n",
    "            *[pl.col(f'{x}_history').mul(pl.col(f'{x}_history')).alias(f'{x}_history_square') for x in topic_model_columns],\n",
    "        ).with_columns(\n",
    "            # weights now sum to 1\n",
    "            pl.col('history_weight').truediv(pl.col('history_weight_sum')),\n",
    "            pl.sum_horizontal(topic_model_columns).sqrt().alias('topic_model_norm'),\n",
    "            pl.sum_horizontal([f'{x}_history_square' for x in topic_model_columns]).sqrt().alias('topic_model_history_norm'),\n",
    "            pl.sum_horizontal([f'{x}_dot' for x in topic_model_columns]).alias('topic_model_dot'),\n",
    "        ).with_columns(\n",
    "            *[pl.col(f'{x}_history').mul(pl.col('history_weight')).alias(f'{x}_history_weighted') for i, x in enumerate(topic_model_columns)],\n",
    "            pl.col('topic_model_dot').truediv(pl.col('topic_model_norm').mul('topic_model_history_norm')).alias('topic_model_cosine')\n",
    "        ).group_by(['impression_id', 'article']).agg(\n",
    "            pl.col(prev_train_columns).first(),\n",
    "            pl.col('topics_idf').first(),\n",
    "            pl.col('common_entities').mean().alias('MeanCommonEntities'),\n",
    "            pl.col('common_entities').max().alias('MaxCommonEntities'),\n",
    "            pl.col(\"JS\").mean().alias(\"mean_JS\"),\n",
    "            pl.col(\"JS\").min().alias(\"min_JS\"),\n",
    "            pl.col(\"JS\").max().alias(\"max_JS\"),\n",
    "            pl.col(\"JS\").std().alias(\"std_JS\"),\n",
    "            pl.col(\"JS\").mul(pl.col(\"history_weight\")).sum().alias(\"weighted_mean_JS\"),\n",
    "            pl.col(\"topic_model_cosine\").mean().alias(\"mean_topic_model_cosine\"),\n",
    "            pl.col(\"topic_model_cosine\").min().alias(\"min_topic_model_cosine\"),\n",
    "            pl.col(\"topic_model_cosine\").max().alias(\"max_topic_model_cosine\"),\n",
    "            pl.col(\"topic_model_cosine\").std().alias(\"std_topic_model_cosine\"),\n",
    "            pl.col(\"topic_model_cosine\").mul(pl.col(\"history_weight\")).sum().alias(\"weighted_mean_topic_model_cosine\"),\n",
    "            *[pl.col(f'{x}_history').mean().alias(f'lda_{i}_history_mean') for i, x in enumerate(topic_model_columns)],\n",
    "            *[pl.col(f'{x}_history_weighted').sum().alias(f'lda_{i}_history_weighted_mean') for i, x in enumerate(topic_model_columns)]\n",
    "        ).join(history_train.drop(['article_id_fixed', 'impression_time_fixed']), on='user_id', how='left') \\\n",
    "        .with_columns(\n",
    "            pl.struct(['topics_idf', 'topics_flatten_tf_idf']).map_elements(\n",
    "                lambda x: cosine_similarity(x['topics_idf'], x['topics_flatten_tf_idf']), return_dtype=pl.Float64\n",
    "            ).cast(pl.Float32).alias('topics_cosine'),\n",
    "            (pl.col('category') == pl.col('MostFrequentCategory')).alias('IsFavouriteCategory'),\n",
    "            pl.col('category_right').list.n_unique().alias('NumberDifferentCategories'),\n",
    "            list_pct_matches_with_col('category_right', 'category').alias('PctCategoryMatches'),\n",
    "        ).with_columns(\n",
    "            [list_pct_matches_with_constant('category_right', c).alias(f'Category_{c_str}_Pct')\n",
    "             for c, c_str in unique_categories.items()]\n",
    "        ).drop(['topics_idf', 'topics_flatten', 'topics_flatten_tf_idf', 'category_right'])\n",
    "    for rows in tqdm.tqdm(train_ds.iter_slices(10000), total=train_ds.shape[0] // 10000)\n",
    ")\n",
    "train_ds = reduce_polars_df_memory_size(train_ds)\n",
    "\n",
    "PrintColor(f\"\\n\" + GetMemUsage(), color = Fore.RED)\n",
    "train_ds.head(2)"
   ]
  },
  {
   "cell_type": "code",
   "execution_count": 42,
   "id": "c1329cd7",
   "metadata": {
    "execution": {
     "iopub.execute_input": "2024-05-19T11:12:58.962803Z",
     "iopub.status.busy": "2024-05-19T11:12:58.962351Z",
     "iopub.status.idle": "2024-05-19T11:14:18.228183Z",
     "shell.execute_reply": "2024-05-19T11:14:18.226859Z"
    },
    "papermill": {
     "duration": 79.355467,
     "end_time": "2024-05-19T11:14:18.230879",
     "exception": false,
     "start_time": "2024-05-19T11:12:58.875412",
     "status": "completed"
    },
    "tags": []
   },
   "outputs": [
    {
     "name": "stderr",
     "output_type": "stream",
     "text": [
      "  0%|          | 0/12 [00:00<?, ?it/s]"
     ]
    },
    {
     "name": "stdout",
     "output_type": "stream",
     "text": [
      "Memory usage of dataframe is 1595.65 MB\n"
     ]
    },
    {
     "name": "stderr",
     "output_type": "stream",
     "text": [
      "  8%|▊         | 1/12 [00:07<01:17,  7.07s/it]"
     ]
    },
    {
     "name": "stdout",
     "output_type": "stream",
     "text": [
      "Memory usage after optimization is: 1487.15 MB\n",
      "Decreased by 6.8%\n",
      "Memory usage of dataframe is 1517.05 MB\n"
     ]
    },
    {
     "name": "stderr",
     "output_type": "stream",
     "text": [
      " 17%|█▋        | 2/12 [00:10<00:51,  5.15s/it]"
     ]
    },
    {
     "name": "stdout",
     "output_type": "stream",
     "text": [
      "Memory usage after optimization is: 1503.06 MB\n",
      "Decreased by 0.9%\n",
      "Memory usage of dataframe is 1652.56 MB\n"
     ]
    },
    {
     "name": "stderr",
     "output_type": "stream",
     "text": [
      " 25%|██▌       | 3/12 [00:21<01:08,  7.66s/it]"
     ]
    },
    {
     "name": "stdout",
     "output_type": "stream",
     "text": [
      "Memory usage after optimization is: 1578.58 MB\n",
      "Decreased by 4.5%\n",
      "Memory usage of dataframe is 1856.31 MB\n"
     ]
    },
    {
     "name": "stderr",
     "output_type": "stream",
     "text": [
      " 33%|███▎      | 4/12 [00:24<00:47,  5.92s/it]"
     ]
    },
    {
     "name": "stdout",
     "output_type": "stream",
     "text": [
      "Memory usage after optimization is: 1747.81 MB\n",
      "Decreased by 5.8%\n",
      "Memory usage of dataframe is 2084.72 MB\n"
     ]
    },
    {
     "name": "stderr",
     "output_type": "stream",
     "text": [
      " 42%|████▏     | 5/12 [00:37<00:59,  8.46s/it]"
     ]
    },
    {
     "name": "stdout",
     "output_type": "stream",
     "text": [
      "Memory usage after optimization is: 1917.03 MB\n",
      "Decreased by 8.0%\n",
      "Memory usage of dataframe is 2253.94 MB\n"
     ]
    },
    {
     "name": "stderr",
     "output_type": "stream",
     "text": [
      " 50%|█████     | 6/12 [00:50<00:59,  9.86s/it]"
     ]
    },
    {
     "name": "stdout",
     "output_type": "stream",
     "text": [
      "Memory usage after optimization is: 2086.26 MB\n",
      "Decreased by 7.4%\n",
      "Memory usage of dataframe is 2362.45 MB\n"
     ]
    },
    {
     "name": "stderr",
     "output_type": "stream",
     "text": [
      " 58%|█████▊    | 7/12 [01:01<00:50, 10.19s/it]"
     ]
    },
    {
     "name": "stdout",
     "output_type": "stream",
     "text": [
      "Memory usage after optimization is: 2253.94 MB\n",
      "Decreased by 4.6%\n",
      "Memory usage of dataframe is 2531.67 MB\n"
     ]
    },
    {
     "name": "stderr",
     "output_type": "stream",
     "text": [
      " 67%|██████▋   | 8/12 [01:07<00:36,  9.05s/it]"
     ]
    },
    {
     "name": "stdout",
     "output_type": "stream",
     "text": [
      "Memory usage after optimization is: 2423.17 MB\n",
      "Decreased by 4.3%\n",
      "Memory usage of dataframe is 2462.63 MB\n"
     ]
    },
    {
     "name": "stderr",
     "output_type": "stream",
     "text": [
      " 75%|███████▌  | 9/12 [01:10<00:21,  7.06s/it]"
     ]
    },
    {
     "name": "stdout",
     "output_type": "stream",
     "text": [
      "Memory usage after optimization is: 2462.63 MB\n",
      "Decreased by 0.0%\n",
      "Memory usage of dataframe is 2521.81 MB\n"
     ]
    },
    {
     "name": "stderr",
     "output_type": "stream",
     "text": [
      " 83%|████████▎ | 10/12 [01:13<00:11,  5.68s/it]"
     ]
    },
    {
     "name": "stdout",
     "output_type": "stream",
     "text": [
      "Memory usage after optimization is: 2511.95 MB\n",
      "Decreased by 0.4%\n",
      "Memory usage of dataframe is 2541.54 MB\n"
     ]
    },
    {
     "name": "stderr",
     "output_type": "stream",
     "text": [
      " 92%|█████████▏| 11/12 [01:16<00:04,  4.89s/it]"
     ]
    },
    {
     "name": "stdout",
     "output_type": "stream",
     "text": [
      "Memory usage after optimization is: 2519.34 MB\n",
      "Decreased by 0.9%\n",
      "Memory usage of dataframe is 2539.07 MB\n"
     ]
    },
    {
     "name": "stderr",
     "output_type": "stream",
     "text": [
      "100%|██████████| 12/12 [01:19<00:00,  6.60s/it]"
     ]
    },
    {
     "name": "stdout",
     "output_type": "stream",
     "text": [
      "Memory usage after optimization is: 2529.21 MB\n",
      "Decreased by 0.4%\n",
      "\u001b[1m\u001b[31m\n",
      "RAM memory GB usage = 5.316\u001b[0m\n"
     ]
    },
    {
     "name": "stderr",
     "output_type": "stream",
     "text": [
      "\n"
     ]
    },
    {
     "data": {
      "text/html": [
       "<div><style>\n",
       ".dataframe > thead > tr,\n",
       ".dataframe > tbody > tr {\n",
       "  text-align: right;\n",
       "  white-space: pre-wrap;\n",
       "}\n",
       "</style>\n",
       "<small>shape: (2, 298)</small><table border=\"1\" class=\"dataframe\"><thead><tr><th>impression_id</th><th>article</th><th>user_id</th><th>target</th><th>device_type</th><th>read_time</th><th>scroll_percentage</th><th>is_sso_user</th><th>gender</th><th>age</th><th>is_subscriber</th><th>postcode</th><th>trendiness_score_1d</th><th>trendiness_score_3d</th><th>trendiness_score_5d</th><th>trendiness_score_3d_leak</th><th>weekday</th><th>hour</th><th>trendiness_score_1d/3d</th><th>trendiness_score_1d/5d</th><th>normalized_trendiness_score_overall</th><th>premium</th><th>category</th><th>sentiment_score</th><th>sentiment_label</th><th>num_images</th><th>title_len</th><th>subtitle_len</th><th>body_len</th><th>num_topics</th><th>total_pageviews</th><th>total_inviews</th><th>total_read_time</th><th>total_pageviews/inviews</th><th>article_type</th><th>article_delay_days</th><th>article_delay_hours</th><th>&hellip;</th><th>entropy_impression_trendiness_score_category</th><th>entropy_impression_std_JS</th><th>entropy_impression_total_read_time</th><th>entropy_impression_endorsement_10h_leak</th><th>entropy_impression_trendiness_score_3d_leak</th><th>entropy_impression_clicked_count</th><th>entropy_impression_inview_count</th><th>trendiness_score_3d_minus_median_impression</th><th>trendiness_score_5d_minus_median_impression</th><th>endorsement_10h_minus_median_impression</th><th>total_pageviews/inviews_minus_median_impression</th><th>mean_JS_minus_median_impression</th><th>mean_topic_model_cosine_minus_median_impression</th><th>topics_cosine_minus_median_impression</th><th>article_delay_hours_minus_median_impression</th><th>total_pageviews_minus_median_impression</th><th>total_inviews_minus_median_impression</th><th>trendiness_score_category_minus_median_impression</th><th>std_JS_minus_median_impression</th><th>total_read_time_minus_median_impression</th><th>endorsement_10h_leak_minus_median_impression</th><th>trendiness_score_3d_leak_minus_median_impression</th><th>clicked_count_minus_median_impression</th><th>inview_count_minus_median_impression</th><th>mean_JS_l_inf_user</th><th>std_JS_l_inf_user</th><th>mean_topic_model_cosine_l_inf_user</th><th>topics_cosine_l_inf_user</th><th>article_delay_hours_l_inf_article</th><th>mean_JS_l_inf_article</th><th>std_JS_l_inf_article</th><th>mean_topic_model_cosine_l_inf_article</th><th>topics_cosine_l_inf_article</th><th>category_diversity_impression</th><th>sentiment_label_diversity_impression</th><th>article_type_diversity_impression</th><th>endorsement_20h_articleuser_l_inf_article_user</th></tr><tr><td>u32</td><td>i32</td><td>u32</td><td>i8</td><td>i8</td><td>f32</td><td>f32</td><td>bool</td><td>i8</td><td>i8</td><td>bool</td><td>i8</td><td>i16</td><td>i16</td><td>i16</td><td>i16</td><td>i8</td><td>i8</td><td>f32</td><td>f32</td><td>f32</td><td>bool</td><td>i16</td><td>f32</td><td>str</td><td>u32</td><td>u8</td><td>u8</td><td>u16</td><td>u32</td><td>i32</td><td>i32</td><td>f32</td><td>f32</td><td>str</td><td>i16</td><td>i32</td><td>&hellip;</td><td>f32</td><td>f32</td><td>f32</td><td>f32</td><td>f32</td><td>f32</td><td>f32</td><td>f32</td><td>f32</td><td>f32</td><td>f32</td><td>f32</td><td>f32</td><td>f32</td><td>f32</td><td>f32</td><td>f32</td><td>f32</td><td>f32</td><td>f32</td><td>f32</td><td>f32</td><td>f32</td><td>f32</td><td>f32</td><td>f32</td><td>f32</td><td>f32</td><td>f32</td><td>f32</td><td>f32</td><td>f32</td><td>f32</td><td>u8</td><td>u8</td><td>u8</td><td>f32</td></tr></thead><tbody><tr><td>318697350</td><td>9727087</td><td>2338672</td><td>0</td><td>2</td><td>10.0</td><td>null</td><td>false</td><td>2</td><td>null</td><td>false</td><td>5</td><td>77</td><td>217</td><td>385</td><td>129</td><td>4</td><td>7</td><td>0.354839</td><td>0.2</td><td>0.421359</td><td>true</td><td>118</td><td>0.6239</td><td>&quot;Neutral&quot;</td><td>5</td><td>7</td><td>29</td><td>721</td><td>5</td><td>81411</td><td>1139178</td><td>4.614807e6</td><td>0.071465</td><td>&quot;article_default&quot;</td><td>23</td><td>573</td><td>&hellip;</td><td>1.764362</td><td>1.685694</td><td>1.430453</td><td>1.769418</td><td>1.754835</td><td>1.42663</td><td>1.706783</td><td>71.0</td><td>169.0</td><td>7.0</td><td>-0.121206</td><td>-0.007533</td><td>0.098028</td><td>0.026247</td><td>572.5</td><td>-10148.0</td><td>665998.0</td><td>0.0</td><td>0.004696</td><td>-209740.0</td><td>-76.5</td><td>18.5</td><td>-519.0</td><td>-339.5</td><td>0.413924</td><td>0.520475</td><td>0.967723</td><td>0.411771</td><td>0.853949</td><td>0.190213</td><td>0.551558</td><td>0.903674</td><td>0.359016</td><td>3</td><td>3</td><td>1</td><td>0.5</td></tr><tr><td>509515372</td><td>9767697</td><td>2387011</td><td>0</td><td>1</td><td>22.0</td><td>null</td><td>false</td><td>2</td><td>null</td><td>false</td><td>5</td><td>50</td><td>187</td><td>238</td><td>116</td><td>4</td><td>7</td><td>0.26738</td><td>0.210084</td><td>0.363107</td><td>false</td><td>118</td><td>0.9613</td><td>&quot;Negative&quot;</td><td>5</td><td>7</td><td>2</td><td>982</td><td>3</td><td>199205</td><td>954408</td><td>2.595362e7</td><td>0.208721</td><td>&quot;article_default&quot;</td><td>0</td><td>0</td><td>&hellip;</td><td>1.578433</td><td>1.545811</td><td>1.210264</td><td>1.571444</td><td>1.333221</td><td>1.248481</td><td>1.527881</td><td>0.0</td><td>0.0</td><td>-14.0</td><td>0.0321</td><td>0.016504</td><td>-0.135667</td><td>0.031128</td><td>0.0</td><td>119089.0</td><td>500803.0</td><td>0.0</td><td>0.038357</td><td>2.0919332e7</td><td>1201.0</td><td>4.0</td><td>413.0</td><td>3302.0</td><td>0.713302</td><td>0.651849</td><td>0.7572</td><td>0.751121</td><td>0.0</td><td>0.235389</td><td>0.352266</td><td>0.766962</td><td>0.502923</td><td>3</td><td>3</td><td>1</td><td>1.0</td></tr></tbody></table></div>"
      ],
      "text/plain": [
       "shape: (2, 298)\n",
       "┌─────────────┬─────────┬─────────┬────────┬───┬────────────┬────────────┬────────────┬────────────┐\n",
       "│ impression_ ┆ article ┆ user_id ┆ target ┆ … ┆ category_d ┆ sentiment_ ┆ article_ty ┆ endorsemen │\n",
       "│ id          ┆ ---     ┆ ---     ┆ ---    ┆   ┆ iversity_i ┆ label_dive ┆ pe_diversi ┆ t_20h_arti │\n",
       "│ ---         ┆ i32     ┆ u32     ┆ i8     ┆   ┆ mpression  ┆ rsity_impr ┆ ty_impress ┆ cleuser_l_ │\n",
       "│ u32         ┆         ┆         ┆        ┆   ┆ ---        ┆ …          ┆ …          ┆ …          │\n",
       "│             ┆         ┆         ┆        ┆   ┆ u8         ┆ ---        ┆ ---        ┆ ---        │\n",
       "│             ┆         ┆         ┆        ┆   ┆            ┆ u8         ┆ u8         ┆ f32        │\n",
       "╞═════════════╪═════════╪═════════╪════════╪═══╪════════════╪════════════╪════════════╪════════════╡\n",
       "│ 318697350   ┆ 9727087 ┆ 2338672 ┆ 0      ┆ … ┆ 3          ┆ 3          ┆ 1          ┆ 0.5        │\n",
       "│ 509515372   ┆ 9767697 ┆ 2387011 ┆ 0      ┆ … ┆ 3          ┆ 3          ┆ 1          ┆ 1.0        │\n",
       "└─────────────┴─────────┴─────────┴────────┴───┴────────────┴────────────┴────────────┴────────────┘"
      ]
     },
     "execution_count": 42,
     "metadata": {},
     "output_type": "execute_result"
    }
   ],
   "source": [
    "NORMALIZE_OVER_IMPRESSION_ID = [\n",
    "    'trendiness_score_3d','trendiness_score_5d', 'endorsement_10h', \n",
    "    'total_pageviews/inviews', 'mean_JS','mean_topic_model_cosine', 'topics_cosine',\n",
    "    'article_delay_hours', 'total_pageviews','total_inviews', 'trendiness_score_category',\n",
    "    'std_JS', 'total_read_time', 'endorsement_10h_leak',\"trendiness_score_3d_leak\",\n",
    "    \"clicked_count\",\"inview_count\",\n",
    "]\n",
    "RANK_IMPRESSION_DESCENDING = [\n",
    "    'trendiness_score_3d','trendiness_score_5d', 'endorsement_10h', \n",
    "    'total_pageviews/inviews', 'mean_JS', 'mean_topic_model_cosine', 'topics_cosine',\n",
    "    'total_pageviews', 'total_read_time','total_inviews', 'trendiness_score_category',\n",
    "    'endorsement_10h_leak',\"trendiness_score_3d_leak\",\"clicked_count\",\"inview_count\"\n",
    "]\n",
    "RANK_IMPRESSION_ASCENDING = [\n",
    "    'article_delay_hours', 'std_JS', 'mean_topics_mean_delay_hours'\n",
    "]\n",
    "NORMALIZE_OVER_USER_ID = [\n",
    "    'mean_JS', 'std_JS', 'mean_topic_model_cosine', 'topics_cosine',\n",
    "]\n",
    "NORMALIZE_OVER_ARTICLE = [\n",
    "    'article_delay_hours', 'mean_JS', 'std_JS', 'mean_topic_model_cosine', 'topics_cosine',\n",
    "]\n",
    "LIST_DIVERSITY = [\n",
    "    'category', 'sentiment_label', 'article_type'\n",
    "]\n",
    "NORMALIZE_OVER_ARTICLE_AND_USER_ID= ['endorsement_20h_articleuser']\n",
    "\n",
    "expressions = [\n",
    "    [(pl.col(c) / pl.col(c).max().over(pl.col('impression_id'))).alias(f'{c}_l_inf_impression')\n",
    "     for c in NORMALIZE_OVER_IMPRESSION_ID],\n",
    "    [pl.col(c).rank(method='min').over(pl.col('impression_id')).alias(f'{c}_rank_impression')\n",
    "     for c in RANK_IMPRESSION_ASCENDING],\n",
    "    [pl.col(c).rank(method='min', descending=True).over(pl.col('impression_id')).alias(f'{c}_rank_impression')\n",
    "     for c in RANK_IMPRESSION_DESCENDING],\n",
    "    [pl.col(c).std().over(pl.col('impression_id')).alias(f'std_impression_{c}')\n",
    "     for c in NORMALIZE_OVER_IMPRESSION_ID],\n",
    "    [pl.col(c).skew().over(pl.col('impression_id')).alias(f'skew_impression_{c}')\n",
    "     for c in NORMALIZE_OVER_IMPRESSION_ID],\n",
    "    [pl.col(c).kurtosis().over(pl.col('impression_id')).alias(f'kurtosis_impression_{c}')\n",
    "     for c in NORMALIZE_OVER_IMPRESSION_ID],\n",
    "    [pl.col(c).entropy().over(pl.col('impression_id')).alias(f'entropy_impression_{c}')\n",
    "     for c in NORMALIZE_OVER_IMPRESSION_ID],\n",
    "    [(pl.col(c) - pl.col(c).median().over(pl.col('impression_id'))).alias(f'{c}_minus_median_impression')\n",
    "     for c in NORMALIZE_OVER_IMPRESSION_ID],\n",
    "    [(pl.col(c) / pl.col(c).max().over(pl.col('user_id'))).alias(f'{c}_l_inf_user')\n",
    "     for c in NORMALIZE_OVER_USER_ID],\n",
    "    [(pl.col(c) / pl.col(c).max().over(pl.col('article'))).alias(f'{c}_l_inf_article')\n",
    "     for c in NORMALIZE_OVER_ARTICLE],\n",
    "    [pl.col(c).n_unique().over('impression_id').alias(f'{c}_diversity_impression')\n",
    "     for c in LIST_DIVERSITY],\n",
    "    [(pl.col(c) / pl.col(c).max().over([pl.col('article'),pl.col('user_id')])).alias(f'{c}_l_inf_article_user')\n",
    "     for c in NORMALIZE_OVER_ARTICLE_AND_USER_ID],\n",
    "]\n",
    "    \n",
    "for expressions_group in tqdm.tqdm(expressions):\n",
    "    train_ds = train_ds.with_columns(expressions_group)\n",
    "    train_ds = reduce_polars_df_memory_size(train_ds)\n",
    "\n",
    "PrintColor(f\"\\n\" + GetMemUsage(), color = Fore.RED)\n",
    "train_ds.head(2)"
   ]
  },
  {
   "cell_type": "markdown",
   "id": "9e62c99b",
   "metadata": {
    "papermill": {
     "duration": 0.09182,
     "end_time": "2024-05-19T11:14:18.415216",
     "exception": false,
     "start_time": "2024-05-19T11:14:18.323396",
     "status": "completed"
    },
    "tags": []
   },
   "source": [
    "# Training"
   ]
  },
  {
   "cell_type": "code",
   "execution_count": 43,
   "id": "953d5478",
   "metadata": {
    "execution": {
     "iopub.execute_input": "2024-05-19T11:14:18.601008Z",
     "iopub.status.busy": "2024-05-19T11:14:18.600536Z",
     "iopub.status.idle": "2024-05-19T11:14:27.653990Z",
     "shell.execute_reply": "2024-05-19T11:14:27.653128Z"
    },
    "papermill": {
     "duration": 9.148548,
     "end_time": "2024-05-19T11:14:27.657016",
     "exception": false,
     "start_time": "2024-05-19T11:14:18.508468",
     "status": "completed"
    },
    "tags": []
   },
   "outputs": [
    {
     "data": {
      "text/html": [
       "<div><style>\n",
       ".dataframe > thead > tr,\n",
       ".dataframe > tbody > tr {\n",
       "  text-align: right;\n",
       "  white-space: pre-wrap;\n",
       "}\n",
       "</style>\n",
       "<small>shape: (5, 298)</small><table border=\"1\" class=\"dataframe\"><thead><tr><th>impression_id</th><th>user_id</th><th>article</th><th>target</th><th>device_type</th><th>read_time</th><th>scroll_percentage</th><th>is_sso_user</th><th>gender</th><th>age</th><th>is_subscriber</th><th>postcode</th><th>trendiness_score_1d</th><th>trendiness_score_3d</th><th>trendiness_score_5d</th><th>trendiness_score_3d_leak</th><th>weekday</th><th>hour</th><th>trendiness_score_1d/3d</th><th>trendiness_score_1d/5d</th><th>normalized_trendiness_score_overall</th><th>premium</th><th>category</th><th>sentiment_score</th><th>sentiment_label</th><th>num_images</th><th>title_len</th><th>subtitle_len</th><th>body_len</th><th>num_topics</th><th>total_pageviews</th><th>total_inviews</th><th>total_read_time</th><th>total_pageviews/inviews</th><th>article_type</th><th>article_delay_days</th><th>article_delay_hours</th><th>&hellip;</th><th>entropy_impression_trendiness_score_category</th><th>entropy_impression_std_JS</th><th>entropy_impression_total_read_time</th><th>entropy_impression_endorsement_10h_leak</th><th>entropy_impression_trendiness_score_3d_leak</th><th>entropy_impression_clicked_count</th><th>entropy_impression_inview_count</th><th>trendiness_score_3d_minus_median_impression</th><th>trendiness_score_5d_minus_median_impression</th><th>endorsement_10h_minus_median_impression</th><th>total_pageviews/inviews_minus_median_impression</th><th>mean_JS_minus_median_impression</th><th>mean_topic_model_cosine_minus_median_impression</th><th>topics_cosine_minus_median_impression</th><th>article_delay_hours_minus_median_impression</th><th>total_pageviews_minus_median_impression</th><th>total_inviews_minus_median_impression</th><th>trendiness_score_category_minus_median_impression</th><th>std_JS_minus_median_impression</th><th>total_read_time_minus_median_impression</th><th>endorsement_10h_leak_minus_median_impression</th><th>trendiness_score_3d_leak_minus_median_impression</th><th>clicked_count_minus_median_impression</th><th>inview_count_minus_median_impression</th><th>mean_JS_l_inf_user</th><th>std_JS_l_inf_user</th><th>mean_topic_model_cosine_l_inf_user</th><th>topics_cosine_l_inf_user</th><th>article_delay_hours_l_inf_article</th><th>mean_JS_l_inf_article</th><th>std_JS_l_inf_article</th><th>mean_topic_model_cosine_l_inf_article</th><th>topics_cosine_l_inf_article</th><th>category_diversity_impression</th><th>sentiment_label_diversity_impression</th><th>article_type_diversity_impression</th><th>endorsement_20h_articleuser_l_inf_article_user</th></tr><tr><td>u32</td><td>u32</td><td>i32</td><td>i8</td><td>i8</td><td>f32</td><td>f32</td><td>bool</td><td>i8</td><td>i8</td><td>bool</td><td>i8</td><td>i16</td><td>i16</td><td>i16</td><td>i16</td><td>i8</td><td>i8</td><td>f32</td><td>f32</td><td>f32</td><td>bool</td><td>i16</td><td>f32</td><td>str</td><td>u32</td><td>u8</td><td>u8</td><td>u16</td><td>u32</td><td>i32</td><td>i32</td><td>f32</td><td>f32</td><td>str</td><td>i16</td><td>i32</td><td>&hellip;</td><td>f32</td><td>f32</td><td>f32</td><td>f32</td><td>f32</td><td>f32</td><td>f32</td><td>f32</td><td>f32</td><td>f32</td><td>f32</td><td>f32</td><td>f32</td><td>f32</td><td>f32</td><td>f32</td><td>f32</td><td>f32</td><td>f32</td><td>f32</td><td>f32</td><td>f32</td><td>f32</td><td>f32</td><td>f32</td><td>f32</td><td>f32</td><td>f32</td><td>f32</td><td>f32</td><td>f32</td><td>f32</td><td>f32</td><td>u8</td><td>u8</td><td>u8</td><td>f32</td></tr></thead><tbody><tr><td>149474</td><td>139836</td><td>9778728</td><td>0</td><td>2</td><td>13.0</td><td>null</td><td>false</td><td>2</td><td>null</td><td>false</td><td>5</td><td>150</td><td>521</td><td>836</td><td>419</td><td>3</td><td>7</td><td>0.287908</td><td>0.179426</td><td>0.880068</td><td>false</td><td>142</td><td>0.9654</td><td>&quot;Negative&quot;</td><td>1</td><td>5</td><td>18</td><td>251</td><td>7</td><td>22415</td><td>220247</td><td>1.004828e6</td><td>0.101772</td><td>&quot;article_default&quot;</td><td>0</td><td>0</td><td>&hellip;</td><td>1.612282</td><td>1.739272</td><td>1.558951</td><td>1.774823</td><td>1.725289</td><td>-0.0</td><td>1.76343</td><td>281.5</td><td>447.5</td><td>-873.5</td><td>-0.111306</td><td>-0.005177</td><td>0.106855</td><td>-0.02667</td><td>-1.0</td><td>-62463.5</td><td>-165503.0</td><td>4.0</td><td>-0.033664</td><td>-4.981345e6</td><td>5.0</td><td>165.5</td><td>null</td><td>-886.0</td><td>0.447581</td><td>0.403328</td><td>0.963376</td><td>0.36119</td><td>0.0</td><td>0.233531</td><td>0.335164</td><td>0.891436</td><td>0.301919</td><td>4</td><td>3</td><td>1</td><td>1.0</td></tr><tr><td>149474</td><td>139836</td><td>9778669</td><td>0</td><td>2</td><td>13.0</td><td>null</td><td>false</td><td>2</td><td>null</td><td>false</td><td>5</td><td>85</td><td>199</td><td>313</td><td>266</td><td>3</td><td>7</td><td>0.427136</td><td>0.271565</td><td>0.336149</td><td>false</td><td>118</td><td>0.9481</td><td>&quot;Negative&quot;</td><td>1</td><td>5</td><td>11</td><td>150</td><td>4</td><td>74491</td><td>373488</td><td>4.365609e6</td><td>0.199447</td><td>&quot;article_default&quot;</td><td>0</td><td>1</td><td>&hellip;</td><td>1.612282</td><td>1.739272</td><td>1.558951</td><td>1.774823</td><td>1.725289</td><td>-0.0</td><td>1.76343</td><td>-40.5</td><td>-75.5</td><td>179.5</td><td>-0.013631</td><td>0.003967</td><td>-0.073142</td><td>0.015762</td><td>0.0</td><td>-10387.5</td><td>-12262.0</td><td>0.0</td><td>0.028015</td><td>-1.620564e6</td><td>-397.0</td><td>12.5</td><td>null</td><td>-56.0</td><td>0.501163</td><td>0.632488</td><td>0.750329</td><td>0.437299</td><td>0.043478</td><td>0.266627</td><td>0.511387</td><td>0.782392</td><td>0.319083</td><td>4</td><td>3</td><td>1</td><td>1.0</td></tr><tr><td>149474</td><td>139836</td><td>9778657</td><td>1</td><td>2</td><td>13.0</td><td>null</td><td>false</td><td>2</td><td>null</td><td>false</td><td>5</td><td>45</td><td>117</td><td>183</td><td>138</td><td>3</td><td>7</td><td>0.384615</td><td>0.245902</td><td>0.197635</td><td>false</td><td>118</td><td>0.8347</td><td>&quot;Neutral&quot;</td><td>2</td><td>6</td><td>31</td><td>336</td><td>3</td><td>108389</td><td>478098</td><td>7.606737e6</td><td>0.226709</td><td>&quot;article_default&quot;</td><td>0</td><td>1</td><td>&hellip;</td><td>1.612282</td><td>1.739272</td><td>1.558951</td><td>1.774823</td><td>1.725289</td><td>-0.0</td><td>1.76343</td><td>-122.5</td><td>-205.5</td><td>368.5</td><td>0.013631</td><td>0.05309</td><td>-0.001632</td><td>0.218611</td><td>0.0</td><td>23510.5</td><td>92348.0</td><td>0.0</td><td>0.051035</td><td>1.620564e6</td><td>-5.0</td><td>-115.5</td><td>null</td><td>276.0</td><td>0.78901</td><td>0.718014</td><td>0.834969</td><td>0.801144</td><td>0.066667</td><td>0.350947</td><td>0.730242</td><td>0.85965</td><td>0.604487</td><td>4</td><td>3</td><td>1</td><td>1.0</td></tr><tr><td>150528</td><td>143471</td><td>9778682</td><td>0</td><td>2</td><td>25.0</td><td>null</td><td>false</td><td>2</td><td>null</td><td>false</td><td>5</td><td>69</td><td>206</td><td>334</td><td>201</td><td>3</td><td>7</td><td>0.334951</td><td>0.206587</td><td>0.347973</td><td>false</td><td>498</td><td>0.9546</td><td>&quot;Negative&quot;</td><td>1</td><td>5</td><td>20</td><td>267</td><td>3</td><td>143520</td><td>455723</td><td>9.298546e6</td><td>0.314928</td><td>&quot;article_default&quot;</td><td>0</td><td>1</td><td>&hellip;</td><td>1.924178</td><td>2.126514</td><td>2.008478</td><td>2.181736</td><td>2.013598</td><td>-0.0</td><td>2.173429</td><td>7.0</td><td>21.0</td><td>204.0</td><td>0.088219</td><td>0.013219</td><td>0.068738</td><td>-0.001332</td><td>1.0</td><td>48254.0</td><td>82235.0</td><td>-47.0</td><td>0.013249</td><td>4.223417e6</td><td>160.0</td><td>0.0</td><td>null</td><td>498.0</td><td>0.793928</td><td>0.732491</td><td>0.921602</td><td>0.581838</td><td>0.041667</td><td>0.299855</td><td>0.536061</td><td>0.832465</td><td>0.447169</td><td>6</td><td>3</td><td>1</td><td>1.0</td></tr><tr><td>150528</td><td>143471</td><td>9778669</td><td>0</td><td>2</td><td>25.0</td><td>null</td><td>false</td><td>2</td><td>null</td><td>false</td><td>5</td><td>85</td><td>199</td><td>313</td><td>266</td><td>3</td><td>7</td><td>0.427136</td><td>0.271565</td><td>0.336149</td><td>false</td><td>118</td><td>0.9481</td><td>&quot;Negative&quot;</td><td>1</td><td>5</td><td>11</td><td>150</td><td>4</td><td>74491</td><td>373488</td><td>4.365609e6</td><td>0.199447</td><td>&quot;article_default&quot;</td><td>0</td><td>1</td><td>&hellip;</td><td>1.924178</td><td>2.126514</td><td>2.008478</td><td>2.181736</td><td>2.013598</td><td>-0.0</td><td>2.173429</td><td>0.0</td><td>0.0</td><td>598.0</td><td>-0.027262</td><td>0.025741</td><td>-0.08231</td><td>0.159455</td><td>1.0</td><td>-20775.0</td><td>0.0</td><td>62.0</td><td>0.007517</td><td>-709520.0</td><td>-225.0</td><td>65.0</td><td>null</td><td>386.0</td><td>0.881599</td><td>0.709201</td><td>0.745333</td><td>0.871154</td><td>0.043478</td><td>0.392552</td><td>0.524339</td><td>0.788264</td><td>0.633637</td><td>6</td><td>3</td><td>1</td><td>1.0</td></tr></tbody></table></div>"
      ],
      "text/plain": [
       "shape: (5, 298)\n",
       "┌─────────────┬─────────┬─────────┬────────┬───┬────────────┬────────────┬────────────┬────────────┐\n",
       "│ impression_ ┆ user_id ┆ article ┆ target ┆ … ┆ category_d ┆ sentiment_ ┆ article_ty ┆ endorsemen │\n",
       "│ id          ┆ ---     ┆ ---     ┆ ---    ┆   ┆ iversity_i ┆ label_dive ┆ pe_diversi ┆ t_20h_arti │\n",
       "│ ---         ┆ u32     ┆ i32     ┆ i8     ┆   ┆ mpression  ┆ rsity_impr ┆ ty_impress ┆ cleuser_l_ │\n",
       "│ u32         ┆         ┆         ┆        ┆   ┆ ---        ┆ …          ┆ …          ┆ …          │\n",
       "│             ┆         ┆         ┆        ┆   ┆ u8         ┆ ---        ┆ ---        ┆ ---        │\n",
       "│             ┆         ┆         ┆        ┆   ┆            ┆ u8         ┆ u8         ┆ f32        │\n",
       "╞═════════════╪═════════╪═════════╪════════╪═══╪════════════╪════════════╪════════════╪════════════╡\n",
       "│ 149474      ┆ 139836  ┆ 9778728 ┆ 0      ┆ … ┆ 4          ┆ 3          ┆ 1          ┆ 1.0        │\n",
       "│ 149474      ┆ 139836  ┆ 9778669 ┆ 0      ┆ … ┆ 4          ┆ 3          ┆ 1          ┆ 1.0        │\n",
       "│ 149474      ┆ 139836  ┆ 9778657 ┆ 1      ┆ … ┆ 4          ┆ 3          ┆ 1          ┆ 1.0        │\n",
       "│ 150528      ┆ 143471  ┆ 9778682 ┆ 0      ┆ … ┆ 6          ┆ 3          ┆ 1          ┆ 1.0        │\n",
       "│ 150528      ┆ 143471  ┆ 9778669 ┆ 0      ┆ … ┆ 6          ┆ 3          ┆ 1          ┆ 1.0        │\n",
       "└─────────────┴─────────┴─────────┴────────┴───┴────────────┴────────────┴────────────┴────────────┘"
      ]
     },
     "execution_count": 43,
     "metadata": {},
     "output_type": "execute_result"
    }
   ],
   "source": [
    "# subsample dataset\n",
    "\n",
    "behaviors_subsample = behaviors_train.select(['impression_id','user_id','article_ids_inview','article_ids_clicked']) \\\n",
    "    .pipe(\n",
    "        sampling_strategy_wu2019, npratio=NPRATIO, shuffle=False, with_replacement=True, seed=123\n",
    "    ).explode('article_ids_inview').drop('article_ids_clicked').rename({'article_ids_inview' : 'article'}) \\\n",
    "    .with_columns(pl.col('user_id').cast(pl.UInt32), pl.col('article').cast(pl.Int32)) \\\n",
    "    .select(['impression_id', 'user_id', 'article'])\n",
    "\n",
    "train_ds = behaviors_subsample.join(train_ds, on=['impression_id','user_id','article'], how='left')\n",
    "train_ds.head()"
   ]
  },
  {
   "cell_type": "code",
   "execution_count": 44,
   "id": "efa1f34e",
   "metadata": {
    "execution": {
     "iopub.execute_input": "2024-05-19T11:14:27.841211Z",
     "iopub.status.busy": "2024-05-19T11:14:27.840228Z",
     "iopub.status.idle": "2024-05-19T11:14:29.532813Z",
     "shell.execute_reply": "2024-05-19T11:14:29.531678Z"
    },
    "papermill": {
     "duration": 1.786542,
     "end_time": "2024-05-19T11:14:29.535672",
     "exception": false,
     "start_time": "2024-05-19T11:14:27.749130",
     "status": "completed"
    },
    "tags": []
   },
   "outputs": [],
   "source": [
    "train_ds = train_ds.drop(['impression_id', 'article', 'user_id']).to_pandas()\n",
    "\n",
    "categorical_columns = ['device_type', 'is_sso_user', 'gender', 'is_subscriber', 'weekday',\n",
    "                       'premium', 'category', 'sentiment_label', 'is_new_article', 'is_already_seen_article',\n",
    "                       'MostFrequentCategory', 'MostFrequentWeekday', 'IsFavouriteCategory',\n",
    "                       'article_type', 'postcode']\n",
    "categorical_columns += [f'Entity_{entity}_Present' for entity in unique_entities]\n",
    "train_ds[categorical_columns] = train_ds[categorical_columns].astype('category')\n",
    "\n",
    "X = train_ds.drop(columns=['target'])\n",
    "y = train_ds['target']"
   ]
  },
  {
   "cell_type": "code",
   "execution_count": 45,
   "id": "a8f8ef3f",
   "metadata": {
    "execution": {
     "iopub.execute_input": "2024-05-19T11:14:29.725360Z",
     "iopub.status.busy": "2024-05-19T11:14:29.724895Z",
     "iopub.status.idle": "2024-05-19T11:14:30.064761Z",
     "shell.execute_reply": "2024-05-19T11:14:30.063255Z"
    },
    "papermill": {
     "duration": 0.436636,
     "end_time": "2024-05-19T11:14:30.067646",
     "exception": false,
     "start_time": "2024-05-19T11:14:29.631010",
     "status": "completed"
    },
    "tags": []
   },
   "outputs": [
    {
     "name": "stdout",
     "output_type": "stream",
     "text": [
      "\u001b[1m\u001b[31m\n",
      "RAM memory GB usage = 7.465\u001b[0m\n"
     ]
    }
   ],
   "source": [
    "del train_ds\n",
    "\n",
    "gc.collect()\n",
    "PrintColor(f\"\\n\" + GetMemUsage(), color = Fore.RED)"
   ]
  },
  {
   "cell_type": "code",
   "execution_count": 46,
   "id": "d3cd18da",
   "metadata": {
    "execution": {
     "iopub.execute_input": "2024-05-19T11:14:30.253699Z",
     "iopub.status.busy": "2024-05-19T11:14:30.252599Z",
     "iopub.status.idle": "2024-05-19T11:14:30.273188Z",
     "shell.execute_reply": "2024-05-19T11:14:30.271413Z"
    },
    "papermill": {
     "duration": 0.118389,
     "end_time": "2024-05-19T11:14:30.276543",
     "exception": false,
     "start_time": "2024-05-19T11:14:30.158154",
     "status": "completed"
    },
    "tags": []
   },
   "outputs": [],
   "source": [
    "def create_mlp_model(numeric_input_shape, n_layers=1, start_units=128, dropout_rate=0.1, \n",
    "                     learning_rate=1e-3, l2_lambda=1e-4, activation='relu', seed=seed,\n",
    "                     l1_lambda=1e-4, weight_decay=1e-3, units_decay=2, add_gaussian_noise=False, gaussian_noise_std=0.01,\n",
    "                     max_categorical_embedding=50, use_categorical_embeddings=True,\n",
    "                     vocabulary_sizes: dict[str, int] = None, categorical_input_shape=None):\n",
    "    \n",
    "    tf.random.set_seed(seed)\n",
    "    \n",
    "    numeric_input_layer = tfkl.Input(shape=(numeric_input_shape,), name='NumericInput')\n",
    "    \n",
    "    if add_gaussian_noise:\n",
    "        noise_layer = tfkl.GaussianNoise(0.01, name='NumericInputNoise')(numeric_input_layer)\n",
    "        prev_layer = noise_layer\n",
    "    else:\n",
    "        prev_layer = numeric_input_layer\n",
    "        \n",
    "    # CATEGORICAL EMBEDDINGS\n",
    "    if use_categorical_embeddings:\n",
    "        embedding_layers = []\n",
    "        categorical_inputs = []\n",
    "        for feature in categorical_columns:\n",
    "            vocabulary_size = vocabulary_sizes[feature]\n",
    "            embedding_dim = min(max_categorical_embedding, (vocabulary_size + 1) // 2)\n",
    "            cat_input = tfkl.Input(shape=(1,), name=f'{feature}Input')\n",
    "            categorical_inputs.append(cat_input)\n",
    "            embedding_layer = tfkl.Embedding(input_dim=vocabulary_size + 1, output_dim=embedding_dim)(cat_input)\n",
    "            flatten_layer = tfkl.Flatten()(embedding_layer)\n",
    "            embedding_layers.append(flatten_layer)\n",
    "        x = tfkl.Concatenate()([prev_layer] + embedding_layers)\n",
    "        \n",
    "    else:\n",
    "        categorical_input = tfkl.Input(shape=(categorical_input_shape,), name='CategoricalInput')\n",
    "        x = tfkl.Concatenate()([prev_layer, categorical_input])\n",
    "        categorical_inputs = [categorical_input]\n",
    "\n",
    "    units = start_units\n",
    "    for i in range(n_layers):\n",
    "        x = tfkl.Dense(\n",
    "            units=units,\n",
    "            kernel_initializer=tfk.initializers.HeNormal(seed=seed),\n",
    "            kernel_regularizer=tf.keras.regularizers.l1_l2(l1=l1_lambda, l2=l2_lambda),\n",
    "            name=f'DeepDense{i}'\n",
    "        )(x)\n",
    "        x = tfkl.BatchNormalization(name=f'DeepBatchNormalization{i}')(x)\n",
    "        x = tfkl.Activation(activation, name=f'DeepActivation{i}')(x)\n",
    "        x = tfkl.Dropout(dropout_rate, name=f'DeepDropout{i}')(x)\n",
    "        units = int(units / units_decay)\n",
    "\n",
    "    outputs = tfkl.Dense(\n",
    "        units=1,\n",
    "        kernel_initializer=tfk.initializers.GlorotUniform(seed=seed),\n",
    "        kernel_regularizer=tf.keras.regularizers.l1_l2(l1=l1_lambda, l2=l2_lambda),\n",
    "        name='OutputDense',\n",
    "        activation='sigmoid'\n",
    "    )(x)\n",
    "    model = tfk.Model(inputs=[numeric_input_layer] + categorical_inputs, outputs=outputs)\n",
    "\n",
    "    opt = tfk.optimizers.AdamW(learning_rate, weight_decay=weight_decay)\n",
    "    loss = tfk.losses.BinaryCrossentropy()\n",
    "    metrics = [tfk.metrics.AUC(curve='ROC', name='auc')]\n",
    "    model.compile(loss=loss, optimizer=opt, metrics=metrics)\n",
    "    \n",
    "    return model"
   ]
  },
  {
   "cell_type": "code",
   "execution_count": 47,
   "id": "b603d7d5",
   "metadata": {
    "execution": {
     "iopub.execute_input": "2024-05-19T11:14:30.459118Z",
     "iopub.status.busy": "2024-05-19T11:14:30.458651Z",
     "iopub.status.idle": "2024-05-19T11:15:26.183571Z",
     "shell.execute_reply": "2024-05-19T11:15:26.182240Z"
    },
    "papermill": {
     "duration": 55.819362,
     "end_time": "2024-05-19T11:15:26.186569",
     "exception": false,
     "start_time": "2024-05-19T11:14:30.367207",
     "status": "completed"
    },
    "tags": []
   },
   "outputs": [],
   "source": [
    "numerical_columns = [c for c in X.columns if c not in categorical_columns]\n",
    "X_numerical = X[numerical_columns]\n",
    "X_categorical = X[categorical_columns].astype(str)\n",
    "\n",
    "categories = []\n",
    "vocabulary_sizes = {}\n",
    "for cat_col in categorical_columns:\n",
    "    categories_train = list(X_categorical[cat_col].unique())\n",
    "    categories_train.append('Unknown')\n",
    "    vocabulary_sizes[cat_col] = len(categories_train)\n",
    "    categories.append(categories_train)\n",
    "    \n",
    "categorical_encoder = OrdinalEncoder(categories=categories)\n",
    "numerical_transformer = QuantileTransformer(output_distribution='normal')\n",
    "    \n",
    "X_categorical = categorical_encoder.fit_transform(X_categorical, y)\n",
    "X_numerical = numerical_transformer.fit_transform(X_numerical.fillna(0).replace([-np.inf, np.inf], 0), y)"
   ]
  },
  {
   "cell_type": "code",
   "execution_count": 48,
   "id": "35348d6c",
   "metadata": {
    "execution": {
     "iopub.execute_input": "2024-05-19T11:15:26.374866Z",
     "iopub.status.busy": "2024-05-19T11:15:26.374094Z",
     "iopub.status.idle": "2024-05-19T11:15:26.916649Z",
     "shell.execute_reply": "2024-05-19T11:15:26.915434Z"
    },
    "papermill": {
     "duration": 0.641538,
     "end_time": "2024-05-19T11:15:26.922017",
     "exception": false,
     "start_time": "2024-05-19T11:15:26.280479",
     "status": "completed"
    },
    "tags": []
   },
   "outputs": [
    {
     "data": {
      "text/html": [
       "<pre style=\"white-space:pre;overflow-x:auto;line-height:normal;font-family:Menlo,'DejaVu Sans Mono',consolas,'Courier New',monospace\"><span style=\"font-weight: bold\">Model: \"functional_1\"</span>\n",
       "</pre>\n"
      ],
      "text/plain": [
       "\u001b[1mModel: \"functional_1\"\u001b[0m\n"
      ]
     },
     "metadata": {},
     "output_type": "display_data"
    },
    {
     "data": {
      "text/html": [
       "<pre style=\"white-space:pre;overflow-x:auto;line-height:normal;font-family:Menlo,'DejaVu Sans Mono',consolas,'Courier New',monospace\">┏━━━━━━━━━━━━━━━━━━━━━┳━━━━━━━━━━━━━━━━━━━┳━━━━━━━━━━━━┳━━━━━━━━━━━━━━━━━━━┓\n",
       "┃<span style=\"font-weight: bold\"> Layer (type)        </span>┃<span style=\"font-weight: bold\"> Output Shape      </span>┃<span style=\"font-weight: bold\">    Param # </span>┃<span style=\"font-weight: bold\"> Connected to      </span>┃\n",
       "┡━━━━━━━━━━━━━━━━━━━━━╇━━━━━━━━━━━━━━━━━━━╇━━━━━━━━━━━━╇━━━━━━━━━━━━━━━━━━━┩\n",
       "│ device_typeInput    │ (<span style=\"color: #00d7ff; text-decoration-color: #00d7ff\">None</span>, <span style=\"color: #00af00; text-decoration-color: #00af00\">1</span>)         │          <span style=\"color: #00af00; text-decoration-color: #00af00\">0</span> │ -                 │\n",
       "│ (<span style=\"color: #0087ff; text-decoration-color: #0087ff\">InputLayer</span>)        │                   │            │                   │\n",
       "├─────────────────────┼───────────────────┼────────────┼───────────────────┤\n",
       "│ is_sso_userInput    │ (<span style=\"color: #00d7ff; text-decoration-color: #00d7ff\">None</span>, <span style=\"color: #00af00; text-decoration-color: #00af00\">1</span>)         │          <span style=\"color: #00af00; text-decoration-color: #00af00\">0</span> │ -                 │\n",
       "│ (<span style=\"color: #0087ff; text-decoration-color: #0087ff\">InputLayer</span>)        │                   │            │                   │\n",
       "├─────────────────────┼───────────────────┼────────────┼───────────────────┤\n",
       "│ genderInput         │ (<span style=\"color: #00d7ff; text-decoration-color: #00d7ff\">None</span>, <span style=\"color: #00af00; text-decoration-color: #00af00\">1</span>)         │          <span style=\"color: #00af00; text-decoration-color: #00af00\">0</span> │ -                 │\n",
       "│ (<span style=\"color: #0087ff; text-decoration-color: #0087ff\">InputLayer</span>)        │                   │            │                   │\n",
       "├─────────────────────┼───────────────────┼────────────┼───────────────────┤\n",
       "│ is_subscriberInput  │ (<span style=\"color: #00d7ff; text-decoration-color: #00d7ff\">None</span>, <span style=\"color: #00af00; text-decoration-color: #00af00\">1</span>)         │          <span style=\"color: #00af00; text-decoration-color: #00af00\">0</span> │ -                 │\n",
       "│ (<span style=\"color: #0087ff; text-decoration-color: #0087ff\">InputLayer</span>)        │                   │            │                   │\n",
       "├─────────────────────┼───────────────────┼────────────┼───────────────────┤\n",
       "│ weekdayInput        │ (<span style=\"color: #00d7ff; text-decoration-color: #00d7ff\">None</span>, <span style=\"color: #00af00; text-decoration-color: #00af00\">1</span>)         │          <span style=\"color: #00af00; text-decoration-color: #00af00\">0</span> │ -                 │\n",
       "│ (<span style=\"color: #0087ff; text-decoration-color: #0087ff\">InputLayer</span>)        │                   │            │                   │\n",
       "├─────────────────────┼───────────────────┼────────────┼───────────────────┤\n",
       "│ premiumInput        │ (<span style=\"color: #00d7ff; text-decoration-color: #00d7ff\">None</span>, <span style=\"color: #00af00; text-decoration-color: #00af00\">1</span>)         │          <span style=\"color: #00af00; text-decoration-color: #00af00\">0</span> │ -                 │\n",
       "│ (<span style=\"color: #0087ff; text-decoration-color: #0087ff\">InputLayer</span>)        │                   │            │                   │\n",
       "├─────────────────────┼───────────────────┼────────────┼───────────────────┤\n",
       "│ categoryInput       │ (<span style=\"color: #00d7ff; text-decoration-color: #00d7ff\">None</span>, <span style=\"color: #00af00; text-decoration-color: #00af00\">1</span>)         │          <span style=\"color: #00af00; text-decoration-color: #00af00\">0</span> │ -                 │\n",
       "│ (<span style=\"color: #0087ff; text-decoration-color: #0087ff\">InputLayer</span>)        │                   │            │                   │\n",
       "├─────────────────────┼───────────────────┼────────────┼───────────────────┤\n",
       "│ sentiment_labelInp… │ (<span style=\"color: #00d7ff; text-decoration-color: #00d7ff\">None</span>, <span style=\"color: #00af00; text-decoration-color: #00af00\">1</span>)         │          <span style=\"color: #00af00; text-decoration-color: #00af00\">0</span> │ -                 │\n",
       "│ (<span style=\"color: #0087ff; text-decoration-color: #0087ff\">InputLayer</span>)        │                   │            │                   │\n",
       "├─────────────────────┼───────────────────┼────────────┼───────────────────┤\n",
       "│ is_new_articleInput │ (<span style=\"color: #00d7ff; text-decoration-color: #00d7ff\">None</span>, <span style=\"color: #00af00; text-decoration-color: #00af00\">1</span>)         │          <span style=\"color: #00af00; text-decoration-color: #00af00\">0</span> │ -                 │\n",
       "│ (<span style=\"color: #0087ff; text-decoration-color: #0087ff\">InputLayer</span>)        │                   │            │                   │\n",
       "├─────────────────────┼───────────────────┼────────────┼───────────────────┤\n",
       "│ is_already_seen_ar… │ (<span style=\"color: #00d7ff; text-decoration-color: #00d7ff\">None</span>, <span style=\"color: #00af00; text-decoration-color: #00af00\">1</span>)         │          <span style=\"color: #00af00; text-decoration-color: #00af00\">0</span> │ -                 │\n",
       "│ (<span style=\"color: #0087ff; text-decoration-color: #0087ff\">InputLayer</span>)        │                   │            │                   │\n",
       "├─────────────────────┼───────────────────┼────────────┼───────────────────┤\n",
       "│ MostFrequentCatego… │ (<span style=\"color: #00d7ff; text-decoration-color: #00d7ff\">None</span>, <span style=\"color: #00af00; text-decoration-color: #00af00\">1</span>)         │          <span style=\"color: #00af00; text-decoration-color: #00af00\">0</span> │ -                 │\n",
       "│ (<span style=\"color: #0087ff; text-decoration-color: #0087ff\">InputLayer</span>)        │                   │            │                   │\n",
       "├─────────────────────┼───────────────────┼────────────┼───────────────────┤\n",
       "│ MostFrequentWeekda… │ (<span style=\"color: #00d7ff; text-decoration-color: #00d7ff\">None</span>, <span style=\"color: #00af00; text-decoration-color: #00af00\">1</span>)         │          <span style=\"color: #00af00; text-decoration-color: #00af00\">0</span> │ -                 │\n",
       "│ (<span style=\"color: #0087ff; text-decoration-color: #0087ff\">InputLayer</span>)        │                   │            │                   │\n",
       "├─────────────────────┼───────────────────┼────────────┼───────────────────┤\n",
       "│ IsFavouriteCategor… │ (<span style=\"color: #00d7ff; text-decoration-color: #00d7ff\">None</span>, <span style=\"color: #00af00; text-decoration-color: #00af00\">1</span>)         │          <span style=\"color: #00af00; text-decoration-color: #00af00\">0</span> │ -                 │\n",
       "│ (<span style=\"color: #0087ff; text-decoration-color: #0087ff\">InputLayer</span>)        │                   │            │                   │\n",
       "├─────────────────────┼───────────────────┼────────────┼───────────────────┤\n",
       "│ article_typeInput   │ (<span style=\"color: #00d7ff; text-decoration-color: #00d7ff\">None</span>, <span style=\"color: #00af00; text-decoration-color: #00af00\">1</span>)         │          <span style=\"color: #00af00; text-decoration-color: #00af00\">0</span> │ -                 │\n",
       "│ (<span style=\"color: #0087ff; text-decoration-color: #0087ff\">InputLayer</span>)        │                   │            │                   │\n",
       "├─────────────────────┼───────────────────┼────────────┼───────────────────┤\n",
       "│ postcodeInput       │ (<span style=\"color: #00d7ff; text-decoration-color: #00d7ff\">None</span>, <span style=\"color: #00af00; text-decoration-color: #00af00\">1</span>)         │          <span style=\"color: #00af00; text-decoration-color: #00af00\">0</span> │ -                 │\n",
       "│ (<span style=\"color: #0087ff; text-decoration-color: #0087ff\">InputLayer</span>)        │                   │            │                   │\n",
       "├─────────────────────┼───────────────────┼────────────┼───────────────────┤\n",
       "│ Entity_PROD_Presen… │ (<span style=\"color: #00d7ff; text-decoration-color: #00d7ff\">None</span>, <span style=\"color: #00af00; text-decoration-color: #00af00\">1</span>)         │          <span style=\"color: #00af00; text-decoration-color: #00af00\">0</span> │ -                 │\n",
       "│ (<span style=\"color: #0087ff; text-decoration-color: #0087ff\">InputLayer</span>)        │                   │            │                   │\n",
       "├─────────────────────┼───────────────────┼────────────┼───────────────────┤\n",
       "│ Entity_LOC_Present… │ (<span style=\"color: #00d7ff; text-decoration-color: #00d7ff\">None</span>, <span style=\"color: #00af00; text-decoration-color: #00af00\">1</span>)         │          <span style=\"color: #00af00; text-decoration-color: #00af00\">0</span> │ -                 │\n",
       "│ (<span style=\"color: #0087ff; text-decoration-color: #0087ff\">InputLayer</span>)        │                   │            │                   │\n",
       "├─────────────────────┼───────────────────┼────────────┼───────────────────┤\n",
       "│ Entity_MISC_Presen… │ (<span style=\"color: #00d7ff; text-decoration-color: #00d7ff\">None</span>, <span style=\"color: #00af00; text-decoration-color: #00af00\">1</span>)         │          <span style=\"color: #00af00; text-decoration-color: #00af00\">0</span> │ -                 │\n",
       "│ (<span style=\"color: #0087ff; text-decoration-color: #0087ff\">InputLayer</span>)        │                   │            │                   │\n",
       "├─────────────────────┼───────────────────┼────────────┼───────────────────┤\n",
       "│ Entity_ORG_Present… │ (<span style=\"color: #00d7ff; text-decoration-color: #00d7ff\">None</span>, <span style=\"color: #00af00; text-decoration-color: #00af00\">1</span>)         │          <span style=\"color: #00af00; text-decoration-color: #00af00\">0</span> │ -                 │\n",
       "│ (<span style=\"color: #0087ff; text-decoration-color: #0087ff\">InputLayer</span>)        │                   │            │                   │\n",
       "├─────────────────────┼───────────────────┼────────────┼───────────────────┤\n",
       "│ Entity_PER_Present… │ (<span style=\"color: #00d7ff; text-decoration-color: #00d7ff\">None</span>, <span style=\"color: #00af00; text-decoration-color: #00af00\">1</span>)         │          <span style=\"color: #00af00; text-decoration-color: #00af00\">0</span> │ -                 │\n",
       "│ (<span style=\"color: #0087ff; text-decoration-color: #0087ff\">InputLayer</span>)        │                   │            │                   │\n",
       "├─────────────────────┼───────────────────┼────────────┼───────────────────┤\n",
       "│ Entity_EVENT_Prese… │ (<span style=\"color: #00d7ff; text-decoration-color: #00d7ff\">None</span>, <span style=\"color: #00af00; text-decoration-color: #00af00\">1</span>)         │          <span style=\"color: #00af00; text-decoration-color: #00af00\">0</span> │ -                 │\n",
       "│ (<span style=\"color: #0087ff; text-decoration-color: #0087ff\">InputLayer</span>)        │                   │            │                   │\n",
       "├─────────────────────┼───────────────────┼────────────┼───────────────────┤\n",
       "│ NumericInput        │ (<span style=\"color: #00d7ff; text-decoration-color: #00d7ff\">None</span>, <span style=\"color: #00af00; text-decoration-color: #00af00\">273</span>)       │          <span style=\"color: #00af00; text-decoration-color: #00af00\">0</span> │ -                 │\n",
       "│ (<span style=\"color: #0087ff; text-decoration-color: #0087ff\">InputLayer</span>)        │                   │            │                   │\n",
       "├─────────────────────┼───────────────────┼────────────┼───────────────────┤\n",
       "│ embedding           │ (<span style=\"color: #00d7ff; text-decoration-color: #00d7ff\">None</span>, <span style=\"color: #00af00; text-decoration-color: #00af00\">1</span>, <span style=\"color: #00af00; text-decoration-color: #00af00\">2</span>)      │         <span style=\"color: #00af00; text-decoration-color: #00af00\">10</span> │ device_typeInput… │\n",
       "│ (<span style=\"color: #0087ff; text-decoration-color: #0087ff\">Embedding</span>)         │                   │            │                   │\n",
       "├─────────────────────┼───────────────────┼────────────┼───────────────────┤\n",
       "│ embedding_1         │ (<span style=\"color: #00d7ff; text-decoration-color: #00d7ff\">None</span>, <span style=\"color: #00af00; text-decoration-color: #00af00\">1</span>, <span style=\"color: #00af00; text-decoration-color: #00af00\">2</span>)      │          <span style=\"color: #00af00; text-decoration-color: #00af00\">8</span> │ is_sso_userInput… │\n",
       "│ (<span style=\"color: #0087ff; text-decoration-color: #0087ff\">Embedding</span>)         │                   │            │                   │\n",
       "├─────────────────────┼───────────────────┼────────────┼───────────────────┤\n",
       "│ embedding_2         │ (<span style=\"color: #00d7ff; text-decoration-color: #00d7ff\">None</span>, <span style=\"color: #00af00; text-decoration-color: #00af00\">1</span>, <span style=\"color: #00af00; text-decoration-color: #00af00\">2</span>)      │         <span style=\"color: #00af00; text-decoration-color: #00af00\">10</span> │ genderInput[<span style=\"color: #00af00; text-decoration-color: #00af00\">0</span>][<span style=\"color: #00af00; text-decoration-color: #00af00\">0</span>] │\n",
       "│ (<span style=\"color: #0087ff; text-decoration-color: #0087ff\">Embedding</span>)         │                   │            │                   │\n",
       "├─────────────────────┼───────────────────┼────────────┼───────────────────┤\n",
       "│ embedding_3         │ (<span style=\"color: #00d7ff; text-decoration-color: #00d7ff\">None</span>, <span style=\"color: #00af00; text-decoration-color: #00af00\">1</span>, <span style=\"color: #00af00; text-decoration-color: #00af00\">2</span>)      │          <span style=\"color: #00af00; text-decoration-color: #00af00\">8</span> │ is_subscriberInp… │\n",
       "│ (<span style=\"color: #0087ff; text-decoration-color: #0087ff\">Embedding</span>)         │                   │            │                   │\n",
       "├─────────────────────┼───────────────────┼────────────┼───────────────────┤\n",
       "│ embedding_4         │ (<span style=\"color: #00d7ff; text-decoration-color: #00d7ff\">None</span>, <span style=\"color: #00af00; text-decoration-color: #00af00\">1</span>, <span style=\"color: #00af00; text-decoration-color: #00af00\">4</span>)      │         <span style=\"color: #00af00; text-decoration-color: #00af00\">36</span> │ weekdayInput[<span style=\"color: #00af00; text-decoration-color: #00af00\">0</span>][<span style=\"color: #00af00; text-decoration-color: #00af00\">…</span> │\n",
       "│ (<span style=\"color: #0087ff; text-decoration-color: #0087ff\">Embedding</span>)         │                   │            │                   │\n",
       "├─────────────────────┼───────────────────┼────────────┼───────────────────┤\n",
       "│ embedding_5         │ (<span style=\"color: #00d7ff; text-decoration-color: #00d7ff\">None</span>, <span style=\"color: #00af00; text-decoration-color: #00af00\">1</span>, <span style=\"color: #00af00; text-decoration-color: #00af00\">2</span>)      │          <span style=\"color: #00af00; text-decoration-color: #00af00\">8</span> │ premiumInput[<span style=\"color: #00af00; text-decoration-color: #00af00\">0</span>][<span style=\"color: #00af00; text-decoration-color: #00af00\">…</span> │\n",
       "│ (<span style=\"color: #0087ff; text-decoration-color: #0087ff\">Embedding</span>)         │                   │            │                   │\n",
       "├─────────────────────┼───────────────────┼────────────┼───────────────────┤\n",
       "│ embedding_6         │ (<span style=\"color: #00d7ff; text-decoration-color: #00d7ff\">None</span>, <span style=\"color: #00af00; text-decoration-color: #00af00\">1</span>, <span style=\"color: #00af00; text-decoration-color: #00af00\">8</span>)      │        <span style=\"color: #00af00; text-decoration-color: #00af00\">136</span> │ categoryInput[<span style=\"color: #00af00; text-decoration-color: #00af00\">0</span>]… │\n",
       "│ (<span style=\"color: #0087ff; text-decoration-color: #0087ff\">Embedding</span>)         │                   │            │                   │\n",
       "├─────────────────────┼───────────────────┼────────────┼───────────────────┤\n",
       "│ embedding_7         │ (<span style=\"color: #00d7ff; text-decoration-color: #00d7ff\">None</span>, <span style=\"color: #00af00; text-decoration-color: #00af00\">1</span>, <span style=\"color: #00af00; text-decoration-color: #00af00\">2</span>)      │         <span style=\"color: #00af00; text-decoration-color: #00af00\">10</span> │ sentiment_labelI… │\n",
       "│ (<span style=\"color: #0087ff; text-decoration-color: #0087ff\">Embedding</span>)         │                   │            │                   │\n",
       "├─────────────────────┼───────────────────┼────────────┼───────────────────┤\n",
       "│ embedding_8         │ (<span style=\"color: #00d7ff; text-decoration-color: #00d7ff\">None</span>, <span style=\"color: #00af00; text-decoration-color: #00af00\">1</span>, <span style=\"color: #00af00; text-decoration-color: #00af00\">2</span>)      │          <span style=\"color: #00af00; text-decoration-color: #00af00\">8</span> │ is_new_articleIn… │\n",
       "│ (<span style=\"color: #0087ff; text-decoration-color: #0087ff\">Embedding</span>)         │                   │            │                   │\n",
       "├─────────────────────┼───────────────────┼────────────┼───────────────────┤\n",
       "│ embedding_9         │ (<span style=\"color: #00d7ff; text-decoration-color: #00d7ff\">None</span>, <span style=\"color: #00af00; text-decoration-color: #00af00\">1</span>, <span style=\"color: #00af00; text-decoration-color: #00af00\">2</span>)      │          <span style=\"color: #00af00; text-decoration-color: #00af00\">8</span> │ is_already_seen_… │\n",
       "│ (<span style=\"color: #0087ff; text-decoration-color: #0087ff\">Embedding</span>)         │                   │            │                   │\n",
       "├─────────────────────┼───────────────────┼────────────┼───────────────────┤\n",
       "│ embedding_10        │ (<span style=\"color: #00d7ff; text-decoration-color: #00d7ff\">None</span>, <span style=\"color: #00af00; text-decoration-color: #00af00\">1</span>, <span style=\"color: #00af00; text-decoration-color: #00af00\">6</span>)      │         <span style=\"color: #00af00; text-decoration-color: #00af00\">78</span> │ MostFrequentCate… │\n",
       "│ (<span style=\"color: #0087ff; text-decoration-color: #0087ff\">Embedding</span>)         │                   │            │                   │\n",
       "├─────────────────────┼───────────────────┼────────────┼───────────────────┤\n",
       "│ embedding_11        │ (<span style=\"color: #00d7ff; text-decoration-color: #00d7ff\">None</span>, <span style=\"color: #00af00; text-decoration-color: #00af00\">1</span>, <span style=\"color: #00af00; text-decoration-color: #00af00\">4</span>)      │         <span style=\"color: #00af00; text-decoration-color: #00af00\">36</span> │ MostFrequentWeek… │\n",
       "│ (<span style=\"color: #0087ff; text-decoration-color: #0087ff\">Embedding</span>)         │                   │            │                   │\n",
       "├─────────────────────┼───────────────────┼────────────┼───────────────────┤\n",
       "│ embedding_12        │ (<span style=\"color: #00d7ff; text-decoration-color: #00d7ff\">None</span>, <span style=\"color: #00af00; text-decoration-color: #00af00\">1</span>, <span style=\"color: #00af00; text-decoration-color: #00af00\">2</span>)      │          <span style=\"color: #00af00; text-decoration-color: #00af00\">8</span> │ IsFavouriteCateg… │\n",
       "│ (<span style=\"color: #0087ff; text-decoration-color: #0087ff\">Embedding</span>)         │                   │            │                   │\n",
       "├─────────────────────┼───────────────────┼────────────┼───────────────────┤\n",
       "│ embedding_13        │ (<span style=\"color: #00d7ff; text-decoration-color: #00d7ff\">None</span>, <span style=\"color: #00af00; text-decoration-color: #00af00\">1</span>, <span style=\"color: #00af00; text-decoration-color: #00af00\">6</span>)      │         <span style=\"color: #00af00; text-decoration-color: #00af00\">72</span> │ article_typeInpu… │\n",
       "│ (<span style=\"color: #0087ff; text-decoration-color: #0087ff\">Embedding</span>)         │                   │            │                   │\n",
       "├─────────────────────┼───────────────────┼────────────┼───────────────────┤\n",
       "│ embedding_14        │ (<span style=\"color: #00d7ff; text-decoration-color: #00d7ff\">None</span>, <span style=\"color: #00af00; text-decoration-color: #00af00\">1</span>, <span style=\"color: #00af00; text-decoration-color: #00af00\">4</span>)      │         <span style=\"color: #00af00; text-decoration-color: #00af00\">32</span> │ postcodeInput[<span style=\"color: #00af00; text-decoration-color: #00af00\">0</span>]… │\n",
       "│ (<span style=\"color: #0087ff; text-decoration-color: #0087ff\">Embedding</span>)         │                   │            │                   │\n",
       "├─────────────────────┼───────────────────┼────────────┼───────────────────┤\n",
       "│ embedding_15        │ (<span style=\"color: #00d7ff; text-decoration-color: #00d7ff\">None</span>, <span style=\"color: #00af00; text-decoration-color: #00af00\">1</span>, <span style=\"color: #00af00; text-decoration-color: #00af00\">2</span>)      │          <span style=\"color: #00af00; text-decoration-color: #00af00\">8</span> │ Entity_PROD_Pres… │\n",
       "│ (<span style=\"color: #0087ff; text-decoration-color: #0087ff\">Embedding</span>)         │                   │            │                   │\n",
       "├─────────────────────┼───────────────────┼────────────┼───────────────────┤\n",
       "│ embedding_16        │ (<span style=\"color: #00d7ff; text-decoration-color: #00d7ff\">None</span>, <span style=\"color: #00af00; text-decoration-color: #00af00\">1</span>, <span style=\"color: #00af00; text-decoration-color: #00af00\">2</span>)      │          <span style=\"color: #00af00; text-decoration-color: #00af00\">8</span> │ Entity_LOC_Prese… │\n",
       "│ (<span style=\"color: #0087ff; text-decoration-color: #0087ff\">Embedding</span>)         │                   │            │                   │\n",
       "├─────────────────────┼───────────────────┼────────────┼───────────────────┤\n",
       "│ embedding_17        │ (<span style=\"color: #00d7ff; text-decoration-color: #00d7ff\">None</span>, <span style=\"color: #00af00; text-decoration-color: #00af00\">1</span>, <span style=\"color: #00af00; text-decoration-color: #00af00\">2</span>)      │          <span style=\"color: #00af00; text-decoration-color: #00af00\">8</span> │ Entity_MISC_Pres… │\n",
       "│ (<span style=\"color: #0087ff; text-decoration-color: #0087ff\">Embedding</span>)         │                   │            │                   │\n",
       "├─────────────────────┼───────────────────┼────────────┼───────────────────┤\n",
       "│ embedding_18        │ (<span style=\"color: #00d7ff; text-decoration-color: #00d7ff\">None</span>, <span style=\"color: #00af00; text-decoration-color: #00af00\">1</span>, <span style=\"color: #00af00; text-decoration-color: #00af00\">2</span>)      │          <span style=\"color: #00af00; text-decoration-color: #00af00\">8</span> │ Entity_ORG_Prese… │\n",
       "│ (<span style=\"color: #0087ff; text-decoration-color: #0087ff\">Embedding</span>)         │                   │            │                   │\n",
       "├─────────────────────┼───────────────────┼────────────┼───────────────────┤\n",
       "│ embedding_19        │ (<span style=\"color: #00d7ff; text-decoration-color: #00d7ff\">None</span>, <span style=\"color: #00af00; text-decoration-color: #00af00\">1</span>, <span style=\"color: #00af00; text-decoration-color: #00af00\">2</span>)      │          <span style=\"color: #00af00; text-decoration-color: #00af00\">8</span> │ Entity_PER_Prese… │\n",
       "│ (<span style=\"color: #0087ff; text-decoration-color: #0087ff\">Embedding</span>)         │                   │            │                   │\n",
       "├─────────────────────┼───────────────────┼────────────┼───────────────────┤\n",
       "│ embedding_20        │ (<span style=\"color: #00d7ff; text-decoration-color: #00d7ff\">None</span>, <span style=\"color: #00af00; text-decoration-color: #00af00\">1</span>, <span style=\"color: #00af00; text-decoration-color: #00af00\">2</span>)      │          <span style=\"color: #00af00; text-decoration-color: #00af00\">8</span> │ Entity_EVENT_Pre… │\n",
       "│ (<span style=\"color: #0087ff; text-decoration-color: #0087ff\">Embedding</span>)         │                   │            │                   │\n",
       "├─────────────────────┼───────────────────┼────────────┼───────────────────┤\n",
       "│ NumericInputNoise   │ (<span style=\"color: #00d7ff; text-decoration-color: #00d7ff\">None</span>, <span style=\"color: #00af00; text-decoration-color: #00af00\">273</span>)       │          <span style=\"color: #00af00; text-decoration-color: #00af00\">0</span> │ NumericInput[<span style=\"color: #00af00; text-decoration-color: #00af00\">0</span>][<span style=\"color: #00af00; text-decoration-color: #00af00\">…</span> │\n",
       "│ (<span style=\"color: #0087ff; text-decoration-color: #0087ff\">GaussianNoise</span>)     │                   │            │                   │\n",
       "├─────────────────────┼───────────────────┼────────────┼───────────────────┤\n",
       "│ flatten (<span style=\"color: #0087ff; text-decoration-color: #0087ff\">Flatten</span>)   │ (<span style=\"color: #00d7ff; text-decoration-color: #00d7ff\">None</span>, <span style=\"color: #00af00; text-decoration-color: #00af00\">2</span>)         │          <span style=\"color: #00af00; text-decoration-color: #00af00\">0</span> │ embedding[<span style=\"color: #00af00; text-decoration-color: #00af00\">0</span>][<span style=\"color: #00af00; text-decoration-color: #00af00\">0</span>]   │\n",
       "├─────────────────────┼───────────────────┼────────────┼───────────────────┤\n",
       "│ flatten_1 (<span style=\"color: #0087ff; text-decoration-color: #0087ff\">Flatten</span>) │ (<span style=\"color: #00d7ff; text-decoration-color: #00d7ff\">None</span>, <span style=\"color: #00af00; text-decoration-color: #00af00\">2</span>)         │          <span style=\"color: #00af00; text-decoration-color: #00af00\">0</span> │ embedding_1[<span style=\"color: #00af00; text-decoration-color: #00af00\">0</span>][<span style=\"color: #00af00; text-decoration-color: #00af00\">0</span>] │\n",
       "├─────────────────────┼───────────────────┼────────────┼───────────────────┤\n",
       "│ flatten_2 (<span style=\"color: #0087ff; text-decoration-color: #0087ff\">Flatten</span>) │ (<span style=\"color: #00d7ff; text-decoration-color: #00d7ff\">None</span>, <span style=\"color: #00af00; text-decoration-color: #00af00\">2</span>)         │          <span style=\"color: #00af00; text-decoration-color: #00af00\">0</span> │ embedding_2[<span style=\"color: #00af00; text-decoration-color: #00af00\">0</span>][<span style=\"color: #00af00; text-decoration-color: #00af00\">0</span>] │\n",
       "├─────────────────────┼───────────────────┼────────────┼───────────────────┤\n",
       "│ flatten_3 (<span style=\"color: #0087ff; text-decoration-color: #0087ff\">Flatten</span>) │ (<span style=\"color: #00d7ff; text-decoration-color: #00d7ff\">None</span>, <span style=\"color: #00af00; text-decoration-color: #00af00\">2</span>)         │          <span style=\"color: #00af00; text-decoration-color: #00af00\">0</span> │ embedding_3[<span style=\"color: #00af00; text-decoration-color: #00af00\">0</span>][<span style=\"color: #00af00; text-decoration-color: #00af00\">0</span>] │\n",
       "├─────────────────────┼───────────────────┼────────────┼───────────────────┤\n",
       "│ flatten_4 (<span style=\"color: #0087ff; text-decoration-color: #0087ff\">Flatten</span>) │ (<span style=\"color: #00d7ff; text-decoration-color: #00d7ff\">None</span>, <span style=\"color: #00af00; text-decoration-color: #00af00\">4</span>)         │          <span style=\"color: #00af00; text-decoration-color: #00af00\">0</span> │ embedding_4[<span style=\"color: #00af00; text-decoration-color: #00af00\">0</span>][<span style=\"color: #00af00; text-decoration-color: #00af00\">0</span>] │\n",
       "├─────────────────────┼───────────────────┼────────────┼───────────────────┤\n",
       "│ flatten_5 (<span style=\"color: #0087ff; text-decoration-color: #0087ff\">Flatten</span>) │ (<span style=\"color: #00d7ff; text-decoration-color: #00d7ff\">None</span>, <span style=\"color: #00af00; text-decoration-color: #00af00\">2</span>)         │          <span style=\"color: #00af00; text-decoration-color: #00af00\">0</span> │ embedding_5[<span style=\"color: #00af00; text-decoration-color: #00af00\">0</span>][<span style=\"color: #00af00; text-decoration-color: #00af00\">0</span>] │\n",
       "├─────────────────────┼───────────────────┼────────────┼───────────────────┤\n",
       "│ flatten_6 (<span style=\"color: #0087ff; text-decoration-color: #0087ff\">Flatten</span>) │ (<span style=\"color: #00d7ff; text-decoration-color: #00d7ff\">None</span>, <span style=\"color: #00af00; text-decoration-color: #00af00\">8</span>)         │          <span style=\"color: #00af00; text-decoration-color: #00af00\">0</span> │ embedding_6[<span style=\"color: #00af00; text-decoration-color: #00af00\">0</span>][<span style=\"color: #00af00; text-decoration-color: #00af00\">0</span>] │\n",
       "├─────────────────────┼───────────────────┼────────────┼───────────────────┤\n",
       "│ flatten_7 (<span style=\"color: #0087ff; text-decoration-color: #0087ff\">Flatten</span>) │ (<span style=\"color: #00d7ff; text-decoration-color: #00d7ff\">None</span>, <span style=\"color: #00af00; text-decoration-color: #00af00\">2</span>)         │          <span style=\"color: #00af00; text-decoration-color: #00af00\">0</span> │ embedding_7[<span style=\"color: #00af00; text-decoration-color: #00af00\">0</span>][<span style=\"color: #00af00; text-decoration-color: #00af00\">0</span>] │\n",
       "├─────────────────────┼───────────────────┼────────────┼───────────────────┤\n",
       "│ flatten_8 (<span style=\"color: #0087ff; text-decoration-color: #0087ff\">Flatten</span>) │ (<span style=\"color: #00d7ff; text-decoration-color: #00d7ff\">None</span>, <span style=\"color: #00af00; text-decoration-color: #00af00\">2</span>)         │          <span style=\"color: #00af00; text-decoration-color: #00af00\">0</span> │ embedding_8[<span style=\"color: #00af00; text-decoration-color: #00af00\">0</span>][<span style=\"color: #00af00; text-decoration-color: #00af00\">0</span>] │\n",
       "├─────────────────────┼───────────────────┼────────────┼───────────────────┤\n",
       "│ flatten_9 (<span style=\"color: #0087ff; text-decoration-color: #0087ff\">Flatten</span>) │ (<span style=\"color: #00d7ff; text-decoration-color: #00d7ff\">None</span>, <span style=\"color: #00af00; text-decoration-color: #00af00\">2</span>)         │          <span style=\"color: #00af00; text-decoration-color: #00af00\">0</span> │ embedding_9[<span style=\"color: #00af00; text-decoration-color: #00af00\">0</span>][<span style=\"color: #00af00; text-decoration-color: #00af00\">0</span>] │\n",
       "├─────────────────────┼───────────────────┼────────────┼───────────────────┤\n",
       "│ flatten_10          │ (<span style=\"color: #00d7ff; text-decoration-color: #00d7ff\">None</span>, <span style=\"color: #00af00; text-decoration-color: #00af00\">6</span>)         │          <span style=\"color: #00af00; text-decoration-color: #00af00\">0</span> │ embedding_10[<span style=\"color: #00af00; text-decoration-color: #00af00\">0</span>][<span style=\"color: #00af00; text-decoration-color: #00af00\">…</span> │\n",
       "│ (<span style=\"color: #0087ff; text-decoration-color: #0087ff\">Flatten</span>)           │                   │            │                   │\n",
       "├─────────────────────┼───────────────────┼────────────┼───────────────────┤\n",
       "│ flatten_11          │ (<span style=\"color: #00d7ff; text-decoration-color: #00d7ff\">None</span>, <span style=\"color: #00af00; text-decoration-color: #00af00\">4</span>)         │          <span style=\"color: #00af00; text-decoration-color: #00af00\">0</span> │ embedding_11[<span style=\"color: #00af00; text-decoration-color: #00af00\">0</span>][<span style=\"color: #00af00; text-decoration-color: #00af00\">…</span> │\n",
       "│ (<span style=\"color: #0087ff; text-decoration-color: #0087ff\">Flatten</span>)           │                   │            │                   │\n",
       "├─────────────────────┼───────────────────┼────────────┼───────────────────┤\n",
       "│ flatten_12          │ (<span style=\"color: #00d7ff; text-decoration-color: #00d7ff\">None</span>, <span style=\"color: #00af00; text-decoration-color: #00af00\">2</span>)         │          <span style=\"color: #00af00; text-decoration-color: #00af00\">0</span> │ embedding_12[<span style=\"color: #00af00; text-decoration-color: #00af00\">0</span>][<span style=\"color: #00af00; text-decoration-color: #00af00\">…</span> │\n",
       "│ (<span style=\"color: #0087ff; text-decoration-color: #0087ff\">Flatten</span>)           │                   │            │                   │\n",
       "├─────────────────────┼───────────────────┼────────────┼───────────────────┤\n",
       "│ flatten_13          │ (<span style=\"color: #00d7ff; text-decoration-color: #00d7ff\">None</span>, <span style=\"color: #00af00; text-decoration-color: #00af00\">6</span>)         │          <span style=\"color: #00af00; text-decoration-color: #00af00\">0</span> │ embedding_13[<span style=\"color: #00af00; text-decoration-color: #00af00\">0</span>][<span style=\"color: #00af00; text-decoration-color: #00af00\">…</span> │\n",
       "│ (<span style=\"color: #0087ff; text-decoration-color: #0087ff\">Flatten</span>)           │                   │            │                   │\n",
       "├─────────────────────┼───────────────────┼────────────┼───────────────────┤\n",
       "│ flatten_14          │ (<span style=\"color: #00d7ff; text-decoration-color: #00d7ff\">None</span>, <span style=\"color: #00af00; text-decoration-color: #00af00\">4</span>)         │          <span style=\"color: #00af00; text-decoration-color: #00af00\">0</span> │ embedding_14[<span style=\"color: #00af00; text-decoration-color: #00af00\">0</span>][<span style=\"color: #00af00; text-decoration-color: #00af00\">…</span> │\n",
       "│ (<span style=\"color: #0087ff; text-decoration-color: #0087ff\">Flatten</span>)           │                   │            │                   │\n",
       "├─────────────────────┼───────────────────┼────────────┼───────────────────┤\n",
       "│ flatten_15          │ (<span style=\"color: #00d7ff; text-decoration-color: #00d7ff\">None</span>, <span style=\"color: #00af00; text-decoration-color: #00af00\">2</span>)         │          <span style=\"color: #00af00; text-decoration-color: #00af00\">0</span> │ embedding_15[<span style=\"color: #00af00; text-decoration-color: #00af00\">0</span>][<span style=\"color: #00af00; text-decoration-color: #00af00\">…</span> │\n",
       "│ (<span style=\"color: #0087ff; text-decoration-color: #0087ff\">Flatten</span>)           │                   │            │                   │\n",
       "├─────────────────────┼───────────────────┼────────────┼───────────────────┤\n",
       "│ flatten_16          │ (<span style=\"color: #00d7ff; text-decoration-color: #00d7ff\">None</span>, <span style=\"color: #00af00; text-decoration-color: #00af00\">2</span>)         │          <span style=\"color: #00af00; text-decoration-color: #00af00\">0</span> │ embedding_16[<span style=\"color: #00af00; text-decoration-color: #00af00\">0</span>][<span style=\"color: #00af00; text-decoration-color: #00af00\">…</span> │\n",
       "│ (<span style=\"color: #0087ff; text-decoration-color: #0087ff\">Flatten</span>)           │                   │            │                   │\n",
       "├─────────────────────┼───────────────────┼────────────┼───────────────────┤\n",
       "│ flatten_17          │ (<span style=\"color: #00d7ff; text-decoration-color: #00d7ff\">None</span>, <span style=\"color: #00af00; text-decoration-color: #00af00\">2</span>)         │          <span style=\"color: #00af00; text-decoration-color: #00af00\">0</span> │ embedding_17[<span style=\"color: #00af00; text-decoration-color: #00af00\">0</span>][<span style=\"color: #00af00; text-decoration-color: #00af00\">…</span> │\n",
       "│ (<span style=\"color: #0087ff; text-decoration-color: #0087ff\">Flatten</span>)           │                   │            │                   │\n",
       "├─────────────────────┼───────────────────┼────────────┼───────────────────┤\n",
       "│ flatten_18          │ (<span style=\"color: #00d7ff; text-decoration-color: #00d7ff\">None</span>, <span style=\"color: #00af00; text-decoration-color: #00af00\">2</span>)         │          <span style=\"color: #00af00; text-decoration-color: #00af00\">0</span> │ embedding_18[<span style=\"color: #00af00; text-decoration-color: #00af00\">0</span>][<span style=\"color: #00af00; text-decoration-color: #00af00\">…</span> │\n",
       "│ (<span style=\"color: #0087ff; text-decoration-color: #0087ff\">Flatten</span>)           │                   │            │                   │\n",
       "├─────────────────────┼───────────────────┼────────────┼───────────────────┤\n",
       "│ flatten_19          │ (<span style=\"color: #00d7ff; text-decoration-color: #00d7ff\">None</span>, <span style=\"color: #00af00; text-decoration-color: #00af00\">2</span>)         │          <span style=\"color: #00af00; text-decoration-color: #00af00\">0</span> │ embedding_19[<span style=\"color: #00af00; text-decoration-color: #00af00\">0</span>][<span style=\"color: #00af00; text-decoration-color: #00af00\">…</span> │\n",
       "│ (<span style=\"color: #0087ff; text-decoration-color: #0087ff\">Flatten</span>)           │                   │            │                   │\n",
       "├─────────────────────┼───────────────────┼────────────┼───────────────────┤\n",
       "│ flatten_20          │ (<span style=\"color: #00d7ff; text-decoration-color: #00d7ff\">None</span>, <span style=\"color: #00af00; text-decoration-color: #00af00\">2</span>)         │          <span style=\"color: #00af00; text-decoration-color: #00af00\">0</span> │ embedding_20[<span style=\"color: #00af00; text-decoration-color: #00af00\">0</span>][<span style=\"color: #00af00; text-decoration-color: #00af00\">…</span> │\n",
       "│ (<span style=\"color: #0087ff; text-decoration-color: #0087ff\">Flatten</span>)           │                   │            │                   │\n",
       "├─────────────────────┼───────────────────┼────────────┼───────────────────┤\n",
       "│ concatenate         │ (<span style=\"color: #00d7ff; text-decoration-color: #00d7ff\">None</span>, <span style=\"color: #00af00; text-decoration-color: #00af00\">335</span>)       │          <span style=\"color: #00af00; text-decoration-color: #00af00\">0</span> │ NumericInputNois… │\n",
       "│ (<span style=\"color: #0087ff; text-decoration-color: #0087ff\">Concatenate</span>)       │                   │            │ flatten[<span style=\"color: #00af00; text-decoration-color: #00af00\">0</span>][<span style=\"color: #00af00; text-decoration-color: #00af00\">0</span>],    │\n",
       "│                     │                   │            │ flatten_1[<span style=\"color: #00af00; text-decoration-color: #00af00\">0</span>][<span style=\"color: #00af00; text-decoration-color: #00af00\">0</span>],  │\n",
       "│                     │                   │            │ flatten_2[<span style=\"color: #00af00; text-decoration-color: #00af00\">0</span>][<span style=\"color: #00af00; text-decoration-color: #00af00\">0</span>],  │\n",
       "│                     │                   │            │ flatten_3[<span style=\"color: #00af00; text-decoration-color: #00af00\">0</span>][<span style=\"color: #00af00; text-decoration-color: #00af00\">0</span>],  │\n",
       "│                     │                   │            │ flatten_4[<span style=\"color: #00af00; text-decoration-color: #00af00\">0</span>][<span style=\"color: #00af00; text-decoration-color: #00af00\">0</span>],  │\n",
       "│                     │                   │            │ flatten_5[<span style=\"color: #00af00; text-decoration-color: #00af00\">0</span>][<span style=\"color: #00af00; text-decoration-color: #00af00\">0</span>],  │\n",
       "│                     │                   │            │ flatten_6[<span style=\"color: #00af00; text-decoration-color: #00af00\">0</span>][<span style=\"color: #00af00; text-decoration-color: #00af00\">0</span>],  │\n",
       "│                     │                   │            │ flatten_7[<span style=\"color: #00af00; text-decoration-color: #00af00\">0</span>][<span style=\"color: #00af00; text-decoration-color: #00af00\">0</span>],  │\n",
       "│                     │                   │            │ flatten_8[<span style=\"color: #00af00; text-decoration-color: #00af00\">0</span>][<span style=\"color: #00af00; text-decoration-color: #00af00\">0</span>],  │\n",
       "│                     │                   │            │ flatten_9[<span style=\"color: #00af00; text-decoration-color: #00af00\">0</span>][<span style=\"color: #00af00; text-decoration-color: #00af00\">0</span>],  │\n",
       "│                     │                   │            │ flatten_10[<span style=\"color: #00af00; text-decoration-color: #00af00\">0</span>][<span style=\"color: #00af00; text-decoration-color: #00af00\">0</span>], │\n",
       "│                     │                   │            │ flatten_11[<span style=\"color: #00af00; text-decoration-color: #00af00\">0</span>][<span style=\"color: #00af00; text-decoration-color: #00af00\">0</span>], │\n",
       "│                     │                   │            │ flatten_12[<span style=\"color: #00af00; text-decoration-color: #00af00\">0</span>][<span style=\"color: #00af00; text-decoration-color: #00af00\">0</span>], │\n",
       "│                     │                   │            │ flatten_13[<span style=\"color: #00af00; text-decoration-color: #00af00\">0</span>][<span style=\"color: #00af00; text-decoration-color: #00af00\">0</span>], │\n",
       "│                     │                   │            │ flatten_14[<span style=\"color: #00af00; text-decoration-color: #00af00\">0</span>][<span style=\"color: #00af00; text-decoration-color: #00af00\">0</span>], │\n",
       "│                     │                   │            │ flatten_15[<span style=\"color: #00af00; text-decoration-color: #00af00\">0</span>][<span style=\"color: #00af00; text-decoration-color: #00af00\">0</span>], │\n",
       "│                     │                   │            │ flatten_16[<span style=\"color: #00af00; text-decoration-color: #00af00\">0</span>][<span style=\"color: #00af00; text-decoration-color: #00af00\">0</span>], │\n",
       "│                     │                   │            │ flatten_17[<span style=\"color: #00af00; text-decoration-color: #00af00\">0</span>][<span style=\"color: #00af00; text-decoration-color: #00af00\">0</span>], │\n",
       "│                     │                   │            │ flatten_18[<span style=\"color: #00af00; text-decoration-color: #00af00\">0</span>][<span style=\"color: #00af00; text-decoration-color: #00af00\">0</span>], │\n",
       "│                     │                   │            │ flatten_19[<span style=\"color: #00af00; text-decoration-color: #00af00\">0</span>][<span style=\"color: #00af00; text-decoration-color: #00af00\">0</span>], │\n",
       "│                     │                   │            │ flatten_20[<span style=\"color: #00af00; text-decoration-color: #00af00\">0</span>][<span style=\"color: #00af00; text-decoration-color: #00af00\">0</span>]  │\n",
       "├─────────────────────┼───────────────────┼────────────┼───────────────────┤\n",
       "│ DeepDense0 (<span style=\"color: #0087ff; text-decoration-color: #0087ff\">Dense</span>)  │ (<span style=\"color: #00d7ff; text-decoration-color: #00d7ff\">None</span>, <span style=\"color: #00af00; text-decoration-color: #00af00\">512</span>)       │    <span style=\"color: #00af00; text-decoration-color: #00af00\">172,032</span> │ concatenate[<span style=\"color: #00af00; text-decoration-color: #00af00\">0</span>][<span style=\"color: #00af00; text-decoration-color: #00af00\">0</span>] │\n",
       "├─────────────────────┼───────────────────┼────────────┼───────────────────┤\n",
       "│ DeepBatchNormaliza… │ (<span style=\"color: #00d7ff; text-decoration-color: #00d7ff\">None</span>, <span style=\"color: #00af00; text-decoration-color: #00af00\">512</span>)       │      <span style=\"color: #00af00; text-decoration-color: #00af00\">2,048</span> │ DeepDense0[<span style=\"color: #00af00; text-decoration-color: #00af00\">0</span>][<span style=\"color: #00af00; text-decoration-color: #00af00\">0</span>]  │\n",
       "│ (<span style=\"color: #0087ff; text-decoration-color: #0087ff\">BatchNormalizatio…</span> │                   │            │                   │\n",
       "├─────────────────────┼───────────────────┼────────────┼───────────────────┤\n",
       "│ DeepActivation0     │ (<span style=\"color: #00d7ff; text-decoration-color: #00d7ff\">None</span>, <span style=\"color: #00af00; text-decoration-color: #00af00\">512</span>)       │          <span style=\"color: #00af00; text-decoration-color: #00af00\">0</span> │ DeepBatchNormali… │\n",
       "│ (<span style=\"color: #0087ff; text-decoration-color: #0087ff\">Activation</span>)        │                   │            │                   │\n",
       "├─────────────────────┼───────────────────┼────────────┼───────────────────┤\n",
       "│ DeepDropout0        │ (<span style=\"color: #00d7ff; text-decoration-color: #00d7ff\">None</span>, <span style=\"color: #00af00; text-decoration-color: #00af00\">512</span>)       │          <span style=\"color: #00af00; text-decoration-color: #00af00\">0</span> │ DeepActivation0[<span style=\"color: #00af00; text-decoration-color: #00af00\">…</span> │\n",
       "│ (<span style=\"color: #0087ff; text-decoration-color: #0087ff\">Dropout</span>)           │                   │            │                   │\n",
       "├─────────────────────┼───────────────────┼────────────┼───────────────────┤\n",
       "│ DeepDense1 (<span style=\"color: #0087ff; text-decoration-color: #0087ff\">Dense</span>)  │ (<span style=\"color: #00d7ff; text-decoration-color: #00d7ff\">None</span>, <span style=\"color: #00af00; text-decoration-color: #00af00\">256</span>)       │    <span style=\"color: #00af00; text-decoration-color: #00af00\">131,328</span> │ DeepDropout0[<span style=\"color: #00af00; text-decoration-color: #00af00\">0</span>][<span style=\"color: #00af00; text-decoration-color: #00af00\">…</span> │\n",
       "├─────────────────────┼───────────────────┼────────────┼───────────────────┤\n",
       "│ DeepBatchNormaliza… │ (<span style=\"color: #00d7ff; text-decoration-color: #00d7ff\">None</span>, <span style=\"color: #00af00; text-decoration-color: #00af00\">256</span>)       │      <span style=\"color: #00af00; text-decoration-color: #00af00\">1,024</span> │ DeepDense1[<span style=\"color: #00af00; text-decoration-color: #00af00\">0</span>][<span style=\"color: #00af00; text-decoration-color: #00af00\">0</span>]  │\n",
       "│ (<span style=\"color: #0087ff; text-decoration-color: #0087ff\">BatchNormalizatio…</span> │                   │            │                   │\n",
       "├─────────────────────┼───────────────────┼────────────┼───────────────────┤\n",
       "│ DeepActivation1     │ (<span style=\"color: #00d7ff; text-decoration-color: #00d7ff\">None</span>, <span style=\"color: #00af00; text-decoration-color: #00af00\">256</span>)       │          <span style=\"color: #00af00; text-decoration-color: #00af00\">0</span> │ DeepBatchNormali… │\n",
       "│ (<span style=\"color: #0087ff; text-decoration-color: #0087ff\">Activation</span>)        │                   │            │                   │\n",
       "├─────────────────────┼───────────────────┼────────────┼───────────────────┤\n",
       "│ DeepDropout1        │ (<span style=\"color: #00d7ff; text-decoration-color: #00d7ff\">None</span>, <span style=\"color: #00af00; text-decoration-color: #00af00\">256</span>)       │          <span style=\"color: #00af00; text-decoration-color: #00af00\">0</span> │ DeepActivation1[<span style=\"color: #00af00; text-decoration-color: #00af00\">…</span> │\n",
       "│ (<span style=\"color: #0087ff; text-decoration-color: #0087ff\">Dropout</span>)           │                   │            │                   │\n",
       "├─────────────────────┼───────────────────┼────────────┼───────────────────┤\n",
       "│ DeepDense2 (<span style=\"color: #0087ff; text-decoration-color: #0087ff\">Dense</span>)  │ (<span style=\"color: #00d7ff; text-decoration-color: #00d7ff\">None</span>, <span style=\"color: #00af00; text-decoration-color: #00af00\">128</span>)       │     <span style=\"color: #00af00; text-decoration-color: #00af00\">32,896</span> │ DeepDropout1[<span style=\"color: #00af00; text-decoration-color: #00af00\">0</span>][<span style=\"color: #00af00; text-decoration-color: #00af00\">…</span> │\n",
       "├─────────────────────┼───────────────────┼────────────┼───────────────────┤\n",
       "│ DeepBatchNormaliza… │ (<span style=\"color: #00d7ff; text-decoration-color: #00d7ff\">None</span>, <span style=\"color: #00af00; text-decoration-color: #00af00\">128</span>)       │        <span style=\"color: #00af00; text-decoration-color: #00af00\">512</span> │ DeepDense2[<span style=\"color: #00af00; text-decoration-color: #00af00\">0</span>][<span style=\"color: #00af00; text-decoration-color: #00af00\">0</span>]  │\n",
       "│ (<span style=\"color: #0087ff; text-decoration-color: #0087ff\">BatchNormalizatio…</span> │                   │            │                   │\n",
       "├─────────────────────┼───────────────────┼────────────┼───────────────────┤\n",
       "│ DeepActivation2     │ (<span style=\"color: #00d7ff; text-decoration-color: #00d7ff\">None</span>, <span style=\"color: #00af00; text-decoration-color: #00af00\">128</span>)       │          <span style=\"color: #00af00; text-decoration-color: #00af00\">0</span> │ DeepBatchNormali… │\n",
       "│ (<span style=\"color: #0087ff; text-decoration-color: #0087ff\">Activation</span>)        │                   │            │                   │\n",
       "├─────────────────────┼───────────────────┼────────────┼───────────────────┤\n",
       "│ DeepDropout2        │ (<span style=\"color: #00d7ff; text-decoration-color: #00d7ff\">None</span>, <span style=\"color: #00af00; text-decoration-color: #00af00\">128</span>)       │          <span style=\"color: #00af00; text-decoration-color: #00af00\">0</span> │ DeepActivation2[<span style=\"color: #00af00; text-decoration-color: #00af00\">…</span> │\n",
       "│ (<span style=\"color: #0087ff; text-decoration-color: #0087ff\">Dropout</span>)           │                   │            │                   │\n",
       "├─────────────────────┼───────────────────┼────────────┼───────────────────┤\n",
       "│ DeepDense3 (<span style=\"color: #0087ff; text-decoration-color: #0087ff\">Dense</span>)  │ (<span style=\"color: #00d7ff; text-decoration-color: #00d7ff\">None</span>, <span style=\"color: #00af00; text-decoration-color: #00af00\">64</span>)        │      <span style=\"color: #00af00; text-decoration-color: #00af00\">8,256</span> │ DeepDropout2[<span style=\"color: #00af00; text-decoration-color: #00af00\">0</span>][<span style=\"color: #00af00; text-decoration-color: #00af00\">…</span> │\n",
       "├─────────────────────┼───────────────────┼────────────┼───────────────────┤\n",
       "│ DeepBatchNormaliza… │ (<span style=\"color: #00d7ff; text-decoration-color: #00d7ff\">None</span>, <span style=\"color: #00af00; text-decoration-color: #00af00\">64</span>)        │        <span style=\"color: #00af00; text-decoration-color: #00af00\">256</span> │ DeepDense3[<span style=\"color: #00af00; text-decoration-color: #00af00\">0</span>][<span style=\"color: #00af00; text-decoration-color: #00af00\">0</span>]  │\n",
       "│ (<span style=\"color: #0087ff; text-decoration-color: #0087ff\">BatchNormalizatio…</span> │                   │            │                   │\n",
       "├─────────────────────┼───────────────────┼────────────┼───────────────────┤\n",
       "│ DeepActivation3     │ (<span style=\"color: #00d7ff; text-decoration-color: #00d7ff\">None</span>, <span style=\"color: #00af00; text-decoration-color: #00af00\">64</span>)        │          <span style=\"color: #00af00; text-decoration-color: #00af00\">0</span> │ DeepBatchNormali… │\n",
       "│ (<span style=\"color: #0087ff; text-decoration-color: #0087ff\">Activation</span>)        │                   │            │                   │\n",
       "├─────────────────────┼───────────────────┼────────────┼───────────────────┤\n",
       "│ DeepDropout3        │ (<span style=\"color: #00d7ff; text-decoration-color: #00d7ff\">None</span>, <span style=\"color: #00af00; text-decoration-color: #00af00\">64</span>)        │          <span style=\"color: #00af00; text-decoration-color: #00af00\">0</span> │ DeepActivation3[<span style=\"color: #00af00; text-decoration-color: #00af00\">…</span> │\n",
       "│ (<span style=\"color: #0087ff; text-decoration-color: #0087ff\">Dropout</span>)           │                   │            │                   │\n",
       "├─────────────────────┼───────────────────┼────────────┼───────────────────┤\n",
       "│ OutputDense (<span style=\"color: #0087ff; text-decoration-color: #0087ff\">Dense</span>) │ (<span style=\"color: #00d7ff; text-decoration-color: #00d7ff\">None</span>, <span style=\"color: #00af00; text-decoration-color: #00af00\">1</span>)         │         <span style=\"color: #00af00; text-decoration-color: #00af00\">65</span> │ DeepDropout3[<span style=\"color: #00af00; text-decoration-color: #00af00\">0</span>][<span style=\"color: #00af00; text-decoration-color: #00af00\">…</span> │\n",
       "└─────────────────────┴───────────────────┴────────────┴───────────────────┘\n",
       "</pre>\n"
      ],
      "text/plain": [
       "┏━━━━━━━━━━━━━━━━━━━━━┳━━━━━━━━━━━━━━━━━━━┳━━━━━━━━━━━━┳━━━━━━━━━━━━━━━━━━━┓\n",
       "┃\u001b[1m \u001b[0m\u001b[1mLayer (type)       \u001b[0m\u001b[1m \u001b[0m┃\u001b[1m \u001b[0m\u001b[1mOutput Shape     \u001b[0m\u001b[1m \u001b[0m┃\u001b[1m \u001b[0m\u001b[1m   Param #\u001b[0m\u001b[1m \u001b[0m┃\u001b[1m \u001b[0m\u001b[1mConnected to     \u001b[0m\u001b[1m \u001b[0m┃\n",
       "┡━━━━━━━━━━━━━━━━━━━━━╇━━━━━━━━━━━━━━━━━━━╇━━━━━━━━━━━━╇━━━━━━━━━━━━━━━━━━━┩\n",
       "│ device_typeInput    │ (\u001b[38;5;45mNone\u001b[0m, \u001b[38;5;34m1\u001b[0m)         │          \u001b[38;5;34m0\u001b[0m │ -                 │\n",
       "│ (\u001b[38;5;33mInputLayer\u001b[0m)        │                   │            │                   │\n",
       "├─────────────────────┼───────────────────┼────────────┼───────────────────┤\n",
       "│ is_sso_userInput    │ (\u001b[38;5;45mNone\u001b[0m, \u001b[38;5;34m1\u001b[0m)         │          \u001b[38;5;34m0\u001b[0m │ -                 │\n",
       "│ (\u001b[38;5;33mInputLayer\u001b[0m)        │                   │            │                   │\n",
       "├─────────────────────┼───────────────────┼────────────┼───────────────────┤\n",
       "│ genderInput         │ (\u001b[38;5;45mNone\u001b[0m, \u001b[38;5;34m1\u001b[0m)         │          \u001b[38;5;34m0\u001b[0m │ -                 │\n",
       "│ (\u001b[38;5;33mInputLayer\u001b[0m)        │                   │            │                   │\n",
       "├─────────────────────┼───────────────────┼────────────┼───────────────────┤\n",
       "│ is_subscriberInput  │ (\u001b[38;5;45mNone\u001b[0m, \u001b[38;5;34m1\u001b[0m)         │          \u001b[38;5;34m0\u001b[0m │ -                 │\n",
       "│ (\u001b[38;5;33mInputLayer\u001b[0m)        │                   │            │                   │\n",
       "├─────────────────────┼───────────────────┼────────────┼───────────────────┤\n",
       "│ weekdayInput        │ (\u001b[38;5;45mNone\u001b[0m, \u001b[38;5;34m1\u001b[0m)         │          \u001b[38;5;34m0\u001b[0m │ -                 │\n",
       "│ (\u001b[38;5;33mInputLayer\u001b[0m)        │                   │            │                   │\n",
       "├─────────────────────┼───────────────────┼────────────┼───────────────────┤\n",
       "│ premiumInput        │ (\u001b[38;5;45mNone\u001b[0m, \u001b[38;5;34m1\u001b[0m)         │          \u001b[38;5;34m0\u001b[0m │ -                 │\n",
       "│ (\u001b[38;5;33mInputLayer\u001b[0m)        │                   │            │                   │\n",
       "├─────────────────────┼───────────────────┼────────────┼───────────────────┤\n",
       "│ categoryInput       │ (\u001b[38;5;45mNone\u001b[0m, \u001b[38;5;34m1\u001b[0m)         │          \u001b[38;5;34m0\u001b[0m │ -                 │\n",
       "│ (\u001b[38;5;33mInputLayer\u001b[0m)        │                   │            │                   │\n",
       "├─────────────────────┼───────────────────┼────────────┼───────────────────┤\n",
       "│ sentiment_labelInp… │ (\u001b[38;5;45mNone\u001b[0m, \u001b[38;5;34m1\u001b[0m)         │          \u001b[38;5;34m0\u001b[0m │ -                 │\n",
       "│ (\u001b[38;5;33mInputLayer\u001b[0m)        │                   │            │                   │\n",
       "├─────────────────────┼───────────────────┼────────────┼───────────────────┤\n",
       "│ is_new_articleInput │ (\u001b[38;5;45mNone\u001b[0m, \u001b[38;5;34m1\u001b[0m)         │          \u001b[38;5;34m0\u001b[0m │ -                 │\n",
       "│ (\u001b[38;5;33mInputLayer\u001b[0m)        │                   │            │                   │\n",
       "├─────────────────────┼───────────────────┼────────────┼───────────────────┤\n",
       "│ is_already_seen_ar… │ (\u001b[38;5;45mNone\u001b[0m, \u001b[38;5;34m1\u001b[0m)         │          \u001b[38;5;34m0\u001b[0m │ -                 │\n",
       "│ (\u001b[38;5;33mInputLayer\u001b[0m)        │                   │            │                   │\n",
       "├─────────────────────┼───────────────────┼────────────┼───────────────────┤\n",
       "│ MostFrequentCatego… │ (\u001b[38;5;45mNone\u001b[0m, \u001b[38;5;34m1\u001b[0m)         │          \u001b[38;5;34m0\u001b[0m │ -                 │\n",
       "│ (\u001b[38;5;33mInputLayer\u001b[0m)        │                   │            │                   │\n",
       "├─────────────────────┼───────────────────┼────────────┼───────────────────┤\n",
       "│ MostFrequentWeekda… │ (\u001b[38;5;45mNone\u001b[0m, \u001b[38;5;34m1\u001b[0m)         │          \u001b[38;5;34m0\u001b[0m │ -                 │\n",
       "│ (\u001b[38;5;33mInputLayer\u001b[0m)        │                   │            │                   │\n",
       "├─────────────────────┼───────────────────┼────────────┼───────────────────┤\n",
       "│ IsFavouriteCategor… │ (\u001b[38;5;45mNone\u001b[0m, \u001b[38;5;34m1\u001b[0m)         │          \u001b[38;5;34m0\u001b[0m │ -                 │\n",
       "│ (\u001b[38;5;33mInputLayer\u001b[0m)        │                   │            │                   │\n",
       "├─────────────────────┼───────────────────┼────────────┼───────────────────┤\n",
       "│ article_typeInput   │ (\u001b[38;5;45mNone\u001b[0m, \u001b[38;5;34m1\u001b[0m)         │          \u001b[38;5;34m0\u001b[0m │ -                 │\n",
       "│ (\u001b[38;5;33mInputLayer\u001b[0m)        │                   │            │                   │\n",
       "├─────────────────────┼───────────────────┼────────────┼───────────────────┤\n",
       "│ postcodeInput       │ (\u001b[38;5;45mNone\u001b[0m, \u001b[38;5;34m1\u001b[0m)         │          \u001b[38;5;34m0\u001b[0m │ -                 │\n",
       "│ (\u001b[38;5;33mInputLayer\u001b[0m)        │                   │            │                   │\n",
       "├─────────────────────┼───────────────────┼────────────┼───────────────────┤\n",
       "│ Entity_PROD_Presen… │ (\u001b[38;5;45mNone\u001b[0m, \u001b[38;5;34m1\u001b[0m)         │          \u001b[38;5;34m0\u001b[0m │ -                 │\n",
       "│ (\u001b[38;5;33mInputLayer\u001b[0m)        │                   │            │                   │\n",
       "├─────────────────────┼───────────────────┼────────────┼───────────────────┤\n",
       "│ Entity_LOC_Present… │ (\u001b[38;5;45mNone\u001b[0m, \u001b[38;5;34m1\u001b[0m)         │          \u001b[38;5;34m0\u001b[0m │ -                 │\n",
       "│ (\u001b[38;5;33mInputLayer\u001b[0m)        │                   │            │                   │\n",
       "├─────────────────────┼───────────────────┼────────────┼───────────────────┤\n",
       "│ Entity_MISC_Presen… │ (\u001b[38;5;45mNone\u001b[0m, \u001b[38;5;34m1\u001b[0m)         │          \u001b[38;5;34m0\u001b[0m │ -                 │\n",
       "│ (\u001b[38;5;33mInputLayer\u001b[0m)        │                   │            │                   │\n",
       "├─────────────────────┼───────────────────┼────────────┼───────────────────┤\n",
       "│ Entity_ORG_Present… │ (\u001b[38;5;45mNone\u001b[0m, \u001b[38;5;34m1\u001b[0m)         │          \u001b[38;5;34m0\u001b[0m │ -                 │\n",
       "│ (\u001b[38;5;33mInputLayer\u001b[0m)        │                   │            │                   │\n",
       "├─────────────────────┼───────────────────┼────────────┼───────────────────┤\n",
       "│ Entity_PER_Present… │ (\u001b[38;5;45mNone\u001b[0m, \u001b[38;5;34m1\u001b[0m)         │          \u001b[38;5;34m0\u001b[0m │ -                 │\n",
       "│ (\u001b[38;5;33mInputLayer\u001b[0m)        │                   │            │                   │\n",
       "├─────────────────────┼───────────────────┼────────────┼───────────────────┤\n",
       "│ Entity_EVENT_Prese… │ (\u001b[38;5;45mNone\u001b[0m, \u001b[38;5;34m1\u001b[0m)         │          \u001b[38;5;34m0\u001b[0m │ -                 │\n",
       "│ (\u001b[38;5;33mInputLayer\u001b[0m)        │                   │            │                   │\n",
       "├─────────────────────┼───────────────────┼────────────┼───────────────────┤\n",
       "│ NumericInput        │ (\u001b[38;5;45mNone\u001b[0m, \u001b[38;5;34m273\u001b[0m)       │          \u001b[38;5;34m0\u001b[0m │ -                 │\n",
       "│ (\u001b[38;5;33mInputLayer\u001b[0m)        │                   │            │                   │\n",
       "├─────────────────────┼───────────────────┼────────────┼───────────────────┤\n",
       "│ embedding           │ (\u001b[38;5;45mNone\u001b[0m, \u001b[38;5;34m1\u001b[0m, \u001b[38;5;34m2\u001b[0m)      │         \u001b[38;5;34m10\u001b[0m │ device_typeInput… │\n",
       "│ (\u001b[38;5;33mEmbedding\u001b[0m)         │                   │            │                   │\n",
       "├─────────────────────┼───────────────────┼────────────┼───────────────────┤\n",
       "│ embedding_1         │ (\u001b[38;5;45mNone\u001b[0m, \u001b[38;5;34m1\u001b[0m, \u001b[38;5;34m2\u001b[0m)      │          \u001b[38;5;34m8\u001b[0m │ is_sso_userInput… │\n",
       "│ (\u001b[38;5;33mEmbedding\u001b[0m)         │                   │            │                   │\n",
       "├─────────────────────┼───────────────────┼────────────┼───────────────────┤\n",
       "│ embedding_2         │ (\u001b[38;5;45mNone\u001b[0m, \u001b[38;5;34m1\u001b[0m, \u001b[38;5;34m2\u001b[0m)      │         \u001b[38;5;34m10\u001b[0m │ genderInput[\u001b[38;5;34m0\u001b[0m][\u001b[38;5;34m0\u001b[0m] │\n",
       "│ (\u001b[38;5;33mEmbedding\u001b[0m)         │                   │            │                   │\n",
       "├─────────────────────┼───────────────────┼────────────┼───────────────────┤\n",
       "│ embedding_3         │ (\u001b[38;5;45mNone\u001b[0m, \u001b[38;5;34m1\u001b[0m, \u001b[38;5;34m2\u001b[0m)      │          \u001b[38;5;34m8\u001b[0m │ is_subscriberInp… │\n",
       "│ (\u001b[38;5;33mEmbedding\u001b[0m)         │                   │            │                   │\n",
       "├─────────────────────┼───────────────────┼────────────┼───────────────────┤\n",
       "│ embedding_4         │ (\u001b[38;5;45mNone\u001b[0m, \u001b[38;5;34m1\u001b[0m, \u001b[38;5;34m4\u001b[0m)      │         \u001b[38;5;34m36\u001b[0m │ weekdayInput[\u001b[38;5;34m0\u001b[0m][\u001b[38;5;34m…\u001b[0m │\n",
       "│ (\u001b[38;5;33mEmbedding\u001b[0m)         │                   │            │                   │\n",
       "├─────────────────────┼───────────────────┼────────────┼───────────────────┤\n",
       "│ embedding_5         │ (\u001b[38;5;45mNone\u001b[0m, \u001b[38;5;34m1\u001b[0m, \u001b[38;5;34m2\u001b[0m)      │          \u001b[38;5;34m8\u001b[0m │ premiumInput[\u001b[38;5;34m0\u001b[0m][\u001b[38;5;34m…\u001b[0m │\n",
       "│ (\u001b[38;5;33mEmbedding\u001b[0m)         │                   │            │                   │\n",
       "├─────────────────────┼───────────────────┼────────────┼───────────────────┤\n",
       "│ embedding_6         │ (\u001b[38;5;45mNone\u001b[0m, \u001b[38;5;34m1\u001b[0m, \u001b[38;5;34m8\u001b[0m)      │        \u001b[38;5;34m136\u001b[0m │ categoryInput[\u001b[38;5;34m0\u001b[0m]… │\n",
       "│ (\u001b[38;5;33mEmbedding\u001b[0m)         │                   │            │                   │\n",
       "├─────────────────────┼───────────────────┼────────────┼───────────────────┤\n",
       "│ embedding_7         │ (\u001b[38;5;45mNone\u001b[0m, \u001b[38;5;34m1\u001b[0m, \u001b[38;5;34m2\u001b[0m)      │         \u001b[38;5;34m10\u001b[0m │ sentiment_labelI… │\n",
       "│ (\u001b[38;5;33mEmbedding\u001b[0m)         │                   │            │                   │\n",
       "├─────────────────────┼───────────────────┼────────────┼───────────────────┤\n",
       "│ embedding_8         │ (\u001b[38;5;45mNone\u001b[0m, \u001b[38;5;34m1\u001b[0m, \u001b[38;5;34m2\u001b[0m)      │          \u001b[38;5;34m8\u001b[0m │ is_new_articleIn… │\n",
       "│ (\u001b[38;5;33mEmbedding\u001b[0m)         │                   │            │                   │\n",
       "├─────────────────────┼───────────────────┼────────────┼───────────────────┤\n",
       "│ embedding_9         │ (\u001b[38;5;45mNone\u001b[0m, \u001b[38;5;34m1\u001b[0m, \u001b[38;5;34m2\u001b[0m)      │          \u001b[38;5;34m8\u001b[0m │ is_already_seen_… │\n",
       "│ (\u001b[38;5;33mEmbedding\u001b[0m)         │                   │            │                   │\n",
       "├─────────────────────┼───────────────────┼────────────┼───────────────────┤\n",
       "│ embedding_10        │ (\u001b[38;5;45mNone\u001b[0m, \u001b[38;5;34m1\u001b[0m, \u001b[38;5;34m6\u001b[0m)      │         \u001b[38;5;34m78\u001b[0m │ MostFrequentCate… │\n",
       "│ (\u001b[38;5;33mEmbedding\u001b[0m)         │                   │            │                   │\n",
       "├─────────────────────┼───────────────────┼────────────┼───────────────────┤\n",
       "│ embedding_11        │ (\u001b[38;5;45mNone\u001b[0m, \u001b[38;5;34m1\u001b[0m, \u001b[38;5;34m4\u001b[0m)      │         \u001b[38;5;34m36\u001b[0m │ MostFrequentWeek… │\n",
       "│ (\u001b[38;5;33mEmbedding\u001b[0m)         │                   │            │                   │\n",
       "├─────────────────────┼───────────────────┼────────────┼───────────────────┤\n",
       "│ embedding_12        │ (\u001b[38;5;45mNone\u001b[0m, \u001b[38;5;34m1\u001b[0m, \u001b[38;5;34m2\u001b[0m)      │          \u001b[38;5;34m8\u001b[0m │ IsFavouriteCateg… │\n",
       "│ (\u001b[38;5;33mEmbedding\u001b[0m)         │                   │            │                   │\n",
       "├─────────────────────┼───────────────────┼────────────┼───────────────────┤\n",
       "│ embedding_13        │ (\u001b[38;5;45mNone\u001b[0m, \u001b[38;5;34m1\u001b[0m, \u001b[38;5;34m6\u001b[0m)      │         \u001b[38;5;34m72\u001b[0m │ article_typeInpu… │\n",
       "│ (\u001b[38;5;33mEmbedding\u001b[0m)         │                   │            │                   │\n",
       "├─────────────────────┼───────────────────┼────────────┼───────────────────┤\n",
       "│ embedding_14        │ (\u001b[38;5;45mNone\u001b[0m, \u001b[38;5;34m1\u001b[0m, \u001b[38;5;34m4\u001b[0m)      │         \u001b[38;5;34m32\u001b[0m │ postcodeInput[\u001b[38;5;34m0\u001b[0m]… │\n",
       "│ (\u001b[38;5;33mEmbedding\u001b[0m)         │                   │            │                   │\n",
       "├─────────────────────┼───────────────────┼────────────┼───────────────────┤\n",
       "│ embedding_15        │ (\u001b[38;5;45mNone\u001b[0m, \u001b[38;5;34m1\u001b[0m, \u001b[38;5;34m2\u001b[0m)      │          \u001b[38;5;34m8\u001b[0m │ Entity_PROD_Pres… │\n",
       "│ (\u001b[38;5;33mEmbedding\u001b[0m)         │                   │            │                   │\n",
       "├─────────────────────┼───────────────────┼────────────┼───────────────────┤\n",
       "│ embedding_16        │ (\u001b[38;5;45mNone\u001b[0m, \u001b[38;5;34m1\u001b[0m, \u001b[38;5;34m2\u001b[0m)      │          \u001b[38;5;34m8\u001b[0m │ Entity_LOC_Prese… │\n",
       "│ (\u001b[38;5;33mEmbedding\u001b[0m)         │                   │            │                   │\n",
       "├─────────────────────┼───────────────────┼────────────┼───────────────────┤\n",
       "│ embedding_17        │ (\u001b[38;5;45mNone\u001b[0m, \u001b[38;5;34m1\u001b[0m, \u001b[38;5;34m2\u001b[0m)      │          \u001b[38;5;34m8\u001b[0m │ Entity_MISC_Pres… │\n",
       "│ (\u001b[38;5;33mEmbedding\u001b[0m)         │                   │            │                   │\n",
       "├─────────────────────┼───────────────────┼────────────┼───────────────────┤\n",
       "│ embedding_18        │ (\u001b[38;5;45mNone\u001b[0m, \u001b[38;5;34m1\u001b[0m, \u001b[38;5;34m2\u001b[0m)      │          \u001b[38;5;34m8\u001b[0m │ Entity_ORG_Prese… │\n",
       "│ (\u001b[38;5;33mEmbedding\u001b[0m)         │                   │            │                   │\n",
       "├─────────────────────┼───────────────────┼────────────┼───────────────────┤\n",
       "│ embedding_19        │ (\u001b[38;5;45mNone\u001b[0m, \u001b[38;5;34m1\u001b[0m, \u001b[38;5;34m2\u001b[0m)      │          \u001b[38;5;34m8\u001b[0m │ Entity_PER_Prese… │\n",
       "│ (\u001b[38;5;33mEmbedding\u001b[0m)         │                   │            │                   │\n",
       "├─────────────────────┼───────────────────┼────────────┼───────────────────┤\n",
       "│ embedding_20        │ (\u001b[38;5;45mNone\u001b[0m, \u001b[38;5;34m1\u001b[0m, \u001b[38;5;34m2\u001b[0m)      │          \u001b[38;5;34m8\u001b[0m │ Entity_EVENT_Pre… │\n",
       "│ (\u001b[38;5;33mEmbedding\u001b[0m)         │                   │            │                   │\n",
       "├─────────────────────┼───────────────────┼────────────┼───────────────────┤\n",
       "│ NumericInputNoise   │ (\u001b[38;5;45mNone\u001b[0m, \u001b[38;5;34m273\u001b[0m)       │          \u001b[38;5;34m0\u001b[0m │ NumericInput[\u001b[38;5;34m0\u001b[0m][\u001b[38;5;34m…\u001b[0m │\n",
       "│ (\u001b[38;5;33mGaussianNoise\u001b[0m)     │                   │            │                   │\n",
       "├─────────────────────┼───────────────────┼────────────┼───────────────────┤\n",
       "│ flatten (\u001b[38;5;33mFlatten\u001b[0m)   │ (\u001b[38;5;45mNone\u001b[0m, \u001b[38;5;34m2\u001b[0m)         │          \u001b[38;5;34m0\u001b[0m │ embedding[\u001b[38;5;34m0\u001b[0m][\u001b[38;5;34m0\u001b[0m]   │\n",
       "├─────────────────────┼───────────────────┼────────────┼───────────────────┤\n",
       "│ flatten_1 (\u001b[38;5;33mFlatten\u001b[0m) │ (\u001b[38;5;45mNone\u001b[0m, \u001b[38;5;34m2\u001b[0m)         │          \u001b[38;5;34m0\u001b[0m │ embedding_1[\u001b[38;5;34m0\u001b[0m][\u001b[38;5;34m0\u001b[0m] │\n",
       "├─────────────────────┼───────────────────┼────────────┼───────────────────┤\n",
       "│ flatten_2 (\u001b[38;5;33mFlatten\u001b[0m) │ (\u001b[38;5;45mNone\u001b[0m, \u001b[38;5;34m2\u001b[0m)         │          \u001b[38;5;34m0\u001b[0m │ embedding_2[\u001b[38;5;34m0\u001b[0m][\u001b[38;5;34m0\u001b[0m] │\n",
       "├─────────────────────┼───────────────────┼────────────┼───────────────────┤\n",
       "│ flatten_3 (\u001b[38;5;33mFlatten\u001b[0m) │ (\u001b[38;5;45mNone\u001b[0m, \u001b[38;5;34m2\u001b[0m)         │          \u001b[38;5;34m0\u001b[0m │ embedding_3[\u001b[38;5;34m0\u001b[0m][\u001b[38;5;34m0\u001b[0m] │\n",
       "├─────────────────────┼───────────────────┼────────────┼───────────────────┤\n",
       "│ flatten_4 (\u001b[38;5;33mFlatten\u001b[0m) │ (\u001b[38;5;45mNone\u001b[0m, \u001b[38;5;34m4\u001b[0m)         │          \u001b[38;5;34m0\u001b[0m │ embedding_4[\u001b[38;5;34m0\u001b[0m][\u001b[38;5;34m0\u001b[0m] │\n",
       "├─────────────────────┼───────────────────┼────────────┼───────────────────┤\n",
       "│ flatten_5 (\u001b[38;5;33mFlatten\u001b[0m) │ (\u001b[38;5;45mNone\u001b[0m, \u001b[38;5;34m2\u001b[0m)         │          \u001b[38;5;34m0\u001b[0m │ embedding_5[\u001b[38;5;34m0\u001b[0m][\u001b[38;5;34m0\u001b[0m] │\n",
       "├─────────────────────┼───────────────────┼────────────┼───────────────────┤\n",
       "│ flatten_6 (\u001b[38;5;33mFlatten\u001b[0m) │ (\u001b[38;5;45mNone\u001b[0m, \u001b[38;5;34m8\u001b[0m)         │          \u001b[38;5;34m0\u001b[0m │ embedding_6[\u001b[38;5;34m0\u001b[0m][\u001b[38;5;34m0\u001b[0m] │\n",
       "├─────────────────────┼───────────────────┼────────────┼───────────────────┤\n",
       "│ flatten_7 (\u001b[38;5;33mFlatten\u001b[0m) │ (\u001b[38;5;45mNone\u001b[0m, \u001b[38;5;34m2\u001b[0m)         │          \u001b[38;5;34m0\u001b[0m │ embedding_7[\u001b[38;5;34m0\u001b[0m][\u001b[38;5;34m0\u001b[0m] │\n",
       "├─────────────────────┼───────────────────┼────────────┼───────────────────┤\n",
       "│ flatten_8 (\u001b[38;5;33mFlatten\u001b[0m) │ (\u001b[38;5;45mNone\u001b[0m, \u001b[38;5;34m2\u001b[0m)         │          \u001b[38;5;34m0\u001b[0m │ embedding_8[\u001b[38;5;34m0\u001b[0m][\u001b[38;5;34m0\u001b[0m] │\n",
       "├─────────────────────┼───────────────────┼────────────┼───────────────────┤\n",
       "│ flatten_9 (\u001b[38;5;33mFlatten\u001b[0m) │ (\u001b[38;5;45mNone\u001b[0m, \u001b[38;5;34m2\u001b[0m)         │          \u001b[38;5;34m0\u001b[0m │ embedding_9[\u001b[38;5;34m0\u001b[0m][\u001b[38;5;34m0\u001b[0m] │\n",
       "├─────────────────────┼───────────────────┼────────────┼───────────────────┤\n",
       "│ flatten_10          │ (\u001b[38;5;45mNone\u001b[0m, \u001b[38;5;34m6\u001b[0m)         │          \u001b[38;5;34m0\u001b[0m │ embedding_10[\u001b[38;5;34m0\u001b[0m][\u001b[38;5;34m…\u001b[0m │\n",
       "│ (\u001b[38;5;33mFlatten\u001b[0m)           │                   │            │                   │\n",
       "├─────────────────────┼───────────────────┼────────────┼───────────────────┤\n",
       "│ flatten_11          │ (\u001b[38;5;45mNone\u001b[0m, \u001b[38;5;34m4\u001b[0m)         │          \u001b[38;5;34m0\u001b[0m │ embedding_11[\u001b[38;5;34m0\u001b[0m][\u001b[38;5;34m…\u001b[0m │\n",
       "│ (\u001b[38;5;33mFlatten\u001b[0m)           │                   │            │                   │\n",
       "├─────────────────────┼───────────────────┼────────────┼───────────────────┤\n",
       "│ flatten_12          │ (\u001b[38;5;45mNone\u001b[0m, \u001b[38;5;34m2\u001b[0m)         │          \u001b[38;5;34m0\u001b[0m │ embedding_12[\u001b[38;5;34m0\u001b[0m][\u001b[38;5;34m…\u001b[0m │\n",
       "│ (\u001b[38;5;33mFlatten\u001b[0m)           │                   │            │                   │\n",
       "├─────────────────────┼───────────────────┼────────────┼───────────────────┤\n",
       "│ flatten_13          │ (\u001b[38;5;45mNone\u001b[0m, \u001b[38;5;34m6\u001b[0m)         │          \u001b[38;5;34m0\u001b[0m │ embedding_13[\u001b[38;5;34m0\u001b[0m][\u001b[38;5;34m…\u001b[0m │\n",
       "│ (\u001b[38;5;33mFlatten\u001b[0m)           │                   │            │                   │\n",
       "├─────────────────────┼───────────────────┼────────────┼───────────────────┤\n",
       "│ flatten_14          │ (\u001b[38;5;45mNone\u001b[0m, \u001b[38;5;34m4\u001b[0m)         │          \u001b[38;5;34m0\u001b[0m │ embedding_14[\u001b[38;5;34m0\u001b[0m][\u001b[38;5;34m…\u001b[0m │\n",
       "│ (\u001b[38;5;33mFlatten\u001b[0m)           │                   │            │                   │\n",
       "├─────────────────────┼───────────────────┼────────────┼───────────────────┤\n",
       "│ flatten_15          │ (\u001b[38;5;45mNone\u001b[0m, \u001b[38;5;34m2\u001b[0m)         │          \u001b[38;5;34m0\u001b[0m │ embedding_15[\u001b[38;5;34m0\u001b[0m][\u001b[38;5;34m…\u001b[0m │\n",
       "│ (\u001b[38;5;33mFlatten\u001b[0m)           │                   │            │                   │\n",
       "├─────────────────────┼───────────────────┼────────────┼───────────────────┤\n",
       "│ flatten_16          │ (\u001b[38;5;45mNone\u001b[0m, \u001b[38;5;34m2\u001b[0m)         │          \u001b[38;5;34m0\u001b[0m │ embedding_16[\u001b[38;5;34m0\u001b[0m][\u001b[38;5;34m…\u001b[0m │\n",
       "│ (\u001b[38;5;33mFlatten\u001b[0m)           │                   │            │                   │\n",
       "├─────────────────────┼───────────────────┼────────────┼───────────────────┤\n",
       "│ flatten_17          │ (\u001b[38;5;45mNone\u001b[0m, \u001b[38;5;34m2\u001b[0m)         │          \u001b[38;5;34m0\u001b[0m │ embedding_17[\u001b[38;5;34m0\u001b[0m][\u001b[38;5;34m…\u001b[0m │\n",
       "│ (\u001b[38;5;33mFlatten\u001b[0m)           │                   │            │                   │\n",
       "├─────────────────────┼───────────────────┼────────────┼───────────────────┤\n",
       "│ flatten_18          │ (\u001b[38;5;45mNone\u001b[0m, \u001b[38;5;34m2\u001b[0m)         │          \u001b[38;5;34m0\u001b[0m │ embedding_18[\u001b[38;5;34m0\u001b[0m][\u001b[38;5;34m…\u001b[0m │\n",
       "│ (\u001b[38;5;33mFlatten\u001b[0m)           │                   │            │                   │\n",
       "├─────────────────────┼───────────────────┼────────────┼───────────────────┤\n",
       "│ flatten_19          │ (\u001b[38;5;45mNone\u001b[0m, \u001b[38;5;34m2\u001b[0m)         │          \u001b[38;5;34m0\u001b[0m │ embedding_19[\u001b[38;5;34m0\u001b[0m][\u001b[38;5;34m…\u001b[0m │\n",
       "│ (\u001b[38;5;33mFlatten\u001b[0m)           │                   │            │                   │\n",
       "├─────────────────────┼───────────────────┼────────────┼───────────────────┤\n",
       "│ flatten_20          │ (\u001b[38;5;45mNone\u001b[0m, \u001b[38;5;34m2\u001b[0m)         │          \u001b[38;5;34m0\u001b[0m │ embedding_20[\u001b[38;5;34m0\u001b[0m][\u001b[38;5;34m…\u001b[0m │\n",
       "│ (\u001b[38;5;33mFlatten\u001b[0m)           │                   │            │                   │\n",
       "├─────────────────────┼───────────────────┼────────────┼───────────────────┤\n",
       "│ concatenate         │ (\u001b[38;5;45mNone\u001b[0m, \u001b[38;5;34m335\u001b[0m)       │          \u001b[38;5;34m0\u001b[0m │ NumericInputNois… │\n",
       "│ (\u001b[38;5;33mConcatenate\u001b[0m)       │                   │            │ flatten[\u001b[38;5;34m0\u001b[0m][\u001b[38;5;34m0\u001b[0m],    │\n",
       "│                     │                   │            │ flatten_1[\u001b[38;5;34m0\u001b[0m][\u001b[38;5;34m0\u001b[0m],  │\n",
       "│                     │                   │            │ flatten_2[\u001b[38;5;34m0\u001b[0m][\u001b[38;5;34m0\u001b[0m],  │\n",
       "│                     │                   │            │ flatten_3[\u001b[38;5;34m0\u001b[0m][\u001b[38;5;34m0\u001b[0m],  │\n",
       "│                     │                   │            │ flatten_4[\u001b[38;5;34m0\u001b[0m][\u001b[38;5;34m0\u001b[0m],  │\n",
       "│                     │                   │            │ flatten_5[\u001b[38;5;34m0\u001b[0m][\u001b[38;5;34m0\u001b[0m],  │\n",
       "│                     │                   │            │ flatten_6[\u001b[38;5;34m0\u001b[0m][\u001b[38;5;34m0\u001b[0m],  │\n",
       "│                     │                   │            │ flatten_7[\u001b[38;5;34m0\u001b[0m][\u001b[38;5;34m0\u001b[0m],  │\n",
       "│                     │                   │            │ flatten_8[\u001b[38;5;34m0\u001b[0m][\u001b[38;5;34m0\u001b[0m],  │\n",
       "│                     │                   │            │ flatten_9[\u001b[38;5;34m0\u001b[0m][\u001b[38;5;34m0\u001b[0m],  │\n",
       "│                     │                   │            │ flatten_10[\u001b[38;5;34m0\u001b[0m][\u001b[38;5;34m0\u001b[0m], │\n",
       "│                     │                   │            │ flatten_11[\u001b[38;5;34m0\u001b[0m][\u001b[38;5;34m0\u001b[0m], │\n",
       "│                     │                   │            │ flatten_12[\u001b[38;5;34m0\u001b[0m][\u001b[38;5;34m0\u001b[0m], │\n",
       "│                     │                   │            │ flatten_13[\u001b[38;5;34m0\u001b[0m][\u001b[38;5;34m0\u001b[0m], │\n",
       "│                     │                   │            │ flatten_14[\u001b[38;5;34m0\u001b[0m][\u001b[38;5;34m0\u001b[0m], │\n",
       "│                     │                   │            │ flatten_15[\u001b[38;5;34m0\u001b[0m][\u001b[38;5;34m0\u001b[0m], │\n",
       "│                     │                   │            │ flatten_16[\u001b[38;5;34m0\u001b[0m][\u001b[38;5;34m0\u001b[0m], │\n",
       "│                     │                   │            │ flatten_17[\u001b[38;5;34m0\u001b[0m][\u001b[38;5;34m0\u001b[0m], │\n",
       "│                     │                   │            │ flatten_18[\u001b[38;5;34m0\u001b[0m][\u001b[38;5;34m0\u001b[0m], │\n",
       "│                     │                   │            │ flatten_19[\u001b[38;5;34m0\u001b[0m][\u001b[38;5;34m0\u001b[0m], │\n",
       "│                     │                   │            │ flatten_20[\u001b[38;5;34m0\u001b[0m][\u001b[38;5;34m0\u001b[0m]  │\n",
       "├─────────────────────┼───────────────────┼────────────┼───────────────────┤\n",
       "│ DeepDense0 (\u001b[38;5;33mDense\u001b[0m)  │ (\u001b[38;5;45mNone\u001b[0m, \u001b[38;5;34m512\u001b[0m)       │    \u001b[38;5;34m172,032\u001b[0m │ concatenate[\u001b[38;5;34m0\u001b[0m][\u001b[38;5;34m0\u001b[0m] │\n",
       "├─────────────────────┼───────────────────┼────────────┼───────────────────┤\n",
       "│ DeepBatchNormaliza… │ (\u001b[38;5;45mNone\u001b[0m, \u001b[38;5;34m512\u001b[0m)       │      \u001b[38;5;34m2,048\u001b[0m │ DeepDense0[\u001b[38;5;34m0\u001b[0m][\u001b[38;5;34m0\u001b[0m]  │\n",
       "│ (\u001b[38;5;33mBatchNormalizatio…\u001b[0m │                   │            │                   │\n",
       "├─────────────────────┼───────────────────┼────────────┼───────────────────┤\n",
       "│ DeepActivation0     │ (\u001b[38;5;45mNone\u001b[0m, \u001b[38;5;34m512\u001b[0m)       │          \u001b[38;5;34m0\u001b[0m │ DeepBatchNormali… │\n",
       "│ (\u001b[38;5;33mActivation\u001b[0m)        │                   │            │                   │\n",
       "├─────────────────────┼───────────────────┼────────────┼───────────────────┤\n",
       "│ DeepDropout0        │ (\u001b[38;5;45mNone\u001b[0m, \u001b[38;5;34m512\u001b[0m)       │          \u001b[38;5;34m0\u001b[0m │ DeepActivation0[\u001b[38;5;34m…\u001b[0m │\n",
       "│ (\u001b[38;5;33mDropout\u001b[0m)           │                   │            │                   │\n",
       "├─────────────────────┼───────────────────┼────────────┼───────────────────┤\n",
       "│ DeepDense1 (\u001b[38;5;33mDense\u001b[0m)  │ (\u001b[38;5;45mNone\u001b[0m, \u001b[38;5;34m256\u001b[0m)       │    \u001b[38;5;34m131,328\u001b[0m │ DeepDropout0[\u001b[38;5;34m0\u001b[0m][\u001b[38;5;34m…\u001b[0m │\n",
       "├─────────────────────┼───────────────────┼────────────┼───────────────────┤\n",
       "│ DeepBatchNormaliza… │ (\u001b[38;5;45mNone\u001b[0m, \u001b[38;5;34m256\u001b[0m)       │      \u001b[38;5;34m1,024\u001b[0m │ DeepDense1[\u001b[38;5;34m0\u001b[0m][\u001b[38;5;34m0\u001b[0m]  │\n",
       "│ (\u001b[38;5;33mBatchNormalizatio…\u001b[0m │                   │            │                   │\n",
       "├─────────────────────┼───────────────────┼────────────┼───────────────────┤\n",
       "│ DeepActivation1     │ (\u001b[38;5;45mNone\u001b[0m, \u001b[38;5;34m256\u001b[0m)       │          \u001b[38;5;34m0\u001b[0m │ DeepBatchNormali… │\n",
       "│ (\u001b[38;5;33mActivation\u001b[0m)        │                   │            │                   │\n",
       "├─────────────────────┼───────────────────┼────────────┼───────────────────┤\n",
       "│ DeepDropout1        │ (\u001b[38;5;45mNone\u001b[0m, \u001b[38;5;34m256\u001b[0m)       │          \u001b[38;5;34m0\u001b[0m │ DeepActivation1[\u001b[38;5;34m…\u001b[0m │\n",
       "│ (\u001b[38;5;33mDropout\u001b[0m)           │                   │            │                   │\n",
       "├─────────────────────┼───────────────────┼────────────┼───────────────────┤\n",
       "│ DeepDense2 (\u001b[38;5;33mDense\u001b[0m)  │ (\u001b[38;5;45mNone\u001b[0m, \u001b[38;5;34m128\u001b[0m)       │     \u001b[38;5;34m32,896\u001b[0m │ DeepDropout1[\u001b[38;5;34m0\u001b[0m][\u001b[38;5;34m…\u001b[0m │\n",
       "├─────────────────────┼───────────────────┼────────────┼───────────────────┤\n",
       "│ DeepBatchNormaliza… │ (\u001b[38;5;45mNone\u001b[0m, \u001b[38;5;34m128\u001b[0m)       │        \u001b[38;5;34m512\u001b[0m │ DeepDense2[\u001b[38;5;34m0\u001b[0m][\u001b[38;5;34m0\u001b[0m]  │\n",
       "│ (\u001b[38;5;33mBatchNormalizatio…\u001b[0m │                   │            │                   │\n",
       "├─────────────────────┼───────────────────┼────────────┼───────────────────┤\n",
       "│ DeepActivation2     │ (\u001b[38;5;45mNone\u001b[0m, \u001b[38;5;34m128\u001b[0m)       │          \u001b[38;5;34m0\u001b[0m │ DeepBatchNormali… │\n",
       "│ (\u001b[38;5;33mActivation\u001b[0m)        │                   │            │                   │\n",
       "├─────────────────────┼───────────────────┼────────────┼───────────────────┤\n",
       "│ DeepDropout2        │ (\u001b[38;5;45mNone\u001b[0m, \u001b[38;5;34m128\u001b[0m)       │          \u001b[38;5;34m0\u001b[0m │ DeepActivation2[\u001b[38;5;34m…\u001b[0m │\n",
       "│ (\u001b[38;5;33mDropout\u001b[0m)           │                   │            │                   │\n",
       "├─────────────────────┼───────────────────┼────────────┼───────────────────┤\n",
       "│ DeepDense3 (\u001b[38;5;33mDense\u001b[0m)  │ (\u001b[38;5;45mNone\u001b[0m, \u001b[38;5;34m64\u001b[0m)        │      \u001b[38;5;34m8,256\u001b[0m │ DeepDropout2[\u001b[38;5;34m0\u001b[0m][\u001b[38;5;34m…\u001b[0m │\n",
       "├─────────────────────┼───────────────────┼────────────┼───────────────────┤\n",
       "│ DeepBatchNormaliza… │ (\u001b[38;5;45mNone\u001b[0m, \u001b[38;5;34m64\u001b[0m)        │        \u001b[38;5;34m256\u001b[0m │ DeepDense3[\u001b[38;5;34m0\u001b[0m][\u001b[38;5;34m0\u001b[0m]  │\n",
       "│ (\u001b[38;5;33mBatchNormalizatio…\u001b[0m │                   │            │                   │\n",
       "├─────────────────────┼───────────────────┼────────────┼───────────────────┤\n",
       "│ DeepActivation3     │ (\u001b[38;5;45mNone\u001b[0m, \u001b[38;5;34m64\u001b[0m)        │          \u001b[38;5;34m0\u001b[0m │ DeepBatchNormali… │\n",
       "│ (\u001b[38;5;33mActivation\u001b[0m)        │                   │            │                   │\n",
       "├─────────────────────┼───────────────────┼────────────┼───────────────────┤\n",
       "│ DeepDropout3        │ (\u001b[38;5;45mNone\u001b[0m, \u001b[38;5;34m64\u001b[0m)        │          \u001b[38;5;34m0\u001b[0m │ DeepActivation3[\u001b[38;5;34m…\u001b[0m │\n",
       "│ (\u001b[38;5;33mDropout\u001b[0m)           │                   │            │                   │\n",
       "├─────────────────────┼───────────────────┼────────────┼───────────────────┤\n",
       "│ OutputDense (\u001b[38;5;33mDense\u001b[0m) │ (\u001b[38;5;45mNone\u001b[0m, \u001b[38;5;34m1\u001b[0m)         │         \u001b[38;5;34m65\u001b[0m │ DeepDropout3[\u001b[38;5;34m0\u001b[0m][\u001b[38;5;34m…\u001b[0m │\n",
       "└─────────────────────┴───────────────────┴────────────┴───────────────────┘\n"
      ]
     },
     "metadata": {},
     "output_type": "display_data"
    },
    {
     "data": {
      "text/html": [
       "<pre style=\"white-space:pre;overflow-x:auto;line-height:normal;font-family:Menlo,'DejaVu Sans Mono',consolas,'Courier New',monospace\"><span style=\"font-weight: bold\"> Total params: </span><span style=\"color: #00af00; text-decoration-color: #00af00\">348,933</span> (1.33 MB)\n",
       "</pre>\n"
      ],
      "text/plain": [
       "\u001b[1m Total params: \u001b[0m\u001b[38;5;34m348,933\u001b[0m (1.33 MB)\n"
      ]
     },
     "metadata": {},
     "output_type": "display_data"
    },
    {
     "data": {
      "text/html": [
       "<pre style=\"white-space:pre;overflow-x:auto;line-height:normal;font-family:Menlo,'DejaVu Sans Mono',consolas,'Courier New',monospace\"><span style=\"font-weight: bold\"> Trainable params: </span><span style=\"color: #00af00; text-decoration-color: #00af00\">347,013</span> (1.32 MB)\n",
       "</pre>\n"
      ],
      "text/plain": [
       "\u001b[1m Trainable params: \u001b[0m\u001b[38;5;34m347,013\u001b[0m (1.32 MB)\n"
      ]
     },
     "metadata": {},
     "output_type": "display_data"
    },
    {
     "data": {
      "text/html": [
       "<pre style=\"white-space:pre;overflow-x:auto;line-height:normal;font-family:Menlo,'DejaVu Sans Mono',consolas,'Courier New',monospace\"><span style=\"font-weight: bold\"> Non-trainable params: </span><span style=\"color: #00af00; text-decoration-color: #00af00\">1,920</span> (7.50 KB)\n",
       "</pre>\n"
      ],
      "text/plain": [
       "\u001b[1m Non-trainable params: \u001b[0m\u001b[38;5;34m1,920\u001b[0m (7.50 KB)\n"
      ]
     },
     "metadata": {},
     "output_type": "display_data"
    }
   ],
   "source": [
    "model = create_mlp_model(\n",
    "    numeric_input_shape=X_numerical.shape[1], \n",
    "    categorical_input_shape=X_categorical.shape[1],\n",
    "    use_categorical_embeddings=True,\n",
    "    max_categorical_embedding=50,\n",
    "    vocabulary_sizes=vocabulary_sizes, \n",
    "    add_gaussian_noise=True,\n",
    "    gaussian_noise_std=0.01,\n",
    "    n_layers=4,\n",
    "    start_units=512,\n",
    "    units_decay=2, # -> hidden units will be [512, 256, 128, 64]\n",
    "    l1_lambda=1e-4,\n",
    "    l2_lambda=1e-4,\n",
    "    activation='relu',\n",
    "    dropout_rate=0.2,\n",
    "    learning_rate=1e-3,\n",
    "    weight_decay=5e-5,\n",
    "    seed=seed,\n",
    ")\n",
    "model.summary()"
   ]
  },
  {
   "cell_type": "code",
   "execution_count": 49,
   "id": "157b8dea",
   "metadata": {
    "execution": {
     "iopub.execute_input": "2024-05-19T11:15:27.130325Z",
     "iopub.status.busy": "2024-05-19T11:15:27.129588Z",
     "iopub.status.idle": "2024-05-19T11:38:14.733076Z",
     "shell.execute_reply": "2024-05-19T11:38:14.731341Z"
    },
    "papermill": {
     "duration": 1369.779542,
     "end_time": "2024-05-19T11:38:16.813161",
     "exception": false,
     "start_time": "2024-05-19T11:15:27.033619",
     "status": "completed"
    },
    "tags": []
   },
   "outputs": [
    {
     "name": "stdout",
     "output_type": "stream",
     "text": [
      "Epoch 1/20\n",
      "\u001b[1m2746/2746\u001b[0m \u001b[32m━━━━━━━━━━━━━━━━━━━━\u001b[0m\u001b[37m\u001b[0m \u001b[1m71s\u001b[0m 22ms/step - auc: 0.7595 - loss: 1.4655 - learning_rate: 0.0010\n",
      "Epoch 2/20\n",
      "\u001b[1m2746/2746\u001b[0m \u001b[32m━━━━━━━━━━━━━━━━━━━━\u001b[0m\u001b[37m\u001b[0m \u001b[1m61s\u001b[0m 22ms/step - auc: 0.7988 - loss: 0.6126 - learning_rate: 0.0010\n",
      "Epoch 3/20\n",
      "\u001b[1m2746/2746\u001b[0m \u001b[32m━━━━━━━━━━━━━━━━━━━━\u001b[0m\u001b[37m\u001b[0m \u001b[1m61s\u001b[0m 22ms/step - auc: 0.8073 - loss: 0.5724 - learning_rate: 9.0484e-04\n",
      "Epoch 4/20\n",
      "\u001b[1m2746/2746\u001b[0m \u001b[32m━━━━━━━━━━━━━━━━━━━━\u001b[0m\u001b[37m\u001b[0m \u001b[1m61s\u001b[0m 22ms/step - auc: 0.8131 - loss: 0.5354 - learning_rate: 8.1873e-04\n",
      "Epoch 5/20\n",
      "\u001b[1m2746/2746\u001b[0m \u001b[32m━━━━━━━━━━━━━━━━━━━━\u001b[0m\u001b[37m\u001b[0m \u001b[1m61s\u001b[0m 22ms/step - auc: 0.8174 - loss: 0.5242 - learning_rate: 7.4082e-04\n",
      "Epoch 6/20\n",
      "\u001b[1m2746/2746\u001b[0m \u001b[32m━━━━━━━━━━━━━━━━━━━━\u001b[0m\u001b[37m\u001b[0m \u001b[1m70s\u001b[0m 26ms/step - auc: 0.8200 - loss: 0.5191 - learning_rate: 6.7032e-04\n",
      "Epoch 7/20\n",
      "\u001b[1m2746/2746\u001b[0m \u001b[32m━━━━━━━━━━━━━━━━━━━━\u001b[0m\u001b[37m\u001b[0m \u001b[1m70s\u001b[0m 26ms/step - auc: 0.8218 - loss: 0.5151 - learning_rate: 6.0653e-04\n",
      "Epoch 8/20\n",
      "\u001b[1m2746/2746\u001b[0m \u001b[32m━━━━━━━━━━━━━━━━━━━━\u001b[0m\u001b[37m\u001b[0m \u001b[1m62s\u001b[0m 23ms/step - auc: 0.8242 - loss: 0.5115 - learning_rate: 5.4881e-04\n",
      "Epoch 9/20\n",
      "\u001b[1m2746/2746\u001b[0m \u001b[32m━━━━━━━━━━━━━━━━━━━━\u001b[0m\u001b[37m\u001b[0m \u001b[1m62s\u001b[0m 23ms/step - auc: 0.8261 - loss: 0.5080 - learning_rate: 4.9659e-04\n",
      "Epoch 10/20\n",
      "\u001b[1m2746/2746\u001b[0m \u001b[32m━━━━━━━━━━━━━━━━━━━━\u001b[0m\u001b[37m\u001b[0m \u001b[1m63s\u001b[0m 23ms/step - auc: 0.8276 - loss: 0.5054 - learning_rate: 4.4933e-04\n",
      "Epoch 11/20\n",
      "\u001b[1m2746/2746\u001b[0m \u001b[32m━━━━━━━━━━━━━━━━━━━━\u001b[0m\u001b[37m\u001b[0m \u001b[1m61s\u001b[0m 22ms/step - auc: 0.8289 - loss: 0.5028 - learning_rate: 4.0657e-04\n",
      "Epoch 12/20\n",
      "\u001b[1m2746/2746\u001b[0m \u001b[32m━━━━━━━━━━━━━━━━━━━━\u001b[0m\u001b[37m\u001b[0m \u001b[1m83s\u001b[0m 23ms/step - auc: 0.8309 - loss: 0.4996 - learning_rate: 3.6788e-04\n",
      "Epoch 13/20\n",
      "\u001b[1m2746/2746\u001b[0m \u001b[32m━━━━━━━━━━━━━━━━━━━━\u001b[0m\u001b[37m\u001b[0m \u001b[1m82s\u001b[0m 23ms/step - auc: 0.8323 - loss: 0.4971 - learning_rate: 3.3287e-04\n",
      "Epoch 14/20\n",
      "\u001b[1m2746/2746\u001b[0m \u001b[32m━━━━━━━━━━━━━━━━━━━━\u001b[0m\u001b[37m\u001b[0m \u001b[1m63s\u001b[0m 23ms/step - auc: 0.8334 - loss: 0.4949 - learning_rate: 3.0119e-04\n",
      "Epoch 15/20\n",
      "\u001b[1m2746/2746\u001b[0m \u001b[32m━━━━━━━━━━━━━━━━━━━━\u001b[0m\u001b[37m\u001b[0m \u001b[1m81s\u001b[0m 23ms/step - auc: 0.8348 - loss: 0.4923 - learning_rate: 2.7253e-04\n",
      "Epoch 16/20\n",
      "\u001b[1m2746/2746\u001b[0m \u001b[32m━━━━━━━━━━━━━━━━━━━━\u001b[0m\u001b[37m\u001b[0m \u001b[1m62s\u001b[0m 23ms/step - auc: 0.8365 - loss: 0.4895 - learning_rate: 2.4660e-04\n",
      "Epoch 17/20\n",
      "\u001b[1m2746/2746\u001b[0m \u001b[32m━━━━━━━━━━━━━━━━━━━━\u001b[0m\u001b[37m\u001b[0m \u001b[1m63s\u001b[0m 23ms/step - auc: 0.8372 - loss: 0.4880 - learning_rate: 2.2313e-04\n",
      "Epoch 18/20\n",
      "\u001b[1m2746/2746\u001b[0m \u001b[32m━━━━━━━━━━━━━━━━━━━━\u001b[0m\u001b[37m\u001b[0m \u001b[1m61s\u001b[0m 22ms/step - auc: 0.8384 - loss: 0.4856 - learning_rate: 2.0190e-04\n",
      "Epoch 19/20\n",
      "\u001b[1m2746/2746\u001b[0m \u001b[32m━━━━━━━━━━━━━━━━━━━━\u001b[0m\u001b[37m\u001b[0m \u001b[1m83s\u001b[0m 23ms/step - auc: 0.8392 - loss: 0.4841 - learning_rate: 1.8268e-04\n",
      "Epoch 20/20\n",
      "\u001b[1m2746/2746\u001b[0m \u001b[32m━━━━━━━━━━━━━━━━━━━━\u001b[0m\u001b[37m\u001b[0m \u001b[1m62s\u001b[0m 22ms/step - auc: 0.8402 - loss: 0.4822 - learning_rate: 1.6530e-04\n"
     ]
    },
    {
     "data": {
      "text/plain": [
       "<keras.src.callbacks.history.History at 0x7fb956e1e800>"
      ]
     },
     "execution_count": 49,
     "metadata": {},
     "output_type": "execute_result"
    }
   ],
   "source": [
    "def scheduler(epoch, lr):\n",
    "    if epoch < 2 or lr <= 1e-5:\n",
    "        return lr\n",
    "    else:\n",
    "        return float(lr * tf.math.exp(-0.1))\n",
    "\n",
    "model.fit(\n",
    "    [X_numerical] + [X_categorical[:, i].reshape(-1, 1) for i in range(X_categorical.shape[1])],\n",
    "    y,\n",
    "    batch_size=256,\n",
    "    epochs=20,\n",
    "    callbacks=[\n",
    "        tfk.callbacks.LearningRateScheduler(scheduler),\n",
    "    ],\n",
    ")"
   ]
  },
  {
   "cell_type": "code",
   "execution_count": 50,
   "id": "8e0ce0f0",
   "metadata": {
    "execution": {
     "iopub.execute_input": "2024-05-19T11:38:21.027556Z",
     "iopub.status.busy": "2024-05-19T11:38:21.027137Z",
     "iopub.status.idle": "2024-05-19T11:38:21.528384Z",
     "shell.execute_reply": "2024-05-19T11:38:21.526840Z"
    },
    "papermill": {
     "duration": 2.606628,
     "end_time": "2024-05-19T11:38:21.531035",
     "exception": false,
     "start_time": "2024-05-19T11:38:18.924407",
     "status": "completed"
    },
    "tags": []
   },
   "outputs": [
    {
     "name": "stdout",
     "output_type": "stream",
     "text": [
      "\u001b[1m\u001b[31m\n",
      "RAM memory GB usage = 6.537\u001b[0m\n"
     ]
    }
   ],
   "source": [
    "del history_train\n",
    "del behaviors_train\n",
    "del X_numerical\n",
    "del X_categorical\n",
    "del X\n",
    "\n",
    "gc.collect()\n",
    "PrintColor(f\"\\n\" + GetMemUsage(), color = Fore.RED)"
   ]
  },
  {
   "cell_type": "markdown",
   "id": "2c249619",
   "metadata": {
    "papermill": {
     "duration": 2.135229,
     "end_time": "2024-05-19T11:38:25.691410",
     "exception": false,
     "start_time": "2024-05-19T11:38:23.556181",
     "status": "completed"
    },
    "tags": []
   },
   "source": [
    "# Model Evaluation"
   ]
  },
  {
   "cell_type": "code",
   "execution_count": 51,
   "id": "bb8c1d4d",
   "metadata": {
    "execution": {
     "iopub.execute_input": "2024-05-19T11:38:29.889519Z",
     "iopub.status.busy": "2024-05-19T11:38:29.889088Z",
     "iopub.status.idle": "2024-05-19T11:38:48.888264Z",
     "shell.execute_reply": "2024-05-19T11:38:48.886989Z"
    },
    "papermill": {
     "duration": 21.086855,
     "end_time": "2024-05-19T11:38:48.891382",
     "exception": false,
     "start_time": "2024-05-19T11:38:27.804527",
     "status": "completed"
    },
    "tags": []
   },
   "outputs": [],
   "source": [
    "user_id_mapping = history_val.sort('user_id').with_row_index() \\\n",
    "    .select(['index', 'user_id']).rename({'index': 'user_index'})\n",
    "\n",
    "ner_interactions = history_val.select(['user_id', 'article_id_fixed']).explode('article_id_fixed') \\\n",
    "    .join(articles.select(['article_id', 'ner_clusters']), left_on='article_id_fixed', right_on='article_id', how='left') \\\n",
    "    .explode('ner_clusters').unique(['user_id', 'ner_clusters']) \\\n",
    "    .with_columns(pl.col('ner_clusters').str.strip_chars_start('\\\" ').str.to_lowercase()) \\\n",
    "    .join(user_id_mapping, on='user_id', how='left') \\\n",
    "    .join(ner_mapping, left_on='ner_clusters', right_on='ner') \\\n",
    "    .select(['user_index', 'ner_index', 'user_id', 'article_id_fixed']) \\\n",
    "    .unique(['user_index', 'ner_index'])\n",
    "\n",
    "URM_ner = sps.csr_matrix((np.ones(ner_interactions.shape[0]),\n",
    "                          (ner_interactions['user_index'].to_numpy(), ner_interactions['ner_index'].to_numpy())),\n",
    "                         shape=(user_id_mapping.shape[0], ner_mapping.shape[0]))\n",
    "\n",
    "ner_interactions_test = behaviors_val.select(['user_id', 'article_ids_clicked']).explode('article_ids_clicked') \\\n",
    "    .join(articles.select(['article_id', 'ner_clusters']), left_on='article_ids_clicked', right_on='article_id', how='left') \\\n",
    "    .explode('ner_clusters').unique(['user_id', 'ner_clusters']) \\\n",
    "    .with_columns(pl.col('ner_clusters').str.strip_chars_start('\\\" ').str.to_lowercase()) \\\n",
    "    .join(user_id_mapping, on='user_id', how='left') \\\n",
    "    .join(ner_mapping, left_on='ner_clusters', right_on='ner') \\\n",
    "    .select(['user_index', 'ner_index', 'user_id', 'article_ids_clicked']) \\\n",
    "    .unique(['user_index', 'ner_index'])\n",
    "\n",
    "URM_ner_test = sps.csr_matrix((np.ones(ner_interactions_test.shape[0]),\n",
    "                               (ner_interactions_test['user_index'].to_numpy(), ner_interactions_test['ner_index'].to_numpy())),\n",
    "                              shape=(user_id_mapping.shape[0], ner_mapping.shape[0]))"
   ]
  },
  {
   "cell_type": "code",
   "execution_count": 52,
   "id": "4e48f1ad",
   "metadata": {
    "execution": {
     "iopub.execute_input": "2024-05-19T11:38:52.946190Z",
     "iopub.status.busy": "2024-05-19T11:38:52.945342Z",
     "iopub.status.idle": "2024-05-19T11:44:33.892948Z",
     "shell.execute_reply": "2024-05-19T11:44:33.891659Z"
    },
    "papermill": {
     "duration": 344.977664,
     "end_time": "2024-05-19T11:44:35.834853",
     "exception": false,
     "start_time": "2024-05-19T11:38:50.857189",
     "status": "completed"
    },
    "tags": []
   },
   "outputs": [
    {
     "name": "stdout",
     "output_type": "stream",
     "text": [
      "ItemKNNCFRecommender: URM Detected 3 ( 0.0%) users with no interactions.\n",
      "ItemKNNCFRecommender: URM Detected 19035 (43.5%) items with no interactions.\n",
      "Unable to load Cython Compute_Similarity, reverting to Python\n",
      "Similarity column 43774 (100.0%), 148.80 column/sec. Elapsed time 4.90 min\n",
      "EvaluatorHoldout: Ignoring 32 ( 0.2%) Users that have less than 1 test interactions\n",
      "EvaluatorHoldout: Processed 15310 (100.0%) in 45.64 sec. Users per second: 335\n"
     ]
    },
    {
     "data": {
      "text/html": [
       "<div>\n",
       "<style scoped>\n",
       "    .dataframe tbody tr th:only-of-type {\n",
       "        vertical-align: middle;\n",
       "    }\n",
       "\n",
       "    .dataframe tbody tr th {\n",
       "        vertical-align: top;\n",
       "    }\n",
       "\n",
       "    .dataframe thead th {\n",
       "        text-align: right;\n",
       "    }\n",
       "</style>\n",
       "<table border=\"1\" class=\"dataframe\">\n",
       "  <thead>\n",
       "    <tr style=\"text-align: right;\">\n",
       "      <th></th>\n",
       "      <th>PRECISION</th>\n",
       "      <th>PRECISION_RECALL_MIN_DEN</th>\n",
       "      <th>RECALL</th>\n",
       "      <th>MAP</th>\n",
       "      <th>MAP_MIN_DEN</th>\n",
       "      <th>MRR</th>\n",
       "      <th>NDCG</th>\n",
       "      <th>F1</th>\n",
       "      <th>HIT_RATE</th>\n",
       "      <th>ARHR_ALL_HITS</th>\n",
       "      <th>...</th>\n",
       "      <th>COVERAGE_USER</th>\n",
       "      <th>COVERAGE_USER_HIT</th>\n",
       "      <th>USERS_IN_GT</th>\n",
       "      <th>DIVERSITY_GINI</th>\n",
       "      <th>SHANNON_ENTROPY</th>\n",
       "      <th>RATIO_DIVERSITY_HERFINDAHL</th>\n",
       "      <th>RATIO_DIVERSITY_GINI</th>\n",
       "      <th>RATIO_SHANNON_ENTROPY</th>\n",
       "      <th>RATIO_AVERAGE_POPULARITY</th>\n",
       "      <th>RATIO_NOVELTY</th>\n",
       "    </tr>\n",
       "    <tr>\n",
       "      <th>cutoff</th>\n",
       "      <th></th>\n",
       "      <th></th>\n",
       "      <th></th>\n",
       "      <th></th>\n",
       "      <th></th>\n",
       "      <th></th>\n",
       "      <th></th>\n",
       "      <th></th>\n",
       "      <th></th>\n",
       "      <th></th>\n",
       "      <th></th>\n",
       "      <th></th>\n",
       "      <th></th>\n",
       "      <th></th>\n",
       "      <th></th>\n",
       "      <th></th>\n",
       "      <th></th>\n",
       "      <th></th>\n",
       "      <th></th>\n",
       "      <th></th>\n",
       "      <th></th>\n",
       "    </tr>\n",
       "  </thead>\n",
       "  <tbody>\n",
       "    <tr>\n",
       "      <th>10</th>\n",
       "      <td>0.338445</td>\n",
       "      <td>0.339461</td>\n",
       "      <td>0.033197</td>\n",
       "      <td>0.241643</td>\n",
       "      <td>0.241977</td>\n",
       "      <td>0.493913</td>\n",
       "      <td>0.346767</td>\n",
       "      <td>0.060464</td>\n",
       "      <td>0.784651</td>\n",
       "      <td>1.033204</td>\n",
       "      <td>...</td>\n",
       "      <td>0.997914</td>\n",
       "      <td>0.783014</td>\n",
       "      <td>0.997914</td>\n",
       "      <td>0.002568</td>\n",
       "      <td>5.473111</td>\n",
       "      <td>0.953841</td>\n",
       "      <td>0.020621</td>\n",
       "      <td>0.428217</td>\n",
       "      <td>3.43338</td>\n",
       "      <td>0.010093</td>\n",
       "    </tr>\n",
       "  </tbody>\n",
       "</table>\n",
       "<p>1 rows × 27 columns</p>\n",
       "</div>"
      ],
      "text/plain": [
       "       PRECISION PRECISION_RECALL_MIN_DEN    RECALL       MAP MAP_MIN_DEN  \\\n",
       "cutoff                                                                      \n",
       "10      0.338445                 0.339461  0.033197  0.241643    0.241977   \n",
       "\n",
       "             MRR      NDCG        F1  HIT_RATE ARHR_ALL_HITS  ...  \\\n",
       "cutoff                                                        ...   \n",
       "10      0.493913  0.346767  0.060464  0.784651      1.033204  ...   \n",
       "\n",
       "       COVERAGE_USER COVERAGE_USER_HIT USERS_IN_GT DIVERSITY_GINI  \\\n",
       "cutoff                                                              \n",
       "10          0.997914          0.783014    0.997914       0.002568   \n",
       "\n",
       "       SHANNON_ENTROPY RATIO_DIVERSITY_HERFINDAHL RATIO_DIVERSITY_GINI  \\\n",
       "cutoff                                                                   \n",
       "10            5.473111                   0.953841             0.020621   \n",
       "\n",
       "       RATIO_SHANNON_ENTROPY RATIO_AVERAGE_POPULARITY RATIO_NOVELTY  \n",
       "cutoff                                                               \n",
       "10                  0.428217                  3.43338      0.010093  \n",
       "\n",
       "[1 rows x 27 columns]"
      ]
     },
     "execution_count": 52,
     "metadata": {},
     "output_type": "execute_result"
    }
   ],
   "source": [
    "item_knn = ItemKNNCFRecommender(URM_ner)\n",
    "item_knn.fit(topK=100, similarity='jaccard')\n",
    "\n",
    "evaluator = EvaluatorHoldout(URM_ner_test, cutoff_list=[10], exclude_seen=False)\n",
    "result_df, _ = evaluator.evaluateRecommender(item_knn)\n",
    "result_df"
   ]
  },
  {
   "cell_type": "code",
   "execution_count": 53,
   "id": "9265baa0",
   "metadata": {
    "execution": {
     "iopub.execute_input": "2024-05-19T11:44:39.985445Z",
     "iopub.status.busy": "2024-05-19T11:44:39.984633Z",
     "iopub.status.idle": "2024-05-19T11:45:10.769376Z",
     "shell.execute_reply": "2024-05-19T11:45:10.767963Z"
    },
    "papermill": {
     "duration": 34.802846,
     "end_time": "2024-05-19T11:45:12.715881",
     "exception": false,
     "start_time": "2024-05-19T11:44:37.913035",
     "status": "completed"
    },
    "tags": []
   },
   "outputs": [
    {
     "name": "stdout",
     "output_type": "stream",
     "text": [
      "PureSVDRecommender: URM Detected 3 ( 0.0%) users with no interactions.\n",
      "PureSVDRecommender: URM Detected 19035 (43.5%) items with no interactions.\n",
      "PureSVDRecommender: Computing SVD decomposition...\n",
      "PureSVDRecommender: Computing SVD decomposition... done in 4.74 sec\n",
      "EvaluatorHoldout: Processed 15310 (100.0%) in 25.52 sec. Users per second: 600\n"
     ]
    },
    {
     "data": {
      "text/html": [
       "<div>\n",
       "<style scoped>\n",
       "    .dataframe tbody tr th:only-of-type {\n",
       "        vertical-align: middle;\n",
       "    }\n",
       "\n",
       "    .dataframe tbody tr th {\n",
       "        vertical-align: top;\n",
       "    }\n",
       "\n",
       "    .dataframe thead th {\n",
       "        text-align: right;\n",
       "    }\n",
       "</style>\n",
       "<table border=\"1\" class=\"dataframe\">\n",
       "  <thead>\n",
       "    <tr style=\"text-align: right;\">\n",
       "      <th></th>\n",
       "      <th>PRECISION</th>\n",
       "      <th>PRECISION_RECALL_MIN_DEN</th>\n",
       "      <th>RECALL</th>\n",
       "      <th>MAP</th>\n",
       "      <th>MAP_MIN_DEN</th>\n",
       "      <th>MRR</th>\n",
       "      <th>NDCG</th>\n",
       "      <th>F1</th>\n",
       "      <th>HIT_RATE</th>\n",
       "      <th>ARHR_ALL_HITS</th>\n",
       "      <th>...</th>\n",
       "      <th>COVERAGE_USER</th>\n",
       "      <th>COVERAGE_USER_HIT</th>\n",
       "      <th>USERS_IN_GT</th>\n",
       "      <th>DIVERSITY_GINI</th>\n",
       "      <th>SHANNON_ENTROPY</th>\n",
       "      <th>RATIO_DIVERSITY_HERFINDAHL</th>\n",
       "      <th>RATIO_DIVERSITY_GINI</th>\n",
       "      <th>RATIO_SHANNON_ENTROPY</th>\n",
       "      <th>RATIO_AVERAGE_POPULARITY</th>\n",
       "      <th>RATIO_NOVELTY</th>\n",
       "    </tr>\n",
       "    <tr>\n",
       "      <th>cutoff</th>\n",
       "      <th></th>\n",
       "      <th></th>\n",
       "      <th></th>\n",
       "      <th></th>\n",
       "      <th></th>\n",
       "      <th></th>\n",
       "      <th></th>\n",
       "      <th></th>\n",
       "      <th></th>\n",
       "      <th></th>\n",
       "      <th></th>\n",
       "      <th></th>\n",
       "      <th></th>\n",
       "      <th></th>\n",
       "      <th></th>\n",
       "      <th></th>\n",
       "      <th></th>\n",
       "      <th></th>\n",
       "      <th></th>\n",
       "      <th></th>\n",
       "      <th></th>\n",
       "    </tr>\n",
       "  </thead>\n",
       "  <tbody>\n",
       "    <tr>\n",
       "      <th>10</th>\n",
       "      <td>0.365343</td>\n",
       "      <td>0.368494</td>\n",
       "      <td>0.050757</td>\n",
       "      <td>0.284108</td>\n",
       "      <td>0.286194</td>\n",
       "      <td>0.69616</td>\n",
       "      <td>0.416042</td>\n",
       "      <td>0.089131</td>\n",
       "      <td>0.874853</td>\n",
       "      <td>1.344843</td>\n",
       "      <td>...</td>\n",
       "      <td>0.997914</td>\n",
       "      <td>0.873028</td>\n",
       "      <td>0.997914</td>\n",
       "      <td>0.00152</td>\n",
       "      <td>5.732489</td>\n",
       "      <td>0.955104</td>\n",
       "      <td>0.012206</td>\n",
       "      <td>0.448511</td>\n",
       "      <td>3.535079</td>\n",
       "      <td>0.010003</td>\n",
       "    </tr>\n",
       "  </tbody>\n",
       "</table>\n",
       "<p>1 rows × 27 columns</p>\n",
       "</div>"
      ],
      "text/plain": [
       "       PRECISION PRECISION_RECALL_MIN_DEN    RECALL       MAP MAP_MIN_DEN  \\\n",
       "cutoff                                                                      \n",
       "10      0.365343                 0.368494  0.050757  0.284108    0.286194   \n",
       "\n",
       "            MRR      NDCG        F1  HIT_RATE ARHR_ALL_HITS  ...  \\\n",
       "cutoff                                                       ...   \n",
       "10      0.69616  0.416042  0.089131  0.874853      1.344843  ...   \n",
       "\n",
       "       COVERAGE_USER COVERAGE_USER_HIT USERS_IN_GT DIVERSITY_GINI  \\\n",
       "cutoff                                                              \n",
       "10          0.997914          0.873028    0.997914        0.00152   \n",
       "\n",
       "       SHANNON_ENTROPY RATIO_DIVERSITY_HERFINDAHL RATIO_DIVERSITY_GINI  \\\n",
       "cutoff                                                                   \n",
       "10            5.732489                   0.955104             0.012206   \n",
       "\n",
       "       RATIO_SHANNON_ENTROPY RATIO_AVERAGE_POPULARITY RATIO_NOVELTY  \n",
       "cutoff                                                               \n",
       "10                  0.448511                 3.535079      0.010003  \n",
       "\n",
       "[1 rows x 27 columns]"
      ]
     },
     "execution_count": 53,
     "metadata": {},
     "output_type": "execute_result"
    }
   ],
   "source": [
    "pure_svd = PureSVDRecommender(URM_ner)\n",
    "pure_svd.fit(num_factors=20)\n",
    "\n",
    "result_df, _ = evaluator.evaluateRecommender(pure_svd)\n",
    "result_df"
   ]
  },
  {
   "cell_type": "code",
   "execution_count": 54,
   "id": "73dc4850",
   "metadata": {
    "execution": {
     "iopub.execute_input": "2024-05-19T11:45:16.870921Z",
     "iopub.status.busy": "2024-05-19T11:45:16.870054Z",
     "iopub.status.idle": "2024-05-19T11:47:50.303665Z",
     "shell.execute_reply": "2024-05-19T11:47:50.300255Z"
    },
    "papermill": {
     "duration": 157.503737,
     "end_time": "2024-05-19T11:47:52.291585",
     "exception": false,
     "start_time": "2024-05-19T11:45:14.787848",
     "status": "completed"
    },
    "tags": []
   },
   "outputs": [
    {
     "name": "stdout",
     "output_type": "stream",
     "text": [
      "CPU times: user 5min 25s, sys: 3min 41s, total: 9min 6s\n",
      "Wall time: 2min 33s\n"
     ]
    },
    {
     "data": {
      "text/html": [
       "<div><style>\n",
       ".dataframe > thead > tr,\n",
       ".dataframe > tbody > tr {\n",
       "  text-align: right;\n",
       "  white-space: pre-wrap;\n",
       "}\n",
       "</style>\n",
       "<small>shape: (5, 8)</small><table border=\"1\" class=\"dataframe\"><thead><tr><th>impression_id</th><th>article</th><th>total_ner_svd_scores</th><th>mean_ner_svd_scores</th><th>max_ner_svd_scores</th><th>total_ner_item_knn_scores</th><th>mean_ner_item_knn_scores</th><th>max_ner_item_knn_scores</th></tr><tr><td>u32</td><td>i32</td><td>f32</td><td>f32</td><td>f32</td><td>f32</td><td>f32</td><td>f32</td></tr></thead><tbody><tr><td>249838384</td><td>9767830</td><td>0.0</td><td>0.0</td><td>0.0</td><td>0.0</td><td>0.0</td><td>0.0</td></tr><tr><td>349637531</td><td>9783213</td><td>0.230043</td><td>0.278375</td><td>0.340497</td><td>0.20274</td><td>0.24119</td><td>0.291381</td></tr><tr><td>361676887</td><td>9789600</td><td>0.068443</td><td>0.080636</td><td>0.089079</td><td>0.123137</td><td>0.142129</td><td>0.134075</td></tr><tr><td>375775563</td><td>9781316</td><td>0.085478</td><td>0.131975</td><td>0.210416</td><td>0.080801</td><td>0.143185</td><td>0.197309</td></tr><tr><td>20129749</td><td>9788760</td><td>0.01536</td><td>0.011748</td><td>0.02827</td><td>0.042411</td><td>0.033234</td><td>0.063285</td></tr></tbody></table></div>"
      ],
      "text/plain": [
       "shape: (5, 8)\n",
       "┌────────────┬─────────┬────────────┬────────────┬────────────┬────────────┬───────────┬───────────┐\n",
       "│ impression ┆ article ┆ total_ner_ ┆ mean_ner_s ┆ max_ner_sv ┆ total_ner_ ┆ mean_ner_ ┆ max_ner_i │\n",
       "│ _id        ┆ ---     ┆ svd_scores ┆ vd_scores  ┆ d_scores   ┆ item_knn_s ┆ item_knn_ ┆ tem_knn_s │\n",
       "│ ---        ┆ i32     ┆ ---        ┆ ---        ┆ ---        ┆ cores      ┆ scores    ┆ cores     │\n",
       "│ u32        ┆         ┆ f32        ┆ f32        ┆ f32        ┆ ---        ┆ ---       ┆ ---       │\n",
       "│            ┆         ┆            ┆            ┆            ┆ f32        ┆ f32       ┆ f32       │\n",
       "╞════════════╪═════════╪════════════╪════════════╪════════════╪════════════╪═══════════╪═══════════╡\n",
       "│ 249838384  ┆ 9767830 ┆ 0.0        ┆ 0.0        ┆ 0.0        ┆ 0.0        ┆ 0.0       ┆ 0.0       │\n",
       "│ 349637531  ┆ 9783213 ┆ 0.230043   ┆ 0.278375   ┆ 0.340497   ┆ 0.20274    ┆ 0.24119   ┆ 0.291381  │\n",
       "│ 361676887  ┆ 9789600 ┆ 0.068443   ┆ 0.080636   ┆ 0.089079   ┆ 0.123137   ┆ 0.142129  ┆ 0.134075  │\n",
       "│ 375775563  ┆ 9781316 ┆ 0.085478   ┆ 0.131975   ┆ 0.210416   ┆ 0.080801   ┆ 0.143185  ┆ 0.197309  │\n",
       "│ 20129749   ┆ 9788760 ┆ 0.01536    ┆ 0.011748   ┆ 0.02827    ┆ 0.042411   ┆ 0.033234  ┆ 0.063285  │\n",
       "└────────────┴─────────┴────────────┴────────────┴────────────┴────────────┴───────────┴───────────┘"
      ]
     },
     "execution_count": 54,
     "metadata": {},
     "output_type": "execute_result"
    }
   ],
   "source": [
    "%%time\n",
    "\n",
    "def get_inview_scores(user_ners_df, recommender, f_name):\n",
    "    user_index = user_ners_df['user_index'].to_list()[0]\n",
    "    ners = user_ners_df['ner_index'].to_numpy()\n",
    "    scores = recommender._compute_item_score([user_index], ners)[0, ners]\n",
    "    return user_ners_df.with_columns(\n",
    "        pl.Series(scores).alias(f_name)\n",
    "    )\n",
    "\n",
    "ner_inview_scores = behaviors_val.select(['user_id', 'article_ids_inview']).explode('article_ids_inview') \\\n",
    "    .join(articles.select(['article_id', 'ner_clusters']), left_on='article_ids_inview', right_on='article_id', how='left') \\\n",
    "    .explode('ner_clusters').unique(['user_id', 'ner_clusters']) \\\n",
    "    .with_columns(pl.col('ner_clusters').str.strip_chars_start('\\\" ').str.to_lowercase()) \\\n",
    "    .join(user_id_mapping, on='user_id', how='left') \\\n",
    "    .join(ner_mapping, left_on='ner_clusters', right_on='ner') \\\n",
    "    .select(['user_index', 'ner_index', 'user_id', 'article_ids_inview']) \\\n",
    "    .unique(['user_index', 'ner_index']) \\\n",
    "    .sort(['user_index', 'ner_index']).group_by('user_index').map_groups(\n",
    "        lambda user_df: user_df.pipe(get_inview_scores, recommender=pure_svd, f_name='pure_svd_scores') \\\n",
    "            .pipe(get_inview_scores, recommender=item_knn, f_name='item_knn_scores')\n",
    "    )\n",
    "\n",
    "behaviors_ner_scores = behaviors_val.select(['impression_id', 'user_id', 'article_ids_inview']).explode('article_ids_inview') \\\n",
    "    .join(ner_inview_scores, on=['user_id', 'article_ids_inview'], how='left') \\\n",
    "    .with_columns(pl.col(['pure_svd_scores', 'item_knn_scores']).fill_null(0)) \\\n",
    "    .group_by(['impression_id', 'article_ids_inview']).agg(\n",
    "        pl.col('pure_svd_scores').sum().alias('total_ner_svd_scores'),\n",
    "        pl.col('pure_svd_scores').mean().alias('mean_ner_svd_scores'),\n",
    "        pl.col('pure_svd_scores').max().alias('max_ner_svd_scores'),\n",
    "        pl.col('item_knn_scores').sum().alias('total_ner_item_knn_scores'),\n",
    "        pl.col('item_knn_scores').mean().alias('mean_ner_item_knn_scores'),\n",
    "        pl.col('item_knn_scores').max().alias('max_ner_item_knn_scores'),\n",
    "    ).with_columns(\n",
    "        pl.col(['total_ner_svd_scores', 'mean_ner_svd_scores', \n",
    "                'total_ner_item_knn_scores', 'mean_ner_item_knn_scores',\n",
    "                'max_ner_svd_scores', 'max_ner_item_knn_scores']).sum().over('impression_id').name.suffix('_max')\n",
    "    ).with_columns(\n",
    "        # l_inf normalization\n",
    "        pl.col('total_ner_svd_scores').truediv(pl.col('total_ner_svd_scores_max')),\n",
    "        pl.col('mean_ner_svd_scores').truediv(pl.col('mean_ner_svd_scores_max')),\n",
    "        pl.col('max_ner_svd_scores').truediv(pl.col('max_ner_svd_scores_max')),\n",
    "        pl.col('total_ner_item_knn_scores').truediv(pl.col('total_ner_item_knn_scores_max')),\n",
    "        pl.col('mean_ner_item_knn_scores').truediv(pl.col('mean_ner_item_knn_scores_max')),\n",
    "        pl.col('max_ner_item_knn_scores').truediv(pl.col('max_ner_item_knn_scores_max')),\n",
    "    ).drop(['total_ner_svd_scores_max', 'mean_ner_svd_scores_max', \n",
    "            'max_ner_svd_scores_max', 'total_ner_item_knn_scores_max',\n",
    "            'mean_ner_item_knn_scores_max', 'max_ner_item_knn_scores_max']) \\\n",
    "    .rename({'article_ids_inview': 'article'})\n",
    "behaviors_ner_scores.head(5)"
   ]
  },
  {
   "cell_type": "code",
   "execution_count": 55,
   "id": "e66e1bce",
   "metadata": {
    "execution": {
     "iopub.execute_input": "2024-05-19T11:47:56.456864Z",
     "iopub.status.busy": "2024-05-19T11:47:56.456418Z",
     "iopub.status.idle": "2024-05-19T11:48:13.725476Z",
     "shell.execute_reply": "2024-05-19T11:48:13.724146Z"
    },
    "papermill": {
     "duration": 19.363579,
     "end_time": "2024-05-19T11:48:13.728454",
     "exception": false,
     "start_time": "2024-05-19T11:47:54.364875",
     "status": "completed"
    },
    "tags": []
   },
   "outputs": [
    {
     "name": "stderr",
     "output_type": "stream",
     "text": [
      "16it [00:16,  1.02s/it]                        \n"
     ]
    },
    {
     "name": "stdout",
     "output_type": "stream",
     "text": [
      "\u001b[1m\u001b[31m\n",
      "RAM memory GB usage = 7.132\u001b[0m\n",
      "Memory usage of dataframe is 36.51 MB\n",
      "Memory usage after optimization is: 35.72 MB\n",
      "Decreased by 2.2%\n",
      "CPU times: user 19.7 s, sys: 1.34 s, total: 21.1 s\n",
      "Wall time: 17.2 s\n"
     ]
    },
    {
     "data": {
      "text/html": [
       "<div><style>\n",
       ".dataframe > thead > tr,\n",
       ".dataframe > tbody > tr {\n",
       "  text-align: right;\n",
       "  white-space: pre-wrap;\n",
       "}\n",
       "</style>\n",
       "<small>shape: (2, 27)</small><table border=\"1\" class=\"dataframe\"><thead><tr><th>user_id</th><th>article_id_fixed</th><th>impression_time_fixed</th><th>category</th><th>NumArticlesHistory</th><th>MedianReadTime</th><th>MaxReadTime</th><th>TotalReadTime</th><th>MedianScrollPercentage</th><th>MaxScrollPercentage</th><th>NeutralPct</th><th>PositivePct</th><th>NegativePct</th><th>PctStrongNeutral</th><th>PctStrongPositive</th><th>PctStrongNegative</th><th>PctNotDefaultArticles</th><th>MostFrequentCategory</th><th>MostFrequentWeekday</th><th>MostFrequentHour</th><th>topics_flatten_tf_idf</th><th>PRODPct</th><th>LOCPct</th><th>MISCPct</th><th>ORGPct</th><th>PERPct</th><th>EVENTPct</th></tr><tr><td>u32</td><td>list[i32]</td><td>list[datetime[μs]]</td><td>list[i16]</td><td>u16</td><td>f32</td><td>f32</td><td>f32</td><td>f32</td><td>f32</td><td>f32</td><td>f32</td><td>f32</td><td>f32</td><td>f32</td><td>f32</td><td>f32</td><td>i16</td><td>i8</td><td>i8</td><td>list[f32]</td><td>f32</td><td>f32</td><td>f32</td><td>f32</td><td>f32</td><td>f32</td></tr></thead><tbody><tr><td>10623</td><td>[9750749, 9685790, … 9779517]</td><td>[2023-05-05 07:51:01, 2023-05-05 07:51:36, … 2023-05-24 17:10:11]</td><td>[118, 457, … 414]</td><td>150</td><td>3.5</td><td>1563.0</td><td>9330.0</td><td>37.0</td><td>100.0</td><td>0.28</td><td>0.093333</td><td>0.626667</td><td>0.126667</td><td>0.06</td><td>0.546667</td><td>0.06</td><td>118</td><td>1</td><td>20</td><td>[0.0, 0.042172, … 0.089681]</td><td>0.213333</td><td>0.846667</td><td>0.266667</td><td>0.913333</td><td>0.893333</td><td>0.3</td></tr><tr><td>12718</td><td>[9749036, 9749025, … 9778718]</td><td>[2023-05-04 07:49:49, 2023-05-04 07:50:15, … 2023-05-24 07:07:25]</td><td>[118, 118, … 140]</td><td>114</td><td>7.0</td><td>748.0</td><td>3440.0</td><td>36.0</td><td>100.0</td><td>0.245614</td><td>0.052632</td><td>0.701754</td><td>0.087719</td><td>0.035088</td><td>0.614035</td><td>0.035088</td><td>118</td><td>7</td><td>7</td><td>[0.0, 0.048524, … 0.217846]</td><td>0.254386</td><td>0.815789</td><td>0.192982</td><td>0.947368</td><td>0.807018</td><td>0.114035</td></tr></tbody></table></div>"
      ],
      "text/plain": [
       "shape: (2, 27)\n",
       "┌─────────┬─────────────┬─────────────┬────────────┬───┬──────────┬──────────┬──────────┬──────────┐\n",
       "│ user_id ┆ article_id_ ┆ impression_ ┆ category   ┆ … ┆ MISCPct  ┆ ORGPct   ┆ PERPct   ┆ EVENTPct │\n",
       "│ ---     ┆ fixed       ┆ time_fixed  ┆ ---        ┆   ┆ ---      ┆ ---      ┆ ---      ┆ ---      │\n",
       "│ u32     ┆ ---         ┆ ---         ┆ list[i16]  ┆   ┆ f32      ┆ f32      ┆ f32      ┆ f32      │\n",
       "│         ┆ list[i32]   ┆ list[dateti ┆            ┆   ┆          ┆          ┆          ┆          │\n",
       "│         ┆             ┆ me[μs]]     ┆            ┆   ┆          ┆          ┆          ┆          │\n",
       "╞═════════╪═════════════╪═════════════╪════════════╪═══╪══════════╪══════════╪══════════╪══════════╡\n",
       "│ 10623   ┆ [9750749,   ┆ [2023-05-05 ┆ [118, 457, ┆ … ┆ 0.266667 ┆ 0.913333 ┆ 0.893333 ┆ 0.3      │\n",
       "│         ┆ 9685790, …  ┆ 07:51:01,   ┆ … 414]     ┆   ┆          ┆          ┆          ┆          │\n",
       "│         ┆ 9779517]    ┆ 2023-05-…   ┆            ┆   ┆          ┆          ┆          ┆          │\n",
       "│ 12718   ┆ [9749036,   ┆ [2023-05-04 ┆ [118, 118, ┆ … ┆ 0.192982 ┆ 0.947368 ┆ 0.807018 ┆ 0.114035 │\n",
       "│         ┆ 9749025, …  ┆ 07:49:49,   ┆ … 140]     ┆   ┆          ┆          ┆          ┆          │\n",
       "│         ┆ 9778718]    ┆ 2023-05-…   ┆            ┆   ┆          ┆          ┆          ┆          │\n",
       "└─────────┴─────────────┴─────────────┴────────────┴───┴──────────┴──────────┴──────────┴──────────┘"
      ]
     },
     "execution_count": 55,
     "metadata": {},
     "output_type": "execute_result"
    }
   ],
   "source": [
    "%%time\n",
    "\n",
    "STRONG_THR = 0.8\n",
    "\n",
    "history_val = pl.concat(\n",
    "    rows.with_columns(pl.col('article_id_fixed').list.len().alias('NumArticlesHistory')) \\\n",
    "        .explode(['article_id_fixed', 'impression_time_fixed', 'read_time_fixed', 'scroll_percentage_fixed']) \\\n",
    "        .sort(by=['user_id', 'impression_time_fixed']) \\\n",
    "        .with_columns(\n",
    "            pl.col('impression_time_fixed').dt.weekday().alias('weekday'),\n",
    "            pl.col('impression_time_fixed').dt.hour().alias('hour'),\n",
    "        ).join(articles.select(['article_id', 'category', 'is_article_default', 'sentiment_label_int', \n",
    "                                'sentiment_score', 'entity_groups', 'topics']), \n",
    "               left_on='article_id_fixed', right_on='article_id', how='left') \\\n",
    "        .with_columns(\n",
    "            (pl.col('sentiment_label_int') == 0).alias('is_neutral'),\n",
    "            (pl.col('sentiment_label_int') == 1).alias('is_positive'),\n",
    "            (pl.col('sentiment_label_int') == -1).alias('is_negative'),\n",
    "            ((pl.col('sentiment_label_int') == 0) & (pl.col('sentiment_score') > STRONG_THR)).alias('strong_neutral'),\n",
    "            ((pl.col('sentiment_label_int') == 1) & (pl.col('sentiment_score') > STRONG_THR)).alias('strong_positive'),\n",
    "            ((pl.col('sentiment_label_int') == -1) & (pl.col('sentiment_score') > STRONG_THR)).alias('strong_negative'),\n",
    "            pl.col('entity_groups').list.unique(),\n",
    "        ).group_by('user_id').agg(\n",
    "            pl.col('article_id_fixed'),\n",
    "            pl.col('impression_time_fixed'),\n",
    "            pl.col('category'),\n",
    "            pl.col('NumArticlesHistory').first(),\n",
    "            pl.col('read_time_fixed').median().alias('MedianReadTime'),\n",
    "            pl.col('read_time_fixed').max().alias('MaxReadTime'),\n",
    "            pl.col('read_time_fixed').sum().alias('TotalReadTime'),\n",
    "            pl.col('scroll_percentage_fixed').median().alias('MedianScrollPercentage'),\n",
    "            pl.col('scroll_percentage_fixed').max().alias('MaxScrollPercentage'),\n",
    "            (pl.col('is_neutral').sum() / pl.col('NumArticlesHistory').first()).alias('NeutralPct'),\n",
    "            (pl.col('is_positive').sum() / pl.col('NumArticlesHistory').first()).alias('PositivePct'),\n",
    "            (pl.col('is_negative').sum() / pl.col('NumArticlesHistory').first()).alias('NegativePct'),\n",
    "            (pl.col('strong_neutral').sum() / pl.col('NumArticlesHistory').first()).alias('PctStrongNeutral'),\n",
    "            (pl.col('strong_positive').sum() / pl.col('NumArticlesHistory').first()).alias('PctStrongPositive'),\n",
    "            (pl.col('strong_negative').sum() / pl.col('NumArticlesHistory').first()).alias('PctStrongNegative'),\n",
    "            (1 - (pl.col('is_article_default').sum() / pl.col('NumArticlesHistory').first())).alias('PctNotDefaultArticles'),\n",
    "            pl.col('category').mode().alias('MostFrequentCategory'),\n",
    "            pl.col('weekday').mode().alias('MostFrequentWeekday'),\n",
    "            pl.col('hour').mode().alias('MostFrequentHour'),\n",
    "            pl.col('entity_groups').flatten(),\n",
    "            pl.col('topics').flatten().alias('topics_flatten')\n",
    "        ).pipe(add_topics_tf_idf_columns, topics_col='topics_flatten', vectorizer=vectorizer) \\\n",
    "        .drop('topics_flatten').with_columns(\n",
    "            pl.col('MostFrequentCategory').list.first(),\n",
    "            pl.col('MostFrequentWeekday').list.first(),\n",
    "            pl.col('MostFrequentHour').list.first(),\n",
    "        ).with_columns(\n",
    "            (pl.col('entity_groups').list.count_matches(entity) / pl.col('NumArticlesHistory')).alias(f'{entity}Pct')\n",
    "            for entity in unique_entities\n",
    "        ).drop('entity_groups')\n",
    "    for rows in tqdm.tqdm(history_val.iter_slices(1000), total=history_val.shape[0] // 1000)\n",
    ")\n",
    "\n",
    "gc.collect()\n",
    "PrintColor(f\"\\n\" + GetMemUsage(), color = Fore.RED)\n",
    "history_val = reduce_polars_df_memory_size(history_val)\n",
    "history_val.head(2)"
   ]
  },
  {
   "cell_type": "code",
   "execution_count": 56,
   "id": "48191c11",
   "metadata": {
    "execution": {
     "iopub.execute_input": "2024-05-19T11:48:17.803962Z",
     "iopub.status.busy": "2024-05-19T11:48:17.803142Z",
     "iopub.status.idle": "2024-05-19T11:48:18.895467Z",
     "shell.execute_reply": "2024-05-19T11:48:18.894321Z"
    },
    "papermill": {
     "duration": 3.187311,
     "end_time": "2024-05-19T11:48:18.898314",
     "exception": false,
     "start_time": "2024-05-19T11:48:15.711003",
     "status": "completed"
    },
    "tags": []
   },
   "outputs": [],
   "source": [
    "last_history_df = history_val.with_columns(\n",
    "    pl.col('impression_time_fixed').list.max().alias('last_history_impression_time'),\n",
    "    pl.col('article_id_fixed').list.tail(1).alias('last_history_article'),\n",
    ").select(['user_id', 'last_history_impression_time', 'last_history_article'])\n",
    "\n",
    "last_session_time_df = behaviors_val.select(['session_id', 'user_id', 'impression_time', 'article_ids_inview', 'article_ids_clicked']) \\\n",
    "    .group_by('session_id').agg(\n",
    "        pl.col('user_id').first(), \n",
    "        pl.col('impression_time').max().alias('session_time'), \n",
    "        pl.col('article_ids_inview').flatten().alias('all_seen_articles'),\n",
    "        (pl.col('impression_time').max() - pl.col('impression_time').min()).dt.total_minutes().alias('session_duration'),\n",
    "    ).with_columns(\n",
    "        pl.col(['session_time', 'session_duration']).shift(1).over('user_id').name.prefix('last_'),\n",
    "        pl.col('all_seen_articles').list.unique().shift(1).over('user_id'),\n",
    "        pl.col('session_duration').rolling_mean(100, min_periods=1).over('user_id').alias('mean_prev_sessions_duration'),\n",
    "    ).with_columns(pl.col(['last_session_duration']).fill_null(0)) \\\n",
    "    .join(last_history_df, on='user_id', how='left') \\\n",
    "    .with_columns(\n",
    "        pl.col('last_session_time').fill_null(pl.col('last_history_impression_time')),\n",
    "        pl.col('all_seen_articles').fill_null(pl.col('last_history_article')),\n",
    "    ).select(['session_id', 'last_session_time', 'last_session_duration',\n",
    "              'all_seen_articles', 'mean_prev_sessions_duration'])"
   ]
  },
  {
   "cell_type": "code",
   "execution_count": 57,
   "id": "de8aa32a",
   "metadata": {
    "execution": {
     "iopub.execute_input": "2024-05-19T11:48:22.946122Z",
     "iopub.status.busy": "2024-05-19T11:48:22.945643Z",
     "iopub.status.idle": "2024-05-19T11:52:56.877283Z",
     "shell.execute_reply": "2024-05-19T11:52:56.876304Z"
    },
    "papermill": {
     "duration": 275.898347,
     "end_time": "2024-05-19T11:52:56.880048",
     "exception": false,
     "start_time": "2024-05-19T11:48:20.981701",
     "status": "completed"
    },
    "tags": []
   },
   "outputs": [
    {
     "name": "stderr",
     "output_type": "stream",
     "text": [
      "16it [00:25,  1.59s/it]\n",
      "2205it [00:05, 367.66it/s]                          \n",
      "16it [00:01,  8.06it/s]                        \n",
      "16it [00:02,  7.16it/s]                        \n",
      "100%|██████████| 507/507 [00:04<00:00, 107.51it/s]\n",
      "100%|██████████| 507/507 [00:06<00:00, 77.08it/s]\n"
     ]
    },
    {
     "name": "stdout",
     "output_type": "stream",
     "text": [
      "\u001b[1m\u001b[31m\n",
      "RAM memory GB usage = 8.906\u001b[0m\n",
      "Memory usage of dataframe is 1314.28 MB\n",
      "Memory usage after optimization is: 735.73 MB\n",
      "Decreased by 44.0%\n",
      "\u001b[1m\u001b[31m\n",
      "RAM memory GB usage = 8.28\u001b[0m\n",
      "CPU times: user 13min 46s, sys: 1min 12s, total: 14min 58s\n",
      "Wall time: 4min 33s\n"
     ]
    },
    {
     "data": {
      "text/html": [
       "<div><style>\n",
       ".dataframe > thead > tr,\n",
       ".dataframe > tbody > tr {\n",
       "  text-align: right;\n",
       "  white-space: pre-wrap;\n",
       "}\n",
       "</style>\n",
       "<small>shape: (5, 93)</small><table border=\"1\" class=\"dataframe\"><thead><tr><th>impression_id</th><th>article</th><th>user_id</th><th>impression_time</th><th>target</th><th>device_type</th><th>read_time</th><th>scroll_percentage</th><th>is_sso_user</th><th>gender</th><th>age</th><th>is_subscriber</th><th>postcode</th><th>trendiness_score_1d</th><th>trendiness_score_3d</th><th>trendiness_score_5d</th><th>trendiness_score_3d_leak</th><th>weekday</th><th>hour</th><th>trendiness_score_1d/3d</th><th>trendiness_score_1d/5d</th><th>normalized_trendiness_score_overall</th><th>premium</th><th>category</th><th>sentiment_score</th><th>sentiment_label</th><th>num_images</th><th>title_len</th><th>subtitle_len</th><th>body_len</th><th>num_topics</th><th>total_pageviews</th><th>total_inviews</th><th>total_read_time</th><th>total_pageviews/inviews</th><th>article_type</th><th>article_delay_days</th><th>&hellip;</th><th>window_0_history_length</th><th>window_1_history_length</th><th>window_2_history_length</th><th>window_3_history_length</th><th>is_inside_window_0</th><th>is_inside_window_1</th><th>is_inside_window_2</th><th>is_inside_window_3</th><th>window_category_score</th><th>window_topics_score</th><th>trendiness_score_category</th><th>endorsement_10h</th><th>normalized_endorsement_10h</th><th>endorsement_10h_diff_rolling</th><th>endorsement_macd</th><th>endorsement_quantile_norm_10h</th><th>normalized_endorsement_10h_rolling_max_ratio</th><th>endorsement_20h_articleuser</th><th>normalized_endorsement_articleuser_20h</th><th>endorsement_20h_articleuser_diff_rolling</th><th>endorsement_articleuser_macd</th><th>endorsement_articleuser_quantile_norm_20h</th><th>normalized_endorsement_articleuser_20h_rolling_max_ratio</th><th>endorsement_10h_leak</th><th>normalized_endorsement_10h_right</th><th>endorsement_10h_leak_diff_rolling</th><th>endorsement_leak_macd</th><th>endorsement_quantile_norm_10h_leak</th><th>normalized_endorsement_10h_leak_rolling_max_ratio</th><th>clicked_count</th><th>inview_count</th><th>last_session_duration</th><th>mean_prev_sessions_duration</th><th>last_session_time_hour_diff</th><th>is_new_article</th><th>is_already_seen_article</th><th>yesterday_category_daily_pct</th></tr><tr><td>u32</td><td>i32</td><td>u32</td><td>date</td><td>i8</td><td>i8</td><td>f32</td><td>f32</td><td>bool</td><td>i8</td><td>i8</td><td>bool</td><td>i8</td><td>i16</td><td>i16</td><td>i16</td><td>i16</td><td>i8</td><td>i8</td><td>f32</td><td>f32</td><td>f32</td><td>bool</td><td>i16</td><td>f32</td><td>str</td><td>u32</td><td>u8</td><td>u8</td><td>u16</td><td>u32</td><td>i32</td><td>i32</td><td>f32</td><td>f32</td><td>str</td><td>i16</td><td>&hellip;</td><td>i16</td><td>i16</td><td>i16</td><td>i16</td><td>i8</td><td>i8</td><td>i8</td><td>i8</td><td>i16</td><td>i16</td><td>i8</td><td>u16</td><td>f32</td><td>f32</td><td>f32</td><td>f32</td><td>f32</td><td>u8</td><td>f32</td><td>f32</td><td>f32</td><td>f32</td><td>f32</td><td>i16</td><td>f32</td><td>f32</td><td>f32</td><td>f32</td><td>f32</td><td>u32</td><td>u16</td><td>i8</td><td>f32</td><td>i16</td><td>bool</td><td>bool</td><td>f32</td></tr></thead><tbody><tr><td>118493914</td><td>9776967</td><td>1770038</td><td>2023-05-24</td><td>0</td><td>1</td><td>840.0</td><td>100.0</td><td>false</td><td>2</td><td>null</td><td>false</td><td>5</td><td>112</td><td>317</td><td>474</td><td>270</td><td>4</td><td>7</td><td>0.353312</td><td>0.236287</td><td>0.580586</td><td>false</td><td>118</td><td>0.9929</td><td>&quot;Negative&quot;</td><td>2</td><td>7</td><td>28</td><td>236</td><td>5</td><td>54155</td><td>496389</td><td>2.747845e6</td><td>0.109098</td><td>&quot;article_default&quot;</td><td>0</td><td>&hellip;</td><td>88</td><td>45</td><td>43</td><td>13</td><td>1</td><td>0</td><td>0</td><td>0</td><td>52</td><td>113</td><td>109</td><td>1</td><td>0.00641</td><td>0.0</td><td>0.0</td><td>0.333333</td><td>0.125</td><td>1</td><td>0.027027</td><td>0.0</td><td>0.0</td><td>1.0</td><td>1.0</td><td>453</td><td>0.006062</td><td>-34.200001</td><td>-1.8</td><td>0.237173</td><td>0.170879</td><td>743</td><td>834</td><td>0</td><td>3.6</td><td>-145</td><td>true</td><td>false</td><td>0.239437</td></tr><tr><td>311999725</td><td>9777910</td><td>2054298</td><td>2023-05-24</td><td>0</td><td>2</td><td>80.0</td><td>null</td><td>false</td><td>2</td><td>null</td><td>false</td><td>5</td><td>4</td><td>9</td><td>17</td><td>8</td><td>4</td><td>7</td><td>0.444444</td><td>0.235294</td><td>0.016484</td><td>false</td><td>457</td><td>0.9306</td><td>&quot;Neutral&quot;</td><td>1</td><td>8</td><td>18</td><td>92</td><td>2</td><td>93958</td><td>440140</td><td>7.265285e6</td><td>0.213473</td><td>&quot;article_default&quot;</td><td>0</td><td>&hellip;</td><td>99</td><td>40</td><td>17</td><td>11</td><td>1</td><td>0</td><td>0</td><td>0</td><td>2</td><td>4</td><td>9</td><td>2</td><td>0.012821</td><td>0.0</td><td>0.0</td><td>0.666667</td><td>0.25</td><td>1</td><td>0.058824</td><td>0.0</td><td>0.0</td><td>1.0</td><td>1.0</td><td>264</td><td>0.003372</td><td>4.5</td><td>2.5</td><td>0.15493</td><td>0.094151</td><td>1331</td><td>367</td><td>0</td><td>1.857143</td><td>-123</td><td>true</td><td>false</td><td>0.021127</td></tr><tr><td>118493914</td><td>9779996</td><td>1770038</td><td>2023-05-24</td><td>0</td><td>1</td><td>840.0</td><td>100.0</td><td>false</td><td>2</td><td>null</td><td>false</td><td>5</td><td>88</td><td>243</td><td>378</td><td>205</td><td>4</td><td>7</td><td>0.36214</td><td>0.232804</td><td>0.445055</td><td>false</td><td>118</td><td>0.9133</td><td>&quot;Neutral&quot;</td><td>0</td><td>9</td><td>21</td><td>348</td><td>3</td><td>25112</td><td>304426</td><td>1.735105e6</td><td>0.08249</td><td>&quot;article_default&quot;</td><td>0</td><td>&hellip;</td><td>88</td><td>45</td><td>43</td><td>13</td><td>1</td><td>0</td><td>0</td><td>0</td><td>52</td><td>102</td><td>109</td><td>1</td><td>0.00641</td><td>0.0</td><td>0.0</td><td>0.333333</td><td>0.2</td><td>1</td><td>0.027027</td><td>0.0</td><td>0.0</td><td>1.0</td><td>1.0</td><td>304</td><td>0.003007</td><td>-86.400002</td><td>-7.6</td><td>0.166302</td><td>0.157268</td><td>334</td><td>474</td><td>0</td><td>3.6</td><td>-145</td><td>true</td><td>false</td><td>0.239437</td></tr><tr><td>118493914</td><td>9780019</td><td>1770038</td><td>2023-05-24</td><td>0</td><td>1</td><td>840.0</td><td>100.0</td><td>false</td><td>2</td><td>null</td><td>false</td><td>5</td><td>89</td><td>289</td><td>505</td><td>286</td><td>4</td><td>7</td><td>0.307958</td><td>0.176238</td><td>0.529304</td><td>false</td><td>142</td><td>0.5539</td><td>&quot;Negative&quot;</td><td>1</td><td>5</td><td>19</td><td>175</td><td>3</td><td>75243</td><td>318151</td><td>2.02572e6</td><td>0.236501</td><td>&quot;article_default&quot;</td><td>0</td><td>&hellip;</td><td>88</td><td>45</td><td>43</td><td>13</td><td>1</td><td>0</td><td>0</td><td>0</td><td>15</td><td>35</td><td>112</td><td>1</td><td>0.00641</td><td>0.0</td><td>0.0</td><td>0.333333</td><td>0.333333</td><td>1</td><td>0.027027</td><td>0.0</td><td>0.0</td><td>1.0</td><td>1.0</td><td>600</td><td>0.006326</td><td>4.6</td><td>2.6</td><td>0.30722</td><td>0.26178</td><td>1056</td><td>690</td><td>0</td><td>3.6</td><td>-145</td><td>true</td><td>false</td><td>0.239437</td></tr><tr><td>503100891</td><td>9779263</td><td>2067345</td><td>2023-05-24</td><td>0</td><td>2</td><td>36.0</td><td>null</td><td>false</td><td>2</td><td>null</td><td>false</td><td>5</td><td>60</td><td>180</td><td>291</td><td>195</td><td>4</td><td>7</td><td>0.333333</td><td>0.206186</td><td>0.32967</td><td>false</td><td>498</td><td>0.5646</td><td>&quot;Positive&quot;</td><td>3</td><td>6</td><td>13</td><td>501</td><td>4</td><td>197659</td><td>771668</td><td>1.5790282e7</td><td>0.256145</td><td>&quot;article_default&quot;</td><td>0</td><td>&hellip;</td><td>37</td><td>42</td><td>6</td><td>18</td><td>1</td><td>0</td><td>0</td><td>0</td><td>0</td><td>21</td><td>8</td><td>8</td><td>0.051282</td><td>0.0</td><td>0.0</td><td>2.666667</td><td>1.0</td><td>1</td><td>0.1</td><td>0.0</td><td>0.0</td><td>1.0</td><td>1.0</td><td>1698</td><td>0.014553</td><td>-191.699997</td><td>-19.299999</td><td>0.960407</td><td>0.343794</td><td>2243</td><td>2714</td><td>0</td><td>5.0</td><td>17</td><td>false</td><td>false</td><td>0.028169</td></tr></tbody></table></div>"
      ],
      "text/plain": [
       "shape: (5, 93)\n",
       "┌────────────┬─────────┬─────────┬────────────┬───┬────────────┬───────────┬───────────┬───────────┐\n",
       "│ impression ┆ article ┆ user_id ┆ impression ┆ … ┆ last_sessi ┆ is_new_ar ┆ is_alread ┆ yesterday │\n",
       "│ _id        ┆ ---     ┆ ---     ┆ _time      ┆   ┆ on_time_ho ┆ ticle     ┆ y_seen_ar ┆ _category │\n",
       "│ ---        ┆ i32     ┆ u32     ┆ ---        ┆   ┆ ur_diff    ┆ ---       ┆ ticle     ┆ _daily_pc │\n",
       "│ u32        ┆         ┆         ┆ date       ┆   ┆ ---        ┆ bool      ┆ ---       ┆ t         │\n",
       "│            ┆         ┆         ┆            ┆   ┆ i16        ┆           ┆ bool      ┆ ---       │\n",
       "│            ┆         ┆         ┆            ┆   ┆            ┆           ┆           ┆ f32       │\n",
       "╞════════════╪═════════╪═════════╪════════════╪═══╪════════════╪═══════════╪═══════════╪═══════════╡\n",
       "│ 118493914  ┆ 9776967 ┆ 1770038 ┆ 2023-05-24 ┆ … ┆ -145       ┆ true      ┆ false     ┆ 0.239437  │\n",
       "│ 311999725  ┆ 9777910 ┆ 2054298 ┆ 2023-05-24 ┆ … ┆ -123       ┆ true      ┆ false     ┆ 0.021127  │\n",
       "│ 118493914  ┆ 9779996 ┆ 1770038 ┆ 2023-05-24 ┆ … ┆ -145       ┆ true      ┆ false     ┆ 0.239437  │\n",
       "│ 118493914  ┆ 9780019 ┆ 1770038 ┆ 2023-05-24 ┆ … ┆ -145       ┆ true      ┆ false     ┆ 0.239437  │\n",
       "│ 503100891  ┆ 9779263 ┆ 2067345 ┆ 2023-05-24 ┆ … ┆ 17         ┆ false     ┆ false     ┆ 0.028169  │\n",
       "└────────────┴─────────┴─────────┴────────────┴───┴────────────┴───────────┴───────────┴───────────┘"
      ]
     },
     "execution_count": 57,
     "metadata": {},
     "output_type": "execute_result"
    }
   ],
   "source": [
    "%%time\n",
    "\n",
    "NPRATIO = 2\n",
    "\n",
    "users_mean_trendiness_scores, topics_mean_trendiness_scores = _preprocessing_history_trendiness_scores(\n",
    "        history=history_val, articles=articles)\n",
    "topic_mean_delays, user_mean_delays = _preprocessing_mean_delay_features(\n",
    "    articles=articles, history=history_val)\n",
    "windows, user_windows, user_topics_windows, user_category_windows = _preprocessing_window_features(\n",
    "    history=history_val, articles=articles)\n",
    "articles_endorsement = _preprocessing_article_endorsement_feature(\n",
    "    behaviors=behaviors_val, period=\"10h\")\n",
    "normalized_endorsement = normalize_endorsement(articles_endorsement)\n",
    "articles_endorsement_articleuser = _preprocessing_article_endorsement_feature_by_article_and_user(\n",
    "    behaviors=behaviors_val, period=\"20h\")\n",
    "normalized_endorsement_articleuser = normalize_endorsement_by_article_and_user(articles_endorsement_articleuser)\n",
    "\n",
    "history_counts=history_val.select(['article_id_fixed']).explode('article_id_fixed').group_by('article_id_fixed').len() \\\n",
    ".rename({'article_id_fixed':'article','len':'clicked_count'})\n",
    "\n",
    "behaviors_counts=behaviors_val.select('article_ids_inview').explode('article_ids_inview').group_by('article_ids_inview').len() \\\n",
    ".rename({'article_ids_inview':'article','len':'inview_count'})\n",
    "\n",
    "# dropping duplicates that can occur because of sampling strategy\n",
    "val_ds = behaviors_val.pipe(create_binary_labels_column, shuffle=True, seed=123) \\\n",
    "    .with_columns(pl.col('gender').fill_null(2)) \\\n",
    "    .with_columns(pl.col('postcode').fill_null(5)) \\\n",
    "    .select(['impression_id', 'article_ids_inview', 'impression_time', 'labels', \n",
    "             'device_type', 'read_time', 'scroll_percentage', 'user_id', 'is_sso_user', 'gender',\n",
    "             'age', 'is_subscriber', 'session_id', 'postcode']) \\\n",
    "    .explode(['article_ids_inview', 'labels']) \\\n",
    "    .rename({'article_ids_inview': 'article', 'labels': 'target'}) \\\n",
    "    .with_columns(pl.col('article').cast(pl.Int32)) \\\n",
    "    .pipe(add_trendiness_feature, articles=articles, period='1d') \\\n",
    "    .rename({'trendiness_score': 'trendiness_score_1d'}) \\\n",
    "    .pipe(add_trendiness_feature, articles=articles, period='3d') \\\n",
    "    .rename({'trendiness_score': 'trendiness_score_3d'}) \\\n",
    "    .pipe(add_trendiness_feature, articles=articles, period='5d') \\\n",
    "    .rename({'trendiness_score': 'trendiness_score_5d'}) \\\n",
    "    .pipe(add_trendiness_feature_leak, articles=articles, period='3d') \\\n",
    "    .rename({'trendiness_score_leak':'trendiness_score_3d_leak'}) \\\n",
    "    .unique(['impression_id', 'article']) \\\n",
    "    .with_columns(\n",
    "        pl.col('impression_time').dt.weekday().alias('weekday'),\n",
    "        pl.col('impression_time').dt.hour().alias('hour'),\n",
    "        pl.col('article').cast(pl.Int32),\n",
    "        (\n",
    "            pl.col('trendiness_score_1d') / \n",
    "            pl.col('trendiness_score_3d')\n",
    "        ).alias('trendiness_score_1d/3d'),\n",
    "        (\n",
    "            pl.col('trendiness_score_1d') / \n",
    "            pl.col('trendiness_score_5d')\n",
    "        ).alias('trendiness_score_1d/5d'),\n",
    "        (\n",
    "            pl.col('trendiness_score_3d') / \n",
    "            pl.col('trendiness_score_3d').max().over(pl.col('impression_time').dt.date())\n",
    "        ).alias('normalized_trendiness_score_overall'),\n",
    "    ).join(articles.select(['article_id', 'premium', 'published_time', 'category',\n",
    "                            'sentiment_score', 'sentiment_label', 'entity_groups',\n",
    "                            'num_images', 'title_len', 'subtitle_len', 'body_len','num_topics',\n",
    "                            'total_pageviews', 'total_inviews', 'total_read_time', \n",
    "                            'total_pageviews/inviews', 'article_type']),\n",
    "           left_on='article', right_on='article_id', how='left') \\\n",
    "    .with_columns(\n",
    "        (pl.col('impression_time') - pl.col('published_time')).dt.total_days().alias('article_delay_days'),\n",
    "        (pl.col('impression_time') - pl.col('published_time')).dt.total_hours().alias('article_delay_hours')\n",
    "    ).with_columns(\n",
    "        pl.col('entity_groups').list.contains(entity).alias(f'Entity_{entity}_Present')\n",
    "        for entity in unique_entities\n",
    "    ).drop('entity_groups') \\\n",
    "    .join(behaviors_ner_scores, on=['impression_id', 'article'], how='left') \\\n",
    "    .pipe(add_history_trendiness_scores_feature, articles=articles, \n",
    "          users_mean_trendiness_scores=users_mean_trendiness_scores,\n",
    "          topics_mean_trendiness_scores=topics_mean_trendiness_scores, topics=topics) \\\n",
    "    .pipe(add_mean_delays_features, articles=articles,\n",
    "          topic_mean_delays=topic_mean_delays, user_mean_delays=user_mean_delays) \\\n",
    "    .pipe(add_window_features, articles=articles, user_windows=user_windows,\n",
    "          user_category_windows=user_category_windows, \n",
    "          user_topics_windows=user_topics_windows, windows=windows) \\\n",
    "    .pipe(add_trendiness_feature_categories, articles=articles) \\\n",
    "    .pipe(add_article_endorsement_feature, normalized_endorsement=normalized_endorsement) \\\n",
    "    .pipe(add_article_endorsement_feature_by_article_and_user, normalized_endorsement = normalized_endorsement_articleuser) \\\n",
    "    .pipe(add_article_endorsement_feature_leak, normalized_endorsement = normalized_endorsement) \\\n",
    "    .rename({\n",
    "        \"endorsement_10h_diff_rolling_right\":\"endorsement_10h_leak_diff_rolling\",\n",
    "        \"endorsement_macd_right\":\"endorsement_leak_macd\",\n",
    "        \"endorsement_quantile_norm_10h_right\":\"endorsement_quantile_norm_10h_leak\",\n",
    "        \"normalized_endorsement_10h_rolling_max_ratio_right\":\"normalized_endorsement_10h_leak_rolling_max_ratio\"\n",
    "    }).join(history_counts, on='article',how='left') \\\n",
    "    .join(behaviors_counts , on='article', how='left') \\\n",
    "    .join(last_session_time_df, on='session_id', how='left').with_columns(\n",
    "        (pl.col('impression_time') - pl.col('last_session_time')).dt.total_hours().alias('last_session_time_hour_diff'),\n",
    "        ((pl.col('last_session_time') - pl.col('published_time')).dt.total_hours() > 0).alias('is_new_article'),\n",
    "        pl.col('all_seen_articles').list.contains(pl.col('article')).alias('is_already_seen_article'),\n",
    "    ).drop(['published_time', 'session_id', 'all_seen_articles', 'last_session_time']) \\\n",
    "    .join(published_category_popularity, how='left', right_on=['published_date', 'category'],\n",
    "          left_on=[pl.col('impression_time').dt.date() - pl.duration(days=1), 'category']) \\\n",
    "    .rename({'category_daily_pct': 'yesterday_category_daily_pct'}) \\\n",
    "    .with_columns(pl.col('yesterday_category_daily_pct').fill_null(0))\n",
    "\n",
    "gc.collect()\n",
    "PrintColor(f\"\\n\" + GetMemUsage(), color = Fore.RED)\n",
    "\n",
    "val_ds = reduce_polars_df_memory_size(val_ds)\n",
    "PrintColor(f\"\\n\" + GetMemUsage(), color = Fore.RED)\n",
    "val_ds.head()"
   ]
  },
  {
   "cell_type": "code",
   "execution_count": 58,
   "id": "afb68e06",
   "metadata": {
    "execution": {
     "iopub.execute_input": "2024-05-19T11:53:01.074789Z",
     "iopub.status.busy": "2024-05-19T11:53:01.074375Z",
     "iopub.status.idle": "2024-05-19T11:53:01.083350Z",
     "shell.execute_reply": "2024-05-19T11:53:01.081896Z"
    },
    "papermill": {
     "duration": 2.116273,
     "end_time": "2024-05-19T11:53:01.086153",
     "exception": false,
     "start_time": "2024-05-19T11:52:58.969880",
     "status": "completed"
    },
    "tags": []
   },
   "outputs": [
    {
     "data": {
      "text/plain": [
       "(2928942, 93)"
      ]
     },
     "execution_count": 58,
     "metadata": {},
     "output_type": "execute_result"
    }
   ],
   "source": [
    "val_ds.shape"
   ]
  },
  {
   "cell_type": "code",
   "execution_count": 59,
   "id": "88713e39",
   "metadata": {
    "execution": {
     "iopub.execute_input": "2024-05-19T11:53:05.294750Z",
     "iopub.status.busy": "2024-05-19T11:53:05.294338Z",
     "iopub.status.idle": "2024-05-19T12:30:51.107532Z",
     "shell.execute_reply": "2024-05-19T12:30:51.106083Z"
    },
    "papermill": {
     "duration": 2267.924659,
     "end_time": "2024-05-19T12:30:51.110024",
     "exception": false,
     "start_time": "2024-05-19T11:53:03.185365",
     "status": "completed"
    },
    "tags": []
   },
   "outputs": [
    {
     "name": "stderr",
     "output_type": "stream",
     "text": [
      "293it [37:39,  7.71s/it]\n"
     ]
    },
    {
     "name": "stdout",
     "output_type": "stream",
     "text": [
      "Memory usage of dataframe is 1925.91 MB\n",
      "Memory usage after optimization is: 1492.96 MB\n",
      "Decreased by 22.5%\n",
      "\u001b[1m\u001b[31m\n",
      "RAM memory GB usage = 10.47\u001b[0m\n"
     ]
    },
    {
     "data": {
      "text/html": [
       "<div><style>\n",
       ".dataframe > thead > tr,\n",
       ".dataframe > tbody > tr {\n",
       "  text-align: right;\n",
       "  white-space: pre-wrap;\n",
       "}\n",
       "</style>\n",
       "<small>shape: (5, 165)</small><table border=\"1\" class=\"dataframe\"><thead><tr><th>impression_id</th><th>article</th><th>user_id</th><th>target</th><th>device_type</th><th>read_time</th><th>scroll_percentage</th><th>is_sso_user</th><th>gender</th><th>age</th><th>is_subscriber</th><th>postcode</th><th>trendiness_score_1d</th><th>trendiness_score_3d</th><th>trendiness_score_5d</th><th>trendiness_score_3d_leak</th><th>weekday</th><th>hour</th><th>trendiness_score_1d/3d</th><th>trendiness_score_1d/5d</th><th>normalized_trendiness_score_overall</th><th>premium</th><th>category</th><th>sentiment_score</th><th>sentiment_label</th><th>num_images</th><th>title_len</th><th>subtitle_len</th><th>body_len</th><th>num_topics</th><th>total_pageviews</th><th>total_inviews</th><th>total_read_time</th><th>total_pageviews/inviews</th><th>article_type</th><th>article_delay_days</th><th>article_delay_hours</th><th>&hellip;</th><th>MostFrequentWeekday</th><th>MostFrequentHour</th><th>PRODPct</th><th>LOCPct</th><th>MISCPct</th><th>ORGPct</th><th>PERPct</th><th>EVENTPct</th><th>topics_cosine</th><th>IsFavouriteCategory</th><th>NumberDifferentCategories</th><th>PctCategoryMatches</th><th>Category_underholdning_Pct</th><th>Category_penge_Pct</th><th>Category_bibliotek_Pct</th><th>Category_side9_Pct</th><th>Category_ferie_Pct</th><th>Category_krimi_Pct</th><th>Category_horoskoper_Pct</th><th>Category_musik_Pct</th><th>Category_podcast_Pct</th><th>Category_forbrug_Pct</th><th>Category_dagsorden_Pct</th><th>Category_haandvaerkeren_Pct</th><th>Category_plus_Pct</th><th>Category_auto_Pct</th><th>Category_vin_Pct</th><th>Category_services_Pct</th><th>Category_incoming_Pct</th><th>Category_sport_Pct</th><th>Category_om_ekstra_bladet_Pct</th><th>Category_opinionen_Pct</th><th>Category_biler_Pct</th><th>Category_nyheder_Pct</th><th>Category_sex_og_samliv_Pct</th><th>Category_nationen_Pct</th><th>Category_video_Pct</th></tr><tr><td>u32</td><td>i32</td><td>u32</td><td>i8</td><td>i8</td><td>f32</td><td>f32</td><td>bool</td><td>i8</td><td>i8</td><td>bool</td><td>i8</td><td>i16</td><td>i16</td><td>i16</td><td>i16</td><td>i8</td><td>i8</td><td>f32</td><td>f32</td><td>f32</td><td>bool</td><td>i16</td><td>f32</td><td>str</td><td>u32</td><td>u8</td><td>u8</td><td>u16</td><td>u32</td><td>i32</td><td>i32</td><td>f32</td><td>f32</td><td>str</td><td>i16</td><td>i32</td><td>&hellip;</td><td>i8</td><td>i8</td><td>f32</td><td>f32</td><td>f32</td><td>f32</td><td>f32</td><td>f32</td><td>f32</td><td>bool</td><td>u8</td><td>f32</td><td>f32</td><td>f32</td><td>f32</td><td>f32</td><td>f32</td><td>f32</td><td>f32</td><td>f32</td><td>f32</td><td>f32</td><td>f32</td><td>f32</td><td>f32</td><td>f32</td><td>f32</td><td>f32</td><td>f32</td><td>f32</td><td>f32</td><td>f32</td><td>f32</td><td>f32</td><td>f32</td><td>f32</td><td>f32</td></tr></thead><tbody><tr><td>222888791</td><td>8952833</td><td>2467812</td><td>0</td><td>1</td><td>10.0</td><td>null</td><td>true</td><td>0</td><td>null</td><td>false</td><td>2</td><td>121</td><td>352</td><td>568</td><td>295</td><td>4</td><td>7</td><td>0.34375</td><td>0.213028</td><td>0.644689</td><td>true</td><td>414</td><td>0.9537</td><td>&quot;Neutral&quot;</td><td>6</td><td>8</td><td>14</td><td>1171</td><td>5</td><td>null</td><td>null</td><td>null</td><td>null</td><td>&quot;article_default&quot;</td><td>563</td><td>13535</td><td>&hellip;</td><td>3</td><td>7</td><td>0.328383</td><td>0.815181</td><td>0.19637</td><td>0.914191</td><td>0.876238</td><td>0.165017</td><td>0.343601</td><td>false</td><td>12</td><td>0.981848</td><td>0.181518</td><td>0.026403</td><td>0.0</td><td>0.00495</td><td>0.00495</td><td>0.188119</td><td>0.0</td><td>0.018152</td><td>0.0</td><td>0.031353</td><td>0.0</td><td>0.0</td><td>0.0</td><td>0.0</td><td>0.0</td><td>0.0</td><td>0.0</td><td>0.145215</td><td>0.0</td><td>0.0</td><td>0.00495</td><td>0.356436</td><td>0.008251</td><td>0.029703</td><td>0.0</td></tr><tr><td>371238689</td><td>9779713</td><td>1871994</td><td>1</td><td>2</td><td>16.0</td><td>null</td><td>false</td><td>2</td><td>null</td><td>false</td><td>5</td><td>145</td><td>442</td><td>763</td><td>421</td><td>4</td><td>7</td><td>0.328054</td><td>0.190039</td><td>0.809524</td><td>false</td><td>142</td><td>0.9834</td><td>&quot;Positive&quot;</td><td>2</td><td>12</td><td>22</td><td>361</td><td>5</td><td>53304</td><td>386926</td><td>4.07042e6</td><td>0.137763</td><td>&quot;article_default&quot;</td><td>0</td><td>1</td><td>&hellip;</td><td>7</td><td>8</td><td>0.177215</td><td>0.778481</td><td>0.196203</td><td>0.892405</td><td>0.898734</td><td>0.189873</td><td>0.409681</td><td>false</td><td>8</td><td>0.955696</td><td>0.050633</td><td>0.044304</td><td>0.0</td><td>0.0</td><td>0.0</td><td>0.316456</td><td>0.0</td><td>0.018987</td><td>0.0</td><td>0.025316</td><td>0.0</td><td>0.0</td><td>0.0</td><td>0.0</td><td>0.0</td><td>0.0</td><td>0.0</td><td>0.28481</td><td>0.0</td><td>0.0</td><td>0.0</td><td>0.246835</td><td>0.0</td><td>0.012658</td><td>0.0</td></tr><tr><td>138454500</td><td>9711985</td><td>444211</td><td>0</td><td>2</td><td>46.0</td><td>100.0</td><td>false</td><td>2</td><td>null</td><td>false</td><td>5</td><td>82</td><td>229</td><td>369</td><td>196</td><td>4</td><td>7</td><td>0.358079</td><td>0.222222</td><td>0.419414</td><td>false</td><td>414</td><td>0.9267</td><td>&quot;Negative&quot;</td><td>2</td><td>9</td><td>19</td><td>285</td><td>3</td><td>57948</td><td>325969</td><td>3.906405e6</td><td>0.177772</td><td>&quot;article_default&quot;</td><td>45</td><td>1101</td><td>&hellip;</td><td>3</td><td>5</td><td>0.230469</td><td>0.752604</td><td>0.197917</td><td>0.888021</td><td>0.861979</td><td>0.25651</td><td>0.343168</td><td>false</td><td>9</td><td>0.989583</td><td>0.153646</td><td>0.011719</td><td>0.0</td><td>0.0</td><td>0.0</td><td>0.147135</td><td>0.0</td><td>0.035156</td><td>0.0</td><td>0.013021</td><td>0.0</td><td>0.0</td><td>0.0</td><td>0.0</td><td>0.0</td><td>0.0</td><td>0.0</td><td>0.356771</td><td>0.0</td><td>0.0</td><td>0.0</td><td>0.251302</td><td>0.001302</td><td>0.029948</td><td>0.0</td></tr><tr><td>36672692</td><td>8496358</td><td>1895052</td><td>0</td><td>1</td><td>33.0</td><td>null</td><td>false</td><td>2</td><td>null</td><td>false</td><td>5</td><td>95</td><td>275</td><td>423</td><td>228</td><td>4</td><td>7</td><td>0.345455</td><td>0.224586</td><td>0.503663</td><td>true</td><td>414</td><td>0.8524</td><td>&quot;Neutral&quot;</td><td>2</td><td>9</td><td>27</td><td>530</td><td>5</td><td>null</td><td>null</td><td>null</td><td>null</td><td>&quot;article_default&quot;</td><td>807</td><td>19385</td><td>&hellip;</td><td>1</td><td>7</td><td>0.242054</td><td>0.787286</td><td>0.195599</td><td>0.92665</td><td>0.875306</td><td>0.188264</td><td>0.228979</td><td>false</td><td>8</td><td>0.982885</td><td>0.085575</td><td>0.0489</td><td>0.0</td><td>0.0</td><td>0.0</td><td>0.200489</td><td>0.0</td><td>0.017115</td><td>0.0</td><td>0.01467</td><td>0.0</td><td>0.0</td><td>0.0</td><td>0.0</td><td>0.0</td><td>0.0</td><td>0.0</td><td>0.141809</td><td>0.0</td><td>0.0</td><td>0.0</td><td>0.391198</td><td>0.0</td><td>0.100244</td><td>0.0</td></tr><tr><td>199318389</td><td>9780193</td><td>1609584</td><td>0</td><td>1</td><td>89.0</td><td>100.0</td><td>false</td><td>2</td><td>null</td><td>false</td><td>5</td><td>1</td><td>5</td><td>9</td><td>3</td><td>4</td><td>7</td><td>0.2</td><td>0.111111</td><td>0.009158</td><td>false</td><td>118</td><td>0.5032</td><td>&quot;Neutral&quot;</td><td>0</td><td>7</td><td>13</td><td>225</td><td>1</td><td>58440</td><td>368985</td><td>3.245847e6</td><td>0.15838</td><td>&quot;article_default&quot;</td><td>0</td><td>1</td><td>&hellip;</td><td>3</td><td>12</td><td>0.355932</td><td>0.779661</td><td>0.237288</td><td>0.966102</td><td>0.915254</td><td>0.20339</td><td>0.0</td><td>false</td><td>8</td><td>0.881356</td><td>0.186441</td><td>0.016949</td><td>0.0</td><td>0.0</td><td>0.0</td><td>0.152542</td><td>0.0</td><td>0.033898</td><td>0.0</td><td>0.016949</td><td>0.0</td><td>0.0</td><td>0.0</td><td>0.0</td><td>0.0</td><td>0.0</td><td>0.0</td><td>0.305085</td><td>0.0</td><td>0.0</td><td>0.0</td><td>0.271186</td><td>0.0</td><td>0.016949</td><td>0.0</td></tr></tbody></table></div>"
      ],
      "text/plain": [
       "shape: (5, 165)\n",
       "┌─────────────┬─────────┬─────────┬────────┬───┬────────────┬────────────┬────────────┬────────────┐\n",
       "│ impression_ ┆ article ┆ user_id ┆ target ┆ … ┆ Category_n ┆ Category_s ┆ Category_n ┆ Category_v │\n",
       "│ id          ┆ ---     ┆ ---     ┆ ---    ┆   ┆ yheder_Pct ┆ ex_og_saml ┆ ationen_Pc ┆ ideo_Pct   │\n",
       "│ ---         ┆ i32     ┆ u32     ┆ i8     ┆   ┆ ---        ┆ iv_Pct     ┆ t          ┆ ---        │\n",
       "│ u32         ┆         ┆         ┆        ┆   ┆ f32        ┆ ---        ┆ ---        ┆ f32        │\n",
       "│             ┆         ┆         ┆        ┆   ┆            ┆ f32        ┆ f32        ┆            │\n",
       "╞═════════════╪═════════╪═════════╪════════╪═══╪════════════╪════════════╪════════════╪════════════╡\n",
       "│ 222888791   ┆ 8952833 ┆ 2467812 ┆ 0      ┆ … ┆ 0.356436   ┆ 0.008251   ┆ 0.029703   ┆ 0.0        │\n",
       "│ 371238689   ┆ 9779713 ┆ 1871994 ┆ 1      ┆ … ┆ 0.246835   ┆ 0.0        ┆ 0.012658   ┆ 0.0        │\n",
       "│ 138454500   ┆ 9711985 ┆ 444211  ┆ 0      ┆ … ┆ 0.251302   ┆ 0.001302   ┆ 0.029948   ┆ 0.0        │\n",
       "│ 36672692    ┆ 8496358 ┆ 1895052 ┆ 0      ┆ … ┆ 0.391198   ┆ 0.0        ┆ 0.100244   ┆ 0.0        │\n",
       "│ 199318389   ┆ 9780193 ┆ 1609584 ┆ 0      ┆ … ┆ 0.271186   ┆ 0.0        ┆ 0.016949   ┆ 0.0        │\n",
       "└─────────────┴─────────┴─────────┴────────┴───┴────────────┴────────────┴────────────┴────────────┘"
      ]
     },
     "execution_count": 59,
     "metadata": {},
     "output_type": "execute_result"
    }
   ],
   "source": [
    "prev_columns = [c for c in val_ds.columns if c not in ['impression_id', 'article', 'impression_time']]\n",
    "\n",
    "val_ds = pl.concat(\n",
    "    rows.join(history_val.select(['user_id', 'article_id_fixed', 'impression_time_fixed']), on='user_id', how='left') \\\n",
    "        .join(articles.select(['article_id', 'topics', 'entity_groups', 'topics_idf'] + topic_model_columns), \n",
    "              left_on='article', right_on='article_id', how='left') \\\n",
    "        .explode(['article_id_fixed', 'impression_time_fixed']) \\\n",
    "        .join(articles.select(['article_id', 'topics', 'entity_groups'] + topic_model_columns), \n",
    "              left_on='article_id_fixed', right_on='article_id', how='left') \\\n",
    "        .rename({'topics_right': 'topics_history', 'entity_groups_right': 'entity_groups_history'}) \\\n",
    "        .rename({f'topic_model_embedding_{i}_right': f'topic_model_embedding_{i}_history' for i in range(N_COMPONENTS)}) \\\n",
    "        .with_columns(\n",
    "            # 1/delay gives the weight for the weighted mean of the lda embeddings\n",
    "            (1 / (pl.col('impression_time') - pl.col('impression_time_fixed')).dt.total_hours().sqrt()).alias('history_weight'),\n",
    "            (pl.col(\"topics\").list.set_intersection(pl.col(\"topics_history\")).list.len().truediv(\n",
    "                pl.col(\"topics\").list.set_union(pl.col(\"topics_history\")).list.len()\n",
    "            )).alias(\"JS\"),\n",
    "            pl.col('entity_groups').list.set_intersection(pl.col('entity_groups_history')).list.len().alias('common_entities'),\n",
    "        ).drop(['entity_groups_history', 'entity_groups', 'topics', 'topics_history']) \\\n",
    "        .with_columns(\n",
    "            # summing delays to normalize them before weighted mean\n",
    "            pl.col('history_weight').sum().over(['impression_id', 'article']).alias('history_weight_sum'),\n",
    "            *[pl.col(x).mul(pl.col(f'{x}_history')).alias(f'{x}_dot') for x in topic_model_columns],\n",
    "            *[pl.col(x).mul(pl.col(x)) for x in topic_model_columns],\n",
    "            *[pl.col(f'{x}_history').mul(pl.col(f'{x}_history')).alias(f'{x}_history_square') for x in topic_model_columns],\n",
    "        ).with_columns(\n",
    "            # weights now sum to 1\n",
    "            pl.col('history_weight').truediv(pl.col('history_weight_sum')),\n",
    "            pl.sum_horizontal(topic_model_columns).sqrt().alias('topic_model_norm'),\n",
    "            pl.sum_horizontal([f'{x}_history_square' for x in topic_model_columns]).sqrt().alias('topic_model_history_norm'),\n",
    "            pl.sum_horizontal([f'{x}_dot' for x in topic_model_columns]).alias('topic_model_dot'),\n",
    "        ).with_columns(\n",
    "            *[pl.col(f'{x}_history').mul(pl.col('history_weight')).alias(f'{x}_history_weighted') for i, x in enumerate(topic_model_columns)],\n",
    "            pl.col('topic_model_dot').truediv(pl.col('topic_model_norm').mul('topic_model_history_norm')).alias('topic_model_cosine')\n",
    "        ).group_by(['impression_id', 'article']).agg(\n",
    "            pl.col(prev_train_columns).first(),\n",
    "            pl.col('topics_idf').first(),\n",
    "            pl.col('common_entities').mean().alias('MeanCommonEntities'),\n",
    "            pl.col('common_entities').max().alias('MaxCommonEntities'),\n",
    "            pl.col(\"JS\").mean().alias(\"mean_JS\"),\n",
    "            pl.col(\"JS\").min().alias(\"min_JS\"),\n",
    "            pl.col(\"JS\").max().alias(\"max_JS\"),\n",
    "            pl.col(\"JS\").std().alias(\"std_JS\"),\n",
    "            pl.col(\"JS\").mul(pl.col(\"history_weight\")).sum().alias(\"weighted_mean_JS\"),\n",
    "            pl.col(\"topic_model_cosine\").mean().alias(\"mean_topic_model_cosine\"),\n",
    "            pl.col(\"topic_model_cosine\").min().alias(\"min_topic_model_cosine\"),\n",
    "            pl.col(\"topic_model_cosine\").max().alias(\"max_topic_model_cosine\"),\n",
    "            pl.col(\"topic_model_cosine\").std().alias(\"std_topic_model_cosine\"),\n",
    "            pl.col(\"topic_model_cosine\").mul(pl.col(\"history_weight\")).sum().alias(\"weighted_mean_topic_model_cosine\"),\n",
    "            *[pl.col(f'{x}_history').mean().alias(f'lda_{i}_history_mean') for i, x in enumerate(topic_model_columns)],\n",
    "            *[pl.col(f'{x}_history_weighted').sum().alias(f'lda_{i}_history_weighted_mean') for i, x in enumerate(topic_model_columns)]\n",
    "        ).join(history_val.drop(['article_id_fixed', 'impression_time_fixed']), on='user_id', how='left') \\\n",
    "        .with_columns(\n",
    "            pl.struct(['topics_idf', 'topics_flatten_tf_idf']).map_elements(\n",
    "                lambda x: cosine_similarity(x['topics_idf'], x['topics_flatten_tf_idf']), return_dtype=pl.Float64\n",
    "            ).cast(pl.Float32).alias('topics_cosine'),\n",
    "            (pl.col('category') == pl.col('MostFrequentCategory')).alias('IsFavouriteCategory'),\n",
    "            pl.col('category_right').list.n_unique().alias('NumberDifferentCategories'),\n",
    "            list_pct_matches_with_col('category_right', 'category').alias('PctCategoryMatches'),\n",
    "        ).with_columns(\n",
    "            [list_pct_matches_with_constant('category_right', c).alias(f'Category_{c_str}_Pct')\n",
    "             for c, c_str in unique_categories.items()]\n",
    "        ).drop(['topics_idf', 'topics_flatten', 'topics_flatten_tf_idf', 'category_right'])\n",
    "    for rows in tqdm.tqdm(val_ds.iter_slices(10000), total=val_ds.shape[0] // 10000)\n",
    ")\n",
    "\n",
    "val_ds = reduce_polars_df_memory_size(val_ds)\n",
    "PrintColor(f\"\\n\" + GetMemUsage(), color = Fore.RED)\n",
    "val_ds.head()"
   ]
  },
  {
   "cell_type": "code",
   "execution_count": 60,
   "id": "e08ba5e6",
   "metadata": {
    "execution": {
     "iopub.execute_input": "2024-05-19T12:30:55.376331Z",
     "iopub.status.busy": "2024-05-19T12:30:55.375371Z",
     "iopub.status.idle": "2024-05-19T12:32:22.875525Z",
     "shell.execute_reply": "2024-05-19T12:32:22.874298Z"
    },
    "papermill": {
     "duration": 89.634964,
     "end_time": "2024-05-19T12:32:22.879632",
     "exception": false,
     "start_time": "2024-05-19T12:30:53.244668",
     "status": "completed"
    },
    "tags": []
   },
   "outputs": [
    {
     "name": "stderr",
     "output_type": "stream",
     "text": [
      "  0%|          | 0/12 [00:00<?, ?it/s]"
     ]
    },
    {
     "name": "stdout",
     "output_type": "stream",
     "text": [
      "Memory usage of dataframe is 1807.55 MB\n"
     ]
    },
    {
     "name": "stderr",
     "output_type": "stream",
     "text": [
      "  8%|▊         | 1/12 [00:07<01:26,  7.86s/it]"
     ]
    },
    {
     "name": "stdout",
     "output_type": "stream",
     "text": [
      "Memory usage after optimization is: 1695.82 MB\n",
      "Decreased by 6.2%\n",
      "Memory usage of dataframe is 1729.69 MB\n"
     ]
    },
    {
     "name": "stderr",
     "output_type": "stream",
     "text": [
      " 17%|█▋        | 2/12 [00:12<00:57,  5.72s/it]"
     ]
    },
    {
     "name": "stdout",
     "output_type": "stream",
     "text": [
      "Memory usage after optimization is: 1713.72 MB\n",
      "Decreased by 0.9%\n",
      "Memory usage of dataframe is 1883.06 MB\n"
     ]
    },
    {
     "name": "stderr",
     "output_type": "stream",
     "text": [
      " 25%|██▌       | 3/12 [00:23<01:16,  8.45s/it]"
     ]
    },
    {
     "name": "stdout",
     "output_type": "stream",
     "text": [
      "Memory usage after optimization is: 1799.26 MB\n",
      "Decreased by 4.5%\n",
      "Memory usage of dataframe is 2113.85 MB\n"
     ]
    },
    {
     "name": "stderr",
     "output_type": "stream",
     "text": [
      " 33%|███▎      | 4/12 [00:27<00:52,  6.59s/it]"
     ]
    },
    {
     "name": "stdout",
     "output_type": "stream",
     "text": [
      "Memory usage after optimization is: 1990.95 MB\n",
      "Decreased by 5.8%\n",
      "Memory usage of dataframe is 2372.57 MB\n"
     ]
    },
    {
     "name": "stderr",
     "output_type": "stream",
     "text": [
      " 42%|████▏     | 5/12 [00:41<01:04,  9.21s/it]"
     ]
    },
    {
     "name": "stdout",
     "output_type": "stream",
     "text": [
      "Memory usage after optimization is: 2182.63 MB\n",
      "Decreased by 8.0%\n",
      "Memory usage of dataframe is 2564.26 MB\n"
     ]
    },
    {
     "name": "stderr",
     "output_type": "stream",
     "text": [
      " 50%|█████     | 6/12 [00:55<01:04, 10.75s/it]"
     ]
    },
    {
     "name": "stdout",
     "output_type": "stream",
     "text": [
      "Memory usage after optimization is: 2374.32 MB\n",
      "Decreased by 7.4%\n",
      "Memory usage of dataframe is 2687.17 MB\n"
     ]
    },
    {
     "name": "stderr",
     "output_type": "stream",
     "text": [
      " 58%|█████▊    | 7/12 [01:06<00:55, 11.05s/it]"
     ]
    },
    {
     "name": "stdout",
     "output_type": "stream",
     "text": [
      "Memory usage after optimization is: 2564.26 MB\n",
      "Decreased by 4.6%\n",
      "Memory usage of dataframe is 2878.85 MB\n"
     ]
    },
    {
     "name": "stderr",
     "output_type": "stream",
     "text": [
      " 67%|██████▋   | 8/12 [01:14<00:39,  9.87s/it]"
     ]
    },
    {
     "name": "stdout",
     "output_type": "stream",
     "text": [
      "Memory usage after optimization is: 2755.95 MB\n",
      "Decreased by 4.3%\n",
      "Memory usage of dataframe is 2800.64 MB\n"
     ]
    },
    {
     "name": "stderr",
     "output_type": "stream",
     "text": [
      " 75%|███████▌  | 9/12 [01:16<00:23,  7.67s/it]"
     ]
    },
    {
     "name": "stdout",
     "output_type": "stream",
     "text": [
      "Memory usage after optimization is: 2800.64 MB\n",
      "Decreased by 0.0%\n",
      "Memory usage of dataframe is 2867.68 MB\n"
     ]
    },
    {
     "name": "stderr",
     "output_type": "stream",
     "text": [
      " 83%|████████▎ | 10/12 [01:19<00:12,  6.22s/it]"
     ]
    },
    {
     "name": "stdout",
     "output_type": "stream",
     "text": [
      "Memory usage after optimization is: 2856.51 MB\n",
      "Decreased by 0.4%\n",
      "Memory usage of dataframe is 2890.03 MB\n"
     ]
    },
    {
     "name": "stderr",
     "output_type": "stream",
     "text": [
      " 92%|█████████▏| 11/12 [01:23<00:05,  5.36s/it]"
     ]
    },
    {
     "name": "stdout",
     "output_type": "stream",
     "text": [
      "Memory usage after optimization is: 2864.89 MB\n",
      "Decreased by 0.9%\n",
      "Memory usage of dataframe is 2887.23 MB\n"
     ]
    },
    {
     "name": "stderr",
     "output_type": "stream",
     "text": [
      "100%|██████████| 12/12 [01:27<00:00,  7.29s/it]"
     ]
    },
    {
     "name": "stdout",
     "output_type": "stream",
     "text": [
      "Memory usage after optimization is: 2876.06 MB\n",
      "Decreased by 0.4%\n",
      "\u001b[1m\u001b[31m\n",
      "RAM memory GB usage = 10.78\u001b[0m\n"
     ]
    },
    {
     "name": "stderr",
     "output_type": "stream",
     "text": [
      "\n"
     ]
    },
    {
     "data": {
      "text/html": [
       "<div><style>\n",
       ".dataframe > thead > tr,\n",
       ".dataframe > tbody > tr {\n",
       "  text-align: right;\n",
       "  white-space: pre-wrap;\n",
       "}\n",
       "</style>\n",
       "<small>shape: (2, 298)</small><table border=\"1\" class=\"dataframe\"><thead><tr><th>impression_id</th><th>article</th><th>user_id</th><th>target</th><th>device_type</th><th>read_time</th><th>scroll_percentage</th><th>is_sso_user</th><th>gender</th><th>age</th><th>is_subscriber</th><th>postcode</th><th>trendiness_score_1d</th><th>trendiness_score_3d</th><th>trendiness_score_5d</th><th>trendiness_score_3d_leak</th><th>weekday</th><th>hour</th><th>trendiness_score_1d/3d</th><th>trendiness_score_1d/5d</th><th>normalized_trendiness_score_overall</th><th>premium</th><th>category</th><th>sentiment_score</th><th>sentiment_label</th><th>num_images</th><th>title_len</th><th>subtitle_len</th><th>body_len</th><th>num_topics</th><th>total_pageviews</th><th>total_inviews</th><th>total_read_time</th><th>total_pageviews/inviews</th><th>article_type</th><th>article_delay_days</th><th>article_delay_hours</th><th>&hellip;</th><th>entropy_impression_trendiness_score_category</th><th>entropy_impression_std_JS</th><th>entropy_impression_total_read_time</th><th>entropy_impression_endorsement_10h_leak</th><th>entropy_impression_trendiness_score_3d_leak</th><th>entropy_impression_clicked_count</th><th>entropy_impression_inview_count</th><th>trendiness_score_3d_minus_median_impression</th><th>trendiness_score_5d_minus_median_impression</th><th>endorsement_10h_minus_median_impression</th><th>total_pageviews/inviews_minus_median_impression</th><th>mean_JS_minus_median_impression</th><th>mean_topic_model_cosine_minus_median_impression</th><th>topics_cosine_minus_median_impression</th><th>article_delay_hours_minus_median_impression</th><th>total_pageviews_minus_median_impression</th><th>total_inviews_minus_median_impression</th><th>trendiness_score_category_minus_median_impression</th><th>std_JS_minus_median_impression</th><th>total_read_time_minus_median_impression</th><th>endorsement_10h_leak_minus_median_impression</th><th>trendiness_score_3d_leak_minus_median_impression</th><th>clicked_count_minus_median_impression</th><th>inview_count_minus_median_impression</th><th>mean_JS_l_inf_user</th><th>std_JS_l_inf_user</th><th>mean_topic_model_cosine_l_inf_user</th><th>topics_cosine_l_inf_user</th><th>article_delay_hours_l_inf_article</th><th>mean_JS_l_inf_article</th><th>std_JS_l_inf_article</th><th>mean_topic_model_cosine_l_inf_article</th><th>topics_cosine_l_inf_article</th><th>category_diversity_impression</th><th>sentiment_label_diversity_impression</th><th>article_type_diversity_impression</th><th>endorsement_20h_articleuser_l_inf_article_user</th></tr><tr><td>u32</td><td>i32</td><td>u32</td><td>i8</td><td>i8</td><td>f32</td><td>f32</td><td>bool</td><td>i8</td><td>i8</td><td>bool</td><td>i8</td><td>i16</td><td>i16</td><td>i16</td><td>i16</td><td>i8</td><td>i8</td><td>f32</td><td>f32</td><td>f32</td><td>bool</td><td>i16</td><td>f32</td><td>str</td><td>u32</td><td>u8</td><td>u8</td><td>u16</td><td>u32</td><td>i32</td><td>i32</td><td>f32</td><td>f32</td><td>str</td><td>i16</td><td>i32</td><td>&hellip;</td><td>f32</td><td>f32</td><td>f32</td><td>f32</td><td>f32</td><td>f32</td><td>f32</td><td>f32</td><td>f32</td><td>f32</td><td>f32</td><td>f32</td><td>f32</td><td>f32</td><td>f32</td><td>f32</td><td>f32</td><td>f32</td><td>f32</td><td>f32</td><td>f32</td><td>f32</td><td>f32</td><td>f32</td><td>f32</td><td>f32</td><td>f32</td><td>f32</td><td>f32</td><td>f32</td><td>f32</td><td>f32</td><td>f32</td><td>u8</td><td>u8</td><td>u8</td><td>f32</td></tr></thead><tbody><tr><td>222888791</td><td>8952833</td><td>2467812</td><td>0</td><td>1</td><td>10.0</td><td>null</td><td>true</td><td>0</td><td>null</td><td>false</td><td>2</td><td>121</td><td>352</td><td>568</td><td>295</td><td>4</td><td>7</td><td>0.34375</td><td>0.213028</td><td>0.644689</td><td>true</td><td>414</td><td>0.9537</td><td>&quot;Neutral&quot;</td><td>6</td><td>8</td><td>14</td><td>1171</td><td>5</td><td>null</td><td>null</td><td>null</td><td>null</td><td>&quot;article_default&quot;</td><td>563</td><td>13535</td><td>&hellip;</td><td>1.784287</td><td>2.016982</td><td>1.265515</td><td>1.495175</td><td>1.850809</td><td>1.313449</td><td>1.794755</td><td>148.0</td><td>260.5</td><td>-2.0</td><td>null</td><td>0.022847</td><td>0.033189</td><td>0.068551</td><td>11894.5</td><td>null</td><td>null</td><td>0.5</td><td>-0.003114</td><td>null</td><td>-102.5</td><td>111.5</td><td>-205.5</td><td>1027.0</td><td>0.767599</td><td>0.598529</td><td>0.870778</td><td>0.597977</td><td>0.987812</td><td>0.368725</td><td>0.457962</td><td>0.851638</td><td>0.512767</td><td>5</td><td>3</td><td>1</td><td>0.333333</td></tr><tr><td>371238689</td><td>9779713</td><td>1871994</td><td>1</td><td>2</td><td>16.0</td><td>null</td><td>false</td><td>2</td><td>null</td><td>false</td><td>5</td><td>145</td><td>442</td><td>763</td><td>421</td><td>4</td><td>7</td><td>0.328054</td><td>0.190039</td><td>0.809524</td><td>false</td><td>142</td><td>0.9834</td><td>&quot;Positive&quot;</td><td>2</td><td>12</td><td>22</td><td>361</td><td>5</td><td>53304</td><td>386926</td><td>4.07042e6</td><td>0.137763</td><td>&quot;article_default&quot;</td><td>0</td><td>1</td><td>&hellip;</td><td>1.803636</td><td>1.860781</td><td>1.681773</td><td>1.940188</td><td>1.822618</td><td>1.358369</td><td>1.773296</td><td>262.0</td><td>472.0</td><td>55.0</td><td>-0.065408</td><td>0.09788</td><td>-0.0958</td><td>0.217557</td><td>0.0</td><td>-8392.0</td><td>0.0</td><td>3.0</td><td>0.145245</td><td>-285209.0</td><td>105.0</td><td>226.0</td><td>-610.0</td><td>174.0</td><td>0.75944</td><td>0.689687</td><td>0.760895</td><td>0.50371</td><td>0.005988</td><td>0.278158</td><td>0.538535</td><td>0.779997</td><td>0.453716</td><td>4</td><td>3</td><td>1</td><td>1.0</td></tr></tbody></table></div>"
      ],
      "text/plain": [
       "shape: (2, 298)\n",
       "┌─────────────┬─────────┬─────────┬────────┬───┬────────────┬────────────┬────────────┬────────────┐\n",
       "│ impression_ ┆ article ┆ user_id ┆ target ┆ … ┆ category_d ┆ sentiment_ ┆ article_ty ┆ endorsemen │\n",
       "│ id          ┆ ---     ┆ ---     ┆ ---    ┆   ┆ iversity_i ┆ label_dive ┆ pe_diversi ┆ t_20h_arti │\n",
       "│ ---         ┆ i32     ┆ u32     ┆ i8     ┆   ┆ mpression  ┆ rsity_impr ┆ ty_impress ┆ cleuser_l_ │\n",
       "│ u32         ┆         ┆         ┆        ┆   ┆ ---        ┆ …          ┆ …          ┆ …          │\n",
       "│             ┆         ┆         ┆        ┆   ┆ u8         ┆ ---        ┆ ---        ┆ ---        │\n",
       "│             ┆         ┆         ┆        ┆   ┆            ┆ u8         ┆ u8         ┆ f32        │\n",
       "╞═════════════╪═════════╪═════════╪════════╪═══╪════════════╪════════════╪════════════╪════════════╡\n",
       "│ 222888791   ┆ 8952833 ┆ 2467812 ┆ 0      ┆ … ┆ 5          ┆ 3          ┆ 1          ┆ 0.333333   │\n",
       "│ 371238689   ┆ 9779713 ┆ 1871994 ┆ 1      ┆ … ┆ 4          ┆ 3          ┆ 1          ┆ 1.0        │\n",
       "└─────────────┴─────────┴─────────┴────────┴───┴────────────┴────────────┴────────────┴────────────┘"
      ]
     },
     "execution_count": 60,
     "metadata": {},
     "output_type": "execute_result"
    }
   ],
   "source": [
    "for expressions_group in tqdm.tqdm(expressions):\n",
    "    val_ds = val_ds.with_columns(expressions_group)\n",
    "    val_ds = reduce_polars_df_memory_size(val_ds)\n",
    "\n",
    "PrintColor(f\"\\n\" + GetMemUsage(), color = Fore.RED)\n",
    "val_ds.head(2)"
   ]
  },
  {
   "cell_type": "code",
   "execution_count": 61,
   "id": "5e6f62b1",
   "metadata": {
    "execution": {
     "iopub.execute_input": "2024-05-19T12:32:27.024494Z",
     "iopub.status.busy": "2024-05-19T12:32:27.023340Z",
     "iopub.status.idle": "2024-05-19T12:32:27.467893Z",
     "shell.execute_reply": "2024-05-19T12:32:27.466706Z"
    },
    "papermill": {
     "duration": 2.475384,
     "end_time": "2024-05-19T12:32:27.470562",
     "exception": false,
     "start_time": "2024-05-19T12:32:24.995178",
     "status": "completed"
    },
    "tags": []
   },
   "outputs": [
    {
     "name": "stdout",
     "output_type": "stream",
     "text": [
      "\u001b[1m\u001b[31m\n",
      "RAM memory GB usage = 10.51\u001b[0m\n"
     ]
    },
    {
     "data": {
      "text/plain": [
       "0"
      ]
     },
     "execution_count": 61,
     "metadata": {},
     "output_type": "execute_result"
    }
   ],
   "source": [
    "del history_val\n",
    "del articles\n",
    "del behaviors_val\n",
    "\n",
    "del users_mean_trendiness_scores, topics_mean_trendiness_scores\n",
    "del topic_mean_delays, user_mean_delays\n",
    "del windows, user_windows, user_topics_windows, user_category_windows\n",
    "del articles_endorsement\n",
    "del normalized_endorsement\n",
    "del articles_endorsement_articleuser\n",
    "del normalized_endorsement_articleuser\n",
    "del history_counts, behaviors_counts\n",
    "\n",
    "PrintColor(f\"\\n\" + GetMemUsage(), color = Fore.RED)\n",
    "gc.collect()"
   ]
  },
  {
   "cell_type": "code",
   "execution_count": 62,
   "id": "95288f3d",
   "metadata": {
    "execution": {
     "iopub.execute_input": "2024-05-19T12:32:31.604358Z",
     "iopub.status.busy": "2024-05-19T12:32:31.603921Z",
     "iopub.status.idle": "2024-05-19T12:32:31.611044Z",
     "shell.execute_reply": "2024-05-19T12:32:31.609768Z"
    },
    "papermill": {
     "duration": 2.030056,
     "end_time": "2024-05-19T12:32:31.613277",
     "exception": false,
     "start_time": "2024-05-19T12:32:29.583221",
     "status": "completed"
    },
    "tags": []
   },
   "outputs": [
    {
     "data": {
      "text/plain": [
       "(2928942, 298)"
      ]
     },
     "execution_count": 62,
     "metadata": {},
     "output_type": "execute_result"
    }
   ],
   "source": [
    "val_ds.shape"
   ]
  },
  {
   "cell_type": "code",
   "execution_count": 63,
   "id": "5d6eadc0",
   "metadata": {
    "execution": {
     "iopub.execute_input": "2024-05-19T12:32:35.829918Z",
     "iopub.status.busy": "2024-05-19T12:32:35.829160Z",
     "iopub.status.idle": "2024-05-19T12:32:38.850456Z",
     "shell.execute_reply": "2024-05-19T12:32:38.849072Z"
    },
    "papermill": {
     "duration": 5.144916,
     "end_time": "2024-05-19T12:32:38.852921",
     "exception": false,
     "start_time": "2024-05-19T12:32:33.708005",
     "status": "completed"
    },
    "tags": []
   },
   "outputs": [
    {
     "name": "stdout",
     "output_type": "stream",
     "text": [
      "\u001b[1m\u001b[31m\n",
      "RAM memory GB usage = 13.37\u001b[0m\n"
     ]
    },
    {
     "data": {
      "text/plain": [
       "0"
      ]
     },
     "execution_count": 63,
     "metadata": {},
     "output_type": "execute_result"
    }
   ],
   "source": [
    "X_val = val_ds.drop(['impression_id', 'article', 'user_id', 'target']).to_pandas()\n",
    "val_ds = val_ds.select(['impression_id', 'article', 'target'])\n",
    "\n",
    "PrintColor(f\"\\n\" + GetMemUsage(), color = Fore.RED)\n",
    "gc.collect()"
   ]
  },
  {
   "cell_type": "code",
   "execution_count": 64,
   "id": "c079964d",
   "metadata": {
    "execution": {
     "iopub.execute_input": "2024-05-19T12:32:42.996278Z",
     "iopub.status.busy": "2024-05-19T12:32:42.995473Z",
     "iopub.status.idle": "2024-05-19T12:37:43.947389Z",
     "shell.execute_reply": "2024-05-19T12:37:43.945889Z"
    },
    "papermill": {
     "duration": 305.107991,
     "end_time": "2024-05-19T12:37:46.093533",
     "exception": false,
     "start_time": "2024-05-19T12:32:40.985542",
     "status": "completed"
    },
    "tags": []
   },
   "outputs": [
    {
     "name": "stdout",
     "output_type": "stream",
     "text": [
      "\u001b[1m\u001b[31m\n",
      "RAM memory GB usage = 13.59\u001b[0m\n"
     ]
    }
   ],
   "source": [
    "X_val[numerical_columns] = X_val[numerical_columns].astype(np.float32)\n",
    "\n",
    "for i, cat_col in enumerate(categorical_columns):\n",
    "    X_val[cat_col] = X_val[cat_col].astype(str)\n",
    "    categories_val = list(X_val[cat_col].unique())\n",
    "    unknown_categories = [x for x in categories_val if x not in categories[i]]\n",
    "    X_val[cat_col] = X_val[cat_col].astype(str).replace(list(unknown_categories), 'Unknown')\n",
    "    \n",
    "X_val[categorical_columns] = categorical_encoder.transform(X_val[categorical_columns]).astype(np.float32)\n",
    "X_val[numerical_columns] = numerical_transformer.transform(X_val[numerical_columns].fillna(0).replace([-np.inf, np.inf], 0)).astype(np.float32)\n",
    "\n",
    "gc.collect()\n",
    "PrintColor(f\"\\n\" + GetMemUsage(), color=Fore.RED)"
   ]
  },
  {
   "cell_type": "code",
   "execution_count": 65,
   "id": "f914a8ad",
   "metadata": {
    "execution": {
     "iopub.execute_input": "2024-05-19T12:37:50.228374Z",
     "iopub.status.busy": "2024-05-19T12:37:50.227474Z",
     "iopub.status.idle": "2024-05-19T12:39:45.667369Z",
     "shell.execute_reply": "2024-05-19T12:39:45.666079Z"
    },
    "papermill": {
     "duration": 117.544367,
     "end_time": "2024-05-19T12:39:45.670403",
     "exception": false,
     "start_time": "2024-05-19T12:37:48.126036",
     "status": "completed"
    },
    "tags": []
   },
   "outputs": [
    {
     "name": "stdout",
     "output_type": "stream",
     "text": [
      "\u001b[1m11442/11442\u001b[0m \u001b[32m━━━━━━━━━━━━━━━━━━━━\u001b[0m\u001b[37m\u001b[0m \u001b[1m96s\u001b[0m 8ms/step\n"
     ]
    },
    {
     "data": {
      "text/html": [
       "<div><style>\n",
       ".dataframe > thead > tr,\n",
       ".dataframe > tbody > tr {\n",
       "  text-align: right;\n",
       "  white-space: pre-wrap;\n",
       "}\n",
       "</style>\n",
       "<small>shape: (2_928_942, 3)</small><table border=\"1\" class=\"dataframe\"><thead><tr><th>impression_id</th><th>target</th><th>prediction</th></tr><tr><td>u32</td><td>i8</td><td>f32</td></tr></thead><tbody><tr><td>222888791</td><td>0</td><td>0.014756</td></tr><tr><td>371238689</td><td>1</td><td>0.195386</td></tr><tr><td>138454500</td><td>0</td><td>0.069895</td></tr><tr><td>36672692</td><td>0</td><td>0.024608</td></tr><tr><td>199318389</td><td>0</td><td>0.082178</td></tr><tr><td>&hellip;</td><td>&hellip;</td><td>&hellip;</td></tr><tr><td>565708978</td><td>0</td><td>0.019705</td></tr><tr><td>220984275</td><td>1</td><td>0.23218</td></tr><tr><td>502495989</td><td>0</td><td>0.308494</td></tr><tr><td>350916101</td><td>0</td><td>0.115907</td></tr><tr><td>147688643</td><td>0</td><td>0.021635</td></tr></tbody></table></div>"
      ],
      "text/plain": [
       "shape: (2_928_942, 3)\n",
       "┌───────────────┬────────┬────────────┐\n",
       "│ impression_id ┆ target ┆ prediction │\n",
       "│ ---           ┆ ---    ┆ ---        │\n",
       "│ u32           ┆ i8     ┆ f32        │\n",
       "╞═══════════════╪════════╪════════════╡\n",
       "│ 222888791     ┆ 0      ┆ 0.014756   │\n",
       "│ 371238689     ┆ 1      ┆ 0.195386   │\n",
       "│ 138454500     ┆ 0      ┆ 0.069895   │\n",
       "│ 36672692      ┆ 0      ┆ 0.024608   │\n",
       "│ 199318389     ┆ 0      ┆ 0.082178   │\n",
       "│ …             ┆ …      ┆ …          │\n",
       "│ 565708978     ┆ 0      ┆ 0.019705   │\n",
       "│ 220984275     ┆ 1      ┆ 0.23218    │\n",
       "│ 502495989     ┆ 0      ┆ 0.308494   │\n",
       "│ 350916101     ┆ 0      ┆ 0.115907   │\n",
       "│ 147688643     ┆ 0      ┆ 0.021635   │\n",
       "└───────────────┴────────┴────────────┘"
      ]
     },
     "execution_count": 65,
     "metadata": {},
     "output_type": "execute_result"
    }
   ],
   "source": [
    "val_ds = val_ds.with_columns(\n",
    "    pl.Series(\n",
    "        model.predict([X_val[numerical_columns].values] + [X_val[col].values.reshape(-1, 1) for col in categorical_columns], batch_size=256).flatten()\n",
    "    ).alias('prediction')\n",
    ")\n",
    "val_ds.select(['impression_id', 'target', 'prediction'])"
   ]
  },
  {
   "cell_type": "code",
   "execution_count": 66,
   "id": "ec5544c2",
   "metadata": {
    "execution": {
     "iopub.execute_input": "2024-05-19T12:39:50.207233Z",
     "iopub.status.busy": "2024-05-19T12:39:50.206208Z",
     "iopub.status.idle": "2024-05-19T12:39:50.640150Z",
     "shell.execute_reply": "2024-05-19T12:39:50.638630Z"
    },
    "papermill": {
     "duration": 2.739393,
     "end_time": "2024-05-19T12:39:50.642963",
     "exception": false,
     "start_time": "2024-05-19T12:39:47.903570",
     "status": "completed"
    },
    "tags": []
   },
   "outputs": [
    {
     "name": "stdout",
     "output_type": "stream",
     "text": [
      "\u001b[1m\u001b[31m\n",
      "RAM memory GB usage = 13.64\u001b[0m\n"
     ]
    }
   ],
   "source": [
    "del X_val\n",
    "\n",
    "gc.collect()\n",
    "PrintColor(f\"\\n\" + GetMemUsage(), color=Fore.RED)"
   ]
  },
  {
   "cell_type": "code",
   "execution_count": 67,
   "id": "12164b35",
   "metadata": {
    "execution": {
     "iopub.execute_input": "2024-05-19T12:39:55.141954Z",
     "iopub.status.busy": "2024-05-19T12:39:55.141476Z",
     "iopub.status.idle": "2024-05-19T12:39:55.302065Z",
     "shell.execute_reply": "2024-05-19T12:39:55.300348Z"
    },
    "papermill": {
     "duration": 2.345767,
     "end_time": "2024-05-19T12:39:55.305700",
     "exception": false,
     "start_time": "2024-05-19T12:39:52.959933",
     "status": "completed"
    },
    "tags": []
   },
   "outputs": [
    {
     "data": {
      "text/html": [
       "<div><style>\n",
       ".dataframe > thead > tr,\n",
       ".dataframe > tbody > tr {\n",
       "  text-align: right;\n",
       "  white-space: pre-wrap;\n",
       "}\n",
       "</style>\n",
       "<small>shape: (244_647, 3)</small><table border=\"1\" class=\"dataframe\"><thead><tr><th>impression_id</th><th>target</th><th>prediction</th></tr><tr><td>u32</td><td>list[i8]</td><td>list[f32]</td></tr></thead><tbody><tr><td>507312619</td><td>[0, 0, … 0]</td><td>[0.465809, 0.036132, … 0.508858]</td></tr><tr><td>538300461</td><td>[0, 0, … 0]</td><td>[0.24336, 0.010934, … 0.345744]</td></tr><tr><td>414561094</td><td>[1, 0, … 0]</td><td>[0.165247, 0.099285, … 0.414237]</td></tr><tr><td>466233509</td><td>[0, 0, … 1]</td><td>[0.406231, 0.11569, … 0.601178]</td></tr><tr><td>544877156</td><td>[0, 0, … 0]</td><td>[0.134863, 0.286585, … 0.614105]</td></tr><tr><td>&hellip;</td><td>&hellip;</td><td>&hellip;</td></tr><tr><td>359449184</td><td>[0, 1, … 0]</td><td>[0.068794, 0.512499, … 0.119977]</td></tr><tr><td>256932841</td><td>[0, 0, … 0]</td><td>[0.407738, 0.316316, … 0.283606]</td></tr><tr><td>260164254</td><td>[0, 0, … 0]</td><td>[0.030776, 0.030294, … 0.051604]</td></tr><tr><td>150126982</td><td>[0, 0, … 1]</td><td>[0.091164, 0.467137, … 0.46882]</td></tr><tr><td>454306129</td><td>[0, 0, … 0]</td><td>[0.371395, 0.021056, … 0.027059]</td></tr></tbody></table></div>"
      ],
      "text/plain": [
       "shape: (244_647, 3)\n",
       "┌───────────────┬─────────────┬─────────────────────────────────┐\n",
       "│ impression_id ┆ target      ┆ prediction                      │\n",
       "│ ---           ┆ ---         ┆ ---                             │\n",
       "│ u32           ┆ list[i8]    ┆ list[f32]                       │\n",
       "╞═══════════════╪═════════════╪═════════════════════════════════╡\n",
       "│ 507312619     ┆ [0, 0, … 0] ┆ [0.465809, 0.036132, … 0.50885… │\n",
       "│ 538300461     ┆ [0, 0, … 0] ┆ [0.24336, 0.010934, … 0.345744… │\n",
       "│ 414561094     ┆ [1, 0, … 0] ┆ [0.165247, 0.099285, … 0.41423… │\n",
       "│ 466233509     ┆ [0, 0, … 1] ┆ [0.406231, 0.11569, … 0.601178… │\n",
       "│ 544877156     ┆ [0, 0, … 0] ┆ [0.134863, 0.286585, … 0.61410… │\n",
       "│ …             ┆ …           ┆ …                               │\n",
       "│ 359449184     ┆ [0, 1, … 0] ┆ [0.068794, 0.512499, … 0.11997… │\n",
       "│ 256932841     ┆ [0, 0, … 0] ┆ [0.407738, 0.316316, … 0.28360… │\n",
       "│ 260164254     ┆ [0, 0, … 0] ┆ [0.030776, 0.030294, … 0.05160… │\n",
       "│ 150126982     ┆ [0, 0, … 1] ┆ [0.091164, 0.467137, … 0.46882… │\n",
       "│ 454306129     ┆ [0, 0, … 0] ┆ [0.371395, 0.021056, … 0.02705… │\n",
       "└───────────────┴─────────────┴─────────────────────────────────┘"
      ]
     },
     "execution_count": 67,
     "metadata": {},
     "output_type": "execute_result"
    }
   ],
   "source": [
    "evaluation_ds = val_ds.group_by('impression_id').agg(pl.col('target'), pl.col('prediction'))\n",
    "evaluation_ds"
   ]
  },
  {
   "cell_type": "code",
   "execution_count": 68,
   "id": "2438bdd3",
   "metadata": {
    "execution": {
     "iopub.execute_input": "2024-05-19T12:39:59.817827Z",
     "iopub.status.busy": "2024-05-19T12:39:59.817424Z",
     "iopub.status.idle": "2024-05-19T12:48:26.481646Z",
     "shell.execute_reply": "2024-05-19T12:48:26.480301Z"
    },
    "papermill": {
     "duration": 511.203706,
     "end_time": "2024-05-19T12:48:28.832528",
     "exception": false,
     "start_time": "2024-05-19T12:39:57.628822",
     "status": "completed"
    },
    "tags": []
   },
   "outputs": [
    {
     "name": "stdout",
     "output_type": "stream",
     "text": [
      "CPU times: user 8min 26s, sys: 107 ms, total: 8min 26s\n",
      "Wall time: 8min 26s\n"
     ]
    },
    {
     "data": {
      "text/plain": [
       "<MetricEvaluator class>: \n",
       " {\n",
       "    \"auc\": 0.8036636971543383,\n",
       "    \"mrr\": 0.5864986109673779,\n",
       "    \"ndcg@5\": 0.6534690296235697,\n",
       "    \"ndcg@10\": 0.67907397933193\n",
       "}"
      ]
     },
     "execution_count": 68,
     "metadata": {},
     "output_type": "execute_result"
    }
   ],
   "source": [
    "%%time\n",
    "\n",
    "met_eval = MetricEvaluator(\n",
    "    labels=evaluation_ds['target'].to_list(),\n",
    "    predictions=evaluation_ds['prediction'].to_list(),\n",
    "    metric_functions=[\n",
    "        AucScore(),\n",
    "        MrrScore(),\n",
    "        NdcgScore(k=5),\n",
    "        NdcgScore(k=10),\n",
    "    ],\n",
    ")\n",
    "met_eval.evaluate()"
   ]
  },
  {
   "cell_type": "code",
   "execution_count": 69,
   "id": "10df14ae",
   "metadata": {
    "execution": {
     "iopub.execute_input": "2024-05-19T12:48:33.492408Z",
     "iopub.status.busy": "2024-05-19T12:48:33.491498Z",
     "iopub.status.idle": "2024-05-19T12:48:34.031407Z",
     "shell.execute_reply": "2024-05-19T12:48:34.029892Z"
    },
    "papermill": {
     "duration": 2.88038,
     "end_time": "2024-05-19T12:48:34.034305",
     "exception": false,
     "start_time": "2024-05-19T12:48:31.153925",
     "status": "completed"
    },
    "tags": []
   },
   "outputs": [],
   "source": [
    "import joblib\n",
    "\n",
    "model.save('/kaggle/working/mlp.keras')\n",
    "joblib.dump(categorical_encoder, '/kaggle/working/categorical_encoder.joblib')\n",
    "joblib.dump(numerical_transformer, '/kaggle/working/numerical_transformer.joblib')\n",
    "val_ds.write_parquet('/kaggle/working/mlp_predictions.parquet')"
   ]
  }
 ],
 "metadata": {
  "kaggle": {
   "accelerator": "none",
   "dataSources": [
    {
     "datasetId": 4622414,
     "sourceId": 8418097,
     "sourceType": "datasetVersion"
    }
   ],
   "dockerImageVersionId": 30673,
   "isGpuEnabled": false,
   "isInternetEnabled": true,
   "language": "python",
   "sourceType": "notebook"
  },
  "kernelspec": {
   "display_name": "Python 3",
   "language": "python",
   "name": "python3"
  },
  "language_info": {
   "codemirror_mode": {
    "name": "ipython",
    "version": 3
   },
   "file_extension": ".py",
   "mimetype": "text/x-python",
   "name": "python",
   "nbconvert_exporter": "python",
   "pygments_lexer": "ipython3",
   "version": "3.10.13"
  },
  "papermill": {
   "default_parameters": {},
   "duration": 9020.294796,
   "end_time": "2024-05-19T12:48:39.265586",
   "environment_variables": {},
   "exception": null,
   "input_path": "__notebook__.ipynb",
   "output_path": "__notebook__.ipynb",
   "parameters": {},
   "start_time": "2024-05-19T10:18:18.970790",
   "version": "2.5.0"
  },
  "widgets": {
   "application/vnd.jupyter.widget-state+json": {
    "state": {
     "46d8ab1d46cf4d14978f4d2b493c2a92": {
      "model_module": "@jupyter-widgets/output",
      "model_module_version": "1.0.0",
      "model_name": "OutputModel",
      "state": {
       "_dom_classes": [],
       "_model_module": "@jupyter-widgets/output",
       "_model_module_version": "1.0.0",
       "_model_name": "OutputModel",
       "_view_count": null,
       "_view_module": "@jupyter-widgets/output",
       "_view_module_version": "1.0.0",
       "_view_name": "OutputView",
       "layout": "IPY_MODEL_a84e66ae938f4771bae7e21f71ee9c55",
       "msg_id": "",
       "outputs": [
        {
         "data": {
          "text/html": "<pre style=\"white-space:pre;overflow-x:auto;line-height:normal;font-family:Menlo,'DejaVu Sans Mono',consolas,'Courier New',monospace\">Getting category               <span style=\"color: #729c1f; text-decoration-color: #729c1f\">━━━━━━━━━━━━━━━━━━━━━━━━━━━━━━━━━━━━━━━━</span> <span style=\"color: #800080; text-decoration-color: #800080\">100%</span> <span style=\"color: #008080; text-decoration-color: #008080\">0:00:00</span>\nGetting article_type           <span style=\"color: #729c1f; text-decoration-color: #729c1f\">━━━━━━━━━━━━━━━━━━━━━━━━━━━━━━━━━━━━━━━━</span> <span style=\"color: #800080; text-decoration-color: #800080\">100%</span> <span style=\"color: #008080; text-decoration-color: #008080\">0:00:00</span>\nGetting sentiment_label        <span style=\"color: #729c1f; text-decoration-color: #729c1f\">━━━━━━━━━━━━━━━━━━━━━━━━━━━━━━━━━━━━━━━━</span> <span style=\"color: #800080; text-decoration-color: #800080\">100%</span> <span style=\"color: #008080; text-decoration-color: #008080\">0:00:00</span>\nGetting sentiment_score        <span style=\"color: #729c1f; text-decoration-color: #729c1f\">━━━━━━━━━━━━━━━━━━━━━━━━━━━━━━━━━━━━━━━━</span> <span style=\"color: #800080; text-decoration-color: #800080\">100%</span> <span style=\"color: #008080; text-decoration-color: #008080\">0:00:00</span>\nGetting entity_groups          <span style=\"color: #729c1f; text-decoration-color: #729c1f\">━━━━━━━━━━━━━━━━━━━━━━━━━━━━━━━━━━━━━━━━</span> <span style=\"color: #800080; text-decoration-color: #800080\">100%</span> <span style=\"color: #008080; text-decoration-color: #008080\">0:00:00</span>\nGetting detailed entity_groups <span style=\"color: #729c1f; text-decoration-color: #729c1f\">━━━━━━━━━━━━━━━━━━━━━━━━━━━━━━━━━━━━━━━━</span> <span style=\"color: #800080; text-decoration-color: #800080\">100%</span> <span style=\"color: #008080; text-decoration-color: #008080\">0:00:00</span>\nGetting topics                 <span style=\"color: #729c1f; text-decoration-color: #729c1f\">━━━━━━━━━━━━━━━━━━━━━━━━━━━━━━━━━━━━━━━━</span> <span style=\"color: #800080; text-decoration-color: #800080\">100%</span> <span style=\"color: #008080; text-decoration-color: #008080\">0:00:00</span>\n</pre>\n",
          "text/plain": "Getting category               \u001b[38;2;114;156;31m━━━━━━━━━━━━━━━━━━━━━━━━━━━━━━━━━━━━━━━━\u001b[0m \u001b[35m100%\u001b[0m \u001b[36m0:00:00\u001b[0m\nGetting article_type           \u001b[38;2;114;156;31m━━━━━━━━━━━━━━━━━━━━━━━━━━━━━━━━━━━━━━━━\u001b[0m \u001b[35m100%\u001b[0m \u001b[36m0:00:00\u001b[0m\nGetting sentiment_label        \u001b[38;2;114;156;31m━━━━━━━━━━━━━━━━━━━━━━━━━━━━━━━━━━━━━━━━\u001b[0m \u001b[35m100%\u001b[0m \u001b[36m0:00:00\u001b[0m\nGetting sentiment_score        \u001b[38;2;114;156;31m━━━━━━━━━━━━━━━━━━━━━━━━━━━━━━━━━━━━━━━━\u001b[0m \u001b[35m100%\u001b[0m \u001b[36m0:00:00\u001b[0m\nGetting entity_groups          \u001b[38;2;114;156;31m━━━━━━━━━━━━━━━━━━━━━━━━━━━━━━━━━━━━━━━━\u001b[0m \u001b[35m100%\u001b[0m \u001b[36m0:00:00\u001b[0m\nGetting detailed entity_groups \u001b[38;2;114;156;31m━━━━━━━━━━━━━━━━━━━━━━━━━━━━━━━━━━━━━━━━\u001b[0m \u001b[35m100%\u001b[0m \u001b[36m0:00:00\u001b[0m\nGetting topics                 \u001b[38;2;114;156;31m━━━━━━━━━━━━━━━━━━━━━━━━━━━━━━━━━━━━━━━━\u001b[0m \u001b[35m100%\u001b[0m \u001b[36m0:00:00\u001b[0m\n"
         },
         "metadata": {},
         "output_type": "display_data"
        }
       ]
      }
     },
     "71bf4046e9af422296671aab9819dece": {
      "model_module": "@jupyter-widgets/base",
      "model_module_version": "1.2.0",
      "model_name": "LayoutModel",
      "state": {
       "_model_module": "@jupyter-widgets/base",
       "_model_module_version": "1.2.0",
       "_model_name": "LayoutModel",
       "_view_count": null,
       "_view_module": "@jupyter-widgets/base",
       "_view_module_version": "1.2.0",
       "_view_name": "LayoutView",
       "align_content": null,
       "align_items": null,
       "align_self": null,
       "border": null,
       "bottom": null,
       "display": null,
       "flex": null,
       "flex_flow": null,
       "grid_area": null,
       "grid_auto_columns": null,
       "grid_auto_flow": null,
       "grid_auto_rows": null,
       "grid_column": null,
       "grid_gap": null,
       "grid_row": null,
       "grid_template_areas": null,
       "grid_template_columns": null,
       "grid_template_rows": null,
       "height": null,
       "justify_content": null,
       "justify_items": null,
       "left": null,
       "margin": null,
       "max_height": null,
       "max_width": null,
       "min_height": null,
       "min_width": null,
       "object_fit": null,
       "object_position": null,
       "order": null,
       "overflow": null,
       "overflow_x": null,
       "overflow_y": null,
       "padding": null,
       "right": null,
       "top": null,
       "visibility": null,
       "width": null
      }
     },
     "a84e66ae938f4771bae7e21f71ee9c55": {
      "model_module": "@jupyter-widgets/base",
      "model_module_version": "1.2.0",
      "model_name": "LayoutModel",
      "state": {
       "_model_module": "@jupyter-widgets/base",
       "_model_module_version": "1.2.0",
       "_model_name": "LayoutModel",
       "_view_count": null,
       "_view_module": "@jupyter-widgets/base",
       "_view_module_version": "1.2.0",
       "_view_name": "LayoutView",
       "align_content": null,
       "align_items": null,
       "align_self": null,
       "border": null,
       "bottom": null,
       "display": null,
       "flex": null,
       "flex_flow": null,
       "grid_area": null,
       "grid_auto_columns": null,
       "grid_auto_flow": null,
       "grid_auto_rows": null,
       "grid_column": null,
       "grid_gap": null,
       "grid_row": null,
       "grid_template_areas": null,
       "grid_template_columns": null,
       "grid_template_rows": null,
       "height": null,
       "justify_content": null,
       "justify_items": null,
       "left": null,
       "margin": null,
       "max_height": null,
       "max_width": null,
       "min_height": null,
       "min_width": null,
       "object_fit": null,
       "object_position": null,
       "order": null,
       "overflow": null,
       "overflow_x": null,
       "overflow_y": null,
       "padding": null,
       "right": null,
       "top": null,
       "visibility": null,
       "width": null
      }
     },
     "c655e58a35e3490888f01103be14ab47": {
      "model_module": "@jupyter-widgets/output",
      "model_module_version": "1.0.0",
      "model_name": "OutputModel",
      "state": {
       "_dom_classes": [],
       "_model_module": "@jupyter-widgets/output",
       "_model_module_version": "1.0.0",
       "_model_name": "OutputModel",
       "_view_count": null,
       "_view_module": "@jupyter-widgets/output",
       "_view_module_version": "1.0.0",
       "_view_name": "OutputView",
       "layout": "IPY_MODEL_71bf4046e9af422296671aab9819dece",
       "msg_id": "",
       "outputs": [
        {
         "data": {
          "text/html": "<pre style=\"white-space:pre;overflow-x:auto;line-height:normal;font-family:Menlo,'DejaVu Sans Mono',consolas,'Courier New',monospace\">Getting category               <span style=\"color: #729c1f; text-decoration-color: #729c1f\">━━━━━━━━━━━━━━━━━━━━━━━━━━━━━━━━━━━━━━━━</span> <span style=\"color: #800080; text-decoration-color: #800080\">100%</span> <span style=\"color: #008080; text-decoration-color: #008080\">0:00:00</span>\nGetting article_type           <span style=\"color: #729c1f; text-decoration-color: #729c1f\">━━━━━━━━━━━━━━━━━━━━━━━━━━━━━━━━━━━━━━━━</span> <span style=\"color: #800080; text-decoration-color: #800080\">100%</span> <span style=\"color: #008080; text-decoration-color: #008080\">0:00:00</span>\nGetting sentiment_label        <span style=\"color: #729c1f; text-decoration-color: #729c1f\">━━━━━━━━━━━━━━━━━━━━━━━━━━━━━━━━━━━━━━━━</span> <span style=\"color: #800080; text-decoration-color: #800080\">100%</span> <span style=\"color: #008080; text-decoration-color: #008080\">0:00:00</span>\nGetting sentiment_score        <span style=\"color: #729c1f; text-decoration-color: #729c1f\">━━━━━━━━━━━━━━━━━━━━━━━━━━━━━━━━━━━━━━━━</span> <span style=\"color: #800080; text-decoration-color: #800080\">100%</span> <span style=\"color: #008080; text-decoration-color: #008080\">0:00:00</span>\nGetting entity_groups          <span style=\"color: #729c1f; text-decoration-color: #729c1f\">━━━━━━━━━━━━━━━━━━━━━━━━━━━━━━━━━━━━━━━━</span> <span style=\"color: #800080; text-decoration-color: #800080\">100%</span> <span style=\"color: #008080; text-decoration-color: #008080\">0:00:00</span>\nGetting detailed entity_groups <span style=\"color: #729c1f; text-decoration-color: #729c1f\">━━━━━━━━━━━━━━━━━━━━━━━━━━━━━━━━━━━━━━━━</span> <span style=\"color: #800080; text-decoration-color: #800080\">100%</span> <span style=\"color: #008080; text-decoration-color: #008080\">0:00:00</span>\nGetting topics                 <span style=\"color: #729c1f; text-decoration-color: #729c1f\">━━━━━━━━━━━━━━━━━━━━━━━━━━━━━━━━━━━━━━━━</span> <span style=\"color: #800080; text-decoration-color: #800080\">100%</span> <span style=\"color: #008080; text-decoration-color: #008080\">0:00:00</span>\n</pre>\n",
          "text/plain": "Getting category               \u001b[38;2;114;156;31m━━━━━━━━━━━━━━━━━━━━━━━━━━━━━━━━━━━━━━━━\u001b[0m \u001b[35m100%\u001b[0m \u001b[36m0:00:00\u001b[0m\nGetting article_type           \u001b[38;2;114;156;31m━━━━━━━━━━━━━━━━━━━━━━━━━━━━━━━━━━━━━━━━\u001b[0m \u001b[35m100%\u001b[0m \u001b[36m0:00:00\u001b[0m\nGetting sentiment_label        \u001b[38;2;114;156;31m━━━━━━━━━━━━━━━━━━━━━━━━━━━━━━━━━━━━━━━━\u001b[0m \u001b[35m100%\u001b[0m \u001b[36m0:00:00\u001b[0m\nGetting sentiment_score        \u001b[38;2;114;156;31m━━━━━━━━━━━━━━━━━━━━━━━━━━━━━━━━━━━━━━━━\u001b[0m \u001b[35m100%\u001b[0m \u001b[36m0:00:00\u001b[0m\nGetting entity_groups          \u001b[38;2;114;156;31m━━━━━━━━━━━━━━━━━━━━━━━━━━━━━━━━━━━━━━━━\u001b[0m \u001b[35m100%\u001b[0m \u001b[36m0:00:00\u001b[0m\nGetting detailed entity_groups \u001b[38;2;114;156;31m━━━━━━━━━━━━━━━━━━━━━━━━━━━━━━━━━━━━━━━━\u001b[0m \u001b[35m100%\u001b[0m \u001b[36m0:00:00\u001b[0m\nGetting topics                 \u001b[38;2;114;156;31m━━━━━━━━━━━━━━━━━━━━━━━━━━━━━━━━━━━━━━━━\u001b[0m \u001b[35m100%\u001b[0m \u001b[36m0:00:00\u001b[0m\n"
         },
         "metadata": {},
         "output_type": "display_data"
        }
       ]
      }
     }
    },
    "version_major": 2,
    "version_minor": 0
   }
  }
 },
 "nbformat": 4,
 "nbformat_minor": 5
}
