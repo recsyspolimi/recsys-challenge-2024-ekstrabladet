{
 "cells": [
  {
   "cell_type": "code",
   "execution_count": 2,
   "metadata": {},
   "outputs": [],
   "source": [
    "import polars as pl\n",
    "import numpy as np\n",
    "from pathlib import Path\n",
    "from polimi.utils._custom import load_history, load_articles, load_behaviors"
   ]
  },
  {
   "cell_type": "code",
   "execution_count": 3,
   "metadata": {},
   "outputs": [],
   "source": [
    "base_path = Path('../../dataset')\n",
    "type = 'small'\n",
    "split = 'train'\n",
    "CSV_STORAGE = Path('/Users/lorecampa/Desktop/Projects/RecSysChallenge2024') / 'dataset' / 'graph' / type\n",
    "CSV_STORAGE.mkdir(parents=True, exist_ok=True)\n",
    "\n",
    "a = load_articles(base_path, type)\n",
    "h = load_history(base_path, type, split)\n",
    "b = load_behaviors(base_path, type, split)"
   ]
  },
  {
   "cell_type": "code",
   "execution_count": 5,
   "metadata": {},
   "outputs": [
    {
     "data": {
      "text/html": [
       "<div><style>\n",
       ".dataframe > thead > tr,\n",
       ".dataframe > tbody > tr {\n",
       "  text-align: right;\n",
       "  white-space: pre-wrap;\n",
       "}\n",
       "</style>\n",
       "<small>shape: (15_143, 5)</small><table border=\"1\" class=\"dataframe\"><thead><tr><th>user_id</th><th>impression_time_fixed</th><th>scroll_percentage_fixed</th><th>article_id_fixed</th><th>read_time_fixed</th></tr><tr><td>u32</td><td>list[datetime[μs]]</td><td>list[f32]</td><td>list[i32]</td><td>list[f32]</td></tr></thead><tbody><tr><td>13538</td><td>[2023-04-27 10:17:43, 2023-04-27 10:18:01, … 2023-05-17 20:36:34]</td><td>[100.0, 35.0, … 100.0]</td><td>[9738663, 9738569, … 9769366]</td><td>[17.0, 12.0, … 16.0]</td></tr><tr><td>14241</td><td>[2023-04-27 09:40:18, 2023-04-27 09:40:33, … 2023-05-17 17:08:41]</td><td>[100.0, 46.0, … 100.0]</td><td>[9738557, 9738528, … 9767852]</td><td>[8.0, 9.0, … 12.0]</td></tr><tr><td>20396</td><td>[2023-04-27 12:30:44, 2023-04-27 12:31:34, … 2023-05-17 10:59:44]</td><td>[100.0, 59.0, … 13.0]</td><td>[9738760, 9738355, … 9769679]</td><td>[49.0, 34.0, … 4.0]</td></tr><tr><td>34912</td><td>[2023-04-29 07:12:49, 2023-04-29 13:01:18, … 2023-05-18 05:06:40]</td><td>[100.0, 35.0, … 27.0]</td><td>[9741802, 9741804, … 9770882]</td><td>[153.0, 7.0, … 5.0]</td></tr><tr><td>37953</td><td>[2023-04-27 19:17:10, 2023-04-27 19:17:27, … 2023-05-17 21:29:22]</td><td>[14.0, 28.0, … 18.0]</td><td>[9739205, 9739202, … 9769306]</td><td>[4.0, 16.0, … 6.0]</td></tr><tr><td>&hellip;</td><td>&hellip;</td><td>&hellip;</td><td>&hellip;</td><td>&hellip;</td></tr><tr><td>1479974</td><td>[2023-05-18 06:03:16, 2023-05-18 06:03:24, … 2023-05-18 06:41:22]</td><td>[58.0, 100.0, … 21.0]</td><td>[9770989, 9769553, … 9766140]</td><td>[8.0, 124.0, … 9.0]</td></tr><tr><td>2405403</td><td>[2023-04-30 19:48:27, 2023-04-30 19:48:29, … 2023-04-30 19:49:49]</td><td>[40.0, 100.0, … 39.0]</td><td>[9743574, 9740618, … 9743487]</td><td>[1.0, 64.0, … 120.0]</td></tr><tr><td>2454548</td><td>[2023-05-17 09:35:06, 2023-05-17 09:35:23, … 2023-05-17 09:43:09]</td><td>[12.0, 10.0, … 79.0]</td><td>[9768328, 9769328, … 9634567]</td><td>[9.0, 6.0, … 11.0]</td></tr><tr><td>581228</td><td>[2023-05-18 05:24:32, 2023-05-18 05:24:45, … 2023-05-18 05:39:13]</td><td>[28.0, 60.0, … 100.0]</td><td>[9770799, 9770726, … 9769366]</td><td>[12.0, 15.0, … 43.0]</td></tr><tr><td>1710834</td><td>[2023-05-17 21:09:45, 2023-05-17 21:09:55, … 2023-05-17 21:11:59]</td><td>[20.0, 43.0, … 48.0]</td><td>[9770741, 9770594, … 9770452]</td><td>[9.0, 44.0, … 916.0]</td></tr></tbody></table></div>"
      ],
      "text/plain": [
       "shape: (15_143, 5)\n",
       "┌─────────┬──────────────────────┬─────────────────────┬─────────────────────┬─────────────────────┐\n",
       "│ user_id ┆ impression_time_fixe ┆ scroll_percentage_f ┆ article_id_fixed    ┆ read_time_fixed     │\n",
       "│ ---     ┆ d                    ┆ ixed                ┆ ---                 ┆ ---                 │\n",
       "│ u32     ┆ ---                  ┆ ---                 ┆ list[i32]           ┆ list[f32]           │\n",
       "│         ┆ list[datetime[μs]]   ┆ list[f32]           ┆                     ┆                     │\n",
       "╞═════════╪══════════════════════╪═════════════════════╪═════════════════════╪═════════════════════╡\n",
       "│ 13538   ┆ [2023-04-27          ┆ [100.0, 35.0, …     ┆ [9738663, 9738569,  ┆ [17.0, 12.0, …      │\n",
       "│         ┆ 10:17:43, 2023-04-…  ┆ 100.0]              ┆ … 9769366]          ┆ 16.0]               │\n",
       "│ 14241   ┆ [2023-04-27          ┆ [100.0, 46.0, …     ┆ [9738557, 9738528,  ┆ [8.0, 9.0, … 12.0]  │\n",
       "│         ┆ 09:40:18, 2023-04-…  ┆ 100.0]              ┆ … 9767852]          ┆                     │\n",
       "│ 20396   ┆ [2023-04-27          ┆ [100.0, 59.0, …     ┆ [9738760, 9738355,  ┆ [49.0, 34.0, … 4.0] │\n",
       "│         ┆ 12:30:44, 2023-04-…  ┆ 13.0]               ┆ … 9769679]          ┆                     │\n",
       "│ 34912   ┆ [2023-04-29          ┆ [100.0, 35.0, …     ┆ [9741802, 9741804,  ┆ [153.0, 7.0, … 5.0] │\n",
       "│         ┆ 07:12:49, 2023-04-…  ┆ 27.0]               ┆ … 9770882]          ┆                     │\n",
       "│ 37953   ┆ [2023-04-27          ┆ [14.0, 28.0, …      ┆ [9739205, 9739202,  ┆ [4.0, 16.0, … 6.0]  │\n",
       "│         ┆ 19:17:10, 2023-04-…  ┆ 18.0]               ┆ … 9769306]          ┆                     │\n",
       "│ …       ┆ …                    ┆ …                   ┆ …                   ┆ …                   │\n",
       "│ 1479974 ┆ [2023-05-18          ┆ [58.0, 100.0, …     ┆ [9770989, 9769553,  ┆ [8.0, 124.0, … 9.0] │\n",
       "│         ┆ 06:03:16, 2023-05-…  ┆ 21.0]               ┆ … 9766140]          ┆                     │\n",
       "│ 2405403 ┆ [2023-04-30          ┆ [40.0, 100.0, …     ┆ [9743574, 9740618,  ┆ [1.0, 64.0, …       │\n",
       "│         ┆ 19:48:27, 2023-04-…  ┆ 39.0]               ┆ … 9743487]          ┆ 120.0]              │\n",
       "│ 2454548 ┆ [2023-05-17          ┆ [12.0, 10.0, …      ┆ [9768328, 9769328,  ┆ [9.0, 6.0, … 11.0]  │\n",
       "│         ┆ 09:35:06, 2023-05-…  ┆ 79.0]               ┆ … 9634567]          ┆                     │\n",
       "│ 581228  ┆ [2023-05-18          ┆ [28.0, 60.0, …      ┆ [9770799, 9770726,  ┆ [12.0, 15.0, …      │\n",
       "│         ┆ 05:24:32, 2023-05-…  ┆ 100.0]              ┆ … 9769366]          ┆ 43.0]               │\n",
       "│ 1710834 ┆ [2023-05-17          ┆ [20.0, 43.0, …      ┆ [9770741, 9770594,  ┆ [9.0, 44.0, …       │\n",
       "│         ┆ 21:09:45, 2023-05-…  ┆ 48.0]               ┆ … 9770452]          ┆ 916.0]              │\n",
       "└─────────┴──────────────────────┴─────────────────────┴─────────────────────┴─────────────────────┘"
      ]
     },
     "execution_count": 5,
     "metadata": {},
     "output_type": "execute_result"
    }
   ],
   "source": [
    "h"
   ]
  },
  {
   "cell_type": "markdown",
   "metadata": {},
   "source": [
    "# Fix"
   ]
  },
  {
   "cell_type": "code",
   "execution_count": 75,
   "metadata": {},
   "outputs": [],
   "source": [
    "a = a.with_columns(pl.when(pl.col('category_str') == 'bibliotek').then(2504).otherwise(pl.col('category')).alias('category'))\n",
    "a = a.with_columns(pl.when(pl.col('category') == 68).then(pl.lit(\"video\")).otherwise(pl.col('category_str')).alias('category_str'))\n",
    "\n",
    "#creation homepage node\n",
    "home_page_article_dict = {k: None for k in a.columns}\n",
    "home_page_article_id = 0\n",
    "home_page_article_dict['article_id'] = home_page_article_id\n",
    "home_page_article_dict['title'] = 'homepage'\n",
    "home_page_article_dict['article_type'] = 'homepage'\n",
    "a = a.vstack(pl.DataFrame(home_page_article_dict, schema=a.schema))\n",
    "\n",
    "#link null article id in impression to homepage node\n",
    "b = b.with_columns(pl.col('article_id').fill_null(home_page_article_id))\n"
   ]
  },
  {
   "cell_type": "markdown",
   "metadata": {},
   "source": [
    "## Creation Neo4j CSV"
   ]
  },
  {
   "cell_type": "code",
   "execution_count": 76,
   "metadata": {},
   "outputs": [
    {
     "data": {
      "text/html": [
       "<div><style>\n",
       ".dataframe > thead > tr,\n",
       ".dataframe > tbody > tr {\n",
       "  text-align: right;\n",
       "  white-space: pre-wrap;\n",
       "}\n",
       "</style>\n",
       "<small>shape: (3, 5)</small><table border=\"1\" class=\"dataframe\"><thead><tr><th>id:ID(User)</th><th>gender:int</th><th>postcode:int</th><th>age:int</th><th>:LABEL</th></tr><tr><td>u32</td><td>i8</td><td>i8</td><td>i8</td><td>str</td></tr></thead><tbody><tr><td>10068</td><td>null</td><td>null</td><td>null</td><td>&quot;User&quot;</td></tr><tr><td>10200</td><td>null</td><td>null</td><td>null</td><td>&quot;User&quot;</td></tr><tr><td>10201</td><td>null</td><td>null</td><td>null</td><td>&quot;User&quot;</td></tr></tbody></table></div>"
      ],
      "text/plain": [
       "shape: (3, 5)\n",
       "┌─────────────┬────────────┬──────────────┬─────────┬────────┐\n",
       "│ id:ID(User) ┆ gender:int ┆ postcode:int ┆ age:int ┆ :LABEL │\n",
       "│ ---         ┆ ---        ┆ ---          ┆ ---     ┆ ---    │\n",
       "│ u32         ┆ i8         ┆ i8           ┆ i8      ┆ str    │\n",
       "╞═════════════╪════════════╪══════════════╪═════════╪════════╡\n",
       "│ 10068       ┆ null       ┆ null         ┆ null    ┆ User   │\n",
       "│ 10200       ┆ null       ┆ null         ┆ null    ┆ User   │\n",
       "│ 10201       ┆ null       ┆ null         ┆ null    ┆ User   │\n",
       "└─────────────┴────────────┴──────────────┴─────────┴────────┘"
      ]
     },
     "execution_count": 76,
     "metadata": {},
     "output_type": "execute_result"
    }
   ],
   "source": [
    "b_tmp = b.select('user_id', 'gender', 'postcode', 'age').group_by('user_id').agg(pl.all().drop_nulls().first())\n",
    "u_data = h.select('user_id').join(b_tmp, on='user_id', how='left').sort('user_id').unique('user_id')\n",
    "u_data = u_data.with_columns(pl.lit('User').alias(':LABEL'))\n",
    "u_data=u_data.rename({'user_id': 'id:ID(User)', 'gender':'gender:int', 'postcode':'postcode:int', 'age':'age:int'})\n",
    "\n",
    "u_data.write_csv(CSV_STORAGE / 'user_data.csv')\n",
    "u_data.head(3)"
   ]
  },
  {
   "cell_type": "code",
   "execution_count": 77,
   "metadata": {},
   "outputs": [
    {
     "data": {
      "text/html": [
       "<div><style>\n",
       ".dataframe > thead > tr,\n",
       ".dataframe > tbody > tr {\n",
       "  text-align: right;\n",
       "  white-space: pre-wrap;\n",
       "}\n",
       "</style>\n",
       "<small>shape: (3, 3)</small><table border=\"1\" class=\"dataframe\"><thead><tr><th>id:ID(Topic)</th><th>name</th><th>:LABEL</th></tr><tr><td>i64</td><td>str</td><td>str</td></tr></thead><tbody><tr><td>0</td><td>&quot;Ansættelsesforhold&quot;</td><td>&quot;Topic&quot;</td></tr><tr><td>1</td><td>&quot;Bandekriminalitet&quot;</td><td>&quot;Topic&quot;</td></tr><tr><td>2</td><td>&quot;Bedrageri&quot;</td><td>&quot;Topic&quot;</td></tr></tbody></table></div>"
      ],
      "text/plain": [
       "shape: (3, 3)\n",
       "┌──────────────┬────────────────────┬────────┐\n",
       "│ id:ID(Topic) ┆ name               ┆ :LABEL │\n",
       "│ ---          ┆ ---                ┆ ---    │\n",
       "│ i64          ┆ str                ┆ str    │\n",
       "╞══════════════╪════════════════════╪════════╡\n",
       "│ 0            ┆ Ansættelsesforhold ┆ Topic  │\n",
       "│ 1            ┆ Bandekriminalitet  ┆ Topic  │\n",
       "│ 2            ┆ Bedrageri          ┆ Topic  │\n",
       "└──────────────┴────────────────────┴────────┘"
      ]
     },
     "execution_count": 77,
     "metadata": {},
     "output_type": "execute_result"
    }
   ],
   "source": [
    "topic = a.select(pl.col('topics').alias('topic')).explode('topic').unique().sort('topic').drop_nulls()\n",
    "topic = topic.insert_column(0, pl.Series(\"topic_id\", np.arange(topic.shape[0])))\n",
    "topic = topic.with_columns(pl.lit('Topic').alias(':LABEL'))\n",
    "topic=topic.rename({'topic': 'name', 'topic_id': 'id:ID(Topic)'})\n",
    "topic.write_csv(CSV_STORAGE / 'topic_data.csv')\n",
    "topic.head(3)"
   ]
  },
  {
   "cell_type": "code",
   "execution_count": 78,
   "metadata": {},
   "outputs": [
    {
     "data": {
      "text/html": [
       "<div><style>\n",
       ".dataframe > thead > tr,\n",
       ".dataframe > tbody > tr {\n",
       "  text-align: right;\n",
       "  white-space: pre-wrap;\n",
       "}\n",
       "</style>\n",
       "<small>shape: (3, 3)</small><table border=\"1\" class=\"dataframe\"><thead><tr><th>id:ID(Entity)</th><th>name</th><th>:LABEL</th></tr><tr><td>i64</td><td>str</td><td>str</td></tr></thead><tbody><tr><td>0</td><td>&quot;EVENT&quot;</td><td>&quot;Entity&quot;</td></tr><tr><td>1</td><td>&quot;LOC&quot;</td><td>&quot;Entity&quot;</td></tr><tr><td>2</td><td>&quot;MISC&quot;</td><td>&quot;Entity&quot;</td></tr></tbody></table></div>"
      ],
      "text/plain": [
       "shape: (3, 3)\n",
       "┌───────────────┬───────┬────────┐\n",
       "│ id:ID(Entity) ┆ name  ┆ :LABEL │\n",
       "│ ---           ┆ ---   ┆ ---    │\n",
       "│ i64           ┆ str   ┆ str    │\n",
       "╞═══════════════╪═══════╪════════╡\n",
       "│ 0             ┆ EVENT ┆ Entity │\n",
       "│ 1             ┆ LOC   ┆ Entity │\n",
       "│ 2             ┆ MISC  ┆ Entity │\n",
       "└───────────────┴───────┴────────┘"
      ]
     },
     "execution_count": 78,
     "metadata": {},
     "output_type": "execute_result"
    }
   ],
   "source": [
    "entity_group = a.select(pl.col('entity_groups').alias('entity_group')).explode('entity_group').unique().sort('entity_group').drop_nulls()\n",
    "entity_group = entity_group.insert_column(0, pl.Series(\"entity_group_id\", np.arange(entity_group.shape[0])))\n",
    "entity_group = entity_group.with_columns(pl.lit('Entity').alias(':LABEL'))\n",
    "entity_group = entity_group.rename({'entity_group': 'name', 'entity_group_id': 'id:ID(Entity)'})\n",
    "entity_group.write_csv(CSV_STORAGE / 'entity_data.csv')\n",
    "entity_group.head(3)"
   ]
  },
  {
   "cell_type": "code",
   "execution_count": 79,
   "metadata": {},
   "outputs": [
    {
     "data": {
      "text/html": [
       "<div><style>\n",
       ".dataframe > thead > tr,\n",
       ".dataframe > tbody > tr {\n",
       "  text-align: right;\n",
       "  white-space: pre-wrap;\n",
       "}\n",
       "</style>\n",
       "<small>shape: (3, 3)</small><table border=\"1\" class=\"dataframe\"><thead><tr><th>id:ID(Category)</th><th>name</th><th>:LABEL</th></tr><tr><td>i16</td><td>str</td><td>str</td></tr></thead><tbody><tr><td>496</td><td>null</td><td>&quot;Category&quot;</td></tr><tr><td>268</td><td>null</td><td>&quot;Category&quot;</td></tr><tr><td>540</td><td>null</td><td>&quot;Category&quot;</td></tr></tbody></table></div>"
      ],
      "text/plain": [
       "shape: (3, 3)\n",
       "┌─────────────────┬──────┬──────────┐\n",
       "│ id:ID(Category) ┆ name ┆ :LABEL   │\n",
       "│ ---             ┆ ---  ┆ ---      │\n",
       "│ i16             ┆ str  ┆ str      │\n",
       "╞═════════════════╪══════╪══════════╡\n",
       "│ 496             ┆ null ┆ Category │\n",
       "│ 268             ┆ null ┆ Category │\n",
       "│ 540             ┆ null ┆ Category │\n",
       "└─────────────────┴──────┴──────────┘"
      ]
     },
     "execution_count": 79,
     "metadata": {},
     "output_type": "execute_result"
    }
   ],
   "source": [
    "cats = a.select(pl.col('category').alias('category_id'), pl.col('category_str').alias('name')).unique().drop_nulls()\n",
    "ids_cats = cats.select('category_id').to_numpy().reshape(-1)\n",
    "sub_cats = a.select(pl.col('subcategory').alias('category_id')).explode('category_id').unique().drop_nulls()\n",
    "sub_cats = sub_cats.filter(~pl.col('category_id').is_in(cats.select('category_id'))).with_columns(pl.lit(None).alias('name'))\n",
    "category = cats.vstack(sub_cats).sort('category_id')\n",
    "category = category.with_columns(pl.lit('Category').alias(':LABEL')).sort('category_id').unique()\n",
    "category=category.rename({'category_id': 'id:ID(Category)'})\n",
    "category.write_csv(CSV_STORAGE / 'category_data.csv')\n",
    "category.head(3)"
   ]
  },
  {
   "cell_type": "code",
   "execution_count": 80,
   "metadata": {},
   "outputs": [
    {
     "data": {
      "text/html": [
       "<div><style>\n",
       ".dataframe > thead > tr,\n",
       ".dataframe > tbody > tr {\n",
       "  text-align: right;\n",
       "  white-space: pre-wrap;\n",
       "}\n",
       "</style>\n",
       "<small>shape: (3, 4)</small><table border=\"1\" class=\"dataframe\"><thead><tr><th>:START_ID(Article)</th><th>is_sub:boolean</th><th>:END_ID(Category)</th><th>:TYPE</th></tr><tr><td>i32</td><td>bool</td><td>i16</td><td>str</td></tr></thead><tbody><tr><td>9625399</td><td>false</td><td>118</td><td>&quot;IS_IN&quot;</td></tr><tr><td>9730470</td><td>false</td><td>142</td><td>&quot;IS_IN&quot;</td></tr><tr><td>4894960</td><td>false</td><td>498</td><td>&quot;IS_IN&quot;</td></tr></tbody></table></div>"
      ],
      "text/plain": [
       "shape: (3, 4)\n",
       "┌────────────────────┬────────────────┬───────────────────┬───────┐\n",
       "│ :START_ID(Article) ┆ is_sub:boolean ┆ :END_ID(Category) ┆ :TYPE │\n",
       "│ ---                ┆ ---            ┆ ---               ┆ ---   │\n",
       "│ i32                ┆ bool           ┆ i16               ┆ str   │\n",
       "╞════════════════════╪════════════════╪═══════════════════╪═══════╡\n",
       "│ 9625399            ┆ false          ┆ 118               ┆ IS_IN │\n",
       "│ 9730470            ┆ false          ┆ 142               ┆ IS_IN │\n",
       "│ 4894960            ┆ false          ┆ 498               ┆ IS_IN │\n",
       "└────────────────────┴────────────────┴───────────────────┴───────┘"
      ]
     },
     "execution_count": 80,
     "metadata": {},
     "output_type": "execute_result"
    }
   ],
   "source": [
    "a_to_category = a.select('article_id', pl.lit(False).alias('is_sub'), pl.col('category').alias('category_id')).unique().drop_nulls()\n",
    "a_to_sub_category = a.select('article_id', pl.lit(True).alias('is_sub'), pl.col('subcategory').alias('category_id')).explode('category_id').unique().drop_nulls()\n",
    "\n",
    "a_to_category = a_to_category.vstack(a_to_sub_category).rename({'article_id': ':START_ID(Article)', 'category_id': ':END_ID(Category)'})\\\n",
    "    .with_columns(pl.lit('IS_IN').alias(':TYPE'))\n",
    "    \n",
    "a_to_category = a_to_category.rename({'is_sub':'is_sub:boolean'})\n",
    "a_to_category.write_csv(CSV_STORAGE / 'article_to_category.csv')\n",
    "a_to_category.head(3)"
   ]
  },
  {
   "cell_type": "code",
   "execution_count": 81,
   "metadata": {},
   "outputs": [
    {
     "data": {
      "text/html": [
       "<div><style>\n",
       ".dataframe > thead > tr,\n",
       ".dataframe > tbody > tr {\n",
       "  text-align: right;\n",
       "  white-space: pre-wrap;\n",
       "}\n",
       "</style>\n",
       "<small>shape: (3, 3)</small><table border=\"1\" class=\"dataframe\"><thead><tr><th>:START_ID(Article)</th><th>:END_ID(Topic)</th><th>:TYPE</th></tr><tr><td>i32</td><td>i64</td><td>str</td></tr></thead><tbody><tr><td>9717707</td><td>27</td><td>&quot;IS_IN&quot;</td></tr><tr><td>9739202</td><td>21</td><td>&quot;IS_IN&quot;</td></tr><tr><td>9561345</td><td>10</td><td>&quot;IS_IN&quot;</td></tr></tbody></table></div>"
      ],
      "text/plain": [
       "shape: (3, 3)\n",
       "┌────────────────────┬────────────────┬───────┐\n",
       "│ :START_ID(Article) ┆ :END_ID(Topic) ┆ :TYPE │\n",
       "│ ---                ┆ ---            ┆ ---   │\n",
       "│ i32                ┆ i64            ┆ str   │\n",
       "╞════════════════════╪════════════════╪═══════╡\n",
       "│ 9717707            ┆ 27             ┆ IS_IN │\n",
       "│ 9739202            ┆ 21             ┆ IS_IN │\n",
       "│ 9561345            ┆ 10             ┆ IS_IN │\n",
       "└────────────────────┴────────────────┴───────┘"
      ]
     },
     "execution_count": 81,
     "metadata": {},
     "output_type": "execute_result"
    }
   ],
   "source": [
    "a_to_topic = a.select('article_id', pl.col('topics').alias('name')).explode('name').sort('article_id').unique().drop_nulls()\n",
    "a_to_topic = a_to_topic.join(topic, on='name', how='left').select('article_id', pl.col('id:ID(Topic)').alias('topic_id'))\\\n",
    "    .with_columns(pl.lit('IS_IN').alias(':TYPE'))\n",
    "a_to_topic = a_to_topic.rename({'article_id': ':START_ID(Article)', 'topic_id': ':END_ID(Topic)'})\n",
    "a_to_topic.write_csv(CSV_STORAGE / 'article_to_topic.csv')\n",
    "a_to_topic.head(3)"
   ]
  },
  {
   "cell_type": "code",
   "execution_count": 82,
   "metadata": {},
   "outputs": [
    {
     "data": {
      "text/html": [
       "<div><style>\n",
       ".dataframe > thead > tr,\n",
       ".dataframe > tbody > tr {\n",
       "  text-align: right;\n",
       "  white-space: pre-wrap;\n",
       "}\n",
       "</style>\n",
       "<small>shape: (3, 3)</small><table border=\"1\" class=\"dataframe\"><thead><tr><th>:START_ID(Article)</th><th>:END_ID(Entity)</th><th>:TYPE</th></tr><tr><td>i32</td><td>i64</td><td>str</td></tr></thead><tbody><tr><td>9659666</td><td>1</td><td>&quot;IS_IN&quot;</td></tr><tr><td>9730006</td><td>4</td><td>&quot;IS_IN&quot;</td></tr><tr><td>9759301</td><td>5</td><td>&quot;IS_IN&quot;</td></tr></tbody></table></div>"
      ],
      "text/plain": [
       "shape: (3, 3)\n",
       "┌────────────────────┬─────────────────┬───────┐\n",
       "│ :START_ID(Article) ┆ :END_ID(Entity) ┆ :TYPE │\n",
       "│ ---                ┆ ---             ┆ ---   │\n",
       "│ i32                ┆ i64             ┆ str   │\n",
       "╞════════════════════╪═════════════════╪═══════╡\n",
       "│ 9659666            ┆ 1               ┆ IS_IN │\n",
       "│ 9730006            ┆ 4               ┆ IS_IN │\n",
       "│ 9759301            ┆ 5               ┆ IS_IN │\n",
       "└────────────────────┴─────────────────┴───────┘"
      ]
     },
     "execution_count": 82,
     "metadata": {},
     "output_type": "execute_result"
    }
   ],
   "source": [
    "a_to_entity = a.select('article_id', pl.col('entity_groups').alias('name')).explode('name').sort('article_id').unique().drop_nulls()\n",
    "a_to_entity = a_to_entity.join(entity_group, on='name', how='left').select('article_id', pl.col('id:ID(Entity)').alias('entity_id'))\\\n",
    "        .with_columns(pl.lit('IS_IN').alias(':TYPE'))\n",
    "\n",
    "a_to_entity = a_to_entity.rename({'article_id': ':START_ID(Article)', 'entity_id': ':END_ID(Entity)'})\n",
    "a_to_entity.write_csv(CSV_STORAGE / 'article_to_entity.csv')\n",
    "a_to_entity.head(3)"
   ]
  },
  {
   "cell_type": "code",
   "execution_count": 83,
   "metadata": {},
   "outputs": [
    {
     "data": {
      "text/html": [
       "<div><style>\n",
       ".dataframe > thead > tr,\n",
       ".dataframe > tbody > tr {\n",
       "  text-align: right;\n",
       "  white-space: pre-wrap;\n",
       "}\n",
       "</style>\n",
       "<small>shape: (3, 15)</small><table border=\"1\" class=\"dataframe\"><thead><tr><th>id:ID(Article)</th><th>title</th><th>subtitle</th><th>last_modified_time</th><th>premium:boolean</th><th>body</th><th>published_time</th><th>article_type</th><th>url</th><th>total_inviews:int</th><th>total_pageviews:int</th><th>total_read_time</th><th>sentiment_score:float</th><th>sentiment_label</th><th>:LABEL</th></tr><tr><td>i32</td><td>str</td><td>str</td><td>datetime[μs]</td><td>bool</td><td>str</td><td>datetime[μs]</td><td>str</td><td>str</td><td>i32</td><td>i32</td><td>f32</td><td>f32</td><td>str</td><td>str</td></tr></thead><tbody><tr><td>0</td><td>&quot;homepage&quot;</td><td>null</td><td>null</td><td>null</td><td>null</td><td>null</td><td>&quot;homepage&quot;</td><td>null</td><td>null</td><td>null</td><td>null</td><td>null</td><td>null</td><td>&quot;Article&quot;</td></tr><tr><td>3001353</td><td>&quot;Natascha var ikke den første&quot;</td><td>&quot;Politiet frygter nu, at Natasc…</td><td>2023-06-29 06:20:33</td><td>false</td><td>&quot;Sagen om den østriske Natascha…</td><td>2006-08-31 08:06:45</td><td>&quot;article_default&quot;</td><td>&quot;https://ekstrabladet.dk/krimi/…</td><td>null</td><td>null</td><td>null</td><td>0.9955</td><td>&quot;Negative&quot;</td><td>&quot;Article&quot;</td></tr><tr><td>3003065</td><td>&quot;Kun Star Wars tjente mere&quot;</td><td>&quot;Biografgængerne strømmer ind f…</td><td>2023-06-29 06:20:35</td><td>false</td><td>&quot;Vatikanet har opfordret til at…</td><td>2006-05-21 16:57:00</td><td>&quot;article_default&quot;</td><td>&quot;https://ekstrabladet.dk/underh…</td><td>null</td><td>null</td><td>null</td><td>0.846</td><td>&quot;Positive&quot;</td><td>&quot;Article&quot;</td></tr></tbody></table></div>"
      ],
      "text/plain": [
       "shape: (3, 15)\n",
       "┌────────────┬───────────┬───────────┬───────────┬───┬───────────┬───────────┬───────────┬─────────┐\n",
       "│ id:ID(Arti ┆ title     ┆ subtitle  ┆ last_modi ┆ … ┆ total_rea ┆ sentiment ┆ sentiment ┆ :LABEL  │\n",
       "│ cle)       ┆ ---       ┆ ---       ┆ fied_time ┆   ┆ d_time    ┆ _score:fl ┆ _label    ┆ ---     │\n",
       "│ ---        ┆ str       ┆ str       ┆ ---       ┆   ┆ ---       ┆ oat       ┆ ---       ┆ str     │\n",
       "│ i32        ┆           ┆           ┆ datetime[ ┆   ┆ f32       ┆ ---       ┆ str       ┆         │\n",
       "│            ┆           ┆           ┆ μs]       ┆   ┆           ┆ f32       ┆           ┆         │\n",
       "╞════════════╪═══════════╪═══════════╪═══════════╪═══╪═══════════╪═══════════╪═══════════╪═════════╡\n",
       "│ 0          ┆ homepage  ┆ null      ┆ null      ┆ … ┆ null      ┆ null      ┆ null      ┆ Article │\n",
       "│ 3001353    ┆ Natascha  ┆ Politiet  ┆ 2023-06-2 ┆ … ┆ null      ┆ 0.9955    ┆ Negative  ┆ Article │\n",
       "│            ┆ var ikke  ┆ frygter   ┆ 9         ┆   ┆           ┆           ┆           ┆         │\n",
       "│            ┆ den       ┆ nu, at    ┆ 06:20:33  ┆   ┆           ┆           ┆           ┆         │\n",
       "│            ┆ første    ┆ Natasc…   ┆           ┆   ┆           ┆           ┆           ┆         │\n",
       "│ 3003065    ┆ Kun Star  ┆ Biografgæ ┆ 2023-06-2 ┆ … ┆ null      ┆ 0.846     ┆ Positive  ┆ Article │\n",
       "│            ┆ Wars      ┆ ngerne    ┆ 9         ┆   ┆           ┆           ┆           ┆         │\n",
       "│            ┆ tjente    ┆ strømmer  ┆ 06:20:35  ┆   ┆           ┆           ┆           ┆         │\n",
       "│            ┆ mere      ┆ ind f…    ┆           ┆   ┆           ┆           ┆           ┆         │\n",
       "└────────────┴───────────┴───────────┴───────────┴───┴───────────┴───────────┴───────────┴─────────┘"
      ]
     },
     "execution_count": 83,
     "metadata": {},
     "output_type": "execute_result"
    }
   ],
   "source": [
    "a_data = a.drop('image_ids', 'ner_clusters', 'entity_groups', 'topics', 'subcategory', \n",
    "                'category', 'category_str')\\\n",
    "                    .with_columns(pl.col('title').str.replace_all('\\n', ''))\\\n",
    "                    .with_columns(pl.col('subtitle').str.replace_all('\\n', ''))\\\n",
    "                    .with_columns(pl.col('body').str.replace_all('\\n', ''))\\\n",
    "                    .with_columns(pl.lit('Article').alias(':LABEL'))\\\n",
    "                    .sort('article_id')\n",
    "\n",
    "a_data = a_data.rename({'article_id': 'id:ID(Article)', 'premium':'premium:boolean', 'total_inviews': 'total_inviews:int', \n",
    "                        'total_pageviews': 'total_pageviews:int', 'sentiment_score':'sentiment_score:float', 'total_read_time': 'total_read_time:float'})\n",
    "a_data.write_csv(CSV_STORAGE / 'article_data.csv', datetime_format='%Y-%m-%dT%H:%M:%S')\n",
    "a_data.head(3)"
   ]
  },
  {
   "cell_type": "code",
   "execution_count": 84,
   "metadata": {},
   "outputs": [
    {
     "data": {
      "text/html": [
       "<div><style>\n",
       ".dataframe > thead > tr,\n",
       ".dataframe > tbody > tr {\n",
       "  text-align: right;\n",
       "  white-space: pre-wrap;\n",
       "}\n",
       "</style>\n",
       "<small>shape: (3, 6)</small><table border=\"1\" class=\"dataframe\"><thead><tr><th>:START_ID(User)</th><th>impression_time:string</th><th>scroll_percentage:float</th><th>:END_ID(Article)</th><th>read_time:float</th><th>:TYPE</th></tr><tr><td>u32</td><td>datetime[μs]</td><td>f32</td><td>i32</td><td>f32</td><td>str</td></tr></thead><tbody><tr><td>10068</td><td>2023-04-27 14:22:26</td><td>100.0</td><td>9735753</td><td>39.0</td><td>&quot;CLICK&quot;</td></tr><tr><td>10068</td><td>2023-04-27 18:51:53</td><td>100.0</td><td>9739065</td><td>21.0</td><td>&quot;CLICK&quot;</td></tr><tr><td>10068</td><td>2023-04-30 08:02:28</td><td>76.0</td><td>9667501</td><td>83.0</td><td>&quot;CLICK&quot;</td></tr></tbody></table></div>"
      ],
      "text/plain": [
       "shape: (3, 6)\n",
       "┌─────────────────┬──────────────────┬─────────────────┬─────────────────┬─────────────────┬───────┐\n",
       "│ :START_ID(User) ┆ impression_time: ┆ scroll_percenta ┆ :END_ID(Article ┆ read_time:float ┆ :TYPE │\n",
       "│ ---             ┆ string           ┆ ge:float        ┆ )               ┆ ---             ┆ ---   │\n",
       "│ u32             ┆ ---              ┆ ---             ┆ ---             ┆ f32             ┆ str   │\n",
       "│                 ┆ datetime[μs]     ┆ f32             ┆ i32             ┆                 ┆       │\n",
       "╞═════════════════╪══════════════════╪═════════════════╪═════════════════╪═════════════════╪═══════╡\n",
       "│ 10068           ┆ 2023-04-27       ┆ 100.0           ┆ 9735753         ┆ 39.0            ┆ CLICK │\n",
       "│                 ┆ 14:22:26         ┆                 ┆                 ┆                 ┆       │\n",
       "│ 10068           ┆ 2023-04-27       ┆ 100.0           ┆ 9739065         ┆ 21.0            ┆ CLICK │\n",
       "│                 ┆ 18:51:53         ┆                 ┆                 ┆                 ┆       │\n",
       "│ 10068           ┆ 2023-04-30       ┆ 76.0            ┆ 9667501         ┆ 83.0            ┆ CLICK │\n",
       "│                 ┆ 08:02:28         ┆                 ┆                 ┆                 ┆       │\n",
       "└─────────────────┴──────────────────┴─────────────────┴─────────────────┴─────────────────┴───────┘"
      ]
     },
     "execution_count": 84,
     "metadata": {},
     "output_type": "execute_result"
    }
   ],
   "source": [
    "u_to_a = pl.concat([\n",
    "    slice.explode(pl.all().exclude('user_id'))\n",
    "    for slice in h.iter_slices(100000)\n",
    "]).sort('user_id').with_columns(pl.lit('CLICK').alias(':TYPE'))\n",
    "u_to_a = u_to_a.rename({'user_id': ':START_ID(User)', 'article_id_fixed': ':END_ID(Article)',\n",
    "                        'impression_time_fixed': 'impression_time:string', 'scroll_percentage_fixed': 'scroll_percentage:float', 'read_time_fixed': 'read_time:float'})\n",
    "u_to_a.write_csv(CSV_STORAGE / 'user_to_article.csv')\n",
    "u_to_a.head(3)"
   ]
  },
  {
   "cell_type": "markdown",
   "metadata": {},
   "source": [
    "### History"
   ]
  },
  {
   "cell_type": "code",
   "execution_count": 69,
   "metadata": {},
   "outputs": [],
   "source": [
    "# batch = 0\n",
    "# batch_size=100\n",
    "# user_ids = h.select('user_id')\n",
    "\n",
    "# h_final = None\n",
    "# for batch in range(0, len(user_ids), batch_size):\n",
    "    \n",
    "#     user_ids_batch = user_ids[batch:batch+batch_size]\n",
    "#     h_data = h.filter(pl.col('user_id').is_in(user_ids[batch:batch+batch_size]))\\\n",
    "#     .explode('impression_time_fixed', 'article_id_fixed', 'scroll_percentage_fixed', 'read_time_fixed')\n",
    "\n",
    "#     h_data = h_data.with_columns(pl.Series(np.arange(-1, len(h_data) - 1)).cast(pl.Int32).alias('id_l'))\n",
    "#     h_data = h_data.with_columns(pl.Series(np.arange(len(h_data))).cast(pl.Int32).alias('id_r'))\n",
    "#     h_data = h_data.join(h_data, left_on=['user_id', 'id_r'], right_on=['user_id', 'id_l'], how='left')\n",
    "\n",
    "#     h_data = h_data.select(\n",
    "#         pl.col('article_id_fixed').alias(':START_ID(Article)'),\n",
    "#         'user_id', \n",
    "#         pl.col('impression_time_fixed').alias('impression_time'),\n",
    "#         pl.col('scroll_percentage_fixed').alias('scroll_percentage'),\n",
    "#         pl.col('read_time_fixed').alias('read_time'),\n",
    "#         pl.col('article_id_fixed_right').alias(':END_ID(Article)'),\n",
    "#         pl.lit('FOLLOW').alias(':TYPE')\n",
    "#     ).drop_nulls(':END_ID(Article)')\n",
    "    \n",
    "#     if h_final is None:\n",
    "#         h_final = h_data\n",
    "#     else:\n",
    "#         h_final = h_final.vstack(h_data)\n",
    "    \n",
    "\n",
    "# h_final.write_csv(CSV_STORAGE / 'history_article_to_article.csv', datetime_format='%Y-%m-%dT%H:%M:%S')\n",
    "# h_final.head(3)"
   ]
  },
  {
   "cell_type": "code",
   "execution_count": 70,
   "metadata": {},
   "outputs": [],
   "source": [
    "# h_data = h.select(pl.col('user_id').alias(':START_ID(User)'), \n",
    "#                   pl.col('impression_time_fixed').list.first().alias('impression_time'),\n",
    "#                   pl.col('scroll_percentage_fixed').list.first().alias('scroll_percentage'),\n",
    "#                   pl.col('read_time_fixed').list.first().alias('read_time'),\n",
    "#                   pl.col('article_id_fixed').list.first().alias(':END_ID(Article)'),\n",
    "#                   pl.lit('FOLLOW').alias(':TYPE'))\n",
    "\n",
    "# h_data.write_csv(CSV_STORAGE / 'history_user_to_article.csv', datetime_format='%Y-%m-%dT%H:%M:%S')\n",
    "# h_data.head(3)"
   ]
  },
  {
   "cell_type": "code",
   "execution_count": 71,
   "metadata": {},
   "outputs": [],
   "source": [
    "# ' '.join(\n",
    "#     [\n",
    "#         'bin/neo4j-admin database import full',\n",
    "#         #nodes\n",
    "#         f'--nodes=User=import/{type}/user_data.csv',\n",
    "#         f'--nodes=Article=import/{type}/article_data.csv',\n",
    "#         #relationships\n",
    "#         f'--relationships=import/{type}/history_user_to_article.csv',\n",
    "#         f'--relationships=import/{type}/history_article_to_article.csv',\n",
    "        \n",
    "#         '--overwrite-destination',\n",
    "#         f'newsdb-history-{type}'\n",
    "#         ])"
   ]
  },
  {
   "cell_type": "markdown",
   "metadata": {},
   "source": [
    "### Load neo4j-admin-script"
   ]
  },
  {
   "cell_type": "code",
   "execution_count": 85,
   "metadata": {},
   "outputs": [
    {
     "data": {
      "text/plain": [
       "'bin/neo4j-admin database import full --nodes=import/small/user_data.csv --nodes=import/small/article_data.csv --nodes=import/small/category_data.csv --nodes=import/small/entity_data.csv --nodes=import/small/topic_data.csv --relationships=import/small/user_to_article.csv --relationships=import/small/article_to_topic.csv --relationships=import/small/article_to_entity.csv --relationships=import/small/article_to_category.csv --overwrite-destination newsdb-small'"
      ]
     },
     "execution_count": 85,
     "metadata": {},
     "output_type": "execute_result"
    }
   ],
   "source": [
    "' '.join(\n",
    "    [\n",
    "        'bin/neo4j-admin database import full',\n",
    "        #nodes\n",
    "        f'--nodes=import/{type}/user_data.csv',\n",
    "        f'--nodes=import/{type}/article_data.csv',\n",
    "        f'--nodes=import/{type}/category_data.csv',\n",
    "        f'--nodes=import/{type}/entity_data.csv',\n",
    "        f'--nodes=import/{type}/topic_data.csv',\n",
    "        #relationships\n",
    "        f'--relationships=import/{type}/user_to_article.csv',\n",
    "        f'--relationships=import/{type}/article_to_topic.csv',\n",
    "        f'--relationships=import/{type}/article_to_entity.csv',\n",
    "        f'--relationships=import/{type}/article_to_category.csv',\n",
    "        \n",
    "        '--overwrite-destination',\n",
    "        f'newsdb-{type}'\n",
    "        ])"
   ]
  },
  {
   "cell_type": "markdown",
   "metadata": {},
   "source": [
    "## Contraints"
   ]
  },
  {
   "cell_type": "code",
   "execution_count": 1,
   "metadata": {},
   "outputs": [
    {
     "name": "stdout",
     "output_type": "stream",
     "text": [
      "None\n"
     ]
    },
    {
     "name": "stderr",
     "output_type": "stream",
     "text": [
      "Failed to read from defunct connection IPv4Address(('ec2-34-240-14-242.eu-west-1.compute.amazonaws.com', 7687)) (ResolvedIPv4Address(('34.240.14.242', 7687)))\n"
     ]
    },
    {
     "ename": "SessionExpired",
     "evalue": "Failed to read from defunct connection IPv4Address(('ec2-34-240-14-242.eu-west-1.compute.amazonaws.com', 7687)) (ResolvedIPv4Address(('34.240.14.242', 7687)))",
     "output_type": "error",
     "traceback": [
      "\u001b[0;31m---------------------------------------------------------------------------\u001b[0m",
      "\u001b[0;31mTimeoutError\u001b[0m                              Traceback (most recent call last)",
      "File \u001b[0;32m~/miniforge3/envs/recsys/lib/python3.11/site-packages/neo4j/_sync/io/_common.py:51\u001b[0m, in \u001b[0;36mInbox._buffer_one_chunk\u001b[0;34m(self)\u001b[0m\n\u001b[1;32m     49\u001b[0m \u001b[38;5;28;01mwhile\u001b[39;00m chunk_size \u001b[38;5;241m==\u001b[39m \u001b[38;5;241m0\u001b[39m:\n\u001b[1;32m     50\u001b[0m     \u001b[38;5;66;03m# Determine the chunk size and skip noop\u001b[39;00m\n\u001b[0;32m---> 51\u001b[0m     \u001b[43mreceive_into_buffer\u001b[49m\u001b[43m(\u001b[49m\u001b[38;5;28;43mself\u001b[39;49m\u001b[38;5;241;43m.\u001b[39;49m\u001b[43m_socket\u001b[49m\u001b[43m,\u001b[49m\u001b[43m \u001b[49m\u001b[38;5;28;43mself\u001b[39;49m\u001b[38;5;241;43m.\u001b[39;49m\u001b[43m_buffer\u001b[49m\u001b[43m,\u001b[49m\u001b[43m \u001b[49m\u001b[38;5;241;43m2\u001b[39;49m\u001b[43m)\u001b[49m\n\u001b[1;32m     52\u001b[0m     chunk_size \u001b[38;5;241m=\u001b[39m \u001b[38;5;28mself\u001b[39m\u001b[38;5;241m.\u001b[39m_buffer\u001b[38;5;241m.\u001b[39mpop_u16()\n",
      "File \u001b[0;32m~/miniforge3/envs/recsys/lib/python3.11/site-packages/neo4j/_sync/io/_common.py:326\u001b[0m, in \u001b[0;36mreceive_into_buffer\u001b[0;34m(sock, buffer, n_bytes)\u001b[0m\n\u001b[1;32m    325\u001b[0m \u001b[38;5;28;01mwhile\u001b[39;00m buffer\u001b[38;5;241m.\u001b[39mused \u001b[38;5;241m<\u001b[39m end:\n\u001b[0;32m--> 326\u001b[0m     n \u001b[38;5;241m=\u001b[39m \u001b[43msock\u001b[49m\u001b[38;5;241;43m.\u001b[39;49m\u001b[43mrecv_into\u001b[49m\u001b[43m(\u001b[49m\u001b[43mview\u001b[49m\u001b[43m[\u001b[49m\u001b[43mbuffer\u001b[49m\u001b[38;5;241;43m.\u001b[39;49m\u001b[43mused\u001b[49m\u001b[43m:\u001b[49m\u001b[43mend\u001b[49m\u001b[43m]\u001b[49m\u001b[43m,\u001b[49m\u001b[43m \u001b[49m\u001b[43mend\u001b[49m\u001b[43m \u001b[49m\u001b[38;5;241;43m-\u001b[39;49m\u001b[43m \u001b[49m\u001b[43mbuffer\u001b[49m\u001b[38;5;241;43m.\u001b[39;49m\u001b[43mused\u001b[49m\u001b[43m)\u001b[49m\n\u001b[1;32m    327\u001b[0m     \u001b[38;5;28;01mif\u001b[39;00m n \u001b[38;5;241m==\u001b[39m \u001b[38;5;241m0\u001b[39m:\n",
      "File \u001b[0;32m~/miniforge3/envs/recsys/lib/python3.11/site-packages/neo4j/_async_compat/network/_bolt_socket.py:493\u001b[0m, in \u001b[0;36mBoltSocket.recv_into\u001b[0;34m(self, buffer, nbytes)\u001b[0m\n\u001b[1;32m    492\u001b[0m \u001b[38;5;28;01mdef\u001b[39;00m \u001b[38;5;21mrecv_into\u001b[39m(\u001b[38;5;28mself\u001b[39m, buffer, nbytes):\n\u001b[0;32m--> 493\u001b[0m     \u001b[38;5;28;01mreturn\u001b[39;00m \u001b[38;5;28;43mself\u001b[39;49m\u001b[38;5;241;43m.\u001b[39;49m\u001b[43m_wait_for_io\u001b[49m\u001b[43m(\u001b[49m\u001b[38;5;28;43mself\u001b[39;49m\u001b[38;5;241;43m.\u001b[39;49m\u001b[43m_socket\u001b[49m\u001b[38;5;241;43m.\u001b[39;49m\u001b[43mrecv_into\u001b[49m\u001b[43m,\u001b[49m\u001b[43m \u001b[49m\u001b[43mbuffer\u001b[49m\u001b[43m,\u001b[49m\u001b[43m \u001b[49m\u001b[43mnbytes\u001b[49m\u001b[43m)\u001b[49m\n",
      "File \u001b[0;32m~/miniforge3/envs/recsys/lib/python3.11/site-packages/neo4j/_async_compat/network/_bolt_socket.py:468\u001b[0m, in \u001b[0;36mBoltSocket._wait_for_io\u001b[0;34m(self, func, *args, **kwargs)\u001b[0m\n\u001b[1;32m    467\u001b[0m \u001b[38;5;28;01mif\u001b[39;00m \u001b[38;5;28mself\u001b[39m\u001b[38;5;241m.\u001b[39m_deadline \u001b[38;5;129;01mis\u001b[39;00m \u001b[38;5;28;01mNone\u001b[39;00m:\n\u001b[0;32m--> 468\u001b[0m     \u001b[38;5;28;01mreturn\u001b[39;00m \u001b[43mfunc\u001b[49m\u001b[43m(\u001b[49m\u001b[38;5;241;43m*\u001b[39;49m\u001b[43margs\u001b[49m\u001b[43m,\u001b[49m\u001b[43m \u001b[49m\u001b[38;5;241;43m*\u001b[39;49m\u001b[38;5;241;43m*\u001b[39;49m\u001b[43mkwargs\u001b[49m\u001b[43m)\u001b[49m\n\u001b[1;32m    469\u001b[0m timeout \u001b[38;5;241m=\u001b[39m \u001b[38;5;28mself\u001b[39m\u001b[38;5;241m.\u001b[39m_socket\u001b[38;5;241m.\u001b[39mgettimeout()\n",
      "\u001b[0;31mTimeoutError\u001b[0m: timed out",
      "\nThe above exception was the direct cause of the following exception:\n",
      "\u001b[0;31mSessionExpired\u001b[0m                            Traceback (most recent call last)",
      "Cell \u001b[0;32mIn[1], line 18\u001b[0m\n\u001b[1;32m     15\u001b[0m driver \u001b[38;5;241m=\u001b[39m GraphDatabase\u001b[38;5;241m.\u001b[39mdriver(URI, auth\u001b[38;5;241m=\u001b[39m(USER, PASSW), database\u001b[38;5;241m=\u001b[39mdatabase)\n\u001b[1;32m     17\u001b[0m \u001b[38;5;28mprint\u001b[39m(driver\u001b[38;5;241m.\u001b[39mverify_connectivity())\n\u001b[0;32m---> 18\u001b[0m \u001b[43madd_constraint\u001b[49m\u001b[43m(\u001b[49m\u001b[43mdriver\u001b[49m\u001b[43m,\u001b[49m\u001b[43m \u001b[49m\u001b[38;5;124;43m'\u001b[39;49m\u001b[38;5;124;43mArticle\u001b[39;49m\u001b[38;5;124;43m'\u001b[39;49m\u001b[43m,\u001b[49m\u001b[43m \u001b[49m\u001b[38;5;124;43m'\u001b[39;49m\u001b[38;5;124;43mid\u001b[39;49m\u001b[38;5;124;43m'\u001b[39;49m\u001b[43m)\u001b[49m\n\u001b[1;32m     19\u001b[0m add_constraint(driver, \u001b[38;5;124m'\u001b[39m\u001b[38;5;124mUser\u001b[39m\u001b[38;5;124m'\u001b[39m, \u001b[38;5;124m'\u001b[39m\u001b[38;5;124mid\u001b[39m\u001b[38;5;124m'\u001b[39m)\n\u001b[1;32m     20\u001b[0m add_constraint(driver, \u001b[38;5;124m'\u001b[39m\u001b[38;5;124mTopic\u001b[39m\u001b[38;5;124m'\u001b[39m, \u001b[38;5;124m'\u001b[39m\u001b[38;5;124mid\u001b[39m\u001b[38;5;124m'\u001b[39m)\n",
      "File \u001b[0;32m~/Desktop/Projects/RecSysChallenge2024/src/polimi/utils/_graph.py:17\u001b[0m, in \u001b[0;36madd_constraint\u001b[0;34m(driver, label, key, debug)\u001b[0m\n\u001b[1;32m     15\u001b[0m \u001b[38;5;28;01mdef\u001b[39;00m \u001b[38;5;21madd_constraint\u001b[39m(driver:Driver, label:\u001b[38;5;28mstr\u001b[39m, key:\u001b[38;5;28mstr\u001b[39m, debug\u001b[38;5;241m=\u001b[39m\u001b[38;5;28;01mTrue\u001b[39;00m):\n\u001b[1;32m     16\u001b[0m     query \u001b[38;5;241m=\u001b[39m \u001b[38;5;124mf\u001b[39m\u001b[38;5;124m\"\u001b[39m\u001b[38;5;124mCREATE CONSTRAINT \u001b[39m\u001b[38;5;132;01m{\u001b[39;00mlabel\u001b[38;5;132;01m}\u001b[39;00m\u001b[38;5;124m_id IF NOT EXISTS FOR (n:\u001b[39m\u001b[38;5;132;01m{\u001b[39;00mlabel\u001b[38;5;132;01m}\u001b[39;00m\u001b[38;5;124m) REQUIRE n.\u001b[39m\u001b[38;5;132;01m{\u001b[39;00mkey\u001b[38;5;132;01m}\u001b[39;00m\u001b[38;5;124m IS UNIQUE\u001b[39m\u001b[38;5;124m\"\u001b[39m\n\u001b[0;32m---> 17\u001b[0m     \u001b[38;5;28;01mreturn\u001b[39;00m \u001b[43mexecute_query\u001b[49m\u001b[43m(\u001b[49m\u001b[43mdriver\u001b[49m\u001b[43m,\u001b[49m\u001b[43m \u001b[49m\u001b[43mquery\u001b[49m\u001b[43m,\u001b[49m\u001b[43m \u001b[49m\u001b[43mdebug\u001b[49m\u001b[38;5;241;43m=\u001b[39;49m\u001b[43mdebug\u001b[49m\u001b[43m)\u001b[49m\n",
      "File \u001b[0;32m~/Desktop/Projects/RecSysChallenge2024/src/polimi/utils/_graph.py:6\u001b[0m, in \u001b[0;36mexecute_query\u001b[0;34m(driver, query, database, debug)\u001b[0m\n\u001b[1;32m      4\u001b[0m \u001b[38;5;28;01mdef\u001b[39;00m \u001b[38;5;21mexecute_query\u001b[39m(driver:Driver, query:\u001b[38;5;28mstr\u001b[39m, database\u001b[38;5;241m=\u001b[39m\u001b[38;5;124m'\u001b[39m\u001b[38;5;124mnewsdb-small\u001b[39m\u001b[38;5;124m'\u001b[39m, debug\u001b[38;5;241m=\u001b[39m\u001b[38;5;28;01mTrue\u001b[39;00m):\n\u001b[1;32m      5\u001b[0m     \u001b[38;5;28;01mwith\u001b[39;00m driver\u001b[38;5;241m.\u001b[39msession() \u001b[38;5;28;01mas\u001b[39;00m session:\n\u001b[0;32m----> 6\u001b[0m         res \u001b[38;5;241m=\u001b[39m \u001b[43msession\u001b[49m\u001b[38;5;241;43m.\u001b[39;49m\u001b[43mrun\u001b[49m\u001b[43m(\u001b[49m\u001b[43mquery\u001b[49m\u001b[43m,\u001b[49m\u001b[43m \u001b[49m\u001b[43mdatabase\u001b[49m\u001b[38;5;241;43m=\u001b[39;49m\u001b[43mdatabase\u001b[49m\u001b[43m)\u001b[49m\u001b[38;5;241;43m.\u001b[39;49m\u001b[43mconsume\u001b[49m\u001b[43m(\u001b[49m\u001b[43m)\u001b[49m\n\u001b[1;32m      7\u001b[0m     \u001b[38;5;28;01mif\u001b[39;00m debug:\n\u001b[1;32m      8\u001b[0m         \u001b[38;5;28mprint\u001b[39m(res\u001b[38;5;241m.\u001b[39mcounters)\n",
      "File \u001b[0;32m~/miniforge3/envs/recsys/lib/python3.11/site-packages/neo4j/_sync/work/result.py:529\u001b[0m, in \u001b[0;36mResult.consume\u001b[0;34m(self)\u001b[0m\n\u001b[1;32m    526\u001b[0m \u001b[38;5;28;01mif\u001b[39;00m \u001b[38;5;28mself\u001b[39m\u001b[38;5;241m.\u001b[39m_consumed:\n\u001b[1;32m    527\u001b[0m     \u001b[38;5;28;01mreturn\u001b[39;00m \u001b[38;5;28mself\u001b[39m\u001b[38;5;241m.\u001b[39m_obtain_summary()\n\u001b[0;32m--> 529\u001b[0m \u001b[38;5;28;43mself\u001b[39;49m\u001b[38;5;241;43m.\u001b[39;49m\u001b[43m_exhaust\u001b[49m\u001b[43m(\u001b[49m\u001b[43m)\u001b[49m\n\u001b[1;32m    530\u001b[0m summary \u001b[38;5;241m=\u001b[39m \u001b[38;5;28mself\u001b[39m\u001b[38;5;241m.\u001b[39m_obtain_summary()\n\u001b[1;32m    531\u001b[0m \u001b[38;5;28mself\u001b[39m\u001b[38;5;241m.\u001b[39m_consumed \u001b[38;5;241m=\u001b[39m \u001b[38;5;28;01mTrue\u001b[39;00m\n",
      "File \u001b[0;32m~/miniforge3/envs/recsys/lib/python3.11/site-packages/neo4j/_sync/work/result.py:460\u001b[0m, in \u001b[0;36mResult._exhaust\u001b[0;34m(self)\u001b[0m\n\u001b[1;32m    458\u001b[0m \u001b[38;5;28mself\u001b[39m\u001b[38;5;241m.\u001b[39m_discarding \u001b[38;5;241m=\u001b[39m \u001b[38;5;28;01mTrue\u001b[39;00m\n\u001b[1;32m    459\u001b[0m \u001b[38;5;28mself\u001b[39m\u001b[38;5;241m.\u001b[39m_record_buffer\u001b[38;5;241m.\u001b[39mclear()\n\u001b[0;32m--> 460\u001b[0m \u001b[43m\u001b[49m\u001b[38;5;28;43;01mfor\u001b[39;49;00m\u001b[43m \u001b[49m\u001b[43m_\u001b[49m\u001b[43m \u001b[49m\u001b[38;5;129;43;01min\u001b[39;49;00m\u001b[43m \u001b[49m\u001b[38;5;28;43mself\u001b[39;49m\u001b[43m:\u001b[49m\n\u001b[1;32m    461\u001b[0m \u001b[43m    \u001b[49m\u001b[38;5;28;43;01mpass\u001b[39;49;00m\n",
      "File \u001b[0;32m~/miniforge3/envs/recsys/lib/python3.11/site-packages/neo4j/_sync/work/result.py:374\u001b[0m, in \u001b[0;36mResult.__iter__\u001b[0;34m(self)\u001b[0m\n\u001b[1;32m    372\u001b[0m     \u001b[38;5;28;01myield\u001b[39;00m \u001b[38;5;28mself\u001b[39m\u001b[38;5;241m.\u001b[39m_record_buffer\u001b[38;5;241m.\u001b[39mpopleft()\n\u001b[1;32m    373\u001b[0m \u001b[38;5;28;01melif\u001b[39;00m \u001b[38;5;28mself\u001b[39m\u001b[38;5;241m.\u001b[39m_streaming:\n\u001b[0;32m--> 374\u001b[0m     \u001b[38;5;28;43mself\u001b[39;49m\u001b[38;5;241;43m.\u001b[39;49m\u001b[43m_connection\u001b[49m\u001b[38;5;241;43m.\u001b[39;49m\u001b[43mfetch_message\u001b[49m\u001b[43m(\u001b[49m\u001b[43m)\u001b[49m\n\u001b[1;32m    375\u001b[0m \u001b[38;5;28;01melif\u001b[39;00m \u001b[38;5;28mself\u001b[39m\u001b[38;5;241m.\u001b[39m_discarding:\n\u001b[1;32m    376\u001b[0m     \u001b[38;5;28mself\u001b[39m\u001b[38;5;241m.\u001b[39m_discard()\n",
      "File \u001b[0;32m~/miniforge3/envs/recsys/lib/python3.11/site-packages/neo4j/_sync/io/_common.py:178\u001b[0m, in \u001b[0;36mConnectionErrorHandler.__getattr__.<locals>.outer.<locals>.inner\u001b[0;34m(*args, **kwargs)\u001b[0m\n\u001b[1;32m    176\u001b[0m \u001b[38;5;28;01mdef\u001b[39;00m \u001b[38;5;21minner\u001b[39m(\u001b[38;5;241m*\u001b[39margs, \u001b[38;5;241m*\u001b[39m\u001b[38;5;241m*\u001b[39mkwargs):\n\u001b[1;32m    177\u001b[0m     \u001b[38;5;28;01mtry\u001b[39;00m:\n\u001b[0;32m--> 178\u001b[0m         \u001b[43mfunc\u001b[49m\u001b[43m(\u001b[49m\u001b[38;5;241;43m*\u001b[39;49m\u001b[43margs\u001b[49m\u001b[43m,\u001b[49m\u001b[43m \u001b[49m\u001b[38;5;241;43m*\u001b[39;49m\u001b[38;5;241;43m*\u001b[39;49m\u001b[43mkwargs\u001b[49m\u001b[43m)\u001b[49m\n\u001b[1;32m    179\u001b[0m     \u001b[38;5;28;01mexcept\u001b[39;00m (Neo4jError, ServiceUnavailable, SessionExpired) \u001b[38;5;28;01mas\u001b[39;00m exc:\n\u001b[1;32m    180\u001b[0m         \u001b[38;5;28;01massert\u001b[39;00m \u001b[38;5;129;01mnot\u001b[39;00m asyncio\u001b[38;5;241m.\u001b[39miscoroutinefunction(\u001b[38;5;28mself\u001b[39m\u001b[38;5;241m.\u001b[39m__on_error)\n",
      "File \u001b[0;32m~/miniforge3/envs/recsys/lib/python3.11/site-packages/neo4j/_sync/io/_bolt.py:847\u001b[0m, in \u001b[0;36mBolt.fetch_message\u001b[0;34m(self)\u001b[0m\n\u001b[1;32m    844\u001b[0m     \u001b[38;5;28;01mreturn\u001b[39;00m \u001b[38;5;241m0\u001b[39m, \u001b[38;5;241m0\u001b[39m\n\u001b[1;32m    846\u001b[0m \u001b[38;5;66;03m# Receive exactly one message\u001b[39;00m\n\u001b[0;32m--> 847\u001b[0m tag, fields \u001b[38;5;241m=\u001b[39m \u001b[38;5;28;43mself\u001b[39;49m\u001b[38;5;241;43m.\u001b[39;49m\u001b[43minbox\u001b[49m\u001b[38;5;241;43m.\u001b[39;49m\u001b[43mpop\u001b[49m\u001b[43m(\u001b[49m\n\u001b[1;32m    848\u001b[0m \u001b[43m    \u001b[49m\u001b[43mhydration_hooks\u001b[49m\u001b[38;5;241;43m=\u001b[39;49m\u001b[38;5;28;43mself\u001b[39;49m\u001b[38;5;241;43m.\u001b[39;49m\u001b[43mresponses\u001b[49m\u001b[43m[\u001b[49m\u001b[38;5;241;43m0\u001b[39;49m\u001b[43m]\u001b[49m\u001b[38;5;241;43m.\u001b[39;49m\u001b[43mhydration_hooks\u001b[49m\n\u001b[1;32m    849\u001b[0m \u001b[43m\u001b[49m\u001b[43m)\u001b[49m\n\u001b[1;32m    850\u001b[0m res \u001b[38;5;241m=\u001b[39m \u001b[38;5;28mself\u001b[39m\u001b[38;5;241m.\u001b[39m_process_message(tag, fields)\n\u001b[1;32m    851\u001b[0m \u001b[38;5;28mself\u001b[39m\u001b[38;5;241m.\u001b[39midle_since \u001b[38;5;241m=\u001b[39m monotonic()\n",
      "File \u001b[0;32m~/miniforge3/envs/recsys/lib/python3.11/site-packages/neo4j/_sync/io/_common.py:72\u001b[0m, in \u001b[0;36mInbox.pop\u001b[0;34m(self, hydration_hooks)\u001b[0m\n\u001b[1;32m     71\u001b[0m \u001b[38;5;28;01mdef\u001b[39;00m \u001b[38;5;21mpop\u001b[39m(\u001b[38;5;28mself\u001b[39m, hydration_hooks):\n\u001b[0;32m---> 72\u001b[0m     \u001b[38;5;28;43mself\u001b[39;49m\u001b[38;5;241;43m.\u001b[39;49m\u001b[43m_buffer_one_chunk\u001b[49m\u001b[43m(\u001b[49m\u001b[43m)\u001b[49m\n\u001b[1;32m     73\u001b[0m     \u001b[38;5;28;01mtry\u001b[39;00m:\n\u001b[1;32m     74\u001b[0m         size, tag \u001b[38;5;241m=\u001b[39m \u001b[38;5;28mself\u001b[39m\u001b[38;5;241m.\u001b[39m_unpacker\u001b[38;5;241m.\u001b[39munpack_structure_header()\n",
      "File \u001b[0;32m~/miniforge3/envs/recsys/lib/python3.11/site-packages/neo4j/_sync/io/_common.py:68\u001b[0m, in \u001b[0;36mInbox._buffer_one_chunk\u001b[0;34m(self)\u001b[0m\n\u001b[1;32m     64\u001b[0m \u001b[38;5;28;01mexcept\u001b[39;00m (\n\u001b[1;32m     65\u001b[0m     \u001b[38;5;167;01mOSError\u001b[39;00m, SocketDeadlineExceeded, asyncio\u001b[38;5;241m.\u001b[39mCancelledError\n\u001b[1;32m     66\u001b[0m ) \u001b[38;5;28;01mas\u001b[39;00m error:\n\u001b[1;32m     67\u001b[0m     \u001b[38;5;28mself\u001b[39m\u001b[38;5;241m.\u001b[39m_broken \u001b[38;5;241m=\u001b[39m \u001b[38;5;28;01mTrue\u001b[39;00m\n\u001b[0;32m---> 68\u001b[0m     \u001b[43mUtil\u001b[49m\u001b[38;5;241;43m.\u001b[39;49m\u001b[43mcallback\u001b[49m\u001b[43m(\u001b[49m\u001b[38;5;28;43mself\u001b[39;49m\u001b[38;5;241;43m.\u001b[39;49m\u001b[43mon_error\u001b[49m\u001b[43m,\u001b[49m\u001b[43m \u001b[49m\u001b[43merror\u001b[49m\u001b[43m)\u001b[49m\n\u001b[1;32m     69\u001b[0m     \u001b[38;5;28;01mraise\u001b[39;00m\n",
      "File \u001b[0;32m~/miniforge3/envs/recsys/lib/python3.11/site-packages/neo4j/_async_compat/util.py:118\u001b[0m, in \u001b[0;36mUtil.callback\u001b[0;34m(cb, *args, **kwargs)\u001b[0m\n\u001b[1;32m    115\u001b[0m \u001b[38;5;129m@staticmethod\u001b[39m\n\u001b[1;32m    116\u001b[0m \u001b[38;5;28;01mdef\u001b[39;00m \u001b[38;5;21mcallback\u001b[39m(cb, \u001b[38;5;241m*\u001b[39margs, \u001b[38;5;241m*\u001b[39m\u001b[38;5;241m*\u001b[39mkwargs):\n\u001b[1;32m    117\u001b[0m     \u001b[38;5;28;01mif\u001b[39;00m \u001b[38;5;28mcallable\u001b[39m(cb):\n\u001b[0;32m--> 118\u001b[0m         \u001b[38;5;28;01mreturn\u001b[39;00m \u001b[43mcb\u001b[49m\u001b[43m(\u001b[49m\u001b[38;5;241;43m*\u001b[39;49m\u001b[43margs\u001b[49m\u001b[43m,\u001b[49m\u001b[43m \u001b[49m\u001b[38;5;241;43m*\u001b[39;49m\u001b[38;5;241;43m*\u001b[39;49m\u001b[43mkwargs\u001b[49m\u001b[43m)\u001b[49m\n",
      "File \u001b[0;32m~/miniforge3/envs/recsys/lib/python3.11/site-packages/neo4j/_sync/io/_bolt.py:873\u001b[0m, in \u001b[0;36mBolt._set_defunct_read\u001b[0;34m(self, error, silent)\u001b[0m\n\u001b[1;32m    869\u001b[0m \u001b[38;5;28;01mdef\u001b[39;00m \u001b[38;5;21m_set_defunct_read\u001b[39m(\u001b[38;5;28mself\u001b[39m, error\u001b[38;5;241m=\u001b[39m\u001b[38;5;28;01mNone\u001b[39;00m, silent\u001b[38;5;241m=\u001b[39m\u001b[38;5;28;01mFalse\u001b[39;00m):\n\u001b[1;32m    870\u001b[0m     message \u001b[38;5;241m=\u001b[39m \u001b[38;5;124m\"\u001b[39m\u001b[38;5;124mFailed to read from defunct connection \u001b[39m\u001b[38;5;132;01m{!r}\u001b[39;00m\u001b[38;5;124m (\u001b[39m\u001b[38;5;132;01m{!r}\u001b[39;00m\u001b[38;5;124m)\u001b[39m\u001b[38;5;124m\"\u001b[39m\u001b[38;5;241m.\u001b[39mformat(\n\u001b[1;32m    871\u001b[0m         \u001b[38;5;28mself\u001b[39m\u001b[38;5;241m.\u001b[39munresolved_address, \u001b[38;5;28mself\u001b[39m\u001b[38;5;241m.\u001b[39mserver_info\u001b[38;5;241m.\u001b[39maddress\n\u001b[1;32m    872\u001b[0m     )\n\u001b[0;32m--> 873\u001b[0m     \u001b[38;5;28;43mself\u001b[39;49m\u001b[38;5;241;43m.\u001b[39;49m\u001b[43m_set_defunct\u001b[49m\u001b[43m(\u001b[49m\u001b[43mmessage\u001b[49m\u001b[43m,\u001b[49m\u001b[43m \u001b[49m\u001b[43merror\u001b[49m\u001b[38;5;241;43m=\u001b[39;49m\u001b[43merror\u001b[49m\u001b[43m,\u001b[49m\u001b[43m \u001b[49m\u001b[43msilent\u001b[49m\u001b[38;5;241;43m=\u001b[39;49m\u001b[43msilent\u001b[49m\u001b[43m)\u001b[49m\n",
      "File \u001b[0;32m~/miniforge3/envs/recsys/lib/python3.11/site-packages/neo4j/_sync/io/_bolt.py:925\u001b[0m, in \u001b[0;36mBolt._set_defunct\u001b[0;34m(self, message, error, silent)\u001b[0m\n\u001b[1;32m    923\u001b[0m \u001b[38;5;28;01melse\u001b[39;00m:\n\u001b[1;32m    924\u001b[0m     \u001b[38;5;28;01mif\u001b[39;00m error:\n\u001b[0;32m--> 925\u001b[0m         \u001b[38;5;28;01mraise\u001b[39;00m SessionExpired(message) \u001b[38;5;28;01mfrom\u001b[39;00m \u001b[38;5;21;01merror\u001b[39;00m\n\u001b[1;32m    926\u001b[0m     \u001b[38;5;28;01melse\u001b[39;00m:\n\u001b[1;32m    927\u001b[0m         \u001b[38;5;28;01mraise\u001b[39;00m SessionExpired(message)\n",
      "\u001b[0;31mSessionExpired\u001b[0m: Failed to read from defunct connection IPv4Address(('ec2-34-240-14-242.eu-west-1.compute.amazonaws.com', 7687)) (ResolvedIPv4Address(('34.240.14.242', 7687)))"
     ]
    }
   ],
   "source": [
    "from neo4j import GraphDatabase\n",
    "from polimi.utils._graph import add_constraint, execute_query\n",
    "from dotenv import load_dotenv\n",
    "import os\n",
    "\n",
    "load_dotenv()\n",
    "# Retrieve Neo4j connection details\n",
    "URI = 'neo4j://ec2-34-240-14-242.eu-west-1.compute.amazonaws.com:7687'\n",
    "USER = 'neo4j'\n",
    "PASSW = 'password'\n",
    "\n",
    "database = 'newsdb-small'\n",
    "\n",
    "# Establish connection\n",
    "driver = GraphDatabase.driver(URI, auth=(USER, PASSW), database=database)\n",
    "\n",
    "print(driver.verify_connectivity())\n",
    "add_constraint(driver, 'Article', 'id')\n",
    "add_constraint(driver, 'User', 'id')\n",
    "add_constraint(driver, 'Topic', 'id')\n",
    "add_constraint(driver, 'Category', 'id')\n",
    "add_constraint(driver, 'Entity', 'id')\n",
    "\n",
    "\n",
    "driver.close()"
   ]
  },
  {
   "cell_type": "code",
   "execution_count": 37,
   "metadata": {},
   "outputs": [
    {
     "name": "stderr",
     "output_type": "stream",
     "text": [
      "/var/folders/_k/m_1_nsps4bx58z5_3tf9v_kc0000gn/T/ipykernel_76159/3004321709.py:2: DeprecationWarning: Using a driver after it has been closed is deprecated. Future versions of the driver will raise an error.\n",
      "  with driver.session() as session:\n"
     ]
    },
    {
     "name": "stdout",
     "output_type": "stream",
     "text": [
      "Databases: ['neo4j', 'newsdb-small', 'system']\n"
     ]
    }
   ],
   "source": [
    "def list_databases(driver):\n",
    "    with driver.session() as session:\n",
    "        result = session.run(\"SHOW DATABASES\")\n",
    "        databases = [record[\"name\"] for record in result]\n",
    "        return databases\n",
    "\n",
    "databases = list_databases(driver)\n",
    "print(\"Databases:\", databases)"
   ]
  },
  {
   "cell_type": "code",
   "execution_count": 87,
   "metadata": {},
   "outputs": [
    {
     "name": "stdout",
     "output_type": "stream",
     "text": [
      "{}\n"
     ]
    },
    {
     "data": {
      "text/plain": [
       "{}"
      ]
     },
     "execution_count": 87,
     "metadata": {},
     "output_type": "execute_result"
    }
   ],
   "source": [
    "query  = \"\"\"\n",
    "CALL gds.fastRP.stream('myGraph',\n",
    "  {\n",
    "    embeddingDimension: 10,\n",
    "    randomSeed: 42\n",
    "  }\n",
    ")\n",
    "YIELD nodeId, embedding\n",
    "\"\"\"\n",
    "\n",
    "\n",
    "execute_query(driver, query, debug=True)"
   ]
  },
  {
   "cell_type": "code",
   "execution_count": null,
   "metadata": {},
   "outputs": [],
   "source": [
    "hist"
   ]
  }
 ],
 "metadata": {
  "kernelspec": {
   "display_name": "recsys",
   "language": "python",
   "name": "python3"
  },
  "language_info": {
   "codemirror_mode": {
    "name": "ipython",
    "version": 3
   },
   "file_extension": ".py",
   "mimetype": "text/x-python",
   "name": "python",
   "nbconvert_exporter": "python",
   "pygments_lexer": "ipython3",
   "version": "3.11.0"
  }
 },
 "nbformat": 4,
 "nbformat_minor": 2
}
