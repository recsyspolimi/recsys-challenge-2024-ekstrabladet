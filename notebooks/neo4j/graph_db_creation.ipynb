{
 "cells": [
  {
   "cell_type": "code",
   "execution_count": 62,
   "metadata": {},
   "outputs": [],
   "source": [
    "import polars as pl\n",
    "import numpy as np\n",
    "from pathlib import Path\n",
    "from polimi.utils._custom import load_history, load_articles, load_behaviors"
   ]
  },
  {
   "cell_type": "code",
   "execution_count": 63,
   "metadata": {},
   "outputs": [],
   "source": [
    "base_path = Path('../../dataset')\n",
    "type = 'small'\n",
    "split = 'train'\n",
    "CSV_STORAGE = Path('/Users/lorecampa/Desktop/Projects/RecSysChallenge2024') / 'dataset' / 'graph' / type\n",
    "\n",
    "a = load_articles(base_path, type)\n",
    "h = load_history(base_path, type, split)\n",
    "b = load_behaviors(base_path, type, split)"
   ]
  },
  {
   "cell_type": "markdown",
   "metadata": {},
   "source": [
    "# Fix"
   ]
  },
  {
   "cell_type": "code",
   "execution_count": 64,
   "metadata": {},
   "outputs": [],
   "source": [
    "a = a.with_columns(pl.when(pl.col('category_str') == 'bibliotek').then(2504).otherwise(pl.col('category')).alias('category'))\n",
    "a = a.with_columns(pl.when(pl.col('category') == 68).then(pl.lit(\"video\")).otherwise(pl.col('category_str')).alias('category_str'))\n",
    "\n",
    "#creation homepage node\n",
    "home_page_article_dict = {k: None for k in a.columns}\n",
    "home_page_article_id = 0\n",
    "home_page_article_dict['article_id'] = home_page_article_id\n",
    "home_page_article_dict['title'] = 'homepage'\n",
    "home_page_article_dict['article_type'] = 'homepage'\n",
    "a = a.vstack(pl.DataFrame(home_page_article_dict, schema=a.schema))\n",
    "\n",
    "#link null article id in impression to homepage node\n",
    "b = b.with_columns(pl.col('article_id').fill_null(home_page_article_id))\n"
   ]
  },
  {
   "cell_type": "markdown",
   "metadata": {},
   "source": [
    "## Creation Neo4j CSV"
   ]
  },
  {
   "cell_type": "code",
   "execution_count": 65,
   "metadata": {},
   "outputs": [
    {
     "data": {
      "text/html": [
       "<div><style>\n",
       ".dataframe > thead > tr,\n",
       ".dataframe > tbody > tr {\n",
       "  text-align: right;\n",
       "  white-space: pre-wrap;\n",
       "}\n",
       "</style>\n",
       "<small>shape: (3, 5)</small><table border=\"1\" class=\"dataframe\"><thead><tr><th>id:ID(User)</th><th>gender</th><th>postcode</th><th>age</th><th>:LABEL</th></tr><tr><td>u32</td><td>i8</td><td>i8</td><td>i8</td><td>str</td></tr></thead><tbody><tr><td>10068</td><td>null</td><td>null</td><td>null</td><td>&quot;User&quot;</td></tr><tr><td>10200</td><td>null</td><td>null</td><td>null</td><td>&quot;User&quot;</td></tr><tr><td>10201</td><td>null</td><td>null</td><td>null</td><td>&quot;User&quot;</td></tr></tbody></table></div>"
      ],
      "text/plain": [
       "shape: (3, 5)\n",
       "┌─────────────┬────────┬──────────┬──────┬────────┐\n",
       "│ id:ID(User) ┆ gender ┆ postcode ┆ age  ┆ :LABEL │\n",
       "│ ---         ┆ ---    ┆ ---      ┆ ---  ┆ ---    │\n",
       "│ u32         ┆ i8     ┆ i8       ┆ i8   ┆ str    │\n",
       "╞═════════════╪════════╪══════════╪══════╪════════╡\n",
       "│ 10068       ┆ null   ┆ null     ┆ null ┆ User   │\n",
       "│ 10200       ┆ null   ┆ null     ┆ null ┆ User   │\n",
       "│ 10201       ┆ null   ┆ null     ┆ null ┆ User   │\n",
       "└─────────────┴────────┴──────────┴──────┴────────┘"
      ]
     },
     "execution_count": 65,
     "metadata": {},
     "output_type": "execute_result"
    }
   ],
   "source": [
    "b_tmp = b.select('user_id', 'gender', 'postcode', 'age').group_by('user_id').agg(pl.all().drop_nulls().first())\n",
    "u_data = h.select('user_id').join(b_tmp, on='user_id', how='left').sort('user_id').unique('user_id')\n",
    "u_data = u_data.with_columns(pl.lit('User').alias(':LABEL'))\n",
    "u_data=u_data.rename({'user_id': 'id:ID(User)'})\n",
    "\n",
    "u_data.write_csv(CSV_STORAGE / 'user_data.csv')\n",
    "u_data.head(3)"
   ]
  },
  {
   "cell_type": "code",
   "execution_count": 66,
   "metadata": {},
   "outputs": [
    {
     "data": {
      "text/html": [
       "<div><style>\n",
       ".dataframe > thead > tr,\n",
       ".dataframe > tbody > tr {\n",
       "  text-align: right;\n",
       "  white-space: pre-wrap;\n",
       "}\n",
       "</style>\n",
       "<small>shape: (3, 11)</small><table border=\"1\" class=\"dataframe\"><thead><tr><th>id:ID(Impression)</th><th>impression_time</th><th>read_time</th><th>scroll_percentage</th><th>device_type</th><th>is_sso_user</th><th>is_subscriber</th><th>session_id</th><th>next_read_time</th><th>next_scroll_percentage</th><th>:LABEL</th></tr><tr><td>u32</td><td>datetime[μs]</td><td>f32</td><td>f32</td><td>i8</td><td>bool</td><td>bool</td><td>u32</td><td>f32</td><td>f32</td><td>str</td></tr></thead><tbody><tr><td>149474</td><td>2023-05-24 07:47:53</td><td>13.0</td><td>null</td><td>2</td><td>false</td><td>false</td><td>759</td><td>7.0</td><td>22.0</td><td>&quot;Impression&quot;</td></tr><tr><td>150528</td><td>2023-05-24 07:33:25</td><td>25.0</td><td>null</td><td>2</td><td>false</td><td>false</td><td>1240</td><td>287.0</td><td>100.0</td><td>&quot;Impression&quot;</td></tr><tr><td>153068</td><td>2023-05-24 07:09:04</td><td>78.0</td><td>100.0</td><td>1</td><td>false</td><td>false</td><td>1976</td><td>45.0</td><td>100.0</td><td>&quot;Impression&quot;</td></tr></tbody></table></div>"
      ],
      "text/plain": [
       "shape: (3, 11)\n",
       "┌───────────┬───────────┬───────────┬───────────┬───┬───────────┬───────────┬───────────┬──────────┐\n",
       "│ id:ID(Imp ┆ impressio ┆ read_time ┆ scroll_pe ┆ … ┆ session_i ┆ next_read ┆ next_scro ┆ :LABEL   │\n",
       "│ ression)  ┆ n_time    ┆ ---       ┆ rcentage  ┆   ┆ d         ┆ _time     ┆ ll_percen ┆ ---      │\n",
       "│ ---       ┆ ---       ┆ f32       ┆ ---       ┆   ┆ ---       ┆ ---       ┆ tage      ┆ str      │\n",
       "│ u32       ┆ datetime[ ┆           ┆ f32       ┆   ┆ u32       ┆ f32       ┆ ---       ┆          │\n",
       "│           ┆ μs]       ┆           ┆           ┆   ┆           ┆           ┆ f32       ┆          │\n",
       "╞═══════════╪═══════════╪═══════════╪═══════════╪═══╪═══════════╪═══════════╪═══════════╪══════════╡\n",
       "│ 149474    ┆ 2023-05-2 ┆ 13.0      ┆ null      ┆ … ┆ 759       ┆ 7.0       ┆ 22.0      ┆ Impressi │\n",
       "│           ┆ 4         ┆           ┆           ┆   ┆           ┆           ┆           ┆ on       │\n",
       "│           ┆ 07:47:53  ┆           ┆           ┆   ┆           ┆           ┆           ┆          │\n",
       "│ 150528    ┆ 2023-05-2 ┆ 25.0      ┆ null      ┆ … ┆ 1240      ┆ 287.0     ┆ 100.0     ┆ Impressi │\n",
       "│           ┆ 4         ┆           ┆           ┆   ┆           ┆           ┆           ┆ on       │\n",
       "│           ┆ 07:33:25  ┆           ┆           ┆   ┆           ┆           ┆           ┆          │\n",
       "│ 153068    ┆ 2023-05-2 ┆ 78.0      ┆ 100.0     ┆ … ┆ 1976      ┆ 45.0      ┆ 100.0     ┆ Impressi │\n",
       "│           ┆ 4         ┆           ┆           ┆   ┆           ┆           ┆           ┆ on       │\n",
       "│           ┆ 07:09:04  ┆           ┆           ┆   ┆           ┆           ┆           ┆          │\n",
       "└───────────┴───────────┴───────────┴───────────┴───┴───────────┴───────────┴───────────┴──────────┘"
      ]
     },
     "execution_count": 66,
     "metadata": {},
     "output_type": "execute_result"
    }
   ],
   "source": [
    "i_data = b.drop('article_id', 'article_ids_inview','article_ids_clicked', 'user_id',\n",
    "                'gender', 'postcode', 'age')\\\n",
    "          .sort('impression_id')\n",
    "\n",
    "\n",
    "i_data = i_data.with_columns(pl.lit('Impression').alias(':LABEL'))\n",
    "i_data=i_data.rename({'impression_id': 'id:ID(Impression)'})\n",
    "i_data.write_csv(CSV_STORAGE / 'impression_data.csv', datetime_format='%Y-%m-%dT%H:%M:%S')\n",
    "i_data.head(3)"
   ]
  },
  {
   "cell_type": "code",
   "execution_count": 67,
   "metadata": {},
   "outputs": [
    {
     "data": {
      "text/html": [
       "<div><style>\n",
       ".dataframe > thead > tr,\n",
       ".dataframe > tbody > tr {\n",
       "  text-align: right;\n",
       "  white-space: pre-wrap;\n",
       "}\n",
       "</style>\n",
       "<small>shape: (3, 3)</small><table border=\"1\" class=\"dataframe\"><thead><tr><th>id:ID(Topic)</th><th>name</th><th>:LABEL</th></tr><tr><td>i64</td><td>str</td><td>str</td></tr></thead><tbody><tr><td>0</td><td>&quot;Ansættelsesforhold&quot;</td><td>&quot;Topic&quot;</td></tr><tr><td>1</td><td>&quot;Bandekriminalitet&quot;</td><td>&quot;Topic&quot;</td></tr><tr><td>2</td><td>&quot;Bedrageri&quot;</td><td>&quot;Topic&quot;</td></tr></tbody></table></div>"
      ],
      "text/plain": [
       "shape: (3, 3)\n",
       "┌──────────────┬────────────────────┬────────┐\n",
       "│ id:ID(Topic) ┆ name               ┆ :LABEL │\n",
       "│ ---          ┆ ---                ┆ ---    │\n",
       "│ i64          ┆ str                ┆ str    │\n",
       "╞══════════════╪════════════════════╪════════╡\n",
       "│ 0            ┆ Ansættelsesforhold ┆ Topic  │\n",
       "│ 1            ┆ Bandekriminalitet  ┆ Topic  │\n",
       "│ 2            ┆ Bedrageri          ┆ Topic  │\n",
       "└──────────────┴────────────────────┴────────┘"
      ]
     },
     "execution_count": 67,
     "metadata": {},
     "output_type": "execute_result"
    }
   ],
   "source": [
    "topic = a.select(pl.col('topics').alias('topic')).explode('topic').unique().sort('topic').drop_nulls()\n",
    "topic = topic.insert_column(0, pl.Series(\"topic_id\", np.arange(topic.shape[0])))\n",
    "topic = topic.with_columns(pl.lit('Topic').alias(':LABEL'))\n",
    "topic=topic.rename({'topic': 'name', 'topic_id': 'id:ID(Topic)'})\n",
    "topic.write_csv(CSV_STORAGE / 'topic_data.csv')\n",
    "topic.head(3)"
   ]
  },
  {
   "cell_type": "code",
   "execution_count": 68,
   "metadata": {},
   "outputs": [
    {
     "data": {
      "text/html": [
       "<div><style>\n",
       ".dataframe > thead > tr,\n",
       ".dataframe > tbody > tr {\n",
       "  text-align: right;\n",
       "  white-space: pre-wrap;\n",
       "}\n",
       "</style>\n",
       "<small>shape: (3, 3)</small><table border=\"1\" class=\"dataframe\"><thead><tr><th>id:ID(Entity)</th><th>name</th><th>:LABEL</th></tr><tr><td>i64</td><td>str</td><td>str</td></tr></thead><tbody><tr><td>0</td><td>&quot;EVENT&quot;</td><td>&quot;Entity&quot;</td></tr><tr><td>1</td><td>&quot;LOC&quot;</td><td>&quot;Entity&quot;</td></tr><tr><td>2</td><td>&quot;MISC&quot;</td><td>&quot;Entity&quot;</td></tr></tbody></table></div>"
      ],
      "text/plain": [
       "shape: (3, 3)\n",
       "┌───────────────┬───────┬────────┐\n",
       "│ id:ID(Entity) ┆ name  ┆ :LABEL │\n",
       "│ ---           ┆ ---   ┆ ---    │\n",
       "│ i64           ┆ str   ┆ str    │\n",
       "╞═══════════════╪═══════╪════════╡\n",
       "│ 0             ┆ EVENT ┆ Entity │\n",
       "│ 1             ┆ LOC   ┆ Entity │\n",
       "│ 2             ┆ MISC  ┆ Entity │\n",
       "└───────────────┴───────┴────────┘"
      ]
     },
     "execution_count": 68,
     "metadata": {},
     "output_type": "execute_result"
    }
   ],
   "source": [
    "entity_group = a.select(pl.col('entity_groups').alias('entity_group')).explode('entity_group').unique().sort('entity_group').drop_nulls()\n",
    "entity_group = entity_group.insert_column(0, pl.Series(\"entity_group_id\", np.arange(entity_group.shape[0])))\n",
    "entity_group = entity_group.with_columns(pl.lit('Entity').alias(':LABEL'))\n",
    "entity_group = entity_group.rename({'entity_group': 'name', 'entity_group_id': 'id:ID(Entity)'})\n",
    "entity_group.write_csv(CSV_STORAGE / 'entity_data.csv')\n",
    "entity_group.head(3)"
   ]
  },
  {
   "cell_type": "code",
   "execution_count": 69,
   "metadata": {},
   "outputs": [
    {
     "data": {
      "text/html": [
       "<div><style>\n",
       ".dataframe > thead > tr,\n",
       ".dataframe > tbody > tr {\n",
       "  text-align: right;\n",
       "  white-space: pre-wrap;\n",
       "}\n",
       "</style>\n",
       "<small>shape: (3, 3)</small><table border=\"1\" class=\"dataframe\"><thead><tr><th>id:ID(Category)</th><th>name</th><th>:LABEL</th></tr><tr><td>i16</td><td>str</td><td>str</td></tr></thead><tbody><tr><td>2823</td><td>null</td><td>&quot;Category&quot;</td></tr><tr><td>215</td><td>null</td><td>&quot;Category&quot;</td></tr><tr><td>475</td><td>null</td><td>&quot;Category&quot;</td></tr></tbody></table></div>"
      ],
      "text/plain": [
       "shape: (3, 3)\n",
       "┌─────────────────┬──────┬──────────┐\n",
       "│ id:ID(Category) ┆ name ┆ :LABEL   │\n",
       "│ ---             ┆ ---  ┆ ---      │\n",
       "│ i16             ┆ str  ┆ str      │\n",
       "╞═════════════════╪══════╪══════════╡\n",
       "│ 2823            ┆ null ┆ Category │\n",
       "│ 215             ┆ null ┆ Category │\n",
       "│ 475             ┆ null ┆ Category │\n",
       "└─────────────────┴──────┴──────────┘"
      ]
     },
     "execution_count": 69,
     "metadata": {},
     "output_type": "execute_result"
    }
   ],
   "source": [
    "cats = a.select(pl.col('category').alias('category_id'), pl.col('category_str').alias('name')).unique().drop_nulls()\n",
    "ids_cats = cats.select('category_id').to_numpy().reshape(-1)\n",
    "sub_cats = a.select(pl.col('subcategory').alias('category_id')).explode('category_id').unique().drop_nulls()\n",
    "sub_cats = sub_cats.filter(~pl.col('category_id').is_in(cats.select('category_id'))).with_columns(pl.lit(None).alias('name'))\n",
    "category = cats.vstack(sub_cats).sort('category_id')\n",
    "category = category.with_columns(pl.lit('Category').alias(':LABEL')).sort('category_id').unique()\n",
    "category=category.rename({'category_id': 'id:ID(Category)'})\n",
    "category.write_csv(CSV_STORAGE / 'category_data.csv')\n",
    "category.head(3)"
   ]
  },
  {
   "cell_type": "code",
   "execution_count": 70,
   "metadata": {},
   "outputs": [
    {
     "data": {
      "text/html": [
       "<div><style>\n",
       ".dataframe > thead > tr,\n",
       ".dataframe > tbody > tr {\n",
       "  text-align: right;\n",
       "  white-space: pre-wrap;\n",
       "}\n",
       "</style>\n",
       "<small>shape: (3, 4)</small><table border=\"1\" class=\"dataframe\"><thead><tr><th>:START_ID(Article)</th><th>is_sub</th><th>:END_ID(Category)</th><th>:TYPE</th></tr><tr><td>i32</td><td>bool</td><td>i16</td><td>str</td></tr></thead><tbody><tr><td>4056847</td><td>false</td><td>118</td><td>&quot;IS_IN&quot;</td></tr><tr><td>9440588</td><td>false</td><td>457</td><td>&quot;IS_IN&quot;</td></tr><tr><td>9731056</td><td>false</td><td>118</td><td>&quot;IS_IN&quot;</td></tr></tbody></table></div>"
      ],
      "text/plain": [
       "shape: (3, 4)\n",
       "┌────────────────────┬────────┬───────────────────┬───────┐\n",
       "│ :START_ID(Article) ┆ is_sub ┆ :END_ID(Category) ┆ :TYPE │\n",
       "│ ---                ┆ ---    ┆ ---               ┆ ---   │\n",
       "│ i32                ┆ bool   ┆ i16               ┆ str   │\n",
       "╞════════════════════╪════════╪═══════════════════╪═══════╡\n",
       "│ 4056847            ┆ false  ┆ 118               ┆ IS_IN │\n",
       "│ 9440588            ┆ false  ┆ 457               ┆ IS_IN │\n",
       "│ 9731056            ┆ false  ┆ 118               ┆ IS_IN │\n",
       "└────────────────────┴────────┴───────────────────┴───────┘"
      ]
     },
     "execution_count": 70,
     "metadata": {},
     "output_type": "execute_result"
    }
   ],
   "source": [
    "a_to_category = a.select('article_id', pl.lit(False).alias('is_sub'), pl.col('category').alias('category_id')).unique().drop_nulls()\n",
    "a_to_sub_category = a.select('article_id', pl.lit(True).alias('is_sub'), pl.col('subcategory').alias('category_id')).explode('category_id').unique().drop_nulls()\n",
    "\n",
    "a_to_category = a_to_category.vstack(a_to_sub_category).rename({'article_id': ':START_ID(Article)', 'category_id': ':END_ID(Category)'})\\\n",
    "    .with_columns(pl.lit('IS_IN').alias(':TYPE'))\n",
    "a_to_category.write_csv(CSV_STORAGE / 'article_to_category.csv')\n",
    "a_to_category.head(3)"
   ]
  },
  {
   "cell_type": "code",
   "execution_count": 71,
   "metadata": {},
   "outputs": [
    {
     "data": {
      "text/html": [
       "<div><style>\n",
       ".dataframe > thead > tr,\n",
       ".dataframe > tbody > tr {\n",
       "  text-align: right;\n",
       "  white-space: pre-wrap;\n",
       "}\n",
       "</style>\n",
       "<small>shape: (3, 3)</small><table border=\"1\" class=\"dataframe\"><thead><tr><th>:START_ID(Article)</th><th>:END_ID(Topic)</th><th>:TYPE</th></tr><tr><td>i32</td><td>i64</td><td>str</td></tr></thead><tbody><tr><td>4071937</td><td>69</td><td>&quot;IS_IN&quot;</td></tr><tr><td>9203901</td><td>32</td><td>&quot;IS_IN&quot;</td></tr><tr><td>9705645</td><td>75</td><td>&quot;IS_IN&quot;</td></tr></tbody></table></div>"
      ],
      "text/plain": [
       "shape: (3, 3)\n",
       "┌────────────────────┬────────────────┬───────┐\n",
       "│ :START_ID(Article) ┆ :END_ID(Topic) ┆ :TYPE │\n",
       "│ ---                ┆ ---            ┆ ---   │\n",
       "│ i32                ┆ i64            ┆ str   │\n",
       "╞════════════════════╪════════════════╪═══════╡\n",
       "│ 4071937            ┆ 69             ┆ IS_IN │\n",
       "│ 9203901            ┆ 32             ┆ IS_IN │\n",
       "│ 9705645            ┆ 75             ┆ IS_IN │\n",
       "└────────────────────┴────────────────┴───────┘"
      ]
     },
     "execution_count": 71,
     "metadata": {},
     "output_type": "execute_result"
    }
   ],
   "source": [
    "a_to_topic = a.select('article_id', pl.col('topics').alias('name')).explode('name').sort('article_id').unique().drop_nulls()\n",
    "a_to_topic = a_to_topic.join(topic, on='name', how='left').select('article_id', pl.col('id:ID(Topic)').alias('topic_id'))\\\n",
    "    .with_columns(pl.lit('IS_IN').alias(':TYPE'))\n",
    "a_to_topic = a_to_topic.rename({'article_id': ':START_ID(Article)', 'topic_id': ':END_ID(Topic)'})\n",
    "a_to_topic.write_csv(CSV_STORAGE / 'article_to_topic.csv')\n",
    "a_to_topic.head(3)"
   ]
  },
  {
   "cell_type": "code",
   "execution_count": 72,
   "metadata": {},
   "outputs": [
    {
     "data": {
      "text/html": [
       "<div><style>\n",
       ".dataframe > thead > tr,\n",
       ".dataframe > tbody > tr {\n",
       "  text-align: right;\n",
       "  white-space: pre-wrap;\n",
       "}\n",
       "</style>\n",
       "<small>shape: (3, 3)</small><table border=\"1\" class=\"dataframe\"><thead><tr><th>:START_ID(Article)</th><th>:END_ID(Entity)</th><th>:TYPE</th></tr><tr><td>i32</td><td>i64</td><td>str</td></tr></thead><tbody><tr><td>8922137</td><td>3</td><td>&quot;IS_IN&quot;</td></tr><tr><td>9316764</td><td>3</td><td>&quot;IS_IN&quot;</td></tr><tr><td>8955737</td><td>3</td><td>&quot;IS_IN&quot;</td></tr></tbody></table></div>"
      ],
      "text/plain": [
       "shape: (3, 3)\n",
       "┌────────────────────┬─────────────────┬───────┐\n",
       "│ :START_ID(Article) ┆ :END_ID(Entity) ┆ :TYPE │\n",
       "│ ---                ┆ ---             ┆ ---   │\n",
       "│ i32                ┆ i64             ┆ str   │\n",
       "╞════════════════════╪═════════════════╪═══════╡\n",
       "│ 8922137            ┆ 3               ┆ IS_IN │\n",
       "│ 9316764            ┆ 3               ┆ IS_IN │\n",
       "│ 8955737            ┆ 3               ┆ IS_IN │\n",
       "└────────────────────┴─────────────────┴───────┘"
      ]
     },
     "execution_count": 72,
     "metadata": {},
     "output_type": "execute_result"
    }
   ],
   "source": [
    "a_to_entity = a.select('article_id', pl.col('entity_groups').alias('name')).explode('name').sort('article_id').unique().drop_nulls()\n",
    "a_to_entity = a_to_entity.join(entity_group, on='name', how='left').select('article_id', pl.col('id:ID(Entity)').alias('entity_id'))\\\n",
    "        .with_columns(pl.lit('IS_IN').alias(':TYPE'))\n",
    "\n",
    "a_to_entity = a_to_entity.rename({'article_id': ':START_ID(Article)', 'entity_id': ':END_ID(Entity)'})\n",
    "a_to_entity.write_csv(CSV_STORAGE / 'article_to_entity.csv')\n",
    "a_to_entity.head(3)"
   ]
  },
  {
   "cell_type": "code",
   "execution_count": 73,
   "metadata": {},
   "outputs": [
    {
     "data": {
      "text/html": [
       "<div><style>\n",
       ".dataframe > thead > tr,\n",
       ".dataframe > tbody > tr {\n",
       "  text-align: right;\n",
       "  white-space: pre-wrap;\n",
       "}\n",
       "</style>\n",
       "<small>shape: (3, 15)</small><table border=\"1\" class=\"dataframe\"><thead><tr><th>id:ID(Article)</th><th>title</th><th>subtitle</th><th>last_modified_time</th><th>premium</th><th>body</th><th>published_time</th><th>article_type</th><th>url</th><th>total_inviews</th><th>total_pageviews</th><th>total_read_time</th><th>sentiment_score</th><th>sentiment_label</th><th>:LABEL</th></tr><tr><td>i32</td><td>str</td><td>str</td><td>datetime[μs]</td><td>bool</td><td>str</td><td>datetime[μs]</td><td>str</td><td>str</td><td>i32</td><td>i32</td><td>f32</td><td>f32</td><td>str</td><td>str</td></tr></thead><tbody><tr><td>0</td><td>&quot;homepage&quot;</td><td>null</td><td>null</td><td>null</td><td>null</td><td>null</td><td>&quot;homepage&quot;</td><td>null</td><td>null</td><td>null</td><td>null</td><td>null</td><td>null</td><td>&quot;Article&quot;</td></tr><tr><td>3001353</td><td>&quot;Natascha var ikke den første&quot;</td><td>&quot;Politiet frygter nu, at Natasc…</td><td>2023-06-29 06:20:33</td><td>false</td><td>&quot;Sagen om den østriske Natascha…</td><td>2006-08-31 08:06:45</td><td>&quot;article_default&quot;</td><td>&quot;https://ekstrabladet.dk/krimi/…</td><td>null</td><td>null</td><td>null</td><td>0.9955</td><td>&quot;Negative&quot;</td><td>&quot;Article&quot;</td></tr><tr><td>3003065</td><td>&quot;Kun Star Wars tjente mere&quot;</td><td>&quot;Biografgængerne strømmer ind f…</td><td>2023-06-29 06:20:35</td><td>false</td><td>&quot;Vatikanet har opfordret til at…</td><td>2006-05-21 16:57:00</td><td>&quot;article_default&quot;</td><td>&quot;https://ekstrabladet.dk/underh…</td><td>null</td><td>null</td><td>null</td><td>0.846</td><td>&quot;Positive&quot;</td><td>&quot;Article&quot;</td></tr></tbody></table></div>"
      ],
      "text/plain": [
       "shape: (3, 15)\n",
       "┌────────────┬───────────┬───────────┬───────────┬───┬───────────┬───────────┬───────────┬─────────┐\n",
       "│ id:ID(Arti ┆ title     ┆ subtitle  ┆ last_modi ┆ … ┆ total_rea ┆ sentiment ┆ sentiment ┆ :LABEL  │\n",
       "│ cle)       ┆ ---       ┆ ---       ┆ fied_time ┆   ┆ d_time    ┆ _score    ┆ _label    ┆ ---     │\n",
       "│ ---        ┆ str       ┆ str       ┆ ---       ┆   ┆ ---       ┆ ---       ┆ ---       ┆ str     │\n",
       "│ i32        ┆           ┆           ┆ datetime[ ┆   ┆ f32       ┆ f32       ┆ str       ┆         │\n",
       "│            ┆           ┆           ┆ μs]       ┆   ┆           ┆           ┆           ┆         │\n",
       "╞════════════╪═══════════╪═══════════╪═══════════╪═══╪═══════════╪═══════════╪═══════════╪═════════╡\n",
       "│ 0          ┆ homepage  ┆ null      ┆ null      ┆ … ┆ null      ┆ null      ┆ null      ┆ Article │\n",
       "│ 3001353    ┆ Natascha  ┆ Politiet  ┆ 2023-06-2 ┆ … ┆ null      ┆ 0.9955    ┆ Negative  ┆ Article │\n",
       "│            ┆ var ikke  ┆ frygter   ┆ 9         ┆   ┆           ┆           ┆           ┆         │\n",
       "│            ┆ den       ┆ nu, at    ┆ 06:20:33  ┆   ┆           ┆           ┆           ┆         │\n",
       "│            ┆ første    ┆ Natasc…   ┆           ┆   ┆           ┆           ┆           ┆         │\n",
       "│ 3003065    ┆ Kun Star  ┆ Biografgæ ┆ 2023-06-2 ┆ … ┆ null      ┆ 0.846     ┆ Positive  ┆ Article │\n",
       "│            ┆ Wars      ┆ ngerne    ┆ 9         ┆   ┆           ┆           ┆           ┆         │\n",
       "│            ┆ tjente    ┆ strømmer  ┆ 06:20:35  ┆   ┆           ┆           ┆           ┆         │\n",
       "│            ┆ mere      ┆ ind f…    ┆           ┆   ┆           ┆           ┆           ┆         │\n",
       "└────────────┴───────────┴───────────┴───────────┴───┴───────────┴───────────┴───────────┴─────────┘"
      ]
     },
     "execution_count": 73,
     "metadata": {},
     "output_type": "execute_result"
    }
   ],
   "source": [
    "a_data = a.drop('image_ids', 'ner_clusters', 'entity_groups', 'topics', 'subcategory', \n",
    "                'category', 'category_str')\\\n",
    "                    .with_columns(pl.col('title').str.replace_all('\\n', ''))\\\n",
    "                    .with_columns(pl.col('subtitle').str.replace_all('\\n', ''))\\\n",
    "                    .with_columns(pl.col('body').str.replace_all('\\n', ''))\\\n",
    "                    .with_columns(pl.lit('Article').alias(':LABEL'))\\\n",
    "                    .sort('article_id')\n",
    "\n",
    "a_data = a_data.rename({'article_id': 'id:ID(Article)'})\n",
    "a_data.write_csv(CSV_STORAGE / 'article_data.csv', datetime_format='%Y-%m-%dT%H:%M:%S')\n",
    "a_data.head(3)"
   ]
  },
  {
   "cell_type": "code",
   "execution_count": 74,
   "metadata": {},
   "outputs": [
    {
     "data": {
      "text/html": [
       "<div><style>\n",
       ".dataframe > thead > tr,\n",
       ".dataframe > tbody > tr {\n",
       "  text-align: right;\n",
       "  white-space: pre-wrap;\n",
       "}\n",
       "</style>\n",
       "<small>shape: (3, 3)</small><table border=\"1\" class=\"dataframe\"><thead><tr><th>:START_ID(User)</th><th>:END_ID(Impression)</th><th>:TYPE</th></tr><tr><td>u32</td><td>u32</td><td>str</td></tr></thead><tbody><tr><td>1504634</td><td>465821533</td><td>&quot;GENERATE&quot;</td></tr><tr><td>95491</td><td>115429718</td><td>&quot;GENERATE&quot;</td></tr><tr><td>2003926</td><td>41440202</td><td>&quot;GENERATE&quot;</td></tr></tbody></table></div>"
      ],
      "text/plain": [
       "shape: (3, 3)\n",
       "┌─────────────────┬─────────────────────┬──────────┐\n",
       "│ :START_ID(User) ┆ :END_ID(Impression) ┆ :TYPE    │\n",
       "│ ---             ┆ ---                 ┆ ---      │\n",
       "│ u32             ┆ u32                 ┆ str      │\n",
       "╞═════════════════╪═════════════════════╪══════════╡\n",
       "│ 1504634         ┆ 465821533           ┆ GENERATE │\n",
       "│ 95491           ┆ 115429718           ┆ GENERATE │\n",
       "│ 2003926         ┆ 41440202            ┆ GENERATE │\n",
       "└─────────────────┴─────────────────────┴──────────┘"
      ]
     },
     "execution_count": 74,
     "metadata": {},
     "output_type": "execute_result"
    }
   ],
   "source": [
    "u_to_i = b.select('user_id', 'impression_id') \\\n",
    "    .sort('user_id').unique().drop_nulls() \\\n",
    "    .with_columns(pl.lit('GENERATE').alias(':TYPE'))\n",
    "    \n",
    "u_to_i = u_to_i.rename({'user_id': ':START_ID(User)', 'impression_id': ':END_ID(Impression)'})\n",
    "u_to_i.write_csv(CSV_STORAGE / 'user_to_impression.csv')\n",
    "u_to_i.head(3)"
   ]
  },
  {
   "cell_type": "code",
   "execution_count": 75,
   "metadata": {},
   "outputs": [
    {
     "data": {
      "text/html": [
       "<div><style>\n",
       ".dataframe > thead > tr,\n",
       ".dataframe > tbody > tr {\n",
       "  text-align: right;\n",
       "  white-space: pre-wrap;\n",
       "}\n",
       "</style>\n",
       "<small>shape: (3, 3)</small><table border=\"1\" class=\"dataframe\"><thead><tr><th>:START_ID(Impression)</th><th>:END_ID(Article)</th><th>:TYPE</th></tr><tr><td>u32</td><td>i32</td><td>str</td></tr></thead><tbody><tr><td>119928116</td><td>9759955</td><td>&quot;ON&quot;</td></tr><tr><td>166469995</td><td>0</td><td>&quot;ON&quot;</td></tr><tr><td>27101228</td><td>0</td><td>&quot;ON&quot;</td></tr></tbody></table></div>"
      ],
      "text/plain": [
       "shape: (3, 3)\n",
       "┌───────────────────────┬──────────────────┬───────┐\n",
       "│ :START_ID(Impression) ┆ :END_ID(Article) ┆ :TYPE │\n",
       "│ ---                   ┆ ---              ┆ ---   │\n",
       "│ u32                   ┆ i32              ┆ str   │\n",
       "╞═══════════════════════╪══════════════════╪═══════╡\n",
       "│ 119928116             ┆ 9759955          ┆ ON    │\n",
       "│ 166469995             ┆ 0                ┆ ON    │\n",
       "│ 27101228              ┆ 0                ┆ ON    │\n",
       "└───────────────────────┴──────────────────┴───────┘"
      ]
     },
     "execution_count": 75,
     "metadata": {},
     "output_type": "execute_result"
    }
   ],
   "source": [
    "i_to_a = b.select('impression_id', pl.col('article_id')).sort('impression_id').unique().drop_nulls()\\\n",
    "    .with_columns(pl.lit('ON').alias(':TYPE'))\n",
    "i_to_a = i_to_a.rename({'impression_id': ':START_ID(Impression)', 'article_id': ':END_ID(Article)'})\n",
    "i_to_a.write_csv(CSV_STORAGE / 'impression_to_article.csv')\n",
    "i_to_a.head(3)"
   ]
  },
  {
   "cell_type": "code",
   "execution_count": 76,
   "metadata": {},
   "outputs": [
    {
     "data": {
      "text/html": [
       "<div><style>\n",
       ".dataframe > thead > tr,\n",
       ".dataframe > tbody > tr {\n",
       "  text-align: right;\n",
       "  white-space: pre-wrap;\n",
       "}\n",
       "</style>\n",
       "<small>shape: (3, 3)</small><table border=\"1\" class=\"dataframe\"><thead><tr><th>:START_ID(Impression)</th><th>:END_ID(Article)</th><th>:TYPE</th></tr><tr><td>u32</td><td>i32</td><td>str</td></tr></thead><tbody><tr><td>149474</td><td>9778657</td><td>&quot;CLICK&quot;</td></tr><tr><td>150528</td><td>9778623</td><td>&quot;CLICK&quot;</td></tr><tr><td>153068</td><td>9778669</td><td>&quot;CLICK&quot;</td></tr></tbody></table></div>"
      ],
      "text/plain": [
       "shape: (3, 3)\n",
       "┌───────────────────────┬──────────────────┬───────┐\n",
       "│ :START_ID(Impression) ┆ :END_ID(Article) ┆ :TYPE │\n",
       "│ ---                   ┆ ---              ┆ ---   │\n",
       "│ u32                   ┆ i32              ┆ str   │\n",
       "╞═══════════════════════╪══════════════════╪═══════╡\n",
       "│ 149474                ┆ 9778657          ┆ CLICK │\n",
       "│ 150528                ┆ 9778623          ┆ CLICK │\n",
       "│ 153068                ┆ 9778669          ┆ CLICK │\n",
       "└───────────────────────┴──────────────────┴───────┘"
      ]
     },
     "execution_count": 76,
     "metadata": {},
     "output_type": "execute_result"
    }
   ],
   "source": [
    "i_to_a_clicked = b.select('impression_id', pl.col('article_ids_clicked').alias('article_id')).explode('article_id').sort('impression_id')\\\n",
    "    .with_columns(pl.lit('CLICK').alias(':TYPE'))\n",
    "i_to_a_clicked = i_to_a_clicked.rename({'impression_id': ':START_ID(Impression)', 'article_id': ':END_ID(Article)'})\n",
    "i_to_a_clicked.write_csv(CSV_STORAGE / 'impression_to_article_clicked.csv')\n",
    "i_to_a_clicked.head(3)"
   ]
  },
  {
   "cell_type": "code",
   "execution_count": 77,
   "metadata": {},
   "outputs": [
    {
     "data": {
      "text/html": [
       "<div><style>\n",
       ".dataframe > thead > tr,\n",
       ".dataframe > tbody > tr {\n",
       "  text-align: right;\n",
       "  white-space: pre-wrap;\n",
       "}\n",
       "</style>\n",
       "<small>shape: (3, 3)</small><table border=\"1\" class=\"dataframe\"><thead><tr><th>:START_ID(Impression)</th><th>:END_ID(Article)</th><th>:TYPE</th></tr><tr><td>u32</td><td>i32</td><td>str</td></tr></thead><tbody><tr><td>149474</td><td>9778623</td><td>&quot;INVIEW&quot;</td></tr><tr><td>149474</td><td>9778682</td><td>&quot;INVIEW&quot;</td></tr><tr><td>149474</td><td>9778669</td><td>&quot;INVIEW&quot;</td></tr></tbody></table></div>"
      ],
      "text/plain": [
       "shape: (3, 3)\n",
       "┌───────────────────────┬──────────────────┬────────┐\n",
       "│ :START_ID(Impression) ┆ :END_ID(Article) ┆ :TYPE  │\n",
       "│ ---                   ┆ ---              ┆ ---    │\n",
       "│ u32                   ┆ i32              ┆ str    │\n",
       "╞═══════════════════════╪══════════════════╪════════╡\n",
       "│ 149474                ┆ 9778623          ┆ INVIEW │\n",
       "│ 149474                ┆ 9778682          ┆ INVIEW │\n",
       "│ 149474                ┆ 9778669          ┆ INVIEW │\n",
       "└───────────────────────┴──────────────────┴────────┘"
      ]
     },
     "execution_count": 77,
     "metadata": {},
     "output_type": "execute_result"
    }
   ],
   "source": [
    "i_to_a_inview = b.select('impression_id', pl.col('article_ids_inview').alias('article_id')).explode('article_id').sort('impression_id').drop_nulls()\n",
    "i_to_a_inview = i_to_a_inview.rename({'impression_id': ':START_ID(Impression)', 'article_id': ':END_ID(Article)'})\\\n",
    "    .with_columns(pl.lit('INVIEW').alias(':TYPE'))\n",
    "i_to_a_inview.write_csv(CSV_STORAGE / 'impression_to_article_inview.csv')\n",
    "i_to_a_inview.head(3)"
   ]
  },
  {
   "cell_type": "markdown",
   "metadata": {},
   "source": [
    "### History"
   ]
  },
  {
   "cell_type": "code",
   "execution_count": 78,
   "metadata": {},
   "outputs": [],
   "source": [
    "# batch = 0\n",
    "# batch_size=100\n",
    "# user_ids = h.select('user_id')\n",
    "\n",
    "# h_final = None\n",
    "# for batch in range(0, len(user_ids), batch_size):\n",
    "    \n",
    "#     user_ids_batch = user_ids[batch:batch+batch_size]\n",
    "#     h_data = h.filter(pl.col('user_id').is_in(user_ids[batch:batch+batch_size]))\\\n",
    "#     .explode('impression_time_fixed', 'article_id_fixed', 'scroll_percentage_fixed', 'read_time_fixed')\n",
    "\n",
    "#     h_data = h_data.with_columns(pl.Series(np.arange(-1, len(h_data) - 1)).cast(pl.Int32).alias('id_l'))\n",
    "#     h_data = h_data.with_columns(pl.Series(np.arange(len(h_data))).cast(pl.Int32).alias('id_r'))\n",
    "#     h_data = h_data.join(h_data, left_on=['user_id', 'id_r'], right_on=['user_id', 'id_l'], how='left')\n",
    "\n",
    "#     h_data = h_data.select(\n",
    "#         pl.col('article_id_fixed').alias(':START_ID(Article)'),\n",
    "#         'user_id', \n",
    "#         pl.col('impression_time_fixed').alias('impression_time'),\n",
    "#         pl.col('scroll_percentage_fixed').alias('scroll_percentage'),\n",
    "#         pl.col('read_time_fixed').alias('read_time'),\n",
    "#         pl.col('article_id_fixed_right').alias(':END_ID(Article)'),\n",
    "#         pl.lit('FOLLOW').alias(':TYPE')\n",
    "#     ).drop_nulls(':END_ID(Article)')\n",
    "    \n",
    "#     if h_final is None:\n",
    "#         h_final = h_data\n",
    "#     else:\n",
    "#         h_final = h_final.vstack(h_data)\n",
    "    \n",
    "\n",
    "# h_final.write_csv(CSV_STORAGE / 'history_article_to_article.csv', datetime_format='%Y-%m-%dT%H:%M:%S')\n",
    "# h_final.head(3)"
   ]
  },
  {
   "cell_type": "code",
   "execution_count": 79,
   "metadata": {},
   "outputs": [],
   "source": [
    "# h_data = h.select(pl.col('user_id').alias(':START_ID(User)'), \n",
    "#                   pl.col('impression_time_fixed').list.first().alias('impression_time'),\n",
    "#                   pl.col('scroll_percentage_fixed').list.first().alias('scroll_percentage'),\n",
    "#                   pl.col('read_time_fixed').list.first().alias('read_time'),\n",
    "#                   pl.col('article_id_fixed').list.first().alias(':END_ID(Article)'),\n",
    "#                   pl.lit('FOLLOW').alias(':TYPE'))\n",
    "\n",
    "# h_data.write_csv(CSV_STORAGE / 'history_user_to_article.csv', datetime_format='%Y-%m-%dT%H:%M:%S')\n",
    "# h_data.head(3)"
   ]
  },
  {
   "cell_type": "code",
   "execution_count": 57,
   "metadata": {},
   "outputs": [
    {
     "data": {
      "text/plain": [
       "'bin/neo4j-admin database import full --nodes=User=import/demo/user_data.csv --nodes=Article=import/demo/article_data.csv --relationships=import/demo/history_user_to_article.csv --relationships=import/demo/history_article_to_article.csv --overwrite-destination newsdb-history-demo'"
      ]
     },
     "execution_count": 57,
     "metadata": {},
     "output_type": "execute_result"
    }
   ],
   "source": [
    "# ' '.join(\n",
    "#     [\n",
    "#         'bin/neo4j-admin database import full',\n",
    "#         #nodes\n",
    "#         f'--nodes=User=import/{type}/user_data.csv',\n",
    "#         f'--nodes=Article=import/{type}/article_data.csv',\n",
    "#         #relationships\n",
    "#         f'--relationships=import/{type}/history_user_to_article.csv',\n",
    "#         f'--relationships=import/{type}/history_article_to_article.csv',\n",
    "        \n",
    "#         '--overwrite-destination',\n",
    "#         f'newsdb-history-{type}'\n",
    "#         ])"
   ]
  },
  {
   "cell_type": "markdown",
   "metadata": {},
   "source": [
    "### Load neo4j-admin-script"
   ]
  },
  {
   "cell_type": "code",
   "execution_count": 80,
   "metadata": {},
   "outputs": [
    {
     "data": {
      "text/plain": [
       "'bin/neo4j-admin database import full --nodes=import/small/user_data.csv --nodes=import/small/impression_data.csv --nodes=import/small/article_data.csv --nodes=import/small/category_data.csv --nodes=import/small/entity_data.csv --nodes=import/small/topic_data.csv --relationships=import/small/user_to_impression.csv --relationships=import/small/impression_to_article.csv --relationships=import/small/impression_to_article_inview.csv --relationships=import/small/impression_to_article_clicked.csv --relationships=import/small/article_to_topic.csv --relationships=import/small/article_to_entity.csv --relationships=import/small/article_to_category.csv --overwrite-destination newsdb-small'"
      ]
     },
     "execution_count": 80,
     "metadata": {},
     "output_type": "execute_result"
    }
   ],
   "source": [
    "from polimi.utils._graph import create_neo4j_admin_script\n",
    "\n",
    "create_neo4j_admin_script(type)"
   ]
  },
  {
   "cell_type": "markdown",
   "metadata": {},
   "source": [
    "## Contraints"
   ]
  },
  {
   "cell_type": "code",
   "execution_count": 61,
   "metadata": {},
   "outputs": [
    {
     "name": "stdout",
     "output_type": "stream",
     "text": [
      "None\n"
     ]
    }
   ],
   "source": [
    "from neo4j import GraphDatabase\n",
    "from polimi.utils._graph import add_constraint\n",
    "from dotenv import load_dotenv\n",
    "import os\n",
    "\n",
    "load_dotenv()\n",
    "\n",
    "# Retrieve Neo4j connection details\n",
    "URI = os.getenv(\"NEO4J_URI\")\n",
    "USER = os.getenv(\"NEO4J_AUTH_USER\")\n",
    "PASSW = os.getenv(\"NEO4J_AUTH_PASSWORD\")\n",
    "\n",
    "# Establish connection\n",
    "driver = GraphDatabase.driver(URI, auth=(USER, PASSW), database=f'newsdb-{type}')\n",
    "\n",
    "print(driver.verify_connectivity())\n",
    "# add_constraint(driver, 'Article', 'id')\n",
    "# add_constraint(driver, 'Impression', 'id')\n",
    "# add_constraint(driver, 'User', 'id')\n",
    "# add_constraint(driver, 'Topic', 'id')\n",
    "# add_constraint(driver, 'Category', 'id')\n",
    "# add_constraint(driver, 'Entity', 'id')\n",
    "\n",
    "\n",
    "driver.close()"
   ]
  },
  {
   "cell_type": "code",
   "execution_count": null,
   "metadata": {},
   "outputs": [],
   "source": []
  }
 ],
 "metadata": {
  "kernelspec": {
   "display_name": "recsys",
   "language": "python",
   "name": "python3"
  },
  "language_info": {
   "codemirror_mode": {
    "name": "ipython",
    "version": 3
   },
   "file_extension": ".py",
   "mimetype": "text/x-python",
   "name": "python",
   "nbconvert_exporter": "python",
   "pygments_lexer": "ipython3",
   "version": "3.11.0"
  }
 },
 "nbformat": 4,
 "nbformat_minor": 2
}
