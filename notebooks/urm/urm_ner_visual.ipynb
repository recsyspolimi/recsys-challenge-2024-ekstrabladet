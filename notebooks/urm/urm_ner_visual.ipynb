{
 "cells": [
  {
   "cell_type": "code",
   "execution_count": 1,
   "metadata": {},
   "outputs": [],
   "source": [
    "import polars as pl"
   ]
  },
  {
   "cell_type": "code",
   "execution_count": 2,
   "metadata": {},
   "outputs": [],
   "source": [
    "from pathlib import Path\n",
    "\n",
    "\n",
    "dpath = Path('../dataset')\n",
    "\n",
    "dtype = 'large'\n",
    "articles = pl.read_parquet(f'{dpath}/ebnerd_{dtype}/articles.parquet')\n",
    "\n",
    "behaviors_train = pl.read_parquet(f'{dpath}/ebnerd_{dtype}/train/behaviors.parquet')\n",
    "history_train = pl.read_parquet(f'{dpath}/ebnerd_{dtype}/train/history.parquet')\n",
    "\n",
    "behaviors_val = pl.read_parquet(f'{dpath}/ebnerd_{dtype}/validation/behaviors.parquet')\n",
    "history_val = pl.read_parquet(f'{dpath}/ebnerd_{dtype}/validation/history.parquet')"
   ]
  },
  {
   "cell_type": "code",
   "execution_count": 3,
   "metadata": {},
   "outputs": [
    {
     "data": {
      "text/html": [
       "<div><style>\n",
       ".dataframe > thead > tr,\n",
       ".dataframe > tbody > tr {\n",
       "  text-align: right;\n",
       "  white-space: pre-wrap;\n",
       "}\n",
       "</style>\n",
       "<small>shape: (3, 4)</small><table border=\"1\" class=\"dataframe\"><thead><tr><th>article_id</th><th>date</th><th>hour</th><th>minute</th></tr><tr><td>i32</td><td>date</td><td>i8</td><td>i8</td></tr></thead><tbody><tr><td>9735579</td><td>2023-04-28</td><td>6</td><td>16</td></tr><tr><td>9739888</td><td>2023-04-28</td><td>6</td><td>17</td></tr><tr><td>9739471</td><td>2023-04-28</td><td>6</td><td>18</td></tr></tbody></table></div>"
      ],
      "text/plain": [
       "shape: (3, 4)\n",
       "┌────────────┬────────────┬──────┬────────┐\n",
       "│ article_id ┆ date       ┆ hour ┆ minute │\n",
       "│ ---        ┆ ---        ┆ ---  ┆ ---    │\n",
       "│ i32        ┆ date       ┆ i8   ┆ i8     │\n",
       "╞════════════╪════════════╪══════╪════════╡\n",
       "│ 9735579    ┆ 2023-04-28 ┆ 6    ┆ 16     │\n",
       "│ 9739888    ┆ 2023-04-28 ┆ 6    ┆ 17     │\n",
       "│ 9739471    ┆ 2023-04-28 ┆ 6    ┆ 18     │\n",
       "└────────────┴────────────┴──────┴────────┘"
      ]
     },
     "execution_count": 3,
     "metadata": {},
     "output_type": "execute_result"
    }
   ],
   "source": [
    "df = history_train.select('impression_time_fixed', 'article_id_fixed').explode(['impression_time_fixed', 'article_id_fixed'])\n",
    "df = df.with_columns(pl.col('impression_time_fixed').cast(pl.Date).alias('date'), \n",
    "                     pl.col('impression_time_fixed').dt.hour().alias('hour'),\n",
    "                     pl.col('impression_time_fixed').dt.minute().alias('minute'))\\\n",
    "        .rename({'article_id_fixed': 'article_id'})\\\n",
    "        .drop('impression_time_fixed')\n",
    "df.head(3)"
   ]
  },
  {
   "cell_type": "code",
   "execution_count": 4,
   "metadata": {},
   "outputs": [
    {
     "data": {
      "text/html": [
       "<div><style>\n",
       ".dataframe > thead > tr,\n",
       ".dataframe > tbody > tr {\n",
       "  text-align: right;\n",
       "  white-space: pre-wrap;\n",
       "}\n",
       "</style>\n",
       "<small>shape: (2, 2)</small><table border=\"1\" class=\"dataframe\"><thead><tr><th>article_id</th><th>ner_clusters</th></tr><tr><td>i32</td><td>list[str]</td></tr></thead><tbody><tr><td>3000022</td><td>[&quot;david gardner&quot;]</td></tr><tr><td>3000063</td><td>[]</td></tr></tbody></table></div>"
      ],
      "text/plain": [
       "shape: (2, 2)\n",
       "┌────────────┬───────────────────┐\n",
       "│ article_id ┆ ner_clusters      │\n",
       "│ ---        ┆ ---               │\n",
       "│ i32        ┆ list[str]         │\n",
       "╞════════════╪═══════════════════╡\n",
       "│ 3000022    ┆ [\"david gardner\"] │\n",
       "│ 3000063    ┆ []                │\n",
       "└────────────┴───────────────────┘"
      ]
     },
     "execution_count": 4,
     "metadata": {},
     "output_type": "execute_result"
    }
   ],
   "source": [
    "ap = articles.select('article_id', 'ner_clusters')\\\n",
    "    .with_columns(pl.col('ner_clusters').list.eval(pl.element().str.strip_chars_start('\\\"')))\\\n",
    "    .with_columns(pl.col('ner_clusters').list.eval(pl.element().str.strip_chars(' ')))\\\n",
    "    .with_columns(pl.col('ner_clusters').list.eval(pl.element().str.to_lowercase()))\\\n",
    "    .with_columns(pl.col('ner_clusters').list.eval(pl.element().filter(pl.element().str.len_chars() > 0)))\\\n",
    "    .with_columns(pl.col('ner_clusters').list.unique())\\\n",
    "    .with_columns(pl.col('ner_clusters').list.sort())\\\n",
    "    .sort('article_id')\\\n",
    "    .set_sorted('article_id')\n",
    "ap.head(2)\n"
   ]
  },
  {
   "cell_type": "code",
   "execution_count": 5,
   "metadata": {},
   "outputs": [
    {
     "data": {
      "text/html": [
       "<div><style>\n",
       ".dataframe > thead > tr,\n",
       ".dataframe > tbody > tr {\n",
       "  text-align: right;\n",
       "  white-space: pre-wrap;\n",
       "}\n",
       "</style>\n",
       "<small>shape: (2, 2)</small><table border=\"1\" class=\"dataframe\"><thead><tr><th>ner_index</th><th>ner</th></tr><tr><td>u32</td><td>str</td></tr></thead><tbody><tr><td>0</td><td>&quot;#&quot;</td></tr><tr><td>1</td><td>&quot;# antwerpen&quot;</td></tr></tbody></table></div>"
      ],
      "text/plain": [
       "shape: (2, 2)\n",
       "┌───────────┬─────────────┐\n",
       "│ ner_index ┆ ner         │\n",
       "│ ---       ┆ ---         │\n",
       "│ u32       ┆ str         │\n",
       "╞═══════════╪═════════════╡\n",
       "│ 0         ┆ #           │\n",
       "│ 1         ┆ # antwerpen │\n",
       "└───────────┴─────────────┘"
      ]
     },
     "execution_count": 5,
     "metadata": {},
     "output_type": "execute_result"
    }
   ],
   "source": [
    "ner_mappings = ap.select('article_id', 'ner_clusters')\\\n",
    "        .explode('ner_clusters') \\\n",
    "        .rename({'ner_clusters': 'ner'})\\\n",
    "        .unique('ner')\\\n",
    "        .drop_nulls()\\\n",
    "        .sort('ner')\\\n",
    "        .with_row_index()\\\n",
    "        .drop('article_id')\\\n",
    "        .rename({'index': 'ner_index'})\n",
    "ner_mappings.head(2)"
   ]
  },
  {
   "cell_type": "code",
   "execution_count": 23,
   "metadata": {},
   "outputs": [
    {
     "data": {
      "text/html": [
       "<div><style>\n",
       ".dataframe > thead > tr,\n",
       ".dataframe > tbody > tr {\n",
       "  text-align: right;\n",
       "  white-space: pre-wrap;\n",
       "}\n",
       "</style>\n",
       "<small>shape: (2, 2)</small><table border=\"1\" class=\"dataframe\"><thead><tr><th>article_id</th><th>ner_clusters</th></tr><tr><td>i32</td><td>list[i64]</td></tr></thead><tbody><tr><td>3000022</td><td>[20966]</td></tr><tr><td>3000063</td><td>[]</td></tr></tbody></table></div>"
      ],
      "text/plain": [
       "shape: (2, 2)\n",
       "┌────────────┬──────────────┐\n",
       "│ article_id ┆ ner_clusters │\n",
       "│ ---        ┆ ---          │\n",
       "│ i32        ┆ list[i64]    │\n",
       "╞════════════╪══════════════╡\n",
       "│ 3000022    ┆ [20966]      │\n",
       "│ 3000063    ┆ []           │\n",
       "└────────────┴──────────────┘"
      ]
     },
     "execution_count": 23,
     "metadata": {},
     "output_type": "execute_result"
    }
   ],
   "source": [
    "ner_id_map = {k:v for k,v in zip(ner_mappings['ner'], ner_mappings['ner_index'])}\n",
    "ap_ind= ap.with_columns(\n",
    "    pl.col('ner_clusters').list.eval(pl.element().replace(ner_id_map).cast(pl.Int32))\n",
    ")\n",
    "ap_ind.head(2)"
   ]
  },
  {
   "cell_type": "code",
   "execution_count": 6,
   "metadata": {},
   "outputs": [
    {
     "data": {
      "text/html": [
       "<div><style>\n",
       ".dataframe > thead > tr,\n",
       ".dataframe > tbody > tr {\n",
       "  text-align: right;\n",
       "  white-space: pre-wrap;\n",
       "}\n",
       "</style>\n",
       "<small>shape: (125_182_942, 4)</small><table border=\"1\" class=\"dataframe\"><thead><tr><th>article_id</th><th>date</th><th>hour</th><th>minute</th></tr><tr><td>i32</td><td>date</td><td>i8</td><td>i8</td></tr></thead><tbody><tr><td>9735579</td><td>2023-04-28</td><td>6</td><td>16</td></tr><tr><td>9739888</td><td>2023-04-28</td><td>6</td><td>17</td></tr><tr><td>9739471</td><td>2023-04-28</td><td>6</td><td>18</td></tr><tr><td>9739864</td><td>2023-04-28</td><td>6</td><td>18</td></tr><tr><td>9738441</td><td>2023-04-28</td><td>6</td><td>20</td></tr><tr><td>9739883</td><td>2023-04-28</td><td>6</td><td>21</td></tr><tr><td>9739153</td><td>2023-04-28</td><td>6</td><td>21</td></tr><tr><td>9739844</td><td>2023-04-28</td><td>6</td><td>22</td></tr><tr><td>9739634</td><td>2023-04-28</td><td>6</td><td>22</td></tr><tr><td>9739802</td><td>2023-04-28</td><td>6</td><td>22</td></tr><tr><td>9647575</td><td>2023-04-28</td><td>6</td><td>23</td></tr><tr><td>9739597</td><td>2023-04-28</td><td>6</td><td>23</td></tr><tr><td>&hellip;</td><td>&hellip;</td><td>&hellip;</td><td>&hellip;</td></tr><tr><td>9757746</td><td>2023-05-10</td><td>12</td><td>26</td></tr><tr><td>9757717</td><td>2023-05-10</td><td>12</td><td>26</td></tr><tr><td>9757698</td><td>2023-05-10</td><td>12</td><td>27</td></tr><tr><td>9757796</td><td>2023-05-10</td><td>12</td><td>27</td></tr><tr><td>9757707</td><td>2023-05-10</td><td>12</td><td>27</td></tr><tr><td>9757622</td><td>2023-05-10</td><td>12</td><td>27</td></tr><tr><td>9757552</td><td>2023-05-10</td><td>12</td><td>27</td></tr><tr><td>9753603</td><td>2023-05-08</td><td>7</td><td>31</td></tr><tr><td>9753684</td><td>2023-05-08</td><td>7</td><td>33</td></tr><tr><td>9753668</td><td>2023-05-08</td><td>7</td><td>35</td></tr><tr><td>9750772</td><td>2023-05-08</td><td>7</td><td>37</td></tr><tr><td>9753521</td><td>2023-05-08</td><td>7</td><td>38</td></tr></tbody></table></div>"
      ],
      "text/plain": [
       "shape: (125_182_942, 4)\n",
       "┌────────────┬────────────┬──────┬────────┐\n",
       "│ article_id ┆ date       ┆ hour ┆ minute │\n",
       "│ ---        ┆ ---        ┆ ---  ┆ ---    │\n",
       "│ i32        ┆ date       ┆ i8   ┆ i8     │\n",
       "╞════════════╪════════════╪══════╪════════╡\n",
       "│ 9735579    ┆ 2023-04-28 ┆ 6    ┆ 16     │\n",
       "│ 9739888    ┆ 2023-04-28 ┆ 6    ┆ 17     │\n",
       "│ 9739471    ┆ 2023-04-28 ┆ 6    ┆ 18     │\n",
       "│ 9739864    ┆ 2023-04-28 ┆ 6    ┆ 18     │\n",
       "│ 9738441    ┆ 2023-04-28 ┆ 6    ┆ 20     │\n",
       "│ …          ┆ …          ┆ …    ┆ …      │\n",
       "│ 9753603    ┆ 2023-05-08 ┆ 7    ┆ 31     │\n",
       "│ 9753684    ┆ 2023-05-08 ┆ 7    ┆ 33     │\n",
       "│ 9753668    ┆ 2023-05-08 ┆ 7    ┆ 35     │\n",
       "│ 9750772    ┆ 2023-05-08 ┆ 7    ┆ 37     │\n",
       "│ 9753521    ┆ 2023-05-08 ┆ 7    ┆ 38     │\n",
       "└────────────┴────────────┴──────┴────────┘"
      ]
     },
     "execution_count": 6,
     "metadata": {},
     "output_type": "execute_result"
    }
   ],
   "source": [
    "df"
   ]
  },
  {
   "cell_type": "code",
   "execution_count": 20,
   "metadata": {},
   "outputs": [
    {
     "data": {
      "text/html": [
       "<div><style>\n",
       ".dataframe > thead > tr,\n",
       ".dataframe > tbody > tr {\n",
       "  text-align: right;\n",
       "  white-space: pre-wrap;\n",
       "}\n",
       "</style>\n",
       "<small>shape: (3, 5)</small><table border=\"1\" class=\"dataframe\"><thead><tr><th>article_id</th><th>date</th><th>hour</th><th>minute</th><th>ner_clusters</th></tr><tr><td>i32</td><td>date</td><td>i8</td><td>i8</td><td>list[i32]</td></tr></thead><tbody><tr><td>9738663</td><td>2023-04-27</td><td>10</td><td>17</td><td>[915, 7645, … 37662]</td></tr><tr><td>9738569</td><td>2023-04-27</td><td>10</td><td>18</td><td>[8308, 8829, … 35645]</td></tr><tr><td>9738663</td><td>2023-04-27</td><td>10</td><td>18</td><td>[915, 7645, … 37662]</td></tr></tbody></table></div>"
      ],
      "text/plain": [
       "shape: (3, 5)\n",
       "┌────────────┬────────────┬──────┬────────┬───────────────────────┐\n",
       "│ article_id ┆ date       ┆ hour ┆ minute ┆ ner_clusters          │\n",
       "│ ---        ┆ ---        ┆ ---  ┆ ---    ┆ ---                   │\n",
       "│ i32        ┆ date       ┆ i8   ┆ i8     ┆ list[i32]             │\n",
       "╞════════════╪════════════╪══════╪════════╪═══════════════════════╡\n",
       "│ 9738663    ┆ 2023-04-27 ┆ 10   ┆ 17     ┆ [915, 7645, … 37662]  │\n",
       "│ 9738569    ┆ 2023-04-27 ┆ 10   ┆ 18     ┆ [8308, 8829, … 35645] │\n",
       "│ 9738663    ┆ 2023-04-27 ┆ 10   ┆ 18     ┆ [915, 7645, … 37662]  │\n",
       "└────────────┴────────────┴──────┴────────┴───────────────────────┘"
      ]
     },
     "execution_count": 20,
     "metadata": {},
     "output_type": "execute_result"
    }
   ],
   "source": [
    "df = df.join(ap_ind, on='article_id', how='left')\n",
    "df.head(3)"
   ]
  },
  {
   "cell_type": "code",
   "execution_count": 22,
   "metadata": {},
   "outputs": [
    {
     "data": {
      "text/html": [
       "<div><style>\n",
       ".dataframe > thead > tr,\n",
       ".dataframe > tbody > tr {\n",
       "  text-align: right;\n",
       "  white-space: pre-wrap;\n",
       "}\n",
       "</style>\n",
       "<small>shape: (3, 3)</small><table border=\"1\" class=\"dataframe\"><thead><tr><th>date</th><th>hour</th><th>ner_index</th></tr><tr><td>date</td><td>i8</td><td>i32</td></tr></thead><tbody><tr><td>2023-04-27</td><td>7</td><td>43746</td></tr><tr><td>2023-04-27</td><td>8</td><td>43602</td></tr><tr><td>2023-04-27</td><td>9</td><td>43746</td></tr></tbody></table></div>"
      ],
      "text/plain": [
       "shape: (3, 3)\n",
       "┌────────────┬──────┬───────────┐\n",
       "│ date       ┆ hour ┆ ner_index │\n",
       "│ ---        ┆ ---  ┆ ---       │\n",
       "│ date       ┆ i8   ┆ i32       │\n",
       "╞════════════╪══════╪═══════════╡\n",
       "│ 2023-04-27 ┆ 7    ┆ 43746     │\n",
       "│ 2023-04-27 ┆ 8    ┆ 43602     │\n",
       "│ 2023-04-27 ┆ 9    ┆ 43746     │\n",
       "└────────────┴──────┴───────────┘"
      ]
     },
     "execution_count": 22,
     "metadata": {},
     "output_type": "execute_result"
    }
   ],
   "source": [
    "most_common_ner_per_hour = df.explode('ner_clusters')\\\n",
    "    .rename({'ner_clusters': 'ner_index'})\\\n",
    "    .group_by('date', 'hour')\\\n",
    "    .agg(pl.col('ner_index').max())\\\n",
    "    .sort('date', 'hour')\n",
    "most_common_ner_per_hour.head(3)"
   ]
  },
  {
   "cell_type": "code",
   "execution_count": 25,
   "metadata": {},
   "outputs": [
    {
     "data": {
      "text/html": [
       "<div><style>\n",
       ".dataframe > thead > tr,\n",
       ".dataframe > tbody > tr {\n",
       "  text-align: right;\n",
       "  white-space: pre-wrap;\n",
       "}\n",
       "</style>\n",
       "<small>shape: (3, 2)</small><table border=\"1\" class=\"dataframe\"><thead><tr><th>date</th><th>ner_index</th></tr><tr><td>date</td><td>i32</td></tr></thead><tbody><tr><td>2023-04-27</td><td>43772</td></tr><tr><td>2023-04-28</td><td>43772</td></tr><tr><td>2023-04-29</td><td>43767</td></tr></tbody></table></div>"
      ],
      "text/plain": [
       "shape: (3, 2)\n",
       "┌────────────┬───────────┐\n",
       "│ date       ┆ ner_index │\n",
       "│ ---        ┆ ---       │\n",
       "│ date       ┆ i32       │\n",
       "╞════════════╪═══════════╡\n",
       "│ 2023-04-27 ┆ 43772     │\n",
       "│ 2023-04-28 ┆ 43772     │\n",
       "│ 2023-04-29 ┆ 43767     │\n",
       "└────────────┴───────────┘"
      ]
     },
     "execution_count": 25,
     "metadata": {},
     "output_type": "execute_result"
    }
   ],
   "source": [
    "most_common_ner_per_day = df.explode('ner_clusters')\\\n",
    "    .rename({'ner_clusters': 'ner_index'})\\\n",
    "    .group_by('date')\\\n",
    "    .agg(pl.col('ner_index').max())\\\n",
    "    .sort('date')\n",
    "most_common_ner_per_day.head(3)"
   ]
  },
  {
   "cell_type": "code",
   "execution_count": 26,
   "metadata": {},
   "outputs": [
    {
     "data": {},
     "metadata": {},
     "output_type": "display_data"
    },
    {
     "data": {
      "application/vnd.holoviews_exec.v0+json": "",
      "text/html": [
       "<div id='p1079'>\n",
       "  <div id=\"dcd123b0-baa0-4ef7-9be0-b032befd7412\" data-root-id=\"p1079\" style=\"display: contents;\"></div>\n",
       "</div>\n",
       "<script type=\"application/javascript\">(function(root) {\n",
       "  var docs_json = {\"3dfee5f6-3774-4dce-a157-93ff9e470149\":{\"version\":\"3.3.4\",\"title\":\"Bokeh Application\",\"roots\":[{\"type\":\"object\",\"name\":\"Row\",\"id\":\"p1079\",\"attributes\":{\"name\":\"Row01047\",\"tags\":[\"embedded\"],\"stylesheets\":[\"\\n:host(.pn-loading.pn-arc):before, .pn-loading.pn-arc:before {\\n  background-image: url(\\\"data:image/svg+xml;base64,PHN2ZyB4bWxucz0iaHR0cDovL3d3dy53My5vcmcvMjAwMC9zdmciIHN0eWxlPSJtYXJnaW46IGF1dG87IGJhY2tncm91bmQ6IG5vbmU7IGRpc3BsYXk6IGJsb2NrOyBzaGFwZS1yZW5kZXJpbmc6IGF1dG87IiB2aWV3Qm94PSIwIDAgMTAwIDEwMCIgcHJlc2VydmVBc3BlY3RSYXRpbz0ieE1pZFlNaWQiPiAgPGNpcmNsZSBjeD0iNTAiIGN5PSI1MCIgZmlsbD0ibm9uZSIgc3Ryb2tlPSIjYzNjM2MzIiBzdHJva2Utd2lkdGg9IjEwIiByPSIzNSIgc3Ryb2tlLWRhc2hhcnJheT0iMTY0LjkzMzYxNDMxMzQ2NDE1IDU2Ljk3Nzg3MTQzNzgyMTM4Ij4gICAgPGFuaW1hdGVUcmFuc2Zvcm0gYXR0cmlidXRlTmFtZT0idHJhbnNmb3JtIiB0eXBlPSJyb3RhdGUiIHJlcGVhdENvdW50PSJpbmRlZmluaXRlIiBkdXI9IjFzIiB2YWx1ZXM9IjAgNTAgNTA7MzYwIDUwIDUwIiBrZXlUaW1lcz0iMDsxIj48L2FuaW1hdGVUcmFuc2Zvcm0+ICA8L2NpcmNsZT48L3N2Zz4=\\\");\\n  background-size: auto calc(min(50%, 400px));\\n}\",{\"type\":\"object\",\"name\":\"ImportedStyleSheet\",\"id\":\"p1082\",\"attributes\":{\"url\":\"https://cdn.holoviz.org/panel/1.3.8/dist/css/loading.css\"}},{\"type\":\"object\",\"name\":\"ImportedStyleSheet\",\"id\":\"p1150\",\"attributes\":{\"url\":\"https://cdn.holoviz.org/panel/1.3.8/dist/css/listpanel.css\"}},{\"type\":\"object\",\"name\":\"ImportedStyleSheet\",\"id\":\"p1080\",\"attributes\":{\"url\":\"https://cdn.holoviz.org/panel/1.3.8/dist/bundled/theme/default.css\"}},{\"type\":\"object\",\"name\":\"ImportedStyleSheet\",\"id\":\"p1081\",\"attributes\":{\"url\":\"https://cdn.holoviz.org/panel/1.3.8/dist/bundled/theme/native.css\"}}],\"min_width\":700,\"margin\":0,\"sizing_mode\":\"stretch_width\",\"align\":\"start\",\"children\":[{\"type\":\"object\",\"name\":\"Spacer\",\"id\":\"p1083\",\"attributes\":{\"name\":\"HSpacer01054\",\"stylesheets\":[\"\\n:host(.pn-loading.pn-arc):before, .pn-loading.pn-arc:before {\\n  background-image: url(\\\"data:image/svg+xml;base64,PHN2ZyB4bWxucz0iaHR0cDovL3d3dy53My5vcmcvMjAwMC9zdmciIHN0eWxlPSJtYXJnaW46IGF1dG87IGJhY2tncm91bmQ6IG5vbmU7IGRpc3BsYXk6IGJsb2NrOyBzaGFwZS1yZW5kZXJpbmc6IGF1dG87IiB2aWV3Qm94PSIwIDAgMTAwIDEwMCIgcHJlc2VydmVBc3BlY3RSYXRpbz0ieE1pZFlNaWQiPiAgPGNpcmNsZSBjeD0iNTAiIGN5PSI1MCIgZmlsbD0ibm9uZSIgc3Ryb2tlPSIjYzNjM2MzIiBzdHJva2Utd2lkdGg9IjEwIiByPSIzNSIgc3Ryb2tlLWRhc2hhcnJheT0iMTY0LjkzMzYxNDMxMzQ2NDE1IDU2Ljk3Nzg3MTQzNzgyMTM4Ij4gICAgPGFuaW1hdGVUcmFuc2Zvcm0gYXR0cmlidXRlTmFtZT0idHJhbnNmb3JtIiB0eXBlPSJyb3RhdGUiIHJlcGVhdENvdW50PSJpbmRlZmluaXRlIiBkdXI9IjFzIiB2YWx1ZXM9IjAgNTAgNTA7MzYwIDUwIDUwIiBrZXlUaW1lcz0iMDsxIj48L2FuaW1hdGVUcmFuc2Zvcm0+ICA8L2NpcmNsZT48L3N2Zz4=\\\");\\n  background-size: auto calc(min(50%, 400px));\\n}\",{\"id\":\"p1082\"},{\"id\":\"p1080\"},{\"id\":\"p1081\"}],\"margin\":0,\"sizing_mode\":\"stretch_width\",\"align\":\"start\"}},{\"type\":\"object\",\"name\":\"Figure\",\"id\":\"p1091\",\"attributes\":{\"width\":700,\"height\":300,\"margin\":[5,10],\"sizing_mode\":\"fixed\",\"align\":\"start\",\"x_range\":{\"type\":\"object\",\"name\":\"Range1d\",\"id\":\"p1084\",\"attributes\":{\"tags\":[[[\"date\",\"date\",null]],[]],\"start\":1682553600000.0,\"end\":1684368000000.0,\"reset_start\":1682553600000.0,\"reset_end\":1684368000000.0}},\"y_range\":{\"type\":\"object\",\"name\":\"Range1d\",\"id\":\"p1085\",\"attributes\":{\"tags\":[[[\"ner_index\",\"ner_index\",null]],{\"type\":\"map\",\"entries\":[[\"invert_yaxis\",false],[\"autorange\",false]]}],\"start\":43739.0,\"end\":43775.0,\"reset_start\":43739.0,\"reset_end\":43775.0}},\"x_scale\":{\"type\":\"object\",\"name\":\"LinearScale\",\"id\":\"p1101\"},\"y_scale\":{\"type\":\"object\",\"name\":\"LinearScale\",\"id\":\"p1102\"},\"title\":{\"type\":\"object\",\"name\":\"Title\",\"id\":\"p1094\",\"attributes\":{\"text\":\"Most common NER per day\",\"text_color\":\"black\",\"text_font_size\":\"12pt\"}},\"renderers\":[{\"type\":\"object\",\"name\":\"GlyphRenderer\",\"id\":\"p1143\",\"attributes\":{\"data_source\":{\"type\":\"object\",\"name\":\"ColumnDataSource\",\"id\":\"p1134\",\"attributes\":{\"selected\":{\"type\":\"object\",\"name\":\"Selection\",\"id\":\"p1135\",\"attributes\":{\"indices\":[],\"line_indices\":[]}},\"selection_policy\":{\"type\":\"object\",\"name\":\"UnionRenderers\",\"id\":\"p1136\"},\"data\":{\"type\":\"map\",\"entries\":[[\"date\",{\"type\":\"ndarray\",\"array\":{\"type\":\"bytes\",\"data\":\"AACAJwB8eEIAAECNUnx4QgAAAPOkfHhCAADAWPd8eEIAAIC+SX14QgAAQCScfXhCAAAAiu59eEIAAMDvQH54QgAAgFWTfnhCAABAu+V+eEIAAAAhOH94QgAAwIaKf3hCAACA7Nx/eEIAAEBSL4B4QgAAALiBgHhCAADAHdSAeEIAAICDJoF4QgAAQOl4gXhCAAAAT8uBeEIAAMC0HYJ4QgAAgBpwgnhCAABAgMKCeEI=\"},\"shape\":[22],\"dtype\":\"float64\",\"order\":\"little\"}],[\"ner_index\",{\"type\":\"ndarray\",\"array\":{\"type\":\"bytes\",\"data\":\"/KoAAPyqAAD3qgAA76oAAO+qAADiqgAA/KoAAPyqAADiqgAA/KoAAPyqAAD8qgAA/KoAAPyqAAD8qgAA+6oAAPuqAAD7qgAA+6oAAPuqAAD8qgAA3qoAAA==\"},\"shape\":[22],\"dtype\":\"int32\",\"order\":\"little\"}]]}}},\"view\":{\"type\":\"object\",\"name\":\"CDSView\",\"id\":\"p1144\",\"attributes\":{\"filter\":{\"type\":\"object\",\"name\":\"AllIndices\",\"id\":\"p1145\"}}},\"glyph\":{\"type\":\"object\",\"name\":\"Line\",\"id\":\"p1140\",\"attributes\":{\"tags\":[\"apply_ranges\"],\"x\":{\"type\":\"field\",\"field\":\"date\"},\"y\":{\"type\":\"field\",\"field\":\"ner_index\"},\"line_color\":\"#30a2da\",\"line_width\":2}},\"selection_glyph\":{\"type\":\"object\",\"name\":\"Line\",\"id\":\"p1146\",\"attributes\":{\"tags\":[\"apply_ranges\"],\"x\":{\"type\":\"field\",\"field\":\"date\"},\"y\":{\"type\":\"field\",\"field\":\"ner_index\"},\"line_color\":\"#30a2da\",\"line_width\":2}},\"nonselection_glyph\":{\"type\":\"object\",\"name\":\"Line\",\"id\":\"p1141\",\"attributes\":{\"tags\":[\"apply_ranges\"],\"x\":{\"type\":\"field\",\"field\":\"date\"},\"y\":{\"type\":\"field\",\"field\":\"ner_index\"},\"line_color\":\"#30a2da\",\"line_alpha\":0.1,\"line_width\":2}},\"muted_glyph\":{\"type\":\"object\",\"name\":\"Line\",\"id\":\"p1142\",\"attributes\":{\"tags\":[\"apply_ranges\"],\"x\":{\"type\":\"field\",\"field\":\"date\"},\"y\":{\"type\":\"field\",\"field\":\"ner_index\"},\"line_color\":\"#30a2da\",\"line_alpha\":0.2,\"line_width\":2}}}}],\"toolbar\":{\"type\":\"object\",\"name\":\"Toolbar\",\"id\":\"p1100\",\"attributes\":{\"tools\":[{\"type\":\"object\",\"name\":\"WheelZoomTool\",\"id\":\"p1089\",\"attributes\":{\"tags\":[\"hv_created\"],\"renderers\":\"auto\",\"zoom_together\":\"none\"}},{\"type\":\"object\",\"name\":\"HoverTool\",\"id\":\"p1090\",\"attributes\":{\"tags\":[\"hv_created\"],\"renderers\":[{\"id\":\"p1143\"}],\"tooltips\":[[\"date\",\"@{date}{%F %T}\"],[\"ner_index\",\"@{ner_index}\"]],\"formatters\":{\"type\":\"map\",\"entries\":[[\"@{date}\",\"datetime\"]]}}},{\"type\":\"object\",\"name\":\"SaveTool\",\"id\":\"p1125\"},{\"type\":\"object\",\"name\":\"PanTool\",\"id\":\"p1126\"},{\"type\":\"object\",\"name\":\"BoxZoomTool\",\"id\":\"p1127\",\"attributes\":{\"overlay\":{\"type\":\"object\",\"name\":\"BoxAnnotation\",\"id\":\"p1128\",\"attributes\":{\"syncable\":false,\"level\":\"overlay\",\"visible\":false,\"left\":{\"type\":\"number\",\"value\":\"nan\"},\"right\":{\"type\":\"number\",\"value\":\"nan\"},\"top\":{\"type\":\"number\",\"value\":\"nan\"},\"bottom\":{\"type\":\"number\",\"value\":\"nan\"},\"left_units\":\"canvas\",\"right_units\":\"canvas\",\"top_units\":\"canvas\",\"bottom_units\":\"canvas\",\"line_color\":\"black\",\"line_alpha\":1.0,\"line_width\":2,\"line_dash\":[4,4],\"fill_color\":\"lightgrey\",\"fill_alpha\":0.5}}}},{\"type\":\"object\",\"name\":\"ResetTool\",\"id\":\"p1133\"}],\"active_drag\":{\"id\":\"p1126\"},\"active_scroll\":{\"id\":\"p1089\"}}},\"left\":[{\"type\":\"object\",\"name\":\"LinearAxis\",\"id\":\"p1120\",\"attributes\":{\"ticker\":{\"type\":\"object\",\"name\":\"BasicTicker\",\"id\":\"p1121\",\"attributes\":{\"mantissas\":[1,2,5]}},\"formatter\":{\"type\":\"object\",\"name\":\"BasicTickFormatter\",\"id\":\"p1122\"},\"axis_label\":\"ner_index\",\"major_label_policy\":{\"type\":\"object\",\"name\":\"AllLabels\",\"id\":\"p1123\"}}}],\"below\":[{\"type\":\"object\",\"name\":\"DatetimeAxis\",\"id\":\"p1103\",\"attributes\":{\"ticker\":{\"type\":\"object\",\"name\":\"DatetimeTicker\",\"id\":\"p1104\",\"attributes\":{\"num_minor_ticks\":5,\"tickers\":[{\"type\":\"object\",\"name\":\"AdaptiveTicker\",\"id\":\"p1105\",\"attributes\":{\"num_minor_ticks\":0,\"mantissas\":[1,2,5],\"max_interval\":500.0}},{\"type\":\"object\",\"name\":\"AdaptiveTicker\",\"id\":\"p1106\",\"attributes\":{\"num_minor_ticks\":0,\"base\":60,\"mantissas\":[1,2,5,10,15,20,30],\"min_interval\":1000.0,\"max_interval\":1800000.0}},{\"type\":\"object\",\"name\":\"AdaptiveTicker\",\"id\":\"p1107\",\"attributes\":{\"num_minor_ticks\":0,\"base\":24,\"mantissas\":[1,2,4,6,8,12],\"min_interval\":3600000.0,\"max_interval\":43200000.0}},{\"type\":\"object\",\"name\":\"DaysTicker\",\"id\":\"p1108\",\"attributes\":{\"days\":[1,2,3,4,5,6,7,8,9,10,11,12,13,14,15,16,17,18,19,20,21,22,23,24,25,26,27,28,29,30,31]}},{\"type\":\"object\",\"name\":\"DaysTicker\",\"id\":\"p1109\",\"attributes\":{\"days\":[1,4,7,10,13,16,19,22,25,28]}},{\"type\":\"object\",\"name\":\"DaysTicker\",\"id\":\"p1110\",\"attributes\":{\"days\":[1,8,15,22]}},{\"type\":\"object\",\"name\":\"DaysTicker\",\"id\":\"p1111\",\"attributes\":{\"days\":[1,15]}},{\"type\":\"object\",\"name\":\"MonthsTicker\",\"id\":\"p1112\",\"attributes\":{\"months\":[0,1,2,3,4,5,6,7,8,9,10,11]}},{\"type\":\"object\",\"name\":\"MonthsTicker\",\"id\":\"p1113\",\"attributes\":{\"months\":[0,2,4,6,8,10]}},{\"type\":\"object\",\"name\":\"MonthsTicker\",\"id\":\"p1114\",\"attributes\":{\"months\":[0,4,8]}},{\"type\":\"object\",\"name\":\"MonthsTicker\",\"id\":\"p1115\",\"attributes\":{\"months\":[0,6]}},{\"type\":\"object\",\"name\":\"YearsTicker\",\"id\":\"p1116\"}]}},\"formatter\":{\"type\":\"object\",\"name\":\"DatetimeTickFormatter\",\"id\":\"p1117\"},\"axis_label\":\"date\",\"major_label_policy\":{\"type\":\"object\",\"name\":\"AllLabels\",\"id\":\"p1118\"}}}],\"center\":[{\"type\":\"object\",\"name\":\"Grid\",\"id\":\"p1119\",\"attributes\":{\"axis\":{\"id\":\"p1103\"},\"grid_line_color\":null}},{\"type\":\"object\",\"name\":\"Grid\",\"id\":\"p1124\",\"attributes\":{\"dimension\":1,\"axis\":{\"id\":\"p1120\"},\"grid_line_color\":null}}],\"min_border_top\":10,\"min_border_bottom\":10,\"min_border_left\":10,\"min_border_right\":10,\"output_backend\":\"webgl\"}},{\"type\":\"object\",\"name\":\"Spacer\",\"id\":\"p1148\",\"attributes\":{\"name\":\"HSpacer01055\",\"stylesheets\":[\"\\n:host(.pn-loading.pn-arc):before, .pn-loading.pn-arc:before {\\n  background-image: url(\\\"data:image/svg+xml;base64,PHN2ZyB4bWxucz0iaHR0cDovL3d3dy53My5vcmcvMjAwMC9zdmciIHN0eWxlPSJtYXJnaW46IGF1dG87IGJhY2tncm91bmQ6IG5vbmU7IGRpc3BsYXk6IGJsb2NrOyBzaGFwZS1yZW5kZXJpbmc6IGF1dG87IiB2aWV3Qm94PSIwIDAgMTAwIDEwMCIgcHJlc2VydmVBc3BlY3RSYXRpbz0ieE1pZFlNaWQiPiAgPGNpcmNsZSBjeD0iNTAiIGN5PSI1MCIgZmlsbD0ibm9uZSIgc3Ryb2tlPSIjYzNjM2MzIiBzdHJva2Utd2lkdGg9IjEwIiByPSIzNSIgc3Ryb2tlLWRhc2hhcnJheT0iMTY0LjkzMzYxNDMxMzQ2NDE1IDU2Ljk3Nzg3MTQzNzgyMTM4Ij4gICAgPGFuaW1hdGVUcmFuc2Zvcm0gYXR0cmlidXRlTmFtZT0idHJhbnNmb3JtIiB0eXBlPSJyb3RhdGUiIHJlcGVhdENvdW50PSJpbmRlZmluaXRlIiBkdXI9IjFzIiB2YWx1ZXM9IjAgNTAgNTA7MzYwIDUwIDUwIiBrZXlUaW1lcz0iMDsxIj48L2FuaW1hdGVUcmFuc2Zvcm0+ICA8L2NpcmNsZT48L3N2Zz4=\\\");\\n  background-size: auto calc(min(50%, 400px));\\n}\",{\"id\":\"p1082\"},{\"id\":\"p1080\"},{\"id\":\"p1081\"}],\"margin\":0,\"sizing_mode\":\"stretch_width\",\"align\":\"start\"}}]}}],\"defs\":[{\"type\":\"model\",\"name\":\"ReactiveHTML1\"},{\"type\":\"model\",\"name\":\"FlexBox1\",\"properties\":[{\"name\":\"align_content\",\"kind\":\"Any\",\"default\":\"flex-start\"},{\"name\":\"align_items\",\"kind\":\"Any\",\"default\":\"flex-start\"},{\"name\":\"flex_direction\",\"kind\":\"Any\",\"default\":\"row\"},{\"name\":\"flex_wrap\",\"kind\":\"Any\",\"default\":\"wrap\"},{\"name\":\"justify_content\",\"kind\":\"Any\",\"default\":\"flex-start\"}]},{\"type\":\"model\",\"name\":\"FloatPanel1\",\"properties\":[{\"name\":\"config\",\"kind\":\"Any\",\"default\":{\"type\":\"map\"}},{\"name\":\"contained\",\"kind\":\"Any\",\"default\":true},{\"name\":\"position\",\"kind\":\"Any\",\"default\":\"right-top\"},{\"name\":\"offsetx\",\"kind\":\"Any\",\"default\":null},{\"name\":\"offsety\",\"kind\":\"Any\",\"default\":null},{\"name\":\"theme\",\"kind\":\"Any\",\"default\":\"primary\"},{\"name\":\"status\",\"kind\":\"Any\",\"default\":\"normalized\"}]},{\"type\":\"model\",\"name\":\"GridStack1\",\"properties\":[{\"name\":\"mode\",\"kind\":\"Any\",\"default\":\"warn\"},{\"name\":\"ncols\",\"kind\":\"Any\",\"default\":null},{\"name\":\"nrows\",\"kind\":\"Any\",\"default\":null},{\"name\":\"allow_resize\",\"kind\":\"Any\",\"default\":true},{\"name\":\"allow_drag\",\"kind\":\"Any\",\"default\":true},{\"name\":\"state\",\"kind\":\"Any\",\"default\":[]}]},{\"type\":\"model\",\"name\":\"drag1\",\"properties\":[{\"name\":\"slider_width\",\"kind\":\"Any\",\"default\":5},{\"name\":\"slider_color\",\"kind\":\"Any\",\"default\":\"black\"},{\"name\":\"value\",\"kind\":\"Any\",\"default\":50}]},{\"type\":\"model\",\"name\":\"click1\",\"properties\":[{\"name\":\"terminal_output\",\"kind\":\"Any\",\"default\":\"\"},{\"name\":\"debug_name\",\"kind\":\"Any\",\"default\":\"\"},{\"name\":\"clears\",\"kind\":\"Any\",\"default\":0}]},{\"type\":\"model\",\"name\":\"copy_to_clipboard1\",\"properties\":[{\"name\":\"fill\",\"kind\":\"Any\",\"default\":\"none\"},{\"name\":\"value\",\"kind\":\"Any\",\"default\":null}]},{\"type\":\"model\",\"name\":\"FastWrapper1\",\"properties\":[{\"name\":\"object\",\"kind\":\"Any\",\"default\":null},{\"name\":\"style\",\"kind\":\"Any\",\"default\":null}]},{\"type\":\"model\",\"name\":\"NotificationAreaBase1\",\"properties\":[{\"name\":\"js_events\",\"kind\":\"Any\",\"default\":{\"type\":\"map\"}},{\"name\":\"position\",\"kind\":\"Any\",\"default\":\"bottom-right\"},{\"name\":\"_clear\",\"kind\":\"Any\",\"default\":0}]},{\"type\":\"model\",\"name\":\"NotificationArea1\",\"properties\":[{\"name\":\"js_events\",\"kind\":\"Any\",\"default\":{\"type\":\"map\"}},{\"name\":\"notifications\",\"kind\":\"Any\",\"default\":[]},{\"name\":\"position\",\"kind\":\"Any\",\"default\":\"bottom-right\"},{\"name\":\"_clear\",\"kind\":\"Any\",\"default\":0},{\"name\":\"types\",\"kind\":\"Any\",\"default\":[{\"type\":\"map\",\"entries\":[[\"type\",\"warning\"],[\"background\",\"#ffc107\"],[\"icon\",{\"type\":\"map\",\"entries\":[[\"className\",\"fas fa-exclamation-triangle\"],[\"tagName\",\"i\"],[\"color\",\"white\"]]}]]},{\"type\":\"map\",\"entries\":[[\"type\",\"info\"],[\"background\",\"#007bff\"],[\"icon\",{\"type\":\"map\",\"entries\":[[\"className\",\"fas fa-info-circle\"],[\"tagName\",\"i\"],[\"color\",\"white\"]]}]]}]}]},{\"type\":\"model\",\"name\":\"Notification\",\"properties\":[{\"name\":\"background\",\"kind\":\"Any\",\"default\":null},{\"name\":\"duration\",\"kind\":\"Any\",\"default\":3000},{\"name\":\"icon\",\"kind\":\"Any\",\"default\":null},{\"name\":\"message\",\"kind\":\"Any\",\"default\":\"\"},{\"name\":\"notification_type\",\"kind\":\"Any\",\"default\":null},{\"name\":\"_destroyed\",\"kind\":\"Any\",\"default\":false}]},{\"type\":\"model\",\"name\":\"TemplateActions1\",\"properties\":[{\"name\":\"open_modal\",\"kind\":\"Any\",\"default\":0},{\"name\":\"close_modal\",\"kind\":\"Any\",\"default\":0}]},{\"type\":\"model\",\"name\":\"BootstrapTemplateActions1\",\"properties\":[{\"name\":\"open_modal\",\"kind\":\"Any\",\"default\":0},{\"name\":\"close_modal\",\"kind\":\"Any\",\"default\":0}]},{\"type\":\"model\",\"name\":\"MaterialTemplateActions1\",\"properties\":[{\"name\":\"open_modal\",\"kind\":\"Any\",\"default\":0},{\"name\":\"close_modal\",\"kind\":\"Any\",\"default\":0}]}]}};\n",
       "  var render_items = [{\"docid\":\"3dfee5f6-3774-4dce-a157-93ff9e470149\",\"roots\":{\"p1079\":\"dcd123b0-baa0-4ef7-9be0-b032befd7412\"},\"root_ids\":[\"p1079\"]}];\n",
       "  var docs = Object.values(docs_json)\n",
       "  if (!docs) {\n",
       "    return\n",
       "  }\n",
       "  const py_version = docs[0].version.replace('rc', '-rc.').replace('.dev', '-dev.')\n",
       "  function embed_document(root) {\n",
       "    var Bokeh = get_bokeh(root)\n",
       "    Bokeh.embed.embed_items_notebook(docs_json, render_items);\n",
       "    for (const render_item of render_items) {\n",
       "      for (const root_id of render_item.root_ids) {\n",
       "\tconst id_el = document.getElementById(root_id)\n",
       "\tif (id_el.children.length && (id_el.children[0].className === 'bk-root')) {\n",
       "\t  const root_el = id_el.children[0]\n",
       "\t  root_el.id = root_el.id + '-rendered'\n",
       "\t}\n",
       "      }\n",
       "    }\n",
       "  }\n",
       "  function get_bokeh(root) {\n",
       "    if (root.Bokeh === undefined) {\n",
       "      return null\n",
       "    } else if (root.Bokeh.version !== py_version) {\n",
       "      if (root.Bokeh.versions === undefined || !root.Bokeh.versions.has(py_version)) {\n",
       "\treturn null\n",
       "      }\n",
       "      return root.Bokeh.versions.get(py_version);\n",
       "    } else if (root.Bokeh.version === py_version) {\n",
       "      return root.Bokeh\n",
       "    }\n",
       "    return null\n",
       "  }\n",
       "  function is_loaded(root) {\n",
       "    var Bokeh = get_bokeh(root)\n",
       "    return (Bokeh != null && Bokeh.Panel !== undefined)\n",
       "  }\n",
       "  if (is_loaded(root)) {\n",
       "    embed_document(root);\n",
       "  } else {\n",
       "    var attempts = 0;\n",
       "    var timer = setInterval(function(root) {\n",
       "      if (is_loaded(root)) {\n",
       "        clearInterval(timer);\n",
       "        embed_document(root);\n",
       "      } else if (document.readyState == \"complete\") {\n",
       "        attempts++;\n",
       "        if (attempts > 200) {\n",
       "          clearInterval(timer);\n",
       "\t  var Bokeh = get_bokeh(root)\n",
       "\t  if (Bokeh == null || Bokeh.Panel == null) {\n",
       "            console.warn(\"Panel: ERROR: Unable to run Panel code because Bokeh or Panel library is missing\");\n",
       "\t  } else {\n",
       "\t    console.warn(\"Panel: WARNING: Attempting to render but not all required libraries could be resolved.\")\n",
       "\t    embed_document(root)\n",
       "\t  }\n",
       "        }\n",
       "      }\n",
       "    }, 25, root)\n",
       "  }\n",
       "})(window);</script>"
      ],
      "text/plain": [
       ":Curve   [date]   (ner_index)"
      ]
     },
     "execution_count": 26,
     "metadata": {
      "application/vnd.holoviews_exec.v0+json": {
       "id": "p1079"
      }
     },
     "output_type": "execute_result"
    }
   ],
   "source": [
    "most_common_ner_per_day.plot('date', 'ner_index', kind='line', title='Most common NER per day')"
   ]
  },
  {
   "cell_type": "code",
   "execution_count": 27,
   "metadata": {},
   "outputs": [
    {
     "data": {},
     "metadata": {},
     "output_type": "display_data"
    },
    {
     "data": {
      "application/vnd.holoviews_exec.v0+json": "",
      "text/html": [
       "<div id='p1154'>\n",
       "  <div id=\"cfe90f04-fe98-417a-9cf1-c7c28b9b8d4b\" data-root-id=\"p1154\" style=\"display: contents;\"></div>\n",
       "</div>\n",
       "<script type=\"application/javascript\">(function(root) {\n",
       "  var docs_json = {\"1ecd822e-14b9-4831-a2e9-9cf5df5e777b\":{\"version\":\"3.3.4\",\"title\":\"Bokeh Application\",\"roots\":[{\"type\":\"object\",\"name\":\"Row\",\"id\":\"p1154\",\"attributes\":{\"name\":\"Row01156\",\"tags\":[\"embedded\"],\"stylesheets\":[\"\\n:host(.pn-loading.pn-arc):before, .pn-loading.pn-arc:before {\\n  background-image: url(\\\"data:image/svg+xml;base64,PHN2ZyB4bWxucz0iaHR0cDovL3d3dy53My5vcmcvMjAwMC9zdmciIHN0eWxlPSJtYXJnaW46IGF1dG87IGJhY2tncm91bmQ6IG5vbmU7IGRpc3BsYXk6IGJsb2NrOyBzaGFwZS1yZW5kZXJpbmc6IGF1dG87IiB2aWV3Qm94PSIwIDAgMTAwIDEwMCIgcHJlc2VydmVBc3BlY3RSYXRpbz0ieE1pZFlNaWQiPiAgPGNpcmNsZSBjeD0iNTAiIGN5PSI1MCIgZmlsbD0ibm9uZSIgc3Ryb2tlPSIjYzNjM2MzIiBzdHJva2Utd2lkdGg9IjEwIiByPSIzNSIgc3Ryb2tlLWRhc2hhcnJheT0iMTY0LjkzMzYxNDMxMzQ2NDE1IDU2Ljk3Nzg3MTQzNzgyMTM4Ij4gICAgPGFuaW1hdGVUcmFuc2Zvcm0gYXR0cmlidXRlTmFtZT0idHJhbnNmb3JtIiB0eXBlPSJyb3RhdGUiIHJlcGVhdENvdW50PSJpbmRlZmluaXRlIiBkdXI9IjFzIiB2YWx1ZXM9IjAgNTAgNTA7MzYwIDUwIDUwIiBrZXlUaW1lcz0iMDsxIj48L2FuaW1hdGVUcmFuc2Zvcm0+ICA8L2NpcmNsZT48L3N2Zz4=\\\");\\n  background-size: auto calc(min(50%, 400px));\\n}\",{\"type\":\"object\",\"name\":\"ImportedStyleSheet\",\"id\":\"p1157\",\"attributes\":{\"url\":\"https://cdn.holoviz.org/panel/1.3.8/dist/css/loading.css\"}},{\"type\":\"object\",\"name\":\"ImportedStyleSheet\",\"id\":\"p1225\",\"attributes\":{\"url\":\"https://cdn.holoviz.org/panel/1.3.8/dist/css/listpanel.css\"}},{\"type\":\"object\",\"name\":\"ImportedStyleSheet\",\"id\":\"p1155\",\"attributes\":{\"url\":\"https://cdn.holoviz.org/panel/1.3.8/dist/bundled/theme/default.css\"}},{\"type\":\"object\",\"name\":\"ImportedStyleSheet\",\"id\":\"p1156\",\"attributes\":{\"url\":\"https://cdn.holoviz.org/panel/1.3.8/dist/bundled/theme/native.css\"}}],\"min_width\":700,\"margin\":0,\"sizing_mode\":\"stretch_width\",\"align\":\"start\",\"children\":[{\"type\":\"object\",\"name\":\"Spacer\",\"id\":\"p1158\",\"attributes\":{\"name\":\"HSpacer01163\",\"stylesheets\":[\"\\n:host(.pn-loading.pn-arc):before, .pn-loading.pn-arc:before {\\n  background-image: url(\\\"data:image/svg+xml;base64,PHN2ZyB4bWxucz0iaHR0cDovL3d3dy53My5vcmcvMjAwMC9zdmciIHN0eWxlPSJtYXJnaW46IGF1dG87IGJhY2tncm91bmQ6IG5vbmU7IGRpc3BsYXk6IGJsb2NrOyBzaGFwZS1yZW5kZXJpbmc6IGF1dG87IiB2aWV3Qm94PSIwIDAgMTAwIDEwMCIgcHJlc2VydmVBc3BlY3RSYXRpbz0ieE1pZFlNaWQiPiAgPGNpcmNsZSBjeD0iNTAiIGN5PSI1MCIgZmlsbD0ibm9uZSIgc3Ryb2tlPSIjYzNjM2MzIiBzdHJva2Utd2lkdGg9IjEwIiByPSIzNSIgc3Ryb2tlLWRhc2hhcnJheT0iMTY0LjkzMzYxNDMxMzQ2NDE1IDU2Ljk3Nzg3MTQzNzgyMTM4Ij4gICAgPGFuaW1hdGVUcmFuc2Zvcm0gYXR0cmlidXRlTmFtZT0idHJhbnNmb3JtIiB0eXBlPSJyb3RhdGUiIHJlcGVhdENvdW50PSJpbmRlZmluaXRlIiBkdXI9IjFzIiB2YWx1ZXM9IjAgNTAgNTA7MzYwIDUwIDUwIiBrZXlUaW1lcz0iMDsxIj48L2FuaW1hdGVUcmFuc2Zvcm0+ICA8L2NpcmNsZT48L3N2Zz4=\\\");\\n  background-size: auto calc(min(50%, 400px));\\n}\",{\"id\":\"p1157\"},{\"id\":\"p1155\"},{\"id\":\"p1156\"}],\"margin\":0,\"sizing_mode\":\"stretch_width\",\"align\":\"start\"}},{\"type\":\"object\",\"name\":\"Figure\",\"id\":\"p1166\",\"attributes\":{\"width\":700,\"height\":300,\"margin\":[5,10],\"sizing_mode\":\"fixed\",\"align\":\"start\",\"x_range\":{\"type\":\"object\",\"name\":\"Range1d\",\"id\":\"p1159\",\"attributes\":{\"tags\":[[[\"date\",\"date\",null]],[]],\"start\":1682553600000.0,\"end\":1684368000000.0,\"reset_start\":1682553600000.0,\"reset_end\":1684368000000.0}},\"y_range\":{\"type\":\"object\",\"name\":\"Range1d\",\"id\":\"p1160\",\"attributes\":{\"tags\":[[[\"ner_index\",\"ner_index\",null]],{\"type\":\"map\",\"entries\":[[\"invert_yaxis\",false],[\"autorange\",false]]}],\"start\":43249.5,\"end\":43819.5,\"reset_start\":43249.5,\"reset_end\":43819.5}},\"x_scale\":{\"type\":\"object\",\"name\":\"LinearScale\",\"id\":\"p1176\"},\"y_scale\":{\"type\":\"object\",\"name\":\"LinearScale\",\"id\":\"p1177\"},\"title\":{\"type\":\"object\",\"name\":\"Title\",\"id\":\"p1169\",\"attributes\":{\"text\":\"Most common NER per hour\",\"text_color\":\"black\",\"text_font_size\":\"12pt\"}},\"renderers\":[{\"type\":\"object\",\"name\":\"GlyphRenderer\",\"id\":\"p1218\",\"attributes\":{\"data_source\":{\"type\":\"object\",\"name\":\"ColumnDataSource\",\"id\":\"p1209\",\"attributes\":{\"selected\":{\"type\":\"object\",\"name\":\"Selection\",\"id\":\"p1210\",\"attributes\":{\"indices\":[],\"line_indices\":[]}},\"selection_policy\":{\"type\":\"object\",\"name\":\"UnionRenderers\",\"id\":\"p1211\"},\"data\":{\"type\":\"map\",\"entries\":[[\"date\",{\"type\":\"ndarray\",\"array\":{\"type\":\"bytes\",\"data\":\"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\"},\"shape\":[503],\"dtype\":\"float64\",\"order\":\"little\"}],[\"ner_index\",{\"type\":\"ndarray\",\"array\":{\"type\":\"bytes\",\"data\":\"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\"},\"shape\":[503],\"dtype\":\"int32\",\"order\":\"little\"}]]}}},\"view\":{\"type\":\"object\",\"name\":\"CDSView\",\"id\":\"p1219\",\"attributes\":{\"filter\":{\"type\":\"object\",\"name\":\"AllIndices\",\"id\":\"p1220\"}}},\"glyph\":{\"type\":\"object\",\"name\":\"Line\",\"id\":\"p1215\",\"attributes\":{\"tags\":[\"apply_ranges\"],\"x\":{\"type\":\"field\",\"field\":\"date\"},\"y\":{\"type\":\"field\",\"field\":\"ner_index\"},\"line_color\":\"#30a2da\",\"line_width\":2}},\"selection_glyph\":{\"type\":\"object\",\"name\":\"Line\",\"id\":\"p1221\",\"attributes\":{\"tags\":[\"apply_ranges\"],\"x\":{\"type\":\"field\",\"field\":\"date\"},\"y\":{\"type\":\"field\",\"field\":\"ner_index\"},\"line_color\":\"#30a2da\",\"line_width\":2}},\"nonselection_glyph\":{\"type\":\"object\",\"name\":\"Line\",\"id\":\"p1216\",\"attributes\":{\"tags\":[\"apply_ranges\"],\"x\":{\"type\":\"field\",\"field\":\"date\"},\"y\":{\"type\":\"field\",\"field\":\"ner_index\"},\"line_color\":\"#30a2da\",\"line_alpha\":0.1,\"line_width\":2}},\"muted_glyph\":{\"type\":\"object\",\"name\":\"Line\",\"id\":\"p1217\",\"attributes\":{\"tags\":[\"apply_ranges\"],\"x\":{\"type\":\"field\",\"field\":\"date\"},\"y\":{\"type\":\"field\",\"field\":\"ner_index\"},\"line_color\":\"#30a2da\",\"line_alpha\":0.2,\"line_width\":2}}}}],\"toolbar\":{\"type\":\"object\",\"name\":\"Toolbar\",\"id\":\"p1175\",\"attributes\":{\"tools\":[{\"type\":\"object\",\"name\":\"WheelZoomTool\",\"id\":\"p1164\",\"attributes\":{\"tags\":[\"hv_created\"],\"renderers\":\"auto\",\"zoom_together\":\"none\"}},{\"type\":\"object\",\"name\":\"HoverTool\",\"id\":\"p1165\",\"attributes\":{\"tags\":[\"hv_created\"],\"renderers\":[{\"id\":\"p1218\"}],\"tooltips\":[[\"date\",\"@{date}{%F %T}\"],[\"ner_index\",\"@{ner_index}\"]],\"formatters\":{\"type\":\"map\",\"entries\":[[\"@{date}\",\"datetime\"]]}}},{\"type\":\"object\",\"name\":\"SaveTool\",\"id\":\"p1200\"},{\"type\":\"object\",\"name\":\"PanTool\",\"id\":\"p1201\"},{\"type\":\"object\",\"name\":\"BoxZoomTool\",\"id\":\"p1202\",\"attributes\":{\"overlay\":{\"type\":\"object\",\"name\":\"BoxAnnotation\",\"id\":\"p1203\",\"attributes\":{\"syncable\":false,\"level\":\"overlay\",\"visible\":false,\"left\":{\"type\":\"number\",\"value\":\"nan\"},\"right\":{\"type\":\"number\",\"value\":\"nan\"},\"top\":{\"type\":\"number\",\"value\":\"nan\"},\"bottom\":{\"type\":\"number\",\"value\":\"nan\"},\"left_units\":\"canvas\",\"right_units\":\"canvas\",\"top_units\":\"canvas\",\"bottom_units\":\"canvas\",\"line_color\":\"black\",\"line_alpha\":1.0,\"line_width\":2,\"line_dash\":[4,4],\"fill_color\":\"lightgrey\",\"fill_alpha\":0.5}}}},{\"type\":\"object\",\"name\":\"ResetTool\",\"id\":\"p1208\"}],\"active_drag\":{\"id\":\"p1201\"},\"active_scroll\":{\"id\":\"p1164\"}}},\"left\":[{\"type\":\"object\",\"name\":\"LinearAxis\",\"id\":\"p1195\",\"attributes\":{\"ticker\":{\"type\":\"object\",\"name\":\"BasicTicker\",\"id\":\"p1196\",\"attributes\":{\"mantissas\":[1,2,5]}},\"formatter\":{\"type\":\"object\",\"name\":\"BasicTickFormatter\",\"id\":\"p1197\"},\"axis_label\":\"ner_index\",\"major_label_policy\":{\"type\":\"object\",\"name\":\"AllLabels\",\"id\":\"p1198\"}}}],\"below\":[{\"type\":\"object\",\"name\":\"DatetimeAxis\",\"id\":\"p1178\",\"attributes\":{\"ticker\":{\"type\":\"object\",\"name\":\"DatetimeTicker\",\"id\":\"p1179\",\"attributes\":{\"num_minor_ticks\":5,\"tickers\":[{\"type\":\"object\",\"name\":\"AdaptiveTicker\",\"id\":\"p1180\",\"attributes\":{\"num_minor_ticks\":0,\"mantissas\":[1,2,5],\"max_interval\":500.0}},{\"type\":\"object\",\"name\":\"AdaptiveTicker\",\"id\":\"p1181\",\"attributes\":{\"num_minor_ticks\":0,\"base\":60,\"mantissas\":[1,2,5,10,15,20,30],\"min_interval\":1000.0,\"max_interval\":1800000.0}},{\"type\":\"object\",\"name\":\"AdaptiveTicker\",\"id\":\"p1182\",\"attributes\":{\"num_minor_ticks\":0,\"base\":24,\"mantissas\":[1,2,4,6,8,12],\"min_interval\":3600000.0,\"max_interval\":43200000.0}},{\"type\":\"object\",\"name\":\"DaysTicker\",\"id\":\"p1183\",\"attributes\":{\"days\":[1,2,3,4,5,6,7,8,9,10,11,12,13,14,15,16,17,18,19,20,21,22,23,24,25,26,27,28,29,30,31]}},{\"type\":\"object\",\"name\":\"DaysTicker\",\"id\":\"p1184\",\"attributes\":{\"days\":[1,4,7,10,13,16,19,22,25,28]}},{\"type\":\"object\",\"name\":\"DaysTicker\",\"id\":\"p1185\",\"attributes\":{\"days\":[1,8,15,22]}},{\"type\":\"object\",\"name\":\"DaysTicker\",\"id\":\"p1186\",\"attributes\":{\"days\":[1,15]}},{\"type\":\"object\",\"name\":\"MonthsTicker\",\"id\":\"p1187\",\"attributes\":{\"months\":[0,1,2,3,4,5,6,7,8,9,10,11]}},{\"type\":\"object\",\"name\":\"MonthsTicker\",\"id\":\"p1188\",\"attributes\":{\"months\":[0,2,4,6,8,10]}},{\"type\":\"object\",\"name\":\"MonthsTicker\",\"id\":\"p1189\",\"attributes\":{\"months\":[0,4,8]}},{\"type\":\"object\",\"name\":\"MonthsTicker\",\"id\":\"p1190\",\"attributes\":{\"months\":[0,6]}},{\"type\":\"object\",\"name\":\"YearsTicker\",\"id\":\"p1191\"}]}},\"formatter\":{\"type\":\"object\",\"name\":\"DatetimeTickFormatter\",\"id\":\"p1192\"},\"axis_label\":\"date\",\"major_label_policy\":{\"type\":\"object\",\"name\":\"AllLabels\",\"id\":\"p1193\"}}}],\"center\":[{\"type\":\"object\",\"name\":\"Grid\",\"id\":\"p1194\",\"attributes\":{\"axis\":{\"id\":\"p1178\"},\"grid_line_color\":null}},{\"type\":\"object\",\"name\":\"Grid\",\"id\":\"p1199\",\"attributes\":{\"dimension\":1,\"axis\":{\"id\":\"p1195\"},\"grid_line_color\":null}}],\"min_border_top\":10,\"min_border_bottom\":10,\"min_border_left\":10,\"min_border_right\":10,\"output_backend\":\"webgl\"}},{\"type\":\"object\",\"name\":\"Spacer\",\"id\":\"p1223\",\"attributes\":{\"name\":\"HSpacer01164\",\"stylesheets\":[\"\\n:host(.pn-loading.pn-arc):before, .pn-loading.pn-arc:before {\\n  background-image: url(\\\"data:image/svg+xml;base64,PHN2ZyB4bWxucz0iaHR0cDovL3d3dy53My5vcmcvMjAwMC9zdmciIHN0eWxlPSJtYXJnaW46IGF1dG87IGJhY2tncm91bmQ6IG5vbmU7IGRpc3BsYXk6IGJsb2NrOyBzaGFwZS1yZW5kZXJpbmc6IGF1dG87IiB2aWV3Qm94PSIwIDAgMTAwIDEwMCIgcHJlc2VydmVBc3BlY3RSYXRpbz0ieE1pZFlNaWQiPiAgPGNpcmNsZSBjeD0iNTAiIGN5PSI1MCIgZmlsbD0ibm9uZSIgc3Ryb2tlPSIjYzNjM2MzIiBzdHJva2Utd2lkdGg9IjEwIiByPSIzNSIgc3Ryb2tlLWRhc2hhcnJheT0iMTY0LjkzMzYxNDMxMzQ2NDE1IDU2Ljk3Nzg3MTQzNzgyMTM4Ij4gICAgPGFuaW1hdGVUcmFuc2Zvcm0gYXR0cmlidXRlTmFtZT0idHJhbnNmb3JtIiB0eXBlPSJyb3RhdGUiIHJlcGVhdENvdW50PSJpbmRlZmluaXRlIiBkdXI9IjFzIiB2YWx1ZXM9IjAgNTAgNTA7MzYwIDUwIDUwIiBrZXlUaW1lcz0iMDsxIj48L2FuaW1hdGVUcmFuc2Zvcm0+ICA8L2NpcmNsZT48L3N2Zz4=\\\");\\n  background-size: auto calc(min(50%, 400px));\\n}\",{\"id\":\"p1157\"},{\"id\":\"p1155\"},{\"id\":\"p1156\"}],\"margin\":0,\"sizing_mode\":\"stretch_width\",\"align\":\"start\"}}]}}],\"defs\":[{\"type\":\"model\",\"name\":\"ReactiveHTML1\"},{\"type\":\"model\",\"name\":\"FlexBox1\",\"properties\":[{\"name\":\"align_content\",\"kind\":\"Any\",\"default\":\"flex-start\"},{\"name\":\"align_items\",\"kind\":\"Any\",\"default\":\"flex-start\"},{\"name\":\"flex_direction\",\"kind\":\"Any\",\"default\":\"row\"},{\"name\":\"flex_wrap\",\"kind\":\"Any\",\"default\":\"wrap\"},{\"name\":\"justify_content\",\"kind\":\"Any\",\"default\":\"flex-start\"}]},{\"type\":\"model\",\"name\":\"FloatPanel1\",\"properties\":[{\"name\":\"config\",\"kind\":\"Any\",\"default\":{\"type\":\"map\"}},{\"name\":\"contained\",\"kind\":\"Any\",\"default\":true},{\"name\":\"position\",\"kind\":\"Any\",\"default\":\"right-top\"},{\"name\":\"offsetx\",\"kind\":\"Any\",\"default\":null},{\"name\":\"offsety\",\"kind\":\"Any\",\"default\":null},{\"name\":\"theme\",\"kind\":\"Any\",\"default\":\"primary\"},{\"name\":\"status\",\"kind\":\"Any\",\"default\":\"normalized\"}]},{\"type\":\"model\",\"name\":\"GridStack1\",\"properties\":[{\"name\":\"mode\",\"kind\":\"Any\",\"default\":\"warn\"},{\"name\":\"ncols\",\"kind\":\"Any\",\"default\":null},{\"name\":\"nrows\",\"kind\":\"Any\",\"default\":null},{\"name\":\"allow_resize\",\"kind\":\"Any\",\"default\":true},{\"name\":\"allow_drag\",\"kind\":\"Any\",\"default\":true},{\"name\":\"state\",\"kind\":\"Any\",\"default\":[]}]},{\"type\":\"model\",\"name\":\"drag1\",\"properties\":[{\"name\":\"slider_width\",\"kind\":\"Any\",\"default\":5},{\"name\":\"slider_color\",\"kind\":\"Any\",\"default\":\"black\"},{\"name\":\"value\",\"kind\":\"Any\",\"default\":50}]},{\"type\":\"model\",\"name\":\"click1\",\"properties\":[{\"name\":\"terminal_output\",\"kind\":\"Any\",\"default\":\"\"},{\"name\":\"debug_name\",\"kind\":\"Any\",\"default\":\"\"},{\"name\":\"clears\",\"kind\":\"Any\",\"default\":0}]},{\"type\":\"model\",\"name\":\"copy_to_clipboard1\",\"properties\":[{\"name\":\"fill\",\"kind\":\"Any\",\"default\":\"none\"},{\"name\":\"value\",\"kind\":\"Any\",\"default\":null}]},{\"type\":\"model\",\"name\":\"FastWrapper1\",\"properties\":[{\"name\":\"object\",\"kind\":\"Any\",\"default\":null},{\"name\":\"style\",\"kind\":\"Any\",\"default\":null}]},{\"type\":\"model\",\"name\":\"NotificationAreaBase1\",\"properties\":[{\"name\":\"js_events\",\"kind\":\"Any\",\"default\":{\"type\":\"map\"}},{\"name\":\"position\",\"kind\":\"Any\",\"default\":\"bottom-right\"},{\"name\":\"_clear\",\"kind\":\"Any\",\"default\":0}]},{\"type\":\"model\",\"name\":\"NotificationArea1\",\"properties\":[{\"name\":\"js_events\",\"kind\":\"Any\",\"default\":{\"type\":\"map\"}},{\"name\":\"notifications\",\"kind\":\"Any\",\"default\":[]},{\"name\":\"position\",\"kind\":\"Any\",\"default\":\"bottom-right\"},{\"name\":\"_clear\",\"kind\":\"Any\",\"default\":0},{\"name\":\"types\",\"kind\":\"Any\",\"default\":[{\"type\":\"map\",\"entries\":[[\"type\",\"warning\"],[\"background\",\"#ffc107\"],[\"icon\",{\"type\":\"map\",\"entries\":[[\"className\",\"fas fa-exclamation-triangle\"],[\"tagName\",\"i\"],[\"color\",\"white\"]]}]]},{\"type\":\"map\",\"entries\":[[\"type\",\"info\"],[\"background\",\"#007bff\"],[\"icon\",{\"type\":\"map\",\"entries\":[[\"className\",\"fas fa-info-circle\"],[\"tagName\",\"i\"],[\"color\",\"white\"]]}]]}]}]},{\"type\":\"model\",\"name\":\"Notification\",\"properties\":[{\"name\":\"background\",\"kind\":\"Any\",\"default\":null},{\"name\":\"duration\",\"kind\":\"Any\",\"default\":3000},{\"name\":\"icon\",\"kind\":\"Any\",\"default\":null},{\"name\":\"message\",\"kind\":\"Any\",\"default\":\"\"},{\"name\":\"notification_type\",\"kind\":\"Any\",\"default\":null},{\"name\":\"_destroyed\",\"kind\":\"Any\",\"default\":false}]},{\"type\":\"model\",\"name\":\"TemplateActions1\",\"properties\":[{\"name\":\"open_modal\",\"kind\":\"Any\",\"default\":0},{\"name\":\"close_modal\",\"kind\":\"Any\",\"default\":0}]},{\"type\":\"model\",\"name\":\"BootstrapTemplateActions1\",\"properties\":[{\"name\":\"open_modal\",\"kind\":\"Any\",\"default\":0},{\"name\":\"close_modal\",\"kind\":\"Any\",\"default\":0}]},{\"type\":\"model\",\"name\":\"MaterialTemplateActions1\",\"properties\":[{\"name\":\"open_modal\",\"kind\":\"Any\",\"default\":0},{\"name\":\"close_modal\",\"kind\":\"Any\",\"default\":0}]}]}};\n",
       "  var render_items = [{\"docid\":\"1ecd822e-14b9-4831-a2e9-9cf5df5e777b\",\"roots\":{\"p1154\":\"cfe90f04-fe98-417a-9cf1-c7c28b9b8d4b\"},\"root_ids\":[\"p1154\"]}];\n",
       "  var docs = Object.values(docs_json)\n",
       "  if (!docs) {\n",
       "    return\n",
       "  }\n",
       "  const py_version = docs[0].version.replace('rc', '-rc.').replace('.dev', '-dev.')\n",
       "  function embed_document(root) {\n",
       "    var Bokeh = get_bokeh(root)\n",
       "    Bokeh.embed.embed_items_notebook(docs_json, render_items);\n",
       "    for (const render_item of render_items) {\n",
       "      for (const root_id of render_item.root_ids) {\n",
       "\tconst id_el = document.getElementById(root_id)\n",
       "\tif (id_el.children.length && (id_el.children[0].className === 'bk-root')) {\n",
       "\t  const root_el = id_el.children[0]\n",
       "\t  root_el.id = root_el.id + '-rendered'\n",
       "\t}\n",
       "      }\n",
       "    }\n",
       "  }\n",
       "  function get_bokeh(root) {\n",
       "    if (root.Bokeh === undefined) {\n",
       "      return null\n",
       "    } else if (root.Bokeh.version !== py_version) {\n",
       "      if (root.Bokeh.versions === undefined || !root.Bokeh.versions.has(py_version)) {\n",
       "\treturn null\n",
       "      }\n",
       "      return root.Bokeh.versions.get(py_version);\n",
       "    } else if (root.Bokeh.version === py_version) {\n",
       "      return root.Bokeh\n",
       "    }\n",
       "    return null\n",
       "  }\n",
       "  function is_loaded(root) {\n",
       "    var Bokeh = get_bokeh(root)\n",
       "    return (Bokeh != null && Bokeh.Panel !== undefined)\n",
       "  }\n",
       "  if (is_loaded(root)) {\n",
       "    embed_document(root);\n",
       "  } else {\n",
       "    var attempts = 0;\n",
       "    var timer = setInterval(function(root) {\n",
       "      if (is_loaded(root)) {\n",
       "        clearInterval(timer);\n",
       "        embed_document(root);\n",
       "      } else if (document.readyState == \"complete\") {\n",
       "        attempts++;\n",
       "        if (attempts > 200) {\n",
       "          clearInterval(timer);\n",
       "\t  var Bokeh = get_bokeh(root)\n",
       "\t  if (Bokeh == null || Bokeh.Panel == null) {\n",
       "            console.warn(\"Panel: ERROR: Unable to run Panel code because Bokeh or Panel library is missing\");\n",
       "\t  } else {\n",
       "\t    console.warn(\"Panel: WARNING: Attempting to render but not all required libraries could be resolved.\")\n",
       "\t    embed_document(root)\n",
       "\t  }\n",
       "        }\n",
       "      }\n",
       "    }, 25, root)\n",
       "  }\n",
       "})(window);</script>"
      ],
      "text/plain": [
       ":Curve   [date]   (ner_index)"
      ]
     },
     "execution_count": 27,
     "metadata": {
      "application/vnd.holoviews_exec.v0+json": {
       "id": "p1154"
      }
     },
     "output_type": "execute_result"
    }
   ],
   "source": [
    "most_common_ner_per_hour.plot(x='date', y='ner_index', kind='line', title='Most common NER per hour')"
   ]
  },
  {
   "cell_type": "code",
   "execution_count": null,
   "metadata": {},
   "outputs": [],
   "source": []
  }
 ],
 "metadata": {
  "kernelspec": {
   "display_name": ".venv",
   "language": "python",
   "name": "python3"
  },
  "language_info": {
   "codemirror_mode": {
    "name": "ipython",
    "version": 3
   },
   "file_extension": ".py",
   "mimetype": "text/x-python",
   "name": "python",
   "nbconvert_exporter": "python",
   "pygments_lexer": "ipython3",
   "version": "3.11.8"
  }
 },
 "nbformat": 4,
 "nbformat_minor": 2
}
