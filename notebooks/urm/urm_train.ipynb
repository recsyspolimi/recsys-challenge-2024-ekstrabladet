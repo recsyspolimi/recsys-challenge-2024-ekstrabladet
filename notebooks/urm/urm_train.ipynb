{
 "cells": [
  {
   "cell_type": "code",
   "execution_count": 1,
   "metadata": {},
   "outputs": [],
   "source": [
    "import polars as pl\n",
    "from pathlib import Path"
   ]
  },
  {
   "cell_type": "code",
   "execution_count": 2,
   "metadata": {},
   "outputs": [],
   "source": [
    "dpath = Path('../../dataset')\n",
    "\n",
    "dtype = 'small'\n",
    "articles = pl.read_parquet(f'{dpath}/ebnerd_{dtype}/articles.parquet')\n",
    "\n",
    "behaviors_train = pl.read_parquet(f'{dpath}/ebnerd_{dtype}/train/behaviors.parquet')\n",
    "history_train = pl.read_parquet(f'{dpath}/ebnerd_{dtype}/train/history.parquet')\n",
    "\n",
    "behaviors_val = pl.read_parquet(f'{dpath}/ebnerd_{dtype}/validation/behaviors.parquet')\n",
    "history_val = pl.read_parquet(f'{dpath}/ebnerd_{dtype}/validation/history.parquet')"
   ]
  },
  {
   "cell_type": "code",
   "execution_count": 3,
   "metadata": {},
   "outputs": [
    {
     "data": {
      "text/plain": [
       "{'topK': 93,\n",
       " 'normalize_similarity': True,\n",
       " 'alpha': 0.3803092963950007,\n",
       " 'beta': 0.2431345797113146}"
      ]
     },
     "execution_count": 3,
     "metadata": {},
     "output_type": "execute_result"
    }
   ],
   "source": [
    "from polimi.utils._custom import load_best_optuna_params\n",
    "study_name='RP3betaRecommender-ner-small-ndcg10'\n",
    "params = load_best_optuna_params(study_name)\n",
    "params"
   ]
  },
  {
   "cell_type": "code",
   "execution_count": 4,
   "metadata": {},
   "outputs": [
    {
     "name": "stdout",
     "output_type": "stream",
     "text": [
      "File loaded at: ../../dataset/urm/ner/small/URM_train.npz\n",
      "File loaded at: ../../dataset/urm/ner/small/URM_validation.npz\n"
     ]
    }
   ],
   "source": [
    "from polimi.utils._custom import load_sparse_csr\n",
    "\n",
    "ner_path = dpath.joinpath('urm').joinpath('ner').joinpath('small')\n",
    "URM_train = load_sparse_csr(ner_path.joinpath('URM_train.npz'))\n",
    "URM_val =  load_sparse_csr(ner_path.joinpath('URM_validation.npz'))"
   ]
  },
  {
   "cell_type": "code",
   "execution_count": 5,
   "metadata": {},
   "outputs": [
    {
     "data": {
      "text/plain": [
       "PosixPath('/Users/lorecampa/Desktop/Projects/RecSysChallenge2024/notebooks/urm')"
      ]
     },
     "execution_count": 5,
     "metadata": {},
     "output_type": "execute_result"
    }
   ],
   "source": [
    "Path('.').resolve()"
   ]
  },
  {
   "cell_type": "code",
   "execution_count": 6,
   "metadata": {},
   "outputs": [
    {
     "name": "stdout",
     "output_type": "stream",
     "text": [
      "RP3betaRecommender: URM Detected 3685 (19.6%) users with no interactions.\n",
      "RP3betaRecommender: URM Detected 18909 (43.2%) items with no interactions.\n",
      "RP3betaRecommender: Similarity column 43774 (100.0%), 673.25 column/sec. Elapsed time 1.08 min\n"
     ]
    },
    {
     "ename": "TypeError",
     "evalue": "unsupported operand type(s) for +: 'PosixPath' and 'str'",
     "output_type": "error",
     "traceback": [
      "\u001b[0;31m---------------------------------------------------------------------------\u001b[0m",
      "\u001b[0;31mTypeError\u001b[0m                                 Traceback (most recent call last)",
      "Cell \u001b[0;32mIn[6], line 4\u001b[0m\n\u001b[1;32m      1\u001b[0m \u001b[38;5;28;01mfrom\u001b[39;00m \u001b[38;5;21;01mpolimi\u001b[39;00m\u001b[38;5;21;01m.\u001b[39;00m\u001b[38;5;21;01mutils\u001b[39;00m\u001b[38;5;21;01m.\u001b[39;00m\u001b[38;5;21;01m_urm\u001b[39;00m \u001b[38;5;28;01mimport\u001b[39;00m train_recommender\n\u001b[1;32m      2\u001b[0m \u001b[38;5;28;01mfrom\u001b[39;00m \u001b[38;5;21;01mRecSys_Course_AT_PoliMi\u001b[39;00m\u001b[38;5;21;01m.\u001b[39;00m\u001b[38;5;21;01mRecommenders\u001b[39;00m\u001b[38;5;21;01m.\u001b[39;00m\u001b[38;5;21;01mGraphBased\u001b[39;00m\u001b[38;5;21;01m.\u001b[39;00m\u001b[38;5;21;01mRP3betaRecommender\u001b[39;00m \u001b[38;5;28;01mimport\u001b[39;00m RP3betaRecommender\n\u001b[0;32m----> 4\u001b[0m rec \u001b[38;5;241m=\u001b[39m \u001b[43mtrain_recommender\u001b[49m\u001b[43m(\u001b[49m\u001b[43mURM_train\u001b[49m\u001b[43m,\u001b[49m\u001b[43m \u001b[49m\u001b[43mRP3betaRecommender\u001b[49m\u001b[43m,\u001b[49m\u001b[43m \u001b[49m\u001b[43mparams\u001b[49m\u001b[43m,\u001b[49m\u001b[43m \u001b[49m\u001b[43mfile_name\u001b[49m\u001b[38;5;241;43m=\u001b[39;49m\u001b[38;5;124;43m'\u001b[39;49m\u001b[38;5;124;43mtest\u001b[39;49m\u001b[38;5;124;43m'\u001b[39;49m\u001b[43m,\u001b[49m\u001b[43m \u001b[49m\u001b[43moutput_dir\u001b[49m\u001b[38;5;241;43m=\u001b[39;49m\u001b[43mPath\u001b[49m\u001b[43m(\u001b[49m\u001b[38;5;124;43m'\u001b[39;49m\u001b[38;5;124;43m.\u001b[39;49m\u001b[38;5;124;43m'\u001b[39;49m\u001b[43m)\u001b[49m\u001b[43m)\u001b[49m\n",
      "File \u001b[0;32m~/Desktop/Projects/RecSysChallenge2024/src/polimi/utils/_urm.py:126\u001b[0m, in \u001b[0;36mtrain_recommender\u001b[0;34m(URM, recommender, params, file_name, output_dir)\u001b[0m\n\u001b[1;32m    123\u001b[0m rec_instance\u001b[38;5;241m.\u001b[39mfit(\u001b[38;5;241m*\u001b[39m\u001b[38;5;241m*\u001b[39mparams)\n\u001b[1;32m    125\u001b[0m \u001b[38;5;28;01mif\u001b[39;00m output_dir:\n\u001b[0;32m--> 126\u001b[0m     \u001b[43mrec_instance\u001b[49m\u001b[38;5;241;43m.\u001b[39;49m\u001b[43msave_model\u001b[49m\u001b[43m(\u001b[49m\u001b[43mfolder_path\u001b[49m\u001b[38;5;241;43m=\u001b[39;49m\u001b[43moutput_dir\u001b[49m\u001b[38;5;241;43m.\u001b[39;49m\u001b[43mresolve\u001b[49m\u001b[43m(\u001b[49m\u001b[43m)\u001b[49m\u001b[43m,\u001b[49m\u001b[43m \u001b[49m\u001b[43mfile_name\u001b[49m\u001b[38;5;241;43m=\u001b[39;49m\u001b[43mfile_name\u001b[49m\u001b[43m)\u001b[49m\n\u001b[1;32m    128\u001b[0m \u001b[38;5;28;01mreturn\u001b[39;00m rec_instance\n",
      "File \u001b[0;32m~/Desktop/Projects/RecSysChallenge2024/src/RecSys_Course_AT_PoliMi/Recommenders/BaseSimilarityMatrixRecommender.py:53\u001b[0m, in \u001b[0;36mBaseSimilarityMatrixRecommender.save_model\u001b[0;34m(self, folder_path, file_name)\u001b[0m\n\u001b[1;32m     50\u001b[0m \u001b[38;5;28;01mif\u001b[39;00m file_name \u001b[38;5;129;01mis\u001b[39;00m \u001b[38;5;28;01mNone\u001b[39;00m:\n\u001b[1;32m     51\u001b[0m     file_name \u001b[38;5;241m=\u001b[39m \u001b[38;5;28mself\u001b[39m\u001b[38;5;241m.\u001b[39mRECOMMENDER_NAME\n\u001b[0;32m---> 53\u001b[0m \u001b[38;5;28mself\u001b[39m\u001b[38;5;241m.\u001b[39m_print(\u001b[38;5;124m\"\u001b[39m\u001b[38;5;124mSaving model in file \u001b[39m\u001b[38;5;124m'\u001b[39m\u001b[38;5;132;01m{}\u001b[39;00m\u001b[38;5;124m'\u001b[39m\u001b[38;5;124m\"\u001b[39m\u001b[38;5;241m.\u001b[39mformat(\u001b[43mfolder_path\u001b[49m\u001b[43m \u001b[49m\u001b[38;5;241;43m+\u001b[39;49m\u001b[43m \u001b[49m\u001b[43mfile_name\u001b[49m))\n\u001b[1;32m     55\u001b[0m data_dict_to_save \u001b[38;5;241m=\u001b[39m {\u001b[38;5;124m\"\u001b[39m\u001b[38;5;124mW_sparse\u001b[39m\u001b[38;5;124m\"\u001b[39m: \u001b[38;5;28mself\u001b[39m\u001b[38;5;241m.\u001b[39mW_sparse}\n\u001b[1;32m     57\u001b[0m dataIO \u001b[38;5;241m=\u001b[39m DataIO(folder_path\u001b[38;5;241m=\u001b[39mfolder_path)\n",
      "\u001b[0;31mTypeError\u001b[0m: unsupported operand type(s) for +: 'PosixPath' and 'str'"
     ]
    }
   ],
   "source": [
    "from polimi.utils._urm import train_recommender\n",
    "from RecSys_Course_AT_PoliMi.Recommenders.GraphBased.RP3betaRecommender import RP3betaRecommender\n",
    "\n",
    "rec = train_recommender(URM_train, RP3betaRecommender, params, file_name='test', output_dir=Path('.'))"
   ]
  },
  {
   "cell_type": "code",
   "execution_count": 4,
   "metadata": {},
   "outputs": [
    {
     "name": "stdout",
     "output_type": "stream",
     "text": [
      "EvaluatorHoldout: Ignoring 3488 (18.5%) Users that have less than 1 test interactions\n"
     ]
    }
   ],
   "source": [
    "from RecSys_Course_AT_PoliMi.Evaluation.Evaluator import EvaluatorHoldout\n",
    "\n",
    "cutoff = 10\n",
    "metric = 'NDCG'\n",
    "evaluator = EvaluatorHoldout(URM_val, cutoff_list=[cutoff], exclude_seen=False)"
   ]
  },
  {
   "cell_type": "code",
   "execution_count": null,
   "metadata": {},
   "outputs": [],
   "source": [
    "from RecSys_Course_AT_PoliMi.Recommenders.MatrixFactorization.PureSVDRecommender import PureSVDRecommender\n",
    "\n",
    "rec_instance = PureSVDRecommender(URM_train)\n",
    "params = {'num_factors': 577}\n",
    "rec_instance.fit(**params)\n",
    "result_df, _ = evaluator.evaluateRecommender(rec_instance)\n",
    "result_df.loc[cutoff][metric.upper()]"
   ]
  },
  {
   "cell_type": "code",
   "execution_count": null,
   "metadata": {},
   "outputs": [],
   "source": [
    "from RecSys_Course_AT_PoliMi.Recommenders.KNN.UserKNNCFRecommender import UserKNNCFRecommender\n",
    "\n",
    "rec_instance = UserKNNCFRecommender(URM_train)\n",
    "params = {'topK': 467, 'shrink': 95, 'similarity': 'dice', 'normalize': True}\n",
    "rec_instance.fit(**params)\n",
    "result_df, _ = evaluator.evaluateRecommender(rec_instance)\n",
    "result_df.loc[cutoff][metric.upper()]"
   ]
  },
  {
   "cell_type": "code",
   "execution_count": null,
   "metadata": {},
   "outputs": [],
   "source": [
    "from polimi.utils._urm import _build_batch_ner_interactions, build_articles_with_processed_ner, build_user_id_mapping, build_ner_mapping\n",
    "ap = build_articles_with_processed_ner(articles)\n",
    "user_id_mapping = build_user_id_mapping(history_train.vstack(history_val))\n",
    "ner_mapping = build_ner_mapping(ap)\n",
    "ner_interactions = _build_batch_ner_interactions(history_train, ap, user_id_mapping, ner_mapping, 'article_id_fixed')"
   ]
  },
  {
   "cell_type": "code",
   "execution_count": null,
   "metadata": {},
   "outputs": [],
   "source": []
  }
 ],
 "metadata": {
  "kernelspec": {
   "display_name": ".venv",
   "language": "python",
   "name": "python3"
  },
  "language_info": {
   "codemirror_mode": {
    "name": "ipython",
    "version": 3
   },
   "file_extension": ".py",
   "mimetype": "text/x-python",
   "name": "python",
   "nbconvert_exporter": "python",
   "pygments_lexer": "ipython3",
   "version": "3.11.5"
  }
 },
 "nbformat": 4,
 "nbformat_minor": 2
}
