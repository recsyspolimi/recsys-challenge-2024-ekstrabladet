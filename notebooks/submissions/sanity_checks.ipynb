{
 "cells": [
  {
   "cell_type": "code",
   "execution_count": 1,
   "metadata": {},
   "outputs": [],
   "source": [
    "import polars as pl\n",
    "\n",
    "predictions_path = '~/experiments/Inference_Test_2024-04-15_16-17-03/predictions.parquet'\n",
    "behaviors_path = '/mnt/ebs_volume/recsys_challenge/dataset/ebnerd_testset/test/behaviors.parquet'"
   ]
  },
  {
   "cell_type": "code",
   "execution_count": 2,
   "metadata": {},
   "outputs": [
    {
     "data": {
      "text/html": [
       "<div><style>\n",
       ".dataframe > thead > tr,\n",
       ".dataframe > tbody > tr {\n",
       "  text-align: right;\n",
       "  white-space: pre-wrap;\n",
       "}\n",
       "</style>\n",
       "<small>shape: (5, 4)</small><table border=\"1\" class=\"dataframe\"><thead><tr><th>impression_id</th><th>user_id</th><th>article</th><th>prediction</th></tr><tr><td>u32</td><td>u32</td><td>i32</td><td>f64</td></tr></thead><tbody><tr><td>0</td><td>245884</td><td>9791786</td><td>0.253133</td></tr><tr><td>0</td><td>1491159</td><td>9791480</td><td>0.332636</td></tr><tr><td>0</td><td>1431182</td><td>9793094</td><td>0.218526</td></tr><tr><td>0</td><td>1503152</td><td>9791774</td><td>0.202196</td></tr><tr><td>0</td><td>2406666</td><td>9792367</td><td>0.301963</td></tr></tbody></table></div>"
      ],
      "text/plain": [
       "shape: (5, 4)\n",
       "┌───────────────┬─────────┬─────────┬────────────┐\n",
       "│ impression_id ┆ user_id ┆ article ┆ prediction │\n",
       "│ ---           ┆ ---     ┆ ---     ┆ ---        │\n",
       "│ u32           ┆ u32     ┆ i32     ┆ f64        │\n",
       "╞═══════════════╪═════════╪═════════╪════════════╡\n",
       "│ 0             ┆ 245884  ┆ 9791786 ┆ 0.253133   │\n",
       "│ 0             ┆ 1491159 ┆ 9791480 ┆ 0.332636   │\n",
       "│ 0             ┆ 1431182 ┆ 9793094 ┆ 0.218526   │\n",
       "│ 0             ┆ 1503152 ┆ 9791774 ┆ 0.202196   │\n",
       "│ 0             ┆ 2406666 ┆ 9792367 ┆ 0.301963   │\n",
       "└───────────────┴─────────┴─────────┴────────────┘"
      ]
     },
     "execution_count": 2,
     "metadata": {},
     "output_type": "execute_result"
    }
   ],
   "source": [
    "predictions_df = pl.read_parquet(predictions_path)\n",
    "predictions_df.head()"
   ]
  },
  {
   "cell_type": "code",
   "execution_count": 3,
   "metadata": {},
   "outputs": [
    {
     "data": {
      "text/html": [
       "<div><style>\n",
       ".dataframe > thead > tr,\n",
       ".dataframe > tbody > tr {\n",
       "  text-align: right;\n",
       "  white-space: pre-wrap;\n",
       "}\n",
       "</style>\n",
       "<small>shape: (200_000, 3)</small><table border=\"1\" class=\"dataframe\"><thead><tr><th>user_id</th><th>article</th><th>prediction</th></tr><tr><td>u32</td><td>u32</td><td>list[f64]</td></tr></thead><tbody><tr><td>532845</td><td>250</td><td>[0.198607, 0.156493, … 0.194264]</td></tr><tr><td>1378311</td><td>250</td><td>[0.240602, 0.369223, … 0.209994]</td></tr><tr><td>1534038</td><td>250</td><td>[0.23461, 0.473656, … 0.470568]</td></tr><tr><td>1803539</td><td>250</td><td>[0.525871, 0.536508, … 0.495367]</td></tr><tr><td>2037003</td><td>250</td><td>[0.188874, 0.61741, … 0.255359]</td></tr><tr><td>&hellip;</td><td>&hellip;</td><td>&hellip;</td></tr><tr><td>1584208</td><td>250</td><td>[0.240352, 0.192291, … 0.263981]</td></tr><tr><td>1521432</td><td>250</td><td>[0.163147, 0.206981, … 0.446518]</td></tr><tr><td>257163</td><td>250</td><td>[0.190553, 0.179975, … 0.187893]</td></tr><tr><td>367936</td><td>250</td><td>[0.22766, 0.223993, … 0.344541]</td></tr><tr><td>414081</td><td>250</td><td>[0.322505, 0.339978, … 0.278074]</td></tr></tbody></table></div>"
      ],
      "text/plain": [
       "shape: (200_000, 3)\n",
       "┌─────────┬─────────┬──────────────────────────────────┐\n",
       "│ user_id ┆ article ┆ prediction                       │\n",
       "│ ---     ┆ ---     ┆ ---                              │\n",
       "│ u32     ┆ u32     ┆ list[f64]                        │\n",
       "╞═════════╪═════════╪══════════════════════════════════╡\n",
       "│ 532845  ┆ 250     ┆ [0.198607, 0.156493, … 0.194264] │\n",
       "│ 1378311 ┆ 250     ┆ [0.240602, 0.369223, … 0.209994] │\n",
       "│ 1534038 ┆ 250     ┆ [0.23461, 0.473656, … 0.470568]  │\n",
       "│ 1803539 ┆ 250     ┆ [0.525871, 0.536508, … 0.495367] │\n",
       "│ 2037003 ┆ 250     ┆ [0.188874, 0.61741, … 0.255359]  │\n",
       "│ …       ┆ …       ┆ …                                │\n",
       "│ 1584208 ┆ 250     ┆ [0.240352, 0.192291, … 0.263981] │\n",
       "│ 1521432 ┆ 250     ┆ [0.163147, 0.206981, … 0.446518] │\n",
       "│ 257163  ┆ 250     ┆ [0.190553, 0.179975, … 0.187893] │\n",
       "│ 367936  ┆ 250     ┆ [0.22766, 0.223993, … 0.344541]  │\n",
       "│ 414081  ┆ 250     ┆ [0.322505, 0.339978, … 0.278074] │\n",
       "└─────────┴─────────┴──────────────────────────────────┘"
      ]
     },
     "execution_count": 3,
     "metadata": {},
     "output_type": "execute_result"
    }
   ],
   "source": [
    "beyond_acc_predictions = predictions_df.filter(pl.col('impression_id') == 0) \\\n",
    "    .group_by('user_id').agg(pl.col('article').count(), pl.col('prediction'))\n",
    "beyond_acc_predictions"
   ]
  },
  {
   "cell_type": "markdown",
   "metadata": {},
   "source": [
    "If the predictions are correct, there should be 200000 impressions with id 0 and each of them should have 250 samples"
   ]
  },
  {
   "cell_type": "code",
   "execution_count": 4,
   "metadata": {},
   "outputs": [
    {
     "data": {
      "text/plain": [
       "(200000, [250])"
      ]
     },
     "execution_count": 4,
     "metadata": {},
     "output_type": "execute_result"
    }
   ],
   "source": [
    "beyond_acc_predictions.shape[0], beyond_acc_predictions['article'].unique().to_list()"
   ]
  },
  {
   "cell_type": "code",
   "execution_count": 5,
   "metadata": {},
   "outputs": [
    {
     "data": {
      "text/html": [
       "<div><style>\n",
       ".dataframe > thead > tr,\n",
       ".dataframe > tbody > tr {\n",
       "  text-align: right;\n",
       "  white-space: pre-wrap;\n",
       "}\n",
       "</style>\n",
       "<small>shape: (5, 3)</small><table border=\"1\" class=\"dataframe\"><thead><tr><th>impression_id</th><th>user_id</th><th>article_ids_inview</th></tr><tr><td>u32</td><td>u32</td><td>i32</td></tr></thead><tbody><tr><td>6451339</td><td>35982</td><td>9796527</td></tr><tr><td>6451339</td><td>35982</td><td>7851321</td></tr><tr><td>6451339</td><td>35982</td><td>9798805</td></tr><tr><td>6451339</td><td>35982</td><td>9795150</td></tr><tr><td>6451339</td><td>35982</td><td>9531110</td></tr></tbody></table></div>"
      ],
      "text/plain": [
       "shape: (5, 3)\n",
       "┌───────────────┬─────────┬────────────────────┐\n",
       "│ impression_id ┆ user_id ┆ article_ids_inview │\n",
       "│ ---           ┆ ---     ┆ ---                │\n",
       "│ u32           ┆ u32     ┆ i32                │\n",
       "╞═══════════════╪═════════╪════════════════════╡\n",
       "│ 6451339       ┆ 35982   ┆ 9796527            │\n",
       "│ 6451339       ┆ 35982   ┆ 7851321            │\n",
       "│ 6451339       ┆ 35982   ┆ 9798805            │\n",
       "│ 6451339       ┆ 35982   ┆ 9795150            │\n",
       "│ 6451339       ┆ 35982   ┆ 9531110            │\n",
       "└───────────────┴─────────┴────────────────────┘"
      ]
     },
     "execution_count": 5,
     "metadata": {},
     "output_type": "execute_result"
    }
   ],
   "source": [
    "behaviors = pl.read_parquet(behaviors_path, columns=['impression_id', 'user_id', 'article_ids_inview']).explode('article_ids_inview')\n",
    "behaviors.head(5)"
   ]
  },
  {
   "cell_type": "markdown",
   "metadata": {},
   "source": [
    "Checking that each triplet (impression_id, user_id, article_ids_inview) has a prediction. If the predictions df contains all the triplets, there should not be null predictions when joining the dataframe"
   ]
  },
  {
   "cell_type": "code",
   "execution_count": 6,
   "metadata": {},
   "outputs": [
    {
     "data": {
      "text/plain": [
       "0"
      ]
     },
     "execution_count": 6,
     "metadata": {},
     "output_type": "execute_result"
    }
   ],
   "source": [
    "behaviors.join(predictions_df, left_on=['impression_id', 'user_id', 'article_ids_inview'],\n",
    "               right_on=['impression_id', 'user_id', 'article'], how='left') \\\n",
    "    .select(pl.col('prediction').is_null().sum()).item(0,0)"
   ]
  },
  {
   "cell_type": "markdown",
   "metadata": {},
   "source": [
    "Is the reordering correct?"
   ]
  },
  {
   "cell_type": "code",
   "execution_count": 7,
   "metadata": {},
   "outputs": [],
   "source": [
    "ordered_predictions = behaviors.with_row_index() \\\n",
    "    .join(predictions_df, left_on=['impression_id', 'user_id', 'article_ids_inview'],\n",
    "          right_on=['impression_id', 'user_id', 'article'], how='left') \\\n",
    "    .sort('index').group_by(['impression_id', 'user_id'], maintain_order=True) \\\n",
    "    .agg(pl.col('prediction'), pl.col('article_ids_inview')) \\\n",
    "    .with_columns(pl.col('prediction').list.eval(pl.element().rank(descending=True)).cast(pl.List(pl.Int16)))"
   ]
  },
  {
   "cell_type": "markdown",
   "metadata": {},
   "source": [
    "The predicion dataframe can have a different order, it needs to be rearranged to match the order in the initial behaviors list"
   ]
  },
  {
   "cell_type": "code",
   "execution_count": 8,
   "metadata": {},
   "outputs": [
    {
     "data": {
      "text/html": [
       "<div><style>\n",
       ".dataframe > thead > tr,\n",
       ".dataframe > tbody > tr {\n",
       "  text-align: right;\n",
       "  white-space: pre-wrap;\n",
       "}\n",
       "</style>\n",
       "<small>shape: (9, 3)</small><table border=\"1\" class=\"dataframe\"><thead><tr><th>impression_id</th><th>user_id</th><th>article_ids_inview</th></tr><tr><td>u32</td><td>u32</td><td>i32</td></tr></thead><tbody><tr><td>6451339</td><td>35982</td><td>9796527</td></tr><tr><td>6451339</td><td>35982</td><td>7851321</td></tr><tr><td>6451339</td><td>35982</td><td>9798805</td></tr><tr><td>6451339</td><td>35982</td><td>9795150</td></tr><tr><td>6451339</td><td>35982</td><td>9531110</td></tr><tr><td>6451339</td><td>35982</td><td>9798526</td></tr><tr><td>6451339</td><td>35982</td><td>9798682</td></tr><tr><td>6451339</td><td>35982</td><td>9796198</td></tr><tr><td>6451339</td><td>35982</td><td>9492777</td></tr></tbody></table></div>"
      ],
      "text/plain": [
       "shape: (9, 3)\n",
       "┌───────────────┬─────────┬────────────────────┐\n",
       "│ impression_id ┆ user_id ┆ article_ids_inview │\n",
       "│ ---           ┆ ---     ┆ ---                │\n",
       "│ u32           ┆ u32     ┆ i32                │\n",
       "╞═══════════════╪═════════╪════════════════════╡\n",
       "│ 6451339       ┆ 35982   ┆ 9796527            │\n",
       "│ 6451339       ┆ 35982   ┆ 7851321            │\n",
       "│ 6451339       ┆ 35982   ┆ 9798805            │\n",
       "│ 6451339       ┆ 35982   ┆ 9795150            │\n",
       "│ 6451339       ┆ 35982   ┆ 9531110            │\n",
       "│ 6451339       ┆ 35982   ┆ 9798526            │\n",
       "│ 6451339       ┆ 35982   ┆ 9798682            │\n",
       "│ 6451339       ┆ 35982   ┆ 9796198            │\n",
       "│ 6451339       ┆ 35982   ┆ 9492777            │\n",
       "└───────────────┴─────────┴────────────────────┘"
      ]
     },
     "metadata": {},
     "output_type": "display_data"
    },
    {
     "data": {
      "text/html": [
       "<div><style>\n",
       ".dataframe > thead > tr,\n",
       ".dataframe > tbody > tr {\n",
       "  text-align: right;\n",
       "  white-space: pre-wrap;\n",
       "}\n",
       "</style>\n",
       "<small>shape: (9, 4)</small><table border=\"1\" class=\"dataframe\"><thead><tr><th>impression_id</th><th>user_id</th><th>article</th><th>prediction</th></tr><tr><td>u32</td><td>u32</td><td>i32</td><td>f64</td></tr></thead><tbody><tr><td>6451339</td><td>35982</td><td>9795150</td><td>6.0</td></tr><tr><td>6451339</td><td>35982</td><td>9492777</td><td>8.0</td></tr><tr><td>6451339</td><td>35982</td><td>9798526</td><td>3.0</td></tr><tr><td>6451339</td><td>35982</td><td>9531110</td><td>5.0</td></tr><tr><td>6451339</td><td>35982</td><td>9796198</td><td>7.0</td></tr><tr><td>6451339</td><td>35982</td><td>9798805</td><td>2.0</td></tr><tr><td>6451339</td><td>35982</td><td>7851321</td><td>9.0</td></tr><tr><td>6451339</td><td>35982</td><td>9796527</td><td>4.0</td></tr><tr><td>6451339</td><td>35982</td><td>9798682</td><td>1.0</td></tr></tbody></table></div>"
      ],
      "text/plain": [
       "shape: (9, 4)\n",
       "┌───────────────┬─────────┬─────────┬────────────┐\n",
       "│ impression_id ┆ user_id ┆ article ┆ prediction │\n",
       "│ ---           ┆ ---     ┆ ---     ┆ ---        │\n",
       "│ u32           ┆ u32     ┆ i32     ┆ f64        │\n",
       "╞═══════════════╪═════════╪═════════╪════════════╡\n",
       "│ 6451339       ┆ 35982   ┆ 9795150 ┆ 6.0        │\n",
       "│ 6451339       ┆ 35982   ┆ 9492777 ┆ 8.0        │\n",
       "│ 6451339       ┆ 35982   ┆ 9798526 ┆ 3.0        │\n",
       "│ 6451339       ┆ 35982   ┆ 9531110 ┆ 5.0        │\n",
       "│ 6451339       ┆ 35982   ┆ 9796198 ┆ 7.0        │\n",
       "│ 6451339       ┆ 35982   ┆ 9798805 ┆ 2.0        │\n",
       "│ 6451339       ┆ 35982   ┆ 7851321 ┆ 9.0        │\n",
       "│ 6451339       ┆ 35982   ┆ 9796527 ┆ 4.0        │\n",
       "│ 6451339       ┆ 35982   ┆ 9798682 ┆ 1.0        │\n",
       "└───────────────┴─────────┴─────────┴────────────┘"
      ]
     },
     "metadata": {},
     "output_type": "display_data"
    },
    {
     "data": {
      "text/html": [
       "<div><style>\n",
       ".dataframe > thead > tr,\n",
       ".dataframe > tbody > tr {\n",
       "  text-align: right;\n",
       "  white-space: pre-wrap;\n",
       "}\n",
       "</style>\n",
       "<small>shape: (1, 4)</small><table border=\"1\" class=\"dataframe\"><thead><tr><th>impression_id</th><th>user_id</th><th>prediction</th><th>article_ids_inview</th></tr><tr><td>u32</td><td>u32</td><td>list[i16]</td><td>list[i32]</td></tr></thead><tbody><tr><td>6451339</td><td>35982</td><td>[4, 9, … 8]</td><td>[9796527, 7851321, … 9492777]</td></tr></tbody></table></div>"
      ],
      "text/plain": [
       "shape: (1, 4)\n",
       "┌───────────────┬─────────┬─────────────┬───────────────────────────────┐\n",
       "│ impression_id ┆ user_id ┆ prediction  ┆ article_ids_inview            │\n",
       "│ ---           ┆ ---     ┆ ---         ┆ ---                           │\n",
       "│ u32           ┆ u32     ┆ list[i16]   ┆ list[i32]                     │\n",
       "╞═══════════════╪═════════╪═════════════╪═══════════════════════════════╡\n",
       "│ 6451339       ┆ 35982   ┆ [4, 9, … 8] ┆ [9796527, 7851321, … 9492777] │\n",
       "└───────────────┴─────────┴─────────────┴───────────────────────────────┘"
      ]
     },
     "metadata": {},
     "output_type": "display_data"
    }
   ],
   "source": [
    "display(behaviors.filter(pl.col('impression_id') == 6451339))\n",
    "display(predictions_df.filter(pl.col('impression_id') == 6451339).with_columns(pl.col('prediction').rank(descending=True)))\n",
    "display(ordered_predictions.filter(pl.col('impression_id') == 6451339))"
   ]
  },
  {
   "cell_type": "markdown",
   "metadata": {},
   "source": [
    "Checking if the joins have maintained the beyond accuracy samples"
   ]
  },
  {
   "cell_type": "code",
   "execution_count": 9,
   "metadata": {},
   "outputs": [
    {
     "data": {
      "text/html": [
       "<div><style>\n",
       ".dataframe > thead > tr,\n",
       ".dataframe > tbody > tr {\n",
       "  text-align: right;\n",
       "  white-space: pre-wrap;\n",
       "}\n",
       "</style>\n",
       "<small>shape: (5, 5)</small><table border=\"1\" class=\"dataframe\"><thead><tr><th>impression_id</th><th>user_id</th><th>prediction</th><th>article_ids_inview</th><th>len</th></tr><tr><td>u32</td><td>u32</td><td>list[i16]</td><td>list[i32]</td><td>u32</td></tr></thead><tbody><tr><td>0</td><td>1049297</td><td>[195, 144, … 248]</td><td>[9793163, 9793069, … 9789545]</td><td>250</td></tr><tr><td>0</td><td>231624</td><td>[229, 193, … 248]</td><td>[9793163, 9793069, … 9789545]</td><td>250</td></tr><tr><td>0</td><td>716356</td><td>[189, 132, … 243]</td><td>[9793163, 9793069, … 9789545]</td><td>250</td></tr><tr><td>0</td><td>1440307</td><td>[164, 113, … 238]</td><td>[9793163, 9793069, … 9789545]</td><td>250</td></tr><tr><td>0</td><td>1822406</td><td>[189, 156, … 246]</td><td>[9793163, 9793069, … 9789545]</td><td>250</td></tr></tbody></table></div>"
      ],
      "text/plain": [
       "shape: (5, 5)\n",
       "┌───────────────┬─────────┬───────────────────┬───────────────────────────────┬─────┐\n",
       "│ impression_id ┆ user_id ┆ prediction        ┆ article_ids_inview            ┆ len │\n",
       "│ ---           ┆ ---     ┆ ---               ┆ ---                           ┆ --- │\n",
       "│ u32           ┆ u32     ┆ list[i16]         ┆ list[i32]                     ┆ u32 │\n",
       "╞═══════════════╪═════════╪═══════════════════╪═══════════════════════════════╪═════╡\n",
       "│ 0             ┆ 1049297 ┆ [195, 144, … 248] ┆ [9793163, 9793069, … 9789545] ┆ 250 │\n",
       "│ 0             ┆ 231624  ┆ [229, 193, … 248] ┆ [9793163, 9793069, … 9789545] ┆ 250 │\n",
       "│ 0             ┆ 716356  ┆ [189, 132, … 243] ┆ [9793163, 9793069, … 9789545] ┆ 250 │\n",
       "│ 0             ┆ 1440307 ┆ [164, 113, … 238] ┆ [9793163, 9793069, … 9789545] ┆ 250 │\n",
       "│ 0             ┆ 1822406 ┆ [189, 156, … 246] ┆ [9793163, 9793069, … 9789545] ┆ 250 │\n",
       "└───────────────┴─────────┴───────────────────┴───────────────────────────────┴─────┘"
      ]
     },
     "execution_count": 9,
     "metadata": {},
     "output_type": "execute_result"
    }
   ],
   "source": [
    "ordered_predictions.filter(pl.col('impression_id') == 0).with_columns(pl.col('prediction').list.len().alias('len')).head()"
   ]
  },
  {
   "cell_type": "markdown",
   "metadata": {},
   "source": [
    "# Checking prediction.txt file"
   ]
  },
  {
   "cell_type": "markdown",
   "metadata": {},
   "source": [
    "To run this, the file needs to be unzipped before"
   ]
  },
  {
   "cell_type": "code",
   "execution_count": 4,
   "metadata": {},
   "outputs": [],
   "source": [
    "sample_submission_path = '/mnt/ebs_volume/recsys_challenge/dataset/sample_submission.txt'\n",
    "submission_file_path = '/home/ubuntu/experiments/Inference_Test_2024-04-15_16-17-03/predictions.txt'"
   ]
  },
  {
   "cell_type": "markdown",
   "metadata": {},
   "source": [
    "Checking if all ids are present also in the file (and counting the number of impressions with id 0)"
   ]
  },
  {
   "cell_type": "code",
   "execution_count": 5,
   "metadata": {},
   "outputs": [
    {
     "name": "stdout",
     "output_type": "stream",
     "text": [
      "200000 200000\n",
      "Missing IDs in predictions w.r.t. sample submission: set()\n",
      "IDs present in predictions but not in sample submission: set()\n"
     ]
    }
   ],
   "source": [
    "def read_ids_from_file(file_path):\n",
    "    ids = set()\n",
    "    count_zeros = 0\n",
    "    with open(file_path, 'r') as file:\n",
    "        for line in file:\n",
    "            parts = line.strip().split(' ')\n",
    "            if len(parts) >= 1:\n",
    "                ids.add(parts[0])\n",
    "                if parts[0] == '0':\n",
    "                    count_zeros += 1\n",
    "    return ids, count_zeros\n",
    "\n",
    "def find_missing_ids(file1_path, file2_path):\n",
    "    ids_file1, count_zeros1 = read_ids_from_file(file1_path)\n",
    "    ids_file2, count_zeros2 = read_ids_from_file(file2_path)\n",
    "    print(count_zeros1, count_zeros2)\n",
    "    missing_file2 = ids_file1.difference(ids_file2)\n",
    "    missing_file1 = ids_file2.difference(ids_file1)\n",
    "    return missing_file1, missing_file2\n",
    "\n",
    "missing_file1, missing_file2 = find_missing_ids(submission_file_path, sample_submission_path)\n",
    "print(\"Missing IDs in predictions w.r.t. sample submission:\", missing_file1)\n",
    "print(\"IDs present in predictions but not in sample submission:\", missing_file2)"
   ]
  },
  {
   "cell_type": "markdown",
   "metadata": {},
   "source": [
    "Checking if the lists have the same length, no output should be returned from the function"
   ]
  },
  {
   "cell_type": "code",
   "execution_count": 7,
   "metadata": {},
   "outputs": [],
   "source": [
    "def validate_files(file1_path, file2_path):\n",
    "    id_lists_file1 = {}\n",
    "    id_lists_file2 = {}\n",
    "\n",
    "    with open(file1_path, 'r') as file1:\n",
    "        for line in file1:\n",
    "            id_, elements_str = line.strip().split(' ')\n",
    "            elements = elements_str.strip('[]').split(',')\n",
    "            id_lists_file1[id_] = len(elements)\n",
    "\n",
    "    with open(file2_path, 'r') as file2:\n",
    "        for line in file2:\n",
    "            id_, elements_str = line.strip().split(' ')\n",
    "            elements = elements_str.strip('[]').split(',')\n",
    "            id_lists_file2[id_] = len(elements)\n",
    "\n",
    "    if set(id_lists_file1.keys()) != set(id_lists_file2.keys()):\n",
    "        print(\"Error: IDs in the two files do not match!\")\n",
    "        return False\n",
    "\n",
    "    for id_ in id_lists_file1.keys():\n",
    "        if id_lists_file1[id_] != id_lists_file2[id_]:\n",
    "            print(f\"Error: Lists for ID {id_} have different lengths ({id_lists_file1[id_]}, {id_lists_file2[id_]})!\")\n",
    "            return False\n",
    "\n",
    "validate_files(submission_file_path, sample_submission_path)"
   ]
  },
  {
   "cell_type": "markdown",
   "metadata": {},
   "source": [
    "Orrible code, but is needed to see if the format of the predictions is ok"
   ]
  },
  {
   "cell_type": "code",
   "execution_count": 8,
   "metadata": {},
   "outputs": [
    {
     "name": "stdout",
     "output_type": "stream",
     "text": [
      "6451339 [4,9,2,6,5,3,1,7,8]\n",
      "\n"
     ]
    }
   ],
   "source": [
    "i = 0\n",
    "with open(submission_file_path) as file:\n",
    "    for line in file:\n",
    "        if i == 0:\n",
    "            print(line)\n",
    "            break"
   ]
  }
 ],
 "metadata": {
  "kernelspec": {
   "display_name": "venv",
   "language": "python",
   "name": "python3"
  },
  "language_info": {
   "codemirror_mode": {
    "name": "ipython",
    "version": 3
   },
   "file_extension": ".py",
   "mimetype": "text/x-python",
   "name": "python",
   "nbconvert_exporter": "python",
   "pygments_lexer": "ipython3",
   "version": "3.8.10"
  }
 },
 "nbformat": 4,
 "nbformat_minor": 2
}
