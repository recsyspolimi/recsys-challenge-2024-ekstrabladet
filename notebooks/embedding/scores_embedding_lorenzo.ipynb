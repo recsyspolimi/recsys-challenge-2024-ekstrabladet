{
 "cells": [
  {
   "cell_type": "code",
   "execution_count": 3,
   "metadata": {},
   "outputs": [],
   "source": [
    "import numpy as np\n",
    "import polars as pl\n",
    "from tqdm import tqdm\n",
    "from polimi.utils._polars import reduce_polars_df_memory_size"
   ]
  },
  {
   "cell_type": "code",
   "execution_count": 4,
   "metadata": {},
   "outputs": [],
   "source": [
    "from pathlib import Path\n",
    "\n",
    "\n",
    "dpath = Path('../../dataset')\n",
    "emb_dir = dpath / 'embeddings'\n",
    "dtype = 'small'\n",
    "articles = pl.read_parquet(f'{dpath}/ebnerd_{dtype}/articles.parquet')\n",
    "\n",
    "behaviors_train = pl.read_parquet(f'{dpath}/ebnerd_{dtype}/train/behaviors.parquet')\n",
    "history_train = pl.read_parquet(f'{dpath}/ebnerd_{dtype}/train/history.parquet')"
   ]
  },
  {
   "cell_type": "markdown",
   "metadata": {},
   "source": [
    "# Test"
   ]
  },
  {
   "cell_type": "code",
   "execution_count": 8,
   "metadata": {},
   "outputs": [
    {
     "data": {
      "text/html": [
       "<div><style>\n",
       ".dataframe > thead > tr,\n",
       ".dataframe > tbody > tr {\n",
       "  text-align: right;\n",
       "  white-space: pre-wrap;\n",
       "}\n",
       "</style>\n",
       "<small>shape: (2, 3)</small><table border=\"1\" class=\"dataframe\"><thead><tr><th>index</th><th>article_id</th><th>embedding</th></tr><tr><td>u32</td><td>i32</td><td>list[f32]</td></tr></thead><tbody><tr><td>0</td><td>3000022</td><td>[-0.350606, 0.003437, … 0.001947]</td></tr><tr><td>1</td><td>3000063</td><td>[-0.003448, 0.227659, … -0.057015]</td></tr></tbody></table></div>"
      ],
      "text/plain": [
       "shape: (2, 3)\n",
       "┌───────┬────────────┬─────────────────────────────────┐\n",
       "│ index ┆ article_id ┆ embedding                       │\n",
       "│ ---   ┆ ---        ┆ ---                             │\n",
       "│ u32   ┆ i32        ┆ list[f32]                       │\n",
       "╞═══════╪════════════╪═════════════════════════════════╡\n",
       "│ 0     ┆ 3000022    ┆ [-0.350606, 0.003437, … 0.0019… │\n",
       "│ 1     ┆ 3000063    ┆ [-0.003448, 0.227659, … -0.057… │\n",
       "└───────┴────────────┴─────────────────────────────────┘"
      ]
     },
     "execution_count": 8,
     "metadata": {},
     "output_type": "execute_result"
    }
   ],
   "source": [
    "embeddings = pl.read_parquet(emb_dir / 'google_bert_base_multilingual_cased' / 'bert_base_multilingual_cased.parquet').sort('article_id')\n",
    "embeddings.columns = ['article_id', 'embedding']\n",
    "embeddings = embeddings.with_row_index()\n",
    "embeddings.head(2)"
   ]
  },
  {
   "cell_type": "code",
   "execution_count": 9,
   "metadata": {},
   "outputs": [
    {
     "data": {
      "text/plain": [
       "False"
      ]
     },
     "execution_count": 9,
     "metadata": {},
     "output_type": "execute_result"
    }
   ],
   "source": [
    "all_zero_embeddings = embeddings.with_columns(pl.col('embedding').list.eval(pl.element() == 0.0).list.all().alias('check'))\n",
    "are_all_zero_embeddings_present = len(all_zero_embeddings.filter(pl.col('check') == True)) > 0\n",
    "are_all_zero_embeddings_present"
   ]
  },
  {
   "cell_type": "code",
   "execution_count": 10,
   "metadata": {},
   "outputs": [
    {
     "data": {
      "text/plain": [
       "(125541, 768)"
      ]
     },
     "execution_count": 10,
     "metadata": {},
     "output_type": "execute_result"
    }
   ],
   "source": [
    "m_non_norm = np.array([np.array(x) for x in embeddings['embedding'].to_numpy()])\n",
    "row_norms = np.linalg.norm(m_non_norm, axis=1, keepdims=True)\n",
    "m = m_non_norm / row_norms\n",
    "m.shape"
   ]
  },
  {
   "cell_type": "markdown",
   "metadata": {},
   "source": [
    "# Build feature"
   ]
  },
  {
   "cell_type": "code",
   "execution_count": 11,
   "metadata": {},
   "outputs": [
    {
     "data": {
      "text/html": [
       "<div><style>\n",
       ".dataframe > thead > tr,\n",
       ".dataframe > tbody > tr {\n",
       "  text-align: right;\n",
       "  white-space: pre-wrap;\n",
       "}\n",
       "</style>\n",
       "<small>shape: (1, 2)</small><table border=\"1\" class=\"dataframe\"><thead><tr><th>index</th><th>article_id</th></tr><tr><td>u32</td><td>i32</td></tr></thead><tbody><tr><td>0</td><td>3000022</td></tr></tbody></table></div>"
      ],
      "text/plain": [
       "shape: (1, 2)\n",
       "┌───────┬────────────┐\n",
       "│ index ┆ article_id │\n",
       "│ ---   ┆ ---        │\n",
       "│ u32   ┆ i32        │\n",
       "╞═══════╪════════════╡\n",
       "│ 0     ┆ 3000022    │\n",
       "└───────┴────────────┘"
      ]
     },
     "execution_count": 11,
     "metadata": {},
     "output_type": "execute_result"
    }
   ],
   "source": [
    "article_emb_mapping = embeddings.select('index', 'article_id')\n",
    "article_emb_mapping.head(1)"
   ]
  },
  {
   "cell_type": "code",
   "execution_count": 12,
   "metadata": {},
   "outputs": [
    {
     "data": {
      "text/plain": [
       "(15143,)"
      ]
     },
     "execution_count": 12,
     "metadata": {},
     "output_type": "execute_result"
    }
   ],
   "source": [
    "history_m = history_train.select('user_id', pl.col('article_id_fixed').list.eval(pl.element().replace(article_emb_mapping['article_id'], article_emb_mapping['index'], default=None).drop_nulls())).with_row_index('user_index')\n",
    "user_history_map = history_m.select('user_id', 'user_index')\n",
    "history_m = history_m['article_id_fixed'].to_numpy()\n",
    "history_m.shape"
   ]
  },
  {
   "cell_type": "code",
   "execution_count": 13,
   "metadata": {},
   "outputs": [
    {
     "name": "stdout",
     "output_type": "stream",
     "text": [
      "Memory usage of dataframe is 25.95 MB\n",
      "Memory usage after optimization is: 25.95 MB\n",
      "Decreased by 0.0%\n"
     ]
    },
    {
     "data": {
      "text/html": [
       "<div><style>\n",
       ".dataframe > thead > tr,\n",
       ".dataframe > tbody > tr {\n",
       "  text-align: right;\n",
       "  white-space: pre-wrap;\n",
       "}\n",
       "</style>\n",
       "<small>shape: (2, 5)</small><table border=\"1\" class=\"dataframe\"><thead><tr><th>impression_id</th><th>user_id</th><th>article</th><th>user_index</th><th>article_index</th></tr><tr><td>u32</td><td>u32</td><td>list[i32]</td><td>u32</td><td>list[u32]</td></tr></thead><tbody><tr><td>149474</td><td>139836</td><td>[9778623, 9778682, … 9778728]</td><td>11894</td><td>[123178, 123188, … 123195]</td></tr><tr><td>150528</td><td>143471</td><td>[9778718, 9778728, … 9778682]</td><td>7016</td><td>[123192, 123195, … 123188]</td></tr></tbody></table></div>"
      ],
      "text/plain": [
       "shape: (2, 5)\n",
       "┌───────────────┬─────────┬──────────────────────┬────────────┬────────────────────────────┐\n",
       "│ impression_id ┆ user_id ┆ article              ┆ user_index ┆ article_index              │\n",
       "│ ---           ┆ ---     ┆ ---                  ┆ ---        ┆ ---                        │\n",
       "│ u32           ┆ u32     ┆ list[i32]            ┆ u32        ┆ list[u32]                  │\n",
       "╞═══════════════╪═════════╪══════════════════════╪════════════╪════════════════════════════╡\n",
       "│ 149474        ┆ 139836  ┆ [9778623, 9778682, … ┆ 11894      ┆ [123178, 123188, … 123195] │\n",
       "│               ┆         ┆ 9778728]             ┆            ┆                            │\n",
       "│ 150528        ┆ 143471  ┆ [9778718, 9778728, … ┆ 7016       ┆ [123192, 123195, … 123188] │\n",
       "│               ┆         ┆ 9778682]             ┆            ┆                            │\n",
       "└───────────────┴─────────┴──────────────────────┴────────────┴────────────────────────────┘"
      ]
     },
     "execution_count": 13,
     "metadata": {},
     "output_type": "execute_result"
    }
   ],
   "source": [
    "df = behaviors_train.select('impression_id', 'user_id', pl.col('article_ids_inview').alias('article'))\\\n",
    "    .join(user_history_map, on='user_id')\\\n",
    "    .with_columns(\n",
    "        pl.col('article').list.eval(pl.element().replace(article_emb_mapping['article_id'], article_emb_mapping['index'], default=None)).name.suffix('_index'),\n",
    "    ).drop('impression_time_fixed', 'scroll_percentage_fixed', 'read_time_fixed')\n",
    "\n",
    "df = reduce_polars_df_memory_size(df)\n",
    "df.head(2)"
   ]
  },
  {
   "cell_type": "code",
   "execution_count": 14,
   "metadata": {},
   "outputs": [
    {
     "name": "stderr",
     "output_type": "stream",
     "text": [
      "  3%|▎         | 466/15143 [00:01<00:53, 274.50it/s]\n"
     ]
    },
    {
     "data": {
      "text/html": [
       "<div><style>\n",
       ".dataframe > thead > tr,\n",
       ".dataframe > tbody > tr {\n",
       "  text-align: right;\n",
       "  white-space: pre-wrap;\n",
       "}\n",
       "</style>\n",
       "<small>shape: (1_000, 5)</small><table border=\"1\" class=\"dataframe\"><thead><tr><th>impression_id</th><th>user_id</th><th>user_index</th><th>article</th><th>scores</th></tr><tr><td>u32</td><td>u32</td><td>u32</td><td>list[i32]</td><td>list[list[f32]]</td></tr></thead><tbody><tr><td>149474</td><td>139836</td><td>11894</td><td>[9778623, 9778682, … 9778728]</td><td>[[0.988827, 0.984725, … 0.954573], [0.982375, 0.988658, … 0.955571], … [0.976225, 0.973736, … 0.937987]]</td></tr><tr><td>150528</td><td>143471</td><td>7016</td><td>[9778718, 9778728, … 9778682]</td><td>[[0.9813, 0.945006, … 0.960722], [0.972239, 0.936991, … 0.948615], … [0.987887, 0.95329, … 0.961936]]</td></tr><tr><td>153068</td><td>151570</td><td>7074</td><td>[9778657, 9778669, … 9778682]</td><td>[[0.984971, 0.941774, … 0.982133], [0.941257, 0.945315, … 0.940903], … [0.987914, 0.937185, … 0.975545]]</td></tr><tr><td>153071</td><td>151570</td><td>7074</td><td>[9777492, 9774568, … 9775990]</td><td>[[0.990505, 0.944563, … 0.982758], [0.813731, 0.847427, … 0.828457], … [0.951217, 0.913168, … 0.952556]]</td></tr><tr><td>153078</td><td>151570</td><td>7074</td><td>[9778021, 9778627, … 7213923]</td><td>[[0.98114, 0.928685, … 0.981403], [0.963864, 0.952563, … 0.953528], … [0.988723, 0.938198, … 0.976789]]</td></tr><tr><td>&hellip;</td><td>&hellip;</td><td>&hellip;</td><td>&hellip;</td><td>&hellip;</td></tr><tr><td>2433256</td><td>1606050</td><td>14460</td><td>[9483850, 9779648, … 9779777]</td><td>[[0.983992, 0.983894, … 0.984721], [0.98539, 0.976882, … 0.981156], … [0.981787, 0.982506, … 0.981081]]</td></tr><tr><td>2433248</td><td>1606050</td><td>14460</td><td>[9552181, 9779263, … 9547869]</td><td>[[0.987949, 0.98747, … 0.987622], [0.988494, 0.983613, … 0.982609], … [0.985486, 0.982646, … 0.985924]]</td></tr><tr><td>2435848</td><td>1692081</td><td>10750</td><td>[9779263, 9779205, … 9779577]</td><td>[[0.946211, 0.977764, … 0.984172], [0.942077, 0.969015, … 0.983493], … [0.944518, 0.981686, … 0.988128]]</td></tr><tr><td>2435885</td><td>1695195</td><td>10254</td><td>[9658252, 9569934, … 9775885]</td><td>[[0.942331, 0.990499, … 0.992581], [0.941311, 0.988905, … 0.984904], … [0.943828, 0.991274, … 0.993161]]</td></tr><tr><td>2436801</td><td>1729576</td><td>3516</td><td>[9780181, 9780193, … 9780195]</td><td>[[0.987722, 0.981711, … 0.990824], [0.953786, 0.939753, … 0.953096], … [0.989215, 0.982444, … 0.991407]]</td></tr></tbody></table></div>"
      ],
      "text/plain": [
       "shape: (1_000, 5)\n",
       "┌───────────────┬─────────┬────────────┬──────────────────────┬─────────────────────────────────┐\n",
       "│ impression_id ┆ user_id ┆ user_index ┆ article              ┆ scores                          │\n",
       "│ ---           ┆ ---     ┆ ---        ┆ ---                  ┆ ---                             │\n",
       "│ u32           ┆ u32     ┆ u32        ┆ list[i32]            ┆ list[list[f32]]                 │\n",
       "╞═══════════════╪═════════╪════════════╪══════════════════════╪═════════════════════════════════╡\n",
       "│ 149474        ┆ 139836  ┆ 11894      ┆ [9778623, 9778682, … ┆ [[0.988827, 0.984725, … 0.9545… │\n",
       "│               ┆         ┆            ┆ 9778728]             ┆                                 │\n",
       "│ 150528        ┆ 143471  ┆ 7016       ┆ [9778718, 9778728, … ┆ [[0.9813, 0.945006, … 0.960722… │\n",
       "│               ┆         ┆            ┆ 9778682]             ┆                                 │\n",
       "│ 153068        ┆ 151570  ┆ 7074       ┆ [9778657, 9778669, … ┆ [[0.984971, 0.941774, … 0.9821… │\n",
       "│               ┆         ┆            ┆ 9778682]             ┆                                 │\n",
       "│ 153071        ┆ 151570  ┆ 7074       ┆ [9777492, 9774568, … ┆ [[0.990505, 0.944563, … 0.9827… │\n",
       "│               ┆         ┆            ┆ 9775990]             ┆                                 │\n",
       "│ 153078        ┆ 151570  ┆ 7074       ┆ [9778021, 9778627, … ┆ [[0.98114, 0.928685, … 0.98140… │\n",
       "│               ┆         ┆            ┆ 7213923]             ┆                                 │\n",
       "│ …             ┆ …       ┆ …          ┆ …                    ┆ …                               │\n",
       "│ 2433256       ┆ 1606050 ┆ 14460      ┆ [9483850, 9779648, … ┆ [[0.983992, 0.983894, … 0.9847… │\n",
       "│               ┆         ┆            ┆ 9779777]             ┆                                 │\n",
       "│ 2433248       ┆ 1606050 ┆ 14460      ┆ [9552181, 9779263, … ┆ [[0.987949, 0.98747, … 0.98762… │\n",
       "│               ┆         ┆            ┆ 9547869]             ┆                                 │\n",
       "│ 2435848       ┆ 1692081 ┆ 10750      ┆ [9779263, 9779205, … ┆ [[0.946211, 0.977764, … 0.9841… │\n",
       "│               ┆         ┆            ┆ 9779577]             ┆                                 │\n",
       "│ 2435885       ┆ 1695195 ┆ 10254      ┆ [9658252, 9569934, … ┆ [[0.942331, 0.990499, … 0.9925… │\n",
       "│               ┆         ┆            ┆ 9775885]             ┆                                 │\n",
       "│ 2436801       ┆ 1729576 ┆ 3516       ┆ [9780181, 9780193, … ┆ [[0.987722, 0.981711, … 0.9908… │\n",
       "│               ┆         ┆            ┆ 9780195]             ┆                                 │\n",
       "└───────────────┴─────────┴────────────┴──────────────────────┴─────────────────────────────────┘"
      ]
     },
     "execution_count": 14,
     "metadata": {},
     "output_type": "execute_result"
    }
   ],
   "source": [
    "scores_df = pl.concat([\n",
    "    slice.explode(['article_index', 'article']).with_columns(scores = np.dot(\n",
    "        m[slice['article_index'].explode().to_numpy()], \n",
    "        m[history_m[key[0]]].T))\\\n",
    "    .group_by(['impression_id', 'user_id', 'user_index'])\\\n",
    "    .agg(pl.all())\n",
    "    for key, slice in tqdm(df[:1000].partition_by(by=['user_index'], as_dict=True).items(), total=df['user_index'].n_unique())\n",
    "]).drop('article_index')\n",
    "scores_df"
   ]
  },
  {
   "cell_type": "code",
   "execution_count": 23,
   "metadata": {},
   "outputs": [
    {
     "data": {
      "text/html": [
       "<div><style>\n",
       ".dataframe > thead > tr,\n",
       ".dataframe > tbody > tr {\n",
       "  text-align: right;\n",
       "  white-space: pre-wrap;\n",
       "}\n",
       "</style>\n",
       "<small>shape: (2, 9)</small><table border=\"1\" class=\"dataframe\"><thead><tr><th>impression_id</th><th>user_id</th><th>user_index</th><th>article</th><th>scores</th><th>scores_mean</th><th>scores_max</th><th>scores_min</th><th>scores_std</th></tr><tr><td>u32</td><td>u32</td><td>u32</td><td>list[i32]</td><td>list[list[f32]]</td><td>list[f32]</td><td>list[f32]</td><td>list[f32]</td><td>list[f32]</td></tr></thead><tbody><tr><td>149474</td><td>139836</td><td>11894</td><td>[9778623, 9778682, … 9778728]</td><td>[[0.988827, 0.984725, … 0.954573], [0.982375, 0.988658, … 0.955571], … [0.976225, 0.973736, … 0.937987]]</td><td>[0.979383, 0.977003, … 0.968955]</td><td>[0.988899, 0.988986, … 0.980122]</td><td>[0.988899, 0.988986, … 0.980122]</td><td>[0.015714, 0.016969, … 0.016606]</td></tr><tr><td>150528</td><td>143471</td><td>7016</td><td>[9778718, 9778728, … 9778682]</td><td>[[0.9813, 0.945006, … 0.960722], [0.972239, 0.936991, … 0.948615], … [0.987887, 0.95329, … 0.961936]]</td><td>[0.971627, 0.963866, … 0.972263]</td><td>[0.992518, 0.989399, … 0.99187]</td><td>[0.992518, 0.989399, … 0.99187]</td><td>[0.055476, 0.053514, … 0.054451]</td></tr></tbody></table></div>"
      ],
      "text/plain": [
       "shape: (2, 9)\n",
       "┌────────────┬─────────┬───────────┬───────────┬───┬───────────┬───────────┬───────────┬───────────┐\n",
       "│ impression ┆ user_id ┆ user_inde ┆ article   ┆ … ┆ scores_me ┆ scores_ma ┆ scores_mi ┆ scores_st │\n",
       "│ _id        ┆ ---     ┆ x         ┆ ---       ┆   ┆ an        ┆ x         ┆ n         ┆ d         │\n",
       "│ ---        ┆ u32     ┆ ---       ┆ list[i32] ┆   ┆ ---       ┆ ---       ┆ ---       ┆ ---       │\n",
       "│ u32        ┆         ┆ u32       ┆           ┆   ┆ list[f32] ┆ list[f32] ┆ list[f32] ┆ list[f32] │\n",
       "╞════════════╪═════════╪═══════════╪═══════════╪═══╪═══════════╪═══════════╪═══════════╪═══════════╡\n",
       "│ 149474     ┆ 139836  ┆ 11894     ┆ [9778623, ┆ … ┆ [0.979383 ┆ [0.988899 ┆ [0.988899 ┆ [0.015714 │\n",
       "│            ┆         ┆           ┆ 9778682,  ┆   ┆ ,         ┆ ,         ┆ ,         ┆ ,         │\n",
       "│            ┆         ┆           ┆ …         ┆   ┆ 0.977003, ┆ 0.988986, ┆ 0.988986, ┆ 0.016969, │\n",
       "│            ┆         ┆           ┆ 9778728]  ┆   ┆ …         ┆ …         ┆ …         ┆ …         │\n",
       "│            ┆         ┆           ┆           ┆   ┆ 0.96895…  ┆ 0.98012…  ┆ 0.98012…  ┆ 0.01660…  │\n",
       "│ 150528     ┆ 143471  ┆ 7016      ┆ [9778718, ┆ … ┆ [0.971627 ┆ [0.992518 ┆ [0.992518 ┆ [0.055476 │\n",
       "│            ┆         ┆           ┆ 9778728,  ┆   ┆ ,         ┆ ,         ┆ ,         ┆ ,         │\n",
       "│            ┆         ┆           ┆ …         ┆   ┆ 0.963866, ┆ 0.989399, ┆ 0.989399, ┆ 0.053514, │\n",
       "│            ┆         ┆           ┆ 9778682]  ┆   ┆ …         ┆ …         ┆ …         ┆ …         │\n",
       "│            ┆         ┆           ┆           ┆   ┆ 0.97226…  ┆ 0.99187…  ┆ 0.99187…  ┆ 0.05445…  │\n",
       "└────────────┴─────────┴───────────┴───────────┴───┴───────────┴───────────┴───────────┴───────────┘"
      ]
     },
     "execution_count": 23,
     "metadata": {},
     "output_type": "execute_result"
    }
   ],
   "source": [
    "scores_df = scores_df.with_columns(\n",
    "    pl.col('scores').list.eval(pl.element().list.mean()).name.suffix('_mean'),\n",
    "    pl.col('scores').list.eval(pl.element().list.max()).name.suffix('_max'),\n",
    "    pl.col('scores').list.eval(pl.element().list.max()).name.suffix('_min'),\n",
    "    pl.col('scores').list.eval(pl.element().list.std()).name.suffix('_std'),\n",
    ")\n",
    "scores_df.head(2)"
   ]
  },
  {
   "cell_type": "code",
   "execution_count": 24,
   "metadata": {},
   "outputs": [
    {
     "data": {
      "text/html": [
       "<div><style>\n",
       ".dataframe > thead > tr,\n",
       ".dataframe > tbody > tr {\n",
       "  text-align: right;\n",
       "  white-space: pre-wrap;\n",
       "}\n",
       "</style>\n",
       "<small>shape: (2, 7)</small><table border=\"1\" class=\"dataframe\"><thead><tr><th>impression_id</th><th>user_id</th><th>article</th><th>scores_mean</th><th>scores_max</th><th>scores_min</th><th>scores_std</th></tr><tr><td>u32</td><td>u32</td><td>i32</td><td>f32</td><td>f32</td><td>f32</td><td>f32</td></tr></thead><tbody><tr><td>149474</td><td>139836</td><td>9778623</td><td>0.979383</td><td>0.988899</td><td>0.988899</td><td>0.015714</td></tr><tr><td>149474</td><td>139836</td><td>9778682</td><td>0.977003</td><td>0.988986</td><td>0.988986</td><td>0.016969</td></tr></tbody></table></div>"
      ],
      "text/plain": [
       "shape: (2, 7)\n",
       "┌───────────────┬─────────┬─────────┬─────────────┬────────────┬────────────┬────────────┐\n",
       "│ impression_id ┆ user_id ┆ article ┆ scores_mean ┆ scores_max ┆ scores_min ┆ scores_std │\n",
       "│ ---           ┆ ---     ┆ ---     ┆ ---         ┆ ---        ┆ ---        ┆ ---        │\n",
       "│ u32           ┆ u32     ┆ i32     ┆ f32         ┆ f32        ┆ f32        ┆ f32        │\n",
       "╞═══════════════╪═════════╪═════════╪═════════════╪════════════╪════════════╪════════════╡\n",
       "│ 149474        ┆ 139836  ┆ 9778623 ┆ 0.979383    ┆ 0.988899   ┆ 0.988899   ┆ 0.015714   │\n",
       "│ 149474        ┆ 139836  ┆ 9778682 ┆ 0.977003    ┆ 0.988986   ┆ 0.988986   ┆ 0.016969   │\n",
       "└───────────────┴─────────┴─────────┴─────────────┴────────────┴────────────┴────────────┘"
      ]
     },
     "execution_count": 24,
     "metadata": {},
     "output_type": "execute_result"
    }
   ],
   "source": [
    "explode_cols = ['article'] + [col for col in scores_df.columns if col.startswith('scores_')]\n",
    "res = scores_df.drop('user_index', 'scores')\\\n",
    "    .explode(explode_cols)\n",
    "res.head(2)"
   ]
  },
  {
   "cell_type": "markdown",
   "metadata": {},
   "source": [
    "# Multiple embeddings"
   ]
  },
  {
   "cell_type": "code",
   "execution_count": 29,
   "metadata": {},
   "outputs": [],
   "source": [
    "emb_name_list = {'Ekstra_Bladet_contrastive_vector': 'contrastive_vector',\n",
    "                #  'Ekstra_Bladet_image_embeddings': 'image_embeddings',\n",
    "                 'FacebookAI_xlm_roberta_base': 'xlm_roberta_base',\n",
    "                 'google_bert_base_multilingual_cased': 'bert_base_multilingual_cased'}"
   ]
  },
  {
   "cell_type": "code",
   "execution_count": 80,
   "metadata": {},
   "outputs": [],
   "source": [
    "def build_emb_scores(df: pl.DataFrame, history_m: np.ndarray, m_dict:dict[str, np.ndarray]):\n",
    "    df = reduce_polars_df_memory_size(df)\n",
    "    print(f'Starting to build embeddings scores for {m_dict.keys()}...')\n",
    "    df = pl.concat([\n",
    "        slice.explode(['article_index', 'article']).with_columns(\n",
    "            *[pl.lit(np.dot(m[slice['article_index'].explode().to_numpy()], m[history_m[key[0]]].T)).alias(f'{emb_name}_scores') for emb_name, m in m_dict.items()]\n",
    "        )\\\n",
    "        .group_by(['impression_id', 'user_id', 'user_index'])\\\n",
    "        .agg(pl.all())\n",
    "        for key, slice in tqdm(df[:1000].partition_by(by=['user_index'], as_dict=True).items(), total=df['user_index'].n_unique()) # keep only 1000 for testing\n",
    "    ]).drop('article_index', 'user_index')\n",
    "    return df\n",
    "\n",
    "def build_agg_scores(df: pl.DataFrame, history: pl.DataFrame, emb_names: list[str]):\n",
    "    df = reduce_polars_df_memory_size(df)\n",
    "    print(f'Starting to build aggregated scores for {emb_names}...')\n",
    "    df = df.with_columns(\n",
    "        *[pl.col(f'{emb_name}_scores').list.eval(pl.element().list.mean()).name.suffix('_mean') for emb_name in emb_names],\n",
    "        *[pl.col(f'{emb_name}_scores').list.eval(pl.element().list.max()).name.suffix('_max') for emb_name in emb_names],\n",
    "        *[pl.col(f'{emb_name}_scores').list.eval(pl.element().list.max()).name.suffix('_min') for emb_name in emb_names],\n",
    "        *[pl.col(f'{emb_name}_scores').list.eval(pl.element().list.std()).name.suffix('_std') for emb_name in emb_names],\n",
    "    )\n",
    "    return df\n"
   ]
  },
  {
   "cell_type": "code",
   "execution_count": 81,
   "metadata": {},
   "outputs": [
    {
     "name": "stdout",
     "output_type": "stream",
     "text": [
      "Processing contrastive_vector embedding matrix...\n",
      "Processing xlm_roberta_base embedding matrix...\n",
      "Processing bert_base_multilingual_cased embedding matrix...\n"
     ]
    }
   ],
   "source": [
    "norm_m_dict = {}\n",
    "for dir, file_name in emb_name_list.items():\n",
    "    print(f'Processing {file_name} embedding matrix...')\n",
    "    emb_df = pl.read_parquet(emb_dir / dir / f'{file_name}.parquet')\n",
    "    emb_df.columns = ['article_id', 'embedding']\n",
    "    emb_df = emb_df.with_row_index()\n",
    "    \n",
    "    m = np.array([np.array(row) for row in emb_df['embedding'].to_numpy()])\n",
    "    row_norms = np.linalg.norm(m, axis=1, keepdims=True)\n",
    "    m = m / row_norms\n",
    "    norm_m_dict[file_name] = m"
   ]
  },
  {
   "cell_type": "code",
   "execution_count": 83,
   "metadata": {},
   "outputs": [
    {
     "name": "stdout",
     "output_type": "stream",
     "text": [
      "Memory usage of dataframe is 25.95 MB\n",
      "Memory usage after optimization is: 25.95 MB\n",
      "Decreased by 0.0%\n",
      "Starting to build embeddings scores for dict_keys(['contrastive_vector', 'xlm_roberta_base', 'bert_base_multilingual_cased'])...\n"
     ]
    },
    {
     "name": "stderr",
     "output_type": "stream",
     "text": [
      "  3%|▎         | 466/15143 [00:03<01:48, 135.55it/s]\n"
     ]
    },
    {
     "name": "stdout",
     "output_type": "stream",
     "text": [
      "Memory usage of dataframe is 37.97 MB\n",
      "Memory usage after optimization is: 37.97 MB\n",
      "Decreased by 0.0%\n",
      "Starting to build aggregated scores for ['contrastive_vector', 'xlm_roberta_base', 'bert_base_multilingual_cased']...\n"
     ]
    },
    {
     "data": {
      "text/html": [
       "<div><style>\n",
       ".dataframe > thead > tr,\n",
       ".dataframe > tbody > tr {\n",
       "  text-align: right;\n",
       "  white-space: pre-wrap;\n",
       "}\n",
       "</style>\n",
       "<small>shape: (5, 15)</small><table border=\"1\" class=\"dataframe\"><thead><tr><th>impression_id</th><th>user_id</th><th>article</th><th>contrastive_vector_scores_mean</th><th>xlm_roberta_base_scores_mean</th><th>bert_base_multilingual_cased_scores_mean</th><th>contrastive_vector_scores_max</th><th>xlm_roberta_base_scores_max</th><th>bert_base_multilingual_cased_scores_max</th><th>contrastive_vector_scores_min</th><th>xlm_roberta_base_scores_min</th><th>bert_base_multilingual_cased_scores_min</th><th>contrastive_vector_scores_std</th><th>xlm_roberta_base_scores_std</th><th>bert_base_multilingual_cased_scores_std</th></tr><tr><td>u32</td><td>u32</td><td>i32</td><td>f32</td><td>f32</td><td>f32</td><td>f32</td><td>f32</td><td>f32</td><td>f32</td><td>f32</td><td>f32</td><td>f32</td><td>f32</td><td>f32</td></tr></thead><tbody><tr><td>149474</td><td>139836</td><td>9778623</td><td>0.122687</td><td>0.999321</td><td>0.979383</td><td>0.355306</td><td>0.999502</td><td>0.988899</td><td>0.355306</td><td>0.999502</td><td>0.988899</td><td>0.085057</td><td>0.000127</td><td>0.015714</td></tr><tr><td>149474</td><td>139836</td><td>9778682</td><td>0.192321</td><td>0.999325</td><td>0.977003</td><td>0.634906</td><td>0.999623</td><td>0.988986</td><td>0.634906</td><td>0.999623</td><td>0.988986</td><td>0.180453</td><td>0.00024</td><td>0.016969</td></tr><tr><td>149474</td><td>139836</td><td>9778669</td><td>0.101564</td><td>0.999104</td><td>0.93978</td><td>0.504418</td><td>0.999329</td><td>0.951898</td><td>0.504418</td><td>0.999329</td><td>0.951898</td><td>0.225029</td><td>0.000158</td><td>0.009223</td></tr><tr><td>149474</td><td>139836</td><td>9778657</td><td>0.144526</td><td>0.999398</td><td>0.978806</td><td>0.667968</td><td>0.999623</td><td>0.991782</td><td>0.667968</td><td>0.999623</td><td>0.991782</td><td>0.251974</td><td>0.000176</td><td>0.016069</td></tr><tr><td>149474</td><td>139836</td><td>9778736</td><td>0.037258</td><td>0.998896</td><td>0.981011</td><td>0.434094</td><td>0.999381</td><td>0.99125</td><td>0.434094</td><td>0.999381</td><td>0.99125</td><td>0.158988</td><td>0.000378</td><td>0.01584</td></tr></tbody></table></div>"
      ],
      "text/plain": [
       "shape: (5, 15)\n",
       "┌────────────┬─────────┬─────────┬────────────┬───┬────────────┬───────────┬───────────┬───────────┐\n",
       "│ impression ┆ user_id ┆ article ┆ contrastiv ┆ … ┆ bert_base_ ┆ contrasti ┆ xlm_rober ┆ bert_base │\n",
       "│ _id        ┆ ---     ┆ ---     ┆ e_vector_s ┆   ┆ multilingu ┆ ve_vector ┆ ta_base_s ┆ _multilin │\n",
       "│ ---        ┆ u32     ┆ i32     ┆ cores_mean ┆   ┆ al_cased_s ┆ _scores_s ┆ cores_std ┆ gual_case │\n",
       "│ u32        ┆         ┆         ┆ ---        ┆   ┆ …          ┆ td        ┆ ---       ┆ d_s…      │\n",
       "│            ┆         ┆         ┆ f32        ┆   ┆ ---        ┆ ---       ┆ f32       ┆ ---       │\n",
       "│            ┆         ┆         ┆            ┆   ┆ f32        ┆ f32       ┆           ┆ f32       │\n",
       "╞════════════╪═════════╪═════════╪════════════╪═══╪════════════╪═══════════╪═══════════╪═══════════╡\n",
       "│ 149474     ┆ 139836  ┆ 9778623 ┆ 0.122687   ┆ … ┆ 0.988899   ┆ 0.085057  ┆ 0.000127  ┆ 0.015714  │\n",
       "│ 149474     ┆ 139836  ┆ 9778682 ┆ 0.192321   ┆ … ┆ 0.988986   ┆ 0.180453  ┆ 0.00024   ┆ 0.016969  │\n",
       "│ 149474     ┆ 139836  ┆ 9778669 ┆ 0.101564   ┆ … ┆ 0.951898   ┆ 0.225029  ┆ 0.000158  ┆ 0.009223  │\n",
       "│ 149474     ┆ 139836  ┆ 9778657 ┆ 0.144526   ┆ … ┆ 0.991782   ┆ 0.251974  ┆ 0.000176  ┆ 0.016069  │\n",
       "│ 149474     ┆ 139836  ┆ 9778736 ┆ 0.037258   ┆ … ┆ 0.99125    ┆ 0.158988  ┆ 0.000378  ┆ 0.01584   │\n",
       "└────────────┴─────────┴─────────┴────────────┴───┴────────────┴───────────┴───────────┴───────────┘"
      ]
     },
     "execution_count": 83,
     "metadata": {},
     "output_type": "execute_result"
    }
   ],
   "source": [
    "article_emb_mapping = emb_df.select('index', 'article_id')\n",
    "\n",
    "history_m = history_train\\\n",
    "    .select('user_id', pl.col('article_id_fixed').list.eval(\n",
    "                pl.element().replace(article_emb_mapping['article_id'], article_emb_mapping['index'], default=None)))\\\n",
    "    .with_row_index('user_index')\n",
    "\n",
    "user_history_map = history_m.select('user_id', 'user_index')\n",
    "history_m = history_m['article_id_fixed'].to_numpy()\n",
    "train_ds = behaviors_train.select('impression_id', 'user_id', pl.col('article_ids_inview').alias('article'))\\\n",
    "    .join(user_history_map, on='user_id')\\\n",
    "    .with_columns(\n",
    "        pl.col('article').list.eval(pl.element().replace(article_emb_mapping['article_id'], article_emb_mapping['index'], default=None)).name.suffix('_index'),\n",
    "    ).drop('impression_time_fixed', 'scroll_percentage_fixed', 'read_time_fixed')\n",
    "\n",
    "train_ds = build_emb_scores(train_ds, history_m, m_dict=norm_m_dict)\n",
    "train_ds = build_agg_scores(train_ds, history_train, emb_names=list(norm_m_dict.keys()))\n",
    "agg_scores_col = [col for col in train_ds.columns if '_scores_' in col]\n",
    "train_ds = train_ds.drop([f'{emb_name}_scores' for emb_name in list(norm_m_dict.keys())]).explode(['article'] + agg_scores_col)\n",
    "train_ds.head()"
   ]
  },
  {
   "cell_type": "code",
   "execution_count": 84,
   "metadata": {},
   "outputs": [
    {
     "data": {
      "text/html": [
       "<div><style>\n",
       ".dataframe > thead > tr,\n",
       ".dataframe > tbody > tr {\n",
       "  text-align: right;\n",
       "  white-space: pre-wrap;\n",
       "}\n",
       "</style>\n",
       "<small>shape: (1, 15)</small><table border=\"1\" class=\"dataframe\"><thead><tr><th>impression_id</th><th>user_id</th><th>article</th><th>contrastive_vector_scores_mean</th><th>xlm_roberta_base_scores_mean</th><th>bert_base_multilingual_cased_scores_mean</th><th>contrastive_vector_scores_max</th><th>xlm_roberta_base_scores_max</th><th>bert_base_multilingual_cased_scores_max</th><th>contrastive_vector_scores_min</th><th>xlm_roberta_base_scores_min</th><th>bert_base_multilingual_cased_scores_min</th><th>contrastive_vector_scores_std</th><th>xlm_roberta_base_scores_std</th><th>bert_base_multilingual_cased_scores_std</th></tr><tr><td>u32</td><td>u32</td><td>u32</td><td>u32</td><td>u32</td><td>u32</td><td>u32</td><td>u32</td><td>u32</td><td>u32</td><td>u32</td><td>u32</td><td>u32</td><td>u32</td><td>u32</td></tr></thead><tbody><tr><td>0</td><td>0</td><td>0</td><td>0</td><td>0</td><td>0</td><td>0</td><td>0</td><td>0</td><td>0</td><td>0</td><td>0</td><td>0</td><td>0</td><td>0</td></tr></tbody></table></div>"
      ],
      "text/plain": [
       "shape: (1, 15)\n",
       "┌────────────┬─────────┬─────────┬────────────┬───┬────────────┬───────────┬───────────┬───────────┐\n",
       "│ impression ┆ user_id ┆ article ┆ contrastiv ┆ … ┆ bert_base_ ┆ contrasti ┆ xlm_rober ┆ bert_base │\n",
       "│ _id        ┆ ---     ┆ ---     ┆ e_vector_s ┆   ┆ multilingu ┆ ve_vector ┆ ta_base_s ┆ _multilin │\n",
       "│ ---        ┆ u32     ┆ u32     ┆ cores_mean ┆   ┆ al_cased_s ┆ _scores_s ┆ cores_std ┆ gual_case │\n",
       "│ u32        ┆         ┆         ┆ ---        ┆   ┆ …          ┆ td        ┆ ---       ┆ d_s…      │\n",
       "│            ┆         ┆         ┆ u32        ┆   ┆ ---        ┆ ---       ┆ u32       ┆ ---       │\n",
       "│            ┆         ┆         ┆            ┆   ┆ u32        ┆ u32       ┆           ┆ u32       │\n",
       "╞════════════╪═════════╪═════════╪════════════╪═══╪════════════╪═══════════╪═══════════╪═══════════╡\n",
       "│ 0          ┆ 0       ┆ 0       ┆ 0          ┆ … ┆ 0          ┆ 0         ┆ 0         ┆ 0         │\n",
       "└────────────┴─────────┴─────────┴────────────┴───┴────────────┴───────────┴───────────┴───────────┘"
      ]
     },
     "execution_count": 84,
     "metadata": {},
     "output_type": "execute_result"
    }
   ],
   "source": [
    "train_ds.null_count()"
   ]
  },
  {
   "cell_type": "code",
   "execution_count": null,
   "metadata": {},
   "outputs": [],
   "source": []
  }
 ],
 "metadata": {
  "kernelspec": {
   "display_name": "recsys",
   "language": "python",
   "name": "python3"
  },
  "language_info": {
   "codemirror_mode": {
    "name": "ipython",
    "version": 3
   },
   "file_extension": ".py",
   "mimetype": "text/x-python",
   "name": "python",
   "nbconvert_exporter": "python",
   "pygments_lexer": "ipython3",
   "version": "3.11.0"
  }
 },
 "nbformat": 4,
 "nbformat_minor": 2
}
