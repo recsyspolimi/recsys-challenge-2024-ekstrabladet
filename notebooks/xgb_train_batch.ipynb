{
 "cells": [
  {
   "cell_type": "code",
   "execution_count": 1,
   "metadata": {},
   "outputs": [],
   "source": [
    "import polars as pl\n",
    "from pathlib import Path"
   ]
  },
  {
   "cell_type": "code",
   "execution_count": 2,
   "metadata": {},
   "outputs": [],
   "source": [
    "import json\n",
    "DIR = Path('/home/ubuntu/experiments/subsample_new_with_recsys_train_small')\n",
    "\n",
    "train_ds = pl.read_parquet(DIR / 'train_ds.parquet')\n",
    "with open(DIR / 'data_info.json') as data_info_file:\n",
    "        data_info = json.load(data_info_file)"
   ]
  },
  {
   "cell_type": "code",
   "execution_count": 8,
   "metadata": {},
   "outputs": [],
   "source": [
    "# import math\n",
    "# BATCH_SIZE = math.ceil(len(train_ds) / 5)\n",
    "# for i, slice in enumerate(train_ds.iter_slices(BATCH_SIZE)):\n",
    "#     dir_path = DIR / 'slices' / 'train'\n",
    "#     dir_path.mkdir(exist_ok=True, parents=True)\n",
    "#     slice.write_parquet(dir_path / f'slice_{i}.parquet')"
   ]
  },
  {
   "cell_type": "code",
   "execution_count": 3,
   "metadata": {},
   "outputs": [],
   "source": [
    "import gc\n",
    "import numpy as np\n",
    "\n",
    "def preprocess_slice(train_ds: pl.DataFrame):        \n",
    "    if 'postcode' in train_ds.columns:\n",
    "        train_ds = train_ds.with_columns(pl.col('postcode').fill_null(5))\n",
    "    if 'article_type' in train_ds.columns:\n",
    "        train_ds = train_ds.with_columns(pl.col('article_type').fill_null('article_default'))\n",
    "    if 'impression_time' in train_ds.columns:\n",
    "        train_ds = train_ds.drop(['impression_time'])\n",
    "    \n",
    "    train_ds = train_ds.drop(['impression_id', 'article', 'user_id']).to_pandas()\n",
    "    train_ds[data_info['categorical_columns']] = train_ds[data_info['categorical_columns']].astype('category')\n",
    "        \n",
    "    X = train_ds.drop(columns=['target'])\n",
    "    X = X.replace([np.inf, -np.inf], np.nan)\n",
    "    y = train_ds['target']\n",
    "    return X, y"
   ]
  },
  {
   "cell_type": "code",
   "execution_count": 5,
   "metadata": {},
   "outputs": [],
   "source": [
    "X, y = preprocess_slice(train_ds[0:1])"
   ]
  },
  {
   "cell_type": "code",
   "execution_count": 10,
   "metadata": {},
   "outputs": [
    {
     "name": "stdout",
     "output_type": "stream",
     "text": [
      "[PosixPath('/home/ubuntu/experiments/subsample_new_with_recsys_train_small/slices/train/slice_0.parquet'), PosixPath('/home/ubuntu/experiments/subsample_new_with_recsys_train_small/slices/train/slice_1.parquet'), PosixPath('/home/ubuntu/experiments/subsample_new_with_recsys_train_small/slices/train/slice_2.parquet'), PosixPath('/home/ubuntu/experiments/subsample_new_with_recsys_train_small/slices/train/slice_3.parquet'), PosixPath('/home/ubuntu/experiments/subsample_new_with_recsys_train_small/slices/train/slice_4.parquet')]\n",
      "{'n_estimators': 4860, 'learning_rate': 0.007673025629394672, 'reg_alpha': 0.0002675014847368601, 'reg_lambda': 0.009527258861955984, 'max_depth': 9, 'max_leaves': 459, 'grow_policy': 'lossguide', 'max_bin': 185, 'gamma': 0.0002936826358088138, 'min_child_weight': 0.14432522926107985, 'subsample': 0.4781490371876336, 'colsample_bytree': 0.5859934501543211}\n",
      "Creating complete QuantilDMatrix...\n",
      "Elapsed time: 0.23 min\n",
      "Creating batch QuantilDMatrix...\n",
      "Elapsed time: 0.37 min\n"
     ]
    }
   ],
   "source": [
    "import os\n",
    "import time\n",
    "from typing import List, Callable\n",
    "import xgboost\n",
    "from sklearn.datasets import load_svmlight_file\n",
    "from polimi.utils._custom import read_json\n",
    "\n",
    "class Iterator(xgboost.DataIter):\n",
    "  def __init__(self, file_paths: List[str]):\n",
    "    self._file_paths = file_paths\n",
    "    self._it = 0\n",
    "    \n",
    "    # # XGBoost will generate some cache files under current directory with the prefix\n",
    "    # # \"cache\"\n",
    "    # super().__init__(cache_prefix=os.path.join(\".\", \"cache\"))\n",
    "    super().__init__()\n",
    "\n",
    "\n",
    "  def next(self, input_data: Callable):\n",
    "    \"\"\"Advance the iterator by 1 step and pass the data to XGBoost.  This function is\n",
    "    called by XGBoost during the construction of ``DMatrix``\n",
    "\n",
    "    \"\"\"\n",
    "    if self._it == len(self._file_paths):\n",
    "      # return 0 to let XGBoost know this is the end of iteration\n",
    "      return 0\n",
    "\n",
    "    # input_data is a function passed in by XGBoost who has the exact same signature of\n",
    "    # ``DMatrix``\n",
    "    train_ds = pl.read_parquet(self._file_paths[self._it])\n",
    "    X, y = preprocess_slice(train_ds)\n",
    "    input_data(data=X, label=y)\n",
    "    self._it += 1\n",
    "    # Return 1 to let XGBoost know we haven't seen all the files yet.\n",
    "    return 1\n",
    "\n",
    "  def reset(self):\n",
    "    \"\"\"Reset the iterator to its beginning\"\"\"\n",
    "    self._it = 0\n",
    "\n",
    "slices_paths = sorted(list((DIR / 'slices' / 'train').glob('slice_*.parquet')), key=lambda x: int(x.stem.split('_')[1]))\n",
    "print(slices_paths)\n",
    "it = Iterator(slices_paths)\n",
    "\n",
    "params = read_json(Path('/home/ubuntu/RecSysChallenge2024/configuration_files') / 'xgb_cls_new_with_recsys_noK.json')\n",
    "print(params)\n",
    "\n",
    "X, y = preprocess_slice(train_ds)\n",
    "print('Creating complete QuantilDMatrix...')\n",
    "start_time = time.time()\n",
    "dmatrix = xgboost.QuantileDMatrix(X, label=y, enable_categorical=True, max_bin=params['max_bin'])\n",
    "print(f'Elapsed time: {((time.time() - start_time)/60):.2f} min')\n",
    "\n",
    "print('Creating batch QuantilDMatrix...')\n",
    "start_time = time.time()\n",
    "dmatrix = xgboost.QuantileDMatrix(it, enable_categorical=True, max_bin=params['max_bin'])\n",
    "print(f'Elapsed time: {((time.time() - start_time)/60):.2f} min')"
   ]
  },
  {
   "cell_type": "code",
   "execution_count": null,
   "metadata": {},
   "outputs": [],
   "source": []
  }
 ],
 "metadata": {
  "kernelspec": {
   "display_name": "recsys",
   "language": "python",
   "name": "python3"
  },
  "language_info": {
   "codemirror_mode": {
    "name": "ipython",
    "version": 3
   },
   "file_extension": ".py",
   "mimetype": "text/x-python",
   "name": "python",
   "nbconvert_exporter": "python",
   "pygments_lexer": "ipython3",
   "version": "3.10.14"
  }
 },
 "nbformat": 4,
 "nbformat_minor": 2
}
