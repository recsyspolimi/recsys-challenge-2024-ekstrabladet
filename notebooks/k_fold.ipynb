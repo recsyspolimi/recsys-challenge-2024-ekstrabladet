{
 "cells": [
  {
   "cell_type": "code",
   "execution_count": 282,
   "metadata": {},
   "outputs": [],
   "source": [
    "import polars as pl\n",
    "from pathlib import Path\n",
    "import numpy as np\n",
    "import datetime"
   ]
  },
  {
   "cell_type": "code",
   "execution_count": 263,
   "metadata": {},
   "outputs": [],
   "source": [
    "dpath = Path('../dataset')\n",
    "\n",
    "dtype = 'small'\n",
    "articles = pl.read_parquet(f'{dpath}/ebnerd_{dtype}/articles.parquet')\n",
    "\n",
    "behaviors_train = pl.read_parquet(f'{dpath}/ebnerd_{dtype}/train/behaviors.parquet')\n",
    "history_train = pl.read_parquet(f'{dpath}/ebnerd_{dtype}/train/history.parquet')\n",
    "\n",
    "behaviors_val = pl.read_parquet(f'{dpath}/ebnerd_{dtype}/validation/behaviors.parquet')\n",
    "history_val = pl.read_parquet(f'{dpath}/ebnerd_{dtype}/validation/history.parquet')"
   ]
  },
  {
   "cell_type": "code",
   "execution_count": 264,
   "metadata": {},
   "outputs": [
    {
     "name": "stdout",
     "output_type": "stream",
     "text": [
      "History train:  2023-04-27 07:00:00 2023-05-18 06:59:59 20 days, 23:59:59\n",
      "Behaviors train:  2023-05-18 07:00:01 2023-05-25 06:59:58 6 days, 23:59:57\n"
     ]
    }
   ],
   "source": [
    "print('History train: ', history_train['impression_time_fixed'].explode().min(), history_train['impression_time_fixed'].explode().max(), (history_train['impression_time_fixed'].explode().max() - history_train['impression_time_fixed'].explode().min()))\n",
    "print('Behaviors train: ', behaviors_train['impression_time'].explode().min(), behaviors_train['impression_time'].explode().max(), behaviors_train['impression_time'].explode().max() - behaviors_train['impression_time'].explode().min())"
   ]
  },
  {
   "cell_type": "code",
   "execution_count": 265,
   "metadata": {},
   "outputs": [
    {
     "name": "stdout",
     "output_type": "stream",
     "text": [
      "History val:  2023-05-04 07:00:00 2023-05-25 06:59:59 20 days, 23:59:59\n",
      "Behaviors val:  2023-05-25 07:00:02 2023-06-01 06:59:59 6 days, 23:59:57\n"
     ]
    }
   ],
   "source": [
    "print('History val: ', history_val['impression_time_fixed'].explode().min(), history_val['impression_time_fixed'].explode().max(), (history_val['impression_time_fixed'].explode().max() - history_val['impression_time_fixed'].explode().min()))\n",
    "print('Behaviors val: ', behaviors_val['impression_time'].explode().min(), behaviors_val['impression_time'].explode().max(), behaviors_val['impression_time'].explode().max() - behaviors_val['impression_time'].explode().min())"
   ]
  },
  {
   "cell_type": "code",
   "execution_count": 266,
   "metadata": {},
   "outputs": [
    {
     "data": {
      "text/plain": [
       "datetime.timedelta(days=13, seconds=86398)"
      ]
     },
     "execution_count": 266,
     "metadata": {},
     "output_type": "execute_result"
    }
   ],
   "source": [
    "behaviors_val['impression_time'].explode().max() - behaviors_train['impression_time'].explode().min()"
   ]
  },
  {
   "cell_type": "code",
   "execution_count": 320,
   "metadata": {},
   "outputs": [
    {
     "data": {
      "text/html": [
       "<div><style>\n",
       ".dataframe > thead > tr,\n",
       ".dataframe > tbody > tr {\n",
       "  text-align: right;\n",
       "  white-space: pre-wrap;\n",
       "}\n",
       "</style>\n",
       "<small>shape: (2, 5)</small><table border=\"1\" class=\"dataframe\"><thead><tr><th>user_id</th><th>impression_time_fixed</th><th>article_id_fixed</th><th>scroll_percentage_fixed</th><th>read_time_fixed</th></tr><tr><td>u32</td><td>list[datetime[μs]]</td><td>list[i32]</td><td>list[f32]</td><td>list[f32]</td></tr></thead><tbody><tr><td>1629856</td><td>[2023-05-19 03:52:13, 2023-05-19 03:52:23, … 2023-05-20 19:18:05]</td><td>[9771187, 9771896, … 9773987]</td><td>[62.0, 60.0, … null]</td><td>[3.0, 7.0, … 5.0]</td></tr><tr><td>518721</td><td>[2023-05-19 04:54:36, 2023-05-22 04:30:17]</td><td>[9771938, 9775485]</td><td>[30.0, 32.0]</td><td>[12.0, 14.0]</td></tr></tbody></table></div>"
      ],
      "text/plain": [
       "shape: (2, 5)\n",
       "┌─────────┬──────────────────────┬──────────────────────┬──────────────────────┬───────────────────┐\n",
       "│ user_id ┆ impression_time_fixe ┆ article_id_fixed     ┆ scroll_percentage_fi ┆ read_time_fixed   │\n",
       "│ ---     ┆ d                    ┆ ---                  ┆ xed                  ┆ ---               │\n",
       "│ u32     ┆ ---                  ┆ list[i32]            ┆ ---                  ┆ list[f32]         │\n",
       "│         ┆ list[datetime[μs]]   ┆                      ┆ list[f32]            ┆                   │\n",
       "╞═════════╪══════════════════════╪══════════════════════╪══════════════════════╪═══════════════════╡\n",
       "│ 1629856 ┆ [2023-05-19          ┆ [9771187, 9771896, … ┆ [62.0, 60.0, … null] ┆ [3.0, 7.0, … 5.0] │\n",
       "│         ┆ 03:52:13, 2023-05-…  ┆ 9773987]             ┆                      ┆                   │\n",
       "│ 518721  ┆ [2023-05-19          ┆ [9771938, 9775485]   ┆ [30.0, 32.0]         ┆ [12.0, 14.0]      │\n",
       "│         ┆ 04:54:36, 2023-05-…  ┆                      ┆                      ┆                   │\n",
       "└─────────┴──────────────────────┴──────────────────────┴──────────────────────┴───────────────────┘"
      ]
     },
     "execution_count": 320,
     "metadata": {},
     "output_type": "execute_result"
    }
   ],
   "source": [
    "def behaviors_to_history(behaviors: pl.DataFrame) -> pl.DataFrame:\n",
    "        return behaviors.sort('impression_time').select('user_id', 'impression_time', 'article_ids_clicked', 'next_scroll_percentage', 'next_read_time')\\\n",
    "                .rename({'impression_time': 'impression_time_fixed', \n",
    "                        'article_ids_clicked': 'article_id_fixed', \n",
    "                        'next_read_time': 'read_time_fixed', \n",
    "                        'next_scroll_percentage': 'scroll_percentage_fixed'})\\\n",
    "                .explode('article_id_fixed').group_by('user_id').agg(pl.all())\n",
    "        \n",
    "behaviors_to_history(behaviors_train).head(2)"
   ]
  },
  {
   "cell_type": "code",
   "execution_count": 319,
   "metadata": {},
   "outputs": [
    {
     "data": {
      "text/html": [
       "<div><style>\n",
       ".dataframe > thead > tr,\n",
       ".dataframe > tbody > tr {\n",
       "  text-align: right;\n",
       "  white-space: pre-wrap;\n",
       "}\n",
       "</style>\n",
       "<small>shape: (232_887, 17)</small><table border=\"1\" class=\"dataframe\"><thead><tr><th>impression_id</th><th>article_id</th><th>impression_time</th><th>read_time</th><th>scroll_percentage</th><th>device_type</th><th>article_ids_inview</th><th>article_ids_clicked</th><th>user_id</th><th>is_sso_user</th><th>gender</th><th>postcode</th><th>age</th><th>is_subscriber</th><th>session_id</th><th>next_read_time</th><th>next_scroll_percentage</th></tr><tr><td>u32</td><td>i32</td><td>datetime[μs]</td><td>f32</td><td>f32</td><td>i8</td><td>list[i32]</td><td>list[i32]</td><td>u32</td><td>bool</td><td>i8</td><td>i8</td><td>i8</td><td>bool</td><td>u32</td><td>f32</td><td>f32</td></tr></thead><tbody><tr><td>149474</td><td>null</td><td>2023-05-24 07:47:53</td><td>13.0</td><td>null</td><td>2</td><td>[9778623, 9778682, … 9778728]</td><td>[9778657]</td><td>139836</td><td>false</td><td>null</td><td>null</td><td>null</td><td>false</td><td>759</td><td>7.0</td><td>22.0</td></tr><tr><td>150528</td><td>null</td><td>2023-05-24 07:33:25</td><td>25.0</td><td>null</td><td>2</td><td>[9778718, 9778728, … 9778682]</td><td>[9778623]</td><td>143471</td><td>false</td><td>null</td><td>null</td><td>null</td><td>false</td><td>1240</td><td>287.0</td><td>100.0</td></tr><tr><td>153068</td><td>9778682</td><td>2023-05-24 07:09:04</td><td>78.0</td><td>100.0</td><td>1</td><td>[9778657, 9778669, … 9778682]</td><td>[9778669]</td><td>151570</td><td>false</td><td>null</td><td>null</td><td>null</td><td>false</td><td>1976</td><td>45.0</td><td>100.0</td></tr><tr><td>153070</td><td>9777492</td><td>2023-05-24 07:13:14</td><td>26.0</td><td>100.0</td><td>1</td><td>[9020783, 9778444, … 9778628]</td><td>[9778628]</td><td>151570</td><td>false</td><td>null</td><td>null</td><td>null</td><td>false</td><td>1976</td><td>4.0</td><td>18.0</td></tr><tr><td>153071</td><td>9778623</td><td>2023-05-24 07:11:08</td><td>125.0</td><td>100.0</td><td>1</td><td>[9777492, 9774568, … 9775990]</td><td>[9777492]</td><td>151570</td><td>false</td><td>null</td><td>null</td><td>null</td><td>false</td><td>1976</td><td>26.0</td><td>100.0</td></tr><tr><td>&hellip;</td><td>&hellip;</td><td>&hellip;</td><td>&hellip;</td><td>&hellip;</td><td>&hellip;</td><td>&hellip;</td><td>&hellip;</td><td>&hellip;</td><td>&hellip;</td><td>&hellip;</td><td>&hellip;</td><td>&hellip;</td><td>&hellip;</td><td>&hellip;</td><td>&hellip;</td><td>&hellip;</td></tr><tr><td>580099643</td><td>9769306</td><td>2023-05-18 10:01:05</td><td>121.0</td><td>100.0</td><td>3</td><td>[9233208, 9771242, … 9521144]</td><td>[9770886]</td><td>2106715</td><td>false</td><td>null</td><td>null</td><td>null</td><td>false</td><td>1416293</td><td>121.0</td><td>null</td></tr><tr><td>580099644</td><td>9770882</td><td>2023-05-18 10:05:07</td><td>176.0</td><td>100.0</td><td>3</td><td>[9771065, 9767697, … 9769762]</td><td>[9769306]</td><td>2106715</td><td>false</td><td>null</td><td>null</td><td>null</td><td>false</td><td>1416293</td><td>148.0</td><td>100.0</td></tr><tr><td>580099645</td><td>9769306</td><td>2023-05-18 10:11:03</td><td>24.0</td><td>100.0</td><td>3</td><td>[9771042, 9440508, … 9767697]</td><td>[9771042]</td><td>2106715</td><td>false</td><td>null</td><td>null</td><td>null</td><td>false</td><td>1416293</td><td>4.0</td><td>null</td></tr><tr><td>580100695</td><td>9771242</td><td>2023-05-18 10:00:08</td><td>5.0</td><td>100.0</td><td>1</td><td>[9440508, 9142581, … 8422665]</td><td>[9767697]</td><td>2110744</td><td>false</td><td>null</td><td>null</td><td>null</td><td>false</td><td>747086</td><td>75.0</td><td>100.0</td></tr><tr><td>580100697</td><td>9771242</td><td>2023-05-18 10:01:29</td><td>14.0</td><td>100.0</td><td>1</td><td>[9233208, 8422665, … 9770997]</td><td>[9771042]</td><td>2110744</td><td>false</td><td>null</td><td>null</td><td>null</td><td>false</td><td>747086</td><td>123.0</td><td>25.0</td></tr></tbody></table></div>"
      ],
      "text/plain": [
       "shape: (232_887, 17)\n",
       "┌───────────┬───────────┬───────────┬───────────┬───┬───────────┬───────────┬───────────┬──────────┐\n",
       "│ impressio ┆ article_i ┆ impressio ┆ read_time ┆ … ┆ is_subscr ┆ session_i ┆ next_read ┆ next_scr │\n",
       "│ n_id      ┆ d         ┆ n_time    ┆ ---       ┆   ┆ iber      ┆ d         ┆ _time     ┆ oll_perc │\n",
       "│ ---       ┆ ---       ┆ ---       ┆ f32       ┆   ┆ ---       ┆ ---       ┆ ---       ┆ entage   │\n",
       "│ u32       ┆ i32       ┆ datetime[ ┆           ┆   ┆ bool      ┆ u32       ┆ f32       ┆ ---      │\n",
       "│           ┆           ┆ μs]       ┆           ┆   ┆           ┆           ┆           ┆ f32      │\n",
       "╞═══════════╪═══════════╪═══════════╪═══════════╪═══╪═══════════╪═══════════╪═══════════╪══════════╡\n",
       "│ 149474    ┆ null      ┆ 2023-05-2 ┆ 13.0      ┆ … ┆ false     ┆ 759       ┆ 7.0       ┆ 22.0     │\n",
       "│           ┆           ┆ 4         ┆           ┆   ┆           ┆           ┆           ┆          │\n",
       "│           ┆           ┆ 07:47:53  ┆           ┆   ┆           ┆           ┆           ┆          │\n",
       "│ 150528    ┆ null      ┆ 2023-05-2 ┆ 25.0      ┆ … ┆ false     ┆ 1240      ┆ 287.0     ┆ 100.0    │\n",
       "│           ┆           ┆ 4         ┆           ┆   ┆           ┆           ┆           ┆          │\n",
       "│           ┆           ┆ 07:33:25  ┆           ┆   ┆           ┆           ┆           ┆          │\n",
       "│ 153068    ┆ 9778682   ┆ 2023-05-2 ┆ 78.0      ┆ … ┆ false     ┆ 1976      ┆ 45.0      ┆ 100.0    │\n",
       "│           ┆           ┆ 4         ┆           ┆   ┆           ┆           ┆           ┆          │\n",
       "│           ┆           ┆ 07:09:04  ┆           ┆   ┆           ┆           ┆           ┆          │\n",
       "│ 153070    ┆ 9777492   ┆ 2023-05-2 ┆ 26.0      ┆ … ┆ false     ┆ 1976      ┆ 4.0       ┆ 18.0     │\n",
       "│           ┆           ┆ 4         ┆           ┆   ┆           ┆           ┆           ┆          │\n",
       "│           ┆           ┆ 07:13:14  ┆           ┆   ┆           ┆           ┆           ┆          │\n",
       "│ 153071    ┆ 9778623   ┆ 2023-05-2 ┆ 125.0     ┆ … ┆ false     ┆ 1976      ┆ 26.0      ┆ 100.0    │\n",
       "│           ┆           ┆ 4         ┆           ┆   ┆           ┆           ┆           ┆          │\n",
       "│           ┆           ┆ 07:11:08  ┆           ┆   ┆           ┆           ┆           ┆          │\n",
       "│ …         ┆ …         ┆ …         ┆ …         ┆ … ┆ …         ┆ …         ┆ …         ┆ …        │\n",
       "│ 580099643 ┆ 9769306   ┆ 2023-05-1 ┆ 121.0     ┆ … ┆ false     ┆ 1416293   ┆ 121.0     ┆ null     │\n",
       "│           ┆           ┆ 8         ┆           ┆   ┆           ┆           ┆           ┆          │\n",
       "│           ┆           ┆ 10:01:05  ┆           ┆   ┆           ┆           ┆           ┆          │\n",
       "│ 580099644 ┆ 9770882   ┆ 2023-05-1 ┆ 176.0     ┆ … ┆ false     ┆ 1416293   ┆ 148.0     ┆ 100.0    │\n",
       "│           ┆           ┆ 8         ┆           ┆   ┆           ┆           ┆           ┆          │\n",
       "│           ┆           ┆ 10:05:07  ┆           ┆   ┆           ┆           ┆           ┆          │\n",
       "│ 580099645 ┆ 9769306   ┆ 2023-05-1 ┆ 24.0      ┆ … ┆ false     ┆ 1416293   ┆ 4.0       ┆ null     │\n",
       "│           ┆           ┆ 8         ┆           ┆   ┆           ┆           ┆           ┆          │\n",
       "│           ┆           ┆ 10:11:03  ┆           ┆   ┆           ┆           ┆           ┆          │\n",
       "│ 580100695 ┆ 9771242   ┆ 2023-05-1 ┆ 5.0       ┆ … ┆ false     ┆ 747086    ┆ 75.0      ┆ 100.0    │\n",
       "│           ┆           ┆ 8         ┆           ┆   ┆           ┆           ┆           ┆          │\n",
       "│           ┆           ┆ 10:00:08  ┆           ┆   ┆           ┆           ┆           ┆          │\n",
       "│ 580100697 ┆ 9771242   ┆ 2023-05-1 ┆ 14.0      ┆ … ┆ false     ┆ 747086    ┆ 123.0     ┆ 25.0     │\n",
       "│           ┆           ┆ 8         ┆           ┆   ┆           ┆           ┆           ┆          │\n",
       "│           ┆           ┆ 10:01:29  ┆           ┆   ┆           ┆           ┆           ┆          │\n",
       "└───────────┴───────────┴───────────┴───────────┴───┴───────────┴───────────┴───────────┴──────────┘"
      ]
     },
     "execution_count": 319,
     "metadata": {},
     "output_type": "execute_result"
    }
   ],
   "source": [
    "behaviors_train"
   ]
  },
  {
   "cell_type": "markdown",
   "metadata": {},
   "source": [
    "## Moving window"
   ]
  },
  {
   "cell_type": "code",
   "execution_count": 313,
   "metadata": {},
   "outputs": [],
   "source": [
    "def moving_window_split_iterator(history: pl.DataFrame, behaviors: pl.DataFrame, window:int=4, window_val:int=2, stride:int=2):\n",
    "    assert behaviors['impression_time'].is_sorted()\n",
    "    \n",
    "    behaviors_dates_mapping = behaviors.select(pl.col('impression_time').dt.date().alias('impression_date')).sort('impression_date').unique().with_row_index()\n",
    "    dates = behaviors_dates_mapping['impression_date'].to_list()\n",
    "    idx = behaviors_dates_mapping['index'].to_list()\n",
    "    \n",
    "    history_cols = [col for col in history.columns if col != 'user_id']\n",
    "    history_window_train_start_date = history['impression_time_fixed'].explode().min().date()\n",
    "    history_window_val_start_date = history_window_train_start_date + datetime.timedelta(days=window)\n",
    "    \n",
    "    i = 0\n",
    "    while i + window + window_val - 1 <= len(idx):\n",
    "        start_window_train_date = dates[i]\n",
    "        end_window_train_date = dates[i + window - 1]\n",
    "        end_window_val_date = dates[i + window + window_val - 2]\n",
    "        print(idx[i: i + window], idx[i + window - 1: i + window + window_val - 1], '-> ', start_window_train_date, end_window_train_date, end_window_val_date)\n",
    "        \n",
    "        behaviors_k_train = behaviors.filter(\n",
    "            pl.col('impression_time') >= datetime.datetime.combine(start_window_train_date, datetime.time(7, 0, 0)),\n",
    "            pl.col('impression_time') < datetime.datetime.combine(end_window_train_date, datetime.time(7, 0, 0)),\n",
    "        )\n",
    "        \n",
    "        history_k_train = history.explode(pl.all().exclude('user_id')).filter(\n",
    "            pl.col('impression_time_fixed') >= datetime.datetime.combine(history_window_train_start_date, datetime.time(7, 0, 0))\n",
    "        ).group_by('user_id').agg(pl.all())\n",
    "\n",
    "        behaviors_k_val = behaviors.filter(\n",
    "            pl.col('impression_time') >= datetime.datetime.combine(end_window_train_date, datetime.time(7, 0, 0)),\n",
    "            pl.col('impression_time') < datetime.datetime.combine(end_window_val_date, datetime.time(7, 0, 0)),\n",
    "        )\n",
    "\n",
    "        behaviors_k_prev = behaviors.filter(\n",
    "            pl.col('impression_time') < datetime.datetime.combine(end_window_train_date, datetime.time(7, 0, 0)),\n",
    "        )\n",
    "        \n",
    "        history_k_val = history.explode(pl.all().exclude('user_id')).filter(\n",
    "            pl.col('impression_time_fixed') >= datetime.datetime.combine(history_window_val_start_date, datetime.time(7, 0, 0))\n",
    "        ).group_by('user_id').agg(pl.all()).join(\n",
    "            behaviors_to_history(behaviors_k_prev) , on='user_id', suffix='_next', how='outer_coalesce'\n",
    "        )\\\n",
    "        .with_columns(pl.all().exclude('user_id').fill_null(pl.lit([])))\\\n",
    "        .with_columns(\n",
    "            *[pl.col(col).list.concat(f'{col}_next').alias(col) for col in history_cols],\n",
    "        ).drop([f'{col}_next' for col in history_cols])\n",
    "        \n",
    "        i += stride\n",
    "        history_window_train_start_date += datetime.timedelta(days=stride)\n",
    "        history_window_val_start_date += datetime.timedelta(days=stride)\n",
    "        \n",
    "        yield history_k_train, behaviors_k_train, history_k_val, behaviors_k_val"
   ]
  },
  {
   "cell_type": "code",
   "execution_count": 327,
   "metadata": {},
   "outputs": [
    {
     "name": "stdout",
     "output_type": "stream",
     "text": [
      "[0, 1, 2, 3] [3, 4] ->  2023-05-18 2023-05-21 2023-05-22\n",
      "Fold 0:   (15143, 5) (101487, 17) (15129, 5) (32515, 17)\n",
      "[2, 3, 4, 5] [5, 6] ->  2023-05-20 2023-05-23 2023-05-24\n",
      "Fold 1:   (15134, 5) (97274, 17) (15124, 5) (31806, 17)\n",
      "[4, 5, 6, 7] [7, 8] ->  2023-05-22 2023-05-25 2023-05-26\n",
      "Fold 2:   (15108, 5) (98885, 17) (15143, 5) (32556, 17)\n",
      "[6, 7, 8, 9] [9, 10] ->  2023-05-24 2023-05-27 2023-05-28\n",
      "Fold 3:   (15085, 5) (98476, 17) (17413, 5) (31235, 17)\n",
      "[8, 9, 10, 11] [11, 12] ->  2023-05-26 2023-05-29 2023-05-30\n",
      "Fold 4:   (15040, 5) (99640, 17) (18050, 5) (36901, 17)\n",
      "[10, 11, 12, 13] [13, 14] ->  2023-05-28 2023-05-31 2023-06-01\n",
      "Fold 5:   (14984, 5) (110237, 17) (18603, 5) (37258, 17)\n"
     ]
    }
   ],
   "source": [
    "history = history_train\n",
    "behaviors = behaviors_train.vstack(behaviors_val).sort('impression_time').set_sorted('impression_time')\n",
    "for i, (history_k_train, behaviors_k_train, history_k_val, behaviors_k_val) in enumerate(moving_window_split_iterator(history, behaviors, window=4, window_val=2, stride=2)):\n",
    "    print(f'Fold {i}:  ',history_k_train.shape, behaviors_k_train.shape, history_k_val.shape, behaviors_k_val.shape)    "
   ]
  },
  {
   "cell_type": "code",
   "execution_count": null,
   "metadata": {},
   "outputs": [],
   "source": []
  }
 ],
 "metadata": {
  "kernelspec": {
   "display_name": "recsys",
   "language": "python",
   "name": "python3"
  },
  "language_info": {
   "codemirror_mode": {
    "name": "ipython",
    "version": 3
   },
   "file_extension": ".py",
   "mimetype": "text/x-python",
   "name": "python",
   "nbconvert_exporter": "python",
   "pygments_lexer": "ipython3",
   "version": "3.11.0"
  }
 },
 "nbformat": 4,
 "nbformat_minor": 2
}
