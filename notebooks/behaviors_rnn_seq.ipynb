{
 "cells": [
  {
   "cell_type": "code",
   "execution_count": 1,
   "metadata": {},
   "outputs": [
    {
     "name": "stderr",
     "output_type": "stream",
     "text": [
      "2024-06-18 20:42:06.843321: I tensorflow/core/util/port.cc:113] oneDNN custom operations are on. You may see slightly different numerical results due to floating-point round-off errors from different computation orders. To turn them off, set the environment variable `TF_ENABLE_ONEDNN_OPTS=0`.\n",
      "2024-06-18 20:42:06.906157: I tensorflow/core/platform/cpu_feature_guard.cc:210] This TensorFlow binary is optimized to use available CPU instructions in performance-critical operations.\n",
      "To enable the following instructions: AVX2 AVX512F AVX512_VNNI FMA, in other operations, rebuild TensorFlow with the appropriate compiler flags.\n",
      "2024-06-18 20:42:07.914898: W tensorflow/compiler/tf2tensorrt/utils/py_utils.cc:38] TF-TRT Warning: Could not find TensorRT\n"
     ]
    },
    {
     "name": "stdout",
     "output_type": "stream",
     "text": [
      "2.16.1\n"
     ]
    }
   ],
   "source": [
    "import polars as pl\n",
    "import tensorflow as tf\n",
    "from tensorflow import keras as tfk\n",
    "from tensorflow.keras import layers as tfkl\n",
    "import numpy as np\n",
    "import logging\n",
    "import random\n",
    "\n",
    "seed = 42\n",
    "np.random.seed(seed)\n",
    "random.seed(seed)\n",
    "tf.autograph.set_verbosity(0)\n",
    "tf.get_logger().setLevel(logging.ERROR)\n",
    "tf.random.set_seed(seed)\n",
    "print(tf.__version__)"
   ]
  },
  {
   "cell_type": "code",
   "execution_count": 2,
   "metadata": {},
   "outputs": [
    {
     "data": {
      "text/html": [
       "<div><style>\n",
       ".dataframe > thead > tr,\n",
       ".dataframe > tbody > tr {\n",
       "  text-align: right;\n",
       "  white-space: pre-wrap;\n",
       "}\n",
       "</style>\n",
       "<small>shape: (2, 5)</small><table border=\"1\" class=\"dataframe\"><thead><tr><th>user_id</th><th>impression_time_fixed</th><th>scroll_percentage_fixed</th><th>article_id_fixed</th><th>read_time_fixed</th></tr><tr><td>u32</td><td>list[datetime[μs]]</td><td>list[f32]</td><td>list[i32]</td><td>list[f32]</td></tr></thead><tbody><tr><td>13538</td><td>[2023-04-27 10:17:43, 2023-04-27 10:18:01, … 2023-05-17 20:36:34]</td><td>[100.0, 35.0, … 100.0]</td><td>[9738663, 9738569, … 9769366]</td><td>[17.0, 12.0, … 16.0]</td></tr><tr><td>14241</td><td>[2023-04-27 09:40:18, 2023-04-27 09:40:33, … 2023-05-17 17:08:41]</td><td>[100.0, 46.0, … 100.0]</td><td>[9738557, 9738528, … 9767852]</td><td>[8.0, 9.0, … 12.0]</td></tr></tbody></table></div>"
      ],
      "text/plain": [
       "shape: (2, 5)\n",
       "┌─────────┬──────────────────────┬─────────────────────┬─────────────────────┬─────────────────────┐\n",
       "│ user_id ┆ impression_time_fixe ┆ scroll_percentage_f ┆ article_id_fixed    ┆ read_time_fixed     │\n",
       "│ ---     ┆ d                    ┆ ixed                ┆ ---                 ┆ ---                 │\n",
       "│ u32     ┆ ---                  ┆ ---                 ┆ list[i32]           ┆ list[f32]           │\n",
       "│         ┆ list[datetime[μs]]   ┆ list[f32]           ┆                     ┆                     │\n",
       "╞═════════╪══════════════════════╪═════════════════════╪═════════════════════╪═════════════════════╡\n",
       "│ 13538   ┆ [2023-04-27          ┆ [100.0, 35.0, …     ┆ [9738663, 9738569,  ┆ [17.0, 12.0, …      │\n",
       "│         ┆ 10:17:43, 2023-04-…  ┆ 100.0]              ┆ … 9769366]          ┆ 16.0]               │\n",
       "│ 14241   ┆ [2023-04-27          ┆ [100.0, 46.0, …     ┆ [9738557, 9738528,  ┆ [8.0, 9.0, … 12.0]  │\n",
       "│         ┆ 09:40:18, 2023-04-…  ┆ 100.0]              ┆ … 9767852]          ┆                     │\n",
       "└─────────┴──────────────────────┴─────────────────────┴─────────────────────┴─────────────────────┘"
      ]
     },
     "execution_count": 2,
     "metadata": {},
     "output_type": "execute_result"
    }
   ],
   "source": [
    "history = pl.read_parquet('/home/ubuntu/dataset/ebnerd_small/train/history.parquet')\n",
    "behaviors = pl.read_parquet('/home/ubuntu/dataset/ebnerd_large/train/behaviors.parquet')\n",
    "b_sub = pl.read_parquet('/home/ubuntu/dset_complete/subsample/train_ds.parquet')\n",
    "articles = pl.read_parquet('/home/ubuntu/dataset/ebnerd_small/articles.parquet')\n",
    "history.head(2)"
   ]
  },
  {
   "cell_type": "code",
   "execution_count": 3,
   "metadata": {},
   "outputs": [
    {
     "data": {
      "text/html": [
       "<div><style>\n",
       ".dataframe > thead > tr,\n",
       ".dataframe > tbody > tr {\n",
       "  text-align: right;\n",
       "  white-space: pre-wrap;\n",
       "}\n",
       "</style>\n",
       "<small>shape: (1, 5)</small><table border=\"1\" class=\"dataframe\"><thead><tr><th>user_id</th><th>impression_time_fixed</th><th>scroll_percentage_fixed</th><th>article_id_fixed</th><th>read_time_fixed</th></tr><tr><td>u32</td><td>list[datetime[μs]]</td><td>list[f32]</td><td>list[i32]</td><td>list[f32]</td></tr></thead><tbody><tr><td>1260010</td><td>[2023-05-18 07:00:01, 2023-05-19 06:46:44, … 2023-05-25 06:26:48]</td><td>[null, null, … null]</td><td>[9767697, 9772088, … 9780195]</td><td>[38.0, 64.0, … 42.0]</td></tr></tbody></table></div>"
      ],
      "text/plain": [
       "shape: (1, 5)\n",
       "┌─────────┬───────────────────────┬───────────────────────┬──────────────────────┬─────────────────┐\n",
       "│ user_id ┆ impression_time_fixed ┆ scroll_percentage_fix ┆ article_id_fixed     ┆ read_time_fixed │\n",
       "│ ---     ┆ ---                   ┆ ed                    ┆ ---                  ┆ ---             │\n",
       "│ u32     ┆ list[datetime[μs]]    ┆ ---                   ┆ list[i32]            ┆ list[f32]       │\n",
       "│         ┆                       ┆ list[f32]             ┆                      ┆                 │\n",
       "╞═════════╪═══════════════════════╪═══════════════════════╪══════════════════════╪═════════════════╡\n",
       "│ 1260010 ┆ [2023-05-18 07:00:01, ┆ [null, null, … null]  ┆ [9767697, 9772088, … ┆ [38.0, 64.0, …  │\n",
       "│         ┆ 2023-05-…             ┆                       ┆ 9780195]             ┆ 42.0]           │\n",
       "└─────────┴───────────────────────┴───────────────────────┴──────────────────────┴─────────────────┘"
      ]
     },
     "execution_count": 3,
     "metadata": {},
     "output_type": "execute_result"
    }
   ],
   "source": [
    "history_sub = b_sub.filter(pl.col('target') == 1).select('user_id', 'impression_time', 'scroll_percentage', 'article', 'read_time').sort('impression_time')\\\n",
    "    .group_by('user_id', maintain_order=True).agg(pl.all()).rename({\n",
    "        'impression_time': 'impression_time_fixed', 'scroll_percentage': 'scroll_percentage_fixed',\n",
    "        'article': 'article_id_fixed', 'read_time': 'read_time_fixed'\n",
    "    })\n",
    "history_sub.head(1)"
   ]
  },
  {
   "cell_type": "code",
   "execution_count": 4,
   "metadata": {},
   "outputs": [
    {
     "data": {
      "text/html": [
       "<div><style>\n",
       ".dataframe > thead > tr,\n",
       ".dataframe > tbody > tr {\n",
       "  text-align: right;\n",
       "  white-space: pre-wrap;\n",
       "}\n",
       "</style>\n",
       "<small>shape: (1, 5)</small><table border=\"1\" class=\"dataframe\"><thead><tr><th>user_id</th><th>impression_time_fixed</th><th>scroll_percentage_fixed</th><th>article_id_fixed</th><th>read_time_fixed</th></tr><tr><td>u32</td><td>list[datetime[μs]]</td><td>list[f32]</td><td>list[i32]</td><td>list[f32]</td></tr></thead><tbody><tr><td>1260010</td><td>[2023-04-28 06:01:24, 2023-04-28 06:01:55, … 2023-05-25 06:26:48]</td><td>[null, 87.0, … null]</td><td>[9739837, 9739888, … 9780195]</td><td>[18.0, 20.0, … 42.0]</td></tr></tbody></table></div>"
      ],
      "text/plain": [
       "shape: (1, 5)\n",
       "┌─────────┬───────────────────────┬───────────────────────┬──────────────────────┬─────────────────┐\n",
       "│ user_id ┆ impression_time_fixed ┆ scroll_percentage_fix ┆ article_id_fixed     ┆ read_time_fixed │\n",
       "│ ---     ┆ ---                   ┆ ed                    ┆ ---                  ┆ ---             │\n",
       "│ u32     ┆ list[datetime[μs]]    ┆ ---                   ┆ list[i32]            ┆ list[f32]       │\n",
       "│         ┆                       ┆ list[f32]             ┆                      ┆                 │\n",
       "╞═════════╪═══════════════════════╪═══════════════════════╪══════════════════════╪═════════════════╡\n",
       "│ 1260010 ┆ [2023-04-28 06:01:24, ┆ [null, 87.0, … null]  ┆ [9739837, 9739888, … ┆ [18.0, 20.0, …  │\n",
       "│         ┆ 2023-04-…             ┆                       ┆ 9780195]             ┆ 42.0]           │\n",
       "└─────────┴───────────────────────┴───────────────────────┴──────────────────────┴─────────────────┘"
      ]
     },
     "execution_count": 4,
     "metadata": {},
     "output_type": "execute_result"
    }
   ],
   "source": [
    "history_all = history.join(\n",
    "    history_sub, on='user_id', suffix='_r'\n",
    ").with_columns(\n",
    "    *[pl.concat_list([key, f'{key}_r']).alias(key) for key in history.columns if key != 'user_id']\n",
    ").drop([f'{key}_r' for key in history.columns if key != 'user_id'])\n",
    "history_all.head(1)"
   ]
  },
  {
   "cell_type": "code",
   "execution_count": 5,
   "metadata": {},
   "outputs": [
    {
     "data": {
      "text/html": [
       "<div><style>\n",
       ".dataframe > thead > tr,\n",
       ".dataframe > tbody > tr {\n",
       "  text-align: right;\n",
       "  white-space: pre-wrap;\n",
       "}\n",
       "</style>\n",
       "<small>shape: (1, 3)</small><table border=\"1\" class=\"dataframe\"><thead><tr><th>index</th><th>impression_id</th><th>user_id</th></tr><tr><td>u32</td><td>u32</td><td>u32</td></tr></thead><tbody><tr><td>0</td><td>41650737</td><td>1260010</td></tr></tbody></table></div>"
      ],
      "text/plain": [
       "shape: (1, 3)\n",
       "┌───────┬───────────────┬─────────┐\n",
       "│ index ┆ impression_id ┆ user_id │\n",
       "│ ---   ┆ ---           ┆ ---     │\n",
       "│ u32   ┆ u32           ┆ u32     │\n",
       "╞═══════╪═══════════════╪═════════╡\n",
       "│ 0     ┆ 41650737      ┆ 1260010 │\n",
       "└───────┴───────────────┴─────────┘"
      ]
     },
     "execution_count": 5,
     "metadata": {},
     "output_type": "execute_result"
    }
   ],
   "source": [
    "df_order=b_sub.select('impression_id', 'user_id', 'impression_time').unique(['impression_id', 'user_id'], keep='first').sort('impression_time').drop('impression_time')\\\n",
    "    .group_by('user_id', maintain_order=True).map_groups(\n",
    "        lambda x: x.with_row_index()\n",
    "    )\n",
    "df_order.head(1)"
   ]
  },
  {
   "cell_type": "code",
   "execution_count": 6,
   "metadata": {},
   "outputs": [
    {
     "data": {
      "text/html": [
       "<div><style>\n",
       ".dataframe > thead > tr,\n",
       ".dataframe > tbody > tr {\n",
       "  text-align: right;\n",
       "  white-space: pre-wrap;\n",
       "}\n",
       "</style>\n",
       "<small>shape: (1, 385)</small><table border=\"1\" class=\"dataframe\"><thead><tr><th>impression_id</th><th>user_id</th><th>article</th><th>target</th><th>device_type</th><th>read_time</th><th>scroll_percentage</th><th>is_sso_user</th><th>gender</th><th>age</th><th>is_subscriber</th><th>postcode</th><th>trendiness_score_1d</th><th>trendiness_score_3d</th><th>trendiness_score_5d</th><th>trendiness_score_3d_leak</th><th>weekday</th><th>hour</th><th>trendiness_score_1d/3d</th><th>trendiness_score_1d/5d</th><th>normalized_trendiness_score_overall</th><th>premium</th><th>category</th><th>sentiment_score</th><th>sentiment_label</th><th>num_images</th><th>title_len</th><th>subtitle_len</th><th>body_len</th><th>num_topics</th><th>total_pageviews</th><th>total_inviews</th><th>total_read_time</th><th>total_pageviews/inviews</th><th>article_type</th><th>article_delay_days</th><th>article_delay_hours</th><th>&hellip;</th><th>std_article_kenneth_emb_icm</th><th>std_article_distilbert_emb_icm</th><th>std_article_bert_emb_icm</th><th>std_article_roberta_emb_icm</th><th>std_article_w_to_vec_emb_icm</th><th>std_article_emotions_emb_icm</th><th>std_article_constrastive_emb_icm</th><th>skew_article_kenneth_emb_icm</th><th>skew_article_distilbert_emb_icm</th><th>skew_article_bert_emb_icm</th><th>skew_article_roberta_emb_icm</th><th>skew_article_w_to_vec_emb_icm</th><th>skew_article_emotions_emb_icm</th><th>skew_article_constrastive_emb_icm</th><th>kurtosis_article_kenneth_emb_icm</th><th>kurtosis_article_distilbert_emb_icm</th><th>kurtosis_article_bert_emb_icm</th><th>kurtosis_article_roberta_emb_icm</th><th>kurtosis_article_w_to_vec_emb_icm</th><th>kurtosis_article_emotions_emb_icm</th><th>kurtosis_article_constrastive_emb_icm</th><th>entropy_article_kenneth_emb_icm</th><th>entropy_article_distilbert_emb_icm</th><th>entropy_article_bert_emb_icm</th><th>entropy_article_roberta_emb_icm</th><th>entropy_article_w_to_vec_emb_icm</th><th>entropy_article_emotions_emb_icm</th><th>entropy_article_constrastive_emb_icm</th><th>kenneth_emb_icm_minus_median_article</th><th>distilbert_emb_icm_minus_median_article</th><th>bert_emb_icm_minus_median_article</th><th>roberta_emb_icm_minus_median_article</th><th>w_to_vec_emb_icm_minus_median_article</th><th>emotions_emb_icm_minus_median_article</th><th>constrastive_emb_icm_minus_median_article</th><th>impression_time</th><th>history_all_end_pos</th></tr><tr><td>u32</td><td>u32</td><td>i32</td><td>i8</td><td>i8</td><td>f32</td><td>f32</td><td>bool</td><td>i8</td><td>i8</td><td>bool</td><td>i8</td><td>i16</td><td>i16</td><td>i16</td><td>i16</td><td>i8</td><td>i8</td><td>f32</td><td>f32</td><td>f32</td><td>bool</td><td>i16</td><td>f32</td><td>str</td><td>u32</td><td>u8</td><td>u8</td><td>u16</td><td>u32</td><td>i32</td><td>i32</td><td>f32</td><td>f32</td><td>str</td><td>i16</td><td>i32</td><td>&hellip;</td><td>f32</td><td>f32</td><td>f32</td><td>f32</td><td>f32</td><td>f32</td><td>f32</td><td>f64</td><td>f64</td><td>f64</td><td>f64</td><td>f64</td><td>f64</td><td>f64</td><td>f64</td><td>f64</td><td>f64</td><td>f64</td><td>f64</td><td>f64</td><td>f64</td><td>f32</td><td>f32</td><td>f32</td><td>f32</td><td>f32</td><td>f32</td><td>f32</td><td>f32</td><td>f32</td><td>f32</td><td>f32</td><td>f32</td><td>f32</td><td>f32</td><td>datetime[μs]</td><td>u32</td></tr></thead><tbody><tr><td>149474</td><td>139836</td><td>9778728</td><td>0</td><td>2</td><td>13.0</td><td>null</td><td>false</td><td>2</td><td>null</td><td>false</td><td>5</td><td>150</td><td>521</td><td>836</td><td>419</td><td>3</td><td>7</td><td>0.287908</td><td>0.179426</td><td>0.880068</td><td>false</td><td>142</td><td>0.9654</td><td>&quot;Negative&quot;</td><td>1</td><td>5</td><td>18</td><td>251</td><td>7</td><td>22415</td><td>220247</td><td>1.004828e6</td><td>0.101772</td><td>&quot;article_default&quot;</td><td>0</td><td>0</td><td>&hellip;</td><td>0.003313</td><td>0.010775</td><td>0.020001</td><td>6.258241</td><td>0.005474</td><td>4.929348</td><td>0.062682</td><td>1.300164</td><td>2.060066</td><td>1.152196</td><td>1.754251</td><td>2.088241</td><td>1.214502</td><td>1.406736</td><td>1.339344</td><td>5.427761</td><td>1.025453</td><td>3.529418</td><td>5.37705</td><td>1.054931</td><td>1.963193</td><td>NaN</td><td>NaN</td><td>NaN</td><td>NaN</td><td>NaN</td><td>NaN</td><td>NaN</td><td>-0.002187</td><td>-0.004914</td><td>-0.014626</td><td>-3.694031</td><td>-0.002645</td><td>-3.802204</td><td>-0.039383</td><td>2023-05-24 07:47:53</td><td>26</td></tr></tbody></table></div>"
      ],
      "text/plain": [
       "shape: (1, 385)\n",
       "┌─────────────┬─────────┬─────────┬────────┬───┬────────────┬────────────┬────────────┬────────────┐\n",
       "│ impression_ ┆ user_id ┆ article ┆ target ┆ … ┆ emotions_e ┆ constrasti ┆ impression ┆ history_al │\n",
       "│ id          ┆ ---     ┆ ---     ┆ ---    ┆   ┆ mb_icm_min ┆ ve_emb_icm ┆ _time      ┆ l_end_pos  │\n",
       "│ ---         ┆ u32     ┆ i32     ┆ i8     ┆   ┆ us_median_ ┆ _minus_med ┆ ---        ┆ ---        │\n",
       "│ u32         ┆         ┆         ┆        ┆   ┆ …          ┆ …          ┆ datetime[μ ┆ u32        │\n",
       "│             ┆         ┆         ┆        ┆   ┆ ---        ┆ ---        ┆ s]         ┆            │\n",
       "│             ┆         ┆         ┆        ┆   ┆ f32        ┆ f32        ┆            ┆            │\n",
       "╞═════════════╪═════════╪═════════╪════════╪═══╪════════════╪════════════╪════════════╪════════════╡\n",
       "│ 149474      ┆ 139836  ┆ 9778728 ┆ 0      ┆ … ┆ -3.802204  ┆ -0.039383  ┆ 2023-05-24 ┆ 26         │\n",
       "│             ┆         ┆         ┆        ┆   ┆            ┆            ┆ 07:47:53   ┆            │\n",
       "└─────────────┴─────────┴─────────┴────────┴───┴────────────┴────────────┴────────────┴────────────┘"
      ]
     },
     "execution_count": 6,
     "metadata": {},
     "output_type": "execute_result"
    }
   ],
   "source": [
    "b_sub = b_sub.join(\n",
    "    df_order.rename({'index': 'history_pos'}), on=['user_id', 'impression_id'], how='left'\n",
    ").join(\n",
    "    history.select('user_id', pl.col('article_id_fixed').list.len().alias('history_l')), on='user_id', how='left'\n",
    ").with_columns(\n",
    "    (pl.col('history_pos') + pl.col('history_l')).alias('history_all_end_pos')\n",
    ").drop('history_pos').drop('history_l')\n",
    "b_sub.head(1)"
   ]
  },
  {
   "cell_type": "code",
   "execution_count": 7,
   "metadata": {},
   "outputs": [
    {
     "data": {
      "text/html": [
       "<div><style>\n",
       ".dataframe > thead > tr,\n",
       ".dataframe > tbody > tr {\n",
       "  text-align: right;\n",
       "  white-space: pre-wrap;\n",
       "}\n",
       "</style>\n",
       "<small>shape: (2, 8)</small><table border=\"1\" class=\"dataframe\"><thead><tr><th>index</th><th>impression_id</th><th>user_id</th><th>article</th><th>impression_time_fixed</th><th>scroll_percentage_fixed</th><th>article_id_fixed</th><th>read_time_fixed</th></tr><tr><td>u32</td><td>u32</td><td>u32</td><td>i32</td><td>list[datetime[μs]]</td><td>list[f32]</td><td>list[i32]</td><td>list[f32]</td></tr></thead><tbody><tr><td>0</td><td>149474</td><td>139836</td><td>9778728</td><td>[2023-05-05 10:09:28, 2023-05-05 10:09:37, … 2023-05-20 15:22:31]</td><td>[39.0, 29.0, … null]</td><td>[9750829, 9750793, … 9771113]</td><td>[4.0, 8.0, … 7.0]</td></tr><tr><td>1</td><td>149474</td><td>139836</td><td>9778669</td><td>[2023-05-05 10:09:28, 2023-05-05 10:09:37, … 2023-05-20 15:22:31]</td><td>[39.0, 29.0, … null]</td><td>[9750829, 9750793, … 9771113]</td><td>[4.0, 8.0, … 7.0]</td></tr></tbody></table></div>"
      ],
      "text/plain": [
       "shape: (2, 8)\n",
       "┌───────┬──────────────┬─────────┬─────────┬─────────────┬─────────────┬─────────────┬─────────────┐\n",
       "│ index ┆ impression_i ┆ user_id ┆ article ┆ impression_ ┆ scroll_perc ┆ article_id_ ┆ read_time_f │\n",
       "│ ---   ┆ d            ┆ ---     ┆ ---     ┆ time_fixed  ┆ entage_fixe ┆ fixed       ┆ ixed        │\n",
       "│ u32   ┆ ---          ┆ u32     ┆ i32     ┆ ---         ┆ d           ┆ ---         ┆ ---         │\n",
       "│       ┆ u32          ┆         ┆         ┆ list[dateti ┆ ---         ┆ list[i32]   ┆ list[f32]   │\n",
       "│       ┆              ┆         ┆         ┆ me[μs]]     ┆ list[f32]   ┆             ┆             │\n",
       "╞═══════╪══════════════╪═════════╪═════════╪═════════════╪═════════════╪═════════════╪═════════════╡\n",
       "│ 0     ┆ 149474       ┆ 139836  ┆ 9778728 ┆ [2023-05-05 ┆ [39.0,      ┆ [9750829,   ┆ [4.0, 8.0,  │\n",
       "│       ┆              ┆         ┆         ┆ 10:09:28,   ┆ 29.0, …     ┆ 9750793, …  ┆ … 7.0]      │\n",
       "│       ┆              ┆         ┆         ┆ 2023-05-…   ┆ null]       ┆ 9771113]    ┆             │\n",
       "│ 1     ┆ 149474       ┆ 139836  ┆ 9778669 ┆ [2023-05-05 ┆ [39.0,      ┆ [9750829,   ┆ [4.0, 8.0,  │\n",
       "│       ┆              ┆         ┆         ┆ 10:09:28,   ┆ 29.0, …     ┆ 9750793, …  ┆ … 7.0]      │\n",
       "│       ┆              ┆         ┆         ┆ 2023-05-…   ┆ null]       ┆ 9771113]    ┆             │\n",
       "└───────┴──────────────┴─────────┴─────────┴─────────────┴─────────────┴─────────────┴─────────────┘"
      ]
     },
     "execution_count": 7,
     "metadata": {},
     "output_type": "execute_result"
    }
   ],
   "source": [
    "history_cols = [col for col in history.columns if col != 'user_id']\n",
    "window=20\n",
    "history_f = b_sub.join(\n",
    "    history_all, on='user_id', how='left'\n",
    ").with_columns(\n",
    "    pl.col(history_cols).list.slice((pl.col('history_all_end_pos') - window).clip(lower_bound=0), window).name.keep()\n",
    ").select('impression_id', 'user_id', 'article', *history_cols).with_row_index()[:100]\n",
    "history_f.head(2)"
   ]
  },
  {
   "cell_type": "code",
   "execution_count": 8,
   "metadata": {},
   "outputs": [],
   "source": [
    "from polimi.utils.tf_models.utils.build_sequences import build_history_seq, build_sequences_seq_iterator, N_CATEGORY, N_SENTIMENT_LABEL, N_SUBCATEGORY, N_TOPICS, N_HOUR_GROUP, N_WEEKDAY\n",
    "from polimi.utils.tf_models import TemporalHistorySequenceModel\n",
    "import joblib\n",
    "import tensorflow as tf\n",
    "\n",
    "model = TemporalHistorySequenceModel(\n",
    "    seq_embedding_dims={\n",
    "        # adding one dim more to cover missings, where needed\n",
    "        'input_topics': (N_TOPICS + 1, 10, True),\n",
    "        'input_subcategory': (N_SUBCATEGORY + 1, 10, True),\n",
    "        'input_category': (N_CATEGORY + 1, 10, False),\n",
    "        'input_weekday': (N_WEEKDAY, 3, False),\n",
    "        'input_hour_group': (N_HOUR_GROUP, 3, False),\n",
    "        'input_sentiment_label': (N_SENTIMENT_LABEL + 1, 2, False)\n",
    "    },\n",
    "    seq_numerical_features=['scroll_percentage', 'read_time', 'premium'],\n",
    "    n_recurrent_layers=1,\n",
    "    recurrent_embedding_dim=64,\n",
    "    l1_lambda=1e-4,\n",
    "    l2_lambda=1e-4,\n",
    ")\n",
    "\n",
    "model._build()\n",
    "model.model.load_weights('/home/ubuntu/experiments/rnn_seq_2024-06-18_18-22-14/checkpoints/checkpoint.weights.h5')"
   ]
  },
  {
   "cell_type": "code",
   "execution_count": 9,
   "metadata": {},
   "outputs": [
    {
     "data": {
      "text/html": [
       "<pre style=\"white-space:pre;overflow-x:auto;line-height:normal;font-family:Menlo,'DejaVu Sans Mono',consolas,'Courier New',monospace\"><span style=\"font-weight: bold\">Model: \"functional_1\"</span>\n",
       "</pre>\n"
      ],
      "text/plain": [
       "\u001b[1mModel: \"functional_1\"\u001b[0m\n"
      ]
     },
     "metadata": {},
     "output_type": "display_data"
    },
    {
     "data": {
      "text/html": [
       "<pre style=\"white-space:pre;overflow-x:auto;line-height:normal;font-family:Menlo,'DejaVu Sans Mono',consolas,'Courier New',monospace\">┏━━━━━━━━━━━━━━━━━━━━━┳━━━━━━━━━━━━━━━━━━━┳━━━━━━━━━━━━┳━━━━━━━━━━━━━━━━━━━┓\n",
       "┃<span style=\"font-weight: bold\"> Layer (type)        </span>┃<span style=\"font-weight: bold\"> Output Shape      </span>┃<span style=\"font-weight: bold\">    Param # </span>┃<span style=\"font-weight: bold\"> Connected to      </span>┃\n",
       "┡━━━━━━━━━━━━━━━━━━━━━╇━━━━━━━━━━━━━━━━━━━╇━━━━━━━━━━━━╇━━━━━━━━━━━━━━━━━━━┩\n",
       "│ input_topics        │ (<span style=\"color: #00d7ff; text-decoration-color: #00d7ff\">None</span>, <span style=\"color: #00d7ff; text-decoration-color: #00d7ff\">None</span>, <span style=\"color: #00af00; text-decoration-color: #00af00\">79</span>)  │          <span style=\"color: #00af00; text-decoration-color: #00af00\">0</span> │ -                 │\n",
       "│ (<span style=\"color: #0087ff; text-decoration-color: #0087ff\">InputLayer</span>)        │                   │            │                   │\n",
       "├─────────────────────┼───────────────────┼────────────┼───────────────────┤\n",
       "│ input_subcategory   │ (<span style=\"color: #00d7ff; text-decoration-color: #00d7ff\">None</span>, <span style=\"color: #00d7ff; text-decoration-color: #00d7ff\">None</span>, <span style=\"color: #00af00; text-decoration-color: #00af00\">263</span>) │          <span style=\"color: #00af00; text-decoration-color: #00af00\">0</span> │ -                 │\n",
       "│ (<span style=\"color: #0087ff; text-decoration-color: #0087ff\">InputLayer</span>)        │                   │            │                   │\n",
       "├─────────────────────┼───────────────────┼────────────┼───────────────────┤\n",
       "│ input_category      │ (<span style=\"color: #00d7ff; text-decoration-color: #00d7ff\">None</span>, <span style=\"color: #00d7ff; text-decoration-color: #00d7ff\">None</span>)      │          <span style=\"color: #00af00; text-decoration-color: #00af00\">0</span> │ -                 │\n",
       "│ (<span style=\"color: #0087ff; text-decoration-color: #0087ff\">InputLayer</span>)        │                   │            │                   │\n",
       "├─────────────────────┼───────────────────┼────────────┼───────────────────┤\n",
       "│ input_weekday       │ (<span style=\"color: #00d7ff; text-decoration-color: #00d7ff\">None</span>, <span style=\"color: #00d7ff; text-decoration-color: #00d7ff\">None</span>)      │          <span style=\"color: #00af00; text-decoration-color: #00af00\">0</span> │ -                 │\n",
       "│ (<span style=\"color: #0087ff; text-decoration-color: #0087ff\">InputLayer</span>)        │                   │            │                   │\n",
       "├─────────────────────┼───────────────────┼────────────┼───────────────────┤\n",
       "│ input_hour_group    │ (<span style=\"color: #00d7ff; text-decoration-color: #00d7ff\">None</span>, <span style=\"color: #00d7ff; text-decoration-color: #00d7ff\">None</span>)      │          <span style=\"color: #00af00; text-decoration-color: #00af00\">0</span> │ -                 │\n",
       "│ (<span style=\"color: #0087ff; text-decoration-color: #0087ff\">InputLayer</span>)        │                   │            │                   │\n",
       "├─────────────────────┼───────────────────┼────────────┼───────────────────┤\n",
       "│ input_sentiment_la… │ (<span style=\"color: #00d7ff; text-decoration-color: #00d7ff\">None</span>, <span style=\"color: #00d7ff; text-decoration-color: #00d7ff\">None</span>)      │          <span style=\"color: #00af00; text-decoration-color: #00af00\">0</span> │ -                 │\n",
       "│ (<span style=\"color: #0087ff; text-decoration-color: #0087ff\">InputLayer</span>)        │                   │            │                   │\n",
       "├─────────────────────┼───────────────────┼────────────┼───────────────────┤\n",
       "│ sequence_multi_hot… │ (<span style=\"color: #00d7ff; text-decoration-color: #00d7ff\">None</span>, <span style=\"color: #00d7ff; text-decoration-color: #00d7ff\">None</span>, <span style=\"color: #00af00; text-decoration-color: #00af00\">10</span>)  │        <span style=\"color: #00af00; text-decoration-color: #00af00\">790</span> │ input_topics[<span style=\"color: #00af00; text-decoration-color: #00af00\">0</span>][<span style=\"color: #00af00; text-decoration-color: #00af00\">…</span> │\n",
       "│ (<span style=\"color: #0087ff; text-decoration-color: #0087ff\">SequenceMultiHotE…</span> │                   │            │                   │\n",
       "├─────────────────────┼───────────────────┼────────────┼───────────────────┤\n",
       "│ sequence_multi_hot… │ (<span style=\"color: #00d7ff; text-decoration-color: #00d7ff\">None</span>, <span style=\"color: #00d7ff; text-decoration-color: #00d7ff\">None</span>, <span style=\"color: #00af00; text-decoration-color: #00af00\">10</span>)  │      <span style=\"color: #00af00; text-decoration-color: #00af00\">2,630</span> │ input_subcategor… │\n",
       "│ (<span style=\"color: #0087ff; text-decoration-color: #0087ff\">SequenceMultiHotE…</span> │                   │            │                   │\n",
       "├─────────────────────┼───────────────────┼────────────┼───────────────────┤\n",
       "│ embedding           │ (<span style=\"color: #00d7ff; text-decoration-color: #00d7ff\">None</span>, <span style=\"color: #00d7ff; text-decoration-color: #00d7ff\">None</span>, <span style=\"color: #00af00; text-decoration-color: #00af00\">10</span>)  │        <span style=\"color: #00af00; text-decoration-color: #00af00\">330</span> │ input_category[<span style=\"color: #00af00; text-decoration-color: #00af00\">0</span>… │\n",
       "│ (<span style=\"color: #0087ff; text-decoration-color: #0087ff\">Embedding</span>)         │                   │            │                   │\n",
       "├─────────────────────┼───────────────────┼────────────┼───────────────────┤\n",
       "│ embedding_1         │ (<span style=\"color: #00d7ff; text-decoration-color: #00d7ff\">None</span>, <span style=\"color: #00d7ff; text-decoration-color: #00d7ff\">None</span>, <span style=\"color: #00af00; text-decoration-color: #00af00\">3</span>)   │         <span style=\"color: #00af00; text-decoration-color: #00af00\">21</span> │ input_weekday[<span style=\"color: #00af00; text-decoration-color: #00af00\">0</span>]… │\n",
       "│ (<span style=\"color: #0087ff; text-decoration-color: #0087ff\">Embedding</span>)         │                   │            │                   │\n",
       "├─────────────────────┼───────────────────┼────────────┼───────────────────┤\n",
       "│ embedding_2         │ (<span style=\"color: #00d7ff; text-decoration-color: #00d7ff\">None</span>, <span style=\"color: #00d7ff; text-decoration-color: #00d7ff\">None</span>, <span style=\"color: #00af00; text-decoration-color: #00af00\">3</span>)   │         <span style=\"color: #00af00; text-decoration-color: #00af00\">18</span> │ input_hour_group… │\n",
       "│ (<span style=\"color: #0087ff; text-decoration-color: #0087ff\">Embedding</span>)         │                   │            │                   │\n",
       "├─────────────────────┼───────────────────┼────────────┼───────────────────┤\n",
       "│ embedding_3         │ (<span style=\"color: #00d7ff; text-decoration-color: #00d7ff\">None</span>, <span style=\"color: #00d7ff; text-decoration-color: #00d7ff\">None</span>, <span style=\"color: #00af00; text-decoration-color: #00af00\">2</span>)   │          <span style=\"color: #00af00; text-decoration-color: #00af00\">8</span> │ input_sentiment_… │\n",
       "│ (<span style=\"color: #0087ff; text-decoration-color: #0087ff\">Embedding</span>)         │                   │            │                   │\n",
       "├─────────────────────┼───────────────────┼────────────┼───────────────────┤\n",
       "│ input_numerical     │ (<span style=\"color: #00d7ff; text-decoration-color: #00d7ff\">None</span>, <span style=\"color: #00d7ff; text-decoration-color: #00d7ff\">None</span>, <span style=\"color: #00af00; text-decoration-color: #00af00\">3</span>)   │          <span style=\"color: #00af00; text-decoration-color: #00af00\">0</span> │ -                 │\n",
       "│ (<span style=\"color: #0087ff; text-decoration-color: #0087ff\">InputLayer</span>)        │                   │            │                   │\n",
       "├─────────────────────┼───────────────────┼────────────┼───────────────────┤\n",
       "│ concatenate         │ (<span style=\"color: #00d7ff; text-decoration-color: #00d7ff\">None</span>, <span style=\"color: #00d7ff; text-decoration-color: #00d7ff\">None</span>, <span style=\"color: #00af00; text-decoration-color: #00af00\">41</span>)  │          <span style=\"color: #00af00; text-decoration-color: #00af00\">0</span> │ sequence_multi_h… │\n",
       "│ (<span style=\"color: #0087ff; text-decoration-color: #0087ff\">Concatenate</span>)       │                   │            │ sequence_multi_h… │\n",
       "│                     │                   │            │ embedding[<span style=\"color: #00af00; text-decoration-color: #00af00\">0</span>][<span style=\"color: #00af00; text-decoration-color: #00af00\">0</span>],  │\n",
       "│                     │                   │            │ embedding_1[<span style=\"color: #00af00; text-decoration-color: #00af00\">0</span>][<span style=\"color: #00af00; text-decoration-color: #00af00\">0</span>… │\n",
       "│                     │                   │            │ embedding_2[<span style=\"color: #00af00; text-decoration-color: #00af00\">0</span>][<span style=\"color: #00af00; text-decoration-color: #00af00\">0</span>… │\n",
       "│                     │                   │            │ embedding_3[<span style=\"color: #00af00; text-decoration-color: #00af00\">0</span>][<span style=\"color: #00af00; text-decoration-color: #00af00\">0</span>… │\n",
       "│                     │                   │            │ input_numerical[<span style=\"color: #00af00; text-decoration-color: #00af00\">…</span> │\n",
       "├─────────────────────┼───────────────────┼────────────┼───────────────────┤\n",
       "│ gru (<span style=\"color: #0087ff; text-decoration-color: #0087ff\">GRU</span>)           │ [(<span style=\"color: #00d7ff; text-decoration-color: #00d7ff\">None</span>, <span style=\"color: #00af00; text-decoration-color: #00af00\">64</span>),      │     <span style=\"color: #00af00; text-decoration-color: #00af00\">20,160</span> │ concatenate[<span style=\"color: #00af00; text-decoration-color: #00af00\">0</span>][<span style=\"color: #00af00; text-decoration-color: #00af00\">0</span>] │\n",
       "│                     │ (<span style=\"color: #00d7ff; text-decoration-color: #00d7ff\">None</span>, <span style=\"color: #00af00; text-decoration-color: #00af00\">64</span>)]       │            │                   │\n",
       "└─────────────────────┴───────────────────┴────────────┴───────────────────┘\n",
       "</pre>\n"
      ],
      "text/plain": [
       "┏━━━━━━━━━━━━━━━━━━━━━┳━━━━━━━━━━━━━━━━━━━┳━━━━━━━━━━━━┳━━━━━━━━━━━━━━━━━━━┓\n",
       "┃\u001b[1m \u001b[0m\u001b[1mLayer (type)       \u001b[0m\u001b[1m \u001b[0m┃\u001b[1m \u001b[0m\u001b[1mOutput Shape     \u001b[0m\u001b[1m \u001b[0m┃\u001b[1m \u001b[0m\u001b[1m   Param #\u001b[0m\u001b[1m \u001b[0m┃\u001b[1m \u001b[0m\u001b[1mConnected to     \u001b[0m\u001b[1m \u001b[0m┃\n",
       "┡━━━━━━━━━━━━━━━━━━━━━╇━━━━━━━━━━━━━━━━━━━╇━━━━━━━━━━━━╇━━━━━━━━━━━━━━━━━━━┩\n",
       "│ input_topics        │ (\u001b[38;5;45mNone\u001b[0m, \u001b[38;5;45mNone\u001b[0m, \u001b[38;5;34m79\u001b[0m)  │          \u001b[38;5;34m0\u001b[0m │ -                 │\n",
       "│ (\u001b[38;5;33mInputLayer\u001b[0m)        │                   │            │                   │\n",
       "├─────────────────────┼───────────────────┼────────────┼───────────────────┤\n",
       "│ input_subcategory   │ (\u001b[38;5;45mNone\u001b[0m, \u001b[38;5;45mNone\u001b[0m, \u001b[38;5;34m263\u001b[0m) │          \u001b[38;5;34m0\u001b[0m │ -                 │\n",
       "│ (\u001b[38;5;33mInputLayer\u001b[0m)        │                   │            │                   │\n",
       "├─────────────────────┼───────────────────┼────────────┼───────────────────┤\n",
       "│ input_category      │ (\u001b[38;5;45mNone\u001b[0m, \u001b[38;5;45mNone\u001b[0m)      │          \u001b[38;5;34m0\u001b[0m │ -                 │\n",
       "│ (\u001b[38;5;33mInputLayer\u001b[0m)        │                   │            │                   │\n",
       "├─────────────────────┼───────────────────┼────────────┼───────────────────┤\n",
       "│ input_weekday       │ (\u001b[38;5;45mNone\u001b[0m, \u001b[38;5;45mNone\u001b[0m)      │          \u001b[38;5;34m0\u001b[0m │ -                 │\n",
       "│ (\u001b[38;5;33mInputLayer\u001b[0m)        │                   │            │                   │\n",
       "├─────────────────────┼───────────────────┼────────────┼───────────────────┤\n",
       "│ input_hour_group    │ (\u001b[38;5;45mNone\u001b[0m, \u001b[38;5;45mNone\u001b[0m)      │          \u001b[38;5;34m0\u001b[0m │ -                 │\n",
       "│ (\u001b[38;5;33mInputLayer\u001b[0m)        │                   │            │                   │\n",
       "├─────────────────────┼───────────────────┼────────────┼───────────────────┤\n",
       "│ input_sentiment_la… │ (\u001b[38;5;45mNone\u001b[0m, \u001b[38;5;45mNone\u001b[0m)      │          \u001b[38;5;34m0\u001b[0m │ -                 │\n",
       "│ (\u001b[38;5;33mInputLayer\u001b[0m)        │                   │            │                   │\n",
       "├─────────────────────┼───────────────────┼────────────┼───────────────────┤\n",
       "│ sequence_multi_hot… │ (\u001b[38;5;45mNone\u001b[0m, \u001b[38;5;45mNone\u001b[0m, \u001b[38;5;34m10\u001b[0m)  │        \u001b[38;5;34m790\u001b[0m │ input_topics[\u001b[38;5;34m0\u001b[0m][\u001b[38;5;34m…\u001b[0m │\n",
       "│ (\u001b[38;5;33mSequenceMultiHotE…\u001b[0m │                   │            │                   │\n",
       "├─────────────────────┼───────────────────┼────────────┼───────────────────┤\n",
       "│ sequence_multi_hot… │ (\u001b[38;5;45mNone\u001b[0m, \u001b[38;5;45mNone\u001b[0m, \u001b[38;5;34m10\u001b[0m)  │      \u001b[38;5;34m2,630\u001b[0m │ input_subcategor… │\n",
       "│ (\u001b[38;5;33mSequenceMultiHotE…\u001b[0m │                   │            │                   │\n",
       "├─────────────────────┼───────────────────┼────────────┼───────────────────┤\n",
       "│ embedding           │ (\u001b[38;5;45mNone\u001b[0m, \u001b[38;5;45mNone\u001b[0m, \u001b[38;5;34m10\u001b[0m)  │        \u001b[38;5;34m330\u001b[0m │ input_category[\u001b[38;5;34m0\u001b[0m… │\n",
       "│ (\u001b[38;5;33mEmbedding\u001b[0m)         │                   │            │                   │\n",
       "├─────────────────────┼───────────────────┼────────────┼───────────────────┤\n",
       "│ embedding_1         │ (\u001b[38;5;45mNone\u001b[0m, \u001b[38;5;45mNone\u001b[0m, \u001b[38;5;34m3\u001b[0m)   │         \u001b[38;5;34m21\u001b[0m │ input_weekday[\u001b[38;5;34m0\u001b[0m]… │\n",
       "│ (\u001b[38;5;33mEmbedding\u001b[0m)         │                   │            │                   │\n",
       "├─────────────────────┼───────────────────┼────────────┼───────────────────┤\n",
       "│ embedding_2         │ (\u001b[38;5;45mNone\u001b[0m, \u001b[38;5;45mNone\u001b[0m, \u001b[38;5;34m3\u001b[0m)   │         \u001b[38;5;34m18\u001b[0m │ input_hour_group… │\n",
       "│ (\u001b[38;5;33mEmbedding\u001b[0m)         │                   │            │                   │\n",
       "├─────────────────────┼───────────────────┼────────────┼───────────────────┤\n",
       "│ embedding_3         │ (\u001b[38;5;45mNone\u001b[0m, \u001b[38;5;45mNone\u001b[0m, \u001b[38;5;34m2\u001b[0m)   │          \u001b[38;5;34m8\u001b[0m │ input_sentiment_… │\n",
       "│ (\u001b[38;5;33mEmbedding\u001b[0m)         │                   │            │                   │\n",
       "├─────────────────────┼───────────────────┼────────────┼───────────────────┤\n",
       "│ input_numerical     │ (\u001b[38;5;45mNone\u001b[0m, \u001b[38;5;45mNone\u001b[0m, \u001b[38;5;34m3\u001b[0m)   │          \u001b[38;5;34m0\u001b[0m │ -                 │\n",
       "│ (\u001b[38;5;33mInputLayer\u001b[0m)        │                   │            │                   │\n",
       "├─────────────────────┼───────────────────┼────────────┼───────────────────┤\n",
       "│ concatenate         │ (\u001b[38;5;45mNone\u001b[0m, \u001b[38;5;45mNone\u001b[0m, \u001b[38;5;34m41\u001b[0m)  │          \u001b[38;5;34m0\u001b[0m │ sequence_multi_h… │\n",
       "│ (\u001b[38;5;33mConcatenate\u001b[0m)       │                   │            │ sequence_multi_h… │\n",
       "│                     │                   │            │ embedding[\u001b[38;5;34m0\u001b[0m][\u001b[38;5;34m0\u001b[0m],  │\n",
       "│                     │                   │            │ embedding_1[\u001b[38;5;34m0\u001b[0m][\u001b[38;5;34m0\u001b[0m… │\n",
       "│                     │                   │            │ embedding_2[\u001b[38;5;34m0\u001b[0m][\u001b[38;5;34m0\u001b[0m… │\n",
       "│                     │                   │            │ embedding_3[\u001b[38;5;34m0\u001b[0m][\u001b[38;5;34m0\u001b[0m… │\n",
       "│                     │                   │            │ input_numerical[\u001b[38;5;34m…\u001b[0m │\n",
       "├─────────────────────┼───────────────────┼────────────┼───────────────────┤\n",
       "│ gru (\u001b[38;5;33mGRU\u001b[0m)           │ [(\u001b[38;5;45mNone\u001b[0m, \u001b[38;5;34m64\u001b[0m),      │     \u001b[38;5;34m20,160\u001b[0m │ concatenate[\u001b[38;5;34m0\u001b[0m][\u001b[38;5;34m0\u001b[0m] │\n",
       "│                     │ (\u001b[38;5;45mNone\u001b[0m, \u001b[38;5;34m64\u001b[0m)]       │            │                   │\n",
       "└─────────────────────┴───────────────────┴────────────┴───────────────────┘\n"
      ]
     },
     "metadata": {},
     "output_type": "display_data"
    },
    {
     "data": {
      "text/html": [
       "<pre style=\"white-space:pre;overflow-x:auto;line-height:normal;font-family:Menlo,'DejaVu Sans Mono',consolas,'Courier New',monospace\"><span style=\"font-weight: bold\"> Total params: </span><span style=\"color: #00af00; text-decoration-color: #00af00\">23,957</span> (93.58 KB)\n",
       "</pre>\n"
      ],
      "text/plain": [
       "\u001b[1m Total params: \u001b[0m\u001b[38;5;34m23,957\u001b[0m (93.58 KB)\n"
      ]
     },
     "metadata": {},
     "output_type": "display_data"
    },
    {
     "data": {
      "text/html": [
       "<pre style=\"white-space:pre;overflow-x:auto;line-height:normal;font-family:Menlo,'DejaVu Sans Mono',consolas,'Courier New',monospace\"><span style=\"font-weight: bold\"> Trainable params: </span><span style=\"color: #00af00; text-decoration-color: #00af00\">23,957</span> (93.58 KB)\n",
       "</pre>\n"
      ],
      "text/plain": [
       "\u001b[1m Trainable params: \u001b[0m\u001b[38;5;34m23,957\u001b[0m (93.58 KB)\n"
      ]
     },
     "metadata": {},
     "output_type": "display_data"
    },
    {
     "data": {
      "text/html": [
       "<pre style=\"white-space:pre;overflow-x:auto;line-height:normal;font-family:Menlo,'DejaVu Sans Mono',consolas,'Courier New',monospace\"><span style=\"font-weight: bold\"> Non-trainable params: </span><span style=\"color: #00af00; text-decoration-color: #00af00\">0</span> (0.00 B)\n",
       "</pre>\n"
      ],
      "text/plain": [
       "\u001b[1m Non-trainable params: \u001b[0m\u001b[38;5;34m0\u001b[0m (0.00 B)\n"
      ]
     },
     "metadata": {},
     "output_type": "display_data"
    }
   ],
   "source": [
    "concatenate_layer = model.model.get_layer('concatenate').output\n",
    "\n",
    "gru_layer = model.model.get_layer('gru')\n",
    "gru_layer.return_state = True\n",
    "\n",
    "output = gru_layer(concatenate_layer)\n",
    "\n",
    "embedding_model = tf.keras.Model(inputs=model.model.inputs, outputs=output)\n",
    "embedding_model.summary()"
   ]
  },
  {
   "cell_type": "code",
   "execution_count": 10,
   "metadata": {},
   "outputs": [
    {
     "data": {
      "text/html": [
       "<div><style>\n",
       ".dataframe > thead > tr,\n",
       ".dataframe > tbody > tr {\n",
       "  text-align: right;\n",
       "  white-space: pre-wrap;\n",
       "}\n",
       "</style>\n",
       "<small>shape: (2, 5)</small><table border=\"1\" class=\"dataframe\"><thead><tr><th>user_id</th><th>impression_time_fixed</th><th>scroll_percentage_fixed</th><th>article_id_fixed</th><th>read_time_fixed</th></tr><tr><td>u32</td><td>list[datetime[μs]]</td><td>list[f32]</td><td>list[i32]</td><td>list[f32]</td></tr></thead><tbody><tr><td>0</td><td>[2023-05-05 10:09:28, 2023-05-05 10:09:37, … 2023-05-20 15:22:31]</td><td>[39.0, 29.0, … null]</td><td>[9750829, 9750793, … 9771113]</td><td>[4.0, 8.0, … 7.0]</td></tr><tr><td>1</td><td>[2023-05-05 10:09:28, 2023-05-05 10:09:37, … 2023-05-20 15:22:31]</td><td>[39.0, 29.0, … null]</td><td>[9750829, 9750793, … 9771113]</td><td>[4.0, 8.0, … 7.0]</td></tr></tbody></table></div>"
      ],
      "text/plain": [
       "shape: (2, 5)\n",
       "┌─────────┬──────────────────────┬──────────────────────┬──────────────────────┬───────────────────┐\n",
       "│ user_id ┆ impression_time_fixe ┆ scroll_percentage_fi ┆ article_id_fixed     ┆ read_time_fixed   │\n",
       "│ ---     ┆ d                    ┆ xed                  ┆ ---                  ┆ ---               │\n",
       "│ u32     ┆ ---                  ┆ ---                  ┆ list[i32]            ┆ list[f32]         │\n",
       "│         ┆ list[datetime[μs]]   ┆ list[f32]            ┆                      ┆                   │\n",
       "╞═════════╪══════════════════════╪══════════════════════╪══════════════════════╪═══════════════════╡\n",
       "│ 0       ┆ [2023-05-05          ┆ [39.0, 29.0, … null] ┆ [9750829, 9750793, … ┆ [4.0, 8.0, … 7.0] │\n",
       "│         ┆ 10:09:28, 2023-05-…  ┆                      ┆ 9771113]             ┆                   │\n",
       "│ 1       ┆ [2023-05-05          ┆ [39.0, 29.0, … null] ┆ [9750829, 9750793, … ┆ [4.0, 8.0, … 7.0] │\n",
       "│         ┆ 10:09:28, 2023-05-…  ┆                      ┆ 9771113]             ┆                   │\n",
       "└─────────┴──────────────────────┴──────────────────────┴──────────────────────┴───────────────────┘"
      ]
     },
     "execution_count": 10,
     "metadata": {},
     "output_type": "execute_result"
    }
   ],
   "source": [
    "history_seq_final = history_f.select(\n",
    "    pl.col('index').alias('user_id'),\n",
    "    *history_cols\n",
    ")\n",
    "history_seq_final.head(2)"
   ]
  },
  {
   "cell_type": "code",
   "execution_count": 11,
   "metadata": {},
   "outputs": [
    {
     "data": {
      "text/html": [
       "<div><style>\n",
       ".dataframe > thead > tr,\n",
       ".dataframe > tbody > tr {\n",
       "  text-align: right;\n",
       "  white-space: pre-wrap;\n",
       "}\n",
       "</style>\n",
       "<small>shape: (1, 351)</small><table border=\"1\" class=\"dataframe\"><thead><tr><th>user_id</th><th>category</th><th>hour_group</th><th>impression_time_fixed</th><th>premium</th><th>read_time</th><th>scroll_percentage</th><th>sentiment_label</th><th>weekday</th><th>topics_0</th><th>topics_1</th><th>topics_2</th><th>topics_3</th><th>topics_4</th><th>topics_5</th><th>topics_6</th><th>topics_7</th><th>topics_8</th><th>topics_9</th><th>topics_10</th><th>topics_11</th><th>topics_12</th><th>topics_13</th><th>topics_14</th><th>topics_15</th><th>topics_16</th><th>topics_17</th><th>topics_18</th><th>topics_19</th><th>topics_20</th><th>topics_21</th><th>topics_22</th><th>topics_23</th><th>topics_24</th><th>topics_25</th><th>topics_26</th><th>topics_27</th><th>&hellip;</th><th>subcategory_226</th><th>subcategory_227</th><th>subcategory_228</th><th>subcategory_229</th><th>subcategory_230</th><th>subcategory_231</th><th>subcategory_232</th><th>subcategory_233</th><th>subcategory_234</th><th>subcategory_235</th><th>subcategory_236</th><th>subcategory_237</th><th>subcategory_238</th><th>subcategory_239</th><th>subcategory_240</th><th>subcategory_241</th><th>subcategory_242</th><th>subcategory_243</th><th>subcategory_244</th><th>subcategory_245</th><th>subcategory_246</th><th>subcategory_247</th><th>subcategory_248</th><th>subcategory_249</th><th>subcategory_250</th><th>subcategory_251</th><th>subcategory_252</th><th>subcategory_253</th><th>subcategory_254</th><th>subcategory_255</th><th>subcategory_256</th><th>subcategory_257</th><th>subcategory_258</th><th>subcategory_259</th><th>subcategory_260</th><th>subcategory_261</th><th>subcategory_262</th></tr><tr><td>u32</td><td>list[i8]</td><td>list[i8]</td><td>list[datetime[μs]]</td><td>list[i8]</td><td>list[f32]</td><td>list[f32]</td><td>list[i8]</td><td>list[i8]</td><td>list[i8]</td><td>list[i8]</td><td>list[i8]</td><td>list[i8]</td><td>list[i8]</td><td>list[i8]</td><td>list[i8]</td><td>list[i8]</td><td>list[i8]</td><td>list[i8]</td><td>list[i8]</td><td>list[i8]</td><td>list[i8]</td><td>list[i8]</td><td>list[i8]</td><td>list[i8]</td><td>list[i8]</td><td>list[i8]</td><td>list[i8]</td><td>list[i8]</td><td>list[i8]</td><td>list[i8]</td><td>list[i8]</td><td>list[i8]</td><td>list[i8]</td><td>list[i8]</td><td>list[i8]</td><td>list[i8]</td><td>&hellip;</td><td>list[i8]</td><td>list[i8]</td><td>list[i8]</td><td>list[i8]</td><td>list[i8]</td><td>list[i8]</td><td>list[i8]</td><td>list[i8]</td><td>list[i8]</td><td>list[i8]</td><td>list[i8]</td><td>list[i8]</td><td>list[i8]</td><td>list[i8]</td><td>list[i8]</td><td>list[i8]</td><td>list[i8]</td><td>list[i8]</td><td>list[i8]</td><td>list[i8]</td><td>list[i8]</td><td>list[i8]</td><td>list[i8]</td><td>list[i8]</td><td>list[i8]</td><td>list[i8]</td><td>list[i8]</td><td>list[i8]</td><td>list[i8]</td><td>list[i8]</td><td>list[i8]</td><td>list[i8]</td><td>list[i8]</td><td>list[i8]</td><td>list[i8]</td><td>list[i8]</td><td>list[i8]</td></tr></thead><tbody><tr><td>0</td><td>[8, 4, … 5]</td><td>[2, 2, … 3]</td><td>[2023-05-05 10:09:28, 2023-05-05 10:09:37, … 2023-05-20 15:22:31]</td><td>[0, 0, … 1]</td><td>[4.0, 8.0, … 7.0]</td><td>[39.0, 29.0, … 0.0]</td><td>[1, 2, … 1]</td><td>[4, 4, … 5]</td><td>[0, 0, … 0]</td><td>[0, 0, … 0]</td><td>[0, 0, … 0]</td><td>[0, 0, … 0]</td><td>[0, 0, … 0]</td><td>[0, 0, … 0]</td><td>[0, 0, … 0]</td><td>[0, 0, … 0]</td><td>[0, 0, … 0]</td><td>[0, 0, … 0]</td><td>[0, 0, … 0]</td><td>[0, 0, … 0]</td><td>[1, 0, … 0]</td><td>[0, 0, … 0]</td><td>[0, 0, … 0]</td><td>[0, 0, … 0]</td><td>[0, 0, … 0]</td><td>[0, 0, … 0]</td><td>[0, 0, … 0]</td><td>[0, 0, … 0]</td><td>[0, 1, … 0]</td><td>[0, 0, … 0]</td><td>[0, 0, … 0]</td><td>[0, 0, … 0]</td><td>[0, 1, … 0]</td><td>[0, 0, … 0]</td><td>[0, 0, … 1]</td><td>[0, 0, … 0]</td><td>&hellip;</td><td>[0, 0, … 0]</td><td>[0, 0, … 0]</td><td>[0, 0, … 0]</td><td>[0, 0, … 0]</td><td>[0, 0, … 0]</td><td>[0, 0, … 0]</td><td>[0, 0, … 0]</td><td>[0, 0, … 0]</td><td>[0, 0, … 0]</td><td>[0, 0, … 0]</td><td>[0, 0, … 0]</td><td>[0, 0, … 0]</td><td>[0, 0, … 0]</td><td>[0, 0, … 0]</td><td>[0, 0, … 0]</td><td>[0, 0, … 0]</td><td>[0, 0, … 0]</td><td>[0, 0, … 0]</td><td>[0, 0, … 0]</td><td>[0, 0, … 0]</td><td>[0, 0, … 0]</td><td>[0, 0, … 0]</td><td>[0, 0, … 0]</td><td>[0, 0, … 0]</td><td>[0, 0, … 0]</td><td>[0, 0, … 0]</td><td>[0, 0, … 0]</td><td>[0, 0, … 0]</td><td>[0, 0, … 0]</td><td>[0, 0, … 0]</td><td>[0, 0, … 0]</td><td>[0, 0, … 0]</td><td>[0, 0, … 0]</td><td>[0, 0, … 0]</td><td>[0, 0, … 0]</td><td>[0, 0, … 0]</td><td>[0, 0, … 0]</td></tr></tbody></table></div>"
      ],
      "text/plain": [
       "shape: (1, 351)\n",
       "┌─────────┬────────────┬───────────┬───────────┬───┬───────────┬───────────┬───────────┬───────────┐\n",
       "│ user_id ┆ category   ┆ hour_grou ┆ impressio ┆ … ┆ subcatego ┆ subcatego ┆ subcatego ┆ subcatego │\n",
       "│ ---     ┆ ---        ┆ p         ┆ n_time_fi ┆   ┆ ry_259    ┆ ry_260    ┆ ry_261    ┆ ry_262    │\n",
       "│ u32     ┆ list[i8]   ┆ ---       ┆ xed       ┆   ┆ ---       ┆ ---       ┆ ---       ┆ ---       │\n",
       "│         ┆            ┆ list[i8]  ┆ ---       ┆   ┆ list[i8]  ┆ list[i8]  ┆ list[i8]  ┆ list[i8]  │\n",
       "│         ┆            ┆           ┆ list[date ┆   ┆           ┆           ┆           ┆           │\n",
       "│         ┆            ┆           ┆ time[μs]] ┆   ┆           ┆           ┆           ┆           │\n",
       "╞═════════╪════════════╪═══════════╪═══════════╪═══╪═══════════╪═══════════╪═══════════╪═══════════╡\n",
       "│ 0       ┆ [8, 4, …   ┆ [2, 2, …  ┆ [2023-05- ┆ … ┆ [0, 0, …  ┆ [0, 0, …  ┆ [0, 0, …  ┆ [0, 0, …  │\n",
       "│         ┆ 5]         ┆ 3]        ┆ 05        ┆   ┆ 0]        ┆ 0]        ┆ 0]        ┆ 0]        │\n",
       "│         ┆            ┆           ┆ 10:09:28, ┆   ┆           ┆           ┆           ┆           │\n",
       "│         ┆            ┆           ┆ 2023-05-… ┆   ┆           ┆           ┆           ┆           │\n",
       "└─────────┴────────────┴───────────┴───────────┴───┴───────────┴───────────┴───────────┴───────────┘"
      ]
     },
     "execution_count": 11,
     "metadata": {},
     "output_type": "execute_result"
    }
   ],
   "source": [
    "history_seq = build_history_seq(history_seq_final, articles)\n",
    "history_seq.head(1)"
   ]
  },
  {
   "cell_type": "code",
   "execution_count": 13,
   "metadata": {},
   "outputs": [
    {
     "data": {
      "text/html": [
       "<div><style>\n",
       ".dataframe > thead > tr,\n",
       ".dataframe > tbody > tr {\n",
       "  text-align: right;\n",
       "  white-space: pre-wrap;\n",
       "}\n",
       "</style>\n",
       "<small>shape: (2, 351)</small><table border=\"1\" class=\"dataframe\"><thead><tr><th>user_id</th><th>category</th><th>hour_group</th><th>impression_time_fixed</th><th>premium</th><th>read_time</th><th>scroll_percentage</th><th>sentiment_label</th><th>weekday</th><th>topics_0</th><th>topics_1</th><th>topics_2</th><th>topics_3</th><th>topics_4</th><th>topics_5</th><th>topics_6</th><th>topics_7</th><th>topics_8</th><th>topics_9</th><th>topics_10</th><th>topics_11</th><th>topics_12</th><th>topics_13</th><th>topics_14</th><th>topics_15</th><th>topics_16</th><th>topics_17</th><th>topics_18</th><th>topics_19</th><th>topics_20</th><th>topics_21</th><th>topics_22</th><th>topics_23</th><th>topics_24</th><th>topics_25</th><th>topics_26</th><th>topics_27</th><th>&hellip;</th><th>subcategory_226</th><th>subcategory_227</th><th>subcategory_228</th><th>subcategory_229</th><th>subcategory_230</th><th>subcategory_231</th><th>subcategory_232</th><th>subcategory_233</th><th>subcategory_234</th><th>subcategory_235</th><th>subcategory_236</th><th>subcategory_237</th><th>subcategory_238</th><th>subcategory_239</th><th>subcategory_240</th><th>subcategory_241</th><th>subcategory_242</th><th>subcategory_243</th><th>subcategory_244</th><th>subcategory_245</th><th>subcategory_246</th><th>subcategory_247</th><th>subcategory_248</th><th>subcategory_249</th><th>subcategory_250</th><th>subcategory_251</th><th>subcategory_252</th><th>subcategory_253</th><th>subcategory_254</th><th>subcategory_255</th><th>subcategory_256</th><th>subcategory_257</th><th>subcategory_258</th><th>subcategory_259</th><th>subcategory_260</th><th>subcategory_261</th><th>subcategory_262</th></tr><tr><td>u32</td><td>list[i8]</td><td>list[i8]</td><td>list[datetime[μs]]</td><td>list[i8]</td><td>list[f32]</td><td>list[f32]</td><td>list[i8]</td><td>list[i8]</td><td>list[i8]</td><td>list[i8]</td><td>list[i8]</td><td>list[i8]</td><td>list[i8]</td><td>list[i8]</td><td>list[i8]</td><td>list[i8]</td><td>list[i8]</td><td>list[i8]</td><td>list[i8]</td><td>list[i8]</td><td>list[i8]</td><td>list[i8]</td><td>list[i8]</td><td>list[i8]</td><td>list[i8]</td><td>list[i8]</td><td>list[i8]</td><td>list[i8]</td><td>list[i8]</td><td>list[i8]</td><td>list[i8]</td><td>list[i8]</td><td>list[i8]</td><td>list[i8]</td><td>list[i8]</td><td>list[i8]</td><td>&hellip;</td><td>list[i8]</td><td>list[i8]</td><td>list[i8]</td><td>list[i8]</td><td>list[i8]</td><td>list[i8]</td><td>list[i8]</td><td>list[i8]</td><td>list[i8]</td><td>list[i8]</td><td>list[i8]</td><td>list[i8]</td><td>list[i8]</td><td>list[i8]</td><td>list[i8]</td><td>list[i8]</td><td>list[i8]</td><td>list[i8]</td><td>list[i8]</td><td>list[i8]</td><td>list[i8]</td><td>list[i8]</td><td>list[i8]</td><td>list[i8]</td><td>list[i8]</td><td>list[i8]</td><td>list[i8]</td><td>list[i8]</td><td>list[i8]</td><td>list[i8]</td><td>list[i8]</td><td>list[i8]</td><td>list[i8]</td><td>list[i8]</td><td>list[i8]</td><td>list[i8]</td><td>list[i8]</td></tr></thead><tbody><tr><td>0</td><td>[8, 4, … 5]</td><td>[2, 2, … 3]</td><td>[2023-05-05 10:09:28, 2023-05-05 10:09:37, … 2023-05-20 15:22:31]</td><td>[0, 0, … 1]</td><td>[4.0, 8.0, … 7.0]</td><td>[39.0, 29.0, … 0.0]</td><td>[1, 2, … 1]</td><td>[4, 4, … 5]</td><td>[0, 0, … 0]</td><td>[0, 0, … 0]</td><td>[0, 0, … 0]</td><td>[0, 0, … 0]</td><td>[0, 0, … 0]</td><td>[0, 0, … 0]</td><td>[0, 0, … 0]</td><td>[0, 0, … 0]</td><td>[0, 0, … 0]</td><td>[0, 0, … 0]</td><td>[0, 0, … 0]</td><td>[0, 0, … 0]</td><td>[1, 0, … 0]</td><td>[0, 0, … 0]</td><td>[0, 0, … 0]</td><td>[0, 0, … 0]</td><td>[0, 0, … 0]</td><td>[0, 0, … 0]</td><td>[0, 0, … 0]</td><td>[0, 0, … 0]</td><td>[0, 1, … 0]</td><td>[0, 0, … 0]</td><td>[0, 0, … 0]</td><td>[0, 0, … 0]</td><td>[0, 1, … 0]</td><td>[0, 0, … 0]</td><td>[0, 0, … 1]</td><td>[0, 0, … 0]</td><td>&hellip;</td><td>[0, 0, … 0]</td><td>[0, 0, … 0]</td><td>[0, 0, … 0]</td><td>[0, 0, … 0]</td><td>[0, 0, … 0]</td><td>[0, 0, … 0]</td><td>[0, 0, … 0]</td><td>[0, 0, … 0]</td><td>[0, 0, … 0]</td><td>[0, 0, … 0]</td><td>[0, 0, … 0]</td><td>[0, 0, … 0]</td><td>[0, 0, … 0]</td><td>[0, 0, … 0]</td><td>[0, 0, … 0]</td><td>[0, 0, … 0]</td><td>[0, 0, … 0]</td><td>[0, 0, … 0]</td><td>[0, 0, … 0]</td><td>[0, 0, … 0]</td><td>[0, 0, … 0]</td><td>[0, 0, … 0]</td><td>[0, 0, … 0]</td><td>[0, 0, … 0]</td><td>[0, 0, … 0]</td><td>[0, 0, … 0]</td><td>[0, 0, … 0]</td><td>[0, 0, … 0]</td><td>[0, 0, … 0]</td><td>[0, 0, … 0]</td><td>[0, 0, … 0]</td><td>[0, 0, … 0]</td><td>[0, 0, … 0]</td><td>[0, 0, … 0]</td><td>[0, 0, … 0]</td><td>[0, 0, … 0]</td><td>[0, 0, … 0]</td></tr><tr><td>1</td><td>[8, 4, … 5]</td><td>[2, 2, … 3]</td><td>[2023-05-05 10:09:28, 2023-05-05 10:09:37, … 2023-05-20 15:22:31]</td><td>[0, 0, … 1]</td><td>[4.0, 8.0, … 7.0]</td><td>[39.0, 29.0, … 0.0]</td><td>[1, 2, … 1]</td><td>[4, 4, … 5]</td><td>[0, 0, … 0]</td><td>[0, 0, … 0]</td><td>[0, 0, … 0]</td><td>[0, 0, … 0]</td><td>[0, 0, … 0]</td><td>[0, 0, … 0]</td><td>[0, 0, … 0]</td><td>[0, 0, … 0]</td><td>[0, 0, … 0]</td><td>[0, 0, … 0]</td><td>[0, 0, … 0]</td><td>[0, 0, … 0]</td><td>[1, 0, … 0]</td><td>[0, 0, … 0]</td><td>[0, 0, … 0]</td><td>[0, 0, … 0]</td><td>[0, 0, … 0]</td><td>[0, 0, … 0]</td><td>[0, 0, … 0]</td><td>[0, 0, … 0]</td><td>[0, 1, … 0]</td><td>[0, 0, … 0]</td><td>[0, 0, … 0]</td><td>[0, 0, … 0]</td><td>[0, 1, … 0]</td><td>[0, 0, … 0]</td><td>[0, 0, … 1]</td><td>[0, 0, … 0]</td><td>&hellip;</td><td>[0, 0, … 0]</td><td>[0, 0, … 0]</td><td>[0, 0, … 0]</td><td>[0, 0, … 0]</td><td>[0, 0, … 0]</td><td>[0, 0, … 0]</td><td>[0, 0, … 0]</td><td>[0, 0, … 0]</td><td>[0, 0, … 0]</td><td>[0, 0, … 0]</td><td>[0, 0, … 0]</td><td>[0, 0, … 0]</td><td>[0, 0, … 0]</td><td>[0, 0, … 0]</td><td>[0, 0, … 0]</td><td>[0, 0, … 0]</td><td>[0, 0, … 0]</td><td>[0, 0, … 0]</td><td>[0, 0, … 0]</td><td>[0, 0, … 0]</td><td>[0, 0, … 0]</td><td>[0, 0, … 0]</td><td>[0, 0, … 0]</td><td>[0, 0, … 0]</td><td>[0, 0, … 0]</td><td>[0, 0, … 0]</td><td>[0, 0, … 0]</td><td>[0, 0, … 0]</td><td>[0, 0, … 0]</td><td>[0, 0, … 0]</td><td>[0, 0, … 0]</td><td>[0, 0, … 0]</td><td>[0, 0, … 0]</td><td>[0, 0, … 0]</td><td>[0, 0, … 0]</td><td>[0, 0, … 0]</td><td>[0, 0, … 0]</td></tr></tbody></table></div>"
      ],
      "text/plain": [
       "shape: (2, 351)\n",
       "┌─────────┬────────────┬───────────┬───────────┬───┬───────────┬───────────┬───────────┬───────────┐\n",
       "│ user_id ┆ category   ┆ hour_grou ┆ impressio ┆ … ┆ subcatego ┆ subcatego ┆ subcatego ┆ subcatego │\n",
       "│ ---     ┆ ---        ┆ p         ┆ n_time_fi ┆   ┆ ry_259    ┆ ry_260    ┆ ry_261    ┆ ry_262    │\n",
       "│ u32     ┆ list[i8]   ┆ ---       ┆ xed       ┆   ┆ ---       ┆ ---       ┆ ---       ┆ ---       │\n",
       "│         ┆            ┆ list[i8]  ┆ ---       ┆   ┆ list[i8]  ┆ list[i8]  ┆ list[i8]  ┆ list[i8]  │\n",
       "│         ┆            ┆           ┆ list[date ┆   ┆           ┆           ┆           ┆           │\n",
       "│         ┆            ┆           ┆ time[μs]] ┆   ┆           ┆           ┆           ┆           │\n",
       "╞═════════╪════════════╪═══════════╪═══════════╪═══╪═══════════╪═══════════╪═══════════╪═══════════╡\n",
       "│ 0       ┆ [8, 4, …   ┆ [2, 2, …  ┆ [2023-05- ┆ … ┆ [0, 0, …  ┆ [0, 0, …  ┆ [0, 0, …  ┆ [0, 0, …  │\n",
       "│         ┆ 5]         ┆ 3]        ┆ 05        ┆   ┆ 0]        ┆ 0]        ┆ 0]        ┆ 0]        │\n",
       "│         ┆            ┆           ┆ 10:09:28, ┆   ┆           ┆           ┆           ┆           │\n",
       "│         ┆            ┆           ┆ 2023-05-… ┆   ┆           ┆           ┆           ┆           │\n",
       "│ 1       ┆ [8, 4, …   ┆ [2, 2, …  ┆ [2023-05- ┆ … ┆ [0, 0, …  ┆ [0, 0, …  ┆ [0, 0, …  ┆ [0, 0, …  │\n",
       "│         ┆ 5]         ┆ 3]        ┆ 05        ┆   ┆ 0]        ┆ 0]        ┆ 0]        ┆ 0]        │\n",
       "│         ┆            ┆           ┆ 10:09:28, ┆   ┆           ┆           ┆           ┆           │\n",
       "│         ┆            ┆           ┆ 2023-05-… ┆   ┆           ┆           ┆           ┆           │\n",
       "└─────────┴────────────┴───────────┴───────────┴───┴───────────┴───────────┴───────────┴───────────┘"
      ]
     },
     "execution_count": 13,
     "metadata": {},
     "output_type": "execute_result"
    }
   ],
   "source": [
    "history_seq_trucated = history_seq.with_columns(\n",
    "    pl.all().exclude('user_id').list.reverse().list.eval(pl.element().extend_constant(0, window)).list.reverse().list.tail(window).name.keep()\n",
    ")\n",
    "history_seq_trucated.head(2)"
   ]
  },
  {
   "cell_type": "code",
   "execution_count": 20,
   "metadata": {},
   "outputs": [],
   "source": [
    "import numpy as np\n",
    "\n",
    "multi_one_hot_cols = ['topics', 'subcategory']\n",
    "categorical_cols = ['category', 'weekday', 'hour_group', 'sentiment_label']\n",
    "# caterical_cols_num_classes = {key: history_seq[key].explode().max() + 1 for key in categorical_cols}  #uncomment if you don't want to hardcode\n",
    "caterical_cols_num_classes = {\n",
    "    'category': N_CATEGORY + 1,#+1 to handle null values\n",
    "    'weekday': N_WEEKDAY,\n",
    "    'hour_group': N_HOUR_GROUP,\n",
    "    'sentiment_label': N_SENTIMENT_LABEL + 1 #+1 to handle null\n",
    "}\n",
    "#it can be hardcoded if needed\n",
    "all_features = history_seq.drop('user_id').columns\n",
    "name_idx_dict = {key: [i for i, col in enumerate(all_features) if col.startswith(key)] for key in multi_one_hot_cols + categorical_cols}\n",
    "numerical_cols = ['scroll_percentage', 'read_time', 'premium']\n",
    "name_idx_dict['numerical'] = [i for i, col in enumerate(all_features) if col in numerical_cols]\n",
    "\n",
    "def last_history_window_generator(history_seq_trucated):\n",
    "    for user_history in history_seq_trucated.partition_by(['user_id'], maintain_order=True):\n",
    "        x = user_history.drop('user_id').to_numpy()[0]\n",
    "        x = np.array([np.array(x_i) for x_i in x])\n",
    "        res_x = {}\n",
    "        for key, idx in name_idx_dict.items():\n",
    "            res_x[f'input_{key}'] = x[idx, :].T.astype(np.float32 if key in numerical_cols else np.int16)\n",
    "            # print(key, res_x[f'input_{key}'].shape)\n",
    "    \n",
    "        yield res_x"
   ]
  },
  {
   "cell_type": "code",
   "execution_count": 21,
   "metadata": {},
   "outputs": [
    {
     "name": "stdout",
     "output_type": "stream",
     "text": [
      "\u001b[1m1/1\u001b[0m \u001b[32m━━━━━━━━━━━━━━━━━━━━\u001b[0m\u001b[37m\u001b[0m \u001b[1m1s\u001b[0m 1s/step\n"
     ]
    },
    {
     "name": "stderr",
     "output_type": "stream",
     "text": [
      "2024-06-18 20:44:55.076197: W tensorflow/core/framework/local_rendezvous.cc:404] Local rendezvous is aborting with status: OUT_OF_RANGE: End of sequence\n",
      "/usr/lib/python3.10/contextlib.py:153: UserWarning: Your input ran out of data; interrupting training. Make sure that your dataset or generator can generate at least `steps_per_epoch * epochs` batches. You may need to use the `.repeat()` function when building your dataset.\n",
      "  self.gen.throw(typ, value, traceback)\n"
     ]
    },
    {
     "data": {
      "text/plain": [
       "((100, 64), (100, 64))"
      ]
     },
     "execution_count": 21,
     "metadata": {},
     "output_type": "execute_result"
    }
   ],
   "source": [
    "mask = 0\n",
    "\n",
    "inference_dataset = tf.data.Dataset.from_generator(\n",
    "    lambda : last_history_window_generator(history_seq_trucated),\n",
    "    output_signature={\n",
    "        'input_topics': tf.TensorSpec(shape=(window,N_TOPICS+1), dtype=tf.int16), # history topics sequence\n",
    "        'input_category': tf.TensorSpec(shape=(window, 1), dtype=tf.int16), # history category sequence\n",
    "        'input_subcategory': tf.TensorSpec(shape=(window, N_SUBCATEGORY+1), dtype=tf.int16), # history subcategory sequence\n",
    "        'input_weekday': tf.TensorSpec(shape=(window, 1), dtype=tf.int16), # history weekday sequence\n",
    "        'input_hour_group': tf.TensorSpec(shape=(window, 1), dtype=tf.int16), # history hour_group sequence\n",
    "        'input_sentiment_label': tf.TensorSpec(shape=(window, 1), dtype=tf.int16), # history sentiment_label sequence\n",
    "        'input_numerical': tf.TensorSpec(shape=(window, 3), dtype=tf.float32), # history (premium, read_time, scroll_percentage) sequence\n",
    "    }\n",
    ").batch(512)\n",
    "\n",
    "sequence_embeddings, state_embeddings = embedding_model.predict(inference_dataset)\n",
    "sequence_embeddings.shape, state_embeddings.shape"
   ]
  },
  {
   "cell_type": "code",
   "execution_count": 28,
   "metadata": {},
   "outputs": [
    {
     "data": {
      "text/html": [
       "<div><style>\n",
       ".dataframe > thead > tr,\n",
       ".dataframe > tbody > tr {\n",
       "  text-align: right;\n",
       "  white-space: pre-wrap;\n",
       "}\n",
       "</style>\n",
       "<small>shape: (3, 65)</small><table border=\"1\" class=\"dataframe\"><thead><tr><th>index</th><th>user_embedding_0</th><th>user_embedding_1</th><th>user_embedding_2</th><th>user_embedding_3</th><th>user_embedding_4</th><th>user_embedding_5</th><th>user_embedding_6</th><th>user_embedding_7</th><th>user_embedding_8</th><th>user_embedding_9</th><th>user_embedding_10</th><th>user_embedding_11</th><th>user_embedding_12</th><th>user_embedding_13</th><th>user_embedding_14</th><th>user_embedding_15</th><th>user_embedding_16</th><th>user_embedding_17</th><th>user_embedding_18</th><th>user_embedding_19</th><th>user_embedding_20</th><th>user_embedding_21</th><th>user_embedding_22</th><th>user_embedding_23</th><th>user_embedding_24</th><th>user_embedding_25</th><th>user_embedding_26</th><th>user_embedding_27</th><th>user_embedding_28</th><th>user_embedding_29</th><th>user_embedding_30</th><th>user_embedding_31</th><th>user_embedding_32</th><th>user_embedding_33</th><th>user_embedding_34</th><th>user_embedding_35</th><th>user_embedding_36</th><th>user_embedding_37</th><th>user_embedding_38</th><th>user_embedding_39</th><th>user_embedding_40</th><th>user_embedding_41</th><th>user_embedding_42</th><th>user_embedding_43</th><th>user_embedding_44</th><th>user_embedding_45</th><th>user_embedding_46</th><th>user_embedding_47</th><th>user_embedding_48</th><th>user_embedding_49</th><th>user_embedding_50</th><th>user_embedding_51</th><th>user_embedding_52</th><th>user_embedding_53</th><th>user_embedding_54</th><th>user_embedding_55</th><th>user_embedding_56</th><th>user_embedding_57</th><th>user_embedding_58</th><th>user_embedding_59</th><th>user_embedding_60</th><th>user_embedding_61</th><th>user_embedding_62</th><th>user_embedding_63</th></tr><tr><td>u32</td><td>f32</td><td>f32</td><td>f32</td><td>f32</td><td>f32</td><td>f32</td><td>f32</td><td>f32</td><td>f32</td><td>f32</td><td>f32</td><td>f32</td><td>f32</td><td>f32</td><td>f32</td><td>f32</td><td>f32</td><td>f32</td><td>f32</td><td>f32</td><td>f32</td><td>f32</td><td>f32</td><td>f32</td><td>f32</td><td>f32</td><td>f32</td><td>f32</td><td>f32</td><td>f32</td><td>f32</td><td>f32</td><td>f32</td><td>f32</td><td>f32</td><td>f32</td><td>f32</td><td>f32</td><td>f32</td><td>f32</td><td>f32</td><td>f32</td><td>f32</td><td>f32</td><td>f32</td><td>f32</td><td>f32</td><td>f32</td><td>f32</td><td>f32</td><td>f32</td><td>f32</td><td>f32</td><td>f32</td><td>f32</td><td>f32</td><td>f32</td><td>f32</td><td>f32</td><td>f32</td><td>f32</td><td>f32</td><td>f32</td><td>f32</td></tr></thead><tbody><tr><td>0</td><td>1.0</td><td>0.999873</td><td>0.999965</td><td>-0.925864</td><td>-0.832986</td><td>0.97016</td><td>-0.935581</td><td>0.999996</td><td>-0.999901</td><td>0.999968</td><td>-0.441256</td><td>0.999989</td><td>-0.789612</td><td>0.999999</td><td>0.999977</td><td>0.999941</td><td>-0.999994</td><td>-0.999951</td><td>-0.999313</td><td>0.602215</td><td>-0.999608</td><td>-0.999913</td><td>-0.99695</td><td>1.0</td><td>-0.999959</td><td>0.920291</td><td>-0.9999</td><td>0.999965</td><td>0.999977</td><td>0.999954</td><td>-0.999992</td><td>-0.999728</td><td>0.999771</td><td>-0.99997</td><td>-0.973959</td><td>-0.99998</td><td>-0.999961</td><td>-0.999997</td><td>-0.999987</td><td>0.999825</td><td>-0.999978</td><td>-0.999271</td><td>0.999996</td><td>0.53861</td><td>1.0</td><td>0.999927</td><td>0.825415</td><td>0.084491</td><td>0.999998</td><td>0.508373</td><td>0.999949</td><td>-0.8903</td><td>-0.999646</td><td>0.644044</td><td>-0.9973</td><td>0.999645</td><td>-0.999996</td><td>0.999428</td><td>-0.952411</td><td>-0.999984</td><td>0.999956</td><td>0.940429</td><td>0.999929</td><td>-0.999914</td></tr><tr><td>1</td><td>1.0</td><td>0.999873</td><td>0.999965</td><td>-0.925864</td><td>-0.832986</td><td>0.97016</td><td>-0.935581</td><td>0.999996</td><td>-0.999901</td><td>0.999968</td><td>-0.441256</td><td>0.999989</td><td>-0.789612</td><td>0.999999</td><td>0.999977</td><td>0.999941</td><td>-0.999994</td><td>-0.999951</td><td>-0.999313</td><td>0.602215</td><td>-0.999608</td><td>-0.999913</td><td>-0.99695</td><td>1.0</td><td>-0.999959</td><td>0.920291</td><td>-0.9999</td><td>0.999965</td><td>0.999977</td><td>0.999954</td><td>-0.999992</td><td>-0.999728</td><td>0.999771</td><td>-0.99997</td><td>-0.973959</td><td>-0.99998</td><td>-0.999961</td><td>-0.999997</td><td>-0.999987</td><td>0.999825</td><td>-0.999978</td><td>-0.999271</td><td>0.999996</td><td>0.53861</td><td>1.0</td><td>0.999927</td><td>0.825415</td><td>0.084491</td><td>0.999998</td><td>0.508373</td><td>0.999949</td><td>-0.8903</td><td>-0.999646</td><td>0.644044</td><td>-0.9973</td><td>0.999645</td><td>-0.999996</td><td>0.999428</td><td>-0.952411</td><td>-0.999984</td><td>0.999956</td><td>0.940429</td><td>0.999929</td><td>-0.999914</td></tr><tr><td>2</td><td>1.0</td><td>0.999873</td><td>0.999965</td><td>-0.925864</td><td>-0.832986</td><td>0.97016</td><td>-0.935581</td><td>0.999996</td><td>-0.999901</td><td>0.999968</td><td>-0.441256</td><td>0.999989</td><td>-0.789612</td><td>0.999999</td><td>0.999977</td><td>0.999941</td><td>-0.999994</td><td>-0.999951</td><td>-0.999313</td><td>0.602215</td><td>-0.999608</td><td>-0.999913</td><td>-0.99695</td><td>1.0</td><td>-0.999959</td><td>0.920291</td><td>-0.9999</td><td>0.999965</td><td>0.999977</td><td>0.999954</td><td>-0.999992</td><td>-0.999728</td><td>0.999771</td><td>-0.99997</td><td>-0.973959</td><td>-0.99998</td><td>-0.999961</td><td>-0.999997</td><td>-0.999987</td><td>0.999825</td><td>-0.999978</td><td>-0.999271</td><td>0.999996</td><td>0.53861</td><td>1.0</td><td>0.999927</td><td>0.825415</td><td>0.084491</td><td>0.999998</td><td>0.508373</td><td>0.999949</td><td>-0.8903</td><td>-0.999646</td><td>0.644044</td><td>-0.9973</td><td>0.999645</td><td>-0.999996</td><td>0.999428</td><td>-0.952411</td><td>-0.999984</td><td>0.999956</td><td>0.940429</td><td>0.999929</td><td>-0.999914</td></tr></tbody></table></div>"
      ],
      "text/plain": [
       "shape: (3, 65)\n",
       "┌───────┬────────────┬────────────┬────────────┬───┬───────────┬───────────┬───────────┬───────────┐\n",
       "│ index ┆ user_embed ┆ user_embed ┆ user_embed ┆ … ┆ user_embe ┆ user_embe ┆ user_embe ┆ user_embe │\n",
       "│ ---   ┆ ding_0     ┆ ding_1     ┆ ding_2     ┆   ┆ dding_60  ┆ dding_61  ┆ dding_62  ┆ dding_63  │\n",
       "│ u32   ┆ ---        ┆ ---        ┆ ---        ┆   ┆ ---       ┆ ---       ┆ ---       ┆ ---       │\n",
       "│       ┆ f32        ┆ f32        ┆ f32        ┆   ┆ f32       ┆ f32       ┆ f32       ┆ f32       │\n",
       "╞═══════╪════════════╪════════════╪════════════╪═══╪═══════════╪═══════════╪═══════════╪═══════════╡\n",
       "│ 0     ┆ 1.0        ┆ 0.999873   ┆ 0.999965   ┆ … ┆ 0.999956  ┆ 0.940429  ┆ 0.999929  ┆ -0.999914 │\n",
       "│ 1     ┆ 1.0        ┆ 0.999873   ┆ 0.999965   ┆ … ┆ 0.999956  ┆ 0.940429  ┆ 0.999929  ┆ -0.999914 │\n",
       "│ 2     ┆ 1.0        ┆ 0.999873   ┆ 0.999965   ┆ … ┆ 0.999956  ┆ 0.940429  ┆ 0.999929  ┆ -0.999914 │\n",
       "└───────┴────────────┴────────────┴────────────┴───┴───────────┴───────────┴───────────┴───────────┘"
      ]
     },
     "execution_count": 28,
     "metadata": {},
     "output_type": "execute_result"
    }
   ],
   "source": [
    "user_embeddings_train = history_seq_trucated.select('user_id').hstack(pl.DataFrame(state_embeddings, schema=[f'user_embedding_{i}' for i in range(sequence_embeddings.shape[1])]))\\\n",
    "    .rename({'user_id': 'index'})\n",
    "user_embeddings_train.head(3)"
   ]
  },
  {
   "cell_type": "code",
   "execution_count": 34,
   "metadata": {},
   "outputs": [],
   "source": [
    "history_f = history_f.select('index', 'impression_id', 'user_id', 'article').join(user_embeddings_train, on='index', how='left').drop('index')"
   ]
  },
  {
   "cell_type": "code",
   "execution_count": 35,
   "metadata": {},
   "outputs": [
    {
     "data": {
      "text/html": [
       "<div><style>\n",
       ".dataframe > thead > tr,\n",
       ".dataframe > tbody > tr {\n",
       "  text-align: right;\n",
       "  white-space: pre-wrap;\n",
       "}\n",
       "</style>\n",
       "<small>shape: (100, 67)</small><table border=\"1\" class=\"dataframe\"><thead><tr><th>impression_id</th><th>user_id</th><th>article</th><th>user_embedding_0</th><th>user_embedding_1</th><th>user_embedding_2</th><th>user_embedding_3</th><th>user_embedding_4</th><th>user_embedding_5</th><th>user_embedding_6</th><th>user_embedding_7</th><th>user_embedding_8</th><th>user_embedding_9</th><th>user_embedding_10</th><th>user_embedding_11</th><th>user_embedding_12</th><th>user_embedding_13</th><th>user_embedding_14</th><th>user_embedding_15</th><th>user_embedding_16</th><th>user_embedding_17</th><th>user_embedding_18</th><th>user_embedding_19</th><th>user_embedding_20</th><th>user_embedding_21</th><th>user_embedding_22</th><th>user_embedding_23</th><th>user_embedding_24</th><th>user_embedding_25</th><th>user_embedding_26</th><th>user_embedding_27</th><th>user_embedding_28</th><th>user_embedding_29</th><th>user_embedding_30</th><th>user_embedding_31</th><th>user_embedding_32</th><th>user_embedding_33</th><th>user_embedding_34</th><th>user_embedding_35</th><th>user_embedding_36</th><th>user_embedding_37</th><th>user_embedding_38</th><th>user_embedding_39</th><th>user_embedding_40</th><th>user_embedding_41</th><th>user_embedding_42</th><th>user_embedding_43</th><th>user_embedding_44</th><th>user_embedding_45</th><th>user_embedding_46</th><th>user_embedding_47</th><th>user_embedding_48</th><th>user_embedding_49</th><th>user_embedding_50</th><th>user_embedding_51</th><th>user_embedding_52</th><th>user_embedding_53</th><th>user_embedding_54</th><th>user_embedding_55</th><th>user_embedding_56</th><th>user_embedding_57</th><th>user_embedding_58</th><th>user_embedding_59</th><th>user_embedding_60</th><th>user_embedding_61</th><th>user_embedding_62</th><th>user_embedding_63</th></tr><tr><td>u32</td><td>u32</td><td>i32</td><td>f32</td><td>f32</td><td>f32</td><td>f32</td><td>f32</td><td>f32</td><td>f32</td><td>f32</td><td>f32</td><td>f32</td><td>f32</td><td>f32</td><td>f32</td><td>f32</td><td>f32</td><td>f32</td><td>f32</td><td>f32</td><td>f32</td><td>f32</td><td>f32</td><td>f32</td><td>f32</td><td>f32</td><td>f32</td><td>f32</td><td>f32</td><td>f32</td><td>f32</td><td>f32</td><td>f32</td><td>f32</td><td>f32</td><td>f32</td><td>f32</td><td>f32</td><td>f32</td><td>f32</td><td>f32</td><td>f32</td><td>f32</td><td>f32</td><td>f32</td><td>f32</td><td>f32</td><td>f32</td><td>f32</td><td>f32</td><td>f32</td><td>f32</td><td>f32</td><td>f32</td><td>f32</td><td>f32</td><td>f32</td><td>f32</td><td>f32</td><td>f32</td><td>f32</td><td>f32</td><td>f32</td><td>f32</td><td>f32</td><td>f32</td></tr></thead><tbody><tr><td>149474</td><td>139836</td><td>9778728</td><td>1.0</td><td>0.999873</td><td>0.999965</td><td>-0.925864</td><td>-0.832986</td><td>0.97016</td><td>-0.935581</td><td>0.999996</td><td>-0.999901</td><td>0.999968</td><td>-0.441256</td><td>0.999989</td><td>-0.789612</td><td>0.999999</td><td>0.999977</td><td>0.999941</td><td>-0.999994</td><td>-0.999951</td><td>-0.999313</td><td>0.602215</td><td>-0.999608</td><td>-0.999913</td><td>-0.99695</td><td>1.0</td><td>-0.999959</td><td>0.920291</td><td>-0.9999</td><td>0.999965</td><td>0.999977</td><td>0.999954</td><td>-0.999992</td><td>-0.999728</td><td>0.999771</td><td>-0.99997</td><td>-0.973959</td><td>-0.99998</td><td>-0.999961</td><td>-0.999997</td><td>-0.999987</td><td>0.999825</td><td>-0.999978</td><td>-0.999271</td><td>0.999996</td><td>0.53861</td><td>1.0</td><td>0.999927</td><td>0.825415</td><td>0.084491</td><td>0.999998</td><td>0.508373</td><td>0.999949</td><td>-0.8903</td><td>-0.999646</td><td>0.644044</td><td>-0.9973</td><td>0.999645</td><td>-0.999996</td><td>0.999428</td><td>-0.952411</td><td>-0.999984</td><td>0.999956</td><td>0.940429</td><td>0.999929</td><td>-0.999914</td></tr><tr><td>149474</td><td>139836</td><td>9778669</td><td>1.0</td><td>0.999873</td><td>0.999965</td><td>-0.925864</td><td>-0.832986</td><td>0.97016</td><td>-0.935581</td><td>0.999996</td><td>-0.999901</td><td>0.999968</td><td>-0.441256</td><td>0.999989</td><td>-0.789612</td><td>0.999999</td><td>0.999977</td><td>0.999941</td><td>-0.999994</td><td>-0.999951</td><td>-0.999313</td><td>0.602215</td><td>-0.999608</td><td>-0.999913</td><td>-0.99695</td><td>1.0</td><td>-0.999959</td><td>0.920291</td><td>-0.9999</td><td>0.999965</td><td>0.999977</td><td>0.999954</td><td>-0.999992</td><td>-0.999728</td><td>0.999771</td><td>-0.99997</td><td>-0.973959</td><td>-0.99998</td><td>-0.999961</td><td>-0.999997</td><td>-0.999987</td><td>0.999825</td><td>-0.999978</td><td>-0.999271</td><td>0.999996</td><td>0.53861</td><td>1.0</td><td>0.999927</td><td>0.825415</td><td>0.084491</td><td>0.999998</td><td>0.508373</td><td>0.999949</td><td>-0.8903</td><td>-0.999646</td><td>0.644044</td><td>-0.9973</td><td>0.999645</td><td>-0.999996</td><td>0.999428</td><td>-0.952411</td><td>-0.999984</td><td>0.999956</td><td>0.940429</td><td>0.999929</td><td>-0.999914</td></tr><tr><td>149474</td><td>139836</td><td>9778657</td><td>1.0</td><td>0.999873</td><td>0.999965</td><td>-0.925864</td><td>-0.832986</td><td>0.97016</td><td>-0.935581</td><td>0.999996</td><td>-0.999901</td><td>0.999968</td><td>-0.441256</td><td>0.999989</td><td>-0.789612</td><td>0.999999</td><td>0.999977</td><td>0.999941</td><td>-0.999994</td><td>-0.999951</td><td>-0.999313</td><td>0.602215</td><td>-0.999608</td><td>-0.999913</td><td>-0.99695</td><td>1.0</td><td>-0.999959</td><td>0.920291</td><td>-0.9999</td><td>0.999965</td><td>0.999977</td><td>0.999954</td><td>-0.999992</td><td>-0.999728</td><td>0.999771</td><td>-0.99997</td><td>-0.973959</td><td>-0.99998</td><td>-0.999961</td><td>-0.999997</td><td>-0.999987</td><td>0.999825</td><td>-0.999978</td><td>-0.999271</td><td>0.999996</td><td>0.53861</td><td>1.0</td><td>0.999927</td><td>0.825415</td><td>0.084491</td><td>0.999998</td><td>0.508373</td><td>0.999949</td><td>-0.8903</td><td>-0.999646</td><td>0.644044</td><td>-0.9973</td><td>0.999645</td><td>-0.999996</td><td>0.999428</td><td>-0.952411</td><td>-0.999984</td><td>0.999956</td><td>0.940429</td><td>0.999929</td><td>-0.999914</td></tr><tr><td>150528</td><td>143471</td><td>9778682</td><td>1.0</td><td>0.999873</td><td>0.999965</td><td>-0.925864</td><td>-0.832986</td><td>0.97016</td><td>-0.935581</td><td>0.999996</td><td>-0.999901</td><td>0.999968</td><td>-0.441256</td><td>0.999989</td><td>-0.789612</td><td>0.999999</td><td>0.999977</td><td>0.999941</td><td>-0.999994</td><td>-0.999951</td><td>-0.999313</td><td>0.602215</td><td>-0.999608</td><td>-0.999913</td><td>-0.99695</td><td>1.0</td><td>-0.999959</td><td>0.920291</td><td>-0.9999</td><td>0.999965</td><td>0.999977</td><td>0.999954</td><td>-0.999992</td><td>-0.999728</td><td>0.999771</td><td>-0.99997</td><td>-0.973959</td><td>-0.99998</td><td>-0.999961</td><td>-0.999997</td><td>-0.999987</td><td>0.999825</td><td>-0.999978</td><td>-0.999271</td><td>0.999996</td><td>0.53861</td><td>1.0</td><td>0.999927</td><td>0.825415</td><td>0.084491</td><td>0.999998</td><td>0.508373</td><td>0.999949</td><td>-0.8903</td><td>-0.999646</td><td>0.644044</td><td>-0.9973</td><td>0.999645</td><td>-0.999996</td><td>0.999428</td><td>-0.952411</td><td>-0.999984</td><td>0.999956</td><td>0.940429</td><td>0.999929</td><td>-0.999914</td></tr><tr><td>150528</td><td>143471</td><td>9778669</td><td>1.0</td><td>0.999873</td><td>0.999965</td><td>-0.925864</td><td>-0.832986</td><td>0.97016</td><td>-0.935581</td><td>0.999996</td><td>-0.999901</td><td>0.999968</td><td>-0.441256</td><td>0.999989</td><td>-0.789612</td><td>0.999999</td><td>0.999977</td><td>0.999941</td><td>-0.999994</td><td>-0.999951</td><td>-0.999313</td><td>0.602215</td><td>-0.999608</td><td>-0.999913</td><td>-0.99695</td><td>1.0</td><td>-0.999959</td><td>0.920291</td><td>-0.9999</td><td>0.999965</td><td>0.999977</td><td>0.999954</td><td>-0.999992</td><td>-0.999728</td><td>0.999771</td><td>-0.99997</td><td>-0.973959</td><td>-0.99998</td><td>-0.999961</td><td>-0.999997</td><td>-0.999987</td><td>0.999825</td><td>-0.999978</td><td>-0.999271</td><td>0.999996</td><td>0.53861</td><td>1.0</td><td>0.999927</td><td>0.825415</td><td>0.084491</td><td>0.999998</td><td>0.508373</td><td>0.999949</td><td>-0.8903</td><td>-0.999646</td><td>0.644044</td><td>-0.9973</td><td>0.999645</td><td>-0.999996</td><td>0.999428</td><td>-0.952411</td><td>-0.999984</td><td>0.999956</td><td>0.940429</td><td>0.999929</td><td>-0.999914</td></tr><tr><td>&hellip;</td><td>&hellip;</td><td>&hellip;</td><td>&hellip;</td><td>&hellip;</td><td>&hellip;</td><td>&hellip;</td><td>&hellip;</td><td>&hellip;</td><td>&hellip;</td><td>&hellip;</td><td>&hellip;</td><td>&hellip;</td><td>&hellip;</td><td>&hellip;</td><td>&hellip;</td><td>&hellip;</td><td>&hellip;</td><td>&hellip;</td><td>&hellip;</td><td>&hellip;</td><td>&hellip;</td><td>&hellip;</td><td>&hellip;</td><td>&hellip;</td><td>&hellip;</td><td>&hellip;</td><td>&hellip;</td><td>&hellip;</td><td>&hellip;</td><td>&hellip;</td><td>&hellip;</td><td>&hellip;</td><td>&hellip;</td><td>&hellip;</td><td>&hellip;</td><td>&hellip;</td><td>&hellip;</td><td>&hellip;</td><td>&hellip;</td><td>&hellip;</td><td>&hellip;</td><td>&hellip;</td><td>&hellip;</td><td>&hellip;</td><td>&hellip;</td><td>&hellip;</td><td>&hellip;</td><td>&hellip;</td><td>&hellip;</td><td>&hellip;</td><td>&hellip;</td><td>&hellip;</td><td>&hellip;</td><td>&hellip;</td><td>&hellip;</td><td>&hellip;</td><td>&hellip;</td><td>&hellip;</td><td>&hellip;</td><td>&hellip;</td><td>&hellip;</td><td>&hellip;</td><td>&hellip;</td><td>&hellip;</td><td>&hellip;</td><td>&hellip;</td></tr><tr><td>163881</td><td>545277</td><td>9776047</td><td>1.0</td><td>0.999873</td><td>0.999965</td><td>-0.925864</td><td>-0.832986</td><td>0.97016</td><td>-0.935581</td><td>0.999996</td><td>-0.999901</td><td>0.999968</td><td>-0.441256</td><td>0.999989</td><td>-0.789612</td><td>0.999999</td><td>0.999977</td><td>0.999941</td><td>-0.999994</td><td>-0.999951</td><td>-0.999313</td><td>0.602215</td><td>-0.999608</td><td>-0.999913</td><td>-0.99695</td><td>1.0</td><td>-0.999959</td><td>0.920291</td><td>-0.9999</td><td>0.999965</td><td>0.999977</td><td>0.999954</td><td>-0.999992</td><td>-0.999728</td><td>0.999771</td><td>-0.99997</td><td>-0.973959</td><td>-0.99998</td><td>-0.999961</td><td>-0.999997</td><td>-0.999987</td><td>0.999825</td><td>-0.999978</td><td>-0.999271</td><td>0.999996</td><td>0.53861</td><td>1.0</td><td>0.999927</td><td>0.825415</td><td>0.084491</td><td>0.999998</td><td>0.508373</td><td>0.999949</td><td>-0.8903</td><td>-0.999646</td><td>0.644044</td><td>-0.9973</td><td>0.999645</td><td>-0.999996</td><td>0.999428</td><td>-0.952411</td><td>-0.999984</td><td>0.999956</td><td>0.940429</td><td>0.999929</td><td>-0.999914</td></tr><tr><td>164059</td><td>545856</td><td>9773392</td><td>1.0</td><td>0.999873</td><td>0.999965</td><td>-0.925864</td><td>-0.832986</td><td>0.97016</td><td>-0.935581</td><td>0.999996</td><td>-0.999901</td><td>0.999968</td><td>-0.441256</td><td>0.999989</td><td>-0.789612</td><td>0.999999</td><td>0.999977</td><td>0.999941</td><td>-0.999994</td><td>-0.999951</td><td>-0.999313</td><td>0.602215</td><td>-0.999608</td><td>-0.999913</td><td>-0.99695</td><td>1.0</td><td>-0.999959</td><td>0.920291</td><td>-0.9999</td><td>0.999965</td><td>0.999977</td><td>0.999954</td><td>-0.999992</td><td>-0.999728</td><td>0.999771</td><td>-0.99997</td><td>-0.973959</td><td>-0.99998</td><td>-0.999961</td><td>-0.999997</td><td>-0.999987</td><td>0.999825</td><td>-0.999978</td><td>-0.999271</td><td>0.999996</td><td>0.53861</td><td>1.0</td><td>0.999927</td><td>0.825415</td><td>0.084491</td><td>0.999998</td><td>0.508373</td><td>0.999949</td><td>-0.8903</td><td>-0.999646</td><td>0.644044</td><td>-0.9973</td><td>0.999645</td><td>-0.999996</td><td>0.999428</td><td>-0.952411</td><td>-0.999984</td><td>0.999956</td><td>0.940429</td><td>0.999929</td><td>-0.999914</td></tr><tr><td>164059</td><td>545856</td><td>9776442</td><td>1.0</td><td>0.999873</td><td>0.999965</td><td>-0.925864</td><td>-0.832986</td><td>0.97016</td><td>-0.935581</td><td>0.999996</td><td>-0.999901</td><td>0.999968</td><td>-0.441256</td><td>0.999989</td><td>-0.789612</td><td>0.999999</td><td>0.999977</td><td>0.999941</td><td>-0.999994</td><td>-0.999951</td><td>-0.999313</td><td>0.602215</td><td>-0.999608</td><td>-0.999913</td><td>-0.99695</td><td>1.0</td><td>-0.999959</td><td>0.920291</td><td>-0.9999</td><td>0.999965</td><td>0.999977</td><td>0.999954</td><td>-0.999992</td><td>-0.999728</td><td>0.999771</td><td>-0.99997</td><td>-0.973959</td><td>-0.99998</td><td>-0.999961</td><td>-0.999997</td><td>-0.999987</td><td>0.999825</td><td>-0.999978</td><td>-0.999271</td><td>0.999996</td><td>0.53861</td><td>1.0</td><td>0.999927</td><td>0.825415</td><td>0.084491</td><td>0.999998</td><td>0.508373</td><td>0.999949</td><td>-0.8903</td><td>-0.999646</td><td>0.644044</td><td>-0.9973</td><td>0.999645</td><td>-0.999996</td><td>0.999428</td><td>-0.952411</td><td>-0.999984</td><td>0.999956</td><td>0.940429</td><td>0.999929</td><td>-0.999914</td></tr><tr><td>164059</td><td>545856</td><td>9776190</td><td>1.0</td><td>0.999873</td><td>0.999965</td><td>-0.925864</td><td>-0.832986</td><td>0.97016</td><td>-0.935581</td><td>0.999996</td><td>-0.999901</td><td>0.999968</td><td>-0.441256</td><td>0.999989</td><td>-0.789612</td><td>0.999999</td><td>0.999977</td><td>0.999941</td><td>-0.999994</td><td>-0.999951</td><td>-0.999313</td><td>0.602215</td><td>-0.999608</td><td>-0.999913</td><td>-0.99695</td><td>1.0</td><td>-0.999959</td><td>0.920291</td><td>-0.9999</td><td>0.999965</td><td>0.999977</td><td>0.999954</td><td>-0.999992</td><td>-0.999728</td><td>0.999771</td><td>-0.99997</td><td>-0.973959</td><td>-0.99998</td><td>-0.999961</td><td>-0.999997</td><td>-0.999987</td><td>0.999825</td><td>-0.999978</td><td>-0.999271</td><td>0.999996</td><td>0.53861</td><td>1.0</td><td>0.999927</td><td>0.825415</td><td>0.084491</td><td>0.999998</td><td>0.508373</td><td>0.999949</td><td>-0.8903</td><td>-0.999646</td><td>0.644044</td><td>-0.9973</td><td>0.999645</td><td>-0.999996</td><td>0.999428</td><td>-0.952411</td><td>-0.999984</td><td>0.999956</td><td>0.940429</td><td>0.999929</td><td>-0.999914</td></tr><tr><td>164259</td><td>546724</td><td>9769605</td><td>1.0</td><td>0.999873</td><td>0.999965</td><td>-0.925864</td><td>-0.832986</td><td>0.97016</td><td>-0.935581</td><td>0.999996</td><td>-0.999901</td><td>0.999968</td><td>-0.441256</td><td>0.999989</td><td>-0.789612</td><td>0.999999</td><td>0.999977</td><td>0.999941</td><td>-0.999994</td><td>-0.999951</td><td>-0.999313</td><td>0.602215</td><td>-0.999608</td><td>-0.999913</td><td>-0.99695</td><td>1.0</td><td>-0.999959</td><td>0.920291</td><td>-0.9999</td><td>0.999965</td><td>0.999977</td><td>0.999954</td><td>-0.999992</td><td>-0.999728</td><td>0.999771</td><td>-0.99997</td><td>-0.973959</td><td>-0.99998</td><td>-0.999961</td><td>-0.999997</td><td>-0.999987</td><td>0.999825</td><td>-0.999978</td><td>-0.999271</td><td>0.999996</td><td>0.53861</td><td>1.0</td><td>0.999927</td><td>0.825415</td><td>0.084491</td><td>0.999998</td><td>0.508373</td><td>0.999949</td><td>-0.8903</td><td>-0.999646</td><td>0.644044</td><td>-0.9973</td><td>0.999645</td><td>-0.999996</td><td>0.999428</td><td>-0.952411</td><td>-0.999984</td><td>0.999956</td><td>0.940429</td><td>0.999929</td><td>-0.999914</td></tr></tbody></table></div>"
      ],
      "text/plain": [
       "shape: (100, 67)\n",
       "┌────────────┬─────────┬─────────┬────────────┬───┬────────────┬───────────┬───────────┬───────────┐\n",
       "│ impression ┆ user_id ┆ article ┆ user_embed ┆ … ┆ user_embed ┆ user_embe ┆ user_embe ┆ user_embe │\n",
       "│ _id        ┆ ---     ┆ ---     ┆ ding_0     ┆   ┆ ding_60    ┆ dding_61  ┆ dding_62  ┆ dding_63  │\n",
       "│ ---        ┆ u32     ┆ i32     ┆ ---        ┆   ┆ ---        ┆ ---       ┆ ---       ┆ ---       │\n",
       "│ u32        ┆         ┆         ┆ f32        ┆   ┆ f32        ┆ f32       ┆ f32       ┆ f32       │\n",
       "╞════════════╪═════════╪═════════╪════════════╪═══╪════════════╪═══════════╪═══════════╪═══════════╡\n",
       "│ 149474     ┆ 139836  ┆ 9778728 ┆ 1.0        ┆ … ┆ 0.999956   ┆ 0.940429  ┆ 0.999929  ┆ -0.999914 │\n",
       "│ 149474     ┆ 139836  ┆ 9778669 ┆ 1.0        ┆ … ┆ 0.999956   ┆ 0.940429  ┆ 0.999929  ┆ -0.999914 │\n",
       "│ 149474     ┆ 139836  ┆ 9778657 ┆ 1.0        ┆ … ┆ 0.999956   ┆ 0.940429  ┆ 0.999929  ┆ -0.999914 │\n",
       "│ 150528     ┆ 143471  ┆ 9778682 ┆ 1.0        ┆ … ┆ 0.999956   ┆ 0.940429  ┆ 0.999929  ┆ -0.999914 │\n",
       "│ 150528     ┆ 143471  ┆ 9778669 ┆ 1.0        ┆ … ┆ 0.999956   ┆ 0.940429  ┆ 0.999929  ┆ -0.999914 │\n",
       "│ …          ┆ …       ┆ …       ┆ …          ┆ … ┆ …          ┆ …         ┆ …         ┆ …         │\n",
       "│ 163881     ┆ 545277  ┆ 9776047 ┆ 1.0        ┆ … ┆ 0.999956   ┆ 0.940429  ┆ 0.999929  ┆ -0.999914 │\n",
       "│ 164059     ┆ 545856  ┆ 9773392 ┆ 1.0        ┆ … ┆ 0.999956   ┆ 0.940429  ┆ 0.999929  ┆ -0.999914 │\n",
       "│ 164059     ┆ 545856  ┆ 9776442 ┆ 1.0        ┆ … ┆ 0.999956   ┆ 0.940429  ┆ 0.999929  ┆ -0.999914 │\n",
       "│ 164059     ┆ 545856  ┆ 9776190 ┆ 1.0        ┆ … ┆ 0.999956   ┆ 0.940429  ┆ 0.999929  ┆ -0.999914 │\n",
       "│ 164259     ┆ 546724  ┆ 9769605 ┆ 1.0        ┆ … ┆ 0.999956   ┆ 0.940429  ┆ 0.999929  ┆ -0.999914 │\n",
       "└────────────┴─────────┴─────────┴────────────┴───┴────────────┴───────────┴───────────┴───────────┘"
      ]
     },
     "execution_count": 35,
     "metadata": {},
     "output_type": "execute_result"
    }
   ],
   "source": [
    "history_f"
   ]
  },
  {
   "cell_type": "code",
   "execution_count": 36,
   "metadata": {},
   "outputs": [
    {
     "data": {
      "text/html": [
       "<div><style>\n",
       ".dataframe > thead > tr,\n",
       ".dataframe > tbody > tr {\n",
       "  text-align: right;\n",
       "  white-space: pre-wrap;\n",
       "}\n",
       "</style>\n",
       "<small>shape: (702_831, 448)</small><table border=\"1\" class=\"dataframe\"><thead><tr><th>impression_id</th><th>user_id</th><th>article</th><th>target</th><th>device_type</th><th>read_time</th><th>scroll_percentage</th><th>is_sso_user</th><th>gender</th><th>age</th><th>is_subscriber</th><th>postcode</th><th>trendiness_score_1d</th><th>trendiness_score_3d</th><th>trendiness_score_5d</th><th>trendiness_score_3d_leak</th><th>weekday</th><th>hour</th><th>trendiness_score_1d/3d</th><th>trendiness_score_1d/5d</th><th>normalized_trendiness_score_overall</th><th>premium</th><th>category</th><th>sentiment_score</th><th>sentiment_label</th><th>num_images</th><th>title_len</th><th>subtitle_len</th><th>body_len</th><th>num_topics</th><th>total_pageviews</th><th>total_inviews</th><th>total_read_time</th><th>total_pageviews/inviews</th><th>article_type</th><th>article_delay_days</th><th>article_delay_hours</th><th>&hellip;</th><th>user_embedding_27</th><th>user_embedding_28</th><th>user_embedding_29</th><th>user_embedding_30</th><th>user_embedding_31</th><th>user_embedding_32</th><th>user_embedding_33</th><th>user_embedding_34</th><th>user_embedding_35</th><th>user_embedding_36</th><th>user_embedding_37</th><th>user_embedding_38</th><th>user_embedding_39</th><th>user_embedding_40</th><th>user_embedding_41</th><th>user_embedding_42</th><th>user_embedding_43</th><th>user_embedding_44</th><th>user_embedding_45</th><th>user_embedding_46</th><th>user_embedding_47</th><th>user_embedding_48</th><th>user_embedding_49</th><th>user_embedding_50</th><th>user_embedding_51</th><th>user_embedding_52</th><th>user_embedding_53</th><th>user_embedding_54</th><th>user_embedding_55</th><th>user_embedding_56</th><th>user_embedding_57</th><th>user_embedding_58</th><th>user_embedding_59</th><th>user_embedding_60</th><th>user_embedding_61</th><th>user_embedding_62</th><th>user_embedding_63</th></tr><tr><td>u32</td><td>u32</td><td>i32</td><td>i8</td><td>i8</td><td>f32</td><td>f32</td><td>bool</td><td>i8</td><td>i8</td><td>bool</td><td>i8</td><td>i16</td><td>i16</td><td>i16</td><td>i16</td><td>i8</td><td>i8</td><td>f32</td><td>f32</td><td>f32</td><td>bool</td><td>i16</td><td>f32</td><td>str</td><td>u32</td><td>u8</td><td>u8</td><td>u16</td><td>u32</td><td>i32</td><td>i32</td><td>f32</td><td>f32</td><td>str</td><td>i16</td><td>i32</td><td>&hellip;</td><td>f32</td><td>f32</td><td>f32</td><td>f32</td><td>f32</td><td>f32</td><td>f32</td><td>f32</td><td>f32</td><td>f32</td><td>f32</td><td>f32</td><td>f32</td><td>f32</td><td>f32</td><td>f32</td><td>f32</td><td>f32</td><td>f32</td><td>f32</td><td>f32</td><td>f32</td><td>f32</td><td>f32</td><td>f32</td><td>f32</td><td>f32</td><td>f32</td><td>f32</td><td>f32</td><td>f32</td><td>f32</td><td>f32</td><td>f32</td><td>f32</td><td>f32</td><td>f32</td></tr></thead><tbody><tr><td>149474</td><td>139836</td><td>9778728</td><td>0</td><td>2</td><td>13.0</td><td>null</td><td>false</td><td>2</td><td>null</td><td>false</td><td>5</td><td>150</td><td>521</td><td>836</td><td>419</td><td>3</td><td>7</td><td>0.287908</td><td>0.179426</td><td>0.880068</td><td>false</td><td>142</td><td>0.9654</td><td>&quot;Negative&quot;</td><td>1</td><td>5</td><td>18</td><td>251</td><td>7</td><td>22415</td><td>220247</td><td>1.004828e6</td><td>0.101772</td><td>&quot;article_default&quot;</td><td>0</td><td>0</td><td>&hellip;</td><td>0.999965</td><td>0.999977</td><td>0.999954</td><td>-0.999992</td><td>-0.999728</td><td>0.999771</td><td>-0.99997</td><td>-0.973959</td><td>-0.99998</td><td>-0.999961</td><td>-0.999997</td><td>-0.999987</td><td>0.999825</td><td>-0.999978</td><td>-0.999271</td><td>0.999996</td><td>0.53861</td><td>1.0</td><td>0.999927</td><td>0.825415</td><td>0.084491</td><td>0.999998</td><td>0.508373</td><td>0.999949</td><td>-0.8903</td><td>-0.999646</td><td>0.644044</td><td>-0.9973</td><td>0.999645</td><td>-0.999996</td><td>0.999428</td><td>-0.952411</td><td>-0.999984</td><td>0.999956</td><td>0.940429</td><td>0.999929</td><td>-0.999914</td></tr><tr><td>149474</td><td>139836</td><td>9778669</td><td>0</td><td>2</td><td>13.0</td><td>null</td><td>false</td><td>2</td><td>null</td><td>false</td><td>5</td><td>85</td><td>199</td><td>313</td><td>266</td><td>3</td><td>7</td><td>0.427136</td><td>0.271565</td><td>0.336149</td><td>false</td><td>118</td><td>0.9481</td><td>&quot;Negative&quot;</td><td>1</td><td>5</td><td>11</td><td>150</td><td>4</td><td>74491</td><td>373488</td><td>4.365609e6</td><td>0.199447</td><td>&quot;article_default&quot;</td><td>0</td><td>1</td><td>&hellip;</td><td>0.999965</td><td>0.999977</td><td>0.999954</td><td>-0.999992</td><td>-0.999728</td><td>0.999771</td><td>-0.99997</td><td>-0.973959</td><td>-0.99998</td><td>-0.999961</td><td>-0.999997</td><td>-0.999987</td><td>0.999825</td><td>-0.999978</td><td>-0.999271</td><td>0.999996</td><td>0.53861</td><td>1.0</td><td>0.999927</td><td>0.825415</td><td>0.084491</td><td>0.999998</td><td>0.508373</td><td>0.999949</td><td>-0.8903</td><td>-0.999646</td><td>0.644044</td><td>-0.9973</td><td>0.999645</td><td>-0.999996</td><td>0.999428</td><td>-0.952411</td><td>-0.999984</td><td>0.999956</td><td>0.940429</td><td>0.999929</td><td>-0.999914</td></tr><tr><td>149474</td><td>139836</td><td>9778657</td><td>1</td><td>2</td><td>13.0</td><td>null</td><td>false</td><td>2</td><td>null</td><td>false</td><td>5</td><td>45</td><td>117</td><td>183</td><td>138</td><td>3</td><td>7</td><td>0.384615</td><td>0.245902</td><td>0.197635</td><td>false</td><td>118</td><td>0.8347</td><td>&quot;Neutral&quot;</td><td>2</td><td>6</td><td>31</td><td>336</td><td>3</td><td>108389</td><td>478098</td><td>7.606737e6</td><td>0.226709</td><td>&quot;article_default&quot;</td><td>0</td><td>1</td><td>&hellip;</td><td>0.999965</td><td>0.999977</td><td>0.999954</td><td>-0.999992</td><td>-0.999728</td><td>0.999771</td><td>-0.99997</td><td>-0.973959</td><td>-0.99998</td><td>-0.999961</td><td>-0.999997</td><td>-0.999987</td><td>0.999825</td><td>-0.999978</td><td>-0.999271</td><td>0.999996</td><td>0.53861</td><td>1.0</td><td>0.999927</td><td>0.825415</td><td>0.084491</td><td>0.999998</td><td>0.508373</td><td>0.999949</td><td>-0.8903</td><td>-0.999646</td><td>0.644044</td><td>-0.9973</td><td>0.999645</td><td>-0.999996</td><td>0.999428</td><td>-0.952411</td><td>-0.999984</td><td>0.999956</td><td>0.940429</td><td>0.999929</td><td>-0.999914</td></tr><tr><td>150528</td><td>143471</td><td>9778682</td><td>0</td><td>2</td><td>25.0</td><td>null</td><td>false</td><td>2</td><td>null</td><td>false</td><td>5</td><td>69</td><td>206</td><td>334</td><td>201</td><td>3</td><td>7</td><td>0.334951</td><td>0.206587</td><td>0.347973</td><td>false</td><td>498</td><td>0.9546</td><td>&quot;Negative&quot;</td><td>1</td><td>5</td><td>20</td><td>267</td><td>3</td><td>143520</td><td>455723</td><td>9.298546e6</td><td>0.314928</td><td>&quot;article_default&quot;</td><td>0</td><td>1</td><td>&hellip;</td><td>0.999965</td><td>0.999977</td><td>0.999954</td><td>-0.999992</td><td>-0.999728</td><td>0.999771</td><td>-0.99997</td><td>-0.973959</td><td>-0.99998</td><td>-0.999961</td><td>-0.999997</td><td>-0.999987</td><td>0.999825</td><td>-0.999978</td><td>-0.999271</td><td>0.999996</td><td>0.53861</td><td>1.0</td><td>0.999927</td><td>0.825415</td><td>0.084491</td><td>0.999998</td><td>0.508373</td><td>0.999949</td><td>-0.8903</td><td>-0.999646</td><td>0.644044</td><td>-0.9973</td><td>0.999645</td><td>-0.999996</td><td>0.999428</td><td>-0.952411</td><td>-0.999984</td><td>0.999956</td><td>0.940429</td><td>0.999929</td><td>-0.999914</td></tr><tr><td>150528</td><td>143471</td><td>9778669</td><td>0</td><td>2</td><td>25.0</td><td>null</td><td>false</td><td>2</td><td>null</td><td>false</td><td>5</td><td>85</td><td>199</td><td>313</td><td>266</td><td>3</td><td>7</td><td>0.427136</td><td>0.271565</td><td>0.336149</td><td>false</td><td>118</td><td>0.9481</td><td>&quot;Negative&quot;</td><td>1</td><td>5</td><td>11</td><td>150</td><td>4</td><td>74491</td><td>373488</td><td>4.365609e6</td><td>0.199447</td><td>&quot;article_default&quot;</td><td>0</td><td>1</td><td>&hellip;</td><td>0.999965</td><td>0.999977</td><td>0.999954</td><td>-0.999992</td><td>-0.999728</td><td>0.999771</td><td>-0.99997</td><td>-0.973959</td><td>-0.99998</td><td>-0.999961</td><td>-0.999997</td><td>-0.999987</td><td>0.999825</td><td>-0.999978</td><td>-0.999271</td><td>0.999996</td><td>0.53861</td><td>1.0</td><td>0.999927</td><td>0.825415</td><td>0.084491</td><td>0.999998</td><td>0.508373</td><td>0.999949</td><td>-0.8903</td><td>-0.999646</td><td>0.644044</td><td>-0.9973</td><td>0.999645</td><td>-0.999996</td><td>0.999428</td><td>-0.952411</td><td>-0.999984</td><td>0.999956</td><td>0.940429</td><td>0.999929</td><td>-0.999914</td></tr><tr><td>&hellip;</td><td>&hellip;</td><td>&hellip;</td><td>&hellip;</td><td>&hellip;</td><td>&hellip;</td><td>&hellip;</td><td>&hellip;</td><td>&hellip;</td><td>&hellip;</td><td>&hellip;</td><td>&hellip;</td><td>&hellip;</td><td>&hellip;</td><td>&hellip;</td><td>&hellip;</td><td>&hellip;</td><td>&hellip;</td><td>&hellip;</td><td>&hellip;</td><td>&hellip;</td><td>&hellip;</td><td>&hellip;</td><td>&hellip;</td><td>&hellip;</td><td>&hellip;</td><td>&hellip;</td><td>&hellip;</td><td>&hellip;</td><td>&hellip;</td><td>&hellip;</td><td>&hellip;</td><td>&hellip;</td><td>&hellip;</td><td>&hellip;</td><td>&hellip;</td><td>&hellip;</td><td>&hellip;</td><td>&hellip;</td><td>&hellip;</td><td>&hellip;</td><td>&hellip;</td><td>&hellip;</td><td>&hellip;</td><td>&hellip;</td><td>&hellip;</td><td>&hellip;</td><td>&hellip;</td><td>&hellip;</td><td>&hellip;</td><td>&hellip;</td><td>&hellip;</td><td>&hellip;</td><td>&hellip;</td><td>&hellip;</td><td>&hellip;</td><td>&hellip;</td><td>&hellip;</td><td>&hellip;</td><td>&hellip;</td><td>&hellip;</td><td>&hellip;</td><td>&hellip;</td><td>&hellip;</td><td>&hellip;</td><td>&hellip;</td><td>&hellip;</td><td>&hellip;</td><td>&hellip;</td><td>&hellip;</td><td>&hellip;</td><td>&hellip;</td><td>&hellip;</td><td>&hellip;</td><td>&hellip;</td></tr><tr><td>580100695</td><td>2110744</td><td>9769917</td><td>0</td><td>1</td><td>5.0</td><td>100.0</td><td>false</td><td>2</td><td>null</td><td>false</td><td>5</td><td>46</td><td>105</td><td>152</td><td>76</td><td>4</td><td>10</td><td>0.438095</td><td>0.302632</td><td>0.203883</td><td>true</td><td>140</td><td>0.989</td><td>&quot;Negative&quot;</td><td>4</td><td>5</td><td>32</td><td>826</td><td>2</td><td>203222</td><td>2163455</td><td>1.2661448e7</td><td>0.093934</td><td>&quot;article_default&quot;</td><td>0</td><td>17</td><td>&hellip;</td><td>null</td><td>null</td><td>null</td><td>null</td><td>null</td><td>null</td><td>null</td><td>null</td><td>null</td><td>null</td><td>null</td><td>null</td><td>null</td><td>null</td><td>null</td><td>null</td><td>null</td><td>null</td><td>null</td><td>null</td><td>null</td><td>null</td><td>null</td><td>null</td><td>null</td><td>null</td><td>null</td><td>null</td><td>null</td><td>null</td><td>null</td><td>null</td><td>null</td><td>null</td><td>null</td><td>null</td><td>null</td></tr><tr><td>580100695</td><td>2110744</td><td>9767697</td><td>1</td><td>1</td><td>5.0</td><td>100.0</td><td>false</td><td>2</td><td>null</td><td>false</td><td>5</td><td>50</td><td>187</td><td>238</td><td>116</td><td>4</td><td>10</td><td>0.26738</td><td>0.210084</td><td>0.363107</td><td>false</td><td>118</td><td>0.9613</td><td>&quot;Negative&quot;</td><td>5</td><td>7</td><td>2</td><td>982</td><td>3</td><td>199205</td><td>954408</td><td>2.595362e7</td><td>0.208721</td><td>&quot;article_default&quot;</td><td>0</td><td>3</td><td>&hellip;</td><td>null</td><td>null</td><td>null</td><td>null</td><td>null</td><td>null</td><td>null</td><td>null</td><td>null</td><td>null</td><td>null</td><td>null</td><td>null</td><td>null</td><td>null</td><td>null</td><td>null</td><td>null</td><td>null</td><td>null</td><td>null</td><td>null</td><td>null</td><td>null</td><td>null</td><td>null</td><td>null</td><td>null</td><td>null</td><td>null</td><td>null</td><td>null</td><td>null</td><td>null</td><td>null</td><td>null</td><td>null</td></tr><tr><td>580100697</td><td>2110744</td><td>9770997</td><td>0</td><td>1</td><td>14.0</td><td>100.0</td><td>false</td><td>2</td><td>null</td><td>false</td><td>5</td><td>32</td><td>78</td><td>136</td><td>54</td><td>4</td><td>10</td><td>0.410256</td><td>0.235294</td><td>0.151456</td><td>false</td><td>414</td><td>0.845</td><td>&quot;Positive&quot;</td><td>1</td><td>5</td><td>18</td><td>164</td><td>4</td><td>110632</td><td>485698</td><td>5.034287e6</td><td>0.227779</td><td>&quot;article_default&quot;</td><td>0</td><td>3</td><td>&hellip;</td><td>null</td><td>null</td><td>null</td><td>null</td><td>null</td><td>null</td><td>null</td><td>null</td><td>null</td><td>null</td><td>null</td><td>null</td><td>null</td><td>null</td><td>null</td><td>null</td><td>null</td><td>null</td><td>null</td><td>null</td><td>null</td><td>null</td><td>null</td><td>null</td><td>null</td><td>null</td><td>null</td><td>null</td><td>null</td><td>null</td><td>null</td><td>null</td><td>null</td><td>null</td><td>null</td><td>null</td><td>null</td></tr><tr><td>580100697</td><td>2110744</td><td>9514481</td><td>0</td><td>1</td><td>14.0</td><td>100.0</td><td>false</td><td>2</td><td>null</td><td>false</td><td>5</td><td>8</td><td>37</td><td>49</td><td>34</td><td>4</td><td>10</td><td>0.216216</td><td>0.163265</td><td>0.071845</td><td>true</td><td>414</td><td>0.9501</td><td>&quot;Neutral&quot;</td><td>7</td><td>9</td><td>30</td><td>371</td><td>3</td><td>null</td><td>null</td><td>null</td><td>null</td><td>&quot;article_standard_feature&quot;</td><td>182</td><td>4390</td><td>&hellip;</td><td>null</td><td>null</td><td>null</td><td>null</td><td>null</td><td>null</td><td>null</td><td>null</td><td>null</td><td>null</td><td>null</td><td>null</td><td>null</td><td>null</td><td>null</td><td>null</td><td>null</td><td>null</td><td>null</td><td>null</td><td>null</td><td>null</td><td>null</td><td>null</td><td>null</td><td>null</td><td>null</td><td>null</td><td>null</td><td>null</td><td>null</td><td>null</td><td>null</td><td>null</td><td>null</td><td>null</td><td>null</td></tr><tr><td>580100697</td><td>2110744</td><td>9771042</td><td>1</td><td>1</td><td>14.0</td><td>100.0</td><td>false</td><td>2</td><td>null</td><td>false</td><td>5</td><td>31</td><td>96</td><td>194</td><td>109</td><td>4</td><td>10</td><td>0.322917</td><td>0.159794</td><td>0.186408</td><td>false</td><td>118</td><td>0.6719</td><td>&quot;Positive&quot;</td><td>1</td><td>4</td><td>17</td><td>200</td><td>3</td><td>67278</td><td>415895</td><td>3.605973e6</td><td>0.161767</td><td>&quot;article_default&quot;</td><td>0</td><td>3</td><td>&hellip;</td><td>null</td><td>null</td><td>null</td><td>null</td><td>null</td><td>null</td><td>null</td><td>null</td><td>null</td><td>null</td><td>null</td><td>null</td><td>null</td><td>null</td><td>null</td><td>null</td><td>null</td><td>null</td><td>null</td><td>null</td><td>null</td><td>null</td><td>null</td><td>null</td><td>null</td><td>null</td><td>null</td><td>null</td><td>null</td><td>null</td><td>null</td><td>null</td><td>null</td><td>null</td><td>null</td><td>null</td><td>null</td></tr></tbody></table></div>"
      ],
      "text/plain": [
       "shape: (702_831, 448)\n",
       "┌─────────────┬─────────┬─────────┬────────┬───┬────────────┬────────────┬────────────┬────────────┐\n",
       "│ impression_ ┆ user_id ┆ article ┆ target ┆ … ┆ user_embed ┆ user_embed ┆ user_embed ┆ user_embed │\n",
       "│ id          ┆ ---     ┆ ---     ┆ ---    ┆   ┆ ding_60    ┆ ding_61    ┆ ding_62    ┆ ding_63    │\n",
       "│ ---         ┆ u32     ┆ i32     ┆ i8     ┆   ┆ ---        ┆ ---        ┆ ---        ┆ ---        │\n",
       "│ u32         ┆         ┆         ┆        ┆   ┆ f32        ┆ f32        ┆ f32        ┆ f32        │\n",
       "╞═════════════╪═════════╪═════════╪════════╪═══╪════════════╪════════════╪════════════╪════════════╡\n",
       "│ 149474      ┆ 139836  ┆ 9778728 ┆ 0      ┆ … ┆ 0.999956   ┆ 0.940429   ┆ 0.999929   ┆ -0.999914  │\n",
       "│ 149474      ┆ 139836  ┆ 9778669 ┆ 0      ┆ … ┆ 0.999956   ┆ 0.940429   ┆ 0.999929   ┆ -0.999914  │\n",
       "│ 149474      ┆ 139836  ┆ 9778657 ┆ 1      ┆ … ┆ 0.999956   ┆ 0.940429   ┆ 0.999929   ┆ -0.999914  │\n",
       "│ 150528      ┆ 143471  ┆ 9778682 ┆ 0      ┆ … ┆ 0.999956   ┆ 0.940429   ┆ 0.999929   ┆ -0.999914  │\n",
       "│ 150528      ┆ 143471  ┆ 9778669 ┆ 0      ┆ … ┆ 0.999956   ┆ 0.940429   ┆ 0.999929   ┆ -0.999914  │\n",
       "│ …           ┆ …       ┆ …       ┆ …      ┆ … ┆ …          ┆ …          ┆ …          ┆ …          │\n",
       "│ 580100695   ┆ 2110744 ┆ 9769917 ┆ 0      ┆ … ┆ null       ┆ null       ┆ null       ┆ null       │\n",
       "│ 580100695   ┆ 2110744 ┆ 9767697 ┆ 1      ┆ … ┆ null       ┆ null       ┆ null       ┆ null       │\n",
       "│ 580100697   ┆ 2110744 ┆ 9770997 ┆ 0      ┆ … ┆ null       ┆ null       ┆ null       ┆ null       │\n",
       "│ 580100697   ┆ 2110744 ┆ 9514481 ┆ 0      ┆ … ┆ null       ┆ null       ┆ null       ┆ null       │\n",
       "│ 580100697   ┆ 2110744 ┆ 9771042 ┆ 1      ┆ … ┆ null       ┆ null       ┆ null       ┆ null       │\n",
       "└─────────────┴─────────┴─────────┴────────┴───┴────────────┴────────────┴────────────┴────────────┘"
      ]
     },
     "execution_count": 36,
     "metadata": {},
     "output_type": "execute_result"
    }
   ],
   "source": [
    "from pathlib import Path\n",
    "\n",
    "\n",
    "train_ds = pl.read_parquet('/home/ubuntu/dset_complete/subsample/train_ds.parquet')\n",
    "train_ds.join(history_f, on=['user_id', 'impression_id', 'article'], how='left')"
   ]
  },
  {
   "cell_type": "code",
   "execution_count": null,
   "metadata": {},
   "outputs": [],
   "source": []
  }
 ],
 "metadata": {
  "kernelspec": {
   "display_name": "recsys",
   "language": "python",
   "name": "python3"
  },
  "language_info": {
   "codemirror_mode": {
    "name": "ipython",
    "version": 3
   },
   "file_extension": ".py",
   "mimetype": "text/x-python",
   "name": "python",
   "nbconvert_exporter": "python",
   "pygments_lexer": "ipython3",
   "version": "3.10.12"
  }
 },
 "nbformat": 4,
 "nbformat_minor": 2
}
