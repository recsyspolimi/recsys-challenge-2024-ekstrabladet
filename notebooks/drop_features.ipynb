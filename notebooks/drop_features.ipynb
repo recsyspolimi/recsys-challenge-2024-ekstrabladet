{
 "cells": [
  {
   "cell_type": "code",
   "execution_count": 1,
   "metadata": {},
   "outputs": [],
   "source": [
    "import polars as pl"
   ]
  },
  {
   "cell_type": "code",
   "execution_count": 2,
   "metadata": {},
   "outputs": [],
   "source": [
    "train_ds = pl.read_parquet(\"/home/ubuntu/experiments/subsample_train_small_new/train_ds.parquet\")"
   ]
  },
  {
   "cell_type": "code",
   "execution_count": 3,
   "metadata": {},
   "outputs": [
    {
     "data": {
      "text/html": [
       "<div><style>\n",
       ".dataframe > thead > tr,\n",
       ".dataframe > tbody > tr {\n",
       "  text-align: right;\n",
       "  white-space: pre-wrap;\n",
       "}\n",
       "</style>\n",
       "<small>shape: (5, 294)</small><table border=\"1\" class=\"dataframe\"><thead><tr><th>impression_id</th><th>user_id</th><th>article</th><th>device_type</th><th>read_time</th><th>scroll_percentage</th><th>is_sso_user</th><th>gender</th><th>age</th><th>is_subscriber</th><th>target</th><th>trendiness_score_3d</th><th>weekday</th><th>hour</th><th>premium</th><th>category</th><th>sentiment_score</th><th>sentiment_label</th><th>num_images</th><th>title_len</th><th>subtitle_len</th><th>body_len</th><th>num_topics</th><th>article_delay_days</th><th>article_delay_hours</th><th>Entity_MISC_Present</th><th>Entity_ORG_Present</th><th>Entity_EVENT_Present</th><th>Entity_PROD_Present</th><th>Entity_PER_Present</th><th>Entity_LOC_Present</th><th>last_session_duration</th><th>mean_prev_sessions_duration</th><th>last_session_time_hour_diff</th><th>is_new_article</th><th>is_already_seen_article</th><th>yesterday_category_daily_pct</th><th>&hellip;</th><th>kurtosis_impression_std_JS</th><th>kurtosis_impression_total_read_time</th><th>kurtosis_impression_endorsement_10h_leak</th><th>kurtosis_impression_trendiness_score_3d_leak</th><th>kurtosis_impression_clicked_count</th><th>kurtosis_impression_inview_count</th><th>category_diversity_impression</th><th>sentiment_label_diversity_impression</th><th>article_type_diversity_impression</th><th>article_delay_hours_rank_impression</th><th>std_JS_rank_impression</th><th>mean_topics_mean_delay_hours_rank_impression</th><th>trendiness_score_3d_rank_impression</th><th>trendiness_score_5d_rank_impression</th><th>endorsement_10h_rank_impression</th><th>total_pageviews/inviews_rank_impression</th><th>mean_JS_rank_impression</th><th>mean_topic_model_cosine_rank_impression</th><th>topics_cosine_rank_impression</th><th>total_pageviews_rank_impression</th><th>total_read_time_rank_impression</th><th>total_inviews_rank_impression</th><th>trendiness_score_category_rank_impression</th><th>endorsement_10h_leak_rank_impression</th><th>trendiness_score_3d_leak_rank_impression</th><th>clicked_count_rank_impression</th><th>inview_count_rank_impression</th><th>mean_JS_l_inf_user</th><th>std_JS_l_inf_user</th><th>mean_topic_model_cosine_l_inf_user</th><th>topics_cosine_l_inf_user</th><th>article_delay_hours_l_inf_article</th><th>mean_JS_l_inf_article</th><th>std_JS_l_inf_article</th><th>mean_topic_model_cosine_l_inf_article</th><th>topics_cosine_l_inf_article</th><th>endorsement_20h_articleuser_l_inf_articleuser</th></tr><tr><td>u32</td><td>u32</td><td>i32</td><td>i8</td><td>f32</td><td>f32</td><td>bool</td><td>i8</td><td>i8</td><td>bool</td><td>i8</td><td>i16</td><td>i8</td><td>i8</td><td>bool</td><td>i16</td><td>f32</td><td>str</td><td>u32</td><td>u8</td><td>u8</td><td>u16</td><td>u32</td><td>i16</td><td>i32</td><td>bool</td><td>bool</td><td>bool</td><td>bool</td><td>bool</td><td>bool</td><td>i8</td><td>f32</td><td>i16</td><td>bool</td><td>bool</td><td>f32</td><td>&hellip;</td><td>f32</td><td>f32</td><td>f32</td><td>f32</td><td>f32</td><td>f32</td><td>u8</td><td>u8</td><td>u8</td><td>u8</td><td>u8</td><td>u32</td><td>u8</td><td>u8</td><td>u8</td><td>u32</td><td>u8</td><td>u8</td><td>u8</td><td>u32</td><td>u32</td><td>u32</td><td>u8</td><td>u8</td><td>u8</td><td>u32</td><td>u8</td><td>f32</td><td>f32</td><td>f32</td><td>f32</td><td>f32</td><td>f32</td><td>f32</td><td>f32</td><td>f32</td><td>f32</td></tr></thead><tbody><tr><td>149474</td><td>139836</td><td>9778728</td><td>2</td><td>13.0</td><td>null</td><td>false</td><td>2</td><td>null</td><td>false</td><td>0</td><td>521</td><td>3</td><td>7</td><td>false</td><td>142</td><td>0.9654</td><td>&quot;Negative&quot;</td><td>1</td><td>5</td><td>18</td><td>251</td><td>7</td><td>0</td><td>0</td><td>false</td><td>true</td><td>true</td><td>true</td><td>true</td><td>false</td><td>2</td><td>1.0</td><td>141</td><td>false</td><td>false</td><td>0.246377</td><td>&hellip;</td><td>-1.613803</td><td>-1.623003</td><td>-1.397673</td><td>-1.345209</td><td>null</td><td>-1.493721</td><td>4</td><td>3</td><td>1</td><td>1</td><td>2</td><td>3</td><td>1</td><td>1</td><td>6</td><td>6</td><td>5</td><td>1</td><td>3</td><td>6</td><td>6</td><td>5</td><td>1</td><td>3</td><td>1</td><td>null</td><td>5</td><td>0.447581</td><td>0.403328</td><td>0.974886</td><td>0.794704</td><td>0.0</td><td>0.233531</td><td>0.335164</td><td>0.969831</td><td>0.794704</td><td>1.0</td></tr><tr><td>149474</td><td>139836</td><td>9778669</td><td>2</td><td>13.0</td><td>null</td><td>false</td><td>2</td><td>null</td><td>false</td><td>0</td><td>199</td><td>3</td><td>7</td><td>false</td><td>118</td><td>0.9481</td><td>&quot;Negative&quot;</td><td>1</td><td>5</td><td>11</td><td>150</td><td>4</td><td>0</td><td>1</td><td>false</td><td>true</td><td>false</td><td>true</td><td>true</td><td>false</td><td>2</td><td>1.0</td><td>141</td><td>false</td><td>false</td><td>0.275362</td><td>&hellip;</td><td>-1.613803</td><td>-1.623003</td><td>-1.397673</td><td>-1.345209</td><td>null</td><td>-1.493721</td><td>4</td><td>3</td><td>1</td><td>3</td><td>4</td><td>4</td><td>5</td><td>5</td><td>3</td><td>4</td><td>3</td><td>6</td><td>4</td><td>4</td><td>4</td><td>4</td><td>3</td><td>5</td><td>3</td><td>null</td><td>4</td><td>0.501163</td><td>0.632488</td><td>0.721421</td><td>0.792729</td><td>0.043478</td><td>0.266627</td><td>0.511387</td><td>0.800045</td><td>0.815491</td><td>1.0</td></tr><tr><td>149474</td><td>139836</td><td>9778657</td><td>2</td><td>13.0</td><td>null</td><td>false</td><td>2</td><td>null</td><td>false</td><td>1</td><td>117</td><td>3</td><td>7</td><td>false</td><td>118</td><td>0.8347</td><td>&quot;Neutral&quot;</td><td>2</td><td>6</td><td>31</td><td>336</td><td>3</td><td>0</td><td>1</td><td>true</td><td>true</td><td>false</td><td>false</td><td>true</td><td>true</td><td>2</td><td>1.0</td><td>141</td><td>false</td><td>false</td><td>0.275362</td><td>&hellip;</td><td>-1.613803</td><td>-1.623003</td><td>-1.397673</td><td>-1.345209</td><td>null</td><td>-1.493721</td><td>4</td><td>3</td><td>1</td><td>3</td><td>5</td><td>1</td><td>6</td><td>6</td><td>1</td><td>3</td><td>1</td><td>4</td><td>6</td><td>2</td><td>3</td><td>1</td><td>3</td><td>4</td><td>6</td><td>null</td><td>1</td><td>0.78901</td><td>0.718014</td><td>0.865305</td><td>0.631573</td><td>0.066667</td><td>0.350947</td><td>0.730242</td><td>0.85509</td><td>0.631573</td><td>1.0</td></tr><tr><td>150528</td><td>143471</td><td>9778682</td><td>2</td><td>25.0</td><td>null</td><td>false</td><td>2</td><td>null</td><td>false</td><td>0</td><td>206</td><td>3</td><td>7</td><td>false</td><td>498</td><td>0.9546</td><td>&quot;Negative&quot;</td><td>1</td><td>5</td><td>20</td><td>267</td><td>3</td><td>0</td><td>1</td><td>false</td><td>true</td><td>true</td><td>true</td><td>true</td><td>false</td><td>0</td><td>0.666667</td><td>12</td><td>false</td><td>false</td><td>0.007246</td><td>&hellip;</td><td>0.148798</td><td>-1.391573</td><td>-0.275055</td><td>-0.802689</td><td>null</td><td>-1.551953</td><td>6</td><td>3</td><td>1</td><td>6</td><td>7</td><td>9</td><td>4</td><td>4</td><td>4</td><td>2</td><td>2</td><td>7</td><td>2</td><td>1</td><td>1</td><td>2</td><td>9</td><td>3</td><td>5</td><td>null</td><td>3</td><td>0.793928</td><td>0.732491</td><td>0.85988</td><td>0.775407</td><td>0.041667</td><td>0.299855</td><td>0.536061</td><td>0.904299</td><td>0.775407</td><td>1.0</td></tr><tr><td>150528</td><td>143471</td><td>9778669</td><td>2</td><td>25.0</td><td>null</td><td>false</td><td>2</td><td>null</td><td>false</td><td>0</td><td>199</td><td>3</td><td>7</td><td>false</td><td>118</td><td>0.9481</td><td>&quot;Negative&quot;</td><td>1</td><td>5</td><td>11</td><td>150</td><td>4</td><td>0</td><td>1</td><td>false</td><td>true</td><td>false</td><td>true</td><td>true</td><td>false</td><td>0</td><td>0.666667</td><td>12</td><td>false</td><td>false</td><td>0.275362</td><td>&hellip;</td><td>0.148798</td><td>-1.391573</td><td>-0.275055</td><td>-0.802689</td><td>null</td><td>-1.551953</td><td>6</td><td>3</td><td>1</td><td>6</td><td>6</td><td>5</td><td>5</td><td>5</td><td>2</td><td>6</td><td>1</td><td>9</td><td>8</td><td>6</td><td>6</td><td>5</td><td>3</td><td>8</td><td>3</td><td>null</td><td>4</td><td>0.881599</td><td>0.709201</td><td>0.760337</td><td>0.639027</td><td>0.043478</td><td>0.392552</td><td>0.524339</td><td>0.829251</td><td>0.657376</td><td>1.0</td></tr></tbody></table></div>"
      ],
      "text/plain": [
       "shape: (5, 294)\n",
       "┌────────────┬─────────┬─────────┬────────────┬───┬────────────┬───────────┬───────────┬───────────┐\n",
       "│ impression ┆ user_id ┆ article ┆ device_typ ┆ … ┆ std_JS_l_i ┆ mean_topi ┆ topics_co ┆ endorseme │\n",
       "│ _id        ┆ ---     ┆ ---     ┆ e          ┆   ┆ nf_article ┆ c_model_c ┆ sine_l_in ┆ nt_20h_ar │\n",
       "│ ---        ┆ u32     ┆ i32     ┆ ---        ┆   ┆ ---        ┆ osine_l_i ┆ f_article ┆ ticleuser │\n",
       "│ u32        ┆         ┆         ┆ i8         ┆   ┆ f32        ┆ nf_…      ┆ ---       ┆ _l_…      │\n",
       "│            ┆         ┆         ┆            ┆   ┆            ┆ ---       ┆ f32       ┆ ---       │\n",
       "│            ┆         ┆         ┆            ┆   ┆            ┆ f32       ┆           ┆ f32       │\n",
       "╞════════════╪═════════╪═════════╪════════════╪═══╪════════════╪═══════════╪═══════════╪═══════════╡\n",
       "│ 149474     ┆ 139836  ┆ 9778728 ┆ 2          ┆ … ┆ 0.335164   ┆ 0.969831  ┆ 0.794704  ┆ 1.0       │\n",
       "│ 149474     ┆ 139836  ┆ 9778669 ┆ 2          ┆ … ┆ 0.511387   ┆ 0.800045  ┆ 0.815491  ┆ 1.0       │\n",
       "│ 149474     ┆ 139836  ┆ 9778657 ┆ 2          ┆ … ┆ 0.730242   ┆ 0.85509   ┆ 0.631573  ┆ 1.0       │\n",
       "│ 150528     ┆ 143471  ┆ 9778682 ┆ 2          ┆ … ┆ 0.536061   ┆ 0.904299  ┆ 0.775407  ┆ 1.0       │\n",
       "│ 150528     ┆ 143471  ┆ 9778669 ┆ 2          ┆ … ┆ 0.524339   ┆ 0.829251  ┆ 0.657376  ┆ 1.0       │\n",
       "└────────────┴─────────┴─────────┴────────────┴───┴────────────┴───────────┴───────────┴───────────┘"
      ]
     },
     "execution_count": 3,
     "metadata": {},
     "output_type": "execute_result"
    }
   ],
   "source": [
    "train_ds.head()"
   ]
  },
  {
   "cell_type": "code",
   "execution_count": 4,
   "metadata": {},
   "outputs": [],
   "source": [
    "columns = train_ds.columns"
   ]
  },
  {
   "cell_type": "code",
   "execution_count": 5,
   "metadata": {},
   "outputs": [
    {
     "data": {
      "text/plain": [
       "['impression_id',\n",
       " 'user_id',\n",
       " 'article',\n",
       " 'device_type',\n",
       " 'read_time',\n",
       " 'scroll_percentage',\n",
       " 'is_sso_user',\n",
       " 'gender',\n",
       " 'age',\n",
       " 'is_subscriber',\n",
       " 'target',\n",
       " 'trendiness_score_3d',\n",
       " 'weekday',\n",
       " 'hour',\n",
       " 'premium',\n",
       " 'category',\n",
       " 'sentiment_score',\n",
       " 'sentiment_label',\n",
       " 'num_images',\n",
       " 'title_len',\n",
       " 'subtitle_len',\n",
       " 'body_len',\n",
       " 'num_topics',\n",
       " 'article_delay_days',\n",
       " 'article_delay_hours',\n",
       " 'Entity_MISC_Present',\n",
       " 'Entity_ORG_Present',\n",
       " 'Entity_EVENT_Present',\n",
       " 'Entity_PROD_Present',\n",
       " 'Entity_PER_Present',\n",
       " 'Entity_LOC_Present',\n",
       " 'last_session_duration',\n",
       " 'mean_prev_sessions_duration',\n",
       " 'last_session_time_hour_diff',\n",
       " 'is_new_article',\n",
       " 'is_already_seen_article',\n",
       " 'yesterday_category_daily_pct',\n",
       " 'MeanCommonEntities',\n",
       " 'MaxCommonEntities',\n",
       " 'mean_JS',\n",
       " 'min_JS',\n",
       " 'max_JS',\n",
       " 'std_JS',\n",
       " 'NumArticlesHistory',\n",
       " 'MedianReadTime',\n",
       " 'MaxReadTime',\n",
       " 'TotalReadTime',\n",
       " 'MedianScrollPercentage',\n",
       " 'MaxScrollPercentage',\n",
       " 'NeutralPct',\n",
       " 'PositivePct',\n",
       " 'NegativePct',\n",
       " 'PctStrongNeutral',\n",
       " 'PctStrongPositive',\n",
       " 'PctStrongNegative',\n",
       " 'PctNotDefaultArticles',\n",
       " 'MostFrequentCategory',\n",
       " 'MostFrequentWeekday',\n",
       " 'MostFrequentHour',\n",
       " 'MISCPct',\n",
       " 'ORGPct',\n",
       " 'EVENTPct',\n",
       " 'PRODPct',\n",
       " 'PERPct',\n",
       " 'LOCPct',\n",
       " 'topics_cosine',\n",
       " 'IsFavouriteCategory',\n",
       " 'NumberDifferentCategories',\n",
       " 'PctCategoryMatches',\n",
       " 'Category_bibliotek_Pct',\n",
       " 'Category_ferie_Pct',\n",
       " 'Category_underholdning_Pct',\n",
       " 'Category_side9_Pct',\n",
       " 'Category_krimi_Pct',\n",
       " 'Category_penge_Pct',\n",
       " 'Category_dagsorden_Pct',\n",
       " 'Category_musik_Pct',\n",
       " 'Category_plus_Pct',\n",
       " 'Category_podcast_Pct',\n",
       " 'Category_auto_Pct',\n",
       " 'Category_vin_Pct',\n",
       " 'Category_forbrug_Pct',\n",
       " 'Category_horoskoper_Pct',\n",
       " 'Category_haandvaerkeren_Pct',\n",
       " 'Category_services_Pct',\n",
       " 'Category_opinionen_Pct',\n",
       " 'Category_incoming_Pct',\n",
       " 'Category_sport_Pct',\n",
       " 'Category_biler_Pct',\n",
       " 'Category_om_ekstra_bladet_Pct',\n",
       " 'Category_nyheder_Pct',\n",
       " 'Category_video_Pct',\n",
       " 'Category_sex_og_samliv_Pct',\n",
       " 'Category_nationen_Pct',\n",
       " 'mean_user_trendiness_score',\n",
       " 'mean_topics_trendiness_score',\n",
       " 'mean_topics_mean_delay_days',\n",
       " 'mean_topics_mean_delay_hours',\n",
       " 'user_mean_delay_days',\n",
       " 'user_mean_delay_hours',\n",
       " 'window_0_history_length',\n",
       " 'window_1_history_length',\n",
       " 'window_2_history_length',\n",
       " 'window_3_history_length',\n",
       " 'is_inside_window_0',\n",
       " 'is_inside_window_1',\n",
       " 'is_inside_window_2',\n",
       " 'is_inside_window_3',\n",
       " 'window_category_score',\n",
       " 'window_topics_score',\n",
       " 'trendiness_score_category',\n",
       " 'endorsement_10h',\n",
       " 'weighted_mean_JS',\n",
       " 'mean_topic_model_cosine',\n",
       " 'min_topic_model_cosine',\n",
       " 'max_topic_model_cosine',\n",
       " 'std_topic_model_cosine',\n",
       " 'weighted_mean_topic_model_cosine',\n",
       " 'lda_0_history_mean',\n",
       " 'lda_1_history_mean',\n",
       " 'lda_2_history_mean',\n",
       " 'lda_3_history_mean',\n",
       " 'lda_4_history_mean',\n",
       " 'lda_0_history_weighted_mean',\n",
       " 'lda_1_history_weighted_mean',\n",
       " 'lda_2_history_weighted_mean',\n",
       " 'lda_3_history_weighted_mean',\n",
       " 'lda_4_history_weighted_mean',\n",
       " 'impression_time',\n",
       " 'endorsement_10h_right',\n",
       " 'normalized_endorsement_10h',\n",
       " 'endorsement_10h_diff_rolling',\n",
       " 'endorsement_10h_macd',\n",
       " 'endorsement_10h_quantile_norm',\n",
       " 'normalized_endorsement_10h_rolling_max_ratio',\n",
       " 'endorsement_20h_articleuser',\n",
       " 'normalized_endorsement_20h_articleuser',\n",
       " 'endorsement_20h_articleuser_diff_rolling',\n",
       " 'endorsement_20h_articleuser_macd',\n",
       " 'endorsement_20h_articleuser_quantile_norm',\n",
       " 'normalized_endorsement_20h_articleuser_rolling_max_ratio',\n",
       " 'endorsement_10h_leak',\n",
       " 'normalized_endorsement_10h_leak',\n",
       " 'endorsement_10h_leak_diff_rolling',\n",
       " 'endorsement_10h_leak_macd',\n",
       " 'endorsement_10h_leak_quantile_norm',\n",
       " 'normalized_endorsement_10h_leak_rolling_max_ratio',\n",
       " 'trendiness_score_1d',\n",
       " 'trendiness_score_5d',\n",
       " 'trendiness_score_3d_leak',\n",
       " 'trendiness_score_1d/3d',\n",
       " 'trendiness_score_1d/5d',\n",
       " 'normalized_trendiness_score_overall',\n",
       " 'postcode',\n",
       " 'total_pageviews',\n",
       " 'total_inviews',\n",
       " 'total_read_time',\n",
       " 'total_pageviews/inviews',\n",
       " 'article_type',\n",
       " 'clicked_count',\n",
       " 'inview_count',\n",
       " 'trendiness_score_3d_l_inf_impression',\n",
       " 'trendiness_score_5d_l_inf_impression',\n",
       " 'endorsement_10h_l_inf_impression',\n",
       " 'total_pageviews/inviews_l_inf_impression',\n",
       " 'mean_JS_l_inf_impression',\n",
       " 'mean_topic_model_cosine_l_inf_impression',\n",
       " 'topics_cosine_l_inf_impression',\n",
       " 'article_delay_hours_l_inf_impression',\n",
       " 'total_pageviews_l_inf_impression',\n",
       " 'total_inviews_l_inf_impression',\n",
       " 'trendiness_score_category_l_inf_impression',\n",
       " 'std_JS_l_inf_impression',\n",
       " 'total_read_time_l_inf_impression',\n",
       " 'endorsement_10h_leak_l_inf_impression',\n",
       " 'trendiness_score_3d_leak_l_inf_impression',\n",
       " 'clicked_count_l_inf_impression',\n",
       " 'inview_count_l_inf_impression',\n",
       " 'trendiness_score_3d_minus_median_impression',\n",
       " 'trendiness_score_5d_minus_median_impression',\n",
       " 'endorsement_10h_minus_median_impression',\n",
       " 'total_pageviews/inviews_minus_median_impression',\n",
       " 'mean_JS_minus_median_impression',\n",
       " 'mean_topic_model_cosine_minus_median_impression',\n",
       " 'topics_cosine_minus_median_impression',\n",
       " 'article_delay_hours_minus_median_impression',\n",
       " 'total_pageviews_minus_median_impression',\n",
       " 'total_inviews_minus_median_impression',\n",
       " 'trendiness_score_category_minus_median_impression',\n",
       " 'std_JS_minus_median_impression',\n",
       " 'total_read_time_minus_median_impression',\n",
       " 'endorsement_10h_leak_minus_median_impression',\n",
       " 'trendiness_score_3d_leak_minus_median_impression',\n",
       " 'clicked_count_minus_median_impression',\n",
       " 'inview_count_minus_median_impression',\n",
       " 'std_impression_trendiness_score_3d',\n",
       " 'std_impression_trendiness_score_5d',\n",
       " 'std_impression_endorsement_10h',\n",
       " 'std_impression_total_pageviews/inviews',\n",
       " 'std_impression_mean_JS',\n",
       " 'std_impression_mean_topic_model_cosine',\n",
       " 'std_impression_topics_cosine',\n",
       " 'std_impression_article_delay_hours',\n",
       " 'std_impression_total_pageviews',\n",
       " 'std_impression_total_inviews',\n",
       " 'std_impression_trendiness_score_category',\n",
       " 'std_impression_std_JS',\n",
       " 'std_impression_total_read_time',\n",
       " 'std_impression_endorsement_10h_leak',\n",
       " 'std_impression_trendiness_score_3d_leak',\n",
       " 'std_impression_clicked_count',\n",
       " 'std_impression_inview_count',\n",
       " 'skew_impression_trendiness_score_3d',\n",
       " 'skew_impression_trendiness_score_5d',\n",
       " 'skew_impression_endorsement_10h',\n",
       " 'skew_impression_total_pageviews/inviews',\n",
       " 'skew_impression_mean_JS',\n",
       " 'skew_impression_mean_topic_model_cosine',\n",
       " 'skew_impression_topics_cosine',\n",
       " 'skew_impression_article_delay_hours',\n",
       " 'skew_impression_total_pageviews',\n",
       " 'skew_impression_total_inviews',\n",
       " 'skew_impression_trendiness_score_category',\n",
       " 'skew_impression_std_JS',\n",
       " 'skew_impression_total_read_time',\n",
       " 'skew_impression_endorsement_10h_leak',\n",
       " 'skew_impression_trendiness_score_3d_leak',\n",
       " 'skew_impression_clicked_count',\n",
       " 'skew_impression_inview_count',\n",
       " 'entropy_impression_trendiness_score_3d',\n",
       " 'entropy_impression_trendiness_score_5d',\n",
       " 'entropy_impression_endorsement_10h',\n",
       " 'entropy_impression_total_pageviews/inviews',\n",
       " 'entropy_impression_mean_JS',\n",
       " 'entropy_impression_mean_topic_model_cosine',\n",
       " 'entropy_impression_topics_cosine',\n",
       " 'entropy_impression_article_delay_hours',\n",
       " 'entropy_impression_total_pageviews',\n",
       " 'entropy_impression_total_inviews',\n",
       " 'entropy_impression_trendiness_score_category',\n",
       " 'entropy_impression_std_JS',\n",
       " 'entropy_impression_total_read_time',\n",
       " 'entropy_impression_endorsement_10h_leak',\n",
       " 'entropy_impression_trendiness_score_3d_leak',\n",
       " 'entropy_impression_clicked_count',\n",
       " 'entropy_impression_inview_count',\n",
       " 'kurtosis_impression_trendiness_score_3d',\n",
       " 'kurtosis_impression_trendiness_score_5d',\n",
       " 'kurtosis_impression_endorsement_10h',\n",
       " 'kurtosis_impression_total_pageviews/inviews',\n",
       " 'kurtosis_impression_mean_JS',\n",
       " 'kurtosis_impression_mean_topic_model_cosine',\n",
       " 'kurtosis_impression_topics_cosine',\n",
       " 'kurtosis_impression_article_delay_hours',\n",
       " 'kurtosis_impression_total_pageviews',\n",
       " 'kurtosis_impression_total_inviews',\n",
       " 'kurtosis_impression_trendiness_score_category',\n",
       " 'kurtosis_impression_std_JS',\n",
       " 'kurtosis_impression_total_read_time',\n",
       " 'kurtosis_impression_endorsement_10h_leak',\n",
       " 'kurtosis_impression_trendiness_score_3d_leak',\n",
       " 'kurtosis_impression_clicked_count',\n",
       " 'kurtosis_impression_inview_count',\n",
       " 'category_diversity_impression',\n",
       " 'sentiment_label_diversity_impression',\n",
       " 'article_type_diversity_impression',\n",
       " 'article_delay_hours_rank_impression',\n",
       " 'std_JS_rank_impression',\n",
       " 'mean_topics_mean_delay_hours_rank_impression',\n",
       " 'trendiness_score_3d_rank_impression',\n",
       " 'trendiness_score_5d_rank_impression',\n",
       " 'endorsement_10h_rank_impression',\n",
       " 'total_pageviews/inviews_rank_impression',\n",
       " 'mean_JS_rank_impression',\n",
       " 'mean_topic_model_cosine_rank_impression',\n",
       " 'topics_cosine_rank_impression',\n",
       " 'total_pageviews_rank_impression',\n",
       " 'total_read_time_rank_impression',\n",
       " 'total_inviews_rank_impression',\n",
       " 'trendiness_score_category_rank_impression',\n",
       " 'endorsement_10h_leak_rank_impression',\n",
       " 'trendiness_score_3d_leak_rank_impression',\n",
       " 'clicked_count_rank_impression',\n",
       " 'inview_count_rank_impression',\n",
       " 'mean_JS_l_inf_user',\n",
       " 'std_JS_l_inf_user',\n",
       " 'mean_topic_model_cosine_l_inf_user',\n",
       " 'topics_cosine_l_inf_user',\n",
       " 'article_delay_hours_l_inf_article',\n",
       " 'mean_JS_l_inf_article',\n",
       " 'std_JS_l_inf_article',\n",
       " 'mean_topic_model_cosine_l_inf_article',\n",
       " 'topics_cosine_l_inf_article',\n",
       " 'endorsement_20h_articleuser_l_inf_articleuser']"
      ]
     },
     "execution_count": 5,
     "metadata": {},
     "output_type": "execute_result"
    }
   ],
   "source": [
    "columns"
   ]
  },
  {
   "cell_type": "code",
   "execution_count": 8,
   "metadata": {},
   "outputs": [],
   "source": [
    "columns_to_drop= [\"Category_auto_Pct\",\"Category_bibliotek_Pct\",\"Category_biler_Pct\",\"Category_dagsorden_Pct\",\"Category_ferie_Pct\",\"Category_forbrug_Pct\",\"Category_haandvaerkeren_Pct\",\"Category_horoskoper_Pct\",\"Category_incoming_Pct\",\"Category_krimi_Pct\",\"Category_musik_Pct\",\"Category_nationen_Pct\",\"Category_nyheder_Pct\",\"Category_om_ekstra_bladet_Pct\",\"Category_opinionen_Pct\",\"Category_penge_Pct\",\"Category_plus_Pct\",\"Category_podcast_Pct\",\"Category_services_Pct\",\"Category_video_Pct\",\"Category_vin_Pct\",\"EVENTPct\",\"Entity_EVENT_Present\",\"Entity_PER_Present\",\"LOCPct\",\"MISCPct\",\"MaxReadTime\",\"MaxScrollPercentage\",\"MedianReadTime\",\"MedianScrollPercentage\",\"MostFrequentCategory\",\"MostFrequentHour\",\"MostFrequentWeekday\",\"NegativePct\",\"NeutralPct\",\"NumArticlesHistory\",\"NumberDifferentCategories\",\"ORGPct\",\"PERPct\",\"PRODPct\",\"PctCategoryMatches\",\"PctNotDefaultArticles\",\"PctStrongNegative\",\"PctStrongNeutral\",\"PctStrongPositive\",\"PositivePct\",\"TotalReadTime\",\"age\",\"clicked_count_l_inf_impression\",\"endorsement_20h_articleuser_l_inf_articleuser\",\"endorsement_20h_articleuser_macd\",\"endorsement_10h_leak_macd\",\"entropy_impression_mean_JS\",\"entropy_impression_std_JS\",\"entropy_impression_topics_cosine\",\"entropy_impression_trendiness_score_3d_leak\",\"entropy_impression_trendiness_score_category\",\"gender\",\"is_already_seen_article\",\"is_inside_window_1\",\"kurtosis_impression_article_delay_hours\",\"kurtosis_impression_endorsement_10h\",\"kurtosis_impression_endorsement_10h_leak\",\"kurtosis_impression_inview_count\",\"kurtosis_impression_mean_JS\",\"kurtosis_impression_mean_topic_model_cosine\",\"kurtosis_impression_std_JS\",\"kurtosis_impression_topics_cosine\",\"kurtosis_impression_total_read_time\",\"kurtosis_impression_trendiness_score_3d\",\"kurtosis_impression_trendiness_score_3d_leak\",\"kurtosis_impression_trendiness_score_5d\",\"kurtosis_impression_trendiness_score_category\",\"last_session_duration\",\"last_session_time_hour_diff\",\"lda_0_history_mean\",\"lda_0_history_weighted_mean\",\"lda_1_history_mean\",\"lda_1_history_weighted_mean\",\"lda_2_history_mean\",\"lda_2_history_weighted_mean\",\"lda_3_history_mean\",\"lda_3_history_weighted_mean\",\"lda_4_history_mean\",\"lda_4_history_weighted_mean\",\"max_ner_item_knn_scores\",\"max_ner_svd_scores\",\"max_topic_model_cosine\",\"mean_ner_item_knn_scores\",\"mean_ner_svd_scores\",\"mean_prev_sessions_duration\",\"mean_topic_model_cosine\",\"mean_topic_model_cosine_l_inf_article\",\"mean_topic_model_cosine_l_inf_impression\",\"mean_topic_model_cosine_l_inf_user\",\"mean_topic_model_cosine_minus_median_impression\",\"mean_topic_model_cosine_rank_impression\",\"mean_user_trendiness_score\",\"min_JS\",\"min_topic_model_cosine\",\"num_topics\",\"postcode\",\"sentiment_label_diversity_impression\",\"skew_impression_inview_count\",\"skew_impression_mean_topic_model_cosine\",\"skew_impression_std_JS\",\"skew_impression_topics_cosine\",\"skew_impression_total_pageviews/inviews\",\"skew_impression_trendiness_score_3d\",\"skew_impression_trendiness_score_3d_leak\",\"skew_impression_trendiness_score_5d\",\"skew_impression_trendiness_score_category\",\"std_impression_mean_JS\",\"std_impression_mean_topic_model_cosine\",\"std_impression_std_JS\",\"std_impression_topics_cosine\",\"std_impression_trendiness_score_3d\",\"std_impression_trendiness_score_3d_leak\",\"std_impression_trendiness_score_5d\",\"std_impression_trendiness_score_category\",\"std_topic_model_cosine\",\"topics_cosine_l_inf_user\",\"total_ner_item_knn_scores\",\"total_ner_svd_scores\",\"total_pageviews_minus_median_impression\",\"total_pageviews_rank_impression\",\"total_read_time_l_inf_impression\",\"total_read_time_minus_median_impression\",\"total_read_time_rank_impression\",\"trendiness_score_1d/5d\",\"weighted_mean_topic_model_cosine\",\"window_0_history_length\",\"window_1_history_length\",\"window_2_history_length\",\"window_3_history_length\",\"window_topics_score\"]"
   ]
  },
  {
   "cell_type": "code",
   "execution_count": 9,
   "metadata": {},
   "outputs": [
    {
     "name": "stdout",
     "output_type": "stream",
     "text": [
      "max_ner_item_knn_scores\n",
      "max_ner_svd_scores\n",
      "mean_ner_item_knn_scores\n",
      "mean_ner_svd_scores\n",
      "total_ner_item_knn_scores\n",
      "total_ner_svd_scores\n"
     ]
    }
   ],
   "source": [
    "for column in columns_to_drop:\n",
    "    if column not in columns:\n",
    "        print(column)"
   ]
  },
  {
   "cell_type": "code",
   "execution_count": 10,
   "metadata": {},
   "outputs": [
    {
     "data": {
      "text/plain": [
       "(702831, 294)"
      ]
     },
     "execution_count": 10,
     "metadata": {},
     "output_type": "execute_result"
    }
   ],
   "source": [
    "train_ds.shape"
   ]
  },
  {
   "cell_type": "code",
   "execution_count": 11,
   "metadata": {},
   "outputs": [
    {
     "data": {
      "text/plain": [
       "136"
      ]
     },
     "execution_count": 11,
     "metadata": {},
     "output_type": "execute_result"
    }
   ],
   "source": [
    "len(columns_to_drop)"
   ]
  },
  {
   "cell_type": "code",
   "execution_count": 13,
   "metadata": {},
   "outputs": [],
   "source": [
    "new_train_ds = train_ds.drop(columns_to_drop)"
   ]
  },
  {
   "cell_type": "code",
   "execution_count": 15,
   "metadata": {},
   "outputs": [],
   "source": [
    "new_train_ds.write_parquet(\"/home/ubuntu/experiments/feature_selection_datasets/small/train/train_ds.parquet\")"
   ]
  },
  {
   "cell_type": "code",
   "execution_count": 16,
   "metadata": {},
   "outputs": [
    {
     "name": "stdout",
     "output_type": "stream",
     "text": [
      "['device_type', 'is_sso_user', 'gender', 'is_subscriber', 'weekday', 'premium', 'category', 'sentiment_label', 'is_new_article', 'is_already_seen_article', 'MostFrequentCategory', 'MostFrequentWeekday', 'IsFavouriteCategory', 'article_type', 'postcode', 'Entity_EVENT_Present', 'Entity_PER_Present', 'Entity_ORG_Present', 'Entity_LOC_Present', 'Entity_PROD_Present', 'Entity_MISC_Present']\n"
     ]
    }
   ],
   "source": [
    "import json\n",
    "\n",
    "with open('/home/ubuntu/experiments/subsample_train_small_new/data_info.json', 'r') as file:\n",
    "    data = json.load(file)\n",
    "\n",
    "# Extract and print the categorical_columns list\n",
    "categorical_columns = data.get('categorical_columns', [])\n",
    "print(categorical_columns)"
   ]
  },
  {
   "cell_type": "code",
   "execution_count": 17,
   "metadata": {},
   "outputs": [
    {
     "data": {
      "text/plain": [
       "['device_type',\n",
       " 'is_sso_user',\n",
       " 'is_subscriber',\n",
       " 'weekday',\n",
       " 'premium',\n",
       " 'category',\n",
       " 'sentiment_label',\n",
       " 'is_new_article',\n",
       " 'IsFavouriteCategory',\n",
       " 'article_type',\n",
       " 'Entity_ORG_Present',\n",
       " 'Entity_LOC_Present',\n",
       " 'Entity_PROD_Present',\n",
       " 'Entity_MISC_Present']"
      ]
     },
     "execution_count": 17,
     "metadata": {},
     "output_type": "execute_result"
    }
   ],
   "source": [
    "new_categorical_columns=[]\n",
    "for categorical_column in categorical_columns:\n",
    "    if categorical_column not in columns_to_drop:\n",
    "        new_categorical_columns.append(categorical_column)\n",
    "\n",
    "new_categorical_columns"
   ]
  },
  {
   "cell_type": "code",
   "execution_count": 18,
   "metadata": {},
   "outputs": [],
   "source": [
    "data['categorical_columns'] = new_categorical_columns"
   ]
  },
  {
   "cell_type": "code",
   "execution_count": 20,
   "metadata": {},
   "outputs": [],
   "source": [
    "from datetime import datetime"
   ]
  },
  {
   "cell_type": "code",
   "execution_count": 21,
   "metadata": {},
   "outputs": [
    {
     "name": "stdout",
     "output_type": "stream",
     "text": [
      "2024-05-28_15:23:00\n"
     ]
    }
   ],
   "source": [
    "current_timestamp = datetime.now()\n",
    "formatted_timestamp = current_timestamp.strftime('%Y-%m-%d_%H:%M:%S')\n",
    "print(formatted_timestamp)"
   ]
  },
  {
   "cell_type": "code",
   "execution_count": 22,
   "metadata": {},
   "outputs": [],
   "source": [
    "data['timestamp'] = formatted_timestamp"
   ]
  },
  {
   "cell_type": "code",
   "execution_count": 23,
   "metadata": {},
   "outputs": [
    {
     "data": {
      "text/plain": [
       "{'type': 'train',\n",
       " 'categorical_columns': ['device_type',\n",
       "  'is_sso_user',\n",
       "  'is_subscriber',\n",
       "  'weekday',\n",
       "  'premium',\n",
       "  'category',\n",
       "  'sentiment_label',\n",
       "  'is_new_article',\n",
       "  'IsFavouriteCategory',\n",
       "  'article_type',\n",
       "  'Entity_ORG_Present',\n",
       "  'Entity_LOC_Present',\n",
       "  'Entity_PROD_Present',\n",
       "  'Entity_MISC_Present'],\n",
       " 'unique_entities': ['EVENT', 'PER', 'ORG', 'LOC', 'PROD', 'MISC'],\n",
       " 'timestamp': '2024-05-28_15:23:00'}"
      ]
     },
     "execution_count": 23,
     "metadata": {},
     "output_type": "execute_result"
    }
   ],
   "source": [
    "data"
   ]
  },
  {
   "cell_type": "code",
   "execution_count": 24,
   "metadata": {},
   "outputs": [],
   "source": [
    "with open(\"/home/ubuntu/experiments/feature_selection_datasets/small/train/data_info.json\", 'w') as file:\n",
    "    # Write the JSON object to the file\n",
    "    json.dump(data, file)"
   ]
  },
  {
   "cell_type": "code",
   "execution_count": null,
   "metadata": {},
   "outputs": [],
   "source": [
    "######## NOW FOR THE VALIDATION "
   ]
  },
  {
   "cell_type": "code",
   "execution_count": 27,
   "metadata": {},
   "outputs": [],
   "source": [
    "val_ds = pl.read_parquet(\"/home/ubuntu/experiments/preprocessing_validation_small_new/validation_ds.parquet\")"
   ]
  },
  {
   "cell_type": "code",
   "execution_count": 28,
   "metadata": {},
   "outputs": [
    {
     "data": {
      "text/html": [
       "<div><style>\n",
       ".dataframe > thead > tr,\n",
       ".dataframe > tbody > tr {\n",
       "  text-align: right;\n",
       "  white-space: pre-wrap;\n",
       "}\n",
       "</style>\n",
       "<small>shape: (5, 294)</small><table border=\"1\" class=\"dataframe\"><thead><tr><th>impression_id</th><th>article</th><th>user_id</th><th>device_type</th><th>read_time</th><th>scroll_percentage</th><th>is_sso_user</th><th>gender</th><th>age</th><th>is_subscriber</th><th>target</th><th>trendiness_score_3d</th><th>weekday</th><th>hour</th><th>premium</th><th>category</th><th>sentiment_score</th><th>sentiment_label</th><th>num_images</th><th>title_len</th><th>subtitle_len</th><th>body_len</th><th>num_topics</th><th>article_delay_days</th><th>article_delay_hours</th><th>Entity_PROD_Present</th><th>Entity_ORG_Present</th><th>Entity_PER_Present</th><th>Entity_MISC_Present</th><th>Entity_LOC_Present</th><th>Entity_EVENT_Present</th><th>last_session_duration</th><th>mean_prev_sessions_duration</th><th>last_session_time_hour_diff</th><th>is_new_article</th><th>is_already_seen_article</th><th>yesterday_category_daily_pct</th><th>&hellip;</th><th>kurtosis_impression_std_JS</th><th>kurtosis_impression_total_read_time</th><th>kurtosis_impression_endorsement_10h_leak</th><th>kurtosis_impression_trendiness_score_3d_leak</th><th>kurtosis_impression_clicked_count</th><th>kurtosis_impression_inview_count</th><th>category_diversity_impression</th><th>sentiment_label_diversity_impression</th><th>article_type_diversity_impression</th><th>article_delay_hours_rank_impression</th><th>std_JS_rank_impression</th><th>mean_topics_mean_delay_hours_rank_impression</th><th>trendiness_score_3d_rank_impression</th><th>trendiness_score_5d_rank_impression</th><th>endorsement_10h_rank_impression</th><th>total_pageviews/inviews_rank_impression</th><th>mean_JS_rank_impression</th><th>mean_topic_model_cosine_rank_impression</th><th>topics_cosine_rank_impression</th><th>total_pageviews_rank_impression</th><th>total_read_time_rank_impression</th><th>total_inviews_rank_impression</th><th>trendiness_score_category_rank_impression</th><th>endorsement_10h_leak_rank_impression</th><th>trendiness_score_3d_leak_rank_impression</th><th>clicked_count_rank_impression</th><th>inview_count_rank_impression</th><th>mean_JS_l_inf_user</th><th>std_JS_l_inf_user</th><th>mean_topic_model_cosine_l_inf_user</th><th>topics_cosine_l_inf_user</th><th>article_delay_hours_l_inf_article</th><th>mean_JS_l_inf_article</th><th>std_JS_l_inf_article</th><th>mean_topic_model_cosine_l_inf_article</th><th>topics_cosine_l_inf_article</th><th>endorsement_20h_articleuser_l_inf_articleuser</th></tr><tr><td>u32</td><td>i32</td><td>u32</td><td>i8</td><td>f32</td><td>f32</td><td>bool</td><td>i8</td><td>i8</td><td>bool</td><td>i8</td><td>i16</td><td>i8</td><td>i8</td><td>bool</td><td>i16</td><td>f32</td><td>str</td><td>u32</td><td>u8</td><td>u8</td><td>u16</td><td>u32</td><td>i16</td><td>i32</td><td>bool</td><td>bool</td><td>bool</td><td>bool</td><td>bool</td><td>bool</td><td>i8</td><td>f32</td><td>i16</td><td>bool</td><td>bool</td><td>f32</td><td>&hellip;</td><td>f32</td><td>f32</td><td>f32</td><td>f32</td><td>f32</td><td>f32</td><td>u8</td><td>u8</td><td>u8</td><td>u8</td><td>u8</td><td>u32</td><td>u8</td><td>u8</td><td>u8</td><td>u32</td><td>u8</td><td>u8</td><td>u8</td><td>u32</td><td>u32</td><td>u32</td><td>u8</td><td>u8</td><td>u8</td><td>u32</td><td>u8</td><td>f32</td><td>f32</td><td>f32</td><td>f32</td><td>f32</td><td>f32</td><td>f32</td><td>f32</td><td>f32</td><td>f32</td></tr></thead><tbody><tr><td>54770639</td><td>9780181</td><td>1307252</td><td>2</td><td>15.0</td><td>null</td><td>false</td><td>2</td><td>null</td><td>false</td><td>1</td><td>273</td><td>4</td><td>7</td><td>false</td><td>142</td><td>0.7096</td><td>&quot;Negative&quot;</td><td>1</td><td>7</td><td>12</td><td>229</td><td>4</td><td>0</td><td>2</td><td>false</td><td>true</td><td>true</td><td>false</td><td>true</td><td>false</td><td>0</td><td>1.333333</td><td>-60</td><td>true</td><td>false</td><td>0.239437</td><td>&hellip;</td><td>-0.911515</td><td>-1.008099</td><td>-0.669526</td><td>-1.697275</td><td>-0.601304</td><td>-1.156928</td><td>5</td><td>3</td><td>1</td><td>2</td><td>2</td><td>2</td><td>3</td><td>3</td><td>2</td><td>2</td><td>3</td><td>2</td><td>5</td><td>2</td><td>3</td><td>2</td><td>1</td><td>5</td><td>2</td><td>2</td><td>4</td><td>0.560806</td><td>0.547117</td><td>0.905347</td><td>0.666044</td><td>0.011976</td><td>0.251552</td><td>0.315546</td><td>0.842374</td><td>0.657481</td><td>1.0</td></tr><tr><td>499102976</td><td>9780019</td><td>952374</td><td>2</td><td>94.0</td><td>null</td><td>false</td><td>2</td><td>null</td><td>false</td><td>0</td><td>289</td><td>4</td><td>7</td><td>false</td><td>142</td><td>0.5539</td><td>&quot;Negative&quot;</td><td>1</td><td>5</td><td>19</td><td>175</td><td>3</td><td>0</td><td>2</td><td>false</td><td>true</td><td>false</td><td>false</td><td>false</td><td>true</td><td>3</td><td>1.75</td><td>-109</td><td>true</td><td>false</td><td>0.239437</td><td>&hellip;</td><td>3.822416</td><td>1.377198</td><td>9.674418</td><td>-0.604161</td><td>0.321742</td><td>25.864147</td><td>9</td><td>3</td><td>2</td><td>8</td><td>35</td><td>3</td><td>16</td><td>12</td><td>44</td><td>8</td><td>38</td><td>6</td><td>25</td><td>23</td><td>35</td><td>37</td><td>1</td><td>21</td><td>13</td><td>21</td><td>28</td><td>0.05855</td><td>0.327486</td><td>0.940737</td><td>0.937565</td><td>0.012821</td><td>0.085158</td><td>0.328109</td><td>0.945883</td><td>0.937565</td><td>1.0</td></tr><tr><td>212944369</td><td>9779737</td><td>340393</td><td>2</td><td>99.0</td><td>null</td><td>false</td><td>2</td><td>null</td><td>false</td><td>0</td><td>201</td><td>4</td><td>7</td><td>false</td><td>140</td><td>0.9939</td><td>&quot;Negative&quot;</td><td>0</td><td>6</td><td>19</td><td>127</td><td>5</td><td>0</td><td>12</td><td>false</td><td>true</td><td>true</td><td>false</td><td>true</td><td>false</td><td>0</td><td>1.4375</td><td>-58</td><td>true</td><td>false</td><td>0.140845</td><td>&hellip;</td><td>-0.67416</td><td>2.492642</td><td>2.027721</td><td>-0.692663</td><td>2.307962</td><td>5.305382</td><td>8</td><td>3</td><td>1</td><td>19</td><td>18</td><td>24</td><td>19</td><td>20</td><td>16</td><td>1</td><td>18</td><td>23</td><td>24</td><td>2</td><td>2</td><td>8</td><td>22</td><td>15</td><td>21</td><td>2</td><td>11</td><td>0.625364</td><td>0.557748</td><td>0.85218</td><td>0.702029</td><td>0.071856</td><td>0.234209</td><td>0.430633</td><td>0.830278</td><td>0.702029</td><td>1.0</td></tr><tr><td>384357225</td><td>8496358</td><td>296347</td><td>1</td><td>17.0</td><td>100.0</td><td>false</td><td>2</td><td>null</td><td>false</td><td>0</td><td>275</td><td>4</td><td>7</td><td>true</td><td>414</td><td>0.8524</td><td>&quot;Neutral&quot;</td><td>2</td><td>9</td><td>27</td><td>530</td><td>5</td><td>807</td><td>19385</td><td>false</td><td>false</td><td>false</td><td>false</td><td>false</td><td>false</td><td>0</td><td>1.444444</td><td>-156</td><td>true</td><td>false</td><td>0.147887</td><td>&hellip;</td><td>-0.968826</td><td>-0.866251</td><td>2.342138</td><td>-0.642601</td><td>-0.395915</td><td>-0.103118</td><td>6</td><td>3</td><td>1</td><td>16</td><td>2</td><td>14</td><td>5</td><td>5</td><td>8</td><td>null</td><td>12</td><td>14</td><td>5</td><td>null</td><td>null</td><td>null</td><td>9</td><td>7</td><td>7</td><td>16</td><td>5</td><td>0.362659</td><td>0.286279</td><td>0.767783</td><td>0.779993</td><td>0.992982</td><td>0.27843</td><td>0.412413</td><td>0.825206</td><td>0.827546</td><td>0.5</td></tr><tr><td>199318391</td><td>9766434</td><td>1609584</td><td>1</td><td>44.0</td><td>100.0</td><td>false</td><td>2</td><td>null</td><td>false</td><td>0</td><td>304</td><td>4</td><td>7</td><td>false</td><td>498</td><td>0.9787</td><td>&quot;Negative&quot;</td><td>3</td><td>11</td><td>18</td><td>675</td><td>4</td><td>0</td><td>2</td><td>false</td><td>true</td><td>true</td><td>true</td><td>false</td><td>false</td><td>0</td><td>1.0</td><td>19</td><td>false</td><td>false</td><td>0.028169</td><td>&hellip;</td><td>0.498008</td><td>-1.328634</td><td>0.005073</td><td>-0.203675</td><td>-0.547302</td><td>-0.669321</td><td>5</td><td>3</td><td>1</td><td>3</td><td>5</td><td>5</td><td>2</td><td>3</td><td>1</td><td>5</td><td>1</td><td>1</td><td>7</td><td>7</td><td>4</td><td>7</td><td>9</td><td>2</td><td>1</td><td>8</td><td>4</td><td>0.709407</td><td>0.586241</td><td>0.993207</td><td>0.659081</td><td>0.011765</td><td>0.38672</td><td>0.368896</td><td>0.928157</td><td>0.686594</td><td>1.0</td></tr></tbody></table></div>"
      ],
      "text/plain": [
       "shape: (5, 294)\n",
       "┌────────────┬─────────┬─────────┬────────────┬───┬────────────┬───────────┬───────────┬───────────┐\n",
       "│ impression ┆ article ┆ user_id ┆ device_typ ┆ … ┆ std_JS_l_i ┆ mean_topi ┆ topics_co ┆ endorseme │\n",
       "│ _id        ┆ ---     ┆ ---     ┆ e          ┆   ┆ nf_article ┆ c_model_c ┆ sine_l_in ┆ nt_20h_ar │\n",
       "│ ---        ┆ i32     ┆ u32     ┆ ---        ┆   ┆ ---        ┆ osine_l_i ┆ f_article ┆ ticleuser │\n",
       "│ u32        ┆         ┆         ┆ i8         ┆   ┆ f32        ┆ nf_…      ┆ ---       ┆ _l_…      │\n",
       "│            ┆         ┆         ┆            ┆   ┆            ┆ ---       ┆ f32       ┆ ---       │\n",
       "│            ┆         ┆         ┆            ┆   ┆            ┆ f32       ┆           ┆ f32       │\n",
       "╞════════════╪═════════╪═════════╪════════════╪═══╪════════════╪═══════════╪═══════════╪═══════════╡\n",
       "│ 54770639   ┆ 9780181 ┆ 1307252 ┆ 2          ┆ … ┆ 0.315546   ┆ 0.842374  ┆ 0.657481  ┆ 1.0       │\n",
       "│ 499102976  ┆ 9780019 ┆ 952374  ┆ 2          ┆ … ┆ 0.328109   ┆ 0.945883  ┆ 0.937565  ┆ 1.0       │\n",
       "│ 212944369  ┆ 9779737 ┆ 340393  ┆ 2          ┆ … ┆ 0.430633   ┆ 0.830278  ┆ 0.702029  ┆ 1.0       │\n",
       "│ 384357225  ┆ 8496358 ┆ 296347  ┆ 1          ┆ … ┆ 0.412413   ┆ 0.825206  ┆ 0.827546  ┆ 0.5       │\n",
       "│ 199318391  ┆ 9766434 ┆ 1609584 ┆ 1          ┆ … ┆ 0.368896   ┆ 0.928157  ┆ 0.686594  ┆ 1.0       │\n",
       "└────────────┴─────────┴─────────┴────────────┴───┴────────────┴───────────┴───────────┴───────────┘"
      ]
     },
     "execution_count": 28,
     "metadata": {},
     "output_type": "execute_result"
    }
   ],
   "source": [
    "val_ds.head()"
   ]
  },
  {
   "cell_type": "code",
   "execution_count": 30,
   "metadata": {},
   "outputs": [],
   "source": [
    "val_ds_new = val_ds.drop(columns_to_drop)"
   ]
  },
  {
   "cell_type": "code",
   "execution_count": 32,
   "metadata": {},
   "outputs": [],
   "source": [
    "val_ds_new.write_parquet(\"/home/ubuntu/experiments/feature_selection_datasets/small/validation/validation_ds.parquet\")"
   ]
  },
  {
   "cell_type": "code",
   "execution_count": 33,
   "metadata": {},
   "outputs": [
    {
     "name": "stdout",
     "output_type": "stream",
     "text": [
      "['device_type', 'is_sso_user', 'gender', 'is_subscriber', 'weekday', 'premium', 'category', 'sentiment_label', 'is_new_article', 'is_already_seen_article', 'MostFrequentCategory', 'MostFrequentWeekday', 'IsFavouriteCategory', 'article_type', 'postcode', 'Entity_EVENT_Present', 'Entity_ORG_Present', 'Entity_PER_Present', 'Entity_PROD_Present', 'Entity_LOC_Present', 'Entity_MISC_Present']\n"
     ]
    }
   ],
   "source": [
    "with open('/home/ubuntu/experiments/preprocessing_validation_small_new/data_info.json', 'r') as file:\n",
    "    data = json.load(file)\n",
    "\n",
    "# Extract and print the categorical_columns list\n",
    "categorical_columns = data.get('categorical_columns', [])\n",
    "print(categorical_columns)"
   ]
  },
  {
   "cell_type": "code",
   "execution_count": 34,
   "metadata": {},
   "outputs": [
    {
     "data": {
      "text/plain": [
       "{'type': 'validation',\n",
       " 'categorical_columns': ['device_type',\n",
       "  'is_sso_user',\n",
       "  'is_subscriber',\n",
       "  'weekday',\n",
       "  'premium',\n",
       "  'category',\n",
       "  'sentiment_label',\n",
       "  'is_new_article',\n",
       "  'IsFavouriteCategory',\n",
       "  'article_type',\n",
       "  'Entity_ORG_Present',\n",
       "  'Entity_LOC_Present',\n",
       "  'Entity_PROD_Present',\n",
       "  'Entity_MISC_Present'],\n",
       " 'unique_entities': ['EVENT', 'ORG', 'PER', 'PROD', 'LOC', 'MISC'],\n",
       " 'timestamp': '2024-05-28_15:23:00'}"
      ]
     },
     "execution_count": 34,
     "metadata": {},
     "output_type": "execute_result"
    }
   ],
   "source": [
    "data['categorical_columns'] = new_categorical_columns\n",
    "data['timestamp']=formatted_timestamp\n",
    "data"
   ]
  },
  {
   "cell_type": "code",
   "execution_count": 35,
   "metadata": {},
   "outputs": [],
   "source": [
    "with open(\"/home/ubuntu/experiments/feature_selection_datasets/small/validation/data_info.json\", 'w') as file:\n",
    "    # Write the JSON object to the file\n",
    "    json.dump(data, file)"
   ]
  },
  {
   "cell_type": "code",
   "execution_count": 36,
   "metadata": {},
   "outputs": [],
   "source": [
    "del train_ds\n",
    "del new_train_ds\n",
    "del val_ds\n",
    "del val_ds_new"
   ]
  },
  {
   "cell_type": "code",
   "execution_count": null,
   "metadata": {},
   "outputs": [],
   "source": []
  }
 ],
 "metadata": {
  "kernelspec": {
   "display_name": ".venv",
   "language": "python",
   "name": "python3"
  },
  "language_info": {
   "codemirror_mode": {
    "name": "ipython",
    "version": 3
   },
   "file_extension": ".py",
   "mimetype": "text/x-python",
   "name": "python",
   "nbconvert_exporter": "python",
   "pygments_lexer": "ipython3",
   "version": "3.10.12"
  }
 },
 "nbformat": 4,
 "nbformat_minor": 2
}
