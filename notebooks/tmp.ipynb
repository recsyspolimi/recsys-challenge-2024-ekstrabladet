{
 "cells": [
  {
   "cell_type": "code",
   "execution_count": 1,
   "metadata": {},
   "outputs": [],
   "source": [
    "import polars as pl\n",
    "\n",
    "behaviors = pl.read_parquet('/home/ubuntu/dataset/ebnerd_testset/test/behaviors.parquet')\n",
    "history = pl.read_parquet('/home/ubuntu/dataset/ebnerd_testset/test/history.parquet')\n",
    "articles = pl.read_parquet('/home/ubuntu/dataset/ebnerd_testset/articles.parquet')"
   ]
  },
  {
   "cell_type": "code",
   "execution_count": 3,
   "metadata": {},
   "outputs": [
    {
     "data": {
      "text/html": [
       "<div><style>\n",
       ".dataframe > thead > tr,\n",
       ".dataframe > tbody > tr {\n",
       "  text-align: right;\n",
       "  white-space: pre-wrap;\n",
       "}\n",
       "</style>\n",
       "<small>shape: (5, 14)</small><table border=\"1\" class=\"dataframe\"><thead><tr><th>impression_id</th><th>impression_time</th><th>read_time</th><th>scroll_percentage</th><th>device_type</th><th>article_ids_inview</th><th>user_id</th><th>is_sso_user</th><th>gender</th><th>postcode</th><th>age</th><th>is_subscriber</th><th>session_id</th><th>is_beyond_accuracy</th></tr><tr><td>u32</td><td>datetime[μs]</td><td>f32</td><td>f32</td><td>i8</td><td>list[i32]</td><td>u32</td><td>bool</td><td>i8</td><td>i8</td><td>i8</td><td>bool</td><td>u32</td><td>bool</td></tr></thead><tbody><tr><td>6451339</td><td>2023-06-05 15:02:49</td><td>8.0</td><td>null</td><td>2</td><td>[9796527, 7851321, … 9492777]</td><td>35982</td><td>false</td><td>null</td><td>null</td><td>null</td><td>false</td><td>388</td><td>false</td></tr><tr><td>6451363</td><td>2023-06-05 15:03:56</td><td>20.0</td><td>null</td><td>2</td><td>[9798532, 9791602, … 9798958]</td><td>36012</td><td>false</td><td>null</td><td>null</td><td>null</td><td>false</td><td>804</td><td>false</td></tr><tr><td>6451382</td><td>2023-06-05 15:25:53</td><td>9.0</td><td>null</td><td>2</td><td>[9798498, 9793856, … 9798724]</td><td>36162</td><td>false</td><td>null</td><td>null</td><td>null</td><td>false</td><td>1528</td><td>false</td></tr><tr><td>6451383</td><td>2023-06-05 15:26:35</td><td>14.0</td><td>null</td><td>2</td><td>[9797419, 9798829, … 9798805]</td><td>36162</td><td>false</td><td>null</td><td>null</td><td>null</td><td>false</td><td>1528</td><td>false</td></tr><tr><td>6451385</td><td>2023-06-05 15:26:14</td><td>8.0</td><td>null</td><td>2</td><td>[9785014, 9798958, … 9486080]</td><td>36162</td><td>false</td><td>null</td><td>null</td><td>null</td><td>false</td><td>1528</td><td>false</td></tr></tbody></table></div>"
      ],
      "text/plain": [
       "shape: (5, 14)\n",
       "┌────────────┬────────────┬───────────┬────────────┬───┬──────┬────────────┬───────────┬───────────┐\n",
       "│ impression ┆ impression ┆ read_time ┆ scroll_per ┆ … ┆ age  ┆ is_subscri ┆ session_i ┆ is_beyond │\n",
       "│ _id        ┆ _time      ┆ ---       ┆ centage    ┆   ┆ ---  ┆ ber        ┆ d         ┆ _accuracy │\n",
       "│ ---        ┆ ---        ┆ f32       ┆ ---        ┆   ┆ i8   ┆ ---        ┆ ---       ┆ ---       │\n",
       "│ u32        ┆ datetime[μ ┆           ┆ f32        ┆   ┆      ┆ bool       ┆ u32       ┆ bool      │\n",
       "│            ┆ s]         ┆           ┆            ┆   ┆      ┆            ┆           ┆           │\n",
       "╞════════════╪════════════╪═══════════╪════════════╪═══╪══════╪════════════╪═══════════╪═══════════╡\n",
       "│ 6451339    ┆ 2023-06-05 ┆ 8.0       ┆ null       ┆ … ┆ null ┆ false      ┆ 388       ┆ false     │\n",
       "│            ┆ 15:02:49   ┆           ┆            ┆   ┆      ┆            ┆           ┆           │\n",
       "│ 6451363    ┆ 2023-06-05 ┆ 20.0      ┆ null       ┆ … ┆ null ┆ false      ┆ 804       ┆ false     │\n",
       "│            ┆ 15:03:56   ┆           ┆            ┆   ┆      ┆            ┆           ┆           │\n",
       "│ 6451382    ┆ 2023-06-05 ┆ 9.0       ┆ null       ┆ … ┆ null ┆ false      ┆ 1528      ┆ false     │\n",
       "│            ┆ 15:25:53   ┆           ┆            ┆   ┆      ┆            ┆           ┆           │\n",
       "│ 6451383    ┆ 2023-06-05 ┆ 14.0      ┆ null       ┆ … ┆ null ┆ false      ┆ 1528      ┆ false     │\n",
       "│            ┆ 15:26:35   ┆           ┆            ┆   ┆      ┆            ┆           ┆           │\n",
       "│ 6451385    ┆ 2023-06-05 ┆ 8.0       ┆ null       ┆ … ┆ null ┆ false      ┆ 1528      ┆ false     │\n",
       "│            ┆ 15:26:14   ┆           ┆            ┆   ┆      ┆            ┆           ┆           │\n",
       "└────────────┴────────────┴───────────┴────────────┴───┴──────┴────────────┴───────────┴───────────┘"
      ]
     },
     "execution_count": 3,
     "metadata": {},
     "output_type": "execute_result"
    }
   ],
   "source": [
    "behaviors.head()"
   ]
  },
  {
   "cell_type": "code",
   "execution_count": 4,
   "metadata": {},
   "outputs": [
    {
     "name": "stderr",
     "output_type": "stream",
     "text": [
      "2024-05-07 13:37:54.500630: I tensorflow/core/platform/cpu_feature_guard.cc:210] This TensorFlow binary is optimized to use available CPU instructions in performance-critical operations.\n",
      "To enable the following instructions: AVX2 AVX512F FMA, in other operations, rebuild TensorFlow with the appropriate compiler flags.\n",
      "2024-05-07 13:37:55.513400: W tensorflow/compiler/tf2tensorrt/utils/py_utils.cc:38] TF-TRT Warning: Could not find TensorRT\n",
      "100%|██████████| 576/576 [04:01<00:00,  2.38it/s]\n"
     ]
    },
    {
     "data": {
      "text/html": [
       "<div><style>\n",
       ".dataframe > thead > tr,\n",
       ".dataframe > tbody > tr {\n",
       "  text-align: right;\n",
       "  white-space: pre-wrap;\n",
       "}\n",
       "</style>\n",
       "<small>shape: (5, 3)</small><table border=\"1\" class=\"dataframe\"><thead><tr><th>article</th><th>impression_time</th><th>endorsement_10h</th></tr><tr><td>i32</td><td>datetime[μs]</td><td>u32</td></tr></thead><tbody><tr><td>4048095</td><td>2023-06-01 13:46:00</td><td>1</td></tr><tr><td>4102080</td><td>2023-06-01 13:46:00</td><td>1</td></tr><tr><td>4108958</td><td>2023-06-01 13:46:00</td><td>1</td></tr><tr><td>4164994</td><td>2023-06-01 13:46:00</td><td>1</td></tr><tr><td>4223327</td><td>2023-06-01 13:46:00</td><td>1</td></tr></tbody></table></div>"
      ],
      "text/plain": [
       "shape: (5, 3)\n",
       "┌─────────┬─────────────────────┬─────────────────┐\n",
       "│ article ┆ impression_time     ┆ endorsement_10h │\n",
       "│ ---     ┆ ---                 ┆ ---             │\n",
       "│ i32     ┆ datetime[μs]        ┆ u32             │\n",
       "╞═════════╪═════════════════════╪═════════════════╡\n",
       "│ 4048095 ┆ 2023-06-01 13:46:00 ┆ 1               │\n",
       "│ 4102080 ┆ 2023-06-01 13:46:00 ┆ 1               │\n",
       "│ 4108958 ┆ 2023-06-01 13:46:00 ┆ 1               │\n",
       "│ 4164994 ┆ 2023-06-01 13:46:00 ┆ 1               │\n",
       "│ 4223327 ┆ 2023-06-01 13:46:00 ┆ 1               │\n",
       "└─────────┴─────────────────────┴─────────────────┘"
      ]
     },
     "execution_count": 4,
     "metadata": {},
     "output_type": "execute_result"
    }
   ],
   "source": [
    "from polimi.utils._catboost import _preprocessing_article_endorsement_feature\n",
    "\n",
    "articles_endorsement = _preprocessing_article_endorsement_feature(behaviors=behaviors, period=\"10h\")\n",
    "articles_endorsement.head()"
   ]
  },
  {
   "cell_type": "code",
   "execution_count": 5,
   "metadata": {},
   "outputs": [
    {
     "data": {
      "text/html": [
       "<div><style>\n",
       ".dataframe > thead > tr,\n",
       ".dataframe > tbody > tr {\n",
       "  text-align: right;\n",
       "  white-space: pre-wrap;\n",
       "}\n",
       "</style>\n",
       "<small>shape: (5, 14)</small><table border=\"1\" class=\"dataframe\"><thead><tr><th>impression_id</th><th>impression_time</th><th>read_time</th><th>scroll_percentage</th><th>device_type</th><th>article_ids_inview</th><th>user_id</th><th>is_sso_user</th><th>gender</th><th>postcode</th><th>age</th><th>is_subscriber</th><th>session_id</th><th>is_beyond_accuracy</th></tr><tr><td>u32</td><td>datetime[μs]</td><td>f32</td><td>f32</td><td>i8</td><td>list[i32]</td><td>u32</td><td>bool</td><td>i8</td><td>i8</td><td>i8</td><td>bool</td><td>u32</td><td>bool</td></tr></thead><tbody><tr><td>6451339</td><td>2023-06-05 15:02:49</td><td>8.0</td><td>null</td><td>2</td><td>[9796527, 7851321, … 9492777]</td><td>35982</td><td>false</td><td>null</td><td>null</td><td>null</td><td>false</td><td>388</td><td>false</td></tr><tr><td>6451363</td><td>2023-06-05 15:03:56</td><td>20.0</td><td>null</td><td>2</td><td>[9798532, 9791602, … 9798958]</td><td>36012</td><td>false</td><td>null</td><td>null</td><td>null</td><td>false</td><td>804</td><td>false</td></tr><tr><td>6451382</td><td>2023-06-05 15:25:53</td><td>9.0</td><td>null</td><td>2</td><td>[9798498, 9793856, … 9798724]</td><td>36162</td><td>false</td><td>null</td><td>null</td><td>null</td><td>false</td><td>1528</td><td>false</td></tr><tr><td>6451383</td><td>2023-06-05 15:26:35</td><td>14.0</td><td>null</td><td>2</td><td>[9797419, 9798829, … 9798805]</td><td>36162</td><td>false</td><td>null</td><td>null</td><td>null</td><td>false</td><td>1528</td><td>false</td></tr><tr><td>6451385</td><td>2023-06-05 15:26:14</td><td>8.0</td><td>null</td><td>2</td><td>[9785014, 9798958, … 9486080]</td><td>36162</td><td>false</td><td>null</td><td>null</td><td>null</td><td>false</td><td>1528</td><td>false</td></tr></tbody></table></div>"
      ],
      "text/plain": [
       "shape: (5, 14)\n",
       "┌────────────┬────────────┬───────────┬────────────┬───┬──────┬────────────┬───────────┬───────────┐\n",
       "│ impression ┆ impression ┆ read_time ┆ scroll_per ┆ … ┆ age  ┆ is_subscri ┆ session_i ┆ is_beyond │\n",
       "│ _id        ┆ _time      ┆ ---       ┆ centage    ┆   ┆ ---  ┆ ber        ┆ d         ┆ _accuracy │\n",
       "│ ---        ┆ ---        ┆ f32       ┆ ---        ┆   ┆ i8   ┆ ---        ┆ ---       ┆ ---       │\n",
       "│ u32        ┆ datetime[μ ┆           ┆ f32        ┆   ┆      ┆ bool       ┆ u32       ┆ bool      │\n",
       "│            ┆ s]         ┆           ┆            ┆   ┆      ┆            ┆           ┆           │\n",
       "╞════════════╪════════════╪═══════════╪════════════╪═══╪══════╪════════════╪═══════════╪═══════════╡\n",
       "│ 6451339    ┆ 2023-06-05 ┆ 8.0       ┆ null       ┆ … ┆ null ┆ false      ┆ 388       ┆ false     │\n",
       "│            ┆ 15:02:49   ┆           ┆            ┆   ┆      ┆            ┆           ┆           │\n",
       "│ 6451363    ┆ 2023-06-05 ┆ 20.0      ┆ null       ┆ … ┆ null ┆ false      ┆ 804       ┆ false     │\n",
       "│            ┆ 15:03:56   ┆           ┆            ┆   ┆      ┆            ┆           ┆           │\n",
       "│ 6451382    ┆ 2023-06-05 ┆ 9.0       ┆ null       ┆ … ┆ null ┆ false      ┆ 1528      ┆ false     │\n",
       "│            ┆ 15:25:53   ┆           ┆            ┆   ┆      ┆            ┆           ┆           │\n",
       "│ 6451383    ┆ 2023-06-05 ┆ 14.0      ┆ null       ┆ … ┆ null ┆ false      ┆ 1528      ┆ false     │\n",
       "│            ┆ 15:26:35   ┆           ┆            ┆   ┆      ┆            ┆           ┆           │\n",
       "│ 6451385    ┆ 2023-06-05 ┆ 8.0       ┆ null       ┆ … ┆ null ┆ false      ┆ 1528      ┆ false     │\n",
       "│            ┆ 15:26:14   ┆           ┆            ┆   ┆      ┆            ┆           ┆           │\n",
       "└────────────┴────────────┴───────────┴────────────┴───┴──────┴────────────┴───────────┴───────────┘"
      ]
     },
     "execution_count": 5,
     "metadata": {},
     "output_type": "execute_result"
    }
   ],
   "source": [
    "behaviors.head()"
   ]
  },
  {
   "cell_type": "code",
   "execution_count": 6,
   "metadata": {},
   "outputs": [
    {
     "data": {
      "text/plain": [
       "200000"
      ]
     },
     "execution_count": 6,
     "metadata": {},
     "output_type": "execute_result"
    }
   ],
   "source": [
    "behaviors.filter(pl.col('impression_id') == 0).shape[0]"
   ]
  },
  {
   "cell_type": "code",
   "execution_count": 7,
   "metadata": {},
   "outputs": [
    {
     "name": "stderr",
     "output_type": "stream",
     "text": [
      "808it [26:54,  2.00s/it]                         \n",
      "116826it [09:11, 211.85it/s]                            \n"
     ]
    }
   ],
   "source": [
    "from polimi.utils._catboost import _preprocessing_history_trendiness_scores\n",
    "\n",
    "users_mean_trendiness_scores, topics_mean_trendiness_scores = _preprocessing_history_trendiness_scores(\n",
    "        history=history, articles=articles)"
   ]
  },
  {
   "cell_type": "code",
   "execution_count": 8,
   "metadata": {},
   "outputs": [
    {
     "data": {
      "text/html": [
       "<div><style>\n",
       ".dataframe > thead > tr,\n",
       ".dataframe > tbody > tr {\n",
       "  text-align: right;\n",
       "  white-space: pre-wrap;\n",
       "}\n",
       "</style>\n",
       "<small>shape: (5, 2)</small><table border=\"1\" class=\"dataframe\"><thead><tr><th>user_id</th><th>mean_user_trendiness_score</th></tr><tr><td>u32</td><td>f64</td></tr></thead><tbody><tr><td>1382774</td><td>314.833333</td></tr><tr><td>481463</td><td>295.55</td></tr><tr><td>2252758</td><td>231.0</td></tr><tr><td>750178</td><td>249.0</td></tr><tr><td>2493546</td><td>213.583333</td></tr></tbody></table></div>"
      ],
      "text/plain": [
       "shape: (5, 2)\n",
       "┌─────────┬────────────────────────────┐\n",
       "│ user_id ┆ mean_user_trendiness_score │\n",
       "│ ---     ┆ ---                        │\n",
       "│ u32     ┆ f64                        │\n",
       "╞═════════╪════════════════════════════╡\n",
       "│ 1382774 ┆ 314.833333                 │\n",
       "│ 481463  ┆ 295.55                     │\n",
       "│ 2252758 ┆ 231.0                      │\n",
       "│ 750178  ┆ 249.0                      │\n",
       "│ 2493546 ┆ 213.583333                 │\n",
       "└─────────┴────────────────────────────┘"
      ]
     },
     "execution_count": 8,
     "metadata": {},
     "output_type": "execute_result"
    }
   ],
   "source": [
    "users_mean_trendiness_scores.head()"
   ]
  },
  {
   "cell_type": "code",
   "execution_count": 9,
   "metadata": {},
   "outputs": [
    {
     "data": {
      "text/html": [
       "<div><style>\n",
       ".dataframe > thead > tr,\n",
       ".dataframe > tbody > tr {\n",
       "  text-align: right;\n",
       "  white-space: pre-wrap;\n",
       "}\n",
       "</style>\n",
       "<small>shape: (5, 2)</small><table border=\"1\" class=\"dataframe\"><thead><tr><th>topics</th><th>mean_topic_trendiness_score</th></tr><tr><td>str</td><td>f64</td></tr></thead><tbody><tr><td>&quot;Renovering og …</td><td>272.725523</td></tr><tr><td>&quot;Dyr&quot;</td><td>45.918852</td></tr><tr><td>&quot;Samfund&quot;</td><td>220.91863</td></tr><tr><td>&quot;Cykling&quot;</td><td>594.767359</td></tr><tr><td>&quot;Katastrofe&quot;</td><td>141.125991</td></tr></tbody></table></div>"
      ],
      "text/plain": [
       "shape: (5, 2)\n",
       "┌──────────────────────────┬─────────────────────────────┐\n",
       "│ topics                   ┆ mean_topic_trendiness_score │\n",
       "│ ---                      ┆ ---                         │\n",
       "│ str                      ┆ f64                         │\n",
       "╞══════════════════════════╪═════════════════════════════╡\n",
       "│ Renovering og indretning ┆ 272.725523                  │\n",
       "│ Dyr                      ┆ 45.918852                   │\n",
       "│ Samfund                  ┆ 220.91863                   │\n",
       "│ Cykling                  ┆ 594.767359                  │\n",
       "│ Katastrofe               ┆ 141.125991                  │\n",
       "└──────────────────────────┴─────────────────────────────┘"
      ]
     },
     "execution_count": 9,
     "metadata": {},
     "output_type": "execute_result"
    }
   ],
   "source": [
    "topics_mean_trendiness_scores.head()"
   ]
  },
  {
   "cell_type": "code",
   "execution_count": 10,
   "metadata": {},
   "outputs": [
    {
     "data": {
      "text/html": [
       "<div><style>\n",
       ".dataframe > thead > tr,\n",
       ".dataframe > tbody > tr {\n",
       "  text-align: right;\n",
       "  white-space: pre-wrap;\n",
       "}\n",
       "</style>\n",
       "<small>shape: (5, 14)</small><table border=\"1\" class=\"dataframe\"><thead><tr><th>impression_id</th><th>impression_time</th><th>read_time</th><th>scroll_percentage</th><th>device_type</th><th>article_ids_inview</th><th>user_id</th><th>is_sso_user</th><th>gender</th><th>postcode</th><th>age</th><th>is_subscriber</th><th>session_id</th><th>is_beyond_accuracy</th></tr><tr><td>u32</td><td>datetime[μs]</td><td>f32</td><td>f32</td><td>i8</td><td>list[i32]</td><td>u32</td><td>bool</td><td>i8</td><td>i8</td><td>i8</td><td>bool</td><td>u32</td><td>bool</td></tr></thead><tbody><tr><td>6451339</td><td>2023-06-05 15:02:49</td><td>8.0</td><td>null</td><td>2</td><td>[9796527, 7851321, … 9492777]</td><td>35982</td><td>false</td><td>null</td><td>null</td><td>null</td><td>false</td><td>388</td><td>false</td></tr><tr><td>6451363</td><td>2023-06-05 15:03:56</td><td>20.0</td><td>null</td><td>2</td><td>[9798532, 9791602, … 9798958]</td><td>36012</td><td>false</td><td>null</td><td>null</td><td>null</td><td>false</td><td>804</td><td>false</td></tr><tr><td>6451382</td><td>2023-06-05 15:25:53</td><td>9.0</td><td>null</td><td>2</td><td>[9798498, 9793856, … 9798724]</td><td>36162</td><td>false</td><td>null</td><td>null</td><td>null</td><td>false</td><td>1528</td><td>false</td></tr><tr><td>6451383</td><td>2023-06-05 15:26:35</td><td>14.0</td><td>null</td><td>2</td><td>[9797419, 9798829, … 9798805]</td><td>36162</td><td>false</td><td>null</td><td>null</td><td>null</td><td>false</td><td>1528</td><td>false</td></tr><tr><td>6451385</td><td>2023-06-05 15:26:14</td><td>8.0</td><td>null</td><td>2</td><td>[9785014, 9798958, … 9486080]</td><td>36162</td><td>false</td><td>null</td><td>null</td><td>null</td><td>false</td><td>1528</td><td>false</td></tr></tbody></table></div>"
      ],
      "text/plain": [
       "shape: (5, 14)\n",
       "┌────────────┬────────────┬───────────┬────────────┬───┬──────┬────────────┬───────────┬───────────┐\n",
       "│ impression ┆ impression ┆ read_time ┆ scroll_per ┆ … ┆ age  ┆ is_subscri ┆ session_i ┆ is_beyond │\n",
       "│ _id        ┆ _time      ┆ ---       ┆ centage    ┆   ┆ ---  ┆ ber        ┆ d         ┆ _accuracy │\n",
       "│ ---        ┆ ---        ┆ f32       ┆ ---        ┆   ┆ i8   ┆ ---        ┆ ---       ┆ ---       │\n",
       "│ u32        ┆ datetime[μ ┆           ┆ f32        ┆   ┆      ┆ bool       ┆ u32       ┆ bool      │\n",
       "│            ┆ s]         ┆           ┆            ┆   ┆      ┆            ┆           ┆           │\n",
       "╞════════════╪════════════╪═══════════╪════════════╪═══╪══════╪════════════╪═══════════╪═══════════╡\n",
       "│ 6451339    ┆ 2023-06-05 ┆ 8.0       ┆ null       ┆ … ┆ null ┆ false      ┆ 388       ┆ false     │\n",
       "│            ┆ 15:02:49   ┆           ┆            ┆   ┆      ┆            ┆           ┆           │\n",
       "│ 6451363    ┆ 2023-06-05 ┆ 20.0      ┆ null       ┆ … ┆ null ┆ false      ┆ 804       ┆ false     │\n",
       "│            ┆ 15:03:56   ┆           ┆            ┆   ┆      ┆            ┆           ┆           │\n",
       "│ 6451382    ┆ 2023-06-05 ┆ 9.0       ┆ null       ┆ … ┆ null ┆ false      ┆ 1528      ┆ false     │\n",
       "│            ┆ 15:25:53   ┆           ┆            ┆   ┆      ┆            ┆           ┆           │\n",
       "│ 6451383    ┆ 2023-06-05 ┆ 14.0      ┆ null       ┆ … ┆ null ┆ false      ┆ 1528      ┆ false     │\n",
       "│            ┆ 15:26:35   ┆           ┆            ┆   ┆      ┆            ┆           ┆           │\n",
       "│ 6451385    ┆ 2023-06-05 ┆ 8.0       ┆ null       ┆ … ┆ null ┆ false      ┆ 1528      ┆ false     │\n",
       "│            ┆ 15:26:14   ┆           ┆            ┆   ┆      ┆            ┆           ┆           │\n",
       "└────────────┴────────────┴───────────┴────────────┴───┴──────┴────────────┴───────────┴───────────┘"
      ]
     },
     "execution_count": 10,
     "metadata": {},
     "output_type": "execute_result"
    }
   ],
   "source": [
    "behaviors.head()"
   ]
  },
  {
   "cell_type": "code",
   "execution_count": 11,
   "metadata": {},
   "outputs": [
    {
     "data": {
      "text/plain": [
       "200000"
      ]
     },
     "execution_count": 11,
     "metadata": {},
     "output_type": "execute_result"
    }
   ],
   "source": [
    "behaviors.filter(pl.col('impression_id') == 0).shape[0]"
   ]
  },
  {
   "cell_type": "code",
   "execution_count": 21,
   "metadata": {},
   "outputs": [
    {
     "name": "stderr",
     "output_type": "stream",
     "text": [
      "808it [01:53,  7.14it/s]                         \n",
      "808it [02:09,  6.24it/s]                         \n"
     ]
    }
   ],
   "source": [
    "from polimi.utils._catboost import _preprocessing_mean_delay_features, _preprocessing_window_features\n",
    "\n",
    "topic_mean_delays, user_mean_delays = _preprocessing_mean_delay_features(\n",
    "        articles=articles, history=history)\n",
    "\n",
    "windows, user_windows, user_topics_windows, user_category_windows = _preprocessing_window_features(\n",
    "        history=history, articles=articles)"
   ]
  },
  {
   "cell_type": "code",
   "execution_count": 28,
   "metadata": {},
   "outputs": [],
   "source": [
    "from polimi.utils._catboost import get_unique_categories\n",
    "\n",
    "unique_categories = get_unique_categories(articles)"
   ]
  },
  {
   "cell_type": "code",
   "execution_count": 27,
   "metadata": {},
   "outputs": [
    {
     "data": {
      "text/html": [
       "<div><style>\n",
       ".dataframe > thead > tr,\n",
       ".dataframe > tbody > tr {\n",
       "  text-align: right;\n",
       "  white-space: pre-wrap;\n",
       "}\n",
       "</style>\n",
       "<small>shape: (5, 6)</small><table border=\"1\" class=\"dataframe\"><thead><tr><th>user_id</th><th>category</th><th>window_0_score</th><th>window_1_score</th><th>window_2_score</th><th>window_3_score</th></tr><tr><td>u32</td><td>i16</td><td>i64</td><td>i64</td><td>i64</td><td>i64</td></tr></thead><tbody><tr><td>2262113</td><td>561</td><td>0</td><td>0</td><td>0</td><td>1</td></tr><tr><td>397082</td><td>498</td><td>0</td><td>1</td><td>0</td><td>0</td></tr><tr><td>2351481</td><td>2975</td><td>6</td><td>4</td><td>1</td><td>0</td></tr><tr><td>991747</td><td>140</td><td>0</td><td>5</td><td>1</td><td>0</td></tr><tr><td>451574</td><td>140</td><td>2</td><td>0</td><td>2</td><td>3</td></tr></tbody></table></div>"
      ],
      "text/plain": [
       "shape: (5, 6)\n",
       "┌─────────┬──────────┬────────────────┬────────────────┬────────────────┬────────────────┐\n",
       "│ user_id ┆ category ┆ window_0_score ┆ window_1_score ┆ window_2_score ┆ window_3_score │\n",
       "│ ---     ┆ ---      ┆ ---            ┆ ---            ┆ ---            ┆ ---            │\n",
       "│ u32     ┆ i16      ┆ i64            ┆ i64            ┆ i64            ┆ i64            │\n",
       "╞═════════╪══════════╪════════════════╪════════════════╪════════════════╪════════════════╡\n",
       "│ 2262113 ┆ 561      ┆ 0              ┆ 0              ┆ 0              ┆ 1              │\n",
       "│ 397082  ┆ 498      ┆ 0              ┆ 1              ┆ 0              ┆ 0              │\n",
       "│ 2351481 ┆ 2975     ┆ 6              ┆ 4              ┆ 1              ┆ 0              │\n",
       "│ 991747  ┆ 140      ┆ 0              ┆ 5              ┆ 1              ┆ 0              │\n",
       "│ 451574  ┆ 140      ┆ 2              ┆ 0              ┆ 2              ┆ 3              │\n",
       "└─────────┴──────────┴────────────────┴────────────────┴────────────────┴────────────────┘"
      ]
     },
     "execution_count": 27,
     "metadata": {},
     "output_type": "execute_result"
    }
   ],
   "source": [
    "user_category_windows.head()"
   ]
  },
  {
   "cell_type": "code",
   "execution_count": 12,
   "metadata": {},
   "outputs": [],
   "source": [
    "slices_gen = behaviors.iter_slices(20000)"
   ]
  },
  {
   "cell_type": "code",
   "execution_count": 13,
   "metadata": {},
   "outputs": [],
   "source": [
    "first_behaviors = next(slices_gen)"
   ]
  },
  {
   "cell_type": "code",
   "execution_count": 14,
   "metadata": {},
   "outputs": [
    {
     "data": {
      "text/html": [
       "<div><style>\n",
       ".dataframe > thead > tr,\n",
       ".dataframe > tbody > tr {\n",
       "  text-align: right;\n",
       "  white-space: pre-wrap;\n",
       "}\n",
       "</style>\n",
       "<small>shape: (5, 14)</small><table border=\"1\" class=\"dataframe\"><thead><tr><th>impression_id</th><th>impression_time</th><th>read_time</th><th>scroll_percentage</th><th>device_type</th><th>article_ids_inview</th><th>user_id</th><th>is_sso_user</th><th>gender</th><th>postcode</th><th>age</th><th>is_subscriber</th><th>session_id</th><th>is_beyond_accuracy</th></tr><tr><td>u32</td><td>datetime[μs]</td><td>f32</td><td>f32</td><td>i8</td><td>list[i32]</td><td>u32</td><td>bool</td><td>i8</td><td>i8</td><td>i8</td><td>bool</td><td>u32</td><td>bool</td></tr></thead><tbody><tr><td>6451339</td><td>2023-06-05 15:02:49</td><td>8.0</td><td>null</td><td>2</td><td>[9796527, 7851321, … 9492777]</td><td>35982</td><td>false</td><td>null</td><td>null</td><td>null</td><td>false</td><td>388</td><td>false</td></tr><tr><td>6451363</td><td>2023-06-05 15:03:56</td><td>20.0</td><td>null</td><td>2</td><td>[9798532, 9791602, … 9798958]</td><td>36012</td><td>false</td><td>null</td><td>null</td><td>null</td><td>false</td><td>804</td><td>false</td></tr><tr><td>6451382</td><td>2023-06-05 15:25:53</td><td>9.0</td><td>null</td><td>2</td><td>[9798498, 9793856, … 9798724]</td><td>36162</td><td>false</td><td>null</td><td>null</td><td>null</td><td>false</td><td>1528</td><td>false</td></tr><tr><td>6451383</td><td>2023-06-05 15:26:35</td><td>14.0</td><td>null</td><td>2</td><td>[9797419, 9798829, … 9798805]</td><td>36162</td><td>false</td><td>null</td><td>null</td><td>null</td><td>false</td><td>1528</td><td>false</td></tr><tr><td>6451385</td><td>2023-06-05 15:26:14</td><td>8.0</td><td>null</td><td>2</td><td>[9785014, 9798958, … 9486080]</td><td>36162</td><td>false</td><td>null</td><td>null</td><td>null</td><td>false</td><td>1528</td><td>false</td></tr></tbody></table></div>"
      ],
      "text/plain": [
       "shape: (5, 14)\n",
       "┌────────────┬────────────┬───────────┬────────────┬───┬──────┬────────────┬───────────┬───────────┐\n",
       "│ impression ┆ impression ┆ read_time ┆ scroll_per ┆ … ┆ age  ┆ is_subscri ┆ session_i ┆ is_beyond │\n",
       "│ _id        ┆ _time      ┆ ---       ┆ centage    ┆   ┆ ---  ┆ ber        ┆ d         ┆ _accuracy │\n",
       "│ ---        ┆ ---        ┆ f32       ┆ ---        ┆   ┆ i8   ┆ ---        ┆ ---       ┆ ---       │\n",
       "│ u32        ┆ datetime[μ ┆           ┆ f32        ┆   ┆      ┆ bool       ┆ u32       ┆ bool      │\n",
       "│            ┆ s]         ┆           ┆            ┆   ┆      ┆            ┆           ┆           │\n",
       "╞════════════╪════════════╪═══════════╪════════════╪═══╪══════╪════════════╪═══════════╪═══════════╡\n",
       "│ 6451339    ┆ 2023-06-05 ┆ 8.0       ┆ null       ┆ … ┆ null ┆ false      ┆ 388       ┆ false     │\n",
       "│            ┆ 15:02:49   ┆           ┆            ┆   ┆      ┆            ┆           ┆           │\n",
       "│ 6451363    ┆ 2023-06-05 ┆ 20.0      ┆ null       ┆ … ┆ null ┆ false      ┆ 804       ┆ false     │\n",
       "│            ┆ 15:03:56   ┆           ┆            ┆   ┆      ┆            ┆           ┆           │\n",
       "│ 6451382    ┆ 2023-06-05 ┆ 9.0       ┆ null       ┆ … ┆ null ┆ false      ┆ 1528      ┆ false     │\n",
       "│            ┆ 15:25:53   ┆           ┆            ┆   ┆      ┆            ┆           ┆           │\n",
       "│ 6451383    ┆ 2023-06-05 ┆ 14.0      ┆ null       ┆ … ┆ null ┆ false      ┆ 1528      ┆ false     │\n",
       "│            ┆ 15:26:35   ┆           ┆            ┆   ┆      ┆            ┆           ┆           │\n",
       "│ 6451385    ┆ 2023-06-05 ┆ 8.0       ┆ null       ┆ … ┆ null ┆ false      ┆ 1528      ┆ false     │\n",
       "│            ┆ 15:26:14   ┆           ┆            ┆   ┆      ┆            ┆           ┆           │\n",
       "└────────────┴────────────┴───────────┴────────────┴───┴──────┴────────────┴───────────┴───────────┘"
      ]
     },
     "execution_count": 14,
     "metadata": {},
     "output_type": "execute_result"
    }
   ],
   "source": [
    "first_behaviors.head()"
   ]
  },
  {
   "cell_type": "code",
   "execution_count": 17,
   "metadata": {},
   "outputs": [
    {
     "data": {
      "text/html": [
       "<div><style>\n",
       ".dataframe > thead > tr,\n",
       ".dataframe > tbody > tr {\n",
       "  text-align: right;\n",
       "  white-space: pre-wrap;\n",
       "}\n",
       "</style>\n",
       "<small>shape: (5, 14)</small><table border=\"1\" class=\"dataframe\"><thead><tr><th>impression_id</th><th>impression_time</th><th>read_time</th><th>scroll_percentage</th><th>device_type</th><th>article</th><th>user_id</th><th>is_sso_user</th><th>gender</th><th>postcode</th><th>age</th><th>is_subscriber</th><th>session_id</th><th>is_beyond_accuracy</th></tr><tr><td>u32</td><td>datetime[μs]</td><td>f32</td><td>f32</td><td>i8</td><td>i32</td><td>u32</td><td>bool</td><td>i8</td><td>i8</td><td>i8</td><td>bool</td><td>u32</td><td>bool</td></tr></thead><tbody><tr><td>6451339</td><td>2023-06-05 15:02:49</td><td>8.0</td><td>null</td><td>2</td><td>9796527</td><td>35982</td><td>false</td><td>null</td><td>null</td><td>null</td><td>false</td><td>388</td><td>false</td></tr><tr><td>6451339</td><td>2023-06-05 15:02:49</td><td>8.0</td><td>null</td><td>2</td><td>7851321</td><td>35982</td><td>false</td><td>null</td><td>null</td><td>null</td><td>false</td><td>388</td><td>false</td></tr><tr><td>6451339</td><td>2023-06-05 15:02:49</td><td>8.0</td><td>null</td><td>2</td><td>9798805</td><td>35982</td><td>false</td><td>null</td><td>null</td><td>null</td><td>false</td><td>388</td><td>false</td></tr><tr><td>6451339</td><td>2023-06-05 15:02:49</td><td>8.0</td><td>null</td><td>2</td><td>9795150</td><td>35982</td><td>false</td><td>null</td><td>null</td><td>null</td><td>false</td><td>388</td><td>false</td></tr><tr><td>6451339</td><td>2023-06-05 15:02:49</td><td>8.0</td><td>null</td><td>2</td><td>9531110</td><td>35982</td><td>false</td><td>null</td><td>null</td><td>null</td><td>false</td><td>388</td><td>false</td></tr></tbody></table></div>"
      ],
      "text/plain": [
       "shape: (5, 14)\n",
       "┌────────────┬────────────┬───────────┬────────────┬───┬──────┬────────────┬───────────┬───────────┐\n",
       "│ impression ┆ impression ┆ read_time ┆ scroll_per ┆ … ┆ age  ┆ is_subscri ┆ session_i ┆ is_beyond │\n",
       "│ _id        ┆ _time      ┆ ---       ┆ centage    ┆   ┆ ---  ┆ ber        ┆ d         ┆ _accuracy │\n",
       "│ ---        ┆ ---        ┆ f32       ┆ ---        ┆   ┆ i8   ┆ ---        ┆ ---       ┆ ---       │\n",
       "│ u32        ┆ datetime[μ ┆           ┆ f32        ┆   ┆      ┆ bool       ┆ u32       ┆ bool      │\n",
       "│            ┆ s]         ┆           ┆            ┆   ┆      ┆            ┆           ┆           │\n",
       "╞════════════╪════════════╪═══════════╪════════════╪═══╪══════╪════════════╪═══════════╪═══════════╡\n",
       "│ 6451339    ┆ 2023-06-05 ┆ 8.0       ┆ null       ┆ … ┆ null ┆ false      ┆ 388       ┆ false     │\n",
       "│            ┆ 15:02:49   ┆           ┆            ┆   ┆      ┆            ┆           ┆           │\n",
       "│ 6451339    ┆ 2023-06-05 ┆ 8.0       ┆ null       ┆ … ┆ null ┆ false      ┆ 388       ┆ false     │\n",
       "│            ┆ 15:02:49   ┆           ┆            ┆   ┆      ┆            ┆           ┆           │\n",
       "│ 6451339    ┆ 2023-06-05 ┆ 8.0       ┆ null       ┆ … ┆ null ┆ false      ┆ 388       ┆ false     │\n",
       "│            ┆ 15:02:49   ┆           ┆            ┆   ┆      ┆            ┆           ┆           │\n",
       "│ 6451339    ┆ 2023-06-05 ┆ 8.0       ┆ null       ┆ … ┆ null ┆ false      ┆ 388       ┆ false     │\n",
       "│            ┆ 15:02:49   ┆           ┆            ┆   ┆      ┆            ┆           ┆           │\n",
       "│ 6451339    ┆ 2023-06-05 ┆ 8.0       ┆ null       ┆ … ┆ null ┆ false      ┆ 388       ┆ false     │\n",
       "│            ┆ 15:02:49   ┆           ┆            ┆   ┆      ┆            ┆           ┆           │\n",
       "└────────────┴────────────┴───────────┴────────────┴───┴──────┴────────────┴───────────┴───────────┘"
      ]
     },
     "execution_count": 17,
     "metadata": {},
     "output_type": "execute_result"
    }
   ],
   "source": [
    "first_behaviors = first_behaviors.explode('article_ids_inview').rename({'article_ids_inview': 'article'})\n",
    "first_behaviors.head()"
   ]
  },
  {
   "cell_type": "code",
   "execution_count": 18,
   "metadata": {},
   "outputs": [
    {
     "data": {
      "text/html": [
       "<div><style>\n",
       ".dataframe > thead > tr,\n",
       ".dataframe > tbody > tr {\n",
       "  text-align: right;\n",
       "  white-space: pre-wrap;\n",
       "}\n",
       "</style>\n",
       "<small>shape: (5, 15)</small><table border=\"1\" class=\"dataframe\"><thead><tr><th>impression_id</th><th>impression_time</th><th>read_time</th><th>scroll_percentage</th><th>device_type</th><th>article</th><th>user_id</th><th>is_sso_user</th><th>gender</th><th>postcode</th><th>age</th><th>is_subscriber</th><th>session_id</th><th>is_beyond_accuracy</th><th>endorsement_10h</th></tr><tr><td>u32</td><td>datetime[μs]</td><td>f32</td><td>f32</td><td>i8</td><td>i32</td><td>u32</td><td>bool</td><td>i8</td><td>i8</td><td>i8</td><td>bool</td><td>u32</td><td>bool</td><td>u32</td></tr></thead><tbody><tr><td>6451339</td><td>2023-06-05 15:02:49</td><td>8.0</td><td>null</td><td>2</td><td>9796527</td><td>35982</td><td>false</td><td>null</td><td>null</td><td>null</td><td>false</td><td>388</td><td>false</td><td>211327</td></tr><tr><td>6451339</td><td>2023-06-05 15:02:49</td><td>8.0</td><td>null</td><td>2</td><td>7851321</td><td>35982</td><td>false</td><td>null</td><td>null</td><td>null</td><td>false</td><td>388</td><td>false</td><td>8321</td></tr><tr><td>6451339</td><td>2023-06-05 15:02:49</td><td>8.0</td><td>null</td><td>2</td><td>9798805</td><td>35982</td><td>false</td><td>null</td><td>null</td><td>null</td><td>false</td><td>388</td><td>false</td><td>99677</td></tr><tr><td>6451339</td><td>2023-06-05 15:02:49</td><td>8.0</td><td>null</td><td>2</td><td>9795150</td><td>35982</td><td>false</td><td>null</td><td>null</td><td>null</td><td>false</td><td>388</td><td>false</td><td>2758</td></tr><tr><td>6451339</td><td>2023-06-05 15:02:49</td><td>8.0</td><td>null</td><td>2</td><td>9531110</td><td>35982</td><td>false</td><td>null</td><td>null</td><td>null</td><td>false</td><td>388</td><td>false</td><td>52440</td></tr></tbody></table></div>"
      ],
      "text/plain": [
       "shape: (5, 15)\n",
       "┌───────────┬───────────┬───────────┬───────────┬───┬───────────┬───────────┬───────────┬──────────┐\n",
       "│ impressio ┆ impressio ┆ read_time ┆ scroll_pe ┆ … ┆ is_subscr ┆ session_i ┆ is_beyond ┆ endorsem │\n",
       "│ n_id      ┆ n_time    ┆ ---       ┆ rcentage  ┆   ┆ iber      ┆ d         ┆ _accuracy ┆ ent_10h  │\n",
       "│ ---       ┆ ---       ┆ f32       ┆ ---       ┆   ┆ ---       ┆ ---       ┆ ---       ┆ ---      │\n",
       "│ u32       ┆ datetime[ ┆           ┆ f32       ┆   ┆ bool      ┆ u32       ┆ bool      ┆ u32      │\n",
       "│           ┆ μs]       ┆           ┆           ┆   ┆           ┆           ┆           ┆          │\n",
       "╞═══════════╪═══════════╪═══════════╪═══════════╪═══╪═══════════╪═══════════╪═══════════╪══════════╡\n",
       "│ 6451339   ┆ 2023-06-0 ┆ 8.0       ┆ null      ┆ … ┆ false     ┆ 388       ┆ false     ┆ 211327   │\n",
       "│           ┆ 5         ┆           ┆           ┆   ┆           ┆           ┆           ┆          │\n",
       "│           ┆ 15:02:49  ┆           ┆           ┆   ┆           ┆           ┆           ┆          │\n",
       "│ 6451339   ┆ 2023-06-0 ┆ 8.0       ┆ null      ┆ … ┆ false     ┆ 388       ┆ false     ┆ 8321     │\n",
       "│           ┆ 5         ┆           ┆           ┆   ┆           ┆           ┆           ┆          │\n",
       "│           ┆ 15:02:49  ┆           ┆           ┆   ┆           ┆           ┆           ┆          │\n",
       "│ 6451339   ┆ 2023-06-0 ┆ 8.0       ┆ null      ┆ … ┆ false     ┆ 388       ┆ false     ┆ 99677    │\n",
       "│           ┆ 5         ┆           ┆           ┆   ┆           ┆           ┆           ┆          │\n",
       "│           ┆ 15:02:49  ┆           ┆           ┆   ┆           ┆           ┆           ┆          │\n",
       "│ 6451339   ┆ 2023-06-0 ┆ 8.0       ┆ null      ┆ … ┆ false     ┆ 388       ┆ false     ┆ 2758     │\n",
       "│           ┆ 5         ┆           ┆           ┆   ┆           ┆           ┆           ┆          │\n",
       "│           ┆ 15:02:49  ┆           ┆           ┆   ┆           ┆           ┆           ┆          │\n",
       "│ 6451339   ┆ 2023-06-0 ┆ 8.0       ┆ null      ┆ … ┆ false     ┆ 388       ┆ false     ┆ 52440    │\n",
       "│           ┆ 5         ┆           ┆           ┆   ┆           ┆           ┆           ┆          │\n",
       "│           ┆ 15:02:49  ┆           ┆           ┆   ┆           ┆           ┆           ┆          │\n",
       "└───────────┴───────────┴───────────┴───────────┴───┴───────────┴───────────┴───────────┴──────────┘"
      ]
     },
     "execution_count": 18,
     "metadata": {},
     "output_type": "execute_result"
    }
   ],
   "source": [
    "from polimi.utils._catboost import add_article_endorsement_feature\n",
    "\n",
    "end = add_article_endorsement_feature(first_behaviors, articles_endorsement)\n",
    "end.head()"
   ]
  },
  {
   "cell_type": "code",
   "execution_count": 20,
   "metadata": {},
   "outputs": [
    {
     "data": {
      "text/html": [
       "<div><style>\n",
       ".dataframe > thead > tr,\n",
       ".dataframe > tbody > tr {\n",
       "  text-align: right;\n",
       "  white-space: pre-wrap;\n",
       "}\n",
       "</style>\n",
       "<small>shape: (5, 16)</small><table border=\"1\" class=\"dataframe\"><thead><tr><th>impression_id</th><th>impression_time</th><th>read_time</th><th>scroll_percentage</th><th>device_type</th><th>article</th><th>user_id</th><th>is_sso_user</th><th>gender</th><th>postcode</th><th>age</th><th>is_subscriber</th><th>session_id</th><th>is_beyond_accuracy</th><th>mean_user_trendiness_score</th><th>mean_topics_trendiness_score</th></tr><tr><td>u32</td><td>datetime[μs]</td><td>f32</td><td>f32</td><td>i8</td><td>i32</td><td>u32</td><td>bool</td><td>i8</td><td>i8</td><td>i8</td><td>bool</td><td>u32</td><td>bool</td><td>f64</td><td>f64</td></tr></thead><tbody><tr><td>6451339</td><td>2023-06-05 15:02:49</td><td>8.0</td><td>null</td><td>2</td><td>9796527</td><td>35982</td><td>false</td><td>null</td><td>null</td><td>null</td><td>false</td><td>388</td><td>false</td><td>230.84</td><td>315.003737</td></tr><tr><td>6451339</td><td>2023-06-05 15:02:49</td><td>8.0</td><td>null</td><td>2</td><td>7851321</td><td>35982</td><td>false</td><td>null</td><td>null</td><td>null</td><td>false</td><td>388</td><td>false</td><td>230.84</td><td>256.209192</td></tr><tr><td>6451339</td><td>2023-06-05 15:02:49</td><td>8.0</td><td>null</td><td>2</td><td>9798805</td><td>35982</td><td>false</td><td>null</td><td>null</td><td>null</td><td>false</td><td>388</td><td>false</td><td>230.84</td><td>468.901215</td></tr><tr><td>6451339</td><td>2023-06-05 15:02:49</td><td>8.0</td><td>null</td><td>2</td><td>9795150</td><td>35982</td><td>false</td><td>null</td><td>null</td><td>null</td><td>false</td><td>388</td><td>false</td><td>230.84</td><td>407.799941</td></tr><tr><td>6451339</td><td>2023-06-05 15:02:49</td><td>8.0</td><td>null</td><td>2</td><td>9531110</td><td>35982</td><td>false</td><td>null</td><td>null</td><td>null</td><td>false</td><td>388</td><td>false</td><td>230.84</td><td>242.846735</td></tr></tbody></table></div>"
      ],
      "text/plain": [
       "shape: (5, 16)\n",
       "┌───────────┬───────────┬───────────┬───────────┬───┬───────────┬───────────┬───────────┬──────────┐\n",
       "│ impressio ┆ impressio ┆ read_time ┆ scroll_pe ┆ … ┆ session_i ┆ is_beyond ┆ mean_user ┆ mean_top │\n",
       "│ n_id      ┆ n_time    ┆ ---       ┆ rcentage  ┆   ┆ d         ┆ _accuracy ┆ _trendine ┆ ics_tren │\n",
       "│ ---       ┆ ---       ┆ f32       ┆ ---       ┆   ┆ ---       ┆ ---       ┆ ss_score  ┆ diness_s │\n",
       "│ u32       ┆ datetime[ ┆           ┆ f32       ┆   ┆ u32       ┆ bool      ┆ ---       ┆ core     │\n",
       "│           ┆ μs]       ┆           ┆           ┆   ┆           ┆           ┆ f64       ┆ ---      │\n",
       "│           ┆           ┆           ┆           ┆   ┆           ┆           ┆           ┆ f64      │\n",
       "╞═══════════╪═══════════╪═══════════╪═══════════╪═══╪═══════════╪═══════════╪═══════════╪══════════╡\n",
       "│ 6451339   ┆ 2023-06-0 ┆ 8.0       ┆ null      ┆ … ┆ 388       ┆ false     ┆ 230.84    ┆ 315.0037 │\n",
       "│           ┆ 5         ┆           ┆           ┆   ┆           ┆           ┆           ┆ 37       │\n",
       "│           ┆ 15:02:49  ┆           ┆           ┆   ┆           ┆           ┆           ┆          │\n",
       "│ 6451339   ┆ 2023-06-0 ┆ 8.0       ┆ null      ┆ … ┆ 388       ┆ false     ┆ 230.84    ┆ 256.2091 │\n",
       "│           ┆ 5         ┆           ┆           ┆   ┆           ┆           ┆           ┆ 92       │\n",
       "│           ┆ 15:02:49  ┆           ┆           ┆   ┆           ┆           ┆           ┆          │\n",
       "│ 6451339   ┆ 2023-06-0 ┆ 8.0       ┆ null      ┆ … ┆ 388       ┆ false     ┆ 230.84    ┆ 468.9012 │\n",
       "│           ┆ 5         ┆           ┆           ┆   ┆           ┆           ┆           ┆ 15       │\n",
       "│           ┆ 15:02:49  ┆           ┆           ┆   ┆           ┆           ┆           ┆          │\n",
       "│ 6451339   ┆ 2023-06-0 ┆ 8.0       ┆ null      ┆ … ┆ 388       ┆ false     ┆ 230.84    ┆ 407.7999 │\n",
       "│           ┆ 5         ┆           ┆           ┆   ┆           ┆           ┆           ┆ 41       │\n",
       "│           ┆ 15:02:49  ┆           ┆           ┆   ┆           ┆           ┆           ┆          │\n",
       "│ 6451339   ┆ 2023-06-0 ┆ 8.0       ┆ null      ┆ … ┆ 388       ┆ false     ┆ 230.84    ┆ 242.8467 │\n",
       "│           ┆ 5         ┆           ┆           ┆   ┆           ┆           ┆           ┆ 35       │\n",
       "│           ┆ 15:02:49  ┆           ┆           ┆   ┆           ┆           ┆           ┆          │\n",
       "└───────────┴───────────┴───────────┴───────────┴───┴───────────┴───────────┴───────────┴──────────┘"
      ]
     },
     "execution_count": 20,
     "metadata": {},
     "output_type": "execute_result"
    }
   ],
   "source": [
    "from polimi.utils._catboost import add_history_trendiness_scores_feature\n",
    "\n",
    "topics = articles.select(\"topics\").explode(\"topics\").unique()\n",
    "topics = [topic for topic in topics[\"topics\"] if topic is not None]\n",
    "\n",
    "tmp = add_history_trendiness_scores_feature(\n",
    "    first_behaviors, articles=articles, users_mean_trendiness_scores=users_mean_trendiness_scores,\n",
    "    topics_mean_trendiness_scores=topics_mean_trendiness_scores, topics=topics)\n",
    "tmp.head()"
   ]
  },
  {
   "cell_type": "code",
   "execution_count": 29,
   "metadata": {},
   "outputs": [
    {
     "data": {
      "text/html": [
       "<div><style>\n",
       ".dataframe > thead > tr,\n",
       ".dataframe > tbody > tr {\n",
       "  text-align: right;\n",
       "  white-space: pre-wrap;\n",
       "}\n",
       "</style>\n",
       "<small>shape: (5, 18)</small><table border=\"1\" class=\"dataframe\"><thead><tr><th>impression_id</th><th>article</th><th>user_id</th><th>impression_time</th><th>read_time</th><th>scroll_percentage</th><th>device_type</th><th>is_sso_user</th><th>gender</th><th>postcode</th><th>age</th><th>is_subscriber</th><th>session_id</th><th>is_beyond_accuracy</th><th>mean_topics_mean_delay_days</th><th>mean_topics_mean_delay_hours</th><th>user_mean_delay_days</th><th>user_mean_delay_hours</th></tr><tr><td>u32</td><td>i32</td><td>u32</td><td>datetime[μs]</td><td>f32</td><td>f32</td><td>i8</td><td>bool</td><td>i8</td><td>i8</td><td>i8</td><td>bool</td><td>u32</td><td>bool</td><td>f64</td><td>f64</td><td>f64</td><td>f64</td></tr></thead><tbody><tr><td>6761512</td><td>9791464</td><td>1169219</td><td>2023-06-01 10:35:30</td><td>179.0</td><td>null</td><td>2</td><td>false</td><td>null</td><td>null</td><td>null</td><td>false</td><td>642830</td><td>false</td><td>4.52751</td><td>111.376523</td><td>7.0</td><td>174.142857</td></tr><tr><td>6762640</td><td>9484153</td><td>1173079</td><td>2023-06-01 10:51:47</td><td>7.0</td><td>null</td><td>2</td><td>false</td><td>null</td><td>null</td><td>null</td><td>false</td><td>667829</td><td>false</td><td>50.332868</td><td>1211.585745</td><td>0.333333</td><td>11.666667</td></tr><tr><td>6765854</td><td>9777983</td><td>1183691</td><td>2023-06-01 10:36:54</td><td>26.0</td><td>null</td><td>1</td><td>false</td><td>null</td><td>null</td><td>null</td><td>false</td><td>746697</td><td>false</td><td>11.300406</td><td>274.164759</td><td>31.075</td><td>750.825</td></tr><tr><td>6889215</td><td>9791480</td><td>1315044</td><td>2023-06-01 10:21:07</td><td>141.0</td><td>100.0</td><td>2</td><td>false</td><td>null</td><td>null</td><td>null</td><td>false</td><td>1668464</td><td>false</td><td>4.580755</td><td>112.24544</td><td>31.110727</td><td>750.186851</td></tr><tr><td>6869232</td><td>9791592</td><td>1237073</td><td>2023-06-01 10:25:38</td><td>35.0</td><td>null</td><td>1</td><td>false</td><td>null</td><td>null</td><td>null</td><td>false</td><td>1187682</td><td>false</td><td>4.580755</td><td>112.24544</td><td>1.218543</td><td>32.039735</td></tr></tbody></table></div>"
      ],
      "text/plain": [
       "shape: (5, 18)\n",
       "┌────────────┬─────────┬─────────┬────────────┬───┬────────────┬───────────┬───────────┬───────────┐\n",
       "│ impression ┆ article ┆ user_id ┆ impression ┆ … ┆ mean_topic ┆ mean_topi ┆ user_mean ┆ user_mean │\n",
       "│ _id        ┆ ---     ┆ ---     ┆ _time      ┆   ┆ s_mean_del ┆ cs_mean_d ┆ _delay_da ┆ _delay_ho │\n",
       "│ ---        ┆ i32     ┆ u32     ┆ ---        ┆   ┆ ay_days    ┆ elay_hour ┆ ys        ┆ urs       │\n",
       "│ u32        ┆         ┆         ┆ datetime[μ ┆   ┆ ---        ┆ s         ┆ ---       ┆ ---       │\n",
       "│            ┆         ┆         ┆ s]         ┆   ┆ f64        ┆ ---       ┆ f64       ┆ f64       │\n",
       "│            ┆         ┆         ┆            ┆   ┆            ┆ f64       ┆           ┆           │\n",
       "╞════════════╪═════════╪═════════╪════════════╪═══╪════════════╪═══════════╪═══════════╪═══════════╡\n",
       "│ 6761512    ┆ 9791464 ┆ 1169219 ┆ 2023-06-01 ┆ … ┆ 4.52751    ┆ 111.37652 ┆ 7.0       ┆ 174.14285 │\n",
       "│            ┆         ┆         ┆ 10:35:30   ┆   ┆            ┆ 3         ┆           ┆ 7         │\n",
       "│ 6762640    ┆ 9484153 ┆ 1173079 ┆ 2023-06-01 ┆ … ┆ 50.332868  ┆ 1211.5857 ┆ 0.333333  ┆ 11.666667 │\n",
       "│            ┆         ┆         ┆ 10:51:47   ┆   ┆            ┆ 45        ┆           ┆           │\n",
       "│ 6765854    ┆ 9777983 ┆ 1183691 ┆ 2023-06-01 ┆ … ┆ 11.300406  ┆ 274.16475 ┆ 31.075    ┆ 750.825   │\n",
       "│            ┆         ┆         ┆ 10:36:54   ┆   ┆            ┆ 9         ┆           ┆           │\n",
       "│ 6889215    ┆ 9791480 ┆ 1315044 ┆ 2023-06-01 ┆ … ┆ 4.580755   ┆ 112.24544 ┆ 31.110727 ┆ 750.18685 │\n",
       "│            ┆         ┆         ┆ 10:21:07   ┆   ┆            ┆           ┆           ┆ 1         │\n",
       "│ 6869232    ┆ 9791592 ┆ 1237073 ┆ 2023-06-01 ┆ … ┆ 4.580755   ┆ 112.24544 ┆ 1.218543  ┆ 32.039735 │\n",
       "│            ┆         ┆         ┆ 10:25:38   ┆   ┆            ┆           ┆           ┆           │\n",
       "└────────────┴─────────┴─────────┴────────────┴───┴────────────┴───────────┴───────────┴───────────┘"
      ]
     },
     "execution_count": 29,
     "metadata": {},
     "output_type": "execute_result"
    }
   ],
   "source": [
    "from polimi.utils._catboost import add_mean_delays_features\n",
    "\n",
    "tmp = add_mean_delays_features(first_behaviors, articles=articles, topic_mean_delays=topic_mean_delays,\n",
    "                               user_mean_delays=user_mean_delays)\n",
    "tmp.head()"
   ]
  },
  {
   "cell_type": "code",
   "execution_count": 31,
   "metadata": {},
   "outputs": [
    {
     "data": {
      "text/html": [
       "<div><style>\n",
       ".dataframe > thead > tr,\n",
       ".dataframe > tbody > tr {\n",
       "  text-align: right;\n",
       "  white-space: pre-wrap;\n",
       "}\n",
       "</style>\n",
       "<small>shape: (5, 15)</small><table border=\"1\" class=\"dataframe\"><thead><tr><th>impression_id</th><th>impression_time</th><th>read_time</th><th>scroll_percentage</th><th>device_type</th><th>article</th><th>user_id</th><th>is_sso_user</th><th>gender</th><th>postcode</th><th>age</th><th>is_subscriber</th><th>session_id</th><th>is_beyond_accuracy</th><th>category</th></tr><tr><td>u32</td><td>datetime[μs]</td><td>f32</td><td>f32</td><td>i8</td><td>i32</td><td>u32</td><td>bool</td><td>i8</td><td>i8</td><td>i8</td><td>bool</td><td>u32</td><td>bool</td><td>i16</td></tr></thead><tbody><tr><td>6451339</td><td>2023-06-05 15:02:49</td><td>8.0</td><td>null</td><td>2</td><td>9796527</td><td>35982</td><td>false</td><td>null</td><td>null</td><td>null</td><td>false</td><td>388</td><td>false</td><td>414</td></tr><tr><td>6451339</td><td>2023-06-05 15:02:49</td><td>8.0</td><td>null</td><td>2</td><td>7851321</td><td>35982</td><td>false</td><td>null</td><td>null</td><td>null</td><td>false</td><td>388</td><td>false</td><td>457</td></tr><tr><td>6451339</td><td>2023-06-05 15:02:49</td><td>8.0</td><td>null</td><td>2</td><td>9798805</td><td>35982</td><td>false</td><td>null</td><td>null</td><td>null</td><td>false</td><td>388</td><td>false</td><td>142</td></tr><tr><td>6451339</td><td>2023-06-05 15:02:49</td><td>8.0</td><td>null</td><td>2</td><td>9795150</td><td>35982</td><td>false</td><td>null</td><td>null</td><td>null</td><td>false</td><td>388</td><td>false</td><td>498</td></tr><tr><td>6451339</td><td>2023-06-05 15:02:49</td><td>8.0</td><td>null</td><td>2</td><td>9531110</td><td>35982</td><td>false</td><td>null</td><td>null</td><td>null</td><td>false</td><td>388</td><td>false</td><td>572</td></tr></tbody></table></div>"
      ],
      "text/plain": [
       "shape: (5, 15)\n",
       "┌───────────┬───────────┬───────────┬───────────┬───┬───────────┬───────────┬───────────┬──────────┐\n",
       "│ impressio ┆ impressio ┆ read_time ┆ scroll_pe ┆ … ┆ is_subscr ┆ session_i ┆ is_beyond ┆ category │\n",
       "│ n_id      ┆ n_time    ┆ ---       ┆ rcentage  ┆   ┆ iber      ┆ d         ┆ _accuracy ┆ ---      │\n",
       "│ ---       ┆ ---       ┆ f32       ┆ ---       ┆   ┆ ---       ┆ ---       ┆ ---       ┆ i16      │\n",
       "│ u32       ┆ datetime[ ┆           ┆ f32       ┆   ┆ bool      ┆ u32       ┆ bool      ┆          │\n",
       "│           ┆ μs]       ┆           ┆           ┆   ┆           ┆           ┆           ┆          │\n",
       "╞═══════════╪═══════════╪═══════════╪═══════════╪═══╪═══════════╪═══════════╪═══════════╪══════════╡\n",
       "│ 6451339   ┆ 2023-06-0 ┆ 8.0       ┆ null      ┆ … ┆ false     ┆ 388       ┆ false     ┆ 414      │\n",
       "│           ┆ 5         ┆           ┆           ┆   ┆           ┆           ┆           ┆          │\n",
       "│           ┆ 15:02:49  ┆           ┆           ┆   ┆           ┆           ┆           ┆          │\n",
       "│ 6451339   ┆ 2023-06-0 ┆ 8.0       ┆ null      ┆ … ┆ false     ┆ 388       ┆ false     ┆ 457      │\n",
       "│           ┆ 5         ┆           ┆           ┆   ┆           ┆           ┆           ┆          │\n",
       "│           ┆ 15:02:49  ┆           ┆           ┆   ┆           ┆           ┆           ┆          │\n",
       "│ 6451339   ┆ 2023-06-0 ┆ 8.0       ┆ null      ┆ … ┆ false     ┆ 388       ┆ false     ┆ 142      │\n",
       "│           ┆ 5         ┆           ┆           ┆   ┆           ┆           ┆           ┆          │\n",
       "│           ┆ 15:02:49  ┆           ┆           ┆   ┆           ┆           ┆           ┆          │\n",
       "│ 6451339   ┆ 2023-06-0 ┆ 8.0       ┆ null      ┆ … ┆ false     ┆ 388       ┆ false     ┆ 498      │\n",
       "│           ┆ 5         ┆           ┆           ┆   ┆           ┆           ┆           ┆          │\n",
       "│           ┆ 15:02:49  ┆           ┆           ┆   ┆           ┆           ┆           ┆          │\n",
       "│ 6451339   ┆ 2023-06-0 ┆ 8.0       ┆ null      ┆ … ┆ false     ┆ 388       ┆ false     ┆ 572      │\n",
       "│           ┆ 5         ┆           ┆           ┆   ┆           ┆           ┆           ┆          │\n",
       "│           ┆ 15:02:49  ┆           ┆           ┆   ┆           ┆           ┆           ┆          │\n",
       "└───────────┴───────────┴───────────┴───────────┴───┴───────────┴───────────┴───────────┴──────────┘"
      ]
     },
     "execution_count": 31,
     "metadata": {},
     "output_type": "execute_result"
    }
   ],
   "source": [
    "first_behaviors = first_behaviors.join(articles.select(['article_id', 'category']), left_on='article', right_on='article_id', how='left')\n",
    "first_behaviors.head()"
   ]
  },
  {
   "cell_type": "code",
   "execution_count": 32,
   "metadata": {},
   "outputs": [
    {
     "data": {
      "text/html": [
       "<div><style>\n",
       ".dataframe > thead > tr,\n",
       ".dataframe > tbody > tr {\n",
       "  text-align: right;\n",
       "  white-space: pre-wrap;\n",
       "}\n",
       "</style>\n",
       "<small>shape: (5, 25)</small><table border=\"1\" class=\"dataframe\"><thead><tr><th>impression_id</th><th>article</th><th>user_id</th><th>impression_time</th><th>read_time</th><th>scroll_percentage</th><th>device_type</th><th>is_sso_user</th><th>gender</th><th>postcode</th><th>age</th><th>is_subscriber</th><th>session_id</th><th>is_beyond_accuracy</th><th>category</th><th>window_0_history_length</th><th>window_1_history_length</th><th>window_2_history_length</th><th>window_3_history_length</th><th>is_inside_window_0</th><th>is_inside_window_1</th><th>is_inside_window_2</th><th>is_inside_window_3</th><th>window_category_score</th><th>window_topics_score</th></tr><tr><td>u32</td><td>i32</td><td>u32</td><td>datetime[μs]</td><td>f32</td><td>f32</td><td>i8</td><td>bool</td><td>i8</td><td>i8</td><td>i8</td><td>bool</td><td>u32</td><td>bool</td><td>i16</td><td>i64</td><td>i64</td><td>i64</td><td>i64</td><td>i8</td><td>i8</td><td>i8</td><td>i8</td><td>i64</td><td>i64</td></tr></thead><tbody><tr><td>6771620</td><td>9775978</td><td>1201634</td><td>2023-06-01 10:16:12</td><td>111.0</td><td>100.0</td><td>3</td><td>false</td><td>null</td><td>null</td><td>null</td><td>false</td><td>878371</td><td>false</td><td>140</td><td>18</td><td>11</td><td>11</td><td>0</td><td>1</td><td>0</td><td>0</td><td>0</td><td>6</td><td>6</td></tr><tr><td>6770473</td><td>9484153</td><td>1197966</td><td>2023-06-01 10:57:12</td><td>20.0</td><td>null</td><td>2</td><td>false</td><td>null</td><td>null</td><td>null</td><td>false</td><td>851514</td><td>false</td><td>414</td><td>39</td><td>34</td><td>38</td><td>3</td><td>1</td><td>0</td><td>0</td><td>0</td><td>6</td><td>10</td></tr><tr><td>6903814</td><td>9791494</td><td>1336983</td><td>2023-06-01 10:26:16</td><td>32.0</td><td>null</td><td>2</td><td>false</td><td>null</td><td>null</td><td>null</td><td>false</td><td>1936593</td><td>false</td><td>118</td><td>17</td><td>0</td><td>0</td><td>0</td><td>1</td><td>0</td><td>0</td><td>0</td><td>4</td><td>6</td></tr><tr><td>6864721</td><td>9790762</td><td>1221306</td><td>2023-06-01 10:20:14</td><td>62.0</td><td>null</td><td>1</td><td>false</td><td>null</td><td>null</td><td>null</td><td>false</td><td>1079235</td><td>false</td><td>414</td><td>66</td><td>89</td><td>13</td><td>0</td><td>1</td><td>0</td><td>0</td><td>0</td><td>12</td><td>34</td></tr><tr><td>6751118</td><td>9789473</td><td>1135532</td><td>2023-06-01 10:46:30</td><td>21.0</td><td>null</td><td>1</td><td>false</td><td>null</td><td>null</td><td>null</td><td>false</td><td>401592</td><td>false</td><td>118</td><td>60</td><td>0</td><td>0</td><td>0</td><td>1</td><td>0</td><td>0</td><td>0</td><td>31</td><td>72</td></tr></tbody></table></div>"
      ],
      "text/plain": [
       "shape: (5, 25)\n",
       "┌────────────┬─────────┬─────────┬────────────┬───┬────────────┬───────────┬───────────┬───────────┐\n",
       "│ impression ┆ article ┆ user_id ┆ impression ┆ … ┆ is_inside_ ┆ is_inside ┆ window_ca ┆ window_to │\n",
       "│ _id        ┆ ---     ┆ ---     ┆ _time      ┆   ┆ window_2   ┆ _window_3 ┆ tegory_sc ┆ pics_scor │\n",
       "│ ---        ┆ i32     ┆ u32     ┆ ---        ┆   ┆ ---        ┆ ---       ┆ ore       ┆ e         │\n",
       "│ u32        ┆         ┆         ┆ datetime[μ ┆   ┆ i8         ┆ i8        ┆ ---       ┆ ---       │\n",
       "│            ┆         ┆         ┆ s]         ┆   ┆            ┆           ┆ i64       ┆ i64       │\n",
       "╞════════════╪═════════╪═════════╪════════════╪═══╪════════════╪═══════════╪═══════════╪═══════════╡\n",
       "│ 6771620    ┆ 9775978 ┆ 1201634 ┆ 2023-06-01 ┆ … ┆ 0          ┆ 0         ┆ 6         ┆ 6         │\n",
       "│            ┆         ┆         ┆ 10:16:12   ┆   ┆            ┆           ┆           ┆           │\n",
       "│ 6770473    ┆ 9484153 ┆ 1197966 ┆ 2023-06-01 ┆ … ┆ 0          ┆ 0         ┆ 6         ┆ 10        │\n",
       "│            ┆         ┆         ┆ 10:57:12   ┆   ┆            ┆           ┆           ┆           │\n",
       "│ 6903814    ┆ 9791494 ┆ 1336983 ┆ 2023-06-01 ┆ … ┆ 0          ┆ 0         ┆ 4         ┆ 6         │\n",
       "│            ┆         ┆         ┆ 10:26:16   ┆   ┆            ┆           ┆           ┆           │\n",
       "│ 6864721    ┆ 9790762 ┆ 1221306 ┆ 2023-06-01 ┆ … ┆ 0          ┆ 0         ┆ 12        ┆ 34        │\n",
       "│            ┆         ┆         ┆ 10:20:14   ┆   ┆            ┆           ┆           ┆           │\n",
       "│ 6751118    ┆ 9789473 ┆ 1135532 ┆ 2023-06-01 ┆ … ┆ 0          ┆ 0         ┆ 31        ┆ 72        │\n",
       "│            ┆         ┆         ┆ 10:46:30   ┆   ┆            ┆           ┆           ┆           │\n",
       "└────────────┴─────────┴─────────┴────────────┴───┴────────────┴───────────┴───────────┴───────────┘"
      ]
     },
     "execution_count": 32,
     "metadata": {},
     "output_type": "execute_result"
    }
   ],
   "source": [
    "from polimi.utils._catboost import add_window_features\n",
    "\n",
    "tmp = add_window_features(first_behaviors, articles=articles, user_windows=user_windows,\n",
    "                          user_category_windows=user_category_windows, user_topics_windows=user_topics_windows, windows=windows)\n",
    "tmp.head()"
   ]
  },
  {
   "cell_type": "code",
   "execution_count": 35,
   "metadata": {},
   "outputs": [
    {
     "data": {
      "text/html": [
       "<div><style>\n",
       ".dataframe > thead > tr,\n",
       ".dataframe > tbody > tr {\n",
       "  text-align: right;\n",
       "  white-space: pre-wrap;\n",
       "}\n",
       "</style>\n",
       "<small>shape: (5, 16)</small><table border=\"1\" class=\"dataframe\"><thead><tr><th>impression_id</th><th>impression_time</th><th>read_time</th><th>scroll_percentage</th><th>device_type</th><th>article</th><th>user_id</th><th>is_sso_user</th><th>gender</th><th>postcode</th><th>age</th><th>is_subscriber</th><th>session_id</th><th>is_beyond_accuracy</th><th>category</th><th>trendiness_score_category</th></tr><tr><td>u32</td><td>datetime[μs]</td><td>f32</td><td>f32</td><td>i8</td><td>i32</td><td>u32</td><td>bool</td><td>i8</td><td>i8</td><td>i8</td><td>bool</td><td>u32</td><td>bool</td><td>i16</td><td>i64</td></tr></thead><tbody><tr><td>6451339</td><td>2023-06-05 15:02:49</td><td>8.0</td><td>null</td><td>2</td><td>9796527</td><td>35982</td><td>false</td><td>null</td><td>null</td><td>null</td><td>false</td><td>388</td><td>false</td><td>414</td><td>42</td></tr><tr><td>6451339</td><td>2023-06-05 15:02:49</td><td>8.0</td><td>null</td><td>2</td><td>7851321</td><td>35982</td><td>false</td><td>null</td><td>null</td><td>null</td><td>false</td><td>388</td><td>false</td><td>457</td><td>9</td></tr><tr><td>6451339</td><td>2023-06-05 15:02:49</td><td>8.0</td><td>null</td><td>2</td><td>9798805</td><td>35982</td><td>false</td><td>null</td><td>null</td><td>null</td><td>false</td><td>388</td><td>false</td><td>142</td><td>129</td></tr><tr><td>6451339</td><td>2023-06-05 15:02:49</td><td>8.0</td><td>null</td><td>2</td><td>9795150</td><td>35982</td><td>false</td><td>null</td><td>null</td><td>null</td><td>false</td><td>388</td><td>false</td><td>498</td><td>8</td></tr><tr><td>6451339</td><td>2023-06-05 15:02:49</td><td>8.0</td><td>null</td><td>2</td><td>9531110</td><td>35982</td><td>false</td><td>null</td><td>null</td><td>null</td><td>false</td><td>388</td><td>false</td><td>572</td><td>0</td></tr></tbody></table></div>"
      ],
      "text/plain": [
       "shape: (5, 16)\n",
       "┌───────────┬───────────┬───────────┬───────────┬───┬───────────┬───────────┬──────────┬───────────┐\n",
       "│ impressio ┆ impressio ┆ read_time ┆ scroll_pe ┆ … ┆ session_i ┆ is_beyond ┆ category ┆ trendines │\n",
       "│ n_id      ┆ n_time    ┆ ---       ┆ rcentage  ┆   ┆ d         ┆ _accuracy ┆ ---      ┆ s_score_c │\n",
       "│ ---       ┆ ---       ┆ f32       ┆ ---       ┆   ┆ ---       ┆ ---       ┆ i16      ┆ ategory   │\n",
       "│ u32       ┆ datetime[ ┆           ┆ f32       ┆   ┆ u32       ┆ bool      ┆          ┆ ---       │\n",
       "│           ┆ μs]       ┆           ┆           ┆   ┆           ┆           ┆          ┆ i64       │\n",
       "╞═══════════╪═══════════╪═══════════╪═══════════╪═══╪═══════════╪═══════════╪══════════╪═══════════╡\n",
       "│ 6451339   ┆ 2023-06-0 ┆ 8.0       ┆ null      ┆ … ┆ 388       ┆ false     ┆ 414      ┆ 42        │\n",
       "│           ┆ 5         ┆           ┆           ┆   ┆           ┆           ┆          ┆           │\n",
       "│           ┆ 15:02:49  ┆           ┆           ┆   ┆           ┆           ┆          ┆           │\n",
       "│ 6451339   ┆ 2023-06-0 ┆ 8.0       ┆ null      ┆ … ┆ 388       ┆ false     ┆ 457      ┆ 9         │\n",
       "│           ┆ 5         ┆           ┆           ┆   ┆           ┆           ┆          ┆           │\n",
       "│           ┆ 15:02:49  ┆           ┆           ┆   ┆           ┆           ┆          ┆           │\n",
       "│ 6451339   ┆ 2023-06-0 ┆ 8.0       ┆ null      ┆ … ┆ 388       ┆ false     ┆ 142      ┆ 129       │\n",
       "│           ┆ 5         ┆           ┆           ┆   ┆           ┆           ┆          ┆           │\n",
       "│           ┆ 15:02:49  ┆           ┆           ┆   ┆           ┆           ┆          ┆           │\n",
       "│ 6451339   ┆ 2023-06-0 ┆ 8.0       ┆ null      ┆ … ┆ 388       ┆ false     ┆ 498      ┆ 8         │\n",
       "│           ┆ 5         ┆           ┆           ┆   ┆           ┆           ┆          ┆           │\n",
       "│           ┆ 15:02:49  ┆           ┆           ┆   ┆           ┆           ┆          ┆           │\n",
       "│ 6451339   ┆ 2023-06-0 ┆ 8.0       ┆ null      ┆ … ┆ 388       ┆ false     ┆ 572      ┆ 0         │\n",
       "│           ┆ 5         ┆           ┆           ┆   ┆           ┆           ┆          ┆           │\n",
       "│           ┆ 15:02:49  ┆           ┆           ┆   ┆           ┆           ┆          ┆           │\n",
       "└───────────┴───────────┴───────────┴───────────┴───┴───────────┴───────────┴──────────┴───────────┘"
      ]
     },
     "execution_count": 35,
     "metadata": {},
     "output_type": "execute_result"
    }
   ],
   "source": [
    "from polimi.utils._catboost import add_trendiness_feature_categories\n",
    "\n",
    "tmp = add_trendiness_feature_categories(first_behaviors, articles=articles)\n",
    "tmp.head()"
   ]
  },
  {
   "cell_type": "code",
   "execution_count": 36,
   "metadata": {},
   "outputs": [],
   "source": [
    "from polimi.utils._topic_model import _compute_topic_model, add_topic_model_features\n",
    "\n",
    "articles, topic_model_columns, n_components = _compute_topic_model(articles)"
   ]
  },
  {
   "cell_type": "code",
   "execution_count": 5,
   "metadata": {},
   "outputs": [
    {
     "data": {
      "text/html": [
       "<div><style>\n",
       ".dataframe > thead > tr,\n",
       ".dataframe > tbody > tr {\n",
       "  text-align: right;\n",
       "  white-space: pre-wrap;\n",
       "}\n",
       "</style>\n",
       "<small>shape: (5, 134)</small><table border=\"1\" class=\"dataframe\"><thead><tr><th>impression_id</th><th>article</th><th>user_id</th><th>device_type</th><th>read_time</th><th>scroll_percentage</th><th>is_sso_user</th><th>gender</th><th>age</th><th>is_subscriber</th><th>trendiness_score</th><th>weekday</th><th>hour</th><th>premium</th><th>category</th><th>sentiment_score</th><th>sentiment_label</th><th>num_images</th><th>title_len</th><th>subtitle_len</th><th>body_len</th><th>num_topics</th><th>article_delay_days</th><th>article_delay_hours</th><th>Entity_MISC_Present</th><th>Entity_EVENT_Present</th><th>Entity_PROD_Present</th><th>Entity_LOC_Present</th><th>Entity_PER_Present</th><th>Entity_ORG_Present</th><th>last_session_duration</th><th>mean_prev_sessions_duration</th><th>last_session_time_hour_diff</th><th>is_new_article</th><th>is_already_seen_article</th><th>yesterday_category_daily_pct</th><th>MeanCommonEntities</th><th>&hellip;</th><th>Category_eblive_Pct</th><th>Category_nationen_Pct</th><th>Category_webtv_Pct</th><th>mean_user_trendiness_score</th><th>mean_topics_trendiness_score</th><th>mean_topics_mean_delay_days</th><th>mean_topics_mean_delay_hours</th><th>user_mean_delay_days</th><th>user_mean_delay_hours</th><th>window_0_history_length</th><th>window_1_history_length</th><th>window_2_history_length</th><th>window_3_history_length</th><th>is_inside_window_0</th><th>is_inside_window_1</th><th>is_inside_window_2</th><th>is_inside_window_3</th><th>window_category_score</th><th>window_topics_score</th><th>trendiness_score_category</th><th>endorsement_10h</th><th>weighted_mean_JS</th><th>mean_topic_model_cosine</th><th>min_topic_model_cosine</th><th>max_topic_model_cosine</th><th>std_topic_model_cosine</th><th>weighted_mean_topic_model_cosine</th><th>lda_0_history_mean</th><th>lda_1_history_mean</th><th>lda_2_history_mean</th><th>lda_3_history_mean</th><th>lda_4_history_mean</th><th>lda_0_history_weighted_mean</th><th>lda_1_history_weighted_mean</th><th>lda_2_history_weighted_mean</th><th>lda_3_history_weighted_mean</th><th>lda_4_history_weighted_mean</th></tr><tr><td>u32</td><td>i32</td><td>u32</td><td>i8</td><td>f32</td><td>f32</td><td>bool</td><td>i8</td><td>i8</td><td>bool</td><td>i16</td><td>i8</td><td>i8</td><td>bool</td><td>i16</td><td>f32</td><td>str</td><td>u32</td><td>u8</td><td>u8</td><td>u16</td><td>u32</td><td>i16</td><td>i32</td><td>bool</td><td>bool</td><td>bool</td><td>bool</td><td>bool</td><td>bool</td><td>i8</td><td>f32</td><td>i16</td><td>bool</td><td>bool</td><td>f32</td><td>f32</td><td>&hellip;</td><td>f32</td><td>f32</td><td>f32</td><td>f32</td><td>f32</td><td>f32</td><td>f32</td><td>f32</td><td>f32</td><td>i16</td><td>i16</td><td>i16</td><td>i16</td><td>i8</td><td>i8</td><td>i8</td><td>i8</td><td>i16</td><td>i16</td><td>i16</td><td>u32</td><td>f32</td><td>f32</td><td>f32</td><td>f32</td><td>f32</td><td>f32</td><td>f32</td><td>f32</td><td>f32</td><td>f32</td><td>f32</td><td>f32</td><td>f32</td><td>f32</td><td>f32</td><td>f32</td></tr></thead><tbody><tr><td>11230301</td><td>9799855</td><td>427589</td><td>2</td><td>57.0</td><td>100.0</td><td>false</td><td>2</td><td>null</td><td>false</td><td>90</td><td>2</td><td>9</td><td>false</td><td>140</td><td>0.9928</td><td>&quot;Negative&quot;</td><td>3</td><td>8</td><td>14</td><td>116</td><td>2</td><td>0</td><td>2</td><td>false</td><td>false</td><td>false</td><td>true</td><td>false</td><td>true</td><td>4</td><td>2.0</td><td>-1</td><td>true</td><td>false</td><td>0.095588</td><td>1.678492</td><td>&hellip;</td><td>0.0</td><td>0.031042</td><td>0.0</td><td>270.822601</td><td>159.673538</td><td>10.314176</td><td>250.133575</td><td>0.782705</td><td>20.015522</td><td>214</td><td>165</td><td>46</td><td>90</td><td>1</td><td>0</td><td>0</td><td>0</td><td>28</td><td>48</td><td>41</td><td>58345</td><td>0.071677</td><td>0.633874</td><td>0.343739</td><td>0.992009</td><td>0.156899</td><td>0.637088</td><td>0.214694</td><td>0.20209</td><td>0.191833</td><td>0.184846</td><td>0.206536</td><td>0.210978</td><td>0.201837</td><td>0.192399</td><td>0.184665</td><td>0.210121</td></tr><tr><td>11333603</td><td>9723463</td><td>1889461</td><td>1</td><td>5.0</td><td>null</td><td>false</td><td>2</td><td>null</td><td>false</td><td>109</td><td>5</td><td>16</td><td>true</td><td>140</td><td>0.9947</td><td>&quot;Negative&quot;</td><td>3</td><td>10</td><td>28</td><td>644</td><td>2</td><td>46</td><td>1109</td><td>false</td><td>false</td><td>false</td><td>true</td><td>true</td><td>true</td><td>0</td><td>24.0</td><td>91</td><td>true</td><td>false</td><td>0.093458</td><td>2.432584</td><td>&hellip;</td><td>0.0</td><td>0.05618</td><td>0.0</td><td>260.224731</td><td>159.673538</td><td>10.314176</td><td>250.133575</td><td>13.679775</td><td>332.174164</td><td>113</td><td>21</td><td>58</td><td>0</td><td>0</td><td>1</td><td>0</td><td>0</td><td>5</td><td>4</td><td>66</td><td>17753</td><td>0.175799</td><td>0.766521</td><td>0.453279</td><td>0.986871</td><td>0.128774</td><td>0.781457</td><td>0.213027</td><td>0.203066</td><td>0.197815</td><td>0.211772</td><td>0.174321</td><td>0.223674</td><td>0.187681</td><td>0.209476</td><td>0.207566</td><td>0.171603</td></tr><tr><td>11722234</td><td>9150716</td><td>831016</td><td>1</td><td>5.0</td><td>100.0</td><td>false</td><td>2</td><td>null</td><td>false</td><td>74</td><td>2</td><td>5</td><td>true</td><td>118</td><td>0.9251</td><td>&quot;Negative&quot;</td><td>8</td><td>9</td><td>28</td><td>637</td><td>2</td><td>461</td><td>11083</td><td>false</td><td>false</td><td>false</td><td>true</td><td>true</td><td>true</td><td>0</td><td>0.0</td><td>130</td><td>true</td><td>false</td><td>0.264706</td><td>2.538084</td><td>&hellip;</td><td>0.0</td><td>0.019656</td><td>0.0</td><td>257.565125</td><td>231.568527</td><td>4.084684</td><td>100.429886</td><td>5.761671</td><td>141.476654</td><td>186</td><td>212</td><td>67</td><td>52</td><td>1</td><td>0</td><td>0</td><td>1</td><td>54</td><td>46</td><td>81</td><td>868</td><td>0.047805</td><td>0.797375</td><td>0.473681</td><td>0.991765</td><td>0.111155</td><td>0.801913</td><td>0.185105</td><td>0.189249</td><td>0.203301</td><td>0.212684</td><td>0.209661</td><td>0.182894</td><td>0.19127</td><td>0.198274</td><td>0.217642</td><td>0.20992</td></tr><tr><td>24057696</td><td>9796026</td><td>625535</td><td>2</td><td>41.0</td><td>null</td><td>false</td><td>2</td><td>null</td><td>false</td><td>69</td><td>7</td><td>4</td><td>false</td><td>140</td><td>0.4445</td><td>&quot;Neutral&quot;</td><td>5</td><td>7</td><td>19</td><td>195</td><td>1</td><td>0</td><td>7</td><td>false</td><td>false</td><td>false</td><td>true</td><td>false</td><td>true</td><td>0</td><td>0.0</td><td>71</td><td>false</td><td>false</td><td>0.115646</td><td>1.659341</td><td>&hellip;</td><td>0.0</td><td>0.03022</td><td>0.0</td><td>338.645599</td><td>167.210571</td><td>9.276292</td><td>225.225952</td><td>0.994505</td><td>24.835165</td><td>143</td><td>137</td><td>73</td><td>88</td><td>0</td><td>0</td><td>0</td><td>1</td><td>9</td><td>6</td><td>54</td><td>82536</td><td>0.032359</td><td>0.65799</td><td>0.387192</td><td>0.999121</td><td>0.14561</td><td>0.658474</td><td>0.217047</td><td>0.197962</td><td>0.199272</td><td>0.184683</td><td>0.201036</td><td>0.220132</td><td>0.192884</td><td>0.200857</td><td>0.186457</td><td>0.199671</td></tr><tr><td>12105875</td><td>9796427</td><td>1091256</td><td>2</td><td>8.0</td><td>null</td><td>false</td><td>2</td><td>null</td><td>false</td><td>373</td><td>7</td><td>6</td><td>false</td><td>142</td><td>0.721</td><td>&quot;Neutral&quot;</td><td>2</td><td>6</td><td>32</td><td>202</td><td>5</td><td>0</td><td>1</td><td>true</td><td>true</td><td>true</td><td>true</td><td>true</td><td>true</td><td>0</td><td>0.0</td><td>81</td><td>false</td><td>false</td><td>0.29932</td><td>3.44697</td><td>&hellip;</td><td>0.0</td><td>0.022727</td><td>0.0</td><td>296.462128</td><td>405.686554</td><td>3.983051</td><td>98.066086</td><td>61.477272</td><td>1477.363647</td><td>42</td><td>56</td><td>51</td><td>8</td><td>1</td><td>0</td><td>0</td><td>0</td><td>7</td><td>21</td><td>117</td><td>52590</td><td>0.108616</td><td>0.821465</td><td>0.486297</td><td>0.99698</td><td>0.123902</td><td>0.828238</td><td>0.21366</td><td>0.195038</td><td>0.21236</td><td>0.168822</td><td>0.21012</td><td>0.22152</td><td>0.189936</td><td>0.212239</td><td>0.174516</td><td>0.20179</td></tr></tbody></table></div>"
      ],
      "text/plain": [
       "shape: (5, 134)\n",
       "┌────────────┬─────────┬─────────┬────────────┬───┬────────────┬───────────┬───────────┬───────────┐\n",
       "│ impression ┆ article ┆ user_id ┆ device_typ ┆ … ┆ lda_1_hist ┆ lda_2_his ┆ lda_3_his ┆ lda_4_his │\n",
       "│ _id        ┆ ---     ┆ ---     ┆ e          ┆   ┆ ory_weight ┆ tory_weig ┆ tory_weig ┆ tory_weig │\n",
       "│ ---        ┆ i32     ┆ u32     ┆ ---        ┆   ┆ ed_mean    ┆ hted_mean ┆ hted_mean ┆ hted_mean │\n",
       "│ u32        ┆         ┆         ┆ i8         ┆   ┆ ---        ┆ ---       ┆ ---       ┆ ---       │\n",
       "│            ┆         ┆         ┆            ┆   ┆ f32        ┆ f32       ┆ f32       ┆ f32       │\n",
       "╞════════════╪═════════╪═════════╪════════════╪═══╪════════════╪═══════════╪═══════════╪═══════════╡\n",
       "│ 11230301   ┆ 9799855 ┆ 427589  ┆ 2          ┆ … ┆ 0.201837   ┆ 0.192399  ┆ 0.184665  ┆ 0.210121  │\n",
       "│ 11333603   ┆ 9723463 ┆ 1889461 ┆ 1          ┆ … ┆ 0.187681   ┆ 0.209476  ┆ 0.207566  ┆ 0.171603  │\n",
       "│ 11722234   ┆ 9150716 ┆ 831016  ┆ 1          ┆ … ┆ 0.19127    ┆ 0.198274  ┆ 0.217642  ┆ 0.20992   │\n",
       "│ 24057696   ┆ 9796026 ┆ 625535  ┆ 2          ┆ … ┆ 0.192884   ┆ 0.200857  ┆ 0.186457  ┆ 0.199671  │\n",
       "│ 12105875   ┆ 9796427 ┆ 1091256 ┆ 2          ┆ … ┆ 0.189936   ┆ 0.212239  ┆ 0.174516  ┆ 0.20179   │\n",
       "└────────────┴─────────┴─────────┴────────────┴───┴────────────┴───────────┴───────────┴───────────┘"
      ]
     },
     "execution_count": 5,
     "metadata": {},
     "output_type": "execute_result"
    }
   ],
   "source": [
    "import polars as pl\n",
    "\n",
    "tmp = pl.read_parquet('/home/ubuntu/experiments/preprocessing_test_2024-05-07_17-07-46/Sliced_ds/test_slice_2.parquet')\n",
    "tmp.head()"
   ]
  }
 ],
 "metadata": {
  "kernelspec": {
   "display_name": ".venv",
   "language": "python",
   "name": "python3"
  },
  "language_info": {
   "codemirror_mode": {
    "name": "ipython",
    "version": 3
   },
   "file_extension": ".py",
   "mimetype": "text/x-python",
   "name": "python",
   "nbconvert_exporter": "python",
   "pygments_lexer": "ipython3",
   "version": "3.10.12"
  }
 },
 "nbformat": 4,
 "nbformat_minor": 2
}
