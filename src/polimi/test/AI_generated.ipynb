{
 "cells": [
  {
   "cell_type": "code",
   "execution_count": 6,
   "metadata": {},
   "outputs": [],
   "source": [
    "import polars as pl\n",
    "import gc"
   ]
  },
  {
   "cell_type": "code",
   "execution_count": 2,
   "metadata": {},
   "outputs": [],
   "source": [
    "articles = pl.read_parquet(\"/home/ubuntu/dataset/ebnerd_large/articles.parquet\")"
   ]
  },
  {
   "cell_type": "code",
   "execution_count": 9,
   "metadata": {},
   "outputs": [
    {
     "data": {
      "text/html": [
       "<div><style>\n",
       ".dataframe > thead > tr,\n",
       ".dataframe > tbody > tr {\n",
       "  text-align: right;\n",
       "  white-space: pre-wrap;\n",
       "}\n",
       "</style>\n",
       "<small>shape: (3_513, 2)</small><table border=\"1\" class=\"dataframe\"><thead><tr><th>article_id</th><th>url</th></tr><tr><td>i32</td><td>str</td></tr></thead><tbody><tr><td>9601214</td><td>&quot;https://ekstrabladet.dk/auto/m…</td></tr><tr><td>9601617</td><td>&quot;https://ekstrabladet.dk/auto/m…</td></tr><tr><td>9601648</td><td>&quot;https://ekstrabladet.dk/auto/m…</td></tr><tr><td>9601779</td><td>&quot;https://ekstrabladet.dk/auto/m…</td></tr><tr><td>9614274</td><td>&quot;https://ekstrabladet.dk/auto/m…</td></tr><tr><td>&hellip;</td><td>&hellip;</td></tr><tr><td>9802625</td><td>&quot;https://ekstrabladet.dk/auto/m…</td></tr><tr><td>9802650</td><td>&quot;https://ekstrabladet.dk/auto/m…</td></tr><tr><td>9802878</td><td>&quot;https://ekstrabladet.dk/auto/m…</td></tr><tr><td>9802918</td><td>&quot;https://ekstrabladet.dk/auto/m…</td></tr><tr><td>9803510</td><td>&quot;https://ekstrabladet.dk/auto/m…</td></tr></tbody></table></div>"
      ],
      "text/plain": [
       "shape: (3_513, 2)\n",
       "┌────────────┬─────────────────────────────────┐\n",
       "│ article_id ┆ url                             │\n",
       "│ ---        ┆ ---                             │\n",
       "│ i32        ┆ str                             │\n",
       "╞════════════╪═════════════════════════════════╡\n",
       "│ 9601214    ┆ https://ekstrabladet.dk/auto/m… │\n",
       "│ 9601617    ┆ https://ekstrabladet.dk/auto/m… │\n",
       "│ 9601648    ┆ https://ekstrabladet.dk/auto/m… │\n",
       "│ 9601779    ┆ https://ekstrabladet.dk/auto/m… │\n",
       "│ 9614274    ┆ https://ekstrabladet.dk/auto/m… │\n",
       "│ …          ┆ …                               │\n",
       "│ 9802625    ┆ https://ekstrabladet.dk/auto/m… │\n",
       "│ 9802650    ┆ https://ekstrabladet.dk/auto/m… │\n",
       "│ 9802878    ┆ https://ekstrabladet.dk/auto/m… │\n",
       "│ 9802918    ┆ https://ekstrabladet.dk/auto/m… │\n",
       "│ 9803510    ┆ https://ekstrabladet.dk/auto/m… │\n",
       "└────────────┴─────────────────────────────────┘"
      ]
     },
     "execution_count": 9,
     "metadata": {},
     "output_type": "execute_result"
    }
   ],
   "source": [
    "generated_articles = articles.select([\"article_id\",\"url\"]).filter(pl.col(\"url\").str.contains(\"/auto/magna\"))\n",
    "generated_articles"
   ]
  },
  {
   "cell_type": "code",
   "execution_count": 5,
   "metadata": {},
   "outputs": [],
   "source": [
    "behaviors_train = pl.read_parquet(\"/home/ubuntu/dataset/ebnerd_large/train/behaviors.parquet\")"
   ]
  },
  {
   "cell_type": "code",
   "execution_count": 13,
   "metadata": {},
   "outputs": [],
   "source": [
    "behaviors_train = behaviors_train.select([\"article_ids_inview\",\"article_ids_clicked\"]).explode([\"article_ids_inview\"]) \\\n",
    ".rename({\"article_ids_inview\":\"article_id\"}) \\\n",
    ".with_columns(\n",
    "    pl.col(\"article_ids_clicked\").list.contains(pl.col(\"article_id\")).alias(\"target\")\n",
    ").drop(\"article_ids_clicked\")"
   ]
  },
  {
   "cell_type": "code",
   "execution_count": 14,
   "metadata": {},
   "outputs": [
    {
     "data": {
      "text/html": [
       "<div><style>\n",
       ".dataframe > thead > tr,\n",
       ".dataframe > tbody > tr {\n",
       "  text-align: right;\n",
       "  white-space: pre-wrap;\n",
       "}\n",
       "</style>\n",
       "<small>shape: (133_810_641, 2)</small><table border=\"1\" class=\"dataframe\"><thead><tr><th>article_id</th><th>target</th></tr><tr><td>i32</td><td>bool</td></tr></thead><tbody><tr><td>9482380</td><td>false</td></tr><tr><td>9775183</td><td>true</td></tr><tr><td>9744403</td><td>false</td></tr><tr><td>9775297</td><td>false</td></tr><tr><td>9774020</td><td>false</td></tr><tr><td>&hellip;</td><td>&hellip;</td></tr><tr><td>9233208</td><td>false</td></tr><tr><td>9769917</td><td>false</td></tr><tr><td>9767697</td><td>false</td></tr><tr><td>9770369</td><td>false</td></tr><tr><td>9769306</td><td>false</td></tr></tbody></table></div>"
      ],
      "text/plain": [
       "shape: (133_810_641, 2)\n",
       "┌────────────┬────────┐\n",
       "│ article_id ┆ target │\n",
       "│ ---        ┆ ---    │\n",
       "│ i32        ┆ bool   │\n",
       "╞════════════╪════════╡\n",
       "│ 9482380    ┆ false  │\n",
       "│ 9775183    ┆ true   │\n",
       "│ 9744403    ┆ false  │\n",
       "│ 9775297    ┆ false  │\n",
       "│ 9774020    ┆ false  │\n",
       "│ …          ┆ …      │\n",
       "│ 9233208    ┆ false  │\n",
       "│ 9769917    ┆ false  │\n",
       "│ 9767697    ┆ false  │\n",
       "│ 9770369    ┆ false  │\n",
       "│ 9769306    ┆ false  │\n",
       "└────────────┴────────┘"
      ]
     },
     "execution_count": 14,
     "metadata": {},
     "output_type": "execute_result"
    }
   ],
   "source": [
    "behaviors_train"
   ]
  },
  {
   "cell_type": "code",
   "execution_count": 15,
   "metadata": {},
   "outputs": [
    {
     "data": {
      "text/html": [
       "<div><style>\n",
       ".dataframe > thead > tr,\n",
       ".dataframe > tbody > tr {\n",
       "  text-align: right;\n",
       "  white-space: pre-wrap;\n",
       "}\n",
       "</style>\n",
       "<small>shape: (351, 3)</small><table border=\"1\" class=\"dataframe\"><thead><tr><th>article_id</th><th>target</th><th>url</th></tr><tr><td>i32</td><td>bool</td><td>str</td></tr></thead><tbody><tr><td>9775754</td><td>false</td><td>&quot;https://ekstrabladet.dk/auto/m…</td></tr><tr><td>9775754</td><td>false</td><td>&quot;https://ekstrabladet.dk/auto/m…</td></tr><tr><td>9775754</td><td>false</td><td>&quot;https://ekstrabladet.dk/auto/m…</td></tr><tr><td>9775754</td><td>false</td><td>&quot;https://ekstrabladet.dk/auto/m…</td></tr><tr><td>9773257</td><td>false</td><td>&quot;https://ekstrabladet.dk/auto/m…</td></tr><tr><td>&hellip;</td><td>&hellip;</td><td>&hellip;</td></tr><tr><td>9772010</td><td>false</td><td>&quot;https://ekstrabladet.dk/auto/m…</td></tr><tr><td>9767376</td><td>false</td><td>&quot;https://ekstrabladet.dk/auto/m…</td></tr><tr><td>9729475</td><td>true</td><td>&quot;https://ekstrabladet.dk/auto/m…</td></tr><tr><td>9772470</td><td>false</td><td>&quot;https://ekstrabladet.dk/auto/m…</td></tr><tr><td>9772010</td><td>false</td><td>&quot;https://ekstrabladet.dk/auto/m…</td></tr></tbody></table></div>"
      ],
      "text/plain": [
       "shape: (351, 3)\n",
       "┌────────────┬────────┬─────────────────────────────────┐\n",
       "│ article_id ┆ target ┆ url                             │\n",
       "│ ---        ┆ ---    ┆ ---                             │\n",
       "│ i32        ┆ bool   ┆ str                             │\n",
       "╞════════════╪════════╪═════════════════════════════════╡\n",
       "│ 9775754    ┆ false  ┆ https://ekstrabladet.dk/auto/m… │\n",
       "│ 9775754    ┆ false  ┆ https://ekstrabladet.dk/auto/m… │\n",
       "│ 9775754    ┆ false  ┆ https://ekstrabladet.dk/auto/m… │\n",
       "│ 9775754    ┆ false  ┆ https://ekstrabladet.dk/auto/m… │\n",
       "│ 9773257    ┆ false  ┆ https://ekstrabladet.dk/auto/m… │\n",
       "│ …          ┆ …      ┆ …                               │\n",
       "│ 9772010    ┆ false  ┆ https://ekstrabladet.dk/auto/m… │\n",
       "│ 9767376    ┆ false  ┆ https://ekstrabladet.dk/auto/m… │\n",
       "│ 9729475    ┆ true   ┆ https://ekstrabladet.dk/auto/m… │\n",
       "│ 9772470    ┆ false  ┆ https://ekstrabladet.dk/auto/m… │\n",
       "│ 9772010    ┆ false  ┆ https://ekstrabladet.dk/auto/m… │\n",
       "└────────────┴────────┴─────────────────────────────────┘"
      ]
     },
     "execution_count": 15,
     "metadata": {},
     "output_type": "execute_result"
    }
   ],
   "source": [
    "behaviors_train.join(generated_articles, on=\"article_id\",how=\"inner\")"
   ]
  },
  {
   "cell_type": "code",
   "execution_count": 27,
   "metadata": {},
   "outputs": [],
   "source": [
    "behaviors_val = pl.read_parquet(\"/home/ubuntu/dataset/ebnerd_large/validation/behaviors.parquet\")"
   ]
  },
  {
   "cell_type": "code",
   "execution_count": 28,
   "metadata": {},
   "outputs": [],
   "source": [
    "behaviors_val = behaviors_val.select([\"article_ids_inview\",\"article_ids_clicked\"]).explode([\"article_ids_inview\"]) \\\n",
    ".rename({\"article_ids_inview\":\"article_id\"}) \\\n",
    ".with_columns(\n",
    "    pl.col(\"article_ids_clicked\").list.contains(pl.col(\"article_id\")).alias(\"target\")\n",
    ").drop(\"article_ids_clicked\")"
   ]
  },
  {
   "cell_type": "code",
   "execution_count": 29,
   "metadata": {},
   "outputs": [
    {
     "data": {
      "text/html": [
       "<div><style>\n",
       ".dataframe > thead > tr,\n",
       ".dataframe > tbody > tr {\n",
       "  text-align: right;\n",
       "  white-space: pre-wrap;\n",
       "}\n",
       "</style>\n",
       "<small>shape: (150_228_869, 2)</small><table border=\"1\" class=\"dataframe\"><thead><tr><th>article_id</th><th>target</th></tr><tr><td>i32</td><td>bool</td></tr></thead><tbody><tr><td>9230405</td><td>false</td></tr><tr><td>9784793</td><td>false</td></tr><tr><td>9784803</td><td>false</td></tr><tr><td>9784275</td><td>false</td></tr><tr><td>9782726</td><td>false</td></tr><tr><td>&hellip;</td><td>&hellip;</td></tr><tr><td>9784138</td><td>false</td></tr><tr><td>9783850</td><td>false</td></tr><tr><td>9782836</td><td>false</td></tr><tr><td>9279095</td><td>false</td></tr><tr><td>9782763</td><td>true</td></tr></tbody></table></div>"
      ],
      "text/plain": [
       "shape: (150_228_869, 2)\n",
       "┌────────────┬────────┐\n",
       "│ article_id ┆ target │\n",
       "│ ---        ┆ ---    │\n",
       "│ i32        ┆ bool   │\n",
       "╞════════════╪════════╡\n",
       "│ 9230405    ┆ false  │\n",
       "│ 9784793    ┆ false  │\n",
       "│ 9784803    ┆ false  │\n",
       "│ 9784275    ┆ false  │\n",
       "│ 9782726    ┆ false  │\n",
       "│ …          ┆ …      │\n",
       "│ 9784138    ┆ false  │\n",
       "│ 9783850    ┆ false  │\n",
       "│ 9782836    ┆ false  │\n",
       "│ 9279095    ┆ false  │\n",
       "│ 9782763    ┆ true   │\n",
       "└────────────┴────────┘"
      ]
     },
     "execution_count": 29,
     "metadata": {},
     "output_type": "execute_result"
    }
   ],
   "source": [
    "behaviors_val"
   ]
  },
  {
   "cell_type": "code",
   "execution_count": 30,
   "metadata": {},
   "outputs": [
    {
     "data": {
      "text/html": [
       "<div><style>\n",
       ".dataframe > thead > tr,\n",
       ".dataframe > tbody > tr {\n",
       "  text-align: right;\n",
       "  white-space: pre-wrap;\n",
       "}\n",
       "</style>\n",
       "<small>shape: (377, 3)</small><table border=\"1\" class=\"dataframe\"><thead><tr><th>article_id</th><th>target</th><th>url</th></tr><tr><td>i32</td><td>bool</td><td>str</td></tr></thead><tbody><tr><td>9789890</td><td>false</td><td>&quot;https://ekstrabladet.dk/auto/m…</td></tr><tr><td>9782485</td><td>false</td><td>&quot;https://ekstrabladet.dk/auto/m…</td></tr><tr><td>9782485</td><td>false</td><td>&quot;https://ekstrabladet.dk/auto/m…</td></tr><tr><td>9738052</td><td>false</td><td>&quot;https://ekstrabladet.dk/auto/m…</td></tr><tr><td>9767273</td><td>false</td><td>&quot;https://ekstrabladet.dk/auto/m…</td></tr><tr><td>&hellip;</td><td>&hellip;</td><td>&hellip;</td></tr><tr><td>9780917</td><td>false</td><td>&quot;https://ekstrabladet.dk/auto/m…</td></tr><tr><td>9780917</td><td>false</td><td>&quot;https://ekstrabladet.dk/auto/m…</td></tr><tr><td>9769604</td><td>false</td><td>&quot;https://ekstrabladet.dk/auto/m…</td></tr><tr><td>9772421</td><td>false</td><td>&quot;https://ekstrabladet.dk/auto/m…</td></tr><tr><td>9776745</td><td>false</td><td>&quot;https://ekstrabladet.dk/auto/m…</td></tr></tbody></table></div>"
      ],
      "text/plain": [
       "shape: (377, 3)\n",
       "┌────────────┬────────┬─────────────────────────────────┐\n",
       "│ article_id ┆ target ┆ url                             │\n",
       "│ ---        ┆ ---    ┆ ---                             │\n",
       "│ i32        ┆ bool   ┆ str                             │\n",
       "╞════════════╪════════╪═════════════════════════════════╡\n",
       "│ 9789890    ┆ false  ┆ https://ekstrabladet.dk/auto/m… │\n",
       "│ 9782485    ┆ false  ┆ https://ekstrabladet.dk/auto/m… │\n",
       "│ 9782485    ┆ false  ┆ https://ekstrabladet.dk/auto/m… │\n",
       "│ 9738052    ┆ false  ┆ https://ekstrabladet.dk/auto/m… │\n",
       "│ 9767273    ┆ false  ┆ https://ekstrabladet.dk/auto/m… │\n",
       "│ …          ┆ …      ┆ …                               │\n",
       "│ 9780917    ┆ false  ┆ https://ekstrabladet.dk/auto/m… │\n",
       "│ 9780917    ┆ false  ┆ https://ekstrabladet.dk/auto/m… │\n",
       "│ 9769604    ┆ false  ┆ https://ekstrabladet.dk/auto/m… │\n",
       "│ 9772421    ┆ false  ┆ https://ekstrabladet.dk/auto/m… │\n",
       "│ 9776745    ┆ false  ┆ https://ekstrabladet.dk/auto/m… │\n",
       "└────────────┴────────┴─────────────────────────────────┘"
      ]
     },
     "execution_count": 30,
     "metadata": {},
     "output_type": "execute_result"
    }
   ],
   "source": [
    "behaviors_val.join(generated_articles, on=\"article_id\",how=\"inner\")"
   ]
  },
  {
   "cell_type": "code",
   "execution_count": 23,
   "metadata": {},
   "outputs": [
    {
     "data": {
      "text/html": [
       "<div><style>\n",
       ".dataframe > thead > tr,\n",
       ".dataframe > tbody > tr {\n",
       "  text-align: right;\n",
       "  white-space: pre-wrap;\n",
       "}\n",
       "</style>\n",
       "<small>shape: (13_536_710, 14)</small><table border=\"1\" class=\"dataframe\"><thead><tr><th>impression_id</th><th>impression_time</th><th>read_time</th><th>scroll_percentage</th><th>device_type</th><th>article_ids_inview</th><th>user_id</th><th>is_sso_user</th><th>gender</th><th>postcode</th><th>age</th><th>is_subscriber</th><th>session_id</th><th>is_beyond_accuracy</th></tr><tr><td>u32</td><td>datetime[μs]</td><td>f32</td><td>f32</td><td>i8</td><td>list[i32]</td><td>u32</td><td>bool</td><td>i8</td><td>i8</td><td>i8</td><td>bool</td><td>u32</td><td>bool</td></tr></thead><tbody><tr><td>6451339</td><td>2023-06-05 15:02:49</td><td>8.0</td><td>null</td><td>2</td><td>[9796527, 7851321, … 9492777]</td><td>35982</td><td>false</td><td>null</td><td>null</td><td>null</td><td>false</td><td>388</td><td>false</td></tr><tr><td>6451363</td><td>2023-06-05 15:03:56</td><td>20.0</td><td>null</td><td>2</td><td>[9798532, 9791602, … 9798958]</td><td>36012</td><td>false</td><td>null</td><td>null</td><td>null</td><td>false</td><td>804</td><td>false</td></tr><tr><td>6451382</td><td>2023-06-05 15:25:53</td><td>9.0</td><td>null</td><td>2</td><td>[9798498, 9793856, … 9798724]</td><td>36162</td><td>false</td><td>null</td><td>null</td><td>null</td><td>false</td><td>1528</td><td>false</td></tr><tr><td>6451383</td><td>2023-06-05 15:26:35</td><td>14.0</td><td>null</td><td>2</td><td>[9797419, 9798829, … 9798805]</td><td>36162</td><td>false</td><td>null</td><td>null</td><td>null</td><td>false</td><td>1528</td><td>false</td></tr><tr><td>6451385</td><td>2023-06-05 15:26:14</td><td>8.0</td><td>null</td><td>2</td><td>[9785014, 9798958, … 9486080]</td><td>36162</td><td>false</td><td>null</td><td>null</td><td>null</td><td>false</td><td>1528</td><td>false</td></tr><tr><td>&hellip;</td><td>&hellip;</td><td>&hellip;</td><td>&hellip;</td><td>&hellip;</td><td>&hellip;</td><td>&hellip;</td><td>&hellip;</td><td>&hellip;</td><td>&hellip;</td><td>&hellip;</td><td>&hellip;</td><td>&hellip;</td><td>&hellip;</td></tr><tr><td>0</td><td>2023-06-01 07:00:01</td><td>0.0</td><td>null</td><td>0</td><td>[9793163, 9793069, … 9789545]</td><td>1589163</td><td>false</td><td>null</td><td>null</td><td>null</td><td>false</td><td>0</td><td>true</td></tr><tr><td>0</td><td>2023-06-01 07:00:01</td><td>0.0</td><td>null</td><td>0</td><td>[9793163, 9793069, … 9789545]</td><td>1699456</td><td>false</td><td>null</td><td>null</td><td>null</td><td>false</td><td>0</td><td>true</td></tr><tr><td>0</td><td>2023-06-01 07:00:01</td><td>0.0</td><td>null</td><td>0</td><td>[9793163, 9793069, … 9789545]</td><td>635479</td><td>false</td><td>null</td><td>null</td><td>null</td><td>false</td><td>0</td><td>true</td></tr><tr><td>0</td><td>2023-06-01 07:00:01</td><td>0.0</td><td>null</td><td>0</td><td>[9793163, 9793069, … 9789545]</td><td>251030</td><td>false</td><td>null</td><td>null</td><td>null</td><td>false</td><td>0</td><td>true</td></tr><tr><td>0</td><td>2023-06-01 07:00:01</td><td>0.0</td><td>null</td><td>0</td><td>[9793163, 9793069, … 9789545]</td><td>1225161</td><td>false</td><td>null</td><td>null</td><td>null</td><td>false</td><td>0</td><td>true</td></tr></tbody></table></div>"
      ],
      "text/plain": [
       "shape: (13_536_710, 14)\n",
       "┌────────────┬────────────┬───────────┬────────────┬───┬──────┬────────────┬───────────┬───────────┐\n",
       "│ impression ┆ impression ┆ read_time ┆ scroll_per ┆ … ┆ age  ┆ is_subscri ┆ session_i ┆ is_beyond │\n",
       "│ _id        ┆ _time      ┆ ---       ┆ centage    ┆   ┆ ---  ┆ ber        ┆ d         ┆ _accuracy │\n",
       "│ ---        ┆ ---        ┆ f32       ┆ ---        ┆   ┆ i8   ┆ ---        ┆ ---       ┆ ---       │\n",
       "│ u32        ┆ datetime[μ ┆           ┆ f32        ┆   ┆      ┆ bool       ┆ u32       ┆ bool      │\n",
       "│            ┆ s]         ┆           ┆            ┆   ┆      ┆            ┆           ┆           │\n",
       "╞════════════╪════════════╪═══════════╪════════════╪═══╪══════╪════════════╪═══════════╪═══════════╡\n",
       "│ 6451339    ┆ 2023-06-05 ┆ 8.0       ┆ null       ┆ … ┆ null ┆ false      ┆ 388       ┆ false     │\n",
       "│            ┆ 15:02:49   ┆           ┆            ┆   ┆      ┆            ┆           ┆           │\n",
       "│ 6451363    ┆ 2023-06-05 ┆ 20.0      ┆ null       ┆ … ┆ null ┆ false      ┆ 804       ┆ false     │\n",
       "│            ┆ 15:03:56   ┆           ┆            ┆   ┆      ┆            ┆           ┆           │\n",
       "│ 6451382    ┆ 2023-06-05 ┆ 9.0       ┆ null       ┆ … ┆ null ┆ false      ┆ 1528      ┆ false     │\n",
       "│            ┆ 15:25:53   ┆           ┆            ┆   ┆      ┆            ┆           ┆           │\n",
       "│ 6451383    ┆ 2023-06-05 ┆ 14.0      ┆ null       ┆ … ┆ null ┆ false      ┆ 1528      ┆ false     │\n",
       "│            ┆ 15:26:35   ┆           ┆            ┆   ┆      ┆            ┆           ┆           │\n",
       "│ 6451385    ┆ 2023-06-05 ┆ 8.0       ┆ null       ┆ … ┆ null ┆ false      ┆ 1528      ┆ false     │\n",
       "│            ┆ 15:26:14   ┆           ┆            ┆   ┆      ┆            ┆           ┆           │\n",
       "│ …          ┆ …          ┆ …         ┆ …          ┆ … ┆ …    ┆ …          ┆ …         ┆ …         │\n",
       "│ 0          ┆ 2023-06-01 ┆ 0.0       ┆ null       ┆ … ┆ null ┆ false      ┆ 0         ┆ true      │\n",
       "│            ┆ 07:00:01   ┆           ┆            ┆   ┆      ┆            ┆           ┆           │\n",
       "│ 0          ┆ 2023-06-01 ┆ 0.0       ┆ null       ┆ … ┆ null ┆ false      ┆ 0         ┆ true      │\n",
       "│            ┆ 07:00:01   ┆           ┆            ┆   ┆      ┆            ┆           ┆           │\n",
       "│ 0          ┆ 2023-06-01 ┆ 0.0       ┆ null       ┆ … ┆ null ┆ false      ┆ 0         ┆ true      │\n",
       "│            ┆ 07:00:01   ┆           ┆            ┆   ┆      ┆            ┆           ┆           │\n",
       "│ 0          ┆ 2023-06-01 ┆ 0.0       ┆ null       ┆ … ┆ null ┆ false      ┆ 0         ┆ true      │\n",
       "│            ┆ 07:00:01   ┆           ┆            ┆   ┆      ┆            ┆           ┆           │\n",
       "│ 0          ┆ 2023-06-01 ┆ 0.0       ┆ null       ┆ … ┆ null ┆ false      ┆ 0         ┆ true      │\n",
       "│            ┆ 07:00:01   ┆           ┆            ┆   ┆      ┆            ┆           ┆           │\n",
       "└────────────┴────────────┴───────────┴────────────┴───┴──────┴────────────┴───────────┴───────────┘"
      ]
     },
     "execution_count": 23,
     "metadata": {},
     "output_type": "execute_result"
    }
   ],
   "source": [
    "behaviors_test = pl.read_parquet(\"/home/ubuntu/dataset/ebnerd_testset/test/behaviors.parquet\")\n",
    "behaviors_test"
   ]
  },
  {
   "cell_type": "code",
   "execution_count": 24,
   "metadata": {},
   "outputs": [
    {
     "data": {
      "text/html": [
       "<div><style>\n",
       ".dataframe > thead > tr,\n",
       ".dataframe > tbody > tr {\n",
       "  text-align: right;\n",
       "  white-space: pre-wrap;\n",
       "}\n",
       "</style>\n",
       "<small>shape: (205_925_868, 2)</small><table border=\"1\" class=\"dataframe\"><thead><tr><th>impression_id</th><th>article_id</th></tr><tr><td>u32</td><td>i32</td></tr></thead><tbody><tr><td>6451339</td><td>9796527</td></tr><tr><td>6451339</td><td>7851321</td></tr><tr><td>6451339</td><td>9798805</td></tr><tr><td>6451339</td><td>9795150</td></tr><tr><td>6451339</td><td>9531110</td></tr><tr><td>&hellip;</td><td>&hellip;</td></tr><tr><td>0</td><td>9792362</td></tr><tr><td>0</td><td>9788041</td></tr><tr><td>0</td><td>9790135</td></tr><tr><td>0</td><td>9792408</td></tr><tr><td>0</td><td>9789545</td></tr></tbody></table></div>"
      ],
      "text/plain": [
       "shape: (205_925_868, 2)\n",
       "┌───────────────┬────────────┐\n",
       "│ impression_id ┆ article_id │\n",
       "│ ---           ┆ ---        │\n",
       "│ u32           ┆ i32        │\n",
       "╞═══════════════╪════════════╡\n",
       "│ 6451339       ┆ 9796527    │\n",
       "│ 6451339       ┆ 7851321    │\n",
       "│ 6451339       ┆ 9798805    │\n",
       "│ 6451339       ┆ 9795150    │\n",
       "│ 6451339       ┆ 9531110    │\n",
       "│ …             ┆ …          │\n",
       "│ 0             ┆ 9792362    │\n",
       "│ 0             ┆ 9788041    │\n",
       "│ 0             ┆ 9790135    │\n",
       "│ 0             ┆ 9792408    │\n",
       "│ 0             ┆ 9789545    │\n",
       "└───────────────┴────────────┘"
      ]
     },
     "execution_count": 24,
     "metadata": {},
     "output_type": "execute_result"
    }
   ],
   "source": [
    "behaviors_test = behaviors_test.select([\"impression_id\",\"article_ids_inview\"]).explode([\"article_ids_inview\"]) \\\n",
    ".rename({\"article_ids_inview\":\"article_id\"})\n",
    "behaviors_test"
   ]
  },
  {
   "cell_type": "code",
   "execution_count": 26,
   "metadata": {},
   "outputs": [
    {
     "data": {
      "text/html": [
       "<div><style>\n",
       ".dataframe > thead > tr,\n",
       ".dataframe > tbody > tr {\n",
       "  text-align: right;\n",
       "  white-space: pre-wrap;\n",
       "}\n",
       "</style>\n",
       "<small>shape: (395, 3)</small><table border=\"1\" class=\"dataframe\"><thead><tr><th>impression_id</th><th>article_id</th><th>url</th></tr><tr><td>u32</td><td>i32</td><td>str</td></tr></thead><tbody><tr><td>9815875</td><td>9800965</td><td>&quot;https://ekstrabladet.dk/auto/m…</td></tr><tr><td>9815877</td><td>9800965</td><td>&quot;https://ekstrabladet.dk/auto/m…</td></tr><tr><td>9815880</td><td>9800965</td><td>&quot;https://ekstrabladet.dk/auto/m…</td></tr><tr><td>9815883</td><td>9800965</td><td>&quot;https://ekstrabladet.dk/auto/m…</td></tr><tr><td>11369842</td><td>9794680</td><td>&quot;https://ekstrabladet.dk/auto/m…</td></tr><tr><td>&hellip;</td><td>&hellip;</td><td>&hellip;</td></tr><tr><td>532822873</td><td>9786010</td><td>&quot;https://ekstrabladet.dk/auto/m…</td></tr><tr><td>532822873</td><td>9791788</td><td>&quot;https://ekstrabladet.dk/auto/m…</td></tr><tr><td>532822873</td><td>9788406</td><td>&quot;https://ekstrabladet.dk/auto/m…</td></tr><tr><td>532888599</td><td>9797195</td><td>&quot;https://ekstrabladet.dk/auto/m…</td></tr><tr><td>532888599</td><td>9796674</td><td>&quot;https://ekstrabladet.dk/auto/m…</td></tr></tbody></table></div>"
      ],
      "text/plain": [
       "shape: (395, 3)\n",
       "┌───────────────┬────────────┬─────────────────────────────────┐\n",
       "│ impression_id ┆ article_id ┆ url                             │\n",
       "│ ---           ┆ ---        ┆ ---                             │\n",
       "│ u32           ┆ i32        ┆ str                             │\n",
       "╞═══════════════╪════════════╪═════════════════════════════════╡\n",
       "│ 9815875       ┆ 9800965    ┆ https://ekstrabladet.dk/auto/m… │\n",
       "│ 9815877       ┆ 9800965    ┆ https://ekstrabladet.dk/auto/m… │\n",
       "│ 9815880       ┆ 9800965    ┆ https://ekstrabladet.dk/auto/m… │\n",
       "│ 9815883       ┆ 9800965    ┆ https://ekstrabladet.dk/auto/m… │\n",
       "│ 11369842      ┆ 9794680    ┆ https://ekstrabladet.dk/auto/m… │\n",
       "│ …             ┆ …          ┆ …                               │\n",
       "│ 532822873     ┆ 9786010    ┆ https://ekstrabladet.dk/auto/m… │\n",
       "│ 532822873     ┆ 9791788    ┆ https://ekstrabladet.dk/auto/m… │\n",
       "│ 532822873     ┆ 9788406    ┆ https://ekstrabladet.dk/auto/m… │\n",
       "│ 532888599     ┆ 9797195    ┆ https://ekstrabladet.dk/auto/m… │\n",
       "│ 532888599     ┆ 9796674    ┆ https://ekstrabladet.dk/auto/m… │\n",
       "└───────────────┴────────────┴─────────────────────────────────┘"
      ]
     },
     "execution_count": 26,
     "metadata": {},
     "output_type": "execute_result"
    }
   ],
   "source": [
    "behaviors_test.join(generated_articles, on=\"article_id\",how=\"inner\").filter(pl.col(\"impression_id\")!=0)"
   ]
  }
 ],
 "metadata": {
  "kernelspec": {
   "display_name": ".venv",
   "language": "python",
   "name": "python3"
  },
  "language_info": {
   "codemirror_mode": {
    "name": "ipython",
    "version": 3
   },
   "file_extension": ".py",
   "mimetype": "text/x-python",
   "name": "python",
   "nbconvert_exporter": "python",
   "pygments_lexer": "ipython3",
   "version": "3.10.12"
  }
 },
 "nbformat": 4,
 "nbformat_minor": 2
}
