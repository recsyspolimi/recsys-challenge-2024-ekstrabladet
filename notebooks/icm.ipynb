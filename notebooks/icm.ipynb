{
 "cells": [
  {
   "cell_type": "code",
   "execution_count": 36,
   "metadata": {},
   "outputs": [],
   "source": [
    "import polars as pl\n",
    "import numpy as np\n",
    "import pandas as pd\n",
    "import matplotlib.pyplot as plt\n",
    "import seaborn as sns\n",
    "from pathlib import Path\n",
    "import polars as pl\n",
    "import scipy.stats as stats\n",
    "import scipy.sparse as sps\n",
    "import gc\n",
    "import tqdm\n",
    "from polimi.utils._custom import save_sparse_csr"
   ]
  },
  {
   "cell_type": "code",
   "execution_count": 37,
   "metadata": {},
   "outputs": [
    {
     "name": "stdout",
     "output_type": "stream",
     "text": [
      "\u001b[1m\u001b[31m\n",
      "RAM memory GB usage = 2.591\u001b[0m\n"
     ]
    }
   ],
   "source": [
    "from os import system, getpid, walk\n",
    "from psutil import Process\n",
    "from colorama import Fore, Style, init\n",
    "from IPython.display import display, HTML\n",
    "\n",
    "def PrintColor(text:str, color = Fore.BLUE, style = Style.BRIGHT):\n",
    "    print(style + color + text + Style.RESET_ALL)\n",
    "    \n",
    "def GetMemUsage():   \n",
    "    pid = getpid()\n",
    "    py = Process(pid)\n",
    "    memory_use = py.memory_info()[0] / 2. ** 30\n",
    "    return f\"RAM memory GB usage = {memory_use :.4}\"\n",
    "\n",
    "PrintColor(f\"\\n\" + GetMemUsage(), color = Fore.RED)"
   ]
  },
  {
   "cell_type": "code",
   "execution_count": 38,
   "metadata": {},
   "outputs": [],
   "source": [
    "def reduce_polars_df_memory_size(df, set_categorical=True):\n",
    "\n",
    "    start_mem = df.estimated_size('mb')\n",
    "    print('Memory usage of dataframe is {:.2f} MB'.format(start_mem))\n",
    "    \n",
    "    for col in df.columns:\n",
    "        col_type = df[col].dtype\n",
    "        \n",
    "        if col_type in [pl.Int16, pl.Int32, pl.Int64]:\n",
    "            c_min = df[col].fill_null(0).min()\n",
    "            c_max = df[col].fill_null(0).max()\n",
    "            if c_min > np.iinfo(np.int8).min and c_max < np.iinfo(np.int8).max:\n",
    "                df = df.with_columns(pl.col(col).cast(pl.Int8))\n",
    "            elif c_min > np.iinfo(np.int16).min and c_max < np.iinfo(np.int16).max:\n",
    "                df = df.with_columns(pl.col(col).cast(pl.Int16))\n",
    "            elif c_min > np.iinfo(np.int32).min and c_max < np.iinfo(np.int32).max:\n",
    "                df = df.with_columns(pl.col(col).cast(pl.Int32))\n",
    "        elif col_type in [pl.UInt16, pl.UInt32, pl.UInt64]:\n",
    "            c_min = df[col].fill_null(0).min()\n",
    "            c_max = df[col].fill_null(0).max()\n",
    "            if c_min > np.iinfo(np.uint8).min and c_max < np.iinfo(np.uint8).max:\n",
    "                df = df.with_columns(pl.col(col).cast(pl.UInt8))\n",
    "            elif c_min > np.iinfo(np.uint16).min and c_max < np.iinfo(np.uint16).max:\n",
    "                df = df.with_columns(pl.col(col).cast(pl.UInt16))\n",
    "            elif c_min > np.iinfo(np.uint32).min and c_max < np.iinfo(np.uint32).max:\n",
    "                df = df.with_columns(pl.col(col).cast(pl.UInt32))\n",
    "        elif col_type == pl.Float64:\n",
    "            c_min = df[col].fill_null(0).min()\n",
    "            c_max = df[col].fill_null(0).max()\n",
    "            if c_min > np.finfo(np.float32).min and c_max < np.finfo(np.float32).max:\n",
    "                df = df.with_columns(pl.col(col).cast(pl.Float32))\n",
    "\n",
    "    gc.collect()\n",
    "    end_mem = df.estimated_size('mb')\n",
    "    print('Memory usage after optimization is: {:.2f} MB'.format(end_mem))\n",
    "    print('Decreased by {:.1f}%'.format(100 * (start_mem - end_mem) / start_mem))\n",
    "    \n",
    "    return df"
   ]
  },
  {
   "cell_type": "code",
   "execution_count": 31,
   "metadata": {},
   "outputs": [
    {
     "name": "stdout",
     "output_type": "stream",
     "text": [
      "\u001b[1m\u001b[31m\n",
      "RAM memory GB usage = 2.231\u001b[0m\n"
     ]
    }
   ],
   "source": [
    "articles = pl.read_parquet('/home/ubuntu/dataset/ebnerd_small/articles.parquet')\n",
    "\n",
    "behaviors_train = pl.read_parquet('/home/ubuntu/dataset/ebnerd_small/train/behaviors.parquet')\n",
    "history_train = pl.read_parquet('/home/ubuntu/dataset/ebnerd_small/train/history.parquet')\n",
    "\n",
    "behaviors_val = pl.read_parquet('/home/ubuntu/dataset/ebnerd_small/validation/behaviors.parquet')\n",
    "history_val = pl.read_parquet('/home/ubuntu/dataset/ebnerd_small/validation/history.parquet')\n",
    "\n",
    "contrastive_vector = pl.read_parquet('/home/ubuntu/dataset/Ekstra_Bladet_contrastive_vector/contrastive_vector.parquet')\n",
    "\n",
    "gc.collect()\n",
    "PrintColor(f\"\\n\" + GetMemUsage(), color = Fore.RED)"
   ]
  },
  {
   "cell_type": "code",
   "execution_count": 32,
   "metadata": {},
   "outputs": [
    {
     "data": {
      "text/html": [
       "<div><style>\n",
       ".dataframe > thead > tr,\n",
       ".dataframe > tbody > tr {\n",
       "  text-align: right;\n",
       "  white-space: pre-wrap;\n",
       "}\n",
       "</style>\n",
       "<small>shape: (20_738, 2)</small><table border=\"1\" class=\"dataframe\"><thead><tr><th>article_index</th><th>article_id</th></tr><tr><td>u32</td><td>i32</td></tr></thead><tbody><tr><td>0</td><td>3001353</td></tr><tr><td>1</td><td>3003065</td></tr><tr><td>2</td><td>3012771</td></tr><tr><td>3</td><td>3023463</td></tr><tr><td>4</td><td>3032577</td></tr><tr><td>&hellip;</td><td>&hellip;</td></tr><tr><td>20733</td><td>9803492</td></tr><tr><td>20734</td><td>9803505</td></tr><tr><td>20735</td><td>9803525</td></tr><tr><td>20736</td><td>9803560</td></tr><tr><td>20737</td><td>9803607</td></tr></tbody></table></div>"
      ],
      "text/plain": [
       "shape: (20_738, 2)\n",
       "┌───────────────┬────────────┐\n",
       "│ article_index ┆ article_id │\n",
       "│ ---           ┆ ---        │\n",
       "│ u32           ┆ i32        │\n",
       "╞═══════════════╪════════════╡\n",
       "│ 0             ┆ 3001353    │\n",
       "│ 1             ┆ 3003065    │\n",
       "│ 2             ┆ 3012771    │\n",
       "│ 3             ┆ 3023463    │\n",
       "│ 4             ┆ 3032577    │\n",
       "│ …             ┆ …          │\n",
       "│ 20733         ┆ 9803492    │\n",
       "│ 20734         ┆ 9803505    │\n",
       "│ 20735         ┆ 9803525    │\n",
       "│ 20736         ┆ 9803560    │\n",
       "│ 20737         ┆ 9803607    │\n",
       "└───────────────┴────────────┘"
      ]
     },
     "execution_count": 32,
     "metadata": {},
     "output_type": "execute_result"
    }
   ],
   "source": [
    "articles_mapping = articles.select('article_id').with_row_index().rename({'index': 'article_index'})\n",
    "articles_mapping"
   ]
  },
  {
   "cell_type": "code",
   "execution_count": 33,
   "metadata": {},
   "outputs": [
    {
     "name": "stderr",
     "output_type": "stream",
     "text": [
      "/tmp/ipykernel_126061/1601828010.py:2: DeprecationWarning: `apply` is deprecated. It has been renamed to `map_elements`.\n",
      "  pl.col(\"contrastive_vector\").apply(lambda lst : list(range(len(lst)))).alias(\"indici\")\n",
      "/tmp/ipykernel_126061/1601828010.py:1: MapWithoutReturnDtypeWarning: Calling `map_elements` without specifying `return_dtype` can lead to unpredictable results. Specify `return_dtype` to silence this warning.\n",
      "  ICM_dataframe = contrastive_vector.join(articles, on='article_id').select(['article_id','contrastive_vector']).with_columns(\n"
     ]
    },
    {
     "data": {
      "text/html": [
       "<div><style>\n",
       ".dataframe > thead > tr,\n",
       ".dataframe > tbody > tr {\n",
       "  text-align: right;\n",
       "  white-space: pre-wrap;\n",
       "}\n",
       "</style>\n",
       "<small>shape: (15_926_784, 3)</small><table border=\"1\" class=\"dataframe\"><thead><tr><th>contrastive_vector</th><th>feature_id</th><th>article_index</th></tr><tr><td>f32</td><td>i64</td><td>u32</td></tr></thead><tbody><tr><td>0.014536</td><td>0</td><td>0</td></tr><tr><td>0.013818</td><td>1</td><td>0</td></tr><tr><td>0.01941</td><td>2</td><td>0</td></tr><tr><td>-0.071472</td><td>3</td><td>0</td></tr><tr><td>-0.012827</td><td>4</td><td>0</td></tr><tr><td>&hellip;</td><td>&hellip;</td><td>&hellip;</td></tr><tr><td>0.005754</td><td>763</td><td>20737</td></tr><tr><td>0.028954</td><td>764</td><td>20737</td></tr><tr><td>0.004138</td><td>765</td><td>20737</td></tr><tr><td>0.004545</td><td>766</td><td>20737</td></tr><tr><td>0.093679</td><td>767</td><td>20737</td></tr></tbody></table></div>"
      ],
      "text/plain": [
       "shape: (15_926_784, 3)\n",
       "┌────────────────────┬────────────┬───────────────┐\n",
       "│ contrastive_vector ┆ feature_id ┆ article_index │\n",
       "│ ---                ┆ ---        ┆ ---           │\n",
       "│ f32                ┆ i64        ┆ u32           │\n",
       "╞════════════════════╪════════════╪═══════════════╡\n",
       "│ 0.014536           ┆ 0          ┆ 0             │\n",
       "│ 0.013818           ┆ 1          ┆ 0             │\n",
       "│ 0.01941            ┆ 2          ┆ 0             │\n",
       "│ -0.071472          ┆ 3          ┆ 0             │\n",
       "│ -0.012827          ┆ 4          ┆ 0             │\n",
       "│ …                  ┆ …          ┆ …             │\n",
       "│ 0.005754           ┆ 763        ┆ 20737         │\n",
       "│ 0.028954           ┆ 764        ┆ 20737         │\n",
       "│ 0.004138           ┆ 765        ┆ 20737         │\n",
       "│ 0.004545           ┆ 766        ┆ 20737         │\n",
       "│ 0.093679           ┆ 767        ┆ 20737         │\n",
       "└────────────────────┴────────────┴───────────────┘"
      ]
     },
     "execution_count": 33,
     "metadata": {},
     "output_type": "execute_result"
    }
   ],
   "source": [
    "ICM_dataframe = contrastive_vector.join(articles, on='article_id').select(['article_id','contrastive_vector']).with_columns(\n",
    "        pl.col(\"contrastive_vector\").apply(lambda lst : list(range(len(lst)))).alias(\"indici\")      \n",
    "    )\\\n",
    "    .explode(['contrastive_vector','indici'])\\\n",
    "    .rename({'indici': 'feature_id'})\\\n",
    "    .join(articles_mapping, on='article_id')\\\n",
    "    .drop('article_id')\n",
    "ICM_dataframe"
   ]
  },
  {
   "cell_type": "code",
   "execution_count": 8,
   "metadata": {},
   "outputs": [
    {
     "data": {
      "text/plain": [
       "'\\ncontrastive_vector = contrastive_vector.select(\\n    pl.exclude(\\'contrastive_vector\\'), \\n    *[pl.col(\\'contrastive_vector\\').list.get(x).alias(f\"feature_{x}\") \\n          for x in range(n_features)]\\n)\\n\\n\\ncontrastive_vector\\n'"
      ]
     },
     "execution_count": 8,
     "metadata": {},
     "output_type": "execute_result"
    }
   ],
   "source": [
    "\"\"\"\n",
    "contrastive_vector = contrastive_vector.select(\n",
    "    pl.exclude('contrastive_vector'), \n",
    "    *[pl.col('contrastive_vector').list.get(x).alias(f\"feature_{x}\") \n",
    "          for x in range(n_features)]\n",
    ")\n",
    "\n",
    "\n",
    "contrastive_vector\n",
    "\"\"\""
   ]
  },
  {
   "cell_type": "code",
   "execution_count": 34,
   "metadata": {},
   "outputs": [
    {
     "name": "stdout",
     "output_type": "stream",
     "text": [
      "n_articles:20738\n",
      "num_features: 768\n"
     ]
    }
   ],
   "source": [
    "n_articles = ICM_dataframe.select('article_index').n_unique()\n",
    "print(f'n_articles:{n_articles}')\n",
    "n_features = ICM_dataframe.select('feature_id').n_unique()\n",
    "print(f'num_features: {n_features}')"
   ]
  },
  {
   "cell_type": "code",
   "execution_count": 35,
   "metadata": {},
   "outputs": [
    {
     "data": {
      "text/plain": [
       "<20738x768 sparse matrix of type '<class 'numpy.float32'>'\n",
       "\twith 15926784 stored elements in Compressed Sparse Row format>"
      ]
     },
     "execution_count": 35,
     "metadata": {},
     "output_type": "execute_result"
    }
   ],
   "source": [
    "ICM = sps.csr_matrix((ICM_dataframe[\"contrastive_vector\"].to_numpy(), \n",
    "                          (ICM_dataframe[\"article_index\"].to_numpy(), ICM_dataframe[\"feature_id\"].to_numpy())),\n",
    "                        shape = (n_articles, n_features))\n",
    "\n",
    "ICM"
   ]
  },
  {
   "cell_type": "code",
   "execution_count": 40,
   "metadata": {},
   "outputs": [
    {
     "name": "stdout",
     "output_type": "stream",
     "text": [
      "File saved at: /home/ubuntu/recsys2024/icm/recsys/small/ICM.npz\n"
     ]
    }
   ],
   "source": [
    "save_sparse_csr(path=Path('/home/ubuntu/recsys2024/icm/recsys/small/ICM.npz'),array=ICM)"
   ]
  },
  {
   "cell_type": "code",
   "execution_count": 11,
   "metadata": {},
   "outputs": [],
   "source": [
    "from RecSys_Course_AT_PoliMi.Recommenders.KNN.ItemKNNCBFRecommender import ItemKNNCBFRecommender\n",
    "from RecSys_Course_AT_PoliMi.Recommenders.KNN.UserKNNCBFRecommender import UserKNNCBFRecommender\n",
    "from RecSys_Course_AT_PoliMi.Recommenders.KNN.ItemKNNCFRecommender import ItemKNNCFRecommender\n",
    "from RecSys_Course_AT_PoliMi.Recommenders.GraphBased.RP3betaRecommender import RP3betaRecommender\n",
    "from RecSys_Course_AT_PoliMi.Recommenders.MatrixFactorization.PureSVDRecommender import PureSVDRecommender, PureSVDItemRecommender\n"
   ]
  },
  {
   "cell_type": "code",
   "execution_count": 13,
   "metadata": {},
   "outputs": [
    {
     "name": "stdout",
     "output_type": "stream",
     "text": [
      "File loaded at: /home/ubuntu/recsys2024/urm/recsys/small/URM_train.npz\n",
      "File loaded at: /home/ubuntu/recsys2024/urm/recsys/small/URM_validation_train.npz\n",
      "File loaded at: /home/ubuntu/recsys2024/urm/recsys/small/URM_validation.npz\n",
      "File loaded at: /home/ubuntu/recsys2024/urm/recsys/small/URM_validation_validation.npz\n"
     ]
    }
   ],
   "source": [
    "from polimi.utils._custom import load_sparse_csr\n",
    "\n",
    "URM_train = load_sparse_csr(Path('/home/ubuntu/recsys2024/urm/recsys/small/URM_train.npz'))\n",
    "URM_validation_train = load_sparse_csr(Path('/home/ubuntu/recsys2024/urm/recsys/small/URM_validation_train.npz'))\n",
    "URM_validation = load_sparse_csr(Path('/home/ubuntu/recsys2024/urm/recsys/small/URM_validation.npz'))\n",
    "URM_validation_validation = load_sparse_csr(Path('/home/ubuntu/recsys2024/urm/recsys/small/URM_validation_validation.npz'))\n"
   ]
  },
  {
   "cell_type": "code",
   "execution_count": 14,
   "metadata": {},
   "outputs": [
    {
     "data": {
      "text/plain": [
       "(20738, 768)"
      ]
     },
     "execution_count": 14,
     "metadata": {},
     "output_type": "execute_result"
    }
   ],
   "source": [
    "ICM.shape"
   ]
  },
  {
   "cell_type": "code",
   "execution_count": 15,
   "metadata": {},
   "outputs": [
    {
     "data": {
      "text/plain": [
       "(18827, 20738)"
      ]
     },
     "execution_count": 15,
     "metadata": {},
     "output_type": "execute_result"
    }
   ],
   "source": [
    "URM_train.shape"
   ]
  },
  {
   "cell_type": "code",
   "execution_count": 16,
   "metadata": {},
   "outputs": [
    {
     "data": {
      "text/plain": [
       "(18827, 20738)"
      ]
     },
     "execution_count": 16,
     "metadata": {},
     "output_type": "execute_result"
    }
   ],
   "source": [
    "URM_validation_train.shape"
   ]
  },
  {
   "cell_type": "code",
   "execution_count": 17,
   "metadata": {},
   "outputs": [
    {
     "name": "stdout",
     "output_type": "stream",
     "text": [
      "PureSVDRecommender: URM Detected 3684 (19.6%) users with no interactions.\n",
      "PureSVDRecommender: URM Detected 11952 (57.6%) items with no interactions.\n",
      "PureSVDRecommender: Computing SVD decomposition...\n",
      "PureSVDRecommender: Computing SVD decomposition... done in 0.65 sec\n"
     ]
    }
   ],
   "source": [
    "svd = PureSVDRecommender(URM_train)\n",
    "svd.fit(num_factors = 15)"
   ]
  },
  {
   "cell_type": "code",
   "execution_count": 18,
   "metadata": {},
   "outputs": [
    {
     "name": "stdout",
     "output_type": "stream",
     "text": [
      "PureSVDItemRecommender: URM Detected 3684 (19.6%) users with no interactions.\n",
      "PureSVDItemRecommender: URM Detected 11952 (57.6%) items with no interactions.\n",
      "PureSVDItemRecommender: Computing SVD decomposition...\n",
      "PureSVDItemRecommender: Computing SVD decomposition... Done!\n"
     ]
    }
   ],
   "source": [
    "svd_item = PureSVDItemRecommender(URM_train)\n",
    "svd_item.fit(num_factors= 12, topK= 1391)"
   ]
  },
  {
   "cell_type": "code",
   "execution_count": 19,
   "metadata": {},
   "outputs": [
    {
     "name": "stdout",
     "output_type": "stream",
     "text": [
      "RP3betaRecommender: URM Detected 3684 (19.6%) users with no interactions.\n",
      "RP3betaRecommender: URM Detected 11952 (57.6%) items with no interactions.\n",
      "RP3betaRecommender: Similarity column 20738 (100.0%), 1503.42 column/sec. Elapsed time 13.79 sec\n"
     ]
    }
   ],
   "source": [
    "rp3 = RP3betaRecommender(URM_train)\n",
    "rp3.fit(topK= 797, normalize_similarity = True, alpha= 1.892317046771731, beta= 0.0699278679772357)"
   ]
  },
  {
   "cell_type": "code",
   "execution_count": 20,
   "metadata": {},
   "outputs": [
    {
     "name": "stdout",
     "output_type": "stream",
     "text": [
      "ItemKNNCBFRecommender: URM Detected 3684 (19.6%) users with no interactions.\n",
      "ItemKNNCBFRecommender: URM Detected 11952 (57.6%) items with no interactions.\n",
      "Compute_Similarity: detected dense matrix\n",
      "Similarity column 20738 (100.0%), 216.28 column/sec. Elapsed time 1.60 min\n"
     ]
    }
   ],
   "source": [
    "knn_icm = ItemKNNCBFRecommender(URM_train=URM_train, ICM_train=ICM)\n",
    "knn_icm.fit()"
   ]
  },
  {
   "cell_type": "code",
   "execution_count": 21,
   "metadata": {},
   "outputs": [
    {
     "name": "stdout",
     "output_type": "stream",
     "text": [
      "ItemKNNCFRecommender: URM Detected 3684 (19.6%) users with no interactions.\n",
      "ItemKNNCFRecommender: URM Detected 11952 (57.6%) items with no interactions.\n",
      "Similarity column 20738 (100.0%), 582.78 column/sec. Elapsed time 35.58 sec\n"
     ]
    }
   ],
   "source": [
    "knn = ItemKNNCFRecommender(URM_train=URM_train)\n",
    "knn.fit(similarity= 'euclidean', topK= 135, shrink= 751, normalize_avg_row= True, similarity_from_distance_mode= 'log', normalize= True)"
   ]
  },
  {
   "cell_type": "code",
   "execution_count": 22,
   "metadata": {},
   "outputs": [
    {
     "name": "stdout",
     "output_type": "stream",
     "text": [
      "EvaluatorHoldout: Ignoring 3684 (19.6%) Users that have less than 1 test interactions\n"
     ]
    }
   ],
   "source": [
    "from RecSys_Course_AT_PoliMi.Evaluation.Evaluator import EvaluatorHoldout\n",
    "evaluator_validation = EvaluatorHoldout(URM_validation_train, cutoff_list=[100])"
   ]
  },
  {
   "cell_type": "code",
   "execution_count": 23,
   "metadata": {},
   "outputs": [
    {
     "name": "stdout",
     "output_type": "stream",
     "text": [
      "EvaluatorHoldout: Processed 15143 (100.0%) in 17.93 sec. Users per second: 844\n"
     ]
    },
    {
     "data": {
      "text/plain": [
       "0.011670834446676565"
      ]
     },
     "execution_count": 23,
     "metadata": {},
     "output_type": "execute_result"
    }
   ],
   "source": [
    "result_df, _ = evaluator_validation.evaluateRecommender(knn_icm)\n",
    "result_df.loc[100][\"NDCG\"]"
   ]
  },
  {
   "cell_type": "code",
   "execution_count": 24,
   "metadata": {},
   "outputs": [
    {
     "name": "stdout",
     "output_type": "stream",
     "text": [
      "EvaluatorHoldout: Processed 15143 (100.0%) in 17.03 sec. Users per second: 889\n"
     ]
    },
    {
     "data": {
      "text/plain": [
       "0.0027220061292659616"
      ]
     },
     "execution_count": 24,
     "metadata": {},
     "output_type": "execute_result"
    }
   ],
   "source": [
    "result_df, _ = evaluator_validation.evaluateRecommender(knn)\n",
    "result_df.loc[100][\"NDCG\"]"
   ]
  },
  {
   "cell_type": "code",
   "execution_count": 25,
   "metadata": {},
   "outputs": [
    {
     "name": "stdout",
     "output_type": "stream",
     "text": [
      "EvaluatorHoldout: Processed 15143 (100.0%) in 16.34 sec. Users per second: 927\n"
     ]
    },
    {
     "data": {
      "text/plain": [
       "0.0035676075287137273"
      ]
     },
     "execution_count": 25,
     "metadata": {},
     "output_type": "execute_result"
    }
   ],
   "source": [
    "result_df, _ = evaluator_validation.evaluateRecommender(svd)\n",
    "result_df.loc[100][\"NDCG\"]"
   ]
  },
  {
   "cell_type": "code",
   "execution_count": 26,
   "metadata": {},
   "outputs": [
    {
     "name": "stdout",
     "output_type": "stream",
     "text": [
      "EvaluatorHoldout: Processed 15143 (100.0%) in 47.74 sec. Users per second: 317\n"
     ]
    },
    {
     "data": {
      "text/plain": [
       "0.004990688308022659"
      ]
     },
     "execution_count": 26,
     "metadata": {},
     "output_type": "execute_result"
    }
   ],
   "source": [
    "result_df, _ = evaluator_validation.evaluateRecommender(svd_item)\n",
    "result_df.loc[100][\"NDCG\"]"
   ]
  },
  {
   "cell_type": "code",
   "execution_count": 27,
   "metadata": {},
   "outputs": [
    {
     "name": "stdout",
     "output_type": "stream",
     "text": [
      "EvaluatorHoldout: Processed 15143 (100.0%) in 17.83 sec. Users per second: 849\n"
     ]
    },
    {
     "data": {
      "text/plain": [
       "0.005401973967436028"
      ]
     },
     "execution_count": 27,
     "metadata": {},
     "output_type": "execute_result"
    }
   ],
   "source": [
    "result_df, _ = evaluator_validation.evaluateRecommender(rp3)\n",
    "result_df.loc[100][\"NDCG\"]"
   ]
  }
 ],
 "metadata": {
  "kernelspec": {
   "display_name": ".venv",
   "language": "python",
   "name": "python3"
  },
  "language_info": {
   "codemirror_mode": {
    "name": "ipython",
    "version": 3
   },
   "file_extension": ".py",
   "mimetype": "text/x-python",
   "name": "python",
   "nbconvert_exporter": "python",
   "pygments_lexer": "ipython3",
   "version": "3.10.12"
  }
 },
 "nbformat": 4,
 "nbformat_minor": 2
}
