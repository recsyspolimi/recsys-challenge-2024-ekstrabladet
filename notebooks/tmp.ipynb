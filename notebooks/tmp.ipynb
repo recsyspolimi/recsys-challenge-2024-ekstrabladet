{
 "cells": [
  {
   "cell_type": "code",
   "execution_count": null,
   "metadata": {},
   "outputs": [],
   "source": [
    "import polars as pl\n",
    "\n",
    "behaviors = pl.read_parquet('/home/ubuntu/dataset/ebnerd_testset/test/behaviors.parquet')\n",
    "history = pl.read_parquet('/home/ubuntu/dataset/ebnerd_testset/test/history.parquet')\n",
    "articles = pl.read_parquet('/home/ubuntu/dataset/ebnerd_testset/articles.parquet')"
   ]
  },
  {
   "cell_type": "code",
   "execution_count": null,
   "metadata": {},
   "outputs": [],
   "source": [
    "behaviors.head()"
   ]
  },
  {
   "cell_type": "code",
   "execution_count": null,
   "metadata": {},
   "outputs": [],
   "source": [
    "from polimi.utils._catboost import _preprocessing_article_endorsement_feature\n",
    "\n",
    "articles_endorsement = _preprocessing_article_endorsement_feature(behaviors=behaviors, period=\"10h\")\n",
    "articles_endorsement.head()"
   ]
  },
  {
   "cell_type": "code",
   "execution_count": null,
   "metadata": {},
   "outputs": [],
   "source": [
    "behaviors.head()"
   ]
  },
  {
   "cell_type": "code",
   "execution_count": null,
   "metadata": {},
   "outputs": [],
   "source": [
    "behaviors.filter(pl.col('impression_id') == 0).shape[0]"
   ]
  },
  {
   "cell_type": "code",
   "execution_count": null,
   "metadata": {},
   "outputs": [],
   "source": [
    "from polimi.utils._catboost import _preprocessing_history_trendiness_scores\n",
    "\n",
    "users_mean_trendiness_scores, topics_mean_trendiness_scores = _preprocessing_history_trendiness_scores(\n",
    "        history=history, articles=articles)"
   ]
  },
  {
   "cell_type": "code",
   "execution_count": null,
   "metadata": {},
   "outputs": [],
   "source": [
    "users_mean_trendiness_scores.head()"
   ]
  },
  {
   "cell_type": "code",
   "execution_count": null,
   "metadata": {},
   "outputs": [],
   "source": [
    "topics_mean_trendiness_scores.head()"
   ]
  },
  {
   "cell_type": "code",
   "execution_count": null,
   "metadata": {},
   "outputs": [],
   "source": [
    "behaviors.head()"
   ]
  },
  {
   "cell_type": "code",
   "execution_count": null,
   "metadata": {},
   "outputs": [],
   "source": [
    "behaviors.filter(pl.col('impression_id') == 0).shape[0]"
   ]
  },
  {
   "cell_type": "code",
   "execution_count": null,
   "metadata": {},
   "outputs": [],
   "source": [
    "from polimi.utils._catboost import _preprocessing_mean_delay_features, _preprocessing_window_features\n",
    "\n",
    "topic_mean_delays, user_mean_delays = _preprocessing_mean_delay_features(\n",
    "        articles=articles, history=history)\n",
    "\n",
    "windows, user_windows, user_topics_windows, user_category_windows = _preprocessing_window_features(\n",
    "        history=history, articles=articles)"
   ]
  },
  {
   "cell_type": "code",
   "execution_count": null,
   "metadata": {},
   "outputs": [],
   "source": [
    "from polimi.utils._catboost import get_unique_categories\n",
    "\n",
    "unique_categories = get_unique_categories(articles)"
   ]
  },
  {
   "cell_type": "code",
   "execution_count": null,
   "metadata": {},
   "outputs": [],
   "source": [
    "user_category_windows.head()"
   ]
  },
  {
   "cell_type": "code",
   "execution_count": null,
   "metadata": {},
   "outputs": [],
   "source": [
    "slices_gen = behaviors.iter_slices(20000)"
   ]
  },
  {
   "cell_type": "code",
   "execution_count": null,
   "metadata": {},
   "outputs": [],
   "source": [
    "first_behaviors = next(slices_gen)"
   ]
  },
  {
   "cell_type": "code",
   "execution_count": null,
   "metadata": {},
   "outputs": [],
   "source": [
    "first_behaviors.head()"
   ]
  },
  {
   "cell_type": "code",
   "execution_count": null,
   "metadata": {},
   "outputs": [],
   "source": [
    "first_behaviors = first_behaviors.explode('article_ids_inview').rename({'article_ids_inview': 'article'})\n",
    "first_behaviors.head()"
   ]
  },
  {
   "cell_type": "code",
   "execution_count": null,
   "metadata": {},
   "outputs": [],
   "source": [
    "from polimi.utils._catboost import add_article_endorsement_feature\n",
    "\n",
    "end = add_article_endorsement_feature(first_behaviors, articles_endorsement)\n",
    "end.head()"
   ]
  },
  {
   "cell_type": "code",
   "execution_count": null,
   "metadata": {},
   "outputs": [],
   "source": [
    "from polimi.utils._catboost import add_history_trendiness_scores_feature\n",
    "\n",
    "topics = articles.select(\"topics\").explode(\"topics\").unique()\n",
    "topics = [topic for topic in topics[\"topics\"] if topic is not None]\n",
    "\n",
    "tmp = add_history_trendiness_scores_feature(\n",
    "    first_behaviors, articles=articles, users_mean_trendiness_scores=users_mean_trendiness_scores,\n",
    "    topics_mean_trendiness_scores=topics_mean_trendiness_scores, topics=topics)\n",
    "tmp.head()"
   ]
  },
  {
   "cell_type": "code",
   "execution_count": null,
   "metadata": {},
   "outputs": [],
   "source": [
    "from polimi.utils._catboost import add_mean_delays_features\n",
    "\n",
    "tmp = add_mean_delays_features(first_behaviors, articles=articles, topic_mean_delays=topic_mean_delays,\n",
    "                               user_mean_delays=user_mean_delays)\n",
    "tmp.head()"
   ]
  },
  {
   "cell_type": "code",
   "execution_count": null,
   "metadata": {},
   "outputs": [],
   "source": [
    "first_behaviors = first_behaviors.join(articles.select(['article_id', 'category']), left_on='article', right_on='article_id', how='left')\n",
    "first_behaviors.head()"
   ]
  },
  {
   "cell_type": "code",
   "execution_count": null,
   "metadata": {},
   "outputs": [],
   "source": [
    "from polimi.utils._catboost import add_window_features\n",
    "\n",
    "tmp = add_window_features(first_behaviors, articles=articles, user_windows=user_windows,\n",
    "                          user_category_windows=user_category_windows, user_topics_windows=user_topics_windows, windows=windows)\n",
    "tmp.head()"
   ]
  },
  {
   "cell_type": "code",
   "execution_count": null,
   "metadata": {},
   "outputs": [],
   "source": [
    "from polimi.utils._catboost import add_trendiness_feature_categories\n",
    "\n",
    "tmp = add_trendiness_feature_categories(first_behaviors, articles=articles)\n",
    "tmp.head()"
   ]
  },
  {
   "cell_type": "code",
   "execution_count": null,
   "metadata": {},
   "outputs": [],
   "source": [
    "from polimi.utils._topic_model import _compute_topic_model, add_topic_model_features\n",
    "\n",
    "articles, topic_model_columns, n_components = _compute_topic_model(articles)"
   ]
  },
  {
   "cell_type": "code",
   "execution_count": null,
   "metadata": {},
   "outputs": [],
   "source": [
    "import polars as pl\n",
    "\n",
    "tmp = pl.read_parquet('/home/ubuntu/experiments/preprocessing_test_2024-05-07_17-07-46/Sliced_ds/test_slice_2.parquet')\n",
    "tmp.head()"
   ]
  }
 ],
 "metadata": {
  "kernelspec": {
   "display_name": ".venv",
   "language": "python",
   "name": "python3"
  },
  "language_info": {
   "codemirror_mode": {
    "name": "ipython",
    "version": 3
   },
   "file_extension": ".py",
   "mimetype": "text/x-python",
   "name": "python",
   "nbconvert_exporter": "python",
   "pygments_lexer": "ipython3",
   "version": "3.11.0"
  }
 },
 "nbformat": 4,
 "nbformat_minor": 2
}
