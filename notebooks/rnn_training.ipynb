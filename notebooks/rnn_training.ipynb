{
 "cells": [
  {
   "cell_type": "code",
   "execution_count": null,
   "metadata": {},
   "outputs": [],
   "source": [
    "import polars as pl\n",
    "import tensorflow as tf\n",
    "from tensorflow import keras as tfk\n",
    "from tensorflow.keras import layers as tfkl\n",
    "import numpy as np\n",
    "import logging\n",
    "import random\n",
    "\n",
    "seed = 42\n",
    "np.random.seed(seed)\n",
    "random.seed(seed)\n",
    "tf.autograph.set_verbosity(0)\n",
    "tf.get_logger().setLevel(logging.ERROR)\n",
    "tf.random.set_seed(seed)\n",
    "print(tf.__version__)"
   ]
  },
  {
   "cell_type": "code",
   "execution_count": null,
   "metadata": {},
   "outputs": [],
   "source": [
    "from polimi.utils.tf_models.utils.build_sequences import build_history_seq\n",
    "\n",
    "history = pl.read_parquet('/home/ubuntu/dataset/ebnerd_small/train/history.parquet')\n",
    "behaviors = pl.read_parquet('/home/ubuntu/dataset/ebnerd_small/train/behaviors.parquet')\n",
    "articles = pl.read_parquet('/home/ubuntu/dataset/ebnerd_small/articles.parquet')\n",
    "\n",
    "history_seq = build_history_seq(history, articles)\n",
    "\n",
    "history_seq.head(3)"
   ]
  },
  {
   "cell_type": "code",
   "execution_count": null,
   "metadata": {},
   "outputs": [],
   "source": [
    "from polimi.utils.tf_models.utils.build_sequences import build_sequences_seq\n",
    "train_data = build_sequences_seq(history_seq=history_seq, window=20, stride=5)\n",
    "train_data['topics'][0].shape"
   ]
  },
  {
   "cell_type": "code",
   "execution_count": null,
   "metadata": {},
   "outputs": [],
   "source": [
    "train_data.keys()"
   ]
  },
  {
   "cell_type": "code",
   "execution_count": null,
   "metadata": {},
   "outputs": [],
   "source": [
    "train_data['topics'][0][0].shape[1], train_data['subcategory'][0][0].shape[1], train_data['category'][0].shape"
   ]
  },
  {
   "cell_type": "code",
   "execution_count": null,
   "metadata": {},
   "outputs": [],
   "source": [
    "from polimi.utils.tf_models import TemporalHistorySequenceModel, TemporalHistoryClassificationModel\n",
    "from polimi.utils._polars import reduce_polars_df_memory_size\n",
    "\n",
    "model = TemporalHistorySequenceModel(\n",
    "    seq_embedding_dims={\n",
    "        # adding, for the moment, one dim more to cover missings in non one-hot vectors\n",
    "        'topics': (78, 10, True),\n",
    "        'subcategory': (174, 10, True),\n",
    "        'category': (26, 10, False),\n",
    "        'weekday': (8, 3, False),\n",
    "        'hour_group': (7, 3, False),\n",
    "        'sentiment_label': (4, 2, False)\n",
    "    },\n",
    "    seq_numerical_features=['scroll_percentage', 'read_time', 'premium'],\n",
    "    n_recurrent_layers=1,\n",
    "    recurrent_embedding_dim=64,\n",
    "    l1_lambda=1e-4,\n",
    "    l2_lambda=1e-4,\n",
    ")"
   ]
  },
  {
   "cell_type": "code",
   "execution_count": null,
   "metadata": {},
   "outputs": [],
   "source": [
    "model._build()"
   ]
  },
  {
   "cell_type": "code",
   "execution_count": null,
   "metadata": {},
   "outputs": [],
   "source": [
    "model.plot()"
   ]
  },
  {
   "cell_type": "code",
   "execution_count": null,
   "metadata": {},
   "outputs": [],
   "source": [
    "model.fit(\n",
    "    train_ds=train_data,\n",
    "    batch_size=64,\n",
    "    epochs=10,\n",
    "    # target for (topics, subcategory, category)\n",
    "    loss=[tfk.losses.BinaryCrossentropy(), tfk.losses.BinaryCrossentropy(), tfk.losses.CategoricalCrossentropy()],\n",
    "    loss_weights=[0.5, 0.1, 0.4],\n",
    "    optimizer=tfk.optimizers.Adam(learning_rate=1e-4)\n",
    ")"
   ]
  },
  {
   "cell_type": "code",
   "execution_count": null,
   "metadata": {},
   "outputs": [],
   "source": []
  }
 ],
 "metadata": {
  "kernelspec": {
   "display_name": ".venv",
   "language": "python",
   "name": "python3"
  },
  "language_info": {
   "codemirror_mode": {
    "name": "ipython",
    "version": 3
   },
   "file_extension": ".py",
   "mimetype": "text/x-python",
   "name": "python",
   "nbconvert_exporter": "python",
   "pygments_lexer": "ipython3",
   "version": "3.10.12"
  }
 },
 "nbformat": 4,
 "nbformat_minor": 2
}
