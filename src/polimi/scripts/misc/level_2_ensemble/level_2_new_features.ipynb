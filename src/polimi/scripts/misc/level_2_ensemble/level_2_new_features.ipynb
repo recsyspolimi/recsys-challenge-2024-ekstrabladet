{
 "cells": [
  {
   "cell_type": "code",
   "execution_count": 16,
   "metadata": {},
   "outputs": [],
   "source": [
    "import polars as pl\n",
    "import pandas as pd\n",
    "from tqdm import tqdm\n",
    "import os\n",
    "import json\n",
    "import numpy as np\n",
    "import math\n",
    "from lightgbm import LGBMClassifier\n",
    "from sklearn.utils import resample\n",
    "from sklearn.model_selection import train_test_split\n",
    "from polimi.utils._inference import _inference\n",
    "from ebrec.evaluation.metrics_protocols import *\n",
    "from ebrec.utils._behaviors import sampling_strategy_wu2019\n",
    "from polimi.utils._polars import reduce_polars_df_memory_size\n",
    "from polimi.test.level_2_ensemble.build_model_predictions import require_subsampled_set, train_predict_model\n",
    "from fastauc.fastauc.fast_auc import CppAuc\n",
    "import os\n",
    "import logging\n",
    "from lightgbm import LGBMClassifier, LGBMRanker\n",
    "from datetime import datetime\n",
    "import argparse\n",
    "import pandas as pd\n",
    "import joblib\n",
    "import json\n",
    "import numpy as np\n",
    "import matplotlib.pyplot as plt\n",
    "import seaborn as sns\n",
    "from typing_extensions import List, Tuple, Dict, Type\n",
    "import polars as pl\n",
    "from polimi.utils._tuning_params import get_models_params\n",
    "import gc\n",
    "from polars import testing\n"
   ]
  },
  {
   "cell_type": "code",
   "execution_count": 17,
   "metadata": {},
   "outputs": [],
   "source": [
    "params = {\n",
    "         \"n_estimators\": 2400,\n",
    "          \"max_depth\": 5, \n",
    "          \"num_leaves\": 255,\n",
    "          \"subsample_freq\": 4,\n",
    "          \"subsample\": 0.6004099528013062, \n",
    "          \"learning_rate\": 0.020058747735265076, \n",
    "          \"colsample_bytree\": 0.28816104133228293, \n",
    "          \"colsample_bynode\": 0.9436687124253154,\n",
    "          \"reg_lambda\": 0.0009096841984127709, \n",
    "          \"reg_alpha\": 0.00229692020127837, \n",
    "          \"min_split_gain\": 0.06569239337571059, \n",
    "          \"min_child_weight\": 0.0025913515338086167, \n",
    "          \"min_child_samples\": 53, \n",
    "          \"extra_trees\": True, \n",
    "          \"max_bin\": 8,\n",
    "          \"verbosity\": -1,\n",
    "        }\n",
    "cpp_auc = CppAuc()\n"
   ]
  },
  {
   "cell_type": "code",
   "execution_count": 18,
   "metadata": {},
   "outputs": [],
   "source": [
    "dataset_path = '/home/ubuntu/experiments/stacking/sub_features_pred_icm'\n",
    "train_ds = pl.read_parquet('/home/ubuntu/experiments/stacking/sub_features_pred_icm/train_ds.parquet')\n",
    "val_ds = pl.read_parquet('/home/ubuntu/experiments/stacking/features_pred_icm/validation_ds.parquet')\n",
    "with open(os.path.join(dataset_path, 'data_info.json')) as data_info_file:\n",
    "        data_info = json.load(data_info_file)"
   ]
  },
  {
   "cell_type": "code",
   "execution_count": 19,
   "metadata": {},
   "outputs": [],
   "source": [
    "click_pred_train= pl.read_parquet('/home/ubuntu/dataset/click_predictors/train_click_predictor.parquet')\n",
    "click_columns = [col for col in click_pred_train.columns if 'user_id' not in col and 'article' not in col]\n",
    "train_ds = train_ds.join(click_pred_train, on=['user_id','article'], how='left')\n",
    "train_ds = train_ds.with_columns(\n",
    "    *[(pl.col(col)/pl.col(col).max().over('impression_id')).alias(f'normalized_{col}') for col in click_columns]\n",
    ").with_columns(\n",
    "    pl.sum_horizontal([pl.col(f'normalized_{col}') for col in click_columns]).alias('sum_click_pred')\n",
    ").with_columns(\n",
    "    (pl.col('sum_click_pred')/pl.col('sum_click_pred').max().over('impression_id')).alias('normalize_sum_click_pred')\n",
    ")"
   ]
  },
  {
   "cell_type": "code",
   "execution_count": 20,
   "metadata": {},
   "outputs": [],
   "source": [
    "click_pred_val = pl.read_parquet('/home/ubuntu/dataset/click_predictors/validation_click_predictor.parquet')\n",
    "click_columns = [col for col in click_pred_train.columns if 'user_id' not in col and 'article' not in col]\n",
    "val_ds = val_ds.join(click_pred_val, on=['user_id','article'], how='left')\n",
    "val_ds = val_ds.with_columns(\n",
    "    *[(pl.col(col)/pl.col(col).max().over('impression_id')).alias(f'normalized_{col}') for col in click_columns]\n",
    ").with_columns(\n",
    "    pl.sum_horizontal([pl.col(f'normalized_{col}') for col in click_columns]).alias('sum_click_pred')\n",
    ").with_columns(\n",
    "    (pl.col('sum_click_pred')/pl.col('sum_click_pred').max().over('impression_id')).alias('normalize_sum_click_pred')\n",
    ")"
   ]
  },
  {
   "cell_type": "code",
   "execution_count": 21,
   "metadata": {},
   "outputs": [
    {
     "name": "stdout",
     "output_type": "stream",
     "text": [
      "shape: (298_335, 447)\n",
      "┌────────────┬─────────┬───────────┬───────────┬───┬───────────┬───────────┬───────────┬───────────┐\n",
      "│ impression ┆ article ┆ predictio ┆ predictio ┆ … ┆ normalize ┆ normalize ┆ sum_click ┆ normalize │\n",
      "│ _id        ┆ ---     ┆ n_catboos ┆ n_catboos ┆   ┆ d_SP%W_cl ┆ d_readtim ┆ _pred     ┆ _sum_clic │\n",
      "│ ---        ┆ i32     ┆ t_ranker  ┆ t_classif ┆   ┆ ick_predi ┆ e_click_p ┆ ---       ┆ k_pred    │\n",
      "│ u32        ┆         ┆ ---       ┆ ier       ┆   ┆ cto…      ┆ red…      ┆ f32       ┆ ---       │\n",
      "│            ┆         ┆ f32       ┆ ---       ┆   ┆ ---       ┆ ---       ┆           ┆ f32       │\n",
      "│            ┆         ┆           ┆ f32       ┆   ┆ f32       ┆ f32       ┆           ┆           │\n",
      "╞════════════╪═════════╪═══════════╪═══════════╪═══╪═══════════╪═══════════╪═══════════╪═══════════╡\n",
      "│ 157014     ┆ 9776223 ┆ 0.138048  ┆ 0.181434  ┆ … ┆ 0.785215  ┆ 0.663443  ┆ 17.44491  ┆ 0.641632  │\n",
      "│ 157014     ┆ 9776438 ┆ 0.359669  ┆ 0.3867    ┆ … ┆ 1.0       ┆ 1.0       ┆ 27.188332 ┆ 1.0       │\n",
      "│ 157014     ┆ 9776442 ┆ 0.468283  ┆ 0.416019  ┆ … ┆ 0.885277  ┆ 0.844374  ┆ 19.677736 ┆ 0.723757  │\n",
      "│ 157016     ┆ 9776322 ┆ 1.014783  ┆ 0.564579  ┆ … ┆ 1.0       ┆ 1.0       ┆ 23.059589 ┆ 1.0       │\n",
      "│ 157016     ┆ 9220931 ┆ -3.618523 ┆ 0.004424  ┆ … ┆ 0.263432  ┆ 0.255146  ┆ 19.58321  ┆ 0.849244  │\n",
      "│ …          ┆ …       ┆ …         ┆ …         ┆ … ┆ …         ┆ …         ┆ …         ┆ …         │\n",
      "│ 580037082  ┆ 9775701 ┆ -1.959689 ┆ 0.0797    ┆ … ┆ 1.0       ┆ 1.0       ┆ 22.461971 ┆ 1.0       │\n",
      "│ 580037082  ┆ 9775621 ┆ 0.111738  ┆ 0.104276  ┆ … ┆ 0.10136   ┆ 0.098835  ┆ 22.211327 ┆ 0.988841  │\n",
      "│ 580037121  ┆ 9775648 ┆ 2.226808  ┆ 0.738118  ┆ … ┆ 0.861609  ┆ 0.853285  ┆ 26.822279 ┆ 1.0       │\n",
      "│ 580037121  ┆ 9775722 ┆ 0.357859  ┆ 0.200962  ┆ … ┆ 0.347126  ┆ 0.344717  ┆ 17.658165 ┆ 0.65834   │\n",
      "│ 580037121  ┆ 9775701 ┆ 1.711408  ┆ 0.594385  ┆ … ┆ 1.0       ┆ 1.0       ┆ 21.562229 ┆ 0.803892  │\n",
      "└────────────┴─────────┴───────────┴───────────┴───┴───────────┴───────────┴───────────┴───────────┘\n"
     ]
    }
   ],
   "source": [
    "print(train_ds)\n",
    "if 'postcode' in train_ds.columns:\n",
    "    train_ds = train_ds.with_columns(pl.col('postcode').fill_null(5))\n",
    "if 'article_type' in train_ds.columns:\n",
    "    train_ds = train_ds.with_columns(pl.col('article_type').fill_null('article_default'))\n",
    "if 'impression_time' in train_ds.columns:\n",
    "    train_ds = train_ds.drop(['impression_time'])"
   ]
  },
  {
   "cell_type": "code",
   "execution_count": 22,
   "metadata": {},
   "outputs": [],
   "source": [
    "train_ds_pandas = train_ds.drop(['impression_id','article','user_id']).to_pandas()\n",
    "train_ds_pandas[data_info['categorical_columns']] = train_ds_pandas[data_info['categorical_columns']].astype('category')\n",
    "X = train_ds_pandas.drop(columns=['target'])\n",
    "y = train_ds_pandas['target']"
   ]
  },
  {
   "cell_type": "code",
   "execution_count": 23,
   "metadata": {},
   "outputs": [
    {
     "name": "stderr",
     "output_type": "stream",
     "text": [
      "/tmp/ipykernel_3952/242159418.py:6: DeprecationWarning: named `columns` param is deprecated; use positional `*args` instead.\n",
      "  val_ds = val_ds.drop(columns = ['impression_time'])\n"
     ]
    },
    {
     "name": "stdout",
     "output_type": "stream",
     "text": [
      "Baseline\n",
      "Baseline AUC: 0.8239305693953106\n"
     ]
    }
   ],
   "source": [
    "if 'postcode' in val_ds.columns:\n",
    "        val_ds = val_ds.with_columns(pl.col('postcode').fill_null(5))\n",
    "if 'article_type' in val_ds.columns:\n",
    "        val_ds = val_ds.with_columns(pl.col('article_type').fill_null('article_default'))  \n",
    "if 'impression_time' in val_ds.columns:\n",
    "        val_ds = val_ds.drop(columns = ['impression_time']) \n",
    "        \n",
    "val_ds = val_ds.to_pandas()\n",
    "val_ds[data_info['categorical_columns']] = val_ds[data_info['categorical_columns']].astype('category')\n",
    "\n",
    "X_val = val_ds[X.columns]\n",
    "evaluation_ds = pl.from_pandas(val_ds[['impression_id','article', 'target']])\n",
    "\n",
    "print('Baseline')\n",
    "model = LGBMClassifier(**params)\n",
    "model.fit(X, y)\n",
    "evaluation_ds_copy = evaluation_ds\n",
    "evaluation_ds_copy = evaluation_ds_copy.with_columns(pl.Series(model.predict_proba(X_val)[:,1]).alias('prediction')).group_by('impression_id').agg(pl.col('target'), pl.col('prediction'))\n",
    "result = np.mean(\n",
    "        [cpp_auc.roc_auc_score(np.array(y_t).astype(bool), np.array(y_s).astype(np.float32)) \n",
    "            for y_t, y_s in zip(evaluation_ds_copy['target'].to_list(), \n",
    "                                evaluation_ds_copy['prediction'].to_list())]\n",
    "    )\n",
    "print(f'Baseline AUC: {result}')\n",
    "\n"
   ]
  }
 ],
 "metadata": {
  "kernelspec": {
   "display_name": ".venv",
   "language": "python",
   "name": "python3"
  },
  "language_info": {
   "codemirror_mode": {
    "name": "ipython",
    "version": 3
   },
   "file_extension": ".py",
   "mimetype": "text/x-python",
   "name": "python",
   "nbconvert_exporter": "python",
   "pygments_lexer": "ipython3",
   "version": "3.10.14"
  }
 },
 "nbformat": 4,
 "nbformat_minor": 2
}
