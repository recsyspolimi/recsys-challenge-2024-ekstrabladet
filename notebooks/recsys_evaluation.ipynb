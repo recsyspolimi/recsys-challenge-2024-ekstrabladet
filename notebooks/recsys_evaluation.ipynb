{
 "cells": [
  {
   "cell_type": "code",
   "execution_count": 83,
   "metadata": {},
   "outputs": [],
   "source": [
    "import polars as pl\n",
    "import numpy as np\n",
    "import pandas as pd\n",
    "import matplotlib.pyplot as plt\n",
    "import seaborn as sns\n",
    "from pathlib import Path\n",
    "import polars as pl\n",
    "import scipy.stats as stats\n",
    "import scipy.sparse as sps\n",
    "import gc\n",
    "import tqdm"
   ]
  },
  {
   "cell_type": "code",
   "execution_count": 84,
   "metadata": {},
   "outputs": [
    {
     "name": "stdout",
     "output_type": "stream",
     "text": [
      "\u001b[1m\u001b[31m\n",
      "RAM memory GB usage = 25.16\u001b[0m\n"
     ]
    }
   ],
   "source": [
    "from os import system, getpid, walk\n",
    "from psutil import Process\n",
    "from colorama import Fore, Style, init\n",
    "from IPython.display import display, HTML\n",
    "\n",
    "def PrintColor(text:str, color = Fore.BLUE, style = Style.BRIGHT):\n",
    "    print(style + color + text + Style.RESET_ALL)\n",
    "    \n",
    "def GetMemUsage():   \n",
    "    pid = getpid()\n",
    "    py = Process(pid)\n",
    "    memory_use = py.memory_info()[0] / 2. ** 30\n",
    "    return f\"RAM memory GB usage = {memory_use :.4}\"\n",
    "\n",
    "PrintColor(f\"\\n\" + GetMemUsage(), color = Fore.RED)"
   ]
  },
  {
   "cell_type": "code",
   "execution_count": 85,
   "metadata": {},
   "outputs": [],
   "source": [
    "def reduce_polars_df_memory_size(df, set_categorical=True):\n",
    "\n",
    "    start_mem = df.estimated_size('mb')\n",
    "    print('Memory usage of dataframe is {:.2f} MB'.format(start_mem))\n",
    "    \n",
    "    for col in df.columns:\n",
    "        col_type = df[col].dtype\n",
    "        \n",
    "        if col_type in [pl.Int16, pl.Int32, pl.Int64]:\n",
    "            c_min = df[col].fill_null(0).min()\n",
    "            c_max = df[col].fill_null(0).max()\n",
    "            if c_min > np.iinfo(np.int8).min and c_max < np.iinfo(np.int8).max:\n",
    "                df = df.with_columns(pl.col(col).cast(pl.Int8))\n",
    "            elif c_min > np.iinfo(np.int16).min and c_max < np.iinfo(np.int16).max:\n",
    "                df = df.with_columns(pl.col(col).cast(pl.Int16))\n",
    "            elif c_min > np.iinfo(np.int32).min and c_max < np.iinfo(np.int32).max:\n",
    "                df = df.with_columns(pl.col(col).cast(pl.Int32))\n",
    "        elif col_type in [pl.UInt16, pl.UInt32, pl.UInt64]:\n",
    "            c_min = df[col].fill_null(0).min()\n",
    "            c_max = df[col].fill_null(0).max()\n",
    "            if c_min > np.iinfo(np.uint8).min and c_max < np.iinfo(np.uint8).max:\n",
    "                df = df.with_columns(pl.col(col).cast(pl.UInt8))\n",
    "            elif c_min > np.iinfo(np.uint16).min and c_max < np.iinfo(np.uint16).max:\n",
    "                df = df.with_columns(pl.col(col).cast(pl.UInt16))\n",
    "            elif c_min > np.iinfo(np.uint32).min and c_max < np.iinfo(np.uint32).max:\n",
    "                df = df.with_columns(pl.col(col).cast(pl.UInt32))\n",
    "        elif col_type == pl.Float64:\n",
    "            c_min = df[col].fill_null(0).min()\n",
    "            c_max = df[col].fill_null(0).max()\n",
    "            if c_min > np.finfo(np.float32).min and c_max < np.finfo(np.float32).max:\n",
    "                df = df.with_columns(pl.col(col).cast(pl.Float32))\n",
    "\n",
    "    gc.collect()\n",
    "    end_mem = df.estimated_size('mb')\n",
    "    print('Memory usage after optimization is: {:.2f} MB'.format(end_mem))\n",
    "    print('Decreased by {:.1f}%'.format(100 * (start_mem - end_mem) / start_mem))\n",
    "    \n",
    "    return df"
   ]
  },
  {
   "cell_type": "code",
   "execution_count": 86,
   "metadata": {},
   "outputs": [
    {
     "name": "stdout",
     "output_type": "stream",
     "text": [
      "\u001b[1m\u001b[31m\n",
      "RAM memory GB usage = 25.27\u001b[0m\n"
     ]
    }
   ],
   "source": [
    "articles = pl.read_parquet('/home/ubuntu/dataset/ebnerd_small/articles.parquet')\n",
    "\n",
    "behaviors_train = pl.read_parquet('/home/ubuntu/dataset/ebnerd_small/train/behaviors.parquet')\n",
    "history_train = pl.read_parquet('/home/ubuntu/dataset/ebnerd_small/train/history.parquet')\n",
    "\n",
    "behaviors_val = pl.read_parquet('/home/ubuntu/dataset/ebnerd_small/validation/behaviors.parquet')\n",
    "history_val = pl.read_parquet('/home/ubuntu/dataset/ebnerd_small/validation/history.parquet')\n",
    "\n",
    "gc.collect()\n",
    "PrintColor(f\"\\n\" + GetMemUsage(), color = Fore.RED)"
   ]
  },
  {
   "cell_type": "code",
   "execution_count": 87,
   "metadata": {},
   "outputs": [
    {
     "data": {
      "text/plain": [
       "['PER', 'PROD', 'ORG', 'EVENT', 'LOC', 'MISC']"
      ]
     },
     "execution_count": 87,
     "metadata": {},
     "output_type": "execute_result"
    }
   ],
   "source": [
    "unique_entities = articles.select('entity_groups').explode('entity_groups')['entity_groups'].unique().to_list()\n",
    "unique_entities = [e for e in unique_entities if e is not None]\n",
    "unique_entities"
   ]
  },
  {
   "cell_type": "code",
   "execution_count": 88,
   "metadata": {},
   "outputs": [
    {
     "data": {
      "text/html": [
       "<div><style>\n",
       ".dataframe > thead > tr,\n",
       ".dataframe > tbody > tr {\n",
       "  text-align: right;\n",
       "  white-space: pre-wrap;\n",
       "}\n",
       "</style>\n",
       "<small>shape: (702_831, 254)</small><table border=\"1\" class=\"dataframe\"><thead><tr><th>impression_id</th><th>user_id</th><th>article</th><th>target</th><th>device_type</th><th>read_time</th><th>scroll_percentage</th><th>is_sso_user</th><th>gender</th><th>age</th><th>is_subscriber</th><th>postcode</th><th>trendiness_score_1d</th><th>trendiness_score_3d</th><th>trendiness_score_5d</th><th>weekday</th><th>hour</th><th>trendiness_score_1d/3d</th><th>trendiness_score_1d/5d</th><th>normalized_trendiness_score_overall</th><th>premium</th><th>category</th><th>sentiment_score</th><th>sentiment_label</th><th>num_images</th><th>title_len</th><th>subtitle_len</th><th>body_len</th><th>num_topics</th><th>total_pageviews</th><th>total_inviews</th><th>total_read_time</th><th>total_pageviews/inviews</th><th>article_type</th><th>article_delay_days</th><th>article_delay_hours</th><th>Entity_EVENT_Present</th><th>&hellip;</th><th>entropy_impression_endorsement_10h</th><th>entropy_impression_total_pageviews/inviews</th><th>entropy_impression_mean_JS</th><th>entropy_impression_mean_topic_model_cosine</th><th>entropy_impression_topics_cosine</th><th>entropy_impression_article_delay_hours</th><th>entropy_impression_total_pageviews</th><th>entropy_impression_total_inviews</th><th>entropy_impression_trendiness_score_category</th><th>entropy_impression_std_JS</th><th>entropy_impression_trendiness_score_5d</th><th>entropy_impression_total_read_time</th><th>trendiness_score_3d_minus_median_impression</th><th>endorsement_10h_minus_median_impression</th><th>total_pageviews/inviews_minus_median_impression</th><th>mean_JS_minus_median_impression</th><th>mean_topic_model_cosine_minus_median_impression</th><th>topics_cosine_minus_median_impression</th><th>article_delay_hours_minus_median_impression</th><th>total_pageviews_minus_median_impression</th><th>total_inviews_minus_median_impression</th><th>trendiness_score_category_minus_median_impression</th><th>std_JS_minus_median_impression</th><th>trendiness_score_5d_minus_median_impression</th><th>total_read_time_minus_median_impression</th><th>mean_JS_l_inf_user</th><th>std_JS_l_inf_user</th><th>mean_topic_model_cosine_l_inf_user</th><th>topics_cosine_l_inf_user</th><th>article_delay_hours_l_inf_article</th><th>mean_JS_l_inf_article</th><th>std_JS_l_inf_article</th><th>mean_topic_model_cosine_l_inf_article</th><th>topics_cosine_l_inf_article</th><th>category_diversity_impression</th><th>sentiment_label_diversity_impression</th><th>article_type_diversity_impression</th></tr><tr><td>u32</td><td>u32</td><td>i32</td><td>i8</td><td>i8</td><td>f32</td><td>f32</td><td>bool</td><td>i8</td><td>i8</td><td>bool</td><td>i8</td><td>i16</td><td>i16</td><td>i16</td><td>i8</td><td>i8</td><td>f32</td><td>f32</td><td>f32</td><td>bool</td><td>i16</td><td>f32</td><td>str</td><td>u32</td><td>u8</td><td>u8</td><td>u16</td><td>u32</td><td>i32</td><td>i32</td><td>f32</td><td>f32</td><td>str</td><td>i16</td><td>i32</td><td>bool</td><td>&hellip;</td><td>f64</td><td>f32</td><td>f32</td><td>f32</td><td>f32</td><td>f64</td><td>f64</td><td>f64</td><td>f64</td><td>f32</td><td>f64</td><td>f32</td><td>f64</td><td>f64</td><td>f32</td><td>f32</td><td>f32</td><td>f32</td><td>f64</td><td>f64</td><td>f64</td><td>f64</td><td>f32</td><td>f64</td><td>f32</td><td>f32</td><td>f32</td><td>f32</td><td>f32</td><td>f64</td><td>f32</td><td>f32</td><td>f32</td><td>f32</td><td>u32</td><td>u32</td><td>u32</td></tr></thead><tbody><tr><td>149474</td><td>139836</td><td>9778728</td><td>0</td><td>2</td><td>13.0</td><td>null</td><td>false</td><td>2</td><td>null</td><td>false</td><td>5</td><td>150</td><td>521</td><td>836</td><td>3</td><td>7</td><td>0.287908</td><td>0.179426</td><td>0.880068</td><td>false</td><td>142</td><td>0.9654</td><td>&quot;Negative&quot;</td><td>1</td><td>5</td><td>18</td><td>251</td><td>7</td><td>22415</td><td>220247</td><td>1.004828e6</td><td>0.101772</td><td>&quot;article_default&quot;</td><td>0</td><td>0</td><td>true</td><td>&hellip;</td><td>1.622597</td><td>1.726481</td><td>1.747889</td><td>1.788942</td><td>1.689578</td><td>NaN</td><td>1.613433</td><td>1.737743</td><td>1.612282</td><td>1.739272</td><td>1.676222</td><td>1.558951</td><td>281.5</td><td>-873.5</td><td>-0.111306</td><td>-0.005177</td><td>0.091665</td><td>-0.02667</td><td>-1.0</td><td>-62463.5</td><td>-165503.0</td><td>4.0</td><td>-0.033664</td><td>447.5</td><td>-4.981345e6</td><td>0.447581</td><td>0.403328</td><td>0.96685</td><td>0.36119</td><td>0.0</td><td>0.233531</td><td>0.335164</td><td>0.908604</td><td>0.301919</td><td>4</td><td>3</td><td>1</td></tr><tr><td>149474</td><td>139836</td><td>9778669</td><td>0</td><td>2</td><td>13.0</td><td>null</td><td>false</td><td>2</td><td>null</td><td>false</td><td>5</td><td>85</td><td>199</td><td>313</td><td>3</td><td>7</td><td>0.427136</td><td>0.271565</td><td>0.336149</td><td>false</td><td>118</td><td>0.9481</td><td>&quot;Negative&quot;</td><td>1</td><td>5</td><td>11</td><td>150</td><td>4</td><td>74491</td><td>373488</td><td>4.365609e6</td><td>0.199447</td><td>&quot;article_default&quot;</td><td>0</td><td>1</td><td>false</td><td>&hellip;</td><td>1.622597</td><td>1.726481</td><td>1.747889</td><td>1.788942</td><td>1.689578</td><td>NaN</td><td>1.613433</td><td>1.737743</td><td>1.612282</td><td>1.739272</td><td>1.676222</td><td>1.558951</td><td>-40.5</td><td>179.5</td><td>-0.013631</td><td>0.003967</td><td>-0.050146</td><td>0.015762</td><td>0.0</td><td>-10387.5</td><td>-12262.0</td><td>0.0</td><td>0.028015</td><td>-75.5</td><td>-1.620564e6</td><td>0.501163</td><td>0.632488</td><td>0.797317</td><td>0.437299</td><td>0.043478</td><td>0.266627</td><td>0.511387</td><td>0.789201</td><td>0.319083</td><td>4</td><td>3</td><td>1</td></tr><tr><td>149474</td><td>139836</td><td>9778657</td><td>1</td><td>2</td><td>13.0</td><td>null</td><td>false</td><td>2</td><td>null</td><td>false</td><td>5</td><td>45</td><td>117</td><td>183</td><td>3</td><td>7</td><td>0.384615</td><td>0.245902</td><td>0.197635</td><td>false</td><td>118</td><td>0.8347</td><td>&quot;Neutral&quot;</td><td>2</td><td>6</td><td>31</td><td>336</td><td>3</td><td>108389</td><td>478098</td><td>7.606737e6</td><td>0.226709</td><td>&quot;article_default&quot;</td><td>0</td><td>1</td><td>false</td><td>&hellip;</td><td>1.622597</td><td>1.726481</td><td>1.747889</td><td>1.788942</td><td>1.689578</td><td>NaN</td><td>1.613433</td><td>1.737743</td><td>1.612282</td><td>1.739272</td><td>1.676222</td><td>1.558951</td><td>-122.5</td><td>368.5</td><td>0.013631</td><td>0.05309</td><td>0.005468</td><td>0.218611</td><td>0.0</td><td>23510.5</td><td>92348.0</td><td>0.0</td><td>0.051035</td><td>-205.5</td><td>1.620564e6</td><td>0.78901</td><td>0.718014</td><td>0.863803</td><td>0.801144</td><td>0.066667</td><td>0.350947</td><td>0.730242</td><td>0.840012</td><td>0.604487</td><td>4</td><td>3</td><td>1</td></tr><tr><td>150528</td><td>143471</td><td>9778682</td><td>0</td><td>2</td><td>25.0</td><td>null</td><td>false</td><td>2</td><td>null</td><td>false</td><td>5</td><td>69</td><td>206</td><td>334</td><td>3</td><td>7</td><td>0.334951</td><td>0.206587</td><td>0.347973</td><td>false</td><td>498</td><td>0.9546</td><td>&quot;Negative&quot;</td><td>1</td><td>5</td><td>20</td><td>267</td><td>3</td><td>143520</td><td>455723</td><td>9.298546e6</td><td>0.314928</td><td>&quot;article_default&quot;</td><td>0</td><td>1</td><td>true</td><td>&hellip;</td><td>1.712983</td><td>2.137333</td><td>2.093172</td><td>2.19456</td><td>2.100994</td><td>NaN</td><td>2.063931</td><td>2.158165</td><td>1.924178</td><td>2.126514</td><td>1.946778</td><td>2.008479</td><td>7.0</td><td>204.0</td><td>0.088219</td><td>0.013219</td><td>0.095761</td><td>-0.001332</td><td>1.0</td><td>48254.0</td><td>82235.0</td><td>-47.0</td><td>0.013249</td><td>21.0</td><td>4.223417e6</td><td>0.793928</td><td>0.732491</td><td>0.94067</td><td>0.581838</td><td>0.041667</td><td>0.299855</td><td>0.536061</td><td>0.891664</td><td>0.447169</td><td>6</td><td>3</td><td>1</td></tr><tr><td>150528</td><td>143471</td><td>9778669</td><td>0</td><td>2</td><td>25.0</td><td>null</td><td>false</td><td>2</td><td>null</td><td>false</td><td>5</td><td>85</td><td>199</td><td>313</td><td>3</td><td>7</td><td>0.427136</td><td>0.271565</td><td>0.336149</td><td>false</td><td>118</td><td>0.9481</td><td>&quot;Negative&quot;</td><td>1</td><td>5</td><td>11</td><td>150</td><td>4</td><td>74491</td><td>373488</td><td>4.365609e6</td><td>0.199447</td><td>&quot;article_default&quot;</td><td>0</td><td>1</td><td>false</td><td>&hellip;</td><td>1.712983</td><td>2.137333</td><td>2.093172</td><td>2.19456</td><td>2.100994</td><td>NaN</td><td>2.063931</td><td>2.158165</td><td>1.924178</td><td>2.126514</td><td>1.946778</td><td>2.008479</td><td>0.0</td><td>598.0</td><td>-0.027262</td><td>0.025741</td><td>-0.061045</td><td>0.159455</td><td>1.0</td><td>-20775.0</td><td>0.0</td><td>62.0</td><td>0.007517</td><td>0.0</td><td>-709520.0</td><td>0.881599</td><td>0.709201</td><td>0.756751</td><td>0.871154</td><td>0.043478</td><td>0.392552</td><td>0.524339</td><td>0.763467</td><td>0.633637</td><td>6</td><td>3</td><td>1</td></tr><tr><td>&hellip;</td><td>&hellip;</td><td>&hellip;</td><td>&hellip;</td><td>&hellip;</td><td>&hellip;</td><td>&hellip;</td><td>&hellip;</td><td>&hellip;</td><td>&hellip;</td><td>&hellip;</td><td>&hellip;</td><td>&hellip;</td><td>&hellip;</td><td>&hellip;</td><td>&hellip;</td><td>&hellip;</td><td>&hellip;</td><td>&hellip;</td><td>&hellip;</td><td>&hellip;</td><td>&hellip;</td><td>&hellip;</td><td>&hellip;</td><td>&hellip;</td><td>&hellip;</td><td>&hellip;</td><td>&hellip;</td><td>&hellip;</td><td>&hellip;</td><td>&hellip;</td><td>&hellip;</td><td>&hellip;</td><td>&hellip;</td><td>&hellip;</td><td>&hellip;</td><td>&hellip;</td><td>&hellip;</td><td>&hellip;</td><td>&hellip;</td><td>&hellip;</td><td>&hellip;</td><td>&hellip;</td><td>&hellip;</td><td>&hellip;</td><td>&hellip;</td><td>&hellip;</td><td>&hellip;</td><td>&hellip;</td><td>&hellip;</td><td>&hellip;</td><td>&hellip;</td><td>&hellip;</td><td>&hellip;</td><td>&hellip;</td><td>&hellip;</td><td>&hellip;</td><td>&hellip;</td><td>&hellip;</td><td>&hellip;</td><td>&hellip;</td><td>&hellip;</td><td>&hellip;</td><td>&hellip;</td><td>&hellip;</td><td>&hellip;</td><td>&hellip;</td><td>&hellip;</td><td>&hellip;</td><td>&hellip;</td><td>&hellip;</td><td>&hellip;</td><td>&hellip;</td><td>&hellip;</td><td>&hellip;</td></tr><tr><td>580100695</td><td>2110744</td><td>9769917</td><td>0</td><td>1</td><td>5.0</td><td>100.0</td><td>false</td><td>2</td><td>null</td><td>false</td><td>5</td><td>46</td><td>105</td><td>152</td><td>4</td><td>10</td><td>0.438095</td><td>0.302632</td><td>0.203883</td><td>true</td><td>140</td><td>0.989</td><td>&quot;Negative&quot;</td><td>4</td><td>5</td><td>32</td><td>826</td><td>2</td><td>203222</td><td>2163455</td><td>1.2661448e7</td><td>0.093934</td><td>&quot;article_default&quot;</td><td>0</td><td>17</td><td>false</td><td>&hellip;</td><td>1.570477</td><td>1.037743</td><td>1.826027</td><td>1.940373</td><td>1.748273</td><td>1.200948</td><td>1.060549</td><td>0.924248</td><td>1.757789</td><td>1.898659</td><td>1.762101</td><td>0.913896</td><td>-50.0</td><td>1404.0</td><td>-0.114787</td><td>0.002116</td><td>-0.103502</td><td>0.0</td><td>-4373.0</td><td>4017.0</td><td>1.209047e6</td><td>18.0</td><td>0.088883</td><td>-79.0</td><td>0.0</td><td>0.582369</td><td>0.927592</td><td>0.682434</td><td>0.472501</td><td>0.093407</td><td>0.120789</td><td>0.389978</td><td>0.696381</td><td>0.268713</td><td>4</td><td>3</td><td>2</td></tr><tr><td>580100695</td><td>2110744</td><td>9767697</td><td>1</td><td>1</td><td>5.0</td><td>100.0</td><td>false</td><td>2</td><td>null</td><td>false</td><td>5</td><td>50</td><td>187</td><td>238</td><td>4</td><td>10</td><td>0.26738</td><td>0.210084</td><td>0.363107</td><td>false</td><td>118</td><td>0.9613</td><td>&quot;Negative&quot;</td><td>5</td><td>7</td><td>2</td><td>982</td><td>3</td><td>199205</td><td>954408</td><td>2.595362e7</td><td>0.208721</td><td>&quot;article_default&quot;</td><td>0</td><td>3</td><td>false</td><td>&hellip;</td><td>1.570477</td><td>1.037743</td><td>1.826027</td><td>1.940373</td><td>1.748273</td><td>1.200948</td><td>1.060549</td><td>0.924248</td><td>1.757789</td><td>1.898659</td><td>1.762101</td><td>0.913896</td><td>32.0</td><td>1339.0</td><td>0.0</td><td>0.035035</td><td>0.028725</td><td>0.237915</td><td>-4387.0</td><td>0.0</td><td>0.0</td><td>47.0</td><td>0.051003</td><td>7.0</td><td>1.3292172e7</td><td>0.80426</td><td>0.763092</td><td>0.836592</td><td>0.908091</td><td>0.017964</td><td>0.287404</td><td>0.373625</td><td>0.779936</td><td>0.597165</td><td>4</td><td>3</td><td>2</td></tr><tr><td>580100697</td><td>2110744</td><td>9770997</td><td>0</td><td>1</td><td>14.0</td><td>100.0</td><td>false</td><td>2</td><td>null</td><td>false</td><td>5</td><td>32</td><td>78</td><td>136</td><td>4</td><td>10</td><td>0.410256</td><td>0.235294</td><td>0.151456</td><td>false</td><td>414</td><td>0.845</td><td>&quot;Positive&quot;</td><td>1</td><td>5</td><td>18</td><td>164</td><td>4</td><td>110632</td><td>485698</td><td>5.034287e6</td><td>0.227779</td><td>&quot;article_default&quot;</td><td>0</td><td>3</td><td>false</td><td>&hellip;</td><td>1.708204</td><td>1.083186</td><td>1.954657</td><td>2.070895</td><td>1.949265</td><td>1.455156</td><td>0.965362</td><td>0.915239</td><td>1.841282</td><td>2.033027</td><td>1.795838</td><td>0.937667</td><td>-47.5</td><td>1339.5</td><td>0.066013</td><td>-0.020815</td><td>0.014447</td><td>-0.035568</td><td>-4786.0</td><td>0.0</td><td>0.0</td><td>0.0</td><td>-0.032977</td><td>-64.5</td><td>0.0</td><td>0.162473</td><td>0.29199</td><td>0.836789</td><td>0.177689</td><td>0.018072</td><td>0.172841</td><td>0.384146</td><td>0.818583</td><td>0.204345</td><td>5</td><td>3</td><td>2</td></tr><tr><td>580100697</td><td>2110744</td><td>9514481</td><td>0</td><td>1</td><td>14.0</td><td>100.0</td><td>false</td><td>2</td><td>null</td><td>false</td><td>5</td><td>8</td><td>37</td><td>49</td><td>4</td><td>10</td><td>0.216216</td><td>0.163265</td><td>0.071845</td><td>true</td><td>414</td><td>0.9501</td><td>&quot;Neutral&quot;</td><td>7</td><td>9</td><td>30</td><td>371</td><td>3</td><td>null</td><td>null</td><td>null</td><td>null</td><td>&quot;article_standard_feature&quot;</td><td>182</td><td>4390</td><td>false</td><td>&hellip;</td><td>1.708204</td><td>1.083186</td><td>1.954657</td><td>2.070895</td><td>1.949265</td><td>1.455156</td><td>0.965362</td><td>0.915239</td><td>1.841282</td><td>2.033027</td><td>1.795838</td><td>0.937667</td><td>-88.5</td><td>-363.5</td><td>null</td><td>-0.021758</td><td>-0.126811</td><td>-0.071621</td><td>-399.0</td><td>null</td><td>null</td><td>0.0</td><td>-0.012502</td><td>-151.5</td><td>null</td><td>0.156114</td><td>0.380906</td><td>0.672102</td><td>0.111681</td><td>0.963776</td><td>0.054301</td><td>0.239584</td><td>0.69207</td><td>0.069082</td><td>5</td><td>3</td><td>2</td></tr><tr><td>580100697</td><td>2110744</td><td>9771042</td><td>1</td><td>1</td><td>14.0</td><td>100.0</td><td>false</td><td>2</td><td>null</td><td>false</td><td>5</td><td>31</td><td>96</td><td>194</td><td>4</td><td>10</td><td>0.322917</td><td>0.159794</td><td>0.186408</td><td>false</td><td>118</td><td>0.6719</td><td>&quot;Positive&quot;</td><td>1</td><td>4</td><td>17</td><td>200</td><td>3</td><td>67278</td><td>415895</td><td>3.605973e6</td><td>0.161767</td><td>&quot;article_default&quot;</td><td>0</td><td>3</td><td>true</td><td>&hellip;</td><td>1.708204</td><td>1.083186</td><td>1.954657</td><td>2.070895</td><td>1.949265</td><td>1.455156</td><td>0.965362</td><td>0.915239</td><td>1.841282</td><td>2.033027</td><td>1.795838</td><td>0.937667</td><td>-29.5</td><td>1307.5</td><td>0.0</td><td>-0.019337</td><td>0.106317</td><td>-0.063147</td><td>-4786.0</td><td>-43354.0</td><td>-69803.0</td><td>47.0</td><td>-0.036195</td><td>-6.5</td><td>-1.428314e6</td><td>0.172432</td><td>0.278018</td><td>0.943898</td><td>0.127195</td><td>0.0234375</td><td>0.181335</td><td>0.423733</td><td>0.873426</td><td>0.177202</td><td>5</td><td>3</td><td>2</td></tr></tbody></table></div>"
      ],
      "text/plain": [
       "shape: (702_831, 254)\n",
       "┌─────────────┬─────────┬─────────┬────────┬───┬────────────┬────────────┬────────────┬────────────┐\n",
       "│ impression_ ┆ user_id ┆ article ┆ target ┆ … ┆ topics_cos ┆ category_d ┆ sentiment_ ┆ article_ty │\n",
       "│ id          ┆ ---     ┆ ---     ┆ ---    ┆   ┆ ine_l_inf_ ┆ iversity_i ┆ label_dive ┆ pe_diversi │\n",
       "│ ---         ┆ u32     ┆ i32     ┆ i8     ┆   ┆ article    ┆ mpression  ┆ rsity_impr ┆ ty_impress │\n",
       "│ u32         ┆         ┆         ┆        ┆   ┆ ---        ┆ ---        ┆ …          ┆ …          │\n",
       "│             ┆         ┆         ┆        ┆   ┆ f32        ┆ u32        ┆ ---        ┆ ---        │\n",
       "│             ┆         ┆         ┆        ┆   ┆            ┆            ┆ u32        ┆ u32        │\n",
       "╞═════════════╪═════════╪═════════╪════════╪═══╪════════════╪════════════╪════════════╪════════════╡\n",
       "│ 149474      ┆ 139836  ┆ 9778728 ┆ 0      ┆ … ┆ 0.301919   ┆ 4          ┆ 3          ┆ 1          │\n",
       "│ 149474      ┆ 139836  ┆ 9778669 ┆ 0      ┆ … ┆ 0.319083   ┆ 4          ┆ 3          ┆ 1          │\n",
       "│ 149474      ┆ 139836  ┆ 9778657 ┆ 1      ┆ … ┆ 0.604487   ┆ 4          ┆ 3          ┆ 1          │\n",
       "│ 150528      ┆ 143471  ┆ 9778682 ┆ 0      ┆ … ┆ 0.447169   ┆ 6          ┆ 3          ┆ 1          │\n",
       "│ 150528      ┆ 143471  ┆ 9778669 ┆ 0      ┆ … ┆ 0.633637   ┆ 6          ┆ 3          ┆ 1          │\n",
       "│ …           ┆ …       ┆ …       ┆ …      ┆ … ┆ …          ┆ …          ┆ …          ┆ …          │\n",
       "│ 580100695   ┆ 2110744 ┆ 9769917 ┆ 0      ┆ … ┆ 0.268713   ┆ 4          ┆ 3          ┆ 2          │\n",
       "│ 580100695   ┆ 2110744 ┆ 9767697 ┆ 1      ┆ … ┆ 0.597165   ┆ 4          ┆ 3          ┆ 2          │\n",
       "│ 580100697   ┆ 2110744 ┆ 9770997 ┆ 0      ┆ … ┆ 0.204345   ┆ 5          ┆ 3          ┆ 2          │\n",
       "│ 580100697   ┆ 2110744 ┆ 9514481 ┆ 0      ┆ … ┆ 0.069082   ┆ 5          ┆ 3          ┆ 2          │\n",
       "│ 580100697   ┆ 2110744 ┆ 9771042 ┆ 1      ┆ … ┆ 0.177202   ┆ 5          ┆ 3          ┆ 2          │\n",
       "└─────────────┴─────────┴─────────┴────────┴───┴────────────┴────────────┴────────────┴────────────┘"
      ]
     },
     "execution_count": 88,
     "metadata": {},
     "output_type": "execute_result"
    }
   ],
   "source": [
    "train_ds = pl.read_parquet('/home/ubuntu/small_ds/train/train_ds.parquet')\n",
    "train_ds"
   ]
  },
  {
   "cell_type": "code",
   "execution_count": 89,
   "metadata": {},
   "outputs": [
    {
     "data": {
      "text/html": [
       "<div><style>\n",
       ".dataframe > thead > tr,\n",
       ".dataframe > tbody > tr {\n",
       "  text-align: right;\n",
       "  white-space: pre-wrap;\n",
       "}\n",
       "</style>\n",
       "<small>shape: (2_585_747, 8)</small><table border=\"1\" class=\"dataframe\"><thead><tr><th>impression_id</th><th>article</th><th>user_id</th><th>PureSVDRecommender</th><th>ItemKNNCFRecommender</th><th>RP3betaRecommender</th><th>SLIM_BPR_Cython</th><th>PureSVDItemRecommender</th></tr><tr><td>u32</td><td>i32</td><td>u32</td><td>f32</td><td>f32</td><td>f32</td><td>f32</td><td>f32</td></tr></thead><tbody><tr><td>556008624</td><td>9193263</td><td>10068</td><td>0.000002</td><td>0.0</td><td>0.0</td><td>0.0</td><td>0.00011</td></tr><tr><td>556008624</td><td>9695098</td><td>10068</td><td>0.008315</td><td>0.002663</td><td>0.003995</td><td>0.0</td><td>0.009694</td></tr><tr><td>556008624</td><td>9758734</td><td>10068</td><td>0.000918</td><td>0.0</td><td>0.006811</td><td>0.0</td><td>0.003627</td></tr><tr><td>385198819</td><td>9762352</td><td>10068</td><td>0.029058</td><td>0.005326</td><td>0.006742</td><td>0.0</td><td>0.028035</td></tr><tr><td>556008624</td><td>9772548</td><td>10068</td><td>0.0</td><td>0.0</td><td>0.0</td><td>0.0</td><td>0.0</td></tr><tr><td>&hellip;</td><td>&hellip;</td><td>&hellip;</td><td>&hellip;</td><td>&hellip;</td><td>&hellip;</td><td>&hellip;</td><td>&hellip;</td></tr><tr><td>567760513</td><td>9779705</td><td>2590637</td><td>0.0</td><td>0.0</td><td>0.0</td><td>0.0</td><td>0.0</td></tr><tr><td>567760515</td><td>9779705</td><td>2590637</td><td>0.0</td><td>0.0</td><td>0.0</td><td>0.0</td><td>0.0</td></tr><tr><td>567760513</td><td>9779723</td><td>2590637</td><td>0.0</td><td>0.0</td><td>0.0</td><td>0.0</td><td>0.0</td></tr><tr><td>567760515</td><td>9779723</td><td>2590637</td><td>0.0</td><td>0.0</td><td>0.0</td><td>0.0</td><td>0.0</td></tr><tr><td>567760515</td><td>9779738</td><td>2590637</td><td>0.0</td><td>0.0</td><td>0.0</td><td>0.0</td><td>0.0</td></tr></tbody></table></div>"
      ],
      "text/plain": [
       "shape: (2_585_747, 8)\n",
       "┌─────────────┬─────────┬─────────┬────────────┬────────────┬────────────┬────────────┬────────────┐\n",
       "│ impression_ ┆ article ┆ user_id ┆ PureSVDRec ┆ ItemKNNCFR ┆ RP3betaRec ┆ SLIM_BPR_C ┆ PureSVDIte │\n",
       "│ id          ┆ ---     ┆ ---     ┆ ommender   ┆ ecommender ┆ ommender   ┆ ython      ┆ mRecommend │\n",
       "│ ---         ┆ i32     ┆ u32     ┆ ---        ┆ ---        ┆ ---        ┆ ---        ┆ er         │\n",
       "│ u32         ┆         ┆         ┆ f32        ┆ f32        ┆ f32        ┆ f32        ┆ ---        │\n",
       "│             ┆         ┆         ┆            ┆            ┆            ┆            ┆ f32        │\n",
       "╞═════════════╪═════════╪═════════╪════════════╪════════════╪════════════╪════════════╪════════════╡\n",
       "│ 556008624   ┆ 9193263 ┆ 10068   ┆ 0.000002   ┆ 0.0        ┆ 0.0        ┆ 0.0        ┆ 0.00011    │\n",
       "│ 556008624   ┆ 9695098 ┆ 10068   ┆ 0.008315   ┆ 0.002663   ┆ 0.003995   ┆ 0.0        ┆ 0.009694   │\n",
       "│ 556008624   ┆ 9758734 ┆ 10068   ┆ 0.000918   ┆ 0.0        ┆ 0.006811   ┆ 0.0        ┆ 0.003627   │\n",
       "│ 385198819   ┆ 9762352 ┆ 10068   ┆ 0.029058   ┆ 0.005326   ┆ 0.006742   ┆ 0.0        ┆ 0.028035   │\n",
       "│ 556008624   ┆ 9772548 ┆ 10068   ┆ 0.0        ┆ 0.0        ┆ 0.0        ┆ 0.0        ┆ 0.0        │\n",
       "│ …           ┆ …       ┆ …       ┆ …          ┆ …          ┆ …          ┆ …          ┆ …          │\n",
       "│ 567760513   ┆ 9779705 ┆ 2590637 ┆ 0.0        ┆ 0.0        ┆ 0.0        ┆ 0.0        ┆ 0.0        │\n",
       "│ 567760515   ┆ 9779705 ┆ 2590637 ┆ 0.0        ┆ 0.0        ┆ 0.0        ┆ 0.0        ┆ 0.0        │\n",
       "│ 567760513   ┆ 9779723 ┆ 2590637 ┆ 0.0        ┆ 0.0        ┆ 0.0        ┆ 0.0        ┆ 0.0        │\n",
       "│ 567760515   ┆ 9779723 ┆ 2590637 ┆ 0.0        ┆ 0.0        ┆ 0.0        ┆ 0.0        ┆ 0.0        │\n",
       "│ 567760515   ┆ 9779738 ┆ 2590637 ┆ 0.0        ┆ 0.0        ┆ 0.0        ┆ 0.0        ┆ 0.0        │\n",
       "└─────────────┴─────────┴─────────┴────────────┴────────────┴────────────┴────────────┴────────────┘"
      ]
     },
     "execution_count": 89,
     "metadata": {},
     "output_type": "execute_result"
    }
   ],
   "source": [
    "recsys_features = pl.read_parquet('/mnt/ebs_volume_2/recsys2024/features/recsys/small/train/recsys_scores_features.parquet')\n",
    "recsys_features"
   ]
  },
  {
   "cell_type": "code",
   "execution_count": 90,
   "metadata": {},
   "outputs": [
    {
     "data": {
      "text/html": [
       "<div><style>\n",
       ".dataframe > thead > tr,\n",
       ".dataframe > tbody > tr {\n",
       "  text-align: right;\n",
       "  white-space: pre-wrap;\n",
       "}\n",
       "</style>\n",
       "<small>shape: (702_831, 259)</small><table border=\"1\" class=\"dataframe\"><thead><tr><th>impression_id</th><th>user_id</th><th>article</th><th>target</th><th>device_type</th><th>read_time</th><th>scroll_percentage</th><th>is_sso_user</th><th>gender</th><th>age</th><th>is_subscriber</th><th>postcode</th><th>trendiness_score_1d</th><th>trendiness_score_3d</th><th>trendiness_score_5d</th><th>weekday</th><th>hour</th><th>trendiness_score_1d/3d</th><th>trendiness_score_1d/5d</th><th>normalized_trendiness_score_overall</th><th>premium</th><th>category</th><th>sentiment_score</th><th>sentiment_label</th><th>num_images</th><th>title_len</th><th>subtitle_len</th><th>body_len</th><th>num_topics</th><th>total_pageviews</th><th>total_inviews</th><th>total_read_time</th><th>total_pageviews/inviews</th><th>article_type</th><th>article_delay_days</th><th>article_delay_hours</th><th>Entity_EVENT_Present</th><th>&hellip;</th><th>entropy_impression_article_delay_hours</th><th>entropy_impression_total_pageviews</th><th>entropy_impression_total_inviews</th><th>entropy_impression_trendiness_score_category</th><th>entropy_impression_std_JS</th><th>entropy_impression_trendiness_score_5d</th><th>entropy_impression_total_read_time</th><th>trendiness_score_3d_minus_median_impression</th><th>endorsement_10h_minus_median_impression</th><th>total_pageviews/inviews_minus_median_impression</th><th>mean_JS_minus_median_impression</th><th>mean_topic_model_cosine_minus_median_impression</th><th>topics_cosine_minus_median_impression</th><th>article_delay_hours_minus_median_impression</th><th>total_pageviews_minus_median_impression</th><th>total_inviews_minus_median_impression</th><th>trendiness_score_category_minus_median_impression</th><th>std_JS_minus_median_impression</th><th>trendiness_score_5d_minus_median_impression</th><th>total_read_time_minus_median_impression</th><th>mean_JS_l_inf_user</th><th>std_JS_l_inf_user</th><th>mean_topic_model_cosine_l_inf_user</th><th>topics_cosine_l_inf_user</th><th>article_delay_hours_l_inf_article</th><th>mean_JS_l_inf_article</th><th>std_JS_l_inf_article</th><th>mean_topic_model_cosine_l_inf_article</th><th>topics_cosine_l_inf_article</th><th>category_diversity_impression</th><th>sentiment_label_diversity_impression</th><th>article_type_diversity_impression</th><th>PureSVDRecommender</th><th>ItemKNNCFRecommender</th><th>RP3betaRecommender</th><th>SLIM_BPR_Cython</th><th>PureSVDItemRecommender</th></tr><tr><td>u32</td><td>u32</td><td>i32</td><td>i8</td><td>i8</td><td>f32</td><td>f32</td><td>bool</td><td>i8</td><td>i8</td><td>bool</td><td>i8</td><td>i16</td><td>i16</td><td>i16</td><td>i8</td><td>i8</td><td>f32</td><td>f32</td><td>f32</td><td>bool</td><td>i16</td><td>f32</td><td>str</td><td>u32</td><td>u8</td><td>u8</td><td>u16</td><td>u32</td><td>i32</td><td>i32</td><td>f32</td><td>f32</td><td>str</td><td>i16</td><td>i32</td><td>bool</td><td>&hellip;</td><td>f64</td><td>f64</td><td>f64</td><td>f64</td><td>f32</td><td>f64</td><td>f32</td><td>f64</td><td>f64</td><td>f32</td><td>f32</td><td>f32</td><td>f32</td><td>f64</td><td>f64</td><td>f64</td><td>f64</td><td>f32</td><td>f64</td><td>f32</td><td>f32</td><td>f32</td><td>f32</td><td>f32</td><td>f64</td><td>f32</td><td>f32</td><td>f32</td><td>f32</td><td>u32</td><td>u32</td><td>u32</td><td>f32</td><td>f32</td><td>f32</td><td>f32</td><td>f32</td></tr></thead><tbody><tr><td>149474</td><td>139836</td><td>9778728</td><td>0</td><td>2</td><td>13.0</td><td>null</td><td>false</td><td>2</td><td>null</td><td>false</td><td>5</td><td>150</td><td>521</td><td>836</td><td>3</td><td>7</td><td>0.287908</td><td>0.179426</td><td>0.880068</td><td>false</td><td>142</td><td>0.9654</td><td>&quot;Negative&quot;</td><td>1</td><td>5</td><td>18</td><td>251</td><td>7</td><td>22415</td><td>220247</td><td>1.004828e6</td><td>0.101772</td><td>&quot;article_default&quot;</td><td>0</td><td>0</td><td>true</td><td>&hellip;</td><td>NaN</td><td>1.613433</td><td>1.737743</td><td>1.612282</td><td>1.739272</td><td>1.676222</td><td>1.558951</td><td>281.5</td><td>-873.5</td><td>-0.111306</td><td>-0.005177</td><td>0.091665</td><td>-0.02667</td><td>-1.0</td><td>-62463.5</td><td>-165503.0</td><td>4.0</td><td>-0.033664</td><td>447.5</td><td>-4.981345e6</td><td>0.447581</td><td>0.403328</td><td>0.96685</td><td>0.36119</td><td>0.0</td><td>0.233531</td><td>0.335164</td><td>0.908604</td><td>0.301919</td><td>4</td><td>3</td><td>1</td><td>0.0</td><td>0.0</td><td>0.0</td><td>0.0</td><td>0.0</td></tr><tr><td>149474</td><td>139836</td><td>9778669</td><td>0</td><td>2</td><td>13.0</td><td>null</td><td>false</td><td>2</td><td>null</td><td>false</td><td>5</td><td>85</td><td>199</td><td>313</td><td>3</td><td>7</td><td>0.427136</td><td>0.271565</td><td>0.336149</td><td>false</td><td>118</td><td>0.9481</td><td>&quot;Negative&quot;</td><td>1</td><td>5</td><td>11</td><td>150</td><td>4</td><td>74491</td><td>373488</td><td>4.365609e6</td><td>0.199447</td><td>&quot;article_default&quot;</td><td>0</td><td>1</td><td>false</td><td>&hellip;</td><td>NaN</td><td>1.613433</td><td>1.737743</td><td>1.612282</td><td>1.739272</td><td>1.676222</td><td>1.558951</td><td>-40.5</td><td>179.5</td><td>-0.013631</td><td>0.003967</td><td>-0.050146</td><td>0.015762</td><td>0.0</td><td>-10387.5</td><td>-12262.0</td><td>0.0</td><td>0.028015</td><td>-75.5</td><td>-1.620564e6</td><td>0.501163</td><td>0.632488</td><td>0.797317</td><td>0.437299</td><td>0.043478</td><td>0.266627</td><td>0.511387</td><td>0.789201</td><td>0.319083</td><td>4</td><td>3</td><td>1</td><td>0.0</td><td>0.0</td><td>0.0</td><td>0.0</td><td>0.0</td></tr><tr><td>149474</td><td>139836</td><td>9778657</td><td>1</td><td>2</td><td>13.0</td><td>null</td><td>false</td><td>2</td><td>null</td><td>false</td><td>5</td><td>45</td><td>117</td><td>183</td><td>3</td><td>7</td><td>0.384615</td><td>0.245902</td><td>0.197635</td><td>false</td><td>118</td><td>0.8347</td><td>&quot;Neutral&quot;</td><td>2</td><td>6</td><td>31</td><td>336</td><td>3</td><td>108389</td><td>478098</td><td>7.606737e6</td><td>0.226709</td><td>&quot;article_default&quot;</td><td>0</td><td>1</td><td>false</td><td>&hellip;</td><td>NaN</td><td>1.613433</td><td>1.737743</td><td>1.612282</td><td>1.739272</td><td>1.676222</td><td>1.558951</td><td>-122.5</td><td>368.5</td><td>0.013631</td><td>0.05309</td><td>0.005468</td><td>0.218611</td><td>0.0</td><td>23510.5</td><td>92348.0</td><td>0.0</td><td>0.051035</td><td>-205.5</td><td>1.620564e6</td><td>0.78901</td><td>0.718014</td><td>0.863803</td><td>0.801144</td><td>0.066667</td><td>0.350947</td><td>0.730242</td><td>0.840012</td><td>0.604487</td><td>4</td><td>3</td><td>1</td><td>0.0</td><td>0.0</td><td>0.0</td><td>0.0</td><td>0.0</td></tr><tr><td>150528</td><td>143471</td><td>9778682</td><td>0</td><td>2</td><td>25.0</td><td>null</td><td>false</td><td>2</td><td>null</td><td>false</td><td>5</td><td>69</td><td>206</td><td>334</td><td>3</td><td>7</td><td>0.334951</td><td>0.206587</td><td>0.347973</td><td>false</td><td>498</td><td>0.9546</td><td>&quot;Negative&quot;</td><td>1</td><td>5</td><td>20</td><td>267</td><td>3</td><td>143520</td><td>455723</td><td>9.298546e6</td><td>0.314928</td><td>&quot;article_default&quot;</td><td>0</td><td>1</td><td>true</td><td>&hellip;</td><td>NaN</td><td>2.063931</td><td>2.158165</td><td>1.924178</td><td>2.126514</td><td>1.946778</td><td>2.008479</td><td>7.0</td><td>204.0</td><td>0.088219</td><td>0.013219</td><td>0.095761</td><td>-0.001332</td><td>1.0</td><td>48254.0</td><td>82235.0</td><td>-47.0</td><td>0.013249</td><td>21.0</td><td>4.223417e6</td><td>0.793928</td><td>0.732491</td><td>0.94067</td><td>0.581838</td><td>0.041667</td><td>0.299855</td><td>0.536061</td><td>0.891664</td><td>0.447169</td><td>6</td><td>3</td><td>1</td><td>0.0</td><td>0.0</td><td>0.0</td><td>0.0</td><td>0.0</td></tr><tr><td>150528</td><td>143471</td><td>9778669</td><td>0</td><td>2</td><td>25.0</td><td>null</td><td>false</td><td>2</td><td>null</td><td>false</td><td>5</td><td>85</td><td>199</td><td>313</td><td>3</td><td>7</td><td>0.427136</td><td>0.271565</td><td>0.336149</td><td>false</td><td>118</td><td>0.9481</td><td>&quot;Negative&quot;</td><td>1</td><td>5</td><td>11</td><td>150</td><td>4</td><td>74491</td><td>373488</td><td>4.365609e6</td><td>0.199447</td><td>&quot;article_default&quot;</td><td>0</td><td>1</td><td>false</td><td>&hellip;</td><td>NaN</td><td>2.063931</td><td>2.158165</td><td>1.924178</td><td>2.126514</td><td>1.946778</td><td>2.008479</td><td>0.0</td><td>598.0</td><td>-0.027262</td><td>0.025741</td><td>-0.061045</td><td>0.159455</td><td>1.0</td><td>-20775.0</td><td>0.0</td><td>62.0</td><td>0.007517</td><td>0.0</td><td>-709520.0</td><td>0.881599</td><td>0.709201</td><td>0.756751</td><td>0.871154</td><td>0.043478</td><td>0.392552</td><td>0.524339</td><td>0.763467</td><td>0.633637</td><td>6</td><td>3</td><td>1</td><td>0.0</td><td>0.0</td><td>0.0</td><td>0.0</td><td>0.0</td></tr><tr><td>&hellip;</td><td>&hellip;</td><td>&hellip;</td><td>&hellip;</td><td>&hellip;</td><td>&hellip;</td><td>&hellip;</td><td>&hellip;</td><td>&hellip;</td><td>&hellip;</td><td>&hellip;</td><td>&hellip;</td><td>&hellip;</td><td>&hellip;</td><td>&hellip;</td><td>&hellip;</td><td>&hellip;</td><td>&hellip;</td><td>&hellip;</td><td>&hellip;</td><td>&hellip;</td><td>&hellip;</td><td>&hellip;</td><td>&hellip;</td><td>&hellip;</td><td>&hellip;</td><td>&hellip;</td><td>&hellip;</td><td>&hellip;</td><td>&hellip;</td><td>&hellip;</td><td>&hellip;</td><td>&hellip;</td><td>&hellip;</td><td>&hellip;</td><td>&hellip;</td><td>&hellip;</td><td>&hellip;</td><td>&hellip;</td><td>&hellip;</td><td>&hellip;</td><td>&hellip;</td><td>&hellip;</td><td>&hellip;</td><td>&hellip;</td><td>&hellip;</td><td>&hellip;</td><td>&hellip;</td><td>&hellip;</td><td>&hellip;</td><td>&hellip;</td><td>&hellip;</td><td>&hellip;</td><td>&hellip;</td><td>&hellip;</td><td>&hellip;</td><td>&hellip;</td><td>&hellip;</td><td>&hellip;</td><td>&hellip;</td><td>&hellip;</td><td>&hellip;</td><td>&hellip;</td><td>&hellip;</td><td>&hellip;</td><td>&hellip;</td><td>&hellip;</td><td>&hellip;</td><td>&hellip;</td><td>&hellip;</td><td>&hellip;</td><td>&hellip;</td><td>&hellip;</td><td>&hellip;</td><td>&hellip;</td></tr><tr><td>580100695</td><td>2110744</td><td>9769917</td><td>0</td><td>1</td><td>5.0</td><td>100.0</td><td>false</td><td>2</td><td>null</td><td>false</td><td>5</td><td>46</td><td>105</td><td>152</td><td>4</td><td>10</td><td>0.438095</td><td>0.302632</td><td>0.203883</td><td>true</td><td>140</td><td>0.989</td><td>&quot;Negative&quot;</td><td>4</td><td>5</td><td>32</td><td>826</td><td>2</td><td>203222</td><td>2163455</td><td>1.2661448e7</td><td>0.093934</td><td>&quot;article_default&quot;</td><td>0</td><td>17</td><td>false</td><td>&hellip;</td><td>1.200948</td><td>1.060549</td><td>0.924248</td><td>1.757789</td><td>1.898659</td><td>1.762101</td><td>0.913896</td><td>-50.0</td><td>1404.0</td><td>-0.114787</td><td>0.002116</td><td>-0.103502</td><td>0.0</td><td>-4373.0</td><td>4017.0</td><td>1.209047e6</td><td>18.0</td><td>0.088883</td><td>-79.0</td><td>0.0</td><td>0.582369</td><td>0.927592</td><td>0.682434</td><td>0.472501</td><td>0.093407</td><td>0.120789</td><td>0.389978</td><td>0.696381</td><td>0.268713</td><td>4</td><td>3</td><td>2</td><td>0.211549</td><td>0.031957</td><td>0.096238</td><td>0.291802</td><td>0.585811</td></tr><tr><td>580100695</td><td>2110744</td><td>9767697</td><td>1</td><td>1</td><td>5.0</td><td>100.0</td><td>false</td><td>2</td><td>null</td><td>false</td><td>5</td><td>50</td><td>187</td><td>238</td><td>4</td><td>10</td><td>0.26738</td><td>0.210084</td><td>0.363107</td><td>false</td><td>118</td><td>0.9613</td><td>&quot;Negative&quot;</td><td>5</td><td>7</td><td>2</td><td>982</td><td>3</td><td>199205</td><td>954408</td><td>2.595362e7</td><td>0.208721</td><td>&quot;article_default&quot;</td><td>0</td><td>3</td><td>false</td><td>&hellip;</td><td>1.200948</td><td>1.060549</td><td>0.924248</td><td>1.757789</td><td>1.898659</td><td>1.762101</td><td>0.913896</td><td>32.0</td><td>1339.0</td><td>0.0</td><td>0.035035</td><td>0.028725</td><td>0.237915</td><td>-4387.0</td><td>0.0</td><td>0.0</td><td>47.0</td><td>0.051003</td><td>7.0</td><td>1.3292172e7</td><td>0.80426</td><td>0.763092</td><td>0.836592</td><td>0.908091</td><td>0.017964</td><td>0.287404</td><td>0.373625</td><td>0.779936</td><td>0.597165</td><td>4</td><td>3</td><td>2</td><td>0.054719</td><td>0.019973</td><td>0.053573</td><td>0.0</td><td>0.23199</td></tr><tr><td>580100697</td><td>2110744</td><td>9770997</td><td>0</td><td>1</td><td>14.0</td><td>100.0</td><td>false</td><td>2</td><td>null</td><td>false</td><td>5</td><td>32</td><td>78</td><td>136</td><td>4</td><td>10</td><td>0.410256</td><td>0.235294</td><td>0.151456</td><td>false</td><td>414</td><td>0.845</td><td>&quot;Positive&quot;</td><td>1</td><td>5</td><td>18</td><td>164</td><td>4</td><td>110632</td><td>485698</td><td>5.034287e6</td><td>0.227779</td><td>&quot;article_default&quot;</td><td>0</td><td>3</td><td>false</td><td>&hellip;</td><td>1.455156</td><td>0.965362</td><td>0.915239</td><td>1.841282</td><td>2.033027</td><td>1.795838</td><td>0.937667</td><td>-47.5</td><td>1339.5</td><td>0.066013</td><td>-0.020815</td><td>0.014447</td><td>-0.035568</td><td>-4786.0</td><td>0.0</td><td>0.0</td><td>0.0</td><td>-0.032977</td><td>-64.5</td><td>0.0</td><td>0.162473</td><td>0.29199</td><td>0.836789</td><td>0.177689</td><td>0.018072</td><td>0.172841</td><td>0.384146</td><td>0.818583</td><td>0.204345</td><td>5</td><td>3</td><td>2</td><td>0.0</td><td>0.0</td><td>0.0</td><td>0.0</td><td>0.0</td></tr><tr><td>580100697</td><td>2110744</td><td>9514481</td><td>0</td><td>1</td><td>14.0</td><td>100.0</td><td>false</td><td>2</td><td>null</td><td>false</td><td>5</td><td>8</td><td>37</td><td>49</td><td>4</td><td>10</td><td>0.216216</td><td>0.163265</td><td>0.071845</td><td>true</td><td>414</td><td>0.9501</td><td>&quot;Neutral&quot;</td><td>7</td><td>9</td><td>30</td><td>371</td><td>3</td><td>null</td><td>null</td><td>null</td><td>null</td><td>&quot;article_standard_feature&quot;</td><td>182</td><td>4390</td><td>false</td><td>&hellip;</td><td>1.455156</td><td>0.965362</td><td>0.915239</td><td>1.841282</td><td>2.033027</td><td>1.795838</td><td>0.937667</td><td>-88.5</td><td>-363.5</td><td>null</td><td>-0.021758</td><td>-0.126811</td><td>-0.071621</td><td>-399.0</td><td>null</td><td>null</td><td>0.0</td><td>-0.012502</td><td>-151.5</td><td>null</td><td>0.156114</td><td>0.380906</td><td>0.672102</td><td>0.111681</td><td>0.963776</td><td>0.054301</td><td>0.239584</td><td>0.69207</td><td>0.069082</td><td>5</td><td>3</td><td>2</td><td>0.030906</td><td>0.010652</td><td>0.005014</td><td>0.0</td><td>0.049715</td></tr><tr><td>580100697</td><td>2110744</td><td>9771042</td><td>1</td><td>1</td><td>14.0</td><td>100.0</td><td>false</td><td>2</td><td>null</td><td>false</td><td>5</td><td>31</td><td>96</td><td>194</td><td>4</td><td>10</td><td>0.322917</td><td>0.159794</td><td>0.186408</td><td>false</td><td>118</td><td>0.6719</td><td>&quot;Positive&quot;</td><td>1</td><td>4</td><td>17</td><td>200</td><td>3</td><td>67278</td><td>415895</td><td>3.605973e6</td><td>0.161767</td><td>&quot;article_default&quot;</td><td>0</td><td>3</td><td>true</td><td>&hellip;</td><td>1.455156</td><td>0.965362</td><td>0.915239</td><td>1.841282</td><td>2.033027</td><td>1.795838</td><td>0.937667</td><td>-29.5</td><td>1307.5</td><td>0.0</td><td>-0.019337</td><td>0.106317</td><td>-0.063147</td><td>-4786.0</td><td>-43354.0</td><td>-69803.0</td><td>47.0</td><td>-0.036195</td><td>-6.5</td><td>-1.428314e6</td><td>0.172432</td><td>0.278018</td><td>0.943898</td><td>0.127195</td><td>0.0234375</td><td>0.181335</td><td>0.423733</td><td>0.873426</td><td>0.177202</td><td>5</td><td>3</td><td>2</td><td>0.004926</td><td>0.014647</td><td>0.007999</td><td>0.0</td><td>0.047089</td></tr></tbody></table></div>"
      ],
      "text/plain": [
       "shape: (702_831, 259)\n",
       "┌─────────────┬─────────┬─────────┬────────┬───┬────────────┬────────────┬────────────┬────────────┐\n",
       "│ impression_ ┆ user_id ┆ article ┆ target ┆ … ┆ ItemKNNCFR ┆ RP3betaRec ┆ SLIM_BPR_C ┆ PureSVDIte │\n",
       "│ id          ┆ ---     ┆ ---     ┆ ---    ┆   ┆ ecommender ┆ ommender   ┆ ython      ┆ mRecommend │\n",
       "│ ---         ┆ u32     ┆ i32     ┆ i8     ┆   ┆ ---        ┆ ---        ┆ ---        ┆ er         │\n",
       "│ u32         ┆         ┆         ┆        ┆   ┆ f32        ┆ f32        ┆ f32        ┆ ---        │\n",
       "│             ┆         ┆         ┆        ┆   ┆            ┆            ┆            ┆ f32        │\n",
       "╞═════════════╪═════════╪═════════╪════════╪═══╪════════════╪════════════╪════════════╪════════════╡\n",
       "│ 149474      ┆ 139836  ┆ 9778728 ┆ 0      ┆ … ┆ 0.0        ┆ 0.0        ┆ 0.0        ┆ 0.0        │\n",
       "│ 149474      ┆ 139836  ┆ 9778669 ┆ 0      ┆ … ┆ 0.0        ┆ 0.0        ┆ 0.0        ┆ 0.0        │\n",
       "│ 149474      ┆ 139836  ┆ 9778657 ┆ 1      ┆ … ┆ 0.0        ┆ 0.0        ┆ 0.0        ┆ 0.0        │\n",
       "│ 150528      ┆ 143471  ┆ 9778682 ┆ 0      ┆ … ┆ 0.0        ┆ 0.0        ┆ 0.0        ┆ 0.0        │\n",
       "│ 150528      ┆ 143471  ┆ 9778669 ┆ 0      ┆ … ┆ 0.0        ┆ 0.0        ┆ 0.0        ┆ 0.0        │\n",
       "│ …           ┆ …       ┆ …       ┆ …      ┆ … ┆ …          ┆ …          ┆ …          ┆ …          │\n",
       "│ 580100695   ┆ 2110744 ┆ 9769917 ┆ 0      ┆ … ┆ 0.031957   ┆ 0.096238   ┆ 0.291802   ┆ 0.585811   │\n",
       "│ 580100695   ┆ 2110744 ┆ 9767697 ┆ 1      ┆ … ┆ 0.019973   ┆ 0.053573   ┆ 0.0        ┆ 0.23199    │\n",
       "│ 580100697   ┆ 2110744 ┆ 9770997 ┆ 0      ┆ … ┆ 0.0        ┆ 0.0        ┆ 0.0        ┆ 0.0        │\n",
       "│ 580100697   ┆ 2110744 ┆ 9514481 ┆ 0      ┆ … ┆ 0.010652   ┆ 0.005014   ┆ 0.0        ┆ 0.049715   │\n",
       "│ 580100697   ┆ 2110744 ┆ 9771042 ┆ 1      ┆ … ┆ 0.014647   ┆ 0.007999   ┆ 0.0        ┆ 0.047089   │\n",
       "└─────────────┴─────────┴─────────┴────────┴───┴────────────┴────────────┴────────────┴────────────┘"
      ]
     },
     "execution_count": 90,
     "metadata": {},
     "output_type": "execute_result"
    }
   ],
   "source": [
    "train_ds = train_ds.join(recsys_features, on=['impression_id', 'article','user_id'], how= 'left')\n",
    "train_ds"
   ]
  },
  {
   "cell_type": "code",
   "execution_count": 91,
   "metadata": {},
   "outputs": [],
   "source": [
    "\n",
    "NORMALIZE_OVER_IMPRESSION_ID = [\n",
    "    'PureSVDRecommender','ItemKNNCFRecommender','RP3betaRecommender','SLIM_BPR_Cython','PureSVDItemRecommender'\n",
    "]\n",
    "NORMALIZE_OVER_USER_ID = [\n",
    "    'PureSVDRecommender','ItemKNNCFRecommender','RP3betaRecommender','SLIM_BPR_Cython','PureSVDItemRecommender'\n",
    "\n",
    "]\n",
    "NORMALIZE_OVER_ARTICLE = [\n",
    "    'PureSVDRecommender','ItemKNNCFRecommender','RP3betaRecommender','SLIM_BPR_Cython','PureSVDItemRecommender'\n",
    "\n",
    "]\n",
    "train_ds = train_ds.with_columns(\n",
    "    *[(pl.col(c) / pl.col(c).max().over(pl.col('impression_id'))).alias(f'{c}_l_inf_impression')\n",
    "      for c in NORMALIZE_OVER_IMPRESSION_ID],\n",
    "    *[pl.col(c).std().over(pl.col('impression_id')).alias(f'std_impression_{c}')\n",
    "      for c in NORMALIZE_OVER_IMPRESSION_ID],\n",
    "    *[pl.col(c).skew().over(pl.col('impression_id')).alias(f'skew_impression_{c}')\n",
    "      for c in NORMALIZE_OVER_IMPRESSION_ID],\n",
    "    *[pl.col(c).kurtosis().over(pl.col('impression_id')).alias(f'kurtosis_impression_{c}')\n",
    "      for c in NORMALIZE_OVER_IMPRESSION_ID],\n",
    "    *[pl.col(c).entropy().over(pl.col('impression_id')).alias(f'entropy_impression_{c}')\n",
    "      for c in NORMALIZE_OVER_IMPRESSION_ID],\n",
    "    *[(pl.col(c) - pl.col(c).median().over(pl.col('impression_id'))).alias(f'{c}_minus_median_impression')\n",
    "      for c in NORMALIZE_OVER_IMPRESSION_ID],\n",
    "    *[(pl.col(c) / pl.col(c).max().over(pl.col('user_id'))).alias(f'{c}_l_inf_user')\n",
    "      for c in NORMALIZE_OVER_USER_ID],\n",
    "    *[(pl.col(c) / pl.col(c).max().over(pl.col('article'))).alias(f'{c}_l_inf_article')\n",
    "      for c in NORMALIZE_OVER_ARTICLE],\n",
    ")\n"
   ]
  },
  {
   "cell_type": "code",
   "execution_count": 92,
   "metadata": {},
   "outputs": [
    {
     "data": {
      "text/html": [
       "<div><style>\n",
       ".dataframe > thead > tr,\n",
       ".dataframe > tbody > tr {\n",
       "  text-align: right;\n",
       "  white-space: pre-wrap;\n",
       "}\n",
       "</style>\n",
       "<small>shape: (702_831, 299)</small><table border=\"1\" class=\"dataframe\"><thead><tr><th>impression_id</th><th>user_id</th><th>article</th><th>target</th><th>device_type</th><th>read_time</th><th>scroll_percentage</th><th>is_sso_user</th><th>gender</th><th>age</th><th>is_subscriber</th><th>postcode</th><th>trendiness_score_1d</th><th>trendiness_score_3d</th><th>trendiness_score_5d</th><th>weekday</th><th>hour</th><th>trendiness_score_1d/3d</th><th>trendiness_score_1d/5d</th><th>normalized_trendiness_score_overall</th><th>premium</th><th>category</th><th>sentiment_score</th><th>sentiment_label</th><th>num_images</th><th>title_len</th><th>subtitle_len</th><th>body_len</th><th>num_topics</th><th>total_pageviews</th><th>total_inviews</th><th>total_read_time</th><th>total_pageviews/inviews</th><th>article_type</th><th>article_delay_days</th><th>article_delay_hours</th><th>Entity_EVENT_Present</th><th>&hellip;</th><th>SLIM_BPR_Cython_l_inf_impression</th><th>PureSVDItemRecommender_l_inf_impression</th><th>std_impression_PureSVDRecommender</th><th>std_impression_ItemKNNCFRecommender</th><th>std_impression_RP3betaRecommender</th><th>std_impression_SLIM_BPR_Cython</th><th>std_impression_PureSVDItemRecommender</th><th>skew_impression_PureSVDRecommender</th><th>skew_impression_ItemKNNCFRecommender</th><th>skew_impression_RP3betaRecommender</th><th>skew_impression_SLIM_BPR_Cython</th><th>skew_impression_PureSVDItemRecommender</th><th>kurtosis_impression_PureSVDRecommender</th><th>kurtosis_impression_ItemKNNCFRecommender</th><th>kurtosis_impression_RP3betaRecommender</th><th>kurtosis_impression_SLIM_BPR_Cython</th><th>kurtosis_impression_PureSVDItemRecommender</th><th>entropy_impression_PureSVDRecommender</th><th>entropy_impression_ItemKNNCFRecommender</th><th>entropy_impression_RP3betaRecommender</th><th>entropy_impression_SLIM_BPR_Cython</th><th>entropy_impression_PureSVDItemRecommender</th><th>PureSVDRecommender_minus_median_impression</th><th>ItemKNNCFRecommender_minus_median_impression</th><th>RP3betaRecommender_minus_median_impression</th><th>SLIM_BPR_Cython_minus_median_impression</th><th>PureSVDItemRecommender_minus_median_impression</th><th>PureSVDRecommender_l_inf_user</th><th>ItemKNNCFRecommender_l_inf_user</th><th>RP3betaRecommender_l_inf_user</th><th>SLIM_BPR_Cython_l_inf_user</th><th>PureSVDItemRecommender_l_inf_user</th><th>PureSVDRecommender_l_inf_article</th><th>ItemKNNCFRecommender_l_inf_article</th><th>RP3betaRecommender_l_inf_article</th><th>SLIM_BPR_Cython_l_inf_article</th><th>PureSVDItemRecommender_l_inf_article</th></tr><tr><td>u32</td><td>u32</td><td>i32</td><td>i8</td><td>i8</td><td>f32</td><td>f32</td><td>bool</td><td>i8</td><td>i8</td><td>bool</td><td>i8</td><td>i16</td><td>i16</td><td>i16</td><td>i8</td><td>i8</td><td>f32</td><td>f32</td><td>f32</td><td>bool</td><td>i16</td><td>f32</td><td>str</td><td>u32</td><td>u8</td><td>u8</td><td>u16</td><td>u32</td><td>i32</td><td>i32</td><td>f32</td><td>f32</td><td>str</td><td>i16</td><td>i32</td><td>bool</td><td>&hellip;</td><td>f32</td><td>f32</td><td>f32</td><td>f32</td><td>f32</td><td>f32</td><td>f32</td><td>f64</td><td>f64</td><td>f64</td><td>f64</td><td>f64</td><td>f64</td><td>f64</td><td>f64</td><td>f64</td><td>f64</td><td>f32</td><td>f32</td><td>f32</td><td>f32</td><td>f32</td><td>f32</td><td>f32</td><td>f32</td><td>f32</td><td>f32</td><td>f32</td><td>f32</td><td>f32</td><td>f32</td><td>f32</td><td>f32</td><td>f32</td><td>f32</td><td>f32</td><td>f32</td></tr></thead><tbody><tr><td>149474</td><td>139836</td><td>9778728</td><td>0</td><td>2</td><td>13.0</td><td>null</td><td>false</td><td>2</td><td>null</td><td>false</td><td>5</td><td>150</td><td>521</td><td>836</td><td>3</td><td>7</td><td>0.287908</td><td>0.179426</td><td>0.880068</td><td>false</td><td>142</td><td>0.9654</td><td>&quot;Negative&quot;</td><td>1</td><td>5</td><td>18</td><td>251</td><td>7</td><td>22415</td><td>220247</td><td>1.004828e6</td><td>0.101772</td><td>&quot;article_default&quot;</td><td>0</td><td>0</td><td>true</td><td>&hellip;</td><td>NaN</td><td>NaN</td><td>0.0</td><td>0.0</td><td>0.0</td><td>0.0</td><td>0.0</td><td>NaN</td><td>NaN</td><td>NaN</td><td>NaN</td><td>NaN</td><td>NaN</td><td>NaN</td><td>NaN</td><td>NaN</td><td>NaN</td><td>NaN</td><td>NaN</td><td>NaN</td><td>NaN</td><td>NaN</td><td>0.0</td><td>0.0</td><td>0.0</td><td>0.0</td><td>0.0</td><td>NaN</td><td>NaN</td><td>0.0</td><td>NaN</td><td>0.0</td><td>NaN</td><td>NaN</td><td>NaN</td><td>NaN</td><td>NaN</td></tr><tr><td>149474</td><td>139836</td><td>9778669</td><td>0</td><td>2</td><td>13.0</td><td>null</td><td>false</td><td>2</td><td>null</td><td>false</td><td>5</td><td>85</td><td>199</td><td>313</td><td>3</td><td>7</td><td>0.427136</td><td>0.271565</td><td>0.336149</td><td>false</td><td>118</td><td>0.9481</td><td>&quot;Negative&quot;</td><td>1</td><td>5</td><td>11</td><td>150</td><td>4</td><td>74491</td><td>373488</td><td>4.365609e6</td><td>0.199447</td><td>&quot;article_default&quot;</td><td>0</td><td>1</td><td>false</td><td>&hellip;</td><td>NaN</td><td>NaN</td><td>0.0</td><td>0.0</td><td>0.0</td><td>0.0</td><td>0.0</td><td>NaN</td><td>NaN</td><td>NaN</td><td>NaN</td><td>NaN</td><td>NaN</td><td>NaN</td><td>NaN</td><td>NaN</td><td>NaN</td><td>NaN</td><td>NaN</td><td>NaN</td><td>NaN</td><td>NaN</td><td>0.0</td><td>0.0</td><td>0.0</td><td>0.0</td><td>0.0</td><td>NaN</td><td>NaN</td><td>0.0</td><td>NaN</td><td>0.0</td><td>NaN</td><td>NaN</td><td>NaN</td><td>NaN</td><td>NaN</td></tr><tr><td>149474</td><td>139836</td><td>9778657</td><td>1</td><td>2</td><td>13.0</td><td>null</td><td>false</td><td>2</td><td>null</td><td>false</td><td>5</td><td>45</td><td>117</td><td>183</td><td>3</td><td>7</td><td>0.384615</td><td>0.245902</td><td>0.197635</td><td>false</td><td>118</td><td>0.8347</td><td>&quot;Neutral&quot;</td><td>2</td><td>6</td><td>31</td><td>336</td><td>3</td><td>108389</td><td>478098</td><td>7.606737e6</td><td>0.226709</td><td>&quot;article_default&quot;</td><td>0</td><td>1</td><td>false</td><td>&hellip;</td><td>NaN</td><td>NaN</td><td>0.0</td><td>0.0</td><td>0.0</td><td>0.0</td><td>0.0</td><td>NaN</td><td>NaN</td><td>NaN</td><td>NaN</td><td>NaN</td><td>NaN</td><td>NaN</td><td>NaN</td><td>NaN</td><td>NaN</td><td>NaN</td><td>NaN</td><td>NaN</td><td>NaN</td><td>NaN</td><td>0.0</td><td>0.0</td><td>0.0</td><td>0.0</td><td>0.0</td><td>NaN</td><td>NaN</td><td>0.0</td><td>NaN</td><td>0.0</td><td>NaN</td><td>NaN</td><td>NaN</td><td>NaN</td><td>NaN</td></tr><tr><td>150528</td><td>143471</td><td>9778682</td><td>0</td><td>2</td><td>25.0</td><td>null</td><td>false</td><td>2</td><td>null</td><td>false</td><td>5</td><td>69</td><td>206</td><td>334</td><td>3</td><td>7</td><td>0.334951</td><td>0.206587</td><td>0.347973</td><td>false</td><td>498</td><td>0.9546</td><td>&quot;Negative&quot;</td><td>1</td><td>5</td><td>20</td><td>267</td><td>3</td><td>143520</td><td>455723</td><td>9.298546e6</td><td>0.314928</td><td>&quot;article_default&quot;</td><td>0</td><td>1</td><td>true</td><td>&hellip;</td><td>NaN</td><td>NaN</td><td>0.0</td><td>0.0</td><td>0.0</td><td>0.0</td><td>0.0</td><td>NaN</td><td>NaN</td><td>NaN</td><td>NaN</td><td>NaN</td><td>NaN</td><td>NaN</td><td>NaN</td><td>NaN</td><td>NaN</td><td>NaN</td><td>NaN</td><td>NaN</td><td>NaN</td><td>NaN</td><td>0.0</td><td>0.0</td><td>0.0</td><td>0.0</td><td>0.0</td><td>0.0</td><td>0.0</td><td>0.0</td><td>NaN</td><td>0.0</td><td>NaN</td><td>NaN</td><td>NaN</td><td>NaN</td><td>NaN</td></tr><tr><td>150528</td><td>143471</td><td>9778669</td><td>0</td><td>2</td><td>25.0</td><td>null</td><td>false</td><td>2</td><td>null</td><td>false</td><td>5</td><td>85</td><td>199</td><td>313</td><td>3</td><td>7</td><td>0.427136</td><td>0.271565</td><td>0.336149</td><td>false</td><td>118</td><td>0.9481</td><td>&quot;Negative&quot;</td><td>1</td><td>5</td><td>11</td><td>150</td><td>4</td><td>74491</td><td>373488</td><td>4.365609e6</td><td>0.199447</td><td>&quot;article_default&quot;</td><td>0</td><td>1</td><td>false</td><td>&hellip;</td><td>NaN</td><td>NaN</td><td>0.0</td><td>0.0</td><td>0.0</td><td>0.0</td><td>0.0</td><td>NaN</td><td>NaN</td><td>NaN</td><td>NaN</td><td>NaN</td><td>NaN</td><td>NaN</td><td>NaN</td><td>NaN</td><td>NaN</td><td>NaN</td><td>NaN</td><td>NaN</td><td>NaN</td><td>NaN</td><td>0.0</td><td>0.0</td><td>0.0</td><td>0.0</td><td>0.0</td><td>0.0</td><td>0.0</td><td>0.0</td><td>NaN</td><td>0.0</td><td>NaN</td><td>NaN</td><td>NaN</td><td>NaN</td><td>NaN</td></tr><tr><td>&hellip;</td><td>&hellip;</td><td>&hellip;</td><td>&hellip;</td><td>&hellip;</td><td>&hellip;</td><td>&hellip;</td><td>&hellip;</td><td>&hellip;</td><td>&hellip;</td><td>&hellip;</td><td>&hellip;</td><td>&hellip;</td><td>&hellip;</td><td>&hellip;</td><td>&hellip;</td><td>&hellip;</td><td>&hellip;</td><td>&hellip;</td><td>&hellip;</td><td>&hellip;</td><td>&hellip;</td><td>&hellip;</td><td>&hellip;</td><td>&hellip;</td><td>&hellip;</td><td>&hellip;</td><td>&hellip;</td><td>&hellip;</td><td>&hellip;</td><td>&hellip;</td><td>&hellip;</td><td>&hellip;</td><td>&hellip;</td><td>&hellip;</td><td>&hellip;</td><td>&hellip;</td><td>&hellip;</td><td>&hellip;</td><td>&hellip;</td><td>&hellip;</td><td>&hellip;</td><td>&hellip;</td><td>&hellip;</td><td>&hellip;</td><td>&hellip;</td><td>&hellip;</td><td>&hellip;</td><td>&hellip;</td><td>&hellip;</td><td>&hellip;</td><td>&hellip;</td><td>&hellip;</td><td>&hellip;</td><td>&hellip;</td><td>&hellip;</td><td>&hellip;</td><td>&hellip;</td><td>&hellip;</td><td>&hellip;</td><td>&hellip;</td><td>&hellip;</td><td>&hellip;</td><td>&hellip;</td><td>&hellip;</td><td>&hellip;</td><td>&hellip;</td><td>&hellip;</td><td>&hellip;</td><td>&hellip;</td><td>&hellip;</td><td>&hellip;</td><td>&hellip;</td><td>&hellip;</td><td>&hellip;</td></tr><tr><td>580100695</td><td>2110744</td><td>9769917</td><td>0</td><td>1</td><td>5.0</td><td>100.0</td><td>false</td><td>2</td><td>null</td><td>false</td><td>5</td><td>46</td><td>105</td><td>152</td><td>4</td><td>10</td><td>0.438095</td><td>0.302632</td><td>0.203883</td><td>true</td><td>140</td><td>0.989</td><td>&quot;Negative&quot;</td><td>4</td><td>5</td><td>32</td><td>826</td><td>2</td><td>203222</td><td>2163455</td><td>1.2661448e7</td><td>0.093934</td><td>&quot;article_default&quot;</td><td>0</td><td>17</td><td>false</td><td>&hellip;</td><td>1.0</td><td>1.0</td><td>0.109083</td><td>0.016144</td><td>0.048222</td><td>0.168472</td><td>0.291861</td><td>0.524495</td><td>-0.294799</td><td>-0.137729</td><td>0.707107</td><td>0.264133</td><td>-1.5</td><td>-1.5</td><td>-1.5</td><td>-1.5</td><td>-1.5</td><td>0.544686</td><td>NaN</td><td>NaN</td><td>NaN</td><td>0.639428</td><td>0.156831</td><td>0.011984</td><td>0.042665</td><td>0.291802</td><td>0.353821</td><td>0.408266</td><td>0.387097</td><td>0.257642</td><td>0.25659</td><td>0.882843</td><td>0.258318</td><td>0.242425</td><td>0.231306</td><td>0.1791</td><td>0.411867</td></tr><tr><td>580100695</td><td>2110744</td><td>9767697</td><td>1</td><td>1</td><td>5.0</td><td>100.0</td><td>false</td><td>2</td><td>null</td><td>false</td><td>5</td><td>50</td><td>187</td><td>238</td><td>4</td><td>10</td><td>0.26738</td><td>0.210084</td><td>0.363107</td><td>false</td><td>118</td><td>0.9613</td><td>&quot;Negative&quot;</td><td>5</td><td>7</td><td>2</td><td>982</td><td>3</td><td>199205</td><td>954408</td><td>2.595362e7</td><td>0.208721</td><td>&quot;article_default&quot;</td><td>0</td><td>3</td><td>false</td><td>&hellip;</td><td>0.0</td><td>0.396015</td><td>0.109083</td><td>0.016144</td><td>0.048222</td><td>0.168472</td><td>0.291861</td><td>0.524495</td><td>-0.294799</td><td>-0.137729</td><td>0.707107</td><td>0.264133</td><td>-1.5</td><td>-1.5</td><td>-1.5</td><td>-1.5</td><td>-1.5</td><td>0.544686</td><td>NaN</td><td>NaN</td><td>NaN</td><td>0.639428</td><td>0.0</td><td>0.0</td><td>0.0</td><td>0.0</td><td>0.0</td><td>0.105601</td><td>0.241935</td><td>0.143421</td><td>0.0</td><td>0.349619</td><td>0.155957</td><td>0.223881</td><td>0.16668</td><td>0.0</td><td>0.347459</td></tr><tr><td>580100697</td><td>2110744</td><td>9770997</td><td>0</td><td>1</td><td>14.0</td><td>100.0</td><td>false</td><td>2</td><td>null</td><td>false</td><td>5</td><td>32</td><td>78</td><td>136</td><td>4</td><td>10</td><td>0.410256</td><td>0.235294</td><td>0.151456</td><td>false</td><td>414</td><td>0.845</td><td>&quot;Positive&quot;</td><td>1</td><td>5</td><td>18</td><td>164</td><td>4</td><td>110632</td><td>485698</td><td>5.034287e6</td><td>0.227779</td><td>&quot;article_default&quot;</td><td>0</td><td>3</td><td>false</td><td>&hellip;</td><td>NaN</td><td>0.0</td><td>0.016605</td><td>0.007571</td><td>0.004042</td><td>0.0</td><td>0.027976</td><td>0.637758</td><td>-0.492208</td><td>-0.298914</td><td>NaN</td><td>-0.700102</td><td>-1.5</td><td>-1.5</td><td>-1.5</td><td>NaN</td><td>-1.5</td><td>NaN</td><td>NaN</td><td>NaN</td><td>NaN</td><td>NaN</td><td>-0.004926</td><td>-0.010652</td><td>-0.005014</td><td>0.0</td><td>-0.047089</td><td>0.0</td><td>0.0</td><td>0.0</td><td>0.0</td><td>0.0</td><td>NaN</td><td>NaN</td><td>NaN</td><td>NaN</td><td>NaN</td></tr><tr><td>580100697</td><td>2110744</td><td>9514481</td><td>0</td><td>1</td><td>14.0</td><td>100.0</td><td>false</td><td>2</td><td>null</td><td>false</td><td>5</td><td>8</td><td>37</td><td>49</td><td>4</td><td>10</td><td>0.216216</td><td>0.163265</td><td>0.071845</td><td>true</td><td>414</td><td>0.9501</td><td>&quot;Neutral&quot;</td><td>7</td><td>9</td><td>30</td><td>371</td><td>3</td><td>null</td><td>null</td><td>null</td><td>null</td><td>&quot;article_standard_feature&quot;</td><td>182</td><td>4390</td><td>false</td><td>&hellip;</td><td>NaN</td><td>1.0</td><td>0.016605</td><td>0.007571</td><td>0.004042</td><td>0.0</td><td>0.027976</td><td>0.637758</td><td>-0.492208</td><td>-0.298914</td><td>NaN</td><td>-0.700102</td><td>-1.5</td><td>-1.5</td><td>-1.5</td><td>NaN</td><td>-1.5</td><td>NaN</td><td>NaN</td><td>NaN</td><td>NaN</td><td>NaN</td><td>0.02598</td><td>0.0</td><td>0.0</td><td>0.0</td><td>0.002626</td><td>0.059645</td><td>0.129032</td><td>0.013424</td><td>0.0</td><td>0.074923</td><td>0.435661</td><td>0.444444</td><td>0.131584</td><td>0.0</td><td>0.476696</td></tr><tr><td>580100697</td><td>2110744</td><td>9771042</td><td>1</td><td>1</td><td>14.0</td><td>100.0</td><td>false</td><td>2</td><td>null</td><td>false</td><td>5</td><td>31</td><td>96</td><td>194</td><td>4</td><td>10</td><td>0.322917</td><td>0.159794</td><td>0.186408</td><td>false</td><td>118</td><td>0.6719</td><td>&quot;Positive&quot;</td><td>1</td><td>4</td><td>17</td><td>200</td><td>3</td><td>67278</td><td>415895</td><td>3.605973e6</td><td>0.161767</td><td>&quot;article_default&quot;</td><td>0</td><td>3</td><td>true</td><td>&hellip;</td><td>NaN</td><td>0.947173</td><td>0.016605</td><td>0.007571</td><td>0.004042</td><td>0.0</td><td>0.027976</td><td>0.637758</td><td>-0.492208</td><td>-0.298914</td><td>NaN</td><td>-0.700102</td><td>-1.5</td><td>-1.5</td><td>-1.5</td><td>NaN</td><td>-1.5</td><td>NaN</td><td>NaN</td><td>NaN</td><td>NaN</td><td>NaN</td><td>0.0</td><td>0.003995</td><td>0.002984</td><td>0.0</td><td>0.0</td><td>0.009506</td><td>0.177419</td><td>0.021414</td><td>0.0</td><td>0.070965</td><td>0.055167</td><td>0.478261</td><td>0.105396</td><td>0.0</td><td>0.375795</td></tr></tbody></table></div>"
      ],
      "text/plain": [
       "shape: (702_831, 299)\n",
       "┌─────────────┬─────────┬─────────┬────────┬───┬────────────┬────────────┬────────────┬────────────┐\n",
       "│ impression_ ┆ user_id ┆ article ┆ target ┆ … ┆ ItemKNNCFR ┆ RP3betaRec ┆ SLIM_BPR_C ┆ PureSVDIte │\n",
       "│ id          ┆ ---     ┆ ---     ┆ ---    ┆   ┆ ecommender ┆ ommender_l ┆ ython_l_in ┆ mRecommend │\n",
       "│ ---         ┆ u32     ┆ i32     ┆ i8     ┆   ┆ _l_inf_art ┆ _inf_artic ┆ f_article  ┆ er_l_inf_a │\n",
       "│ u32         ┆         ┆         ┆        ┆   ┆ …          ┆ …          ┆ ---        ┆ …          │\n",
       "│             ┆         ┆         ┆        ┆   ┆ ---        ┆ ---        ┆ f32        ┆ ---        │\n",
       "│             ┆         ┆         ┆        ┆   ┆ f32        ┆ f32        ┆            ┆ f32        │\n",
       "╞═════════════╪═════════╪═════════╪════════╪═══╪════════════╪════════════╪════════════╪════════════╡\n",
       "│ 149474      ┆ 139836  ┆ 9778728 ┆ 0      ┆ … ┆ NaN        ┆ NaN        ┆ NaN        ┆ NaN        │\n",
       "│ 149474      ┆ 139836  ┆ 9778669 ┆ 0      ┆ … ┆ NaN        ┆ NaN        ┆ NaN        ┆ NaN        │\n",
       "│ 149474      ┆ 139836  ┆ 9778657 ┆ 1      ┆ … ┆ NaN        ┆ NaN        ┆ NaN        ┆ NaN        │\n",
       "│ 150528      ┆ 143471  ┆ 9778682 ┆ 0      ┆ … ┆ NaN        ┆ NaN        ┆ NaN        ┆ NaN        │\n",
       "│ 150528      ┆ 143471  ┆ 9778669 ┆ 0      ┆ … ┆ NaN        ┆ NaN        ┆ NaN        ┆ NaN        │\n",
       "│ …           ┆ …       ┆ …       ┆ …      ┆ … ┆ …          ┆ …          ┆ …          ┆ …          │\n",
       "│ 580100695   ┆ 2110744 ┆ 9769917 ┆ 0      ┆ … ┆ 0.242425   ┆ 0.231306   ┆ 0.1791     ┆ 0.411867   │\n",
       "│ 580100695   ┆ 2110744 ┆ 9767697 ┆ 1      ┆ … ┆ 0.223881   ┆ 0.16668    ┆ 0.0        ┆ 0.347459   │\n",
       "│ 580100697   ┆ 2110744 ┆ 9770997 ┆ 0      ┆ … ┆ NaN        ┆ NaN        ┆ NaN        ┆ NaN        │\n",
       "│ 580100697   ┆ 2110744 ┆ 9514481 ┆ 0      ┆ … ┆ 0.444444   ┆ 0.131584   ┆ 0.0        ┆ 0.476696   │\n",
       "│ 580100697   ┆ 2110744 ┆ 9771042 ┆ 1      ┆ … ┆ 0.478261   ┆ 0.105396   ┆ 0.0        ┆ 0.375795   │\n",
       "└─────────────┴─────────┴─────────┴────────┴───┴────────────┴────────────┴────────────┴────────────┘"
      ]
     },
     "execution_count": 92,
     "metadata": {},
     "output_type": "execute_result"
    }
   ],
   "source": [
    "train_ds"
   ]
  },
  {
   "cell_type": "code",
   "execution_count": 93,
   "metadata": {},
   "outputs": [],
   "source": [
    "from catboost import CatBoostClassifier\n",
    "from catboost import CatBoostRanker"
   ]
  },
  {
   "cell_type": "markdown",
   "metadata": {},
   "source": [
    "## Classifier\n"
   ]
  },
  {
   "cell_type": "code",
   "execution_count": 94,
   "metadata": {},
   "outputs": [
    {
     "data": {
      "text/plain": [
       "\"train_ds = train_ds.drop(['impression_id', 'article', 'user_id']).to_pandas()\\n\\ncategorical_columns = ['device_type', 'is_sso_user', 'gender', 'is_subscriber', 'weekday',\\n                       'premium', 'category', 'sentiment_label', 'is_new_article', 'is_already_seen_article',\\n                       'MostFrequentCategory', 'MostFrequentWeekday', 'IsFavouriteCategory',\\n                       'article_type', 'postcode']\\ncategorical_columns += [f'Entity_{entity}_Present' for entity in unique_entities]\\ntrain_ds[categorical_columns] = train_ds[categorical_columns].astype('category')\\n\\nX = train_ds.drop(columns=['target'])\\ny = train_ds['target']\\n\""
      ]
     },
     "execution_count": 94,
     "metadata": {},
     "output_type": "execute_result"
    }
   ],
   "source": [
    "\"\"\"train_ds = train_ds.drop(['impression_id', 'article', 'user_id']).to_pandas()\n",
    "\n",
    "categorical_columns = ['device_type', 'is_sso_user', 'gender', 'is_subscriber', 'weekday',\n",
    "                       'premium', 'category', 'sentiment_label', 'is_new_article', 'is_already_seen_article',\n",
    "                       'MostFrequentCategory', 'MostFrequentWeekday', 'IsFavouriteCategory',\n",
    "                       'article_type', 'postcode']\n",
    "categorical_columns += [f'Entity_{entity}_Present' for entity in unique_entities]\n",
    "train_ds[categorical_columns] = train_ds[categorical_columns].astype('category')\n",
    "\n",
    "X = train_ds.drop(columns=['target'])\n",
    "y = train_ds['target']\n",
    "\"\"\"\n"
   ]
  },
  {
   "cell_type": "code",
   "execution_count": 95,
   "metadata": {},
   "outputs": [
    {
     "data": {
      "text/plain": [
       "'\\n# just a simple model to be able to run an evaluation\\nmodel = CatBoostClassifier(cat_features=categorical_columns, iterations=1000, rsm=0.7, subsample=0.5)\\n\\nmodel.fit(X, y, verbose=25)\\n\\ngc.collect()\\nPrintColor(f\"\\n\" + GetMemUsage(), color = Fore.RED)\\n'"
      ]
     },
     "execution_count": 95,
     "metadata": {},
     "output_type": "execute_result"
    }
   ],
   "source": [
    "\"\"\"\n",
    "# just a simple model to be able to run an evaluation\n",
    "model = CatBoostClassifier(cat_features=categorical_columns, iterations=1000, rsm=0.7, subsample=0.5)\n",
    "\n",
    "model.fit(X, y, verbose=25)\n",
    "\n",
    "gc.collect()\n",
    "PrintColor(f\"\\n\" + GetMemUsage(), color = Fore.RED)\n",
    "\"\"\""
   ]
  },
  {
   "cell_type": "markdown",
   "metadata": {},
   "source": [
    "## Ranker\n"
   ]
  },
  {
   "cell_type": "code",
   "execution_count": 96,
   "metadata": {},
   "outputs": [],
   "source": [
    "train_ds = train_ds.drop(['article', 'user_id']).to_pandas().sort_values(by='impression_id')\n",
    "groups = train_ds['impression_id'].copy()\n",
    "\n",
    "categorical_columns = ['device_type', 'is_sso_user', 'gender', 'is_subscriber', 'weekday',\n",
    "                       'premium', 'category', 'sentiment_label', 'is_new_article', 'is_already_seen_article',\n",
    "                       'MostFrequentCategory', 'MostFrequentWeekday', 'IsFavouriteCategory',\n",
    "                       'article_type', 'postcode']\n",
    "categorical_columns += [f'Entity_{entity}_Present' for entity in unique_entities]\n",
    "train_ds[categorical_columns] = train_ds[categorical_columns].astype('category')\n",
    "\n",
    "X = train_ds.drop(columns=['target', 'impression_id'])\n",
    "y = train_ds['target']"
   ]
  },
  {
   "cell_type": "code",
   "execution_count": 97,
   "metadata": {},
   "outputs": [
    {
     "name": "stdout",
     "output_type": "stream",
     "text": [
      "Groupwise loss function. OneHotMaxSize set to 10\n",
      "0:\ttotal: 683ms\tremaining: 22m 44s\n",
      "25:\ttotal: 16.3s\tremaining: 20m 37s\n",
      "50:\ttotal: 31.4s\tremaining: 19m 58s\n",
      "75:\ttotal: 46.8s\tremaining: 19m 44s\n",
      "100:\ttotal: 1m 2s\tremaining: 19m 30s\n",
      "125:\ttotal: 1m 17s\tremaining: 19m 16s\n",
      "150:\ttotal: 1m 32s\tremaining: 18m 58s\n",
      "175:\ttotal: 1m 48s\tremaining: 18m 43s\n",
      "200:\ttotal: 2m 4s\tremaining: 18m 33s\n",
      "225:\ttotal: 2m 20s\tremaining: 18m 19s\n",
      "250:\ttotal: 2m 35s\tremaining: 18m 2s\n",
      "275:\ttotal: 2m 50s\tremaining: 17m 46s\n",
      "300:\ttotal: 3m 6s\tremaining: 17m 29s\n",
      "325:\ttotal: 3m 21s\tremaining: 17m 14s\n",
      "350:\ttotal: 3m 37s\tremaining: 17m\n",
      "375:\ttotal: 3m 52s\tremaining: 16m 44s\n",
      "400:\ttotal: 4m 7s\tremaining: 16m 28s\n",
      "425:\ttotal: 4m 23s\tremaining: 16m 12s\n",
      "450:\ttotal: 4m 38s\tremaining: 15m 56s\n",
      "475:\ttotal: 4m 53s\tremaining: 15m 39s\n",
      "500:\ttotal: 5m 8s\tremaining: 15m 24s\n",
      "525:\ttotal: 5m 24s\tremaining: 15m 8s\n",
      "550:\ttotal: 5m 39s\tremaining: 14m 53s\n",
      "575:\ttotal: 5m 55s\tremaining: 14m 38s\n",
      "600:\ttotal: 6m 11s\tremaining: 14m 23s\n",
      "625:\ttotal: 6m 26s\tremaining: 14m 8s\n",
      "650:\ttotal: 6m 41s\tremaining: 13m 52s\n",
      "675:\ttotal: 6m 57s\tremaining: 13m 37s\n",
      "700:\ttotal: 7m 12s\tremaining: 13m 21s\n",
      "725:\ttotal: 7m 27s\tremaining: 13m 5s\n",
      "750:\ttotal: 7m 43s\tremaining: 12m 50s\n",
      "775:\ttotal: 7m 58s\tremaining: 12m 35s\n",
      "800:\ttotal: 8m 13s\tremaining: 12m 18s\n",
      "825:\ttotal: 8m 28s\tremaining: 12m 2s\n",
      "850:\ttotal: 8m 43s\tremaining: 11m 46s\n",
      "875:\ttotal: 8m 59s\tremaining: 11m 31s\n",
      "900:\ttotal: 9m 14s\tremaining: 11m 16s\n",
      "925:\ttotal: 9m 29s\tremaining: 11m\n",
      "950:\ttotal: 9m 44s\tremaining: 10m 44s\n",
      "975:\ttotal: 9m 59s\tremaining: 10m 29s\n",
      "1000:\ttotal: 10m 15s\tremaining: 10m 13s\n",
      "1025:\ttotal: 10m 30s\tremaining: 9m 58s\n",
      "1050:\ttotal: 10m 45s\tremaining: 9m 42s\n",
      "1075:\ttotal: 11m 1s\tremaining: 9m 27s\n",
      "1100:\ttotal: 11m 16s\tremaining: 9m 12s\n",
      "1125:\ttotal: 11m 31s\tremaining: 8m 56s\n",
      "1150:\ttotal: 11m 46s\tremaining: 8m 41s\n",
      "1175:\ttotal: 12m 2s\tremaining: 8m 25s\n",
      "1200:\ttotal: 12m 17s\tremaining: 8m 10s\n",
      "1225:\ttotal: 12m 32s\tremaining: 7m 55s\n",
      "1250:\ttotal: 12m 48s\tremaining: 7m 39s\n",
      "1275:\ttotal: 13m 3s\tremaining: 7m 24s\n",
      "1300:\ttotal: 13m 19s\tremaining: 7m 9s\n",
      "1325:\ttotal: 13m 34s\tremaining: 6m 54s\n",
      "1350:\ttotal: 13m 49s\tremaining: 6m 38s\n",
      "1375:\ttotal: 14m 5s\tremaining: 6m 23s\n",
      "1400:\ttotal: 14m 20s\tremaining: 6m 7s\n",
      "1425:\ttotal: 14m 34s\tremaining: 5m 52s\n",
      "1450:\ttotal: 14m 49s\tremaining: 5m 36s\n",
      "1475:\ttotal: 15m 5s\tremaining: 5m 21s\n",
      "1500:\ttotal: 15m 20s\tremaining: 5m 5s\n",
      "1525:\ttotal: 15m 35s\tremaining: 4m 50s\n",
      "1550:\ttotal: 15m 50s\tremaining: 4m 35s\n",
      "1575:\ttotal: 16m 5s\tremaining: 4m 19s\n",
      "1600:\ttotal: 16m 20s\tremaining: 4m 4s\n",
      "1625:\ttotal: 16m 35s\tremaining: 3m 48s\n",
      "1650:\ttotal: 16m 50s\tremaining: 3m 33s\n",
      "1675:\ttotal: 17m 5s\tremaining: 3m 18s\n",
      "1700:\ttotal: 17m 20s\tremaining: 3m 2s\n",
      "1725:\ttotal: 17m 36s\tremaining: 2m 47s\n",
      "1750:\ttotal: 17m 51s\tremaining: 2m 32s\n",
      "1775:\ttotal: 18m 6s\tremaining: 2m 17s\n",
      "1800:\ttotal: 18m 21s\tremaining: 2m 1s\n",
      "1825:\ttotal: 18m 36s\tremaining: 1m 46s\n",
      "1850:\ttotal: 18m 51s\tremaining: 1m 31s\n",
      "1875:\ttotal: 19m 6s\tremaining: 1m 15s\n",
      "1900:\ttotal: 19m 21s\tremaining: 1m\n",
      "1925:\ttotal: 19m 36s\tremaining: 45.2s\n",
      "1950:\ttotal: 19m 51s\tremaining: 29.9s\n",
      "1975:\ttotal: 20m 6s\tremaining: 14.6s\n",
      "1999:\ttotal: 20m 20s\tremaining: 0us\n",
      "\u001b[1m\u001b[31m\n",
      "RAM memory GB usage = 26.94\u001b[0m\n"
     ]
    }
   ],
   "source": [
    "\n",
    "model = CatBoostRanker(cat_features=categorical_columns, iterations=2000, depth=8, colsample_bylevel=0.5)\n",
    "\n",
    "model.fit(X, y, group_id=groups, verbose=25)\n",
    "\n",
    "gc.collect()\n",
    "PrintColor(f\"\\n\" + GetMemUsage(), color = Fore.RED)\n"
   ]
  },
  {
   "cell_type": "code",
   "execution_count": 98,
   "metadata": {},
   "outputs": [
    {
     "data": {
      "text/html": [
       "<div><style>\n",
       ".dataframe > thead > tr,\n",
       ".dataframe > tbody > tr {\n",
       "  text-align: right;\n",
       "  white-space: pre-wrap;\n",
       "}\n",
       "</style>\n",
       "<small>shape: (2_928_942, 254)</small><table border=\"1\" class=\"dataframe\"><thead><tr><th>impression_id</th><th>article</th><th>user_id</th><th>target</th><th>device_type</th><th>read_time</th><th>scroll_percentage</th><th>is_sso_user</th><th>gender</th><th>age</th><th>is_subscriber</th><th>postcode</th><th>trendiness_score_1d</th><th>trendiness_score_3d</th><th>trendiness_score_5d</th><th>weekday</th><th>hour</th><th>trendiness_score_1d/3d</th><th>trendiness_score_1d/5d</th><th>normalized_trendiness_score_overall</th><th>premium</th><th>category</th><th>sentiment_score</th><th>sentiment_label</th><th>num_images</th><th>title_len</th><th>subtitle_len</th><th>body_len</th><th>num_topics</th><th>total_pageviews</th><th>total_inviews</th><th>total_read_time</th><th>total_pageviews/inviews</th><th>article_type</th><th>article_delay_days</th><th>article_delay_hours</th><th>Entity_EVENT_Present</th><th>&hellip;</th><th>entropy_impression_endorsement_10h</th><th>entropy_impression_total_pageviews/inviews</th><th>entropy_impression_mean_JS</th><th>entropy_impression_mean_topic_model_cosine</th><th>entropy_impression_topics_cosine</th><th>entropy_impression_article_delay_hours</th><th>entropy_impression_total_pageviews</th><th>entropy_impression_total_inviews</th><th>entropy_impression_trendiness_score_category</th><th>entropy_impression_std_JS</th><th>entropy_impression_trendiness_score_5d</th><th>entropy_impression_total_read_time</th><th>trendiness_score_3d_minus_median_impression</th><th>endorsement_10h_minus_median_impression</th><th>total_pageviews/inviews_minus_median_impression</th><th>mean_JS_minus_median_impression</th><th>mean_topic_model_cosine_minus_median_impression</th><th>topics_cosine_minus_median_impression</th><th>article_delay_hours_minus_median_impression</th><th>total_pageviews_minus_median_impression</th><th>total_inviews_minus_median_impression</th><th>trendiness_score_category_minus_median_impression</th><th>std_JS_minus_median_impression</th><th>trendiness_score_5d_minus_median_impression</th><th>total_read_time_minus_median_impression</th><th>mean_JS_l_inf_user</th><th>std_JS_l_inf_user</th><th>mean_topic_model_cosine_l_inf_user</th><th>topics_cosine_l_inf_user</th><th>article_delay_hours_l_inf_article</th><th>mean_JS_l_inf_article</th><th>std_JS_l_inf_article</th><th>mean_topic_model_cosine_l_inf_article</th><th>topics_cosine_l_inf_article</th><th>category_diversity_impression</th><th>sentiment_label_diversity_impression</th><th>article_type_diversity_impression</th></tr><tr><td>u32</td><td>i32</td><td>u32</td><td>i8</td><td>i8</td><td>f32</td><td>f32</td><td>bool</td><td>i8</td><td>i8</td><td>bool</td><td>i8</td><td>i16</td><td>i16</td><td>i16</td><td>i8</td><td>i8</td><td>f32</td><td>f32</td><td>f32</td><td>bool</td><td>i16</td><td>f32</td><td>str</td><td>u32</td><td>u8</td><td>u8</td><td>u16</td><td>u32</td><td>i32</td><td>i32</td><td>f32</td><td>f32</td><td>str</td><td>i16</td><td>i32</td><td>bool</td><td>&hellip;</td><td>f64</td><td>f32</td><td>f32</td><td>f32</td><td>f32</td><td>f64</td><td>f64</td><td>f64</td><td>f64</td><td>f32</td><td>f64</td><td>f32</td><td>f64</td><td>f64</td><td>f32</td><td>f32</td><td>f32</td><td>f32</td><td>f64</td><td>f64</td><td>f64</td><td>f64</td><td>f32</td><td>f64</td><td>f32</td><td>f32</td><td>f32</td><td>f32</td><td>f32</td><td>f64</td><td>f32</td><td>f32</td><td>f32</td><td>f32</td><td>u32</td><td>u32</td><td>u32</td></tr></thead><tbody><tr><td>205373625</td><td>9785030</td><td>1801226</td><td>0</td><td>2</td><td>251.0</td><td>null</td><td>true</td><td>0</td><td>null</td><td>true</td><td>5</td><td>30</td><td>80</td><td>162</td><td>7</td><td>17</td><td>0.375</td><td>0.185185</td><td>0.146789</td><td>false</td><td>414</td><td>0.9167</td><td>&quot;Positive&quot;</td><td>3</td><td>6</td><td>31</td><td>426</td><td>3</td><td>37391</td><td>349453</td><td>2.850225e6</td><td>0.106999</td><td>&quot;article_default&quot;</td><td>0</td><td>2</td><td>false</td><td>&hellip;</td><td>3.613138</td><td>3.589502</td><td>3.595951</td><td>3.758065</td><td>3.631038</td><td>NaN</td><td>3.447933</td><td>3.399587</td><td>3.603802</td><td>3.672916</td><td>3.567628</td><td>3.488753</td><td>-139.0</td><td>69.0</td><td>-0.021321</td><td>-0.059766</td><td>0.077358</td><td>-0.207508</td><td>-3.0</td><td>-15276.5</td><td>-34312.5</td><td>-67.0</td><td>-0.035288</td><td>-253.0</td><td>-770304.0</td><td>0.291109</td><td>0.442209</td><td>0.972551</td><td>0.25217</td><td>0.025974</td><td>0.253</td><td>0.421015</td><td>0.879186</td><td>0.272875</td><td>8</td><td>3</td><td>3</td></tr><tr><td>456698625</td><td>9553264</td><td>1757180</td><td>0</td><td>2</td><td>34.0</td><td>null</td><td>false</td><td>2</td><td>null</td><td>false</td><td>5</td><td>55</td><td>105</td><td>190</td><td>3</td><td>5</td><td>0.52381</td><td>0.289474</td><td>0.173267</td><td>true</td><td>457</td><td>0.8349</td><td>&quot;Neutral&quot;</td><td>1</td><td>6</td><td>20</td><td>718</td><td>3</td><td>null</td><td>null</td><td>null</td><td>null</td><td>&quot;article_default&quot;</td><td>162</td><td>3908</td><td>false</td><td>&hellip;</td><td>2.414501</td><td>2.598626</td><td>2.587271</td><td>2.703429</td><td>2.621012</td><td>NaN</td><td>2.487291</td><td>2.576228</td><td>2.518426</td><td>2.683312</td><td>2.546191</td><td>2.466265</td><td>-80.0</td><td>-377.0</td><td>null</td><td>-0.007509</td><td>-0.09586</td><td>-0.077113</td><td>3906.0</td><td>null</td><td>null</td><td>-96.0</td><td>0.000809</td><td>-89.0</td><td>null</td><td>0.324542</td><td>0.586527</td><td>0.720961</td><td>0.291917</td><td>0.993644</td><td>0.10526</td><td>0.269075</td><td>0.808239</td><td>0.179034</td><td>5</td><td>3</td><td>1</td></tr><tr><td>46558736</td><td>7213923</td><td>1885995</td><td>0</td><td>2</td><td>25.0</td><td>null</td><td>false</td><td>2</td><td>null</td><td>false</td><td>5</td><td>26</td><td>64</td><td>94</td><td>1</td><td>6</td><td>0.40625</td><td>0.276596</td><td>0.105263</td><td>true</td><td>565</td><td>0.8109</td><td>&quot;Neutral&quot;</td><td>5</td><td>10</td><td>42</td><td>1048</td><td>4</td><td>null</td><td>null</td><td>null</td><td>null</td><td>&quot;article_default&quot;</td><td>1766</td><td>42385</td><td>false</td><td>&hellip;</td><td>2.5383</td><td>2.609011</td><td>2.512937</td><td>2.704911</td><td>2.545427</td><td>NaN</td><td>2.441637</td><td>2.554746</td><td>2.483112</td><td>2.606141</td><td>2.522325</td><td>2.387892</td><td>-98.0</td><td>-1373.0</td><td>null</td><td>-0.074603</td><td>0.002056</td><td>-0.228412</td><td>42383.0</td><td>null</td><td>null</td><td>-95.0</td><td>-0.09143</td><td>-217.0</td><td>null</td><td>0.093726</td><td>0.196071</td><td>0.89184</td><td>0.124086</td><td>0.998281</td><td>0.045365</td><td>0.194879</td><td>0.848475</td><td>0.144924</td><td>6</td><td>3</td><td>1</td></tr><tr><td>470321755</td><td>9504105</td><td>594528</td><td>0</td><td>2</td><td>0.0</td><td>100.0</td><td>false</td><td>2</td><td>null</td><td>false</td><td>5</td><td>84</td><td>249</td><td>393</td><td>2</td><td>19</td><td>0.337349</td><td>0.21374</td><td>0.394612</td><td>true</td><td>142</td><td>0.8874</td><td>&quot;Positive&quot;</td><td>5</td><td>7</td><td>44</td><td>836</td><td>2</td><td>null</td><td>null</td><td>null</td><td>null</td><td>&quot;article_default&quot;</td><td>203</td><td>4895</td><td>true</td><td>&hellip;</td><td>3.224331</td><td>3.149038</td><td>NaN</td><td>3.427022</td><td>NaN</td><td>NaN</td><td>3.018402</td><td>2.828171</td><td>3.191193</td><td>NaN</td><td>3.153275</td><td>3.059159</td><td>121.0</td><td>-737.0</td><td>null</td><td>0.20034</td><td>0.079726</td><td>0.402638</td><td>4892.0</td><td>null</td><td>null</td><td>27.0</td><td>0.075762</td><td>185.0</td><td>null</td><td>0.495476</td><td>0.434085</td><td>0.963454</td><td>0.572476</td><td>0.992699</td><td>0.629829</td><td>0.499302</td><td>0.864027</td><td>0.71809</td><td>8</td><td>3</td><td>2</td></tr><tr><td>214849994</td><td>9279095</td><td>811018</td><td>0</td><td>1</td><td>12.0</td><td>null</td><td>false</td><td>2</td><td>null</td><td>false</td><td>5</td><td>10</td><td>48</td><td>73</td><td>7</td><td>15</td><td>0.208333</td><td>0.136986</td><td>0.088073</td><td>true</td><td>414</td><td>0.8922</td><td>&quot;Neutral&quot;</td><td>15</td><td>5</td><td>34</td><td>1358</td><td>2</td><td>null</td><td>null</td><td>null</td><td>null</td><td>&quot;article_standard_feature&quot;</td><td>361</td><td>8667</td><td>false</td><td>&hellip;</td><td>1.97702</td><td>1.734625</td><td>2.122262</td><td>2.298575</td><td>2.136155</td><td>1.303762</td><td>1.647051</td><td>1.696444</td><td>1.864146</td><td>2.231121</td><td>2.028662</td><td>1.666511</td><td>-101.0</td><td>-976.0</td><td>null</td><td>-0.008241</td><td>0.009916</td><td>0.112593</td><td>8644.5</td><td>null</td><td>null</td><td>9.0</td><td>-0.003612</td><td>-183.0</td><td>null</td><td>0.330884</td><td>0.328687</td><td>0.903213</td><td>0.480696</td><td>0.993125</td><td>0.176142</td><td>0.323765</td><td>0.878249</td><td>0.406838</td><td>5</td><td>3</td><td>2</td></tr><tr><td>&hellip;</td><td>&hellip;</td><td>&hellip;</td><td>&hellip;</td><td>&hellip;</td><td>&hellip;</td><td>&hellip;</td><td>&hellip;</td><td>&hellip;</td><td>&hellip;</td><td>&hellip;</td><td>&hellip;</td><td>&hellip;</td><td>&hellip;</td><td>&hellip;</td><td>&hellip;</td><td>&hellip;</td><td>&hellip;</td><td>&hellip;</td><td>&hellip;</td><td>&hellip;</td><td>&hellip;</td><td>&hellip;</td><td>&hellip;</td><td>&hellip;</td><td>&hellip;</td><td>&hellip;</td><td>&hellip;</td><td>&hellip;</td><td>&hellip;</td><td>&hellip;</td><td>&hellip;</td><td>&hellip;</td><td>&hellip;</td><td>&hellip;</td><td>&hellip;</td><td>&hellip;</td><td>&hellip;</td><td>&hellip;</td><td>&hellip;</td><td>&hellip;</td><td>&hellip;</td><td>&hellip;</td><td>&hellip;</td><td>&hellip;</td><td>&hellip;</td><td>&hellip;</td><td>&hellip;</td><td>&hellip;</td><td>&hellip;</td><td>&hellip;</td><td>&hellip;</td><td>&hellip;</td><td>&hellip;</td><td>&hellip;</td><td>&hellip;</td><td>&hellip;</td><td>&hellip;</td><td>&hellip;</td><td>&hellip;</td><td>&hellip;</td><td>&hellip;</td><td>&hellip;</td><td>&hellip;</td><td>&hellip;</td><td>&hellip;</td><td>&hellip;</td><td>&hellip;</td><td>&hellip;</td><td>&hellip;</td><td>&hellip;</td><td>&hellip;</td><td>&hellip;</td><td>&hellip;</td><td>&hellip;</td></tr><tr><td>184283316</td><td>9526715</td><td>2530683</td><td>0</td><td>2</td><td>25.0</td><td>null</td><td>false</td><td>2</td><td>null</td><td>false</td><td>5</td><td>16</td><td>46</td><td>109</td><td>7</td><td>19</td><td>0.347826</td><td>0.146789</td><td>0.084404</td><td>true</td><td>457</td><td>0.9216</td><td>&quot;Positive&quot;</td><td>8</td><td>6</td><td>28</td><td>846</td><td>4</td><td>null</td><td>null</td><td>null</td><td>null</td><td>&quot;article_default&quot;</td><td>179</td><td>4306</td><td>true</td><td>&hellip;</td><td>2.579236</td><td>2.549223</td><td>2.392785</td><td>2.769034</td><td>2.455192</td><td>NaN</td><td>2.438128</td><td>2.585122</td><td>2.445014</td><td>2.563066</td><td>2.516468</td><td>2.484598</td><td>-159.0</td><td>851.5</td><td>null</td><td>-0.068041</td><td>-0.010979</td><td>-0.202956</td><td>4305.0</td><td>null</td><td>null</td><td>-66.0</td><td>-0.079315</td><td>-240.5</td><td>null</td><td>0.062263</td><td>0.154296</td><td>0.855596</td><td>0.082469</td><td>0.985806</td><td>0.117577</td><td>0.20303</td><td>0.811139</td><td>0.162312</td><td>7</td><td>3</td><td>1</td></tr><tr><td>90104855</td><td>9538004</td><td>2188571</td><td>0</td><td>1</td><td>88.0</td><td>null</td><td>false</td><td>2</td><td>null</td><td>false</td><td>5</td><td>61</td><td>190</td><td>344</td><td>6</td><td>8</td><td>0.321053</td><td>0.177326</td><td>0.368217</td><td>true</td><td>140</td><td>0.6134</td><td>&quot;Neutral&quot;</td><td>11</td><td>6</td><td>24</td><td>1112</td><td>5</td><td>null</td><td>null</td><td>null</td><td>null</td><td>&quot;article_standard_feature&quot;</td><td>145</td><td>3503</td><td>false</td><td>&hellip;</td><td>3.178899</td><td>3.238027</td><td>3.56544</td><td>3.683996</td><td>3.585115</td><td>1.93449</td><td>3.180917</td><td>3.299404</td><td>3.425413</td><td>3.607439</td><td>3.433167</td><td>3.230481</td><td>72.5</td><td>145.0</td><td>null</td><td>0.009155</td><td>0.013953</td><td>0.037341</td><td>3471.0</td><td>null</td><td>null</td><td>0.0</td><td>0.006474</td><td>154.5</td><td>null</td><td>0.597854</td><td>0.470919</td><td>0.913364</td><td>0.488181</td><td>0.973867</td><td>0.403892</td><td>0.66911</td><td>0.871372</td><td>0.498279</td><td>8</td><td>3</td><td>3</td></tr><tr><td>257661167</td><td>9268227</td><td>2577740</td><td>0</td><td>2</td><td>83.0</td><td>100.0</td><td>true</td><td>0</td><td>50</td><td>false</td><td>5</td><td>45</td><td>155</td><td>290</td><td>6</td><td>17</td><td>0.290323</td><td>0.155172</td><td>0.300388</td><td>true</td><td>140</td><td>0.9946</td><td>&quot;Negative&quot;</td><td>5</td><td>6</td><td>25</td><td>1102</td><td>5</td><td>null</td><td>null</td><td>null</td><td>null</td><td>&quot;article_default&quot;</td><td>361</td><td>8676</td><td>false</td><td>&hellip;</td><td>2.615567</td><td>2.698224</td><td>2.763518</td><td>2.885952</td><td>2.800743</td><td>NaN</td><td>2.487511</td><td>2.639263</td><td>2.779887</td><td>2.778692</td><td>2.726676</td><td>2.495079</td><td>-4.0</td><td>-113.5</td><td>null</td><td>-0.002833</td><td>-0.015208</td><td>-0.008086</td><td>8675.0</td><td>null</td><td>null</td><td>-54.0</td><td>-0.040868</td><td>17.0</td><td>null</td><td>0.617845</td><td>0.433314</td><td>0.831347</td><td>0.59966</td><td>0.987592</td><td>0.329419</td><td>0.643728</td><td>0.798818</td><td>0.439408</td><td>5</td><td>3</td><td>2</td></tr><tr><td>379754148</td><td>9786230</td><td>1567717</td><td>0</td><td>1</td><td>110.0</td><td>100.0</td><td>false</td><td>2</td><td>null</td><td>false</td><td>5</td><td>69</td><td>250</td><td>413</td><td>1</td><td>11</td><td>0.276</td><td>0.16707</td><td>0.411184</td><td>false</td><td>142</td><td>0.9891</td><td>&quot;Negative&quot;</td><td>2</td><td>6</td><td>14</td><td>263</td><td>4</td><td>62719</td><td>288112</td><td>2.380866e6</td><td>0.21769</td><td>&quot;article_default&quot;</td><td>0</td><td>3</td><td>false</td><td>&hellip;</td><td>0.693936</td><td>1.919736</td><td>1.902583</td><td>1.944614</td><td>1.896908</td><td>NaN</td><td>1.818739</td><td>1.884916</td><td>1.858519</td><td>1.90391</td><td>1.926037</td><td>1.836109</td><td>-48.0</td><td>1589.0</td><td>0.068483</td><td>-0.043218</td><td>0.0</td><td>-0.088774</td><td>0.0</td><td>4351.0</td><td>-26080.0</td><td>0.0</td><td>-0.014528</td><td>-71.0</td><td>-600245.0</td><td>0.522058</td><td>0.630632</td><td>0.892089</td><td>0.611012</td><td>0.058824</td><td>0.387504</td><td>0.446642</td><td>0.860705</td><td>0.584431</td><td>3</td><td>2</td><td>1</td></tr><tr><td>387804927</td><td>9780815</td><td>1477863</td><td>0</td><td>1</td><td>65.0</td><td>100.0</td><td>false</td><td>2</td><td>null</td><td>false</td><td>5</td><td>53</td><td>161</td><td>274</td><td>1</td><td>21</td><td>0.329193</td><td>0.193431</td><td>0.264803</td><td>true</td><td>414</td><td>0.8868</td><td>&quot;Negative&quot;</td><td>6</td><td>10</td><td>19</td><td>1127</td><td>4</td><td>63246</td><td>515693</td><td>2.941241e6</td><td>0.122643</td><td>&quot;article_default&quot;</td><td>0</td><td>15</td><td>true</td><td>&hellip;</td><td>2.027107</td><td>2.332453</td><td>2.380085</td><td>2.39675</td><td>2.375729</td><td>NaN</td><td>2.187124</td><td>2.319345</td><td>2.199281</td><td>2.36406</td><td>2.205605</td><td>2.091642</td><td>0.0</td><td>618.0</td><td>-0.058693</td><td>-0.007615</td><td>0.012926</td><td>-0.035557</td><td>14.0</td><td>-33912.0</td><td>-20099.0</td><td>-1.0</td><td>-0.072974</td><td>0.0</td><td>-318377.0</td><td>0.461498</td><td>0.362624</td><td>0.854774</td><td>0.233633</td><td>0.211268</td><td>0.266637</td><td>0.469551</td><td>0.80592</td><td>0.307582</td><td>5</td><td>3</td><td>2</td></tr></tbody></table></div>"
      ],
      "text/plain": [
       "shape: (2_928_942, 254)\n",
       "┌─────────────┬─────────┬─────────┬────────┬───┬────────────┬────────────┬────────────┬────────────┐\n",
       "│ impression_ ┆ article ┆ user_id ┆ target ┆ … ┆ topics_cos ┆ category_d ┆ sentiment_ ┆ article_ty │\n",
       "│ id          ┆ ---     ┆ ---     ┆ ---    ┆   ┆ ine_l_inf_ ┆ iversity_i ┆ label_dive ┆ pe_diversi │\n",
       "│ ---         ┆ i32     ┆ u32     ┆ i8     ┆   ┆ article    ┆ mpression  ┆ rsity_impr ┆ ty_impress │\n",
       "│ u32         ┆         ┆         ┆        ┆   ┆ ---        ┆ ---        ┆ …          ┆ …          │\n",
       "│             ┆         ┆         ┆        ┆   ┆ f32        ┆ u32        ┆ ---        ┆ ---        │\n",
       "│             ┆         ┆         ┆        ┆   ┆            ┆            ┆ u32        ┆ u32        │\n",
       "╞═════════════╪═════════╪═════════╪════════╪═══╪════════════╪════════════╪════════════╪════════════╡\n",
       "│ 205373625   ┆ 9785030 ┆ 1801226 ┆ 0      ┆ … ┆ 0.272875   ┆ 8          ┆ 3          ┆ 3          │\n",
       "│ 456698625   ┆ 9553264 ┆ 1757180 ┆ 0      ┆ … ┆ 0.179034   ┆ 5          ┆ 3          ┆ 1          │\n",
       "│ 46558736    ┆ 7213923 ┆ 1885995 ┆ 0      ┆ … ┆ 0.144924   ┆ 6          ┆ 3          ┆ 1          │\n",
       "│ 470321755   ┆ 9504105 ┆ 594528  ┆ 0      ┆ … ┆ 0.71809    ┆ 8          ┆ 3          ┆ 2          │\n",
       "│ 214849994   ┆ 9279095 ┆ 811018  ┆ 0      ┆ … ┆ 0.406838   ┆ 5          ┆ 3          ┆ 2          │\n",
       "│ …           ┆ …       ┆ …       ┆ …      ┆ … ┆ …          ┆ …          ┆ …          ┆ …          │\n",
       "│ 184283316   ┆ 9526715 ┆ 2530683 ┆ 0      ┆ … ┆ 0.162312   ┆ 7          ┆ 3          ┆ 1          │\n",
       "│ 90104855    ┆ 9538004 ┆ 2188571 ┆ 0      ┆ … ┆ 0.498279   ┆ 8          ┆ 3          ┆ 3          │\n",
       "│ 257661167   ┆ 9268227 ┆ 2577740 ┆ 0      ┆ … ┆ 0.439408   ┆ 5          ┆ 3          ┆ 2          │\n",
       "│ 379754148   ┆ 9786230 ┆ 1567717 ┆ 0      ┆ … ┆ 0.584431   ┆ 3          ┆ 2          ┆ 1          │\n",
       "│ 387804927   ┆ 9780815 ┆ 1477863 ┆ 0      ┆ … ┆ 0.307582   ┆ 5          ┆ 3          ┆ 2          │\n",
       "└─────────────┴─────────┴─────────┴────────┴───┴────────────┴────────────┴────────────┴────────────┘"
      ]
     },
     "execution_count": 98,
     "metadata": {},
     "output_type": "execute_result"
    }
   ],
   "source": [
    "val_ds = pl.read_parquet('/home/ubuntu/small_ds/validation/val_ds.parquet')\n",
    "val_ds"
   ]
  },
  {
   "cell_type": "code",
   "execution_count": 99,
   "metadata": {},
   "outputs": [
    {
     "data": {
      "text/html": [
       "<div><style>\n",
       ".dataframe > thead > tr,\n",
       ".dataframe > tbody > tr {\n",
       "  text-align: right;\n",
       "  white-space: pre-wrap;\n",
       "}\n",
       "</style>\n",
       "<small>shape: (2_928_942, 8)</small><table border=\"1\" class=\"dataframe\"><thead><tr><th>impression_id</th><th>article</th><th>user_id</th><th>PureSVDRecommender</th><th>ItemKNNCFRecommender</th><th>RP3betaRecommender</th><th>SLIM_BPR_Cython</th><th>PureSVDItemRecommender</th></tr><tr><td>u32</td><td>i32</td><td>u32</td><td>f32</td><td>f32</td><td>f32</td><td>f32</td><td>f32</td></tr></thead><tbody><tr><td>80366312</td><td>7213923</td><td>10200</td><td>3.1867e-8</td><td>0.0</td><td>0.0</td><td>0.0</td><td>0.0</td></tr><tr><td>225664684</td><td>7594265</td><td>10200</td><td>1.0059e-8</td><td>0.0</td><td>0.0</td><td>0.0</td><td>0.0</td></tr><tr><td>225664679</td><td>7594265</td><td>10200</td><td>1.0059e-8</td><td>0.0</td><td>0.0</td><td>0.0</td><td>0.0</td></tr><tr><td>225664678</td><td>7594265</td><td>10200</td><td>1.0059e-8</td><td>0.0</td><td>0.0</td><td>0.0</td><td>0.0</td></tr><tr><td>322455613</td><td>9142564</td><td>10200</td><td>-1.0755e-8</td><td>0.0</td><td>0.0</td><td>0.0</td><td>0.0</td></tr><tr><td>&hellip;</td><td>&hellip;</td><td>&hellip;</td><td>&hellip;</td><td>&hellip;</td><td>&hellip;</td><td>&hellip;</td><td>&hellip;</td></tr><tr><td>185972553</td><td>9790278</td><td>2590637</td><td>0.0</td><td>0.0</td><td>0.0</td><td>0.0</td><td>0.0</td></tr><tr><td>185972553</td><td>9790406</td><td>2590637</td><td>0.0</td><td>0.0</td><td>0.0</td><td>0.0</td><td>0.0</td></tr><tr><td>185972553</td><td>9790414</td><td>2590637</td><td>0.0</td><td>0.0</td><td>0.0</td><td>0.0</td><td>0.0</td></tr><tr><td>185972553</td><td>9790475</td><td>2590637</td><td>0.0</td><td>0.0</td><td>0.0</td><td>0.0</td><td>0.0</td></tr><tr><td>185972553</td><td>9790476</td><td>2590637</td><td>0.0</td><td>0.0</td><td>0.0</td><td>0.0</td><td>0.0</td></tr></tbody></table></div>"
      ],
      "text/plain": [
       "shape: (2_928_942, 8)\n",
       "┌─────────────┬─────────┬─────────┬────────────┬────────────┬────────────┬────────────┬────────────┐\n",
       "│ impression_ ┆ article ┆ user_id ┆ PureSVDRec ┆ ItemKNNCFR ┆ RP3betaRec ┆ SLIM_BPR_C ┆ PureSVDIte │\n",
       "│ id          ┆ ---     ┆ ---     ┆ ommender   ┆ ecommender ┆ ommender   ┆ ython      ┆ mRecommend │\n",
       "│ ---         ┆ i32     ┆ u32     ┆ ---        ┆ ---        ┆ ---        ┆ ---        ┆ er         │\n",
       "│ u32         ┆         ┆         ┆ f32        ┆ f32        ┆ f32        ┆ f32        ┆ ---        │\n",
       "│             ┆         ┆         ┆            ┆            ┆            ┆            ┆ f32        │\n",
       "╞═════════════╪═════════╪═════════╪════════════╪════════════╪════════════╪════════════╪════════════╡\n",
       "│ 80366312    ┆ 7213923 ┆ 10200   ┆ 3.1867e-8  ┆ 0.0        ┆ 0.0        ┆ 0.0        ┆ 0.0        │\n",
       "│ 225664684   ┆ 7594265 ┆ 10200   ┆ 1.0059e-8  ┆ 0.0        ┆ 0.0        ┆ 0.0        ┆ 0.0        │\n",
       "│ 225664679   ┆ 7594265 ┆ 10200   ┆ 1.0059e-8  ┆ 0.0        ┆ 0.0        ┆ 0.0        ┆ 0.0        │\n",
       "│ 225664678   ┆ 7594265 ┆ 10200   ┆ 1.0059e-8  ┆ 0.0        ┆ 0.0        ┆ 0.0        ┆ 0.0        │\n",
       "│ 322455613   ┆ 9142564 ┆ 10200   ┆ -1.0755e-8 ┆ 0.0        ┆ 0.0        ┆ 0.0        ┆ 0.0        │\n",
       "│ …           ┆ …       ┆ …       ┆ …          ┆ …          ┆ …          ┆ …          ┆ …          │\n",
       "│ 185972553   ┆ 9790278 ┆ 2590637 ┆ 0.0        ┆ 0.0        ┆ 0.0        ┆ 0.0        ┆ 0.0        │\n",
       "│ 185972553   ┆ 9790406 ┆ 2590637 ┆ 0.0        ┆ 0.0        ┆ 0.0        ┆ 0.0        ┆ 0.0        │\n",
       "│ 185972553   ┆ 9790414 ┆ 2590637 ┆ 0.0        ┆ 0.0        ┆ 0.0        ┆ 0.0        ┆ 0.0        │\n",
       "│ 185972553   ┆ 9790475 ┆ 2590637 ┆ 0.0        ┆ 0.0        ┆ 0.0        ┆ 0.0        ┆ 0.0        │\n",
       "│ 185972553   ┆ 9790476 ┆ 2590637 ┆ 0.0        ┆ 0.0        ┆ 0.0        ┆ 0.0        ┆ 0.0        │\n",
       "└─────────────┴─────────┴─────────┴────────────┴────────────┴────────────┴────────────┴────────────┘"
      ]
     },
     "execution_count": 99,
     "metadata": {},
     "output_type": "execute_result"
    }
   ],
   "source": [
    "recsys_features = pl.read_parquet('/mnt/ebs_volume_2/recsys2024/features/recsys/small/validation/recsys_scores_features.parquet')\n",
    "recsys_features"
   ]
  },
  {
   "cell_type": "code",
   "execution_count": 100,
   "metadata": {},
   "outputs": [
    {
     "data": {
      "text/html": [
       "<div><style>\n",
       ".dataframe > thead > tr,\n",
       ".dataframe > tbody > tr {\n",
       "  text-align: right;\n",
       "  white-space: pre-wrap;\n",
       "}\n",
       "</style>\n",
       "<small>shape: (2_928_942, 259)</small><table border=\"1\" class=\"dataframe\"><thead><tr><th>impression_id</th><th>article</th><th>user_id</th><th>target</th><th>device_type</th><th>read_time</th><th>scroll_percentage</th><th>is_sso_user</th><th>gender</th><th>age</th><th>is_subscriber</th><th>postcode</th><th>trendiness_score_1d</th><th>trendiness_score_3d</th><th>trendiness_score_5d</th><th>weekday</th><th>hour</th><th>trendiness_score_1d/3d</th><th>trendiness_score_1d/5d</th><th>normalized_trendiness_score_overall</th><th>premium</th><th>category</th><th>sentiment_score</th><th>sentiment_label</th><th>num_images</th><th>title_len</th><th>subtitle_len</th><th>body_len</th><th>num_topics</th><th>total_pageviews</th><th>total_inviews</th><th>total_read_time</th><th>total_pageviews/inviews</th><th>article_type</th><th>article_delay_days</th><th>article_delay_hours</th><th>Entity_EVENT_Present</th><th>&hellip;</th><th>entropy_impression_article_delay_hours</th><th>entropy_impression_total_pageviews</th><th>entropy_impression_total_inviews</th><th>entropy_impression_trendiness_score_category</th><th>entropy_impression_std_JS</th><th>entropy_impression_trendiness_score_5d</th><th>entropy_impression_total_read_time</th><th>trendiness_score_3d_minus_median_impression</th><th>endorsement_10h_minus_median_impression</th><th>total_pageviews/inviews_minus_median_impression</th><th>mean_JS_minus_median_impression</th><th>mean_topic_model_cosine_minus_median_impression</th><th>topics_cosine_minus_median_impression</th><th>article_delay_hours_minus_median_impression</th><th>total_pageviews_minus_median_impression</th><th>total_inviews_minus_median_impression</th><th>trendiness_score_category_minus_median_impression</th><th>std_JS_minus_median_impression</th><th>trendiness_score_5d_minus_median_impression</th><th>total_read_time_minus_median_impression</th><th>mean_JS_l_inf_user</th><th>std_JS_l_inf_user</th><th>mean_topic_model_cosine_l_inf_user</th><th>topics_cosine_l_inf_user</th><th>article_delay_hours_l_inf_article</th><th>mean_JS_l_inf_article</th><th>std_JS_l_inf_article</th><th>mean_topic_model_cosine_l_inf_article</th><th>topics_cosine_l_inf_article</th><th>category_diversity_impression</th><th>sentiment_label_diversity_impression</th><th>article_type_diversity_impression</th><th>PureSVDRecommender</th><th>ItemKNNCFRecommender</th><th>RP3betaRecommender</th><th>SLIM_BPR_Cython</th><th>PureSVDItemRecommender</th></tr><tr><td>u32</td><td>i32</td><td>u32</td><td>i8</td><td>i8</td><td>f32</td><td>f32</td><td>bool</td><td>i8</td><td>i8</td><td>bool</td><td>i8</td><td>i16</td><td>i16</td><td>i16</td><td>i8</td><td>i8</td><td>f32</td><td>f32</td><td>f32</td><td>bool</td><td>i16</td><td>f32</td><td>str</td><td>u32</td><td>u8</td><td>u8</td><td>u16</td><td>u32</td><td>i32</td><td>i32</td><td>f32</td><td>f32</td><td>str</td><td>i16</td><td>i32</td><td>bool</td><td>&hellip;</td><td>f64</td><td>f64</td><td>f64</td><td>f64</td><td>f32</td><td>f64</td><td>f32</td><td>f64</td><td>f64</td><td>f32</td><td>f32</td><td>f32</td><td>f32</td><td>f64</td><td>f64</td><td>f64</td><td>f64</td><td>f32</td><td>f64</td><td>f32</td><td>f32</td><td>f32</td><td>f32</td><td>f32</td><td>f64</td><td>f32</td><td>f32</td><td>f32</td><td>f32</td><td>u32</td><td>u32</td><td>u32</td><td>f32</td><td>f32</td><td>f32</td><td>f32</td><td>f32</td></tr></thead><tbody><tr><td>205373625</td><td>9785030</td><td>1801226</td><td>0</td><td>2</td><td>251.0</td><td>null</td><td>true</td><td>0</td><td>null</td><td>true</td><td>5</td><td>30</td><td>80</td><td>162</td><td>7</td><td>17</td><td>0.375</td><td>0.185185</td><td>0.146789</td><td>false</td><td>414</td><td>0.9167</td><td>&quot;Positive&quot;</td><td>3</td><td>6</td><td>31</td><td>426</td><td>3</td><td>37391</td><td>349453</td><td>2.850225e6</td><td>0.106999</td><td>&quot;article_default&quot;</td><td>0</td><td>2</td><td>false</td><td>&hellip;</td><td>NaN</td><td>3.447933</td><td>3.399587</td><td>3.603802</td><td>3.672916</td><td>3.567628</td><td>3.488753</td><td>-139.0</td><td>69.0</td><td>-0.021321</td><td>-0.059766</td><td>0.077358</td><td>-0.207508</td><td>-3.0</td><td>-15276.5</td><td>-34312.5</td><td>-67.0</td><td>-0.035288</td><td>-253.0</td><td>-770304.0</td><td>0.291109</td><td>0.442209</td><td>0.972551</td><td>0.25217</td><td>0.025974</td><td>0.253</td><td>0.421015</td><td>0.879186</td><td>0.272875</td><td>8</td><td>3</td><td>3</td><td>0.0</td><td>0.0</td><td>0.0</td><td>0.0</td><td>0.0</td></tr><tr><td>456698625</td><td>9553264</td><td>1757180</td><td>0</td><td>2</td><td>34.0</td><td>null</td><td>false</td><td>2</td><td>null</td><td>false</td><td>5</td><td>55</td><td>105</td><td>190</td><td>3</td><td>5</td><td>0.52381</td><td>0.289474</td><td>0.173267</td><td>true</td><td>457</td><td>0.8349</td><td>&quot;Neutral&quot;</td><td>1</td><td>6</td><td>20</td><td>718</td><td>3</td><td>null</td><td>null</td><td>null</td><td>null</td><td>&quot;article_default&quot;</td><td>162</td><td>3908</td><td>false</td><td>&hellip;</td><td>NaN</td><td>2.487291</td><td>2.576228</td><td>2.518426</td><td>2.683312</td><td>2.546191</td><td>2.466265</td><td>-80.0</td><td>-377.0</td><td>null</td><td>-0.007509</td><td>-0.09586</td><td>-0.077113</td><td>3906.0</td><td>null</td><td>null</td><td>-96.0</td><td>0.000809</td><td>-89.0</td><td>null</td><td>0.324542</td><td>0.586527</td><td>0.720961</td><td>0.291917</td><td>0.993644</td><td>0.10526</td><td>0.269075</td><td>0.808239</td><td>0.179034</td><td>5</td><td>3</td><td>1</td><td>0.000609</td><td>0.0</td><td>0.0</td><td>0.0</td><td>0.002461</td></tr><tr><td>46558736</td><td>7213923</td><td>1885995</td><td>0</td><td>2</td><td>25.0</td><td>null</td><td>false</td><td>2</td><td>null</td><td>false</td><td>5</td><td>26</td><td>64</td><td>94</td><td>1</td><td>6</td><td>0.40625</td><td>0.276596</td><td>0.105263</td><td>true</td><td>565</td><td>0.8109</td><td>&quot;Neutral&quot;</td><td>5</td><td>10</td><td>42</td><td>1048</td><td>4</td><td>null</td><td>null</td><td>null</td><td>null</td><td>&quot;article_default&quot;</td><td>1766</td><td>42385</td><td>false</td><td>&hellip;</td><td>NaN</td><td>2.441637</td><td>2.554746</td><td>2.483112</td><td>2.606141</td><td>2.522325</td><td>2.387892</td><td>-98.0</td><td>-1373.0</td><td>null</td><td>-0.074603</td><td>0.002056</td><td>-0.228412</td><td>42383.0</td><td>null</td><td>null</td><td>-95.0</td><td>-0.09143</td><td>-217.0</td><td>null</td><td>0.093726</td><td>0.196071</td><td>0.89184</td><td>0.124086</td><td>0.998281</td><td>0.045365</td><td>0.194879</td><td>0.848475</td><td>0.144924</td><td>6</td><td>3</td><td>1</td><td>0.003138</td><td>0.001332</td><td>0.000853</td><td>0.0</td><td>0.010064</td></tr><tr><td>470321755</td><td>9504105</td><td>594528</td><td>0</td><td>2</td><td>0.0</td><td>100.0</td><td>false</td><td>2</td><td>null</td><td>false</td><td>5</td><td>84</td><td>249</td><td>393</td><td>2</td><td>19</td><td>0.337349</td><td>0.21374</td><td>0.394612</td><td>true</td><td>142</td><td>0.8874</td><td>&quot;Positive&quot;</td><td>5</td><td>7</td><td>44</td><td>836</td><td>2</td><td>null</td><td>null</td><td>null</td><td>null</td><td>&quot;article_default&quot;</td><td>203</td><td>4895</td><td>true</td><td>&hellip;</td><td>NaN</td><td>3.018402</td><td>2.828171</td><td>3.191193</td><td>NaN</td><td>3.153275</td><td>3.059159</td><td>121.0</td><td>-737.0</td><td>null</td><td>0.20034</td><td>0.079726</td><td>0.402638</td><td>4892.0</td><td>null</td><td>null</td><td>27.0</td><td>0.075762</td><td>185.0</td><td>null</td><td>0.495476</td><td>0.434085</td><td>0.963454</td><td>0.572476</td><td>0.992699</td><td>0.629829</td><td>0.499302</td><td>0.864027</td><td>0.71809</td><td>8</td><td>3</td><td>2</td><td>0.000079</td><td>0.0</td><td>0.0</td><td>0.0</td><td>0.000225</td></tr><tr><td>214849994</td><td>9279095</td><td>811018</td><td>0</td><td>1</td><td>12.0</td><td>null</td><td>false</td><td>2</td><td>null</td><td>false</td><td>5</td><td>10</td><td>48</td><td>73</td><td>7</td><td>15</td><td>0.208333</td><td>0.136986</td><td>0.088073</td><td>true</td><td>414</td><td>0.8922</td><td>&quot;Neutral&quot;</td><td>15</td><td>5</td><td>34</td><td>1358</td><td>2</td><td>null</td><td>null</td><td>null</td><td>null</td><td>&quot;article_standard_feature&quot;</td><td>361</td><td>8667</td><td>false</td><td>&hellip;</td><td>1.303762</td><td>1.647051</td><td>1.696444</td><td>1.864146</td><td>2.231121</td><td>2.028662</td><td>1.666511</td><td>-101.0</td><td>-976.0</td><td>null</td><td>-0.008241</td><td>0.009916</td><td>0.112593</td><td>8644.5</td><td>null</td><td>null</td><td>9.0</td><td>-0.003612</td><td>-183.0</td><td>null</td><td>0.330884</td><td>0.328687</td><td>0.903213</td><td>0.480696</td><td>0.993125</td><td>0.176142</td><td>0.323765</td><td>0.878249</td><td>0.406838</td><td>5</td><td>3</td><td>2</td><td>0.0</td><td>0.0</td><td>0.0</td><td>0.0</td><td>0.0</td></tr><tr><td>&hellip;</td><td>&hellip;</td><td>&hellip;</td><td>&hellip;</td><td>&hellip;</td><td>&hellip;</td><td>&hellip;</td><td>&hellip;</td><td>&hellip;</td><td>&hellip;</td><td>&hellip;</td><td>&hellip;</td><td>&hellip;</td><td>&hellip;</td><td>&hellip;</td><td>&hellip;</td><td>&hellip;</td><td>&hellip;</td><td>&hellip;</td><td>&hellip;</td><td>&hellip;</td><td>&hellip;</td><td>&hellip;</td><td>&hellip;</td><td>&hellip;</td><td>&hellip;</td><td>&hellip;</td><td>&hellip;</td><td>&hellip;</td><td>&hellip;</td><td>&hellip;</td><td>&hellip;</td><td>&hellip;</td><td>&hellip;</td><td>&hellip;</td><td>&hellip;</td><td>&hellip;</td><td>&hellip;</td><td>&hellip;</td><td>&hellip;</td><td>&hellip;</td><td>&hellip;</td><td>&hellip;</td><td>&hellip;</td><td>&hellip;</td><td>&hellip;</td><td>&hellip;</td><td>&hellip;</td><td>&hellip;</td><td>&hellip;</td><td>&hellip;</td><td>&hellip;</td><td>&hellip;</td><td>&hellip;</td><td>&hellip;</td><td>&hellip;</td><td>&hellip;</td><td>&hellip;</td><td>&hellip;</td><td>&hellip;</td><td>&hellip;</td><td>&hellip;</td><td>&hellip;</td><td>&hellip;</td><td>&hellip;</td><td>&hellip;</td><td>&hellip;</td><td>&hellip;</td><td>&hellip;</td><td>&hellip;</td><td>&hellip;</td><td>&hellip;</td><td>&hellip;</td><td>&hellip;</td><td>&hellip;</td></tr><tr><td>184283316</td><td>9526715</td><td>2530683</td><td>0</td><td>2</td><td>25.0</td><td>null</td><td>false</td><td>2</td><td>null</td><td>false</td><td>5</td><td>16</td><td>46</td><td>109</td><td>7</td><td>19</td><td>0.347826</td><td>0.146789</td><td>0.084404</td><td>true</td><td>457</td><td>0.9216</td><td>&quot;Positive&quot;</td><td>8</td><td>6</td><td>28</td><td>846</td><td>4</td><td>null</td><td>null</td><td>null</td><td>null</td><td>&quot;article_default&quot;</td><td>179</td><td>4306</td><td>true</td><td>&hellip;</td><td>NaN</td><td>2.438128</td><td>2.585122</td><td>2.445014</td><td>2.563066</td><td>2.516468</td><td>2.484598</td><td>-159.0</td><td>851.5</td><td>null</td><td>-0.068041</td><td>-0.010979</td><td>-0.202956</td><td>4305.0</td><td>null</td><td>null</td><td>-66.0</td><td>-0.079315</td><td>-240.5</td><td>null</td><td>0.062263</td><td>0.154296</td><td>0.855596</td><td>0.082469</td><td>0.985806</td><td>0.117577</td><td>0.20303</td><td>0.811139</td><td>0.162312</td><td>7</td><td>3</td><td>1</td><td>0.0</td><td>0.0</td><td>0.0</td><td>0.0</td><td>0.0</td></tr><tr><td>90104855</td><td>9538004</td><td>2188571</td><td>0</td><td>1</td><td>88.0</td><td>null</td><td>false</td><td>2</td><td>null</td><td>false</td><td>5</td><td>61</td><td>190</td><td>344</td><td>6</td><td>8</td><td>0.321053</td><td>0.177326</td><td>0.368217</td><td>true</td><td>140</td><td>0.6134</td><td>&quot;Neutral&quot;</td><td>11</td><td>6</td><td>24</td><td>1112</td><td>5</td><td>null</td><td>null</td><td>null</td><td>null</td><td>&quot;article_standard_feature&quot;</td><td>145</td><td>3503</td><td>false</td><td>&hellip;</td><td>1.93449</td><td>3.180917</td><td>3.299404</td><td>3.425413</td><td>3.607439</td><td>3.433167</td><td>3.230481</td><td>72.5</td><td>145.0</td><td>null</td><td>0.009155</td><td>0.013953</td><td>0.037341</td><td>3471.0</td><td>null</td><td>null</td><td>0.0</td><td>0.006474</td><td>154.5</td><td>null</td><td>0.597854</td><td>0.470919</td><td>0.913364</td><td>0.488181</td><td>0.973867</td><td>0.403892</td><td>0.66911</td><td>0.871372</td><td>0.498279</td><td>8</td><td>3</td><td>3</td><td>-0.000978</td><td>0.001332</td><td>0.00017</td><td>0.0</td><td>0.003209</td></tr><tr><td>257661167</td><td>9268227</td><td>2577740</td><td>0</td><td>2</td><td>83.0</td><td>100.0</td><td>true</td><td>0</td><td>50</td><td>false</td><td>5</td><td>45</td><td>155</td><td>290</td><td>6</td><td>17</td><td>0.290323</td><td>0.155172</td><td>0.300388</td><td>true</td><td>140</td><td>0.9946</td><td>&quot;Negative&quot;</td><td>5</td><td>6</td><td>25</td><td>1102</td><td>5</td><td>null</td><td>null</td><td>null</td><td>null</td><td>&quot;article_default&quot;</td><td>361</td><td>8676</td><td>false</td><td>&hellip;</td><td>NaN</td><td>2.487511</td><td>2.639263</td><td>2.779887</td><td>2.778692</td><td>2.726676</td><td>2.495079</td><td>-4.0</td><td>-113.5</td><td>null</td><td>-0.002833</td><td>-0.015208</td><td>-0.008086</td><td>8675.0</td><td>null</td><td>null</td><td>-54.0</td><td>-0.040868</td><td>17.0</td><td>null</td><td>0.617845</td><td>0.433314</td><td>0.831347</td><td>0.59966</td><td>0.987592</td><td>0.329419</td><td>0.643728</td><td>0.798818</td><td>0.439408</td><td>5</td><td>3</td><td>2</td><td>0.00064</td><td>0.0</td><td>0.0</td><td>0.0</td><td>0.007251</td></tr><tr><td>379754148</td><td>9786230</td><td>1567717</td><td>0</td><td>1</td><td>110.0</td><td>100.0</td><td>false</td><td>2</td><td>null</td><td>false</td><td>5</td><td>69</td><td>250</td><td>413</td><td>1</td><td>11</td><td>0.276</td><td>0.16707</td><td>0.411184</td><td>false</td><td>142</td><td>0.9891</td><td>&quot;Negative&quot;</td><td>2</td><td>6</td><td>14</td><td>263</td><td>4</td><td>62719</td><td>288112</td><td>2.380866e6</td><td>0.21769</td><td>&quot;article_default&quot;</td><td>0</td><td>3</td><td>false</td><td>&hellip;</td><td>NaN</td><td>1.818739</td><td>1.884916</td><td>1.858519</td><td>1.90391</td><td>1.926037</td><td>1.836109</td><td>-48.0</td><td>1589.0</td><td>0.068483</td><td>-0.043218</td><td>0.0</td><td>-0.088774</td><td>0.0</td><td>4351.0</td><td>-26080.0</td><td>0.0</td><td>-0.014528</td><td>-71.0</td><td>-600245.0</td><td>0.522058</td><td>0.630632</td><td>0.892089</td><td>0.611012</td><td>0.058824</td><td>0.387504</td><td>0.446642</td><td>0.860705</td><td>0.584431</td><td>3</td><td>2</td><td>1</td><td>0.0</td><td>0.0</td><td>0.0</td><td>0.0</td><td>0.0</td></tr><tr><td>387804927</td><td>9780815</td><td>1477863</td><td>0</td><td>1</td><td>65.0</td><td>100.0</td><td>false</td><td>2</td><td>null</td><td>false</td><td>5</td><td>53</td><td>161</td><td>274</td><td>1</td><td>21</td><td>0.329193</td><td>0.193431</td><td>0.264803</td><td>true</td><td>414</td><td>0.8868</td><td>&quot;Negative&quot;</td><td>6</td><td>10</td><td>19</td><td>1127</td><td>4</td><td>63246</td><td>515693</td><td>2.941241e6</td><td>0.122643</td><td>&quot;article_default&quot;</td><td>0</td><td>15</td><td>true</td><td>&hellip;</td><td>NaN</td><td>2.187124</td><td>2.319345</td><td>2.199281</td><td>2.36406</td><td>2.205605</td><td>2.091642</td><td>0.0</td><td>618.0</td><td>-0.058693</td><td>-0.007615</td><td>0.012926</td><td>-0.035557</td><td>14.0</td><td>-33912.0</td><td>-20099.0</td><td>-1.0</td><td>-0.072974</td><td>0.0</td><td>-318377.0</td><td>0.461498</td><td>0.362624</td><td>0.854774</td><td>0.233633</td><td>0.211268</td><td>0.266637</td><td>0.469551</td><td>0.80592</td><td>0.307582</td><td>5</td><td>3</td><td>2</td><td>0.0</td><td>0.0</td><td>0.0</td><td>0.0</td><td>0.0</td></tr></tbody></table></div>"
      ],
      "text/plain": [
       "shape: (2_928_942, 259)\n",
       "┌─────────────┬─────────┬─────────┬────────┬───┬────────────┬────────────┬────────────┬────────────┐\n",
       "│ impression_ ┆ article ┆ user_id ┆ target ┆ … ┆ ItemKNNCFR ┆ RP3betaRec ┆ SLIM_BPR_C ┆ PureSVDIte │\n",
       "│ id          ┆ ---     ┆ ---     ┆ ---    ┆   ┆ ecommender ┆ ommender   ┆ ython      ┆ mRecommend │\n",
       "│ ---         ┆ i32     ┆ u32     ┆ i8     ┆   ┆ ---        ┆ ---        ┆ ---        ┆ er         │\n",
       "│ u32         ┆         ┆         ┆        ┆   ┆ f32        ┆ f32        ┆ f32        ┆ ---        │\n",
       "│             ┆         ┆         ┆        ┆   ┆            ┆            ┆            ┆ f32        │\n",
       "╞═════════════╪═════════╪═════════╪════════╪═══╪════════════╪════════════╪════════════╪════════════╡\n",
       "│ 205373625   ┆ 9785030 ┆ 1801226 ┆ 0      ┆ … ┆ 0.0        ┆ 0.0        ┆ 0.0        ┆ 0.0        │\n",
       "│ 456698625   ┆ 9553264 ┆ 1757180 ┆ 0      ┆ … ┆ 0.0        ┆ 0.0        ┆ 0.0        ┆ 0.002461   │\n",
       "│ 46558736    ┆ 7213923 ┆ 1885995 ┆ 0      ┆ … ┆ 0.001332   ┆ 0.000853   ┆ 0.0        ┆ 0.010064   │\n",
       "│ 470321755   ┆ 9504105 ┆ 594528  ┆ 0      ┆ … ┆ 0.0        ┆ 0.0        ┆ 0.0        ┆ 0.000225   │\n",
       "│ 214849994   ┆ 9279095 ┆ 811018  ┆ 0      ┆ … ┆ 0.0        ┆ 0.0        ┆ 0.0        ┆ 0.0        │\n",
       "│ …           ┆ …       ┆ …       ┆ …      ┆ … ┆ …          ┆ …          ┆ …          ┆ …          │\n",
       "│ 184283316   ┆ 9526715 ┆ 2530683 ┆ 0      ┆ … ┆ 0.0        ┆ 0.0        ┆ 0.0        ┆ 0.0        │\n",
       "│ 90104855    ┆ 9538004 ┆ 2188571 ┆ 0      ┆ … ┆ 0.001332   ┆ 0.00017    ┆ 0.0        ┆ 0.003209   │\n",
       "│ 257661167   ┆ 9268227 ┆ 2577740 ┆ 0      ┆ … ┆ 0.0        ┆ 0.0        ┆ 0.0        ┆ 0.007251   │\n",
       "│ 379754148   ┆ 9786230 ┆ 1567717 ┆ 0      ┆ … ┆ 0.0        ┆ 0.0        ┆ 0.0        ┆ 0.0        │\n",
       "│ 387804927   ┆ 9780815 ┆ 1477863 ┆ 0      ┆ … ┆ 0.0        ┆ 0.0        ┆ 0.0        ┆ 0.0        │\n",
       "└─────────────┴─────────┴─────────┴────────┴───┴────────────┴────────────┴────────────┴────────────┘"
      ]
     },
     "execution_count": 100,
     "metadata": {},
     "output_type": "execute_result"
    }
   ],
   "source": [
    "val_ds = val_ds.join(recsys_features, on=['article','impression_id','user_id'], how='left')\n",
    "val_ds"
   ]
  },
  {
   "cell_type": "code",
   "execution_count": 101,
   "metadata": {},
   "outputs": [],
   "source": [
    "\n",
    "NORMALIZE_OVER_IMPRESSION_ID = [\n",
    "    'PureSVDRecommender','ItemKNNCFRecommender','RP3betaRecommender','SLIM_BPR_Cython','PureSVDItemRecommender'\n",
    "]\n",
    "\n",
    "NORMALIZE_OVER_USER_ID = [\n",
    "    'PureSVDRecommender','ItemKNNCFRecommender','RP3betaRecommender','SLIM_BPR_Cython','PureSVDItemRecommender'\n",
    "\n",
    "]\n",
    "NORMALIZE_OVER_ARTICLE = [\n",
    "    'PureSVDRecommender','ItemKNNCFRecommender','RP3betaRecommender','SLIM_BPR_Cython','PureSVDItemRecommender'\n",
    "\n",
    "]\n",
    "\n",
    "\n",
    "val_ds = val_ds.with_columns(\n",
    "    *[(pl.col(c) / pl.col(c).max().over(pl.col('impression_id'))).alias(f'{c}_l_inf_impression')\n",
    "      for c in NORMALIZE_OVER_IMPRESSION_ID],\n",
    "    *[pl.col(c).std().over(pl.col('impression_id')).alias(f'std_impression_{c}')\n",
    "      for c in NORMALIZE_OVER_IMPRESSION_ID],\n",
    "    *[pl.col(c).skew().over(pl.col('impression_id')).alias(f'skew_impression_{c}')\n",
    "      for c in NORMALIZE_OVER_IMPRESSION_ID],\n",
    "    *[pl.col(c).kurtosis().over(pl.col('impression_id')).alias(f'kurtosis_impression_{c}')\n",
    "      for c in NORMALIZE_OVER_IMPRESSION_ID],\n",
    "    *[pl.col(c).entropy().over(pl.col('impression_id')).alias(f'entropy_impression_{c}')\n",
    "      for c in NORMALIZE_OVER_IMPRESSION_ID],\n",
    "    *[(pl.col(c) - pl.col(c).median().over(pl.col('impression_id'))).alias(f'{c}_minus_median_impression')\n",
    "      for c in NORMALIZE_OVER_IMPRESSION_ID],\n",
    "    *[(pl.col(c) / pl.col(c).max().over(pl.col('user_id'))).alias(f'{c}_l_inf_user')\n",
    "      for c in NORMALIZE_OVER_USER_ID],\n",
    "    *[(pl.col(c) / pl.col(c).max().over(pl.col('article'))).alias(f'{c}_l_inf_article')\n",
    "      for c in NORMALIZE_OVER_ARTICLE],\n",
    ")\n"
   ]
  },
  {
   "cell_type": "code",
   "execution_count": 108,
   "metadata": {},
   "outputs": [
    {
     "data": {
      "text/plain": [
       "(2928942, 300)"
      ]
     },
     "execution_count": 108,
     "metadata": {},
     "output_type": "execute_result"
    }
   ],
   "source": [
    "val_ds.shape"
   ]
  },
  {
   "cell_type": "code",
   "execution_count": 103,
   "metadata": {},
   "outputs": [
    {
     "data": {
      "text/plain": [
       "\"# impression_id will be later useful for evaluation\\nval_ds_pandas = val_ds.drop(['impression_id', 'article', 'user_id']).to_pandas()\\n\\nval_ds_pandas[categorical_columns] = val_ds_pandas[categorical_columns].astype('category')\\n\\nX_val = val_ds_pandas.drop(columns=['target'])\\ny_val = val_ds_pandas['target']\\n\\nval_ds = val_ds.with_columns(pl.Series(model.predict_proba(X_val)[:, 1]).alias('prediction'))\\nval_ds.select(['impression_id', 'target', 'prediction'])\\n\""
      ]
     },
     "execution_count": 103,
     "metadata": {},
     "output_type": "execute_result"
    }
   ],
   "source": [
    "\"\"\"# impression_id will be later useful for evaluation\n",
    "val_ds_pandas = val_ds.drop(['impression_id', 'article', 'user_id']).to_pandas()\n",
    "\n",
    "val_ds_pandas[categorical_columns] = val_ds_pandas[categorical_columns].astype('category')\n",
    "\n",
    "X_val = val_ds_pandas.drop(columns=['target'])\n",
    "y_val = val_ds_pandas['target']\n",
    "\n",
    "val_ds = val_ds.with_columns(pl.Series(model.predict_proba(X_val)[:, 1]).alias('prediction'))\n",
    "val_ds.select(['impression_id', 'target', 'prediction'])\n",
    "\"\"\""
   ]
  },
  {
   "cell_type": "code",
   "execution_count": 104,
   "metadata": {},
   "outputs": [
    {
     "data": {
      "text/html": [
       "<div><style>\n",
       ".dataframe > thead > tr,\n",
       ".dataframe > tbody > tr {\n",
       "  text-align: right;\n",
       "  white-space: pre-wrap;\n",
       "}\n",
       "</style>\n",
       "<small>shape: (2_928_942, 3)</small><table border=\"1\" class=\"dataframe\"><thead><tr><th>impression_id</th><th>target</th><th>prediction</th></tr><tr><td>u32</td><td>i8</td><td>f64</td></tr></thead><tbody><tr><td>205373625</td><td>0</td><td>-1.848472</td></tr><tr><td>456698625</td><td>0</td><td>-1.008827</td></tr><tr><td>46558736</td><td>0</td><td>-3.432989</td></tr><tr><td>470321755</td><td>0</td><td>-2.496034</td></tr><tr><td>214849994</td><td>0</td><td>-3.160967</td></tr><tr><td>&hellip;</td><td>&hellip;</td><td>&hellip;</td></tr><tr><td>184283316</td><td>0</td><td>-1.126955</td></tr><tr><td>90104855</td><td>0</td><td>-1.723605</td></tr><tr><td>257661167</td><td>0</td><td>-1.129269</td></tr><tr><td>379754148</td><td>0</td><td>0.39514</td></tr><tr><td>387804927</td><td>0</td><td>1.586322</td></tr></tbody></table></div>"
      ],
      "text/plain": [
       "shape: (2_928_942, 3)\n",
       "┌───────────────┬────────┬────────────┐\n",
       "│ impression_id ┆ target ┆ prediction │\n",
       "│ ---           ┆ ---    ┆ ---        │\n",
       "│ u32           ┆ i8     ┆ f64        │\n",
       "╞═══════════════╪════════╪════════════╡\n",
       "│ 205373625     ┆ 0      ┆ -1.848472  │\n",
       "│ 456698625     ┆ 0      ┆ -1.008827  │\n",
       "│ 46558736      ┆ 0      ┆ -3.432989  │\n",
       "│ 470321755     ┆ 0      ┆ -2.496034  │\n",
       "│ 214849994     ┆ 0      ┆ -3.160967  │\n",
       "│ …             ┆ …      ┆ …          │\n",
       "│ 184283316     ┆ 0      ┆ -1.126955  │\n",
       "│ 90104855      ┆ 0      ┆ -1.723605  │\n",
       "│ 257661167     ┆ 0      ┆ -1.129269  │\n",
       "│ 379754148     ┆ 0      ┆ 0.39514    │\n",
       "│ 387804927     ┆ 0      ┆ 1.586322   │\n",
       "└───────────────┴────────┴────────────┘"
      ]
     },
     "execution_count": 104,
     "metadata": {},
     "output_type": "execute_result"
    }
   ],
   "source": [
    "# impression_id will be later useful for evaluation\n",
    "val_ds_pandas = val_ds.drop(['impression_id', 'article', 'user_id']).to_pandas()\n",
    "\n",
    "val_ds_pandas[categorical_columns] = val_ds_pandas[categorical_columns].astype('category')\n",
    "\n",
    "X_val = val_ds_pandas.drop(columns=['target'])\n",
    "y_val = val_ds_pandas['target']\n",
    "\n",
    "val_ds = val_ds.with_columns(pl.Series(model.predict(X_val)).alias('prediction'))\n",
    "val_ds.select(['impression_id', 'target', 'prediction'])"
   ]
  },
  {
   "cell_type": "code",
   "execution_count": 105,
   "metadata": {},
   "outputs": [
    {
     "data": {
      "text/html": [
       "<div><style>\n",
       ".dataframe > thead > tr,\n",
       ".dataframe > tbody > tr {\n",
       "  text-align: right;\n",
       "  white-space: pre-wrap;\n",
       "}\n",
       "</style>\n",
       "<small>shape: (244_647, 3)</small><table border=\"1\" class=\"dataframe\"><thead><tr><th>impression_id</th><th>target</th><th>prediction</th></tr><tr><td>u32</td><td>list[i8]</td><td>list[f64]</td></tr></thead><tbody><tr><td>368499364</td><td>[0, 0, … 0]</td><td>[0.389976, -0.927275, … -2.983329]</td></tr><tr><td>340400934</td><td>[1, 0, … 0]</td><td>[1.343857, -0.040679, … -1.381651]</td></tr><tr><td>68759830</td><td>[0, 0, … 0]</td><td>[-1.22962, -0.646782, … 0.289087]</td></tr><tr><td>155145288</td><td>[1, 0, … 0]</td><td>[0.075821, -0.478029, … 0.184552]</td></tr><tr><td>120071454</td><td>[0, 0, … 0]</td><td>[1.07762, 0.528619, … 1.563752]</td></tr><tr><td>&hellip;</td><td>&hellip;</td><td>&hellip;</td></tr><tr><td>253235257</td><td>[0, 0, … 0]</td><td>[0.733294, -1.865555, … 0.179942]</td></tr><tr><td>258876929</td><td>[0, 0, … 0]</td><td>[-0.739569, -2.499529, … 2.472374]</td></tr><tr><td>193661407</td><td>[0, 0, … 0]</td><td>[-1.551357, 1.532685, … -3.534684]</td></tr><tr><td>547036742</td><td>[0, 1, … 0]</td><td>[-1.615821, 1.173883, … -2.342873]</td></tr><tr><td>559966722</td><td>[1, 0, … 0]</td><td>[0.609534, -0.321837, … 0.501325]</td></tr></tbody></table></div>"
      ],
      "text/plain": [
       "shape: (244_647, 3)\n",
       "┌───────────────┬─────────────┬─────────────────────────────────┐\n",
       "│ impression_id ┆ target      ┆ prediction                      │\n",
       "│ ---           ┆ ---         ┆ ---                             │\n",
       "│ u32           ┆ list[i8]    ┆ list[f64]                       │\n",
       "╞═══════════════╪═════════════╪═════════════════════════════════╡\n",
       "│ 368499364     ┆ [0, 0, … 0] ┆ [0.389976, -0.927275, … -2.983… │\n",
       "│ 340400934     ┆ [1, 0, … 0] ┆ [1.343857, -0.040679, … -1.381… │\n",
       "│ 68759830      ┆ [0, 0, … 0] ┆ [-1.22962, -0.646782, … 0.2890… │\n",
       "│ 155145288     ┆ [1, 0, … 0] ┆ [0.075821, -0.478029, … 0.1845… │\n",
       "│ 120071454     ┆ [0, 0, … 0] ┆ [1.07762, 0.528619, … 1.563752… │\n",
       "│ …             ┆ …           ┆ …                               │\n",
       "│ 253235257     ┆ [0, 0, … 0] ┆ [0.733294, -1.865555, … 0.1799… │\n",
       "│ 258876929     ┆ [0, 0, … 0] ┆ [-0.739569, -2.499529, … 2.472… │\n",
       "│ 193661407     ┆ [0, 0, … 0] ┆ [-1.551357, 1.532685, … -3.534… │\n",
       "│ 547036742     ┆ [0, 1, … 0] ┆ [-1.615821, 1.173883, … -2.342… │\n",
       "│ 559966722     ┆ [1, 0, … 0] ┆ [0.609534, -0.321837, … 0.5013… │\n",
       "└───────────────┴─────────────┴─────────────────────────────────┘"
      ]
     },
     "execution_count": 105,
     "metadata": {},
     "output_type": "execute_result"
    }
   ],
   "source": [
    "evaluation_ds = val_ds.group_by('impression_id').agg(pl.col('target'), pl.col('prediction'))\n",
    "evaluation_ds"
   ]
  },
  {
   "cell_type": "code",
   "execution_count": 106,
   "metadata": {},
   "outputs": [],
   "source": [
    "import sys\n",
    "sys.path.append('/home/ubuntu/fastauc')"
   ]
  },
  {
   "cell_type": "code",
   "execution_count": 107,
   "metadata": {},
   "outputs": [
    {
     "data": {
      "text/plain": [
       "0.7918986084369177"
      ]
     },
     "execution_count": 107,
     "metadata": {},
     "output_type": "execute_result"
    }
   ],
   "source": [
    "from fastauc.fast_auc import CppAuc\n",
    "cpp_auc = CppAuc()\n",
    "np.mean([cpp_auc.roc_auc_score(np.array(y_t).astype(bool), np.array(y_s).astype(np.float32)) \n",
    "                 for y_t, y_s in zip(evaluation_ds['target'].to_list(), \n",
    "                                     evaluation_ds['prediction'].to_list())])"
   ]
  }
 ],
 "metadata": {
  "kernelspec": {
   "display_name": ".venv",
   "language": "python",
   "name": "python3"
  },
  "language_info": {
   "codemirror_mode": {
    "name": "ipython",
    "version": 3
   },
   "file_extension": ".py",
   "mimetype": "text/x-python",
   "name": "python",
   "nbconvert_exporter": "python",
   "pygments_lexer": "ipython3",
   "version": "3.10.12"
  }
 },
 "nbformat": 4,
 "nbformat_minor": 2
}
