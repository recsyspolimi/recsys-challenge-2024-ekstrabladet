{
 "cells": [
  {
   "cell_type": "code",
   "execution_count": 1,
   "id": "ac716730",
   "metadata": {
    "execution": {
     "iopub.execute_input": "2024-04-09T22:25:28.243015Z",
     "iopub.status.busy": "2024-04-09T22:25:28.242265Z",
     "iopub.status.idle": "2024-04-09T22:25:32.143665Z",
     "shell.execute_reply": "2024-04-09T22:25:32.141691Z"
    },
    "papermill": {
     "duration": 3.932752,
     "end_time": "2024-04-09T22:25:32.148186",
     "exception": false,
     "start_time": "2024-04-09T22:25:28.215434",
     "status": "completed"
    },
    "tags": []
   },
   "outputs": [
    {
     "name": "stdout",
     "output_type": "stream",
     "text": [
      "Cloning into 'RecSysChallenge2024'...\r\n",
      "remote: Enumerating objects: 1048, done.\u001b[K\r\n",
      "remote: Counting objects: 100% (24/24), done.\u001b[K\r\n",
      "remote: Compressing objects: 100% (12/12), done.\u001b[K\r\n",
      "remote: Total 1048 (delta 14), reused 14 (delta 12), pack-reused 1024\u001b[K\r\n",
      "Receiving objects: 100% (1048/1048), 31.70 MiB | 25.09 MiB/s, done.\r\n",
      "Resolving deltas: 100% (510/510), done.\r\n"
     ]
    }
   ],
   "source": [
    "from kaggle_secrets import UserSecretsClient\n",
    "secret_label = \"Token\"\n",
    "token = UserSecretsClient().get_secret(secret_label)\n",
    "\n",
    "! git clone https://{token}@github.com/FrancescoZanella/RecSysChallenge2024.git"
   ]
  },
  {
   "cell_type": "code",
   "execution_count": 2,
   "id": "3e2ffb78",
   "metadata": {
    "execution": {
     "iopub.execute_input": "2024-04-09T22:25:32.222190Z",
     "iopub.status.busy": "2024-04-09T22:25:32.221675Z",
     "iopub.status.idle": "2024-04-09T22:25:32.232758Z",
     "shell.execute_reply": "2024-04-09T22:25:32.231405Z"
    },
    "papermill": {
     "duration": 0.052412,
     "end_time": "2024-04-09T22:25:32.235228",
     "exception": false,
     "start_time": "2024-04-09T22:25:32.182816",
     "status": "completed"
    },
    "tags": []
   },
   "outputs": [
    {
     "name": "stdout",
     "output_type": "stream",
     "text": [
      "/kaggle/working/RecSysChallenge2024/src\n"
     ]
    }
   ],
   "source": [
    "%cd /kaggle/working/RecSysChallenge2024/src"
   ]
  },
  {
   "cell_type": "code",
   "execution_count": 3,
   "id": "84982b88",
   "metadata": {
    "_cell_guid": "b1076dfc-b9ad-4769-8c92-a6c4dae69d19",
    "_uuid": "8f2839f25d086af736a60e9eeb907d3b93b6e0e5",
    "execution": {
     "iopub.execute_input": "2024-04-09T22:25:32.287609Z",
     "iopub.status.busy": "2024-04-09T22:25:32.287124Z",
     "iopub.status.idle": "2024-04-09T22:25:56.345030Z",
     "shell.execute_reply": "2024-04-09T22:25:56.343482Z"
    },
    "papermill": {
     "duration": 24.087744,
     "end_time": "2024-04-09T22:25:56.348457",
     "exception": false,
     "start_time": "2024-04-09T22:25:32.260713",
     "status": "completed"
    },
    "tags": []
   },
   "outputs": [
    {
     "name": "stderr",
     "output_type": "stream",
     "text": [
      "2024-04-09 22:25:42.716547: E external/local_xla/xla/stream_executor/cuda/cuda_dnn.cc:9261] Unable to register cuDNN factory: Attempting to register factory for plugin cuDNN when one has already been registered\n",
      "2024-04-09 22:25:42.716818: E external/local_xla/xla/stream_executor/cuda/cuda_fft.cc:607] Unable to register cuFFT factory: Attempting to register factory for plugin cuFFT when one has already been registered\n",
      "2024-04-09 22:25:42.891011: E external/local_xla/xla/stream_executor/cuda/cuda_blas.cc:1515] Unable to register cuBLAS factory: Attempting to register factory for plugin cuBLAS when one has already been registered\n"
     ]
    }
   ],
   "source": [
    "import numpy as np\n",
    "import pandas as pd\n",
    "import matplotlib.pyplot as plt\n",
    "import seaborn as sns\n",
    "from pathlib import Path\n",
    "import polars as pl\n",
    "import scipy.stats as stats\n",
    "import scipy.sparse as sps\n",
    "import gc\n",
    "import tqdm\n",
    "\n",
    "from ebrec.utils._descriptive_analysis import (\n",
    "    min_max_impression_time_behaviors, \n",
    "    min_max_impression_time_history\n",
    ")\n",
    "from ebrec.utils._polars import slice_join_dataframes\n",
    "from ebrec.utils._behaviors import (\n",
    "    create_binary_labels_column,\n",
    "    sampling_strategy_wu2019,\n",
    "    truncate_history,\n",
    ")\n",
    "from ebrec.utils._constants import (\n",
    "    DEFAULT_HISTORY_ARTICLE_ID_COL,\n",
    "    DEFAULT_CLICKED_ARTICLES_COL,\n",
    "    DEFAULT_INVIEW_ARTICLES_COL,\n",
    "    DEFAULT_USER_COL\n",
    ")\n",
    "from ebrec.evaluation.metrics_protocols import *\n",
    "from polimi.utils._catboost import add_trendiness_feature, add_mean_delays_features,add_history_trendiness_scores_feature\n",
    "\n",
    "from catboost import CatBoostClassifier"
   ]
  },
  {
   "cell_type": "markdown",
   "id": "80cec3d7",
   "metadata": {
    "papermill": {
     "duration": 0.024901,
     "end_time": "2024-04-09T22:25:56.398907",
     "exception": false,
     "start_time": "2024-04-09T22:25:56.374006",
     "status": "completed"
    },
    "tags": []
   },
   "source": [
    "# Memory Utils"
   ]
  },
  {
   "cell_type": "code",
   "execution_count": 4,
   "id": "eac2fb95",
   "metadata": {
    "execution": {
     "iopub.execute_input": "2024-04-09T22:25:56.452301Z",
     "iopub.status.busy": "2024-04-09T22:25:56.451350Z",
     "iopub.status.idle": "2024-04-09T22:25:56.462343Z",
     "shell.execute_reply": "2024-04-09T22:25:56.461201Z"
    },
    "papermill": {
     "duration": 0.040463,
     "end_time": "2024-04-09T22:25:56.464853",
     "exception": false,
     "start_time": "2024-04-09T22:25:56.424390",
     "status": "completed"
    },
    "tags": []
   },
   "outputs": [
    {
     "name": "stdout",
     "output_type": "stream",
     "text": [
      "\u001b[1m\u001b[31m\n",
      "RAM memory GB usage = 0.8452\u001b[0m\n"
     ]
    }
   ],
   "source": [
    "from os import system, getpid, walk\n",
    "from psutil import Process\n",
    "from colorama import Fore, Style, init\n",
    "from IPython.display import display, HTML\n",
    "\n",
    "def PrintColor(text:str, color = Fore.BLUE, style = Style.BRIGHT):\n",
    "    print(style + color + text + Style.RESET_ALL)\n",
    "    \n",
    "def GetMemUsage():   \n",
    "    pid = getpid()\n",
    "    py = Process(pid)\n",
    "    memory_use = py.memory_info()[0] / 2. ** 30\n",
    "    return f\"RAM memory GB usage = {memory_use :.4}\"\n",
    "\n",
    "PrintColor(f\"\\n\" + GetMemUsage(), color = Fore.RED)"
   ]
  },
  {
   "cell_type": "code",
   "execution_count": 5,
   "id": "66387ee1",
   "metadata": {
    "execution": {
     "iopub.execute_input": "2024-04-09T22:25:56.516381Z",
     "iopub.status.busy": "2024-04-09T22:25:56.515959Z",
     "iopub.status.idle": "2024-04-09T22:25:56.533516Z",
     "shell.execute_reply": "2024-04-09T22:25:56.532445Z"
    },
    "papermill": {
     "duration": 0.046434,
     "end_time": "2024-04-09T22:25:56.536117",
     "exception": false,
     "start_time": "2024-04-09T22:25:56.489683",
     "status": "completed"
    },
    "tags": []
   },
   "outputs": [],
   "source": [
    "def reduce_polars_df_memory_size(df, set_categorical=True):\n",
    "\n",
    "    start_mem = df.estimated_size('mb')\n",
    "    print('Memory usage of dataframe is {:.2f} MB'.format(start_mem))\n",
    "    \n",
    "    for col in df.columns:\n",
    "        col_type = df[col].dtype\n",
    "        \n",
    "        if col_type in [pl.Int16, pl.Int32, pl.Int64]:\n",
    "            c_min = df[col].fill_null(0).min()\n",
    "            c_max = df[col].fill_null(0).max()\n",
    "            if c_min > np.iinfo(np.int8).min and c_max < np.iinfo(np.int8).max:\n",
    "                df = df.with_columns(pl.col(col).cast(pl.Int8))\n",
    "            elif c_min > np.iinfo(np.int16).min and c_max < np.iinfo(np.int16).max:\n",
    "                df = df.with_columns(pl.col(col).cast(pl.Int16))\n",
    "            elif c_min > np.iinfo(np.int32).min and c_max < np.iinfo(np.int32).max:\n",
    "                df = df.with_columns(pl.col(col).cast(pl.Int32))\n",
    "        elif col_type in [pl.UInt16, pl.UInt32, pl.UInt64]:\n",
    "            c_min = df[col].fill_null(0).min()\n",
    "            c_max = df[col].fill_null(0).max()\n",
    "            if c_min > np.iinfo(np.uint8).min and c_max < np.iinfo(np.uint8).max:\n",
    "                df = df.with_columns(pl.col(col).cast(pl.UInt8))\n",
    "            elif c_min > np.iinfo(np.uint16).min and c_max < np.iinfo(np.uint16).max:\n",
    "                df = df.with_columns(pl.col(col).cast(pl.UInt16))\n",
    "            elif c_min > np.iinfo(np.uint32).min and c_max < np.iinfo(np.uint32).max:\n",
    "                df = df.with_columns(pl.col(col).cast(pl.UInt32))\n",
    "        elif col_type == pl.Float64:\n",
    "            c_min = df[col].fill_null(0).min()\n",
    "            c_max = df[col].fill_null(0).max()\n",
    "            if c_min > np.finfo(np.float32).min and c_max < np.finfo(np.float32).max:\n",
    "                df = df.with_columns(pl.col(col).cast(pl.Float32))\n",
    "\n",
    "    gc.collect()\n",
    "    end_mem = df.estimated_size('mb')\n",
    "    print('Memory usage after optimization is: {:.2f} MB'.format(end_mem))\n",
    "    print('Decreased by {:.1f}%'.format(100 * (start_mem - end_mem) / start_mem))\n",
    "    \n",
    "    return df"
   ]
  },
  {
   "cell_type": "markdown",
   "id": "ca7d5237",
   "metadata": {
    "papermill": {
     "duration": 0.025022,
     "end_time": "2024-04-09T22:25:56.586216",
     "exception": false,
     "start_time": "2024-04-09T22:25:56.561194",
     "status": "completed"
    },
    "tags": []
   },
   "source": [
    "# Data import"
   ]
  },
  {
   "cell_type": "code",
   "execution_count": 6,
   "id": "9fbd02fe",
   "metadata": {
    "execution": {
     "iopub.execute_input": "2024-04-09T22:25:56.639573Z",
     "iopub.status.busy": "2024-04-09T22:25:56.638888Z",
     "iopub.status.idle": "2024-04-09T22:25:58.928885Z",
     "shell.execute_reply": "2024-04-09T22:25:58.927225Z"
    },
    "papermill": {
     "duration": 2.320499,
     "end_time": "2024-04-09T22:25:58.931735",
     "exception": false,
     "start_time": "2024-04-09T22:25:56.611236",
     "status": "completed"
    },
    "tags": []
   },
   "outputs": [
    {
     "name": "stdout",
     "output_type": "stream",
     "text": [
      "\u001b[1m\u001b[31m\n",
      "RAM memory GB usage = 1.102\u001b[0m\n"
     ]
    }
   ],
   "source": [
    "articles = pl.read_parquet('/kaggle/input/recommender-systems-challenge-2024/ebnerd_small/articles.parquet')\n",
    "\n",
    "behaviors_train = pl.read_parquet('/kaggle/input/recommender-systems-challenge-2024/ebnerd_small/train/behaviors.parquet')\n",
    "history_train = pl.read_parquet('/kaggle/input/recommender-systems-challenge-2024/ebnerd_small/train/history.parquet')\n",
    "\n",
    "behaviors_val = pl.read_parquet('/kaggle/input/recommender-systems-challenge-2024/ebnerd_small/validation/behaviors.parquet')\n",
    "history_val = pl.read_parquet('/kaggle/input/recommender-systems-challenge-2024/ebnerd_small/validation/history.parquet')\n",
    "\n",
    "gc.collect()\n",
    "PrintColor(f\"\\n\" + GetMemUsage(), color = Fore.RED)"
   ]
  },
  {
   "cell_type": "markdown",
   "id": "cc17b384",
   "metadata": {
    "papermill": {
     "duration": 0.024914,
     "end_time": "2024-04-09T22:25:58.982313",
     "exception": false,
     "start_time": "2024-04-09T22:25:58.957399",
     "status": "completed"
    },
    "tags": []
   },
   "source": [
    "# Articles Preprocessing"
   ]
  },
  {
   "cell_type": "code",
   "execution_count": 7,
   "id": "25262ca0",
   "metadata": {
    "execution": {
     "iopub.execute_input": "2024-04-09T22:25:59.039301Z",
     "iopub.status.busy": "2024-04-09T22:25:59.038815Z",
     "iopub.status.idle": "2024-04-09T22:26:00.364593Z",
     "shell.execute_reply": "2024-04-09T22:26:00.363509Z"
    },
    "papermill": {
     "duration": 1.357243,
     "end_time": "2024-04-09T22:26:00.367767",
     "exception": false,
     "start_time": "2024-04-09T22:25:59.010524",
     "status": "completed"
    },
    "tags": []
   },
   "outputs": [
    {
     "name": "stdout",
     "output_type": "stream",
     "text": [
      "Memory usage of dataframe is 64.11 MB\n",
      "Memory usage after optimization is: 63.96 MB\n",
      "Decreased by 0.2%\n",
      "\u001b[1m\u001b[31m\n",
      "RAM memory GB usage = 1.109\u001b[0m\n"
     ]
    },
    {
     "data": {
      "text/html": [
       "<div><style>\n",
       ".dataframe > thead > tr,\n",
       ".dataframe > tbody > tr {\n",
       "  text-align: right;\n",
       "  white-space: pre-wrap;\n",
       "}\n",
       "</style>\n",
       "<small>shape: (2, 25)</small><table border=\"1\" class=\"dataframe\"><thead><tr><th>article_id</th><th>title</th><th>subtitle</th><th>last_modified_time</th><th>premium</th><th>body</th><th>published_time</th><th>image_ids</th><th>article_type</th><th>url</th><th>ner_clusters</th><th>entity_groups</th><th>topics</th><th>category</th><th>subcategory</th><th>category_str</th><th>total_inviews</th><th>total_pageviews</th><th>total_read_time</th><th>sentiment_score</th><th>sentiment_label</th><th>num_images</th><th>title_len</th><th>subtitle_len</th><th>body_len</th></tr><tr><td>i32</td><td>str</td><td>str</td><td>datetime[μs]</td><td>bool</td><td>str</td><td>datetime[μs]</td><td>list[i64]</td><td>str</td><td>str</td><td>list[str]</td><td>list[str]</td><td>list[str]</td><td>i16</td><td>list[i16]</td><td>str</td><td>i32</td><td>i32</td><td>f32</td><td>f32</td><td>str</td><td>u32</td><td>u8</td><td>u8</td><td>u16</td></tr></thead><tbody><tr><td>3001353</td><td>&quot;Natascha var i…</td><td>&quot;Politiet frygt…</td><td>2023-06-29 06:20:33</td><td>false</td><td>&quot;Sagen om den ø…</td><td>2006-08-31 08:06:45</td><td>[3150850]</td><td>&quot;article_defaul…</td><td>&quot;https://ekstra…</td><td>[]</td><td>[]</td><td>[&quot;Kriminalitet&quot;, &quot;Personfarlig_kriminalitet&quot;]</td><td>140</td><td>[]</td><td>&quot;krimi&quot;</td><td>null</td><td>null</td><td>null</td><td>0.9955</td><td>&quot;Negative&quot;</td><td>1</td><td>5</td><td>22</td><td>200</td></tr><tr><td>3003065</td><td>&quot;Kun Star Wars …</td><td>&quot;Biografgængern…</td><td>2023-06-29 06:20:35</td><td>false</td><td>&quot;Vatikanet har …</td><td>2006-05-21 16:57:00</td><td>[3006712]</td><td>&quot;article_defaul…</td><td>&quot;https://ekstra…</td><td>[]</td><td>[]</td><td>[&quot;Underholdning&quot;, &quot;Film_og_tv&quot;, &quot;Økonomi&quot;]</td><td>414</td><td>[433, 434]</td><td>&quot;underholdning&quot;</td><td>null</td><td>null</td><td>null</td><td>0.846</td><td>&quot;Positive&quot;</td><td>1</td><td>5</td><td>19</td><td>116</td></tr></tbody></table></div>"
      ],
      "text/plain": [
       "shape: (2, 25)\n",
       "┌───────────┬───────────┬───────────┬───────────┬───┬───────────┬───────────┬───────────┬──────────┐\n",
       "│ article_i ┆ title     ┆ subtitle  ┆ last_modi ┆ … ┆ num_image ┆ title_len ┆ subtitle_ ┆ body_len │\n",
       "│ d         ┆ ---       ┆ ---       ┆ fied_time ┆   ┆ s         ┆ ---       ┆ len       ┆ ---      │\n",
       "│ ---       ┆ str       ┆ str       ┆ ---       ┆   ┆ ---       ┆ u8        ┆ ---       ┆ u16      │\n",
       "│ i32       ┆           ┆           ┆ datetime[ ┆   ┆ u32       ┆           ┆ u8        ┆          │\n",
       "│           ┆           ┆           ┆ μs]       ┆   ┆           ┆           ┆           ┆          │\n",
       "╞═══════════╪═══════════╪═══════════╪═══════════╪═══╪═══════════╪═══════════╪═══════════╪══════════╡\n",
       "│ 3001353   ┆ Natascha  ┆ Politiet  ┆ 2023-06-2 ┆ … ┆ 1         ┆ 5         ┆ 22        ┆ 200      │\n",
       "│           ┆ var ikke  ┆ frygter   ┆ 9         ┆   ┆           ┆           ┆           ┆          │\n",
       "│           ┆ den       ┆ nu, at    ┆ 06:20:33  ┆   ┆           ┆           ┆           ┆          │\n",
       "│           ┆ første    ┆ Natascha… ┆           ┆   ┆           ┆           ┆           ┆          │\n",
       "│ 3003065   ┆ Kun Star  ┆ Biografgæ ┆ 2023-06-2 ┆ … ┆ 1         ┆ 5         ┆ 19        ┆ 116      │\n",
       "│           ┆ Wars      ┆ ngerne    ┆ 9         ┆   ┆           ┆           ┆           ┆          │\n",
       "│           ┆ tjente    ┆ strømmer  ┆ 06:20:35  ┆   ┆           ┆           ┆           ┆          │\n",
       "│           ┆ mere      ┆ ind for…  ┆           ┆   ┆           ┆           ┆           ┆          │\n",
       "└───────────┴───────────┴───────────┴───────────┴───┴───────────┴───────────┴───────────┴──────────┘"
      ]
     },
     "execution_count": 7,
     "metadata": {},
     "output_type": "execute_result"
    }
   ],
   "source": [
    "articles = articles.with_columns(\n",
    "    pl.col('image_ids').list.len().alias('num_images'),\n",
    "    pl.col('title').str.split(by=' ').list.len().alias('title_len'),\n",
    "    pl.col('subtitle').str.split(by=' ').list.len().alias('subtitle_len'),\n",
    "    pl.col('body').str.split(by=' ').list.len().alias('body_len'),\n",
    "    # very important for tf-idf, otherwise multiple tokens for topics with spaces are built\n",
    "    pl.col('topics').list.eval(pl.element().str.split(by=' ').list.join('_')) \n",
    ")\n",
    "articles = reduce_polars_df_memory_size(articles)\n",
    "\n",
    "gc.collect()\n",
    "PrintColor(f\"\\n\" + GetMemUsage(), color = Fore.RED)\n",
    "articles.head(2)"
   ]
  },
  {
   "cell_type": "code",
   "execution_count": 8,
   "id": "d2ae8f85",
   "metadata": {
    "execution": {
     "iopub.execute_input": "2024-04-09T22:26:00.421929Z",
     "iopub.status.busy": "2024-04-09T22:26:00.421424Z",
     "iopub.status.idle": "2024-04-09T22:26:00.445930Z",
     "shell.execute_reply": "2024-04-09T22:26:00.444649Z"
    },
    "papermill": {
     "duration": 0.055302,
     "end_time": "2024-04-09T22:26:00.448920",
     "exception": false,
     "start_time": "2024-04-09T22:26:00.393618",
     "status": "completed"
    },
    "tags": []
   },
   "outputs": [
    {
     "data": {
      "text/plain": [
       "['EVENT', 'ORG', 'LOC', 'PER', 'PROD', 'MISC']"
      ]
     },
     "execution_count": 8,
     "metadata": {},
     "output_type": "execute_result"
    }
   ],
   "source": [
    "unique_entities = articles.select('entity_groups').explode('entity_groups')['entity_groups'].unique().to_list()\n",
    "unique_entities = [e for e in unique_entities if e is not None]\n",
    "unique_entities"
   ]
  },
  {
   "cell_type": "code",
   "execution_count": 9,
   "id": "3ce2c18b",
   "metadata": {
    "execution": {
     "iopub.execute_input": "2024-04-09T22:26:00.503853Z",
     "iopub.status.busy": "2024-04-09T22:26:00.503060Z",
     "iopub.status.idle": "2024-04-09T22:26:00.523853Z",
     "shell.execute_reply": "2024-04-09T22:26:00.522844Z"
    },
    "papermill": {
     "duration": 0.050977,
     "end_time": "2024-04-09T22:26:00.526576",
     "exception": false,
     "start_time": "2024-04-09T22:26:00.475599",
     "status": "completed"
    },
    "tags": []
   },
   "outputs": [
    {
     "data": {
      "text/plain": [
       "{572: 'side9',\n",
       " 2504: 'bibliotek',\n",
       " 539: 'ferie',\n",
       " 414: 'underholdning',\n",
       " 2975: 'penge',\n",
       " 140: 'krimi',\n",
       " 1505: 'vin',\n",
       " 457: 'forbrug',\n",
       " 561: 'haandvaerkeren',\n",
       " 22: 'horoskoper',\n",
       " 2731: 'dagsorden',\n",
       " 498: 'musik',\n",
       " 2889: 'auto',\n",
       " 2737: 'podcast',\n",
       " 2341: 'plus',\n",
       " 731: 'services',\n",
       " 142: 'sport',\n",
       " 2: 'incoming',\n",
       " 529: 'biler',\n",
       " 806: 'om_ekstra_bladet',\n",
       " 2077: 'opinionen',\n",
       " 118: 'nyheder',\n",
       " 68: 'video',\n",
       " 512: 'nationen',\n",
       " 565: 'sex_og_samliv'}"
      ]
     },
     "execution_count": 9,
     "metadata": {},
     "output_type": "execute_result"
    }
   ],
   "source": [
    "# in case of two category_str for the same category, one of the two is picked\n",
    "unique_categories_df = articles.select(['category', 'category_str']).unique('category').drop_nulls('category')\n",
    "unique_categories = {\n",
    "    row['category']: row['category_str'] for row in unique_categories_df.iter_rows(named=True)\n",
    "}\n",
    "unique_categories"
   ]
  },
  {
   "cell_type": "markdown",
   "id": "13f32971",
   "metadata": {
    "papermill": {
     "duration": 0.028052,
     "end_time": "2024-04-09T22:26:00.582597",
     "exception": false,
     "start_time": "2024-04-09T22:26:00.554545",
     "status": "completed"
    },
    "tags": []
   },
   "source": [
    "Mapping sentiment labels to -1, 0, 1 to save memory in the history dataframe.\n",
    "Taking only article_default type and mapping it to 0/1 since after only this is needed (and it saves memory) for the history at the moment"
   ]
  },
  {
   "cell_type": "code",
   "execution_count": 10,
   "id": "43c90f4f",
   "metadata": {
    "execution": {
     "iopub.execute_input": "2024-04-09T22:26:00.640346Z",
     "iopub.status.busy": "2024-04-09T22:26:00.639619Z",
     "iopub.status.idle": "2024-04-09T22:26:00.654132Z",
     "shell.execute_reply": "2024-04-09T22:26:00.652890Z"
    },
    "papermill": {
     "duration": 0.045642,
     "end_time": "2024-04-09T22:26:00.657303",
     "exception": false,
     "start_time": "2024-04-09T22:26:00.611661",
     "status": "completed"
    },
    "tags": []
   },
   "outputs": [],
   "source": [
    "articles = articles.with_columns(\n",
    "    pl.when(pl.col('sentiment_label') == 'Negative').then(-1) \\\n",
    "        .otherwise(\n",
    "            pl.when(pl.col('sentiment_label') == 'Positive').then(1).otherwise(0)\n",
    "        ).cast(pl.Int8).alias('sentiment_label_int'),\n",
    "    (pl.col('article_type') == 'article_default').cast(pl.UInt8).alias('is_article_default')\n",
    ")"
   ]
  },
  {
   "cell_type": "markdown",
   "id": "4a2957b9",
   "metadata": {
    "papermill": {
     "duration": 0.025876,
     "end_time": "2024-04-09T22:26:00.709883",
     "exception": false,
     "start_time": "2024-04-09T22:26:00.684007",
     "status": "completed"
    },
    "tags": []
   },
   "source": [
    "## Topics TF-IDF"
   ]
  },
  {
   "cell_type": "code",
   "execution_count": 11,
   "id": "f309ee47",
   "metadata": {
    "execution": {
     "iopub.execute_input": "2024-04-09T22:26:00.764360Z",
     "iopub.status.busy": "2024-04-09T22:26:00.763725Z",
     "iopub.status.idle": "2024-04-09T22:26:01.486600Z",
     "shell.execute_reply": "2024-04-09T22:26:01.485068Z"
    },
    "papermill": {
     "duration": 0.754012,
     "end_time": "2024-04-09T22:26:01.489999",
     "exception": false,
     "start_time": "2024-04-09T22:26:00.735987",
     "status": "completed"
    },
    "tags": []
   },
   "outputs": [
    {
     "name": "stdout",
     "output_type": "stream",
     "text": [
      "\u001b[1m\u001b[31m\n",
      "RAM memory GB usage = 1.124\u001b[0m\n"
     ]
    },
    {
     "data": {
      "text/html": [
       "<div><style>\n",
       ".dataframe > thead > tr,\n",
       ".dataframe > tbody > tr {\n",
       "  text-align: right;\n",
       "  white-space: pre-wrap;\n",
       "}\n",
       "</style>\n",
       "<small>shape: (2, 28)</small><table border=\"1\" class=\"dataframe\"><thead><tr><th>article_id</th><th>title</th><th>subtitle</th><th>last_modified_time</th><th>premium</th><th>body</th><th>published_time</th><th>image_ids</th><th>article_type</th><th>url</th><th>ner_clusters</th><th>entity_groups</th><th>topics</th><th>category</th><th>subcategory</th><th>category_str</th><th>total_inviews</th><th>total_pageviews</th><th>total_read_time</th><th>sentiment_score</th><th>sentiment_label</th><th>num_images</th><th>title_len</th><th>subtitle_len</th><th>body_len</th><th>sentiment_label_int</th><th>is_article_default</th><th>topics_idf</th></tr><tr><td>i32</td><td>str</td><td>str</td><td>datetime[μs]</td><td>bool</td><td>str</td><td>datetime[μs]</td><td>list[i64]</td><td>str</td><td>str</td><td>list[str]</td><td>list[str]</td><td>list[str]</td><td>i16</td><td>list[i16]</td><td>str</td><td>i32</td><td>i32</td><td>f32</td><td>f32</td><td>str</td><td>u32</td><td>u8</td><td>u8</td><td>u16</td><td>i8</td><td>u8</td><td>list[f32]</td></tr></thead><tbody><tr><td>3001353</td><td>&quot;Natascha var i…</td><td>&quot;Politiet frygt…</td><td>2023-06-29 06:20:33</td><td>false</td><td>&quot;Sagen om den ø…</td><td>2006-08-31 08:06:45</td><td>[3150850]</td><td>&quot;article_defaul…</td><td>&quot;https://ekstra…</td><td>[]</td><td>[]</td><td>[&quot;Kriminalitet&quot;, &quot;Personfarlig_kriminalitet&quot;]</td><td>140</td><td>[]</td><td>&quot;krimi&quot;</td><td>null</td><td>null</td><td>null</td><td>0.9955</td><td>&quot;Negative&quot;</td><td>1</td><td>5</td><td>22</td><td>200</td><td>-1</td><td>1</td><td>[0.0, 0.0, … 0.0]</td></tr><tr><td>3003065</td><td>&quot;Kun Star Wars …</td><td>&quot;Biografgængern…</td><td>2023-06-29 06:20:35</td><td>false</td><td>&quot;Vatikanet har …</td><td>2006-05-21 16:57:00</td><td>[3006712]</td><td>&quot;article_defaul…</td><td>&quot;https://ekstra…</td><td>[]</td><td>[]</td><td>[&quot;Underholdning&quot;, &quot;Film_og_tv&quot;, &quot;Økonomi&quot;]</td><td>414</td><td>[433, 434]</td><td>&quot;underholdning&quot;</td><td>null</td><td>null</td><td>null</td><td>0.846</td><td>&quot;Positive&quot;</td><td>1</td><td>5</td><td>19</td><td>116</td><td>1</td><td>1</td><td>[0.0, 0.0, … 0.536059]</td></tr></tbody></table></div>"
      ],
      "text/plain": [
       "shape: (2, 28)\n",
       "┌───────────┬───────────┬───────────┬───────────┬───┬──────────┬───────────┬───────────┬───────────┐\n",
       "│ article_i ┆ title     ┆ subtitle  ┆ last_modi ┆ … ┆ body_len ┆ sentiment ┆ is_articl ┆ topics_id │\n",
       "│ d         ┆ ---       ┆ ---       ┆ fied_time ┆   ┆ ---      ┆ _label_in ┆ e_default ┆ f         │\n",
       "│ ---       ┆ str       ┆ str       ┆ ---       ┆   ┆ u16      ┆ t         ┆ ---       ┆ ---       │\n",
       "│ i32       ┆           ┆           ┆ datetime[ ┆   ┆          ┆ ---       ┆ u8        ┆ list[f32] │\n",
       "│           ┆           ┆           ┆ μs]       ┆   ┆          ┆ i8        ┆           ┆           │\n",
       "╞═══════════╪═══════════╪═══════════╪═══════════╪═══╪══════════╪═══════════╪═══════════╪═══════════╡\n",
       "│ 3001353   ┆ Natascha  ┆ Politiet  ┆ 2023-06-2 ┆ … ┆ 200      ┆ -1        ┆ 1         ┆ [0.0,     │\n",
       "│           ┆ var ikke  ┆ frygter   ┆ 9         ┆   ┆          ┆           ┆           ┆ 0.0, …    │\n",
       "│           ┆ den       ┆ nu, at    ┆ 06:20:33  ┆   ┆          ┆           ┆           ┆ 0.0]      │\n",
       "│           ┆ første    ┆ Natascha… ┆           ┆   ┆          ┆           ┆           ┆           │\n",
       "│ 3003065   ┆ Kun Star  ┆ Biografgæ ┆ 2023-06-2 ┆ … ┆ 116      ┆ 1         ┆ 1         ┆ [0.0,     │\n",
       "│           ┆ Wars      ┆ ngerne    ┆ 9         ┆   ┆          ┆           ┆           ┆ 0.0, …    │\n",
       "│           ┆ tjente    ┆ strømmer  ┆ 06:20:35  ┆   ┆          ┆           ┆           ┆ 0.536059] │\n",
       "│           ┆ mere      ┆ ind for…  ┆           ┆   ┆          ┆           ┆           ┆           │\n",
       "└───────────┴───────────┴───────────┴───────────┴───┴──────────┴───────────┴───────────┴───────────┘"
      ]
     },
     "execution_count": 11,
     "metadata": {},
     "output_type": "execute_result"
    }
   ],
   "source": [
    "from sklearn.feature_extraction.text import TfidfVectorizer\n",
    "\n",
    "vectorizer = TfidfVectorizer()\n",
    "articles = articles.with_columns(\n",
    "    pl.Series(\n",
    "        vectorizer.fit_transform(\n",
    "            articles.with_columns(pl.col('topics').list.join(separator=' '))['topics'].to_list()\n",
    "        ).toarray().astype(np.float32)\n",
    "    ).alias('topics_idf')\n",
    ")\n",
    "\n",
    "gc.collect()\n",
    "PrintColor(f\"\\n\" + GetMemUsage(), color = Fore.RED)\n",
    "articles.head(2)"
   ]
  },
  {
   "cell_type": "code",
   "execution_count": 12,
   "id": "8dfe70d6",
   "metadata": {
    "execution": {
     "iopub.execute_input": "2024-04-09T22:26:01.548643Z",
     "iopub.status.busy": "2024-04-09T22:26:01.546943Z",
     "iopub.status.idle": "2024-04-09T22:26:01.555778Z",
     "shell.execute_reply": "2024-04-09T22:26:01.554600Z"
    },
    "papermill": {
     "duration": 0.041239,
     "end_time": "2024-04-09T22:26:01.558168",
     "exception": false,
     "start_time": "2024-04-09T22:26:01.516929",
     "status": "completed"
    },
    "tags": []
   },
   "outputs": [
    {
     "data": {
      "text/plain": [
       "79"
      ]
     },
     "execution_count": 12,
     "metadata": {},
     "output_type": "execute_result"
    }
   ],
   "source": [
    "# without split + join with _ of the single topics this returns 94\n",
    "len(vectorizer.get_feature_names_out())"
   ]
  },
  {
   "cell_type": "markdown",
   "id": "fc4e3960",
   "metadata": {
    "papermill": {
     "duration": 0.026469,
     "end_time": "2024-04-09T22:26:01.611408",
     "exception": false,
     "start_time": "2024-04-09T22:26:01.584939",
     "status": "completed"
    },
    "tags": []
   },
   "source": [
    "## Topic Model"
   ]
  },
  {
   "cell_type": "code",
   "execution_count": 13,
   "id": "bba78619",
   "metadata": {
    "execution": {
     "iopub.execute_input": "2024-04-09T22:26:01.755983Z",
     "iopub.status.busy": "2024-04-09T22:26:01.754892Z",
     "iopub.status.idle": "2024-04-09T22:26:02.723216Z",
     "shell.execute_reply": "2024-04-09T22:26:02.721906Z"
    },
    "papermill": {
     "duration": 1.088419,
     "end_time": "2024-04-09T22:26:02.726783",
     "exception": false,
     "start_time": "2024-04-09T22:26:01.638364",
     "status": "completed"
    },
    "tags": []
   },
   "outputs": [],
   "source": [
    "import nltk\n",
    "from sklearn.feature_extraction.text import CountVectorizer\n",
    "\n",
    "stopwords = nltk.corpus.stopwords.words('danish')\n",
    "title_vectorizer = CountVectorizer(stop_words=stopwords)\n",
    "\n",
    "titles_bow = title_vectorizer.fit_transform(articles['title'].to_list())"
   ]
  },
  {
   "cell_type": "code",
   "execution_count": 14,
   "id": "777f1fb7",
   "metadata": {
    "execution": {
     "iopub.execute_input": "2024-04-09T22:26:02.811559Z",
     "iopub.status.busy": "2024-04-09T22:26:02.811091Z",
     "iopub.status.idle": "2024-04-09T22:26:38.292287Z",
     "shell.execute_reply": "2024-04-09T22:26:38.290880Z"
    },
    "papermill": {
     "duration": 35.542615,
     "end_time": "2024-04-09T22:26:38.324156",
     "exception": false,
     "start_time": "2024-04-09T22:26:02.781541",
     "status": "completed"
    },
    "tags": []
   },
   "outputs": [
    {
     "name": "stdout",
     "output_type": "stream",
     "text": [
      "CPU times: user 35.4 s, sys: 0 ns, total: 35.4 s\n",
      "Wall time: 35.5 s\n"
     ]
    },
    {
     "data": {
      "text/html": [
       "<div><style>\n",
       ".dataframe > thead > tr,\n",
       ".dataframe > tbody > tr {\n",
       "  text-align: right;\n",
       "  white-space: pre-wrap;\n",
       "}\n",
       "</style>\n",
       "<small>shape: (2, 29)</small><table border=\"1\" class=\"dataframe\"><thead><tr><th>article_id</th><th>title</th><th>subtitle</th><th>last_modified_time</th><th>premium</th><th>body</th><th>published_time</th><th>image_ids</th><th>article_type</th><th>url</th><th>ner_clusters</th><th>entity_groups</th><th>topics</th><th>category</th><th>subcategory</th><th>category_str</th><th>total_inviews</th><th>total_pageviews</th><th>total_read_time</th><th>sentiment_score</th><th>sentiment_label</th><th>num_images</th><th>title_len</th><th>subtitle_len</th><th>body_len</th><th>sentiment_label_int</th><th>is_article_default</th><th>topics_idf</th><th>topic_model_embeddings</th></tr><tr><td>i32</td><td>str</td><td>str</td><td>datetime[μs]</td><td>bool</td><td>str</td><td>datetime[μs]</td><td>list[i64]</td><td>str</td><td>str</td><td>list[str]</td><td>list[str]</td><td>list[str]</td><td>i16</td><td>list[i16]</td><td>str</td><td>i32</td><td>i32</td><td>f32</td><td>f32</td><td>str</td><td>u32</td><td>u8</td><td>u8</td><td>u16</td><td>i8</td><td>u8</td><td>list[f32]</td><td>array[f32, 5]</td></tr></thead><tbody><tr><td>3001353</td><td>&quot;Natascha var i…</td><td>&quot;Politiet frygt…</td><td>2023-06-29 06:20:33</td><td>false</td><td>&quot;Sagen om den ø…</td><td>2006-08-31 08:06:45</td><td>[3150850]</td><td>&quot;article_defaul…</td><td>&quot;https://ekstra…</td><td>[]</td><td>[]</td><td>[&quot;Kriminalitet&quot;, &quot;Personfarlig_kriminalitet&quot;]</td><td>140</td><td>[]</td><td>&quot;krimi&quot;</td><td>null</td><td>null</td><td>null</td><td>0.9955</td><td>&quot;Negative&quot;</td><td>1</td><td>5</td><td>22</td><td>200</td><td>-1</td><td>1</td><td>[0.0, 0.0, … 0.0]</td><td>[0.281153, 0.14361, … 0.143801]</td></tr><tr><td>3003065</td><td>&quot;Kun Star Wars …</td><td>&quot;Biografgængern…</td><td>2023-06-29 06:20:35</td><td>false</td><td>&quot;Vatikanet har …</td><td>2006-05-21 16:57:00</td><td>[3006712]</td><td>&quot;article_defaul…</td><td>&quot;https://ekstra…</td><td>[]</td><td>[]</td><td>[&quot;Underholdning&quot;, &quot;Film_og_tv&quot;, &quot;Økonomi&quot;]</td><td>414</td><td>[433, 434]</td><td>&quot;underholdning&quot;</td><td>null</td><td>null</td><td>null</td><td>0.846</td><td>&quot;Positive&quot;</td><td>1</td><td>5</td><td>19</td><td>116</td><td>1</td><td>1</td><td>[0.0, 0.0, … 0.536059]</td><td>[0.116234, 0.109821, … 0.226648]</td></tr></tbody></table></div>"
      ],
      "text/plain": [
       "shape: (2, 29)\n",
       "┌───────────┬───────────┬───────────┬───────────┬───┬───────────┬───────────┬───────────┬──────────┐\n",
       "│ article_i ┆ title     ┆ subtitle  ┆ last_modi ┆ … ┆ sentiment ┆ is_articl ┆ topics_id ┆ topic_mo │\n",
       "│ d         ┆ ---       ┆ ---       ┆ fied_time ┆   ┆ _label_in ┆ e_default ┆ f         ┆ del_embe │\n",
       "│ ---       ┆ str       ┆ str       ┆ ---       ┆   ┆ t         ┆ ---       ┆ ---       ┆ ddings   │\n",
       "│ i32       ┆           ┆           ┆ datetime[ ┆   ┆ ---       ┆ u8        ┆ list[f32] ┆ ---      │\n",
       "│           ┆           ┆           ┆ μs]       ┆   ┆ i8        ┆           ┆           ┆ array[f3 │\n",
       "│           ┆           ┆           ┆           ┆   ┆           ┆           ┆           ┆ 2, 5]    │\n",
       "╞═══════════╪═══════════╪═══════════╪═══════════╪═══╪═══════════╪═══════════╪═══════════╪══════════╡\n",
       "│ 3001353   ┆ Natascha  ┆ Politiet  ┆ 2023-06-2 ┆ … ┆ -1        ┆ 1         ┆ [0.0,     ┆ [0.28115 │\n",
       "│           ┆ var ikke  ┆ frygter   ┆ 9         ┆   ┆           ┆           ┆ 0.0, …    ┆ 3,       │\n",
       "│           ┆ den       ┆ nu, at    ┆ 06:20:33  ┆   ┆           ┆           ┆ 0.0]      ┆ 0.14361, │\n",
       "│           ┆ første    ┆ Natascha… ┆           ┆   ┆           ┆           ┆           ┆ … 0.1438 │\n",
       "│           ┆           ┆           ┆           ┆   ┆           ┆           ┆           ┆ 01]      │\n",
       "│ 3003065   ┆ Kun Star  ┆ Biografgæ ┆ 2023-06-2 ┆ … ┆ 1         ┆ 1         ┆ [0.0,     ┆ [0.11623 │\n",
       "│           ┆ Wars      ┆ ngerne    ┆ 9         ┆   ┆           ┆           ┆ 0.0, …    ┆ 4, 0.109 │\n",
       "│           ┆ tjente    ┆ strømmer  ┆ 06:20:35  ┆   ┆           ┆           ┆ 0.536059] ┆ 821, …   │\n",
       "│           ┆ mere      ┆ ind for…  ┆           ┆   ┆           ┆           ┆           ┆ 0.226648 │\n",
       "│           ┆           ┆           ┆           ┆   ┆           ┆           ┆           ┆ ]        │\n",
       "└───────────┴───────────┴───────────┴───────────┴───┴───────────┴───────────┴───────────┴──────────┘"
      ]
     },
     "execution_count": 14,
     "metadata": {},
     "output_type": "execute_result"
    }
   ],
   "source": [
    "%%time\n",
    "\n",
    "from sklearn.decomposition import LatentDirichletAllocation\n",
    "\n",
    "# parameters tuned on perplexity\n",
    "N_COMPONENTS = 5\n",
    "lda_model = LatentDirichletAllocation(\n",
    "    n_components=N_COMPONENTS,\n",
    "    doc_topic_prior=0.99,\n",
    "    topic_word_prior=0.75,\n",
    "    learning_method='online'\n",
    ")\n",
    "articles = articles.with_columns(\n",
    "    pl.Series(lda_model.fit_transform(titles_bow).astype(np.float32)) \\\n",
    "        .list.to_array(5).alias('topic_model_embeddings')\n",
    ")\n",
    "articles.head(2)"
   ]
  },
  {
   "cell_type": "code",
   "execution_count": 15,
   "id": "6f1291b7",
   "metadata": {
    "execution": {
     "iopub.execute_input": "2024-04-09T22:26:38.381520Z",
     "iopub.status.busy": "2024-04-09T22:26:38.381125Z",
     "iopub.status.idle": "2024-04-09T22:26:38.398565Z",
     "shell.execute_reply": "2024-04-09T22:26:38.397163Z"
    },
    "papermill": {
     "duration": 0.049972,
     "end_time": "2024-04-09T22:26:38.401595",
     "exception": false,
     "start_time": "2024-04-09T22:26:38.351623",
     "status": "completed"
    },
    "tags": []
   },
   "outputs": [
    {
     "data": {
      "text/html": [
       "<div><style>\n",
       ".dataframe > thead > tr,\n",
       ".dataframe > tbody > tr {\n",
       "  text-align: right;\n",
       "  white-space: pre-wrap;\n",
       "}\n",
       "</style>\n",
       "<small>shape: (2, 33)</small><table border=\"1\" class=\"dataframe\"><thead><tr><th>article_id</th><th>title</th><th>subtitle</th><th>last_modified_time</th><th>premium</th><th>body</th><th>published_time</th><th>image_ids</th><th>article_type</th><th>url</th><th>ner_clusters</th><th>entity_groups</th><th>topics</th><th>category</th><th>subcategory</th><th>category_str</th><th>total_inviews</th><th>total_pageviews</th><th>total_read_time</th><th>sentiment_score</th><th>sentiment_label</th><th>num_images</th><th>title_len</th><th>subtitle_len</th><th>body_len</th><th>sentiment_label_int</th><th>is_article_default</th><th>topics_idf</th><th>topic_model_embedding_0</th><th>topic_model_embedding_1</th><th>topic_model_embedding_2</th><th>topic_model_embedding_3</th><th>topic_model_embedding_4</th></tr><tr><td>i32</td><td>str</td><td>str</td><td>datetime[μs]</td><td>bool</td><td>str</td><td>datetime[μs]</td><td>list[i64]</td><td>str</td><td>str</td><td>list[str]</td><td>list[str]</td><td>list[str]</td><td>i16</td><td>list[i16]</td><td>str</td><td>i32</td><td>i32</td><td>f32</td><td>f32</td><td>str</td><td>u32</td><td>u8</td><td>u8</td><td>u16</td><td>i8</td><td>u8</td><td>list[f32]</td><td>f32</td><td>f32</td><td>f32</td><td>f32</td><td>f32</td></tr></thead><tbody><tr><td>3001353</td><td>&quot;Natascha var i…</td><td>&quot;Politiet frygt…</td><td>2023-06-29 06:20:33</td><td>false</td><td>&quot;Sagen om den ø…</td><td>2006-08-31 08:06:45</td><td>[3150850]</td><td>&quot;article_defaul…</td><td>&quot;https://ekstra…</td><td>[]</td><td>[]</td><td>[&quot;Kriminalitet&quot;, &quot;Personfarlig_kriminalitet&quot;]</td><td>140</td><td>[]</td><td>&quot;krimi&quot;</td><td>null</td><td>null</td><td>null</td><td>0.9955</td><td>&quot;Negative&quot;</td><td>1</td><td>5</td><td>22</td><td>200</td><td>-1</td><td>1</td><td>[0.0, 0.0, … 0.0]</td><td>0.281153</td><td>0.14361</td><td>0.143919</td><td>0.287517</td><td>0.143801</td></tr><tr><td>3003065</td><td>&quot;Kun Star Wars …</td><td>&quot;Biografgængern…</td><td>2023-06-29 06:20:35</td><td>false</td><td>&quot;Vatikanet har …</td><td>2006-05-21 16:57:00</td><td>[3006712]</td><td>&quot;article_defaul…</td><td>&quot;https://ekstra…</td><td>[]</td><td>[]</td><td>[&quot;Underholdning&quot;, &quot;Film_og_tv&quot;, &quot;Økonomi&quot;]</td><td>414</td><td>[433, 434]</td><td>&quot;underholdning&quot;</td><td>null</td><td>null</td><td>null</td><td>0.846</td><td>&quot;Positive&quot;</td><td>1</td><td>5</td><td>19</td><td>116</td><td>1</td><td>1</td><td>[0.0, 0.0, … 0.536059]</td><td>0.116234</td><td>0.109821</td><td>0.313377</td><td>0.23392</td><td>0.226648</td></tr></tbody></table></div>"
      ],
      "text/plain": [
       "shape: (2, 33)\n",
       "┌───────────┬───────────┬───────────┬───────────┬───┬───────────┬───────────┬───────────┬──────────┐\n",
       "│ article_i ┆ title     ┆ subtitle  ┆ last_modi ┆ … ┆ topic_mod ┆ topic_mod ┆ topic_mod ┆ topic_mo │\n",
       "│ d         ┆ ---       ┆ ---       ┆ fied_time ┆   ┆ el_embedd ┆ el_embedd ┆ el_embedd ┆ del_embe │\n",
       "│ ---       ┆ str       ┆ str       ┆ ---       ┆   ┆ ing_1     ┆ ing_2     ┆ ing_3     ┆ dding_4  │\n",
       "│ i32       ┆           ┆           ┆ datetime[ ┆   ┆ ---       ┆ ---       ┆ ---       ┆ ---      │\n",
       "│           ┆           ┆           ┆ μs]       ┆   ┆ f32       ┆ f32       ┆ f32       ┆ f32      │\n",
       "╞═══════════╪═══════════╪═══════════╪═══════════╪═══╪═══════════╪═══════════╪═══════════╪══════════╡\n",
       "│ 3001353   ┆ Natascha  ┆ Politiet  ┆ 2023-06-2 ┆ … ┆ 0.14361   ┆ 0.143919  ┆ 0.287517  ┆ 0.143801 │\n",
       "│           ┆ var ikke  ┆ frygter   ┆ 9         ┆   ┆           ┆           ┆           ┆          │\n",
       "│           ┆ den       ┆ nu, at    ┆ 06:20:33  ┆   ┆           ┆           ┆           ┆          │\n",
       "│           ┆ første    ┆ Natascha… ┆           ┆   ┆           ┆           ┆           ┆          │\n",
       "│ 3003065   ┆ Kun Star  ┆ Biografgæ ┆ 2023-06-2 ┆ … ┆ 0.109821  ┆ 0.313377  ┆ 0.23392   ┆ 0.226648 │\n",
       "│           ┆ Wars      ┆ ngerne    ┆ 9         ┆   ┆           ┆           ┆           ┆          │\n",
       "│           ┆ tjente    ┆ strømmer  ┆ 06:20:35  ┆   ┆           ┆           ┆           ┆          │\n",
       "│           ┆ mere      ┆ ind for…  ┆           ┆   ┆           ┆           ┆           ┆          │\n",
       "└───────────┴───────────┴───────────┴───────────┴───┴───────────┴───────────┴───────────┴──────────┘"
      ]
     },
     "execution_count": 15,
     "metadata": {},
     "output_type": "execute_result"
    }
   ],
   "source": [
    "topic_model_columns = [f'topic_model_embedding_{i}' for i in range(N_COMPONENTS)]\n",
    "\n",
    "articles = articles.with_columns(\n",
    "    pl.col('topic_model_embeddings').arr.to_struct(fields=lambda i: f'topic_model_embedding_{i}')\n",
    ").with_columns([\n",
    "    pl.col('topic_model_embeddings').struct.field(f'topic_model_embedding_{i}') for i in range(N_COMPONENTS)\n",
    "]).drop('topic_model_embeddings')\n",
    "\n",
    "articles.head(2)"
   ]
  },
  {
   "cell_type": "markdown",
   "id": "68b2e94a",
   "metadata": {
    "papermill": {
     "duration": 0.027823,
     "end_time": "2024-04-09T22:26:38.457817",
     "exception": false,
     "start_time": "2024-04-09T22:26:38.429994",
     "status": "completed"
    },
    "tags": []
   },
   "source": [
    "# History preprocessing"
   ]
  },
  {
   "cell_type": "code",
   "execution_count": 16,
   "id": "987a8c4f",
   "metadata": {
    "execution": {
     "iopub.execute_input": "2024-04-09T22:26:38.515860Z",
     "iopub.status.busy": "2024-04-09T22:26:38.515402Z",
     "iopub.status.idle": "2024-04-09T22:26:38.521762Z",
     "shell.execute_reply": "2024-04-09T22:26:38.520749Z"
    },
    "papermill": {
     "duration": 0.038007,
     "end_time": "2024-04-09T22:26:38.524013",
     "exception": false,
     "start_time": "2024-04-09T22:26:38.486006",
     "status": "completed"
    },
    "tags": []
   },
   "outputs": [],
   "source": [
    "def add_topics_tf_idf_columns(df, topics_col, vectorizer):\n",
    "    return df.with_columns(\n",
    "        pl.Series(\n",
    "            vectorizer.transform(\n",
    "                df.with_columns(pl.col(topics_col).list.join(separator=' '))[topics_col].to_list()\n",
    "            ).toarray().astype(np.float32)\n",
    "        ).alias(f'{topics_col}_tf_idf')\n",
    "    )"
   ]
  },
  {
   "cell_type": "code",
   "execution_count": 17,
   "id": "e781a7f3",
   "metadata": {
    "execution": {
     "iopub.execute_input": "2024-04-09T22:26:38.581534Z",
     "iopub.status.busy": "2024-04-09T22:26:38.581154Z",
     "iopub.status.idle": "2024-04-09T22:26:57.358850Z",
     "shell.execute_reply": "2024-04-09T22:26:57.357372Z"
    },
    "papermill": {
     "duration": 18.809666,
     "end_time": "2024-04-09T22:26:57.361365",
     "exception": false,
     "start_time": "2024-04-09T22:26:38.551699",
     "status": "completed"
    },
    "tags": []
   },
   "outputs": [
    {
     "name": "stderr",
     "output_type": "stream",
     "text": [
      "16it [00:17,  1.12s/it]                        \n"
     ]
    },
    {
     "name": "stdout",
     "output_type": "stream",
     "text": [
      "\u001b[1m\u001b[31m\n",
      "RAM memory GB usage = 1.234\u001b[0m\n",
      "Memory usage of dataframe is 39.39 MB\n",
      "Memory usage after optimization is: 38.61 MB\n",
      "Decreased by 2.0%\n",
      "CPU times: user 20.6 s, sys: 1.93 s, total: 22.5 s\n",
      "Wall time: 18.7 s\n"
     ]
    },
    {
     "data": {
      "text/html": [
       "<div><style>\n",
       ".dataframe > thead > tr,\n",
       ".dataframe > tbody > tr {\n",
       "  text-align: right;\n",
       "  white-space: pre-wrap;\n",
       "}\n",
       "</style>\n",
       "<small>shape: (2, 27)</small><table border=\"1\" class=\"dataframe\"><thead><tr><th>user_id</th><th>article_id_fixed</th><th>impression_time_fixed</th><th>category</th><th>NumArticlesHistory</th><th>MedianReadTime</th><th>MaxReadTime</th><th>TotalReadTime</th><th>MedianScrollPercentage</th><th>MaxScrollPercentage</th><th>NeutralPct</th><th>PositivePct</th><th>NegativePct</th><th>PctStrongNeutral</th><th>PctStrongPositive</th><th>PctStrongNegative</th><th>PctNotDefaultArticles</th><th>MostFrequentCategory</th><th>MostFrequentWeekday</th><th>MostFrequentHour</th><th>topics_flatten_tf_idf</th><th>EVENTPct</th><th>ORGPct</th><th>LOCPct</th><th>PERPct</th><th>PRODPct</th><th>MISCPct</th></tr><tr><td>u32</td><td>list[i32]</td><td>list[datetime[μs]]</td><td>list[i16]</td><td>u16</td><td>f32</td><td>f32</td><td>f32</td><td>f32</td><td>f32</td><td>f32</td><td>f32</td><td>f32</td><td>f32</td><td>f32</td><td>f32</td><td>f32</td><td>i16</td><td>i8</td><td>i8</td><td>list[f32]</td><td>f32</td><td>f32</td><td>f32</td><td>f32</td><td>f32</td><td>f32</td></tr></thead><tbody><tr><td>10623</td><td>[9739035, 9739065, … 9770533]</td><td>[2023-04-27 14:29:44, 2023-04-27 14:29:47, … 2023-05-17 17:36:24]</td><td>[118, 414, … 140]</td><td>143</td><td>3.0</td><td>1563.0</td><td>9623.0</td><td>42.5</td><td>100.0</td><td>0.230769</td><td>0.111888</td><td>0.657343</td><td>0.097902</td><td>0.083916</td><td>0.608392</td><td>0.06993</td><td>118</td><td>3</td><td>16</td><td>[0.016041, 0.062928, … 0.178427]</td><td>0.202797</td><td>0.888112</td><td>0.804196</td><td>0.874126</td><td>0.237762</td><td>0.223776</td></tr><tr><td>12016</td><td>[9738216, 9735383, … 9769622]</td><td>[2023-04-27 07:39:48, 2023-04-27 07:41:30, … 2023-05-17 23:56:30]</td><td>[140, 118, … 140]</td><td>264</td><td>156.0</td><td>1775.0</td><td>63672.0</td><td>100.0</td><td>100.0</td><td>0.257576</td><td>0.075758</td><td>0.666667</td><td>0.106061</td><td>0.034091</td><td>0.602273</td><td>0.07197</td><td>140</td><td>5</td><td>20</td><td>[0.009749, 0.045896, … 0.075912]</td><td>0.087121</td><td>0.852273</td><td>0.776515</td><td>0.787879</td><td>0.318182</td><td>0.117424</td></tr></tbody></table></div>"
      ],
      "text/plain": [
       "shape: (2, 27)\n",
       "┌─────────┬─────────────┬─────────────┬────────────┬───┬──────────┬──────────┬──────────┬──────────┐\n",
       "│ user_id ┆ article_id_ ┆ impression_ ┆ category   ┆ … ┆ LOCPct   ┆ PERPct   ┆ PRODPct  ┆ MISCPct  │\n",
       "│ ---     ┆ fixed       ┆ time_fixed  ┆ ---        ┆   ┆ ---      ┆ ---      ┆ ---      ┆ ---      │\n",
       "│ u32     ┆ ---         ┆ ---         ┆ list[i16]  ┆   ┆ f32      ┆ f32      ┆ f32      ┆ f32      │\n",
       "│         ┆ list[i32]   ┆ list[dateti ┆            ┆   ┆          ┆          ┆          ┆          │\n",
       "│         ┆             ┆ me[μs]]     ┆            ┆   ┆          ┆          ┆          ┆          │\n",
       "╞═════════╪═════════════╪═════════════╪════════════╪═══╪══════════╪══════════╪══════════╪══════════╡\n",
       "│ 10623   ┆ [9739035,   ┆ [2023-04-27 ┆ [118, 414, ┆ … ┆ 0.804196 ┆ 0.874126 ┆ 0.237762 ┆ 0.223776 │\n",
       "│         ┆ 9739065, …  ┆ 14:29:44,   ┆ … 140]     ┆   ┆          ┆          ┆          ┆          │\n",
       "│         ┆ 9770533]    ┆ 2023-04-27… ┆            ┆   ┆          ┆          ┆          ┆          │\n",
       "│ 12016   ┆ [9738216,   ┆ [2023-04-27 ┆ [140, 118, ┆ … ┆ 0.776515 ┆ 0.787879 ┆ 0.318182 ┆ 0.117424 │\n",
       "│         ┆ 9735383, …  ┆ 07:39:48,   ┆ … 140]     ┆   ┆          ┆          ┆          ┆          │\n",
       "│         ┆ 9769622]    ┆ 2023-04-27… ┆            ┆   ┆          ┆          ┆          ┆          │\n",
       "└─────────┴─────────────┴─────────────┴────────────┴───┴──────────┴──────────┴──────────┴──────────┘"
      ]
     },
     "execution_count": 17,
     "metadata": {},
     "output_type": "execute_result"
    }
   ],
   "source": [
    "%%time\n",
    "\n",
    "STRONG_THR = 0.8\n",
    "\n",
    "history_train = pl.concat(\n",
    "    rows.with_columns(pl.col('article_id_fixed').list.len().alias('NumArticlesHistory')) \\\n",
    "        .explode(['article_id_fixed', 'impression_time_fixed', 'read_time_fixed', 'scroll_percentage_fixed']) \\\n",
    "        .sort(by=['user_id', 'impression_time_fixed']) \\\n",
    "        .with_columns(\n",
    "            pl.col('impression_time_fixed').dt.weekday().alias('weekday'),\n",
    "            pl.col('impression_time_fixed').dt.hour().alias('hour'),\n",
    "        ).join(articles.select(['article_id', 'category', 'is_article_default', 'sentiment_label_int', \n",
    "                                'sentiment_score', 'entity_groups', 'topics']), \n",
    "               left_on='article_id_fixed', right_on='article_id', how='left') \\\n",
    "        .with_columns(\n",
    "            (pl.col('sentiment_label_int') == 0).alias('is_neutral'),\n",
    "            (pl.col('sentiment_label_int') == 1).alias('is_positive'),\n",
    "            (pl.col('sentiment_label_int') == -1).alias('is_negative'),\n",
    "            ((pl.col('sentiment_label_int') == 0) & (pl.col('sentiment_score') > STRONG_THR)).alias('strong_neutral'),\n",
    "            ((pl.col('sentiment_label_int') == 1) & (pl.col('sentiment_score') > STRONG_THR)).alias('strong_positive'),\n",
    "            ((pl.col('sentiment_label_int') == -1) & (pl.col('sentiment_score') > STRONG_THR)).alias('strong_negative'),\n",
    "            pl.col('entity_groups').list.unique(),\n",
    "        ).group_by('user_id').agg(\n",
    "            pl.col('article_id_fixed'),\n",
    "            pl.col('impression_time_fixed'),\n",
    "            pl.col('category'),\n",
    "            pl.col('NumArticlesHistory').first(),\n",
    "            pl.col('read_time_fixed').median().alias('MedianReadTime'),\n",
    "            pl.col('read_time_fixed').max().alias('MaxReadTime'),\n",
    "            pl.col('read_time_fixed').sum().alias('TotalReadTime'),\n",
    "            pl.col('scroll_percentage_fixed').median().alias('MedianScrollPercentage'),\n",
    "            pl.col('scroll_percentage_fixed').max().alias('MaxScrollPercentage'),\n",
    "            (pl.col('is_neutral').sum() / pl.col('NumArticlesHistory').first()).alias('NeutralPct'),\n",
    "            (pl.col('is_positive').sum() / pl.col('NumArticlesHistory').first()).alias('PositivePct'),\n",
    "            (pl.col('is_negative').sum() / pl.col('NumArticlesHistory').first()).alias('NegativePct'),\n",
    "            (pl.col('strong_neutral').sum() / pl.col('NumArticlesHistory').first()).alias('PctStrongNeutral'),\n",
    "            (pl.col('strong_positive').sum() / pl.col('NumArticlesHistory').first()).alias('PctStrongPositive'),\n",
    "            (pl.col('strong_negative').sum() / pl.col('NumArticlesHistory').first()).alias('PctStrongNegative'),\n",
    "            (1 - (pl.col('is_article_default').sum() / pl.col('NumArticlesHistory').first())).alias('PctNotDefaultArticles'),\n",
    "            pl.col('category').mode().alias('MostFrequentCategory'),\n",
    "            pl.col('weekday').mode().alias('MostFrequentWeekday'),\n",
    "            pl.col('hour').mode().alias('MostFrequentHour'),\n",
    "            pl.col('entity_groups').flatten(),\n",
    "            pl.col('topics').flatten().alias('topics_flatten')\n",
    "        ).pipe(add_topics_tf_idf_columns, topics_col='topics_flatten', vectorizer=vectorizer) \\\n",
    "        .drop('topics_flatten').with_columns(\n",
    "            pl.col('MostFrequentCategory').list.first(),\n",
    "            pl.col('MostFrequentWeekday').list.first(),\n",
    "            pl.col('MostFrequentHour').list.first(),\n",
    "        ).with_columns(\n",
    "            (pl.col('entity_groups').list.count_matches(entity) / pl.col('NumArticlesHistory')).alias(f'{entity}Pct')\n",
    "            for entity in unique_entities\n",
    "        ).drop('entity_groups')\n",
    "    for rows in tqdm.tqdm(history_train.iter_slices(1000), total=history_train.shape[0] // 1000)\n",
    ")\n",
    "\n",
    "gc.collect()\n",
    "PrintColor(f\"\\n\" + GetMemUsage(), color = Fore.RED)\n",
    "history_train = reduce_polars_df_memory_size(history_train)\n",
    "history_train.head(2)"
   ]
  },
  {
   "cell_type": "code",
   "execution_count": 18,
   "id": "7c4ef20d",
   "metadata": {
    "execution": {
     "iopub.execute_input": "2024-04-09T22:26:57.424534Z",
     "iopub.status.busy": "2024-04-09T22:26:57.423940Z",
     "iopub.status.idle": "2024-04-09T22:26:57.432872Z",
     "shell.execute_reply": "2024-04-09T22:26:57.431584Z"
    },
    "papermill": {
     "duration": 0.04279,
     "end_time": "2024-04-09T22:26:57.435971",
     "exception": false,
     "start_time": "2024-04-09T22:26:57.393181",
     "status": "completed"
    },
    "tags": []
   },
   "outputs": [
    {
     "data": {
      "text/plain": [
       "(15143, 27)"
      ]
     },
     "execution_count": 18,
     "metadata": {},
     "output_type": "execute_result"
    }
   ],
   "source": [
    "history_train.shape"
   ]
  },
  {
   "cell_type": "markdown",
   "id": "0a62419c",
   "metadata": {
    "papermill": {
     "duration": 0.029916,
     "end_time": "2024-04-09T22:26:57.495858",
     "exception": false,
     "start_time": "2024-04-09T22:26:57.465942",
     "status": "completed"
    },
    "tags": []
   },
   "source": [
    "# Named entity collaborative filtering"
   ]
  },
  {
   "cell_type": "code",
   "execution_count": 19,
   "id": "5c2c92f9",
   "metadata": {
    "execution": {
     "iopub.execute_input": "2024-04-09T22:26:57.560073Z",
     "iopub.status.busy": "2024-04-09T22:26:57.559621Z",
     "iopub.status.idle": "2024-04-09T22:26:57.672196Z",
     "shell.execute_reply": "2024-04-09T22:26:57.671075Z"
    },
    "papermill": {
     "duration": 0.149387,
     "end_time": "2024-04-09T22:26:57.676028",
     "exception": false,
     "start_time": "2024-04-09T22:26:57.526641",
     "status": "completed"
    },
    "tags": []
   },
   "outputs": [],
   "source": [
    "user_id_mapping = history_train.sort('user_id').with_row_index() \\\n",
    "    .select(['index', 'user_id']).rename({'index': 'user_index'})\n",
    "\n",
    "ner_mapping = articles.select(['ner_clusters']) \\\n",
    "    .explode('ner_clusters') \\\n",
    "    .rename({'ner_clusters': 'ner'}) \\\n",
    "    .with_columns(pl.col('ner').str.strip_chars_start('\\\" ').str.to_lowercase()) \\\n",
    "    .unique('ner').drop_nulls().filter(pl.col('ner').str.len_chars() > 0) \\\n",
    "    .sort('ner').with_row_index().rename({'index': 'ner_index'})"
   ]
  },
  {
   "cell_type": "code",
   "execution_count": 20,
   "id": "5f25342c",
   "metadata": {
    "execution": {
     "iopub.execute_input": "2024-04-09T22:26:57.740014Z",
     "iopub.status.busy": "2024-04-09T22:26:57.738692Z",
     "iopub.status.idle": "2024-04-09T22:27:14.638655Z",
     "shell.execute_reply": "2024-04-09T22:27:14.637231Z"
    },
    "papermill": {
     "duration": 16.934558,
     "end_time": "2024-04-09T22:27:14.641809",
     "exception": false,
     "start_time": "2024-04-09T22:26:57.707251",
     "status": "completed"
    },
    "tags": []
   },
   "outputs": [],
   "source": [
    "ner_interactions = history_train.select(['user_id', 'article_id_fixed']).explode('article_id_fixed') \\\n",
    "    .join(articles.select(['article_id', 'ner_clusters']), left_on='article_id_fixed', right_on='article_id', how='left') \\\n",
    "    .explode('ner_clusters').unique(['user_id', 'ner_clusters']) \\\n",
    "    .with_columns(pl.col('ner_clusters').str.strip_chars_start('\\\" ').str.to_lowercase()) \\\n",
    "    .join(user_id_mapping, on='user_id', how='left') \\\n",
    "    .join(ner_mapping, left_on='ner_clusters', right_on='ner') \\\n",
    "    .select(['user_index', 'ner_index', 'user_id', 'article_id_fixed']) \\\n",
    "    .unique(['user_index', 'ner_index'])\n",
    "\n",
    "URM_ner = sps.csr_matrix((np.ones(ner_interactions.shape[0]),\n",
    "                          (ner_interactions['user_index'].to_numpy(), ner_interactions['ner_index'].to_numpy())),\n",
    "                         shape=(user_id_mapping.shape[0], ner_mapping.shape[0]))\n",
    "\n",
    "ner_interactions_test = behaviors_train.select(['user_id', 'article_ids_clicked']).explode('article_ids_clicked') \\\n",
    "    .join(articles.select(['article_id', 'ner_clusters']), left_on='article_ids_clicked', right_on='article_id', how='left') \\\n",
    "    .explode('ner_clusters').unique(['user_id', 'ner_clusters']) \\\n",
    "    .with_columns(pl.col('ner_clusters').str.strip_chars_start('\\\" ').str.to_lowercase()) \\\n",
    "    .join(user_id_mapping, on='user_id', how='left') \\\n",
    "    .join(ner_mapping, left_on='ner_clusters', right_on='ner') \\\n",
    "    .select(['user_index', 'ner_index', 'user_id', 'article_ids_clicked']) \\\n",
    "    .unique(['user_index', 'ner_index'])\n",
    "\n",
    "URM_ner_test = sps.csr_matrix((np.ones(ner_interactions_test.shape[0]),\n",
    "                               (ner_interactions_test['user_index'].to_numpy(), ner_interactions_test['ner_index'].to_numpy())),\n",
    "                              shape=(user_id_mapping.shape[0], ner_mapping.shape[0]))"
   ]
  },
  {
   "cell_type": "code",
   "execution_count": 21,
   "id": "fa31cf21",
   "metadata": {
    "execution": {
     "iopub.execute_input": "2024-04-09T22:27:14.706049Z",
     "iopub.status.busy": "2024-04-09T22:27:14.705322Z",
     "iopub.status.idle": "2024-04-09T22:27:19.079312Z",
     "shell.execute_reply": "2024-04-09T22:27:19.077670Z"
    },
    "papermill": {
     "duration": 4.409013,
     "end_time": "2024-04-09T22:27:19.082501",
     "exception": false,
     "start_time": "2024-04-09T22:27:14.673488",
     "status": "completed"
    },
    "tags": []
   },
   "outputs": [
    {
     "name": "stdout",
     "output_type": "stream",
     "text": [
      "/kaggle/working\n"
     ]
    },
    {
     "name": "stderr",
     "output_type": "stream",
     "text": [
      "/opt/conda/lib/python3.10/pty.py:89: RuntimeWarning: os.fork() was called. os.fork() is incompatible with multithreaded code, and JAX is multithreaded, so this will likely lead to a deadlock.\n",
      "  pid, fd = os.forkpty()\n"
     ]
    },
    {
     "name": "stdout",
     "output_type": "stream",
     "text": [
      "Cloning into 'RecSys_Course_AT_PoliMi'...\r\n",
      "remote: Enumerating objects: 1519, done.\u001b[K\r\n",
      "remote: Counting objects: 100% (255/255), done.\u001b[K\r\n",
      "remote: Compressing objects: 100% (43/43), done.\u001b[K\r\n",
      "remote: Total 1519 (delta 223), reused 220 (delta 212), pack-reused 1264\u001b[K\r\n",
      "Receiving objects: 100% (1519/1519), 50.33 MiB | 25.28 MiB/s, done.\r\n",
      "Resolving deltas: 100% (909/909), done.\r\n"
     ]
    }
   ],
   "source": [
    "%cd /kaggle/working\n",
    "! git clone https://github.com/MaurizioFD/RecSys_Course_AT_PoliMi.git"
   ]
  },
  {
   "cell_type": "code",
   "execution_count": 22,
   "id": "8db5a7b5",
   "metadata": {
    "execution": {
     "iopub.execute_input": "2024-04-09T22:27:19.152073Z",
     "iopub.status.busy": "2024-04-09T22:27:19.151587Z",
     "iopub.status.idle": "2024-04-09T22:32:41.541986Z",
     "shell.execute_reply": "2024-04-09T22:32:41.540396Z"
    },
    "papermill": {
     "duration": 322.429095,
     "end_time": "2024-04-09T22:32:41.544951",
     "exception": false,
     "start_time": "2024-04-09T22:27:19.115856",
     "status": "completed"
    },
    "tags": []
   },
   "outputs": [
    {
     "name": "stdout",
     "output_type": "stream",
     "text": [
      "/kaggle/working/RecSys_Course_AT_PoliMi\n",
      "ItemKNNCFRecommender: URM Detected 1 ( 0.0%) users with no interactions.\n",
      "ItemKNNCFRecommender: URM Detected 18909 (43.2%) items with no interactions.\n",
      "Unable to load Cython Compute_Similarity, reverting to Python\n",
      "Similarity column 43774 (100.0%), 158.77 column/sec. Elapsed time 4.59 min\n",
      "EvaluatorHoldout: Ignoring 31 ( 0.2%) Users that have less than 1 test interactions\n",
      "EvaluatorHoldout: Processed 15112 (100.0%) in 45.68 sec. Users per second: 331\n"
     ]
    },
    {
     "data": {
      "text/html": [
       "<div>\n",
       "<style scoped>\n",
       "    .dataframe tbody tr th:only-of-type {\n",
       "        vertical-align: middle;\n",
       "    }\n",
       "\n",
       "    .dataframe tbody tr th {\n",
       "        vertical-align: top;\n",
       "    }\n",
       "\n",
       "    .dataframe thead th {\n",
       "        text-align: right;\n",
       "    }\n",
       "</style>\n",
       "<table border=\"1\" class=\"dataframe\">\n",
       "  <thead>\n",
       "    <tr style=\"text-align: right;\">\n",
       "      <th></th>\n",
       "      <th>PRECISION</th>\n",
       "      <th>PRECISION_RECALL_MIN_DEN</th>\n",
       "      <th>RECALL</th>\n",
       "      <th>MAP</th>\n",
       "      <th>MAP_MIN_DEN</th>\n",
       "      <th>MRR</th>\n",
       "      <th>NDCG</th>\n",
       "      <th>F1</th>\n",
       "      <th>HIT_RATE</th>\n",
       "      <th>ARHR_ALL_HITS</th>\n",
       "      <th>...</th>\n",
       "      <th>COVERAGE_USER</th>\n",
       "      <th>COVERAGE_USER_HIT</th>\n",
       "      <th>USERS_IN_GT</th>\n",
       "      <th>DIVERSITY_GINI</th>\n",
       "      <th>SHANNON_ENTROPY</th>\n",
       "      <th>RATIO_DIVERSITY_HERFINDAHL</th>\n",
       "      <th>RATIO_DIVERSITY_GINI</th>\n",
       "      <th>RATIO_SHANNON_ENTROPY</th>\n",
       "      <th>RATIO_AVERAGE_POPULARITY</th>\n",
       "      <th>RATIO_NOVELTY</th>\n",
       "    </tr>\n",
       "    <tr>\n",
       "      <th>cutoff</th>\n",
       "      <th></th>\n",
       "      <th></th>\n",
       "      <th></th>\n",
       "      <th></th>\n",
       "      <th></th>\n",
       "      <th></th>\n",
       "      <th></th>\n",
       "      <th></th>\n",
       "      <th></th>\n",
       "      <th></th>\n",
       "      <th></th>\n",
       "      <th></th>\n",
       "      <th></th>\n",
       "      <th></th>\n",
       "      <th></th>\n",
       "      <th></th>\n",
       "      <th></th>\n",
       "      <th></th>\n",
       "      <th></th>\n",
       "      <th></th>\n",
       "      <th></th>\n",
       "    </tr>\n",
       "  </thead>\n",
       "  <tbody>\n",
       "    <tr>\n",
       "      <th>10</th>\n",
       "      <td>0.311971</td>\n",
       "      <td>0.312913</td>\n",
       "      <td>0.030088</td>\n",
       "      <td>0.214433</td>\n",
       "      <td>0.214676</td>\n",
       "      <td>0.469902</td>\n",
       "      <td>0.319612</td>\n",
       "      <td>0.054883</td>\n",
       "      <td>0.766609</td>\n",
       "      <td>0.953152</td>\n",
       "      <td>...</td>\n",
       "      <td>0.997953</td>\n",
       "      <td>0.76504</td>\n",
       "      <td>0.997953</td>\n",
       "      <td>0.002086</td>\n",
       "      <td>5.362616</td>\n",
       "      <td>0.952586</td>\n",
       "      <td>0.016842</td>\n",
       "      <td>0.419597</td>\n",
       "      <td>3.357942</td>\n",
       "      <td>0.009295</td>\n",
       "    </tr>\n",
       "  </tbody>\n",
       "</table>\n",
       "<p>1 rows × 27 columns</p>\n",
       "</div>"
      ],
      "text/plain": [
       "       PRECISION PRECISION_RECALL_MIN_DEN    RECALL       MAP MAP_MIN_DEN  \\\n",
       "cutoff                                                                      \n",
       "10      0.311971                 0.312913  0.030088  0.214433    0.214676   \n",
       "\n",
       "             MRR      NDCG        F1  HIT_RATE ARHR_ALL_HITS  ...  \\\n",
       "cutoff                                                        ...   \n",
       "10      0.469902  0.319612  0.054883  0.766609      0.953152  ...   \n",
       "\n",
       "       COVERAGE_USER COVERAGE_USER_HIT USERS_IN_GT DIVERSITY_GINI  \\\n",
       "cutoff                                                              \n",
       "10          0.997953           0.76504    0.997953       0.002086   \n",
       "\n",
       "       SHANNON_ENTROPY RATIO_DIVERSITY_HERFINDAHL RATIO_DIVERSITY_GINI  \\\n",
       "cutoff                                                                   \n",
       "10            5.362616                   0.952586             0.016842   \n",
       "\n",
       "       RATIO_SHANNON_ENTROPY RATIO_AVERAGE_POPULARITY RATIO_NOVELTY  \n",
       "cutoff                                                               \n",
       "10                  0.419597                 3.357942      0.009295  \n",
       "\n",
       "[1 rows x 27 columns]"
      ]
     },
     "execution_count": 22,
     "metadata": {},
     "output_type": "execute_result"
    }
   ],
   "source": [
    "%cd /kaggle/working/RecSys_Course_AT_PoliMi\n",
    "\n",
    "from Recommenders.SLIM.SLIMElasticNetRecommender import SLIMElasticNetRecommender\n",
    "from Recommenders.KNN.ItemKNNCFRecommender import ItemKNNCFRecommender\n",
    "from Recommenders.MatrixFactorization.PureSVDRecommender import PureSVDRecommender\n",
    "from Evaluation.Evaluator import EvaluatorHoldout\n",
    "\n",
    "np.int = int\n",
    "np.random.seed(42)\n",
    "np.bool = bool\n",
    "np.float = float\n",
    "\n",
    "item_knn = ItemKNNCFRecommender(URM_ner)\n",
    "item_knn.fit(topK=100, similarity='jaccard')\n",
    "\n",
    "evaluator = EvaluatorHoldout(URM_ner_test, cutoff_list=[10], exclude_seen=False)\n",
    "result_df, _ = evaluator.evaluateRecommender(item_knn)\n",
    "result_df"
   ]
  },
  {
   "cell_type": "code",
   "execution_count": 23,
   "id": "9e27492c",
   "metadata": {
    "execution": {
     "iopub.execute_input": "2024-04-09T22:32:41.617912Z",
     "iopub.status.busy": "2024-04-09T22:32:41.617436Z",
     "iopub.status.idle": "2024-04-09T22:33:11.237912Z",
     "shell.execute_reply": "2024-04-09T22:33:11.236567Z"
    },
    "papermill": {
     "duration": 29.661205,
     "end_time": "2024-04-09T22:33:11.240808",
     "exception": false,
     "start_time": "2024-04-09T22:32:41.579603",
     "status": "completed"
    },
    "tags": []
   },
   "outputs": [
    {
     "name": "stdout",
     "output_type": "stream",
     "text": [
      "PureSVDRecommender: URM Detected 1 ( 0.0%) users with no interactions.\n",
      "PureSVDRecommender: URM Detected 18909 (43.2%) items with no interactions.\n",
      "PureSVDRecommender: Computing SVD decomposition...\n",
      "PureSVDRecommender: Computing SVD decomposition... done in 4.82 sec\n",
      "EvaluatorHoldout: Processed 15112 (100.0%) in 24.22 sec. Users per second: 624\n"
     ]
    },
    {
     "data": {
      "text/html": [
       "<div>\n",
       "<style scoped>\n",
       "    .dataframe tbody tr th:only-of-type {\n",
       "        vertical-align: middle;\n",
       "    }\n",
       "\n",
       "    .dataframe tbody tr th {\n",
       "        vertical-align: top;\n",
       "    }\n",
       "\n",
       "    .dataframe thead th {\n",
       "        text-align: right;\n",
       "    }\n",
       "</style>\n",
       "<table border=\"1\" class=\"dataframe\">\n",
       "  <thead>\n",
       "    <tr style=\"text-align: right;\">\n",
       "      <th></th>\n",
       "      <th>PRECISION</th>\n",
       "      <th>PRECISION_RECALL_MIN_DEN</th>\n",
       "      <th>RECALL</th>\n",
       "      <th>MAP</th>\n",
       "      <th>MAP_MIN_DEN</th>\n",
       "      <th>MRR</th>\n",
       "      <th>NDCG</th>\n",
       "      <th>F1</th>\n",
       "      <th>HIT_RATE</th>\n",
       "      <th>ARHR_ALL_HITS</th>\n",
       "      <th>...</th>\n",
       "      <th>COVERAGE_USER</th>\n",
       "      <th>COVERAGE_USER_HIT</th>\n",
       "      <th>USERS_IN_GT</th>\n",
       "      <th>DIVERSITY_GINI</th>\n",
       "      <th>SHANNON_ENTROPY</th>\n",
       "      <th>RATIO_DIVERSITY_HERFINDAHL</th>\n",
       "      <th>RATIO_DIVERSITY_GINI</th>\n",
       "      <th>RATIO_SHANNON_ENTROPY</th>\n",
       "      <th>RATIO_AVERAGE_POPULARITY</th>\n",
       "      <th>RATIO_NOVELTY</th>\n",
       "    </tr>\n",
       "    <tr>\n",
       "      <th>cutoff</th>\n",
       "      <th></th>\n",
       "      <th></th>\n",
       "      <th></th>\n",
       "      <th></th>\n",
       "      <th></th>\n",
       "      <th></th>\n",
       "      <th></th>\n",
       "      <th></th>\n",
       "      <th></th>\n",
       "      <th></th>\n",
       "      <th></th>\n",
       "      <th></th>\n",
       "      <th></th>\n",
       "      <th></th>\n",
       "      <th></th>\n",
       "      <th></th>\n",
       "      <th></th>\n",
       "      <th></th>\n",
       "      <th></th>\n",
       "      <th></th>\n",
       "      <th></th>\n",
       "    </tr>\n",
       "  </thead>\n",
       "  <tbody>\n",
       "    <tr>\n",
       "      <th>10</th>\n",
       "      <td>0.342628</td>\n",
       "      <td>0.345141</td>\n",
       "      <td>0.048661</td>\n",
       "      <td>0.261759</td>\n",
       "      <td>0.263204</td>\n",
       "      <td>0.670397</td>\n",
       "      <td>0.392258</td>\n",
       "      <td>0.085219</td>\n",
       "      <td>0.858655</td>\n",
       "      <td>1.275579</td>\n",
       "      <td>...</td>\n",
       "      <td>0.997953</td>\n",
       "      <td>0.856898</td>\n",
       "      <td>0.997953</td>\n",
       "      <td>0.001871</td>\n",
       "      <td>5.929536</td>\n",
       "      <td>0.95823</td>\n",
       "      <td>0.015104</td>\n",
       "      <td>0.463956</td>\n",
       "      <td>3.324192</td>\n",
       "      <td>0.009294</td>\n",
       "    </tr>\n",
       "  </tbody>\n",
       "</table>\n",
       "<p>1 rows × 27 columns</p>\n",
       "</div>"
      ],
      "text/plain": [
       "       PRECISION PRECISION_RECALL_MIN_DEN    RECALL       MAP MAP_MIN_DEN  \\\n",
       "cutoff                                                                      \n",
       "10      0.342628                 0.345141  0.048661  0.261759    0.263204   \n",
       "\n",
       "             MRR      NDCG        F1  HIT_RATE ARHR_ALL_HITS  ...  \\\n",
       "cutoff                                                        ...   \n",
       "10      0.670397  0.392258  0.085219  0.858655      1.275579  ...   \n",
       "\n",
       "       COVERAGE_USER COVERAGE_USER_HIT USERS_IN_GT DIVERSITY_GINI  \\\n",
       "cutoff                                                              \n",
       "10          0.997953          0.856898    0.997953       0.001871   \n",
       "\n",
       "       SHANNON_ENTROPY RATIO_DIVERSITY_HERFINDAHL RATIO_DIVERSITY_GINI  \\\n",
       "cutoff                                                                   \n",
       "10            5.929536                    0.95823             0.015104   \n",
       "\n",
       "       RATIO_SHANNON_ENTROPY RATIO_AVERAGE_POPULARITY RATIO_NOVELTY  \n",
       "cutoff                                                               \n",
       "10                  0.463956                 3.324192      0.009294  \n",
       "\n",
       "[1 rows x 27 columns]"
      ]
     },
     "execution_count": 23,
     "metadata": {},
     "output_type": "execute_result"
    }
   ],
   "source": [
    "pure_svd = PureSVDRecommender(URM_ner)\n",
    "pure_svd.fit(num_factors=20)\n",
    "\n",
    "result_df, _ = evaluator.evaluateRecommender(pure_svd)\n",
    "result_df"
   ]
  },
  {
   "cell_type": "code",
   "execution_count": 24,
   "id": "1a83b6a1",
   "metadata": {
    "execution": {
     "iopub.execute_input": "2024-04-09T22:33:11.315450Z",
     "iopub.status.busy": "2024-04-09T22:33:11.314659Z",
     "iopub.status.idle": "2024-04-09T22:35:18.171804Z",
     "shell.execute_reply": "2024-04-09T22:35:18.170733Z"
    },
    "papermill": {
     "duration": 126.933781,
     "end_time": "2024-04-09T22:35:18.209965",
     "exception": false,
     "start_time": "2024-04-09T22:33:11.276184",
     "status": "completed"
    },
    "tags": []
   },
   "outputs": [
    {
     "name": "stdout",
     "output_type": "stream",
     "text": [
      "CPU times: user 4min 33s, sys: 3min 11s, total: 7min 44s\n",
      "Wall time: 2min 6s\n"
     ]
    },
    {
     "data": {
      "text/html": [
       "<div><style>\n",
       ".dataframe > thead > tr,\n",
       ".dataframe > tbody > tr {\n",
       "  text-align: right;\n",
       "  white-space: pre-wrap;\n",
       "}\n",
       "</style>\n",
       "<small>shape: (5, 8)</small><table border=\"1\" class=\"dataframe\"><thead><tr><th>impression_id</th><th>article</th><th>total_ner_svd_scores</th><th>mean_ner_svd_scores</th><th>max_ner_svd_scores</th><th>total_ner_item_knn_scores</th><th>mean_ner_item_knn_scores</th><th>max_ner_item_knn_scores</th></tr><tr><td>u32</td><td>i32</td><td>f32</td><td>f32</td><td>f32</td><td>f32</td><td>f32</td><td>f32</td></tr></thead><tbody><tr><td>149474</td><td>9778623</td><td>0.168532</td><td>0.142604</td><td>0.963358</td><td>0.141152</td><td>0.119436</td><td>0.954842</td></tr><tr><td>149474</td><td>9778682</td><td>0.003561</td><td>0.004353</td><td>0.020612</td><td>0.023858</td><td>0.02916</td><td>0.164431</td></tr><tr><td>153068</td><td>9778657</td><td>1.0</td><td>1.0</td><td>0.898774</td><td>1.0</td><td>1.0</td><td>1.0</td></tr><tr><td>153068</td><td>9778682</td><td>0.078336</td><td>0.111909</td><td>0.434112</td><td>0.028487</td><td>0.040695</td><td>0.220174</td></tr><tr><td>153070</td><td>9525589</td><td>1.0</td><td>1.0</td><td>0.923632</td><td>0.867993</td><td>1.0</td><td>0.915791</td></tr></tbody></table></div>"
      ],
      "text/plain": [
       "shape: (5, 8)\n",
       "┌────────────┬─────────┬────────────┬────────────┬────────────┬────────────┬───────────┬───────────┐\n",
       "│ impression ┆ article ┆ total_ner_ ┆ mean_ner_s ┆ max_ner_sv ┆ total_ner_ ┆ mean_ner_ ┆ max_ner_i │\n",
       "│ _id        ┆ ---     ┆ svd_scores ┆ vd_scores  ┆ d_scores   ┆ item_knn_s ┆ item_knn_ ┆ tem_knn_s │\n",
       "│ ---        ┆ i32     ┆ ---        ┆ ---        ┆ ---        ┆ cores      ┆ scores    ┆ cores     │\n",
       "│ u32        ┆         ┆ f32        ┆ f32        ┆ f32        ┆ ---        ┆ ---       ┆ ---       │\n",
       "│            ┆         ┆            ┆            ┆            ┆ f32        ┆ f32       ┆ f32       │\n",
       "╞════════════╪═════════╪════════════╪════════════╪════════════╪════════════╪═══════════╪═══════════╡\n",
       "│ 149474     ┆ 9778623 ┆ 0.168532   ┆ 0.142604   ┆ 0.963358   ┆ 0.141152   ┆ 0.119436  ┆ 0.954842  │\n",
       "│ 149474     ┆ 9778682 ┆ 0.003561   ┆ 0.004353   ┆ 0.020612   ┆ 0.023858   ┆ 0.02916   ┆ 0.164431  │\n",
       "│ 153068     ┆ 9778657 ┆ 1.0        ┆ 1.0        ┆ 0.898774   ┆ 1.0        ┆ 1.0       ┆ 1.0       │\n",
       "│ 153068     ┆ 9778682 ┆ 0.078336   ┆ 0.111909   ┆ 0.434112   ┆ 0.028487   ┆ 0.040695  ┆ 0.220174  │\n",
       "│ 153070     ┆ 9525589 ┆ 1.0        ┆ 1.0        ┆ 0.923632   ┆ 0.867993   ┆ 1.0       ┆ 0.915791  │\n",
       "└────────────┴─────────┴────────────┴────────────┴────────────┴────────────┴───────────┴───────────┘"
      ]
     },
     "execution_count": 24,
     "metadata": {},
     "output_type": "execute_result"
    }
   ],
   "source": [
    "%%time\n",
    "\n",
    "def get_inview_scores(user_ners_df, recommender, f_name):\n",
    "    user_index = user_ners_df['user_index'].to_list()[0]\n",
    "    ners = user_ners_df['ner_index'].to_numpy()\n",
    "    scores = recommender._compute_item_score([user_index], ners)[0, ners]\n",
    "    return user_ners_df.with_columns(\n",
    "        pl.Series(scores).alias(f_name)\n",
    "    )\n",
    "\n",
    "ner_inview_scores = behaviors_train.select(['user_id', 'article_ids_inview']).explode('article_ids_inview') \\\n",
    "    .join(articles.select(['article_id', 'ner_clusters']), left_on='article_ids_inview', right_on='article_id', how='left') \\\n",
    "    .explode('ner_clusters').unique(['user_id', 'ner_clusters']) \\\n",
    "    .with_columns(pl.col('ner_clusters').str.strip_chars_start('\\\" ').str.to_lowercase()) \\\n",
    "    .join(user_id_mapping, on='user_id', how='left') \\\n",
    "    .join(ner_mapping, left_on='ner_clusters', right_on='ner') \\\n",
    "    .select(['user_index', 'ner_index', 'user_id', 'article_ids_inview']) \\\n",
    "    .unique(['user_index', 'ner_index']) \\\n",
    "    .sort(['user_index', 'ner_index']).group_by('user_index').map_groups(\n",
    "        lambda user_df: user_df.pipe(get_inview_scores, recommender=pure_svd, f_name='pure_svd_scores') \\\n",
    "            .pipe(get_inview_scores, recommender=item_knn, f_name='item_knn_scores')\n",
    "    )\n",
    "\n",
    "behaviors_ner_scores = behaviors_train.select(['impression_id', 'user_id', 'article_ids_inview']).explode('article_ids_inview') \\\n",
    "    .join(ner_inview_scores, on=['user_id', 'article_ids_inview'], how='left') \\\n",
    "    .with_columns(pl.col(['pure_svd_scores', 'item_knn_scores']).fill_null(0)) \\\n",
    "    .group_by(['impression_id', 'article_ids_inview']).agg(\n",
    "        pl.col('pure_svd_scores').sum().alias('total_ner_svd_scores'),\n",
    "        pl.col('pure_svd_scores').mean().alias('mean_ner_svd_scores'),\n",
    "        pl.col('pure_svd_scores').max().alias('max_ner_svd_scores'),\n",
    "        pl.col('item_knn_scores').sum().alias('total_ner_item_knn_scores'),\n",
    "        pl.col('item_knn_scores').mean().alias('mean_ner_item_knn_scores'),\n",
    "        pl.col('item_knn_scores').max().alias('max_ner_item_knn_scores'),\n",
    "    ).with_columns(\n",
    "        pl.col(['total_ner_svd_scores', 'mean_ner_svd_scores', \n",
    "                'total_ner_item_knn_scores', 'mean_ner_item_knn_scores',\n",
    "                'max_ner_svd_scores', 'max_ner_item_knn_scores']).max().over('impression_id').name.suffix('_max')\n",
    "    ).with_columns(\n",
    "        # l1 normalization\n",
    "        pl.col('total_ner_svd_scores').truediv(pl.col('total_ner_svd_scores_max')),\n",
    "        pl.col('mean_ner_svd_scores').truediv(pl.col('mean_ner_svd_scores_max')),\n",
    "        pl.col('max_ner_svd_scores').truediv(pl.col('max_ner_svd_scores_max')),\n",
    "        pl.col('total_ner_item_knn_scores').truediv(pl.col('total_ner_item_knn_scores_max')),\n",
    "        pl.col('mean_ner_item_knn_scores').truediv(pl.col('mean_ner_item_knn_scores_max')),\n",
    "        pl.col('max_ner_item_knn_scores').truediv(pl.col('max_ner_item_knn_scores_max')),\n",
    "    ).drop(['total_ner_svd_scores_max', 'mean_ner_svd_scores_max', \n",
    "            'max_ner_svd_scores_max', 'total_ner_item_knn_scores_max',\n",
    "            'mean_ner_item_knn_scores_max', 'max_ner_item_knn_scores_max']) \\\n",
    "    .rename({'article_ids_inview': 'article'})\n",
    "behaviors_ner_scores.head(5)"
   ]
  },
  {
   "cell_type": "code",
   "execution_count": 25,
   "id": "ea3d5418",
   "metadata": {
    "execution": {
     "iopub.execute_input": "2024-04-09T22:35:18.284461Z",
     "iopub.status.busy": "2024-04-09T22:35:18.283672Z",
     "iopub.status.idle": "2024-04-09T22:35:18.885814Z",
     "shell.execute_reply": "2024-04-09T22:35:18.884242Z"
    },
    "papermill": {
     "duration": 0.642102,
     "end_time": "2024-04-09T22:35:18.888424",
     "exception": false,
     "start_time": "2024-04-09T22:35:18.246322",
     "status": "completed"
    },
    "tags": []
   },
   "outputs": [
    {
     "data": {
      "text/plain": [
       "0"
      ]
     },
     "execution_count": 25,
     "metadata": {},
     "output_type": "execute_result"
    }
   ],
   "source": [
    "del URM_ner\n",
    "del URM_ner_test\n",
    "del ner_inview_scores\n",
    "del ner_interactions\n",
    "del ner_interactions_test\n",
    "gc.collect()"
   ]
  },
  {
   "cell_type": "markdown",
   "id": "6427f5f5",
   "metadata": {
    "papermill": {
     "duration": 0.037706,
     "end_time": "2024-04-09T22:35:18.963428",
     "exception": false,
     "start_time": "2024-04-09T22:35:18.925722",
     "status": "completed"
    },
    "tags": []
   },
   "source": [
    "# Creating Training Dataframe"
   ]
  },
  {
   "cell_type": "code",
   "execution_count": 26,
   "id": "9b7bbcd3",
   "metadata": {
    "execution": {
     "iopub.execute_input": "2024-04-09T22:35:19.052929Z",
     "iopub.status.busy": "2024-04-09T22:35:19.052436Z",
     "iopub.status.idle": "2024-04-09T22:36:48.853492Z",
     "shell.execute_reply": "2024-04-09T22:36:48.852189Z"
    },
    "papermill": {
     "duration": 89.880249,
     "end_time": "2024-04-09T22:36:48.882769",
     "exception": false,
     "start_time": "2024-04-09T22:35:19.002520",
     "status": "completed"
    },
    "tags": []
   },
   "outputs": [
    {
     "name": "stdout",
     "output_type": "stream",
     "text": [
      "\u001b[1m\u001b[31m\n",
      "RAM memory GB usage = 1.874\u001b[0m\n",
      "Memory usage of dataframe is 115.91 MB\n",
      "Memory usage after optimization is: 89.23 MB\n",
      "Decreased by 23.0%\n",
      "\u001b[1m\u001b[31m\n",
      "RAM memory GB usage = 1.882\u001b[0m\n",
      "CPU times: user 4min 41s, sys: 12.7 s, total: 4min 54s\n",
      "Wall time: 1min 29s\n"
     ]
    },
    {
     "data": {
      "text/html": [
       "<div><style>\n",
       ".dataframe > thead > tr,\n",
       ".dataframe > tbody > tr {\n",
       "  text-align: right;\n",
       "  white-space: pre-wrap;\n",
       "}\n",
       "</style>\n",
       "<small>shape: (5, 45)</small><table border=\"1\" class=\"dataframe\"><thead><tr><th>impression_id</th><th>article</th><th>user_id</th><th>impression_time</th><th>target</th><th>device_type</th><th>read_time</th><th>scroll_percentage</th><th>is_sso_user</th><th>gender</th><th>age</th><th>is_subscriber</th><th>session_id</th><th>mean_topics_mean_delay_days</th><th>mean_topics_mean_delay_hours</th><th>user_mean_delay_days</th><th>user_mean_delay_hours</th><th>trendiness_score</th><th>mean_user_trendiness_score</th><th>mean_topics_trendiness_score</th><th>weekday</th><th>hour</th><th>premium</th><th>published_time</th><th>category</th><th>sentiment_score</th><th>sentiment_label</th><th>num_images</th><th>title_len</th><th>subtitle_len</th><th>body_len</th><th>article_delay_days</th><th>article_delay_hours</th><th>Entity_EVENT_Present</th><th>Entity_ORG_Present</th><th>Entity_LOC_Present</th><th>Entity_PER_Present</th><th>Entity_PROD_Present</th><th>Entity_MISC_Present</th><th>total_ner_svd_scores</th><th>mean_ner_svd_scores</th><th>max_ner_svd_scores</th><th>total_ner_item_knn_scores</th><th>mean_ner_item_knn_scores</th><th>max_ner_item_knn_scores</th></tr><tr><td>u32</td><td>i32</td><td>u32</td><td>datetime[μs]</td><td>i8</td><td>i8</td><td>f32</td><td>f32</td><td>bool</td><td>i8</td><td>i8</td><td>bool</td><td>u32</td><td>f32</td><td>f32</td><td>f32</td><td>f32</td><td>i16</td><td>f32</td><td>f32</td><td>i8</td><td>i8</td><td>bool</td><td>datetime[μs]</td><td>i16</td><td>f32</td><td>str</td><td>u32</td><td>u8</td><td>u8</td><td>u16</td><td>i16</td><td>i32</td><td>bool</td><td>bool</td><td>bool</td><td>bool</td><td>bool</td><td>bool</td><td>f32</td><td>f32</td><td>f32</td><td>f32</td><td>f32</td><td>f32</td></tr></thead><tbody><tr><td>153068</td><td>9778682</td><td>151570</td><td>2023-05-24 07:09:04</td><td>0</td><td>1</td><td>78.0</td><td>100.0</td><td>false</td><td>2</td><td>null</td><td>false</td><td>1976</td><td>10.621649</td><td>257.855042</td><td>1.484877</td><td>37.41399</td><td>206</td><td>250.755203</td><td>295.832001</td><td>3</td><td>7</td><td>false</td><td>2023-05-24 06:32:42</td><td>498</td><td>0.9546</td><td>&quot;Negative&quot;</td><td>1</td><td>5</td><td>20</td><td>267</td><td>0</td><td>0</td><td>true</td><td>true</td><td>false</td><td>true</td><td>true</td><td>false</td><td>0.078336</td><td>0.111909</td><td>0.434112</td><td>0.028487</td><td>0.040695</td><td>0.220174</td></tr><tr><td>153071</td><td>9775990</td><td>151570</td><td>2023-05-24 07:11:08</td><td>0</td><td>1</td><td>125.0</td><td>100.0</td><td>false</td><td>2</td><td>null</td><td>false</td><td>1976</td><td>3.884327</td><td>95.635483</td><td>1.484877</td><td>37.41399</td><td>465</td><td>250.755203</td><td>388.498718</td><td>3</td><td>7</td><td>false</td><td>2023-05-22 11:48:18</td><td>142</td><td>0.5539</td><td>&quot;Neutral&quot;</td><td>1</td><td>4</td><td>20</td><td>382</td><td>1</td><td>43</td><td>true</td><td>true</td><td>true</td><td>true</td><td>false</td><td>true</td><td>0.441395</td><td>0.481522</td><td>0.964424</td><td>0.337171</td><td>0.367823</td><td>0.560344</td></tr><tr><td>153071</td><td>9771223</td><td>151570</td><td>2023-05-24 07:11:08</td><td>0</td><td>1</td><td>125.0</td><td>100.0</td><td>false</td><td>2</td><td>null</td><td>false</td><td>1976</td><td>3.884327</td><td>95.635483</td><td>1.484877</td><td>37.41399</td><td>465</td><td>250.755203</td><td>388.498718</td><td>3</td><td>7</td><td>false</td><td>2023-05-18 11:16:19</td><td>142</td><td>0.7164</td><td>&quot;Neutral&quot;</td><td>1</td><td>6</td><td>31</td><td>206</td><td>5</td><td>139</td><td>true</td><td>true</td><td>true</td><td>true</td><td>true</td><td>true</td><td>0.441564</td><td>0.441564</td><td>0.706458</td><td>0.555869</td><td>0.555869</td><td>0.991501</td></tr><tr><td>155587</td><td>9778375</td><td>161621</td><td>2023-05-24 07:56:30</td><td>1</td><td>1</td><td>50.0</td><td>100.0</td><td>false</td><td>2</td><td>null</td><td>false</td><td>3625</td><td>6.949092</td><td>169.176773</td><td>6.861461</td><td>169.377838</td><td>189</td><td>194.843826</td><td>158.646133</td><td>3</td><td>7</td><td>false</td><td>2023-05-23 22:16:14</td><td>118</td><td>0.9979</td><td>&quot;Negative&quot;</td><td>0</td><td>10</td><td>18</td><td>296</td><td>0</td><td>9</td><td>false</td><td>true</td><td>true</td><td>false</td><td>false</td><td>false</td><td>0.363022</td><td>0.944532</td><td>0.803921</td><td>0.369391</td><td>0.884181</td><td>0.963914</td></tr><tr><td>156066</td><td>9778701</td><td>163208</td><td>2023-05-24 07:12:03</td><td>0</td><td>2</td><td>10.0</td><td>null</td><td>false</td><td>2</td><td>null</td><td>false</td><td>3818</td><td>5.221263</td><td>128.023224</td><td>0.103448</td><td>4.342175</td><td>403</td><td>203.960205</td><td>303.974365</td><td>3</td><td>7</td><td>false</td><td>2023-05-24 07:00:39</td><td>142</td><td>0.582</td><td>&quot;Neutral&quot;</td><td>2</td><td>5</td><td>11</td><td>199</td><td>0</td><td>0</td><td>false</td><td>true</td><td>true</td><td>true</td><td>true</td><td>false</td><td>0.278297</td><td>0.417446</td><td>0.903715</td><td>0.240253</td><td>0.360379</td><td>0.967656</td></tr></tbody></table></div>"
      ],
      "text/plain": [
       "shape: (5, 45)\n",
       "┌────────────┬─────────┬─────────┬────────────┬───┬────────────┬───────────┬───────────┬───────────┐\n",
       "│ impression ┆ article ┆ user_id ┆ impression ┆ … ┆ max_ner_sv ┆ total_ner ┆ mean_ner_ ┆ max_ner_i │\n",
       "│ _id        ┆ ---     ┆ ---     ┆ _time      ┆   ┆ d_scores   ┆ _item_knn ┆ item_knn_ ┆ tem_knn_s │\n",
       "│ ---        ┆ i32     ┆ u32     ┆ ---        ┆   ┆ ---        ┆ _scores   ┆ scores    ┆ cores     │\n",
       "│ u32        ┆         ┆         ┆ datetime[μ ┆   ┆ f32        ┆ ---       ┆ ---       ┆ ---       │\n",
       "│            ┆         ┆         ┆ s]         ┆   ┆            ┆ f32       ┆ f32       ┆ f32       │\n",
       "╞════════════╪═════════╪═════════╪════════════╪═══╪════════════╪═══════════╪═══════════╪═══════════╡\n",
       "│ 153068     ┆ 9778682 ┆ 151570  ┆ 2023-05-24 ┆ … ┆ 0.434112   ┆ 0.028487  ┆ 0.040695  ┆ 0.220174  │\n",
       "│            ┆         ┆         ┆ 07:09:04   ┆   ┆            ┆           ┆           ┆           │\n",
       "│ 153071     ┆ 9775990 ┆ 151570  ┆ 2023-05-24 ┆ … ┆ 0.964424   ┆ 0.337171  ┆ 0.367823  ┆ 0.560344  │\n",
       "│            ┆         ┆         ┆ 07:11:08   ┆   ┆            ┆           ┆           ┆           │\n",
       "│ 153071     ┆ 9771223 ┆ 151570  ┆ 2023-05-24 ┆ … ┆ 0.706458   ┆ 0.555869  ┆ 0.555869  ┆ 0.991501  │\n",
       "│            ┆         ┆         ┆ 07:11:08   ┆   ┆            ┆           ┆           ┆           │\n",
       "│ 155587     ┆ 9778375 ┆ 161621  ┆ 2023-05-24 ┆ … ┆ 0.803921   ┆ 0.369391  ┆ 0.884181  ┆ 0.963914  │\n",
       "│            ┆         ┆         ┆ 07:56:30   ┆   ┆            ┆           ┆           ┆           │\n",
       "│ 156066     ┆ 9778701 ┆ 163208  ┆ 2023-05-24 ┆ … ┆ 0.903715   ┆ 0.240253  ┆ 0.360379  ┆ 0.967656  │\n",
       "│            ┆         ┆         ┆ 07:12:03   ┆   ┆            ┆           ┆           ┆           │\n",
       "└────────────┴─────────┴─────────┴────────────┴───┴────────────┴───────────┴───────────┴───────────┘"
      ]
     },
     "execution_count": 26,
     "metadata": {},
     "output_type": "execute_result"
    }
   ],
   "source": [
    "%%time\n",
    "\n",
    "NPRATIO = 2\n",
    "\n",
    "# dropping duplicates that can occur because of sampling strategy\n",
    "train_ds = behaviors_train.pipe(sampling_strategy_wu2019, npratio=NPRATIO, shuffle=False, \n",
    "                                with_replacement=True, seed=123) \\\n",
    "    .pipe(create_binary_labels_column, shuffle=True, seed=123) \\\n",
    "    .with_columns(pl.col('gender').fill_null(2)) \\\n",
    "    .select(['impression_id', 'article_ids_inview', 'impression_time', 'labels', \n",
    "             'device_type', 'read_time', 'scroll_percentage', 'user_id', 'is_sso_user', 'gender',\n",
    "             'age', 'is_subscriber', 'session_id']) \\\n",
    "    .explode(['article_ids_inview', 'labels']) \\\n",
    "    .rename({'article_ids_inview': 'article', 'labels': 'target'}) \\\n",
    "    .with_columns(pl.col('article').cast(pl.Int32)) \\\n",
    "    .pipe(add_mean_delays_features, articles=articles, history=history_train) \\\n",
    "    .pipe(add_trendiness_feature, articles=articles, period='3d') \\\n",
    "    .pipe(add_history_trendiness_scores_feature, history=history_train, articles=articles) \\\n",
    "    .unique(['impression_id', 'article']) \\\n",
    "    .with_columns(\n",
    "        pl.col('impression_time').dt.weekday().alias('weekday'),\n",
    "        pl.col('impression_time').dt.hour().alias('hour'),\n",
    "        pl.col('article').cast(pl.Int32),\n",
    "    ).join(articles.select(['article_id', 'premium', 'published_time', 'category',\n",
    "                            'sentiment_score', 'sentiment_label', 'entity_groups',\n",
    "                            'num_images', 'title_len', 'subtitle_len', 'body_len']),\n",
    "           left_on='article', right_on='article_id', how='left') \\\n",
    "    .with_columns(\n",
    "        (pl.col('impression_time') - pl.col('published_time')).dt.total_days().alias('article_delay_days'),\n",
    "        (pl.col('impression_time') - pl.col('published_time')).dt.total_hours().alias('article_delay_hours')\n",
    "    ).with_columns(\n",
    "        pl.col('entity_groups').list.contains(entity).alias(f'Entity_{entity}_Present')\n",
    "        for entity in unique_entities\n",
    "    ).drop('entity_groups') \\\n",
    "    .join(behaviors_ner_scores, on=['impression_id', 'article'], how='left')\n",
    "\n",
    "gc.collect()\n",
    "PrintColor(f\"\\n\" + GetMemUsage(), color = Fore.RED)\n",
    "\n",
    "train_ds = reduce_polars_df_memory_size(train_ds)\n",
    "PrintColor(f\"\\n\" + GetMemUsage(), color = Fore.RED)\n",
    "train_ds.head()"
   ]
  },
  {
   "cell_type": "code",
   "execution_count": 27,
   "id": "6d2f88ff",
   "metadata": {
    "execution": {
     "iopub.execute_input": "2024-04-09T22:36:48.961556Z",
     "iopub.status.busy": "2024-04-09T22:36:48.960398Z",
     "iopub.status.idle": "2024-04-09T22:36:48.967924Z",
     "shell.execute_reply": "2024-04-09T22:36:48.967012Z"
    },
    "papermill": {
     "duration": 0.049981,
     "end_time": "2024-04-09T22:36:48.970350",
     "exception": false,
     "start_time": "2024-04-09T22:36:48.920369",
     "status": "completed"
    },
    "tags": []
   },
   "outputs": [
    {
     "data": {
      "text/plain": [
       "(699537, 45)"
      ]
     },
     "execution_count": 27,
     "metadata": {},
     "output_type": "execute_result"
    }
   ],
   "source": [
    "train_ds.shape"
   ]
  },
  {
   "cell_type": "markdown",
   "id": "0a56e291",
   "metadata": {
    "papermill": {
     "duration": 0.03685,
     "end_time": "2024-04-09T22:36:49.045277",
     "exception": false,
     "start_time": "2024-04-09T22:36:49.008427",
     "status": "completed"
    },
    "tags": []
   },
   "source": [
    "## Session Features"
   ]
  },
  {
   "cell_type": "code",
   "execution_count": 28,
   "id": "b8bcba6a",
   "metadata": {
    "execution": {
     "iopub.execute_input": "2024-04-09T22:36:49.122176Z",
     "iopub.status.busy": "2024-04-09T22:36:49.121411Z",
     "iopub.status.idle": "2024-04-09T22:36:49.126833Z",
     "shell.execute_reply": "2024-04-09T22:36:49.125943Z"
    },
    "papermill": {
     "duration": 0.047969,
     "end_time": "2024-04-09T22:36:49.129542",
     "exception": false,
     "start_time": "2024-04-09T22:36:49.081573",
     "status": "completed"
    },
    "tags": []
   },
   "outputs": [],
   "source": [
    "# behaviors_train.select(['session_id', 'impression_time', 'article_ids_clicked']) \\\n",
    "#     .group_by('session_id').map_groups(\n",
    "#         lambda group: group.explode('article_ids_clicked').sort('impression_time') \\\n",
    "#             .select(\n",
    "#                 pl.col('session_id').first(),\n",
    "#                 pl.col('article_ids_clicked').first().alias('article_id'),\n",
    "#                 (pl.col('impression_time').last() - pl.col('impression_time').first()).dt.total_minutes().alias('induced_session_len'),\n",
    "#                 (pl.col('impression_time').count() - 1).alias('num_clicked_articles_following')\n",
    "#             )\n",
    "#     ).group_by('article_id').agg(\n",
    "#         pl.col('num_clicked_articles_following').mean().alias('mean_num_clicked_articles_following'),\n",
    "#         pl.col('induced_session_len').mean().alias('mean_induced_session_len'),\n",
    "#     )"
   ]
  },
  {
   "cell_type": "code",
   "execution_count": 29,
   "id": "afee90bb",
   "metadata": {
    "execution": {
     "iopub.execute_input": "2024-04-09T22:36:49.207001Z",
     "iopub.status.busy": "2024-04-09T22:36:49.206323Z",
     "iopub.status.idle": "2024-04-09T22:36:50.938107Z",
     "shell.execute_reply": "2024-04-09T22:36:50.936603Z"
    },
    "papermill": {
     "duration": 1.774421,
     "end_time": "2024-04-09T22:36:50.941182",
     "exception": false,
     "start_time": "2024-04-09T22:36:49.166761",
     "status": "completed"
    },
    "tags": []
   },
   "outputs": [
    {
     "name": "stdout",
     "output_type": "stream",
     "text": [
      "\u001b[1m\u001b[31m\n",
      "RAM memory GB usage = 1.912\u001b[0m\n",
      "CPU times: user 2.09 s, sys: 172 ms, total: 2.26 s\n",
      "Wall time: 1.71 s\n"
     ]
    },
    {
     "data": {
      "text/html": [
       "<div><style>\n",
       ".dataframe > thead > tr,\n",
       ".dataframe > tbody > tr {\n",
       "  text-align: right;\n",
       "  white-space: pre-wrap;\n",
       "}\n",
       "</style>\n",
       "<small>shape: (2, 5)</small><table border=\"1\" class=\"dataframe\"><thead><tr><th>session_id</th><th>last_session_time</th><th>last_session_duration</th><th>all_seen_articles</th><th>mean_prev_sessions_duration</th></tr><tr><td>u32</td><td>datetime[μs]</td><td>i64</td><td>list[i32]</td><td>f64</td></tr></thead><tbody><tr><td>1023800</td><td>2023-05-18 06:37:48</td><td>0</td><td>[9769917]</td><td>7.0</td></tr><tr><td>1727458</td><td>2023-05-18 05:41:27</td><td>0</td><td>[9769404]</td><td>0.0</td></tr></tbody></table></div>"
      ],
      "text/plain": [
       "shape: (2, 5)\n",
       "┌────────────┬─────────────────────┬─────────────────────┬───────────────────┬─────────────────────┐\n",
       "│ session_id ┆ last_session_time   ┆ last_session_durati ┆ all_seen_articles ┆ mean_prev_sessions_ │\n",
       "│ ---        ┆ ---                 ┆ on                  ┆ ---               ┆ duration            │\n",
       "│ u32        ┆ datetime[μs]        ┆ ---                 ┆ list[i32]         ┆ ---                 │\n",
       "│            ┆                     ┆ i64                 ┆                   ┆ f64                 │\n",
       "╞════════════╪═════════════════════╪═════════════════════╪═══════════════════╪═════════════════════╡\n",
       "│ 1023800    ┆ 2023-05-18 06:37:48 ┆ 0                   ┆ [9769917]         ┆ 7.0                 │\n",
       "│ 1727458    ┆ 2023-05-18 05:41:27 ┆ 0                   ┆ [9769404]         ┆ 0.0                 │\n",
       "└────────────┴─────────────────────┴─────────────────────┴───────────────────┴─────────────────────┘"
      ]
     },
     "execution_count": 29,
     "metadata": {},
     "output_type": "execute_result"
    }
   ],
   "source": [
    "%%time\n",
    "\n",
    "last_history_df = history_train.with_columns(\n",
    "    pl.col('impression_time_fixed').list.max().alias('last_history_impression_time'),\n",
    "    pl.col('article_id_fixed').list.tail(1).alias('last_history_article'),\n",
    ").select(['user_id', 'last_history_impression_time', 'last_history_article'])\n",
    "\n",
    "last_session_time_df = behaviors_train.select(['session_id', 'user_id', 'impression_time', 'article_ids_inview']) \\\n",
    "    .group_by('session_id').agg(\n",
    "        pl.col('user_id').first(), \n",
    "        pl.col('impression_time').max().alias('session_time'), \n",
    "        pl.col('article_ids_inview').flatten().alias('all_seen_articles'),\n",
    "        (pl.col('impression_time').max() - pl.col('impression_time').min()).dt.total_minutes().alias('session_duration'),\n",
    "    ).with_columns(\n",
    "        pl.col(['session_time', 'session_duration']).shift(1).over('user_id').name.prefix('last_'),\n",
    "        pl.col('all_seen_articles').list.unique().shift(1).over('user_id'),\n",
    "        pl.col('session_duration').rolling_mean(100, min_periods=1).over('user_id').alias('mean_prev_sessions_duration'),\n",
    "    ).with_columns(pl.col(['last_session_duration']).fill_null(0)) \\\n",
    "    .join(last_history_df, on='user_id', how='left') \\\n",
    "    .with_columns(\n",
    "        pl.col('last_session_time').fill_null(pl.col('last_history_impression_time')),\n",
    "        pl.col('all_seen_articles').fill_null(pl.col('last_history_article')),\n",
    "    ).select(['session_id', 'last_session_time', 'last_session_duration', \n",
    "              'all_seen_articles', 'mean_prev_sessions_duration'])\n",
    "    \n",
    "gc.collect()\n",
    "PrintColor(f\"\\n\" + GetMemUsage(), color = Fore.RED)\n",
    "last_session_time_df.head(2)"
   ]
  },
  {
   "cell_type": "code",
   "execution_count": 30,
   "id": "b8b02173",
   "metadata": {
    "execution": {
     "iopub.execute_input": "2024-04-09T22:36:51.019918Z",
     "iopub.status.busy": "2024-04-09T22:36:51.019190Z",
     "iopub.status.idle": "2024-04-09T22:36:52.084859Z",
     "shell.execute_reply": "2024-04-09T22:36:52.083509Z"
    },
    "papermill": {
     "duration": 1.112553,
     "end_time": "2024-04-09T22:36:52.089903",
     "exception": false,
     "start_time": "2024-04-09T22:36:50.977350",
     "status": "completed"
    },
    "tags": []
   },
   "outputs": [
    {
     "name": "stdout",
     "output_type": "stream",
     "text": [
      "\u001b[1m\u001b[31m\n",
      "RAM memory GB usage = 1.966\u001b[0m\n"
     ]
    },
    {
     "data": {
      "text/html": [
       "<div><style>\n",
       ".dataframe > thead > tr,\n",
       ".dataframe > tbody > tr {\n",
       "  text-align: right;\n",
       "  white-space: pre-wrap;\n",
       "}\n",
       "</style>\n",
       "<small>shape: (2, 48)</small><table border=\"1\" class=\"dataframe\"><thead><tr><th>impression_id</th><th>article</th><th>user_id</th><th>impression_time</th><th>target</th><th>device_type</th><th>read_time</th><th>scroll_percentage</th><th>is_sso_user</th><th>gender</th><th>age</th><th>is_subscriber</th><th>mean_topics_mean_delay_days</th><th>mean_topics_mean_delay_hours</th><th>user_mean_delay_days</th><th>user_mean_delay_hours</th><th>trendiness_score</th><th>mean_user_trendiness_score</th><th>mean_topics_trendiness_score</th><th>weekday</th><th>hour</th><th>premium</th><th>category</th><th>sentiment_score</th><th>sentiment_label</th><th>num_images</th><th>title_len</th><th>subtitle_len</th><th>body_len</th><th>article_delay_days</th><th>article_delay_hours</th><th>Entity_EVENT_Present</th><th>Entity_ORG_Present</th><th>Entity_LOC_Present</th><th>Entity_PER_Present</th><th>Entity_PROD_Present</th><th>Entity_MISC_Present</th><th>total_ner_svd_scores</th><th>mean_ner_svd_scores</th><th>max_ner_svd_scores</th><th>total_ner_item_knn_scores</th><th>mean_ner_item_knn_scores</th><th>max_ner_item_knn_scores</th><th>last_session_duration</th><th>mean_prev_sessions_duration</th><th>last_session_time_hour_diff</th><th>is_new_article</th><th>is_already_seen_article</th></tr><tr><td>u32</td><td>i32</td><td>u32</td><td>datetime[μs]</td><td>i8</td><td>i8</td><td>f32</td><td>f32</td><td>bool</td><td>i8</td><td>i8</td><td>bool</td><td>f32</td><td>f32</td><td>f32</td><td>f32</td><td>i16</td><td>f32</td><td>f32</td><td>i8</td><td>i8</td><td>bool</td><td>i16</td><td>f32</td><td>str</td><td>u32</td><td>u8</td><td>u8</td><td>u16</td><td>i16</td><td>i32</td><td>bool</td><td>bool</td><td>bool</td><td>bool</td><td>bool</td><td>bool</td><td>f32</td><td>f32</td><td>f32</td><td>f32</td><td>f32</td><td>f32</td><td>i64</td><td>f64</td><td>i64</td><td>bool</td><td>bool</td></tr></thead><tbody><tr><td>153068</td><td>9778682</td><td>151570</td><td>2023-05-24 07:09:04</td><td>0</td><td>1</td><td>78.0</td><td>100.0</td><td>false</td><td>2</td><td>null</td><td>false</td><td>10.621649</td><td>257.855042</td><td>1.484877</td><td>37.41399</td><td>206</td><td>250.755203</td><td>295.832001</td><td>3</td><td>7</td><td>false</td><td>498</td><td>0.9546</td><td>&quot;Negative&quot;</td><td>1</td><td>5</td><td>20</td><td>267</td><td>0</td><td>0</td><td>true</td><td>true</td><td>false</td><td>true</td><td>true</td><td>false</td><td>0.078336</td><td>0.111909</td><td>0.434112</td><td>0.028487</td><td>0.040695</td><td>0.220174</td><td>12</td><td>4.75</td><td>95</td><td>false</td><td>false</td></tr><tr><td>153071</td><td>9775990</td><td>151570</td><td>2023-05-24 07:11:08</td><td>0</td><td>1</td><td>125.0</td><td>100.0</td><td>false</td><td>2</td><td>null</td><td>false</td><td>3.884327</td><td>95.635483</td><td>1.484877</td><td>37.41399</td><td>465</td><td>250.755203</td><td>388.498718</td><td>3</td><td>7</td><td>false</td><td>142</td><td>0.5539</td><td>&quot;Neutral&quot;</td><td>1</td><td>4</td><td>20</td><td>382</td><td>1</td><td>43</td><td>true</td><td>true</td><td>true</td><td>true</td><td>false</td><td>true</td><td>0.441395</td><td>0.481522</td><td>0.964424</td><td>0.337171</td><td>0.367823</td><td>0.560344</td><td>12</td><td>4.75</td><td>95</td><td>false</td><td>false</td></tr></tbody></table></div>"
      ],
      "text/plain": [
       "shape: (2, 48)\n",
       "┌────────────┬─────────┬─────────┬────────────┬───┬────────────┬───────────┬───────────┬───────────┐\n",
       "│ impression ┆ article ┆ user_id ┆ impression ┆ … ┆ mean_prev_ ┆ last_sess ┆ is_new_ar ┆ is_alread │\n",
       "│ _id        ┆ ---     ┆ ---     ┆ _time      ┆   ┆ sessions_d ┆ ion_time_ ┆ ticle     ┆ y_seen_ar │\n",
       "│ ---        ┆ i32     ┆ u32     ┆ ---        ┆   ┆ uration    ┆ hour_diff ┆ ---       ┆ ticle     │\n",
       "│ u32        ┆         ┆         ┆ datetime[μ ┆   ┆ ---        ┆ ---       ┆ bool      ┆ ---       │\n",
       "│            ┆         ┆         ┆ s]         ┆   ┆ f64        ┆ i64       ┆           ┆ bool      │\n",
       "╞════════════╪═════════╪═════════╪════════════╪═══╪════════════╪═══════════╪═══════════╪═══════════╡\n",
       "│ 153068     ┆ 9778682 ┆ 151570  ┆ 2023-05-24 ┆ … ┆ 4.75       ┆ 95        ┆ false     ┆ false     │\n",
       "│            ┆         ┆         ┆ 07:09:04   ┆   ┆            ┆           ┆           ┆           │\n",
       "│ 153071     ┆ 9775990 ┆ 151570  ┆ 2023-05-24 ┆ … ┆ 4.75       ┆ 95        ┆ false     ┆ false     │\n",
       "│            ┆         ┆         ┆ 07:11:08   ┆   ┆            ┆           ┆           ┆           │\n",
       "└────────────┴─────────┴─────────┴────────────┴───┴────────────┴───────────┴───────────┴───────────┘"
      ]
     },
     "execution_count": 30,
     "metadata": {},
     "output_type": "execute_result"
    }
   ],
   "source": [
    "train_ds = train_ds.join(last_session_time_df, on='session_id', how='left').with_columns(\n",
    "    (pl.col('impression_time') - pl.col('last_session_time')).dt.total_hours().alias('last_session_time_hour_diff'),\n",
    "    ((pl.col('last_session_time') - pl.col('published_time')).dt.total_hours() > 0).alias('is_new_article'),\n",
    "    pl.col('all_seen_articles').list.contains(pl.col('article')).alias('is_already_seen_article'),\n",
    ").drop(['published_time', 'session_id', 'all_seen_articles', 'last_session_time'])\n",
    "\n",
    "gc.collect()\n",
    "PrintColor(f\"\\n\" + GetMemUsage(), color = Fore.RED)\n",
    "train_ds.head(2)"
   ]
  },
  {
   "cell_type": "code",
   "execution_count": 31,
   "id": "1d062378",
   "metadata": {
    "execution": {
     "iopub.execute_input": "2024-04-09T22:36:52.189998Z",
     "iopub.status.busy": "2024-04-09T22:36:52.189547Z",
     "iopub.status.idle": "2024-04-09T22:36:52.200142Z",
     "shell.execute_reply": "2024-04-09T22:36:52.198906Z"
    },
    "papermill": {
     "duration": 0.058401,
     "end_time": "2024-04-09T22:36:52.202576",
     "exception": false,
     "start_time": "2024-04-09T22:36:52.144175",
     "status": "completed"
    },
    "tags": []
   },
   "outputs": [
    {
     "data": {
      "text/html": [
       "<div><style>\n",
       ".dataframe > thead > tr,\n",
       ".dataframe > tbody > tr {\n",
       "  text-align: right;\n",
       "  white-space: pre-wrap;\n",
       "}\n",
       "</style>\n",
       "<small>shape: (1, 2)</small><table border=\"1\" class=\"dataframe\"><thead><tr><th>is_new_article</th><th>is_already_seen_article</th></tr><tr><td>f64</td><td>f64</td></tr></thead><tbody><tr><td>0.533774</td><td>0.017669</td></tr></tbody></table></div>"
      ],
      "text/plain": [
       "shape: (1, 2)\n",
       "┌────────────────┬─────────────────────────┐\n",
       "│ is_new_article ┆ is_already_seen_article │\n",
       "│ ---            ┆ ---                     │\n",
       "│ f64            ┆ f64                     │\n",
       "╞════════════════╪═════════════════════════╡\n",
       "│ 0.533774       ┆ 0.017669                │\n",
       "└────────────────┴─────────────────────────┘"
      ]
     },
     "execution_count": 31,
     "metadata": {},
     "output_type": "execute_result"
    }
   ],
   "source": [
    "train_ds.select(pl.col('is_new_article').sum() / train_ds.shape[0], pl.col('is_already_seen_article').sum() / train_ds.shape[0])"
   ]
  },
  {
   "cell_type": "code",
   "execution_count": 32,
   "id": "1355dd7b",
   "metadata": {
    "execution": {
     "iopub.execute_input": "2024-04-09T22:36:52.281464Z",
     "iopub.status.busy": "2024-04-09T22:36:52.279902Z",
     "iopub.status.idle": "2024-04-09T22:36:52.755183Z",
     "shell.execute_reply": "2024-04-09T22:36:52.754012Z"
    },
    "papermill": {
     "duration": 0.517526,
     "end_time": "2024-04-09T22:36:52.757760",
     "exception": false,
     "start_time": "2024-04-09T22:36:52.240234",
     "status": "completed"
    },
    "tags": []
   },
   "outputs": [
    {
     "data": {
      "text/plain": [
       "0"
      ]
     },
     "execution_count": 32,
     "metadata": {},
     "output_type": "execute_result"
    }
   ],
   "source": [
    "del last_history_df\n",
    "del last_session_time_df\n",
    "gc.collect()"
   ]
  },
  {
   "cell_type": "markdown",
   "id": "56e0b7cc",
   "metadata": {
    "papermill": {
     "duration": 0.035688,
     "end_time": "2024-04-09T22:36:52.829773",
     "exception": false,
     "start_time": "2024-04-09T22:36:52.794085",
     "status": "completed"
    },
    "tags": []
   },
   "source": [
    "## Popularities"
   ]
  },
  {
   "cell_type": "code",
   "execution_count": 33,
   "id": "4cf21a01",
   "metadata": {
    "execution": {
     "iopub.execute_input": "2024-04-09T22:36:52.903920Z",
     "iopub.status.busy": "2024-04-09T22:36:52.903407Z",
     "iopub.status.idle": "2024-04-09T22:36:54.059006Z",
     "shell.execute_reply": "2024-04-09T22:36:54.057812Z"
    },
    "papermill": {
     "duration": 1.196415,
     "end_time": "2024-04-09T22:36:54.061955",
     "exception": false,
     "start_time": "2024-04-09T22:36:52.865540",
     "status": "completed"
    },
    "tags": []
   },
   "outputs": [
    {
     "name": "stdout",
     "output_type": "stream",
     "text": [
      "Memory usage of dataframe is 100.07 MB\n",
      "Memory usage after optimization is: 86.06 MB\n",
      "Decreased by 14.0%\n",
      "\u001b[1m\u001b[31m\n",
      "RAM memory GB usage = 1.971\u001b[0m\n",
      "CPU times: user 1.23 s, sys: 52.6 ms, total: 1.28 s\n",
      "Wall time: 1.14 s\n"
     ]
    },
    {
     "data": {
      "text/html": [
       "<div><style>\n",
       ".dataframe > thead > tr,\n",
       ".dataframe > tbody > tr {\n",
       "  text-align: right;\n",
       "  white-space: pre-wrap;\n",
       "}\n",
       "</style>\n",
       "<small>shape: (2, 49)</small><table border=\"1\" class=\"dataframe\"><thead><tr><th>impression_id</th><th>article</th><th>user_id</th><th>impression_time</th><th>target</th><th>device_type</th><th>read_time</th><th>scroll_percentage</th><th>is_sso_user</th><th>gender</th><th>age</th><th>is_subscriber</th><th>mean_topics_mean_delay_days</th><th>mean_topics_mean_delay_hours</th><th>user_mean_delay_days</th><th>user_mean_delay_hours</th><th>trendiness_score</th><th>mean_user_trendiness_score</th><th>mean_topics_trendiness_score</th><th>weekday</th><th>hour</th><th>premium</th><th>category</th><th>sentiment_score</th><th>sentiment_label</th><th>num_images</th><th>title_len</th><th>subtitle_len</th><th>body_len</th><th>article_delay_days</th><th>article_delay_hours</th><th>Entity_EVENT_Present</th><th>Entity_ORG_Present</th><th>Entity_LOC_Present</th><th>Entity_PER_Present</th><th>Entity_PROD_Present</th><th>Entity_MISC_Present</th><th>total_ner_svd_scores</th><th>mean_ner_svd_scores</th><th>max_ner_svd_scores</th><th>total_ner_item_knn_scores</th><th>mean_ner_item_knn_scores</th><th>max_ner_item_knn_scores</th><th>last_session_duration</th><th>mean_prev_sessions_duration</th><th>last_session_time_hour_diff</th><th>is_new_article</th><th>is_already_seen_article</th><th>yesterday_category_daily_pct</th></tr><tr><td>u32</td><td>i32</td><td>u32</td><td>date</td><td>i8</td><td>i8</td><td>f32</td><td>f32</td><td>bool</td><td>i8</td><td>i8</td><td>bool</td><td>f32</td><td>f32</td><td>f32</td><td>f32</td><td>i16</td><td>f32</td><td>f32</td><td>i8</td><td>i8</td><td>bool</td><td>i16</td><td>f32</td><td>str</td><td>u32</td><td>u8</td><td>u8</td><td>u16</td><td>i16</td><td>i32</td><td>bool</td><td>bool</td><td>bool</td><td>bool</td><td>bool</td><td>bool</td><td>f32</td><td>f32</td><td>f32</td><td>f32</td><td>f32</td><td>f32</td><td>i8</td><td>f32</td><td>i16</td><td>bool</td><td>bool</td><td>f32</td></tr></thead><tbody><tr><td>153068</td><td>9778682</td><td>151570</td><td>2023-05-23</td><td>0</td><td>1</td><td>78.0</td><td>100.0</td><td>false</td><td>2</td><td>null</td><td>false</td><td>10.621649</td><td>257.855042</td><td>1.484877</td><td>37.41399</td><td>206</td><td>250.755203</td><td>295.832001</td><td>3</td><td>7</td><td>false</td><td>498</td><td>0.9546</td><td>&quot;Negative&quot;</td><td>1</td><td>5</td><td>20</td><td>267</td><td>0</td><td>0</td><td>true</td><td>true</td><td>false</td><td>true</td><td>true</td><td>false</td><td>0.078336</td><td>0.111909</td><td>0.434112</td><td>0.028487</td><td>0.040695</td><td>0.220174</td><td>12</td><td>4.75</td><td>95</td><td>false</td><td>false</td><td>0.007246</td></tr><tr><td>153071</td><td>9775990</td><td>151570</td><td>2023-05-23</td><td>0</td><td>1</td><td>125.0</td><td>100.0</td><td>false</td><td>2</td><td>null</td><td>false</td><td>3.884327</td><td>95.635483</td><td>1.484877</td><td>37.41399</td><td>465</td><td>250.755203</td><td>388.498718</td><td>3</td><td>7</td><td>false</td><td>142</td><td>0.5539</td><td>&quot;Neutral&quot;</td><td>1</td><td>4</td><td>20</td><td>382</td><td>1</td><td>43</td><td>true</td><td>true</td><td>true</td><td>true</td><td>false</td><td>true</td><td>0.441395</td><td>0.481522</td><td>0.964424</td><td>0.337171</td><td>0.367823</td><td>0.560344</td><td>12</td><td>4.75</td><td>95</td><td>false</td><td>false</td><td>0.246377</td></tr></tbody></table></div>"
      ],
      "text/plain": [
       "shape: (2, 49)\n",
       "┌────────────┬─────────┬─────────┬────────────┬───┬────────────┬───────────┬───────────┬───────────┐\n",
       "│ impression ┆ article ┆ user_id ┆ impression ┆ … ┆ last_sessi ┆ is_new_ar ┆ is_alread ┆ yesterday │\n",
       "│ _id        ┆ ---     ┆ ---     ┆ _time      ┆   ┆ on_time_ho ┆ ticle     ┆ y_seen_ar ┆ _category │\n",
       "│ ---        ┆ i32     ┆ u32     ┆ ---        ┆   ┆ ur_diff    ┆ ---       ┆ ticle     ┆ _daily_pc │\n",
       "│ u32        ┆         ┆         ┆ date       ┆   ┆ ---        ┆ bool      ┆ ---       ┆ t         │\n",
       "│            ┆         ┆         ┆            ┆   ┆ i16        ┆           ┆ bool      ┆ ---       │\n",
       "│            ┆         ┆         ┆            ┆   ┆            ┆           ┆           ┆ f32       │\n",
       "╞════════════╪═════════╪═════════╪════════════╪═══╪════════════╪═══════════╪═══════════╪═══════════╡\n",
       "│ 153068     ┆ 9778682 ┆ 151570  ┆ 2023-05-23 ┆ … ┆ 95         ┆ false     ┆ false     ┆ 0.007246  │\n",
       "│ 153071     ┆ 9775990 ┆ 151570  ┆ 2023-05-23 ┆ … ┆ 95         ┆ false     ┆ false     ┆ 0.246377  │\n",
       "└────────────┴─────────┴─────────┴────────────┴───┴────────────┴───────────┴───────────┴───────────┘"
      ]
     },
     "execution_count": 33,
     "metadata": {},
     "output_type": "execute_result"
    }
   ],
   "source": [
    "%%time\n",
    "\n",
    "articles_date_popularity = articles.select(['published_time', 'article_id']) \\\n",
    "    .group_by(pl.col('published_time').dt.date().alias('published_date')) \\\n",
    "    .agg(pl.col('article_id').count().alias('daily_articles')) \\\n",
    "\n",
    "published_category_popularity = articles.select(['published_time', 'article_id', 'category']) \\\n",
    "    .group_by([pl.col('published_time').dt.date().alias('published_date'), 'category']) \\\n",
    "    .agg(pl.col('article_id').count().alias('category_daily_articles')) \\\n",
    "    .join(articles_date_popularity, on='published_date', how='left') \\\n",
    "    .with_columns((pl.col('category_daily_articles') / pl.col('daily_articles')).alias('category_daily_pct')) \\\n",
    "    .drop(['category_daily_articles', 'daily_articles'])\n",
    "\n",
    "train_ds = train_ds.join(published_category_popularity, how='left', right_on=['published_date', 'category'],\n",
    "                         left_on=[pl.col('impression_time').dt.date() - pl.duration(days=1), 'category']) \\\n",
    "    .rename({'category_daily_pct': 'yesterday_category_daily_pct'}) \\\n",
    "    .with_columns(pl.col('yesterday_category_daily_pct').fill_null(0))\n",
    "train_ds = reduce_polars_df_memory_size(train_ds)\n",
    "\n",
    "gc.collect()\n",
    "PrintColor(f\"\\n\" + GetMemUsage(), color = Fore.RED)\n",
    "train_ds.head(2)"
   ]
  },
  {
   "cell_type": "markdown",
   "id": "71f0cbe6",
   "metadata": {
    "papermill": {
     "duration": 0.048201,
     "end_time": "2024-04-09T22:36:54.161000",
     "exception": false,
     "start_time": "2024-04-09T22:36:54.112799",
     "status": "completed"
    },
    "tags": []
   },
   "source": [
    "# Adding history features"
   ]
  },
  {
   "cell_type": "code",
   "execution_count": 34,
   "id": "bc4af008",
   "metadata": {
    "execution": {
     "iopub.execute_input": "2024-04-09T22:36:54.241230Z",
     "iopub.status.busy": "2024-04-09T22:36:54.240628Z",
     "iopub.status.idle": "2024-04-09T22:48:02.829686Z",
     "shell.execute_reply": "2024-04-09T22:48:02.828509Z"
    },
    "papermill": {
     "duration": 668.630787,
     "end_time": "2024-04-09T22:48:02.832248",
     "exception": false,
     "start_time": "2024-04-09T22:36:54.201461",
     "status": "completed"
    },
    "scrolled": true,
    "tags": []
   },
   "outputs": [
    {
     "name": "stderr",
     "output_type": "stream",
     "text": [
      "70it [11:07,  9.53s/it]\n"
     ]
    },
    {
     "name": "stdout",
     "output_type": "stream",
     "text": [
      "Memory usage of dataframe is 370.42 MB\n",
      "Memory usage after optimization is: 267.02 MB\n",
      "Decreased by 27.9%\n",
      "\u001b[1m\u001b[31m\n",
      "RAM memory GB usage = 2.592\u001b[0m\n"
     ]
    },
    {
     "data": {
      "text/html": [
       "<div><style>\n",
       ".dataframe > thead > tr,\n",
       ".dataframe > tbody > tr {\n",
       "  text-align: right;\n",
       "  white-space: pre-wrap;\n",
       "}\n",
       "</style>\n",
       "<small>shape: (2, 121)</small><table border=\"1\" class=\"dataframe\"><thead><tr><th>impression_id</th><th>article</th><th>user_id</th><th>target</th><th>device_type</th><th>read_time</th><th>scroll_percentage</th><th>is_sso_user</th><th>gender</th><th>age</th><th>is_subscriber</th><th>mean_topics_mean_delay_days</th><th>mean_topics_mean_delay_hours</th><th>user_mean_delay_days</th><th>user_mean_delay_hours</th><th>trendiness_score</th><th>mean_user_trendiness_score</th><th>mean_topics_trendiness_score</th><th>weekday</th><th>hour</th><th>premium</th><th>category</th><th>sentiment_score</th><th>sentiment_label</th><th>num_images</th><th>title_len</th><th>subtitle_len</th><th>body_len</th><th>article_delay_days</th><th>article_delay_hours</th><th>Entity_EVENT_Present</th><th>Entity_ORG_Present</th><th>Entity_LOC_Present</th><th>Entity_PER_Present</th><th>Entity_PROD_Present</th><th>Entity_MISC_Present</th><th>total_ner_svd_scores</th><th>&hellip;</th><th>MostFrequentWeekday</th><th>MostFrequentHour</th><th>EVENTPct</th><th>ORGPct</th><th>LOCPct</th><th>PERPct</th><th>PRODPct</th><th>MISCPct</th><th>topics_cosine</th><th>IsFavouriteCategory</th><th>NumberDifferentCategories</th><th>PctCategoryMatches</th><th>Category_side9_Pct</th><th>Category_bibliotek_Pct</th><th>Category_ferie_Pct</th><th>Category_underholdning_Pct</th><th>Category_penge_Pct</th><th>Category_krimi_Pct</th><th>Category_vin_Pct</th><th>Category_forbrug_Pct</th><th>Category_haandvaerkeren_Pct</th><th>Category_horoskoper_Pct</th><th>Category_dagsorden_Pct</th><th>Category_musik_Pct</th><th>Category_auto_Pct</th><th>Category_podcast_Pct</th><th>Category_plus_Pct</th><th>Category_services_Pct</th><th>Category_sport_Pct</th><th>Category_incoming_Pct</th><th>Category_biler_Pct</th><th>Category_om_ekstra_bladet_Pct</th><th>Category_opinionen_Pct</th><th>Category_nyheder_Pct</th><th>Category_video_Pct</th><th>Category_nationen_Pct</th><th>Category_sex_og_samliv_Pct</th></tr><tr><td>u32</td><td>i32</td><td>u32</td><td>i8</td><td>i8</td><td>f32</td><td>f32</td><td>bool</td><td>i8</td><td>i8</td><td>bool</td><td>f32</td><td>f32</td><td>f32</td><td>f32</td><td>i16</td><td>f32</td><td>f32</td><td>i8</td><td>i8</td><td>bool</td><td>i16</td><td>f32</td><td>str</td><td>u32</td><td>u8</td><td>u8</td><td>u16</td><td>i16</td><td>i32</td><td>bool</td><td>bool</td><td>bool</td><td>bool</td><td>bool</td><td>bool</td><td>f32</td><td>&hellip;</td><td>i8</td><td>i8</td><td>f32</td><td>f32</td><td>f32</td><td>f32</td><td>f32</td><td>f32</td><td>f32</td><td>bool</td><td>u8</td><td>f32</td><td>f32</td><td>f32</td><td>f32</td><td>f32</td><td>f32</td><td>f32</td><td>f32</td><td>f32</td><td>f32</td><td>f32</td><td>f32</td><td>f32</td><td>f32</td><td>f32</td><td>f32</td><td>f32</td><td>f32</td><td>f32</td><td>f32</td><td>f32</td><td>f32</td><td>f32</td><td>f32</td><td>f32</td><td>f32</td></tr></thead><tbody><tr><td>156066</td><td>9778701</td><td>163208</td><td>0</td><td>2</td><td>10.0</td><td>null</td><td>false</td><td>2</td><td>null</td><td>false</td><td>5.221263</td><td>128.023224</td><td>0.103448</td><td>4.342175</td><td>403</td><td>203.960205</td><td>303.974365</td><td>3</td><td>7</td><td>false</td><td>142</td><td>0.582</td><td>&quot;Neutral&quot;</td><td>2</td><td>5</td><td>11</td><td>199</td><td>0</td><td>0</td><td>false</td><td>true</td><td>true</td><td>true</td><td>true</td><td>false</td><td>0.278297</td><td>&hellip;</td><td>4</td><td>18</td><td>0.127321</td><td>0.917772</td><td>0.753316</td><td>0.854111</td><td>0.241379</td><td>0.151194</td><td>0.288644</td><td>false</td><td>9</td><td>0.97878</td><td>0.0</td><td>0.0</td><td>0.0</td><td>0.114058</td><td>0.015915</td><td>0.196286</td><td>0.0</td><td>0.039788</td><td>0.0</td><td>0.0</td><td>0.0</td><td>0.013263</td><td>0.0</td><td>0.0</td><td>0.0</td><td>0.0</td><td>0.058355</td><td>0.0</td><td>0.002653</td><td>0.0</td><td>0.0</td><td>0.448276</td><td>0.0</td><td>0.111406</td><td>0.0</td></tr><tr><td>156066</td><td>9778669</td><td>163208</td><td>0</td><td>2</td><td>10.0</td><td>null</td><td>false</td><td>2</td><td>null</td><td>false</td><td>5.383747</td><td>131.56778</td><td>0.103448</td><td>4.342175</td><td>199</td><td>203.960205</td><td>316.556976</td><td>3</td><td>7</td><td>false</td><td>118</td><td>0.9481</td><td>&quot;Negative&quot;</td><td>1</td><td>5</td><td>11</td><td>150</td><td>0</td><td>1</td><td>false</td><td>true</td><td>false</td><td>true</td><td>true</td><td>false</td><td>0.082413</td><td>&hellip;</td><td>4</td><td>18</td><td>0.127321</td><td>0.917772</td><td>0.753316</td><td>0.854111</td><td>0.241379</td><td>0.151194</td><td>0.566062</td><td>true</td><td>9</td><td>0.97878</td><td>0.0</td><td>0.0</td><td>0.0</td><td>0.114058</td><td>0.015915</td><td>0.196286</td><td>0.0</td><td>0.039788</td><td>0.0</td><td>0.0</td><td>0.0</td><td>0.013263</td><td>0.0</td><td>0.0</td><td>0.0</td><td>0.0</td><td>0.058355</td><td>0.0</td><td>0.002653</td><td>0.0</td><td>0.0</td><td>0.448276</td><td>0.0</td><td>0.111406</td><td>0.0</td></tr></tbody></table></div>"
      ],
      "text/plain": [
       "shape: (2, 121)\n",
       "┌─────────────┬─────────┬─────────┬────────┬───┬────────────┬────────────┬────────────┬────────────┐\n",
       "│ impression_ ┆ article ┆ user_id ┆ target ┆ … ┆ Category_n ┆ Category_v ┆ Category_n ┆ Category_s │\n",
       "│ id          ┆ ---     ┆ ---     ┆ ---    ┆   ┆ yheder_Pct ┆ ideo_Pct   ┆ ationen_Pc ┆ ex_og_saml │\n",
       "│ ---         ┆ i32     ┆ u32     ┆ i8     ┆   ┆ ---        ┆ ---        ┆ t          ┆ iv_Pct     │\n",
       "│ u32         ┆         ┆         ┆        ┆   ┆ f32        ┆ f32        ┆ ---        ┆ ---        │\n",
       "│             ┆         ┆         ┆        ┆   ┆            ┆            ┆ f32        ┆ f32        │\n",
       "╞═════════════╪═════════╪═════════╪════════╪═══╪════════════╪════════════╪════════════╪════════════╡\n",
       "│ 156066      ┆ 9778701 ┆ 163208  ┆ 0      ┆ … ┆ 0.448276   ┆ 0.0        ┆ 0.111406   ┆ 0.0        │\n",
       "│ 156066      ┆ 9778669 ┆ 163208  ┆ 0      ┆ … ┆ 0.448276   ┆ 0.0        ┆ 0.111406   ┆ 0.0        │\n",
       "└─────────────┴─────────┴─────────┴────────┴───┴────────────┴────────────┴────────────┴────────────┘"
      ]
     },
     "execution_count": 34,
     "metadata": {},
     "output_type": "execute_result"
    }
   ],
   "source": [
    "def list_pct_matches_with_col(a, b) -> pl.Expr:\n",
    "    '''\n",
    "    Returns an expression to count the percentage of matching element in a list with another column.\n",
    "    The polars function count_matches cannot be used since it wants only a single element, \n",
    "    variable element from row to row.\n",
    "    '''\n",
    "    return pl.when(pl.col(a).list.len() == 0).then(0.0) \\\n",
    "        .otherwise((pl.col(a).list.len() - (pl.col(a).list.set_difference(pl.col(b))).list.len()) / pl.col(a).list.len())\n",
    "\n",
    "\n",
    "def list_pct_matches_with_constant(a, value) -> pl.Expr:\n",
    "    '''\n",
    "    Returns an expression to count the percentage of matching element in a list with a constant value.\n",
    "    The polars function count_matches cannot be used since it wants only a single element, \n",
    "    variable element from row to row.\n",
    "    '''\n",
    "    return pl.when(pl.col(a).list.len() == 0).then(0.0) \\\n",
    "        .otherwise(pl.col(a).list.count_matches(value) / pl.col(a).list.len())\n",
    "\n",
    "\n",
    "def cosine_similarity(x, y):\n",
    "    x = np.array(x)\n",
    "    y = np.array(y)\n",
    "    normalization = np.linalg.norm(x, 2) * np.linalg.norm(y, 2)\n",
    "    return np.dot(x, y) / normalization if normalization > 0 else 0\n",
    "\n",
    "\n",
    "prev_train_columns = [c for c in train_ds.columns if c not in ['impression_id', 'article', 'impression_time']]\n",
    "\n",
    "train_ds = pl.concat(\n",
    "    rows.join(history_train.select(['user_id', 'article_id_fixed', 'impression_time_fixed']), on='user_id', how='left') \\\n",
    "        .join(articles.select(['article_id', 'topics', 'entity_groups', 'topics_idf'] + topic_model_columns), \n",
    "              left_on='article', right_on='article_id', how='left') \\\n",
    "        .explode(['article_id_fixed', 'impression_time_fixed']) \\\n",
    "        .join(articles.select(['article_id', 'topics', 'entity_groups'] + topic_model_columns), \n",
    "              left_on='article_id_fixed', right_on='article_id', how='left') \\\n",
    "        .rename({'topics_right': 'topics_history', 'entity_groups_right': 'entity_groups_history'}) \\\n",
    "        .rename({f'topic_model_embedding_{i}_right': f'topic_model_embedding_{i}_history' for i in range(N_COMPONENTS)}) \\\n",
    "        .with_columns(\n",
    "            # 1/delay gives the weight for the weighted mean of the lda embeddings\n",
    "            (1 / (pl.col('impression_time') - pl.col('impression_time_fixed')).dt.total_hours()).alias('history_weight'),\n",
    "            (pl.col(\"topics\").list.set_intersection(pl.col(\"topics_history\")).list.len().truediv(\n",
    "                pl.col(\"topics\").list.set_union(pl.col(\"topics_history\")).list.len()\n",
    "            )).alias(\"JS\"),\n",
    "            pl.col('entity_groups').list.set_intersection(pl.col('entity_groups_history')).list.len().alias('common_entities'),\n",
    "        ).drop(['entity_groups_history', 'entity_groups', 'topics', 'topics_history']) \\\n",
    "        .with_columns(\n",
    "            # summing delays to normalize them before weighted mean\n",
    "            pl.col('history_weight').sum().over(['impression_id', 'article']).alias('history_weight_sum'),\n",
    "            *[pl.col(x).mul(pl.col(f'{x}_history')).alias(f'{x}_dot') for x in topic_model_columns],\n",
    "            *[pl.col(x).mul(pl.col(x)) for x in topic_model_columns],\n",
    "            *[pl.col(f'{x}_history').mul(pl.col(f'{x}_history')).alias(f'{x}_history_square') for x in topic_model_columns],\n",
    "        ).with_columns(\n",
    "            # weights now sum to 1\n",
    "            pl.col('history_weight').truediv(pl.col('history_weight_sum')),\n",
    "            pl.sum_horizontal(topic_model_columns).sqrt().alias('topic_model_norm'),\n",
    "            pl.sum_horizontal([f'{x}_history_square' for x in topic_model_columns]).sqrt().alias('topic_model_history_norm'),\n",
    "            pl.sum_horizontal([f'{x}_dot' for x in topic_model_columns]).alias('topic_model_dot'),\n",
    "        ).with_columns(\n",
    "            *[pl.col(f'{x}_history').mul(pl.col('history_weight')).alias(f'{x}_history_weighted') for i, x in enumerate(topic_model_columns)],\n",
    "            pl.col('topic_model_dot').truediv(pl.col('topic_model_norm').mul('topic_model_history_norm')).alias('topic_model_cosine')\n",
    "        ).group_by(['impression_id', 'article']).agg(\n",
    "            pl.col(prev_train_columns).first(),\n",
    "            pl.col('topics_idf').first(),\n",
    "            pl.col('common_entities').mean().alias('MeanCommonEntities'),\n",
    "            pl.col('common_entities').max().alias('MaxCommonEntities'),\n",
    "            pl.col(\"JS\").mean().alias(\"mean_JS\"),\n",
    "            pl.col(\"JS\").min().alias(\"min_JS\"),\n",
    "            pl.col(\"JS\").max().alias(\"max_JS\"),\n",
    "            pl.col(\"JS\").std().alias(\"std_JS\"),\n",
    "            pl.col(\"JS\").mul(pl.col(\"history_weight\")).sum().alias(\"weighted_mean_JS\"),\n",
    "            pl.col(\"topic_model_cosine\").mean().alias(\"mean_topic_model_cosine\"),\n",
    "            pl.col(\"topic_model_cosine\").min().alias(\"min_topic_model_cosine\"),\n",
    "            pl.col(\"topic_model_cosine\").max().alias(\"max_topic_model_cosine\"),\n",
    "            pl.col(\"topic_model_cosine\").std().alias(\"std_topic_model_cosine\"),\n",
    "            pl.col(\"topic_model_cosine\").mul(pl.col(\"history_weight\")).sum().alias(\"weighted_mean_topic_model_cosine\"),\n",
    "            *[pl.col(f'{x}_history').mean().alias(f'lda_{i}_history_mean') for i, x in enumerate(topic_model_columns)],\n",
    "            *[pl.col(f'{x}_history_weighted').sum().alias(f'lda_{i}_history_weighted_mean') for i, x in enumerate(topic_model_columns)]\n",
    "        ).join(history_train.drop(['article_id_fixed', 'impression_time_fixed']), on='user_id', how='left') \\\n",
    "        .with_columns(\n",
    "            pl.struct(['topics_idf', 'topics_flatten_tf_idf']).map_elements(\n",
    "                lambda x: cosine_similarity(x['topics_idf'], x['topics_flatten_tf_idf']), return_dtype=pl.Float64\n",
    "            ).cast(pl.Float32).alias('topics_cosine'),\n",
    "            (pl.col('category') == pl.col('MostFrequentCategory')).alias('IsFavouriteCategory'),\n",
    "            pl.col('category_right').list.n_unique().alias('NumberDifferentCategories'),\n",
    "            list_pct_matches_with_col('category_right', 'category').alias('PctCategoryMatches'),\n",
    "        ).with_columns(\n",
    "            [list_pct_matches_with_constant('category_right', c).alias(f'Category_{c_str}_Pct')\n",
    "             for c, c_str in unique_categories.items()]\n",
    "        ).drop(['topics_idf', 'topics_flatten', 'topics_flatten_tf_idf', 'category_right'])\n",
    "    for rows in tqdm.tqdm(train_ds.iter_slices(10000), total=train_ds.shape[0] // 10000)\n",
    ")\n",
    "train_ds = reduce_polars_df_memory_size(train_ds)\n",
    "\n",
    "PrintColor(f\"\\n\" + GetMemUsage(), color = Fore.RED)\n",
    "train_ds.head(2)"
   ]
  },
  {
   "cell_type": "code",
   "execution_count": 35,
   "id": "639ef45b",
   "metadata": {
    "execution": {
     "iopub.execute_input": "2024-04-09T22:48:02.927081Z",
     "iopub.status.busy": "2024-04-09T22:48:02.926614Z",
     "iopub.status.idle": "2024-04-09T22:48:02.931965Z",
     "shell.execute_reply": "2024-04-09T22:48:02.930734Z"
    },
    "papermill": {
     "duration": 0.055326,
     "end_time": "2024-04-09T22:48:02.934591",
     "exception": false,
     "start_time": "2024-04-09T22:48:02.879265",
     "status": "completed"
    },
    "tags": []
   },
   "outputs": [],
   "source": [
    "# .pipe(batch_cosine_similarity, col1='topics_idf', col2='topics_flatten_tf_idf', target_col='topics_cosine') \\"
   ]
  },
  {
   "cell_type": "markdown",
   "id": "5d838667",
   "metadata": {
    "papermill": {
     "duration": 0.048076,
     "end_time": "2024-04-09T22:48:03.028139",
     "exception": false,
     "start_time": "2024-04-09T22:48:02.980063",
     "status": "completed"
    },
    "tags": []
   },
   "source": [
    "# Training"
   ]
  },
  {
   "cell_type": "code",
   "execution_count": 36,
   "id": "3d413efd",
   "metadata": {
    "execution": {
     "iopub.execute_input": "2024-04-09T22:48:03.121838Z",
     "iopub.status.busy": "2024-04-09T22:48:03.121413Z",
     "iopub.status.idle": "2024-04-09T22:48:03.776976Z",
     "shell.execute_reply": "2024-04-09T22:48:03.775154Z"
    },
    "papermill": {
     "duration": 0.706166,
     "end_time": "2024-04-09T22:48:03.780213",
     "exception": false,
     "start_time": "2024-04-09T22:48:03.074047",
     "status": "completed"
    },
    "tags": []
   },
   "outputs": [],
   "source": [
    "train_ds = train_ds.drop(['impression_id', 'article', 'user_id']).to_pandas()\n",
    "\n",
    "categorical_columns = ['device_type', 'is_sso_user', 'gender', 'is_subscriber', 'weekday',\n",
    "                       'premium', 'category', 'sentiment_label', 'is_new_article', 'is_already_seen_article',\n",
    "                       'MostFrequentCategory', 'MostFrequentWeekday', 'IsFavouriteCategory']\n",
    "categorical_columns += [f'Entity_{entity}_Present' for entity in unique_entities]\n",
    "train_ds[categorical_columns] = train_ds[categorical_columns].astype('category')\n",
    "\n",
    "X = train_ds.drop(columns=['target'])\n",
    "y = train_ds['target']"
   ]
  },
  {
   "cell_type": "code",
   "execution_count": 37,
   "id": "104459cb",
   "metadata": {
    "execution": {
     "iopub.execute_input": "2024-04-09T22:48:03.872501Z",
     "iopub.status.busy": "2024-04-09T22:48:03.872047Z",
     "iopub.status.idle": "2024-04-09T22:48:04.232159Z",
     "shell.execute_reply": "2024-04-09T22:48:04.230694Z"
    },
    "papermill": {
     "duration": 0.410589,
     "end_time": "2024-04-09T22:48:04.234889",
     "exception": false,
     "start_time": "2024-04-09T22:48:03.824300",
     "status": "completed"
    },
    "tags": []
   },
   "outputs": [
    {
     "name": "stdout",
     "output_type": "stream",
     "text": [
      "\u001b[1m\u001b[31m\n",
      "RAM memory GB usage = 3.083\u001b[0m\n"
     ]
    }
   ],
   "source": [
    "del train_ds\n",
    "\n",
    "gc.collect()\n",
    "PrintColor(f\"\\n\" + GetMemUsage(), color = Fore.RED)"
   ]
  },
  {
   "cell_type": "code",
   "execution_count": 38,
   "id": "7d1f539e",
   "metadata": {
    "execution": {
     "iopub.execute_input": "2024-04-09T22:48:04.330079Z",
     "iopub.status.busy": "2024-04-09T22:48:04.329649Z",
     "iopub.status.idle": "2024-04-09T22:56:56.078826Z",
     "shell.execute_reply": "2024-04-09T22:56:56.077320Z"
    },
    "papermill": {
     "duration": 531.800571,
     "end_time": "2024-04-09T22:56:56.081749",
     "exception": false,
     "start_time": "2024-04-09T22:48:04.281178",
     "status": "completed"
    },
    "tags": []
   },
   "outputs": [
    {
     "name": "stdout",
     "output_type": "stream",
     "text": [
      "Learning rate set to 0.318943\n",
      "0:\tlearn: 0.6258788\ttotal: 1.28s\tremaining: 10m 38s\n",
      "25:\tlearn: 0.5457013\ttotal: 28.5s\tremaining: 8m 40s\n",
      "50:\tlearn: 0.5354348\ttotal: 54.3s\tremaining: 7m 57s\n",
      "75:\tlearn: 0.5290155\ttotal: 1m 21s\tremaining: 7m 32s\n",
      "100:\tlearn: 0.5242102\ttotal: 1m 47s\tremaining: 7m 4s\n",
      "125:\tlearn: 0.5205767\ttotal: 2m 14s\tremaining: 6m 37s\n",
      "150:\tlearn: 0.5173711\ttotal: 2m 41s\tremaining: 6m 12s\n",
      "175:\tlearn: 0.5146018\ttotal: 3m 7s\tremaining: 5m 45s\n",
      "200:\tlearn: 0.5120637\ttotal: 3m 33s\tremaining: 5m 18s\n",
      "225:\tlearn: 0.5100740\ttotal: 4m\tremaining: 4m 51s\n",
      "250:\tlearn: 0.5079779\ttotal: 4m 26s\tremaining: 4m 24s\n",
      "275:\tlearn: 0.5062269\ttotal: 4m 52s\tremaining: 3m 57s\n",
      "300:\tlearn: 0.5045415\ttotal: 5m 18s\tremaining: 3m 30s\n",
      "325:\tlearn: 0.5030505\ttotal: 5m 43s\tremaining: 3m 3s\n",
      "350:\tlearn: 0.5014943\ttotal: 6m 10s\tremaining: 2m 37s\n",
      "375:\tlearn: 0.5000558\ttotal: 6m 36s\tremaining: 2m 10s\n",
      "400:\tlearn: 0.4985942\ttotal: 7m 2s\tremaining: 1m 44s\n",
      "425:\tlearn: 0.4971184\ttotal: 7m 29s\tremaining: 1m 18s\n",
      "450:\tlearn: 0.4958415\ttotal: 7m 57s\tremaining: 51.8s\n",
      "475:\tlearn: 0.4947349\ttotal: 8m 22s\tremaining: 25.4s\n",
      "499:\tlearn: 0.4935523\ttotal: 8m 48s\tremaining: 0us\n",
      "\u001b[1m\u001b[31m\n",
      "RAM memory GB usage = 4.127\u001b[0m\n"
     ]
    }
   ],
   "source": [
    "# just a simple model to be able to run an evaluation\n",
    "model = CatBoostClassifier(cat_features=categorical_columns, iterations=500)\n",
    "\n",
    "model.fit(X, y, verbose=25)\n",
    "\n",
    "gc.collect()\n",
    "PrintColor(f\"\\n\" + GetMemUsage(), color = Fore.RED)"
   ]
  },
  {
   "cell_type": "code",
   "execution_count": 39,
   "id": "0e42cc24",
   "metadata": {
    "execution": {
     "iopub.execute_input": "2024-04-09T22:56:56.179623Z",
     "iopub.status.busy": "2024-04-09T22:56:56.179175Z",
     "iopub.status.idle": "2024-04-09T22:57:02.507477Z",
     "shell.execute_reply": "2024-04-09T22:57:02.506446Z"
    },
    "papermill": {
     "duration": 6.38033,
     "end_time": "2024-04-09T22:57:02.510031",
     "exception": false,
     "start_time": "2024-04-09T22:56:56.129701",
     "status": "completed"
    },
    "tags": []
   },
   "outputs": [
    {
     "name": "stdout",
     "output_type": "stream",
     "text": [
      "CPU times: user 6.35 s, sys: 105 ms, total: 6.46 s\n",
      "Wall time: 6.32 s\n"
     ]
    }
   ],
   "source": [
    "%%time\n",
    "\n",
    "from catboost import Pool\n",
    "\n",
    "train_pool = Pool(X, y, cat_features=categorical_columns)\n",
    "feature_importances = model.get_feature_importance(train_pool)"
   ]
  },
  {
   "cell_type": "code",
   "execution_count": 40,
   "id": "b1440e26",
   "metadata": {
    "execution": {
     "iopub.execute_input": "2024-04-09T22:57:02.607002Z",
     "iopub.status.busy": "2024-04-09T22:57:02.606337Z",
     "iopub.status.idle": "2024-04-09T22:57:04.714019Z",
     "shell.execute_reply": "2024-04-09T22:57:04.712173Z"
    },
    "papermill": {
     "duration": 2.159781,
     "end_time": "2024-04-09T22:57:04.717358",
     "exception": false,
     "start_time": "2024-04-09T22:57:02.557577",
     "status": "completed"
    },
    "tags": []
   },
   "outputs": [
    {
     "data": {
      "text/plain": [
       "Text(0.5, 1.0, 'Catboost Feature Importances')"
      ]
     },
     "execution_count": 40,
     "metadata": {},
     "output_type": "execute_result"
    },
    {
     "data": {
      "image/png": "[encoded data removed]",
      "text/plain": [
       "<Figure size 1000x1400 with 1 Axes>"
      ]
     },
     "metadata": {},
     "output_type": "display_data"
    }
   ],
   "source": [
    "sorted_importances = np.argsort(feature_importances)[::-1]\n",
    "\n",
    "plt.figure(figsize=(10, 14))\n",
    "sns.barplot(x=feature_importances[sorted_importances], y=np.array(X.columns)[sorted_importances])\n",
    "plt.xlabel('Feature Importance')\n",
    "plt.ylabel('Feature Name')\n",
    "plt.title('Catboost Feature Importances')"
   ]
  },
  {
   "cell_type": "code",
   "execution_count": 41,
   "id": "6283a08a",
   "metadata": {
    "execution": {
     "iopub.execute_input": "2024-04-09T22:57:04.825591Z",
     "iopub.status.busy": "2024-04-09T22:57:04.825160Z",
     "iopub.status.idle": "2024-04-09T22:57:05.160763Z",
     "shell.execute_reply": "2024-04-09T22:57:05.159811Z"
    },
    "papermill": {
     "duration": 0.392956,
     "end_time": "2024-04-09T22:57:05.163572",
     "exception": false,
     "start_time": "2024-04-09T22:57:04.770616",
     "status": "completed"
    },
    "tags": []
   },
   "outputs": [
    {
     "name": "stdout",
     "output_type": "stream",
     "text": [
      "\u001b[1m\u001b[31m\n",
      "RAM memory GB usage = 4.169\u001b[0m\n"
     ]
    }
   ],
   "source": [
    "del history_train\n",
    "del behaviors_train\n",
    "\n",
    "gc.collect()\n",
    "PrintColor(f\"\\n\" + GetMemUsage(), color = Fore.RED)"
   ]
  },
  {
   "cell_type": "code",
   "execution_count": 42,
   "id": "1ab3c909",
   "metadata": {
    "execution": {
     "iopub.execute_input": "2024-04-09T22:57:05.274704Z",
     "iopub.status.busy": "2024-04-09T22:57:05.273999Z",
     "iopub.status.idle": "2024-04-09T22:57:05.281368Z",
     "shell.execute_reply": "2024-04-09T22:57:05.280015Z"
    },
    "papermill": {
     "duration": 0.067656,
     "end_time": "2024-04-09T22:57:05.284273",
     "exception": false,
     "start_time": "2024-04-09T22:57:05.216617",
     "status": "completed"
    },
    "tags": []
   },
   "outputs": [
    {
     "data": {
      "text/plain": [
       "['device_type',\n",
       " 'is_sso_user',\n",
       " 'gender',\n",
       " 'is_subscriber',\n",
       " 'weekday',\n",
       " 'premium',\n",
       " 'category',\n",
       " 'sentiment_label',\n",
       " 'is_new_article',\n",
       " 'is_already_seen_article',\n",
       " 'MostFrequentCategory',\n",
       " 'MostFrequentWeekday',\n",
       " 'IsFavouriteCategory',\n",
       " 'Entity_EVENT_Present',\n",
       " 'Entity_ORG_Present',\n",
       " 'Entity_LOC_Present',\n",
       " 'Entity_PER_Present',\n",
       " 'Entity_PROD_Present',\n",
       " 'Entity_MISC_Present']"
      ]
     },
     "execution_count": 42,
     "metadata": {},
     "output_type": "execute_result"
    }
   ],
   "source": [
    "model.get_param('cat_features')"
   ]
  },
  {
   "cell_type": "markdown",
   "id": "0f782789",
   "metadata": {
    "papermill": {
     "duration": 0.053569,
     "end_time": "2024-04-09T22:57:05.392224",
     "exception": false,
     "start_time": "2024-04-09T22:57:05.338655",
     "status": "completed"
    },
    "tags": []
   },
   "source": [
    "# Model Evaluation"
   ]
  },
  {
   "cell_type": "code",
   "execution_count": 43,
   "id": "b16e6baa",
   "metadata": {
    "execution": {
     "iopub.execute_input": "2024-04-09T22:57:05.502192Z",
     "iopub.status.busy": "2024-04-09T22:57:05.501331Z",
     "iopub.status.idle": "2024-04-09T22:57:20.751512Z",
     "shell.execute_reply": "2024-04-09T22:57:20.749957Z"
    },
    "papermill": {
     "duration": 15.309081,
     "end_time": "2024-04-09T22:57:20.754804",
     "exception": false,
     "start_time": "2024-04-09T22:57:05.445723",
     "status": "completed"
    },
    "tags": []
   },
   "outputs": [],
   "source": [
    "user_id_mapping = history_val.sort('user_id').with_row_index() \\\n",
    "    .select(['index', 'user_id']).rename({'index': 'user_index'})\n",
    "\n",
    "ner_interactions = history_val.select(['user_id', 'article_id_fixed']).explode('article_id_fixed') \\\n",
    "    .join(articles.select(['article_id', 'ner_clusters']), left_on='article_id_fixed', right_on='article_id', how='left') \\\n",
    "    .explode('ner_clusters').unique(['user_id', 'ner_clusters']) \\\n",
    "    .with_columns(pl.col('ner_clusters').str.strip_chars_start('\\\" ').str.to_lowercase()) \\\n",
    "    .join(user_id_mapping, on='user_id', how='left') \\\n",
    "    .join(ner_mapping, left_on='ner_clusters', right_on='ner') \\\n",
    "    .select(['user_index', 'ner_index', 'user_id', 'article_id_fixed']) \\\n",
    "    .unique(['user_index', 'ner_index'])\n",
    "\n",
    "URM_ner = sps.csr_matrix((np.ones(ner_interactions.shape[0]),\n",
    "                          (ner_interactions['user_index'].to_numpy(), ner_interactions['ner_index'].to_numpy())),\n",
    "                         shape=(user_id_mapping.shape[0], ner_mapping.shape[0]))\n",
    "\n",
    "ner_interactions_test = behaviors_val.select(['user_id', 'article_ids_clicked']).explode('article_ids_clicked') \\\n",
    "    .join(articles.select(['article_id', 'ner_clusters']), left_on='article_ids_clicked', right_on='article_id', how='left') \\\n",
    "    .explode('ner_clusters').unique(['user_id', 'ner_clusters']) \\\n",
    "    .with_columns(pl.col('ner_clusters').str.strip_chars_start('\\\" ').str.to_lowercase()) \\\n",
    "    .join(user_id_mapping, on='user_id', how='left') \\\n",
    "    .join(ner_mapping, left_on='ner_clusters', right_on='ner') \\\n",
    "    .select(['user_index', 'ner_index', 'user_id', 'article_ids_clicked']) \\\n",
    "    .unique(['user_index', 'ner_index'])\n",
    "\n",
    "URM_ner_test = sps.csr_matrix((np.ones(ner_interactions_test.shape[0]),\n",
    "                               (ner_interactions_test['user_index'].to_numpy(), ner_interactions_test['ner_index'].to_numpy())),\n",
    "                              shape=(user_id_mapping.shape[0], ner_mapping.shape[0]))"
   ]
  },
  {
   "cell_type": "code",
   "execution_count": 44,
   "id": "f5128cd1",
   "metadata": {
    "execution": {
     "iopub.execute_input": "2024-04-09T22:57:20.865344Z",
     "iopub.status.busy": "2024-04-09T22:57:20.864845Z",
     "iopub.status.idle": "2024-04-09T23:02:33.503348Z",
     "shell.execute_reply": "2024-04-09T23:02:33.501670Z"
    },
    "papermill": {
     "duration": 312.710174,
     "end_time": "2024-04-09T23:02:33.518319",
     "exception": false,
     "start_time": "2024-04-09T22:57:20.808145",
     "status": "completed"
    },
    "tags": []
   },
   "outputs": [
    {
     "name": "stdout",
     "output_type": "stream",
     "text": [
      "ItemKNNCFRecommender: URM Detected 3 ( 0.0%) users with no interactions.\n",
      "ItemKNNCFRecommender: URM Detected 19035 (43.5%) items with no interactions.\n",
      "Unable to load Cython Compute_Similarity, reverting to Python\n",
      "Similarity column 43774 (100.0%), 165.53 column/sec. Elapsed time 4.41 min\n",
      "EvaluatorHoldout: Ignoring 32 ( 0.2%) Users that have less than 1 test interactions\n",
      "EvaluatorHoldout: Processed 15310 (100.0%) in 47.11 sec. Users per second: 325\n"
     ]
    },
    {
     "data": {
      "text/html": [
       "<div>\n",
       "<style scoped>\n",
       "    .dataframe tbody tr th:only-of-type {\n",
       "        vertical-align: middle;\n",
       "    }\n",
       "\n",
       "    .dataframe tbody tr th {\n",
       "        vertical-align: top;\n",
       "    }\n",
       "\n",
       "    .dataframe thead th {\n",
       "        text-align: right;\n",
       "    }\n",
       "</style>\n",
       "<table border=\"1\" class=\"dataframe\">\n",
       "  <thead>\n",
       "    <tr style=\"text-align: right;\">\n",
       "      <th></th>\n",
       "      <th>PRECISION</th>\n",
       "      <th>PRECISION_RECALL_MIN_DEN</th>\n",
       "      <th>RECALL</th>\n",
       "      <th>MAP</th>\n",
       "      <th>MAP_MIN_DEN</th>\n",
       "      <th>MRR</th>\n",
       "      <th>NDCG</th>\n",
       "      <th>F1</th>\n",
       "      <th>HIT_RATE</th>\n",
       "      <th>ARHR_ALL_HITS</th>\n",
       "      <th>...</th>\n",
       "      <th>COVERAGE_USER</th>\n",
       "      <th>COVERAGE_USER_HIT</th>\n",
       "      <th>USERS_IN_GT</th>\n",
       "      <th>DIVERSITY_GINI</th>\n",
       "      <th>SHANNON_ENTROPY</th>\n",
       "      <th>RATIO_DIVERSITY_HERFINDAHL</th>\n",
       "      <th>RATIO_DIVERSITY_GINI</th>\n",
       "      <th>RATIO_SHANNON_ENTROPY</th>\n",
       "      <th>RATIO_AVERAGE_POPULARITY</th>\n",
       "      <th>RATIO_NOVELTY</th>\n",
       "    </tr>\n",
       "    <tr>\n",
       "      <th>cutoff</th>\n",
       "      <th></th>\n",
       "      <th></th>\n",
       "      <th></th>\n",
       "      <th></th>\n",
       "      <th></th>\n",
       "      <th></th>\n",
       "      <th></th>\n",
       "      <th></th>\n",
       "      <th></th>\n",
       "      <th></th>\n",
       "      <th></th>\n",
       "      <th></th>\n",
       "      <th></th>\n",
       "      <th></th>\n",
       "      <th></th>\n",
       "      <th></th>\n",
       "      <th></th>\n",
       "      <th></th>\n",
       "      <th></th>\n",
       "      <th></th>\n",
       "      <th></th>\n",
       "    </tr>\n",
       "  </thead>\n",
       "  <tbody>\n",
       "    <tr>\n",
       "      <th>10</th>\n",
       "      <td>0.338445</td>\n",
       "      <td>0.339461</td>\n",
       "      <td>0.033197</td>\n",
       "      <td>0.241643</td>\n",
       "      <td>0.241977</td>\n",
       "      <td>0.493913</td>\n",
       "      <td>0.346767</td>\n",
       "      <td>0.060464</td>\n",
       "      <td>0.784651</td>\n",
       "      <td>1.033204</td>\n",
       "      <td>...</td>\n",
       "      <td>0.997914</td>\n",
       "      <td>0.783014</td>\n",
       "      <td>0.997914</td>\n",
       "      <td>0.002568</td>\n",
       "      <td>5.473111</td>\n",
       "      <td>0.953841</td>\n",
       "      <td>0.020621</td>\n",
       "      <td>0.428217</td>\n",
       "      <td>3.43338</td>\n",
       "      <td>0.010093</td>\n",
       "    </tr>\n",
       "  </tbody>\n",
       "</table>\n",
       "<p>1 rows × 27 columns</p>\n",
       "</div>"
      ],
      "text/plain": [
       "       PRECISION PRECISION_RECALL_MIN_DEN    RECALL       MAP MAP_MIN_DEN  \\\n",
       "cutoff                                                                      \n",
       "10      0.338445                 0.339461  0.033197  0.241643    0.241977   \n",
       "\n",
       "             MRR      NDCG        F1  HIT_RATE ARHR_ALL_HITS  ...  \\\n",
       "cutoff                                                        ...   \n",
       "10      0.493913  0.346767  0.060464  0.784651      1.033204  ...   \n",
       "\n",
       "       COVERAGE_USER COVERAGE_USER_HIT USERS_IN_GT DIVERSITY_GINI  \\\n",
       "cutoff                                                              \n",
       "10          0.997914          0.783014    0.997914       0.002568   \n",
       "\n",
       "       SHANNON_ENTROPY RATIO_DIVERSITY_HERFINDAHL RATIO_DIVERSITY_GINI  \\\n",
       "cutoff                                                                   \n",
       "10            5.473111                   0.953841             0.020621   \n",
       "\n",
       "       RATIO_SHANNON_ENTROPY RATIO_AVERAGE_POPULARITY RATIO_NOVELTY  \n",
       "cutoff                                                               \n",
       "10                  0.428217                  3.43338      0.010093  \n",
       "\n",
       "[1 rows x 27 columns]"
      ]
     },
     "execution_count": 44,
     "metadata": {},
     "output_type": "execute_result"
    }
   ],
   "source": [
    "item_knn = ItemKNNCFRecommender(URM_ner)\n",
    "item_knn.fit(topK=100, similarity='jaccard')\n",
    "\n",
    "evaluator = EvaluatorHoldout(URM_ner_test, cutoff_list=[10], exclude_seen=False)\n",
    "result_df, _ = evaluator.evaluateRecommender(item_knn)\n",
    "result_df"
   ]
  },
  {
   "cell_type": "code",
   "execution_count": 45,
   "id": "5f34085d",
   "metadata": {
    "execution": {
     "iopub.execute_input": "2024-04-09T23:02:33.627587Z",
     "iopub.status.busy": "2024-04-09T23:02:33.626990Z",
     "iopub.status.idle": "2024-04-09T23:03:03.767734Z",
     "shell.execute_reply": "2024-04-09T23:03:03.766259Z"
    },
    "papermill": {
     "duration": 30.224683,
     "end_time": "2024-04-09T23:03:03.794709",
     "exception": false,
     "start_time": "2024-04-09T23:02:33.570026",
     "status": "completed"
    },
    "tags": []
   },
   "outputs": [
    {
     "name": "stdout",
     "output_type": "stream",
     "text": [
      "PureSVDRecommender: URM Detected 3 ( 0.0%) users with no interactions.\n",
      "PureSVDRecommender: URM Detected 19035 (43.5%) items with no interactions.\n",
      "PureSVDRecommender: Computing SVD decomposition...\n",
      "PureSVDRecommender: Computing SVD decomposition... done in 4.58 sec\n",
      "EvaluatorHoldout: Processed 15310 (100.0%) in 25.01 sec. Users per second: 612\n"
     ]
    },
    {
     "data": {
      "text/html": [
       "<div>\n",
       "<style scoped>\n",
       "    .dataframe tbody tr th:only-of-type {\n",
       "        vertical-align: middle;\n",
       "    }\n",
       "\n",
       "    .dataframe tbody tr th {\n",
       "        vertical-align: top;\n",
       "    }\n",
       "\n",
       "    .dataframe thead th {\n",
       "        text-align: right;\n",
       "    }\n",
       "</style>\n",
       "<table border=\"1\" class=\"dataframe\">\n",
       "  <thead>\n",
       "    <tr style=\"text-align: right;\">\n",
       "      <th></th>\n",
       "      <th>PRECISION</th>\n",
       "      <th>PRECISION_RECALL_MIN_DEN</th>\n",
       "      <th>RECALL</th>\n",
       "      <th>MAP</th>\n",
       "      <th>MAP_MIN_DEN</th>\n",
       "      <th>MRR</th>\n",
       "      <th>NDCG</th>\n",
       "      <th>F1</th>\n",
       "      <th>HIT_RATE</th>\n",
       "      <th>ARHR_ALL_HITS</th>\n",
       "      <th>...</th>\n",
       "      <th>COVERAGE_USER</th>\n",
       "      <th>COVERAGE_USER_HIT</th>\n",
       "      <th>USERS_IN_GT</th>\n",
       "      <th>DIVERSITY_GINI</th>\n",
       "      <th>SHANNON_ENTROPY</th>\n",
       "      <th>RATIO_DIVERSITY_HERFINDAHL</th>\n",
       "      <th>RATIO_DIVERSITY_GINI</th>\n",
       "      <th>RATIO_SHANNON_ENTROPY</th>\n",
       "      <th>RATIO_AVERAGE_POPULARITY</th>\n",
       "      <th>RATIO_NOVELTY</th>\n",
       "    </tr>\n",
       "    <tr>\n",
       "      <th>cutoff</th>\n",
       "      <th></th>\n",
       "      <th></th>\n",
       "      <th></th>\n",
       "      <th></th>\n",
       "      <th></th>\n",
       "      <th></th>\n",
       "      <th></th>\n",
       "      <th></th>\n",
       "      <th></th>\n",
       "      <th></th>\n",
       "      <th></th>\n",
       "      <th></th>\n",
       "      <th></th>\n",
       "      <th></th>\n",
       "      <th></th>\n",
       "      <th></th>\n",
       "      <th></th>\n",
       "      <th></th>\n",
       "      <th></th>\n",
       "      <th></th>\n",
       "      <th></th>\n",
       "    </tr>\n",
       "  </thead>\n",
       "  <tbody>\n",
       "    <tr>\n",
       "      <th>10</th>\n",
       "      <td>0.365382</td>\n",
       "      <td>0.368539</td>\n",
       "      <td>0.050795</td>\n",
       "      <td>0.283615</td>\n",
       "      <td>0.285707</td>\n",
       "      <td>0.695447</td>\n",
       "      <td>0.415659</td>\n",
       "      <td>0.089191</td>\n",
       "      <td>0.876486</td>\n",
       "      <td>1.342637</td>\n",
       "      <td>...</td>\n",
       "      <td>0.997914</td>\n",
       "      <td>0.874658</td>\n",
       "      <td>0.997914</td>\n",
       "      <td>0.001527</td>\n",
       "      <td>5.728555</td>\n",
       "      <td>0.954883</td>\n",
       "      <td>0.012263</td>\n",
       "      <td>0.448203</td>\n",
       "      <td>3.536612</td>\n",
       "      <td>0.010003</td>\n",
       "    </tr>\n",
       "  </tbody>\n",
       "</table>\n",
       "<p>1 rows × 27 columns</p>\n",
       "</div>"
      ],
      "text/plain": [
       "       PRECISION PRECISION_RECALL_MIN_DEN    RECALL       MAP MAP_MIN_DEN  \\\n",
       "cutoff                                                                      \n",
       "10      0.365382                 0.368539  0.050795  0.283615    0.285707   \n",
       "\n",
       "             MRR      NDCG        F1  HIT_RATE ARHR_ALL_HITS  ...  \\\n",
       "cutoff                                                        ...   \n",
       "10      0.695447  0.415659  0.089191  0.876486      1.342637  ...   \n",
       "\n",
       "       COVERAGE_USER COVERAGE_USER_HIT USERS_IN_GT DIVERSITY_GINI  \\\n",
       "cutoff                                                              \n",
       "10          0.997914          0.874658    0.997914       0.001527   \n",
       "\n",
       "       SHANNON_ENTROPY RATIO_DIVERSITY_HERFINDAHL RATIO_DIVERSITY_GINI  \\\n",
       "cutoff                                                                   \n",
       "10            5.728555                   0.954883             0.012263   \n",
       "\n",
       "       RATIO_SHANNON_ENTROPY RATIO_AVERAGE_POPULARITY RATIO_NOVELTY  \n",
       "cutoff                                                               \n",
       "10                  0.448203                 3.536612      0.010003  \n",
       "\n",
       "[1 rows x 27 columns]"
      ]
     },
     "execution_count": 45,
     "metadata": {},
     "output_type": "execute_result"
    }
   ],
   "source": [
    "pure_svd = PureSVDRecommender(URM_ner)\n",
    "pure_svd.fit(num_factors=20)\n",
    "\n",
    "result_df, _ = evaluator.evaluateRecommender(pure_svd)\n",
    "result_df"
   ]
  },
  {
   "cell_type": "code",
   "execution_count": 46,
   "id": "78f56115",
   "metadata": {
    "execution": {
     "iopub.execute_input": "2024-04-09T23:03:03.907090Z",
     "iopub.status.busy": "2024-04-09T23:03:03.906614Z",
     "iopub.status.idle": "2024-04-09T23:05:14.370161Z",
     "shell.execute_reply": "2024-04-09T23:05:14.368929Z"
    },
    "papermill": {
     "duration": 130.577644,
     "end_time": "2024-04-09T23:05:14.427362",
     "exception": false,
     "start_time": "2024-04-09T23:03:03.849718",
     "status": "completed"
    },
    "tags": []
   },
   "outputs": [
    {
     "name": "stdout",
     "output_type": "stream",
     "text": [
      "CPU times: user 4min 38s, sys: 3min 13s, total: 7min 51s\n",
      "Wall time: 2min 10s\n"
     ]
    },
    {
     "data": {
      "text/html": [
       "<div><style>\n",
       ".dataframe > thead > tr,\n",
       ".dataframe > tbody > tr {\n",
       "  text-align: right;\n",
       "  white-space: pre-wrap;\n",
       "}\n",
       "</style>\n",
       "<small>shape: (5, 8)</small><table border=\"1\" class=\"dataframe\"><thead><tr><th>impression_id</th><th>article</th><th>total_ner_svd_scores</th><th>mean_ner_svd_scores</th><th>max_ner_svd_scores</th><th>total_ner_item_knn_scores</th><th>mean_ner_item_knn_scores</th><th>max_ner_item_knn_scores</th></tr><tr><td>u32</td><td>i32</td><td>f32</td><td>f32</td><td>f32</td><td>f32</td><td>f32</td><td>f32</td></tr></thead><tbody><tr><td>96791</td><td>9783865</td><td>0.065138</td><td>0.042019</td><td>0.099119</td><td>0.042012</td><td>0.02688</td><td>0.089325</td></tr><tr><td>96791</td><td>9784679</td><td>0.198</td><td>0.218959</td><td>0.192213</td><td>0.221395</td><td>0.242829</td><td>0.204195</td></tr><tr><td>96798</td><td>9782726</td><td>0.111075</td><td>0.075559</td><td>0.072855</td><td>0.109575</td><td>0.076234</td><td>0.063155</td></tr><tr><td>96798</td><td>9782806</td><td>0.035775</td><td>0.035152</td><td>0.067555</td><td>0.039551</td><td>0.039746</td><td>0.06276</td></tr><tr><td>96798</td><td>9779370</td><td>0.0</td><td>0.0</td><td>0.0</td><td>0.0</td><td>0.0</td><td>0.0</td></tr></tbody></table></div>"
      ],
      "text/plain": [
       "shape: (5, 8)\n",
       "┌────────────┬─────────┬────────────┬────────────┬────────────┬────────────┬───────────┬───────────┐\n",
       "│ impression ┆ article ┆ total_ner_ ┆ mean_ner_s ┆ max_ner_sv ┆ total_ner_ ┆ mean_ner_ ┆ max_ner_i │\n",
       "│ _id        ┆ ---     ┆ svd_scores ┆ vd_scores  ┆ d_scores   ┆ item_knn_s ┆ item_knn_ ┆ tem_knn_s │\n",
       "│ ---        ┆ i32     ┆ ---        ┆ ---        ┆ ---        ┆ cores      ┆ scores    ┆ cores     │\n",
       "│ u32        ┆         ┆ f32        ┆ f32        ┆ f32        ┆ ---        ┆ ---       ┆ ---       │\n",
       "│            ┆         ┆            ┆            ┆            ┆ f32        ┆ f32       ┆ f32       │\n",
       "╞════════════╪═════════╪════════════╪════════════╪════════════╪════════════╪═══════════╪═══════════╡\n",
       "│ 96791      ┆ 9783865 ┆ 0.065138   ┆ 0.042019   ┆ 0.099119   ┆ 0.042012   ┆ 0.02688   ┆ 0.089325  │\n",
       "│ 96791      ┆ 9784679 ┆ 0.198      ┆ 0.218959   ┆ 0.192213   ┆ 0.221395   ┆ 0.242829  ┆ 0.204195  │\n",
       "│ 96798      ┆ 9782726 ┆ 0.111075   ┆ 0.075559   ┆ 0.072855   ┆ 0.109575   ┆ 0.076234  ┆ 0.063155  │\n",
       "│ 96798      ┆ 9782806 ┆ 0.035775   ┆ 0.035152   ┆ 0.067555   ┆ 0.039551   ┆ 0.039746  ┆ 0.06276   │\n",
       "│ 96798      ┆ 9779370 ┆ 0.0        ┆ 0.0        ┆ 0.0        ┆ 0.0        ┆ 0.0       ┆ 0.0       │\n",
       "└────────────┴─────────┴────────────┴────────────┴────────────┴────────────┴───────────┴───────────┘"
      ]
     },
     "execution_count": 46,
     "metadata": {},
     "output_type": "execute_result"
    }
   ],
   "source": [
    "%%time\n",
    "\n",
    "def get_inview_scores(user_ners_df, recommender, f_name):\n",
    "    user_index = user_ners_df['user_index'].to_list()[0]\n",
    "    ners = user_ners_df['ner_index'].to_numpy()\n",
    "    scores = recommender._compute_item_score([user_index], ners)[0, ners]\n",
    "    return user_ners_df.with_columns(\n",
    "        pl.Series(scores).alias(f_name)\n",
    "    )\n",
    "\n",
    "ner_inview_scores = behaviors_val.select(['user_id', 'article_ids_inview']).explode('article_ids_inview') \\\n",
    "    .join(articles.select(['article_id', 'ner_clusters']), left_on='article_ids_inview', right_on='article_id', how='left') \\\n",
    "    .explode('ner_clusters').unique(['user_id', 'ner_clusters']) \\\n",
    "    .with_columns(pl.col('ner_clusters').str.strip_chars_start('\\\" ').str.to_lowercase()) \\\n",
    "    .join(user_id_mapping, on='user_id', how='left') \\\n",
    "    .join(ner_mapping, left_on='ner_clusters', right_on='ner') \\\n",
    "    .select(['user_index', 'ner_index', 'user_id', 'article_ids_inview']) \\\n",
    "    .unique(['user_index', 'ner_index']) \\\n",
    "    .sort(['user_index', 'ner_index']).group_by('user_index').map_groups(\n",
    "        lambda user_df: user_df.pipe(get_inview_scores, recommender=pure_svd, f_name='pure_svd_scores') \\\n",
    "            .pipe(get_inview_scores, recommender=item_knn, f_name='item_knn_scores')\n",
    "    )\n",
    "\n",
    "behaviors_ner_scores = behaviors_val.select(['impression_id', 'user_id', 'article_ids_inview']).explode('article_ids_inview') \\\n",
    "    .join(ner_inview_scores, on=['user_id', 'article_ids_inview'], how='left') \\\n",
    "    .with_columns(pl.col(['pure_svd_scores', 'item_knn_scores']).fill_null(0)) \\\n",
    "    .group_by(['impression_id', 'article_ids_inview']).agg(\n",
    "        pl.col('pure_svd_scores').sum().alias('total_ner_svd_scores'),\n",
    "        pl.col('pure_svd_scores').mean().alias('mean_ner_svd_scores'),\n",
    "        pl.col('pure_svd_scores').max().alias('max_ner_svd_scores'),\n",
    "        pl.col('item_knn_scores').sum().alias('total_ner_item_knn_scores'),\n",
    "        pl.col('item_knn_scores').mean().alias('mean_ner_item_knn_scores'),\n",
    "        pl.col('item_knn_scores').max().alias('max_ner_item_knn_scores'),\n",
    "    ).with_columns(\n",
    "        pl.col(['total_ner_svd_scores', 'mean_ner_svd_scores', \n",
    "                'total_ner_item_knn_scores', 'mean_ner_item_knn_scores',\n",
    "                'max_ner_svd_scores', 'max_ner_item_knn_scores']).sum().over('impression_id').name.suffix('_max')\n",
    "    ).with_columns(\n",
    "        # l1 normalization\n",
    "        pl.col('total_ner_svd_scores').truediv(pl.col('total_ner_svd_scores_max')),\n",
    "        pl.col('mean_ner_svd_scores').truediv(pl.col('mean_ner_svd_scores_max')),\n",
    "        pl.col('max_ner_svd_scores').truediv(pl.col('max_ner_svd_scores_max')),\n",
    "        pl.col('total_ner_item_knn_scores').truediv(pl.col('total_ner_item_knn_scores_max')),\n",
    "        pl.col('mean_ner_item_knn_scores').truediv(pl.col('mean_ner_item_knn_scores_max')),\n",
    "        pl.col('max_ner_item_knn_scores').truediv(pl.col('max_ner_item_knn_scores_max')),\n",
    "    ).drop(['total_ner_svd_scores_max', 'mean_ner_svd_scores_max', \n",
    "            'max_ner_svd_scores_max', 'total_ner_item_knn_scores_max',\n",
    "            'mean_ner_item_knn_scores_max', 'max_ner_item_knn_scores_max']) \\\n",
    "    .rename({'article_ids_inview': 'article'})\n",
    "behaviors_ner_scores.head(5)"
   ]
  },
  {
   "cell_type": "code",
   "execution_count": 47,
   "id": "a3fefc03",
   "metadata": {
    "execution": {
     "iopub.execute_input": "2024-04-09T23:05:14.536741Z",
     "iopub.status.busy": "2024-04-09T23:05:14.535870Z",
     "iopub.status.idle": "2024-04-09T23:05:14.543011Z",
     "shell.execute_reply": "2024-04-09T23:05:14.542219Z"
    },
    "papermill": {
     "duration": 0.064647,
     "end_time": "2024-04-09T23:05:14.545691",
     "exception": false,
     "start_time": "2024-04-09T23:05:14.481044",
     "status": "completed"
    },
    "tags": []
   },
   "outputs": [
    {
     "data": {
      "text/plain": [
       "['device_type',\n",
       " 'is_sso_user',\n",
       " 'gender',\n",
       " 'is_subscriber',\n",
       " 'weekday',\n",
       " 'premium',\n",
       " 'category',\n",
       " 'sentiment_label',\n",
       " 'is_new_article',\n",
       " 'is_already_seen_article',\n",
       " 'MostFrequentCategory',\n",
       " 'MostFrequentWeekday',\n",
       " 'IsFavouriteCategory',\n",
       " 'Entity_EVENT_Present',\n",
       " 'Entity_ORG_Present',\n",
       " 'Entity_LOC_Present',\n",
       " 'Entity_PER_Present',\n",
       " 'Entity_PROD_Present',\n",
       " 'Entity_MISC_Present']"
      ]
     },
     "execution_count": 47,
     "metadata": {},
     "output_type": "execute_result"
    }
   ],
   "source": [
    "model.get_param('cat_features')"
   ]
  },
  {
   "cell_type": "code",
   "execution_count": 48,
   "id": "1b7e37b5",
   "metadata": {
    "execution": {
     "iopub.execute_input": "2024-04-09T23:05:14.660590Z",
     "iopub.status.busy": "2024-04-09T23:05:14.660084Z",
     "iopub.status.idle": "2024-04-09T23:05:32.190972Z",
     "shell.execute_reply": "2024-04-09T23:05:32.189509Z"
    },
    "papermill": {
     "duration": 17.592336,
     "end_time": "2024-04-09T23:05:32.194068",
     "exception": false,
     "start_time": "2024-04-09T23:05:14.601732",
     "status": "completed"
    },
    "tags": []
   },
   "outputs": [
    {
     "name": "stderr",
     "output_type": "stream",
     "text": [
      "16it [00:16,  1.04s/it]                        \n"
     ]
    },
    {
     "name": "stdout",
     "output_type": "stream",
     "text": [
      "\u001b[1m\u001b[31m\n",
      "RAM memory GB usage = 4.592\u001b[0m\n",
      "Memory usage of dataframe is 36.51 MB\n",
      "Memory usage after optimization is: 35.72 MB\n",
      "Decreased by 2.2%\n",
      "CPU times: user 19.4 s, sys: 1.7 s, total: 21.1 s\n",
      "Wall time: 17.5 s\n"
     ]
    },
    {
     "data": {
      "text/html": [
       "<div><style>\n",
       ".dataframe > thead > tr,\n",
       ".dataframe > tbody > tr {\n",
       "  text-align: right;\n",
       "  white-space: pre-wrap;\n",
       "}\n",
       "</style>\n",
       "<small>shape: (2, 27)</small><table border=\"1\" class=\"dataframe\"><thead><tr><th>user_id</th><th>article_id_fixed</th><th>impression_time_fixed</th><th>category</th><th>NumArticlesHistory</th><th>MedianReadTime</th><th>MaxReadTime</th><th>TotalReadTime</th><th>MedianScrollPercentage</th><th>MaxScrollPercentage</th><th>NeutralPct</th><th>PositivePct</th><th>NegativePct</th><th>PctStrongNeutral</th><th>PctStrongPositive</th><th>PctStrongNegative</th><th>PctNotDefaultArticles</th><th>MostFrequentCategory</th><th>MostFrequentWeekday</th><th>MostFrequentHour</th><th>topics_flatten_tf_idf</th><th>EVENTPct</th><th>ORGPct</th><th>LOCPct</th><th>PERPct</th><th>PRODPct</th><th>MISCPct</th></tr><tr><td>u32</td><td>list[i32]</td><td>list[datetime[μs]]</td><td>list[i16]</td><td>u16</td><td>f32</td><td>f32</td><td>f32</td><td>f32</td><td>f32</td><td>f32</td><td>f32</td><td>f32</td><td>f32</td><td>f32</td><td>f32</td><td>f32</td><td>i16</td><td>i8</td><td>i8</td><td>list[f32]</td><td>f32</td><td>f32</td><td>f32</td><td>f32</td><td>f32</td><td>f32</td></tr></thead><tbody><tr><td>10623</td><td>[9750749, 9685790, … 9779517]</td><td>[2023-05-05 07:51:01, 2023-05-05 07:51:36, … 2023-05-24 17:10:11]</td><td>[118, 457, … 414]</td><td>150</td><td>3.5</td><td>1563.0</td><td>9330.0</td><td>37.0</td><td>100.0</td><td>0.28</td><td>0.093333</td><td>0.626667</td><td>0.126667</td><td>0.06</td><td>0.546667</td><td>0.06</td><td>118</td><td>1</td><td>20</td><td>[0.0, 0.042172, … 0.089681]</td><td>0.3</td><td>0.913333</td><td>0.846667</td><td>0.893333</td><td>0.213333</td><td>0.266667</td></tr><tr><td>12718</td><td>[9749036, 9749025, … 9778718]</td><td>[2023-05-04 07:49:49, 2023-05-04 07:50:15, … 2023-05-24 07:07:25]</td><td>[118, 118, … 140]</td><td>114</td><td>7.0</td><td>748.0</td><td>3440.0</td><td>36.0</td><td>100.0</td><td>0.245614</td><td>0.052632</td><td>0.701754</td><td>0.087719</td><td>0.035088</td><td>0.614035</td><td>0.035088</td><td>118</td><td>7</td><td>7</td><td>[0.0, 0.048524, … 0.217846]</td><td>0.114035</td><td>0.947368</td><td>0.815789</td><td>0.807018</td><td>0.254386</td><td>0.192982</td></tr></tbody></table></div>"
      ],
      "text/plain": [
       "shape: (2, 27)\n",
       "┌─────────┬─────────────┬─────────────┬────────────┬───┬──────────┬──────────┬──────────┬──────────┐\n",
       "│ user_id ┆ article_id_ ┆ impression_ ┆ category   ┆ … ┆ LOCPct   ┆ PERPct   ┆ PRODPct  ┆ MISCPct  │\n",
       "│ ---     ┆ fixed       ┆ time_fixed  ┆ ---        ┆   ┆ ---      ┆ ---      ┆ ---      ┆ ---      │\n",
       "│ u32     ┆ ---         ┆ ---         ┆ list[i16]  ┆   ┆ f32      ┆ f32      ┆ f32      ┆ f32      │\n",
       "│         ┆ list[i32]   ┆ list[dateti ┆            ┆   ┆          ┆          ┆          ┆          │\n",
       "│         ┆             ┆ me[μs]]     ┆            ┆   ┆          ┆          ┆          ┆          │\n",
       "╞═════════╪═════════════╪═════════════╪════════════╪═══╪══════════╪══════════╪══════════╪══════════╡\n",
       "│ 10623   ┆ [9750749,   ┆ [2023-05-05 ┆ [118, 457, ┆ … ┆ 0.846667 ┆ 0.893333 ┆ 0.213333 ┆ 0.266667 │\n",
       "│         ┆ 9685790, …  ┆ 07:51:01,   ┆ … 414]     ┆   ┆          ┆          ┆          ┆          │\n",
       "│         ┆ 9779517]    ┆ 2023-05-05… ┆            ┆   ┆          ┆          ┆          ┆          │\n",
       "│ 12718   ┆ [9749036,   ┆ [2023-05-04 ┆ [118, 118, ┆ … ┆ 0.815789 ┆ 0.807018 ┆ 0.254386 ┆ 0.192982 │\n",
       "│         ┆ 9749025, …  ┆ 07:49:49,   ┆ … 140]     ┆   ┆          ┆          ┆          ┆          │\n",
       "│         ┆ 9778718]    ┆ 2023-05-04… ┆            ┆   ┆          ┆          ┆          ┆          │\n",
       "└─────────┴─────────────┴─────────────┴────────────┴───┴──────────┴──────────┴──────────┴──────────┘"
      ]
     },
     "execution_count": 48,
     "metadata": {},
     "output_type": "execute_result"
    }
   ],
   "source": [
    "%%time\n",
    "\n",
    "STRONG_THR = 0.8\n",
    "\n",
    "history_val = pl.concat(\n",
    "    rows.with_columns(pl.col('article_id_fixed').list.len().alias('NumArticlesHistory')) \\\n",
    "        .explode(['article_id_fixed', 'impression_time_fixed', 'read_time_fixed', 'scroll_percentage_fixed']) \\\n",
    "        .sort(by=['user_id', 'impression_time_fixed']) \\\n",
    "        .with_columns(\n",
    "            pl.col('impression_time_fixed').dt.weekday().alias('weekday'),\n",
    "            pl.col('impression_time_fixed').dt.hour().alias('hour'),\n",
    "        ).join(articles.select(['article_id', 'category', 'is_article_default', 'sentiment_label_int', \n",
    "                                'sentiment_score', 'entity_groups', 'topics']), \n",
    "               left_on='article_id_fixed', right_on='article_id', how='left') \\\n",
    "        .with_columns(\n",
    "            (pl.col('sentiment_label_int') == 0).alias('is_neutral'),\n",
    "            (pl.col('sentiment_label_int') == 1).alias('is_positive'),\n",
    "            (pl.col('sentiment_label_int') == -1).alias('is_negative'),\n",
    "            ((pl.col('sentiment_label_int') == 0) & (pl.col('sentiment_score') > STRONG_THR)).alias('strong_neutral'),\n",
    "            ((pl.col('sentiment_label_int') == 1) & (pl.col('sentiment_score') > STRONG_THR)).alias('strong_positive'),\n",
    "            ((pl.col('sentiment_label_int') == -1) & (pl.col('sentiment_score') > STRONG_THR)).alias('strong_negative'),\n",
    "            pl.col('entity_groups').list.unique(),\n",
    "        ).group_by('user_id').agg(\n",
    "            pl.col('article_id_fixed'),\n",
    "            pl.col('impression_time_fixed'),\n",
    "            pl.col('category'),\n",
    "            pl.col('NumArticlesHistory').first(),\n",
    "            pl.col('read_time_fixed').median().alias('MedianReadTime'),\n",
    "            pl.col('read_time_fixed').max().alias('MaxReadTime'),\n",
    "            pl.col('read_time_fixed').sum().alias('TotalReadTime'),\n",
    "            pl.col('scroll_percentage_fixed').median().alias('MedianScrollPercentage'),\n",
    "            pl.col('scroll_percentage_fixed').max().alias('MaxScrollPercentage'),\n",
    "            (pl.col('is_neutral').sum() / pl.col('NumArticlesHistory').first()).alias('NeutralPct'),\n",
    "            (pl.col('is_positive').sum() / pl.col('NumArticlesHistory').first()).alias('PositivePct'),\n",
    "            (pl.col('is_negative').sum() / pl.col('NumArticlesHistory').first()).alias('NegativePct'),\n",
    "            (pl.col('strong_neutral').sum() / pl.col('NumArticlesHistory').first()).alias('PctStrongNeutral'),\n",
    "            (pl.col('strong_positive').sum() / pl.col('NumArticlesHistory').first()).alias('PctStrongPositive'),\n",
    "            (pl.col('strong_negative').sum() / pl.col('NumArticlesHistory').first()).alias('PctStrongNegative'),\n",
    "            (1 - (pl.col('is_article_default').sum() / pl.col('NumArticlesHistory').first())).alias('PctNotDefaultArticles'),\n",
    "            pl.col('category').mode().alias('MostFrequentCategory'),\n",
    "            pl.col('weekday').mode().alias('MostFrequentWeekday'),\n",
    "            pl.col('hour').mode().alias('MostFrequentHour'),\n",
    "            pl.col('entity_groups').flatten(),\n",
    "            pl.col('topics').flatten().alias('topics_flatten')\n",
    "        ).pipe(add_topics_tf_idf_columns, topics_col='topics_flatten', vectorizer=vectorizer) \\\n",
    "        .drop('topics_flatten').with_columns(\n",
    "            pl.col('MostFrequentCategory').list.first(),\n",
    "            pl.col('MostFrequentWeekday').list.first(),\n",
    "            pl.col('MostFrequentHour').list.first(),\n",
    "        ).with_columns(\n",
    "            (pl.col('entity_groups').list.count_matches(entity) / pl.col('NumArticlesHistory')).alias(f'{entity}Pct')\n",
    "            for entity in unique_entities\n",
    "        ).drop('entity_groups')\n",
    "    for rows in tqdm.tqdm(history_val.iter_slices(1000), total=history_val.shape[0] // 1000)\n",
    ")\n",
    "\n",
    "gc.collect()\n",
    "PrintColor(f\"\\n\" + GetMemUsage(), color = Fore.RED)\n",
    "history_val = reduce_polars_df_memory_size(history_val)\n",
    "history_val.head(2)"
   ]
  },
  {
   "cell_type": "code",
   "execution_count": 49,
   "id": "75fa0953",
   "metadata": {
    "execution": {
     "iopub.execute_input": "2024-04-09T23:05:32.314270Z",
     "iopub.status.busy": "2024-04-09T23:05:32.312966Z",
     "iopub.status.idle": "2024-04-09T23:05:33.651264Z",
     "shell.execute_reply": "2024-04-09T23:05:33.650170Z"
    },
    "papermill": {
     "duration": 1.402564,
     "end_time": "2024-04-09T23:05:33.654168",
     "exception": false,
     "start_time": "2024-04-09T23:05:32.251604",
     "status": "completed"
    },
    "tags": []
   },
   "outputs": [],
   "source": [
    "last_history_df = history_val.with_columns(\n",
    "    pl.col('impression_time_fixed').list.max().alias('last_history_impression_time'),\n",
    "    pl.col('article_id_fixed').list.tail(1).alias('last_history_article'),\n",
    ").select(['user_id', 'last_history_impression_time', 'last_history_article'])\n",
    "\n",
    "last_session_time_df = behaviors_val.select(['session_id', 'user_id', 'impression_time', 'article_ids_inview', 'article_ids_clicked']) \\\n",
    "    .group_by('session_id').agg(\n",
    "        pl.col('user_id').first(), \n",
    "        pl.col('impression_time').max().alias('session_time'), \n",
    "        pl.col('article_ids_inview').flatten().alias('all_seen_articles'),\n",
    "        (pl.col('impression_time').max() - pl.col('impression_time').min()).dt.total_minutes().alias('session_duration'),\n",
    "    ).with_columns(\n",
    "        pl.col(['session_time', 'session_duration']).shift(1).over('user_id').name.prefix('last_'),\n",
    "        pl.col('all_seen_articles').list.unique().shift(1).over('user_id'),\n",
    "        pl.col('session_duration').rolling_mean(100, min_periods=1).over('user_id').alias('mean_prev_sessions_duration'),\n",
    "    ).with_columns(pl.col(['last_session_duration']).fill_null(0)) \\\n",
    "    .join(last_history_df, on='user_id', how='left') \\\n",
    "    .with_columns(\n",
    "        pl.col('last_session_time').fill_null(pl.col('last_history_impression_time')),\n",
    "        pl.col('all_seen_articles').fill_null(pl.col('last_history_article')),\n",
    "    ).select(['session_id', 'last_session_time', 'last_session_duration',\n",
    "              'all_seen_articles', 'mean_prev_sessions_duration'])"
   ]
  },
  {
   "cell_type": "code",
   "execution_count": 50,
   "id": "e7d0ba36",
   "metadata": {
    "execution": {
     "iopub.execute_input": "2024-04-09T23:05:33.769342Z",
     "iopub.status.busy": "2024-04-09T23:05:33.768645Z",
     "iopub.status.idle": "2024-04-09T23:08:41.258587Z",
     "shell.execute_reply": "2024-04-09T23:08:41.257003Z"
    },
    "papermill": {
     "duration": 187.551446,
     "end_time": "2024-04-09T23:08:41.261977",
     "exception": false,
     "start_time": "2024-04-09T23:05:33.710531",
     "status": "completed"
    },
    "tags": []
   },
   "outputs": [
    {
     "name": "stdout",
     "output_type": "stream",
     "text": [
      "\u001b[1m\u001b[31m\n",
      "RAM memory GB usage = 5.914\u001b[0m\n",
      "Memory usage of dataframe is 530.72 MB\n",
      "Memory usage after optimization is: 360.33 MB\n",
      "Decreased by 32.1%\n",
      "\u001b[1m\u001b[31m\n",
      "RAM memory GB usage = 5.721\u001b[0m\n",
      "CPU times: user 10min 7s, sys: 33.2 s, total: 10min 40s\n",
      "Wall time: 3min 7s\n"
     ]
    },
    {
     "data": {
      "text/html": [
       "<div><style>\n",
       ".dataframe > thead > tr,\n",
       ".dataframe > tbody > tr {\n",
       "  text-align: right;\n",
       "  white-space: pre-wrap;\n",
       "}\n",
       "</style>\n",
       "<small>shape: (5, 49)</small><table border=\"1\" class=\"dataframe\"><thead><tr><th>impression_id</th><th>article</th><th>user_id</th><th>impression_time</th><th>target</th><th>device_type</th><th>read_time</th><th>scroll_percentage</th><th>is_sso_user</th><th>gender</th><th>age</th><th>is_subscriber</th><th>mean_topics_mean_delay_days</th><th>mean_topics_mean_delay_hours</th><th>user_mean_delay_days</th><th>user_mean_delay_hours</th><th>trendiness_score</th><th>mean_user_trendiness_score</th><th>mean_topics_trendiness_score</th><th>weekday</th><th>hour</th><th>premium</th><th>category</th><th>sentiment_score</th><th>sentiment_label</th><th>num_images</th><th>title_len</th><th>subtitle_len</th><th>body_len</th><th>article_delay_days</th><th>article_delay_hours</th><th>Entity_EVENT_Present</th><th>Entity_ORG_Present</th><th>Entity_LOC_Present</th><th>Entity_PER_Present</th><th>Entity_PROD_Present</th><th>Entity_MISC_Present</th><th>last_session_duration</th><th>mean_prev_sessions_duration</th><th>last_session_time_hour_diff</th><th>is_new_article</th><th>is_already_seen_article</th><th>yesterday_category_daily_pct</th><th>total_ner_svd_scores</th><th>mean_ner_svd_scores</th><th>max_ner_svd_scores</th><th>total_ner_item_knn_scores</th><th>mean_ner_item_knn_scores</th><th>max_ner_item_knn_scores</th></tr><tr><td>u32</td><td>i32</td><td>u32</td><td>date</td><td>i8</td><td>i8</td><td>f32</td><td>f32</td><td>bool</td><td>i8</td><td>i8</td><td>bool</td><td>f32</td><td>f32</td><td>f32</td><td>f32</td><td>i16</td><td>f32</td><td>f32</td><td>i8</td><td>i8</td><td>bool</td><td>i16</td><td>f32</td><td>str</td><td>u32</td><td>u8</td><td>u8</td><td>u16</td><td>i16</td><td>i32</td><td>bool</td><td>bool</td><td>bool</td><td>bool</td><td>bool</td><td>bool</td><td>i8</td><td>f32</td><td>i16</td><td>bool</td><td>bool</td><td>f32</td><td>f32</td><td>f32</td><td>f32</td><td>f32</td><td>f32</td><td>f32</td></tr></thead><tbody><tr><td>96798</td><td>9784489</td><td>22548</td><td>2023-05-27</td><td>0</td><td>2</td><td>46.0</td><td>null</td><td>false</td><td>2</td><td>null</td><td>false</td><td>4.118936</td><td>101.51181</td><td>0.023077</td><td>2.846154</td><td>407</td><td>224.653839</td><td>372.922729</td><td>7</td><td>4</td><td>false</td><td>142</td><td>0.7287</td><td>&quot;Neutral&quot;</td><td>3</td><td>5</td><td>35</td><td>447</td><td>0</td><td>10</td><td>false</td><td>true</td><td>true</td><td>true</td><td>true</td><td>true</td><td>17</td><td>8.5</td><td>-71</td><td>true</td><td>false</td><td>0.357143</td><td>-0.01515</td><td>-0.007881</td><td>0.02264</td><td>0.044049</td><td>0.023435</td><td>0.023035</td></tr><tr><td>96798</td><td>9777026</td><td>22548</td><td>2023-05-27</td><td>0</td><td>2</td><td>46.0</td><td>null</td><td>false</td><td>2</td><td>null</td><td>false</td><td>14.008358</td><td>339.097809</td><td>0.023077</td><td>2.846154</td><td>336</td><td>224.653839</td><td>290.947235</td><td>7</td><td>4</td><td>false</td><td>414</td><td>0.5496</td><td>&quot;Neutral&quot;</td><td>2</td><td>9</td><td>16</td><td>225</td><td>4</td><td>114</td><td>true</td><td>true</td><td>true</td><td>true</td><td>true</td><td>false</td><td>17</td><td>8.5</td><td>-71</td><td>true</td><td>false</td><td>0.107143</td><td>-0.012665</td><td>-0.012444</td><td>0.000038</td><td>0.036378</td><td>0.036557</td><td>0.020279</td></tr><tr><td>96818</td><td>9784710</td><td>22548</td><td>2023-05-27</td><td>0</td><td>2</td><td>6.0</td><td>null</td><td>false</td><td>2</td><td>null</td><td>false</td><td>5.399225</td><td>132.029892</td><td>0.023077</td><td>2.846154</td><td>465</td><td>224.653839</td><td>362.710724</td><td>7</td><td>4</td><td>false</td><td>142</td><td>0.8887</td><td>&quot;Positive&quot;</td><td>2</td><td>8</td><td>5</td><td>201</td><td>0</td><td>6</td><td>false</td><td>true</td><td>true</td><td>true</td><td>false</td><td>false</td><td>2</td><td>5.3</td><td>-64</td><td>true</td><td>false</td><td>0.357143</td><td>0.189449</td><td>0.17993</td><td>0.231078</td><td>0.202137</td><td>0.189684</td><td>0.216801</td></tr><tr><td>96821</td><td>9784575</td><td>22548</td><td>2023-05-27</td><td>0</td><td>2</td><td>43.0</td><td>null</td><td>false</td><td>2</td><td>null</td><td>false</td><td>18.391716</td><td>444.412628</td><td>0.023077</td><td>2.846154</td><td>217</td><td>224.653839</td><td>258.222717</td><td>7</td><td>4</td><td>false</td><td>414</td><td>0.9949</td><td>&quot;Negative&quot;</td><td>1</td><td>7</td><td>25</td><td>285</td><td>0</td><td>9</td><td>false</td><td>true</td><td>false</td><td>true</td><td>true</td><td>false</td><td>17</td><td>8.5</td><td>-71</td><td>true</td><td>false</td><td>0.107143</td><td>0.024311</td><td>0.027933</td><td>0.018781</td><td>0.01452</td><td>0.016801</td><td>0.011983</td></tr><tr><td>99431</td><td>9784804</td><td>32455</td><td>2023-05-27</td><td>0</td><td>2</td><td>134.0</td><td>100.0</td><td>false</td><td>2</td><td>null</td><td>false</td><td>5.697979</td><td>139.346649</td><td>0.0</td><td>1.177419</td><td>197</td><td>191.1129</td><td>257.539276</td><td>7</td><td>4</td><td>false</td><td>118</td><td>0.9378</td><td>&quot;Neutral&quot;</td><td>1</td><td>9</td><td>17</td><td>383</td><td>0</td><td>0</td><td>false</td><td>true</td><td>true</td><td>true</td><td>true</td><td>false</td><td>0</td><td>0.333333</td><td>-4</td><td>true</td><td>false</td><td>0.276786</td><td>0.365459</td><td>0.306859</td><td>0.253495</td><td>0.329987</td><td>0.282119</td><td>0.19996</td></tr></tbody></table></div>"
      ],
      "text/plain": [
       "shape: (5, 49)\n",
       "┌────────────┬─────────┬─────────┬────────────┬───┬────────────┬───────────┬───────────┬───────────┐\n",
       "│ impression ┆ article ┆ user_id ┆ impression ┆ … ┆ max_ner_sv ┆ total_ner ┆ mean_ner_ ┆ max_ner_i │\n",
       "│ _id        ┆ ---     ┆ ---     ┆ _time      ┆   ┆ d_scores   ┆ _item_knn ┆ item_knn_ ┆ tem_knn_s │\n",
       "│ ---        ┆ i32     ┆ u32     ┆ ---        ┆   ┆ ---        ┆ _scores   ┆ scores    ┆ cores     │\n",
       "│ u32        ┆         ┆         ┆ date       ┆   ┆ f32        ┆ ---       ┆ ---       ┆ ---       │\n",
       "│            ┆         ┆         ┆            ┆   ┆            ┆ f32       ┆ f32       ┆ f32       │\n",
       "╞════════════╪═════════╪═════════╪════════════╪═══╪════════════╪═══════════╪═══════════╪═══════════╡\n",
       "│ 96798      ┆ 9784489 ┆ 22548   ┆ 2023-05-27 ┆ … ┆ 0.02264    ┆ 0.044049  ┆ 0.023435  ┆ 0.023035  │\n",
       "│ 96798      ┆ 9777026 ┆ 22548   ┆ 2023-05-27 ┆ … ┆ 0.000038   ┆ 0.036378  ┆ 0.036557  ┆ 0.020279  │\n",
       "│ 96818      ┆ 9784710 ┆ 22548   ┆ 2023-05-27 ┆ … ┆ 0.231078   ┆ 0.202137  ┆ 0.189684  ┆ 0.216801  │\n",
       "│ 96821      ┆ 9784575 ┆ 22548   ┆ 2023-05-27 ┆ … ┆ 0.018781   ┆ 0.01452   ┆ 0.016801  ┆ 0.011983  │\n",
       "│ 99431      ┆ 9784804 ┆ 32455   ┆ 2023-05-27 ┆ … ┆ 0.253495   ┆ 0.329987  ┆ 0.282119  ┆ 0.19996   │\n",
       "└────────────┴─────────┴─────────┴────────────┴───┴────────────┴───────────┴───────────┴───────────┘"
      ]
     },
     "execution_count": 50,
     "metadata": {},
     "output_type": "execute_result"
    }
   ],
   "source": [
    "%%time\n",
    "\n",
    "NPRATIO = 2\n",
    "\n",
    "# dropping duplicates that can occur because of sampling strategy\n",
    "val_ds = behaviors_val.pipe(create_binary_labels_column, shuffle=True, seed=123) \\\n",
    "    .with_columns(pl.col('gender').fill_null(2)) \\\n",
    "    .select(['impression_id', 'article_ids_inview', 'impression_time', 'labels', \n",
    "             'device_type', 'read_time', 'scroll_percentage', 'user_id', 'is_sso_user', 'gender',\n",
    "             'age', 'is_subscriber', 'session_id']) \\\n",
    "    .explode(['article_ids_inview', 'labels']) \\\n",
    "    .rename({'article_ids_inview': 'article', 'labels': 'target'}) \\\n",
    "    .with_columns(pl.col('article').cast(pl.Int32)) \\\n",
    "    .pipe(add_mean_delays_features, articles=articles, history=history_val) \\\n",
    "    .pipe(add_trendiness_feature, articles=articles, period='3d') \\\n",
    "    .pipe(add_history_trendiness_scores_feature, history=history_val, articles=articles) \\\n",
    "    .unique(['impression_id', 'article']) \\\n",
    "    .with_columns(\n",
    "        pl.col('impression_time').dt.weekday().alias('weekday'),\n",
    "        pl.col('impression_time').dt.hour().alias('hour'),\n",
    "        pl.col('article').cast(pl.Int32),\n",
    "    ).join(articles.select(['article_id', 'premium', 'published_time', 'category',\n",
    "                            'sentiment_score', 'sentiment_label', 'entity_groups',\n",
    "                            'num_images', 'title_len', 'subtitle_len', 'body_len']),\n",
    "           left_on='article', right_on='article_id', how='left') \\\n",
    "    .with_columns(\n",
    "        (pl.col('impression_time') - pl.col('published_time')).dt.total_days().alias('article_delay_days'),\n",
    "        (pl.col('impression_time') - pl.col('published_time')).dt.total_hours().alias('article_delay_hours')\n",
    "    ).with_columns(\n",
    "        pl.col('entity_groups').list.contains(entity).alias(f'Entity_{entity}_Present')\n",
    "        for entity in unique_entities\n",
    "    ).drop('entity_groups') \\\n",
    "    .join(last_session_time_df, on='session_id', how='left').with_columns(\n",
    "        (pl.col('impression_time') - pl.col('last_session_time')).dt.total_hours().alias('last_session_time_hour_diff'),\n",
    "        ((pl.col('last_session_time') - pl.col('published_time')).dt.total_hours() > 0).alias('is_new_article'),\n",
    "        pl.col('all_seen_articles').list.contains(pl.col('article')).alias('is_already_seen_article'),\n",
    "    ).drop(['published_time', 'session_id', 'all_seen_articles', 'last_session_time']) \\\n",
    "    .join(published_category_popularity, how='left', right_on=['published_date', 'category'],\n",
    "          left_on=[pl.col('impression_time').dt.date() - pl.duration(days=1), 'category']) \\\n",
    "    .rename({'category_daily_pct': 'yesterday_category_daily_pct'}) \\\n",
    "    .with_columns(pl.col('yesterday_category_daily_pct').fill_null(0)) \\\n",
    "    .join(behaviors_ner_scores, on=['impression_id', 'article'], how='left')\n",
    "\n",
    "gc.collect()\n",
    "PrintColor(f\"\\n\" + GetMemUsage(), color = Fore.RED)\n",
    "\n",
    "val_ds = reduce_polars_df_memory_size(val_ds)\n",
    "PrintColor(f\"\\n\" + GetMemUsage(), color = Fore.RED)\n",
    "val_ds.head()"
   ]
  },
  {
   "cell_type": "code",
   "execution_count": 51,
   "id": "96944981",
   "metadata": {
    "execution": {
     "iopub.execute_input": "2024-04-09T23:08:41.380582Z",
     "iopub.status.busy": "2024-04-09T23:08:41.379489Z",
     "iopub.status.idle": "2024-04-09T23:08:41.388625Z",
     "shell.execute_reply": "2024-04-09T23:08:41.387196Z"
    },
    "papermill": {
     "duration": 0.07126,
     "end_time": "2024-04-09T23:08:41.391511",
     "exception": false,
     "start_time": "2024-04-09T23:08:41.320251",
     "status": "completed"
    },
    "tags": []
   },
   "outputs": [
    {
     "data": {
      "text/plain": [
       "(2928942, 49)"
      ]
     },
     "execution_count": 51,
     "metadata": {},
     "output_type": "execute_result"
    }
   ],
   "source": [
    "val_ds.shape"
   ]
  },
  {
   "cell_type": "code",
   "execution_count": 52,
   "id": "ba9d7eda",
   "metadata": {
    "execution": {
     "iopub.execute_input": "2024-04-09T23:08:41.510392Z",
     "iopub.status.busy": "2024-04-09T23:08:41.509139Z",
     "iopub.status.idle": "2024-04-09T23:50:50.783115Z",
     "shell.execute_reply": "2024-04-09T23:50:50.781628Z"
    },
    "papermill": {
     "duration": 2529.336387,
     "end_time": "2024-04-09T23:50:50.786225",
     "exception": false,
     "start_time": "2024-04-09T23:08:41.449838",
     "status": "completed"
    },
    "tags": []
   },
   "outputs": [
    {
     "name": "stderr",
     "output_type": "stream",
     "text": [
      "293it [42:05,  8.62s/it]\n"
     ]
    },
    {
     "name": "stdout",
     "output_type": "stream",
     "text": [
      "Memory usage of dataframe is 1550.96 MB\n",
      "Memory usage after optimization is: 1118.00 MB\n",
      "Decreased by 27.9%\n",
      "\u001b[1m\u001b[31m\n",
      "RAM memory GB usage = 7.737\u001b[0m\n"
     ]
    },
    {
     "data": {
      "text/html": [
       "<div><style>\n",
       ".dataframe > thead > tr,\n",
       ".dataframe > tbody > tr {\n",
       "  text-align: right;\n",
       "  white-space: pre-wrap;\n",
       "}\n",
       "</style>\n",
       "<small>shape: (5, 121)</small><table border=\"1\" class=\"dataframe\"><thead><tr><th>impression_id</th><th>article</th><th>user_id</th><th>target</th><th>device_type</th><th>read_time</th><th>scroll_percentage</th><th>is_sso_user</th><th>gender</th><th>age</th><th>is_subscriber</th><th>mean_topics_mean_delay_days</th><th>mean_topics_mean_delay_hours</th><th>user_mean_delay_days</th><th>user_mean_delay_hours</th><th>trendiness_score</th><th>mean_user_trendiness_score</th><th>mean_topics_trendiness_score</th><th>weekday</th><th>hour</th><th>premium</th><th>category</th><th>sentiment_score</th><th>sentiment_label</th><th>num_images</th><th>title_len</th><th>subtitle_len</th><th>body_len</th><th>article_delay_days</th><th>article_delay_hours</th><th>Entity_EVENT_Present</th><th>Entity_ORG_Present</th><th>Entity_LOC_Present</th><th>Entity_PER_Present</th><th>Entity_PROD_Present</th><th>Entity_MISC_Present</th><th>total_ner_svd_scores</th><th>&hellip;</th><th>MostFrequentWeekday</th><th>MostFrequentHour</th><th>EVENTPct</th><th>ORGPct</th><th>LOCPct</th><th>PERPct</th><th>PRODPct</th><th>MISCPct</th><th>topics_cosine</th><th>IsFavouriteCategory</th><th>NumberDifferentCategories</th><th>PctCategoryMatches</th><th>Category_side9_Pct</th><th>Category_bibliotek_Pct</th><th>Category_ferie_Pct</th><th>Category_underholdning_Pct</th><th>Category_penge_Pct</th><th>Category_krimi_Pct</th><th>Category_vin_Pct</th><th>Category_forbrug_Pct</th><th>Category_haandvaerkeren_Pct</th><th>Category_horoskoper_Pct</th><th>Category_dagsorden_Pct</th><th>Category_musik_Pct</th><th>Category_auto_Pct</th><th>Category_podcast_Pct</th><th>Category_plus_Pct</th><th>Category_services_Pct</th><th>Category_sport_Pct</th><th>Category_incoming_Pct</th><th>Category_biler_Pct</th><th>Category_om_ekstra_bladet_Pct</th><th>Category_opinionen_Pct</th><th>Category_nyheder_Pct</th><th>Category_video_Pct</th><th>Category_nationen_Pct</th><th>Category_sex_og_samliv_Pct</th></tr><tr><td>u32</td><td>i32</td><td>u32</td><td>i8</td><td>i8</td><td>f32</td><td>f32</td><td>bool</td><td>i8</td><td>i8</td><td>bool</td><td>f32</td><td>f32</td><td>f32</td><td>f32</td><td>i16</td><td>f32</td><td>f32</td><td>i8</td><td>i8</td><td>bool</td><td>i16</td><td>f32</td><td>str</td><td>u32</td><td>u8</td><td>u8</td><td>u16</td><td>i16</td><td>i32</td><td>bool</td><td>bool</td><td>bool</td><td>bool</td><td>bool</td><td>bool</td><td>f32</td><td>&hellip;</td><td>i8</td><td>i8</td><td>f32</td><td>f32</td><td>f32</td><td>f32</td><td>f32</td><td>f32</td><td>f32</td><td>bool</td><td>u8</td><td>f32</td><td>f32</td><td>f32</td><td>f32</td><td>f32</td><td>f32</td><td>f32</td><td>f32</td><td>f32</td><td>f32</td><td>f32</td><td>f32</td><td>f32</td><td>f32</td><td>f32</td><td>f32</td><td>f32</td><td>f32</td><td>f32</td><td>f32</td><td>f32</td><td>f32</td><td>f32</td><td>f32</td><td>f32</td><td>f32</td></tr></thead><tbody><tr><td>146878</td><td>9785828</td><td>84583</td><td>0</td><td>2</td><td>8.0</td><td>null</td><td>false</td><td>2</td><td>null</td><td>false</td><td>2.824303</td><td>70.13401</td><td>0.22871</td><td>8.63017</td><td>350</td><td>299.236023</td><td>393.217255</td><td>2</td><td>14</td><td>false</td><td>142</td><td>0.8393</td><td>&quot;Positive&quot;</td><td>2</td><td>7</td><td>21</td><td>274</td><td>1</td><td>42</td><td>false</td><td>false</td><td>true</td><td>true</td><td>false</td><td>true</td><td>0.281503</td><td>&hellip;</td><td>6</td><td>10</td><td>0.3309</td><td>0.914842</td><td>0.788321</td><td>0.89781</td><td>0.270073</td><td>0.304136</td><td>0.719319</td><td>true</td><td>10</td><td>0.978102</td><td>0.0</td><td>0.0</td><td>0.002433</td><td>0.145985</td><td>0.002433</td><td>0.116788</td><td>0.0</td><td>0.009732</td><td>0.0</td><td>0.0</td><td>0.0</td><td>0.009732</td><td>0.0</td><td>0.0</td><td>0.0</td><td>0.0</td><td>0.501217</td><td>0.0</td><td>0.002433</td><td>0.0</td><td>0.0</td><td>0.189781</td><td>0.0</td><td>0.019465</td><td>0.0</td></tr><tr><td>147618</td><td>9785732</td><td>87032</td><td>0</td><td>1</td><td>13.0</td><td>null</td><td>false</td><td>2</td><td>null</td><td>false</td><td>4.118936</td><td>101.51181</td><td>0.0</td><td>2.68</td><td>483</td><td>152.880005</td><td>372.922729</td><td>2</td><td>14</td><td>false</td><td>142</td><td>0.8643</td><td>&quot;Neutral&quot;</td><td>3</td><td>6</td><td>23</td><td>425</td><td>1</td><td>43</td><td>false</td><td>true</td><td>true</td><td>true</td><td>false</td><td>true</td><td>-0.003859</td><td>&hellip;</td><td>3</td><td>15</td><td>0.12</td><td>0.92</td><td>0.72</td><td>0.88</td><td>0.4</td><td>0.12</td><td>0.097573</td><td>false</td><td>7</td><td>0.76</td><td>0.0</td><td>0.0</td><td>0.0</td><td>0.28</td><td>0.08</td><td>0.12</td><td>0.0</td><td>0.04</td><td>0.0</td><td>0.0</td><td>0.0</td><td>0.0</td><td>0.0</td><td>0.0</td><td>0.0</td><td>0.0</td><td>0.04</td><td>0.0</td><td>0.0</td><td>0.0</td><td>0.0</td><td>0.4</td><td>0.0</td><td>0.04</td><td>0.0</td></tr><tr><td>196611</td><td>9777200</td><td>760890</td><td>0</td><td>2</td><td>18.0</td><td>null</td><td>false</td><td>2</td><td>null</td><td>false</td><td>4.460537</td><td>109.404533</td><td>36.209679</td><td>870.451599</td><td>391</td><td>220.145157</td><td>348.668915</td><td>6</td><td>19</td><td>true</td><td>142</td><td>0.9612</td><td>&quot;Neutral&quot;</td><td>6</td><td>8</td><td>24</td><td>657</td><td>0</td><td>6</td><td>true</td><td>true</td><td>true</td><td>true</td><td>false</td><td>false</td><td>0.258348</td><td>&hellip;</td><td>3</td><td>18</td><td>0.225806</td><td>0.903226</td><td>0.758065</td><td>0.903226</td><td>0.387097</td><td>0.177419</td><td>0.288053</td><td>false</td><td>6</td><td>0.919355</td><td>0.0</td><td>0.0</td><td>0.0</td><td>0.322581</td><td>0.032258</td><td>0.225806</td><td>0.0</td><td>0.016129</td><td>0.0</td><td>0.0</td><td>0.0</td><td>0.0</td><td>0.0</td><td>0.0</td><td>0.0</td><td>0.0</td><td>0.16129</td><td>0.0</td><td>0.0</td><td>0.0</td><td>0.0</td><td>0.241935</td><td>0.0</td><td>0.0</td><td>0.0</td></tr><tr><td>199016</td><td>9782763</td><td>769849</td><td>0</td><td>2</td><td>93.0</td><td>null</td><td>false</td><td>2</td><td>null</td><td>false</td><td>9.084131</td><td>220.870483</td><td>0.047826</td><td>4.26087</td><td>75</td><td>260.117401</td><td>271.363159</td><td>6</td><td>19</td><td>false</td><td>414</td><td>0.4785</td><td>&quot;Positive&quot;</td><td>1</td><td>4</td><td>22</td><td>370</td><td>0</td><td>3</td><td>false</td><td>true</td><td>true</td><td>true</td><td>true</td><td>false</td><td>0.001089</td><td>&hellip;</td><td>2</td><td>6</td><td>0.321739</td><td>0.869565</td><td>0.778261</td><td>0.891304</td><td>0.252174</td><td>0.313043</td><td>0.161392</td><td>false</td><td>9</td><td>0.965217</td><td>0.004348</td><td>0.0</td><td>0.004348</td><td>0.182609</td><td>0.0</td><td>0.126087</td><td>0.0</td><td>0.013043</td><td>0.0</td><td>0.0</td><td>0.0</td><td>0.021739</td><td>0.0</td><td>0.0</td><td>0.0</td><td>0.0</td><td>0.404348</td><td>0.0</td><td>0.0</td><td>0.0</td><td>0.0</td><td>0.226087</td><td>0.0</td><td>0.017391</td><td>0.0</td></tr><tr><td>199149</td><td>9782656</td><td>770287</td><td>0</td><td>2</td><td>10.0</td><td>100.0</td><td>false</td><td>2</td><td>null</td><td>false</td><td>6.368984</td><td>155.472488</td><td>3.132948</td><td>77.236992</td><td>81</td><td>249.763</td><td>226.45549</td><td>6</td><td>19</td><td>false</td><td>457</td><td>0.7073</td><td>&quot;Neutral&quot;</td><td>3</td><td>10</td><td>21</td><td>335</td><td>0</td><td>0</td><td>false</td><td>true</td><td>true</td><td>false</td><td>false</td><td>true</td><td>0.153348</td><td>&hellip;</td><td>3</td><td>19</td><td>0.312139</td><td>0.924855</td><td>0.83815</td><td>0.919075</td><td>0.277457</td><td>0.283237</td><td>0.061719</td><td>false</td><td>8</td><td>0.959538</td><td>0.0</td><td>0.0</td><td>0.0</td><td>0.179191</td><td>0.028902</td><td>0.115607</td><td>0.0</td><td>0.00578</td><td>0.0</td><td>0.0</td><td>0.0</td><td>0.034682</td><td>0.0</td><td>0.0</td><td>0.0</td><td>0.0</td><td>0.323699</td><td>0.0</td><td>0.0</td><td>0.0</td><td>0.0</td><td>0.277457</td><td>0.0</td><td>0.034682</td><td>0.0</td></tr></tbody></table></div>"
      ],
      "text/plain": [
       "shape: (5, 121)\n",
       "┌─────────────┬─────────┬─────────┬────────┬───┬────────────┬────────────┬────────────┬────────────┐\n",
       "│ impression_ ┆ article ┆ user_id ┆ target ┆ … ┆ Category_n ┆ Category_v ┆ Category_n ┆ Category_s │\n",
       "│ id          ┆ ---     ┆ ---     ┆ ---    ┆   ┆ yheder_Pct ┆ ideo_Pct   ┆ ationen_Pc ┆ ex_og_saml │\n",
       "│ ---         ┆ i32     ┆ u32     ┆ i8     ┆   ┆ ---        ┆ ---        ┆ t          ┆ iv_Pct     │\n",
       "│ u32         ┆         ┆         ┆        ┆   ┆ f32        ┆ f32        ┆ ---        ┆ ---        │\n",
       "│             ┆         ┆         ┆        ┆   ┆            ┆            ┆ f32        ┆ f32        │\n",
       "╞═════════════╪═════════╪═════════╪════════╪═══╪════════════╪════════════╪════════════╪════════════╡\n",
       "│ 146878      ┆ 9785828 ┆ 84583   ┆ 0      ┆ … ┆ 0.189781   ┆ 0.0        ┆ 0.019465   ┆ 0.0        │\n",
       "│ 147618      ┆ 9785732 ┆ 87032   ┆ 0      ┆ … ┆ 0.4        ┆ 0.0        ┆ 0.04       ┆ 0.0        │\n",
       "│ 196611      ┆ 9777200 ┆ 760890  ┆ 0      ┆ … ┆ 0.241935   ┆ 0.0        ┆ 0.0        ┆ 0.0        │\n",
       "│ 199016      ┆ 9782763 ┆ 769849  ┆ 0      ┆ … ┆ 0.226087   ┆ 0.0        ┆ 0.017391   ┆ 0.0        │\n",
       "│ 199149      ┆ 9782656 ┆ 770287  ┆ 0      ┆ … ┆ 0.277457   ┆ 0.0        ┆ 0.034682   ┆ 0.0        │\n",
       "└─────────────┴─────────┴─────────┴────────┴───┴────────────┴────────────┴────────────┴────────────┘"
      ]
     },
     "execution_count": 52,
     "metadata": {},
     "output_type": "execute_result"
    }
   ],
   "source": [
    "prev_columns = [c for c in val_ds.columns if c not in ['impression_id', 'article', 'impression_time']]\n",
    "\n",
    "val_ds = pl.concat(\n",
    "    rows.join(history_val.select(['user_id', 'article_id_fixed', 'impression_time_fixed']), on='user_id', how='left') \\\n",
    "        .join(articles.select(['article_id', 'topics', 'entity_groups', 'topics_idf'] + topic_model_columns), \n",
    "              left_on='article', right_on='article_id', how='left') \\\n",
    "        .explode(['article_id_fixed', 'impression_time_fixed']) \\\n",
    "        .join(articles.select(['article_id', 'topics', 'entity_groups'] + topic_model_columns), \n",
    "              left_on='article_id_fixed', right_on='article_id', how='left') \\\n",
    "        .rename({'topics_right': 'topics_history', 'entity_groups_right': 'entity_groups_history'}) \\\n",
    "        .rename({f'topic_model_embedding_{i}_right': f'topic_model_embedding_{i}_history' for i in range(N_COMPONENTS)}) \\\n",
    "        .with_columns(\n",
    "            # 1/delay gives the weight for the weighted mean of the lda embeddings\n",
    "            (1 / (pl.col('impression_time') - pl.col('impression_time_fixed')).dt.total_hours()).alias('history_weight'),\n",
    "            (pl.col(\"topics\").list.set_intersection(pl.col(\"topics_history\")).list.len().truediv(\n",
    "                pl.col(\"topics\").list.set_union(pl.col(\"topics_history\")).list.len()\n",
    "            )).alias(\"JS\"),\n",
    "            pl.col('entity_groups').list.set_intersection(pl.col('entity_groups_history')).list.len().alias('common_entities'),\n",
    "        ).drop(['entity_groups_history', 'entity_groups', 'topics', 'topics_history']) \\\n",
    "        .with_columns(\n",
    "            # summing delays to normalize them before weighted mean\n",
    "            pl.col('history_weight').sum().over(['impression_id', 'article']).alias('history_weight_sum'),\n",
    "            *[pl.col(x).mul(pl.col(f'{x}_history')).alias(f'{x}_dot') for x in topic_model_columns],\n",
    "            *[pl.col(x).mul(pl.col(x)) for x in topic_model_columns],\n",
    "            *[pl.col(f'{x}_history').mul(pl.col(f'{x}_history')).alias(f'{x}_history_square') for x in topic_model_columns],\n",
    "        ).with_columns(\n",
    "            # weights now sum to 1\n",
    "            pl.col('history_weight').truediv(pl.col('history_weight_sum')),\n",
    "            pl.sum_horizontal(topic_model_columns).sqrt().alias('topic_model_norm'),\n",
    "            pl.sum_horizontal([f'{x}_history_square' for x in topic_model_columns]).sqrt().alias('topic_model_history_norm'),\n",
    "            pl.sum_horizontal([f'{x}_dot' for x in topic_model_columns]).alias('topic_model_dot'),\n",
    "        ).with_columns(\n",
    "            *[pl.col(f'{x}_history').mul(pl.col('history_weight')).alias(f'{x}_history_weighted') for i, x in enumerate(topic_model_columns)],\n",
    "            pl.col('topic_model_dot').truediv(pl.col('topic_model_norm').mul('topic_model_history_norm')).alias('topic_model_cosine')\n",
    "        ).group_by(['impression_id', 'article']).agg(\n",
    "            pl.col(prev_train_columns).first(),\n",
    "            pl.col('topics_idf').first(),\n",
    "            pl.col('common_entities').mean().alias('MeanCommonEntities'),\n",
    "            pl.col('common_entities').max().alias('MaxCommonEntities'),\n",
    "            pl.col(\"JS\").mean().alias(\"mean_JS\"),\n",
    "            pl.col(\"JS\").min().alias(\"min_JS\"),\n",
    "            pl.col(\"JS\").max().alias(\"max_JS\"),\n",
    "            pl.col(\"JS\").std().alias(\"std_JS\"),\n",
    "            pl.col(\"JS\").mul(pl.col(\"history_weight\")).sum().alias(\"weighted_mean_JS\"),\n",
    "            pl.col(\"topic_model_cosine\").mean().alias(\"mean_topic_model_cosine\"),\n",
    "            pl.col(\"topic_model_cosine\").min().alias(\"min_topic_model_cosine\"),\n",
    "            pl.col(\"topic_model_cosine\").max().alias(\"max_topic_model_cosine\"),\n",
    "            pl.col(\"topic_model_cosine\").std().alias(\"std_topic_model_cosine\"),\n",
    "            pl.col(\"topic_model_cosine\").mul(pl.col(\"history_weight\")).sum().alias(\"weighted_mean_topic_model_cosine\"),\n",
    "            *[pl.col(f'{x}_history').mean().alias(f'lda_{i}_history_mean') for i, x in enumerate(topic_model_columns)],\n",
    "            *[pl.col(f'{x}_history_weighted').sum().alias(f'lda_{i}_history_weighted_mean') for i, x in enumerate(topic_model_columns)]\n",
    "        ).join(history_val.drop(['article_id_fixed', 'impression_time_fixed']), on='user_id', how='left') \\\n",
    "        .with_columns(\n",
    "            pl.struct(['topics_idf', 'topics_flatten_tf_idf']).map_elements(\n",
    "                lambda x: cosine_similarity(x['topics_idf'], x['topics_flatten_tf_idf']), return_dtype=pl.Float64\n",
    "            ).cast(pl.Float32).alias('topics_cosine'),\n",
    "            (pl.col('category') == pl.col('MostFrequentCategory')).alias('IsFavouriteCategory'),\n",
    "            pl.col('category_right').list.n_unique().alias('NumberDifferentCategories'),\n",
    "            list_pct_matches_with_col('category_right', 'category').alias('PctCategoryMatches'),\n",
    "        ).with_columns(\n",
    "            [list_pct_matches_with_constant('category_right', c).alias(f'Category_{c_str}_Pct')\n",
    "             for c, c_str in unique_categories.items()]\n",
    "        ).drop(['topics_idf', 'topics_flatten', 'topics_flatten_tf_idf', 'category_right'])\n",
    "    for rows in tqdm.tqdm(val_ds.iter_slices(10000), total=val_ds.shape[0] // 10000)\n",
    ")\n",
    "\n",
    "val_ds = reduce_polars_df_memory_size(val_ds)\n",
    "PrintColor(f\"\\n\" + GetMemUsage(), color = Fore.RED)\n",
    "val_ds.head()"
   ]
  },
  {
   "cell_type": "code",
   "execution_count": 53,
   "id": "93baf61d",
   "metadata": {
    "execution": {
     "iopub.execute_input": "2024-04-09T23:50:50.959926Z",
     "iopub.status.busy": "2024-04-09T23:50:50.959524Z",
     "iopub.status.idle": "2024-04-09T23:50:51.376549Z",
     "shell.execute_reply": "2024-04-09T23:50:51.375214Z"
    },
    "papermill": {
     "duration": 0.506936,
     "end_time": "2024-04-09T23:50:51.379619",
     "exception": false,
     "start_time": "2024-04-09T23:50:50.872683",
     "status": "completed"
    },
    "tags": []
   },
   "outputs": [
    {
     "data": {
      "text/plain": [
       "0"
      ]
     },
     "execution_count": 53,
     "metadata": {},
     "output_type": "execute_result"
    }
   ],
   "source": [
    "del history_val\n",
    "del articles\n",
    "del behaviors_val\n",
    "\n",
    "gc.collect()"
   ]
  },
  {
   "cell_type": "code",
   "execution_count": 54,
   "id": "ede4a24a",
   "metadata": {
    "execution": {
     "iopub.execute_input": "2024-04-09T23:50:51.559055Z",
     "iopub.status.busy": "2024-04-09T23:50:51.558527Z",
     "iopub.status.idle": "2024-04-09T23:50:51.566802Z",
     "shell.execute_reply": "2024-04-09T23:50:51.565329Z"
    },
    "papermill": {
     "duration": 0.100701,
     "end_time": "2024-04-09T23:50:51.570047",
     "exception": false,
     "start_time": "2024-04-09T23:50:51.469346",
     "status": "completed"
    },
    "tags": []
   },
   "outputs": [
    {
     "data": {
      "text/plain": [
       "(2928942, 121)"
      ]
     },
     "execution_count": 54,
     "metadata": {},
     "output_type": "execute_result"
    }
   ],
   "source": [
    "val_ds.shape"
   ]
  },
  {
   "cell_type": "code",
   "execution_count": 55,
   "id": "26b6f7a4",
   "metadata": {
    "execution": {
     "iopub.execute_input": "2024-04-09T23:50:51.751245Z",
     "iopub.status.busy": "2024-04-09T23:50:51.750733Z",
     "iopub.status.idle": "2024-04-09T23:50:51.759000Z",
     "shell.execute_reply": "2024-04-09T23:50:51.757720Z"
    },
    "papermill": {
     "duration": 0.103422,
     "end_time": "2024-04-09T23:50:51.761515",
     "exception": false,
     "start_time": "2024-04-09T23:50:51.658093",
     "status": "completed"
    },
    "tags": []
   },
   "outputs": [
    {
     "data": {
      "text/plain": [
       "['device_type',\n",
       " 'is_sso_user',\n",
       " 'gender',\n",
       " 'is_subscriber',\n",
       " 'weekday',\n",
       " 'premium',\n",
       " 'category',\n",
       " 'sentiment_label',\n",
       " 'is_new_article',\n",
       " 'is_already_seen_article',\n",
       " 'MostFrequentCategory',\n",
       " 'MostFrequentWeekday',\n",
       " 'IsFavouriteCategory',\n",
       " 'Entity_EVENT_Present',\n",
       " 'Entity_ORG_Present',\n",
       " 'Entity_LOC_Present',\n",
       " 'Entity_PER_Present',\n",
       " 'Entity_PROD_Present',\n",
       " 'Entity_MISC_Present']"
      ]
     },
     "execution_count": 55,
     "metadata": {},
     "output_type": "execute_result"
    }
   ],
   "source": [
    "model.get_param('cat_features')"
   ]
  },
  {
   "cell_type": "code",
   "execution_count": 56,
   "id": "6e3ffd2a",
   "metadata": {
    "execution": {
     "iopub.execute_input": "2024-04-09T23:50:51.944976Z",
     "iopub.status.busy": "2024-04-09T23:50:51.944583Z",
     "iopub.status.idle": "2024-04-09T23:51:00.824067Z",
     "shell.execute_reply": "2024-04-09T23:51:00.822642Z"
    },
    "papermill": {
     "duration": 8.975957,
     "end_time": "2024-04-09T23:51:00.828218",
     "exception": false,
     "start_time": "2024-04-09T23:50:51.852261",
     "status": "completed"
    },
    "tags": []
   },
   "outputs": [
    {
     "data": {
      "text/html": [
       "<div><style>\n",
       ".dataframe > thead > tr,\n",
       ".dataframe > tbody > tr {\n",
       "  text-align: right;\n",
       "  white-space: pre-wrap;\n",
       "}\n",
       "</style>\n",
       "<small>shape: (2_928_942, 3)</small><table border=\"1\" class=\"dataframe\"><thead><tr><th>impression_id</th><th>target</th><th>prediction</th></tr><tr><td>u32</td><td>i8</td><td>f64</td></tr></thead><tbody><tr><td>146878</td><td>0</td><td>0.093819</td></tr><tr><td>147618</td><td>0</td><td>0.017742</td></tr><tr><td>196611</td><td>0</td><td>0.187928</td></tr><tr><td>199016</td><td>0</td><td>0.198976</td></tr><tr><td>199149</td><td>0</td><td>0.14842</td></tr><tr><td>&hellip;</td><td>&hellip;</td><td>&hellip;</td></tr><tr><td>579213206</td><td>0</td><td>0.261842</td></tr><tr><td>579233809</td><td>0</td><td>0.018124</td></tr><tr><td>579235287</td><td>0</td><td>0.134386</td></tr><tr><td>579235287</td><td>0</td><td>0.013075</td></tr><tr><td>579240613</td><td>0</td><td>0.394917</td></tr></tbody></table></div>"
      ],
      "text/plain": [
       "shape: (2_928_942, 3)\n",
       "┌───────────────┬────────┬────────────┐\n",
       "│ impression_id ┆ target ┆ prediction │\n",
       "│ ---           ┆ ---    ┆ ---        │\n",
       "│ u32           ┆ i8     ┆ f64        │\n",
       "╞═══════════════╪════════╪════════════╡\n",
       "│ 146878        ┆ 0      ┆ 0.093819   │\n",
       "│ 147618        ┆ 0      ┆ 0.017742   │\n",
       "│ 196611        ┆ 0      ┆ 0.187928   │\n",
       "│ 199016        ┆ 0      ┆ 0.198976   │\n",
       "│ 199149        ┆ 0      ┆ 0.14842    │\n",
       "│ …             ┆ …      ┆ …          │\n",
       "│ 579213206     ┆ 0      ┆ 0.261842   │\n",
       "│ 579233809     ┆ 0      ┆ 0.018124   │\n",
       "│ 579235287     ┆ 0      ┆ 0.134386   │\n",
       "│ 579235287     ┆ 0      ┆ 0.013075   │\n",
       "│ 579240613     ┆ 0      ┆ 0.394917   │\n",
       "└───────────────┴────────┴────────────┘"
      ]
     },
     "execution_count": 56,
     "metadata": {},
     "output_type": "execute_result"
    }
   ],
   "source": [
    "# impression_id will be later useful for evaluation\n",
    "val_ds_pandas = val_ds.drop(['impression_id', 'article', 'user_id']).to_pandas()\n",
    "\n",
    "val_ds_pandas[categorical_columns] = val_ds_pandas[categorical_columns].astype('category')\n",
    "\n",
    "X_val = val_ds_pandas.drop(columns=['target'])\n",
    "y_val = val_ds_pandas['target']\n",
    "\n",
    "# doing model.predict_proba(...)[:, 1] to take only the probability of class 1\n",
    "# while by doing [:, 0] we take the probability of class 0\n",
    "val_ds = val_ds.with_columns(pl.Series(model.predict_proba(X_val)[:, 1]).alias('prediction'))\n",
    "val_ds.select(['impression_id', 'target', 'prediction'])"
   ]
  },
  {
   "cell_type": "code",
   "execution_count": 57,
   "id": "5da87832",
   "metadata": {
    "execution": {
     "iopub.execute_input": "2024-04-09T23:51:01.060599Z",
     "iopub.status.busy": "2024-04-09T23:51:01.059983Z",
     "iopub.status.idle": "2024-04-09T23:51:01.882439Z",
     "shell.execute_reply": "2024-04-09T23:51:01.880215Z"
    },
    "papermill": {
     "duration": 0.931594,
     "end_time": "2024-04-09T23:51:01.887569",
     "exception": false,
     "start_time": "2024-04-09T23:51:00.955975",
     "status": "completed"
    },
    "tags": []
   },
   "outputs": [
    {
     "data": {
      "text/html": [
       "<div><style>\n",
       ".dataframe > thead > tr,\n",
       ".dataframe > tbody > tr {\n",
       "  text-align: right;\n",
       "  white-space: pre-wrap;\n",
       "}\n",
       "</style>\n",
       "<small>shape: (244_647, 3)</small><table border=\"1\" class=\"dataframe\"><thead><tr><th>impression_id</th><th>target</th><th>prediction</th></tr><tr><td>u32</td><td>list[i8]</td><td>list[f64]</td></tr></thead><tbody><tr><td>130900018</td><td>[0, 1, … 0]</td><td>[0.099595, 0.447015, … 0.147178]</td></tr><tr><td>418820963</td><td>[0, 0, … 0]</td><td>[0.104629, 0.230477, … 0.295625]</td></tr><tr><td>357362931</td><td>[1, 0, … 0]</td><td>[0.29553, 0.300345, … 0.423616]</td></tr><tr><td>455137421</td><td>[1, 0, … 0]</td><td>[0.452418, 0.159466, … 0.621414]</td></tr><tr><td>314803788</td><td>[0, 0, … 0]</td><td>[0.268214, 0.43958, … 0.079553]</td></tr><tr><td>&hellip;</td><td>&hellip;</td><td>&hellip;</td></tr><tr><td>244817354</td><td>[1, 0, … 0]</td><td>[0.480902, 0.009563, … 0.002478]</td></tr><tr><td>72167846</td><td>[1, 0, … 0]</td><td>[0.432018, 0.099918, … 0.541965]</td></tr><tr><td>438176406</td><td>[0, 0, … 0]</td><td>[0.276899, 0.523851, … 0.432531]</td></tr><tr><td>368699494</td><td>[0, 0, … 0]</td><td>[0.427648, 0.450008, … 0.323618]</td></tr><tr><td>349176107</td><td>[0, 1, … 0]</td><td>[0.570871, 0.470122, … 0.420183]</td></tr></tbody></table></div>"
      ],
      "text/plain": [
       "shape: (244_647, 3)\n",
       "┌───────────────┬─────────────┬──────────────────────────────────┐\n",
       "│ impression_id ┆ target      ┆ prediction                       │\n",
       "│ ---           ┆ ---         ┆ ---                              │\n",
       "│ u32           ┆ list[i8]    ┆ list[f64]                        │\n",
       "╞═══════════════╪═════════════╪══════════════════════════════════╡\n",
       "│ 130900018     ┆ [0, 1, … 0] ┆ [0.099595, 0.447015, … 0.147178] │\n",
       "│ 418820963     ┆ [0, 0, … 0] ┆ [0.104629, 0.230477, … 0.295625] │\n",
       "│ 357362931     ┆ [1, 0, … 0] ┆ [0.29553, 0.300345, … 0.423616]  │\n",
       "│ 455137421     ┆ [1, 0, … 0] ┆ [0.452418, 0.159466, … 0.621414] │\n",
       "│ 314803788     ┆ [0, 0, … 0] ┆ [0.268214, 0.43958, … 0.079553]  │\n",
       "│ …             ┆ …           ┆ …                                │\n",
       "│ 244817354     ┆ [1, 0, … 0] ┆ [0.480902, 0.009563, … 0.002478] │\n",
       "│ 72167846      ┆ [1, 0, … 0] ┆ [0.432018, 0.099918, … 0.541965] │\n",
       "│ 438176406     ┆ [0, 0, … 0] ┆ [0.276899, 0.523851, … 0.432531] │\n",
       "│ 368699494     ┆ [0, 0, … 0] ┆ [0.427648, 0.450008, … 0.323618] │\n",
       "│ 349176107     ┆ [0, 1, … 0] ┆ [0.570871, 0.470122, … 0.420183] │\n",
       "└───────────────┴─────────────┴──────────────────────────────────┘"
      ]
     },
     "execution_count": 57,
     "metadata": {},
     "output_type": "execute_result"
    }
   ],
   "source": [
    "evaluation_ds = val_ds.group_by('impression_id').agg(pl.col('target'), pl.col('prediction'))\n",
    "evaluation_ds"
   ]
  },
  {
   "cell_type": "code",
   "execution_count": 58,
   "id": "ed9b7165",
   "metadata": {
    "execution": {
     "iopub.execute_input": "2024-04-09T23:51:02.358338Z",
     "iopub.status.busy": "2024-04-09T23:51:02.355933Z",
     "iopub.status.idle": "2024-04-09T23:57:24.693039Z",
     "shell.execute_reply": "2024-04-09T23:57:24.691690Z"
    },
    "papermill": {
     "duration": 382.686898,
     "end_time": "2024-04-09T23:57:24.778812",
     "exception": false,
     "start_time": "2024-04-09T23:51:02.091914",
     "status": "completed"
    },
    "tags": []
   },
   "outputs": [
    {
     "name": "stdout",
     "output_type": "stream",
     "text": [
      "CPU times: user 6min 21s, sys: 829 ms, total: 6min 22s\n",
      "Wall time: 6min 22s\n"
     ]
    },
    {
     "data": {
      "text/plain": [
       "<MetricEvaluator class>: \n",
       " {\n",
       "    \"auc\": 0.7196324495692942,\n",
       "    \"mrr\": 0.4942469180283324,\n",
       "    \"ndcg@5\": 0.5523772333559541,\n",
       "    \"ndcg@10\": 0.5972616379356518\n",
       "}"
      ]
     },
     "execution_count": 58,
     "metadata": {},
     "output_type": "execute_result"
    }
   ],
   "source": [
    "%%time\n",
    "\n",
    "met_eval = MetricEvaluator(\n",
    "    labels=evaluation_ds['target'].to_list(),\n",
    "    predictions=evaluation_ds['prediction'].to_list(),\n",
    "    metric_functions=[\n",
    "        AucScore(),\n",
    "        MrrScore(),\n",
    "        NdcgScore(k=5),\n",
    "        NdcgScore(k=10),\n",
    "    ],\n",
    ")\n",
    "met_eval.evaluate()"
   ]
  }
 ],
 "metadata": {
  "kaggle": {
   "accelerator": "none",
   "dataSources": [
    {
     "datasetId": 4622414,
     "sourceId": 7914006,
     "sourceType": "datasetVersion"
    }
   ],
   "dockerImageVersionId": 30673,
   "isGpuEnabled": false,
   "isInternetEnabled": true,
   "language": "python",
   "sourceType": "notebook"
  },
  "kernelspec": {
   "display_name": "Python 3",
   "language": "python",
   "name": "python3"
  },
  "language_info": {
   "codemirror_mode": {
    "name": "ipython",
    "version": 3
   },
   "file_extension": ".py",
   "mimetype": "text/x-python",
   "name": "python",
   "nbconvert_exporter": "python",
   "pygments_lexer": "ipython3",
   "version": "3.10.13"
  },
  "papermill": {
   "default_parameters": {},
   "duration": 5524.208555,
   "end_time": "2024-04-09T23:57:29.094363",
   "environment_variables": {},
   "exception": null,
   "input_path": "__notebook__.ipynb",
   "output_path": "__notebook__.ipynb",
   "parameters": {},
   "start_time": "2024-04-09T22:25:24.885808",
   "version": "2.5.0"
  },
  "widgets": {
   "application/vnd.jupyter.widget-state+json": {
    "state": {
     "46d8ab1d46cf4d14978f4d2b493c2a92": {
      "model_module": "@jupyter-widgets/output",
      "model_module_version": "1.0.0",
      "model_name": "OutputModel",
      "state": {
       "_dom_classes": [],
       "_model_module": "@jupyter-widgets/output",
       "_model_module_version": "1.0.0",
       "_model_name": "OutputModel",
       "_view_count": null,
       "_view_module": "@jupyter-widgets/output",
       "_view_module_version": "1.0.0",
       "_view_name": "OutputView",
       "layout": "IPY_MODEL_a84e66ae938f4771bae7e21f71ee9c55",
       "msg_id": "",
       "outputs": [
        {
         "data": {
          "text/html": "<pre style=\"white-space:pre;overflow-x:auto;line-height:normal;font-family:Menlo,'DejaVu Sans Mono',consolas,'Courier New',monospace\">Getting category               <span style=\"color: #729c1f; text-decoration-color: #729c1f\">━━━━━━━━━━━━━━━━━━━━━━━━━━━━━━━━━━━━━━━━</span> <span style=\"color: #800080; text-decoration-color: #800080\">100%</span> <span style=\"color: #008080; text-decoration-color: #008080\">0:00:00</span>\nGetting article_type           <span style=\"color: #729c1f; text-decoration-color: #729c1f\">━━━━━━━━━━━━━━━━━━━━━━━━━━━━━━━━━━━━━━━━</span> <span style=\"color: #800080; text-decoration-color: #800080\">100%</span> <span style=\"color: #008080; text-decoration-color: #008080\">0:00:00</span>\nGetting sentiment_label        <span style=\"color: #729c1f; text-decoration-color: #729c1f\">━━━━━━━━━━━━━━━━━━━━━━━━━━━━━━━━━━━━━━━━</span> <span style=\"color: #800080; text-decoration-color: #800080\">100%</span> <span style=\"color: #008080; text-decoration-color: #008080\">0:00:00</span>\nGetting sentiment_score        <span style=\"color: #729c1f; text-decoration-color: #729c1f\">━━━━━━━━━━━━━━━━━━━━━━━━━━━━━━━━━━━━━━━━</span> <span style=\"color: #800080; text-decoration-color: #800080\">100%</span> <span style=\"color: #008080; text-decoration-color: #008080\">0:00:00</span>\nGetting entity_groups          <span style=\"color: #729c1f; text-decoration-color: #729c1f\">━━━━━━━━━━━━━━━━━━━━━━━━━━━━━━━━━━━━━━━━</span> <span style=\"color: #800080; text-decoration-color: #800080\">100%</span> <span style=\"color: #008080; text-decoration-color: #008080\">0:00:00</span>\nGetting detailed entity_groups <span style=\"color: #729c1f; text-decoration-color: #729c1f\">━━━━━━━━━━━━━━━━━━━━━━━━━━━━━━━━━━━━━━━━</span> <span style=\"color: #800080; text-decoration-color: #800080\">100%</span> <span style=\"color: #008080; text-decoration-color: #008080\">0:00:00</span>\nGetting topics                 <span style=\"color: #729c1f; text-decoration-color: #729c1f\">━━━━━━━━━━━━━━━━━━━━━━━━━━━━━━━━━━━━━━━━</span> <span style=\"color: #800080; text-decoration-color: #800080\">100%</span> <span style=\"color: #008080; text-decoration-color: #008080\">0:00:00</span>\n</pre>\n",
          "text/plain": "Getting category               \u001b[38;2;114;156;31m━━━━━━━━━━━━━━━━━━━━━━━━━━━━━━━━━━━━━━━━\u001b[0m \u001b[35m100%\u001b[0m \u001b[36m0:00:00\u001b[0m\nGetting article_type           \u001b[38;2;114;156;31m━━━━━━━━━━━━━━━━━━━━━━━━━━━━━━━━━━━━━━━━\u001b[0m \u001b[35m100%\u001b[0m \u001b[36m0:00:00\u001b[0m\nGetting sentiment_label        \u001b[38;2;114;156;31m━━━━━━━━━━━━━━━━━━━━━━━━━━━━━━━━━━━━━━━━\u001b[0m \u001b[35m100%\u001b[0m \u001b[36m0:00:00\u001b[0m\nGetting sentiment_score        \u001b[38;2;114;156;31m━━━━━━━━━━━━━━━━━━━━━━━━━━━━━━━━━━━━━━━━\u001b[0m \u001b[35m100%\u001b[0m \u001b[36m0:00:00\u001b[0m\nGetting entity_groups          \u001b[38;2;114;156;31m━━━━━━━━━━━━━━━━━━━━━━━━━━━━━━━━━━━━━━━━\u001b[0m \u001b[35m100%\u001b[0m \u001b[36m0:00:00\u001b[0m\nGetting detailed entity_groups \u001b[38;2;114;156;31m━━━━━━━━━━━━━━━━━━━━━━━━━━━━━━━━━━━━━━━━\u001b[0m \u001b[35m100%\u001b[0m \u001b[36m0:00:00\u001b[0m\nGetting topics                 \u001b[38;2;114;156;31m━━━━━━━━━━━━━━━━━━━━━━━━━━━━━━━━━━━━━━━━\u001b[0m \u001b[35m100%\u001b[0m \u001b[36m0:00:00\u001b[0m\n"
         },
         "metadata": {},
         "output_type": "display_data"
        }
       ]
      }
     },
     "71bf4046e9af422296671aab9819dece": {
      "model_module": "@jupyter-widgets/base",
      "model_module_version": "1.2.0",
      "model_name": "LayoutModel",
      "state": {
       "_model_module": "@jupyter-widgets/base",
       "_model_module_version": "1.2.0",
       "_model_name": "LayoutModel",
       "_view_count": null,
       "_view_module": "@jupyter-widgets/base",
       "_view_module_version": "1.2.0",
       "_view_name": "LayoutView",
       "align_content": null,
       "align_items": null,
       "align_self": null,
       "border": null,
       "bottom": null,
       "display": null,
       "flex": null,
       "flex_flow": null,
       "grid_area": null,
       "grid_auto_columns": null,
       "grid_auto_flow": null,
       "grid_auto_rows": null,
       "grid_column": null,
       "grid_gap": null,
       "grid_row": null,
       "grid_template_areas": null,
       "grid_template_columns": null,
       "grid_template_rows": null,
       "height": null,
       "justify_content": null,
       "justify_items": null,
       "left": null,
       "margin": null,
       "max_height": null,
       "max_width": null,
       "min_height": null,
       "min_width": null,
       "object_fit": null,
       "object_position": null,
       "order": null,
       "overflow": null,
       "overflow_x": null,
       "overflow_y": null,
       "padding": null,
       "right": null,
       "top": null,
       "visibility": null,
       "width": null
      }
     },
     "a84e66ae938f4771bae7e21f71ee9c55": {
      "model_module": "@jupyter-widgets/base",
      "model_module_version": "1.2.0",
      "model_name": "LayoutModel",
      "state": {
       "_model_module": "@jupyter-widgets/base",
       "_model_module_version": "1.2.0",
       "_model_name": "LayoutModel",
       "_view_count": null,
       "_view_module": "@jupyter-widgets/base",
       "_view_module_version": "1.2.0",
       "_view_name": "LayoutView",
       "align_content": null,
       "align_items": null,
       "align_self": null,
       "border": null,
       "bottom": null,
       "display": null,
       "flex": null,
       "flex_flow": null,
       "grid_area": null,
       "grid_auto_columns": null,
       "grid_auto_flow": null,
       "grid_auto_rows": null,
       "grid_column": null,
       "grid_gap": null,
       "grid_row": null,
       "grid_template_areas": null,
       "grid_template_columns": null,
       "grid_template_rows": null,
       "height": null,
       "justify_content": null,
       "justify_items": null,
       "left": null,
       "margin": null,
       "max_height": null,
       "max_width": null,
       "min_height": null,
       "min_width": null,
       "object_fit": null,
       "object_position": null,
       "order": null,
       "overflow": null,
       "overflow_x": null,
       "overflow_y": null,
       "padding": null,
       "right": null,
       "top": null,
       "visibility": null,
       "width": null
      }
     },
     "c655e58a35e3490888f01103be14ab47": {
      "model_module": "@jupyter-widgets/output",
      "model_module_version": "1.0.0",
      "model_name": "OutputModel",
      "state": {
       "_dom_classes": [],
       "_model_module": "@jupyter-widgets/output",
       "_model_module_version": "1.0.0",
       "_model_name": "OutputModel",
       "_view_count": null,
       "_view_module": "@jupyter-widgets/output",
       "_view_module_version": "1.0.0",
       "_view_name": "OutputView",
       "layout": "IPY_MODEL_71bf4046e9af422296671aab9819dece",
       "msg_id": "",
       "outputs": [
        {
         "data": {
          "text/html": "<pre style=\"white-space:pre;overflow-x:auto;line-height:normal;font-family:Menlo,'DejaVu Sans Mono',consolas,'Courier New',monospace\">Getting category               <span style=\"color: #729c1f; text-decoration-color: #729c1f\">━━━━━━━━━━━━━━━━━━━━━━━━━━━━━━━━━━━━━━━━</span> <span style=\"color: #800080; text-decoration-color: #800080\">100%</span> <span style=\"color: #008080; text-decoration-color: #008080\">0:00:00</span>\nGetting article_type           <span style=\"color: #729c1f; text-decoration-color: #729c1f\">━━━━━━━━━━━━━━━━━━━━━━━━━━━━━━━━━━━━━━━━</span> <span style=\"color: #800080; text-decoration-color: #800080\">100%</span> <span style=\"color: #008080; text-decoration-color: #008080\">0:00:00</span>\nGetting sentiment_label        <span style=\"color: #729c1f; text-decoration-color: #729c1f\">━━━━━━━━━━━━━━━━━━━━━━━━━━━━━━━━━━━━━━━━</span> <span style=\"color: #800080; text-decoration-color: #800080\">100%</span> <span style=\"color: #008080; text-decoration-color: #008080\">0:00:00</span>\nGetting sentiment_score        <span style=\"color: #729c1f; text-decoration-color: #729c1f\">━━━━━━━━━━━━━━━━━━━━━━━━━━━━━━━━━━━━━━━━</span> <span style=\"color: #800080; text-decoration-color: #800080\">100%</span> <span style=\"color: #008080; text-decoration-color: #008080\">0:00:00</span>\nGetting entity_groups          <span style=\"color: #729c1f; text-decoration-color: #729c1f\">━━━━━━━━━━━━━━━━━━━━━━━━━━━━━━━━━━━━━━━━</span> <span style=\"color: #800080; text-decoration-color: #800080\">100%</span> <span style=\"color: #008080; text-decoration-color: #008080\">0:00:00</span>\nGetting detailed entity_groups <span style=\"color: #729c1f; text-decoration-color: #729c1f\">━━━━━━━━━━━━━━━━━━━━━━━━━━━━━━━━━━━━━━━━</span> <span style=\"color: #800080; text-decoration-color: #800080\">100%</span> <span style=\"color: #008080; text-decoration-color: #008080\">0:00:00</span>\nGetting topics                 <span style=\"color: #729c1f; text-decoration-color: #729c1f\">━━━━━━━━━━━━━━━━━━━━━━━━━━━━━━━━━━━━━━━━</span> <span style=\"color: #800080; text-decoration-color: #800080\">100%</span> <span style=\"color: #008080; text-decoration-color: #008080\">0:00:00</span>\n</pre>\n",
          "text/plain": "Getting category               \u001b[38;2;114;156;31m━━━━━━━━━━━━━━━━━━━━━━━━━━━━━━━━━━━━━━━━\u001b[0m \u001b[35m100%\u001b[0m \u001b[36m0:00:00\u001b[0m\nGetting article_type           \u001b[38;2;114;156;31m━━━━━━━━━━━━━━━━━━━━━━━━━━━━━━━━━━━━━━━━\u001b[0m \u001b[35m100%\u001b[0m \u001b[36m0:00:00\u001b[0m\nGetting sentiment_label        \u001b[38;2;114;156;31m━━━━━━━━━━━━━━━━━━━━━━━━━━━━━━━━━━━━━━━━\u001b[0m \u001b[35m100%\u001b[0m \u001b[36m0:00:00\u001b[0m\nGetting sentiment_score        \u001b[38;2;114;156;31m━━━━━━━━━━━━━━━━━━━━━━━━━━━━━━━━━━━━━━━━\u001b[0m \u001b[35m100%\u001b[0m \u001b[36m0:00:00\u001b[0m\nGetting entity_groups          \u001b[38;2;114;156;31m━━━━━━━━━━━━━━━━━━━━━━━━━━━━━━━━━━━━━━━━\u001b[0m \u001b[35m100%\u001b[0m \u001b[36m0:00:00\u001b[0m\nGetting detailed entity_groups \u001b[38;2;114;156;31m━━━━━━━━━━━━━━━━━━━━━━━━━━━━━━━━━━━━━━━━\u001b[0m \u001b[35m100%\u001b[0m \u001b[36m0:00:00\u001b[0m\nGetting topics                 \u001b[38;2;114;156;31m━━━━━━━━━━━━━━━━━━━━━━━━━━━━━━━━━━━━━━━━\u001b[0m \u001b[35m100%\u001b[0m \u001b[36m0:00:00\u001b[0m\n"
         },
         "metadata": {},
         "output_type": "display_data"
        }
       ]
      }
     }
    },
    "version_major": 2,
    "version_minor": 0
   }
  }
 },
 "nbformat": 4,
 "nbformat_minor": 5
}
