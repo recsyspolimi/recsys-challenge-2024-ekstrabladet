{
 "cells": [
  {
   "cell_type": "code",
   "execution_count": 1,
   "metadata": {},
   "outputs": [],
   "source": [
    "import polars as pl\n",
    "from pathlib import Path\n",
    "from polimi.utils._urm import train_recommender\n",
    "from RecSys_Course_AT_PoliMi.Recommenders.GraphBased.P3alphaRecommender import P3alphaRecommender\n",
    "from RecSys_Course_AT_PoliMi.Recommenders.GraphBased.RP3betaRecommender import RP3betaRecommender\n",
    "from RecSys_Course_AT_PoliMi.Recommenders.KNN.ItemKNNCFRecommender import ItemKNNCFRecommender\n",
    "from RecSys_Course_AT_PoliMi.Recommenders.KNN.UserKNNCFRecommender import UserKNNCFRecommender\n",
    "from RecSys_Course_AT_PoliMi.Recommenders.MatrixFactorization.Cython.MatrixFactorization_Cython import MatrixFactorization_AsySVD_Cython, MatrixFactorization_BPR_Cython\n",
    "from RecSys_Course_AT_PoliMi.Recommenders.MatrixFactorization.PureSVDRecommender import PureSVDRecommender, PureSVDItemRecommender\n",
    "from RecSys_Course_AT_PoliMi.Recommenders.Neural.MultVAERecommender import MultVAERecommender\n",
    "from RecSys_Course_AT_PoliMi.Recommenders.SLIM.SLIMElasticNetRecommender import SLIMElasticNetRecommender, MultiThreadSLIM_SLIMElasticNetRecommender\n",
    "from RecSys_Course_AT_PoliMi.Recommenders.SLIM.Cython.SLIM_BPR_Cython import SLIM_BPR_Cython\n",
    "from RecSys_Course_AT_PoliMi.Recommenders.MatrixFactorization.NMFRecommender import NMFRecommender"
   ]
  },
  {
   "cell_type": "code",
   "execution_count": 1,
   "metadata": {},
   "outputs": [
    {
     "ename": "NameError",
     "evalue": "name 'Path' is not defined",
     "output_type": "error",
     "traceback": [
      "\u001b[0;31m---------------------------------------------------------------------------\u001b[0m",
      "\u001b[0;31mNameError\u001b[0m                                 Traceback (most recent call last)",
      "Cell \u001b[0;32mIn[1], line 1\u001b[0m\n\u001b[0;32m----> 1\u001b[0m dpath \u001b[38;5;241m=\u001b[39m \u001b[43mPath\u001b[49m(\u001b[38;5;124m'\u001b[39m\u001b[38;5;124m../../dataset\u001b[39m\u001b[38;5;124m'\u001b[39m)\n\u001b[1;32m      3\u001b[0m dtype \u001b[38;5;241m=\u001b[39m \u001b[38;5;124m'\u001b[39m\u001b[38;5;124msmall\u001b[39m\u001b[38;5;124m'\u001b[39m\n\u001b[1;32m      4\u001b[0m articles \u001b[38;5;241m=\u001b[39m pl\u001b[38;5;241m.\u001b[39mread_parquet(\u001b[38;5;124mf\u001b[39m\u001b[38;5;124m'\u001b[39m\u001b[38;5;132;01m{\u001b[39;00mdpath\u001b[38;5;132;01m}\u001b[39;00m\u001b[38;5;124m/ebnerd_\u001b[39m\u001b[38;5;132;01m{\u001b[39;00mdtype\u001b[38;5;132;01m}\u001b[39;00m\u001b[38;5;124m/articles.parquet\u001b[39m\u001b[38;5;124m'\u001b[39m)\n",
      "\u001b[0;31mNameError\u001b[0m: name 'Path' is not defined"
     ]
    }
   ],
   "source": [
    "dpath = Path('../../dataset')\n",
    "\n",
    "dtype = 'small'\n",
    "articles = pl.read_parquet(f'{dpath}/ebnerd_{dtype}/articles.parquet')\n",
    "\n",
    "behaviors_train = pl.read_parquet(f'{dpath}/ebnerd_{dtype}/train/behaviors.parquet')\n",
    "history_train = pl.read_parquet(f'{dpath}/ebnerd_{dtype}/train/history.parquet')\n",
    "\n",
    "behaviors_val = pl.read_parquet(f'{dpath}/ebnerd_{dtype}/validation/behaviors.parquet')\n",
    "history_val = pl.read_parquet(f'{dpath}/ebnerd_{dtype}/validation/history.parquet')"
   ]
  },
  {
   "cell_type": "code",
   "execution_count": 5,
   "metadata": {},
   "outputs": [
    {
     "data": {
      "text/html": [
       "<div><style>\n",
       ".dataframe > thead > tr,\n",
       ".dataframe > tbody > tr {\n",
       "  text-align: right;\n",
       "  white-space: pre-wrap;\n",
       "}\n",
       "</style>\n",
       "<small>shape: (2, 2)</small><table border=\"1\" class=\"dataframe\"><thead><tr><th>ner_index</th><th>ner</th></tr><tr><td>u32</td><td>str</td></tr></thead><tbody><tr><td>0</td><td>&quot;# metoo&quot;</td></tr><tr><td>1</td><td>&quot;# minhistorieminmening&quot;</td></tr></tbody></table></div>"
      ],
      "text/plain": [
       "shape: (2, 2)\n",
       "┌───────────┬────────────────────────┐\n",
       "│ ner_index ┆ ner                    │\n",
       "│ ---       ┆ ---                    │\n",
       "│ u32       ┆ str                    │\n",
       "╞═══════════╪════════════════════════╡\n",
       "│ 0         ┆ # metoo                │\n",
       "│ 1         ┆ # minhistorieminmening │\n",
       "└───────────┴────────────────────────┘"
      ]
     },
     "execution_count": 5,
     "metadata": {},
     "output_type": "execute_result"
    }
   ],
   "source": [
    "from polimi.utils._urm import *\n",
    "ap = build_articles_with_processed_ner(articles)\n",
    "ner_mapping_new = build_ner_mapping(ap)\n",
    "ner_mapping_new.head(2)"
   ]
  },
  {
   "cell_type": "markdown",
   "metadata": {},
   "source": [
    "## Create URM"
   ]
  },
  {
   "cell_type": "code",
   "execution_count": 6,
   "metadata": {},
   "outputs": [],
   "source": [
    "user_id_mapping = history_train.sort('user_id').with_row_index() \\\n",
    "    .select(['index', 'user_id']).rename({'index': 'user_index'})\n",
    "\n",
    "ner_mapping = articles.select(['ner_clusters']) \\\n",
    "    .explode('ner_clusters') \\\n",
    "    .rename({'ner_clusters': 'ner'}) \\\n",
    "    .with_columns(pl.col('ner').str.strip_chars_start('\\\" ').str.to_lowercase()) \\\n",
    "    .unique('ner').drop_nulls().filter(pl.col('ner').str.len_chars() > 0) \\\n",
    "    .sort('ner').with_row_index().rename({'index': 'ner_index'})"
   ]
  },
  {
   "cell_type": "code",
   "execution_count": 6,
   "metadata": {},
   "outputs": [],
   "source": [
    "import scipy.sparse as sps\n",
    "import numpy as np\n",
    "\n",
    "ner_interactions = history_train.select(['user_id', 'article_id_fixed']).explode('article_id_fixed') \\\n",
    "    .join(articles.select(['article_id', 'ner_clusters']), left_on='article_id_fixed', right_on='article_id', how='left') \\\n",
    "    .explode('ner_clusters').unique(['user_id', 'ner_clusters']) \\\n",
    "    .with_columns(pl.col('ner_clusters').str.strip_chars_start('\\\" ').str.to_lowercase()) \\\n",
    "    .join(user_id_mapping, on='user_id', how='left') \\\n",
    "    .join(ner_mapping, left_on='ner_clusters', right_on='ner') \\\n",
    "    .select(['user_index', 'ner_index', 'user_id', 'article_id_fixed']) \\\n",
    "    .unique(['user_index', 'ner_index'])\n",
    "\n",
    "URM_ner = sps.csr_matrix((np.ones(ner_interactions.shape[0]),\n",
    "                          (ner_interactions['user_index'].to_numpy(), ner_interactions['ner_index'].to_numpy())),\n",
    "                         shape=(user_id_mapping.shape[0], ner_mapping.shape[0]))\n",
    "\n",
    "ner_interactions_test = behaviors_train.select(['user_id', 'article_ids_clicked']).explode('article_ids_clicked') \\\n",
    "    .join(articles.select(['article_id', 'ner_clusters']), left_on='article_ids_clicked', right_on='article_id', how='left') \\\n",
    "    .explode('ner_clusters').unique(['user_id', 'ner_clusters']) \\\n",
    "    .with_columns(pl.col('ner_clusters').str.strip_chars_start('\\\" ').str.to_lowercase()) \\\n",
    "    .join(user_id_mapping, on='user_id', how='left') \\\n",
    "    .join(ner_mapping, left_on='ner_clusters', right_on='ner') \\\n",
    "    .select(['user_index', 'ner_index', 'user_id', 'article_ids_clicked']) \\\n",
    "    .unique(['user_index', 'ner_index'])\n",
    "\n",
    "URM_ner_test = sps.csr_matrix((np.ones(ner_interactions_test.shape[0]),\n",
    "                               (ner_interactions_test['user_index'].to_numpy(), ner_interactions_test['ner_index'].to_numpy())),\n",
    "                              shape=(user_id_mapping.shape[0], ner_mapping.shape[0]))"
   ]
  },
  {
   "cell_type": "code",
   "execution_count": 3,
   "metadata": {},
   "outputs": [
    {
     "name": "stdout",
     "output_type": "stream",
     "text": [
      "File loaded at: ../../dataset/urm/ner/small/URM_train.npz\n",
      "File loaded at: ../../dataset/urm/ner/small/URM_train_val.npz\n",
      "File loaded at: ../../dataset/urm/ner/small/URM_validation.npz\n",
      "File loaded at: ../../dataset/urm/ner/small/URM_test.npz\n"
     ]
    }
   ],
   "source": [
    "from polimi.utils._custom import load_sparse_csr\n",
    "\n",
    "ner_path = dpath.joinpath('urm').joinpath('ner').joinpath('small')\n",
    "algo_path = ner_path.joinpath('algo').joinpath('train')\n",
    "\n",
    "URM_train = load_sparse_csr(ner_path.joinpath('URM_train.npz'))\n",
    "URM_train_val = load_sparse_csr(ner_path.joinpath('URM_train_val.npz'))\n",
    "URM_val =  load_sparse_csr(ner_path.joinpath('URM_validation.npz'))\n",
    "URM_test = load_sparse_csr(ner_path.joinpath('URM_test.npz'))"
   ]
  },
  {
   "cell_type": "markdown",
   "metadata": {},
   "source": [
    "# Build rec sys features"
   ]
  },
  {
   "cell_type": "code",
   "execution_count": 9,
   "metadata": {},
   "outputs": [
    {
     "ename": "NameError",
     "evalue": "name 'URM_train' is not defined",
     "output_type": "error",
     "traceback": [
      "\u001b[0;31m---------------------------------------------------------------------------\u001b[0m",
      "\u001b[0;31mNameError\u001b[0m                                 Traceback (most recent call last)",
      "Cell \u001b[0;32mIn[9], line 4\u001b[0m\n\u001b[1;32m      1\u001b[0m \u001b[38;5;66;03m# rp3beta = RP3betaRecommender(URM_train)\u001b[39;00m\n\u001b[1;32m      2\u001b[0m \n\u001b[1;32m      3\u001b[0m \u001b[38;5;66;03m# item_knn = ItemKNNCFRecommender(URM_train)\u001b[39;00m\n\u001b[0;32m----> 4\u001b[0m puresvd \u001b[38;5;241m=\u001b[39m PureSVDRecommender(\u001b[43mURM_train\u001b[49m)\n\u001b[1;32m      5\u001b[0m puresvd\u001b[38;5;241m.\u001b[39mfit(num_factors\u001b[38;5;241m=\u001b[39m\u001b[38;5;241m20\u001b[39m)\n\u001b[1;32m      6\u001b[0m \u001b[38;5;66;03m# rp3beta.load_model(str(algo_path), file_name='RP3betaRecommender-ner-small-ndcg100_new')\u001b[39;00m\n\u001b[1;32m      7\u001b[0m \u001b[38;5;66;03m# user_knn.load_model(str(algo_path), file_name='UserKNNCFRecommender-ner-small-ndcg100')\u001b[39;00m\n\u001b[1;32m      8\u001b[0m \u001b[38;5;66;03m# item_knn.load_model(str(algo_path), file_name='ItemKNNCFRecommender-ner-small-ndcg100')\u001b[39;00m\n\u001b[1;32m      9\u001b[0m \u001b[38;5;66;03m# pure_svd_item.load_model(str(algo_path), file_name='PureSVDItemRecommender-ner-small-ndcg100')\u001b[39;00m\n",
      "\u001b[0;31mNameError\u001b[0m: name 'URM_train' is not defined"
     ]
    }
   ],
   "source": [
    "# rp3beta = RP3betaRecommender(URM_train)\n",
    "\n",
    "# item_knn = ItemKNNCFRecommender(URM_train)\n",
    "puresvd = PureSVDRecommender(URM_train)\n",
    "puresvd.fit(num_factors=20)\n",
    "# rp3beta.load_model(str(algo_path), file_name='RP3betaRecommender-ner-small-ndcg100_new')\n",
    "# user_knn.load_model(str(algo_path), file_name='UserKNNCFRecommender-ner-small-ndcg100')\n",
    "# item_knn.load_model(str(algo_path), file_name='ItemKNNCFRecommender-ner-small-ndcg100')\n",
    "# pure_svd_item.load_model(str(algo_path), file_name='PureSVDItemRecommender-ner-small-ndcg100')"
   ]
  },
  {
   "cell_type": "code",
   "execution_count": 6,
   "metadata": {},
   "outputs": [],
   "source": [
    "from polimi.utils._urm import build_ner_mapping, build_user_id_mapping, build_articles_with_processed_ner, _build_batch_ner_interactions\n",
    "user_id_mapping = build_user_id_mapping(history_train.vstack(history_val))\n",
    "ap = build_articles_with_processed_ner(articles)\n",
    "ner_mapping = build_ner_mapping(ap)\n",
    "ap = ap.with_columns(\n",
    "    pl.col('ner_clusters').list.eval(pl.element().replace(ner_mapping['ner'], ner_mapping['ner_index'], default=None).drop_nulls()).alias('ner_clusters_index'),\n",
    ")"
   ]
  },
  {
   "cell_type": "code",
   "execution_count": 7,
   "metadata": {},
   "outputs": [
    {
     "data": {
      "text/html": [
       "<div><style>\n",
       ".dataframe > thead > tr,\n",
       ".dataframe > tbody > tr {\n",
       "  text-align: right;\n",
       "  white-space: pre-wrap;\n",
       "}\n",
       "</style>\n",
       "<small>shape: (2, 5)</small><table border=\"1\" class=\"dataframe\"><thead><tr><th>impression_id</th><th>user_id</th><th>user_index</th><th>candidate_ids</th><th>candidate_ner_index</th></tr><tr><td>u32</td><td>u32</td><td>u32</td><td>list[i32]</td><td>list[list[u32]]</td></tr></thead><tbody><tr><td>149474</td><td>139836</td><td>938</td><td>[9778623, 9778682, … 9778728]</td><td>[[1016, 3366, … 41304], [3827, 4679, … 39272], … [14122, 14127, … 42433]]</td></tr><tr><td>150528</td><td>143471</td><td>972</td><td>[9778718, 9778728, … 9778682]</td><td>[[5927, 23803, … 42713], [14122, 14127, … 42433], … [3827, 4679, … 39272]]</td></tr></tbody></table></div>"
      ],
      "text/plain": [
       "shape: (2, 5)\n",
       "┌───────────────┬─────────┬────────────┬──────────────────────┬─────────────────────────────────┐\n",
       "│ impression_id ┆ user_id ┆ user_index ┆ candidate_ids        ┆ candidate_ner_index             │\n",
       "│ ---           ┆ ---     ┆ ---        ┆ ---                  ┆ ---                             │\n",
       "│ u32           ┆ u32     ┆ u32        ┆ list[i32]            ┆ list[list[u32]]                 │\n",
       "╞═══════════════╪═════════╪════════════╪══════════════════════╪═════════════════════════════════╡\n",
       "│ 149474        ┆ 139836  ┆ 938        ┆ [9778623, 9778682, … ┆ [[1016, 3366, … 41304], [3827,… │\n",
       "│               ┆         ┆            ┆ 9778728]             ┆                                 │\n",
       "│ 150528        ┆ 143471  ┆ 972        ┆ [9778718, 9778728, … ┆ [[5927, 23803, … 42713], [1412… │\n",
       "│               ┆         ┆            ┆ 9778682]             ┆                                 │\n",
       "└───────────────┴─────────┴────────────┴──────────────────────┴─────────────────────────────────┘"
      ]
     },
     "execution_count": 7,
     "metadata": {},
     "output_type": "execute_result"
    }
   ],
   "source": [
    "train_ds = behaviors_train\n",
    "train_ds = train_ds\\\n",
    "    .rename({'article_ids_inview': 'candidate_ids'})\\\n",
    "    .with_columns(\n",
    "        pl.col('candidate_ids').list.eval(pl.element().replace(ap['article_id'], ap['ner_clusters_index'], default=None).drop_nulls()).alias('candidate_ner_index'),\n",
    "        pl.col('user_id').replace(user_id_mapping['user_id'], user_id_mapping['user_index'], default=None).alias('user_index')\n",
    "    ).select('impression_id', 'user_id', 'user_index', 'candidate_ids', 'candidate_ner_index')\n",
    "train_ds.head(2)"
   ]
  },
  {
   "cell_type": "code",
   "execution_count": 8,
   "metadata": {},
   "outputs": [],
   "source": [
    "all_users = user_id_mapping['user_index'].unique().sort().to_list()\n",
    "all_items = ner_mapping['ner_index'].unique().sort().to_list()\n",
    "# rp3betascores = rp3beta._compute_item_score(all_users)\n",
    "# userknnparamscores = user_knn._compute_item_score(all_users)\n",
    "# userknnparamscores.shape, rp3betascores.shape"
   ]
  },
  {
   "cell_type": "code",
   "execution_count": 27,
   "metadata": {},
   "outputs": [],
   "source": [
    "# train_ds.with_columns(\n",
    "#     pl.col('candidate_ner_index').list.eval(\n",
    "#        (pl.element().list.len() > 0)\n",
    "#     ).alias('x')\n",
    "# ).with_columns(\n",
    "#     pl.col('candidate_ids').gather('x').alias('m')\n",
    "# )"
   ]
  },
  {
   "cell_type": "code",
   "execution_count": 9,
   "metadata": {},
   "outputs": [
    {
     "name": "stderr",
     "output_type": "stream",
     "text": [
      "24it [00:00, 62.09it/s]                        \n"
     ]
    },
    {
     "data": {
      "text/html": [
       "<div><style>\n",
       ".dataframe > thead > tr,\n",
       ".dataframe > tbody > tr {\n",
       "  text-align: right;\n",
       "  white-space: pre-wrap;\n",
       "}\n",
       "</style>\n",
       "<small>shape: (2, 5)</small><table border=\"1\" class=\"dataframe\"><thead><tr><th>impression_id</th><th>user_id</th><th>user_index</th><th>candidate_ids</th><th>candidate_ner_index</th></tr><tr><td>u32</td><td>u32</td><td>u32</td><td>list[i32]</td><td>list[list[u32]]</td></tr></thead><tbody><tr><td>9732680</td><td>968619</td><td>6932</td><td>[9779019, 9052240, … 9779181]</td><td>[[6965, 10024, … 36241], [1520, 1748, … 35999], … [2485, 8768, … 41306]]</td></tr><tr><td>17725622</td><td>779401</td><td>5583</td><td>[9770028, 9776099, … 9775855]</td><td>[[197, 3478, … 42319], [5110, 8308, … 42371], … [293, 7736, … 41340]]</td></tr></tbody></table></div>"
      ],
      "text/plain": [
       "shape: (2, 5)\n",
       "┌───────────────┬─────────┬────────────┬──────────────────────┬─────────────────────────────────┐\n",
       "│ impression_id ┆ user_id ┆ user_index ┆ candidate_ids        ┆ candidate_ner_index             │\n",
       "│ ---           ┆ ---     ┆ ---        ┆ ---                  ┆ ---                             │\n",
       "│ u32           ┆ u32     ┆ u32        ┆ list[i32]            ┆ list[list[u32]]                 │\n",
       "╞═══════════════╪═════════╪════════════╪══════════════════════╪═════════════════════════════════╡\n",
       "│ 9732680       ┆ 968619  ┆ 6932       ┆ [9779019, 9052240, … ┆ [[6965, 10024, … 36241], [1520… │\n",
       "│               ┆         ┆            ┆ 9779181]             ┆                                 │\n",
       "│ 17725622      ┆ 779401  ┆ 5583       ┆ [9770028, 9776099, … ┆ [[197, 3478, … 42319], [5110, … │\n",
       "│               ┆         ┆            ┆ 9775855]             ┆                                 │\n",
       "└───────────────┴─────────┴────────────┴──────────────────────┴─────────────────────────────────┘"
      ]
     },
     "execution_count": 9,
     "metadata": {},
     "output_type": "execute_result"
    }
   ],
   "source": [
    "from tqdm import tqdm\n",
    "train_ds = pl.concat([\n",
    "    slice.explode(['candidate_ids', 'candidate_ner_index'])\\\n",
    "        .filter(pl.col('candidate_ner_index').list.len() > 0)\\\n",
    "        .group_by(['impression_id', 'user_id', 'user_index']).agg(pl.all())\n",
    "    for slice in tqdm(train_ds.iter_slices(10000), total=train_ds.shape[0]//10000)\n",
    "])\n",
    "train_ds.head(2)"
   ]
  },
  {
   "cell_type": "code",
   "execution_count": 12,
   "metadata": {},
   "outputs": [
    {
     "name": "stderr",
     "output_type": "stream",
     "text": [
      "  1%|          | 99/15143 [00:08<21:15, 11.79it/s] \n"
     ]
    },
    {
     "data": {
      "text/html": [
       "<div><style>\n",
       ".dataframe > thead > tr,\n",
       ".dataframe > tbody > tr {\n",
       "  text-align: right;\n",
       "  white-space: pre-wrap;\n",
       "}\n",
       "</style>\n",
       "<small>shape: (3, 4)</small><table border=\"1\" class=\"dataframe\"><thead><tr><th>impression_id</th><th>user_id</th><th>candidate_ids</th><th>PureSVDRecommender_scores</th></tr><tr><td>u32</td><td>u32</td><td>list[i32]</td><td>list[list[f32]]</td></tr></thead><tbody><tr><td>9732680</td><td>968619</td><td>[9779019, 9052240, … 9779181]</td><td>[[0.0, 0.534057, … 0.0], [0.534334, 0.012626, … 0.049816], … [0.0, 0.0, … 0.434684]]</td></tr><tr><td>17725622</td><td>779401</td><td>[9770028, 9776099, … 9775855]</td><td>[[0.606877, 0.104283, … 0.000432], [0.090129, 0.853301, … 0.284373], … [0.115324, 0.328663, … 0.502769]]</td></tr><tr><td>8288145</td><td>151570</td><td>[9774163, 9766889, … 9766757]</td><td>[[0.0, -0.000368, … 0.272246], [1.116187, 0.284376, … 0.514707], … [0.473899, 1.116187, … 1.186296]]</td></tr></tbody></table></div>"
      ],
      "text/plain": [
       "shape: (3, 4)\n",
       "┌───────────────┬─────────┬───────────────────────────────┬─────────────────────────────────┐\n",
       "│ impression_id ┆ user_id ┆ candidate_ids                 ┆ PureSVDRecommender_scores       │\n",
       "│ ---           ┆ ---     ┆ ---                           ┆ ---                             │\n",
       "│ u32           ┆ u32     ┆ list[i32]                     ┆ list[list[f32]]                 │\n",
       "╞═══════════════╪═════════╪═══════════════════════════════╪═════════════════════════════════╡\n",
       "│ 9732680       ┆ 968619  ┆ [9779019, 9052240, … 9779181] ┆ [[0.0, 0.534057, … 0.0], [0.53… │\n",
       "│ 17725622      ┆ 779401  ┆ [9770028, 9776099, … 9775855] ┆ [[0.606877, 0.104283, … 0.0004… │\n",
       "│ 8288145       ┆ 151570  ┆ [9774163, 9766889, … 9766757] ┆ [[0.0, -0.000368, … 0.272246],… │\n",
       "└───────────────┴─────────┴───────────────────────────────┴─────────────────────────────────┘"
      ]
     },
     "execution_count": 12,
     "metadata": {},
     "output_type": "execute_result"
    }
   ],
   "source": [
    "from tqdm import tqdm\n",
    "recs = [puresvd]\n",
    "\n",
    "impression_scores = pl.concat([\n",
    "    slice.with_columns(\n",
    "            *[pl.col('candidate_ner_index').list.eval(\n",
    "                pl.element().list.eval(pl.element().replace(all_items, rec._compute_item_score(user_index, all_items)[0, all_items], default=None))\n",
    "            ).alias(f\"{rec.RECOMMENDER_NAME}_scores\") for rec in recs]\n",
    "        ).drop('user_index', 'candidate_ner_index')\n",
    "for user_index, slice in tqdm(train_ds[:100].partition_by(['user_index'], as_dict=True).items(), total=train_ds['user_index'].n_unique())\n",
    "])\n",
    "impression_scores.head(3)"
   ]
  },
  {
   "cell_type": "code",
   "execution_count": 17,
   "metadata": {},
   "outputs": [
    {
     "name": "stdout",
     "output_type": "stream",
     "text": [
      "Memory usage of dataframe is 0.02 MB\n",
      "Memory usage after optimization is: 0.02 MB\n",
      "Decreased by 0.0%\n"
     ]
    },
    {
     "data": {
      "text/html": [
       "<div><style>\n",
       ".dataframe > thead > tr,\n",
       ".dataframe > tbody > tr {\n",
       "  text-align: right;\n",
       "  white-space: pre-wrap;\n",
       "}\n",
       "</style>\n",
       "<small>shape: (3, 6)</small><table border=\"1\" class=\"dataframe\"><thead><tr><th>impression_id</th><th>user_id</th><th>article</th><th>sum_PureSVDRecommender_scores</th><th>max_PureSVDRecommender_scores</th><th>mean_PureSVDRecommender_scores</th></tr><tr><td>u32</td><td>u32</td><td>i32</td><td>f32</td><td>f32</td><td>f32</td></tr></thead><tbody><tr><td>783925</td><td>773496</td><td>9775076</td><td>3.803324</td><td>1.477678</td><td>0.422592</td></tr><tr><td>783925</td><td>773496</td><td>9775142</td><td>0.393973</td><td>0.393973</td><td>0.078795</td></tr><tr><td>783925</td><td>773496</td><td>9775202</td><td>1.721335</td><td>0.476289</td><td>0.156485</td></tr></tbody></table></div>"
      ],
      "text/plain": [
       "shape: (3, 6)\n",
       "┌───────────────┬─────────┬─────────┬────────────────────┬────────────────────┬────────────────────┐\n",
       "│ impression_id ┆ user_id ┆ article ┆ sum_PureSVDRecomme ┆ max_PureSVDRecomme ┆ mean_PureSVDRecomm │\n",
       "│ ---           ┆ ---     ┆ ---     ┆ nder_scores        ┆ nder_scores        ┆ ender_scores       │\n",
       "│ u32           ┆ u32     ┆ i32     ┆ ---                ┆ ---                ┆ ---                │\n",
       "│               ┆         ┆         ┆ f32                ┆ f32                ┆ f32                │\n",
       "╞═══════════════╪═════════╪═════════╪════════════════════╪════════════════════╪════════════════════╡\n",
       "│ 783925        ┆ 773496  ┆ 9775076 ┆ 3.803324           ┆ 1.477678           ┆ 0.422592           │\n",
       "│ 783925        ┆ 773496  ┆ 9775142 ┆ 0.393973           ┆ 0.393973           ┆ 0.078795           │\n",
       "│ 783925        ┆ 773496  ┆ 9775202 ┆ 1.721335           ┆ 0.476289           ┆ 0.156485           │\n",
       "└───────────────┴─────────┴─────────┴────────────────────┴────────────────────┴────────────────────┘"
      ]
     },
     "execution_count": 17,
     "metadata": {},
     "output_type": "execute_result"
    }
   ],
   "source": [
    "from polimi.utils._polars import reduce_polars_df_memory_size\n",
    "scores_cols = [col for col in impression_scores.columns if col.endswith('_scores')]\n",
    "df = impression_scores.with_columns(\n",
    "        *[pl.col(col).list.eval(pl.element().list.sum()).alias(f'sum_{col}') for col in scores_cols],\n",
    "        *[pl.col(col).list.eval(pl.element().list.max()).alias(f'max_{col}') for col in scores_cols],\n",
    "        *[pl.col(col).list.eval(pl.element().list.mean()).alias(f'mean_{col}') for col in scores_cols],\n",
    ").drop(scores_cols)\n",
    "\n",
    "df = reduce_polars_df_memory_size(df)\n",
    "df = df.sort(['impression_id', 'user_id'])\\\n",
    "    .explode(pl.all().exclude(['impression_id', 'user_id']))\\\n",
    "    .rename({'candidate_ids': 'article'})\n",
    "\n",
    "df.head(3)"
   ]
  },
  {
   "cell_type": "markdown",
   "metadata": {},
   "source": [
    "# Test API"
   ]
  },
  {
   "cell_type": "code",
   "execution_count": null,
   "metadata": {},
   "outputs": [],
   "source": [
    "from polimi.utils._urm import build_ner_scores_features, load_recommender\n",
    "\n",
    "load_dict = {\n",
    "    RP3betaRecommender: {'path': algo_path, 'file_name': 'rp3beta'},\n",
    "    UserKNNCFRecommender: {'path': algo_path, 'file_name': 'userknn'},\n",
    "}\n",
    "\n",
    "recs = []\n",
    "for rec, load_info in load_dict.items():\n",
    "    recs.append(load_recommender(URM_train, rec, file_path=str(load_info['path']), file_name=load_info['file_name']))\n",
    "\n",
    "\n",
    "df = build_ner_scores_features(history=history_train, behaviors=behaviors_train, articles=articles, recs=recs)\n",
    "df.head(3)"
   ]
  },
  {
   "cell_type": "markdown",
   "metadata": {},
   "source": [
    "# Evaluate Models"
   ]
  },
  {
   "cell_type": "code",
   "execution_count": null,
   "metadata": {},
   "outputs": [],
   "source": [
    "rp3beta = RP3betaRecommender(URM_train)\n",
    "user_knn = UserKNNCFRecommender(URM_train)\n",
    "# item_knn = ItemKNNCFRecommender(URM_train)\n",
    "# pure_svd_item = PureSVDItemRecommender(URM_train)\n",
    "rp3beta.load_model(str(algo_path), file_name='RP3betaRecommender-ner-small-ndcg100')\n",
    "user_knn.load_model(str(algo_path), file_name='UserKNNCFRecommender-ner-small-ndcg100')\n",
    "# item_knn.load_model(str(algo_path), file_name='ItemKNNCFRecommender-ner-small-ndcg100')\n",
    "# pure_svd_item.load_model(str(algo_path), file_name='PureSVDItemRecommender-ner-small-ndcg100')"
   ]
  },
  {
   "cell_type": "code",
   "execution_count": null,
   "metadata": {},
   "outputs": [],
   "source": [
    "from RecSys_Course_AT_PoliMi.Evaluation.Evaluator import EvaluatorHoldout\n",
    "\n",
    "cutoff = 100\n",
    "metric = 'NDCG'\n",
    "evaluator = EvaluatorHoldout(URM_val, cutoff_list=[cutoff, 10], exclude_seen=False)\n",
    "test_evaluator = EvaluatorHoldout(URM_test, cutoff_list=[cutoff, 10], exclude_seen=False)"
   ]
  },
  {
   "cell_type": "code",
   "execution_count": null,
   "metadata": {},
   "outputs": [],
   "source": [
    "# user_knn = UserKNNCFRecommender(URM_train)\n",
    "# user_knn.fit()\n",
    "result_df, _ = evaluator.evaluateRecommender(user_knn)\n",
    "result_df.loc[cutoff][metric.upper()]"
   ]
  },
  {
   "cell_type": "code",
   "execution_count": null,
   "metadata": {},
   "outputs": [],
   "source": [
    "result_df"
   ]
  },
  {
   "cell_type": "code",
   "execution_count": null,
   "metadata": {},
   "outputs": [],
   "source": [
    "user_knn = UserKNNCFRecommender(URM_train_val)\n",
    "user_knn.fit(**userknnparams)\n",
    "result_df, _ = test_evaluator.evaluateRecommender(user_knn)\n",
    "result_df.loc[cutoff][metric.upper()]"
   ]
  },
  {
   "cell_type": "code",
   "execution_count": null,
   "metadata": {},
   "outputs": [],
   "source": []
  }
 ],
 "metadata": {
  "kernelspec": {
   "display_name": ".venv",
   "language": "python",
   "name": "python3"
  },
  "language_info": {
   "codemirror_mode": {
    "name": "ipython",
    "version": 3
   },
   "file_extension": ".py",
   "mimetype": "text/x-python",
   "name": "python",
   "nbconvert_exporter": "python",
   "pygments_lexer": "ipython3",
   "version": "3.11.0"
  }
 },
 "nbformat": 4,
 "nbformat_minor": 2
}
