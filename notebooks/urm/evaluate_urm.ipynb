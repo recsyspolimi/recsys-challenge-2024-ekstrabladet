{
 "cells": [
  {
   "cell_type": "code",
   "execution_count": 5,
   "metadata": {},
   "outputs": [],
   "source": [
    "import polars as pl\n",
    "from pathlib import Path\n",
    "\n",
    "from RecSys_Course_AT_PoliMi.Recommenders.KNN.ItemKNNCFRecommender import ItemKNNCFRecommender\n",
    "from RecSys_Course_AT_PoliMi.Recommenders.KNN.UserKNNCFRecommender import UserKNNCFRecommender\n",
    "from polimi.utils._custom import load_sparse_csr\n",
    "from RecSys_Course_AT_PoliMi.Evaluation.Evaluator import EvaluatorHoldout\n"
   ]
  },
  {
   "cell_type": "code",
   "execution_count": 6,
   "metadata": {},
   "outputs": [],
   "source": [
    "urm_rec_path = Path('/mnt/ebs_volume/recsys2024/urm/recsys/large')\n",
    "urm_rec_path_s = Path('/mnt/ebs_volume/recsys2024/urm/recsys/small')\n",
    "urm_ner_path = Path('/mnt/ebs_volume/recsys2024/urm/ner/small')"
   ]
  },
  {
   "cell_type": "code",
   "execution_count": 7,
   "metadata": {},
   "outputs": [
    {
     "name": "stdout",
     "output_type": "stream",
     "text": [
      "File loaded at: /mnt/ebs_volume/recsys2024/urm/recsys/small/URM_train.npz\n",
      "File loaded at: /mnt/ebs_volume/recsys2024/urm/recsys/small/URM_validation.npz\n"
     ]
    }
   ],
   "source": [
    "URM_train_rec_s = load_sparse_csr(urm_rec_path_s.joinpath('URM_train.npz'))\n",
    "URM_val_rec_s =  load_sparse_csr(urm_rec_path_s.joinpath('URM_validation.npz'))\n",
    "URM_train_rec = load_sparse_csr(urm_rec_path.joinpath('URM_train.npz'))\n",
    "URM_val_rec =  load_sparse_csr(urm_rec_path.joinpath('URM_validation.npz'))\n",
    "URM_train_ner = load_sparse_csr(urm_ner_path.joinpath('URM_train.npz'))\n",
    "URM_val_ner =  load_sparse_csr(urm_ner_path.joinpath('URM_validation.npz'))"
   ]
  },
  {
   "cell_type": "code",
   "execution_count": null,
   "metadata": {},
   "outputs": [],
   "source": [
    "URM_train_rec_s.shape\n",
    "URM_val_rec_s.shape"
   ]
  },
  {
   "cell_type": "code",
   "execution_count": null,
   "metadata": {},
   "outputs": [],
   "source": [
    "URM_train_rec.shape\n",
    "URM_val_rec.shape"
   ]
  },
  {
   "cell_type": "code",
   "execution_count": null,
   "metadata": {},
   "outputs": [],
   "source": [
    "URM_train_ner.shape\n",
    "URM_val_ner.shape"
   ]
  },
  {
   "cell_type": "code",
   "execution_count": 8,
   "metadata": {},
   "outputs": [
    {
     "name": "stdout",
     "output_type": "stream",
     "text": [
      "ItemKNNCFRecommender: URM Detected 3684 (19.6%) users with no interactions.\n",
      "ItemKNNCFRecommender: URM Detected 11952 (57.6%) items with no interactions.\n",
      "Similarity column 20738 (100.0%), 802.06 column/sec. Elapsed time 25.86 sec\n",
      "EvaluatorHoldout: Ignoring 3485 (18.5%) Users that have less than 1 test interactions\n",
      "EvaluatorHoldout: Processed 15342 (100.0%) in 52.99 sec. Users per second: 290\n"
     ]
    },
    {
     "data": {
      "text/html": [
       "<div>\n",
       "<style scoped>\n",
       "    .dataframe tbody tr th:only-of-type {\n",
       "        vertical-align: middle;\n",
       "    }\n",
       "\n",
       "    .dataframe tbody tr th {\n",
       "        vertical-align: top;\n",
       "    }\n",
       "\n",
       "    .dataframe thead th {\n",
       "        text-align: right;\n",
       "    }\n",
       "</style>\n",
       "<table border=\"1\" class=\"dataframe\">\n",
       "  <thead>\n",
       "    <tr style=\"text-align: right;\">\n",
       "      <th></th>\n",
       "      <th>PRECISION</th>\n",
       "      <th>PRECISION_RECALL_MIN_DEN</th>\n",
       "      <th>RECALL</th>\n",
       "      <th>MAP</th>\n",
       "      <th>MAP_MIN_DEN</th>\n",
       "      <th>MRR</th>\n",
       "      <th>NDCG</th>\n",
       "      <th>F1</th>\n",
       "      <th>HIT_RATE</th>\n",
       "      <th>ARHR_ALL_HITS</th>\n",
       "      <th>...</th>\n",
       "      <th>COVERAGE_USER</th>\n",
       "      <th>COVERAGE_USER_HIT</th>\n",
       "      <th>USERS_IN_GT</th>\n",
       "      <th>DIVERSITY_GINI</th>\n",
       "      <th>SHANNON_ENTROPY</th>\n",
       "      <th>RATIO_DIVERSITY_HERFINDAHL</th>\n",
       "      <th>RATIO_DIVERSITY_GINI</th>\n",
       "      <th>RATIO_SHANNON_ENTROPY</th>\n",
       "      <th>RATIO_AVERAGE_POPULARITY</th>\n",
       "      <th>RATIO_NOVELTY</th>\n",
       "    </tr>\n",
       "    <tr>\n",
       "      <th>cutoff</th>\n",
       "      <th></th>\n",
       "      <th></th>\n",
       "      <th></th>\n",
       "      <th></th>\n",
       "      <th></th>\n",
       "      <th></th>\n",
       "      <th></th>\n",
       "      <th></th>\n",
       "      <th></th>\n",
       "      <th></th>\n",
       "      <th></th>\n",
       "      <th></th>\n",
       "      <th></th>\n",
       "      <th></th>\n",
       "      <th></th>\n",
       "      <th></th>\n",
       "      <th></th>\n",
       "      <th></th>\n",
       "      <th></th>\n",
       "      <th></th>\n",
       "      <th></th>\n",
       "    </tr>\n",
       "  </thead>\n",
       "  <tbody>\n",
       "    <tr>\n",
       "      <th>10</th>\n",
       "      <td>0.257483</td>\n",
       "      <td>0.257568</td>\n",
       "      <td>0.026303</td>\n",
       "      <td>0.167563</td>\n",
       "      <td>0.167593</td>\n",
       "      <td>0.385574</td>\n",
       "      <td>0.260864</td>\n",
       "      <td>0.04773</td>\n",
       "      <td>0.634598</td>\n",
       "      <td>0.772573</td>\n",
       "      <td>...</td>\n",
       "      <td>0.814894</td>\n",
       "      <td>0.51713</td>\n",
       "      <td>0.814894</td>\n",
       "      <td>0.018053</td>\n",
       "      <td>8.588478</td>\n",
       "      <td>0.993002</td>\n",
       "      <td>0.238441</td>\n",
       "      <td>0.780222</td>\n",
       "      <td>1.450834</td>\n",
       "      <td>0.085144</td>\n",
       "    </tr>\n",
       "  </tbody>\n",
       "</table>\n",
       "<p>1 rows × 27 columns</p>\n",
       "</div>"
      ],
      "text/plain": [
       "       PRECISION PRECISION_RECALL_MIN_DEN    RECALL       MAP MAP_MIN_DEN  \\\n",
       "cutoff                                                                      \n",
       "10      0.257483                 0.257568  0.026303  0.167563    0.167593   \n",
       "\n",
       "             MRR      NDCG       F1  HIT_RATE ARHR_ALL_HITS  ...  \\\n",
       "cutoff                                                       ...   \n",
       "10      0.385574  0.260864  0.04773  0.634598      0.772573  ...   \n",
       "\n",
       "       COVERAGE_USER COVERAGE_USER_HIT USERS_IN_GT DIVERSITY_GINI  \\\n",
       "cutoff                                                              \n",
       "10          0.814894           0.51713    0.814894       0.018053   \n",
       "\n",
       "       SHANNON_ENTROPY RATIO_DIVERSITY_HERFINDAHL RATIO_DIVERSITY_GINI  \\\n",
       "cutoff                                                                   \n",
       "10            8.588478                   0.993002             0.238441   \n",
       "\n",
       "       RATIO_SHANNON_ENTROPY RATIO_AVERAGE_POPULARITY RATIO_NOVELTY  \n",
       "cutoff                                                               \n",
       "10                  0.780222                 1.450834      0.085144  \n",
       "\n",
       "[1 rows x 27 columns]"
      ]
     },
     "execution_count": 8,
     "metadata": {},
     "output_type": "execute_result"
    }
   ],
   "source": [
    "item_knn = ItemKNNCFRecommender(URM_train)\n",
    "item_knn.fit()\n",
    "\n",
    "evaluator = EvaluatorHoldout(URM_val, cutoff_list=[10], exclude_seen=False)\n",
    "result_df, _ = evaluator.evaluateRecommender(item_knn)\n",
    "result_df"
   ]
  },
  {
   "cell_type": "code",
   "execution_count": null,
   "metadata": {},
   "outputs": [],
   "source": []
  }
 ],
 "metadata": {
  "kernelspec": {
   "display_name": ".venv",
   "language": "python",
   "name": "python3"
  },
  "language_info": {
   "codemirror_mode": {
    "name": "ipython",
    "version": 3
   },
   "file_extension": ".py",
   "mimetype": "text/x-python",
   "name": "python",
   "nbconvert_exporter": "python",
   "pygments_lexer": "ipython3",
   "version": "3.10.12"
  }
 },
 "nbformat": 4,
 "nbformat_minor": 2
}
