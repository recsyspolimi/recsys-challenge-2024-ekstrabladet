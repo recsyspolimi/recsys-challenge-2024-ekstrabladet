{
 "cells": [
  {
   "cell_type": "code",
   "execution_count": 1,
   "metadata": {},
   "outputs": [],
   "source": [
    "import polars as pl\n",
    "from pathlib import Path"
   ]
  },
  {
   "cell_type": "code",
   "execution_count": 1,
   "metadata": {},
   "outputs": [
    {
     "ename": "NameError",
     "evalue": "name 'Path' is not defined",
     "output_type": "error",
     "traceback": [
      "\u001b[0;31m---------------------------------------------------------------------------\u001b[0m",
      "\u001b[0;31mNameError\u001b[0m                                 Traceback (most recent call last)",
      "Cell \u001b[0;32mIn[1], line 2\u001b[0m\n\u001b[1;32m      1\u001b[0m \u001b[38;5;28;01mimport\u001b[39;00m \u001b[38;5;21;01mjson\u001b[39;00m\n\u001b[0;32m----> 2\u001b[0m DIR \u001b[38;5;241m=\u001b[39m \u001b[43mPath\u001b[49m(\u001b[38;5;124m'\u001b[39m\u001b[38;5;124m/Users/lorecampa/Desktop/Projects/RecSysChallenge2024/dataset/preprocessing/subsample_new_with_recsys_small\u001b[39m\u001b[38;5;124m'\u001b[39m)\n\u001b[1;32m      4\u001b[0m train_ds \u001b[38;5;241m=\u001b[39m pl\u001b[38;5;241m.\u001b[39mread_parquet(DIR \u001b[38;5;241m/\u001b[39m \u001b[38;5;124m'\u001b[39m\u001b[38;5;124mtrain_ds.parquet\u001b[39m\u001b[38;5;124m'\u001b[39m)\n\u001b[1;32m      5\u001b[0m \u001b[38;5;28;01mwith\u001b[39;00m \u001b[38;5;28mopen\u001b[39m(DIR \u001b[38;5;241m/\u001b[39m \u001b[38;5;124m'\u001b[39m\u001b[38;5;124mdata_info.json\u001b[39m\u001b[38;5;124m'\u001b[39m) \u001b[38;5;28;01mas\u001b[39;00m data_info_file:\n",
      "\u001b[0;31mNameError\u001b[0m: name 'Path' is not defined"
     ]
    }
   ],
   "source": [
    "import json\n",
    "DIR = Path('/Users/lorecampa/Desktop/Projects/RecSysChallenge2024/dataset/preprocessing/subsample_new_with_recsys_small')\n",
    "\n",
    "train_ds = pl.read_parquet(DIR / 'train_ds.parquet')\n",
    "with open(DIR / 'data_info.json') as data_info_file:\n",
    "        data_info = json.load(data_info_file)"
   ]
  },
  {
   "cell_type": "code",
   "execution_count": null,
   "metadata": {},
   "outputs": [],
   "source": [
    "import math\n",
    "BATCH_SIZE = math.ceil(len(train_ds) / 5)\n",
    "for i, slice in enumerate(train_ds.iter_slices(BATCH_SIZE)):\n",
    "    slice.write_parquet(DIR / 'slices' / f'slice_{i}.parquet')"
   ]
  },
  {
   "cell_type": "code",
   "execution_count": null,
   "metadata": {},
   "outputs": [],
   "source": [
    "import gc\n",
    "import numpy as np\n",
    "\n",
    "def preprocess_slice(train_ds: pl.DataFrame):        \n",
    "    if 'postcode' in train_ds.columns:\n",
    "        train_ds = train_ds.with_columns(pl.col('postcode').fill_null(5))\n",
    "    if 'article_type' in train_ds.columns:\n",
    "        train_ds = train_ds.with_columns(pl.col('article_type').fill_null('article_default'))\n",
    "    if 'impression_time' in train_ds.columns:\n",
    "        train_ds = train_ds.drop(['impression_time'])\n",
    "    \n",
    "    train_ds = train_ds.drop(['impression_id', 'article', 'user_id']).to_pandas()\n",
    "    train_ds[data_info['categorical_columns']] = train_ds[data_info['categorical_columns']].astype('category')\n",
    "        \n",
    "    X = train_ds.drop(columns=['target'])\n",
    "    X = X.replace([np.inf, -np.inf], np.nan)\n",
    "    y = train_ds['target']\n",
    "    return X, y"
   ]
  },
  {
   "cell_type": "code",
   "execution_count": null,
   "metadata": {},
   "outputs": [],
   "source": [
    "import os\n",
    "from typing import List, Callable\n",
    "import xgboost\n",
    "from sklearn.datasets import load_svmlight_file\n",
    "from polimi.utils._custom import read_json\n",
    "\n",
    "class Iterator(xgboost.DataIter):\n",
    "  def __init__(self, file_paths: List[str]):\n",
    "    self._file_paths = file_paths\n",
    "    self._it = 0\n",
    "    \n",
    "    # # XGBoost will generate some cache files under current directory with the prefix\n",
    "    # # \"cache\"\n",
    "    # super().__init__(cache_prefix=os.path.join(\".\", \"cache\"))\n",
    "    super().__init__()\n",
    "\n",
    "\n",
    "  def next(self, input_data: Callable):\n",
    "    \"\"\"Advance the iterator by 1 step and pass the data to XGBoost.  This function is\n",
    "    called by XGBoost during the construction of ``DMatrix``\n",
    "\n",
    "    \"\"\"\n",
    "    if self._it == len(self._file_paths):\n",
    "      # return 0 to let XGBoost know this is the end of iteration\n",
    "      return 0\n",
    "\n",
    "    # input_data is a function passed in by XGBoost who has the exact same signature of\n",
    "    # ``DMatrix``\n",
    "    train_ds = pl.read_parquet(self._file_paths[self._it])\n",
    "    X, y = preprocess_slice(train_ds)\n",
    "    input_data(data=X, label=y)\n",
    "    self._it += 1\n",
    "    # Return 1 to let XGBoost know we haven't seen all the files yet.\n",
    "    return 1\n",
    "\n",
    "  def reset(self):\n",
    "    \"\"\"Reset the iterator to its beginning\"\"\"\n",
    "    self._it = 0\n",
    "\n",
    "slices_paths = sorted(list((DIR / 'slices').glob('slice_*.parquet')), key=lambda x: int(x.stem.split('_')[1]))\n",
    "print(slices_paths)\n",
    "slices_paths = slices_paths\n",
    "it = Iterator(slices_paths)\n",
    "\n",
    "params = read_json(Path('/Users/lorecampa/Desktop/Projects/RecSysChallenge2024/configuration_files') / 'xgb_cls_new_with_recsys_noK.json')\n",
    "print(params)\n",
    "\n",
    "Xy = xgboost.QuantileDMatrix(it, enable_categorical=True, max_bin=params['max_bin'])\n",
    "\n",
    "# The ``approx`` also work, but with low performance. GPU implementation is different from CPU.\n",
    "# as noted in following sections.\n",
    "booster = xgboost.train(params, Xy, evals=[(Xy, 'train')], verbose_eval=100)\n"
   ]
  },
  {
   "cell_type": "code",
   "execution_count": null,
   "metadata": {},
   "outputs": [],
   "source": [
    "val_ds = pl.read_parquet(DIR / 'validation_ds.parquet')\n",
    "if 'postcode' in val_ds.columns:\n",
    "    val_ds = val_ds.with_columns(pl.col('postcode').fill_null(5))\n",
    "if 'article_type' in val_ds.columns:\n",
    "    val_ds = val_ds.with_columns(pl.col('article_type').fill_null('article_default'))\n",
    "if 'impression_time' in val_ds.columns:\n",
    "    val_ds = val_ds.drop(['impression_time'])\n",
    "\n",
    "val_ds = val_ds.to_pandas()\n",
    "val_ds[data_info['categorical_columns']] = val_ds[data_info['categorical_columns']].astype('category')\n",
    "X_val = val_ds[Xy.feature_names]\n",
    "evaluation_ds = pl.from_pandas(val_ds[['impression_id', 'article', 'target']])"
   ]
  },
  {
   "cell_type": "code",
   "execution_count": null,
   "metadata": {},
   "outputs": [],
   "source": [
    "dval = xgboost.DMatrix(X_val, enable_categorical=True)\n",
    "booster.predict(X_val)"
   ]
  },
  {
   "cell_type": "code",
   "execution_count": null,
   "metadata": {},
   "outputs": [],
   "source": [
    "\n",
    "\n",
    "prediction_ds = evaluation_ds.with_columns(pl.Series(booster.predict(X_val)[:, 1]).alias('prediction')) \\\n",
    "                .group_by('impression_id').agg(pl.col('target'), pl.col('prediction'))"
   ]
  },
  {
   "cell_type": "code",
   "execution_count": null,
   "metadata": {},
   "outputs": [],
   "source": []
  }
 ],
 "metadata": {
  "kernelspec": {
   "display_name": "recsys",
   "language": "python",
   "name": "python3"
  },
  "language_info": {
   "codemirror_mode": {
    "name": "ipython",
    "version": 3
   },
   "file_extension": ".py",
   "mimetype": "text/x-python",
   "name": "python",
   "nbconvert_exporter": "python",
   "pygments_lexer": "ipython3",
   "version": "3.11.0"
  }
 },
 "nbformat": 4,
 "nbformat_minor": 2
}
