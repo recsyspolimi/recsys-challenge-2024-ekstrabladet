{
 "cells": [
  {
   "cell_type": "code",
   "execution_count": 1,
   "id": "4711ca50",
   "metadata": {
    "execution": {
     "iopub.execute_input": "2024-03-22T22:45:03.518768Z",
     "iopub.status.busy": "2024-03-22T22:45:03.517783Z",
     "iopub.status.idle": "2024-03-22T22:45:08.026861Z",
     "shell.execute_reply": "2024-03-22T22:45:08.025374Z"
    },
    "papermill": {
     "duration": 4.523025,
     "end_time": "2024-03-22T22:45:08.029971",
     "exception": false,
     "start_time": "2024-03-22T22:45:03.506946",
     "status": "completed"
    },
    "tags": []
   },
   "outputs": [
    {
     "name": "stdout",
     "output_type": "stream",
     "text": [
      "Cloning into 'RecSysChallenge2024'...\r\n",
      "remote: Enumerating objects: 77, done.\u001b[K\r\n",
      "remote: Counting objects: 100% (77/77), done.\u001b[K\r\n",
      "remote: Compressing objects: 100% (62/62), done.\u001b[K\r\n",
      "remote: Total 77 (delta 10), reused 69 (delta 8), pack-reused 0\u001b[K\r\n",
      "Unpacking objects: 100% (77/77), 1.61 MiB | 6.29 MiB/s, done.\r\n",
      "Cloning into 'ebnerd-benchmark'...\r\n",
      "remote: Enumerating objects: 340, done.\u001b[K\r\n",
      "remote: Counting objects: 100% (340/340), done.\u001b[K\r\n",
      "remote: Compressing objects: 100% (224/224), done.\u001b[K\r\n",
      "remote: Total 340 (delta 151), reused 277 (delta 93), pack-reused 0\u001b[K\r\n",
      "Receiving objects: 100% (340/340), 15.18 MiB | 27.65 MiB/s, done.\r\n",
      "Resolving deltas: 100% (151/151), done.\r\n"
     ]
    }
   ],
   "source": [
    "from kaggle_secrets import UserSecretsClient\n",
    "secret_label = \"Token\"\n",
    "token = UserSecretsClient().get_secret(secret_label)\n",
    "\n",
    "! git clone --branch baseline_boosting https://{token}@github.com/FrancescoZanella/RecSysChallenge2024.git\n",
    "! git clone https://github.com/ebanalyse/ebnerd-benchmark.git"
   ]
  },
  {
   "cell_type": "code",
   "execution_count": 2,
   "id": "85180eb3",
   "metadata": {
    "execution": {
     "iopub.execute_input": "2024-03-22T22:45:08.051812Z",
     "iopub.status.busy": "2024-03-22T22:45:08.051288Z",
     "iopub.status.idle": "2024-03-22T22:45:08.061736Z",
     "shell.execute_reply": "2024-03-22T22:45:08.060298Z"
    },
    "papermill": {
     "duration": 0.025002,
     "end_time": "2024-03-22T22:45:08.064525",
     "exception": false,
     "start_time": "2024-03-22T22:45:08.039523",
     "status": "completed"
    },
    "tags": []
   },
   "outputs": [
    {
     "name": "stdout",
     "output_type": "stream",
     "text": [
      "/kaggle/working/ebnerd-benchmark/src\n"
     ]
    }
   ],
   "source": [
    "%cd ebnerd-benchmark/src"
   ]
  },
  {
   "cell_type": "code",
   "execution_count": 3,
   "id": "3024f261",
   "metadata": {
    "_cell_guid": "b1076dfc-b9ad-4769-8c92-a6c4dae69d19",
    "_uuid": "8f2839f25d086af736a60e9eeb907d3b93b6e0e5",
    "execution": {
     "iopub.execute_input": "2024-03-22T22:45:08.086223Z",
     "iopub.status.busy": "2024-03-22T22:45:08.084740Z",
     "iopub.status.idle": "2024-03-22T22:45:15.909916Z",
     "shell.execute_reply": "2024-03-22T22:45:15.908223Z"
    },
    "papermill": {
     "duration": 7.839908,
     "end_time": "2024-03-22T22:45:15.913819",
     "exception": false,
     "start_time": "2024-03-22T22:45:08.073911",
     "status": "completed"
    },
    "tags": []
   },
   "outputs": [],
   "source": [
    "import numpy as np\n",
    "import pandas as pd\n",
    "import matplotlib.pyplot as plt\n",
    "import seaborn as sns\n",
    "from pathlib import Path\n",
    "import polars as pl\n",
    "import scipy.stats as stats\n",
    "\n",
    "from ebrec.utils._descriptive_analysis import (\n",
    "    min_max_impression_time_behaviors, \n",
    "    min_max_impression_time_history\n",
    ")\n",
    "from ebrec.utils._polars import slice_join_dataframes\n",
    "from ebrec.utils._behaviors import (\n",
    "    create_binary_labels_column,\n",
    "    sampling_strategy_wu2019,\n",
    "    truncate_history,\n",
    ")\n",
    "from ebrec.utils._constants import (\n",
    "    DEFAULT_HISTORY_ARTICLE_ID_COL,\n",
    "    DEFAULT_CLICKED_ARTICLES_COL,\n",
    "    DEFAULT_INVIEW_ARTICLES_COL,\n",
    "    DEFAULT_USER_COL\n",
    ")\n",
    "from ebrec.evaluation.metrics_protocols import *\n",
    "\n",
    "from catboost import CatBoostClassifier"
   ]
  },
  {
   "cell_type": "code",
   "execution_count": 4,
   "id": "59c26f4f",
   "metadata": {
    "execution": {
     "iopub.execute_input": "2024-03-22T22:45:15.937451Z",
     "iopub.status.busy": "2024-03-22T22:45:15.936747Z",
     "iopub.status.idle": "2024-03-22T22:45:17.800215Z",
     "shell.execute_reply": "2024-03-22T22:45:17.799128Z"
    },
    "papermill": {
     "duration": 1.878791,
     "end_time": "2024-03-22T22:45:17.803384",
     "exception": false,
     "start_time": "2024-03-22T22:45:15.924593",
     "status": "completed"
    },
    "tags": []
   },
   "outputs": [],
   "source": [
    "articles = pl.read_parquet('/kaggle/input/recommender-systems-challenge-2024/ebnerd_small/articles.parquet')\n",
    "\n",
    "behaviors_train = pl.read_parquet('/kaggle/input/recommender-systems-challenge-2024/ebnerd_small/train/behaviors.parquet')\n",
    "history_train = pl.read_parquet('/kaggle/input/recommender-systems-challenge-2024/ebnerd_small/train/history.parquet')\n",
    "\n",
    "behaviors_val = pl.read_parquet('/kaggle/input/recommender-systems-challenge-2024/ebnerd_small/validation/behaviors.parquet')\n",
    "history_val = pl.read_parquet('/kaggle/input/recommender-systems-challenge-2024/ebnerd_small/validation/history.parquet')"
   ]
  },
  {
   "cell_type": "code",
   "execution_count": 5,
   "id": "edc043f0",
   "metadata": {
    "execution": {
     "iopub.execute_input": "2024-03-22T22:45:17.825507Z",
     "iopub.status.busy": "2024-03-22T22:45:17.825115Z",
     "iopub.status.idle": "2024-03-22T22:45:26.309573Z",
     "shell.execute_reply": "2024-03-22T22:45:26.307981Z"
    },
    "papermill": {
     "duration": 8.499536,
     "end_time": "2024-03-22T22:45:26.312801",
     "exception": false,
     "start_time": "2024-03-22T22:45:17.813265",
     "status": "completed"
    },
    "tags": []
   },
   "outputs": [],
   "source": [
    "NPRATIO = 2\n",
    "train_ds = behaviors_train.pipe(\n",
    "    sampling_strategy_wu2019, npratio=NPRATIO, shuffle=False, with_replacement=True, seed=123\n",
    ").pipe(create_binary_labels_column, shuffle=True, seed=123).with_columns(pl.col(\"labels\").list.len().name.suffix(\"_len\"))"
   ]
  },
  {
   "cell_type": "code",
   "execution_count": 6,
   "id": "c6370acf",
   "metadata": {
    "execution": {
     "iopub.execute_input": "2024-03-22T22:45:26.334978Z",
     "iopub.status.busy": "2024-03-22T22:45:26.334093Z",
     "iopub.status.idle": "2024-03-22T22:45:26.452397Z",
     "shell.execute_reply": "2024-03-22T22:45:26.451544Z"
    },
    "papermill": {
     "duration": 0.132793,
     "end_time": "2024-03-22T22:45:26.455404",
     "exception": false,
     "start_time": "2024-03-22T22:45:26.322611",
     "status": "completed"
    },
    "tags": []
   },
   "outputs": [
    {
     "data": {
      "text/html": [
       "<div><style>\n",
       ".dataframe > thead > tr,\n",
       ".dataframe > tbody > tr {\n",
       "  text-align: right;\n",
       "  white-space: pre-wrap;\n",
       "}\n",
       "</style>\n",
       "<small>shape: (5, 20)</small><table border=\"1\" class=\"dataframe\"><thead><tr><th>impression_id</th><th>article</th><th>target</th><th>device_type</th><th>read_time</th><th>scroll_percentage</th><th>user_id</th><th>is_sso_user</th><th>gender</th><th>age</th><th>is_subscriber</th><th>weekday</th><th>hour</th><th>is_in_home</th><th>premium</th><th>category</th><th>sentiment_score</th><th>sentiment_label</th><th>article_delay_days</th><th>article_delay_hours</th></tr><tr><td>u32</td><td>i32</td><td>i8</td><td>i8</td><td>f32</td><td>f32</td><td>u32</td><td>bool</td><td>i8</td><td>i8</td><td>bool</td><td>i8</td><td>i8</td><td>bool</td><td>bool</td><td>i16</td><td>f32</td><td>str</td><td>i64</td><td>i64</td></tr></thead><tbody><tr><td>149474</td><td>9778669</td><td>0</td><td>2</td><td>13.0</td><td>null</td><td>139836</td><td>false</td><td>null</td><td>null</td><td>false</td><td>3</td><td>7</td><td>true</td><td>false</td><td>118</td><td>0.9481</td><td>&quot;Negative&quot;</td><td>0</td><td>1</td></tr><tr><td>149474</td><td>9778728</td><td>0</td><td>2</td><td>13.0</td><td>null</td><td>139836</td><td>false</td><td>null</td><td>null</td><td>false</td><td>3</td><td>7</td><td>true</td><td>false</td><td>142</td><td>0.9654</td><td>&quot;Negative&quot;</td><td>0</td><td>0</td></tr><tr><td>149474</td><td>9778657</td><td>1</td><td>2</td><td>13.0</td><td>null</td><td>139836</td><td>false</td><td>null</td><td>null</td><td>false</td><td>3</td><td>7</td><td>true</td><td>false</td><td>118</td><td>0.8347</td><td>&quot;Neutral&quot;</td><td>0</td><td>1</td></tr><tr><td>150528</td><td>9778669</td><td>0</td><td>2</td><td>25.0</td><td>null</td><td>143471</td><td>false</td><td>null</td><td>null</td><td>false</td><td>3</td><td>7</td><td>true</td><td>false</td><td>118</td><td>0.9481</td><td>&quot;Negative&quot;</td><td>0</td><td>1</td></tr><tr><td>150528</td><td>9778682</td><td>0</td><td>2</td><td>25.0</td><td>null</td><td>143471</td><td>false</td><td>null</td><td>null</td><td>false</td><td>3</td><td>7</td><td>true</td><td>false</td><td>498</td><td>0.9546</td><td>&quot;Negative&quot;</td><td>0</td><td>1</td></tr></tbody></table></div>"
      ],
      "text/plain": [
       "shape: (5, 20)\n",
       "┌────────────┬─────────┬────────┬────────────┬───┬────────────┬────────────┬───────────┬───────────┐\n",
       "│ impression ┆ article ┆ target ┆ device_typ ┆ … ┆ sentiment_ ┆ sentiment_ ┆ article_d ┆ article_d │\n",
       "│ _id        ┆ ---     ┆ ---    ┆ e          ┆   ┆ score      ┆ label      ┆ elay_days ┆ elay_hour │\n",
       "│ ---        ┆ i32     ┆ i8     ┆ ---        ┆   ┆ ---        ┆ ---        ┆ ---       ┆ s         │\n",
       "│ u32        ┆         ┆        ┆ i8         ┆   ┆ f32        ┆ str        ┆ i64       ┆ ---       │\n",
       "│            ┆         ┆        ┆            ┆   ┆            ┆            ┆           ┆ i64       │\n",
       "╞════════════╪═════════╪════════╪════════════╪═══╪════════════╪════════════╪═══════════╪═══════════╡\n",
       "│ 149474     ┆ 9778669 ┆ 0      ┆ 2          ┆ … ┆ 0.9481     ┆ Negative   ┆ 0         ┆ 1         │\n",
       "│ 149474     ┆ 9778728 ┆ 0      ┆ 2          ┆ … ┆ 0.9654     ┆ Negative   ┆ 0         ┆ 0         │\n",
       "│ 149474     ┆ 9778657 ┆ 1      ┆ 2          ┆ … ┆ 0.8347     ┆ Neutral    ┆ 0         ┆ 1         │\n",
       "│ 150528     ┆ 9778669 ┆ 0      ┆ 2          ┆ … ┆ 0.9481     ┆ Negative   ┆ 0         ┆ 1         │\n",
       "│ 150528     ┆ 9778682 ┆ 0      ┆ 2          ┆ … ┆ 0.9546     ┆ Negative   ┆ 0         ┆ 1         │\n",
       "└────────────┴─────────┴────────┴────────────┴───┴────────────┴────────────┴───────────┴───────────┘"
      ]
     },
     "execution_count": 6,
     "metadata": {},
     "output_type": "execute_result"
    }
   ],
   "source": [
    "train_ds = train_ds.select(['impression_id', 'article_ids_inview', 'article_id', 'impression_time', 'labels', \n",
    "                            'device_type', 'read_time', 'scroll_percentage', 'user_id', 'is_sso_user', 'gender',\n",
    "                            'age', 'is_subscriber']) \\\n",
    "    .explode(['article_ids_inview', 'labels']) \\\n",
    "    .rename({'article_ids_inview': 'article', 'labels': 'target'}) \\\n",
    "    .with_columns(\n",
    "        pl.col('impression_time').dt.weekday().alias('weekday'),\n",
    "        pl.col('impression_time').dt.hour().alias('hour'),\n",
    "        pl.col('article').cast(pl.Int32),\n",
    "        pl.col('article_id').is_null().alias('is_in_home'),\n",
    "    ).join(articles.select(['article_id', 'premium', 'published_time', 'category', \n",
    "                            'sentiment_score', 'sentiment_label']),\n",
    "           left_on='article', right_on='article_id', how='left') \\\n",
    "    .with_columns(\n",
    "        (pl.col('impression_time') - pl.col('published_time')).dt.total_days().alias('article_delay_days'),\n",
    "        (pl.col('impression_time') - pl.col('published_time')).dt.total_hours().alias('article_delay_hours')\n",
    "    ).drop(['impression_time', 'published_time', 'article_id'])\n",
    "\n",
    "train_ds.head()"
   ]
  },
  {
   "cell_type": "code",
   "execution_count": 7,
   "id": "6db61cce",
   "metadata": {
    "execution": {
     "iopub.execute_input": "2024-03-22T22:45:26.478463Z",
     "iopub.status.busy": "2024-03-22T22:45:26.477824Z",
     "iopub.status.idle": "2024-03-22T22:45:26.485608Z",
     "shell.execute_reply": "2024-03-22T22:45:26.484180Z"
    },
    "papermill": {
     "duration": 0.022988,
     "end_time": "2024-03-22T22:45:26.488662",
     "exception": false,
     "start_time": "2024-03-22T22:45:26.465674",
     "status": "completed"
    },
    "tags": []
   },
   "outputs": [
    {
     "data": {
      "text/plain": [
       "(702831, 20)"
      ]
     },
     "execution_count": 7,
     "metadata": {},
     "output_type": "execute_result"
    }
   ],
   "source": [
    "train_ds.shape"
   ]
  },
  {
   "cell_type": "markdown",
   "id": "d866c3f9",
   "metadata": {
    "papermill": {
     "duration": 0.010084,
     "end_time": "2024-03-22T22:45:26.509025",
     "exception": false,
     "start_time": "2024-03-22T22:45:26.498941",
     "status": "completed"
    },
    "tags": []
   },
   "source": [
    "# Adding history"
   ]
  },
  {
   "cell_type": "code",
   "execution_count": 8,
   "id": "e78b51e0",
   "metadata": {
    "execution": {
     "iopub.execute_input": "2024-03-22T22:45:26.532798Z",
     "iopub.status.busy": "2024-03-22T22:45:26.532281Z",
     "iopub.status.idle": "2024-03-22T22:45:26.682615Z",
     "shell.execute_reply": "2024-03-22T22:45:26.681051Z"
    },
    "papermill": {
     "duration": 0.166497,
     "end_time": "2024-03-22T22:45:26.685875",
     "exception": false,
     "start_time": "2024-03-22T22:45:26.519378",
     "status": "completed"
    },
    "tags": []
   },
   "outputs": [],
   "source": [
    "history_train = history_train.with_columns(\n",
    "    pl.col('article_id_fixed').list.len().alias('NumArticlesHistory'),\n",
    "    pl.col('read_time_fixed').list.median().alias('MedianReadTime'),\n",
    "    pl.col('read_time_fixed').list.max().alias('MaxReadTime'),\n",
    "    pl.col('read_time_fixed').list.sum().alias('TotalReadTime'),\n",
    "    pl.col('scroll_percentage_fixed').list.median().alias('MedianScrollPercentage'),\n",
    "    pl.col('scroll_percentage_fixed').list.max().alias('MaxScrollPercentage'),\n",
    "    pl.col('impression_time_fixed').list.eval(pl.element().dt.weekday()).alias('weekdays'),\n",
    "    pl.col('impression_time_fixed').list.eval(pl.element().dt.hour()).alias('hours'),\n",
    ").drop(['read_time_fixed', 'scroll_percentage_fixed', 'impression_time_fixed'])"
   ]
  },
  {
   "cell_type": "code",
   "execution_count": 9,
   "id": "f5a832a5",
   "metadata": {
    "execution": {
     "iopub.execute_input": "2024-03-22T22:45:26.708232Z",
     "iopub.status.busy": "2024-03-22T22:45:26.707825Z",
     "iopub.status.idle": "2024-03-22T22:45:26.715198Z",
     "shell.execute_reply": "2024-03-22T22:45:26.713933Z"
    },
    "papermill": {
     "duration": 0.021689,
     "end_time": "2024-03-22T22:45:26.717930",
     "exception": false,
     "start_time": "2024-03-22T22:45:26.696241",
     "status": "completed"
    },
    "tags": []
   },
   "outputs": [
    {
     "data": {
      "text/plain": [
       "(15143, 10)"
      ]
     },
     "execution_count": 9,
     "metadata": {},
     "output_type": "execute_result"
    }
   ],
   "source": [
    "history_train.shape"
   ]
  },
  {
   "cell_type": "code",
   "execution_count": 10,
   "id": "31c98179",
   "metadata": {
    "execution": {
     "iopub.execute_input": "2024-03-22T22:45:26.739987Z",
     "iopub.status.busy": "2024-03-22T22:45:26.739541Z",
     "iopub.status.idle": "2024-03-22T22:45:43.178839Z",
     "shell.execute_reply": "2024-03-22T22:45:43.177712Z"
    },
    "papermill": {
     "duration": 16.455234,
     "end_time": "2024-03-22T22:45:43.182926",
     "exception": false,
     "start_time": "2024-03-22T22:45:26.727692",
     "status": "completed"
    },
    "tags": []
   },
   "outputs": [
    {
     "data": {
      "application/vnd.jupyter.widget-view+json": {
       "model_id": "8029144df4c74edfbb543a3fabe6570d",
       "version_major": 2,
       "version_minor": 0
      },
      "text/plain": [
       "Output()"
      ]
     },
     "metadata": {},
     "output_type": "display_data"
    },
    {
     "data": {
      "text/html": [
       "<pre style=\"white-space:pre;overflow-x:auto;line-height:normal;font-family:Menlo,'DejaVu Sans Mono',consolas,'Courier New',monospace\"></pre>\n"
      ],
      "text/plain": []
     },
     "metadata": {},
     "output_type": "display_data"
    },
    {
     "data": {
      "text/html": [
       "<pre style=\"white-space:pre;overflow-x:auto;line-height:normal;font-family:Menlo,'DejaVu Sans Mono',consolas,'Courier New',monospace\">\n",
       "</pre>\n"
      ],
      "text/plain": [
       "\n"
      ]
     },
     "metadata": {},
     "output_type": "display_data"
    },
    {
     "name": "stdout",
     "output_type": "stream",
     "text": [
      "CPU times: user 20.1 s, sys: 5.81 s, total: 25.9 s\n",
      "Wall time: 16.4 s\n"
     ]
    },
    {
     "data": {
      "text/html": [
       "<div><style>\n",
       ".dataframe > thead > tr,\n",
       ".dataframe > tbody > tr {\n",
       "  text-align: right;\n",
       "  white-space: pre-wrap;\n",
       "}\n",
       "</style>\n",
       "<small>shape: (5, 10)</small><table border=\"1\" class=\"dataframe\"><thead><tr><th>user_id</th><th>NumArticlesHistory</th><th>MedianReadTime</th><th>MaxReadTime</th><th>TotalReadTime</th><th>MedianScrollPercentage</th><th>MaxScrollPercentage</th><th>weekdays</th><th>hours</th><th>categories</th></tr><tr><td>u32</td><td>u32</td><td>f32</td><td>f32</td><td>f32</td><td>f32</td><td>f32</td><td>list[i8]</td><td>list[i8]</td><td>list[i64]</td></tr></thead><tbody><tr><td>13538</td><td>582</td><td>6.0</td><td>672.0</td><td>7192.0</td><td>32.0</td><td>100.0</td><td>[4, 4, … 3]</td><td>[10, 10, … 20]</td><td>[512, 457, … 2975]</td></tr><tr><td>14241</td><td>179</td><td>19.0</td><td>1574.0</td><td>7754.0</td><td>100.0</td><td>100.0</td><td>[4, 4, … 3]</td><td>[9, 9, … 17]</td><td>[512, 457, … 2975]</td></tr><tr><td>20396</td><td>96</td><td>38.0</td><td>1278.0</td><td>6546.0</td><td>100.0</td><td>100.0</td><td>[4, 4, … 3]</td><td>[12, 12, … 10]</td><td>[512, 140, … 414]</td></tr><tr><td>34912</td><td>239</td><td>9.0</td><td>1393.0</td><td>10012.0</td><td>97.0</td><td>100.0</td><td>[6, 6, … 4]</td><td>[7, 13, … 5]</td><td>[512, 457, … 2975]</td></tr><tr><td>37953</td><td>104</td><td>15.5</td><td>1512.0</td><td>11103.0</td><td>58.0</td><td>100.0</td><td>[4, 4, … 3]</td><td>[19, 19, … 21]</td><td>[512, 457, … 2975]</td></tr></tbody></table></div>"
      ],
      "text/plain": [
       "shape: (5, 10)\n",
       "┌─────────┬────────────┬───────────┬───────────┬───┬───────────┬───────────┬───────────┬───────────┐\n",
       "│ user_id ┆ NumArticle ┆ MedianRea ┆ MaxReadTi ┆ … ┆ MaxScroll ┆ weekdays  ┆ hours     ┆ categorie │\n",
       "│ ---     ┆ sHistory   ┆ dTime     ┆ me        ┆   ┆ Percentag ┆ ---       ┆ ---       ┆ s         │\n",
       "│ u32     ┆ ---        ┆ ---       ┆ ---       ┆   ┆ e         ┆ list[i8]  ┆ list[i8]  ┆ ---       │\n",
       "│         ┆ u32        ┆ f32       ┆ f32       ┆   ┆ ---       ┆           ┆           ┆ list[i64] │\n",
       "│         ┆            ┆           ┆           ┆   ┆ f32       ┆           ┆           ┆           │\n",
       "╞═════════╪════════════╪═══════════╪═══════════╪═══╪═══════════╪═══════════╪═══════════╪═══════════╡\n",
       "│ 13538   ┆ 582        ┆ 6.0       ┆ 672.0     ┆ … ┆ 100.0     ┆ [4, 4, …  ┆ [10, 10,  ┆ [512,     │\n",
       "│         ┆            ┆           ┆           ┆   ┆           ┆ 3]        ┆ … 20]     ┆ 457, …    │\n",
       "│         ┆            ┆           ┆           ┆   ┆           ┆           ┆           ┆ 2975]     │\n",
       "│ 14241   ┆ 179        ┆ 19.0      ┆ 1574.0    ┆ … ┆ 100.0     ┆ [4, 4, …  ┆ [9, 9, …  ┆ [512,     │\n",
       "│         ┆            ┆           ┆           ┆   ┆           ┆ 3]        ┆ 17]       ┆ 457, …    │\n",
       "│         ┆            ┆           ┆           ┆   ┆           ┆           ┆           ┆ 2975]     │\n",
       "│ 20396   ┆ 96         ┆ 38.0      ┆ 1278.0    ┆ … ┆ 100.0     ┆ [4, 4, …  ┆ [12, 12,  ┆ [512,     │\n",
       "│         ┆            ┆           ┆           ┆   ┆           ┆ 3]        ┆ … 10]     ┆ 140, …    │\n",
       "│         ┆            ┆           ┆           ┆   ┆           ┆           ┆           ┆ 414]      │\n",
       "│ 34912   ┆ 239        ┆ 9.0       ┆ 1393.0    ┆ … ┆ 100.0     ┆ [6, 6, …  ┆ [7, 13, … ┆ [512,     │\n",
       "│         ┆            ┆           ┆           ┆   ┆           ┆ 4]        ┆ 5]        ┆ 457, …    │\n",
       "│         ┆            ┆           ┆           ┆   ┆           ┆           ┆           ┆ 2975]     │\n",
       "│ 37953   ┆ 104        ┆ 15.5      ┆ 1512.0    ┆ … ┆ 100.0     ┆ [4, 4, …  ┆ [19, 19,  ┆ [512,     │\n",
       "│         ┆            ┆           ┆           ┆   ┆           ┆ 3]        ┆ … 21]     ┆ 457, …    │\n",
       "│         ┆            ┆           ┆           ┆   ┆           ┆           ┆           ┆ 2975]     │\n",
       "└─────────┴────────────┴───────────┴───────────┴───┴───────────┴───────────┴───────────┴───────────┘"
      ]
     },
     "execution_count": 10,
     "metadata": {},
     "output_type": "execute_result"
    }
   ],
   "source": [
    "%%time\n",
    "\n",
    "from rich.progress import Progress\n",
    "\n",
    "def get_categories(article_ids):\n",
    "    progress.update(task_id, advance=1)\n",
    "    categories = articles.filter(pl.col('article_id').is_in(article_ids)) \\\n",
    "        .select(pl.col('category').explode())['category'].to_list()\n",
    "    return list(set(categories))\n",
    "\n",
    "with Progress() as progress: \n",
    "    task_id = progress.add_task(\"Getting Categories\", total=history_train.shape[0])\n",
    "    history_train = history_train.with_columns(\n",
    "        pl.col('article_id_fixed').map_elements(get_categories, return_dtype=pl.List(pl.Int64)).alias('categories')\n",
    "    ).drop('article_id_fixed')\n",
    "    \n",
    "history_train.head()"
   ]
  },
  {
   "cell_type": "code",
   "execution_count": 11,
   "id": "cdfe4335",
   "metadata": {
    "execution": {
     "iopub.execute_input": "2024-03-22T22:45:43.836769Z",
     "iopub.status.busy": "2024-03-22T22:45:43.836174Z",
     "iopub.status.idle": "2024-03-22T22:46:27.413137Z",
     "shell.execute_reply": "2024-03-22T22:46:27.411806Z"
    },
    "papermill": {
     "duration": 44.231479,
     "end_time": "2024-03-22T22:46:27.428655",
     "exception": false,
     "start_time": "2024-03-22T22:45:43.197176",
     "status": "completed"
    },
    "tags": []
   },
   "outputs": [
    {
     "name": "stdout",
     "output_type": "stream",
     "text": [
      "CPU times: user 40 s, sys: 8.79 s, total: 48.8 s\n",
      "Wall time: 43.6 s\n"
     ]
    },
    {
     "data": {
      "text/html": [
       "<div><style>\n",
       ".dataframe > thead > tr,\n",
       ".dataframe > tbody > tr {\n",
       "  text-align: right;\n",
       "  white-space: pre-wrap;\n",
       "}\n",
       "</style>\n",
       "<small>shape: (5, 29)</small><table border=\"1\" class=\"dataframe\"><thead><tr><th>impression_id</th><th>article</th><th>target</th><th>device_type</th><th>read_time</th><th>scroll_percentage</th><th>user_id</th><th>is_sso_user</th><th>gender</th><th>age</th><th>is_subscriber</th><th>weekday</th><th>hour</th><th>is_in_home</th><th>premium</th><th>category</th><th>sentiment_score</th><th>sentiment_label</th><th>article_delay_days</th><th>article_delay_hours</th><th>NumArticlesHistory</th><th>MedianReadTime</th><th>MaxReadTime</th><th>TotalReadTime</th><th>MedianScrollPercentage</th><th>MaxScrollPercentage</th><th>MostFrequentCategory</th><th>MostFrequentWeekday</th><th>MostFrequentHour</th></tr><tr><td>u32</td><td>i32</td><td>i8</td><td>i8</td><td>f32</td><td>f32</td><td>u32</td><td>bool</td><td>i8</td><td>i8</td><td>bool</td><td>i8</td><td>i8</td><td>bool</td><td>bool</td><td>i16</td><td>f32</td><td>str</td><td>i64</td><td>i64</td><td>u32</td><td>f32</td><td>f32</td><td>f32</td><td>f32</td><td>f32</td><td>i16</td><td>i8</td><td>i8</td></tr></thead><tbody><tr><td>149474</td><td>9778669</td><td>0</td><td>2</td><td>13.0</td><td>null</td><td>139836</td><td>false</td><td>null</td><td>null</td><td>false</td><td>3</td><td>7</td><td>true</td><td>false</td><td>118</td><td>0.9481</td><td>&quot;Negative&quot;</td><td>0</td><td>1</td><td>19</td><td>11.0</td><td>88.0</td><td>399.0</td><td>47.0</td><td>100.0</td><td>118</td><td>5</td><td>19</td></tr><tr><td>149474</td><td>9778728</td><td>0</td><td>2</td><td>13.0</td><td>null</td><td>139836</td><td>false</td><td>null</td><td>null</td><td>false</td><td>3</td><td>7</td><td>true</td><td>false</td><td>142</td><td>0.9654</td><td>&quot;Negative&quot;</td><td>0</td><td>0</td><td>19</td><td>11.0</td><td>88.0</td><td>399.0</td><td>47.0</td><td>100.0</td><td>118</td><td>5</td><td>19</td></tr><tr><td>149474</td><td>9778657</td><td>1</td><td>2</td><td>13.0</td><td>null</td><td>139836</td><td>false</td><td>null</td><td>null</td><td>false</td><td>3</td><td>7</td><td>true</td><td>false</td><td>118</td><td>0.8347</td><td>&quot;Neutral&quot;</td><td>0</td><td>1</td><td>19</td><td>11.0</td><td>88.0</td><td>399.0</td><td>47.0</td><td>100.0</td><td>118</td><td>5</td><td>19</td></tr><tr><td>150528</td><td>9778669</td><td>0</td><td>2</td><td>25.0</td><td>null</td><td>143471</td><td>false</td><td>null</td><td>null</td><td>false</td><td>3</td><td>7</td><td>true</td><td>false</td><td>118</td><td>0.9481</td><td>&quot;Negative&quot;</td><td>0</td><td>1</td><td>482</td><td>13.0</td><td>1390.0</td><td>23016.0</td><td>56.0</td><td>100.0</td><td>118</td><td>4</td><td>4</td></tr><tr><td>150528</td><td>9778682</td><td>0</td><td>2</td><td>25.0</td><td>null</td><td>143471</td><td>false</td><td>null</td><td>null</td><td>false</td><td>3</td><td>7</td><td>true</td><td>false</td><td>498</td><td>0.9546</td><td>&quot;Negative&quot;</td><td>0</td><td>1</td><td>482</td><td>13.0</td><td>1390.0</td><td>23016.0</td><td>56.0</td><td>100.0</td><td>118</td><td>4</td><td>4</td></tr></tbody></table></div>"
      ],
      "text/plain": [
       "shape: (5, 29)\n",
       "┌────────────┬─────────┬────────┬────────────┬───┬────────────┬────────────┬───────────┬───────────┐\n",
       "│ impression ┆ article ┆ target ┆ device_typ ┆ … ┆ MaxScrollP ┆ MostFreque ┆ MostFrequ ┆ MostFrequ │\n",
       "│ _id        ┆ ---     ┆ ---    ┆ e          ┆   ┆ ercentage  ┆ ntCategory ┆ entWeekda ┆ entHour   │\n",
       "│ ---        ┆ i32     ┆ i8     ┆ ---        ┆   ┆ ---        ┆ ---        ┆ y         ┆ ---       │\n",
       "│ u32        ┆         ┆        ┆ i8         ┆   ┆ f32        ┆ i16        ┆ ---       ┆ i8        │\n",
       "│            ┆         ┆        ┆            ┆   ┆            ┆            ┆ i8        ┆           │\n",
       "╞════════════╪═════════╪════════╪════════════╪═══╪════════════╪════════════╪═══════════╪═══════════╡\n",
       "│ 149474     ┆ 9778669 ┆ 0      ┆ 2          ┆ … ┆ 100.0      ┆ 118        ┆ 5         ┆ 19        │\n",
       "│ 149474     ┆ 9778728 ┆ 0      ┆ 2          ┆ … ┆ 100.0      ┆ 118        ┆ 5         ┆ 19        │\n",
       "│ 149474     ┆ 9778657 ┆ 1      ┆ 2          ┆ … ┆ 100.0      ┆ 118        ┆ 5         ┆ 19        │\n",
       "│ 150528     ┆ 9778669 ┆ 0      ┆ 2          ┆ … ┆ 100.0      ┆ 118        ┆ 4         ┆ 4         │\n",
       "│ 150528     ┆ 9778682 ┆ 0      ┆ 2          ┆ … ┆ 100.0      ┆ 118        ┆ 4         ┆ 4         │\n",
       "└────────────┴─────────┴────────┴────────────┴───┴────────────┴────────────┴───────────┴───────────┘"
      ]
     },
     "execution_count": 11,
     "metadata": {},
     "output_type": "execute_result"
    }
   ],
   "source": [
    "%%time\n",
    "\n",
    "history_train = history_train.with_columns(\n",
    "    pl.col('categories').map_elements(lambda x: stats.mode(x)[0], return_dtype=pl.Int64).cast(pl.Int16).alias('MostFrequentCategory'),\n",
    "    pl.col('weekdays').map_elements(lambda x: stats.mode(x)[0], return_dtype=pl.Int64).cast(pl.Int8).alias('MostFrequentWeekday'),\n",
    "    pl.col('hours').map_elements(lambda x: stats.mode(x)[0], return_dtype=pl.Int64).cast(pl.Int8).alias('MostFrequentHour'),\n",
    ").drop(['categories', 'weekdays', 'hours'])\n",
    "    \n",
    "train_ds = train_ds.join(history_train, on='user_id', how='left')\n",
    "train_ds.head()"
   ]
  },
  {
   "cell_type": "markdown",
   "id": "9975c628",
   "metadata": {
    "papermill": {
     "duration": 0.011479,
     "end_time": "2024-03-22T22:46:27.452422",
     "exception": false,
     "start_time": "2024-03-22T22:46:27.440943",
     "status": "completed"
    },
    "tags": []
   },
   "source": [
    "# Training"
   ]
  },
  {
   "cell_type": "code",
   "execution_count": 12,
   "id": "a7470802",
   "metadata": {
    "execution": {
     "iopub.execute_input": "2024-03-22T22:46:27.479369Z",
     "iopub.status.busy": "2024-03-22T22:46:27.478961Z",
     "iopub.status.idle": "2024-03-22T22:46:27.863392Z",
     "shell.execute_reply": "2024-03-22T22:46:27.861817Z"
    },
    "papermill": {
     "duration": 0.400969,
     "end_time": "2024-03-22T22:46:27.866189",
     "exception": false,
     "start_time": "2024-03-22T22:46:27.465220",
     "status": "completed"
    },
    "tags": []
   },
   "outputs": [],
   "source": [
    "train_ds = train_ds.with_columns(\n",
    "    pl.col('gender').fill_null(2),\n",
    ")\n",
    "train_ds = train_ds.drop(['impression_id', 'article', 'user_id']).to_pandas()\n",
    "\n",
    "categorical_columns = ['device_type', 'is_sso_user', 'gender', 'is_subscriber', 'weekday',\n",
    "                       'is_in_home', 'premium', 'category', 'sentiment_label', \n",
    "                       'MostFrequentCategory', 'MostFrequentWeekday']\n",
    "train_ds[categorical_columns] = train_ds[categorical_columns].astype('category')\n",
    "\n",
    "X = train_ds.drop(columns=['target'])\n",
    "y = train_ds['target']"
   ]
  },
  {
   "cell_type": "code",
   "execution_count": 13,
   "id": "0d449248",
   "metadata": {
    "execution": {
     "iopub.execute_input": "2024-03-22T22:46:27.891058Z",
     "iopub.status.busy": "2024-03-22T22:46:27.890661Z",
     "iopub.status.idle": "2024-03-22T22:47:10.115193Z",
     "shell.execute_reply": "2024-03-22T22:47:10.113853Z"
    },
    "papermill": {
     "duration": 42.240247,
     "end_time": "2024-03-22T22:47:10.118025",
     "exception": false,
     "start_time": "2024-03-22T22:46:27.877778",
     "status": "completed"
    },
    "tags": []
   },
   "outputs": [
    {
     "name": "stdout",
     "output_type": "stream",
     "text": [
      "Learning rate set to 0.5\n",
      "0:\tlearn: 0.6072589\ttotal: 544ms\tremaining: 53.9s\n",
      "10:\tlearn: 0.5724450\ttotal: 4.61s\tremaining: 37.3s\n",
      "20:\tlearn: 0.5663345\ttotal: 8.66s\tremaining: 32.6s\n",
      "30:\tlearn: 0.5623938\ttotal: 12.7s\tremaining: 28.3s\n",
      "40:\tlearn: 0.5596339\ttotal: 16.7s\tremaining: 24.1s\n",
      "50:\tlearn: 0.5576020\ttotal: 20.8s\tremaining: 20s\n",
      "60:\tlearn: 0.5558510\ttotal: 25.1s\tremaining: 16.1s\n",
      "70:\tlearn: 0.5541212\ttotal: 29.4s\tremaining: 12s\n",
      "80:\tlearn: 0.5524669\ttotal: 33.5s\tremaining: 7.85s\n",
      "90:\tlearn: 0.5513522\ttotal: 37.5s\tremaining: 3.71s\n",
      "99:\tlearn: 0.5500947\ttotal: 41.2s\tremaining: 0us\n"
     ]
    },
    {
     "data": {
      "text/plain": [
       "<catboost.core.CatBoostClassifier at 0x782b5e0e5b70>"
      ]
     },
     "execution_count": 13,
     "metadata": {},
     "output_type": "execute_result"
    }
   ],
   "source": [
    "# just a simple model to be able to run an evaluation\n",
    "model = CatBoostClassifier(cat_features=categorical_columns, iterations=100)\n",
    "\n",
    "model.fit(X, y, verbose=10)"
   ]
  },
  {
   "cell_type": "markdown",
   "id": "103f8445",
   "metadata": {
    "papermill": {
     "duration": 0.012553,
     "end_time": "2024-03-22T22:47:10.143855",
     "exception": false,
     "start_time": "2024-03-22T22:47:10.131302",
     "status": "completed"
    },
    "tags": []
   },
   "source": [
    "# Model Evaluation"
   ]
  },
  {
   "cell_type": "code",
   "execution_count": 14,
   "id": "21e552c0",
   "metadata": {
    "execution": {
     "iopub.execute_input": "2024-03-22T22:47:10.176180Z",
     "iopub.status.busy": "2024-03-22T22:47:10.175418Z",
     "iopub.status.idle": "2024-03-22T22:48:10.759935Z",
     "shell.execute_reply": "2024-03-22T22:48:10.758650Z"
    },
    "papermill": {
     "duration": 60.620765,
     "end_time": "2024-03-22T22:48:10.778155",
     "exception": false,
     "start_time": "2024-03-22T22:47:10.157390",
     "status": "completed"
    },
    "tags": []
   },
   "outputs": [
    {
     "data": {
      "application/vnd.jupyter.widget-view+json": {
       "model_id": "4e30e99495be473ab4303be42cc80bd2",
       "version_major": 2,
       "version_minor": 0
      },
      "text/plain": [
       "Output()"
      ]
     },
     "metadata": {},
     "output_type": "display_data"
    },
    {
     "data": {
      "text/html": [
       "<pre style=\"white-space:pre;overflow-x:auto;line-height:normal;font-family:Menlo,'DejaVu Sans Mono',consolas,'Courier New',monospace\"></pre>\n"
      ],
      "text/plain": []
     },
     "metadata": {},
     "output_type": "display_data"
    },
    {
     "data": {
      "text/html": [
       "<pre style=\"white-space:pre;overflow-x:auto;line-height:normal;font-family:Menlo,'DejaVu Sans Mono',consolas,'Courier New',monospace\">\n",
       "</pre>\n"
      ],
      "text/plain": [
       "\n"
      ]
     },
     "metadata": {},
     "output_type": "display_data"
    },
    {
     "name": "stdout",
     "output_type": "stream",
     "text": [
      "CPU times: user 1min 1s, sys: 14.4 s, total: 1min 15s\n",
      "Wall time: 1min\n"
     ]
    }
   ],
   "source": [
    "%%time\n",
    "\n",
    "history_val = history_val.with_columns(\n",
    "    pl.col('article_id_fixed').list.len().alias('NumArticlesHistory'),\n",
    "    pl.col('read_time_fixed').list.median().alias('MedianReadTime'),\n",
    "    pl.col('read_time_fixed').list.max().alias('MaxReadTime'),\n",
    "    pl.col('read_time_fixed').list.sum().alias('TotalReadTime'),\n",
    "    pl.col('scroll_percentage_fixed').list.median().alias('MedianScrollPercentage'),\n",
    "    pl.col('scroll_percentage_fixed').list.max().alias('MaxScrollPercentage'),\n",
    "    pl.col('impression_time_fixed').list.eval(pl.element().dt.weekday()).alias('weekdays'),\n",
    "    pl.col('impression_time_fixed').list.eval(pl.element().dt.hour()).alias('hours'),\n",
    ").drop(['read_time_fixed', 'scroll_percentage_fixed', 'impression_time_fixed'])\n",
    "\n",
    "with Progress() as progress: \n",
    "    task_id = progress.add_task(\"Getting Categories\", total=history_val.shape[0])\n",
    "    history_val = history_val.with_columns(\n",
    "        pl.col('article_id_fixed').map_elements(get_categories, return_dtype=pl.List(pl.Int64)).alias('categories')\n",
    "    ).drop('article_id_fixed')\n",
    "    \n",
    "history_val = history_val.with_columns(\n",
    "    pl.col('categories').map_elements(lambda x: stats.mode(x)[0], return_dtype=pl.Int64).cast(pl.Int16).alias('MostFrequentCategory'),\n",
    "    pl.col('weekdays').map_elements(lambda x: stats.mode(x)[0], return_dtype=pl.Int64).cast(pl.Int8).alias('MostFrequentWeekday'),\n",
    "    pl.col('hours').map_elements(lambda x: stats.mode(x)[0], return_dtype=pl.Int64).cast(pl.Int8).alias('MostFrequentHour'),\n",
    ").drop(['categories', 'weekdays', 'hours'])"
   ]
  },
  {
   "cell_type": "code",
   "execution_count": 15,
   "id": "eaeebbb3",
   "metadata": {
    "execution": {
     "iopub.execute_input": "2024-03-22T22:48:11.389807Z",
     "iopub.status.busy": "2024-03-22T22:48:11.389394Z",
     "iopub.status.idle": "2024-03-22T22:48:16.803081Z",
     "shell.execute_reply": "2024-03-22T22:48:16.802231Z"
    },
    "papermill": {
     "duration": 6.014116,
     "end_time": "2024-03-22T22:48:16.805901",
     "exception": false,
     "start_time": "2024-03-22T22:48:10.791785",
     "status": "completed"
    },
    "tags": []
   },
   "outputs": [
    {
     "data": {
      "text/html": [
       "<div><style>\n",
       ".dataframe > thead > tr,\n",
       ".dataframe > tbody > tr {\n",
       "  text-align: right;\n",
       "  white-space: pre-wrap;\n",
       "}\n",
       "</style>\n",
       "<small>shape: (5, 29)</small><table border=\"1\" class=\"dataframe\"><thead><tr><th>impression_id</th><th>article</th><th>target</th><th>device_type</th><th>read_time</th><th>scroll_percentage</th><th>user_id</th><th>is_sso_user</th><th>gender</th><th>age</th><th>is_subscriber</th><th>weekday</th><th>hour</th><th>is_in_home</th><th>premium</th><th>category</th><th>sentiment_score</th><th>sentiment_label</th><th>article_delay_days</th><th>article_delay_hours</th><th>NumArticlesHistory</th><th>MedianReadTime</th><th>MaxReadTime</th><th>TotalReadTime</th><th>MedianScrollPercentage</th><th>MaxScrollPercentage</th><th>MostFrequentCategory</th><th>MostFrequentWeekday</th><th>MostFrequentHour</th></tr><tr><td>u32</td><td>i32</td><td>i8</td><td>i8</td><td>f32</td><td>f32</td><td>u32</td><td>bool</td><td>i8</td><td>i8</td><td>bool</td><td>i8</td><td>i8</td><td>bool</td><td>bool</td><td>i16</td><td>f32</td><td>str</td><td>i64</td><td>i64</td><td>u32</td><td>f32</td><td>f32</td><td>f32</td><td>f32</td><td>f32</td><td>i16</td><td>i8</td><td>i8</td></tr></thead><tbody><tr><td>96791</td><td>9783865</td><td>0</td><td>2</td><td>9.0</td><td>null</td><td>22548</td><td>false</td><td>null</td><td>null</td><td>false</td><td>7</td><td>4</td><td>true</td><td>false</td><td>498</td><td>0.9793</td><td>&quot;Negative&quot;</td><td>0</td><td>6</td><td>130</td><td>16.0</td><td>650.0</td><td>4581.0</td><td>37.0</td><td>100.0</td><td>118</td><td>1</td><td>9</td></tr><tr><td>96791</td><td>9784591</td><td>0</td><td>2</td><td>9.0</td><td>null</td><td>22548</td><td>false</td><td>null</td><td>null</td><td>false</td><td>7</td><td>4</td><td>true</td><td>false</td><td>142</td><td>0.9823</td><td>&quot;Negative&quot;</td><td>0</td><td>8</td><td>130</td><td>16.0</td><td>650.0</td><td>4581.0</td><td>37.0</td><td>100.0</td><td>118</td><td>1</td><td>9</td></tr><tr><td>96791</td><td>9784679</td><td>0</td><td>2</td><td>9.0</td><td>null</td><td>22548</td><td>false</td><td>null</td><td>null</td><td>false</td><td>7</td><td>4</td><td>true</td><td>false</td><td>142</td><td>0.9781</td><td>&quot;Positive&quot;</td><td>0</td><td>8</td><td>130</td><td>16.0</td><td>650.0</td><td>4581.0</td><td>37.0</td><td>100.0</td><td>118</td><td>1</td><td>9</td></tr><tr><td>96791</td><td>9784696</td><td>1</td><td>2</td><td>9.0</td><td>null</td><td>22548</td><td>false</td><td>null</td><td>null</td><td>false</td><td>7</td><td>4</td><td>true</td><td>false</td><td>142</td><td>0.9529</td><td>&quot;Positive&quot;</td><td>0</td><td>8</td><td>130</td><td>16.0</td><td>650.0</td><td>4581.0</td><td>37.0</td><td>100.0</td><td>118</td><td>1</td><td>9</td></tr><tr><td>96791</td><td>9784710</td><td>0</td><td>2</td><td>9.0</td><td>null</td><td>22548</td><td>false</td><td>null</td><td>null</td><td>false</td><td>7</td><td>4</td><td>true</td><td>false</td><td>142</td><td>0.8887</td><td>&quot;Positive&quot;</td><td>0</td><td>6</td><td>130</td><td>16.0</td><td>650.0</td><td>4581.0</td><td>37.0</td><td>100.0</td><td>118</td><td>1</td><td>9</td></tr></tbody></table></div>"
      ],
      "text/plain": [
       "shape: (5, 29)\n",
       "┌────────────┬─────────┬────────┬────────────┬───┬────────────┬────────────┬───────────┬───────────┐\n",
       "│ impression ┆ article ┆ target ┆ device_typ ┆ … ┆ MaxScrollP ┆ MostFreque ┆ MostFrequ ┆ MostFrequ │\n",
       "│ _id        ┆ ---     ┆ ---    ┆ e          ┆   ┆ ercentage  ┆ ntCategory ┆ entWeekda ┆ entHour   │\n",
       "│ ---        ┆ i32     ┆ i8     ┆ ---        ┆   ┆ ---        ┆ ---        ┆ y         ┆ ---       │\n",
       "│ u32        ┆         ┆        ┆ i8         ┆   ┆ f32        ┆ i16        ┆ ---       ┆ i8        │\n",
       "│            ┆         ┆        ┆            ┆   ┆            ┆            ┆ i8        ┆           │\n",
       "╞════════════╪═════════╪════════╪════════════╪═══╪════════════╪════════════╪═══════════╪═══════════╡\n",
       "│ 96791      ┆ 9783865 ┆ 0      ┆ 2          ┆ … ┆ 100.0      ┆ 118        ┆ 1         ┆ 9         │\n",
       "│ 96791      ┆ 9784591 ┆ 0      ┆ 2          ┆ … ┆ 100.0      ┆ 118        ┆ 1         ┆ 9         │\n",
       "│ 96791      ┆ 9784679 ┆ 0      ┆ 2          ┆ … ┆ 100.0      ┆ 118        ┆ 1         ┆ 9         │\n",
       "│ 96791      ┆ 9784696 ┆ 1      ┆ 2          ┆ … ┆ 100.0      ┆ 118        ┆ 1         ┆ 9         │\n",
       "│ 96791      ┆ 9784710 ┆ 0      ┆ 2          ┆ … ┆ 100.0      ┆ 118        ┆ 1         ┆ 9         │\n",
       "└────────────┴─────────┴────────┴────────────┴───┴────────────┴────────────┴───────────┴───────────┘"
      ]
     },
     "execution_count": 15,
     "metadata": {},
     "output_type": "execute_result"
    }
   ],
   "source": [
    "# no sampling since for evaluation all the predictions should be needed\n",
    "val_ds = behaviors_val.pipe(create_binary_labels_column, shuffle=True, seed=123) \\\n",
    "    .with_columns(pl.col(\"labels\").list.len().name.suffix(\"_len\")) \\\n",
    "    .select(['impression_id', 'article_ids_inview', 'article_id', 'impression_time', 'labels', \n",
    "             'device_type', 'read_time', 'scroll_percentage', 'user_id', 'is_sso_user', 'gender',\n",
    "             'age', 'is_subscriber']) \\\n",
    "    .explode(['article_ids_inview', 'labels']) \\\n",
    "    .rename({'article_ids_inview': 'article', 'labels': 'target'}) \\\n",
    "    .with_columns(\n",
    "        pl.col('impression_time').dt.weekday().alias('weekday'),\n",
    "        pl.col('impression_time').dt.hour().alias('hour'),\n",
    "        pl.col('article').cast(pl.Int32),\n",
    "        pl.col('article_id').is_null().alias('is_in_home'),\n",
    "    ).join(articles.select(['article_id', 'premium', 'published_time', 'category', \n",
    "                            'sentiment_score', 'sentiment_label']),\n",
    "           left_on='article', right_on='article_id', how='left') \\\n",
    "    .with_columns(\n",
    "        (pl.col('impression_time') - pl.col('published_time')).dt.total_days().alias('article_delay_days'),\n",
    "        (pl.col('impression_time') - pl.col('published_time')).dt.total_hours().alias('article_delay_hours')\n",
    "    ).drop(['impression_time', 'published_time', 'article_id']) \\\n",
    "    .join(history_val, on='user_id', how='left')\n",
    "\n",
    "val_ds.head()"
   ]
  },
  {
   "cell_type": "code",
   "execution_count": 16,
   "id": "5c9cb6d3",
   "metadata": {
    "execution": {
     "iopub.execute_input": "2024-03-22T22:48:16.836166Z",
     "iopub.status.busy": "2024-03-22T22:48:16.835121Z",
     "iopub.status.idle": "2024-03-22T22:48:19.271021Z",
     "shell.execute_reply": "2024-03-22T22:48:19.269480Z"
    },
    "papermill": {
     "duration": 2.454165,
     "end_time": "2024-03-22T22:48:19.274081",
     "exception": false,
     "start_time": "2024-03-22T22:48:16.819916",
     "status": "completed"
    },
    "tags": []
   },
   "outputs": [
    {
     "data": {
      "text/html": [
       "<div><style>\n",
       ".dataframe > thead > tr,\n",
       ".dataframe > tbody > tr {\n",
       "  text-align: right;\n",
       "  white-space: pre-wrap;\n",
       "}\n",
       "</style>\n",
       "<small>shape: (2_928_942, 3)</small><table border=\"1\" class=\"dataframe\"><thead><tr><th>impression_id</th><th>target</th><th>prediction</th></tr><tr><td>u32</td><td>i8</td><td>f64</td></tr></thead><tbody><tr><td>96791</td><td>0</td><td>0.454831</td></tr><tr><td>96791</td><td>0</td><td>0.439679</td></tr><tr><td>96791</td><td>0</td><td>0.409151</td></tr><tr><td>96791</td><td>1</td><td>0.394631</td></tr><tr><td>96791</td><td>0</td><td>0.42875</td></tr><tr><td>&hellip;</td><td>&hellip;</td><td>&hellip;</td></tr><tr><td>579552453</td><td>0</td><td>0.148944</td></tr><tr><td>579552453</td><td>0</td><td>0.229088</td></tr><tr><td>579552453</td><td>1</td><td>0.310936</td></tr><tr><td>579552453</td><td>0</td><td>0.234527</td></tr><tr><td>579552453</td><td>0</td><td>0.120308</td></tr></tbody></table></div>"
      ],
      "text/plain": [
       "shape: (2_928_942, 3)\n",
       "┌───────────────┬────────┬────────────┐\n",
       "│ impression_id ┆ target ┆ prediction │\n",
       "│ ---           ┆ ---    ┆ ---        │\n",
       "│ u32           ┆ i8     ┆ f64        │\n",
       "╞═══════════════╪════════╪════════════╡\n",
       "│ 96791         ┆ 0      ┆ 0.454831   │\n",
       "│ 96791         ┆ 0      ┆ 0.439679   │\n",
       "│ 96791         ┆ 0      ┆ 0.409151   │\n",
       "│ 96791         ┆ 1      ┆ 0.394631   │\n",
       "│ 96791         ┆ 0      ┆ 0.42875    │\n",
       "│ …             ┆ …      ┆ …          │\n",
       "│ 579552453     ┆ 0      ┆ 0.148944   │\n",
       "│ 579552453     ┆ 0      ┆ 0.229088   │\n",
       "│ 579552453     ┆ 1      ┆ 0.310936   │\n",
       "│ 579552453     ┆ 0      ┆ 0.234527   │\n",
       "│ 579552453     ┆ 0      ┆ 0.120308   │\n",
       "└───────────────┴────────┴────────────┘"
      ]
     },
     "execution_count": 16,
     "metadata": {},
     "output_type": "execute_result"
    }
   ],
   "source": [
    "val_ds = val_ds.with_columns(\n",
    "    pl.col('gender').fill_null(2),\n",
    ")\n",
    "# impression_id will be later useful for evaluation\n",
    "val_ds_pandas = val_ds.drop(['impression_id', 'article', 'user_id']).to_pandas()\n",
    "\n",
    "categorical_columns = ['device_type', 'is_sso_user', 'gender', 'is_subscriber', 'weekday',\n",
    "                       'is_in_home', 'premium', 'category', 'sentiment_label', \n",
    "                       'MostFrequentCategory', 'MostFrequentWeekday']\n",
    "val_ds_pandas[categorical_columns] = val_ds_pandas[categorical_columns].astype('category')\n",
    "\n",
    "X_val = val_ds_pandas.drop(columns=['target'])\n",
    "y_val = val_ds_pandas['target']\n",
    "\n",
    "# doint model.predict_proba(...)[:, 1] to take only the probability of class 1\n",
    "# while by doing [:, 0] we take the probability of class 0\n",
    "val_ds = val_ds.with_columns(pl.Series(model.predict_proba(X_val)[:, 1]).alias('prediction'))\n",
    "val_ds.select(['impression_id', 'target', 'prediction'])"
   ]
  },
  {
   "cell_type": "code",
   "execution_count": 17,
   "id": "35a0b4a1",
   "metadata": {
    "execution": {
     "iopub.execute_input": "2024-03-22T22:48:19.306502Z",
     "iopub.status.busy": "2024-03-22T22:48:19.306016Z",
     "iopub.status.idle": "2024-03-22T22:48:19.466329Z",
     "shell.execute_reply": "2024-03-22T22:48:19.465160Z"
    },
    "papermill": {
     "duration": 0.180728,
     "end_time": "2024-03-22T22:48:19.469140",
     "exception": false,
     "start_time": "2024-03-22T22:48:19.288412",
     "status": "completed"
    },
    "tags": []
   },
   "outputs": [
    {
     "data": {
      "text/html": [
       "<div><style>\n",
       ".dataframe > thead > tr,\n",
       ".dataframe > tbody > tr {\n",
       "  text-align: right;\n",
       "  white-space: pre-wrap;\n",
       "}\n",
       "</style>\n",
       "<small>shape: (244_647, 3)</small><table border=\"1\" class=\"dataframe\"><thead><tr><th>impression_id</th><th>target</th><th>prediction</th></tr><tr><td>u32</td><td>list[i8]</td><td>list[f64]</td></tr></thead><tbody><tr><td>204741078</td><td>[0, 0, … 1]</td><td>[0.080226, 0.108455, … 0.448023]</td></tr><tr><td>271656354</td><td>[0, 0, … 0]</td><td>[0.05659, 0.216518, … 0.392319]</td></tr><tr><td>394292490</td><td>[0, 0, … 0]</td><td>[0.103546, 0.595561, … 0.407022]</td></tr><tr><td>96911068</td><td>[0, 0, … 0]</td><td>[0.248888, 0.300649, … 0.302625]</td></tr><tr><td>334811472</td><td>[0, 1, … 0]</td><td>[0.272132, 0.39529, … 0.359634]</td></tr><tr><td>&hellip;</td><td>&hellip;</td><td>&hellip;</td></tr><tr><td>269157743</td><td>[0, 0, … 0]</td><td>[0.368109, 0.159304, … 0.590767]</td></tr><tr><td>397706761</td><td>[0, 1, … 0]</td><td>[0.511579, 0.552344, … 0.249851]</td></tr><tr><td>569492886</td><td>[0, 0, … 0]</td><td>[0.015808, 0.47644, … 0.014012]</td></tr><tr><td>279456621</td><td>[0, 0, … 0]</td><td>[0.446433, 0.535906, … 0.496293]</td></tr><tr><td>71313374</td><td>[0, 0, … 0]</td><td>[0.462043, 0.353021, … 0.569027]</td></tr></tbody></table></div>"
      ],
      "text/plain": [
       "shape: (244_647, 3)\n",
       "┌───────────────┬─────────────┬──────────────────────────────────┐\n",
       "│ impression_id ┆ target      ┆ prediction                       │\n",
       "│ ---           ┆ ---         ┆ ---                              │\n",
       "│ u32           ┆ list[i8]    ┆ list[f64]                        │\n",
       "╞═══════════════╪═════════════╪══════════════════════════════════╡\n",
       "│ 204741078     ┆ [0, 0, … 1] ┆ [0.080226, 0.108455, … 0.448023] │\n",
       "│ 271656354     ┆ [0, 0, … 0] ┆ [0.05659, 0.216518, … 0.392319]  │\n",
       "│ 394292490     ┆ [0, 0, … 0] ┆ [0.103546, 0.595561, … 0.407022] │\n",
       "│ 96911068      ┆ [0, 0, … 0] ┆ [0.248888, 0.300649, … 0.302625] │\n",
       "│ 334811472     ┆ [0, 1, … 0] ┆ [0.272132, 0.39529, … 0.359634]  │\n",
       "│ …             ┆ …           ┆ …                                │\n",
       "│ 269157743     ┆ [0, 0, … 0] ┆ [0.368109, 0.159304, … 0.590767] │\n",
       "│ 397706761     ┆ [0, 1, … 0] ┆ [0.511579, 0.552344, … 0.249851] │\n",
       "│ 569492886     ┆ [0, 0, … 0] ┆ [0.015808, 0.47644, … 0.014012]  │\n",
       "│ 279456621     ┆ [0, 0, … 0] ┆ [0.446433, 0.535906, … 0.496293] │\n",
       "│ 71313374      ┆ [0, 0, … 0] ┆ [0.462043, 0.353021, … 0.569027] │\n",
       "└───────────────┴─────────────┴──────────────────────────────────┘"
      ]
     },
     "execution_count": 17,
     "metadata": {},
     "output_type": "execute_result"
    }
   ],
   "source": [
    "evaluation_ds = val_ds.group_by('impression_id').agg(pl.col('target'), pl.col('prediction'))\n",
    "evaluation_ds"
   ]
  },
  {
   "cell_type": "code",
   "execution_count": 18,
   "id": "ba11c94a",
   "metadata": {
    "execution": {
     "iopub.execute_input": "2024-03-22T22:48:19.501249Z",
     "iopub.status.busy": "2024-03-22T22:48:19.499451Z",
     "iopub.status.idle": "2024-03-22T23:08:28.777543Z",
     "shell.execute_reply": "2024-03-22T23:08:28.774138Z"
    },
    "papermill": {
     "duration": 1209.307908,
     "end_time": "2024-03-22T23:08:28.791290",
     "exception": false,
     "start_time": "2024-03-22T22:48:19.483382",
     "status": "completed"
    },
    "tags": []
   },
   "outputs": [
    {
     "name": "stdout",
     "output_type": "stream",
     "text": [
      "CPU times: user 20min 7s, sys: 504 ms, total: 20min 7s\n",
      "Wall time: 20min 9s\n"
     ]
    },
    {
     "data": {
      "text/plain": [
       "<MetricEvaluator class>: \n",
       " {\n",
       "    \"auc\": 0.6824956764745298,\n",
       "    \"mrr\": 0.4476792661382741,\n",
       "    \"ndcg@5\": 0.5068768904681878,\n",
       "    \"ndcg@10\": 0.5583374590486883,\n",
       "    \"logloss\": 0.4514180305283289,\n",
       "    \"rmse\": 0.3763607589786764,\n",
       "    \"accuracy\": 0.8010700445281806,\n",
       "    \"f1\": 0.16002721467337994\n",
       "}"
      ]
     },
     "execution_count": 18,
     "metadata": {},
     "output_type": "execute_result"
    }
   ],
   "source": [
    "%%time\n",
    "\n",
    "met_eval = MetricEvaluator(\n",
    "    labels=evaluation_ds['target'].to_list(),\n",
    "    predictions=evaluation_ds['prediction'].to_list(),\n",
    "    metric_functions=[\n",
    "        AucScore(),\n",
    "        MrrScore(),\n",
    "        NdcgScore(k=5),\n",
    "        NdcgScore(k=10),\n",
    "        LogLossScore(),\n",
    "        RootMeanSquaredError(),\n",
    "        AccuracyScore(threshold=0.5),\n",
    "        F1Score(threshold=0.5),\n",
    "    ],\n",
    ")\n",
    "met_eval.evaluate()"
   ]
  }
 ],
 "metadata": {
  "kaggle": {
   "accelerator": "none",
   "dataSources": [
    {
     "datasetId": 4622414,
     "sourceId": 7914006,
     "sourceType": "datasetVersion"
    }
   ],
   "dockerImageVersionId": 30673,
   "isGpuEnabled": false,
   "isInternetEnabled": true,
   "language": "python",
   "sourceType": "notebook"
  },
  "kernelspec": {
   "display_name": "Python 3",
   "language": "python",
   "name": "python3"
  },
  "language_info": {
   "codemirror_mode": {
    "name": "ipython",
    "version": 3
   },
   "file_extension": ".py",
   "mimetype": "text/x-python",
   "name": "python",
   "nbconvert_exporter": "python",
   "pygments_lexer": "ipython3",
   "version": "3.10.13"
  },
  "papermill": {
   "default_parameters": {},
   "duration": 1410.641844,
   "end_time": "2024-03-22T23:08:30.843774",
   "environment_variables": {},
   "exception": null,
   "input_path": "__notebook__.ipynb",
   "output_path": "__notebook__.ipynb",
   "parameters": {},
   "start_time": "2024-03-22T22:45:00.201930",
   "version": "2.5.0"
  },
  "widgets": {
   "application/vnd.jupyter.widget-state+json": {
    "state": {
     "1a83f92179024eba94d08606be612a7f": {
      "model_module": "@jupyter-widgets/base",
      "model_module_version": "1.2.0",
      "model_name": "LayoutModel",
      "state": {
       "_model_module": "@jupyter-widgets/base",
       "_model_module_version": "1.2.0",
       "_model_name": "LayoutModel",
       "_view_count": null,
       "_view_module": "@jupyter-widgets/base",
       "_view_module_version": "1.2.0",
       "_view_name": "LayoutView",
       "align_content": null,
       "align_items": null,
       "align_self": null,
       "border": null,
       "bottom": null,
       "display": null,
       "flex": null,
       "flex_flow": null,
       "grid_area": null,
       "grid_auto_columns": null,
       "grid_auto_flow": null,
       "grid_auto_rows": null,
       "grid_column": null,
       "grid_gap": null,
       "grid_row": null,
       "grid_template_areas": null,
       "grid_template_columns": null,
       "grid_template_rows": null,
       "height": null,
       "justify_content": null,
       "justify_items": null,
       "left": null,
       "margin": null,
       "max_height": null,
       "max_width": null,
       "min_height": null,
       "min_width": null,
       "object_fit": null,
       "object_position": null,
       "order": null,
       "overflow": null,
       "overflow_x": null,
       "overflow_y": null,
       "padding": null,
       "right": null,
       "top": null,
       "visibility": null,
       "width": null
      }
     },
     "4e30e99495be473ab4303be42cc80bd2": {
      "model_module": "@jupyter-widgets/output",
      "model_module_version": "1.0.0",
      "model_name": "OutputModel",
      "state": {
       "_dom_classes": [],
       "_model_module": "@jupyter-widgets/output",
       "_model_module_version": "1.0.0",
       "_model_name": "OutputModel",
       "_view_count": null,
       "_view_module": "@jupyter-widgets/output",
       "_view_module_version": "1.0.0",
       "_view_name": "OutputView",
       "layout": "IPY_MODEL_1a83f92179024eba94d08606be612a7f",
       "msg_id": "",
       "outputs": [
        {
         "data": {
          "text/html": "<pre style=\"white-space:pre;overflow-x:auto;line-height:normal;font-family:Menlo,'DejaVu Sans Mono',consolas,'Courier New',monospace\">Getting Categories <span style=\"color: #729c1f; text-decoration-color: #729c1f\">━━━━━━━━━━━━━━━━━━━━━━━━━━━━━━━━━━━━━━━━</span> <span style=\"color: #800080; text-decoration-color: #800080\">100%</span> <span style=\"color: #008080; text-decoration-color: #008080\">0:00:00</span>\n</pre>\n",
          "text/plain": "Getting Categories \u001b[38;2;114;156;31m━━━━━━━━━━━━━━━━━━━━━━━━━━━━━━━━━━━━━━━━\u001b[0m \u001b[35m100%\u001b[0m \u001b[36m0:00:00\u001b[0m\n"
         },
         "metadata": {},
         "output_type": "display_data"
        }
       ]
      }
     },
     "71adf4ca24a043eeb0686a64c56fecf5": {
      "model_module": "@jupyter-widgets/base",
      "model_module_version": "1.2.0",
      "model_name": "LayoutModel",
      "state": {
       "_model_module": "@jupyter-widgets/base",
       "_model_module_version": "1.2.0",
       "_model_name": "LayoutModel",
       "_view_count": null,
       "_view_module": "@jupyter-widgets/base",
       "_view_module_version": "1.2.0",
       "_view_name": "LayoutView",
       "align_content": null,
       "align_items": null,
       "align_self": null,
       "border": null,
       "bottom": null,
       "display": null,
       "flex": null,
       "flex_flow": null,
       "grid_area": null,
       "grid_auto_columns": null,
       "grid_auto_flow": null,
       "grid_auto_rows": null,
       "grid_column": null,
       "grid_gap": null,
       "grid_row": null,
       "grid_template_areas": null,
       "grid_template_columns": null,
       "grid_template_rows": null,
       "height": null,
       "justify_content": null,
       "justify_items": null,
       "left": null,
       "margin": null,
       "max_height": null,
       "max_width": null,
       "min_height": null,
       "min_width": null,
       "object_fit": null,
       "object_position": null,
       "order": null,
       "overflow": null,
       "overflow_x": null,
       "overflow_y": null,
       "padding": null,
       "right": null,
       "top": null,
       "visibility": null,
       "width": null
      }
     },
     "8029144df4c74edfbb543a3fabe6570d": {
      "model_module": "@jupyter-widgets/output",
      "model_module_version": "1.0.0",
      "model_name": "OutputModel",
      "state": {
       "_dom_classes": [],
       "_model_module": "@jupyter-widgets/output",
       "_model_module_version": "1.0.0",
       "_model_name": "OutputModel",
       "_view_count": null,
       "_view_module": "@jupyter-widgets/output",
       "_view_module_version": "1.0.0",
       "_view_name": "OutputView",
       "layout": "IPY_MODEL_71adf4ca24a043eeb0686a64c56fecf5",
       "msg_id": "",
       "outputs": [
        {
         "data": {
          "text/html": "<pre style=\"white-space:pre;overflow-x:auto;line-height:normal;font-family:Menlo,'DejaVu Sans Mono',consolas,'Courier New',monospace\">Getting Categories <span style=\"color: #f92672; text-decoration-color: #f92672\">━━━━━━━━━━━━━━━━━━━━━━━━━━━━━━━━━━━━━━━╸</span> <span style=\"color: #800080; text-decoration-color: #800080\">100%</span> <span style=\"color: #008080; text-decoration-color: #008080\">0:00:01</span>\n</pre>\n",
          "text/plain": "Getting Categories \u001b[38;2;249;38;114m━━━━━━━━━━━━━━━━━━━━━━━━━━━━━━━━━━━━━━━\u001b[0m\u001b[38;2;249;38;114m╸\u001b[0m \u001b[35m100%\u001b[0m \u001b[36m0:00:01\u001b[0m\n"
         },
         "metadata": {},
         "output_type": "display_data"
        }
       ]
      }
     }
    },
    "version_major": 2,
    "version_minor": 0
   }
  }
 },
 "nbformat": 4,
 "nbformat_minor": 5
}
