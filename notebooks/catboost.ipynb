{
 "cells": [
  {
   "cell_type": "code",
   "execution_count": 1,
   "id": "9f140fcd",
   "metadata": {
    "execution": {
     "iopub.execute_input": "2024-03-22T15:53:56.549914Z",
     "iopub.status.busy": "2024-03-22T15:53:56.549538Z",
     "iopub.status.idle": "2024-03-22T15:54:01.843033Z",
     "shell.execute_reply": "2024-03-22T15:54:01.841805Z"
    },
    "papermill": {
     "duration": 5.30357,
     "end_time": "2024-03-22T15:54:01.845867",
     "exception": false,
     "start_time": "2024-03-22T15:53:56.542297",
     "status": "completed"
    },
    "tags": []
   },
   "outputs": [
    {
     "name": "stdout",
     "output_type": "stream",
     "text": [
      "Cloning into 'RecSysChallenge2024'...\r\n",
      "remote: Enumerating objects: 73, done.\u001b[K\r\n",
      "remote: Counting objects: 100% (73/73), done.\u001b[K\r\n",
      "remote: Compressing objects: 100% (60/60), done.\u001b[K\r\n",
      "remote: Total 73 (delta 7), reused 67 (delta 7), pack-reused 0\u001b[K\r\n",
      "Unpacking objects: 100% (73/73), 1.61 MiB | 5.38 MiB/s, done.\r\n",
      "Cloning into 'ebnerd-benchmark'...\r\n",
      "remote: Enumerating objects: 340, done.\u001b[K\r\n",
      "remote: Counting objects: 100% (340/340), done.\u001b[K\r\n",
      "remote: Compressing objects: 100% (224/224), done.\u001b[K\r\n",
      "remote: Total 340 (delta 151), reused 277 (delta 93), pack-reused 0\u001b[K\r\n",
      "Receiving objects: 100% (340/340), 15.18 MiB | 13.51 MiB/s, done.\r\n",
      "Resolving deltas: 100% (151/151), done.\r\n"
     ]
    }
   ],
   "source": [
    "from kaggle_secrets import UserSecretsClient\n",
    "secret_label = \"Token\"\n",
    "token = UserSecretsClient().get_secret(secret_label)\n",
    "\n",
    "! git clone --branch baseline_boosting https://{token}@github.com/FrancescoZanella/RecSysChallenge2024.git\n",
    "! git clone https://github.com/ebanalyse/ebnerd-benchmark.git"
   ]
  },
  {
   "cell_type": "code",
   "execution_count": 2,
   "id": "4a1319dd",
   "metadata": {
    "execution": {
     "iopub.execute_input": "2024-03-22T15:54:01.865045Z",
     "iopub.status.busy": "2024-03-22T15:54:01.864634Z",
     "iopub.status.idle": "2024-03-22T15:54:01.873469Z",
     "shell.execute_reply": "2024-03-22T15:54:01.872091Z"
    },
    "papermill": {
     "duration": 0.020812,
     "end_time": "2024-03-22T15:54:01.876050",
     "exception": false,
     "start_time": "2024-03-22T15:54:01.855238",
     "status": "completed"
    },
    "tags": []
   },
   "outputs": [
    {
     "name": "stdout",
     "output_type": "stream",
     "text": [
      "/kaggle/working/ebnerd-benchmark/src\n"
     ]
    }
   ],
   "source": [
    "%cd ebnerd-benchmark/src"
   ]
  },
  {
   "cell_type": "code",
   "execution_count": 3,
   "id": "1131450f",
   "metadata": {
    "_cell_guid": "b1076dfc-b9ad-4769-8c92-a6c4dae69d19",
    "_uuid": "8f2839f25d086af736a60e9eeb907d3b93b6e0e5",
    "execution": {
     "iopub.execute_input": "2024-03-22T15:54:01.892779Z",
     "iopub.status.busy": "2024-03-22T15:54:01.892190Z",
     "iopub.status.idle": "2024-03-22T15:54:10.516560Z",
     "shell.execute_reply": "2024-03-22T15:54:10.515126Z"
    },
    "papermill": {
     "duration": 8.636556,
     "end_time": "2024-03-22T15:54:10.519756",
     "exception": false,
     "start_time": "2024-03-22T15:54:01.883200",
     "status": "completed"
    },
    "tags": []
   },
   "outputs": [],
   "source": [
    "import numpy as np\n",
    "import pandas as pd\n",
    "import matplotlib.pyplot as plt\n",
    "import seaborn as sns\n",
    "from pathlib import Path\n",
    "import polars as pl\n",
    "import scipy.stats as stats\n",
    "\n",
    "from ebrec.utils._descriptive_analysis import (\n",
    "    min_max_impression_time_behaviors, \n",
    "    min_max_impression_time_history\n",
    ")\n",
    "from ebrec.utils._polars import slice_join_dataframes\n",
    "from ebrec.utils._behaviors import (\n",
    "    create_binary_labels_column,\n",
    "    sampling_strategy_wu2019,\n",
    "    truncate_history,\n",
    ")\n",
    "from ebrec.utils._constants import (\n",
    "    DEFAULT_HISTORY_ARTICLE_ID_COL,\n",
    "    DEFAULT_CLICKED_ARTICLES_COL,\n",
    "    DEFAULT_INVIEW_ARTICLES_COL,\n",
    "    DEFAULT_USER_COL\n",
    ")\n",
    "\n",
    "from catboost import CatBoostClassifier"
   ]
  },
  {
   "cell_type": "code",
   "execution_count": 4,
   "id": "cdaa578e",
   "metadata": {
    "execution": {
     "iopub.execute_input": "2024-03-22T15:54:10.537029Z",
     "iopub.status.busy": "2024-03-22T15:54:10.536393Z",
     "iopub.status.idle": "2024-03-22T15:54:12.374592Z",
     "shell.execute_reply": "2024-03-22T15:54:12.373301Z"
    },
    "papermill": {
     "duration": 1.850393,
     "end_time": "2024-03-22T15:54:12.377241",
     "exception": false,
     "start_time": "2024-03-22T15:54:10.526848",
     "status": "completed"
    },
    "tags": []
   },
   "outputs": [],
   "source": [
    "articles = pl.read_parquet('/kaggle/input/recommender-systems-challenge-2024/ebnerd_small/articles.parquet')\n",
    "\n",
    "behaviors_train = pl.read_parquet('/kaggle/input/recommender-systems-challenge-2024/ebnerd_small/train/behaviors.parquet')\n",
    "history_train = pl.read_parquet('/kaggle/input/recommender-systems-challenge-2024/ebnerd_small/train/history.parquet')\n",
    "\n",
    "behaviors_val = pl.read_parquet('/kaggle/input/recommender-systems-challenge-2024/ebnerd_small/validation/behaviors.parquet')\n",
    "history_val = pl.read_parquet('/kaggle/input/recommender-systems-challenge-2024/ebnerd_small/validation/history.parquet')"
   ]
  },
  {
   "cell_type": "code",
   "execution_count": 5,
   "id": "2a6831d4",
   "metadata": {
    "execution": {
     "iopub.execute_input": "2024-03-22T15:54:12.394129Z",
     "iopub.status.busy": "2024-03-22T15:54:12.393702Z",
     "iopub.status.idle": "2024-03-22T15:54:21.126492Z",
     "shell.execute_reply": "2024-03-22T15:54:21.124749Z"
    },
    "papermill": {
     "duration": 8.744641,
     "end_time": "2024-03-22T15:54:21.129408",
     "exception": false,
     "start_time": "2024-03-22T15:54:12.384767",
     "status": "completed"
    },
    "tags": []
   },
   "outputs": [],
   "source": [
    "NPRATIO = 2\n",
    "train_ds = behaviors_train.pipe(\n",
    "    sampling_strategy_wu2019, npratio=NPRATIO, shuffle=False, with_replacement=True, seed=123\n",
    ").pipe(create_binary_labels_column, shuffle=True, seed=123).with_columns(pl.col(\"labels\").list.len().name.suffix(\"_len\")).head(5)"
   ]
  },
  {
   "cell_type": "code",
   "execution_count": 6,
   "id": "942e933f",
   "metadata": {
    "execution": {
     "iopub.execute_input": "2024-03-22T15:54:21.146898Z",
     "iopub.status.busy": "2024-03-22T15:54:21.146435Z",
     "iopub.status.idle": "2024-03-22T15:54:21.186888Z",
     "shell.execute_reply": "2024-03-22T15:54:21.184868Z"
    },
    "papermill": {
     "duration": 0.054427,
     "end_time": "2024-03-22T15:54:21.191037",
     "exception": false,
     "start_time": "2024-03-22T15:54:21.136610",
     "status": "completed"
    },
    "tags": []
   },
   "outputs": [
    {
     "data": {
      "text/html": [
       "<div><style>\n",
       ".dataframe > thead > tr,\n",
       ".dataframe > tbody > tr {\n",
       "  text-align: right;\n",
       "  white-space: pre-wrap;\n",
       "}\n",
       "</style>\n",
       "<small>shape: (5, 20)</small><table border=\"1\" class=\"dataframe\"><thead><tr><th>impression_id</th><th>article</th><th>target</th><th>device_type</th><th>read_time</th><th>scroll_percentage</th><th>user_id</th><th>is_sso_user</th><th>gender</th><th>age</th><th>is_subscriber</th><th>weekday</th><th>hour</th><th>is_in_home</th><th>premium</th><th>category</th><th>sentiment_score</th><th>sentiment_label</th><th>article_delay_days</th><th>article_delay_hours</th></tr><tr><td>u32</td><td>i32</td><td>i8</td><td>i8</td><td>f32</td><td>f32</td><td>u32</td><td>bool</td><td>i8</td><td>i8</td><td>bool</td><td>i8</td><td>i8</td><td>bool</td><td>bool</td><td>i16</td><td>f32</td><td>str</td><td>i64</td><td>i64</td></tr></thead><tbody><tr><td>149474</td><td>9778669</td><td>0</td><td>2</td><td>13.0</td><td>null</td><td>139836</td><td>false</td><td>null</td><td>null</td><td>false</td><td>3</td><td>7</td><td>true</td><td>false</td><td>118</td><td>0.9481</td><td>&quot;Negative&quot;</td><td>0</td><td>1</td></tr><tr><td>149474</td><td>9778728</td><td>0</td><td>2</td><td>13.0</td><td>null</td><td>139836</td><td>false</td><td>null</td><td>null</td><td>false</td><td>3</td><td>7</td><td>true</td><td>false</td><td>142</td><td>0.9654</td><td>&quot;Negative&quot;</td><td>0</td><td>0</td></tr><tr><td>149474</td><td>9778657</td><td>1</td><td>2</td><td>13.0</td><td>null</td><td>139836</td><td>false</td><td>null</td><td>null</td><td>false</td><td>3</td><td>7</td><td>true</td><td>false</td><td>118</td><td>0.8347</td><td>&quot;Neutral&quot;</td><td>0</td><td>1</td></tr><tr><td>150528</td><td>9778669</td><td>0</td><td>2</td><td>25.0</td><td>null</td><td>143471</td><td>false</td><td>null</td><td>null</td><td>false</td><td>3</td><td>7</td><td>true</td><td>false</td><td>118</td><td>0.9481</td><td>&quot;Negative&quot;</td><td>0</td><td>1</td></tr><tr><td>150528</td><td>9778682</td><td>0</td><td>2</td><td>25.0</td><td>null</td><td>143471</td><td>false</td><td>null</td><td>null</td><td>false</td><td>3</td><td>7</td><td>true</td><td>false</td><td>498</td><td>0.9546</td><td>&quot;Negative&quot;</td><td>0</td><td>1</td></tr></tbody></table></div>"
      ],
      "text/plain": [
       "shape: (5, 20)\n",
       "┌────────────┬─────────┬────────┬────────────┬───┬────────────┬────────────┬───────────┬───────────┐\n",
       "│ impression ┆ article ┆ target ┆ device_typ ┆ … ┆ sentiment_ ┆ sentiment_ ┆ article_d ┆ article_d │\n",
       "│ _id        ┆ ---     ┆ ---    ┆ e          ┆   ┆ score      ┆ label      ┆ elay_days ┆ elay_hour │\n",
       "│ ---        ┆ i32     ┆ i8     ┆ ---        ┆   ┆ ---        ┆ ---        ┆ ---       ┆ s         │\n",
       "│ u32        ┆         ┆        ┆ i8         ┆   ┆ f32        ┆ str        ┆ i64       ┆ ---       │\n",
       "│            ┆         ┆        ┆            ┆   ┆            ┆            ┆           ┆ i64       │\n",
       "╞════════════╪═════════╪════════╪════════════╪═══╪════════════╪════════════╪═══════════╪═══════════╡\n",
       "│ 149474     ┆ 9778669 ┆ 0      ┆ 2          ┆ … ┆ 0.9481     ┆ Negative   ┆ 0         ┆ 1         │\n",
       "│ 149474     ┆ 9778728 ┆ 0      ┆ 2          ┆ … ┆ 0.9654     ┆ Negative   ┆ 0         ┆ 0         │\n",
       "│ 149474     ┆ 9778657 ┆ 1      ┆ 2          ┆ … ┆ 0.8347     ┆ Neutral    ┆ 0         ┆ 1         │\n",
       "│ 150528     ┆ 9778669 ┆ 0      ┆ 2          ┆ … ┆ 0.9481     ┆ Negative   ┆ 0         ┆ 1         │\n",
       "│ 150528     ┆ 9778682 ┆ 0      ┆ 2          ┆ … ┆ 0.9546     ┆ Negative   ┆ 0         ┆ 1         │\n",
       "└────────────┴─────────┴────────┴────────────┴───┴────────────┴────────────┴───────────┴───────────┘"
      ]
     },
     "execution_count": 6,
     "metadata": {},
     "output_type": "execute_result"
    }
   ],
   "source": [
    "train_ds = train_ds.select(['impression_id', 'article_ids_inview', 'article_id', 'impression_time', 'labels', \n",
    "                            'device_type', 'read_time', 'scroll_percentage', 'user_id', 'is_sso_user', 'gender',\n",
    "                            'age', 'is_subscriber']) \\\n",
    "    .explode(['article_ids_inview', 'labels']) \\\n",
    "    .rename({'article_ids_inview': 'article', 'labels': 'target'}) \\\n",
    "    .with_columns(\n",
    "        pl.col('impression_time').dt.weekday().alias('weekday'),\n",
    "        pl.col('impression_time').dt.hour().alias('hour'),\n",
    "        pl.col('article').cast(pl.Int32),\n",
    "        pl.col('article_id').is_null().alias('is_in_home'),\n",
    "    ).join(articles.select(['article_id', 'premium', 'published_time', 'category', \n",
    "                            'sentiment_score', 'sentiment_label']),\n",
    "           left_on='article', right_on='article_id', how='left') \\\n",
    "    .with_columns(\n",
    "        (pl.col('impression_time') - pl.col('published_time')).dt.total_days().alias('article_delay_days'),\n",
    "        (pl.col('impression_time') - pl.col('published_time')).dt.total_hours().alias('article_delay_hours')\n",
    "    ).drop(['impression_time', 'published_time', 'article_id'])\n",
    "\n",
    "train_ds.head()"
   ]
  },
  {
   "cell_type": "code",
   "execution_count": 7,
   "id": "a9c53ef0",
   "metadata": {
    "execution": {
     "iopub.execute_input": "2024-03-22T15:54:21.209615Z",
     "iopub.status.busy": "2024-03-22T15:54:21.209188Z",
     "iopub.status.idle": "2024-03-22T15:54:21.224765Z",
     "shell.execute_reply": "2024-03-22T15:54:21.223013Z"
    },
    "papermill": {
     "duration": 0.02838,
     "end_time": "2024-03-22T15:54:21.227589",
     "exception": false,
     "start_time": "2024-03-22T15:54:21.199209",
     "status": "completed"
    },
    "tags": []
   },
   "outputs": [
    {
     "data": {
      "text/html": [
       "<div><style>\n",
       ".dataframe > thead > tr,\n",
       ".dataframe > tbody > tr {\n",
       "  text-align: right;\n",
       "  white-space: pre-wrap;\n",
       "}\n",
       "</style>\n",
       "<small>shape: (5, 24)</small><table border=\"1\" class=\"dataframe\"><thead><tr><th>impression_id</th><th>article</th><th>target</th><th>device_type</th><th>read_time</th><th>scroll_percentage</th><th>user_id</th><th>is_sso_user</th><th>gender</th><th>age</th><th>is_subscriber</th><th>weekday</th><th>hour</th><th>is_in_home</th><th>premium</th><th>category</th><th>sentiment_score</th><th>sentiment_label</th><th>article_delay_days</th><th>article_delay_hours</th><th>impression_time_fixed</th><th>scroll_percentage_fixed</th><th>article_id_fixed</th><th>read_time_fixed</th></tr><tr><td>u32</td><td>i32</td><td>i8</td><td>i8</td><td>f32</td><td>f32</td><td>u32</td><td>bool</td><td>i8</td><td>i8</td><td>bool</td><td>i8</td><td>i8</td><td>bool</td><td>bool</td><td>i16</td><td>f32</td><td>str</td><td>i64</td><td>i64</td><td>list[datetime[μs]]</td><td>list[f32]</td><td>list[i32]</td><td>list[f32]</td></tr></thead><tbody><tr><td>149474</td><td>9778669</td><td>0</td><td>2</td><td>13.0</td><td>null</td><td>139836</td><td>false</td><td>null</td><td>null</td><td>false</td><td>3</td><td>7</td><td>true</td><td>false</td><td>118</td><td>0.9481</td><td>&quot;Negative&quot;</td><td>0</td><td>1</td><td>[2023-05-03 19:04:15, 2023-05-03 19:05:22, … 2023-05-14 19:52:58]</td><td>[100.0, 89.0, … 47.0]</td><td>[9745590, 9748574, … 9765156]</td><td>[60.0, 11.0, … 3.0]</td></tr><tr><td>149474</td><td>9778728</td><td>0</td><td>2</td><td>13.0</td><td>null</td><td>139836</td><td>false</td><td>null</td><td>null</td><td>false</td><td>3</td><td>7</td><td>true</td><td>false</td><td>142</td><td>0.9654</td><td>&quot;Negative&quot;</td><td>0</td><td>0</td><td>[2023-05-03 19:04:15, 2023-05-03 19:05:22, … 2023-05-14 19:52:58]</td><td>[100.0, 89.0, … 47.0]</td><td>[9745590, 9748574, … 9765156]</td><td>[60.0, 11.0, … 3.0]</td></tr><tr><td>149474</td><td>9778657</td><td>1</td><td>2</td><td>13.0</td><td>null</td><td>139836</td><td>false</td><td>null</td><td>null</td><td>false</td><td>3</td><td>7</td><td>true</td><td>false</td><td>118</td><td>0.8347</td><td>&quot;Neutral&quot;</td><td>0</td><td>1</td><td>[2023-05-03 19:04:15, 2023-05-03 19:05:22, … 2023-05-14 19:52:58]</td><td>[100.0, 89.0, … 47.0]</td><td>[9745590, 9748574, … 9765156]</td><td>[60.0, 11.0, … 3.0]</td></tr><tr><td>150528</td><td>9778669</td><td>0</td><td>2</td><td>25.0</td><td>null</td><td>143471</td><td>false</td><td>null</td><td>null</td><td>false</td><td>3</td><td>7</td><td>true</td><td>false</td><td>118</td><td>0.9481</td><td>&quot;Negative&quot;</td><td>0</td><td>1</td><td>[2023-04-27 08:05:09, 2023-04-27 10:05:55, … 2023-05-18 06:56:14]</td><td>[21.0, 100.0, … 69.0]</td><td>[9737881, 9738659, … 9770989]</td><td>[7.0, 24.0, … 9.0]</td></tr><tr><td>150528</td><td>9778682</td><td>0</td><td>2</td><td>25.0</td><td>null</td><td>143471</td><td>false</td><td>null</td><td>null</td><td>false</td><td>3</td><td>7</td><td>true</td><td>false</td><td>498</td><td>0.9546</td><td>&quot;Negative&quot;</td><td>0</td><td>1</td><td>[2023-04-27 08:05:09, 2023-04-27 10:05:55, … 2023-05-18 06:56:14]</td><td>[21.0, 100.0, … 69.0]</td><td>[9737881, 9738659, … 9770989]</td><td>[7.0, 24.0, … 9.0]</td></tr></tbody></table></div>"
      ],
      "text/plain": [
       "shape: (5, 24)\n",
       "┌────────────┬─────────┬────────┬────────────┬───┬────────────┬────────────┬───────────┬───────────┐\n",
       "│ impression ┆ article ┆ target ┆ device_typ ┆ … ┆ impression ┆ scroll_per ┆ article_i ┆ read_time │\n",
       "│ _id        ┆ ---     ┆ ---    ┆ e          ┆   ┆ _time_fixe ┆ centage_fi ┆ d_fixed   ┆ _fixed    │\n",
       "│ ---        ┆ i32     ┆ i8     ┆ ---        ┆   ┆ d          ┆ xed        ┆ ---       ┆ ---       │\n",
       "│ u32        ┆         ┆        ┆ i8         ┆   ┆ ---        ┆ ---        ┆ list[i32] ┆ list[f32] │\n",
       "│            ┆         ┆        ┆            ┆   ┆ list[datet ┆ list[f32]  ┆           ┆           │\n",
       "│            ┆         ┆        ┆            ┆   ┆ ime[μs]]   ┆            ┆           ┆           │\n",
       "╞════════════╪═════════╪════════╪════════════╪═══╪════════════╪════════════╪═══════════╪═══════════╡\n",
       "│ 149474     ┆ 9778669 ┆ 0      ┆ 2          ┆ … ┆ [2023-05-0 ┆ [100.0,    ┆ [9745590, ┆ [60.0,    │\n",
       "│            ┆         ┆        ┆            ┆   ┆ 3          ┆ 89.0, …    ┆ 9748574,  ┆ 11.0, …   │\n",
       "│            ┆         ┆        ┆            ┆   ┆ 19:04:15,  ┆ 47.0]      ┆ …         ┆ 3.0]      │\n",
       "│            ┆         ┆        ┆            ┆   ┆ 2023-05-03 ┆            ┆ 9765156]  ┆           │\n",
       "│            ┆         ┆        ┆            ┆   ┆ …          ┆            ┆           ┆           │\n",
       "│ 149474     ┆ 9778728 ┆ 0      ┆ 2          ┆ … ┆ [2023-05-0 ┆ [100.0,    ┆ [9745590, ┆ [60.0,    │\n",
       "│            ┆         ┆        ┆            ┆   ┆ 3          ┆ 89.0, …    ┆ 9748574,  ┆ 11.0, …   │\n",
       "│            ┆         ┆        ┆            ┆   ┆ 19:04:15,  ┆ 47.0]      ┆ …         ┆ 3.0]      │\n",
       "│            ┆         ┆        ┆            ┆   ┆ 2023-05-03 ┆            ┆ 9765156]  ┆           │\n",
       "│            ┆         ┆        ┆            ┆   ┆ …          ┆            ┆           ┆           │\n",
       "│ 149474     ┆ 9778657 ┆ 1      ┆ 2          ┆ … ┆ [2023-05-0 ┆ [100.0,    ┆ [9745590, ┆ [60.0,    │\n",
       "│            ┆         ┆        ┆            ┆   ┆ 3          ┆ 89.0, …    ┆ 9748574,  ┆ 11.0, …   │\n",
       "│            ┆         ┆        ┆            ┆   ┆ 19:04:15,  ┆ 47.0]      ┆ …         ┆ 3.0]      │\n",
       "│            ┆         ┆        ┆            ┆   ┆ 2023-05-03 ┆            ┆ 9765156]  ┆           │\n",
       "│            ┆         ┆        ┆            ┆   ┆ …          ┆            ┆           ┆           │\n",
       "│ 150528     ┆ 9778669 ┆ 0      ┆ 2          ┆ … ┆ [2023-04-2 ┆ [21.0,     ┆ [9737881, ┆ [7.0,     │\n",
       "│            ┆         ┆        ┆            ┆   ┆ 7          ┆ 100.0, …   ┆ 9738659,  ┆ 24.0, …   │\n",
       "│            ┆         ┆        ┆            ┆   ┆ 08:05:09,  ┆ 69.0]      ┆ …         ┆ 9.0]      │\n",
       "│            ┆         ┆        ┆            ┆   ┆ 2023-04-27 ┆            ┆ 9770989]  ┆           │\n",
       "│            ┆         ┆        ┆            ┆   ┆ …          ┆            ┆           ┆           │\n",
       "│ 150528     ┆ 9778682 ┆ 0      ┆ 2          ┆ … ┆ [2023-04-2 ┆ [21.0,     ┆ [9737881, ┆ [7.0,     │\n",
       "│            ┆         ┆        ┆            ┆   ┆ 7          ┆ 100.0, …   ┆ 9738659,  ┆ 24.0, …   │\n",
       "│            ┆         ┆        ┆            ┆   ┆ 08:05:09,  ┆ 69.0]      ┆ …         ┆ 9.0]      │\n",
       "│            ┆         ┆        ┆            ┆   ┆ 2023-04-27 ┆            ┆ 9770989]  ┆           │\n",
       "│            ┆         ┆        ┆            ┆   ┆ …          ┆            ┆           ┆           │\n",
       "└────────────┴─────────┴────────┴────────────┴───┴────────────┴────────────┴───────────┴───────────┘"
      ]
     },
     "execution_count": 7,
     "metadata": {},
     "output_type": "execute_result"
    }
   ],
   "source": [
    "train_ds = train_ds.join(history_train, on='user_id', how='left')\n",
    "train_ds.head()"
   ]
  },
  {
   "cell_type": "code",
   "execution_count": 8,
   "id": "35ef822a",
   "metadata": {
    "execution": {
     "iopub.execute_input": "2024-03-22T15:54:21.247207Z",
     "iopub.status.busy": "2024-03-22T15:54:21.246766Z",
     "iopub.status.idle": "2024-03-22T15:54:21.272364Z",
     "shell.execute_reply": "2024-03-22T15:54:21.270662Z"
    },
    "papermill": {
     "duration": 0.039674,
     "end_time": "2024-03-22T15:54:21.275165",
     "exception": false,
     "start_time": "2024-03-22T15:54:21.235491",
     "status": "completed"
    },
    "tags": []
   },
   "outputs": [
    {
     "data": {
      "text/html": [
       "<div><style>\n",
       ".dataframe > thead > tr,\n",
       ".dataframe > tbody > tr {\n",
       "  text-align: right;\n",
       "  white-space: pre-wrap;\n",
       "}\n",
       "</style>\n",
       "<small>shape: (5, 29)</small><table border=\"1\" class=\"dataframe\"><thead><tr><th>impression_id</th><th>article</th><th>target</th><th>device_type</th><th>read_time</th><th>scroll_percentage</th><th>user_id</th><th>is_sso_user</th><th>gender</th><th>age</th><th>is_subscriber</th><th>weekday</th><th>hour</th><th>is_in_home</th><th>premium</th><th>category</th><th>sentiment_score</th><th>sentiment_label</th><th>article_delay_days</th><th>article_delay_hours</th><th>article_id_fixed</th><th>NumArticlesHistory</th><th>MedianReadTime</th><th>MaxReadTime</th><th>TotalReadTime</th><th>MedianScrollPercentage</th><th>MaxScrollPercentage</th><th>weekdays</th><th>hours</th></tr><tr><td>u32</td><td>i32</td><td>i8</td><td>i8</td><td>f32</td><td>f32</td><td>u32</td><td>bool</td><td>i8</td><td>i8</td><td>bool</td><td>i8</td><td>i8</td><td>bool</td><td>bool</td><td>i16</td><td>f32</td><td>str</td><td>i64</td><td>i64</td><td>list[i32]</td><td>u32</td><td>f32</td><td>f32</td><td>f32</td><td>f32</td><td>f32</td><td>list[i8]</td><td>list[i8]</td></tr></thead><tbody><tr><td>149474</td><td>9778669</td><td>0</td><td>2</td><td>13.0</td><td>null</td><td>139836</td><td>false</td><td>null</td><td>null</td><td>false</td><td>3</td><td>7</td><td>true</td><td>false</td><td>118</td><td>0.9481</td><td>&quot;Negative&quot;</td><td>0</td><td>1</td><td>[9745590, 9748574, … 9765156]</td><td>19</td><td>11.0</td><td>88.0</td><td>399.0</td><td>47.0</td><td>100.0</td><td>[3, 3, … 7]</td><td>[19, 19, … 19]</td></tr><tr><td>149474</td><td>9778728</td><td>0</td><td>2</td><td>13.0</td><td>null</td><td>139836</td><td>false</td><td>null</td><td>null</td><td>false</td><td>3</td><td>7</td><td>true</td><td>false</td><td>142</td><td>0.9654</td><td>&quot;Negative&quot;</td><td>0</td><td>0</td><td>[9745590, 9748574, … 9765156]</td><td>19</td><td>11.0</td><td>88.0</td><td>399.0</td><td>47.0</td><td>100.0</td><td>[3, 3, … 7]</td><td>[19, 19, … 19]</td></tr><tr><td>149474</td><td>9778657</td><td>1</td><td>2</td><td>13.0</td><td>null</td><td>139836</td><td>false</td><td>null</td><td>null</td><td>false</td><td>3</td><td>7</td><td>true</td><td>false</td><td>118</td><td>0.8347</td><td>&quot;Neutral&quot;</td><td>0</td><td>1</td><td>[9745590, 9748574, … 9765156]</td><td>19</td><td>11.0</td><td>88.0</td><td>399.0</td><td>47.0</td><td>100.0</td><td>[3, 3, … 7]</td><td>[19, 19, … 19]</td></tr><tr><td>150528</td><td>9778669</td><td>0</td><td>2</td><td>25.0</td><td>null</td><td>143471</td><td>false</td><td>null</td><td>null</td><td>false</td><td>3</td><td>7</td><td>true</td><td>false</td><td>118</td><td>0.9481</td><td>&quot;Negative&quot;</td><td>0</td><td>1</td><td>[9737881, 9738659, … 9770989]</td><td>482</td><td>13.0</td><td>1390.0</td><td>23016.0</td><td>56.0</td><td>100.0</td><td>[4, 4, … 4]</td><td>[8, 10, … 6]</td></tr><tr><td>150528</td><td>9778682</td><td>0</td><td>2</td><td>25.0</td><td>null</td><td>143471</td><td>false</td><td>null</td><td>null</td><td>false</td><td>3</td><td>7</td><td>true</td><td>false</td><td>498</td><td>0.9546</td><td>&quot;Negative&quot;</td><td>0</td><td>1</td><td>[9737881, 9738659, … 9770989]</td><td>482</td><td>13.0</td><td>1390.0</td><td>23016.0</td><td>56.0</td><td>100.0</td><td>[4, 4, … 4]</td><td>[8, 10, … 6]</td></tr></tbody></table></div>"
      ],
      "text/plain": [
       "shape: (5, 29)\n",
       "┌────────────┬─────────┬────────┬────────────┬───┬────────────┬────────────┬───────────┬───────────┐\n",
       "│ impression ┆ article ┆ target ┆ device_typ ┆ … ┆ MedianScro ┆ MaxScrollP ┆ weekdays  ┆ hours     │\n",
       "│ _id        ┆ ---     ┆ ---    ┆ e          ┆   ┆ llPercenta ┆ ercentage  ┆ ---       ┆ ---       │\n",
       "│ ---        ┆ i32     ┆ i8     ┆ ---        ┆   ┆ ge         ┆ ---        ┆ list[i8]  ┆ list[i8]  │\n",
       "│ u32        ┆         ┆        ┆ i8         ┆   ┆ ---        ┆ f32        ┆           ┆           │\n",
       "│            ┆         ┆        ┆            ┆   ┆ f32        ┆            ┆           ┆           │\n",
       "╞════════════╪═════════╪════════╪════════════╪═══╪════════════╪════════════╪═══════════╪═══════════╡\n",
       "│ 149474     ┆ 9778669 ┆ 0      ┆ 2          ┆ … ┆ 47.0       ┆ 100.0      ┆ [3, 3, …  ┆ [19, 19,  │\n",
       "│            ┆         ┆        ┆            ┆   ┆            ┆            ┆ 7]        ┆ … 19]     │\n",
       "│ 149474     ┆ 9778728 ┆ 0      ┆ 2          ┆ … ┆ 47.0       ┆ 100.0      ┆ [3, 3, …  ┆ [19, 19,  │\n",
       "│            ┆         ┆        ┆            ┆   ┆            ┆            ┆ 7]        ┆ … 19]     │\n",
       "│ 149474     ┆ 9778657 ┆ 1      ┆ 2          ┆ … ┆ 47.0       ┆ 100.0      ┆ [3, 3, …  ┆ [19, 19,  │\n",
       "│            ┆         ┆        ┆            ┆   ┆            ┆            ┆ 7]        ┆ … 19]     │\n",
       "│ 150528     ┆ 9778669 ┆ 0      ┆ 2          ┆ … ┆ 56.0       ┆ 100.0      ┆ [4, 4, …  ┆ [8, 10, … │\n",
       "│            ┆         ┆        ┆            ┆   ┆            ┆            ┆ 4]        ┆ 6]        │\n",
       "│ 150528     ┆ 9778682 ┆ 0      ┆ 2          ┆ … ┆ 56.0       ┆ 100.0      ┆ [4, 4, …  ┆ [8, 10, … │\n",
       "│            ┆         ┆        ┆            ┆   ┆            ┆            ┆ 4]        ┆ 6]        │\n",
       "└────────────┴─────────┴────────┴────────────┴───┴────────────┴────────────┴───────────┴───────────┘"
      ]
     },
     "execution_count": 8,
     "metadata": {},
     "output_type": "execute_result"
    }
   ],
   "source": [
    "train_ds = train_ds.with_columns(\n",
    "    pl.col('article_id_fixed').list.len().alias('NumArticlesHistory'),\n",
    "    pl.col('read_time_fixed').list.median().alias('MedianReadTime'),\n",
    "    pl.col('read_time_fixed').list.max().alias('MaxReadTime'),\n",
    "    pl.col('read_time_fixed').list.sum().alias('TotalReadTime'),\n",
    "    pl.col('scroll_percentage_fixed').list.median().alias('MedianScrollPercentage'),\n",
    "    pl.col('scroll_percentage_fixed').list.max().alias('MaxScrollPercentage'),\n",
    "    pl.col('impression_time_fixed').list.eval(pl.element().dt.weekday()).alias('weekdays'),\n",
    "    pl.col('impression_time_fixed').list.eval(pl.element().dt.hour()).alias('hours'),\n",
    ").drop(['read_time_fixed', 'scroll_percentage_fixed', 'impression_time_fixed'])\n",
    "train_ds.head()"
   ]
  },
  {
   "cell_type": "code",
   "execution_count": 9,
   "id": "14a68cc3",
   "metadata": {
    "execution": {
     "iopub.execute_input": "2024-03-22T15:54:21.294323Z",
     "iopub.status.busy": "2024-03-22T15:54:21.293912Z",
     "iopub.status.idle": "2024-03-22T15:54:21.445823Z",
     "shell.execute_reply": "2024-03-22T15:54:21.444341Z"
    },
    "papermill": {
     "duration": 0.165585,
     "end_time": "2024-03-22T15:54:21.449304",
     "exception": false,
     "start_time": "2024-03-22T15:54:21.283719",
     "status": "completed"
    },
    "tags": []
   },
   "outputs": [
    {
     "name": "stdout",
     "output_type": "stream",
     "text": [
      "CPU times: user 127 ms, sys: 14.6 ms, total: 141 ms\n",
      "Wall time: 136 ms\n"
     ]
    },
    {
     "data": {
      "text/html": [
       "<div><style>\n",
       ".dataframe > thead > tr,\n",
       ".dataframe > tbody > tr {\n",
       "  text-align: right;\n",
       "  white-space: pre-wrap;\n",
       "}\n",
       "</style>\n",
       "<small>shape: (5, 29)</small><table border=\"1\" class=\"dataframe\"><thead><tr><th>impression_id</th><th>article</th><th>target</th><th>device_type</th><th>read_time</th><th>scroll_percentage</th><th>user_id</th><th>is_sso_user</th><th>gender</th><th>age</th><th>is_subscriber</th><th>weekday</th><th>hour</th><th>is_in_home</th><th>premium</th><th>category</th><th>sentiment_score</th><th>sentiment_label</th><th>article_delay_days</th><th>article_delay_hours</th><th>NumArticlesHistory</th><th>MedianReadTime</th><th>MaxReadTime</th><th>TotalReadTime</th><th>MedianScrollPercentage</th><th>MaxScrollPercentage</th><th>weekdays</th><th>hours</th><th>categories</th></tr><tr><td>u32</td><td>i32</td><td>i8</td><td>i8</td><td>f32</td><td>f32</td><td>u32</td><td>bool</td><td>i8</td><td>i8</td><td>bool</td><td>i8</td><td>i8</td><td>bool</td><td>bool</td><td>i16</td><td>f32</td><td>str</td><td>i64</td><td>i64</td><td>u32</td><td>f32</td><td>f32</td><td>f32</td><td>f32</td><td>f32</td><td>list[i8]</td><td>list[i8]</td><td>list[i64]</td></tr></thead><tbody><tr><td>149474</td><td>9778669</td><td>0</td><td>2</td><td>13.0</td><td>null</td><td>139836</td><td>false</td><td>null</td><td>null</td><td>false</td><td>3</td><td>7</td><td>true</td><td>false</td><td>118</td><td>0.9481</td><td>&quot;Negative&quot;</td><td>0</td><td>1</td><td>19</td><td>11.0</td><td>88.0</td><td>399.0</td><td>47.0</td><td>100.0</td><td>[3, 3, … 7]</td><td>[19, 19, … 19]</td><td>[457, 140, … 414]</td></tr><tr><td>149474</td><td>9778728</td><td>0</td><td>2</td><td>13.0</td><td>null</td><td>139836</td><td>false</td><td>null</td><td>null</td><td>false</td><td>3</td><td>7</td><td>true</td><td>false</td><td>142</td><td>0.9654</td><td>&quot;Negative&quot;</td><td>0</td><td>0</td><td>19</td><td>11.0</td><td>88.0</td><td>399.0</td><td>47.0</td><td>100.0</td><td>[3, 3, … 7]</td><td>[19, 19, … 19]</td><td>[457, 140, … 414]</td></tr><tr><td>149474</td><td>9778657</td><td>1</td><td>2</td><td>13.0</td><td>null</td><td>139836</td><td>false</td><td>null</td><td>null</td><td>false</td><td>3</td><td>7</td><td>true</td><td>false</td><td>118</td><td>0.8347</td><td>&quot;Neutral&quot;</td><td>0</td><td>1</td><td>19</td><td>11.0</td><td>88.0</td><td>399.0</td><td>47.0</td><td>100.0</td><td>[3, 3, … 7]</td><td>[19, 19, … 19]</td><td>[457, 140, … 414]</td></tr><tr><td>150528</td><td>9778669</td><td>0</td><td>2</td><td>25.0</td><td>null</td><td>143471</td><td>false</td><td>null</td><td>null</td><td>false</td><td>3</td><td>7</td><td>true</td><td>false</td><td>118</td><td>0.9481</td><td>&quot;Negative&quot;</td><td>0</td><td>1</td><td>482</td><td>13.0</td><td>1390.0</td><td>23016.0</td><td>56.0</td><td>100.0</td><td>[4, 4, … 4]</td><td>[8, 10, … 6]</td><td>[512, 457, … 2975]</td></tr><tr><td>150528</td><td>9778682</td><td>0</td><td>2</td><td>25.0</td><td>null</td><td>143471</td><td>false</td><td>null</td><td>null</td><td>false</td><td>3</td><td>7</td><td>true</td><td>false</td><td>498</td><td>0.9546</td><td>&quot;Negative&quot;</td><td>0</td><td>1</td><td>482</td><td>13.0</td><td>1390.0</td><td>23016.0</td><td>56.0</td><td>100.0</td><td>[4, 4, … 4]</td><td>[8, 10, … 6]</td><td>[512, 457, … 2975]</td></tr></tbody></table></div>"
      ],
      "text/plain": [
       "shape: (5, 29)\n",
       "┌────────────┬─────────┬────────┬────────────┬───┬────────────┬────────────┬───────────┬───────────┐\n",
       "│ impression ┆ article ┆ target ┆ device_typ ┆ … ┆ MaxScrollP ┆ weekdays   ┆ hours     ┆ categorie │\n",
       "│ _id        ┆ ---     ┆ ---    ┆ e          ┆   ┆ ercentage  ┆ ---        ┆ ---       ┆ s         │\n",
       "│ ---        ┆ i32     ┆ i8     ┆ ---        ┆   ┆ ---        ┆ list[i8]   ┆ list[i8]  ┆ ---       │\n",
       "│ u32        ┆         ┆        ┆ i8         ┆   ┆ f32        ┆            ┆           ┆ list[i64] │\n",
       "╞════════════╪═════════╪════════╪════════════╪═══╪════════════╪════════════╪═══════════╪═══════════╡\n",
       "│ 149474     ┆ 9778669 ┆ 0      ┆ 2          ┆ … ┆ 100.0      ┆ [3, 3, …   ┆ [19, 19,  ┆ [457,     │\n",
       "│            ┆         ┆        ┆            ┆   ┆            ┆ 7]         ┆ … 19]     ┆ 140, …    │\n",
       "│            ┆         ┆        ┆            ┆   ┆            ┆            ┆           ┆ 414]      │\n",
       "│ 149474     ┆ 9778728 ┆ 0      ┆ 2          ┆ … ┆ 100.0      ┆ [3, 3, …   ┆ [19, 19,  ┆ [457,     │\n",
       "│            ┆         ┆        ┆            ┆   ┆            ┆ 7]         ┆ … 19]     ┆ 140, …    │\n",
       "│            ┆         ┆        ┆            ┆   ┆            ┆            ┆           ┆ 414]      │\n",
       "│ 149474     ┆ 9778657 ┆ 1      ┆ 2          ┆ … ┆ 100.0      ┆ [3, 3, …   ┆ [19, 19,  ┆ [457,     │\n",
       "│            ┆         ┆        ┆            ┆   ┆            ┆ 7]         ┆ … 19]     ┆ 140, …    │\n",
       "│            ┆         ┆        ┆            ┆   ┆            ┆            ┆           ┆ 414]      │\n",
       "│ 150528     ┆ 9778669 ┆ 0      ┆ 2          ┆ … ┆ 100.0      ┆ [4, 4, …   ┆ [8, 10, … ┆ [512,     │\n",
       "│            ┆         ┆        ┆            ┆   ┆            ┆ 4]         ┆ 6]        ┆ 457, …    │\n",
       "│            ┆         ┆        ┆            ┆   ┆            ┆            ┆           ┆ 2975]     │\n",
       "│ 150528     ┆ 9778682 ┆ 0      ┆ 2          ┆ … ┆ 100.0      ┆ [4, 4, …   ┆ [8, 10, … ┆ [512,     │\n",
       "│            ┆         ┆        ┆            ┆   ┆            ┆ 4]         ┆ 6]        ┆ 457, …    │\n",
       "│            ┆         ┆        ┆            ┆   ┆            ┆            ┆           ┆ 2975]     │\n",
       "└────────────┴─────────┴────────┴────────────┴───┴────────────┴────────────┴───────────┴───────────┘"
      ]
     },
     "execution_count": 9,
     "metadata": {},
     "output_type": "execute_result"
    }
   ],
   "source": [
    "%%time\n",
    "\n",
    "from rich.progress import Progress\n",
    "\n",
    "\n",
    "def get_categories(article_ids):\n",
    "    categories = articles.filter(pl.col('article_id').is_in(article_ids)) \\\n",
    "        .select(pl.col('category').explode())['category'].to_list()\n",
    "    return list(set(categories))\n",
    "\n",
    "train_ds = train_ds.with_columns(\n",
    "    pl.col('article_id_fixed').map_elements(get_categories, return_dtype=pl.List(pl.Int64)).alias('categories')\n",
    ").drop('article_id_fixed')\n",
    "train_ds.head()"
   ]
  },
  {
   "cell_type": "code",
   "execution_count": 10,
   "id": "35cefffe",
   "metadata": {
    "execution": {
     "iopub.execute_input": "2024-03-22T15:54:21.470526Z",
     "iopub.status.busy": "2024-03-22T15:54:21.470134Z",
     "iopub.status.idle": "2024-03-22T15:54:21.539566Z",
     "shell.execute_reply": "2024-03-22T15:54:21.538383Z"
    },
    "papermill": {
     "duration": 0.083864,
     "end_time": "2024-03-22T15:54:21.542251",
     "exception": false,
     "start_time": "2024-03-22T15:54:21.458387",
     "status": "completed"
    },
    "tags": []
   },
   "outputs": [
    {
     "data": {
      "text/html": [
       "<div><style>\n",
       ".dataframe > thead > tr,\n",
       ".dataframe > tbody > tr {\n",
       "  text-align: right;\n",
       "  white-space: pre-wrap;\n",
       "}\n",
       "</style>\n",
       "<small>shape: (5, 29)</small><table border=\"1\" class=\"dataframe\"><thead><tr><th>impression_id</th><th>article</th><th>target</th><th>device_type</th><th>read_time</th><th>scroll_percentage</th><th>user_id</th><th>is_sso_user</th><th>gender</th><th>age</th><th>is_subscriber</th><th>weekday</th><th>hour</th><th>is_in_home</th><th>premium</th><th>category</th><th>sentiment_score</th><th>sentiment_label</th><th>article_delay_days</th><th>article_delay_hours</th><th>NumArticlesHistory</th><th>MedianReadTime</th><th>MaxReadTime</th><th>TotalReadTime</th><th>MedianScrollPercentage</th><th>MaxScrollPercentage</th><th>MostFrequentCategory</th><th>MostFrequentWeekday</th><th>MostFrequentHour</th></tr><tr><td>u32</td><td>i32</td><td>i8</td><td>i8</td><td>f32</td><td>f32</td><td>u32</td><td>bool</td><td>i8</td><td>i8</td><td>bool</td><td>i8</td><td>i8</td><td>bool</td><td>bool</td><td>i16</td><td>f32</td><td>str</td><td>i64</td><td>i64</td><td>u32</td><td>f32</td><td>f32</td><td>f32</td><td>f32</td><td>f32</td><td>i16</td><td>i8</td><td>i8</td></tr></thead><tbody><tr><td>149474</td><td>9778669</td><td>0</td><td>2</td><td>13.0</td><td>null</td><td>139836</td><td>false</td><td>null</td><td>null</td><td>false</td><td>3</td><td>7</td><td>true</td><td>false</td><td>118</td><td>0.9481</td><td>&quot;Negative&quot;</td><td>0</td><td>1</td><td>19</td><td>11.0</td><td>88.0</td><td>399.0</td><td>47.0</td><td>100.0</td><td>118</td><td>5</td><td>19</td></tr><tr><td>149474</td><td>9778728</td><td>0</td><td>2</td><td>13.0</td><td>null</td><td>139836</td><td>false</td><td>null</td><td>null</td><td>false</td><td>3</td><td>7</td><td>true</td><td>false</td><td>142</td><td>0.9654</td><td>&quot;Negative&quot;</td><td>0</td><td>0</td><td>19</td><td>11.0</td><td>88.0</td><td>399.0</td><td>47.0</td><td>100.0</td><td>118</td><td>5</td><td>19</td></tr><tr><td>149474</td><td>9778657</td><td>1</td><td>2</td><td>13.0</td><td>null</td><td>139836</td><td>false</td><td>null</td><td>null</td><td>false</td><td>3</td><td>7</td><td>true</td><td>false</td><td>118</td><td>0.8347</td><td>&quot;Neutral&quot;</td><td>0</td><td>1</td><td>19</td><td>11.0</td><td>88.0</td><td>399.0</td><td>47.0</td><td>100.0</td><td>118</td><td>5</td><td>19</td></tr><tr><td>150528</td><td>9778669</td><td>0</td><td>2</td><td>25.0</td><td>null</td><td>143471</td><td>false</td><td>null</td><td>null</td><td>false</td><td>3</td><td>7</td><td>true</td><td>false</td><td>118</td><td>0.9481</td><td>&quot;Negative&quot;</td><td>0</td><td>1</td><td>482</td><td>13.0</td><td>1390.0</td><td>23016.0</td><td>56.0</td><td>100.0</td><td>118</td><td>4</td><td>4</td></tr><tr><td>150528</td><td>9778682</td><td>0</td><td>2</td><td>25.0</td><td>null</td><td>143471</td><td>false</td><td>null</td><td>null</td><td>false</td><td>3</td><td>7</td><td>true</td><td>false</td><td>498</td><td>0.9546</td><td>&quot;Negative&quot;</td><td>0</td><td>1</td><td>482</td><td>13.0</td><td>1390.0</td><td>23016.0</td><td>56.0</td><td>100.0</td><td>118</td><td>4</td><td>4</td></tr></tbody></table></div>"
      ],
      "text/plain": [
       "shape: (5, 29)\n",
       "┌────────────┬─────────┬────────┬────────────┬───┬────────────┬────────────┬───────────┬───────────┐\n",
       "│ impression ┆ article ┆ target ┆ device_typ ┆ … ┆ MaxScrollP ┆ MostFreque ┆ MostFrequ ┆ MostFrequ │\n",
       "│ _id        ┆ ---     ┆ ---    ┆ e          ┆   ┆ ercentage  ┆ ntCategory ┆ entWeekda ┆ entHour   │\n",
       "│ ---        ┆ i32     ┆ i8     ┆ ---        ┆   ┆ ---        ┆ ---        ┆ y         ┆ ---       │\n",
       "│ u32        ┆         ┆        ┆ i8         ┆   ┆ f32        ┆ i16        ┆ ---       ┆ i8        │\n",
       "│            ┆         ┆        ┆            ┆   ┆            ┆            ┆ i8        ┆           │\n",
       "╞════════════╪═════════╪════════╪════════════╪═══╪════════════╪════════════╪═══════════╪═══════════╡\n",
       "│ 149474     ┆ 9778669 ┆ 0      ┆ 2          ┆ … ┆ 100.0      ┆ 118        ┆ 5         ┆ 19        │\n",
       "│ 149474     ┆ 9778728 ┆ 0      ┆ 2          ┆ … ┆ 100.0      ┆ 118        ┆ 5         ┆ 19        │\n",
       "│ 149474     ┆ 9778657 ┆ 1      ┆ 2          ┆ … ┆ 100.0      ┆ 118        ┆ 5         ┆ 19        │\n",
       "│ 150528     ┆ 9778669 ┆ 0      ┆ 2          ┆ … ┆ 100.0      ┆ 118        ┆ 4         ┆ 4         │\n",
       "│ 150528     ┆ 9778682 ┆ 0      ┆ 2          ┆ … ┆ 100.0      ┆ 118        ┆ 4         ┆ 4         │\n",
       "└────────────┴─────────┴────────┴────────────┴───┴────────────┴────────────┴───────────┴───────────┘"
      ]
     },
     "execution_count": 10,
     "metadata": {},
     "output_type": "execute_result"
    }
   ],
   "source": [
    "train_ds = train_ds.with_columns(\n",
    "    pl.col('categories').map_elements(lambda x: stats.mode(x)[0], return_dtype=pl.Int64).cast(pl.Int16).alias('MostFrequentCategory'),\n",
    "    pl.col('weekdays').map_elements(lambda x: stats.mode(x)[0], return_dtype=pl.Int64).cast(pl.Int8).alias('MostFrequentWeekday'),\n",
    "    pl.col('hours').map_elements(lambda x: stats.mode(x)[0], return_dtype=pl.Int64).cast(pl.Int8).alias('MostFrequentHour'),\n",
    ").drop(['categories', 'weekdays', 'hours'])\n",
    "train_ds.head()"
   ]
  },
  {
   "cell_type": "code",
   "execution_count": 11,
   "id": "43dcd92d",
   "metadata": {
    "execution": {
     "iopub.execute_input": "2024-03-22T15:54:21.565135Z",
     "iopub.status.busy": "2024-03-22T15:54:21.564728Z",
     "iopub.status.idle": "2024-03-22T15:54:21.624178Z",
     "shell.execute_reply": "2024-03-22T15:54:21.623222Z"
    },
    "papermill": {
     "duration": 0.075641,
     "end_time": "2024-03-22T15:54:21.626904",
     "exception": false,
     "start_time": "2024-03-22T15:54:21.551263",
     "status": "completed"
    },
    "tags": []
   },
   "outputs": [],
   "source": [
    "train_ds = train_ds.with_columns(\n",
    "    pl.col('gender').fill_null(2),\n",
    ")\n",
    "train_ds = train_ds.drop(['impression_id', 'article', 'user_id']).to_pandas()\n",
    "\n",
    "categorical_columns = ['device_type', 'is_sso_user', 'gender', 'is_subscriber', 'weekday',\n",
    "                       'is_in_home', 'premium', 'category', 'sentiment_label', \n",
    "                       'MostFrequentCategory', 'MostFrequentWeekday']\n",
    "train_ds[categorical_columns] = train_ds[categorical_columns].astype('category')\n",
    "\n",
    "X = train_ds.drop(columns=['target'])\n",
    "y = train_ds['target']"
   ]
  },
  {
   "cell_type": "code",
   "execution_count": 12,
   "id": "dd6bd3bf",
   "metadata": {
    "execution": {
     "iopub.execute_input": "2024-03-22T15:54:21.646803Z",
     "iopub.status.busy": "2024-03-22T15:54:21.645734Z",
     "iopub.status.idle": "2024-03-22T15:54:23.835062Z",
     "shell.execute_reply": "2024-03-22T15:54:23.833908Z"
    },
    "papermill": {
     "duration": 2.202292,
     "end_time": "2024-03-22T15:54:23.837763",
     "exception": false,
     "start_time": "2024-03-22T15:54:21.635471",
     "status": "completed"
    },
    "tags": []
   },
   "outputs": [
    {
     "name": "stdout",
     "output_type": "stream",
     "text": [
      "Learning rate set to 0.001714\n",
      "0:\tlearn: 0.6923584\ttotal: 60.3ms\tremaining: 1m\n",
      "10:\tlearn: 0.6842806\ttotal: 80.4ms\tremaining: 7.23s\n",
      "20:\tlearn: 0.6764758\ttotal: 92.7ms\tremaining: 4.32s\n",
      "30:\tlearn: 0.6699690\ttotal: 107ms\tremaining: 3.33s\n",
      "40:\tlearn: 0.6631010\ttotal: 124ms\tremaining: 2.9s\n",
      "50:\tlearn: 0.6557455\ttotal: 141ms\tremaining: 2.62s\n",
      "60:\tlearn: 0.6490549\ttotal: 153ms\tremaining: 2.36s\n",
      "70:\tlearn: 0.6421546\ttotal: 168ms\tremaining: 2.2s\n",
      "80:\tlearn: 0.6345877\ttotal: 184ms\tremaining: 2.08s\n",
      "90:\tlearn: 0.6276666\ttotal: 199ms\tremaining: 1.99s\n",
      "100:\tlearn: 0.6197924\ttotal: 221ms\tremaining: 1.97s\n",
      "110:\tlearn: 0.6131948\ttotal: 239ms\tremaining: 1.91s\n",
      "120:\tlearn: 0.6077934\ttotal: 256ms\tremaining: 1.86s\n",
      "130:\tlearn: 0.6016979\ttotal: 274ms\tremaining: 1.81s\n",
      "140:\tlearn: 0.5951383\ttotal: 296ms\tremaining: 1.8s\n",
      "150:\tlearn: 0.5910649\ttotal: 313ms\tremaining: 1.76s\n",
      "160:\tlearn: 0.5858249\ttotal: 339ms\tremaining: 1.76s\n",
      "170:\tlearn: 0.5797507\ttotal: 358ms\tremaining: 1.74s\n",
      "180:\tlearn: 0.5746559\ttotal: 375ms\tremaining: 1.7s\n",
      "190:\tlearn: 0.5675528\ttotal: 400ms\tremaining: 1.69s\n",
      "200:\tlearn: 0.5615853\ttotal: 418ms\tremaining: 1.66s\n",
      "210:\tlearn: 0.5555500\ttotal: 438ms\tremaining: 1.64s\n",
      "220:\tlearn: 0.5497237\ttotal: 463ms\tremaining: 1.63s\n",
      "230:\tlearn: 0.5442857\ttotal: 485ms\tremaining: 1.61s\n",
      "240:\tlearn: 0.5380224\ttotal: 520ms\tremaining: 1.64s\n",
      "250:\tlearn: 0.5321786\ttotal: 541ms\tremaining: 1.61s\n",
      "260:\tlearn: 0.5268399\ttotal: 561ms\tremaining: 1.59s\n",
      "270:\tlearn: 0.5211237\ttotal: 576ms\tremaining: 1.55s\n",
      "280:\tlearn: 0.5147320\ttotal: 596ms\tremaining: 1.52s\n",
      "290:\tlearn: 0.5093335\ttotal: 616ms\tremaining: 1.5s\n",
      "300:\tlearn: 0.5043219\ttotal: 637ms\tremaining: 1.48s\n",
      "310:\tlearn: 0.4989011\ttotal: 656ms\tremaining: 1.45s\n",
      "320:\tlearn: 0.4932936\ttotal: 675ms\tremaining: 1.43s\n",
      "330:\tlearn: 0.4885995\ttotal: 693ms\tremaining: 1.4s\n",
      "340:\tlearn: 0.4839476\ttotal: 711ms\tremaining: 1.37s\n",
      "350:\tlearn: 0.4797495\ttotal: 730ms\tremaining: 1.35s\n",
      "360:\tlearn: 0.4761121\ttotal: 751ms\tremaining: 1.33s\n",
      "370:\tlearn: 0.4713001\ttotal: 772ms\tremaining: 1.31s\n",
      "380:\tlearn: 0.4670473\ttotal: 791ms\tremaining: 1.28s\n",
      "390:\tlearn: 0.4625620\ttotal: 811ms\tremaining: 1.26s\n",
      "400:\tlearn: 0.4580133\ttotal: 829ms\tremaining: 1.24s\n",
      "410:\tlearn: 0.4531141\ttotal: 847ms\tremaining: 1.21s\n",
      "420:\tlearn: 0.4495385\ttotal: 864ms\tremaining: 1.19s\n",
      "430:\tlearn: 0.4462109\ttotal: 879ms\tremaining: 1.16s\n",
      "440:\tlearn: 0.4429280\ttotal: 896ms\tremaining: 1.14s\n",
      "450:\tlearn: 0.4383581\ttotal: 917ms\tremaining: 1.12s\n",
      "460:\tlearn: 0.4349471\ttotal: 934ms\tremaining: 1.09s\n",
      "470:\tlearn: 0.4305628\ttotal: 953ms\tremaining: 1.07s\n",
      "480:\tlearn: 0.4260429\ttotal: 972ms\tremaining: 1.05s\n",
      "490:\tlearn: 0.4215169\ttotal: 991ms\tremaining: 1.03s\n",
      "500:\tlearn: 0.4178027\ttotal: 1.01s\tremaining: 1s\n",
      "510:\tlearn: 0.4138105\ttotal: 1.02s\tremaining: 981ms\n",
      "520:\tlearn: 0.4108155\ttotal: 1.04s\tremaining: 958ms\n",
      "530:\tlearn: 0.4067094\ttotal: 1.06s\tremaining: 936ms\n",
      "540:\tlearn: 0.4027507\ttotal: 1.08s\tremaining: 914ms\n",
      "550:\tlearn: 0.3993727\ttotal: 1.09s\tremaining: 892ms\n",
      "560:\tlearn: 0.3959644\ttotal: 1.12s\tremaining: 874ms\n",
      "570:\tlearn: 0.3925463\ttotal: 1.14s\tremaining: 854ms\n",
      "580:\tlearn: 0.3892917\ttotal: 1.15s\tremaining: 832ms\n",
      "590:\tlearn: 0.3860010\ttotal: 1.17s\tremaining: 811ms\n",
      "600:\tlearn: 0.3831340\ttotal: 1.19s\tremaining: 792ms\n",
      "610:\tlearn: 0.3799198\ttotal: 1.21s\tremaining: 771ms\n",
      "620:\tlearn: 0.3767827\ttotal: 1.23s\tremaining: 750ms\n",
      "630:\tlearn: 0.3737693\ttotal: 1.25s\tremaining: 729ms\n",
      "640:\tlearn: 0.3704936\ttotal: 1.27s\tremaining: 709ms\n",
      "650:\tlearn: 0.3672336\ttotal: 1.29s\tremaining: 689ms\n",
      "660:\tlearn: 0.3640923\ttotal: 1.31s\tremaining: 670ms\n",
      "670:\tlearn: 0.3613375\ttotal: 1.33s\tremaining: 650ms\n",
      "680:\tlearn: 0.3586562\ttotal: 1.34s\tremaining: 630ms\n",
      "690:\tlearn: 0.3556097\ttotal: 1.37s\tremaining: 611ms\n",
      "700:\tlearn: 0.3536619\ttotal: 1.38s\tremaining: 590ms\n",
      "710:\tlearn: 0.3505794\ttotal: 1.41s\tremaining: 573ms\n",
      "720:\tlearn: 0.3472522\ttotal: 1.43s\tremaining: 553ms\n",
      "730:\tlearn: 0.3448481\ttotal: 1.45s\tremaining: 532ms\n",
      "740:\tlearn: 0.3418299\ttotal: 1.46s\tremaining: 512ms\n",
      "750:\tlearn: 0.3392293\ttotal: 1.48s\tremaining: 492ms\n",
      "760:\tlearn: 0.3361716\ttotal: 1.5s\tremaining: 472ms\n",
      "770:\tlearn: 0.3341095\ttotal: 1.52s\tremaining: 452ms\n",
      "780:\tlearn: 0.3311945\ttotal: 1.54s\tremaining: 431ms\n",
      "790:\tlearn: 0.3291838\ttotal: 1.55s\tremaining: 410ms\n",
      "800:\tlearn: 0.3268055\ttotal: 1.57s\tremaining: 390ms\n",
      "810:\tlearn: 0.3248725\ttotal: 1.59s\tremaining: 370ms\n",
      "820:\tlearn: 0.3222924\ttotal: 1.61s\tremaining: 351ms\n",
      "830:\tlearn: 0.3189225\ttotal: 1.63s\tremaining: 331ms\n",
      "840:\tlearn: 0.3164990\ttotal: 1.64s\tremaining: 310ms\n",
      "850:\tlearn: 0.3138444\ttotal: 1.66s\tremaining: 291ms\n",
      "860:\tlearn: 0.3111258\ttotal: 1.68s\tremaining: 271ms\n",
      "870:\tlearn: 0.3088470\ttotal: 1.7s\tremaining: 251ms\n",
      "880:\tlearn: 0.3070175\ttotal: 1.71s\tremaining: 231ms\n",
      "890:\tlearn: 0.3051523\ttotal: 1.73s\tremaining: 212ms\n",
      "900:\tlearn: 0.3028431\ttotal: 1.75s\tremaining: 192ms\n",
      "910:\tlearn: 0.3000858\ttotal: 1.76s\tremaining: 172ms\n",
      "920:\tlearn: 0.2983329\ttotal: 1.78s\tremaining: 153ms\n",
      "930:\tlearn: 0.2962855\ttotal: 1.8s\tremaining: 133ms\n",
      "940:\tlearn: 0.2938461\ttotal: 1.82s\tremaining: 114ms\n",
      "950:\tlearn: 0.2916583\ttotal: 1.84s\tremaining: 94.7ms\n",
      "960:\tlearn: 0.2892611\ttotal: 1.86s\tremaining: 75.4ms\n",
      "970:\tlearn: 0.2869272\ttotal: 1.88s\tremaining: 56ms\n",
      "980:\tlearn: 0.2851592\ttotal: 1.89s\tremaining: 36.7ms\n",
      "990:\tlearn: 0.2831354\ttotal: 1.91s\tremaining: 17.4ms\n",
      "999:\tlearn: 0.2808552\ttotal: 1.93s\tremaining: 0us\n"
     ]
    },
    {
     "data": {
      "text/plain": [
       "<catboost.core.CatBoostClassifier at 0x7994111866e0>"
      ]
     },
     "execution_count": 12,
     "metadata": {},
     "output_type": "execute_result"
    }
   ],
   "source": [
    "model = CatBoostClassifier(cat_features=categorical_columns)\n",
    "\n",
    "model.fit(X, y, verbose=10)"
   ]
  }
 ],
 "metadata": {
  "kaggle": {
   "accelerator": "none",
   "dataSources": [
    {
     "datasetId": 4622414,
     "sourceId": 7914006,
     "sourceType": "datasetVersion"
    }
   ],
   "dockerImageVersionId": 30673,
   "isGpuEnabled": false,
   "isInternetEnabled": true,
   "language": "python",
   "sourceType": "notebook"
  },
  "kernelspec": {
   "display_name": "Python 3",
   "language": "python",
   "name": "python3"
  },
  "language_info": {
   "codemirror_mode": {
    "name": "ipython",
    "version": 3
   },
   "file_extension": ".py",
   "mimetype": "text/x-python",
   "name": "python",
   "nbconvert_exporter": "python",
   "pygments_lexer": "ipython3",
   "version": "3.10.13"
  },
  "papermill": {
   "default_parameters": {},
   "duration": 31.991496,
   "end_time": "2024-03-22T15:54:25.178903",
   "environment_variables": {},
   "exception": null,
   "input_path": "__notebook__.ipynb",
   "output_path": "__notebook__.ipynb",
   "parameters": {},
   "start_time": "2024-03-22T15:53:53.187407",
   "version": "2.5.0"
  }
 },
 "nbformat": 4,
 "nbformat_minor": 5
}
