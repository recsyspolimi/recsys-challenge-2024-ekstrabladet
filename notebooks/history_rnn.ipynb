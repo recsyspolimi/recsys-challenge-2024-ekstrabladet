{
 "cells": [
  {
   "cell_type": "code",
   "execution_count": 90,
   "metadata": {},
   "outputs": [
    {
     "name": "stdout",
     "output_type": "stream",
     "text": [
      "2.16.1\n"
     ]
    }
   ],
   "source": [
    "import polars as pl\n",
    "import tensorflow as tf\n",
    "from tensorflow import keras as tfk\n",
    "from tensorflow.keras import layers as tfkl\n",
    "import numpy as np\n",
    "import logging\n",
    "import random\n",
    "\n",
    "seed = 42\n",
    "np.random.seed(seed)\n",
    "random.seed(seed)\n",
    "tf.autograph.set_verbosity(0)\n",
    "tf.get_logger().setLevel(logging.ERROR)\n",
    "tf.random.set_seed(seed)\n",
    "print(tf.__version__)"
   ]
  },
  {
   "cell_type": "code",
   "execution_count": 91,
   "metadata": {},
   "outputs": [
    {
     "data": {
      "text/html": [
       "<div><style>\n",
       ".dataframe > thead > tr,\n",
       ".dataframe > tbody > tr {\n",
       "  text-align: right;\n",
       "  white-space: pre-wrap;\n",
       "}\n",
       "</style>\n",
       "<small>shape: (2, 5)</small><table border=\"1\" class=\"dataframe\"><thead><tr><th>user_id</th><th>impression_time_fixed</th><th>scroll_percentage_fixed</th><th>article_id_fixed</th><th>read_time_fixed</th></tr><tr><td>u32</td><td>list[datetime[μs]]</td><td>list[f32]</td><td>list[i32]</td><td>list[f32]</td></tr></thead><tbody><tr><td>13538</td><td>[2023-04-27 10:17:43, 2023-04-27 10:18:01, … 2023-05-17 20:36:34]</td><td>[100.0, 35.0, … 100.0]</td><td>[9738663, 9738569, … 9769366]</td><td>[17.0, 12.0, … 16.0]</td></tr><tr><td>14241</td><td>[2023-04-27 09:40:18, 2023-04-27 09:40:33, … 2023-05-17 17:08:41]</td><td>[100.0, 46.0, … 100.0]</td><td>[9738557, 9738528, … 9767852]</td><td>[8.0, 9.0, … 12.0]</td></tr></tbody></table></div>"
      ],
      "text/plain": [
       "shape: (2, 5)\n",
       "┌─────────┬──────────────────────┬─────────────────────┬─────────────────────┬─────────────────────┐\n",
       "│ user_id ┆ impression_time_fixe ┆ scroll_percentage_f ┆ article_id_fixed    ┆ read_time_fixed     │\n",
       "│ ---     ┆ d                    ┆ ixed                ┆ ---                 ┆ ---                 │\n",
       "│ u32     ┆ ---                  ┆ ---                 ┆ list[i32]           ┆ list[f32]           │\n",
       "│         ┆ list[datetime[μs]]   ┆ list[f32]           ┆                     ┆                     │\n",
       "╞═════════╪══════════════════════╪═════════════════════╪═════════════════════╪═════════════════════╡\n",
       "│ 13538   ┆ [2023-04-27          ┆ [100.0, 35.0, …     ┆ [9738663, 9738569,  ┆ [17.0, 12.0, …      │\n",
       "│         ┆ 10:17:43, 2023-04-…  ┆ 100.0]              ┆ … 9769366]          ┆ 16.0]               │\n",
       "│ 14241   ┆ [2023-04-27          ┆ [100.0, 46.0, …     ┆ [9738557, 9738528,  ┆ [8.0, 9.0, … 12.0]  │\n",
       "│         ┆ 09:40:18, 2023-04-…  ┆ 100.0]              ┆ … 9767852]          ┆                     │\n",
       "└─────────┴──────────────────────┴─────────────────────┴─────────────────────┴─────────────────────┘"
      ]
     },
     "execution_count": 91,
     "metadata": {},
     "output_type": "execute_result"
    }
   ],
   "source": [
    "history = pl.read_parquet('/home/ubuntu/dataset/ebnerd_small/train/history.parquet')\n",
    "behaviors = pl.read_parquet('/home/ubuntu/dataset/ebnerd_small/train/behaviors.parquet')\n",
    "articles = pl.read_parquet('/home/ubuntu/dataset/ebnerd_small/articles.parquet')\n",
    "history.head(2)"
   ]
  },
  {
   "cell_type": "code",
   "execution_count": 92,
   "metadata": {},
   "outputs": [
    {
     "data": {
      "text/html": [
       "<div><style>\n",
       ".dataframe > thead > tr,\n",
       ".dataframe > tbody > tr {\n",
       "  text-align: right;\n",
       "  white-space: pre-wrap;\n",
       "}\n",
       "</style>\n",
       "<small>shape: (2, 6)</small><table border=\"1\" class=\"dataframe\"><thead><tr><th>article_id</th><th>category</th><th>subcategory</th><th>premium</th><th>topics</th><th>sentiment_label</th></tr><tr><td>i32</td><td>i32</td><td>list[i32]</td><td>i8</td><td>list[i32]</td><td>i32</td></tr></thead><tbody><tr><td>3001353</td><td>5</td><td>[]</td><td>0</td><td>[25, 47]</td><td>1</td></tr><tr><td>3003065</td><td>7</td><td>[87, 88]</td><td>0</td><td>[69, 13, 77]</td><td>3</td></tr></tbody></table></div>"
      ],
      "text/plain": [
       "shape: (2, 6)\n",
       "┌────────────┬──────────┬─────────────┬─────────┬──────────────┬─────────────────┐\n",
       "│ article_id ┆ category ┆ subcategory ┆ premium ┆ topics       ┆ sentiment_label │\n",
       "│ ---        ┆ ---      ┆ ---         ┆ ---     ┆ ---          ┆ ---             │\n",
       "│ i32        ┆ i32      ┆ list[i32]   ┆ i8      ┆ list[i32]    ┆ i32             │\n",
       "╞════════════╪══════════╪═════════════╪═════════╪══════════════╪═════════════════╡\n",
       "│ 3001353    ┆ 5        ┆ []          ┆ 0       ┆ [25, 47]     ┆ 1               │\n",
       "│ 3003065    ┆ 7        ┆ [87, 88]    ┆ 0       ┆ [69, 13, 77] ┆ 3               │\n",
       "└────────────┴──────────┴─────────────┴─────────┴──────────────┴─────────────────┘"
      ]
     },
     "execution_count": 92,
     "metadata": {},
     "output_type": "execute_result"
    }
   ],
   "source": [
    "topics = articles['topics'].explode().unique().drop_nans().drop_nulls().sort().to_frame().with_row_index()\n",
    "category = articles['category'].unique().drop_nans().drop_nulls().sort().to_frame().with_row_index(offset=1)\n",
    "subcategory = articles['subcategory'].explode().unique().drop_nans().drop_nulls().sort().to_frame().with_row_index()\n",
    "sentiment_label = articles['sentiment_label'].explode().unique().drop_nans().drop_nulls().sort().to_frame().with_row_index(offset=1)\n",
    "mask = 0\n",
    "\n",
    "articles = articles.select(['article_id', 'category', 'subcategory', 'premium', 'topics', 'sentiment_label'])\\\n",
    "    .with_columns(\n",
    "        pl.col('topics').fill_null(pl.lit([])),\n",
    "        pl.col('subcategory').fill_null(pl.lit([]))\n",
    "    )\\\n",
    "    .with_columns(\n",
    "        pl.col('topics').list.eval(pl.element().replace(topics['topics'], topics['index'], default=None)).list.drop_nulls().cast(pl.List(pl.Int32)),\n",
    "        pl.col('category').replace(category['category'], category['index'], default=None).fill_null(mask).cast(pl.Int32),\n",
    "        pl.col('sentiment_label').replace(sentiment_label['sentiment_label'], sentiment_label['index'], default=None).fill_null(mask).cast(pl.Int32),\n",
    "        pl.col('subcategory').list.eval(pl.element().replace(subcategory['subcategory'], subcategory['index'], default=None)).list.drop_nulls().cast(pl.List(pl.Int32)),\n",
    "        pl.col('premium').cast(pl.Int8)\n",
    ")\n",
    "articles.head(2)"
   ]
  },
  {
   "cell_type": "code",
   "execution_count": 93,
   "metadata": {},
   "outputs": [
    {
     "data": {
      "text/html": [
       "<div><style>\n",
       ".dataframe > thead > tr,\n",
       ".dataframe > tbody > tr {\n",
       "  text-align: right;\n",
       "  white-space: pre-wrap;\n",
       "}\n",
       "</style>\n",
       "<small>shape: (2, 175)</small><table border=\"1\" class=\"dataframe\"><thead><tr><th>article_id</th><th>subcategory_0</th><th>subcategory_1</th><th>subcategory_10</th><th>subcategory_100</th><th>subcategory_101</th><th>subcategory_102</th><th>subcategory_103</th><th>subcategory_104</th><th>subcategory_105</th><th>subcategory_106</th><th>subcategory_107</th><th>subcategory_108</th><th>subcategory_109</th><th>subcategory_11</th><th>subcategory_110</th><th>subcategory_111</th><th>subcategory_112</th><th>subcategory_113</th><th>subcategory_114</th><th>subcategory_115</th><th>subcategory_116</th><th>subcategory_117</th><th>subcategory_118</th><th>subcategory_119</th><th>subcategory_12</th><th>subcategory_120</th><th>subcategory_121</th><th>subcategory_122</th><th>subcategory_123</th><th>subcategory_124</th><th>subcategory_125</th><th>subcategory_126</th><th>subcategory_127</th><th>subcategory_128</th><th>subcategory_129</th><th>subcategory_13</th><th>&hellip;</th><th>subcategory_66</th><th>subcategory_67</th><th>subcategory_68</th><th>subcategory_69</th><th>subcategory_7</th><th>subcategory_70</th><th>subcategory_71</th><th>subcategory_72</th><th>subcategory_73</th><th>subcategory_74</th><th>subcategory_75</th><th>subcategory_76</th><th>subcategory_77</th><th>subcategory_78</th><th>subcategory_79</th><th>subcategory_8</th><th>subcategory_80</th><th>subcategory_81</th><th>subcategory_82</th><th>subcategory_83</th><th>subcategory_84</th><th>subcategory_85</th><th>subcategory_86</th><th>subcategory_87</th><th>subcategory_88</th><th>subcategory_89</th><th>subcategory_9</th><th>subcategory_90</th><th>subcategory_91</th><th>subcategory_92</th><th>subcategory_93</th><th>subcategory_94</th><th>subcategory_95</th><th>subcategory_96</th><th>subcategory_97</th><th>subcategory_98</th><th>subcategory_99</th></tr><tr><td>i32</td><td>i64</td><td>i64</td><td>i64</td><td>i64</td><td>i64</td><td>i64</td><td>i64</td><td>i64</td><td>i64</td><td>i64</td><td>i64</td><td>i64</td><td>i64</td><td>i64</td><td>i64</td><td>i64</td><td>i64</td><td>i64</td><td>i64</td><td>i64</td><td>i64</td><td>i64</td><td>i64</td><td>i64</td><td>i64</td><td>i64</td><td>i64</td><td>i64</td><td>i64</td><td>i64</td><td>i64</td><td>i64</td><td>i64</td><td>i64</td><td>i64</td><td>i64</td><td>&hellip;</td><td>i64</td><td>i64</td><td>i64</td><td>i64</td><td>i64</td><td>i64</td><td>i64</td><td>i64</td><td>i64</td><td>i64</td><td>i64</td><td>i64</td><td>i64</td><td>i64</td><td>i64</td><td>i64</td><td>i64</td><td>i64</td><td>i64</td><td>i64</td><td>i64</td><td>i64</td><td>i64</td><td>i64</td><td>i64</td><td>i64</td><td>i64</td><td>i64</td><td>i64</td><td>i64</td><td>i64</td><td>i64</td><td>i64</td><td>i64</td><td>i64</td><td>i64</td><td>i64</td></tr></thead><tbody><tr><td>9791280</td><td>0</td><td>0</td><td>0</td><td>0</td><td>0</td><td>0</td><td>0</td><td>0</td><td>0</td><td>0</td><td>0</td><td>0</td><td>0</td><td>0</td><td>0</td><td>0</td><td>0</td><td>0</td><td>0</td><td>0</td><td>0</td><td>0</td><td>0</td><td>0</td><td>0</td><td>0</td><td>0</td><td>0</td><td>0</td><td>0</td><td>0</td><td>0</td><td>0</td><td>0</td><td>0</td><td>0</td><td>&hellip;</td><td>0</td><td>0</td><td>0</td><td>0</td><td>0</td><td>0</td><td>0</td><td>0</td><td>0</td><td>0</td><td>0</td><td>0</td><td>0</td><td>0</td><td>0</td><td>0</td><td>0</td><td>0</td><td>1</td><td>0</td><td>0</td><td>0</td><td>0</td><td>0</td><td>0</td><td>0</td><td>0</td><td>0</td><td>0</td><td>0</td><td>0</td><td>0</td><td>0</td><td>0</td><td>0</td><td>0</td><td>0</td></tr><tr><td>3236498</td><td>0</td><td>0</td><td>0</td><td>0</td><td>0</td><td>0</td><td>0</td><td>0</td><td>0</td><td>0</td><td>0</td><td>0</td><td>0</td><td>0</td><td>0</td><td>0</td><td>0</td><td>0</td><td>0</td><td>0</td><td>0</td><td>0</td><td>0</td><td>0</td><td>0</td><td>0</td><td>0</td><td>0</td><td>0</td><td>0</td><td>0</td><td>0</td><td>0</td><td>0</td><td>0</td><td>0</td><td>&hellip;</td><td>0</td><td>0</td><td>0</td><td>0</td><td>0</td><td>0</td><td>0</td><td>0</td><td>0</td><td>0</td><td>0</td><td>0</td><td>0</td><td>0</td><td>0</td><td>1</td><td>0</td><td>0</td><td>0</td><td>0</td><td>0</td><td>0</td><td>0</td><td>0</td><td>0</td><td>0</td><td>0</td><td>0</td><td>0</td><td>0</td><td>0</td><td>0</td><td>0</td><td>0</td><td>0</td><td>0</td><td>0</td></tr></tbody></table></div>"
      ],
      "text/plain": [
       "shape: (2, 175)\n",
       "┌───────────┬───────────┬───────────┬───────────┬───┬───────────┬───────────┬───────────┬──────────┐\n",
       "│ article_i ┆ subcatego ┆ subcatego ┆ subcatego ┆ … ┆ subcatego ┆ subcatego ┆ subcatego ┆ subcateg │\n",
       "│ d         ┆ ry_0      ┆ ry_1      ┆ ry_10     ┆   ┆ ry_96     ┆ ry_97     ┆ ry_98     ┆ ory_99   │\n",
       "│ ---       ┆ ---       ┆ ---       ┆ ---       ┆   ┆ ---       ┆ ---       ┆ ---       ┆ ---      │\n",
       "│ i32       ┆ i64       ┆ i64       ┆ i64       ┆   ┆ i64       ┆ i64       ┆ i64       ┆ i64      │\n",
       "╞═══════════╪═══════════╪═══════════╪═══════════╪═══╪═══════════╪═══════════╪═══════════╪══════════╡\n",
       "│ 9791280   ┆ 0         ┆ 0         ┆ 0         ┆ … ┆ 0         ┆ 0         ┆ 0         ┆ 0        │\n",
       "│ 3236498   ┆ 0         ┆ 0         ┆ 0         ┆ … ┆ 0         ┆ 0         ┆ 0         ┆ 0        │\n",
       "└───────────┴───────────┴───────────┴───────────┴───┴───────────┴───────────┴───────────┴──────────┘"
      ]
     },
     "execution_count": 93,
     "metadata": {},
     "output_type": "execute_result"
    }
   ],
   "source": [
    "dummies_topics = articles.select('article_id', 'topics').explode('topics').drop_nulls().to_dummies(columns=['topics'])\\\n",
    "    .group_by('article_id').agg(pl.all().sum())\n",
    "dummies_subcategories = articles.select('article_id', 'subcategory').explode('subcategory').drop_nulls().to_dummies(columns=['subcategory'])\\\n",
    "    .group_by('article_id').agg(pl.all().sum())\n",
    "    \n",
    "dummies_subcategories.head(2)"
   ]
  },
  {
   "cell_type": "code",
   "execution_count": 94,
   "metadata": {},
   "outputs": [
    {
     "name": "stdout",
     "output_type": "stream",
     "text": [
      "Memory usage of dataframe is 40.75 MB\n",
      "Memory usage after optimization is: 5.75 MB\n",
      "Decreased by 85.9%\n"
     ]
    },
    {
     "data": {
      "text/html": [
       "<div><style>\n",
       ".dataframe > thead > tr,\n",
       ".dataframe > tbody > tr {\n",
       "  text-align: right;\n",
       "  white-space: pre-wrap;\n",
       "}\n",
       "</style>\n",
       "<small>shape: (2, 256)</small><table border=\"1\" class=\"dataframe\"><thead><tr><th>article_id</th><th>category</th><th>premium</th><th>sentiment_label</th><th>topics_0</th><th>topics_1</th><th>topics_10</th><th>topics_11</th><th>topics_12</th><th>topics_13</th><th>topics_14</th><th>topics_15</th><th>topics_16</th><th>topics_17</th><th>topics_18</th><th>topics_19</th><th>topics_2</th><th>topics_20</th><th>topics_21</th><th>topics_22</th><th>topics_23</th><th>topics_24</th><th>topics_25</th><th>topics_26</th><th>topics_27</th><th>topics_28</th><th>topics_29</th><th>topics_3</th><th>topics_30</th><th>topics_31</th><th>topics_32</th><th>topics_33</th><th>topics_34</th><th>topics_35</th><th>topics_36</th><th>topics_37</th><th>topics_38</th><th>&hellip;</th><th>subcategory_66</th><th>subcategory_67</th><th>subcategory_68</th><th>subcategory_69</th><th>subcategory_7</th><th>subcategory_70</th><th>subcategory_71</th><th>subcategory_72</th><th>subcategory_73</th><th>subcategory_74</th><th>subcategory_75</th><th>subcategory_76</th><th>subcategory_77</th><th>subcategory_78</th><th>subcategory_79</th><th>subcategory_8</th><th>subcategory_80</th><th>subcategory_81</th><th>subcategory_82</th><th>subcategory_83</th><th>subcategory_84</th><th>subcategory_85</th><th>subcategory_86</th><th>subcategory_87</th><th>subcategory_88</th><th>subcategory_89</th><th>subcategory_9</th><th>subcategory_90</th><th>subcategory_91</th><th>subcategory_92</th><th>subcategory_93</th><th>subcategory_94</th><th>subcategory_95</th><th>subcategory_96</th><th>subcategory_97</th><th>subcategory_98</th><th>subcategory_99</th></tr><tr><td>i32</td><td>i8</td><td>i8</td><td>i8</td><td>i8</td><td>i8</td><td>i8</td><td>i8</td><td>i8</td><td>i8</td><td>i8</td><td>i8</td><td>i8</td><td>i8</td><td>i8</td><td>i8</td><td>i8</td><td>i8</td><td>i8</td><td>i8</td><td>i8</td><td>i8</td><td>i8</td><td>i8</td><td>i8</td><td>i8</td><td>i8</td><td>i8</td><td>i8</td><td>i8</td><td>i8</td><td>i8</td><td>i8</td><td>i8</td><td>i8</td><td>i8</td><td>i8</td><td>&hellip;</td><td>i8</td><td>i8</td><td>i8</td><td>i8</td><td>i8</td><td>i8</td><td>i8</td><td>i8</td><td>i8</td><td>i8</td><td>i8</td><td>i8</td><td>i8</td><td>i8</td><td>i8</td><td>i8</td><td>i8</td><td>i8</td><td>i8</td><td>i8</td><td>i8</td><td>i8</td><td>i8</td><td>i8</td><td>i8</td><td>i8</td><td>i8</td><td>i8</td><td>i8</td><td>i8</td><td>i8</td><td>i8</td><td>i8</td><td>i8</td><td>i8</td><td>i8</td><td>i8</td></tr></thead><tbody><tr><td>3001353</td><td>5</td><td>0</td><td>1</td><td>0</td><td>0</td><td>0</td><td>0</td><td>0</td><td>0</td><td>0</td><td>0</td><td>0</td><td>0</td><td>0</td><td>0</td><td>0</td><td>0</td><td>0</td><td>0</td><td>0</td><td>0</td><td>1</td><td>0</td><td>0</td><td>0</td><td>0</td><td>0</td><td>0</td><td>0</td><td>0</td><td>0</td><td>0</td><td>0</td><td>0</td><td>0</td><td>0</td><td>&hellip;</td><td>0</td><td>0</td><td>0</td><td>0</td><td>0</td><td>0</td><td>0</td><td>0</td><td>0</td><td>0</td><td>0</td><td>0</td><td>0</td><td>0</td><td>0</td><td>0</td><td>0</td><td>0</td><td>0</td><td>0</td><td>0</td><td>0</td><td>0</td><td>0</td><td>0</td><td>0</td><td>0</td><td>0</td><td>0</td><td>0</td><td>0</td><td>0</td><td>0</td><td>0</td><td>0</td><td>0</td><td>0</td></tr><tr><td>3003065</td><td>7</td><td>0</td><td>3</td><td>0</td><td>0</td><td>0</td><td>0</td><td>0</td><td>1</td><td>0</td><td>0</td><td>0</td><td>0</td><td>0</td><td>0</td><td>0</td><td>0</td><td>0</td><td>0</td><td>0</td><td>0</td><td>0</td><td>0</td><td>0</td><td>0</td><td>0</td><td>0</td><td>0</td><td>0</td><td>0</td><td>0</td><td>0</td><td>0</td><td>0</td><td>0</td><td>0</td><td>&hellip;</td><td>0</td><td>0</td><td>0</td><td>0</td><td>0</td><td>0</td><td>0</td><td>0</td><td>0</td><td>0</td><td>0</td><td>0</td><td>0</td><td>0</td><td>0</td><td>0</td><td>0</td><td>0</td><td>0</td><td>0</td><td>0</td><td>0</td><td>0</td><td>1</td><td>1</td><td>0</td><td>0</td><td>0</td><td>0</td><td>0</td><td>0</td><td>0</td><td>0</td><td>0</td><td>0</td><td>0</td><td>0</td></tr></tbody></table></div>"
      ],
      "text/plain": [
       "shape: (2, 256)\n",
       "┌────────────┬──────────┬─────────┬────────────┬───┬───────────┬───────────┬───────────┬───────────┐\n",
       "│ article_id ┆ category ┆ premium ┆ sentiment_ ┆ … ┆ subcatego ┆ subcatego ┆ subcatego ┆ subcatego │\n",
       "│ ---        ┆ ---      ┆ ---     ┆ label      ┆   ┆ ry_96     ┆ ry_97     ┆ ry_98     ┆ ry_99     │\n",
       "│ i32        ┆ i8       ┆ i8      ┆ ---        ┆   ┆ ---       ┆ ---       ┆ ---       ┆ ---       │\n",
       "│            ┆          ┆         ┆ i8         ┆   ┆ i8        ┆ i8        ┆ i8        ┆ i8        │\n",
       "╞════════════╪══════════╪═════════╪════════════╪═══╪═══════════╪═══════════╪═══════════╪═══════════╡\n",
       "│ 3001353    ┆ 5        ┆ 0       ┆ 1          ┆ … ┆ 0         ┆ 0         ┆ 0         ┆ 0         │\n",
       "│ 3003065    ┆ 7        ┆ 0       ┆ 3          ┆ … ┆ 0         ┆ 0         ┆ 0         ┆ 0         │\n",
       "└────────────┴──────────┴─────────┴────────────┴───┴───────────┴───────────┴───────────┴───────────┘"
      ]
     },
     "execution_count": 94,
     "metadata": {},
     "output_type": "execute_result"
    }
   ],
   "source": [
    "from polimi.utils._polars import reduce_polars_df_memory_size\n",
    "\n",
    "articles = articles.join(dummies_topics, on='article_id', how='left')\\\n",
    "    .join(dummies_subcategories, on='article_id', how='left')\\\n",
    "    .drop('topics', 'subcategory')\n",
    "articles = reduce_polars_df_memory_size(articles)\n",
    "\n",
    "one_hot_cols = [col for col in articles.columns if col.startswith('topics_') or col.startswith('subcategory_')]\n",
    "articles = articles.with_columns(\n",
    "    pl.col(one_hot_cols).fill_null(0)\n",
    ")\n",
    "\n",
    "articles.head(2)"
   ]
  },
  {
   "cell_type": "code",
   "execution_count": 95,
   "metadata": {},
   "outputs": [
    {
     "data": {
      "text/html": [
       "<div><style>\n",
       ".dataframe > thead > tr,\n",
       ".dataframe > tbody > tr {\n",
       "  text-align: right;\n",
       "  white-space: pre-wrap;\n",
       "}\n",
       "</style>\n",
       "<small>shape: (3, 260)</small><table border=\"1\" class=\"dataframe\"><thead><tr><th>user_id</th><th>scroll_percentage</th><th>read_time</th><th>hour_group</th><th>weekday</th><th>category</th><th>premium</th><th>sentiment_label</th><th>topics_0</th><th>topics_1</th><th>topics_10</th><th>topics_11</th><th>topics_12</th><th>topics_13</th><th>topics_14</th><th>topics_15</th><th>topics_16</th><th>topics_17</th><th>topics_18</th><th>topics_19</th><th>topics_2</th><th>topics_20</th><th>topics_21</th><th>topics_22</th><th>topics_23</th><th>topics_24</th><th>topics_25</th><th>topics_26</th><th>topics_27</th><th>topics_28</th><th>topics_29</th><th>topics_3</th><th>topics_30</th><th>topics_31</th><th>topics_32</th><th>topics_33</th><th>topics_34</th><th>&hellip;</th><th>subcategory_66</th><th>subcategory_67</th><th>subcategory_68</th><th>subcategory_69</th><th>subcategory_7</th><th>subcategory_70</th><th>subcategory_71</th><th>subcategory_72</th><th>subcategory_73</th><th>subcategory_74</th><th>subcategory_75</th><th>subcategory_76</th><th>subcategory_77</th><th>subcategory_78</th><th>subcategory_79</th><th>subcategory_8</th><th>subcategory_80</th><th>subcategory_81</th><th>subcategory_82</th><th>subcategory_83</th><th>subcategory_84</th><th>subcategory_85</th><th>subcategory_86</th><th>subcategory_87</th><th>subcategory_88</th><th>subcategory_89</th><th>subcategory_9</th><th>subcategory_90</th><th>subcategory_91</th><th>subcategory_92</th><th>subcategory_93</th><th>subcategory_94</th><th>subcategory_95</th><th>subcategory_96</th><th>subcategory_97</th><th>subcategory_98</th><th>subcategory_99</th></tr><tr><td>u32</td><td>list[f32]</td><td>list[f32]</td><td>list[i8]</td><td>list[i8]</td><td>list[i8]</td><td>list[i8]</td><td>list[i8]</td><td>list[i8]</td><td>list[i8]</td><td>list[i8]</td><td>list[i8]</td><td>list[i8]</td><td>list[i8]</td><td>list[i8]</td><td>list[i8]</td><td>list[i8]</td><td>list[i8]</td><td>list[i8]</td><td>list[i8]</td><td>list[i8]</td><td>list[i8]</td><td>list[i8]</td><td>list[i8]</td><td>list[i8]</td><td>list[i8]</td><td>list[i8]</td><td>list[i8]</td><td>list[i8]</td><td>list[i8]</td><td>list[i8]</td><td>list[i8]</td><td>list[i8]</td><td>list[i8]</td><td>list[i8]</td><td>list[i8]</td><td>list[i8]</td><td>&hellip;</td><td>list[i8]</td><td>list[i8]</td><td>list[i8]</td><td>list[i8]</td><td>list[i8]</td><td>list[i8]</td><td>list[i8]</td><td>list[i8]</td><td>list[i8]</td><td>list[i8]</td><td>list[i8]</td><td>list[i8]</td><td>list[i8]</td><td>list[i8]</td><td>list[i8]</td><td>list[i8]</td><td>list[i8]</td><td>list[i8]</td><td>list[i8]</td><td>list[i8]</td><td>list[i8]</td><td>list[i8]</td><td>list[i8]</td><td>list[i8]</td><td>list[i8]</td><td>list[i8]</td><td>list[i8]</td><td>list[i8]</td><td>list[i8]</td><td>list[i8]</td><td>list[i8]</td><td>list[i8]</td><td>list[i8]</td><td>list[i8]</td><td>list[i8]</td><td>list[i8]</td><td>list[i8]</td></tr></thead><tbody><tr><td>2053634</td><td>[100.0, 0.0, … 0.0]</td><td>[16.0, 0.0, … 0.0]</td><td>[4, 4, … 5]</td><td>[4, 4, … 3]</td><td>[4, 5, … 4]</td><td>[0, 0, … 0]</td><td>[2, 1, … 1]</td><td>[0, 0, … 0]</td><td>[0, 0, … 0]</td><td>[0, 0, … 1]</td><td>[0, 0, … 0]</td><td>[0, 0, … 0]</td><td>[0, 0, … 0]</td><td>[0, 0, … 0]</td><td>[0, 0, … 0]</td><td>[0, 0, … 0]</td><td>[0, 0, … 0]</td><td>[0, 0, … 0]</td><td>[0, 0, … 0]</td><td>[0, 0, … 0]</td><td>[0, 0, … 0]</td><td>[0, 0, … 0]</td><td>[0, 0, … 0]</td><td>[0, 0, … 0]</td><td>[0, 0, … 0]</td><td>[0, 1, … 1]</td><td>[0, 0, … 0]</td><td>[0, 0, … 0]</td><td>[0, 0, … 0]</td><td>[0, 0, … 0]</td><td>[0, 0, … 0]</td><td>[0, 0, … 0]</td><td>[0, 0, … 0]</td><td>[0, 0, … 0]</td><td>[0, 0, … 0]</td><td>[1, 0, … 0]</td><td>&hellip;</td><td>[0, 0, … 0]</td><td>[0, 0, … 0]</td><td>[0, 0, … 0]</td><td>[0, 0, … 0]</td><td>[0, 0, … 0]</td><td>[0, 0, … 0]</td><td>[0, 0, … 0]</td><td>[0, 0, … 0]</td><td>[0, 0, … 0]</td><td>[0, 0, … 0]</td><td>[0, 0, … 0]</td><td>[0, 0, … 0]</td><td>[0, 0, … 0]</td><td>[0, 0, … 0]</td><td>[0, 0, … 0]</td><td>[0, 0, … 1]</td><td>[0, 0, … 0]</td><td>[0, 0, … 0]</td><td>[0, 0, … 0]</td><td>[0, 0, … 0]</td><td>[0, 0, … 0]</td><td>[0, 0, … 0]</td><td>[0, 0, … 0]</td><td>[0, 0, … 0]</td><td>[0, 0, … 0]</td><td>[0, 0, … 0]</td><td>[0, 0, … 0]</td><td>[0, 0, … 0]</td><td>[0, 0, … 0]</td><td>[0, 0, … 0]</td><td>[0, 0, … 0]</td><td>[0, 0, … 0]</td><td>[0, 0, … 0]</td><td>[0, 0, … 0]</td><td>[0, 0, … 0]</td><td>[0, 0, … 0]</td><td>[0, 0, … 0]</td></tr><tr><td>1899092</td><td>[100.0, 69.0, … 60.0]</td><td>[71.0, 18.0, … 8.0]</td><td>[3, 3, … 1]</td><td>[4, 4, … 4]</td><td>[5, 4, … 4]</td><td>[0, 0, … 0]</td><td>[1, 2, … 3]</td><td>[0, 0, … 0]</td><td>[0, 0, … 0]</td><td>[0, 0, … 0]</td><td>[0, 0, … 0]</td><td>[0, 0, … 0]</td><td>[0, 0, … 0]</td><td>[0, 0, … 0]</td><td>[0, 0, … 0]</td><td>[0, 0, … 0]</td><td>[0, 0, … 0]</td><td>[0, 0, … 0]</td><td>[0, 0, … 1]</td><td>[0, 0, … 0]</td><td>[1, 0, … 0]</td><td>[0, 0, … 0]</td><td>[0, 0, … 0]</td><td>[0, 0, … 0]</td><td>[0, 0, … 0]</td><td>[1, 0, … 0]</td><td>[0, 0, … 0]</td><td>[0, 0, … 0]</td><td>[0, 0, … 0]</td><td>[0, 0, … 0]</td><td>[0, 0, … 0]</td><td>[0, 0, … 0]</td><td>[0, 0, … 0]</td><td>[0, 0, … 0]</td><td>[0, 0, … 0]</td><td>[0, 1, … 0]</td><td>&hellip;</td><td>[0, 0, … 0]</td><td>[0, 0, … 0]</td><td>[0, 0, … 0]</td><td>[0, 0, … 0]</td><td>[0, 0, … 0]</td><td>[0, 0, … 0]</td><td>[0, 0, … 0]</td><td>[0, 0, … 0]</td><td>[0, 0, … 0]</td><td>[0, 0, … 0]</td><td>[0, 0, … 0]</td><td>[0, 0, … 0]</td><td>[0, 0, … 0]</td><td>[0, 0, … 0]</td><td>[0, 0, … 0]</td><td>[0, 1, … 0]</td><td>[0, 0, … 0]</td><td>[0, 0, … 0]</td><td>[0, 0, … 0]</td><td>[0, 0, … 0]</td><td>[0, 0, … 0]</td><td>[0, 0, … 0]</td><td>[0, 0, … 0]</td><td>[0, 0, … 0]</td><td>[0, 0, … 0]</td><td>[0, 0, … 0]</td><td>[0, 0, … 0]</td><td>[0, 0, … 0]</td><td>[0, 0, … 0]</td><td>[0, 0, … 0]</td><td>[0, 0, … 0]</td><td>[0, 0, … 0]</td><td>[0, 0, … 0]</td><td>[0, 0, … 0]</td><td>[0, 0, … 0]</td><td>[0, 0, … 0]</td><td>[0, 0, … 0]</td></tr><tr><td>1586072</td><td>[100.0, 0.0, … 39.0]</td><td>[90.0, 1.0, … 86.0]</td><td>[4, 5, … 1]</td><td>[4, 4, … 4]</td><td>[4, 4, … 7]</td><td>[0, 0, … 0]</td><td>[2, 1, … 2]</td><td>[0, 1, … 0]</td><td>[0, 0, … 0]</td><td>[0, 1, … 0]</td><td>[0, 0, … 0]</td><td>[0, 0, … 0]</td><td>[0, 0, … 0]</td><td>[0, 0, … 0]</td><td>[0, 0, … 0]</td><td>[0, 0, … 0]</td><td>[0, 0, … 0]</td><td>[0, 0, … 0]</td><td>[0, 0, … 0]</td><td>[0, 0, … 0]</td><td>[0, 0, … 0]</td><td>[0, 0, … 0]</td><td>[0, 0, … 0]</td><td>[0, 0, … 0]</td><td>[0, 0, … 0]</td><td>[0, 1, … 0]</td><td>[0, 0, … 0]</td><td>[0, 0, … 1]</td><td>[0, 0, … 1]</td><td>[0, 0, … 0]</td><td>[0, 0, … 0]</td><td>[0, 0, … 1]</td><td>[0, 0, … 0]</td><td>[0, 0, … 0]</td><td>[0, 0, … 0]</td><td>[1, 0, … 0]</td><td>&hellip;</td><td>[0, 0, … 0]</td><td>[0, 0, … 0]</td><td>[0, 0, … 0]</td><td>[0, 0, … 0]</td><td>[0, 0, … 0]</td><td>[0, 0, … 0]</td><td>[0, 0, … 0]</td><td>[0, 0, … 0]</td><td>[0, 0, … 0]</td><td>[0, 0, … 0]</td><td>[0, 0, … 0]</td><td>[0, 0, … 0]</td><td>[0, 0, … 0]</td><td>[0, 0, … 0]</td><td>[0, 0, … 0]</td><td>[1, 1, … 0]</td><td>[0, 0, … 0]</td><td>[0, 0, … 0]</td><td>[0, 0, … 1]</td><td>[0, 0, … 0]</td><td>[0, 0, … 0]</td><td>[0, 0, … 0]</td><td>[0, 0, … 0]</td><td>[0, 0, … 0]</td><td>[0, 0, … 0]</td><td>[0, 0, … 0]</td><td>[0, 0, … 0]</td><td>[0, 0, … 0]</td><td>[0, 0, … 0]</td><td>[0, 0, … 0]</td><td>[0, 0, … 0]</td><td>[0, 0, … 0]</td><td>[0, 0, … 0]</td><td>[0, 0, … 0]</td><td>[0, 0, … 0]</td><td>[0, 0, … 0]</td><td>[0, 0, … 0]</td></tr></tbody></table></div>"
      ],
      "text/plain": [
       "shape: (3, 260)\n",
       "┌─────────┬────────────┬───────────┬───────────┬───┬───────────┬───────────┬───────────┬───────────┐\n",
       "│ user_id ┆ scroll_per ┆ read_time ┆ hour_grou ┆ … ┆ subcatego ┆ subcatego ┆ subcatego ┆ subcatego │\n",
       "│ ---     ┆ centage    ┆ ---       ┆ p         ┆   ┆ ry_96     ┆ ry_97     ┆ ry_98     ┆ ry_99     │\n",
       "│ u32     ┆ ---        ┆ list[f32] ┆ ---       ┆   ┆ ---       ┆ ---       ┆ ---       ┆ ---       │\n",
       "│         ┆ list[f32]  ┆           ┆ list[i8]  ┆   ┆ list[i8]  ┆ list[i8]  ┆ list[i8]  ┆ list[i8]  │\n",
       "╞═════════╪════════════╪═══════════╪═══════════╪═══╪═══════════╪═══════════╪═══════════╪═══════════╡\n",
       "│ 2053634 ┆ [100.0,    ┆ [16.0,    ┆ [4, 4, …  ┆ … ┆ [0, 0, …  ┆ [0, 0, …  ┆ [0, 0, …  ┆ [0, 0, …  │\n",
       "│         ┆ 0.0, …     ┆ 0.0, …    ┆ 5]        ┆   ┆ 0]        ┆ 0]        ┆ 0]        ┆ 0]        │\n",
       "│         ┆ 0.0]       ┆ 0.0]      ┆           ┆   ┆           ┆           ┆           ┆           │\n",
       "│ 1899092 ┆ [100.0,    ┆ [71.0,    ┆ [3, 3, …  ┆ … ┆ [0, 0, …  ┆ [0, 0, …  ┆ [0, 0, …  ┆ [0, 0, …  │\n",
       "│         ┆ 69.0, …    ┆ 18.0, …   ┆ 1]        ┆   ┆ 0]        ┆ 0]        ┆ 0]        ┆ 0]        │\n",
       "│         ┆ 60.0]      ┆ 8.0]      ┆           ┆   ┆           ┆           ┆           ┆           │\n",
       "│ 1586072 ┆ [100.0,    ┆ [90.0,    ┆ [4, 5, …  ┆ … ┆ [0, 0, …  ┆ [0, 0, …  ┆ [0, 0, …  ┆ [0, 0, …  │\n",
       "│         ┆ 0.0, …     ┆ 1.0, …    ┆ 1]        ┆   ┆ 0]        ┆ 0]        ┆ 0]        ┆ 0]        │\n",
       "│         ┆ 39.0]      ┆ 86.0]     ┆           ┆   ┆           ┆           ┆           ┆           │\n",
       "└─────────┴────────────┴───────────┴───────────┴───┴───────────┴───────────┴───────────┴───────────┘"
      ]
     },
     "execution_count": 95,
     "metadata": {},
     "output_type": "execute_result"
    }
   ],
   "source": [
    "df = pl.concat([\n",
    "    slice.explode(pl.all().exclude('user_id'))\\\n",
    "        .with_columns(\n",
    "            pl.col('scroll_percentage_fixed').fill_null(0.),\n",
    "            pl.col('read_time_fixed').fill_null(0.),\n",
    "        )\\\n",
    "        .with_columns(\n",
    "            (pl.col('impression_time_fixed').dt.hour() // 4).alias('hour_group'),\n",
    "            pl.col('impression_time_fixed').dt.weekday().alias('weekday'),\n",
    "        ).drop('impression_time_fixed')\\\n",
    "        .rename({'scroll_percentage_fixed': 'scroll_percentage', 'read_time_fixed': 'read_time'})\n",
    "        .join(articles, left_on='article_id_fixed', right_on='article_id', how='left').drop('article_id_fixed')\\\n",
    "        .group_by('user_id').agg(pl.all())\n",
    "    for slice in history.iter_slices(10000)\n",
    "])\n",
    "\n",
    "df.head(3)"
   ]
  },
  {
   "cell_type": "code",
   "execution_count": 96,
   "metadata": {},
   "outputs": [
    {
     "data": {
      "text/html": [
       "<div><style>\n",
       ".dataframe > thead > tr,\n",
       ".dataframe > tbody > tr {\n",
       "  text-align: right;\n",
       "  white-space: pre-wrap;\n",
       "}\n",
       "</style>\n",
       "<small>shape: (1, 260)</small><table border=\"1\" class=\"dataframe\"><thead><tr><th>user_id</th><th>sentiment_label</th><th>category</th><th>premium</th><th>read_time</th><th>scroll_percentage</th><th>hour_group</th><th>weekday</th><th>topics_0</th><th>topics_1</th><th>topics_2</th><th>topics_3</th><th>topics_4</th><th>topics_5</th><th>topics_6</th><th>topics_7</th><th>topics_8</th><th>topics_9</th><th>topics_10</th><th>topics_11</th><th>topics_12</th><th>topics_13</th><th>topics_14</th><th>topics_15</th><th>topics_16</th><th>topics_17</th><th>topics_18</th><th>topics_19</th><th>topics_20</th><th>topics_21</th><th>topics_22</th><th>topics_23</th><th>topics_24</th><th>topics_25</th><th>topics_26</th><th>topics_27</th><th>topics_28</th><th>&hellip;</th><th>subcategory_137</th><th>subcategory_138</th><th>subcategory_139</th><th>subcategory_140</th><th>subcategory_141</th><th>subcategory_142</th><th>subcategory_143</th><th>subcategory_144</th><th>subcategory_145</th><th>subcategory_146</th><th>subcategory_147</th><th>subcategory_148</th><th>subcategory_149</th><th>subcategory_150</th><th>subcategory_151</th><th>subcategory_152</th><th>subcategory_153</th><th>subcategory_154</th><th>subcategory_155</th><th>subcategory_156</th><th>subcategory_157</th><th>subcategory_158</th><th>subcategory_159</th><th>subcategory_160</th><th>subcategory_161</th><th>subcategory_162</th><th>subcategory_163</th><th>subcategory_164</th><th>subcategory_165</th><th>subcategory_166</th><th>subcategory_167</th><th>subcategory_168</th><th>subcategory_169</th><th>subcategory_170</th><th>subcategory_171</th><th>subcategory_172</th><th>subcategory_173</th></tr><tr><td>u32</td><td>list[i8]</td><td>list[i8]</td><td>list[i8]</td><td>list[f32]</td><td>list[f32]</td><td>list[i8]</td><td>list[i8]</td><td>list[i8]</td><td>list[i8]</td><td>list[i8]</td><td>list[i8]</td><td>list[i8]</td><td>list[i8]</td><td>list[i8]</td><td>list[i8]</td><td>list[i8]</td><td>list[i8]</td><td>list[i8]</td><td>list[i8]</td><td>list[i8]</td><td>list[i8]</td><td>list[i8]</td><td>list[i8]</td><td>list[i8]</td><td>list[i8]</td><td>list[i8]</td><td>list[i8]</td><td>list[i8]</td><td>list[i8]</td><td>list[i8]</td><td>list[i8]</td><td>list[i8]</td><td>list[i8]</td><td>list[i8]</td><td>list[i8]</td><td>list[i8]</td><td>&hellip;</td><td>list[i8]</td><td>list[i8]</td><td>list[i8]</td><td>list[i8]</td><td>list[i8]</td><td>list[i8]</td><td>list[i8]</td><td>list[i8]</td><td>list[i8]</td><td>list[i8]</td><td>list[i8]</td><td>list[i8]</td><td>list[i8]</td><td>list[i8]</td><td>list[i8]</td><td>list[i8]</td><td>list[i8]</td><td>list[i8]</td><td>list[i8]</td><td>list[i8]</td><td>list[i8]</td><td>list[i8]</td><td>list[i8]</td><td>list[i8]</td><td>list[i8]</td><td>list[i8]</td><td>list[i8]</td><td>list[i8]</td><td>list[i8]</td><td>list[i8]</td><td>list[i8]</td><td>list[i8]</td><td>list[i8]</td><td>list[i8]</td><td>list[i8]</td><td>list[i8]</td><td>list[i8]</td></tr></thead><tbody><tr><td>2053634</td><td>[2, 1, … 1]</td><td>[4, 5, … 4]</td><td>[0, 0, … 0]</td><td>[16.0, 0.0, … 0.0]</td><td>[100.0, 0.0, … 0.0]</td><td>[4, 4, … 5]</td><td>[4, 4, … 3]</td><td>[0, 0, … 0]</td><td>[0, 0, … 0]</td><td>[0, 0, … 0]</td><td>[0, 0, … 0]</td><td>[0, 0, … 0]</td><td>[0, 0, … 0]</td><td>[0, 0, … 0]</td><td>[0, 0, … 0]</td><td>[0, 0, … 0]</td><td>[0, 0, … 0]</td><td>[0, 0, … 1]</td><td>[0, 0, … 0]</td><td>[0, 0, … 0]</td><td>[0, 0, … 0]</td><td>[0, 0, … 0]</td><td>[0, 0, … 0]</td><td>[0, 0, … 0]</td><td>[0, 0, … 0]</td><td>[0, 0, … 0]</td><td>[0, 0, … 0]</td><td>[0, 0, … 0]</td><td>[0, 0, … 0]</td><td>[0, 0, … 0]</td><td>[0, 0, … 0]</td><td>[0, 0, … 0]</td><td>[0, 1, … 1]</td><td>[0, 0, … 0]</td><td>[0, 0, … 0]</td><td>[0, 0, … 0]</td><td>&hellip;</td><td>[0, 0, … 0]</td><td>[0, 0, … 0]</td><td>[0, 0, … 0]</td><td>[0, 0, … 0]</td><td>[0, 0, … 0]</td><td>[0, 0, … 0]</td><td>[0, 0, … 0]</td><td>[0, 0, … 0]</td><td>[0, 0, … 0]</td><td>[0, 0, … 0]</td><td>[0, 0, … 0]</td><td>[0, 0, … 0]</td><td>[0, 0, … 0]</td><td>[0, 0, … 0]</td><td>[0, 0, … 0]</td><td>[0, 0, … 0]</td><td>[0, 0, … 0]</td><td>[0, 0, … 0]</td><td>[0, 0, … 0]</td><td>[0, 0, … 0]</td><td>[0, 0, … 0]</td><td>[0, 0, … 0]</td><td>[0, 0, … 0]</td><td>[0, 0, … 0]</td><td>[0, 0, … 0]</td><td>[0, 0, … 0]</td><td>[0, 0, … 0]</td><td>[0, 0, … 0]</td><td>[0, 0, … 0]</td><td>[0, 0, … 0]</td><td>[0, 0, … 0]</td><td>[0, 0, … 0]</td><td>[0, 0, … 0]</td><td>[0, 0, … 0]</td><td>[0, 0, … 0]</td><td>[0, 0, … 0]</td><td>[0, 0, … 0]</td></tr></tbody></table></div>"
      ],
      "text/plain": [
       "shape: (1, 260)\n",
       "┌─────────┬────────────┬───────────┬───────────┬───┬───────────┬───────────┬───────────┬───────────┐\n",
       "│ user_id ┆ sentiment_ ┆ category  ┆ premium   ┆ … ┆ subcatego ┆ subcatego ┆ subcatego ┆ subcatego │\n",
       "│ ---     ┆ label      ┆ ---       ┆ ---       ┆   ┆ ry_170    ┆ ry_171    ┆ ry_172    ┆ ry_173    │\n",
       "│ u32     ┆ ---        ┆ list[i8]  ┆ list[i8]  ┆   ┆ ---       ┆ ---       ┆ ---       ┆ ---       │\n",
       "│         ┆ list[i8]   ┆           ┆           ┆   ┆ list[i8]  ┆ list[i8]  ┆ list[i8]  ┆ list[i8]  │\n",
       "╞═════════╪════════════╪═══════════╪═══════════╪═══╪═══════════╪═══════════╪═══════════╪═══════════╡\n",
       "│ 2053634 ┆ [2, 1, …   ┆ [4, 5, …  ┆ [0, 0, …  ┆ … ┆ [0, 0, …  ┆ [0, 0, …  ┆ [0, 0, …  ┆ [0, 0, …  │\n",
       "│         ┆ 1]         ┆ 4]        ┆ 0]        ┆   ┆ 0]        ┆ 0]        ┆ 0]        ┆ 0]        │\n",
       "└─────────┴────────────┴───────────┴───────────┴───┴───────────┴───────────┴───────────┴───────────┘"
      ]
     },
     "execution_count": 96,
     "metadata": {},
     "output_type": "execute_result"
    }
   ],
   "source": [
    "from polimi.utils._polars import reduce_polars_df_memory_size\n",
    "cols = df.columns\n",
    "topics_cols = sorted([col for col in cols if col.startswith('topics_')], key=lambda x: int(x.split('_')[-1]))\n",
    "subcategory_cols = sorted([col for col in cols if col.startswith('subcategory_')], key=lambda x: int(x.split('_')[-1]))\n",
    "all_others = set(cols) - set(topics_cols) - set(subcategory_cols) - {'user_id'}\n",
    "cols = ['user_id'] + list(all_others) + topics_cols + subcategory_cols\n",
    "df = df.select(cols)\n",
    "df.head(1)"
   ]
  },
  {
   "cell_type": "code",
   "execution_count": 97,
   "metadata": {},
   "outputs": [],
   "source": [
    "from tqdm import tqdm\n",
    "\n",
    "def build_sequences(df: pl.DataFrame, w: int, stride: int):\n",
    "    all_features = df.drop('user_id').columns\n",
    "    singular_cols = ['topics', 'subcategory', 'category', 'weekday', 'hour_group']\n",
    "    name_idx_dict = {key: [i for i, col in enumerate(all_features) if col.startswith(key)] for key in singular_cols}\n",
    "    numerical_cols = ['scroll_percentage', 'read_time', 'premium']\n",
    "    name_idx_dict['numerical'] = [i for i, col in enumerate(all_features) if col in numerical_cols]\n",
    "        \n",
    "    res = {key: ([], []) for key in name_idx_dict.keys()}\n",
    "\n",
    "    for user_df in tqdm(df.partition_by('user_id')):\n",
    "        x = user_df.drop('user_id').to_numpy()[0]\n",
    "        x = np.array([np.array(x_i) for x_i in x])\n",
    "                \n",
    "        i = 0\n",
    "        if i + w >= x.shape[1]:\n",
    "            # in case history is shorter than the window then we pad it and select the last element as target\n",
    "            pad_width = w - x[:, :-1].shape[1]\n",
    "            pad_m = np.zeros((x.shape[0], pad_width))\n",
    "            padded_x = np.concatenate((pad_m, x[:, :-1]), axis=1)\n",
    "            y_i = x[:, -1]\n",
    "            \n",
    "            for key, idx in name_idx_dict.items():\n",
    "                res[key][0].append(padded_x[idx, :].T)\n",
    "                res[key][1].append(y_i[idx].T)\n",
    "            \n",
    "        else:\n",
    "            while i + w < x.shape[1]:\n",
    "                # in case history is larger than the window then we select the window and the target randomly between the next elements\n",
    "                x_i = x[:, i:i+w]\n",
    "                target_random_id = np.random.randint(i+w, x.shape[1])\n",
    "                y_i = x[:, target_random_id]\n",
    "                \n",
    "                for key, idx in name_idx_dict.items():\n",
    "                    res[key][0].append(x_i[idx, :].T)\n",
    "                    res[key][1].append(y_i[idx].T)\n",
    "                \n",
    "                i+=stride\n",
    "                         \n",
    "            #TODO: add padding for the last sequence, if we want to keep it\n",
    "                \n",
    "\n",
    "    for key in res.keys():\n",
    "        res[key] = (np.array(res[key][0]), np.array(res[key][1]))\n",
    "    \n",
    "    return res"
   ]
  },
  {
   "cell_type": "code",
   "execution_count": 98,
   "metadata": {},
   "outputs": [
    {
     "name": "stderr",
     "output_type": "stream",
     "text": [
      "  0%|          | 0/10 [00:00<?, ?it/s]"
     ]
    },
    {
     "name": "stderr",
     "output_type": "stream",
     "text": [
      "100%|██████████| 10/10 [00:00<00:00, 183.11it/s]\n"
     ]
    }
   ],
   "source": [
    "res = build_sequences(df[:10], w=10, stride=5)"
   ]
  },
  {
   "cell_type": "code",
   "execution_count": 99,
   "metadata": {},
   "outputs": [
    {
     "data": {
      "text/html": [
       "<div><style>\n",
       ".dataframe > thead > tr,\n",
       ".dataframe > tbody > tr {\n",
       "  text-align: right;\n",
       "  white-space: pre-wrap;\n",
       "}\n",
       "</style>\n",
       "<small>shape: (2, 260)</small><table border=\"1\" class=\"dataframe\"><thead><tr><th>user_id</th><th>sentiment_label</th><th>category</th><th>premium</th><th>read_time</th><th>scroll_percentage</th><th>hour_group</th><th>weekday</th><th>topics_0</th><th>topics_1</th><th>topics_2</th><th>topics_3</th><th>topics_4</th><th>topics_5</th><th>topics_6</th><th>topics_7</th><th>topics_8</th><th>topics_9</th><th>topics_10</th><th>topics_11</th><th>topics_12</th><th>topics_13</th><th>topics_14</th><th>topics_15</th><th>topics_16</th><th>topics_17</th><th>topics_18</th><th>topics_19</th><th>topics_20</th><th>topics_21</th><th>topics_22</th><th>topics_23</th><th>topics_24</th><th>topics_25</th><th>topics_26</th><th>topics_27</th><th>topics_28</th><th>&hellip;</th><th>subcategory_137</th><th>subcategory_138</th><th>subcategory_139</th><th>subcategory_140</th><th>subcategory_141</th><th>subcategory_142</th><th>subcategory_143</th><th>subcategory_144</th><th>subcategory_145</th><th>subcategory_146</th><th>subcategory_147</th><th>subcategory_148</th><th>subcategory_149</th><th>subcategory_150</th><th>subcategory_151</th><th>subcategory_152</th><th>subcategory_153</th><th>subcategory_154</th><th>subcategory_155</th><th>subcategory_156</th><th>subcategory_157</th><th>subcategory_158</th><th>subcategory_159</th><th>subcategory_160</th><th>subcategory_161</th><th>subcategory_162</th><th>subcategory_163</th><th>subcategory_164</th><th>subcategory_165</th><th>subcategory_166</th><th>subcategory_167</th><th>subcategory_168</th><th>subcategory_169</th><th>subcategory_170</th><th>subcategory_171</th><th>subcategory_172</th><th>subcategory_173</th></tr><tr><td>u32</td><td>list[i8]</td><td>list[i8]</td><td>list[i8]</td><td>list[f32]</td><td>list[f32]</td><td>list[i8]</td><td>list[i8]</td><td>list[i8]</td><td>list[i8]</td><td>list[i8]</td><td>list[i8]</td><td>list[i8]</td><td>list[i8]</td><td>list[i8]</td><td>list[i8]</td><td>list[i8]</td><td>list[i8]</td><td>list[i8]</td><td>list[i8]</td><td>list[i8]</td><td>list[i8]</td><td>list[i8]</td><td>list[i8]</td><td>list[i8]</td><td>list[i8]</td><td>list[i8]</td><td>list[i8]</td><td>list[i8]</td><td>list[i8]</td><td>list[i8]</td><td>list[i8]</td><td>list[i8]</td><td>list[i8]</td><td>list[i8]</td><td>list[i8]</td><td>list[i8]</td><td>&hellip;</td><td>list[i8]</td><td>list[i8]</td><td>list[i8]</td><td>list[i8]</td><td>list[i8]</td><td>list[i8]</td><td>list[i8]</td><td>list[i8]</td><td>list[i8]</td><td>list[i8]</td><td>list[i8]</td><td>list[i8]</td><td>list[i8]</td><td>list[i8]</td><td>list[i8]</td><td>list[i8]</td><td>list[i8]</td><td>list[i8]</td><td>list[i8]</td><td>list[i8]</td><td>list[i8]</td><td>list[i8]</td><td>list[i8]</td><td>list[i8]</td><td>list[i8]</td><td>list[i8]</td><td>list[i8]</td><td>list[i8]</td><td>list[i8]</td><td>list[i8]</td><td>list[i8]</td><td>list[i8]</td><td>list[i8]</td><td>list[i8]</td><td>list[i8]</td><td>list[i8]</td><td>list[i8]</td></tr></thead><tbody><tr><td>2053634</td><td>[1, 1, … 1]</td><td>[25, 4, … 4]</td><td>[0, 0, … 0]</td><td>[0.0, 116.0, … 0.0]</td><td>[0.0, 100.0, … 0.0]</td><td>[4, 0, … 5]</td><td>[1, 2, … 3]</td><td>[0, 0, … 0]</td><td>[0, 0, … 0]</td><td>[0, 0, … 0]</td><td>[0, 0, … 0]</td><td>[0, 1, … 0]</td><td>[0, 0, … 0]</td><td>[0, 0, … 0]</td><td>[0, 0, … 0]</td><td>[0, 0, … 0]</td><td>[0, 0, … 0]</td><td>[0, 0, … 1]</td><td>[0, 0, … 0]</td><td>[0, 0, … 0]</td><td>[0, 0, … 0]</td><td>[0, 0, … 0]</td><td>[0, 0, … 0]</td><td>[0, 0, … 0]</td><td>[0, 0, … 0]</td><td>[0, 0, … 0]</td><td>[0, 0, … 0]</td><td>[0, 0, … 0]</td><td>[0, 0, … 0]</td><td>[0, 0, … 0]</td><td>[0, 0, … 0]</td><td>[0, 0, … 0]</td><td>[0, 1, … 1]</td><td>[0, 0, … 0]</td><td>[0, 0, … 0]</td><td>[0, 0, … 0]</td><td>&hellip;</td><td>[0, 0, … 0]</td><td>[0, 0, … 0]</td><td>[0, 0, … 0]</td><td>[0, 0, … 0]</td><td>[0, 0, … 0]</td><td>[0, 0, … 0]</td><td>[0, 0, … 0]</td><td>[0, 0, … 0]</td><td>[0, 0, … 0]</td><td>[0, 0, … 0]</td><td>[0, 0, … 0]</td><td>[0, 0, … 0]</td><td>[0, 0, … 0]</td><td>[0, 0, … 0]</td><td>[0, 0, … 0]</td><td>[0, 0, … 0]</td><td>[0, 0, … 0]</td><td>[0, 0, … 0]</td><td>[0, 0, … 0]</td><td>[0, 0, … 0]</td><td>[0, 0, … 0]</td><td>[0, 0, … 0]</td><td>[0, 0, … 0]</td><td>[0, 0, … 0]</td><td>[0, 0, … 0]</td><td>[0, 0, … 0]</td><td>[0, 0, … 0]</td><td>[0, 0, … 0]</td><td>[0, 0, … 0]</td><td>[0, 0, … 0]</td><td>[0, 0, … 0]</td><td>[0, 0, … 0]</td><td>[0, 0, … 0]</td><td>[0, 0, … 0]</td><td>[0, 0, … 0]</td><td>[0, 0, … 0]</td><td>[0, 0, … 0]</td></tr><tr><td>1899092</td><td>[3, 1, … 3]</td><td>[5, 25, … 4]</td><td>[0, 0, … 0]</td><td>[60.0, 17.0, … 8.0]</td><td>[100.0, 24.0, … 60.0]</td><td>[4, 4, … 1]</td><td>[3, 3, … 4]</td><td>[0, 0, … 0]</td><td>[0, 0, … 0]</td><td>[0, 0, … 0]</td><td>[0, 0, … 0]</td><td>[0, 0, … 0]</td><td>[0, 0, … 0]</td><td>[0, 0, … 0]</td><td>[0, 0, … 1]</td><td>[0, 0, … 0]</td><td>[0, 0, … 0]</td><td>[0, 0, … 0]</td><td>[0, 0, … 0]</td><td>[0, 0, … 0]</td><td>[1, 0, … 0]</td><td>[0, 0, … 0]</td><td>[0, 0, … 0]</td><td>[0, 0, … 0]</td><td>[0, 0, … 0]</td><td>[0, 0, … 0]</td><td>[0, 0, … 1]</td><td>[0, 0, … 0]</td><td>[1, 0, … 0]</td><td>[0, 0, … 0]</td><td>[0, 0, … 0]</td><td>[0, 0, … 0]</td><td>[1, 0, … 0]</td><td>[0, 0, … 0]</td><td>[0, 0, … 0]</td><td>[0, 0, … 0]</td><td>&hellip;</td><td>[0, 0, … 0]</td><td>[0, 0, … 0]</td><td>[0, 0, … 0]</td><td>[0, 0, … 0]</td><td>[0, 0, … 0]</td><td>[0, 0, … 0]</td><td>[0, 0, … 0]</td><td>[0, 0, … 0]</td><td>[0, 0, … 0]</td><td>[0, 0, … 0]</td><td>[0, 0, … 0]</td><td>[0, 0, … 0]</td><td>[0, 0, … 0]</td><td>[0, 0, … 0]</td><td>[0, 0, … 0]</td><td>[0, 0, … 0]</td><td>[0, 0, … 0]</td><td>[0, 0, … 0]</td><td>[0, 0, … 0]</td><td>[0, 0, … 0]</td><td>[0, 0, … 0]</td><td>[0, 0, … 0]</td><td>[0, 0, … 0]</td><td>[0, 0, … 0]</td><td>[0, 0, … 0]</td><td>[0, 0, … 0]</td><td>[0, 0, … 0]</td><td>[0, 0, … 0]</td><td>[0, 0, … 0]</td><td>[0, 0, … 0]</td><td>[0, 0, … 0]</td><td>[0, 0, … 0]</td><td>[0, 0, … 0]</td><td>[0, 0, … 0]</td><td>[0, 0, … 0]</td><td>[0, 0, … 0]</td><td>[0, 0, … 0]</td></tr></tbody></table></div>"
      ],
      "text/plain": [
       "shape: (2, 260)\n",
       "┌─────────┬────────────┬───────────┬───────────┬───┬───────────┬───────────┬───────────┬───────────┐\n",
       "│ user_id ┆ sentiment_ ┆ category  ┆ premium   ┆ … ┆ subcatego ┆ subcatego ┆ subcatego ┆ subcatego │\n",
       "│ ---     ┆ label      ┆ ---       ┆ ---       ┆   ┆ ry_170    ┆ ry_171    ┆ ry_172    ┆ ry_173    │\n",
       "│ u32     ┆ ---        ┆ list[i8]  ┆ list[i8]  ┆   ┆ ---       ┆ ---       ┆ ---       ┆ ---       │\n",
       "│         ┆ list[i8]   ┆           ┆           ┆   ┆ list[i8]  ┆ list[i8]  ┆ list[i8]  ┆ list[i8]  │\n",
       "╞═════════╪════════════╪═══════════╪═══════════╪═══╪═══════════╪═══════════╪═══════════╪═══════════╡\n",
       "│ 2053634 ┆ [1, 1, …   ┆ [25, 4, … ┆ [0, 0, …  ┆ … ┆ [0, 0, …  ┆ [0, 0, …  ┆ [0, 0, …  ┆ [0, 0, …  │\n",
       "│         ┆ 1]         ┆ 4]        ┆ 0]        ┆   ┆ 0]        ┆ 0]        ┆ 0]        ┆ 0]        │\n",
       "│ 1899092 ┆ [3, 1, …   ┆ [5, 25, … ┆ [0, 0, …  ┆ … ┆ [0, 0, …  ┆ [0, 0, …  ┆ [0, 0, …  ┆ [0, 0, …  │\n",
       "│         ┆ 3]         ┆ 4]        ┆ 0]        ┆   ┆ 0]        ┆ 0]        ┆ 0]        ┆ 0]        │\n",
       "└─────────┴────────────┴───────────┴───────────┴───┴───────────┴───────────┴───────────┴───────────┘"
      ]
     },
     "execution_count": 99,
     "metadata": {},
     "output_type": "execute_result"
    }
   ],
   "source": [
    "from polimi.utils._polars import reduce_polars_df_memory_size\n",
    "\n",
    "window = 20\n",
    "mask = 0\n",
    "df_trucated = df.with_columns(\n",
    "    pl.all().exclude('user_id').list.reverse().list.eval(pl.element().extend_constant(mask, window)).list.reverse().list.tail(window).name.keep()\n",
    ")\n",
    "\n",
    "df_trucated.head(2)"
   ]
  },
  {
   "cell_type": "code",
   "execution_count": 100,
   "metadata": {},
   "outputs": [
    {
     "data": {
      "text/html": [
       "<div><style>\n",
       ".dataframe > thead > tr,\n",
       ".dataframe > tbody > tr {\n",
       "  text-align: right;\n",
       "  white-space: pre-wrap;\n",
       "}\n",
       "</style>\n",
       "<small>shape: (2, 384)</small><table border=\"1\" class=\"dataframe\"><thead><tr><th>impression_id</th><th>user_id</th><th>article</th><th>target</th><th>device_type</th><th>read_time</th><th>scroll_percentage</th><th>is_sso_user</th><th>gender</th><th>age</th><th>is_subscriber</th><th>postcode</th><th>trendiness_score_1d</th><th>trendiness_score_3d</th><th>trendiness_score_5d</th><th>trendiness_score_3d_leak</th><th>weekday</th><th>hour</th><th>trendiness_score_1d/3d</th><th>trendiness_score_1d/5d</th><th>normalized_trendiness_score_overall</th><th>premium</th><th>category</th><th>sentiment_score</th><th>sentiment_label</th><th>num_images</th><th>title_len</th><th>subtitle_len</th><th>body_len</th><th>num_topics</th><th>total_pageviews</th><th>total_inviews</th><th>total_read_time</th><th>total_pageviews/inviews</th><th>article_type</th><th>article_delay_days</th><th>article_delay_hours</th><th>&hellip;</th><th>constrastive_emb_icm_l_inf_article</th><th>std_article_kenneth_emb_icm</th><th>std_article_distilbert_emb_icm</th><th>std_article_bert_emb_icm</th><th>std_article_roberta_emb_icm</th><th>std_article_w_to_vec_emb_icm</th><th>std_article_emotions_emb_icm</th><th>std_article_constrastive_emb_icm</th><th>skew_article_kenneth_emb_icm</th><th>skew_article_distilbert_emb_icm</th><th>skew_article_bert_emb_icm</th><th>skew_article_roberta_emb_icm</th><th>skew_article_w_to_vec_emb_icm</th><th>skew_article_emotions_emb_icm</th><th>skew_article_constrastive_emb_icm</th><th>kurtosis_article_kenneth_emb_icm</th><th>kurtosis_article_distilbert_emb_icm</th><th>kurtosis_article_bert_emb_icm</th><th>kurtosis_article_roberta_emb_icm</th><th>kurtosis_article_w_to_vec_emb_icm</th><th>kurtosis_article_emotions_emb_icm</th><th>kurtosis_article_constrastive_emb_icm</th><th>entropy_article_kenneth_emb_icm</th><th>entropy_article_distilbert_emb_icm</th><th>entropy_article_bert_emb_icm</th><th>entropy_article_roberta_emb_icm</th><th>entropy_article_w_to_vec_emb_icm</th><th>entropy_article_emotions_emb_icm</th><th>entropy_article_constrastive_emb_icm</th><th>kenneth_emb_icm_minus_median_article</th><th>distilbert_emb_icm_minus_median_article</th><th>bert_emb_icm_minus_median_article</th><th>roberta_emb_icm_minus_median_article</th><th>w_to_vec_emb_icm_minus_median_article</th><th>emotions_emb_icm_minus_median_article</th><th>constrastive_emb_icm_minus_median_article</th><th>impression_time</th></tr><tr><td>u32</td><td>u32</td><td>i32</td><td>i8</td><td>i8</td><td>f32</td><td>f32</td><td>bool</td><td>i8</td><td>i8</td><td>bool</td><td>i8</td><td>i16</td><td>i16</td><td>i16</td><td>i16</td><td>i8</td><td>i8</td><td>f32</td><td>f32</td><td>f32</td><td>bool</td><td>i16</td><td>f32</td><td>str</td><td>u32</td><td>u8</td><td>u8</td><td>u16</td><td>u32</td><td>i32</td><td>i32</td><td>f32</td><td>f32</td><td>str</td><td>i16</td><td>i32</td><td>&hellip;</td><td>f32</td><td>f32</td><td>f32</td><td>f32</td><td>f32</td><td>f32</td><td>f32</td><td>f32</td><td>f64</td><td>f64</td><td>f64</td><td>f64</td><td>f64</td><td>f64</td><td>f64</td><td>f64</td><td>f64</td><td>f64</td><td>f64</td><td>f64</td><td>f64</td><td>f64</td><td>f32</td><td>f32</td><td>f32</td><td>f32</td><td>f32</td><td>f32</td><td>f32</td><td>f32</td><td>f32</td><td>f32</td><td>f32</td><td>f32</td><td>f32</td><td>f32</td><td>datetime[μs]</td></tr></thead><tbody><tr><td>149474</td><td>139836</td><td>9778728</td><td>0</td><td>2</td><td>13.0</td><td>null</td><td>false</td><td>2</td><td>null</td><td>false</td><td>5</td><td>150</td><td>521</td><td>836</td><td>419</td><td>3</td><td>7</td><td>0.287908</td><td>0.179426</td><td>0.880068</td><td>false</td><td>142</td><td>0.9654</td><td>&quot;Negative&quot;</td><td>1</td><td>5</td><td>18</td><td>251</td><td>7</td><td>22415</td><td>220247</td><td>1.004828e6</td><td>0.101772</td><td>&quot;article_default&quot;</td><td>0</td><td>0</td><td>&hellip;</td><td>0.017241</td><td>0.003313</td><td>0.010775</td><td>0.020001</td><td>6.258241</td><td>0.005474</td><td>4.929348</td><td>0.062682</td><td>1.300164</td><td>2.060066</td><td>1.152196</td><td>1.754251</td><td>2.088241</td><td>1.214502</td><td>1.406736</td><td>1.339344</td><td>5.427761</td><td>1.025453</td><td>3.529418</td><td>5.37705</td><td>1.054931</td><td>1.963193</td><td>NaN</td><td>NaN</td><td>NaN</td><td>NaN</td><td>NaN</td><td>NaN</td><td>NaN</td><td>-0.002187</td><td>-0.004914</td><td>-0.014626</td><td>-3.694031</td><td>-0.002645</td><td>-3.802204</td><td>-0.039383</td><td>2023-05-24 07:47:53</td></tr><tr><td>149474</td><td>139836</td><td>9778669</td><td>0</td><td>2</td><td>13.0</td><td>null</td><td>false</td><td>2</td><td>null</td><td>false</td><td>5</td><td>85</td><td>199</td><td>313</td><td>266</td><td>3</td><td>7</td><td>0.427136</td><td>0.271565</td><td>0.336149</td><td>false</td><td>118</td><td>0.9481</td><td>&quot;Negative&quot;</td><td>1</td><td>5</td><td>11</td><td>150</td><td>4</td><td>74491</td><td>373488</td><td>4.365609e6</td><td>0.199447</td><td>&quot;article_default&quot;</td><td>0</td><td>1</td><td>&hellip;</td><td>0.017094</td><td>0.003318</td><td>0.011131</td><td>0.019302</td><td>5.737217</td><td>0.003193</td><td>8.05171</td><td>0.06661</td><td>1.08501</td><td>1.063945</td><td>0.947301</td><td>1.095085</td><td>1.058148</td><td>1.020884</td><td>1.072975</td><td>0.822594</td><td>0.947987</td><td>0.355356</td><td>0.968488</td><td>1.051799</td><td>0.600099</td><td>0.791561</td><td>NaN</td><td>NaN</td><td>NaN</td><td>NaN</td><td>NaN</td><td>NaN</td><td>NaN</td><td>-0.002933</td><td>-0.010537</td><td>-0.017286</td><td>-4.617104</td><td>-0.002901</td><td>-7.678095</td><td>-0.057551</td><td>2023-05-24 07:47:53</td></tr></tbody></table></div>"
      ],
      "text/plain": [
       "shape: (2, 384)\n",
       "┌─────────────┬─────────┬─────────┬────────┬───┬────────────┬────────────┬────────────┬────────────┐\n",
       "│ impression_ ┆ user_id ┆ article ┆ target ┆ … ┆ w_to_vec_e ┆ emotions_e ┆ constrasti ┆ impression │\n",
       "│ id          ┆ ---     ┆ ---     ┆ ---    ┆   ┆ mb_icm_min ┆ mb_icm_min ┆ ve_emb_icm ┆ _time      │\n",
       "│ ---         ┆ u32     ┆ i32     ┆ i8     ┆   ┆ us_median_ ┆ us_median_ ┆ _minus_med ┆ ---        │\n",
       "│ u32         ┆         ┆         ┆        ┆   ┆ …          ┆ …          ┆ …          ┆ datetime[μ │\n",
       "│             ┆         ┆         ┆        ┆   ┆ ---        ┆ ---        ┆ ---        ┆ s]         │\n",
       "│             ┆         ┆         ┆        ┆   ┆ f32        ┆ f32        ┆ f32        ┆            │\n",
       "╞═════════════╪═════════╪═════════╪════════╪═══╪════════════╪════════════╪════════════╪════════════╡\n",
       "│ 149474      ┆ 139836  ┆ 9778728 ┆ 0      ┆ … ┆ -0.002645  ┆ -3.802204  ┆ -0.039383  ┆ 2023-05-24 │\n",
       "│             ┆         ┆         ┆        ┆   ┆            ┆            ┆            ┆ 07:47:53   │\n",
       "│ 149474      ┆ 139836  ┆ 9778669 ┆ 0      ┆ … ┆ -0.002901  ┆ -7.678095  ┆ -0.057551  ┆ 2023-05-24 │\n",
       "│             ┆         ┆         ┆        ┆   ┆            ┆            ┆            ┆ 07:47:53   │\n",
       "└─────────────┴─────────┴─────────┴────────┴───┴────────────┴────────────┴────────────┴────────────┘"
      ]
     },
     "execution_count": 100,
     "metadata": {},
     "output_type": "execute_result"
    }
   ],
   "source": [
    "behaviors_df = pl.read_parquet('/home/ubuntu/dset_complete/subsample/train_ds.parquet')\n",
    "behaviors_df.head(2)"
   ]
  },
  {
   "cell_type": "code",
   "execution_count": 101,
   "metadata": {},
   "outputs": [],
   "source": [
    "def build_sequences_cls_iterator(history_seq: pl.DataFrame, behaviors: pl.DataFrame, window:int):\n",
    "    mask = 0\n",
    "    history_seq_trucated = history_seq.with_columns(\n",
    "        pl.all().exclude('user_id').list.reverse().list.eval(pl.element().extend_constant(mask, window)).list.reverse().list.tail(window).name.keep()\n",
    "    )\n",
    "    \n",
    "    for user_id, user_history in tqdm(history_seq_trucated.partition_by(['user_id'], as_dict=True, maintain_order=False).items()): #order not maintained\n",
    "        for b in behaviors.filter(pl.col('user_id') == user_id[0]).iter_slices(1):\n",
    "            yield (b.drop('target'), user_history, b['target'].item())\n",
    "        "
   ]
  },
  {
   "cell_type": "code",
   "execution_count": 103,
   "metadata": {},
   "outputs": [
    {
     "name": "stderr",
     "output_type": "stream",
     "text": [
      "  0%|          | 0/15143 [00:00<?, ?it/s]\n"
     ]
    },
    {
     "name": "stdout",
     "output_type": "stream",
     "text": [
      "0\n"
     ]
    }
   ],
   "source": [
    "for i, (features, user_history_trunc, target) in enumerate(build_sequences_cls_iterator(df, behaviors_df, window=20)):\n",
    "    print(target)\n",
    "    break"
   ]
  },
  {
   "cell_type": "code",
   "execution_count": null,
   "metadata": {},
   "outputs": [],
   "source": []
  }
 ],
 "metadata": {
  "kernelspec": {
   "display_name": "recsys",
   "language": "python",
   "name": "python3"
  },
  "language_info": {
   "codemirror_mode": {
    "name": "ipython",
    "version": 3
   },
   "file_extension": ".py",
   "mimetype": "text/x-python",
   "name": "python",
   "nbconvert_exporter": "python",
   "pygments_lexer": "ipython3",
   "version": "3.10.12"
  }
 },
 "nbformat": 4,
 "nbformat_minor": 2
}
