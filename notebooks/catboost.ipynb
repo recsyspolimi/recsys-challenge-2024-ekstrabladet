{
 "cells": [
  {
   "cell_type": "code",
   "execution_count": 1,
   "id": "a609538c",
   "metadata": {
    "execution": {
     "iopub.execute_input": "2024-04-07T19:48:17.825197Z",
     "iopub.status.busy": "2024-04-07T19:48:17.824229Z",
     "iopub.status.idle": "2024-04-07T19:48:29.750021Z",
     "shell.execute_reply": "2024-04-07T19:48:29.748329Z"
    },
    "papermill": {
     "duration": 11.954448,
     "end_time": "2024-04-07T19:48:29.753238",
     "exception": false,
     "start_time": "2024-04-07T19:48:17.798790",
     "status": "completed"
    },
    "tags": []
   },
   "outputs": [
    {
     "name": "stdout",
     "output_type": "stream",
     "text": [
      "Cloning into 'RecSysChallenge2024'...\r\n",
      "remote: Enumerating objects: 941, done.\u001b[K\r\n",
      "remote: Counting objects: 100% (616/616), done.\u001b[K\r\n",
      "remote: Compressing objects: 100% (373/373), done.\u001b[K\r\n",
      "remote: Total 941 (delta 333), reused 494 (delta 229), pack-reused 325\u001b[K\r\n",
      "Receiving objects: 100% (941/941), 28.99 MiB | 5.67 MiB/s, done.\r\n",
      "Resolving deltas: 100% (432/432), done.\r\n",
      "Cloning into 'RecSys_Course_AT_PoliMi'...\r\n",
      "remote: Enumerating objects: 1519, done.\u001b[K\r\n",
      "remote: Counting objects: 100% (255/255), done.\u001b[K\r\n",
      "remote: Compressing objects: 100% (43/43), done.\u001b[K\r\n",
      "remote: Total 1519 (delta 223), reused 220 (delta 212), pack-reused 1264\u001b[K\r\n",
      "Receiving objects: 100% (1519/1519), 50.33 MiB | 24.98 MiB/s, done.\r\n",
      "Resolving deltas: 100% (909/909), done.\r\n"
     ]
    }
   ],
   "source": [
    "from kaggle_secrets import UserSecretsClient\n",
    "secret_label = \"Token\"\n",
    "token = UserSecretsClient().get_secret(secret_label)\n",
    "\n",
    "! git clone https://{token}@github.com/FrancescoZanella/RecSysChallenge2024.git\n",
    "! git clone https://github.com/MaurizioFD/RecSys_Course_AT_PoliMi.git"
   ]
  },
  {
   "cell_type": "code",
   "execution_count": 2,
   "id": "47fc5fb3",
   "metadata": {
    "execution": {
     "iopub.execute_input": "2024-04-07T19:48:29.816538Z",
     "iopub.status.busy": "2024-04-07T19:48:29.816105Z",
     "iopub.status.idle": "2024-04-07T19:48:29.824686Z",
     "shell.execute_reply": "2024-04-07T19:48:29.823329Z"
    },
    "papermill": {
     "duration": 0.045128,
     "end_time": "2024-04-07T19:48:29.827580",
     "exception": false,
     "start_time": "2024-04-07T19:48:29.782452",
     "status": "completed"
    },
    "tags": []
   },
   "outputs": [
    {
     "name": "stdout",
     "output_type": "stream",
     "text": [
      "/kaggle/working/RecSysChallenge2024/src\n"
     ]
    }
   ],
   "source": [
    "%cd /kaggle/working/RecSysChallenge2024/src"
   ]
  },
  {
   "cell_type": "code",
   "execution_count": 3,
   "id": "be97b0fa",
   "metadata": {
    "_cell_guid": "b1076dfc-b9ad-4769-8c92-a6c4dae69d19",
    "_uuid": "8f2839f25d086af736a60e9eeb907d3b93b6e0e5",
    "execution": {
     "iopub.execute_input": "2024-04-07T19:48:29.888791Z",
     "iopub.status.busy": "2024-04-07T19:48:29.888339Z",
     "iopub.status.idle": "2024-04-07T19:48:38.540250Z",
     "shell.execute_reply": "2024-04-07T19:48:38.538924Z"
    },
    "papermill": {
     "duration": 8.685909,
     "end_time": "2024-04-07T19:48:38.543225",
     "exception": false,
     "start_time": "2024-04-07T19:48:29.857316",
     "status": "completed"
    },
    "tags": []
   },
   "outputs": [],
   "source": [
    "import numpy as np\n",
    "import pandas as pd\n",
    "import matplotlib.pyplot as plt\n",
    "import seaborn as sns\n",
    "from pathlib import Path\n",
    "import polars as pl\n",
    "import scipy.stats as stats\n",
    "import scipy.sparse as sps\n",
    "import gc\n",
    "import tqdm\n",
    "\n",
    "from ebrec.utils._descriptive_analysis import (\n",
    "    min_max_impression_time_behaviors, \n",
    "    min_max_impression_time_history\n",
    ")\n",
    "from ebrec.utils._polars import slice_join_dataframes\n",
    "from ebrec.utils._behaviors import (\n",
    "    create_binary_labels_column,\n",
    "    sampling_strategy_wu2019,\n",
    "    truncate_history,\n",
    ")\n",
    "from ebrec.utils._constants import (\n",
    "    DEFAULT_HISTORY_ARTICLE_ID_COL,\n",
    "    DEFAULT_CLICKED_ARTICLES_COL,\n",
    "    DEFAULT_INVIEW_ARTICLES_COL,\n",
    "    DEFAULT_USER_COL\n",
    ")\n",
    "from ebrec.evaluation.metrics_protocols import *\n",
    "from polimi.utils._catboost import add_trendiness_feature, add_mean_delays_features,add_history_trendiness_scores_feature\n",
    "\n",
    "from catboost import CatBoostClassifier"
   ]
  },
  {
   "cell_type": "markdown",
   "id": "1b22ad80",
   "metadata": {
    "papermill": {
     "duration": 0.028237,
     "end_time": "2024-04-07T19:48:38.601076",
     "exception": false,
     "start_time": "2024-04-07T19:48:38.572839",
     "status": "completed"
    },
    "tags": []
   },
   "source": [
    "# Memory Utils"
   ]
  },
  {
   "cell_type": "code",
   "execution_count": 4,
   "id": "8498800a",
   "metadata": {
    "execution": {
     "iopub.execute_input": "2024-04-07T19:48:38.664230Z",
     "iopub.status.busy": "2024-04-07T19:48:38.663638Z",
     "iopub.status.idle": "2024-04-07T19:48:38.675861Z",
     "shell.execute_reply": "2024-04-07T19:48:38.674659Z"
    },
    "papermill": {
     "duration": 0.045887,
     "end_time": "2024-04-07T19:48:38.678372",
     "exception": false,
     "start_time": "2024-04-07T19:48:38.632485",
     "status": "completed"
    },
    "tags": []
   },
   "outputs": [
    {
     "name": "stdout",
     "output_type": "stream",
     "text": [
      "\u001b[1m\u001b[31m\n",
      "RAM memory GB usage = 0.4031\u001b[0m\n"
     ]
    }
   ],
   "source": [
    "from os import system, getpid, walk\n",
    "from psutil import Process\n",
    "from colorama import Fore, Style, init\n",
    "from IPython.display import display, HTML\n",
    "\n",
    "def PrintColor(text:str, color = Fore.BLUE, style = Style.BRIGHT):\n",
    "    print(style + color + text + Style.RESET_ALL)\n",
    "    \n",
    "def GetMemUsage():   \n",
    "    pid = getpid()\n",
    "    py = Process(pid)\n",
    "    memory_use = py.memory_info()[0] / 2. ** 30\n",
    "    return f\"RAM memory GB usage = {memory_use :.4}\"\n",
    "\n",
    "PrintColor(f\"\\n\" + GetMemUsage(), color = Fore.RED)"
   ]
  },
  {
   "cell_type": "code",
   "execution_count": 5,
   "id": "36611e58",
   "metadata": {
    "execution": {
     "iopub.execute_input": "2024-04-07T19:48:38.738547Z",
     "iopub.status.busy": "2024-04-07T19:48:38.737906Z",
     "iopub.status.idle": "2024-04-07T19:48:38.755340Z",
     "shell.execute_reply": "2024-04-07T19:48:38.753877Z"
    },
    "papermill": {
     "duration": 0.051285,
     "end_time": "2024-04-07T19:48:38.758162",
     "exception": false,
     "start_time": "2024-04-07T19:48:38.706877",
     "status": "completed"
    },
    "tags": []
   },
   "outputs": [],
   "source": [
    "def reduce_polars_df_memory_size(df, set_categorical=True):\n",
    "\n",
    "    start_mem = df.estimated_size('mb')\n",
    "    print('Memory usage of dataframe is {:.2f} MB'.format(start_mem))\n",
    "    \n",
    "    for col in df.columns:\n",
    "        col_type = df[col].dtype\n",
    "        \n",
    "        if col_type in [pl.Int16, pl.Int32, pl.Int64]:\n",
    "            c_min = df[col].fill_null(0).min()\n",
    "            c_max = df[col].fill_null(0).max()\n",
    "            if c_min > np.iinfo(np.int8).min and c_max < np.iinfo(np.int8).max:\n",
    "                df = df.with_columns(pl.col(col).cast(pl.Int8))\n",
    "            elif c_min > np.iinfo(np.int16).min and c_max < np.iinfo(np.int16).max:\n",
    "                df = df.with_columns(pl.col(col).cast(pl.Int16))\n",
    "            elif c_min > np.iinfo(np.int32).min and c_max < np.iinfo(np.int32).max:\n",
    "                df = df.with_columns(pl.col(col).cast(pl.Int32))\n",
    "        elif col_type in [pl.UInt16, pl.UInt32, pl.UInt64]:\n",
    "            c_min = df[col].fill_null(0).min()\n",
    "            c_max = df[col].fill_null(0).max()\n",
    "            if c_min > np.iinfo(np.uint8).min and c_max < np.iinfo(np.uint8).max:\n",
    "                df = df.with_columns(pl.col(col).cast(pl.UInt8))\n",
    "            elif c_min > np.iinfo(np.uint16).min and c_max < np.iinfo(np.uint16).max:\n",
    "                df = df.with_columns(pl.col(col).cast(pl.UInt16))\n",
    "            elif c_min > np.iinfo(np.uint32).min and c_max < np.iinfo(np.uint32).max:\n",
    "                df = df.with_columns(pl.col(col).cast(pl.UInt32))\n",
    "        elif col_type == pl.Float64:\n",
    "            c_min = df[col].fill_null(0).min()\n",
    "            c_max = df[col].fill_null(0).max()\n",
    "            if c_min > np.finfo(np.float32).min and c_max < np.finfo(np.float32).max:\n",
    "                df = df.with_columns(pl.col(col).cast(pl.Float32))\n",
    "\n",
    "    gc.collect()\n",
    "    end_mem = df.estimated_size('mb')\n",
    "    print('Memory usage after optimization is: {:.2f} MB'.format(end_mem))\n",
    "    print('Decreased by {:.1f}%'.format(100 * (start_mem - end_mem) / start_mem))\n",
    "    \n",
    "    return df"
   ]
  },
  {
   "cell_type": "markdown",
   "id": "ba8f0033",
   "metadata": {
    "papermill": {
     "duration": 0.028908,
     "end_time": "2024-04-07T19:48:38.817237",
     "exception": false,
     "start_time": "2024-04-07T19:48:38.788329",
     "status": "completed"
    },
    "tags": []
   },
   "source": [
    "# Data import"
   ]
  },
  {
   "cell_type": "code",
   "execution_count": 6,
   "id": "b18ebda3",
   "metadata": {
    "execution": {
     "iopub.execute_input": "2024-04-07T19:48:38.877222Z",
     "iopub.status.busy": "2024-04-07T19:48:38.876790Z",
     "iopub.status.idle": "2024-04-07T19:48:41.131602Z",
     "shell.execute_reply": "2024-04-07T19:48:41.130048Z"
    },
    "papermill": {
     "duration": 2.28838,
     "end_time": "2024-04-07T19:48:41.134403",
     "exception": false,
     "start_time": "2024-04-07T19:48:38.846023",
     "status": "completed"
    },
    "tags": []
   },
   "outputs": [
    {
     "name": "stdout",
     "output_type": "stream",
     "text": [
      "\u001b[1m\u001b[31m\n",
      "RAM memory GB usage = 0.6607\u001b[0m\n"
     ]
    }
   ],
   "source": [
    "articles = pl.read_parquet('/kaggle/input/recommender-systems-challenge-2024/ebnerd_small/articles.parquet')\n",
    "\n",
    "behaviors_train = pl.read_parquet('/kaggle/input/recommender-systems-challenge-2024/ebnerd_small/train/behaviors.parquet')\n",
    "history_train = pl.read_parquet('/kaggle/input/recommender-systems-challenge-2024/ebnerd_small/train/history.parquet')\n",
    "\n",
    "behaviors_val = pl.read_parquet('/kaggle/input/recommender-systems-challenge-2024/ebnerd_small/validation/behaviors.parquet')\n",
    "history_val = pl.read_parquet('/kaggle/input/recommender-systems-challenge-2024/ebnerd_small/validation/history.parquet')\n",
    "\n",
    "gc.collect()\n",
    "PrintColor(f\"\\n\" + GetMemUsage(), color = Fore.RED)"
   ]
  },
  {
   "cell_type": "markdown",
   "id": "67c3a07b",
   "metadata": {
    "papermill": {
     "duration": 0.028816,
     "end_time": "2024-04-07T19:48:41.192158",
     "exception": false,
     "start_time": "2024-04-07T19:48:41.163342",
     "status": "completed"
    },
    "tags": []
   },
   "source": [
    "# Articles Preprocessing"
   ]
  },
  {
   "cell_type": "code",
   "execution_count": 7,
   "id": "10637788",
   "metadata": {
    "execution": {
     "iopub.execute_input": "2024-04-07T19:48:41.251752Z",
     "iopub.status.busy": "2024-04-07T19:48:41.251303Z",
     "iopub.status.idle": "2024-04-07T19:48:42.086314Z",
     "shell.execute_reply": "2024-04-07T19:48:42.085259Z"
    },
    "papermill": {
     "duration": 0.867881,
     "end_time": "2024-04-07T19:48:42.088756",
     "exception": false,
     "start_time": "2024-04-07T19:48:41.220875",
     "status": "completed"
    },
    "tags": []
   },
   "outputs": [
    {
     "name": "stdout",
     "output_type": "stream",
     "text": [
      "Memory usage of dataframe is 64.11 MB\n",
      "Memory usage after optimization is: 63.96 MB\n",
      "Decreased by 0.2%\n",
      "\u001b[1m\u001b[31m\n",
      "RAM memory GB usage = 0.6674\u001b[0m\n"
     ]
    },
    {
     "data": {
      "text/html": [
       "<div><style>\n",
       ".dataframe > thead > tr,\n",
       ".dataframe > tbody > tr {\n",
       "  text-align: right;\n",
       "  white-space: pre-wrap;\n",
       "}\n",
       "</style>\n",
       "<small>shape: (2, 25)</small><table border=\"1\" class=\"dataframe\"><thead><tr><th>article_id</th><th>title</th><th>subtitle</th><th>last_modified_time</th><th>premium</th><th>body</th><th>published_time</th><th>image_ids</th><th>article_type</th><th>url</th><th>ner_clusters</th><th>entity_groups</th><th>topics</th><th>category</th><th>subcategory</th><th>category_str</th><th>total_inviews</th><th>total_pageviews</th><th>total_read_time</th><th>sentiment_score</th><th>sentiment_label</th><th>num_images</th><th>title_len</th><th>subtitle_len</th><th>body_len</th></tr><tr><td>i32</td><td>str</td><td>str</td><td>datetime[μs]</td><td>bool</td><td>str</td><td>datetime[μs]</td><td>list[i64]</td><td>str</td><td>str</td><td>list[str]</td><td>list[str]</td><td>list[str]</td><td>i16</td><td>list[i16]</td><td>str</td><td>i32</td><td>i32</td><td>f32</td><td>f32</td><td>str</td><td>u32</td><td>u8</td><td>u8</td><td>u16</td></tr></thead><tbody><tr><td>3001353</td><td>&quot;Natascha var i…</td><td>&quot;Politiet frygt…</td><td>2023-06-29 06:20:33</td><td>false</td><td>&quot;Sagen om den ø…</td><td>2006-08-31 08:06:45</td><td>[3150850]</td><td>&quot;article_defaul…</td><td>&quot;https://ekstra…</td><td>[]</td><td>[]</td><td>[&quot;Kriminalitet&quot;, &quot;Personfarlig_kriminalitet&quot;]</td><td>140</td><td>[]</td><td>&quot;krimi&quot;</td><td>null</td><td>null</td><td>null</td><td>0.9955</td><td>&quot;Negative&quot;</td><td>1</td><td>5</td><td>22</td><td>200</td></tr><tr><td>3003065</td><td>&quot;Kun Star Wars …</td><td>&quot;Biografgængern…</td><td>2023-06-29 06:20:35</td><td>false</td><td>&quot;Vatikanet har …</td><td>2006-05-21 16:57:00</td><td>[3006712]</td><td>&quot;article_defaul…</td><td>&quot;https://ekstra…</td><td>[]</td><td>[]</td><td>[&quot;Underholdning&quot;, &quot;Film_og_tv&quot;, &quot;Økonomi&quot;]</td><td>414</td><td>[433, 434]</td><td>&quot;underholdning&quot;</td><td>null</td><td>null</td><td>null</td><td>0.846</td><td>&quot;Positive&quot;</td><td>1</td><td>5</td><td>19</td><td>116</td></tr></tbody></table></div>"
      ],
      "text/plain": [
       "shape: (2, 25)\n",
       "┌───────────┬───────────┬───────────┬───────────┬───┬───────────┬───────────┬───────────┬──────────┐\n",
       "│ article_i ┆ title     ┆ subtitle  ┆ last_modi ┆ … ┆ num_image ┆ title_len ┆ subtitle_ ┆ body_len │\n",
       "│ d         ┆ ---       ┆ ---       ┆ fied_time ┆   ┆ s         ┆ ---       ┆ len       ┆ ---      │\n",
       "│ ---       ┆ str       ┆ str       ┆ ---       ┆   ┆ ---       ┆ u8        ┆ ---       ┆ u16      │\n",
       "│ i32       ┆           ┆           ┆ datetime[ ┆   ┆ u32       ┆           ┆ u8        ┆          │\n",
       "│           ┆           ┆           ┆ μs]       ┆   ┆           ┆           ┆           ┆          │\n",
       "╞═══════════╪═══════════╪═══════════╪═══════════╪═══╪═══════════╪═══════════╪═══════════╪══════════╡\n",
       "│ 3001353   ┆ Natascha  ┆ Politiet  ┆ 2023-06-2 ┆ … ┆ 1         ┆ 5         ┆ 22        ┆ 200      │\n",
       "│           ┆ var ikke  ┆ frygter   ┆ 9         ┆   ┆           ┆           ┆           ┆          │\n",
       "│           ┆ den       ┆ nu, at    ┆ 06:20:33  ┆   ┆           ┆           ┆           ┆          │\n",
       "│           ┆ første    ┆ Natascha… ┆           ┆   ┆           ┆           ┆           ┆          │\n",
       "│ 3003065   ┆ Kun Star  ┆ Biografgæ ┆ 2023-06-2 ┆ … ┆ 1         ┆ 5         ┆ 19        ┆ 116      │\n",
       "│           ┆ Wars      ┆ ngerne    ┆ 9         ┆   ┆           ┆           ┆           ┆          │\n",
       "│           ┆ tjente    ┆ strømmer  ┆ 06:20:35  ┆   ┆           ┆           ┆           ┆          │\n",
       "│           ┆ mere      ┆ ind for…  ┆           ┆   ┆           ┆           ┆           ┆          │\n",
       "└───────────┴───────────┴───────────┴───────────┴───┴───────────┴───────────┴───────────┴──────────┘"
      ]
     },
     "execution_count": 7,
     "metadata": {},
     "output_type": "execute_result"
    }
   ],
   "source": [
    "articles = articles.with_columns(\n",
    "    pl.col('image_ids').list.len().alias('num_images'),\n",
    "    pl.col('title').str.split(by=' ').list.len().alias('title_len'),\n",
    "    pl.col('subtitle').str.split(by=' ').list.len().alias('subtitle_len'),\n",
    "    pl.col('body').str.split(by=' ').list.len().alias('body_len'),\n",
    "    # very important for tf-idf, otherwise multiple tokens for topics with spaces are built\n",
    "    pl.col('topics').list.eval(pl.element().str.split(by=' ').list.join('_')) \n",
    ")\n",
    "articles = reduce_polars_df_memory_size(articles)\n",
    "\n",
    "gc.collect()\n",
    "PrintColor(f\"\\n\" + GetMemUsage(), color = Fore.RED)\n",
    "articles.head(2)"
   ]
  },
  {
   "cell_type": "code",
   "execution_count": 8,
   "id": "b0be9c21",
   "metadata": {
    "execution": {
     "iopub.execute_input": "2024-04-07T19:48:42.149483Z",
     "iopub.status.busy": "2024-04-07T19:48:42.148556Z",
     "iopub.status.idle": "2024-04-07T19:48:42.173766Z",
     "shell.execute_reply": "2024-04-07T19:48:42.172522Z"
    },
    "papermill": {
     "duration": 0.058709,
     "end_time": "2024-04-07T19:48:42.176396",
     "exception": false,
     "start_time": "2024-04-07T19:48:42.117687",
     "status": "completed"
    },
    "tags": []
   },
   "outputs": [
    {
     "data": {
      "text/plain": [
       "['LOC', 'MISC', 'EVENT', 'PROD', 'ORG', 'PER']"
      ]
     },
     "execution_count": 8,
     "metadata": {},
     "output_type": "execute_result"
    }
   ],
   "source": [
    "unique_entities = articles.select('entity_groups').explode('entity_groups')['entity_groups'].unique().to_list()\n",
    "unique_entities = [e for e in unique_entities if e is not None]\n",
    "unique_entities"
   ]
  },
  {
   "cell_type": "code",
   "execution_count": 9,
   "id": "9b42b62f",
   "metadata": {
    "execution": {
     "iopub.execute_input": "2024-04-07T19:48:42.238647Z",
     "iopub.status.busy": "2024-04-07T19:48:42.237375Z",
     "iopub.status.idle": "2024-04-07T19:48:42.255134Z",
     "shell.execute_reply": "2024-04-07T19:48:42.254273Z"
    },
    "papermill": {
     "duration": 0.051776,
     "end_time": "2024-04-07T19:48:42.257480",
     "exception": false,
     "start_time": "2024-04-07T19:48:42.205704",
     "status": "completed"
    },
    "tags": []
   },
   "outputs": [
    {
     "data": {
      "text/plain": [
       "25"
      ]
     },
     "execution_count": 9,
     "metadata": {},
     "output_type": "execute_result"
    }
   ],
   "source": [
    "unique_categories = articles.select('category')['category'].unique().to_list()\n",
    "unique_categories = [c for c in unique_categories if c is not None]\n",
    "len(unique_categories)"
   ]
  },
  {
   "cell_type": "markdown",
   "id": "ab7063ac",
   "metadata": {
    "papermill": {
     "duration": 0.030772,
     "end_time": "2024-04-07T19:48:42.317632",
     "exception": false,
     "start_time": "2024-04-07T19:48:42.286860",
     "status": "completed"
    },
    "tags": []
   },
   "source": [
    "Mapping sentiment labels to -1, 0, 1 to save memory in the history dataframe.\n",
    "Taking only article_default type and mapping it to 0/1 since after only this is needed (and it saves memory) for the history at the moment"
   ]
  },
  {
   "cell_type": "code",
   "execution_count": 10,
   "id": "5b61273e",
   "metadata": {
    "execution": {
     "iopub.execute_input": "2024-04-07T19:48:42.381168Z",
     "iopub.status.busy": "2024-04-07T19:48:42.380413Z",
     "iopub.status.idle": "2024-04-07T19:48:42.395173Z",
     "shell.execute_reply": "2024-04-07T19:48:42.394167Z"
    },
    "papermill": {
     "duration": 0.049701,
     "end_time": "2024-04-07T19:48:42.397871",
     "exception": false,
     "start_time": "2024-04-07T19:48:42.348170",
     "status": "completed"
    },
    "tags": []
   },
   "outputs": [],
   "source": [
    "articles = articles.with_columns(\n",
    "    pl.when(pl.col('sentiment_label') == 'Negative').then(-1) \\\n",
    "        .otherwise(\n",
    "            pl.when(pl.col('sentiment_label') == 'Positive').then(1).otherwise(0)\n",
    "        ).cast(pl.Int8).alias('sentiment_label_int'),\n",
    "    (pl.col('article_type') == 'article_default').cast(pl.UInt8).alias('is_article_default')\n",
    ")"
   ]
  },
  {
   "cell_type": "markdown",
   "id": "8b69f960",
   "metadata": {
    "papermill": {
     "duration": 0.030219,
     "end_time": "2024-04-07T19:48:42.459277",
     "exception": false,
     "start_time": "2024-04-07T19:48:42.429058",
     "status": "completed"
    },
    "tags": []
   },
   "source": [
    "## Topics TF-IDF"
   ]
  },
  {
   "cell_type": "code",
   "execution_count": 11,
   "id": "ea9765aa",
   "metadata": {
    "execution": {
     "iopub.execute_input": "2024-04-07T19:48:42.519949Z",
     "iopub.status.busy": "2024-04-07T19:48:42.519499Z",
     "iopub.status.idle": "2024-04-07T19:48:42.949092Z",
     "shell.execute_reply": "2024-04-07T19:48:42.947647Z"
    },
    "papermill": {
     "duration": 0.463563,
     "end_time": "2024-04-07T19:48:42.951823",
     "exception": false,
     "start_time": "2024-04-07T19:48:42.488260",
     "status": "completed"
    },
    "tags": []
   },
   "outputs": [
    {
     "name": "stdout",
     "output_type": "stream",
     "text": [
      "\u001b[1m\u001b[31m\n",
      "RAM memory GB usage = 0.6857\u001b[0m\n"
     ]
    },
    {
     "data": {
      "text/html": [
       "<div><style>\n",
       ".dataframe > thead > tr,\n",
       ".dataframe > tbody > tr {\n",
       "  text-align: right;\n",
       "  white-space: pre-wrap;\n",
       "}\n",
       "</style>\n",
       "<small>shape: (2, 28)</small><table border=\"1\" class=\"dataframe\"><thead><tr><th>article_id</th><th>title</th><th>subtitle</th><th>last_modified_time</th><th>premium</th><th>body</th><th>published_time</th><th>image_ids</th><th>article_type</th><th>url</th><th>ner_clusters</th><th>entity_groups</th><th>topics</th><th>category</th><th>subcategory</th><th>category_str</th><th>total_inviews</th><th>total_pageviews</th><th>total_read_time</th><th>sentiment_score</th><th>sentiment_label</th><th>num_images</th><th>title_len</th><th>subtitle_len</th><th>body_len</th><th>sentiment_label_int</th><th>is_article_default</th><th>topics_idf</th></tr><tr><td>i32</td><td>str</td><td>str</td><td>datetime[μs]</td><td>bool</td><td>str</td><td>datetime[μs]</td><td>list[i64]</td><td>str</td><td>str</td><td>list[str]</td><td>list[str]</td><td>list[str]</td><td>i16</td><td>list[i16]</td><td>str</td><td>i32</td><td>i32</td><td>f32</td><td>f32</td><td>str</td><td>u32</td><td>u8</td><td>u8</td><td>u16</td><td>i8</td><td>u8</td><td>list[f32]</td></tr></thead><tbody><tr><td>3001353</td><td>&quot;Natascha var i…</td><td>&quot;Politiet frygt…</td><td>2023-06-29 06:20:33</td><td>false</td><td>&quot;Sagen om den ø…</td><td>2006-08-31 08:06:45</td><td>[3150850]</td><td>&quot;article_defaul…</td><td>&quot;https://ekstra…</td><td>[]</td><td>[]</td><td>[&quot;Kriminalitet&quot;, &quot;Personfarlig_kriminalitet&quot;]</td><td>140</td><td>[]</td><td>&quot;krimi&quot;</td><td>null</td><td>null</td><td>null</td><td>0.9955</td><td>&quot;Negative&quot;</td><td>1</td><td>5</td><td>22</td><td>200</td><td>-1</td><td>1</td><td>[0.0, 0.0, … 0.0]</td></tr><tr><td>3003065</td><td>&quot;Kun Star Wars …</td><td>&quot;Biografgængern…</td><td>2023-06-29 06:20:35</td><td>false</td><td>&quot;Vatikanet har …</td><td>2006-05-21 16:57:00</td><td>[3006712]</td><td>&quot;article_defaul…</td><td>&quot;https://ekstra…</td><td>[]</td><td>[]</td><td>[&quot;Underholdning&quot;, &quot;Film_og_tv&quot;, &quot;Økonomi&quot;]</td><td>414</td><td>[433, 434]</td><td>&quot;underholdning&quot;</td><td>null</td><td>null</td><td>null</td><td>0.846</td><td>&quot;Positive&quot;</td><td>1</td><td>5</td><td>19</td><td>116</td><td>1</td><td>1</td><td>[0.0, 0.0, … 0.536059]</td></tr></tbody></table></div>"
      ],
      "text/plain": [
       "shape: (2, 28)\n",
       "┌───────────┬───────────┬───────────┬───────────┬───┬──────────┬───────────┬───────────┬───────────┐\n",
       "│ article_i ┆ title     ┆ subtitle  ┆ last_modi ┆ … ┆ body_len ┆ sentiment ┆ is_articl ┆ topics_id │\n",
       "│ d         ┆ ---       ┆ ---       ┆ fied_time ┆   ┆ ---      ┆ _label_in ┆ e_default ┆ f         │\n",
       "│ ---       ┆ str       ┆ str       ┆ ---       ┆   ┆ u16      ┆ t         ┆ ---       ┆ ---       │\n",
       "│ i32       ┆           ┆           ┆ datetime[ ┆   ┆          ┆ ---       ┆ u8        ┆ list[f32] │\n",
       "│           ┆           ┆           ┆ μs]       ┆   ┆          ┆ i8        ┆           ┆           │\n",
       "╞═══════════╪═══════════╪═══════════╪═══════════╪═══╪══════════╪═══════════╪═══════════╪═══════════╡\n",
       "│ 3001353   ┆ Natascha  ┆ Politiet  ┆ 2023-06-2 ┆ … ┆ 200      ┆ -1        ┆ 1         ┆ [0.0,     │\n",
       "│           ┆ var ikke  ┆ frygter   ┆ 9         ┆   ┆          ┆           ┆           ┆ 0.0, …    │\n",
       "│           ┆ den       ┆ nu, at    ┆ 06:20:33  ┆   ┆          ┆           ┆           ┆ 0.0]      │\n",
       "│           ┆ første    ┆ Natascha… ┆           ┆   ┆          ┆           ┆           ┆           │\n",
       "│ 3003065   ┆ Kun Star  ┆ Biografgæ ┆ 2023-06-2 ┆ … ┆ 116      ┆ 1         ┆ 1         ┆ [0.0,     │\n",
       "│           ┆ Wars      ┆ ngerne    ┆ 9         ┆   ┆          ┆           ┆           ┆ 0.0, …    │\n",
       "│           ┆ tjente    ┆ strømmer  ┆ 06:20:35  ┆   ┆          ┆           ┆           ┆ 0.536059] │\n",
       "│           ┆ mere      ┆ ind for…  ┆           ┆   ┆          ┆           ┆           ┆           │\n",
       "└───────────┴───────────┴───────────┴───────────┴───┴──────────┴───────────┴───────────┴───────────┘"
      ]
     },
     "execution_count": 11,
     "metadata": {},
     "output_type": "execute_result"
    }
   ],
   "source": [
    "from sklearn.feature_extraction.text import TfidfVectorizer\n",
    "\n",
    "vectorizer = TfidfVectorizer()\n",
    "articles = articles.with_columns(\n",
    "    pl.Series(\n",
    "        vectorizer.fit_transform(\n",
    "            articles.with_columns(pl.col('topics').list.join(separator=' '))['topics'].to_list()\n",
    "        ).toarray().astype(np.float32)\n",
    "    ).alias('topics_idf')\n",
    ")\n",
    "\n",
    "gc.collect()\n",
    "PrintColor(f\"\\n\" + GetMemUsage(), color = Fore.RED)\n",
    "articles.head(2)"
   ]
  },
  {
   "cell_type": "code",
   "execution_count": 12,
   "id": "bc4cd2a9",
   "metadata": {
    "execution": {
     "iopub.execute_input": "2024-04-07T19:48:43.020010Z",
     "iopub.status.busy": "2024-04-07T19:48:43.018919Z",
     "iopub.status.idle": "2024-04-07T19:48:43.025878Z",
     "shell.execute_reply": "2024-04-07T19:48:43.024777Z"
    },
    "papermill": {
     "duration": 0.04433,
     "end_time": "2024-04-07T19:48:43.028255",
     "exception": false,
     "start_time": "2024-04-07T19:48:42.983925",
     "status": "completed"
    },
    "tags": []
   },
   "outputs": [
    {
     "data": {
      "text/plain": [
       "79"
      ]
     },
     "execution_count": 12,
     "metadata": {},
     "output_type": "execute_result"
    }
   ],
   "source": [
    "# without split + join with _ of the single topics this returns 94\n",
    "len(vectorizer.get_feature_names_out())"
   ]
  },
  {
   "cell_type": "markdown",
   "id": "8efc8dc6",
   "metadata": {
    "papermill": {
     "duration": 0.029041,
     "end_time": "2024-04-07T19:48:43.087457",
     "exception": false,
     "start_time": "2024-04-07T19:48:43.058416",
     "status": "completed"
    },
    "tags": []
   },
   "source": [
    "## Topic Model"
   ]
  },
  {
   "cell_type": "code",
   "execution_count": 13,
   "id": "2b686567",
   "metadata": {
    "execution": {
     "iopub.execute_input": "2024-04-07T19:48:43.213384Z",
     "iopub.status.busy": "2024-04-07T19:48:43.212647Z",
     "iopub.status.idle": "2024-04-07T19:48:44.367153Z",
     "shell.execute_reply": "2024-04-07T19:48:44.365969Z"
    },
    "papermill": {
     "duration": 1.253212,
     "end_time": "2024-04-07T19:48:44.370065",
     "exception": false,
     "start_time": "2024-04-07T19:48:43.116853",
     "status": "completed"
    },
    "tags": []
   },
   "outputs": [],
   "source": [
    "import nltk\n",
    "from sklearn.feature_extraction.text import CountVectorizer\n",
    "\n",
    "stopwords = nltk.corpus.stopwords.words('danish')\n",
    "title_vectorizer = CountVectorizer(stop_words=stopwords)\n",
    "\n",
    "titles_bow = title_vectorizer.fit_transform(articles['title'].to_list())"
   ]
  },
  {
   "cell_type": "code",
   "execution_count": 14,
   "id": "47a7baae",
   "metadata": {
    "execution": {
     "iopub.execute_input": "2024-04-07T19:48:44.433967Z",
     "iopub.status.busy": "2024-04-07T19:48:44.433036Z",
     "iopub.status.idle": "2024-04-07T19:49:19.304728Z",
     "shell.execute_reply": "2024-04-07T19:49:19.303406Z"
    },
    "papermill": {
     "duration": 34.939317,
     "end_time": "2024-04-07T19:49:19.339560",
     "exception": false,
     "start_time": "2024-04-07T19:48:44.400243",
     "status": "completed"
    },
    "tags": []
   },
   "outputs": [
    {
     "name": "stdout",
     "output_type": "stream",
     "text": [
      "CPU times: user 34.8 s, sys: 21.4 ms, total: 34.8 s\n",
      "Wall time: 34.9 s\n"
     ]
    },
    {
     "data": {
      "text/html": [
       "<div><style>\n",
       ".dataframe > thead > tr,\n",
       ".dataframe > tbody > tr {\n",
       "  text-align: right;\n",
       "  white-space: pre-wrap;\n",
       "}\n",
       "</style>\n",
       "<small>shape: (2, 29)</small><table border=\"1\" class=\"dataframe\"><thead><tr><th>article_id</th><th>title</th><th>subtitle</th><th>last_modified_time</th><th>premium</th><th>body</th><th>published_time</th><th>image_ids</th><th>article_type</th><th>url</th><th>ner_clusters</th><th>entity_groups</th><th>topics</th><th>category</th><th>subcategory</th><th>category_str</th><th>total_inviews</th><th>total_pageviews</th><th>total_read_time</th><th>sentiment_score</th><th>sentiment_label</th><th>num_images</th><th>title_len</th><th>subtitle_len</th><th>body_len</th><th>sentiment_label_int</th><th>is_article_default</th><th>topics_idf</th><th>topic_model_embeddings</th></tr><tr><td>i32</td><td>str</td><td>str</td><td>datetime[μs]</td><td>bool</td><td>str</td><td>datetime[μs]</td><td>list[i64]</td><td>str</td><td>str</td><td>list[str]</td><td>list[str]</td><td>list[str]</td><td>i16</td><td>list[i16]</td><td>str</td><td>i32</td><td>i32</td><td>f32</td><td>f32</td><td>str</td><td>u32</td><td>u8</td><td>u8</td><td>u16</td><td>i8</td><td>u8</td><td>list[f32]</td><td>array[f32, 20]</td></tr></thead><tbody><tr><td>3001353</td><td>&quot;Natascha var i…</td><td>&quot;Politiet frygt…</td><td>2023-06-29 06:20:33</td><td>false</td><td>&quot;Sagen om den ø…</td><td>2006-08-31 08:06:45</td><td>[3150850]</td><td>&quot;article_defaul…</td><td>&quot;https://ekstra…</td><td>[]</td><td>[]</td><td>[&quot;Kriminalitet&quot;, &quot;Personfarlig_kriminalitet&quot;]</td><td>140</td><td>[]</td><td>&quot;krimi&quot;</td><td>null</td><td>null</td><td>null</td><td>0.9955</td><td>&quot;Negative&quot;</td><td>1</td><td>5</td><td>22</td><td>200</td><td>-1</td><td>1</td><td>[0.0, 0.0, … 0.0]</td><td>[0.016667, 0.016667, … 0.016667]</td></tr><tr><td>3003065</td><td>&quot;Kun Star Wars …</td><td>&quot;Biografgængern…</td><td>2023-06-29 06:20:35</td><td>false</td><td>&quot;Vatikanet har …</td><td>2006-05-21 16:57:00</td><td>[3006712]</td><td>&quot;article_defaul…</td><td>&quot;https://ekstra…</td><td>[]</td><td>[]</td><td>[&quot;Underholdning&quot;, &quot;Film_og_tv&quot;, &quot;Økonomi&quot;]</td><td>414</td><td>[433, 434]</td><td>&quot;underholdning&quot;</td><td>null</td><td>null</td><td>null</td><td>0.846</td><td>&quot;Positive&quot;</td><td>1</td><td>5</td><td>19</td><td>116</td><td>1</td><td>1</td><td>[0.0, 0.0, … 0.536059]</td><td>[0.008333, 0.008333, … 0.008333]</td></tr></tbody></table></div>"
      ],
      "text/plain": [
       "shape: (2, 29)\n",
       "┌───────────┬───────────┬───────────┬───────────┬───┬───────────┬───────────┬───────────┬──────────┐\n",
       "│ article_i ┆ title     ┆ subtitle  ┆ last_modi ┆ … ┆ sentiment ┆ is_articl ┆ topics_id ┆ topic_mo │\n",
       "│ d         ┆ ---       ┆ ---       ┆ fied_time ┆   ┆ _label_in ┆ e_default ┆ f         ┆ del_embe │\n",
       "│ ---       ┆ str       ┆ str       ┆ ---       ┆   ┆ t         ┆ ---       ┆ ---       ┆ ddings   │\n",
       "│ i32       ┆           ┆           ┆ datetime[ ┆   ┆ ---       ┆ u8        ┆ list[f32] ┆ ---      │\n",
       "│           ┆           ┆           ┆ μs]       ┆   ┆ i8        ┆           ┆           ┆ array[f3 │\n",
       "│           ┆           ┆           ┆           ┆   ┆           ┆           ┆           ┆ 2, 20]   │\n",
       "╞═══════════╪═══════════╪═══════════╪═══════════╪═══╪═══════════╪═══════════╪═══════════╪══════════╡\n",
       "│ 3001353   ┆ Natascha  ┆ Politiet  ┆ 2023-06-2 ┆ … ┆ -1        ┆ 1         ┆ [0.0,     ┆ [0.01666 │\n",
       "│           ┆ var ikke  ┆ frygter   ┆ 9         ┆   ┆           ┆           ┆ 0.0, …    ┆ 7, 0.016 │\n",
       "│           ┆ den       ┆ nu, at    ┆ 06:20:33  ┆   ┆           ┆           ┆ 0.0]      ┆ 667, …   │\n",
       "│           ┆ første    ┆ Natascha… ┆           ┆   ┆           ┆           ┆           ┆ 0.016667 │\n",
       "│           ┆           ┆           ┆           ┆   ┆           ┆           ┆           ┆ ]        │\n",
       "│ 3003065   ┆ Kun Star  ┆ Biografgæ ┆ 2023-06-2 ┆ … ┆ 1         ┆ 1         ┆ [0.0,     ┆ [0.00833 │\n",
       "│           ┆ Wars      ┆ ngerne    ┆ 9         ┆   ┆           ┆           ┆ 0.0, …    ┆ 3, 0.008 │\n",
       "│           ┆ tjente    ┆ strømmer  ┆ 06:20:35  ┆   ┆           ┆           ┆ 0.536059] ┆ 333, …   │\n",
       "│           ┆ mere      ┆ ind for…  ┆           ┆   ┆           ┆           ┆           ┆ 0.008333 │\n",
       "│           ┆           ┆           ┆           ┆   ┆           ┆           ┆           ┆ ]        │\n",
       "└───────────┴───────────┴───────────┴───────────┴───┴───────────┴───────────┴───────────┴──────────┘"
      ]
     },
     "execution_count": 14,
     "metadata": {},
     "output_type": "execute_result"
    }
   ],
   "source": [
    "%%time\n",
    "\n",
    "from sklearn.decomposition import LatentDirichletAllocation\n",
    "\n",
    "lda_model = LatentDirichletAllocation(n_components=20)\n",
    "articles = articles.with_columns(\n",
    "    pl.Series(lda_model.fit_transform(titles_bow).astype(np.float32)) \\\n",
    "        .list.to_array(20).alias('topic_model_embeddings')\n",
    ")\n",
    "articles.head(2)"
   ]
  },
  {
   "cell_type": "code",
   "execution_count": 15,
   "id": "cc938c33",
   "metadata": {
    "execution": {
     "iopub.execute_input": "2024-04-07T19:49:19.401724Z",
     "iopub.status.busy": "2024-04-07T19:49:19.401314Z",
     "iopub.status.idle": "2024-04-07T19:49:19.419736Z",
     "shell.execute_reply": "2024-04-07T19:49:19.418451Z"
    },
    "papermill": {
     "duration": 0.052987,
     "end_time": "2024-04-07T19:49:19.422678",
     "exception": false,
     "start_time": "2024-04-07T19:49:19.369691",
     "status": "completed"
    },
    "tags": []
   },
   "outputs": [
    {
     "data": {
      "text/html": [
       "<div><style>\n",
       ".dataframe > thead > tr,\n",
       ".dataframe > tbody > tr {\n",
       "  text-align: right;\n",
       "  white-space: pre-wrap;\n",
       "}\n",
       "</style>\n",
       "<small>shape: (2, 48)</small><table border=\"1\" class=\"dataframe\"><thead><tr><th>article_id</th><th>title</th><th>subtitle</th><th>last_modified_time</th><th>premium</th><th>body</th><th>published_time</th><th>image_ids</th><th>article_type</th><th>url</th><th>ner_clusters</th><th>entity_groups</th><th>topics</th><th>category</th><th>subcategory</th><th>category_str</th><th>total_inviews</th><th>total_pageviews</th><th>total_read_time</th><th>sentiment_score</th><th>sentiment_label</th><th>num_images</th><th>title_len</th><th>subtitle_len</th><th>body_len</th><th>sentiment_label_int</th><th>is_article_default</th><th>topics_idf</th><th>topic_model_embedding_0</th><th>topic_model_embedding_1</th><th>topic_model_embedding_2</th><th>topic_model_embedding_3</th><th>topic_model_embedding_4</th><th>topic_model_embedding_5</th><th>topic_model_embedding_6</th><th>topic_model_embedding_7</th><th>topic_model_embedding_8</th><th>topic_model_embedding_9</th><th>topic_model_embedding_10</th><th>topic_model_embedding_11</th><th>topic_model_embedding_12</th><th>topic_model_embedding_13</th><th>topic_model_embedding_14</th><th>topic_model_embedding_15</th><th>topic_model_embedding_16</th><th>topic_model_embedding_17</th><th>topic_model_embedding_18</th><th>topic_model_embedding_19</th></tr><tr><td>i32</td><td>str</td><td>str</td><td>datetime[μs]</td><td>bool</td><td>str</td><td>datetime[μs]</td><td>list[i64]</td><td>str</td><td>str</td><td>list[str]</td><td>list[str]</td><td>list[str]</td><td>i16</td><td>list[i16]</td><td>str</td><td>i32</td><td>i32</td><td>f32</td><td>f32</td><td>str</td><td>u32</td><td>u8</td><td>u8</td><td>u16</td><td>i8</td><td>u8</td><td>list[f32]</td><td>f32</td><td>f32</td><td>f32</td><td>f32</td><td>f32</td><td>f32</td><td>f32</td><td>f32</td><td>f32</td><td>f32</td><td>f32</td><td>f32</td><td>f32</td><td>f32</td><td>f32</td><td>f32</td><td>f32</td><td>f32</td><td>f32</td><td>f32</td></tr></thead><tbody><tr><td>3001353</td><td>&quot;Natascha var i…</td><td>&quot;Politiet frygt…</td><td>2023-06-29 06:20:33</td><td>false</td><td>&quot;Sagen om den ø…</td><td>2006-08-31 08:06:45</td><td>[3150850]</td><td>&quot;article_defaul…</td><td>&quot;https://ekstra…</td><td>[]</td><td>[]</td><td>[&quot;Kriminalitet&quot;, &quot;Personfarlig_kriminalitet&quot;]</td><td>140</td><td>[]</td><td>&quot;krimi&quot;</td><td>null</td><td>null</td><td>null</td><td>0.9955</td><td>&quot;Negative&quot;</td><td>1</td><td>5</td><td>22</td><td>200</td><td>-1</td><td>1</td><td>[0.0, 0.0, … 0.0]</td><td>0.016667</td><td>0.016667</td><td>0.016667</td><td>0.016667</td><td>0.016667</td><td>0.016667</td><td>0.016667</td><td>0.016667</td><td>0.016667</td><td>0.35</td><td>0.016667</td><td>0.016667</td><td>0.016667</td><td>0.016667</td><td>0.016667</td><td>0.35</td><td>0.016667</td><td>0.016667</td><td>0.016667</td><td>0.016667</td></tr><tr><td>3003065</td><td>&quot;Kun Star Wars …</td><td>&quot;Biografgængern…</td><td>2023-06-29 06:20:35</td><td>false</td><td>&quot;Vatikanet har …</td><td>2006-05-21 16:57:00</td><td>[3006712]</td><td>&quot;article_defaul…</td><td>&quot;https://ekstra…</td><td>[]</td><td>[]</td><td>[&quot;Underholdning&quot;, &quot;Film_og_tv&quot;, &quot;Økonomi&quot;]</td><td>414</td><td>[433, 434]</td><td>&quot;underholdning&quot;</td><td>null</td><td>null</td><td>null</td><td>0.846</td><td>&quot;Positive&quot;</td><td>1</td><td>5</td><td>19</td><td>116</td><td>1</td><td>1</td><td>[0.0, 0.0, … 0.536059]</td><td>0.008333</td><td>0.008333</td><td>0.841667</td><td>0.008333</td><td>0.008333</td><td>0.008333</td><td>0.008333</td><td>0.008333</td><td>0.008333</td><td>0.008333</td><td>0.008333</td><td>0.008333</td><td>0.008333</td><td>0.008333</td><td>0.008333</td><td>0.008333</td><td>0.008333</td><td>0.008333</td><td>0.008333</td><td>0.008333</td></tr></tbody></table></div>"
      ],
      "text/plain": [
       "shape: (2, 48)\n",
       "┌───────────┬───────────┬───────────┬───────────┬───┬───────────┬───────────┬───────────┬──────────┐\n",
       "│ article_i ┆ title     ┆ subtitle  ┆ last_modi ┆ … ┆ topic_mod ┆ topic_mod ┆ topic_mod ┆ topic_mo │\n",
       "│ d         ┆ ---       ┆ ---       ┆ fied_time ┆   ┆ el_embedd ┆ el_embedd ┆ el_embedd ┆ del_embe │\n",
       "│ ---       ┆ str       ┆ str       ┆ ---       ┆   ┆ ing_16    ┆ ing_17    ┆ ing_18    ┆ dding_19 │\n",
       "│ i32       ┆           ┆           ┆ datetime[ ┆   ┆ ---       ┆ ---       ┆ ---       ┆ ---      │\n",
       "│           ┆           ┆           ┆ μs]       ┆   ┆ f32       ┆ f32       ┆ f32       ┆ f32      │\n",
       "╞═══════════╪═══════════╪═══════════╪═══════════╪═══╪═══════════╪═══════════╪═══════════╪══════════╡\n",
       "│ 3001353   ┆ Natascha  ┆ Politiet  ┆ 2023-06-2 ┆ … ┆ 0.016667  ┆ 0.016667  ┆ 0.016667  ┆ 0.016667 │\n",
       "│           ┆ var ikke  ┆ frygter   ┆ 9         ┆   ┆           ┆           ┆           ┆          │\n",
       "│           ┆ den       ┆ nu, at    ┆ 06:20:33  ┆   ┆           ┆           ┆           ┆          │\n",
       "│           ┆ første    ┆ Natascha… ┆           ┆   ┆           ┆           ┆           ┆          │\n",
       "│ 3003065   ┆ Kun Star  ┆ Biografgæ ┆ 2023-06-2 ┆ … ┆ 0.008333  ┆ 0.008333  ┆ 0.008333  ┆ 0.008333 │\n",
       "│           ┆ Wars      ┆ ngerne    ┆ 9         ┆   ┆           ┆           ┆           ┆          │\n",
       "│           ┆ tjente    ┆ strømmer  ┆ 06:20:35  ┆   ┆           ┆           ┆           ┆          │\n",
       "│           ┆ mere      ┆ ind for…  ┆           ┆   ┆           ┆           ┆           ┆          │\n",
       "└───────────┴───────────┴───────────┴───────────┴───┴───────────┴───────────┴───────────┴──────────┘"
      ]
     },
     "execution_count": 15,
     "metadata": {},
     "output_type": "execute_result"
    }
   ],
   "source": [
    "topic_model_columns = [f'topic_model_embedding_{i}' for i in range(20)]\n",
    "\n",
    "articles = articles.with_columns(\n",
    "    pl.col('topic_model_embeddings').arr.to_struct(fields=lambda i: f'topic_model_embedding_{i}')\n",
    ").with_columns([\n",
    "    pl.col('topic_model_embeddings').struct.field(f'topic_model_embedding_{i}') for i in range(20)\n",
    "]).drop('topic_model_embeddings')\n",
    "\n",
    "articles.head(2)"
   ]
  },
  {
   "cell_type": "markdown",
   "id": "669fa248",
   "metadata": {
    "papermill": {
     "duration": 0.029781,
     "end_time": "2024-04-07T19:49:19.482946",
     "exception": false,
     "start_time": "2024-04-07T19:49:19.453165",
     "status": "completed"
    },
    "tags": []
   },
   "source": [
    "# History preprocessing"
   ]
  },
  {
   "cell_type": "code",
   "execution_count": 16,
   "id": "011cac85",
   "metadata": {
    "execution": {
     "iopub.execute_input": "2024-04-07T19:49:19.545742Z",
     "iopub.status.busy": "2024-04-07T19:49:19.544700Z",
     "iopub.status.idle": "2024-04-07T19:49:19.551319Z",
     "shell.execute_reply": "2024-04-07T19:49:19.550322Z"
    },
    "papermill": {
     "duration": 0.040577,
     "end_time": "2024-04-07T19:49:19.553718",
     "exception": false,
     "start_time": "2024-04-07T19:49:19.513141",
     "status": "completed"
    },
    "tags": []
   },
   "outputs": [],
   "source": [
    "def add_topics_tf_idf_columns(df, topics_col, vectorizer):\n",
    "    return df.with_columns(\n",
    "        pl.Series(\n",
    "            vectorizer.transform(\n",
    "                df.with_columns(pl.col(topics_col).list.join(separator=' '))[topics_col].to_list()\n",
    "            ).toarray().astype(np.float32)\n",
    "        ).alias(f'{topics_col}_tf_idf')\n",
    "    )"
   ]
  },
  {
   "cell_type": "code",
   "execution_count": 17,
   "id": "cbfc8de0",
   "metadata": {
    "execution": {
     "iopub.execute_input": "2024-04-07T19:49:19.618512Z",
     "iopub.status.busy": "2024-04-07T19:49:19.617467Z",
     "iopub.status.idle": "2024-04-07T19:49:37.475263Z",
     "shell.execute_reply": "2024-04-07T19:49:37.474119Z"
    },
    "papermill": {
     "duration": 17.893102,
     "end_time": "2024-04-07T19:49:37.477820",
     "exception": false,
     "start_time": "2024-04-07T19:49:19.584718",
     "status": "completed"
    },
    "tags": []
   },
   "outputs": [
    {
     "name": "stderr",
     "output_type": "stream",
     "text": [
      "16it [00:17,  1.09s/it]                        \n"
     ]
    },
    {
     "name": "stdout",
     "output_type": "stream",
     "text": [
      "\u001b[1m\u001b[31m\n",
      "RAM memory GB usage = 0.805\u001b[0m\n",
      "Memory usage of dataframe is 39.39 MB\n",
      "Memory usage after optimization is: 38.61 MB\n",
      "Decreased by 2.0%\n",
      "CPU times: user 19.5 s, sys: 1.66 s, total: 21.2 s\n",
      "Wall time: 17.8 s\n"
     ]
    },
    {
     "data": {
      "text/html": [
       "<div><style>\n",
       ".dataframe > thead > tr,\n",
       ".dataframe > tbody > tr {\n",
       "  text-align: right;\n",
       "  white-space: pre-wrap;\n",
       "}\n",
       "</style>\n",
       "<small>shape: (2, 27)</small><table border=\"1\" class=\"dataframe\"><thead><tr><th>user_id</th><th>article_id_fixed</th><th>impression_time_fixed</th><th>category</th><th>NumArticlesHistory</th><th>MedianReadTime</th><th>MaxReadTime</th><th>TotalReadTime</th><th>MedianScrollPercentage</th><th>MaxScrollPercentage</th><th>NeutralPct</th><th>PositivePct</th><th>NegativePct</th><th>PctStrongNeutral</th><th>PctStrongPositive</th><th>PctStrongNegative</th><th>PctNotDefaultArticles</th><th>MostFrequentCategory</th><th>MostFrequentWeekday</th><th>MostFrequentHour</th><th>topics_flatten_tf_idf</th><th>LOCPct</th><th>MISCPct</th><th>EVENTPct</th><th>PRODPct</th><th>ORGPct</th><th>PERPct</th></tr><tr><td>u32</td><td>list[i32]</td><td>list[datetime[μs]]</td><td>list[i16]</td><td>u16</td><td>f32</td><td>f32</td><td>f32</td><td>f32</td><td>f32</td><td>f32</td><td>f32</td><td>f32</td><td>f32</td><td>f32</td><td>f32</td><td>f32</td><td>i16</td><td>i8</td><td>i8</td><td>list[f32]</td><td>f32</td><td>f32</td><td>f32</td><td>f32</td><td>f32</td><td>f32</td></tr></thead><tbody><tr><td>10623</td><td>[9739035, 9739065, … 9770533]</td><td>[2023-04-27 14:29:44, 2023-04-27 14:29:47, … 2023-05-17 17:36:24]</td><td>[118, 414, … 140]</td><td>143</td><td>3.0</td><td>1563.0</td><td>9623.0</td><td>42.5</td><td>100.0</td><td>0.230769</td><td>0.111888</td><td>0.657343</td><td>0.097902</td><td>0.083916</td><td>0.608392</td><td>0.06993</td><td>118</td><td>3</td><td>16</td><td>[0.016041, 0.062928, … 0.178427]</td><td>0.804196</td><td>0.223776</td><td>0.202797</td><td>0.237762</td><td>0.888112</td><td>0.874126</td></tr><tr><td>12016</td><td>[9738216, 9735383, … 9769622]</td><td>[2023-04-27 07:39:48, 2023-04-27 07:41:30, … 2023-05-17 23:56:30]</td><td>[140, 118, … 140]</td><td>264</td><td>156.0</td><td>1775.0</td><td>63672.0</td><td>100.0</td><td>100.0</td><td>0.257576</td><td>0.075758</td><td>0.666667</td><td>0.106061</td><td>0.034091</td><td>0.602273</td><td>0.07197</td><td>140</td><td>5</td><td>20</td><td>[0.009749, 0.045896, … 0.075912]</td><td>0.776515</td><td>0.117424</td><td>0.087121</td><td>0.318182</td><td>0.852273</td><td>0.787879</td></tr></tbody></table></div>"
      ],
      "text/plain": [
       "shape: (2, 27)\n",
       "┌─────────┬─────────────┬─────────────┬────────────┬───┬──────────┬──────────┬──────────┬──────────┐\n",
       "│ user_id ┆ article_id_ ┆ impression_ ┆ category   ┆ … ┆ EVENTPct ┆ PRODPct  ┆ ORGPct   ┆ PERPct   │\n",
       "│ ---     ┆ fixed       ┆ time_fixed  ┆ ---        ┆   ┆ ---      ┆ ---      ┆ ---      ┆ ---      │\n",
       "│ u32     ┆ ---         ┆ ---         ┆ list[i16]  ┆   ┆ f32      ┆ f32      ┆ f32      ┆ f32      │\n",
       "│         ┆ list[i32]   ┆ list[dateti ┆            ┆   ┆          ┆          ┆          ┆          │\n",
       "│         ┆             ┆ me[μs]]     ┆            ┆   ┆          ┆          ┆          ┆          │\n",
       "╞═════════╪═════════════╪═════════════╪════════════╪═══╪══════════╪══════════╪══════════╪══════════╡\n",
       "│ 10623   ┆ [9739035,   ┆ [2023-04-27 ┆ [118, 414, ┆ … ┆ 0.202797 ┆ 0.237762 ┆ 0.888112 ┆ 0.874126 │\n",
       "│         ┆ 9739065, …  ┆ 14:29:44,   ┆ … 140]     ┆   ┆          ┆          ┆          ┆          │\n",
       "│         ┆ 9770533]    ┆ 2023-04-27… ┆            ┆   ┆          ┆          ┆          ┆          │\n",
       "│ 12016   ┆ [9738216,   ┆ [2023-04-27 ┆ [140, 118, ┆ … ┆ 0.087121 ┆ 0.318182 ┆ 0.852273 ┆ 0.787879 │\n",
       "│         ┆ 9735383, …  ┆ 07:39:48,   ┆ … 140]     ┆   ┆          ┆          ┆          ┆          │\n",
       "│         ┆ 9769622]    ┆ 2023-04-27… ┆            ┆   ┆          ┆          ┆          ┆          │\n",
       "└─────────┴─────────────┴─────────────┴────────────┴───┴──────────┴──────────┴──────────┴──────────┘"
      ]
     },
     "execution_count": 17,
     "metadata": {},
     "output_type": "execute_result"
    }
   ],
   "source": [
    "%%time\n",
    "\n",
    "STRONG_THR = 0.8\n",
    "\n",
    "history_train = pl.concat(\n",
    "    rows.with_columns(pl.col('article_id_fixed').list.len().alias('NumArticlesHistory')) \\\n",
    "        .explode(['article_id_fixed', 'impression_time_fixed', 'read_time_fixed', 'scroll_percentage_fixed']) \\\n",
    "        .sort(by=['user_id', 'impression_time_fixed']) \\\n",
    "        .with_columns(\n",
    "            pl.col('impression_time_fixed').dt.weekday().alias('weekday'),\n",
    "            pl.col('impression_time_fixed').dt.hour().alias('hour'),\n",
    "        ).join(articles.select(['article_id', 'category', 'is_article_default', 'sentiment_label_int', \n",
    "                                'sentiment_score', 'entity_groups', 'topics']), \n",
    "               left_on='article_id_fixed', right_on='article_id', how='left') \\\n",
    "        .with_columns(\n",
    "            (pl.col('sentiment_label_int') == 0).alias('is_neutral'),\n",
    "            (pl.col('sentiment_label_int') == 1).alias('is_positive'),\n",
    "            (pl.col('sentiment_label_int') == -1).alias('is_negative'),\n",
    "            ((pl.col('sentiment_label_int') == 0) & (pl.col('sentiment_score') > STRONG_THR)).alias('strong_neutral'),\n",
    "            ((pl.col('sentiment_label_int') == 1) & (pl.col('sentiment_score') > STRONG_THR)).alias('strong_positive'),\n",
    "            ((pl.col('sentiment_label_int') == -1) & (pl.col('sentiment_score') > STRONG_THR)).alias('strong_negative'),\n",
    "            pl.col('entity_groups').list.unique(),\n",
    "        ).group_by('user_id').agg(\n",
    "            pl.col('article_id_fixed'),\n",
    "            pl.col('impression_time_fixed'),\n",
    "            pl.col('category'),\n",
    "            pl.col('NumArticlesHistory').first(),\n",
    "            pl.col('read_time_fixed').median().alias('MedianReadTime'),\n",
    "            pl.col('read_time_fixed').max().alias('MaxReadTime'),\n",
    "            pl.col('read_time_fixed').sum().alias('TotalReadTime'),\n",
    "            pl.col('scroll_percentage_fixed').median().alias('MedianScrollPercentage'),\n",
    "            pl.col('scroll_percentage_fixed').max().alias('MaxScrollPercentage'),\n",
    "            (pl.col('is_neutral').sum() / pl.col('NumArticlesHistory').first()).alias('NeutralPct'),\n",
    "            (pl.col('is_positive').sum() / pl.col('NumArticlesHistory').first()).alias('PositivePct'),\n",
    "            (pl.col('is_negative').sum() / pl.col('NumArticlesHistory').first()).alias('NegativePct'),\n",
    "            (pl.col('strong_neutral').sum() / pl.col('NumArticlesHistory').first()).alias('PctStrongNeutral'),\n",
    "            (pl.col('strong_positive').sum() / pl.col('NumArticlesHistory').first()).alias('PctStrongPositive'),\n",
    "            (pl.col('strong_negative').sum() / pl.col('NumArticlesHistory').first()).alias('PctStrongNegative'),\n",
    "            (1 - (pl.col('is_article_default').sum() / pl.col('NumArticlesHistory').first())).alias('PctNotDefaultArticles'),\n",
    "            pl.col('category').mode().alias('MostFrequentCategory'),\n",
    "            pl.col('weekday').mode().alias('MostFrequentWeekday'),\n",
    "            pl.col('hour').mode().alias('MostFrequentHour'),\n",
    "            pl.col('entity_groups').flatten(),\n",
    "            pl.col('topics').flatten().alias('topics_flatten')\n",
    "        ).pipe(add_topics_tf_idf_columns, topics_col='topics_flatten', vectorizer=vectorizer) \\\n",
    "        .drop('topics_flatten').with_columns(\n",
    "            pl.col('MostFrequentCategory').list.first(),\n",
    "            pl.col('MostFrequentWeekday').list.first(),\n",
    "            pl.col('MostFrequentHour').list.first(),\n",
    "        ).with_columns(\n",
    "            (pl.col('entity_groups').list.count_matches(entity) / pl.col('NumArticlesHistory')).alias(f'{entity}Pct')\n",
    "            for entity in unique_entities\n",
    "        ).drop('entity_groups')\n",
    "    for rows in tqdm.tqdm(history_train.iter_slices(1000), total=history_train.shape[0] // 1000)\n",
    ")\n",
    "\n",
    "gc.collect()\n",
    "PrintColor(f\"\\n\" + GetMemUsage(), color = Fore.RED)\n",
    "history_train = reduce_polars_df_memory_size(history_train)\n",
    "history_train.head(2)"
   ]
  },
  {
   "cell_type": "code",
   "execution_count": 18,
   "id": "e7efe07e",
   "metadata": {
    "execution": {
     "iopub.execute_input": "2024-04-07T19:49:37.544803Z",
     "iopub.status.busy": "2024-04-07T19:49:37.543911Z",
     "iopub.status.idle": "2024-04-07T19:49:37.551322Z",
     "shell.execute_reply": "2024-04-07T19:49:37.550190Z"
    },
    "papermill": {
     "duration": 0.043383,
     "end_time": "2024-04-07T19:49:37.553667",
     "exception": false,
     "start_time": "2024-04-07T19:49:37.510284",
     "status": "completed"
    },
    "tags": []
   },
   "outputs": [
    {
     "data": {
      "text/plain": [
       "(15143, 27)"
      ]
     },
     "execution_count": 18,
     "metadata": {},
     "output_type": "execute_result"
    }
   ],
   "source": [
    "history_train.shape"
   ]
  },
  {
   "cell_type": "markdown",
   "id": "0bdc62d2",
   "metadata": {
    "papermill": {
     "duration": 0.034216,
     "end_time": "2024-04-07T19:49:37.620891",
     "exception": false,
     "start_time": "2024-04-07T19:49:37.586675",
     "status": "completed"
    },
    "tags": []
   },
   "source": [
    "# Named entity collaborative filtering"
   ]
  },
  {
   "cell_type": "code",
   "execution_count": 19,
   "id": "5df82d15",
   "metadata": {
    "execution": {
     "iopub.execute_input": "2024-04-07T19:49:37.688826Z",
     "iopub.status.busy": "2024-04-07T19:49:37.687683Z",
     "iopub.status.idle": "2024-04-07T19:49:37.790283Z",
     "shell.execute_reply": "2024-04-07T19:49:37.789015Z"
    },
    "papermill": {
     "duration": 0.139501,
     "end_time": "2024-04-07T19:49:37.793408",
     "exception": false,
     "start_time": "2024-04-07T19:49:37.653907",
     "status": "completed"
    },
    "tags": []
   },
   "outputs": [],
   "source": [
    "user_id_mapping = history_train.sort('user_id').with_row_index() \\\n",
    "    .select(['index', 'user_id']).rename({'index': 'user_index'})\n",
    "\n",
    "ner_mapping = articles.select(['ner_clusters']) \\\n",
    "    .explode('ner_clusters') \\\n",
    "    .rename({'ner_clusters': 'ner'}) \\\n",
    "    .with_columns(pl.col('ner').str.strip_chars_start('\\\" ').str.to_lowercase()) \\\n",
    "    .unique('ner').drop_nulls().filter(pl.col('ner').str.len_chars() > 0) \\\n",
    "    .sort('ner').with_row_index().rename({'index': 'ner_index'})"
   ]
  },
  {
   "cell_type": "code",
   "execution_count": 20,
   "id": "7a4ffd3e",
   "metadata": {
    "execution": {
     "iopub.execute_input": "2024-04-07T19:49:37.863849Z",
     "iopub.status.busy": "2024-04-07T19:49:37.863007Z",
     "iopub.status.idle": "2024-04-07T19:49:53.503814Z",
     "shell.execute_reply": "2024-04-07T19:49:53.502504Z"
    },
    "papermill": {
     "duration": 15.679582,
     "end_time": "2024-04-07T19:49:53.507224",
     "exception": false,
     "start_time": "2024-04-07T19:49:37.827642",
     "status": "completed"
    },
    "tags": []
   },
   "outputs": [],
   "source": [
    "ner_interactions = history_train.select(['user_id', 'article_id_fixed']).explode('article_id_fixed') \\\n",
    "    .join(articles.select(['article_id', 'ner_clusters']), left_on='article_id_fixed', right_on='article_id', how='left') \\\n",
    "    .explode('ner_clusters').unique(['user_id', 'ner_clusters']) \\\n",
    "    .with_columns(pl.col('ner_clusters').str.strip_chars_start('\\\" ').str.to_lowercase()) \\\n",
    "    .join(user_id_mapping, on='user_id', how='left') \\\n",
    "    .join(ner_mapping, left_on='ner_clusters', right_on='ner') \\\n",
    "    .select(['user_index', 'ner_index', 'user_id', 'article_id_fixed']) \\\n",
    "    .unique(['user_index', 'ner_index'])\n",
    "\n",
    "URM_ner = sps.csr_matrix((np.ones(ner_interactions.shape[0]),\n",
    "                          (ner_interactions['user_index'].to_numpy(), ner_interactions['ner_index'].to_numpy())),\n",
    "                         shape=(user_id_mapping.shape[0], ner_mapping.shape[0]))\n",
    "\n",
    "ner_interactions_test = behaviors_train.select(['user_id', 'article_ids_clicked']).explode('article_ids_clicked') \\\n",
    "    .join(articles.select(['article_id', 'ner_clusters']), left_on='article_ids_clicked', right_on='article_id', how='left') \\\n",
    "    .explode('ner_clusters').unique(['user_id', 'ner_clusters']) \\\n",
    "    .with_columns(pl.col('ner_clusters').str.strip_chars_start('\\\" ').str.to_lowercase()) \\\n",
    "    .join(user_id_mapping, on='user_id', how='left') \\\n",
    "    .join(ner_mapping, left_on='ner_clusters', right_on='ner') \\\n",
    "    .select(['user_index', 'ner_index', 'user_id', 'article_ids_clicked']) \\\n",
    "    .unique(['user_index', 'ner_index'])\n",
    "\n",
    "URM_ner_test = sps.csr_matrix((np.ones(ner_interactions_test.shape[0]),\n",
    "                               (ner_interactions_test['user_index'].to_numpy(), ner_interactions_test['ner_index'].to_numpy())),\n",
    "                              shape=(user_id_mapping.shape[0], ner_mapping.shape[0]))"
   ]
  },
  {
   "cell_type": "code",
   "execution_count": 21,
   "id": "ebf3185d",
   "metadata": {
    "execution": {
     "iopub.execute_input": "2024-04-07T19:49:53.594817Z",
     "iopub.status.busy": "2024-04-07T19:49:53.594002Z",
     "iopub.status.idle": "2024-04-07T19:55:20.503834Z",
     "shell.execute_reply": "2024-04-07T19:55:20.502508Z"
    },
    "papermill": {
     "duration": 326.956668,
     "end_time": "2024-04-07T19:55:20.506658",
     "exception": false,
     "start_time": "2024-04-07T19:49:53.549990",
     "status": "completed"
    },
    "tags": []
   },
   "outputs": [
    {
     "name": "stdout",
     "output_type": "stream",
     "text": [
      "/kaggle/working/RecSys_Course_AT_PoliMi\n",
      "ItemKNNCFRecommender: URM Detected 1 ( 0.0%) users with no interactions.\n",
      "ItemKNNCFRecommender: URM Detected 18909 (43.2%) items with no interactions.\n",
      "Unable to load Cython Compute_Similarity, reverting to Python\n",
      "Similarity column 43774 (100.0%), 155.54 column/sec. Elapsed time 4.69 min\n",
      "EvaluatorHoldout: Ignoring 31 ( 0.2%) Users that have less than 1 test interactions\n",
      "EvaluatorHoldout: Processed 15112 (100.0%) in 44.30 sec. Users per second: 341\n"
     ]
    },
    {
     "data": {
      "text/html": [
       "<div>\n",
       "<style scoped>\n",
       "    .dataframe tbody tr th:only-of-type {\n",
       "        vertical-align: middle;\n",
       "    }\n",
       "\n",
       "    .dataframe tbody tr th {\n",
       "        vertical-align: top;\n",
       "    }\n",
       "\n",
       "    .dataframe thead th {\n",
       "        text-align: right;\n",
       "    }\n",
       "</style>\n",
       "<table border=\"1\" class=\"dataframe\">\n",
       "  <thead>\n",
       "    <tr style=\"text-align: right;\">\n",
       "      <th></th>\n",
       "      <th>PRECISION</th>\n",
       "      <th>PRECISION_RECALL_MIN_DEN</th>\n",
       "      <th>RECALL</th>\n",
       "      <th>MAP</th>\n",
       "      <th>MAP_MIN_DEN</th>\n",
       "      <th>MRR</th>\n",
       "      <th>NDCG</th>\n",
       "      <th>F1</th>\n",
       "      <th>HIT_RATE</th>\n",
       "      <th>ARHR_ALL_HITS</th>\n",
       "      <th>...</th>\n",
       "      <th>COVERAGE_USER</th>\n",
       "      <th>COVERAGE_USER_HIT</th>\n",
       "      <th>USERS_IN_GT</th>\n",
       "      <th>DIVERSITY_GINI</th>\n",
       "      <th>SHANNON_ENTROPY</th>\n",
       "      <th>RATIO_DIVERSITY_HERFINDAHL</th>\n",
       "      <th>RATIO_DIVERSITY_GINI</th>\n",
       "      <th>RATIO_SHANNON_ENTROPY</th>\n",
       "      <th>RATIO_AVERAGE_POPULARITY</th>\n",
       "      <th>RATIO_NOVELTY</th>\n",
       "    </tr>\n",
       "    <tr>\n",
       "      <th>cutoff</th>\n",
       "      <th></th>\n",
       "      <th></th>\n",
       "      <th></th>\n",
       "      <th></th>\n",
       "      <th></th>\n",
       "      <th></th>\n",
       "      <th></th>\n",
       "      <th></th>\n",
       "      <th></th>\n",
       "      <th></th>\n",
       "      <th></th>\n",
       "      <th></th>\n",
       "      <th></th>\n",
       "      <th></th>\n",
       "      <th></th>\n",
       "      <th></th>\n",
       "      <th></th>\n",
       "      <th></th>\n",
       "      <th></th>\n",
       "      <th></th>\n",
       "      <th></th>\n",
       "    </tr>\n",
       "  </thead>\n",
       "  <tbody>\n",
       "    <tr>\n",
       "      <th>10</th>\n",
       "      <td>0.311971</td>\n",
       "      <td>0.312913</td>\n",
       "      <td>0.030088</td>\n",
       "      <td>0.214433</td>\n",
       "      <td>0.214676</td>\n",
       "      <td>0.469902</td>\n",
       "      <td>0.319612</td>\n",
       "      <td>0.054883</td>\n",
       "      <td>0.766609</td>\n",
       "      <td>0.953152</td>\n",
       "      <td>...</td>\n",
       "      <td>0.997953</td>\n",
       "      <td>0.76504</td>\n",
       "      <td>0.997953</td>\n",
       "      <td>0.002086</td>\n",
       "      <td>5.362616</td>\n",
       "      <td>0.952586</td>\n",
       "      <td>0.016842</td>\n",
       "      <td>0.419597</td>\n",
       "      <td>3.357942</td>\n",
       "      <td>0.009295</td>\n",
       "    </tr>\n",
       "  </tbody>\n",
       "</table>\n",
       "<p>1 rows × 27 columns</p>\n",
       "</div>"
      ],
      "text/plain": [
       "       PRECISION PRECISION_RECALL_MIN_DEN    RECALL       MAP MAP_MIN_DEN  \\\n",
       "cutoff                                                                      \n",
       "10      0.311971                 0.312913  0.030088  0.214433    0.214676   \n",
       "\n",
       "             MRR      NDCG        F1  HIT_RATE ARHR_ALL_HITS  ...  \\\n",
       "cutoff                                                        ...   \n",
       "10      0.469902  0.319612  0.054883  0.766609      0.953152  ...   \n",
       "\n",
       "       COVERAGE_USER COVERAGE_USER_HIT USERS_IN_GT DIVERSITY_GINI  \\\n",
       "cutoff                                                              \n",
       "10          0.997953           0.76504    0.997953       0.002086   \n",
       "\n",
       "       SHANNON_ENTROPY RATIO_DIVERSITY_HERFINDAHL RATIO_DIVERSITY_GINI  \\\n",
       "cutoff                                                                   \n",
       "10            5.362616                   0.952586             0.016842   \n",
       "\n",
       "       RATIO_SHANNON_ENTROPY RATIO_AVERAGE_POPULARITY RATIO_NOVELTY  \n",
       "cutoff                                                               \n",
       "10                  0.419597                 3.357942      0.009295  \n",
       "\n",
       "[1 rows x 27 columns]"
      ]
     },
     "execution_count": 21,
     "metadata": {},
     "output_type": "execute_result"
    }
   ],
   "source": [
    "%cd /kaggle/working/RecSys_Course_AT_PoliMi\n",
    "\n",
    "from Recommenders.SLIM.SLIMElasticNetRecommender import SLIMElasticNetRecommender\n",
    "from Recommenders.KNN.ItemKNNCFRecommender import ItemKNNCFRecommender\n",
    "from Recommenders.MatrixFactorization.PureSVDRecommender import PureSVDRecommender\n",
    "from Evaluation.Evaluator import EvaluatorHoldout\n",
    "\n",
    "np.int = int\n",
    "np.random.seed(42)\n",
    "np.bool = bool\n",
    "np.float = float\n",
    "\n",
    "item_knn = ItemKNNCFRecommender(URM_ner)\n",
    "item_knn.fit(topK=100, similarity='jaccard')\n",
    "\n",
    "evaluator = EvaluatorHoldout(URM_ner_test, cutoff_list=[10], exclude_seen=False)\n",
    "result_df, _ = evaluator.evaluateRecommender(item_knn)\n",
    "result_df"
   ]
  },
  {
   "cell_type": "code",
   "execution_count": 22,
   "id": "2a659460",
   "metadata": {
    "execution": {
     "iopub.execute_input": "2024-04-07T19:55:20.580643Z",
     "iopub.status.busy": "2024-04-07T19:55:20.579929Z",
     "iopub.status.idle": "2024-04-07T19:55:49.306259Z",
     "shell.execute_reply": "2024-04-07T19:55:49.304355Z"
    },
    "papermill": {
     "duration": 28.765196,
     "end_time": "2024-04-07T19:55:49.309036",
     "exception": false,
     "start_time": "2024-04-07T19:55:20.543840",
     "status": "completed"
    },
    "tags": []
   },
   "outputs": [
    {
     "name": "stdout",
     "output_type": "stream",
     "text": [
      "PureSVDRecommender: URM Detected 1 ( 0.0%) users with no interactions.\n",
      "PureSVDRecommender: URM Detected 18909 (43.2%) items with no interactions.\n",
      "PureSVDRecommender: Computing SVD decomposition...\n",
      "PureSVDRecommender: Computing SVD decomposition... done in 4.88 sec\n",
      "EvaluatorHoldout: Processed 15112 (100.0%) in 23.44 sec. Users per second: 645\n"
     ]
    },
    {
     "data": {
      "text/html": [
       "<div>\n",
       "<style scoped>\n",
       "    .dataframe tbody tr th:only-of-type {\n",
       "        vertical-align: middle;\n",
       "    }\n",
       "\n",
       "    .dataframe tbody tr th {\n",
       "        vertical-align: top;\n",
       "    }\n",
       "\n",
       "    .dataframe thead th {\n",
       "        text-align: right;\n",
       "    }\n",
       "</style>\n",
       "<table border=\"1\" class=\"dataframe\">\n",
       "  <thead>\n",
       "    <tr style=\"text-align: right;\">\n",
       "      <th></th>\n",
       "      <th>PRECISION</th>\n",
       "      <th>PRECISION_RECALL_MIN_DEN</th>\n",
       "      <th>RECALL</th>\n",
       "      <th>MAP</th>\n",
       "      <th>MAP_MIN_DEN</th>\n",
       "      <th>MRR</th>\n",
       "      <th>NDCG</th>\n",
       "      <th>F1</th>\n",
       "      <th>HIT_RATE</th>\n",
       "      <th>ARHR_ALL_HITS</th>\n",
       "      <th>...</th>\n",
       "      <th>COVERAGE_USER</th>\n",
       "      <th>COVERAGE_USER_HIT</th>\n",
       "      <th>USERS_IN_GT</th>\n",
       "      <th>DIVERSITY_GINI</th>\n",
       "      <th>SHANNON_ENTROPY</th>\n",
       "      <th>RATIO_DIVERSITY_HERFINDAHL</th>\n",
       "      <th>RATIO_DIVERSITY_GINI</th>\n",
       "      <th>RATIO_SHANNON_ENTROPY</th>\n",
       "      <th>RATIO_AVERAGE_POPULARITY</th>\n",
       "      <th>RATIO_NOVELTY</th>\n",
       "    </tr>\n",
       "    <tr>\n",
       "      <th>cutoff</th>\n",
       "      <th></th>\n",
       "      <th></th>\n",
       "      <th></th>\n",
       "      <th></th>\n",
       "      <th></th>\n",
       "      <th></th>\n",
       "      <th></th>\n",
       "      <th></th>\n",
       "      <th></th>\n",
       "      <th></th>\n",
       "      <th></th>\n",
       "      <th></th>\n",
       "      <th></th>\n",
       "      <th></th>\n",
       "      <th></th>\n",
       "      <th></th>\n",
       "      <th></th>\n",
       "      <th></th>\n",
       "      <th></th>\n",
       "      <th></th>\n",
       "      <th></th>\n",
       "    </tr>\n",
       "  </thead>\n",
       "  <tbody>\n",
       "    <tr>\n",
       "      <th>10</th>\n",
       "      <td>0.342628</td>\n",
       "      <td>0.345141</td>\n",
       "      <td>0.048661</td>\n",
       "      <td>0.261759</td>\n",
       "      <td>0.263204</td>\n",
       "      <td>0.670397</td>\n",
       "      <td>0.392258</td>\n",
       "      <td>0.085219</td>\n",
       "      <td>0.858655</td>\n",
       "      <td>1.275579</td>\n",
       "      <td>...</td>\n",
       "      <td>0.997953</td>\n",
       "      <td>0.856898</td>\n",
       "      <td>0.997953</td>\n",
       "      <td>0.001871</td>\n",
       "      <td>5.929536</td>\n",
       "      <td>0.95823</td>\n",
       "      <td>0.015104</td>\n",
       "      <td>0.463956</td>\n",
       "      <td>3.324192</td>\n",
       "      <td>0.009294</td>\n",
       "    </tr>\n",
       "  </tbody>\n",
       "</table>\n",
       "<p>1 rows × 27 columns</p>\n",
       "</div>"
      ],
      "text/plain": [
       "       PRECISION PRECISION_RECALL_MIN_DEN    RECALL       MAP MAP_MIN_DEN  \\\n",
       "cutoff                                                                      \n",
       "10      0.342628                 0.345141  0.048661  0.261759    0.263204   \n",
       "\n",
       "             MRR      NDCG        F1  HIT_RATE ARHR_ALL_HITS  ...  \\\n",
       "cutoff                                                        ...   \n",
       "10      0.670397  0.392258  0.085219  0.858655      1.275579  ...   \n",
       "\n",
       "       COVERAGE_USER COVERAGE_USER_HIT USERS_IN_GT DIVERSITY_GINI  \\\n",
       "cutoff                                                              \n",
       "10          0.997953          0.856898    0.997953       0.001871   \n",
       "\n",
       "       SHANNON_ENTROPY RATIO_DIVERSITY_HERFINDAHL RATIO_DIVERSITY_GINI  \\\n",
       "cutoff                                                                   \n",
       "10            5.929536                    0.95823             0.015104   \n",
       "\n",
       "       RATIO_SHANNON_ENTROPY RATIO_AVERAGE_POPULARITY RATIO_NOVELTY  \n",
       "cutoff                                                               \n",
       "10                  0.463956                 3.324192      0.009294  \n",
       "\n",
       "[1 rows x 27 columns]"
      ]
     },
     "execution_count": 22,
     "metadata": {},
     "output_type": "execute_result"
    }
   ],
   "source": [
    "pure_svd = PureSVDRecommender(URM_ner)\n",
    "pure_svd.fit(num_factors=20)\n",
    "\n",
    "result_df, _ = evaluator.evaluateRecommender(pure_svd)\n",
    "result_df"
   ]
  },
  {
   "cell_type": "code",
   "execution_count": 23,
   "id": "93fa7c7c",
   "metadata": {
    "execution": {
     "iopub.execute_input": "2024-04-07T19:55:49.381191Z",
     "iopub.status.busy": "2024-04-07T19:55:49.380746Z",
     "iopub.status.idle": "2024-04-07T19:57:52.250741Z",
     "shell.execute_reply": "2024-04-07T19:57:52.249561Z"
    },
    "papermill": {
     "duration": 122.943129,
     "end_time": "2024-04-07T19:57:52.286155",
     "exception": false,
     "start_time": "2024-04-07T19:55:49.343026",
     "status": "completed"
    },
    "tags": []
   },
   "outputs": [
    {
     "name": "stdout",
     "output_type": "stream",
     "text": [
      "CPU times: user 4min 22s, sys: 3min 9s, total: 7min 32s\n",
      "Wall time: 2min 2s\n"
     ]
    },
    {
     "data": {
      "text/html": [
       "<div><style>\n",
       ".dataframe > thead > tr,\n",
       ".dataframe > tbody > tr {\n",
       "  text-align: right;\n",
       "  white-space: pre-wrap;\n",
       "}\n",
       "</style>\n",
       "<small>shape: (5, 8)</small><table border=\"1\" class=\"dataframe\"><thead><tr><th>impression_id</th><th>article</th><th>total_ner_svd_scores</th><th>mean_ner_svd_scores</th><th>max_ner_svd_scores</th><th>total_ner_item_knn_scores</th><th>mean_ner_item_knn_scores</th><th>max_ner_item_knn_scores</th></tr><tr><td>u32</td><td>i32</td><td>f32</td><td>f32</td><td>f32</td><td>f32</td><td>f32</td><td>f32</td></tr></thead><tbody><tr><td>149474</td><td>9778669</td><td>0.007555</td><td>0.013851</td><td>0.04108</td><td>0.007325</td><td>0.013429</td><td>0.050482</td></tr><tr><td>150528</td><td>9778745</td><td>0.638643</td><td>0.821112</td><td>0.87827</td><td>0.527327</td><td>0.677992</td><td>0.988353</td></tr><tr><td>150528</td><td>9778669</td><td>0.108071</td><td>0.162107</td><td>0.566887</td><td>0.059618</td><td>0.089428</td><td>0.383036</td></tr><tr><td>150528</td><td>9778769</td><td>0.98223</td><td>0.803643</td><td>0.866619</td><td>0.701276</td><td>0.573771</td><td>0.993969</td></tr><tr><td>153068</td><td>9776259</td><td>0.346461</td><td>0.230974</td><td>0.802595</td><td>0.285289</td><td>0.190193</td><td>0.984188</td></tr></tbody></table></div>"
      ],
      "text/plain": [
       "shape: (5, 8)\n",
       "┌────────────┬─────────┬────────────┬────────────┬────────────┬────────────┬───────────┬───────────┐\n",
       "│ impression ┆ article ┆ total_ner_ ┆ mean_ner_s ┆ max_ner_sv ┆ total_ner_ ┆ mean_ner_ ┆ max_ner_i │\n",
       "│ _id        ┆ ---     ┆ svd_scores ┆ vd_scores  ┆ d_scores   ┆ item_knn_s ┆ item_knn_ ┆ tem_knn_s │\n",
       "│ ---        ┆ i32     ┆ ---        ┆ ---        ┆ ---        ┆ cores      ┆ scores    ┆ cores     │\n",
       "│ u32        ┆         ┆ f32        ┆ f32        ┆ f32        ┆ ---        ┆ ---       ┆ ---       │\n",
       "│            ┆         ┆            ┆            ┆            ┆ f32        ┆ f32       ┆ f32       │\n",
       "╞════════════╪═════════╪════════════╪════════════╪════════════╪════════════╪═══════════╪═══════════╡\n",
       "│ 149474     ┆ 9778669 ┆ 0.007555   ┆ 0.013851   ┆ 0.04108    ┆ 0.007325   ┆ 0.013429  ┆ 0.050482  │\n",
       "│ 150528     ┆ 9778745 ┆ 0.638643   ┆ 0.821112   ┆ 0.87827    ┆ 0.527327   ┆ 0.677992  ┆ 0.988353  │\n",
       "│ 150528     ┆ 9778669 ┆ 0.108071   ┆ 0.162107   ┆ 0.566887   ┆ 0.059618   ┆ 0.089428  ┆ 0.383036  │\n",
       "│ 150528     ┆ 9778769 ┆ 0.98223    ┆ 0.803643   ┆ 0.866619   ┆ 0.701276   ┆ 0.573771  ┆ 0.993969  │\n",
       "│ 153068     ┆ 9776259 ┆ 0.346461   ┆ 0.230974   ┆ 0.802595   ┆ 0.285289   ┆ 0.190193  ┆ 0.984188  │\n",
       "└────────────┴─────────┴────────────┴────────────┴────────────┴────────────┴───────────┴───────────┘"
      ]
     },
     "execution_count": 23,
     "metadata": {},
     "output_type": "execute_result"
    }
   ],
   "source": [
    "%%time\n",
    "\n",
    "def get_inview_scores(user_ners_df, recommender, f_name):\n",
    "    user_index = user_ners_df['user_index'].to_list()[0]\n",
    "    ners = user_ners_df['ner_index'].to_numpy()\n",
    "    scores = recommender._compute_item_score([user_index], ners)[0, ners]\n",
    "    return user_ners_df.with_columns(\n",
    "        pl.Series(scores).alias(f_name)\n",
    "    )\n",
    "\n",
    "ner_inview_scores = behaviors_train.select(['user_id', 'article_ids_inview']).explode('article_ids_inview') \\\n",
    "    .join(articles.select(['article_id', 'ner_clusters']), left_on='article_ids_inview', right_on='article_id', how='left') \\\n",
    "    .explode('ner_clusters').unique(['user_id', 'ner_clusters']) \\\n",
    "    .with_columns(pl.col('ner_clusters').str.strip_chars_start('\\\" ').str.to_lowercase()) \\\n",
    "    .join(user_id_mapping, on='user_id', how='left') \\\n",
    "    .join(ner_mapping, left_on='ner_clusters', right_on='ner') \\\n",
    "    .select(['user_index', 'ner_index', 'user_id', 'article_ids_inview']) \\\n",
    "    .unique(['user_index', 'ner_index']) \\\n",
    "    .sort(['user_index', 'ner_index']).group_by('user_index').map_groups(\n",
    "        lambda user_df: user_df.pipe(get_inview_scores, recommender=pure_svd, f_name='pure_svd_scores') \\\n",
    "            .pipe(get_inview_scores, recommender=item_knn, f_name='item_knn_scores')\n",
    "    )\n",
    "\n",
    "behaviors_ner_scores = behaviors_train.select(['impression_id', 'user_id', 'article_ids_inview']).explode('article_ids_inview') \\\n",
    "    .join(ner_inview_scores, on=['user_id', 'article_ids_inview'], how='left') \\\n",
    "    .with_columns(pl.col(['pure_svd_scores', 'item_knn_scores']).fill_null(0)) \\\n",
    "    .group_by(['impression_id', 'article_ids_inview']).agg(\n",
    "        pl.col('pure_svd_scores').sum().alias('total_ner_svd_scores'),\n",
    "        pl.col('pure_svd_scores').mean().alias('mean_ner_svd_scores'),\n",
    "        pl.col('pure_svd_scores').max().alias('max_ner_svd_scores'),\n",
    "        pl.col('item_knn_scores').sum().alias('total_ner_item_knn_scores'),\n",
    "        pl.col('item_knn_scores').mean().alias('mean_ner_item_knn_scores'),\n",
    "        pl.col('item_knn_scores').max().alias('max_ner_item_knn_scores'),\n",
    "    ).with_columns(\n",
    "        pl.col(['total_ner_svd_scores', 'mean_ner_svd_scores', \n",
    "                'total_ner_item_knn_scores', 'mean_ner_item_knn_scores',\n",
    "                'max_ner_svd_scores', 'max_ner_item_knn_scores']).max().over('impression_id').name.suffix('_max')\n",
    "    ).with_columns(\n",
    "        # l1 normalization\n",
    "        pl.col('total_ner_svd_scores').truediv(pl.col('total_ner_svd_scores_max')),\n",
    "        pl.col('mean_ner_svd_scores').truediv(pl.col('mean_ner_svd_scores_max')),\n",
    "        pl.col('max_ner_svd_scores').truediv(pl.col('max_ner_svd_scores_max')),\n",
    "        pl.col('total_ner_item_knn_scores').truediv(pl.col('total_ner_item_knn_scores_max')),\n",
    "        pl.col('mean_ner_item_knn_scores').truediv(pl.col('mean_ner_item_knn_scores_max')),\n",
    "        pl.col('max_ner_item_knn_scores').truediv(pl.col('max_ner_item_knn_scores_max')),\n",
    "    ).drop(['total_ner_svd_scores_max', 'mean_ner_svd_scores_max', \n",
    "            'max_ner_svd_scores_max', 'total_ner_item_knn_scores_max',\n",
    "            'mean_ner_item_knn_scores_max', 'max_ner_item_knn_scores_max']) \\\n",
    "    .rename({'article_ids_inview': 'article'})\n",
    "behaviors_ner_scores.head(5)"
   ]
  },
  {
   "cell_type": "code",
   "execution_count": 24,
   "id": "802fa78c",
   "metadata": {
    "execution": {
     "iopub.execute_input": "2024-04-07T19:57:52.359287Z",
     "iopub.status.busy": "2024-04-07T19:57:52.358584Z",
     "iopub.status.idle": "2024-04-07T19:57:52.590554Z",
     "shell.execute_reply": "2024-04-07T19:57:52.589349Z"
    },
    "papermill": {
     "duration": 0.271442,
     "end_time": "2024-04-07T19:57:52.592944",
     "exception": false,
     "start_time": "2024-04-07T19:57:52.321502",
     "status": "completed"
    },
    "tags": []
   },
   "outputs": [
    {
     "data": {
      "text/plain": [
       "0"
      ]
     },
     "execution_count": 24,
     "metadata": {},
     "output_type": "execute_result"
    }
   ],
   "source": [
    "del URM_ner\n",
    "del URM_ner_test\n",
    "del ner_inview_scores\n",
    "del ner_interactions\n",
    "del ner_interactions_test\n",
    "gc.collect()"
   ]
  },
  {
   "cell_type": "markdown",
   "id": "3fb96238",
   "metadata": {
    "papermill": {
     "duration": 0.03386,
     "end_time": "2024-04-07T19:57:52.661659",
     "exception": false,
     "start_time": "2024-04-07T19:57:52.627799",
     "status": "completed"
    },
    "tags": []
   },
   "source": [
    "# Creating Training Dataframe"
   ]
  },
  {
   "cell_type": "code",
   "execution_count": 25,
   "id": "0154ccbe",
   "metadata": {
    "execution": {
     "iopub.execute_input": "2024-04-07T19:57:52.733212Z",
     "iopub.status.busy": "2024-04-07T19:57:52.732361Z",
     "iopub.status.idle": "2024-04-07T19:58:52.453766Z",
     "shell.execute_reply": "2024-04-07T19:58:52.452592Z"
    },
    "papermill": {
     "duration": 59.784969,
     "end_time": "2024-04-07T19:58:52.481323",
     "exception": false,
     "start_time": "2024-04-07T19:57:52.696354",
     "status": "completed"
    },
    "tags": []
   },
   "outputs": [
    {
     "name": "stdout",
     "output_type": "stream",
     "text": [
      "\u001b[1m\u001b[31m\n",
      "RAM memory GB usage = 1.592\u001b[0m\n",
      "Memory usage of dataframe is 115.91 MB\n",
      "Memory usage after optimization is: 90.56 MB\n",
      "Decreased by 21.9%\n",
      "\u001b[1m\u001b[31m\n",
      "RAM memory GB usage = 1.583\u001b[0m\n",
      "CPU times: user 2min 51s, sys: 10.7 s, total: 3min 1s\n",
      "Wall time: 59.7 s\n"
     ]
    },
    {
     "data": {
      "text/html": [
       "<div><style>\n",
       ".dataframe > thead > tr,\n",
       ".dataframe > tbody > tr {\n",
       "  text-align: right;\n",
       "  white-space: pre-wrap;\n",
       "}\n",
       "</style>\n",
       "<small>shape: (5, 45)</small><table border=\"1\" class=\"dataframe\"><thead><tr><th>impression_id</th><th>article</th><th>user_id</th><th>impression_time</th><th>target</th><th>device_type</th><th>read_time</th><th>scroll_percentage</th><th>is_sso_user</th><th>gender</th><th>age</th><th>is_subscriber</th><th>session_id</th><th>mean_topics_mean_delay_days</th><th>mean_topics_mean_delay_hours</th><th>user_mean_delay_days</th><th>user_mean_delay_hours</th><th>trendiness_score</th><th>mean_user_trendiness_score</th><th>mean_topics_trendiness_score</th><th>weekday</th><th>hour</th><th>premium</th><th>published_time</th><th>category</th><th>sentiment_score</th><th>sentiment_label</th><th>num_images</th><th>title_len</th><th>subtitle_len</th><th>body_len</th><th>article_delay_days</th><th>article_delay_hours</th><th>Entity_LOC_Present</th><th>Entity_MISC_Present</th><th>Entity_EVENT_Present</th><th>Entity_PROD_Present</th><th>Entity_ORG_Present</th><th>Entity_PER_Present</th><th>total_ner_svd_scores</th><th>mean_ner_svd_scores</th><th>max_ner_svd_scores</th><th>total_ner_item_knn_scores</th><th>mean_ner_item_knn_scores</th><th>max_ner_item_knn_scores</th></tr><tr><td>u32</td><td>i32</td><td>u32</td><td>datetime[μs]</td><td>i8</td><td>i8</td><td>f32</td><td>f32</td><td>bool</td><td>i8</td><td>i8</td><td>bool</td><td>u32</td><td>f32</td><td>f32</td><td>f32</td><td>f32</td><td>f32</td><td>f32</td><td>f32</td><td>i8</td><td>i8</td><td>bool</td><td>datetime[μs]</td><td>i16</td><td>f32</td><td>str</td><td>u32</td><td>u8</td><td>u8</td><td>u16</td><td>i16</td><td>i32</td><td>bool</td><td>bool</td><td>bool</td><td>bool</td><td>bool</td><td>bool</td><td>f32</td><td>f32</td><td>f32</td><td>f32</td><td>f32</td><td>f32</td></tr></thead><tbody><tr><td>150528</td><td>9778669</td><td>143471</td><td>2023-05-24 07:33:25</td><td>0</td><td>2</td><td>25.0</td><td>null</td><td>false</td><td>2</td><td>null</td><td>false</td><td>1240</td><td>5.383747</td><td>131.56778</td><td>8.973029</td><td>217.933609</td><td>2.551282</td><td>3.077535</td><td>4.058423</td><td>3</td><td>7</td><td>false</td><td>2023-05-24 06:09:26</td><td>118</td><td>0.9481</td><td>&quot;Negative&quot;</td><td>1</td><td>5</td><td>11</td><td>150</td><td>0</td><td>1</td><td>false</td><td>false</td><td>false</td><td>true</td><td>true</td><td>true</td><td>0.108071</td><td>0.162107</td><td>0.566887</td><td>0.059618</td><td>0.089428</td><td>0.383036</td></tr><tr><td>153075</td><td>9777034</td><td>151570</td><td>2023-05-24 07:13:58</td><td>1</td><td>1</td><td>26.0</td><td>100.0</td><td>false</td><td>2</td><td>null</td><td>false</td><td>1976</td><td>27.989809</td><td>674.930847</td><td>1.484877</td><td>37.41399</td><td>2.128205</td><td>3.21481</td><td>2.260757</td><td>3</td><td>7</td><td>false</td><td>2023-05-24 04:56:39</td><td>414</td><td>0.8756</td><td>&quot;Negative&quot;</td><td>1</td><td>8</td><td>21</td><td>336</td><td>0</td><td>2</td><td>false</td><td>false</td><td>false</td><td>true</td><td>true</td><td>true</td><td>0.349681</td><td>0.599453</td><td>0.725925</td><td>0.18241</td><td>0.319725</td><td>0.362944</td></tr><tr><td>155587</td><td>9778375</td><td>161621</td><td>2023-05-24 07:56:30</td><td>1</td><td>1</td><td>50.0</td><td>100.0</td><td>false</td><td>2</td><td>null</td><td>false</td><td>3625</td><td>6.949092</td><td>169.176773</td><td>6.861461</td><td>169.377838</td><td>2.423077</td><td>2.497998</td><td>2.033925</td><td>3</td><td>7</td><td>false</td><td>2023-05-23 22:16:14</td><td>118</td><td>0.9979</td><td>&quot;Negative&quot;</td><td>0</td><td>10</td><td>18</td><td>296</td><td>0</td><td>9</td><td>true</td><td>false</td><td>false</td><td>false</td><td>true</td><td>false</td><td>0.363022</td><td>0.944532</td><td>0.803921</td><td>0.369391</td><td>0.884181</td><td>0.963914</td></tr><tr><td>155588</td><td>9778745</td><td>161621</td><td>2023-05-24 07:51:14</td><td>0</td><td>1</td><td>24.0</td><td>100.0</td><td>false</td><td>2</td><td>null</td><td>false</td><td>3625</td><td>8.495423</td><td>207.266083</td><td>6.861461</td><td>169.377838</td><td>0.192308</td><td>2.497998</td><td>2.428072</td><td>3</td><td>7</td><td>false</td><td>2023-05-24 07:25:35</td><td>2975</td><td>0.7965</td><td>&quot;Positive&quot;</td><td>1</td><td>7</td><td>19</td><td>255</td><td>0</td><td>0</td><td>true</td><td>true</td><td>false</td><td>false</td><td>true</td><td>true</td><td>0.79187</td><td>1.0</td><td>1.0</td><td>0.859009</td><td>0.932982</td><td>1.0</td></tr><tr><td>155589</td><td>9777307</td><td>161621</td><td>2023-05-24 07:57:21</td><td>0</td><td>1</td><td>119.0</td><td>100.0</td><td>false</td><td>2</td><td>null</td><td>false</td><td>3625</td><td>3.357256</td><td>82.522667</td><td>6.861461</td><td>169.377838</td><td>0.128205</td><td>2.497998</td><td>2.42218</td><td>3</td><td>7</td><td>false</td><td>2023-05-23 19:29:25</td><td>457</td><td>0.6071</td><td>&quot;Positive&quot;</td><td>1</td><td>9</td><td>12</td><td>252</td><td>0</td><td>12</td><td>false</td><td>false</td><td>false</td><td>true</td><td>true</td><td>true</td><td>0.044544</td><td>0.048322</td><td>0.126072</td><td>0.057712</td><td>0.052228</td><td>0.148453</td></tr></tbody></table></div>"
      ],
      "text/plain": [
       "shape: (5, 45)\n",
       "┌────────────┬─────────┬─────────┬────────────┬───┬────────────┬───────────┬───────────┬───────────┐\n",
       "│ impression ┆ article ┆ user_id ┆ impression ┆ … ┆ max_ner_sv ┆ total_ner ┆ mean_ner_ ┆ max_ner_i │\n",
       "│ _id        ┆ ---     ┆ ---     ┆ _time      ┆   ┆ d_scores   ┆ _item_knn ┆ item_knn_ ┆ tem_knn_s │\n",
       "│ ---        ┆ i32     ┆ u32     ┆ ---        ┆   ┆ ---        ┆ _scores   ┆ scores    ┆ cores     │\n",
       "│ u32        ┆         ┆         ┆ datetime[μ ┆   ┆ f32        ┆ ---       ┆ ---       ┆ ---       │\n",
       "│            ┆         ┆         ┆ s]         ┆   ┆            ┆ f32       ┆ f32       ┆ f32       │\n",
       "╞════════════╪═════════╪═════════╪════════════╪═══╪════════════╪═══════════╪═══════════╪═══════════╡\n",
       "│ 150528     ┆ 9778669 ┆ 143471  ┆ 2023-05-24 ┆ … ┆ 0.566887   ┆ 0.059618  ┆ 0.089428  ┆ 0.383036  │\n",
       "│            ┆         ┆         ┆ 07:33:25   ┆   ┆            ┆           ┆           ┆           │\n",
       "│ 153075     ┆ 9777034 ┆ 151570  ┆ 2023-05-24 ┆ … ┆ 0.725925   ┆ 0.18241   ┆ 0.319725  ┆ 0.362944  │\n",
       "│            ┆         ┆         ┆ 07:13:58   ┆   ┆            ┆           ┆           ┆           │\n",
       "│ 155587     ┆ 9778375 ┆ 161621  ┆ 2023-05-24 ┆ … ┆ 0.803921   ┆ 0.369391  ┆ 0.884181  ┆ 0.963914  │\n",
       "│            ┆         ┆         ┆ 07:56:30   ┆   ┆            ┆           ┆           ┆           │\n",
       "│ 155588     ┆ 9778745 ┆ 161621  ┆ 2023-05-24 ┆ … ┆ 1.0        ┆ 0.859009  ┆ 0.932982  ┆ 1.0       │\n",
       "│            ┆         ┆         ┆ 07:51:14   ┆   ┆            ┆           ┆           ┆           │\n",
       "│ 155589     ┆ 9777307 ┆ 161621  ┆ 2023-05-24 ┆ … ┆ 0.126072   ┆ 0.057712  ┆ 0.052228  ┆ 0.148453  │\n",
       "│            ┆         ┆         ┆ 07:57:21   ┆   ┆            ┆           ┆           ┆           │\n",
       "└────────────┴─────────┴─────────┴────────────┴───┴────────────┴───────────┴───────────┴───────────┘"
      ]
     },
     "execution_count": 25,
     "metadata": {},
     "output_type": "execute_result"
    }
   ],
   "source": [
    "%%time\n",
    "\n",
    "NPRATIO = 2\n",
    "\n",
    "# dropping duplicates that can occur because of sampling strategy\n",
    "train_ds = behaviors_train.pipe(sampling_strategy_wu2019, npratio=NPRATIO, shuffle=False, \n",
    "                                with_replacement=True, seed=123) \\\n",
    "    .pipe(create_binary_labels_column, shuffle=True, seed=123) \\\n",
    "    .with_columns(pl.col('gender').fill_null(2)) \\\n",
    "    .select(['impression_id', 'article_ids_inview', 'impression_time', 'labels', \n",
    "             'device_type', 'read_time', 'scroll_percentage', 'user_id', 'is_sso_user', 'gender',\n",
    "             'age', 'is_subscriber', 'session_id']) \\\n",
    "    .explode(['article_ids_inview', 'labels']) \\\n",
    "    .rename({'article_ids_inview': 'article', 'labels': 'target'}) \\\n",
    "    .with_columns(pl.col('article').cast(pl.Int32)) \\\n",
    "    .pipe(add_mean_delays_features, articles=articles, history=history_train) \\\n",
    "    .pipe(add_trendiness_feature, articles=articles, period='3d') \\\n",
    "    .pipe(add_history_trendiness_scores_feature, history=history_train, articles=articles) \\\n",
    "    .unique(['impression_id', 'article']) \\\n",
    "    .with_columns(\n",
    "        pl.col('impression_time').dt.weekday().alias('weekday'),\n",
    "        pl.col('impression_time').dt.hour().alias('hour'),\n",
    "        pl.col('article').cast(pl.Int32),\n",
    "    ).join(articles.select(['article_id', 'premium', 'published_time', 'category',\n",
    "                            'sentiment_score', 'sentiment_label', 'entity_groups',\n",
    "                            'num_images', 'title_len', 'subtitle_len', 'body_len']),\n",
    "           left_on='article', right_on='article_id', how='left') \\\n",
    "    .with_columns(\n",
    "        (pl.col('impression_time') - pl.col('published_time')).dt.total_days().alias('article_delay_days'),\n",
    "        (pl.col('impression_time') - pl.col('published_time')).dt.total_hours().alias('article_delay_hours')\n",
    "    ).with_columns(\n",
    "        pl.col('entity_groups').list.contains(entity).alias(f'Entity_{entity}_Present')\n",
    "        for entity in unique_entities\n",
    "    ).drop('entity_groups') \\\n",
    "    .join(behaviors_ner_scores, on=['impression_id', 'article'], how='left')\n",
    "\n",
    "gc.collect()\n",
    "PrintColor(f\"\\n\" + GetMemUsage(), color = Fore.RED)\n",
    "\n",
    "train_ds = reduce_polars_df_memory_size(train_ds)\n",
    "PrintColor(f\"\\n\" + GetMemUsage(), color = Fore.RED)\n",
    "train_ds.head()"
   ]
  },
  {
   "cell_type": "code",
   "execution_count": 26,
   "id": "d6b9e81b",
   "metadata": {
    "execution": {
     "iopub.execute_input": "2024-04-07T19:58:52.553066Z",
     "iopub.status.busy": "2024-04-07T19:58:52.552658Z",
     "iopub.status.idle": "2024-04-07T19:58:52.560468Z",
     "shell.execute_reply": "2024-04-07T19:58:52.559241Z"
    },
    "papermill": {
     "duration": 0.046636,
     "end_time": "2024-04-07T19:58:52.562905",
     "exception": false,
     "start_time": "2024-04-07T19:58:52.516269",
     "status": "completed"
    },
    "tags": []
   },
   "outputs": [
    {
     "data": {
      "text/plain": [
       "(699537, 45)"
      ]
     },
     "execution_count": 26,
     "metadata": {},
     "output_type": "execute_result"
    }
   ],
   "source": [
    "train_ds.shape"
   ]
  },
  {
   "cell_type": "markdown",
   "id": "1116e878",
   "metadata": {
    "papermill": {
     "duration": 0.03543,
     "end_time": "2024-04-07T19:58:52.633500",
     "exception": false,
     "start_time": "2024-04-07T19:58:52.598070",
     "status": "completed"
    },
    "tags": []
   },
   "source": [
    "## Session Features"
   ]
  },
  {
   "cell_type": "code",
   "execution_count": 27,
   "id": "f1f7a66a",
   "metadata": {
    "execution": {
     "iopub.execute_input": "2024-04-07T19:58:52.706509Z",
     "iopub.status.busy": "2024-04-07T19:58:52.706087Z",
     "iopub.status.idle": "2024-04-07T19:58:52.712616Z",
     "shell.execute_reply": "2024-04-07T19:58:52.711235Z"
    },
    "papermill": {
     "duration": 0.04573,
     "end_time": "2024-04-07T19:58:52.714999",
     "exception": false,
     "start_time": "2024-04-07T19:58:52.669269",
     "status": "completed"
    },
    "tags": []
   },
   "outputs": [],
   "source": [
    "# behaviors_train.select(['session_id', 'impression_time', 'article_ids_clicked']) \\\n",
    "#     .group_by('session_id').map_groups(\n",
    "#         lambda group: group.explode('article_ids_clicked').sort('impression_time') \\\n",
    "#             .select(\n",
    "#                 pl.col('session_id').first(),\n",
    "#                 pl.col('article_ids_clicked').first().alias('article_id'),\n",
    "#                 (pl.col('impression_time').last() - pl.col('impression_time').first()).dt.total_minutes().alias('induced_session_len'),\n",
    "#                 (pl.col('impression_time').count() - 1).alias('num_clicked_articles_following')\n",
    "#             )\n",
    "#     ).group_by('article_id').agg(\n",
    "#         pl.col('num_clicked_articles_following').mean().alias('mean_num_clicked_articles_following'),\n",
    "#         pl.col('induced_session_len').mean().alias('mean_induced_session_len'),\n",
    "#     )"
   ]
  },
  {
   "cell_type": "code",
   "execution_count": 28,
   "id": "3a3d80b0",
   "metadata": {
    "execution": {
     "iopub.execute_input": "2024-04-07T19:58:52.787494Z",
     "iopub.status.busy": "2024-04-07T19:58:52.787076Z",
     "iopub.status.idle": "2024-04-07T19:58:54.143946Z",
     "shell.execute_reply": "2024-04-07T19:58:54.142706Z"
    },
    "papermill": {
     "duration": 1.396486,
     "end_time": "2024-04-07T19:58:54.146808",
     "exception": false,
     "start_time": "2024-04-07T19:58:52.750322",
     "status": "completed"
    },
    "tags": []
   },
   "outputs": [
    {
     "name": "stdout",
     "output_type": "stream",
     "text": [
      "\u001b[1m\u001b[31m\n",
      "RAM memory GB usage = 1.536\u001b[0m\n",
      "CPU times: user 1.68 s, sys: 84.6 ms, total: 1.76 s\n",
      "Wall time: 1.34 s\n"
     ]
    },
    {
     "data": {
      "text/html": [
       "<div><style>\n",
       ".dataframe > thead > tr,\n",
       ".dataframe > tbody > tr {\n",
       "  text-align: right;\n",
       "  white-space: pre-wrap;\n",
       "}\n",
       "</style>\n",
       "<small>shape: (2, 5)</small><table border=\"1\" class=\"dataframe\"><thead><tr><th>session_id</th><th>last_session_time</th><th>last_session_duration</th><th>all_seen_articles</th><th>mean_prev_sessions_duration</th></tr><tr><td>u32</td><td>datetime[μs]</td><td>i64</td><td>list[i32]</td><td>f64</td></tr></thead><tbody><tr><td>1982980</td><td>2023-05-17 14:29:51</td><td>0</td><td>[9769641]</td><td>0.0</td></tr><tr><td>905453</td><td>2023-05-18 06:34:46</td><td>0</td><td>[9770533]</td><td>0.0</td></tr></tbody></table></div>"
      ],
      "text/plain": [
       "shape: (2, 5)\n",
       "┌────────────┬─────────────────────┬─────────────────────┬───────────────────┬─────────────────────┐\n",
       "│ session_id ┆ last_session_time   ┆ last_session_durati ┆ all_seen_articles ┆ mean_prev_sessions_ │\n",
       "│ ---        ┆ ---                 ┆ on                  ┆ ---               ┆ duration            │\n",
       "│ u32        ┆ datetime[μs]        ┆ ---                 ┆ list[i32]         ┆ ---                 │\n",
       "│            ┆                     ┆ i64                 ┆                   ┆ f64                 │\n",
       "╞════════════╪═════════════════════╪═════════════════════╪═══════════════════╪═════════════════════╡\n",
       "│ 1982980    ┆ 2023-05-17 14:29:51 ┆ 0                   ┆ [9769641]         ┆ 0.0                 │\n",
       "│ 905453     ┆ 2023-05-18 06:34:46 ┆ 0                   ┆ [9770533]         ┆ 0.0                 │\n",
       "└────────────┴─────────────────────┴─────────────────────┴───────────────────┴─────────────────────┘"
      ]
     },
     "execution_count": 28,
     "metadata": {},
     "output_type": "execute_result"
    }
   ],
   "source": [
    "%%time\n",
    "\n",
    "last_history_df = history_train.with_columns(\n",
    "    pl.col('impression_time_fixed').list.max().alias('last_history_impression_time'),\n",
    "    pl.col('article_id_fixed').list.tail(1).alias('last_history_article'),\n",
    ").select(['user_id', 'last_history_impression_time', 'last_history_article'])\n",
    "\n",
    "last_session_time_df = behaviors_train.select(['session_id', 'user_id', 'impression_time', 'article_ids_inview']) \\\n",
    "    .group_by('session_id').agg(\n",
    "        pl.col('user_id').first(), \n",
    "        pl.col('impression_time').max().alias('session_time'), \n",
    "        pl.col('article_ids_inview').flatten().alias('all_seen_articles'),\n",
    "        (pl.col('impression_time').max() - pl.col('impression_time').min()).dt.total_minutes().alias('session_duration'),\n",
    "    ).with_columns(\n",
    "        pl.col(['session_time', 'session_duration']).shift(1).over('user_id').name.prefix('last_'),\n",
    "        pl.col('all_seen_articles').list.unique().shift(1).over('user_id'),\n",
    "        pl.col('session_duration').rolling_mean(100, min_periods=1).over('user_id').alias('mean_prev_sessions_duration'),\n",
    "    ).with_columns(pl.col(['last_session_duration']).fill_null(0)) \\\n",
    "    .join(last_history_df, on='user_id', how='left') \\\n",
    "    .with_columns(\n",
    "        pl.col('last_session_time').fill_null(pl.col('last_history_impression_time')),\n",
    "        pl.col('all_seen_articles').fill_null(pl.col('last_history_article')),\n",
    "    ).select(['session_id', 'last_session_time', 'last_session_duration', \n",
    "              'all_seen_articles', 'mean_prev_sessions_duration'])\n",
    "    \n",
    "gc.collect()\n",
    "PrintColor(f\"\\n\" + GetMemUsage(), color = Fore.RED)\n",
    "last_session_time_df.head(2)"
   ]
  },
  {
   "cell_type": "code",
   "execution_count": 29,
   "id": "8bcb7372",
   "metadata": {
    "execution": {
     "iopub.execute_input": "2024-04-07T19:58:54.222095Z",
     "iopub.status.busy": "2024-04-07T19:58:54.221311Z",
     "iopub.status.idle": "2024-04-07T19:58:54.958498Z",
     "shell.execute_reply": "2024-04-07T19:58:54.957228Z"
    },
    "papermill": {
     "duration": 0.776817,
     "end_time": "2024-04-07T19:58:54.961203",
     "exception": false,
     "start_time": "2024-04-07T19:58:54.184386",
     "status": "completed"
    },
    "tags": []
   },
   "outputs": [
    {
     "name": "stdout",
     "output_type": "stream",
     "text": [
      "\u001b[1m\u001b[31m\n",
      "RAM memory GB usage = 1.596\u001b[0m\n"
     ]
    },
    {
     "data": {
      "text/html": [
       "<div><style>\n",
       ".dataframe > thead > tr,\n",
       ".dataframe > tbody > tr {\n",
       "  text-align: right;\n",
       "  white-space: pre-wrap;\n",
       "}\n",
       "</style>\n",
       "<small>shape: (2, 48)</small><table border=\"1\" class=\"dataframe\"><thead><tr><th>impression_id</th><th>article</th><th>user_id</th><th>impression_time</th><th>target</th><th>device_type</th><th>read_time</th><th>scroll_percentage</th><th>is_sso_user</th><th>gender</th><th>age</th><th>is_subscriber</th><th>mean_topics_mean_delay_days</th><th>mean_topics_mean_delay_hours</th><th>user_mean_delay_days</th><th>user_mean_delay_hours</th><th>trendiness_score</th><th>mean_user_trendiness_score</th><th>mean_topics_trendiness_score</th><th>weekday</th><th>hour</th><th>premium</th><th>category</th><th>sentiment_score</th><th>sentiment_label</th><th>num_images</th><th>title_len</th><th>subtitle_len</th><th>body_len</th><th>article_delay_days</th><th>article_delay_hours</th><th>Entity_LOC_Present</th><th>Entity_MISC_Present</th><th>Entity_EVENT_Present</th><th>Entity_PROD_Present</th><th>Entity_ORG_Present</th><th>Entity_PER_Present</th><th>total_ner_svd_scores</th><th>mean_ner_svd_scores</th><th>max_ner_svd_scores</th><th>total_ner_item_knn_scores</th><th>mean_ner_item_knn_scores</th><th>max_ner_item_knn_scores</th><th>last_session_duration</th><th>mean_prev_sessions_duration</th><th>last_session_time_hour_diff</th><th>is_new_article</th><th>is_already_seen_article</th></tr><tr><td>u32</td><td>i32</td><td>u32</td><td>datetime[μs]</td><td>i8</td><td>i8</td><td>f32</td><td>f32</td><td>bool</td><td>i8</td><td>i8</td><td>bool</td><td>f32</td><td>f32</td><td>f32</td><td>f32</td><td>f32</td><td>f32</td><td>f32</td><td>i8</td><td>i8</td><td>bool</td><td>i16</td><td>f32</td><td>str</td><td>u32</td><td>u8</td><td>u8</td><td>u16</td><td>i16</td><td>i32</td><td>bool</td><td>bool</td><td>bool</td><td>bool</td><td>bool</td><td>bool</td><td>f32</td><td>f32</td><td>f32</td><td>f32</td><td>f32</td><td>f32</td><td>i64</td><td>f64</td><td>i64</td><td>bool</td><td>bool</td></tr></thead><tbody><tr><td>150528</td><td>9778669</td><td>143471</td><td>2023-05-24 07:33:25</td><td>0</td><td>2</td><td>25.0</td><td>null</td><td>false</td><td>2</td><td>null</td><td>false</td><td>5.383747</td><td>131.56778</td><td>8.973029</td><td>217.933609</td><td>2.551282</td><td>3.077535</td><td>4.058423</td><td>3</td><td>7</td><td>false</td><td>118</td><td>0.9481</td><td>&quot;Negative&quot;</td><td>1</td><td>5</td><td>11</td><td>150</td><td>0</td><td>1</td><td>false</td><td>false</td><td>false</td><td>true</td><td>true</td><td>true</td><td>0.108071</td><td>0.162107</td><td>0.566887</td><td>0.059618</td><td>0.089428</td><td>0.383036</td><td>0</td><td>0.428571</td><td>82</td><td>false</td><td>false</td></tr><tr><td>153075</td><td>9777034</td><td>151570</td><td>2023-05-24 07:13:58</td><td>1</td><td>1</td><td>26.0</td><td>100.0</td><td>false</td><td>2</td><td>null</td><td>false</td><td>27.989809</td><td>674.930847</td><td>1.484877</td><td>37.41399</td><td>2.128205</td><td>3.21481</td><td>2.260757</td><td>3</td><td>7</td><td>false</td><td>414</td><td>0.8756</td><td>&quot;Negative&quot;</td><td>1</td><td>8</td><td>21</td><td>336</td><td>0</td><td>2</td><td>false</td><td>false</td><td>false</td><td>true</td><td>true</td><td>true</td><td>0.349681</td><td>0.599453</td><td>0.725925</td><td>0.18241</td><td>0.319725</td><td>0.362944</td><td>0</td><td>4.047619</td><td>58</td><td>false</td><td>false</td></tr></tbody></table></div>"
      ],
      "text/plain": [
       "shape: (2, 48)\n",
       "┌────────────┬─────────┬─────────┬────────────┬───┬────────────┬───────────┬───────────┬───────────┐\n",
       "│ impression ┆ article ┆ user_id ┆ impression ┆ … ┆ mean_prev_ ┆ last_sess ┆ is_new_ar ┆ is_alread │\n",
       "│ _id        ┆ ---     ┆ ---     ┆ _time      ┆   ┆ sessions_d ┆ ion_time_ ┆ ticle     ┆ y_seen_ar │\n",
       "│ ---        ┆ i32     ┆ u32     ┆ ---        ┆   ┆ uration    ┆ hour_diff ┆ ---       ┆ ticle     │\n",
       "│ u32        ┆         ┆         ┆ datetime[μ ┆   ┆ ---        ┆ ---       ┆ bool      ┆ ---       │\n",
       "│            ┆         ┆         ┆ s]         ┆   ┆ f64        ┆ i64       ┆           ┆ bool      │\n",
       "╞════════════╪═════════╪═════════╪════════════╪═══╪════════════╪═══════════╪═══════════╪═══════════╡\n",
       "│ 150528     ┆ 9778669 ┆ 143471  ┆ 2023-05-24 ┆ … ┆ 0.428571   ┆ 82        ┆ false     ┆ false     │\n",
       "│            ┆         ┆         ┆ 07:33:25   ┆   ┆            ┆           ┆           ┆           │\n",
       "│ 153075     ┆ 9777034 ┆ 151570  ┆ 2023-05-24 ┆ … ┆ 4.047619   ┆ 58        ┆ false     ┆ false     │\n",
       "│            ┆         ┆         ┆ 07:13:58   ┆   ┆            ┆           ┆           ┆           │\n",
       "└────────────┴─────────┴─────────┴────────────┴───┴────────────┴───────────┴───────────┴───────────┘"
      ]
     },
     "execution_count": 29,
     "metadata": {},
     "output_type": "execute_result"
    }
   ],
   "source": [
    "train_ds = train_ds.join(last_session_time_df, on='session_id', how='left').with_columns(\n",
    "    (pl.col('impression_time') - pl.col('last_session_time')).dt.total_hours().alias('last_session_time_hour_diff'),\n",
    "    ((pl.col('last_session_time') - pl.col('published_time')).dt.total_hours() > 0).alias('is_new_article'),\n",
    "    pl.col('all_seen_articles').list.contains(pl.col('article')).alias('is_already_seen_article'),\n",
    ").drop(['published_time', 'session_id', 'all_seen_articles', 'last_session_time'])\n",
    "\n",
    "gc.collect()\n",
    "PrintColor(f\"\\n\" + GetMemUsage(), color = Fore.RED)\n",
    "train_ds.head(2)"
   ]
  },
  {
   "cell_type": "code",
   "execution_count": 30,
   "id": "47c54092",
   "metadata": {
    "execution": {
     "iopub.execute_input": "2024-04-07T19:58:55.035759Z",
     "iopub.status.busy": "2024-04-07T19:58:55.035319Z",
     "iopub.status.idle": "2024-04-07T19:58:55.044240Z",
     "shell.execute_reply": "2024-04-07T19:58:55.042923Z"
    },
    "papermill": {
     "duration": 0.049409,
     "end_time": "2024-04-07T19:58:55.046812",
     "exception": false,
     "start_time": "2024-04-07T19:58:54.997403",
     "status": "completed"
    },
    "tags": []
   },
   "outputs": [
    {
     "data": {
      "text/html": [
       "<div><style>\n",
       ".dataframe > thead > tr,\n",
       ".dataframe > tbody > tr {\n",
       "  text-align: right;\n",
       "  white-space: pre-wrap;\n",
       "}\n",
       "</style>\n",
       "<small>shape: (1, 2)</small><table border=\"1\" class=\"dataframe\"><thead><tr><th>is_new_article</th><th>is_already_seen_article</th></tr><tr><td>f64</td><td>f64</td></tr></thead><tbody><tr><td>0.534229</td><td>0.017913</td></tr></tbody></table></div>"
      ],
      "text/plain": [
       "shape: (1, 2)\n",
       "┌────────────────┬─────────────────────────┐\n",
       "│ is_new_article ┆ is_already_seen_article │\n",
       "│ ---            ┆ ---                     │\n",
       "│ f64            ┆ f64                     │\n",
       "╞════════════════╪═════════════════════════╡\n",
       "│ 0.534229       ┆ 0.017913                │\n",
       "└────────────────┴─────────────────────────┘"
      ]
     },
     "execution_count": 30,
     "metadata": {},
     "output_type": "execute_result"
    }
   ],
   "source": [
    "train_ds.select(pl.col('is_new_article').sum() / train_ds.shape[0], pl.col('is_already_seen_article').sum() / train_ds.shape[0])"
   ]
  },
  {
   "cell_type": "code",
   "execution_count": 31,
   "id": "afac011f",
   "metadata": {
    "execution": {
     "iopub.execute_input": "2024-04-07T19:58:55.123061Z",
     "iopub.status.busy": "2024-04-07T19:58:55.122083Z",
     "iopub.status.idle": "2024-04-07T19:58:55.291482Z",
     "shell.execute_reply": "2024-04-07T19:58:55.290180Z"
    },
    "papermill": {
     "duration": 0.211251,
     "end_time": "2024-04-07T19:58:55.294160",
     "exception": false,
     "start_time": "2024-04-07T19:58:55.082909",
     "status": "completed"
    },
    "tags": []
   },
   "outputs": [
    {
     "data": {
      "text/plain": [
       "0"
      ]
     },
     "execution_count": 31,
     "metadata": {},
     "output_type": "execute_result"
    }
   ],
   "source": [
    "del last_history_df\n",
    "del last_session_time_df\n",
    "gc.collect()"
   ]
  },
  {
   "cell_type": "markdown",
   "id": "dcf77049",
   "metadata": {
    "papermill": {
     "duration": 0.036346,
     "end_time": "2024-04-07T19:58:55.366852",
     "exception": false,
     "start_time": "2024-04-07T19:58:55.330506",
     "status": "completed"
    },
    "tags": []
   },
   "source": [
    "## Popularities"
   ]
  },
  {
   "cell_type": "code",
   "execution_count": 32,
   "id": "457fb4cd",
   "metadata": {
    "execution": {
     "iopub.execute_input": "2024-04-07T19:58:55.442478Z",
     "iopub.status.busy": "2024-04-07T19:58:55.442067Z",
     "iopub.status.idle": "2024-04-07T19:58:55.954601Z",
     "shell.execute_reply": "2024-04-07T19:58:55.953523Z"
    },
    "papermill": {
     "duration": 0.552634,
     "end_time": "2024-04-07T19:58:55.957220",
     "exception": false,
     "start_time": "2024-04-07T19:58:55.404586",
     "status": "completed"
    },
    "tags": []
   },
   "outputs": [
    {
     "name": "stdout",
     "output_type": "stream",
     "text": [
      "Memory usage of dataframe is 98.74 MB\n",
      "Memory usage after optimization is: 84.73 MB\n",
      "Decreased by 14.2%\n",
      "\u001b[1m\u001b[31m\n",
      "RAM memory GB usage = 1.543\u001b[0m\n",
      "CPU times: user 603 ms, sys: 41 ms, total: 644 ms\n",
      "Wall time: 494 ms\n"
     ]
    },
    {
     "data": {
      "text/html": [
       "<div><style>\n",
       ".dataframe > thead > tr,\n",
       ".dataframe > tbody > tr {\n",
       "  text-align: right;\n",
       "  white-space: pre-wrap;\n",
       "}\n",
       "</style>\n",
       "<small>shape: (2, 48)</small><table border=\"1\" class=\"dataframe\"><thead><tr><th>impression_id</th><th>article</th><th>user_id</th><th>target</th><th>device_type</th><th>read_time</th><th>scroll_percentage</th><th>is_sso_user</th><th>gender</th><th>age</th><th>is_subscriber</th><th>mean_topics_mean_delay_days</th><th>mean_topics_mean_delay_hours</th><th>user_mean_delay_days</th><th>user_mean_delay_hours</th><th>trendiness_score</th><th>mean_user_trendiness_score</th><th>mean_topics_trendiness_score</th><th>weekday</th><th>hour</th><th>premium</th><th>category</th><th>sentiment_score</th><th>sentiment_label</th><th>num_images</th><th>title_len</th><th>subtitle_len</th><th>body_len</th><th>article_delay_days</th><th>article_delay_hours</th><th>Entity_LOC_Present</th><th>Entity_MISC_Present</th><th>Entity_EVENT_Present</th><th>Entity_PROD_Present</th><th>Entity_ORG_Present</th><th>Entity_PER_Present</th><th>total_ner_svd_scores</th><th>mean_ner_svd_scores</th><th>max_ner_svd_scores</th><th>total_ner_item_knn_scores</th><th>mean_ner_item_knn_scores</th><th>max_ner_item_knn_scores</th><th>last_session_duration</th><th>mean_prev_sessions_duration</th><th>last_session_time_hour_diff</th><th>is_new_article</th><th>is_already_seen_article</th><th>yesterday_category_daily_pct</th></tr><tr><td>u32</td><td>i32</td><td>u32</td><td>i8</td><td>i8</td><td>f32</td><td>f32</td><td>bool</td><td>i8</td><td>i8</td><td>bool</td><td>f32</td><td>f32</td><td>f32</td><td>f32</td><td>f32</td><td>f32</td><td>f32</td><td>i8</td><td>i8</td><td>bool</td><td>i16</td><td>f32</td><td>str</td><td>u32</td><td>u8</td><td>u8</td><td>u16</td><td>i16</td><td>i32</td><td>bool</td><td>bool</td><td>bool</td><td>bool</td><td>bool</td><td>bool</td><td>f32</td><td>f32</td><td>f32</td><td>f32</td><td>f32</td><td>f32</td><td>i8</td><td>f32</td><td>i16</td><td>bool</td><td>bool</td><td>f32</td></tr></thead><tbody><tr><td>150528</td><td>9778669</td><td>143471</td><td>0</td><td>2</td><td>25.0</td><td>null</td><td>false</td><td>2</td><td>null</td><td>false</td><td>5.383747</td><td>131.56778</td><td>8.973029</td><td>217.933609</td><td>2.551282</td><td>3.077535</td><td>4.058423</td><td>3</td><td>7</td><td>false</td><td>118</td><td>0.9481</td><td>&quot;Negative&quot;</td><td>1</td><td>5</td><td>11</td><td>150</td><td>0</td><td>1</td><td>false</td><td>false</td><td>false</td><td>true</td><td>true</td><td>true</td><td>0.108071</td><td>0.162107</td><td>0.566887</td><td>0.059618</td><td>0.089428</td><td>0.383036</td><td>0</td><td>0.428571</td><td>82</td><td>false</td><td>false</td><td>0.275362</td></tr><tr><td>153075</td><td>9777034</td><td>151570</td><td>1</td><td>1</td><td>26.0</td><td>100.0</td><td>false</td><td>2</td><td>null</td><td>false</td><td>27.989809</td><td>674.930847</td><td>1.484877</td><td>37.41399</td><td>2.128205</td><td>3.21481</td><td>2.260757</td><td>3</td><td>7</td><td>false</td><td>414</td><td>0.8756</td><td>&quot;Negative&quot;</td><td>1</td><td>8</td><td>21</td><td>336</td><td>0</td><td>2</td><td>false</td><td>false</td><td>false</td><td>true</td><td>true</td><td>true</td><td>0.349681</td><td>0.599453</td><td>0.725925</td><td>0.18241</td><td>0.319725</td><td>0.362944</td><td>0</td><td>4.047619</td><td>58</td><td>false</td><td>false</td><td>0.15942</td></tr></tbody></table></div>"
      ],
      "text/plain": [
       "shape: (2, 48)\n",
       "┌─────────────┬─────────┬─────────┬────────┬───┬────────────┬────────────┬────────────┬────────────┐\n",
       "│ impression_ ┆ article ┆ user_id ┆ target ┆ … ┆ last_sessi ┆ is_new_art ┆ is_already ┆ yesterday_ │\n",
       "│ id          ┆ ---     ┆ ---     ┆ ---    ┆   ┆ on_time_ho ┆ icle       ┆ _seen_arti ┆ category_d │\n",
       "│ ---         ┆ i32     ┆ u32     ┆ i8     ┆   ┆ ur_diff    ┆ ---        ┆ cle        ┆ aily_pct   │\n",
       "│ u32         ┆         ┆         ┆        ┆   ┆ ---        ┆ bool       ┆ ---        ┆ ---        │\n",
       "│             ┆         ┆         ┆        ┆   ┆ i16        ┆            ┆ bool       ┆ f32        │\n",
       "╞═════════════╪═════════╪═════════╪════════╪═══╪════════════╪════════════╪════════════╪════════════╡\n",
       "│ 150528      ┆ 9778669 ┆ 143471  ┆ 0      ┆ … ┆ 82         ┆ false      ┆ false      ┆ 0.275362   │\n",
       "│ 153075      ┆ 9777034 ┆ 151570  ┆ 1      ┆ … ┆ 58         ┆ false      ┆ false      ┆ 0.15942    │\n",
       "└─────────────┴─────────┴─────────┴────────┴───┴────────────┴────────────┴────────────┴────────────┘"
      ]
     },
     "execution_count": 32,
     "metadata": {},
     "output_type": "execute_result"
    }
   ],
   "source": [
    "%%time\n",
    "\n",
    "articles_date_popularity = articles.select(['published_time', 'article_id']) \\\n",
    "    .group_by(pl.col('published_time').dt.date().alias('published_date')) \\\n",
    "    .agg(pl.col('article_id').count().alias('daily_articles')) \\\n",
    "\n",
    "published_category_popularity = articles.select(['published_time', 'article_id', 'category']) \\\n",
    "    .group_by([pl.col('published_time').dt.date().alias('published_date'), 'category']) \\\n",
    "    .agg(pl.col('article_id').count().alias('category_daily_articles')) \\\n",
    "    .join(articles_date_popularity, on='published_date', how='left') \\\n",
    "    .with_columns((pl.col('category_daily_articles') / pl.col('daily_articles')).alias('category_daily_pct')) \\\n",
    "    .drop(['category_daily_articles', 'daily_articles'])\n",
    "\n",
    "train_ds = train_ds.join(published_category_popularity, how='left', right_on=['published_date', 'category'],\n",
    "                         left_on=[pl.col('impression_time').dt.date() - pl.duration(days=1), 'category']) \\\n",
    "    .rename({'category_daily_pct': 'yesterday_category_daily_pct'}).drop(['impression_time']) \\\n",
    "    .with_columns(pl.col('yesterday_category_daily_pct').fill_null(0))\n",
    "train_ds = reduce_polars_df_memory_size(train_ds)\n",
    "\n",
    "gc.collect()\n",
    "PrintColor(f\"\\n\" + GetMemUsage(), color = Fore.RED)\n",
    "train_ds.head(2)"
   ]
  },
  {
   "cell_type": "markdown",
   "id": "388b9dcb",
   "metadata": {
    "papermill": {
     "duration": 0.036968,
     "end_time": "2024-04-07T19:58:56.031967",
     "exception": false,
     "start_time": "2024-04-07T19:58:55.994999",
     "status": "completed"
    },
    "tags": []
   },
   "source": [
    "# Adding history features"
   ]
  },
  {
   "cell_type": "code",
   "execution_count": 33,
   "id": "bf84620c",
   "metadata": {
    "execution": {
     "iopub.execute_input": "2024-04-07T19:58:56.107332Z",
     "iopub.status.busy": "2024-04-07T19:58:56.106937Z",
     "iopub.status.idle": "2024-04-07T20:11:02.748911Z",
     "shell.execute_reply": "2024-04-07T20:11:02.747543Z"
    },
    "papermill": {
     "duration": 726.683233,
     "end_time": "2024-04-07T20:11:02.751712",
     "exception": false,
     "start_time": "2024-04-07T19:58:56.068479",
     "status": "completed"
    },
    "scrolled": true,
    "tags": []
   },
   "outputs": [
    {
     "name": "stderr",
     "output_type": "stream",
     "text": [
      "70it [12:06, 10.37s/it]\n"
     ]
    },
    {
     "name": "stdout",
     "output_type": "stream",
     "text": [
      "\u001b[1m\u001b[31m\n",
      "RAM memory GB usage = 2.0\u001b[0m\n"
     ]
    },
    {
     "data": {
      "text/html": [
       "<div><style>\n",
       ".dataframe > thead > tr,\n",
       ".dataframe > tbody > tr {\n",
       "  text-align: right;\n",
       "  white-space: pre-wrap;\n",
       "}\n",
       "</style>\n",
       "<small>shape: (2, 84)</small><table border=\"1\" class=\"dataframe\"><thead><tr><th>impression_id</th><th>article</th><th>user_id</th><th>target</th><th>device_type</th><th>read_time</th><th>scroll_percentage</th><th>is_sso_user</th><th>gender</th><th>age</th><th>is_subscriber</th><th>mean_topics_mean_delay_days</th><th>mean_topics_mean_delay_hours</th><th>user_mean_delay_days</th><th>user_mean_delay_hours</th><th>trendiness_score</th><th>mean_user_trendiness_score</th><th>mean_topics_trendiness_score</th><th>weekday</th><th>hour</th><th>premium</th><th>category</th><th>sentiment_score</th><th>sentiment_label</th><th>num_images</th><th>title_len</th><th>subtitle_len</th><th>body_len</th><th>article_delay_days</th><th>article_delay_hours</th><th>Entity_LOC_Present</th><th>Entity_MISC_Present</th><th>Entity_EVENT_Present</th><th>Entity_PROD_Present</th><th>Entity_ORG_Present</th><th>Entity_PER_Present</th><th>total_ner_svd_scores</th><th>&hellip;</th><th>yesterday_category_daily_pct</th><th>MeanCommonEntities</th><th>MaxCommonEntities</th><th>mean_JS</th><th>min_JS</th><th>max_JS</th><th>std_JS</th><th>mean_topic_model_cosine</th><th>min_topic_model_cosine</th><th>max_topic_model_cosine</th><th>std_topic_model_cosine</th><th>NumArticlesHistory</th><th>MedianReadTime</th><th>MaxReadTime</th><th>TotalReadTime</th><th>MedianScrollPercentage</th><th>MaxScrollPercentage</th><th>NeutralPct</th><th>PositivePct</th><th>NegativePct</th><th>PctStrongNeutral</th><th>PctStrongPositive</th><th>PctStrongNegative</th><th>PctNotDefaultArticles</th><th>MostFrequentCategory</th><th>MostFrequentWeekday</th><th>MostFrequentHour</th><th>LOCPct</th><th>MISCPct</th><th>EVENTPct</th><th>PRODPct</th><th>ORGPct</th><th>PERPct</th><th>topics_cosine</th><th>IsFavouriteCategory</th><th>NumberDifferentCategories</th><th>PctCategoryMatches</th></tr><tr><td>u32</td><td>i32</td><td>u32</td><td>i8</td><td>i8</td><td>f32</td><td>f32</td><td>bool</td><td>i8</td><td>i8</td><td>bool</td><td>f32</td><td>f32</td><td>f32</td><td>f32</td><td>f32</td><td>f32</td><td>f32</td><td>i8</td><td>i8</td><td>bool</td><td>i16</td><td>f32</td><td>str</td><td>u32</td><td>u8</td><td>u8</td><td>u16</td><td>i16</td><td>i32</td><td>bool</td><td>bool</td><td>bool</td><td>bool</td><td>bool</td><td>bool</td><td>f32</td><td>&hellip;</td><td>f32</td><td>f64</td><td>u32</td><td>f64</td><td>f64</td><td>f64</td><td>f64</td><td>f32</td><td>f32</td><td>f32</td><td>f32</td><td>u16</td><td>f32</td><td>f32</td><td>f32</td><td>f32</td><td>f32</td><td>f32</td><td>f32</td><td>f32</td><td>f32</td><td>f32</td><td>f32</td><td>f32</td><td>i16</td><td>i8</td><td>i8</td><td>f32</td><td>f32</td><td>f32</td><td>f32</td><td>f32</td><td>f32</td><td>f32</td><td>bool</td><td>u32</td><td>f64</td></tr></thead><tbody><tr><td>150528</td><td>9778669</td><td>143471</td><td>0</td><td>2</td><td>25.0</td><td>null</td><td>false</td><td>2</td><td>null</td><td>false</td><td>5.383747</td><td>131.56778</td><td>8.973029</td><td>217.933609</td><td>2.551282</td><td>3.077535</td><td>4.058423</td><td>3</td><td>7</td><td>false</td><td>118</td><td>0.9481</td><td>&quot;Negative&quot;</td><td>1</td><td>5</td><td>11</td><td>150</td><td>0</td><td>1</td><td>false</td><td>false</td><td>false</td><td>true</td><td>true</td><td>true</td><td>0.108071</td><td>&hellip;</td><td>0.275362</td><td>2.085062</td><td>3</td><td>0.12592</td><td>0.0</td><td>0.8</td><td>0.174548</td><td>0.099467</td><td>0.023482</td><td>1.0</td><td>0.216623</td><td>482</td><td>13.0</td><td>1390.0</td><td>23016.0</td><td>56.0</td><td>100.0</td><td>0.275934</td><td>0.124481</td><td>0.599585</td><td>0.109959</td><td>0.06639</td><td>0.539419</td><td>0.037344</td><td>118</td><td>4</td><td>4</td><td>0.69917</td><td>0.174274</td><td>0.188797</td><td>0.294606</td><td>0.917012</td><td>0.873444</td><td>0.484142</td><td>true</td><td>13</td><td>0.975104</td></tr><tr><td>155587</td><td>9778375</td><td>161621</td><td>1</td><td>1</td><td>50.0</td><td>100.0</td><td>false</td><td>2</td><td>null</td><td>false</td><td>6.949092</td><td>169.176773</td><td>6.861461</td><td>169.377838</td><td>2.423077</td><td>2.497998</td><td>2.033925</td><td>3</td><td>7</td><td>false</td><td>118</td><td>0.9979</td><td>&quot;Negative&quot;</td><td>0</td><td>10</td><td>18</td><td>296</td><td>0</td><td>9</td><td>true</td><td>false</td><td>false</td><td>false</td><td>true</td><td>false</td><td>0.363022</td><td>&hellip;</td><td>0.275362</td><td>1.629723</td><td>2</td><td>0.115991</td><td>0.0</td><td>0.666667</td><td>0.149668</td><td>0.10716</td><td>0.013312</td><td>0.999993</td><td>0.24643</td><td>397</td><td>30.0</td><td>1256.0</td><td>24994.0</td><td>100.0</td><td>100.0</td><td>0.219144</td><td>0.088161</td><td>0.692695</td><td>0.088161</td><td>0.050378</td><td>0.617128</td><td>0.032746</td><td>118</td><td>3</td><td>10</td><td>0.70529</td><td>0.206549</td><td>0.120907</td><td>0.27204</td><td>0.924433</td><td>0.816121</td><td>0.385166</td><td>true</td><td>9</td><td>0.979849</td></tr></tbody></table></div>"
      ],
      "text/plain": [
       "shape: (2, 84)\n",
       "┌─────────────┬─────────┬─────────┬────────┬───┬────────────┬────────────┬────────────┬────────────┐\n",
       "│ impression_ ┆ article ┆ user_id ┆ target ┆ … ┆ topics_cos ┆ IsFavourit ┆ NumberDiff ┆ PctCategor │\n",
       "│ id          ┆ ---     ┆ ---     ┆ ---    ┆   ┆ ine        ┆ eCategory  ┆ erentCateg ┆ yMatches   │\n",
       "│ ---         ┆ i32     ┆ u32     ┆ i8     ┆   ┆ ---        ┆ ---        ┆ ories      ┆ ---        │\n",
       "│ u32         ┆         ┆         ┆        ┆   ┆ f32        ┆ bool       ┆ ---        ┆ f64        │\n",
       "│             ┆         ┆         ┆        ┆   ┆            ┆            ┆ u32        ┆            │\n",
       "╞═════════════╪═════════╪═════════╪════════╪═══╪════════════╪════════════╪════════════╪════════════╡\n",
       "│ 150528      ┆ 9778669 ┆ 143471  ┆ 0      ┆ … ┆ 0.484142   ┆ true       ┆ 13         ┆ 0.975104   │\n",
       "│ 155587      ┆ 9778375 ┆ 161621  ┆ 1      ┆ … ┆ 0.385166   ┆ true       ┆ 9          ┆ 0.979849   │\n",
       "└─────────────┴─────────┴─────────┴────────┴───┴────────────┴────────────┴────────────┴────────────┘"
      ]
     },
     "execution_count": 33,
     "metadata": {},
     "output_type": "execute_result"
    }
   ],
   "source": [
    "def list_pct_matches_with_col(a, b) -> pl.Expr:\n",
    "    '''\n",
    "    Returns an expression to count the number of matching element in a list with another column.\n",
    "    The polars function count_matches cannot be used since it wants only a single element, \n",
    "    variable element from row to row.\n",
    "    '''\n",
    "    return pl.when(pl.col(a).list.len() == 0).then(0.0) \\\n",
    "        .otherwise((pl.col(a).list.len() - (pl.col(a).list.set_difference(pl.col(b))).list.len()) / pl.col(a).list.len())\n",
    "\n",
    "\n",
    "def cosine_similarity(x, y):\n",
    "    x = np.array(x)\n",
    "    y = np.array(y)\n",
    "    normalization = np.linalg.norm(x, 2) * np.linalg.norm(y, 2)\n",
    "    return np.dot(x, y) / normalization if normalization > 0 else 0\n",
    "\n",
    "\n",
    "def batch_cosine_similarity(df, col1, col2, target_col):\n",
    "    X = np.array(df[col1].to_list())\n",
    "    Y = np.array(df[col2].to_list())\n",
    "    norm = np.linalg.norm(X, 2, axis=1) * np.linalg.norm(Y, 2, axis=1)\n",
    "    cosine = np.where(norm > 0, np.sum(X * Y, axis=1) / norm, 0)\n",
    "    return df.with_columns(pl.Series(cosine).alias(target_col))\n",
    "\n",
    "\n",
    "prev_train_columns = [c for c in train_ds.columns if c not in ['impression_id', 'article']]\n",
    "\n",
    "train_ds = pl.concat(\n",
    "    rows.join(history_train.select(['user_id', 'article_id_fixed']), on='user_id', how='left') \\\n",
    "        .join(articles.select(['article_id', 'topics', 'entity_groups', 'topics_idf'] + topic_model_columns), \n",
    "              left_on='article', right_on='article_id', how='left') \\\n",
    "        .explode(['article_id_fixed']) \\\n",
    "        .join(articles.select(['article_id', 'topics', 'entity_groups'] + topic_model_columns), \n",
    "              left_on='article_id_fixed', right_on='article_id', how='left') \\\n",
    "        .rename({'topics_right': 'topics_history', 'entity_groups_right': 'entity_groups_history'}) \\\n",
    "        .rename({f'topic_model_embedding_{i}_right': f'topic_model_embedding_{i}_history' for i in range(20)}) \\\n",
    "        .with_columns(\n",
    "            (pl.col(\"topics\").list.set_intersection(pl.col(\"topics_history\")).list.len().truediv(\n",
    "                pl.col(\"topics\").list.set_union(pl.col(\"topics_history\")).list.len()\n",
    "            )).alias(\"JS\"),\n",
    "            pl.col('entity_groups').list.set_intersection(pl.col('entity_groups_history')).list.len().alias('common_entities'),\n",
    "        ).drop(['entity_groups_history', 'entity_groups', 'topics', 'topics_history']) \\\n",
    "        .with_columns(\n",
    "            [pl.col(x).mul(pl.col(f'{x}_history')).alias(f'{x}_dot') for x in topic_model_columns] + \\\n",
    "            [pl.col(x).mul(pl.col(x)) for x in topic_model_columns] + \\\n",
    "            [pl.col(f'{x}_history').mul(pl.col(f'{x}_history')) for x in topic_model_columns]\n",
    "        ).with_columns(\n",
    "            pl.sum_horizontal(topic_model_columns).sqrt().alias('topic_model_norm'),\n",
    "            pl.sum_horizontal([f'{x}_history' for x in topic_model_columns]).sqrt().alias('topic_model_history_norm'),\n",
    "            pl.sum_horizontal([f'{x}_dot' for x in topic_model_columns]).alias('topic_model_dot'),\n",
    "        ).with_columns(\n",
    "            pl.col('topic_model_dot').truediv(pl.col('topic_model_norm').mul('topic_model_history_norm')).alias('topic_model_cosine')\n",
    "        ).group_by(['impression_id', 'article']).agg(\n",
    "            pl.col(prev_train_columns).first(),\n",
    "            pl.col('topics_idf').first(),\n",
    "            pl.col('common_entities').mean().alias('MeanCommonEntities'),\n",
    "            pl.col('common_entities').max().alias('MaxCommonEntities'),\n",
    "            pl.col(\"JS\").mean().alias(\"mean_JS\"),\n",
    "            pl.col(\"JS\").min().alias(\"min_JS\"),\n",
    "            pl.col(\"JS\").max().alias(\"max_JS\"),\n",
    "            pl.col(\"JS\").std().alias(\"std_JS\"),\n",
    "            pl.col(\"topic_model_cosine\").mean().alias(\"mean_topic_model_cosine\"),\n",
    "            pl.col(\"topic_model_cosine\").min().alias(\"min_topic_model_cosine\"),\n",
    "            pl.col(\"topic_model_cosine\").max().alias(\"max_topic_model_cosine\"),\n",
    "            pl.col(\"topic_model_cosine\").std().alias(\"std_topic_model_cosine\"),\n",
    "        ).join(history_train.drop(['article_id_fixed', 'impression_time_fixed']), on='user_id', how='left') \\\n",
    "        .with_columns(\n",
    "            pl.struct(['topics_idf', 'topics_flatten_tf_idf']).map_elements(\n",
    "                lambda x: cosine_similarity(x['topics_idf'], x['topics_flatten_tf_idf']), return_dtype=pl.Float64\n",
    "            ).cast(pl.Float32).alias('topics_cosine'),\n",
    "            (pl.col('category') == pl.col('MostFrequentCategory')).alias('IsFavouriteCategory'),\n",
    "            pl.col('category_right').list.n_unique().alias('NumberDifferentCategories'),\n",
    "            list_pct_matches_with_col('category_right', 'category').alias('PctCategoryMatches'),\n",
    "        ).drop(['topics_idf', 'topics_flatten', 'topics_flatten_tf_idf', 'category_right'])\n",
    "    for rows in tqdm.tqdm(train_ds.iter_slices(10000), total=train_ds.shape[0] // 10000)\n",
    ")\n",
    "\n",
    "gc.collect()\n",
    "PrintColor(f\"\\n\" + GetMemUsage(), color = Fore.RED)\n",
    "train_ds.head(2)"
   ]
  },
  {
   "cell_type": "code",
   "execution_count": 34,
   "id": "3262dc21",
   "metadata": {
    "execution": {
     "iopub.execute_input": "2024-04-07T20:11:02.846834Z",
     "iopub.status.busy": "2024-04-07T20:11:02.846403Z",
     "iopub.status.idle": "2024-04-07T20:11:02.851869Z",
     "shell.execute_reply": "2024-04-07T20:11:02.850491Z"
    },
    "papermill": {
     "duration": 0.056231,
     "end_time": "2024-04-07T20:11:02.854484",
     "exception": false,
     "start_time": "2024-04-07T20:11:02.798253",
     "status": "completed"
    },
    "tags": []
   },
   "outputs": [],
   "source": [
    "# .pipe(batch_cosine_similarity, col1='topics_idf', col2='topics_flatten_tf_idf', target_col='topics_cosine') \\"
   ]
  },
  {
   "cell_type": "markdown",
   "id": "12c76f97",
   "metadata": {
    "papermill": {
     "duration": 0.045206,
     "end_time": "2024-04-07T20:11:02.946269",
     "exception": false,
     "start_time": "2024-04-07T20:11:02.901063",
     "status": "completed"
    },
    "tags": []
   },
   "source": [
    "# Training"
   ]
  },
  {
   "cell_type": "code",
   "execution_count": 35,
   "id": "a248ee85",
   "metadata": {
    "execution": {
     "iopub.execute_input": "2024-04-07T20:11:03.042298Z",
     "iopub.status.busy": "2024-04-07T20:11:03.041099Z",
     "iopub.status.idle": "2024-04-07T20:11:03.637073Z",
     "shell.execute_reply": "2024-04-07T20:11:03.635922Z"
    },
    "papermill": {
     "duration": 0.647952,
     "end_time": "2024-04-07T20:11:03.640222",
     "exception": false,
     "start_time": "2024-04-07T20:11:02.992270",
     "status": "completed"
    },
    "tags": []
   },
   "outputs": [],
   "source": [
    "train_ds = train_ds.drop(['impression_id', 'article', 'user_id']).to_pandas()\n",
    "\n",
    "categorical_columns = ['device_type', 'is_sso_user', 'gender', 'is_subscriber', 'weekday',\n",
    "                       'premium', 'category', 'sentiment_label', 'is_new_article', 'is_already_seen_article',\n",
    "                       'MostFrequentCategory', 'MostFrequentWeekday', 'IsFavouriteCategory']\n",
    "categorical_columns += [f'Entity_{entity}_Present' for entity in unique_entities]\n",
    "train_ds[categorical_columns] = train_ds[categorical_columns].astype('category')\n",
    "\n",
    "X = train_ds.drop(columns=['target'])\n",
    "y = train_ds['target']"
   ]
  },
  {
   "cell_type": "code",
   "execution_count": 36,
   "id": "edeb22eb",
   "metadata": {
    "execution": {
     "iopub.execute_input": "2024-04-07T20:11:03.736693Z",
     "iopub.status.busy": "2024-04-07T20:11:03.736209Z",
     "iopub.status.idle": "2024-04-07T20:11:03.916258Z",
     "shell.execute_reply": "2024-04-07T20:11:03.914929Z"
    },
    "papermill": {
     "duration": 0.232064,
     "end_time": "2024-04-07T20:11:03.919630",
     "exception": false,
     "start_time": "2024-04-07T20:11:03.687566",
     "status": "completed"
    },
    "tags": []
   },
   "outputs": [
    {
     "name": "stdout",
     "output_type": "stream",
     "text": [
      "\u001b[1m\u001b[31m\n",
      "RAM memory GB usage = 2.343\u001b[0m\n"
     ]
    }
   ],
   "source": [
    "del train_ds\n",
    "\n",
    "gc.collect()\n",
    "PrintColor(f\"\\n\" + GetMemUsage(), color = Fore.RED)"
   ]
  },
  {
   "cell_type": "code",
   "execution_count": 37,
   "id": "703427a0",
   "metadata": {
    "execution": {
     "iopub.execute_input": "2024-04-07T20:11:04.019165Z",
     "iopub.status.busy": "2024-04-07T20:11:04.017867Z",
     "iopub.status.idle": "2024-04-07T20:18:59.798692Z",
     "shell.execute_reply": "2024-04-07T20:18:59.797218Z"
    },
    "papermill": {
     "duration": 475.834813,
     "end_time": "2024-04-07T20:18:59.801539",
     "exception": false,
     "start_time": "2024-04-07T20:11:03.966726",
     "status": "completed"
    },
    "tags": []
   },
   "outputs": [
    {
     "name": "stdout",
     "output_type": "stream",
     "text": [
      "Learning rate set to 0.318943\n",
      "0:\tlearn: 0.6260517\ttotal: 1.13s\tremaining: 9m 26s\n",
      "25:\tlearn: 0.5457797\ttotal: 26.2s\tremaining: 7m 57s\n",
      "50:\tlearn: 0.5355948\ttotal: 50.8s\tremaining: 7m 27s\n",
      "75:\tlearn: 0.5290510\ttotal: 1m 15s\tremaining: 7m 2s\n",
      "100:\tlearn: 0.5245691\ttotal: 1m 39s\tremaining: 6m 31s\n",
      "125:\tlearn: 0.5207061\ttotal: 2m 2s\tremaining: 6m 3s\n",
      "150:\tlearn: 0.5178327\ttotal: 2m 25s\tremaining: 5m 36s\n",
      "175:\tlearn: 0.5153512\ttotal: 2m 48s\tremaining: 5m 10s\n",
      "200:\tlearn: 0.5131567\ttotal: 3m 11s\tremaining: 4m 45s\n",
      "225:\tlearn: 0.5111079\ttotal: 3m 35s\tremaining: 4m 21s\n",
      "250:\tlearn: 0.5094142\ttotal: 3m 58s\tremaining: 3m 56s\n",
      "275:\tlearn: 0.5077189\ttotal: 4m 22s\tremaining: 3m 33s\n",
      "300:\tlearn: 0.5060504\ttotal: 4m 47s\tremaining: 3m 9s\n",
      "325:\tlearn: 0.5044694\ttotal: 5m 10s\tremaining: 2m 45s\n",
      "350:\tlearn: 0.5031021\ttotal: 5m 34s\tremaining: 2m 21s\n",
      "375:\tlearn: 0.5014629\ttotal: 5m 58s\tremaining: 1m 58s\n",
      "400:\tlearn: 0.5000334\ttotal: 6m 21s\tremaining: 1m 34s\n",
      "425:\tlearn: 0.4987569\ttotal: 6m 44s\tremaining: 1m 10s\n",
      "450:\tlearn: 0.4972074\ttotal: 7m 8s\tremaining: 46.5s\n",
      "475:\tlearn: 0.4959995\ttotal: 7m 31s\tremaining: 22.7s\n",
      "499:\tlearn: 0.4949840\ttotal: 7m 53s\tremaining: 0us\n",
      "\u001b[1m\u001b[31m\n",
      "RAM memory GB usage = 3.475\u001b[0m\n"
     ]
    }
   ],
   "source": [
    "# just a simple model to be able to run an evaluation\n",
    "model = CatBoostClassifier(cat_features=categorical_columns, iterations=500)\n",
    "\n",
    "model.fit(X, y, verbose=25)\n",
    "\n",
    "gc.collect()\n",
    "PrintColor(f\"\\n\" + GetMemUsage(), color = Fore.RED)"
   ]
  },
  {
   "cell_type": "code",
   "execution_count": 38,
   "id": "a36e07c6",
   "metadata": {
    "execution": {
     "iopub.execute_input": "2024-04-07T20:18:59.896547Z",
     "iopub.status.busy": "2024-04-07T20:18:59.895774Z",
     "iopub.status.idle": "2024-04-07T20:19:05.105209Z",
     "shell.execute_reply": "2024-04-07T20:19:05.103994Z"
    },
    "papermill": {
     "duration": 5.259967,
     "end_time": "2024-04-07T20:19:05.108169",
     "exception": false,
     "start_time": "2024-04-07T20:18:59.848202",
     "status": "completed"
    },
    "tags": []
   },
   "outputs": [
    {
     "name": "stdout",
     "output_type": "stream",
     "text": [
      "CPU times: user 5.26 s, sys: 73 ms, total: 5.33 s\n",
      "Wall time: 5.2 s\n"
     ]
    }
   ],
   "source": [
    "%%time\n",
    "\n",
    "from catboost import Pool\n",
    "\n",
    "train_pool = Pool(X, y, cat_features=categorical_columns)\n",
    "feature_importances = model.get_feature_importance(train_pool)"
   ]
  },
  {
   "cell_type": "code",
   "execution_count": 39,
   "id": "6aac7f53",
   "metadata": {
    "execution": {
     "iopub.execute_input": "2024-04-07T20:19:05.203654Z",
     "iopub.status.busy": "2024-04-07T20:19:05.203252Z",
     "iopub.status.idle": "2024-04-07T20:19:06.646077Z",
     "shell.execute_reply": "2024-04-07T20:19:06.644735Z"
    },
    "papermill": {
     "duration": 1.495418,
     "end_time": "2024-04-07T20:19:06.650080",
     "exception": false,
     "start_time": "2024-04-07T20:19:05.154662",
     "status": "completed"
    },
    "tags": []
   },
   "outputs": [
    {
     "data": {
      "text/plain": [
       "Text(0.5, 1.0, 'Catboost Feature Importances')"
      ]
     },
     "execution_count": 39,
     "metadata": {},
     "output_type": "execute_result"
    },
    {
     "data": {
      "image/png": "[encoded data removed]",
      "text/plain": [
       "<Figure size 1000x1000 with 1 Axes>"
      ]
     },
     "metadata": {},
     "output_type": "display_data"
    }
   ],
   "source": [
    "sorted_importances = np.argsort(feature_importances)[::-1]\n",
    "\n",
    "plt.figure(figsize=(10, 10))\n",
    "sns.barplot(x=feature_importances[sorted_importances], y=np.array(X.columns)[sorted_importances])\n",
    "plt.xlabel('Feature Importance')\n",
    "plt.ylabel('Feature Name')\n",
    "plt.title('Catboost Feature Importances')"
   ]
  },
  {
   "cell_type": "code",
   "execution_count": 40,
   "id": "89a826cf",
   "metadata": {
    "execution": {
     "iopub.execute_input": "2024-04-07T20:19:06.750518Z",
     "iopub.status.busy": "2024-04-07T20:19:06.749827Z",
     "iopub.status.idle": "2024-04-07T20:19:06.932589Z",
     "shell.execute_reply": "2024-04-07T20:19:06.931245Z"
    },
    "papermill": {
     "duration": 0.235563,
     "end_time": "2024-04-07T20:19:06.935017",
     "exception": false,
     "start_time": "2024-04-07T20:19:06.699454",
     "status": "completed"
    },
    "tags": []
   },
   "outputs": [
    {
     "name": "stdout",
     "output_type": "stream",
     "text": [
      "\u001b[1m\u001b[31m\n",
      "RAM memory GB usage = 3.482\u001b[0m\n"
     ]
    }
   ],
   "source": [
    "del history_train\n",
    "del behaviors_train\n",
    "\n",
    "gc.collect()\n",
    "PrintColor(f\"\\n\" + GetMemUsage(), color = Fore.RED)"
   ]
  },
  {
   "cell_type": "code",
   "execution_count": 41,
   "id": "c80d2288",
   "metadata": {
    "execution": {
     "iopub.execute_input": "2024-04-07T20:19:07.038002Z",
     "iopub.status.busy": "2024-04-07T20:19:07.037260Z",
     "iopub.status.idle": "2024-04-07T20:19:07.044984Z",
     "shell.execute_reply": "2024-04-07T20:19:07.044070Z"
    },
    "papermill": {
     "duration": 0.061015,
     "end_time": "2024-04-07T20:19:07.047158",
     "exception": false,
     "start_time": "2024-04-07T20:19:06.986143",
     "status": "completed"
    },
    "tags": []
   },
   "outputs": [
    {
     "data": {
      "text/plain": [
       "['device_type',\n",
       " 'is_sso_user',\n",
       " 'gender',\n",
       " 'is_subscriber',\n",
       " 'weekday',\n",
       " 'premium',\n",
       " 'category',\n",
       " 'sentiment_label',\n",
       " 'is_new_article',\n",
       " 'is_already_seen_article',\n",
       " 'MostFrequentCategory',\n",
       " 'MostFrequentWeekday',\n",
       " 'IsFavouriteCategory',\n",
       " 'Entity_LOC_Present',\n",
       " 'Entity_MISC_Present',\n",
       " 'Entity_EVENT_Present',\n",
       " 'Entity_PROD_Present',\n",
       " 'Entity_ORG_Present',\n",
       " 'Entity_PER_Present']"
      ]
     },
     "execution_count": 41,
     "metadata": {},
     "output_type": "execute_result"
    }
   ],
   "source": [
    "model.get_param('cat_features')"
   ]
  },
  {
   "cell_type": "markdown",
   "id": "68203c64",
   "metadata": {
    "papermill": {
     "duration": 0.04927,
     "end_time": "2024-04-07T20:19:07.147735",
     "exception": false,
     "start_time": "2024-04-07T20:19:07.098465",
     "status": "completed"
    },
    "tags": []
   },
   "source": [
    "# Model Evaluation"
   ]
  },
  {
   "cell_type": "code",
   "execution_count": 42,
   "id": "9151e9de",
   "metadata": {
    "execution": {
     "iopub.execute_input": "2024-04-07T20:19:07.249693Z",
     "iopub.status.busy": "2024-04-07T20:19:07.249055Z",
     "iopub.status.idle": "2024-04-07T20:19:20.833934Z",
     "shell.execute_reply": "2024-04-07T20:19:20.832795Z"
    },
    "papermill": {
     "duration": 13.638743,
     "end_time": "2024-04-07T20:19:20.836640",
     "exception": false,
     "start_time": "2024-04-07T20:19:07.197897",
     "status": "completed"
    },
    "tags": []
   },
   "outputs": [],
   "source": [
    "user_id_mapping = history_val.sort('user_id').with_row_index() \\\n",
    "    .select(['index', 'user_id']).rename({'index': 'user_index'})\n",
    "\n",
    "ner_interactions = history_val.select(['user_id', 'article_id_fixed']).explode('article_id_fixed') \\\n",
    "    .join(articles.select(['article_id', 'ner_clusters']), left_on='article_id_fixed', right_on='article_id', how='left') \\\n",
    "    .explode('ner_clusters').unique(['user_id', 'ner_clusters']) \\\n",
    "    .with_columns(pl.col('ner_clusters').str.strip_chars_start('\\\" ').str.to_lowercase()) \\\n",
    "    .join(user_id_mapping, on='user_id', how='left') \\\n",
    "    .join(ner_mapping, left_on='ner_clusters', right_on='ner') \\\n",
    "    .select(['user_index', 'ner_index', 'user_id', 'article_id_fixed']) \\\n",
    "    .unique(['user_index', 'ner_index'])\n",
    "\n",
    "URM_ner = sps.csr_matrix((np.ones(ner_interactions.shape[0]),\n",
    "                          (ner_interactions['user_index'].to_numpy(), ner_interactions['ner_index'].to_numpy())),\n",
    "                         shape=(user_id_mapping.shape[0], ner_mapping.shape[0]))\n",
    "\n",
    "ner_interactions_test = behaviors_val.select(['user_id', 'article_ids_clicked']).explode('article_ids_clicked') \\\n",
    "    .join(articles.select(['article_id', 'ner_clusters']), left_on='article_ids_clicked', right_on='article_id', how='left') \\\n",
    "    .explode('ner_clusters').unique(['user_id', 'ner_clusters']) \\\n",
    "    .with_columns(pl.col('ner_clusters').str.strip_chars_start('\\\" ').str.to_lowercase()) \\\n",
    "    .join(user_id_mapping, on='user_id', how='left') \\\n",
    "    .join(ner_mapping, left_on='ner_clusters', right_on='ner') \\\n",
    "    .select(['user_index', 'ner_index', 'user_id', 'article_ids_clicked']) \\\n",
    "    .unique(['user_index', 'ner_index'])\n",
    "\n",
    "URM_ner_test = sps.csr_matrix((np.ones(ner_interactions_test.shape[0]),\n",
    "                               (ner_interactions_test['user_index'].to_numpy(), ner_interactions_test['ner_index'].to_numpy())),\n",
    "                              shape=(user_id_mapping.shape[0], ner_mapping.shape[0]))"
   ]
  },
  {
   "cell_type": "code",
   "execution_count": 43,
   "id": "521b0456",
   "metadata": {
    "execution": {
     "iopub.execute_input": "2024-04-07T20:19:20.938183Z",
     "iopub.status.busy": "2024-04-07T20:19:20.937800Z",
     "iopub.status.idle": "2024-04-07T20:24:35.332765Z",
     "shell.execute_reply": "2024-04-07T20:24:35.331455Z"
    },
    "papermill": {
     "duration": 314.459291,
     "end_time": "2024-04-07T20:24:35.345855",
     "exception": false,
     "start_time": "2024-04-07T20:19:20.886564",
     "status": "completed"
    },
    "tags": []
   },
   "outputs": [
    {
     "name": "stdout",
     "output_type": "stream",
     "text": [
      "ItemKNNCFRecommender: URM Detected 3 ( 0.0%) users with no interactions.\n",
      "ItemKNNCFRecommender: URM Detected 19035 (43.5%) items with no interactions.\n",
      "Unable to load Cython Compute_Similarity, reverting to Python\n",
      "Similarity column 43774 (100.0%), 163.20 column/sec. Elapsed time 4.47 min\n",
      "EvaluatorHoldout: Ignoring 32 ( 0.2%) Users that have less than 1 test interactions\n",
      "EvaluatorHoldout: Processed 15310 (100.0%) in 45.13 sec. Users per second: 339\n"
     ]
    },
    {
     "data": {
      "text/html": [
       "<div>\n",
       "<style scoped>\n",
       "    .dataframe tbody tr th:only-of-type {\n",
       "        vertical-align: middle;\n",
       "    }\n",
       "\n",
       "    .dataframe tbody tr th {\n",
       "        vertical-align: top;\n",
       "    }\n",
       "\n",
       "    .dataframe thead th {\n",
       "        text-align: right;\n",
       "    }\n",
       "</style>\n",
       "<table border=\"1\" class=\"dataframe\">\n",
       "  <thead>\n",
       "    <tr style=\"text-align: right;\">\n",
       "      <th></th>\n",
       "      <th>PRECISION</th>\n",
       "      <th>PRECISION_RECALL_MIN_DEN</th>\n",
       "      <th>RECALL</th>\n",
       "      <th>MAP</th>\n",
       "      <th>MAP_MIN_DEN</th>\n",
       "      <th>MRR</th>\n",
       "      <th>NDCG</th>\n",
       "      <th>F1</th>\n",
       "      <th>HIT_RATE</th>\n",
       "      <th>ARHR_ALL_HITS</th>\n",
       "      <th>...</th>\n",
       "      <th>COVERAGE_USER</th>\n",
       "      <th>COVERAGE_USER_HIT</th>\n",
       "      <th>USERS_IN_GT</th>\n",
       "      <th>DIVERSITY_GINI</th>\n",
       "      <th>SHANNON_ENTROPY</th>\n",
       "      <th>RATIO_DIVERSITY_HERFINDAHL</th>\n",
       "      <th>RATIO_DIVERSITY_GINI</th>\n",
       "      <th>RATIO_SHANNON_ENTROPY</th>\n",
       "      <th>RATIO_AVERAGE_POPULARITY</th>\n",
       "      <th>RATIO_NOVELTY</th>\n",
       "    </tr>\n",
       "    <tr>\n",
       "      <th>cutoff</th>\n",
       "      <th></th>\n",
       "      <th></th>\n",
       "      <th></th>\n",
       "      <th></th>\n",
       "      <th></th>\n",
       "      <th></th>\n",
       "      <th></th>\n",
       "      <th></th>\n",
       "      <th></th>\n",
       "      <th></th>\n",
       "      <th></th>\n",
       "      <th></th>\n",
       "      <th></th>\n",
       "      <th></th>\n",
       "      <th></th>\n",
       "      <th></th>\n",
       "      <th></th>\n",
       "      <th></th>\n",
       "      <th></th>\n",
       "      <th></th>\n",
       "      <th></th>\n",
       "    </tr>\n",
       "  </thead>\n",
       "  <tbody>\n",
       "    <tr>\n",
       "      <th>10</th>\n",
       "      <td>0.338445</td>\n",
       "      <td>0.339461</td>\n",
       "      <td>0.033197</td>\n",
       "      <td>0.241643</td>\n",
       "      <td>0.241977</td>\n",
       "      <td>0.493913</td>\n",
       "      <td>0.346767</td>\n",
       "      <td>0.060464</td>\n",
       "      <td>0.784651</td>\n",
       "      <td>1.033204</td>\n",
       "      <td>...</td>\n",
       "      <td>0.997914</td>\n",
       "      <td>0.783014</td>\n",
       "      <td>0.997914</td>\n",
       "      <td>0.002568</td>\n",
       "      <td>5.473111</td>\n",
       "      <td>0.953841</td>\n",
       "      <td>0.020621</td>\n",
       "      <td>0.428217</td>\n",
       "      <td>3.43338</td>\n",
       "      <td>0.010093</td>\n",
       "    </tr>\n",
       "  </tbody>\n",
       "</table>\n",
       "<p>1 rows × 27 columns</p>\n",
       "</div>"
      ],
      "text/plain": [
       "       PRECISION PRECISION_RECALL_MIN_DEN    RECALL       MAP MAP_MIN_DEN  \\\n",
       "cutoff                                                                      \n",
       "10      0.338445                 0.339461  0.033197  0.241643    0.241977   \n",
       "\n",
       "             MRR      NDCG        F1  HIT_RATE ARHR_ALL_HITS  ...  \\\n",
       "cutoff                                                        ...   \n",
       "10      0.493913  0.346767  0.060464  0.784651      1.033204  ...   \n",
       "\n",
       "       COVERAGE_USER COVERAGE_USER_HIT USERS_IN_GT DIVERSITY_GINI  \\\n",
       "cutoff                                                              \n",
       "10          0.997914          0.783014    0.997914       0.002568   \n",
       "\n",
       "       SHANNON_ENTROPY RATIO_DIVERSITY_HERFINDAHL RATIO_DIVERSITY_GINI  \\\n",
       "cutoff                                                                   \n",
       "10            5.473111                   0.953841             0.020621   \n",
       "\n",
       "       RATIO_SHANNON_ENTROPY RATIO_AVERAGE_POPULARITY RATIO_NOVELTY  \n",
       "cutoff                                                               \n",
       "10                  0.428217                  3.43338      0.010093  \n",
       "\n",
       "[1 rows x 27 columns]"
      ]
     },
     "execution_count": 43,
     "metadata": {},
     "output_type": "execute_result"
    }
   ],
   "source": [
    "item_knn = ItemKNNCFRecommender(URM_ner)\n",
    "item_knn.fit(topK=100, similarity='jaccard')\n",
    "\n",
    "evaluator = EvaluatorHoldout(URM_ner_test, cutoff_list=[10], exclude_seen=False)\n",
    "result_df, _ = evaluator.evaluateRecommender(item_knn)\n",
    "result_df"
   ]
  },
  {
   "cell_type": "code",
   "execution_count": 44,
   "id": "30872862",
   "metadata": {
    "execution": {
     "iopub.execute_input": "2024-04-07T20:24:35.452080Z",
     "iopub.status.busy": "2024-04-07T20:24:35.451280Z",
     "iopub.status.idle": "2024-04-07T20:25:04.022786Z",
     "shell.execute_reply": "2024-04-07T20:25:04.021243Z"
    },
    "papermill": {
     "duration": 28.6286,
     "end_time": "2024-04-07T20:25:04.025513",
     "exception": false,
     "start_time": "2024-04-07T20:24:35.396913",
     "status": "completed"
    },
    "tags": []
   },
   "outputs": [
    {
     "name": "stdout",
     "output_type": "stream",
     "text": [
      "PureSVDRecommender: URM Detected 3 ( 0.0%) users with no interactions.\n",
      "PureSVDRecommender: URM Detected 19035 (43.5%) items with no interactions.\n",
      "PureSVDRecommender: Computing SVD decomposition...\n",
      "PureSVDRecommender: Computing SVD decomposition... done in 4.56 sec\n",
      "EvaluatorHoldout: Processed 15310 (100.0%) in 23.59 sec. Users per second: 649\n"
     ]
    },
    {
     "data": {
      "text/html": [
       "<div>\n",
       "<style scoped>\n",
       "    .dataframe tbody tr th:only-of-type {\n",
       "        vertical-align: middle;\n",
       "    }\n",
       "\n",
       "    .dataframe tbody tr th {\n",
       "        vertical-align: top;\n",
       "    }\n",
       "\n",
       "    .dataframe thead th {\n",
       "        text-align: right;\n",
       "    }\n",
       "</style>\n",
       "<table border=\"1\" class=\"dataframe\">\n",
       "  <thead>\n",
       "    <tr style=\"text-align: right;\">\n",
       "      <th></th>\n",
       "      <th>PRECISION</th>\n",
       "      <th>PRECISION_RECALL_MIN_DEN</th>\n",
       "      <th>RECALL</th>\n",
       "      <th>MAP</th>\n",
       "      <th>MAP_MIN_DEN</th>\n",
       "      <th>MRR</th>\n",
       "      <th>NDCG</th>\n",
       "      <th>F1</th>\n",
       "      <th>HIT_RATE</th>\n",
       "      <th>ARHR_ALL_HITS</th>\n",
       "      <th>...</th>\n",
       "      <th>COVERAGE_USER</th>\n",
       "      <th>COVERAGE_USER_HIT</th>\n",
       "      <th>USERS_IN_GT</th>\n",
       "      <th>DIVERSITY_GINI</th>\n",
       "      <th>SHANNON_ENTROPY</th>\n",
       "      <th>RATIO_DIVERSITY_HERFINDAHL</th>\n",
       "      <th>RATIO_DIVERSITY_GINI</th>\n",
       "      <th>RATIO_SHANNON_ENTROPY</th>\n",
       "      <th>RATIO_AVERAGE_POPULARITY</th>\n",
       "      <th>RATIO_NOVELTY</th>\n",
       "    </tr>\n",
       "    <tr>\n",
       "      <th>cutoff</th>\n",
       "      <th></th>\n",
       "      <th></th>\n",
       "      <th></th>\n",
       "      <th></th>\n",
       "      <th></th>\n",
       "      <th></th>\n",
       "      <th></th>\n",
       "      <th></th>\n",
       "      <th></th>\n",
       "      <th></th>\n",
       "      <th></th>\n",
       "      <th></th>\n",
       "      <th></th>\n",
       "      <th></th>\n",
       "      <th></th>\n",
       "      <th></th>\n",
       "      <th></th>\n",
       "      <th></th>\n",
       "      <th></th>\n",
       "      <th></th>\n",
       "      <th></th>\n",
       "    </tr>\n",
       "  </thead>\n",
       "  <tbody>\n",
       "    <tr>\n",
       "      <th>10</th>\n",
       "      <td>0.365382</td>\n",
       "      <td>0.368539</td>\n",
       "      <td>0.050795</td>\n",
       "      <td>0.283615</td>\n",
       "      <td>0.285707</td>\n",
       "      <td>0.695447</td>\n",
       "      <td>0.415659</td>\n",
       "      <td>0.089191</td>\n",
       "      <td>0.876486</td>\n",
       "      <td>1.342637</td>\n",
       "      <td>...</td>\n",
       "      <td>0.997914</td>\n",
       "      <td>0.874658</td>\n",
       "      <td>0.997914</td>\n",
       "      <td>0.001527</td>\n",
       "      <td>5.728555</td>\n",
       "      <td>0.954883</td>\n",
       "      <td>0.012263</td>\n",
       "      <td>0.448203</td>\n",
       "      <td>3.536612</td>\n",
       "      <td>0.010003</td>\n",
       "    </tr>\n",
       "  </tbody>\n",
       "</table>\n",
       "<p>1 rows × 27 columns</p>\n",
       "</div>"
      ],
      "text/plain": [
       "       PRECISION PRECISION_RECALL_MIN_DEN    RECALL       MAP MAP_MIN_DEN  \\\n",
       "cutoff                                                                      \n",
       "10      0.365382                 0.368539  0.050795  0.283615    0.285707   \n",
       "\n",
       "             MRR      NDCG        F1  HIT_RATE ARHR_ALL_HITS  ...  \\\n",
       "cutoff                                                        ...   \n",
       "10      0.695447  0.415659  0.089191  0.876486      1.342637  ...   \n",
       "\n",
       "       COVERAGE_USER COVERAGE_USER_HIT USERS_IN_GT DIVERSITY_GINI  \\\n",
       "cutoff                                                              \n",
       "10          0.997914          0.874658    0.997914       0.001527   \n",
       "\n",
       "       SHANNON_ENTROPY RATIO_DIVERSITY_HERFINDAHL RATIO_DIVERSITY_GINI  \\\n",
       "cutoff                                                                   \n",
       "10            5.728555                   0.954883             0.012263   \n",
       "\n",
       "       RATIO_SHANNON_ENTROPY RATIO_AVERAGE_POPULARITY RATIO_NOVELTY  \n",
       "cutoff                                                               \n",
       "10                  0.448203                 3.536612      0.010003  \n",
       "\n",
       "[1 rows x 27 columns]"
      ]
     },
     "execution_count": 44,
     "metadata": {},
     "output_type": "execute_result"
    }
   ],
   "source": [
    "pure_svd = PureSVDRecommender(URM_ner)\n",
    "pure_svd.fit(num_factors=20)\n",
    "\n",
    "result_df, _ = evaluator.evaluateRecommender(pure_svd)\n",
    "result_df"
   ]
  },
  {
   "cell_type": "code",
   "execution_count": 45,
   "id": "e6d39a90",
   "metadata": {
    "execution": {
     "iopub.execute_input": "2024-04-07T20:25:04.133464Z",
     "iopub.status.busy": "2024-04-07T20:25:04.133023Z",
     "iopub.status.idle": "2024-04-07T20:27:05.502915Z",
     "shell.execute_reply": "2024-04-07T20:27:05.501691Z"
    },
    "papermill": {
     "duration": 121.481106,
     "end_time": "2024-04-07T20:27:05.559018",
     "exception": false,
     "start_time": "2024-04-07T20:25:04.077912",
     "status": "completed"
    },
    "tags": []
   },
   "outputs": [
    {
     "name": "stdout",
     "output_type": "stream",
     "text": [
      "CPU times: user 4min 17s, sys: 3min 2s, total: 7min 19s\n",
      "Wall time: 2min 1s\n"
     ]
    },
    {
     "data": {
      "text/html": [
       "<div><style>\n",
       ".dataframe > thead > tr,\n",
       ".dataframe > tbody > tr {\n",
       "  text-align: right;\n",
       "  white-space: pre-wrap;\n",
       "}\n",
       "</style>\n",
       "<small>shape: (5, 8)</small><table border=\"1\" class=\"dataframe\"><thead><tr><th>impression_id</th><th>article</th><th>total_ner_svd_scores</th><th>mean_ner_svd_scores</th><th>max_ner_svd_scores</th><th>total_ner_item_knn_scores</th><th>mean_ner_item_knn_scores</th><th>max_ner_item_knn_scores</th></tr><tr><td>u32</td><td>i32</td><td>f32</td><td>f32</td><td>f32</td><td>f32</td><td>f32</td><td>f32</td></tr></thead><tbody><tr><td>96791</td><td>9784591</td><td>0.188226</td><td>0.20815</td><td>0.259978</td><td>0.170507</td><td>0.187014</td><td>0.230992</td></tr><tr><td>96791</td><td>9784710</td><td>0.132553</td><td>0.128261</td><td>0.250056</td><td>0.14424</td><td>0.138428</td><td>0.238728</td></tr><tr><td>96798</td><td>9783865</td><td>0.020576</td><td>0.015164</td><td>0.028306</td><td>0.011188</td><td>0.008432</td><td>0.02347</td></tr><tr><td>96798</td><td>9784444</td><td>0.143919</td><td>0.074866</td><td>0.069714</td><td>0.140704</td><td>0.074858</td><td>0.06375</td></tr><tr><td>96798</td><td>9784642</td><td>0.027697</td><td>0.040823</td><td>0.044322</td><td>0.020237</td><td>0.030506</td><td>0.036477</td></tr></tbody></table></div>"
      ],
      "text/plain": [
       "shape: (5, 8)\n",
       "┌────────────┬─────────┬────────────┬────────────┬────────────┬────────────┬───────────┬───────────┐\n",
       "│ impression ┆ article ┆ total_ner_ ┆ mean_ner_s ┆ max_ner_sv ┆ total_ner_ ┆ mean_ner_ ┆ max_ner_i │\n",
       "│ _id        ┆ ---     ┆ svd_scores ┆ vd_scores  ┆ d_scores   ┆ item_knn_s ┆ item_knn_ ┆ tem_knn_s │\n",
       "│ ---        ┆ i32     ┆ ---        ┆ ---        ┆ ---        ┆ cores      ┆ scores    ┆ cores     │\n",
       "│ u32        ┆         ┆ f32        ┆ f32        ┆ f32        ┆ ---        ┆ ---       ┆ ---       │\n",
       "│            ┆         ┆            ┆            ┆            ┆ f32        ┆ f32       ┆ f32       │\n",
       "╞════════════╪═════════╪════════════╪════════════╪════════════╪════════════╪═══════════╪═══════════╡\n",
       "│ 96791      ┆ 9784591 ┆ 0.188226   ┆ 0.20815    ┆ 0.259978   ┆ 0.170507   ┆ 0.187014  ┆ 0.230992  │\n",
       "│ 96791      ┆ 9784710 ┆ 0.132553   ┆ 0.128261   ┆ 0.250056   ┆ 0.14424    ┆ 0.138428  ┆ 0.238728  │\n",
       "│ 96798      ┆ 9783865 ┆ 0.020576   ┆ 0.015164   ┆ 0.028306   ┆ 0.011188   ┆ 0.008432  ┆ 0.02347   │\n",
       "│ 96798      ┆ 9784444 ┆ 0.143919   ┆ 0.074866   ┆ 0.069714   ┆ 0.140704   ┆ 0.074858  ┆ 0.06375   │\n",
       "│ 96798      ┆ 9784642 ┆ 0.027697   ┆ 0.040823   ┆ 0.044322   ┆ 0.020237   ┆ 0.030506  ┆ 0.036477  │\n",
       "└────────────┴─────────┴────────────┴────────────┴────────────┴────────────┴───────────┴───────────┘"
      ]
     },
     "execution_count": 45,
     "metadata": {},
     "output_type": "execute_result"
    }
   ],
   "source": [
    "%%time\n",
    "\n",
    "def get_inview_scores(user_ners_df, recommender, f_name):\n",
    "    user_index = user_ners_df['user_index'].to_list()[0]\n",
    "    ners = user_ners_df['ner_index'].to_numpy()\n",
    "    scores = recommender._compute_item_score([user_index], ners)[0, ners]\n",
    "    return user_ners_df.with_columns(\n",
    "        pl.Series(scores).alias(f_name)\n",
    "    )\n",
    "\n",
    "ner_inview_scores = behaviors_val.select(['user_id', 'article_ids_inview']).explode('article_ids_inview') \\\n",
    "    .join(articles.select(['article_id', 'ner_clusters']), left_on='article_ids_inview', right_on='article_id', how='left') \\\n",
    "    .explode('ner_clusters').unique(['user_id', 'ner_clusters']) \\\n",
    "    .with_columns(pl.col('ner_clusters').str.strip_chars_start('\\\" ').str.to_lowercase()) \\\n",
    "    .join(user_id_mapping, on='user_id', how='left') \\\n",
    "    .join(ner_mapping, left_on='ner_clusters', right_on='ner') \\\n",
    "    .select(['user_index', 'ner_index', 'user_id', 'article_ids_inview']) \\\n",
    "    .unique(['user_index', 'ner_index']) \\\n",
    "    .sort(['user_index', 'ner_index']).group_by('user_index').map_groups(\n",
    "        lambda user_df: user_df.pipe(get_inview_scores, recommender=pure_svd, f_name='pure_svd_scores') \\\n",
    "            .pipe(get_inview_scores, recommender=item_knn, f_name='item_knn_scores')\n",
    "    )\n",
    "\n",
    "behaviors_ner_scores = behaviors_val.select(['impression_id', 'user_id', 'article_ids_inview']).explode('article_ids_inview') \\\n",
    "    .join(ner_inview_scores, on=['user_id', 'article_ids_inview'], how='left') \\\n",
    "    .with_columns(pl.col(['pure_svd_scores', 'item_knn_scores']).fill_null(0)) \\\n",
    "    .group_by(['impression_id', 'article_ids_inview']).agg(\n",
    "        pl.col('pure_svd_scores').sum().alias('total_ner_svd_scores'),\n",
    "        pl.col('pure_svd_scores').mean().alias('mean_ner_svd_scores'),\n",
    "        pl.col('pure_svd_scores').max().alias('max_ner_svd_scores'),\n",
    "        pl.col('item_knn_scores').sum().alias('total_ner_item_knn_scores'),\n",
    "        pl.col('item_knn_scores').mean().alias('mean_ner_item_knn_scores'),\n",
    "        pl.col('item_knn_scores').max().alias('max_ner_item_knn_scores'),\n",
    "    ).with_columns(\n",
    "        pl.col(['total_ner_svd_scores', 'mean_ner_svd_scores', \n",
    "                'total_ner_item_knn_scores', 'mean_ner_item_knn_scores',\n",
    "                'max_ner_svd_scores', 'max_ner_item_knn_scores']).sum().over('impression_id').name.suffix('_max')\n",
    "    ).with_columns(\n",
    "        # l1 normalization\n",
    "        pl.col('total_ner_svd_scores').truediv(pl.col('total_ner_svd_scores_max')),\n",
    "        pl.col('mean_ner_svd_scores').truediv(pl.col('mean_ner_svd_scores_max')),\n",
    "        pl.col('max_ner_svd_scores').truediv(pl.col('max_ner_svd_scores_max')),\n",
    "        pl.col('total_ner_item_knn_scores').truediv(pl.col('total_ner_item_knn_scores_max')),\n",
    "        pl.col('mean_ner_item_knn_scores').truediv(pl.col('mean_ner_item_knn_scores_max')),\n",
    "        pl.col('max_ner_item_knn_scores').truediv(pl.col('max_ner_item_knn_scores_max')),\n",
    "    ).drop(['total_ner_svd_scores_max', 'mean_ner_svd_scores_max', \n",
    "            'max_ner_svd_scores_max', 'total_ner_item_knn_scores_max',\n",
    "            'mean_ner_item_knn_scores_max', 'max_ner_item_knn_scores_max']) \\\n",
    "    .rename({'article_ids_inview': 'article'})\n",
    "behaviors_ner_scores.head(5)"
   ]
  },
  {
   "cell_type": "code",
   "execution_count": 46,
   "id": "1836c801",
   "metadata": {
    "execution": {
     "iopub.execute_input": "2024-04-07T20:27:05.667124Z",
     "iopub.status.busy": "2024-04-07T20:27:05.666044Z",
     "iopub.status.idle": "2024-04-07T20:27:05.674880Z",
     "shell.execute_reply": "2024-04-07T20:27:05.673618Z"
    },
    "papermill": {
     "duration": 0.064611,
     "end_time": "2024-04-07T20:27:05.677222",
     "exception": false,
     "start_time": "2024-04-07T20:27:05.612611",
     "status": "completed"
    },
    "tags": []
   },
   "outputs": [
    {
     "data": {
      "text/plain": [
       "['device_type',\n",
       " 'is_sso_user',\n",
       " 'gender',\n",
       " 'is_subscriber',\n",
       " 'weekday',\n",
       " 'premium',\n",
       " 'category',\n",
       " 'sentiment_label',\n",
       " 'is_new_article',\n",
       " 'is_already_seen_article',\n",
       " 'MostFrequentCategory',\n",
       " 'MostFrequentWeekday',\n",
       " 'IsFavouriteCategory',\n",
       " 'Entity_LOC_Present',\n",
       " 'Entity_MISC_Present',\n",
       " 'Entity_EVENT_Present',\n",
       " 'Entity_PROD_Present',\n",
       " 'Entity_ORG_Present',\n",
       " 'Entity_PER_Present']"
      ]
     },
     "execution_count": 46,
     "metadata": {},
     "output_type": "execute_result"
    }
   ],
   "source": [
    "model.get_param('cat_features')"
   ]
  },
  {
   "cell_type": "code",
   "execution_count": 47,
   "id": "df16d1ab",
   "metadata": {
    "execution": {
     "iopub.execute_input": "2024-04-07T20:27:05.784357Z",
     "iopub.status.busy": "2024-04-07T20:27:05.783486Z",
     "iopub.status.idle": "2024-04-07T20:27:22.512488Z",
     "shell.execute_reply": "2024-04-07T20:27:22.511104Z"
    },
    "papermill": {
     "duration": 16.785932,
     "end_time": "2024-04-07T20:27:22.515178",
     "exception": false,
     "start_time": "2024-04-07T20:27:05.729246",
     "status": "completed"
    },
    "tags": []
   },
   "outputs": [
    {
     "name": "stderr",
     "output_type": "stream",
     "text": [
      "16it [00:16,  1.01s/it]                        \n"
     ]
    },
    {
     "name": "stdout",
     "output_type": "stream",
     "text": [
      "\u001b[1m\u001b[31m\n",
      "RAM memory GB usage = 3.974\u001b[0m\n",
      "Memory usage of dataframe is 36.51 MB\n",
      "Memory usage after optimization is: 35.72 MB\n",
      "Decreased by 2.2%\n",
      "CPU times: user 18.5 s, sys: 1.46 s, total: 20 s\n",
      "Wall time: 16.7 s\n"
     ]
    },
    {
     "data": {
      "text/html": [
       "<div><style>\n",
       ".dataframe > thead > tr,\n",
       ".dataframe > tbody > tr {\n",
       "  text-align: right;\n",
       "  white-space: pre-wrap;\n",
       "}\n",
       "</style>\n",
       "<small>shape: (2, 27)</small><table border=\"1\" class=\"dataframe\"><thead><tr><th>user_id</th><th>article_id_fixed</th><th>impression_time_fixed</th><th>category</th><th>NumArticlesHistory</th><th>MedianReadTime</th><th>MaxReadTime</th><th>TotalReadTime</th><th>MedianScrollPercentage</th><th>MaxScrollPercentage</th><th>NeutralPct</th><th>PositivePct</th><th>NegativePct</th><th>PctStrongNeutral</th><th>PctStrongPositive</th><th>PctStrongNegative</th><th>PctNotDefaultArticles</th><th>MostFrequentCategory</th><th>MostFrequentWeekday</th><th>MostFrequentHour</th><th>topics_flatten_tf_idf</th><th>LOCPct</th><th>MISCPct</th><th>EVENTPct</th><th>PRODPct</th><th>ORGPct</th><th>PERPct</th></tr><tr><td>u32</td><td>list[i32]</td><td>list[datetime[μs]]</td><td>list[i16]</td><td>u16</td><td>f32</td><td>f32</td><td>f32</td><td>f32</td><td>f32</td><td>f32</td><td>f32</td><td>f32</td><td>f32</td><td>f32</td><td>f32</td><td>f32</td><td>i16</td><td>i8</td><td>i8</td><td>list[f32]</td><td>f32</td><td>f32</td><td>f32</td><td>f32</td><td>f32</td><td>f32</td></tr></thead><tbody><tr><td>10623</td><td>[9750749, 9685790, … 9779517]</td><td>[2023-05-05 07:51:01, 2023-05-05 07:51:36, … 2023-05-24 17:10:11]</td><td>[118, 457, … 414]</td><td>150</td><td>3.5</td><td>1563.0</td><td>9330.0</td><td>37.0</td><td>100.0</td><td>0.28</td><td>0.093333</td><td>0.626667</td><td>0.126667</td><td>0.06</td><td>0.546667</td><td>0.06</td><td>118</td><td>1</td><td>20</td><td>[0.0, 0.042172, … 0.089681]</td><td>0.846667</td><td>0.266667</td><td>0.3</td><td>0.213333</td><td>0.913333</td><td>0.893333</td></tr><tr><td>12718</td><td>[9749036, 9749025, … 9778718]</td><td>[2023-05-04 07:49:49, 2023-05-04 07:50:15, … 2023-05-24 07:07:25]</td><td>[118, 118, … 140]</td><td>114</td><td>7.0</td><td>748.0</td><td>3440.0</td><td>36.0</td><td>100.0</td><td>0.245614</td><td>0.052632</td><td>0.701754</td><td>0.087719</td><td>0.035088</td><td>0.614035</td><td>0.035088</td><td>118</td><td>7</td><td>7</td><td>[0.0, 0.048524, … 0.217846]</td><td>0.815789</td><td>0.192982</td><td>0.114035</td><td>0.254386</td><td>0.947368</td><td>0.807018</td></tr></tbody></table></div>"
      ],
      "text/plain": [
       "shape: (2, 27)\n",
       "┌─────────┬─────────────┬─────────────┬────────────┬───┬──────────┬──────────┬──────────┬──────────┐\n",
       "│ user_id ┆ article_id_ ┆ impression_ ┆ category   ┆ … ┆ EVENTPct ┆ PRODPct  ┆ ORGPct   ┆ PERPct   │\n",
       "│ ---     ┆ fixed       ┆ time_fixed  ┆ ---        ┆   ┆ ---      ┆ ---      ┆ ---      ┆ ---      │\n",
       "│ u32     ┆ ---         ┆ ---         ┆ list[i16]  ┆   ┆ f32      ┆ f32      ┆ f32      ┆ f32      │\n",
       "│         ┆ list[i32]   ┆ list[dateti ┆            ┆   ┆          ┆          ┆          ┆          │\n",
       "│         ┆             ┆ me[μs]]     ┆            ┆   ┆          ┆          ┆          ┆          │\n",
       "╞═════════╪═════════════╪═════════════╪════════════╪═══╪══════════╪══════════╪══════════╪══════════╡\n",
       "│ 10623   ┆ [9750749,   ┆ [2023-05-05 ┆ [118, 457, ┆ … ┆ 0.3      ┆ 0.213333 ┆ 0.913333 ┆ 0.893333 │\n",
       "│         ┆ 9685790, …  ┆ 07:51:01,   ┆ … 414]     ┆   ┆          ┆          ┆          ┆          │\n",
       "│         ┆ 9779517]    ┆ 2023-05-05… ┆            ┆   ┆          ┆          ┆          ┆          │\n",
       "│ 12718   ┆ [9749036,   ┆ [2023-05-04 ┆ [118, 118, ┆ … ┆ 0.114035 ┆ 0.254386 ┆ 0.947368 ┆ 0.807018 │\n",
       "│         ┆ 9749025, …  ┆ 07:49:49,   ┆ … 140]     ┆   ┆          ┆          ┆          ┆          │\n",
       "│         ┆ 9778718]    ┆ 2023-05-04… ┆            ┆   ┆          ┆          ┆          ┆          │\n",
       "└─────────┴─────────────┴─────────────┴────────────┴───┴──────────┴──────────┴──────────┴──────────┘"
      ]
     },
     "execution_count": 47,
     "metadata": {},
     "output_type": "execute_result"
    }
   ],
   "source": [
    "%%time\n",
    "\n",
    "STRONG_THR = 0.8\n",
    "\n",
    "history_val = pl.concat(\n",
    "    rows.with_columns(pl.col('article_id_fixed').list.len().alias('NumArticlesHistory')) \\\n",
    "        .explode(['article_id_fixed', 'impression_time_fixed', 'read_time_fixed', 'scroll_percentage_fixed']) \\\n",
    "        .sort(by=['user_id', 'impression_time_fixed']) \\\n",
    "        .with_columns(\n",
    "            pl.col('impression_time_fixed').dt.weekday().alias('weekday'),\n",
    "            pl.col('impression_time_fixed').dt.hour().alias('hour'),\n",
    "        ).join(articles.select(['article_id', 'category', 'is_article_default', 'sentiment_label_int', \n",
    "                                'sentiment_score', 'entity_groups', 'topics']), \n",
    "               left_on='article_id_fixed', right_on='article_id', how='left') \\\n",
    "        .with_columns(\n",
    "            (pl.col('sentiment_label_int') == 0).alias('is_neutral'),\n",
    "            (pl.col('sentiment_label_int') == 1).alias('is_positive'),\n",
    "            (pl.col('sentiment_label_int') == -1).alias('is_negative'),\n",
    "            ((pl.col('sentiment_label_int') == 0) & (pl.col('sentiment_score') > STRONG_THR)).alias('strong_neutral'),\n",
    "            ((pl.col('sentiment_label_int') == 1) & (pl.col('sentiment_score') > STRONG_THR)).alias('strong_positive'),\n",
    "            ((pl.col('sentiment_label_int') == -1) & (pl.col('sentiment_score') > STRONG_THR)).alias('strong_negative'),\n",
    "            pl.col('entity_groups').list.unique(),\n",
    "        ).group_by('user_id').agg(\n",
    "            pl.col('article_id_fixed'),\n",
    "            pl.col('impression_time_fixed'),\n",
    "            pl.col('category'),\n",
    "            pl.col('NumArticlesHistory').first(),\n",
    "            pl.col('read_time_fixed').median().alias('MedianReadTime'),\n",
    "            pl.col('read_time_fixed').max().alias('MaxReadTime'),\n",
    "            pl.col('read_time_fixed').sum().alias('TotalReadTime'),\n",
    "            pl.col('scroll_percentage_fixed').median().alias('MedianScrollPercentage'),\n",
    "            pl.col('scroll_percentage_fixed').max().alias('MaxScrollPercentage'),\n",
    "            (pl.col('is_neutral').sum() / pl.col('NumArticlesHistory').first()).alias('NeutralPct'),\n",
    "            (pl.col('is_positive').sum() / pl.col('NumArticlesHistory').first()).alias('PositivePct'),\n",
    "            (pl.col('is_negative').sum() / pl.col('NumArticlesHistory').first()).alias('NegativePct'),\n",
    "            (pl.col('strong_neutral').sum() / pl.col('NumArticlesHistory').first()).alias('PctStrongNeutral'),\n",
    "            (pl.col('strong_positive').sum() / pl.col('NumArticlesHistory').first()).alias('PctStrongPositive'),\n",
    "            (pl.col('strong_negative').sum() / pl.col('NumArticlesHistory').first()).alias('PctStrongNegative'),\n",
    "            (1 - (pl.col('is_article_default').sum() / pl.col('NumArticlesHistory').first())).alias('PctNotDefaultArticles'),\n",
    "            pl.col('category').mode().alias('MostFrequentCategory'),\n",
    "            pl.col('weekday').mode().alias('MostFrequentWeekday'),\n",
    "            pl.col('hour').mode().alias('MostFrequentHour'),\n",
    "            pl.col('entity_groups').flatten(),\n",
    "            pl.col('topics').flatten().alias('topics_flatten')\n",
    "        ).pipe(add_topics_tf_idf_columns, topics_col='topics_flatten', vectorizer=vectorizer) \\\n",
    "        .drop('topics_flatten').with_columns(\n",
    "            pl.col('MostFrequentCategory').list.first(),\n",
    "            pl.col('MostFrequentWeekday').list.first(),\n",
    "            pl.col('MostFrequentHour').list.first(),\n",
    "        ).with_columns(\n",
    "            (pl.col('entity_groups').list.count_matches(entity) / pl.col('NumArticlesHistory')).alias(f'{entity}Pct')\n",
    "            for entity in unique_entities\n",
    "        ).drop('entity_groups')\n",
    "    for rows in tqdm.tqdm(history_val.iter_slices(1000), total=history_val.shape[0] // 1000)\n",
    ")\n",
    "\n",
    "gc.collect()\n",
    "PrintColor(f\"\\n\" + GetMemUsage(), color = Fore.RED)\n",
    "history_val = reduce_polars_df_memory_size(history_val)\n",
    "history_val.head(2)"
   ]
  },
  {
   "cell_type": "code",
   "execution_count": 48,
   "id": "0ffe517b",
   "metadata": {
    "execution": {
     "iopub.execute_input": "2024-04-07T20:27:22.626053Z",
     "iopub.status.busy": "2024-04-07T20:27:22.625658Z",
     "iopub.status.idle": "2024-04-07T20:27:23.990395Z",
     "shell.execute_reply": "2024-04-07T20:27:23.989208Z"
    },
    "papermill": {
     "duration": 1.424996,
     "end_time": "2024-04-07T20:27:23.994341",
     "exception": false,
     "start_time": "2024-04-07T20:27:22.569345",
     "status": "completed"
    },
    "tags": []
   },
   "outputs": [],
   "source": [
    "last_history_df = history_val.with_columns(\n",
    "    pl.col('impression_time_fixed').list.max().alias('last_history_impression_time'),\n",
    "    pl.col('article_id_fixed').list.tail(1).alias('last_history_article'),\n",
    ").select(['user_id', 'last_history_impression_time', 'last_history_article'])\n",
    "\n",
    "last_session_time_df = behaviors_val.select(['session_id', 'user_id', 'impression_time', 'article_ids_inview', 'article_ids_clicked']) \\\n",
    "    .group_by('session_id').agg(\n",
    "        pl.col('user_id').first(), \n",
    "        pl.col('impression_time').max().alias('session_time'), \n",
    "        pl.col('article_ids_inview').flatten().alias('all_seen_articles'),\n",
    "        (pl.col('impression_time').max() - pl.col('impression_time').min()).dt.total_minutes().alias('session_duration'),\n",
    "    ).with_columns(\n",
    "        pl.col(['session_time', 'session_duration']).shift(1).over('user_id').name.prefix('last_'),\n",
    "        pl.col('all_seen_articles').list.unique().shift(1).over('user_id'),\n",
    "        pl.col('session_duration').rolling_mean(100, min_periods=1).over('user_id').alias('mean_prev_sessions_duration'),\n",
    "    ).with_columns(pl.col(['last_session_duration']).fill_null(0)) \\\n",
    "    .join(last_history_df, on='user_id', how='left') \\\n",
    "    .with_columns(\n",
    "        pl.col('last_session_time').fill_null(pl.col('last_history_impression_time')),\n",
    "        pl.col('all_seen_articles').fill_null(pl.col('last_history_article')),\n",
    "    ).select(['session_id', 'last_session_time', 'last_session_duration',\n",
    "              'all_seen_articles', 'mean_prev_sessions_duration'])"
   ]
  },
  {
   "cell_type": "code",
   "execution_count": 49,
   "id": "692f7d46",
   "metadata": {
    "execution": {
     "iopub.execute_input": "2024-04-07T20:27:24.113539Z",
     "iopub.status.busy": "2024-04-07T20:27:24.113145Z",
     "iopub.status.idle": "2024-04-07T20:29:22.292138Z",
     "shell.execute_reply": "2024-04-07T20:29:22.290665Z"
    },
    "papermill": {
     "duration": 118.238329,
     "end_time": "2024-04-07T20:29:22.294728",
     "exception": false,
     "start_time": "2024-04-07T20:27:24.056399",
     "status": "completed"
    },
    "tags": []
   },
   "outputs": [
    {
     "name": "stdout",
     "output_type": "stream",
     "text": [
      "\u001b[1m\u001b[31m\n",
      "RAM memory GB usage = 5.117\u001b[0m\n",
      "Memory usage of dataframe is 519.55 MB\n",
      "Memory usage after optimization is: 354.74 MB\n",
      "Decreased by 31.7%\n",
      "\u001b[1m\u001b[31m\n",
      "RAM memory GB usage = 4.73\u001b[0m\n",
      "CPU times: user 6min 4s, sys: 26.1 s, total: 6min 30s\n",
      "Wall time: 1min 58s\n"
     ]
    },
    {
     "data": {
      "text/html": [
       "<div><style>\n",
       ".dataframe > thead > tr,\n",
       ".dataframe > tbody > tr {\n",
       "  text-align: right;\n",
       "  white-space: pre-wrap;\n",
       "}\n",
       "</style>\n",
       "<small>shape: (5, 48)</small><table border=\"1\" class=\"dataframe\"><thead><tr><th>impression_id</th><th>article</th><th>user_id</th><th>target</th><th>device_type</th><th>read_time</th><th>scroll_percentage</th><th>is_sso_user</th><th>gender</th><th>age</th><th>is_subscriber</th><th>mean_topics_mean_delay_days</th><th>mean_topics_mean_delay_hours</th><th>user_mean_delay_days</th><th>user_mean_delay_hours</th><th>trendiness_score</th><th>mean_user_trendiness_score</th><th>mean_topics_trendiness_score</th><th>weekday</th><th>hour</th><th>premium</th><th>category</th><th>sentiment_score</th><th>sentiment_label</th><th>num_images</th><th>title_len</th><th>subtitle_len</th><th>body_len</th><th>article_delay_days</th><th>article_delay_hours</th><th>Entity_LOC_Present</th><th>Entity_MISC_Present</th><th>Entity_EVENT_Present</th><th>Entity_PROD_Present</th><th>Entity_ORG_Present</th><th>Entity_PER_Present</th><th>last_session_duration</th><th>mean_prev_sessions_duration</th><th>last_session_time_hour_diff</th><th>is_new_article</th><th>is_already_seen_article</th><th>yesterday_category_daily_pct</th><th>total_ner_svd_scores</th><th>mean_ner_svd_scores</th><th>max_ner_svd_scores</th><th>total_ner_item_knn_scores</th><th>mean_ner_item_knn_scores</th><th>max_ner_item_knn_scores</th></tr><tr><td>u32</td><td>i32</td><td>u32</td><td>i8</td><td>i8</td><td>f32</td><td>f32</td><td>bool</td><td>i8</td><td>i8</td><td>bool</td><td>f32</td><td>f32</td><td>f32</td><td>f32</td><td>f32</td><td>f32</td><td>f32</td><td>i8</td><td>i8</td><td>bool</td><td>i16</td><td>f32</td><td>str</td><td>u32</td><td>u8</td><td>u8</td><td>u16</td><td>i16</td><td>i32</td><td>bool</td><td>bool</td><td>bool</td><td>bool</td><td>bool</td><td>bool</td><td>i8</td><td>f32</td><td>i16</td><td>bool</td><td>bool</td><td>f32</td><td>f32</td><td>f32</td><td>f32</td><td>f32</td><td>f32</td><td>f32</td></tr></thead><tbody><tr><td>96791</td><td>9784710</td><td>22548</td><td>0</td><td>2</td><td>9.0</td><td>null</td><td>false</td><td>2</td><td>null</td><td>false</td><td>5.399225</td><td>132.029892</td><td>0.023077</td><td>2.846154</td><td>5.961538</td><td>2.880177</td><td>4.650137</td><td>7</td><td>4</td><td>false</td><td>142</td><td>0.8887</td><td>&quot;Positive&quot;</td><td>2</td><td>8</td><td>5</td><td>201</td><td>0</td><td>6</td><td>true</td><td>false</td><td>false</td><td>false</td><td>true</td><td>true</td><td>2</td><td>5.3</td><td>-63</td><td>true</td><td>false</td><td>0.357143</td><td>0.132553</td><td>0.128261</td><td>0.250056</td><td>0.14424</td><td>0.138428</td><td>0.238728</td></tr><tr><td>96821</td><td>9782884</td><td>22548</td><td>0</td><td>2</td><td>43.0</td><td>null</td><td>false</td><td>2</td><td>null</td><td>false</td><td>4.395224</td><td>108.300552</td><td>0.023077</td><td>2.846154</td><td>1.628205</td><td>2.880177</td><td>2.816987</td><td>7</td><td>4</td><td>false</td><td>512</td><td>0.9475</td><td>&quot;Negative&quot;</td><td>7</td><td>5</td><td>24</td><td>458</td><td>0</td><td>7</td><td>true</td><td>false</td><td>false</td><td>true</td><td>true</td><td>true</td><td>17</td><td>7.0</td><td>-71</td><td>true</td><td>false</td><td>0.008929</td><td>0.026954</td><td>0.03097</td><td>0.063093</td><td>0.028857</td><td>0.033391</td><td>0.070377</td></tr><tr><td>96821</td><td>9782656</td><td>22548</td><td>0</td><td>2</td><td>43.0</td><td>null</td><td>false</td><td>2</td><td>null</td><td>false</td><td>6.368984</td><td>155.472488</td><td>0.023077</td><td>2.846154</td><td>0.897436</td><td>2.880177</td><td>2.903275</td><td>7</td><td>4</td><td>false</td><td>457</td><td>0.7073</td><td>&quot;Neutral&quot;</td><td>3</td><td>10</td><td>21</td><td>335</td><td>0</td><td>9</td><td>true</td><td>true</td><td>false</td><td>false</td><td>true</td><td>false</td><td>17</td><td>7.0</td><td>-71</td><td>true</td><td>false</td><td>0.035714</td><td>0.057082</td><td>0.229553</td><td>0.071153</td><td>0.057613</td><td>0.233323</td><td>0.07094</td></tr><tr><td>97411</td><td>9784679</td><td>25554</td><td>0</td><td>2</td><td>14.0</td><td>null</td><td>false</td><td>2</td><td>null</td><td>false</td><td>2.796335</td><td>69.457573</td><td>0.017058</td><td>2.484009</td><td>4.333333</td><td>2.796266</td><td>5.079832</td><td>7</td><td>4</td><td>false</td><td>142</td><td>0.9781</td><td>&quot;Positive&quot;</td><td>4</td><td>8</td><td>9</td><td>213</td><td>0</td><td>8</td><td>true</td><td>false</td><td>false</td><td>false</td><td>true</td><td>true</td><td>4</td><td>3.5</td><td>47</td><td>false</td><td>false</td><td>0.357143</td><td>0.260943</td><td>0.281607</td><td>0.195967</td><td>0.231116</td><td>0.24981</td><td>0.167464</td></tr><tr><td>97411</td><td>9784696</td><td>25554</td><td>0</td><td>2</td><td>14.0</td><td>null</td><td>false</td><td>2</td><td>null</td><td>false</td><td>5.160991</td><td>126.33223</td><td>0.017058</td><td>2.484009</td><td>3.51282</td><td>2.796266</td><td>4.827869</td><td>7</td><td>4</td><td>false</td><td>142</td><td>0.9529</td><td>&quot;Positive&quot;</td><td>1</td><td>7</td><td>14</td><td>227</td><td>0</td><td>7</td><td>true</td><td>false</td><td>true</td><td>false</td><td>true</td><td>false</td><td>4</td><td>3.5</td><td>47</td><td>false</td><td>false</td><td>0.357143</td><td>0.402234</td><td>0.379826</td><td>0.210823</td><td>0.400934</td><td>0.379194</td><td>0.191682</td></tr></tbody></table></div>"
      ],
      "text/plain": [
       "shape: (5, 48)\n",
       "┌─────────────┬─────────┬─────────┬────────┬───┬────────────┬────────────┬────────────┬────────────┐\n",
       "│ impression_ ┆ article ┆ user_id ┆ target ┆ … ┆ max_ner_sv ┆ total_ner_ ┆ mean_ner_i ┆ max_ner_it │\n",
       "│ id          ┆ ---     ┆ ---     ┆ ---    ┆   ┆ d_scores   ┆ item_knn_s ┆ tem_knn_sc ┆ em_knn_sco │\n",
       "│ ---         ┆ i32     ┆ u32     ┆ i8     ┆   ┆ ---        ┆ cores      ┆ ores       ┆ res        │\n",
       "│ u32         ┆         ┆         ┆        ┆   ┆ f32        ┆ ---        ┆ ---        ┆ ---        │\n",
       "│             ┆         ┆         ┆        ┆   ┆            ┆ f32        ┆ f32        ┆ f32        │\n",
       "╞═════════════╪═════════╪═════════╪════════╪═══╪════════════╪════════════╪════════════╪════════════╡\n",
       "│ 96791       ┆ 9784710 ┆ 22548   ┆ 0      ┆ … ┆ 0.250056   ┆ 0.14424    ┆ 0.138428   ┆ 0.238728   │\n",
       "│ 96821       ┆ 9782884 ┆ 22548   ┆ 0      ┆ … ┆ 0.063093   ┆ 0.028857   ┆ 0.033391   ┆ 0.070377   │\n",
       "│ 96821       ┆ 9782656 ┆ 22548   ┆ 0      ┆ … ┆ 0.071153   ┆ 0.057613   ┆ 0.233323   ┆ 0.07094    │\n",
       "│ 97411       ┆ 9784679 ┆ 25554   ┆ 0      ┆ … ┆ 0.195967   ┆ 0.231116   ┆ 0.24981    ┆ 0.167464   │\n",
       "│ 97411       ┆ 9784696 ┆ 25554   ┆ 0      ┆ … ┆ 0.210823   ┆ 0.400934   ┆ 0.379194   ┆ 0.191682   │\n",
       "└─────────────┴─────────┴─────────┴────────┴───┴────────────┴────────────┴────────────┴────────────┘"
      ]
     },
     "execution_count": 49,
     "metadata": {},
     "output_type": "execute_result"
    }
   ],
   "source": [
    "%%time\n",
    "\n",
    "NPRATIO = 2\n",
    "\n",
    "# dropping duplicates that can occur because of sampling strategy\n",
    "val_ds = behaviors_val.pipe(create_binary_labels_column, shuffle=True, seed=123) \\\n",
    "    .with_columns(pl.col('gender').fill_null(2)) \\\n",
    "    .select(['impression_id', 'article_ids_inview', 'impression_time', 'labels', \n",
    "             'device_type', 'read_time', 'scroll_percentage', 'user_id', 'is_sso_user', 'gender',\n",
    "             'age', 'is_subscriber', 'session_id']) \\\n",
    "    .explode(['article_ids_inview', 'labels']) \\\n",
    "    .rename({'article_ids_inview': 'article', 'labels': 'target'}) \\\n",
    "    .with_columns(pl.col('article').cast(pl.Int32)) \\\n",
    "    .pipe(add_mean_delays_features, articles=articles, history=history_val) \\\n",
    "    .pipe(add_trendiness_feature, articles=articles, period='3d') \\\n",
    "    .pipe(add_history_trendiness_scores_feature, history=history_val, articles=articles) \\\n",
    "    .unique(['impression_id', 'article']) \\\n",
    "    .with_columns(\n",
    "        pl.col('impression_time').dt.weekday().alias('weekday'),\n",
    "        pl.col('impression_time').dt.hour().alias('hour'),\n",
    "        pl.col('article').cast(pl.Int32),\n",
    "    ).join(articles.select(['article_id', 'premium', 'published_time', 'category',\n",
    "                            'sentiment_score', 'sentiment_label', 'entity_groups',\n",
    "                            'num_images', 'title_len', 'subtitle_len', 'body_len']),\n",
    "           left_on='article', right_on='article_id', how='left') \\\n",
    "    .with_columns(\n",
    "        (pl.col('impression_time') - pl.col('published_time')).dt.total_days().alias('article_delay_days'),\n",
    "        (pl.col('impression_time') - pl.col('published_time')).dt.total_hours().alias('article_delay_hours')\n",
    "    ).with_columns(\n",
    "        pl.col('entity_groups').list.contains(entity).alias(f'Entity_{entity}_Present')\n",
    "        for entity in unique_entities\n",
    "    ).drop('entity_groups') \\\n",
    "    .join(last_session_time_df, on='session_id', how='left').with_columns(\n",
    "        (pl.col('impression_time') - pl.col('last_session_time')).dt.total_hours().alias('last_session_time_hour_diff'),\n",
    "        ((pl.col('last_session_time') - pl.col('published_time')).dt.total_hours() > 0).alias('is_new_article'),\n",
    "        pl.col('all_seen_articles').list.contains(pl.col('article')).alias('is_already_seen_article'),\n",
    "    ).drop(['published_time', 'session_id', 'all_seen_articles', 'last_session_time']) \\\n",
    "    .join(published_category_popularity, how='left', right_on=['published_date', 'category'],\n",
    "                         left_on=[pl.col('impression_time').dt.date() - pl.duration(days=1), 'category']) \\\n",
    "    .rename({'category_daily_pct': 'yesterday_category_daily_pct'}).drop(['impression_time']) \\\n",
    "    .with_columns(pl.col('yesterday_category_daily_pct').fill_null(0)) \\\n",
    "    .join(behaviors_ner_scores, on=['impression_id', 'article'], how='left')\n",
    "\n",
    "gc.collect()\n",
    "PrintColor(f\"\\n\" + GetMemUsage(), color = Fore.RED)\n",
    "\n",
    "val_ds = reduce_polars_df_memory_size(val_ds)\n",
    "PrintColor(f\"\\n\" + GetMemUsage(), color = Fore.RED)\n",
    "val_ds.head()"
   ]
  },
  {
   "cell_type": "code",
   "execution_count": 50,
   "id": "2dbd8caa",
   "metadata": {
    "execution": {
     "iopub.execute_input": "2024-04-07T20:29:22.407718Z",
     "iopub.status.busy": "2024-04-07T20:29:22.407260Z",
     "iopub.status.idle": "2024-04-07T20:29:22.414709Z",
     "shell.execute_reply": "2024-04-07T20:29:22.413496Z"
    },
    "papermill": {
     "duration": 0.067502,
     "end_time": "2024-04-07T20:29:22.417507",
     "exception": false,
     "start_time": "2024-04-07T20:29:22.350005",
     "status": "completed"
    },
    "tags": []
   },
   "outputs": [
    {
     "data": {
      "text/plain": [
       "(2928942, 48)"
      ]
     },
     "execution_count": 50,
     "metadata": {},
     "output_type": "execute_result"
    }
   ],
   "source": [
    "val_ds.shape"
   ]
  },
  {
   "cell_type": "code",
   "execution_count": 51,
   "id": "37bb7318",
   "metadata": {
    "execution": {
     "iopub.execute_input": "2024-04-07T20:29:22.529293Z",
     "iopub.status.busy": "2024-04-07T20:29:22.528899Z",
     "iopub.status.idle": "2024-04-07T21:14:36.414747Z",
     "shell.execute_reply": "2024-04-07T21:14:36.413519Z"
    },
    "papermill": {
     "duration": 2713.944794,
     "end_time": "2024-04-07T21:14:36.417547",
     "exception": false,
     "start_time": "2024-04-07T20:29:22.472753",
     "status": "completed"
    },
    "tags": []
   },
   "outputs": [
    {
     "name": "stderr",
     "output_type": "stream",
     "text": [
      "293it [45:12,  9.26s/it]\n"
     ]
    },
    {
     "name": "stdout",
     "output_type": "stream",
     "text": [
      "Memory usage of dataframe is 785.60 MB\n",
      "Memory usage after optimization is: 710.19 MB\n",
      "Decreased by 9.6%\n",
      "\u001b[1m\u001b[31m\n",
      "RAM memory GB usage = 5.867\u001b[0m\n"
     ]
    },
    {
     "data": {
      "text/html": [
       "<div><style>\n",
       ".dataframe > thead > tr,\n",
       ".dataframe > tbody > tr {\n",
       "  text-align: right;\n",
       "  white-space: pre-wrap;\n",
       "}\n",
       "</style>\n",
       "<small>shape: (5, 84)</small><table border=\"1\" class=\"dataframe\"><thead><tr><th>impression_id</th><th>article</th><th>user_id</th><th>target</th><th>device_type</th><th>read_time</th><th>scroll_percentage</th><th>is_sso_user</th><th>gender</th><th>age</th><th>is_subscriber</th><th>mean_topics_mean_delay_days</th><th>mean_topics_mean_delay_hours</th><th>user_mean_delay_days</th><th>user_mean_delay_hours</th><th>trendiness_score</th><th>mean_user_trendiness_score</th><th>mean_topics_trendiness_score</th><th>weekday</th><th>hour</th><th>premium</th><th>category</th><th>sentiment_score</th><th>sentiment_label</th><th>num_images</th><th>title_len</th><th>subtitle_len</th><th>body_len</th><th>article_delay_days</th><th>article_delay_hours</th><th>Entity_LOC_Present</th><th>Entity_MISC_Present</th><th>Entity_EVENT_Present</th><th>Entity_PROD_Present</th><th>Entity_ORG_Present</th><th>Entity_PER_Present</th><th>total_ner_svd_scores</th><th>&hellip;</th><th>yesterday_category_daily_pct</th><th>MeanCommonEntities</th><th>MaxCommonEntities</th><th>mean_JS</th><th>min_JS</th><th>max_JS</th><th>std_JS</th><th>mean_topic_model_cosine</th><th>min_topic_model_cosine</th><th>max_topic_model_cosine</th><th>std_topic_model_cosine</th><th>NumArticlesHistory</th><th>MedianReadTime</th><th>MaxReadTime</th><th>TotalReadTime</th><th>MedianScrollPercentage</th><th>MaxScrollPercentage</th><th>NeutralPct</th><th>PositivePct</th><th>NegativePct</th><th>PctStrongNeutral</th><th>PctStrongPositive</th><th>PctStrongNegative</th><th>PctNotDefaultArticles</th><th>MostFrequentCategory</th><th>MostFrequentWeekday</th><th>MostFrequentHour</th><th>LOCPct</th><th>MISCPct</th><th>EVENTPct</th><th>PRODPct</th><th>ORGPct</th><th>PERPct</th><th>topics_cosine</th><th>IsFavouriteCategory</th><th>NumberDifferentCategories</th><th>PctCategoryMatches</th></tr><tr><td>u32</td><td>i32</td><td>u32</td><td>i8</td><td>i8</td><td>f32</td><td>f32</td><td>bool</td><td>i8</td><td>i8</td><td>bool</td><td>f32</td><td>f32</td><td>f32</td><td>f32</td><td>f32</td><td>f32</td><td>f32</td><td>i8</td><td>i8</td><td>bool</td><td>i16</td><td>f32</td><td>str</td><td>u32</td><td>u8</td><td>u8</td><td>u16</td><td>i16</td><td>i32</td><td>bool</td><td>bool</td><td>bool</td><td>bool</td><td>bool</td><td>bool</td><td>f32</td><td>&hellip;</td><td>f32</td><td>f32</td><td>u32</td><td>f32</td><td>f32</td><td>f32</td><td>f32</td><td>f32</td><td>f32</td><td>f32</td><td>f32</td><td>u16</td><td>f32</td><td>f32</td><td>f32</td><td>f32</td><td>f32</td><td>f32</td><td>f32</td><td>f32</td><td>f32</td><td>f32</td><td>f32</td><td>f32</td><td>i16</td><td>i8</td><td>i8</td><td>f32</td><td>f32</td><td>f32</td><td>f32</td><td>f32</td><td>f32</td><td>f32</td><td>bool</td><td>u8</td><td>f32</td></tr></thead><tbody><tr><td>96821</td><td>9782656</td><td>22548</td><td>0</td><td>2</td><td>43.0</td><td>null</td><td>false</td><td>2</td><td>null</td><td>false</td><td>6.368984</td><td>155.472488</td><td>0.023077</td><td>2.846154</td><td>0.897436</td><td>2.880177</td><td>2.903275</td><td>7</td><td>4</td><td>false</td><td>457</td><td>0.7073</td><td>&quot;Neutral&quot;</td><td>3</td><td>10</td><td>21</td><td>335</td><td>0</td><td>9</td><td>true</td><td>true</td><td>false</td><td>false</td><td>true</td><td>false</td><td>0.057082</td><td>&hellip;</td><td>0.035714</td><td>1.853846</td><td>3</td><td>0.038684</td><td>0.0</td><td>0.5</td><td>0.088765</td><td>0.092483</td><td>0.014084</td><td>1.0</td><td>0.22802</td><td>130</td><td>16.0</td><td>650.0</td><td>4581.0</td><td>37.0</td><td>100.0</td><td>0.253846</td><td>0.153846</td><td>0.592308</td><td>0.115385</td><td>0.092308</td><td>0.507692</td><td>0.046154</td><td>118</td><td>1</td><td>9</td><td>0.738462</td><td>0.184615</td><td>0.238462</td><td>0.3</td><td>0.930769</td><td>0.838462</td><td>0.162899</td><td>false</td><td>7</td><td>0.953846</td></tr><tr><td>97411</td><td>9784696</td><td>25554</td><td>0</td><td>2</td><td>14.0</td><td>null</td><td>false</td><td>2</td><td>null</td><td>false</td><td>5.160991</td><td>126.33223</td><td>0.017058</td><td>2.484009</td><td>3.51282</td><td>2.796266</td><td>4.827869</td><td>7</td><td>4</td><td>false</td><td>142</td><td>0.9529</td><td>&quot;Positive&quot;</td><td>1</td><td>7</td><td>14</td><td>227</td><td>0</td><td>7</td><td>true</td><td>false</td><td>true</td><td>false</td><td>true</td><td>false</td><td>0.402234</td><td>&hellip;</td><td>0.357143</td><td>1.942431</td><td>3</td><td>0.126247</td><td>0.0</td><td>1.0</td><td>0.196032</td><td>0.079289</td><td>0.012693</td><td>1.0</td><td>0.199266</td><td>469</td><td>17.0</td><td>1577.0</td><td>18811.0</td><td>74.0</td><td>100.0</td><td>0.223881</td><td>0.138593</td><td>0.637527</td><td>0.093817</td><td>0.08742</td><td>0.530917</td><td>0.044776</td><td>118</td><td>1</td><td>4</td><td>0.799574</td><td>0.251599</td><td>0.232409</td><td>0.202559</td><td>0.910448</td><td>0.869936</td><td>0.40982</td><td>false</td><td>8</td><td>0.985075</td></tr><tr><td>99431</td><td>9784805</td><td>32455</td><td>0</td><td>2</td><td>134.0</td><td>100.0</td><td>false</td><td>2</td><td>null</td><td>false</td><td>3.370606</td><td>83.256798</td><td>0.0</td><td>1.177419</td><td>2.102564</td><td>2.450166</td><td>2.726342</td><td>7</td><td>4</td><td>false</td><td>118</td><td>0.8672</td><td>&quot;Neutral&quot;</td><td>1</td><td>8</td><td>18</td><td>316</td><td>0</td><td>0</td><td>true</td><td>false</td><td>false</td><td>false</td><td>true</td><td>true</td><td>0.192574</td><td>&hellip;</td><td>0.276786</td><td>2.5</td><td>3</td><td>0.071723</td><td>0.0</td><td>1.0</td><td>0.16278</td><td>0.172164</td><td>0.020833</td><td>0.945503</td><td>0.245257</td><td>62</td><td>37.5</td><td>1725.0</td><td>6987.0</td><td>100.0</td><td>100.0</td><td>0.322581</td><td>0.145161</td><td>0.532258</td><td>0.129032</td><td>0.096774</td><td>0.467742</td><td>0.064516</td><td>118</td><td>2</td><td>17</td><td>0.822581</td><td>0.225806</td><td>0.306452</td><td>0.306452</td><td>0.903226</td><td>0.774194</td><td>0.273393</td><td>true</td><td>7</td><td>0.903226</td></tr><tr><td>143782</td><td>9787499</td><td>73502</td><td>0</td><td>2</td><td>27.0</td><td>null</td><td>false</td><td>2</td><td>null</td><td>false</td><td>16.714951</td><td>404.023804</td><td>4.186094</td><td>103.159508</td><td>1.410256</td><td>2.432673</td><td>2.701349</td><td>2</td><td>14</td><td>false</td><td>414</td><td>0.632</td><td>&quot;Neutral&quot;</td><td>4</td><td>5</td><td>30</td><td>339</td><td>0</td><td>2</td><td>true</td><td>true</td><td>false</td><td>true</td><td>true</td><td>true</td><td>0.064474</td><td>&hellip;</td><td>0.111111</td><td>3.126789</td><td>5</td><td>0.062068</td><td>0.0</td><td>0.666667</td><td>0.099028</td><td>0.137108</td><td>0.026236</td><td>0.957738</td><td>0.215248</td><td>489</td><td>41.0</td><td>1719.0</td><td>47590.0</td><td>100.0</td><td>100.0</td><td>0.239264</td><td>0.092025</td><td>0.668712</td><td>0.134969</td><td>0.04499</td><td>0.582822</td><td>0.038855</td><td>118</td><td>4</td><td>10</td><td>0.789366</td><td>0.200409</td><td>0.149284</td><td>0.329243</td><td>0.928425</td><td>0.879346</td><td>0.221269</td><td>false</td><td>12</td><td>0.977505</td></tr><tr><td>146902</td><td>9780702</td><td>84583</td><td>0</td><td>2</td><td>22.0</td><td>null</td><td>false</td><td>2</td><td>null</td><td>false</td><td>7.265685</td><td>176.818451</td><td>0.22871</td><td>8.63017</td><td>0.384615</td><td>3.836359</td><td>3.349762</td><td>2</td><td>14</td><td>true</td><td>457</td><td>0.7606</td><td>&quot;Positive&quot;</td><td>2</td><td>11</td><td>32</td><td>437</td><td>0</td><td>6</td><td>true</td><td>true</td><td>false</td><td>false</td><td>true</td><td>true</td><td>0.116991</td><td>&hellip;</td><td>0.027778</td><td>2.905109</td><td>4</td><td>0.020505</td><td>0.0</td><td>1.0</td><td>0.084885</td><td>0.093505</td><td>0.015981</td><td>0.999322</td><td>0.188876</td><td>411</td><td>10.0</td><td>595.0</td><td>7708.0</td><td>35.0</td><td>100.0</td><td>0.240876</td><td>0.22871</td><td>0.530414</td><td>0.107056</td><td>0.145985</td><td>0.442822</td><td>0.038929</td><td>142</td><td>6</td><td>10</td><td>0.788321</td><td>0.304136</td><td>0.3309</td><td>0.270073</td><td>0.914842</td><td>0.89781</td><td>0.072113</td><td>false</td><td>10</td><td>0.978102</td></tr></tbody></table></div>"
      ],
      "text/plain": [
       "shape: (5, 84)\n",
       "┌─────────────┬─────────┬─────────┬────────┬───┬────────────┬────────────┬────────────┬────────────┐\n",
       "│ impression_ ┆ article ┆ user_id ┆ target ┆ … ┆ topics_cos ┆ IsFavourit ┆ NumberDiff ┆ PctCategor │\n",
       "│ id          ┆ ---     ┆ ---     ┆ ---    ┆   ┆ ine        ┆ eCategory  ┆ erentCateg ┆ yMatches   │\n",
       "│ ---         ┆ i32     ┆ u32     ┆ i8     ┆   ┆ ---        ┆ ---        ┆ ories      ┆ ---        │\n",
       "│ u32         ┆         ┆         ┆        ┆   ┆ f32        ┆ bool       ┆ ---        ┆ f32        │\n",
       "│             ┆         ┆         ┆        ┆   ┆            ┆            ┆ u8         ┆            │\n",
       "╞═════════════╪═════════╪═════════╪════════╪═══╪════════════╪════════════╪════════════╪════════════╡\n",
       "│ 96821       ┆ 9782656 ┆ 22548   ┆ 0      ┆ … ┆ 0.162899   ┆ false      ┆ 7          ┆ 0.953846   │\n",
       "│ 97411       ┆ 9784696 ┆ 25554   ┆ 0      ┆ … ┆ 0.40982    ┆ false      ┆ 8          ┆ 0.985075   │\n",
       "│ 99431       ┆ 9784805 ┆ 32455   ┆ 0      ┆ … ┆ 0.273393   ┆ true       ┆ 7          ┆ 0.903226   │\n",
       "│ 143782      ┆ 9787499 ┆ 73502   ┆ 0      ┆ … ┆ 0.221269   ┆ false      ┆ 12         ┆ 0.977505   │\n",
       "│ 146902      ┆ 9780702 ┆ 84583   ┆ 0      ┆ … ┆ 0.072113   ┆ false      ┆ 10         ┆ 0.978102   │\n",
       "└─────────────┴─────────┴─────────┴────────┴───┴────────────┴────────────┴────────────┴────────────┘"
      ]
     },
     "execution_count": 51,
     "metadata": {},
     "output_type": "execute_result"
    }
   ],
   "source": [
    "prev_columns = [c for c in val_ds.columns if c not in ['impression_id', 'article']]\n",
    "\n",
    "val_ds = pl.concat(\n",
    "    rows.join(history_val.select(['user_id', 'article_id_fixed']), on='user_id', how='left') \\\n",
    "        .join(articles.select(['article_id', 'topics', 'entity_groups', 'topics_idf'] + topic_model_columns), \n",
    "              left_on='article', right_on='article_id', how='left') \\\n",
    "        .explode(['article_id_fixed']) \\\n",
    "        .join(articles.select(['article_id', 'topics', 'entity_groups'] + topic_model_columns), \n",
    "              left_on='article_id_fixed', right_on='article_id', how='left') \\\n",
    "        .rename({'topics_right': 'topics_history', 'entity_groups_right': 'entity_groups_history'}) \\\n",
    "        .rename({f'topic_model_embedding_{i}_right': f'topic_model_embedding_{i}_history' for i in range(20)}) \\\n",
    "        .with_columns(\n",
    "            (pl.col(\"topics\").list.set_intersection(pl.col(\"topics_history\")).list.len().truediv(\n",
    "                pl.col(\"topics\").list.set_union(pl.col(\"topics_history\")).list.len()\n",
    "            )).alias(\"JS\"),\n",
    "            pl.col('entity_groups').list.set_intersection(pl.col('entity_groups_history')).list.len().alias('common_entities'),\n",
    "        ).drop(['entity_groups_history', 'entity_groups', 'topics', 'topics_history']) \\\n",
    "        .with_columns(\n",
    "            [pl.col(x).mul(pl.col(f'{x}_history')).alias(f'{x}_dot') for x in topic_model_columns] + \\\n",
    "            [pl.col(x).mul(pl.col(x)) for x in topic_model_columns] + \\\n",
    "            [pl.col(f'{x}_history').mul(pl.col(f'{x}_history')) for x in topic_model_columns]\n",
    "        ).with_columns(\n",
    "            pl.sum_horizontal(topic_model_columns).sqrt().alias('topic_model_norm'),\n",
    "            pl.sum_horizontal([f'{x}_history' for x in topic_model_columns]).sqrt().alias('topic_model_history_norm'),\n",
    "            pl.sum_horizontal([f'{x}_dot' for x in topic_model_columns]).alias('topic_model_dot'),\n",
    "        ).with_columns(\n",
    "            pl.col('topic_model_dot').truediv(pl.col('topic_model_norm').mul('topic_model_history_norm')).alias('topic_model_cosine')\n",
    "        ).group_by(['impression_id', 'article']).agg(\n",
    "            pl.col(prev_train_columns).first(),\n",
    "            pl.col('topics_idf').first(),\n",
    "            pl.col('common_entities').mean().alias('MeanCommonEntities'),\n",
    "            pl.col('common_entities').max().alias('MaxCommonEntities'),\n",
    "            pl.col(\"JS\").mean().alias(\"mean_JS\"),\n",
    "            pl.col(\"JS\").min().alias(\"min_JS\"),\n",
    "            pl.col(\"JS\").max().alias(\"max_JS\"),\n",
    "            pl.col(\"JS\").std().alias(\"std_JS\"),\n",
    "            pl.col(\"topic_model_cosine\").mean().alias(\"mean_topic_model_cosine\"),\n",
    "            pl.col(\"topic_model_cosine\").min().alias(\"min_topic_model_cosine\"),\n",
    "            pl.col(\"topic_model_cosine\").max().alias(\"max_topic_model_cosine\"),\n",
    "            pl.col(\"topic_model_cosine\").std().alias(\"std_topic_model_cosine\"),\n",
    "        ).join(history_val.drop(['article_id_fixed', 'impression_time_fixed']), on='user_id', how='left') \\\n",
    "        .with_columns(\n",
    "            pl.struct(['topics_idf', 'topics_flatten_tf_idf']).map_elements(\n",
    "                lambda x: cosine_similarity(x['topics_idf'], x['topics_flatten_tf_idf']), return_dtype=pl.Float64\n",
    "            ).cast(pl.Float32).alias('topics_cosine'),\n",
    "            (pl.col('category') == pl.col('MostFrequentCategory')).alias('IsFavouriteCategory'),\n",
    "            pl.col('category_right').list.n_unique().alias('NumberDifferentCategories'),\n",
    "            list_pct_matches_with_col('category_right', 'category').alias('PctCategoryMatches'),\n",
    "        ).drop(['topics_idf', 'topics_flatten', 'topics_flatten_tf_idf', 'category_right'])\n",
    "    for rows in tqdm.tqdm(val_ds.iter_slices(10000), total=val_ds.shape[0] // 10000)\n",
    ")\n",
    "\n",
    "val_ds = reduce_polars_df_memory_size(val_ds)\n",
    "PrintColor(f\"\\n\" + GetMemUsage(), color = Fore.RED)\n",
    "val_ds.head()"
   ]
  },
  {
   "cell_type": "code",
   "execution_count": 52,
   "id": "bfde7f5a",
   "metadata": {
    "execution": {
     "iopub.execute_input": "2024-04-07T21:14:36.586377Z",
     "iopub.status.busy": "2024-04-07T21:14:36.585947Z",
     "iopub.status.idle": "2024-04-07T21:14:36.775041Z",
     "shell.execute_reply": "2024-04-07T21:14:36.773916Z"
    },
    "papermill": {
     "duration": 0.27632,
     "end_time": "2024-04-07T21:14:36.777468",
     "exception": false,
     "start_time": "2024-04-07T21:14:36.501148",
     "status": "completed"
    },
    "tags": []
   },
   "outputs": [
    {
     "data": {
      "text/plain": [
       "0"
      ]
     },
     "execution_count": 52,
     "metadata": {},
     "output_type": "execute_result"
    }
   ],
   "source": [
    "del history_val\n",
    "del articles\n",
    "del behaviors_val\n",
    "\n",
    "gc.collect()"
   ]
  },
  {
   "cell_type": "code",
   "execution_count": 53,
   "id": "48070317",
   "metadata": {
    "execution": {
     "iopub.execute_input": "2024-04-07T21:14:36.950121Z",
     "iopub.status.busy": "2024-04-07T21:14:36.949681Z",
     "iopub.status.idle": "2024-04-07T21:14:36.956996Z",
     "shell.execute_reply": "2024-04-07T21:14:36.955661Z"
    },
    "papermill": {
     "duration": 0.097033,
     "end_time": "2024-04-07T21:14:36.959757",
     "exception": false,
     "start_time": "2024-04-07T21:14:36.862724",
     "status": "completed"
    },
    "tags": []
   },
   "outputs": [
    {
     "data": {
      "text/plain": [
       "(2928942, 84)"
      ]
     },
     "execution_count": 53,
     "metadata": {},
     "output_type": "execute_result"
    }
   ],
   "source": [
    "val_ds.shape"
   ]
  },
  {
   "cell_type": "code",
   "execution_count": 54,
   "id": "cd017c95",
   "metadata": {
    "execution": {
     "iopub.execute_input": "2024-04-07T21:14:37.131297Z",
     "iopub.status.busy": "2024-04-07T21:14:37.130887Z",
     "iopub.status.idle": "2024-04-07T21:14:37.138522Z",
     "shell.execute_reply": "2024-04-07T21:14:37.137338Z"
    },
    "papermill": {
     "duration": 0.097722,
     "end_time": "2024-04-07T21:14:37.141093",
     "exception": false,
     "start_time": "2024-04-07T21:14:37.043371",
     "status": "completed"
    },
    "tags": []
   },
   "outputs": [
    {
     "data": {
      "text/plain": [
       "['device_type',\n",
       " 'is_sso_user',\n",
       " 'gender',\n",
       " 'is_subscriber',\n",
       " 'weekday',\n",
       " 'premium',\n",
       " 'category',\n",
       " 'sentiment_label',\n",
       " 'is_new_article',\n",
       " 'is_already_seen_article',\n",
       " 'MostFrequentCategory',\n",
       " 'MostFrequentWeekday',\n",
       " 'IsFavouriteCategory',\n",
       " 'Entity_LOC_Present',\n",
       " 'Entity_MISC_Present',\n",
       " 'Entity_EVENT_Present',\n",
       " 'Entity_PROD_Present',\n",
       " 'Entity_ORG_Present',\n",
       " 'Entity_PER_Present']"
      ]
     },
     "execution_count": 54,
     "metadata": {},
     "output_type": "execute_result"
    }
   ],
   "source": [
    "model.get_param('cat_features')"
   ]
  },
  {
   "cell_type": "code",
   "execution_count": 55,
   "id": "b678c78b",
   "metadata": {
    "execution": {
     "iopub.execute_input": "2024-04-07T21:14:37.313217Z",
     "iopub.status.busy": "2024-04-07T21:14:37.312822Z",
     "iopub.status.idle": "2024-04-07T21:14:42.894363Z",
     "shell.execute_reply": "2024-04-07T21:14:42.893143Z"
    },
    "papermill": {
     "duration": 5.670404,
     "end_time": "2024-04-07T21:14:42.896983",
     "exception": false,
     "start_time": "2024-04-07T21:14:37.226579",
     "status": "completed"
    },
    "tags": []
   },
   "outputs": [
    {
     "data": {
      "text/html": [
       "<div><style>\n",
       ".dataframe > thead > tr,\n",
       ".dataframe > tbody > tr {\n",
       "  text-align: right;\n",
       "  white-space: pre-wrap;\n",
       "}\n",
       "</style>\n",
       "<small>shape: (2_928_942, 3)</small><table border=\"1\" class=\"dataframe\"><thead><tr><th>impression_id</th><th>target</th><th>prediction</th></tr><tr><td>u32</td><td>i8</td><td>f64</td></tr></thead><tbody><tr><td>96821</td><td>0</td><td>0.373632</td></tr><tr><td>97411</td><td>0</td><td>0.456688</td></tr><tr><td>99431</td><td>0</td><td>0.090691</td></tr><tr><td>143782</td><td>0</td><td>0.4442</td></tr><tr><td>146902</td><td>0</td><td>0.176463</td></tr><tr><td>&hellip;</td><td>&hellip;</td><td>&hellip;</td></tr><tr><td>579240613</td><td>0</td><td>0.167218</td></tr><tr><td>579240613</td><td>0</td><td>0.188833</td></tr><tr><td>579247481</td><td>0</td><td>0.160502</td></tr><tr><td>579253363</td><td>0</td><td>0.235386</td></tr><tr><td>579253363</td><td>0</td><td>0.33952</td></tr></tbody></table></div>"
      ],
      "text/plain": [
       "shape: (2_928_942, 3)\n",
       "┌───────────────┬────────┬────────────┐\n",
       "│ impression_id ┆ target ┆ prediction │\n",
       "│ ---           ┆ ---    ┆ ---        │\n",
       "│ u32           ┆ i8     ┆ f64        │\n",
       "╞═══════════════╪════════╪════════════╡\n",
       "│ 96821         ┆ 0      ┆ 0.373632   │\n",
       "│ 97411         ┆ 0      ┆ 0.456688   │\n",
       "│ 99431         ┆ 0      ┆ 0.090691   │\n",
       "│ 143782        ┆ 0      ┆ 0.4442     │\n",
       "│ 146902        ┆ 0      ┆ 0.176463   │\n",
       "│ …             ┆ …      ┆ …          │\n",
       "│ 579240613     ┆ 0      ┆ 0.167218   │\n",
       "│ 579240613     ┆ 0      ┆ 0.188833   │\n",
       "│ 579247481     ┆ 0      ┆ 0.160502   │\n",
       "│ 579253363     ┆ 0      ┆ 0.235386   │\n",
       "│ 579253363     ┆ 0      ┆ 0.33952    │\n",
       "└───────────────┴────────┴────────────┘"
      ]
     },
     "execution_count": 55,
     "metadata": {},
     "output_type": "execute_result"
    }
   ],
   "source": [
    "# impression_id will be later useful for evaluation\n",
    "val_ds_pandas = val_ds.drop(['impression_id', 'article', 'user_id']).to_pandas()\n",
    "\n",
    "val_ds_pandas[categorical_columns] = val_ds_pandas[categorical_columns].astype('category')\n",
    "\n",
    "X_val = val_ds_pandas.drop(columns=['target'])\n",
    "y_val = val_ds_pandas['target']\n",
    "\n",
    "# doing model.predict_proba(...)[:, 1] to take only the probability of class 1\n",
    "# while by doing [:, 0] we take the probability of class 0\n",
    "val_ds = val_ds.with_columns(pl.Series(model.predict_proba(X_val)[:, 1]).alias('prediction'))\n",
    "val_ds.select(['impression_id', 'target', 'prediction'])"
   ]
  },
  {
   "cell_type": "code",
   "execution_count": 56,
   "id": "d7ed3a91",
   "metadata": {
    "execution": {
     "iopub.execute_input": "2024-04-07T21:14:43.071446Z",
     "iopub.status.busy": "2024-04-07T21:14:43.070728Z",
     "iopub.status.idle": "2024-04-07T21:14:43.306624Z",
     "shell.execute_reply": "2024-04-07T21:14:43.305411Z"
    },
    "papermill": {
     "duration": 0.327982,
     "end_time": "2024-04-07T21:14:43.310119",
     "exception": false,
     "start_time": "2024-04-07T21:14:42.982137",
     "status": "completed"
    },
    "tags": []
   },
   "outputs": [
    {
     "data": {
      "text/html": [
       "<div><style>\n",
       ".dataframe > thead > tr,\n",
       ".dataframe > tbody > tr {\n",
       "  text-align: right;\n",
       "  white-space: pre-wrap;\n",
       "}\n",
       "</style>\n",
       "<small>shape: (244_647, 3)</small><table border=\"1\" class=\"dataframe\"><thead><tr><th>impression_id</th><th>target</th><th>prediction</th></tr><tr><td>u32</td><td>list[i8]</td><td>list[f64]</td></tr></thead><tbody><tr><td>36803364</td><td>[0, 1, … 0]</td><td>[0.225818, 0.341776, … 0.470171]</td></tr><tr><td>342162312</td><td>[0, 0, … 0]</td><td>[0.07835, 0.297835, … 0.078118]</td></tr><tr><td>175865231</td><td>[0, 0, … 0]</td><td>[0.249943, 0.115199, … 0.16905]</td></tr><tr><td>507170409</td><td>[0, 0, … 0]</td><td>[0.047269, 0.145919, … 0.057393]</td></tr><tr><td>122956183</td><td>[0, 0, … 0]</td><td>[0.066712, 0.28735, … 0.269551]</td></tr><tr><td>&hellip;</td><td>&hellip;</td><td>&hellip;</td></tr><tr><td>302500038</td><td>[1, 0, … 0]</td><td>[0.585135, 0.410352, … 0.515099]</td></tr><tr><td>506695832</td><td>[0, 0, … 0]</td><td>[0.286769, 0.345479, … 0.289841]</td></tr><tr><td>114507018</td><td>[0, 0, … 0]</td><td>[0.020253, 0.188626, … 0.302232]</td></tr><tr><td>48043483</td><td>[0, 0, … 1]</td><td>[0.189621, 0.37023, … 0.296603]</td></tr><tr><td>320281569</td><td>[0, 0, … 0]</td><td>[0.278745, 0.099545, … 0.209804]</td></tr></tbody></table></div>"
      ],
      "text/plain": [
       "shape: (244_647, 3)\n",
       "┌───────────────┬─────────────┬──────────────────────────────────┐\n",
       "│ impression_id ┆ target      ┆ prediction                       │\n",
       "│ ---           ┆ ---         ┆ ---                              │\n",
       "│ u32           ┆ list[i8]    ┆ list[f64]                        │\n",
       "╞═══════════════╪═════════════╪══════════════════════════════════╡\n",
       "│ 36803364      ┆ [0, 1, … 0] ┆ [0.225818, 0.341776, … 0.470171] │\n",
       "│ 342162312     ┆ [0, 0, … 0] ┆ [0.07835, 0.297835, … 0.078118]  │\n",
       "│ 175865231     ┆ [0, 0, … 0] ┆ [0.249943, 0.115199, … 0.16905]  │\n",
       "│ 507170409     ┆ [0, 0, … 0] ┆ [0.047269, 0.145919, … 0.057393] │\n",
       "│ 122956183     ┆ [0, 0, … 0] ┆ [0.066712, 0.28735, … 0.269551]  │\n",
       "│ …             ┆ …           ┆ …                                │\n",
       "│ 302500038     ┆ [1, 0, … 0] ┆ [0.585135, 0.410352, … 0.515099] │\n",
       "│ 506695832     ┆ [0, 0, … 0] ┆ [0.286769, 0.345479, … 0.289841] │\n",
       "│ 114507018     ┆ [0, 0, … 0] ┆ [0.020253, 0.188626, … 0.302232] │\n",
       "│ 48043483      ┆ [0, 0, … 1] ┆ [0.189621, 0.37023, … 0.296603]  │\n",
       "│ 320281569     ┆ [0, 0, … 0] ┆ [0.278745, 0.099545, … 0.209804] │\n",
       "└───────────────┴─────────────┴──────────────────────────────────┘"
      ]
     },
     "execution_count": 56,
     "metadata": {},
     "output_type": "execute_result"
    }
   ],
   "source": [
    "evaluation_ds = val_ds.group_by('impression_id').agg(pl.col('target'), pl.col('prediction'))\n",
    "evaluation_ds"
   ]
  },
  {
   "cell_type": "code",
   "execution_count": 57,
   "id": "e4a39b81",
   "metadata": {
    "execution": {
     "iopub.execute_input": "2024-04-07T21:14:43.490663Z",
     "iopub.status.busy": "2024-04-07T21:14:43.490234Z",
     "iopub.status.idle": "2024-04-07T21:21:06.625176Z",
     "shell.execute_reply": "2024-04-07T21:21:06.624007Z"
    },
    "papermill": {
     "duration": 383.392529,
     "end_time": "2024-04-07T21:21:06.793894",
     "exception": false,
     "start_time": "2024-04-07T21:14:43.401365",
     "status": "completed"
    },
    "tags": []
   },
   "outputs": [
    {
     "name": "stdout",
     "output_type": "stream",
     "text": [
      "CPU times: user 6min 22s, sys: 440 ms, total: 6min 22s\n",
      "Wall time: 6min 23s\n"
     ]
    },
    {
     "data": {
      "text/plain": [
       "<MetricEvaluator class>: \n",
       " {\n",
       "    \"auc\": 0.7177584000809402,\n",
       "    \"mrr\": 0.4913057032836788,\n",
       "    \"ndcg@5\": 0.5503666186221362,\n",
       "    \"ndcg@10\": 0.5951008336557644\n",
       "}"
      ]
     },
     "execution_count": 57,
     "metadata": {},
     "output_type": "execute_result"
    }
   ],
   "source": [
    "%%time\n",
    "\n",
    "met_eval = MetricEvaluator(\n",
    "    labels=evaluation_ds['target'].to_list(),\n",
    "    predictions=evaluation_ds['prediction'].to_list(),\n",
    "    metric_functions=[\n",
    "        AucScore(),\n",
    "        MrrScore(),\n",
    "        NdcgScore(k=5),\n",
    "        NdcgScore(k=10),\n",
    "    ],\n",
    ")\n",
    "met_eval.evaluate()"
   ]
  }
 ],
 "metadata": {
  "kaggle": {
   "accelerator": "none",
   "dataSources": [
    {
     "datasetId": 4622414,
     "sourceId": 7914006,
     "sourceType": "datasetVersion"
    }
   ],
   "dockerImageVersionId": 30673,
   "isGpuEnabled": false,
   "isInternetEnabled": true,
   "language": "python",
   "sourceType": "notebook"
  },
  "kernelspec": {
   "display_name": "Python 3",
   "language": "python",
   "name": "python3"
  },
  "language_info": {
   "codemirror_mode": {
    "name": "ipython",
    "version": 3
   },
   "file_extension": ".py",
   "mimetype": "text/x-python",
   "name": "python",
   "nbconvert_exporter": "python",
   "pygments_lexer": "ipython3",
   "version": "3.10.13"
  },
  "papermill": {
   "default_parameters": {},
   "duration": 5575.599774,
   "end_time": "2024-04-07T21:21:10.093777",
   "environment_variables": {},
   "exception": null,
   "input_path": "__notebook__.ipynb",
   "output_path": "__notebook__.ipynb",
   "parameters": {},
   "start_time": "2024-04-07T19:48:14.494003",
   "version": "2.5.0"
  },
  "widgets": {
   "application/vnd.jupyter.widget-state+json": {
    "state": {
     "46d8ab1d46cf4d14978f4d2b493c2a92": {
      "model_module": "@jupyter-widgets/output",
      "model_module_version": "1.0.0",
      "model_name": "OutputModel",
      "state": {
       "_dom_classes": [],
       "_model_module": "@jupyter-widgets/output",
       "_model_module_version": "1.0.0",
       "_model_name": "OutputModel",
       "_view_count": null,
       "_view_module": "@jupyter-widgets/output",
       "_view_module_version": "1.0.0",
       "_view_name": "OutputView",
       "layout": "IPY_MODEL_a84e66ae938f4771bae7e21f71ee9c55",
       "msg_id": "",
       "outputs": [
        {
         "data": {
          "text/html": "<pre style=\"white-space:pre;overflow-x:auto;line-height:normal;font-family:Menlo,'DejaVu Sans Mono',consolas,'Courier New',monospace\">Getting category               <span style=\"color: #729c1f; text-decoration-color: #729c1f\">━━━━━━━━━━━━━━━━━━━━━━━━━━━━━━━━━━━━━━━━</span> <span style=\"color: #800080; text-decoration-color: #800080\">100%</span> <span style=\"color: #008080; text-decoration-color: #008080\">0:00:00</span>\nGetting article_type           <span style=\"color: #729c1f; text-decoration-color: #729c1f\">━━━━━━━━━━━━━━━━━━━━━━━━━━━━━━━━━━━━━━━━</span> <span style=\"color: #800080; text-decoration-color: #800080\">100%</span> <span style=\"color: #008080; text-decoration-color: #008080\">0:00:00</span>\nGetting sentiment_label        <span style=\"color: #729c1f; text-decoration-color: #729c1f\">━━━━━━━━━━━━━━━━━━━━━━━━━━━━━━━━━━━━━━━━</span> <span style=\"color: #800080; text-decoration-color: #800080\">100%</span> <span style=\"color: #008080; text-decoration-color: #008080\">0:00:00</span>\nGetting sentiment_score        <span style=\"color: #729c1f; text-decoration-color: #729c1f\">━━━━━━━━━━━━━━━━━━━━━━━━━━━━━━━━━━━━━━━━</span> <span style=\"color: #800080; text-decoration-color: #800080\">100%</span> <span style=\"color: #008080; text-decoration-color: #008080\">0:00:00</span>\nGetting entity_groups          <span style=\"color: #729c1f; text-decoration-color: #729c1f\">━━━━━━━━━━━━━━━━━━━━━━━━━━━━━━━━━━━━━━━━</span> <span style=\"color: #800080; text-decoration-color: #800080\">100%</span> <span style=\"color: #008080; text-decoration-color: #008080\">0:00:00</span>\nGetting detailed entity_groups <span style=\"color: #729c1f; text-decoration-color: #729c1f\">━━━━━━━━━━━━━━━━━━━━━━━━━━━━━━━━━━━━━━━━</span> <span style=\"color: #800080; text-decoration-color: #800080\">100%</span> <span style=\"color: #008080; text-decoration-color: #008080\">0:00:00</span>\nGetting topics                 <span style=\"color: #729c1f; text-decoration-color: #729c1f\">━━━━━━━━━━━━━━━━━━━━━━━━━━━━━━━━━━━━━━━━</span> <span style=\"color: #800080; text-decoration-color: #800080\">100%</span> <span style=\"color: #008080; text-decoration-color: #008080\">0:00:00</span>\n</pre>\n",
          "text/plain": "Getting category               \u001b[38;2;114;156;31m━━━━━━━━━━━━━━━━━━━━━━━━━━━━━━━━━━━━━━━━\u001b[0m \u001b[35m100%\u001b[0m \u001b[36m0:00:00\u001b[0m\nGetting article_type           \u001b[38;2;114;156;31m━━━━━━━━━━━━━━━━━━━━━━━━━━━━━━━━━━━━━━━━\u001b[0m \u001b[35m100%\u001b[0m \u001b[36m0:00:00\u001b[0m\nGetting sentiment_label        \u001b[38;2;114;156;31m━━━━━━━━━━━━━━━━━━━━━━━━━━━━━━━━━━━━━━━━\u001b[0m \u001b[35m100%\u001b[0m \u001b[36m0:00:00\u001b[0m\nGetting sentiment_score        \u001b[38;2;114;156;31m━━━━━━━━━━━━━━━━━━━━━━━━━━━━━━━━━━━━━━━━\u001b[0m \u001b[35m100%\u001b[0m \u001b[36m0:00:00\u001b[0m\nGetting entity_groups          \u001b[38;2;114;156;31m━━━━━━━━━━━━━━━━━━━━━━━━━━━━━━━━━━━━━━━━\u001b[0m \u001b[35m100%\u001b[0m \u001b[36m0:00:00\u001b[0m\nGetting detailed entity_groups \u001b[38;2;114;156;31m━━━━━━━━━━━━━━━━━━━━━━━━━━━━━━━━━━━━━━━━\u001b[0m \u001b[35m100%\u001b[0m \u001b[36m0:00:00\u001b[0m\nGetting topics                 \u001b[38;2;114;156;31m━━━━━━━━━━━━━━━━━━━━━━━━━━━━━━━━━━━━━━━━\u001b[0m \u001b[35m100%\u001b[0m \u001b[36m0:00:00\u001b[0m\n"
         },
         "metadata": {},
         "output_type": "display_data"
        }
       ]
      }
     },
     "71bf4046e9af422296671aab9819dece": {
      "model_module": "@jupyter-widgets/base",
      "model_module_version": "1.2.0",
      "model_name": "LayoutModel",
      "state": {
       "_model_module": "@jupyter-widgets/base",
       "_model_module_version": "1.2.0",
       "_model_name": "LayoutModel",
       "_view_count": null,
       "_view_module": "@jupyter-widgets/base",
       "_view_module_version": "1.2.0",
       "_view_name": "LayoutView",
       "align_content": null,
       "align_items": null,
       "align_self": null,
       "border": null,
       "bottom": null,
       "display": null,
       "flex": null,
       "flex_flow": null,
       "grid_area": null,
       "grid_auto_columns": null,
       "grid_auto_flow": null,
       "grid_auto_rows": null,
       "grid_column": null,
       "grid_gap": null,
       "grid_row": null,
       "grid_template_areas": null,
       "grid_template_columns": null,
       "grid_template_rows": null,
       "height": null,
       "justify_content": null,
       "justify_items": null,
       "left": null,
       "margin": null,
       "max_height": null,
       "max_width": null,
       "min_height": null,
       "min_width": null,
       "object_fit": null,
       "object_position": null,
       "order": null,
       "overflow": null,
       "overflow_x": null,
       "overflow_y": null,
       "padding": null,
       "right": null,
       "top": null,
       "visibility": null,
       "width": null
      }
     },
     "a84e66ae938f4771bae7e21f71ee9c55": {
      "model_module": "@jupyter-widgets/base",
      "model_module_version": "1.2.0",
      "model_name": "LayoutModel",
      "state": {
       "_model_module": "@jupyter-widgets/base",
       "_model_module_version": "1.2.0",
       "_model_name": "LayoutModel",
       "_view_count": null,
       "_view_module": "@jupyter-widgets/base",
       "_view_module_version": "1.2.0",
       "_view_name": "LayoutView",
       "align_content": null,
       "align_items": null,
       "align_self": null,
       "border": null,
       "bottom": null,
       "display": null,
       "flex": null,
       "flex_flow": null,
       "grid_area": null,
       "grid_auto_columns": null,
       "grid_auto_flow": null,
       "grid_auto_rows": null,
       "grid_column": null,
       "grid_gap": null,
       "grid_row": null,
       "grid_template_areas": null,
       "grid_template_columns": null,
       "grid_template_rows": null,
       "height": null,
       "justify_content": null,
       "justify_items": null,
       "left": null,
       "margin": null,
       "max_height": null,
       "max_width": null,
       "min_height": null,
       "min_width": null,
       "object_fit": null,
       "object_position": null,
       "order": null,
       "overflow": null,
       "overflow_x": null,
       "overflow_y": null,
       "padding": null,
       "right": null,
       "top": null,
       "visibility": null,
       "width": null
      }
     },
     "c655e58a35e3490888f01103be14ab47": {
      "model_module": "@jupyter-widgets/output",
      "model_module_version": "1.0.0",
      "model_name": "OutputModel",
      "state": {
       "_dom_classes": [],
       "_model_module": "@jupyter-widgets/output",
       "_model_module_version": "1.0.0",
       "_model_name": "OutputModel",
       "_view_count": null,
       "_view_module": "@jupyter-widgets/output",
       "_view_module_version": "1.0.0",
       "_view_name": "OutputView",
       "layout": "IPY_MODEL_71bf4046e9af422296671aab9819dece",
       "msg_id": "",
       "outputs": [
        {
         "data": {
          "text/html": "<pre style=\"white-space:pre;overflow-x:auto;line-height:normal;font-family:Menlo,'DejaVu Sans Mono',consolas,'Courier New',monospace\">Getting category               <span style=\"color: #729c1f; text-decoration-color: #729c1f\">━━━━━━━━━━━━━━━━━━━━━━━━━━━━━━━━━━━━━━━━</span> <span style=\"color: #800080; text-decoration-color: #800080\">100%</span> <span style=\"color: #008080; text-decoration-color: #008080\">0:00:00</span>\nGetting article_type           <span style=\"color: #729c1f; text-decoration-color: #729c1f\">━━━━━━━━━━━━━━━━━━━━━━━━━━━━━━━━━━━━━━━━</span> <span style=\"color: #800080; text-decoration-color: #800080\">100%</span> <span style=\"color: #008080; text-decoration-color: #008080\">0:00:00</span>\nGetting sentiment_label        <span style=\"color: #729c1f; text-decoration-color: #729c1f\">━━━━━━━━━━━━━━━━━━━━━━━━━━━━━━━━━━━━━━━━</span> <span style=\"color: #800080; text-decoration-color: #800080\">100%</span> <span style=\"color: #008080; text-decoration-color: #008080\">0:00:00</span>\nGetting sentiment_score        <span style=\"color: #729c1f; text-decoration-color: #729c1f\">━━━━━━━━━━━━━━━━━━━━━━━━━━━━━━━━━━━━━━━━</span> <span style=\"color: #800080; text-decoration-color: #800080\">100%</span> <span style=\"color: #008080; text-decoration-color: #008080\">0:00:00</span>\nGetting entity_groups          <span style=\"color: #729c1f; text-decoration-color: #729c1f\">━━━━━━━━━━━━━━━━━━━━━━━━━━━━━━━━━━━━━━━━</span> <span style=\"color: #800080; text-decoration-color: #800080\">100%</span> <span style=\"color: #008080; text-decoration-color: #008080\">0:00:00</span>\nGetting detailed entity_groups <span style=\"color: #729c1f; text-decoration-color: #729c1f\">━━━━━━━━━━━━━━━━━━━━━━━━━━━━━━━━━━━━━━━━</span> <span style=\"color: #800080; text-decoration-color: #800080\">100%</span> <span style=\"color: #008080; text-decoration-color: #008080\">0:00:00</span>\nGetting topics                 <span style=\"color: #729c1f; text-decoration-color: #729c1f\">━━━━━━━━━━━━━━━━━━━━━━━━━━━━━━━━━━━━━━━━</span> <span style=\"color: #800080; text-decoration-color: #800080\">100%</span> <span style=\"color: #008080; text-decoration-color: #008080\">0:00:00</span>\n</pre>\n",
          "text/plain": "Getting category               \u001b[38;2;114;156;31m━━━━━━━━━━━━━━━━━━━━━━━━━━━━━━━━━━━━━━━━\u001b[0m \u001b[35m100%\u001b[0m \u001b[36m0:00:00\u001b[0m\nGetting article_type           \u001b[38;2;114;156;31m━━━━━━━━━━━━━━━━━━━━━━━━━━━━━━━━━━━━━━━━\u001b[0m \u001b[35m100%\u001b[0m \u001b[36m0:00:00\u001b[0m\nGetting sentiment_label        \u001b[38;2;114;156;31m━━━━━━━━━━━━━━━━━━━━━━━━━━━━━━━━━━━━━━━━\u001b[0m \u001b[35m100%\u001b[0m \u001b[36m0:00:00\u001b[0m\nGetting sentiment_score        \u001b[38;2;114;156;31m━━━━━━━━━━━━━━━━━━━━━━━━━━━━━━━━━━━━━━━━\u001b[0m \u001b[35m100%\u001b[0m \u001b[36m0:00:00\u001b[0m\nGetting entity_groups          \u001b[38;2;114;156;31m━━━━━━━━━━━━━━━━━━━━━━━━━━━━━━━━━━━━━━━━\u001b[0m \u001b[35m100%\u001b[0m \u001b[36m0:00:00\u001b[0m\nGetting detailed entity_groups \u001b[38;2;114;156;31m━━━━━━━━━━━━━━━━━━━━━━━━━━━━━━━━━━━━━━━━\u001b[0m \u001b[35m100%\u001b[0m \u001b[36m0:00:00\u001b[0m\nGetting topics                 \u001b[38;2;114;156;31m━━━━━━━━━━━━━━━━━━━━━━━━━━━━━━━━━━━━━━━━\u001b[0m \u001b[35m100%\u001b[0m \u001b[36m0:00:00\u001b[0m\n"
         },
         "metadata": {},
         "output_type": "display_data"
        }
       ]
      }
     }
    },
    "version_major": 2,
    "version_minor": 0
   }
  }
 },
 "nbformat": 4,
 "nbformat_minor": 5
}
